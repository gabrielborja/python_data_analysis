{
  "nbformat": 4,
  "nbformat_minor": 0,
  "metadata": {
    "colab": {
      "name": "sustainability_analytics.ipynb",
      "provenance": [],
      "collapsed_sections": [
        "eTZwpRZNRhGY",
        "sgzkv1LwjLIL",
        "SfsO1iFXxmEq"
      ],
      "authorship_tag": "ABX9TyNSwdm9qOejNc6LgpkNXy48",
      "include_colab_link": true
    },
    "kernelspec": {
      "name": "python3",
      "display_name": "Python 3"
    },
    "language_info": {
      "name": "python"
    },
    "widgets": {
      "application/vnd.jupyter.widget-state+json": {
        "1c33b87cb2004ea8b83db8d8f6b8abc8": {
          "model_module": "@jupyter-widgets/controls",
          "model_name": "VBoxModel",
          "model_module_version": "1.5.0",
          "state": {
            "_view_name": "VBoxView",
            "_dom_classes": [
              "widget-interact"
            ],
            "_model_name": "VBoxModel",
            "_view_module": "@jupyter-widgets/controls",
            "_model_module_version": "1.5.0",
            "_view_count": null,
            "_view_module_version": "1.5.0",
            "box_style": "",
            "layout": "IPY_MODEL_ecfe38d89d9b4de19e1ae4f7873f81e2",
            "_model_module": "@jupyter-widgets/controls",
            "children": [
              "IPY_MODEL_0871a04fe31c44e7be871545c6d0beab",
              "IPY_MODEL_2548529c71b4488bb0496a30a48b33f6"
            ]
          }
        },
        "ecfe38d89d9b4de19e1ae4f7873f81e2": {
          "model_module": "@jupyter-widgets/base",
          "model_name": "LayoutModel",
          "model_module_version": "1.2.0",
          "state": {
            "_view_name": "LayoutView",
            "grid_template_rows": null,
            "right": null,
            "justify_content": null,
            "_view_module": "@jupyter-widgets/base",
            "overflow": null,
            "_model_module_version": "1.2.0",
            "_view_count": null,
            "flex_flow": null,
            "width": null,
            "min_width": null,
            "border": null,
            "align_items": null,
            "bottom": null,
            "_model_module": "@jupyter-widgets/base",
            "top": null,
            "grid_column": null,
            "overflow_y": null,
            "overflow_x": null,
            "grid_auto_flow": null,
            "grid_area": null,
            "grid_template_columns": null,
            "flex": null,
            "_model_name": "LayoutModel",
            "justify_items": null,
            "grid_row": null,
            "max_height": null,
            "align_content": null,
            "visibility": null,
            "align_self": null,
            "height": null,
            "min_height": null,
            "padding": null,
            "grid_auto_rows": null,
            "grid_gap": null,
            "max_width": null,
            "order": null,
            "_view_module_version": "1.2.0",
            "grid_template_areas": null,
            "object_position": null,
            "object_fit": null,
            "grid_auto_columns": null,
            "margin": null,
            "display": null,
            "left": null
          }
        },
        "0871a04fe31c44e7be871545c6d0beab": {
          "model_module": "@jupyter-widgets/controls",
          "model_name": "DropdownModel",
          "model_module_version": "1.5.0",
          "state": {
            "_options_labels": [
              "Abidjan",
              "Addis Abeba",
              "Ahmadabad",
              "Aleppo",
              "Alexandria",
              "Ankara",
              "Baghdad",
              "Bangalore",
              "Bangkok",
              "Belo Horizonte",
              "Berlin",
              "Bogotá",
              "Bombay",
              "Brasília",
              "Cairo",
              "Calcutta",
              "Cali",
              "Cape Town",
              "Casablanca",
              "Changchun",
              "Chengdu",
              "Chicago",
              "Chongqing",
              "Dakar",
              "Dalian",
              "Dar Es Salaam",
              "Delhi",
              "Dhaka",
              "Durban",
              "Faisalabad",
              "Fortaleza",
              "Gizeh",
              "Guangzhou",
              "Harare",
              "Harbin",
              "Ho Chi Minh City",
              "Hyderabad",
              "Ibadan",
              "Istanbul",
              "Izmir",
              "Jaipur",
              "Jakarta",
              "Jiddah",
              "Jinan",
              "Kabul",
              "Kano",
              "Kanpur",
              "Karachi",
              "Kiev",
              "Kinshasa",
              "Lagos",
              "Lahore",
              "Lakhnau",
              "Lima",
              "London",
              "Los Angeles",
              "Luanda",
              "Madras",
              "Madrid",
              "Manila",
              "Mashhad",
              "Melbourne",
              "Mexico",
              "Mogadishu",
              "Montreal",
              "Moscow",
              "Nagoya",
              "Nagpur",
              "Nairobi",
              "Nanjing",
              "New Delhi",
              "New York",
              "Paris",
              "Peking",
              "Pune",
              "Rangoon",
              "Rio De Janeiro",
              "Riyadh",
              "Rome",
              "Saint Petersburg",
              "Salvador",
              "Santiago",
              "Santo Domingo",
              "Seoul",
              "Shanghai",
              "Shenyang",
              "Singapore",
              "Surabaya",
              "Surat",
              "Sydney",
              "São Paulo",
              "Taipei",
              "Taiyuan",
              "Tangshan",
              "Tianjin",
              "Tokyo",
              "Toronto",
              "Umm Durman",
              "Wuhan",
              "Xian"
            ],
            "_view_name": "DropdownView",
            "style": "IPY_MODEL_91f1d63ceda4417f948616f8e8a11255",
            "_dom_classes": [],
            "description": "City",
            "_model_name": "DropdownModel",
            "index": 14,
            "_view_module": "@jupyter-widgets/controls",
            "_model_module_version": "1.5.0",
            "_view_count": null,
            "disabled": false,
            "_view_module_version": "1.5.0",
            "description_tooltip": null,
            "_model_module": "@jupyter-widgets/controls",
            "layout": "IPY_MODEL_213531420f974dd8ab359e0148f260bf"
          }
        },
        "2548529c71b4488bb0496a30a48b33f6": {
          "model_module": "@jupyter-widgets/output",
          "model_name": "OutputModel",
          "model_module_version": "1.0.0",
          "state": {
            "_view_name": "OutputView",
            "msg_id": "",
            "_dom_classes": [],
            "_model_name": "OutputModel",
            "outputs": [
              {
                "output_type": "display_data",
                "metadata": {
                  "tags": []
                },
                "text/html": "<html>\n<head><meta charset=\"utf-8\" /></head>\n<body>\n    <div>            <script src=\"https://cdnjs.cloudflare.com/ajax/libs/mathjax/2.7.5/MathJax.js?config=TeX-AMS-MML_SVG\"></script><script type=\"text/javascript\">if (window.MathJax) {MathJax.Hub.Config({SVG: {font: \"STIX-Web\"}});}</script>                <script type=\"text/javascript\">window.PlotlyConfig = {MathJaxConfig: 'local'};</script>\n        <script src=\"https://cdn.plot.ly/plotly-2.2.0.min.js\"></script>                <div id=\"77bba9f5-600b-4b21-9b89-cad4f882490c\" class=\"plotly-graph-div\" style=\"height:450px; width:900px;\"></div>            <script type=\"text/javascript\">                                    window.PLOTLYENV=window.PLOTLYENV || {};                                    if (document.getElementById(\"77bba9f5-600b-4b21-9b89-cad4f882490c\")) {                    Plotly.newPlot(                        \"77bba9f5-600b-4b21-9b89-cad4f882490c\",                        [{\"alignmentgroup\":\"True\",\"hovertemplate\":\"Decade=1900<br>Month=%{x}<br>Mean_temp=%{y}<extra></extra>\",\"legendgroup\":\"\",\"marker\":{\"color\":\"#636efa\",\"pattern\":{\"shape\":\"\"}},\"name\":\"\",\"offsetgroup\":\"\",\"orientation\":\"v\",\"showlegend\":false,\"textposition\":\"auto\",\"type\":\"bar\",\"x\":[1,2,3,4,5,6,7,8,9,10,11,12],\"xaxis\":\"x\",\"y\":[12.2599,14.2867,16.963,20.5998,24.7384,26.876,27.89690000000001,27.7458,25.5196,23.1002,18.3643,14.0194],\"yaxis\":\"y\"}],                        {\"barmode\":\"relative\",\"height\":450,\"legend\":{\"tracegroupgap\":0},\"sliders\":[{\"active\":0,\"currentvalue\":{\"prefix\":\"Decade=\"},\"len\":0.9,\"pad\":{\"b\":10,\"t\":60},\"steps\":[{\"args\":[[\"1900\"],{\"frame\":{\"duration\":0,\"redraw\":true},\"fromcurrent\":true,\"mode\":\"immediate\",\"transition\":{\"duration\":0,\"easing\":\"linear\"}}],\"label\":\"1900\",\"method\":\"animate\"},{\"args\":[[\"1910\"],{\"frame\":{\"duration\":0,\"redraw\":true},\"fromcurrent\":true,\"mode\":\"immediate\",\"transition\":{\"duration\":0,\"easing\":\"linear\"}}],\"label\":\"1910\",\"method\":\"animate\"},{\"args\":[[\"1920\"],{\"frame\":{\"duration\":0,\"redraw\":true},\"fromcurrent\":true,\"mode\":\"immediate\",\"transition\":{\"duration\":0,\"easing\":\"linear\"}}],\"label\":\"1920\",\"method\":\"animate\"},{\"args\":[[\"1930\"],{\"frame\":{\"duration\":0,\"redraw\":true},\"fromcurrent\":true,\"mode\":\"immediate\",\"transition\":{\"duration\":0,\"easing\":\"linear\"}}],\"label\":\"1930\",\"method\":\"animate\"},{\"args\":[[\"1940\"],{\"frame\":{\"duration\":0,\"redraw\":true},\"fromcurrent\":true,\"mode\":\"immediate\",\"transition\":{\"duration\":0,\"easing\":\"linear\"}}],\"label\":\"1940\",\"method\":\"animate\"},{\"args\":[[\"1950\"],{\"frame\":{\"duration\":0,\"redraw\":true},\"fromcurrent\":true,\"mode\":\"immediate\",\"transition\":{\"duration\":0,\"easing\":\"linear\"}}],\"label\":\"1950\",\"method\":\"animate\"},{\"args\":[[\"1960\"],{\"frame\":{\"duration\":0,\"redraw\":true},\"fromcurrent\":true,\"mode\":\"immediate\",\"transition\":{\"duration\":0,\"easing\":\"linear\"}}],\"label\":\"1960\",\"method\":\"animate\"},{\"args\":[[\"1970\"],{\"frame\":{\"duration\":0,\"redraw\":true},\"fromcurrent\":true,\"mode\":\"immediate\",\"transition\":{\"duration\":0,\"easing\":\"linear\"}}],\"label\":\"1970\",\"method\":\"animate\"},{\"args\":[[\"1980\"],{\"frame\":{\"duration\":0,\"redraw\":true},\"fromcurrent\":true,\"mode\":\"immediate\",\"transition\":{\"duration\":0,\"easing\":\"linear\"}}],\"label\":\"1980\",\"method\":\"animate\"},{\"args\":[[\"1990\"],{\"frame\":{\"duration\":0,\"redraw\":true},\"fromcurrent\":true,\"mode\":\"immediate\",\"transition\":{\"duration\":0,\"easing\":\"linear\"}}],\"label\":\"1990\",\"method\":\"animate\"},{\"args\":[[\"2000\"],{\"frame\":{\"duration\":0,\"redraw\":true},\"fromcurrent\":true,\"mode\":\"immediate\",\"transition\":{\"duration\":0,\"easing\":\"linear\"}}],\"label\":\"2000\",\"method\":\"animate\"},{\"args\":[[\"2010\"],{\"frame\":{\"duration\":0,\"redraw\":true},\"fromcurrent\":true,\"mode\":\"immediate\",\"transition\":{\"duration\":0,\"easing\":\"linear\"}}],\"label\":\"2010\",\"method\":\"animate\"}],\"x\":0.1,\"xanchor\":\"left\",\"y\":0,\"yanchor\":\"top\"}],\"template\":{\"data\":{\"bar\":[{\"error_x\":{\"color\":\"#2a3f5f\"},\"error_y\":{\"color\":\"#2a3f5f\"},\"marker\":{\"line\":{\"color\":\"#E5ECF6\",\"width\":0.5},\"pattern\":{\"fillmode\":\"overlay\",\"size\":10,\"solidity\":0.2}},\"type\":\"bar\"}],\"barpolar\":[{\"marker\":{\"line\":{\"color\":\"#E5ECF6\",\"width\":0.5},\"pattern\":{\"fillmode\":\"overlay\",\"size\":10,\"solidity\":0.2}},\"type\":\"barpolar\"}],\"carpet\":[{\"aaxis\":{\"endlinecolor\":\"#2a3f5f\",\"gridcolor\":\"white\",\"linecolor\":\"white\",\"minorgridcolor\":\"white\",\"startlinecolor\":\"#2a3f5f\"},\"baxis\":{\"endlinecolor\":\"#2a3f5f\",\"gridcolor\":\"white\",\"linecolor\":\"white\",\"minorgridcolor\":\"white\",\"startlinecolor\":\"#2a3f5f\"},\"type\":\"carpet\"}],\"choropleth\":[{\"colorbar\":{\"outlinewidth\":0,\"ticks\":\"\"},\"type\":\"choropleth\"}],\"contour\":[{\"colorbar\":{\"outlinewidth\":0,\"ticks\":\"\"},\"colorscale\":[[0.0,\"#0d0887\"],[0.1111111111111111,\"#46039f\"],[0.2222222222222222,\"#7201a8\"],[0.3333333333333333,\"#9c179e\"],[0.4444444444444444,\"#bd3786\"],[0.5555555555555556,\"#d8576b\"],[0.6666666666666666,\"#ed7953\"],[0.7777777777777778,\"#fb9f3a\"],[0.8888888888888888,\"#fdca26\"],[1.0,\"#f0f921\"]],\"type\":\"contour\"}],\"contourcarpet\":[{\"colorbar\":{\"outlinewidth\":0,\"ticks\":\"\"},\"type\":\"contourcarpet\"}],\"heatmap\":[{\"colorbar\":{\"outlinewidth\":0,\"ticks\":\"\"},\"colorscale\":[[0.0,\"#0d0887\"],[0.1111111111111111,\"#46039f\"],[0.2222222222222222,\"#7201a8\"],[0.3333333333333333,\"#9c179e\"],[0.4444444444444444,\"#bd3786\"],[0.5555555555555556,\"#d8576b\"],[0.6666666666666666,\"#ed7953\"],[0.7777777777777778,\"#fb9f3a\"],[0.8888888888888888,\"#fdca26\"],[1.0,\"#f0f921\"]],\"type\":\"heatmap\"}],\"heatmapgl\":[{\"colorbar\":{\"outlinewidth\":0,\"ticks\":\"\"},\"colorscale\":[[0.0,\"#0d0887\"],[0.1111111111111111,\"#46039f\"],[0.2222222222222222,\"#7201a8\"],[0.3333333333333333,\"#9c179e\"],[0.4444444444444444,\"#bd3786\"],[0.5555555555555556,\"#d8576b\"],[0.6666666666666666,\"#ed7953\"],[0.7777777777777778,\"#fb9f3a\"],[0.8888888888888888,\"#fdca26\"],[1.0,\"#f0f921\"]],\"type\":\"heatmapgl\"}],\"histogram\":[{\"marker\":{\"pattern\":{\"fillmode\":\"overlay\",\"size\":10,\"solidity\":0.2}},\"type\":\"histogram\"}],\"histogram2d\":[{\"colorbar\":{\"outlinewidth\":0,\"ticks\":\"\"},\"colorscale\":[[0.0,\"#0d0887\"],[0.1111111111111111,\"#46039f\"],[0.2222222222222222,\"#7201a8\"],[0.3333333333333333,\"#9c179e\"],[0.4444444444444444,\"#bd3786\"],[0.5555555555555556,\"#d8576b\"],[0.6666666666666666,\"#ed7953\"],[0.7777777777777778,\"#fb9f3a\"],[0.8888888888888888,\"#fdca26\"],[1.0,\"#f0f921\"]],\"type\":\"histogram2d\"}],\"histogram2dcontour\":[{\"colorbar\":{\"outlinewidth\":0,\"ticks\":\"\"},\"colorscale\":[[0.0,\"#0d0887\"],[0.1111111111111111,\"#46039f\"],[0.2222222222222222,\"#7201a8\"],[0.3333333333333333,\"#9c179e\"],[0.4444444444444444,\"#bd3786\"],[0.5555555555555556,\"#d8576b\"],[0.6666666666666666,\"#ed7953\"],[0.7777777777777778,\"#fb9f3a\"],[0.8888888888888888,\"#fdca26\"],[1.0,\"#f0f921\"]],\"type\":\"histogram2dcontour\"}],\"mesh3d\":[{\"colorbar\":{\"outlinewidth\":0,\"ticks\":\"\"},\"type\":\"mesh3d\"}],\"parcoords\":[{\"line\":{\"colorbar\":{\"outlinewidth\":0,\"ticks\":\"\"}},\"type\":\"parcoords\"}],\"pie\":[{\"automargin\":true,\"type\":\"pie\"}],\"scatter\":[{\"marker\":{\"colorbar\":{\"outlinewidth\":0,\"ticks\":\"\"}},\"type\":\"scatter\"}],\"scatter3d\":[{\"line\":{\"colorbar\":{\"outlinewidth\":0,\"ticks\":\"\"}},\"marker\":{\"colorbar\":{\"outlinewidth\":0,\"ticks\":\"\"}},\"type\":\"scatter3d\"}],\"scattercarpet\":[{\"marker\":{\"colorbar\":{\"outlinewidth\":0,\"ticks\":\"\"}},\"type\":\"scattercarpet\"}],\"scattergeo\":[{\"marker\":{\"colorbar\":{\"outlinewidth\":0,\"ticks\":\"\"}},\"type\":\"scattergeo\"}],\"scattergl\":[{\"marker\":{\"colorbar\":{\"outlinewidth\":0,\"ticks\":\"\"}},\"type\":\"scattergl\"}],\"scattermapbox\":[{\"marker\":{\"colorbar\":{\"outlinewidth\":0,\"ticks\":\"\"}},\"type\":\"scattermapbox\"}],\"scatterpolar\":[{\"marker\":{\"colorbar\":{\"outlinewidth\":0,\"ticks\":\"\"}},\"type\":\"scatterpolar\"}],\"scatterpolargl\":[{\"marker\":{\"colorbar\":{\"outlinewidth\":0,\"ticks\":\"\"}},\"type\":\"scatterpolargl\"}],\"scatterternary\":[{\"marker\":{\"colorbar\":{\"outlinewidth\":0,\"ticks\":\"\"}},\"type\":\"scatterternary\"}],\"surface\":[{\"colorbar\":{\"outlinewidth\":0,\"ticks\":\"\"},\"colorscale\":[[0.0,\"#0d0887\"],[0.1111111111111111,\"#46039f\"],[0.2222222222222222,\"#7201a8\"],[0.3333333333333333,\"#9c179e\"],[0.4444444444444444,\"#bd3786\"],[0.5555555555555556,\"#d8576b\"],[0.6666666666666666,\"#ed7953\"],[0.7777777777777778,\"#fb9f3a\"],[0.8888888888888888,\"#fdca26\"],[1.0,\"#f0f921\"]],\"type\":\"surface\"}],\"table\":[{\"cells\":{\"fill\":{\"color\":\"#EBF0F8\"},\"line\":{\"color\":\"white\"}},\"header\":{\"fill\":{\"color\":\"#C8D4E3\"},\"line\":{\"color\":\"white\"}},\"type\":\"table\"}]},\"layout\":{\"annotationdefaults\":{\"arrowcolor\":\"#2a3f5f\",\"arrowhead\":0,\"arrowwidth\":1},\"autotypenumbers\":\"strict\",\"coloraxis\":{\"colorbar\":{\"outlinewidth\":0,\"ticks\":\"\"}},\"colorscale\":{\"diverging\":[[0,\"#8e0152\"],[0.1,\"#c51b7d\"],[0.2,\"#de77ae\"],[0.3,\"#f1b6da\"],[0.4,\"#fde0ef\"],[0.5,\"#f7f7f7\"],[0.6,\"#e6f5d0\"],[0.7,\"#b8e186\"],[0.8,\"#7fbc41\"],[0.9,\"#4d9221\"],[1,\"#276419\"]],\"sequential\":[[0.0,\"#0d0887\"],[0.1111111111111111,\"#46039f\"],[0.2222222222222222,\"#7201a8\"],[0.3333333333333333,\"#9c179e\"],[0.4444444444444444,\"#bd3786\"],[0.5555555555555556,\"#d8576b\"],[0.6666666666666666,\"#ed7953\"],[0.7777777777777778,\"#fb9f3a\"],[0.8888888888888888,\"#fdca26\"],[1.0,\"#f0f921\"]],\"sequentialminus\":[[0.0,\"#0d0887\"],[0.1111111111111111,\"#46039f\"],[0.2222222222222222,\"#7201a8\"],[0.3333333333333333,\"#9c179e\"],[0.4444444444444444,\"#bd3786\"],[0.5555555555555556,\"#d8576b\"],[0.6666666666666666,\"#ed7953\"],[0.7777777777777778,\"#fb9f3a\"],[0.8888888888888888,\"#fdca26\"],[1.0,\"#f0f921\"]]},\"colorway\":[\"#636efa\",\"#EF553B\",\"#00cc96\",\"#ab63fa\",\"#FFA15A\",\"#19d3f3\",\"#FF6692\",\"#B6E880\",\"#FF97FF\",\"#FECB52\"],\"font\":{\"color\":\"#2a3f5f\"},\"geo\":{\"bgcolor\":\"white\",\"lakecolor\":\"white\",\"landcolor\":\"#E5ECF6\",\"showlakes\":true,\"showland\":true,\"subunitcolor\":\"white\"},\"hoverlabel\":{\"align\":\"left\"},\"hovermode\":\"closest\",\"mapbox\":{\"style\":\"light\"},\"paper_bgcolor\":\"white\",\"plot_bgcolor\":\"#E5ECF6\",\"polar\":{\"angularaxis\":{\"gridcolor\":\"white\",\"linecolor\":\"white\",\"ticks\":\"\"},\"bgcolor\":\"#E5ECF6\",\"radialaxis\":{\"gridcolor\":\"white\",\"linecolor\":\"white\",\"ticks\":\"\"}},\"scene\":{\"xaxis\":{\"backgroundcolor\":\"#E5ECF6\",\"gridcolor\":\"white\",\"gridwidth\":2,\"linecolor\":\"white\",\"showbackground\":true,\"ticks\":\"\",\"zerolinecolor\":\"white\"},\"yaxis\":{\"backgroundcolor\":\"#E5ECF6\",\"gridcolor\":\"white\",\"gridwidth\":2,\"linecolor\":\"white\",\"showbackground\":true,\"ticks\":\"\",\"zerolinecolor\":\"white\"},\"zaxis\":{\"backgroundcolor\":\"#E5ECF6\",\"gridcolor\":\"white\",\"gridwidth\":2,\"linecolor\":\"white\",\"showbackground\":true,\"ticks\":\"\",\"zerolinecolor\":\"white\"}},\"shapedefaults\":{\"line\":{\"color\":\"#2a3f5f\"}},\"ternary\":{\"aaxis\":{\"gridcolor\":\"white\",\"linecolor\":\"white\",\"ticks\":\"\"},\"baxis\":{\"gridcolor\":\"white\",\"linecolor\":\"white\",\"ticks\":\"\"},\"bgcolor\":\"#E5ECF6\",\"caxis\":{\"gridcolor\":\"white\",\"linecolor\":\"white\",\"ticks\":\"\"}},\"title\":{\"x\":0.05},\"xaxis\":{\"automargin\":true,\"gridcolor\":\"white\",\"linecolor\":\"white\",\"ticks\":\"\",\"title\":{\"standoff\":15},\"zerolinecolor\":\"white\",\"zerolinewidth\":2},\"yaxis\":{\"automargin\":true,\"gridcolor\":\"white\",\"linecolor\":\"white\",\"ticks\":\"\",\"title\":{\"standoff\":15},\"zerolinecolor\":\"white\",\"zerolinewidth\":2}}},\"title\":{\"text\":\"Average Temperature \\u00b0C by month in Cairo\"},\"updatemenus\":[{\"buttons\":[{\"args\":[null,{\"frame\":{\"duration\":500,\"redraw\":true},\"fromcurrent\":true,\"mode\":\"immediate\",\"transition\":{\"duration\":500,\"easing\":\"linear\"}}],\"label\":\"&#9654;\",\"method\":\"animate\"},{\"args\":[[null],{\"frame\":{\"duration\":0,\"redraw\":true},\"fromcurrent\":true,\"mode\":\"immediate\",\"transition\":{\"duration\":0,\"easing\":\"linear\"}}],\"label\":\"&#9724;\",\"method\":\"animate\"}],\"direction\":\"left\",\"pad\":{\"r\":10,\"t\":70},\"showactive\":false,\"type\":\"buttons\",\"x\":0.1,\"xanchor\":\"right\",\"y\":0,\"yanchor\":\"top\"}],\"width\":900,\"xaxis\":{\"anchor\":\"y\",\"domain\":[0.0,1.0],\"title\":{\"text\":\"Month\"}},\"yaxis\":{\"anchor\":\"x\",\"domain\":[0.0,1.0],\"title\":{\"text\":\"Mean_temp\"}}},                        {\"responsive\": true}                    ).then(function(){\n                            Plotly.addFrames('77bba9f5-600b-4b21-9b89-cad4f882490c', [{\"data\":[{\"alignmentgroup\":\"True\",\"hovertemplate\":\"Decade=1900<br>Month=%{x}<br>Mean_temp=%{y}<extra></extra>\",\"legendgroup\":\"\",\"marker\":{\"color\":\"#636efa\",\"pattern\":{\"shape\":\"\"}},\"name\":\"\",\"offsetgroup\":\"\",\"orientation\":\"v\",\"showlegend\":false,\"textposition\":\"auto\",\"type\":\"bar\",\"x\":[1,2,3,4,5,6,7,8,9,10,11,12],\"xaxis\":\"x\",\"y\":[12.2599,14.2867,16.963,20.5998,24.7384,26.876,27.89690000000001,27.7458,25.5196,23.1002,18.3643,14.0194],\"yaxis\":\"y\"}],\"name\":\"1900\"},{\"data\":[{\"alignmentgroup\":\"True\",\"hovertemplate\":\"Decade=1910<br>Month=%{x}<br>Mean_temp=%{y}<extra></extra>\",\"legendgroup\":\"\",\"marker\":{\"color\":\"#636efa\",\"pattern\":{\"shape\":\"\"}},\"name\":\"\",\"offsetgroup\":\"\",\"orientation\":\"v\",\"showlegend\":false,\"textposition\":\"auto\",\"type\":\"bar\",\"x\":[1,2,3,4,5,6,7,8,9,10,11,12],\"xaxis\":\"x\",\"y\":[12.8645,14.3247,17.2138,20.6754,23.9043,26.8152,27.8038,27.6154,25.5587,22.8958,19.0989,14.2714],\"yaxis\":\"y\"}],\"name\":\"1910\"},{\"data\":[{\"alignmentgroup\":\"True\",\"hovertemplate\":\"Decade=1920<br>Month=%{x}<br>Mean_temp=%{y}<extra></extra>\",\"legendgroup\":\"\",\"marker\":{\"color\":\"#636efa\",\"pattern\":{\"shape\":\"\"}},\"name\":\"\",\"offsetgroup\":\"\",\"orientation\":\"v\",\"showlegend\":false,\"textposition\":\"auto\",\"type\":\"bar\",\"x\":[1,2,3,4,5,6,7,8,9,10,11,12],\"xaxis\":\"x\",\"y\":[12.8695,13.6983,16.8192,20.8477,25.0347,27.3585,28.0797,28.2147,25.9538,23.0259,19.3397,14.3384],\"yaxis\":\"y\"}],\"name\":\"1920\"},{\"data\":[{\"alignmentgroup\":\"True\",\"hovertemplate\":\"Decade=1930<br>Month=%{x}<br>Mean_temp=%{y}<extra></extra>\",\"legendgroup\":\"\",\"marker\":{\"color\":\"#636efa\",\"pattern\":{\"shape\":\"\"}},\"name\":\"\",\"offsetgroup\":\"\",\"orientation\":\"v\",\"showlegend\":false,\"textposition\":\"auto\",\"type\":\"bar\",\"x\":[1,2,3,4,5,6,7,8,9,10,11,12],\"xaxis\":\"x\",\"y\":[13.157,14.3853,17.5977,20.95950000000001,24.9326,27.3346,28.2686,28.0926,26.1075,23.7095,19.3969,14.9517],\"yaxis\":\"y\"}],\"name\":\"1930\"},{\"data\":[{\"alignmentgroup\":\"True\",\"hovertemplate\":\"Decade=1940<br>Month=%{x}<br>Mean_temp=%{y}<extra></extra>\",\"legendgroup\":\"\",\"marker\":{\"color\":\"#636efa\",\"pattern\":{\"shape\":\"\"}},\"name\":\"\",\"offsetgroup\":\"\",\"orientation\":\"v\",\"showlegend\":false,\"textposition\":\"auto\",\"type\":\"bar\",\"x\":[1,2,3,4,5,6,7,8,9,10,11,12],\"xaxis\":\"x\",\"y\":[13.1751,14.3521,16.6881,20.2138,25.3476,27.2993,28.2335,27.9964,25.7334,23.24740000000001,19.6191,14.6258],\"yaxis\":\"y\"}],\"name\":\"1940\"},{\"data\":[{\"alignmentgroup\":\"True\",\"hovertemplate\":\"Decade=1950<br>Month=%{x}<br>Mean_temp=%{y}<extra></extra>\",\"legendgroup\":\"\",\"marker\":{\"color\":\"#636efa\",\"pattern\":{\"shape\":\"\"}},\"name\":\"\",\"offsetgroup\":\"\",\"orientation\":\"v\",\"showlegend\":false,\"textposition\":\"auto\",\"type\":\"bar\",\"x\":[1,2,3,4,5,6,7,8,9,10,11,12],\"xaxis\":\"x\",\"y\":[13.0765,14.6512,17.3015,21.2483,24.9409,27.4602,28.5202,28.4614,26.2776,23.2253,18.9851,14.7962],\"yaxis\":\"y\"}],\"name\":\"1950\"},{\"data\":[{\"alignmentgroup\":\"True\",\"hovertemplate\":\"Decade=1960<br>Month=%{x}<br>Mean_temp=%{y}<extra></extra>\",\"legendgroup\":\"\",\"marker\":{\"color\":\"#636efa\",\"pattern\":{\"shape\":\"\"}},\"name\":\"\",\"offsetgroup\":\"\",\"orientation\":\"v\",\"showlegend\":false,\"textposition\":\"auto\",\"type\":\"bar\",\"x\":[1,2,3,4,5,6,7,8,9,10,11,12],\"xaxis\":\"x\",\"y\":[13.0516,14.5773,17.5015,21.1123,24.9099,28.2244,28.2558,28.2151,26.0626,23.5196,19.4662,15.0455],\"yaxis\":\"y\"}],\"name\":\"1960\"},{\"data\":[{\"alignmentgroup\":\"True\",\"hovertemplate\":\"Decade=1970<br>Month=%{x}<br>Mean_temp=%{y}<extra></extra>\",\"legendgroup\":\"\",\"marker\":{\"color\":\"#636efa\",\"pattern\":{\"shape\":\"\"}},\"name\":\"\",\"offsetgroup\":\"\",\"orientation\":\"v\",\"showlegend\":false,\"textposition\":\"auto\",\"type\":\"bar\",\"x\":[1,2,3,4,5,6,7,8,9,10,11,12],\"xaxis\":\"x\",\"y\":[13.1941,15.0403,17.7621,21.593,25.1507,27.4631,28.31930000000001,27.7307,26.1706,23.3751,18.6083,14.079],\"yaxis\":\"y\"}],\"name\":\"1970\"},{\"data\":[{\"alignmentgroup\":\"True\",\"hovertemplate\":\"Decade=1980<br>Month=%{x}<br>Mean_temp=%{y}<extra></extra>\",\"legendgroup\":\"\",\"marker\":{\"color\":\"#636efa\",\"pattern\":{\"shape\":\"\"}},\"name\":\"\",\"offsetgroup\":\"\",\"orientation\":\"v\",\"showlegend\":false,\"textposition\":\"auto\",\"type\":\"bar\",\"x\":[1,2,3,4,5,6,7,8,9,10,11,12],\"xaxis\":\"x\",\"y\":[12.8372,14.0647,17.0104,21.5121,25.1688,27.709,28.4096,28.1223,26.2316,22.7479,18.2361,14.2714],\"yaxis\":\"y\"}],\"name\":\"1980\"},{\"data\":[{\"alignmentgroup\":\"True\",\"hovertemplate\":\"Decade=1990<br>Month=%{x}<br>Mean_temp=%{y}<extra></extra>\",\"legendgroup\":\"\",\"marker\":{\"color\":\"#636efa\",\"pattern\":{\"shape\":\"\"}},\"name\":\"\",\"offsetgroup\":\"\",\"orientation\":\"v\",\"showlegend\":false,\"textposition\":\"auto\",\"type\":\"bar\",\"x\":[1,2,3,4,5,6,7,8,9,10,11,12],\"xaxis\":\"x\",\"y\":[13.3722,14.1697,17.0563,21.3076,25.1485,27.9553,28.8503,28.583,26.7787,24.0534,19.3224,14.6544],\"yaxis\":\"y\"}],\"name\":\"1990\"},{\"data\":[{\"alignmentgroup\":\"True\",\"hovertemplate\":\"Decade=2000<br>Month=%{x}<br>Mean_temp=%{y}<extra></extra>\",\"legendgroup\":\"\",\"marker\":{\"color\":\"#636efa\",\"pattern\":{\"shape\":\"\"}},\"name\":\"\",\"offsetgroup\":\"\",\"orientation\":\"v\",\"showlegend\":false,\"textposition\":\"auto\",\"type\":\"bar\",\"x\":[1,2,3,4,5,6,7,8,9,10,11,12],\"xaxis\":\"x\",\"y\":[13.4605,14.7848,18.1998,21.7769,25.5732,28.3201,29.6462,29.1917,27.2549,23.7745,19.4249,15.1971],\"yaxis\":\"y\"}],\"name\":\"2000\"},{\"data\":[{\"alignmentgroup\":\"True\",\"hovertemplate\":\"Decade=2010<br>Month=%{x}<br>Mean_temp=%{y}<extra></extra>\",\"legendgroup\":\"\",\"marker\":{\"color\":\"#636efa\",\"pattern\":{\"shape\":\"\"}},\"name\":\"\",\"offsetgroup\":\"\",\"orientation\":\"v\",\"showlegend\":false,\"textposition\":\"auto\",\"type\":\"bar\",\"x\":[1,2,3,4,5,6,7,8,9,10,11,12],\"xaxis\":\"x\",\"y\":[14.20025,16.0245,18.43375,22.01925,26.3005,28.6055,29.3905,29.4435,27.673,24.83633333333333,19.89566666666667,15.54766666666667],\"yaxis\":\"y\"}],\"name\":\"2010\"}]);\n                        }).then(function(){\n                            \nvar gd = document.getElementById('77bba9f5-600b-4b21-9b89-cad4f882490c');\nvar x = new MutationObserver(function (mutations, observer) {{\n        var display = window.getComputedStyle(gd).display;\n        if (!display || display === 'none') {{\n            console.log([gd, 'removed!']);\n            Plotly.purge(gd);\n            observer.disconnect();\n        }}\n}});\n\n// Listen for the removal of the full notebook cells\nvar notebookContainer = gd.closest('#notebook-container');\nif (notebookContainer) {{\n    x.observe(notebookContainer, {childList: true});\n}}\n\n// Listen for the clearing of the current output cell\nvar outputEl = gd.closest('.output');\nif (outputEl) {{\n    x.observe(outputEl, {childList: true});\n}}\n\n                        })                };                            </script>        </div>\n</body>\n</html>"
              }
            ],
            "_view_module": "@jupyter-widgets/output",
            "_model_module_version": "1.0.0",
            "_view_count": null,
            "_view_module_version": "1.0.0",
            "layout": "IPY_MODEL_92de7fc1f130489b8dde12a6f48256be",
            "_model_module": "@jupyter-widgets/output"
          }
        },
        "91f1d63ceda4417f948616f8e8a11255": {
          "model_module": "@jupyter-widgets/controls",
          "model_name": "DescriptionStyleModel",
          "model_module_version": "1.5.0",
          "state": {
            "_view_name": "StyleView",
            "_model_name": "DescriptionStyleModel",
            "description_width": "",
            "_view_module": "@jupyter-widgets/base",
            "_model_module_version": "1.5.0",
            "_view_count": null,
            "_view_module_version": "1.2.0",
            "_model_module": "@jupyter-widgets/controls"
          }
        },
        "213531420f974dd8ab359e0148f260bf": {
          "model_module": "@jupyter-widgets/base",
          "model_name": "LayoutModel",
          "model_module_version": "1.2.0",
          "state": {
            "_view_name": "LayoutView",
            "grid_template_rows": null,
            "right": null,
            "justify_content": null,
            "_view_module": "@jupyter-widgets/base",
            "overflow": null,
            "_model_module_version": "1.2.0",
            "_view_count": null,
            "flex_flow": null,
            "width": null,
            "min_width": null,
            "border": null,
            "align_items": null,
            "bottom": null,
            "_model_module": "@jupyter-widgets/base",
            "top": null,
            "grid_column": null,
            "overflow_y": null,
            "overflow_x": null,
            "grid_auto_flow": null,
            "grid_area": null,
            "grid_template_columns": null,
            "flex": null,
            "_model_name": "LayoutModel",
            "justify_items": null,
            "grid_row": null,
            "max_height": null,
            "align_content": null,
            "visibility": null,
            "align_self": null,
            "height": null,
            "min_height": null,
            "padding": null,
            "grid_auto_rows": null,
            "grid_gap": null,
            "max_width": null,
            "order": null,
            "_view_module_version": "1.2.0",
            "grid_template_areas": null,
            "object_position": null,
            "object_fit": null,
            "grid_auto_columns": null,
            "margin": null,
            "display": null,
            "left": null
          }
        },
        "92de7fc1f130489b8dde12a6f48256be": {
          "model_module": "@jupyter-widgets/base",
          "model_name": "LayoutModel",
          "model_module_version": "1.2.0",
          "state": {
            "_view_name": "LayoutView",
            "grid_template_rows": null,
            "right": null,
            "justify_content": null,
            "_view_module": "@jupyter-widgets/base",
            "overflow": null,
            "_model_module_version": "1.2.0",
            "_view_count": null,
            "flex_flow": null,
            "width": null,
            "min_width": null,
            "border": null,
            "align_items": null,
            "bottom": null,
            "_model_module": "@jupyter-widgets/base",
            "top": null,
            "grid_column": null,
            "overflow_y": null,
            "overflow_x": null,
            "grid_auto_flow": null,
            "grid_area": null,
            "grid_template_columns": null,
            "flex": null,
            "_model_name": "LayoutModel",
            "justify_items": null,
            "grid_row": null,
            "max_height": null,
            "align_content": null,
            "visibility": null,
            "align_self": null,
            "height": null,
            "min_height": null,
            "padding": null,
            "grid_auto_rows": null,
            "grid_gap": null,
            "max_width": null,
            "order": null,
            "_view_module_version": "1.2.0",
            "grid_template_areas": null,
            "object_position": null,
            "object_fit": null,
            "grid_auto_columns": null,
            "margin": null,
            "display": null,
            "left": null
          }
        },
        "cfdc900a883443f2b0a226adb6b32527": {
          "model_module": "@jupyter-widgets/controls",
          "model_name": "VBoxModel",
          "model_module_version": "1.5.0",
          "state": {
            "_view_name": "VBoxView",
            "_dom_classes": [
              "widget-interact"
            ],
            "_model_name": "VBoxModel",
            "_view_module": "@jupyter-widgets/controls",
            "_model_module_version": "1.5.0",
            "_view_count": null,
            "_view_module_version": "1.5.0",
            "box_style": "",
            "layout": "IPY_MODEL_9a4bab5e434c4151aa4371a327bbdce1",
            "_model_module": "@jupyter-widgets/controls",
            "children": [
              "IPY_MODEL_401b7158320c4c8480bfdbde31298890",
              "IPY_MODEL_458533c0a11c4b1daeec533c77fd8062"
            ]
          }
        },
        "9a4bab5e434c4151aa4371a327bbdce1": {
          "model_module": "@jupyter-widgets/base",
          "model_name": "LayoutModel",
          "model_module_version": "1.2.0",
          "state": {
            "_view_name": "LayoutView",
            "grid_template_rows": null,
            "right": null,
            "justify_content": null,
            "_view_module": "@jupyter-widgets/base",
            "overflow": null,
            "_model_module_version": "1.2.0",
            "_view_count": null,
            "flex_flow": null,
            "width": null,
            "min_width": null,
            "border": null,
            "align_items": null,
            "bottom": null,
            "_model_module": "@jupyter-widgets/base",
            "top": null,
            "grid_column": null,
            "overflow_y": null,
            "overflow_x": null,
            "grid_auto_flow": null,
            "grid_area": null,
            "grid_template_columns": null,
            "flex": null,
            "_model_name": "LayoutModel",
            "justify_items": null,
            "grid_row": null,
            "max_height": null,
            "align_content": null,
            "visibility": null,
            "align_self": null,
            "height": null,
            "min_height": null,
            "padding": null,
            "grid_auto_rows": null,
            "grid_gap": null,
            "max_width": null,
            "order": null,
            "_view_module_version": "1.2.0",
            "grid_template_areas": null,
            "object_position": null,
            "object_fit": null,
            "grid_auto_columns": null,
            "margin": null,
            "display": null,
            "left": null
          }
        },
        "401b7158320c4c8480bfdbde31298890": {
          "model_module": "@jupyter-widgets/controls",
          "model_name": "DropdownModel",
          "model_module_version": "1.5.0",
          "state": {
            "_options_labels": [
              "Abidjan",
              "Addis Abeba",
              "Ahmadabad",
              "Aleppo",
              "Alexandria",
              "Ankara",
              "Baghdad",
              "Bangalore",
              "Bangkok",
              "Belo Horizonte",
              "Berlin",
              "Bogotá",
              "Bombay",
              "Brasília",
              "Cairo",
              "Calcutta",
              "Cali",
              "Cape Town",
              "Casablanca",
              "Changchun",
              "Chengdu",
              "Chicago",
              "Chongqing",
              "Dakar",
              "Dalian",
              "Dar Es Salaam",
              "Delhi",
              "Dhaka",
              "Durban",
              "Faisalabad",
              "Fortaleza",
              "Gizeh",
              "Guangzhou",
              "Harare",
              "Harbin",
              "Ho Chi Minh City",
              "Hyderabad",
              "Ibadan",
              "Istanbul",
              "Izmir",
              "Jaipur",
              "Jakarta",
              "Jiddah",
              "Jinan",
              "Kabul",
              "Kano",
              "Kanpur",
              "Karachi",
              "Kiev",
              "Kinshasa",
              "Lagos",
              "Lahore",
              "Lakhnau",
              "Lima",
              "London",
              "Los Angeles",
              "Luanda",
              "Madras",
              "Madrid",
              "Manila",
              "Mashhad",
              "Melbourne",
              "Mexico",
              "Mogadishu",
              "Montreal",
              "Moscow",
              "Nagoya",
              "Nagpur",
              "Nairobi",
              "Nanjing",
              "New Delhi",
              "New York",
              "Paris",
              "Peking",
              "Pune",
              "Rangoon",
              "Rio De Janeiro",
              "Riyadh",
              "Rome",
              "Saint Petersburg",
              "Salvador",
              "Santiago",
              "Santo Domingo",
              "Seoul",
              "Shanghai",
              "Shenyang",
              "Singapore",
              "Surabaya",
              "Surat",
              "Sydney",
              "São Paulo",
              "Taipei",
              "Taiyuan",
              "Tangshan",
              "Tianjin",
              "Tokyo",
              "Toronto",
              "Umm Durman",
              "Wuhan",
              "Xian"
            ],
            "_view_name": "DropdownView",
            "style": "IPY_MODEL_62fd88de1c4a43f2a9059cd7e8b43047",
            "_dom_classes": [],
            "description": "City",
            "_model_name": "DropdownModel",
            "index": 18,
            "_view_module": "@jupyter-widgets/controls",
            "_model_module_version": "1.5.0",
            "_view_count": null,
            "disabled": false,
            "_view_module_version": "1.5.0",
            "description_tooltip": null,
            "_model_module": "@jupyter-widgets/controls",
            "layout": "IPY_MODEL_d499de936a3347f0a3386f5c60ee5688"
          }
        },
        "458533c0a11c4b1daeec533c77fd8062": {
          "model_module": "@jupyter-widgets/output",
          "model_name": "OutputModel",
          "model_module_version": "1.0.0",
          "state": {
            "_view_name": "OutputView",
            "msg_id": "",
            "_dom_classes": [],
            "_model_name": "OutputModel",
            "outputs": [
              {
                "output_type": "display_data",
                "metadata": {
                  "tags": []
                },
                "text/html": "<html>\n<head><meta charset=\"utf-8\" /></head>\n<body>\n    <div>            <script src=\"https://cdnjs.cloudflare.com/ajax/libs/mathjax/2.7.5/MathJax.js?config=TeX-AMS-MML_SVG\"></script><script type=\"text/javascript\">if (window.MathJax) {MathJax.Hub.Config({SVG: {font: \"STIX-Web\"}});}</script>                <script type=\"text/javascript\">window.PlotlyConfig = {MathJaxConfig: 'local'};</script>\n        <script src=\"https://cdn.plot.ly/plotly-2.2.0.min.js\"></script>                <div id=\"efee74f5-b438-48e5-b10c-66b1892645a4\" class=\"plotly-graph-div\" style=\"height:450px; width:900px;\"></div>            <script type=\"text/javascript\">                                    window.PLOTLYENV=window.PLOTLYENV || {};                                    if (document.getElementById(\"efee74f5-b438-48e5-b10c-66b1892645a4\")) {                    Plotly.newPlot(                        \"efee74f5-b438-48e5-b10c-66b1892645a4\",                        [{\"alignmentgroup\":\"True\",\"hovertemplate\":\"Decade=%{x}<br>Mean_temp=%{y}<extra></extra>\",\"legendgroup\":\"\",\"marker\":{\"color\":\"#636efa\",\"pattern\":{\"shape\":\"\"}},\"name\":\"\",\"offsetgroup\":\"\",\"orientation\":\"v\",\"showlegend\":false,\"textposition\":\"auto\",\"type\":\"bar\",\"x\":[1900,1910,1920,1930,1940,1950,1960,1970,1980,1990,2000,2010],\"xaxis\":\"x\",\"y\":[16.900758333333332,16.827741666666668,17.222783333333332,17.048541666666665,17.58735,17.311858333333333,17.418008333333336,16.923708333333334,17.718491666666665,17.81255833333333,18.246525000000002,18.4860625],\"yaxis\":\"y\"}],                        {\"barmode\":\"relative\",\"height\":450,\"legend\":{\"tracegroupgap\":0},\"template\":{\"data\":{\"bar\":[{\"error_x\":{\"color\":\"#2a3f5f\"},\"error_y\":{\"color\":\"#2a3f5f\"},\"marker\":{\"line\":{\"color\":\"#E5ECF6\",\"width\":0.5},\"pattern\":{\"fillmode\":\"overlay\",\"size\":10,\"solidity\":0.2}},\"type\":\"bar\"}],\"barpolar\":[{\"marker\":{\"line\":{\"color\":\"#E5ECF6\",\"width\":0.5},\"pattern\":{\"fillmode\":\"overlay\",\"size\":10,\"solidity\":0.2}},\"type\":\"barpolar\"}],\"carpet\":[{\"aaxis\":{\"endlinecolor\":\"#2a3f5f\",\"gridcolor\":\"white\",\"linecolor\":\"white\",\"minorgridcolor\":\"white\",\"startlinecolor\":\"#2a3f5f\"},\"baxis\":{\"endlinecolor\":\"#2a3f5f\",\"gridcolor\":\"white\",\"linecolor\":\"white\",\"minorgridcolor\":\"white\",\"startlinecolor\":\"#2a3f5f\"},\"type\":\"carpet\"}],\"choropleth\":[{\"colorbar\":{\"outlinewidth\":0,\"ticks\":\"\"},\"type\":\"choropleth\"}],\"contour\":[{\"colorbar\":{\"outlinewidth\":0,\"ticks\":\"\"},\"colorscale\":[[0.0,\"#0d0887\"],[0.1111111111111111,\"#46039f\"],[0.2222222222222222,\"#7201a8\"],[0.3333333333333333,\"#9c179e\"],[0.4444444444444444,\"#bd3786\"],[0.5555555555555556,\"#d8576b\"],[0.6666666666666666,\"#ed7953\"],[0.7777777777777778,\"#fb9f3a\"],[0.8888888888888888,\"#fdca26\"],[1.0,\"#f0f921\"]],\"type\":\"contour\"}],\"contourcarpet\":[{\"colorbar\":{\"outlinewidth\":0,\"ticks\":\"\"},\"type\":\"contourcarpet\"}],\"heatmap\":[{\"colorbar\":{\"outlinewidth\":0,\"ticks\":\"\"},\"colorscale\":[[0.0,\"#0d0887\"],[0.1111111111111111,\"#46039f\"],[0.2222222222222222,\"#7201a8\"],[0.3333333333333333,\"#9c179e\"],[0.4444444444444444,\"#bd3786\"],[0.5555555555555556,\"#d8576b\"],[0.6666666666666666,\"#ed7953\"],[0.7777777777777778,\"#fb9f3a\"],[0.8888888888888888,\"#fdca26\"],[1.0,\"#f0f921\"]],\"type\":\"heatmap\"}],\"heatmapgl\":[{\"colorbar\":{\"outlinewidth\":0,\"ticks\":\"\"},\"colorscale\":[[0.0,\"#0d0887\"],[0.1111111111111111,\"#46039f\"],[0.2222222222222222,\"#7201a8\"],[0.3333333333333333,\"#9c179e\"],[0.4444444444444444,\"#bd3786\"],[0.5555555555555556,\"#d8576b\"],[0.6666666666666666,\"#ed7953\"],[0.7777777777777778,\"#fb9f3a\"],[0.8888888888888888,\"#fdca26\"],[1.0,\"#f0f921\"]],\"type\":\"heatmapgl\"}],\"histogram\":[{\"marker\":{\"pattern\":{\"fillmode\":\"overlay\",\"size\":10,\"solidity\":0.2}},\"type\":\"histogram\"}],\"histogram2d\":[{\"colorbar\":{\"outlinewidth\":0,\"ticks\":\"\"},\"colorscale\":[[0.0,\"#0d0887\"],[0.1111111111111111,\"#46039f\"],[0.2222222222222222,\"#7201a8\"],[0.3333333333333333,\"#9c179e\"],[0.4444444444444444,\"#bd3786\"],[0.5555555555555556,\"#d8576b\"],[0.6666666666666666,\"#ed7953\"],[0.7777777777777778,\"#fb9f3a\"],[0.8888888888888888,\"#fdca26\"],[1.0,\"#f0f921\"]],\"type\":\"histogram2d\"}],\"histogram2dcontour\":[{\"colorbar\":{\"outlinewidth\":0,\"ticks\":\"\"},\"colorscale\":[[0.0,\"#0d0887\"],[0.1111111111111111,\"#46039f\"],[0.2222222222222222,\"#7201a8\"],[0.3333333333333333,\"#9c179e\"],[0.4444444444444444,\"#bd3786\"],[0.5555555555555556,\"#d8576b\"],[0.6666666666666666,\"#ed7953\"],[0.7777777777777778,\"#fb9f3a\"],[0.8888888888888888,\"#fdca26\"],[1.0,\"#f0f921\"]],\"type\":\"histogram2dcontour\"}],\"mesh3d\":[{\"colorbar\":{\"outlinewidth\":0,\"ticks\":\"\"},\"type\":\"mesh3d\"}],\"parcoords\":[{\"line\":{\"colorbar\":{\"outlinewidth\":0,\"ticks\":\"\"}},\"type\":\"parcoords\"}],\"pie\":[{\"automargin\":true,\"type\":\"pie\"}],\"scatter\":[{\"marker\":{\"colorbar\":{\"outlinewidth\":0,\"ticks\":\"\"}},\"type\":\"scatter\"}],\"scatter3d\":[{\"line\":{\"colorbar\":{\"outlinewidth\":0,\"ticks\":\"\"}},\"marker\":{\"colorbar\":{\"outlinewidth\":0,\"ticks\":\"\"}},\"type\":\"scatter3d\"}],\"scattercarpet\":[{\"marker\":{\"colorbar\":{\"outlinewidth\":0,\"ticks\":\"\"}},\"type\":\"scattercarpet\"}],\"scattergeo\":[{\"marker\":{\"colorbar\":{\"outlinewidth\":0,\"ticks\":\"\"}},\"type\":\"scattergeo\"}],\"scattergl\":[{\"marker\":{\"colorbar\":{\"outlinewidth\":0,\"ticks\":\"\"}},\"type\":\"scattergl\"}],\"scattermapbox\":[{\"marker\":{\"colorbar\":{\"outlinewidth\":0,\"ticks\":\"\"}},\"type\":\"scattermapbox\"}],\"scatterpolar\":[{\"marker\":{\"colorbar\":{\"outlinewidth\":0,\"ticks\":\"\"}},\"type\":\"scatterpolar\"}],\"scatterpolargl\":[{\"marker\":{\"colorbar\":{\"outlinewidth\":0,\"ticks\":\"\"}},\"type\":\"scatterpolargl\"}],\"scatterternary\":[{\"marker\":{\"colorbar\":{\"outlinewidth\":0,\"ticks\":\"\"}},\"type\":\"scatterternary\"}],\"surface\":[{\"colorbar\":{\"outlinewidth\":0,\"ticks\":\"\"},\"colorscale\":[[0.0,\"#0d0887\"],[0.1111111111111111,\"#46039f\"],[0.2222222222222222,\"#7201a8\"],[0.3333333333333333,\"#9c179e\"],[0.4444444444444444,\"#bd3786\"],[0.5555555555555556,\"#d8576b\"],[0.6666666666666666,\"#ed7953\"],[0.7777777777777778,\"#fb9f3a\"],[0.8888888888888888,\"#fdca26\"],[1.0,\"#f0f921\"]],\"type\":\"surface\"}],\"table\":[{\"cells\":{\"fill\":{\"color\":\"#EBF0F8\"},\"line\":{\"color\":\"white\"}},\"header\":{\"fill\":{\"color\":\"#C8D4E3\"},\"line\":{\"color\":\"white\"}},\"type\":\"table\"}]},\"layout\":{\"annotationdefaults\":{\"arrowcolor\":\"#2a3f5f\",\"arrowhead\":0,\"arrowwidth\":1},\"autotypenumbers\":\"strict\",\"coloraxis\":{\"colorbar\":{\"outlinewidth\":0,\"ticks\":\"\"}},\"colorscale\":{\"diverging\":[[0,\"#8e0152\"],[0.1,\"#c51b7d\"],[0.2,\"#de77ae\"],[0.3,\"#f1b6da\"],[0.4,\"#fde0ef\"],[0.5,\"#f7f7f7\"],[0.6,\"#e6f5d0\"],[0.7,\"#b8e186\"],[0.8,\"#7fbc41\"],[0.9,\"#4d9221\"],[1,\"#276419\"]],\"sequential\":[[0.0,\"#0d0887\"],[0.1111111111111111,\"#46039f\"],[0.2222222222222222,\"#7201a8\"],[0.3333333333333333,\"#9c179e\"],[0.4444444444444444,\"#bd3786\"],[0.5555555555555556,\"#d8576b\"],[0.6666666666666666,\"#ed7953\"],[0.7777777777777778,\"#fb9f3a\"],[0.8888888888888888,\"#fdca26\"],[1.0,\"#f0f921\"]],\"sequentialminus\":[[0.0,\"#0d0887\"],[0.1111111111111111,\"#46039f\"],[0.2222222222222222,\"#7201a8\"],[0.3333333333333333,\"#9c179e\"],[0.4444444444444444,\"#bd3786\"],[0.5555555555555556,\"#d8576b\"],[0.6666666666666666,\"#ed7953\"],[0.7777777777777778,\"#fb9f3a\"],[0.8888888888888888,\"#fdca26\"],[1.0,\"#f0f921\"]]},\"colorway\":[\"#636efa\",\"#EF553B\",\"#00cc96\",\"#ab63fa\",\"#FFA15A\",\"#19d3f3\",\"#FF6692\",\"#B6E880\",\"#FF97FF\",\"#FECB52\"],\"font\":{\"color\":\"#2a3f5f\"},\"geo\":{\"bgcolor\":\"white\",\"lakecolor\":\"white\",\"landcolor\":\"#E5ECF6\",\"showlakes\":true,\"showland\":true,\"subunitcolor\":\"white\"},\"hoverlabel\":{\"align\":\"left\"},\"hovermode\":\"closest\",\"mapbox\":{\"style\":\"light\"},\"paper_bgcolor\":\"white\",\"plot_bgcolor\":\"#E5ECF6\",\"polar\":{\"angularaxis\":{\"gridcolor\":\"white\",\"linecolor\":\"white\",\"ticks\":\"\"},\"bgcolor\":\"#E5ECF6\",\"radialaxis\":{\"gridcolor\":\"white\",\"linecolor\":\"white\",\"ticks\":\"\"}},\"scene\":{\"xaxis\":{\"backgroundcolor\":\"#E5ECF6\",\"gridcolor\":\"white\",\"gridwidth\":2,\"linecolor\":\"white\",\"showbackground\":true,\"ticks\":\"\",\"zerolinecolor\":\"white\"},\"yaxis\":{\"backgroundcolor\":\"#E5ECF6\",\"gridcolor\":\"white\",\"gridwidth\":2,\"linecolor\":\"white\",\"showbackground\":true,\"ticks\":\"\",\"zerolinecolor\":\"white\"},\"zaxis\":{\"backgroundcolor\":\"#E5ECF6\",\"gridcolor\":\"white\",\"gridwidth\":2,\"linecolor\":\"white\",\"showbackground\":true,\"ticks\":\"\",\"zerolinecolor\":\"white\"}},\"shapedefaults\":{\"line\":{\"color\":\"#2a3f5f\"}},\"ternary\":{\"aaxis\":{\"gridcolor\":\"white\",\"linecolor\":\"white\",\"ticks\":\"\"},\"baxis\":{\"gridcolor\":\"white\",\"linecolor\":\"white\",\"ticks\":\"\"},\"bgcolor\":\"#E5ECF6\",\"caxis\":{\"gridcolor\":\"white\",\"linecolor\":\"white\",\"ticks\":\"\"}},\"title\":{\"x\":0.05},\"xaxis\":{\"automargin\":true,\"gridcolor\":\"white\",\"linecolor\":\"white\",\"ticks\":\"\",\"title\":{\"standoff\":15},\"zerolinecolor\":\"white\",\"zerolinewidth\":2},\"yaxis\":{\"automargin\":true,\"gridcolor\":\"white\",\"linecolor\":\"white\",\"ticks\":\"\",\"title\":{\"standoff\":15},\"zerolinecolor\":\"white\",\"zerolinewidth\":2}}},\"title\":{\"text\":\"Average Temperature \\u00b0C by decade in Casablanca\"},\"width\":900,\"xaxis\":{\"anchor\":\"y\",\"domain\":[0.0,1.0],\"title\":{\"text\":\"Decade\"}},\"yaxis\":{\"anchor\":\"x\",\"domain\":[0.0,1.0],\"title\":{\"text\":\"Mean_temp\"}}},                        {\"responsive\": true}                    ).then(function(){\n                            \nvar gd = document.getElementById('efee74f5-b438-48e5-b10c-66b1892645a4');\nvar x = new MutationObserver(function (mutations, observer) {{\n        var display = window.getComputedStyle(gd).display;\n        if (!display || display === 'none') {{\n            console.log([gd, 'removed!']);\n            Plotly.purge(gd);\n            observer.disconnect();\n        }}\n}});\n\n// Listen for the removal of the full notebook cells\nvar notebookContainer = gd.closest('#notebook-container');\nif (notebookContainer) {{\n    x.observe(notebookContainer, {childList: true});\n}}\n\n// Listen for the clearing of the current output cell\nvar outputEl = gd.closest('.output');\nif (outputEl) {{\n    x.observe(outputEl, {childList: true});\n}}\n\n                        })                };                            </script>        </div>\n</body>\n</html>"
              }
            ],
            "_view_module": "@jupyter-widgets/output",
            "_model_module_version": "1.0.0",
            "_view_count": null,
            "_view_module_version": "1.0.0",
            "layout": "IPY_MODEL_234e459dc42948958373725ef7a6cbb6",
            "_model_module": "@jupyter-widgets/output"
          }
        },
        "62fd88de1c4a43f2a9059cd7e8b43047": {
          "model_module": "@jupyter-widgets/controls",
          "model_name": "DescriptionStyleModel",
          "model_module_version": "1.5.0",
          "state": {
            "_view_name": "StyleView",
            "_model_name": "DescriptionStyleModel",
            "description_width": "",
            "_view_module": "@jupyter-widgets/base",
            "_model_module_version": "1.5.0",
            "_view_count": null,
            "_view_module_version": "1.2.0",
            "_model_module": "@jupyter-widgets/controls"
          }
        },
        "d499de936a3347f0a3386f5c60ee5688": {
          "model_module": "@jupyter-widgets/base",
          "model_name": "LayoutModel",
          "model_module_version": "1.2.0",
          "state": {
            "_view_name": "LayoutView",
            "grid_template_rows": null,
            "right": null,
            "justify_content": null,
            "_view_module": "@jupyter-widgets/base",
            "overflow": null,
            "_model_module_version": "1.2.0",
            "_view_count": null,
            "flex_flow": null,
            "width": null,
            "min_width": null,
            "border": null,
            "align_items": null,
            "bottom": null,
            "_model_module": "@jupyter-widgets/base",
            "top": null,
            "grid_column": null,
            "overflow_y": null,
            "overflow_x": null,
            "grid_auto_flow": null,
            "grid_area": null,
            "grid_template_columns": null,
            "flex": null,
            "_model_name": "LayoutModel",
            "justify_items": null,
            "grid_row": null,
            "max_height": null,
            "align_content": null,
            "visibility": null,
            "align_self": null,
            "height": null,
            "min_height": null,
            "padding": null,
            "grid_auto_rows": null,
            "grid_gap": null,
            "max_width": null,
            "order": null,
            "_view_module_version": "1.2.0",
            "grid_template_areas": null,
            "object_position": null,
            "object_fit": null,
            "grid_auto_columns": null,
            "margin": null,
            "display": null,
            "left": null
          }
        },
        "234e459dc42948958373725ef7a6cbb6": {
          "model_module": "@jupyter-widgets/base",
          "model_name": "LayoutModel",
          "model_module_version": "1.2.0",
          "state": {
            "_view_name": "LayoutView",
            "grid_template_rows": null,
            "right": null,
            "justify_content": null,
            "_view_module": "@jupyter-widgets/base",
            "overflow": null,
            "_model_module_version": "1.2.0",
            "_view_count": null,
            "flex_flow": null,
            "width": null,
            "min_width": null,
            "border": null,
            "align_items": null,
            "bottom": null,
            "_model_module": "@jupyter-widgets/base",
            "top": null,
            "grid_column": null,
            "overflow_y": null,
            "overflow_x": null,
            "grid_auto_flow": null,
            "grid_area": null,
            "grid_template_columns": null,
            "flex": null,
            "_model_name": "LayoutModel",
            "justify_items": null,
            "grid_row": null,
            "max_height": null,
            "align_content": null,
            "visibility": null,
            "align_self": null,
            "height": null,
            "min_height": null,
            "padding": null,
            "grid_auto_rows": null,
            "grid_gap": null,
            "max_width": null,
            "order": null,
            "_view_module_version": "1.2.0",
            "grid_template_areas": null,
            "object_position": null,
            "object_fit": null,
            "grid_auto_columns": null,
            "margin": null,
            "display": null,
            "left": null
          }
        }
      }
    }
  },
  "cells": [
    {
      "cell_type": "markdown",
      "metadata": {
        "id": "view-in-github",
        "colab_type": "text"
      },
      "source": [
        "<a href=\"https://colab.research.google.com/github/gabrielborja/python_data_analysis/blob/main/sustainability_analytics.ipynb\" target=\"_parent\"><img src=\"https://colab.research.google.com/assets/colab-badge.svg\" alt=\"Open In Colab\"/></a>"
      ]
    },
    {
      "cell_type": "markdown",
      "metadata": {
        "id": "eTZwpRZNRhGY"
      },
      "source": [
        "# Global Climate Analysis"
      ]
    },
    {
      "cell_type": "markdown",
      "metadata": {
        "id": "urSYFOWesvzU"
      },
      "source": [
        "Global Climate Change Data from 1750－2015 can be found [here](https://data.world/data-society/global-climate-change-data)"
      ]
    },
    {
      "cell_type": "markdown",
      "metadata": {
        "id": "sgzkv1LwjLIL"
      },
      "source": [
        "## Uploading packages and data"
      ]
    },
    {
      "cell_type": "code",
      "metadata": {
        "id": "QTRtRZcb-IyF"
      },
      "source": [
        "#Importing necessary packages\n",
        "import numpy as np\n",
        "import pandas as pd\n",
        "import matplotlib.pyplot as plt\n",
        "import seaborn as sns\n",
        "import plotly.express as px"
      ],
      "execution_count": null,
      "outputs": []
    },
    {
      "cell_type": "code",
      "metadata": {
        "id": "aKlBGzwCHrK9"
      },
      "source": [
        "#Pip install plotly --upgrade\n",
        "!pip install plotly --upgrade"
      ],
      "execution_count": null,
      "outputs": []
    },
    {
      "cell_type": "code",
      "metadata": {
        "id": "1Z4jxJjRRPLB"
      },
      "source": [
        "#Remove previous versions of the uploaded file\n",
        "!rm GlobalLandTemperaturesByCountry.csv"
      ],
      "execution_count": null,
      "outputs": []
    },
    {
      "cell_type": "code",
      "metadata": {
        "colab": {
          "resources": {
            "http://localhost:8080/nbextensions/google.colab/files.js": {
              "data": "Ly8gQ29weXJpZ2h0IDIwMTcgR29vZ2xlIExMQwovLwovLyBMaWNlbnNlZCB1bmRlciB0aGUgQXBhY2hlIExpY2Vuc2UsIFZlcnNpb24gMi4wICh0aGUgIkxpY2Vuc2UiKTsKLy8geW91IG1heSBub3QgdXNlIHRoaXMgZmlsZSBleGNlcHQgaW4gY29tcGxpYW5jZSB3aXRoIHRoZSBMaWNlbnNlLgovLyBZb3UgbWF5IG9idGFpbiBhIGNvcHkgb2YgdGhlIExpY2Vuc2UgYXQKLy8KLy8gICAgICBodHRwOi8vd3d3LmFwYWNoZS5vcmcvbGljZW5zZXMvTElDRU5TRS0yLjAKLy8KLy8gVW5sZXNzIHJlcXVpcmVkIGJ5IGFwcGxpY2FibGUgbGF3IG9yIGFncmVlZCB0byBpbiB3cml0aW5nLCBzb2Z0d2FyZQovLyBkaXN0cmlidXRlZCB1bmRlciB0aGUgTGljZW5zZSBpcyBkaXN0cmlidXRlZCBvbiBhbiAiQVMgSVMiIEJBU0lTLAovLyBXSVRIT1VUIFdBUlJBTlRJRVMgT1IgQ09ORElUSU9OUyBPRiBBTlkgS0lORCwgZWl0aGVyIGV4cHJlc3Mgb3IgaW1wbGllZC4KLy8gU2VlIHRoZSBMaWNlbnNlIGZvciB0aGUgc3BlY2lmaWMgbGFuZ3VhZ2UgZ292ZXJuaW5nIHBlcm1pc3Npb25zIGFuZAovLyBsaW1pdGF0aW9ucyB1bmRlciB0aGUgTGljZW5zZS4KCi8qKgogKiBAZmlsZW92ZXJ2aWV3IEhlbHBlcnMgZm9yIGdvb2dsZS5jb2xhYiBQeXRob24gbW9kdWxlLgogKi8KKGZ1bmN0aW9uKHNjb3BlKSB7CmZ1bmN0aW9uIHNwYW4odGV4dCwgc3R5bGVBdHRyaWJ1dGVzID0ge30pIHsKICBjb25zdCBlbGVtZW50ID0gZG9jdW1lbnQuY3JlYXRlRWxlbWVudCgnc3BhbicpOwogIGVsZW1lbnQudGV4dENvbnRlbnQgPSB0ZXh0OwogIGZvciAoY29uc3Qga2V5IG9mIE9iamVjdC5rZXlzKHN0eWxlQXR0cmlidXRlcykpIHsKICAgIGVsZW1lbnQuc3R5bGVba2V5XSA9IHN0eWxlQXR0cmlidXRlc1trZXldOwogIH0KICByZXR1cm4gZWxlbWVudDsKfQoKLy8gTWF4IG51bWJlciBvZiBieXRlcyB3aGljaCB3aWxsIGJlIHVwbG9hZGVkIGF0IGEgdGltZS4KY29uc3QgTUFYX1BBWUxPQURfU0laRSA9IDEwMCAqIDEwMjQ7CgpmdW5jdGlvbiBfdXBsb2FkRmlsZXMoaW5wdXRJZCwgb3V0cHV0SWQpIHsKICBjb25zdCBzdGVwcyA9IHVwbG9hZEZpbGVzU3RlcChpbnB1dElkLCBvdXRwdXRJZCk7CiAgY29uc3Qgb3V0cHV0RWxlbWVudCA9IGRvY3VtZW50LmdldEVsZW1lbnRCeUlkKG91dHB1dElkKTsKICAvLyBDYWNoZSBzdGVwcyBvbiB0aGUgb3V0cHV0RWxlbWVudCB0byBtYWtlIGl0IGF2YWlsYWJsZSBmb3IgdGhlIG5leHQgY2FsbAogIC8vIHRvIHVwbG9hZEZpbGVzQ29udGludWUgZnJvbSBQeXRob24uCiAgb3V0cHV0RWxlbWVudC5zdGVwcyA9IHN0ZXBzOwoKICByZXR1cm4gX3VwbG9hZEZpbGVzQ29udGludWUob3V0cHV0SWQpOwp9CgovLyBUaGlzIGlzIHJvdWdobHkgYW4gYXN5bmMgZ2VuZXJhdG9yIChub3Qgc3VwcG9ydGVkIGluIHRoZSBicm93c2VyIHlldCksCi8vIHdoZXJlIHRoZXJlIGFyZSBtdWx0aXBsZSBhc3luY2hyb25vdXMgc3RlcHMgYW5kIHRoZSBQeXRob24gc2lkZSBpcyBnb2luZwovLyB0byBwb2xsIGZvciBjb21wbGV0aW9uIG9mIGVhY2ggc3RlcC4KLy8gVGhpcyB1c2VzIGEgUHJvbWlzZSB0byBibG9jayB0aGUgcHl0aG9uIHNpZGUgb24gY29tcGxldGlvbiBvZiBlYWNoIHN0ZXAsCi8vIHRoZW4gcGFzc2VzIHRoZSByZXN1bHQgb2YgdGhlIHByZXZpb3VzIHN0ZXAgYXMgdGhlIGlucHV0IHRvIHRoZSBuZXh0IHN0ZXAuCmZ1bmN0aW9uIF91cGxvYWRGaWxlc0NvbnRpbnVlKG91dHB1dElkKSB7CiAgY29uc3Qgb3V0cHV0RWxlbWVudCA9IGRvY3VtZW50LmdldEVsZW1lbnRCeUlkKG91dHB1dElkKTsKICBjb25zdCBzdGVwcyA9IG91dHB1dEVsZW1lbnQuc3RlcHM7CgogIGNvbnN0IG5leHQgPSBzdGVwcy5uZXh0KG91dHB1dEVsZW1lbnQubGFzdFByb21pc2VWYWx1ZSk7CiAgcmV0dXJuIFByb21pc2UucmVzb2x2ZShuZXh0LnZhbHVlLnByb21pc2UpLnRoZW4oKHZhbHVlKSA9PiB7CiAgICAvLyBDYWNoZSB0aGUgbGFzdCBwcm9taXNlIHZhbHVlIHRvIG1ha2UgaXQgYXZhaWxhYmxlIHRvIHRoZSBuZXh0CiAgICAvLyBzdGVwIG9mIHRoZSBnZW5lcmF0b3IuCiAgICBvdXRwdXRFbGVtZW50Lmxhc3RQcm9taXNlVmFsdWUgPSB2YWx1ZTsKICAgIHJldHVybiBuZXh0LnZhbHVlLnJlc3BvbnNlOwogIH0pOwp9CgovKioKICogR2VuZXJhdG9yIGZ1bmN0aW9uIHdoaWNoIGlzIGNhbGxlZCBiZXR3ZWVuIGVhY2ggYXN5bmMgc3RlcCBvZiB0aGUgdXBsb2FkCiAqIHByb2Nlc3MuCiAqIEBwYXJhbSB7c3RyaW5nfSBpbnB1dElkIEVsZW1lbnQgSUQgb2YgdGhlIGlucHV0IGZpbGUgcGlja2VyIGVsZW1lbnQuCiAqIEBwYXJhbSB7c3RyaW5nfSBvdXRwdXRJZCBFbGVtZW50IElEIG9mIHRoZSBvdXRwdXQgZGlzcGxheS4KICogQHJldHVybiB7IUl0ZXJhYmxlPCFPYmplY3Q+fSBJdGVyYWJsZSBvZiBuZXh0IHN0ZXBzLgogKi8KZnVuY3Rpb24qIHVwbG9hZEZpbGVzU3RlcChpbnB1dElkLCBvdXRwdXRJZCkgewogIGNvbnN0IGlucHV0RWxlbWVudCA9IGRvY3VtZW50LmdldEVsZW1lbnRCeUlkKGlucHV0SWQpOwogIGlucHV0RWxlbWVudC5kaXNhYmxlZCA9IGZhbHNlOwoKICBjb25zdCBvdXRwdXRFbGVtZW50ID0gZG9jdW1lbnQuZ2V0RWxlbWVudEJ5SWQob3V0cHV0SWQpOwogIG91dHB1dEVsZW1lbnQuaW5uZXJIVE1MID0gJyc7CgogIGNvbnN0IHBpY2tlZFByb21pc2UgPSBuZXcgUHJvbWlzZSgocmVzb2x2ZSkgPT4gewogICAgaW5wdXRFbGVtZW50LmFkZEV2ZW50TGlzdGVuZXIoJ2NoYW5nZScsIChlKSA9PiB7CiAgICAgIHJlc29sdmUoZS50YXJnZXQuZmlsZXMpOwogICAgfSk7CiAgfSk7CgogIGNvbnN0IGNhbmNlbCA9IGRvY3VtZW50LmNyZWF0ZUVsZW1lbnQoJ2J1dHRvbicpOwogIGlucHV0RWxlbWVudC5wYXJlbnRFbGVtZW50LmFwcGVuZENoaWxkKGNhbmNlbCk7CiAgY2FuY2VsLnRleHRDb250ZW50ID0gJ0NhbmNlbCB1cGxvYWQnOwogIGNvbnN0IGNhbmNlbFByb21pc2UgPSBuZXcgUHJvbWlzZSgocmVzb2x2ZSkgPT4gewogICAgY2FuY2VsLm9uY2xpY2sgPSAoKSA9PiB7CiAgICAgIHJlc29sdmUobnVsbCk7CiAgICB9OwogIH0pOwoKICAvLyBXYWl0IGZvciB0aGUgdXNlciB0byBwaWNrIHRoZSBmaWxlcy4KICBjb25zdCBmaWxlcyA9IHlpZWxkIHsKICAgIHByb21pc2U6IFByb21pc2UucmFjZShbcGlja2VkUHJvbWlzZSwgY2FuY2VsUHJvbWlzZV0pLAogICAgcmVzcG9uc2U6IHsKICAgICAgYWN0aW9uOiAnc3RhcnRpbmcnLAogICAgfQogIH07CgogIGNhbmNlbC5yZW1vdmUoKTsKCiAgLy8gRGlzYWJsZSB0aGUgaW5wdXQgZWxlbWVudCBzaW5jZSBmdXJ0aGVyIHBpY2tzIGFyZSBub3QgYWxsb3dlZC4KICBpbnB1dEVsZW1lbnQuZGlzYWJsZWQgPSB0cnVlOwoKICBpZiAoIWZpbGVzKSB7CiAgICByZXR1cm4gewogICAgICByZXNwb25zZTogewogICAgICAgIGFjdGlvbjogJ2NvbXBsZXRlJywKICAgICAgfQogICAgfTsKICB9CgogIGZvciAoY29uc3QgZmlsZSBvZiBmaWxlcykgewogICAgY29uc3QgbGkgPSBkb2N1bWVudC5jcmVhdGVFbGVtZW50KCdsaScpOwogICAgbGkuYXBwZW5kKHNwYW4oZmlsZS5uYW1lLCB7Zm9udFdlaWdodDogJ2JvbGQnfSkpOwogICAgbGkuYXBwZW5kKHNwYW4oCiAgICAgICAgYCgke2ZpbGUudHlwZSB8fCAnbi9hJ30pIC0gJHtmaWxlLnNpemV9IGJ5dGVzLCBgICsKICAgICAgICBgbGFzdCBtb2RpZmllZDogJHsKICAgICAgICAgICAgZmlsZS5sYXN0TW9kaWZpZWREYXRlID8gZmlsZS5sYXN0TW9kaWZpZWREYXRlLnRvTG9jYWxlRGF0ZVN0cmluZygpIDoKICAgICAgICAgICAgICAgICAgICAgICAgICAgICAgICAgICAgJ24vYSd9IC0gYCkpOwogICAgY29uc3QgcGVyY2VudCA9IHNwYW4oJzAlIGRvbmUnKTsKICAgIGxpLmFwcGVuZENoaWxkKHBlcmNlbnQpOwoKICAgIG91dHB1dEVsZW1lbnQuYXBwZW5kQ2hpbGQobGkpOwoKICAgIGNvbnN0IGZpbGVEYXRhUHJvbWlzZSA9IG5ldyBQcm9taXNlKChyZXNvbHZlKSA9PiB7CiAgICAgIGNvbnN0IHJlYWRlciA9IG5ldyBGaWxlUmVhZGVyKCk7CiAgICAgIHJlYWRlci5vbmxvYWQgPSAoZSkgPT4gewogICAgICAgIHJlc29sdmUoZS50YXJnZXQucmVzdWx0KTsKICAgICAgfTsKICAgICAgcmVhZGVyLnJlYWRBc0FycmF5QnVmZmVyKGZpbGUpOwogICAgfSk7CiAgICAvLyBXYWl0IGZvciB0aGUgZGF0YSB0byBiZSByZWFkeS4KICAgIGxldCBmaWxlRGF0YSA9IHlpZWxkIHsKICAgICAgcHJvbWlzZTogZmlsZURhdGFQcm9taXNlLAogICAgICByZXNwb25zZTogewogICAgICAgIGFjdGlvbjogJ2NvbnRpbnVlJywKICAgICAgfQogICAgfTsKCiAgICAvLyBVc2UgYSBjaHVua2VkIHNlbmRpbmcgdG8gYXZvaWQgbWVzc2FnZSBzaXplIGxpbWl0cy4gU2VlIGIvNjIxMTU2NjAuCiAgICBsZXQgcG9zaXRpb24gPSAwOwogICAgZG8gewogICAgICBjb25zdCBsZW5ndGggPSBNYXRoLm1pbihmaWxlRGF0YS5ieXRlTGVuZ3RoIC0gcG9zaXRpb24sIE1BWF9QQVlMT0FEX1NJWkUpOwogICAgICBjb25zdCBjaHVuayA9IG5ldyBVaW50OEFycmF5KGZpbGVEYXRhLCBwb3NpdGlvbiwgbGVuZ3RoKTsKICAgICAgcG9zaXRpb24gKz0gbGVuZ3RoOwoKICAgICAgY29uc3QgYmFzZTY0ID0gYnRvYShTdHJpbmcuZnJvbUNoYXJDb2RlLmFwcGx5KG51bGwsIGNodW5rKSk7CiAgICAgIHlpZWxkIHsKICAgICAgICByZXNwb25zZTogewogICAgICAgICAgYWN0aW9uOiAnYXBwZW5kJywKICAgICAgICAgIGZpbGU6IGZpbGUubmFtZSwKICAgICAgICAgIGRhdGE6IGJhc2U2NCwKICAgICAgICB9LAogICAgICB9OwoKICAgICAgbGV0IHBlcmNlbnREb25lID0gZmlsZURhdGEuYnl0ZUxlbmd0aCA9PT0gMCA/CiAgICAgICAgICAxMDAgOgogICAgICAgICAgTWF0aC5yb3VuZCgocG9zaXRpb24gLyBmaWxlRGF0YS5ieXRlTGVuZ3RoKSAqIDEwMCk7CiAgICAgIHBlcmNlbnQudGV4dENvbnRlbnQgPSBgJHtwZXJjZW50RG9uZX0lIGRvbmVgOwoKICAgIH0gd2hpbGUgKHBvc2l0aW9uIDwgZmlsZURhdGEuYnl0ZUxlbmd0aCk7CiAgfQoKICAvLyBBbGwgZG9uZS4KICB5aWVsZCB7CiAgICByZXNwb25zZTogewogICAgICBhY3Rpb246ICdjb21wbGV0ZScsCiAgICB9CiAgfTsKfQoKc2NvcGUuZ29vZ2xlID0gc2NvcGUuZ29vZ2xlIHx8IHt9OwpzY29wZS5nb29nbGUuY29sYWIgPSBzY29wZS5nb29nbGUuY29sYWIgfHwge307CnNjb3BlLmdvb2dsZS5jb2xhYi5fZmlsZXMgPSB7CiAgX3VwbG9hZEZpbGVzLAogIF91cGxvYWRGaWxlc0NvbnRpbnVlLAp9Owp9KShzZWxmKTsK",
              "ok": true,
              "headers": [
                [
                  "content-type",
                  "application/javascript"
                ]
              ],
              "status": 200,
              "status_text": ""
            }
          },
          "base_uri": "https://localhost:8080/",
          "height": 72
        },
        "id": "oen97ED1-rh-",
        "outputId": "5488a76c-feef-4990-a280-b6ba6f3bb34a"
      },
      "source": [
        "#Uploading file from local drive\n",
        "from google.colab import files\n",
        "uploaded1 = files.upload()"
      ],
      "execution_count": null,
      "outputs": [
        {
          "output_type": "display_data",
          "data": {
            "text/html": [
              "\n",
              "     <input type=\"file\" id=\"files-f4552cb6-0e5d-4878-a5cd-67ceaa9bdad3\" name=\"files[]\" multiple disabled\n",
              "        style=\"border:none\" />\n",
              "     <output id=\"result-f4552cb6-0e5d-4878-a5cd-67ceaa9bdad3\">\n",
              "      Upload widget is only available when the cell has been executed in the\n",
              "      current browser session. Please rerun this cell to enable.\n",
              "      </output>\n",
              "      <script src=\"/nbextensions/google.colab/files.js\"></script> "
            ],
            "text/plain": [
              "<IPython.core.display.HTML object>"
            ]
          },
          "metadata": {
            "tags": []
          }
        },
        {
          "output_type": "stream",
          "text": [
            "Saving GlobalLandTemperaturesByCountry.csv to GlobalLandTemperaturesByCountry.csv\n"
          ],
          "name": "stdout"
        }
      ]
    },
    {
      "cell_type": "code",
      "metadata": {
        "id": "03VoNwL0-3O6"
      },
      "source": [
        "#Storing dataset in a Pandas Dataframe\n",
        "import io\n",
        "df1_co = pd.read_csv(io.BytesIO(uploaded1['GlobalLandTemperaturesByCountry.csv']))"
      ],
      "execution_count": null,
      "outputs": []
    },
    {
      "cell_type": "code",
      "metadata": {
        "id": "6wPknHC-JSRB",
        "colab": {
          "base_uri": "https://localhost:8080/"
        },
        "outputId": "c4a818b2-60c2-419d-ce46-b554f199cc7f"
      },
      "source": [
        "#Checking the dataframe information\n",
        "df1_co.info()"
      ],
      "execution_count": null,
      "outputs": [
        {
          "output_type": "stream",
          "text": [
            "<class 'pandas.core.frame.DataFrame'>\n",
            "RangeIndex: 577462 entries, 0 to 577461\n",
            "Data columns (total 4 columns):\n",
            " #   Column                         Non-Null Count   Dtype  \n",
            "---  ------                         --------------   -----  \n",
            " 0   dt                             577462 non-null  object \n",
            " 1   AverageTemperature             544811 non-null  float64\n",
            " 2   AverageTemperatureUncertainty  545550 non-null  float64\n",
            " 3   Country                        577462 non-null  object \n",
            "dtypes: float64(2), object(2)\n",
            "memory usage: 17.6+ MB\n"
          ],
          "name": "stdout"
        }
      ]
    },
    {
      "cell_type": "markdown",
      "metadata": {
        "id": "SfsO1iFXxmEq"
      },
      "source": [
        "##Data Cleaning"
      ]
    },
    {
      "cell_type": "code",
      "metadata": {
        "colab": {
          "base_uri": "https://localhost:8080/"
        },
        "id": "PXvtY0WFxjY8",
        "outputId": "51273e31-a80e-4bc1-c64d-0a1ba6af018f"
      },
      "source": [
        "#Checking for missing values the in dataframe\n",
        "df1_co.isna().sum()"
      ],
      "execution_count": null,
      "outputs": [
        {
          "output_type": "execute_result",
          "data": {
            "text/plain": [
              "dt                                   0\n",
              "AverageTemperature               32651\n",
              "AverageTemperatureUncertainty    31912\n",
              "Country                              0\n",
              "dtype: int64"
            ]
          },
          "metadata": {
            "tags": []
          },
          "execution_count": 13
        }
      ]
    },
    {
      "cell_type": "code",
      "metadata": {
        "colab": {
          "base_uri": "https://localhost:8080/"
        },
        "id": "2McO3p_Nx5Wx",
        "outputId": "61517c48-4cf1-45ea-9929-0f030bea9f45"
      },
      "source": [
        "#Removing missing values\n",
        "df1_co.dropna(axis=0, how='any', subset=['AverageTemperature'], inplace=True, )\n",
        "df1_co.isna().sum()"
      ],
      "execution_count": null,
      "outputs": [
        {
          "output_type": "execute_result",
          "data": {
            "text/plain": [
              "dt                               0\n",
              "AverageTemperature               0\n",
              "AverageTemperatureUncertainty    0\n",
              "Country                          0\n",
              "dtype: int64"
            ]
          },
          "metadata": {
            "tags": []
          },
          "execution_count": 14
        }
      ]
    },
    {
      "cell_type": "code",
      "metadata": {
        "colab": {
          "base_uri": "https://localhost:8080/",
          "height": 204
        },
        "id": "sy58JUFMv_N0",
        "outputId": "be363695-1d81-4ac9-9b51-ea613160ce92"
      },
      "source": [
        "#Parsing date column to datetime object and reset index\n",
        "df1_co['dt'] = pd.to_datetime(df1_co['dt'], format='%Y-%m-%d %H:%M:%S', errors='coerce')\n",
        "df1_co.reset_index(drop=True, inplace=True)\n",
        "df1_co.head()"
      ],
      "execution_count": null,
      "outputs": [
        {
          "output_type": "execute_result",
          "data": {
            "text/html": [
              "<div>\n",
              "<style scoped>\n",
              "    .dataframe tbody tr th:only-of-type {\n",
              "        vertical-align: middle;\n",
              "    }\n",
              "\n",
              "    .dataframe tbody tr th {\n",
              "        vertical-align: top;\n",
              "    }\n",
              "\n",
              "    .dataframe thead th {\n",
              "        text-align: right;\n",
              "    }\n",
              "</style>\n",
              "<table border=\"1\" class=\"dataframe\">\n",
              "  <thead>\n",
              "    <tr style=\"text-align: right;\">\n",
              "      <th></th>\n",
              "      <th>dt</th>\n",
              "      <th>AverageTemperature</th>\n",
              "      <th>AverageTemperatureUncertainty</th>\n",
              "      <th>Country</th>\n",
              "    </tr>\n",
              "  </thead>\n",
              "  <tbody>\n",
              "    <tr>\n",
              "      <th>0</th>\n",
              "      <td>1743-11-01</td>\n",
              "      <td>4.384</td>\n",
              "      <td>2.294</td>\n",
              "      <td>Åland</td>\n",
              "    </tr>\n",
              "    <tr>\n",
              "      <th>1</th>\n",
              "      <td>1744-04-01</td>\n",
              "      <td>1.530</td>\n",
              "      <td>4.680</td>\n",
              "      <td>Åland</td>\n",
              "    </tr>\n",
              "    <tr>\n",
              "      <th>2</th>\n",
              "      <td>1744-05-01</td>\n",
              "      <td>6.702</td>\n",
              "      <td>1.789</td>\n",
              "      <td>Åland</td>\n",
              "    </tr>\n",
              "    <tr>\n",
              "      <th>3</th>\n",
              "      <td>1744-06-01</td>\n",
              "      <td>11.609</td>\n",
              "      <td>1.577</td>\n",
              "      <td>Åland</td>\n",
              "    </tr>\n",
              "    <tr>\n",
              "      <th>4</th>\n",
              "      <td>1744-07-01</td>\n",
              "      <td>15.342</td>\n",
              "      <td>1.410</td>\n",
              "      <td>Åland</td>\n",
              "    </tr>\n",
              "  </tbody>\n",
              "</table>\n",
              "</div>"
            ],
            "text/plain": [
              "          dt  AverageTemperature  AverageTemperatureUncertainty Country\n",
              "0 1743-11-01               4.384                          2.294   Åland\n",
              "1 1744-04-01               1.530                          4.680   Åland\n",
              "2 1744-05-01               6.702                          1.789   Åland\n",
              "3 1744-06-01              11.609                          1.577   Åland\n",
              "4 1744-07-01              15.342                          1.410   Åland"
            ]
          },
          "metadata": {
            "tags": []
          },
          "execution_count": 15
        }
      ]
    },
    {
      "cell_type": "code",
      "metadata": {
        "colab": {
          "base_uri": "https://localhost:8080/"
        },
        "id": "RQTqFy3HzqyW",
        "outputId": "3d5423ac-8422-419a-fc52-953f76d3545a"
      },
      "source": [
        "#Checking the number of unique countries\n",
        "df1_co['Country'].nunique()"
      ],
      "execution_count": null,
      "outputs": [
        {
          "output_type": "execute_result",
          "data": {
            "text/plain": [
              "242"
            ]
          },
          "metadata": {
            "tags": []
          },
          "execution_count": 16
        }
      ]
    },
    {
      "cell_type": "code",
      "metadata": {
        "colab": {
          "base_uri": "https://localhost:8080/"
        },
        "id": "k9VYwXK70Bp1",
        "outputId": "2234aea7-31a9-4995-9cd5-62276a6e8f7d"
      },
      "source": [
        "#Checking if there are duplicate values\n",
        "df1_co['Country'].unique()"
      ],
      "execution_count": null,
      "outputs": [
        {
          "output_type": "execute_result",
          "data": {
            "text/plain": [
              "array(['Åland', 'Afghanistan', 'Africa', 'Albania', 'Algeria',\n",
              "       'American Samoa', 'Andorra', 'Angola', 'Anguilla',\n",
              "       'Antigua And Barbuda', 'Argentina', 'Armenia', 'Aruba', 'Asia',\n",
              "       'Australia', 'Austria', 'Azerbaijan', 'Bahamas', 'Bahrain',\n",
              "       'Baker Island', 'Bangladesh', 'Barbados', 'Belarus', 'Belgium',\n",
              "       'Belize', 'Benin', 'Bhutan', 'Bolivia',\n",
              "       'Bonaire, Saint Eustatius And Saba', 'Bosnia And Herzegovina',\n",
              "       'Botswana', 'Brazil', 'British Virgin Islands', 'Bulgaria',\n",
              "       'Burkina Faso', 'Burma', 'Burundi', \"Côte D'Ivoire\", 'Cambodia',\n",
              "       'Cameroon', 'Canada', 'Cape Verde', 'Cayman Islands',\n",
              "       'Central African Republic', 'Chad', 'Chile', 'China',\n",
              "       'Christmas Island', 'Colombia', 'Comoros',\n",
              "       'Congo (Democratic Republic Of The)', 'Congo', 'Costa Rica',\n",
              "       'Croatia', 'Cuba', 'Curaçao', 'Cyprus', 'Czech Republic',\n",
              "       'Denmark (Europe)', 'Denmark', 'Djibouti', 'Dominica',\n",
              "       'Dominican Republic', 'Ecuador', 'Egypt', 'El Salvador',\n",
              "       'Equatorial Guinea', 'Eritrea', 'Estonia', 'Ethiopia', 'Europe',\n",
              "       'Falkland Islands (Islas Malvinas)', 'Faroe Islands',\n",
              "       'Federated States Of Micronesia', 'Fiji', 'Finland',\n",
              "       'France (Europe)', 'France', 'French Guiana', 'French Polynesia',\n",
              "       'French Southern And Antarctic Lands', 'Gabon', 'Gambia',\n",
              "       'Gaza Strip', 'Georgia', 'Germany', 'Ghana', 'Greece', 'Greenland',\n",
              "       'Grenada', 'Guadeloupe', 'Guam', 'Guatemala', 'Guernsey',\n",
              "       'Guinea Bissau', 'Guinea', 'Guyana', 'Haiti',\n",
              "       'Heard Island And Mcdonald Islands', 'Honduras', 'Hong Kong',\n",
              "       'Hungary', 'Iceland', 'India', 'Indonesia', 'Iran', 'Iraq',\n",
              "       'Ireland', 'Isle Of Man', 'Israel', 'Italy', 'Jamaica', 'Japan',\n",
              "       'Jersey', 'Jordan', 'Kazakhstan', 'Kenya', 'Kingman Reef',\n",
              "       'Kiribati', 'Kuwait', 'Kyrgyzstan', 'Laos', 'Latvia', 'Lebanon',\n",
              "       'Lesotho', 'Liberia', 'Libya', 'Liechtenstein', 'Lithuania',\n",
              "       'Luxembourg', 'Macau', 'Macedonia', 'Madagascar', 'Malawi',\n",
              "       'Malaysia', 'Mali', 'Malta', 'Martinique', 'Mauritania',\n",
              "       'Mauritius', 'Mayotte', 'Mexico', 'Moldova', 'Monaco', 'Mongolia',\n",
              "       'Montenegro', 'Montserrat', 'Morocco', 'Mozambique', 'Namibia',\n",
              "       'Nepal', 'Netherlands (Europe)', 'Netherlands', 'New Caledonia',\n",
              "       'New Zealand', 'Nicaragua', 'Niger', 'Nigeria', 'Niue',\n",
              "       'North America', 'North Korea', 'Northern Mariana Islands',\n",
              "       'Norway', 'Oceania', 'Oman', 'Pakistan', 'Palau', 'Palestina',\n",
              "       'Palmyra Atoll', 'Panama', 'Papua New Guinea', 'Paraguay', 'Peru',\n",
              "       'Philippines', 'Poland', 'Portugal', 'Puerto Rico', 'Qatar',\n",
              "       'Reunion', 'Romania', 'Russia', 'Rwanda', 'Saint Barthélemy',\n",
              "       'Saint Kitts And Nevis', 'Saint Lucia', 'Saint Martin',\n",
              "       'Saint Pierre And Miquelon', 'Saint Vincent And The Grenadines',\n",
              "       'Samoa', 'San Marino', 'Sao Tome And Principe', 'Saudi Arabia',\n",
              "       'Senegal', 'Serbia', 'Seychelles', 'Sierra Leone', 'Singapore',\n",
              "       'Sint Maarten', 'Slovakia', 'Slovenia', 'Solomon Islands',\n",
              "       'Somalia', 'South Africa', 'South America',\n",
              "       'South Georgia And The South Sandwich Isla', 'South Korea',\n",
              "       'Spain', 'Sri Lanka', 'Sudan', 'Suriname',\n",
              "       'Svalbard And Jan Mayen', 'Swaziland', 'Sweden', 'Switzerland',\n",
              "       'Syria', 'Taiwan', 'Tajikistan', 'Tanzania', 'Thailand',\n",
              "       'Timor Leste', 'Togo', 'Tonga', 'Trinidad And Tobago', 'Tunisia',\n",
              "       'Turkey', 'Turkmenistan', 'Turks And Caicas Islands', 'Uganda',\n",
              "       'Ukraine', 'United Arab Emirates', 'United Kingdom (Europe)',\n",
              "       'United Kingdom', 'United States', 'Uruguay', 'Uzbekistan',\n",
              "       'Venezuela', 'Vietnam', 'Virgin Islands', 'Western Sahara',\n",
              "       'Yemen', 'Zambia', 'Zimbabwe'], dtype=object)"
            ]
          },
          "metadata": {
            "tags": []
          },
          "execution_count": 18
        }
      ]
    },
    {
      "cell_type": "code",
      "metadata": {
        "id": "qenYgy3H0Z-H"
      },
      "source": [
        "#Replacing duplicated values in Country names\n",
        "countries_dict = {'Congo (Democratic Republic Of The)': 'Congo', 'Denmark (Europe)': 'Denmark', 'France (Europe)': 'France',\n",
        "                  'Netherlands (Europe)': 'Netherlands', 'United Kingdom (Europe)': 'United Kingdom'}\n",
        "\n",
        "df1_co['Country'] = df1_co['Country'].replace(to_replace=countries_dict)"
      ],
      "execution_count": null,
      "outputs": []
    },
    {
      "cell_type": "code",
      "metadata": {
        "colab": {
          "base_uri": "https://localhost:8080/",
          "height": 17
        },
        "id": "OrmNw2-L5DLQ",
        "outputId": "e193ceff-0c0c-424a-a797-b4462c553b3c"
      },
      "source": [
        "#Exporting to excel in local disk\n",
        "from google.colab import files\n",
        "df1_co.to_excel('global_land_temp_by_country.xlsx', index=False) #==> Excluding index from file\n",
        "files.download('global_land_temp_by_country.xlsx')"
      ],
      "execution_count": null,
      "outputs": [
        {
          "output_type": "display_data",
          "data": {
            "application/javascript": [
              "\n",
              "    async function download(id, filename, size) {\n",
              "      if (!google.colab.kernel.accessAllowed) {\n",
              "        return;\n",
              "      }\n",
              "      const div = document.createElement('div');\n",
              "      const label = document.createElement('label');\n",
              "      label.textContent = `Downloading \"${filename}\": `;\n",
              "      div.appendChild(label);\n",
              "      const progress = document.createElement('progress');\n",
              "      progress.max = size;\n",
              "      div.appendChild(progress);\n",
              "      document.body.appendChild(div);\n",
              "\n",
              "      const buffers = [];\n",
              "      let downloaded = 0;\n",
              "\n",
              "      const channel = await google.colab.kernel.comms.open(id);\n",
              "      // Send a message to notify the kernel that we're ready.\n",
              "      channel.send({})\n",
              "\n",
              "      for await (const message of channel.messages) {\n",
              "        // Send a message to notify the kernel that we're ready.\n",
              "        channel.send({})\n",
              "        if (message.buffers) {\n",
              "          for (const buffer of message.buffers) {\n",
              "            buffers.push(buffer);\n",
              "            downloaded += buffer.byteLength;\n",
              "            progress.value = downloaded;\n",
              "          }\n",
              "        }\n",
              "      }\n",
              "      const blob = new Blob(buffers, {type: 'application/binary'});\n",
              "      const a = document.createElement('a');\n",
              "      a.href = window.URL.createObjectURL(blob);\n",
              "      a.download = filename;\n",
              "      div.appendChild(a);\n",
              "      a.click();\n",
              "      div.remove();\n",
              "    }\n",
              "  "
            ],
            "text/plain": [
              "<IPython.core.display.Javascript object>"
            ]
          },
          "metadata": {
            "tags": []
          }
        },
        {
          "output_type": "display_data",
          "data": {
            "application/javascript": [
              "download(\"download_84799c00-3ddd-4930-b7fe-da3ab7d00f59\", \"global_land_temp_by_country.xlsx\", 14082178)"
            ],
            "text/plain": [
              "<IPython.core.display.Javascript object>"
            ]
          },
          "metadata": {
            "tags": []
          }
        }
      ]
    },
    {
      "cell_type": "markdown",
      "metadata": {
        "id": "GR63wIYG6cMC"
      },
      "source": [
        "##Data Manipulation"
      ]
    },
    {
      "cell_type": "code",
      "metadata": {
        "id": "nW8udlvZQXEF"
      },
      "source": [
        "#Remove previous versions of the uploaded file\n",
        "!rm global_temp_by_country.xlsx"
      ],
      "execution_count": null,
      "outputs": []
    },
    {
      "cell_type": "code",
      "metadata": {
        "colab": {
          "resources": {
            "http://localhost:8080/nbextensions/google.colab/files.js": {
              "data": "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",
              "ok": true,
              "headers": [
                [
                  "content-type",
                  "application/javascript"
                ]
              ],
              "status": 200,
              "status_text": ""
            }
          },
          "base_uri": "https://localhost:8080/",
          "height": 72
        },
        "id": "6b8UDhHDQXYn",
        "outputId": "c824a973-9985-4215-a04e-d61a132b141c"
      },
      "source": [
        "#Uploading file from local drive\n",
        "from google.colab import files\n",
        "uploaded1a = files.upload()"
      ],
      "execution_count": null,
      "outputs": [
        {
          "output_type": "display_data",
          "data": {
            "text/html": [
              "\n",
              "     <input type=\"file\" id=\"files-498358da-e48a-4dfd-b5f7-30750177e37c\" name=\"files[]\" multiple disabled\n",
              "        style=\"border:none\" />\n",
              "     <output id=\"result-498358da-e48a-4dfd-b5f7-30750177e37c\">\n",
              "      Upload widget is only available when the cell has been executed in the\n",
              "      current browser session. Please rerun this cell to enable.\n",
              "      </output>\n",
              "      <script src=\"/nbextensions/google.colab/files.js\"></script> "
            ],
            "text/plain": [
              "<IPython.core.display.HTML object>"
            ]
          },
          "metadata": {
            "tags": []
          }
        },
        {
          "output_type": "stream",
          "text": [
            "Saving global_temp_by_country.xlsx to global_temp_by_country (1).xlsx\n"
          ],
          "name": "stdout"
        }
      ]
    },
    {
      "cell_type": "code",
      "metadata": {
        "id": "K4gXw90DQXYp"
      },
      "source": [
        "#Storing dataset in a Pandas Dataframe\n",
        "import io\n",
        "df1_co = pd.read_excel(io.BytesIO(uploaded1a['global_temp_by_country.xlsx']))"
      ],
      "execution_count": null,
      "outputs": []
    },
    {
      "cell_type": "code",
      "metadata": {
        "colab": {
          "base_uri": "https://localhost:8080/",
          "height": 111
        },
        "id": "T4RaKCDr64f1",
        "outputId": "6edd4c11-7b77-4547-9cb2-69d7b562fc43"
      },
      "source": [
        "#Extracting year from datetime object and renaming columns\n",
        "df1_co = df1_co.assign(Year = df1_co['dt'].dt.year)\n",
        "df1_co = df1_co.rename(columns={'AverageTemperature': 'Temp', 'AverageTemperatureUncertainty': 'Temp_uncer'})\n",
        "df1_co.tail(2)"
      ],
      "execution_count": null,
      "outputs": [
        {
          "output_type": "execute_result",
          "data": {
            "text/html": [
              "<div>\n",
              "<style scoped>\n",
              "    .dataframe tbody tr th:only-of-type {\n",
              "        vertical-align: middle;\n",
              "    }\n",
              "\n",
              "    .dataframe tbody tr th {\n",
              "        vertical-align: top;\n",
              "    }\n",
              "\n",
              "    .dataframe thead th {\n",
              "        text-align: right;\n",
              "    }\n",
              "</style>\n",
              "<table border=\"1\" class=\"dataframe\">\n",
              "  <thead>\n",
              "    <tr style=\"text-align: right;\">\n",
              "      <th></th>\n",
              "      <th>dt</th>\n",
              "      <th>Temp</th>\n",
              "      <th>Temp_uncer</th>\n",
              "      <th>Country</th>\n",
              "      <th>Year</th>\n",
              "    </tr>\n",
              "  </thead>\n",
              "  <tbody>\n",
              "    <tr>\n",
              "      <th>544809</th>\n",
              "      <td>2013-07-01</td>\n",
              "      <td>17.000</td>\n",
              "      <td>0.453</td>\n",
              "      <td>Zimbabwe</td>\n",
              "      <td>2013</td>\n",
              "    </tr>\n",
              "    <tr>\n",
              "      <th>544810</th>\n",
              "      <td>2013-08-01</td>\n",
              "      <td>19.759</td>\n",
              "      <td>0.717</td>\n",
              "      <td>Zimbabwe</td>\n",
              "      <td>2013</td>\n",
              "    </tr>\n",
              "  </tbody>\n",
              "</table>\n",
              "</div>"
            ],
            "text/plain": [
              "               dt    Temp  Temp_uncer   Country  Year\n",
              "544809 2013-07-01  17.000       0.453  Zimbabwe  2013\n",
              "544810 2013-08-01  19.759       0.717  Zimbabwe  2013"
            ]
          },
          "metadata": {
            "tags": []
          },
          "execution_count": 5
        }
      ]
    },
    {
      "cell_type": "code",
      "metadata": {
        "colab": {
          "base_uri": "https://localhost:8080/",
          "height": 111
        },
        "id": "aXavfJQE7hzN",
        "outputId": "12906069-2030-466d-fde8-4c63422e2fe4"
      },
      "source": [
        "#Creating a datraframe with average temperatures for each year\n",
        "df1_avgtemp = df1_co.groupby(['Year']).agg(Mean_temp=('Temp','mean')).reset_index()\n",
        "df1_avgtemp.tail(2)"
      ],
      "execution_count": null,
      "outputs": [
        {
          "output_type": "execute_result",
          "data": {
            "text/html": [
              "<div>\n",
              "<style scoped>\n",
              "    .dataframe tbody tr th:only-of-type {\n",
              "        vertical-align: middle;\n",
              "    }\n",
              "\n",
              "    .dataframe tbody tr th {\n",
              "        vertical-align: top;\n",
              "    }\n",
              "\n",
              "    .dataframe thead th {\n",
              "        text-align: right;\n",
              "    }\n",
              "</style>\n",
              "<table border=\"1\" class=\"dataframe\">\n",
              "  <thead>\n",
              "    <tr style=\"text-align: right;\">\n",
              "      <th></th>\n",
              "      <th>Year</th>\n",
              "      <th>Mean_temp</th>\n",
              "    </tr>\n",
              "  </thead>\n",
              "  <tbody>\n",
              "    <tr>\n",
              "      <th>265</th>\n",
              "      <td>2012</td>\n",
              "      <td>19.468744</td>\n",
              "    </tr>\n",
              "    <tr>\n",
              "      <th>266</th>\n",
              "      <td>2013</td>\n",
              "      <td>19.877007</td>\n",
              "    </tr>\n",
              "  </tbody>\n",
              "</table>\n",
              "</div>"
            ],
            "text/plain": [
              "     Year  Mean_temp\n",
              "265  2012  19.468744\n",
              "266  2013  19.877007"
            ]
          },
          "metadata": {
            "tags": []
          },
          "execution_count": 6
        }
      ]
    },
    {
      "cell_type": "code",
      "metadata": {
        "colab": {
          "base_uri": "https://localhost:8080/",
          "height": 111
        },
        "id": "klXVui4VCP5s",
        "outputId": "7c16e363-f12d-4110-d87d-8bb15156ae51"
      },
      "source": [
        "#Creating a second dataframe with average temperatures by year and country\n",
        "df1_avgcountry = df1_co.groupby(['Year', 'Country']).agg({'Temp': ['mean', 'min', 'max']}).reset_index()\n",
        "df1_avgcountry.columns = ['_'.join(col) if 'Temp' in col[0] else col[0] for col in df1_avgcountry.columns]\n",
        "df1_avgcountry.tail(2)"
      ],
      "execution_count": null,
      "outputs": [
        {
          "output_type": "execute_result",
          "data": {
            "text/html": [
              "<div>\n",
              "<style scoped>\n",
              "    .dataframe tbody tr th:only-of-type {\n",
              "        vertical-align: middle;\n",
              "    }\n",
              "\n",
              "    .dataframe tbody tr th {\n",
              "        vertical-align: top;\n",
              "    }\n",
              "\n",
              "    .dataframe thead th {\n",
              "        text-align: right;\n",
              "    }\n",
              "</style>\n",
              "<table border=\"1\" class=\"dataframe\">\n",
              "  <thead>\n",
              "    <tr style=\"text-align: right;\">\n",
              "      <th></th>\n",
              "      <th>Year</th>\n",
              "      <th>Country</th>\n",
              "      <th>Temp_mean</th>\n",
              "      <th>Temp_min</th>\n",
              "      <th>Temp_max</th>\n",
              "    </tr>\n",
              "  </thead>\n",
              "  <tbody>\n",
              "    <tr>\n",
              "      <th>44775</th>\n",
              "      <td>2013</td>\n",
              "      <td>Zimbabwe</td>\n",
              "      <td>20.71075</td>\n",
              "      <td>17.000</td>\n",
              "      <td>24.075</td>\n",
              "    </tr>\n",
              "    <tr>\n",
              "      <th>44776</th>\n",
              "      <td>2013</td>\n",
              "      <td>Åland</td>\n",
              "      <td>6.22975</td>\n",
              "      <td>-4.779</td>\n",
              "      <td>16.447</td>\n",
              "    </tr>\n",
              "  </tbody>\n",
              "</table>\n",
              "</div>"
            ],
            "text/plain": [
              "       Year   Country  Temp_mean  Temp_min  Temp_max\n",
              "44775  2013  Zimbabwe   20.71075    17.000    24.075\n",
              "44776  2013     Åland    6.22975    -4.779    16.447"
            ]
          },
          "metadata": {
            "tags": []
          },
          "execution_count": 7
        }
      ]
    },
    {
      "cell_type": "markdown",
      "metadata": {
        "id": "hmvtmMqf8C2q"
      },
      "source": [
        "##Global Data Visualization"
      ]
    },
    {
      "cell_type": "code",
      "metadata": {
        "colab": {
          "base_uri": "https://localhost:8080/",
          "height": 467
        },
        "id": "8A0bzbx_8Epg",
        "outputId": "6bbf57ae-f6db-40fc-c3ff-6527b1bc0a39"
      },
      "source": [
        "#Visualizing Average Temperature from 1750 to 2013\n",
        "fig_1 = px.line(data_frame=df1_avgtemp[6:], x='Year', y='Mean_temp', range_y=(0, 25), title='Average World Temperature °C', width=900, height=450)\n",
        "fig_1.show()"
      ],
      "execution_count": null,
      "outputs": [
        {
          "output_type": "display_data",
          "data": {
            "text/html": [
              "<html>\n",
              "<head><meta charset=\"utf-8\" /></head>\n",
              "<body>\n",
              "    <div>            <script src=\"https://cdnjs.cloudflare.com/ajax/libs/mathjax/2.7.5/MathJax.js?config=TeX-AMS-MML_SVG\"></script><script type=\"text/javascript\">if (window.MathJax) {MathJax.Hub.Config({SVG: {font: \"STIX-Web\"}});}</script>                <script type=\"text/javascript\">window.PlotlyConfig = {MathJaxConfig: 'local'};</script>\n",
              "        <script src=\"https://cdn.plot.ly/plotly-2.1.0.min.js\"></script>                <div id=\"99b5b59f-0392-4660-97b5-4176df54cf87\" class=\"plotly-graph-div\" style=\"height:450px; width:900px;\"></div>            <script type=\"text/javascript\">                                    window.PLOTLYENV=window.PLOTLYENV || {};                                    if (document.getElementById(\"99b5b59f-0392-4660-97b5-4176df54cf87\")) {                    Plotly.newPlot(                        \"99b5b59f-0392-4660-97b5-4176df54cf87\",                        [{\"hovertemplate\":\"Year=%{x}<br>Mean_temp=%{y}<extra></extra>\",\"legendgroup\":\"\",\"line\":{\"color\":\"#636efa\",\"dash\":\"solid\"},\"mode\":\"lines\",\"name\":\"\",\"orientation\":\"v\",\"showlegend\":false,\"type\":\"scatter\",\"x\":[1753,1754,1755,1756,1757,1758,1759,1760,1761,1762,1763,1764,1765,1766,1767,1768,1769,1770,1771,1772,1773,1774,1775,1776,1777,1778,1779,1780,1781,1782,1783,1784,1785,1786,1787,1788,1789,1790,1791,1792,1793,1794,1795,1796,1797,1798,1799,1800,1801,1802,1803,1804,1805,1806,1807,1808,1809,1810,1811,1812,1813,1814,1815,1816,1817,1818,1819,1820,1821,1822,1823,1824,1825,1826,1827,1828,1829,1830,1831,1832,1833,1834,1835,1836,1837,1838,1839,1840,1841,1842,1843,1844,1845,1846,1847,1848,1849,1850,1851,1852,1853,1854,1855,1856,1857,1858,1859,1860,1861,1862,1863,1864,1865,1866,1867,1868,1869,1870,1871,1872,1873,1874,1875,1876,1877,1878,1879,1880,1881,1882,1883,1884,1885,1886,1887,1888,1889,1890,1891,1892,1893,1894,1895,1896,1897,1898,1899,1900,1901,1902,1903,1904,1905,1906,1907,1908,1909,1910,1911,1912,1913,1914,1915,1916,1917,1918,1919,1920,1921,1922,1923,1924,1925,1926,1927,1928,1929,1930,1931,1932,1933,1934,1935,1936,1937,1938,1939,1940,1941,1942,1943,1944,1945,1946,1947,1948,1949,1950,1951,1952,1953,1954,1955,1956,1957,1958,1959,1960,1961,1962,1963,1964,1965,1966,1967,1968,1969,1970,1971,1972,1973,1974,1975,1976,1977,1978,1979,1980,1981,1982,1983,1984,1985,1986,1987,1988,1989,1990,1991,1992,1993,1994,1995,1996,1997,1998,1999,2000,2001,2002,2003,2004,2005,2006,2007,2008,2009,2010,2011,2012,2013],\"xaxis\":\"x\",\"y\":[8.870820754716974,8.822018957345975,8.530536277602524,9.179886255924178,8.993332283464575,8.130370542635658,9.261257716049373,8.532081761006298,8.940669242658416,8.517924148606802,8.086262422360255,8.84558786936237,8.503952086553312,8.620333333333344,8.208010819165372,7.87581696428572,8.441631964809378,8.60889545454545,8.429763636363635,9.105813271604958,9.080228310502273,8.403788109756087,9.307762589928071,8.210426491994166,8.102558739255016,8.707566568047346,9.231317436661708,8.83174251497006,9.095413742690058,7.793591630591629,8.957380809595199,7.977893939393945,7.753425149700594,7.9631562499999955,10.600193333333333,9.915709141274235,10.551814578005105,10.938674934725855,11.380044554455454,10.512480964466997,9.630539215686278,10.270525730180815,9.371622881355925,10.280041184041169,10.550860313315937,10.791231578947377,9.863822164948452,10.804132051282046,11.027885416666663,10.97987532467532,10.936170370370363,11.715498203592809,9.699310299869628,10.809632812499993,10.411802371541508,8.955127688172045,9.432465601965596,9.389049751243776,10.157996389891688,8.402495412844027,9.956951807228922,9.360688282138796,9.678449943757023,9.508635179153082,10.228215885947058,10.57887473903966,11.002840637450197,10.455146744412053,11.076848256361922,11.37343282149712,10.522018099547513,14.40054254545455,15.753609217171677,14.497344460227259,14.845123955431736,14.639854456824526,13.561706676136367,11.284793439716323,11.146712897526506,10.553762152777782,11.032854166666665,11.491121464226284,11.384895931142418,11.203054794520568,11.156521115537839,11.28693778801844,12.245916972814072,12.499997218358839,12.842211643835615,12.758690393918465,13.527123610202755,12.568981632653053,14.269233015494647,15.67108877434134,14.94683160919539,15.141178935447355,16.12555092592592,16.86025909090909,16.761128254580537,15.831357406431227,16.030668002002997,16.12428827930177,16.1386325940212,16.885113224237088,16.744694468452902,17.081381213142386,17.686984337349426,17.111546093427044,17.19958470394739,16.01358692562765,16.426328928739977,16.72861437074829,16.57746657445829,16.364951310861446,16.447765790686947,16.93685211581293,17.021075999999983,16.60671460373997,16.143479502533378,16.698265183124743,17.251984965635785,17.34341467436112,17.3747014525994,17.75928045112786,18.00654232804231,18.34222473604831,17.369740291262147,17.73536977007164,17.736361367127515,17.813810790273568,17.987624862486275,17.773038162282262,17.67691933028921,17.93525657894738,17.814221815519787,17.717159909909892,18.138997806215706,18.06020877944328,18.192107344632788,18.215350988700568,18.13537994350282,18.24569233486397,18.250661996497342,18.34111204481791,18.477700773558382,18.376058409570685,18.442158691062616,18.514535638673294,18.491193173821262,18.32801123201121,18.434770833333324,18.21107500000002,18.39950868055553,18.48141909722221,18.13715611961056,18.29103094575801,18.344127777777768,18.380081250000032,18.40820243055552,18.464740972222213,18.491489583333337,18.660602430555578,18.71123993055556,18.551877430555557,18.242554166666665,18.393740277777788,18.531861458333342,18.532302155771937,18.605046891281734,18.50415312500003,18.56541944444442,18.621859027777813,18.588913194444455,18.867932291666705,18.739181944444464,18.73845902777777,18.48581944444443,18.842510941299054,18.755399999999973,18.746082638888822,18.558323958333343,18.818823611111075,18.72231076388888,18.81061944444444,18.957946875000005,18.87344513888888,18.811529166666713,18.70296423611117,18.881445486111073,18.762610763888883,18.81704340277778,18.857434722222248,18.806567361111096,18.92441423611103,19.04098784722219,18.784034482758614,18.74807034482758,18.599716747070964,18.775119146005498,18.80569146005511,18.855640495867714,18.58032128099172,18.657285468319603,18.2875871212121,18.759615013774123,18.942173209366345,18.825205922865013,18.88701308539947,18.92356542699726,18.693847451790656,18.67524793388433,18.581274793388417,18.517540633608817,18.86628753443526,18.6341869834711,18.605818870523393,18.771525826446307,18.794121212121205,18.588206611570275,18.66561157024792,18.873293388429726,18.631447314049606,18.746661845730003,18.482196625344383,18.922260674931135,18.729517217630804,18.909544077134935,18.853321280991768,18.91613636363632,18.852168732782424,19.094044077134942,18.76496074380166,18.69913085399453,18.801151859504106,19.051044765840228,19.111678719008278,19.056766873278228,19.31768629476587,19.011359848484865,18.97200723140493,18.93079958677688,19.25170179063358,19.267069559228617,18.958374655647372,19.25035089531684,19.59678305785124,19.392099517906342,19.349202134986246,19.42530337465562,19.565523415978,19.525086776859506,19.422091942148768,19.499590220385684,19.539134986225847,19.610394283746512,19.423961776859503,19.546385330578506,19.629806129476624,19.456040289256187,19.468744146005506,19.877007153806844],\"yaxis\":\"y\"}],                        {\"height\":450,\"legend\":{\"tracegroupgap\":0},\"template\":{\"data\":{\"bar\":[{\"error_x\":{\"color\":\"#2a3f5f\"},\"error_y\":{\"color\":\"#2a3f5f\"},\"marker\":{\"line\":{\"color\":\"#E5ECF6\",\"width\":0.5},\"pattern\":{\"fillmode\":\"overlay\",\"size\":10,\"solidity\":0.2}},\"type\":\"bar\"}],\"barpolar\":[{\"marker\":{\"line\":{\"color\":\"#E5ECF6\",\"width\":0.5},\"pattern\":{\"fillmode\":\"overlay\",\"size\":10,\"solidity\":0.2}},\"type\":\"barpolar\"}],\"carpet\":[{\"aaxis\":{\"endlinecolor\":\"#2a3f5f\",\"gridcolor\":\"white\",\"linecolor\":\"white\",\"minorgridcolor\":\"white\",\"startlinecolor\":\"#2a3f5f\"},\"baxis\":{\"endlinecolor\":\"#2a3f5f\",\"gridcolor\":\"white\",\"linecolor\":\"white\",\"minorgridcolor\":\"white\",\"startlinecolor\":\"#2a3f5f\"},\"type\":\"carpet\"}],\"choropleth\":[{\"colorbar\":{\"outlinewidth\":0,\"ticks\":\"\"},\"type\":\"choropleth\"}],\"contour\":[{\"colorbar\":{\"outlinewidth\":0,\"ticks\":\"\"},\"colorscale\":[[0.0,\"#0d0887\"],[0.1111111111111111,\"#46039f\"],[0.2222222222222222,\"#7201a8\"],[0.3333333333333333,\"#9c179e\"],[0.4444444444444444,\"#bd3786\"],[0.5555555555555556,\"#d8576b\"],[0.6666666666666666,\"#ed7953\"],[0.7777777777777778,\"#fb9f3a\"],[0.8888888888888888,\"#fdca26\"],[1.0,\"#f0f921\"]],\"type\":\"contour\"}],\"contourcarpet\":[{\"colorbar\":{\"outlinewidth\":0,\"ticks\":\"\"},\"type\":\"contourcarpet\"}],\"heatmap\":[{\"colorbar\":{\"outlinewidth\":0,\"ticks\":\"\"},\"colorscale\":[[0.0,\"#0d0887\"],[0.1111111111111111,\"#46039f\"],[0.2222222222222222,\"#7201a8\"],[0.3333333333333333,\"#9c179e\"],[0.4444444444444444,\"#bd3786\"],[0.5555555555555556,\"#d8576b\"],[0.6666666666666666,\"#ed7953\"],[0.7777777777777778,\"#fb9f3a\"],[0.8888888888888888,\"#fdca26\"],[1.0,\"#f0f921\"]],\"type\":\"heatmap\"}],\"heatmapgl\":[{\"colorbar\":{\"outlinewidth\":0,\"ticks\":\"\"},\"colorscale\":[[0.0,\"#0d0887\"],[0.1111111111111111,\"#46039f\"],[0.2222222222222222,\"#7201a8\"],[0.3333333333333333,\"#9c179e\"],[0.4444444444444444,\"#bd3786\"],[0.5555555555555556,\"#d8576b\"],[0.6666666666666666,\"#ed7953\"],[0.7777777777777778,\"#fb9f3a\"],[0.8888888888888888,\"#fdca26\"],[1.0,\"#f0f921\"]],\"type\":\"heatmapgl\"}],\"histogram\":[{\"marker\":{\"pattern\":{\"fillmode\":\"overlay\",\"size\":10,\"solidity\":0.2}},\"type\":\"histogram\"}],\"histogram2d\":[{\"colorbar\":{\"outlinewidth\":0,\"ticks\":\"\"},\"colorscale\":[[0.0,\"#0d0887\"],[0.1111111111111111,\"#46039f\"],[0.2222222222222222,\"#7201a8\"],[0.3333333333333333,\"#9c179e\"],[0.4444444444444444,\"#bd3786\"],[0.5555555555555556,\"#d8576b\"],[0.6666666666666666,\"#ed7953\"],[0.7777777777777778,\"#fb9f3a\"],[0.8888888888888888,\"#fdca26\"],[1.0,\"#f0f921\"]],\"type\":\"histogram2d\"}],\"histogram2dcontour\":[{\"colorbar\":{\"outlinewidth\":0,\"ticks\":\"\"},\"colorscale\":[[0.0,\"#0d0887\"],[0.1111111111111111,\"#46039f\"],[0.2222222222222222,\"#7201a8\"],[0.3333333333333333,\"#9c179e\"],[0.4444444444444444,\"#bd3786\"],[0.5555555555555556,\"#d8576b\"],[0.6666666666666666,\"#ed7953\"],[0.7777777777777778,\"#fb9f3a\"],[0.8888888888888888,\"#fdca26\"],[1.0,\"#f0f921\"]],\"type\":\"histogram2dcontour\"}],\"mesh3d\":[{\"colorbar\":{\"outlinewidth\":0,\"ticks\":\"\"},\"type\":\"mesh3d\"}],\"parcoords\":[{\"line\":{\"colorbar\":{\"outlinewidth\":0,\"ticks\":\"\"}},\"type\":\"parcoords\"}],\"pie\":[{\"automargin\":true,\"type\":\"pie\"}],\"scatter\":[{\"marker\":{\"colorbar\":{\"outlinewidth\":0,\"ticks\":\"\"}},\"type\":\"scatter\"}],\"scatter3d\":[{\"line\":{\"colorbar\":{\"outlinewidth\":0,\"ticks\":\"\"}},\"marker\":{\"colorbar\":{\"outlinewidth\":0,\"ticks\":\"\"}},\"type\":\"scatter3d\"}],\"scattercarpet\":[{\"marker\":{\"colorbar\":{\"outlinewidth\":0,\"ticks\":\"\"}},\"type\":\"scattercarpet\"}],\"scattergeo\":[{\"marker\":{\"colorbar\":{\"outlinewidth\":0,\"ticks\":\"\"}},\"type\":\"scattergeo\"}],\"scattergl\":[{\"marker\":{\"colorbar\":{\"outlinewidth\":0,\"ticks\":\"\"}},\"type\":\"scattergl\"}],\"scattermapbox\":[{\"marker\":{\"colorbar\":{\"outlinewidth\":0,\"ticks\":\"\"}},\"type\":\"scattermapbox\"}],\"scatterpolar\":[{\"marker\":{\"colorbar\":{\"outlinewidth\":0,\"ticks\":\"\"}},\"type\":\"scatterpolar\"}],\"scatterpolargl\":[{\"marker\":{\"colorbar\":{\"outlinewidth\":0,\"ticks\":\"\"}},\"type\":\"scatterpolargl\"}],\"scatterternary\":[{\"marker\":{\"colorbar\":{\"outlinewidth\":0,\"ticks\":\"\"}},\"type\":\"scatterternary\"}],\"surface\":[{\"colorbar\":{\"outlinewidth\":0,\"ticks\":\"\"},\"colorscale\":[[0.0,\"#0d0887\"],[0.1111111111111111,\"#46039f\"],[0.2222222222222222,\"#7201a8\"],[0.3333333333333333,\"#9c179e\"],[0.4444444444444444,\"#bd3786\"],[0.5555555555555556,\"#d8576b\"],[0.6666666666666666,\"#ed7953\"],[0.7777777777777778,\"#fb9f3a\"],[0.8888888888888888,\"#fdca26\"],[1.0,\"#f0f921\"]],\"type\":\"surface\"}],\"table\":[{\"cells\":{\"fill\":{\"color\":\"#EBF0F8\"},\"line\":{\"color\":\"white\"}},\"header\":{\"fill\":{\"color\":\"#C8D4E3\"},\"line\":{\"color\":\"white\"}},\"type\":\"table\"}]},\"layout\":{\"annotationdefaults\":{\"arrowcolor\":\"#2a3f5f\",\"arrowhead\":0,\"arrowwidth\":1},\"autotypenumbers\":\"strict\",\"coloraxis\":{\"colorbar\":{\"outlinewidth\":0,\"ticks\":\"\"}},\"colorscale\":{\"diverging\":[[0,\"#8e0152\"],[0.1,\"#c51b7d\"],[0.2,\"#de77ae\"],[0.3,\"#f1b6da\"],[0.4,\"#fde0ef\"],[0.5,\"#f7f7f7\"],[0.6,\"#e6f5d0\"],[0.7,\"#b8e186\"],[0.8,\"#7fbc41\"],[0.9,\"#4d9221\"],[1,\"#276419\"]],\"sequential\":[[0.0,\"#0d0887\"],[0.1111111111111111,\"#46039f\"],[0.2222222222222222,\"#7201a8\"],[0.3333333333333333,\"#9c179e\"],[0.4444444444444444,\"#bd3786\"],[0.5555555555555556,\"#d8576b\"],[0.6666666666666666,\"#ed7953\"],[0.7777777777777778,\"#fb9f3a\"],[0.8888888888888888,\"#fdca26\"],[1.0,\"#f0f921\"]],\"sequentialminus\":[[0.0,\"#0d0887\"],[0.1111111111111111,\"#46039f\"],[0.2222222222222222,\"#7201a8\"],[0.3333333333333333,\"#9c179e\"],[0.4444444444444444,\"#bd3786\"],[0.5555555555555556,\"#d8576b\"],[0.6666666666666666,\"#ed7953\"],[0.7777777777777778,\"#fb9f3a\"],[0.8888888888888888,\"#fdca26\"],[1.0,\"#f0f921\"]]},\"colorway\":[\"#636efa\",\"#EF553B\",\"#00cc96\",\"#ab63fa\",\"#FFA15A\",\"#19d3f3\",\"#FF6692\",\"#B6E880\",\"#FF97FF\",\"#FECB52\"],\"font\":{\"color\":\"#2a3f5f\"},\"geo\":{\"bgcolor\":\"white\",\"lakecolor\":\"white\",\"landcolor\":\"#E5ECF6\",\"showlakes\":true,\"showland\":true,\"subunitcolor\":\"white\"},\"hoverlabel\":{\"align\":\"left\"},\"hovermode\":\"closest\",\"mapbox\":{\"style\":\"light\"},\"paper_bgcolor\":\"white\",\"plot_bgcolor\":\"#E5ECF6\",\"polar\":{\"angularaxis\":{\"gridcolor\":\"white\",\"linecolor\":\"white\",\"ticks\":\"\"},\"bgcolor\":\"#E5ECF6\",\"radialaxis\":{\"gridcolor\":\"white\",\"linecolor\":\"white\",\"ticks\":\"\"}},\"scene\":{\"xaxis\":{\"backgroundcolor\":\"#E5ECF6\",\"gridcolor\":\"white\",\"gridwidth\":2,\"linecolor\":\"white\",\"showbackground\":true,\"ticks\":\"\",\"zerolinecolor\":\"white\"},\"yaxis\":{\"backgroundcolor\":\"#E5ECF6\",\"gridcolor\":\"white\",\"gridwidth\":2,\"linecolor\":\"white\",\"showbackground\":true,\"ticks\":\"\",\"zerolinecolor\":\"white\"},\"zaxis\":{\"backgroundcolor\":\"#E5ECF6\",\"gridcolor\":\"white\",\"gridwidth\":2,\"linecolor\":\"white\",\"showbackground\":true,\"ticks\":\"\",\"zerolinecolor\":\"white\"}},\"shapedefaults\":{\"line\":{\"color\":\"#2a3f5f\"}},\"ternary\":{\"aaxis\":{\"gridcolor\":\"white\",\"linecolor\":\"white\",\"ticks\":\"\"},\"baxis\":{\"gridcolor\":\"white\",\"linecolor\":\"white\",\"ticks\":\"\"},\"bgcolor\":\"#E5ECF6\",\"caxis\":{\"gridcolor\":\"white\",\"linecolor\":\"white\",\"ticks\":\"\"}},\"title\":{\"x\":0.05},\"xaxis\":{\"automargin\":true,\"gridcolor\":\"white\",\"linecolor\":\"white\",\"ticks\":\"\",\"title\":{\"standoff\":15},\"zerolinecolor\":\"white\",\"zerolinewidth\":2},\"yaxis\":{\"automargin\":true,\"gridcolor\":\"white\",\"linecolor\":\"white\",\"ticks\":\"\",\"title\":{\"standoff\":15},\"zerolinecolor\":\"white\",\"zerolinewidth\":2}}},\"title\":{\"text\":\"Average World Temperature \\u00b0C\"},\"width\":900,\"xaxis\":{\"anchor\":\"y\",\"domain\":[0.0,1.0],\"title\":{\"text\":\"Year\"}},\"yaxis\":{\"anchor\":\"x\",\"domain\":[0.0,1.0],\"range\":[0,25],\"title\":{\"text\":\"Mean_temp\"}}},                        {\"responsive\": true}                    ).then(function(){\n",
              "                            \n",
              "var gd = document.getElementById('99b5b59f-0392-4660-97b5-4176df54cf87');\n",
              "var x = new MutationObserver(function (mutations, observer) {{\n",
              "        var display = window.getComputedStyle(gd).display;\n",
              "        if (!display || display === 'none') {{\n",
              "            console.log([gd, 'removed!']);\n",
              "            Plotly.purge(gd);\n",
              "            observer.disconnect();\n",
              "        }}\n",
              "}});\n",
              "\n",
              "// Listen for the removal of the full notebook cells\n",
              "var notebookContainer = gd.closest('#notebook-container');\n",
              "if (notebookContainer) {{\n",
              "    x.observe(notebookContainer, {childList: true});\n",
              "}}\n",
              "\n",
              "// Listen for the clearing of the current output cell\n",
              "var outputEl = gd.closest('.output');\n",
              "if (outputEl) {{\n",
              "    x.observe(outputEl, {childList: true});\n",
              "}}\n",
              "\n",
              "                        })                };                            </script>        </div>\n",
              "</body>\n",
              "</html>"
            ]
          },
          "metadata": {
            "tags": []
          }
        }
      ]
    },
    {
      "cell_type": "code",
      "metadata": {
        "colab": {
          "base_uri": "https://localhost:8080/",
          "height": 467
        },
        "id": "euHMl5jVIz3x",
        "outputId": "fcd6ba4d-017c-43b1-e46d-e29b3f1af93e"
      },
      "source": [
        "#Visualizing average temperatures for top economies\n",
        "countries_list = ['Australia', 'Brazil', 'Canada', 'China', 'Japan', 'Switzerland', 'Unites States', 'United Kingdom']\n",
        "fig_2 = px.line(data_frame=df1_avgcountry[df1_avgcountry['Country'].isin(countries_list)][190:], x='Year', y='Temp_mean',\n",
        "                color='Country', title=f'Average Temperature °C in Top Economies', width=900, height=450)\n",
        "fig_2.show()"
      ],
      "execution_count": null,
      "outputs": [
        {
          "output_type": "display_data",
          "data": {
            "text/html": [
              "<html>\n",
              "<head><meta charset=\"utf-8\" /></head>\n",
              "<body>\n",
              "    <div>            <script src=\"https://cdnjs.cloudflare.com/ajax/libs/mathjax/2.7.5/MathJax.js?config=TeX-AMS-MML_SVG\"></script><script type=\"text/javascript\">if (window.MathJax) {MathJax.Hub.Config({SVG: {font: \"STIX-Web\"}});}</script>                <script type=\"text/javascript\">window.PlotlyConfig = {MathJaxConfig: 'local'};</script>\n",
              "        <script src=\"https://cdn.plot.ly/plotly-2.1.0.min.js\"></script>                <div id=\"47bc1153-af34-4826-bc62-111ef514e56c\" class=\"plotly-graph-div\" style=\"height:450px; width:900px;\"></div>            <script type=\"text/javascript\">                                    window.PLOTLYENV=window.PLOTLYENV || {};                                    if (document.getElementById(\"47bc1153-af34-4826-bc62-111ef514e56c\")) {                    Plotly.newPlot(                        \"47bc1153-af34-4826-bc62-111ef514e56c\",                        [{\"hovertemplate\":\"Country=Canada<br>Year=%{x}<br>Temp_mean=%{y}<extra></extra>\",\"legendgroup\":\"Canada\",\"line\":{\"color\":\"#636efa\",\"dash\":\"solid\"},\"mode\":\"lines\",\"name\":\"Canada\",\"showlegend\":true,\"type\":\"scattergl\",\"x\":[1826,1827,1828,1829,1830,1831,1832,1833,1834,1835,1836,1837,1838,1839,1840,1841,1842,1843,1844,1845,1846,1847,1848,1849,1850,1851,1852,1853,1854,1855,1856,1857,1858,1859,1860,1861,1862,1863,1864,1865,1866,1867,1868,1869,1870,1871,1872,1873,1874,1875,1876,1877,1878,1879,1880,1881,1882,1883,1884,1885,1886,1887,1888,1889,1890,1891,1892,1893,1894,1895,1896,1897,1898,1899,1900,1901,1902,1903,1904,1905,1906,1907,1908,1909,1910,1911,1912,1913,1914,1915,1916,1917,1918,1919,1920,1921,1922,1923,1924,1925,1926,1927,1928,1929,1930,1931,1932,1933,1934,1935,1936,1937,1938,1939,1940,1941,1942,1943,1944,1945,1946,1947,1948,1949,1950,1951,1952,1953,1954,1955,1956,1957,1958,1959,1960,1961,1962,1963,1964,1965,1966,1967,1968,1969,1970,1971,1972,1973,1974,1975,1976,1977,1978,1979,1980,1981,1982,1983,1984,1985,1986,1987,1988,1989,1990,1991,1992,1993,1994,1995,1996,1997,1998,1999,2000,2001,2002,2003,2004,2005,2006,2007,2008,2009,2010,2011,2012,2013],\"xaxis\":\"x\",\"y\":[-5.165500000000001,-4.6457500000000005,-5.0968333333333335,-5.794416666666667,-4.868833333333334,-5.775000000000001,-5.927833333333332,-5.248333333333332,-5.507416666666668,-6.423333333333333,-6.068083333333331,-6.02775,-6.232250000000001,-5.261916666666667,-5.652416666666667,-5.715000000000001,-5.408916666666666,-6.10775,-6.2556666666666665,-5.8905,-4.548083333333333,-5.724666666666667,-5.93175,-6.06958333333333,-5.536249999999999,-5.337916666666669,-5.358,-5.590916666666668,-5.545749999999999,-5.778083333333332,-5.46375,-5.6265833333333335,-5.746249999999999,-5.905750000000001,-5.5,-5.791416666666667,-6.415499999999999,-5.663166666666666,-5.450916666666667,-5.56775,-5.967916666666667,-5.722999999999999,-5.805,-5.267499999999999,-4.953666666666666,-5.559916666666667,-5.350583333333334,-5.609250000000002,-5.3870000000000005,-6.742,-5.982583333333334,-4.232083333333333,-3.5845000000000002,-5.9084166666666675,-6.257416666666668,-5.477416666666666,-5.717416666666666,-6.405249999999999,-6.6605,-5.717000000000001,-6.162000000000002,-6.8946666666666685,-6.014500000000001,-4.999416666666666,-6.45475,-5.629666666666665,-5.338083333333333,-6.273083333333333,-5.8012500000000005,-5.452583333333333,-6.017416666666667,-5.9479999999999995,-5.447333333333333,-6.138499999999998,-5.01875,-5.05225,-5.170916666666667,-5.302583333333334,-5.905083333333334,-5.106416666666668,-5.049416666666667,-6.563083333333334,-5.241416666666667,-5.907833333333332,-5.078416666666667,-5.536833333333333,-5.233083333333333,-5.7746666666666675,-5.778166666666668,-4.173166666666667,-5.470166666666667,-6.369583333333335,-5.95075,-5.369583333333334,-4.910583333333334,-4.750416666666666,-5.726,-5.2769166666666685,-4.860166666666668,-5.264166666666666,-4.975083333333333,-5.359583333333334,-4.286416666666668,-5.461583333333333,-4.3615,-3.648916666666666,-5.172499999999999,-6.116166666666665,-5.207166666666666,-5.557250000000001,-5.971916666666668,-4.545833333333333,-4.025333333333332,-4.918166666666667,-3.9787500000000002,-4.4173333333333344,-4.302833333333333,-4.576083333333332,-3.850333333333334,-5.003666666666667,-5.049333333333332,-4.402916666666666,-4.888000000000001,-4.9485833333333344,-5.952916666666668,-5.393166666666667,-3.984666666666666,-3.9576666666666678,-4.726166666666667,-4.944999999999999,-5.61775,-5.007916666666667,-4.262250000000001,-5.228000000000001,-4.406833333333334,-5.068166666666667,-4.873833333333334,-4.612083333333335,-5.456999999999998,-5.516666666666668,-5.141333333333333,-5.282083333333334,-4.64575,-4.502333333333334,-5.1031666666666675,-4.869583333333335,-6.802916666666667,-4.1795,-5.6410833333333334,-4.945666666666667,-4.790416666666666,-3.84075,-5.300499999999999,-5.00575,-4.416916666666666,-2.86725,-5.875166666666666,-4.75175,-4.634249999999999,-4.901166666666666,-4.843916666666668,-3.3433333333333337,-4.125166666666666,-5.073333333333334,-5.021916666666667,-4.426666666666667,-4.928916666666666,-4.4014999999999995,-4.433666666666667,-4.314333333333334,-4.941166666666667,-4.2315,-2.553916666666666,-3.1863333333333324,-4.025916666666666,-3.1000833333333326,-4.362833333333334,-3.8594999999999993,-4.9230833333333335,-3.30875,-2.4601666666666664,-4.060916666666667,-4.29525,-4.135083333333335,-1.8879166666666662,-3.557083333333333,-3.176833333333334,-1.6406666666666676],\"yaxis\":\"y\"},{\"hovertemplate\":\"Country=Switzerland<br>Year=%{x}<br>Temp_mean=%{y}<extra></extra>\",\"legendgroup\":\"Switzerland\",\"line\":{\"color\":\"#EF553B\",\"dash\":\"solid\"},\"mode\":\"lines\",\"name\":\"Switzerland\",\"showlegend\":true,\"type\":\"scattergl\",\"x\":[1826,1827,1828,1829,1830,1831,1832,1833,1834,1835,1836,1837,1838,1839,1840,1841,1842,1843,1844,1845,1846,1847,1848,1849,1850,1851,1852,1853,1854,1855,1856,1857,1858,1859,1860,1861,1862,1863,1864,1865,1866,1867,1868,1869,1870,1871,1872,1873,1874,1875,1876,1877,1878,1879,1880,1881,1882,1883,1884,1885,1886,1887,1888,1889,1890,1891,1892,1893,1894,1895,1896,1897,1898,1899,1900,1901,1902,1903,1904,1905,1906,1907,1908,1909,1910,1911,1912,1913,1914,1915,1916,1917,1918,1919,1920,1921,1922,1923,1924,1925,1926,1927,1928,1929,1930,1931,1932,1933,1934,1935,1936,1937,1938,1939,1940,1941,1942,1943,1944,1945,1946,1947,1948,1949,1950,1951,1952,1953,1954,1955,1956,1957,1958,1959,1960,1961,1962,1963,1964,1965,1966,1967,1968,1969,1970,1971,1972,1973,1974,1975,1976,1977,1978,1979,1980,1981,1982,1983,1984,1985,1986,1987,1988,1989,1990,1991,1992,1993,1994,1995,1996,1997,1998,1999,2000,2001,2002,2003,2004,2005,2006,2007,2008,2009,2010,2011,2012,2013],\"xaxis\":\"x\",\"y\":[7.064333333333333,6.866583333333334,7.550000000000002,5.416666666666667,6.393250000000001,7.136583333333334,6.670833333333333,6.9395,7.973333333333334,6.419499999999999,6.590416666666667,6.056,5.853333333333333,7.06975,6.205666666666667,7.186583333333332,6.382499999999999,6.731166666666666,6.458083333333332,6.146666666666667,7.706666666666667,6.323249999999999,6.786083333333333,6.856583333333334,6.151583333333334,6.036166666666666,7.231999999999999,5.9715,6.532333333333334,5.850083333333334,6.679583333333333,6.825833333333333,6.028416666666668,7.3445,5.680000000000001,6.956666666666666,7.57125,7.534833333333332,5.876083333333334,7.202083333333334,7.370416666666666,6.874500000000001,7.696999999999999,6.880333333333334,6.21725,5.941249999999999,7.52925,7.213000000000001,6.6245,6.578,6.942416666666666,7.0619999999999985,6.578166666666668,5.895416666666666,7.150749999999999,6.663499999999999,6.922083333333333,6.422999999999999,6.969500000000001,6.718250000000001,6.822666666666667,5.689416666666667,5.924416666666666,5.98825,5.972333333333332,6.0559166666666675,6.755333333333334,7.011916666666667,6.8999999999999995,6.361999999999999,6.156583333333333,7.11625,7.448166666666666,7.25425,7.3051666666666675,6.294249999999999,6.640666666666665,6.830666666666667,7.412916666666668,6.585166666666666,6.90975,6.8183333333333325,6.457166666666667,6.179166666666667,6.725333333333334,7.539999999999999,6.47825,7.005,6.7395,6.633500000000001,7.021166666666667,6.1697500000000005,6.954999999999999,6.350583333333333,7.575583333333333,7.849833333333333,6.433166666666666,7.267416666666668,6.6570833333333335,6.784416666666668,7.456666666666666,7.243583333333333,7.549083333333333,6.653833333333335,7.502666666666666,6.395416666666667,6.840583333333334,6.501416666666667,7.794333333333334,6.947666666666667,7.189083333333333,7.3901666666666666,7.144333333333333,6.779333333333334,5.984333333333332,6.1717499999999985,6.802499999999999,7.9195833333333345,6.7363333333333335,7.666250000000001,7.356000000000001,7.931750000000002,7.766166666666666,7.9958333333333345,7.730916666666668,7.400333333333333,7.1410833333333334,7.551583333333334,6.662916666666665,6.962333333333333,5.968583333333334,7.360583333333335,7.329583333333332,7.919499999999999,7.213250000000001,8.158,6.487416666666668,6.317083333333335,7.392,6.465583333333334,7.438666666666667,7.483416666666667,7.061916666666666,6.777583333333335,6.820666666666667,7.264166666666668,6.903416666666666,6.961416666666666,7.470083333333334,7.447250000000003,7.3615,7.376750000000001,6.602666666666669,7.087416666666667,6.538416666666667,7.128916666666666,7.798583333333334,7.794833333333334,6.82275,6.881583333333336,7.152083333333333,7.137083333333334,7.924583333333332,8.135916666666668,8.255583333333334,7.405000000000001,8.059666666666667,7.617333333333335,8.821083333333332,7.751916666666666,6.974583333333334,8.212416666666668,7.958000000000001,7.902833333333334,8.562666666666667,7.97975,8.484833333333334,8.669749999999999,7.846083333333333,7.573916666666668,8.337750000000002,8.552750000000001,8.109666666666667,8.300666666666666,7.2265000000000015,8.847333333333333,8.159249999999998,8.177500000000002],\"yaxis\":\"y\"},{\"hovertemplate\":\"Country=United Kingdom<br>Year=%{x}<br>Temp_mean=%{y}<extra></extra>\",\"legendgroup\":\"United Kingdom\",\"line\":{\"color\":\"#00cc96\",\"dash\":\"solid\"},\"mode\":\"lines\",\"name\":\"United Kingdom\",\"showlegend\":true,\"type\":\"scattergl\",\"x\":[1826,1827,1828,1829,1830,1831,1832,1833,1834,1835,1836,1837,1838,1839,1840,1841,1842,1843,1844,1845,1846,1847,1848,1849,1850,1851,1852,1853,1854,1855,1856,1857,1858,1859,1860,1861,1862,1863,1864,1865,1866,1867,1868,1869,1870,1871,1872,1873,1874,1875,1876,1877,1878,1879,1880,1881,1882,1883,1884,1885,1886,1887,1888,1889,1890,1891,1892,1893,1894,1895,1896,1897,1898,1899,1900,1901,1902,1903,1904,1905,1906,1907,1908,1909,1910,1911,1912,1913,1914,1915,1916,1917,1918,1919,1920,1921,1922,1923,1924,1925,1926,1927,1928,1929,1930,1931,1932,1933,1934,1935,1936,1937,1938,1939,1940,1941,1942,1943,1944,1945,1946,1947,1948,1949,1950,1951,1952,1953,1954,1955,1956,1957,1958,1959,1960,1961,1962,1963,1964,1965,1966,1967,1968,1969,1970,1971,1972,1973,1974,1975,1976,1977,1978,1979,1980,1981,1982,1983,1984,1985,1986,1987,1988,1989,1990,1991,1992,1993,1994,1995,1996,1997,1998,1999,2000,2001,2002,2003,2004,2005,2006,2007,2008,2009,2010,2011,2012,2013],\"xaxis\":\"x\",\"y\":[9.230916666666667,8.559375000000001,9.221708333333334,7.438500000000002,8.057833333333333,9.021041666666667,8.553083333333332,8.456999999999999,9.493791666666665,8.496916666666666,7.94175,7.954833333333334,7.241333333333334,7.948250000000001,7.948,8.112125,8.667749999999998,8.468833333333334,8.060333333333334,7.802458333333333,9.539791666666666,8.479666666666663,8.470041666666667,8.431916666666668,8.316541666666666,8.41925,9.086875000000001,7.872958333333333,8.601875000000001,7.465291666666668,8.273541666666665,9.327625000000001,8.456000000000001,8.756958333333335,7.336583333333333,8.572125,8.402333333333333,8.815041666666664,8.011249999999999,8.833541666666667,8.601541666666664,8.226333333333331,9.351041666666667,8.602958333333332,8.231458333333334,8.315708333333335,8.876875,8.375666666666666,8.566999999999998,8.602500000000001,8.654208333333335,8.327166666666669,8.599250000000001,6.977916666666666,8.47875,7.756666666666665,8.589458333333333,8.268250000000002,8.853833333333332,7.778375000000001,7.843541666666666,7.822541666666665,7.619666666666667,8.330333333333332,8.311458333333334,7.979333333333334,7.495250000000001,9.092416666666667,8.547,7.974916666666665,8.651041666666666,8.585708333333335,9.144041666666665,8.88875,8.637083333333335,8.448833333333331,8.087499999999999,8.414458333333334,8.352041666666665,8.479750000000001,8.600958333333333,8.17075,8.650583333333334,7.951666666666668,8.472916666666665,9.171375000000001,8.531291666666666,8.924625000000002,9.072375000000001,8.17375,8.473083333333333,7.946500000000001,8.7145,7.816833333333334,8.832,9.566125000000001,8.033541666666668,8.2815,8.524750000000001,8.421708333333333,8.943666666666667,8.387291666666668,8.691791666666665,8.360666666666667,8.662333333333333,8.361791666666669,8.77325,9.210374999999999,9.264208333333332,8.885958333333333,8.676333333333334,8.756208333333332,9.291916666666667,8.95775,8.441291666666668,8.337291666666665,8.386125,9.293833333333335,8.840833333333332,9.54725,8.768166666666666,8.769708333333334,9.187125,9.698125,8.715291666666667,8.514083333333334,8.43645833333333,9.296749999999998,8.534125000000001,8.641,8.316,9.267208333333334,8.68716666666667,9.641291666666666,8.995208333333332,9.1,8.033458333333334,7.844374999999999,8.767708333333333,8.209416666666668,8.646,8.913125,8.626041666666667,8.539416666666664,8.742,9.147041666666667,8.575041666666666,8.874500000000003,8.838375000000001,9.168624999999999,9.1895,8.7195,8.610208333333334,8.093375,8.720791666666665,8.548958333333333,9.086041666666667,9.163791666666667,8.996875000000001,8.212874999999999,8.053583333333334,8.387791666666667,9.055583333333335,9.661833333333334,9.766208333333333,8.912916666666666,9.108833333333335,8.719625,9.240708333333334,9.523125000000002,8.604833333333334,9.74975,9.524041666666669,9.746708333333332,9.472583333333334,9.214375000000002,9.79275,9.843291666666666,9.815,9.751291666666665,10.036125,9.909333333333333,9.426625,9.541958333333335,8.437083333333335,9.996541666666666,9.111291666666666,9.052874999999998],\"yaxis\":\"y\"},{\"hovertemplate\":\"Country=Brazil<br>Year=%{x}<br>Temp_mean=%{y}<extra></extra>\",\"legendgroup\":\"Brazil\",\"line\":{\"color\":\"#ab63fa\",\"dash\":\"solid\"},\"mode\":\"lines\",\"name\":\"Brazil\",\"showlegend\":true,\"type\":\"scattergl\",\"x\":[1832,1833,1834,1835,1836,1837,1838,1839,1840,1841,1842,1843,1845,1846,1847,1848,1849,1850,1851,1852,1853,1854,1855,1856,1857,1858,1859,1860,1861,1862,1863,1864,1865,1866,1867,1868,1869,1870,1871,1872,1873,1874,1875,1876,1877,1878,1879,1880,1881,1882,1883,1884,1885,1886,1887,1888,1889,1890,1891,1892,1893,1894,1895,1896,1897,1898,1899,1900,1901,1902,1903,1904,1905,1906,1907,1908,1909,1910,1911,1912,1913,1914,1915,1916,1917,1918,1919,1920,1921,1922,1923,1924,1925,1926,1927,1928,1929,1930,1931,1932,1933,1934,1935,1936,1937,1938,1939,1940,1941,1942,1943,1944,1945,1946,1947,1948,1949,1950,1951,1952,1953,1954,1955,1956,1957,1958,1959,1960,1961,1962,1963,1964,1965,1966,1967,1968,1969,1970,1971,1972,1973,1974,1975,1976,1977,1978,1979,1980,1981,1982,1983,1984,1985,1986,1987,1988,1989,1990,1991,1992,1993,1994,1995,1996,1997,1998,1999,2000,2001,2002,2003,2004,2005,2006,2007,2008,2009,2010,2011,2012,2013],\"xaxis\":\"x\",\"y\":[23.858583333333332,24.51783333333333,24.346750000000004,23.537499999999998,23.921166666666664,23.60891666666667,23.726916666666668,23.804,24.097583333333333,23.933500000000006,24.32075,24.440916666666666,24.014333333333337,24.820000000000004,24.196749999999998,24.163,24.226916666666668,24.211818181818174,24.342333333333332,24.359916666666663,24.37025,24.465083333333336,24.490916666666667,23.965249999999997,24.013666666666662,23.99033333333333,24.368000000000006,24.42025,24.10175,23.92425,24.1935,24.13141666666667,24.230999999999998,24.33866666666667,24.493250000000003,24.610416666666666,24.747333333333334,24.543333333333333,24.436416666666673,24.43575,24.741749999999996,24.383666666666667,23.91325,24.215999999999998,24.84075,25.010500000000004,24.147166666666674,24.34241666666667,24.434749999999998,24.070000000000007,24.089000000000002,23.96416666666667,24.311333333333334,24.009583333333335,24.27916666666667,24.55,24.638999999999996,24.0805,24.264083333333332,24.15041666666667,23.910583333333335,24.33275,24.467333333333332,24.58758333333333,24.46775,24.365583333333333,24.447083333333335,24.904833333333332,24.777583333333336,24.71083333333333,24.574583333333337,23.995500000000003,24.739666666666665,24.515749999999997,24.340666666666667,24.518416666666667,24.405083333333334,24.418083333333342,24.289083333333334,24.477499999999996,24.59566666666667,24.89925,25.118583333333337,24.442999999999998,23.797500000000003,24.309500000000003,24.836750000000006,24.40991666666667,24.27625,24.500333333333334,24.358,24.4315,24.53766666666667,25.008583333333334,24.70183333333333,24.938916666666668,24.644333333333336,24.843833333333336,24.79625,24.97266666666667,24.6125,24.648583333333338,24.853083333333334,25.061083333333332,25.050250000000005,24.874083333333342,24.929916666666667,25.114000000000004,25.196250000000003,24.879083333333337,24.55841666666667,24.904583333333335,24.724416666666666,24.97366666666667,24.695750000000004,24.853416666666664,24.616833333333336,24.639,24.79733333333333,24.851666666666663,24.995583333333332,24.967000000000002,24.765500000000003,24.47966666666667,24.801916666666667,25.268083333333337,25.157250000000005,24.752666666666666,25.146416666666664,24.842333333333332,25.171583333333334,24.734083333333334,24.983833333333337,25.086416666666665,25.01366666666667,24.631249999999998,25.282750000000004,25.191083333333335,24.608500000000003,25.097333333333335,25.169583333333332,24.581500000000002,24.676750000000002,24.719000000000005,25.132333333333335,24.9275,24.944333333333333,25.148,24.983416666666667,25.23033333333333,25.350750000000005,25.109916666666667,24.965666666666667,25.131,25.563416666666665,25.177333333333333,24.871416666666665,25.27491666666667,25.29216666666667,25.251333333333335,25.354916666666668,25.454666666666668,25.55441666666667,25.337833333333332,25.559416666666667,25.95875,25.286583333333336,25.1965,25.50441666666667,25.80033333333333,25.621,25.4965,25.806,25.516999999999996,25.668000000000003,25.41033333333333,25.600583333333333,25.812416666666667,25.428916666666662,25.717083333333335,25.348125],\"yaxis\":\"y\"},{\"hovertemplate\":\"Country=China<br>Year=%{x}<br>Temp_mean=%{y}<extra></extra>\",\"legendgroup\":\"China\",\"line\":{\"color\":\"#FFA15A\",\"dash\":\"solid\"},\"mode\":\"lines\",\"name\":\"China\",\"showlegend\":true,\"type\":\"scattergl\",\"x\":[1833,1834,1835,1836,1837,1838,1839,1840,1841,1842,1843,1844,1845,1846,1847,1848,1849,1850,1851,1852,1853,1854,1855,1856,1857,1858,1859,1860,1861,1862,1863,1864,1865,1866,1867,1868,1869,1870,1871,1872,1873,1874,1875,1876,1877,1878,1879,1880,1881,1882,1883,1884,1885,1886,1887,1888,1889,1890,1891,1892,1893,1894,1895,1896,1897,1898,1899,1900,1901,1902,1903,1904,1905,1906,1907,1908,1909,1910,1911,1912,1913,1914,1915,1916,1917,1918,1919,1920,1921,1922,1923,1924,1925,1926,1927,1928,1929,1930,1931,1932,1933,1934,1935,1936,1937,1938,1939,1940,1941,1942,1943,1944,1945,1946,1947,1948,1949,1950,1951,1952,1953,1954,1955,1956,1957,1958,1959,1960,1961,1962,1963,1964,1965,1966,1967,1968,1969,1970,1971,1972,1973,1974,1975,1976,1977,1978,1979,1980,1981,1982,1983,1984,1985,1986,1987,1988,1989,1990,1991,1992,1993,1994,1995,1996,1997,1998,1999,2000,2001,2002,2003,2004,2005,2006,2007,2008,2009,2010,2011,2012,2013],\"xaxis\":\"x\",\"y\":[6.039333333333335,6.268166666666667,5.43425,5.364727272727273,8.136833333333332,5.715,5.5190833333333345,6.018583333333333,5.512416666666667,6.2785,6.413916666666668,6.051500000000001,6.023000000000001,6.587500000000001,6.257083333333333,5.939749999999997,6.104833333333335,5.907166666666666,5.7828333333333335,5.857499999999999,5.997583333333335,6.473083333333332,6.515583333333335,6.095583333333333,5.959666666666666,6.414083333333334,6.535166666666669,5.609333333333332,5.865166666666667,5.448083333333333,6.444583333333333,5.8015,6.243999999999999,6.410416666666666,6.759166666666666,6.415499999999999,6.465833333333335,6.158999999999999,6.371583333333334,6.286333333333332,6.588166666666667,6.645166666666667,6.505,6.347416666666667,6.181583333333333,6.414416666666668,6.667416666666667,6.383500000000001,6.352833333333334,6.398250000000001,6.026916666666668,5.804833333333332,5.964499999999998,6.114750000000001,6.197166666666665,6.336416666666665,6.31175,6.464333333333336,6.359333333333335,6.060833333333334,6.108333333333334,6.578250000000001,6.035833333333333,6.386250000000001,6.228083333333331,6.562666666666668,6.603416666666667,6.444166666666668,6.537499999999999,6.744666666666666,6.1745833333333335,6.350833333333334,5.755499999999999,6.2218333333333335,6.308666666666667,6.286583333333335,6.3812500000000005,6.0715,6.297,6.076083333333332,6.138416666666665,6.8187500000000005,6.49275,6.349833333333333,6.161416666666668,6.196833333333334,6.607,6.5903333333333345,6.500750000000001,6.6773333333333325,6.563666666666667,6.704249999999999,6.5556666666666645,6.754083333333334,6.667749999999999,6.7746666666666675,6.424083333333333,6.468666666666667,6.3775,6.905583333333333,6.6299166666666665,6.362833333333334,6.636166666666668,6.111583333333335,6.511083333333332,6.87175,7.026500000000001,6.961666666666665,7.3455,7.096,7.050916666666666,6.530500000000001,6.838833333333334,7.354083333333333,6.773833333333333,7.100333333333334,6.9755,6.641166666666666,6.869500000000002,6.640916666666667,7.022333333333335,6.3709999999999996,6.701666666666665,6.299333333333334,6.387999999999999,7.0335833333333335,7.039666666666668,6.890916666666666,7.050583333333333,6.703666666666666,7.052499999999999,6.746083333333334,6.799916666666668,6.962000000000001,6.402583333333333,6.727000000000001,6.455999999999999,6.5681666666666665,6.846249999999999,6.814416666666667,7.209583333333334,6.659416666666668,7.1009166666666665,6.471166666666669,6.851333333333333,7.048166666666667,7.074083333333334,6.9500833333333345,6.926416666666667,7.149749999999998,6.925083333333334,6.517916666666665,6.7402500000000005,6.870166666666666,7.249,7.220833333333334,7.23975,7.635999999999998,7.097166666666667,6.858416666666667,6.919416666666668,7.4959999999999996,7.2115833333333335,6.962666666666667,7.367333333333332,8.051833333333333,7.84025,7.238083333333333,7.596416666666666,7.795666666666668,7.521999999999999,7.71275,7.4135,7.948,8.12675,7.566083333333335,7.8095,7.548416666666668,7.357083333333333,7.077083333333332,9.295],\"yaxis\":\"y\"},{\"hovertemplate\":\"Country=Japan<br>Year=%{x}<br>Temp_mean=%{y}<extra></extra>\",\"legendgroup\":\"Japan\",\"line\":{\"color\":\"#19d3f3\",\"dash\":\"solid\"},\"mode\":\"lines\",\"name\":\"Japan\",\"showlegend\":true,\"type\":\"scattergl\",\"x\":[1841,1842,1843,1844,1845,1846,1847,1848,1849,1850,1851,1852,1853,1854,1855,1856,1857,1858,1859,1860,1861,1862,1863,1864,1865,1866,1867,1868,1869,1870,1871,1872,1873,1874,1875,1876,1877,1878,1879,1880,1881,1882,1883,1884,1885,1886,1887,1888,1889,1890,1891,1892,1893,1894,1895,1896,1897,1898,1899,1900,1901,1902,1903,1904,1905,1906,1907,1908,1909,1910,1911,1912,1913,1914,1915,1916,1917,1918,1919,1920,1921,1922,1923,1924,1925,1926,1927,1928,1929,1930,1931,1932,1933,1934,1935,1936,1937,1938,1939,1940,1941,1942,1943,1944,1945,1946,1947,1948,1949,1950,1951,1952,1953,1954,1955,1956,1957,1958,1959,1960,1961,1962,1963,1964,1965,1966,1967,1968,1969,1970,1971,1972,1973,1974,1975,1976,1977,1978,1979,1980,1981,1982,1983,1984,1985,1986,1987,1988,1989,1990,1991,1992,1993,1994,1995,1996,1997,1998,1999,2000,2001,2002,2003,2004,2005,2006,2007,2008,2009,2010,2011,2012,2013],\"xaxis\":\"x\",\"y\":[11.019499999999999,11.445749999999999,11.627250000000002,11.216166666666664,11.3805,11.824333333333335,11.659666666666666,11.600416666666666,11.605000000000002,11.116,11.117583333333334,11.117833333333332,11.257666666666665,11.692166666666665,12.040666666666667,11.493083333333333,11.400333333333334,11.686583333333333,11.55625,11.096083333333333,11.179333333333334,11.17575,11.808416666666666,11.442750000000002,11.724000000000002,11.225166666666667,11.719333333333331,11.643999999999998,11.52233333333333,11.574833333333336,11.529583333333335,11.460833333333333,10.987333333333332,11.7465,11.686583333333333,11.95225,12.229750000000001,11.66275,12.078249999999999,11.860583333333333,11.585416666666665,11.740250000000001,11.40825,10.535333333333334,11.009166666666667,11.921999999999999,11.677833333333334,11.622749999999998,11.066000000000003,12.84225,11.825166666666666,11.536333333333332,11.207666666666666,12.448250000000002,11.57325,11.681416666666665,11.216,11.900666666666664,11.827999999999998,11.473666666666666,11.680166666666665,11.52375,11.843333333333332,11.770166666666668,11.597416666666666,11.183916666666667,11.403166666666664,11.096000000000002,11.38875,11.378916666666669,11.980083333333333,11.453250000000002,10.986833333333335,12.487166666666665,12.06108333333333,12.545333333333332,11.412916666666666,11.609166666666667,11.951333333333332,12.213500000000002,11.57175,12.078416666666667,11.908499999999998,11.642416666666664,11.758583333333334,11.302416666666666,11.7355,12.057916666666666,11.774916666666668,12.292750000000003,11.489083333333333,11.982749999999998,11.953166666666666,11.49875,11.893083333333331,11.547500000000001,12.211166666666669,12.081166666666668,12.084083333333334,11.987250000000001,11.918499999999996,12.002166666666668,11.994833333333334,11.692166666666665,11.138833333333332,12.360666666666665,11.333583333333332,12.795916666666669,12.102583333333333,12.5895,12.146666666666668,11.939666666666666,11.964666666666666,12.223999999999998,12.729,12.019416666666666,12.055333333333332,12.57,12.958166666666665,12.599833333333335,13.045500000000002,12.466166666666666,12.29325,12.34975,11.687916666666665,12.134416666666667,12.266333333333334,12.190416666666664,11.848999999999998,11.929000000000002,11.983416666666665,12.592166666666666,12.414749999999998,11.7905,12.337000000000002,11.7475,12.19825,12.505333333333333,12.842583333333332,11.795083333333336,11.629416666666664,12.33633333333333,12.12191666666667,11.659916666666668,12.281333333333336,11.691416666666663,12.543833333333334,11.967666666666666,12.91175,13.590583333333333,12.783166666666666,12.484250000000001,12.055166666666667,13.229749999999997,12.475416666666668,12.082833333333333,12.752416666666667,13.244750000000002,13.080083333333333,12.833833333333336,12.450000000000001,12.837333333333333,12.507,13.435666666666668,12.555916666666668,12.757083333333334,13.192166666666665,12.874916666666666,12.933833333333332,13.215583333333333,12.73775,12.565666666666667,12.96475],\"yaxis\":\"y\"},{\"hovertemplate\":\"Country=Australia<br>Year=%{x}<br>Temp_mean=%{y}<extra></extra>\",\"legendgroup\":\"Australia\",\"line\":{\"color\":\"#FF6692\",\"dash\":\"solid\"},\"mode\":\"lines\",\"name\":\"Australia\",\"showlegend\":true,\"type\":\"scattergl\",\"x\":[1852,1853,1854,1855,1856,1857,1858,1859,1860,1861,1862,1863,1864,1865,1866,1867,1868,1869,1870,1871,1872,1873,1874,1875,1876,1877,1878,1879,1880,1881,1882,1883,1884,1885,1886,1887,1888,1889,1890,1891,1892,1893,1894,1895,1896,1897,1898,1899,1900,1901,1902,1903,1904,1905,1906,1907,1908,1909,1910,1911,1912,1913,1914,1915,1916,1917,1918,1919,1920,1921,1922,1923,1924,1925,1926,1927,1928,1929,1930,1931,1932,1933,1934,1935,1936,1937,1938,1939,1940,1941,1942,1943,1944,1945,1946,1947,1948,1949,1950,1951,1952,1953,1954,1955,1956,1957,1958,1959,1960,1961,1962,1963,1964,1965,1966,1967,1968,1969,1970,1971,1972,1973,1974,1975,1976,1977,1978,1979,1980,1981,1982,1983,1984,1985,1986,1987,1988,1989,1990,1991,1992,1993,1994,1995,1996,1997,1998,1999,2000,2001,2002,2003,2004,2005,2006,2007,2008,2009,2010,2011,2012,2013],\"xaxis\":\"x\",\"y\":[20.1885,20.958250000000003,20.28477777777778,20.798636363636366,21.148333333333333,20.966416666666667,21.329833333333333,21.188916666666664,21.245500000000003,21.1975,21.155416666666667,21.309,21.04425,21.217833333333335,21.417,21.643833333333333,21.447583333333338,21.52158333333333,21.42833333333333,21.459666666666664,21.206916666666668,21.15758333333333,21.126166666666666,21.054416666666665,21.087333333333337,21.641083333333338,22.380666666666666,21.184666666666665,21.661249999999995,21.7925,21.64741666666667,21.520666666666667,21.549833333333336,21.421916666666664,21.45016666666667,21.154999999999998,21.954916666666666,22.17408333333334,21.479916666666668,20.833999999999996,21.541749999999997,21.646416666666667,20.917416666666664,21.23308333333333,21.3965,21.8175,21.570916666666665,21.18691666666667,21.766583333333333,21.582583333333332,21.597916666666666,21.17675,20.97083333333333,21.177500000000002,21.885,21.294500000000003,20.8645,21.05275,21.569083333333335,21.347916666666666,21.82616666666667,21.187833333333337,22.186333333333334,22.144833333333334,21.504416666666668,20.771500000000003,21.369333333333334,21.82858333333333,21.324416666666664,21.680083333333332,21.449749999999998,21.536833333333334,21.212583333333335,21.09783333333333,21.702583333333337,21.397833333333335,22.01908333333333,21.10125,21.640833333333333,21.239083333333333,21.459666666666667,21.386499999999998,21.507083333333338,21.39741666666666,21.716333333333335,21.52733333333333,22.088749999999994,21.34,21.681583333333332,21.36283333333333,21.926416666666668,21.31716666666667,21.530166666666663,21.60408333333333,21.241249999999997,21.59025,21.459500000000002,20.984916666666667,21.322916666666668,21.557,21.487,21.47458333333333,21.558666666666664,21.563083333333335,21.006000000000004,21.90266666666666,21.997249999999998,22.098166666666668,21.210500000000003,21.964249999999996,21.802916666666665,21.697833333333335,21.650750000000002,22.092083333333335,21.361000000000004,21.625416666666666,21.462166666666672,21.847583333333333,21.775750000000002,21.65433333333333,22.012083333333333,22.41275,21.238083333333332,21.692666666666668,21.193416666666668,21.892500000000002,21.605166666666666,22.252333333333336,22.586166666666667,22.164083333333334,21.910500000000003,22.261083333333332,21.516916666666663,22.043416666666662,22.09325,22.07241666666667,22.63008333333333,21.862833333333338,22.35575,22.48741666666667,21.932583333333337,22.160166666666665,22.03025,21.955166666666667,22.325333333333333,22.086000000000002,22.664833333333334,22.0645,21.709666666666667,21.79275,22.46083333333333,22.44033333333333,22.28691666666667,22.896833333333333,22.264416666666666,22.48675,22.225916666666667,22.690583333333333,22.078166666666664,21.767,22.0245,22.142874999999997],\"yaxis\":\"y\"}],                        {\"height\":450,\"legend\":{\"title\":{\"text\":\"Country\"},\"tracegroupgap\":0},\"template\":{\"data\":{\"bar\":[{\"error_x\":{\"color\":\"#2a3f5f\"},\"error_y\":{\"color\":\"#2a3f5f\"},\"marker\":{\"line\":{\"color\":\"#E5ECF6\",\"width\":0.5},\"pattern\":{\"fillmode\":\"overlay\",\"size\":10,\"solidity\":0.2}},\"type\":\"bar\"}],\"barpolar\":[{\"marker\":{\"line\":{\"color\":\"#E5ECF6\",\"width\":0.5},\"pattern\":{\"fillmode\":\"overlay\",\"size\":10,\"solidity\":0.2}},\"type\":\"barpolar\"}],\"carpet\":[{\"aaxis\":{\"endlinecolor\":\"#2a3f5f\",\"gridcolor\":\"white\",\"linecolor\":\"white\",\"minorgridcolor\":\"white\",\"startlinecolor\":\"#2a3f5f\"},\"baxis\":{\"endlinecolor\":\"#2a3f5f\",\"gridcolor\":\"white\",\"linecolor\":\"white\",\"minorgridcolor\":\"white\",\"startlinecolor\":\"#2a3f5f\"},\"type\":\"carpet\"}],\"choropleth\":[{\"colorbar\":{\"outlinewidth\":0,\"ticks\":\"\"},\"type\":\"choropleth\"}],\"contour\":[{\"colorbar\":{\"outlinewidth\":0,\"ticks\":\"\"},\"colorscale\":[[0.0,\"#0d0887\"],[0.1111111111111111,\"#46039f\"],[0.2222222222222222,\"#7201a8\"],[0.3333333333333333,\"#9c179e\"],[0.4444444444444444,\"#bd3786\"],[0.5555555555555556,\"#d8576b\"],[0.6666666666666666,\"#ed7953\"],[0.7777777777777778,\"#fb9f3a\"],[0.8888888888888888,\"#fdca26\"],[1.0,\"#f0f921\"]],\"type\":\"contour\"}],\"contourcarpet\":[{\"colorbar\":{\"outlinewidth\":0,\"ticks\":\"\"},\"type\":\"contourcarpet\"}],\"heatmap\":[{\"colorbar\":{\"outlinewidth\":0,\"ticks\":\"\"},\"colorscale\":[[0.0,\"#0d0887\"],[0.1111111111111111,\"#46039f\"],[0.2222222222222222,\"#7201a8\"],[0.3333333333333333,\"#9c179e\"],[0.4444444444444444,\"#bd3786\"],[0.5555555555555556,\"#d8576b\"],[0.6666666666666666,\"#ed7953\"],[0.7777777777777778,\"#fb9f3a\"],[0.8888888888888888,\"#fdca26\"],[1.0,\"#f0f921\"]],\"type\":\"heatmap\"}],\"heatmapgl\":[{\"colorbar\":{\"outlinewidth\":0,\"ticks\":\"\"},\"colorscale\":[[0.0,\"#0d0887\"],[0.1111111111111111,\"#46039f\"],[0.2222222222222222,\"#7201a8\"],[0.3333333333333333,\"#9c179e\"],[0.4444444444444444,\"#bd3786\"],[0.5555555555555556,\"#d8576b\"],[0.6666666666666666,\"#ed7953\"],[0.7777777777777778,\"#fb9f3a\"],[0.8888888888888888,\"#fdca26\"],[1.0,\"#f0f921\"]],\"type\":\"heatmapgl\"}],\"histogram\":[{\"marker\":{\"pattern\":{\"fillmode\":\"overlay\",\"size\":10,\"solidity\":0.2}},\"type\":\"histogram\"}],\"histogram2d\":[{\"colorbar\":{\"outlinewidth\":0,\"ticks\":\"\"},\"colorscale\":[[0.0,\"#0d0887\"],[0.1111111111111111,\"#46039f\"],[0.2222222222222222,\"#7201a8\"],[0.3333333333333333,\"#9c179e\"],[0.4444444444444444,\"#bd3786\"],[0.5555555555555556,\"#d8576b\"],[0.6666666666666666,\"#ed7953\"],[0.7777777777777778,\"#fb9f3a\"],[0.8888888888888888,\"#fdca26\"],[1.0,\"#f0f921\"]],\"type\":\"histogram2d\"}],\"histogram2dcontour\":[{\"colorbar\":{\"outlinewidth\":0,\"ticks\":\"\"},\"colorscale\":[[0.0,\"#0d0887\"],[0.1111111111111111,\"#46039f\"],[0.2222222222222222,\"#7201a8\"],[0.3333333333333333,\"#9c179e\"],[0.4444444444444444,\"#bd3786\"],[0.5555555555555556,\"#d8576b\"],[0.6666666666666666,\"#ed7953\"],[0.7777777777777778,\"#fb9f3a\"],[0.8888888888888888,\"#fdca26\"],[1.0,\"#f0f921\"]],\"type\":\"histogram2dcontour\"}],\"mesh3d\":[{\"colorbar\":{\"outlinewidth\":0,\"ticks\":\"\"},\"type\":\"mesh3d\"}],\"parcoords\":[{\"line\":{\"colorbar\":{\"outlinewidth\":0,\"ticks\":\"\"}},\"type\":\"parcoords\"}],\"pie\":[{\"automargin\":true,\"type\":\"pie\"}],\"scatter\":[{\"marker\":{\"colorbar\":{\"outlinewidth\":0,\"ticks\":\"\"}},\"type\":\"scatter\"}],\"scatter3d\":[{\"line\":{\"colorbar\":{\"outlinewidth\":0,\"ticks\":\"\"}},\"marker\":{\"colorbar\":{\"outlinewidth\":0,\"ticks\":\"\"}},\"type\":\"scatter3d\"}],\"scattercarpet\":[{\"marker\":{\"colorbar\":{\"outlinewidth\":0,\"ticks\":\"\"}},\"type\":\"scattercarpet\"}],\"scattergeo\":[{\"marker\":{\"colorbar\":{\"outlinewidth\":0,\"ticks\":\"\"}},\"type\":\"scattergeo\"}],\"scattergl\":[{\"marker\":{\"colorbar\":{\"outlinewidth\":0,\"ticks\":\"\"}},\"type\":\"scattergl\"}],\"scattermapbox\":[{\"marker\":{\"colorbar\":{\"outlinewidth\":0,\"ticks\":\"\"}},\"type\":\"scattermapbox\"}],\"scatterpolar\":[{\"marker\":{\"colorbar\":{\"outlinewidth\":0,\"ticks\":\"\"}},\"type\":\"scatterpolar\"}],\"scatterpolargl\":[{\"marker\":{\"colorbar\":{\"outlinewidth\":0,\"ticks\":\"\"}},\"type\":\"scatterpolargl\"}],\"scatterternary\":[{\"marker\":{\"colorbar\":{\"outlinewidth\":0,\"ticks\":\"\"}},\"type\":\"scatterternary\"}],\"surface\":[{\"colorbar\":{\"outlinewidth\":0,\"ticks\":\"\"},\"colorscale\":[[0.0,\"#0d0887\"],[0.1111111111111111,\"#46039f\"],[0.2222222222222222,\"#7201a8\"],[0.3333333333333333,\"#9c179e\"],[0.4444444444444444,\"#bd3786\"],[0.5555555555555556,\"#d8576b\"],[0.6666666666666666,\"#ed7953\"],[0.7777777777777778,\"#fb9f3a\"],[0.8888888888888888,\"#fdca26\"],[1.0,\"#f0f921\"]],\"type\":\"surface\"}],\"table\":[{\"cells\":{\"fill\":{\"color\":\"#EBF0F8\"},\"line\":{\"color\":\"white\"}},\"header\":{\"fill\":{\"color\":\"#C8D4E3\"},\"line\":{\"color\":\"white\"}},\"type\":\"table\"}]},\"layout\":{\"annotationdefaults\":{\"arrowcolor\":\"#2a3f5f\",\"arrowhead\":0,\"arrowwidth\":1},\"autotypenumbers\":\"strict\",\"coloraxis\":{\"colorbar\":{\"outlinewidth\":0,\"ticks\":\"\"}},\"colorscale\":{\"diverging\":[[0,\"#8e0152\"],[0.1,\"#c51b7d\"],[0.2,\"#de77ae\"],[0.3,\"#f1b6da\"],[0.4,\"#fde0ef\"],[0.5,\"#f7f7f7\"],[0.6,\"#e6f5d0\"],[0.7,\"#b8e186\"],[0.8,\"#7fbc41\"],[0.9,\"#4d9221\"],[1,\"#276419\"]],\"sequential\":[[0.0,\"#0d0887\"],[0.1111111111111111,\"#46039f\"],[0.2222222222222222,\"#7201a8\"],[0.3333333333333333,\"#9c179e\"],[0.4444444444444444,\"#bd3786\"],[0.5555555555555556,\"#d8576b\"],[0.6666666666666666,\"#ed7953\"],[0.7777777777777778,\"#fb9f3a\"],[0.8888888888888888,\"#fdca26\"],[1.0,\"#f0f921\"]],\"sequentialminus\":[[0.0,\"#0d0887\"],[0.1111111111111111,\"#46039f\"],[0.2222222222222222,\"#7201a8\"],[0.3333333333333333,\"#9c179e\"],[0.4444444444444444,\"#bd3786\"],[0.5555555555555556,\"#d8576b\"],[0.6666666666666666,\"#ed7953\"],[0.7777777777777778,\"#fb9f3a\"],[0.8888888888888888,\"#fdca26\"],[1.0,\"#f0f921\"]]},\"colorway\":[\"#636efa\",\"#EF553B\",\"#00cc96\",\"#ab63fa\",\"#FFA15A\",\"#19d3f3\",\"#FF6692\",\"#B6E880\",\"#FF97FF\",\"#FECB52\"],\"font\":{\"color\":\"#2a3f5f\"},\"geo\":{\"bgcolor\":\"white\",\"lakecolor\":\"white\",\"landcolor\":\"#E5ECF6\",\"showlakes\":true,\"showland\":true,\"subunitcolor\":\"white\"},\"hoverlabel\":{\"align\":\"left\"},\"hovermode\":\"closest\",\"mapbox\":{\"style\":\"light\"},\"paper_bgcolor\":\"white\",\"plot_bgcolor\":\"#E5ECF6\",\"polar\":{\"angularaxis\":{\"gridcolor\":\"white\",\"linecolor\":\"white\",\"ticks\":\"\"},\"bgcolor\":\"#E5ECF6\",\"radialaxis\":{\"gridcolor\":\"white\",\"linecolor\":\"white\",\"ticks\":\"\"}},\"scene\":{\"xaxis\":{\"backgroundcolor\":\"#E5ECF6\",\"gridcolor\":\"white\",\"gridwidth\":2,\"linecolor\":\"white\",\"showbackground\":true,\"ticks\":\"\",\"zerolinecolor\":\"white\"},\"yaxis\":{\"backgroundcolor\":\"#E5ECF6\",\"gridcolor\":\"white\",\"gridwidth\":2,\"linecolor\":\"white\",\"showbackground\":true,\"ticks\":\"\",\"zerolinecolor\":\"white\"},\"zaxis\":{\"backgroundcolor\":\"#E5ECF6\",\"gridcolor\":\"white\",\"gridwidth\":2,\"linecolor\":\"white\",\"showbackground\":true,\"ticks\":\"\",\"zerolinecolor\":\"white\"}},\"shapedefaults\":{\"line\":{\"color\":\"#2a3f5f\"}},\"ternary\":{\"aaxis\":{\"gridcolor\":\"white\",\"linecolor\":\"white\",\"ticks\":\"\"},\"baxis\":{\"gridcolor\":\"white\",\"linecolor\":\"white\",\"ticks\":\"\"},\"bgcolor\":\"#E5ECF6\",\"caxis\":{\"gridcolor\":\"white\",\"linecolor\":\"white\",\"ticks\":\"\"}},\"title\":{\"x\":0.05},\"xaxis\":{\"automargin\":true,\"gridcolor\":\"white\",\"linecolor\":\"white\",\"ticks\":\"\",\"title\":{\"standoff\":15},\"zerolinecolor\":\"white\",\"zerolinewidth\":2},\"yaxis\":{\"automargin\":true,\"gridcolor\":\"white\",\"linecolor\":\"white\",\"ticks\":\"\",\"title\":{\"standoff\":15},\"zerolinecolor\":\"white\",\"zerolinewidth\":2}}},\"title\":{\"text\":\"Average Temperature \\u00b0C in Top Economies\"},\"width\":900,\"xaxis\":{\"anchor\":\"y\",\"domain\":[0.0,1.0],\"title\":{\"text\":\"Year\"}},\"yaxis\":{\"anchor\":\"x\",\"domain\":[0.0,1.0],\"title\":{\"text\":\"Temp_mean\"}}},                        {\"responsive\": true}                    ).then(function(){\n",
              "                            \n",
              "var gd = document.getElementById('47bc1153-af34-4826-bc62-111ef514e56c');\n",
              "var x = new MutationObserver(function (mutations, observer) {{\n",
              "        var display = window.getComputedStyle(gd).display;\n",
              "        if (!display || display === 'none') {{\n",
              "            console.log([gd, 'removed!']);\n",
              "            Plotly.purge(gd);\n",
              "            observer.disconnect();\n",
              "        }}\n",
              "}});\n",
              "\n",
              "// Listen for the removal of the full notebook cells\n",
              "var notebookContainer = gd.closest('#notebook-container');\n",
              "if (notebookContainer) {{\n",
              "    x.observe(notebookContainer, {childList: true});\n",
              "}}\n",
              "\n",
              "// Listen for the clearing of the current output cell\n",
              "var outputEl = gd.closest('.output');\n",
              "if (outputEl) {{\n",
              "    x.observe(outputEl, {childList: true});\n",
              "}}\n",
              "\n",
              "                        })                };                            </script>        </div>\n",
              "</body>\n",
              "</html>"
            ]
          },
          "metadata": {
            "tags": []
          }
        }
      ]
    },
    {
      "cell_type": "code",
      "metadata": {
        "colab": {
          "base_uri": "https://localhost:8080/",
          "height": 467
        },
        "id": "fpdvdViRGMgC",
        "outputId": "cbbc0e57-981b-4ab8-9c9d-3060692bc784"
      },
      "source": [
        "#Visualizing mean, min and max temperatures from 1750 to 2013 in Norway\n",
        "my_country = 'Norway'\n",
        "fig_2 = px.line(data_frame=df1_avgcountry[df1_avgcountry['Country']==my_country][6:], x='Year', y=['Temp_mean', 'Temp_min', 'Temp_max'],\n",
        "                title=f'Average Temperature °C in {my_country}', width=900, height=450)\n",
        "fig_2.show()"
      ],
      "execution_count": null,
      "outputs": [
        {
          "output_type": "display_data",
          "data": {
            "text/html": [
              "<html>\n",
              "<head><meta charset=\"utf-8\" /></head>\n",
              "<body>\n",
              "    <div>            <script src=\"https://cdnjs.cloudflare.com/ajax/libs/mathjax/2.7.5/MathJax.js?config=TeX-AMS-MML_SVG\"></script><script type=\"text/javascript\">if (window.MathJax) {MathJax.Hub.Config({SVG: {font: \"STIX-Web\"}});}</script>                <script type=\"text/javascript\">window.PlotlyConfig = {MathJaxConfig: 'local'};</script>\n",
              "        <script src=\"https://cdn.plot.ly/plotly-2.1.0.min.js\"></script>                <div id=\"1fe17ab8-3730-4e3f-905c-9d1c7ee7d176\" class=\"plotly-graph-div\" style=\"height:450px; width:900px;\"></div>            <script type=\"text/javascript\">                                    window.PLOTLYENV=window.PLOTLYENV || {};                                    if (document.getElementById(\"1fe17ab8-3730-4e3f-905c-9d1c7ee7d176\")) {                    Plotly.newPlot(                        \"1fe17ab8-3730-4e3f-905c-9d1c7ee7d176\",                        [{\"hovertemplate\":\"variable=Temp_mean<br>Year=%{x}<br>value=%{y}<extra></extra>\",\"legendgroup\":\"Temp_mean\",\"line\":{\"color\":\"#636efa\",\"dash\":\"solid\"},\"mode\":\"lines\",\"name\":\"Temp_mean\",\"orientation\":\"v\",\"showlegend\":true,\"type\":\"scatter\",\"x\":[1753,1754,1755,1756,1757,1758,1759,1760,1761,1762,1763,1764,1765,1766,1767,1768,1769,1770,1771,1772,1773,1774,1775,1776,1777,1778,1779,1780,1781,1782,1783,1784,1785,1786,1787,1788,1789,1790,1791,1792,1793,1794,1795,1796,1797,1798,1799,1800,1801,1802,1803,1804,1805,1806,1807,1808,1809,1810,1811,1812,1813,1814,1815,1816,1817,1818,1819,1820,1821,1822,1823,1824,1825,1826,1827,1828,1829,1830,1831,1832,1833,1834,1835,1836,1837,1838,1839,1840,1841,1842,1843,1844,1845,1846,1847,1848,1849,1850,1851,1852,1853,1854,1855,1856,1857,1858,1859,1860,1861,1862,1863,1864,1865,1866,1867,1868,1869,1870,1871,1872,1873,1874,1875,1876,1877,1878,1879,1880,1881,1882,1883,1884,1885,1886,1887,1888,1889,1890,1891,1892,1893,1894,1895,1896,1897,1898,1899,1900,1901,1902,1903,1904,1905,1906,1907,1908,1909,1910,1911,1912,1913,1914,1915,1916,1917,1918,1919,1920,1921,1922,1923,1924,1925,1926,1927,1928,1929,1930,1931,1932,1933,1934,1935,1936,1937,1938,1939,1940,1941,1942,1943,1944,1945,1946,1947,1948,1949,1950,1951,1952,1953,1954,1955,1956,1957,1958,1959,1960,1961,1962,1963,1964,1965,1966,1967,1968,1969,1970,1971,1972,1973,1974,1975,1976,1977,1978,1979,1980,1981,1982,1983,1984,1985,1986,1987,1988,1989,1990,1991,1992,1993,1994,1995,1996,1997,1998,1999,2000,2001,2002,2003,2004,2005,2006,2007,2008,2009,2010,2011,2012,2013],\"xaxis\":\"x\",\"y\":[-0.0538333333333334,0.0841666666666671,-0.27191666666666664,0.19474999999999998,0.38024999999999975,-1.1045,0.08708333333333318,-0.92975,0.5902500000000006,-0.23408333333333364,-0.4134999999999999,-0.10666666666666691,-0.7188333333333334,0.7546666666666667,-0.35216666666666674,-0.7209999999999995,-0.1701666666666671,-0.4638333333333331,-0.43716666666666654,-0.36933333333333307,0.6015000000000008,-0.45174999999999965,1.0784166666666666,0.05974999999999945,-0.31858333333333333,0.005499999999999838,1.2774166666666664,0.12283333333333306,0.3403333333333333,-0.614,0.22933333333333325,-1.3169166666666667,-0.8013333333333331,-0.7830833333333338,0.024833333333333336,-0.19833333333333325,0.3420833333333333,0.3069166666666665,0.49099999999999994,0.17883333333333376,0.13116666666666665,0.7411666666666665,-0.5450000000000003,0.42083333333333367,0.9474166666666665,0.9692499999999998,-0.5936666666666663,-0.3081666666666666,-0.057833333333333105,-0.34666666666666646,-0.37775,-0.30424999999999985,-0.9380833333333335,0.08149999999999984,-0.5288333333333332,-0.18758333333333374,-0.9610833333333337,-1.1411666666666667,0.07791666666666701,-1.402583333333333,0.08049999999999995,-1.0071666666666668,0.11250000000000027,-1.0374166666666664,-0.6125833333333334,0.21216666666666714,0.030249999999999815,-0.6705833333333334,-0.13549999999999987,1.0344166666666663,-0.23399999999999954,0.28858333333333314,0.67775,1.4544166666666667,-0.09941666666666671,0.19816666666666638,-0.934083333333333,-0.07533333333333347,0.16783333333333342,0.7439999999999998,0.09825000000000017,0.33149999999999963,-0.4880833333333335,-1.1024166666666662,-0.5830833333333332,-1.5595833333333335,-0.7156666666666665,-0.26775,-0.3523333333333329,0.5830833333333335,-0.12183333333333339,-0.9288333333333334,-0.48191666666666616,0.7173333333333334,0.1338333333333329,-0.4629999999999999,-0.634833333333333,-0.5644166666666668,0.18633333333333316,0.05250000000000007,0.12125000000000001,0.37816666666666654,-0.9304166666666666,-1.2794999999999999,0.15649999999999994,0.54225,0.15274999999999941,-0.918916666666667,0.24358333333333348,-0.5640833333333329,0.6124999999999999,-0.8769999999999997,-0.48966666666666675,-0.4681666666666667,-1.654583333333333,0.2804166666666667,-0.24049999999999994,-0.44691666666666646,-1.0634166666666665,0.37208333333333377,0.2692499999999995,-0.024250000000000327,-0.7785833333333335,-0.6045000000000003,-1.0292499999999993,0.2174999999999998,-0.5162500000000004,-0.20208333333333384,-1.4586666666666666,0.32833333333333287,0.7345,0.4350833333333329,-0.7651666666666666,-0.16108333333333347,-0.14241666666666708,-1.3703333333333336,0.5629999999999994,0.6508333333333328,0.0892500000000002,-1.1159166666666664,-0.9021666666666667,0.8722500000000001,-0.38233333333333325,0.48133333333333345,0.24591666666666648,0.04225000000000012,-0.7348333333333336,-0.9300833333333336,0.3471666666666667,-1.1969166666666666,0.0044999999999999485,-0.31491666666666634,0.10833333333333302,0.22933333333333294,0.26541666666666713,0.2332499999999996,-0.5619166666666666,0.40725000000000017,0.5237499999999999,-0.27758333333333307,0.45983333333333304,0.6665833333333336,-1.3608333333333331,-0.0588333333333327,-0.9443333333333332,0.2274999999999999,-0.5350000000000005,1.1931666666666667,0.3275000000000005,0.0005833333333333801,-0.2574999999999999,0.46875000000000017,0.3980833333333333,-0.02541666666666657,-0.20641666666666736,-0.08100000000000018,0.043166666666666985,1.5879166666666666,0.15191666666666678,0.8249166666666664,1.0699166666666664,1.9220833333333338,0.6468333333333337,0.8275833333333334,1.2679166666666664,2.08825,0.7229999999999998,-0.41374999999999984,-0.7345000000000003,-0.6724999999999995,0.9686666666666666,0.8587499999999993,0.7416666666666663,0.85075,0.12233333333333325,0.6003333333333337,1.2173333333333334,0.9837499999999998,0.12450000000000006,-0.3679166666666667,1.628833333333333,0.823833333333333,-0.46699999999999964,-0.07308333333333339,0.7845833333333334,-0.10483333333333326,1.3735833333333336,0.5800000000000004,1.0905833333333337,-0.4542500000000002,-0.18341666666666626,0.6056666666666669,-0.3381666666666671,-1.0486666666666666,0.4153333333333335,-0.6878333333333327,-0.14200000000000043,-0.24441666666666598,0.19383333333333322,1.3808333333333331,0.42275,1.6321666666666665,1.0117499999999993,0.2748333333333335,-0.006749999999999738,-0.45358333333333306,-0.4742499999999996,-0.146833333333333,-0.6071666666666666,0.4977500000000001,0.6679999999999998,1.2836666666666663,-0.5793333333333329,-0.04241666666666669,-0.4872499999999998,0.38899999999999973,1.4923333333333328,2.0665,1.1335000000000002,1.296166666666666,0.4190000000000002,0.4645000000000002,0.5059999999999998,0.25566666666666665,1.0437500000000002,0.4654166666666671,1.2797499999999997,1.7969166666666663,0.7025000000000002,1.37075,1.2833333333333332,1.5249166666666667,1.807333333333334,2.2566666666666664,1.7515833333333326,1.6424999999999994,1.3854999999999997,-0.21549999999999989,2.1189166666666672,1.141666666666666,1.735375],\"yaxis\":\"y\"},{\"hovertemplate\":\"variable=Temp_min<br>Year=%{x}<br>value=%{y}<extra></extra>\",\"legendgroup\":\"Temp_min\",\"line\":{\"color\":\"#EF553B\",\"dash\":\"solid\"},\"mode\":\"lines\",\"name\":\"Temp_min\",\"orientation\":\"v\",\"showlegend\":true,\"type\":\"scatter\",\"x\":[1753,1754,1755,1756,1757,1758,1759,1760,1761,1762,1763,1764,1765,1766,1767,1768,1769,1770,1771,1772,1773,1774,1775,1776,1777,1778,1779,1780,1781,1782,1783,1784,1785,1786,1787,1788,1789,1790,1791,1792,1793,1794,1795,1796,1797,1798,1799,1800,1801,1802,1803,1804,1805,1806,1807,1808,1809,1810,1811,1812,1813,1814,1815,1816,1817,1818,1819,1820,1821,1822,1823,1824,1825,1826,1827,1828,1829,1830,1831,1832,1833,1834,1835,1836,1837,1838,1839,1840,1841,1842,1843,1844,1845,1846,1847,1848,1849,1850,1851,1852,1853,1854,1855,1856,1857,1858,1859,1860,1861,1862,1863,1864,1865,1866,1867,1868,1869,1870,1871,1872,1873,1874,1875,1876,1877,1878,1879,1880,1881,1882,1883,1884,1885,1886,1887,1888,1889,1890,1891,1892,1893,1894,1895,1896,1897,1898,1899,1900,1901,1902,1903,1904,1905,1906,1907,1908,1909,1910,1911,1912,1913,1914,1915,1916,1917,1918,1919,1920,1921,1922,1923,1924,1925,1926,1927,1928,1929,1930,1931,1932,1933,1934,1935,1936,1937,1938,1939,1940,1941,1942,1943,1944,1945,1946,1947,1948,1949,1950,1951,1952,1953,1954,1955,1956,1957,1958,1959,1960,1961,1962,1963,1964,1965,1966,1967,1968,1969,1970,1971,1972,1973,1974,1975,1976,1977,1978,1979,1980,1981,1982,1983,1984,1985,1986,1987,1988,1989,1990,1991,1992,1993,1994,1995,1996,1997,1998,1999,2000,2001,2002,2003,2004,2005,2006,2007,2008,2009,2010,2011,2012,2013],\"xaxis\":\"x\",\"y\":[-12.686,-9.975,-11.143,-9.246,-11.084,-11.9,-11.869,-14.392,-10.289,-7.945,-9.266,-8.526,-10.527,-8.921000000000003,-13.463,-10.732,-9.469,-12.822,-10.705,-12.548,-8.937999999999997,-13.574,-8.708,-13.397,-9.699000000000002,-9.436000000000002,-9.535,-10.704,-9.194,-9.05,-11.191,-11.622,-10.42,-11.895,-9.539,-13.979,-11.845,-7.041,-8.038,-11.349,-9.416,-9.333,-10.649,-10.784,-7.537000000000001,-9.807,-13.6,-11.298,-10.66,-10.2,-12.125,-11.397,-10.773,-8.119000000000002,-10.06,-10.911,-14.609,-9.453,-9.318,-10.83,-9.521,-15.514,-9.4,-11.943,-11.864,-10.806,-10.87,-13.587,-10.927,-8.38,-12.825,-8.016,-7.858,-8.908000000000003,-11.058,-10.076,-11.306,-9.752,-11.574,-7.239000000000001,-8.718,-10.588,-9.947,-9.873,-10.334,-13.152,-9.878,-9.687000000000001,-12.0,-8.198,-9.604,-13.695,-13.322,-10.689,-9.636000000000001,-10.528,-11.395,-12.101,-7.657,-8.916,-11.669,-9.651000000000002,-12.667,-9.925,-11.679,-7.57,-9.185,-11.385,-10.733,-10.909,-7.144,-9.11,-11.712,-10.086,-14.238,-9.644,-8.399000000000001,-10.202,-12.34,-9.764,-8.024000000000001,-11.252,-11.768,-10.917,-11.023,-10.347,-11.316,-10.249,-12.688,-10.557,-8.375,-8.669,-10.062,-10.823,-10.345,-11.432,-10.544,-7.1,-9.167000000000002,-11.348,-12.741,-7.506000000000001,-11.728,-7.713999999999999,-9.751,-8.84,-10.399,-13.377,-10.926,-9.972000000000001,-8.985000000000003,-11.418,-8.738999999999999,-7.785,-8.943999999999997,-7.191000000000003,-8.575,-8.988999999999997,-7.427,-10.53,-9.979,-8.636000000000001,-13.196,-7.846,-11.601,-12.22,-10.377,-8.164000000000001,-8.631,-9.131,-9.521,-9.364,-10.302,-9.29,-10.14,-7.521000000000001,-10.085,-6.536,-9.023,-6.291,-8.088000000000001,-5.789000000000001,-7.662000000000001,-10.288,-10.19,-6.281000000000001,-8.748,-12.151,-13.239,-12.654,-10.045,-6.757000000000001,-10.284,-9.822000000000001,-13.29,-11.677,-6.809000000000001,-8.443,-10.561,-8.852,-9.213,-9.071000000000002,-10.539,-10.084,-7.603000000000002,-10.655,-10.844,-10.668,-9.254,-9.71,-12.436,-7.983,-10.992,-13.85,-11.596,-11.3,-11.672,-13.313,-8.485000000000001,-7.592000000000001,-9.0,-5.093000000000001,-6.342000000000001,-10.315,-10.327,-11.546,-12.982,-10.769,-12.708,-11.434,-8.205,-9.170000000000002,-11.37,-12.028,-12.468,-7.691,-7.827999999999999,-5.567,-8.186,-5.301000000000001,-8.072000000000001,-10.549,-9.703,-10.062,-7.951000000000001,-7.48,-8.124,-5.742000000000001,-9.143,-8.417,-10.129,-9.246,-6.214,-8.382,-8.536000000000001,-5.941,-8.655000000000001,-11.053,-9.067,-8.806000000000003,-8.219999999999999],\"yaxis\":\"y\"},{\"hovertemplate\":\"variable=Temp_max<br>Year=%{x}<br>value=%{y}<extra></extra>\",\"legendgroup\":\"Temp_max\",\"line\":{\"color\":\"#00cc96\",\"dash\":\"solid\"},\"mode\":\"lines\",\"name\":\"Temp_max\",\"orientation\":\"v\",\"showlegend\":true,\"type\":\"scatter\",\"x\":[1753,1754,1755,1756,1757,1758,1759,1760,1761,1762,1763,1764,1765,1766,1767,1768,1769,1770,1771,1772,1773,1774,1775,1776,1777,1778,1779,1780,1781,1782,1783,1784,1785,1786,1787,1788,1789,1790,1791,1792,1793,1794,1795,1796,1797,1798,1799,1800,1801,1802,1803,1804,1805,1806,1807,1808,1809,1810,1811,1812,1813,1814,1815,1816,1817,1818,1819,1820,1821,1822,1823,1824,1825,1826,1827,1828,1829,1830,1831,1832,1833,1834,1835,1836,1837,1838,1839,1840,1841,1842,1843,1844,1845,1846,1847,1848,1849,1850,1851,1852,1853,1854,1855,1856,1857,1858,1859,1860,1861,1862,1863,1864,1865,1866,1867,1868,1869,1870,1871,1872,1873,1874,1875,1876,1877,1878,1879,1880,1881,1882,1883,1884,1885,1886,1887,1888,1889,1890,1891,1892,1893,1894,1895,1896,1897,1898,1899,1900,1901,1902,1903,1904,1905,1906,1907,1908,1909,1910,1911,1912,1913,1914,1915,1916,1917,1918,1919,1920,1921,1922,1923,1924,1925,1926,1927,1928,1929,1930,1931,1932,1933,1934,1935,1936,1937,1938,1939,1940,1941,1942,1943,1944,1945,1946,1947,1948,1949,1950,1951,1952,1953,1954,1955,1956,1957,1958,1959,1960,1961,1962,1963,1964,1965,1966,1967,1968,1969,1970,1971,1972,1973,1974,1975,1976,1977,1978,1979,1980,1981,1982,1983,1984,1985,1986,1987,1988,1989,1990,1991,1992,1993,1994,1995,1996,1997,1998,1999,2000,2001,2002,2003,2004,2005,2006,2007,2008,2009,2010,2011,2012,2013],\"xaxis\":\"x\",\"y\":[10.712,10.14,11.949,11.424,14.15,10.462,10.985,10.715,12.293,10.015,12.531,11.71,9.333,13.163,11.163,11.601,11.062,11.681,10.921,11.055,11.315,11.975,12.408,12.259,9.76,12.128,12.119,11.421,10.993,11.452,12.516,10.074,11.992,11.436,10.049,13.293,12.842,9.7,12.357,12.556,10.373,11.23,10.692,12.175,11.122,12.97,10.976,9.253,11.29,9.698,11.844,12.104,10.876,10.923,11.722,12.366,10.721,10.217,11.501,10.131,12.022,11.071,10.336,10.352,10.07,12.559,12.998,11.461,9.522,10.728,10.9,11.021,10.448,13.22,9.706,11.947,11.414,11.342,13.101,9.507,10.978,12.869,10.062,9.887,9.026000000000002,10.779,11.547,10.265,9.85,11.693,11.119,10.547,11.122,12.818,11.097,9.338,11.108,10.974,10.895,12.374,12.187,11.843,12.555,9.628,10.985,12.255,10.114,10.477,12.218,9.12,9.667,10.738,11.168,10.527,9.961,11.563,10.363,10.8,10.635,11.763,11.901,10.198,10.945,11.107,10.472,9.889,11.123,11.196,9.543,11.384,11.093,10.701,10.162,10.389,10.017,9.554,10.895,9.501,11.085,9.163,10.159,12.071,10.018,11.876,10.854,9.603,11.832,8.996,13.083,8.048,9.075,9.988,11.105,10.485,9.455,10.668,9.963,9.975,10.431,11.46,11.086,12.866,10.723,11.919,11.291,11.654,11.337,10.909,9.789,11.203,10.701,11.381,13.202,11.125,12.718,9.131,9.335,12.402,11.516,11.363,12.037,12.38,10.783,11.665,13.079,12.068,11.846,10.444,13.284,10.35,11.273,11.351,12.232,11.931,11.925,11.641,10.281,11.589,11.053,10.232,11.604,11.256,11.728,10.855,11.7,10.169,11.362,11.873,11.069,9.284,10.643,9.824,8.997,10.883,10.318,9.662,11.979,10.534,10.388,12.543,12.573,10.526,10.681,11.164,10.385,10.65,10.7,11.664,10.493,11.328,11.221,10.33,11.497,10.774,10.169,12.074,10.583,11.214,11.834,10.561,10.718,12.486,10.404,12.009,12.628,11.113,11.198,10.798,11.339,13.184,13.484,11.671,12.429,12.577,11.609,12.034,11.74,11.846,11.862,10.632,11.838],\"yaxis\":\"y\"}],                        {\"height\":450,\"legend\":{\"title\":{\"text\":\"variable\"},\"tracegroupgap\":0},\"template\":{\"data\":{\"bar\":[{\"error_x\":{\"color\":\"#2a3f5f\"},\"error_y\":{\"color\":\"#2a3f5f\"},\"marker\":{\"line\":{\"color\":\"#E5ECF6\",\"width\":0.5},\"pattern\":{\"fillmode\":\"overlay\",\"size\":10,\"solidity\":0.2}},\"type\":\"bar\"}],\"barpolar\":[{\"marker\":{\"line\":{\"color\":\"#E5ECF6\",\"width\":0.5},\"pattern\":{\"fillmode\":\"overlay\",\"size\":10,\"solidity\":0.2}},\"type\":\"barpolar\"}],\"carpet\":[{\"aaxis\":{\"endlinecolor\":\"#2a3f5f\",\"gridcolor\":\"white\",\"linecolor\":\"white\",\"minorgridcolor\":\"white\",\"startlinecolor\":\"#2a3f5f\"},\"baxis\":{\"endlinecolor\":\"#2a3f5f\",\"gridcolor\":\"white\",\"linecolor\":\"white\",\"minorgridcolor\":\"white\",\"startlinecolor\":\"#2a3f5f\"},\"type\":\"carpet\"}],\"choropleth\":[{\"colorbar\":{\"outlinewidth\":0,\"ticks\":\"\"},\"type\":\"choropleth\"}],\"contour\":[{\"colorbar\":{\"outlinewidth\":0,\"ticks\":\"\"},\"colorscale\":[[0.0,\"#0d0887\"],[0.1111111111111111,\"#46039f\"],[0.2222222222222222,\"#7201a8\"],[0.3333333333333333,\"#9c179e\"],[0.4444444444444444,\"#bd3786\"],[0.5555555555555556,\"#d8576b\"],[0.6666666666666666,\"#ed7953\"],[0.7777777777777778,\"#fb9f3a\"],[0.8888888888888888,\"#fdca26\"],[1.0,\"#f0f921\"]],\"type\":\"contour\"}],\"contourcarpet\":[{\"colorbar\":{\"outlinewidth\":0,\"ticks\":\"\"},\"type\":\"contourcarpet\"}],\"heatmap\":[{\"colorbar\":{\"outlinewidth\":0,\"ticks\":\"\"},\"colorscale\":[[0.0,\"#0d0887\"],[0.1111111111111111,\"#46039f\"],[0.2222222222222222,\"#7201a8\"],[0.3333333333333333,\"#9c179e\"],[0.4444444444444444,\"#bd3786\"],[0.5555555555555556,\"#d8576b\"],[0.6666666666666666,\"#ed7953\"],[0.7777777777777778,\"#fb9f3a\"],[0.8888888888888888,\"#fdca26\"],[1.0,\"#f0f921\"]],\"type\":\"heatmap\"}],\"heatmapgl\":[{\"colorbar\":{\"outlinewidth\":0,\"ticks\":\"\"},\"colorscale\":[[0.0,\"#0d0887\"],[0.1111111111111111,\"#46039f\"],[0.2222222222222222,\"#7201a8\"],[0.3333333333333333,\"#9c179e\"],[0.4444444444444444,\"#bd3786\"],[0.5555555555555556,\"#d8576b\"],[0.6666666666666666,\"#ed7953\"],[0.7777777777777778,\"#fb9f3a\"],[0.8888888888888888,\"#fdca26\"],[1.0,\"#f0f921\"]],\"type\":\"heatmapgl\"}],\"histogram\":[{\"marker\":{\"pattern\":{\"fillmode\":\"overlay\",\"size\":10,\"solidity\":0.2}},\"type\":\"histogram\"}],\"histogram2d\":[{\"colorbar\":{\"outlinewidth\":0,\"ticks\":\"\"},\"colorscale\":[[0.0,\"#0d0887\"],[0.1111111111111111,\"#46039f\"],[0.2222222222222222,\"#7201a8\"],[0.3333333333333333,\"#9c179e\"],[0.4444444444444444,\"#bd3786\"],[0.5555555555555556,\"#d8576b\"],[0.6666666666666666,\"#ed7953\"],[0.7777777777777778,\"#fb9f3a\"],[0.8888888888888888,\"#fdca26\"],[1.0,\"#f0f921\"]],\"type\":\"histogram2d\"}],\"histogram2dcontour\":[{\"colorbar\":{\"outlinewidth\":0,\"ticks\":\"\"},\"colorscale\":[[0.0,\"#0d0887\"],[0.1111111111111111,\"#46039f\"],[0.2222222222222222,\"#7201a8\"],[0.3333333333333333,\"#9c179e\"],[0.4444444444444444,\"#bd3786\"],[0.5555555555555556,\"#d8576b\"],[0.6666666666666666,\"#ed7953\"],[0.7777777777777778,\"#fb9f3a\"],[0.8888888888888888,\"#fdca26\"],[1.0,\"#f0f921\"]],\"type\":\"histogram2dcontour\"}],\"mesh3d\":[{\"colorbar\":{\"outlinewidth\":0,\"ticks\":\"\"},\"type\":\"mesh3d\"}],\"parcoords\":[{\"line\":{\"colorbar\":{\"outlinewidth\":0,\"ticks\":\"\"}},\"type\":\"parcoords\"}],\"pie\":[{\"automargin\":true,\"type\":\"pie\"}],\"scatter\":[{\"marker\":{\"colorbar\":{\"outlinewidth\":0,\"ticks\":\"\"}},\"type\":\"scatter\"}],\"scatter3d\":[{\"line\":{\"colorbar\":{\"outlinewidth\":0,\"ticks\":\"\"}},\"marker\":{\"colorbar\":{\"outlinewidth\":0,\"ticks\":\"\"}},\"type\":\"scatter3d\"}],\"scattercarpet\":[{\"marker\":{\"colorbar\":{\"outlinewidth\":0,\"ticks\":\"\"}},\"type\":\"scattercarpet\"}],\"scattergeo\":[{\"marker\":{\"colorbar\":{\"outlinewidth\":0,\"ticks\":\"\"}},\"type\":\"scattergeo\"}],\"scattergl\":[{\"marker\":{\"colorbar\":{\"outlinewidth\":0,\"ticks\":\"\"}},\"type\":\"scattergl\"}],\"scattermapbox\":[{\"marker\":{\"colorbar\":{\"outlinewidth\":0,\"ticks\":\"\"}},\"type\":\"scattermapbox\"}],\"scatterpolar\":[{\"marker\":{\"colorbar\":{\"outlinewidth\":0,\"ticks\":\"\"}},\"type\":\"scatterpolar\"}],\"scatterpolargl\":[{\"marker\":{\"colorbar\":{\"outlinewidth\":0,\"ticks\":\"\"}},\"type\":\"scatterpolargl\"}],\"scatterternary\":[{\"marker\":{\"colorbar\":{\"outlinewidth\":0,\"ticks\":\"\"}},\"type\":\"scatterternary\"}],\"surface\":[{\"colorbar\":{\"outlinewidth\":0,\"ticks\":\"\"},\"colorscale\":[[0.0,\"#0d0887\"],[0.1111111111111111,\"#46039f\"],[0.2222222222222222,\"#7201a8\"],[0.3333333333333333,\"#9c179e\"],[0.4444444444444444,\"#bd3786\"],[0.5555555555555556,\"#d8576b\"],[0.6666666666666666,\"#ed7953\"],[0.7777777777777778,\"#fb9f3a\"],[0.8888888888888888,\"#fdca26\"],[1.0,\"#f0f921\"]],\"type\":\"surface\"}],\"table\":[{\"cells\":{\"fill\":{\"color\":\"#EBF0F8\"},\"line\":{\"color\":\"white\"}},\"header\":{\"fill\":{\"color\":\"#C8D4E3\"},\"line\":{\"color\":\"white\"}},\"type\":\"table\"}]},\"layout\":{\"annotationdefaults\":{\"arrowcolor\":\"#2a3f5f\",\"arrowhead\":0,\"arrowwidth\":1},\"autotypenumbers\":\"strict\",\"coloraxis\":{\"colorbar\":{\"outlinewidth\":0,\"ticks\":\"\"}},\"colorscale\":{\"diverging\":[[0,\"#8e0152\"],[0.1,\"#c51b7d\"],[0.2,\"#de77ae\"],[0.3,\"#f1b6da\"],[0.4,\"#fde0ef\"],[0.5,\"#f7f7f7\"],[0.6,\"#e6f5d0\"],[0.7,\"#b8e186\"],[0.8,\"#7fbc41\"],[0.9,\"#4d9221\"],[1,\"#276419\"]],\"sequential\":[[0.0,\"#0d0887\"],[0.1111111111111111,\"#46039f\"],[0.2222222222222222,\"#7201a8\"],[0.3333333333333333,\"#9c179e\"],[0.4444444444444444,\"#bd3786\"],[0.5555555555555556,\"#d8576b\"],[0.6666666666666666,\"#ed7953\"],[0.7777777777777778,\"#fb9f3a\"],[0.8888888888888888,\"#fdca26\"],[1.0,\"#f0f921\"]],\"sequentialminus\":[[0.0,\"#0d0887\"],[0.1111111111111111,\"#46039f\"],[0.2222222222222222,\"#7201a8\"],[0.3333333333333333,\"#9c179e\"],[0.4444444444444444,\"#bd3786\"],[0.5555555555555556,\"#d8576b\"],[0.6666666666666666,\"#ed7953\"],[0.7777777777777778,\"#fb9f3a\"],[0.8888888888888888,\"#fdca26\"],[1.0,\"#f0f921\"]]},\"colorway\":[\"#636efa\",\"#EF553B\",\"#00cc96\",\"#ab63fa\",\"#FFA15A\",\"#19d3f3\",\"#FF6692\",\"#B6E880\",\"#FF97FF\",\"#FECB52\"],\"font\":{\"color\":\"#2a3f5f\"},\"geo\":{\"bgcolor\":\"white\",\"lakecolor\":\"white\",\"landcolor\":\"#E5ECF6\",\"showlakes\":true,\"showland\":true,\"subunitcolor\":\"white\"},\"hoverlabel\":{\"align\":\"left\"},\"hovermode\":\"closest\",\"mapbox\":{\"style\":\"light\"},\"paper_bgcolor\":\"white\",\"plot_bgcolor\":\"#E5ECF6\",\"polar\":{\"angularaxis\":{\"gridcolor\":\"white\",\"linecolor\":\"white\",\"ticks\":\"\"},\"bgcolor\":\"#E5ECF6\",\"radialaxis\":{\"gridcolor\":\"white\",\"linecolor\":\"white\",\"ticks\":\"\"}},\"scene\":{\"xaxis\":{\"backgroundcolor\":\"#E5ECF6\",\"gridcolor\":\"white\",\"gridwidth\":2,\"linecolor\":\"white\",\"showbackground\":true,\"ticks\":\"\",\"zerolinecolor\":\"white\"},\"yaxis\":{\"backgroundcolor\":\"#E5ECF6\",\"gridcolor\":\"white\",\"gridwidth\":2,\"linecolor\":\"white\",\"showbackground\":true,\"ticks\":\"\",\"zerolinecolor\":\"white\"},\"zaxis\":{\"backgroundcolor\":\"#E5ECF6\",\"gridcolor\":\"white\",\"gridwidth\":2,\"linecolor\":\"white\",\"showbackground\":true,\"ticks\":\"\",\"zerolinecolor\":\"white\"}},\"shapedefaults\":{\"line\":{\"color\":\"#2a3f5f\"}},\"ternary\":{\"aaxis\":{\"gridcolor\":\"white\",\"linecolor\":\"white\",\"ticks\":\"\"},\"baxis\":{\"gridcolor\":\"white\",\"linecolor\":\"white\",\"ticks\":\"\"},\"bgcolor\":\"#E5ECF6\",\"caxis\":{\"gridcolor\":\"white\",\"linecolor\":\"white\",\"ticks\":\"\"}},\"title\":{\"x\":0.05},\"xaxis\":{\"automargin\":true,\"gridcolor\":\"white\",\"linecolor\":\"white\",\"ticks\":\"\",\"title\":{\"standoff\":15},\"zerolinecolor\":\"white\",\"zerolinewidth\":2},\"yaxis\":{\"automargin\":true,\"gridcolor\":\"white\",\"linecolor\":\"white\",\"ticks\":\"\",\"title\":{\"standoff\":15},\"zerolinecolor\":\"white\",\"zerolinewidth\":2}}},\"title\":{\"text\":\"Average Temperature \\u00b0C in Norway\"},\"width\":900,\"xaxis\":{\"anchor\":\"y\",\"domain\":[0.0,1.0],\"title\":{\"text\":\"Year\"}},\"yaxis\":{\"anchor\":\"x\",\"domain\":[0.0,1.0],\"title\":{\"text\":\"value\"}}},                        {\"responsive\": true}                    ).then(function(){\n",
              "                            \n",
              "var gd = document.getElementById('1fe17ab8-3730-4e3f-905c-9d1c7ee7d176');\n",
              "var x = new MutationObserver(function (mutations, observer) {{\n",
              "        var display = window.getComputedStyle(gd).display;\n",
              "        if (!display || display === 'none') {{\n",
              "            console.log([gd, 'removed!']);\n",
              "            Plotly.purge(gd);\n",
              "            observer.disconnect();\n",
              "        }}\n",
              "}});\n",
              "\n",
              "// Listen for the removal of the full notebook cells\n",
              "var notebookContainer = gd.closest('#notebook-container');\n",
              "if (notebookContainer) {{\n",
              "    x.observe(notebookContainer, {childList: true});\n",
              "}}\n",
              "\n",
              "// Listen for the clearing of the current output cell\n",
              "var outputEl = gd.closest('.output');\n",
              "if (outputEl) {{\n",
              "    x.observe(outputEl, {childList: true});\n",
              "}}\n",
              "\n",
              "                        })                };                            </script>        </div>\n",
              "</body>\n",
              "</html>"
            ]
          },
          "metadata": {
            "tags": []
          }
        }
      ]
    },
    {
      "cell_type": "markdown",
      "metadata": {
        "id": "2xjMWLlJRKCX"
      },
      "source": [
        "#Temperatures by City and Decade"
      ]
    },
    {
      "cell_type": "markdown",
      "metadata": {
        "id": "3MIpA0oKRaTu"
      },
      "source": [
        "Global Land Temperature Data by Major City from 1850－2015 can be found [here](https://data.world/data-society/global-climate-change-data)"
      ]
    },
    {
      "cell_type": "markdown",
      "metadata": {
        "id": "2WcA5QaFRz7_"
      },
      "source": [
        "## Uploading packages and data"
      ]
    },
    {
      "cell_type": "code",
      "metadata": {
        "id": "W_dCdsr5Rz8A"
      },
      "source": [
        "#Importing primary packages\n",
        "import numpy as np\n",
        "import pandas as pd\n",
        "import matplotlib.pyplot as plt\n",
        "import plotly.express as px\n",
        "import random"
      ],
      "execution_count": null,
      "outputs": []
    },
    {
      "cell_type": "code",
      "metadata": {
        "id": "d1BMQphJiJrH"
      },
      "source": [
        "#Add interactivity to graphs\n",
        "import ipywidgets as widgets\n",
        "from IPython import display\n",
        "from ipywidgets import interact, interactive, fixed, interact_manual"
      ],
      "execution_count": null,
      "outputs": []
    },
    {
      "cell_type": "code",
      "metadata": {
        "id": "unEAUv9gRz8B",
        "colab": {
          "base_uri": "https://localhost:8080/",
          "height": 289
        },
        "outputId": "0aada583-b98d-48da-b4c8-e99b35c83da3"
      },
      "source": [
        "#Pip install plotly --upgrade\n",
        "!pip install plotly --upgrade"
      ],
      "execution_count": null,
      "outputs": [
        {
          "output_type": "stream",
          "text": [
            "Collecting plotly\n",
            "\u001b[?25l  Downloading https://files.pythonhosted.org/packages/95/8d/ac1560f7ccc2ace85cd1e9619bbec1975b5d2d92e6c6fdbbdaa994c6ab4d/plotly-5.1.0-py2.py3-none-any.whl (20.6MB)\n",
            "\u001b[K     |████████████████████████████████| 20.6MB 39.8MB/s \n",
            "\u001b[?25hRequirement already satisfied, skipping upgrade: six in /usr/local/lib/python3.7/dist-packages (from plotly) (1.15.0)\n",
            "Collecting tenacity>=6.2.0\n",
            "  Downloading https://files.pythonhosted.org/packages/41/ee/d6eddff86161c6a3a1753af4a66b06cbc508d3b77ca4698cd0374cd66531/tenacity-7.0.0-py2.py3-none-any.whl\n",
            "Installing collected packages: tenacity, plotly\n",
            "  Found existing installation: plotly 4.4.1\n",
            "    Uninstalling plotly-4.4.1:\n",
            "      Successfully uninstalled plotly-4.4.1\n",
            "Successfully installed plotly-5.1.0 tenacity-7.0.0\n"
          ],
          "name": "stdout"
        },
        {
          "output_type": "display_data",
          "data": {
            "application/vnd.colab-display-data+json": {
              "pip_warning": {
                "packages": [
                  "_plotly_utils",
                  "plotly"
                ]
              }
            }
          },
          "metadata": {
            "tags": []
          }
        }
      ]
    },
    {
      "cell_type": "code",
      "metadata": {
        "id": "MD8rfYvHRz8B"
      },
      "source": [
        "#Remove previous versions of the uploaded file\n",
        "!rm GlobalLandTemperaturesByMajorCity.csv"
      ],
      "execution_count": null,
      "outputs": []
    },
    {
      "cell_type": "code",
      "metadata": {
        "id": "rHzJCbEdRz8C"
      },
      "source": [
        "#Uploading file from local drive\n",
        "from google.colab import files\n",
        "uploaded2 = files.upload()"
      ],
      "execution_count": null,
      "outputs": []
    },
    {
      "cell_type": "code",
      "metadata": {
        "id": "UE3BIxaLRz8E"
      },
      "source": [
        "#Storing dataset in a Pandas Dataframe\n",
        "import io\n",
        "df2_ci = pd.read_csv(io.BytesIO(uploaded2['GlobalLandTemperaturesByMajorCity.csv']))"
      ],
      "execution_count": null,
      "outputs": []
    },
    {
      "cell_type": "code",
      "metadata": {
        "colab": {
          "base_uri": "https://localhost:8080/"
        },
        "id": "8DuWaxtvRz8F",
        "outputId": "88064150-0eca-4aca-9316-e5f1f83f03a0"
      },
      "source": [
        "#Checking the dataframe information\n",
        "df2_ci.info()"
      ],
      "execution_count": null,
      "outputs": [
        {
          "output_type": "stream",
          "text": [
            "<class 'pandas.core.frame.DataFrame'>\n",
            "RangeIndex: 239177 entries, 0 to 239176\n",
            "Data columns (total 7 columns):\n",
            " #   Column                         Non-Null Count   Dtype  \n",
            "---  ------                         --------------   -----  \n",
            " 0   dt                             239177 non-null  object \n",
            " 1   AverageTemperature             228175 non-null  float64\n",
            " 2   AverageTemperatureUncertainty  228175 non-null  float64\n",
            " 3   City                           239177 non-null  object \n",
            " 4   Country                        239177 non-null  object \n",
            " 5   Latitude                       239177 non-null  object \n",
            " 6   Longitude                      239177 non-null  object \n",
            "dtypes: float64(2), object(5)\n",
            "memory usage: 12.8+ MB\n"
          ],
          "name": "stdout"
        }
      ]
    },
    {
      "cell_type": "markdown",
      "metadata": {
        "id": "x2UBuY7UV_Eh"
      },
      "source": [
        "##Data Cleaning"
      ]
    },
    {
      "cell_type": "code",
      "metadata": {
        "colab": {
          "base_uri": "https://localhost:8080/"
        },
        "id": "-sQdmc1sWCbN",
        "outputId": "269fbe29-901f-4272-cf91-18341bb2fea8"
      },
      "source": [
        "#Checking for missing values the in dataframe\n",
        "df2_ci.isna().sum()"
      ],
      "execution_count": null,
      "outputs": [
        {
          "output_type": "execute_result",
          "data": {
            "text/plain": [
              "dt                                   0\n",
              "AverageTemperature               11002\n",
              "AverageTemperatureUncertainty    11002\n",
              "City                                 0\n",
              "Country                              0\n",
              "Latitude                             0\n",
              "Longitude                            0\n",
              "dtype: int64"
            ]
          },
          "metadata": {
            "tags": []
          },
          "execution_count": 22
        }
      ]
    },
    {
      "cell_type": "code",
      "metadata": {
        "colab": {
          "base_uri": "https://localhost:8080/"
        },
        "id": "y3vvScNlWCbO",
        "outputId": "ab70b741-d3fc-4eb6-8720-fc66186ec850"
      },
      "source": [
        "#Removing missing values\n",
        "df2_ci.dropna(axis=0, how='any', subset=['AverageTemperature'], inplace=True)\n",
        "df2_ci.isna().sum()"
      ],
      "execution_count": null,
      "outputs": [
        {
          "output_type": "execute_result",
          "data": {
            "text/plain": [
              "dt                               0\n",
              "AverageTemperature               0\n",
              "AverageTemperatureUncertainty    0\n",
              "City                             0\n",
              "Country                          0\n",
              "Latitude                         0\n",
              "Longitude                        0\n",
              "dtype: int64"
            ]
          },
          "metadata": {
            "tags": []
          },
          "execution_count": 23
        }
      ]
    },
    {
      "cell_type": "code",
      "metadata": {
        "colab": {
          "base_uri": "https://localhost:8080/",
          "height": 204
        },
        "id": "Me904ZqrWCbP",
        "outputId": "60d767d1-6884-44c7-bb7f-3861f6e8c5b0"
      },
      "source": [
        "#Parsing date column to datetime object and reset index\n",
        "df2_ci['dt'] = pd.to_datetime(df2_ci['dt'], format='%Y-%m-%d %H:%M:%S', errors='coerce')\n",
        "df2_ci.reset_index(drop=True, inplace=True)\n",
        "df2_ci.head()"
      ],
      "execution_count": null,
      "outputs": [
        {
          "output_type": "execute_result",
          "data": {
            "text/html": [
              "<div>\n",
              "<style scoped>\n",
              "    .dataframe tbody tr th:only-of-type {\n",
              "        vertical-align: middle;\n",
              "    }\n",
              "\n",
              "    .dataframe tbody tr th {\n",
              "        vertical-align: top;\n",
              "    }\n",
              "\n",
              "    .dataframe thead th {\n",
              "        text-align: right;\n",
              "    }\n",
              "</style>\n",
              "<table border=\"1\" class=\"dataframe\">\n",
              "  <thead>\n",
              "    <tr style=\"text-align: right;\">\n",
              "      <th></th>\n",
              "      <th>dt</th>\n",
              "      <th>AverageTemperature</th>\n",
              "      <th>AverageTemperatureUncertainty</th>\n",
              "      <th>City</th>\n",
              "      <th>Country</th>\n",
              "      <th>Latitude</th>\n",
              "      <th>Longitude</th>\n",
              "    </tr>\n",
              "  </thead>\n",
              "  <tbody>\n",
              "    <tr>\n",
              "      <th>0</th>\n",
              "      <td>1849-01-01</td>\n",
              "      <td>26.704</td>\n",
              "      <td>1.435</td>\n",
              "      <td>Abidjan</td>\n",
              "      <td>Côte D'Ivoire</td>\n",
              "      <td>5.63N</td>\n",
              "      <td>3.23W</td>\n",
              "    </tr>\n",
              "    <tr>\n",
              "      <th>1</th>\n",
              "      <td>1849-02-01</td>\n",
              "      <td>27.434</td>\n",
              "      <td>1.362</td>\n",
              "      <td>Abidjan</td>\n",
              "      <td>Côte D'Ivoire</td>\n",
              "      <td>5.63N</td>\n",
              "      <td>3.23W</td>\n",
              "    </tr>\n",
              "    <tr>\n",
              "      <th>2</th>\n",
              "      <td>1849-03-01</td>\n",
              "      <td>28.101</td>\n",
              "      <td>1.612</td>\n",
              "      <td>Abidjan</td>\n",
              "      <td>Côte D'Ivoire</td>\n",
              "      <td>5.63N</td>\n",
              "      <td>3.23W</td>\n",
              "    </tr>\n",
              "    <tr>\n",
              "      <th>3</th>\n",
              "      <td>1849-04-01</td>\n",
              "      <td>26.140</td>\n",
              "      <td>1.387</td>\n",
              "      <td>Abidjan</td>\n",
              "      <td>Côte D'Ivoire</td>\n",
              "      <td>5.63N</td>\n",
              "      <td>3.23W</td>\n",
              "    </tr>\n",
              "    <tr>\n",
              "      <th>4</th>\n",
              "      <td>1849-05-01</td>\n",
              "      <td>25.427</td>\n",
              "      <td>1.200</td>\n",
              "      <td>Abidjan</td>\n",
              "      <td>Côte D'Ivoire</td>\n",
              "      <td>5.63N</td>\n",
              "      <td>3.23W</td>\n",
              "    </tr>\n",
              "  </tbody>\n",
              "</table>\n",
              "</div>"
            ],
            "text/plain": [
              "          dt  AverageTemperature  ...  Latitude Longitude\n",
              "0 1849-01-01              26.704  ...     5.63N     3.23W\n",
              "1 1849-02-01              27.434  ...     5.63N     3.23W\n",
              "2 1849-03-01              28.101  ...     5.63N     3.23W\n",
              "3 1849-04-01              26.140  ...     5.63N     3.23W\n",
              "4 1849-05-01              25.427  ...     5.63N     3.23W\n",
              "\n",
              "[5 rows x 7 columns]"
            ]
          },
          "metadata": {
            "tags": []
          },
          "execution_count": 24
        }
      ]
    },
    {
      "cell_type": "code",
      "metadata": {
        "colab": {
          "base_uri": "https://localhost:8080/"
        },
        "id": "H4Y6qSR9WgZH",
        "outputId": "7bd7db80-fecb-49a9-dfb5-97fae7065251"
      },
      "source": [
        "#Checking if there are duplicate values\n",
        "df2_ci['City'].unique()"
      ],
      "execution_count": null,
      "outputs": [
        {
          "output_type": "execute_result",
          "data": {
            "text/plain": [
              "array(['Abidjan', 'Addis Abeba', 'Ahmadabad', 'Aleppo', 'Alexandria',\n",
              "       'Ankara', 'Baghdad', 'Bangalore', 'Bangkok', 'Belo Horizonte',\n",
              "       'Berlin', 'Bogotá', 'Bombay', 'Brasília', 'Cairo', 'Calcutta',\n",
              "       'Cali', 'Cape Town', 'Casablanca', 'Changchun', 'Chengdu',\n",
              "       'Chicago', 'Chongqing', 'Dakar', 'Dalian', 'Dar Es Salaam',\n",
              "       'Delhi', 'Dhaka', 'Durban', 'Faisalabad', 'Fortaleza', 'Gizeh',\n",
              "       'Guangzhou', 'Harare', 'Harbin', 'Ho Chi Minh City', 'Hyderabad',\n",
              "       'Ibadan', 'Istanbul', 'Izmir', 'Jaipur', 'Jakarta', 'Jiddah',\n",
              "       'Jinan', 'Kabul', 'Kano', 'Kanpur', 'Karachi', 'Kiev', 'Kinshasa',\n",
              "       'Lagos', 'Lahore', 'Lakhnau', 'Lima', 'London', 'Los Angeles',\n",
              "       'Luanda', 'Madras', 'Madrid', 'Manila', 'Mashhad', 'Melbourne',\n",
              "       'Mexico', 'Mogadishu', 'Montreal', 'Moscow', 'Nagoya', 'Nagpur',\n",
              "       'Nairobi', 'Nanjing', 'New Delhi', 'New York', 'Paris', 'Peking',\n",
              "       'Pune', 'Rangoon', 'Rio De Janeiro', 'Riyadh', 'Rome', 'São Paulo',\n",
              "       'Saint Petersburg', 'Salvador', 'Santiago', 'Santo Domingo',\n",
              "       'Seoul', 'Shanghai', 'Shenyang', 'Singapore', 'Surabaya', 'Surat',\n",
              "       'Sydney', 'Taipei', 'Taiyuan', 'Tangshan', 'Tianjin', 'Tokyo',\n",
              "       'Toronto', 'Umm Durman', 'Wuhan', 'Xian'], dtype=object)"
            ]
          },
          "metadata": {
            "tags": []
          },
          "execution_count": 26
        }
      ]
    },
    {
      "cell_type": "markdown",
      "metadata": {
        "id": "IO26Vd0eZHUP"
      },
      "source": [
        "##Data Manipulation"
      ]
    },
    {
      "cell_type": "code",
      "metadata": {
        "colab": {
          "base_uri": "https://localhost:8080/",
          "height": 111
        },
        "id": "u9a9dWNfZJKS",
        "outputId": "7dd67a05-b443-4faf-8cde-d8e2684db90e"
      },
      "source": [
        "#Extracting year from datetime object and renaming columns\n",
        "df2_ci = df2_ci.assign(Year = df2_ci['dt'].dt.year, \n",
        "                       Month = df2_ci['dt'].dt.month)\n",
        "df2_ci = df2_ci.rename(columns={'AverageTemperature': 'Temp', 'AverageTemperatureUncertainty': 'Temp_uncer'})\n",
        "df2_ci.tail(2)"
      ],
      "execution_count": null,
      "outputs": [
        {
          "output_type": "execute_result",
          "data": {
            "text/html": [
              "<div>\n",
              "<style scoped>\n",
              "    .dataframe tbody tr th:only-of-type {\n",
              "        vertical-align: middle;\n",
              "    }\n",
              "\n",
              "    .dataframe tbody tr th {\n",
              "        vertical-align: top;\n",
              "    }\n",
              "\n",
              "    .dataframe thead th {\n",
              "        text-align: right;\n",
              "    }\n",
              "</style>\n",
              "<table border=\"1\" class=\"dataframe\">\n",
              "  <thead>\n",
              "    <tr style=\"text-align: right;\">\n",
              "      <th></th>\n",
              "      <th>dt</th>\n",
              "      <th>Temp</th>\n",
              "      <th>Temp_uncer</th>\n",
              "      <th>City</th>\n",
              "      <th>Country</th>\n",
              "      <th>Latitude</th>\n",
              "      <th>Longitude</th>\n",
              "      <th>Year</th>\n",
              "      <th>Month</th>\n",
              "    </tr>\n",
              "  </thead>\n",
              "  <tbody>\n",
              "    <tr>\n",
              "      <th>228173</th>\n",
              "      <td>2013-07-01</td>\n",
              "      <td>25.251</td>\n",
              "      <td>1.042</td>\n",
              "      <td>Xian</td>\n",
              "      <td>China</td>\n",
              "      <td>34.56N</td>\n",
              "      <td>108.97E</td>\n",
              "      <td>2013</td>\n",
              "      <td>7</td>\n",
              "    </tr>\n",
              "    <tr>\n",
              "      <th>228174</th>\n",
              "      <td>2013-08-01</td>\n",
              "      <td>24.528</td>\n",
              "      <td>0.840</td>\n",
              "      <td>Xian</td>\n",
              "      <td>China</td>\n",
              "      <td>34.56N</td>\n",
              "      <td>108.97E</td>\n",
              "      <td>2013</td>\n",
              "      <td>8</td>\n",
              "    </tr>\n",
              "  </tbody>\n",
              "</table>\n",
              "</div>"
            ],
            "text/plain": [
              "               dt    Temp  Temp_uncer  City  ... Latitude Longitude  Year  Month\n",
              "228173 2013-07-01  25.251       1.042  Xian  ...   34.56N   108.97E  2013      7\n",
              "228174 2013-08-01  24.528       0.840  Xian  ...   34.56N   108.97E  2013      8\n",
              "\n",
              "[2 rows x 9 columns]"
            ]
          },
          "metadata": {
            "tags": []
          },
          "execution_count": 37
        }
      ]
    },
    {
      "cell_type": "code",
      "metadata": {
        "colab": {
          "base_uri": "https://localhost:8080/",
          "height": 111
        },
        "id": "S_EfigEPd2o4",
        "outputId": "41ddce5f-a8d2-4ff6-ff5a-e877546175b4"
      },
      "source": [
        "#Creating categories for each decade\n",
        "df2_ci = df2_ci.assign(Decade = df2_ci['Year'].astype(str).str[:3] + \"0\")\n",
        "df2_ci.tail(2)"
      ],
      "execution_count": null,
      "outputs": [
        {
          "output_type": "execute_result",
          "data": {
            "text/html": [
              "<div>\n",
              "<style scoped>\n",
              "    .dataframe tbody tr th:only-of-type {\n",
              "        vertical-align: middle;\n",
              "    }\n",
              "\n",
              "    .dataframe tbody tr th {\n",
              "        vertical-align: top;\n",
              "    }\n",
              "\n",
              "    .dataframe thead th {\n",
              "        text-align: right;\n",
              "    }\n",
              "</style>\n",
              "<table border=\"1\" class=\"dataframe\">\n",
              "  <thead>\n",
              "    <tr style=\"text-align: right;\">\n",
              "      <th></th>\n",
              "      <th>dt</th>\n",
              "      <th>Temp</th>\n",
              "      <th>Temp_uncer</th>\n",
              "      <th>City</th>\n",
              "      <th>Country</th>\n",
              "      <th>Latitude</th>\n",
              "      <th>Longitude</th>\n",
              "      <th>Year</th>\n",
              "      <th>Month</th>\n",
              "      <th>Decade</th>\n",
              "    </tr>\n",
              "  </thead>\n",
              "  <tbody>\n",
              "    <tr>\n",
              "      <th>228173</th>\n",
              "      <td>2013-07-01</td>\n",
              "      <td>25.251</td>\n",
              "      <td>1.042</td>\n",
              "      <td>Xian</td>\n",
              "      <td>China</td>\n",
              "      <td>34.56N</td>\n",
              "      <td>108.97E</td>\n",
              "      <td>2013</td>\n",
              "      <td>7</td>\n",
              "      <td>2010</td>\n",
              "    </tr>\n",
              "    <tr>\n",
              "      <th>228174</th>\n",
              "      <td>2013-08-01</td>\n",
              "      <td>24.528</td>\n",
              "      <td>0.840</td>\n",
              "      <td>Xian</td>\n",
              "      <td>China</td>\n",
              "      <td>34.56N</td>\n",
              "      <td>108.97E</td>\n",
              "      <td>2013</td>\n",
              "      <td>8</td>\n",
              "      <td>2010</td>\n",
              "    </tr>\n",
              "  </tbody>\n",
              "</table>\n",
              "</div>"
            ],
            "text/plain": [
              "               dt    Temp  Temp_uncer  City  ... Longitude  Year Month  Decade\n",
              "228173 2013-07-01  25.251       1.042  Xian  ...   108.97E  2013     7    2010\n",
              "228174 2013-08-01  24.528       0.840  Xian  ...   108.97E  2013     8    2010\n",
              "\n",
              "[2 rows x 10 columns]"
            ]
          },
          "metadata": {
            "tags": []
          },
          "execution_count": 51
        }
      ]
    },
    {
      "cell_type": "code",
      "metadata": {
        "colab": {
          "base_uri": "https://localhost:8080/"
        },
        "id": "zia3U4rRhU9j",
        "outputId": "2e38b06a-532b-4d3a-f1bc-5665f41d2bfb"
      },
      "source": [
        "df2_ci.Decade.unique()"
      ],
      "execution_count": null,
      "outputs": [
        {
          "output_type": "execute_result",
          "data": {
            "text/plain": [
              "array(['1840', '1850', '1860', '1870', '1880', '1890', '1900', '1910',\n",
              "       '1920', '1930', '1940', '1950', '1960', '1970', '1980', '1990',\n",
              "       '2000', '2010', '1790', '1800', '1810', '1820', '1830', '1750',\n",
              "       '1760', '1770', '1780', '1740'], dtype=object)"
            ]
          },
          "metadata": {
            "tags": []
          },
          "execution_count": 52
        }
      ]
    },
    {
      "cell_type": "code",
      "metadata": {
        "colab": {
          "base_uri": "https://localhost:8080/",
          "height": 111
        },
        "id": "R4b5xGESZ45D",
        "outputId": "124eb30d-c922-4dd9-fa3f-2ece1a9b5fc3"
      },
      "source": [
        "#Slicing dataframe from 1900 to 2013\n",
        "years = [i for i in range(1900, 2014)]\n",
        "df2_yr = df2_ci[df2_ci['Year'].isin(years)].copy().reset_index(drop=True)\n",
        "df2_yr = df2_yr[['dt', 'Year', 'Month', 'Decade', 'Temp', 'Country', 'City', 'Latitude', 'Longitude']]\n",
        "df2_yr.tail(2)"
      ],
      "execution_count": null,
      "outputs": [
        {
          "output_type": "execute_result",
          "data": {
            "text/html": [
              "<div>\n",
              "<style scoped>\n",
              "    .dataframe tbody tr th:only-of-type {\n",
              "        vertical-align: middle;\n",
              "    }\n",
              "\n",
              "    .dataframe tbody tr th {\n",
              "        vertical-align: top;\n",
              "    }\n",
              "\n",
              "    .dataframe thead th {\n",
              "        text-align: right;\n",
              "    }\n",
              "</style>\n",
              "<table border=\"1\" class=\"dataframe\">\n",
              "  <thead>\n",
              "    <tr style=\"text-align: right;\">\n",
              "      <th></th>\n",
              "      <th>dt</th>\n",
              "      <th>Year</th>\n",
              "      <th>Month</th>\n",
              "      <th>Decade</th>\n",
              "      <th>Temp</th>\n",
              "      <th>Country</th>\n",
              "      <th>City</th>\n",
              "      <th>Latitude</th>\n",
              "      <th>Longitude</th>\n",
              "    </tr>\n",
              "  </thead>\n",
              "  <tbody>\n",
              "    <tr>\n",
              "      <th>136405</th>\n",
              "      <td>2013-07-01</td>\n",
              "      <td>2013</td>\n",
              "      <td>7</td>\n",
              "      <td>2010</td>\n",
              "      <td>25.251</td>\n",
              "      <td>China</td>\n",
              "      <td>Xian</td>\n",
              "      <td>34.56N</td>\n",
              "      <td>108.97E</td>\n",
              "    </tr>\n",
              "    <tr>\n",
              "      <th>136406</th>\n",
              "      <td>2013-08-01</td>\n",
              "      <td>2013</td>\n",
              "      <td>8</td>\n",
              "      <td>2010</td>\n",
              "      <td>24.528</td>\n",
              "      <td>China</td>\n",
              "      <td>Xian</td>\n",
              "      <td>34.56N</td>\n",
              "      <td>108.97E</td>\n",
              "    </tr>\n",
              "  </tbody>\n",
              "</table>\n",
              "</div>"
            ],
            "text/plain": [
              "               dt  Year  Month Decade    Temp Country  City Latitude Longitude\n",
              "136405 2013-07-01  2013      7   2010  25.251   China  Xian   34.56N   108.97E\n",
              "136406 2013-08-01  2013      8   2010  24.528   China  Xian   34.56N   108.97E"
            ]
          },
          "metadata": {
            "tags": []
          },
          "execution_count": 53
        }
      ]
    },
    {
      "cell_type": "code",
      "metadata": {
        "colab": {
          "base_uri": "https://localhost:8080/",
          "height": 111
        },
        "id": "k2gFtBuWi3zz",
        "outputId": "939f3754-ff18-49b6-c2d6-7b9fe2fe004f"
      },
      "source": [
        "#Creating first dataframe grouped by decade and month\n",
        "df2_dec = df2_yr.groupby(['Country', 'City', 'Decade', 'Month']).agg(Mean_temp = ('Temp', 'mean')).reset_index()\n",
        "df2_dec.tail(2)"
      ],
      "execution_count": null,
      "outputs": [
        {
          "output_type": "execute_result",
          "data": {
            "text/html": [
              "<div>\n",
              "<style scoped>\n",
              "    .dataframe tbody tr th:only-of-type {\n",
              "        vertical-align: middle;\n",
              "    }\n",
              "\n",
              "    .dataframe tbody tr th {\n",
              "        vertical-align: top;\n",
              "    }\n",
              "\n",
              "    .dataframe thead th {\n",
              "        text-align: right;\n",
              "    }\n",
              "</style>\n",
              "<table border=\"1\" class=\"dataframe\">\n",
              "  <thead>\n",
              "    <tr style=\"text-align: right;\">\n",
              "      <th></th>\n",
              "      <th>Country</th>\n",
              "      <th>City</th>\n",
              "      <th>Decade</th>\n",
              "      <th>Month</th>\n",
              "      <th>Temp_mean</th>\n",
              "    </tr>\n",
              "  </thead>\n",
              "  <tbody>\n",
              "    <tr>\n",
              "      <th>14398</th>\n",
              "      <td>Zimbabwe</td>\n",
              "      <td>Harare</td>\n",
              "      <td>2010</td>\n",
              "      <td>11</td>\n",
              "      <td>24.027333</td>\n",
              "    </tr>\n",
              "    <tr>\n",
              "      <th>14399</th>\n",
              "      <td>Zimbabwe</td>\n",
              "      <td>Harare</td>\n",
              "      <td>2010</td>\n",
              "      <td>12</td>\n",
              "      <td>22.614000</td>\n",
              "    </tr>\n",
              "  </tbody>\n",
              "</table>\n",
              "</div>"
            ],
            "text/plain": [
              "        Country    City Decade  Month  Temp_mean\n",
              "14398  Zimbabwe  Harare   2010     11  24.027333\n",
              "14399  Zimbabwe  Harare   2010     12  22.614000"
            ]
          },
          "metadata": {
            "tags": []
          },
          "execution_count": 55
        }
      ]
    },
    {
      "cell_type": "code",
      "metadata": {
        "colab": {
          "base_uri": "https://localhost:8080/",
          "height": 17
        },
        "id": "demfTUy-jzeO",
        "outputId": "3d5a5e77-1470-4b25-cdfb-69f7881488e9"
      },
      "source": [
        "#Exporting to excel in local disk\n",
        "from google.colab import files\n",
        "df2_dec.to_excel('temp_city_by_decade.xlsx', index=False) #==> Excluding index from file\n",
        "files.download('temp_city_by_decade.xlsx')"
      ],
      "execution_count": null,
      "outputs": [
        {
          "output_type": "display_data",
          "data": {
            "application/javascript": [
              "\n",
              "    async function download(id, filename, size) {\n",
              "      if (!google.colab.kernel.accessAllowed) {\n",
              "        return;\n",
              "      }\n",
              "      const div = document.createElement('div');\n",
              "      const label = document.createElement('label');\n",
              "      label.textContent = `Downloading \"${filename}\": `;\n",
              "      div.appendChild(label);\n",
              "      const progress = document.createElement('progress');\n",
              "      progress.max = size;\n",
              "      div.appendChild(progress);\n",
              "      document.body.appendChild(div);\n",
              "\n",
              "      const buffers = [];\n",
              "      let downloaded = 0;\n",
              "\n",
              "      const channel = await google.colab.kernel.comms.open(id);\n",
              "      // Send a message to notify the kernel that we're ready.\n",
              "      channel.send({})\n",
              "\n",
              "      for await (const message of channel.messages) {\n",
              "        // Send a message to notify the kernel that we're ready.\n",
              "        channel.send({})\n",
              "        if (message.buffers) {\n",
              "          for (const buffer of message.buffers) {\n",
              "            buffers.push(buffer);\n",
              "            downloaded += buffer.byteLength;\n",
              "            progress.value = downloaded;\n",
              "          }\n",
              "        }\n",
              "      }\n",
              "      const blob = new Blob(buffers, {type: 'application/binary'});\n",
              "      const a = document.createElement('a');\n",
              "      a.href = window.URL.createObjectURL(blob);\n",
              "      a.download = filename;\n",
              "      div.appendChild(a);\n",
              "      a.click();\n",
              "      div.remove();\n",
              "    }\n",
              "  "
            ],
            "text/plain": [
              "<IPython.core.display.Javascript object>"
            ]
          },
          "metadata": {
            "tags": []
          }
        },
        {
          "output_type": "display_data",
          "data": {
            "application/javascript": [
              "download(\"download_231e349a-bcb9-4c55-a53c-5e740c850425\", \"temp_cities_and_decade.xlsx\", 344594)"
            ],
            "text/plain": [
              "<IPython.core.display.Javascript object>"
            ]
          },
          "metadata": {
            "tags": []
          }
        }
      ]
    },
    {
      "cell_type": "code",
      "metadata": {
        "colab": {
          "base_uri": "https://localhost:8080/",
          "height": 111
        },
        "id": "VWi5mj-EkVfz",
        "outputId": "631725c8-bff3-4bd4-a750-a1a91626cab8"
      },
      "source": [
        "#Creating second dataframe grouped by decade, latitude and longitude\n",
        "df2_loc = df2_yr.groupby(['Country', 'City', 'Decade', 'Latitude', 'Longitude']).agg(Mean_temp = ('Temp', 'mean')).reset_index()\n",
        "df2_loc.tail(2)"
      ],
      "execution_count": null,
      "outputs": [
        {
          "output_type": "execute_result",
          "data": {
            "text/html": [
              "<div>\n",
              "<style scoped>\n",
              "    .dataframe tbody tr th:only-of-type {\n",
              "        vertical-align: middle;\n",
              "    }\n",
              "\n",
              "    .dataframe tbody tr th {\n",
              "        vertical-align: top;\n",
              "    }\n",
              "\n",
              "    .dataframe thead th {\n",
              "        text-align: right;\n",
              "    }\n",
              "</style>\n",
              "<table border=\"1\" class=\"dataframe\">\n",
              "  <thead>\n",
              "    <tr style=\"text-align: right;\">\n",
              "      <th></th>\n",
              "      <th>Country</th>\n",
              "      <th>City</th>\n",
              "      <th>Decade</th>\n",
              "      <th>Latitude</th>\n",
              "      <th>Longitude</th>\n",
              "      <th>Mean_temp</th>\n",
              "    </tr>\n",
              "  </thead>\n",
              "  <tbody>\n",
              "    <tr>\n",
              "      <th>1198</th>\n",
              "      <td>Zimbabwe</td>\n",
              "      <td>Harare</td>\n",
              "      <td>2000</td>\n",
              "      <td>18.48S</td>\n",
              "      <td>30.42E</td>\n",
              "      <td>20.755858</td>\n",
              "    </tr>\n",
              "    <tr>\n",
              "      <th>1199</th>\n",
              "      <td>Zimbabwe</td>\n",
              "      <td>Harare</td>\n",
              "      <td>2010</td>\n",
              "      <td>18.48S</td>\n",
              "      <td>30.42E</td>\n",
              "      <td>20.629614</td>\n",
              "    </tr>\n",
              "  </tbody>\n",
              "</table>\n",
              "</div>"
            ],
            "text/plain": [
              "       Country    City Decade Latitude Longitude  Mean_temp\n",
              "1198  Zimbabwe  Harare   2000   18.48S    30.42E  20.755858\n",
              "1199  Zimbabwe  Harare   2010   18.48S    30.42E  20.629614"
            ]
          },
          "metadata": {
            "tags": []
          },
          "execution_count": 63
        }
      ]
    },
    {
      "cell_type": "code",
      "metadata": {
        "colab": {
          "base_uri": "https://localhost:8080/",
          "height": 111
        },
        "id": "WzTJEJMqkVoT",
        "outputId": "1eb9556f-06f0-48fb-a62c-99b79ff5481c"
      },
      "source": [
        "#Converting string latitude and longitude into float\n",
        "df2_loc = df2_loc.assign(Latitude = df2_loc['Latitude'].str[:-1].astype(float), \n",
        "                         Longitude = df2_loc['Longitude'].str[:-1].astype(float))\n",
        "df2_loc.tail(2)"
      ],
      "execution_count": null,
      "outputs": [
        {
          "output_type": "execute_result",
          "data": {
            "text/html": [
              "<div>\n",
              "<style scoped>\n",
              "    .dataframe tbody tr th:only-of-type {\n",
              "        vertical-align: middle;\n",
              "    }\n",
              "\n",
              "    .dataframe tbody tr th {\n",
              "        vertical-align: top;\n",
              "    }\n",
              "\n",
              "    .dataframe thead th {\n",
              "        text-align: right;\n",
              "    }\n",
              "</style>\n",
              "<table border=\"1\" class=\"dataframe\">\n",
              "  <thead>\n",
              "    <tr style=\"text-align: right;\">\n",
              "      <th></th>\n",
              "      <th>Country</th>\n",
              "      <th>City</th>\n",
              "      <th>Decade</th>\n",
              "      <th>Latitude</th>\n",
              "      <th>Longitude</th>\n",
              "      <th>Mean_temp</th>\n",
              "    </tr>\n",
              "  </thead>\n",
              "  <tbody>\n",
              "    <tr>\n",
              "      <th>1198</th>\n",
              "      <td>Zimbabwe</td>\n",
              "      <td>Harare</td>\n",
              "      <td>2000</td>\n",
              "      <td>18.48</td>\n",
              "      <td>30.42</td>\n",
              "      <td>20.755858</td>\n",
              "    </tr>\n",
              "    <tr>\n",
              "      <th>1199</th>\n",
              "      <td>Zimbabwe</td>\n",
              "      <td>Harare</td>\n",
              "      <td>2010</td>\n",
              "      <td>18.48</td>\n",
              "      <td>30.42</td>\n",
              "      <td>20.629614</td>\n",
              "    </tr>\n",
              "  </tbody>\n",
              "</table>\n",
              "</div>"
            ],
            "text/plain": [
              "       Country    City Decade  Latitude  Longitude  Mean_temp\n",
              "1198  Zimbabwe  Harare   2000     18.48      30.42  20.755858\n",
              "1199  Zimbabwe  Harare   2010     18.48      30.42  20.629614"
            ]
          },
          "metadata": {
            "tags": []
          },
          "execution_count": 64
        }
      ]
    },
    {
      "cell_type": "code",
      "metadata": {
        "colab": {
          "base_uri": "https://localhost:8080/"
        },
        "id": "EJpPOjIXmTj1",
        "outputId": "b16f2c42-d0a9-4cad-9cf6-1c8b5d51ab52"
      },
      "source": [
        "#Checking consistency of latitude and longitude values\n",
        "df2_loc['Latitude'].unique(), df2_loc['Longitude'].unique()"
      ],
      "execution_count": null,
      "outputs": [
        {
          "output_type": "execute_result",
          "data": {
            "text/plain": [
              "(array([34.56,  8.84, 37.78, 23.31, 20.09, 15.27,  4.02, 13.66, 16.87,\n",
              "        45.81, 44.2 , 32.95, 31.35, 29.74, 39.38, 36.17, 40.99,  5.63,\n",
              "        18.48, 49.03, 52.24, 12.05, 28.13, 26.52, 21.7 ,  7.23, 42.59,\n",
              "         0.8 , 24.92, 55.45, 60.27,  2.41, 50.63, 10.45]),\n",
              " array([ 70.05,  13.78, 144.41, 151.78,  90.  ,  44.36,  47.5 ,  40.98,\n",
              "         42.82,  38.81,  46.31,  95.44,  72.69,  80.5 ,  69.89, 125.22,\n",
              "        103.66, 107.08, 120.69, 112.72, 125.77, 117.35, 118.74, 116.53,\n",
              "        120.63, 123.55, 111.86, 113.9 , 114.46, 108.97,  74.73,  76.34,\n",
              "         15.27,   3.23,  69.3 ,  30.16,  31.38,  38.11,   2.45,  13.14,\n",
              "         72.52,  77.26,  72.68,  88.25,  77.27,  78.7 ,  75.22,  80.6 ,\n",
              "         80.09,  78.75,  74.37,  73.56, 106.55, 112.7 ,  59.67,  45.  ,\n",
              "         13.09, 136.22, 139.23,  36.16,  98.96,   6.7 ,   4.05,   8.22,\n",
              "         73.51,  67.39, 120.83,  36.85,  29.19,  38.94,  46.11,  17.5 ,\n",
              "         45.8 ,  18.19, 126.1 ,   4.26,  32.5 ,  37.79, 122.36,  39.73,\n",
              "         99.91,  33.29,  29.82,  26.44,  31.69,   0.  ,  87.27, 118.7 ,\n",
              "         74.56, 107.18,  30.42]))"
            ]
          },
          "metadata": {
            "tags": []
          },
          "execution_count": 67
        }
      ]
    },
    {
      "cell_type": "code",
      "metadata": {
        "colab": {
          "base_uri": "https://localhost:8080/",
          "height": 17
        },
        "id": "kiVYZlZLnRfD",
        "outputId": "927e3b49-3d7c-48d3-d203-485de1aaae3d"
      },
      "source": [
        "#Exporting to excel in local disk\n",
        "from google.colab import files\n",
        "df2_loc.to_excel('temp_city_lat_and_lon.xlsx', index=False) #==> Excluding index from file\n",
        "files.download('temp_city_lat_and_lon.xlsx')"
      ],
      "execution_count": null,
      "outputs": [
        {
          "output_type": "display_data",
          "data": {
            "application/javascript": [
              "\n",
              "    async function download(id, filename, size) {\n",
              "      if (!google.colab.kernel.accessAllowed) {\n",
              "        return;\n",
              "      }\n",
              "      const div = document.createElement('div');\n",
              "      const label = document.createElement('label');\n",
              "      label.textContent = `Downloading \"${filename}\": `;\n",
              "      div.appendChild(label);\n",
              "      const progress = document.createElement('progress');\n",
              "      progress.max = size;\n",
              "      div.appendChild(progress);\n",
              "      document.body.appendChild(div);\n",
              "\n",
              "      const buffers = [];\n",
              "      let downloaded = 0;\n",
              "\n",
              "      const channel = await google.colab.kernel.comms.open(id);\n",
              "      // Send a message to notify the kernel that we're ready.\n",
              "      channel.send({})\n",
              "\n",
              "      for await (const message of channel.messages) {\n",
              "        // Send a message to notify the kernel that we're ready.\n",
              "        channel.send({})\n",
              "        if (message.buffers) {\n",
              "          for (const buffer of message.buffers) {\n",
              "            buffers.push(buffer);\n",
              "            downloaded += buffer.byteLength;\n",
              "            progress.value = downloaded;\n",
              "          }\n",
              "        }\n",
              "      }\n",
              "      const blob = new Blob(buffers, {type: 'application/binary'});\n",
              "      const a = document.createElement('a');\n",
              "      a.href = window.URL.createObjectURL(blob);\n",
              "      a.download = filename;\n",
              "      div.appendChild(a);\n",
              "      a.click();\n",
              "      div.remove();\n",
              "    }\n",
              "  "
            ],
            "text/plain": [
              "<IPython.core.display.Javascript object>"
            ]
          },
          "metadata": {
            "tags": []
          }
        },
        {
          "output_type": "display_data",
          "data": {
            "application/javascript": [
              "download(\"download_34416ef2-c001-468b-a923-d27437b9a31f\", \"temp_city_lat_lon.xlsx\", 39567)"
            ],
            "text/plain": [
              "<IPython.core.display.Javascript object>"
            ]
          },
          "metadata": {
            "tags": []
          }
        }
      ]
    },
    {
      "cell_type": "markdown",
      "metadata": {
        "id": "Gc_H-2PjniZk"
      },
      "source": [
        "##Data Visualization"
      ]
    },
    {
      "cell_type": "markdown",
      "metadata": {
        "id": "ILAJVEc8nmOx"
      },
      "source": [
        "###Plotting Temperatures by City and Decade\n",
        "\n"
      ]
    },
    {
      "cell_type": "code",
      "metadata": {
        "colab": {
          "resources": {
            "http://localhost:8080/nbextensions/google.colab/files.js": {
              "data": "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",
              "ok": true,
              "headers": [
                [
                  "content-type",
                  "application/javascript"
                ]
              ],
              "status": 200,
              "status_text": ""
            }
          },
          "base_uri": "https://localhost:8080/",
          "height": 72
        },
        "id": "79SsDnWRVXHJ",
        "outputId": "d75ee866-482d-489a-8d6e-c81cb73c6982"
      },
      "source": [
        "#Uploading file from local drive\n",
        "from google.colab import files\n",
        "uploaded2a = files.upload()"
      ],
      "execution_count": null,
      "outputs": [
        {
          "output_type": "display_data",
          "data": {
            "text/html": [
              "\n",
              "     <input type=\"file\" id=\"files-5095389b-47df-42e6-a3bf-2a3841a16a96\" name=\"files[]\" multiple disabled\n",
              "        style=\"border:none\" />\n",
              "     <output id=\"result-5095389b-47df-42e6-a3bf-2a3841a16a96\">\n",
              "      Upload widget is only available when the cell has been executed in the\n",
              "      current browser session. Please rerun this cell to enable.\n",
              "      </output>\n",
              "      <script src=\"/nbextensions/google.colab/files.js\"></script> "
            ],
            "text/plain": [
              "<IPython.core.display.HTML object>"
            ]
          },
          "metadata": {
            "tags": []
          }
        },
        {
          "output_type": "stream",
          "text": [
            "Saving temp_city_by_decade.xlsx to temp_city_by_decade.xlsx\n"
          ],
          "name": "stdout"
        }
      ]
    },
    {
      "cell_type": "code",
      "metadata": {
        "id": "TcrXTCKHVXHe"
      },
      "source": [
        "#Storing dataset in a Pandas Dataframe\n",
        "import io\n",
        "df2_dec = pd.read_excel(io.BytesIO(uploaded2a['temp_city_by_decade.xlsx']))"
      ],
      "execution_count": null,
      "outputs": []
    },
    {
      "cell_type": "code",
      "metadata": {
        "colab": {
          "resources": {
            "http://localhost:8080/nbextensions/google.colab/files.js": {
              "data": "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",
              "ok": true,
              "headers": [
                [
                  "content-type",
                  "application/javascript"
                ]
              ],
              "status": 200,
              "status_text": ""
            }
          },
          "base_uri": "https://localhost:8080/",
          "height": 72
        },
        "id": "TZPH7akkV_D0",
        "outputId": "d161be0d-2ec8-44ec-d136-7dabb500a16b"
      },
      "source": [
        "#Uploading file from local drive\n",
        "from google.colab import files\n",
        "uploaded2b = files.upload()"
      ],
      "execution_count": null,
      "outputs": [
        {
          "output_type": "display_data",
          "data": {
            "text/html": [
              "\n",
              "     <input type=\"file\" id=\"files-21c68485-b725-4410-a1fe-a0eea667e705\" name=\"files[]\" multiple disabled\n",
              "        style=\"border:none\" />\n",
              "     <output id=\"result-21c68485-b725-4410-a1fe-a0eea667e705\">\n",
              "      Upload widget is only available when the cell has been executed in the\n",
              "      current browser session. Please rerun this cell to enable.\n",
              "      </output>\n",
              "      <script src=\"/nbextensions/google.colab/files.js\"></script> "
            ],
            "text/plain": [
              "<IPython.core.display.HTML object>"
            ]
          },
          "metadata": {
            "tags": []
          }
        },
        {
          "output_type": "stream",
          "text": [
            "Saving temp_city_lat_and_lon.xlsx to temp_city_lat_and_lon.xlsx\n"
          ],
          "name": "stdout"
        }
      ]
    },
    {
      "cell_type": "code",
      "metadata": {
        "id": "rfqQs0BRWHDS"
      },
      "source": [
        "#Storing dataset in a Pandas Dataframe\n",
        "import io\n",
        "df2_loc = pd.read_excel(io.BytesIO(uploaded2b['temp_city_lat_and_lon.xlsx']))"
      ],
      "execution_count": null,
      "outputs": []
    },
    {
      "cell_type": "code",
      "metadata": {
        "colab": {
          "base_uri": "https://localhost:8080/",
          "height": 111
        },
        "id": "fgevdMTljK9s",
        "outputId": "d7a102cd-8b4d-485e-d1d6-eda7dcfce27c"
      },
      "source": [
        "#Checking dataframe tail\n",
        "df2_loc.tail(2)"
      ],
      "execution_count": null,
      "outputs": [
        {
          "output_type": "execute_result",
          "data": {
            "text/html": [
              "<div>\n",
              "<style scoped>\n",
              "    .dataframe tbody tr th:only-of-type {\n",
              "        vertical-align: middle;\n",
              "    }\n",
              "\n",
              "    .dataframe tbody tr th {\n",
              "        vertical-align: top;\n",
              "    }\n",
              "\n",
              "    .dataframe thead th {\n",
              "        text-align: right;\n",
              "    }\n",
              "</style>\n",
              "<table border=\"1\" class=\"dataframe\">\n",
              "  <thead>\n",
              "    <tr style=\"text-align: right;\">\n",
              "      <th></th>\n",
              "      <th>Country</th>\n",
              "      <th>City</th>\n",
              "      <th>Decade</th>\n",
              "      <th>Latitude</th>\n",
              "      <th>Longitude</th>\n",
              "      <th>Mean_temp</th>\n",
              "    </tr>\n",
              "  </thead>\n",
              "  <tbody>\n",
              "    <tr>\n",
              "      <th>1198</th>\n",
              "      <td>Zimbabwe</td>\n",
              "      <td>Harare</td>\n",
              "      <td>2000</td>\n",
              "      <td>18.48</td>\n",
              "      <td>30.42</td>\n",
              "      <td>20.755858</td>\n",
              "    </tr>\n",
              "    <tr>\n",
              "      <th>1199</th>\n",
              "      <td>Zimbabwe</td>\n",
              "      <td>Harare</td>\n",
              "      <td>2010</td>\n",
              "      <td>18.48</td>\n",
              "      <td>30.42</td>\n",
              "      <td>20.629614</td>\n",
              "    </tr>\n",
              "  </tbody>\n",
              "</table>\n",
              "</div>"
            ],
            "text/plain": [
              "       Country    City  Decade  Latitude  Longitude  Mean_temp\n",
              "1198  Zimbabwe  Harare    2000     18.48      30.42  20.755858\n",
              "1199  Zimbabwe  Harare    2010     18.48      30.42  20.629614"
            ]
          },
          "metadata": {
            "tags": []
          },
          "execution_count": 61
        }
      ]
    },
    {
      "cell_type": "code",
      "metadata": {
        "id": "v9eIjeh8iX6e"
      },
      "source": [
        "#Creating a function to plot interactive temperatures by decade and city\n",
        "def temp_per_month(city):\n",
        "  \"\"\"Plot interactive chart of temperatures by decade for different cities\"\"\"\n",
        "  df2_month = df2_dec[df2_dec['City']==city].copy()\n",
        "  fig2_1 = px.bar(data_frame=df2_month, x='Month', y='Mean_temp', animation_frame='Decade',\n",
        "                title=f'Average Temperature °C by month in {city}', width=900, height=450)\n",
        "  fig2_1.show()"
      ],
      "execution_count": null,
      "outputs": []
    },
    {
      "cell_type": "code",
      "metadata": {
        "colab": {
          "base_uri": "https://localhost:8080/",
          "height": 499,
          "referenced_widgets": [
            "1c33b87cb2004ea8b83db8d8f6b8abc8",
            "ecfe38d89d9b4de19e1ae4f7873f81e2",
            "0871a04fe31c44e7be871545c6d0beab",
            "2548529c71b4488bb0496a30a48b33f6",
            "91f1d63ceda4417f948616f8e8a11255",
            "213531420f974dd8ab359e0148f260bf",
            "92de7fc1f130489b8dde12a6f48256be"
          ]
        },
        "id": "A-Gp6EE5nsvW",
        "outputId": "c4af5aca-b16b-4bcc-ad16-04410e07884a"
      },
      "source": [
        "#Creating a list of sorted cities\n",
        "cities_list = sorted(df2_dec['City'].unique())\n",
        "\n",
        "#Plotting the temperatures by city and month with interactive widgets\n",
        "interact(temp_per_month, city=widgets.Dropdown(options=cities_list, value=cities_list[0], description='City', disabled=False))\n",
        "plt.show()"
      ],
      "execution_count": null,
      "outputs": [
        {
          "output_type": "display_data",
          "data": {
            "application/vnd.jupyter.widget-view+json": {
              "model_id": "1c33b87cb2004ea8b83db8d8f6b8abc8",
              "version_minor": 0,
              "version_major": 2
            },
            "text/plain": [
              "interactive(children=(Dropdown(description='City', options=('Abidjan', 'Addis Abeba', 'Ahmadabad', 'Aleppo', '…"
            ]
          },
          "metadata": {
            "tags": []
          }
        }
      ]
    },
    {
      "cell_type": "code",
      "metadata": {
        "id": "5pnzr3maqpl1"
      },
      "source": [
        "#Creating a function to plot interactive temperatures by city\n",
        "def temp_per_city(city):\n",
        "  \"\"\"Plot interactive chart of temperatures for different cities\"\"\"\n",
        "  df2_city = df2_dec[df2_dec['City']==city].copy()\n",
        "  df2_city = df2_city.groupby(['Country', 'City', 'Decade'])['Mean_temp'].mean().reset_index()\n",
        "  fig2_2 = px.bar(data_frame=df2_city, x='Decade', y='Mean_temp',\n",
        "                  title=f'Average Temperature °C by decade in {city}', width=900, height=450)\n",
        "  fig2_2.show()"
      ],
      "execution_count": null,
      "outputs": []
    },
    {
      "cell_type": "code",
      "metadata": {
        "colab": {
          "base_uri": "https://localhost:8080/",
          "height": 499,
          "referenced_widgets": [
            "cfdc900a883443f2b0a226adb6b32527",
            "9a4bab5e434c4151aa4371a327bbdce1",
            "401b7158320c4c8480bfdbde31298890",
            "458533c0a11c4b1daeec533c77fd8062",
            "62fd88de1c4a43f2a9059cd7e8b43047",
            "d499de936a3347f0a3386f5c60ee5688",
            "234e459dc42948958373725ef7a6cbb6"
          ]
        },
        "id": "YKEcsr-iqIgb",
        "outputId": "b17e4b7c-c0f6-4255-c074-57af288c6115"
      },
      "source": [
        "#Creating a list of sorted cities\n",
        "cities_list = sorted(df2_dec['City'].unique())\n",
        "\n",
        "#Plotting the temperatures by city and decade with interactive widgets\n",
        "interact(temp_per_city, city=widgets.Dropdown(options=cities_list, value=cities_list[0], description='City', disabled=False))\n",
        "plt.show()"
      ],
      "execution_count": null,
      "outputs": [
        {
          "output_type": "display_data",
          "data": {
            "application/vnd.jupyter.widget-view+json": {
              "model_id": "cfdc900a883443f2b0a226adb6b32527",
              "version_minor": 0,
              "version_major": 2
            },
            "text/plain": [
              "interactive(children=(Dropdown(description='City', options=('Abidjan', 'Addis Abeba', 'Ahmadabad', 'Aleppo', '…"
            ]
          },
          "metadata": {
            "tags": []
          }
        }
      ]
    },
    {
      "cell_type": "code",
      "metadata": {
        "colab": {
          "base_uri": "https://localhost:8080/",
          "height": 467
        },
        "id": "qviuFQqdrfOZ",
        "outputId": "56811ace-0ed7-47ca-da55-d938a80c096a"
      },
      "source": [
        "#Creating a function to plot interactive temperatures by country\n",
        "def temp_per_country():\n",
        "  \"\"\"Plot interactive chart of temperatures for different countries\"\"\"\n",
        "  df2_country = df2_loc.copy()\n",
        "  df2_country = df2_country.groupby(['Country', 'Decade', 'Latitude', 'Longitude'])['Mean_temp'].mean().reset_index()\n",
        "  fig2_3 = px.choropleth(data_frame=df2_country, locations='Country', locationmode='country names', color='Mean_temp', animation_frame='Decade', \n",
        "                  title='Average Temperature °C by Country', width=900, height=450)\n",
        "  fig2_3.show()\n",
        "\n",
        "temp_per_country()"
      ],
      "execution_count": null,
      "outputs": [
        {
          "output_type": "display_data",
          "data": {
            "text/html": [
              "<html>\n",
              "<head><meta charset=\"utf-8\" /></head>\n",
              "<body>\n",
              "    <div>            <script src=\"https://cdnjs.cloudflare.com/ajax/libs/mathjax/2.7.5/MathJax.js?config=TeX-AMS-MML_SVG\"></script><script type=\"text/javascript\">if (window.MathJax) {MathJax.Hub.Config({SVG: {font: \"STIX-Web\"}});}</script>                <script type=\"text/javascript\">window.PlotlyConfig = {MathJaxConfig: 'local'};</script>\n",
              "        <script src=\"https://cdn.plot.ly/plotly-2.2.0.min.js\"></script>                <div id=\"b176cfd2-341d-444c-824d-fe8d8312465d\" class=\"plotly-graph-div\" style=\"height:450px; width:900px;\"></div>            <script type=\"text/javascript\">                                    window.PLOTLYENV=window.PLOTLYENV || {};                                    if (document.getElementById(\"b176cfd2-341d-444c-824d-fe8d8312465d\")) {                    Plotly.newPlot(                        \"b176cfd2-341d-444c-824d-fe8d8312465d\",                        [{\"coloraxis\":\"coloraxis\",\"geo\":\"geo\",\"hovertemplate\":\"Decade=1900<br>Country=%{location}<br>Mean_temp=%{z}<extra></extra>\",\"locationmode\":\"country names\",\"locations\":[\"Afghanistan\",\"Angola\",\"Australia\",\"Australia\",\"Bangladesh\",\"Brazil\",\"Brazil\",\"Brazil\",\"Brazil\",\"Brazil\",\"Brazil\",\"Burma\",\"Canada\",\"Canada\",\"Chile\",\"China\",\"China\",\"China\",\"China\",\"China\",\"China\",\"China\",\"China\",\"China\",\"China\",\"China\",\"China\",\"China\",\"China\",\"China\",\"Colombia\",\"Colombia\",\"Congo (Democratic Republic Of The)\",\"C\\u00f4te D'Ivoire\",\"Dominican Republic\",\"Egypt\",\"Egypt\",\"Ethiopia\",\"France\",\"Germany\",\"India\",\"India\",\"India\",\"India\",\"India\",\"India\",\"India\",\"India\",\"India\",\"India\",\"India\",\"India\",\"Indonesia\",\"Indonesia\",\"Iran\",\"Iraq\",\"Italy\",\"Japan\",\"Japan\",\"Kenya\",\"Mexico\",\"Morocco\",\"Nigeria\",\"Nigeria\",\"Nigeria\",\"Pakistan\",\"Pakistan\",\"Peru\",\"Philippines\",\"Russia\",\"Russia\",\"Saudi Arabia\",\"Saudi Arabia\",\"Senegal\",\"Singapore\",\"Somalia\",\"South Africa\",\"South Africa\",\"South Korea\",\"Spain\",\"Sudan\",\"Syria\",\"Taiwan\",\"Tanzania\",\"Thailand\",\"Turkey\",\"Turkey\",\"Turkey\",\"Ukraine\",\"United Kingdom\",\"United States\",\"United States\",\"United States\",\"Vietnam\",\"Zimbabwe\"],\"name\":\"\",\"type\":\"choropleth\",\"z\":[13.98769166666666,23.35217500000001,16.77755833333333,13.14145833333334,25.47812499999998,26.81047499999999,24.489525,21.56158333333332,20.83060000000001,23.52964166666667,19.36821666666668,26.73764166666668,5.590483333333335,4.256675,5.603908333333334,21.38322500000001,16.55701666666667,16.53128333333333,10.30365,15.29347499999999,15.66157499999999,11.14334166666667,12.86088333333334,7.692375000000003,11.34113333333333,11.68309166666667,10.043975,7.028708333333335,4.812550000000001,3.513008333333333,19.722725,21.49502500000001,23.50444166666668,25.72514166666667,25.7919,21.03083333333334,20.07019166666668,17.15250833333333,10.13333333333333,8.705950000000001,24.896175,28.46339999999999,26.95543333333335,26.60739999999999,24.67619999999998,26.30746666666668,25.70699999999999,26.48370833333335,26.02822499999999,25.44889166666667,24.777025,25.1749,26.20303333333332,26.53655833333334,12.24121666666667,22.48565000000001,11.65088333333333,14.315325,12.06816666666666,15.83265,15.45264999999999,16.90075833333333,26.07450833333333,25.83290833333334,25.506875,25.98230000000001,23.94006666666666,16.38018333333333,26.13770833333333,3.737650000000001,3.724983333333334,27.41630833333333,25.04798333333333,24.2168,26.23240000000001,26.75644999999999,19.952775,15.5286,10.39919166666667,11.21711666666667,28.88228333333333,17.2337,21.95800000000001,25.45336666666668,27.08411666666667,17.05741666666667,10.26279166666667,13.37133333333334,6.883691666666666,9.241008333333331,15.54989999999999,9.317291666666673,9.853758333333333,27.01504166666667,19.83927499999999]}],                        {\"coloraxis\":{\"colorbar\":{\"title\":{\"text\":\"Mean_temp\"}},\"colorscale\":[[0.0,\"#0d0887\"],[0.1111111111111111,\"#46039f\"],[0.2222222222222222,\"#7201a8\"],[0.3333333333333333,\"#9c179e\"],[0.4444444444444444,\"#bd3786\"],[0.5555555555555556,\"#d8576b\"],[0.6666666666666666,\"#ed7953\"],[0.7777777777777778,\"#fb9f3a\"],[0.8888888888888888,\"#fdca26\"],[1.0,\"#f0f921\"]]},\"geo\":{\"center\":{},\"domain\":{\"x\":[0.0,1.0],\"y\":[0.0,1.0]}},\"height\":450,\"legend\":{\"tracegroupgap\":0},\"sliders\":[{\"active\":0,\"currentvalue\":{\"prefix\":\"Decade=\"},\"len\":0.9,\"pad\":{\"b\":10,\"t\":60},\"steps\":[{\"args\":[[\"1900\"],{\"frame\":{\"duration\":0,\"redraw\":true},\"fromcurrent\":true,\"mode\":\"immediate\",\"transition\":{\"duration\":0,\"easing\":\"linear\"}}],\"label\":\"1900\",\"method\":\"animate\"},{\"args\":[[\"1910\"],{\"frame\":{\"duration\":0,\"redraw\":true},\"fromcurrent\":true,\"mode\":\"immediate\",\"transition\":{\"duration\":0,\"easing\":\"linear\"}}],\"label\":\"1910\",\"method\":\"animate\"},{\"args\":[[\"1920\"],{\"frame\":{\"duration\":0,\"redraw\":true},\"fromcurrent\":true,\"mode\":\"immediate\",\"transition\":{\"duration\":0,\"easing\":\"linear\"}}],\"label\":\"1920\",\"method\":\"animate\"},{\"args\":[[\"1930\"],{\"frame\":{\"duration\":0,\"redraw\":true},\"fromcurrent\":true,\"mode\":\"immediate\",\"transition\":{\"duration\":0,\"easing\":\"linear\"}}],\"label\":\"1930\",\"method\":\"animate\"},{\"args\":[[\"1940\"],{\"frame\":{\"duration\":0,\"redraw\":true},\"fromcurrent\":true,\"mode\":\"immediate\",\"transition\":{\"duration\":0,\"easing\":\"linear\"}}],\"label\":\"1940\",\"method\":\"animate\"},{\"args\":[[\"1950\"],{\"frame\":{\"duration\":0,\"redraw\":true},\"fromcurrent\":true,\"mode\":\"immediate\",\"transition\":{\"duration\":0,\"easing\":\"linear\"}}],\"label\":\"1950\",\"method\":\"animate\"},{\"args\":[[\"1960\"],{\"frame\":{\"duration\":0,\"redraw\":true},\"fromcurrent\":true,\"mode\":\"immediate\",\"transition\":{\"duration\":0,\"easing\":\"linear\"}}],\"label\":\"1960\",\"method\":\"animate\"},{\"args\":[[\"1970\"],{\"frame\":{\"duration\":0,\"redraw\":true},\"fromcurrent\":true,\"mode\":\"immediate\",\"transition\":{\"duration\":0,\"easing\":\"linear\"}}],\"label\":\"1970\",\"method\":\"animate\"},{\"args\":[[\"1980\"],{\"frame\":{\"duration\":0,\"redraw\":true},\"fromcurrent\":true,\"mode\":\"immediate\",\"transition\":{\"duration\":0,\"easing\":\"linear\"}}],\"label\":\"1980\",\"method\":\"animate\"},{\"args\":[[\"1990\"],{\"frame\":{\"duration\":0,\"redraw\":true},\"fromcurrent\":true,\"mode\":\"immediate\",\"transition\":{\"duration\":0,\"easing\":\"linear\"}}],\"label\":\"1990\",\"method\":\"animate\"},{\"args\":[[\"2000\"],{\"frame\":{\"duration\":0,\"redraw\":true},\"fromcurrent\":true,\"mode\":\"immediate\",\"transition\":{\"duration\":0,\"easing\":\"linear\"}}],\"label\":\"2000\",\"method\":\"animate\"},{\"args\":[[\"2010\"],{\"frame\":{\"duration\":0,\"redraw\":true},\"fromcurrent\":true,\"mode\":\"immediate\",\"transition\":{\"duration\":0,\"easing\":\"linear\"}}],\"label\":\"2010\",\"method\":\"animate\"}],\"x\":0.1,\"xanchor\":\"left\",\"y\":0,\"yanchor\":\"top\"}],\"template\":{\"data\":{\"bar\":[{\"error_x\":{\"color\":\"#2a3f5f\"},\"error_y\":{\"color\":\"#2a3f5f\"},\"marker\":{\"line\":{\"color\":\"#E5ECF6\",\"width\":0.5},\"pattern\":{\"fillmode\":\"overlay\",\"size\":10,\"solidity\":0.2}},\"type\":\"bar\"}],\"barpolar\":[{\"marker\":{\"line\":{\"color\":\"#E5ECF6\",\"width\":0.5},\"pattern\":{\"fillmode\":\"overlay\",\"size\":10,\"solidity\":0.2}},\"type\":\"barpolar\"}],\"carpet\":[{\"aaxis\":{\"endlinecolor\":\"#2a3f5f\",\"gridcolor\":\"white\",\"linecolor\":\"white\",\"minorgridcolor\":\"white\",\"startlinecolor\":\"#2a3f5f\"},\"baxis\":{\"endlinecolor\":\"#2a3f5f\",\"gridcolor\":\"white\",\"linecolor\":\"white\",\"minorgridcolor\":\"white\",\"startlinecolor\":\"#2a3f5f\"},\"type\":\"carpet\"}],\"choropleth\":[{\"colorbar\":{\"outlinewidth\":0,\"ticks\":\"\"},\"type\":\"choropleth\"}],\"contour\":[{\"colorbar\":{\"outlinewidth\":0,\"ticks\":\"\"},\"colorscale\":[[0.0,\"#0d0887\"],[0.1111111111111111,\"#46039f\"],[0.2222222222222222,\"#7201a8\"],[0.3333333333333333,\"#9c179e\"],[0.4444444444444444,\"#bd3786\"],[0.5555555555555556,\"#d8576b\"],[0.6666666666666666,\"#ed7953\"],[0.7777777777777778,\"#fb9f3a\"],[0.8888888888888888,\"#fdca26\"],[1.0,\"#f0f921\"]],\"type\":\"contour\"}],\"contourcarpet\":[{\"colorbar\":{\"outlinewidth\":0,\"ticks\":\"\"},\"type\":\"contourcarpet\"}],\"heatmap\":[{\"colorbar\":{\"outlinewidth\":0,\"ticks\":\"\"},\"colorscale\":[[0.0,\"#0d0887\"],[0.1111111111111111,\"#46039f\"],[0.2222222222222222,\"#7201a8\"],[0.3333333333333333,\"#9c179e\"],[0.4444444444444444,\"#bd3786\"],[0.5555555555555556,\"#d8576b\"],[0.6666666666666666,\"#ed7953\"],[0.7777777777777778,\"#fb9f3a\"],[0.8888888888888888,\"#fdca26\"],[1.0,\"#f0f921\"]],\"type\":\"heatmap\"}],\"heatmapgl\":[{\"colorbar\":{\"outlinewidth\":0,\"ticks\":\"\"},\"colorscale\":[[0.0,\"#0d0887\"],[0.1111111111111111,\"#46039f\"],[0.2222222222222222,\"#7201a8\"],[0.3333333333333333,\"#9c179e\"],[0.4444444444444444,\"#bd3786\"],[0.5555555555555556,\"#d8576b\"],[0.6666666666666666,\"#ed7953\"],[0.7777777777777778,\"#fb9f3a\"],[0.8888888888888888,\"#fdca26\"],[1.0,\"#f0f921\"]],\"type\":\"heatmapgl\"}],\"histogram\":[{\"marker\":{\"pattern\":{\"fillmode\":\"overlay\",\"size\":10,\"solidity\":0.2}},\"type\":\"histogram\"}],\"histogram2d\":[{\"colorbar\":{\"outlinewidth\":0,\"ticks\":\"\"},\"colorscale\":[[0.0,\"#0d0887\"],[0.1111111111111111,\"#46039f\"],[0.2222222222222222,\"#7201a8\"],[0.3333333333333333,\"#9c179e\"],[0.4444444444444444,\"#bd3786\"],[0.5555555555555556,\"#d8576b\"],[0.6666666666666666,\"#ed7953\"],[0.7777777777777778,\"#fb9f3a\"],[0.8888888888888888,\"#fdca26\"],[1.0,\"#f0f921\"]],\"type\":\"histogram2d\"}],\"histogram2dcontour\":[{\"colorbar\":{\"outlinewidth\":0,\"ticks\":\"\"},\"colorscale\":[[0.0,\"#0d0887\"],[0.1111111111111111,\"#46039f\"],[0.2222222222222222,\"#7201a8\"],[0.3333333333333333,\"#9c179e\"],[0.4444444444444444,\"#bd3786\"],[0.5555555555555556,\"#d8576b\"],[0.6666666666666666,\"#ed7953\"],[0.7777777777777778,\"#fb9f3a\"],[0.8888888888888888,\"#fdca26\"],[1.0,\"#f0f921\"]],\"type\":\"histogram2dcontour\"}],\"mesh3d\":[{\"colorbar\":{\"outlinewidth\":0,\"ticks\":\"\"},\"type\":\"mesh3d\"}],\"parcoords\":[{\"line\":{\"colorbar\":{\"outlinewidth\":0,\"ticks\":\"\"}},\"type\":\"parcoords\"}],\"pie\":[{\"automargin\":true,\"type\":\"pie\"}],\"scatter\":[{\"marker\":{\"colorbar\":{\"outlinewidth\":0,\"ticks\":\"\"}},\"type\":\"scatter\"}],\"scatter3d\":[{\"line\":{\"colorbar\":{\"outlinewidth\":0,\"ticks\":\"\"}},\"marker\":{\"colorbar\":{\"outlinewidth\":0,\"ticks\":\"\"}},\"type\":\"scatter3d\"}],\"scattercarpet\":[{\"marker\":{\"colorbar\":{\"outlinewidth\":0,\"ticks\":\"\"}},\"type\":\"scattercarpet\"}],\"scattergeo\":[{\"marker\":{\"colorbar\":{\"outlinewidth\":0,\"ticks\":\"\"}},\"type\":\"scattergeo\"}],\"scattergl\":[{\"marker\":{\"colorbar\":{\"outlinewidth\":0,\"ticks\":\"\"}},\"type\":\"scattergl\"}],\"scattermapbox\":[{\"marker\":{\"colorbar\":{\"outlinewidth\":0,\"ticks\":\"\"}},\"type\":\"scattermapbox\"}],\"scatterpolar\":[{\"marker\":{\"colorbar\":{\"outlinewidth\":0,\"ticks\":\"\"}},\"type\":\"scatterpolar\"}],\"scatterpolargl\":[{\"marker\":{\"colorbar\":{\"outlinewidth\":0,\"ticks\":\"\"}},\"type\":\"scatterpolargl\"}],\"scatterternary\":[{\"marker\":{\"colorbar\":{\"outlinewidth\":0,\"ticks\":\"\"}},\"type\":\"scatterternary\"}],\"surface\":[{\"colorbar\":{\"outlinewidth\":0,\"ticks\":\"\"},\"colorscale\":[[0.0,\"#0d0887\"],[0.1111111111111111,\"#46039f\"],[0.2222222222222222,\"#7201a8\"],[0.3333333333333333,\"#9c179e\"],[0.4444444444444444,\"#bd3786\"],[0.5555555555555556,\"#d8576b\"],[0.6666666666666666,\"#ed7953\"],[0.7777777777777778,\"#fb9f3a\"],[0.8888888888888888,\"#fdca26\"],[1.0,\"#f0f921\"]],\"type\":\"surface\"}],\"table\":[{\"cells\":{\"fill\":{\"color\":\"#EBF0F8\"},\"line\":{\"color\":\"white\"}},\"header\":{\"fill\":{\"color\":\"#C8D4E3\"},\"line\":{\"color\":\"white\"}},\"type\":\"table\"}]},\"layout\":{\"annotationdefaults\":{\"arrowcolor\":\"#2a3f5f\",\"arrowhead\":0,\"arrowwidth\":1},\"autotypenumbers\":\"strict\",\"coloraxis\":{\"colorbar\":{\"outlinewidth\":0,\"ticks\":\"\"}},\"colorscale\":{\"diverging\":[[0,\"#8e0152\"],[0.1,\"#c51b7d\"],[0.2,\"#de77ae\"],[0.3,\"#f1b6da\"],[0.4,\"#fde0ef\"],[0.5,\"#f7f7f7\"],[0.6,\"#e6f5d0\"],[0.7,\"#b8e186\"],[0.8,\"#7fbc41\"],[0.9,\"#4d9221\"],[1,\"#276419\"]],\"sequential\":[[0.0,\"#0d0887\"],[0.1111111111111111,\"#46039f\"],[0.2222222222222222,\"#7201a8\"],[0.3333333333333333,\"#9c179e\"],[0.4444444444444444,\"#bd3786\"],[0.5555555555555556,\"#d8576b\"],[0.6666666666666666,\"#ed7953\"],[0.7777777777777778,\"#fb9f3a\"],[0.8888888888888888,\"#fdca26\"],[1.0,\"#f0f921\"]],\"sequentialminus\":[[0.0,\"#0d0887\"],[0.1111111111111111,\"#46039f\"],[0.2222222222222222,\"#7201a8\"],[0.3333333333333333,\"#9c179e\"],[0.4444444444444444,\"#bd3786\"],[0.5555555555555556,\"#d8576b\"],[0.6666666666666666,\"#ed7953\"],[0.7777777777777778,\"#fb9f3a\"],[0.8888888888888888,\"#fdca26\"],[1.0,\"#f0f921\"]]},\"colorway\":[\"#636efa\",\"#EF553B\",\"#00cc96\",\"#ab63fa\",\"#FFA15A\",\"#19d3f3\",\"#FF6692\",\"#B6E880\",\"#FF97FF\",\"#FECB52\"],\"font\":{\"color\":\"#2a3f5f\"},\"geo\":{\"bgcolor\":\"white\",\"lakecolor\":\"white\",\"landcolor\":\"#E5ECF6\",\"showlakes\":true,\"showland\":true,\"subunitcolor\":\"white\"},\"hoverlabel\":{\"align\":\"left\"},\"hovermode\":\"closest\",\"mapbox\":{\"style\":\"light\"},\"paper_bgcolor\":\"white\",\"plot_bgcolor\":\"#E5ECF6\",\"polar\":{\"angularaxis\":{\"gridcolor\":\"white\",\"linecolor\":\"white\",\"ticks\":\"\"},\"bgcolor\":\"#E5ECF6\",\"radialaxis\":{\"gridcolor\":\"white\",\"linecolor\":\"white\",\"ticks\":\"\"}},\"scene\":{\"xaxis\":{\"backgroundcolor\":\"#E5ECF6\",\"gridcolor\":\"white\",\"gridwidth\":2,\"linecolor\":\"white\",\"showbackground\":true,\"ticks\":\"\",\"zerolinecolor\":\"white\"},\"yaxis\":{\"backgroundcolor\":\"#E5ECF6\",\"gridcolor\":\"white\",\"gridwidth\":2,\"linecolor\":\"white\",\"showbackground\":true,\"ticks\":\"\",\"zerolinecolor\":\"white\"},\"zaxis\":{\"backgroundcolor\":\"#E5ECF6\",\"gridcolor\":\"white\",\"gridwidth\":2,\"linecolor\":\"white\",\"showbackground\":true,\"ticks\":\"\",\"zerolinecolor\":\"white\"}},\"shapedefaults\":{\"line\":{\"color\":\"#2a3f5f\"}},\"ternary\":{\"aaxis\":{\"gridcolor\":\"white\",\"linecolor\":\"white\",\"ticks\":\"\"},\"baxis\":{\"gridcolor\":\"white\",\"linecolor\":\"white\",\"ticks\":\"\"},\"bgcolor\":\"#E5ECF6\",\"caxis\":{\"gridcolor\":\"white\",\"linecolor\":\"white\",\"ticks\":\"\"}},\"title\":{\"x\":0.05},\"xaxis\":{\"automargin\":true,\"gridcolor\":\"white\",\"linecolor\":\"white\",\"ticks\":\"\",\"title\":{\"standoff\":15},\"zerolinecolor\":\"white\",\"zerolinewidth\":2},\"yaxis\":{\"automargin\":true,\"gridcolor\":\"white\",\"linecolor\":\"white\",\"ticks\":\"\",\"title\":{\"standoff\":15},\"zerolinecolor\":\"white\",\"zerolinewidth\":2}}},\"title\":{\"text\":\"Average Temperature \\u00b0C by Country\"},\"updatemenus\":[{\"buttons\":[{\"args\":[null,{\"frame\":{\"duration\":500,\"redraw\":true},\"fromcurrent\":true,\"mode\":\"immediate\",\"transition\":{\"duration\":500,\"easing\":\"linear\"}}],\"label\":\"&#9654;\",\"method\":\"animate\"},{\"args\":[[null],{\"frame\":{\"duration\":0,\"redraw\":true},\"fromcurrent\":true,\"mode\":\"immediate\",\"transition\":{\"duration\":0,\"easing\":\"linear\"}}],\"label\":\"&#9724;\",\"method\":\"animate\"}],\"direction\":\"left\",\"pad\":{\"r\":10,\"t\":70},\"showactive\":false,\"type\":\"buttons\",\"x\":0.1,\"xanchor\":\"right\",\"y\":0,\"yanchor\":\"top\"}],\"width\":900},                        {\"responsive\": true}                    ).then(function(){\n",
              "                            Plotly.addFrames('b176cfd2-341d-444c-824d-fe8d8312465d', [{\"data\":[{\"coloraxis\":\"coloraxis\",\"geo\":\"geo\",\"hovertemplate\":\"Decade=1900<br>Country=%{location}<br>Mean_temp=%{z}<extra></extra>\",\"locationmode\":\"country names\",\"locations\":[\"Afghanistan\",\"Angola\",\"Australia\",\"Australia\",\"Bangladesh\",\"Brazil\",\"Brazil\",\"Brazil\",\"Brazil\",\"Brazil\",\"Brazil\",\"Burma\",\"Canada\",\"Canada\",\"Chile\",\"China\",\"China\",\"China\",\"China\",\"China\",\"China\",\"China\",\"China\",\"China\",\"China\",\"China\",\"China\",\"China\",\"China\",\"China\",\"Colombia\",\"Colombia\",\"Congo (Democratic Republic Of The)\",\"C\\u00f4te D'Ivoire\",\"Dominican Republic\",\"Egypt\",\"Egypt\",\"Ethiopia\",\"France\",\"Germany\",\"India\",\"India\",\"India\",\"India\",\"India\",\"India\",\"India\",\"India\",\"India\",\"India\",\"India\",\"India\",\"Indonesia\",\"Indonesia\",\"Iran\",\"Iraq\",\"Italy\",\"Japan\",\"Japan\",\"Kenya\",\"Mexico\",\"Morocco\",\"Nigeria\",\"Nigeria\",\"Nigeria\",\"Pakistan\",\"Pakistan\",\"Peru\",\"Philippines\",\"Russia\",\"Russia\",\"Saudi Arabia\",\"Saudi Arabia\",\"Senegal\",\"Singapore\",\"Somalia\",\"South Africa\",\"South Africa\",\"South Korea\",\"Spain\",\"Sudan\",\"Syria\",\"Taiwan\",\"Tanzania\",\"Thailand\",\"Turkey\",\"Turkey\",\"Turkey\",\"Ukraine\",\"United Kingdom\",\"United States\",\"United States\",\"United States\",\"Vietnam\",\"Zimbabwe\"],\"name\":\"\",\"type\":\"choropleth\",\"z\":[13.98769166666666,23.35217500000001,16.77755833333333,13.14145833333334,25.47812499999998,26.81047499999999,24.489525,21.56158333333332,20.83060000000001,23.52964166666667,19.36821666666668,26.73764166666668,5.590483333333335,4.256675,5.603908333333334,21.38322500000001,16.55701666666667,16.53128333333333,10.30365,15.29347499999999,15.66157499999999,11.14334166666667,12.86088333333334,7.692375000000003,11.34113333333333,11.68309166666667,10.043975,7.028708333333335,4.812550000000001,3.513008333333333,19.722725,21.49502500000001,23.50444166666668,25.72514166666667,25.7919,21.03083333333334,20.07019166666668,17.15250833333333,10.13333333333333,8.705950000000001,24.896175,28.46339999999999,26.95543333333335,26.60739999999999,24.67619999999998,26.30746666666668,25.70699999999999,26.48370833333335,26.02822499999999,25.44889166666667,24.777025,25.1749,26.20303333333332,26.53655833333334,12.24121666666667,22.48565000000001,11.65088333333333,14.315325,12.06816666666666,15.83265,15.45264999999999,16.90075833333333,26.07450833333333,25.83290833333334,25.506875,25.98230000000001,23.94006666666666,16.38018333333333,26.13770833333333,3.737650000000001,3.724983333333334,27.41630833333333,25.04798333333333,24.2168,26.23240000000001,26.75644999999999,19.952775,15.5286,10.39919166666667,11.21711666666667,28.88228333333333,17.2337,21.95800000000001,25.45336666666668,27.08411666666667,17.05741666666667,10.26279166666667,13.37133333333334,6.883691666666666,9.241008333333331,15.54989999999999,9.317291666666673,9.853758333333333,27.01504166666667,19.83927499999999]}],\"name\":\"1900\"},{\"data\":[{\"coloraxis\":\"coloraxis\",\"geo\":\"geo\",\"hovertemplate\":\"Decade=1910<br>Country=%{location}<br>Mean_temp=%{z}<extra></extra>\",\"locationmode\":\"country names\",\"locations\":[\"Afghanistan\",\"Angola\",\"Australia\",\"Australia\",\"Bangladesh\",\"Brazil\",\"Brazil\",\"Brazil\",\"Brazil\",\"Brazil\",\"Brazil\",\"Burma\",\"Canada\",\"Canada\",\"Chile\",\"China\",\"China\",\"China\",\"China\",\"China\",\"China\",\"China\",\"China\",\"China\",\"China\",\"China\",\"China\",\"China\",\"China\",\"China\",\"Colombia\",\"Colombia\",\"Congo (Democratic Republic Of The)\",\"C\\u00f4te D'Ivoire\",\"Dominican Republic\",\"Egypt\",\"Egypt\",\"Ethiopia\",\"France\",\"Germany\",\"India\",\"India\",\"India\",\"India\",\"India\",\"India\",\"India\",\"India\",\"India\",\"India\",\"India\",\"India\",\"Indonesia\",\"Indonesia\",\"Iran\",\"Iraq\",\"Italy\",\"Japan\",\"Japan\",\"Kenya\",\"Mexico\",\"Morocco\",\"Nigeria\",\"Nigeria\",\"Nigeria\",\"Pakistan\",\"Pakistan\",\"Peru\",\"Philippines\",\"Russia\",\"Russia\",\"Saudi Arabia\",\"Saudi Arabia\",\"Senegal\",\"Singapore\",\"Somalia\",\"South Africa\",\"South Africa\",\"South Korea\",\"Spain\",\"Sudan\",\"Syria\",\"Taiwan\",\"Tanzania\",\"Thailand\",\"Turkey\",\"Turkey\",\"Turkey\",\"Ukraine\",\"United Kingdom\",\"United States\",\"United States\",\"United States\",\"Vietnam\",\"Zimbabwe\"],\"name\":\"\",\"type\":\"choropleth\",\"z\":[14.14713333333333,23.41995833333334,17.0873,13.34665833333333,25.35460000000002,26.675175,24.40678333333333,21.53800833333333,20.84605,23.53416666666667,19.47946666666666,26.60953333333333,5.718583333333336,4.436124999999999,5.585066666666664,21.42201666666666,16.56391666666666,16.49540833333334,10.37369166666667,15.26396666666666,15.66491666666667,11.05996666666667,12.5981,7.458783333333334,11.06045,11.25281666666666,9.663325000000002,6.626241666666669,4.293391666666668,2.993275000000001,19.69930833333335,21.49479166666667,23.65593333333334,26.11545833333333,25.70675833333333,21.08682499999999,20.15212499999999,17.31465833333334,10.331825,9.029191666666666,24.84279166666666,28.38831666666666,26.797325,26.60942499999999,24.61646666666666,26.281425,25.530825,26.45403333333332,25.88660833333335,25.32569999999999,24.57046666666667,25.02395833333333,26.24955833333332,26.46769166666668,12.46395833333333,22.366,11.67549166666667,14.59799166666667,12.46178333333333,15.86576666666666,15.45966666666667,16.82774166666666,26.4907,26.2404,26.09190833333334,25.81815,23.88524166666667,16.45600833333334,26.32285833333332,3.905916666666665,3.878974999999998,27.33720833333332,24.88274166666667,24.43000000000001,26.32299166666666,26.94848333333334,20.00545,15.92235833333333,10.25328333333334,11.0767,28.78685,17.21423333333332,21.992875,25.41883333333335,27.08504166666668,17.257,10.37101666666666,13.56930833333334,6.961599999999999,9.41454166666667,15.30615,9.524083333333333,9.961716666666668,27.04743333333335,20.01863333333334]}],\"name\":\"1910\"},{\"data\":[{\"coloraxis\":\"coloraxis\",\"geo\":\"geo\",\"hovertemplate\":\"Decade=1920<br>Country=%{location}<br>Mean_temp=%{z}<extra></extra>\",\"locationmode\":\"country names\",\"locations\":[\"Afghanistan\",\"Angola\",\"Australia\",\"Australia\",\"Bangladesh\",\"Brazil\",\"Brazil\",\"Brazil\",\"Brazil\",\"Brazil\",\"Brazil\",\"Burma\",\"Canada\",\"Canada\",\"Chile\",\"China\",\"China\",\"China\",\"China\",\"China\",\"China\",\"China\",\"China\",\"China\",\"China\",\"China\",\"China\",\"China\",\"China\",\"China\",\"Colombia\",\"Colombia\",\"Congo (Democratic Republic Of The)\",\"C\\u00f4te D'Ivoire\",\"Dominican Republic\",\"Egypt\",\"Egypt\",\"Ethiopia\",\"France\",\"Germany\",\"India\",\"India\",\"India\",\"India\",\"India\",\"India\",\"India\",\"India\",\"India\",\"India\",\"India\",\"India\",\"Indonesia\",\"Indonesia\",\"Iran\",\"Iraq\",\"Italy\",\"Japan\",\"Japan\",\"Kenya\",\"Mexico\",\"Morocco\",\"Nigeria\",\"Nigeria\",\"Nigeria\",\"Pakistan\",\"Pakistan\",\"Peru\",\"Philippines\",\"Russia\",\"Russia\",\"Saudi Arabia\",\"Saudi Arabia\",\"Senegal\",\"Singapore\",\"Somalia\",\"South Africa\",\"South Africa\",\"South Korea\",\"Spain\",\"Sudan\",\"Syria\",\"Taiwan\",\"Tanzania\",\"Thailand\",\"Turkey\",\"Turkey\",\"Turkey\",\"Ukraine\",\"United Kingdom\",\"United States\",\"United States\",\"United States\",\"Vietnam\",\"Zimbabwe\"],\"name\":\"\",\"type\":\"choropleth\",\"z\":[14.03643333333333,23.68805833333334,16.916775,13.20225833333333,25.55901666666666,26.65541666666667,24.589475,21.59038333333332,20.95938333333334,23.69338333333334,19.61363333333334,26.81301666666667,5.724208333333335,4.532566666666669,5.537591666666667,21.64879166666666,17.12380833333334,16.98802500000001,10.85999166666666,15.59955,15.90195,11.68643333333333,13.07907499999999,8.082625,11.661,11.82884166666667,10.04409166666667,7.078900000000001,4.793483333333332,3.448441666666667,19.83561666666666,21.66235833333335,23.84109166666667,26.28066666666667,25.86763333333334,21.29834166666666,20.48889166666669,17.25522500000001,10.47339166666667,8.831641666666664,24.91558333333333,28.53164166666668,27.04239166666667,26.73132499999999,24.71999166666668,26.429825,25.76390833333332,26.58598333333334,26.14143333333333,25.38494166666667,24.86434999999999,25.18610833333334,26.30205000000001,26.6083,12.27985833333334,22.50758333333334,12.20039166666666,14.543125,12.36413333333333,15.81365833333333,15.87865833333333,17.22278333333333,26.75316666666667,26.54140833333334,26.19615,25.94482500000001,23.95931666666667,16.48815833333333,26.28916666666667,3.915991666666668,4.036233333333334,27.67194166666668,25.21469999999999,24.65901666666668,26.39009999999999,26.86790833333335,20.27168333333334,16.088475,10.51150833333333,11.54973333333333,28.92618333333333,17.41778333333333,21.89649999999999,25.49701666666667,27.07605,17.48879166666666,10.51810000000001,13.62331666666667,6.91280833333333,9.476550000000001,15.70296666666666,9.625741666666665,10.10045,27.010425,20.15838333333335]}],\"name\":\"1920\"},{\"data\":[{\"coloraxis\":\"coloraxis\",\"geo\":\"geo\",\"hovertemplate\":\"Decade=1930<br>Country=%{location}<br>Mean_temp=%{z}<extra></extra>\",\"locationmode\":\"country names\",\"locations\":[\"Afghanistan\",\"Angola\",\"Australia\",\"Australia\",\"Bangladesh\",\"Brazil\",\"Brazil\",\"Brazil\",\"Brazil\",\"Brazil\",\"Brazil\",\"Burma\",\"Canada\",\"Canada\",\"Chile\",\"China\",\"China\",\"China\",\"China\",\"China\",\"China\",\"China\",\"China\",\"China\",\"China\",\"China\",\"China\",\"China\",\"China\",\"China\",\"Colombia\",\"Colombia\",\"Congo (Democratic Republic Of The)\",\"C\\u00f4te D'Ivoire\",\"Dominican Republic\",\"Egypt\",\"Egypt\",\"Ethiopia\",\"France\",\"Germany\",\"India\",\"India\",\"India\",\"India\",\"India\",\"India\",\"India\",\"India\",\"India\",\"India\",\"India\",\"India\",\"Indonesia\",\"Indonesia\",\"Iran\",\"Iraq\",\"Italy\",\"Japan\",\"Japan\",\"Kenya\",\"Mexico\",\"Morocco\",\"Nigeria\",\"Nigeria\",\"Nigeria\",\"Pakistan\",\"Pakistan\",\"Peru\",\"Philippines\",\"Russia\",\"Russia\",\"Saudi Arabia\",\"Saudi Arabia\",\"Senegal\",\"Singapore\",\"Somalia\",\"South Africa\",\"South Africa\",\"South Korea\",\"Spain\",\"Sudan\",\"Syria\",\"Taiwan\",\"Tanzania\",\"Thailand\",\"Turkey\",\"Turkey\",\"Turkey\",\"Ukraine\",\"United Kingdom\",\"United States\",\"United States\",\"United States\",\"Vietnam\",\"Zimbabwe\"],\"name\":\"\",\"type\":\"choropleth\",\"z\":[14.08068333333334,23.74435,16.9595,13.276625,25.61604166666667,27.06409166666667,24.74729166666667,21.94636666666667,21.17196666666667,23.80075,19.74435,26.89372499999998,6.322233333333333,4.920600000000001,5.677475,21.61674166666666,17.17180833333333,16.88819166666666,10.96436666666667,15.6019,15.965675,11.714,13.04194999999999,8.059900000000003,11.61235,11.77988333333333,10.19033333333334,7.257883333333334,4.908399999999999,3.620408333333332,19.96795833333333,21.73441666666668,23.97900833333335,26.250425,25.95943333333334,21.57445833333333,20.63030000000001,17.52358333333334,10.59636666666667,9.32236666666667,24.88205000000001,28.43116666666667,26.83308333333332,26.58406666666667,24.5136,26.29057500000001,25.61968333333332,26.48415833333333,26.15354166666666,25.32779999999999,24.71244166666667,25.07510833333333,26.49951666666666,26.82367499999999,12.10319166666667,22.619175,12.12851666666666,14.65835,12.48898333333334,16.0833,15.77830000000001,17.04854166666667,26.76868333333333,26.58516666666667,26.437575,25.90789166666666,24.02843333333334,16.71880833333333,26.31174166666668,4.652916666666668,4.959466666666668,27.70381666666666,25.14780000000001,24.48422500000001,26.58372499999999,27.08403333333335,20.26059166666668,16.248425,10.74708333333333,11.46658333333334,29.18256666666666,17.67900000000001,22.20445833333333,25.60091666666667,27.29058333333333,17.65384166666668,10.78535,13.97010833333333,7.468491666666668,9.744008333333332,16.03898333333334,10.120975,10.83483333333333,27.30149999999999,19.97461666666665]}],\"name\":\"1930\"},{\"data\":[{\"coloraxis\":\"coloraxis\",\"geo\":\"geo\",\"hovertemplate\":\"Decade=1940<br>Country=%{location}<br>Mean_temp=%{z}<extra></extra>\",\"locationmode\":\"country names\",\"locations\":[\"Afghanistan\",\"Angola\",\"Australia\",\"Australia\",\"Bangladesh\",\"Brazil\",\"Brazil\",\"Brazil\",\"Brazil\",\"Brazil\",\"Brazil\",\"Burma\",\"Canada\",\"Canada\",\"Chile\",\"China\",\"China\",\"China\",\"China\",\"China\",\"China\",\"China\",\"China\",\"China\",\"China\",\"China\",\"China\",\"China\",\"China\",\"China\",\"Colombia\",\"Colombia\",\"Congo (Democratic Republic Of The)\",\"C\\u00f4te D'Ivoire\",\"Dominican Republic\",\"Egypt\",\"Egypt\",\"Ethiopia\",\"France\",\"Germany\",\"India\",\"India\",\"India\",\"India\",\"India\",\"India\",\"India\",\"India\",\"India\",\"India\",\"India\",\"India\",\"Indonesia\",\"Indonesia\",\"Iran\",\"Iraq\",\"Italy\",\"Japan\",\"Japan\",\"Kenya\",\"Mexico\",\"Morocco\",\"Nigeria\",\"Nigeria\",\"Nigeria\",\"Pakistan\",\"Pakistan\",\"Peru\",\"Philippines\",\"Russia\",\"Russia\",\"Saudi Arabia\",\"Saudi Arabia\",\"Senegal\",\"Singapore\",\"Somalia\",\"South Africa\",\"South Africa\",\"South Korea\",\"Spain\",\"Sudan\",\"Syria\",\"Taiwan\",\"Tanzania\",\"Thailand\",\"Turkey\",\"Turkey\",\"Turkey\",\"Ukraine\",\"United Kingdom\",\"United States\",\"United States\",\"United States\",\"Vietnam\",\"Zimbabwe\"],\"name\":\"\",\"type\":\"choropleth\",\"z\":[14.722225,23.880575,16.89481666666667,13.02805,25.67995833333334,26.93995833333333,24.68379166666667,21.75901666666666,21.09779166666667,23.87986666666668,19.75914999999999,26.97766666666667,6.2353,5.028133333333333,5.796233333333332,22.12620833333333,17.464,17.28736666666666,11.32210833333334,15.95687499999999,16.25303333333333,12.03006666666667,13.452775,8.449874999999999,12.034525,12.22004166666666,10.36485833333333,7.305600000000001,5.089791666666668,3.821933333333334,20.27899166666667,22.06854999999999,24.19537500000002,26.41312499999999,26.17610833333332,21.37763333333333,20.48316666666667,17.65719166666667,10.67165,8.898583333333333,25.0487,28.53375833333335,26.983225,26.84762499999997,24.82238333333334,26.53153333333333,25.79710833333333,26.73255,26.24806666666668,25.62096666666667,24.95183333333333,25.40254166666667,26.73079166666666,26.93935000000001,12.85431666666667,22.68715000000001,12.18065833333333,14.70803333333333,12.497825,16.15219999999999,16.27285,17.58735,26.90812499999999,26.71364166666668,26.41148333333333,26.21725833333333,24.47389166666667,16.90638333333333,26.52394166666667,3.716724999999999,3.872000000000001,27.70063333333334,25.33839166666667,24.67714166666667,26.81500833333335,27.28004166666666,20.580875,16.22491666666667,10.66216666666667,11.8583,29.09080833333332,17.517525,22.35759999999999,25.76144166666667,27.49779166666666,17.41019999999999,10.46011666666667,13.43672500000001,6.700433333333336,9.756975000000002,15.68725000000001,9.996025000000005,10.521025,27.42966666666667,20.35556666666667]}],\"name\":\"1940\"},{\"data\":[{\"coloraxis\":\"coloraxis\",\"geo\":\"geo\",\"hovertemplate\":\"Decade=1950<br>Country=%{location}<br>Mean_temp=%{z}<extra></extra>\",\"locationmode\":\"country names\",\"locations\":[\"Afghanistan\",\"Angola\",\"Australia\",\"Australia\",\"Bangladesh\",\"Brazil\",\"Brazil\",\"Brazil\",\"Brazil\",\"Brazil\",\"Brazil\",\"Burma\",\"Canada\",\"Canada\",\"Chile\",\"China\",\"China\",\"China\",\"China\",\"China\",\"China\",\"China\",\"China\",\"China\",\"China\",\"China\",\"China\",\"China\",\"China\",\"China\",\"Colombia\",\"Colombia\",\"Congo (Democratic Republic Of The)\",\"C\\u00f4te D'Ivoire\",\"Dominican Republic\",\"Egypt\",\"Egypt\",\"Ethiopia\",\"France\",\"Germany\",\"India\",\"India\",\"India\",\"India\",\"India\",\"India\",\"India\",\"India\",\"India\",\"India\",\"India\",\"India\",\"Indonesia\",\"Indonesia\",\"Iran\",\"Iraq\",\"Italy\",\"Japan\",\"Japan\",\"Kenya\",\"Mexico\",\"Morocco\",\"Nigeria\",\"Nigeria\",\"Nigeria\",\"Pakistan\",\"Pakistan\",\"Peru\",\"Philippines\",\"Russia\",\"Russia\",\"Saudi Arabia\",\"Saudi Arabia\",\"Senegal\",\"Singapore\",\"Somalia\",\"South Africa\",\"South Africa\",\"South Korea\",\"Spain\",\"Sudan\",\"Syria\",\"Taiwan\",\"Tanzania\",\"Thailand\",\"Turkey\",\"Turkey\",\"Turkey\",\"Ukraine\",\"United Kingdom\",\"United States\",\"United States\",\"United States\",\"Vietnam\",\"Zimbabwe\"],\"name\":\"\",\"type\":\"choropleth\",\"z\":[14.39504166666667,23.67241666666667,16.96999166666667,13.26663333333334,25.89989166666667,27.10218333333334,24.83386666666666,21.82656666666668,21.21715833333334,23.97841666666667,19.85425833333334,27.06645833333333,6.383491666666666,5.223308333333333,5.656191666666667,21.92317500000001,17.01165833333333,16.902925,10.81465833333333,15.72944166666667,16.14460833333332,11.55093333333333,13.14556666666667,7.976174999999999,11.55925,11.76374166666667,10.280925,7.278024999999998,4.991533333333331,3.679808333333334,20.15040833333332,21.93935833333333,23.92570833333334,26.18278333333334,26.16868333333334,21.5787,20.60547499999999,17.52960833333334,10.62404166666666,9.057075000000001,25.02455,28.62696666666666,27.14974999999998,26.81406666666667,24.87982499999999,26.59525,26.04471666666666,26.75852500000001,26.50380000000001,25.64735,25.07100000000001,25.4746,26.73620833333335,27.09442499999999,12.42088333333334,22.64784999999999,12.257025,15.1702,12.913075,16.09149166666667,16.01404166666667,17.31185833333334,26.58538333333333,26.38843333333333,26.00078333333334,26.21190833333334,24.21425833333333,16.803025,26.833175,3.991050000000002,4.048700000000001,27.99359999999998,25.29271666666666,24.49323333333332,26.77231666666666,27.22746666666665,20.32750833333333,15.95790833333334,10.88733333333333,11.55585,29.08613333333333,17.6369,22.58761666666667,25.77370833333334,27.440275,17.61404166666667,10.68336666666667,13.823625,7.137174999999999,9.674158333333336,15.95925833333333,10.25861666666667,10.50089166666666,27.44978333333334,20.26621666666666]}],\"name\":\"1950\"},{\"data\":[{\"coloraxis\":\"coloraxis\",\"geo\":\"geo\",\"hovertemplate\":\"Decade=1960<br>Country=%{location}<br>Mean_temp=%{z}<extra></extra>\",\"locationmode\":\"country names\",\"locations\":[\"Afghanistan\",\"Angola\",\"Australia\",\"Australia\",\"Bangladesh\",\"Brazil\",\"Brazil\",\"Brazil\",\"Brazil\",\"Brazil\",\"Brazil\",\"Burma\",\"Canada\",\"Canada\",\"Chile\",\"China\",\"China\",\"China\",\"China\",\"China\",\"China\",\"China\",\"China\",\"China\",\"China\",\"China\",\"China\",\"China\",\"China\",\"China\",\"Colombia\",\"Colombia\",\"Congo (Democratic Republic Of The)\",\"C\\u00f4te D'Ivoire\",\"Dominican Republic\",\"Egypt\",\"Egypt\",\"Ethiopia\",\"France\",\"Germany\",\"India\",\"India\",\"India\",\"India\",\"India\",\"India\",\"India\",\"India\",\"India\",\"India\",\"India\",\"India\",\"Indonesia\",\"Indonesia\",\"Iran\",\"Iraq\",\"Italy\",\"Japan\",\"Japan\",\"Kenya\",\"Mexico\",\"Morocco\",\"Nigeria\",\"Nigeria\",\"Nigeria\",\"Pakistan\",\"Pakistan\",\"Peru\",\"Philippines\",\"Russia\",\"Russia\",\"Saudi Arabia\",\"Saudi Arabia\",\"Senegal\",\"Singapore\",\"Somalia\",\"South Africa\",\"South Africa\",\"South Korea\",\"Spain\",\"Sudan\",\"Syria\",\"Taiwan\",\"Tanzania\",\"Thailand\",\"Turkey\",\"Turkey\",\"Turkey\",\"Ukraine\",\"United Kingdom\",\"United States\",\"United States\",\"United States\",\"Vietnam\",\"Zimbabwe\"],\"name\":\"\",\"type\":\"choropleth\",\"z\":[14.20535,23.80646666666666,16.91249166666667,13.4385,25.86131666666667,27.02156666666666,24.78630000000001,21.85935833333334,21.25666666666665,23.99410833333333,19.857275,27.15825833333333,5.966266666666666,4.898041666666667,5.947791666666662,21.92755,17.04223333333333,17.15133333333333,10.79698333333334,15.93083333333334,16.28998333333333,11.62010833333333,13.30775,8.204775000000001,11.81784999999999,12.03123333333333,10.37613333333333,7.420933333333335,5.118175000000003,3.7629,20.22605833333334,21.99922500000001,23.92988333333334,26.26202499999998,26.22485833333332,21.66181666666667,20.72464166666666,17.42795833333333,10.366225,8.958958333333337,25.06511666666668,28.63077500000001,27.10113333333333,26.88844166666666,24.90743333333332,26.56731666666668,25.9094,26.72664166666667,26.41020833333334,25.55770000000001,24.98453333333334,25.25991666666666,26.72445,27.039925,12.70039166666667,23.07964166666667,12.17451666666667,15.07665833333333,12.88836666666666,16.03948333333333,15.98106666666666,17.41800833333333,26.6539,26.42258333333331,26.14239999999999,26.1289,24.08224166666666,16.802675,26.78439999999999,4.066691666666666,3.935533333333332,27.837525,25.54698333333334,24.70556666666667,26.76636666666668,27.06855000000001,20.51529166666666,16.226675,10.93659166666667,11.66725833333333,29.139725,17.88182500000001,22.44168333333334,25.68004166666667,27.54845833333335,17.64440833333334,10.93936666666667,13.98495833333333,7.299075000000001,9.4119,15.81019166666667,9.657266666666668,10.25588333333333,27.51939999999999,20.25944166666667]}],\"name\":\"1960\"},{\"data\":[{\"coloraxis\":\"coloraxis\",\"geo\":\"geo\",\"hovertemplate\":\"Decade=1970<br>Country=%{location}<br>Mean_temp=%{z}<extra></extra>\",\"locationmode\":\"country names\",\"locations\":[\"Afghanistan\",\"Angola\",\"Australia\",\"Australia\",\"Bangladesh\",\"Brazil\",\"Brazil\",\"Brazil\",\"Brazil\",\"Brazil\",\"Brazil\",\"Burma\",\"Canada\",\"Canada\",\"Chile\",\"China\",\"China\",\"China\",\"China\",\"China\",\"China\",\"China\",\"China\",\"China\",\"China\",\"China\",\"China\",\"China\",\"China\",\"China\",\"Colombia\",\"Colombia\",\"Congo (Democratic Republic Of The)\",\"C\\u00f4te D'Ivoire\",\"Dominican Republic\",\"Egypt\",\"Egypt\",\"Ethiopia\",\"France\",\"Germany\",\"India\",\"India\",\"India\",\"India\",\"India\",\"India\",\"India\",\"India\",\"India\",\"India\",\"India\",\"India\",\"Indonesia\",\"Indonesia\",\"Iran\",\"Iraq\",\"Italy\",\"Japan\",\"Japan\",\"Kenya\",\"Mexico\",\"Morocco\",\"Nigeria\",\"Nigeria\",\"Nigeria\",\"Pakistan\",\"Pakistan\",\"Peru\",\"Philippines\",\"Russia\",\"Russia\",\"Saudi Arabia\",\"Saudi Arabia\",\"Senegal\",\"Singapore\",\"Somalia\",\"South Africa\",\"South Africa\",\"South Korea\",\"Spain\",\"Sudan\",\"Syria\",\"Taiwan\",\"Tanzania\",\"Thailand\",\"Turkey\",\"Turkey\",\"Turkey\",\"Ukraine\",\"United Kingdom\",\"United States\",\"United States\",\"United States\",\"Vietnam\",\"Zimbabwe\"],\"name\":\"\",\"type\":\"choropleth\",\"z\":[14.37004166666667,23.81144166666667,17.18455,13.627,25.83269166666667,27.050175,24.96582499999999,21.97834166666668,21.25483333333333,24.03590833333333,19.960675,27.01361666666666,6.036558333333335,4.853533333333334,5.884700000000001,21.81826666666667,17.02730833333333,16.98030833333333,10.82384166666666,15.78216666666667,16.15753333333334,11.67590833333333,13.27675000000001,8.1901,11.781125,12.05256666666667,10.44976666666667,7.544375000000001,5.292666666666665,3.971591666666667,20.23582499999999,22.00210833333334,24.00975833333334,26.31020833333332,26.12121666666668,21.540525,20.59281666666668,17.52534166666667,10.57190833333333,9.214599999999999,25.09461666666668,28.70299166666667,27.17214166666666,26.93880833333333,24.95546666666667,26.60632500000001,25.94949999999999,26.78414166666666,26.34555833333333,25.53070833333333,24.96224166666666,25.34751666666667,26.75568333333333,27.03341666666667,12.62345,22.90083333333333,11.945875,15.03446666666667,12.79651666666667,16.12897500000001,15.86731666666667,16.92370833333333,26.7409,26.50585833333333,26.27376666666667,26.220075,24.20774166666667,16.88264166666667,26.78405833333333,4.451758333333333,4.250174999999999,27.77336666666667,25.46534166666666,24.7632,26.79175,27.27750833333333,20.49714166666666,16.31891666666667,11.01030833333333,11.23693333333333,29.13765000000001,17.7054,22.50574166666668,25.75315000000001,27.46663333333333,17.32916666666667,10.573425,13.70303333333333,7.418416666666664,9.687624999999997,15.80275,9.955733333333333,10.21084166666667,27.43878333333334,20.18615]}],\"name\":\"1970\"},{\"data\":[{\"coloraxis\":\"coloraxis\",\"geo\":\"geo\",\"hovertemplate\":\"Decade=1980<br>Country=%{location}<br>Mean_temp=%{z}<extra></extra>\",\"locationmode\":\"country names\",\"locations\":[\"Afghanistan\",\"Angola\",\"Australia\",\"Australia\",\"Bangladesh\",\"Brazil\",\"Brazil\",\"Brazil\",\"Brazil\",\"Brazil\",\"Brazil\",\"Burma\",\"Canada\",\"Canada\",\"Chile\",\"China\",\"China\",\"China\",\"China\",\"China\",\"China\",\"China\",\"China\",\"China\",\"China\",\"China\",\"China\",\"China\",\"China\",\"China\",\"Colombia\",\"Colombia\",\"Congo (Democratic Republic Of The)\",\"C\\u00f4te D'Ivoire\",\"Dominican Republic\",\"Egypt\",\"Egypt\",\"Ethiopia\",\"France\",\"Germany\",\"India\",\"India\",\"India\",\"India\",\"India\",\"India\",\"India\",\"India\",\"India\",\"India\",\"India\",\"India\",\"Indonesia\",\"Indonesia\",\"Iran\",\"Iraq\",\"Italy\",\"Japan\",\"Japan\",\"Kenya\",\"Mexico\",\"Morocco\",\"Nigeria\",\"Nigeria\",\"Nigeria\",\"Pakistan\",\"Pakistan\",\"Peru\",\"Philippines\",\"Russia\",\"Russia\",\"Saudi Arabia\",\"Saudi Arabia\",\"Senegal\",\"Singapore\",\"Somalia\",\"South Africa\",\"South Africa\",\"South Korea\",\"Spain\",\"Sudan\",\"Syria\",\"Taiwan\",\"Tanzania\",\"Thailand\",\"Turkey\",\"Turkey\",\"Turkey\",\"Ukraine\",\"United Kingdom\",\"United States\",\"United States\",\"United States\",\"Vietnam\",\"Zimbabwe\"],\"name\":\"\",\"type\":\"choropleth\",\"z\":[14.94080833333334,23.99801666666668,17.382325,13.81075833333333,25.98214999999999,27.32143333333333,25.13220833333334,22.11590833333333,21.59812500000001,24.26098333333333,20.12448333333333,27.16403333333334,6.330416666666667,5.034583333333332,6.232224999999999,21.88595833333333,16.82750833333334,16.87366666666667,10.73065833333333,15.627025,16.02749166666667,11.52439166666667,13.35849166666666,8.219408333333336,11.91718333333333,12.27695,10.63633333333334,7.654249999999999,5.503066666666665,4.244883333333332,20.503375,22.30466666666665,24.1662,26.57097499999998,26.45936666666667,21.36009166666667,20.43180000000001,17.7908,10.69591666666666,9.27485833333333,25.40442499999999,28.961075,27.42175833333334,27.10025833333333,25.12641666666667,26.79555,26.12918333333333,27.01105833333333,26.49986666666667,25.913525,25.15329166666667,25.65411666666667,26.86676666666665,27.22911666666667,13.23916666666667,22.93045833333333,12.21975,14.93583333333333,12.62558333333334,16.48069166666666,15.88514166666667,17.71849166666666,26.89219166666667,26.66785833333334,26.36773333333334,26.43052499999999,24.535025,17.1427,26.9852,4.540500000000001,4.324141666666665,27.84693333333334,25.437375,25.02029166666667,26.92714166666666,27.47728333333333,20.88450833333333,16.53125,10.93315833333333,11.95245833333334,29.38221666666667,17.65960833333333,22.51304166666667,25.998675,27.55046666666667,17.400375,10.67593333333333,13.62866666666667,7.295491666666662,9.658966666666663,16.28695833333334,10.06775833333334,10.58010833333333,27.64345000000001,20.59156666666666]}],\"name\":\"1980\"},{\"data\":[{\"coloraxis\":\"coloraxis\",\"geo\":\"geo\",\"hovertemplate\":\"Decade=1990<br>Country=%{location}<br>Mean_temp=%{z}<extra></extra>\",\"locationmode\":\"country names\",\"locations\":[\"Afghanistan\",\"Angola\",\"Australia\",\"Australia\",\"Bangladesh\",\"Brazil\",\"Brazil\",\"Brazil\",\"Brazil\",\"Brazil\",\"Brazil\",\"Burma\",\"Canada\",\"Canada\",\"Chile\",\"China\",\"China\",\"China\",\"China\",\"China\",\"China\",\"China\",\"China\",\"China\",\"China\",\"China\",\"China\",\"China\",\"China\",\"China\",\"Colombia\",\"Colombia\",\"Congo (Democratic Republic Of The)\",\"C\\u00f4te D'Ivoire\",\"Dominican Republic\",\"Egypt\",\"Egypt\",\"Ethiopia\",\"France\",\"Germany\",\"India\",\"India\",\"India\",\"India\",\"India\",\"India\",\"India\",\"India\",\"India\",\"India\",\"India\",\"India\",\"Indonesia\",\"Indonesia\",\"Iran\",\"Iraq\",\"Italy\",\"Japan\",\"Japan\",\"Kenya\",\"Mexico\",\"Morocco\",\"Nigeria\",\"Nigeria\",\"Nigeria\",\"Pakistan\",\"Pakistan\",\"Peru\",\"Philippines\",\"Russia\",\"Russia\",\"Saudi Arabia\",\"Saudi Arabia\",\"Senegal\",\"Singapore\",\"Somalia\",\"South Africa\",\"South Africa\",\"South Korea\",\"Spain\",\"Sudan\",\"Syria\",\"Taiwan\",\"Tanzania\",\"Thailand\",\"Turkey\",\"Turkey\",\"Turkey\",\"Ukraine\",\"United Kingdom\",\"United States\",\"United States\",\"United States\",\"Vietnam\",\"Zimbabwe\"],\"name\":\"\",\"type\":\"choropleth\",\"z\":[14.99721666666667,24.23552499999999,17.40898333333333,13.648325,25.955725,27.76590833333332,25.38552500000001,22.42016666666667,21.799525,24.50483333333334,20.420975,27.25351666666667,6.704833333333335,5.451758333333333,6.298433333333334,21.95355833333333,17.149575,17.332075,10.91651666666666,16.247525,16.64156666666667,12.02635,13.91651666666668,8.850766666666665,12.50829166666667,12.84356666666666,11.235125,8.399191666666665,6.260975000000002,5.049533333333335,20.60976666666665,22.43595000000002,24.28003333333334,26.64673333333334,26.63090833333334,21.77098333333334,20.804325,17.85893333333333,11.28896666666666,9.821699999999995,25.41589166666667,28.90694166666666,27.30027500000001,27.1607,25.13205833333334,26.85626666666667,26.07291666666667,27.020775,26.52088333333332,25.91563333333333,25.31029166666668,25.68953333333333,27.13928333333332,27.43084999999999,13.45743333333333,23.32390833333334,12.778375,15.511225,13.32015833333333,16.44541666666667,16.29465833333334,17.81255833333333,26.98750000000001,26.78403333333333,26.55200833333334,26.66187499999998,24.651225,17.39296666666667,26.96433333333334,5.047683333333335,4.878983333333337,28.05007499999999,25.80516666666667,25.27930000000001,27.14355000000001,27.47037499999998,20.97989166666667,16.647325,11.695175,12.25185833333333,29.47211666666667,17.91785,22.87840833333333,26.21024166666666,27.75577499999999,17.67785833333333,10.73593333333333,13.89914166666667,7.890008333333332,10.266475,16.39519166666667,10.53224166666666,10.88618333333333,27.70556666666667,21.02278333333334]}],\"name\":\"1990\"},{\"data\":[{\"coloraxis\":\"coloraxis\",\"geo\":\"geo\",\"hovertemplate\":\"Decade=2000<br>Country=%{location}<br>Mean_temp=%{z}<extra></extra>\",\"locationmode\":\"country names\",\"locations\":[\"Afghanistan\",\"Angola\",\"Australia\",\"Australia\",\"Bangladesh\",\"Brazil\",\"Brazil\",\"Brazil\",\"Brazil\",\"Brazil\",\"Brazil\",\"Burma\",\"Canada\",\"Canada\",\"Chile\",\"China\",\"China\",\"China\",\"China\",\"China\",\"China\",\"China\",\"China\",\"China\",\"China\",\"China\",\"China\",\"China\",\"China\",\"China\",\"Colombia\",\"Colombia\",\"Congo (Democratic Republic Of The)\",\"C\\u00f4te D'Ivoire\",\"Dominican Republic\",\"Egypt\",\"Egypt\",\"Ethiopia\",\"France\",\"Germany\",\"India\",\"India\",\"India\",\"India\",\"India\",\"India\",\"India\",\"India\",\"India\",\"India\",\"India\",\"India\",\"Indonesia\",\"Indonesia\",\"Iran\",\"Iraq\",\"Italy\",\"Japan\",\"Japan\",\"Kenya\",\"Mexico\",\"Morocco\",\"Nigeria\",\"Nigeria\",\"Nigeria\",\"Pakistan\",\"Pakistan\",\"Peru\",\"Philippines\",\"Russia\",\"Russia\",\"Saudi Arabia\",\"Saudi Arabia\",\"Senegal\",\"Singapore\",\"Somalia\",\"South Africa\",\"South Africa\",\"South Korea\",\"Spain\",\"Sudan\",\"Syria\",\"Taiwan\",\"Tanzania\",\"Thailand\",\"Turkey\",\"Turkey\",\"Turkey\",\"Ukraine\",\"United Kingdom\",\"United States\",\"United States\",\"United States\",\"Vietnam\",\"Zimbabwe\"],\"name\":\"\",\"type\":\"choropleth\",\"z\":[15.538275,24.40976666666666,17.79130833333333,14.2423,26.11201666666667,27.73976666666669,25.56351666666666,22.68948333333333,22.01698333333333,24.70469166666667,20.67053333333335,27.39633333333333,6.933008333333334,5.648349999999999,6.354666666666668,22.25553333333331,17.48461666666667,17.76115833333333,11.31296666666666,16.65819166666666,17.05662499999999,12.4479,14.20833333333334,9.198649999999999,12.77350833333333,13.13874166666667,11.43346666666667,8.459975000000004,6.312191666666668,5.013083333333333,20.74245000000001,22.52365833333333,24.53164999999999,26.92223333333335,26.85480000000001,22.21704999999999,21.30885833333333,18.34339166666667,11.60651666666666,10.28745,25.52356666666666,29.08894166666666,27.55035833333333,27.40473333333335,25.41754166666668,27.16297500000001,26.44908333333333,27.41517499999999,26.68816666666665,26.34206666666665,25.57960833333332,26.09635,27.27696666666667,27.58859166666666,14.112675,23.89846666666666,13.07968333333333,15.653325,13.37880833333333,16.80039166666666,16.36455833333334,18.24652499999999,27.29604166666666,27.11142499999999,26.959375,27.09568333333333,25.1619,17.21031666666666,27.08735,5.653949999999999,5.471325000000001,28.57140833333333,26.438825,25.40373333333332,27.28254166666667,27.90457499999999,20.99360833333333,16.83228333333333,11.80811666666667,12.42290833333334,29.86624166666666,18.31600000000001,23.15491666666665,26.43049166666666,27.78011666666666,18.15156666666667,11.29799166666666,14.52216666666667,8.602616666666671,10.66508333333333,16.64835,10.598925,11.119325,27.82590833333332,20.75585833333333]}],\"name\":\"2000\"},{\"data\":[{\"coloraxis\":\"coloraxis\",\"geo\":\"geo\",\"hovertemplate\":\"Decade=2010<br>Country=%{location}<br>Mean_temp=%{z}<extra></extra>\",\"locationmode\":\"country names\",\"locations\":[\"Afghanistan\",\"Angola\",\"Australia\",\"Australia\",\"Bangladesh\",\"Brazil\",\"Brazil\",\"Brazil\",\"Brazil\",\"Brazil\",\"Brazil\",\"Burma\",\"Canada\",\"Canada\",\"Chile\",\"China\",\"China\",\"China\",\"China\",\"China\",\"China\",\"China\",\"China\",\"China\",\"China\",\"China\",\"China\",\"China\",\"China\",\"China\",\"Colombia\",\"Colombia\",\"Congo (Democratic Republic Of The)\",\"C\\u00f4te D'Ivoire\",\"Dominican Republic\",\"Egypt\",\"Egypt\",\"Ethiopia\",\"France\",\"Germany\",\"India\",\"India\",\"India\",\"India\",\"India\",\"India\",\"India\",\"India\",\"India\",\"India\",\"India\",\"India\",\"Indonesia\",\"Indonesia\",\"Iran\",\"Iraq\",\"Italy\",\"Japan\",\"Japan\",\"Kenya\",\"Mexico\",\"Morocco\",\"Nigeria\",\"Nigeria\",\"Nigeria\",\"Pakistan\",\"Pakistan\",\"Peru\",\"Philippines\",\"Russia\",\"Russia\",\"Saudi Arabia\",\"Saudi Arabia\",\"Senegal\",\"Singapore\",\"Somalia\",\"South Africa\",\"South Africa\",\"South Korea\",\"Spain\",\"Sudan\",\"Syria\",\"Taiwan\",\"Tanzania\",\"Thailand\",\"Turkey\",\"Turkey\",\"Turkey\",\"Ukraine\",\"United Kingdom\",\"United States\",\"United States\",\"United States\",\"Vietnam\",\"Zimbabwe\"],\"name\":\"\",\"type\":\"choropleth\",\"z\":[15.49161363636364,24.32736363636364,17.7945,14.32334090909091,26.30718181818182,27.87863636363636,25.67297727272728,22.72731818181818,21.92975,24.79172727272728,20.57543181818182,27.83570454545454,8.02222222222222,7.099977777777778,6.3215,22.06863636363637,17.67047727272728,17.71804545454546,11.59095454545455,16.55884090909091,16.81254545454545,12.60084090909091,14.01297727272727,9.169659090909091,12.61920454545455,12.74681818181818,10.79240909090909,8.010704545454546,5.654,4.436886363636362,20.79838636363636,22.59111363636364,24.43218181818182,27.1040909090909,26.84746666666667,22.76202272727273,21.678,18.64897727272728,11.26270454545455,9.784159090909093,25.86818181818182,29.49911363636364,27.915,27.31404545454545,25.48340909090909,27.23981818181818,26.54577272727273,27.47488636363636,26.96645454545454,26.32240909090909,25.62093181818182,26.13963636363637,27.30052272727272,27.38504545454546,14.54513636363636,24.55586363636363,13.25845454545455,15.59925,13.50815909090909,16.86279545454545,16.51882222222222,18.58075,27.41945454545454,27.21729545454544,27.33290909090909,27.10018181818183,25.26118181818182,17.18588636363636,27.33397727272727,5.906727272727273,5.180818181818182,28.94902272727273,27.03397727272727,25.48670454545454,27.43395454545456,28.12302272727273,21.19227272727273,16.63909090909091,11.38002272727272,12.56436363636364,30.29688636363637,19.00645454545455,22.87131818181818,26.62163636363636,28.33697727272727,18.60402272727273,11.98784090909091,14.97384090909091,8.971863636363635,10.13768181818182,16.65117777777778,11.6598,11.87775555555555,28.13888636363637,20.62961363636364]}],\"name\":\"2010\"}]);\n",
              "                        }).then(function(){\n",
              "                            \n",
              "var gd = document.getElementById('b176cfd2-341d-444c-824d-fe8d8312465d');\n",
              "var x = new MutationObserver(function (mutations, observer) {{\n",
              "        var display = window.getComputedStyle(gd).display;\n",
              "        if (!display || display === 'none') {{\n",
              "            console.log([gd, 'removed!']);\n",
              "            Plotly.purge(gd);\n",
              "            observer.disconnect();\n",
              "        }}\n",
              "}});\n",
              "\n",
              "// Listen for the removal of the full notebook cells\n",
              "var notebookContainer = gd.closest('#notebook-container');\n",
              "if (notebookContainer) {{\n",
              "    x.observe(notebookContainer, {childList: true});\n",
              "}}\n",
              "\n",
              "// Listen for the clearing of the current output cell\n",
              "var outputEl = gd.closest('.output');\n",
              "if (outputEl) {{\n",
              "    x.observe(outputEl, {childList: true});\n",
              "}}\n",
              "\n",
              "                        })                };                            </script>        </div>\n",
              "</body>\n",
              "</html>"
            ]
          },
          "metadata": {
            "tags": []
          }
        }
      ]
    },
    {
      "cell_type": "markdown",
      "metadata": {
        "id": "OK68bjXlx4B-"
      },
      "source": [
        "#Weather in Norway"
      ]
    },
    {
      "cell_type": "markdown",
      "metadata": {
        "id": "7xg09MTryTiz"
      },
      "source": [
        "Historic data of the weather in Norway can be found [here](https://www.yr.no/nb/historikk/tabell/1-72837/Norge/Oslo/Oslo/Oslo?q=2021-01)"
      ]
    },
    {
      "cell_type": "markdown",
      "metadata": {
        "id": "NNNtb87ayTi0"
      },
      "source": [
        "## Uploading packages and data"
      ]
    },
    {
      "cell_type": "code",
      "metadata": {
        "id": "RHzc7K6UJDvR"
      },
      "source": [
        "#Importing data manipulation libraries\n",
        "import numpy as np\n",
        "import pandas as pd\n",
        "from time import sleep\n",
        "from random import randint"
      ],
      "execution_count": 1,
      "outputs": []
    },
    {
      "cell_type": "markdown",
      "metadata": {
        "id": "Qd76FNGixVGx"
      },
      "source": [
        "##Retrieving data from URL"
      ]
    },
    {
      "cell_type": "code",
      "metadata": {
        "id": "vlcHnTXdzpDu"
      },
      "source": [
        "#Creating a function to retrieve table data from given URL\n",
        "def get_table(url):\n",
        "  \"\"\"Retrieve table data from given URL and return a dataframe\"\"\"\n",
        "\n",
        "  #Get table data and parse with pandas\n",
        "  try:\n",
        "    tb = pd.read_html(url, attrs = {'class': 'fluid-table__table'})\n",
        "    return tb\n",
        "  except:\n",
        "    print('No Table found')"
      ],
      "execution_count": 2,
      "outputs": []
    },
    {
      "cell_type": "code",
      "metadata": {
        "colab": {
          "base_uri": "https://localhost:8080/"
        },
        "id": "yiS7mDnauCf3",
        "outputId": "23924765-dc95-44e2-8fcc-77bf3c52d395"
      },
      "source": [
        "#Scraping weather data from multiple pages and saving the returned tables to a list\n",
        "data = []\n",
        "url = 'https://www.yr.no/nb/historikk/tabell/1-72837/Norge/Oslo/Oslo/Oslo?q=2021-0'\n",
        "\n",
        "for i in range(1, 9):\n",
        "  page = url + str(i)\n",
        "  data.append(get_table(page))\n",
        "  print(f'Table: {i}')\n",
        "  sleep(randint(3,8))"
      ],
      "execution_count": 3,
      "outputs": [
        {
          "output_type": "stream",
          "name": "stdout",
          "text": [
            "Table: 1\n",
            "Table: 2\n",
            "Table: 3\n",
            "Table: 4\n",
            "Table: 5\n",
            "Table: 6\n",
            "Table: 7\n",
            "Table: 8\n"
          ]
        }
      ]
    },
    {
      "cell_type": "code",
      "metadata": {
        "colab": {
          "base_uri": "https://localhost:8080/"
        },
        "id": "bcpAMU3VvIoV",
        "outputId": "4d31856c-ae73-4fdd-e999-30e94f78b20d"
      },
      "source": [
        "#Checking the number of scraped tables\n",
        "len(data)"
      ],
      "execution_count": 4,
      "outputs": [
        {
          "output_type": "execute_result",
          "data": {
            "text/plain": [
              "8"
            ]
          },
          "metadata": {},
          "execution_count": 4
        }
      ]
    },
    {
      "cell_type": "code",
      "metadata": {
        "colab": {
          "base_uri": "https://localhost:8080/",
          "height": 202
        },
        "id": "EoFLanej4T_i",
        "outputId": "e4e4a42a-122d-4d00-dbd0-c02122d75060"
      },
      "source": [
        "#Checking one of the returned dataframes inside list\n",
        "data[-1][0][-5:]"
      ],
      "execution_count": 5,
      "outputs": [
        {
          "output_type": "execute_result",
          "data": {
            "text/html": [
              "<div>\n",
              "<style scoped>\n",
              "    .dataframe tbody tr th:only-of-type {\n",
              "        vertical-align: middle;\n",
              "    }\n",
              "\n",
              "    .dataframe tbody tr th {\n",
              "        vertical-align: top;\n",
              "    }\n",
              "\n",
              "    .dataframe thead th {\n",
              "        text-align: right;\n",
              "    }\n",
              "</style>\n",
              "<table border=\"1\" class=\"dataframe\">\n",
              "  <thead>\n",
              "    <tr style=\"text-align: right;\">\n",
              "      <th></th>\n",
              "      <th>Dato</th>\n",
              "      <th>Min. temp.</th>\n",
              "      <th>Maks temp.</th>\n",
              "      <th>Gjennomsnitt</th>\n",
              "      <th>Normal temp.</th>\n",
              "      <th>Nedbør mm (måles kl 07)</th>\n",
              "      <th>Snødybde cm</th>\n",
              "      <th>Vind m/s</th>\n",
              "      <th>Kraftigste vind m/s</th>\n",
              "    </tr>\n",
              "  </thead>\n",
              "  <tbody>\n",
              "    <tr>\n",
              "      <th>26</th>\n",
              "      <td>27.0</td>\n",
              "      <td>13,7°</td>\n",
              "      <td>18,1°</td>\n",
              "      <td>15,3°</td>\n",
              "      <td>16,0°</td>\n",
              "      <td>0</td>\n",
              "      <td>–</td>\n",
              "      <td>63</td>\n",
              "      <td>80</td>\n",
              "    </tr>\n",
              "    <tr>\n",
              "      <th>27</th>\n",
              "      <td>28.0</td>\n",
              "      <td>14,5°</td>\n",
              "      <td>21,5°</td>\n",
              "      <td>17,5°</td>\n",
              "      <td>15,8°</td>\n",
              "      <td>0</td>\n",
              "      <td>–</td>\n",
              "      <td>39</td>\n",
              "      <td>72</td>\n",
              "    </tr>\n",
              "    <tr>\n",
              "      <th>28</th>\n",
              "      <td>29.0</td>\n",
              "      <td>12,4°</td>\n",
              "      <td>25,1°</td>\n",
              "      <td>18,7°</td>\n",
              "      <td>15,7°</td>\n",
              "      <td>0</td>\n",
              "      <td>–</td>\n",
              "      <td>30</td>\n",
              "      <td>51</td>\n",
              "    </tr>\n",
              "    <tr>\n",
              "      <th>29</th>\n",
              "      <td>30.0</td>\n",
              "      <td>14,3°</td>\n",
              "      <td>25,0°</td>\n",
              "      <td>18,8°</td>\n",
              "      <td>15,6°</td>\n",
              "      <td>0</td>\n",
              "      <td>–</td>\n",
              "      <td>24</td>\n",
              "      <td>36</td>\n",
              "    </tr>\n",
              "    <tr>\n",
              "      <th>30</th>\n",
              "      <td>31.0</td>\n",
              "      <td>13,8°</td>\n",
              "      <td>24,7°</td>\n",
              "      <td>18,8°</td>\n",
              "      <td>15,4°</td>\n",
              "      <td>0</td>\n",
              "      <td>–</td>\n",
              "      <td>37</td>\n",
              "      <td>64</td>\n",
              "    </tr>\n",
              "  </tbody>\n",
              "</table>\n",
              "</div>"
            ],
            "text/plain": [
              "    Dato Min. temp. Maks temp.  ... Snødybde cm Vind m/s  Kraftigste vind m/s\n",
              "26  27.0      13,7°      18,1°  ...           –       63                   80\n",
              "27  28.0      14,5°      21,5°  ...           –       39                   72\n",
              "28  29.0      12,4°      25,1°  ...           –       30                   51\n",
              "29  30.0      14,3°      25,0°  ...           –       24                   36\n",
              "30  31.0      13,8°      24,7°  ...           –       37                   64\n",
              "\n",
              "[5 rows x 9 columns]"
            ]
          },
          "metadata": {},
          "execution_count": 5
        }
      ]
    },
    {
      "cell_type": "code",
      "metadata": {
        "id": "fn30qKwZlCLq",
        "colab": {
          "base_uri": "https://localhost:8080/"
        },
        "outputId": "929cee24-65c7-42be-e1df-80680d45a9e5"
      },
      "source": [
        "#Concatenating dataframes from list\n",
        "df3 = pd.concat(objs=[i[0] for i in data], ignore_index=True)\n",
        "df3.shape #==> from page 1 to the end"
      ],
      "execution_count": 6,
      "outputs": [
        {
          "output_type": "execute_result",
          "data": {
            "text/plain": [
              "(243, 9)"
            ]
          },
          "metadata": {},
          "execution_count": 6
        }
      ]
    },
    {
      "cell_type": "code",
      "metadata": {
        "colab": {
          "base_uri": "https://localhost:8080/"
        },
        "id": "1by3MCVk6EC2",
        "outputId": "6a47c3cb-6587-4dfb-9048-e2ab582d89c4"
      },
      "source": [
        "#Creating range of dates for given year\n",
        "year_range = pd.date_range(start='2021-01-01', end='2021-08-31', freq='D')\n",
        "year_range[-10:]"
      ],
      "execution_count": 7,
      "outputs": [
        {
          "output_type": "execute_result",
          "data": {
            "text/plain": [
              "DatetimeIndex(['2021-08-22', '2021-08-23', '2021-08-24', '2021-08-25',\n",
              "               '2021-08-26', '2021-08-27', '2021-08-28', '2021-08-29',\n",
              "               '2021-08-30', '2021-08-31'],\n",
              "              dtype='datetime64[ns]', freq='D')"
            ]
          },
          "metadata": {},
          "execution_count": 7
        }
      ]
    },
    {
      "cell_type": "code",
      "metadata": {
        "colab": {
          "base_uri": "https://localhost:8080/"
        },
        "id": "ucQoszUJ7IMN",
        "outputId": "fcf301f9-9950-4758-ae1b-31323390b7c8"
      },
      "source": [
        "#Assigning dates to concatenated dataframe\n",
        "df3 = df3.assign(Dag = year_range)\n",
        "df3.shape"
      ],
      "execution_count": 8,
      "outputs": [
        {
          "output_type": "execute_result",
          "data": {
            "text/plain": [
              "(243, 10)"
            ]
          },
          "metadata": {},
          "execution_count": 8
        }
      ]
    },
    {
      "cell_type": "code",
      "metadata": {
        "colab": {
          "base_uri": "https://localhost:8080/",
          "height": 202
        },
        "id": "MHhKcjjE7_Hs",
        "outputId": "7231af48-7856-4a4c-d46c-105ef3e25ef1"
      },
      "source": [
        "#Rearranging columns order\n",
        "df3 = df3[['Dag', 'Min. temp.', 'Maks temp.', 'Gjennomsnitt',\t'Normal temp.',\t'Nedbør mm (måles kl 07)', 'Snødybde cm',\t'Vind m/s',\t'Kraftigste vind m/s', 'Dato']]\n",
        "df3.tail()"
      ],
      "execution_count": 9,
      "outputs": [
        {
          "output_type": "execute_result",
          "data": {
            "text/html": [
              "<div>\n",
              "<style scoped>\n",
              "    .dataframe tbody tr th:only-of-type {\n",
              "        vertical-align: middle;\n",
              "    }\n",
              "\n",
              "    .dataframe tbody tr th {\n",
              "        vertical-align: top;\n",
              "    }\n",
              "\n",
              "    .dataframe thead th {\n",
              "        text-align: right;\n",
              "    }\n",
              "</style>\n",
              "<table border=\"1\" class=\"dataframe\">\n",
              "  <thead>\n",
              "    <tr style=\"text-align: right;\">\n",
              "      <th></th>\n",
              "      <th>Dag</th>\n",
              "      <th>Min. temp.</th>\n",
              "      <th>Maks temp.</th>\n",
              "      <th>Gjennomsnitt</th>\n",
              "      <th>Normal temp.</th>\n",
              "      <th>Nedbør mm (måles kl 07)</th>\n",
              "      <th>Snødybde cm</th>\n",
              "      <th>Vind m/s</th>\n",
              "      <th>Kraftigste vind m/s</th>\n",
              "      <th>Dato</th>\n",
              "    </tr>\n",
              "  </thead>\n",
              "  <tbody>\n",
              "    <tr>\n",
              "      <th>238</th>\n",
              "      <td>2021-08-27</td>\n",
              "      <td>13,7°</td>\n",
              "      <td>18,1°</td>\n",
              "      <td>15,3°</td>\n",
              "      <td>16,0°</td>\n",
              "      <td>0</td>\n",
              "      <td>–</td>\n",
              "      <td>63</td>\n",
              "      <td>80</td>\n",
              "      <td>27.0</td>\n",
              "    </tr>\n",
              "    <tr>\n",
              "      <th>239</th>\n",
              "      <td>2021-08-28</td>\n",
              "      <td>14,5°</td>\n",
              "      <td>21,5°</td>\n",
              "      <td>17,5°</td>\n",
              "      <td>15,8°</td>\n",
              "      <td>0</td>\n",
              "      <td>–</td>\n",
              "      <td>39</td>\n",
              "      <td>72</td>\n",
              "      <td>28.0</td>\n",
              "    </tr>\n",
              "    <tr>\n",
              "      <th>240</th>\n",
              "      <td>2021-08-29</td>\n",
              "      <td>12,4°</td>\n",
              "      <td>25,1°</td>\n",
              "      <td>18,7°</td>\n",
              "      <td>15,7°</td>\n",
              "      <td>0</td>\n",
              "      <td>–</td>\n",
              "      <td>30</td>\n",
              "      <td>51</td>\n",
              "      <td>29.0</td>\n",
              "    </tr>\n",
              "    <tr>\n",
              "      <th>241</th>\n",
              "      <td>2021-08-30</td>\n",
              "      <td>14,3°</td>\n",
              "      <td>25,0°</td>\n",
              "      <td>18,8°</td>\n",
              "      <td>15,6°</td>\n",
              "      <td>0</td>\n",
              "      <td>–</td>\n",
              "      <td>24</td>\n",
              "      <td>36</td>\n",
              "      <td>30.0</td>\n",
              "    </tr>\n",
              "    <tr>\n",
              "      <th>242</th>\n",
              "      <td>2021-08-31</td>\n",
              "      <td>13,8°</td>\n",
              "      <td>24,7°</td>\n",
              "      <td>18,8°</td>\n",
              "      <td>15,4°</td>\n",
              "      <td>0</td>\n",
              "      <td>–</td>\n",
              "      <td>37</td>\n",
              "      <td>64</td>\n",
              "      <td>31.0</td>\n",
              "    </tr>\n",
              "  </tbody>\n",
              "</table>\n",
              "</div>"
            ],
            "text/plain": [
              "           Dag Min. temp. Maks temp.  ... Vind m/s Kraftigste vind m/s  Dato\n",
              "238 2021-08-27      13,7°      18,1°  ...       63                  80  27.0\n",
              "239 2021-08-28      14,5°      21,5°  ...       39                  72  28.0\n",
              "240 2021-08-29      12,4°      25,1°  ...       30                  51  29.0\n",
              "241 2021-08-30      14,3°      25,0°  ...       24                  36  30.0\n",
              "242 2021-08-31      13,8°      24,7°  ...       37                  64  31.0\n",
              "\n",
              "[5 rows x 10 columns]"
            ]
          },
          "metadata": {},
          "execution_count": 9
        }
      ]
    },
    {
      "cell_type": "code",
      "metadata": {
        "id": "1wXsgb8cJZqF",
        "colab": {
          "base_uri": "https://localhost:8080/",
          "height": 17
        },
        "outputId": "4eb81788-c0a0-44b9-fbca-70056e6a69c2"
      },
      "source": [
        "#Exporting to excel into local disk\n",
        "from google.colab import files\n",
        "df3.to_excel('2021_oslo_weather.xlsx', index=False) #==> Excluding index from file\n",
        "files.download('2021_oslo_weather.xlsx')"
      ],
      "execution_count": null,
      "outputs": [
        {
          "output_type": "display_data",
          "data": {
            "application/javascript": [
              "\n",
              "    async function download(id, filename, size) {\n",
              "      if (!google.colab.kernel.accessAllowed) {\n",
              "        return;\n",
              "      }\n",
              "      const div = document.createElement('div');\n",
              "      const label = document.createElement('label');\n",
              "      label.textContent = `Downloading \"${filename}\": `;\n",
              "      div.appendChild(label);\n",
              "      const progress = document.createElement('progress');\n",
              "      progress.max = size;\n",
              "      div.appendChild(progress);\n",
              "      document.body.appendChild(div);\n",
              "\n",
              "      const buffers = [];\n",
              "      let downloaded = 0;\n",
              "\n",
              "      const channel = await google.colab.kernel.comms.open(id);\n",
              "      // Send a message to notify the kernel that we're ready.\n",
              "      channel.send({})\n",
              "\n",
              "      for await (const message of channel.messages) {\n",
              "        // Send a message to notify the kernel that we're ready.\n",
              "        channel.send({})\n",
              "        if (message.buffers) {\n",
              "          for (const buffer of message.buffers) {\n",
              "            buffers.push(buffer);\n",
              "            downloaded += buffer.byteLength;\n",
              "            progress.value = downloaded;\n",
              "          }\n",
              "        }\n",
              "      }\n",
              "      const blob = new Blob(buffers, {type: 'application/binary'});\n",
              "      const a = document.createElement('a');\n",
              "      a.href = window.URL.createObjectURL(blob);\n",
              "      a.download = filename;\n",
              "      div.appendChild(a);\n",
              "      a.click();\n",
              "      div.remove();\n",
              "    }\n",
              "  "
            ],
            "text/plain": [
              "<IPython.core.display.Javascript object>"
            ]
          },
          "metadata": {
            "tags": []
          }
        },
        {
          "output_type": "display_data",
          "data": {
            "application/javascript": [
              "download(\"download_26a7b817-4add-4523-b755-c6f0e294b25f\", \"2021_oslo_weather.xlsx\", 16027)"
            ],
            "text/plain": [
              "<IPython.core.display.Javascript object>"
            ]
          },
          "metadata": {
            "tags": []
          }
        }
      ]
    },
    {
      "cell_type": "markdown",
      "metadata": {
        "id": "doGq06QKdlka"
      },
      "source": [
        "##Data Cleaning"
      ]
    },
    {
      "cell_type": "code",
      "metadata": {
        "id": "4fit9_mId8Tj"
      },
      "source": [
        "#Remove previous versions of the uploaded file\n",
        "!rm 2021_oslo_weather.xlsx"
      ],
      "execution_count": null,
      "outputs": []
    },
    {
      "cell_type": "code",
      "metadata": {
        "colab": {
          "resources": {
            "http://localhost:8080/nbextensions/google.colab/files.js": {
              "data": "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",
              "ok": true,
              "headers": [
                [
                  "content-type",
                  "application/javascript"
                ]
              ],
              "status": 200,
              "status_text": ""
            }
          },
          "base_uri": "https://localhost:8080/",
          "height": 73
        },
        "id": "t15pGcvtd8T5",
        "outputId": "03e3ce29-9303-4183-9202-9eaa7402dbc1"
      },
      "source": [
        "#Uploading file from local drive\n",
        "from google.colab import files\n",
        "uploaded3 = files.upload()"
      ],
      "execution_count": null,
      "outputs": [
        {
          "output_type": "display_data",
          "data": {
            "text/html": [
              "\n",
              "     <input type=\"file\" id=\"files-77d4ad12-be23-471c-835a-73e626593b41\" name=\"files[]\" multiple disabled\n",
              "        style=\"border:none\" />\n",
              "     <output id=\"result-77d4ad12-be23-471c-835a-73e626593b41\">\n",
              "      Upload widget is only available when the cell has been executed in the\n",
              "      current browser session. Please rerun this cell to enable.\n",
              "      </output>\n",
              "      <script src=\"/nbextensions/google.colab/files.js\"></script> "
            ],
            "text/plain": [
              "<IPython.core.display.HTML object>"
            ]
          },
          "metadata": {
            "tags": []
          }
        },
        {
          "output_type": "stream",
          "text": [
            "Saving 2020_oslo_weather.xlsx to 2020_oslo_weather.xlsx\n"
          ],
          "name": "stdout"
        }
      ]
    },
    {
      "cell_type": "code",
      "metadata": {
        "id": "0vnb4fmLd8T6"
      },
      "source": [
        "#Storing dataset in a Pandas Dataframe\n",
        "import io\n",
        "df3 = pd.read_excel(io.BytesIO(uploaded3['2020_oslo_weather.xlsx']))"
      ],
      "execution_count": null,
      "outputs": []
    },
    {
      "cell_type": "code",
      "metadata": {
        "id": "Xomvye09gbWp"
      },
      "source": [
        "#Renaming columns\n",
        "df3.columns = ['Dato', 'Min_temp', 'Max_temp', 'Mean_temp', 'Norm_temp', 'Rainfall_mm', 'Snow_depth_cm', 'Wind_m_s', 'High_wind', 'Day']"
      ],
      "execution_count": 10,
      "outputs": []
    },
    {
      "cell_type": "code",
      "metadata": {
        "colab": {
          "base_uri": "https://localhost:8080/"
        },
        "id": "iQK0e2R8d8T7",
        "outputId": "8a313c80-1e17-4c96-9967-c1b102889023"
      },
      "source": [
        "#Checking the dataframe information\n",
        "df3.info()"
      ],
      "execution_count": 11,
      "outputs": [
        {
          "output_type": "stream",
          "name": "stdout",
          "text": [
            "<class 'pandas.core.frame.DataFrame'>\n",
            "RangeIndex: 243 entries, 0 to 242\n",
            "Data columns (total 10 columns):\n",
            " #   Column         Non-Null Count  Dtype         \n",
            "---  ------         --------------  -----         \n",
            " 0   Dato           243 non-null    datetime64[ns]\n",
            " 1   Min_temp       243 non-null    object        \n",
            " 2   Max_temp       243 non-null    object        \n",
            " 3   Mean_temp      243 non-null    object        \n",
            " 4   Norm_temp      243 non-null    object        \n",
            " 5   Rainfall_mm    243 non-null    object        \n",
            " 6   Snow_depth_cm  243 non-null    object        \n",
            " 7   Wind_m_s       243 non-null    object        \n",
            " 8   High_wind      243 non-null    object        \n",
            " 9   Day            243 non-null    float64       \n",
            "dtypes: datetime64[ns](1), float64(1), object(8)\n",
            "memory usage: 19.1+ KB\n"
          ]
        }
      ]
    },
    {
      "cell_type": "code",
      "metadata": {
        "id": "VKEf701tekFC"
      },
      "source": [
        "#Cleaning temperature values\n",
        "\n",
        "def clean_temp(arr1):\n",
        "  return arr1.str.replace(',', '.').str.replace('°', '').str.replace('–', '').str.strip()\n",
        "\n",
        "df3['Min_temp'] = clean_temp(df3['Min_temp'])\n",
        "df3['Max_temp'] = clean_temp(df3['Max_temp'])\n",
        "df3['Mean_temp'] = clean_temp(df3['Mean_temp'])\n",
        "df3['Norm_temp'] = clean_temp(df3['Norm_temp'])"
      ],
      "execution_count": 12,
      "outputs": []
    },
    {
      "cell_type": "code",
      "metadata": {
        "id": "mEAo9ThoyHZT"
      },
      "source": [
        "#Cleaning missing values from the rest of the columns\n",
        "def clean_values(arr2):\n",
        "  return arr2.str.replace('–', '').str.replace('-', '').str.strip()\n",
        "\n",
        "df3['Rainfall_mm'] = clean_values(df3['Rainfall_mm'])\n",
        "df3['Snow_depth_cm'] = clean_values(df3['Snow_depth_cm'])\n",
        "df3['Wind_m_s'] = clean_values(df3['Wind_m_s'])\n",
        "df3['High_wind'] = clean_values(df3['High_wind'])"
      ],
      "execution_count": 13,
      "outputs": []
    },
    {
      "cell_type": "code",
      "metadata": {
        "colab": {
          "base_uri": "https://localhost:8080/",
          "height": 202
        },
        "id": "mEGfGG4fpFTM",
        "outputId": "71c724b7-1b2c-4e40-ee56-59e67bb6d0de"
      },
      "source": [
        "#Checking the dataframe tail\n",
        "df3.tail()"
      ],
      "execution_count": 14,
      "outputs": [
        {
          "output_type": "execute_result",
          "data": {
            "text/html": [
              "<div>\n",
              "<style scoped>\n",
              "    .dataframe tbody tr th:only-of-type {\n",
              "        vertical-align: middle;\n",
              "    }\n",
              "\n",
              "    .dataframe tbody tr th {\n",
              "        vertical-align: top;\n",
              "    }\n",
              "\n",
              "    .dataframe thead th {\n",
              "        text-align: right;\n",
              "    }\n",
              "</style>\n",
              "<table border=\"1\" class=\"dataframe\">\n",
              "  <thead>\n",
              "    <tr style=\"text-align: right;\">\n",
              "      <th></th>\n",
              "      <th>Dato</th>\n",
              "      <th>Min_temp</th>\n",
              "      <th>Max_temp</th>\n",
              "      <th>Mean_temp</th>\n",
              "      <th>Norm_temp</th>\n",
              "      <th>Rainfall_mm</th>\n",
              "      <th>Snow_depth_cm</th>\n",
              "      <th>Wind_m_s</th>\n",
              "      <th>High_wind</th>\n",
              "      <th>Day</th>\n",
              "    </tr>\n",
              "  </thead>\n",
              "  <tbody>\n",
              "    <tr>\n",
              "      <th>238</th>\n",
              "      <td>2021-08-27</td>\n",
              "      <td>13.7</td>\n",
              "      <td>18.1</td>\n",
              "      <td>15.3</td>\n",
              "      <td>16.0</td>\n",
              "      <td>NaN</td>\n",
              "      <td></td>\n",
              "      <td>NaN</td>\n",
              "      <td>NaN</td>\n",
              "      <td>27.0</td>\n",
              "    </tr>\n",
              "    <tr>\n",
              "      <th>239</th>\n",
              "      <td>2021-08-28</td>\n",
              "      <td>14.5</td>\n",
              "      <td>21.5</td>\n",
              "      <td>17.5</td>\n",
              "      <td>15.8</td>\n",
              "      <td>NaN</td>\n",
              "      <td></td>\n",
              "      <td>NaN</td>\n",
              "      <td>NaN</td>\n",
              "      <td>28.0</td>\n",
              "    </tr>\n",
              "    <tr>\n",
              "      <th>240</th>\n",
              "      <td>2021-08-29</td>\n",
              "      <td>12.4</td>\n",
              "      <td>25.1</td>\n",
              "      <td>18.7</td>\n",
              "      <td>15.7</td>\n",
              "      <td>NaN</td>\n",
              "      <td></td>\n",
              "      <td>NaN</td>\n",
              "      <td>NaN</td>\n",
              "      <td>29.0</td>\n",
              "    </tr>\n",
              "    <tr>\n",
              "      <th>241</th>\n",
              "      <td>2021-08-30</td>\n",
              "      <td>14.3</td>\n",
              "      <td>25.0</td>\n",
              "      <td>18.8</td>\n",
              "      <td>15.6</td>\n",
              "      <td>NaN</td>\n",
              "      <td></td>\n",
              "      <td>NaN</td>\n",
              "      <td>NaN</td>\n",
              "      <td>30.0</td>\n",
              "    </tr>\n",
              "    <tr>\n",
              "      <th>242</th>\n",
              "      <td>2021-08-31</td>\n",
              "      <td>13.8</td>\n",
              "      <td>24.7</td>\n",
              "      <td>18.8</td>\n",
              "      <td>15.4</td>\n",
              "      <td>NaN</td>\n",
              "      <td></td>\n",
              "      <td>NaN</td>\n",
              "      <td>NaN</td>\n",
              "      <td>31.0</td>\n",
              "    </tr>\n",
              "  </tbody>\n",
              "</table>\n",
              "</div>"
            ],
            "text/plain": [
              "          Dato Min_temp Max_temp  ... Wind_m_s High_wind   Day\n",
              "238 2021-08-27     13.7     18.1  ...      NaN       NaN  27.0\n",
              "239 2021-08-28     14.5     21.5  ...      NaN       NaN  28.0\n",
              "240 2021-08-29     12.4     25.1  ...      NaN       NaN  29.0\n",
              "241 2021-08-30     14.3     25.0  ...      NaN       NaN  30.0\n",
              "242 2021-08-31     13.8     24.7  ...      NaN       NaN  31.0\n",
              "\n",
              "[5 rows x 10 columns]"
            ]
          },
          "metadata": {},
          "execution_count": 14
        }
      ]
    },
    {
      "cell_type": "code",
      "metadata": {
        "colab": {
          "base_uri": "https://localhost:8080/"
        },
        "id": "tTR2YkeQxZqO",
        "outputId": "d0043c4b-c386-4b17-b1e3-52f44c676e2b"
      },
      "source": [
        "#Checking unique values from one column\n",
        "df3['Rainfall_mm'].unique()"
      ],
      "execution_count": 15,
      "outputs": [
        {
          "output_type": "execute_result",
          "data": {
            "text/plain": [
              "array([nan, '00', '05', '34', '17', '', '02', '01', '40', '87', '04',\n",
              "       '66', '63', '44', '03'], dtype=object)"
            ]
          },
          "metadata": {},
          "execution_count": 15
        }
      ]
    },
    {
      "cell_type": "code",
      "metadata": {
        "colab": {
          "base_uri": "https://localhost:8080/",
          "height": 17
        },
        "id": "_Ihbugu4zZ7C",
        "outputId": "53f89971-e54c-4d67-cf25-57841e250512"
      },
      "source": [
        "#Exporting to csv into local disk\n",
        "from google.colab import files\n",
        "df3.to_csv('2021_oslo_weather.csv', index=False) #==> Excluding index from file\n",
        "files.download('2021_oslo_weather.csv')"
      ],
      "execution_count": 16,
      "outputs": [
        {
          "output_type": "display_data",
          "data": {
            "application/javascript": [
              "\n",
              "    async function download(id, filename, size) {\n",
              "      if (!google.colab.kernel.accessAllowed) {\n",
              "        return;\n",
              "      }\n",
              "      const div = document.createElement('div');\n",
              "      const label = document.createElement('label');\n",
              "      label.textContent = `Downloading \"${filename}\": `;\n",
              "      div.appendChild(label);\n",
              "      const progress = document.createElement('progress');\n",
              "      progress.max = size;\n",
              "      div.appendChild(progress);\n",
              "      document.body.appendChild(div);\n",
              "\n",
              "      const buffers = [];\n",
              "      let downloaded = 0;\n",
              "\n",
              "      const channel = await google.colab.kernel.comms.open(id);\n",
              "      // Send a message to notify the kernel that we're ready.\n",
              "      channel.send({})\n",
              "\n",
              "      for await (const message of channel.messages) {\n",
              "        // Send a message to notify the kernel that we're ready.\n",
              "        channel.send({})\n",
              "        if (message.buffers) {\n",
              "          for (const buffer of message.buffers) {\n",
              "            buffers.push(buffer);\n",
              "            downloaded += buffer.byteLength;\n",
              "            progress.value = downloaded;\n",
              "          }\n",
              "        }\n",
              "      }\n",
              "      const blob = new Blob(buffers, {type: 'application/binary'});\n",
              "      const a = document.createElement('a');\n",
              "      a.href = window.URL.createObjectURL(blob);\n",
              "      a.download = filename;\n",
              "      div.appendChild(a);\n",
              "      a.click();\n",
              "      div.remove();\n",
              "    }\n",
              "  "
            ],
            "text/plain": [
              "<IPython.core.display.Javascript object>"
            ]
          },
          "metadata": {}
        },
        {
          "output_type": "display_data",
          "data": {
            "application/javascript": [
              "download(\"download_7d588663-e390-47ff-b7a1-30cfea5b83a3\", \"2021_oslo_weather.csv\", 9890)"
            ],
            "text/plain": [
              "<IPython.core.display.Javascript object>"
            ]
          },
          "metadata": {}
        }
      ]
    }
  ]
}