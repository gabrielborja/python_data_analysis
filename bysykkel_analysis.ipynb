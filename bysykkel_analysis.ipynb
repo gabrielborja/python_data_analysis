{
  "nbformat": 4,
  "nbformat_minor": 0,
  "metadata": {
    "colab": {
      "name": "bysykkel_analysis.ipynb",
      "provenance": [],
      "collapsed_sections": [
        "sgzkv1LwjLIL",
        "nFhbxv-B6dN7",
        "c8cFTBBCngUc",
        "Tbg_Y30tVHIR",
        "pQNqlam8VRBB",
        "j0mLBFdc9bqm",
        "ewlYx-sRZeTF",
        "EAhFcX_zD2KM",
        "EQ96RybtclrJ"
      ],
      "authorship_tag": "ABX9TyMfbF2eYit786yMdFnUU5PV",
      "include_colab_link": true
    },
    "kernelspec": {
      "name": "python3",
      "display_name": "Python 3"
    },
    "language_info": {
      "name": "python"
    },
    "widgets": {
      "application/vnd.jupyter.widget-state+json": {
        "427b830da497451d93cbc8ba8fc20bf6": {
          "model_module": "@jupyter-widgets/controls",
          "model_name": "VBoxModel",
          "state": {
            "_view_name": "VBoxView",
            "_dom_classes": [
              "widget-interact"
            ],
            "_model_name": "VBoxModel",
            "_view_module": "@jupyter-widgets/controls",
            "_model_module_version": "1.5.0",
            "_view_count": null,
            "_view_module_version": "1.5.0",
            "box_style": "",
            "layout": "IPY_MODEL_7837a7de3d7b45e493a64c2e1417f413",
            "_model_module": "@jupyter-widgets/controls",
            "children": [
              "IPY_MODEL_b05422a435ec4c46bb470c3237c25a1c",
              "IPY_MODEL_a25eaa7c5f8e446291e05b628e6d9ac3",
              "IPY_MODEL_c5e1efcc8c824ae8ac83413cc6aa95ae",
              "IPY_MODEL_666a400cd5174de786067ce85b43df12",
              "IPY_MODEL_2ac7df9726a6432bb7b93d3647045fc1"
            ]
          }
        },
        "7837a7de3d7b45e493a64c2e1417f413": {
          "model_module": "@jupyter-widgets/base",
          "model_name": "LayoutModel",
          "state": {
            "_view_name": "LayoutView",
            "grid_template_rows": null,
            "right": null,
            "justify_content": null,
            "_view_module": "@jupyter-widgets/base",
            "overflow": null,
            "_model_module_version": "1.2.0",
            "_view_count": null,
            "flex_flow": null,
            "width": null,
            "min_width": null,
            "border": null,
            "align_items": null,
            "bottom": null,
            "_model_module": "@jupyter-widgets/base",
            "top": null,
            "grid_column": null,
            "overflow_y": null,
            "overflow_x": null,
            "grid_auto_flow": null,
            "grid_area": null,
            "grid_template_columns": null,
            "flex": null,
            "_model_name": "LayoutModel",
            "justify_items": null,
            "grid_row": null,
            "max_height": null,
            "align_content": null,
            "visibility": null,
            "align_self": null,
            "height": null,
            "min_height": null,
            "padding": null,
            "grid_auto_rows": null,
            "grid_gap": null,
            "max_width": null,
            "order": null,
            "_view_module_version": "1.2.0",
            "grid_template_areas": null,
            "object_position": null,
            "object_fit": null,
            "grid_auto_columns": null,
            "margin": null,
            "display": null,
            "left": null
          }
        },
        "b05422a435ec4c46bb470c3237c25a1c": {
          "model_module": "@jupyter-widgets/controls",
          "model_name": "DropdownModel",
          "state": {
            "_options_labels": [
              "2020",
              "2021"
            ],
            "_view_name": "DropdownView",
            "style": "IPY_MODEL_b7ed8401563b467581638b0cf5597ba2",
            "_dom_classes": [],
            "description": "Year",
            "_model_name": "DropdownModel",
            "index": 0,
            "_view_module": "@jupyter-widgets/controls",
            "_model_module_version": "1.5.0",
            "_view_count": null,
            "disabled": false,
            "_view_module_version": "1.5.0",
            "description_tooltip": null,
            "_model_module": "@jupyter-widgets/controls",
            "layout": "IPY_MODEL_fe1f30fab7064fcf8cb6b4b484feafd2"
          }
        },
        "a25eaa7c5f8e446291e05b628e6d9ac3": {
          "model_module": "@jupyter-widgets/controls",
          "model_name": "DropdownModel",
          "state": {
            "_options_labels": [
              "January",
              "February",
              "March",
              "April",
              "May",
              "June",
              "July",
              "August",
              "September",
              "October",
              "November",
              "December"
            ],
            "_view_name": "DropdownView",
            "style": "IPY_MODEL_3459acdba16b4814916e32bf6646646b",
            "_dom_classes": [],
            "description": "Month",
            "_model_name": "DropdownModel",
            "index": 2,
            "_view_module": "@jupyter-widgets/controls",
            "_model_module_version": "1.5.0",
            "_view_count": null,
            "disabled": false,
            "_view_module_version": "1.5.0",
            "description_tooltip": null,
            "_model_module": "@jupyter-widgets/controls",
            "layout": "IPY_MODEL_bf8c35d752c84a888aa58f272f5c0651"
          }
        },
        "c5e1efcc8c824ae8ac83413cc6aa95ae": {
          "model_module": "@jupyter-widgets/controls",
          "model_name": "DropdownModel",
          "state": {
            "_options_labels": [
              "Starting_stations",
              "Destination_stations"
            ],
            "_view_name": "DropdownView",
            "style": "IPY_MODEL_7027e4f1cb0948b0a1b43db8e2e1f0f6",
            "_dom_classes": [],
            "description": "Category",
            "_model_name": "DropdownModel",
            "index": 0,
            "_view_module": "@jupyter-widgets/controls",
            "_model_module_version": "1.5.0",
            "_view_count": null,
            "disabled": false,
            "_view_module_version": "1.5.0",
            "description_tooltip": null,
            "_model_module": "@jupyter-widgets/controls",
            "layout": "IPY_MODEL_b3c296e4253746938e8127ae10933ffb"
          }
        },
        "666a400cd5174de786067ce85b43df12": {
          "model_module": "@jupyter-widgets/controls",
          "model_name": "DropdownModel",
          "state": {
            "_options_labels": [
              "5",
              "10",
              "15",
              "20",
              "25",
              "30",
              "35",
              "40",
              "45",
              "50",
              "55",
              "60",
              "65",
              "70",
              "75",
              "80",
              "85",
              "90",
              "95",
              "100",
              "105",
              "110",
              "115",
              "120",
              "125",
              "130",
              "135",
              "140",
              "145",
              "150",
              "155",
              "160",
              "165",
              "170",
              "175",
              "180",
              "185",
              "190",
              "195",
              "200",
              "205",
              "210",
              "215",
              "220",
              "225",
              "230",
              "235",
              "240",
              "245",
              "250"
            ],
            "_view_name": "DropdownView",
            "style": "IPY_MODEL_d333a32c899f4b7b9f510b906fb3e7f1",
            "_dom_classes": [],
            "description": "Stations",
            "_model_name": "DropdownModel",
            "index": 3,
            "_view_module": "@jupyter-widgets/controls",
            "_model_module_version": "1.5.0",
            "_view_count": null,
            "disabled": false,
            "_view_module_version": "1.5.0",
            "description_tooltip": null,
            "_model_module": "@jupyter-widgets/controls",
            "layout": "IPY_MODEL_da391f279ba14c60b94efce10fb41a53"
          }
        },
        "2ac7df9726a6432bb7b93d3647045fc1": {
          "model_module": "@jupyter-widgets/output",
          "model_name": "OutputModel",
          "state": {
            "_view_name": "OutputView",
            "msg_id": "",
            "_dom_classes": [],
            "_model_name": "OutputModel",
            "outputs": [
              {
                "output_type": "display_data",
                "metadata": {
                  "tags": []
                },
                "text/html": "<div style=\"width:100%;\"><div style=\"position:relative;width:100%;height:0;padding-bottom:60%;\"><span style=\"color:#565656\">Make this Notebook Trusted to load map: File -> Trust Notebook</span><iframe src=\"about:blank\" style=\"position:absolute;width:100%;height:100%;left:0;top:0;border:none !important;\" data-html=%3C%21DOCTYPE%20html%3E%0A%3Chead%3E%20%20%20%20%0A%20%20%20%20%3Cmeta%20http-equiv%3D%22content-type%22%20content%3D%22text/html%3B%20charset%3DUTF-8%22%20/%3E%0A%20%20%20%20%3Cscript%3EL_PREFER_CANVAS%3Dfalse%3B%20L_NO_TOUCH%3Dfalse%3B%20L_DISABLE_3D%3Dfalse%3B%3C/script%3E%0A%20%20%20%20%3Cscript%20src%3D%22https%3A//cdn.jsdelivr.net/npm/leaflet%401.4.0/dist/leaflet.js%22%3E%3C/script%3E%0A%20%20%20%20%3Cscript%20src%3D%22https%3A//code.jquery.com/jquery-1.12.4.min.js%22%3E%3C/script%3E%0A%20%20%20%20%3Cscript%20src%3D%22https%3A//maxcdn.bootstrapcdn.com/bootstrap/3.2.0/js/bootstrap.min.js%22%3E%3C/script%3E%0A%20%20%20%20%3Cscript%20src%3D%22https%3A//cdnjs.cloudflare.com/ajax/libs/Leaflet.awesome-markers/2.0.2/leaflet.awesome-markers.js%22%3E%3C/script%3E%0A%20%20%20%20%3Clink%20rel%3D%22stylesheet%22%20href%3D%22https%3A//cdn.jsdelivr.net/npm/leaflet%401.4.0/dist/leaflet.css%22/%3E%0A%20%20%20%20%3Clink%20rel%3D%22stylesheet%22%20href%3D%22https%3A//maxcdn.bootstrapcdn.com/bootstrap/3.2.0/css/bootstrap.min.css%22/%3E%0A%20%20%20%20%3Clink%20rel%3D%22stylesheet%22%20href%3D%22https%3A//maxcdn.bootstrapcdn.com/bootstrap/3.2.0/css/bootstrap-theme.min.css%22/%3E%0A%20%20%20%20%3Clink%20rel%3D%22stylesheet%22%20href%3D%22https%3A//maxcdn.bootstrapcdn.com/font-awesome/4.6.3/css/font-awesome.min.css%22/%3E%0A%20%20%20%20%3Clink%20rel%3D%22stylesheet%22%20href%3D%22https%3A//cdnjs.cloudflare.com/ajax/libs/Leaflet.awesome-markers/2.0.2/leaflet.awesome-markers.css%22/%3E%0A%20%20%20%20%3Clink%20rel%3D%22stylesheet%22%20href%3D%22https%3A//rawcdn.githack.com/python-visualization/folium/master/folium/templates/leaflet.awesome.rotate.css%22/%3E%0A%20%20%20%20%3Cstyle%3Ehtml%2C%20body%20%7Bwidth%3A%20100%25%3Bheight%3A%20100%25%3Bmargin%3A%200%3Bpadding%3A%200%3B%7D%3C/style%3E%0A%20%20%20%20%3Cstyle%3E%23map%20%7Bposition%3Aabsolute%3Btop%3A0%3Bbottom%3A0%3Bright%3A0%3Bleft%3A0%3B%7D%3C/style%3E%0A%20%20%20%20%0A%20%20%20%20%3Cmeta%20name%3D%22viewport%22%20content%3D%22width%3Ddevice-width%2C%0A%20%20%20%20%20%20%20%20initial-scale%3D1.0%2C%20maximum-scale%3D1.0%2C%20user-scalable%3Dno%22%20/%3E%0A%20%20%20%20%3Cstyle%3E%23map_e322b8963f1542fcab730856f3fbbb53%20%7B%0A%20%20%20%20%20%20%20%20position%3A%20relative%3B%0A%20%20%20%20%20%20%20%20width%3A%20100.0%25%3B%0A%20%20%20%20%20%20%20%20height%3A%20100.0%25%3B%0A%20%20%20%20%20%20%20%20left%3A%200.0%25%3B%0A%20%20%20%20%20%20%20%20top%3A%200.0%25%3B%0A%20%20%20%20%20%20%20%20%7D%0A%20%20%20%20%3C/style%3E%0A%20%20%20%20%3Cscript%20src%3D%22https%3A//leaflet.github.io/Leaflet.heat/dist/leaflet-heat.js%22%3E%3C/script%3E%0A%3C/head%3E%0A%3Cbody%3E%20%20%20%20%0A%20%20%20%20%0A%20%20%20%20%3Cdiv%20class%3D%22folium-map%22%20id%3D%22map_e322b8963f1542fcab730856f3fbbb53%22%20%3E%3C/div%3E%0A%3C/body%3E%0A%3Cscript%3E%20%20%20%20%0A%20%20%20%20%0A%20%20%20%20%0A%20%20%20%20%20%20%20%20var%20bounds%20%3D%20null%3B%0A%20%20%20%20%0A%0A%20%20%20%20var%20map_e322b8963f1542fcab730856f3fbbb53%20%3D%20L.map%28%0A%20%20%20%20%20%20%20%20%27map_e322b8963f1542fcab730856f3fbbb53%27%2C%20%7B%0A%20%20%20%20%20%20%20%20center%3A%20%5B59.92%2C%2010.75%5D%2C%0A%20%20%20%20%20%20%20%20zoom%3A%2013%2C%0A%20%20%20%20%20%20%20%20maxBounds%3A%20bounds%2C%0A%20%20%20%20%20%20%20%20layers%3A%20%5B%5D%2C%0A%20%20%20%20%20%20%20%20worldCopyJump%3A%20false%2C%0A%20%20%20%20%20%20%20%20crs%3A%20L.CRS.EPSG3857%2C%0A%20%20%20%20%20%20%20%20zoomControl%3A%20true%2C%0A%20%20%20%20%20%20%20%20%7D%29%3B%0A%0A%0A%20%20%20%20%0A%20%20%20%20var%20tile_layer_ede237d66a96430ea18c0e0486214bad%20%3D%20L.tileLayer%28%0A%20%20%20%20%20%20%20%20%27https%3A//%7Bs%7D.tile.openstreetmap.org/%7Bz%7D/%7Bx%7D/%7By%7D.png%27%2C%0A%20%20%20%20%20%20%20%20%7B%0A%20%20%20%20%20%20%20%20%22attribution%22%3A%20null%2C%0A%20%20%20%20%20%20%20%20%22detectRetina%22%3A%20false%2C%0A%20%20%20%20%20%20%20%20%22maxNativeZoom%22%3A%2018%2C%0A%20%20%20%20%20%20%20%20%22maxZoom%22%3A%2018%2C%0A%20%20%20%20%20%20%20%20%22minZoom%22%3A%200%2C%0A%20%20%20%20%20%20%20%20%22noWrap%22%3A%20false%2C%0A%20%20%20%20%20%20%20%20%22opacity%22%3A%201%2C%0A%20%20%20%20%20%20%20%20%22subdomains%22%3A%20%22abc%22%2C%0A%20%20%20%20%20%20%20%20%22tms%22%3A%20false%0A%7D%29.addTo%28map_e322b8963f1542fcab730856f3fbbb53%29%3B%0A%20%20%20%20%0A%20%20%20%20%20%20%20%20%20%20%20%20var%20heat_map_fd7bd3aa6cf64df6b568c97588882c99%20%3D%20L.heatLayer%28%0A%20%20%20%20%20%20%20%20%20%20%20%20%20%20%20%20%5B%5B59.92843404417578%2C%2010.75943014633117%2C%20463.0%5D%2C%20%5B59.928066706156855%2C%2010.751202636819613%2C%20452.0%5D%2C%20%5B59.90946700000001%2C%2010.722509%2C%20395.0%5D%2C%20%5B59.90580676630004%2C%2010.753656509579287%2C%20376.0%5D%2C%20%5B59.925471317049954%2C%2010.73121932213806%2C%20373.0%5D%2C%20%5B59.9108469%2C%2010.7303766%2C%20369.0%5D%2C%20%5B59.922425%2C%2010.758182000000001%2C%20364.0%5D%2C%20%5B59.898126%2C%2010.675096%2C%20356.0%5D%2C%20%5B59.94671044754387%2C%2010.773805285879133%2C%20318.0%5D%2C%20%5B59.912110899999995%2C%2010.7661939%2C%20296.0%5D%2C%20%5B59.904472999999996%2C%2010.786166999999999%2C%20267.0%5D%2C%20%5B59.929044999999995%2C%2010.716925999999999%2C%20265.0%5D%2C%20%5B59.90321254732584%2C%2010.7673442932541%2C%20259.0%5D%2C%20%5B59.91300035973293%2C%2010.746760585982287%2C%20258.0%5D%2C%20%5B59.920334999999994%2C%2010.760803999999998%2C%20257.0%5D%2C%20%5B59.919463%2C%2010.743829%2C%20255.0%5D%2C%20%5B59.92473199999999%2C%2010.724628%2C%20253.0%5D%2C%20%5B59.9360307%2C%2010.7364516%2C%20253.0%5D%2C%20%5B59.94377753936722%2C%2010.76012112757796%2C%20248.0%5D%2C%20%5B59.91494300000001%2C%2010.773977%2C%20243.0%5D%5D%2C%0A%20%20%20%20%20%20%20%20%20%20%20%20%20%20%20%20%7B%0A%20%20%20%20%20%20%20%20%20%20%20%20%20%20%20%20%20%20%20%20minOpacity%3A%200.5%2C%0A%20%20%20%20%20%20%20%20%20%20%20%20%20%20%20%20%20%20%20%20maxZoom%3A%2018%2C%0A%20%20%20%20%20%20%20%20%20%20%20%20%20%20%20%20%20%20%20%20max%3A%201.0%2C%0A%20%20%20%20%20%20%20%20%20%20%20%20%20%20%20%20%20%20%20%20radius%3A%2025%2C%0A%20%20%20%20%20%20%20%20%20%20%20%20%20%20%20%20%20%20%20%20blur%3A%2015%2C%0A%20%20%20%20%20%20%20%20%20%20%20%20%20%20%20%20%20%20%20%20gradient%3A%20null%0A%20%20%20%20%20%20%20%20%20%20%20%20%20%20%20%20%20%20%20%20%7D%29%0A%20%20%20%20%20%20%20%20%20%20%20%20%20%20%20%20.addTo%28map_e322b8963f1542fcab730856f3fbbb53%29%3B%0A%20%20%20%20%20%20%20%20%0A%3C/script%3E onload=\"this.contentDocument.open();this.contentDocument.write(    decodeURIComponent(this.getAttribute('data-html')));this.contentDocument.close();\" allowfullscreen webkitallowfullscreen mozallowfullscreen></iframe></div></div>",
                "text/plain": "<folium.folium.Map at 0x7fbdd0ba99d0>"
              }
            ],
            "_view_module": "@jupyter-widgets/output",
            "_model_module_version": "1.0.0",
            "_view_count": null,
            "_view_module_version": "1.0.0",
            "layout": "IPY_MODEL_9ac5020f573649a0a2849afffdb9ed47",
            "_model_module": "@jupyter-widgets/output"
          }
        },
        "b7ed8401563b467581638b0cf5597ba2": {
          "model_module": "@jupyter-widgets/controls",
          "model_name": "DescriptionStyleModel",
          "state": {
            "_view_name": "StyleView",
            "_model_name": "DescriptionStyleModel",
            "description_width": "",
            "_view_module": "@jupyter-widgets/base",
            "_model_module_version": "1.5.0",
            "_view_count": null,
            "_view_module_version": "1.2.0",
            "_model_module": "@jupyter-widgets/controls"
          }
        },
        "fe1f30fab7064fcf8cb6b4b484feafd2": {
          "model_module": "@jupyter-widgets/base",
          "model_name": "LayoutModel",
          "state": {
            "_view_name": "LayoutView",
            "grid_template_rows": null,
            "right": null,
            "justify_content": null,
            "_view_module": "@jupyter-widgets/base",
            "overflow": null,
            "_model_module_version": "1.2.0",
            "_view_count": null,
            "flex_flow": null,
            "width": null,
            "min_width": null,
            "border": null,
            "align_items": null,
            "bottom": null,
            "_model_module": "@jupyter-widgets/base",
            "top": null,
            "grid_column": null,
            "overflow_y": null,
            "overflow_x": null,
            "grid_auto_flow": null,
            "grid_area": null,
            "grid_template_columns": null,
            "flex": null,
            "_model_name": "LayoutModel",
            "justify_items": null,
            "grid_row": null,
            "max_height": null,
            "align_content": null,
            "visibility": null,
            "align_self": null,
            "height": null,
            "min_height": null,
            "padding": null,
            "grid_auto_rows": null,
            "grid_gap": null,
            "max_width": null,
            "order": null,
            "_view_module_version": "1.2.0",
            "grid_template_areas": null,
            "object_position": null,
            "object_fit": null,
            "grid_auto_columns": null,
            "margin": null,
            "display": null,
            "left": null
          }
        },
        "3459acdba16b4814916e32bf6646646b": {
          "model_module": "@jupyter-widgets/controls",
          "model_name": "DescriptionStyleModel",
          "state": {
            "_view_name": "StyleView",
            "_model_name": "DescriptionStyleModel",
            "description_width": "",
            "_view_module": "@jupyter-widgets/base",
            "_model_module_version": "1.5.0",
            "_view_count": null,
            "_view_module_version": "1.2.0",
            "_model_module": "@jupyter-widgets/controls"
          }
        },
        "bf8c35d752c84a888aa58f272f5c0651": {
          "model_module": "@jupyter-widgets/base",
          "model_name": "LayoutModel",
          "state": {
            "_view_name": "LayoutView",
            "grid_template_rows": null,
            "right": null,
            "justify_content": null,
            "_view_module": "@jupyter-widgets/base",
            "overflow": null,
            "_model_module_version": "1.2.0",
            "_view_count": null,
            "flex_flow": null,
            "width": null,
            "min_width": null,
            "border": null,
            "align_items": null,
            "bottom": null,
            "_model_module": "@jupyter-widgets/base",
            "top": null,
            "grid_column": null,
            "overflow_y": null,
            "overflow_x": null,
            "grid_auto_flow": null,
            "grid_area": null,
            "grid_template_columns": null,
            "flex": null,
            "_model_name": "LayoutModel",
            "justify_items": null,
            "grid_row": null,
            "max_height": null,
            "align_content": null,
            "visibility": null,
            "align_self": null,
            "height": null,
            "min_height": null,
            "padding": null,
            "grid_auto_rows": null,
            "grid_gap": null,
            "max_width": null,
            "order": null,
            "_view_module_version": "1.2.0",
            "grid_template_areas": null,
            "object_position": null,
            "object_fit": null,
            "grid_auto_columns": null,
            "margin": null,
            "display": null,
            "left": null
          }
        },
        "7027e4f1cb0948b0a1b43db8e2e1f0f6": {
          "model_module": "@jupyter-widgets/controls",
          "model_name": "DescriptionStyleModel",
          "state": {
            "_view_name": "StyleView",
            "_model_name": "DescriptionStyleModel",
            "description_width": "",
            "_view_module": "@jupyter-widgets/base",
            "_model_module_version": "1.5.0",
            "_view_count": null,
            "_view_module_version": "1.2.0",
            "_model_module": "@jupyter-widgets/controls"
          }
        },
        "b3c296e4253746938e8127ae10933ffb": {
          "model_module": "@jupyter-widgets/base",
          "model_name": "LayoutModel",
          "state": {
            "_view_name": "LayoutView",
            "grid_template_rows": null,
            "right": null,
            "justify_content": null,
            "_view_module": "@jupyter-widgets/base",
            "overflow": null,
            "_model_module_version": "1.2.0",
            "_view_count": null,
            "flex_flow": null,
            "width": null,
            "min_width": null,
            "border": null,
            "align_items": null,
            "bottom": null,
            "_model_module": "@jupyter-widgets/base",
            "top": null,
            "grid_column": null,
            "overflow_y": null,
            "overflow_x": null,
            "grid_auto_flow": null,
            "grid_area": null,
            "grid_template_columns": null,
            "flex": null,
            "_model_name": "LayoutModel",
            "justify_items": null,
            "grid_row": null,
            "max_height": null,
            "align_content": null,
            "visibility": null,
            "align_self": null,
            "height": null,
            "min_height": null,
            "padding": null,
            "grid_auto_rows": null,
            "grid_gap": null,
            "max_width": null,
            "order": null,
            "_view_module_version": "1.2.0",
            "grid_template_areas": null,
            "object_position": null,
            "object_fit": null,
            "grid_auto_columns": null,
            "margin": null,
            "display": null,
            "left": null
          }
        },
        "d333a32c899f4b7b9f510b906fb3e7f1": {
          "model_module": "@jupyter-widgets/controls",
          "model_name": "DescriptionStyleModel",
          "state": {
            "_view_name": "StyleView",
            "_model_name": "DescriptionStyleModel",
            "description_width": "",
            "_view_module": "@jupyter-widgets/base",
            "_model_module_version": "1.5.0",
            "_view_count": null,
            "_view_module_version": "1.2.0",
            "_model_module": "@jupyter-widgets/controls"
          }
        },
        "da391f279ba14c60b94efce10fb41a53": {
          "model_module": "@jupyter-widgets/base",
          "model_name": "LayoutModel",
          "state": {
            "_view_name": "LayoutView",
            "grid_template_rows": null,
            "right": null,
            "justify_content": null,
            "_view_module": "@jupyter-widgets/base",
            "overflow": null,
            "_model_module_version": "1.2.0",
            "_view_count": null,
            "flex_flow": null,
            "width": null,
            "min_width": null,
            "border": null,
            "align_items": null,
            "bottom": null,
            "_model_module": "@jupyter-widgets/base",
            "top": null,
            "grid_column": null,
            "overflow_y": null,
            "overflow_x": null,
            "grid_auto_flow": null,
            "grid_area": null,
            "grid_template_columns": null,
            "flex": null,
            "_model_name": "LayoutModel",
            "justify_items": null,
            "grid_row": null,
            "max_height": null,
            "align_content": null,
            "visibility": null,
            "align_self": null,
            "height": null,
            "min_height": null,
            "padding": null,
            "grid_auto_rows": null,
            "grid_gap": null,
            "max_width": null,
            "order": null,
            "_view_module_version": "1.2.0",
            "grid_template_areas": null,
            "object_position": null,
            "object_fit": null,
            "grid_auto_columns": null,
            "margin": null,
            "display": null,
            "left": null
          }
        },
        "9ac5020f573649a0a2849afffdb9ed47": {
          "model_module": "@jupyter-widgets/base",
          "model_name": "LayoutModel",
          "state": {
            "_view_name": "LayoutView",
            "grid_template_rows": null,
            "right": null,
            "justify_content": null,
            "_view_module": "@jupyter-widgets/base",
            "overflow": null,
            "_model_module_version": "1.2.0",
            "_view_count": null,
            "flex_flow": null,
            "width": null,
            "min_width": null,
            "border": null,
            "align_items": null,
            "bottom": null,
            "_model_module": "@jupyter-widgets/base",
            "top": null,
            "grid_column": null,
            "overflow_y": null,
            "overflow_x": null,
            "grid_auto_flow": null,
            "grid_area": null,
            "grid_template_columns": null,
            "flex": null,
            "_model_name": "LayoutModel",
            "justify_items": null,
            "grid_row": null,
            "max_height": null,
            "align_content": null,
            "visibility": null,
            "align_self": null,
            "height": null,
            "min_height": null,
            "padding": null,
            "grid_auto_rows": null,
            "grid_gap": null,
            "max_width": null,
            "order": null,
            "_view_module_version": "1.2.0",
            "grid_template_areas": null,
            "object_position": null,
            "object_fit": null,
            "grid_auto_columns": null,
            "margin": null,
            "display": null,
            "left": null
          }
        },
        "3f6f229fedb540d1bc8bc454c74cff41": {
          "model_module": "@jupyter-widgets/controls",
          "model_name": "VBoxModel",
          "state": {
            "_view_name": "VBoxView",
            "_dom_classes": [
              "widget-interact"
            ],
            "_model_name": "VBoxModel",
            "_view_module": "@jupyter-widgets/controls",
            "_model_module_version": "1.5.0",
            "_view_count": null,
            "_view_module_version": "1.5.0",
            "box_style": "",
            "layout": "IPY_MODEL_76211fc92bd747b68c3a740cbcced85f",
            "_model_module": "@jupyter-widgets/controls",
            "children": [
              "IPY_MODEL_1ffd9052c5a34f41825099cf7ce40540",
              "IPY_MODEL_10e433ce57b5441abdca701140e31498",
              "IPY_MODEL_e3e7c63a91e84fed8de9f4c75927e514"
            ]
          }
        },
        "76211fc92bd747b68c3a740cbcced85f": {
          "model_module": "@jupyter-widgets/base",
          "model_name": "LayoutModel",
          "state": {
            "_view_name": "LayoutView",
            "grid_template_rows": null,
            "right": null,
            "justify_content": null,
            "_view_module": "@jupyter-widgets/base",
            "overflow": null,
            "_model_module_version": "1.2.0",
            "_view_count": null,
            "flex_flow": null,
            "width": null,
            "min_width": null,
            "border": null,
            "align_items": null,
            "bottom": null,
            "_model_module": "@jupyter-widgets/base",
            "top": null,
            "grid_column": null,
            "overflow_y": null,
            "overflow_x": null,
            "grid_auto_flow": null,
            "grid_area": null,
            "grid_template_columns": null,
            "flex": null,
            "_model_name": "LayoutModel",
            "justify_items": null,
            "grid_row": null,
            "max_height": null,
            "align_content": null,
            "visibility": null,
            "align_self": null,
            "height": null,
            "min_height": null,
            "padding": null,
            "grid_auto_rows": null,
            "grid_gap": null,
            "max_width": null,
            "order": null,
            "_view_module_version": "1.2.0",
            "grid_template_areas": null,
            "object_position": null,
            "object_fit": null,
            "grid_auto_columns": null,
            "margin": null,
            "display": null,
            "left": null
          }
        },
        "1ffd9052c5a34f41825099cf7ce40540": {
          "model_module": "@jupyter-widgets/controls",
          "model_name": "DropdownModel",
          "state": {
            "_options_labels": [
              "2020",
              "2021"
            ],
            "_view_name": "DropdownView",
            "style": "IPY_MODEL_f512160db2284a4192d922e35c9d3e07",
            "_dom_classes": [],
            "description": "Year",
            "_model_name": "DropdownModel",
            "index": 0,
            "_view_module": "@jupyter-widgets/controls",
            "_model_module_version": "1.5.0",
            "_view_count": null,
            "disabled": false,
            "_view_module_version": "1.5.0",
            "description_tooltip": null,
            "_model_module": "@jupyter-widgets/controls",
            "layout": "IPY_MODEL_30268bcb861847419d9849c011af6dd4"
          }
        },
        "10e433ce57b5441abdca701140e31498": {
          "model_module": "@jupyter-widgets/controls",
          "model_name": "DropdownModel",
          "state": {
            "_options_labels": [
              "January",
              "February",
              "March",
              "April",
              "May",
              "June",
              "July",
              "August",
              "September",
              "October",
              "November",
              "December"
            ],
            "_view_name": "DropdownView",
            "style": "IPY_MODEL_71bd92f4432e4cae91d163438fa129cd",
            "_dom_classes": [],
            "description": "Month",
            "_model_name": "DropdownModel",
            "index": 2,
            "_view_module": "@jupyter-widgets/controls",
            "_model_module_version": "1.5.0",
            "_view_count": null,
            "disabled": false,
            "_view_module_version": "1.5.0",
            "description_tooltip": null,
            "_model_module": "@jupyter-widgets/controls",
            "layout": "IPY_MODEL_21531da0bd6949339e4700aa5db14080"
          }
        },
        "e3e7c63a91e84fed8de9f4c75927e514": {
          "model_module": "@jupyter-widgets/output",
          "model_name": "OutputModel",
          "state": {
            "_view_name": "OutputView",
            "msg_id": "",
            "_dom_classes": [],
            "_model_name": "OutputModel",
            "outputs": [
              {
                "output_type": "display_data",
                "metadata": {
                  "tags": [],
                  "needs_background": "light"
                },
                "image/png": "iVBORw0KGgoAAAANSUhEUgAABZEAAALECAYAAAB5U34MAAAABHNCSVQICAgIfAhkiAAAAAlwSFlzAAALEgAACxIB0t1+/AAAADh0RVh0U29mdHdhcmUAbWF0cGxvdGxpYiB2ZXJzaW9uMy4yLjIsIGh0dHA6Ly9tYXRwbG90bGliLm9yZy+WH4yJAAAgAElEQVR4nOzde9wnY/3H8dfb+XwWIpZUKpVTCmELRSUU+aFYneuXn04qldqfDr+EUlQ60BKFFHIoEeuUckio5FAWFSLrsI7h8/vjc417dnbme3+/99679x7ez8djHt/7nrlm5vrOzHfmms9cc12KCMzMzMzMzMzMzMzM2iww1hkwMzMzMzMzMzMzszmXg8hmZmZmZmZmZmZm1slBZDMzMzMzMzMzMzPr5CCymZmZmZmZmZmZmXVyENnMzMzMzMzMzMzMOjmIbGZmZmZmZmZmZmadHEQ2MzOzWU7SBEkhafKA800q802cNTmbYX1TyvrGz471jbXyXUPSuBHMO19tqzpJk8t3nzDWeZlXjfScYTNndp9zzczMbO7hILKZmdkYq920N4enJN0n6VJJH5G0+Fjn1dpJmtiy/56UNFXSrZLOkXSwpJeMdV5t7idpE0nHSLpR0sOSHi1B/d9IOkLSzpKWbJlvYhmWG4t81/LxoZKPcWOZj1lB0kIlAP5LSXdKeqKcB26QdLakT0ratGW+Dco2mTCL8rVctf9nxfLNzMxs3rfQWGfAzMzMnvEf4L7a/4sBywNblOGdksZHxD1jkTnry9NAff8sDYwrww7AQZIuAN4VEbfO9tzZXE/SwcBnAJVRTwP3A88G1gI2A/YHdgFOb8z+ufI5qcwzVj5E5nUyMKUjzQPAjcDtsydLM0/SysA5wCa10Y+R++oFwHrA68nv1gzkb0Dun4vI/TPalmNo/0/ske5OcrvfOwvyYGZmZnMx10Q2MzObc/wmIlatDcuRN/4fIwNFLwK+PKY5tOHc0diHSwJLAeOB7wFPAK8B/iDppWOYT5sLSdoDOIgMSp5CBisXjYgVgcWBlwAfB/44ZpkcJRFxWkSsFxF7j3VeBnACuU8eIvfDahGxeDmXLwtsB3yLsQ3g9xQRB5btftRY58XMzMzmLK6JbGZmNgeLiAeAwyW9AHg3sOMYZ8kGFBEPk7ULL5L0XbKm4srAzyWtFxGPjWkGbW6yf/k8OyJ2r0+IiKfI4PEfgUMlLTa7Mzc/k7Qe8Nry7zsi4tT69Ih4CDgfOF/SR2d3/szMzMxmlmsim5mZzR2uK5/TtXMq6djS/u6pLfPU0/1vSfebxvhnSTpU0h9L26qPSbqjtK16sKS1SjpJuqUs44PDrOuiku5L/X45SW+X9B9JT0t6f5/zLCDpW2VdUyVt1pg+TtKRpd3YRyQ9JOlqSZ9oay92doiIq4B9y79rkQ8GpiNpI0lfLm1h3y7pcUn/Lp25vUvSgl3Ll7S1pFMl/b20xfqApJslnS7pvZI6y36S1pT0vTLv46Ut58MkLTPc9yrzfr8cO4/V5l12mPk2lHRCme9xSfdKOlfSW3rMs5KkD0g6Q9Jfyn59WNKfJX1V0rM75htXjpUo/7+ybKs7le2PH9FIv72kC8o2fFDSbyW9fbhtMYtVbWqfNVzC+sMJlXbXa5Nv1fTtd0+qpV1U0m6Sjpd0bdknj0m6TdKJkjbuWqdqnS1KWr38Pv9W9u0fVNoOJ499gAsb+ZhcW1Znx3qN9axQ9vutZT3/KMfxar22j6R9JP2uHDv3SbpQ0huby++5kadXb++85/5pPjgq2+QH5d+tNWP76uNradeQ9DFlm8s3K89tD0q6Rnmen6G967INb63931z+xNq0nh3rlePjI2XbPaBsj/vGsg9W7Zhnun0paceyve+XNK38tvbo2l6S1pb0bUk3lfU9Uo7HyZIOlLRS17xmZmY2elwT2czMbO5QBShuaYz/PhmU3FHSihHx7+aMysDhPuXfY2vj1wIuB6pgy1PAg8DqwBpk26r/BI6OiJB0LPDFsr7WV50lPRfYsvz7g7Y0LfP8N3BkWf/eEXFCH/MsBBwH7An8C3htRFxbm/5m4ESyXWmAR4BFgY3KsJek7SLi7n7yOJoi4mxJfyDbQN2T/O51vwJWLH8/UoYVgK3LsIuknSLiyfpMkt4DfKc26hFgQWDdMuxEbrO2ms8vI4+NFchX8Rcg23H+KBnU2jwi/tPxldYlm1ZYGZgGRG3enSRtFRF3Nmcq+f02Q5Ua7iebb3kt8FpJJwATSg3buk+WZQM8SR6zywIvLMPbJG0bEdfRQdLuZNMDC5Ht0z7VmH4A8JXyb5Q0LweOl7RB13Jno9UHTP8AcDewSvn/Xqb/zg/U/t6O3J+Q3/3+8rkmeby+VdI7IuKHPdb3fOAnwErkcVgdO9NKPlYm9/tUsomXSr1N+H6sQbYfvFZZT5BtQ78L2FbSRhExtTmTpO+VNJBNBT1B/rbGS/rQgHloszrw1wHS3002R7IMM7aND9NvoyOAt9TGTyN/NxuUYS9l2/l/r81zH7nPq2Br87w3rZ9MKtt8PhfYsIx6vOTh+WWYIOn1EfHbHss4CDiY3O4PkQ9GXwH8SNIqEdF8mLMR2Xb20mXUf4CHyeNxTXK/XQP8sp/vYGZmZiPnmshmZmZzMEnLlKBGFfD4Wn16RPwG+DOwCLBXx2JeQwZZHgZOro3/HBlAvgXYClgkIlZgqG3VLwB31dJPIgNPG6m7Pd99yfZaL4mIm/v4fp8mA9JPALv2GUBeDPgZGdC6A9iyEUB+OXASGSD8IrBGaZt4cWBz4Kry/Y4fbl2z0C/K58aSFm9M+xWwB9me6pIRsTzZrvLbyf3xeuDD9RkkLQEcXv49FlizzLsUGZDeAfgxGbhpMwn4A/CSiFimrO+dZJBoE1pqTNccRgYht4yIpcmg0M5k0GpdMnA9HUmbMxRAPhV4Tvmey5GdxgXwNuDAlvXdDnwKeCmweGkPeNGSz3PJAOWPJKll3sr3gTOAtUt7tUuQwTkkvQo4pKQ7AXh2yduKZGD5I2SwbixcVT73k7Rlz5Q1EbF/RNRrib680Xb3/rVp04BvkOeEpSJihYhYnDyHHEH+rr4rac0eqzyc7KBti9pxuGtEHFbycUdJ9+ZGPt7c73cqjiQD0ZvX2h/fiQx8j6Pl+JG0L0Pn0/8DVij7d1XgGOBQ8hga1NW1v79ZAq59Kduk2gfNtvFXLef5yg3A/5BB2+r4X4xsd/1K4LlM/zCJsl1fXl9fYzisz6weTwaQpwJvBZYs54uXA9eTHcGe3qNmcNV54EHAiuW3typ5DgD4P0krNOY5jAwg/w7YKCIWKftrybLeI5j+IYiZmZnNKhHhwYMHDx48eBjDgQzgBRlIvas2VDUAA/g98PaO+T9c0lzTMf1HZfqkxvg/l/G7D5DXM8o8X2uZtgAZHAqyBml92oQyfnJt3KFl3DRgm2G2zcTy/9LAhWXcTWSwtDnPpWX6ezuWuQJZwzqATRrTppTx4wfchxPLfFP6TL9Hbd8+b4D1bFnmubUxftPatlxwgOVVefgj2UFbc/qRZfoFLdOqbfUosG7L9FfXlv+qxrRfl/GXtuUX+FKZ/hCwzADfZ1HgT2XerRvTxtXycymwQMcyqrxdAKhl+vdry5nQb95GYwC2JR/kVOu/ATiaDPiv35bfjv09bibycExZxud6HBNTgVV6LGPY3xkt54yW+e8ig5HN6R8t0//WGC+yWYcAvtux3rNr26kzfx3zHleb93GyDeQvkIHtlYeZt/P7DrD+Fcg3M55u7uP68T/MMiZRO+fWxm9Z+26va5lvFbLGcwAHd3y3AD7dMu/iJd9Bvo1Sn1bVMH/FSLeLBw8ePHjw4GF0BtdENjMzm3MsTN6IV0O9PdkVgGd11K48ngxAbyBpw/qE0j7mLuXfYxvzPVg+e7Yd2vD98vk2SQs3pm1Hvl7+EPkqeytlW8bfAz5GBsq3i4hfD7diSSuSAb7xZBvRW0bE7Y00zwW2KMs9pm05EXEfQzWBtxtuvbNI/RX7Zs27ThFxCaWWpaZv+7falwsz1BTGIL4aEY+3jD+9fK7fY95TIqLZzAoRcSFQ1aDctRpfahq+uvz7fzFjcxWQNYEfI2uWvn6YvNfX+ThwXvl3ix5JD4+IGWplN/J2SEREy7x9t/U92iLifLKW921l1HrAe8nf5fXAnco2zkdyDPTrzPLZa/seH7OnqZjvRksTPgwdt2tr+vbPNyKDqTDUXEnTIR3j+/Fu4Kvk+XgRYBvg0yU//5J0haS9hqklP2Ll3PYbMli++SgvvvoNXxUR57as+27ygQZkLeU2j1Fq/DfmfZR8iwBmPNeM5DplZmZms4CDyGZmZnOOiyJC1UC+Nr4O8AEymHYYQ0HcZ5QgShU02bcxeQ/yVeebI+LixrRzyuchkr4p6dUtTSs0nUPW4l0J2LEx7R3l8+SIeLhj/oXJZhXeRdY8Gx8Rlw+zTsh2Ti8iX1/+bZmvLUhVBU6WAv4u6a62Adi9pHtOH+ue7ZQdm52u7Fjv0XonWGSTD5DbpHJzGRYBLpf0YUnrDRCsurJj/D/K5/I95p3cY9pF5XOj2rgNySBX1KZPJyIeYKh5gI2a08t3O0rSdcpOxZ6ubZ+qWYDWDvaKrmOuytvTZG3ltrz9jaHmGGa7iDiTbCbkDcDXyd/DI2XyKuTDmWslrTfSdSg7qztI2cHmvyU9Wdu+p5VkI9m+o2244xaGfi8w1JbvXW0PPorfMtSG80Ai4omI+Ch5Xnkfea67mTzWIc9fJwAnq0cnl8ORtKmyU9W/lI7p6ueHnUqyXvtnJKrf4YU90lxQPp+v9s5L/9zj2tB1rqmuU8crOxx9ZcsDTDMzM5sNHEQ2MzObQ0XEUxFxa0R8m6H2jt9R2mxtqoLLe0papDa+Cuz+oGWeQ4Cfk4HHD5ABgAdL4OiAUot5hjyRrztDLWBdanBWwYtmjee6zRmqpbZr1NoyHsa7gReTNXi3j5bOsoqqttpCTF+ruzlUAY4l+lz/aKsHSp7pREvSQpJ+RnZsthMZjBLZvvDdZahq0D4TpCn7ZU8yELMOWRvyBuBeST+R9KZhAsoPdYyvOuHr1RnzP/qYVm8ftvr7gYjo1aFX1THYdG3LSvovsib6f5NtWy/JUMdxd5Ntf0Nt+7S4p2N8PW9dwS7o/Z1bSfpZx0ONrw+6rIh4MiLOiYgPRcRm5PG0HXBWSbI6w7cL3ZXPF5FN3RxMdq65Ahmk/he5favf3ki272hrPW4jot55ZD3gWLXVO0NHj7V5nwDaajf3LSL+FRHfiYg9I+L55Hnp3Qw9fNgN2G8ky5b0MTLQvS/wAvIh4VSGjv/qu/faPyNR/TZ6HfvVb1YMbeu6rvMMDOW7GSA+gKxdvTTwCfIBxYOSLpD0/j4efJqZmdkocRDZzMxsLlBeH646uWt7Vfh8sq3PFYE3AUhan+xs7ClaOjeLiMcjYicyUPQVMjARtf9vkvSylnVVbaJuL6nqrGtPsj3aG4apWXw9GaAC+FaPDpiaziEDEMuX+brKMNX4a+u1unsME/pc/2h7Sfn8D0OBF8hA0y5k0O5/yA7nFouIlaN0gkXWBIcM1DwjIq4Cnkd2SHc88DcyALgr2Zb12ZIWnEXfZyQWHXSG0lnZ98hA08nk8b1YRCxf2z5V55OdAdSOJjRmtRVof6CxbK+Z+lFqwJ4fETsy1IzLhoysA8AflHz9HtgeWDoilomIVcr23a2k6xWgHovtO8eKiLsj4vtkbd7qDYp39JillaQXkw//RHZI+mKyLfMVasd/1UndLGkygwxazzblTZtXkQ9JvgFcQz74fDXwLeCPktaYnXkyMzObXzmIbGZmNveo2v9dpzmhtN1a1QCuaghXQYpzI+KfzXlq8/42Ij5Rq9G4R1nXyrQ3n/E3stbyQsDbG+tqq/Fcdx/ZTuiNZNuX50nq1VRC5UqybdyHyYD1MR21LKsAzRzZTEXNDuXzqtIeaKUK0H0+Io6MiHqAmRIE7gy8R8SjEXFiROwTEc8lj5X/I4P+O5Cv2I+2Xq/NV9PqNVOrvxcvQeEuVWCoPu8OZFMlfwb2jIirI6LZ9MAqw+S3l2pdy0rqVUt94KYCImL8bHqQUW8L/PmDzChpTbKTxqeAN0XEuS21xWdm+461e8tnZ/u65U2OWdKmdETcSz7QgQH3TfEW8v7t3IjYLyL+3PJAZFbtn+q3sWaPNNVvNhja1jMt0vkRsX9EbESeA99LXk/WYejBkZmZmc1CDiKbmZnNPVYvn13tdf6ADP68TtJaZI1U6N28xHQi4uGIOAl4Txm1cUfbllVwed9SW3lD4EmyBuxw67iLDCT/lawp+StJw9bGjIhLyXaYHwUmAEe3BJKrWtArSHrFcMscC5LewFAN0RMbk6sgzDUds2/BADUBS3MonyJr7QJs3e+8A+i1zGra72vjrmGojdhX06IcDxu3zFttn+s6OsYT8JrhMtxDlbcFyNqPbXlbm96BtLFWb4bjica0art31VJ9JnAfEV3NFmw70ozVVPtuVtWW7VL9rlYtnXC2eQUzNqkwmqr909w3/WyTnueHcq5+Zce8T9fSjWS7V7/DrXvMX/32bhqmOZiZEhFTI+K7wKeqPM2qdZmZmdkQB5HNzMzmApK2YCiI/Pu2NCXo8wtgQTI4uTJZe+znHctcpG18UdWOFfnqcNNpZLuhLwS+Wcad3dHZXVdeXwNMIZsk+IWkpfqY70JgZ+BxMtD99cb0v5DNcgB8pVcHTJIWlzRwkwozQ9LGDNXWvpXpa41Ctu0LQ81d1OddCPhCx3J77UsY2p+z4vvuLmmG2vGStiKD3gA/qcZHxH0Mdc71iY6mST5BBsunMdSxFgxtn/U7AlnvBrqCg8Mqeas6B/t4xzo+OdLlzyxJ2/YRANyz9vcfGtMeLJ8ztHdeVNt3FUnPaln/SxrLH6nh8jGrXAPcVv7+WEeaj49kwZLW7hGYrtIsQZ6/YPB9Az3OD8WnybaD2zxY+3sk271qJuPFDLV//wxJqzD0psMpI1j+DCQtUM57XWblec3MzMwaHEQ2MzObg5VA587Aj8uoR+hds7iqIVwF705oed2/8kdJX5L08ioIqbQpcGRJc2VbJ3YR8Tjww8a6+q7xXJZxOxlI/jvZDvPZwzQhUM33K/K17ieA/SQd1kjyP2SQeSvg15JeVQUqJS0o6SWSPku2Gdz5WvtokbSEpK0kfQe4jAzuP0A2F/BYI/l55fMgSTtVbRhLWg84k2xqoK2G3+slXS7p3aUWen3d72aoY8ZzR++bPeMJ8iHA5mWdC0jakaGg03kRcVljnoPImpEbASdVbZpKWkrSpxgK1H45IurBr/PJ2rTrA9+oOn+UtIykA8gHGjPVKRowsaxjG2BSCY4haVlJXyIfXjzQPfssdRJwfen48iWN4/pFko5mKAh6ZkTc2pj/T+Vz7472sW8gf48CTpa0bln+wpLeTB6fvTpD7FeVjz0kzbY2dkvt9c+Xf98n6fOSloFsb1vSd4HXkefZQb0YuFHZgeJbJT1zbpG0ZPlNXAKsXUY3O1SstsmLerxFUZ0f3iDpwOp8WfJ+KHAgHcd/RNzPUHvq+7al6SUiLgF+Wf49VtKutfPTxsCvyOaQ7mbG7zZSywC3SPp0Od6r9S0gaRvgiyXdrDivmZmZWVNEePDgwYMHDx7GcAAmkUGrJ8jO86rhnjK+GqYBbxxmWQuRgYJqnvV7pL2/lu5JMvjwRG3cPcBLe8z/4lraO4GFeqSdUNJNbpn2vFqezyc7Smtum4kt8+1MNu0RwBcb03ZofL/HyDY6698vgLUa800p48cPuA8nlvmeauzDaY31BRkIWqtjOSsAt9TSPkEGLKt9NKEtj2Vb1NfxCNle6NO1cWc391Ft2riO/Iyr0rRMq/LxLuBf5e+Hyrqr5d4MrNax7PeW7RUln/eV71jNewKwYMt8X21816m15fySrK0dwKR+v0vLOg6oLb+Zt8OByeXvCbP5XHFn47tXv9snG+MvBVZomX/fWppHyVq5U4DDaml2qW3PIGuwPl7+vo1sJieAKT2OiZ6/H/LhUbX8x4E7yrwn9XnOGHY9Xcc2GSA/trENq9/K08AHy/cMYLMB9s3rGvug+h3ez4z77FMdy7iolu7f5XtOAV5ZS/PTlmOz+p1/n97nzP+tzTuttvwP1dL0mn9lhpp8qY6hB2v/39e2zXrty1qaiTR+t2SN6fq2e4IZj/e/AmvMzt+hBw8ePHjwML8OrolsZmY251iY7BSpGlYib/SvIwNXL46Is3otICKeJGusQtYi/mOP5DuRna5dRgZxlyJv0q8DvlzWd12Pdf0JuKn8+8Oy7oFFxM1kUOlusvbnaf00MxERp5OdAD4FfErS52rTfkF2XPUFsvmPx8mAxIPAb8jvt3FE3NZc7kxagKH9tzIZ7LiNDG5+HnhJRGzXtd7I5hReCXybrBEKGag5Hdg6IiZ1rPcCspPD44DryeDV0mTA5Txgb2DHke6jYdxCNklyLBnwXpAMTB0ObBIRd7bNFBHfAV4O/IgMji5V5j8P2C0i3hYzdhpGRHyErA18DblfFyx/fwh4A7nNZ0pEHEo+iLiQ/A0uBFwF7B0RH53Z5c+EF5DH/HfJ4/pBYFlyO/yNrP39VmDLcixNJyJ+QDb5cQW5nZ4DrEWts8aIOI38PZ5HPhRYmDyGDyPbPv87MykiLiCD1ReRx/fqJR+rzuyy+1h3AO8kOwO9ktx2Ih8MvCEijiJrwEIGgPtd7rnk/vkY+Xu9pUxaqizn98ARwMsi4ksdi3kz8C2yqZulyG2yFtO3g747WVP/BvIhmshz+D4R8a5hsnkw2VTMdWW+avl9NW8REfeQb418jPw9/Ids7ujm8t1eHBGXdy9hYA8CbyzLvoJ8sLk0+TbGlWTzHRtEowNSMzMzmzWU5SgzMzObV0i6iazd+/6IOHoWruc5ZLBwAeCFke0Rm5nNtUq7xreQD9SWjohmB3hmZmZm8yXXRDYzM5uHlHYin0fW1PrRLF7de8iyxCUOIJvZPKJqU/piB5DNzMzMhjiIbGZmNo+QtBJwaPn32Ji+Q7LRXteGwP7l3yNm1XrMzEabpB+UjuFWrI1bW9K3yIdjkM2xmJmZmVnh5izMzMzmcpIOI9tBXZVsv/Resm3Kf82CdV0KrFPWJeBisnMrFyjMbK4g6e9kO8yQb208Tba1W/lCRBw02zNmZmZmNgdzTWQzM7O530pkB1mPAr8CXjMrAsjFGsBqwL+AY4A3O4BsZnOZA4CTyY5BnyQ7rvsn8FNgGweQzczMzGbkmshmZmZmZmZmZmZm1sk1kc3MzMzMzMzMzMysk4PIZmZmZmZmZmZmZtbJQWQzMzMzMzMzMzMz6+QgspmZmZmZmZmZmZl1chDZzMzMzMzMzMzMzDo5iGxmZmZmZmZmZmZmnRxENjMzMzMzMzMzM7NODiKbmZmZmZmZmZmZWScHkc3MzMzMzMzMzMysk4PIZmZmZmZmZmZmZtbJQWQzMzMzMzMzMzMz6+QgspmZmZmZmZmZmZl1chDZzMzMzMzMzMzMzDo5iGxmZmZmZmZmZmZmnRxENjMzMzMzMzMzM7NODiKbmZmZmZmZmZmZWScHkc3MzMzMzMzMzMysk4PIZmZmZmZmZmZmZtbJQWQzMzMzMzMzMzMz6+QgspmZmZmZmZmZmZl1chDZzMzMzMzMzMzMzDo5iGxmZmZmZmZmZmZmnRxENjMzMzMzMzMzM7NODiKbmZmZmZmZmZmZWScHkc3MzMzMzMzMzMysk4PIZmZmZmZmZmZmZtbJQWQzm6tJmiQpJI0b67zMiSRNlhRjnY9BSZog6XpJj5T9O2Gs8zSnkzRF0pSxzoeZmdnsIGliKSOMnxXpbfTNiftA0vMl/UfSvrVx40o+J41h1oY1t+RzNEj6pqQ7JC024HzLSfqOpNslPTU33hfNbpLGl+Nq4ljnxeY8DiKb9amcSPsdJo9B/ib3yM8Jo7yu2VZgmRcLRyVAOiqB0XnxIi/pVcAPgEWAbwD/C/xhNq5/Uu23s3tHmgUl/aOWbqnZlb9ZSWkHSUdL+qOkhyQ9LOkqSftLWqhjvsUlfVHS3yQ9Juk2SYdKWrIl7ZaSvirpGklTJT1a1vU5SUt0LH9BSR+TdENZ/j8lfVfSSqO9DczMRkutbDZ5rPNi1mW0y9pz4TH/JeAO4IdjnZG5xRhV4jkEeBaw/4DzHQa8B/g98EXyvmK2qd0rTJW0aEea7WvpTp2d+ZuVJK0o6b2SzpJ0q6THJf1L0hmStugx34slnS7pvnIf8jtJu7WkW0rS2yWdKumWco9wn6TzJL2xx/KfI+mHJS+PSrpO0vskabS++7ys9WbQzFo1LzjLkRex24BJjWlTZkN+urRdGK+b7bmYfQ4Evgz8Y6wzMofaG2gNzM3Bdiif+0TEb8cwH08C+wAnt0x7LfDskmZeupYuCpwDPAZcCJwNLAO8ETgC2F7SGyLi6WqGElg+BxgPXAKcArwE+BiwuaRXR8QTtXX8BFixpL2A3H6vAyYCO0naMiIebuRrEvA24Frg68A44J3AeEmviIipo/P1zcxGh6R1gK2AALaStHZE3DrG2ZrXHAWcBNw+1hmxvs1R+0zS+sBbgA9HxJO1Sf8AXgg8MCYZ69/cks+ZFhG3lwDrJyR9IyIe7XPWHYAbI2LnWZi94TxJxg52IsvJTfsy791TAOwGfBv4O/Br4E7gucAuwI6S3h4RJ9ZnkLQBeY+wEHmuuBd4M3CKpP0i4qha8lcBxwP3lOX/BFid/E1vK+nTEfGlxvKfA/wOWAU4lYzbvK7kc13y/sV6mNcOUrNZJiIm1v8vT173B6Y0p42lOSkvs0NE3ElekKxFRMwRhfQBrVY+7xrTXMC5ZNB01Yho5mUC8G/gJmCz2Z2xWegp4NPAtyLi/mqkpI8Ck4HtyQJhPbD+TjKAfHxE7FOb5/PAZ4D3k4HfyteA4+rbtASiTyUL1x8ka5tU015HBpAvALaPiP+U8e8Evg98FvjwzH1tM7NRNwEQec77cPn/c2OYn3lORNxLBhhsLjEH7rP3AE+TwapnlLLGX8YkRwOYW/I5in4E7AnsSv81x4qczy4AACAASURBVFcDbp5lOerPH8la1PvQCCJLqoLLvyQrbcxLbiK/0y8aFVA2J+8rjpJ0akQ8Xpvn28CSwGsj4vyS/mAy8PsVST8t9/+QMYC9gJ9U9wcl/eeBK4D/lXRcRNQrm32FPCbeGRHHlvSfIe/7PiLpxIi4ZvQ2wTwoIjx48DCCgawJF8DklmkbAaeThaTHyIv7QcBiHcuYBGwInA88BEwlL5KrD5CfyfmTnunvtSlwBvlk+3EykHcRsEeZPqHkuW0YV9I8n3x16FrgfuCR8vf+gFrWGSX/48gL671l3If6WNek+v+NPE4AXk9edB4F/gV8C1iiJQ/LAN8E7i75vRzYhqwdGcD4PrfffwG/Kd/hUfL1uNOAjRv5bQ5Tast4TUl3U8nLA2X7bN9Y18SOZUUtTetxAaxatsUdwBNlf38PeHZL2illqLbRXeRxfSWwbUv6NcgCwF9Lun8D1wAHD7PtxvexbRYha5//qSz7PuAsYNOW5VXbel0yMHoL8B/gQ8Pko5pv1/J5QGP6cmXdR1bbF1iqNn1Z4JPkU/S7yd/RrWRN3mW7frtkjfHDyNo5TwE719LsTtYMnlqOq5vI2jyrjHQ/jeDcsEfJ51GN8VeQN2BrNMYvATwIXN/n8jcryz+rMf6UMn6LxniRNwX3AQvP7Pfz4MGDh9EayvlpCnmDu2g5H99KrQxEPoALYL+OZexXpu/dGP9a4FflevAY+bbZf9MoX1Erv5AP8/5YrkdHlOmDltUEfKScdx8DbiQf+o0v65nYMs/LyTLQPWXdN5IPFxfpcztOYKg8t1u5nj0CnN78jo35liabw7qLPst05Rp3SbluPUyWHd86wD6fxFCZ43Nl/z9Wtvu+HfMsBnyqpHm07NOzgI1a0k4pw0rkA9S7yGvvBsPka7aV6+kuxz2zzXvss5GU79Zm6Jh8nCx37j/APluALKNe0jJtXFnHpI79MFNlLYbKfouRD87vKNv1suo7k+XpH5P3FA+T95bPnhX5rNJ35HW6aeX/tn3czEO/56rFy77/IzCN/A3eRB7nKzbSLkTeK583wG+yOUyspVkXOKFsn6q8fjiwXMvygvb71RnStsx3Ffnm7JPAqo3p7y9p3lI+T21M35i8Z/tz+e7TyPPT23odt8AGwC/I3+zUWprlySZcbiDPO/8m710/0PJbngi8krwHmUb+Lk8EVu73WO+xXc4t69ikNu5FZdwM+5esUBLAR/tc/ndK+l1r45Yl73tvakn/qpL+yJn9bvP64JrIZqNM0qvJEzZkbb07gW2Bg8lXr18bEU81ZnsuWaC7lAwMvYwszG4maeOIuG+A9e8FrEVeZK6IiN8NMO/GJQ/TyILKXeRT043J10h+TLZN+3Wy4HhtSVepai6+mXzSegFZeFiCLEgcATyPvOloWpEsOP0DOK6s9+o+1tXLzmTNyTPK93oteaFegQz2Vt97IfLp72bkjcZFZMH0HLKw0BdJ+5E3LX8lt9XD5Cs1ry7Lvrp8h+qJ8xkMtfVb/z4fJwsBlwP/JF+32QU4R9LuEfGTkm5ySbdPyXNfeZW0Kln4WLN87xPIi/a7gB0kvTIi/t6YbRFyXy5NHtfLk8foOZI2iYjryrKXJPfjamTh/xSyALseWdvjsz2yNoVsjmVn8jfwdXK73F+WvQC5zbYHri/TVyL35XaS3hQR57Ys95tkQeqssqzmd+vyFzJAug9waG38HmRQ4DjypqrphWSh69fktvoPeRO3P7ClpM1i+uYdKqeRN2pnkUHk+8r3/ibwAfL3eDL5UGEd4O1k7d27a8voaz+NUJXnZ173lLQ4eX74S/OYiYhHJF1G1uZeoY/z2AzLL7Yiz0nTNW0SESHpfOB9ZPMZvx/ky5iZzUKvIctiR0TE45JOIq8BrybLRgA/Ja9Pe5IPJZv2Im/wT6tGSPoQWbP5zjL/Q2Rw9CjyOrtfy3IOJIMAZ5JNFN1axg9aVjsEOIC8Vh9F1hT7PBl8mIGkXRkqC51BBpI3L/NsKmmnKHfufdiDDGqcUfLb+eq+pAXJ8turyLLOheQ18xyyrNQ2z9fIigt/JQMkT5KVEE6W9JyIOLzPfEKWAzdkqLbh7sCxkpaLiK/V1rk4WU7YjNyG3ybLh28BLpO0XURc2lj2omWehchr/OJk4LHVGJTrp5DluM8xY3N/U3rkc6Tlu8OBLchy06Pkg4YjJD0eEUd3ra/mZeQ9waBNp41mWetkstx4GkP3J78qNTV/SW7H40pedyrr2noM8ll3BPnwoV5Wh1r/JQOeq04gj7FLycAi5H3Y7mVd/64SRsSTkq4GtpC0cNRqn7Y4nTzumsfj5JLHF5MPjpYFfkZWNnkF+WDidaW8/lBjmW33q837+i7HAZ8gg6H1+4cJZAD96o753k2ejy4hz+PLATsCPyxvS7bdizyvpL8C+C75e0LSamX8c8n7zDPJ3/NLyWYcvtVYzqYlz+cBR5O/tz2BdSRtPsA5vE1buX+r8nleS/pq3Nbkb38ky98MWJisuNd0OXm96vf3Nf8a6yi2Bw9z60BLTWRgQbJw/iSwWW28yNekAvjvlmUEcFBj+Z8t47/WZ34m0/609VIaNQR7LOOrZZ6XtUxbsSXfkzqW82watUzKtjmHvNCOa0yr8vptZnw6Pdy6JtFdE/kJ4JW18YuRT12fplbLG3hvSX9CY9l71PI2vo/t93uyULFEY/wCwPIt+ZvQdWy1jHsWWUvhr43x4+moAVQ/Lhrjji/zfLwx/gNl/E8a46eU8T+lVuOTvKEI4Du1cW8q42aoCUKjNkGP7TjDPi3j31HG/xxYsDZ+A7L2wD8a+auWcyuwWj/rbsy3PkO1AzauTf8dpXYt3TWRl29Z7oEl7dvb9hFZO2SZxrSdy7TLgaUb05akVrN5kP00koEsaAbwhtq49at90jHPkWX6DDWJeqStnyOXKuOu65jno2V637XFPHjw4GFWD+Rr1s/UsCJr5AbZ7E893U/L+LUb49cp40+ujVufLF9eUr8ekAHFajmb1sZPLOMeAF7Qkse+y2rkg+anyIer9XWvS950T1cOAVYmg0Y3Ac9qrOPr/Z63GSovPQm8qmV69R3H18a9u4w7ielrye5NS5mObC81yKDvIrXxS5Rr7xP08WYgQ2WHfzL9W0KrkIG0Rxvjv1zSf7ixnLXJoNyfGuOnMFQG6rcm91iW6yd3LKttn420fHdzY5uuSz64v7HP7fPfZTn/1TKtdZswSmUthsp+k4HFa+Orcs1U4CuNeX7OjGXSUcknA9REbuyDcS3p+z5XkQHRp4HTWpazBI23eMv4w2mc74bZ1q3HI3AxLecisrmDAA5tWU7Qcr/ax/qvKn8/cw9R/n9hmf6x2r5s1kReE1igZdtcQ9baXrLleAjgwJa8nF6tr2Va/d54fG05b6mNX4B8kBXUYh2DDmQlq0fIc2P9N39YWfabO+Z7CPhzH8tfijwXP8r057oPluV/pGO+64FHRvq95pdhAcxsNL2KPHn/NCIur0ZGnpUOJC+S+7TMdx8zPlE7jCxA7NXnuk8nn+CvSgaXNiKfOm9BPnEe5M2DZqdWRMS/2xK2iYh/RqOmZWTt6++RF5/xLbM9Dny6bKvRcmLUOmaLiMcoNxXk9qnsSV5QpqslGxE/Jl8dGsTjNGpSRsTTMUDHXxExpWXcv8in5OvMTE/IpVfgt5K1cb/WmHw0+RR+F0lLt8z+kZj+iX9VW2eTlrQzdQx1eHv5/ETUavNHxB9KXp4NbNcy32Ex1HbWoH5M7tN9ACS9kHwqf1zXDBHxQMf+rmrFbNMx68SIeLAx7n3lc79o1IaIiIcjoq021iD7qS+S9iXbNLsoIs6uTVqmfDbzTWP8ssMsf1syYH8jcMxoL9/MbHaRtAxZq+7GiLgKICKuJAOqb2lcX6sOhfZsLGbPxnTIB94L0rgeRHYGVpVfdm/J0ncj4sbmyAHLaruXcYc01n0L7dfDvcmb+I+X8kvdZ8gyV1teu5wWM9bK7bIXQ5Uz6mXKH9LeduwHyEDo++vbIyIeAb5A1lp78wB5/UZEPPOGUPn762RFhl3hmdrS7wX+ELXaySX9reQ+eJGkl7Qs/8DmfuvDWJTrBzHS8t0XGtv6FrLyzPM7yrFNa5TPu3umajdaZa2DYvoO4qo+JxYiA+51Ve32lw6w/FEvE/ZhkHPV0+R9Wdsx+ki5d2uq9tcaLdP6ImktYEvyrd1mR3efJx++7d0y68zer04C1pdU3YdOIPfHCV0zRMTtUWtPuIx7hKwUtDT5kLLpThpvS5ZayG8imxX5ast62jqpnxwRP62lebqsF0Z4DJWYxHGUZkxi+je0+yn391PmP4p8K/aQxrmun+UvLmnhPtYx33JzFmaj62Xlc4bX5SLiVkm3037hv6ZcDOrpH5F0DfAaSasNFwSLiCOaywT+q7wu9yayOYSfzDDj9H5Cvs72O0k/Il/1uCQGaE4Dpisc703WXlmKLCBUVmuZ7dZB19OHtkbxqwvkcrVxLwX+FRF/a0n/W/I79ONksmbJ9eXV1QuB33YUgDqVDhY+Se63tckbj7rV6PFa4DBeQL4OeXmjUElEPC3pUrImx/pkDZzK1Ii4rZH+SUl3M/22vIh8XfJbkrYhX8W7OEanR/qXAfdExA0t0y4iezZ+GVkzpu6qka4wIu6XdAawR+lcbgJ5s9lZ2AOQtD35W9qEfD2x/tC27fjvyucm5Lbv9zv0u5/6VgK8R5MPHvp9qDXI8l9KnnumkbVBBvq9mJnNYd5K1hI7sTH+RPJV/93Jtj4hm5d4gHzz6Yu1tHuQFQx+WRu3KXn92UXSzo1lVze8L2jJT+v1Y8CyWlV2rZcLqI17f2PcpuVzK0kbtMzzaEdeuwxyHa/KdNN1pBURIek35Kv0dZuSgYP9JDUmsXL5HCSvbcHuy2p5g2y6ajkgJE1sSV+VO19A1oyrPBoRfxogL2NZrh/ESMt3w5Xzm00RNK1QPvtpIq9uNMta1zb+r+73bm7eGzLU4fSz+1z2qJcJ+9T3uSoiHpT0S2AvSWuQlaImk2+gPU27qqLGijORx1737A+Ve/DxLffgM3u/ehJZiWeCpGvJpi3OjYi7uioJSVqMbGJjN7KZiiUbSdp+f9c27/PIZmwE/LrHtm3q9166L8qT7NFkhZofRMSkQZfRxzoOIiv/nEc+CLRR5iCy2eiqnm51PdG+GxgnadGYvhfSezrSV7U3lmGoUDGoY8hg5GYME0SOiMtL4O8zZGHxg8DTkn5FdkY2Q02WDt8mXyecUtZ5F/l62TjypL5oyzzNmiqjoe0pY1VLeMHauKXpbid3kHx9hSyIvp980v5Z4BFJPyQ7ZxuuMFvVFL6YbOP1SvJG836yMDaebKepbfv1q59jtJ6u0vXE9klq2zIiHijtuH2BrLn6XwCSridrmPyidSn9WYZsjqRNV75h5o+t48igwE7UCntdiSXtSQYL7ifbdptCdigC2S5b1/5ry+eyZO3cfvW1n/olaSuyncL7gNe01FKo1te23evjW9uvlPQispC3ENkLc7N9vplavpnZGNi3fDaDyCeQQeQJlCByZHvJpwLvlPSyiLi2BF1fRNYgrtf+XIE8j/fqW6AZXIDua+AgZbWqVmdbebVt+VVw7sMD5rXLINfxXmWFrrwuRF6fuwyS117bqLpmVdtnwzL0u96u+4VWY1yuH8RIy3f9lvO7VGWzZmWN4YxaWav5BlpEPFUeZvT6bv3WkhzVMuEABj1X7UZ2QL8HQ29J3iXpsGhvj3zx8vloy7R+DXI/VL8Hn6l7ioiYKunn5Hc9n3wg8KFhZjuDbIP8z+R15F5yH25A3pv0e19d1eD95wBZntnfWNM3yE5lTyHPKV3r61Xuv6Nr4ZI+RvZDdQnZQXmzn5V+lv9oSwDeahxENhtd1YlplY7pqwCPNwLIMFTToelZjeWOxL3lc4l+EkfEZGCypKXI5jl2I2+Izpb0ouFeoSudtr2L7Fxhs3qtQkm7096cB+Srh2PlIYbfB8MqrzZ9B/hO2Q6vJi+Q7yW3f9trUU07kQHk70TE++oTJH2bmW/sv59jtJ5uYKXW8V7ldaWNyWDy/wCnS9qgo6ZJPx5kZPme2WPrXLIAeQT9FfY+Q7bztXG9drukVehxk9rxatz99F/jZFRJehVZS24aGUC+uSXZ38hXEdftWEw1/paW5a9Htqu2FLBD1JoAqkTEtFJjZm1JC7TUnOhcvpnZ7Cbp+WTncQB/banZCtkh1PNq59QTyZvqPclaiVVTFj9qzPcgefO+xIA3uDNcW0ZQVqsegq9MrZOroq2cVF2L146WJrpGYJDr+IMMVqZ7EHgoIsYNmqkOKzPjw99meb76PC4iJgyw7IHLM2NYrh/ESMt3M6sKyq/QM9X84WmyI742yzDY9h/oXBUR08jO2z5RyobbkjXoD5M0NSKObcyyfPkc6KFKSx5h8ONuNO5XJ5G/w2+RlTR+3pVQ0qZkAPkXwBvr5WBJnyDvG9t03VPA2N1XfI18kHUasFejGYtKVZ6f4b6i3EctRUeZv3TmeCj5dszrW2ryD7f8Bck3gH1PMQy3iWw2uqpXkrZqTihtLz2HGV9bAthQ0hKN9EuQtRPuGa4pi2FUrxTe1jNVQ0RMi4hfRkT1tPC5ZOP/MNQLbdsTyHEMvSrTfC19s0Hy0Me6Rst1wLMkrdMy7RUjWWBE3BXZpvJrydd+dqxN7vWdqjyc1TLtlS3jBt0+N5LteW3WbO+p9I69RVnmH/tcXqeIeDIifhcRB5GFw0XI7TFS1wIrlwJm05bl8w8t02ZKKeScQHYC0bOwV6wD3NDSPMpIjv8rgeUlzcq262Yg6ZXka6OPAdt2Bf5LAe1qYL3yGmJ9GUuQx9Ofmq/+SXoeGUBeFtgxIi7ukZ2LyULjdNuvvBK3LVkovr5lPjOz2W1C+TyffBOsOZzXSAf5OvU/yCbIFiTf4LmDPPfVXUFWANqImTeOwcpq1VsibeWQtnFXlM8RlaFmUlWme159ZLlmbN6S/gpgzdJe6Gh4Vcu4LWp5g2yb+SHg5aXsNcvN5nL90x3L6jIm5TuGyg7P65lq/nA/+buZbr+V+9flW9L3OmZGfK6KiL9ExFEM3Tft2JLs+eVzZsp+ve7ZlyJr+f5rJu/Bu1SVU1YHTmqpXFZX3Ree01KRYtD7iqvJ4PI2s+u8U5F0KFkJ5yxg95YawpXqutfWBvp2jTT15f83WYv9SmD78mCizeXkWxTbtkzbjKwh3+uexHAQ2Wy0XUq+6rVreXIIPFNw/RJ5oT2+Zb4VyN546z5GXrSbNVFmIGkNSSu1jH8J+SrRU2RvuMMt55WlOYX6ODFUg6K6yFVtUa3espjqFZNXqlYFR9LLyRq5g+q1rtHyY7KAPLE+stSweHG/C5HUVkt4KbIWcr2AUAXUem2/6W50JH2QLNA09VrWDEpB5RSyM4r9GpPfTRakT+un6Y02kl4kqa0GUPVEv1dBaTg/LJ9frhd+Spu6bydfzzp/Jpbfy+Fku+JvHKawB7kPn1ffDpKeRZ4DBvXt8nlkKdQ+Q9KSkka9Q7nyW/0lWYtku4gYrpB+DPn7+WJj/IHkK9Dfr48sD2suINuy2zkiLuhj+QAHa/oOQt9B1iQ4zq+dmdlYK9elvckb1D0i4l3NgQwQPwHsXV3HSmDgx8CaZH8IzyEDC82aZEeT5blvlmtKc/1rdbWp2WLQstrJZPDh4/VrkaTn0l4TdRLZUdYhktZuyeuzlB3Vzgonktekz9e/G1lOaAtSHlXSf18tnbGVck3fb6UB/1NPX2rP7U+Wf34KUK5Z3yGbLflsM6CjNENwa1BjWK6/r2NZXcaqfHcpeVxvOlzC+cBVZDMZe1QjSmWTwzrS97r/6PtcJWllZdNmTb3uGzYF/hYRgzTLMJ3SVvQlwCskNTvO/DTZ3m/bPftMK5VTdiLvK4a7N+i6L9yR7lrIXeu9i6wF/FKyjeXpSJol99qSvkTGNX4J7NqrzB4Rfyb7I9pG2SdLtYylgU+RTZhMFxuR9F7gSOD3ZNN4nbXmIzsk/yl5n/aO2jIWJpvBCKbv4NtauDkLs1FU2rF6B/nKyUWSTiafNG5LdpB1AXlhbboUOEDSZuST9g2AHciA9MF9rHoT4CRJF5Ovlz9IPqV9Axm4/mhE3NTHcj5JdoJySVnOU2TzCZsAv4iIv5TvOU3SlcDWkiYBfyVPukdGxD8knUU2YfBbSReRN0Y7kzUbd+kjH88YZl2j1Q7qMWStoLeXG6KLyNdZdgF+Rdae7acDgjMkTSUvfreTTzPfRD4M+GQt3W/JGp4flrQC2eTI/eXJ+5lkjaRPlkLVzWSN9C3J7ff6xjpvJI+xPSQ9XuYlInp1JPBxcr8ermwr71ryRuZNZEG9VxuGw3ktedN4KdkT/QNkIP71JW/NHpAHMYl8/Wsn4GpJ5wIrUdpdBt45q4KJkb1/n95n8qPJQvfVkn5GPkh4I/Abhmr99LveMyUdRb7+dZOyk78HgLXIc8TOZAcko6Icj+eSNYR/DuysGTtF+UNE1LfFMeRNx94lWHAZWUB9PfnE/1uN+S8kH2JcDGyubEO7bkq9o42IOFfSiWSnflcpO2BZm+zl/hayjVEzs7G2HRlQOT0i7m1LEBH3SToTeAtZNvxVmXQieZP9udr/zXmvVb6u+w3yevAL8i2zlchry2ZkUxhThsvooGW1iPiz8lXkjwDXlWvbEuT19yLyfP90Lf3dkt5OBsdvkHQ2WX5bhnxYvRXZBupIm7fq5VgymL872Q/JhWRtvp3JmuDT1XCLiLNLLbkDgJuV7QX/E1iVbF5sI3Lb9tsW6h+AayVV5Z23lmV9tNGfwkFkMOxzZOWTy8jr+5pk7e5VGbyt3qaxKtdfCOwm6adk7eungB9Go5O3mkmMQfkuIv6t7GxxvNqbzJqfHEXeCx0raTuyZvI2ZI35ttq4F5LnrO+W88EjZGduZw54rloduEbS1WTN4jvJMuIu5AO5o+orVdaMXpdsYm5mvZ8MJJ9SjtW/km9PvAb4E/3dg49IRFxJ1podzu/Ic8oeJSD/e7JTwjeQbSUPFEgGPkCW0Q+VtAsZg1ic7FB9HEM1n0eFpH3JSiWPk/ebB2rGZp4mNZo9en/J15nKjurvJY+H5wL71R8eSHoNQxVuLgM+1LL80yOi/ibDx8l+hr4n6XXArcD2ZGeLh0dEW2eCVhcRHjx4GMFAnmgDmNwybWPyxP5v8qR5I1kjeLGOZUwiC6nnkxfr+8mC9xp95uV5ZRl/KvP+h7wI/wzYeoDv9DryqetNZDuo95O9sn64Je/rkcGmB8p3CGBcmbYsGTi6g3xi+Aeypsr4km5iY1mt27HPdU2q/1/GTSjjJrQsq3Ua+cT52+RNwiNk8Gsb8slmABv2sf3eTwaBbyeDxHeThaxdWtLuSL5W9GhZ/pTatOeX5fybfCBwPnlDMbGkHd9Y1uZkIWhatX1q0ybX/6+NX7V837+TtaL+CXwPWL0l7ZR6/npNIwuHXy/7/L6yLW8Evgqs1udxOMM+rU1bhHwSfQP525pKttu76SDL6XP96/eRdnJJu1Rt3ALkb+Yv5Ti4lexocBFajvWufdRIsydZoHqIrN11Yzk2nzWS/dRjPeMY+o11DZNa5luCrE1xa9kvt5OB9KVa0g63/BnOBeRD7wPKNn2c7NTne8DKg+xbDx48eJhVA3BSOYftNEy6N5Z0P26M/1MZ/6dh5n8VWb67m6Hr98VkQGelWrqJtJQZatMHLauprOOvDJVtP0gGxAP4cMs6XkLWMv1HyevdZFDks8CafWzTCXSU53p9R/ItmCOZsUzXuU3IctkvGSq7304G+d8PLNlHXieVZa9b1jOlLOdPwDs65lmY7DPiCrIM9zD5cPQk4M2NtFPo4zremGesyvWrAaeWbfl0fZv32GejUr7rNa1jG+1T0m/TGD+OljJPr/0wyD6iR9mP7rLQDNt7NPNJPmC5smz/u8kA7tI90h9Ing/+05GHYc9V5P3XRPI+5q6y7tvItx9muPciH4wE8KIBfged95nk7/XEWh6nkG8fLjfIcvpY/1V9pKv25amN8c8uebyL/B3/hgwiT6Bxfuw6HhrLWx44hKyo9DgZpL0MeF+vY62faS1pJzJ8uX98y3zrk5V3ppLn8CuA3VrSTehj+RNa5luTbKrwHvJe7XryXK9B9+/8OKhsRDMbA+VVnlsZvGMNm01KjYstgWVjhE08mJmZmc2LJP0vGRR+Y0ScPdb5GSulBu8+jF5ngjYbSFqcrKV9QUTsNdb5sW6lqZM/A3+PiLY2bc1sNnCbyGZmPNP7dHPcruQrlxc6gGxmZmbzq9KOcbPt3nXJmrQPMopNK5nNLhHxKFlbcnc1OmO0Oc5u5NuanxwuoZnNOm4T2cws/UDSimTHEo+Qr2C+tvx9wFhmzMzMzGyMvQN4n6QLyGYi1iabgFgceH9EPDyWmTObCceQ7fWuTr7ib3OmBYH3RsRVY50Rs/mZg8hmZukU4D1kRyzLkG0wnQp8PiKuG8uMmZmZmY2xS8i3s14PrEC2jXsF8LWIOGMsM2Y2MyLiSeCLY50P6y0ifjTWeTAz3CaymZmZmZmZmZmZmXVzm8hmZmZmZmZmZmZm1snNWfSw0korxbhx48Y6G2ZmZmY2gKuvvvreiFh5rPMxP3L52czMzGzu00/52UHkHsaNG8dVV7nddjMzM7O5iaTbxjoP8yuXn83MzMzmPv2Un92chZmZmZmZmZmZmZl1chDZzMzMzMzMzMzMzDo5iGxmZmZmZmZmZmZmnRxENjMzMzMzMzMzM7NODiKbmZmZmZmZmZmZWScHkc3MzMzMzMzMzMysk4PIZmZmZmZmZmZmZtbJQWQzMzMzMzMzMzMz6+QgspmZmZmZmZmZmZl1chDZzMzMzMzMzMzMzDo5iGxmZmZmZmZmZmZmnRYadCuDYAAAIABJREFU6wzMazY+4PixzoLVXH3o3mOdBTMzMzMzs/nWFkduMdZZsJrL9rtsrLNgZnMp10Q2MzMzMzMzMzMzs04OIpuZmZmZmZmZmZlZJweRzczMzMzMzMzMzKyTg8hmZmZmZmZmZmZm1skd65nNpNsPfslYZ8Fq1vzs9WOdBTMzMzMzMzOzeYprIpuZmZmZmZmZmZlZJweRzczMzMzMzMzMzKyTg8hmZmZmZmZmZmZm1slBZDMzMzMzMzMzMzPr5CCymZmZmZmZmZmZmXVyENnMzMzMzMzMzMzMOjmIbGZmZmZmZmZmZmadHEQ2MzMzMzMzMzMzs04OIpuZmZmZmZmZmZlZJweRzczMzMzMzMzMzKyTg8hmZmZmZmZmZmZm1slBZDMzMzMzMzMzMzPr5CCymZmZmZmZmZmZmXVyENnMzMzMzMzMzMzMOjmIbGZmZmZmZmZmZmadHEQ2MzMzM5sPSNpN0s8l/UPSNElXS9qjJd27Jd0s6bGSZpuxyK+ZmZmZzTkcRDYzMzMzmz98BJgGfBh4E3Ah8CNJ+1UJSlD5aOB4YAfgT8BZktaf/dk1MzMzsznFQmOdATMzMzMzmy12jIh7a/9fIOnZZHD5yDJuInBcRHweQNJFwIbAJ4G3zca8mpmZmdkcxDWRzczMzMzmA40AcuUa4NkAktYBng+cUpvnaeAnZK1kMzMzM5tPOYhsZmZmZjb/2gy4qfy9Xvn8SyPNDcAKklaebbkyMzMzszmKg8hmZmZmZvOh0mHezsDhZdTy5fP+RtKpjelmZmZmNp9xENnMzMzMbD4jaRzwI+CMiJg0k8t6j6SrJF11zz33jELuzMzMzGxOM1cEkSWtLmmapJC0VG28JH1K0h2SHpV0saQNWuZ/kaRfS3pE0j8lHSxpwdn7LczMzMzMxp6kFYBfALcBe9UmVTWOl23Msnxj+nQi4rsRsUlEbLLyym7xwszMzGxeNFcEkYFDgWkt4z8JHAQcAuxY0pwvadUqgaTlgfOBAHYCDgY+CvzvLM6zmZmZmdkcRdISwFnAIsAbI+KR2uSqLeT1GrOtB9wXEa5mbGZmZjafWmisMzAcSVsB2wNfIoPJ1fjFyCDy/0XEUWXc5cAU4IPAZ0rS9wGLA2+OiAeB8yQtA0yU9JUyzszMzMxsniZpIeAnwPOAzSPiX/XpEfE3STcBuwHnlnkWKP//YjZn18zM5lIXbbX1WGfBara++KKxzoLNI+bomsilyYkjydrD9zYmbw4sA5xSjYiIh4EzgR1q6XYAzm0Ei08iA8s+s5mZmZnZ/OJbwOuBzwMrSnplbVi0pJkI7CvpM5JeDRxLBp2/PCY5NjMzM7M5whwdRCZrES8KfLNl2nrAU8DNjfE3MP0reOsx9GoeABFxO/AIM76qZ2ZmZmY2r3pt+fw6cHljWA0gIn5MlsEnAL8EXko2e/HH2Z1ZMzMzM5tzzLHNWUhakawl8baI+I+kZpLlgWkR8VRj/FRgCUmLRMQTJd39LauYylAnIfX1vgd4D8Caa645c1/CzMzMzGwOERHj+kz3PeB7szY3ZmZmZjY3mZNrIn8R+G1EnDM7V+repc3MzMzMzMzMzMyGzJE1kSW9GHgHsJWk5croJcrnspKeImsSLyVpwUZt5OWBR0otZEq6ZVtWs3yZZmZmZmZmZmZmZmYd5sggMtl5x8Jk+2xNfweOAX4ELAisC9xYm95sA/kvNNo+lvQcMig9XVvJZmb92OLILcY6C1Zz2X6XjXUWzMzMzMzMzOZpc2oQ+VLg1Y1x2wOfIHuU/htwG/AgsBvwBQBJSwA7At+tzfcL4ABJS0fEQ2Xc7sCjwEWz6guYmZmZmZmZmZmZzQvmyCByRNwLTK6PkzSu/HlJREwr474MHCRpKlmr+CNkO89H1mY9Gvgf4GeSDgHWASYCX42IB2fZlzAzMzMzMzMzMzObB8yRQeQBfJkMGh8IrAhcBWwXEXdXCSJiqqRtgKOAM4H7ga+RgWQzMzMzMzMzMzMz62GuCSJHxCRgUmNcAF8sQ695/wy8ZlblzczMzMzMzMzMzGxetcBYZ8DMzMzMzMzMzMzM5lwOIpuZmZmZmZmZmZlZJweRzczMzMzMzMzMzKyTg8hmZmZmZmZmZmZm1slBZDMzMzMzMzMzMzPrtNBYZ8DMzGxOd9FWW491Fqxm64svGussmJmZmZmZzVdcE9nMzMzM7P/Zu/t46+Y6/+Ovt9vI3ZWoRiSpRDPTlJqhKaRbQ0pkupOakkr3t5RCNUmlOxVqSvrpjkzRUEi6E6HchogrKUQRcps+vz/WOuxrO/ucc13XOmefc/br+Xjsx9lrre/6fj97r33W+Z7P/q7vkiRJkjSQI5ElSZL6HPSWY4cdgnrs8dHthh2CJEmSNNIciSxJkiRJkiRJGsgksiRJkiRJkiRpIJPIkiRJkiRJkqSBTCJLkiRJkiRJkgYyiSxJkiRJkiRJGsgksiRJkiRJkiRpIJPIkiRJkiRJkqSBTCJLkiRJkiRJkgYyiSxJkiRJkiRJGsgksiRJkiRJkiRpIJPIkiRJkiRJkqSBOk0iJ3lSku17lu+f5CtJzk7y0STLd9meJEmSJEmSJGl6dT0S+QDg0T3LnwC2Bk4DdgX27bg9SZIkSZIkSdI06jqJ/EjgLIAkKwPPBd5QVbsDbwd27rg9SZIkSZIkSdI0Wq7j+lYAbmufP7Gt///a5V8DD+q4PUmSJElz2OPedviwQ1DrrA/vMuwQJEnSLNX1SOSLgGe2z18E/KyqbmqX/wH4c8ftSZIkSZIkSZKmUdcjkfcDjkzyX8DqwPY9254J/LLj9iRJkiRJkiRJ06jTJHJVHZPkUcC/AOdV1a97Nv8MOLfL9iRJkiRJkiRJ06vrkchU1WXAZeOsP7TrtiRJkiRJkiRJ06vzJHKStYE3Ak+guZHeVcDpwCer6pqu25MkSZIkSZIkTZ9Ob6yX5InAJcCrgOuA77c/dwcuabdLkiRJkiRJkuaIrkciHwScBWxXVX8dW5lkFeA7wKeAx3bcpiRJkiRJkiRpmnQ6EhnYCPhobwIZoKpuBj4CPKrj9iRJkiRJkiRJ06jrJPKvgAcO2PYg4KKO25MkSZIkSZIkTaOup7N4HfDlJDcD36qq25OsCDwXeCewS8ftSZIkSZIkSZKmUddJ5G8DKwNfAWiTyau0224D/jfJ3YWrau2O25ckSZIkSZIkdajrJPKngeq4TkmSJEmSJEnSkHSaRK6qfbqsT5IkSZIkSdLsddBbjh12COqxx0e3m5Z6u76xniRJkqRZKsmGSQ5Jcm6Su5KcMk6ZhUmq73H1EMKVJEnSLLHUI5GTfAPYs6p+0z6fUFU9f2nblCRJkrRENgG2AU4Dlp+g3FeAT/Us3zGdQUmSJGl262I6i7W4pwO6Ns6JLEmSJM1Wx1bVtwGSHAXcf0C5q6rqtJkLS5IkSbPZUieRq2qrnudbLm19kiRJkqZHVf192DFIkiRp7ulsTuQk90ny6yTP7KCuHZOcmuRPSW5LcnGSdydZoadMkuyV5HdJbk3yoySPGaeujZN8P8ktSf6QZL8kyy5tjJIkSdI89l9J7kjylyRHJXnIsAOSJEnS8HQxnQUAVXVbkjWALkY3rAmcDHwYuAF4ArAP8EBgj7bMO4G9gbcBFwFvBk5K8uiquhogyQLgJOBXwPbAw4CP0iTP391BnJIkSdJ8822aOZOvBB4FvBf4cZJ/rKq/DDUySZIkDUVnSeTWEcDLgBOWppKqOqRv1Q+SrAa8NsnrgBVpksgfrKqDAJL8DFhIk2QeSxDvDqwE7FBVNwIntvXsk+SAdp0kSZKkVlW9oWfxx0lOBc6m6ed/vL98kt2A3QDWW2+9GYlRkiRJM6vrJPIVwPOTnAEcD1zDojfaq6r67BLW/SdgbDqLzYHVgG/0VPzXJMcCz+KeJPKzgO/1JYu/BnwI2AI4dgljkSRJkkZCVZ2f5GLgsQO2HwocCrDpppt6k21JkqR5aKmTyEkuA55bVefQTBUB8CDgceMUL2DKSeR27uIVaTqsrwc+W1WVZCPgLuCSvl0uBHbuWd6IZlqMewKouiLJLe02k8iSJEnS5IpFB4dIkiRphHQxEnl9mkQvVdXZjfpafx2rGzicZv5jgAXAzVV1V1/564GVk6xQVXe05W4Yp97r222SJEmSJpDk0TQDMA4ddiySJEkajq6ns+ja5sDKNDfWew9wEPCa6WzQOd0kSZI0XyVZGdimXVwHWC3Jju3yccBWwIuB7wB/oEkev5tm2rrDZjRYSZIkzRpdJZGn5dK2qvpF+/QnSa4DvpTkozQjiVdJsmzfaOQFwC3tKGTacquPU/WCdtt4bTqnmyRJkuartYEj+9aNLT8U+F1b5uPAGjT3JfkusJc3pZYkSRpdXSWRT0sypYJVtewStjGWUH4ocBGwLLAhcHFPmY3abWMuatfdLcm6NKObe8tJkiRJ815VLQQm67hvPQOhSJIkaQ7pKol8ILCwo7oGeWL783Lg98CNwE7A++HuS/O2Y9G52o4H3pZk1aq6qV23M3Ar8MNpjleSJEmS1OOK/f5x2CGox3rvOW/YIUiS5oiukshHVtXPO6qLJN8FTgIuAO6iSSC/Bfh6Vf2mLbM/sHeS62lGFb8ZWAb4VE9VBwOvB45O8iFgA2Af4EAvx5MkSZIkSZKkyc3WG+udAewKrA/8DbgM2JMmKTxmf5qk8Z7AmsCZwNOq6pqxAlV1fZKtaW7IdyxwA/AxmkSyJEmSNCckWRu4b1Vd3i4HeCWwMfD9qjp2mPFJkiRpfpuVSeSq2hvYe5IyBXygfUxU7lfAU7qLTpIkSZpxhwGX0lxlB7AfzWCKS4E9kryiqg4bTmiSJEma75bpoI6XAb/poB5JkiRJ43sscDJAkmWA3YG9qmojmkEVbxxibJIkSZrnljqJXFVfqqo/dRGMJEmSpHGtDoz1uR8H3A84ol0+GdhwGEFJkiRpNHQxElmSJEnS9LqSZv5jgP8ALqqq37fLqwO3DSUqSZIkjYRZOSeyJEmSpEV8ATggyVNpksh79mz7N+DCoUQlSZKkkbDUSeQk6wFXVdWdHcQjSZIkqU9VfTDJ74HHA6+jSSqPuR/w+aEEJkmSpJHQxUjky4HNgJ8nORl4TVVd1EG9kiRJklpVdThw+Djrdx9COJIkSRohXcyJfCuwcvt8S2C1DuqUJEmS1CPJikleneR/kpyQ5OHt+p2TPGrY8UmSJGn+6mIk8i+BTyQ5sV1+XZKrBpStqnpHB21KkiRJIyPJI4ATaW6idxbN4I1V281PopkneZehBCdJkqR5r4sk8iuBDwPbAwVsDdw+oGwBJpElSZKkxfNJ4ApgO+Bm4I6ebT8EPjSMoCRJkjQaljqJ3M5/vB1Akr8Dz6mqny9tvZIkSZLu9iRgp6q6IcmyfduuAR40hJgkSZI0IroYidzrocCgqSwkSZIkLZnbgJUGbFsHuGEGY5EkSdKI6TSJXFW/TbJckp2BfwfuB/wZ+DFwdFX9rcv2JEmSpBFxIrBXkpNoprMAqCQrAq8DjhtaZJIkSZr3Ok0iJ1kbOAH4J2AhzaV1mwGvBc5J8vSqurbLNiVJkqQR8Dbgp8ClNAnlAt4DbAKsAOwwvNAkSZI03y3TcX0HAmsC/1ZVG1TVZlW1AfCv7foDO25PkiRJmveq6nfAPwMHA+sDv6GZB/lI4HFVdfXwopMkSdJ81/WcyNsAe/TfWK+qzkiyJ/CpjtuTJEmSRkJVXQ/s3T4kSZKkGdP1SOQVgZsGbLuJ5lI7SZIkSYshyWVJ/nnAtkcnuWymY5IkSdLo6DqJfBrwjiT37V3ZLr+j3S5JkiRp8axPM2BjPCsDD565UCRJkjRqup7O4i3AD4DfJTmB5sZ6awPPAAJs2XF7kiRJ0ryUZDVgjZ5VD0yyXl+x+wD/Cfx+xgKTJEnSyOk0iVxVZyd5OPBW4PHAPwFX0dwA5MCquq7L9iRJkqR57E3Ae4FqH/87oFxoBnNIkiRJ06Lrkci0ieJ3dl2vJEmSNGK+ApxJkyQ+hmagxsV9Ze4ALq6qK2Y4NkmSJI2QzpPIkiRJkpZeVV0CXAKQZCvgF1U16CbWkiRJ0rQxiSxJkiTNfmcAJFl5UIGqumXmwpEkSdIoMYksSZIkzX4308yLPJFlZyIQSZIkjR6TyJIkSdLs93LunUReADwD2Bh434xHJEmSpJHRWRI5yYo0N/v4TlWd01W9kiRJ0qirqsMGbPp4ks8Cm8xgOJIkSRoxy3RVUVXdDrwLWKOrOiVJkiRN6pvALsMOQpIkSfNXZ0nk1unAYzuuU5IkSdJgjwduH3YQkiRJmr+6nhP57cBXktwJHAdcQ9/cbd41WpIkSVo8SQ4YZ/UKwKOArYGPz2xEkiRJGiVdJ5FPb39+EvjEgDLeNVqSJElaPDuNs+424Erg9cChMxuOJEmSRknXSeTx7hotSZIkaSlU1UOHHYMkSZJGV6dJ5AnuGi1JkiRJkiRJmoO6HokMQJKNgccB6wJfqKqrk2wIXFNVN01Hm5IkSdJ8luQfgG2BBwP36dtcVfWOmY9KkiRJo6DTJHKSVYAvADsCd7b1fxe4Gvhv4ArgrV22KUmSJM13SZ4LfJXm/iJ/BO7oK1KASWRJkiRNi2U6ru9AYHOaO0SvCqRn23HAMztuT5IkSRoF/w2cADygqtapqof2PTYYdoCSJEmav7qezmIH4A1V9YMky/Zt+y3wkI7bkyRJkkbBusDrqurPww5EkiRJo6frkcgrAX8asG1V4K6O25MkSZJGwanAI4cdhCRJkkZT1yORzwB2oZkHud+ONJ1fSZIkSYvnzcARSW4GTgRu6C9QVbfMeFSSJEkaCV0nkfcGTkxyEnAkzQ0+tknyJpok8pM7bk+SJEkaBee2P79I08ceT/90cpIkSVInOk0iV9WPk2wN7A8cRHNjvX2B04CnVtUZXbYnSZIkjYiXMzh5PGVJNgTeBmwGbAL8uKq27CsTYE/g1cD9aa42fH1Vnb207UuSJGlu6nokMlX1U+BJSVYCFgA3eGmdJEmStOSq6rCOqtoE2IZmkMfyA8q8k+YKw7cBF9FMpXFSkkdX1dUdxSFJkqQ5pOsb6/W6DbgTuHUa25AkSZI0dcdW1bpVtRNwQf/GJPehSSJ/sKoOqqqTgJ1oRkHvMbOhSpIkabboPImcZJskp9Ikka8GbktyapL/WIw6dkpyTJLfJ7k5yVlJXjBOuVcmuSTJbW2Zrccps06S/01yU5LrkhyUZOWlepGSJEnSNEvy8yQbt8/PaJcHPqZSZ1X9fZIimwOrAd/o2eevwLHAs5bwpUiSJGmO63Q6iySvAj4DfB94A/BHYG1gB+CYJK+pqkOmUNWbgcuBNwHX0Vxy95Uk96+qT7VtvQA4GNgH+AnwMuA7SR5fVee3ZZYHvgfcAfwnsAZwYPvzxV28ZkmSJGmaXMA9V/VdQAdzIk/BRsBdwCV96y8Edp6B9iVJkjQLdT0n8l7AIVX1mr71Byc5GHgXMJUk8nZVdV3P8slJ/oEmufypdt0+wJeq6n0ASX4I/AvN5XdjCeIdgUcBG1bV5W25O4GvJdm3qvo7x5IkSdKsUFUv63m+6ww1uwC4uaru6lt/PbBykhWq6o4ZikWSJEmzRNdJ5DWB/x2w7ZtMcfRvXwJ5zC+B5wEk2QB4BM1o57F9/p7kyN51NJfcnTGWQG59i2Zk8jO59wgLSZIkaVZI8p7FKF5jgytmWpLdgN0A1ltvvWGEIEmSpGnWdRL5B8AWwInjbNsC+NFS1L0Z8Ov2+Ubtz4v6ylwI3C/JWlV1bVvuV70FquqOJL/pqUOSJEmajfahmc7ir0AmKVtAF0nk64FVkizbNxp5AXDLeKOQq+pQ4FCATTfddCam3JAkSdIMW+ok8tjNPlqfBD6fZE2aEb9jcyI/l2ZU8CuWsI2tgecAL29XLWh/3tBX9Pqe7de2P/vLjJVbMM56SZIkabb4DfAQ4Czga8DRVXXTNLd5EbAssCFwcc/6jbj3AA5JkiSNiC5GIp/Pojf5CPCq9lEsOmriuzSd0ilLsj7wFeDbVXXYUsQ51fa8HE+SJElDV1UPT7IpzQ2i3wd8Nsl3ga8C36mqWyesYMmcCtwI7AS8HyDJysB2tKONJUmSNHq6SCJv1UEd40pyP+B44LfAi3o2jY04Xp1FRxov6Nt+fVum3wLgnPHa9HI8SZIkzRZVdSZwJvDWJE+mSSgfBHwhyTE0N7We8pRxbUJ4m3ZxHWC1JDu2y8dV1S1J9gf2TnI9zejjNwPLcM8NriVJkjRiljqJXFU/7CKQfm0H9zvACsC2VXVLz+axS+k2okkw07P853Y+5LFyi8x9nGQFYAPg4OmIW5IkSZoObbL4R0neCHwAeBOwEot335G1gSP71o0tPxRYCOxPkzTek+bG2WcCT6uqa5Y4eEmSJM1pXd9Y725JlqNJAC+iLxk80b5HAg8HNq+qP/bVcVmSX9NcZve9dp9l2uXje4oeD7wwyUOqaizZ/GxgRZqpNSRJkqQ5IckTaUYi7wisChwFfHZx6qiqhUxyk76qKpok9QeWKFBJkiTNO50mkZOsDnyQ5kZ6azF+B3UqcyJ/huYyuzcAa7Y36hvzy6q6neZu1f8vyULgp8BLaZLOL+wpexTwLuDoJHvTTG3xMeArVXXJ1F+ZJEmSNPOSPJYmcbwz8ACagRBvAo6ZyuAMSZIkqQtdj0Q+DNgC+BxwKXDHEtbz9PbnJ8bZ9lBgYVV9NckqwDuAvYELaKa9OH+sYFXdmeSZNPPGfQO4nebO1m9bwrgkSZKkGZHkYpq+78nAe4Gjq+rG4UYlSZKkUdR1Enlr4FVV9dWlqaSq1p9iuc/RJKwnKnMl8JyliUeSJEkagocDtwGPAx4LHJAMnomiqtaeobgkSZI0YrpOIl8BeFmdJEmStPT2HXYAkiRJEnSfRH47sG+SX1bVFR3XLUmSJI2MqjKJLEmSpFmh0yRyVR2X5KnApe0N724Yp8wTumxTkiRJkiRJkjR9Ok0iJ/kI8EbgDJbuxnqSJEmSJEmSpFmg6+ksXgG8q6o+2HG9kiRJkiRJkqQhWKbj+m4Bzuq4TkmSJEmSJEnSkHSdRP4EsFuSdFyvJEmSJEmSJGkIup7O4v7AvwIXJzmFe99Yr6rqHR23KUmSJEmSJEmaJl0nkXcE/gYsDzxtnO0FmESWJEmSJEmSpDmi0yRyVT20y/okSZIkSZIkScPV9ZzIkiRJkiRJkqR5pNORyEleM1mZqvpMl21KkiRJkiRJkqZP13MiHzTBtmp/mkSWJEmSJEmSpDmi0+ksqmqZ/gdwP+AFwDnAxl22J0mSJEmSJEmaXl2PRL6XqroB+HqS1YFDgC2nu01JkiRJkiRJUjdm8sZ6lwObzmB7kiRJkiRJkqSlNCNJ5CQPAt5Ck0iWJEmSJEmSJM0RnU5nkeRa7rmB3pgVgFWB24AdumxPkiRJkiRJkjS9up4T+dPcO4l8G3Al8N2q+lPH7UmSJEmSJEmSplGnSeSq2qfL+iRJkiRJkiRJwzWTN9aTJEmSJEmSJM0xSz0SOcnJi1G8qmrrpW1TkiRJkiRJkjQzupjOYirzHD8I2Jx7z5csSZIkSZIkSZrFljqJXFU7DdqWZD3gHcC2wHXAx5a2PUmSJEmSJEnSzOn0xnpjkmwI7Am8GPhj+/yQqrp1OtqTJEmSJEmSJE2PTpPISTYB3gXsBPwOeAPwhaq6o8t2JEmSJEmSJEkzY5kuKknyuCRHA+cCjwVeATy8qg42gSxJkiRJkiRJc9dSj0ROcjzwdOA84D+r6siljkqSJEmSJEmSNCt0MZ3FM9qfDwY+neTTExWuqrU7aFOSJEmSJEmSNAO6SCLv20EdkiRJkiRJkqRZaKmTyFVlElmSJEmSJEmS5qlObqwnSZIkSZIkSZqfTCJLkiRJkiRJkgYyiSxJkiRJkiRJGsgksiRJkiRJkiRpIJPIkiRJkiRJkqSBTCJLkiRJkiRJkgYyiSxJkiRJkiRJGsgksiRJkiRJkiRpIJPIkiRJku6WZNckNc5j92HHJkmSpOFYbtgBSJIkSZqVngLc2rN82bACkSRJ0nDN2pHISTZMckiSc5PcleSUccokyV5Jfpfk1iQ/SvKYccptnOT7SW5J8ock+yVZdkZeiCRJkjQ3nVFVp/U8/jjsgCRJkjQcszaJDGwCbANcDPx6QJl3AnsDHwK2A24GTkrywLECSRYAJwEFbA/sB7wF2HfaIpckSZIkSZKkeWI2J5GPrap1q2on4IL+jUnuQ5NE/mBVHVRVJwE70SSL9+gpujuwErBDVZ1YVQfTJJDfnGS1aX8VkiRJ0tz0myR/S3JxklcNOxhJkiQNz6xNIlfV3ycpsjmwGvCNnn3+ChwLPKun3LOA71XVjT3rvkaTWN6im2glSZKkeeMqmqv9XkJztd9pwMFJ3jTUqCRJkjQ0c/nGehsBdwGX9K2/ENi5r9zJvQWq6ookt7Tbjp3OICVJkqS5pKq+B3yvZ9Xx7VWA707yif7BHkl2A3YDWG+99WYuUEmSJM2YWTsSeQoWADdX1V19668HVk6yQk+5G8bZ//p2myRJkqSJHQXcD1i/f0NVHVpVm1bVpmuttdaMByZJkqTpN5eTyNMiyW5Jzkxy5rXXXjvscCRJkqTZoPp+SpIkaYTM5STy9cAqSZbtW78AuKWq7ugpt/o4+y9oty3CkRSSJEnSvewIXAf8dtiBSJIkaebN5TmRLwKWBTYELu5Zv1G7rbfcRr07JlkXWLmvnCRJkjTyknwT+DlwLk1/e+f28fop3PxakiRJ89BcHol8KnAjsNPYiiQr09xB+viecscDz0iyas+6nYFbgR/OQJySJEnSXHIx8HLgm8CRwMbALlX1qaFGJUmSpKGZtSOR24TwNu3iOsBqSXZsl4+rqluS7A/sneR6mlHFb6ZJjPc3I9fnAAAgAElEQVR2cA8GXg8cneRDwAbAPsCBVXXj9L8SSZIkae6oqr2AvYYdhyRJkmaPWZtEBtamGfnQa2z5ocBCYH+apPGewJrAmcDTquqasR2q6vokWwMHAccCNwAfo0kkS5IkSZIkSZImMGuTyFW1EMgkZQr4QPuYqNyvgKd0FpwkSZIkSZIkjYi5PCeyJEmSJEmSJGmamUSWJEmSJEmSJA1kElmSJEmSJEmSNJBJZEmSJEmSJEnSQCaRJUmSJEmSJEkDmUSWJEmSJEmSJA1kElmSJEmSJEmSNJBJZEmSJEmSJEnSQCaRJUmSJEmSJEkDmUSWJEmSJEmSJA1kElmSJEmSJEmSNJBJZEmSJEmSJEnSQCaRJUmSJEmSJEkDmUSWJEmSJEmSJA1kElmSJEmSJEmSNJBJZEmSJEmSJEnSQCaRJUmSJEmSJEkDmUSWJEmSJEmSJA1kElmSJEmSJEmSNJBJZEmSJEmSJEnSQCaRJUmSJEmSJEkDmUSWJEmSJEmSJA1kElmSJEmSJEmSNJBJZEmSJEmSJEnSQCaRJUmSJEmSJEkDmUSWJEmSJEmSJA1kElmSJEmSJEmSNJBJZEmSJEmSJEnSQCaRJUmSJEmSJEkDmUSWJEmSJEmSJA1kElmSJEmSJEmSNJBJZEmSJEmSJEnSQCaRJUmSJEmSJEkDmUSWJEmSJEmSJA1kElmSJEmSJEmSNJBJZEmSJEmSJEnSQCaRJUmSJEmSJEkDmUSWJEmSJEmSJA1kElmSJEmSJEmSNJBJZEmSJEmSJEnSQCaRJUmSJEmSJEkDjUQSOcnGSb6f5JYkf0iyX5Jlhx2XJEmSNBvZf5YkSVKv5YYdwHRLsgA4CfgVsD3wMOCjNAn0dw8xNEmSJGnWsf8sSZKkfvM+iQzsDqwE7FBVNwInJlkN2CfJAe06SZIkSQ37z5IkSVrEKExn8Szge32d3a/RdIy3GE5IkiRJ0qxl/1mSJEmLGIUk8kbARb0rquoK4JZ2myRJkqR72H+WJEnSIlJVw45hWiW5E3hbVX28b/2VwOFVtVff+t2A3drFRwIXz0igs8/9geuGHYRmlMd89HjMR4/HfPSM6jF/SFWtNewg5ir7z0tsVH/fRpXHe/R4zEePx3z0jPIxn7T/PApzIi+WqjoUOHTYcQxbkjOratNhx6GZ4zEfPR7z0eMxHz0ec80E+88Nf99Gi8d79HjMR4/HfPR4zCc2CtNZXA+sPs76Be02SZIkSfew/yxJkqRFjEIS+SL65m5Lsi6wMn1zvUmSJEmy/yxJkqRFjUIS+XjgGUlW7Vm3M3Ar8MPhhDQnjPwliSPIYz56POajx2M+ejzmWhL2n5eMv2+jxeM9ejzmo8djPno85hMYhRvrLQB+BZwPfAjYADgQ+HhVvXuYsUmSJEmzjf1nSZIk9Zv3SWSAJBsDBwGbATcAnwf2qaq7hhqYJEmSNAvZf5YkSVKvkUgiS5IkSZIkSZKWzCjMiTxnJFmY5KIk5yS5MMkrerY9O8mHhxnfZJJUknPb+H+ZZOslqOOwJHtMR3x97SxIcmuST/St3yfJR6a7/cl0FUeSXZMc1bO8bZIrkzwhyaZJjphCHVsmObN9vn6S65Y2rkH1L8Y+vb8r5yf5z3b9Iq93NktyepKzk/wqyd/a52cn+cFUjsskdZ+SZNsl2K+SrLI0bWtiSXZqz49nt5/hr0xSfuDv3JIe5746Bv7+9Z4jkqyR5O1L09Z81XM+Gjumn0uyfLtt9yRvmmT/Kf3dS/KcJE/oWV4/yW4TlF8hyWeSXND+bT4/yQvbbY9J8vypv8pF6u39mzClvyPSdLL/bP+56zjsP89e9p9Hk/3n+cf+89ztPy837AB0LztW1flJHg38IslxVfWHqjoGOGbYwU3B5lV1c5Ltga8nWbuq/j6VHZMsO82x9XohcBrwgiRvq6o7ZrDtaZFkuar62wTbXwh8EHhGVV3Qrn7RjAQ3PcZ+V/4FODXJScMOaHFU1b9C84cMOLOqHjPUgDTtkjwI+Azw2Kr6XZIAQzvuSSbsA1TVmdxzjlgDeDtwwHTHNUeNnY+WBX4M7AB8vaoO7rCN5wBnAj9vl9cHdmPwzT/eAKwJ/FNV3dX+g/ugdttjgG2BbyxNQH2fEWmY7D/PDPvPjbl83rP/rDnF/vO8Zv95DnIk8ixVVecD1wPrwKLfELffYpyd5JCekQuPGts3yQeSXNp+U/uhnm88Jtvvpe0+ZyU5Ockj2/WbJ/lFu+8FSV4whZdwIs0v35pJjkhyZpLzkvxvmpu1jMVzbpIvJjkbeFZvBUm2arc/emneywFeDrwfOBfYflChJO9I8vP29R+b5IFJVmrj2r4t85T227NV2+0/aN/DC5Ic0FPXPkm+muS4tvz/JVm53bZ6kqPa9acAD+vZb4UkH27jOCfJl9uT2dg3cJ9P8mOak+Og17E7sB+w1VgHOH3foCbZJslP29h/luTfJnsTJzm2E33W3t9+Rs8A/qNn/SPbtsdGSLx1shiq6pfATcBD+2Kb6Fhs38Z8dtvOlu369+aeb0R/mWSNydrvWhb9lrL/GPVuO2nsM9gub5vkBz1VbZHkJ0kuS7J/T7kNk3y/PS6/SPLMAXEsbI/Tz5JckeSFSd7Yfg4vTfLknrLjfnYm+xyMoAcCdwJ/AqjGL9M3WqJ/uWf9ikm+nuSjSdK37T+TnJHkwUke1J5Pft5+zvfqKbcwyf5Jfg4c0q5ePsnh7e/Jz9PMg9r/+fs0sEZ7PE9tt0/Wzn7t52FhZmCE3Cxxn/ZxPSw6Ki5T+FuaAef7JM8Ang28s91/F5pjsnG7PN4IsgcDV4/NX1tVN1fVJUnWpPl78NR230+2bY97Pm+3DTpn95+jdmn3P7etY+12/a5JTmg/vxe054sHLtU7LY3D/rP955797D9PwP7z3dvsP89+9p/nP/vPc6n/XFU+ZskDWAg8un3+ROACYIV2eVfgqPb5ljQn0n9pl98FHNE+3w44B7gvzZcER9N8SzvZfk8C/g9YsV1+FvDT9vm3gRe0zwOsMSD+Albpifd37fP795R5P7B/Tzx3AZv1bD8M2IPmm5kzgHWm4X3+p/a9TtvO8T3b9gE+0j5/Mc03VMu0y6/ueb82Aq4AngBc3vOe3qfnPVgeOBl4Zk/dl9B8IxngBOCV7baPAl8Ye7/ausfieDfw7p4YPwR8oOf9OhO474DXuivNH9yrgH/o27Zlz2fjYcDPgNXa5U2AK8Yptz5wXU8dEx3biT6j5wKrAMsCx/bU/wlgz546F0zhd2Ur4Mb2fd2Ve35PJjoW59B+7toYVgPuR3PjoJXa9asCy83A733/e9r7ft/9fJxtLwaO7tn2TWCX9vkpwNdpzgGrA9cBD2+3nQ78V/t843bbWuP8Di8EPtw+fzzwV+C17fLzgZ9M8bMz7udgFB/t8fhW+54fBbyRJlnQ/xm4e3nsefv5PAV4fU+5U2i+DX87cBKwerv+RODJ7fMVaL7Zf1rPcf1M32eqgC3a5ZeO9/nrj3GK7XykZ9+bxz5b8+3RvtaLgLNp/iH/Zs+2fXreh3H/ltL+3WufT3a+36Pv2J05QVz/CPwBOA84GHhOz7Zdac+VPesGnc8nOmf3fkYe3bb3oHb5fTSjScbaux5Yt13+3Njr8uFjaR/Yf777/ID9Z/vPZf8Z+8/z6oH9Z/vP9p9nVf/Z6Sxmn6Pab8g2BHaqwZeJXVzNN8jQXFa2Xft8K+AbVfVXgCRfAvaewn7bAf8MnN5+QRdg7FuUHwDvTvIw4MSqOn2C+E9N8nfgGppLBwB2SfIimpPkfYFf95S/pKp+1lfHy4Bbga2r6sYJ2lpS/wUcXlWV5GjgU0nWqarf95V7NrApzWWR0Ez/8heAqrooyXuAU4E39bynywIfTrI5zXv4QJrLHr7bbv9eVd0AkOR07hkxsRXwurbu69q4euNYLcmO7fKKNJ24MUeNHe8BLgIeQHMJ4qB54p7RxvKjni9ol0vygAnqhYmP7USf0a9X1c0ASf6H5sQP8CPggDQjTH7QPgY5KsltNB3g51XVDX1fLk90LE4GPpbkmzT/BI1dRnMpcHiSE4DvVNVNk7z+YTqa5jWs2S5vAezSs/3Iai6F/UuSC4GHJbma5j34IkBV/SrNKKZ/o/nD1u/r7c9fACv3LJ9Fc46CyT87gz4HI6c9Hs9JMzpsC5pz5NuY/D25D/AT4L1VdWTftn1o/mnepqruSHJfmo7JWj3HY1XgUTSdVoDD++q4tKp+2D7/MnBoktUmCmiK7XwNoKoWJrme5pv9iyZ5rXPV2OV49wG+meSNVfXxvjJT+Vs62fl+yqrqvCQbAE+mSax9Kskzq2r3AbsMOp9PdM7utRVwXFVd1S4f0hf7T6vqd+3z04CnLcnrkgaw/2z/2f6z/eepsP88x9h/tv+M/edZ1X82iTz7jP0i7QR8MclPq+qaccrd1vP8LqZ+LAftF5pv8t/Tv0NVfTzJscBTaX6JTqiq8X4BoJ3TbWwhyZNoRiBsXlXXpplXrHci85v7K6D5pXkyzcl0og73YkuyAk1n8Pb2cgZovmXfFfhAf3Hg/VX1hQHVPRa4lubEPubNNP88/GtV3ZbkUJo/YGP63/+VphI28JqqOnnA9vHew15XATsDpyShqsbrCAf4blXtcq8NAy6fmsKxXezPaFV9M8nPgKcD76S5bPLFA4rvWM1lq4MMPBZV9aYk/wg8BTgyyYFV9bk0l5E9sV1/VvsH49zJ4p5Gf2PRaYfu/ixV1S1Jvk3zeQb4dt8/Q0t6juh1W9vWXW1HZ6zO/nPHRJ+dLuKYV9rP7fnAp5P8iuYb6HGPc+sOmk7Ds5McXe3lVa2xzsRDaEZqLUMzMuLxVXXngBAmO2dMxVTaGblj355rvkMzwuXjfdum8rd0svP9YsdDM2rvhCTH0fyDcq9O8BTO510Yuc+DZpT9Z/vP9wob+8/jsf9s/3lOsv88f9l/ntCs+zw4J/Is1X5bdgKw52LuegqwY5KVkywDvGSK+x1L8y3KgwGSLJvkce3zR1TVb6rqEJrLpZ4wQT391qAZffCnJCvSdGom8wuaSdWPSLLFYrQ1FdvTfLP74Kpav6rWp+lw7TpO2WOA1+SeecpWTPLP7fPn0lzCuAmwbZKx+ejWAK5qT4TrMMF8cX1OphlBQvvN+HP74nhzkpXa7asO6pgOUlVX0nzL9eqMP0/aCcAzk2wytiLJ4yepdkmOLTSv9flJ7tuOXnhZT5sb0sxBdBiwL4v3WRsvvnGPRZJHVtV5VfUJ4P8Bj0+yKs1laT+sqvfSdFKmYz7BxXEZsEGau6EH6J8D6jCaz+6utKMjJtKODDmb5pKrsU7qP9N0pJbUknx2RlKSdZJs1rP8YGAt4EKaedXGRqe8sG/Xv9OMALuR5oZLy/ds+y5N5+W4JJu0x/jHNP9EjrWzbiaeP+thbSdorO3zxhnFdiOwctqbiSxhO/Ne+3d3CxYdVTa2bSp/Syc6399Ic3ktA5b723tS2jnVWo+luXx8vH0nOp8PPGf3+QGwTc9n4JXcM6pGmhH2n+0/98Vh/3nx2X/uY/95uOw/z3/2n+dW/3noWWxNaE+ab3M/NNUdquqYNJcfnQv8meaP24KJ94Kq+lGSdwHHtB/yFYAjaS67eX2SrWi+zbud9rKxKfouzTfhv6aZl+hHTKFjU1XnJtkWODbJHlX1vcVocyIvB47oa+tnSZbp73BX1ZeT3B/4YdP/YBngM0n+AnyS5nLBPyfZmeYP0Obt+iOTnA9cCXx/inG9D/hCkouAq2nepzH701xyc0aaSx2LpoN44WK8bqq5m+2WtCMq6LmRSDWTxb8Y+J/25LsC8FOaefUGWdJj+522I3AOzRw/p9DeAIdmrrAXJbmD5nW+YTFeYr+JjsX+SR5OM1LhBpoOxuo0l9GsRHOsf0FzydswNBOsVf0hyUdpfg+vAX5I848X7fafpL1sqqp+MsW6XwQckuRNNK//JVV17RIHumSfnVG1HLBvkofQXHK8DM38XWckeQNwYpJraebXXERVFfDaNDeZ+FaS5/VsOznJrjTn7x1pjvHHkpzXFrmJ5tx39YC4zgNekeSzwC0selnnWBt/TnIEcF6S66tq8yVoZz4buzx4BZp/oPcbp8xU/pZOdL7/MnBYmpGWBwJfAS5uz3EXVdWOfXWtD3wyzQjCu4A/cs/ItO8Db01yDs155S0MOJ9Pcs6+WzsK9J00n+Oi+Sf+VQPeL2k62X+2/wz2n5eU/efx2X8eHvvP85f95znYf07ze6X5JMmqVXVT+43O54E/THD5nKRZJMnzgZdX1bh3fZYkSd2z/yzNXfafJWlmOBJ5fjo8yfo084WdBRww1GgkTUmSVwFvBV477FgkSRox9p+lOcj+syTNHEciS5IkSZIkSZIG8sZ6kiRJkiRJkqSBTCJLkiRJkiRJkgYyiSxJkiRJkiRJGsgksiRNQZJdk5yV5KYk1yf5ZZIDe7avnWSf9qY8i1v3Cu2+j+lbv36SSrLt0r8CSZIkaebYf5ak+cUksiRNIsmewOeB7wE7ALsA3wae3VNsbeC9wPpL0MQK7b6P6Vt/FbAZ8JMlqFOSJEkaCvvPkjT/LDfsACRpDtgDOKSq9upZd2ySfaez0aq6HThtOtuQJEmSpoH9Z0maZxyJLEmTWwO4un9lVRU0l80B57Wrf9BeQje27b5JDkpycZJbklye5NNJVuup6qb25xfH9m0vxbvX5XhJlm0v3bsiye1JLkjywt64khyW5MwkT0tybpK/JvlJkk0mepFJtmzb2zLJkUluTnJZktf0ldssyTFJrmrrPjvJi/rK7NrW9dgkp7Sv/ex2+b5JvpjkL239Lxgnlu3b13BbkquTHJBk+Z7tD07yjSR/THJrkt8ked9Er0+SJEkzxv7zouXsP0ua80wiS9LkfgG8LslLk6w5zvargLFO4GtpLqHbrF1eGVgWeBfwLGBv4CnAkT37P6X9+f6efa8aEMt+bV2H0lwO+FPgiHE6kusBHwY+ALyA5nLBryfJZC8W+BxwDvBc4BTg00me0LP9IW27/wVsB3yTpgN/r84s8CXgq8DzgABHAf8D/AHYETgdODzJg8d2SPJ84Gjg5+1r3BfYDfhgT72HA+u265/Vvs4Vp/DaJEmSNP3sP9t/ljTfVJUPHz58+JjgAfwTcBlQwN+BC2g6o6v1lHl0u33LSepaDnhiW3a9dt0q7fKufWXXb9dv2y7fD/gr8N6+cscBF/csHwb8DXh4z7rntHVtNEFsW7Zl9utZtzxwLbD/gH3SvqZDgJN71u/a1vXSnnXbtOu+0LNudeBO4NU99f0W+GJfOy8HbgXWbJdvBrYb9mfDhw8fPnz48OHDx70f9p/tP/vw4WP+PRyJLEmTqKpzgUfRfKv/GZqO2t7AmUlWmWz/JC9Jczfqm2k6fGM3+njEYobyaJqRGUf2rf868Igka/WsW1hVl/Qs/6r9+WAmd8LYk6q6E7ikd78kC5J8MslvaV7PnTQjGsZ7Pd/veX5p+/Pknvr/QtPJXqdd9QiaUSDfSLLc2KPd5z407wHA2cAH28v+1pvCa5IkSdIMsf9s/1nS/GMSWZKmoKpur6pjq2qPqtoYeAXwcJpL0gZK8lyaS8d+BuwE/BvNZW7QdOoWx4Pan9f0rR9bvl/Puhv6ytyxGG2Ot2/vfocBO9Nc7vd04PHAFwbU3VvXHeOs66///u3P47ing30ncHm7ft32587AmcDHgN+288VtPdGLkiRJ0syx/2z/WdL8stywA5Ckuaiq/ifJAcBGkxTdCTi9qu6+uUaSLZaw2bF53tYG/tSz/gHtzz8vYb1TluQ+wLbAa6vq4J71XX0pOfYadgN+Oc72ywGq6vfArm27TwD2AY5Jsl5V/Wmc/SRJkjRE9p/tP0ua2xyJLEmTSLL2OOvWopmPbGwUw6CRCisBt/ete1Hf8lRHOZwP3ELTse71fODXVXXtJPt3YUWavx13v6Ykq9JcqtiFi4HfA+tX1ZnjPBbp4FbV36vqNJqbh6xMc9MSSZIkDZH950XYf5Y0LzgSWZImd16Sb9PMdfZHmo7WW2k6pF9qy1xBc+OKlyb5C3BnVZ0JnEhzd+Z30dxJeRtgkcvGquqOJJcDz09yPnAbcG5/EFX15yQfB96d5G80l6Pt0NY53p2dO1dVf0lyBvCeJDfS3CjlncBfgNU6qP/vSd4CfDnJasDxNP8kbEBzc5MdaW5W8j2ayxx/TdMxfwtwNXDh0sYgSZKkpWb/+Z4Y7D9LmhdMIkvS5PYDtgc+STNv2tXAqcDOVTV2edhtSV4JvBf4IU1HLTR3Xd4AeAPNSIkTgRcCp/W1sTvwEeAkmk7dQwfE8h6aO0e/muYyvEuBF1fV17p4oVP0QprXdTjNZYEH0Yxi2KOLyqvq620Hey+au0rfRXN37+/QdIjvAs6jeU/Xpfln5DTg6VV1axcxSJIkaanYf16U/WdJc16qatgxSJIkSZIkSZJmKedEliRJkiRJkiQNZBJZkiRJkiRJkjSQSWRJkiRJkiRJ0kAmkSVJkiRJkiRJA5lEliRJkiRJkiQNZBJZkiRJkiRJkjSQSWRJkiRJkiRJ0kAmkSVJkiRJkiRJA5lEljQrJFmYZGEH9ZySpDoIaU5IsmKS/ZNcluTOJJVk/WHHNZslWb99nw4bdiySJGl+aPsWp3RU12L1i7vqR2t2SnLYdPfxZ+J/qCT7tK9jy+lsR9L0MYksjbCeZFrv444kVyQ5PMkjhx2jJvU24B3AQmB/YF/ghplqvP2npZL8Lck/DCizUc/n68yZim26JVklyUuSHJXk0iS3JflzkhOTbDvBfusm+XKSPya5Ncm5SXZPkr5yyyd5Xvu7eFGSW5L8JclPkuwyQf33S3JQkiuT3J7k10n2SrJ8l69fkqSZMk5/daLHKVOs0y+VNSv4WZx5SdZM8qok30lyedtn/mOSbyd54gT7bZLkW22f/69JTk+y0zjlpvX/BGlYlht2AJJmhQuBb7TPVwM2B14CPCfJv1bVhUOLTJN5FnAz8IyqunNIMdwFLAu8GDhgnO0vA/7G/Pub8+/A4cC1wPeBI4F1gOcBT03yrqr6794dkqwLnA48ADiKJvn/DOCzwIbAW3uKP6wtc2Nb/7eANYEdgC8l+feq2q2v/tWAHwMbA8cB5wFPBD4A/Atwr06uJElzwL59y2sAbwB+CxzWt23hDMQz3bYedgDSNDgI+BpwxbADoekTfxa4kqaffRVN3/u5wHZJXlJVR/TukOQxNP3s5Whex3U0/fJvJHldVR3UU3y6/0+QhiJVI3PVt6Q+7SVRlwPfrKod+7Z9GngN8OWq/8/encdJVpX3H/98AUEJoogQo1EHRMUliQsuoAkqLkBEUSHEJXEnmqgoxgV1FDSJOy4QRUgU/RlEQIGAAgEVRIEIihoXFpcBXFDQQcBhEXh+f5xbcKmp7q6eqe5mpj/v16teNXXvueeeqq6efuqpc59TU856nOBYlgFU1ZLV7OdUYPuqWhTf1ib5CbDO6r5uq3H+ZcBGwI+AO1bVg4b2r0sLFL8FPBX4ZlVtM9/jHBrTEtr7/pNV9YLV6OcvgAcBR/YT+EnuC3yD9rosqaqf9/Z9Bvhb4MVV9fFu2+2Ak4DHAQ+vqnO77fcAntaNc0Wvj826/pcAj66q/+3teyfwRuAdVfXWbluAT9J9MVRVx67qc5Yk6bag97f8tKp63Gr2sVrxQK+/Wp3xrOa5l8Hqx9FaGDO9F7sZys8HtqiqZXM0hlNZXJ+hngDcATihqm7qbd8OOBX4PXC3qrqut+9M4FHAk6vqlG7bHWmJ3yXAfarql932Of2cIC0Uy1lImsqh3f3D+xunu0xw1L4kf5rko0l+3F3G85sk5yZ5+xR9bJzk35Nc2rU/O8kTZzv4JOsn+Ze00hzXJfl+kmdP0XarJJ/uznldd0nT+5PceajdlJeaTbUvXY26JHdN8h/dOW7qvskmySO7y6Z+3p370iSnTTXWXr/7dh9WtgDunVsu4Ty01+ZuST6S5JK0MiU/T3JIRpSdmGmcYzgUeGCSRwxtfzJwd1aeJTQ47/2SvC/Jd5JckVay4TtJ9hp12dbgPda93kckubzbdudu/x2SvDHJt9MuMftdkm8ledsU579/kuO6dld1/77POE+4qr5TVYcNzwCvqgtpM/vXA7btnetOtNkHFw4Cw679H4C3AgFe1Nv+86r6aD+B3G2/DDi4e/iXvf7Xoc36vhJ4Z699AW8GCnjJOM9NkqQ1VZKHpV1ufnkXS56XZGmS2/favICWtAN4fm5dDmNJ12ZWMcosx3hqd64Nu3NcnOTGJLt2+0fWOE7y8CRf7mKcy5N8MsldpznPnZO8O6201bVJLktyeJKtRrRdpZi0O/bmODjJQ5Oc0sVVy5MclvbF+KjjHpHk6G5c1yU5P8lbkqw/1O4FXf8vSLJ72ueDFUmOmWFcN9fgTfLitM8D13Tn+buuzWB9kYtzy2ePbafob4e0cgRXdP18O8kruxis3+5x3Xn3TfLoJF9JcnVaOYP/SpsQcPNzY4b34q27zt5JLuxerx8n2Wu612DEc9iq+zlf1T2PY5JsMUXbKWsxj9o3088pI2oiz+a16h0z+Jx3Se/nsEf//DO9DlX15ar6Qj+B3G0/A/gK7WqHP+ud84HAo4EvDRLIXfurgH+jJaSf09s+p58TpIWytl1aLGnyVrlEQpI/Ar4O/AlwPO0P5sbA1sCetD+IfesD/wPcEfgssAnwbOCLSbapqu/O4vSH0y7fP572f92zgcOSXFFVJ/TG+CDaZUl3Aj5Pm1H7KGBv4ClJtu2Cg9WxAe0ypvW653UHYEWShwNfo5WjOAa4FNiclrh/JvCZafo8tbt/dXf/we7+293zuhvtW/F7AScCn6aVOHgJsFOSR1fVz8YZ55jP8fBuDM8Hzu5tfyMAbPQAACAASURBVAHwW+C4KY57ZnfMl2k/+w1piecPAvcFXjHimE1p76uf02bYbg7c2L3fvgI8glbG4WO0gOuBwFJWvhR2C+AM2mt2CC1QfCrwoCQPqqprxnrmo13f3d/Q27YtcDvglJWbcyZtxsP2q9H//WiXv50wPPaquiTJ+cBfjdm/JElrnCSPBwZx3mdpl6g/EXg78LgkT66qG2l/+z9EK4nxHVocNjBYW2JVYpTZOpr29/t4Wnmw307z3B4KnEaLlw8HfkEra3ZKt+36ofab02Lc+wEnA8dyy+X0T+pi3Au6tqsTk/bdpxvj12ilC/6CFoNvm+ThVXXz80uyW9fv77uxXUYrqfcO4JFJnl4rXzb9bNqMzGNpP5ffjTmu19DKCxxLi6H3AD6V5LfAy4D7d/vu3J3jhCRLqurmdUaSPJdWnuAq2mea3wG7AB8GtqG9V4Y9krZ2ycnAQbQSY88BtkyyXff8xnkvDry/6+N44BpaSYYPJrmuqg6a6UVIK5fwdWAz2nvvgu51OZ1p3nurYFV+TuO8VgOfpj337wGH0Z7Pod25JmFUnD2IoU8e0X6wbXvaz2hV+p/k5wRp7lSVN2/eFumNdtlNAUeN2PeRbt9HhrYXcOoU/d1qH+1S/AL2GtF206HHy7q2nwNu19v+/G77x8Z8Tqd27c8ANupt377bftJQ+6922/9maPt7uu3vHfF6HTrNa3noFM/rv4H1h/bt3+37i5len2me7zJg2Yjtn+r6fv3Q9n/sth857jjHOP/l3b8/C/xmcDwtEL8WOLD3/jhn6Pi7j3hd1qXV872RdpnX8HusaLXBMrTvg92+A0bsu8eIn1UBrx1q94lu+7NX4/dqI9oHu2v6P0fah80C9p7iuP8DVozR/7rAucBNwIN725/a9f/hKY47rtu/+ao+N2/evHnz5u22cOv9LT+1t21d2ozOG4Bte9tDS7oW8E8j+jh0inOsSoxy6pjjP7Vrfzaw8Yj9K8V3tORfATsNjed/uu3D7Q/vYoVnDm1/JG2SyBd721YrJh2KrZYO7Xtrt/0DvW2b0ZKxFwzHJbSE6q1ic9qkhOp+to+dxftk3+64y4B797Y/vNu+vPtZ3KG377Xdvn/ubbsz7Uqv3wFb9bZvQEvAFvDXve2P670ez+ptX4c2YaOG3qMzvRcP7fZfCPxxb/tW3c/y/DFfj//q+nn50Pb/HIx3ivMumWZMS3rbpv059X4ej1uN1+op3bZTgfV62x9De78X8IJx3yMjxngP2iSaXwLr9ra/r+v7mVMcdxXwgzH6n9PPCd68zfXNchaSoJUh2Le7vT/JWcDLgZ8A/zKB/n8/vKGqfjNF273r1pf9/BctEJltHd19qurq3vlOowXkN/eT5N60cgDfqKojho5/By1QnFQ96H2q6vop9s3m9ZlRkg2Av6EtFPGBod0H0WZbPyOthtdsxjmTQ4G70JKZ0GYhbMAUpSwAquoXw+erNkPoEFrw+LgRh10HvLmqarAhyXrAi4FfAW/s7+v6/Dkr+wkrvz6Dsa5O3eYDabPv3z30c9y4u79yiuOuBO6QVvtsOm8FHgJ8qqq+N8v+oc26lyRpbfNYWjLuc1V15mBjFxPsQ0swPX/czlYxRpmtfatqqr/bN+tKBmwHfL16V9R14xm+sm+wfsLuwH9X1ef7+6rqG7TZrk/pLqHvW92Y9LesPBPzfbRk7XN72/6elkx7fVX9eqj9W2jJtD1G9H90VX1tFuMZ+HBVXTR4UFXfBH5MSw4vrVtfwfXZ7v7PetueTrtS8qCq+lGvn+toJcNg9Hvr1Kr6XK/9TbSJHrBqsea/VNWvev39iDbr+35TxPU36z4fPIu2GOXBQ7vfRvtiZFJW5ec07ms1KBmxX1Xd0Gv/ddrVl6us+zzxSdrVmPt0v18D48TZ48TYc/05QZpTlrOQBPAAWvDQt4z2DfIvV6Pf02iXw30kyQ60P+xfraqfTtF+eT/AA6iqG5L8ihbkzcaoRQd+TivvMPAXvXHeSlVdleRc2qWPf7Kar8M1VfX9EduPpF269r9JDqNdvnR69S71W0X3pyVvz6yV63DdlORrtJkLD6ZdHjXTOMf1P7Rv7V9AKw3yAuD7VXXOVAekLbz3D7QPEw+kfaDo1xn8kxGH/XTEa7R1d+zJVbXSB6ApfKeG6qDR3iMw+/cbAEmW0j5EnMxkvoAZ7v/vaaU5vgu8ctL9S5K0BpsurvtpkouBPx+3s1WMUWZryhhpyGDcoxJz3+DWl8VDS7qtA2ycZN8Rx9y923/fbgyTiknPrZXXcljRxdRP6MXUj+x2/1VGr79xDS2eHTbu6zXsOyO2/ZJWfmN436XdfX8NkSnfW7QZ4jf02vRN9XkEVi3WnKm/6UrwDT4fnDWUHKWqfpbkImDLVRjTKKvycxr3tRr8LpzJys6klXiZtSShTbbZAfhEVR26Kv3McI45/ZwgzQeTyJKgzdjYrfvj+ce0kgdLgaOSbN//lnc2qup3aSvc/gttdurfAiT5P+AN/ZkUnam+eb2BdrnebM49qq8buPWCooNvfH81om1/+8a0QHNVXTZqY1Wd2SXX30L7kPIK4KYk/wO8uqrOX8XzzeZ5zTjOcVXVjUk+Dbwmyfa0Dwivn+GwjwIvpX1pcSQtcP8DbSbR82nB7rDhGStwyzf/v5jFkKd6j8As328ASf6ZVnPxdGDXEb83g/MNv+70tl8znPjv9b8H8HHgPOBJtXKt7nH6h/HrB0qStCYZJ/5ZkmSDbgbpTFYlRpmtUTHNKIPntlKs1k0QuHxo8126+8d3t6n8UdfHpGLSqWLJwfMcxNSD8b1mprFN0c9sjYr5boSVPzN0E1ig1acdmPK91cW/v2F0/DXRWHM1+5vyPdT5NZNLIq/Kz2nc53ZH4OqqunZC5x34MO2qxiNov/dTjW+6OPuSqTqf688J0nwxiSzpZt3lfpcCb+0WZnspbVZC/7K0YsT/HUlG/sHrZh0/t7s86OG0ZPKrgGOSPKSqfjjZZzErgz/WfzzF/j8eajeYtTrq/86p/uBDe81G76g6FTg1yUa0yzB3B14IfCHJA1extMRsn9eM45yFQ4HX0cqQ3Aj8v6kadu+xl9AWFNm2Hwx2CdOpLjkdNc7BwiN3H7FvziV5NfBe2gyInYdn4XQGlz+OWhF9XdpCfz8a3tft3422iMhPgB1GXPo5bf+97VdOcawkSWu6ceKf68ZJIK9GjDIrw+W3pjF4bpsN70iyDm3R4V+MaL9fVe075lhOZfVj0pXG19l8aFyD+y2qatk44xsMcxZtJ2nK91YXw21Ki9Fuy6Z8D3U2H7Ft4p99JuAq4D5Jbj8ikTzqOcwoyQdoX5wcDTx3eKZ2Z7o4/o9pVypMFcfP6ecEaT5ZE1nSVN5EW6F5ny6YHLiC0Ym6h07XWVXdUFX/W1VLaSvvrk9b4XohDS5f+6vhHd1zfgjw614pi+kSldM+/5lU1dVVdWJVDb4Bvw+tzMiqOJ9WN3jb4bpZ3QeNx9ASvN8bcexqqaof0BaJuQdtEcNLp2m+hHZZ6JdGBIHbzvLU59OCyu2SjJq5MmeS/BOttvLZwI79WtxDzqTNYHriiH3b0mbcfHVE/7vSVi+/GHj8NKVVLqDNkHlMkjsM9XFP2mWMp8/4hCRJWjNNF9fdG7gnty5dMEgUjZrBuYTJxSiT8N3u/rEj9j2SW8+ahVZOoIBHzfZEqxmTPjTJhv0N3eOHApf1YphvdPezHt8CmfK9RXs/rEf7wmFVTfdenJTB54NHd0nJmyX5U+DeI44Z+dmn+zwxqnzHfBj8Ljx6xL5R26aV5L3Aq4HjgT2muQJ3EKM/acS+Jw216fc/p58TpPlmElnSSFV1OfDvtG/W+7VXzwG2SHJzENsl7f51uI8kD+wW9hg2+BZ/nEsJ50xXf/l04FFJnjm0+820+luf6rW/krYq8mOT3Hy5V/cc38wsJXl0t8hFf1u45Vv0VXp9uhk2RwB/ysp1c19Kq3939IhyCJPyQuAZtIBsOoNLvh7dPW8AkjyCdinl2LqA7xDae+td/f66Pu8xm/7GleQfgAOAbwFPnm5xnKr6HfA54L5JXtTr43a0y9uKtjp2v/+n0hZ4+TktgTxqgcBB/zcBn6DNDNmn10dov58B/mOWT1GSpDXF12ilJ3ZLMqi5O/g7+G+0BN2neu2Xd/ejYoSJxSiT0M3WPYP2RfHNNV+7ZODbR7T/JS3m2LEfc/SOWy/JY3qPJxWT3gV47dC2fwY2AQ7rbTuUtojfu5NsMWJ8mydZ1ckUc+EY2mSFlw19BlifWz4DfWrUgWOa7r04Ed3ng8/RksV7Du3ej9EJ7EFt4+GFxl/F5EpfzNZnuvu3dle6ApBkW2ZZDznJv9HenycCu01XKqKbKHMWsEOSmxO9aQsavolWx7v/Hp/zzwnSQrCchaTpvJ92ac9rkxzQfXP6Qdq3rSd0C2/cQPuDPWoxhCfTgsOv0WZJ/g54ELAzLSl2xNw/hRm9nJZIPiLJ52grNT8KeALwfVYOzD8AfAQ4M8mRtHp4u9AW1bjvLM/9RtqCIqfTLoG7EdiethjKCVV13io9o+b1XV/v72rcfYe2KMzTaJc7TleDbrV0i/PNuEBfVf08yfG0EidnJTmNtvDhrsAXaYno2VhKm2X9CmD7JCfTEqf3p70XJ7qacZIn0OolQvv5v3oodw1wTFX1Z6a8nraa+yFJngL8FNiRNpvj/VV18+9Rkq2Bo2iz9k8DXjSi/1O7y08H3klbQXxpkocB/0ebtfRYWu3zY1bpyUqSdBvX1aZ9EXACcFqSz9Lq7z6RFlt9mbZw1qD91UnOpsUMh9JiwAIOmIMYZRJeQUuUH5vkcFo8t2O3b9RVSi+nxX7/2SWzzqYlg+8N/CUtcbl113ZSMenXgNd1Cb1v067q24mW3L85pq6qXyX5O1pC8IdJvkB7/TemxdN/RYvrFrLs3c26dV7+kZYo/mb33rqS9hlga+BTVfWF1eh/uvfiJNeyeCPt9+Hfu0To+bT3wha0mPHPhtofQ/vZvbibrfx/tFnlD6HFpttPcGxjqaoTk3weeCbwrSRfpJXoeDYtGbwTt5ThmFKSF9ImXVxH+5y0z4g4+9Chcisvp73Hj+t+By+n/V9wH+CVVXVzSZm5/pwgLRSTyJKmVFWXJfko7RvaVwDvqqovJnkObeGNF9Iunz+UFhgO10o7iRaUbA/sAdyeNrPjQ8B7V2HF54mrqu93s1X2owVVz6AF5fsD7xierVtVH+1mHbyK9i3+xcC7gGNpwcxsfJQWgD6athLwDbRgYW9uCTpWSVVdmuRRwNtoAe6TaIHOfwL7TjejdZ49j5b43IU2a/p82gyfi5jlB7Ru9e/H016/Z9MWiLyW9mFovwmOeeBe3LJK+/CM74Fl9C5vrKpLup/LvwFPoS0OcmE31oOGjr0btyzaMzwDpO/UXv9XdlcJvIP2QfdJtPfoW4D3zPSEJElak1XVV7oZtm+lxRYb0f4Wvw14z4hap39Pi0ufwS01Xj9Nm/gwsRhlEqrq3LSFi98D7AasoCW09+aWGaP99pd3McdraPWNX0RLDv8c+AJt/YqBScWkP6atp/Ie2mt2I3A48LrhuL+qju5mdr+eNnljF1piexktjrnVrM6FVlWfTvJLWuLx2bQY7QLa8z1wAqeY7r04EV0c+ljgfbQJFk8EvtKd+xMj2q/oks0foP2MtqPFndvSrsKc9yRy5zm03+m/p135eD7tc+mf0pLI41xtOSjfsQGt1OIop9LejwBU1beTPJq2aPyu3bHfA/apqiOHjp3rzwnSgsj4tfwlSZIkSZJukWQJLen8yap6wYIORotWkk/SEssP7q6MlDRh1kSWJEmSJEnSbV6Su43Yti1thvKPgR/M+6CkRcJyFpIkSZIkSVoT7JvkL2m1hq8A7kerXw6wV3m5vTRnTCJLkiRJkiRpTfAFWuL4GcCdaTWQ/wd4Z1WdvpADk9Z21kSWJEmSJEmSJE3JmcjTuOtd71pLlixZ6GFIkiRpFr75zW9eXlWbLfQ4FiPjZ0mSpDXPOPGzSeRpLFmyhHPOOWehhyFJkqRZSHLRQo9hsTJ+liRJWvOMEz+vMx8DkSRJkiRJkiStmUwiS5IkSZIkSZKmZBJZkiRJkiRJkjQlk8iSJEnSBCXZLckZSX6T5Nok5yd5S5L1e22S5E1JLklyTZKvJnnIiL4emORLSVYk+UWStydZd6jNvPclSZKkxcUksiRJkjRZmwJfBl4C7AR8HHgzsH+vzRuBpcC7gV2Aq4FTktxt0CDJJsApQAFPB94OvBbYb+h889qXJEmSFp/1FnoAkiRJ0tqkqj42tOkrSTYG/inJK4ENaMnad1bVgQBJzgSWAa8A3tId9zLgDsAzq+pK4OSun32TvKeqrkxy+wXoS5IkSYuMM5ElSZKkufcbYFDOYjtgY+CIwc6q+j1wHG3m8sBOwEld0nfgcFoyePsF7EuSJEmLzLwmkcesD7csSQ3dLh3RlzXdJEmSdJuVZN0kGyZ5LPAq4KNVVcDWwI3AhUOH/LDbN7A1cF6/QVVdDKzotVuIviRJkrTIzHc5i0F9uPcCVwCPBPYF7ka7RG7gMOCA3uPr+530arr9gFbT7T7A+2lJ8f5ldoOabq+jBc1702q6PbiqVkpMS5IkSRP0e1rpCoBP0WJSgE2Aq6vqxqH2y4ENk6xfVdd37a4Y0e/ybt9C9SVJkqRFZl6TyDPVh+tmZgD8sqrOmqYra7pJkiTptm47YEPaxIm3AgcC/7igI5oDSfYE9gS4173utcCjkSRJ0ly4LdRE7teHG5c13SRJknSbVlXfqqqvVdX+tHIWL09yH9rM3o2GS7HRZgKv6M32XQ7caUTXm3T7Bm3mu6/h53lwVW1TVdtsttlmo5pIkiRpDTff5SyAVh+Odmnfw7h1fbiBFyd5FXANcDLw2qq6qLd/a1pZjJtV1cVJBjXdjmP6mm57TPDpSJI0Z1519CUT7/PDz7jnxPuUNKNvdfdb0MqsrQtsBZzfazNct/g8hmoRJ7knbXbzeb02892XJK2yvz76vQs9hBl94Rmvm7mRJC0yCzUT+ffd7XTgNG6pDwdwLO0yvx267dsCpyfpz5yYSE231X0SkiRJ0pge093/FDgDuBLYfbAzyYbALsAJvWNOAJ6S5I69bXvQJlqc1j1eiL4kSZK0yCzITGSmqQ9XVXv12p2e5Azg28ALgQ/O9cCs6SZJkqTVkeRE2iLQ36ddGfcY4LXAZ6vqx12bdwFLkyznlgWg1+HWi0sfRLtq7/NJ3g1sSVuUev9BWbequnYB+pIkSdIisyBJ5KoaXM73tSSXA59M8v5BUD3U9ntJzqeVvhiYVU23odnIM9Z0Aw4G2GabbWpUG0mSJGkaZwMvAJYANwA/AfahJXIH3kVLzu4DbAqcAzypqn41aFBVy5PsQJtwcRztSrwP0JK/LFRfkiRJWnwWaiZyX78+3EpJ5E51twFrukmSJOk2qaqWAktnaFPAv3a36dr9AHjCba0vSdLaadejvrTQQ5jRMbvtsNBDkBalhaqJ3NevD7eSJA+mJX6/2dtsTTdJkiRJkiRJmgfzOhN5pvpwSf4aeB5wPPALWvL4LcDFwKG9rqzpJkmSJEmSJEnzYL7LWcxUH+4SYHPaAnp3Bn4DnAi8aZAcBmu6SZIkSZIkSdJ8mdck8kz14arqu8BYxW2s6SZJkiRJkiRJc++2UBNZkiRJkiRJknQbZRJZkiRJkiRJkjQlk8iSJEmSJEmSpCmZRJYkSZIkSZIkTckksiRJkiRJkiRpSiaRJUmSJEmSJElTMoksSZIkSZIkSZqSSWRJkiRJkiRJ0pRMIkuSJEmSJEmSpmQSWZIkSZIkSZI0pfUWegCSJK2Jdvvctybe51HPetjE+5QkSZIkaXU5E1mSJEmSJEmSNCWTyJIkSZIkSZKkKZlEliRJkiRJkiRNySSyJEmSJEmSJGlKJpElSZIkSZIkSVMyiSxJkiRJkiRJmpJJZEmSJEmSJEnSlEwiS5IkSZIkSZKmZBJZkiRJkiRJkjQlk8iSJEmSJEmSpCmZRJYkSZIkSZIkTWlek8hJdktyRpLfJLk2yflJ3pJk/V6bJHlTkkuSXJPkq0keMqKvByb5UpIVSX6R5O1J1h1qM1ZfkiRJkiRJkqTR5nsm8qbAl4GXADsBHwfeDOzfa/NGYCnwbmAX4GrglCR3GzRIsglwClDA04G3A68F9hs634x9SZIkSZIkSZKmtt58nqyqPja06StJNgb+KckrgQ1oid93VtWBAEnOBJYBrwDe0h33MuAOwDOr6krg5K6ffZO8p6quTHL7MfuSJEmSJEmSJE3htlAT+TfAoJzFdsDGwBGDnVX1e+A42szlgZ2Ak7oE8sDhtMTy9rPsS5IkSZqYJLsn+e8kP09ydZJvJnn2UJtTk9SI2+2H2t0jydFJrkpyeZIDk2w44pwvTXJhVzLum0l2GNFmYn1JkiRpcVmQJHKSdZNsmOSxwKuAj1ZVAVsDNwIXDh3yw27fwNbAef0GVXUxsKLXbty+JEmSpEnam1ZG7TXA04CvAId1V971fQXYduh23WBnktsBJwH3Bv4W2AvYHTi430mXoD4I+BRtssT3geOTPHgu+pIkSdLiM6/lLHp+TytdAS1AfV33702Aq6vqxqH2y4ENk6xfVdd37a4Y0e/ybt9s+pIkSZImaZequrz3+MtJ7k5LLh/Q2/7bqjprmn52Ax4AbFVVPwVI8gfg8CT7VdVgssS+wCer6h1dm9OAh9JKuz1vDvqSJEnSIrNQ5Sy2A/6Sthje04EDF2gcK0myZ5Jzkpxz2WWXLfRwJEmStIYZSiAPnAvcfZZd7QScPUj6do4Brgd2BEiyJXA/bl3C7SbgSFYuBzepviRJkrTILEgSuaq+VVVfq6r9aeUsXp7kPrRZwhslWXfokE2AFb2Zw8uBO43oepNu36DNOH0Nj+3gqtqmqrbZbLPNZv/kJEmSpJVtC1wwtO3JSVZ0t5OS/PnQ/lEl3K4HfsytS7gx3I5Wwu0uSTbrtZtUX5IkSVpkFqqcRd+3uvstaAHrusBWwPm9NsNB73kM1TVOck9gw167cfuSJGnR+4/P/3rifb7kmZtPvE9pTdQtTLcr8KLe5tOATwI/otUpfjNwepK/qKplXZtxS7gxot3y3v7LJtyXJElrhFcdfclCD2FGH37GPRd6CNJYFqqcRd9juvufAmcAV9IW+QCgWzF6F+CE3jEnAE9Jcsfetj2Aa2gBObPoS5IkSZoTSZYAhwHHVtWhg+1V9baq+kRVnV5VnwYeDxTw6oUY5+qwHJwkSdLab15nIic5ETiFtsrzjbQE8muBz1bVj7s27wKWJllOmzG8Ny3Z3V+E5CBaGYzPJ3k3sCVtEZD9q+pKgKq6dsy+JEmSpIlLchfa5IWLgOdO17aqLk3ydeBhvc3TlXD7Tq8NXbsrhtr090+yr+GxHwwcDLDNNtvUqDaSJElas813OYuzgRcAS4AbgJ8A+9CSwgPvoiV69wE2Bc4BnlRVvxo0qKrl3WWBBwLH0YLcD9ASycymL0mSJGnSuivgjgfWB55aVSvGOKy628CoEm7r0yZQHNRrQ9fuol7TrYHfVtVlvXaT6kuSJEmLzLwmkatqKbB0hjYF/Gt3m67dD4AnTKIvSZIkaVKSrAccCdwX2K6qZiw6nuRuwGOBj/c2nwA8J8m9q2qQ1H0asAFwIkBV/STJBbQSbid1fa3TPR4uBzepviRJkrTI3BYW1pMkSZLWJh8Bdgb2AjZNsmlv37nA/YF30hLNFwH3ol05dxPwwV7bo2gL7n0+yVJamYkPAIdV1YW9dvsCn06yDPg68HxaAvs5c9SXJEmSFhmTyJIkSdJkPbm7/9CIfVsAvwFCSyRvClwFnArsWlUXDxpW1R+S7Egr4XYEcB1wOPC6fodV9ZkkGwFvoF31931aCY3vzUVfkiRJWnxMIkuSJEkTVFVLxmi285h9/QzYdYx2hwCHzFdfkiRJWlzWWegBSJIkSZIkSZJuu0wiS5IkSZIkSZKmZBJZkiRJkiRJkjQlk8iSJEmSJEmSpCmZRJYkSZIkSZIkTckksiRJkiRJkiRpSiaRJUmSJEmSJElTWm+hByBJ0iTtetSXJt7nMbvtMPE+JUmSJElaUzgTWZIkSZIkSZI0JZPIkiRJkiRJkqQpmUSWJEmSJEmSJE3JJLIkSZIkSZIkaUomkSVJkiRJkiRJUxoriZzkL5M8vff4rkkOS/LtJO9Pcru5G6IkSZI094x5JUmSpNHGnYn8HuDBvccfAnYAzgJeAOw32WFJkiRJ886YV5IkSRph3CTy/YFvAiTZEHgGsFdVvQx4PbDH3AxPkiRJmjfGvJIkSdII4yaR1weu7f79GGA94Avd4wuAP5nwuCRJkqT5ZswrSZIkjTBuEvk8YMfu388Fzqyqq7rHdwd+O+mBSZIkSfPMmFeSJEkaYb0x270dODLJi4E7AU/v7dsROHfSA5MkSZLmmTGvJEmSNMJYSeSq+u8kDwAeCvxfVV3Q230m8N25GJwkSZI0X4x5JUmSpNHGLWdBVf2kqj43FExTVQdX1Vnj9JFk9yT/neTnSa5O8s0kzx5qc2qSGnG7/VC7eyQ5OslVSS5PcmC3AMrwOV+a5MIk13bn22Hc5yxJkqTFZRIxryRJkrS2GbecBUk2B14NPJK2qMgvgf8FPlxVvxqzm72BnwKvAS4HdgYOS3LXqjqg1+4rwJuGjr2uN5bbAScB1wN/C9wZ2L+7f16v3bOBg4B9ga8BLwSOT/KIqvremGOWJEnSIjGhmFeSJElaq4yVRE7yGOCLwA3AycAPgM2BlwGvTLJTVX19jK52qarLe4+/nOTutORyP4n82xlmeuwGPADYqqp+2o3xD8DhSfarqgu7dvsCn6yqd3RtTqNdnvhGeslmtwNc0QAAIABJREFUSZIkaYIxryRJkrRWGXcm8oHAN2lJ4N8PNibZCDielgB+2EydDCWQB84FnjXmOAZ2As4eJJA7x9BmJu8IXJhkS+B+wF6989+U5Mj+NkmSJKkzkZhXkiRJWtuMWxN5a+D9/WAaoKquBt5HmxW8qrYFLhja9uQkK7rbSUn+fMR4zhsay/XAj7t99O5v1Q74IXCXJJutxpglSZK09pnLmFeSJElaY42bRP4BcLcp9v0JKydqx9Itcrcr8P7e5tNoM4WfAuwJ3As4PcmSXptNgCtGdLm820fvfrjd8qH9w2PaM8k5Sc657LLLxnsikiRJWhvMScwrSZIkrenGLWfxSuD/JbkaOKaqrkuyAfAMWn3hv5/tibuk8GHAsVV16GB7Vb2t1+z0JKfQAvZXd7c5VVUHAwcDbLPNNjXX55MkSdJtxsRjXklaHS88eseFHsJYPvGMExd6CJKkOTZuEvlYYENa0pcusN6o23ctcHSSmxtX1ebTdZbkLsAJwEXAc6drW1WXJvk6t64/txy404jmmwDf6bWha3fFUJv+fkmSJAkmHPNKkiRJa4txk8j/DkxkVm6SDWkLk6wPPLWqVoxxWA2d/zxuqXk86Hd9YEvgoF4bunYX9ZpuDfy2qqxVIUmSpL6JxbySJEnS2mSsJHJV7TuJkyVZDzgSuC+wXVX9eoxj7gY8Fvh4b/MJwHOS3LuqBgnipwEbACd2Y/5JkguA3YGTur7W6R6fMInnI0mSpLXHBGPe3YG/Ax5OuyrufOB9VfWZoXYvBV4P3BP4PvD6qvrSUJt7AAcCTwSuAw7v2q1YyL4kSZK0uIw7E3lSPgLsTFs4b9Mkm/b2nQvcH3gnLdF8EW1RvX2Am4AP9toeBbwZ+HySpbTg/APAYVV1Ya/dvsCnkywDvg48n5bAfs6kn5gkSZLU2Rv4KfAa4HJa/HtYkrtW1QEASZ5Nu4JuX+BrwAuB45M8oqq+17W5HW0yxPXA3wJ3Bvbv7p83ONl89yVJkqTFZ8okcpIjgH2q6sfdv6dVVX8zxvme3N1/aMS+LYDfAKElkjcFrgJOBXatqot75/pDkh1pMymO4JaZFK8bGtNnkmwEvAFYSptJ8VQDYEmSJMGcxby7VNXlvcdfTnJ3WnL5gG7bvsAnq+od3ThOAx5KW8BvkNTdDXgAsFVV/bRr9wfg8CT79SZPzHdfkiRJWmSmm4m8GXC77t+bM4H6cFW1ZIxmO4/Z18+AXcdodwhwyDh9SpIkadGZi5j38hGbzwWeBZBkS+B+tKvzBsfclOTI/jZgJ+DsQdK3cwxtNvGOwIUL1JckSZIWmSmTyFX1+N6/Hzcvo5EkSZLm0TzGvNsCF3T/HiwQfd5Qmx8Cd0myWbcI9NbAD/oNqur6JD/u9bEQfUmSJGmRmbEmcpLbA98FXlVVJ879kCRJkqT5NZcxb5IdaFfQvajbtEl3f8VQ0+W9/Zd198NtBu026bWd774kSZ2nHvVfCz2EGR2/23MXegiS1gLrzNSgqq6lLbhx09wPR5IkSZp/cxXzJlkCHAYcW1WHTrLv24okeyY5J8k5l11mjlmSJGltNGMSufNftJWZJUmSpLXVRGPeJHcBTgAuAvrTwAYze+80dMgmQ/uXj2gzaLd8qO189nUrVXVwVW1TVdtsttlmo5pIkiRpDTdjOYvOxcDfJDmbFgj/ilsvOlJV9dFJD06SJEmaRxOLeZNsCBwPrA88tapW9HYPag5vTUsw03v8217d4fO4pU7xoN/1gS2BgxawL0mSJC0yUyaRk/wEeEZVfQd4f7f5T4CHj2hegElkSZIkrVHmIuZNsh5wJHBfYLuq+vWtOqn6SZILgN2Bk7pj1uken9BregLwnCT3rqpBUvdpwAbAiQvYlyRJkhaZ6WYiL6EFlVTVuGUvJEmSpnTCZy+feJ877XHXifepRWUJk495PwLsDOwFbJpk096+c6vqOmBf4NNJlgFfB55PSzo/p9f2KODNwOeTLKWVmfgAcFhVXdhrN999SZIkaZEZt5yFJEmSpPE8ubv/0Ih9WwDLquozSTYC3gAsBb5PK3vxvUHDqvpDkh2BA4EjgOuAw4HX9Tuc774kSZK0+MyURK4Z9kuSNJZdjjpm4n0et9uuE+9T0qI00Zi3qpaM2e4Q4JAZ2vwMmPE/u/nuS5IkSYvLTEnks5KM1VFVrbv6w5EkSZLmnTGvJEmSNI2Zksj7A8vmYRySJEnSQjHmlSRJkqYxUxL5yKr6xryMRJIkSVoYxrySJEnSNCa1ArUkSZIkSZIkaS1kElmSJEmSJEmSNKXpksgvBH48XwORJEmSFoAxryRJkjSDKWsiV9Un53MgkiRJ0nwz5pUkSZJmZjkLSZIkSZIkSdKUTCJLkiRJkiRJkqY0ZRI5yb2S3G4+ByNJkiTNJ2NeSZIkaWbTzUT+KfBQgCRfTrL1/AxJkiRJmjfGvJIkSdIMpksiXwNs2P37ccDGcz4aSZIkaX4Z80qSJEkzWG+afecCH0pycvf4lUl+OUXbqqo3THZokiRJ0pwz5pUkSZJmMF0S+aXAe4GnAwXsAFw3RdsCZgyok+wO/B3wcOBOwPnA+6rqM0PtXgq8Hrgn8H3g9VX1paE29wAOBJ7Yjevwrt2K2fYlSZKkRWviMa8kSZK0tpkyiVxV5wG7ACS5Cdi1qr6xmufbm1Z37jXA5cDOwGFJ7lpVB3TnejZwELAv8DXghcDxSR5RVd/r2twOOAm4Hvhb4M7A/t398wYnG6cvSZIkLV5zFPNKkiRJa5XpZiL3bQFMdVnfbOxSVZf3Hn85yd1pyeUDum37Ap+sqncAJDmNttjJG7klQbwb8ABgq6r6adfuD8DhSfarqgtn0ZckSZIEk4t5JUmSpLXKWEnkqrooyXpJ9gAeC9wF+C1wOvD5qrphzH4uH7H5XOBZAEm2BO4H7NU75qYkR/a3ATsBZw8SyJ1jaDOTdwQunEVfkiRJ0sRiXkmSJGlts844jZJsDpwDfAb4a2DL7v5w4Owkm63GGLYFLuj+vXV3f95Qmx8Cd+mdZ+vhNlV1PfDjXh/j9iVJkiTNdcwrSZIkrbHGSiLT6g1vCjy6qrasqm2rakvgUd32/Vfl5El2AHYF3t9t2qS7v2Ko6fKh/ZuMaDNot8lQ25n6kiRJkmCOYl5JkiRpTTduEnln4A3Di4xU1dnAPrQZGrOSZAlwGHBsVR062+PnSpI9k5yT5JzLLrtsoYcjSZKk+TPxmFeSJElaG4y7sN4GwFVT7LsKWH82J01yF+AE4CLgub1dg1nCd+LWM4g3Gdq/vGszbBPgO7Ps61aq6mDgYIBtttmmpnsekrQ2eOpR/zXxPo/f7bkzN5Kk256JxrySJEnS2mLcmchnAW9I8kf9jd3jN3T7x5JkQ+B4WhD+1Kpa0ds9qF+89dBhWwO/rarLeu1u1SbJ+rS6def12ozTlyRJkgQTjHklSZKktcm4M5FfC3wFuCTJ/wC/AjYHngIEeNw4nSRZDzgSuC+wXVX9ur+/qn6S5AJgd+Ck7ph1uscn9JqeADwnyb2r6qJu29Nos0dOnGVfkiRJEkwo5pUkSZLWNmMlkavq20nuC/wz8Ajgz4FfAgcB+1fV5WOe7yO0WnN7AZsm2bS379yqug7YF/h0kmXA14Hn05LOz+m1PQp4M/D5JEtpJSs+ABxWVRf22o3TlyRJkjTJmFeSJElaq4w7E5kuaH7jap7vyd39h0bs2wJYVlWfSbIR7ZLBpcD3aWUvvtcbyx+S7AgcCBwBXAccDrxuaMwz9iVJkiQNTCjmlSRJmrgTPnvb/z57pz3uutBD0BwZO4k8CVW1ZMx2hwCHzNDmZ8Cuk+hLkiRJkiRJkjTauAvrSZIkSZIkSZIWIZPIkiRJkiRJkqQpmUSWJEmSJEmSJE1pxiRykg2SvDnJX8zHgCRJkqT5NumYN8lWST6W5LtJbkxy6og2y5LU0O3SEe0emORLSVYk+UWStydZd6hNkrwpySVJrkny1SQPmcu+JEmStHjMmESuquuANwN3nvvhSJIkSfNvDmLeBwE7A+cDF0zT7jBg295t5/7OJJsApwAFPB14O/BaYL+hft4ILAXeDewCXA2ckuRuc9GXJEmSFpf1xmz3v8DDgNPmcCySJEnSQppkzHtcVR0LkOQo4K5TtPtlVZ01TT8vA+4APLOqrgROTrIxsG+S91TVlUluT0v8vrOqDuzOeSawDHgF8JY56EuSJEmLyLg1kV8P/GOSVyTZMskfJdmwf5vLQUqSJEnzYGIxb1XdNKEx7QSc1CV9Bw6nJYO37x5vB2wMHNE7/++B47rj56IvSZIkLSLjJpH/F7gP8GHgQuBK4KqhmyRJkrQmW4iY98VJrk/yuyRHJbn30P6tgfP6G6rqYmBFt2/Q5sZuzH0/7LWZdF+SJElaRMYtZ/EiWu00SZIkaW013zHvscBZwM+ABwBvA05P8mdV9buuzSbAFSOOXd7tG7S5uqpuHNFmwyTrV9X1E+5LkiRJi8hYSeSqOnSOxyFJkiQtqPmOeatqr97D05OcAXwbeCHwwfkcy+pIsiewJ8C97nWvBR6NJEmS5sK45SwASPLAJH+X5E2D1ZmTbJXkjnMzPEmSJGl+LVTMW1XfA86nLe43sBy404jmm3T7Bm02SrLuiDYrejOHJ9lXf9wHV9U2VbXNZpttNvrJSZIkaY021kzkJBsBHwd2A/7QHXcicCnwb8DFwD/P0RglSZKkOXcbiXmLW5fUOI+hWsRJ7glsyC31jc8D1gW2oiWhB4ZrIE+yL0mSJC0i485E3p+2UvMOwB2B9PZ9EdhxwuOSJEmS5tuCxrxJHkxL1n6zt/kE4ClDs6D3AK4BTusen0FbBHD3Xl8bArt0x89FX5IkSVpExl1Y75nAXlX1lRGXtl0EDK8iLUmSJK1pJhbzdonXnbuH9wA2TrJb9/iLwOOB5wHHA7+gJY/fQpvtfGivq4OAVwGfT/JuYEtgX2D/qroSoKquTfIuYGmS5bQZw3vTJowcMEd9SZIkaREZN4l8B+A3U+y7IzC8erMkSZK0pplkzLs5cOTQtsHjLYBLujYfBO7cnfdE4E2DhC5AVS1PsgNwIHAccAXwAVryt+9dtETvPsCmwDnAk6rqV3PRlyRJkhaXcZPIZwN/Twtsh+1Gu+xNkiRJWpNNLOatqmXcuhzGKDuM2dcPgCfM0KaAf+1u89KXJEmSFo9xk8hLgZOTnEKbQVHAzkleQwuo/2qOxidJkiTNF2NeSZIkaYSxFtarqtNpMyU2oF3+FmA/Wh21J1bV2XM2QkmSJGkeGPNKkiRJo407E5mq+jrwl0nuAGwCXFFVK+ZsZJIkSdI8M+aVJEmSVjbWTOQh1wJ/AK6Z8FgkSZKk2wpjXkmSJKkzdhI5yc5JzqAF1JcC1yY5I8lfz9noJEmSpHlkzCtJkiStbKwkcpJ/AI4Drgb2Anbv7q8G/rvbL0mSJK2xjHklSZKk0cadifwm4GNV9eSqOqiqPt/dPxk4BHjzuCdMslWSjyX5bpIbk5w6os2yJDV0u3REuwcm+VKSFUl+keTtSdYdapMkb0pySZJrknw1yUPGHa8kSZIWjYnFvJIkSdLaZNwk8qbA0VPs+xxwl1mc80HAzsD5wAXTtDsM2LZ327m/M8kmwClAAU8H3g68lraCdt8bgaXAu4FdaDNJTklyt1mMWZIkSWu/Sca8kiRJ0lpjvTHbfQXYHjh5xL7tga/O4pzHVdWxAEmOAu46RbtfVtVZ0/TzMuAOwDOr6krg5CQbA/smeU9VXZnk9rQk8jur6sDunGcCy4BXAG+ZxbglSZK0dptkzCtJkiStNaZMIid5YO/hh4H/SLIpcAzwa2Bz4BnATsBLxj1hVd20akNdyU7ASV0CeeBw2ozj7Wn17LYDNgaO6J3/90mO6443iSxJkrSIzVXMK0mSJK1NppuJ/D1aqYiBAP/Q3ap7PHAicKtaxBPw4iSvAq6hzQZ5bVVd1Nu/NfDl/gFVdXGSFd2+47r7G4ELh/r+IbDHhMcrSZKkNc9Cx7ySJEnSbd50SeTHz9soVnYscBbwM+ABwNuA05P8WVX9rmuzCXDFiGOXd/sGba6uqhtHtNkwyfpVdf3ERy9JkqQ1xULGvJIkSdIaYcokclWdNp8DGTr3Xr2Hpyc5A/g28ELgg3N57iR7AnsC3Ote95rLU0nStP76cwdPvM8vPGvPifcpSWuyhYx5JUmSpDXFOrM9IMl6STYcvs3F4Aaq6nvA+cDDepuXA3ca0XyTbt+gzUZJhi873ARYMWoWclUdXFXbVNU2m2222eoPXpIkSWuchYh5JUmSpNuqsZLISe6U5CNJfglcC1w14jbXilvXqzuPVvO4P857Aht2+wZt1gW2Gupr614bSZIk6bYS80qSJEm3OdPVRO47FNgeOAT4ETCvdYSTPJiW+O1f230C8Lokd6yqQUC/B20hvsFliWcAVwK7A//S9bUhsMtQX5IkSdKhLGDMK0mSJN1WjZtE3gH4h6r6zOqesEvi7tw9vAewcZLdusdfpC1u8jzgeOAXtOTxW4CLaYH9wEHAq4DPJ3k3sCWwL7B/VV0JUFXXJnkXsDTJctrs471pM7APWN3nIkmSpLXKxGJeSQvjY//vKQs9hLH8w9+dtNBDkCRpVsZNIl8MrJjQOTcHjhzaNni8BXBJ1+aDwJ2B3wAnAm8aJIcBqmp5kh2AA4HjgCuAD9ASyX3voiWN9wE2Bc4BnlRVv5rQ85EkSdLaYZIxryRJkrTWGDeJ/HpgvyTnVtXFq3PCqloGZIZmO4zZ1w+AJ8zQpoB/7W6SJEnSVCYW80qSJElrk7GSyFX1xSRPBH6UZBlt1u9wm0dOeGySJEmr5OxP/HrifT7ihZtPvE/dthjzSpIkSaONlURO8j7g1cDZuMiIJEmS1kLGvJIkSdJo45azeAnw5qp651wORpIkSVpAxrySJEnSCOuM2W4F8M25HIgkSZK0wIx5JUmSpBHGTSJ/CNgzyUwL4kmSJElrKmNeSZIkaYRxy1ncFXgUcH6SU1l5kZGqqjdMcmCSJEnSPDPmlSRJkkYYN4m8G3ADcDvgSSP2F2BALUmSpDWZMa8kSZI0wlhJ5KraYq4HIkmSJC0kY15JkiRptHFnIkvSKnvh0TtOvM9PPOPEifcpSZIkSZKklY2VRE7yjzO1qaqPrP5wJEmSpIUxyZg3yVbA64BtgQcBp1fV44baBNgHeDmtHvPZwKuq6ttD7R4IHND1dQXwH8B+VXXjQvYlSZKkxWPcmcgHTrOvunuTyJIkSVqTTTLmfRCwM3AWrcbyKG8EltKSzecBewOnJHlwVV0KkGQT4BTgB8DTgfvA/2/vzsPlqMrEj39fQJQMW8QIKGBUVESdQYUZxQUGZDAIAyIIOi64DIPKuKD8RhgcoiOCC6ADjICAuIMiOqBg2AwugAKyx0RUIriAosEIYRF4f3+c06TSuX23VN/byf1+nqefe6vq1Fm6qk6fPn3qFEcDqwGHTVZckiRJmlpWG02gzFyt+wU8FngNcB2wZT8zKUmSJPVby23eczNz08zcG7ipe2NEPIbSWXtkZh6fmRcBe1M6qw9sBD0AWAvYMzMvzMwTgQ8CB0XEupMYlyRJkqaQcc+JnJl3AWdGxHrAScD2bWVK0sQ44sydW4/zP/eZ03qckiRNlvG2eTPz4RGCbAusC3y1sc89EXEuMIulI4NnAXMyc3Fj3zOAjwLbAedOUlySJEmaQkY1EnkEtwBbtxCPJEmSNKjabvNuATwE3Ny1/qd1WzPc/GaAzLwVWNIINxlxSZIkaQpZoU7kiNgYeC+lUS1JkiStcvrU5p0O3N18oF21CJgWEWs2wt01xP6L6rbJikuSJElTyKims4iIP7D0YSIdawLrAPcBe7acL0mSJGlC2eYdn4jYH9gfYLPNNpvk3EiSJKkfRjsn8gks36C+D/g18J3M/GOruZIkSZIm3kS2eRcBa0fE6l2jfqcDSzLzgUa49YbYf3rdNllxPSIzTwZOBth666273z9JkiStAkbViZyZs/ucD0mSJGlSTXCbdz6wOrA5sKCxvnve4vl0zUUcEZsC0xrhJiMuSZIkTSFtPFhPkiRJ0thcBiwG9u6siIhpwG7A+Y1w5wM7R8Q6jXX7APcCl05iXJIkSZpCeo5EjohLxhBPZuaOLeRHkiRJmjD9avPWjtdd6uITgXUjYq+6fF5mLomIo4APRMQiyijfgyiDPI5rRHUi8E7g7Ij4KPAUYDZwTGYurpm6bxLikiRJ0hQy3HQWo5nzbWNgW5afO06SJElaGfSrzft44Gtd6zrLTwYWAkdROmcPATYArgJ2ysw7Ojtk5qKI2BE4HjgXuAs4ltL52zShcUmSJGlq6dmJnJl799oWEZsB/wHsCtxJaXxKkiRJK5V+tXkzcyEQI4RJ4Ij6Gi7cPGCHQYtLkiRJU8eY5kSOiM0j4lTgZuCfKaMTnpSZR44xjpMi4vqIeCgi5g4RJiLi0Ii4LSLujYjvRcRWQ4TbMiIujoglEfHbiPhQRKw+nrgkSZIkaKfNK0mSJK1KhpvO4hER8SzgPykP2LgNeBdwWmY+MI40n0WZH+4K4FE9wrwf+ABwMEvnYbsoIp6dmbfXPE0HLgLmAbsDTwWOpnSMHzaWuCRJkqSW27ySJEkaxsJPDn633Mx3bzTZWRgYw45EjojnR8TZwPXA84C3Ak/LzBNXoDF9bmZuWm8dvGmINB9D6fg9MjOPz8yLKA35BA5sBD0AWAvYMzMvzMwTgQ8CB0XEumOMS5IkSVNUn9q8kiRJ0iqjZydyRJwP/Jjy1OZ9M3OLzPxcZj60Iglm5sMjBNkWWBf4amOfeygP/5jVCDcLmNN5knR1BqVjebsxxiVJkqQpqF9tXkmSJGlVMtxI5J0pDwPZBDghIn4/3KvFPG0BPESZg67pp3VbM9z8ZoDMvBVY0gg32rgkSZI0NU1Wm1eSJElaaQw3J/IHJywXy5oO3D3E6I9FwLSIWLPeVjgduGuI/RfVbWOJS5IkSVPTZLV5JUmSpJVGz07kzJySDeqI2B/YH2CzzTab5NxIkiSpn6Zqm1eSJEkai2EfrDdJFgFrR8TqXeunA0saI4cXAesNsf/0um0scT0iM0/OzK0zc+sZM2aMuxCSJEmSJEmStCoYxE7k+cDqwOZd67vnQJ5P17zGEbEpMK0RbrRxSZIkSZIkSZKGMNycyJPlMmAxsDfwYYCImAbsBpzcCHc+cHBErJOZf6nr9gHuBS4dY1ySNGqv+MbHW4/z2688uPU4JUmSJEmS2jDhnci1E3eXuvhEYN2I2Ksun5eZSyLiKOADEbGIMmL4IMqo6eMaUZ0IvBM4OyI+CjwFmA0ck5mLATLzvlHGJUmSJEmSJEkawmSMRH488LWudZ3lJwMLgaMoHb2HABsAVwE7ZeYdnR0yc1FE7AgcD5wL3AUcS+lIbhoxLkmSJEmSJEnS0Ca8EzkzFwIxQpgEjqiv4cLNA3ZoIy5JkiRJkiRJ0vIG8cF6kiRJkiRJkqQBMYgP1pMkSVppLPzk7a3GN/PdG7UanyRJkiStKEciS5IkSZIkSZJ6shNZkiRJkiRJktST01lIWmXs8s33th7neXsc3XqckiRJkiRJKxNHIkuSJEmSJEmSerITWZIkSZIkSZLUk53IkiRJkiRJkqSe7ESWJEmSJEmSJPVkJ7IkSZIkSZIkqSc7kSVJkiRJkiRJPdmJLEmSJEmSJEnqyU5kSZIkSZIkSVJPdiJLkiRJkiRJknqyE1mSJEmSJEmS1NMak50BSZIkjez2o+e3Gt9G792i1fgkSZIkrbociSxJkiRNgojYLyJyiNcBjTAREYdGxG0RcW9EfC8ithoiri0j4uKIWBIRv42ID0XE6l1hWotLkiRJU4sjkSVJkqTJtQNwb2P5l43/3w98ADgYmA8cBFwUEc/OzNsBImI6cBEwD9gdeCpwNGXAyGF9ikuSJElTiJ3IkiRJ0uS6MjPv7l4ZEY+hdPwemZnH13WXAwuBA1naqXsAsBawZ2YuBi6MiHWB2RHxscxc3GZc7RdfkiRJg87pLCRJkqTBtC2wLvDVzorMvAc4F5jVCDcLmNPVwXsGpTN4uz7EJUmSpCnGTmRJkiRpcv0iIh6MiAUR8W+N9VsADwE3d4X/ad3WDLfMkxcz81ZgSSNcm3FJkiRpinE6C0mSJD3ijk9d3mp8G77rha3Gt4r5HWWO4h8DqwP7AidGxLTMPBaYDtydmQ917bcImBYRa2bmAzXcXUPEv6huo+W4JEmSNMXYiSxJkiRNgsycA8xprDq/zl18WER8apKyNWYRsT+wP8Bmm202ybmRJElSPwzkdBYRsV9E5BCvAxphIiIOjYjbIuLeiPheRGw1RFxbRsTFEbEkIn4bER+KiNUntkSSJEnSqJwFPBaYSRn9u/YQbdfpwJI6cpgabr0h4ppet3XCtBXXMjLz5MzcOjO3njFjRs+CSZIkaeU16CORdwDubSz/svH/+ym3/x1MmbftIOCiiHh2Zt4OEBHTgYuAecDuwFOBoymd54chSZIkDZZs/J1PmeZic2BBI0z3vMXz6ZqvOCI2BaY1wrUZlyRJkqaYgRyJ3HBlZl7ReP0eoN7m937gyMw8PjMvAvamNLYPbOx/AOVJ0ntm5oWZeSLwQeCgiFh3YosiSZIkjWgv4E7gV8BlwGJKOxeAiJgG7Aac39jnfGDniFinsW4fymCMS+tym3FJkiRpihn0TuRetgXWBb7aWZGZ9wDnArMa4WYBczJzcWPdGZSO5e0mIJ+SJEnSkCLi6xHxHxExKyJ2jYgvUDpsP5SZD2fmfcBRwKER8Y6I2BH4GqUNf1wjqhOB+4GzI+JldY7i2cAxnXZwm3FJkiRp6hn06Sx+EREbAL+gNFxPquu3AB4Cbu4K/1NKw5tGuEuaATLz1ohYUred25dcS5J1Jt1+AAAgAElEQVQkSSNbALwZ2BQIyhRsb8jMLzTCHEXp6D0E2AC4CtgpM+/oBMjMRbVT+HhK+/Yu4FhK5y99ikuSJElTyKB2Iv+OMt/xjylzt+0LnBgR0zLzWMqDPe7OzIe69lsETIuINevDQaZTGr7dFtVtkiRJ0qTIzEOBQ0cIk8AR9TVcuHmU54lMSFySJEmaWgayEzkz5wBzGqvOr/MgHxYRn+pn2vWWvf0BNttss34mJUmSJEmSJEkDb2WaE/ks4LHATMpI4rUjYvWuMNOBJXUUMjXcekPENb1uW05mnpyZW2fm1jNmzGgl45IkSZIkSZK0slqZOpGz8Xc+ZZqLzbvCbFG3dcyv6x4REZsC07rCSZIkSZIkSZKGMJDTWfSwF3An8CvKnMmLgb2BDwNExDRgN+Dkxj7nAwdHxDqZ+Ze6bh/gXuDSCcq3JEmSJEmSpFXYHZ+6fLKzMCobvuuF49pvIDuRI+LrlIfqXU8ZcbxPfb0zMx8G7ouIo4APRMQiyqjigygjq49rRHUi8E7g7Ij4KPAUypOlj8nMxRNUHGnMTvrCzq3H+W+vnzNyIEmSJEmSJKnLQHYiAwuANwObAgHMA96QmV9ohDmK0ml8CLABcBWwU2be0QmQmYsiYkfgeOBc4C7gWEpHsiRJkiRJkiRpBAPZiZyZhwKHjhAmgSPqa7hw84Ad2sudJEmSJEmSJE0dK9OD9SRJkiRJkiRJE2wgRyJLkiRp1fb7489vNb7HHzir1fgkSZIkLeVIZEmSJEmSJElST45EliRJkqQpas6pu0x2FkZl57ecN9lZkCRpSnMksiRJkiRJkiSpJzuRJUmSJEmSJEk92YksSZIkSZIkSerJTmRJkiRJkiRJUk92IkuSJEmSJEmSerITWZIkSZIkSZLUk53IkiRJkiRJkqSe7ESWJEmSJEmSJPVkJ7IkSZIkSZIkqSc7kSVJkiRJkiRJPdmJLEmSJEmSJEnqyU5kSZIkSZIkSVJPa0x2BlYWf/j0F1uPc8bbXtd6nJIkSZIkSZLUJkciS5IkSZIkSZJ6shNZkiRJkiRJktSTnciSJEmSJEmSpJ7sRJYkSZIkSZIk9WQnsiRJkiRJkiSppzUmOwMTISK2BI4DXgjcBZwCfDAzH5rUjGmlc+ZnX956nPu86TutxylJkrQibD9LkiSpaZXvRI6I6cBFwDxgd+CpwNGUUdiHTWLWJEmSpIFj+1mSJEndVvlOZOAAYC1gz8xcDFwYEesCsyPiY3WdJEmSpML2syRJkpYxFeZEngXM6WrsnkFpGG83OVmSJEmSBpbtZ0mSJC1jKnQibwHMb67IzFuBJXWbJEmSpKVsP0uSJGkZU6ETeTrlYSDdFtVtkiRJkpay/SxJkqRlRGZOdh76KiL+ChycmZ/sWv9r4POZeWjX+v2B/eviM4AFY0zyccCd48yu6ZjOIKdlOqZjOqZjOqazsqTzpMyc0Y/MTAWT0H4ej4lsa00EyzPYLM9gszyDbVUrD6x6ZbI8g22iyjNi+3kqPFhvEbDeEOun123LyMyTgZPHm1hEXJWZW493f9MxnUFNy3RMx3RMx3RMZ1VOR8uY0PbzeKxq54XlGWyWZ7BZnsG2qpUHVr0yWZ7BNkjlmQrTWcyna+62iNgUmEbXXG+SJEmSbD9LkiRpWVOhE/l8YOeIWKexbh/gXuDSycmSJEmSNLBsP0uSJGkZU6ET+UTgfuDsiHhZnbNtNnBMZi7uQ3oTdSuf6ZjORKdlOqZjOqZjOqazKqejpSa6/Tweq9p5YXkGm+UZbJZnsK1q5YFVr0yWZ7ANTHlW+QfrAUTElsDxwAspT5o+BZidmQ9NasYkSZKkAWT7WZIkSU1TohNZkiRJkiRJkjQ+U2E6iwkTEU+PiMsj4mf179P6kMYnIuKWiMiIeHbb8TfS2SAizouIBRFxQ0ScHREz+pTWNyPiuoi4JiK+HxFb9SOdRnqH9/P9i4iFETE/Iq6tr537lM5jIuLTEXFzPUat3+IQETMb5bi2lu1PbadT09q1ngPX1vNhzz6l84qI+El9zy6NiCe3FO+Q12bb9cIw6bRaNwwVXz/qhWHK02q9MNL701a9MEx5Wq0Xhkmn1Xqhx3nQer0wTHlarReGSafVemG4ayUiXlDL8rOIuCAiHt+ndL4UEb+tZV27H+Wp9dt367l9Y0R8NiLW6kM6q9X687r6+k5EzFyRMmly1Pqib+3XfhuiLj92mLD7RcRZE5m/NtWy/i4iVm+s26/WKQe2lMb2EXFVG3GtQB6mR8S9EfGpFYjjvIh4av1/bkTs2l4Ox5yXvh+3ibSy1xm9jKZcg1L2Nq6RFUx/dkSsOUKYvRvtxfkR8eUVSG/9iPh/491/mHhnRsSdLcX16Ig4OiJ+Uct7TUTsMYr095/ovDbiXFjbiqt1rZvUc3y8eWi0B66LiJ9HxP9FxLb9yOM48tXX99RO5HadCJyQmU8HTgBO6kMa3wReCvyqD3E3JfCxzHxGZj4H+AVwVJ/SemNm/l1mPhf4BHBan9IhIp4HvID+v397ZeZW9TWnT2l8DLgPeHo9Rh9oO4HMXNgox1aU82/cH8q9REQAXwBeX9N5PfC55odMS+lMBz4H7Fvfs88An24p+l7XZtv1Qq902q4bhoqvH/VCr3y3XS/0fH9arheGOw5t1gu90mm7XlgunT7VC8ul06d6Yah0+lEvDHmt1Lx/EXhHrRO+x4pdQ8Ndk6cCbf0o2yudB4CDMnML4G+BacD72k4nMx8GXl7rhL+jPPTtmBVIR1NYs3NtnJp1+XsGJE+deNZoI56G3wLNHz33A34ylgj6kKe2vRa4AnjNSB1V3eoPXJGZu2TmL/qTvXFZ4eMmNYz7GmnJ4UDPdCNiY+B/gX+u7cVnAh9fgfTWB1rvRG5L/bz4X2AT4Fm1DfZ64PiIeOkwu84ERtWJ3JYhPtvWpuR1VbFXbZduQfkucV5E/MMk52mFjfS5bSdyS6KMJHoe8JW66ivA86Ll0buZ+YPMvK3NOHuk86fMnNtYdQXwpD6l9efG4nrAw/1IJyIeTenEe1s/4p9IUUaVvQH4QNY5aTLzjj6nuSbwL/Svk/9hyvGH8uH9u9px0KbNgTsy82d1+TzK0+cft6IRD3Vt9qNe6FUHtF03DBVfP+qFYcrTar3QK52264UJrKOHOt9arxdGKk9b9cIw6bRaL/RIp/V6YZhr5fnAfZn5g7r+RODVfUiHzLwkM38/3rhHk079QeGaGuZh4MesQJ0wQnmadcK69KmtoIkREe+NiCvr6KnLo3G3SR0xeWjd/suIeFVdv8zIqOZyRKwREXMi4qqIuCnKqPg167b9IuKiiPhGRNxI+Ry+sSs/1413BFFEvDEifhQRV0fEJRHxjMbm9SLinIiYV7c9sUeentM9eqi5HOUuiitrPi+OiCc134O6/SfAW6OMQt24Ec//RMSh4ykbcDqlA5KIeArwN8ANdXnHeuyuiXLnwL6NNOdGxCcj4grgnLrukBruuoi4rPGD4BoRcVJEXF+3PXOceR2vNwMfBq4Hdq95nR0RX63HbH5EfD0i1mts+1pEXADMA9afiJFfY3Q6YzxuEbFNm9dF20a4PhZGxIdquRZGY8R1RDwjIs5vXD9vmoz89zJcuRrrJvvYDHWNnN71Pj+yHBFPrPXUTbX+O7exbZmR+s3lKHcFdu70uCbKiOATatDL6vr1h8jfRsBfgT8CZHFNjfMfotwxdXV9vaKu79SdR9e654aIeEmN7wTKdX1tRFxWw28cEWdFxI9r2Efq1HrMPlzPv1sj4rUR8e4a9ufR1bHbI00iYpeI+GHN5+UR8YK6fvsa/rMRcS2lrb8P8LbMvK+W+UbgCEqHe6/69gRgy1qus2q4bWpa19e/27Sc11ldx2o2cHh0/RgREZvXc+b6KHcGvryuPywad/xEuWPtzoj4m4hYMyI+Xt/n6yLiC1HvvKvn40lR6vBfRcSxEbFDlLtbF0bEu7ry9bpalp/H6OuPJwFvj4grgcMz82xKu/59I+RtvYg4rXF8jq/rJ7U8UdpeszvlYTiZ6auFF+WL4U1d6+YBz+tTeguBZ09Q2VYDLgLe2cc0TgFuBW6j/KLWjzQ+Shn91df3r8Z9HeWD9n+B9fuQxt9RRmh9HLgKmAu8uM/nwV7AtX2Mf0fgTsoIwT8BL+hDGutRGhjb1OV/p4x8a+06bZ5b/awXep3DbZ/bw6TTar0wVDr9qBe60+lXvTBEOn2pF7rOt77VC8OcB63WC0O8b32pF7ret77WC81rBXgV8O2u7UuAx7aZTtf6BNZu8Rj1Smct4CbKSKC+pEPp4L8duBF4Qltl8jVxr861B8xorHsZcEVjOYED6/8vAn5T/58J3NkI98gyEMAGjf8/DxxQl/cD7gae2tj3CmC7+v9LgGvGkP/5wLX1dTjwbeDRdfss4IeNdO8FnlGXDwfOGiZP3fVfs556XGP9W4EzGu9BAvs0th9F+UILZdTX74HHj/NYPQf4KTAd+CClfjwdOLCuW72G3RD4NTC9Ls+ldB6vUZffCFwOrFOXO8dqe0rnz3Pr8n8CX5rA8/FvazmD8oPo+XX9bOB3wIZ1+TTgE41tt3Ydk+axmgvsOsnX2HiP27iuiwkoz7NHuD4WNo7PTMq1tTawBnA1sEXdtg6woLO8kpSr8/+kHJthrpHTqfV09zLwdeCw+v+TgMWNbctcH51l4LGUB7iu1ThWnfpj2HYMpb3wTUp78Szg3cAGlMEH1wAb13Ab1/N9fZbWnW+o27av2x5N12dN3X4h8NL6/5rA94GdGsfp4/X/bYB7WPrd4tXADxrnZq80n0qpI9et254F3NoI9xDwwrq8K0O0vYHn1vdguPr2qkb4NSl12Y51+WV1ec228trjnP8a8K6udT8C3lLXbVnLMQPYjFIXd86FfwdOq/8fRj3P6vJHgSMa5+MPan6nUT4HT6OcK0+k1hGNPHTi3JByJ8ffMkL9Ud+fY7rK+ErKd/3h8vZZ4Dhgtbr8uAEqz3+Mpl4Y9NuLNBiOo5yYx/crgcx8K0BEvJ7SAbJLm/FHxAuBrYH3txlvDy/JzNuijHD8JOV9e13LaawOPIXSgDg4ym0T50bE5pm5uOW0Ot5Mn0YhR7ll4hBg98z8YUS8CPhqRGyZmXe3lU5m/jki9gGOjYjHUG6Jvgt4sK00phDrhbGxXhijVaheaF4rr2wpzpHS6afl0qnH6gzgksw8p1/pZOYudTTNIZTG9ttbSksT7/lRRnI9ljKq/Old28+of68AnlCvzeGsRhn9M4tSF06n/EDT8YNcdrqB/6GcP5cC76CM0BqtvbKM+iIiPkb5Ae9HEQGlo2V6V7oL6v+nUEeD9sjTcGZFxDtY2jHWdB/w1cbyCcD3I+IIyufMBTn+uxKyxr1vfW1L+YEcyhf806I86+FByrF8BuWYAXw5Mzv16K7ApzPzLwCZ+cdGGguyjhqs++42zryOx1uAz2dmRsTZwHFRR4sD38qld/OcSqmTOs7LzFbnC23ZeI/bilwXk+0MKFNuRcQiyq3+q1GmNjijXp9QOmGeSfkxaGUyWcdmuGukl3+k/HBOZv4qIi4eRTp/Bn4OfD7KKP9vdeqLkWS5E2qPKCO4twP2AA6urycD5zeOf1LuQLuTMiXXF2sccyPiXsq1sEybOSL+htI5OqMRzzqU8+jCunxm/fsTSidfZ/nqml5HrzRfTOmc/V4jjTUiYsP6/82ZeXknSyO8JcPVt03PAB7IzItruIsi4oG6/i8t5XUohwHfjYhTG+XZitK5SmbOq6OYX5CZ50bETZTvgOdQfoDtTCP1z8C6EbFXXX40ZcBOxzcz836AiFhAqbcfBn7TqCM69cCpNe07IuLblOP9ICPXH//XVbZOwOHytivw/JoXGp8lg1CezzEKdiK35zbgiRGxemY+FGX+lyfU9SutiPgE8DRgt2x/aoHlZOYXIuLkiNhgmApvPLajXCC31ItmE2BORLwpMy9oMR2y3iqdmfdHxP9Sb+Nr2a2UiuArNa0fRbml8+mUEYitqo2F7ejfHEZbUUaV/RCgdhjdQzlmV7aZUGZeRBndRv2wO5gyerMfrBdaYL0watYL49SveqH7WomIW2lM9xBlyoyHM3OFH0zIBFyTQ6VT67UvAYuoXxr7kU5HfR9PBW7GTuSV1WqU0WIvzcyfRMQTgN90hencovtQrZ/XoNRvzan4mh3Lr6V8sX1JZv6ldlA3O6a7f3j6GnBkRDyX0uHx5nGWJSgjfv5rHPt252nI8kWZuuJYyt0St0S5hb05D/09WYcRQfm8ifKwut0pnU0rOgfm5yijxL6XmX9sfPn8NOWzbM/awfQzlj0mo/2x777G/w8xQd9Po9xO/Vrg/oh4Q139KOo0ECNo7YfMPhrPcWvruuiH4a5/GPo8SsqI0r4+tH0FjVSujgk/NiNcI6PNd7ch96t1/Qsod5/sAFwdES/PzOtHm9/6496NwAkRMY9SP1+fmcvNExxjezjvapRzaZvM/GuPMN2fWZ3zcbR1WgDfycw3LLehTPHTrHNuADaPiMd2tR9fQLnjsd/GktflZOaCiDgPOGiU6Z0OvDEibqHcPfj9Rj7enpmX9Nivu04Y62dNMHL9saRreRvKOfjkEfLWK73JLs+oPtucE7kl9Rf+a4HX1FWvoYwG+8Pk5WrFRMRHKL9a79H51aMPaawdEZs2lnej3LK8Ql+ou2XmUZn5hMycmZkzKbdj7Nx2R1GU+Xk6c6YF5df/a9tMAx75xeq7wE41racDj6f8gtsPb6Tcgt1mB17Tr4FNos4jWD+ANqQPnbsRsVH9uxrwEeDEzLyn7XTAemEF0rBeGAfrhfHrR73Q41q5GlgrIl5clw+gfDFsO53WDZVOfb9OpzRe39LsyGo5nRmx7BzVe7PsiE6tfNZg6Q+qo/0x4HbgURHRGdX12sa29Slfjv5S69vXLrd3Q+0IOI3SmfalzOz+Ijha5wJviIhNoPyoEhHPb2x/UZQRnwBvAob7QvlzyhdQImJHSn0HZQ7wB4Db6zV3wCjydRzlrpe/jjAibESZ+UvKNBP/3bVpfWBh7YjciWVH23X7FvC2iFgHyryWK5KnluxOGQW9SaMd8E8s7UR+RSx9hsVIx27gjOe4tXhd9EOv62M4C4AlUe5oo+67RUSs258sjsuoyjVJx2a4a6SZ740pHdsdcyltRGp7fofGtuZ+W1IfAFzrhhmZeWlmHk7piOvMDf0Xlj4fYzlR5mB+YWN5E8qI+3nA0yLiHxvbtomlv6h0OsmJMt/vWpQRmYuBaVEfLlZH9H6fxp2LEbFpp+04Rr3SvAB4eUQ8q5nXoSLIzIWUtuOno96lE2UU9n9Spq/pVd8uZtn3cQGwZuf9iYgdKD8SdO6eWeG8DmM25UfOdSgd9Ney9Jx5JuUOn85dLWdTHor9XuD0RlvzHOCgiFir7rdOjH9O/f1qHDMoo56/yxjrj4jYnfKMnaNHyNu3gIM752GjfTtQ5RlWTsBcOlPlRXkq44+An9W/z+hDGv9D+WL9IKUxfVPbadR0nkW5oBewdN63b/QhnQ0pFcQNNY1L6NM80l3pLqQPcyJTbyWn/Ap4E6WC37hPZXgK5UP6BsqtM7P6+H79DHh5n4/Jv9SyXFdfe/QpnVMo88T9gjIa4zEtxTvktdl2vTBMOq3WDUPF1496oUc6rdcLo3l/2qgXepSn9XphmPOg1XphuPetzXphmPK0Wi8Mk06r9cJw1wrltuIbKCNpL6TOudmHdM6uZU3KKM85bacDvKKuv6Gx/oQ+pPMcSgf89TWtc4CntHHu+ZrYVz0nN6c8+X5hPa6HUJ6F1AmzzPyXzWXK6LtbKA9xPJylcyKvR7mbYD7wvXodn1637Uedi7grL0+kTKXxtDHkfyHLz9//L5T69rpaj3yoke6FlNtd51E+y57YK0+UjpV59bw/hjIXfGc+1E/Vcl9J6SRYWNfPpGvuzkZ8NwNvXYFjtVxZ6/rTKXPr7lTTuBb4TP27fQ0zl2XnPQ3gUMpn4LWUuR1XY/k5OpdZ7vO5eD7lwVTd639B+cJ9JnBxPafOBtar22dT598d6r3qLvskXGPjPm7jvS76XJ5OnTHc9bFMmbuOx9Mo85Z32mCX0JjPeiUr14QemxGuke3qdTKPMh/xOSyd93jTuu0mSofZhcDr67anUOr9Gyij5S+n3N6/CeV70vWUDuTPU9tilLq+0y5Y7pkilDu8LmiEuR74t7ptm3pNdurnb1PqnpmUKS0+wdK2xUsacX6mhr+sLm9EudPvhvq6jKVzyXYfp+Zn1kyWfk6NlOY/Ub7/dPJ6Sl2/PV31IqVD91jglyydp/9VdVuv+naNejxuZOn8/NvUY3B9/btN23kd6rqsy5+o79WzKdfCxTWtn9D1/YLSTn8I2Kyx7lGUhwneWPe7jnKHBSw/Z/dclv1MeiQv9f8jKeflz7v261l/sLS9el3d7xxg21Hkbf2av5vq+v8ZoPKM6hkqUXeQJEmSpL6oo9XmAxtl5r0DkJ/XAa/JzFdMdl7aFhFPBn4IbJ6DNZp0pRARsylfpt832XmZaIN0XQxandGW8ZZrkI7NcOpIyr9m5oO1rFdSHt62YIRdJ0ydzuKqzHzcCEEldXFOZEmSJEl9ExHvpExb8b5B6AyKiDmUBwP982TnpW0R8SHKiO332oGssRik62LQ6oy2jLdcg3RsRuFplAfkBWV05QcHqQNZ0opxJLIkSZIkSZIkqScfrCdJkiRJkiRJ6slOZEmSJEmSJElST3YiS5IkSZIkSZJ6shNZklZARMyOiDt7bDs9Iq6a6Dz1S0T8a0TcEhEPRsTcMe57Z33auSRJktSa2h7PiLi5x/ab6/bZfUh7/4jYY4j1CyPiE22nJ0mTyU5kSdKIImIj4NPA/wHbUZ4sLUmSJA2C+4AnR8TWzZURsQ0ws27vh/2B5TqRJWlVZCeyJK0CImL1iFizj0lsDqwOnJaZP8zMeX1MS5IkSRqLe4BLgH271u9b198z4TmSpFWMnciSNIEiYquIuDgilkTEooj4UkRs2Ni+fb3d7tld+82NiLMay6dHxFURsUdE3EQZXfEPEbF+RJwSEb+NiPsi4taI+Mwo8nVgvdXv/oj4eUS8p7FtNvD9unhdzd9+w8T10oi4rqZ/dURsO0SYV0TEhRHx+4hYHBFXRMQ/NbZvWdPZvmu/tSPi7oh410hlkiRJ0pRyBvDqiAiA+vfVdf0yIuLVEXFDbfveFhFHRMQaje371bboc2qb9Z6ImB8RezbCzAWeD7yxhl2ujRwR74mIX9d2/xkRsX5j26Mi4hO1vX5/bb9/o88DQyRp3OxElqQWRMQa3S8gusLMAOYC04DXAv9OmRriwnE2FmcCHwOOBGYBtwDHAC8G3gPsDBwK5Ah5/1fgOOAcYDfga8DREfH+GuQU4B31/38BXgh8u0dcTwDOB/4E7AWcBHyJUuamJwPnAq8HXgVcBpwfES8CqCOdrwD269pvb+BRwBeHK5MkSZKmnLOBDSltYYCXADPq+kfUgQtnAj8Bdqe0g98HHD9EnF+mtJFfCdwMnBERm9RtbwfmA+dR2sfdbeRXAztSprz4D2BX4CON7YdQ2tYfAHYC3g38mXL3nyQNnDVGDiJJGsEGwF97bLu68f9769+dM3MxlAd9UDpLXwV8ZRzpviwzr+2siIi/B07IzDMb4Xp2uEbEasBs4PTM7OTvgohYDzgkIj6Zmb+OiM70Fddn5o3D5OndlFHRr8jMJTWNe7rzkJmPNNJrHr4LPAt4C/DDuulU4JMRcWBm3l3XvQk4NzP/OEweJEmSNMVk5l0R8R3KFBbfr3+/k5l/roOTOz4EzM3MN9bl79TtR0bEhzPz142wx2bmaQARcTVwB6Uz+MTMnFfbuX/IzCuGyNJfgT0y88G6/5Y1T51ni/w98OXM/Fxjn6+Ot/yS1G+ORJakFfdnYJshXt/qCvf3wAWdDmSAzPwRsJClIybG4jfNDuTqWuDgiHh7RDx9FHFsAjyBMvq46UxgXeA5Y8zT3wMXdjqQq290B4qITSLicxHxG+BBSiP7n4Bmnjsd4XvXfZ5KeZ8+O8Y8SZIkaWo4A9grIh5NuStumaksImJ14HkM3fZdjTKauOmCzj91EMPvKe3n0fhupwO5mgc8PiIeVZevBfaLiP8XEX8bXT3dkjRo7ESWpBX3YGZe1f0CukfLbkwZvdDtDuCx40h3qLgOBL4J/BewoM5z3P2Ake48DRVXZ3ms+dqI0rh+RO1Q7owk7ow8PgfYtubzHymd7ucDj2ns9xfKaIw31VX7AbcD3xljniRJkjQ1nAOsDRwB/A1l+rSmx1GmRhtt2/euruUHaLRXRzDUvgE8ui5/GDiBMjL5OuA2n/shaZDZiSxJE+d3wOOHWL8hZQ5hKFNBAHTPkTx9iP2Wm+s4M+/KzHdm5kbA3wE/Ar5Ub5/rlSeGyFfnYX9/Ymxu744rIqZRGvMdmwPPBf49M0/NzEtrp/taQ8R3CvDiiHga8Abg85n50BjzJEmSpCkgM++h3A34HsoUaPd0BbmTcgdcW23fccvM+zLzvzJzJuVuvDMpU7m9fKLyIEljYSeyJE2cHwE7R8Q6nRURsQ3lAXk/qKs6c7A9sxFmU2CLsSaWmdcDB1Pq+l77/xr4LXXKiIZXA4uBG8aY7JXATrXjuOOVXWE6ncX3d1ZExJOAF3VHlpmXAQuA04DNgNPHmB9JkiRNLZ+mjEA+sXtDHYxwNUO3fR8GLh9jWmMZmdxTZt5Mebjf/UCvwR+SNKl8sJ4kTZxjgLcBcyLio5TRuUdROmq/DlAfYncV8N8RsYTSAXwooxwVERE/oMxBfCNlpPK/AvcAPx4qfGY+HBGzgZMi4o/AhcB2NZ+HZuZ9Q+03jE8C7wC+FRHHUOZbPgS4txFmPqXz+uiI+ACwDvBB4Dc94juBLtwAAAGaSURBVDwV+DhweWbOH2N+JEmSNIVk5lxg7jBBDqe0xz9LmTP5OcB/A5/peqjeaMynDBLZmTKV3S2jfQB0RHyD0qF9DaWtvBelj+Z7Y8yDJE0IRyJL0gTJzD9Q5v+9D/gKZQ607wM7ZeYDjaCvAW4Fvgh8hPIE6QWjTOZyytzBZ1HmE34cMGu4BnFmfgZ4F2XE8Ldq+u/NzKNGW7ZGXL8Bdqnpfp0yx9vrgCWNMPcDe1IeqHcWpdF+JHBpj2i/Wf+eNtb8SJIkSU2ZeQGwL7A1ZcTyu4GjKc8WGasPAz+ltLuvBHYbw76XAXsAXwb+D3g+8Ko6zZskDZzIXG5KTUmSBkZEvB34GPCEzFw82fmRJEmSJGmqcToLSdJAioiZlIeMHAqcbgeyJEmSJEmTw5HIkqSBFBGnA6+lTHPx6sxcNLk5kiRJkiRparITWZIkSZIkSZLUkw/WkyRJkiRJkiT1ZCeyJEmSJEmSJKknO5ElSZIkSZIkST3ZiSxJkiRJkiRJ6slOZEmSJEmSJElST3YiS5IkSZIkSZJ6+v9q3nId7NIxwwAAAABJRU5ErkJggg==\n",
                "text/plain": "<Figure size 1440x720 with 4 Axes>"
              }
            ],
            "_view_module": "@jupyter-widgets/output",
            "_model_module_version": "1.0.0",
            "_view_count": null,
            "_view_module_version": "1.0.0",
            "layout": "IPY_MODEL_d33eb03ad811410fba60bc0e96fe5cec",
            "_model_module": "@jupyter-widgets/output"
          }
        },
        "f512160db2284a4192d922e35c9d3e07": {
          "model_module": "@jupyter-widgets/controls",
          "model_name": "DescriptionStyleModel",
          "state": {
            "_view_name": "StyleView",
            "_model_name": "DescriptionStyleModel",
            "description_width": "",
            "_view_module": "@jupyter-widgets/base",
            "_model_module_version": "1.5.0",
            "_view_count": null,
            "_view_module_version": "1.2.0",
            "_model_module": "@jupyter-widgets/controls"
          }
        },
        "30268bcb861847419d9849c011af6dd4": {
          "model_module": "@jupyter-widgets/base",
          "model_name": "LayoutModel",
          "state": {
            "_view_name": "LayoutView",
            "grid_template_rows": null,
            "right": null,
            "justify_content": null,
            "_view_module": "@jupyter-widgets/base",
            "overflow": null,
            "_model_module_version": "1.2.0",
            "_view_count": null,
            "flex_flow": null,
            "width": null,
            "min_width": null,
            "border": null,
            "align_items": null,
            "bottom": null,
            "_model_module": "@jupyter-widgets/base",
            "top": null,
            "grid_column": null,
            "overflow_y": null,
            "overflow_x": null,
            "grid_auto_flow": null,
            "grid_area": null,
            "grid_template_columns": null,
            "flex": null,
            "_model_name": "LayoutModel",
            "justify_items": null,
            "grid_row": null,
            "max_height": null,
            "align_content": null,
            "visibility": null,
            "align_self": null,
            "height": null,
            "min_height": null,
            "padding": null,
            "grid_auto_rows": null,
            "grid_gap": null,
            "max_width": null,
            "order": null,
            "_view_module_version": "1.2.0",
            "grid_template_areas": null,
            "object_position": null,
            "object_fit": null,
            "grid_auto_columns": null,
            "margin": null,
            "display": null,
            "left": null
          }
        },
        "71bd92f4432e4cae91d163438fa129cd": {
          "model_module": "@jupyter-widgets/controls",
          "model_name": "DescriptionStyleModel",
          "state": {
            "_view_name": "StyleView",
            "_model_name": "DescriptionStyleModel",
            "description_width": "",
            "_view_module": "@jupyter-widgets/base",
            "_model_module_version": "1.5.0",
            "_view_count": null,
            "_view_module_version": "1.2.0",
            "_model_module": "@jupyter-widgets/controls"
          }
        },
        "21531da0bd6949339e4700aa5db14080": {
          "model_module": "@jupyter-widgets/base",
          "model_name": "LayoutModel",
          "state": {
            "_view_name": "LayoutView",
            "grid_template_rows": null,
            "right": null,
            "justify_content": null,
            "_view_module": "@jupyter-widgets/base",
            "overflow": null,
            "_model_module_version": "1.2.0",
            "_view_count": null,
            "flex_flow": null,
            "width": null,
            "min_width": null,
            "border": null,
            "align_items": null,
            "bottom": null,
            "_model_module": "@jupyter-widgets/base",
            "top": null,
            "grid_column": null,
            "overflow_y": null,
            "overflow_x": null,
            "grid_auto_flow": null,
            "grid_area": null,
            "grid_template_columns": null,
            "flex": null,
            "_model_name": "LayoutModel",
            "justify_items": null,
            "grid_row": null,
            "max_height": null,
            "align_content": null,
            "visibility": null,
            "align_self": null,
            "height": null,
            "min_height": null,
            "padding": null,
            "grid_auto_rows": null,
            "grid_gap": null,
            "max_width": null,
            "order": null,
            "_view_module_version": "1.2.0",
            "grid_template_areas": null,
            "object_position": null,
            "object_fit": null,
            "grid_auto_columns": null,
            "margin": null,
            "display": null,
            "left": null
          }
        },
        "d33eb03ad811410fba60bc0e96fe5cec": {
          "model_module": "@jupyter-widgets/base",
          "model_name": "LayoutModel",
          "state": {
            "_view_name": "LayoutView",
            "grid_template_rows": null,
            "right": null,
            "justify_content": null,
            "_view_module": "@jupyter-widgets/base",
            "overflow": null,
            "_model_module_version": "1.2.0",
            "_view_count": null,
            "flex_flow": null,
            "width": null,
            "min_width": null,
            "border": null,
            "align_items": null,
            "bottom": null,
            "_model_module": "@jupyter-widgets/base",
            "top": null,
            "grid_column": null,
            "overflow_y": null,
            "overflow_x": null,
            "grid_auto_flow": null,
            "grid_area": null,
            "grid_template_columns": null,
            "flex": null,
            "_model_name": "LayoutModel",
            "justify_items": null,
            "grid_row": null,
            "max_height": null,
            "align_content": null,
            "visibility": null,
            "align_self": null,
            "height": null,
            "min_height": null,
            "padding": null,
            "grid_auto_rows": null,
            "grid_gap": null,
            "max_width": null,
            "order": null,
            "_view_module_version": "1.2.0",
            "grid_template_areas": null,
            "object_position": null,
            "object_fit": null,
            "grid_auto_columns": null,
            "margin": null,
            "display": null,
            "left": null
          }
        },
        "4ae76ca08b2c4ba1ac02cffac97523e0": {
          "model_module": "@jupyter-widgets/controls",
          "model_name": "VBoxModel",
          "state": {
            "_view_name": "VBoxView",
            "_dom_classes": [
              "widget-interact"
            ],
            "_model_name": "VBoxModel",
            "_view_module": "@jupyter-widgets/controls",
            "_model_module_version": "1.5.0",
            "_view_count": null,
            "_view_module_version": "1.5.0",
            "box_style": "",
            "layout": "IPY_MODEL_ca28c78eabca46abb154e509501d58f0",
            "_model_module": "@jupyter-widgets/controls",
            "children": [
              "IPY_MODEL_355038ae85b64f89bfdc12e37eab170b",
              "IPY_MODEL_bb72f0e886ce4f60869de393571711cd",
              "IPY_MODEL_d23ce58d96de44baa60824f70ba7aa4a"
            ]
          }
        },
        "ca28c78eabca46abb154e509501d58f0": {
          "model_module": "@jupyter-widgets/base",
          "model_name": "LayoutModel",
          "state": {
            "_view_name": "LayoutView",
            "grid_template_rows": null,
            "right": null,
            "justify_content": null,
            "_view_module": "@jupyter-widgets/base",
            "overflow": null,
            "_model_module_version": "1.2.0",
            "_view_count": null,
            "flex_flow": null,
            "width": null,
            "min_width": null,
            "border": null,
            "align_items": null,
            "bottom": null,
            "_model_module": "@jupyter-widgets/base",
            "top": null,
            "grid_column": null,
            "overflow_y": null,
            "overflow_x": null,
            "grid_auto_flow": null,
            "grid_area": null,
            "grid_template_columns": null,
            "flex": null,
            "_model_name": "LayoutModel",
            "justify_items": null,
            "grid_row": null,
            "max_height": null,
            "align_content": null,
            "visibility": null,
            "align_self": null,
            "height": null,
            "min_height": null,
            "padding": null,
            "grid_auto_rows": null,
            "grid_gap": null,
            "max_width": null,
            "order": null,
            "_view_module_version": "1.2.0",
            "grid_template_areas": null,
            "object_position": null,
            "object_fit": null,
            "grid_auto_columns": null,
            "margin": null,
            "display": null,
            "left": null
          }
        },
        "355038ae85b64f89bfdc12e37eab170b": {
          "model_module": "@jupyter-widgets/controls",
          "model_name": "DropdownModel",
          "state": {
            "_options_labels": [
              "2020",
              "2021"
            ],
            "_view_name": "DropdownView",
            "style": "IPY_MODEL_7bfb3df3defa4804b267e458dfae8f95",
            "_dom_classes": [],
            "description": "Year",
            "_model_name": "DropdownModel",
            "index": 0,
            "_view_module": "@jupyter-widgets/controls",
            "_model_module_version": "1.5.0",
            "_view_count": null,
            "disabled": false,
            "_view_module_version": "1.5.0",
            "description_tooltip": null,
            "_model_module": "@jupyter-widgets/controls",
            "layout": "IPY_MODEL_573597dbfba345639d5cbfadd82108b2"
          }
        },
        "bb72f0e886ce4f60869de393571711cd": {
          "model_module": "@jupyter-widgets/controls",
          "model_name": "DropdownModel",
          "state": {
            "_options_labels": [
              "January",
              "February",
              "March",
              "April",
              "May",
              "June",
              "July",
              "August",
              "September",
              "October",
              "November",
              "December"
            ],
            "_view_name": "DropdownView",
            "style": "IPY_MODEL_7ca1186d01404563be85b5bf3eaa724a",
            "_dom_classes": [],
            "description": "Month",
            "_model_name": "DropdownModel",
            "index": 3,
            "_view_module": "@jupyter-widgets/controls",
            "_model_module_version": "1.5.0",
            "_view_count": null,
            "disabled": false,
            "_view_module_version": "1.5.0",
            "description_tooltip": null,
            "_model_module": "@jupyter-widgets/controls",
            "layout": "IPY_MODEL_ee4fcb0f3b154b06ace92c5f6f8fa4ce"
          }
        },
        "d23ce58d96de44baa60824f70ba7aa4a": {
          "model_module": "@jupyter-widgets/output",
          "model_name": "OutputModel",
          "state": {
            "_view_name": "OutputView",
            "msg_id": "",
            "_dom_classes": [],
            "_model_name": "OutputModel",
            "outputs": [
              {
                "output_type": "display_data",
                "metadata": {
                  "tags": [],
                  "needs_background": "light"
                },
                "image/png": "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\n",
                "text/plain": "<Figure size 1440x720 with 4 Axes>"
              }
            ],
            "_view_module": "@jupyter-widgets/output",
            "_model_module_version": "1.0.0",
            "_view_count": null,
            "_view_module_version": "1.0.0",
            "layout": "IPY_MODEL_c6b5bd968240477e874a75d36dd13a9c",
            "_model_module": "@jupyter-widgets/output"
          }
        },
        "7bfb3df3defa4804b267e458dfae8f95": {
          "model_module": "@jupyter-widgets/controls",
          "model_name": "DescriptionStyleModel",
          "state": {
            "_view_name": "StyleView",
            "_model_name": "DescriptionStyleModel",
            "description_width": "",
            "_view_module": "@jupyter-widgets/base",
            "_model_module_version": "1.5.0",
            "_view_count": null,
            "_view_module_version": "1.2.0",
            "_model_module": "@jupyter-widgets/controls"
          }
        },
        "573597dbfba345639d5cbfadd82108b2": {
          "model_module": "@jupyter-widgets/base",
          "model_name": "LayoutModel",
          "state": {
            "_view_name": "LayoutView",
            "grid_template_rows": null,
            "right": null,
            "justify_content": null,
            "_view_module": "@jupyter-widgets/base",
            "overflow": null,
            "_model_module_version": "1.2.0",
            "_view_count": null,
            "flex_flow": null,
            "width": null,
            "min_width": null,
            "border": null,
            "align_items": null,
            "bottom": null,
            "_model_module": "@jupyter-widgets/base",
            "top": null,
            "grid_column": null,
            "overflow_y": null,
            "overflow_x": null,
            "grid_auto_flow": null,
            "grid_area": null,
            "grid_template_columns": null,
            "flex": null,
            "_model_name": "LayoutModel",
            "justify_items": null,
            "grid_row": null,
            "max_height": null,
            "align_content": null,
            "visibility": null,
            "align_self": null,
            "height": null,
            "min_height": null,
            "padding": null,
            "grid_auto_rows": null,
            "grid_gap": null,
            "max_width": null,
            "order": null,
            "_view_module_version": "1.2.0",
            "grid_template_areas": null,
            "object_position": null,
            "object_fit": null,
            "grid_auto_columns": null,
            "margin": null,
            "display": null,
            "left": null
          }
        },
        "7ca1186d01404563be85b5bf3eaa724a": {
          "model_module": "@jupyter-widgets/controls",
          "model_name": "DescriptionStyleModel",
          "state": {
            "_view_name": "StyleView",
            "_model_name": "DescriptionStyleModel",
            "description_width": "",
            "_view_module": "@jupyter-widgets/base",
            "_model_module_version": "1.5.0",
            "_view_count": null,
            "_view_module_version": "1.2.0",
            "_model_module": "@jupyter-widgets/controls"
          }
        },
        "ee4fcb0f3b154b06ace92c5f6f8fa4ce": {
          "model_module": "@jupyter-widgets/base",
          "model_name": "LayoutModel",
          "state": {
            "_view_name": "LayoutView",
            "grid_template_rows": null,
            "right": null,
            "justify_content": null,
            "_view_module": "@jupyter-widgets/base",
            "overflow": null,
            "_model_module_version": "1.2.0",
            "_view_count": null,
            "flex_flow": null,
            "width": null,
            "min_width": null,
            "border": null,
            "align_items": null,
            "bottom": null,
            "_model_module": "@jupyter-widgets/base",
            "top": null,
            "grid_column": null,
            "overflow_y": null,
            "overflow_x": null,
            "grid_auto_flow": null,
            "grid_area": null,
            "grid_template_columns": null,
            "flex": null,
            "_model_name": "LayoutModel",
            "justify_items": null,
            "grid_row": null,
            "max_height": null,
            "align_content": null,
            "visibility": null,
            "align_self": null,
            "height": null,
            "min_height": null,
            "padding": null,
            "grid_auto_rows": null,
            "grid_gap": null,
            "max_width": null,
            "order": null,
            "_view_module_version": "1.2.0",
            "grid_template_areas": null,
            "object_position": null,
            "object_fit": null,
            "grid_auto_columns": null,
            "margin": null,
            "display": null,
            "left": null
          }
        },
        "c6b5bd968240477e874a75d36dd13a9c": {
          "model_module": "@jupyter-widgets/base",
          "model_name": "LayoutModel",
          "state": {
            "_view_name": "LayoutView",
            "grid_template_rows": null,
            "right": null,
            "justify_content": null,
            "_view_module": "@jupyter-widgets/base",
            "overflow": null,
            "_model_module_version": "1.2.0",
            "_view_count": null,
            "flex_flow": null,
            "width": null,
            "min_width": null,
            "border": null,
            "align_items": null,
            "bottom": null,
            "_model_module": "@jupyter-widgets/base",
            "top": null,
            "grid_column": null,
            "overflow_y": null,
            "overflow_x": null,
            "grid_auto_flow": null,
            "grid_area": null,
            "grid_template_columns": null,
            "flex": null,
            "_model_name": "LayoutModel",
            "justify_items": null,
            "grid_row": null,
            "max_height": null,
            "align_content": null,
            "visibility": null,
            "align_self": null,
            "height": null,
            "min_height": null,
            "padding": null,
            "grid_auto_rows": null,
            "grid_gap": null,
            "max_width": null,
            "order": null,
            "_view_module_version": "1.2.0",
            "grid_template_areas": null,
            "object_position": null,
            "object_fit": null,
            "grid_auto_columns": null,
            "margin": null,
            "display": null,
            "left": null
          }
        },
        "e1a503b0cf9b4e6a98808a6c09ace44d": {
          "model_module": "@jupyter-widgets/controls",
          "model_name": "VBoxModel",
          "state": {
            "_view_name": "VBoxView",
            "_dom_classes": [
              "widget-interact"
            ],
            "_model_name": "VBoxModel",
            "_view_module": "@jupyter-widgets/controls",
            "_model_module_version": "1.5.0",
            "_view_count": null,
            "_view_module_version": "1.5.0",
            "box_style": "",
            "layout": "IPY_MODEL_0dabd091c136427eb24bae894c146c93",
            "_model_module": "@jupyter-widgets/controls",
            "children": [
              "IPY_MODEL_1ddc5631ccfb41f397c2dd20533ad232",
              "IPY_MODEL_6ac689085d504563b7ddf67293253618",
              "IPY_MODEL_c33f187d6cc9426db7dcd659cedc52c4"
            ]
          }
        },
        "0dabd091c136427eb24bae894c146c93": {
          "model_module": "@jupyter-widgets/base",
          "model_name": "LayoutModel",
          "state": {
            "_view_name": "LayoutView",
            "grid_template_rows": null,
            "right": null,
            "justify_content": null,
            "_view_module": "@jupyter-widgets/base",
            "overflow": null,
            "_model_module_version": "1.2.0",
            "_view_count": null,
            "flex_flow": null,
            "width": null,
            "min_width": null,
            "border": null,
            "align_items": null,
            "bottom": null,
            "_model_module": "@jupyter-widgets/base",
            "top": null,
            "grid_column": null,
            "overflow_y": null,
            "overflow_x": null,
            "grid_auto_flow": null,
            "grid_area": null,
            "grid_template_columns": null,
            "flex": null,
            "_model_name": "LayoutModel",
            "justify_items": null,
            "grid_row": null,
            "max_height": null,
            "align_content": null,
            "visibility": null,
            "align_self": null,
            "height": null,
            "min_height": null,
            "padding": null,
            "grid_auto_rows": null,
            "grid_gap": null,
            "max_width": null,
            "order": null,
            "_view_module_version": "1.2.0",
            "grid_template_areas": null,
            "object_position": null,
            "object_fit": null,
            "grid_auto_columns": null,
            "margin": null,
            "display": null,
            "left": null
          }
        },
        "1ddc5631ccfb41f397c2dd20533ad232": {
          "model_module": "@jupyter-widgets/controls",
          "model_name": "DropdownModel",
          "state": {
            "_options_labels": [
              "2020",
              "2021"
            ],
            "_view_name": "DropdownView",
            "style": "IPY_MODEL_4c005c7e46c0455eb8ffe56621495f4d",
            "_dom_classes": [],
            "description": "Year",
            "_model_name": "DropdownModel",
            "index": 0,
            "_view_module": "@jupyter-widgets/controls",
            "_model_module_version": "1.5.0",
            "_view_count": null,
            "disabled": false,
            "_view_module_version": "1.5.0",
            "description_tooltip": null,
            "_model_module": "@jupyter-widgets/controls",
            "layout": "IPY_MODEL_a23e5f181bdc4307a923f21393d283eb"
          }
        },
        "6ac689085d504563b7ddf67293253618": {
          "model_module": "@jupyter-widgets/controls",
          "model_name": "DropdownModel",
          "state": {
            "_options_labels": [
              "January",
              "February",
              "March",
              "April",
              "May",
              "June",
              "July",
              "August",
              "September",
              "October",
              "November",
              "December"
            ],
            "_view_name": "DropdownView",
            "style": "IPY_MODEL_1ac7e0b6086344b58901d60f8af41968",
            "_dom_classes": [],
            "description": "Month",
            "_model_name": "DropdownModel",
            "index": 2,
            "_view_module": "@jupyter-widgets/controls",
            "_model_module_version": "1.5.0",
            "_view_count": null,
            "disabled": false,
            "_view_module_version": "1.5.0",
            "description_tooltip": null,
            "_model_module": "@jupyter-widgets/controls",
            "layout": "IPY_MODEL_0ccef66e16b44bdbb728d5aa8b5dfc71"
          }
        },
        "c33f187d6cc9426db7dcd659cedc52c4": {
          "model_module": "@jupyter-widgets/output",
          "model_name": "OutputModel",
          "state": {
            "_view_name": "OutputView",
            "msg_id": "",
            "_dom_classes": [],
            "_model_name": "OutputModel",
            "outputs": [
              {
                "output_type": "display_data",
                "metadata": {
                  "tags": [],
                  "needs_background": "light"
                },
                "image/png": "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\n",
                "text/plain": "<Figure size 1440x720 with 4 Axes>"
              }
            ],
            "_view_module": "@jupyter-widgets/output",
            "_model_module_version": "1.0.0",
            "_view_count": null,
            "_view_module_version": "1.0.0",
            "layout": "IPY_MODEL_8f10537f0ebe4337a70b8e58567ad48c",
            "_model_module": "@jupyter-widgets/output"
          }
        },
        "4c005c7e46c0455eb8ffe56621495f4d": {
          "model_module": "@jupyter-widgets/controls",
          "model_name": "DescriptionStyleModel",
          "state": {
            "_view_name": "StyleView",
            "_model_name": "DescriptionStyleModel",
            "description_width": "",
            "_view_module": "@jupyter-widgets/base",
            "_model_module_version": "1.5.0",
            "_view_count": null,
            "_view_module_version": "1.2.0",
            "_model_module": "@jupyter-widgets/controls"
          }
        },
        "a23e5f181bdc4307a923f21393d283eb": {
          "model_module": "@jupyter-widgets/base",
          "model_name": "LayoutModel",
          "state": {
            "_view_name": "LayoutView",
            "grid_template_rows": null,
            "right": null,
            "justify_content": null,
            "_view_module": "@jupyter-widgets/base",
            "overflow": null,
            "_model_module_version": "1.2.0",
            "_view_count": null,
            "flex_flow": null,
            "width": null,
            "min_width": null,
            "border": null,
            "align_items": null,
            "bottom": null,
            "_model_module": "@jupyter-widgets/base",
            "top": null,
            "grid_column": null,
            "overflow_y": null,
            "overflow_x": null,
            "grid_auto_flow": null,
            "grid_area": null,
            "grid_template_columns": null,
            "flex": null,
            "_model_name": "LayoutModel",
            "justify_items": null,
            "grid_row": null,
            "max_height": null,
            "align_content": null,
            "visibility": null,
            "align_self": null,
            "height": null,
            "min_height": null,
            "padding": null,
            "grid_auto_rows": null,
            "grid_gap": null,
            "max_width": null,
            "order": null,
            "_view_module_version": "1.2.0",
            "grid_template_areas": null,
            "object_position": null,
            "object_fit": null,
            "grid_auto_columns": null,
            "margin": null,
            "display": null,
            "left": null
          }
        },
        "1ac7e0b6086344b58901d60f8af41968": {
          "model_module": "@jupyter-widgets/controls",
          "model_name": "DescriptionStyleModel",
          "state": {
            "_view_name": "StyleView",
            "_model_name": "DescriptionStyleModel",
            "description_width": "",
            "_view_module": "@jupyter-widgets/base",
            "_model_module_version": "1.5.0",
            "_view_count": null,
            "_view_module_version": "1.2.0",
            "_model_module": "@jupyter-widgets/controls"
          }
        },
        "0ccef66e16b44bdbb728d5aa8b5dfc71": {
          "model_module": "@jupyter-widgets/base",
          "model_name": "LayoutModel",
          "state": {
            "_view_name": "LayoutView",
            "grid_template_rows": null,
            "right": null,
            "justify_content": null,
            "_view_module": "@jupyter-widgets/base",
            "overflow": null,
            "_model_module_version": "1.2.0",
            "_view_count": null,
            "flex_flow": null,
            "width": null,
            "min_width": null,
            "border": null,
            "align_items": null,
            "bottom": null,
            "_model_module": "@jupyter-widgets/base",
            "top": null,
            "grid_column": null,
            "overflow_y": null,
            "overflow_x": null,
            "grid_auto_flow": null,
            "grid_area": null,
            "grid_template_columns": null,
            "flex": null,
            "_model_name": "LayoutModel",
            "justify_items": null,
            "grid_row": null,
            "max_height": null,
            "align_content": null,
            "visibility": null,
            "align_self": null,
            "height": null,
            "min_height": null,
            "padding": null,
            "grid_auto_rows": null,
            "grid_gap": null,
            "max_width": null,
            "order": null,
            "_view_module_version": "1.2.0",
            "grid_template_areas": null,
            "object_position": null,
            "object_fit": null,
            "grid_auto_columns": null,
            "margin": null,
            "display": null,
            "left": null
          }
        },
        "8f10537f0ebe4337a70b8e58567ad48c": {
          "model_module": "@jupyter-widgets/base",
          "model_name": "LayoutModel",
          "state": {
            "_view_name": "LayoutView",
            "grid_template_rows": null,
            "right": null,
            "justify_content": null,
            "_view_module": "@jupyter-widgets/base",
            "overflow": null,
            "_model_module_version": "1.2.0",
            "_view_count": null,
            "flex_flow": null,
            "width": null,
            "min_width": null,
            "border": null,
            "align_items": null,
            "bottom": null,
            "_model_module": "@jupyter-widgets/base",
            "top": null,
            "grid_column": null,
            "overflow_y": null,
            "overflow_x": null,
            "grid_auto_flow": null,
            "grid_area": null,
            "grid_template_columns": null,
            "flex": null,
            "_model_name": "LayoutModel",
            "justify_items": null,
            "grid_row": null,
            "max_height": null,
            "align_content": null,
            "visibility": null,
            "align_self": null,
            "height": null,
            "min_height": null,
            "padding": null,
            "grid_auto_rows": null,
            "grid_gap": null,
            "max_width": null,
            "order": null,
            "_view_module_version": "1.2.0",
            "grid_template_areas": null,
            "object_position": null,
            "object_fit": null,
            "grid_auto_columns": null,
            "margin": null,
            "display": null,
            "left": null
          }
        }
      }
    }
  },
  "cells": [
    {
      "cell_type": "markdown",
      "metadata": {
        "id": "view-in-github",
        "colab_type": "text"
      },
      "source": [
        "<a href=\"https://colab.research.google.com/github/gabrielborja/python_data_analysis/blob/main/bysykkel_analysis.ipynb\" target=\"_parent\"><img src=\"https://colab.research.google.com/assets/colab-badge.svg\" alt=\"Open In Colab\"/></a>"
      ]
    },
    {
      "cell_type": "markdown",
      "metadata": {
        "id": "eTZwpRZNRhGY"
      },
      "source": [
        "# Bysykkel Oslo"
      ]
    },
    {
      "cell_type": "markdown",
      "metadata": {
        "id": "sgzkv1LwjLIL"
      },
      "source": [
        "## Uploading packages and data"
      ]
    },
    {
      "cell_type": "code",
      "metadata": {
        "id": "QTRtRZcb-IyF"
      },
      "source": [
        "#Importing necessary packages\n",
        "import numpy as np\n",
        "import pandas as pd\n",
        "import random\n",
        "import matplotlib.pyplot as plt\n",
        "import seaborn as sns"
      ],
      "execution_count": 1,
      "outputs": []
    },
    {
      "cell_type": "code",
      "metadata": {
        "id": "1Z4jxJjRRPLB",
        "colab": {
          "base_uri": "https://localhost:8080/"
        },
        "outputId": "7bd51cc3-5354-4901-c7e4-2c125e5bf94a"
      },
      "source": [
        "#Remove previous versions of the uploaded excel file\n",
        "!rm 2021_05_bysykkel.csv"
      ],
      "execution_count": null,
      "outputs": [
        {
          "output_type": "stream",
          "text": [
            "rm: cannot remove '2021_05_bysykkel.csv': No such file or directory\n"
          ],
          "name": "stdout"
        }
      ]
    },
    {
      "cell_type": "code",
      "metadata": {
        "colab": {
          "resources": {
            "http://localhost:8080/nbextensions/google.colab/files.js": {
              "data": "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",
              "ok": true,
              "headers": [
                [
                  "content-type",
                  "application/javascript"
                ]
              ],
              "status": 200,
              "status_text": ""
            }
          },
          "base_uri": "https://localhost:8080/",
          "height": 73
        },
        "id": "oen97ED1-rh-",
        "outputId": "10190d52-b826-469e-b1f4-31eaa55a8031"
      },
      "source": [
        "#Uploading file from local drive\n",
        "from google.colab import files\n",
        "uploaded = files.upload()"
      ],
      "execution_count": null,
      "outputs": [
        {
          "output_type": "display_data",
          "data": {
            "text/html": [
              "\n",
              "     <input type=\"file\" id=\"files-65f43c29-44d8-4200-bd7f-fbf467dd4b20\" name=\"files[]\" multiple disabled\n",
              "        style=\"border:none\" />\n",
              "     <output id=\"result-65f43c29-44d8-4200-bd7f-fbf467dd4b20\">\n",
              "      Upload widget is only available when the cell has been executed in the\n",
              "      current browser session. Please rerun this cell to enable.\n",
              "      </output>\n",
              "      <script src=\"/nbextensions/google.colab/files.js\"></script> "
            ],
            "text/plain": [
              "<IPython.core.display.HTML object>"
            ]
          },
          "metadata": {
            "tags": []
          }
        },
        {
          "output_type": "stream",
          "text": [
            "Saving 2021_05_bysykkel.csv to 2021_05_bysykkel.csv\n"
          ],
          "name": "stdout"
        }
      ]
    },
    {
      "cell_type": "code",
      "metadata": {
        "id": "03VoNwL0-3O6"
      },
      "source": [
        "#Storing dataset in a Pandas Dataframe\n",
        "import io\n",
        "by_df = pd.read_csv(io.BytesIO(uploaded['2021_05_bysykkel.csv']), parse_dates=True, infer_datetime_format=True)"
      ],
      "execution_count": null,
      "outputs": []
    },
    {
      "cell_type": "code",
      "metadata": {
        "id": "6wPknHC-JSRB",
        "colab": {
          "base_uri": "https://localhost:8080/"
        },
        "outputId": "fc394384-743d-43c2-dd1a-f892cd7d6892"
      },
      "source": [
        "#Checking the dataframe information\n",
        "by_df.info()"
      ],
      "execution_count": null,
      "outputs": [
        {
          "output_type": "stream",
          "text": [
            "<class 'pandas.core.frame.DataFrame'>\n",
            "RangeIndex: 144625 entries, 0 to 144624\n",
            "Data columns (total 13 columns):\n",
            " #   Column                     Non-Null Count   Dtype  \n",
            "---  ------                     --------------   -----  \n",
            " 0   started_at                 144625 non-null  object \n",
            " 1   ended_at                   144625 non-null  object \n",
            " 2   duration                   144625 non-null  int64  \n",
            " 3   start_station_id           144625 non-null  int64  \n",
            " 4   start_station_name         144625 non-null  object \n",
            " 5   start_station_description  144623 non-null  object \n",
            " 6   start_station_latitude     144625 non-null  float64\n",
            " 7   start_station_longitude    144625 non-null  float64\n",
            " 8   end_station_id             144625 non-null  int64  \n",
            " 9   end_station_name           144625 non-null  object \n",
            " 10  end_station_description    144623 non-null  object \n",
            " 11  end_station_latitude       144625 non-null  float64\n",
            " 12  end_station_longitude      144625 non-null  float64\n",
            "dtypes: float64(4), int64(3), object(6)\n",
            "memory usage: 14.3+ MB\n"
          ],
          "name": "stdout"
        }
      ]
    },
    {
      "cell_type": "markdown",
      "metadata": {
        "id": "nFhbxv-B6dN7"
      },
      "source": [
        "##Initial Data manipulation and aggregation\n",
        "\n"
      ]
    },
    {
      "cell_type": "code",
      "metadata": {
        "colab": {
          "base_uri": "https://localhost:8080/"
        },
        "id": "L-nwCWK84UZT",
        "outputId": "39dd797d-adad-484e-ce6b-3fbc55d1cee8"
      },
      "source": [
        "#Convert columns into datetime object and Oslo timezone\n",
        "by_df['started_at'] = pd.to_datetime(by_df['started_at'], format='%Y-%m-%d %H:%M:%S').dt.tz_convert('Europe/Oslo')\n",
        "by_df['ended_at'] = pd.to_datetime(by_df['ended_at'], format='%Y-%m-%d %H:%M:%S').dt.tz_convert('Europe/Oslo')\n",
        "by_df.info()"
      ],
      "execution_count": null,
      "outputs": [
        {
          "output_type": "stream",
          "text": [
            "<class 'pandas.core.frame.DataFrame'>\n",
            "RangeIndex: 144625 entries, 0 to 144624\n",
            "Data columns (total 13 columns):\n",
            " #   Column                     Non-Null Count   Dtype                      \n",
            "---  ------                     --------------   -----                      \n",
            " 0   started_at                 144625 non-null  datetime64[ns, Europe/Oslo]\n",
            " 1   ended_at                   144625 non-null  datetime64[ns, Europe/Oslo]\n",
            " 2   duration                   144625 non-null  int64                      \n",
            " 3   start_station_id           144625 non-null  int64                      \n",
            " 4   start_station_name         144625 non-null  object                     \n",
            " 5   start_station_description  144623 non-null  object                     \n",
            " 6   start_station_latitude     144625 non-null  float64                    \n",
            " 7   start_station_longitude    144625 non-null  float64                    \n",
            " 8   end_station_id             144625 non-null  int64                      \n",
            " 9   end_station_name           144625 non-null  object                     \n",
            " 10  end_station_description    144623 non-null  object                     \n",
            " 11  end_station_latitude       144625 non-null  float64                    \n",
            " 12  end_station_longitude      144625 non-null  float64                    \n",
            "dtypes: datetime64[ns, Europe/Oslo](2), float64(4), int64(3), object(4)\n",
            "memory usage: 14.3+ MB\n"
          ],
          "name": "stdout"
        }
      ]
    },
    {
      "cell_type": "code",
      "metadata": {
        "colab": {
          "base_uri": "https://localhost:8080/",
          "height": 160
        },
        "id": "aKX5w8Ws50XN",
        "outputId": "ad1c57b4-9c42-42b8-a4cc-abe8352834b9"
      },
      "source": [
        "#Checking the dataframe head\n",
        "by_df.head(2)"
      ],
      "execution_count": null,
      "outputs": [
        {
          "output_type": "execute_result",
          "data": {
            "text/html": [
              "<div>\n",
              "<style scoped>\n",
              "    .dataframe tbody tr th:only-of-type {\n",
              "        vertical-align: middle;\n",
              "    }\n",
              "\n",
              "    .dataframe tbody tr th {\n",
              "        vertical-align: top;\n",
              "    }\n",
              "\n",
              "    .dataframe thead th {\n",
              "        text-align: right;\n",
              "    }\n",
              "</style>\n",
              "<table border=\"1\" class=\"dataframe\">\n",
              "  <thead>\n",
              "    <tr style=\"text-align: right;\">\n",
              "      <th></th>\n",
              "      <th>started_at</th>\n",
              "      <th>ended_at</th>\n",
              "      <th>duration</th>\n",
              "      <th>start_station_id</th>\n",
              "      <th>start_station_name</th>\n",
              "      <th>start_station_description</th>\n",
              "      <th>start_station_latitude</th>\n",
              "      <th>start_station_longitude</th>\n",
              "      <th>end_station_id</th>\n",
              "      <th>end_station_name</th>\n",
              "      <th>end_station_description</th>\n",
              "      <th>end_station_latitude</th>\n",
              "      <th>end_station_longitude</th>\n",
              "    </tr>\n",
              "  </thead>\n",
              "  <tbody>\n",
              "    <tr>\n",
              "      <th>0</th>\n",
              "      <td>2021-05-01 05:02:08.105000+02:00</td>\n",
              "      <td>2021-05-01 05:07:05.124000+02:00</td>\n",
              "      <td>297</td>\n",
              "      <td>565</td>\n",
              "      <td>Mailundveien</td>\n",
              "      <td>sør for Torshovdalen</td>\n",
              "      <td>59.930918</td>\n",
              "      <td>10.77282</td>\n",
              "      <td>493</td>\n",
              "      <td>Sofienbergparken nordvest</td>\n",
              "      <td>langs Helgesens Gate</td>\n",
              "      <td>59.924364</td>\n",
              "      <td>10.761586</td>\n",
              "    </tr>\n",
              "    <tr>\n",
              "      <th>1</th>\n",
              "      <td>2021-05-01 05:06:49.811000+02:00</td>\n",
              "      <td>2021-05-01 05:17:37.118000+02:00</td>\n",
              "      <td>647</td>\n",
              "      <td>459</td>\n",
              "      <td>Valkyrieplassen</td>\n",
              "      <td>ved Bogstadveien</td>\n",
              "      <td>59.928132</td>\n",
              "      <td>10.71842</td>\n",
              "      <td>499</td>\n",
              "      <td>Bjerregaards gate</td>\n",
              "      <td>ovenfor Fredrikke Qvams gate</td>\n",
              "      <td>59.925488</td>\n",
              "      <td>10.746058</td>\n",
              "    </tr>\n",
              "  </tbody>\n",
              "</table>\n",
              "</div>"
            ],
            "text/plain": [
              "                        started_at  ... end_station_longitude\n",
              "0 2021-05-01 05:02:08.105000+02:00  ...             10.761586\n",
              "1 2021-05-01 05:06:49.811000+02:00  ...             10.746058\n",
              "\n",
              "[2 rows x 13 columns]"
            ]
          },
          "metadata": {
            "tags": []
          },
          "execution_count": 7
        }
      ]
    },
    {
      "cell_type": "code",
      "metadata": {
        "id": "4r7R8-oA6XBs"
      },
      "source": [
        "#Creating 2 dataframes, one with starting trips and one with end trips\n",
        "st_df = by_df[['started_at', 'start_station_id', 'start_station_name', 'start_station_latitude', 'start_station_longitude', 'duration']]\n",
        "en_df = by_df[['ended_at', 'end_station_id', 'end_station_name', 'end_station_latitude', 'end_station_longitude', 'duration']]"
      ],
      "execution_count": null,
      "outputs": []
    },
    {
      "cell_type": "code",
      "metadata": {
        "id": "egIQBPjdPitO"
      },
      "source": [
        "#Creating a function to extract categories from datetime object\n",
        "def convert_dates(df):\n",
        "  \"\"\"Extract year, month, week number, day, hour and minutes from datetime column\"\"\"\n",
        "  df = df.assign(year = df.iloc[:,0].dt.year,\n",
        "                 month = df.iloc[:,0].dt.month_name(),\n",
        "                 weeknum = df.iloc[:,0].dt.isocalendar().week,\n",
        "                 day = df.iloc[:,0].dt.day_name(),\n",
        "                 hour = df.iloc[:,0].dt.hour,\n",
        "                 minute = df.iloc[:,0].dt.minute\n",
        "                 )\n",
        "  return df"
      ],
      "execution_count": null,
      "outputs": []
    },
    {
      "cell_type": "code",
      "metadata": {
        "colab": {
          "base_uri": "https://localhost:8080/",
          "height": 106
        },
        "id": "aTuzDaWRS02L",
        "outputId": "81b5baf6-5275-4da7-cd04-1a13c7c55add"
      },
      "source": [
        "#Converting dates for starting journeys dataframe\n",
        "st_df = convert_dates(st_df)\n",
        "st_df.head(2)"
      ],
      "execution_count": null,
      "outputs": [
        {
          "output_type": "execute_result",
          "data": {
            "text/html": [
              "<div>\n",
              "<style scoped>\n",
              "    .dataframe tbody tr th:only-of-type {\n",
              "        vertical-align: middle;\n",
              "    }\n",
              "\n",
              "    .dataframe tbody tr th {\n",
              "        vertical-align: top;\n",
              "    }\n",
              "\n",
              "    .dataframe thead th {\n",
              "        text-align: right;\n",
              "    }\n",
              "</style>\n",
              "<table border=\"1\" class=\"dataframe\">\n",
              "  <thead>\n",
              "    <tr style=\"text-align: right;\">\n",
              "      <th></th>\n",
              "      <th>started_at</th>\n",
              "      <th>start_station_id</th>\n",
              "      <th>start_station_name</th>\n",
              "      <th>start_station_latitude</th>\n",
              "      <th>start_station_longitude</th>\n",
              "      <th>duration</th>\n",
              "      <th>year</th>\n",
              "      <th>month</th>\n",
              "      <th>weeknum</th>\n",
              "      <th>day</th>\n",
              "      <th>hour</th>\n",
              "      <th>minute</th>\n",
              "    </tr>\n",
              "  </thead>\n",
              "  <tbody>\n",
              "    <tr>\n",
              "      <th>0</th>\n",
              "      <td>2021-05-01 05:02:08.105000+02:00</td>\n",
              "      <td>565</td>\n",
              "      <td>Mailundveien</td>\n",
              "      <td>59.930918</td>\n",
              "      <td>10.77282</td>\n",
              "      <td>297</td>\n",
              "      <td>2021</td>\n",
              "      <td>May</td>\n",
              "      <td>17</td>\n",
              "      <td>Saturday</td>\n",
              "      <td>5</td>\n",
              "      <td>2</td>\n",
              "    </tr>\n",
              "    <tr>\n",
              "      <th>1</th>\n",
              "      <td>2021-05-01 05:06:49.811000+02:00</td>\n",
              "      <td>459</td>\n",
              "      <td>Valkyrieplassen</td>\n",
              "      <td>59.928132</td>\n",
              "      <td>10.71842</td>\n",
              "      <td>647</td>\n",
              "      <td>2021</td>\n",
              "      <td>May</td>\n",
              "      <td>17</td>\n",
              "      <td>Saturday</td>\n",
              "      <td>5</td>\n",
              "      <td>6</td>\n",
              "    </tr>\n",
              "  </tbody>\n",
              "</table>\n",
              "</div>"
            ],
            "text/plain": [
              "                        started_at  start_station_id  ... hour  minute\n",
              "0 2021-05-01 05:02:08.105000+02:00               565  ...    5       2\n",
              "1 2021-05-01 05:06:49.811000+02:00               459  ...    5       6\n",
              "\n",
              "[2 rows x 12 columns]"
            ]
          },
          "metadata": {
            "tags": []
          },
          "execution_count": 10
        }
      ]
    },
    {
      "cell_type": "code",
      "metadata": {
        "colab": {
          "base_uri": "https://localhost:8080/",
          "height": 106
        },
        "id": "TjdQdzNIUkUJ",
        "outputId": "361d7fc4-7c02-4fbd-bb12-f32e3074f66a"
      },
      "source": [
        "#Converting dates for end journeys dataframe\n",
        "en_df = convert_dates(en_df)\n",
        "en_df.head(2)"
      ],
      "execution_count": null,
      "outputs": [
        {
          "output_type": "execute_result",
          "data": {
            "text/html": [
              "<div>\n",
              "<style scoped>\n",
              "    .dataframe tbody tr th:only-of-type {\n",
              "        vertical-align: middle;\n",
              "    }\n",
              "\n",
              "    .dataframe tbody tr th {\n",
              "        vertical-align: top;\n",
              "    }\n",
              "\n",
              "    .dataframe thead th {\n",
              "        text-align: right;\n",
              "    }\n",
              "</style>\n",
              "<table border=\"1\" class=\"dataframe\">\n",
              "  <thead>\n",
              "    <tr style=\"text-align: right;\">\n",
              "      <th></th>\n",
              "      <th>ended_at</th>\n",
              "      <th>end_station_id</th>\n",
              "      <th>end_station_name</th>\n",
              "      <th>end_station_latitude</th>\n",
              "      <th>end_station_longitude</th>\n",
              "      <th>duration</th>\n",
              "      <th>year</th>\n",
              "      <th>month</th>\n",
              "      <th>weeknum</th>\n",
              "      <th>day</th>\n",
              "      <th>hour</th>\n",
              "      <th>minute</th>\n",
              "    </tr>\n",
              "  </thead>\n",
              "  <tbody>\n",
              "    <tr>\n",
              "      <th>0</th>\n",
              "      <td>2021-05-01 05:07:05.124000+02:00</td>\n",
              "      <td>493</td>\n",
              "      <td>Sofienbergparken nordvest</td>\n",
              "      <td>59.924364</td>\n",
              "      <td>10.761586</td>\n",
              "      <td>297</td>\n",
              "      <td>2021</td>\n",
              "      <td>May</td>\n",
              "      <td>17</td>\n",
              "      <td>Saturday</td>\n",
              "      <td>5</td>\n",
              "      <td>7</td>\n",
              "    </tr>\n",
              "    <tr>\n",
              "      <th>1</th>\n",
              "      <td>2021-05-01 05:17:37.118000+02:00</td>\n",
              "      <td>499</td>\n",
              "      <td>Bjerregaards gate</td>\n",
              "      <td>59.925488</td>\n",
              "      <td>10.746058</td>\n",
              "      <td>647</td>\n",
              "      <td>2021</td>\n",
              "      <td>May</td>\n",
              "      <td>17</td>\n",
              "      <td>Saturday</td>\n",
              "      <td>5</td>\n",
              "      <td>17</td>\n",
              "    </tr>\n",
              "  </tbody>\n",
              "</table>\n",
              "</div>"
            ],
            "text/plain": [
              "                          ended_at  end_station_id  ... hour  minute\n",
              "0 2021-05-01 05:07:05.124000+02:00             493  ...    5       7\n",
              "1 2021-05-01 05:17:37.118000+02:00             499  ...    5      17\n",
              "\n",
              "[2 rows x 12 columns]"
            ]
          },
          "metadata": {
            "tags": []
          },
          "execution_count": 11
        }
      ]
    },
    {
      "cell_type": "code",
      "metadata": {
        "colab": {
          "base_uri": "https://localhost:8080/",
          "height": 343
        },
        "id": "CCuqDk_Jijmj",
        "outputId": "5e6b81e3-9156-46ed-b35e-18e92879391e"
      },
      "source": [
        "#Computing Top start_location stations\n",
        "st_loc = st_df.groupby(['year', 'month', 'start_station_name', 'start_station_latitude', 'start_station_longitude']).agg({'start_station_id': 'count',\n",
        "                                                                                                         'duration': 'mean'}).reset_index()\n",
        "st_loc = st_loc.assign(duration = round(st_loc['duration']/60, 2))\n",
        "st_loc = st_loc.rename(columns={'start_station_id': 'trips', 'duration': 'mean_min'}).sort_values(by='trips', ascending=False).reset_index(drop=True)\n",
        "st_loc = st_loc.rename(columns={'start_station_name':'name', 'start_station_latitude':'lat', 'start_station_longitude':'lon'})\n",
        "st_loc.head(10)"
      ],
      "execution_count": null,
      "outputs": [
        {
          "output_type": "execute_result",
          "data": {
            "text/html": [
              "<div>\n",
              "<style scoped>\n",
              "    .dataframe tbody tr th:only-of-type {\n",
              "        vertical-align: middle;\n",
              "    }\n",
              "\n",
              "    .dataframe tbody tr th {\n",
              "        vertical-align: top;\n",
              "    }\n",
              "\n",
              "    .dataframe thead th {\n",
              "        text-align: right;\n",
              "    }\n",
              "</style>\n",
              "<table border=\"1\" class=\"dataframe\">\n",
              "  <thead>\n",
              "    <tr style=\"text-align: right;\">\n",
              "      <th></th>\n",
              "      <th>year</th>\n",
              "      <th>month</th>\n",
              "      <th>name</th>\n",
              "      <th>lat</th>\n",
              "      <th>lon</th>\n",
              "      <th>trips</th>\n",
              "      <th>mean_min</th>\n",
              "    </tr>\n",
              "  </thead>\n",
              "  <tbody>\n",
              "    <tr>\n",
              "      <th>0</th>\n",
              "      <td>2021</td>\n",
              "      <td>May</td>\n",
              "      <td>Alexander Kiellands Plass</td>\n",
              "      <td>59.928067</td>\n",
              "      <td>10.751203</td>\n",
              "      <td>2137</td>\n",
              "      <td>11.62</td>\n",
              "    </tr>\n",
              "    <tr>\n",
              "      <th>1</th>\n",
              "      <td>2021</td>\n",
              "      <td>May</td>\n",
              "      <td>Ringnes Park</td>\n",
              "      <td>59.928434</td>\n",
              "      <td>10.759430</td>\n",
              "      <td>1900</td>\n",
              "      <td>10.93</td>\n",
              "    </tr>\n",
              "    <tr>\n",
              "      <th>2</th>\n",
              "      <td>2021</td>\n",
              "      <td>May</td>\n",
              "      <td>Olaf Ryes plass</td>\n",
              "      <td>59.922425</td>\n",
              "      <td>10.758182</td>\n",
              "      <td>1661</td>\n",
              "      <td>12.92</td>\n",
              "    </tr>\n",
              "    <tr>\n",
              "      <th>3</th>\n",
              "      <td>2021</td>\n",
              "      <td>May</td>\n",
              "      <td>Bislettgata</td>\n",
              "      <td>59.923774</td>\n",
              "      <td>10.734713</td>\n",
              "      <td>1533</td>\n",
              "      <td>11.77</td>\n",
              "    </tr>\n",
              "    <tr>\n",
              "      <th>4</th>\n",
              "      <td>2021</td>\n",
              "      <td>May</td>\n",
              "      <td>Rådhusbrygge 4</td>\n",
              "      <td>59.910847</td>\n",
              "      <td>10.730377</td>\n",
              "      <td>1515</td>\n",
              "      <td>17.29</td>\n",
              "    </tr>\n",
              "    <tr>\n",
              "      <th>5</th>\n",
              "      <td>2021</td>\n",
              "      <td>May</td>\n",
              "      <td>Storo Storsenter</td>\n",
              "      <td>59.946710</td>\n",
              "      <td>10.773805</td>\n",
              "      <td>1492</td>\n",
              "      <td>14.70</td>\n",
              "    </tr>\n",
              "    <tr>\n",
              "      <th>6</th>\n",
              "      <td>2021</td>\n",
              "      <td>May</td>\n",
              "      <td>Sukkerbiten</td>\n",
              "      <td>59.905124</td>\n",
              "      <td>10.753764</td>\n",
              "      <td>1442</td>\n",
              "      <td>18.30</td>\n",
              "    </tr>\n",
              "    <tr>\n",
              "      <th>7</th>\n",
              "      <td>2021</td>\n",
              "      <td>May</td>\n",
              "      <td>Majorstuen</td>\n",
              "      <td>59.929045</td>\n",
              "      <td>10.716926</td>\n",
              "      <td>1400</td>\n",
              "      <td>12.83</td>\n",
              "    </tr>\n",
              "    <tr>\n",
              "      <th>8</th>\n",
              "      <td>2021</td>\n",
              "      <td>May</td>\n",
              "      <td>Bislett Stadion</td>\n",
              "      <td>59.925471</td>\n",
              "      <td>10.731219</td>\n",
              "      <td>1360</td>\n",
              "      <td>11.98</td>\n",
              "    </tr>\n",
              "    <tr>\n",
              "      <th>9</th>\n",
              "      <td>2021</td>\n",
              "      <td>May</td>\n",
              "      <td>Marcus Thranes gate</td>\n",
              "      <td>59.932772</td>\n",
              "      <td>10.758595</td>\n",
              "      <td>1352</td>\n",
              "      <td>11.62</td>\n",
              "    </tr>\n",
              "  </tbody>\n",
              "</table>\n",
              "</div>"
            ],
            "text/plain": [
              "   year month                       name        lat        lon  trips  mean_min\n",
              "0  2021   May  Alexander Kiellands Plass  59.928067  10.751203   2137     11.62\n",
              "1  2021   May               Ringnes Park  59.928434  10.759430   1900     10.93\n",
              "2  2021   May            Olaf Ryes plass  59.922425  10.758182   1661     12.92\n",
              "3  2021   May                Bislettgata  59.923774  10.734713   1533     11.77\n",
              "4  2021   May             Rådhusbrygge 4  59.910847  10.730377   1515     17.29\n",
              "5  2021   May           Storo Storsenter  59.946710  10.773805   1492     14.70\n",
              "6  2021   May                Sukkerbiten  59.905124  10.753764   1442     18.30\n",
              "7  2021   May                 Majorstuen  59.929045  10.716926   1400     12.83\n",
              "8  2021   May            Bislett Stadion  59.925471  10.731219   1360     11.98\n",
              "9  2021   May        Marcus Thranes gate  59.932772  10.758595   1352     11.62"
            ]
          },
          "metadata": {
            "tags": []
          },
          "execution_count": 12
        }
      ]
    },
    {
      "cell_type": "code",
      "metadata": {
        "colab": {
          "base_uri": "https://localhost:8080/",
          "height": 728
        },
        "id": "0QQ5u97Sf3Kb",
        "outputId": "ed92d311-b7c3-47f9-bcb0-634c0f17a528"
      },
      "source": [
        "#Computing top hours by month\n",
        "st_hr = st_df.groupby(['year', 'month', 'hour']).agg({'start_station_id': 'count'}).reset_index()\n",
        "st_hr = st_hr.rename(columns={'start_station_id': 'count'}).sort_values(by='hour').reset_index(drop=True)\n",
        "st_hr"
      ],
      "execution_count": null,
      "outputs": [
        {
          "output_type": "execute_result",
          "data": {
            "text/html": [
              "<div>\n",
              "<style scoped>\n",
              "    .dataframe tbody tr th:only-of-type {\n",
              "        vertical-align: middle;\n",
              "    }\n",
              "\n",
              "    .dataframe tbody tr th {\n",
              "        vertical-align: top;\n",
              "    }\n",
              "\n",
              "    .dataframe thead th {\n",
              "        text-align: right;\n",
              "    }\n",
              "</style>\n",
              "<table border=\"1\" class=\"dataframe\">\n",
              "  <thead>\n",
              "    <tr style=\"text-align: right;\">\n",
              "      <th></th>\n",
              "      <th>year</th>\n",
              "      <th>month</th>\n",
              "      <th>hour</th>\n",
              "      <th>count</th>\n",
              "    </tr>\n",
              "  </thead>\n",
              "  <tbody>\n",
              "    <tr>\n",
              "      <th>0</th>\n",
              "      <td>2021</td>\n",
              "      <td>June</td>\n",
              "      <td>0</td>\n",
              "      <td>40</td>\n",
              "    </tr>\n",
              "    <tr>\n",
              "      <th>1</th>\n",
              "      <td>2021</td>\n",
              "      <td>May</td>\n",
              "      <td>0</td>\n",
              "      <td>1628</td>\n",
              "    </tr>\n",
              "    <tr>\n",
              "      <th>2</th>\n",
              "      <td>2021</td>\n",
              "      <td>May</td>\n",
              "      <td>1</td>\n",
              "      <td>2</td>\n",
              "    </tr>\n",
              "    <tr>\n",
              "      <th>3</th>\n",
              "      <td>2021</td>\n",
              "      <td>May</td>\n",
              "      <td>3</td>\n",
              "      <td>1</td>\n",
              "    </tr>\n",
              "    <tr>\n",
              "      <th>4</th>\n",
              "      <td>2021</td>\n",
              "      <td>May</td>\n",
              "      <td>5</td>\n",
              "      <td>453</td>\n",
              "    </tr>\n",
              "    <tr>\n",
              "      <th>5</th>\n",
              "      <td>2021</td>\n",
              "      <td>May</td>\n",
              "      <td>6</td>\n",
              "      <td>1894</td>\n",
              "    </tr>\n",
              "    <tr>\n",
              "      <th>6</th>\n",
              "      <td>2021</td>\n",
              "      <td>May</td>\n",
              "      <td>7</td>\n",
              "      <td>6330</td>\n",
              "    </tr>\n",
              "    <tr>\n",
              "      <th>7</th>\n",
              "      <td>2021</td>\n",
              "      <td>May</td>\n",
              "      <td>8</td>\n",
              "      <td>8820</td>\n",
              "    </tr>\n",
              "    <tr>\n",
              "      <th>8</th>\n",
              "      <td>2021</td>\n",
              "      <td>May</td>\n",
              "      <td>9</td>\n",
              "      <td>6172</td>\n",
              "    </tr>\n",
              "    <tr>\n",
              "      <th>9</th>\n",
              "      <td>2021</td>\n",
              "      <td>May</td>\n",
              "      <td>10</td>\n",
              "      <td>5625</td>\n",
              "    </tr>\n",
              "    <tr>\n",
              "      <th>10</th>\n",
              "      <td>2021</td>\n",
              "      <td>May</td>\n",
              "      <td>11</td>\n",
              "      <td>6881</td>\n",
              "    </tr>\n",
              "    <tr>\n",
              "      <th>11</th>\n",
              "      <td>2021</td>\n",
              "      <td>May</td>\n",
              "      <td>12</td>\n",
              "      <td>7810</td>\n",
              "    </tr>\n",
              "    <tr>\n",
              "      <th>12</th>\n",
              "      <td>2021</td>\n",
              "      <td>May</td>\n",
              "      <td>13</td>\n",
              "      <td>8534</td>\n",
              "    </tr>\n",
              "    <tr>\n",
              "      <th>13</th>\n",
              "      <td>2021</td>\n",
              "      <td>May</td>\n",
              "      <td>14</td>\n",
              "      <td>9745</td>\n",
              "    </tr>\n",
              "    <tr>\n",
              "      <th>14</th>\n",
              "      <td>2021</td>\n",
              "      <td>May</td>\n",
              "      <td>15</td>\n",
              "      <td>11813</td>\n",
              "    </tr>\n",
              "    <tr>\n",
              "      <th>15</th>\n",
              "      <td>2021</td>\n",
              "      <td>May</td>\n",
              "      <td>16</td>\n",
              "      <td>14149</td>\n",
              "    </tr>\n",
              "    <tr>\n",
              "      <th>16</th>\n",
              "      <td>2021</td>\n",
              "      <td>May</td>\n",
              "      <td>17</td>\n",
              "      <td>13226</td>\n",
              "    </tr>\n",
              "    <tr>\n",
              "      <th>17</th>\n",
              "      <td>2021</td>\n",
              "      <td>May</td>\n",
              "      <td>18</td>\n",
              "      <td>11279</td>\n",
              "    </tr>\n",
              "    <tr>\n",
              "      <th>18</th>\n",
              "      <td>2021</td>\n",
              "      <td>May</td>\n",
              "      <td>19</td>\n",
              "      <td>9159</td>\n",
              "    </tr>\n",
              "    <tr>\n",
              "      <th>19</th>\n",
              "      <td>2021</td>\n",
              "      <td>May</td>\n",
              "      <td>20</td>\n",
              "      <td>7188</td>\n",
              "    </tr>\n",
              "    <tr>\n",
              "      <th>20</th>\n",
              "      <td>2021</td>\n",
              "      <td>May</td>\n",
              "      <td>21</td>\n",
              "      <td>5634</td>\n",
              "    </tr>\n",
              "    <tr>\n",
              "      <th>21</th>\n",
              "      <td>2021</td>\n",
              "      <td>May</td>\n",
              "      <td>22</td>\n",
              "      <td>5144</td>\n",
              "    </tr>\n",
              "    <tr>\n",
              "      <th>22</th>\n",
              "      <td>2021</td>\n",
              "      <td>May</td>\n",
              "      <td>23</td>\n",
              "      <td>3098</td>\n",
              "    </tr>\n",
              "  </tbody>\n",
              "</table>\n",
              "</div>"
            ],
            "text/plain": [
              "    year month  hour  count\n",
              "0   2021  June     0     40\n",
              "1   2021   May     0   1628\n",
              "2   2021   May     1      2\n",
              "3   2021   May     3      1\n",
              "4   2021   May     5    453\n",
              "5   2021   May     6   1894\n",
              "6   2021   May     7   6330\n",
              "7   2021   May     8   8820\n",
              "8   2021   May     9   6172\n",
              "9   2021   May    10   5625\n",
              "10  2021   May    11   6881\n",
              "11  2021   May    12   7810\n",
              "12  2021   May    13   8534\n",
              "13  2021   May    14   9745\n",
              "14  2021   May    15  11813\n",
              "15  2021   May    16  14149\n",
              "16  2021   May    17  13226\n",
              "17  2021   May    18  11279\n",
              "18  2021   May    19   9159\n",
              "19  2021   May    20   7188\n",
              "20  2021   May    21   5634\n",
              "21  2021   May    22   5144\n",
              "22  2021   May    23   3098"
            ]
          },
          "metadata": {
            "tags": []
          },
          "execution_count": 13
        }
      ]
    },
    {
      "cell_type": "code",
      "metadata": {
        "colab": {
          "base_uri": "https://localhost:8080/",
          "height": 343
        },
        "id": "DwAjTuTIk1o8",
        "outputId": "711e359d-c861-4bbf-a64b-d70978d39e9d"
      },
      "source": [
        "#Computing Top end_location stations\n",
        "en_loc = en_df.groupby(['year', 'month', 'end_station_name', 'end_station_latitude', 'end_station_longitude']).agg({'end_station_id': 'count',\n",
        "                                                                                                   'duration': 'mean'}).reset_index()\n",
        "en_loc = en_loc.assign(duration = round(en_loc['duration']/60, 2))\n",
        "en_loc = en_loc.rename(columns={'end_station_id': 'trips', 'duration': 'mean_min'}).sort_values(by='trips', ascending=False).reset_index(drop=True)\n",
        "en_loc = en_loc.rename(columns={'end_station_name':'name', 'end_station_latitude':'lat', 'end_station_longitude':'lon'})\n",
        "en_loc.head(10)"
      ],
      "execution_count": null,
      "outputs": [
        {
          "output_type": "execute_result",
          "data": {
            "text/html": [
              "<div>\n",
              "<style scoped>\n",
              "    .dataframe tbody tr th:only-of-type {\n",
              "        vertical-align: middle;\n",
              "    }\n",
              "\n",
              "    .dataframe tbody tr th {\n",
              "        vertical-align: top;\n",
              "    }\n",
              "\n",
              "    .dataframe thead th {\n",
              "        text-align: right;\n",
              "    }\n",
              "</style>\n",
              "<table border=\"1\" class=\"dataframe\">\n",
              "  <thead>\n",
              "    <tr style=\"text-align: right;\">\n",
              "      <th></th>\n",
              "      <th>year</th>\n",
              "      <th>month</th>\n",
              "      <th>name</th>\n",
              "      <th>lat</th>\n",
              "      <th>lon</th>\n",
              "      <th>trips</th>\n",
              "      <th>mean_min</th>\n",
              "    </tr>\n",
              "  </thead>\n",
              "  <tbody>\n",
              "    <tr>\n",
              "      <th>0</th>\n",
              "      <td>2021</td>\n",
              "      <td>May</td>\n",
              "      <td>Rådhusbrygge 4</td>\n",
              "      <td>59.910847</td>\n",
              "      <td>10.730377</td>\n",
              "      <td>2839</td>\n",
              "      <td>15.74</td>\n",
              "    </tr>\n",
              "    <tr>\n",
              "      <th>1</th>\n",
              "      <td>2021</td>\n",
              "      <td>May</td>\n",
              "      <td>Olaf Ryes plass</td>\n",
              "      <td>59.922425</td>\n",
              "      <td>10.758182</td>\n",
              "      <td>2186</td>\n",
              "      <td>12.01</td>\n",
              "    </tr>\n",
              "    <tr>\n",
              "      <th>2</th>\n",
              "      <td>2021</td>\n",
              "      <td>May</td>\n",
              "      <td>Alexander Kiellands Plass</td>\n",
              "      <td>59.928067</td>\n",
              "      <td>10.751203</td>\n",
              "      <td>2128</td>\n",
              "      <td>11.41</td>\n",
              "    </tr>\n",
              "    <tr>\n",
              "      <th>3</th>\n",
              "      <td>2021</td>\n",
              "      <td>May</td>\n",
              "      <td>Ringnes Park</td>\n",
              "      <td>59.928434</td>\n",
              "      <td>10.759430</td>\n",
              "      <td>1900</td>\n",
              "      <td>11.00</td>\n",
              "    </tr>\n",
              "    <tr>\n",
              "      <th>4</th>\n",
              "      <td>2021</td>\n",
              "      <td>May</td>\n",
              "      <td>Kirkeristen</td>\n",
              "      <td>59.913000</td>\n",
              "      <td>10.746761</td>\n",
              "      <td>1802</td>\n",
              "      <td>11.33</td>\n",
              "    </tr>\n",
              "    <tr>\n",
              "      <th>5</th>\n",
              "      <td>2021</td>\n",
              "      <td>May</td>\n",
              "      <td>Tjuvholmen</td>\n",
              "      <td>59.909467</td>\n",
              "      <td>10.722509</td>\n",
              "      <td>1712</td>\n",
              "      <td>14.58</td>\n",
              "    </tr>\n",
              "    <tr>\n",
              "      <th>6</th>\n",
              "      <td>2021</td>\n",
              "      <td>May</td>\n",
              "      <td>Sukkerbiten</td>\n",
              "      <td>59.905124</td>\n",
              "      <td>10.753764</td>\n",
              "      <td>1710</td>\n",
              "      <td>19.19</td>\n",
              "    </tr>\n",
              "    <tr>\n",
              "      <th>7</th>\n",
              "      <td>2021</td>\n",
              "      <td>May</td>\n",
              "      <td>Helga Helgesens plass</td>\n",
              "      <td>59.912111</td>\n",
              "      <td>10.766194</td>\n",
              "      <td>1628</td>\n",
              "      <td>12.82</td>\n",
              "    </tr>\n",
              "    <tr>\n",
              "      <th>8</th>\n",
              "      <td>2021</td>\n",
              "      <td>May</td>\n",
              "      <td>Torggata</td>\n",
              "      <td>59.915983</td>\n",
              "      <td>10.751551</td>\n",
              "      <td>1555</td>\n",
              "      <td>11.54</td>\n",
              "    </tr>\n",
              "    <tr>\n",
              "      <th>9</th>\n",
              "      <td>2021</td>\n",
              "      <td>May</td>\n",
              "      <td>Sjøsiden ved trappen</td>\n",
              "      <td>59.910154</td>\n",
              "      <td>10.751981</td>\n",
              "      <td>1514</td>\n",
              "      <td>14.68</td>\n",
              "    </tr>\n",
              "  </tbody>\n",
              "</table>\n",
              "</div>"
            ],
            "text/plain": [
              "   year month                       name        lat        lon  trips  mean_min\n",
              "0  2021   May             Rådhusbrygge 4  59.910847  10.730377   2839     15.74\n",
              "1  2021   May            Olaf Ryes plass  59.922425  10.758182   2186     12.01\n",
              "2  2021   May  Alexander Kiellands Plass  59.928067  10.751203   2128     11.41\n",
              "3  2021   May               Ringnes Park  59.928434  10.759430   1900     11.00\n",
              "4  2021   May                Kirkeristen  59.913000  10.746761   1802     11.33\n",
              "5  2021   May                 Tjuvholmen  59.909467  10.722509   1712     14.58\n",
              "6  2021   May                Sukkerbiten  59.905124  10.753764   1710     19.19\n",
              "7  2021   May      Helga Helgesens plass  59.912111  10.766194   1628     12.82\n",
              "8  2021   May                   Torggata  59.915983  10.751551   1555     11.54\n",
              "9  2021   May       Sjøsiden ved trappen  59.910154  10.751981   1514     14.68"
            ]
          },
          "metadata": {
            "tags": []
          },
          "execution_count": 14
        }
      ]
    },
    {
      "cell_type": "code",
      "metadata": {
        "colab": {
          "base_uri": "https://localhost:8080/",
          "height": 787
        },
        "id": "iLQ1iCA4jAb1",
        "outputId": "886f6957-bd56-4f20-d25b-bf0f71e71db6"
      },
      "source": [
        "#Computing top hours by month\n",
        "en_hr = en_df.groupby(['year', 'month', 'hour']).agg({'end_station_id': 'count'}).reset_index()\n",
        "en_hr = en_hr.rename(columns={'end_station_id': 'count'}).sort_values(by='hour').reset_index(drop=True)\n",
        "en_hr"
      ],
      "execution_count": null,
      "outputs": [
        {
          "output_type": "execute_result",
          "data": {
            "text/html": [
              "<div>\n",
              "<style scoped>\n",
              "    .dataframe tbody tr th:only-of-type {\n",
              "        vertical-align: middle;\n",
              "    }\n",
              "\n",
              "    .dataframe tbody tr th {\n",
              "        vertical-align: top;\n",
              "    }\n",
              "\n",
              "    .dataframe thead th {\n",
              "        text-align: right;\n",
              "    }\n",
              "</style>\n",
              "<table border=\"1\" class=\"dataframe\">\n",
              "  <thead>\n",
              "    <tr style=\"text-align: right;\">\n",
              "      <th></th>\n",
              "      <th>year</th>\n",
              "      <th>month</th>\n",
              "      <th>hour</th>\n",
              "      <th>count</th>\n",
              "    </tr>\n",
              "  </thead>\n",
              "  <tbody>\n",
              "    <tr>\n",
              "      <th>0</th>\n",
              "      <td>2021</td>\n",
              "      <td>June</td>\n",
              "      <td>0</td>\n",
              "      <td>51</td>\n",
              "    </tr>\n",
              "    <tr>\n",
              "      <th>1</th>\n",
              "      <td>2021</td>\n",
              "      <td>May</td>\n",
              "      <td>0</td>\n",
              "      <td>1803</td>\n",
              "    </tr>\n",
              "    <tr>\n",
              "      <th>2</th>\n",
              "      <td>2021</td>\n",
              "      <td>June</td>\n",
              "      <td>1</td>\n",
              "      <td>5</td>\n",
              "    </tr>\n",
              "    <tr>\n",
              "      <th>3</th>\n",
              "      <td>2021</td>\n",
              "      <td>May</td>\n",
              "      <td>1</td>\n",
              "      <td>336</td>\n",
              "    </tr>\n",
              "    <tr>\n",
              "      <th>4</th>\n",
              "      <td>2021</td>\n",
              "      <td>May</td>\n",
              "      <td>2</td>\n",
              "      <td>5</td>\n",
              "    </tr>\n",
              "    <tr>\n",
              "      <th>5</th>\n",
              "      <td>2021</td>\n",
              "      <td>May</td>\n",
              "      <td>3</td>\n",
              "      <td>4</td>\n",
              "    </tr>\n",
              "    <tr>\n",
              "      <th>6</th>\n",
              "      <td>2021</td>\n",
              "      <td>May</td>\n",
              "      <td>5</td>\n",
              "      <td>366</td>\n",
              "    </tr>\n",
              "    <tr>\n",
              "      <th>7</th>\n",
              "      <td>2021</td>\n",
              "      <td>May</td>\n",
              "      <td>6</td>\n",
              "      <td>1547</td>\n",
              "    </tr>\n",
              "    <tr>\n",
              "      <th>8</th>\n",
              "      <td>2021</td>\n",
              "      <td>May</td>\n",
              "      <td>7</td>\n",
              "      <td>5385</td>\n",
              "    </tr>\n",
              "    <tr>\n",
              "      <th>9</th>\n",
              "      <td>2021</td>\n",
              "      <td>May</td>\n",
              "      <td>8</td>\n",
              "      <td>8781</td>\n",
              "    </tr>\n",
              "    <tr>\n",
              "      <th>10</th>\n",
              "      <td>2021</td>\n",
              "      <td>May</td>\n",
              "      <td>9</td>\n",
              "      <td>6508</td>\n",
              "    </tr>\n",
              "    <tr>\n",
              "      <th>11</th>\n",
              "      <td>2021</td>\n",
              "      <td>May</td>\n",
              "      <td>10</td>\n",
              "      <td>5474</td>\n",
              "    </tr>\n",
              "    <tr>\n",
              "      <th>12</th>\n",
              "      <td>2021</td>\n",
              "      <td>May</td>\n",
              "      <td>11</td>\n",
              "      <td>6441</td>\n",
              "    </tr>\n",
              "    <tr>\n",
              "      <th>13</th>\n",
              "      <td>2021</td>\n",
              "      <td>May</td>\n",
              "      <td>12</td>\n",
              "      <td>7544</td>\n",
              "    </tr>\n",
              "    <tr>\n",
              "      <th>14</th>\n",
              "      <td>2021</td>\n",
              "      <td>May</td>\n",
              "      <td>13</td>\n",
              "      <td>8328</td>\n",
              "    </tr>\n",
              "    <tr>\n",
              "      <th>15</th>\n",
              "      <td>2021</td>\n",
              "      <td>May</td>\n",
              "      <td>14</td>\n",
              "      <td>9511</td>\n",
              "    </tr>\n",
              "    <tr>\n",
              "      <th>16</th>\n",
              "      <td>2021</td>\n",
              "      <td>May</td>\n",
              "      <td>15</td>\n",
              "      <td>11306</td>\n",
              "    </tr>\n",
              "    <tr>\n",
              "      <th>17</th>\n",
              "      <td>2021</td>\n",
              "      <td>May</td>\n",
              "      <td>16</td>\n",
              "      <td>13903</td>\n",
              "    </tr>\n",
              "    <tr>\n",
              "      <th>18</th>\n",
              "      <td>2021</td>\n",
              "      <td>May</td>\n",
              "      <td>17</td>\n",
              "      <td>13382</td>\n",
              "    </tr>\n",
              "    <tr>\n",
              "      <th>19</th>\n",
              "      <td>2021</td>\n",
              "      <td>May</td>\n",
              "      <td>18</td>\n",
              "      <td>11810</td>\n",
              "    </tr>\n",
              "    <tr>\n",
              "      <th>20</th>\n",
              "      <td>2021</td>\n",
              "      <td>May</td>\n",
              "      <td>19</td>\n",
              "      <td>9559</td>\n",
              "    </tr>\n",
              "    <tr>\n",
              "      <th>21</th>\n",
              "      <td>2021</td>\n",
              "      <td>May</td>\n",
              "      <td>20</td>\n",
              "      <td>7615</td>\n",
              "    </tr>\n",
              "    <tr>\n",
              "      <th>22</th>\n",
              "      <td>2021</td>\n",
              "      <td>May</td>\n",
              "      <td>21</td>\n",
              "      <td>5952</td>\n",
              "    </tr>\n",
              "    <tr>\n",
              "      <th>23</th>\n",
              "      <td>2021</td>\n",
              "      <td>May</td>\n",
              "      <td>22</td>\n",
              "      <td>5469</td>\n",
              "    </tr>\n",
              "    <tr>\n",
              "      <th>24</th>\n",
              "      <td>2021</td>\n",
              "      <td>May</td>\n",
              "      <td>23</td>\n",
              "      <td>3540</td>\n",
              "    </tr>\n",
              "  </tbody>\n",
              "</table>\n",
              "</div>"
            ],
            "text/plain": [
              "    year month  hour  count\n",
              "0   2021  June     0     51\n",
              "1   2021   May     0   1803\n",
              "2   2021  June     1      5\n",
              "3   2021   May     1    336\n",
              "4   2021   May     2      5\n",
              "5   2021   May     3      4\n",
              "6   2021   May     5    366\n",
              "7   2021   May     6   1547\n",
              "8   2021   May     7   5385\n",
              "9   2021   May     8   8781\n",
              "10  2021   May     9   6508\n",
              "11  2021   May    10   5474\n",
              "12  2021   May    11   6441\n",
              "13  2021   May    12   7544\n",
              "14  2021   May    13   8328\n",
              "15  2021   May    14   9511\n",
              "16  2021   May    15  11306\n",
              "17  2021   May    16  13903\n",
              "18  2021   May    17  13382\n",
              "19  2021   May    18  11810\n",
              "20  2021   May    19   9559\n",
              "21  2021   May    20   7615\n",
              "22  2021   May    21   5952\n",
              "23  2021   May    22   5469\n",
              "24  2021   May    23   3540"
            ]
          },
          "metadata": {
            "tags": []
          },
          "execution_count": 15
        }
      ]
    },
    {
      "cell_type": "code",
      "metadata": {
        "colab": {
          "base_uri": "https://localhost:8080/",
          "height": 17
        },
        "id": "GdT1R7f8dMty",
        "outputId": "7e757b27-989b-4b08-852e-581e10fb4a94"
      },
      "source": [
        "#Exporting to csv into local disk\n",
        "from google.colab import files\n",
        "st_loc.to_csv('2021_05_st_loc.csv', index=False, header=False)\n",
        "files.download('2021_05_st_loc.csv')"
      ],
      "execution_count": null,
      "outputs": [
        {
          "output_type": "display_data",
          "data": {
            "application/javascript": [
              "\n",
              "    async function download(id, filename, size) {\n",
              "      if (!google.colab.kernel.accessAllowed) {\n",
              "        return;\n",
              "      }\n",
              "      const div = document.createElement('div');\n",
              "      const label = document.createElement('label');\n",
              "      label.textContent = `Downloading \"${filename}\": `;\n",
              "      div.appendChild(label);\n",
              "      const progress = document.createElement('progress');\n",
              "      progress.max = size;\n",
              "      div.appendChild(progress);\n",
              "      document.body.appendChild(div);\n",
              "\n",
              "      const buffers = [];\n",
              "      let downloaded = 0;\n",
              "\n",
              "      const channel = await google.colab.kernel.comms.open(id);\n",
              "      // Send a message to notify the kernel that we're ready.\n",
              "      channel.send({})\n",
              "\n",
              "      for await (const message of channel.messages) {\n",
              "        // Send a message to notify the kernel that we're ready.\n",
              "        channel.send({})\n",
              "        if (message.buffers) {\n",
              "          for (const buffer of message.buffers) {\n",
              "            buffers.push(buffer);\n",
              "            downloaded += buffer.byteLength;\n",
              "            progress.value = downloaded;\n",
              "          }\n",
              "        }\n",
              "      }\n",
              "      const blob = new Blob(buffers, {type: 'application/binary'});\n",
              "      const a = document.createElement('a');\n",
              "      a.href = window.URL.createObjectURL(blob);\n",
              "      a.download = filename;\n",
              "      div.appendChild(a);\n",
              "      a.click();\n",
              "      div.remove();\n",
              "    }\n",
              "  "
            ],
            "text/plain": [
              "<IPython.core.display.Javascript object>"
            ]
          },
          "metadata": {
            "tags": []
          }
        },
        {
          "output_type": "display_data",
          "data": {
            "application/javascript": [
              "download(\"download_c8d41b66-1777-47c3-9e47-c47478f9f6fa\", \"2021_05_st_loc.csv\", 18610)"
            ],
            "text/plain": [
              "<IPython.core.display.Javascript object>"
            ]
          },
          "metadata": {
            "tags": []
          }
        }
      ]
    },
    {
      "cell_type": "code",
      "metadata": {
        "colab": {
          "base_uri": "https://localhost:8080/",
          "height": 17
        },
        "id": "Ojg-WjP7je1T",
        "outputId": "31992d62-674c-42ff-9183-fc73657073c7"
      },
      "source": [
        "#Exporting to csv into local disk\n",
        "from google.colab import files\n",
        "st_hr.to_csv('2021_05_st_hr.csv', index=False, header=False)\n",
        "files.download('2021_05_st_hr.csv')"
      ],
      "execution_count": null,
      "outputs": [
        {
          "output_type": "display_data",
          "data": {
            "application/javascript": [
              "\n",
              "    async function download(id, filename, size) {\n",
              "      if (!google.colab.kernel.accessAllowed) {\n",
              "        return;\n",
              "      }\n",
              "      const div = document.createElement('div');\n",
              "      const label = document.createElement('label');\n",
              "      label.textContent = `Downloading \"${filename}\": `;\n",
              "      div.appendChild(label);\n",
              "      const progress = document.createElement('progress');\n",
              "      progress.max = size;\n",
              "      div.appendChild(progress);\n",
              "      document.body.appendChild(div);\n",
              "\n",
              "      const buffers = [];\n",
              "      let downloaded = 0;\n",
              "\n",
              "      const channel = await google.colab.kernel.comms.open(id);\n",
              "      // Send a message to notify the kernel that we're ready.\n",
              "      channel.send({})\n",
              "\n",
              "      for await (const message of channel.messages) {\n",
              "        // Send a message to notify the kernel that we're ready.\n",
              "        channel.send({})\n",
              "        if (message.buffers) {\n",
              "          for (const buffer of message.buffers) {\n",
              "            buffers.push(buffer);\n",
              "            downloaded += buffer.byteLength;\n",
              "            progress.value = downloaded;\n",
              "          }\n",
              "        }\n",
              "      }\n",
              "      const blob = new Blob(buffers, {type: 'application/binary'});\n",
              "      const a = document.createElement('a');\n",
              "      a.href = window.URL.createObjectURL(blob);\n",
              "      a.download = filename;\n",
              "      div.appendChild(a);\n",
              "      a.click();\n",
              "      div.remove();\n",
              "    }\n",
              "  "
            ],
            "text/plain": [
              "<IPython.core.display.Javascript object>"
            ]
          },
          "metadata": {
            "tags": []
          }
        },
        {
          "output_type": "display_data",
          "data": {
            "application/javascript": [
              "download(\"download_e4e822ee-d71a-4866-aea6-755416370041\", \"2021_05_st_hr.csv\", 378)"
            ],
            "text/plain": [
              "<IPython.core.display.Javascript object>"
            ]
          },
          "metadata": {
            "tags": []
          }
        }
      ]
    },
    {
      "cell_type": "code",
      "metadata": {
        "colab": {
          "base_uri": "https://localhost:8080/",
          "height": 17
        },
        "id": "uCKJfsixeT7n",
        "outputId": "bc661bcf-982c-4925-845f-93fc8ac1bdf9"
      },
      "source": [
        "#Exporting to excel into local disk\n",
        "from google.colab import files\n",
        "en_loc.to_csv('2021_05_en_loc.csv', index=False, header=False)\n",
        "files.download('2021_05_en_loc.csv')"
      ],
      "execution_count": null,
      "outputs": [
        {
          "output_type": "display_data",
          "data": {
            "application/javascript": [
              "\n",
              "    async function download(id, filename, size) {\n",
              "      if (!google.colab.kernel.accessAllowed) {\n",
              "        return;\n",
              "      }\n",
              "      const div = document.createElement('div');\n",
              "      const label = document.createElement('label');\n",
              "      label.textContent = `Downloading \"${filename}\": `;\n",
              "      div.appendChild(label);\n",
              "      const progress = document.createElement('progress');\n",
              "      progress.max = size;\n",
              "      div.appendChild(progress);\n",
              "      document.body.appendChild(div);\n",
              "\n",
              "      const buffers = [];\n",
              "      let downloaded = 0;\n",
              "\n",
              "      const channel = await google.colab.kernel.comms.open(id);\n",
              "      // Send a message to notify the kernel that we're ready.\n",
              "      channel.send({})\n",
              "\n",
              "      for await (const message of channel.messages) {\n",
              "        // Send a message to notify the kernel that we're ready.\n",
              "        channel.send({})\n",
              "        if (message.buffers) {\n",
              "          for (const buffer of message.buffers) {\n",
              "            buffers.push(buffer);\n",
              "            downloaded += buffer.byteLength;\n",
              "            progress.value = downloaded;\n",
              "          }\n",
              "        }\n",
              "      }\n",
              "      const blob = new Blob(buffers, {type: 'application/binary'});\n",
              "      const a = document.createElement('a');\n",
              "      a.href = window.URL.createObjectURL(blob);\n",
              "      a.download = filename;\n",
              "      div.appendChild(a);\n",
              "      a.click();\n",
              "      div.remove();\n",
              "    }\n",
              "  "
            ],
            "text/plain": [
              "<IPython.core.display.Javascript object>"
            ]
          },
          "metadata": {
            "tags": []
          }
        },
        {
          "output_type": "display_data",
          "data": {
            "application/javascript": [
              "download(\"download_80775231-986a-4dbe-abaf-f313f028dc08\", \"2021_05_en_loc.csv\", 18697)"
            ],
            "text/plain": [
              "<IPython.core.display.Javascript object>"
            ]
          },
          "metadata": {
            "tags": []
          }
        }
      ]
    },
    {
      "cell_type": "code",
      "metadata": {
        "colab": {
          "base_uri": "https://localhost:8080/",
          "height": 17
        },
        "id": "3OgAbyA1juOI",
        "outputId": "2abcd90c-b532-42ba-cd8a-579910602396"
      },
      "source": [
        "#Exporting to csv into local disk\n",
        "from google.colab import files\n",
        "en_hr.to_csv('2021_05_en_hr.csv', index=False, header=False)\n",
        "files.download('2021_05_en_hr.csv')"
      ],
      "execution_count": null,
      "outputs": [
        {
          "output_type": "display_data",
          "data": {
            "application/javascript": [
              "\n",
              "    async function download(id, filename, size) {\n",
              "      if (!google.colab.kernel.accessAllowed) {\n",
              "        return;\n",
              "      }\n",
              "      const div = document.createElement('div');\n",
              "      const label = document.createElement('label');\n",
              "      label.textContent = `Downloading \"${filename}\": `;\n",
              "      div.appendChild(label);\n",
              "      const progress = document.createElement('progress');\n",
              "      progress.max = size;\n",
              "      div.appendChild(progress);\n",
              "      document.body.appendChild(div);\n",
              "\n",
              "      const buffers = [];\n",
              "      let downloaded = 0;\n",
              "\n",
              "      const channel = await google.colab.kernel.comms.open(id);\n",
              "      // Send a message to notify the kernel that we're ready.\n",
              "      channel.send({})\n",
              "\n",
              "      for await (const message of channel.messages) {\n",
              "        // Send a message to notify the kernel that we're ready.\n",
              "        channel.send({})\n",
              "        if (message.buffers) {\n",
              "          for (const buffer of message.buffers) {\n",
              "            buffers.push(buffer);\n",
              "            downloaded += buffer.byteLength;\n",
              "            progress.value = downloaded;\n",
              "          }\n",
              "        }\n",
              "      }\n",
              "      const blob = new Blob(buffers, {type: 'application/binary'});\n",
              "      const a = document.createElement('a');\n",
              "      a.href = window.URL.createObjectURL(blob);\n",
              "      a.download = filename;\n",
              "      div.appendChild(a);\n",
              "      a.click();\n",
              "      div.remove();\n",
              "    }\n",
              "  "
            ],
            "text/plain": [
              "<IPython.core.display.Javascript object>"
            ]
          },
          "metadata": {
            "tags": []
          }
        },
        {
          "output_type": "display_data",
          "data": {
            "application/javascript": [
              "download(\"download_c0771e86-4ff6-45e8-822c-d53b0ab207c3\", \"2021_05_en_hr.csv\", 407)"
            ],
            "text/plain": [
              "<IPython.core.display.Javascript object>"
            ]
          },
          "metadata": {
            "tags": []
          }
        }
      ]
    },
    {
      "cell_type": "markdown",
      "metadata": {
        "id": "c8cFTBBCngUc"
      },
      "source": [
        "##Joining csv files in local disk"
      ]
    },
    {
      "cell_type": "code",
      "metadata": {
        "id": "KPwZIJ1jnbTu"
      },
      "source": [
        "#Using OS from the command line to merge historic data\n",
        "type 202*_**_en_hr.csv > en_hr_merged.csv\n",
        "type 202*_**_en_loc.csv > en_loc_merged.csv\n",
        "type 202*_**_st_hr.csv > st_hr_merged.csv\n",
        "type 202*_**_st_loc.csv > st_loc_merged.csv"
      ],
      "execution_count": null,
      "outputs": []
    },
    {
      "cell_type": "markdown",
      "metadata": {
        "id": "Tbg_Y30tVHIR"
      },
      "source": [
        "##Cleaning aggregated data (hours of day)"
      ]
    },
    {
      "cell_type": "code",
      "metadata": {
        "colab": {
          "resources": {
            "http://localhost:8080/nbextensions/google.colab/files.js": {
              "data": "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",
              "ok": true,
              "headers": [
                [
                  "content-type",
                  "application/javascript"
                ]
              ],
              "status": 200,
              "status_text": ""
            }
          },
          "base_uri": "https://localhost:8080/",
          "height": 73
        },
        "id": "glMP-JacsqbT",
        "outputId": "8821280e-1701-459d-a929-4a5c42dff08f"
      },
      "source": [
        "#Uploading aggregated data files from local drive\n",
        "from google.colab import files\n",
        "uploaded1 = files.upload()"
      ],
      "execution_count": null,
      "outputs": [
        {
          "output_type": "display_data",
          "data": {
            "text/html": [
              "\n",
              "     <input type=\"file\" id=\"files-972f2aba-b511-4f9d-94c9-a8d2ccb98287\" name=\"files[]\" multiple disabled\n",
              "        style=\"border:none\" />\n",
              "     <output id=\"result-972f2aba-b511-4f9d-94c9-a8d2ccb98287\">\n",
              "      Upload widget is only available when the cell has been executed in the\n",
              "      current browser session. Please rerun this cell to enable.\n",
              "      </output>\n",
              "      <script src=\"/nbextensions/google.colab/files.js\"></script> "
            ],
            "text/plain": [
              "<IPython.core.display.HTML object>"
            ]
          },
          "metadata": {
            "tags": []
          }
        },
        {
          "output_type": "stream",
          "text": [
            "Saving st_hr_merged.csv to st_hr_merged.csv\n"
          ],
          "name": "stdout"
        }
      ]
    },
    {
      "cell_type": "code",
      "metadata": {
        "id": "cSHG9v_hsqbV"
      },
      "source": [
        "#Reading aggregated data and storing into a Pandas Dataframe\n",
        "import io\n",
        "hr_col = ['year', 'month', 'hour', 'count']\n",
        "hours_df = pd.read_csv(io.BytesIO(uploaded1['st_hr_merged.csv']), header=None, names=hr_col)"
      ],
      "execution_count": null,
      "outputs": []
    },
    {
      "cell_type": "code",
      "metadata": {
        "colab": {
          "base_uri": "https://localhost:8080/"
        },
        "id": "xbV2B-mstkvj",
        "outputId": "3a6a9c44-5cd1-4b9d-c151-435a39afb73c"
      },
      "source": [
        "#Checking the dataframe info\n",
        "hours_df.info()"
      ],
      "execution_count": null,
      "outputs": [
        {
          "output_type": "stream",
          "text": [
            "<class 'pandas.core.frame.DataFrame'>\n",
            "RangeIndex: 336 entries, 0 to 335\n",
            "Data columns (total 4 columns):\n",
            " #   Column  Non-Null Count  Dtype \n",
            "---  ------  --------------  ----- \n",
            " 0   year    336 non-null    int64 \n",
            " 1   month   336 non-null    object\n",
            " 2   hour    336 non-null    int64 \n",
            " 3   count   336 non-null    int64 \n",
            "dtypes: int64(3), object(1)\n",
            "memory usage: 10.6+ KB\n"
          ],
          "name": "stdout"
        }
      ]
    },
    {
      "cell_type": "code",
      "metadata": {
        "colab": {
          "base_uri": "https://localhost:8080/",
          "height": 343
        },
        "id": "dsRvaUsZv1BP",
        "outputId": "17557d97-334b-48f2-cd87-0b177a1e1d78"
      },
      "source": [
        "#Check the dataframe head\n",
        "hours_df.head(10)"
      ],
      "execution_count": null,
      "outputs": [
        {
          "output_type": "execute_result",
          "data": {
            "text/html": [
              "<div>\n",
              "<style scoped>\n",
              "    .dataframe tbody tr th:only-of-type {\n",
              "        vertical-align: middle;\n",
              "    }\n",
              "\n",
              "    .dataframe tbody tr th {\n",
              "        vertical-align: top;\n",
              "    }\n",
              "\n",
              "    .dataframe thead th {\n",
              "        text-align: right;\n",
              "    }\n",
              "</style>\n",
              "<table border=\"1\" class=\"dataframe\">\n",
              "  <thead>\n",
              "    <tr style=\"text-align: right;\">\n",
              "      <th></th>\n",
              "      <th>year</th>\n",
              "      <th>month</th>\n",
              "      <th>hour</th>\n",
              "      <th>count</th>\n",
              "    </tr>\n",
              "  </thead>\n",
              "  <tbody>\n",
              "    <tr>\n",
              "      <th>0</th>\n",
              "      <td>2020</td>\n",
              "      <td>April</td>\n",
              "      <td>0</td>\n",
              "      <td>19</td>\n",
              "    </tr>\n",
              "    <tr>\n",
              "      <th>1</th>\n",
              "      <td>2020</td>\n",
              "      <td>March</td>\n",
              "      <td>0</td>\n",
              "      <td>164</td>\n",
              "    </tr>\n",
              "    <tr>\n",
              "      <th>2</th>\n",
              "      <td>2020</td>\n",
              "      <td>March</td>\n",
              "      <td>5</td>\n",
              "      <td>76</td>\n",
              "    </tr>\n",
              "    <tr>\n",
              "      <th>3</th>\n",
              "      <td>2020</td>\n",
              "      <td>March</td>\n",
              "      <td>6</td>\n",
              "      <td>437</td>\n",
              "    </tr>\n",
              "    <tr>\n",
              "      <th>4</th>\n",
              "      <td>2020</td>\n",
              "      <td>March</td>\n",
              "      <td>7</td>\n",
              "      <td>1234</td>\n",
              "    </tr>\n",
              "    <tr>\n",
              "      <th>5</th>\n",
              "      <td>2020</td>\n",
              "      <td>March</td>\n",
              "      <td>8</td>\n",
              "      <td>1288</td>\n",
              "    </tr>\n",
              "    <tr>\n",
              "      <th>6</th>\n",
              "      <td>2020</td>\n",
              "      <td>March</td>\n",
              "      <td>9</td>\n",
              "      <td>845</td>\n",
              "    </tr>\n",
              "    <tr>\n",
              "      <th>7</th>\n",
              "      <td>2020</td>\n",
              "      <td>March</td>\n",
              "      <td>10</td>\n",
              "      <td>958</td>\n",
              "    </tr>\n",
              "    <tr>\n",
              "      <th>8</th>\n",
              "      <td>2020</td>\n",
              "      <td>March</td>\n",
              "      <td>11</td>\n",
              "      <td>1497</td>\n",
              "    </tr>\n",
              "    <tr>\n",
              "      <th>9</th>\n",
              "      <td>2020</td>\n",
              "      <td>March</td>\n",
              "      <td>12</td>\n",
              "      <td>1976</td>\n",
              "    </tr>\n",
              "  </tbody>\n",
              "</table>\n",
              "</div>"
            ],
            "text/plain": [
              "   year  month  hour  count\n",
              "0  2020  April     0     19\n",
              "1  2020  March     0    164\n",
              "2  2020  March     5     76\n",
              "3  2020  March     6    437\n",
              "4  2020  March     7   1234\n",
              "5  2020  March     8   1288\n",
              "6  2020  March     9    845\n",
              "7  2020  March    10    958\n",
              "8  2020  March    11   1497\n",
              "9  2020  March    12   1976"
            ]
          },
          "metadata": {
            "tags": []
          },
          "execution_count": 7
        }
      ]
    },
    {
      "cell_type": "code",
      "metadata": {
        "id": "_kLGpJ-XwSIS"
      },
      "source": [
        "#Order the hours data and aggregate the hour count\n",
        "hours_df = hours_df.groupby(['year', 'month', 'hour']).agg({'count': 'sum'}).reset_index()"
      ],
      "execution_count": null,
      "outputs": []
    },
    {
      "cell_type": "code",
      "metadata": {
        "colab": {
          "base_uri": "https://localhost:8080/",
          "height": 639
        },
        "id": "uL2cny8CzSJT",
        "outputId": "93cf70f5-a8d7-4094-9d3b-dcda30021cc3"
      },
      "source": [
        "#Verifying slices of the dataframe for a given year and month\n",
        "hours_df[(hours_df['year']==2021) & (hours_df['month']=='April')]"
      ],
      "execution_count": null,
      "outputs": [
        {
          "output_type": "execute_result",
          "data": {
            "text/html": [
              "<div>\n",
              "<style scoped>\n",
              "    .dataframe tbody tr th:only-of-type {\n",
              "        vertical-align: middle;\n",
              "    }\n",
              "\n",
              "    .dataframe tbody tr th {\n",
              "        vertical-align: top;\n",
              "    }\n",
              "\n",
              "    .dataframe thead th {\n",
              "        text-align: right;\n",
              "    }\n",
              "</style>\n",
              "<table border=\"1\" class=\"dataframe\">\n",
              "  <thead>\n",
              "    <tr style=\"text-align: right;\">\n",
              "      <th></th>\n",
              "      <th>year</th>\n",
              "      <th>month</th>\n",
              "      <th>hour</th>\n",
              "      <th>count</th>\n",
              "    </tr>\n",
              "  </thead>\n",
              "  <tbody>\n",
              "    <tr>\n",
              "      <th>219</th>\n",
              "      <td>2021</td>\n",
              "      <td>April</td>\n",
              "      <td>0</td>\n",
              "      <td>962</td>\n",
              "    </tr>\n",
              "    <tr>\n",
              "      <th>220</th>\n",
              "      <td>2021</td>\n",
              "      <td>April</td>\n",
              "      <td>5</td>\n",
              "      <td>293</td>\n",
              "    </tr>\n",
              "    <tr>\n",
              "      <th>221</th>\n",
              "      <td>2021</td>\n",
              "      <td>April</td>\n",
              "      <td>6</td>\n",
              "      <td>1652</td>\n",
              "    </tr>\n",
              "    <tr>\n",
              "      <th>222</th>\n",
              "      <td>2021</td>\n",
              "      <td>April</td>\n",
              "      <td>7</td>\n",
              "      <td>5587</td>\n",
              "    </tr>\n",
              "    <tr>\n",
              "      <th>223</th>\n",
              "      <td>2021</td>\n",
              "      <td>April</td>\n",
              "      <td>8</td>\n",
              "      <td>7290</td>\n",
              "    </tr>\n",
              "    <tr>\n",
              "      <th>224</th>\n",
              "      <td>2021</td>\n",
              "      <td>April</td>\n",
              "      <td>9</td>\n",
              "      <td>4599</td>\n",
              "    </tr>\n",
              "    <tr>\n",
              "      <th>225</th>\n",
              "      <td>2021</td>\n",
              "      <td>April</td>\n",
              "      <td>10</td>\n",
              "      <td>4244</td>\n",
              "    </tr>\n",
              "    <tr>\n",
              "      <th>226</th>\n",
              "      <td>2021</td>\n",
              "      <td>April</td>\n",
              "      <td>11</td>\n",
              "      <td>5496</td>\n",
              "    </tr>\n",
              "    <tr>\n",
              "      <th>227</th>\n",
              "      <td>2021</td>\n",
              "      <td>April</td>\n",
              "      <td>12</td>\n",
              "      <td>6766</td>\n",
              "    </tr>\n",
              "    <tr>\n",
              "      <th>228</th>\n",
              "      <td>2021</td>\n",
              "      <td>April</td>\n",
              "      <td>13</td>\n",
              "      <td>7337</td>\n",
              "    </tr>\n",
              "    <tr>\n",
              "      <th>229</th>\n",
              "      <td>2021</td>\n",
              "      <td>April</td>\n",
              "      <td>14</td>\n",
              "      <td>8584</td>\n",
              "    </tr>\n",
              "    <tr>\n",
              "      <th>230</th>\n",
              "      <td>2021</td>\n",
              "      <td>April</td>\n",
              "      <td>15</td>\n",
              "      <td>10767</td>\n",
              "    </tr>\n",
              "    <tr>\n",
              "      <th>231</th>\n",
              "      <td>2021</td>\n",
              "      <td>April</td>\n",
              "      <td>16</td>\n",
              "      <td>12550</td>\n",
              "    </tr>\n",
              "    <tr>\n",
              "      <th>232</th>\n",
              "      <td>2021</td>\n",
              "      <td>April</td>\n",
              "      <td>17</td>\n",
              "      <td>11013</td>\n",
              "    </tr>\n",
              "    <tr>\n",
              "      <th>233</th>\n",
              "      <td>2021</td>\n",
              "      <td>April</td>\n",
              "      <td>18</td>\n",
              "      <td>9145</td>\n",
              "    </tr>\n",
              "    <tr>\n",
              "      <th>234</th>\n",
              "      <td>2021</td>\n",
              "      <td>April</td>\n",
              "      <td>19</td>\n",
              "      <td>7121</td>\n",
              "    </tr>\n",
              "    <tr>\n",
              "      <th>235</th>\n",
              "      <td>2021</td>\n",
              "      <td>April</td>\n",
              "      <td>20</td>\n",
              "      <td>5214</td>\n",
              "    </tr>\n",
              "    <tr>\n",
              "      <th>236</th>\n",
              "      <td>2021</td>\n",
              "      <td>April</td>\n",
              "      <td>21</td>\n",
              "      <td>3602</td>\n",
              "    </tr>\n",
              "    <tr>\n",
              "      <th>237</th>\n",
              "      <td>2021</td>\n",
              "      <td>April</td>\n",
              "      <td>22</td>\n",
              "      <td>2880</td>\n",
              "    </tr>\n",
              "    <tr>\n",
              "      <th>238</th>\n",
              "      <td>2021</td>\n",
              "      <td>April</td>\n",
              "      <td>23</td>\n",
              "      <td>1792</td>\n",
              "    </tr>\n",
              "  </tbody>\n",
              "</table>\n",
              "</div>"
            ],
            "text/plain": [
              "     year  month  hour  count\n",
              "219  2021  April     0    962\n",
              "220  2021  April     5    293\n",
              "221  2021  April     6   1652\n",
              "222  2021  April     7   5587\n",
              "223  2021  April     8   7290\n",
              "224  2021  April     9   4599\n",
              "225  2021  April    10   4244\n",
              "226  2021  April    11   5496\n",
              "227  2021  April    12   6766\n",
              "228  2021  April    13   7337\n",
              "229  2021  April    14   8584\n",
              "230  2021  April    15  10767\n",
              "231  2021  April    16  12550\n",
              "232  2021  April    17  11013\n",
              "233  2021  April    18   9145\n",
              "234  2021  April    19   7121\n",
              "235  2021  April    20   5214\n",
              "236  2021  April    21   3602\n",
              "237  2021  April    22   2880\n",
              "238  2021  April    23   1792"
            ]
          },
          "metadata": {
            "tags": []
          },
          "execution_count": 9
        }
      ]
    },
    {
      "cell_type": "code",
      "metadata": {
        "colab": {
          "base_uri": "https://localhost:8080/",
          "height": 17
        },
        "id": "TqL0FxRDz8ha",
        "outputId": "89a70028-c7bc-4b56-9236-01f69724d911"
      },
      "source": [
        "#Exporting cleaned hours of day data to csv into local disk\n",
        "from google.colab import files\n",
        "hours_df.to_csv('st_hr_cleaned.csv', index=False)\n",
        "files.download('st_hr_cleaned.csv')"
      ],
      "execution_count": null,
      "outputs": [
        {
          "output_type": "display_data",
          "data": {
            "application/javascript": [
              "\n",
              "    async function download(id, filename, size) {\n",
              "      if (!google.colab.kernel.accessAllowed) {\n",
              "        return;\n",
              "      }\n",
              "      const div = document.createElement('div');\n",
              "      const label = document.createElement('label');\n",
              "      label.textContent = `Downloading \"${filename}\": `;\n",
              "      div.appendChild(label);\n",
              "      const progress = document.createElement('progress');\n",
              "      progress.max = size;\n",
              "      div.appendChild(progress);\n",
              "      document.body.appendChild(div);\n",
              "\n",
              "      const buffers = [];\n",
              "      let downloaded = 0;\n",
              "\n",
              "      const channel = await google.colab.kernel.comms.open(id);\n",
              "      // Send a message to notify the kernel that we're ready.\n",
              "      channel.send({})\n",
              "\n",
              "      for await (const message of channel.messages) {\n",
              "        // Send a message to notify the kernel that we're ready.\n",
              "        channel.send({})\n",
              "        if (message.buffers) {\n",
              "          for (const buffer of message.buffers) {\n",
              "            buffers.push(buffer);\n",
              "            downloaded += buffer.byteLength;\n",
              "            progress.value = downloaded;\n",
              "          }\n",
              "        }\n",
              "      }\n",
              "      const blob = new Blob(buffers, {type: 'application/binary'});\n",
              "      const a = document.createElement('a');\n",
              "      a.href = window.URL.createObjectURL(blob);\n",
              "      a.download = filename;\n",
              "      div.appendChild(a);\n",
              "      a.click();\n",
              "      div.remove();\n",
              "    }\n",
              "  "
            ],
            "text/plain": [
              "<IPython.core.display.Javascript object>"
            ]
          },
          "metadata": {
            "tags": []
          }
        },
        {
          "output_type": "display_data",
          "data": {
            "application/javascript": [
              "download(\"download_023cbfda-a82b-45e1-86f8-1d1adf02859e\", \"st_hr_merged-cleaned.csv\", 6271)"
            ],
            "text/plain": [
              "<IPython.core.display.Javascript object>"
            ]
          },
          "metadata": {
            "tags": []
          }
        }
      ]
    },
    {
      "cell_type": "markdown",
      "metadata": {
        "id": "pQNqlam8VRBB"
      },
      "source": [
        "##Cleaning aggregated data (location)"
      ]
    },
    {
      "cell_type": "code",
      "metadata": {
        "colab": {
          "resources": {
            "http://localhost:8080/nbextensions/google.colab/files.js": {
              "data": "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",
              "ok": true,
              "headers": [
                [
                  "content-type",
                  "application/javascript"
                ]
              ],
              "status": 200,
              "status_text": ""
            }
          },
          "base_uri": "https://localhost:8080/",
          "height": 73
        },
        "id": "LlnbhiosVhtQ",
        "outputId": "d3bd03d2-9cac-4cee-9aaa-2d0bc93cf36f"
      },
      "source": [
        "#Uploading aggregated data files from local drive\n",
        "from google.colab import files\n",
        "uploaded2 = files.upload()"
      ],
      "execution_count": null,
      "outputs": [
        {
          "output_type": "display_data",
          "data": {
            "text/html": [
              "\n",
              "     <input type=\"file\" id=\"files-5c236b9f-473b-4f47-b7ae-304dacfefa4a\" name=\"files[]\" multiple disabled\n",
              "        style=\"border:none\" />\n",
              "     <output id=\"result-5c236b9f-473b-4f47-b7ae-304dacfefa4a\">\n",
              "      Upload widget is only available when the cell has been executed in the\n",
              "      current browser session. Please rerun this cell to enable.\n",
              "      </output>\n",
              "      <script src=\"/nbextensions/google.colab/files.js\"></script> "
            ],
            "text/plain": [
              "<IPython.core.display.HTML object>"
            ]
          },
          "metadata": {
            "tags": []
          }
        },
        {
          "output_type": "stream",
          "text": [
            "Saving st_loc_merged.csv to st_loc_merged.csv\n"
          ],
          "name": "stdout"
        }
      ]
    },
    {
      "cell_type": "code",
      "metadata": {
        "id": "izgKXQJ2VhtT"
      },
      "source": [
        "#Reading aggregated data and storing into a Pandas Dataframe\n",
        "import io\n",
        "loc_col = ['year', 'month', 'name',\t'lat',\t'lon',\t'trips',\t'mean_min']\n",
        "loc_df = pd.read_csv(io.BytesIO(uploaded2['st_loc_merged.csv']), header=None, names=loc_col)"
      ],
      "execution_count": null,
      "outputs": []
    },
    {
      "cell_type": "code",
      "metadata": {
        "colab": {
          "base_uri": "https://localhost:8080/"
        },
        "id": "MAB98GL9VhtU",
        "outputId": "c25a8677-2f8e-4667-b5d0-0ed87e75f4ed"
      },
      "source": [
        "#Checking the dataframe info\n",
        "loc_df.info()"
      ],
      "execution_count": null,
      "outputs": [
        {
          "output_type": "stream",
          "text": [
            "<class 'pandas.core.frame.DataFrame'>\n",
            "RangeIndex: 4288 entries, 0 to 4287\n",
            "Data columns (total 7 columns):\n",
            " #   Column    Non-Null Count  Dtype  \n",
            "---  ------    --------------  -----  \n",
            " 0   year      4288 non-null   int64  \n",
            " 1   month     4288 non-null   object \n",
            " 2   name      4288 non-null   object \n",
            " 3   lat       4288 non-null   float64\n",
            " 4   lon       4288 non-null   float64\n",
            " 5   trips     4288 non-null   int64  \n",
            " 6   mean_min  4288 non-null   float64\n",
            "dtypes: float64(3), int64(2), object(2)\n",
            "memory usage: 234.6+ KB\n"
          ],
          "name": "stdout"
        }
      ]
    },
    {
      "cell_type": "code",
      "metadata": {
        "colab": {
          "base_uri": "https://localhost:8080/",
          "height": 195
        },
        "id": "JHjKW0WDVhtV",
        "outputId": "a42b74fd-e927-446a-d0a0-8f8557394de1"
      },
      "source": [
        "#Check the dataframe head\n",
        "loc_df.head(5)"
      ],
      "execution_count": null,
      "outputs": [
        {
          "output_type": "execute_result",
          "data": {
            "text/html": [
              "<div>\n",
              "<style scoped>\n",
              "    .dataframe tbody tr th:only-of-type {\n",
              "        vertical-align: middle;\n",
              "    }\n",
              "\n",
              "    .dataframe tbody tr th {\n",
              "        vertical-align: top;\n",
              "    }\n",
              "\n",
              "    .dataframe thead th {\n",
              "        text-align: right;\n",
              "    }\n",
              "</style>\n",
              "<table border=\"1\" class=\"dataframe\">\n",
              "  <thead>\n",
              "    <tr style=\"text-align: right;\">\n",
              "      <th></th>\n",
              "      <th>year</th>\n",
              "      <th>month</th>\n",
              "      <th>name</th>\n",
              "      <th>lat</th>\n",
              "      <th>lon</th>\n",
              "      <th>trips</th>\n",
              "      <th>mean_min</th>\n",
              "    </tr>\n",
              "  </thead>\n",
              "  <tbody>\n",
              "    <tr>\n",
              "      <th>0</th>\n",
              "      <td>2020</td>\n",
              "      <td>March</td>\n",
              "      <td>Ringnes Park</td>\n",
              "      <td>59.928434</td>\n",
              "      <td>10.759430</td>\n",
              "      <td>463</td>\n",
              "      <td>16.80</td>\n",
              "    </tr>\n",
              "    <tr>\n",
              "      <th>1</th>\n",
              "      <td>2020</td>\n",
              "      <td>March</td>\n",
              "      <td>Alexander Kiellands Plass</td>\n",
              "      <td>59.928067</td>\n",
              "      <td>10.751203</td>\n",
              "      <td>452</td>\n",
              "      <td>14.31</td>\n",
              "    </tr>\n",
              "    <tr>\n",
              "      <th>2</th>\n",
              "      <td>2020</td>\n",
              "      <td>March</td>\n",
              "      <td>Tjuvholmen</td>\n",
              "      <td>59.909467</td>\n",
              "      <td>10.722509</td>\n",
              "      <td>395</td>\n",
              "      <td>22.51</td>\n",
              "    </tr>\n",
              "    <tr>\n",
              "      <th>3</th>\n",
              "      <td>2020</td>\n",
              "      <td>March</td>\n",
              "      <td>Sukkerbiten</td>\n",
              "      <td>59.905807</td>\n",
              "      <td>10.753657</td>\n",
              "      <td>376</td>\n",
              "      <td>19.74</td>\n",
              "    </tr>\n",
              "    <tr>\n",
              "      <th>4</th>\n",
              "      <td>2020</td>\n",
              "      <td>March</td>\n",
              "      <td>Bislett Stadion</td>\n",
              "      <td>59.925471</td>\n",
              "      <td>10.731219</td>\n",
              "      <td>373</td>\n",
              "      <td>15.62</td>\n",
              "    </tr>\n",
              "  </tbody>\n",
              "</table>\n",
              "</div>"
            ],
            "text/plain": [
              "   year  month                       name  ...        lon  trips  mean_min\n",
              "0  2020  March               Ringnes Park  ...  10.759430    463     16.80\n",
              "1  2020  March  Alexander Kiellands Plass  ...  10.751203    452     14.31\n",
              "2  2020  March                 Tjuvholmen  ...  10.722509    395     22.51\n",
              "3  2020  March                Sukkerbiten  ...  10.753657    376     19.74\n",
              "4  2020  March            Bislett Stadion  ...  10.731219    373     15.62\n",
              "\n",
              "[5 rows x 7 columns]"
            ]
          },
          "metadata": {
            "tags": []
          },
          "execution_count": 84
        }
      ]
    },
    {
      "cell_type": "code",
      "metadata": {
        "id": "a4ckt9usVhtW"
      },
      "source": [
        "#Group by categories and aggregate both trips and mean value\n",
        "loc_df = loc_df.groupby(['year', 'month', 'name', 'lat', 'lon']).agg({'trips': 'sum',\n",
        "                                                                      'mean_min': 'mean'}\n",
        "                                                                     ).reset_index()"
      ],
      "execution_count": null,
      "outputs": []
    },
    {
      "cell_type": "code",
      "metadata": {
        "id": "1bUdmaScjnyz"
      },
      "source": [
        "#Sort values by year, month and trips\n",
        "loc_df = loc_df.sort_values(by=['year', 'month', 'trips'], ascending=False).reset_index(drop=True)"
      ],
      "execution_count": null,
      "outputs": []
    },
    {
      "cell_type": "code",
      "metadata": {
        "colab": {
          "base_uri": "https://localhost:8080/",
          "height": 343
        },
        "id": "CC2q1aFiVhtW",
        "outputId": "4e6ad927-a6b0-4d89-cdd9-1b57de44f059"
      },
      "source": [
        "loc_df.tail(10)"
      ],
      "execution_count": null,
      "outputs": [
        {
          "output_type": "execute_result",
          "data": {
            "text/html": [
              "<div>\n",
              "<style scoped>\n",
              "    .dataframe tbody tr th:only-of-type {\n",
              "        vertical-align: middle;\n",
              "    }\n",
              "\n",
              "    .dataframe tbody tr th {\n",
              "        vertical-align: top;\n",
              "    }\n",
              "\n",
              "    .dataframe thead th {\n",
              "        text-align: right;\n",
              "    }\n",
              "</style>\n",
              "<table border=\"1\" class=\"dataframe\">\n",
              "  <thead>\n",
              "    <tr style=\"text-align: right;\">\n",
              "      <th></th>\n",
              "      <th>year</th>\n",
              "      <th>month</th>\n",
              "      <th>name</th>\n",
              "      <th>lat</th>\n",
              "      <th>lon</th>\n",
              "      <th>trips</th>\n",
              "      <th>mean_min</th>\n",
              "    </tr>\n",
              "  </thead>\n",
              "  <tbody>\n",
              "    <tr>\n",
              "      <th>3764</th>\n",
              "      <td>2020</td>\n",
              "      <td>April</td>\n",
              "      <td>Georg Morgenstiernes hus</td>\n",
              "      <td>59.939026</td>\n",
              "      <td>10.723003</td>\n",
              "      <td>112</td>\n",
              "      <td>16.320</td>\n",
              "    </tr>\n",
              "    <tr>\n",
              "      <th>3765</th>\n",
              "      <td>2020</td>\n",
              "      <td>April</td>\n",
              "      <td>Kjeld Stubs gate</td>\n",
              "      <td>59.912711</td>\n",
              "      <td>10.735595</td>\n",
              "      <td>111</td>\n",
              "      <td>12.950</td>\n",
              "    </tr>\n",
              "    <tr>\n",
              "      <th>3766</th>\n",
              "      <td>2020</td>\n",
              "      <td>April</td>\n",
              "      <td>Fysikkbygningen</td>\n",
              "      <td>59.937957</td>\n",
              "      <td>10.719489</td>\n",
              "      <td>91</td>\n",
              "      <td>15.690</td>\n",
              "    </tr>\n",
              "    <tr>\n",
              "      <th>3767</th>\n",
              "      <td>2020</td>\n",
              "      <td>April</td>\n",
              "      <td>Stortingstunellen</td>\n",
              "      <td>59.910653</td>\n",
              "      <td>10.737365</td>\n",
              "      <td>89</td>\n",
              "      <td>22.980</td>\n",
              "    </tr>\n",
              "    <tr>\n",
              "      <th>3768</th>\n",
              "      <td>2020</td>\n",
              "      <td>April</td>\n",
              "      <td>Vippetangen øst</td>\n",
              "      <td>59.903989</td>\n",
              "      <td>10.741077</td>\n",
              "      <td>89</td>\n",
              "      <td>21.240</td>\n",
              "    </tr>\n",
              "    <tr>\n",
              "      <th>3769</th>\n",
              "      <td>2020</td>\n",
              "      <td>April</td>\n",
              "      <td>Tordenskiolds gate</td>\n",
              "      <td>59.911776</td>\n",
              "      <td>10.735113</td>\n",
              "      <td>88</td>\n",
              "      <td>15.610</td>\n",
              "    </tr>\n",
              "    <tr>\n",
              "      <th>3770</th>\n",
              "      <td>2020</td>\n",
              "      <td>April</td>\n",
              "      <td>Blindern studentparkering</td>\n",
              "      <td>59.940874</td>\n",
              "      <td>10.720779</td>\n",
              "      <td>70</td>\n",
              "      <td>17.860</td>\n",
              "    </tr>\n",
              "    <tr>\n",
              "      <th>3771</th>\n",
              "      <td>2020</td>\n",
              "      <td>April</td>\n",
              "      <td>Jarlsborgveien</td>\n",
              "      <td>59.930464</td>\n",
              "      <td>10.675783</td>\n",
              "      <td>66</td>\n",
              "      <td>20.200</td>\n",
              "    </tr>\n",
              "    <tr>\n",
              "      <th>3772</th>\n",
              "      <td>2020</td>\n",
              "      <td>April</td>\n",
              "      <td>HasleLinje</td>\n",
              "      <td>59.927634</td>\n",
              "      <td>10.799249</td>\n",
              "      <td>64</td>\n",
              "      <td>15.425</td>\n",
              "    </tr>\n",
              "    <tr>\n",
              "      <th>3773</th>\n",
              "      <td>2020</td>\n",
              "      <td>April</td>\n",
              "      <td>Bak Niels Treschows hus sør</td>\n",
              "      <td>59.942473</td>\n",
              "      <td>10.723715</td>\n",
              "      <td>45</td>\n",
              "      <td>14.200</td>\n",
              "    </tr>\n",
              "  </tbody>\n",
              "</table>\n",
              "</div>"
            ],
            "text/plain": [
              "      year  month                         name  ...        lon  trips  mean_min\n",
              "3764  2020  April     Georg Morgenstiernes hus  ...  10.723003    112    16.320\n",
              "3765  2020  April             Kjeld Stubs gate  ...  10.735595    111    12.950\n",
              "3766  2020  April              Fysikkbygningen  ...  10.719489     91    15.690\n",
              "3767  2020  April            Stortingstunellen  ...  10.737365     89    22.980\n",
              "3768  2020  April              Vippetangen øst  ...  10.741077     89    21.240\n",
              "3769  2020  April           Tordenskiolds gate  ...  10.735113     88    15.610\n",
              "3770  2020  April    Blindern studentparkering  ...  10.720779     70    17.860\n",
              "3771  2020  April               Jarlsborgveien  ...  10.675783     66    20.200\n",
              "3772  2020  April                   HasleLinje  ...  10.799249     64    15.425\n",
              "3773  2020  April  Bak Niels Treschows hus sør  ...  10.723715     45    14.200\n",
              "\n",
              "[10 rows x 7 columns]"
            ]
          },
          "metadata": {
            "tags": []
          },
          "execution_count": 88
        }
      ]
    },
    {
      "cell_type": "code",
      "metadata": {
        "colab": {
          "base_uri": "https://localhost:8080/",
          "height": 402
        },
        "id": "Y6vMhADpVhtY",
        "outputId": "18254f88-97a3-4679-f685-1157c3bf65c6"
      },
      "source": [
        "#Verifying slices of the dataframe to be in descending order\n",
        "loc_df[(loc_df['year']==2021) & (loc_df['month']=='April')]"
      ],
      "execution_count": null,
      "outputs": [
        {
          "output_type": "execute_result",
          "data": {
            "text/html": [
              "<div>\n",
              "<style scoped>\n",
              "    .dataframe tbody tr th:only-of-type {\n",
              "        vertical-align: middle;\n",
              "    }\n",
              "\n",
              "    .dataframe tbody tr th {\n",
              "        vertical-align: top;\n",
              "    }\n",
              "\n",
              "    .dataframe thead th {\n",
              "        text-align: right;\n",
              "    }\n",
              "</style>\n",
              "<table border=\"1\" class=\"dataframe\">\n",
              "  <thead>\n",
              "    <tr style=\"text-align: right;\">\n",
              "      <th></th>\n",
              "      <th>year</th>\n",
              "      <th>month</th>\n",
              "      <th>name</th>\n",
              "      <th>lat</th>\n",
              "      <th>lon</th>\n",
              "      <th>trips</th>\n",
              "      <th>mean_min</th>\n",
              "    </tr>\n",
              "  </thead>\n",
              "  <tbody>\n",
              "    <tr>\n",
              "      <th>1037</th>\n",
              "      <td>2021</td>\n",
              "      <td>April</td>\n",
              "      <td>Ringnes Park</td>\n",
              "      <td>59.928434</td>\n",
              "      <td>10.759430</td>\n",
              "      <td>1572</td>\n",
              "      <td>9.145</td>\n",
              "    </tr>\n",
              "    <tr>\n",
              "      <th>1038</th>\n",
              "      <td>2021</td>\n",
              "      <td>April</td>\n",
              "      <td>Alexander Kiellands Plass</td>\n",
              "      <td>59.928067</td>\n",
              "      <td>10.751203</td>\n",
              "      <td>1524</td>\n",
              "      <td>9.915</td>\n",
              "    </tr>\n",
              "    <tr>\n",
              "      <th>1039</th>\n",
              "      <td>2021</td>\n",
              "      <td>April</td>\n",
              "      <td>Majorstuen</td>\n",
              "      <td>59.929045</td>\n",
              "      <td>10.716926</td>\n",
              "      <td>1289</td>\n",
              "      <td>14.010</td>\n",
              "    </tr>\n",
              "    <tr>\n",
              "      <th>1040</th>\n",
              "      <td>2021</td>\n",
              "      <td>April</td>\n",
              "      <td>Bislettgata</td>\n",
              "      <td>59.923774</td>\n",
              "      <td>10.734713</td>\n",
              "      <td>1242</td>\n",
              "      <td>12.170</td>\n",
              "    </tr>\n",
              "    <tr>\n",
              "      <th>1041</th>\n",
              "      <td>2021</td>\n",
              "      <td>April</td>\n",
              "      <td>Rådhusbrygge 4</td>\n",
              "      <td>59.910847</td>\n",
              "      <td>10.730377</td>\n",
              "      <td>1189</td>\n",
              "      <td>17.590</td>\n",
              "    </tr>\n",
              "    <tr>\n",
              "      <th>...</th>\n",
              "      <td>...</td>\n",
              "      <td>...</td>\n",
              "      <td>...</td>\n",
              "      <td>...</td>\n",
              "      <td>...</td>\n",
              "      <td>...</td>\n",
              "      <td>...</td>\n",
              "    </tr>\n",
              "    <tr>\n",
              "      <th>1282</th>\n",
              "      <td>2021</td>\n",
              "      <td>April</td>\n",
              "      <td>Skøyen Stasjon</td>\n",
              "      <td>59.922724</td>\n",
              "      <td>10.678625</td>\n",
              "      <td>70</td>\n",
              "      <td>22.280</td>\n",
              "    </tr>\n",
              "    <tr>\n",
              "      <th>1283</th>\n",
              "      <td>2021</td>\n",
              "      <td>April</td>\n",
              "      <td>Stortingstunellen</td>\n",
              "      <td>59.910653</td>\n",
              "      <td>10.737365</td>\n",
              "      <td>69</td>\n",
              "      <td>19.510</td>\n",
              "    </tr>\n",
              "    <tr>\n",
              "      <th>1284</th>\n",
              "      <td>2021</td>\n",
              "      <td>April</td>\n",
              "      <td>Arkaden Sør</td>\n",
              "      <td>59.911969</td>\n",
              "      <td>10.747858</td>\n",
              "      <td>62</td>\n",
              "      <td>15.070</td>\n",
              "    </tr>\n",
              "    <tr>\n",
              "      <th>1285</th>\n",
              "      <td>2021</td>\n",
              "      <td>April</td>\n",
              "      <td>Salt</td>\n",
              "      <td>59.906922</td>\n",
              "      <td>10.746530</td>\n",
              "      <td>50</td>\n",
              "      <td>21.340</td>\n",
              "    </tr>\n",
              "    <tr>\n",
              "      <th>1286</th>\n",
              "      <td>2021</td>\n",
              "      <td>April</td>\n",
              "      <td>Kværnerveien</td>\n",
              "      <td>59.905911</td>\n",
              "      <td>10.778592</td>\n",
              "      <td>37</td>\n",
              "      <td>17.780</td>\n",
              "    </tr>\n",
              "  </tbody>\n",
              "</table>\n",
              "<p>250 rows × 7 columns</p>\n",
              "</div>"
            ],
            "text/plain": [
              "      year  month                       name  ...        lon  trips  mean_min\n",
              "1037  2021  April               Ringnes Park  ...  10.759430   1572     9.145\n",
              "1038  2021  April  Alexander Kiellands Plass  ...  10.751203   1524     9.915\n",
              "1039  2021  April                 Majorstuen  ...  10.716926   1289    14.010\n",
              "1040  2021  April                Bislettgata  ...  10.734713   1242    12.170\n",
              "1041  2021  April             Rådhusbrygge 4  ...  10.730377   1189    17.590\n",
              "...    ...    ...                        ...  ...        ...    ...       ...\n",
              "1282  2021  April             Skøyen Stasjon  ...  10.678625     70    22.280\n",
              "1283  2021  April          Stortingstunellen  ...  10.737365     69    19.510\n",
              "1284  2021  April                Arkaden Sør  ...  10.747858     62    15.070\n",
              "1285  2021  April                       Salt  ...  10.746530     50    21.340\n",
              "1286  2021  April               Kværnerveien  ...  10.778592     37    17.780\n",
              "\n",
              "[250 rows x 7 columns]"
            ]
          },
          "metadata": {
            "tags": []
          },
          "execution_count": 89
        }
      ]
    },
    {
      "cell_type": "code",
      "metadata": {
        "colab": {
          "base_uri": "https://localhost:8080/",
          "height": 17
        },
        "id": "UD2BiIDkVhta",
        "outputId": "af2ff1e3-34e5-4a5e-dd6b-5710f4b39003"
      },
      "source": [
        "#Exporting cleaned location data to csv into local disk\n",
        "from google.colab import files\n",
        "loc_df.to_csv('st_loc_cleaned.csv', index=False)\n",
        "files.download('st_loc_cleaned.csv')"
      ],
      "execution_count": null,
      "outputs": [
        {
          "output_type": "display_data",
          "data": {
            "application/javascript": [
              "\n",
              "    async function download(id, filename, size) {\n",
              "      if (!google.colab.kernel.accessAllowed) {\n",
              "        return;\n",
              "      }\n",
              "      const div = document.createElement('div');\n",
              "      const label = document.createElement('label');\n",
              "      label.textContent = `Downloading \"${filename}\": `;\n",
              "      div.appendChild(label);\n",
              "      const progress = document.createElement('progress');\n",
              "      progress.max = size;\n",
              "      div.appendChild(progress);\n",
              "      document.body.appendChild(div);\n",
              "\n",
              "      const buffers = [];\n",
              "      let downloaded = 0;\n",
              "\n",
              "      const channel = await google.colab.kernel.comms.open(id);\n",
              "      // Send a message to notify the kernel that we're ready.\n",
              "      channel.send({})\n",
              "\n",
              "      for await (const message of channel.messages) {\n",
              "        // Send a message to notify the kernel that we're ready.\n",
              "        channel.send({})\n",
              "        if (message.buffers) {\n",
              "          for (const buffer of message.buffers) {\n",
              "            buffers.push(buffer);\n",
              "            downloaded += buffer.byteLength;\n",
              "            progress.value = downloaded;\n",
              "          }\n",
              "        }\n",
              "      }\n",
              "      const blob = new Blob(buffers, {type: 'application/binary'});\n",
              "      const a = document.createElement('a');\n",
              "      a.href = window.URL.createObjectURL(blob);\n",
              "      a.download = filename;\n",
              "      div.appendChild(a);\n",
              "      a.click();\n",
              "      div.remove();\n",
              "    }\n",
              "  "
            ],
            "text/plain": [
              "<IPython.core.display.Javascript object>"
            ]
          },
          "metadata": {
            "tags": []
          }
        },
        {
          "output_type": "display_data",
          "data": {
            "application/javascript": [
              "download(\"download_a94ee0fe-db84-44d4-860b-3847037edbaf\", \"st_loc_merged-cleaned.csv\", 243749)"
            ],
            "text/plain": [
              "<IPython.core.display.Javascript object>"
            ]
          },
          "metadata": {
            "tags": []
          }
        }
      ]
    },
    {
      "cell_type": "markdown",
      "metadata": {
        "id": "lptmKKgKe7sD"
      },
      "source": [
        "##Data Visualization"
      ]
    },
    {
      "cell_type": "markdown",
      "metadata": {
        "id": "sXmSwrs_5ORx"
      },
      "source": [
        "###Customizing theme"
      ]
    },
    {
      "cell_type": "code",
      "metadata": {
        "id": "y2DvWRPa4qYJ"
      },
      "source": [
        "#Add interactivity to graphs\n",
        "import ipywidgets as widgets\n",
        "from IPython import display\n",
        "from ipywidgets import interact, interactive, fixed, interact_manual"
      ],
      "execution_count": 2,
      "outputs": []
    },
    {
      "cell_type": "code",
      "metadata": {
        "id": "5NdFYzOerU7e"
      },
      "source": [
        "#Uploading visualization packages\n",
        "import folium\n",
        "from folium import plugins\n",
        "from folium.plugins import HeatMap"
      ],
      "execution_count": 3,
      "outputs": []
    },
    {
      "cell_type": "code",
      "metadata": {
        "id": "u53MjFbC43NE"
      },
      "source": [
        "#Customizing Matplotlib's runtime default configuration styles for data visualization\n",
        "\n",
        "SMALL_SIZE = 11\n",
        "MEDIUM_SIZE = 15\n",
        "BIGGER_SIZE = 19\n",
        "\n",
        "plt.rc('font', size=SMALL_SIZE)          # controls default text sizes\n",
        "plt.rc('axes', titlesize=SMALL_SIZE)     # fontsize of the axes title\n",
        "plt.rc('axes', labelsize=MEDIUM_SIZE)     # fontsize of the x and y labels\n",
        "plt.rc('xtick', labelsize=SMALL_SIZE)    # fontsize of the tick labels\n",
        "plt.rc('ytick', labelsize=MEDIUM_SIZE)   # fontsize of the tick labels\n",
        "plt.rc('legend', fontsize=SMALL_SIZE)    # legend fontsize\n",
        "plt.rc('figure', titlesize=BIGGER_SIZE)  # fontsize of the figure title\n",
        "plt.rc('axes', titlesize=BIGGER_SIZE)    # fontsize of the axes title"
      ],
      "execution_count": 4,
      "outputs": []
    },
    {
      "cell_type": "markdown",
      "metadata": {
        "id": "j0mLBFdc9bqm"
      },
      "source": [
        "###Color scheme (optional)"
      ]
    },
    {
      "cell_type": "code",
      "metadata": {
        "id": "RhXGUKgM4-bv"
      },
      "source": [
        "#Customizing theme\n",
        "#plt.style.use(['dark_background'])\n",
        "plt.rcParams['axes.facecolor'] = (0,0,0,0)\n",
        "plt.rcParams['figure.facecolor'] = '#ffffff' #To match google colab native dark theme\n",
        "plt.rcParams[\"legend.frameon\"] = False\n",
        "plt.rcParams['image.cmap'] = 'viridis'\n",
        "plt.rcParams[\"legend.facecolor\"] = (0,0,0,0)\n",
        "#plt.rcParams[\"font.family\"] = 'sans-serif'\n",
        "#plt.rcParams['font.sans-serif'] = ['Open Sans', 'Source Sans Pro', 'Noto Sans']\n",
        "plt.rcParams['hist.bins'] = 50\n",
        "plt.rcParams['lines.markersize'] = 10\n",
        "plt.rcParams['axes3d.grid'] = False\n",
        "\n",
        "#New settings\n",
        "plt.rcParams['figure.subplot.hspace'] = 0.3 #default = 0.2\n",
        "\n",
        "from cycler import cycler\n",
        "\n",
        "plt.rcParams['axes.prop_cycle'] = (cycler(color=['#98d2eb', '#e1f2fe', '#b2b1cf', '#77625c', '#49392c', '#bde2f5', '#cad2e7', '#958a96', '#604e44', '#5a4b3f',\n",
        "                                                 '#98d2eb', '#e1f2fe', '#b2b1cf', '#77625c', '#49392c', '#bde2f5', '#cad2e7', '#958a96', '#604e44', '#5a4b3f',\n",
        "                                                 '#98d2eb', '#e1f2fe', '#b2b1cf', '#77625c', '#49392c', '#bde2f5', '#cad2e7', '#958a96', '#604e44', '#5a4b3f'])\\\n",
        "                                   + cycler(linestyle=['-', '--', ':', '-.', '-', '--', ':', '-.', '-', '--',\n",
        "                                                       '-', '--', ':', '-.', '-', '--', ':', '-.', '-', '--',\n",
        "                                                       '-', '--', ':', '-.', '-', '--', ':', '-.', '-', '--']))"
      ],
      "execution_count": null,
      "outputs": []
    },
    {
      "cell_type": "markdown",
      "metadata": {
        "id": "vbkkRr6AZ5BT"
      },
      "source": [
        "###Loading cleaned data "
      ]
    },
    {
      "cell_type": "code",
      "metadata": {
        "id": "uKgvRXsJj927"
      },
      "source": [
        "#Remove previous versions of the uploaded csv file\n",
        "!rm st_loc_cleaned.csv"
      ],
      "execution_count": null,
      "outputs": []
    },
    {
      "cell_type": "code",
      "metadata": {
        "id": "KkzDzxiJe9X6",
        "colab": {
          "resources": {
            "http://localhost:8080/nbextensions/google.colab/files.js": {
              "data": "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",
              "ok": true,
              "headers": [
                [
                  "content-type",
                  "application/javascript"
                ]
              ],
              "status": 200,
              "status_text": ""
            }
          },
          "base_uri": "https://localhost:8080/",
          "height": 73
        },
        "outputId": "11a95be2-e53c-4732-d41a-71d9654f5158"
      },
      "source": [
        "#Uploading cleaned location data (starting point) from local drive\n",
        "from google.colab import files\n",
        "uploaded3 = files.upload()"
      ],
      "execution_count": 5,
      "outputs": [
        {
          "output_type": "display_data",
          "data": {
            "text/html": [
              "\n",
              "     <input type=\"file\" id=\"files-88e2c7b1-5cc6-4c28-82ca-ef22085b27e4\" name=\"files[]\" multiple disabled\n",
              "        style=\"border:none\" />\n",
              "     <output id=\"result-88e2c7b1-5cc6-4c28-82ca-ef22085b27e4\">\n",
              "      Upload widget is only available when the cell has been executed in the\n",
              "      current browser session. Please rerun this cell to enable.\n",
              "      </output>\n",
              "      <script src=\"/nbextensions/google.colab/files.js\"></script> "
            ],
            "text/plain": [
              "<IPython.core.display.HTML object>"
            ]
          },
          "metadata": {
            "tags": []
          }
        },
        {
          "output_type": "stream",
          "text": [
            "Saving st_loc_cleaned.csv to st_loc_cleaned.csv\n"
          ],
          "name": "stdout"
        }
      ]
    },
    {
      "cell_type": "code",
      "metadata": {
        "id": "mIvQV39ffNan"
      },
      "source": [
        "#Reading cleaned location data (starting point) and storing into a Pandas Dataframe\n",
        "import io\n",
        "st_loc_clean = pd.read_csv(io.BytesIO(uploaded3['st_loc_cleaned.csv']))"
      ],
      "execution_count": 6,
      "outputs": []
    },
    {
      "cell_type": "code",
      "metadata": {
        "colab": {
          "resources": {
            "http://localhost:8080/nbextensions/google.colab/files.js": {
              "data": "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",
              "ok": true,
              "headers": [
                [
                  "content-type",
                  "application/javascript"
                ]
              ],
              "status": 200,
              "status_text": ""
            }
          },
          "base_uri": "https://localhost:8080/",
          "height": 73
        },
        "id": "1YDvjpOEarpd",
        "outputId": "61963049-17ae-46b9-e19b-ec6ec97690dc"
      },
      "source": [
        "#Uploading cleaned hours of day data (starting point) from local drive\n",
        "from google.colab import files\n",
        "uploaded4 = files.upload()"
      ],
      "execution_count": 7,
      "outputs": [
        {
          "output_type": "display_data",
          "data": {
            "text/html": [
              "\n",
              "     <input type=\"file\" id=\"files-fd314915-5cd0-4042-8707-37b7029529f2\" name=\"files[]\" multiple disabled\n",
              "        style=\"border:none\" />\n",
              "     <output id=\"result-fd314915-5cd0-4042-8707-37b7029529f2\">\n",
              "      Upload widget is only available when the cell has been executed in the\n",
              "      current browser session. Please rerun this cell to enable.\n",
              "      </output>\n",
              "      <script src=\"/nbextensions/google.colab/files.js\"></script> "
            ],
            "text/plain": [
              "<IPython.core.display.HTML object>"
            ]
          },
          "metadata": {
            "tags": []
          }
        },
        {
          "output_type": "stream",
          "text": [
            "Saving st_hr_cleaned.csv to st_hr_cleaned.csv\n"
          ],
          "name": "stdout"
        }
      ]
    },
    {
      "cell_type": "code",
      "metadata": {
        "id": "_-02634Ga8Wx"
      },
      "source": [
        "#Reading cleaned hours of day data (starting point) and storing into a Pandas Dataframe\n",
        "st_hr_clean = pd.read_csv(io.BytesIO(uploaded4['st_hr_cleaned.csv']))"
      ],
      "execution_count": 8,
      "outputs": []
    },
    {
      "cell_type": "code",
      "metadata": {
        "colab": {
          "resources": {
            "http://localhost:8080/nbextensions/google.colab/files.js": {
              "data": "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",
              "ok": true,
              "headers": [
                [
                  "content-type",
                  "application/javascript"
                ]
              ],
              "status": 200,
              "status_text": ""
            }
          },
          "base_uri": "https://localhost:8080/",
          "height": 73
        },
        "id": "p_BS3Unweo1J",
        "outputId": "abde2415-37b0-44c6-e2d3-b4165563648b"
      },
      "source": [
        "#Uploading cleaned location data (end point) from local drive\n",
        "from google.colab import files\n",
        "uploaded5 = files.upload()"
      ],
      "execution_count": 9,
      "outputs": [
        {
          "output_type": "display_data",
          "data": {
            "text/html": [
              "\n",
              "     <input type=\"file\" id=\"files-f7b74722-af1c-43df-ac68-56963a075ae1\" name=\"files[]\" multiple disabled\n",
              "        style=\"border:none\" />\n",
              "     <output id=\"result-f7b74722-af1c-43df-ac68-56963a075ae1\">\n",
              "      Upload widget is only available when the cell has been executed in the\n",
              "      current browser session. Please rerun this cell to enable.\n",
              "      </output>\n",
              "      <script src=\"/nbextensions/google.colab/files.js\"></script> "
            ],
            "text/plain": [
              "<IPython.core.display.HTML object>"
            ]
          },
          "metadata": {
            "tags": []
          }
        },
        {
          "output_type": "stream",
          "text": [
            "Saving en_loc_cleaned.csv to en_loc_cleaned.csv\n"
          ],
          "name": "stdout"
        }
      ]
    },
    {
      "cell_type": "code",
      "metadata": {
        "id": "REjm6AhEfCPH"
      },
      "source": [
        "#Reading cleaned location data (end point) and storing into a Pandas Dataframe\n",
        "en_loc_clean = pd.read_csv(io.BytesIO(uploaded5['en_loc_cleaned.csv']))"
      ],
      "execution_count": 10,
      "outputs": []
    },
    {
      "cell_type": "code",
      "metadata": {
        "colab": {
          "resources": {
            "http://localhost:8080/nbextensions/google.colab/files.js": {
              "data": "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",
              "ok": true,
              "headers": [
                [
                  "content-type",
                  "application/javascript"
                ]
              ],
              "status": 200,
              "status_text": ""
            }
          },
          "base_uri": "https://localhost:8080/",
          "height": 73
        },
        "id": "URP0rqayfNYG",
        "outputId": "3d0f36d6-b49b-4479-8b0f-f907780193e7"
      },
      "source": [
        "#Uploading cleaned hours of day data (end point) from local drive\n",
        "from google.colab import files\n",
        "uploaded6 = files.upload()"
      ],
      "execution_count": 11,
      "outputs": [
        {
          "output_type": "display_data",
          "data": {
            "text/html": [
              "\n",
              "     <input type=\"file\" id=\"files-eebd9064-d011-4231-8003-2fd59b785520\" name=\"files[]\" multiple disabled\n",
              "        style=\"border:none\" />\n",
              "     <output id=\"result-eebd9064-d011-4231-8003-2fd59b785520\">\n",
              "      Upload widget is only available when the cell has been executed in the\n",
              "      current browser session. Please rerun this cell to enable.\n",
              "      </output>\n",
              "      <script src=\"/nbextensions/google.colab/files.js\"></script> "
            ],
            "text/plain": [
              "<IPython.core.display.HTML object>"
            ]
          },
          "metadata": {
            "tags": []
          }
        },
        {
          "output_type": "stream",
          "text": [
            "Saving en_hr_cleaned.csv to en_hr_cleaned.csv\n"
          ],
          "name": "stdout"
        }
      ]
    },
    {
      "cell_type": "code",
      "metadata": {
        "id": "1jGQ_tBefNk5"
      },
      "source": [
        "#Reading cleaned hours of day data (end point) and storing into a Pandas Dataframe\n",
        "en_hr_clean = pd.read_csv(io.BytesIO(uploaded6['en_hr_cleaned.csv']))"
      ],
      "execution_count": 12,
      "outputs": []
    },
    {
      "cell_type": "markdown",
      "metadata": {
        "id": "Gcxu3vFN5Y_x"
      },
      "source": [
        "###Preparing location data for visualization"
      ]
    },
    {
      "cell_type": "code",
      "metadata": {
        "colab": {
          "base_uri": "https://localhost:8080/",
          "height": 203
        },
        "id": "XUdcQ2X5fzFc",
        "outputId": "f8c99985-d46e-46fa-c48a-c497d1d9b60d"
      },
      "source": [
        "st_loc_clean.tail()"
      ],
      "execution_count": 13,
      "outputs": [
        {
          "output_type": "execute_result",
          "data": {
            "text/html": [
              "<div>\n",
              "<style scoped>\n",
              "    .dataframe tbody tr th:only-of-type {\n",
              "        vertical-align: middle;\n",
              "    }\n",
              "\n",
              "    .dataframe tbody tr th {\n",
              "        vertical-align: top;\n",
              "    }\n",
              "\n",
              "    .dataframe thead th {\n",
              "        text-align: right;\n",
              "    }\n",
              "</style>\n",
              "<table border=\"1\" class=\"dataframe\">\n",
              "  <thead>\n",
              "    <tr style=\"text-align: right;\">\n",
              "      <th></th>\n",
              "      <th>year</th>\n",
              "      <th>month</th>\n",
              "      <th>name</th>\n",
              "      <th>lat</th>\n",
              "      <th>lon</th>\n",
              "      <th>trips</th>\n",
              "      <th>mean_min</th>\n",
              "    </tr>\n",
              "  </thead>\n",
              "  <tbody>\n",
              "    <tr>\n",
              "      <th>3769</th>\n",
              "      <td>2020</td>\n",
              "      <td>April</td>\n",
              "      <td>Tordenskiolds gate</td>\n",
              "      <td>59.911776</td>\n",
              "      <td>10.735113</td>\n",
              "      <td>88</td>\n",
              "      <td>15.610</td>\n",
              "    </tr>\n",
              "    <tr>\n",
              "      <th>3770</th>\n",
              "      <td>2020</td>\n",
              "      <td>April</td>\n",
              "      <td>Blindern studentparkering</td>\n",
              "      <td>59.940874</td>\n",
              "      <td>10.720779</td>\n",
              "      <td>70</td>\n",
              "      <td>17.860</td>\n",
              "    </tr>\n",
              "    <tr>\n",
              "      <th>3771</th>\n",
              "      <td>2020</td>\n",
              "      <td>April</td>\n",
              "      <td>Jarlsborgveien</td>\n",
              "      <td>59.930464</td>\n",
              "      <td>10.675783</td>\n",
              "      <td>66</td>\n",
              "      <td>20.200</td>\n",
              "    </tr>\n",
              "    <tr>\n",
              "      <th>3772</th>\n",
              "      <td>2020</td>\n",
              "      <td>April</td>\n",
              "      <td>HasleLinje</td>\n",
              "      <td>59.927634</td>\n",
              "      <td>10.799249</td>\n",
              "      <td>64</td>\n",
              "      <td>15.425</td>\n",
              "    </tr>\n",
              "    <tr>\n",
              "      <th>3773</th>\n",
              "      <td>2020</td>\n",
              "      <td>April</td>\n",
              "      <td>Bak Niels Treschows hus sør</td>\n",
              "      <td>59.942473</td>\n",
              "      <td>10.723715</td>\n",
              "      <td>45</td>\n",
              "      <td>14.200</td>\n",
              "    </tr>\n",
              "  </tbody>\n",
              "</table>\n",
              "</div>"
            ],
            "text/plain": [
              "      year  month                         name  ...        lon  trips  mean_min\n",
              "3769  2020  April           Tordenskiolds gate  ...  10.735113     88    15.610\n",
              "3770  2020  April    Blindern studentparkering  ...  10.720779     70    17.860\n",
              "3771  2020  April               Jarlsborgveien  ...  10.675783     66    20.200\n",
              "3772  2020  April                   HasleLinje  ...  10.799249     64    15.425\n",
              "3773  2020  April  Bak Niels Treschows hus sør  ...  10.723715     45    14.200\n",
              "\n",
              "[5 rows x 7 columns]"
            ]
          },
          "metadata": {
            "tags": []
          },
          "execution_count": 13
        }
      ]
    },
    {
      "cell_type": "code",
      "metadata": {
        "id": "8uqxm4pesuFf"
      },
      "source": [
        "#Creating a function to generate a basemap\n",
        "def generate_basemap(default_loc=[59.92,10.75], default_zoom=13):\n",
        "    bmap = folium.Map(location=default_loc, zoom_start=default_zoom)\n",
        "    return bmap"
      ],
      "execution_count": 14,
      "outputs": []
    },
    {
      "cell_type": "code",
      "metadata": {
        "id": "A_7xm-SFg4De"
      },
      "source": [
        "def plot_basemap(year, month, cat, st_num):\n",
        "  \"\"\"Plot basemap according to year, month, category and station numbers\"\"\"\n",
        "\n",
        "  #Slice the corresponding dataframe depending on the selected category\n",
        "  if cat == 'Starting_stations':\n",
        "    hm_df = st_loc_clean[(st_loc_clean['year']==year) & (st_loc_clean['month']==month)].copy()\n",
        "    hm_df = hm_df.drop(columns=['year', 'month', 'name', 'mean_min'])\n",
        "  elif cat == 'Destination_stations':\n",
        "    hm_df = en_loc_clean[(en_loc_clean['year']==year) & (en_loc_clean['month']==month)].copy()\n",
        "    hm_df = hm_df.drop(columns=['year', 'month', 'name', 'mean_min'])\n",
        "\n",
        "  #Create a function to convert lat, lon, and weight to list. Folium does not take DataFrames\n",
        "  def convert_to_list(df):\n",
        "    \"\"\"Convert dataframe to list of lat, lon and weight\"\"\"\n",
        "    lat = df['lat'].to_numpy(dtype=float)\n",
        "    lon = df['lon'].to_numpy(dtype=float)\n",
        "    weight = df['trips'].to_numpy(dtype=float)\n",
        "    return [[l, g, w] for l, g, w in zip(lat, lon, weight)]\n",
        "\n",
        "  #Convert lat, long and weight to lists of list\n",
        "  heat_data = convert_to_list(hm_df)\n",
        "\n",
        "  #Generate a basemap\n",
        "  basemap = generate_basemap()\n",
        "\n",
        "  #Create a HeatMap with lat, lon and number of trips\n",
        "  HeatMap(heat_data[:st_num]).add_to(basemap)\n",
        "\n",
        "  #Plot the basemap\n",
        "  return basemap"
      ],
      "execution_count": 20,
      "outputs": []
    },
    {
      "cell_type": "code",
      "metadata": {
        "id": "ldTE0dt6lWSS"
      },
      "source": [
        "#Generating widgets options for HeatMap\n",
        "yr = [2020, 2021]\n",
        "months = ['January', 'February', 'March', 'April', 'May', 'June', 'July', 'August', 'September', 'October', 'November', 'December']\n",
        "category = ['Starting_stations', 'Destination_stations']\n",
        "num = [i for i in range(5, 251, 5)]"
      ],
      "execution_count": 25,
      "outputs": []
    },
    {
      "cell_type": "markdown",
      "metadata": {
        "id": "mw77R1OZqoni"
      },
      "source": [
        "###Visualizing Bysykkel Location Data"
      ]
    },
    {
      "cell_type": "code",
      "metadata": {
        "colab": {
          "base_uri": "https://localhost:8080/",
          "height": 994,
          "referenced_widgets": [
            "427b830da497451d93cbc8ba8fc20bf6",
            "7837a7de3d7b45e493a64c2e1417f413",
            "b05422a435ec4c46bb470c3237c25a1c",
            "a25eaa7c5f8e446291e05b628e6d9ac3",
            "c5e1efcc8c824ae8ac83413cc6aa95ae",
            "666a400cd5174de786067ce85b43df12",
            "2ac7df9726a6432bb7b93d3647045fc1",
            "b7ed8401563b467581638b0cf5597ba2",
            "fe1f30fab7064fcf8cb6b4b484feafd2",
            "3459acdba16b4814916e32bf6646646b",
            "bf8c35d752c84a888aa58f272f5c0651",
            "7027e4f1cb0948b0a1b43db8e2e1f0f6",
            "b3c296e4253746938e8127ae10933ffb",
            "d333a32c899f4b7b9f510b906fb3e7f1",
            "da391f279ba14c60b94efce10fb41a53",
            "9ac5020f573649a0a2849afffdb9ed47"
          ]
        },
        "id": "rXEmbaCdg4OK",
        "outputId": "631f7fe3-bd7a-4e3e-8c2b-280b921a192d"
      },
      "source": [
        "#Plotting interactive HeatMap for Bysykkel data\n",
        "interact(plot_basemap,\n",
        "         year=widgets.Dropdown(options=yr, value=yr[0], description='Year', disabled=False),\n",
        "         month=widgets.Dropdown(options=months, value=months[2], description='Month', disabled=False),\n",
        "         cat=widgets.Dropdown(options=category, value=category[0], description='Category', disabled=False),\n",
        "         st_num=widgets.Dropdown(options=num, value=num[3], description='Stations', disabled=False))\n",
        "plt.show()"
      ],
      "execution_count": 21,
      "outputs": [
        {
          "output_type": "display_data",
          "data": {
            "application/vnd.jupyter.widget-view+json": {
              "model_id": "427b830da497451d93cbc8ba8fc20bf6",
              "version_minor": 0,
              "version_major": 2
            },
            "text/plain": [
              "interactive(children=(Dropdown(description='Year', options=(2020, 2021), value=2020), Dropdown(description='Mo…"
            ]
          },
          "metadata": {
            "tags": []
          }
        }
      ]
    },
    {
      "cell_type": "markdown",
      "metadata": {
        "id": "ewlYx-sRZeTF"
      },
      "source": [
        "###Starting Stations Dashboard"
      ]
    },
    {
      "cell_type": "code",
      "metadata": {
        "id": "DomhNZZvZdMH"
      },
      "source": [
        "#Creating a function to plot the interactive dashboard for starting stations\n",
        "\n",
        "def plot_start_dashboard(year, month):\n",
        "  \"\"\"Plot the top starting stations, average minutes per station, roush hours and monthly rides for the selected year\"\"\"\n",
        "  \n",
        "  #Creating slices of the dataframes  \n",
        "  df1 = st_loc_clean[(st_loc_clean['year']==year) & (st_loc_clean['month']==month)].copy()\n",
        "  df2 = st_hr_clean[(st_hr_clean['year']==year) & (st_hr_clean['month']==month)].copy()\n",
        "  df3 = st_loc_clean[st_loc_clean['year']==year].copy()\n",
        "  df3 = df3.groupby(['month']).agg(month_trips=('trips', 'sum')).reset_index()\n",
        "\n",
        "  #Creating constants for plotting\n",
        "  hours = [i for i in range(0, 24)]\n",
        "  ord_months = ['January', 'February', 'March', 'April', 'May', 'June', 'July', 'August', 'September', 'October', 'November', 'December']\n",
        "\n",
        "  #Create four subplots and unpack the output array immediately\n",
        "  fig, ((ax1, ax2), (ax3, ax4)) = plt.subplots(nrows=2, ncols=2, figsize=(20,10))\n",
        "\n",
        "  #Set title for the figure\n",
        "  fig.suptitle(\"Bysykkel Dashboard - Starting Stations\", fontsize=24)\n",
        "\n",
        "  #Accessing axes objects and plotting\n",
        "  sns.barplot(x='name', y='trips', data=df1[:5], ax=ax1)\n",
        "  sns.barplot(x='name', y='mean_min', data=df1[:5], ax=ax2)\n",
        "  sns.barplot(x='hour', y='count', data=df2, order=hours, ax=ax3)\n",
        "  sns.barplot(x='month', y='month_trips', data=df3, order=ord_months, ax=ax4)\n",
        "    \n",
        "  #Customizing axes labels and titles for first axes figure\n",
        "  ax1.set_xlabel('Station names')\n",
        "  ax1.set_ylabel('Number of Trips')\n",
        "  ax1.set_title(f'Top 5 starting stations for {month} {year}')\n",
        "  \n",
        "  #Customizing axes labels and titles for second axes figure\n",
        "  ax2.set_xlabel('Station names')\n",
        "  ax2.set_ylabel('Minutes')\n",
        "  ax2.set_title(f'Average ride per station (in minutes) for {month} {year}')\n",
        "\n",
        "  #Customizing axes labels and titles for third axes figure\n",
        "  ax3.set_xlabel('Hours of day')\n",
        "  ax3.set_ylabel('Number of Trips')\n",
        "  ax3.set_title(f'Rush hours for {month} {year}')\n",
        "\n",
        "  #Customizing axes labels and titles for fourth axes figure\n",
        "  ax4.set_xlabel('Months')\n",
        "  ax4.set_ylabel('Number of Trips')\n",
        "  ax4.set_title(f'Total rides per month during {year}')\n",
        "\n",
        "  #Prevent from axis to colliding or overlaping one another.\n",
        "  fig.tight_layout()\n",
        "  fig.subplots_adjust(top=0.88)"
      ],
      "execution_count": 22,
      "outputs": []
    },
    {
      "cell_type": "code",
      "metadata": {
        "colab": {
          "base_uri": "https://localhost:8080/",
          "height": 784,
          "referenced_widgets": [
            "3f6f229fedb540d1bc8bc454c74cff41",
            "76211fc92bd747b68c3a740cbcced85f",
            "1ffd9052c5a34f41825099cf7ce40540",
            "10e433ce57b5441abdca701140e31498",
            "e3e7c63a91e84fed8de9f4c75927e514",
            "f512160db2284a4192d922e35c9d3e07",
            "30268bcb861847419d9849c011af6dd4",
            "71bd92f4432e4cae91d163438fa129cd",
            "21531da0bd6949339e4700aa5db14080",
            "d33eb03ad811410fba60bc0e96fe5cec"
          ]
        },
        "id": "HuGuEnNXbokP",
        "outputId": "e2aba72e-c612-483b-b290-87ab405d00f6"
      },
      "source": [
        "#Plotting Bysykkel dashboard for starting stations with interactive widgets\n",
        "interact(plot_start_dashboard,\n",
        "         year=widgets.Dropdown(options=yr, value=yr[0], description='Year', disabled=False),\n",
        "         month=widgets.Dropdown(options=months, value=months[2], description='Month', disabled=False))\n",
        "plt.show()"
      ],
      "execution_count": 27,
      "outputs": [
        {
          "output_type": "display_data",
          "data": {
            "application/vnd.jupyter.widget-view+json": {
              "model_id": "3f6f229fedb540d1bc8bc454c74cff41",
              "version_minor": 0,
              "version_major": 2
            },
            "text/plain": [
              "interactive(children=(Dropdown(description='Year', options=(2020, 2021), value=2020), Dropdown(description='Mo…"
            ]
          },
          "metadata": {
            "tags": []
          }
        }
      ]
    },
    {
      "cell_type": "markdown",
      "metadata": {
        "id": "EAhFcX_zD2KM"
      },
      "source": [
        "###Destination Stations Dashboard"
      ]
    },
    {
      "cell_type": "code",
      "metadata": {
        "id": "8vs3z4QSEDs_"
      },
      "source": [
        "#Creating a function to plot the interactive dashboard for starting stations\n",
        "\n",
        "def plot_destination_dashboard(year, month):\n",
        "  \"\"\"Plot the top destination stations, average minutes per station, roush hours and monthly rides for the selected year\"\"\"\n",
        "  \n",
        "  #Creating slices of the dataframes  \n",
        "  df1 = en_loc_clean[(en_loc_clean['year']==year) & (en_loc_clean['month']==month)].copy()\n",
        "  df2 = en_hr_clean[(en_hr_clean['year']==year) & (en_hr_clean['month']==month)].copy()\n",
        "  df3 = en_loc_clean[en_loc_clean['year']==year].copy()\n",
        "  df3 = df3.groupby(['month']).agg(month_trips=('trips', 'sum')).reset_index()\n",
        "\n",
        "  #Creating constants for plotting\n",
        "  hours = [i for i in range(0, 24)]\n",
        "  ord_months = ['January', 'February', 'March', 'April', 'May', 'June', 'July', 'August', 'September', 'October', 'November', 'December']\n",
        "\n",
        "  #Create four subplots and unpack the output array immediately\n",
        "  fig, ((ax1, ax2), (ax3, ax4)) = plt.subplots(nrows=2, ncols=2, figsize=(20,10))\n",
        "\n",
        "  #Set title for the figure\n",
        "  fig.suptitle(\"Bysykkel Dashboard - Destionation Stations\", fontsize=24)\n",
        "\n",
        "  #Accessing axes objects and plotting\n",
        "  sns.barplot(x='name', y='trips', data=df1[:5], ax=ax1)\n",
        "  sns.barplot(x='name', y='mean_min', data=df1[:5], ax=ax2)\n",
        "  sns.barplot(x='hour', y='count', data=df2, order=hours, ax=ax3)\n",
        "  sns.barplot(x='month', y='month_trips', data=df3, order=ord_months, ax=ax4)\n",
        "    \n",
        "  #Customizing axes labels and titles for first axes figure\n",
        "  ax1.set_xlabel('Station names')\n",
        "  ax1.set_ylabel('Number of Trips')\n",
        "  ax1.set_title(f'Top 5 destionation stations for {month} {year}')\n",
        "  \n",
        "  #Customizing axes labels and titles for second axes figure\n",
        "  ax2.set_xlabel('Station names')\n",
        "  ax2.set_ylabel('Minutes')\n",
        "  ax2.set_title(f'Average ride per station (in minutes) for {month} {year}')\n",
        "\n",
        "  #Customizing axes labels and titles for third axes figure\n",
        "  ax3.set_xlabel('Hours of day')\n",
        "  ax3.set_ylabel('Number of Trips')\n",
        "  ax3.set_title(f'Rush hours for {month} {year}')\n",
        "\n",
        "  #Customizing axes labels and titles for fourth axes figure\n",
        "  ax4.set_xlabel('Months')\n",
        "  ax4.set_ylabel('Number of Trips')\n",
        "  ax4.set_title(f'Total rides per month during {year}')\n",
        "\n",
        "  #Prevent from axis to colliding or overlaping one another.\n",
        "  fig.tight_layout()\n",
        "  fig.subplots_adjust(top=0.88)"
      ],
      "execution_count": 29,
      "outputs": []
    },
    {
      "cell_type": "code",
      "metadata": {
        "colab": {
          "base_uri": "https://localhost:8080/",
          "height": 784,
          "referenced_widgets": [
            "4ae76ca08b2c4ba1ac02cffac97523e0",
            "ca28c78eabca46abb154e509501d58f0",
            "355038ae85b64f89bfdc12e37eab170b",
            "bb72f0e886ce4f60869de393571711cd",
            "d23ce58d96de44baa60824f70ba7aa4a",
            "7bfb3df3defa4804b267e458dfae8f95",
            "573597dbfba345639d5cbfadd82108b2",
            "7ca1186d01404563be85b5bf3eaa724a",
            "ee4fcb0f3b154b06ace92c5f6f8fa4ce",
            "c6b5bd968240477e874a75d36dd13a9c"
          ]
        },
        "id": "EoBeEDssExBu",
        "outputId": "ac6ce338-7d0b-499f-d0c4-8da5a7ab50d5"
      },
      "source": [
        "#Plotting Bysykkel dashboard for destionation stations with interactive widgets\n",
        "interact(plot_destination_dashboard,\n",
        "         year=widgets.Dropdown(options=yr, value=yr[0], description='Year', disabled=False),\n",
        "         month=widgets.Dropdown(options=months, value=months[2], description='Month', disabled=False))\n",
        "plt.show()"
      ],
      "execution_count": 30,
      "outputs": [
        {
          "output_type": "display_data",
          "data": {
            "application/vnd.jupyter.widget-view+json": {
              "model_id": "4ae76ca08b2c4ba1ac02cffac97523e0",
              "version_minor": 0,
              "version_major": 2
            },
            "text/plain": [
              "interactive(children=(Dropdown(description='Year', options=(2020, 2021), value=2020), Dropdown(description='Mo…"
            ]
          },
          "metadata": {
            "tags": []
          }
        }
      ]
    },
    {
      "cell_type": "markdown",
      "metadata": {
        "id": "EQ96RybtclrJ"
      },
      "source": [
        "###Starting vs Destination Dashboard"
      ]
    },
    {
      "cell_type": "code",
      "metadata": {
        "id": "twtSgIBm6S9D"
      },
      "source": [
        "#Creating a function to plot the interactive dashboard\n",
        "\n",
        "def plot_dashboard(year, month):\n",
        "  \"\"\"Plot the starting point of trips, location and average minutes per station \"\"\"\n",
        "  \n",
        "  #Creating slices of the dataframes  \n",
        "  df1 = st_loc_clean[(st_loc_clean['year']==year) & (st_loc_clean['month']==month)].copy()\n",
        "  df2 = en_loc_clean[(en_loc_clean['year']==year) & (en_loc_clean['month']==month)].copy()\n",
        "  df3 = st_hr_clean[(st_hr_clean['year']==year) & (st_hr_clean['month']==month)].copy()\n",
        "  df4 = en_hr_clean[(en_hr_clean['year']==year) & (en_hr_clean['month']==month)].copy()\n",
        "\n",
        "  #Creating constants for plotting\n",
        "  hours = [i for i in range(0, 24)]\n",
        "\n",
        "  #Create four subplots and unpack the output array immediately\n",
        "  fig, ((ax1, ax2), (ax3, ax4)) = plt.subplots(nrows=2, ncols=2, figsize=(20,10))\n",
        "\n",
        "  #Set title for the figure\n",
        "  fig.suptitle(\"Bysykkel Dashboard\", fontsize=24)\n",
        "\n",
        "  #Accessing axes objects and plotting\n",
        "  sns.barplot(x='name', y='trips', data=df1[:5], ax=ax1)\n",
        "  sns.barplot(x='name', y='trips', data=df2[:5], ax=ax2)\n",
        "  sns.barplot(x='hour', y='count', data=df3, order=hours, ax=ax3)\n",
        "  sns.barplot(x='hour', y='count', data=df4, order=hours, ax=ax4)\n",
        "    \n",
        "  #Customizing axes labels and titles for first axes figure\n",
        "  ax1.set_xlabel('Station names')\n",
        "  ax1.set_ylabel('Number of Trips')\n",
        "  ax1.set_title('Top 5 start stations')\n",
        "  \n",
        "  #Customizing axes labels and titles for second axes figure\n",
        "  ax2.set_xlabel('Station names')\n",
        "  ax2.set_ylabel('Number of Trips')\n",
        "  ax2.set_title('Top 5 destination stations')\n",
        "\n",
        "  #Customizing axes labels and titles for third axes figure\n",
        "  ax3.set_xlabel('Hours of day')\n",
        "  ax3.set_ylabel('Number of Trips')\n",
        "  ax3.set_title('Start trips rush hours')\n",
        "\n",
        "  #Customizing axes labels and titles for third axes figure\n",
        "  ax4.set_xlabel('Hours of day')\n",
        "  ax4.set_ylabel('Number of Trips')\n",
        "  ax4.set_title('Destination trips rush hours')\n",
        "\n",
        "  #Prevent from axis to colliding or overlaping one another.\n",
        "  fig.tight_layout()\n",
        "  fig.subplots_adjust(top=0.88)"
      ],
      "execution_count": null,
      "outputs": []
    },
    {
      "cell_type": "code",
      "metadata": {
        "colab": {
          "base_uri": "https://localhost:8080/",
          "height": 781,
          "referenced_widgets": [
            "e1a503b0cf9b4e6a98808a6c09ace44d",
            "0dabd091c136427eb24bae894c146c93",
            "1ddc5631ccfb41f397c2dd20533ad232",
            "6ac689085d504563b7ddf67293253618",
            "c33f187d6cc9426db7dcd659cedc52c4",
            "4c005c7e46c0455eb8ffe56621495f4d",
            "a23e5f181bdc4307a923f21393d283eb",
            "1ac7e0b6086344b58901d60f8af41968",
            "0ccef66e16b44bdbb728d5aa8b5dfc71",
            "8f10537f0ebe4337a70b8e58567ad48c"
          ]
        },
        "id": "5uQ7SiroCYyr",
        "outputId": "038c5f76-b8f6-4f88-f7fb-815911f14315"
      },
      "source": [
        "#Plotting Bysykkel dashboard with interactive widgets\n",
        "interact(plot_dashboard,\n",
        "         year=widgets.Dropdown(options=yr, value=yr[0], description='Year', disabled=False),\n",
        "         month=widgets.Dropdown(options=month, value=month[2], description='Month', disabled=False))\n",
        "plt.show()"
      ],
      "execution_count": null,
      "outputs": [
        {
          "output_type": "display_data",
          "data": {
            "application/vnd.jupyter.widget-view+json": {
              "model_id": "e1a503b0cf9b4e6a98808a6c09ace44d",
              "version_minor": 0,
              "version_major": 2
            },
            "text/plain": [
              "interactive(children=(Dropdown(description='Year', options=(2020, 2021), value=2020), Dropdown(description='Mo…"
            ]
          },
          "metadata": {
            "tags": []
          }
        }
      ]
    },
    {
      "cell_type": "code",
      "metadata": {
        "id": "Z0fKDBIXA5Q6"
      },
      "source": [
        "  #Create FeatureGroup\n",
        "  fg = folium.FeatureGroup(name='Oslo_map')\n",
        "  \n",
        "  #Add Markers to basemap\n",
        "  for lt, lo, we in zip(lat[:st_num], lon[:st_num], weight[:st_num]):\n",
        "    fg.add_child(folium.Marker(location=[lt, lo], popup=we))\n",
        "  basemap.add_child(fg)"
      ],
      "execution_count": null,
      "outputs": []
    }
  ]
}