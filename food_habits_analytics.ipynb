{
  "nbformat": 4,
  "nbformat_minor": 0,
  "metadata": {
    "colab": {
      "provenance": [],
      "collapsed_sections": [
        "eTZwpRZNRhGY",
        "sgzkv1LwjLIL",
        "XcMODXQNx0mo",
        "HPqfPQd9D3B0"
      ],
      "authorship_tag": "ABX9TyMTBdH2FZkthm+ORc204vDR",
      "include_colab_link": true
    },
    "kernelspec": {
      "name": "python3",
      "display_name": "Python 3"
    },
    "language_info": {
      "name": "python"
    }
  },
  "cells": [
    {
      "cell_type": "markdown",
      "metadata": {
        "id": "view-in-github",
        "colab_type": "text"
      },
      "source": [
        "<a href=\"https://colab.research.google.com/github/gabrielborja/python_data_analysis/blob/main/food_habits_analytics.ipynb\" target=\"_parent\"><img src=\"https://colab.research.google.com/assets/colab-badge.svg\" alt=\"Open In Colab\"/></a>"
      ]
    },
    {
      "cell_type": "markdown",
      "metadata": {
        "id": "eTZwpRZNRhGY"
      },
      "source": [
        "# Food habits analytics"
      ]
    },
    {
      "cell_type": "markdown",
      "metadata": {
        "id": "sgzkv1LwjLIL"
      },
      "source": [
        "## Uploading packages and data"
      ]
    },
    {
      "cell_type": "code",
      "metadata": {
        "id": "QTRtRZcb-IyF"
      },
      "source": [
        "#Importing necessary packages\n",
        "import numpy as np\n",
        "import pandas as pd"
      ],
      "execution_count": null,
      "outputs": []
    },
    {
      "cell_type": "code",
      "metadata": {
        "id": "oen97ED1-rh-"
      },
      "source": [
        "#Uploading google sheet data from drive\n",
        "from google.colab import auth\n",
        "auth.authenticate_user()\n",
        "\n",
        "import gspread\n",
        "from google.auth import default\n",
        "creds, _ = default()\n",
        "\n",
        "gc = gspread.authorize(creds)\n",
        "\n",
        "#Loading dataset from google sheet\n",
        "wb1 = gc.open('food_habits')\n",
        "ws1_data = wb1.sheet1\n",
        "records_1 = ws1_data.get_all_records()\n",
        "\n",
        "# Converting to a Pandas DataFrame\n",
        "df1 = pd.DataFrame.from_records(records_1)\n",
        "df1.tail(3)"
      ],
      "execution_count": null,
      "outputs": []
    },
    {
      "cell_type": "code",
      "metadata": {
        "id": "-_RIDGJurxGe"
      },
      "source": [
        "#Checking the dataframe info\n",
        "df1.info()"
      ],
      "execution_count": null,
      "outputs": []
    },
    {
      "cell_type": "markdown",
      "metadata": {
        "id": "XcMODXQNx0mo"
      },
      "source": [
        "##Data Manipulation"
      ]
    },
    {
      "cell_type": "code",
      "source": [
        "#Converting date columns to datetime objects\n",
        "df1['event'] = pd.to_datetime(df1['event'], format='%Y-%m-%d %H:%M:%S')"
      ],
      "metadata": {
        "id": "W9HncnVSUS53"
      },
      "execution_count": null,
      "outputs": []
    },
    {
      "cell_type": "code",
      "metadata": {
        "id": "p7o3rUk18tXB"
      },
      "source": [
        "#Extracting year, month, day of the week, hour and count of ingredients\n",
        "df1 = df1.assign(year = df1['event'].dt.year,\n",
        "                 month = df1['event'].dt.month,\n",
        "                 day = df1['event'].dt.dayofweek,\n",
        "                 hour = df1['event'].dt.hour,\n",
        "                 ing_count = [len(i.split(', ')) for i in df1['food']])\n",
        "df1.tail(3)"
      ],
      "execution_count": null,
      "outputs": []
    },
    {
      "cell_type": "code",
      "metadata": {
        "id": "g_-OoEbO-ciL"
      },
      "source": [
        "#Filtering the dataframe and assigning categories for 2021 where stomach ache appeared\n",
        "df1_2021 = df1[(df1['year']==2021) & (df1['ache']==1)].reset_index(drop=True)\n",
        "df1_2021 = df1_2021.assign(cat = np.select(condlist=[(df1_2021['month']<6), ((df1_2021['month']>=6) & (df1_2021['month']<10)), (df1_2021['month']==10),\n",
        "                                                    (df1_2021['month']>=11)], choicelist=['milk_diet', 'lactose_free', 'rotavirus', 'post_virus']))\n",
        "df1_2021.tail(2)"
      ],
      "execution_count": null,
      "outputs": []
    },
    {
      "cell_type": "code",
      "metadata": {
        "id": "-fpQS71tjgif"
      },
      "source": [
        "#Calculating range of days between events and converting to int (days)\n",
        "df1_2021 = df1_2021.assign(event_2 = df1_2021['event'].shift(fill_value=np.nan))\n",
        "df1_2021 = df1_2021.assign(num_of_days = (df1_2021['event'] - df1_2021['event_2']))\n",
        "df1_2021 = df1_2021.assign(num_of_days = df1_2021['num_of_days'].replace(np.nan, 0))\n",
        "df1_2021 = df1_2021.assign(num_of_days = (df1_2021['num_of_days'].astype(int))/8.64e+13) #==> Converting from ns to days\n",
        "df1_2021.tail(3)"
      ],
      "execution_count": null,
      "outputs": []
    },
    {
      "cell_type": "code",
      "source": [
        "#Calculating porcentage of change between stomach ache events\n",
        "df1_2021 = df1_2021.assign(pct_days = df1_2021['num_of_days'].pct_change())\n",
        "df1_2021 = df1_2021.assign(pct_days = df1_2021['pct_days'].replace(np.nan, 0))"
      ],
      "metadata": {
        "id": "ojwL5uucfSI_"
      },
      "execution_count": null,
      "outputs": []
    },
    {
      "cell_type": "code",
      "source": [
        "#Replacing int days for name days\n",
        "days_dict = {0: 'Mon', 1:'Tue', 2:'Wed', 3:'Thu', 4:'Fri', 5:'Sat', 6:'Sun'}\n",
        "df1_2021['day'] = df1_2021['day'].replace(to_replace=days_dict)"
      ],
      "metadata": {
        "id": "HFzT0SHLX0YD"
      },
      "execution_count": null,
      "outputs": []
    },
    {
      "cell_type": "code",
      "source": [
        "#Counting the proportion of stomach aches by the day of the week\n",
        "df1_2021['day'].value_counts(normalize=True)"
      ],
      "metadata": {
        "id": "OnLaMdxxZANN"
      },
      "execution_count": null,
      "outputs": []
    },
    {
      "cell_type": "code",
      "source": [
        "#Counting the proportion of stomach aches by hour of the day\n",
        "df1_2021['hour'].value_counts(normalize=True)"
      ],
      "metadata": {
        "id": "lB4XswxyaEdF"
      },
      "execution_count": null,
      "outputs": []
    },
    {
      "cell_type": "code",
      "metadata": {
        "id": "iYhftSvvGwyp"
      },
      "source": [
        "#Transforming aching meals into list\n",
        "ache_1 = df1[df1['ache']==1]['food'].str.cat(sep=', ').split(\", \")\n",
        "ache_1[:5]"
      ],
      "execution_count": null,
      "outputs": []
    },
    {
      "cell_type": "code",
      "metadata": {
        "id": "pQPl8o8fGwyr"
      },
      "source": [
        "#Building a dictionary of occurrences for each food\n",
        "import collections\n",
        "ache_occurrences = collections.Counter(ache_1)\n",
        "ache_occurrences.get('bread')"
      ],
      "execution_count": null,
      "outputs": []
    },
    {
      "cell_type": "code",
      "metadata": {
        "id": "5CrC7gi2Gwyr"
      },
      "source": [
        "#Transforming list of aching meals into series\n",
        "ache_meal_1 = pd.Series(data=ache_1)\n",
        "ache_meal_1.tail()"
      ],
      "execution_count": null,
      "outputs": []
    },
    {
      "cell_type": "code",
      "metadata": {
        "id": "qYDTaA_KGwys"
      },
      "source": [
        "#Counting top foods in diet\n",
        "ache_meal_1 = ache_meal_1.value_counts().reset_index(name='count').rename(columns={'index':'food'})\n",
        "ache_meal_1.head()"
      ],
      "execution_count": null,
      "outputs": []
    },
    {
      "cell_type": "code",
      "metadata": {
        "id": "InUi_lSAO7my"
      },
      "source": [
        "#Exporting to excel into local disk\n",
        "#from google.colab import files\n",
        "#ache_meal_1.to_excel('food_count.xlsx', index=False) #==> Excluding index from file\n",
        "#files.download('food_count.xlsx')"
      ],
      "execution_count": null,
      "outputs": []
    },
    {
      "cell_type": "markdown",
      "metadata": {
        "id": "HPqfPQd9D3B0"
      },
      "source": [
        "##Data Visualization"
      ]
    },
    {
      "cell_type": "code",
      "metadata": {
        "id": "7FRgED7uPOe1"
      },
      "source": [
        "#Importing visualization libraries\n",
        "import matplotlib.pyplot as plt\n",
        "import seaborn as sns"
      ],
      "execution_count": null,
      "outputs": []
    },
    {
      "cell_type": "code",
      "metadata": {
        "id": "2vYQmrcP7r-i"
      },
      "source": [
        "#Customizing data visualization styles\n",
        "sns.set_theme(rc = {'figure.figsize': (10, 4)})"
      ],
      "execution_count": null,
      "outputs": []
    },
    {
      "cell_type": "code",
      "metadata": {
        "id": "WjMDpMNPJBqg"
      },
      "source": [
        "#Plotting the top 10 ingredients in diet\n",
        "sns.barplot(x='food', y='count', data=ache_meal_1[:10])\n",
        "plt.title('Top 10 ingredients in diet in 2021')\n",
        "plt.show()"
      ],
      "execution_count": null,
      "outputs": []
    },
    {
      "cell_type": "code",
      "metadata": {
        "id": "aBwgQtXi57h6"
      },
      "source": [
        "#Plotting the number of stomach ache by day of the week\n",
        "sns.countplot(x='day', data=df1_2021, order=['Mon', 'Tue', 'Wed', 'Thu', 'Fri', 'Sat', 'Sun'])\n",
        "plt.title('Count of stomach ache by day of the week in 2021')\n",
        "plt.show()"
      ],
      "execution_count": null,
      "outputs": []
    },
    {
      "cell_type": "code",
      "metadata": {
        "id": "07B1DjGf7Yyt"
      },
      "source": [
        "#Plotting the number of stomach ache by month\n",
        "sns.countplot(x='month', data=df1_2021, hue='cat')\n",
        "plt.title('Count of stomach ache by month in 2021')\n",
        "plt.show()"
      ],
      "execution_count": null,
      "outputs": []
    },
    {
      "cell_type": "code",
      "source": [
        "#Plotting the spread of stomache ache by hour of the day\n",
        "sns.scatterplot(x='event', y='hour', data=df1_2021, hue='cat')\n",
        "plt.title('Stomach Ache by hour of the day in 2021')\n",
        "plt.show()"
      ],
      "metadata": {
        "id": "D6VLrsiwhmoN"
      },
      "execution_count": null,
      "outputs": []
    },
    {
      "cell_type": "markdown",
      "source": [
        "###Variability graphs"
      ],
      "metadata": {
        "id": "mkSHtrOrhKzg"
      }
    },
    {
      "cell_type": "code",
      "metadata": {
        "id": "vYPranzDDkpc"
      },
      "source": [
        "#Plotting the boxplot of days between stomach ache\n",
        "sns.boxplot(x='num_of_days', y='cat', data=df1_2021, hue='cat')\n",
        "plt.title('Days without stomach ache - Before and after first diagnose in 2021')\n",
        "plt.show()"
      ],
      "execution_count": null,
      "outputs": []
    },
    {
      "cell_type": "code",
      "metadata": {
        "id": "eN4JXt6LhFgs"
      },
      "source": [
        "#Plotting the boxplot of number of ingredients present in diet\n",
        "sns.boxplot(x='ing_count', y='cat', data=df1_2021, hue='cat')\n",
        "plt.title('Number of ingredients in diet - Before and after first diagnose in 2021')\n",
        "plt.show()"
      ],
      "execution_count": null,
      "outputs": []
    },
    {
      "cell_type": "code",
      "metadata": {
        "id": "_gzKRMsMqCmT"
      },
      "source": [
        "#Plotting the histogram of hours for stomach ache\n",
        "sns.histplot(x='hour', data=df1_2021, hue='cat')\n",
        "plt.title('Most common hours for stomach ache - 2021')\n",
        "plt.show()"
      ],
      "execution_count": null,
      "outputs": []
    },
    {
      "cell_type": "markdown",
      "metadata": {
        "id": "IszVO9hyPzR1"
      },
      "source": [
        "# Facilities analytics"
      ]
    },
    {
      "cell_type": "markdown",
      "metadata": {
        "id": "PEMXM4PiPzR2"
      },
      "source": [
        "## Uploading packages and data"
      ]
    },
    {
      "cell_type": "code",
      "metadata": {
        "id": "3H7UfVocPzR2"
      },
      "source": [
        "# Importing necessary packages\n",
        "import numpy as np\n",
        "import pandas as pd\n",
        "import matplotlib.pyplot as plt\n",
        "import seaborn as sns\n",
        "from ipywidgets import interact"
      ],
      "execution_count": null,
      "outputs": []
    },
    {
      "cell_type": "code",
      "source": [
        "# Setting the plot size\n",
        "sns.set(rc = {'figure.figsize': (12, 5)})"
      ],
      "metadata": {
        "id": "mj7X-CmjVtxy"
      },
      "execution_count": null,
      "outputs": []
    },
    {
      "cell_type": "code",
      "metadata": {
        "id": "RdNygs0TPzR2"
      },
      "source": [
        "# Uploading google sheet data from drive\n",
        "from google.colab import auth\n",
        "auth.authenticate_user()\n",
        "\n",
        "import gspread\n",
        "from google.auth import default\n",
        "creds, _ = default()\n",
        "\n",
        "gc2 = gspread.authorize(creds)\n",
        "\n",
        "# Loading dataset from google sheet\n",
        "wb2 = gc2.open('facilities_data')\n",
        "ws2_data = wb2.sheet1\n",
        "records_2 = ws2_data.get_all_records()\n",
        "\n",
        "# Converting to a Pandas DataFrame\n",
        "df2 = pd.DataFrame.from_records(records_2)\n",
        "df2.tail(1)"
      ],
      "execution_count": null,
      "outputs": []
    },
    {
      "cell_type": "code",
      "metadata": {
        "id": "SXJtKtKqPzR3"
      },
      "source": [
        "# Checking the dataframe info\n",
        "df2.info()"
      ],
      "execution_count": null,
      "outputs": []
    },
    {
      "cell_type": "markdown",
      "metadata": {
        "id": "broLyp7xPzR4"
      },
      "source": [
        "##Data Manipulation"
      ]
    },
    {
      "cell_type": "code",
      "source": [
        "# Converting date columns to datetime objects\n",
        "df2['event'] = pd.to_datetime(df2['event'], format='%Y-%m-%d %H:%M:%S')"
      ],
      "metadata": {
        "id": "RhKDH4h3PzR4"
      },
      "execution_count": null,
      "outputs": []
    },
    {
      "cell_type": "code",
      "metadata": {
        "id": "9_j0jCO_PzR5"
      },
      "source": [
        "# Extracting year, month, day of the week, hour and date categories\n",
        "df2 = df2.assign(year = df2['event'].dt.year,\n",
        "                 month = df2['event'].dt.month,\n",
        "                 weeknum = df2['event'].dt.isocalendar().week,\n",
        "                 day = df2['event'].dt.day_name(),\n",
        "                 hour = df2['event'].dt.hour,\n",
        "                 date = df2['event'].dt.round('D')) #=> Gets rid of hour-min-sec"
      ],
      "execution_count": null,
      "outputs": []
    },
    {
      "cell_type": "code",
      "source": [
        "# Extracting cumulative count category\n",
        "df2 = df2.assign(cum_count = df2['count'].cumsum())\n",
        "\n",
        "df2.tail(1)"
      ],
      "metadata": {
        "id": "Ke5f3_EuxkS-"
      },
      "execution_count": null,
      "outputs": []
    },
    {
      "cell_type": "markdown",
      "source": [
        "## Facilities EDA "
      ],
      "metadata": {
        "id": "ngA1ZC6aSCy9"
      }
    },
    {
      "cell_type": "code",
      "source": [
        "# EDA using interact\n",
        "col_list = ['month', 'weeknum', 'day', 'hour']\n",
        "unload_list = [0, 1]\n",
        "@interact(Cat = col_list, Unload = unload_list)\n",
        "def proportion(Cat, Unload):\n",
        "  return df2[(df2['count']!=0) & (df2['unload']==Unload)].value_counts(subset=Cat, normalize=True, dropna=False).reset_index(name='proportion')"
      ],
      "metadata": {
        "id": "dwVaZj2QSF6m"
      },
      "execution_count": null,
      "outputs": []
    },
    {
      "cell_type": "markdown",
      "source": [
        "## Data Visualization"
      ],
      "metadata": {
        "id": "BSc8iNl5X_2z"
      }
    },
    {
      "cell_type": "code",
      "source": [
        "# Scatterplot of facilitites data\n",
        "sns.scatterplot(x='event', y='cum_count', data=df2[df2['unload']==0])\n",
        "sns.scatterplot(x='event', y='cum_count', data=df2[df2['unload']==1], style='unload', markers='X', s=150, legend=False)\n",
        "plt.title('Cumulative Count of events over time')\n",
        "plt.show()"
      ],
      "metadata": {
        "id": "rzE9prk2U6RT"
      },
      "execution_count": null,
      "outputs": []
    },
    {
      "cell_type": "code",
      "source": [
        "# Interactive plot of facilitites data\n",
        "@interact(Cat = col_list)\n",
        "def plot_facilities(Cat):\n",
        "  sns.barplot(x=Cat, y='Count', data=df2.groupby([Cat, 'unload']).agg(Count = ('count', 'sum')).reset_index(), hue='unload', palette=['#e56717', '#007fff'])\n",
        "  plt.title(f'Facilities data for {Cat}')\n",
        "  plt.show()"
      ],
      "metadata": {
        "id": "Nx7uOpHeV-I7"
      },
      "execution_count": null,
      "outputs": []
    }
  ]
}