{
  "nbformat": 4,
  "nbformat_minor": 0,
  "metadata": {
    "colab": {
      "name": "norwegian_grammar.ipynb",
      "provenance": [],
      "authorship_tag": "ABX9TyPvdusudj25+ksyD46TuWTZ",
      "include_colab_link": true
    },
    "kernelspec": {
      "name": "python3",
      "display_name": "Python 3"
    },
    "language_info": {
      "name": "python"
    }
  },
  "cells": [
    {
      "cell_type": "markdown",
      "metadata": {
        "id": "view-in-github",
        "colab_type": "text"
      },
      "source": [
        "<a href=\"https://colab.research.google.com/github/gabrielborja/python_data_analysis/blob/main/norwegian_grammar.ipynb\" target=\"_parent\"><img src=\"https://colab.research.google.com/assets/colab-badge.svg\" alt=\"Open In Colab\"/></a>"
      ]
    },
    {
      "cell_type": "markdown",
      "metadata": {
        "id": "-J_V-3sDkSeW"
      },
      "source": [
        "#Norwegian verbs practice"
      ]
    },
    {
      "cell_type": "markdown",
      "metadata": {
        "id": "U6D7HmWBkPS9"
      },
      "source": [
        "## Uploading packages and data"
      ]
    },
    {
      "cell_type": "code",
      "metadata": {
        "id": "g6o5TMjJkPTA"
      },
      "source": [
        "#Importing necessary libraries\n",
        "import numpy as np\n",
        "import pandas as pd\n",
        "import json\n",
        "import random\n",
        "from datetime import datetime\n",
        "import pytz\n",
        "import matplotlib.pyplot as plt\n",
        "#from IPython.display import clear_outputg\n",
        "from google.colab import output"
      ],
      "execution_count": 1,
      "outputs": []
    },
    {
      "cell_type": "code",
      "metadata": {
        "id": "IgNsO9Cr4t1Q",
        "colab": {
          "base_uri": "https://localhost:8080/",
          "height": 81
        },
        "outputId": "5fec4b1b-7d88-4e6c-8e27-b1833a89a472"
      },
      "source": [
        "#Uploading google sheet from drive\n",
        "from google.colab import auth\n",
        "auth.authenticate_user()\n",
        "\n",
        "import gspread\n",
        "from oauth2client.client import GoogleCredentials\n",
        "\n",
        "gc = gspread.authorize(GoogleCredentials.get_application_default())\n",
        "\n",
        "#Loading first dataset from google sheet\n",
        "wb = gc.open('norske_verb')\n",
        "ws_data = wb.sheet1\n",
        "records_1 = ws_data.get_all_records()\n",
        "\n",
        "# Converting to a Pandas DataFrame\n",
        "df1 = pd.DataFrame.from_records(records_1)\n",
        "df1.head(1)"
      ],
      "execution_count": 2,
      "outputs": [
        {
          "output_type": "execute_result",
          "data": {
            "text/html": [
              "<div>\n",
              "<style scoped>\n",
              "    .dataframe tbody tr th:only-of-type {\n",
              "        vertical-align: middle;\n",
              "    }\n",
              "\n",
              "    .dataframe tbody tr th {\n",
              "        vertical-align: top;\n",
              "    }\n",
              "\n",
              "    .dataframe thead th {\n",
              "        text-align: right;\n",
              "    }\n",
              "</style>\n",
              "<table border=\"1\" class=\"dataframe\">\n",
              "  <thead>\n",
              "    <tr style=\"text-align: right;\">\n",
              "      <th></th>\n",
              "      <th>gruppe</th>\n",
              "      <th>infinitiv</th>\n",
              "      <th>presens</th>\n",
              "      <th>preteritum</th>\n",
              "      <th>perfektum</th>\n",
              "      <th>imperativ</th>\n",
              "      <th>english</th>\n",
              "      <th>validated</th>\n",
              "    </tr>\n",
              "  </thead>\n",
              "  <tbody>\n",
              "    <tr>\n",
              "      <th>0</th>\n",
              "      <td>A</td>\n",
              "      <td>å adlyde</td>\n",
              "      <td>adlyder</td>\n",
              "      <td>adlød</td>\n",
              "      <td>har adlydt</td>\n",
              "      <td></td>\n",
              "      <td>Obey</td>\n",
              "      <td></td>\n",
              "    </tr>\n",
              "  </tbody>\n",
              "</table>\n",
              "</div>"
            ],
            "text/plain": [
              "  gruppe infinitiv  presens preteritum   perfektum imperativ english validated\n",
              "0      A  å adlyde  adlyder      adlød  har adlydt              Obey          "
            ]
          },
          "metadata": {},
          "execution_count": 2
        }
      ]
    },
    {
      "cell_type": "code",
      "metadata": {
        "colab": {
          "base_uri": "https://localhost:8080/"
        },
        "id": "3i1gCk0BYepI",
        "outputId": "3f5b8fc4-130e-4178-96f2-5df54d90c7ef"
      },
      "source": [
        "#Checking the first dataframe info\n",
        "df1.info()"
      ],
      "execution_count": 3,
      "outputs": [
        {
          "output_type": "stream",
          "name": "stdout",
          "text": [
            "<class 'pandas.core.frame.DataFrame'>\n",
            "RangeIndex: 393 entries, 0 to 392\n",
            "Data columns (total 8 columns):\n",
            " #   Column      Non-Null Count  Dtype \n",
            "---  ------      --------------  ----- \n",
            " 0   gruppe      393 non-null    object\n",
            " 1   infinitiv   393 non-null    object\n",
            " 2   presens     393 non-null    object\n",
            " 3   preteritum  393 non-null    object\n",
            " 4   perfektum   393 non-null    object\n",
            " 5   imperativ   393 non-null    object\n",
            " 6   english     393 non-null    object\n",
            " 7   validated   393 non-null    object\n",
            "dtypes: object(8)\n",
            "memory usage: 24.7+ KB\n"
          ]
        }
      ]
    },
    {
      "cell_type": "code",
      "metadata": {
        "colab": {
          "base_uri": "https://localhost:8080/",
          "height": 81
        },
        "id": "mSzGnrnrhkIx",
        "outputId": "5ebc88aa-9450-4fb8-8ce1-eb3fd85b2427"
      },
      "source": [
        "#Loading the second dataset from google sheet\n",
        "ws_data_2 = wb.get_worksheet(1)\n",
        "records_2 = ws_data_2.get_all_records()\n",
        "\n",
        "# Converting to a Pandas DataFrame\n",
        "df2 = pd.DataFrame.from_records(records_2)\n",
        "df2.tail(1)"
      ],
      "execution_count": 4,
      "outputs": [
        {
          "output_type": "execute_result",
          "data": {
            "text/html": [
              "<div>\n",
              "<style scoped>\n",
              "    .dataframe tbody tr th:only-of-type {\n",
              "        vertical-align: middle;\n",
              "    }\n",
              "\n",
              "    .dataframe tbody tr th {\n",
              "        vertical-align: top;\n",
              "    }\n",
              "\n",
              "    .dataframe thead th {\n",
              "        text-align: right;\n",
              "    }\n",
              "</style>\n",
              "<table border=\"1\" class=\"dataframe\">\n",
              "  <thead>\n",
              "    <tr style=\"text-align: right;\">\n",
              "      <th></th>\n",
              "      <th>date</th>\n",
              "      <th>score</th>\n",
              "      <th>known_verbs</th>\n",
              "      <th>wrong_verbs</th>\n",
              "    </tr>\n",
              "  </thead>\n",
              "  <tbody>\n",
              "    <tr>\n",
              "      <th>49</th>\n",
              "      <td>2021-12-07 19:52:22.027075+01:00</td>\n",
              "      <td>76.7</td>\n",
              "      <td>255</td>\n",
              "      <td>['foretar', 'peker', 'tenner', 'skvetter', 'mi...</td>\n",
              "    </tr>\n",
              "  </tbody>\n",
              "</table>\n",
              "</div>"
            ],
            "text/plain": [
              "                                date  ...                                        wrong_verbs\n",
              "49  2021-12-07 19:52:22.027075+01:00  ...  ['foretar', 'peker', 'tenner', 'skvetter', 'mi...\n",
              "\n",
              "[1 rows x 4 columns]"
            ]
          },
          "metadata": {},
          "execution_count": 4
        }
      ]
    },
    {
      "cell_type": "code",
      "metadata": {
        "id": "cuNXd4jUjIAy"
      },
      "source": [
        "#Transforming date column into datetime\n",
        "df2['date'] = pd.to_datetime(df2['date'], utc=True)"
      ],
      "execution_count": 5,
      "outputs": []
    },
    {
      "cell_type": "code",
      "metadata": {
        "colab": {
          "base_uri": "https://localhost:8080/"
        },
        "id": "9Ev_37UJjDFk",
        "outputId": "800dbc82-0af4-44cd-cf0b-cc48ba14305d"
      },
      "source": [
        "#Checking the second dataframe info\n",
        "df2.info()"
      ],
      "execution_count": 6,
      "outputs": [
        {
          "output_type": "stream",
          "name": "stdout",
          "text": [
            "<class 'pandas.core.frame.DataFrame'>\n",
            "RangeIndex: 50 entries, 0 to 49\n",
            "Data columns (total 4 columns):\n",
            " #   Column       Non-Null Count  Dtype              \n",
            "---  ------       --------------  -----              \n",
            " 0   date         50 non-null     datetime64[ns, UTC]\n",
            " 1   score        50 non-null     float64            \n",
            " 2   known_verbs  50 non-null     int64              \n",
            " 3   wrong_verbs  50 non-null     object             \n",
            "dtypes: datetime64[ns, UTC](1), float64(1), int64(1), object(1)\n",
            "memory usage: 1.7+ KB\n"
          ]
        }
      ]
    },
    {
      "cell_type": "markdown",
      "metadata": {
        "id": "jVDPlX_nZcTh"
      },
      "source": [
        "##Generating JSON data"
      ]
    },
    {
      "cell_type": "code",
      "metadata": {
        "id": "hNdsaImkH49w",
        "colab": {
          "base_uri": "https://localhost:8080/"
        },
        "outputId": "df860990-66e2-4e7f-c4d2-c29ed8ce914a"
      },
      "source": [
        "#Printing the number of key values available\n",
        "for i in list(df1['gruppe'].unique()):\n",
        "  print(i, end='-')"
      ],
      "execution_count": 7,
      "outputs": [
        {
          "output_type": "stream",
          "name": "stdout",
          "text": [
            "A-B-D-E-F-G-H-I-J-K-L-M-N-O-P-R-S-T-U-V-Ø-Å-"
          ]
        }
      ]
    },
    {
      "cell_type": "code",
      "metadata": {
        "id": "vNVvkyYuZIUQ"
      },
      "source": [
        "#Transforming dataframe to string (JSON format)\n",
        "df1_str = df1.to_json(orient='records')"
      ],
      "execution_count": 8,
      "outputs": []
    },
    {
      "cell_type": "code",
      "metadata": {
        "id": "v6Jf5gpjZLo1"
      },
      "source": [
        "#Dumping string to JSON file\n",
        "df1_json = json.loads(df1_str)"
      ],
      "execution_count": 9,
      "outputs": []
    },
    {
      "cell_type": "code",
      "metadata": {
        "id": "R3vpu-AXZX0O",
        "colab": {
          "base_uri": "https://localhost:8080/",
          "height": 35
        },
        "outputId": "91665c81-414a-4538-dc30-3eeeb8986da8"
      },
      "source": [
        "#Selecting one arbitrary value from the JSON file\n",
        "df1_json[-1]['english']"
      ],
      "execution_count": null,
      "outputs": [
        {
          "output_type": "execute_result",
          "data": {
            "application/vnd.google.colaboratory.intrinsic+json": {
              "type": "string"
            },
            "text/plain": [
              "'Open'"
            ]
          },
          "metadata": {},
          "execution_count": 7
        }
      ]
    },
    {
      "cell_type": "code",
      "metadata": {
        "colab": {
          "base_uri": "https://localhost:8080/"
        },
        "id": "KH7YifK7aQwS",
        "outputId": "df042b3b-bd33-42ef-b41d-e07efb4b5f55"
      },
      "source": [
        "#Checking the JSON schema\n",
        "df1_json[0]"
      ],
      "execution_count": null,
      "outputs": [
        {
          "output_type": "execute_result",
          "data": {
            "text/plain": [
              "{'english': 'Obey',\n",
              " 'gruppe': 'A',\n",
              " 'imperativ': None,\n",
              " 'infinitiv': 'å adlyde',\n",
              " 'perfektum': 'har adlydt',\n",
              " 'presens': 'adlyder',\n",
              " 'preteritum': 'adlød'}"
            ]
          },
          "metadata": {},
          "execution_count": 10
        }
      ]
    },
    {
      "cell_type": "code",
      "metadata": {
        "id": "0fy6PK4Hio57"
      },
      "source": [
        "#Creating functions to simulate a practice test\n",
        "\n",
        "def sample_numbers(num1, num2, max_num=1):\n",
        "  return random.sample(range(num1, num2), max_num)\n",
        "\n",
        "def pick_word(i):\n",
        "  print(f'\\nVerb nummer: {i}')\n",
        "  print('*'*30)\n",
        "  for k, v in df1_json[i].items():\n",
        "    if (k == 'infinitiv') or (k == 'english'):\n",
        "      print(f'{k}: {v}')\n",
        "      print('-'*30)\n",
        "\n",
        "\n",
        "if __name__ == '__main__':\n",
        "  #Initializing variables\n",
        "  test_result = []\n",
        "  counter = 0\n",
        "  sample_size = 30 #==> change this value\n",
        "\n",
        "  #Generating unique sample numbers that don't repeat\n",
        "  sample_indexes = [i for i in sample_numbers(0, len(df1_json), sample_size)] #==> data is shuffled\n",
        "  \n",
        "  for i in range(len(sample_indexes)):\n",
        "    print(f'\\nNum: {i+1}')\n",
        "    pick_word(sample_indexes[i])\n",
        "    answer = input('\\nKjenner du dette verbet? (y/n)').strip().lower()\n",
        "    test_result.append((sample_indexes[i], df1_json[sample_indexes[i]]['presens'], answer))\n",
        "    output.clear()"
      ],
      "execution_count": 10,
      "outputs": []
    },
    {
      "cell_type": "markdown",
      "metadata": {
        "id": "T-1qotm5cGfN"
      },
      "source": [
        "##Displaying Practice Results"
      ]
    },
    {
      "cell_type": "code",
      "metadata": {
        "colab": {
          "base_uri": "https://localhost:8080/"
        },
        "id": "X0FPo9-z_JPS",
        "outputId": "4ec8f55b-5498-4784-f00e-f2d8bf738127"
      },
      "source": [
        "#Displaying the results\n",
        "\n",
        "score = 0\n",
        "wrong_answers = []\n",
        "\n",
        "for i in range(len(test_result)):\n",
        "  if test_result[i][2] == 'y':\n",
        "    score += 1\n",
        "  else:\n",
        "    wrong_answers.append(test_result[i][0])\n",
        "\n",
        "final_score = round((score/len(sample_indexes))*100,1)\n",
        "dt_now = str(datetime.now(tz=pytz.timezone('Europe/Oslo')))\n",
        "\n",
        "print(f'Date of Practice: {dt_now}\\n')\n",
        "\n",
        "if final_score < 100:\n",
        "  print(f'Your score: {final_score}/100')\n",
        "  print('\\nYou should review the following words:\\n')\n",
        "  for i in wrong_answers:\n",
        "    print(f'Verb: {i}:', df1_json[i]['presens'], '==> ', df1_json[i]['english'])\n",
        "else:\n",
        "  print(f'Your score: {final_score}/100')\n",
        "  print('\\nThanks for being awesome!!!')"
      ],
      "execution_count": 11,
      "outputs": [
        {
          "output_type": "stream",
          "name": "stdout",
          "text": [
            "Date of Practice: 2021-12-10 20:17:19.552272+01:00\n",
            "\n",
            "Your score: 76.7/100\n",
            "\n",
            "You should review the following words:\n",
            "\n",
            "Verb: 224: plomberer ==>  Seal\n",
            "Verb: 228: pusser ==>  Clean, Polish\n",
            "Verb: 12: bedøver ==>  Anesthetize, Drug\n",
            "Verb: 230: pynter ==>  Decorate, Trim\n",
            "Verb: 191: lyger ==>  Tell a lie\n",
            "Verb: 125: hender ==>  Occur\n",
            "Verb: 324: stryker ==>  Stroke\n"
          ]
        }
      ]
    },
    {
      "cell_type": "code",
      "metadata": {
        "id": "350EDT7opCyH"
      },
      "source": [
        "#Generating list of wrong verbs\n",
        "wrong_verbs = [df1_json[i]['presens'] for i in wrong_answers]"
      ],
      "execution_count": 12,
      "outputs": []
    },
    {
      "cell_type": "markdown",
      "metadata": {
        "id": "QwTfK4hFGF95"
      },
      "source": [
        "##Visualizing practice results"
      ]
    },
    {
      "cell_type": "code",
      "metadata": {
        "colab": {
          "base_uri": "https://localhost:8080/",
          "height": 281
        },
        "id": "QJCSm1qscLmW",
        "outputId": "eb87c798-3201-457c-8595-4db25d5f46d1"
      },
      "source": [
        "#Visualizing practice results\n",
        "\n",
        "plt.bar([1, 2], [len(test_result), score], tick_label=['Questions', 'Correct'], color=['#007FFF', '#90EE90'])\n",
        "plt.axhline(y=len(test_result)*0.8, color='r', linestyle='-')\n",
        "plt.title('Current Test Results')\n",
        "plt.show()"
      ],
      "execution_count": 13,
      "outputs": [
        {
          "output_type": "display_data",
          "data": {
            "image/png": "[encoded data removed]",
            "text/plain": [
              "<Figure size 432x288 with 1 Axes>"
            ]
          },
          "metadata": {
            "needs_background": "light"
          }
        }
      ]
    },
    {
      "cell_type": "code",
      "metadata": {
        "id": "AS_TaCpsUD07"
      },
      "source": [
        "#Calculating the number of known verbs\n",
        "known_verbs = len([1 for i in range(len(df1_json)) if df1_json[i]['validated']=='Ok'])"
      ],
      "execution_count": 14,
      "outputs": []
    },
    {
      "cell_type": "code",
      "metadata": {
        "colab": {
          "base_uri": "https://localhost:8080/",
          "height": 282
        },
        "id": "g3jsyAhnTuDZ",
        "outputId": "0f27afad-f195-4cd9-8688-aef72c0b0b4e"
      },
      "source": [
        "#Visualizing known verbs\n",
        "\n",
        "plt.bar([1, 2], [len(df1_json), known_verbs], tick_label=['Total_verbs', 'Known_verbs'], color=['#007FFF', '#90EE90'])\n",
        "plt.axhline(y=len(df1_json)*0.8, color='r', linestyle='-')\n",
        "plt.title('Known Verbs')\n",
        "plt.show()"
      ],
      "execution_count": 15,
      "outputs": [
        {
          "output_type": "display_data",
          "data": {
            "image/png": "[encoded data removed]",
            "text/plain": [
              "<Figure size 432x288 with 1 Axes>"
            ]
          },
          "metadata": {
            "needs_background": "light"
          }
        }
      ]
    },
    {
      "cell_type": "code",
      "metadata": {
        "id": "6av-JTIrkfjL",
        "colab": {
          "base_uri": "https://localhost:8080/",
          "height": 281
        },
        "outputId": "a24d5fb0-2a20-4ed3-b07a-311a74fc6ad3"
      },
      "source": [
        "#Visualizing a histogram of test results\n",
        "plt.hist(df2['score'][:23], bins=5, label='No_practice')\n",
        "plt.hist(df2['score'][23:], bins=5, label='Practice')\n",
        "plt.axvline(80, color='r', linestyle='-')\n",
        "plt.title('Histogram of Scores')\n",
        "plt.legend()\n",
        "plt.show()"
      ],
      "execution_count": 16,
      "outputs": [
        {
          "output_type": "display_data",
          "data": {
            "image/png": "[encoded data removed]",
            "text/plain": [
              "<Figure size 432x288 with 1 Axes>"
            ]
          },
          "metadata": {
            "needs_background": "light"
          }
        }
      ]
    },
    {
      "cell_type": "markdown",
      "metadata": {
        "id": "rmkKhLtCGA8H"
      },
      "source": [
        "##Writing data to google sheets"
      ]
    },
    {
      "cell_type": "code",
      "metadata": {
        "id": "gJ-w9D_qGKRP"
      },
      "source": [
        "#Selecting worksheet\n",
        "ws_results = wb.worksheet('Sheet2')"
      ],
      "execution_count": 17,
      "outputs": []
    },
    {
      "cell_type": "code",
      "metadata": {
        "id": "0R6unKF9n1V-"
      },
      "source": [
        "#Saving practice results to Google Sheets\n",
        "ws_results.append_row([dt_now, final_score, known_verbs, str(wrong_verbs)])"
      ],
      "execution_count": null,
      "outputs": []
    },
    {
      "cell_type": "code",
      "metadata": {
        "colab": {
          "base_uri": "https://localhost:8080/"
        },
        "id": "gdZdyr4Zrpfo",
        "outputId": "2dc925ed-34eb-40c6-83ec-da4175a8dbb0"
      },
      "source": [
        "!python -V"
      ],
      "execution_count": null,
      "outputs": [
        {
          "output_type": "stream",
          "name": "stdout",
          "text": [
            "Python 3.7.12\n"
          ]
        }
      ]
    }
  ]
}