{
  "nbformat": 4,
  "nbformat_minor": 0,
  "metadata": {
    "colab": {
      "name": "bysykkel_analysis.ipynb",
      "provenance": [],
      "collapsed_sections": [
        "sgzkv1LwjLIL",
        "nFhbxv-B6dN7",
        "c8cFTBBCngUc",
        "Tbg_Y30tVHIR",
        "pQNqlam8VRBB",
        "sXmSwrs_5ORx",
        "vbkkRr6AZ5BT",
        "Gcxu3vFN5Y_x"
      ],
      "authorship_tag": "ABX9TyMN7zo4ZXU65EINXri0k1bX",
      "include_colab_link": true
    },
    "kernelspec": {
      "name": "python3",
      "display_name": "Python 3"
    },
    "language_info": {
      "name": "python"
    },
    "widgets": {
      "application/vnd.jupyter.widget-state+json": {
        "e4e27d08488241979aa306b8b2ff515c": {
          "model_module": "@jupyter-widgets/controls",
          "model_name": "VBoxModel",
          "state": {
            "_view_name": "VBoxView",
            "_dom_classes": [
              "widget-interact"
            ],
            "_model_name": "VBoxModel",
            "_view_module": "@jupyter-widgets/controls",
            "_model_module_version": "1.5.0",
            "_view_count": null,
            "_view_module_version": "1.5.0",
            "box_style": "",
            "layout": "IPY_MODEL_36b7471bb049429e8f0a7033739ead15",
            "_model_module": "@jupyter-widgets/controls",
            "children": [
              "IPY_MODEL_faead8fa814540f888b945b8ac71fefc",
              "IPY_MODEL_0f8428f5d96c47f5a52debc01f634cc9",
              "IPY_MODEL_51c8c26332e0426c94d54a9fd4e85fd2",
              "IPY_MODEL_94d932ba3b414bfabf8b04561eb190c1",
              "IPY_MODEL_75c0be47ca394f2fb42bdbc814a001cc"
            ]
          }
        },
        "36b7471bb049429e8f0a7033739ead15": {
          "model_module": "@jupyter-widgets/base",
          "model_name": "LayoutModel",
          "state": {
            "_view_name": "LayoutView",
            "grid_template_rows": null,
            "right": null,
            "justify_content": null,
            "_view_module": "@jupyter-widgets/base",
            "overflow": null,
            "_model_module_version": "1.2.0",
            "_view_count": null,
            "flex_flow": null,
            "width": null,
            "min_width": null,
            "border": null,
            "align_items": null,
            "bottom": null,
            "_model_module": "@jupyter-widgets/base",
            "top": null,
            "grid_column": null,
            "overflow_y": null,
            "overflow_x": null,
            "grid_auto_flow": null,
            "grid_area": null,
            "grid_template_columns": null,
            "flex": null,
            "_model_name": "LayoutModel",
            "justify_items": null,
            "grid_row": null,
            "max_height": null,
            "align_content": null,
            "visibility": null,
            "align_self": null,
            "height": null,
            "min_height": null,
            "padding": null,
            "grid_auto_rows": null,
            "grid_gap": null,
            "max_width": null,
            "order": null,
            "_view_module_version": "1.2.0",
            "grid_template_areas": null,
            "object_position": null,
            "object_fit": null,
            "grid_auto_columns": null,
            "margin": null,
            "display": null,
            "left": null
          }
        },
        "faead8fa814540f888b945b8ac71fefc": {
          "model_module": "@jupyter-widgets/controls",
          "model_name": "DropdownModel",
          "state": {
            "_options_labels": [
              "2020",
              "2021"
            ],
            "_view_name": "DropdownView",
            "style": "IPY_MODEL_c6b5a30569ec4fc39cde5caee1d1fd41",
            "_dom_classes": [],
            "description": "Year",
            "_model_name": "DropdownModel",
            "index": 0,
            "_view_module": "@jupyter-widgets/controls",
            "_model_module_version": "1.5.0",
            "_view_count": null,
            "disabled": false,
            "_view_module_version": "1.5.0",
            "description_tooltip": null,
            "_model_module": "@jupyter-widgets/controls",
            "layout": "IPY_MODEL_2e954e597f694db28cf663995a7f7f79"
          }
        },
        "0f8428f5d96c47f5a52debc01f634cc9": {
          "model_module": "@jupyter-widgets/controls",
          "model_name": "DropdownModel",
          "state": {
            "_options_labels": [
              "January",
              "February",
              "March",
              "April",
              "May",
              "June",
              "July",
              "August",
              "September",
              "October",
              "November",
              "December"
            ],
            "_view_name": "DropdownView",
            "style": "IPY_MODEL_1bda658b4962410cb600b8102e47dfde",
            "_dom_classes": [],
            "description": "Month",
            "_model_name": "DropdownModel",
            "index": 2,
            "_view_module": "@jupyter-widgets/controls",
            "_model_module_version": "1.5.0",
            "_view_count": null,
            "disabled": false,
            "_view_module_version": "1.5.0",
            "description_tooltip": null,
            "_model_module": "@jupyter-widgets/controls",
            "layout": "IPY_MODEL_ddc0969ccf0549e0a71ef1994411c90c"
          }
        },
        "51c8c26332e0426c94d54a9fd4e85fd2": {
          "model_module": "@jupyter-widgets/controls",
          "model_name": "DropdownModel",
          "state": {
            "_options_labels": [
              "Start",
              "Destination"
            ],
            "_view_name": "DropdownView",
            "style": "IPY_MODEL_da441ddeb20c4cbfab1651d6be9e1129",
            "_dom_classes": [],
            "description": "Category",
            "_model_name": "DropdownModel",
            "index": 0,
            "_view_module": "@jupyter-widgets/controls",
            "_model_module_version": "1.5.0",
            "_view_count": null,
            "disabled": false,
            "_view_module_version": "1.5.0",
            "description_tooltip": null,
            "_model_module": "@jupyter-widgets/controls",
            "layout": "IPY_MODEL_5d246d01791743f59d91622536d4af37"
          }
        },
        "94d932ba3b414bfabf8b04561eb190c1": {
          "model_module": "@jupyter-widgets/controls",
          "model_name": "DropdownModel",
          "state": {
            "_options_labels": [
              "5",
              "10",
              "15",
              "20",
              "25",
              "30",
              "35",
              "40",
              "45",
              "50",
              "55",
              "60",
              "65",
              "70",
              "75",
              "80",
              "85",
              "90",
              "95",
              "100",
              "105",
              "110",
              "115",
              "120",
              "125",
              "130",
              "135",
              "140",
              "145",
              "150",
              "155",
              "160",
              "165",
              "170",
              "175",
              "180",
              "185",
              "190",
              "195",
              "200",
              "205",
              "210",
              "215",
              "220",
              "225",
              "230",
              "235",
              "240",
              "245",
              "250"
            ],
            "_view_name": "DropdownView",
            "style": "IPY_MODEL_4789ad256c454d3bba42e2e77f08563f",
            "_dom_classes": [],
            "description": "Stations",
            "_model_name": "DropdownModel",
            "index": 3,
            "_view_module": "@jupyter-widgets/controls",
            "_model_module_version": "1.5.0",
            "_view_count": null,
            "disabled": false,
            "_view_module_version": "1.5.0",
            "description_tooltip": null,
            "_model_module": "@jupyter-widgets/controls",
            "layout": "IPY_MODEL_3ac84306cdcf4d96b0a7481c2899c85c"
          }
        },
        "75c0be47ca394f2fb42bdbc814a001cc": {
          "model_module": "@jupyter-widgets/output",
          "model_name": "OutputModel",
          "state": {
            "_view_name": "OutputView",
            "msg_id": "",
            "_dom_classes": [],
            "_model_name": "OutputModel",
            "outputs": [
              {
                "output_type": "display_data",
                "metadata": {
                  "tags": []
                },
                "text/html": "<div style=\"width:100%;\"><div style=\"position:relative;width:100%;height:0;padding-bottom:60%;\"><span style=\"color:#565656\">Make this Notebook Trusted to load map: File -> Trust Notebook</span><iframe src=\"about:blank\" style=\"position:absolute;width:100%;height:100%;left:0;top:0;border:none !important;\" data-html=%3C%21DOCTYPE%20html%3E%0A%3Chead%3E%20%20%20%20%0A%20%20%20%20%3Cmeta%20http-equiv%3D%22content-type%22%20content%3D%22text/html%3B%20charset%3DUTF-8%22%20/%3E%0A%20%20%20%20%3Cscript%3EL_PREFER_CANVAS%3Dfalse%3B%20L_NO_TOUCH%3Dfalse%3B%20L_DISABLE_3D%3Dfalse%3B%3C/script%3E%0A%20%20%20%20%3Cscript%20src%3D%22https%3A//cdn.jsdelivr.net/npm/leaflet%401.4.0/dist/leaflet.js%22%3E%3C/script%3E%0A%20%20%20%20%3Cscript%20src%3D%22https%3A//code.jquery.com/jquery-1.12.4.min.js%22%3E%3C/script%3E%0A%20%20%20%20%3Cscript%20src%3D%22https%3A//maxcdn.bootstrapcdn.com/bootstrap/3.2.0/js/bootstrap.min.js%22%3E%3C/script%3E%0A%20%20%20%20%3Cscript%20src%3D%22https%3A//cdnjs.cloudflare.com/ajax/libs/Leaflet.awesome-markers/2.0.2/leaflet.awesome-markers.js%22%3E%3C/script%3E%0A%20%20%20%20%3Clink%20rel%3D%22stylesheet%22%20href%3D%22https%3A//cdn.jsdelivr.net/npm/leaflet%401.4.0/dist/leaflet.css%22/%3E%0A%20%20%20%20%3Clink%20rel%3D%22stylesheet%22%20href%3D%22https%3A//maxcdn.bootstrapcdn.com/bootstrap/3.2.0/css/bootstrap.min.css%22/%3E%0A%20%20%20%20%3Clink%20rel%3D%22stylesheet%22%20href%3D%22https%3A//maxcdn.bootstrapcdn.com/bootstrap/3.2.0/css/bootstrap-theme.min.css%22/%3E%0A%20%20%20%20%3Clink%20rel%3D%22stylesheet%22%20href%3D%22https%3A//maxcdn.bootstrapcdn.com/font-awesome/4.6.3/css/font-awesome.min.css%22/%3E%0A%20%20%20%20%3Clink%20rel%3D%22stylesheet%22%20href%3D%22https%3A//cdnjs.cloudflare.com/ajax/libs/Leaflet.awesome-markers/2.0.2/leaflet.awesome-markers.css%22/%3E%0A%20%20%20%20%3Clink%20rel%3D%22stylesheet%22%20href%3D%22https%3A//rawcdn.githack.com/python-visualization/folium/master/folium/templates/leaflet.awesome.rotate.css%22/%3E%0A%20%20%20%20%3Cstyle%3Ehtml%2C%20body%20%7Bwidth%3A%20100%25%3Bheight%3A%20100%25%3Bmargin%3A%200%3Bpadding%3A%200%3B%7D%3C/style%3E%0A%20%20%20%20%3Cstyle%3E%23map%20%7Bposition%3Aabsolute%3Btop%3A0%3Bbottom%3A0%3Bright%3A0%3Bleft%3A0%3B%7D%3C/style%3E%0A%20%20%20%20%0A%20%20%20%20%3Cmeta%20name%3D%22viewport%22%20content%3D%22width%3Ddevice-width%2C%0A%20%20%20%20%20%20%20%20initial-scale%3D1.0%2C%20maximum-scale%3D1.0%2C%20user-scalable%3Dno%22%20/%3E%0A%20%20%20%20%3Cstyle%3E%23map_af85b004c53f4995b5d87b161ec63281%20%7B%0A%20%20%20%20%20%20%20%20position%3A%20relative%3B%0A%20%20%20%20%20%20%20%20width%3A%20100.0%25%3B%0A%20%20%20%20%20%20%20%20height%3A%20100.0%25%3B%0A%20%20%20%20%20%20%20%20left%3A%200.0%25%3B%0A%20%20%20%20%20%20%20%20top%3A%200.0%25%3B%0A%20%20%20%20%20%20%20%20%7D%0A%20%20%20%20%3C/style%3E%0A%20%20%20%20%3Cscript%20src%3D%22https%3A//leaflet.github.io/Leaflet.heat/dist/leaflet-heat.js%22%3E%3C/script%3E%0A%3C/head%3E%0A%3Cbody%3E%20%20%20%20%0A%20%20%20%20%0A%20%20%20%20%3Cdiv%20class%3D%22folium-map%22%20id%3D%22map_af85b004c53f4995b5d87b161ec63281%22%20%3E%3C/div%3E%0A%3C/body%3E%0A%3Cscript%3E%20%20%20%20%0A%20%20%20%20%0A%20%20%20%20%0A%20%20%20%20%20%20%20%20var%20bounds%20%3D%20null%3B%0A%20%20%20%20%0A%0A%20%20%20%20var%20map_af85b004c53f4995b5d87b161ec63281%20%3D%20L.map%28%0A%20%20%20%20%20%20%20%20%27map_af85b004c53f4995b5d87b161ec63281%27%2C%20%7B%0A%20%20%20%20%20%20%20%20center%3A%20%5B59.92%2C%2010.75%5D%2C%0A%20%20%20%20%20%20%20%20zoom%3A%2013%2C%0A%20%20%20%20%20%20%20%20maxBounds%3A%20bounds%2C%0A%20%20%20%20%20%20%20%20layers%3A%20%5B%5D%2C%0A%20%20%20%20%20%20%20%20worldCopyJump%3A%20false%2C%0A%20%20%20%20%20%20%20%20crs%3A%20L.CRS.EPSG3857%2C%0A%20%20%20%20%20%20%20%20zoomControl%3A%20true%2C%0A%20%20%20%20%20%20%20%20%7D%29%3B%0A%0A%0A%20%20%20%20%0A%20%20%20%20var%20tile_layer_8077c80fa9c846ea9affb0b45b9d8adc%20%3D%20L.tileLayer%28%0A%20%20%20%20%20%20%20%20%27https%3A//%7Bs%7D.tile.openstreetmap.org/%7Bz%7D/%7Bx%7D/%7By%7D.png%27%2C%0A%20%20%20%20%20%20%20%20%7B%0A%20%20%20%20%20%20%20%20%22attribution%22%3A%20null%2C%0A%20%20%20%20%20%20%20%20%22detectRetina%22%3A%20false%2C%0A%20%20%20%20%20%20%20%20%22maxNativeZoom%22%3A%2018%2C%0A%20%20%20%20%20%20%20%20%22maxZoom%22%3A%2018%2C%0A%20%20%20%20%20%20%20%20%22minZoom%22%3A%200%2C%0A%20%20%20%20%20%20%20%20%22noWrap%22%3A%20false%2C%0A%20%20%20%20%20%20%20%20%22opacity%22%3A%201%2C%0A%20%20%20%20%20%20%20%20%22subdomains%22%3A%20%22abc%22%2C%0A%20%20%20%20%20%20%20%20%22tms%22%3A%20false%0A%7D%29.addTo%28map_af85b004c53f4995b5d87b161ec63281%29%3B%0A%20%20%20%20%0A%20%20%20%20%20%20%20%20%20%20%20%20var%20heat_map_53501a788334499c87f83e44ae25147a%20%3D%20L.heatLayer%28%0A%20%20%20%20%20%20%20%20%20%20%20%20%20%20%20%20%5B%5B59.92843404417578%2C%2010.75943014633117%2C%20463.0%5D%2C%20%5B59.928066706156855%2C%2010.751202636819613%2C%20452.0%5D%2C%20%5B59.90946700000001%2C%2010.722509%2C%20395.0%5D%2C%20%5B59.90580676630004%2C%2010.753656509579287%2C%20376.0%5D%2C%20%5B59.925471317049954%2C%2010.73121932213806%2C%20373.0%5D%2C%20%5B59.9108469%2C%2010.7303766%2C%20369.0%5D%2C%20%5B59.922425%2C%2010.758182000000001%2C%20364.0%5D%2C%20%5B59.898126%2C%2010.675096%2C%20356.0%5D%2C%20%5B59.94671044754387%2C%2010.773805285879133%2C%20318.0%5D%2C%20%5B59.912110899999995%2C%2010.7661939%2C%20296.0%5D%2C%20%5B59.904472999999996%2C%2010.786166999999999%2C%20267.0%5D%2C%20%5B59.929044999999995%2C%2010.716925999999999%2C%20265.0%5D%2C%20%5B59.90321254732584%2C%2010.7673442932541%2C%20259.0%5D%2C%20%5B59.91300035973293%2C%2010.746760585982287%2C%20258.0%5D%2C%20%5B59.920334999999994%2C%2010.760803999999998%2C%20257.0%5D%2C%20%5B59.919463%2C%2010.743829%2C%20255.0%5D%2C%20%5B59.92473199999999%2C%2010.724628%2C%20253.0%5D%2C%20%5B59.9360307%2C%2010.7364516%2C%20253.0%5D%2C%20%5B59.94377753936722%2C%2010.76012112757796%2C%20248.0%5D%2C%20%5B59.91494300000001%2C%2010.773977%2C%20243.0%5D%5D%2C%0A%20%20%20%20%20%20%20%20%20%20%20%20%20%20%20%20%7B%0A%20%20%20%20%20%20%20%20%20%20%20%20%20%20%20%20%20%20%20%20minOpacity%3A%200.5%2C%0A%20%20%20%20%20%20%20%20%20%20%20%20%20%20%20%20%20%20%20%20maxZoom%3A%2018%2C%0A%20%20%20%20%20%20%20%20%20%20%20%20%20%20%20%20%20%20%20%20max%3A%201.0%2C%0A%20%20%20%20%20%20%20%20%20%20%20%20%20%20%20%20%20%20%20%20radius%3A%2025%2C%0A%20%20%20%20%20%20%20%20%20%20%20%20%20%20%20%20%20%20%20%20blur%3A%2015%2C%0A%20%20%20%20%20%20%20%20%20%20%20%20%20%20%20%20%20%20%20%20gradient%3A%20null%0A%20%20%20%20%20%20%20%20%20%20%20%20%20%20%20%20%20%20%20%20%7D%29%0A%20%20%20%20%20%20%20%20%20%20%20%20%20%20%20%20.addTo%28map_af85b004c53f4995b5d87b161ec63281%29%3B%0A%20%20%20%20%20%20%20%20%0A%3C/script%3E onload=\"this.contentDocument.open();this.contentDocument.write(    decodeURIComponent(this.getAttribute('data-html')));this.contentDocument.close();\" allowfullscreen webkitallowfullscreen mozallowfullscreen></iframe></div></div>",
                "text/plain": "<folium.folium.Map at 0x7f3c9c481850>"
              }
            ],
            "_view_module": "@jupyter-widgets/output",
            "_model_module_version": "1.0.0",
            "_view_count": null,
            "_view_module_version": "1.0.0",
            "layout": "IPY_MODEL_96b8207607f64516ac5a688659581c60",
            "_model_module": "@jupyter-widgets/output"
          }
        },
        "c6b5a30569ec4fc39cde5caee1d1fd41": {
          "model_module": "@jupyter-widgets/controls",
          "model_name": "DescriptionStyleModel",
          "state": {
            "_view_name": "StyleView",
            "_model_name": "DescriptionStyleModel",
            "description_width": "",
            "_view_module": "@jupyter-widgets/base",
            "_model_module_version": "1.5.0",
            "_view_count": null,
            "_view_module_version": "1.2.0",
            "_model_module": "@jupyter-widgets/controls"
          }
        },
        "2e954e597f694db28cf663995a7f7f79": {
          "model_module": "@jupyter-widgets/base",
          "model_name": "LayoutModel",
          "state": {
            "_view_name": "LayoutView",
            "grid_template_rows": null,
            "right": null,
            "justify_content": null,
            "_view_module": "@jupyter-widgets/base",
            "overflow": null,
            "_model_module_version": "1.2.0",
            "_view_count": null,
            "flex_flow": null,
            "width": null,
            "min_width": null,
            "border": null,
            "align_items": null,
            "bottom": null,
            "_model_module": "@jupyter-widgets/base",
            "top": null,
            "grid_column": null,
            "overflow_y": null,
            "overflow_x": null,
            "grid_auto_flow": null,
            "grid_area": null,
            "grid_template_columns": null,
            "flex": null,
            "_model_name": "LayoutModel",
            "justify_items": null,
            "grid_row": null,
            "max_height": null,
            "align_content": null,
            "visibility": null,
            "align_self": null,
            "height": null,
            "min_height": null,
            "padding": null,
            "grid_auto_rows": null,
            "grid_gap": null,
            "max_width": null,
            "order": null,
            "_view_module_version": "1.2.0",
            "grid_template_areas": null,
            "object_position": null,
            "object_fit": null,
            "grid_auto_columns": null,
            "margin": null,
            "display": null,
            "left": null
          }
        },
        "1bda658b4962410cb600b8102e47dfde": {
          "model_module": "@jupyter-widgets/controls",
          "model_name": "DescriptionStyleModel",
          "state": {
            "_view_name": "StyleView",
            "_model_name": "DescriptionStyleModel",
            "description_width": "",
            "_view_module": "@jupyter-widgets/base",
            "_model_module_version": "1.5.0",
            "_view_count": null,
            "_view_module_version": "1.2.0",
            "_model_module": "@jupyter-widgets/controls"
          }
        },
        "ddc0969ccf0549e0a71ef1994411c90c": {
          "model_module": "@jupyter-widgets/base",
          "model_name": "LayoutModel",
          "state": {
            "_view_name": "LayoutView",
            "grid_template_rows": null,
            "right": null,
            "justify_content": null,
            "_view_module": "@jupyter-widgets/base",
            "overflow": null,
            "_model_module_version": "1.2.0",
            "_view_count": null,
            "flex_flow": null,
            "width": null,
            "min_width": null,
            "border": null,
            "align_items": null,
            "bottom": null,
            "_model_module": "@jupyter-widgets/base",
            "top": null,
            "grid_column": null,
            "overflow_y": null,
            "overflow_x": null,
            "grid_auto_flow": null,
            "grid_area": null,
            "grid_template_columns": null,
            "flex": null,
            "_model_name": "LayoutModel",
            "justify_items": null,
            "grid_row": null,
            "max_height": null,
            "align_content": null,
            "visibility": null,
            "align_self": null,
            "height": null,
            "min_height": null,
            "padding": null,
            "grid_auto_rows": null,
            "grid_gap": null,
            "max_width": null,
            "order": null,
            "_view_module_version": "1.2.0",
            "grid_template_areas": null,
            "object_position": null,
            "object_fit": null,
            "grid_auto_columns": null,
            "margin": null,
            "display": null,
            "left": null
          }
        },
        "da441ddeb20c4cbfab1651d6be9e1129": {
          "model_module": "@jupyter-widgets/controls",
          "model_name": "DescriptionStyleModel",
          "state": {
            "_view_name": "StyleView",
            "_model_name": "DescriptionStyleModel",
            "description_width": "",
            "_view_module": "@jupyter-widgets/base",
            "_model_module_version": "1.5.0",
            "_view_count": null,
            "_view_module_version": "1.2.0",
            "_model_module": "@jupyter-widgets/controls"
          }
        },
        "5d246d01791743f59d91622536d4af37": {
          "model_module": "@jupyter-widgets/base",
          "model_name": "LayoutModel",
          "state": {
            "_view_name": "LayoutView",
            "grid_template_rows": null,
            "right": null,
            "justify_content": null,
            "_view_module": "@jupyter-widgets/base",
            "overflow": null,
            "_model_module_version": "1.2.0",
            "_view_count": null,
            "flex_flow": null,
            "width": null,
            "min_width": null,
            "border": null,
            "align_items": null,
            "bottom": null,
            "_model_module": "@jupyter-widgets/base",
            "top": null,
            "grid_column": null,
            "overflow_y": null,
            "overflow_x": null,
            "grid_auto_flow": null,
            "grid_area": null,
            "grid_template_columns": null,
            "flex": null,
            "_model_name": "LayoutModel",
            "justify_items": null,
            "grid_row": null,
            "max_height": null,
            "align_content": null,
            "visibility": null,
            "align_self": null,
            "height": null,
            "min_height": null,
            "padding": null,
            "grid_auto_rows": null,
            "grid_gap": null,
            "max_width": null,
            "order": null,
            "_view_module_version": "1.2.0",
            "grid_template_areas": null,
            "object_position": null,
            "object_fit": null,
            "grid_auto_columns": null,
            "margin": null,
            "display": null,
            "left": null
          }
        },
        "4789ad256c454d3bba42e2e77f08563f": {
          "model_module": "@jupyter-widgets/controls",
          "model_name": "DescriptionStyleModel",
          "state": {
            "_view_name": "StyleView",
            "_model_name": "DescriptionStyleModel",
            "description_width": "",
            "_view_module": "@jupyter-widgets/base",
            "_model_module_version": "1.5.0",
            "_view_count": null,
            "_view_module_version": "1.2.0",
            "_model_module": "@jupyter-widgets/controls"
          }
        },
        "3ac84306cdcf4d96b0a7481c2899c85c": {
          "model_module": "@jupyter-widgets/base",
          "model_name": "LayoutModel",
          "state": {
            "_view_name": "LayoutView",
            "grid_template_rows": null,
            "right": null,
            "justify_content": null,
            "_view_module": "@jupyter-widgets/base",
            "overflow": null,
            "_model_module_version": "1.2.0",
            "_view_count": null,
            "flex_flow": null,
            "width": null,
            "min_width": null,
            "border": null,
            "align_items": null,
            "bottom": null,
            "_model_module": "@jupyter-widgets/base",
            "top": null,
            "grid_column": null,
            "overflow_y": null,
            "overflow_x": null,
            "grid_auto_flow": null,
            "grid_area": null,
            "grid_template_columns": null,
            "flex": null,
            "_model_name": "LayoutModel",
            "justify_items": null,
            "grid_row": null,
            "max_height": null,
            "align_content": null,
            "visibility": null,
            "align_self": null,
            "height": null,
            "min_height": null,
            "padding": null,
            "grid_auto_rows": null,
            "grid_gap": null,
            "max_width": null,
            "order": null,
            "_view_module_version": "1.2.0",
            "grid_template_areas": null,
            "object_position": null,
            "object_fit": null,
            "grid_auto_columns": null,
            "margin": null,
            "display": null,
            "left": null
          }
        },
        "96b8207607f64516ac5a688659581c60": {
          "model_module": "@jupyter-widgets/base",
          "model_name": "LayoutModel",
          "state": {
            "_view_name": "LayoutView",
            "grid_template_rows": null,
            "right": null,
            "justify_content": null,
            "_view_module": "@jupyter-widgets/base",
            "overflow": null,
            "_model_module_version": "1.2.0",
            "_view_count": null,
            "flex_flow": null,
            "width": null,
            "min_width": null,
            "border": null,
            "align_items": null,
            "bottom": null,
            "_model_module": "@jupyter-widgets/base",
            "top": null,
            "grid_column": null,
            "overflow_y": null,
            "overflow_x": null,
            "grid_auto_flow": null,
            "grid_area": null,
            "grid_template_columns": null,
            "flex": null,
            "_model_name": "LayoutModel",
            "justify_items": null,
            "grid_row": null,
            "max_height": null,
            "align_content": null,
            "visibility": null,
            "align_self": null,
            "height": null,
            "min_height": null,
            "padding": null,
            "grid_auto_rows": null,
            "grid_gap": null,
            "max_width": null,
            "order": null,
            "_view_module_version": "1.2.0",
            "grid_template_areas": null,
            "object_position": null,
            "object_fit": null,
            "grid_auto_columns": null,
            "margin": null,
            "display": null,
            "left": null
          }
        },
        "55e1674487e7448593c2c401b67e425f": {
          "model_module": "@jupyter-widgets/controls",
          "model_name": "VBoxModel",
          "state": {
            "_view_name": "VBoxView",
            "_dom_classes": [
              "widget-interact"
            ],
            "_model_name": "VBoxModel",
            "_view_module": "@jupyter-widgets/controls",
            "_model_module_version": "1.5.0",
            "_view_count": null,
            "_view_module_version": "1.5.0",
            "box_style": "",
            "layout": "IPY_MODEL_dbf2da090f6140359140f9c5b1c1df84",
            "_model_module": "@jupyter-widgets/controls",
            "children": [
              "IPY_MODEL_66a6d948e4fc4db0ae5bc2fccf66f725",
              "IPY_MODEL_392fd9fb0a1a4284b5a0aa3fd9d3bae6",
              "IPY_MODEL_98be4d91edb4419d940a6803e1b4dd2e"
            ]
          }
        },
        "dbf2da090f6140359140f9c5b1c1df84": {
          "model_module": "@jupyter-widgets/base",
          "model_name": "LayoutModel",
          "state": {
            "_view_name": "LayoutView",
            "grid_template_rows": null,
            "right": null,
            "justify_content": null,
            "_view_module": "@jupyter-widgets/base",
            "overflow": null,
            "_model_module_version": "1.2.0",
            "_view_count": null,
            "flex_flow": null,
            "width": null,
            "min_width": null,
            "border": null,
            "align_items": null,
            "bottom": null,
            "_model_module": "@jupyter-widgets/base",
            "top": null,
            "grid_column": null,
            "overflow_y": null,
            "overflow_x": null,
            "grid_auto_flow": null,
            "grid_area": null,
            "grid_template_columns": null,
            "flex": null,
            "_model_name": "LayoutModel",
            "justify_items": null,
            "grid_row": null,
            "max_height": null,
            "align_content": null,
            "visibility": null,
            "align_self": null,
            "height": null,
            "min_height": null,
            "padding": null,
            "grid_auto_rows": null,
            "grid_gap": null,
            "max_width": null,
            "order": null,
            "_view_module_version": "1.2.0",
            "grid_template_areas": null,
            "object_position": null,
            "object_fit": null,
            "grid_auto_columns": null,
            "margin": null,
            "display": null,
            "left": null
          }
        },
        "66a6d948e4fc4db0ae5bc2fccf66f725": {
          "model_module": "@jupyter-widgets/controls",
          "model_name": "DropdownModel",
          "state": {
            "_options_labels": [
              "2020",
              "2021"
            ],
            "_view_name": "DropdownView",
            "style": "IPY_MODEL_f1d2942004ae49a88b722f077dd6990c",
            "_dom_classes": [],
            "description": "Year",
            "_model_name": "DropdownModel",
            "index": 1,
            "_view_module": "@jupyter-widgets/controls",
            "_model_module_version": "1.5.0",
            "_view_count": null,
            "disabled": false,
            "_view_module_version": "1.5.0",
            "description_tooltip": null,
            "_model_module": "@jupyter-widgets/controls",
            "layout": "IPY_MODEL_688dd85c88a647468f4478b3494dd986"
          }
        },
        "392fd9fb0a1a4284b5a0aa3fd9d3bae6": {
          "model_module": "@jupyter-widgets/controls",
          "model_name": "DropdownModel",
          "state": {
            "_options_labels": [
              "January",
              "February",
              "March",
              "April",
              "May",
              "June",
              "July",
              "August",
              "September",
              "October",
              "November",
              "December"
            ],
            "_view_name": "DropdownView",
            "style": "IPY_MODEL_a3cd5afbf9d14be8949d09a868cc4977",
            "_dom_classes": [],
            "description": "Month",
            "_model_name": "DropdownModel",
            "index": 4,
            "_view_module": "@jupyter-widgets/controls",
            "_model_module_version": "1.5.0",
            "_view_count": null,
            "disabled": false,
            "_view_module_version": "1.5.0",
            "description_tooltip": null,
            "_model_module": "@jupyter-widgets/controls",
            "layout": "IPY_MODEL_5aac1a901d7f42a4a911232daeadc06e"
          }
        },
        "98be4d91edb4419d940a6803e1b4dd2e": {
          "model_module": "@jupyter-widgets/output",
          "model_name": "OutputModel",
          "state": {
            "_view_name": "OutputView",
            "msg_id": "",
            "_dom_classes": [],
            "_model_name": "OutputModel",
            "outputs": [
              {
                "output_type": "display_data",
                "metadata": {
                  "tags": []
                },
                "image/png": "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\n",
                "text/plain": "<Figure size 1440x720 with 4 Axes>"
              }
            ],
            "_view_module": "@jupyter-widgets/output",
            "_model_module_version": "1.0.0",
            "_view_count": null,
            "_view_module_version": "1.0.0",
            "layout": "IPY_MODEL_1808ffc1abeb42188698badf96d6d343",
            "_model_module": "@jupyter-widgets/output"
          }
        },
        "f1d2942004ae49a88b722f077dd6990c": {
          "model_module": "@jupyter-widgets/controls",
          "model_name": "DescriptionStyleModel",
          "state": {
            "_view_name": "StyleView",
            "_model_name": "DescriptionStyleModel",
            "description_width": "",
            "_view_module": "@jupyter-widgets/base",
            "_model_module_version": "1.5.0",
            "_view_count": null,
            "_view_module_version": "1.2.0",
            "_model_module": "@jupyter-widgets/controls"
          }
        },
        "688dd85c88a647468f4478b3494dd986": {
          "model_module": "@jupyter-widgets/base",
          "model_name": "LayoutModel",
          "state": {
            "_view_name": "LayoutView",
            "grid_template_rows": null,
            "right": null,
            "justify_content": null,
            "_view_module": "@jupyter-widgets/base",
            "overflow": null,
            "_model_module_version": "1.2.0",
            "_view_count": null,
            "flex_flow": null,
            "width": null,
            "min_width": null,
            "border": null,
            "align_items": null,
            "bottom": null,
            "_model_module": "@jupyter-widgets/base",
            "top": null,
            "grid_column": null,
            "overflow_y": null,
            "overflow_x": null,
            "grid_auto_flow": null,
            "grid_area": null,
            "grid_template_columns": null,
            "flex": null,
            "_model_name": "LayoutModel",
            "justify_items": null,
            "grid_row": null,
            "max_height": null,
            "align_content": null,
            "visibility": null,
            "align_self": null,
            "height": null,
            "min_height": null,
            "padding": null,
            "grid_auto_rows": null,
            "grid_gap": null,
            "max_width": null,
            "order": null,
            "_view_module_version": "1.2.0",
            "grid_template_areas": null,
            "object_position": null,
            "object_fit": null,
            "grid_auto_columns": null,
            "margin": null,
            "display": null,
            "left": null
          }
        },
        "a3cd5afbf9d14be8949d09a868cc4977": {
          "model_module": "@jupyter-widgets/controls",
          "model_name": "DescriptionStyleModel",
          "state": {
            "_view_name": "StyleView",
            "_model_name": "DescriptionStyleModel",
            "description_width": "",
            "_view_module": "@jupyter-widgets/base",
            "_model_module_version": "1.5.0",
            "_view_count": null,
            "_view_module_version": "1.2.0",
            "_model_module": "@jupyter-widgets/controls"
          }
        },
        "5aac1a901d7f42a4a911232daeadc06e": {
          "model_module": "@jupyter-widgets/base",
          "model_name": "LayoutModel",
          "state": {
            "_view_name": "LayoutView",
            "grid_template_rows": null,
            "right": null,
            "justify_content": null,
            "_view_module": "@jupyter-widgets/base",
            "overflow": null,
            "_model_module_version": "1.2.0",
            "_view_count": null,
            "flex_flow": null,
            "width": null,
            "min_width": null,
            "border": null,
            "align_items": null,
            "bottom": null,
            "_model_module": "@jupyter-widgets/base",
            "top": null,
            "grid_column": null,
            "overflow_y": null,
            "overflow_x": null,
            "grid_auto_flow": null,
            "grid_area": null,
            "grid_template_columns": null,
            "flex": null,
            "_model_name": "LayoutModel",
            "justify_items": null,
            "grid_row": null,
            "max_height": null,
            "align_content": null,
            "visibility": null,
            "align_self": null,
            "height": null,
            "min_height": null,
            "padding": null,
            "grid_auto_rows": null,
            "grid_gap": null,
            "max_width": null,
            "order": null,
            "_view_module_version": "1.2.0",
            "grid_template_areas": null,
            "object_position": null,
            "object_fit": null,
            "grid_auto_columns": null,
            "margin": null,
            "display": null,
            "left": null
          }
        },
        "1808ffc1abeb42188698badf96d6d343": {
          "model_module": "@jupyter-widgets/base",
          "model_name": "LayoutModel",
          "state": {
            "_view_name": "LayoutView",
            "grid_template_rows": null,
            "right": null,
            "justify_content": null,
            "_view_module": "@jupyter-widgets/base",
            "overflow": null,
            "_model_module_version": "1.2.0",
            "_view_count": null,
            "flex_flow": null,
            "width": null,
            "min_width": null,
            "border": null,
            "align_items": null,
            "bottom": null,
            "_model_module": "@jupyter-widgets/base",
            "top": null,
            "grid_column": null,
            "overflow_y": null,
            "overflow_x": null,
            "grid_auto_flow": null,
            "grid_area": null,
            "grid_template_columns": null,
            "flex": null,
            "_model_name": "LayoutModel",
            "justify_items": null,
            "grid_row": null,
            "max_height": null,
            "align_content": null,
            "visibility": null,
            "align_self": null,
            "height": null,
            "min_height": null,
            "padding": null,
            "grid_auto_rows": null,
            "grid_gap": null,
            "max_width": null,
            "order": null,
            "_view_module_version": "1.2.0",
            "grid_template_areas": null,
            "object_position": null,
            "object_fit": null,
            "grid_auto_columns": null,
            "margin": null,
            "display": null,
            "left": null
          }
        }
      }
    }
  },
  "cells": [
    {
      "cell_type": "markdown",
      "metadata": {
        "id": "view-in-github",
        "colab_type": "text"
      },
      "source": [
        "<a href=\"https://colab.research.google.com/github/gabrielborja/python_data_analysis/blob/main/bysykkel_analysis.ipynb\" target=\"_parent\"><img src=\"https://colab.research.google.com/assets/colab-badge.svg\" alt=\"Open In Colab\"/></a>"
      ]
    },
    {
      "cell_type": "markdown",
      "metadata": {
        "id": "eTZwpRZNRhGY"
      },
      "source": [
        "# Bysykkel Oslo"
      ]
    },
    {
      "cell_type": "markdown",
      "metadata": {
        "id": "sgzkv1LwjLIL"
      },
      "source": [
        "## Uploading packages and data"
      ]
    },
    {
      "cell_type": "code",
      "metadata": {
        "id": "QTRtRZcb-IyF"
      },
      "source": [
        "#Importing necessary packages\n",
        "import numpy as np\n",
        "import pandas as pd\n",
        "import random\n",
        "import matplotlib.pyplot as plt\n",
        "import seaborn as sns"
      ],
      "execution_count": 1,
      "outputs": []
    },
    {
      "cell_type": "code",
      "metadata": {
        "id": "1Z4jxJjRRPLB",
        "colab": {
          "base_uri": "https://localhost:8080/"
        },
        "outputId": "7bd51cc3-5354-4901-c7e4-2c125e5bf94a"
      },
      "source": [
        "#Remove previous versions of the uploaded excel file\n",
        "!rm 2021_05_bysykkel.csv"
      ],
      "execution_count": null,
      "outputs": [
        {
          "output_type": "stream",
          "text": [
            "rm: cannot remove '2021_05_bysykkel.csv': No such file or directory\n"
          ],
          "name": "stdout"
        }
      ]
    },
    {
      "cell_type": "code",
      "metadata": {
        "colab": {
          "resources": {
            "http://localhost:8080/nbextensions/google.colab/files.js": {
              "data": "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",
              "ok": true,
              "headers": [
                [
                  "content-type",
                  "application/javascript"
                ]
              ],
              "status": 200,
              "status_text": ""
            }
          },
          "base_uri": "https://localhost:8080/",
          "height": 73
        },
        "id": "oen97ED1-rh-",
        "outputId": "10190d52-b826-469e-b1f4-31eaa55a8031"
      },
      "source": [
        "#Uploading file from local drive\n",
        "from google.colab import files\n",
        "uploaded = files.upload()"
      ],
      "execution_count": null,
      "outputs": [
        {
          "output_type": "display_data",
          "data": {
            "text/html": [
              "\n",
              "     <input type=\"file\" id=\"files-65f43c29-44d8-4200-bd7f-fbf467dd4b20\" name=\"files[]\" multiple disabled\n",
              "        style=\"border:none\" />\n",
              "     <output id=\"result-65f43c29-44d8-4200-bd7f-fbf467dd4b20\">\n",
              "      Upload widget is only available when the cell has been executed in the\n",
              "      current browser session. Please rerun this cell to enable.\n",
              "      </output>\n",
              "      <script src=\"/nbextensions/google.colab/files.js\"></script> "
            ],
            "text/plain": [
              "<IPython.core.display.HTML object>"
            ]
          },
          "metadata": {
            "tags": []
          }
        },
        {
          "output_type": "stream",
          "text": [
            "Saving 2021_05_bysykkel.csv to 2021_05_bysykkel.csv\n"
          ],
          "name": "stdout"
        }
      ]
    },
    {
      "cell_type": "code",
      "metadata": {
        "id": "03VoNwL0-3O6"
      },
      "source": [
        "#Storing dataset in a Pandas Dataframe\n",
        "import io\n",
        "by_df = pd.read_csv(io.BytesIO(uploaded['2021_05_bysykkel.csv']), parse_dates=True, infer_datetime_format=True)"
      ],
      "execution_count": null,
      "outputs": []
    },
    {
      "cell_type": "code",
      "metadata": {
        "id": "6wPknHC-JSRB",
        "colab": {
          "base_uri": "https://localhost:8080/"
        },
        "outputId": "fc394384-743d-43c2-dd1a-f892cd7d6892"
      },
      "source": [
        "#Checking the dataframe information\n",
        "by_df.info()"
      ],
      "execution_count": null,
      "outputs": [
        {
          "output_type": "stream",
          "text": [
            "<class 'pandas.core.frame.DataFrame'>\n",
            "RangeIndex: 144625 entries, 0 to 144624\n",
            "Data columns (total 13 columns):\n",
            " #   Column                     Non-Null Count   Dtype  \n",
            "---  ------                     --------------   -----  \n",
            " 0   started_at                 144625 non-null  object \n",
            " 1   ended_at                   144625 non-null  object \n",
            " 2   duration                   144625 non-null  int64  \n",
            " 3   start_station_id           144625 non-null  int64  \n",
            " 4   start_station_name         144625 non-null  object \n",
            " 5   start_station_description  144623 non-null  object \n",
            " 6   start_station_latitude     144625 non-null  float64\n",
            " 7   start_station_longitude    144625 non-null  float64\n",
            " 8   end_station_id             144625 non-null  int64  \n",
            " 9   end_station_name           144625 non-null  object \n",
            " 10  end_station_description    144623 non-null  object \n",
            " 11  end_station_latitude       144625 non-null  float64\n",
            " 12  end_station_longitude      144625 non-null  float64\n",
            "dtypes: float64(4), int64(3), object(6)\n",
            "memory usage: 14.3+ MB\n"
          ],
          "name": "stdout"
        }
      ]
    },
    {
      "cell_type": "markdown",
      "metadata": {
        "id": "nFhbxv-B6dN7"
      },
      "source": [
        "##Initial Data manipulation and aggregation\n",
        "\n"
      ]
    },
    {
      "cell_type": "code",
      "metadata": {
        "colab": {
          "base_uri": "https://localhost:8080/"
        },
        "id": "L-nwCWK84UZT",
        "outputId": "39dd797d-adad-484e-ce6b-3fbc55d1cee8"
      },
      "source": [
        "#Convert columns into datetime object and Oslo timezone\n",
        "by_df['started_at'] = pd.to_datetime(by_df['started_at'], format='%Y-%m-%d %H:%M:%S').dt.tz_convert('Europe/Oslo')\n",
        "by_df['ended_at'] = pd.to_datetime(by_df['ended_at'], format='%Y-%m-%d %H:%M:%S').dt.tz_convert('Europe/Oslo')\n",
        "by_df.info()"
      ],
      "execution_count": null,
      "outputs": [
        {
          "output_type": "stream",
          "text": [
            "<class 'pandas.core.frame.DataFrame'>\n",
            "RangeIndex: 144625 entries, 0 to 144624\n",
            "Data columns (total 13 columns):\n",
            " #   Column                     Non-Null Count   Dtype                      \n",
            "---  ------                     --------------   -----                      \n",
            " 0   started_at                 144625 non-null  datetime64[ns, Europe/Oslo]\n",
            " 1   ended_at                   144625 non-null  datetime64[ns, Europe/Oslo]\n",
            " 2   duration                   144625 non-null  int64                      \n",
            " 3   start_station_id           144625 non-null  int64                      \n",
            " 4   start_station_name         144625 non-null  object                     \n",
            " 5   start_station_description  144623 non-null  object                     \n",
            " 6   start_station_latitude     144625 non-null  float64                    \n",
            " 7   start_station_longitude    144625 non-null  float64                    \n",
            " 8   end_station_id             144625 non-null  int64                      \n",
            " 9   end_station_name           144625 non-null  object                     \n",
            " 10  end_station_description    144623 non-null  object                     \n",
            " 11  end_station_latitude       144625 non-null  float64                    \n",
            " 12  end_station_longitude      144625 non-null  float64                    \n",
            "dtypes: datetime64[ns, Europe/Oslo](2), float64(4), int64(3), object(4)\n",
            "memory usage: 14.3+ MB\n"
          ],
          "name": "stdout"
        }
      ]
    },
    {
      "cell_type": "code",
      "metadata": {
        "colab": {
          "base_uri": "https://localhost:8080/",
          "height": 160
        },
        "id": "aKX5w8Ws50XN",
        "outputId": "ad1c57b4-9c42-42b8-a4cc-abe8352834b9"
      },
      "source": [
        "#Checking the dataframe head\n",
        "by_df.head(2)"
      ],
      "execution_count": null,
      "outputs": [
        {
          "output_type": "execute_result",
          "data": {
            "text/html": [
              "<div>\n",
              "<style scoped>\n",
              "    .dataframe tbody tr th:only-of-type {\n",
              "        vertical-align: middle;\n",
              "    }\n",
              "\n",
              "    .dataframe tbody tr th {\n",
              "        vertical-align: top;\n",
              "    }\n",
              "\n",
              "    .dataframe thead th {\n",
              "        text-align: right;\n",
              "    }\n",
              "</style>\n",
              "<table border=\"1\" class=\"dataframe\">\n",
              "  <thead>\n",
              "    <tr style=\"text-align: right;\">\n",
              "      <th></th>\n",
              "      <th>started_at</th>\n",
              "      <th>ended_at</th>\n",
              "      <th>duration</th>\n",
              "      <th>start_station_id</th>\n",
              "      <th>start_station_name</th>\n",
              "      <th>start_station_description</th>\n",
              "      <th>start_station_latitude</th>\n",
              "      <th>start_station_longitude</th>\n",
              "      <th>end_station_id</th>\n",
              "      <th>end_station_name</th>\n",
              "      <th>end_station_description</th>\n",
              "      <th>end_station_latitude</th>\n",
              "      <th>end_station_longitude</th>\n",
              "    </tr>\n",
              "  </thead>\n",
              "  <tbody>\n",
              "    <tr>\n",
              "      <th>0</th>\n",
              "      <td>2021-05-01 05:02:08.105000+02:00</td>\n",
              "      <td>2021-05-01 05:07:05.124000+02:00</td>\n",
              "      <td>297</td>\n",
              "      <td>565</td>\n",
              "      <td>Mailundveien</td>\n",
              "      <td>sør for Torshovdalen</td>\n",
              "      <td>59.930918</td>\n",
              "      <td>10.77282</td>\n",
              "      <td>493</td>\n",
              "      <td>Sofienbergparken nordvest</td>\n",
              "      <td>langs Helgesens Gate</td>\n",
              "      <td>59.924364</td>\n",
              "      <td>10.761586</td>\n",
              "    </tr>\n",
              "    <tr>\n",
              "      <th>1</th>\n",
              "      <td>2021-05-01 05:06:49.811000+02:00</td>\n",
              "      <td>2021-05-01 05:17:37.118000+02:00</td>\n",
              "      <td>647</td>\n",
              "      <td>459</td>\n",
              "      <td>Valkyrieplassen</td>\n",
              "      <td>ved Bogstadveien</td>\n",
              "      <td>59.928132</td>\n",
              "      <td>10.71842</td>\n",
              "      <td>499</td>\n",
              "      <td>Bjerregaards gate</td>\n",
              "      <td>ovenfor Fredrikke Qvams gate</td>\n",
              "      <td>59.925488</td>\n",
              "      <td>10.746058</td>\n",
              "    </tr>\n",
              "  </tbody>\n",
              "</table>\n",
              "</div>"
            ],
            "text/plain": [
              "                        started_at  ... end_station_longitude\n",
              "0 2021-05-01 05:02:08.105000+02:00  ...             10.761586\n",
              "1 2021-05-01 05:06:49.811000+02:00  ...             10.746058\n",
              "\n",
              "[2 rows x 13 columns]"
            ]
          },
          "metadata": {
            "tags": []
          },
          "execution_count": 7
        }
      ]
    },
    {
      "cell_type": "code",
      "metadata": {
        "id": "4r7R8-oA6XBs"
      },
      "source": [
        "#Creating 2 dataframes, one with starting trips and one with end trips\n",
        "st_df = by_df[['started_at', 'start_station_id', 'start_station_name', 'start_station_latitude', 'start_station_longitude', 'duration']]\n",
        "en_df = by_df[['ended_at', 'end_station_id', 'end_station_name', 'end_station_latitude', 'end_station_longitude', 'duration']]"
      ],
      "execution_count": null,
      "outputs": []
    },
    {
      "cell_type": "code",
      "metadata": {
        "id": "egIQBPjdPitO"
      },
      "source": [
        "#Creating a function to extract categories from datetime object\n",
        "def convert_dates(df):\n",
        "  \"\"\"Extract year, month, week number, day, hour and minutes from datetime column\"\"\"\n",
        "  df = df.assign(year = df.iloc[:,0].dt.year,\n",
        "                 month = df.iloc[:,0].dt.month_name(),\n",
        "                 weeknum = df.iloc[:,0].dt.isocalendar().week,\n",
        "                 day = df.iloc[:,0].dt.day_name(),\n",
        "                 hour = df.iloc[:,0].dt.hour,\n",
        "                 minute = df.iloc[:,0].dt.minute\n",
        "                 )\n",
        "  return df"
      ],
      "execution_count": null,
      "outputs": []
    },
    {
      "cell_type": "code",
      "metadata": {
        "colab": {
          "base_uri": "https://localhost:8080/",
          "height": 106
        },
        "id": "aTuzDaWRS02L",
        "outputId": "81b5baf6-5275-4da7-cd04-1a13c7c55add"
      },
      "source": [
        "#Converting dates for starting journeys dataframe\n",
        "st_df = convert_dates(st_df)\n",
        "st_df.head(2)"
      ],
      "execution_count": null,
      "outputs": [
        {
          "output_type": "execute_result",
          "data": {
            "text/html": [
              "<div>\n",
              "<style scoped>\n",
              "    .dataframe tbody tr th:only-of-type {\n",
              "        vertical-align: middle;\n",
              "    }\n",
              "\n",
              "    .dataframe tbody tr th {\n",
              "        vertical-align: top;\n",
              "    }\n",
              "\n",
              "    .dataframe thead th {\n",
              "        text-align: right;\n",
              "    }\n",
              "</style>\n",
              "<table border=\"1\" class=\"dataframe\">\n",
              "  <thead>\n",
              "    <tr style=\"text-align: right;\">\n",
              "      <th></th>\n",
              "      <th>started_at</th>\n",
              "      <th>start_station_id</th>\n",
              "      <th>start_station_name</th>\n",
              "      <th>start_station_latitude</th>\n",
              "      <th>start_station_longitude</th>\n",
              "      <th>duration</th>\n",
              "      <th>year</th>\n",
              "      <th>month</th>\n",
              "      <th>weeknum</th>\n",
              "      <th>day</th>\n",
              "      <th>hour</th>\n",
              "      <th>minute</th>\n",
              "    </tr>\n",
              "  </thead>\n",
              "  <tbody>\n",
              "    <tr>\n",
              "      <th>0</th>\n",
              "      <td>2021-05-01 05:02:08.105000+02:00</td>\n",
              "      <td>565</td>\n",
              "      <td>Mailundveien</td>\n",
              "      <td>59.930918</td>\n",
              "      <td>10.77282</td>\n",
              "      <td>297</td>\n",
              "      <td>2021</td>\n",
              "      <td>May</td>\n",
              "      <td>17</td>\n",
              "      <td>Saturday</td>\n",
              "      <td>5</td>\n",
              "      <td>2</td>\n",
              "    </tr>\n",
              "    <tr>\n",
              "      <th>1</th>\n",
              "      <td>2021-05-01 05:06:49.811000+02:00</td>\n",
              "      <td>459</td>\n",
              "      <td>Valkyrieplassen</td>\n",
              "      <td>59.928132</td>\n",
              "      <td>10.71842</td>\n",
              "      <td>647</td>\n",
              "      <td>2021</td>\n",
              "      <td>May</td>\n",
              "      <td>17</td>\n",
              "      <td>Saturday</td>\n",
              "      <td>5</td>\n",
              "      <td>6</td>\n",
              "    </tr>\n",
              "  </tbody>\n",
              "</table>\n",
              "</div>"
            ],
            "text/plain": [
              "                        started_at  start_station_id  ... hour  minute\n",
              "0 2021-05-01 05:02:08.105000+02:00               565  ...    5       2\n",
              "1 2021-05-01 05:06:49.811000+02:00               459  ...    5       6\n",
              "\n",
              "[2 rows x 12 columns]"
            ]
          },
          "metadata": {
            "tags": []
          },
          "execution_count": 10
        }
      ]
    },
    {
      "cell_type": "code",
      "metadata": {
        "colab": {
          "base_uri": "https://localhost:8080/",
          "height": 106
        },
        "id": "TjdQdzNIUkUJ",
        "outputId": "361d7fc4-7c02-4fbd-bb12-f32e3074f66a"
      },
      "source": [
        "#Converting dates for end journeys dataframe\n",
        "en_df = convert_dates(en_df)\n",
        "en_df.head(2)"
      ],
      "execution_count": null,
      "outputs": [
        {
          "output_type": "execute_result",
          "data": {
            "text/html": [
              "<div>\n",
              "<style scoped>\n",
              "    .dataframe tbody tr th:only-of-type {\n",
              "        vertical-align: middle;\n",
              "    }\n",
              "\n",
              "    .dataframe tbody tr th {\n",
              "        vertical-align: top;\n",
              "    }\n",
              "\n",
              "    .dataframe thead th {\n",
              "        text-align: right;\n",
              "    }\n",
              "</style>\n",
              "<table border=\"1\" class=\"dataframe\">\n",
              "  <thead>\n",
              "    <tr style=\"text-align: right;\">\n",
              "      <th></th>\n",
              "      <th>ended_at</th>\n",
              "      <th>end_station_id</th>\n",
              "      <th>end_station_name</th>\n",
              "      <th>end_station_latitude</th>\n",
              "      <th>end_station_longitude</th>\n",
              "      <th>duration</th>\n",
              "      <th>year</th>\n",
              "      <th>month</th>\n",
              "      <th>weeknum</th>\n",
              "      <th>day</th>\n",
              "      <th>hour</th>\n",
              "      <th>minute</th>\n",
              "    </tr>\n",
              "  </thead>\n",
              "  <tbody>\n",
              "    <tr>\n",
              "      <th>0</th>\n",
              "      <td>2021-05-01 05:07:05.124000+02:00</td>\n",
              "      <td>493</td>\n",
              "      <td>Sofienbergparken nordvest</td>\n",
              "      <td>59.924364</td>\n",
              "      <td>10.761586</td>\n",
              "      <td>297</td>\n",
              "      <td>2021</td>\n",
              "      <td>May</td>\n",
              "      <td>17</td>\n",
              "      <td>Saturday</td>\n",
              "      <td>5</td>\n",
              "      <td>7</td>\n",
              "    </tr>\n",
              "    <tr>\n",
              "      <th>1</th>\n",
              "      <td>2021-05-01 05:17:37.118000+02:00</td>\n",
              "      <td>499</td>\n",
              "      <td>Bjerregaards gate</td>\n",
              "      <td>59.925488</td>\n",
              "      <td>10.746058</td>\n",
              "      <td>647</td>\n",
              "      <td>2021</td>\n",
              "      <td>May</td>\n",
              "      <td>17</td>\n",
              "      <td>Saturday</td>\n",
              "      <td>5</td>\n",
              "      <td>17</td>\n",
              "    </tr>\n",
              "  </tbody>\n",
              "</table>\n",
              "</div>"
            ],
            "text/plain": [
              "                          ended_at  end_station_id  ... hour  minute\n",
              "0 2021-05-01 05:07:05.124000+02:00             493  ...    5       7\n",
              "1 2021-05-01 05:17:37.118000+02:00             499  ...    5      17\n",
              "\n",
              "[2 rows x 12 columns]"
            ]
          },
          "metadata": {
            "tags": []
          },
          "execution_count": 11
        }
      ]
    },
    {
      "cell_type": "code",
      "metadata": {
        "colab": {
          "base_uri": "https://localhost:8080/",
          "height": 343
        },
        "id": "CCuqDk_Jijmj",
        "outputId": "5e6b81e3-9156-46ed-b35e-18e92879391e"
      },
      "source": [
        "#Computing Top start_location stations\n",
        "st_loc = st_df.groupby(['year', 'month', 'start_station_name', 'start_station_latitude', 'start_station_longitude']).agg({'start_station_id': 'count',\n",
        "                                                                                                         'duration': 'mean'}).reset_index()\n",
        "st_loc = st_loc.assign(duration = round(st_loc['duration']/60, 2))\n",
        "st_loc = st_loc.rename(columns={'start_station_id': 'trips', 'duration': 'mean_min'}).sort_values(by='trips', ascending=False).reset_index(drop=True)\n",
        "st_loc = st_loc.rename(columns={'start_station_name':'name', 'start_station_latitude':'lat', 'start_station_longitude':'lon'})\n",
        "st_loc.head(10)"
      ],
      "execution_count": null,
      "outputs": [
        {
          "output_type": "execute_result",
          "data": {
            "text/html": [
              "<div>\n",
              "<style scoped>\n",
              "    .dataframe tbody tr th:only-of-type {\n",
              "        vertical-align: middle;\n",
              "    }\n",
              "\n",
              "    .dataframe tbody tr th {\n",
              "        vertical-align: top;\n",
              "    }\n",
              "\n",
              "    .dataframe thead th {\n",
              "        text-align: right;\n",
              "    }\n",
              "</style>\n",
              "<table border=\"1\" class=\"dataframe\">\n",
              "  <thead>\n",
              "    <tr style=\"text-align: right;\">\n",
              "      <th></th>\n",
              "      <th>year</th>\n",
              "      <th>month</th>\n",
              "      <th>name</th>\n",
              "      <th>lat</th>\n",
              "      <th>lon</th>\n",
              "      <th>trips</th>\n",
              "      <th>mean_min</th>\n",
              "    </tr>\n",
              "  </thead>\n",
              "  <tbody>\n",
              "    <tr>\n",
              "      <th>0</th>\n",
              "      <td>2021</td>\n",
              "      <td>May</td>\n",
              "      <td>Alexander Kiellands Plass</td>\n",
              "      <td>59.928067</td>\n",
              "      <td>10.751203</td>\n",
              "      <td>2137</td>\n",
              "      <td>11.62</td>\n",
              "    </tr>\n",
              "    <tr>\n",
              "      <th>1</th>\n",
              "      <td>2021</td>\n",
              "      <td>May</td>\n",
              "      <td>Ringnes Park</td>\n",
              "      <td>59.928434</td>\n",
              "      <td>10.759430</td>\n",
              "      <td>1900</td>\n",
              "      <td>10.93</td>\n",
              "    </tr>\n",
              "    <tr>\n",
              "      <th>2</th>\n",
              "      <td>2021</td>\n",
              "      <td>May</td>\n",
              "      <td>Olaf Ryes plass</td>\n",
              "      <td>59.922425</td>\n",
              "      <td>10.758182</td>\n",
              "      <td>1661</td>\n",
              "      <td>12.92</td>\n",
              "    </tr>\n",
              "    <tr>\n",
              "      <th>3</th>\n",
              "      <td>2021</td>\n",
              "      <td>May</td>\n",
              "      <td>Bislettgata</td>\n",
              "      <td>59.923774</td>\n",
              "      <td>10.734713</td>\n",
              "      <td>1533</td>\n",
              "      <td>11.77</td>\n",
              "    </tr>\n",
              "    <tr>\n",
              "      <th>4</th>\n",
              "      <td>2021</td>\n",
              "      <td>May</td>\n",
              "      <td>Rådhusbrygge 4</td>\n",
              "      <td>59.910847</td>\n",
              "      <td>10.730377</td>\n",
              "      <td>1515</td>\n",
              "      <td>17.29</td>\n",
              "    </tr>\n",
              "    <tr>\n",
              "      <th>5</th>\n",
              "      <td>2021</td>\n",
              "      <td>May</td>\n",
              "      <td>Storo Storsenter</td>\n",
              "      <td>59.946710</td>\n",
              "      <td>10.773805</td>\n",
              "      <td>1492</td>\n",
              "      <td>14.70</td>\n",
              "    </tr>\n",
              "    <tr>\n",
              "      <th>6</th>\n",
              "      <td>2021</td>\n",
              "      <td>May</td>\n",
              "      <td>Sukkerbiten</td>\n",
              "      <td>59.905124</td>\n",
              "      <td>10.753764</td>\n",
              "      <td>1442</td>\n",
              "      <td>18.30</td>\n",
              "    </tr>\n",
              "    <tr>\n",
              "      <th>7</th>\n",
              "      <td>2021</td>\n",
              "      <td>May</td>\n",
              "      <td>Majorstuen</td>\n",
              "      <td>59.929045</td>\n",
              "      <td>10.716926</td>\n",
              "      <td>1400</td>\n",
              "      <td>12.83</td>\n",
              "    </tr>\n",
              "    <tr>\n",
              "      <th>8</th>\n",
              "      <td>2021</td>\n",
              "      <td>May</td>\n",
              "      <td>Bislett Stadion</td>\n",
              "      <td>59.925471</td>\n",
              "      <td>10.731219</td>\n",
              "      <td>1360</td>\n",
              "      <td>11.98</td>\n",
              "    </tr>\n",
              "    <tr>\n",
              "      <th>9</th>\n",
              "      <td>2021</td>\n",
              "      <td>May</td>\n",
              "      <td>Marcus Thranes gate</td>\n",
              "      <td>59.932772</td>\n",
              "      <td>10.758595</td>\n",
              "      <td>1352</td>\n",
              "      <td>11.62</td>\n",
              "    </tr>\n",
              "  </tbody>\n",
              "</table>\n",
              "</div>"
            ],
            "text/plain": [
              "   year month                       name        lat        lon  trips  mean_min\n",
              "0  2021   May  Alexander Kiellands Plass  59.928067  10.751203   2137     11.62\n",
              "1  2021   May               Ringnes Park  59.928434  10.759430   1900     10.93\n",
              "2  2021   May            Olaf Ryes plass  59.922425  10.758182   1661     12.92\n",
              "3  2021   May                Bislettgata  59.923774  10.734713   1533     11.77\n",
              "4  2021   May             Rådhusbrygge 4  59.910847  10.730377   1515     17.29\n",
              "5  2021   May           Storo Storsenter  59.946710  10.773805   1492     14.70\n",
              "6  2021   May                Sukkerbiten  59.905124  10.753764   1442     18.30\n",
              "7  2021   May                 Majorstuen  59.929045  10.716926   1400     12.83\n",
              "8  2021   May            Bislett Stadion  59.925471  10.731219   1360     11.98\n",
              "9  2021   May        Marcus Thranes gate  59.932772  10.758595   1352     11.62"
            ]
          },
          "metadata": {
            "tags": []
          },
          "execution_count": 12
        }
      ]
    },
    {
      "cell_type": "code",
      "metadata": {
        "colab": {
          "base_uri": "https://localhost:8080/",
          "height": 728
        },
        "id": "0QQ5u97Sf3Kb",
        "outputId": "ed92d311-b7c3-47f9-bcb0-634c0f17a528"
      },
      "source": [
        "#Computing top hours by month\n",
        "st_hr = st_df.groupby(['year', 'month', 'hour']).agg({'start_station_id': 'count'}).reset_index()\n",
        "st_hr = st_hr.rename(columns={'start_station_id': 'count'}).sort_values(by='hour').reset_index(drop=True)\n",
        "st_hr"
      ],
      "execution_count": null,
      "outputs": [
        {
          "output_type": "execute_result",
          "data": {
            "text/html": [
              "<div>\n",
              "<style scoped>\n",
              "    .dataframe tbody tr th:only-of-type {\n",
              "        vertical-align: middle;\n",
              "    }\n",
              "\n",
              "    .dataframe tbody tr th {\n",
              "        vertical-align: top;\n",
              "    }\n",
              "\n",
              "    .dataframe thead th {\n",
              "        text-align: right;\n",
              "    }\n",
              "</style>\n",
              "<table border=\"1\" class=\"dataframe\">\n",
              "  <thead>\n",
              "    <tr style=\"text-align: right;\">\n",
              "      <th></th>\n",
              "      <th>year</th>\n",
              "      <th>month</th>\n",
              "      <th>hour</th>\n",
              "      <th>count</th>\n",
              "    </tr>\n",
              "  </thead>\n",
              "  <tbody>\n",
              "    <tr>\n",
              "      <th>0</th>\n",
              "      <td>2021</td>\n",
              "      <td>June</td>\n",
              "      <td>0</td>\n",
              "      <td>40</td>\n",
              "    </tr>\n",
              "    <tr>\n",
              "      <th>1</th>\n",
              "      <td>2021</td>\n",
              "      <td>May</td>\n",
              "      <td>0</td>\n",
              "      <td>1628</td>\n",
              "    </tr>\n",
              "    <tr>\n",
              "      <th>2</th>\n",
              "      <td>2021</td>\n",
              "      <td>May</td>\n",
              "      <td>1</td>\n",
              "      <td>2</td>\n",
              "    </tr>\n",
              "    <tr>\n",
              "      <th>3</th>\n",
              "      <td>2021</td>\n",
              "      <td>May</td>\n",
              "      <td>3</td>\n",
              "      <td>1</td>\n",
              "    </tr>\n",
              "    <tr>\n",
              "      <th>4</th>\n",
              "      <td>2021</td>\n",
              "      <td>May</td>\n",
              "      <td>5</td>\n",
              "      <td>453</td>\n",
              "    </tr>\n",
              "    <tr>\n",
              "      <th>5</th>\n",
              "      <td>2021</td>\n",
              "      <td>May</td>\n",
              "      <td>6</td>\n",
              "      <td>1894</td>\n",
              "    </tr>\n",
              "    <tr>\n",
              "      <th>6</th>\n",
              "      <td>2021</td>\n",
              "      <td>May</td>\n",
              "      <td>7</td>\n",
              "      <td>6330</td>\n",
              "    </tr>\n",
              "    <tr>\n",
              "      <th>7</th>\n",
              "      <td>2021</td>\n",
              "      <td>May</td>\n",
              "      <td>8</td>\n",
              "      <td>8820</td>\n",
              "    </tr>\n",
              "    <tr>\n",
              "      <th>8</th>\n",
              "      <td>2021</td>\n",
              "      <td>May</td>\n",
              "      <td>9</td>\n",
              "      <td>6172</td>\n",
              "    </tr>\n",
              "    <tr>\n",
              "      <th>9</th>\n",
              "      <td>2021</td>\n",
              "      <td>May</td>\n",
              "      <td>10</td>\n",
              "      <td>5625</td>\n",
              "    </tr>\n",
              "    <tr>\n",
              "      <th>10</th>\n",
              "      <td>2021</td>\n",
              "      <td>May</td>\n",
              "      <td>11</td>\n",
              "      <td>6881</td>\n",
              "    </tr>\n",
              "    <tr>\n",
              "      <th>11</th>\n",
              "      <td>2021</td>\n",
              "      <td>May</td>\n",
              "      <td>12</td>\n",
              "      <td>7810</td>\n",
              "    </tr>\n",
              "    <tr>\n",
              "      <th>12</th>\n",
              "      <td>2021</td>\n",
              "      <td>May</td>\n",
              "      <td>13</td>\n",
              "      <td>8534</td>\n",
              "    </tr>\n",
              "    <tr>\n",
              "      <th>13</th>\n",
              "      <td>2021</td>\n",
              "      <td>May</td>\n",
              "      <td>14</td>\n",
              "      <td>9745</td>\n",
              "    </tr>\n",
              "    <tr>\n",
              "      <th>14</th>\n",
              "      <td>2021</td>\n",
              "      <td>May</td>\n",
              "      <td>15</td>\n",
              "      <td>11813</td>\n",
              "    </tr>\n",
              "    <tr>\n",
              "      <th>15</th>\n",
              "      <td>2021</td>\n",
              "      <td>May</td>\n",
              "      <td>16</td>\n",
              "      <td>14149</td>\n",
              "    </tr>\n",
              "    <tr>\n",
              "      <th>16</th>\n",
              "      <td>2021</td>\n",
              "      <td>May</td>\n",
              "      <td>17</td>\n",
              "      <td>13226</td>\n",
              "    </tr>\n",
              "    <tr>\n",
              "      <th>17</th>\n",
              "      <td>2021</td>\n",
              "      <td>May</td>\n",
              "      <td>18</td>\n",
              "      <td>11279</td>\n",
              "    </tr>\n",
              "    <tr>\n",
              "      <th>18</th>\n",
              "      <td>2021</td>\n",
              "      <td>May</td>\n",
              "      <td>19</td>\n",
              "      <td>9159</td>\n",
              "    </tr>\n",
              "    <tr>\n",
              "      <th>19</th>\n",
              "      <td>2021</td>\n",
              "      <td>May</td>\n",
              "      <td>20</td>\n",
              "      <td>7188</td>\n",
              "    </tr>\n",
              "    <tr>\n",
              "      <th>20</th>\n",
              "      <td>2021</td>\n",
              "      <td>May</td>\n",
              "      <td>21</td>\n",
              "      <td>5634</td>\n",
              "    </tr>\n",
              "    <tr>\n",
              "      <th>21</th>\n",
              "      <td>2021</td>\n",
              "      <td>May</td>\n",
              "      <td>22</td>\n",
              "      <td>5144</td>\n",
              "    </tr>\n",
              "    <tr>\n",
              "      <th>22</th>\n",
              "      <td>2021</td>\n",
              "      <td>May</td>\n",
              "      <td>23</td>\n",
              "      <td>3098</td>\n",
              "    </tr>\n",
              "  </tbody>\n",
              "</table>\n",
              "</div>"
            ],
            "text/plain": [
              "    year month  hour  count\n",
              "0   2021  June     0     40\n",
              "1   2021   May     0   1628\n",
              "2   2021   May     1      2\n",
              "3   2021   May     3      1\n",
              "4   2021   May     5    453\n",
              "5   2021   May     6   1894\n",
              "6   2021   May     7   6330\n",
              "7   2021   May     8   8820\n",
              "8   2021   May     9   6172\n",
              "9   2021   May    10   5625\n",
              "10  2021   May    11   6881\n",
              "11  2021   May    12   7810\n",
              "12  2021   May    13   8534\n",
              "13  2021   May    14   9745\n",
              "14  2021   May    15  11813\n",
              "15  2021   May    16  14149\n",
              "16  2021   May    17  13226\n",
              "17  2021   May    18  11279\n",
              "18  2021   May    19   9159\n",
              "19  2021   May    20   7188\n",
              "20  2021   May    21   5634\n",
              "21  2021   May    22   5144\n",
              "22  2021   May    23   3098"
            ]
          },
          "metadata": {
            "tags": []
          },
          "execution_count": 13
        }
      ]
    },
    {
      "cell_type": "code",
      "metadata": {
        "colab": {
          "base_uri": "https://localhost:8080/",
          "height": 343
        },
        "id": "DwAjTuTIk1o8",
        "outputId": "711e359d-c861-4bbf-a64b-d70978d39e9d"
      },
      "source": [
        "#Computing Top end_location stations\n",
        "en_loc = en_df.groupby(['year', 'month', 'end_station_name', 'end_station_latitude', 'end_station_longitude']).agg({'end_station_id': 'count',\n",
        "                                                                                                   'duration': 'mean'}).reset_index()\n",
        "en_loc = en_loc.assign(duration = round(en_loc['duration']/60, 2))\n",
        "en_loc = en_loc.rename(columns={'end_station_id': 'trips', 'duration': 'mean_min'}).sort_values(by='trips', ascending=False).reset_index(drop=True)\n",
        "en_loc = en_loc.rename(columns={'end_station_name':'name', 'end_station_latitude':'lat', 'end_station_longitude':'lon'})\n",
        "en_loc.head(10)"
      ],
      "execution_count": null,
      "outputs": [
        {
          "output_type": "execute_result",
          "data": {
            "text/html": [
              "<div>\n",
              "<style scoped>\n",
              "    .dataframe tbody tr th:only-of-type {\n",
              "        vertical-align: middle;\n",
              "    }\n",
              "\n",
              "    .dataframe tbody tr th {\n",
              "        vertical-align: top;\n",
              "    }\n",
              "\n",
              "    .dataframe thead th {\n",
              "        text-align: right;\n",
              "    }\n",
              "</style>\n",
              "<table border=\"1\" class=\"dataframe\">\n",
              "  <thead>\n",
              "    <tr style=\"text-align: right;\">\n",
              "      <th></th>\n",
              "      <th>year</th>\n",
              "      <th>month</th>\n",
              "      <th>name</th>\n",
              "      <th>lat</th>\n",
              "      <th>lon</th>\n",
              "      <th>trips</th>\n",
              "      <th>mean_min</th>\n",
              "    </tr>\n",
              "  </thead>\n",
              "  <tbody>\n",
              "    <tr>\n",
              "      <th>0</th>\n",
              "      <td>2021</td>\n",
              "      <td>May</td>\n",
              "      <td>Rådhusbrygge 4</td>\n",
              "      <td>59.910847</td>\n",
              "      <td>10.730377</td>\n",
              "      <td>2839</td>\n",
              "      <td>15.74</td>\n",
              "    </tr>\n",
              "    <tr>\n",
              "      <th>1</th>\n",
              "      <td>2021</td>\n",
              "      <td>May</td>\n",
              "      <td>Olaf Ryes plass</td>\n",
              "      <td>59.922425</td>\n",
              "      <td>10.758182</td>\n",
              "      <td>2186</td>\n",
              "      <td>12.01</td>\n",
              "    </tr>\n",
              "    <tr>\n",
              "      <th>2</th>\n",
              "      <td>2021</td>\n",
              "      <td>May</td>\n",
              "      <td>Alexander Kiellands Plass</td>\n",
              "      <td>59.928067</td>\n",
              "      <td>10.751203</td>\n",
              "      <td>2128</td>\n",
              "      <td>11.41</td>\n",
              "    </tr>\n",
              "    <tr>\n",
              "      <th>3</th>\n",
              "      <td>2021</td>\n",
              "      <td>May</td>\n",
              "      <td>Ringnes Park</td>\n",
              "      <td>59.928434</td>\n",
              "      <td>10.759430</td>\n",
              "      <td>1900</td>\n",
              "      <td>11.00</td>\n",
              "    </tr>\n",
              "    <tr>\n",
              "      <th>4</th>\n",
              "      <td>2021</td>\n",
              "      <td>May</td>\n",
              "      <td>Kirkeristen</td>\n",
              "      <td>59.913000</td>\n",
              "      <td>10.746761</td>\n",
              "      <td>1802</td>\n",
              "      <td>11.33</td>\n",
              "    </tr>\n",
              "    <tr>\n",
              "      <th>5</th>\n",
              "      <td>2021</td>\n",
              "      <td>May</td>\n",
              "      <td>Tjuvholmen</td>\n",
              "      <td>59.909467</td>\n",
              "      <td>10.722509</td>\n",
              "      <td>1712</td>\n",
              "      <td>14.58</td>\n",
              "    </tr>\n",
              "    <tr>\n",
              "      <th>6</th>\n",
              "      <td>2021</td>\n",
              "      <td>May</td>\n",
              "      <td>Sukkerbiten</td>\n",
              "      <td>59.905124</td>\n",
              "      <td>10.753764</td>\n",
              "      <td>1710</td>\n",
              "      <td>19.19</td>\n",
              "    </tr>\n",
              "    <tr>\n",
              "      <th>7</th>\n",
              "      <td>2021</td>\n",
              "      <td>May</td>\n",
              "      <td>Helga Helgesens plass</td>\n",
              "      <td>59.912111</td>\n",
              "      <td>10.766194</td>\n",
              "      <td>1628</td>\n",
              "      <td>12.82</td>\n",
              "    </tr>\n",
              "    <tr>\n",
              "      <th>8</th>\n",
              "      <td>2021</td>\n",
              "      <td>May</td>\n",
              "      <td>Torggata</td>\n",
              "      <td>59.915983</td>\n",
              "      <td>10.751551</td>\n",
              "      <td>1555</td>\n",
              "      <td>11.54</td>\n",
              "    </tr>\n",
              "    <tr>\n",
              "      <th>9</th>\n",
              "      <td>2021</td>\n",
              "      <td>May</td>\n",
              "      <td>Sjøsiden ved trappen</td>\n",
              "      <td>59.910154</td>\n",
              "      <td>10.751981</td>\n",
              "      <td>1514</td>\n",
              "      <td>14.68</td>\n",
              "    </tr>\n",
              "  </tbody>\n",
              "</table>\n",
              "</div>"
            ],
            "text/plain": [
              "   year month                       name        lat        lon  trips  mean_min\n",
              "0  2021   May             Rådhusbrygge 4  59.910847  10.730377   2839     15.74\n",
              "1  2021   May            Olaf Ryes plass  59.922425  10.758182   2186     12.01\n",
              "2  2021   May  Alexander Kiellands Plass  59.928067  10.751203   2128     11.41\n",
              "3  2021   May               Ringnes Park  59.928434  10.759430   1900     11.00\n",
              "4  2021   May                Kirkeristen  59.913000  10.746761   1802     11.33\n",
              "5  2021   May                 Tjuvholmen  59.909467  10.722509   1712     14.58\n",
              "6  2021   May                Sukkerbiten  59.905124  10.753764   1710     19.19\n",
              "7  2021   May      Helga Helgesens plass  59.912111  10.766194   1628     12.82\n",
              "8  2021   May                   Torggata  59.915983  10.751551   1555     11.54\n",
              "9  2021   May       Sjøsiden ved trappen  59.910154  10.751981   1514     14.68"
            ]
          },
          "metadata": {
            "tags": []
          },
          "execution_count": 14
        }
      ]
    },
    {
      "cell_type": "code",
      "metadata": {
        "colab": {
          "base_uri": "https://localhost:8080/",
          "height": 787
        },
        "id": "iLQ1iCA4jAb1",
        "outputId": "886f6957-bd56-4f20-d25b-bf0f71e71db6"
      },
      "source": [
        "#Computing top hours by month\n",
        "en_hr = en_df.groupby(['year', 'month', 'hour']).agg({'end_station_id': 'count'}).reset_index()\n",
        "en_hr = en_hr.rename(columns={'end_station_id': 'count'}).sort_values(by='hour').reset_index(drop=True)\n",
        "en_hr"
      ],
      "execution_count": null,
      "outputs": [
        {
          "output_type": "execute_result",
          "data": {
            "text/html": [
              "<div>\n",
              "<style scoped>\n",
              "    .dataframe tbody tr th:only-of-type {\n",
              "        vertical-align: middle;\n",
              "    }\n",
              "\n",
              "    .dataframe tbody tr th {\n",
              "        vertical-align: top;\n",
              "    }\n",
              "\n",
              "    .dataframe thead th {\n",
              "        text-align: right;\n",
              "    }\n",
              "</style>\n",
              "<table border=\"1\" class=\"dataframe\">\n",
              "  <thead>\n",
              "    <tr style=\"text-align: right;\">\n",
              "      <th></th>\n",
              "      <th>year</th>\n",
              "      <th>month</th>\n",
              "      <th>hour</th>\n",
              "      <th>count</th>\n",
              "    </tr>\n",
              "  </thead>\n",
              "  <tbody>\n",
              "    <tr>\n",
              "      <th>0</th>\n",
              "      <td>2021</td>\n",
              "      <td>June</td>\n",
              "      <td>0</td>\n",
              "      <td>51</td>\n",
              "    </tr>\n",
              "    <tr>\n",
              "      <th>1</th>\n",
              "      <td>2021</td>\n",
              "      <td>May</td>\n",
              "      <td>0</td>\n",
              "      <td>1803</td>\n",
              "    </tr>\n",
              "    <tr>\n",
              "      <th>2</th>\n",
              "      <td>2021</td>\n",
              "      <td>June</td>\n",
              "      <td>1</td>\n",
              "      <td>5</td>\n",
              "    </tr>\n",
              "    <tr>\n",
              "      <th>3</th>\n",
              "      <td>2021</td>\n",
              "      <td>May</td>\n",
              "      <td>1</td>\n",
              "      <td>336</td>\n",
              "    </tr>\n",
              "    <tr>\n",
              "      <th>4</th>\n",
              "      <td>2021</td>\n",
              "      <td>May</td>\n",
              "      <td>2</td>\n",
              "      <td>5</td>\n",
              "    </tr>\n",
              "    <tr>\n",
              "      <th>5</th>\n",
              "      <td>2021</td>\n",
              "      <td>May</td>\n",
              "      <td>3</td>\n",
              "      <td>4</td>\n",
              "    </tr>\n",
              "    <tr>\n",
              "      <th>6</th>\n",
              "      <td>2021</td>\n",
              "      <td>May</td>\n",
              "      <td>5</td>\n",
              "      <td>366</td>\n",
              "    </tr>\n",
              "    <tr>\n",
              "      <th>7</th>\n",
              "      <td>2021</td>\n",
              "      <td>May</td>\n",
              "      <td>6</td>\n",
              "      <td>1547</td>\n",
              "    </tr>\n",
              "    <tr>\n",
              "      <th>8</th>\n",
              "      <td>2021</td>\n",
              "      <td>May</td>\n",
              "      <td>7</td>\n",
              "      <td>5385</td>\n",
              "    </tr>\n",
              "    <tr>\n",
              "      <th>9</th>\n",
              "      <td>2021</td>\n",
              "      <td>May</td>\n",
              "      <td>8</td>\n",
              "      <td>8781</td>\n",
              "    </tr>\n",
              "    <tr>\n",
              "      <th>10</th>\n",
              "      <td>2021</td>\n",
              "      <td>May</td>\n",
              "      <td>9</td>\n",
              "      <td>6508</td>\n",
              "    </tr>\n",
              "    <tr>\n",
              "      <th>11</th>\n",
              "      <td>2021</td>\n",
              "      <td>May</td>\n",
              "      <td>10</td>\n",
              "      <td>5474</td>\n",
              "    </tr>\n",
              "    <tr>\n",
              "      <th>12</th>\n",
              "      <td>2021</td>\n",
              "      <td>May</td>\n",
              "      <td>11</td>\n",
              "      <td>6441</td>\n",
              "    </tr>\n",
              "    <tr>\n",
              "      <th>13</th>\n",
              "      <td>2021</td>\n",
              "      <td>May</td>\n",
              "      <td>12</td>\n",
              "      <td>7544</td>\n",
              "    </tr>\n",
              "    <tr>\n",
              "      <th>14</th>\n",
              "      <td>2021</td>\n",
              "      <td>May</td>\n",
              "      <td>13</td>\n",
              "      <td>8328</td>\n",
              "    </tr>\n",
              "    <tr>\n",
              "      <th>15</th>\n",
              "      <td>2021</td>\n",
              "      <td>May</td>\n",
              "      <td>14</td>\n",
              "      <td>9511</td>\n",
              "    </tr>\n",
              "    <tr>\n",
              "      <th>16</th>\n",
              "      <td>2021</td>\n",
              "      <td>May</td>\n",
              "      <td>15</td>\n",
              "      <td>11306</td>\n",
              "    </tr>\n",
              "    <tr>\n",
              "      <th>17</th>\n",
              "      <td>2021</td>\n",
              "      <td>May</td>\n",
              "      <td>16</td>\n",
              "      <td>13903</td>\n",
              "    </tr>\n",
              "    <tr>\n",
              "      <th>18</th>\n",
              "      <td>2021</td>\n",
              "      <td>May</td>\n",
              "      <td>17</td>\n",
              "      <td>13382</td>\n",
              "    </tr>\n",
              "    <tr>\n",
              "      <th>19</th>\n",
              "      <td>2021</td>\n",
              "      <td>May</td>\n",
              "      <td>18</td>\n",
              "      <td>11810</td>\n",
              "    </tr>\n",
              "    <tr>\n",
              "      <th>20</th>\n",
              "      <td>2021</td>\n",
              "      <td>May</td>\n",
              "      <td>19</td>\n",
              "      <td>9559</td>\n",
              "    </tr>\n",
              "    <tr>\n",
              "      <th>21</th>\n",
              "      <td>2021</td>\n",
              "      <td>May</td>\n",
              "      <td>20</td>\n",
              "      <td>7615</td>\n",
              "    </tr>\n",
              "    <tr>\n",
              "      <th>22</th>\n",
              "      <td>2021</td>\n",
              "      <td>May</td>\n",
              "      <td>21</td>\n",
              "      <td>5952</td>\n",
              "    </tr>\n",
              "    <tr>\n",
              "      <th>23</th>\n",
              "      <td>2021</td>\n",
              "      <td>May</td>\n",
              "      <td>22</td>\n",
              "      <td>5469</td>\n",
              "    </tr>\n",
              "    <tr>\n",
              "      <th>24</th>\n",
              "      <td>2021</td>\n",
              "      <td>May</td>\n",
              "      <td>23</td>\n",
              "      <td>3540</td>\n",
              "    </tr>\n",
              "  </tbody>\n",
              "</table>\n",
              "</div>"
            ],
            "text/plain": [
              "    year month  hour  count\n",
              "0   2021  June     0     51\n",
              "1   2021   May     0   1803\n",
              "2   2021  June     1      5\n",
              "3   2021   May     1    336\n",
              "4   2021   May     2      5\n",
              "5   2021   May     3      4\n",
              "6   2021   May     5    366\n",
              "7   2021   May     6   1547\n",
              "8   2021   May     7   5385\n",
              "9   2021   May     8   8781\n",
              "10  2021   May     9   6508\n",
              "11  2021   May    10   5474\n",
              "12  2021   May    11   6441\n",
              "13  2021   May    12   7544\n",
              "14  2021   May    13   8328\n",
              "15  2021   May    14   9511\n",
              "16  2021   May    15  11306\n",
              "17  2021   May    16  13903\n",
              "18  2021   May    17  13382\n",
              "19  2021   May    18  11810\n",
              "20  2021   May    19   9559\n",
              "21  2021   May    20   7615\n",
              "22  2021   May    21   5952\n",
              "23  2021   May    22   5469\n",
              "24  2021   May    23   3540"
            ]
          },
          "metadata": {
            "tags": []
          },
          "execution_count": 15
        }
      ]
    },
    {
      "cell_type": "code",
      "metadata": {
        "colab": {
          "base_uri": "https://localhost:8080/",
          "height": 17
        },
        "id": "GdT1R7f8dMty",
        "outputId": "7e757b27-989b-4b08-852e-581e10fb4a94"
      },
      "source": [
        "#Exporting to csv into local disk\n",
        "from google.colab import files\n",
        "st_loc.to_csv('2021_05_st_loc.csv', index=False, header=False)\n",
        "files.download('2021_05_st_loc.csv')"
      ],
      "execution_count": null,
      "outputs": [
        {
          "output_type": "display_data",
          "data": {
            "application/javascript": [
              "\n",
              "    async function download(id, filename, size) {\n",
              "      if (!google.colab.kernel.accessAllowed) {\n",
              "        return;\n",
              "      }\n",
              "      const div = document.createElement('div');\n",
              "      const label = document.createElement('label');\n",
              "      label.textContent = `Downloading \"${filename}\": `;\n",
              "      div.appendChild(label);\n",
              "      const progress = document.createElement('progress');\n",
              "      progress.max = size;\n",
              "      div.appendChild(progress);\n",
              "      document.body.appendChild(div);\n",
              "\n",
              "      const buffers = [];\n",
              "      let downloaded = 0;\n",
              "\n",
              "      const channel = await google.colab.kernel.comms.open(id);\n",
              "      // Send a message to notify the kernel that we're ready.\n",
              "      channel.send({})\n",
              "\n",
              "      for await (const message of channel.messages) {\n",
              "        // Send a message to notify the kernel that we're ready.\n",
              "        channel.send({})\n",
              "        if (message.buffers) {\n",
              "          for (const buffer of message.buffers) {\n",
              "            buffers.push(buffer);\n",
              "            downloaded += buffer.byteLength;\n",
              "            progress.value = downloaded;\n",
              "          }\n",
              "        }\n",
              "      }\n",
              "      const blob = new Blob(buffers, {type: 'application/binary'});\n",
              "      const a = document.createElement('a');\n",
              "      a.href = window.URL.createObjectURL(blob);\n",
              "      a.download = filename;\n",
              "      div.appendChild(a);\n",
              "      a.click();\n",
              "      div.remove();\n",
              "    }\n",
              "  "
            ],
            "text/plain": [
              "<IPython.core.display.Javascript object>"
            ]
          },
          "metadata": {
            "tags": []
          }
        },
        {
          "output_type": "display_data",
          "data": {
            "application/javascript": [
              "download(\"download_c8d41b66-1777-47c3-9e47-c47478f9f6fa\", \"2021_05_st_loc.csv\", 18610)"
            ],
            "text/plain": [
              "<IPython.core.display.Javascript object>"
            ]
          },
          "metadata": {
            "tags": []
          }
        }
      ]
    },
    {
      "cell_type": "code",
      "metadata": {
        "colab": {
          "base_uri": "https://localhost:8080/",
          "height": 17
        },
        "id": "Ojg-WjP7je1T",
        "outputId": "31992d62-674c-42ff-9183-fc73657073c7"
      },
      "source": [
        "#Exporting to csv into local disk\n",
        "from google.colab import files\n",
        "st_hr.to_csv('2021_05_st_hr.csv', index=False, header=False)\n",
        "files.download('2021_05_st_hr.csv')"
      ],
      "execution_count": null,
      "outputs": [
        {
          "output_type": "display_data",
          "data": {
            "application/javascript": [
              "\n",
              "    async function download(id, filename, size) {\n",
              "      if (!google.colab.kernel.accessAllowed) {\n",
              "        return;\n",
              "      }\n",
              "      const div = document.createElement('div');\n",
              "      const label = document.createElement('label');\n",
              "      label.textContent = `Downloading \"${filename}\": `;\n",
              "      div.appendChild(label);\n",
              "      const progress = document.createElement('progress');\n",
              "      progress.max = size;\n",
              "      div.appendChild(progress);\n",
              "      document.body.appendChild(div);\n",
              "\n",
              "      const buffers = [];\n",
              "      let downloaded = 0;\n",
              "\n",
              "      const channel = await google.colab.kernel.comms.open(id);\n",
              "      // Send a message to notify the kernel that we're ready.\n",
              "      channel.send({})\n",
              "\n",
              "      for await (const message of channel.messages) {\n",
              "        // Send a message to notify the kernel that we're ready.\n",
              "        channel.send({})\n",
              "        if (message.buffers) {\n",
              "          for (const buffer of message.buffers) {\n",
              "            buffers.push(buffer);\n",
              "            downloaded += buffer.byteLength;\n",
              "            progress.value = downloaded;\n",
              "          }\n",
              "        }\n",
              "      }\n",
              "      const blob = new Blob(buffers, {type: 'application/binary'});\n",
              "      const a = document.createElement('a');\n",
              "      a.href = window.URL.createObjectURL(blob);\n",
              "      a.download = filename;\n",
              "      div.appendChild(a);\n",
              "      a.click();\n",
              "      div.remove();\n",
              "    }\n",
              "  "
            ],
            "text/plain": [
              "<IPython.core.display.Javascript object>"
            ]
          },
          "metadata": {
            "tags": []
          }
        },
        {
          "output_type": "display_data",
          "data": {
            "application/javascript": [
              "download(\"download_e4e822ee-d71a-4866-aea6-755416370041\", \"2021_05_st_hr.csv\", 378)"
            ],
            "text/plain": [
              "<IPython.core.display.Javascript object>"
            ]
          },
          "metadata": {
            "tags": []
          }
        }
      ]
    },
    {
      "cell_type": "code",
      "metadata": {
        "colab": {
          "base_uri": "https://localhost:8080/",
          "height": 17
        },
        "id": "uCKJfsixeT7n",
        "outputId": "bc661bcf-982c-4925-845f-93fc8ac1bdf9"
      },
      "source": [
        "#Exporting to excel into local disk\n",
        "from google.colab import files\n",
        "en_loc.to_csv('2021_05_en_loc.csv', index=False, header=False)\n",
        "files.download('2021_05_en_loc.csv')"
      ],
      "execution_count": null,
      "outputs": [
        {
          "output_type": "display_data",
          "data": {
            "application/javascript": [
              "\n",
              "    async function download(id, filename, size) {\n",
              "      if (!google.colab.kernel.accessAllowed) {\n",
              "        return;\n",
              "      }\n",
              "      const div = document.createElement('div');\n",
              "      const label = document.createElement('label');\n",
              "      label.textContent = `Downloading \"${filename}\": `;\n",
              "      div.appendChild(label);\n",
              "      const progress = document.createElement('progress');\n",
              "      progress.max = size;\n",
              "      div.appendChild(progress);\n",
              "      document.body.appendChild(div);\n",
              "\n",
              "      const buffers = [];\n",
              "      let downloaded = 0;\n",
              "\n",
              "      const channel = await google.colab.kernel.comms.open(id);\n",
              "      // Send a message to notify the kernel that we're ready.\n",
              "      channel.send({})\n",
              "\n",
              "      for await (const message of channel.messages) {\n",
              "        // Send a message to notify the kernel that we're ready.\n",
              "        channel.send({})\n",
              "        if (message.buffers) {\n",
              "          for (const buffer of message.buffers) {\n",
              "            buffers.push(buffer);\n",
              "            downloaded += buffer.byteLength;\n",
              "            progress.value = downloaded;\n",
              "          }\n",
              "        }\n",
              "      }\n",
              "      const blob = new Blob(buffers, {type: 'application/binary'});\n",
              "      const a = document.createElement('a');\n",
              "      a.href = window.URL.createObjectURL(blob);\n",
              "      a.download = filename;\n",
              "      div.appendChild(a);\n",
              "      a.click();\n",
              "      div.remove();\n",
              "    }\n",
              "  "
            ],
            "text/plain": [
              "<IPython.core.display.Javascript object>"
            ]
          },
          "metadata": {
            "tags": []
          }
        },
        {
          "output_type": "display_data",
          "data": {
            "application/javascript": [
              "download(\"download_80775231-986a-4dbe-abaf-f313f028dc08\", \"2021_05_en_loc.csv\", 18697)"
            ],
            "text/plain": [
              "<IPython.core.display.Javascript object>"
            ]
          },
          "metadata": {
            "tags": []
          }
        }
      ]
    },
    {
      "cell_type": "code",
      "metadata": {
        "colab": {
          "base_uri": "https://localhost:8080/",
          "height": 17
        },
        "id": "3OgAbyA1juOI",
        "outputId": "2abcd90c-b532-42ba-cd8a-579910602396"
      },
      "source": [
        "#Exporting to csv into local disk\n",
        "from google.colab import files\n",
        "en_hr.to_csv('2021_05_en_hr.csv', index=False, header=False)\n",
        "files.download('2021_05_en_hr.csv')"
      ],
      "execution_count": null,
      "outputs": [
        {
          "output_type": "display_data",
          "data": {
            "application/javascript": [
              "\n",
              "    async function download(id, filename, size) {\n",
              "      if (!google.colab.kernel.accessAllowed) {\n",
              "        return;\n",
              "      }\n",
              "      const div = document.createElement('div');\n",
              "      const label = document.createElement('label');\n",
              "      label.textContent = `Downloading \"${filename}\": `;\n",
              "      div.appendChild(label);\n",
              "      const progress = document.createElement('progress');\n",
              "      progress.max = size;\n",
              "      div.appendChild(progress);\n",
              "      document.body.appendChild(div);\n",
              "\n",
              "      const buffers = [];\n",
              "      let downloaded = 0;\n",
              "\n",
              "      const channel = await google.colab.kernel.comms.open(id);\n",
              "      // Send a message to notify the kernel that we're ready.\n",
              "      channel.send({})\n",
              "\n",
              "      for await (const message of channel.messages) {\n",
              "        // Send a message to notify the kernel that we're ready.\n",
              "        channel.send({})\n",
              "        if (message.buffers) {\n",
              "          for (const buffer of message.buffers) {\n",
              "            buffers.push(buffer);\n",
              "            downloaded += buffer.byteLength;\n",
              "            progress.value = downloaded;\n",
              "          }\n",
              "        }\n",
              "      }\n",
              "      const blob = new Blob(buffers, {type: 'application/binary'});\n",
              "      const a = document.createElement('a');\n",
              "      a.href = window.URL.createObjectURL(blob);\n",
              "      a.download = filename;\n",
              "      div.appendChild(a);\n",
              "      a.click();\n",
              "      div.remove();\n",
              "    }\n",
              "  "
            ],
            "text/plain": [
              "<IPython.core.display.Javascript object>"
            ]
          },
          "metadata": {
            "tags": []
          }
        },
        {
          "output_type": "display_data",
          "data": {
            "application/javascript": [
              "download(\"download_c0771e86-4ff6-45e8-822c-d53b0ab207c3\", \"2021_05_en_hr.csv\", 407)"
            ],
            "text/plain": [
              "<IPython.core.display.Javascript object>"
            ]
          },
          "metadata": {
            "tags": []
          }
        }
      ]
    },
    {
      "cell_type": "markdown",
      "metadata": {
        "id": "c8cFTBBCngUc"
      },
      "source": [
        "##Joining csv files in local disk"
      ]
    },
    {
      "cell_type": "code",
      "metadata": {
        "id": "KPwZIJ1jnbTu"
      },
      "source": [
        "#Using OS from the command line to merge historic data\n",
        "type 202*_**_en_hr.csv > en_hr_merged.csv\n",
        "type 202*_**_en_loc.csv > en_loc_merged.csv\n",
        "type 202*_**_st_hr.csv > st_hr_merged.csv\n",
        "type 202*_**_st_loc.csv > st_loc_merged.csv"
      ],
      "execution_count": null,
      "outputs": []
    },
    {
      "cell_type": "markdown",
      "metadata": {
        "id": "Tbg_Y30tVHIR"
      },
      "source": [
        "##Cleaning aggregated data (hours of day)"
      ]
    },
    {
      "cell_type": "code",
      "metadata": {
        "colab": {
          "resources": {
            "http://localhost:8080/nbextensions/google.colab/files.js": {
              "data": "Ly8gQ29weXJpZ2h0IDIwMTcgR29vZ2xlIExMQwovLwovLyBMaWNlbnNlZCB1bmRlciB0aGUgQXBhY2hlIExpY2Vuc2UsIFZlcnNpb24gMi4wICh0aGUgIkxpY2Vuc2UiKTsKLy8geW91IG1heSBub3QgdXNlIHRoaXMgZmlsZSBleGNlcHQgaW4gY29tcGxpYW5jZSB3aXRoIHRoZSBMaWNlbnNlLgovLyBZb3UgbWF5IG9idGFpbiBhIGNvcHkgb2YgdGhlIExpY2Vuc2UgYXQKLy8KLy8gICAgICBodHRwOi8vd3d3LmFwYWNoZS5vcmcvbGljZW5zZXMvTElDRU5TRS0yLjAKLy8KLy8gVW5sZXNzIHJlcXVpcmVkIGJ5IGFwcGxpY2FibGUgbGF3IG9yIGFncmVlZCB0byBpbiB3cml0aW5nLCBzb2Z0d2FyZQovLyBkaXN0cmlidXRlZCB1bmRlciB0aGUgTGljZW5zZSBpcyBkaXN0cmlidXRlZCBvbiBhbiAiQVMgSVMiIEJBU0lTLAovLyBXSVRIT1VUIFdBUlJBTlRJRVMgT1IgQ09ORElUSU9OUyBPRiBBTlkgS0lORCwgZWl0aGVyIGV4cHJlc3Mgb3IgaW1wbGllZC4KLy8gU2VlIHRoZSBMaWNlbnNlIGZvciB0aGUgc3BlY2lmaWMgbGFuZ3VhZ2UgZ292ZXJuaW5nIHBlcm1pc3Npb25zIGFuZAovLyBsaW1pdGF0aW9ucyB1bmRlciB0aGUgTGljZW5zZS4KCi8qKgogKiBAZmlsZW92ZXJ2aWV3IEhlbHBlcnMgZm9yIGdvb2dsZS5jb2xhYiBQeXRob24gbW9kdWxlLgogKi8KKGZ1bmN0aW9uKHNjb3BlKSB7CmZ1bmN0aW9uIHNwYW4odGV4dCwgc3R5bGVBdHRyaWJ1dGVzID0ge30pIHsKICBjb25zdCBlbGVtZW50ID0gZG9jdW1lbnQuY3JlYXRlRWxlbWVudCgnc3BhbicpOwogIGVsZW1lbnQudGV4dENvbnRlbnQgPSB0ZXh0OwogIGZvciAoY29uc3Qga2V5IG9mIE9iamVjdC5rZXlzKHN0eWxlQXR0cmlidXRlcykpIHsKICAgIGVsZW1lbnQuc3R5bGVba2V5XSA9IHN0eWxlQXR0cmlidXRlc1trZXldOwogIH0KICByZXR1cm4gZWxlbWVudDsKfQoKLy8gTWF4IG51bWJlciBvZiBieXRlcyB3aGljaCB3aWxsIGJlIHVwbG9hZGVkIGF0IGEgdGltZS4KY29uc3QgTUFYX1BBWUxPQURfU0laRSA9IDEwMCAqIDEwMjQ7CgpmdW5jdGlvbiBfdXBsb2FkRmlsZXMoaW5wdXRJZCwgb3V0cHV0SWQpIHsKICBjb25zdCBzdGVwcyA9IHVwbG9hZEZpbGVzU3RlcChpbnB1dElkLCBvdXRwdXRJZCk7CiAgY29uc3Qgb3V0cHV0RWxlbWVudCA9IGRvY3VtZW50LmdldEVsZW1lbnRCeUlkKG91dHB1dElkKTsKICAvLyBDYWNoZSBzdGVwcyBvbiB0aGUgb3V0cHV0RWxlbWVudCB0byBtYWtlIGl0IGF2YWlsYWJsZSBmb3IgdGhlIG5leHQgY2FsbAogIC8vIHRvIHVwbG9hZEZpbGVzQ29udGludWUgZnJvbSBQeXRob24uCiAgb3V0cHV0RWxlbWVudC5zdGVwcyA9IHN0ZXBzOwoKICByZXR1cm4gX3VwbG9hZEZpbGVzQ29udGludWUob3V0cHV0SWQpOwp9CgovLyBUaGlzIGlzIHJvdWdobHkgYW4gYXN5bmMgZ2VuZXJhdG9yIChub3Qgc3VwcG9ydGVkIGluIHRoZSBicm93c2VyIHlldCksCi8vIHdoZXJlIHRoZXJlIGFyZSBtdWx0aXBsZSBhc3luY2hyb25vdXMgc3RlcHMgYW5kIHRoZSBQeXRob24gc2lkZSBpcyBnb2luZwovLyB0byBwb2xsIGZvciBjb21wbGV0aW9uIG9mIGVhY2ggc3RlcC4KLy8gVGhpcyB1c2VzIGEgUHJvbWlzZSB0byBibG9jayB0aGUgcHl0aG9uIHNpZGUgb24gY29tcGxldGlvbiBvZiBlYWNoIHN0ZXAsCi8vIHRoZW4gcGFzc2VzIHRoZSByZXN1bHQgb2YgdGhlIHByZXZpb3VzIHN0ZXAgYXMgdGhlIGlucHV0IHRvIHRoZSBuZXh0IHN0ZXAuCmZ1bmN0aW9uIF91cGxvYWRGaWxlc0NvbnRpbnVlKG91dHB1dElkKSB7CiAgY29uc3Qgb3V0cHV0RWxlbWVudCA9IGRvY3VtZW50LmdldEVsZW1lbnRCeUlkKG91dHB1dElkKTsKICBjb25zdCBzdGVwcyA9IG91dHB1dEVsZW1lbnQuc3RlcHM7CgogIGNvbnN0IG5leHQgPSBzdGVwcy5uZXh0KG91dHB1dEVsZW1lbnQubGFzdFByb21pc2VWYWx1ZSk7CiAgcmV0dXJuIFByb21pc2UucmVzb2x2ZShuZXh0LnZhbHVlLnByb21pc2UpLnRoZW4oKHZhbHVlKSA9PiB7CiAgICAvLyBDYWNoZSB0aGUgbGFzdCBwcm9taXNlIHZhbHVlIHRvIG1ha2UgaXQgYXZhaWxhYmxlIHRvIHRoZSBuZXh0CiAgICAvLyBzdGVwIG9mIHRoZSBnZW5lcmF0b3IuCiAgICBvdXRwdXRFbGVtZW50Lmxhc3RQcm9taXNlVmFsdWUgPSB2YWx1ZTsKICAgIHJldHVybiBuZXh0LnZhbHVlLnJlc3BvbnNlOwogIH0pOwp9CgovKioKICogR2VuZXJhdG9yIGZ1bmN0aW9uIHdoaWNoIGlzIGNhbGxlZCBiZXR3ZWVuIGVhY2ggYXN5bmMgc3RlcCBvZiB0aGUgdXBsb2FkCiAqIHByb2Nlc3MuCiAqIEBwYXJhbSB7c3RyaW5nfSBpbnB1dElkIEVsZW1lbnQgSUQgb2YgdGhlIGlucHV0IGZpbGUgcGlja2VyIGVsZW1lbnQuCiAqIEBwYXJhbSB7c3RyaW5nfSBvdXRwdXRJZCBFbGVtZW50IElEIG9mIHRoZSBvdXRwdXQgZGlzcGxheS4KICogQHJldHVybiB7IUl0ZXJhYmxlPCFPYmplY3Q+fSBJdGVyYWJsZSBvZiBuZXh0IHN0ZXBzLgogKi8KZnVuY3Rpb24qIHVwbG9hZEZpbGVzU3RlcChpbnB1dElkLCBvdXRwdXRJZCkgewogIGNvbnN0IGlucHV0RWxlbWVudCA9IGRvY3VtZW50LmdldEVsZW1lbnRCeUlkKGlucHV0SWQpOwogIGlucHV0RWxlbWVudC5kaXNhYmxlZCA9IGZhbHNlOwoKICBjb25zdCBvdXRwdXRFbGVtZW50ID0gZG9jdW1lbnQuZ2V0RWxlbWVudEJ5SWQob3V0cHV0SWQpOwogIG91dHB1dEVsZW1lbnQuaW5uZXJIVE1MID0gJyc7CgogIGNvbnN0IHBpY2tlZFByb21pc2UgPSBuZXcgUHJvbWlzZSgocmVzb2x2ZSkgPT4gewogICAgaW5wdXRFbGVtZW50LmFkZEV2ZW50TGlzdGVuZXIoJ2NoYW5nZScsIChlKSA9PiB7CiAgICAgIHJlc29sdmUoZS50YXJnZXQuZmlsZXMpOwogICAgfSk7CiAgfSk7CgogIGNvbnN0IGNhbmNlbCA9IGRvY3VtZW50LmNyZWF0ZUVsZW1lbnQoJ2J1dHRvbicpOwogIGlucHV0RWxlbWVudC5wYXJlbnRFbGVtZW50LmFwcGVuZENoaWxkKGNhbmNlbCk7CiAgY2FuY2VsLnRleHRDb250ZW50ID0gJ0NhbmNlbCB1cGxvYWQnOwogIGNvbnN0IGNhbmNlbFByb21pc2UgPSBuZXcgUHJvbWlzZSgocmVzb2x2ZSkgPT4gewogICAgY2FuY2VsLm9uY2xpY2sgPSAoKSA9PiB7CiAgICAgIHJlc29sdmUobnVsbCk7CiAgICB9OwogIH0pOwoKICAvLyBXYWl0IGZvciB0aGUgdXNlciB0byBwaWNrIHRoZSBmaWxlcy4KICBjb25zdCBmaWxlcyA9IHlpZWxkIHsKICAgIHByb21pc2U6IFByb21pc2UucmFjZShbcGlja2VkUHJvbWlzZSwgY2FuY2VsUHJvbWlzZV0pLAogICAgcmVzcG9uc2U6IHsKICAgICAgYWN0aW9uOiAnc3RhcnRpbmcnLAogICAgfQogIH07CgogIGNhbmNlbC5yZW1vdmUoKTsKCiAgLy8gRGlzYWJsZSB0aGUgaW5wdXQgZWxlbWVudCBzaW5jZSBmdXJ0aGVyIHBpY2tzIGFyZSBub3QgYWxsb3dlZC4KICBpbnB1dEVsZW1lbnQuZGlzYWJsZWQgPSB0cnVlOwoKICBpZiAoIWZpbGVzKSB7CiAgICByZXR1cm4gewogICAgICByZXNwb25zZTogewogICAgICAgIGFjdGlvbjogJ2NvbXBsZXRlJywKICAgICAgfQogICAgfTsKICB9CgogIGZvciAoY29uc3QgZmlsZSBvZiBmaWxlcykgewogICAgY29uc3QgbGkgPSBkb2N1bWVudC5jcmVhdGVFbGVtZW50KCdsaScpOwogICAgbGkuYXBwZW5kKHNwYW4oZmlsZS5uYW1lLCB7Zm9udFdlaWdodDogJ2JvbGQnfSkpOwogICAgbGkuYXBwZW5kKHNwYW4oCiAgICAgICAgYCgke2ZpbGUudHlwZSB8fCAnbi9hJ30pIC0gJHtmaWxlLnNpemV9IGJ5dGVzLCBgICsKICAgICAgICBgbGFzdCBtb2RpZmllZDogJHsKICAgICAgICAgICAgZmlsZS5sYXN0TW9kaWZpZWREYXRlID8gZmlsZS5sYXN0TW9kaWZpZWREYXRlLnRvTG9jYWxlRGF0ZVN0cmluZygpIDoKICAgICAgICAgICAgICAgICAgICAgICAgICAgICAgICAgICAgJ24vYSd9IC0gYCkpOwogICAgY29uc3QgcGVyY2VudCA9IHNwYW4oJzAlIGRvbmUnKTsKICAgIGxpLmFwcGVuZENoaWxkKHBlcmNlbnQpOwoKICAgIG91dHB1dEVsZW1lbnQuYXBwZW5kQ2hpbGQobGkpOwoKICAgIGNvbnN0IGZpbGVEYXRhUHJvbWlzZSA9IG5ldyBQcm9taXNlKChyZXNvbHZlKSA9PiB7CiAgICAgIGNvbnN0IHJlYWRlciA9IG5ldyBGaWxlUmVhZGVyKCk7CiAgICAgIHJlYWRlci5vbmxvYWQgPSAoZSkgPT4gewogICAgICAgIHJlc29sdmUoZS50YXJnZXQucmVzdWx0KTsKICAgICAgfTsKICAgICAgcmVhZGVyLnJlYWRBc0FycmF5QnVmZmVyKGZpbGUpOwogICAgfSk7CiAgICAvLyBXYWl0IGZvciB0aGUgZGF0YSB0byBiZSByZWFkeS4KICAgIGxldCBmaWxlRGF0YSA9IHlpZWxkIHsKICAgICAgcHJvbWlzZTogZmlsZURhdGFQcm9taXNlLAogICAgICByZXNwb25zZTogewogICAgICAgIGFjdGlvbjogJ2NvbnRpbnVlJywKICAgICAgfQogICAgfTsKCiAgICAvLyBVc2UgYSBjaHVua2VkIHNlbmRpbmcgdG8gYXZvaWQgbWVzc2FnZSBzaXplIGxpbWl0cy4gU2VlIGIvNjIxMTU2NjAuCiAgICBsZXQgcG9zaXRpb24gPSAwOwogICAgd2hpbGUgKHBvc2l0aW9uIDwgZmlsZURhdGEuYnl0ZUxlbmd0aCkgewogICAgICBjb25zdCBsZW5ndGggPSBNYXRoLm1pbihmaWxlRGF0YS5ieXRlTGVuZ3RoIC0gcG9zaXRpb24sIE1BWF9QQVlMT0FEX1NJWkUpOwogICAgICBjb25zdCBjaHVuayA9IG5ldyBVaW50OEFycmF5KGZpbGVEYXRhLCBwb3NpdGlvbiwgbGVuZ3RoKTsKICAgICAgcG9zaXRpb24gKz0gbGVuZ3RoOwoKICAgICAgY29uc3QgYmFzZTY0ID0gYnRvYShTdHJpbmcuZnJvbUNoYXJDb2RlLmFwcGx5KG51bGwsIGNodW5rKSk7CiAgICAgIHlpZWxkIHsKICAgICAgICByZXNwb25zZTogewogICAgICAgICAgYWN0aW9uOiAnYXBwZW5kJywKICAgICAgICAgIGZpbGU6IGZpbGUubmFtZSwKICAgICAgICAgIGRhdGE6IGJhc2U2NCwKICAgICAgICB9LAogICAgICB9OwogICAgICBwZXJjZW50LnRleHRDb250ZW50ID0KICAgICAgICAgIGAke01hdGgucm91bmQoKHBvc2l0aW9uIC8gZmlsZURhdGEuYnl0ZUxlbmd0aCkgKiAxMDApfSUgZG9uZWA7CiAgICB9CiAgfQoKICAvLyBBbGwgZG9uZS4KICB5aWVsZCB7CiAgICByZXNwb25zZTogewogICAgICBhY3Rpb246ICdjb21wbGV0ZScsCiAgICB9CiAgfTsKfQoKc2NvcGUuZ29vZ2xlID0gc2NvcGUuZ29vZ2xlIHx8IHt9OwpzY29wZS5nb29nbGUuY29sYWIgPSBzY29wZS5nb29nbGUuY29sYWIgfHwge307CnNjb3BlLmdvb2dsZS5jb2xhYi5fZmlsZXMgPSB7CiAgX3VwbG9hZEZpbGVzLAogIF91cGxvYWRGaWxlc0NvbnRpbnVlLAp9Owp9KShzZWxmKTsK",
              "ok": true,
              "headers": [
                [
                  "content-type",
                  "application/javascript"
                ]
              ],
              "status": 200,
              "status_text": ""
            }
          },
          "base_uri": "https://localhost:8080/",
          "height": 73
        },
        "id": "glMP-JacsqbT",
        "outputId": "8821280e-1701-459d-a929-4a5c42dff08f"
      },
      "source": [
        "#Uploading aggregated data files from local drive\n",
        "from google.colab import files\n",
        "uploaded1 = files.upload()"
      ],
      "execution_count": null,
      "outputs": [
        {
          "output_type": "display_data",
          "data": {
            "text/html": [
              "\n",
              "     <input type=\"file\" id=\"files-972f2aba-b511-4f9d-94c9-a8d2ccb98287\" name=\"files[]\" multiple disabled\n",
              "        style=\"border:none\" />\n",
              "     <output id=\"result-972f2aba-b511-4f9d-94c9-a8d2ccb98287\">\n",
              "      Upload widget is only available when the cell has been executed in the\n",
              "      current browser session. Please rerun this cell to enable.\n",
              "      </output>\n",
              "      <script src=\"/nbextensions/google.colab/files.js\"></script> "
            ],
            "text/plain": [
              "<IPython.core.display.HTML object>"
            ]
          },
          "metadata": {
            "tags": []
          }
        },
        {
          "output_type": "stream",
          "text": [
            "Saving st_hr_merged.csv to st_hr_merged.csv\n"
          ],
          "name": "stdout"
        }
      ]
    },
    {
      "cell_type": "code",
      "metadata": {
        "id": "cSHG9v_hsqbV"
      },
      "source": [
        "#Reading aggregated data and storing into a Pandas Dataframe\n",
        "import io\n",
        "hr_col = ['year', 'month', 'hour', 'count']\n",
        "hours_df = pd.read_csv(io.BytesIO(uploaded1['st_hr_merged.csv']), header=None, names=hr_col)"
      ],
      "execution_count": null,
      "outputs": []
    },
    {
      "cell_type": "code",
      "metadata": {
        "colab": {
          "base_uri": "https://localhost:8080/"
        },
        "id": "xbV2B-mstkvj",
        "outputId": "3a6a9c44-5cd1-4b9d-c151-435a39afb73c"
      },
      "source": [
        "#Checking the dataframe info\n",
        "hours_df.info()"
      ],
      "execution_count": null,
      "outputs": [
        {
          "output_type": "stream",
          "text": [
            "<class 'pandas.core.frame.DataFrame'>\n",
            "RangeIndex: 336 entries, 0 to 335\n",
            "Data columns (total 4 columns):\n",
            " #   Column  Non-Null Count  Dtype \n",
            "---  ------  --------------  ----- \n",
            " 0   year    336 non-null    int64 \n",
            " 1   month   336 non-null    object\n",
            " 2   hour    336 non-null    int64 \n",
            " 3   count   336 non-null    int64 \n",
            "dtypes: int64(3), object(1)\n",
            "memory usage: 10.6+ KB\n"
          ],
          "name": "stdout"
        }
      ]
    },
    {
      "cell_type": "code",
      "metadata": {
        "colab": {
          "base_uri": "https://localhost:8080/",
          "height": 343
        },
        "id": "dsRvaUsZv1BP",
        "outputId": "17557d97-334b-48f2-cd87-0b177a1e1d78"
      },
      "source": [
        "#Check the dataframe head\n",
        "hours_df.head(10)"
      ],
      "execution_count": null,
      "outputs": [
        {
          "output_type": "execute_result",
          "data": {
            "text/html": [
              "<div>\n",
              "<style scoped>\n",
              "    .dataframe tbody tr th:only-of-type {\n",
              "        vertical-align: middle;\n",
              "    }\n",
              "\n",
              "    .dataframe tbody tr th {\n",
              "        vertical-align: top;\n",
              "    }\n",
              "\n",
              "    .dataframe thead th {\n",
              "        text-align: right;\n",
              "    }\n",
              "</style>\n",
              "<table border=\"1\" class=\"dataframe\">\n",
              "  <thead>\n",
              "    <tr style=\"text-align: right;\">\n",
              "      <th></th>\n",
              "      <th>year</th>\n",
              "      <th>month</th>\n",
              "      <th>hour</th>\n",
              "      <th>count</th>\n",
              "    </tr>\n",
              "  </thead>\n",
              "  <tbody>\n",
              "    <tr>\n",
              "      <th>0</th>\n",
              "      <td>2020</td>\n",
              "      <td>April</td>\n",
              "      <td>0</td>\n",
              "      <td>19</td>\n",
              "    </tr>\n",
              "    <tr>\n",
              "      <th>1</th>\n",
              "      <td>2020</td>\n",
              "      <td>March</td>\n",
              "      <td>0</td>\n",
              "      <td>164</td>\n",
              "    </tr>\n",
              "    <tr>\n",
              "      <th>2</th>\n",
              "      <td>2020</td>\n",
              "      <td>March</td>\n",
              "      <td>5</td>\n",
              "      <td>76</td>\n",
              "    </tr>\n",
              "    <tr>\n",
              "      <th>3</th>\n",
              "      <td>2020</td>\n",
              "      <td>March</td>\n",
              "      <td>6</td>\n",
              "      <td>437</td>\n",
              "    </tr>\n",
              "    <tr>\n",
              "      <th>4</th>\n",
              "      <td>2020</td>\n",
              "      <td>March</td>\n",
              "      <td>7</td>\n",
              "      <td>1234</td>\n",
              "    </tr>\n",
              "    <tr>\n",
              "      <th>5</th>\n",
              "      <td>2020</td>\n",
              "      <td>March</td>\n",
              "      <td>8</td>\n",
              "      <td>1288</td>\n",
              "    </tr>\n",
              "    <tr>\n",
              "      <th>6</th>\n",
              "      <td>2020</td>\n",
              "      <td>March</td>\n",
              "      <td>9</td>\n",
              "      <td>845</td>\n",
              "    </tr>\n",
              "    <tr>\n",
              "      <th>7</th>\n",
              "      <td>2020</td>\n",
              "      <td>March</td>\n",
              "      <td>10</td>\n",
              "      <td>958</td>\n",
              "    </tr>\n",
              "    <tr>\n",
              "      <th>8</th>\n",
              "      <td>2020</td>\n",
              "      <td>March</td>\n",
              "      <td>11</td>\n",
              "      <td>1497</td>\n",
              "    </tr>\n",
              "    <tr>\n",
              "      <th>9</th>\n",
              "      <td>2020</td>\n",
              "      <td>March</td>\n",
              "      <td>12</td>\n",
              "      <td>1976</td>\n",
              "    </tr>\n",
              "  </tbody>\n",
              "</table>\n",
              "</div>"
            ],
            "text/plain": [
              "   year  month  hour  count\n",
              "0  2020  April     0     19\n",
              "1  2020  March     0    164\n",
              "2  2020  March     5     76\n",
              "3  2020  March     6    437\n",
              "4  2020  March     7   1234\n",
              "5  2020  March     8   1288\n",
              "6  2020  March     9    845\n",
              "7  2020  March    10    958\n",
              "8  2020  March    11   1497\n",
              "9  2020  March    12   1976"
            ]
          },
          "metadata": {
            "tags": []
          },
          "execution_count": 7
        }
      ]
    },
    {
      "cell_type": "code",
      "metadata": {
        "id": "_kLGpJ-XwSIS"
      },
      "source": [
        "#Order the hours data and aggregate the hour count\n",
        "hours_df = hours_df.groupby(['year', 'month', 'hour']).agg({'count': 'sum'}).reset_index()"
      ],
      "execution_count": null,
      "outputs": []
    },
    {
      "cell_type": "code",
      "metadata": {
        "colab": {
          "base_uri": "https://localhost:8080/",
          "height": 639
        },
        "id": "uL2cny8CzSJT",
        "outputId": "93cf70f5-a8d7-4094-9d3b-dcda30021cc3"
      },
      "source": [
        "#Verifying slices of the dataframe for a given year and month\n",
        "hours_df[(hours_df['year']==2021) & (hours_df['month']=='April')]"
      ],
      "execution_count": null,
      "outputs": [
        {
          "output_type": "execute_result",
          "data": {
            "text/html": [
              "<div>\n",
              "<style scoped>\n",
              "    .dataframe tbody tr th:only-of-type {\n",
              "        vertical-align: middle;\n",
              "    }\n",
              "\n",
              "    .dataframe tbody tr th {\n",
              "        vertical-align: top;\n",
              "    }\n",
              "\n",
              "    .dataframe thead th {\n",
              "        text-align: right;\n",
              "    }\n",
              "</style>\n",
              "<table border=\"1\" class=\"dataframe\">\n",
              "  <thead>\n",
              "    <tr style=\"text-align: right;\">\n",
              "      <th></th>\n",
              "      <th>year</th>\n",
              "      <th>month</th>\n",
              "      <th>hour</th>\n",
              "      <th>count</th>\n",
              "    </tr>\n",
              "  </thead>\n",
              "  <tbody>\n",
              "    <tr>\n",
              "      <th>219</th>\n",
              "      <td>2021</td>\n",
              "      <td>April</td>\n",
              "      <td>0</td>\n",
              "      <td>962</td>\n",
              "    </tr>\n",
              "    <tr>\n",
              "      <th>220</th>\n",
              "      <td>2021</td>\n",
              "      <td>April</td>\n",
              "      <td>5</td>\n",
              "      <td>293</td>\n",
              "    </tr>\n",
              "    <tr>\n",
              "      <th>221</th>\n",
              "      <td>2021</td>\n",
              "      <td>April</td>\n",
              "      <td>6</td>\n",
              "      <td>1652</td>\n",
              "    </tr>\n",
              "    <tr>\n",
              "      <th>222</th>\n",
              "      <td>2021</td>\n",
              "      <td>April</td>\n",
              "      <td>7</td>\n",
              "      <td>5587</td>\n",
              "    </tr>\n",
              "    <tr>\n",
              "      <th>223</th>\n",
              "      <td>2021</td>\n",
              "      <td>April</td>\n",
              "      <td>8</td>\n",
              "      <td>7290</td>\n",
              "    </tr>\n",
              "    <tr>\n",
              "      <th>224</th>\n",
              "      <td>2021</td>\n",
              "      <td>April</td>\n",
              "      <td>9</td>\n",
              "      <td>4599</td>\n",
              "    </tr>\n",
              "    <tr>\n",
              "      <th>225</th>\n",
              "      <td>2021</td>\n",
              "      <td>April</td>\n",
              "      <td>10</td>\n",
              "      <td>4244</td>\n",
              "    </tr>\n",
              "    <tr>\n",
              "      <th>226</th>\n",
              "      <td>2021</td>\n",
              "      <td>April</td>\n",
              "      <td>11</td>\n",
              "      <td>5496</td>\n",
              "    </tr>\n",
              "    <tr>\n",
              "      <th>227</th>\n",
              "      <td>2021</td>\n",
              "      <td>April</td>\n",
              "      <td>12</td>\n",
              "      <td>6766</td>\n",
              "    </tr>\n",
              "    <tr>\n",
              "      <th>228</th>\n",
              "      <td>2021</td>\n",
              "      <td>April</td>\n",
              "      <td>13</td>\n",
              "      <td>7337</td>\n",
              "    </tr>\n",
              "    <tr>\n",
              "      <th>229</th>\n",
              "      <td>2021</td>\n",
              "      <td>April</td>\n",
              "      <td>14</td>\n",
              "      <td>8584</td>\n",
              "    </tr>\n",
              "    <tr>\n",
              "      <th>230</th>\n",
              "      <td>2021</td>\n",
              "      <td>April</td>\n",
              "      <td>15</td>\n",
              "      <td>10767</td>\n",
              "    </tr>\n",
              "    <tr>\n",
              "      <th>231</th>\n",
              "      <td>2021</td>\n",
              "      <td>April</td>\n",
              "      <td>16</td>\n",
              "      <td>12550</td>\n",
              "    </tr>\n",
              "    <tr>\n",
              "      <th>232</th>\n",
              "      <td>2021</td>\n",
              "      <td>April</td>\n",
              "      <td>17</td>\n",
              "      <td>11013</td>\n",
              "    </tr>\n",
              "    <tr>\n",
              "      <th>233</th>\n",
              "      <td>2021</td>\n",
              "      <td>April</td>\n",
              "      <td>18</td>\n",
              "      <td>9145</td>\n",
              "    </tr>\n",
              "    <tr>\n",
              "      <th>234</th>\n",
              "      <td>2021</td>\n",
              "      <td>April</td>\n",
              "      <td>19</td>\n",
              "      <td>7121</td>\n",
              "    </tr>\n",
              "    <tr>\n",
              "      <th>235</th>\n",
              "      <td>2021</td>\n",
              "      <td>April</td>\n",
              "      <td>20</td>\n",
              "      <td>5214</td>\n",
              "    </tr>\n",
              "    <tr>\n",
              "      <th>236</th>\n",
              "      <td>2021</td>\n",
              "      <td>April</td>\n",
              "      <td>21</td>\n",
              "      <td>3602</td>\n",
              "    </tr>\n",
              "    <tr>\n",
              "      <th>237</th>\n",
              "      <td>2021</td>\n",
              "      <td>April</td>\n",
              "      <td>22</td>\n",
              "      <td>2880</td>\n",
              "    </tr>\n",
              "    <tr>\n",
              "      <th>238</th>\n",
              "      <td>2021</td>\n",
              "      <td>April</td>\n",
              "      <td>23</td>\n",
              "      <td>1792</td>\n",
              "    </tr>\n",
              "  </tbody>\n",
              "</table>\n",
              "</div>"
            ],
            "text/plain": [
              "     year  month  hour  count\n",
              "219  2021  April     0    962\n",
              "220  2021  April     5    293\n",
              "221  2021  April     6   1652\n",
              "222  2021  April     7   5587\n",
              "223  2021  April     8   7290\n",
              "224  2021  April     9   4599\n",
              "225  2021  April    10   4244\n",
              "226  2021  April    11   5496\n",
              "227  2021  April    12   6766\n",
              "228  2021  April    13   7337\n",
              "229  2021  April    14   8584\n",
              "230  2021  April    15  10767\n",
              "231  2021  April    16  12550\n",
              "232  2021  April    17  11013\n",
              "233  2021  April    18   9145\n",
              "234  2021  April    19   7121\n",
              "235  2021  April    20   5214\n",
              "236  2021  April    21   3602\n",
              "237  2021  April    22   2880\n",
              "238  2021  April    23   1792"
            ]
          },
          "metadata": {
            "tags": []
          },
          "execution_count": 9
        }
      ]
    },
    {
      "cell_type": "code",
      "metadata": {
        "colab": {
          "base_uri": "https://localhost:8080/",
          "height": 17
        },
        "id": "TqL0FxRDz8ha",
        "outputId": "89a70028-c7bc-4b56-9236-01f69724d911"
      },
      "source": [
        "#Exporting cleaned hours of day data to csv into local disk\n",
        "from google.colab import files\n",
        "hours_df.to_csv('st_hr_cleaned.csv', index=False)\n",
        "files.download('st_hr_cleaned.csv')"
      ],
      "execution_count": null,
      "outputs": [
        {
          "output_type": "display_data",
          "data": {
            "application/javascript": [
              "\n",
              "    async function download(id, filename, size) {\n",
              "      if (!google.colab.kernel.accessAllowed) {\n",
              "        return;\n",
              "      }\n",
              "      const div = document.createElement('div');\n",
              "      const label = document.createElement('label');\n",
              "      label.textContent = `Downloading \"${filename}\": `;\n",
              "      div.appendChild(label);\n",
              "      const progress = document.createElement('progress');\n",
              "      progress.max = size;\n",
              "      div.appendChild(progress);\n",
              "      document.body.appendChild(div);\n",
              "\n",
              "      const buffers = [];\n",
              "      let downloaded = 0;\n",
              "\n",
              "      const channel = await google.colab.kernel.comms.open(id);\n",
              "      // Send a message to notify the kernel that we're ready.\n",
              "      channel.send({})\n",
              "\n",
              "      for await (const message of channel.messages) {\n",
              "        // Send a message to notify the kernel that we're ready.\n",
              "        channel.send({})\n",
              "        if (message.buffers) {\n",
              "          for (const buffer of message.buffers) {\n",
              "            buffers.push(buffer);\n",
              "            downloaded += buffer.byteLength;\n",
              "            progress.value = downloaded;\n",
              "          }\n",
              "        }\n",
              "      }\n",
              "      const blob = new Blob(buffers, {type: 'application/binary'});\n",
              "      const a = document.createElement('a');\n",
              "      a.href = window.URL.createObjectURL(blob);\n",
              "      a.download = filename;\n",
              "      div.appendChild(a);\n",
              "      a.click();\n",
              "      div.remove();\n",
              "    }\n",
              "  "
            ],
            "text/plain": [
              "<IPython.core.display.Javascript object>"
            ]
          },
          "metadata": {
            "tags": []
          }
        },
        {
          "output_type": "display_data",
          "data": {
            "application/javascript": [
              "download(\"download_023cbfda-a82b-45e1-86f8-1d1adf02859e\", \"st_hr_merged-cleaned.csv\", 6271)"
            ],
            "text/plain": [
              "<IPython.core.display.Javascript object>"
            ]
          },
          "metadata": {
            "tags": []
          }
        }
      ]
    },
    {
      "cell_type": "markdown",
      "metadata": {
        "id": "pQNqlam8VRBB"
      },
      "source": [
        "##Cleaning aggregated data (location)"
      ]
    },
    {
      "cell_type": "code",
      "metadata": {
        "colab": {
          "resources": {
            "http://localhost:8080/nbextensions/google.colab/files.js": {
              "data": "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",
              "ok": true,
              "headers": [
                [
                  "content-type",
                  "application/javascript"
                ]
              ],
              "status": 200,
              "status_text": ""
            }
          },
          "base_uri": "https://localhost:8080/",
          "height": 73
        },
        "id": "LlnbhiosVhtQ",
        "outputId": "d3bd03d2-9cac-4cee-9aaa-2d0bc93cf36f"
      },
      "source": [
        "#Uploading aggregated data files from local drive\n",
        "from google.colab import files\n",
        "uploaded2 = files.upload()"
      ],
      "execution_count": null,
      "outputs": [
        {
          "output_type": "display_data",
          "data": {
            "text/html": [
              "\n",
              "     <input type=\"file\" id=\"files-5c236b9f-473b-4f47-b7ae-304dacfefa4a\" name=\"files[]\" multiple disabled\n",
              "        style=\"border:none\" />\n",
              "     <output id=\"result-5c236b9f-473b-4f47-b7ae-304dacfefa4a\">\n",
              "      Upload widget is only available when the cell has been executed in the\n",
              "      current browser session. Please rerun this cell to enable.\n",
              "      </output>\n",
              "      <script src=\"/nbextensions/google.colab/files.js\"></script> "
            ],
            "text/plain": [
              "<IPython.core.display.HTML object>"
            ]
          },
          "metadata": {
            "tags": []
          }
        },
        {
          "output_type": "stream",
          "text": [
            "Saving st_loc_merged.csv to st_loc_merged.csv\n"
          ],
          "name": "stdout"
        }
      ]
    },
    {
      "cell_type": "code",
      "metadata": {
        "id": "izgKXQJ2VhtT"
      },
      "source": [
        "#Reading aggregated data and storing into a Pandas Dataframe\n",
        "import io\n",
        "loc_col = ['year', 'month', 'name',\t'lat',\t'lon',\t'trips',\t'mean_min']\n",
        "loc_df = pd.read_csv(io.BytesIO(uploaded2['st_loc_merged.csv']), header=None, names=loc_col)"
      ],
      "execution_count": null,
      "outputs": []
    },
    {
      "cell_type": "code",
      "metadata": {
        "colab": {
          "base_uri": "https://localhost:8080/"
        },
        "id": "MAB98GL9VhtU",
        "outputId": "c25a8677-2f8e-4667-b5d0-0ed87e75f4ed"
      },
      "source": [
        "#Checking the dataframe info\n",
        "loc_df.info()"
      ],
      "execution_count": null,
      "outputs": [
        {
          "output_type": "stream",
          "text": [
            "<class 'pandas.core.frame.DataFrame'>\n",
            "RangeIndex: 4288 entries, 0 to 4287\n",
            "Data columns (total 7 columns):\n",
            " #   Column    Non-Null Count  Dtype  \n",
            "---  ------    --------------  -----  \n",
            " 0   year      4288 non-null   int64  \n",
            " 1   month     4288 non-null   object \n",
            " 2   name      4288 non-null   object \n",
            " 3   lat       4288 non-null   float64\n",
            " 4   lon       4288 non-null   float64\n",
            " 5   trips     4288 non-null   int64  \n",
            " 6   mean_min  4288 non-null   float64\n",
            "dtypes: float64(3), int64(2), object(2)\n",
            "memory usage: 234.6+ KB\n"
          ],
          "name": "stdout"
        }
      ]
    },
    {
      "cell_type": "code",
      "metadata": {
        "colab": {
          "base_uri": "https://localhost:8080/",
          "height": 195
        },
        "id": "JHjKW0WDVhtV",
        "outputId": "a42b74fd-e927-446a-d0a0-8f8557394de1"
      },
      "source": [
        "#Check the dataframe head\n",
        "loc_df.head(5)"
      ],
      "execution_count": null,
      "outputs": [
        {
          "output_type": "execute_result",
          "data": {
            "text/html": [
              "<div>\n",
              "<style scoped>\n",
              "    .dataframe tbody tr th:only-of-type {\n",
              "        vertical-align: middle;\n",
              "    }\n",
              "\n",
              "    .dataframe tbody tr th {\n",
              "        vertical-align: top;\n",
              "    }\n",
              "\n",
              "    .dataframe thead th {\n",
              "        text-align: right;\n",
              "    }\n",
              "</style>\n",
              "<table border=\"1\" class=\"dataframe\">\n",
              "  <thead>\n",
              "    <tr style=\"text-align: right;\">\n",
              "      <th></th>\n",
              "      <th>year</th>\n",
              "      <th>month</th>\n",
              "      <th>name</th>\n",
              "      <th>lat</th>\n",
              "      <th>lon</th>\n",
              "      <th>trips</th>\n",
              "      <th>mean_min</th>\n",
              "    </tr>\n",
              "  </thead>\n",
              "  <tbody>\n",
              "    <tr>\n",
              "      <th>0</th>\n",
              "      <td>2020</td>\n",
              "      <td>March</td>\n",
              "      <td>Ringnes Park</td>\n",
              "      <td>59.928434</td>\n",
              "      <td>10.759430</td>\n",
              "      <td>463</td>\n",
              "      <td>16.80</td>\n",
              "    </tr>\n",
              "    <tr>\n",
              "      <th>1</th>\n",
              "      <td>2020</td>\n",
              "      <td>March</td>\n",
              "      <td>Alexander Kiellands Plass</td>\n",
              "      <td>59.928067</td>\n",
              "      <td>10.751203</td>\n",
              "      <td>452</td>\n",
              "      <td>14.31</td>\n",
              "    </tr>\n",
              "    <tr>\n",
              "      <th>2</th>\n",
              "      <td>2020</td>\n",
              "      <td>March</td>\n",
              "      <td>Tjuvholmen</td>\n",
              "      <td>59.909467</td>\n",
              "      <td>10.722509</td>\n",
              "      <td>395</td>\n",
              "      <td>22.51</td>\n",
              "    </tr>\n",
              "    <tr>\n",
              "      <th>3</th>\n",
              "      <td>2020</td>\n",
              "      <td>March</td>\n",
              "      <td>Sukkerbiten</td>\n",
              "      <td>59.905807</td>\n",
              "      <td>10.753657</td>\n",
              "      <td>376</td>\n",
              "      <td>19.74</td>\n",
              "    </tr>\n",
              "    <tr>\n",
              "      <th>4</th>\n",
              "      <td>2020</td>\n",
              "      <td>March</td>\n",
              "      <td>Bislett Stadion</td>\n",
              "      <td>59.925471</td>\n",
              "      <td>10.731219</td>\n",
              "      <td>373</td>\n",
              "      <td>15.62</td>\n",
              "    </tr>\n",
              "  </tbody>\n",
              "</table>\n",
              "</div>"
            ],
            "text/plain": [
              "   year  month                       name  ...        lon  trips  mean_min\n",
              "0  2020  March               Ringnes Park  ...  10.759430    463     16.80\n",
              "1  2020  March  Alexander Kiellands Plass  ...  10.751203    452     14.31\n",
              "2  2020  March                 Tjuvholmen  ...  10.722509    395     22.51\n",
              "3  2020  March                Sukkerbiten  ...  10.753657    376     19.74\n",
              "4  2020  March            Bislett Stadion  ...  10.731219    373     15.62\n",
              "\n",
              "[5 rows x 7 columns]"
            ]
          },
          "metadata": {
            "tags": []
          },
          "execution_count": 84
        }
      ]
    },
    {
      "cell_type": "code",
      "metadata": {
        "id": "a4ckt9usVhtW"
      },
      "source": [
        "#Group by categories and aggregate both trips and mean value\n",
        "loc_df = loc_df.groupby(['year', 'month', 'name', 'lat', 'lon']).agg({'trips': 'sum',\n",
        "                                                                      'mean_min': 'mean'}\n",
        "                                                                     ).reset_index()"
      ],
      "execution_count": null,
      "outputs": []
    },
    {
      "cell_type": "code",
      "metadata": {
        "id": "1bUdmaScjnyz"
      },
      "source": [
        "#Sort values by year, month and trips\n",
        "loc_df = loc_df.sort_values(by=['year', 'month', 'trips'], ascending=False).reset_index(drop=True)"
      ],
      "execution_count": null,
      "outputs": []
    },
    {
      "cell_type": "code",
      "metadata": {
        "colab": {
          "base_uri": "https://localhost:8080/",
          "height": 343
        },
        "id": "CC2q1aFiVhtW",
        "outputId": "4e6ad927-a6b0-4d89-cdd9-1b57de44f059"
      },
      "source": [
        "loc_df.tail(10)"
      ],
      "execution_count": null,
      "outputs": [
        {
          "output_type": "execute_result",
          "data": {
            "text/html": [
              "<div>\n",
              "<style scoped>\n",
              "    .dataframe tbody tr th:only-of-type {\n",
              "        vertical-align: middle;\n",
              "    }\n",
              "\n",
              "    .dataframe tbody tr th {\n",
              "        vertical-align: top;\n",
              "    }\n",
              "\n",
              "    .dataframe thead th {\n",
              "        text-align: right;\n",
              "    }\n",
              "</style>\n",
              "<table border=\"1\" class=\"dataframe\">\n",
              "  <thead>\n",
              "    <tr style=\"text-align: right;\">\n",
              "      <th></th>\n",
              "      <th>year</th>\n",
              "      <th>month</th>\n",
              "      <th>name</th>\n",
              "      <th>lat</th>\n",
              "      <th>lon</th>\n",
              "      <th>trips</th>\n",
              "      <th>mean_min</th>\n",
              "    </tr>\n",
              "  </thead>\n",
              "  <tbody>\n",
              "    <tr>\n",
              "      <th>3764</th>\n",
              "      <td>2020</td>\n",
              "      <td>April</td>\n",
              "      <td>Georg Morgenstiernes hus</td>\n",
              "      <td>59.939026</td>\n",
              "      <td>10.723003</td>\n",
              "      <td>112</td>\n",
              "      <td>16.320</td>\n",
              "    </tr>\n",
              "    <tr>\n",
              "      <th>3765</th>\n",
              "      <td>2020</td>\n",
              "      <td>April</td>\n",
              "      <td>Kjeld Stubs gate</td>\n",
              "      <td>59.912711</td>\n",
              "      <td>10.735595</td>\n",
              "      <td>111</td>\n",
              "      <td>12.950</td>\n",
              "    </tr>\n",
              "    <tr>\n",
              "      <th>3766</th>\n",
              "      <td>2020</td>\n",
              "      <td>April</td>\n",
              "      <td>Fysikkbygningen</td>\n",
              "      <td>59.937957</td>\n",
              "      <td>10.719489</td>\n",
              "      <td>91</td>\n",
              "      <td>15.690</td>\n",
              "    </tr>\n",
              "    <tr>\n",
              "      <th>3767</th>\n",
              "      <td>2020</td>\n",
              "      <td>April</td>\n",
              "      <td>Stortingstunellen</td>\n",
              "      <td>59.910653</td>\n",
              "      <td>10.737365</td>\n",
              "      <td>89</td>\n",
              "      <td>22.980</td>\n",
              "    </tr>\n",
              "    <tr>\n",
              "      <th>3768</th>\n",
              "      <td>2020</td>\n",
              "      <td>April</td>\n",
              "      <td>Vippetangen øst</td>\n",
              "      <td>59.903989</td>\n",
              "      <td>10.741077</td>\n",
              "      <td>89</td>\n",
              "      <td>21.240</td>\n",
              "    </tr>\n",
              "    <tr>\n",
              "      <th>3769</th>\n",
              "      <td>2020</td>\n",
              "      <td>April</td>\n",
              "      <td>Tordenskiolds gate</td>\n",
              "      <td>59.911776</td>\n",
              "      <td>10.735113</td>\n",
              "      <td>88</td>\n",
              "      <td>15.610</td>\n",
              "    </tr>\n",
              "    <tr>\n",
              "      <th>3770</th>\n",
              "      <td>2020</td>\n",
              "      <td>April</td>\n",
              "      <td>Blindern studentparkering</td>\n",
              "      <td>59.940874</td>\n",
              "      <td>10.720779</td>\n",
              "      <td>70</td>\n",
              "      <td>17.860</td>\n",
              "    </tr>\n",
              "    <tr>\n",
              "      <th>3771</th>\n",
              "      <td>2020</td>\n",
              "      <td>April</td>\n",
              "      <td>Jarlsborgveien</td>\n",
              "      <td>59.930464</td>\n",
              "      <td>10.675783</td>\n",
              "      <td>66</td>\n",
              "      <td>20.200</td>\n",
              "    </tr>\n",
              "    <tr>\n",
              "      <th>3772</th>\n",
              "      <td>2020</td>\n",
              "      <td>April</td>\n",
              "      <td>HasleLinje</td>\n",
              "      <td>59.927634</td>\n",
              "      <td>10.799249</td>\n",
              "      <td>64</td>\n",
              "      <td>15.425</td>\n",
              "    </tr>\n",
              "    <tr>\n",
              "      <th>3773</th>\n",
              "      <td>2020</td>\n",
              "      <td>April</td>\n",
              "      <td>Bak Niels Treschows hus sør</td>\n",
              "      <td>59.942473</td>\n",
              "      <td>10.723715</td>\n",
              "      <td>45</td>\n",
              "      <td>14.200</td>\n",
              "    </tr>\n",
              "  </tbody>\n",
              "</table>\n",
              "</div>"
            ],
            "text/plain": [
              "      year  month                         name  ...        lon  trips  mean_min\n",
              "3764  2020  April     Georg Morgenstiernes hus  ...  10.723003    112    16.320\n",
              "3765  2020  April             Kjeld Stubs gate  ...  10.735595    111    12.950\n",
              "3766  2020  April              Fysikkbygningen  ...  10.719489     91    15.690\n",
              "3767  2020  April            Stortingstunellen  ...  10.737365     89    22.980\n",
              "3768  2020  April              Vippetangen øst  ...  10.741077     89    21.240\n",
              "3769  2020  April           Tordenskiolds gate  ...  10.735113     88    15.610\n",
              "3770  2020  April    Blindern studentparkering  ...  10.720779     70    17.860\n",
              "3771  2020  April               Jarlsborgveien  ...  10.675783     66    20.200\n",
              "3772  2020  April                   HasleLinje  ...  10.799249     64    15.425\n",
              "3773  2020  April  Bak Niels Treschows hus sør  ...  10.723715     45    14.200\n",
              "\n",
              "[10 rows x 7 columns]"
            ]
          },
          "metadata": {
            "tags": []
          },
          "execution_count": 88
        }
      ]
    },
    {
      "cell_type": "code",
      "metadata": {
        "colab": {
          "base_uri": "https://localhost:8080/",
          "height": 402
        },
        "id": "Y6vMhADpVhtY",
        "outputId": "18254f88-97a3-4679-f685-1157c3bf65c6"
      },
      "source": [
        "#Verifying slices of the dataframe to be in descending order\n",
        "loc_df[(loc_df['year']==2021) & (loc_df['month']=='April')]"
      ],
      "execution_count": null,
      "outputs": [
        {
          "output_type": "execute_result",
          "data": {
            "text/html": [
              "<div>\n",
              "<style scoped>\n",
              "    .dataframe tbody tr th:only-of-type {\n",
              "        vertical-align: middle;\n",
              "    }\n",
              "\n",
              "    .dataframe tbody tr th {\n",
              "        vertical-align: top;\n",
              "    }\n",
              "\n",
              "    .dataframe thead th {\n",
              "        text-align: right;\n",
              "    }\n",
              "</style>\n",
              "<table border=\"1\" class=\"dataframe\">\n",
              "  <thead>\n",
              "    <tr style=\"text-align: right;\">\n",
              "      <th></th>\n",
              "      <th>year</th>\n",
              "      <th>month</th>\n",
              "      <th>name</th>\n",
              "      <th>lat</th>\n",
              "      <th>lon</th>\n",
              "      <th>trips</th>\n",
              "      <th>mean_min</th>\n",
              "    </tr>\n",
              "  </thead>\n",
              "  <tbody>\n",
              "    <tr>\n",
              "      <th>1037</th>\n",
              "      <td>2021</td>\n",
              "      <td>April</td>\n",
              "      <td>Ringnes Park</td>\n",
              "      <td>59.928434</td>\n",
              "      <td>10.759430</td>\n",
              "      <td>1572</td>\n",
              "      <td>9.145</td>\n",
              "    </tr>\n",
              "    <tr>\n",
              "      <th>1038</th>\n",
              "      <td>2021</td>\n",
              "      <td>April</td>\n",
              "      <td>Alexander Kiellands Plass</td>\n",
              "      <td>59.928067</td>\n",
              "      <td>10.751203</td>\n",
              "      <td>1524</td>\n",
              "      <td>9.915</td>\n",
              "    </tr>\n",
              "    <tr>\n",
              "      <th>1039</th>\n",
              "      <td>2021</td>\n",
              "      <td>April</td>\n",
              "      <td>Majorstuen</td>\n",
              "      <td>59.929045</td>\n",
              "      <td>10.716926</td>\n",
              "      <td>1289</td>\n",
              "      <td>14.010</td>\n",
              "    </tr>\n",
              "    <tr>\n",
              "      <th>1040</th>\n",
              "      <td>2021</td>\n",
              "      <td>April</td>\n",
              "      <td>Bislettgata</td>\n",
              "      <td>59.923774</td>\n",
              "      <td>10.734713</td>\n",
              "      <td>1242</td>\n",
              "      <td>12.170</td>\n",
              "    </tr>\n",
              "    <tr>\n",
              "      <th>1041</th>\n",
              "      <td>2021</td>\n",
              "      <td>April</td>\n",
              "      <td>Rådhusbrygge 4</td>\n",
              "      <td>59.910847</td>\n",
              "      <td>10.730377</td>\n",
              "      <td>1189</td>\n",
              "      <td>17.590</td>\n",
              "    </tr>\n",
              "    <tr>\n",
              "      <th>...</th>\n",
              "      <td>...</td>\n",
              "      <td>...</td>\n",
              "      <td>...</td>\n",
              "      <td>...</td>\n",
              "      <td>...</td>\n",
              "      <td>...</td>\n",
              "      <td>...</td>\n",
              "    </tr>\n",
              "    <tr>\n",
              "      <th>1282</th>\n",
              "      <td>2021</td>\n",
              "      <td>April</td>\n",
              "      <td>Skøyen Stasjon</td>\n",
              "      <td>59.922724</td>\n",
              "      <td>10.678625</td>\n",
              "      <td>70</td>\n",
              "      <td>22.280</td>\n",
              "    </tr>\n",
              "    <tr>\n",
              "      <th>1283</th>\n",
              "      <td>2021</td>\n",
              "      <td>April</td>\n",
              "      <td>Stortingstunellen</td>\n",
              "      <td>59.910653</td>\n",
              "      <td>10.737365</td>\n",
              "      <td>69</td>\n",
              "      <td>19.510</td>\n",
              "    </tr>\n",
              "    <tr>\n",
              "      <th>1284</th>\n",
              "      <td>2021</td>\n",
              "      <td>April</td>\n",
              "      <td>Arkaden Sør</td>\n",
              "      <td>59.911969</td>\n",
              "      <td>10.747858</td>\n",
              "      <td>62</td>\n",
              "      <td>15.070</td>\n",
              "    </tr>\n",
              "    <tr>\n",
              "      <th>1285</th>\n",
              "      <td>2021</td>\n",
              "      <td>April</td>\n",
              "      <td>Salt</td>\n",
              "      <td>59.906922</td>\n",
              "      <td>10.746530</td>\n",
              "      <td>50</td>\n",
              "      <td>21.340</td>\n",
              "    </tr>\n",
              "    <tr>\n",
              "      <th>1286</th>\n",
              "      <td>2021</td>\n",
              "      <td>April</td>\n",
              "      <td>Kværnerveien</td>\n",
              "      <td>59.905911</td>\n",
              "      <td>10.778592</td>\n",
              "      <td>37</td>\n",
              "      <td>17.780</td>\n",
              "    </tr>\n",
              "  </tbody>\n",
              "</table>\n",
              "<p>250 rows × 7 columns</p>\n",
              "</div>"
            ],
            "text/plain": [
              "      year  month                       name  ...        lon  trips  mean_min\n",
              "1037  2021  April               Ringnes Park  ...  10.759430   1572     9.145\n",
              "1038  2021  April  Alexander Kiellands Plass  ...  10.751203   1524     9.915\n",
              "1039  2021  April                 Majorstuen  ...  10.716926   1289    14.010\n",
              "1040  2021  April                Bislettgata  ...  10.734713   1242    12.170\n",
              "1041  2021  April             Rådhusbrygge 4  ...  10.730377   1189    17.590\n",
              "...    ...    ...                        ...  ...        ...    ...       ...\n",
              "1282  2021  April             Skøyen Stasjon  ...  10.678625     70    22.280\n",
              "1283  2021  April          Stortingstunellen  ...  10.737365     69    19.510\n",
              "1284  2021  April                Arkaden Sør  ...  10.747858     62    15.070\n",
              "1285  2021  April                       Salt  ...  10.746530     50    21.340\n",
              "1286  2021  April               Kværnerveien  ...  10.778592     37    17.780\n",
              "\n",
              "[250 rows x 7 columns]"
            ]
          },
          "metadata": {
            "tags": []
          },
          "execution_count": 89
        }
      ]
    },
    {
      "cell_type": "code",
      "metadata": {
        "colab": {
          "base_uri": "https://localhost:8080/",
          "height": 17
        },
        "id": "UD2BiIDkVhta",
        "outputId": "af2ff1e3-34e5-4a5e-dd6b-5710f4b39003"
      },
      "source": [
        "#Exporting cleaned location data to csv into local disk\n",
        "from google.colab import files\n",
        "loc_df.to_csv('st_loc_cleaned.csv', index=False)\n",
        "files.download('st_loc_cleaned.csv')"
      ],
      "execution_count": null,
      "outputs": [
        {
          "output_type": "display_data",
          "data": {
            "application/javascript": [
              "\n",
              "    async function download(id, filename, size) {\n",
              "      if (!google.colab.kernel.accessAllowed) {\n",
              "        return;\n",
              "      }\n",
              "      const div = document.createElement('div');\n",
              "      const label = document.createElement('label');\n",
              "      label.textContent = `Downloading \"${filename}\": `;\n",
              "      div.appendChild(label);\n",
              "      const progress = document.createElement('progress');\n",
              "      progress.max = size;\n",
              "      div.appendChild(progress);\n",
              "      document.body.appendChild(div);\n",
              "\n",
              "      const buffers = [];\n",
              "      let downloaded = 0;\n",
              "\n",
              "      const channel = await google.colab.kernel.comms.open(id);\n",
              "      // Send a message to notify the kernel that we're ready.\n",
              "      channel.send({})\n",
              "\n",
              "      for await (const message of channel.messages) {\n",
              "        // Send a message to notify the kernel that we're ready.\n",
              "        channel.send({})\n",
              "        if (message.buffers) {\n",
              "          for (const buffer of message.buffers) {\n",
              "            buffers.push(buffer);\n",
              "            downloaded += buffer.byteLength;\n",
              "            progress.value = downloaded;\n",
              "          }\n",
              "        }\n",
              "      }\n",
              "      const blob = new Blob(buffers, {type: 'application/binary'});\n",
              "      const a = document.createElement('a');\n",
              "      a.href = window.URL.createObjectURL(blob);\n",
              "      a.download = filename;\n",
              "      div.appendChild(a);\n",
              "      a.click();\n",
              "      div.remove();\n",
              "    }\n",
              "  "
            ],
            "text/plain": [
              "<IPython.core.display.Javascript object>"
            ]
          },
          "metadata": {
            "tags": []
          }
        },
        {
          "output_type": "display_data",
          "data": {
            "application/javascript": [
              "download(\"download_a94ee0fe-db84-44d4-860b-3847037edbaf\", \"st_loc_merged-cleaned.csv\", 243749)"
            ],
            "text/plain": [
              "<IPython.core.display.Javascript object>"
            ]
          },
          "metadata": {
            "tags": []
          }
        }
      ]
    },
    {
      "cell_type": "markdown",
      "metadata": {
        "id": "lptmKKgKe7sD"
      },
      "source": [
        "##Data Visualization"
      ]
    },
    {
      "cell_type": "markdown",
      "metadata": {
        "id": "sXmSwrs_5ORx"
      },
      "source": [
        "###Customizing theme"
      ]
    },
    {
      "cell_type": "code",
      "metadata": {
        "id": "y2DvWRPa4qYJ"
      },
      "source": [
        "#Add interactivity to graphs\n",
        "import ipywidgets as widgets\n",
        "from IPython import display\n",
        "from ipywidgets import interact, interactive, fixed, interact_manual"
      ],
      "execution_count": 2,
      "outputs": []
    },
    {
      "cell_type": "code",
      "metadata": {
        "id": "5NdFYzOerU7e"
      },
      "source": [
        "#Uploading visualization packages\n",
        "import folium\n",
        "from folium import plugins\n",
        "from folium.plugins import HeatMap"
      ],
      "execution_count": 3,
      "outputs": []
    },
    {
      "cell_type": "code",
      "metadata": {
        "id": "u53MjFbC43NE"
      },
      "source": [
        "#Customizing Matplotlib's runtime default configuration styles for data visualization\n",
        "\n",
        "SMALL_SIZE = 12\n",
        "MEDIUM_SIZE = 16\n",
        "BIGGER_SIZE = 20\n",
        "\n",
        "plt.rc('font', size=SMALL_SIZE)          # controls default text sizes\n",
        "plt.rc('axes', titlesize=SMALL_SIZE)     # fontsize of the axes title\n",
        "plt.rc('axes', labelsize=MEDIUM_SIZE)    # fontsize of the x and y labels\n",
        "plt.rc('xtick', labelsize=SMALL_SIZE)    # fontsize of the tick labels\n",
        "plt.rc('ytick', labelsize=MEDIUM_SIZE)   # fontsize of the tick labels\n",
        "plt.rc('legend', fontsize=SMALL_SIZE)    # legend fontsize\n",
        "plt.rc('figure', titlesize=BIGGER_SIZE)  # fontsize of the figure title\n",
        "plt.rc('axes', titlesize=BIGGER_SIZE)    # fontsize of the axes title"
      ],
      "execution_count": 4,
      "outputs": []
    },
    {
      "cell_type": "code",
      "metadata": {
        "id": "RhXGUKgM4-bv"
      },
      "source": [
        "#Customizing theme\n",
        "#plt.style.use(['dark_background'])\n",
        "plt.rcParams['axes.facecolor'] = (0,0,0,0)\n",
        "plt.rcParams['figure.facecolor'] = '#ffffff' #To match google colab native dark theme\n",
        "plt.rcParams[\"legend.frameon\"] = False\n",
        "plt.rcParams['image.cmap'] = 'viridis'\n",
        "plt.rcParams[\"legend.facecolor\"] = (0,0,0,0)\n",
        "#plt.rcParams[\"font.family\"] = 'sans-serif'\n",
        "#plt.rcParams['font.sans-serif'] = ['Open Sans', 'Source Sans Pro', 'Noto Sans']\n",
        "plt.rcParams['hist.bins'] = 50\n",
        "plt.rcParams['lines.markersize'] = 10\n",
        "plt.rcParams['axes3d.grid'] = False\n",
        "\n",
        "#New settings\n",
        "plt.rcParams['figure.subplot.hspace'] = 0.3 #default = 0.2\n",
        "\n",
        "from cycler import cycler\n",
        "\n",
        "plt.rcParams['axes.prop_cycle'] = (cycler(color=['#98d2eb', '#e1f2fe', '#b2b1cf', '#77625c', '#49392c', '#bde2f5', '#cad2e7', '#958a96', '#604e44', '#5a4b3f',\n",
        "                                                 '#98d2eb', '#e1f2fe', '#b2b1cf', '#77625c', '#49392c', '#bde2f5', '#cad2e7', '#958a96', '#604e44', '#5a4b3f',\n",
        "                                                 '#98d2eb', '#e1f2fe', '#b2b1cf', '#77625c', '#49392c', '#bde2f5', '#cad2e7', '#958a96', '#604e44', '#5a4b3f'])\\\n",
        "                                   + cycler(linestyle=['-', '--', ':', '-.', '-', '--', ':', '-.', '-', '--',\n",
        "                                                       '-', '--', ':', '-.', '-', '--', ':', '-.', '-', '--',\n",
        "                                                       '-', '--', ':', '-.', '-', '--', ':', '-.', '-', '--']))"
      ],
      "execution_count": 6,
      "outputs": []
    },
    {
      "cell_type": "markdown",
      "metadata": {
        "id": "vbkkRr6AZ5BT"
      },
      "source": [
        "###Loading cleaned data "
      ]
    },
    {
      "cell_type": "code",
      "metadata": {
        "id": "uKgvRXsJj927"
      },
      "source": [
        "#Remove previous versions of the uploaded csv file\n",
        "!rm st_loc_cleaned.csv"
      ],
      "execution_count": null,
      "outputs": []
    },
    {
      "cell_type": "code",
      "metadata": {
        "id": "KkzDzxiJe9X6",
        "colab": {
          "resources": {
            "http://localhost:8080/nbextensions/google.colab/files.js": {
              "data": "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",
              "ok": true,
              "headers": [
                [
                  "content-type",
                  "application/javascript"
                ]
              ],
              "status": 200,
              "status_text": ""
            }
          },
          "base_uri": "https://localhost:8080/",
          "height": 73
        },
        "outputId": "8bdfa4de-25dc-459f-ee7d-49298ee3f796"
      },
      "source": [
        "#Uploading cleaned location data (starting point) from local drive\n",
        "from google.colab import files\n",
        "uploaded3 = files.upload()"
      ],
      "execution_count": 7,
      "outputs": [
        {
          "output_type": "display_data",
          "data": {
            "text/html": [
              "\n",
              "     <input type=\"file\" id=\"files-af9f99b6-31df-4f5b-82e5-8cc88a971301\" name=\"files[]\" multiple disabled\n",
              "        style=\"border:none\" />\n",
              "     <output id=\"result-af9f99b6-31df-4f5b-82e5-8cc88a971301\">\n",
              "      Upload widget is only available when the cell has been executed in the\n",
              "      current browser session. Please rerun this cell to enable.\n",
              "      </output>\n",
              "      <script src=\"/nbextensions/google.colab/files.js\"></script> "
            ],
            "text/plain": [
              "<IPython.core.display.HTML object>"
            ]
          },
          "metadata": {
            "tags": []
          }
        },
        {
          "output_type": "stream",
          "text": [
            "Saving st_loc_cleaned.csv to st_loc_cleaned.csv\n"
          ],
          "name": "stdout"
        }
      ]
    },
    {
      "cell_type": "code",
      "metadata": {
        "id": "mIvQV39ffNan"
      },
      "source": [
        "#Reading cleaned location data (starting point) and storing into a Pandas Dataframe\n",
        "import io\n",
        "st_loc_clean = pd.read_csv(io.BytesIO(uploaded3['st_loc_cleaned.csv']))"
      ],
      "execution_count": 8,
      "outputs": []
    },
    {
      "cell_type": "code",
      "metadata": {
        "colab": {
          "resources": {
            "http://localhost:8080/nbextensions/google.colab/files.js": {
              "data": "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",
              "ok": true,
              "headers": [
                [
                  "content-type",
                  "application/javascript"
                ]
              ],
              "status": 200,
              "status_text": ""
            }
          },
          "base_uri": "https://localhost:8080/",
          "height": 73
        },
        "id": "1YDvjpOEarpd",
        "outputId": "df1cb4fd-bf46-4cbd-bba6-026ee19563de"
      },
      "source": [
        "#Uploading cleaned hours of day data (starting point) from local drive\n",
        "from google.colab import files\n",
        "uploaded4 = files.upload()"
      ],
      "execution_count": 9,
      "outputs": [
        {
          "output_type": "display_data",
          "data": {
            "text/html": [
              "\n",
              "     <input type=\"file\" id=\"files-4e1a57fe-a335-4ef4-9bd5-8b9903959470\" name=\"files[]\" multiple disabled\n",
              "        style=\"border:none\" />\n",
              "     <output id=\"result-4e1a57fe-a335-4ef4-9bd5-8b9903959470\">\n",
              "      Upload widget is only available when the cell has been executed in the\n",
              "      current browser session. Please rerun this cell to enable.\n",
              "      </output>\n",
              "      <script src=\"/nbextensions/google.colab/files.js\"></script> "
            ],
            "text/plain": [
              "<IPython.core.display.HTML object>"
            ]
          },
          "metadata": {
            "tags": []
          }
        },
        {
          "output_type": "stream",
          "text": [
            "Saving st_hr_cleaned.csv to st_hr_cleaned.csv\n"
          ],
          "name": "stdout"
        }
      ]
    },
    {
      "cell_type": "code",
      "metadata": {
        "id": "_-02634Ga8Wx"
      },
      "source": [
        "#Reading cleaned hours of day data (starting point) and storing into a Pandas Dataframe\n",
        "st_hr_clean = pd.read_csv(io.BytesIO(uploaded4['st_hr_cleaned.csv']))"
      ],
      "execution_count": 10,
      "outputs": []
    },
    {
      "cell_type": "code",
      "metadata": {
        "colab": {
          "resources": {
            "http://localhost:8080/nbextensions/google.colab/files.js": {
              "data": "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",
              "ok": true,
              "headers": [
                [
                  "content-type",
                  "application/javascript"
                ]
              ],
              "status": 200,
              "status_text": ""
            }
          },
          "base_uri": "https://localhost:8080/",
          "height": 73
        },
        "id": "p_BS3Unweo1J",
        "outputId": "36557c43-aa30-42e5-b733-719c7fbeeec4"
      },
      "source": [
        "#Uploading cleaned location data (end point) from local drive\n",
        "from google.colab import files\n",
        "uploaded5 = files.upload()"
      ],
      "execution_count": 11,
      "outputs": [
        {
          "output_type": "display_data",
          "data": {
            "text/html": [
              "\n",
              "     <input type=\"file\" id=\"files-89a59a36-d868-4767-b78f-b5c881de1519\" name=\"files[]\" multiple disabled\n",
              "        style=\"border:none\" />\n",
              "     <output id=\"result-89a59a36-d868-4767-b78f-b5c881de1519\">\n",
              "      Upload widget is only available when the cell has been executed in the\n",
              "      current browser session. Please rerun this cell to enable.\n",
              "      </output>\n",
              "      <script src=\"/nbextensions/google.colab/files.js\"></script> "
            ],
            "text/plain": [
              "<IPython.core.display.HTML object>"
            ]
          },
          "metadata": {
            "tags": []
          }
        },
        {
          "output_type": "stream",
          "text": [
            "Saving en_loc_cleaned.csv to en_loc_cleaned.csv\n"
          ],
          "name": "stdout"
        }
      ]
    },
    {
      "cell_type": "code",
      "metadata": {
        "id": "REjm6AhEfCPH"
      },
      "source": [
        "#Reading cleaned location data (end point) and storing into a Pandas Dataframe\n",
        "en_loc_clean = pd.read_csv(io.BytesIO(uploaded5['en_loc_cleaned.csv']))"
      ],
      "execution_count": 12,
      "outputs": []
    },
    {
      "cell_type": "code",
      "metadata": {
        "colab": {
          "resources": {
            "http://localhost:8080/nbextensions/google.colab/files.js": {
              "data": "Ly8gQ29weXJpZ2h0IDIwMTcgR29vZ2xlIExMQwovLwovLyBMaWNlbnNlZCB1bmRlciB0aGUgQXBhY2hlIExpY2Vuc2UsIFZlcnNpb24gMi4wICh0aGUgIkxpY2Vuc2UiKTsKLy8geW91IG1heSBub3QgdXNlIHRoaXMgZmlsZSBleGNlcHQgaW4gY29tcGxpYW5jZSB3aXRoIHRoZSBMaWNlbnNlLgovLyBZb3UgbWF5IG9idGFpbiBhIGNvcHkgb2YgdGhlIExpY2Vuc2UgYXQKLy8KLy8gICAgICBodHRwOi8vd3d3LmFwYWNoZS5vcmcvbGljZW5zZXMvTElDRU5TRS0yLjAKLy8KLy8gVW5sZXNzIHJlcXVpcmVkIGJ5IGFwcGxpY2FibGUgbGF3IG9yIGFncmVlZCB0byBpbiB3cml0aW5nLCBzb2Z0d2FyZQovLyBkaXN0cmlidXRlZCB1bmRlciB0aGUgTGljZW5zZSBpcyBkaXN0cmlidXRlZCBvbiBhbiAiQVMgSVMiIEJBU0lTLAovLyBXSVRIT1VUIFdBUlJBTlRJRVMgT1IgQ09ORElUSU9OUyBPRiBBTlkgS0lORCwgZWl0aGVyIGV4cHJlc3Mgb3IgaW1wbGllZC4KLy8gU2VlIHRoZSBMaWNlbnNlIGZvciB0aGUgc3BlY2lmaWMgbGFuZ3VhZ2UgZ292ZXJuaW5nIHBlcm1pc3Npb25zIGFuZAovLyBsaW1pdGF0aW9ucyB1bmRlciB0aGUgTGljZW5zZS4KCi8qKgogKiBAZmlsZW92ZXJ2aWV3IEhlbHBlcnMgZm9yIGdvb2dsZS5jb2xhYiBQeXRob24gbW9kdWxlLgogKi8KKGZ1bmN0aW9uKHNjb3BlKSB7CmZ1bmN0aW9uIHNwYW4odGV4dCwgc3R5bGVBdHRyaWJ1dGVzID0ge30pIHsKICBjb25zdCBlbGVtZW50ID0gZG9jdW1lbnQuY3JlYXRlRWxlbWVudCgnc3BhbicpOwogIGVsZW1lbnQudGV4dENvbnRlbnQgPSB0ZXh0OwogIGZvciAoY29uc3Qga2V5IG9mIE9iamVjdC5rZXlzKHN0eWxlQXR0cmlidXRlcykpIHsKICAgIGVsZW1lbnQuc3R5bGVba2V5XSA9IHN0eWxlQXR0cmlidXRlc1trZXldOwogIH0KICByZXR1cm4gZWxlbWVudDsKfQoKLy8gTWF4IG51bWJlciBvZiBieXRlcyB3aGljaCB3aWxsIGJlIHVwbG9hZGVkIGF0IGEgdGltZS4KY29uc3QgTUFYX1BBWUxPQURfU0laRSA9IDEwMCAqIDEwMjQ7CgpmdW5jdGlvbiBfdXBsb2FkRmlsZXMoaW5wdXRJZCwgb3V0cHV0SWQpIHsKICBjb25zdCBzdGVwcyA9IHVwbG9hZEZpbGVzU3RlcChpbnB1dElkLCBvdXRwdXRJZCk7CiAgY29uc3Qgb3V0cHV0RWxlbWVudCA9IGRvY3VtZW50LmdldEVsZW1lbnRCeUlkKG91dHB1dElkKTsKICAvLyBDYWNoZSBzdGVwcyBvbiB0aGUgb3V0cHV0RWxlbWVudCB0byBtYWtlIGl0IGF2YWlsYWJsZSBmb3IgdGhlIG5leHQgY2FsbAogIC8vIHRvIHVwbG9hZEZpbGVzQ29udGludWUgZnJvbSBQeXRob24uCiAgb3V0cHV0RWxlbWVudC5zdGVwcyA9IHN0ZXBzOwoKICByZXR1cm4gX3VwbG9hZEZpbGVzQ29udGludWUob3V0cHV0SWQpOwp9CgovLyBUaGlzIGlzIHJvdWdobHkgYW4gYXN5bmMgZ2VuZXJhdG9yIChub3Qgc3VwcG9ydGVkIGluIHRoZSBicm93c2VyIHlldCksCi8vIHdoZXJlIHRoZXJlIGFyZSBtdWx0aXBsZSBhc3luY2hyb25vdXMgc3RlcHMgYW5kIHRoZSBQeXRob24gc2lkZSBpcyBnb2luZwovLyB0byBwb2xsIGZvciBjb21wbGV0aW9uIG9mIGVhY2ggc3RlcC4KLy8gVGhpcyB1c2VzIGEgUHJvbWlzZSB0byBibG9jayB0aGUgcHl0aG9uIHNpZGUgb24gY29tcGxldGlvbiBvZiBlYWNoIHN0ZXAsCi8vIHRoZW4gcGFzc2VzIHRoZSByZXN1bHQgb2YgdGhlIHByZXZpb3VzIHN0ZXAgYXMgdGhlIGlucHV0IHRvIHRoZSBuZXh0IHN0ZXAuCmZ1bmN0aW9uIF91cGxvYWRGaWxlc0NvbnRpbnVlKG91dHB1dElkKSB7CiAgY29uc3Qgb3V0cHV0RWxlbWVudCA9IGRvY3VtZW50LmdldEVsZW1lbnRCeUlkKG91dHB1dElkKTsKICBjb25zdCBzdGVwcyA9IG91dHB1dEVsZW1lbnQuc3RlcHM7CgogIGNvbnN0IG5leHQgPSBzdGVwcy5uZXh0KG91dHB1dEVsZW1lbnQubGFzdFByb21pc2VWYWx1ZSk7CiAgcmV0dXJuIFByb21pc2UucmVzb2x2ZShuZXh0LnZhbHVlLnByb21pc2UpLnRoZW4oKHZhbHVlKSA9PiB7CiAgICAvLyBDYWNoZSB0aGUgbGFzdCBwcm9taXNlIHZhbHVlIHRvIG1ha2UgaXQgYXZhaWxhYmxlIHRvIHRoZSBuZXh0CiAgICAvLyBzdGVwIG9mIHRoZSBnZW5lcmF0b3IuCiAgICBvdXRwdXRFbGVtZW50Lmxhc3RQcm9taXNlVmFsdWUgPSB2YWx1ZTsKICAgIHJldHVybiBuZXh0LnZhbHVlLnJlc3BvbnNlOwogIH0pOwp9CgovKioKICogR2VuZXJhdG9yIGZ1bmN0aW9uIHdoaWNoIGlzIGNhbGxlZCBiZXR3ZWVuIGVhY2ggYXN5bmMgc3RlcCBvZiB0aGUgdXBsb2FkCiAqIHByb2Nlc3MuCiAqIEBwYXJhbSB7c3RyaW5nfSBpbnB1dElkIEVsZW1lbnQgSUQgb2YgdGhlIGlucHV0IGZpbGUgcGlja2VyIGVsZW1lbnQuCiAqIEBwYXJhbSB7c3RyaW5nfSBvdXRwdXRJZCBFbGVtZW50IElEIG9mIHRoZSBvdXRwdXQgZGlzcGxheS4KICogQHJldHVybiB7IUl0ZXJhYmxlPCFPYmplY3Q+fSBJdGVyYWJsZSBvZiBuZXh0IHN0ZXBzLgogKi8KZnVuY3Rpb24qIHVwbG9hZEZpbGVzU3RlcChpbnB1dElkLCBvdXRwdXRJZCkgewogIGNvbnN0IGlucHV0RWxlbWVudCA9IGRvY3VtZW50LmdldEVsZW1lbnRCeUlkKGlucHV0SWQpOwogIGlucHV0RWxlbWVudC5kaXNhYmxlZCA9IGZhbHNlOwoKICBjb25zdCBvdXRwdXRFbGVtZW50ID0gZG9jdW1lbnQuZ2V0RWxlbWVudEJ5SWQob3V0cHV0SWQpOwogIG91dHB1dEVsZW1lbnQuaW5uZXJIVE1MID0gJyc7CgogIGNvbnN0IHBpY2tlZFByb21pc2UgPSBuZXcgUHJvbWlzZSgocmVzb2x2ZSkgPT4gewogICAgaW5wdXRFbGVtZW50LmFkZEV2ZW50TGlzdGVuZXIoJ2NoYW5nZScsIChlKSA9PiB7CiAgICAgIHJlc29sdmUoZS50YXJnZXQuZmlsZXMpOwogICAgfSk7CiAgfSk7CgogIGNvbnN0IGNhbmNlbCA9IGRvY3VtZW50LmNyZWF0ZUVsZW1lbnQoJ2J1dHRvbicpOwogIGlucHV0RWxlbWVudC5wYXJlbnRFbGVtZW50LmFwcGVuZENoaWxkKGNhbmNlbCk7CiAgY2FuY2VsLnRleHRDb250ZW50ID0gJ0NhbmNlbCB1cGxvYWQnOwogIGNvbnN0IGNhbmNlbFByb21pc2UgPSBuZXcgUHJvbWlzZSgocmVzb2x2ZSkgPT4gewogICAgY2FuY2VsLm9uY2xpY2sgPSAoKSA9PiB7CiAgICAgIHJlc29sdmUobnVsbCk7CiAgICB9OwogIH0pOwoKICAvLyBXYWl0IGZvciB0aGUgdXNlciB0byBwaWNrIHRoZSBmaWxlcy4KICBjb25zdCBmaWxlcyA9IHlpZWxkIHsKICAgIHByb21pc2U6IFByb21pc2UucmFjZShbcGlja2VkUHJvbWlzZSwgY2FuY2VsUHJvbWlzZV0pLAogICAgcmVzcG9uc2U6IHsKICAgICAgYWN0aW9uOiAnc3RhcnRpbmcnLAogICAgfQogIH07CgogIGNhbmNlbC5yZW1vdmUoKTsKCiAgLy8gRGlzYWJsZSB0aGUgaW5wdXQgZWxlbWVudCBzaW5jZSBmdXJ0aGVyIHBpY2tzIGFyZSBub3QgYWxsb3dlZC4KICBpbnB1dEVsZW1lbnQuZGlzYWJsZWQgPSB0cnVlOwoKICBpZiAoIWZpbGVzKSB7CiAgICByZXR1cm4gewogICAgICByZXNwb25zZTogewogICAgICAgIGFjdGlvbjogJ2NvbXBsZXRlJywKICAgICAgfQogICAgfTsKICB9CgogIGZvciAoY29uc3QgZmlsZSBvZiBmaWxlcykgewogICAgY29uc3QgbGkgPSBkb2N1bWVudC5jcmVhdGVFbGVtZW50KCdsaScpOwogICAgbGkuYXBwZW5kKHNwYW4oZmlsZS5uYW1lLCB7Zm9udFdlaWdodDogJ2JvbGQnfSkpOwogICAgbGkuYXBwZW5kKHNwYW4oCiAgICAgICAgYCgke2ZpbGUudHlwZSB8fCAnbi9hJ30pIC0gJHtmaWxlLnNpemV9IGJ5dGVzLCBgICsKICAgICAgICBgbGFzdCBtb2RpZmllZDogJHsKICAgICAgICAgICAgZmlsZS5sYXN0TW9kaWZpZWREYXRlID8gZmlsZS5sYXN0TW9kaWZpZWREYXRlLnRvTG9jYWxlRGF0ZVN0cmluZygpIDoKICAgICAgICAgICAgICAgICAgICAgICAgICAgICAgICAgICAgJ24vYSd9IC0gYCkpOwogICAgY29uc3QgcGVyY2VudCA9IHNwYW4oJzAlIGRvbmUnKTsKICAgIGxpLmFwcGVuZENoaWxkKHBlcmNlbnQpOwoKICAgIG91dHB1dEVsZW1lbnQuYXBwZW5kQ2hpbGQobGkpOwoKICAgIGNvbnN0IGZpbGVEYXRhUHJvbWlzZSA9IG5ldyBQcm9taXNlKChyZXNvbHZlKSA9PiB7CiAgICAgIGNvbnN0IHJlYWRlciA9IG5ldyBGaWxlUmVhZGVyKCk7CiAgICAgIHJlYWRlci5vbmxvYWQgPSAoZSkgPT4gewogICAgICAgIHJlc29sdmUoZS50YXJnZXQucmVzdWx0KTsKICAgICAgfTsKICAgICAgcmVhZGVyLnJlYWRBc0FycmF5QnVmZmVyKGZpbGUpOwogICAgfSk7CiAgICAvLyBXYWl0IGZvciB0aGUgZGF0YSB0byBiZSByZWFkeS4KICAgIGxldCBmaWxlRGF0YSA9IHlpZWxkIHsKICAgICAgcHJvbWlzZTogZmlsZURhdGFQcm9taXNlLAogICAgICByZXNwb25zZTogewogICAgICAgIGFjdGlvbjogJ2NvbnRpbnVlJywKICAgICAgfQogICAgfTsKCiAgICAvLyBVc2UgYSBjaHVua2VkIHNlbmRpbmcgdG8gYXZvaWQgbWVzc2FnZSBzaXplIGxpbWl0cy4gU2VlIGIvNjIxMTU2NjAuCiAgICBsZXQgcG9zaXRpb24gPSAwOwogICAgZG8gewogICAgICBjb25zdCBsZW5ndGggPSBNYXRoLm1pbihmaWxlRGF0YS5ieXRlTGVuZ3RoIC0gcG9zaXRpb24sIE1BWF9QQVlMT0FEX1NJWkUpOwogICAgICBjb25zdCBjaHVuayA9IG5ldyBVaW50OEFycmF5KGZpbGVEYXRhLCBwb3NpdGlvbiwgbGVuZ3RoKTsKICAgICAgcG9zaXRpb24gKz0gbGVuZ3RoOwoKICAgICAgY29uc3QgYmFzZTY0ID0gYnRvYShTdHJpbmcuZnJvbUNoYXJDb2RlLmFwcGx5KG51bGwsIGNodW5rKSk7CiAgICAgIHlpZWxkIHsKICAgICAgICByZXNwb25zZTogewogICAgICAgICAgYWN0aW9uOiAnYXBwZW5kJywKICAgICAgICAgIGZpbGU6IGZpbGUubmFtZSwKICAgICAgICAgIGRhdGE6IGJhc2U2NCwKICAgICAgICB9LAogICAgICB9OwoKICAgICAgbGV0IHBlcmNlbnREb25lID0gZmlsZURhdGEuYnl0ZUxlbmd0aCA9PT0gMCA/CiAgICAgICAgICAxMDAgOgogICAgICAgICAgTWF0aC5yb3VuZCgocG9zaXRpb24gLyBmaWxlRGF0YS5ieXRlTGVuZ3RoKSAqIDEwMCk7CiAgICAgIHBlcmNlbnQudGV4dENvbnRlbnQgPSBgJHtwZXJjZW50RG9uZX0lIGRvbmVgOwoKICAgIH0gd2hpbGUgKHBvc2l0aW9uIDwgZmlsZURhdGEuYnl0ZUxlbmd0aCk7CiAgfQoKICAvLyBBbGwgZG9uZS4KICB5aWVsZCB7CiAgICByZXNwb25zZTogewogICAgICBhY3Rpb246ICdjb21wbGV0ZScsCiAgICB9CiAgfTsKfQoKc2NvcGUuZ29vZ2xlID0gc2NvcGUuZ29vZ2xlIHx8IHt9OwpzY29wZS5nb29nbGUuY29sYWIgPSBzY29wZS5nb29nbGUuY29sYWIgfHwge307CnNjb3BlLmdvb2dsZS5jb2xhYi5fZmlsZXMgPSB7CiAgX3VwbG9hZEZpbGVzLAogIF91cGxvYWRGaWxlc0NvbnRpbnVlLAp9Owp9KShzZWxmKTsK",
              "ok": true,
              "headers": [
                [
                  "content-type",
                  "application/javascript"
                ]
              ],
              "status": 200,
              "status_text": ""
            }
          },
          "base_uri": "https://localhost:8080/",
          "height": 73
        },
        "id": "URP0rqayfNYG",
        "outputId": "7f429a96-e1ff-4a0f-fb7e-82693911a09e"
      },
      "source": [
        "#Uploading cleaned hours of day data (end point) from local drive\n",
        "from google.colab import files\n",
        "uploaded6 = files.upload()"
      ],
      "execution_count": 13,
      "outputs": [
        {
          "output_type": "display_data",
          "data": {
            "text/html": [
              "\n",
              "     <input type=\"file\" id=\"files-8068ace9-8633-4efe-bde9-c7e3b56bab0f\" name=\"files[]\" multiple disabled\n",
              "        style=\"border:none\" />\n",
              "     <output id=\"result-8068ace9-8633-4efe-bde9-c7e3b56bab0f\">\n",
              "      Upload widget is only available when the cell has been executed in the\n",
              "      current browser session. Please rerun this cell to enable.\n",
              "      </output>\n",
              "      <script src=\"/nbextensions/google.colab/files.js\"></script> "
            ],
            "text/plain": [
              "<IPython.core.display.HTML object>"
            ]
          },
          "metadata": {
            "tags": []
          }
        },
        {
          "output_type": "stream",
          "text": [
            "Saving en_hr_cleaned.csv to en_hr_cleaned.csv\n"
          ],
          "name": "stdout"
        }
      ]
    },
    {
      "cell_type": "code",
      "metadata": {
        "id": "1jGQ_tBefNk5"
      },
      "source": [
        "#Reading cleaned hours of day data (end point) and storing into a Pandas Dataframe\n",
        "en_hr_clean = pd.read_csv(io.BytesIO(uploaded6['en_hr_cleaned.csv']))"
      ],
      "execution_count": 14,
      "outputs": []
    },
    {
      "cell_type": "markdown",
      "metadata": {
        "id": "Gcxu3vFN5Y_x"
      },
      "source": [
        "###Preparing location data for visualization"
      ]
    },
    {
      "cell_type": "code",
      "metadata": {
        "colab": {
          "base_uri": "https://localhost:8080/",
          "height": 203
        },
        "id": "XUdcQ2X5fzFc",
        "outputId": "e8f46da0-0149-4cf4-d48b-c3aecb6ece01"
      },
      "source": [
        "st_loc_clean.tail()"
      ],
      "execution_count": 15,
      "outputs": [
        {
          "output_type": "execute_result",
          "data": {
            "text/html": [
              "<div>\n",
              "<style scoped>\n",
              "    .dataframe tbody tr th:only-of-type {\n",
              "        vertical-align: middle;\n",
              "    }\n",
              "\n",
              "    .dataframe tbody tr th {\n",
              "        vertical-align: top;\n",
              "    }\n",
              "\n",
              "    .dataframe thead th {\n",
              "        text-align: right;\n",
              "    }\n",
              "</style>\n",
              "<table border=\"1\" class=\"dataframe\">\n",
              "  <thead>\n",
              "    <tr style=\"text-align: right;\">\n",
              "      <th></th>\n",
              "      <th>year</th>\n",
              "      <th>month</th>\n",
              "      <th>name</th>\n",
              "      <th>lat</th>\n",
              "      <th>lon</th>\n",
              "      <th>trips</th>\n",
              "      <th>mean_min</th>\n",
              "    </tr>\n",
              "  </thead>\n",
              "  <tbody>\n",
              "    <tr>\n",
              "      <th>3769</th>\n",
              "      <td>2020</td>\n",
              "      <td>April</td>\n",
              "      <td>Tordenskiolds gate</td>\n",
              "      <td>59.911776</td>\n",
              "      <td>10.735113</td>\n",
              "      <td>88</td>\n",
              "      <td>15.610</td>\n",
              "    </tr>\n",
              "    <tr>\n",
              "      <th>3770</th>\n",
              "      <td>2020</td>\n",
              "      <td>April</td>\n",
              "      <td>Blindern studentparkering</td>\n",
              "      <td>59.940874</td>\n",
              "      <td>10.720779</td>\n",
              "      <td>70</td>\n",
              "      <td>17.860</td>\n",
              "    </tr>\n",
              "    <tr>\n",
              "      <th>3771</th>\n",
              "      <td>2020</td>\n",
              "      <td>April</td>\n",
              "      <td>Jarlsborgveien</td>\n",
              "      <td>59.930464</td>\n",
              "      <td>10.675783</td>\n",
              "      <td>66</td>\n",
              "      <td>20.200</td>\n",
              "    </tr>\n",
              "    <tr>\n",
              "      <th>3772</th>\n",
              "      <td>2020</td>\n",
              "      <td>April</td>\n",
              "      <td>HasleLinje</td>\n",
              "      <td>59.927634</td>\n",
              "      <td>10.799249</td>\n",
              "      <td>64</td>\n",
              "      <td>15.425</td>\n",
              "    </tr>\n",
              "    <tr>\n",
              "      <th>3773</th>\n",
              "      <td>2020</td>\n",
              "      <td>April</td>\n",
              "      <td>Bak Niels Treschows hus sør</td>\n",
              "      <td>59.942473</td>\n",
              "      <td>10.723715</td>\n",
              "      <td>45</td>\n",
              "      <td>14.200</td>\n",
              "    </tr>\n",
              "  </tbody>\n",
              "</table>\n",
              "</div>"
            ],
            "text/plain": [
              "      year  month                         name  ...        lon  trips  mean_min\n",
              "3769  2020  April           Tordenskiolds gate  ...  10.735113     88    15.610\n",
              "3770  2020  April    Blindern studentparkering  ...  10.720779     70    17.860\n",
              "3771  2020  April               Jarlsborgveien  ...  10.675783     66    20.200\n",
              "3772  2020  April                   HasleLinje  ...  10.799249     64    15.425\n",
              "3773  2020  April  Bak Niels Treschows hus sør  ...  10.723715     45    14.200\n",
              "\n",
              "[5 rows x 7 columns]"
            ]
          },
          "metadata": {
            "tags": []
          },
          "execution_count": 15
        }
      ]
    },
    {
      "cell_type": "code",
      "metadata": {
        "id": "8uqxm4pesuFf"
      },
      "source": [
        "#Creating a function to generate a basemap\n",
        "def generate_basemap(default_loc=[59.92,10.75], default_zoom=13):\n",
        "    bmap = folium.Map(location=default_loc, zoom_start=default_zoom)\n",
        "    return bmap"
      ],
      "execution_count": 16,
      "outputs": []
    },
    {
      "cell_type": "code",
      "metadata": {
        "id": "A_7xm-SFg4De"
      },
      "source": [
        "def plot_basemap(year, month, cat, st_num):\n",
        "  \"\"\"Plot basemap according to year, month, category and station numbers\"\"\"\n",
        "\n",
        "  #Slice the corresponding dataframe depending on the selected category\n",
        "  if cat == 'Start':\n",
        "    hm_df = st_loc_clean[(st_loc_clean['year']==year) & (st_loc_clean['month']==month)].copy()\n",
        "    hm_df = hm_df.drop(columns=['year', 'month', 'name', 'mean_min'])\n",
        "  else:\n",
        "    hm_df = en_loc_clean[(en_loc_clean['year']==year) & (en_loc_clean['month']==month)].copy()\n",
        "    hm_df = hm_df.drop(columns=['year', 'month', 'name', 'mean_min'])\n",
        "\n",
        "  #Create a function to convert lat, lon, and weight to list. Folium does not take DataFrames\n",
        "  def convert_to_list(df):\n",
        "    \"\"\"Convert dataframe to list of lat, lon and weight\"\"\"\n",
        "    lat = df['lat'].to_numpy(dtype=float)\n",
        "    lon = df['lon'].to_numpy(dtype=float)\n",
        "    weight = df['trips'].to_numpy(dtype=float)\n",
        "    return [[l, g, w] for l, g, w in zip(lat, lon, weight)]\n",
        "\n",
        "  #Convert lat, long and weight to lists of list\n",
        "  heat_data = convert_to_list(hm_df)\n",
        "\n",
        "  #Generate a basemap\n",
        "  basemap = generate_basemap()\n",
        "\n",
        "  #Create a HeatMap with lat, lon and number of trips\n",
        "  HeatMap(heat_data[:st_num]).add_to(basemap)\n",
        "\n",
        "  #Plot the basemap\n",
        "  return basemap"
      ],
      "execution_count": 17,
      "outputs": []
    },
    {
      "cell_type": "code",
      "metadata": {
        "id": "ldTE0dt6lWSS"
      },
      "source": [
        "#Generating widgets options for HeatMap\n",
        "yr = [2020, 2021]\n",
        "month = ['January', 'February', 'March', 'April', 'May', 'June', 'July', 'August', 'September', 'October', 'November', 'December']\n",
        "category = ['Start', 'Destination']\n",
        "num = [i for i in range(5, 251, 5)]"
      ],
      "execution_count": 18,
      "outputs": []
    },
    {
      "cell_type": "markdown",
      "metadata": {
        "id": "mw77R1OZqoni"
      },
      "source": [
        "###Visualizing Location Data"
      ]
    },
    {
      "cell_type": "code",
      "metadata": {
        "colab": {
          "base_uri": "https://localhost:8080/",
          "height": 994,
          "referenced_widgets": [
            "e4e27d08488241979aa306b8b2ff515c",
            "36b7471bb049429e8f0a7033739ead15",
            "faead8fa814540f888b945b8ac71fefc",
            "0f8428f5d96c47f5a52debc01f634cc9",
            "51c8c26332e0426c94d54a9fd4e85fd2",
            "94d932ba3b414bfabf8b04561eb190c1",
            "75c0be47ca394f2fb42bdbc814a001cc",
            "c6b5a30569ec4fc39cde5caee1d1fd41",
            "2e954e597f694db28cf663995a7f7f79",
            "1bda658b4962410cb600b8102e47dfde",
            "ddc0969ccf0549e0a71ef1994411c90c",
            "da441ddeb20c4cbfab1651d6be9e1129",
            "5d246d01791743f59d91622536d4af37",
            "4789ad256c454d3bba42e2e77f08563f",
            "3ac84306cdcf4d96b0a7481c2899c85c",
            "96b8207607f64516ac5a688659581c60"
          ]
        },
        "id": "rXEmbaCdg4OK",
        "outputId": "f0b794d4-7389-4960-f132-13ea19bdbdac"
      },
      "source": [
        "#Plotting interactive HeatMap for Bysykkel data\n",
        "interact(plot_basemap,\n",
        "         year=widgets.Dropdown(options=yr, value=yr[0], description='Year', disabled=False),\n",
        "         month=widgets.Dropdown(options=month, value=month[2], description='Month', disabled=False),\n",
        "         cat=widgets.Dropdown(options=category, value=category[0], description='Category', disabled=False),\n",
        "         st_num=widgets.Dropdown(options=num, value=num[3], description='Stations', disabled=False))\n",
        "plt.show()"
      ],
      "execution_count": 20,
      "outputs": [
        {
          "output_type": "display_data",
          "data": {
            "application/vnd.jupyter.widget-view+json": {
              "model_id": "e4e27d08488241979aa306b8b2ff515c",
              "version_minor": 0,
              "version_major": 2
            },
            "text/plain": [
              "interactive(children=(Dropdown(description='Year', options=(2020, 2021), value=2020), Dropdown(description='Mo…"
            ]
          },
          "metadata": {
            "tags": []
          }
        }
      ]
    },
    {
      "cell_type": "markdown",
      "metadata": {
        "id": "EQ96RybtclrJ"
      },
      "source": [
        "###Dashboard preparation"
      ]
    },
    {
      "cell_type": "code",
      "metadata": {
        "id": "twtSgIBm6S9D"
      },
      "source": [
        "#Creating a function to plot the interactive dashboard\n",
        "\n",
        "def plot_dashboard(year, month):\n",
        "  \"\"\"Plot the starting point of trips, location and average minutes per station \"\"\"\n",
        "  \n",
        "  #Creating slices of the dataframes  \n",
        "  df1 = st_loc_clean[(st_loc_clean['year']==year) & (st_loc_clean['month']==month)].copy()\n",
        "  df2 = en_loc_clean[(en_loc_clean['year']==year) & (en_loc_clean['month']==month)].copy()\n",
        "  df3 = st_hr_clean[(st_hr_clean['year']==year) & (st_hr_clean['month']==month)].copy()\n",
        "  df4 = en_hr_clean[(en_hr_clean['year']==year) & (en_hr_clean['month']==month)].copy()\n",
        "\n",
        "  #Creating constants for plotting\n",
        "  hours = [i for i in range(0, 24)]\n",
        "\n",
        "  #Create four subplots and unpack the output array immediately\n",
        "  fig, ((ax1, ax2), (ax3, ax4)) = plt.subplots(nrows=2, ncols=2, figsize=(20,10))\n",
        "\n",
        "  #Set title for the figure\n",
        "  fig.suptitle(\"Bysykkel Dashboard - Under construction\", fontsize=24)\n",
        "\n",
        "  #Accessing axes objects and plotting\n",
        "  sns.barplot(x='name', y='trips', data=df1[:5], ax=ax1)\n",
        "  sns.barplot(x='name', y='trips', data=df2[:5], ax=ax2)\n",
        "  sns.barplot(x='hour', y='count', data=df3, order=hours, ax=ax3)\n",
        "  sns.barplot(x='hour', y='count', data=df4, order=hours, ax=ax4)\n",
        "    \n",
        "  #Customizing axes labels and titles for first axes figure\n",
        "  ax1.set_xlabel('Station names')\n",
        "  ax1.set_ylabel('Number of Trips')\n",
        "  ax1.set_title('Top 5 start locations')\n",
        "  \n",
        "  #Customizing axes labels and titles for second axes figure\n",
        "  ax2.set_xlabel('Station names')\n",
        "  ax2.set_ylabel('Number of Trips')\n",
        "  ax2.set_title('Top 5 destinations')\n",
        "\n",
        "  #Customizing axes labels and titles for third axes figure\n",
        "  ax3.set_xlabel('Hours of day')\n",
        "  ax3.set_ylabel('Number of Trips')\n",
        "  ax3.set_title('Start trips rush hours')\n",
        "\n",
        "  #Customizing axes labels and titles for third axes figure\n",
        "  ax4.set_xlabel('Hours of day')\n",
        "  ax4.set_ylabel('Number of Trips')\n",
        "  ax4.set_title('Destination trips rush hours')\n",
        "\n",
        "  #Prevent from axis to colliding or overlaping one another.\n",
        "  fig.tight_layout()\n",
        "  fig.subplots_adjust(top=0.88)"
      ],
      "execution_count": 21,
      "outputs": []
    },
    {
      "cell_type": "markdown",
      "metadata": {
        "id": "_2ffmzfn5j1P"
      },
      "source": [
        "###Visualizing Bysykkel Dashboard"
      ]
    },
    {
      "cell_type": "code",
      "metadata": {
        "colab": {
          "base_uri": "https://localhost:8080/",
          "height": 781,
          "referenced_widgets": [
            "55e1674487e7448593c2c401b67e425f",
            "dbf2da090f6140359140f9c5b1c1df84",
            "66a6d948e4fc4db0ae5bc2fccf66f725",
            "392fd9fb0a1a4284b5a0aa3fd9d3bae6",
            "98be4d91edb4419d940a6803e1b4dd2e",
            "f1d2942004ae49a88b722f077dd6990c",
            "688dd85c88a647468f4478b3494dd986",
            "a3cd5afbf9d14be8949d09a868cc4977",
            "5aac1a901d7f42a4a911232daeadc06e",
            "1808ffc1abeb42188698badf96d6d343"
          ]
        },
        "id": "5uQ7SiroCYyr",
        "outputId": "676d3f60-de4c-4e85-f008-39774bc9a31e"
      },
      "source": [
        "#Plotting Bysykkel dashboard with interactive widgets\n",
        "interact(plot_dashboard,\n",
        "         year=widgets.Dropdown(options=yr, value=yr[0], description='Year', disabled=False),\n",
        "         month=widgets.Dropdown(options=month, value=month[2], description='Month', disabled=False))\n",
        "plt.show()"
      ],
      "execution_count": 22,
      "outputs": [
        {
          "output_type": "display_data",
          "data": {
            "application/vnd.jupyter.widget-view+json": {
              "model_id": "55e1674487e7448593c2c401b67e425f",
              "version_minor": 0,
              "version_major": 2
            },
            "text/plain": [
              "interactive(children=(Dropdown(description='Year', options=(2020, 2021), value=2020), Dropdown(description='Mo…"
            ]
          },
          "metadata": {
            "tags": []
          }
        }
      ]
    }
  ]
}