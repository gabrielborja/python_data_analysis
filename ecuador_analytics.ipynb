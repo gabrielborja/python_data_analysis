{
  "nbformat": 4,
  "nbformat_minor": 0,
  "metadata": {
    "colab": {
      "name": "ecuador_analytics.ipynb",
      "provenance": [],
      "collapsed_sections": [],
      "authorship_tag": "ABX9TyOzhvOsfKIomx3td8qyrpIT",
      "include_colab_link": true
    },
    "kernelspec": {
      "name": "python3",
      "display_name": "Python 3"
    },
    "language_info": {
      "name": "python"
    },
    "widgets": {
      "application/vnd.jupyter.widget-state+json": {
        "ef86f6c71c3d4d5ea52a3293f1dde670": {
          "model_module": "@jupyter-widgets/controls",
          "model_name": "VBoxModel",
          "state": {
            "_view_name": "VBoxView",
            "_dom_classes": [
              "widget-interact"
            ],
            "_model_name": "VBoxModel",
            "_view_module": "@jupyter-widgets/controls",
            "_model_module_version": "1.5.0",
            "_view_count": null,
            "_view_module_version": "1.5.0",
            "box_style": "",
            "layout": "IPY_MODEL_f07e7b62011746e7b64dcaa3a6697281",
            "_model_module": "@jupyter-widgets/controls",
            "children": [
              "IPY_MODEL_bd093a3aaad7455ba60e336e83959f27",
              "IPY_MODEL_ea7097d2399f4c25bfcff3fb4e7be1ee"
            ]
          }
        },
        "f07e7b62011746e7b64dcaa3a6697281": {
          "model_module": "@jupyter-widgets/base",
          "model_name": "LayoutModel",
          "state": {
            "_view_name": "LayoutView",
            "grid_template_rows": null,
            "right": null,
            "justify_content": null,
            "_view_module": "@jupyter-widgets/base",
            "overflow": null,
            "_model_module_version": "1.2.0",
            "_view_count": null,
            "flex_flow": null,
            "width": null,
            "min_width": null,
            "border": null,
            "align_items": null,
            "bottom": null,
            "_model_module": "@jupyter-widgets/base",
            "top": null,
            "grid_column": null,
            "overflow_y": null,
            "overflow_x": null,
            "grid_auto_flow": null,
            "grid_area": null,
            "grid_template_columns": null,
            "flex": null,
            "_model_name": "LayoutModel",
            "justify_items": null,
            "grid_row": null,
            "max_height": null,
            "align_content": null,
            "visibility": null,
            "align_self": null,
            "height": null,
            "min_height": null,
            "padding": null,
            "grid_auto_rows": null,
            "grid_gap": null,
            "max_width": null,
            "order": null,
            "_view_module_version": "1.2.0",
            "grid_template_areas": null,
            "object_position": null,
            "object_fit": null,
            "grid_auto_columns": null,
            "margin": null,
            "display": null,
            "left": null
          }
        },
        "bd093a3aaad7455ba60e336e83959f27": {
          "model_module": "@jupyter-widgets/controls",
          "model_name": "DropdownModel",
          "state": {
            "_options_labels": [
              "Mainland",
              "Galapagos"
            ],
            "_view_name": "DropdownView",
            "style": "IPY_MODEL_240dabc8d5954c7fa0003d47b61fb488",
            "_dom_classes": [],
            "description": "Ecuador",
            "_model_name": "DropdownModel",
            "index": 0,
            "_view_module": "@jupyter-widgets/controls",
            "_model_module_version": "1.5.0",
            "_view_count": null,
            "disabled": false,
            "_view_module_version": "1.5.0",
            "description_tooltip": null,
            "_model_module": "@jupyter-widgets/controls",
            "layout": "IPY_MODEL_e70cd7c49851475ba401ded1094028cf"
          }
        },
        "ea7097d2399f4c25bfcff3fb4e7be1ee": {
          "model_module": "@jupyter-widgets/output",
          "model_name": "OutputModel",
          "state": {
            "_view_name": "OutputView",
            "msg_id": "",
            "_dom_classes": [],
            "_model_name": "OutputModel",
            "outputs": [
              {
                "output_type": "display_data",
                "metadata": {
                  "tags": []
                },
                "text/html": "<html>\n<head><meta charset=\"utf-8\" /></head>\n<body>\n    <div>\n            <script src=\"https://cdnjs.cloudflare.com/ajax/libs/mathjax/2.7.5/MathJax.js?config=TeX-AMS-MML_SVG\"></script><script type=\"text/javascript\">if (window.MathJax) {MathJax.Hub.Config({SVG: {font: \"STIX-Web\"}});}</script>\n                <script type=\"text/javascript\">window.PlotlyConfig = {MathJaxConfig: 'local'};</script>\n        <script src=\"https://cdn.plot.ly/plotly-latest.min.js\"></script>    \n            <div id=\"fc6f5f61-7e96-431b-a0dd-e64d1b34b6d5\" class=\"plotly-graph-div\" style=\"height:525px; width:100%;\"></div>\n            <script type=\"text/javascript\">\n                \n                    window.PLOTLYENV=window.PLOTLYENV || {};\n                    \n                if (document.getElementById(\"fc6f5f61-7e96-431b-a0dd-e64d1b34b6d5\")) {\n                    Plotly.newPlot(\n                        'fc6f5f61-7e96-431b-a0dd-e64d1b34b6d5',\n                        [{\"geo\": \"geo\", \"hoverlabel\": {\"namelength\": 0}, \"hovertemplate\": \"Meters=%{marker.color}<br>Lat=%{lat}<br>Lon=%{lon}\", \"lat\": [-1.68, -0.48100000000000004, -0.353, -1.4069399999999999, 0.028999999999999998, -0.37, 0.79778, -1.46917, -0.43, 0.36083000000000004, -0.677, 0.30833, 0.15, -0.659, 0.26, -1.78, 0.13, -0.3535, -0.43, -0.46, -0.171, 0.53, 0.038, -0.85, -0.006999999999999999, -0.6333300000000001, -2.03, -0.5457944, 0.552, -0.53, -1.78, -1.4669999999999999, 0.49849], \"legendgroup\": \"\", \"lon\": [-78.42, -78.14, -78.617, -78.75, -77.986, -78.25, -77.95083000000001, -78.8175, -77.72, -78.34917, -78.436, -78.36389, -78.14, -78.714, -78.18, -78.613, -78.27, -78.617, -77.72, -78.48, -78.598, -78.37, -78.46300000000001, -78.9, -77.65, -78.53333, -78.34, -78.36658059999999, -77.58, -77.62, -78.613, -78.442, -78.33389], \"marker\": {\"color\": [5405, 5753, 4463, 5018, 5790, 4643, 4756, 6310, 4790, 4944, 5897, 3246, 3719, 5248, 4557, 3336, 4263, 4453, 3482, 4200, 4784, 4453, 3356, 3914, 3562, 4721, 5188, 4873, 3955, 3990, 3336, 5023, 4535], \"coloraxis\": \"coloraxis\", \"size\": [5405, 5753, 4463, 5018, 5790, 4643, 4756, 6310, 4790, 4944, 5897, 3246, 3719, 5248, 4557, 3336, 4263, 4453, 3482, 4200, 4784, 4453, 3356, 3914, 3562, 4721, 5188, 4873, 3955, 3990, 3336, 5023, 4535], \"sizemode\": \"area\", \"sizeref\": 15.775}, \"name\": \"\", \"showlegend\": false, \"type\": \"scattergeo\"}],\n                        {\"coloraxis\": {\"colorbar\": {\"title\": {\"text\": \"Meters\"}}, \"colorscale\": [[0.0, \"#0d0887\"], [0.1111111111111111, \"#46039f\"], [0.2222222222222222, \"#7201a8\"], [0.3333333333333333, \"#9c179e\"], [0.4444444444444444, \"#bd3786\"], [0.5555555555555556, \"#d8576b\"], [0.6666666666666666, \"#ed7953\"], [0.7777777777777778, \"#fb9f3a\"], [0.8888888888888888, \"#fdca26\"], [1.0, \"#f0f921\"]]}, \"geo\": {\"center\": {\"lat\": -0.83, \"lon\": -78.18}, \"domain\": {\"x\": [0.0, 1.0], \"y\": [0.0, 1.0]}, \"projection\": {\"scale\": 30}}, \"legend\": {\"itemsizing\": \"constant\", \"tracegroupgap\": 0}, \"template\": {\"data\": {\"bar\": [{\"error_x\": {\"color\": \"#2a3f5f\"}, \"error_y\": {\"color\": \"#2a3f5f\"}, \"marker\": {\"line\": {\"color\": \"#E5ECF6\", \"width\": 0.5}}, \"type\": \"bar\"}], \"barpolar\": [{\"marker\": {\"line\": {\"color\": \"#E5ECF6\", \"width\": 0.5}}, \"type\": \"barpolar\"}], \"carpet\": [{\"aaxis\": {\"endlinecolor\": \"#2a3f5f\", \"gridcolor\": \"white\", \"linecolor\": \"white\", \"minorgridcolor\": \"white\", \"startlinecolor\": \"#2a3f5f\"}, \"baxis\": {\"endlinecolor\": \"#2a3f5f\", \"gridcolor\": \"white\", \"linecolor\": \"white\", \"minorgridcolor\": \"white\", \"startlinecolor\": \"#2a3f5f\"}, \"type\": \"carpet\"}], \"choropleth\": [{\"colorbar\": {\"outlinewidth\": 0, \"ticks\": \"\"}, \"type\": \"choropleth\"}], \"contour\": [{\"colorbar\": {\"outlinewidth\": 0, \"ticks\": \"\"}, \"colorscale\": [[0.0, \"#0d0887\"], [0.1111111111111111, \"#46039f\"], [0.2222222222222222, \"#7201a8\"], [0.3333333333333333, \"#9c179e\"], [0.4444444444444444, \"#bd3786\"], [0.5555555555555556, \"#d8576b\"], [0.6666666666666666, \"#ed7953\"], [0.7777777777777778, \"#fb9f3a\"], [0.8888888888888888, \"#fdca26\"], [1.0, \"#f0f921\"]], \"type\": \"contour\"}], \"contourcarpet\": [{\"colorbar\": {\"outlinewidth\": 0, \"ticks\": \"\"}, \"type\": \"contourcarpet\"}], \"heatmap\": [{\"colorbar\": {\"outlinewidth\": 0, \"ticks\": \"\"}, \"colorscale\": [[0.0, \"#0d0887\"], [0.1111111111111111, \"#46039f\"], [0.2222222222222222, \"#7201a8\"], [0.3333333333333333, \"#9c179e\"], [0.4444444444444444, \"#bd3786\"], [0.5555555555555556, \"#d8576b\"], [0.6666666666666666, \"#ed7953\"], [0.7777777777777778, \"#fb9f3a\"], [0.8888888888888888, \"#fdca26\"], [1.0, \"#f0f921\"]], \"type\": \"heatmap\"}], \"heatmapgl\": [{\"colorbar\": {\"outlinewidth\": 0, \"ticks\": \"\"}, \"colorscale\": [[0.0, \"#0d0887\"], [0.1111111111111111, \"#46039f\"], [0.2222222222222222, \"#7201a8\"], [0.3333333333333333, \"#9c179e\"], [0.4444444444444444, \"#bd3786\"], [0.5555555555555556, \"#d8576b\"], [0.6666666666666666, \"#ed7953\"], [0.7777777777777778, \"#fb9f3a\"], [0.8888888888888888, \"#fdca26\"], [1.0, \"#f0f921\"]], \"type\": \"heatmapgl\"}], \"histogram\": [{\"marker\": {\"colorbar\": {\"outlinewidth\": 0, \"ticks\": \"\"}}, \"type\": \"histogram\"}], \"histogram2d\": [{\"colorbar\": {\"outlinewidth\": 0, \"ticks\": \"\"}, \"colorscale\": [[0.0, \"#0d0887\"], [0.1111111111111111, \"#46039f\"], [0.2222222222222222, \"#7201a8\"], [0.3333333333333333, \"#9c179e\"], [0.4444444444444444, \"#bd3786\"], [0.5555555555555556, \"#d8576b\"], [0.6666666666666666, \"#ed7953\"], [0.7777777777777778, \"#fb9f3a\"], [0.8888888888888888, \"#fdca26\"], [1.0, \"#f0f921\"]], \"type\": \"histogram2d\"}], \"histogram2dcontour\": [{\"colorbar\": {\"outlinewidth\": 0, \"ticks\": \"\"}, \"colorscale\": [[0.0, \"#0d0887\"], [0.1111111111111111, \"#46039f\"], [0.2222222222222222, \"#7201a8\"], [0.3333333333333333, \"#9c179e\"], [0.4444444444444444, \"#bd3786\"], [0.5555555555555556, \"#d8576b\"], [0.6666666666666666, \"#ed7953\"], [0.7777777777777778, \"#fb9f3a\"], [0.8888888888888888, \"#fdca26\"], [1.0, \"#f0f921\"]], \"type\": \"histogram2dcontour\"}], \"mesh3d\": [{\"colorbar\": {\"outlinewidth\": 0, \"ticks\": \"\"}, \"type\": \"mesh3d\"}], \"parcoords\": [{\"line\": {\"colorbar\": {\"outlinewidth\": 0, \"ticks\": \"\"}}, \"type\": \"parcoords\"}], \"pie\": [{\"automargin\": true, \"type\": \"pie\"}], \"scatter\": [{\"marker\": {\"colorbar\": {\"outlinewidth\": 0, \"ticks\": \"\"}}, \"type\": \"scatter\"}], \"scatter3d\": [{\"line\": {\"colorbar\": {\"outlinewidth\": 0, \"ticks\": \"\"}}, \"marker\": {\"colorbar\": {\"outlinewidth\": 0, \"ticks\": \"\"}}, \"type\": \"scatter3d\"}], \"scattercarpet\": [{\"marker\": {\"colorbar\": {\"outlinewidth\": 0, \"ticks\": \"\"}}, \"type\": \"scattercarpet\"}], \"scattergeo\": [{\"marker\": {\"colorbar\": {\"outlinewidth\": 0, \"ticks\": \"\"}}, \"type\": \"scattergeo\"}], \"scattergl\": [{\"marker\": {\"colorbar\": {\"outlinewidth\": 0, \"ticks\": \"\"}}, \"type\": \"scattergl\"}], \"scattermapbox\": [{\"marker\": {\"colorbar\": {\"outlinewidth\": 0, \"ticks\": \"\"}}, \"type\": \"scattermapbox\"}], \"scatterpolar\": [{\"marker\": {\"colorbar\": {\"outlinewidth\": 0, \"ticks\": \"\"}}, \"type\": \"scatterpolar\"}], \"scatterpolargl\": [{\"marker\": {\"colorbar\": {\"outlinewidth\": 0, \"ticks\": \"\"}}, \"type\": \"scatterpolargl\"}], \"scatterternary\": [{\"marker\": {\"colorbar\": {\"outlinewidth\": 0, \"ticks\": \"\"}}, \"type\": \"scatterternary\"}], \"surface\": [{\"colorbar\": {\"outlinewidth\": 0, \"ticks\": \"\"}, \"colorscale\": [[0.0, \"#0d0887\"], [0.1111111111111111, \"#46039f\"], [0.2222222222222222, \"#7201a8\"], [0.3333333333333333, \"#9c179e\"], [0.4444444444444444, \"#bd3786\"], [0.5555555555555556, \"#d8576b\"], [0.6666666666666666, \"#ed7953\"], [0.7777777777777778, \"#fb9f3a\"], [0.8888888888888888, \"#fdca26\"], [1.0, \"#f0f921\"]], \"type\": \"surface\"}], \"table\": [{\"cells\": {\"fill\": {\"color\": \"#EBF0F8\"}, \"line\": {\"color\": \"white\"}}, \"header\": {\"fill\": {\"color\": \"#C8D4E3\"}, \"line\": {\"color\": \"white\"}}, \"type\": \"table\"}]}, \"layout\": {\"annotationdefaults\": {\"arrowcolor\": \"#2a3f5f\", \"arrowhead\": 0, \"arrowwidth\": 1}, \"coloraxis\": {\"colorbar\": {\"outlinewidth\": 0, \"ticks\": \"\"}}, \"colorscale\": {\"diverging\": [[0, \"#8e0152\"], [0.1, \"#c51b7d\"], [0.2, \"#de77ae\"], [0.3, \"#f1b6da\"], [0.4, \"#fde0ef\"], [0.5, \"#f7f7f7\"], [0.6, \"#e6f5d0\"], [0.7, \"#b8e186\"], [0.8, \"#7fbc41\"], [0.9, \"#4d9221\"], [1, \"#276419\"]], \"sequential\": [[0.0, \"#0d0887\"], [0.1111111111111111, \"#46039f\"], [0.2222222222222222, \"#7201a8\"], [0.3333333333333333, \"#9c179e\"], [0.4444444444444444, \"#bd3786\"], [0.5555555555555556, \"#d8576b\"], [0.6666666666666666, \"#ed7953\"], [0.7777777777777778, \"#fb9f3a\"], [0.8888888888888888, \"#fdca26\"], [1.0, \"#f0f921\"]], \"sequentialminus\": [[0.0, \"#0d0887\"], [0.1111111111111111, \"#46039f\"], [0.2222222222222222, \"#7201a8\"], [0.3333333333333333, \"#9c179e\"], [0.4444444444444444, \"#bd3786\"], [0.5555555555555556, \"#d8576b\"], [0.6666666666666666, \"#ed7953\"], [0.7777777777777778, \"#fb9f3a\"], [0.8888888888888888, \"#fdca26\"], [1.0, \"#f0f921\"]]}, \"colorway\": [\"#636efa\", \"#EF553B\", \"#00cc96\", \"#ab63fa\", \"#FFA15A\", \"#19d3f3\", \"#FF6692\", \"#B6E880\", \"#FF97FF\", \"#FECB52\"], \"font\": {\"color\": \"#2a3f5f\"}, \"geo\": {\"bgcolor\": \"white\", \"lakecolor\": \"white\", \"landcolor\": \"#E5ECF6\", \"showlakes\": true, \"showland\": true, \"subunitcolor\": \"white\"}, \"hoverlabel\": {\"align\": \"left\"}, \"hovermode\": \"closest\", \"mapbox\": {\"style\": \"light\"}, \"paper_bgcolor\": \"white\", \"plot_bgcolor\": \"#E5ECF6\", \"polar\": {\"angularaxis\": {\"gridcolor\": \"white\", \"linecolor\": \"white\", \"ticks\": \"\"}, \"bgcolor\": \"#E5ECF6\", \"radialaxis\": {\"gridcolor\": \"white\", \"linecolor\": \"white\", \"ticks\": \"\"}}, \"scene\": {\"xaxis\": {\"backgroundcolor\": \"#E5ECF6\", \"gridcolor\": \"white\", \"gridwidth\": 2, \"linecolor\": \"white\", \"showbackground\": true, \"ticks\": \"\", \"zerolinecolor\": \"white\"}, \"yaxis\": {\"backgroundcolor\": \"#E5ECF6\", \"gridcolor\": \"white\", \"gridwidth\": 2, \"linecolor\": \"white\", \"showbackground\": true, \"ticks\": \"\", \"zerolinecolor\": \"white\"}, \"zaxis\": {\"backgroundcolor\": \"#E5ECF6\", \"gridcolor\": \"white\", \"gridwidth\": 2, \"linecolor\": \"white\", \"showbackground\": true, \"ticks\": \"\", \"zerolinecolor\": \"white\"}}, \"shapedefaults\": {\"line\": {\"color\": \"#2a3f5f\"}}, \"ternary\": {\"aaxis\": {\"gridcolor\": \"white\", \"linecolor\": \"white\", \"ticks\": \"\"}, \"baxis\": {\"gridcolor\": \"white\", \"linecolor\": \"white\", \"ticks\": \"\"}, \"bgcolor\": \"#E5ECF6\", \"caxis\": {\"gridcolor\": \"white\", \"linecolor\": \"white\", \"ticks\": \"\"}}, \"title\": {\"x\": 0.05}, \"xaxis\": {\"automargin\": true, \"gridcolor\": \"white\", \"linecolor\": \"white\", \"ticks\": \"\", \"title\": {\"standoff\": 15}, \"zerolinecolor\": \"white\", \"zerolinewidth\": 2}, \"yaxis\": {\"automargin\": true, \"gridcolor\": \"white\", \"linecolor\": \"white\", \"ticks\": \"\", \"title\": {\"standoff\": 15}, \"zerolinecolor\": \"white\", \"zerolinewidth\": 2}}}, \"title\": {\"text\": \"Volcanoes in Ecuador\"}},\n                        {\"responsive\": true}\n                    ).then(function(){\n                            \nvar gd = document.getElementById('fc6f5f61-7e96-431b-a0dd-e64d1b34b6d5');\nvar x = new MutationObserver(function (mutations, observer) {{\n        var display = window.getComputedStyle(gd).display;\n        if (!display || display === 'none') {{\n            console.log([gd, 'removed!']);\n            Plotly.purge(gd);\n            observer.disconnect();\n        }}\n}});\n\n// Listen for the removal of the full notebook cells\nvar notebookContainer = gd.closest('#notebook-container');\nif (notebookContainer) {{\n    x.observe(notebookContainer, {childList: true});\n}}\n\n// Listen for the clearing of the current output cell\nvar outputEl = gd.closest('.output');\nif (outputEl) {{\n    x.observe(outputEl, {childList: true});\n}}\n\n                        })\n                };\n                \n            </script>\n        </div>\n</body>\n</html>"
              }
            ],
            "_view_module": "@jupyter-widgets/output",
            "_model_module_version": "1.0.0",
            "_view_count": null,
            "_view_module_version": "1.0.0",
            "layout": "IPY_MODEL_ccd0494bfe6348ce8d31f00b9016785b",
            "_model_module": "@jupyter-widgets/output"
          }
        },
        "240dabc8d5954c7fa0003d47b61fb488": {
          "model_module": "@jupyter-widgets/controls",
          "model_name": "DescriptionStyleModel",
          "state": {
            "_view_name": "StyleView",
            "_model_name": "DescriptionStyleModel",
            "description_width": "",
            "_view_module": "@jupyter-widgets/base",
            "_model_module_version": "1.5.0",
            "_view_count": null,
            "_view_module_version": "1.2.0",
            "_model_module": "@jupyter-widgets/controls"
          }
        },
        "e70cd7c49851475ba401ded1094028cf": {
          "model_module": "@jupyter-widgets/base",
          "model_name": "LayoutModel",
          "state": {
            "_view_name": "LayoutView",
            "grid_template_rows": null,
            "right": null,
            "justify_content": null,
            "_view_module": "@jupyter-widgets/base",
            "overflow": null,
            "_model_module_version": "1.2.0",
            "_view_count": null,
            "flex_flow": null,
            "width": null,
            "min_width": null,
            "border": null,
            "align_items": null,
            "bottom": null,
            "_model_module": "@jupyter-widgets/base",
            "top": null,
            "grid_column": null,
            "overflow_y": null,
            "overflow_x": null,
            "grid_auto_flow": null,
            "grid_area": null,
            "grid_template_columns": null,
            "flex": null,
            "_model_name": "LayoutModel",
            "justify_items": null,
            "grid_row": null,
            "max_height": null,
            "align_content": null,
            "visibility": null,
            "align_self": null,
            "height": null,
            "min_height": null,
            "padding": null,
            "grid_auto_rows": null,
            "grid_gap": null,
            "max_width": null,
            "order": null,
            "_view_module_version": "1.2.0",
            "grid_template_areas": null,
            "object_position": null,
            "object_fit": null,
            "grid_auto_columns": null,
            "margin": null,
            "display": null,
            "left": null
          }
        },
        "ccd0494bfe6348ce8d31f00b9016785b": {
          "model_module": "@jupyter-widgets/base",
          "model_name": "LayoutModel",
          "state": {
            "_view_name": "LayoutView",
            "grid_template_rows": null,
            "right": null,
            "justify_content": null,
            "_view_module": "@jupyter-widgets/base",
            "overflow": null,
            "_model_module_version": "1.2.0",
            "_view_count": null,
            "flex_flow": null,
            "width": null,
            "min_width": null,
            "border": null,
            "align_items": null,
            "bottom": null,
            "_model_module": "@jupyter-widgets/base",
            "top": null,
            "grid_column": null,
            "overflow_y": null,
            "overflow_x": null,
            "grid_auto_flow": null,
            "grid_area": null,
            "grid_template_columns": null,
            "flex": null,
            "_model_name": "LayoutModel",
            "justify_items": null,
            "grid_row": null,
            "max_height": null,
            "align_content": null,
            "visibility": null,
            "align_self": null,
            "height": null,
            "min_height": null,
            "padding": null,
            "grid_auto_rows": null,
            "grid_gap": null,
            "max_width": null,
            "order": null,
            "_view_module_version": "1.2.0",
            "grid_template_areas": null,
            "object_position": null,
            "object_fit": null,
            "grid_auto_columns": null,
            "margin": null,
            "display": null,
            "left": null
          }
        }
      }
    }
  },
  "cells": [
    {
      "cell_type": "markdown",
      "metadata": {
        "id": "view-in-github",
        "colab_type": "text"
      },
      "source": [
        "<a href=\"https://colab.research.google.com/github/gabrielborja/python_data_analysis/blob/main/ecuador_analytics.ipynb\" target=\"_parent\"><img src=\"https://colab.research.google.com/assets/colab-badge.svg\" alt=\"Open In Colab\"/></a>"
      ]
    },
    {
      "cell_type": "markdown",
      "metadata": {
        "id": "eTZwpRZNRhGY"
      },
      "source": [
        "#Ecuador Volcanoes Analysis"
      ]
    },
    {
      "cell_type": "markdown",
      "metadata": {
        "id": "urSYFOWesvzU"
      },
      "source": [
        "Ecuador is located at the center of the world, and is aslo known as the land of volcanoes. Data about Ecuador volcanoes can be found [here](https://en.wikipedia.org/wiki/List_of_volcanoes_in_Ecuador)"
      ]
    },
    {
      "cell_type": "markdown",
      "metadata": {
        "id": "sgzkv1LwjLIL"
      },
      "source": [
        "## Uploading packages and data"
      ]
    },
    {
      "cell_type": "code",
      "metadata": {
        "id": "Hd_BQNhNCUYa"
      },
      "source": [
        "#!pip freeze"
      ],
      "execution_count": null,
      "outputs": []
    },
    {
      "cell_type": "code",
      "metadata": {
        "id": "RHzc7K6UJDvR"
      },
      "source": [
        "#Importing data manipulation packages\n",
        "import numpy as np\n",
        "import pandas as pd"
      ],
      "execution_count": 1,
      "outputs": []
    },
    {
      "cell_type": "markdown",
      "metadata": {
        "id": "Qd76FNGixVGx"
      },
      "source": [
        "##Retrieving data from URL"
      ]
    },
    {
      "cell_type": "code",
      "metadata": {
        "id": "6f2skNFkus3e"
      },
      "source": [
        "#Parsing tables from URL\n",
        "ecu_tables = pd.read_html('https://en.wikipedia.org/wiki/List_of_volcanoes_in_Ecuador',\n",
        "                           attrs = {'class': 'wikitable sortable'})"
      ],
      "execution_count": 2,
      "outputs": []
    },
    {
      "cell_type": "code",
      "metadata": {
        "colab": {
          "base_uri": "https://localhost:8080/",
          "height": 205
        },
        "id": "c0KeL7b1vz6l",
        "outputId": "56f5a573-9e2e-4f7c-8c5b-3da889fcb6f0"
      },
      "source": [
        "#Saving table 1 to dataframe for mainland volcanoes\n",
        "ecu_main = ecu_tables[0]\n",
        "ecu_main.tail()"
      ],
      "execution_count": 3,
      "outputs": [
        {
          "output_type": "execute_result",
          "data": {
            "text/html": [
              "<div>\n",
              "<style scoped>\n",
              "    .dataframe tbody tr th:only-of-type {\n",
              "        vertical-align: middle;\n",
              "    }\n",
              "\n",
              "    .dataframe tbody tr th {\n",
              "        vertical-align: top;\n",
              "    }\n",
              "\n",
              "    .dataframe thead th {\n",
              "        text-align: right;\n",
              "    }\n",
              "</style>\n",
              "<table border=\"1\" class=\"dataframe\">\n",
              "  <thead>\n",
              "    <tr style=\"text-align: right;\">\n",
              "      <th></th>\n",
              "      <th>Name</th>\n",
              "      <th>Meters</th>\n",
              "      <th>Feet</th>\n",
              "      <th>Coordinates</th>\n",
              "      <th>Last Eruption</th>\n",
              "    </tr>\n",
              "  </thead>\n",
              "  <tbody>\n",
              "    <tr>\n",
              "      <th>28</th>\n",
              "      <td>Soche</td>\n",
              "      <td>3955</td>\n",
              "      <td>12972</td>\n",
              "      <td>0°33′07″N 77°34′48″W﻿ / ﻿0.552°N 77.580°W</td>\n",
              "      <td>-</td>\n",
              "    </tr>\n",
              "    <tr>\n",
              "      <th>29</th>\n",
              "      <td>Sumaco</td>\n",
              "      <td>3990</td>\n",
              "      <td>13087</td>\n",
              "      <td>0°32′S 77°37′W﻿ / ﻿0.53°S 77.62°W</td>\n",
              "      <td>1933</td>\n",
              "    </tr>\n",
              "    <tr>\n",
              "      <th>30</th>\n",
              "      <td>Tulabug</td>\n",
              "      <td>3336</td>\n",
              "      <td>10942</td>\n",
              "      <td>1°46′48″S 78°36′47″W﻿ / ﻿1.78°S 78.613°W</td>\n",
              "      <td>Holocene</td>\n",
              "    </tr>\n",
              "    <tr>\n",
              "      <th>31</th>\n",
              "      <td>Tungurahua</td>\n",
              "      <td>5023</td>\n",
              "      <td>16475</td>\n",
              "      <td>1°28′01″S 78°26′31″W﻿ / ﻿1.467°S 78.442°W</td>\n",
              "      <td>2016</td>\n",
              "    </tr>\n",
              "    <tr>\n",
              "      <th>32</th>\n",
              "      <td>Yanaurcu</td>\n",
              "      <td>4535</td>\n",
              "      <td>14879</td>\n",
              "      <td>0°29′55″N 78°20′02″W﻿ / ﻿0.49849°N 78.33389°W</td>\n",
              "      <td>60,600 ± 20,000 years ago</td>\n",
              "    </tr>\n",
              "  </tbody>\n",
              "</table>\n",
              "</div>"
            ],
            "text/plain": [
              "          Name  ...              Last Eruption\n",
              "28       Soche  ...                          -\n",
              "29      Sumaco  ...                       1933\n",
              "30     Tulabug  ...                   Holocene\n",
              "31  Tungurahua  ...                       2016\n",
              "32    Yanaurcu  ...  60,600 ± 20,000 years ago\n",
              "\n",
              "[5 rows x 5 columns]"
            ]
          },
          "metadata": {
            "tags": []
          },
          "execution_count": 3
        }
      ]
    },
    {
      "cell_type": "code",
      "metadata": {
        "colab": {
          "base_uri": "https://localhost:8080/",
          "height": 205
        },
        "id": "IbJ_ozwIxcr1",
        "outputId": "c1dc689e-9746-4856-b354-ebf432345175"
      },
      "source": [
        "#Saving table 2 to dataframe for galapagos volcanoes\n",
        "ecu_galap = ecu_tables[1]\n",
        "ecu_galap.tail()"
      ],
      "execution_count": 4,
      "outputs": [
        {
          "output_type": "execute_result",
          "data": {
            "text/html": [
              "<div>\n",
              "<style scoped>\n",
              "    .dataframe tbody tr th:only-of-type {\n",
              "        vertical-align: middle;\n",
              "    }\n",
              "\n",
              "    .dataframe tbody tr th {\n",
              "        vertical-align: top;\n",
              "    }\n",
              "\n",
              "    .dataframe thead th {\n",
              "        text-align: right;\n",
              "    }\n",
              "</style>\n",
              "<table border=\"1\" class=\"dataframe\">\n",
              "  <thead>\n",
              "    <tr style=\"text-align: right;\">\n",
              "      <th></th>\n",
              "      <th>Name</th>\n",
              "      <th>Meters</th>\n",
              "      <th>Feet</th>\n",
              "      <th>Coordinates</th>\n",
              "      <th>Last Eruption</th>\n",
              "    </tr>\n",
              "  </thead>\n",
              "  <tbody>\n",
              "    <tr>\n",
              "      <th>10</th>\n",
              "      <td>San Cristóbal</td>\n",
              "      <td>759</td>\n",
              "      <td>2490</td>\n",
              "      <td>0°53′S 89°30′W﻿ / ﻿0.88°S 89.50°W</td>\n",
              "      <td>-</td>\n",
              "    </tr>\n",
              "    <tr>\n",
              "      <th>11</th>\n",
              "      <td>Santa Cruz</td>\n",
              "      <td>964</td>\n",
              "      <td>2834</td>\n",
              "      <td>0°37′S 90°20′W﻿ / ﻿0.62°S 90.33°W</td>\n",
              "      <td>-</td>\n",
              "    </tr>\n",
              "    <tr>\n",
              "      <th>12</th>\n",
              "      <td>Santiago</td>\n",
              "      <td>920</td>\n",
              "      <td>3018</td>\n",
              "      <td>0°13′S 90°46′W﻿ / ﻿0.22°S 90.77°W</td>\n",
              "      <td>1906</td>\n",
              "    </tr>\n",
              "    <tr>\n",
              "      <th>13</th>\n",
              "      <td>Sierra Negra</td>\n",
              "      <td>1124</td>\n",
              "      <td>3687</td>\n",
              "      <td>0°50′S 91°10′W﻿ / ﻿0.83°S 91.17°W</td>\n",
              "      <td>2018</td>\n",
              "    </tr>\n",
              "    <tr>\n",
              "      <th>14</th>\n",
              "      <td>Wolf</td>\n",
              "      <td>1710</td>\n",
              "      <td>5609</td>\n",
              "      <td>0°01′N 91°21′W﻿ / ﻿0.02°N 91.35°W</td>\n",
              "      <td>2015</td>\n",
              "    </tr>\n",
              "  </tbody>\n",
              "</table>\n",
              "</div>"
            ],
            "text/plain": [
              "             Name  Meters  ...                        Coordinates Last Eruption\n",
              "10  San Cristóbal     759  ...  0°53′S 89°30′W﻿ / ﻿0.88°S 89.50°W             -\n",
              "11     Santa Cruz     964  ...  0°37′S 90°20′W﻿ / ﻿0.62°S 90.33°W             -\n",
              "12       Santiago     920  ...  0°13′S 90°46′W﻿ / ﻿0.22°S 90.77°W          1906\n",
              "13   Sierra Negra    1124  ...  0°50′S 91°10′W﻿ / ﻿0.83°S 91.17°W          2018\n",
              "14           Wolf    1710  ...  0°01′N 91°21′W﻿ / ﻿0.02°N 91.35°W          2015\n",
              "\n",
              "[5 rows x 5 columns]"
            ]
          },
          "metadata": {
            "tags": []
          },
          "execution_count": 4
        }
      ]
    },
    {
      "cell_type": "code",
      "metadata": {
        "id": "Zhbk6Aoqx3-V"
      },
      "source": [
        "#Creating categories for volcanoes location\n",
        "ecu_main['Category'] = 'Mainland'\n",
        "ecu_galap['Category'] = 'Galapagos'"
      ],
      "execution_count": 5,
      "outputs": []
    },
    {
      "cell_type": "code",
      "metadata": {
        "colab": {
          "base_uri": "https://localhost:8080/"
        },
        "id": "7am4T-xHyqDO",
        "outputId": "bf67fab1-1fde-49e8-ceef-bb440f2fab43"
      },
      "source": [
        "#Concatenating both dataframes\n",
        "ecu_volc = pd.concat([ecu_main, ecu_galap], ignore_index=True)\n",
        "ecu_volc.shape"
      ],
      "execution_count": 22,
      "outputs": [
        {
          "output_type": "execute_result",
          "data": {
            "text/plain": [
              "(48, 6)"
            ]
          },
          "metadata": {
            "tags": []
          },
          "execution_count": 22
        }
      ]
    },
    {
      "cell_type": "markdown",
      "metadata": {
        "id": "sNWPrf-Iz1lE"
      },
      "source": [
        "##Data Cleaning"
      ]
    },
    {
      "cell_type": "code",
      "metadata": {
        "id": "Zj8SX4TLuVpO"
      },
      "source": [
        "#Importing regular expression package\n",
        "import re"
      ],
      "execution_count": 7,
      "outputs": []
    },
    {
      "cell_type": "code",
      "metadata": {
        "colab": {
          "base_uri": "https://localhost:8080/",
          "height": 205
        },
        "id": "2VQSkn0czh9e",
        "outputId": "d94b396d-469d-4d2b-c275-0843dec32905"
      },
      "source": [
        "#Checking the dataframe head\n",
        "ecu_volc.head()"
      ],
      "execution_count": 8,
      "outputs": [
        {
          "output_type": "execute_result",
          "data": {
            "text/html": [
              "<div>\n",
              "<style scoped>\n",
              "    .dataframe tbody tr th:only-of-type {\n",
              "        vertical-align: middle;\n",
              "    }\n",
              "\n",
              "    .dataframe tbody tr th {\n",
              "        vertical-align: top;\n",
              "    }\n",
              "\n",
              "    .dataframe thead th {\n",
              "        text-align: right;\n",
              "    }\n",
              "</style>\n",
              "<table border=\"1\" class=\"dataframe\">\n",
              "  <thead>\n",
              "    <tr style=\"text-align: right;\">\n",
              "      <th></th>\n",
              "      <th>Name</th>\n",
              "      <th>Meters</th>\n",
              "      <th>Feet</th>\n",
              "      <th>Coordinates</th>\n",
              "      <th>Last Eruption</th>\n",
              "      <th>Category</th>\n",
              "    </tr>\n",
              "  </thead>\n",
              "  <tbody>\n",
              "    <tr>\n",
              "      <th>0</th>\n",
              "      <td>El Altar / Kapak Urku</td>\n",
              "      <td>5405</td>\n",
              "      <td>17730</td>\n",
              "      <td>.mw-parser-output .geo-default,.mw-parser-outp...</td>\n",
              "      <td>Unknown</td>\n",
              "      <td>Mainland</td>\n",
              "    </tr>\n",
              "    <tr>\n",
              "      <th>1</th>\n",
              "      <td>Antisana</td>\n",
              "      <td>5753</td>\n",
              "      <td>18870</td>\n",
              "      <td>0°28′52″S 78°08′24″W﻿ / ﻿0.481°S 78.14°W</td>\n",
              "      <td>1802</td>\n",
              "      <td>Mainland</td>\n",
              "    </tr>\n",
              "    <tr>\n",
              "      <th>2</th>\n",
              "      <td>Atacazo</td>\n",
              "      <td>4463</td>\n",
              "      <td>14639</td>\n",
              "      <td>0°21′11″S 78°37′01″W﻿ / ﻿0.353°S 78.617°W</td>\n",
              "      <td>-</td>\n",
              "      <td>Mainland</td>\n",
              "    </tr>\n",
              "    <tr>\n",
              "      <th>3</th>\n",
              "      <td>Carihuairazo</td>\n",
              "      <td>5018</td>\n",
              "      <td>16463</td>\n",
              "      <td>01°24′25″S 78°45′00″W﻿ / ﻿1.40694°S 78.75000°W</td>\n",
              "      <td>Unknown</td>\n",
              "      <td>Mainland</td>\n",
              "    </tr>\n",
              "    <tr>\n",
              "      <th>4</th>\n",
              "      <td>Cayambe</td>\n",
              "      <td>5790</td>\n",
              "      <td>18991</td>\n",
              "      <td>0°01′44″N 77°59′10″W﻿ / ﻿0.029°N 77.986°W</td>\n",
              "      <td>1786</td>\n",
              "      <td>Mainland</td>\n",
              "    </tr>\n",
              "  </tbody>\n",
              "</table>\n",
              "</div>"
            ],
            "text/plain": [
              "                    Name Meters  ... Last Eruption  Category\n",
              "0  El Altar / Kapak Urku   5405  ...       Unknown  Mainland\n",
              "1               Antisana   5753  ...          1802  Mainland\n",
              "2                Atacazo   4463  ...             -  Mainland\n",
              "3           Carihuairazo   5018  ...       Unknown  Mainland\n",
              "4                Cayambe   5790  ...          1786  Mainland\n",
              "\n",
              "[5 rows x 6 columns]"
            ]
          },
          "metadata": {
            "tags": []
          },
          "execution_count": 8
        }
      ]
    },
    {
      "cell_type": "code",
      "metadata": {
        "id": "bXpOptnL4iZC",
        "colab": {
          "base_uri": "https://localhost:8080/"
        },
        "outputId": "11b63f03-b3c5-4486-9858-4b37f31dd322"
      },
      "source": [
        "#Replacing preliminary missing/incorrect values\n",
        "ecu_volc['Name'][0] = 'El Altar'\n",
        "ecu_volc['Coordinates'][0] = '1.68°S 78.42°W / 1.68°S 78.42°W' #==> El Altar\n",
        "ecu_volc['Meters'][12] = 3719 #==> Cusin\n",
        "ecu_volc['Meters'][17] = 4453 #==> Ninahuilca\n",
        "ecu_volc['Last Eruption'][17] = '2300 AD'\n",
        "ecu_volc['Coordinates'][17] = '0.3535°S 78.617°W / 0.3535°S 78.617°W' #==> Ninahuilca\n",
        "ecu_volc['Meters'][21] = 4453 #==> Pilavo\n",
        "ecu_volc['Coordinates'][21] = '0.53°N 78.37°W / 0.53°N 78.37°W' #==> Pilavo\n",
        "ecu_volc = ecu_volc.drop(39).reset_index(drop=True) #==> Galapagos Rift -2430\n",
        "ecu_volc.shape"
      ],
      "execution_count": 23,
      "outputs": [
        {
          "output_type": "execute_result",
          "data": {
            "text/plain": [
              "(47, 6)"
            ]
          },
          "metadata": {
            "tags": []
          },
          "execution_count": 23
        }
      ]
    },
    {
      "cell_type": "code",
      "metadata": {
        "id": "FbwObFwmEKwm"
      },
      "source": [
        "#Calculating missing values from Feet column\n",
        "ecu_volc['Feet'] = ecu_volc['Feet'].replace(to_replace='-', value=np.nan)\n",
        "ecu_volc = ecu_volc.assign(Feet = np.where(ecu_volc['Feet'].isin([np.nan]), ecu_volc['Meters'].astype(int)*3.28, ecu_volc['Feet']))"
      ],
      "execution_count": 24,
      "outputs": []
    },
    {
      "cell_type": "code",
      "metadata": {
        "colab": {
          "base_uri": "https://localhost:8080/",
          "height": 205
        },
        "id": "dO0Mg3RT4Oeo",
        "outputId": "8a5978ca-4baa-4291-c639-1685f54b18df"
      },
      "source": [
        "#Extracting coordinates into separate list of lists\n",
        "\n",
        "def split_coord(x):\n",
        "  try:\n",
        "    val = str(x.split('/')[1].strip()).replace('\\ufeff', '')\n",
        "    return re.split('[\\° ]', val)\n",
        "  except AttributeError:\n",
        "    return ['NA', 'NA' 'NA', 'NA']\n",
        "\n",
        "ecu_volc = ecu_volc.assign(String_coord = ecu_volc['Coordinates'].apply(split_coord))\n",
        "ecu_volc.head()"
      ],
      "execution_count": 25,
      "outputs": [
        {
          "output_type": "execute_result",
          "data": {
            "text/html": [
              "<div>\n",
              "<style scoped>\n",
              "    .dataframe tbody tr th:only-of-type {\n",
              "        vertical-align: middle;\n",
              "    }\n",
              "\n",
              "    .dataframe tbody tr th {\n",
              "        vertical-align: top;\n",
              "    }\n",
              "\n",
              "    .dataframe thead th {\n",
              "        text-align: right;\n",
              "    }\n",
              "</style>\n",
              "<table border=\"1\" class=\"dataframe\">\n",
              "  <thead>\n",
              "    <tr style=\"text-align: right;\">\n",
              "      <th></th>\n",
              "      <th>Name</th>\n",
              "      <th>Meters</th>\n",
              "      <th>Feet</th>\n",
              "      <th>Coordinates</th>\n",
              "      <th>Last Eruption</th>\n",
              "      <th>Category</th>\n",
              "      <th>String_coord</th>\n",
              "    </tr>\n",
              "  </thead>\n",
              "  <tbody>\n",
              "    <tr>\n",
              "      <th>0</th>\n",
              "      <td>El Altar</td>\n",
              "      <td>5405</td>\n",
              "      <td>17730</td>\n",
              "      <td>1.68°S 78.42°W / 1.68°S 78.42°W</td>\n",
              "      <td>Unknown</td>\n",
              "      <td>Mainland</td>\n",
              "      <td>[1.68, S, 78.42, W]</td>\n",
              "    </tr>\n",
              "    <tr>\n",
              "      <th>1</th>\n",
              "      <td>Antisana</td>\n",
              "      <td>5753</td>\n",
              "      <td>18870</td>\n",
              "      <td>0°28′52″S 78°08′24″W﻿ / ﻿0.481°S 78.14°W</td>\n",
              "      <td>1802</td>\n",
              "      <td>Mainland</td>\n",
              "      <td>[0.481, S, 78.14, W]</td>\n",
              "    </tr>\n",
              "    <tr>\n",
              "      <th>2</th>\n",
              "      <td>Atacazo</td>\n",
              "      <td>4463</td>\n",
              "      <td>14639</td>\n",
              "      <td>0°21′11″S 78°37′01″W﻿ / ﻿0.353°S 78.617°W</td>\n",
              "      <td>-</td>\n",
              "      <td>Mainland</td>\n",
              "      <td>[0.353, S, 78.617, W]</td>\n",
              "    </tr>\n",
              "    <tr>\n",
              "      <th>3</th>\n",
              "      <td>Carihuairazo</td>\n",
              "      <td>5018</td>\n",
              "      <td>16463</td>\n",
              "      <td>01°24′25″S 78°45′00″W﻿ / ﻿1.40694°S 78.75000°W</td>\n",
              "      <td>Unknown</td>\n",
              "      <td>Mainland</td>\n",
              "      <td>[1.40694, S, 78.75000, W]</td>\n",
              "    </tr>\n",
              "    <tr>\n",
              "      <th>4</th>\n",
              "      <td>Cayambe</td>\n",
              "      <td>5790</td>\n",
              "      <td>18991</td>\n",
              "      <td>0°01′44″N 77°59′10″W﻿ / ﻿0.029°N 77.986°W</td>\n",
              "      <td>1786</td>\n",
              "      <td>Mainland</td>\n",
              "      <td>[0.029, N, 77.986, W]</td>\n",
              "    </tr>\n",
              "  </tbody>\n",
              "</table>\n",
              "</div>"
            ],
            "text/plain": [
              "           Name Meters  ...  Category               String_coord\n",
              "0      El Altar   5405  ...  Mainland        [1.68, S, 78.42, W]\n",
              "1      Antisana   5753  ...  Mainland       [0.481, S, 78.14, W]\n",
              "2       Atacazo   4463  ...  Mainland      [0.353, S, 78.617, W]\n",
              "3  Carihuairazo   5018  ...  Mainland  [1.40694, S, 78.75000, W]\n",
              "4       Cayambe   5790  ...  Mainland      [0.029, N, 77.986, W]\n",
              "\n",
              "[5 rows x 7 columns]"
            ]
          },
          "metadata": {
            "tags": []
          },
          "execution_count": 25
        }
      ]
    },
    {
      "cell_type": "code",
      "metadata": {
        "colab": {
          "base_uri": "https://localhost:8080/",
          "height": 205
        },
        "id": "zPGOLYU_zQwm",
        "outputId": "9662904c-99ae-40f6-956e-e3fef67cbdcd"
      },
      "source": [
        "#Splitting list of lists into columns for latitude and longitude\n",
        "ecu_volc = ecu_volc.assign(Lat = [i[0] for i in ecu_volc['String_coord']],\n",
        "                           Lat_char = [i[1] for i in ecu_volc['String_coord']],\n",
        "                           Lon = [i[2] for i in ecu_volc['String_coord']],\n",
        "                           Lon_char = [i[3] for i in ecu_volc['String_coord']])\n",
        "ecu_volc.head()"
      ],
      "execution_count": 26,
      "outputs": [
        {
          "output_type": "execute_result",
          "data": {
            "text/html": [
              "<div>\n",
              "<style scoped>\n",
              "    .dataframe tbody tr th:only-of-type {\n",
              "        vertical-align: middle;\n",
              "    }\n",
              "\n",
              "    .dataframe tbody tr th {\n",
              "        vertical-align: top;\n",
              "    }\n",
              "\n",
              "    .dataframe thead th {\n",
              "        text-align: right;\n",
              "    }\n",
              "</style>\n",
              "<table border=\"1\" class=\"dataframe\">\n",
              "  <thead>\n",
              "    <tr style=\"text-align: right;\">\n",
              "      <th></th>\n",
              "      <th>Name</th>\n",
              "      <th>Meters</th>\n",
              "      <th>Feet</th>\n",
              "      <th>Coordinates</th>\n",
              "      <th>Last Eruption</th>\n",
              "      <th>Category</th>\n",
              "      <th>String_coord</th>\n",
              "      <th>Lat</th>\n",
              "      <th>Lat_char</th>\n",
              "      <th>Lon</th>\n",
              "      <th>Lon_char</th>\n",
              "    </tr>\n",
              "  </thead>\n",
              "  <tbody>\n",
              "    <tr>\n",
              "      <th>0</th>\n",
              "      <td>El Altar</td>\n",
              "      <td>5405</td>\n",
              "      <td>17730</td>\n",
              "      <td>1.68°S 78.42°W / 1.68°S 78.42°W</td>\n",
              "      <td>Unknown</td>\n",
              "      <td>Mainland</td>\n",
              "      <td>[1.68, S, 78.42, W]</td>\n",
              "      <td>1.68</td>\n",
              "      <td>S</td>\n",
              "      <td>78.42</td>\n",
              "      <td>W</td>\n",
              "    </tr>\n",
              "    <tr>\n",
              "      <th>1</th>\n",
              "      <td>Antisana</td>\n",
              "      <td>5753</td>\n",
              "      <td>18870</td>\n",
              "      <td>0°28′52″S 78°08′24″W﻿ / ﻿0.481°S 78.14°W</td>\n",
              "      <td>1802</td>\n",
              "      <td>Mainland</td>\n",
              "      <td>[0.481, S, 78.14, W]</td>\n",
              "      <td>0.481</td>\n",
              "      <td>S</td>\n",
              "      <td>78.14</td>\n",
              "      <td>W</td>\n",
              "    </tr>\n",
              "    <tr>\n",
              "      <th>2</th>\n",
              "      <td>Atacazo</td>\n",
              "      <td>4463</td>\n",
              "      <td>14639</td>\n",
              "      <td>0°21′11″S 78°37′01″W﻿ / ﻿0.353°S 78.617°W</td>\n",
              "      <td>-</td>\n",
              "      <td>Mainland</td>\n",
              "      <td>[0.353, S, 78.617, W]</td>\n",
              "      <td>0.353</td>\n",
              "      <td>S</td>\n",
              "      <td>78.617</td>\n",
              "      <td>W</td>\n",
              "    </tr>\n",
              "    <tr>\n",
              "      <th>3</th>\n",
              "      <td>Carihuairazo</td>\n",
              "      <td>5018</td>\n",
              "      <td>16463</td>\n",
              "      <td>01°24′25″S 78°45′00″W﻿ / ﻿1.40694°S 78.75000°W</td>\n",
              "      <td>Unknown</td>\n",
              "      <td>Mainland</td>\n",
              "      <td>[1.40694, S, 78.75000, W]</td>\n",
              "      <td>1.40694</td>\n",
              "      <td>S</td>\n",
              "      <td>78.75000</td>\n",
              "      <td>W</td>\n",
              "    </tr>\n",
              "    <tr>\n",
              "      <th>4</th>\n",
              "      <td>Cayambe</td>\n",
              "      <td>5790</td>\n",
              "      <td>18991</td>\n",
              "      <td>0°01′44″N 77°59′10″W﻿ / ﻿0.029°N 77.986°W</td>\n",
              "      <td>1786</td>\n",
              "      <td>Mainland</td>\n",
              "      <td>[0.029, N, 77.986, W]</td>\n",
              "      <td>0.029</td>\n",
              "      <td>N</td>\n",
              "      <td>77.986</td>\n",
              "      <td>W</td>\n",
              "    </tr>\n",
              "  </tbody>\n",
              "</table>\n",
              "</div>"
            ],
            "text/plain": [
              "           Name Meters   Feet  ... Lat_char       Lon Lon_char\n",
              "0      El Altar   5405  17730  ...        S     78.42        W\n",
              "1      Antisana   5753  18870  ...        S     78.14        W\n",
              "2       Atacazo   4463  14639  ...        S    78.617        W\n",
              "3  Carihuairazo   5018  16463  ...        S  78.75000        W\n",
              "4       Cayambe   5790  18991  ...        N    77.986        W\n",
              "\n",
              "[5 rows x 11 columns]"
            ]
          },
          "metadata": {
            "tags": []
          },
          "execution_count": 26
        }
      ]
    },
    {
      "cell_type": "code",
      "metadata": {
        "colab": {
          "base_uri": "https://localhost:8080/",
          "height": 205
        },
        "id": "jSF1_1lC4ZKQ",
        "outputId": "795bce2e-6670-4912-f890-e22041e7a1c4"
      },
      "source": [
        "#Assigning negative values to latitude and longitude (If 'S' or 'W' = negative coordinate)\n",
        "ecu_volc = ecu_volc.assign(Lat = np.where(ecu_volc['Lat_char'].isin(['S']), ecu_volc['Lat'].astype(float)*-1, ecu_volc['Lat'].astype(float)),\n",
        "                           Lon = np.where(ecu_volc['Lon_char'].isin(['W']), ecu_volc['Lon'].astype(float)*-1, ecu_volc['Lat'].astype(float)))\n",
        "ecu_volc.head()"
      ],
      "execution_count": 27,
      "outputs": [
        {
          "output_type": "execute_result",
          "data": {
            "text/html": [
              "<div>\n",
              "<style scoped>\n",
              "    .dataframe tbody tr th:only-of-type {\n",
              "        vertical-align: middle;\n",
              "    }\n",
              "\n",
              "    .dataframe tbody tr th {\n",
              "        vertical-align: top;\n",
              "    }\n",
              "\n",
              "    .dataframe thead th {\n",
              "        text-align: right;\n",
              "    }\n",
              "</style>\n",
              "<table border=\"1\" class=\"dataframe\">\n",
              "  <thead>\n",
              "    <tr style=\"text-align: right;\">\n",
              "      <th></th>\n",
              "      <th>Name</th>\n",
              "      <th>Meters</th>\n",
              "      <th>Feet</th>\n",
              "      <th>Coordinates</th>\n",
              "      <th>Last Eruption</th>\n",
              "      <th>Category</th>\n",
              "      <th>String_coord</th>\n",
              "      <th>Lat</th>\n",
              "      <th>Lat_char</th>\n",
              "      <th>Lon</th>\n",
              "      <th>Lon_char</th>\n",
              "    </tr>\n",
              "  </thead>\n",
              "  <tbody>\n",
              "    <tr>\n",
              "      <th>0</th>\n",
              "      <td>El Altar</td>\n",
              "      <td>5405</td>\n",
              "      <td>17730</td>\n",
              "      <td>1.68°S 78.42°W / 1.68°S 78.42°W</td>\n",
              "      <td>Unknown</td>\n",
              "      <td>Mainland</td>\n",
              "      <td>[1.68, S, 78.42, W]</td>\n",
              "      <td>-1.68000</td>\n",
              "      <td>S</td>\n",
              "      <td>-78.420</td>\n",
              "      <td>W</td>\n",
              "    </tr>\n",
              "    <tr>\n",
              "      <th>1</th>\n",
              "      <td>Antisana</td>\n",
              "      <td>5753</td>\n",
              "      <td>18870</td>\n",
              "      <td>0°28′52″S 78°08′24″W﻿ / ﻿0.481°S 78.14°W</td>\n",
              "      <td>1802</td>\n",
              "      <td>Mainland</td>\n",
              "      <td>[0.481, S, 78.14, W]</td>\n",
              "      <td>-0.48100</td>\n",
              "      <td>S</td>\n",
              "      <td>-78.140</td>\n",
              "      <td>W</td>\n",
              "    </tr>\n",
              "    <tr>\n",
              "      <th>2</th>\n",
              "      <td>Atacazo</td>\n",
              "      <td>4463</td>\n",
              "      <td>14639</td>\n",
              "      <td>0°21′11″S 78°37′01″W﻿ / ﻿0.353°S 78.617°W</td>\n",
              "      <td>-</td>\n",
              "      <td>Mainland</td>\n",
              "      <td>[0.353, S, 78.617, W]</td>\n",
              "      <td>-0.35300</td>\n",
              "      <td>S</td>\n",
              "      <td>-78.617</td>\n",
              "      <td>W</td>\n",
              "    </tr>\n",
              "    <tr>\n",
              "      <th>3</th>\n",
              "      <td>Carihuairazo</td>\n",
              "      <td>5018</td>\n",
              "      <td>16463</td>\n",
              "      <td>01°24′25″S 78°45′00″W﻿ / ﻿1.40694°S 78.75000°W</td>\n",
              "      <td>Unknown</td>\n",
              "      <td>Mainland</td>\n",
              "      <td>[1.40694, S, 78.75000, W]</td>\n",
              "      <td>-1.40694</td>\n",
              "      <td>S</td>\n",
              "      <td>-78.750</td>\n",
              "      <td>W</td>\n",
              "    </tr>\n",
              "    <tr>\n",
              "      <th>4</th>\n",
              "      <td>Cayambe</td>\n",
              "      <td>5790</td>\n",
              "      <td>18991</td>\n",
              "      <td>0°01′44″N 77°59′10″W﻿ / ﻿0.029°N 77.986°W</td>\n",
              "      <td>1786</td>\n",
              "      <td>Mainland</td>\n",
              "      <td>[0.029, N, 77.986, W]</td>\n",
              "      <td>0.02900</td>\n",
              "      <td>N</td>\n",
              "      <td>-77.986</td>\n",
              "      <td>W</td>\n",
              "    </tr>\n",
              "  </tbody>\n",
              "</table>\n",
              "</div>"
            ],
            "text/plain": [
              "           Name Meters   Feet  ... Lat_char     Lon Lon_char\n",
              "0      El Altar   5405  17730  ...        S -78.420        W\n",
              "1      Antisana   5753  18870  ...        S -78.140        W\n",
              "2       Atacazo   4463  14639  ...        S -78.617        W\n",
              "3  Carihuairazo   5018  16463  ...        S -78.750        W\n",
              "4       Cayambe   5790  18991  ...        N -77.986        W\n",
              "\n",
              "[5 rows x 11 columns]"
            ]
          },
          "metadata": {
            "tags": []
          },
          "execution_count": 27
        }
      ]
    },
    {
      "cell_type": "code",
      "metadata": {
        "colab": {
          "base_uri": "https://localhost:8080/"
        },
        "id": "_NnMMKhC7KmQ",
        "outputId": "3a323899-3c2b-4fc0-f765-ed94e814ad70"
      },
      "source": [
        "#print([(a, b) for a, b in zip(ecu_volc['Lon'], ecu_volc['Lon_char'])])"
      ],
      "execution_count": 29,
      "outputs": [
        {
          "output_type": "stream",
          "text": [
            "[(-78.42, 'W'), (-78.14, 'W'), (-78.617, 'W'), (-78.75, 'W'), (-77.986, 'W'), (-78.25, 'W'), (-77.95083, 'W'), (-78.8175, 'W'), (-77.72, 'W'), (-78.34917, 'W'), (-78.436, 'W'), (-78.36389, 'W'), (-78.14, 'W'), (-78.714, 'W'), (-78.18, 'W'), (-78.613, 'W'), (-78.27, 'W'), (-78.617, 'W'), (-77.72, 'W'), (-78.48, 'W'), (-78.598, 'W'), (-78.37, 'W'), (-78.463, 'W'), (-78.9, 'W'), (-77.65, 'W'), (-78.53333, 'W'), (-78.34, 'W'), (-78.3665806, 'W'), (-77.58, 'W'), (-77.62, 'W'), (-78.613, 'W'), (-78.442, 'W'), (-78.33389, 'W'), (-91.12, 'W'), (-91.42, 'W'), (-91.28, 'W'), (-91.546, 'W'), (-91.55, 'W'), (-90.45, 'W'), (-89.958, 'W'), (-90.47, 'W'), (-90.75, 'W'), (-89.5, 'W'), (-90.33, 'W'), (-90.77, 'W'), (-91.17, 'W'), (-91.35, 'W')]\n"
          ],
          "name": "stdout"
        }
      ]
    },
    {
      "cell_type": "code",
      "metadata": {
        "colab": {
          "base_uri": "https://localhost:8080/"
        },
        "id": "xh2Rw5h89W1O",
        "outputId": "b4601976-6efe-47f8-8392-e6bbf4c21c5e"
      },
      "source": [
        "#Checking for missing values in the dataframe\n",
        "ecu_volc.isna().sum()"
      ],
      "execution_count": 30,
      "outputs": [
        {
          "output_type": "execute_result",
          "data": {
            "text/plain": [
              "Name             0\n",
              "Meters           0\n",
              "Feet             0\n",
              "Coordinates      0\n",
              "Last Eruption    0\n",
              "Category         0\n",
              "String_coord     0\n",
              "Lat              0\n",
              "Lat_char         0\n",
              "Lon              0\n",
              "Lon_char         0\n",
              "dtype: int64"
            ]
          },
          "metadata": {
            "tags": []
          },
          "execution_count": 30
        }
      ]
    },
    {
      "cell_type": "code",
      "metadata": {
        "colab": {
          "base_uri": "https://localhost:8080/",
          "height": 17
        },
        "id": "nreoycEFKnYz",
        "outputId": "2063393a-b91d-4247-e140-bae2994976dc"
      },
      "source": [
        "#Exporting to csv in local disk\n",
        "from google.colab import files\n",
        "ecu_volc.to_csv('volcanoes_ecuador.csv', index=False) #==> Excluding index from file\n",
        "files.download('volcanoes_ecuador.csv')"
      ],
      "execution_count": 32,
      "outputs": [
        {
          "output_type": "display_data",
          "data": {
            "application/javascript": [
              "\n",
              "    async function download(id, filename, size) {\n",
              "      if (!google.colab.kernel.accessAllowed) {\n",
              "        return;\n",
              "      }\n",
              "      const div = document.createElement('div');\n",
              "      const label = document.createElement('label');\n",
              "      label.textContent = `Downloading \"${filename}\": `;\n",
              "      div.appendChild(label);\n",
              "      const progress = document.createElement('progress');\n",
              "      progress.max = size;\n",
              "      div.appendChild(progress);\n",
              "      document.body.appendChild(div);\n",
              "\n",
              "      const buffers = [];\n",
              "      let downloaded = 0;\n",
              "\n",
              "      const channel = await google.colab.kernel.comms.open(id);\n",
              "      // Send a message to notify the kernel that we're ready.\n",
              "      channel.send({})\n",
              "\n",
              "      for await (const message of channel.messages) {\n",
              "        // Send a message to notify the kernel that we're ready.\n",
              "        channel.send({})\n",
              "        if (message.buffers) {\n",
              "          for (const buffer of message.buffers) {\n",
              "            buffers.push(buffer);\n",
              "            downloaded += buffer.byteLength;\n",
              "            progress.value = downloaded;\n",
              "          }\n",
              "        }\n",
              "      }\n",
              "      const blob = new Blob(buffers, {type: 'application/binary'});\n",
              "      const a = document.createElement('a');\n",
              "      a.href = window.URL.createObjectURL(blob);\n",
              "      a.download = filename;\n",
              "      div.appendChild(a);\n",
              "      a.click();\n",
              "      div.remove();\n",
              "    }\n",
              "  "
            ],
            "text/plain": [
              "<IPython.core.display.Javascript object>"
            ]
          },
          "metadata": {
            "tags": []
          }
        },
        {
          "output_type": "display_data",
          "data": {
            "application/javascript": [
              "download(\"download_899af4bf-edb8-417b-aed2-e0664ffbc574\", \"volcanoes_ecuador.csv\", 6675)"
            ],
            "text/plain": [
              "<IPython.core.display.Javascript object>"
            ]
          },
          "metadata": {
            "tags": []
          }
        }
      ]
    },
    {
      "cell_type": "markdown",
      "metadata": {
        "id": "86JGwllYLJLi"
      },
      "source": [
        "##Data Visualization"
      ]
    },
    {
      "cell_type": "code",
      "metadata": {
        "id": "bu4lvg_jfZn-"
      },
      "source": [
        "#Importing necessary packages\n",
        "import numpy as np\n",
        "import pandas as pd\n",
        "import matplotlib.pyplot as plt\n",
        "from ipywidgets import interact\n",
        "import plotly.express as px\n",
        "import plotly.graph_objects as go"
      ],
      "execution_count": 33,
      "outputs": []
    },
    {
      "cell_type": "code",
      "metadata": {
        "id": "nW8udlvZQXEF"
      },
      "source": [
        "#Remove previous versions of the uploaded file\n",
        "!rm volcanoes_ecuador.csv"
      ],
      "execution_count": null,
      "outputs": []
    },
    {
      "cell_type": "code",
      "metadata": {
        "id": "6b8UDhHDQXYn",
        "colab": {
          "resources": {
            "http://localhost:8080/nbextensions/google.colab/files.js": {
              "data": "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",
              "ok": true,
              "headers": [
                [
                  "content-type",
                  "application/javascript"
                ]
              ],
              "status": 200,
              "status_text": ""
            }
          },
          "base_uri": "https://localhost:8080/",
          "height": 73
        },
        "outputId": "eb8032ba-4f7c-4004-c074-ecbfd211124b"
      },
      "source": [
        "#Uploading file from local drive\n",
        "from google.colab import files\n",
        "uploaded1 = files.upload()"
      ],
      "execution_count": 47,
      "outputs": [
        {
          "output_type": "display_data",
          "data": {
            "text/html": [
              "\n",
              "     <input type=\"file\" id=\"files-9a908529-e4bb-4634-83de-9d02ff405ecc\" name=\"files[]\" multiple disabled\n",
              "        style=\"border:none\" />\n",
              "     <output id=\"result-9a908529-e4bb-4634-83de-9d02ff405ecc\">\n",
              "      Upload widget is only available when the cell has been executed in the\n",
              "      current browser session. Please rerun this cell to enable.\n",
              "      </output>\n",
              "      <script src=\"/nbextensions/google.colab/files.js\"></script> "
            ],
            "text/plain": [
              "<IPython.core.display.HTML object>"
            ]
          },
          "metadata": {
            "tags": []
          }
        },
        {
          "output_type": "stream",
          "text": [
            "Saving volcanoes_ecuador.csv to volcanoes_ecuador (1).csv\n"
          ],
          "name": "stdout"
        }
      ]
    },
    {
      "cell_type": "code",
      "metadata": {
        "id": "K4gXw90DQXYp"
      },
      "source": [
        "#Storing dataset in a Pandas Dataframe\n",
        "import io\n",
        "ecu_volc = pd.read_csv(io.BytesIO(uploaded1['volcanoes_ecuador.csv']))"
      ],
      "execution_count": 48,
      "outputs": []
    },
    {
      "cell_type": "code",
      "metadata": {
        "colab": {
          "base_uri": "https://localhost:8080/"
        },
        "id": "6YLNmOH7gxBv",
        "outputId": "474a0a4b-cf57-440e-c545-fdf77ec50b63"
      },
      "source": [
        "#Checking the datagrame info\n",
        "ecu_volc.info()"
      ],
      "execution_count": 49,
      "outputs": [
        {
          "output_type": "stream",
          "text": [
            "<class 'pandas.core.frame.DataFrame'>\n",
            "RangeIndex: 47 entries, 0 to 46\n",
            "Data columns (total 11 columns):\n",
            " #   Column         Non-Null Count  Dtype  \n",
            "---  ------         --------------  -----  \n",
            " 0   Name           47 non-null     object \n",
            " 1   Meters         47 non-null     int64  \n",
            " 2   Feet           47 non-null     float64\n",
            " 3   Coordinates    47 non-null     object \n",
            " 4   Last Eruption  47 non-null     object \n",
            " 5   Category       47 non-null     object \n",
            " 6   String_coord   47 non-null     object \n",
            " 7   Lat            47 non-null     float64\n",
            " 8   Lat_char       47 non-null     object \n",
            " 9   Lon            47 non-null     float64\n",
            " 10  Lon_char       47 non-null     object \n",
            "dtypes: float64(3), int64(1), object(7)\n",
            "memory usage: 4.2+ KB\n"
          ],
          "name": "stdout"
        }
      ]
    },
    {
      "cell_type": "code",
      "metadata": {
        "colab": {
          "base_uri": "https://localhost:8080/",
          "height": 205
        },
        "id": "q2vvHUTig4Mw",
        "outputId": "0304facb-0e13-471c-c23b-70ac6a278b1e"
      },
      "source": [
        "#Checking the dataframe tail\n",
        "ecu_volc.tail()"
      ],
      "execution_count": 35,
      "outputs": [
        {
          "output_type": "execute_result",
          "data": {
            "text/html": [
              "<div>\n",
              "<style scoped>\n",
              "    .dataframe tbody tr th:only-of-type {\n",
              "        vertical-align: middle;\n",
              "    }\n",
              "\n",
              "    .dataframe tbody tr th {\n",
              "        vertical-align: top;\n",
              "    }\n",
              "\n",
              "    .dataframe thead th {\n",
              "        text-align: right;\n",
              "    }\n",
              "</style>\n",
              "<table border=\"1\" class=\"dataframe\">\n",
              "  <thead>\n",
              "    <tr style=\"text-align: right;\">\n",
              "      <th></th>\n",
              "      <th>Name</th>\n",
              "      <th>Meters</th>\n",
              "      <th>Feet</th>\n",
              "      <th>Coordinates</th>\n",
              "      <th>Last Eruption</th>\n",
              "      <th>Category</th>\n",
              "      <th>String_coord</th>\n",
              "      <th>Lat</th>\n",
              "      <th>Lat_char</th>\n",
              "      <th>Lon</th>\n",
              "      <th>Lon_char</th>\n",
              "    </tr>\n",
              "  </thead>\n",
              "  <tbody>\n",
              "    <tr>\n",
              "      <th>42</th>\n",
              "      <td>San Cristóbal</td>\n",
              "      <td>759</td>\n",
              "      <td>2490</td>\n",
              "      <td>0°53′S 89°30′W﻿ / ﻿0.88°S 89.50°W</td>\n",
              "      <td>-</td>\n",
              "      <td>Galapagos</td>\n",
              "      <td>[0.88, S, 89.50, W]</td>\n",
              "      <td>-0.88</td>\n",
              "      <td>S</td>\n",
              "      <td>-89.50</td>\n",
              "      <td>W</td>\n",
              "    </tr>\n",
              "    <tr>\n",
              "      <th>43</th>\n",
              "      <td>Santa Cruz</td>\n",
              "      <td>964</td>\n",
              "      <td>2834</td>\n",
              "      <td>0°37′S 90°20′W﻿ / ﻿0.62°S 90.33°W</td>\n",
              "      <td>-</td>\n",
              "      <td>Galapagos</td>\n",
              "      <td>[0.62, S, 90.33, W]</td>\n",
              "      <td>-0.62</td>\n",
              "      <td>S</td>\n",
              "      <td>-90.33</td>\n",
              "      <td>W</td>\n",
              "    </tr>\n",
              "    <tr>\n",
              "      <th>44</th>\n",
              "      <td>Santiago</td>\n",
              "      <td>920</td>\n",
              "      <td>3018</td>\n",
              "      <td>0°13′S 90°46′W﻿ / ﻿0.22°S 90.77°W</td>\n",
              "      <td>1906</td>\n",
              "      <td>Galapagos</td>\n",
              "      <td>[0.22, S, 90.77, W]</td>\n",
              "      <td>-0.22</td>\n",
              "      <td>S</td>\n",
              "      <td>-90.77</td>\n",
              "      <td>W</td>\n",
              "    </tr>\n",
              "    <tr>\n",
              "      <th>45</th>\n",
              "      <td>Sierra Negra</td>\n",
              "      <td>1124</td>\n",
              "      <td>3687</td>\n",
              "      <td>0°50′S 91°10′W﻿ / ﻿0.83°S 91.17°W</td>\n",
              "      <td>2018</td>\n",
              "      <td>Galapagos</td>\n",
              "      <td>[0.83, S, 91.17, W]</td>\n",
              "      <td>-0.83</td>\n",
              "      <td>S</td>\n",
              "      <td>-91.17</td>\n",
              "      <td>W</td>\n",
              "    </tr>\n",
              "    <tr>\n",
              "      <th>46</th>\n",
              "      <td>Wolf</td>\n",
              "      <td>1710</td>\n",
              "      <td>5609</td>\n",
              "      <td>0°01′N 91°21′W﻿ / ﻿0.02°N 91.35°W</td>\n",
              "      <td>2015</td>\n",
              "      <td>Galapagos</td>\n",
              "      <td>[0.02, N, 91.35, W]</td>\n",
              "      <td>0.02</td>\n",
              "      <td>N</td>\n",
              "      <td>-91.35</td>\n",
              "      <td>W</td>\n",
              "    </tr>\n",
              "  </tbody>\n",
              "</table>\n",
              "</div>"
            ],
            "text/plain": [
              "             Name Meters  Feet  ... Lat_char    Lon Lon_char\n",
              "42  San Cristóbal    759  2490  ...        S -89.50        W\n",
              "43     Santa Cruz    964  2834  ...        S -90.33        W\n",
              "44       Santiago    920  3018  ...        S -90.77        W\n",
              "45   Sierra Negra   1124  3687  ...        S -91.17        W\n",
              "46           Wolf   1710  5609  ...        N -91.35        W\n",
              "\n",
              "[5 rows x 11 columns]"
            ]
          },
          "metadata": {
            "tags": []
          },
          "execution_count": 35
        }
      ]
    },
    {
      "cell_type": "code",
      "metadata": {
        "colab": {
          "base_uri": "https://localhost:8080/",
          "height": 574,
          "referenced_widgets": [
            "ef86f6c71c3d4d5ea52a3293f1dde670",
            "f07e7b62011746e7b64dcaa3a6697281",
            "bd093a3aaad7455ba60e336e83959f27",
            "ea7097d2399f4c25bfcff3fb4e7be1ee",
            "240dabc8d5954c7fa0003d47b61fb488",
            "e70cd7c49851475ba401ded1094028cf",
            "ccd0494bfe6348ce8d31f00b9016785b"
          ]
        },
        "id": "ngS-D93NhNYu",
        "outputId": "931aa147-6d4c-4254-cb76-8d2bbbcb3e9d"
      },
      "source": [
        "#Plotting interactive map of volcanoes\n",
        "@interact(Ecuador=ecu_volc['Category'].unique())\n",
        "def plot_graph(Ecuador):\n",
        "  df = (ecu_volc[ecu_volc['Category']==Ecuador]).reset_index()\n",
        "  fig = go.Figure(px.scatter_geo(data_frame=df, lat='Lat', lon='Lon',\n",
        "                                 size='Meters', color='Meters',\n",
        "                                 title='Volcanoes in Ecuador'))\n",
        "  fig.update_layout(geo = dict(projection_scale=30, center=dict(lat=-0.83, lon=-78.18)))\n",
        "  return fig"
      ],
      "execution_count": 51,
      "outputs": [
        {
          "output_type": "display_data",
          "data": {
            "application/vnd.jupyter.widget-view+json": {
              "model_id": "ef86f6c71c3d4d5ea52a3293f1dde670",
              "version_minor": 0,
              "version_major": 2
            },
            "text/plain": [
              "interactive(children=(Dropdown(description='Ecuador', options=('Mainland', 'Galapagos'), value='Mainland'), Ou…"
            ]
          },
          "metadata": {
            "tags": []
          }
        }
      ]
    },
    {
      "cell_type": "code",
      "metadata": {
        "colab": {
          "base_uri": "https://localhost:8080/"
        },
        "id": "9nQWP2mtI8H1",
        "outputId": "09bd7a53-86cf-4595-9699-39bc29421d8b"
      },
      "source": [
        ""
      ],
      "execution_count": 46,
      "outputs": [
        {
          "output_type": "execute_result",
          "data": {
            "text/plain": [
              "pandas.core.series.Series"
            ]
          },
          "metadata": {
            "tags": []
          },
          "execution_count": 46
        }
      ]
    }
  ]
}