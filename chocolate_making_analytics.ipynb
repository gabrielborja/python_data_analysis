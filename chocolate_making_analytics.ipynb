{
  "nbformat": 4,
  "nbformat_minor": 0,
  "metadata": {
    "colab": {
      "name": "chocolate_making_analytics.ipynb",
      "provenance": [],
      "authorship_tag": "ABX9TyPY+bRaU1R6BGu6ZEzFxU9Q",
      "include_colab_link": true
    },
    "kernelspec": {
      "name": "python3",
      "display_name": "Python 3"
    },
    "language_info": {
      "name": "python"
    }
  },
  "cells": [
    {
      "cell_type": "markdown",
      "metadata": {
        "id": "view-in-github",
        "colab_type": "text"
      },
      "source": [
        "<a href=\"https://colab.research.google.com/github/gabrielborja/python_data_analysis/blob/main/chocolate_making_analytics.ipynb\" target=\"_parent\"><img src=\"https://colab.research.google.com/assets/colab-badge.svg\" alt=\"Open In Colab\"/></a>"
      ]
    },
    {
      "cell_type": "markdown",
      "metadata": {
        "id": "epsz54L7ag8B"
      },
      "source": [
        "#Particle Size Analytics"
      ]
    },
    {
      "cell_type": "markdown",
      "metadata": {
        "id": "JjKBjoyUajci"
      },
      "source": [
        "## Uploading necessary packages"
      ]
    },
    {
      "cell_type": "code",
      "metadata": {
        "id": "bgiKB18eajci"
      },
      "source": [
        "#Upgrading Plotly\n",
        "!pip install plotly --upgrade"
      ],
      "execution_count": null,
      "outputs": []
    },
    {
      "cell_type": "code",
      "metadata": {
        "id": "C3MWs7PCajcj"
      },
      "source": [
        "#Uploading packages\n",
        "import pandas as pd\n",
        "import numpy as np\n",
        "import matplotlib.pyplot as plt\n",
        "import seaborn as sns\n",
        "import plotly.express as px\n",
        "from ipywidgets import interact"
      ],
      "execution_count": null,
      "outputs": []
    },
    {
      "cell_type": "code",
      "metadata": {
        "id": "sBaw4SzKajcj"
      },
      "source": [
        "#Customizing data visualization styles\n",
        "sns.set_theme(rc = {'figure.figsize': (8, 5)})"
      ],
      "execution_count": null,
      "outputs": []
    },
    {
      "cell_type": "code",
      "metadata": {
        "id": "SNU6uQqIajcj"
      },
      "source": [
        "#Remove previous versions of the uploaded excel file\n",
        "!rm 2017_2021_mass_quality_data.xlsx\n",
        "!rm 2019_2021_malvern_D_90.xlsx"
      ],
      "execution_count": null,
      "outputs": []
    },
    {
      "cell_type": "code",
      "metadata": {
        "id": "5wqxXhf-ajck"
      },
      "source": [
        "#Uploading file from local drive ==> !rm file\n",
        "from google.colab import files\n",
        "uploaded8_a = files.upload()"
      ],
      "execution_count": null,
      "outputs": []
    },
    {
      "cell_type": "code",
      "metadata": {
        "id": "Zk3x_wDlajck"
      },
      "source": [
        "#Storing dataset in a Pandas Dataframe\n",
        "import io\n",
        "df8_a = pd.read_excel(io.BytesIO(uploaded8_a['2017_2021_mass_quality_data.xlsx']))"
      ],
      "execution_count": null,
      "outputs": []
    },
    {
      "cell_type": "code",
      "metadata": {
        "colab": {
          "base_uri": "https://localhost:8080/"
        },
        "id": "g_JjXgNfajck",
        "outputId": "3481ccfe-906d-4fe4-bf3d-4180b846466b"
      },
      "source": [
        "#Checking the first dataframe info\n",
        "df8_a.info()"
      ],
      "execution_count": null,
      "outputs": [
        {
          "output_type": "stream",
          "name": "stdout",
          "text": [
            "<class 'pandas.core.frame.DataFrame'>\n",
            "RangeIndex: 439 entries, 0 to 438\n",
            "Data columns (total 11 columns):\n",
            " #   Column                Non-Null Count  Dtype         \n",
            "---  ------                --------------  -----         \n",
            " 0   Plant                 439 non-null    object        \n",
            " 1   Material              439 non-null    int64         \n",
            " 2   Material_Description  439 non-null    object        \n",
            " 3   Physical_sample       439 non-null    int64         \n",
            " 4   Production_date       439 non-null    datetime64[ns]\n",
            " 5   Short_text            26 non-null     object        \n",
            " 6   MDLZ_spec             439 non-null    float64       \n",
            " 7   Heerenthals_spec      439 non-null    float64       \n",
            " 8   Fat_content_%         439 non-null    float64       \n",
            " 9   USL_particle_size_um  439 non-null    int64         \n",
            " 10  Recorded_results      439 non-null    float64       \n",
            "dtypes: datetime64[ns](1), float64(4), int64(3), object(3)\n",
            "memory usage: 37.9+ KB\n"
          ]
        }
      ]
    },
    {
      "cell_type": "code",
      "metadata": {
        "id": "sd2M2_ku9CAq"
      },
      "source": [
        "#Uploading file from local drive ==> !rm file\n",
        "from google.colab import files\n",
        "uploaded8_b = files.upload()"
      ],
      "execution_count": null,
      "outputs": []
    },
    {
      "cell_type": "code",
      "metadata": {
        "id": "M6yiG3tG9HYo"
      },
      "source": [
        "#Storing dataset in a Pandas Dataframe\n",
        "import io\n",
        "df8_b = pd.read_excel(io.BytesIO(uploaded8_b['2019_2021_conch_measurements_full.xlsx']))"
      ],
      "execution_count": null,
      "outputs": []
    },
    {
      "cell_type": "code",
      "metadata": {
        "colab": {
          "base_uri": "https://localhost:8080/"
        },
        "id": "VqX3miYu9MXi",
        "outputId": "5d0d3216-89bd-4b0c-d5d7-9d913d54d155"
      },
      "source": [
        "#Checking the second dataframe info\n",
        "df8_b.info()"
      ],
      "execution_count": null,
      "outputs": [
        {
          "output_type": "stream",
          "name": "stdout",
          "text": [
            "<class 'pandas.core.frame.DataFrame'>\n",
            "RangeIndex: 3599 entries, 0 to 3598\n",
            "Data columns (total 7 columns):\n",
            " #   Column                Non-Null Count  Dtype         \n",
            "---  ------                --------------  -----         \n",
            " 0   Material              3599 non-null   int64         \n",
            " 1   Material_description  3599 non-null   object        \n",
            " 2   PhysSample            3599 non-null   int64         \n",
            " 3   Insp_Lot              3599 non-null   int64         \n",
            " 4   Short_text            3599 non-null   object        \n",
            " 5   Recorded_results      3509 non-null   float64       \n",
            " 6   Sample_date           3599 non-null   datetime64[ns]\n",
            "dtypes: datetime64[ns](1), float64(1), int64(3), object(2)\n",
            "memory usage: 196.9+ KB\n"
          ]
        }
      ]
    },
    {
      "cell_type": "markdown",
      "metadata": {
        "id": "0z02kN_9bGKZ"
      },
      "source": [
        "##Data manipulation"
      ]
    },
    {
      "cell_type": "code",
      "metadata": {
        "id": "3990HUfhbGKZ"
      },
      "source": [
        "#Creating categories from datetime for first dataframe\n",
        "df8_a = df8_a.assign(Year = df8_a['Production_date'].dt.year,\n",
        "                 Month = df8_a['Production_date'].dt.month_name(),\n",
        "                 Quarter = df8_a['Production_date'].dt.quarter,\n",
        "                 Weeknum = df8_a['Production_date'].dt.isocalendar().week)"
      ],
      "execution_count": null,
      "outputs": []
    },
    {
      "cell_type": "code",
      "metadata": {
        "id": "fqjmki-u9Wfv"
      },
      "source": [
        "#Creating categories from datetime for first dataframe\n",
        "df8_b = df8_b.assign(Year = df8_b['Sample_date'].dt.year,\n",
        "                     Month = df8_b['Sample_date'].dt.month_name(),\n",
        "                     Quarter = df8_b['Sample_date'].dt.quarter,\n",
        "                     Weeknum = df8_b['Sample_date'].dt.isocalendar().week)"
      ],
      "execution_count": null,
      "outputs": []
    },
    {
      "cell_type": "code",
      "metadata": {
        "id": "FfN3SvhPe4nu"
      },
      "source": [
        "#Transforming quarters into categories\n",
        "quarter_dict = {1: 'Q1', 2: 'Q2', 3: 'Q3', 4: 'Q4'}\n",
        "df8_a['Quarter'].replace(quarter_dict, inplace=True)\n",
        "df8_b['Quarter'].replace(quarter_dict, inplace=True)"
      ],
      "execution_count": null,
      "outputs": []
    },
    {
      "cell_type": "code",
      "metadata": {
        "id": "7A6IL-s_bGKa"
      },
      "source": [
        "#Creating list of categories\n",
        "year_list = list(sorted(df8_a['Year'].unique(), reverse=True))\n",
        "#month_list = ['January', 'February', 'March', 'April', 'May', 'June', 'Jul', 'August', 'September', 'October', 'Novemeber', 'December']\n",
        "quarter_list = list(df8_a['Quarter'].unique())\n",
        "period_list = ['Month', 'Quarter', 'Weeknum']\n",
        "cat_list = ['Recorded_results', 'Fat_content_%']"
      ],
      "execution_count": null,
      "outputs": []
    },
    {
      "cell_type": "code",
      "metadata": {
        "id": "ZWR6RmHL5Eea"
      },
      "source": [
        "#Aggregating dataframe 1 with avergage values\n",
        "df8_a_g = df8_a.groupby(by=['Year', 'Weeknum']).agg(Fat_avg = ('Fat_content_%', 'mean'), Malvern_avg = ('Recorded_results', 'mean')).reset_index()"
      ],
      "execution_count": null,
      "outputs": []
    },
    {
      "cell_type": "code",
      "metadata": {
        "id": "IeLFyR9j6522"
      },
      "source": [
        "#Aggregating dataframe 2 with avergage values\n",
        "df8_b_g = df8_b[df8_b['Short_text']=='PS; Malvern D 90'].groupby(by=['Year', 'Weeknum']).agg(Conch_avg = ('Recorded_results', 'mean')).reset_index()"
      ],
      "execution_count": null,
      "outputs": []
    },
    {
      "cell_type": "code",
      "metadata": {
        "id": "hmUtTBKJ-OMS"
      },
      "source": [
        "#Merging dataframe 1 and 2 on Year and Weeknum\n",
        "df8_merged = df8_a_g.merge(df8_b_g, on=['Year', 'Weeknum'])"
      ],
      "execution_count": null,
      "outputs": []
    },
    {
      "cell_type": "code",
      "metadata": {
        "colab": {
          "base_uri": "https://localhost:8080/",
          "height": 418
        },
        "id": "zPZkx6D9-hYU",
        "outputId": "694e2596-bae2-42de-f60f-1f78b4938a94"
      },
      "source": [
        "#Checking the merged dataframe tail\n",
        "df8_merged.tail(12)"
      ],
      "execution_count": null,
      "outputs": [
        {
          "output_type": "execute_result",
          "data": {
            "text/html": [
              "<div>\n",
              "<style scoped>\n",
              "    .dataframe tbody tr th:only-of-type {\n",
              "        vertical-align: middle;\n",
              "    }\n",
              "\n",
              "    .dataframe tbody tr th {\n",
              "        vertical-align: top;\n",
              "    }\n",
              "\n",
              "    .dataframe thead th {\n",
              "        text-align: right;\n",
              "    }\n",
              "</style>\n",
              "<table border=\"1\" class=\"dataframe\">\n",
              "  <thead>\n",
              "    <tr style=\"text-align: right;\">\n",
              "      <th></th>\n",
              "      <th>Year</th>\n",
              "      <th>Weeknum</th>\n",
              "      <th>Fat_avg</th>\n",
              "      <th>Malvern_avg</th>\n",
              "      <th>Conch_avg</th>\n",
              "    </tr>\n",
              "  </thead>\n",
              "  <tbody>\n",
              "    <tr>\n",
              "      <th>109</th>\n",
              "      <td>2021</td>\n",
              "      <td>34</td>\n",
              "      <td>54.680000</td>\n",
              "      <td>29.185000</td>\n",
              "      <td>29.860000</td>\n",
              "    </tr>\n",
              "    <tr>\n",
              "      <th>110</th>\n",
              "      <td>2021</td>\n",
              "      <td>35</td>\n",
              "      <td>54.175000</td>\n",
              "      <td>26.242500</td>\n",
              "      <td>30.500000</td>\n",
              "    </tr>\n",
              "    <tr>\n",
              "      <th>111</th>\n",
              "      <td>2021</td>\n",
              "      <td>36</td>\n",
              "      <td>53.990000</td>\n",
              "      <td>28.850000</td>\n",
              "      <td>30.175000</td>\n",
              "    </tr>\n",
              "    <tr>\n",
              "      <th>112</th>\n",
              "      <td>2021</td>\n",
              "      <td>37</td>\n",
              "      <td>54.316667</td>\n",
              "      <td>25.330000</td>\n",
              "      <td>29.516667</td>\n",
              "    </tr>\n",
              "    <tr>\n",
              "      <th>113</th>\n",
              "      <td>2021</td>\n",
              "      <td>38</td>\n",
              "      <td>53.922500</td>\n",
              "      <td>26.217500</td>\n",
              "      <td>29.500000</td>\n",
              "    </tr>\n",
              "    <tr>\n",
              "      <th>114</th>\n",
              "      <td>2021</td>\n",
              "      <td>39</td>\n",
              "      <td>54.470000</td>\n",
              "      <td>27.050000</td>\n",
              "      <td>29.857143</td>\n",
              "    </tr>\n",
              "    <tr>\n",
              "      <th>115</th>\n",
              "      <td>2021</td>\n",
              "      <td>40</td>\n",
              "      <td>54.377500</td>\n",
              "      <td>25.475000</td>\n",
              "      <td>28.825000</td>\n",
              "    </tr>\n",
              "    <tr>\n",
              "      <th>116</th>\n",
              "      <td>2021</td>\n",
              "      <td>41</td>\n",
              "      <td>54.133333</td>\n",
              "      <td>24.926667</td>\n",
              "      <td>29.100000</td>\n",
              "    </tr>\n",
              "    <tr>\n",
              "      <th>117</th>\n",
              "      <td>2021</td>\n",
              "      <td>42</td>\n",
              "      <td>53.753333</td>\n",
              "      <td>27.620000</td>\n",
              "      <td>30.233333</td>\n",
              "    </tr>\n",
              "    <tr>\n",
              "      <th>118</th>\n",
              "      <td>2021</td>\n",
              "      <td>43</td>\n",
              "      <td>54.285000</td>\n",
              "      <td>25.675000</td>\n",
              "      <td>30.366667</td>\n",
              "    </tr>\n",
              "    <tr>\n",
              "      <th>119</th>\n",
              "      <td>2021</td>\n",
              "      <td>44</td>\n",
              "      <td>53.915000</td>\n",
              "      <td>27.290000</td>\n",
              "      <td>NaN</td>\n",
              "    </tr>\n",
              "    <tr>\n",
              "      <th>120</th>\n",
              "      <td>2021</td>\n",
              "      <td>45</td>\n",
              "      <td>54.200000</td>\n",
              "      <td>27.790000</td>\n",
              "      <td>NaN</td>\n",
              "    </tr>\n",
              "  </tbody>\n",
              "</table>\n",
              "</div>"
            ],
            "text/plain": [
              "     Year  Weeknum    Fat_avg  Malvern_avg  Conch_avg\n",
              "109  2021       34  54.680000    29.185000  29.860000\n",
              "110  2021       35  54.175000    26.242500  30.500000\n",
              "111  2021       36  53.990000    28.850000  30.175000\n",
              "112  2021       37  54.316667    25.330000  29.516667\n",
              "113  2021       38  53.922500    26.217500  29.500000\n",
              "114  2021       39  54.470000    27.050000  29.857143\n",
              "115  2021       40  54.377500    25.475000  28.825000\n",
              "116  2021       41  54.133333    24.926667  29.100000\n",
              "117  2021       42  53.753333    27.620000  30.233333\n",
              "118  2021       43  54.285000    25.675000  30.366667\n",
              "119  2021       44  53.915000    27.290000        NaN\n",
              "120  2021       45  54.200000    27.790000        NaN"
            ]
          },
          "metadata": {},
          "execution_count": 61
        }
      ]
    },
    {
      "cell_type": "code",
      "metadata": {
        "colab": {
          "base_uri": "https://localhost:8080/",
          "height": 203
        },
        "id": "QUob412WDoZv",
        "outputId": "c9a435c5-aa54-4fa5-8b16-38d3e7a5350f"
      },
      "source": [
        "#Correlation matrix of merged variables\n",
        "df8_merged.corr()"
      ],
      "execution_count": null,
      "outputs": [
        {
          "output_type": "execute_result",
          "data": {
            "text/html": [
              "<div>\n",
              "<style scoped>\n",
              "    .dataframe tbody tr th:only-of-type {\n",
              "        vertical-align: middle;\n",
              "    }\n",
              "\n",
              "    .dataframe tbody tr th {\n",
              "        vertical-align: top;\n",
              "    }\n",
              "\n",
              "    .dataframe thead th {\n",
              "        text-align: right;\n",
              "    }\n",
              "</style>\n",
              "<table border=\"1\" class=\"dataframe\">\n",
              "  <thead>\n",
              "    <tr style=\"text-align: right;\">\n",
              "      <th></th>\n",
              "      <th>Year</th>\n",
              "      <th>Weeknum</th>\n",
              "      <th>Fat_avg</th>\n",
              "      <th>Malvern_avg</th>\n",
              "      <th>Conch_avg</th>\n",
              "    </tr>\n",
              "  </thead>\n",
              "  <tbody>\n",
              "    <tr>\n",
              "      <th>Year</th>\n",
              "      <td>1.000000</td>\n",
              "      <td>-0.108695</td>\n",
              "      <td>0.258201</td>\n",
              "      <td>-0.657037</td>\n",
              "      <td>0.117723</td>\n",
              "    </tr>\n",
              "    <tr>\n",
              "      <th>Weeknum</th>\n",
              "      <td>-0.108695</td>\n",
              "      <td>1.000000</td>\n",
              "      <td>-0.338801</td>\n",
              "      <td>0.200783</td>\n",
              "      <td>-0.032219</td>\n",
              "    </tr>\n",
              "    <tr>\n",
              "      <th>Fat_avg</th>\n",
              "      <td>0.258201</td>\n",
              "      <td>-0.338801</td>\n",
              "      <td>1.000000</td>\n",
              "      <td>-0.231841</td>\n",
              "      <td>0.037430</td>\n",
              "    </tr>\n",
              "    <tr>\n",
              "      <th>Malvern_avg</th>\n",
              "      <td>-0.657037</td>\n",
              "      <td>0.200783</td>\n",
              "      <td>-0.231841</td>\n",
              "      <td>1.000000</td>\n",
              "      <td>0.190715</td>\n",
              "    </tr>\n",
              "    <tr>\n",
              "      <th>Conch_avg</th>\n",
              "      <td>0.117723</td>\n",
              "      <td>-0.032219</td>\n",
              "      <td>0.037430</td>\n",
              "      <td>0.190715</td>\n",
              "      <td>1.000000</td>\n",
              "    </tr>\n",
              "  </tbody>\n",
              "</table>\n",
              "</div>"
            ],
            "text/plain": [
              "                 Year   Weeknum   Fat_avg  Malvern_avg  Conch_avg\n",
              "Year         1.000000 -0.108695  0.258201    -0.657037   0.117723\n",
              "Weeknum     -0.108695  1.000000 -0.338801     0.200783  -0.032219\n",
              "Fat_avg      0.258201 -0.338801  1.000000    -0.231841   0.037430\n",
              "Malvern_avg -0.657037  0.200783 -0.231841     1.000000   0.190715\n",
              "Conch_avg    0.117723 -0.032219  0.037430     0.190715   1.000000"
            ]
          },
          "metadata": {},
          "execution_count": 70
        }
      ]
    },
    {
      "cell_type": "markdown",
      "metadata": {
        "id": "fcbarhsrbtKP"
      },
      "source": [
        "##Particle Size Interactive Plot"
      ]
    },
    {
      "cell_type": "code",
      "metadata": {
        "colab": {
          "base_uri": "https://localhost:8080/",
          "height": 713,
          "referenced_widgets": [
            "fd3a21a8394c45c3aea2aa8ed595c953",
            "e3d8c3ea2c2845f681e1684dcf0072aa",
            "5e35eb2a690d4eaea09d41904802d26b",
            "ce0ce294d02f4f96ac3d4139c39e5017",
            "63394455e5104ad3b2c690963241c9ae",
            "7209d0721d504edf8e9a844b84522c7b",
            "1fa99225251b4017895edebb0ac692c3",
            "581fe521ef6946579beb297202348a96",
            "4e88bae007ca4bc386719d97c99737c0",
            "8dbe097d89634ec7800323329db73bc7",
            "36e9233e9f504a34b4c3b6ca2396039a",
            "c11309738a6348179c7a29521db79e34",
            "0691663a376a4471b9637b918f004543"
          ]
        },
        "id": "ieoteYx7btKQ",
        "outputId": "d7bed735-324d-4f69-cff5-73c7f1a9396b"
      },
      "source": [
        "#Creating interactive visualization\n",
        "@interact(Year=year_list, Period=period_list, Cat=cat_list)\n",
        "def plot_particle_size(Year, Period, Cat):\n",
        "  df = df8_a[df8_a['Year']==Year].copy()\n",
        "  if Cat == 'Recorded_results':\n",
        "    fig8_a = px.box(data_frame=df, x=Period, y=Cat, color='Quarter',\n",
        "                  title=f'Particle Size Results in {Year}', width=800, height=600)\n",
        "    fig8_a.add_hrect(y0=24, y1=27) #, line_color=\"black\" fillcolor=\"green\", opacity=0.1)\n",
        "  else:\n",
        "    fig8_a = px.box(data_frame=df, x=Period, y=Cat, color='Quarter',\n",
        "                  title=f'Fat Content % Results in {Year}', width=800, height=600)\n",
        "    fig8_a.add_hline(y=54.5)\n",
        "  fig8_a.show()"
      ],
      "execution_count": null,
      "outputs": [
        {
          "output_type": "display_data",
          "data": {
            "application/vnd.jupyter.widget-view+json": {
              "model_id": "fd3a21a8394c45c3aea2aa8ed595c953",
              "version_minor": 0,
              "version_major": 2
            },
            "text/plain": [
              "interactive(children=(Dropdown(description='Year', options=(2021, 2020, 2019, 2018, 2017), value=2021), Dropdo…"
            ]
          },
          "metadata": {}
        }
      ]
    },
    {
      "cell_type": "markdown",
      "metadata": {
        "id": "BYOyg6Bv_LSM"
      },
      "source": [
        "##Conch Interactive Plot"
      ]
    },
    {
      "cell_type": "code",
      "metadata": {
        "colab": {
          "base_uri": "https://localhost:8080/",
          "height": 681,
          "referenced_widgets": [
            "c4e37f4447954e75bdcb7b8b94e18d66",
            "11e330fac5914a69b23a3c3e416d6f72",
            "0a9e5350f0c14f50a620973b0396f11e",
            "786a0ac347cc4fcd8cc29565b0256b12",
            "241e745111a540c089987d4c01deca04",
            "f0d324a6a89b4513b1360f2890c5cf01",
            "f7f0ae765f494ee198552102d149595d",
            "fb4349091f054c4fafdef27f792a9c94",
            "a07a4efcdf754ed6bc71b1028b50c1ea",
            "709f840ec9e644a0941b24f310160e1f"
          ]
        },
        "id": "kdVMdE-f-oqU",
        "outputId": "e7e51edd-02f8-4fba-d620-ea40bf9df06d"
      },
      "source": [
        "#Conching Interactive visualization\n",
        "@interact(Year=year_list, Period=period_list)\n",
        "def plot_particle_size(Year, Period):\n",
        "  df = df8_b[(df8_b['Year']==Year)].copy()\n",
        "  fig8_b = px.box(data_frame=df, x=Period, y='Recorded_Results', color='Quarter',\n",
        "                  title=f'Conch Malvern D90 in {Year}', width=400, height=600)\n",
        "  fig8_b.add_hrect(y0=28, y1=30, line_color=\"black\", fillcolor=\"red\", opacity=0.2, annotation_text='High_zone')\n",
        "  fig8_b.update_yaxes(range=[24,34])\n",
        "  fig8_b.show()"
      ],
      "execution_count": null,
      "outputs": [
        {
          "output_type": "display_data",
          "data": {
            "application/vnd.jupyter.widget-view+json": {
              "model_id": "c4e37f4447954e75bdcb7b8b94e18d66",
              "version_minor": 0,
              "version_major": 2
            },
            "text/plain": [
              "interactive(children=(Dropdown(description='Year', options=(2021, 2020, 2019, 2018, 2017), value=2021), Dropdo…"
            ]
          },
          "metadata": {}
        }
      ]
    },
    {
      "cell_type": "markdown",
      "metadata": {
        "id": "JEkewfmG_vIh"
      },
      "source": [
        "##Quarterly Visualizations Interactive Plot"
      ]
    },
    {
      "cell_type": "code",
      "metadata": {
        "colab": {
          "base_uri": "https://localhost:8080/",
          "height": 481,
          "referenced_widgets": [
            "5acbc54ab7a742069b0d417b62199372",
            "97590d4e400245a88f4a1133f127fa6e",
            "5e9a55859f6046a9908df10a8dc68a28",
            "170107d584bb41308c7d00724faab4e3",
            "d9be0f8833354f42adb60b0c9076f4df",
            "5d9202fe7a8c4112ae5c07ca2c2e0212",
            "cd9c94ed7cfc47a59d8c4548c5f3c6e3",
            "241367462b584c46a51d57db99031343",
            "6a73d3880c484bb2a8cc980b98fafbda",
            "5768e515efcf498f9552627d39ba79be"
          ]
        },
        "id": "mElAEugmnWFq",
        "outputId": "fc50f9ee-378e-4e28-dea2-0ed812abac6e"
      },
      "source": [
        "#Creating quarterly visualization\n",
        "@interact(Cat=cat_list, Quarter=quarter_list)\n",
        "def plot_quarter_results(Cat, Quarter):\n",
        "  df = df8[df8['Quarter']==Quarter].copy()\n",
        "  if Cat == 'Recorded_results':\n",
        "    fig8_c = px.box(data_frame=df, y=Cat, color='Year',\n",
        "                    title=f'Particle Size Results in {Quarter} by Year', width=800, height=400)\n",
        "  else:\n",
        "    fig8_c = px.box(data_frame=df, y=Cat, color='Year',\n",
        "                    title=f'Fat Content % Results in {Quarter} by Year', width=800, height=400)\n",
        "  fig8_c.show()"
      ],
      "execution_count": null,
      "outputs": [
        {
          "output_type": "display_data",
          "data": {
            "application/vnd.jupyter.widget-view+json": {
              "model_id": "5acbc54ab7a742069b0d417b62199372",
              "version_minor": 0,
              "version_major": 2
            },
            "text/plain": [
              "interactive(children=(Dropdown(description='Cat', options=('Recorded_results', 'Fat_content_%'), value='Record…"
            ]
          },
          "metadata": {}
        }
      ]
    },
    {
      "cell_type": "markdown",
      "metadata": {
        "id": "7Dq9FCH4GvZC"
      },
      "source": [
        "##Histogram Interactive Plot"
      ]
    },
    {
      "cell_type": "code",
      "metadata": {
        "colab": {
          "base_uri": "https://localhost:8080/",
          "height": 499,
          "referenced_widgets": [
            "d2e61e7864b74695b244adecc1509877",
            "1bf8bc674d934bed9b18fe234d4c0d34",
            "fda7a3578aee4bf098adb477cafdbd4c",
            "0b13d5aa5f5a4e09a740d39a4f12810b",
            "418d09ac04c948129a961863fd274433",
            "543f005f9d5e4b1abc2768ae273dbfd1",
            "8a8e3382dcca4cec9a84ef7211c6a992"
          ]
        },
        "id": "LDa92sRLhsGx",
        "outputId": "935af6b4-0ab2-4e69-d8b1-4e7930e1dccb"
      },
      "source": [
        "#Creating Histogram visualization\n",
        "@interact(Year=year_list)\n",
        "def plot_marginal_histogram(Year):\n",
        "  df8_c = df8[(df8['Year']==Year)].copy()\n",
        "  fig8_c = px.histogram(data_frame=df8_c, x='Recorded_results', color='Quarter', marginal='box', histnorm='percent',\n",
        "                        nbins=20, title=f'Histogram of Particle Size Results', width=800, height=450)\n",
        "  fig8_c.show()"
      ],
      "execution_count": null,
      "outputs": [
        {
          "output_type": "display_data",
          "data": {
            "application/vnd.jupyter.widget-view+json": {
              "model_id": "d2e61e7864b74695b244adecc1509877",
              "version_minor": 0,
              "version_major": 2
            },
            "text/plain": [
              "interactive(children=(Dropdown(description='Year', options=(2021, 2020, 2019, 2018, 2017), value=2021), Output…"
            ]
          },
          "metadata": {}
        }
      ]
    },
    {
      "cell_type": "markdown",
      "metadata": {
        "id": "G02dhMSKG11K"
      },
      "source": [
        "##Empirical CDF Interactive Plot"
      ]
    },
    {
      "cell_type": "code",
      "metadata": {
        "id": "uRa0o1d_hC7X",
        "colab": {
          "base_uri": "https://localhost:8080/",
          "height": 419,
          "referenced_widgets": [
            "16ed50624e7c47f190052695b3db3c14",
            "c19865cdf99a4bd197c2330e77d9308a",
            "271fa8373b7c407390342d12db7d3c15",
            "c2523d6ab2d94582a45d9889db2960bb",
            "3669b349dbaf48a595fc6bef5010e883",
            "e62f7a286ae740aaa08448f8d006c17b",
            "0fafc4b7a80540f2a5779b3b55aa26c6",
            "d69e897d49d3445fb2752f63f5d1a5cc",
            "f117c6d3fa2f4b5c9e49606dda6a4024",
            "658639fa5bfb42348756d10f02174a36"
          ]
        },
        "outputId": "a654c0eb-e25b-41b6-fd12-b343bba51caa"
      },
      "source": [
        "#Creating ECDF visualization\n",
        "@interact(Year=year_list, Quarter=quarter_list)\n",
        "def plot_ecdf_seaborn(Year, Quarter):\n",
        "  df = df8[(df8['Year']==Year) & (df8['Quarter']==Quarter)].copy()\n",
        "  sns.ecdfplot(data=df, x='Recorded_results', hue='Quarter', stat='proportion', palette=['purple'], complementary=False)\n",
        "  plt.title(f'Empirical CDF of Particle Size in {Quarter} - {Year}')\n",
        "  plt.show()"
      ],
      "execution_count": null,
      "outputs": [
        {
          "output_type": "display_data",
          "data": {
            "application/vnd.jupyter.widget-view+json": {
              "model_id": "16ed50624e7c47f190052695b3db3c14",
              "version_minor": 0,
              "version_major": 2
            },
            "text/plain": [
              "interactive(children=(Dropdown(description='Year', options=(2021, 2020, 2019, 2018, 2017), value=2021), Dropdo…"
            ]
          },
          "metadata": {}
        }
      ]
    },
    {
      "cell_type": "markdown",
      "metadata": {
        "id": "y6mNoIgWCn8X"
      },
      "source": [
        "##BI-variate Interactive Plot"
      ]
    },
    {
      "cell_type": "code",
      "metadata": {
        "id": "CvzJEr_hCrfd"
      },
      "source": [
        "#Plotting bi-variate interactive visualization\n",
        "@interact(Year = year_list, Cat=['Malvern_avg', 'Fat_avg'])\n",
        "def plot_particle_scatter(Year, Cat):\n",
        "  sns.scatterplot(x='Weeknum', y='Conch_avg', data=df8_merged[df8_merged['Year']==Year])\n",
        "  sns.scatterplot(x='Weeknum', y=Cat, data=df8_merged[df8_merged['Year']==Year])\n",
        "  plt.title(f'Malvern Bi-Variate Analysis in {Year}')\n",
        "  plt.show()"
      ],
      "execution_count": null,
      "outputs": []
    },
    {
      "cell_type": "markdown",
      "metadata": {
        "id": "pBxzSTIJmibe"
      },
      "source": [
        "#2RR Analytics"
      ]
    },
    {
      "cell_type": "markdown",
      "metadata": {
        "id": "CypN-0DPmibi"
      },
      "source": [
        "## Uploading necessary packages"
      ]
    },
    {
      "cell_type": "code",
      "metadata": {
        "id": "VCNjEgr8mibi"
      },
      "source": [
        "#Upgrading Plotly\n",
        "!pip install plotly --upgrade"
      ],
      "execution_count": null,
      "outputs": []
    },
    {
      "cell_type": "code",
      "metadata": {
        "id": "igAzbxr7mibi"
      },
      "source": [
        "#Uploading packages\n",
        "import pandas as pd\n",
        "import numpy as np\n",
        "import matplotlib.pyplot as plt\n",
        "import seaborn as sns\n",
        "import plotly.express as px\n",
        "from ipywidgets import interact"
      ],
      "execution_count": null,
      "outputs": []
    },
    {
      "cell_type": "code",
      "metadata": {
        "id": "jF0olsNsmibi"
      },
      "source": [
        "#Customizing data visualization styles\n",
        "sns.set_theme(rc = {'figure.figsize': (8, 5)})"
      ],
      "execution_count": null,
      "outputs": []
    },
    {
      "cell_type": "code",
      "metadata": {
        "id": "6saxqlmmmibj"
      },
      "source": [
        "#Remove previous versions of the uploaded excel file\n",
        "!rm 2021_2RR_particle_size_microns.xlsx"
      ],
      "execution_count": null,
      "outputs": []
    },
    {
      "cell_type": "code",
      "metadata": {
        "colab": {
          "resources": {
            "http://localhost:8080/nbextensions/google.colab/files.js": {
              "data": "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",
              "ok": true,
              "headers": [
                [
                  "content-type",
                  "application/javascript"
                ]
              ],
              "status": 200,
              "status_text": "OK"
            }
          },
          "base_uri": "https://localhost:8080/",
          "height": 73
        },
        "id": "ndquS_-xmibj",
        "outputId": "eec93907-ff0c-4b3f-d666-49bf1261c83a"
      },
      "source": [
        "#Uploading file from local drive ==> !rm file\n",
        "from google.colab import files\n",
        "uploaded9_a = files.upload()"
      ],
      "execution_count": null,
      "outputs": [
        {
          "output_type": "display_data",
          "data": {
            "text/html": [
              "\n",
              "     <input type=\"file\" id=\"files-a0c2758d-7661-4588-ac09-d52799e7ddae\" name=\"files[]\" multiple disabled\n",
              "        style=\"border:none\" />\n",
              "     <output id=\"result-a0c2758d-7661-4588-ac09-d52799e7ddae\">\n",
              "      Upload widget is only available when the cell has been executed in the\n",
              "      current browser session. Please rerun this cell to enable.\n",
              "      </output>\n",
              "      <script src=\"/nbextensions/google.colab/files.js\"></script> "
            ],
            "text/plain": [
              "<IPython.core.display.HTML object>"
            ]
          },
          "metadata": {}
        },
        {
          "output_type": "stream",
          "name": "stdout",
          "text": [
            "Saving 2021_2RR_particle_size_microns.xlsx to 2021_2RR_particle_size_microns.xlsx\n"
          ]
        }
      ]
    },
    {
      "cell_type": "code",
      "metadata": {
        "id": "en2d56XYmibj"
      },
      "source": [
        "#Storing dataset in a Pandas Dataframe\n",
        "import io\n",
        "df9_a = pd.read_excel(io.BytesIO(uploaded9_a['2021_2RR_particle_size_microns.xlsx']))"
      ],
      "execution_count": null,
      "outputs": []
    },
    {
      "cell_type": "code",
      "metadata": {
        "colab": {
          "base_uri": "https://localhost:8080/"
        },
        "id": "di_xWCrnmibj",
        "outputId": "2da91bc9-2b92-413c-f0ed-c00578e389ed"
      },
      "source": [
        "#Checking the first dataframe info\n",
        "df9_a.info()"
      ],
      "execution_count": null,
      "outputs": [
        {
          "output_type": "stream",
          "name": "stdout",
          "text": [
            "<class 'pandas.core.frame.DataFrame'>\n",
            "RangeIndex: 104 entries, 0 to 103\n",
            "Data columns (total 6 columns):\n",
            " #   Column     Non-Null Count  Dtype         \n",
            "---  ------     --------------  -----         \n",
            " 0   event      104 non-null    datetime64[ns]\n",
            " 1   date       104 non-null    datetime64[ns]\n",
            " 2   time       104 non-null    object        \n",
            " 3   equipment  104 non-null    object        \n",
            " 4   name       104 non-null    object        \n",
            " 5   microns    104 non-null    int64         \n",
            "dtypes: datetime64[ns](2), int64(1), object(3)\n",
            "memory usage: 5.0+ KB\n"
          ]
        }
      ]
    },
    {
      "cell_type": "markdown",
      "metadata": {
        "id": "DqIPa9biqu2C"
      },
      "source": [
        "##Data manipulation"
      ]
    },
    {
      "cell_type": "code",
      "metadata": {
        "id": "88-6kg_Uqu2D"
      },
      "source": [
        "#Creating categories from datetime for first dataframe\n",
        "df9_a = df9_a.assign(shift = np.where((df9_a['event'].dt.hour)<15, 'Day', 'Afternoon'),\n",
        "                     day = df9_a['event'].dt.dayofweek, \n",
        "                     weeknum = df9_a['event'].dt.isocalendar().week)"
      ],
      "execution_count": null,
      "outputs": []
    },
    {
      "cell_type": "code",
      "metadata": {
        "colab": {
          "base_uri": "https://localhost:8080/"
        },
        "id": "TftLjDLCrPhq",
        "outputId": "63f2ce1c-ca7c-4a4e-b02d-1661c3dda73a"
      },
      "source": [
        "#Counting the values for different shifts\n",
        "df9_a['shift'].value_counts()"
      ],
      "execution_count": null,
      "outputs": [
        {
          "output_type": "execute_result",
          "data": {
            "text/plain": [
              "Day          76\n",
              "Afternoon    28\n",
              "Name: shift, dtype: int64"
            ]
          },
          "metadata": {},
          "execution_count": 8
        }
      ]
    },
    {
      "cell_type": "code",
      "metadata": {
        "id": "APRJIaY9vwui"
      },
      "source": [
        "#Transforming numeric day into day of the week\n",
        "days_dict = {0: 'Monday', 1: 'Tuesday', 2: 'Wednesday', 3: 'Thursday', 4: 'Friday', 5: 'Saturday', 6: 'Sunday'}\n",
        "df9_a['day'].replace(days_dict, inplace=True)"
      ],
      "execution_count": null,
      "outputs": []
    },
    {
      "cell_type": "markdown",
      "metadata": {
        "id": "F_Hiyg11roSV"
      },
      "source": [
        "##Interactive Visualization"
      ]
    },
    {
      "cell_type": "code",
      "metadata": {
        "id": "JRwVxZyU1YnV",
        "colab": {
          "base_uri": "https://localhost:8080/",
          "height": 549,
          "referenced_widgets": [
            "cb594cdfcfd24069b7b502cbef8cd01f",
            "ff12eb959e754ef08169601e98ab884c",
            "ef419b42ce904f4285d0f3c60c05d979",
            "ce088fb498484e7f8001c8b9d9ee0098",
            "f3a42a24078c4a02a196ba2950793b5c",
            "03336d7c8e7047309567591c61a4a0f8",
            "e5feffaa8b4c48c8ba5cfc7649f0e363"
          ]
        },
        "outputId": "98e64c59-d2d1-4502-8dd4-2ab2997e94fb"
      },
      "source": [
        "#Plotting the average microns vs time\n",
        "@interact(Weeknum = df9_a['weeknum'].unique())\n",
        "def plot_2RR_bar(Weeknum):\n",
        "  df = df9_a[df9_a['weeknum']==Weeknum].copy()\n",
        "  df = df.groupby(by=['day', 'shift']).agg(avg_microns = ('microns', 'mean')).reset_index()\n",
        "  #df = df.sort_values(by='day')\n",
        "  x_orders = {'day': ['Monday', 'Tuesday', 'Wednesday', 'Thursday', 'Friday', 'Saturday', 'Sunday'],\n",
        "              'shift': ['Day', 'Afternoon']}\n",
        "  fig9_a = px.bar(data_frame=df, x='day', y='avg_microns', color='shift', barmode='group',\n",
        "                  title=f'2RR average particle size in week {Weeknum}', height=500, width=800,\n",
        "                  color_discrete_sequence=px.colors.qualitative.D3, category_orders=x_orders)\n",
        "  fig9_a.add_hrect(y0=200, y1=250, line_color=\"black\", fillcolor=\"red\", opacity=0.2, annotation_text='High_zone')\n",
        "  fig9_a.show()"
      ],
      "execution_count": null,
      "outputs": [
        {
          "output_type": "display_data",
          "data": {
            "application/vnd.jupyter.widget-view+json": {
              "model_id": "cb594cdfcfd24069b7b502cbef8cd01f",
              "version_minor": 0,
              "version_major": 2
            },
            "text/plain": [
              "interactive(children=(Dropdown(description='Weeknum', options=(46,), value=46), Output()), _dom_classes=('widg…"
            ]
          },
          "metadata": {}
        }
      ]
    },
    {
      "cell_type": "code",
      "metadata": {
        "id": "CQUgTMdWrnYA",
        "colab": {
          "base_uri": "https://localhost:8080/",
          "height": 549,
          "referenced_widgets": [
            "d8a385400e6e4c9387aee20e607229d5",
            "28192550c0c245228fcb9ca420a988d3",
            "2b0e59bb07674c15831a84b6682193af",
            "e8dd1e411f824110abe9af7e5163ee7d",
            "93a68dc39c9e4c98a9fdd0abedbf4698",
            "5f50c5085e9940d18ed52af24809015a",
            "20129c0d7cd7461ba1f9587ba22913b5"
          ]
        },
        "outputId": "250f97ea-f0d1-430f-d6b9-af4c34643165"
      },
      "source": [
        "#Plotting the variability of microns vs time\n",
        "@interact(Weeknum = df9_a['weeknum'].unique())\n",
        "def plot_2RR_microns(Weeknum):\n",
        "  fig9_b = px.box(data_frame=df9_a, x='day', y='microns', color='shift',\n",
        "                  title=f'2RR particle size microns in week {Weeknum}', height=500, width=800,\n",
        "                  color_discrete_sequence=px.colors.qualitative.D3)\n",
        "  fig9_b.add_hrect(y0=200, y1=250, line_color=\"black\", fillcolor=\"red\", opacity=0.2, annotation_text='High_zone')\n",
        "  fig9_b.show()"
      ],
      "execution_count": null,
      "outputs": [
        {
          "output_type": "display_data",
          "data": {
            "application/vnd.jupyter.widget-view+json": {
              "model_id": "d8a385400e6e4c9387aee20e607229d5",
              "version_minor": 0,
              "version_major": 2
            },
            "text/plain": [
              "interactive(children=(Dropdown(description='Weeknum', options=(46,), value=46), Output()), _dom_classes=('widg…"
            ]
          },
          "metadata": {}
        }
      ]
    },
    {
      "cell_type": "code",
      "metadata": {
        "id": "CCsaCr1ywsiQ",
        "colab": {
          "base_uri": "https://localhost:8080/",
          "height": 549,
          "referenced_widgets": [
            "6e0678ffc5ce43248f5615f653f58563",
            "7b8cb67583ed41a59545df0ae2c9790e",
            "1c91ee55ccaf46dd9bf25a4a90d3347d",
            "a843d8b6e2074f63b1d53fe2cc45e374",
            "3bf527676b5b485cb2eaf7e449734cc7",
            "ff50c94c1cd14bfbbbfab1cd8e990853",
            "8c82b664ba2042a99fa013e9dba59d20"
          ]
        },
        "outputId": "1dcfd808-ac54-4b12-93ca-3b53c5a6d5d2"
      },
      "source": [
        "#Creating the microns vs time\n",
        "@interact(Weeknum = df9_a['weeknum'].unique())\n",
        "def plot_2RR_histogram(Weeknum):\n",
        "  fig9_c = px.histogram(data_frame=df9_a, x='microns', color='shift', marginal='box', histnorm='probability',\n",
        "                        nbins=20, title=f'2RR particle microns histogram in week {Weeknum}', height=500, width=800,\n",
        "                        color_discrete_sequence=px.colors.qualitative.D3)\n",
        "  fig9_c.add_vline(x=200, line_color=\"red\")\n",
        "  fig9_c.show()"
      ],
      "execution_count": null,
      "outputs": [
        {
          "output_type": "display_data",
          "data": {
            "application/vnd.jupyter.widget-view+json": {
              "model_id": "6e0678ffc5ce43248f5615f653f58563",
              "version_minor": 0,
              "version_major": 2
            },
            "text/plain": [
              "interactive(children=(Dropdown(description='Weeknum', options=(46,), value=46), Output()), _dom_classes=('widg…"
            ]
          },
          "metadata": {}
        }
      ]
    },
    {
      "cell_type": "markdown",
      "metadata": {
        "id": "JWiSWWpbsRRD"
      },
      "source": [
        "#Fine Refiners Analytics"
      ]
    },
    {
      "cell_type": "markdown",
      "metadata": {
        "id": "mXom8pQNsRRL"
      },
      "source": [
        "## Uploading necessary packages"
      ]
    },
    {
      "cell_type": "code",
      "metadata": {
        "id": "PXSw9JSvsRRM"
      },
      "source": [
        "#Upgrading Plotly\n",
        "!pip install plotly --upgrade"
      ],
      "execution_count": null,
      "outputs": []
    },
    {
      "cell_type": "code",
      "metadata": {
        "id": "4sX7GcA9sRRM"
      },
      "source": [
        "#Uploading packages\n",
        "import pandas as pd\n",
        "import numpy as np\n",
        "import matplotlib.pyplot as plt\n",
        "import seaborn as sns\n",
        "import plotly.express as px\n",
        "from ipywidgets import interact"
      ],
      "execution_count": 1,
      "outputs": []
    },
    {
      "cell_type": "code",
      "metadata": {
        "id": "4nMSZTTssRRN"
      },
      "source": [
        "#Customizing data visualization styles\n",
        "sns.set_theme(rc = {'figure.figsize': (8, 5)})"
      ],
      "execution_count": 2,
      "outputs": []
    },
    {
      "cell_type": "code",
      "metadata": {
        "id": "yCib22MWsRRN"
      },
      "source": [
        "#Remove previous versions of the uploaded excel file\n",
        "!rm 2021_fine_refiners.xlsx"
      ],
      "execution_count": null,
      "outputs": []
    },
    {
      "cell_type": "code",
      "metadata": {
        "id": "A0whyfr3sRRO"
      },
      "source": [
        "#Uploading file from local drive ==> !rm file\n",
        "from google.colab import files\n",
        "uploaded3_a = files.upload()"
      ],
      "execution_count": null,
      "outputs": []
    },
    {
      "cell_type": "code",
      "metadata": {
        "id": "tjDDKUfusRRP"
      },
      "source": [
        "#Storing dataset in a Pandas Dataframe\n",
        "import io\n",
        "df3_a = pd.read_excel(io.BytesIO(uploaded3_a['2021_fine_refiners.xlsx']))"
      ],
      "execution_count": 5,
      "outputs": []
    },
    {
      "cell_type": "code",
      "metadata": {
        "colab": {
          "base_uri": "https://localhost:8080/"
        },
        "id": "px-oGsPlsRRP",
        "outputId": "a9940b71-c87c-4889-bdae-ef78981bcee5"
      },
      "source": [
        "#Checking the first dataframe info\n",
        "df3_a.info()"
      ],
      "execution_count": 6,
      "outputs": [
        {
          "output_type": "stream",
          "name": "stdout",
          "text": [
            "<class 'pandas.core.frame.DataFrame'>\n",
            "RangeIndex: 150 entries, 0 to 149\n",
            "Data columns (total 8 columns):\n",
            " #   Column          Non-Null Count  Dtype         \n",
            "---  ------          --------------  -----         \n",
            " 0   date            150 non-null    datetime64[ns]\n",
            " 1   roll_num        150 non-null    object        \n",
            " 2   fine_refiner_1  90 non-null     float64       \n",
            " 3   fine_refiner_2  90 non-null     float64       \n",
            " 4   fine_refiner_3  90 non-null     float64       \n",
            " 5   fine_refiner_4  85 non-null     float64       \n",
            " 6   fine_refiner_5  90 non-null     float64       \n",
            " 7   fine_refiner_6  90 non-null     float64       \n",
            "dtypes: datetime64[ns](1), float64(6), object(1)\n",
            "memory usage: 9.5+ KB\n"
          ]
        }
      ]
    },
    {
      "cell_type": "markdown",
      "metadata": {
        "id": "IyNKhM4osRRQ"
      },
      "source": [
        "##Data manipulation"
      ]
    },
    {
      "cell_type": "code",
      "metadata": {
        "id": "VbvnjrW4sRRQ"
      },
      "source": [
        "#Creating categories from datetime for first dataframe\n",
        "df3_a = df3_a.assign(day = df3_a['date'].dt.dayofweek,\n",
        "                     weeknum = df3_a['date'].dt.isocalendar().week)"
      ],
      "execution_count": 8,
      "outputs": []
    },
    {
      "cell_type": "code",
      "metadata": {
        "id": "CDVBSKohsRRR"
      },
      "source": [
        "#Transforming numeric day into day of the week\n",
        "days_dict = {0: 'Monday', 1: 'Tuesday', 2: 'Wednesday', 3: 'Thursday', 4: 'Friday', 5: 'Saturday', 6: 'Sunday'}\n",
        "df3_a['day'].replace(days_dict, inplace=True)"
      ],
      "execution_count": 9,
      "outputs": []
    },
    {
      "cell_type": "code",
      "metadata": {
        "id": "EL26a4jytwHC"
      },
      "source": [
        "#Melting the dataframe to long format\n",
        "df3_a = pd.melt(df3_a, id_vars=['date', 'roll_num', 'weeknum'], value_vars=['fine_refiner_1', 'fine_refiner_2', 'fine_refiner_3', 'fine_refiner_4', 'fine_refiner_5', 'fine_refiner_6'],\n",
        "        var_name='fine_refiner', value_name='temperature')"
      ],
      "execution_count": 10,
      "outputs": []
    },
    {
      "cell_type": "markdown",
      "metadata": {
        "id": "AFdKkxpvsRRS"
      },
      "source": [
        "##Interactive Visualization"
      ]
    },
    {
      "cell_type": "code",
      "metadata": {
        "id": "pCa2OujmsRRS"
      },
      "source": [
        "#Plotting the average microns vs time\n",
        "@interact(Weeknum = df3_a['weeknum'].unique())\n",
        "def plot_fine_refiners(Weeknum):\n",
        "  fig3_a = px.box(data_frame=df3_a, x='day', y='microns', \n",
        "                  title=f'Fine Refiners Tempearture in week {Weeknum}', height=500, width=800,\n",
        "                  color_discrete_sequence=px.colors.qualitative.D3)\n",
        "  #fig3_a.add_hrect(y0=200, y1=250, line_color=\"black\", fillcolor=\"red\", opacity=0.2, annotation_text='High_zone')\n",
        "  fig3_a.show()"
      ],
      "execution_count": null,
      "outputs": []
    }
  ]
}