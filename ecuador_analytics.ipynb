{
  "nbformat": 4,
  "nbformat_minor": 0,
  "metadata": {
    "colab": {
      "name": "ecuador_analytics.ipynb",
      "provenance": [],
      "authorship_tag": "ABX9TyO8s+WRUNsyWPVEfLgT73lL",
      "include_colab_link": true
    },
    "kernelspec": {
      "name": "python3",
      "display_name": "Python 3"
    },
    "language_info": {
      "name": "python"
    }
  },
  "cells": [
    {
      "cell_type": "markdown",
      "metadata": {
        "id": "view-in-github",
        "colab_type": "text"
      },
      "source": [
        "<a href=\"https://colab.research.google.com/github/gabrielborja/python_data_analysis/blob/main/ecuador_analytics.ipynb\" target=\"_parent\"><img src=\"https://colab.research.google.com/assets/colab-badge.svg\" alt=\"Open In Colab\"/></a>"
      ]
    },
    {
      "cell_type": "markdown",
      "metadata": {
        "id": "eTZwpRZNRhGY"
      },
      "source": [
        "#Ecuador Volcanoes Analysis"
      ]
    },
    {
      "cell_type": "markdown",
      "metadata": {
        "id": "urSYFOWesvzU"
      },
      "source": [
        "Ecuador is located at the center of the world, and is aslo known as the land of volcanoes. Data about Ecuador volcanoes can be found [here](https://en.wikipedia.org/wiki/List_of_volcanoes_in_Ecuador)"
      ]
    },
    {
      "cell_type": "markdown",
      "metadata": {
        "id": "sgzkv1LwjLIL"
      },
      "source": [
        "## Uploading packages and data"
      ]
    },
    {
      "cell_type": "code",
      "metadata": {
        "id": "Hd_BQNhNCUYa"
      },
      "source": [
        "#!pip freeze"
      ],
      "execution_count": null,
      "outputs": []
    },
    {
      "cell_type": "code",
      "metadata": {
        "id": "RHzc7K6UJDvR"
      },
      "source": [
        "#Importing data manipulation packages\n",
        "import numpy as np\n",
        "import pandas as pd"
      ],
      "execution_count": 1,
      "outputs": []
    },
    {
      "cell_type": "markdown",
      "metadata": {
        "id": "Qd76FNGixVGx"
      },
      "source": [
        "##Retrieving data from URL"
      ]
    },
    {
      "cell_type": "code",
      "metadata": {
        "id": "6f2skNFkus3e"
      },
      "source": [
        "#Parsing tables from URL\n",
        "ecu_tables = pd.read_html('https://en.wikipedia.org/wiki/List_of_volcanoes_in_Ecuador',\n",
        "                           attrs = {'class': 'wikitable sortable'})"
      ],
      "execution_count": 2,
      "outputs": []
    },
    {
      "cell_type": "code",
      "metadata": {
        "colab": {
          "base_uri": "https://localhost:8080/",
          "height": 205
        },
        "id": "c0KeL7b1vz6l",
        "outputId": "56fb3745-6fa9-43a8-81a1-1a826ee35209"
      },
      "source": [
        "#Saving table 1 to dataframe for mainland volcanoes\n",
        "ecu_main = ecu_tables[0]\n",
        "ecu_main.tail()"
      ],
      "execution_count": 3,
      "outputs": [
        {
          "output_type": "execute_result",
          "data": {
            "text/html": [
              "<div>\n",
              "<style scoped>\n",
              "    .dataframe tbody tr th:only-of-type {\n",
              "        vertical-align: middle;\n",
              "    }\n",
              "\n",
              "    .dataframe tbody tr th {\n",
              "        vertical-align: top;\n",
              "    }\n",
              "\n",
              "    .dataframe thead th {\n",
              "        text-align: right;\n",
              "    }\n",
              "</style>\n",
              "<table border=\"1\" class=\"dataframe\">\n",
              "  <thead>\n",
              "    <tr style=\"text-align: right;\">\n",
              "      <th></th>\n",
              "      <th>Name</th>\n",
              "      <th>Meters</th>\n",
              "      <th>Feet</th>\n",
              "      <th>Coordinates</th>\n",
              "      <th>Last Eruption</th>\n",
              "    </tr>\n",
              "  </thead>\n",
              "  <tbody>\n",
              "    <tr>\n",
              "      <th>28</th>\n",
              "      <td>Soche</td>\n",
              "      <td>3955</td>\n",
              "      <td>12972</td>\n",
              "      <td>0°33′07″N 77°34′48″W﻿ / ﻿0.552°N 77.580°W</td>\n",
              "      <td>-</td>\n",
              "    </tr>\n",
              "    <tr>\n",
              "      <th>29</th>\n",
              "      <td>Sumaco</td>\n",
              "      <td>3990</td>\n",
              "      <td>13087</td>\n",
              "      <td>0°32′S 77°37′W﻿ / ﻿0.53°S 77.62°W</td>\n",
              "      <td>1933</td>\n",
              "    </tr>\n",
              "    <tr>\n",
              "      <th>30</th>\n",
              "      <td>Tulabug</td>\n",
              "      <td>3336</td>\n",
              "      <td>10942</td>\n",
              "      <td>1°46′48″S 78°36′47″W﻿ / ﻿1.78°S 78.613°W</td>\n",
              "      <td>Holocene</td>\n",
              "    </tr>\n",
              "    <tr>\n",
              "      <th>31</th>\n",
              "      <td>Tungurahua</td>\n",
              "      <td>5023</td>\n",
              "      <td>16475</td>\n",
              "      <td>1°28′01″S 78°26′31″W﻿ / ﻿1.467°S 78.442°W</td>\n",
              "      <td>2016</td>\n",
              "    </tr>\n",
              "    <tr>\n",
              "      <th>32</th>\n",
              "      <td>Yanaurcu</td>\n",
              "      <td>4535</td>\n",
              "      <td>14879</td>\n",
              "      <td>0°29′55″N 78°20′02″W﻿ / ﻿0.49849°N 78.33389°W</td>\n",
              "      <td>60,600 ± 20,000 years ago</td>\n",
              "    </tr>\n",
              "  </tbody>\n",
              "</table>\n",
              "</div>"
            ],
            "text/plain": [
              "          Name  ...              Last Eruption\n",
              "28       Soche  ...                          -\n",
              "29      Sumaco  ...                       1933\n",
              "30     Tulabug  ...                   Holocene\n",
              "31  Tungurahua  ...                       2016\n",
              "32    Yanaurcu  ...  60,600 ± 20,000 years ago\n",
              "\n",
              "[5 rows x 5 columns]"
            ]
          },
          "metadata": {
            "tags": []
          },
          "execution_count": 3
        }
      ]
    },
    {
      "cell_type": "code",
      "metadata": {
        "colab": {
          "base_uri": "https://localhost:8080/",
          "height": 205
        },
        "id": "IbJ_ozwIxcr1",
        "outputId": "26e1ee68-c27a-4559-eedc-2a8c5bc4cc26"
      },
      "source": [
        "#Saving table 2 to dataframe for galapagos volcanoes\n",
        "ecu_galap = ecu_tables[1]\n",
        "ecu_galap.tail()"
      ],
      "execution_count": 4,
      "outputs": [
        {
          "output_type": "execute_result",
          "data": {
            "text/html": [
              "<div>\n",
              "<style scoped>\n",
              "    .dataframe tbody tr th:only-of-type {\n",
              "        vertical-align: middle;\n",
              "    }\n",
              "\n",
              "    .dataframe tbody tr th {\n",
              "        vertical-align: top;\n",
              "    }\n",
              "\n",
              "    .dataframe thead th {\n",
              "        text-align: right;\n",
              "    }\n",
              "</style>\n",
              "<table border=\"1\" class=\"dataframe\">\n",
              "  <thead>\n",
              "    <tr style=\"text-align: right;\">\n",
              "      <th></th>\n",
              "      <th>Name</th>\n",
              "      <th>Meters</th>\n",
              "      <th>Feet</th>\n",
              "      <th>Coordinates</th>\n",
              "      <th>Last Eruption</th>\n",
              "    </tr>\n",
              "  </thead>\n",
              "  <tbody>\n",
              "    <tr>\n",
              "      <th>10</th>\n",
              "      <td>San Cristóbal</td>\n",
              "      <td>759</td>\n",
              "      <td>2490</td>\n",
              "      <td>0°53′S 89°30′W﻿ / ﻿0.88°S 89.50°W</td>\n",
              "      <td>-</td>\n",
              "    </tr>\n",
              "    <tr>\n",
              "      <th>11</th>\n",
              "      <td>Santa Cruz</td>\n",
              "      <td>964</td>\n",
              "      <td>2834</td>\n",
              "      <td>0°37′S 90°20′W﻿ / ﻿0.62°S 90.33°W</td>\n",
              "      <td>-</td>\n",
              "    </tr>\n",
              "    <tr>\n",
              "      <th>12</th>\n",
              "      <td>Santiago</td>\n",
              "      <td>920</td>\n",
              "      <td>3018</td>\n",
              "      <td>0°13′S 90°46′W﻿ / ﻿0.22°S 90.77°W</td>\n",
              "      <td>1906</td>\n",
              "    </tr>\n",
              "    <tr>\n",
              "      <th>13</th>\n",
              "      <td>Sierra Negra</td>\n",
              "      <td>1124</td>\n",
              "      <td>3687</td>\n",
              "      <td>0°50′S 91°10′W﻿ / ﻿0.83°S 91.17°W</td>\n",
              "      <td>2018</td>\n",
              "    </tr>\n",
              "    <tr>\n",
              "      <th>14</th>\n",
              "      <td>Wolf</td>\n",
              "      <td>1710</td>\n",
              "      <td>5609</td>\n",
              "      <td>0°01′N 91°21′W﻿ / ﻿0.02°N 91.35°W</td>\n",
              "      <td>2015</td>\n",
              "    </tr>\n",
              "  </tbody>\n",
              "</table>\n",
              "</div>"
            ],
            "text/plain": [
              "             Name  Meters  ...                        Coordinates Last Eruption\n",
              "10  San Cristóbal     759  ...  0°53′S 89°30′W﻿ / ﻿0.88°S 89.50°W             -\n",
              "11     Santa Cruz     964  ...  0°37′S 90°20′W﻿ / ﻿0.62°S 90.33°W             -\n",
              "12       Santiago     920  ...  0°13′S 90°46′W﻿ / ﻿0.22°S 90.77°W          1906\n",
              "13   Sierra Negra    1124  ...  0°50′S 91°10′W﻿ / ﻿0.83°S 91.17°W          2018\n",
              "14           Wolf    1710  ...  0°01′N 91°21′W﻿ / ﻿0.02°N 91.35°W          2015\n",
              "\n",
              "[5 rows x 5 columns]"
            ]
          },
          "metadata": {
            "tags": []
          },
          "execution_count": 4
        }
      ]
    },
    {
      "cell_type": "code",
      "metadata": {
        "id": "Zhbk6Aoqx3-V"
      },
      "source": [
        "#Creating categories for volcanoes location\n",
        "ecu_main['Category'] = 'Mainland'\n",
        "ecu_galap['Category'] = 'Galapagos'"
      ],
      "execution_count": 5,
      "outputs": []
    },
    {
      "cell_type": "code",
      "metadata": {
        "colab": {
          "base_uri": "https://localhost:8080/"
        },
        "id": "7am4T-xHyqDO",
        "outputId": "ca2e923c-aecc-436c-f66e-222b33398321"
      },
      "source": [
        "#Concatenating both dataframes\n",
        "ecu_volc = pd.concat([ecu_main, ecu_galap], ignore_index=True)\n",
        "ecu_volc.shape"
      ],
      "execution_count": 6,
      "outputs": [
        {
          "output_type": "execute_result",
          "data": {
            "text/plain": [
              "(48, 6)"
            ]
          },
          "metadata": {
            "tags": []
          },
          "execution_count": 6
        }
      ]
    },
    {
      "cell_type": "markdown",
      "metadata": {
        "id": "sNWPrf-Iz1lE"
      },
      "source": [
        "##Data Cleaning"
      ]
    },
    {
      "cell_type": "code",
      "metadata": {
        "id": "Zj8SX4TLuVpO"
      },
      "source": [
        "#Importing necessary packages\n",
        "import re"
      ],
      "execution_count": 7,
      "outputs": []
    },
    {
      "cell_type": "code",
      "metadata": {
        "colab": {
          "base_uri": "https://localhost:8080/",
          "height": 205
        },
        "id": "2VQSkn0czh9e",
        "outputId": "0a2a217a-5c66-4440-c804-356e8e7aa5fd"
      },
      "source": [
        "#Checking the dataframe head\n",
        "ecu_volc.head()"
      ],
      "execution_count": 8,
      "outputs": [
        {
          "output_type": "execute_result",
          "data": {
            "text/html": [
              "<div>\n",
              "<style scoped>\n",
              "    .dataframe tbody tr th:only-of-type {\n",
              "        vertical-align: middle;\n",
              "    }\n",
              "\n",
              "    .dataframe tbody tr th {\n",
              "        vertical-align: top;\n",
              "    }\n",
              "\n",
              "    .dataframe thead th {\n",
              "        text-align: right;\n",
              "    }\n",
              "</style>\n",
              "<table border=\"1\" class=\"dataframe\">\n",
              "  <thead>\n",
              "    <tr style=\"text-align: right;\">\n",
              "      <th></th>\n",
              "      <th>Name</th>\n",
              "      <th>Meters</th>\n",
              "      <th>Feet</th>\n",
              "      <th>Coordinates</th>\n",
              "      <th>Last Eruption</th>\n",
              "      <th>Category</th>\n",
              "    </tr>\n",
              "  </thead>\n",
              "  <tbody>\n",
              "    <tr>\n",
              "      <th>0</th>\n",
              "      <td>El Altar / Kapak Urku</td>\n",
              "      <td>5405</td>\n",
              "      <td>17730</td>\n",
              "      <td>.mw-parser-output .geo-default,.mw-parser-outp...</td>\n",
              "      <td>Unknown</td>\n",
              "      <td>Mainland</td>\n",
              "    </tr>\n",
              "    <tr>\n",
              "      <th>1</th>\n",
              "      <td>Antisana</td>\n",
              "      <td>5753</td>\n",
              "      <td>18870</td>\n",
              "      <td>0°28′52″S 78°08′24″W﻿ / ﻿0.481°S 78.14°W</td>\n",
              "      <td>1802</td>\n",
              "      <td>Mainland</td>\n",
              "    </tr>\n",
              "    <tr>\n",
              "      <th>2</th>\n",
              "      <td>Atacazo</td>\n",
              "      <td>4463</td>\n",
              "      <td>14639</td>\n",
              "      <td>0°21′11″S 78°37′01″W﻿ / ﻿0.353°S 78.617°W</td>\n",
              "      <td>-</td>\n",
              "      <td>Mainland</td>\n",
              "    </tr>\n",
              "    <tr>\n",
              "      <th>3</th>\n",
              "      <td>Carihuairazo</td>\n",
              "      <td>5018</td>\n",
              "      <td>16463</td>\n",
              "      <td>01°24′25″S 78°45′00″W﻿ / ﻿1.40694°S 78.75000°W</td>\n",
              "      <td>Unknown</td>\n",
              "      <td>Mainland</td>\n",
              "    </tr>\n",
              "    <tr>\n",
              "      <th>4</th>\n",
              "      <td>Cayambe</td>\n",
              "      <td>5790</td>\n",
              "      <td>18991</td>\n",
              "      <td>0°01′44″N 77°59′10″W﻿ / ﻿0.029°N 77.986°W</td>\n",
              "      <td>1786</td>\n",
              "      <td>Mainland</td>\n",
              "    </tr>\n",
              "  </tbody>\n",
              "</table>\n",
              "</div>"
            ],
            "text/plain": [
              "                    Name Meters  ... Last Eruption  Category\n",
              "0  El Altar / Kapak Urku   5405  ...       Unknown  Mainland\n",
              "1               Antisana   5753  ...          1802  Mainland\n",
              "2                Atacazo   4463  ...             -  Mainland\n",
              "3           Carihuairazo   5018  ...       Unknown  Mainland\n",
              "4                Cayambe   5790  ...          1786  Mainland\n",
              "\n",
              "[5 rows x 6 columns]"
            ]
          },
          "metadata": {
            "tags": []
          },
          "execution_count": 8
        }
      ]
    },
    {
      "cell_type": "code",
      "metadata": {
        "id": "bXpOptnL4iZC"
      },
      "source": [
        "#Replacing preliminary missing/incorrect values\n",
        "ecu_volc['Name'][0] = 'El Altar'\n",
        "ecu_volc['Coordinates'][0] = '1.68°S 78.42°W / 1.68°S 78.42°W' #==> El Altar\n",
        "ecu_volc['Meters'][12] = 3719 #==> Cusin\n",
        "ecu_volc['Meters'][17] = 4453 #==> Ninahuilca\n",
        "ecu_volc['Last Eruption'][17] = '2300 AD'\n",
        "ecu_volc['Coordinates'][17] = '0.3535°S 78.617°W / 0.3535°S 78.617°W' #==> Ninahuilca\n",
        "ecu_volc['Meters'][21] = 4453 #==> Pilavo\n",
        "ecu_volc['Coordinates'][21] = '0.53°N 78.37°W / 0.53°N 78.37°W' #==> Pilavo"
      ],
      "execution_count": 9,
      "outputs": []
    },
    {
      "cell_type": "code",
      "metadata": {
        "id": "FbwObFwmEKwm"
      },
      "source": [
        "#Calculating missing values from Feet column\n",
        "ecu_volc['Feet'] = ecu_volc['Feet'].replace(to_replace='-', value=np.nan)\n",
        "ecu_volc = ecu_volc.assign(Feet = np.where(ecu_volc['Feet'].isin([np.nan]), ecu_volc['Meters'].astype(int)*3.28, ecu_volc['Feet']))"
      ],
      "execution_count": 10,
      "outputs": []
    },
    {
      "cell_type": "code",
      "metadata": {
        "colab": {
          "base_uri": "https://localhost:8080/",
          "height": 205
        },
        "id": "dO0Mg3RT4Oeo",
        "outputId": "cdcff2f1-a19b-40c5-84e7-855366f1ca3d"
      },
      "source": [
        "#Extracting coordinates into separate list of lists\n",
        "\n",
        "def split_coord(x):\n",
        "  try:\n",
        "    val = str(x.split('/')[1].strip()).replace('\\ufeff', '')\n",
        "    return re.split('[\\° ]', val)\n",
        "  except AttributeError:\n",
        "    return ['NA', 'NA' 'NA', 'NA']\n",
        "\n",
        "ecu_volc = ecu_volc.assign(String_coord = ecu_volc['Coordinates'].apply(split_coord))\n",
        "ecu_volc.head()"
      ],
      "execution_count": 11,
      "outputs": [
        {
          "output_type": "execute_result",
          "data": {
            "text/html": [
              "<div>\n",
              "<style scoped>\n",
              "    .dataframe tbody tr th:only-of-type {\n",
              "        vertical-align: middle;\n",
              "    }\n",
              "\n",
              "    .dataframe tbody tr th {\n",
              "        vertical-align: top;\n",
              "    }\n",
              "\n",
              "    .dataframe thead th {\n",
              "        text-align: right;\n",
              "    }\n",
              "</style>\n",
              "<table border=\"1\" class=\"dataframe\">\n",
              "  <thead>\n",
              "    <tr style=\"text-align: right;\">\n",
              "      <th></th>\n",
              "      <th>Name</th>\n",
              "      <th>Meters</th>\n",
              "      <th>Feet</th>\n",
              "      <th>Coordinates</th>\n",
              "      <th>Last Eruption</th>\n",
              "      <th>Category</th>\n",
              "      <th>String_coord</th>\n",
              "    </tr>\n",
              "  </thead>\n",
              "  <tbody>\n",
              "    <tr>\n",
              "      <th>0</th>\n",
              "      <td>El Altar</td>\n",
              "      <td>5405</td>\n",
              "      <td>17730</td>\n",
              "      <td>1.68°S 78.42°W / 1.68°S 78.42°W</td>\n",
              "      <td>Unknown</td>\n",
              "      <td>Mainland</td>\n",
              "      <td>[1.68, S, 78.42, W]</td>\n",
              "    </tr>\n",
              "    <tr>\n",
              "      <th>1</th>\n",
              "      <td>Antisana</td>\n",
              "      <td>5753</td>\n",
              "      <td>18870</td>\n",
              "      <td>0°28′52″S 78°08′24″W﻿ / ﻿0.481°S 78.14°W</td>\n",
              "      <td>1802</td>\n",
              "      <td>Mainland</td>\n",
              "      <td>[0.481, S, 78.14, W]</td>\n",
              "    </tr>\n",
              "    <tr>\n",
              "      <th>2</th>\n",
              "      <td>Atacazo</td>\n",
              "      <td>4463</td>\n",
              "      <td>14639</td>\n",
              "      <td>0°21′11″S 78°37′01″W﻿ / ﻿0.353°S 78.617°W</td>\n",
              "      <td>-</td>\n",
              "      <td>Mainland</td>\n",
              "      <td>[0.353, S, 78.617, W]</td>\n",
              "    </tr>\n",
              "    <tr>\n",
              "      <th>3</th>\n",
              "      <td>Carihuairazo</td>\n",
              "      <td>5018</td>\n",
              "      <td>16463</td>\n",
              "      <td>01°24′25″S 78°45′00″W﻿ / ﻿1.40694°S 78.75000°W</td>\n",
              "      <td>Unknown</td>\n",
              "      <td>Mainland</td>\n",
              "      <td>[1.40694, S, 78.75000, W]</td>\n",
              "    </tr>\n",
              "    <tr>\n",
              "      <th>4</th>\n",
              "      <td>Cayambe</td>\n",
              "      <td>5790</td>\n",
              "      <td>18991</td>\n",
              "      <td>0°01′44″N 77°59′10″W﻿ / ﻿0.029°N 77.986°W</td>\n",
              "      <td>1786</td>\n",
              "      <td>Mainland</td>\n",
              "      <td>[0.029, N, 77.986, W]</td>\n",
              "    </tr>\n",
              "  </tbody>\n",
              "</table>\n",
              "</div>"
            ],
            "text/plain": [
              "           Name Meters  ...  Category               String_coord\n",
              "0      El Altar   5405  ...  Mainland        [1.68, S, 78.42, W]\n",
              "1      Antisana   5753  ...  Mainland       [0.481, S, 78.14, W]\n",
              "2       Atacazo   4463  ...  Mainland      [0.353, S, 78.617, W]\n",
              "3  Carihuairazo   5018  ...  Mainland  [1.40694, S, 78.75000, W]\n",
              "4       Cayambe   5790  ...  Mainland      [0.029, N, 77.986, W]\n",
              "\n",
              "[5 rows x 7 columns]"
            ]
          },
          "metadata": {
            "tags": []
          },
          "execution_count": 11
        }
      ]
    },
    {
      "cell_type": "code",
      "metadata": {
        "colab": {
          "base_uri": "https://localhost:8080/",
          "height": 205
        },
        "id": "zPGOLYU_zQwm",
        "outputId": "0d2dbe61-252e-4ee0-af5c-ba48aa956010"
      },
      "source": [
        "#Splitting list of lists into columns for latitude and longitude\n",
        "ecu_volc = ecu_volc.assign(Lat = [i[0] for i in ecu_volc['String_coord']],\n",
        "                           Lat_char = [i[1] for i in ecu_volc['String_coord']],\n",
        "                           Lon = [i[2] for i in ecu_volc['String_coord']],\n",
        "                           Lon_char = [i[3] for i in ecu_volc['String_coord']])\n",
        "ecu_volc.head()"
      ],
      "execution_count": 12,
      "outputs": [
        {
          "output_type": "execute_result",
          "data": {
            "text/html": [
              "<div>\n",
              "<style scoped>\n",
              "    .dataframe tbody tr th:only-of-type {\n",
              "        vertical-align: middle;\n",
              "    }\n",
              "\n",
              "    .dataframe tbody tr th {\n",
              "        vertical-align: top;\n",
              "    }\n",
              "\n",
              "    .dataframe thead th {\n",
              "        text-align: right;\n",
              "    }\n",
              "</style>\n",
              "<table border=\"1\" class=\"dataframe\">\n",
              "  <thead>\n",
              "    <tr style=\"text-align: right;\">\n",
              "      <th></th>\n",
              "      <th>Name</th>\n",
              "      <th>Meters</th>\n",
              "      <th>Feet</th>\n",
              "      <th>Coordinates</th>\n",
              "      <th>Last Eruption</th>\n",
              "      <th>Category</th>\n",
              "      <th>String_coord</th>\n",
              "      <th>Lat</th>\n",
              "      <th>Lat_char</th>\n",
              "      <th>Lon</th>\n",
              "      <th>Lon_char</th>\n",
              "    </tr>\n",
              "  </thead>\n",
              "  <tbody>\n",
              "    <tr>\n",
              "      <th>0</th>\n",
              "      <td>El Altar</td>\n",
              "      <td>5405</td>\n",
              "      <td>17730</td>\n",
              "      <td>1.68°S 78.42°W / 1.68°S 78.42°W</td>\n",
              "      <td>Unknown</td>\n",
              "      <td>Mainland</td>\n",
              "      <td>[1.68, S, 78.42, W]</td>\n",
              "      <td>1.68</td>\n",
              "      <td>S</td>\n",
              "      <td>78.42</td>\n",
              "      <td>W</td>\n",
              "    </tr>\n",
              "    <tr>\n",
              "      <th>1</th>\n",
              "      <td>Antisana</td>\n",
              "      <td>5753</td>\n",
              "      <td>18870</td>\n",
              "      <td>0°28′52″S 78°08′24″W﻿ / ﻿0.481°S 78.14°W</td>\n",
              "      <td>1802</td>\n",
              "      <td>Mainland</td>\n",
              "      <td>[0.481, S, 78.14, W]</td>\n",
              "      <td>0.481</td>\n",
              "      <td>S</td>\n",
              "      <td>78.14</td>\n",
              "      <td>W</td>\n",
              "    </tr>\n",
              "    <tr>\n",
              "      <th>2</th>\n",
              "      <td>Atacazo</td>\n",
              "      <td>4463</td>\n",
              "      <td>14639</td>\n",
              "      <td>0°21′11″S 78°37′01″W﻿ / ﻿0.353°S 78.617°W</td>\n",
              "      <td>-</td>\n",
              "      <td>Mainland</td>\n",
              "      <td>[0.353, S, 78.617, W]</td>\n",
              "      <td>0.353</td>\n",
              "      <td>S</td>\n",
              "      <td>78.617</td>\n",
              "      <td>W</td>\n",
              "    </tr>\n",
              "    <tr>\n",
              "      <th>3</th>\n",
              "      <td>Carihuairazo</td>\n",
              "      <td>5018</td>\n",
              "      <td>16463</td>\n",
              "      <td>01°24′25″S 78°45′00″W﻿ / ﻿1.40694°S 78.75000°W</td>\n",
              "      <td>Unknown</td>\n",
              "      <td>Mainland</td>\n",
              "      <td>[1.40694, S, 78.75000, W]</td>\n",
              "      <td>1.40694</td>\n",
              "      <td>S</td>\n",
              "      <td>78.75000</td>\n",
              "      <td>W</td>\n",
              "    </tr>\n",
              "    <tr>\n",
              "      <th>4</th>\n",
              "      <td>Cayambe</td>\n",
              "      <td>5790</td>\n",
              "      <td>18991</td>\n",
              "      <td>0°01′44″N 77°59′10″W﻿ / ﻿0.029°N 77.986°W</td>\n",
              "      <td>1786</td>\n",
              "      <td>Mainland</td>\n",
              "      <td>[0.029, N, 77.986, W]</td>\n",
              "      <td>0.029</td>\n",
              "      <td>N</td>\n",
              "      <td>77.986</td>\n",
              "      <td>W</td>\n",
              "    </tr>\n",
              "  </tbody>\n",
              "</table>\n",
              "</div>"
            ],
            "text/plain": [
              "           Name Meters   Feet  ... Lat_char       Lon Lon_char\n",
              "0      El Altar   5405  17730  ...        S     78.42        W\n",
              "1      Antisana   5753  18870  ...        S     78.14        W\n",
              "2       Atacazo   4463  14639  ...        S    78.617        W\n",
              "3  Carihuairazo   5018  16463  ...        S  78.75000        W\n",
              "4       Cayambe   5790  18991  ...        N    77.986        W\n",
              "\n",
              "[5 rows x 11 columns]"
            ]
          },
          "metadata": {
            "tags": []
          },
          "execution_count": 12
        }
      ]
    },
    {
      "cell_type": "code",
      "metadata": {
        "colab": {
          "base_uri": "https://localhost:8080/",
          "height": 205
        },
        "id": "jSF1_1lC4ZKQ",
        "outputId": "fb297365-2740-4aea-f99c-7473c411c96e"
      },
      "source": [
        "#Assigning negative values to latitude and longitude (If 'S' or 'W' = negative coordinate)\n",
        "ecu_volc = ecu_volc.assign(Lat = np.where(ecu_volc['Lat_char'].isin(['S']), ecu_volc['Lat'].astype(float)*-1, ecu_volc['Lat'].astype(float)),\n",
        "                           Lon = np.where(ecu_volc['Lon_char'].isin(['W']), ecu_volc['Lon'].astype(float)*-1, ecu_volc['Lat'].astype(float)))\n",
        "ecu_volc.head()"
      ],
      "execution_count": 13,
      "outputs": [
        {
          "output_type": "execute_result",
          "data": {
            "text/html": [
              "<div>\n",
              "<style scoped>\n",
              "    .dataframe tbody tr th:only-of-type {\n",
              "        vertical-align: middle;\n",
              "    }\n",
              "\n",
              "    .dataframe tbody tr th {\n",
              "        vertical-align: top;\n",
              "    }\n",
              "\n",
              "    .dataframe thead th {\n",
              "        text-align: right;\n",
              "    }\n",
              "</style>\n",
              "<table border=\"1\" class=\"dataframe\">\n",
              "  <thead>\n",
              "    <tr style=\"text-align: right;\">\n",
              "      <th></th>\n",
              "      <th>Name</th>\n",
              "      <th>Meters</th>\n",
              "      <th>Feet</th>\n",
              "      <th>Coordinates</th>\n",
              "      <th>Last Eruption</th>\n",
              "      <th>Category</th>\n",
              "      <th>String_coord</th>\n",
              "      <th>Lat</th>\n",
              "      <th>Lat_char</th>\n",
              "      <th>Lon</th>\n",
              "      <th>Lon_char</th>\n",
              "    </tr>\n",
              "  </thead>\n",
              "  <tbody>\n",
              "    <tr>\n",
              "      <th>0</th>\n",
              "      <td>El Altar</td>\n",
              "      <td>5405</td>\n",
              "      <td>17730</td>\n",
              "      <td>1.68°S 78.42°W / 1.68°S 78.42°W</td>\n",
              "      <td>Unknown</td>\n",
              "      <td>Mainland</td>\n",
              "      <td>[1.68, S, 78.42, W]</td>\n",
              "      <td>-1.68000</td>\n",
              "      <td>S</td>\n",
              "      <td>-78.420</td>\n",
              "      <td>W</td>\n",
              "    </tr>\n",
              "    <tr>\n",
              "      <th>1</th>\n",
              "      <td>Antisana</td>\n",
              "      <td>5753</td>\n",
              "      <td>18870</td>\n",
              "      <td>0°28′52″S 78°08′24″W﻿ / ﻿0.481°S 78.14°W</td>\n",
              "      <td>1802</td>\n",
              "      <td>Mainland</td>\n",
              "      <td>[0.481, S, 78.14, W]</td>\n",
              "      <td>-0.48100</td>\n",
              "      <td>S</td>\n",
              "      <td>-78.140</td>\n",
              "      <td>W</td>\n",
              "    </tr>\n",
              "    <tr>\n",
              "      <th>2</th>\n",
              "      <td>Atacazo</td>\n",
              "      <td>4463</td>\n",
              "      <td>14639</td>\n",
              "      <td>0°21′11″S 78°37′01″W﻿ / ﻿0.353°S 78.617°W</td>\n",
              "      <td>-</td>\n",
              "      <td>Mainland</td>\n",
              "      <td>[0.353, S, 78.617, W]</td>\n",
              "      <td>-0.35300</td>\n",
              "      <td>S</td>\n",
              "      <td>-78.617</td>\n",
              "      <td>W</td>\n",
              "    </tr>\n",
              "    <tr>\n",
              "      <th>3</th>\n",
              "      <td>Carihuairazo</td>\n",
              "      <td>5018</td>\n",
              "      <td>16463</td>\n",
              "      <td>01°24′25″S 78°45′00″W﻿ / ﻿1.40694°S 78.75000°W</td>\n",
              "      <td>Unknown</td>\n",
              "      <td>Mainland</td>\n",
              "      <td>[1.40694, S, 78.75000, W]</td>\n",
              "      <td>-1.40694</td>\n",
              "      <td>S</td>\n",
              "      <td>-78.750</td>\n",
              "      <td>W</td>\n",
              "    </tr>\n",
              "    <tr>\n",
              "      <th>4</th>\n",
              "      <td>Cayambe</td>\n",
              "      <td>5790</td>\n",
              "      <td>18991</td>\n",
              "      <td>0°01′44″N 77°59′10″W﻿ / ﻿0.029°N 77.986°W</td>\n",
              "      <td>1786</td>\n",
              "      <td>Mainland</td>\n",
              "      <td>[0.029, N, 77.986, W]</td>\n",
              "      <td>0.02900</td>\n",
              "      <td>N</td>\n",
              "      <td>-77.986</td>\n",
              "      <td>W</td>\n",
              "    </tr>\n",
              "  </tbody>\n",
              "</table>\n",
              "</div>"
            ],
            "text/plain": [
              "           Name Meters   Feet  ... Lat_char     Lon Lon_char\n",
              "0      El Altar   5405  17730  ...        S -78.420        W\n",
              "1      Antisana   5753  18870  ...        S -78.140        W\n",
              "2       Atacazo   4463  14639  ...        S -78.617        W\n",
              "3  Carihuairazo   5018  16463  ...        S -78.750        W\n",
              "4       Cayambe   5790  18991  ...        N -77.986        W\n",
              "\n",
              "[5 rows x 11 columns]"
            ]
          },
          "metadata": {
            "tags": []
          },
          "execution_count": 13
        }
      ]
    },
    {
      "cell_type": "code",
      "metadata": {
        "colab": {
          "base_uri": "https://localhost:8080/"
        },
        "id": "_NnMMKhC7KmQ",
        "outputId": "3fb191ed-f02f-4c92-8cf9-9a4fe97e05ba"
      },
      "source": [
        "#print([(a, b) for a, b in zip(ecu_volc['Lon'], ecu_volc['Lon_char'])])"
      ],
      "execution_count": 41,
      "outputs": [
        {
          "output_type": "stream",
          "text": [
            "[(-78.42, 'W'), (-78.14, 'W'), (-78.617, 'W'), (-78.75, 'W'), (-77.986, 'W'), (-78.25, 'W'), (-77.95083, 'W'), (-78.8175, 'W'), (-77.72, 'W'), (-78.34917, 'W'), (-78.436, 'W'), (-78.36389, 'W'), (-78.14, 'W'), (-78.714, 'W'), (-78.18, 'W'), (-78.613, 'W'), (-78.27, 'W'), (-78.617, 'W'), (-77.72, 'W'), (-78.48, 'W'), (-78.598, 'W'), (-78.367, 'W'), (-78.463, 'W'), (-78.9, 'W'), (-77.65, 'W'), (-78.53333, 'W'), (-78.34, 'W'), (-78.3665806, 'W'), (-77.58, 'W'), (-77.62, 'W'), (-78.613, 'W'), (-78.442, 'W'), (-78.33389, 'W'), (-91.12, 'W'), (-91.42, 'W'), (-91.28, 'W'), (-91.546, 'W'), (-91.55, 'W'), (-90.45, 'W'), (-86.15, 'W'), (-89.958, 'W'), (-90.47, 'W'), (-90.75, 'W'), (-89.5, 'W'), (-90.33, 'W'), (-90.77, 'W'), (-91.17, 'W'), (-91.35, 'W')]\n"
          ],
          "name": "stdout"
        }
      ]
    },
    {
      "cell_type": "code",
      "metadata": {
        "colab": {
          "base_uri": "https://localhost:8080/"
        },
        "id": "xh2Rw5h89W1O",
        "outputId": "0ff472b4-f907-452d-c824-800bf922e910"
      },
      "source": [
        "#Checking for missing values in the dataframe\n",
        "ecu_volc.isna().sum()"
      ],
      "execution_count": 14,
      "outputs": [
        {
          "output_type": "execute_result",
          "data": {
            "text/plain": [
              "Name             0\n",
              "Meters           0\n",
              "Feet             0\n",
              "Coordinates      0\n",
              "Last Eruption    1\n",
              "Category         0\n",
              "String_coord     0\n",
              "Lat              0\n",
              "Lat_char         0\n",
              "Lon              0\n",
              "Lon_char         0\n",
              "dtype: int64"
            ]
          },
          "metadata": {
            "tags": []
          },
          "execution_count": 14
        }
      ]
    },
    {
      "cell_type": "code",
      "metadata": {
        "colab": {
          "base_uri": "https://localhost:8080/",
          "height": 17
        },
        "id": "nreoycEFKnYz",
        "outputId": "ac74338b-0357-4414-ac78-929088d4b4d3"
      },
      "source": [
        "#Exporting to csv in local disk\n",
        "from google.colab import files\n",
        "ecu_volc.to_csv('volcanoes_ecuador.csv', index=False) #==> Excluding index from file\n",
        "files.download('volcanoes_ecuador.csv')"
      ],
      "execution_count": 15,
      "outputs": [
        {
          "output_type": "display_data",
          "data": {
            "application/javascript": [
              "\n",
              "    async function download(id, filename, size) {\n",
              "      if (!google.colab.kernel.accessAllowed) {\n",
              "        return;\n",
              "      }\n",
              "      const div = document.createElement('div');\n",
              "      const label = document.createElement('label');\n",
              "      label.textContent = `Downloading \"${filename}\": `;\n",
              "      div.appendChild(label);\n",
              "      const progress = document.createElement('progress');\n",
              "      progress.max = size;\n",
              "      div.appendChild(progress);\n",
              "      document.body.appendChild(div);\n",
              "\n",
              "      const buffers = [];\n",
              "      let downloaded = 0;\n",
              "\n",
              "      const channel = await google.colab.kernel.comms.open(id);\n",
              "      // Send a message to notify the kernel that we're ready.\n",
              "      channel.send({})\n",
              "\n",
              "      for await (const message of channel.messages) {\n",
              "        // Send a message to notify the kernel that we're ready.\n",
              "        channel.send({})\n",
              "        if (message.buffers) {\n",
              "          for (const buffer of message.buffers) {\n",
              "            buffers.push(buffer);\n",
              "            downloaded += buffer.byteLength;\n",
              "            progress.value = downloaded;\n",
              "          }\n",
              "        }\n",
              "      }\n",
              "      const blob = new Blob(buffers, {type: 'application/binary'});\n",
              "      const a = document.createElement('a');\n",
              "      a.href = window.URL.createObjectURL(blob);\n",
              "      a.download = filename;\n",
              "      div.appendChild(a);\n",
              "      a.click();\n",
              "      div.remove();\n",
              "    }\n",
              "  "
            ],
            "text/plain": [
              "<IPython.core.display.Javascript object>"
            ]
          },
          "metadata": {
            "tags": []
          }
        },
        {
          "output_type": "display_data",
          "data": {
            "application/javascript": [
              "download(\"download_7d7a8f57-3960-4dc2-96ff-adac48a082a5\", \"volcanoes_ecuador.csv\", 6815)"
            ],
            "text/plain": [
              "<IPython.core.display.Javascript object>"
            ]
          },
          "metadata": {
            "tags": []
          }
        }
      ]
    },
    {
      "cell_type": "markdown",
      "metadata": {
        "id": "86JGwllYLJLi"
      },
      "source": [
        "##Data Visualization"
      ]
    },
    {
      "cell_type": "code",
      "metadata": {
        "id": "nW8udlvZQXEF"
      },
      "source": [
        "#Remove previous versions of the uploaded file\n",
        "!rm volcanoes_ecuador.csv"
      ],
      "execution_count": null,
      "outputs": []
    },
    {
      "cell_type": "code",
      "metadata": {
        "id": "6b8UDhHDQXYn"
      },
      "source": [
        "#Uploading file from local drive\n",
        "from google.colab import files\n",
        "uploaded1 = files.upload()"
      ],
      "execution_count": null,
      "outputs": []
    },
    {
      "cell_type": "code",
      "metadata": {
        "id": "K4gXw90DQXYp"
      },
      "source": [
        "#Storing dataset in a Pandas Dataframe\n",
        "import io\n",
        "ecu_volc = pd.read_csv(io.BytesIO(uploaded1['volcanoes_ecuador.csv']))"
      ],
      "execution_count": null,
      "outputs": []
    }
  ]
}