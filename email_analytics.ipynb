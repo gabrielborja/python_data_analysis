{
  "nbformat": 4,
  "nbformat_minor": 0,
  "metadata": {
    "colab": {
      "name": "email_analytics.ipynb",
      "provenance": [],
      "collapsed_sections": [],
      "authorship_tag": "ABX9TyM/WNjFoBzZ+dApg0pfeO44",
      "include_colab_link": true
    },
    "kernelspec": {
      "name": "python3",
      "display_name": "Python 3"
    },
    "language_info": {
      "name": "python"
    }
  },
  "cells": [
    {
      "cell_type": "markdown",
      "metadata": {
        "id": "view-in-github",
        "colab_type": "text"
      },
      "source": [
        "<a href=\"https://colab.research.google.com/github/gabrielborja/python_data_analysis/blob/main/email_analytics.ipynb\" target=\"_parent\"><img src=\"https://colab.research.google.com/assets/colab-badge.svg\" alt=\"Open In Colab\"/></a>"
      ]
    },
    {
      "cell_type": "markdown",
      "metadata": {
        "id": "n039g-QF-jvi"
      },
      "source": [
        "#Working with mbox files"
      ]
    },
    {
      "cell_type": "markdown",
      "metadata": {
        "id": "BU2qSBF9-o3c"
      },
      "source": [
        "Message format <hr>\n",
        "The basic Internet message format used for email is defined by RFC 5322.\n",
        "Internet email messages consist of two sections, 'header' and 'body'. These are known as 'content'.\n",
        "The header is structured into fields such as From, To, CC, Subject, Date, and other information about the email.\n",
        "The body contains the message, as unstructured text, sometimes containing a signature block at the end. The header is separated from the body by a blank line.\n",
        "More information can be found [here](https://en.wikipedia.org/wiki/Email#Header_fields)"
      ]
    },
    {
      "cell_type": "markdown",
      "metadata": {
        "id": "sgzkv1LwjLIL"
      },
      "source": [
        "## Uploading initial packages and data"
      ]
    },
    {
      "cell_type": "code",
      "metadata": {
        "id": "QTRtRZcb-IyF"
      },
      "source": [
        "#Importing preliminary packages\n",
        "import numpy as np\n",
        "import pandas as pd\n",
        "import matplotlib.pyplot as plt\n",
        "import seaborn as sns"
      ],
      "execution_count": 2,
      "outputs": []
    },
    {
      "cell_type": "code",
      "metadata": {
        "id": "1Z4jxJjRRPLB"
      },
      "source": [
        "#Remove previous versions of the uploaded excel file\n",
        "!rm email_list.json"
      ],
      "execution_count": 3,
      "outputs": []
    },
    {
      "cell_type": "code",
      "metadata": {
        "colab": {
          "resources": {
            "http://localhost:8080/nbextensions/google.colab/files.js": {
              "data": "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",
              "ok": true,
              "headers": [
                [
                  "content-type",
                  "application/javascript"
                ]
              ],
              "status": 200,
              "status_text": ""
            }
          },
          "base_uri": "https://localhost:8080/",
          "height": 72
        },
        "id": "oen97ED1-rh-",
        "outputId": "5b6e7907-1d93-4ad5-9d37-1dbc441cdb90"
      },
      "source": [
        "#Uploading file from local drive\n",
        "from google.colab import files\n",
        "uploaded = files.upload()"
      ],
      "execution_count": 4,
      "outputs": [
        {
          "output_type": "display_data",
          "data": {
            "text/html": [
              "\n",
              "     <input type=\"file\" id=\"files-0680d9e4-713b-443c-a59c-bdf9f06d1646\" name=\"files[]\" multiple disabled\n",
              "        style=\"border:none\" />\n",
              "     <output id=\"result-0680d9e4-713b-443c-a59c-bdf9f06d1646\">\n",
              "      Upload widget is only available when the cell has been executed in the\n",
              "      current browser session. Please rerun this cell to enable.\n",
              "      </output>\n",
              "      <script src=\"/nbextensions/google.colab/files.js\"></script> "
            ],
            "text/plain": [
              "<IPython.core.display.HTML object>"
            ]
          },
          "metadata": {
            "tags": []
          }
        },
        {
          "output_type": "stream",
          "text": [
            "Saving email_list.json to email_list.json\n"
          ],
          "name": "stdout"
        }
      ]
    },
    {
      "cell_type": "code",
      "metadata": {
        "id": "03VoNwL0-3O6",
        "colab": {
          "base_uri": "https://localhost:8080/"
        },
        "outputId": "c5136a34-6353-478f-ef14-73cd8c4a7508"
      },
      "source": [
        "#Storing json in a Pandas Dataframe\n",
        "import io\n",
        "df = pd.read_json(io.BytesIO(uploaded['email_list.json']), encoding='utf-8')"
      ],
      "execution_count": 5,
      "outputs": [
        {
          "output_type": "stream",
          "text": [
            "/usr/local/lib/python3.7/dist-packages/dateutil/parser/_parser.py:1218: UnknownTimezoneWarning: tzname CDT identified but not understood.  Pass `tzinfos` argument in order to correctly return a timezone-aware datetime.  In a future version, this will raise an exception.\n",
            "  category=UnknownTimezoneWarning)\n"
          ],
          "name": "stderr"
        }
      ]
    },
    {
      "cell_type": "code",
      "metadata": {
        "colab": {
          "base_uri": "https://localhost:8080/"
        },
        "id": "id2layVwzGjs",
        "outputId": "5b12d5d4-5034-41cf-fb24-f8469f9ead34"
      },
      "source": [
        "#Checking the dataframe info\n",
        "df.info()"
      ],
      "execution_count": 6,
      "outputs": [
        {
          "output_type": "stream",
          "text": [
            "<class 'pandas.core.frame.DataFrame'>\n",
            "RangeIndex: 1480 entries, 0 to 1479\n",
            "Data columns (total 3 columns):\n",
            " #   Column   Non-Null Count  Dtype \n",
            "---  ------   --------------  ----- \n",
            " 0   Date     1480 non-null   object\n",
            " 1   From     1480 non-null   object\n",
            " 2   Subject  1480 non-null   object\n",
            "dtypes: object(3)\n",
            "memory usage: 34.8+ KB\n"
          ],
          "name": "stdout"
        }
      ]
    },
    {
      "cell_type": "markdown",
      "metadata": {
        "id": "0tUwQebSzdpR"
      },
      "source": [
        "##Data cleaning and manipulation"
      ]
    },
    {
      "cell_type": "code",
      "metadata": {
        "id": "sSffx_-59BsB"
      },
      "source": [
        "#Create a copy of the dataframe to perform data cleaning and manipulation\n",
        "emails = df.copy()"
      ],
      "execution_count": 7,
      "outputs": []
    },
    {
      "cell_type": "code",
      "metadata": {
        "id": "tEEnK8J_82yK"
      },
      "source": [
        "#Replace Unknown Timezones: i.e. CDT, CST flaged as warnings by read_json (UnknownTimezoneWarning)\n",
        "#df[df['Date'].str.contains('CDT|CST', regex=True)] #==>Check how many rows contain unknown timezone\n",
        "emails['Date'] = emails['Date'].replace(to_replace=r'CDT|CST', value='UTC', regex=True)"
      ],
      "execution_count": 8,
      "outputs": []
    },
    {
      "cell_type": "code",
      "metadata": {
        "id": "Yho_PLqbzpaI"
      },
      "source": [
        "#Parsing strings to datetime object and converting to Oslo time zone\n",
        "emails = emails.assign(Event = emails['Date'])\n",
        "emails['Event'] = pd.to_datetime(emails['Date'], errors='coerce', utc=True, format='%Y-%m-%d %H:%M:%S', infer_datetime_format=True).dt.tz_convert('Europe/Oslo')"
      ],
      "execution_count": 9,
      "outputs": []
    },
    {
      "cell_type": "code",
      "metadata": {
        "id": "lZvyDd0bzQrv"
      },
      "source": [
        "#Checking the new dataframe head\n",
        "emails.head()"
      ],
      "execution_count": null,
      "outputs": []
    },
    {
      "cell_type": "markdown",
      "metadata": {
        "id": "7NqVFVN2g4HC"
      },
      "source": [
        "Encode and Decode MIME <hr>\n",
        "Many times we need to deal with data which not always has the regular ASCII characters. For example, an email in a different language other than English. Python has mechanism to deal with such characters by using MIME (Multipurpose Internet Mail Extensions) based module.\n",
        "\n",
        "Quoted-printable in headers <hr>\n",
        "The character sequence =?UTF-8?Q? is called quoted-printable, and is legitimately used to encode UTF-8 characters in internet headers, since they can contain only ASCII (rfc1342). Quoted-printable is particularly useful for when the content is mostly ASCII, so for example Chris España could be encoded as =?UTF-8?Q?Chris Espa=F1a?=\n",
        "\n"
      ]
    },
    {
      "cell_type": "code",
      "metadata": {
        "id": "aO1WPMJVoM8L"
      },
      "source": [
        "#Import encode and decode MIME quoted-printable package\n",
        "import quopri"
      ],
      "execution_count": 11,
      "outputs": []
    },
    {
      "cell_type": "code",
      "metadata": {
        "id": "EDbivs-Vda4F"
      },
      "source": [
        "#Crete function to Transform From and Subject columns from ASCII (quoted-printable) to UTF-8\n",
        "\n",
        "def parse_quoted_printable(df):\n",
        "  \"\"\"Parse from ASCII (quoted-printable) to UTF-8\"\"\"\n",
        "  \n",
        "  #Split data to lists\n",
        "  l1_from = df['From'].copy()\n",
        "  l2_subj = df['Subject'].copy()\n",
        "\n",
        "  #Create function to decode string\n",
        "  def decode_quoted(x):\n",
        "    try:\n",
        "      return quopri.decodestring(x).decode(encoding='utf-8')\n",
        "    except UnicodeDecodeError:\n",
        "      return x\n",
        "\n",
        "  #Decode each list with quopri\n",
        "  l1_from = [decode_quoted(i) for i in l1_from]\n",
        "  l2_subj = [decode_quoted(i) for i in l2_subj]\n",
        "\n",
        "  #Return dataframe with converted columns to UTF-8\n",
        "  df = df.assign(From = l1_from,\n",
        "                 Subject = l2_subj)\n",
        "\n",
        "  return df\n",
        "#emails = emails.assign(From = quopri.decodestring(emails['From']).decode(encoding='utf-8'),\n",
        "#                       Subject = quopri.decodestring(emails['Subject']).decode(encoding='utf-8'))"
      ],
      "execution_count": 19,
      "outputs": []
    },
    {
      "cell_type": "code",
      "metadata": {
        "id": "Tdgurp-EzfeJ"
      },
      "source": [
        "#Apply function to parse from ASCII (quoted-printable) to UTF-8\n",
        "emails = parse_quoted_printable(emails)"
      ],
      "execution_count": 20,
      "outputs": []
    },
    {
      "cell_type": "code",
      "metadata": {
        "id": "P99e9WPzdmp1"
      },
      "source": [
        "#Check dataframe after ASCII text transformation\n",
        "emails.head(10)"
      ],
      "execution_count": null,
      "outputs": []
    },
    {
      "cell_type": "code",
      "metadata": {
        "colab": {
          "base_uri": "https://localhost:8080/"
        },
        "id": "qLgVKy0v3mnf",
        "outputId": "43e6c582-421b-494c-e27b-25d6166059ba"
      },
      "source": [
        "#Checking how many values start with text '=?UTF-8?Q?' in 'From' column\n",
        "my_utf = emails[emails['From'].str.startswith('=?')]['From'].to_list()\n",
        "my_utf = [i[:10] for i in my_utf]\n",
        "pd.Series(my_utf).unique()"
      ],
      "execution_count": 54,
      "outputs": [
        {
          "output_type": "execute_result",
          "data": {
            "text/plain": [
              "array(['=?utf-8?Q?', '=?UTF-8?Q?', '=?UTF-8?B?', '=?utf-8?B?',\n",
              "       '=?iso-8859'], dtype=object)"
            ]
          },
          "metadata": {
            "tags": []
          },
          "execution_count": 54
        }
      ]
    },
    {
      "cell_type": "code",
      "metadata": {
        "colab": {
          "base_uri": "https://localhost:8080/"
        },
        "id": "3K5y2_0c77Cb",
        "outputId": "544d2746-e060-48de-dd50-947cef10c32c"
      },
      "source": [
        "#Checking how many unique first character are in 'From' column\n",
        "begins = emails['From'].to_list()\n",
        "begins = [i[:1] for i in begins]\n",
        "pd.Series(begins).unique()"
      ],
      "execution_count": 55,
      "outputs": [
        {
          "output_type": "execute_result",
          "data": {
            "text/plain": [
              "array(['=', 'G', '\"', 'h', 'Y', 'R', 'A', 'B', 'I', 'n', 'L', 'F', 'b',\n",
              "       'D', 'M', 'T', 'd', 'E', 'S', '<', 'H', 'C', 'Q', 'J', 'N', 'j',\n",
              "       's', 'K', 'U', 'g', 'i', 'O', 'z', '', 'X', 'P', 'V', 'v', 'f',\n",
              "       'W', 'l', 'a'], dtype=object)"
            ]
          },
          "metadata": {
            "tags": []
          },
          "execution_count": 55
        }
      ]
    },
    {
      "cell_type": "code",
      "metadata": {
        "id": "wPcCDkk1133N"
      },
      "source": [
        "#Use regex to replace text starting with =?utf-8?Q? =?UTF-8?Q? =?UTF-8?B? =?utf-8?B? =?iso-8859\n",
        "emails['From'] = emails['From'].replace(to_replace='=\\?\\w*-\\w[\\?|\\w]\\w[\\?|\\w]', value='', regex=True)\n",
        "emails['Subject'] = emails['Subject'].replace(to_replace='=\\?\\w*-\\w[\\?|\\w]\\w[\\?|\\w]', value='', regex=True)\n",
        "#emails[emails['From'].str.contains('=\\?\\w*-\\w[\\?|\\w]\\w[\\?|\\w]', regex=True)]"
      ],
      "execution_count": 59,
      "outputs": []
    },
    {
      "cell_type": "code",
      "metadata": {
        "id": "pcLud6UfBlKq"
      },
      "source": [
        "#Use regex to replace text containing =?=\n",
        "emails['From'] = emails['From'].replace(to_replace='=*\\?=', value='', regex=True)\n",
        "emails['Subject'] = emails['Subject'].replace(to_replace='=*\\?=', value='', regex=True)\n",
        "#emails[emails['Subject'].str.contains('=*\\?=', regex=True)]"
      ],
      "execution_count": 72,
      "outputs": []
    },
    {
      "cell_type": "code",
      "metadata": {
        "id": "tiYivu3xCAe5"
      },
      "source": [
        "emails"
      ],
      "execution_count": null,
      "outputs": []
    },
    {
      "cell_type": "code",
      "metadata": {
        "colab": {
          "base_uri": "https://localhost:8080/",
          "height": 35
        },
        "id": "zOlTDZmS_q5r",
        "outputId": "7ed1305e-3153-45be-8c48-4a685ffce9cb"
      },
      "source": [
        "emails['From'][4]"
      ],
      "execution_count": 65,
      "outputs": [
        {
          "output_type": "execute_result",
          "data": {
            "application/vnd.google.colaboratory.intrinsic+json": {
              "type": "string"
            },
            "text/plain": [
              "'\"Duolingo\" <hello@duolingo.com>'"
            ]
          },
          "metadata": {
            "tags": []
          },
          "execution_count": 65
        }
      ]
    },
    {
      "cell_type": "code",
      "metadata": {
        "colab": {
          "base_uri": "https://localhost:8080/"
        },
        "id": "ULOfZFm52Bfl",
        "outputId": "6a35de5f-47f4-45e5-8e79-9d57867598ee"
      },
      "source": [
        "#Checking dataframe info after formatting dates\n",
        "df.info()"
      ],
      "execution_count": null,
      "outputs": [
        {
          "output_type": "stream",
          "text": [
            "<class 'pandas.core.frame.DataFrame'>\n",
            "RangeIndex: 1480 entries, 0 to 1479\n",
            "Data columns (total 4 columns):\n",
            " #   Column   Non-Null Count  Dtype                      \n",
            "---  ------   --------------  -----                      \n",
            " 0   Date     1480 non-null   object                     \n",
            " 1   From     1480 non-null   object                     \n",
            " 2   Subject  1480 non-null   object                     \n",
            " 3   Event    1469 non-null   datetime64[ns, Europe/Oslo]\n",
            "dtypes: datetime64[ns, Europe/Oslo](1), object(3)\n",
            "memory usage: 46.4+ KB\n"
          ],
          "name": "stdout"
        }
      ]
    },
    {
      "cell_type": "code",
      "metadata": {
        "colab": {
          "base_uri": "https://localhost:8080/",
          "height": 390
        },
        "id": "xqbpvecJHbCh",
        "outputId": "32943cc5-1002-46e4-ece8-ad0372a699f2"
      },
      "source": [
        "#Checking invalid timestamps\n",
        "df[df['Event'].isnull()]"
      ],
      "execution_count": null,
      "outputs": [
        {
          "output_type": "execute_result",
          "data": {
            "text/html": [
              "<div>\n",
              "<style scoped>\n",
              "    .dataframe tbody tr th:only-of-type {\n",
              "        vertical-align: middle;\n",
              "    }\n",
              "\n",
              "    .dataframe tbody tr th {\n",
              "        vertical-align: top;\n",
              "    }\n",
              "\n",
              "    .dataframe thead th {\n",
              "        text-align: right;\n",
              "    }\n",
              "</style>\n",
              "<table border=\"1\" class=\"dataframe\">\n",
              "  <thead>\n",
              "    <tr style=\"text-align: right;\">\n",
              "      <th></th>\n",
              "      <th>Date</th>\n",
              "      <th>From</th>\n",
              "      <th>Subject</th>\n",
              "      <th>Event</th>\n",
              "    </tr>\n",
              "  </thead>\n",
              "  <tbody>\n",
              "    <tr>\n",
              "      <th>240</th>\n",
              "      <td>Tue, 18 May 2021 09:41:04 -0500 (GMT-05:00)</td>\n",
              "      <td>servicios@discover.com.ec</td>\n",
              "      <td>Agradecemos tu pago</td>\n",
              "      <td>NaT</td>\n",
              "    </tr>\n",
              "    <tr>\n",
              "      <th>351</th>\n",
              "      <td>Wed, 21 Oct 2020 05:00:41 -0500 (-05)</td>\n",
              "      <td>no-reply@biodimed.com</td>\n",
              "      <td>=?UTF-8?Q?Feliz_Cumplea=C3=B1os_EDUARDO_BORJA?=</td>\n",
              "      <td>NaT</td>\n",
              "    </tr>\n",
              "    <tr>\n",
              "      <th>384</th>\n",
              "      <td>Wed, 14 Oct 2020 13:09:24 -0500 (GMT-05:00)</td>\n",
              "      <td>servicios@dinersclub.com.ec</td>\n",
              "      <td>Envio Clave Temporal</td>\n",
              "      <td>NaT</td>\n",
              "    </tr>\n",
              "    <tr>\n",
              "      <th>967</th>\n",
              "      <td>Wed, 14 Oct 2020 13:10:22 -0500 (GMT-05:00)</td>\n",
              "      <td>servicios@interdin.com.ec</td>\n",
              "      <td>=?ISO-8859-1?Q?Recuperaci=F3n_de_contrase=F1a?=</td>\n",
              "      <td>NaT</td>\n",
              "    </tr>\n",
              "    <tr>\n",
              "      <th>1050</th>\n",
              "      <td>Fri, 20 Mar 2020 20:05:00 -0500 (-05)</td>\n",
              "      <td>no-reply@biodimed.com</td>\n",
              "      <td>=?UTF-8?Q?BOLET=C3=8DN_2._Preguntas_y_respues?...</td>\n",
              "      <td>NaT</td>\n",
              "    </tr>\n",
              "    <tr>\n",
              "      <th>1062</th>\n",
              "      <td>Wed, 18 Dec 2019 07:34:46 -0500 (GMT-05:00)</td>\n",
              "      <td>servicios@interdin.com.ec</td>\n",
              "      <td>Agradecemos su pago</td>\n",
              "      <td>NaT</td>\n",
              "    </tr>\n",
              "    <tr>\n",
              "      <th>1254</th>\n",
              "      <td>Sat, 23 Nov 2019 08:01:25 -0500 (GMT-05:00)</td>\n",
              "      <td>servicios@discover.com.ec</td>\n",
              "      <td>Agradecemos tu pago</td>\n",
              "      <td>NaT</td>\n",
              "    </tr>\n",
              "    <tr>\n",
              "      <th>1290</th>\n",
              "      <td>Sat, 21 Mar 2020 18:00:48 -0500 (-05)</td>\n",
              "      <td>no-reply@biodimed.com</td>\n",
              "      <td>=?UTF-8?Q?BOLET=C3=8DN_3._Preguntas_y_respuest...</td>\n",
              "      <td>NaT</td>\n",
              "    </tr>\n",
              "    <tr>\n",
              "      <th>1338</th>\n",
              "      <td>Tue, 26 May 2020 08:00:11 -0500 (GMT-05:00)</td>\n",
              "      <td>servicios@discover.com.ec</td>\n",
              "      <td>Agradecemos tu pago</td>\n",
              "      <td>NaT</td>\n",
              "    </tr>\n",
              "    <tr>\n",
              "      <th>1443</th>\n",
              "      <td>Thu, 10 Oct 2019 04:55:06 -0500 (GMT-05:00)</td>\n",
              "      <td>servicios@titanium.com.ec</td>\n",
              "      <td>=?ISO-8859-1?Q?Notificaci=F3n_de_Consumos?=</td>\n",
              "      <td>NaT</td>\n",
              "    </tr>\n",
              "    <tr>\n",
              "      <th>1456</th>\n",
              "      <td>Sat, 23 Nov 2019 07:33:03 -0500 (GMT-05:00)</td>\n",
              "      <td>servicios@interdin.com.ec</td>\n",
              "      <td>Agradecemos su pago</td>\n",
              "      <td>NaT</td>\n",
              "    </tr>\n",
              "  </tbody>\n",
              "</table>\n",
              "</div>"
            ],
            "text/plain": [
              "                                             Date  ... Event\n",
              "240   Tue, 18 May 2021 09:41:04 -0500 (GMT-05:00)  ...   NaT\n",
              "351         Wed, 21 Oct 2020 05:00:41 -0500 (-05)  ...   NaT\n",
              "384   Wed, 14 Oct 2020 13:09:24 -0500 (GMT-05:00)  ...   NaT\n",
              "967   Wed, 14 Oct 2020 13:10:22 -0500 (GMT-05:00)  ...   NaT\n",
              "1050        Fri, 20 Mar 2020 20:05:00 -0500 (-05)  ...   NaT\n",
              "1062  Wed, 18 Dec 2019 07:34:46 -0500 (GMT-05:00)  ...   NaT\n",
              "1254  Sat, 23 Nov 2019 08:01:25 -0500 (GMT-05:00)  ...   NaT\n",
              "1290        Sat, 21 Mar 2020 18:00:48 -0500 (-05)  ...   NaT\n",
              "1338  Tue, 26 May 2020 08:00:11 -0500 (GMT-05:00)  ...   NaT\n",
              "1443  Thu, 10 Oct 2019 04:55:06 -0500 (GMT-05:00)  ...   NaT\n",
              "1456  Sat, 23 Nov 2019 07:33:03 -0500 (GMT-05:00)  ...   NaT\n",
              "\n",
              "[11 rows x 4 columns]"
            ]
          },
          "metadata": {
            "tags": []
          },
          "execution_count": 10
        }
      ]
    },
    {
      "cell_type": "code",
      "metadata": {
        "colab": {
          "base_uri": "https://localhost:8080/"
        },
        "id": "64hznNUw2c_J",
        "outputId": "9a566b68-58e5-48d2-8170-2ff4bfe0cd4a"
      },
      "source": [
        "wrong_date = [d for d in df['Date'] if '(' in d]\n",
        "wrong_date[:11]"
      ],
      "execution_count": null,
      "outputs": [
        {
          "output_type": "execute_result",
          "data": {
            "text/plain": [
              "['Tue, 25 May 2021 17:14:59 +0000 (UTC)',\n",
              " 'Thu, 03 Jun 2021 05:48:41 +0000 (UTC)',\n",
              " 'Sun, 6 Jun 2021 11:41:03 -0500 (ECT)',\n",
              " 'Sun, 6 Jun 2021 09:02:17 -0500 (ECT)',\n",
              " 'Sun, 6 Jun 2021 09:01:17 -0500 (ECT)',\n",
              " 'Sun, 6 Jun 2021 08:57:38 -0500 (ECT)',\n",
              " 'Fri, 21 May 2021 05:52:58 +0000 (UTC)',\n",
              " 'Thu, 20 May 2021 20:12:50 +0000 (UTC)',\n",
              " 'Thu, 03 Jun 2021 17:16:37 +0000 (UTC)',\n",
              " 'Fri, 7 May 2021 23:51:12 +0000 (UTC)',\n",
              " 'Wed, 5 May 2021 23:19:08 +0000 (UTC)']"
            ]
          },
          "metadata": {
            "tags": []
          },
          "execution_count": 74
        }
      ]
    }
  ]
}