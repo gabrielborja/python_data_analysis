{
  "nbformat": 4,
  "nbformat_minor": 0,
  "metadata": {
    "colab": {
      "name": "real_state_analytics.ipynb",
      "provenance": [],
      "authorship_tag": "ABX9TyOiUTwvBP1M0Ib+swrTgIFH",
      "include_colab_link": true
    },
    "kernelspec": {
      "name": "python3",
      "display_name": "Python 3"
    },
    "language_info": {
      "name": "python"
    },
    "widgets": {
      "application/vnd.jupyter.widget-state+json": {
        "e87e1178612b4d8f8558a776c7609bd3": {
          "model_module": "@jupyter-widgets/controls",
          "model_name": "VBoxModel",
          "state": {
            "_view_name": "VBoxView",
            "_dom_classes": [
              "widget-interact"
            ],
            "_model_name": "VBoxModel",
            "_view_module": "@jupyter-widgets/controls",
            "_model_module_version": "1.5.0",
            "_view_count": null,
            "_view_module_version": "1.5.0",
            "box_style": "",
            "layout": "IPY_MODEL_ca357124379f4560ac896b5af0d3227c",
            "_model_module": "@jupyter-widgets/controls",
            "children": [
              "IPY_MODEL_75e4e910e4de4cc69ff4e33d4be7202b",
              "IPY_MODEL_f4afb9b298cb406888aae53bbe4cbb4b"
            ]
          }
        },
        "ca357124379f4560ac896b5af0d3227c": {
          "model_module": "@jupyter-widgets/base",
          "model_name": "LayoutModel",
          "state": {
            "_view_name": "LayoutView",
            "grid_template_rows": null,
            "right": null,
            "justify_content": null,
            "_view_module": "@jupyter-widgets/base",
            "overflow": null,
            "_model_module_version": "1.2.0",
            "_view_count": null,
            "flex_flow": null,
            "width": null,
            "min_width": null,
            "border": null,
            "align_items": null,
            "bottom": null,
            "_model_module": "@jupyter-widgets/base",
            "top": null,
            "grid_column": null,
            "overflow_y": null,
            "overflow_x": null,
            "grid_auto_flow": null,
            "grid_area": null,
            "grid_template_columns": null,
            "flex": null,
            "_model_name": "LayoutModel",
            "justify_items": null,
            "grid_row": null,
            "max_height": null,
            "align_content": null,
            "visibility": null,
            "align_self": null,
            "height": null,
            "min_height": null,
            "padding": null,
            "grid_auto_rows": null,
            "grid_gap": null,
            "max_width": null,
            "order": null,
            "_view_module_version": "1.2.0",
            "grid_template_areas": null,
            "object_position": null,
            "object_fit": null,
            "grid_auto_columns": null,
            "margin": null,
            "display": null,
            "left": null
          }
        },
        "75e4e910e4de4cc69ff4e33d4be7202b": {
          "model_module": "@jupyter-widgets/controls",
          "model_name": "DropdownModel",
          "state": {
            "_options_labels": [
              "1",
              "2",
              "3"
            ],
            "_view_name": "DropdownView",
            "style": "IPY_MODEL_daa278f7f4844767bd377815f79583e1",
            "_dom_classes": [],
            "description": "rooms",
            "_model_name": "DropdownModel",
            "index": 0,
            "_view_module": "@jupyter-widgets/controls",
            "_model_module_version": "1.5.0",
            "_view_count": null,
            "disabled": false,
            "_view_module_version": "1.5.0",
            "description_tooltip": null,
            "_model_module": "@jupyter-widgets/controls",
            "layout": "IPY_MODEL_1944b23c8a5d429d8557e5b80a9df550"
          }
        },
        "f4afb9b298cb406888aae53bbe4cbb4b": {
          "model_module": "@jupyter-widgets/output",
          "model_name": "OutputModel",
          "state": {
            "_view_name": "OutputView",
            "msg_id": "",
            "_dom_classes": [],
            "_model_name": "OutputModel",
            "outputs": [
              {
                "output_type": "display_data",
                "metadata": {
                  "tags": []
                },
                "image/png": "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\n",
                "text/plain": "<Figure size 864x288 with 1 Axes>"
              }
            ],
            "_view_module": "@jupyter-widgets/output",
            "_model_module_version": "1.0.0",
            "_view_count": null,
            "_view_module_version": "1.0.0",
            "layout": "IPY_MODEL_5d3a90b110b9491c97902be95ba6646a",
            "_model_module": "@jupyter-widgets/output"
          }
        },
        "daa278f7f4844767bd377815f79583e1": {
          "model_module": "@jupyter-widgets/controls",
          "model_name": "DescriptionStyleModel",
          "state": {
            "_view_name": "StyleView",
            "_model_name": "DescriptionStyleModel",
            "description_width": "",
            "_view_module": "@jupyter-widgets/base",
            "_model_module_version": "1.5.0",
            "_view_count": null,
            "_view_module_version": "1.2.0",
            "_model_module": "@jupyter-widgets/controls"
          }
        },
        "1944b23c8a5d429d8557e5b80a9df550": {
          "model_module": "@jupyter-widgets/base",
          "model_name": "LayoutModel",
          "state": {
            "_view_name": "LayoutView",
            "grid_template_rows": null,
            "right": null,
            "justify_content": null,
            "_view_module": "@jupyter-widgets/base",
            "overflow": null,
            "_model_module_version": "1.2.0",
            "_view_count": null,
            "flex_flow": null,
            "width": null,
            "min_width": null,
            "border": null,
            "align_items": null,
            "bottom": null,
            "_model_module": "@jupyter-widgets/base",
            "top": null,
            "grid_column": null,
            "overflow_y": null,
            "overflow_x": null,
            "grid_auto_flow": null,
            "grid_area": null,
            "grid_template_columns": null,
            "flex": null,
            "_model_name": "LayoutModel",
            "justify_items": null,
            "grid_row": null,
            "max_height": null,
            "align_content": null,
            "visibility": null,
            "align_self": null,
            "height": null,
            "min_height": null,
            "padding": null,
            "grid_auto_rows": null,
            "grid_gap": null,
            "max_width": null,
            "order": null,
            "_view_module_version": "1.2.0",
            "grid_template_areas": null,
            "object_position": null,
            "object_fit": null,
            "grid_auto_columns": null,
            "margin": null,
            "display": null,
            "left": null
          }
        },
        "5d3a90b110b9491c97902be95ba6646a": {
          "model_module": "@jupyter-widgets/base",
          "model_name": "LayoutModel",
          "state": {
            "_view_name": "LayoutView",
            "grid_template_rows": null,
            "right": null,
            "justify_content": null,
            "_view_module": "@jupyter-widgets/base",
            "overflow": null,
            "_model_module_version": "1.2.0",
            "_view_count": null,
            "flex_flow": null,
            "width": null,
            "min_width": null,
            "border": null,
            "align_items": null,
            "bottom": null,
            "_model_module": "@jupyter-widgets/base",
            "top": null,
            "grid_column": null,
            "overflow_y": null,
            "overflow_x": null,
            "grid_auto_flow": null,
            "grid_area": null,
            "grid_template_columns": null,
            "flex": null,
            "_model_name": "LayoutModel",
            "justify_items": null,
            "grid_row": null,
            "max_height": null,
            "align_content": null,
            "visibility": null,
            "align_self": null,
            "height": null,
            "min_height": null,
            "padding": null,
            "grid_auto_rows": null,
            "grid_gap": null,
            "max_width": null,
            "order": null,
            "_view_module_version": "1.2.0",
            "grid_template_areas": null,
            "object_position": null,
            "object_fit": null,
            "grid_auto_columns": null,
            "margin": null,
            "display": null,
            "left": null
          }
        },
        "c5473b49fa79439dafcd06233d4aaf35": {
          "model_module": "@jupyter-widgets/controls",
          "model_name": "VBoxModel",
          "state": {
            "_view_name": "VBoxView",
            "_dom_classes": [
              "widget-interact"
            ],
            "_model_name": "VBoxModel",
            "_view_module": "@jupyter-widgets/controls",
            "_model_module_version": "1.5.0",
            "_view_count": null,
            "_view_module_version": "1.5.0",
            "box_style": "",
            "layout": "IPY_MODEL_14c6f70544794c9d82f2a6facfff0332",
            "_model_module": "@jupyter-widgets/controls",
            "children": [
              "IPY_MODEL_f405467e4b7048668725511df41e40c7",
              "IPY_MODEL_71d4ab4ffe814e829a4e29c2235cac41",
              "IPY_MODEL_843849749b70452e9e9f048e5ccd54ba"
            ]
          }
        },
        "14c6f70544794c9d82f2a6facfff0332": {
          "model_module": "@jupyter-widgets/base",
          "model_name": "LayoutModel",
          "state": {
            "_view_name": "LayoutView",
            "grid_template_rows": null,
            "right": null,
            "justify_content": null,
            "_view_module": "@jupyter-widgets/base",
            "overflow": null,
            "_model_module_version": "1.2.0",
            "_view_count": null,
            "flex_flow": null,
            "width": null,
            "min_width": null,
            "border": null,
            "align_items": null,
            "bottom": null,
            "_model_module": "@jupyter-widgets/base",
            "top": null,
            "grid_column": null,
            "overflow_y": null,
            "overflow_x": null,
            "grid_auto_flow": null,
            "grid_area": null,
            "grid_template_columns": null,
            "flex": null,
            "_model_name": "LayoutModel",
            "justify_items": null,
            "grid_row": null,
            "max_height": null,
            "align_content": null,
            "visibility": null,
            "align_self": null,
            "height": null,
            "min_height": null,
            "padding": null,
            "grid_auto_rows": null,
            "grid_gap": null,
            "max_width": null,
            "order": null,
            "_view_module_version": "1.2.0",
            "grid_template_areas": null,
            "object_position": null,
            "object_fit": null,
            "grid_auto_columns": null,
            "margin": null,
            "display": null,
            "left": null
          }
        },
        "f405467e4b7048668725511df41e40c7": {
          "model_module": "@jupyter-widgets/controls",
          "model_name": "DropdownModel",
          "state": {
            "_options_labels": [
              "2020",
              "2021"
            ],
            "_view_name": "DropdownView",
            "style": "IPY_MODEL_cd53cbd615914b528ec31747d1da6b3c",
            "_dom_classes": [],
            "description": "year",
            "_model_name": "DropdownModel",
            "index": 1,
            "_view_module": "@jupyter-widgets/controls",
            "_model_module_version": "1.5.0",
            "_view_count": null,
            "disabled": false,
            "_view_module_version": "1.5.0",
            "description_tooltip": null,
            "_model_module": "@jupyter-widgets/controls",
            "layout": "IPY_MODEL_38be473022ea423cbf6505c3daa5705f"
          }
        },
        "71d4ab4ffe814e829a4e29c2235cac41": {
          "model_module": "@jupyter-widgets/controls",
          "model_name": "DropdownModel",
          "state": {
            "_options_labels": [
              "1",
              "2",
              "3"
            ],
            "_view_name": "DropdownView",
            "style": "IPY_MODEL_0da98d90b63144d796b2562ca02f51f0",
            "_dom_classes": [],
            "description": "rooms",
            "_model_name": "DropdownModel",
            "index": 1,
            "_view_module": "@jupyter-widgets/controls",
            "_model_module_version": "1.5.0",
            "_view_count": null,
            "disabled": false,
            "_view_module_version": "1.5.0",
            "description_tooltip": null,
            "_model_module": "@jupyter-widgets/controls",
            "layout": "IPY_MODEL_398a7b9de1de48648509e3309da193d8"
          }
        },
        "843849749b70452e9e9f048e5ccd54ba": {
          "model_module": "@jupyter-widgets/output",
          "model_name": "OutputModel",
          "state": {
            "_view_name": "OutputView",
            "msg_id": "",
            "_dom_classes": [],
            "_model_name": "OutputModel",
            "outputs": [
              {
                "output_type": "display_data",
                "metadata": {
                  "tags": []
                },
                "text/html": "<html>\n<head><meta charset=\"utf-8\" /></head>\n<body>\n    <div>            <script src=\"https://cdnjs.cloudflare.com/ajax/libs/mathjax/2.7.5/MathJax.js?config=TeX-AMS-MML_SVG\"></script><script type=\"text/javascript\">if (window.MathJax) {MathJax.Hub.Config({SVG: {font: \"STIX-Web\"}});}</script>                <script type=\"text/javascript\">window.PlotlyConfig = {MathJaxConfig: 'local'};</script>\n        <script src=\"https://cdn.plot.ly/plotly-2.2.0.min.js\"></script>                <div id=\"e27f9f17-4409-4d64-b080-f95dbdf55dd0\" class=\"plotly-graph-div\" style=\"height:400px; width:900px;\"></div>            <script type=\"text/javascript\">                                    window.PLOTLYENV=window.PLOTLYENV || {};                                    if (document.getElementById(\"e27f9f17-4409-4d64-b080-f95dbdf55dd0\")) {                    Plotly.newPlot(                        \"e27f9f17-4409-4d64-b080-f95dbdf55dd0\",                        [{\"alignmentgroup\":\"True\",\"hovertemplate\":\"month=%{x}<br>price=%{y}<extra></extra>\",\"legendgroup\":\"\",\"marker\":{\"color\":\"#636efa\",\"pattern\":{\"shape\":\"\"}},\"name\":\"\",\"offsetgroup\":\"\",\"orientation\":\"v\",\"showlegend\":false,\"textposition\":\"auto\",\"type\":\"bar\",\"x\":[1,2,3,4,5,6,7,9,10,11,12],\"xaxis\":\"x\",\"y\":[153148.76923076922,154538.5,164647.14285714287,146074.14285714287,143387.66666666666,134153.875,144890.4705882353,null,null,null,null],\"yaxis\":\"y\"}],                        {\"barmode\":\"relative\",\"height\":400,\"legend\":{\"tracegroupgap\":0},\"template\":{\"data\":{\"bar\":[{\"error_x\":{\"color\":\"#2a3f5f\"},\"error_y\":{\"color\":\"#2a3f5f\"},\"marker\":{\"line\":{\"color\":\"#E5ECF6\",\"width\":0.5},\"pattern\":{\"fillmode\":\"overlay\",\"size\":10,\"solidity\":0.2}},\"type\":\"bar\"}],\"barpolar\":[{\"marker\":{\"line\":{\"color\":\"#E5ECF6\",\"width\":0.5},\"pattern\":{\"fillmode\":\"overlay\",\"size\":10,\"solidity\":0.2}},\"type\":\"barpolar\"}],\"carpet\":[{\"aaxis\":{\"endlinecolor\":\"#2a3f5f\",\"gridcolor\":\"white\",\"linecolor\":\"white\",\"minorgridcolor\":\"white\",\"startlinecolor\":\"#2a3f5f\"},\"baxis\":{\"endlinecolor\":\"#2a3f5f\",\"gridcolor\":\"white\",\"linecolor\":\"white\",\"minorgridcolor\":\"white\",\"startlinecolor\":\"#2a3f5f\"},\"type\":\"carpet\"}],\"choropleth\":[{\"colorbar\":{\"outlinewidth\":0,\"ticks\":\"\"},\"type\":\"choropleth\"}],\"contour\":[{\"colorbar\":{\"outlinewidth\":0,\"ticks\":\"\"},\"colorscale\":[[0.0,\"#0d0887\"],[0.1111111111111111,\"#46039f\"],[0.2222222222222222,\"#7201a8\"],[0.3333333333333333,\"#9c179e\"],[0.4444444444444444,\"#bd3786\"],[0.5555555555555556,\"#d8576b\"],[0.6666666666666666,\"#ed7953\"],[0.7777777777777778,\"#fb9f3a\"],[0.8888888888888888,\"#fdca26\"],[1.0,\"#f0f921\"]],\"type\":\"contour\"}],\"contourcarpet\":[{\"colorbar\":{\"outlinewidth\":0,\"ticks\":\"\"},\"type\":\"contourcarpet\"}],\"heatmap\":[{\"colorbar\":{\"outlinewidth\":0,\"ticks\":\"\"},\"colorscale\":[[0.0,\"#0d0887\"],[0.1111111111111111,\"#46039f\"],[0.2222222222222222,\"#7201a8\"],[0.3333333333333333,\"#9c179e\"],[0.4444444444444444,\"#bd3786\"],[0.5555555555555556,\"#d8576b\"],[0.6666666666666666,\"#ed7953\"],[0.7777777777777778,\"#fb9f3a\"],[0.8888888888888888,\"#fdca26\"],[1.0,\"#f0f921\"]],\"type\":\"heatmap\"}],\"heatmapgl\":[{\"colorbar\":{\"outlinewidth\":0,\"ticks\":\"\"},\"colorscale\":[[0.0,\"#0d0887\"],[0.1111111111111111,\"#46039f\"],[0.2222222222222222,\"#7201a8\"],[0.3333333333333333,\"#9c179e\"],[0.4444444444444444,\"#bd3786\"],[0.5555555555555556,\"#d8576b\"],[0.6666666666666666,\"#ed7953\"],[0.7777777777777778,\"#fb9f3a\"],[0.8888888888888888,\"#fdca26\"],[1.0,\"#f0f921\"]],\"type\":\"heatmapgl\"}],\"histogram\":[{\"marker\":{\"pattern\":{\"fillmode\":\"overlay\",\"size\":10,\"solidity\":0.2}},\"type\":\"histogram\"}],\"histogram2d\":[{\"colorbar\":{\"outlinewidth\":0,\"ticks\":\"\"},\"colorscale\":[[0.0,\"#0d0887\"],[0.1111111111111111,\"#46039f\"],[0.2222222222222222,\"#7201a8\"],[0.3333333333333333,\"#9c179e\"],[0.4444444444444444,\"#bd3786\"],[0.5555555555555556,\"#d8576b\"],[0.6666666666666666,\"#ed7953\"],[0.7777777777777778,\"#fb9f3a\"],[0.8888888888888888,\"#fdca26\"],[1.0,\"#f0f921\"]],\"type\":\"histogram2d\"}],\"histogram2dcontour\":[{\"colorbar\":{\"outlinewidth\":0,\"ticks\":\"\"},\"colorscale\":[[0.0,\"#0d0887\"],[0.1111111111111111,\"#46039f\"],[0.2222222222222222,\"#7201a8\"],[0.3333333333333333,\"#9c179e\"],[0.4444444444444444,\"#bd3786\"],[0.5555555555555556,\"#d8576b\"],[0.6666666666666666,\"#ed7953\"],[0.7777777777777778,\"#fb9f3a\"],[0.8888888888888888,\"#fdca26\"],[1.0,\"#f0f921\"]],\"type\":\"histogram2dcontour\"}],\"mesh3d\":[{\"colorbar\":{\"outlinewidth\":0,\"ticks\":\"\"},\"type\":\"mesh3d\"}],\"parcoords\":[{\"line\":{\"colorbar\":{\"outlinewidth\":0,\"ticks\":\"\"}},\"type\":\"parcoords\"}],\"pie\":[{\"automargin\":true,\"type\":\"pie\"}],\"scatter\":[{\"marker\":{\"colorbar\":{\"outlinewidth\":0,\"ticks\":\"\"}},\"type\":\"scatter\"}],\"scatter3d\":[{\"line\":{\"colorbar\":{\"outlinewidth\":0,\"ticks\":\"\"}},\"marker\":{\"colorbar\":{\"outlinewidth\":0,\"ticks\":\"\"}},\"type\":\"scatter3d\"}],\"scattercarpet\":[{\"marker\":{\"colorbar\":{\"outlinewidth\":0,\"ticks\":\"\"}},\"type\":\"scattercarpet\"}],\"scattergeo\":[{\"marker\":{\"colorbar\":{\"outlinewidth\":0,\"ticks\":\"\"}},\"type\":\"scattergeo\"}],\"scattergl\":[{\"marker\":{\"colorbar\":{\"outlinewidth\":0,\"ticks\":\"\"}},\"type\":\"scattergl\"}],\"scattermapbox\":[{\"marker\":{\"colorbar\":{\"outlinewidth\":0,\"ticks\":\"\"}},\"type\":\"scattermapbox\"}],\"scatterpolar\":[{\"marker\":{\"colorbar\":{\"outlinewidth\":0,\"ticks\":\"\"}},\"type\":\"scatterpolar\"}],\"scatterpolargl\":[{\"marker\":{\"colorbar\":{\"outlinewidth\":0,\"ticks\":\"\"}},\"type\":\"scatterpolargl\"}],\"scatterternary\":[{\"marker\":{\"colorbar\":{\"outlinewidth\":0,\"ticks\":\"\"}},\"type\":\"scatterternary\"}],\"surface\":[{\"colorbar\":{\"outlinewidth\":0,\"ticks\":\"\"},\"colorscale\":[[0.0,\"#0d0887\"],[0.1111111111111111,\"#46039f\"],[0.2222222222222222,\"#7201a8\"],[0.3333333333333333,\"#9c179e\"],[0.4444444444444444,\"#bd3786\"],[0.5555555555555556,\"#d8576b\"],[0.6666666666666666,\"#ed7953\"],[0.7777777777777778,\"#fb9f3a\"],[0.8888888888888888,\"#fdca26\"],[1.0,\"#f0f921\"]],\"type\":\"surface\"}],\"table\":[{\"cells\":{\"fill\":{\"color\":\"#EBF0F8\"},\"line\":{\"color\":\"white\"}},\"header\":{\"fill\":{\"color\":\"#C8D4E3\"},\"line\":{\"color\":\"white\"}},\"type\":\"table\"}]},\"layout\":{\"annotationdefaults\":{\"arrowcolor\":\"#2a3f5f\",\"arrowhead\":0,\"arrowwidth\":1},\"autotypenumbers\":\"strict\",\"coloraxis\":{\"colorbar\":{\"outlinewidth\":0,\"ticks\":\"\"}},\"colorscale\":{\"diverging\":[[0,\"#8e0152\"],[0.1,\"#c51b7d\"],[0.2,\"#de77ae\"],[0.3,\"#f1b6da\"],[0.4,\"#fde0ef\"],[0.5,\"#f7f7f7\"],[0.6,\"#e6f5d0\"],[0.7,\"#b8e186\"],[0.8,\"#7fbc41\"],[0.9,\"#4d9221\"],[1,\"#276419\"]],\"sequential\":[[0.0,\"#0d0887\"],[0.1111111111111111,\"#46039f\"],[0.2222222222222222,\"#7201a8\"],[0.3333333333333333,\"#9c179e\"],[0.4444444444444444,\"#bd3786\"],[0.5555555555555556,\"#d8576b\"],[0.6666666666666666,\"#ed7953\"],[0.7777777777777778,\"#fb9f3a\"],[0.8888888888888888,\"#fdca26\"],[1.0,\"#f0f921\"]],\"sequentialminus\":[[0.0,\"#0d0887\"],[0.1111111111111111,\"#46039f\"],[0.2222222222222222,\"#7201a8\"],[0.3333333333333333,\"#9c179e\"],[0.4444444444444444,\"#bd3786\"],[0.5555555555555556,\"#d8576b\"],[0.6666666666666666,\"#ed7953\"],[0.7777777777777778,\"#fb9f3a\"],[0.8888888888888888,\"#fdca26\"],[1.0,\"#f0f921\"]]},\"colorway\":[\"#636efa\",\"#EF553B\",\"#00cc96\",\"#ab63fa\",\"#FFA15A\",\"#19d3f3\",\"#FF6692\",\"#B6E880\",\"#FF97FF\",\"#FECB52\"],\"font\":{\"color\":\"#2a3f5f\"},\"geo\":{\"bgcolor\":\"white\",\"lakecolor\":\"white\",\"landcolor\":\"#E5ECF6\",\"showlakes\":true,\"showland\":true,\"subunitcolor\":\"white\"},\"hoverlabel\":{\"align\":\"left\"},\"hovermode\":\"closest\",\"mapbox\":{\"style\":\"light\"},\"paper_bgcolor\":\"white\",\"plot_bgcolor\":\"#E5ECF6\",\"polar\":{\"angularaxis\":{\"gridcolor\":\"white\",\"linecolor\":\"white\",\"ticks\":\"\"},\"bgcolor\":\"#E5ECF6\",\"radialaxis\":{\"gridcolor\":\"white\",\"linecolor\":\"white\",\"ticks\":\"\"}},\"scene\":{\"xaxis\":{\"backgroundcolor\":\"#E5ECF6\",\"gridcolor\":\"white\",\"gridwidth\":2,\"linecolor\":\"white\",\"showbackground\":true,\"ticks\":\"\",\"zerolinecolor\":\"white\"},\"yaxis\":{\"backgroundcolor\":\"#E5ECF6\",\"gridcolor\":\"white\",\"gridwidth\":2,\"linecolor\":\"white\",\"showbackground\":true,\"ticks\":\"\",\"zerolinecolor\":\"white\"},\"zaxis\":{\"backgroundcolor\":\"#E5ECF6\",\"gridcolor\":\"white\",\"gridwidth\":2,\"linecolor\":\"white\",\"showbackground\":true,\"ticks\":\"\",\"zerolinecolor\":\"white\"}},\"shapedefaults\":{\"line\":{\"color\":\"#2a3f5f\"}},\"ternary\":{\"aaxis\":{\"gridcolor\":\"white\",\"linecolor\":\"white\",\"ticks\":\"\"},\"baxis\":{\"gridcolor\":\"white\",\"linecolor\":\"white\",\"ticks\":\"\"},\"bgcolor\":\"#E5ECF6\",\"caxis\":{\"gridcolor\":\"white\",\"linecolor\":\"white\",\"ticks\":\"\"}},\"title\":{\"x\":0.05},\"xaxis\":{\"automargin\":true,\"gridcolor\":\"white\",\"linecolor\":\"white\",\"ticks\":\"\",\"title\":{\"standoff\":15},\"zerolinecolor\":\"white\",\"zerolinewidth\":2},\"yaxis\":{\"automargin\":true,\"gridcolor\":\"white\",\"linecolor\":\"white\",\"ticks\":\"\",\"title\":{\"standoff\":15},\"zerolinecolor\":\"white\",\"zerolinewidth\":2}}},\"title\":{\"text\":\"Apartments in Quito - La Carolina\"},\"width\":900,\"xaxis\":{\"anchor\":\"y\",\"domain\":[0.0,1.0],\"title\":{\"text\":\"month\"}},\"yaxis\":{\"anchor\":\"x\",\"domain\":[0.0,1.0],\"title\":{\"text\":\"price\"}}},                        {\"responsive\": true}                    ).then(function(){\n                            \nvar gd = document.getElementById('e27f9f17-4409-4d64-b080-f95dbdf55dd0');\nvar x = new MutationObserver(function (mutations, observer) {{\n        var display = window.getComputedStyle(gd).display;\n        if (!display || display === 'none') {{\n            console.log([gd, 'removed!']);\n            Plotly.purge(gd);\n            observer.disconnect();\n        }}\n}});\n\n// Listen for the removal of the full notebook cells\nvar notebookContainer = gd.closest('#notebook-container');\nif (notebookContainer) {{\n    x.observe(notebookContainer, {childList: true});\n}}\n\n// Listen for the clearing of the current output cell\nvar outputEl = gd.closest('.output');\nif (outputEl) {{\n    x.observe(outputEl, {childList: true});\n}}\n\n                        })                };                            </script>        </div>\n</body>\n</html>"
              }
            ],
            "_view_module": "@jupyter-widgets/output",
            "_model_module_version": "1.0.0",
            "_view_count": null,
            "_view_module_version": "1.0.0",
            "layout": "IPY_MODEL_619bd374907e4f5b89c35e6526b4ab5d",
            "_model_module": "@jupyter-widgets/output"
          }
        },
        "cd53cbd615914b528ec31747d1da6b3c": {
          "model_module": "@jupyter-widgets/controls",
          "model_name": "DescriptionStyleModel",
          "state": {
            "_view_name": "StyleView",
            "_model_name": "DescriptionStyleModel",
            "description_width": "",
            "_view_module": "@jupyter-widgets/base",
            "_model_module_version": "1.5.0",
            "_view_count": null,
            "_view_module_version": "1.2.0",
            "_model_module": "@jupyter-widgets/controls"
          }
        },
        "38be473022ea423cbf6505c3daa5705f": {
          "model_module": "@jupyter-widgets/base",
          "model_name": "LayoutModel",
          "state": {
            "_view_name": "LayoutView",
            "grid_template_rows": null,
            "right": null,
            "justify_content": null,
            "_view_module": "@jupyter-widgets/base",
            "overflow": null,
            "_model_module_version": "1.2.0",
            "_view_count": null,
            "flex_flow": null,
            "width": null,
            "min_width": null,
            "border": null,
            "align_items": null,
            "bottom": null,
            "_model_module": "@jupyter-widgets/base",
            "top": null,
            "grid_column": null,
            "overflow_y": null,
            "overflow_x": null,
            "grid_auto_flow": null,
            "grid_area": null,
            "grid_template_columns": null,
            "flex": null,
            "_model_name": "LayoutModel",
            "justify_items": null,
            "grid_row": null,
            "max_height": null,
            "align_content": null,
            "visibility": null,
            "align_self": null,
            "height": null,
            "min_height": null,
            "padding": null,
            "grid_auto_rows": null,
            "grid_gap": null,
            "max_width": null,
            "order": null,
            "_view_module_version": "1.2.0",
            "grid_template_areas": null,
            "object_position": null,
            "object_fit": null,
            "grid_auto_columns": null,
            "margin": null,
            "display": null,
            "left": null
          }
        },
        "0da98d90b63144d796b2562ca02f51f0": {
          "model_module": "@jupyter-widgets/controls",
          "model_name": "DescriptionStyleModel",
          "state": {
            "_view_name": "StyleView",
            "_model_name": "DescriptionStyleModel",
            "description_width": "",
            "_view_module": "@jupyter-widgets/base",
            "_model_module_version": "1.5.0",
            "_view_count": null,
            "_view_module_version": "1.2.0",
            "_model_module": "@jupyter-widgets/controls"
          }
        },
        "398a7b9de1de48648509e3309da193d8": {
          "model_module": "@jupyter-widgets/base",
          "model_name": "LayoutModel",
          "state": {
            "_view_name": "LayoutView",
            "grid_template_rows": null,
            "right": null,
            "justify_content": null,
            "_view_module": "@jupyter-widgets/base",
            "overflow": null,
            "_model_module_version": "1.2.0",
            "_view_count": null,
            "flex_flow": null,
            "width": null,
            "min_width": null,
            "border": null,
            "align_items": null,
            "bottom": null,
            "_model_module": "@jupyter-widgets/base",
            "top": null,
            "grid_column": null,
            "overflow_y": null,
            "overflow_x": null,
            "grid_auto_flow": null,
            "grid_area": null,
            "grid_template_columns": null,
            "flex": null,
            "_model_name": "LayoutModel",
            "justify_items": null,
            "grid_row": null,
            "max_height": null,
            "align_content": null,
            "visibility": null,
            "align_self": null,
            "height": null,
            "min_height": null,
            "padding": null,
            "grid_auto_rows": null,
            "grid_gap": null,
            "max_width": null,
            "order": null,
            "_view_module_version": "1.2.0",
            "grid_template_areas": null,
            "object_position": null,
            "object_fit": null,
            "grid_auto_columns": null,
            "margin": null,
            "display": null,
            "left": null
          }
        },
        "619bd374907e4f5b89c35e6526b4ab5d": {
          "model_module": "@jupyter-widgets/base",
          "model_name": "LayoutModel",
          "state": {
            "_view_name": "LayoutView",
            "grid_template_rows": null,
            "right": null,
            "justify_content": null,
            "_view_module": "@jupyter-widgets/base",
            "overflow": null,
            "_model_module_version": "1.2.0",
            "_view_count": null,
            "flex_flow": null,
            "width": null,
            "min_width": null,
            "border": null,
            "align_items": null,
            "bottom": null,
            "_model_module": "@jupyter-widgets/base",
            "top": null,
            "grid_column": null,
            "overflow_y": null,
            "overflow_x": null,
            "grid_auto_flow": null,
            "grid_area": null,
            "grid_template_columns": null,
            "flex": null,
            "_model_name": "LayoutModel",
            "justify_items": null,
            "grid_row": null,
            "max_height": null,
            "align_content": null,
            "visibility": null,
            "align_self": null,
            "height": null,
            "min_height": null,
            "padding": null,
            "grid_auto_rows": null,
            "grid_gap": null,
            "max_width": null,
            "order": null,
            "_view_module_version": "1.2.0",
            "grid_template_areas": null,
            "object_position": null,
            "object_fit": null,
            "grid_auto_columns": null,
            "margin": null,
            "display": null,
            "left": null
          }
        }
      }
    }
  },
  "cells": [
    {
      "cell_type": "markdown",
      "metadata": {
        "id": "view-in-github",
        "colab_type": "text"
      },
      "source": [
        "<a href=\"https://colab.research.google.com/github/gabrielborja/python_data_analysis/blob/main/real_state_analytics.ipynb\" target=\"_parent\"><img src=\"https://colab.research.google.com/assets/colab-badge.svg\" alt=\"Open In Colab\"/></a>"
      ]
    },
    {
      "cell_type": "markdown",
      "metadata": {
        "id": "eTZwpRZNRhGY"
      },
      "source": [
        "#Real State Analytics"
      ]
    },
    {
      "cell_type": "markdown",
      "metadata": {
        "id": "urSYFOWesvzU"
      },
      "source": [
        "Real state data from apartments for sale in Quito - Ecuador can be obtained from the following link [here](https://www.properati.com.ec/s/la-carolina/departamento/venta/m2:60-70_habitaciones:1/?sort=published_on_desc)"
      ]
    },
    {
      "cell_type": "markdown",
      "metadata": {
        "id": "sgzkv1LwjLIL"
      },
      "source": [
        "## Uploading packages and data"
      ]
    },
    {
      "cell_type": "code",
      "metadata": {
        "id": "QTRtRZcb-IyF"
      },
      "source": [
        "#Importing HTTP libraries\n",
        "import requests\n",
        "import pprint\n",
        "from bs4 import BeautifulSoup as bs"
      ],
      "execution_count": 1,
      "outputs": []
    },
    {
      "cell_type": "code",
      "metadata": {
        "id": "RHzc7K6UJDvR"
      },
      "source": [
        "#Importing data manipulation packages\n",
        "import numpy as np\n",
        "import pandas as pd\n",
        "from time import sleep\n",
        "from random import randint"
      ],
      "execution_count": 2,
      "outputs": []
    },
    {
      "cell_type": "markdown",
      "metadata": {
        "id": "Qd76FNGixVGx"
      },
      "source": [
        "##Retrieving data from URL"
      ]
    },
    {
      "cell_type": "code",
      "metadata": {
        "id": "iRKLMxgWhorK"
      },
      "source": [
        "#class requests.Response\n",
        "#Response.elapsed, Response.encoding, Response.headers, Response.json, Response.status_code, Response.text, Response.url"
      ],
      "execution_count": null,
      "outputs": []
    },
    {
      "cell_type": "code",
      "metadata": {
        "id": "W1pXcNFlFXFP"
      },
      "source": [
        "#Create a function to retrieve data from given URL\n",
        "def get_url(url):\n",
        "  \"\"\"Retrieve data from given URL and return a dataframe\"\"\"\n",
        "  \n",
        "  #Get data and parse with BeautifulSoup\n",
        "  try:\n",
        "    response = requests.get(url)\n",
        "    print(response)\n",
        "    #pprint.pprint(response.text[:200]) #Print first 200 char from HTML.\n",
        "    soup = bs(response.text, 'html.parser')\n",
        "\n",
        "    #Save retrieved data to lists\n",
        "    d1_names = [i.text for i in soup.find_all(class_ ='bwJAej')]\n",
        "    d1_location = [i.text for i in soup.find_all(class_ = 'fqaBNm')]\n",
        "    d1_prices = [i.text for i in soup.find_all(class_ ='bZCCaW')]\n",
        "    d1_rooms = [i.span.text for i in soup.find_all(class_ = 'fgcFIO') if 'habitaci' in i.text]\n",
        "    d1_bathrooms = [i.text for i in soup.find_all('span') if 'baño' in i.text]\n",
        "    d1_sqr_meters = [i.text for i in soup.find_all('span') if 'm²' in i.text]\n",
        "    d1_seller_names = [i.text for i in soup.find_all(class_ = 'seller-name')]\n",
        "    d1_times = [i['datetime'] for i in soup.find_all('time')]\n",
        "    \n",
        "    #Save data to dataframe\n",
        "    df = pd.DataFrame()\n",
        "    df = df.assign(date=d1_times, name=d1_names, location=d1_location,\n",
        "                   price=d1_prices, rooms=d1_rooms, bathrooms=d1_bathrooms,\n",
        "                   sqr_meters=d1_sqr_meters, seller=d1_seller_names)\n",
        "    return df\n",
        "\n",
        "  except requests.exceptions.RequestException as e:\n",
        "    print(e)"
      ],
      "execution_count": 3,
      "outputs": []
    },
    {
      "cell_type": "code",
      "metadata": {
        "id": "3bjL87O6J9Wl"
      },
      "source": [
        "#Retrive data from URL and create a dataframe of apartments in Quito\n",
        "#url = 'https://www.properati.com.ec/s/la-carolina/departamento/venta/m2:50-150_habitaciones:1_ba%C3%B1os:1,2,3_publicados:ultimos-7-dias/?sort=published_on_desc&page1'\n",
        "#url = 'https://www.properati.com.ec/s/la-carolina/departamento/venta/publicados:ultimos-365-dias_m2:50-150_habitaciones:1,2,3_ba%C3%B1os:1,2,3/?sort=published_on_desc&page=12'\n",
        "#url = 'https://www.properati.com.ec/s/bellavista-inaquito/departamento/venta/publicados:ultimos-365-dias_m2:50-150_habitaciones:1,2,3_ba%C3%B1os:1,2,3/?sort=published_on_desc'\n",
        "\n",
        "#df1 = get_url(url)"
      ],
      "execution_count": null,
      "outputs": []
    },
    {
      "cell_type": "code",
      "metadata": {
        "colab": {
          "base_uri": "https://localhost:8080/"
        },
        "id": "yiS7mDnauCf3",
        "outputId": "bf4c0d24-9757-42e0-a308-83d7a766c538"
      },
      "source": [
        "#Scraping apartments from mulitple URLs and saving to a list\n",
        "data = []\n",
        "url = 'https://www.properati.com.ec/s/inaquito/departamento/venta/publicados:ultimos-365-dias_m2:23-500_habitaciones:1,2,3_ba%C3%B1os:1,2,3/?sort=published_on_desc&page='\n",
        "\n",
        "for i in range(42, 47):\n",
        "  page = url + str(i)\n",
        "  data.append(get_url(page))\n",
        "  sleep(randint(4,10))\n"
      ],
      "execution_count": 22,
      "outputs": [
        {
          "output_type": "stream",
          "text": [
            "<Response [200]>\n",
            "<Response [200]>\n",
            "<Response [200]>\n",
            "<Response [200]>\n",
            "<Response [200]>\n"
          ],
          "name": "stdout"
        }
      ]
    },
    {
      "cell_type": "code",
      "metadata": {
        "colab": {
          "base_uri": "https://localhost:8080/",
          "height": 205
        },
        "id": "bcpAMU3VvIoV",
        "outputId": "da9fa225-8660-4dfd-fbb9-54bf06859268"
      },
      "source": [
        "#Printing dataframes inside list\n",
        "data[4].tail()"
      ],
      "execution_count": 25,
      "outputs": [
        {
          "output_type": "execute_result",
          "data": {
            "text/html": [
              "<div>\n",
              "<style scoped>\n",
              "    .dataframe tbody tr th:only-of-type {\n",
              "        vertical-align: middle;\n",
              "    }\n",
              "\n",
              "    .dataframe tbody tr th {\n",
              "        vertical-align: top;\n",
              "    }\n",
              "\n",
              "    .dataframe thead th {\n",
              "        text-align: right;\n",
              "    }\n",
              "</style>\n",
              "<table border=\"1\" class=\"dataframe\">\n",
              "  <thead>\n",
              "    <tr style=\"text-align: right;\">\n",
              "      <th></th>\n",
              "      <th>date</th>\n",
              "      <th>name</th>\n",
              "      <th>location</th>\n",
              "      <th>price</th>\n",
              "      <th>rooms</th>\n",
              "      <th>bathrooms</th>\n",
              "      <th>sqr_meters</th>\n",
              "      <th>seller</th>\n",
              "    </tr>\n",
              "  </thead>\n",
              "  <tbody>\n",
              "    <tr>\n",
              "      <th>23</th>\n",
              "      <td>2020-10-29T00:00:00.000Z</td>\n",
              "      <td>Departamento en La Carolina</td>\n",
              "      <td>La Carolina, Iñaquito, Centro Norte, Quito, Pi...</td>\n",
              "      <td>$ 155.000</td>\n",
              "      <td>3 habitaciones</td>\n",
              "      <td>3 baños</td>\n",
              "      <td>122 m²</td>\n",
              "      <td>Genma Cabezas</td>\n",
              "    </tr>\n",
              "    <tr>\n",
              "      <th>24</th>\n",
              "      <td>2020-10-29T00:00:00.000Z</td>\n",
              "      <td>Departamento en La Carolina</td>\n",
              "      <td>La Carolina, Iñaquito, Centro Norte, Quito, Pi...</td>\n",
              "      <td>$ 155.000</td>\n",
              "      <td>3 habitaciones</td>\n",
              "      <td>3 baños</td>\n",
              "      <td>121 m²</td>\n",
              "      <td>Genma Cabezas</td>\n",
              "    </tr>\n",
              "    <tr>\n",
              "      <th>25</th>\n",
              "      <td>2020-10-29T00:00:00.000Z</td>\n",
              "      <td>Departamento en Gonzalez Suarez</td>\n",
              "      <td>Gonzalez Suarez, Iñaquito, Centro Norte, Quito...</td>\n",
              "      <td>$ 179.000</td>\n",
              "      <td>3 habitaciones</td>\n",
              "      <td>2 baños</td>\n",
              "      <td>155 m²</td>\n",
              "      <td>Genma Cabezas</td>\n",
              "    </tr>\n",
              "    <tr>\n",
              "      <th>26</th>\n",
              "      <td>2020-09-08T00:00:00.000Z</td>\n",
              "      <td>Satori</td>\n",
              "      <td>La Carolina, Iñaquito, Centro Norte, Quito, Pi...</td>\n",
              "      <td>$ 221.426</td>\n",
              "      <td>3 habitaciones</td>\n",
              "      <td>3 baños</td>\n",
              "      <td>113 m²</td>\n",
              "      <td>Properati</td>\n",
              "    </tr>\n",
              "    <tr>\n",
              "      <th>27</th>\n",
              "      <td>2020-07-24T00:00:00.000Z</td>\n",
              "      <td>Milo´s House</td>\n",
              "      <td>La Carolina, Iñaquito, Centro Norte, Quito, Pi...</td>\n",
              "      <td>$ 179.530</td>\n",
              "      <td>3 habitaciones</td>\n",
              "      <td>3 baños</td>\n",
              "      <td>117 m²</td>\n",
              "      <td>Properati</td>\n",
              "    </tr>\n",
              "  </tbody>\n",
              "</table>\n",
              "</div>"
            ],
            "text/plain": [
              "                        date  ...         seller\n",
              "23  2020-10-29T00:00:00.000Z  ...  Genma Cabezas\n",
              "24  2020-10-29T00:00:00.000Z  ...  Genma Cabezas\n",
              "25  2020-10-29T00:00:00.000Z  ...  Genma Cabezas\n",
              "26  2020-09-08T00:00:00.000Z  ...      Properati\n",
              "27  2020-07-24T00:00:00.000Z  ...      Properati\n",
              "\n",
              "[5 rows x 8 columns]"
            ]
          },
          "metadata": {
            "tags": []
          },
          "execution_count": 25
        }
      ]
    },
    {
      "cell_type": "code",
      "metadata": {
        "id": "fn30qKwZlCLq"
      },
      "source": [
        "#Concatenating dataframes from list\n",
        "df1 = pd.concat(objs=[i for i in data], ignore_index=True)\n",
        "df1.shape #==> from page 1 to 46"
      ],
      "execution_count": null,
      "outputs": []
    },
    {
      "cell_type": "code",
      "metadata": {
        "id": "1wXsgb8cJZqF",
        "colab": {
          "base_uri": "https://localhost:8080/",
          "height": 17
        },
        "outputId": "9c37ccd0-9e33-42c0-9fae-c10dcabd98a5"
      },
      "source": [
        "#Exporting to excel into local disk\n",
        "from google.colab import files\n",
        "df1.to_excel('2021_07_20_inaquito.xlsx', index=False) #==> Excluding index from file\n",
        "files.download('2021_07_20_inaquito.xlsx')"
      ],
      "execution_count": 31,
      "outputs": [
        {
          "output_type": "display_data",
          "data": {
            "application/javascript": [
              "\n",
              "    async function download(id, filename, size) {\n",
              "      if (!google.colab.kernel.accessAllowed) {\n",
              "        return;\n",
              "      }\n",
              "      const div = document.createElement('div');\n",
              "      const label = document.createElement('label');\n",
              "      label.textContent = `Downloading \"${filename}\": `;\n",
              "      div.appendChild(label);\n",
              "      const progress = document.createElement('progress');\n",
              "      progress.max = size;\n",
              "      div.appendChild(progress);\n",
              "      document.body.appendChild(div);\n",
              "\n",
              "      const buffers = [];\n",
              "      let downloaded = 0;\n",
              "\n",
              "      const channel = await google.colab.kernel.comms.open(id);\n",
              "      // Send a message to notify the kernel that we're ready.\n",
              "      channel.send({})\n",
              "\n",
              "      for await (const message of channel.messages) {\n",
              "        // Send a message to notify the kernel that we're ready.\n",
              "        channel.send({})\n",
              "        if (message.buffers) {\n",
              "          for (const buffer of message.buffers) {\n",
              "            buffers.push(buffer);\n",
              "            downloaded += buffer.byteLength;\n",
              "            progress.value = downloaded;\n",
              "          }\n",
              "        }\n",
              "      }\n",
              "      const blob = new Blob(buffers, {type: 'application/binary'});\n",
              "      const a = document.createElement('a');\n",
              "      a.href = window.URL.createObjectURL(blob);\n",
              "      a.download = filename;\n",
              "      div.appendChild(a);\n",
              "      a.click();\n",
              "      div.remove();\n",
              "    }\n",
              "  "
            ],
            "text/plain": [
              "<IPython.core.display.Javascript object>"
            ]
          },
          "metadata": {
            "tags": []
          }
        },
        {
          "output_type": "display_data",
          "data": {
            "application/javascript": [
              "download(\"download_4c32c104-25c0-4c60-ab80-258bd5d9608c\", \"2021_07_20_la_carolina.xlsx\", 53476)"
            ],
            "text/plain": [
              "<IPython.core.display.Javascript object>"
            ]
          },
          "metadata": {
            "tags": []
          }
        }
      ]
    },
    {
      "cell_type": "markdown",
      "metadata": {
        "id": "tqw9KPTaMUqA"
      },
      "source": [
        "##Data Cleaning"
      ]
    },
    {
      "cell_type": "code",
      "metadata": {
        "id": "bEZ1_KyKMXNw"
      },
      "source": [
        "#Importing necessary packages\n",
        "import numpy as np\n",
        "import pandas as pd"
      ],
      "execution_count": null,
      "outputs": []
    },
    {
      "cell_type": "code",
      "metadata": {
        "id": "vSOggGBTT1iG"
      },
      "source": [
        "#Remove previous versions of the uploaded file\n",
        "!rm 2021_07_20_inaquito.xlsx"
      ],
      "execution_count": 32,
      "outputs": []
    },
    {
      "cell_type": "code",
      "metadata": {
        "id": "oen97ED1-rh-",
        "colab": {
          "resources": {
            "http://localhost:8080/nbextensions/google.colab/files.js": {
              "data": "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",
              "ok": true,
              "headers": [
                [
                  "content-type",
                  "application/javascript"
                ]
              ],
              "status": 200,
              "status_text": ""
            }
          },
          "base_uri": "https://localhost:8080/",
          "height": 73
        },
        "outputId": "8affd189-f06d-4c95-f10d-a387c2d79727"
      },
      "source": [
        "#Uploading file from local drive\n",
        "from google.colab import files\n",
        "uploaded1 = files.upload()"
      ],
      "execution_count": 33,
      "outputs": [
        {
          "output_type": "display_data",
          "data": {
            "text/html": [
              "\n",
              "     <input type=\"file\" id=\"files-0384133d-b0cf-4c26-bfe4-dfad19866740\" name=\"files[]\" multiple disabled\n",
              "        style=\"border:none\" />\n",
              "     <output id=\"result-0384133d-b0cf-4c26-bfe4-dfad19866740\">\n",
              "      Upload widget is only available when the cell has been executed in the\n",
              "      current browser session. Please rerun this cell to enable.\n",
              "      </output>\n",
              "      <script src=\"/nbextensions/google.colab/files.js\"></script> "
            ],
            "text/plain": [
              "<IPython.core.display.HTML object>"
            ]
          },
          "metadata": {
            "tags": []
          }
        },
        {
          "output_type": "stream",
          "text": [
            "Saving 2021_07_20_inaquito.xlsx to 2021_07_20_inaquito.xlsx\n"
          ],
          "name": "stdout"
        }
      ]
    },
    {
      "cell_type": "code",
      "metadata": {
        "id": "03VoNwL0-3O6"
      },
      "source": [
        "#Storing dataset in a Pandas Dataframe\n",
        "import io\n",
        "df1 = pd.read_excel(io.BytesIO(uploaded1['2021_07_20_inaquito.xlsx']), parse_dates=True)"
      ],
      "execution_count": 35,
      "outputs": []
    },
    {
      "cell_type": "code",
      "metadata": {
        "id": "6wPknHC-JSRB",
        "colab": {
          "base_uri": "https://localhost:8080/"
        },
        "outputId": "91666c22-bd96-459a-e559-d4804c7ff69c"
      },
      "source": [
        "#Checking the dataframe information\n",
        "df1.info()"
      ],
      "execution_count": 36,
      "outputs": [
        {
          "output_type": "stream",
          "text": [
            "<class 'pandas.core.frame.DataFrame'>\n",
            "RangeIndex: 1288 entries, 0 to 1287\n",
            "Data columns (total 8 columns):\n",
            " #   Column      Non-Null Count  Dtype \n",
            "---  ------      --------------  ----- \n",
            " 0   date        1288 non-null   object\n",
            " 1   name        1288 non-null   object\n",
            " 2   location    1288 non-null   object\n",
            " 3   price       1288 non-null   object\n",
            " 4   rooms       1288 non-null   object\n",
            " 5   bathrooms   1288 non-null   object\n",
            " 6   sqr_meters  1288 non-null   object\n",
            " 7   seller      1288 non-null   object\n",
            "dtypes: object(8)\n",
            "memory usage: 80.6+ KB\n"
          ],
          "name": "stdout"
        }
      ]
    },
    {
      "cell_type": "code",
      "metadata": {
        "colab": {
          "base_uri": "https://localhost:8080/",
          "height": 205
        },
        "id": "6F0h6WY1NIXl",
        "outputId": "883a4d74-de83-4f9f-a683-73078421844e"
      },
      "source": [
        "#Checking the dataframe tail\n",
        "df1.tail()"
      ],
      "execution_count": 37,
      "outputs": [
        {
          "output_type": "execute_result",
          "data": {
            "text/html": [
              "<div>\n",
              "<style scoped>\n",
              "    .dataframe tbody tr th:only-of-type {\n",
              "        vertical-align: middle;\n",
              "    }\n",
              "\n",
              "    .dataframe tbody tr th {\n",
              "        vertical-align: top;\n",
              "    }\n",
              "\n",
              "    .dataframe thead th {\n",
              "        text-align: right;\n",
              "    }\n",
              "</style>\n",
              "<table border=\"1\" class=\"dataframe\">\n",
              "  <thead>\n",
              "    <tr style=\"text-align: right;\">\n",
              "      <th></th>\n",
              "      <th>date</th>\n",
              "      <th>name</th>\n",
              "      <th>location</th>\n",
              "      <th>price</th>\n",
              "      <th>rooms</th>\n",
              "      <th>bathrooms</th>\n",
              "      <th>sqr_meters</th>\n",
              "      <th>seller</th>\n",
              "    </tr>\n",
              "  </thead>\n",
              "  <tbody>\n",
              "    <tr>\n",
              "      <th>1283</th>\n",
              "      <td>2020-10-29T00:00:00.000Z</td>\n",
              "      <td>Departamento en La Carolina</td>\n",
              "      <td>La Carolina, Iñaquito, Centro Norte, Quito, Pi...</td>\n",
              "      <td>$ 155.000</td>\n",
              "      <td>3 habitaciones</td>\n",
              "      <td>3 baños</td>\n",
              "      <td>122 m²</td>\n",
              "      <td>Genma Cabezas</td>\n",
              "    </tr>\n",
              "    <tr>\n",
              "      <th>1284</th>\n",
              "      <td>2020-10-29T00:00:00.000Z</td>\n",
              "      <td>Departamento en La Carolina</td>\n",
              "      <td>La Carolina, Iñaquito, Centro Norte, Quito, Pi...</td>\n",
              "      <td>$ 155.000</td>\n",
              "      <td>3 habitaciones</td>\n",
              "      <td>3 baños</td>\n",
              "      <td>121 m²</td>\n",
              "      <td>Genma Cabezas</td>\n",
              "    </tr>\n",
              "    <tr>\n",
              "      <th>1285</th>\n",
              "      <td>2020-10-29T00:00:00.000Z</td>\n",
              "      <td>Departamento en Gonzalez Suarez</td>\n",
              "      <td>Gonzalez Suarez, Iñaquito, Centro Norte, Quito...</td>\n",
              "      <td>$ 179.000</td>\n",
              "      <td>3 habitaciones</td>\n",
              "      <td>2 baños</td>\n",
              "      <td>155 m²</td>\n",
              "      <td>Genma Cabezas</td>\n",
              "    </tr>\n",
              "    <tr>\n",
              "      <th>1286</th>\n",
              "      <td>2020-09-08T00:00:00.000Z</td>\n",
              "      <td>Satori</td>\n",
              "      <td>La Carolina, Iñaquito, Centro Norte, Quito, Pi...</td>\n",
              "      <td>$ 221.426</td>\n",
              "      <td>3 habitaciones</td>\n",
              "      <td>3 baños</td>\n",
              "      <td>113 m²</td>\n",
              "      <td>Properati</td>\n",
              "    </tr>\n",
              "    <tr>\n",
              "      <th>1287</th>\n",
              "      <td>2020-07-24T00:00:00.000Z</td>\n",
              "      <td>Milo´s House</td>\n",
              "      <td>La Carolina, Iñaquito, Centro Norte, Quito, Pi...</td>\n",
              "      <td>$ 179.530</td>\n",
              "      <td>3 habitaciones</td>\n",
              "      <td>3 baños</td>\n",
              "      <td>117 m²</td>\n",
              "      <td>Properati</td>\n",
              "    </tr>\n",
              "  </tbody>\n",
              "</table>\n",
              "</div>"
            ],
            "text/plain": [
              "                          date  ...         seller\n",
              "1283  2020-10-29T00:00:00.000Z  ...  Genma Cabezas\n",
              "1284  2020-10-29T00:00:00.000Z  ...  Genma Cabezas\n",
              "1285  2020-10-29T00:00:00.000Z  ...  Genma Cabezas\n",
              "1286  2020-09-08T00:00:00.000Z  ...      Properati\n",
              "1287  2020-07-24T00:00:00.000Z  ...      Properati\n",
              "\n",
              "[5 rows x 8 columns]"
            ]
          },
          "metadata": {
            "tags": []
          },
          "execution_count": 37
        }
      ]
    },
    {
      "cell_type": "code",
      "metadata": {
        "id": "_CHIjKkAipPU"
      },
      "source": [
        "#Converting date column to datetime\n",
        "df1['date'] = pd.to_datetime(df1['date'], format='%Y-%m-%d %H:%M:%S').dt.tz_convert('America/Guayaquil')"
      ],
      "execution_count": 38,
      "outputs": []
    },
    {
      "cell_type": "code",
      "metadata": {
        "id": "yPFouV3xsc-t"
      },
      "source": [
        "#Extracting city and zone from location\n",
        "df1['city'] = [i[3].strip() for i in df1['location'].str.split(',')]\n",
        "df1['zone'] = [i[0].strip() for i in df1['location'].str.split(',')]"
      ],
      "execution_count": 39,
      "outputs": []
    },
    {
      "cell_type": "code",
      "metadata": {
        "id": "igH_4EZylSD0"
      },
      "source": [
        "#Eliminating $ and . from price and convert to int\n",
        "df1['price'] = df1['price'].str.replace('\\$*\\.*', '', regex=True)\n",
        "df1['price'] = df1['price'].astype(int)"
      ],
      "execution_count": 40,
      "outputs": []
    },
    {
      "cell_type": "code",
      "metadata": {
        "id": "5pvs0cNtpSGH"
      },
      "source": [
        "#Converting number of rooms to int\n",
        "df1['rooms'] = [i[0].strip() for i in df1['rooms'].str.split(' ')]\n",
        "df1['rooms'] = df1['rooms'].astype(int)"
      ],
      "execution_count": 41,
      "outputs": []
    },
    {
      "cell_type": "code",
      "metadata": {
        "id": "rKFLSn6rqB6N"
      },
      "source": [
        "#Converting bathrooms to int\n",
        "df1['bathrooms'] = [i[0].strip() for i in df1['bathrooms'].str.split(' ')]\n",
        "df1['bathrooms'] = df1['bathrooms'].astype(int)"
      ],
      "execution_count": 42,
      "outputs": []
    },
    {
      "cell_type": "code",
      "metadata": {
        "id": "3hlh58cKqozP"
      },
      "source": [
        "#Converting square meters to int\n",
        "df1['sqr_meters'] = [i[0].strip() for i in df1['sqr_meters'].str.split(' ')]\n",
        "df1['sqr_meters'] = df1['sqr_meters'].astype(int)"
      ],
      "execution_count": 43,
      "outputs": []
    },
    {
      "cell_type": "code",
      "metadata": {
        "colab": {
          "base_uri": "https://localhost:8080/"
        },
        "id": "sY0ZsPApy8ts",
        "outputId": "f08f82cb-bc28-4fdb-867a-002de84b0157"
      },
      "source": [
        "#Checking unique values for square meters\n",
        "df1['sqr_meters'].unique()"
      ],
      "execution_count": 44,
      "outputs": [
        {
          "output_type": "execute_result",
          "data": {
            "text/plain": [
              "array([110, 100,  60, 113,  62, 107,  86, 266, 192,  98,  56, 115, 198,\n",
              "        85,  70, 173,  49, 490,  90, 137, 128, 111, 160, 121,  84,  81,\n",
              "       264,  76,  67, 103, 144, 180, 109,  74, 148, 130, 155,  92,  55,\n",
              "       114,  27, 150, 102, 117, 133, 163, 104, 220,  78, 210,  63, 108,\n",
              "        88, 184,  25,  71,  94,  80,  52, 175,  87, 145,  89,  44,  83,\n",
              "       166, 116, 185,  53, 105,  75, 129, 248, 120,  59,  65, 235, 127,\n",
              "        93, 200,  50, 190,  30,  45,  24, 191, 201, 330, 170, 250,  97,\n",
              "       247,  51,  82, 211, 293,  95, 178, 254, 315, 340,  61, 118,  64,\n",
              "        68,  72, 169,  77,  79,  66, 188, 255, 218, 152,  69,  40, 122,\n",
              "       500,  91,  99, 140, 135, 420, 142, 123,  57, 260,  47, 134,  28,\n",
              "       232, 141, 154,  54, 106, 162, 164, 151, 101, 171, 119, 124, 131,\n",
              "       223, 125,  58,  29, 336, 157, 138, 165, 112,  96, 143, 275, 348,\n",
              "       168, 204, 126,  48,  38, 174, 233, 221,  73, 176, 149, 263, 240,\n",
              "       225, 186,  46,  43, 287, 205, 234, 195, 161,  35, 230, 182, 325,\n",
              "       172, 243, 156, 153, 159, 167, 139, 132, 226, 300, 147, 189, 256,\n",
              "       187,  34])"
            ]
          },
          "metadata": {
            "tags": []
          },
          "execution_count": 44
        }
      ]
    },
    {
      "cell_type": "code",
      "metadata": {
        "id": "5SMyB5n_q4DW"
      },
      "source": [
        "#Converting sellers to title case\n",
        "df1['seller'] = df1['seller'].str.title()"
      ],
      "execution_count": 45,
      "outputs": []
    },
    {
      "cell_type": "code",
      "metadata": {
        "id": "HPTfSQop0WW1"
      },
      "source": [
        "#Rearranging order of columns\n",
        "df1 = df1[['date', 'city', 'zone', 'name', 'seller', 'sqr_meters', 'rooms', 'bathrooms', 'price']]"
      ],
      "execution_count": 46,
      "outputs": []
    },
    {
      "cell_type": "code",
      "metadata": {
        "colab": {
          "base_uri": "https://localhost:8080/",
          "height": 205
        },
        "id": "bVeYEcAgnvFX",
        "outputId": "873f675c-1b2b-4f6c-9e2c-41c229cf7197"
      },
      "source": [
        "#Checking the dataframe tail\n",
        "df1.tail()"
      ],
      "execution_count": 47,
      "outputs": [
        {
          "output_type": "execute_result",
          "data": {
            "text/html": [
              "<div>\n",
              "<style scoped>\n",
              "    .dataframe tbody tr th:only-of-type {\n",
              "        vertical-align: middle;\n",
              "    }\n",
              "\n",
              "    .dataframe tbody tr th {\n",
              "        vertical-align: top;\n",
              "    }\n",
              "\n",
              "    .dataframe thead th {\n",
              "        text-align: right;\n",
              "    }\n",
              "</style>\n",
              "<table border=\"1\" class=\"dataframe\">\n",
              "  <thead>\n",
              "    <tr style=\"text-align: right;\">\n",
              "      <th></th>\n",
              "      <th>date</th>\n",
              "      <th>city</th>\n",
              "      <th>zone</th>\n",
              "      <th>name</th>\n",
              "      <th>seller</th>\n",
              "      <th>sqr_meters</th>\n",
              "      <th>rooms</th>\n",
              "      <th>bathrooms</th>\n",
              "      <th>price</th>\n",
              "    </tr>\n",
              "  </thead>\n",
              "  <tbody>\n",
              "    <tr>\n",
              "      <th>1283</th>\n",
              "      <td>2020-10-28 19:00:00-05:00</td>\n",
              "      <td>Quito</td>\n",
              "      <td>La Carolina</td>\n",
              "      <td>Departamento en La Carolina</td>\n",
              "      <td>Genma Cabezas</td>\n",
              "      <td>122</td>\n",
              "      <td>3</td>\n",
              "      <td>3</td>\n",
              "      <td>155000</td>\n",
              "    </tr>\n",
              "    <tr>\n",
              "      <th>1284</th>\n",
              "      <td>2020-10-28 19:00:00-05:00</td>\n",
              "      <td>Quito</td>\n",
              "      <td>La Carolina</td>\n",
              "      <td>Departamento en La Carolina</td>\n",
              "      <td>Genma Cabezas</td>\n",
              "      <td>121</td>\n",
              "      <td>3</td>\n",
              "      <td>3</td>\n",
              "      <td>155000</td>\n",
              "    </tr>\n",
              "    <tr>\n",
              "      <th>1285</th>\n",
              "      <td>2020-10-28 19:00:00-05:00</td>\n",
              "      <td>Quito</td>\n",
              "      <td>Gonzalez Suarez</td>\n",
              "      <td>Departamento en Gonzalez Suarez</td>\n",
              "      <td>Genma Cabezas</td>\n",
              "      <td>155</td>\n",
              "      <td>3</td>\n",
              "      <td>2</td>\n",
              "      <td>179000</td>\n",
              "    </tr>\n",
              "    <tr>\n",
              "      <th>1286</th>\n",
              "      <td>2020-09-07 19:00:00-05:00</td>\n",
              "      <td>Quito</td>\n",
              "      <td>La Carolina</td>\n",
              "      <td>Satori</td>\n",
              "      <td>Properati</td>\n",
              "      <td>113</td>\n",
              "      <td>3</td>\n",
              "      <td>3</td>\n",
              "      <td>221426</td>\n",
              "    </tr>\n",
              "    <tr>\n",
              "      <th>1287</th>\n",
              "      <td>2020-07-23 19:00:00-05:00</td>\n",
              "      <td>Quito</td>\n",
              "      <td>La Carolina</td>\n",
              "      <td>Milo´s House</td>\n",
              "      <td>Properati</td>\n",
              "      <td>117</td>\n",
              "      <td>3</td>\n",
              "      <td>3</td>\n",
              "      <td>179530</td>\n",
              "    </tr>\n",
              "  </tbody>\n",
              "</table>\n",
              "</div>"
            ],
            "text/plain": [
              "                          date   city  ... bathrooms   price\n",
              "1283 2020-10-28 19:00:00-05:00  Quito  ...         3  155000\n",
              "1284 2020-10-28 19:00:00-05:00  Quito  ...         3  155000\n",
              "1285 2020-10-28 19:00:00-05:00  Quito  ...         2  179000\n",
              "1286 2020-09-07 19:00:00-05:00  Quito  ...         3  221426\n",
              "1287 2020-07-23 19:00:00-05:00  Quito  ...         3  179530\n",
              "\n",
              "[5 rows x 9 columns]"
            ]
          },
          "metadata": {
            "tags": []
          },
          "execution_count": 47
        }
      ]
    },
    {
      "cell_type": "code",
      "metadata": {
        "colab": {
          "base_uri": "https://localhost:8080/"
        },
        "id": "iqH8ggpZk8UJ",
        "outputId": "7e8f3319-0143-45b5-82de-6d99be0ab869"
      },
      "source": [
        "#Checking the dataframe info\n",
        "df1.info()"
      ],
      "execution_count": 48,
      "outputs": [
        {
          "output_type": "stream",
          "text": [
            "<class 'pandas.core.frame.DataFrame'>\n",
            "RangeIndex: 1288 entries, 0 to 1287\n",
            "Data columns (total 9 columns):\n",
            " #   Column      Non-Null Count  Dtype                            \n",
            "---  ------      --------------  -----                            \n",
            " 0   date        1288 non-null   datetime64[ns, America/Guayaquil]\n",
            " 1   city        1288 non-null   object                           \n",
            " 2   zone        1288 non-null   object                           \n",
            " 3   name        1288 non-null   object                           \n",
            " 4   seller      1288 non-null   object                           \n",
            " 5   sqr_meters  1288 non-null   int64                            \n",
            " 6   rooms       1288 non-null   int64                            \n",
            " 7   bathrooms   1288 non-null   int64                            \n",
            " 8   price       1288 non-null   int64                            \n",
            "dtypes: datetime64[ns, America/Guayaquil](1), int64(4), object(4)\n",
            "memory usage: 90.7+ KB\n"
          ],
          "name": "stdout"
        }
      ]
    },
    {
      "cell_type": "code",
      "metadata": {
        "colab": {
          "base_uri": "https://localhost:8080/",
          "height": 17
        },
        "id": "6eBeWtc8rTTo",
        "outputId": "7e6a6e29-eefb-4e98-9efb-d2f83b76c0b4"
      },
      "source": [
        "#Exporting to excel into local disk\n",
        "from google.colab import files\n",
        "df1.to_csv('2021_07_20_inaquito.csv', index=False) #==> Excluding index from file\n",
        "files.download('2021_07_20_inaquito.csv')"
      ],
      "execution_count": 49,
      "outputs": [
        {
          "output_type": "display_data",
          "data": {
            "application/javascript": [
              "\n",
              "    async function download(id, filename, size) {\n",
              "      if (!google.colab.kernel.accessAllowed) {\n",
              "        return;\n",
              "      }\n",
              "      const div = document.createElement('div');\n",
              "      const label = document.createElement('label');\n",
              "      label.textContent = `Downloading \"${filename}\": `;\n",
              "      div.appendChild(label);\n",
              "      const progress = document.createElement('progress');\n",
              "      progress.max = size;\n",
              "      div.appendChild(progress);\n",
              "      document.body.appendChild(div);\n",
              "\n",
              "      const buffers = [];\n",
              "      let downloaded = 0;\n",
              "\n",
              "      const channel = await google.colab.kernel.comms.open(id);\n",
              "      // Send a message to notify the kernel that we're ready.\n",
              "      channel.send({})\n",
              "\n",
              "      for await (const message of channel.messages) {\n",
              "        // Send a message to notify the kernel that we're ready.\n",
              "        channel.send({})\n",
              "        if (message.buffers) {\n",
              "          for (const buffer of message.buffers) {\n",
              "            buffers.push(buffer);\n",
              "            downloaded += buffer.byteLength;\n",
              "            progress.value = downloaded;\n",
              "          }\n",
              "        }\n",
              "      }\n",
              "      const blob = new Blob(buffers, {type: 'application/binary'});\n",
              "      const a = document.createElement('a');\n",
              "      a.href = window.URL.createObjectURL(blob);\n",
              "      a.download = filename;\n",
              "      div.appendChild(a);\n",
              "      a.click();\n",
              "      div.remove();\n",
              "    }\n",
              "  "
            ],
            "text/plain": [
              "<IPython.core.display.Javascript object>"
            ]
          },
          "metadata": {
            "tags": []
          }
        },
        {
          "output_type": "display_data",
          "data": {
            "application/javascript": [
              "download(\"download_160c5147-cffa-4964-8f32-35d241043891\", \"2021_07_20_inaquito.csv\", 136864)"
            ],
            "text/plain": [
              "<IPython.core.display.Javascript object>"
            ]
          },
          "metadata": {
            "tags": []
          }
        }
      ]
    },
    {
      "cell_type": "markdown",
      "metadata": {
        "id": "B6KXezvl3NYT"
      },
      "source": [
        "##Apartments EDA"
      ]
    },
    {
      "cell_type": "code",
      "metadata": {
        "id": "XvLR8_0R3PuK"
      },
      "source": [
        "#Plotly --upgrade\n",
        "!pip install plotly --upgrade"
      ],
      "execution_count": null,
      "outputs": []
    },
    {
      "cell_type": "code",
      "metadata": {
        "id": "JB-6dnHj1Ubs"
      },
      "source": [
        "#Removing previous versions of the file\n",
        "!rm 2021_07_17_la_carolina.csv"
      ],
      "execution_count": null,
      "outputs": []
    },
    {
      "cell_type": "code",
      "metadata": {
        "id": "Co-L_mgA3TgY"
      },
      "source": [
        "#Importing necessary packages\n",
        "import numpy as np\n",
        "import pandas as pd\n",
        "import matplotlib.pyplot as plt\n",
        "from ipywidgets import interact\n",
        "import seaborn as sns\n",
        "import plotly.express as px"
      ],
      "execution_count": null,
      "outputs": []
    },
    {
      "cell_type": "code",
      "metadata": {
        "id": "3ay31rast-Hy"
      },
      "source": [
        "#Customizing data visualization style\n",
        "sns.set_theme(rc = {'figure.figsize': (8, 4)})"
      ],
      "execution_count": null,
      "outputs": []
    },
    {
      "cell_type": "code",
      "metadata": {
        "colab": {
          "resources": {
            "http://localhost:8080/nbextensions/google.colab/files.js": {
              "data": "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",
              "ok": true,
              "headers": [
                [
                  "content-type",
                  "application/javascript"
                ]
              ],
              "status": 200,
              "status_text": ""
            }
          },
          "base_uri": "https://localhost:8080/",
          "height": 73
        },
        "id": "a0FV8-d6sfr8",
        "outputId": "007a436a-c426-45b3-cb88-e587133d3c6e"
      },
      "source": [
        "#Uploading file from local drive\n",
        "from google.colab import files\n",
        "uploaded1 = files.upload()"
      ],
      "execution_count": null,
      "outputs": [
        {
          "output_type": "display_data",
          "data": {
            "text/html": [
              "\n",
              "     <input type=\"file\" id=\"files-ec7d7c5b-5119-4730-a6e6-9ca7b9af335e\" name=\"files[]\" multiple disabled\n",
              "        style=\"border:none\" />\n",
              "     <output id=\"result-ec7d7c5b-5119-4730-a6e6-9ca7b9af335e\">\n",
              "      Upload widget is only available when the cell has been executed in the\n",
              "      current browser session. Please rerun this cell to enable.\n",
              "      </output>\n",
              "      <script src=\"/nbextensions/google.colab/files.js\"></script> "
            ],
            "text/plain": [
              "<IPython.core.display.HTML object>"
            ]
          },
          "metadata": {
            "tags": []
          }
        },
        {
          "output_type": "stream",
          "text": [
            "Saving 2021_07_17_la_carolina.csv to 2021_07_17_la_carolina.csv\n"
          ],
          "name": "stdout"
        }
      ]
    },
    {
      "cell_type": "code",
      "metadata": {
        "id": "5wY2N2nMsmax"
      },
      "source": [
        "#Storing dataset in a Pandas Dataframe\n",
        "import io\n",
        "df1 = pd.read_csv(io.BytesIO(uploaded1['2021_07_17_la_carolina.csv']), parse_dates=True)"
      ],
      "execution_count": null,
      "outputs": []
    },
    {
      "cell_type": "code",
      "metadata": {
        "colab": {
          "base_uri": "https://localhost:8080/"
        },
        "id": "sb_WZ8KtsxTO",
        "outputId": "27637c0b-2f57-4957-d331-f71f436f0ce7"
      },
      "source": [
        "#Checking the dataframe info\n",
        "df1.info()"
      ],
      "execution_count": null,
      "outputs": [
        {
          "output_type": "stream",
          "text": [
            "<class 'pandas.core.frame.DataFrame'>\n",
            "RangeIndex: 332 entries, 0 to 331\n",
            "Data columns (total 9 columns):\n",
            " #   Column      Non-Null Count  Dtype \n",
            "---  ------      --------------  ----- \n",
            " 0   date        332 non-null    object\n",
            " 1   city        332 non-null    object\n",
            " 2   zone        332 non-null    object\n",
            " 3   name        332 non-null    object\n",
            " 4   seller      332 non-null    object\n",
            " 5   sqr_meters  332 non-null    int64 \n",
            " 6   rooms       332 non-null    int64 \n",
            " 7   bathrooms   332 non-null    int64 \n",
            " 8   price       332 non-null    int64 \n",
            "dtypes: int64(4), object(5)\n",
            "memory usage: 23.5+ KB\n"
          ],
          "name": "stdout"
        }
      ]
    },
    {
      "cell_type": "code",
      "metadata": {
        "id": "iKQHkEWCs6Rl"
      },
      "source": [
        "#Convert date column to datetime\n",
        "df1['date'] = pd.to_datetime(df1['date'], format='%Y-%m-%d %H:%M:%S').dt.tz_convert('America/Guayaquil')"
      ],
      "execution_count": null,
      "outputs": []
    },
    {
      "cell_type": "code",
      "metadata": {
        "colab": {
          "base_uri": "https://localhost:8080/",
          "height": 205
        },
        "id": "MoOvuRJXp-yd",
        "outputId": "e1329b62-c8e2-4460-a256-43c7dc74c38d"
      },
      "source": [
        "#Selecting essential columns and saving to new dataframe\n",
        "df1_apa = df1[['date', 'sqr_meters', 'rooms', 'bathrooms', 'price']].copy()\n",
        "df1_apa.tail()"
      ],
      "execution_count": null,
      "outputs": [
        {
          "output_type": "execute_result",
          "data": {
            "text/html": [
              "<div>\n",
              "<style scoped>\n",
              "    .dataframe tbody tr th:only-of-type {\n",
              "        vertical-align: middle;\n",
              "    }\n",
              "\n",
              "    .dataframe tbody tr th {\n",
              "        vertical-align: top;\n",
              "    }\n",
              "\n",
              "    .dataframe thead th {\n",
              "        text-align: right;\n",
              "    }\n",
              "</style>\n",
              "<table border=\"1\" class=\"dataframe\">\n",
              "  <thead>\n",
              "    <tr style=\"text-align: right;\">\n",
              "      <th></th>\n",
              "      <th>date</th>\n",
              "      <th>sqr_meters</th>\n",
              "      <th>rooms</th>\n",
              "      <th>bathrooms</th>\n",
              "      <th>price</th>\n",
              "    </tr>\n",
              "  </thead>\n",
              "  <tbody>\n",
              "    <tr>\n",
              "      <th>327</th>\n",
              "      <td>2020-10-28 19:00:00-05:00</td>\n",
              "      <td>121</td>\n",
              "      <td>3</td>\n",
              "      <td>3</td>\n",
              "      <td>155000</td>\n",
              "    </tr>\n",
              "    <tr>\n",
              "      <th>328</th>\n",
              "      <td>2020-10-28 19:00:00-05:00</td>\n",
              "      <td>76</td>\n",
              "      <td>3</td>\n",
              "      <td>2</td>\n",
              "      <td>99000</td>\n",
              "    </tr>\n",
              "    <tr>\n",
              "      <th>329</th>\n",
              "      <td>2020-10-28 19:00:00-05:00</td>\n",
              "      <td>86</td>\n",
              "      <td>2</td>\n",
              "      <td>3</td>\n",
              "      <td>146000</td>\n",
              "    </tr>\n",
              "    <tr>\n",
              "      <th>330</th>\n",
              "      <td>2020-09-07 19:00:00-05:00</td>\n",
              "      <td>113</td>\n",
              "      <td>3</td>\n",
              "      <td>3</td>\n",
              "      <td>221426</td>\n",
              "    </tr>\n",
              "    <tr>\n",
              "      <th>331</th>\n",
              "      <td>2020-07-23 19:00:00-05:00</td>\n",
              "      <td>117</td>\n",
              "      <td>3</td>\n",
              "      <td>3</td>\n",
              "      <td>179530</td>\n",
              "    </tr>\n",
              "  </tbody>\n",
              "</table>\n",
              "</div>"
            ],
            "text/plain": [
              "                         date  sqr_meters  rooms  bathrooms   price\n",
              "327 2020-10-28 19:00:00-05:00         121      3          3  155000\n",
              "328 2020-10-28 19:00:00-05:00          76      3          2   99000\n",
              "329 2020-10-28 19:00:00-05:00          86      2          3  146000\n",
              "330 2020-09-07 19:00:00-05:00         113      3          3  221426\n",
              "331 2020-07-23 19:00:00-05:00         117      3          3  179530"
            ]
          },
          "metadata": {
            "tags": []
          },
          "execution_count": 8
        }
      ]
    },
    {
      "cell_type": "code",
      "metadata": {
        "id": "dgsCVwJi0uVK"
      },
      "source": [
        "#Assigning columns as categorical data\n",
        "df1_apa['rooms'] = df1_apa['rooms'].astype(\"category\")\n",
        "df1_apa['bathrooms'] = df1_apa['bathrooms'].astype(\"category\")"
      ],
      "execution_count": null,
      "outputs": []
    },
    {
      "cell_type": "code",
      "metadata": {
        "colab": {
          "base_uri": "https://localhost:8080/",
          "height": 299
        },
        "id": "v29-myuwqpOY",
        "outputId": "ffcc0708-50e6-4990-ce09-a951fd971e60"
      },
      "source": [
        "#Performing descriptipe statistics\n",
        "df1_apa.describe()"
      ],
      "execution_count": null,
      "outputs": [
        {
          "output_type": "execute_result",
          "data": {
            "text/html": [
              "<div>\n",
              "<style scoped>\n",
              "    .dataframe tbody tr th:only-of-type {\n",
              "        vertical-align: middle;\n",
              "    }\n",
              "\n",
              "    .dataframe tbody tr th {\n",
              "        vertical-align: top;\n",
              "    }\n",
              "\n",
              "    .dataframe thead th {\n",
              "        text-align: right;\n",
              "    }\n",
              "</style>\n",
              "<table border=\"1\" class=\"dataframe\">\n",
              "  <thead>\n",
              "    <tr style=\"text-align: right;\">\n",
              "      <th></th>\n",
              "      <th>sqr_meters</th>\n",
              "      <th>price</th>\n",
              "    </tr>\n",
              "  </thead>\n",
              "  <tbody>\n",
              "    <tr>\n",
              "      <th>count</th>\n",
              "      <td>332.000000</td>\n",
              "      <td>332.000000</td>\n",
              "    </tr>\n",
              "    <tr>\n",
              "      <th>mean</th>\n",
              "      <td>86.768072</td>\n",
              "      <td>143980.602410</td>\n",
              "    </tr>\n",
              "    <tr>\n",
              "      <th>std</th>\n",
              "      <td>24.744565</td>\n",
              "      <td>46872.409205</td>\n",
              "    </tr>\n",
              "    <tr>\n",
              "      <th>min</th>\n",
              "      <td>50.000000</td>\n",
              "      <td>49000.000000</td>\n",
              "    </tr>\n",
              "    <tr>\n",
              "      <th>25%</th>\n",
              "      <td>66.000000</td>\n",
              "      <td>115000.000000</td>\n",
              "    </tr>\n",
              "    <tr>\n",
              "      <th>50%</th>\n",
              "      <td>82.500000</td>\n",
              "      <td>133910.500000</td>\n",
              "    </tr>\n",
              "    <tr>\n",
              "      <th>75%</th>\n",
              "      <td>103.250000</td>\n",
              "      <td>167704.500000</td>\n",
              "    </tr>\n",
              "    <tr>\n",
              "      <th>max</th>\n",
              "      <td>150.000000</td>\n",
              "      <td>400050.000000</td>\n",
              "    </tr>\n",
              "  </tbody>\n",
              "</table>\n",
              "</div>"
            ],
            "text/plain": [
              "       sqr_meters          price\n",
              "count  332.000000     332.000000\n",
              "mean    86.768072  143980.602410\n",
              "std     24.744565   46872.409205\n",
              "min     50.000000   49000.000000\n",
              "25%     66.000000  115000.000000\n",
              "50%     82.500000  133910.500000\n",
              "75%    103.250000  167704.500000\n",
              "max    150.000000  400050.000000"
            ]
          },
          "metadata": {
            "tags": []
          },
          "execution_count": 10
        }
      ]
    },
    {
      "cell_type": "code",
      "metadata": {
        "colab": {
          "base_uri": "https://localhost:8080/",
          "height": 301
        },
        "id": "lL_aLP-OtX5y",
        "outputId": "0479bbd3-3835-4746-c5b9-b253ddef4efd"
      },
      "source": [
        "#Plotting the box plot of price\n",
        "sns.boxplot(x='price', data=df1_apa)\n",
        "plt.title('Boxplot of price vs. room size')\n",
        "plt.show()"
      ],
      "execution_count": null,
      "outputs": [
        {
          "output_type": "display_data",
          "data": {
            "image/png": "[encoded data removed]",
            "text/plain": [
              "<Figure size 576x288 with 1 Axes>"
            ]
          },
          "metadata": {
            "tags": []
          }
        }
      ]
    },
    {
      "cell_type": "code",
      "metadata": {
        "colab": {
          "base_uri": "https://localhost:8080/"
        },
        "id": "0HPkNTEBxQDg",
        "outputId": "d9599710-f956-4849-8b62-5226de60f538"
      },
      "source": [
        "#Calculating outlier threshold\n",
        "iqr = (df1_apa['price'].quantile(0.75) - df1_apa['price'].quantile(0.25))\n",
        "outl = (df1_apa['price'].quantile(0.75) + 1.5*iqr) #==> Third quartile + 1.5*IQR\n",
        "print(iqr, outl)"
      ],
      "execution_count": null,
      "outputs": [
        {
          "output_type": "stream",
          "text": [
            "52704.5 246761.25\n"
          ],
          "name": "stdout"
        }
      ]
    },
    {
      "cell_type": "code",
      "metadata": {
        "colab": {
          "base_uri": "https://localhost:8080/"
        },
        "id": "Hpq9BMquwk-5",
        "outputId": "ebcf086e-58a8-43a3-dbc5-a6ddae408093"
      },
      "source": [
        "#Dropping outliers from dataset\n",
        "df1_apa = df1_apa[df1_apa['price']<outl].reset_index(drop=True)\n",
        "df1_apa.shape"
      ],
      "execution_count": null,
      "outputs": [
        {
          "output_type": "execute_result",
          "data": {
            "text/plain": [
              "(324, 5)"
            ]
          },
          "metadata": {
            "tags": []
          },
          "execution_count": 16
        }
      ]
    },
    {
      "cell_type": "code",
      "metadata": {
        "colab": {
          "base_uri": "https://localhost:8080/",
          "height": 301
        },
        "id": "2MJFBUtb0QZ3",
        "outputId": "eeee32b9-a9b0-469c-a9a6-9f2f8b5c346b"
      },
      "source": [
        "#Plotting the box plot of price\n",
        "sns.boxplot(x='price', y='rooms', data=df1_apa, palette=['#ffff00', '#0000ff', '#ff0000'])\n",
        "plt.title('Boxplot of price vs. room size')\n",
        "plt.show()"
      ],
      "execution_count": null,
      "outputs": [
        {
          "output_type": "display_data",
          "data": {
            "image/png": "[encoded data removed]",
            "text/plain": [
              "<Figure size 576x288 with 1 Axes>"
            ]
          },
          "metadata": {
            "tags": []
          }
        }
      ]
    },
    {
      "cell_type": "code",
      "metadata": {
        "colab": {
          "base_uri": "https://localhost:8080/",
          "height": 442
        },
        "id": "_CkUw3WdqpRg",
        "outputId": "69d5b51e-16ab-499e-ac22-bcf9db9d826d"
      },
      "source": [
        "#Plotting pairplot of price vs square meters\n",
        "sns.pairplot(data=df1_apa, height=3, aspect=1.5)\n",
        "plt.show()"
      ],
      "execution_count": null,
      "outputs": [
        {
          "output_type": "display_data",
          "data": {
            "image/png": "[encoded data removed]",
            "text/plain": [
              "<Figure size 648x432 with 6 Axes>"
            ]
          },
          "metadata": {
            "tags": []
          }
        }
      ]
    },
    {
      "cell_type": "code",
      "metadata": {
        "colab": {
          "base_uri": "https://localhost:8080/",
          "height": 17
        },
        "id": "OVp_Tsw0ACpW",
        "outputId": "540997c2-a095-454b-e5c1-2b04fc2378c6"
      },
      "source": [
        "#Exporting to excel into local disk\n",
        "from google.colab import files\n",
        "df1_apa.to_csv('2021_07_19_apartments.csv', index=False) #==> Excluding index from file\n",
        "files.download('2021_07_19_apartments.csv')"
      ],
      "execution_count": null,
      "outputs": [
        {
          "output_type": "display_data",
          "data": {
            "application/javascript": [
              "\n",
              "    async function download(id, filename, size) {\n",
              "      if (!google.colab.kernel.accessAllowed) {\n",
              "        return;\n",
              "      }\n",
              "      const div = document.createElement('div');\n",
              "      const label = document.createElement('label');\n",
              "      label.textContent = `Downloading \"${filename}\": `;\n",
              "      div.appendChild(label);\n",
              "      const progress = document.createElement('progress');\n",
              "      progress.max = size;\n",
              "      div.appendChild(progress);\n",
              "      document.body.appendChild(div);\n",
              "\n",
              "      const buffers = [];\n",
              "      let downloaded = 0;\n",
              "\n",
              "      const channel = await google.colab.kernel.comms.open(id);\n",
              "      // Send a message to notify the kernel that we're ready.\n",
              "      channel.send({})\n",
              "\n",
              "      for await (const message of channel.messages) {\n",
              "        // Send a message to notify the kernel that we're ready.\n",
              "        channel.send({})\n",
              "        if (message.buffers) {\n",
              "          for (const buffer of message.buffers) {\n",
              "            buffers.push(buffer);\n",
              "            downloaded += buffer.byteLength;\n",
              "            progress.value = downloaded;\n",
              "          }\n",
              "        }\n",
              "      }\n",
              "      const blob = new Blob(buffers, {type: 'application/binary'});\n",
              "      const a = document.createElement('a');\n",
              "      a.href = window.URL.createObjectURL(blob);\n",
              "      a.download = filename;\n",
              "      div.appendChild(a);\n",
              "      a.click();\n",
              "      div.remove();\n",
              "    }\n",
              "  "
            ],
            "text/plain": [
              "<IPython.core.display.Javascript object>"
            ]
          },
          "metadata": {
            "tags": []
          }
        },
        {
          "output_type": "display_data",
          "data": {
            "application/javascript": [
              "download(\"download_819c9f69-90f9-4fe1-82fa-2770c6d2e9f2\", \"2021_07_19_aparments.csv\", 13030)"
            ],
            "text/plain": [
              "<IPython.core.display.Javascript object>"
            ]
          },
          "metadata": {
            "tags": []
          }
        }
      ]
    },
    {
      "cell_type": "code",
      "metadata": {
        "colab": {
          "base_uri": "https://localhost:8080/",
          "height": 205
        },
        "id": "--h6H3vctozF",
        "outputId": "a6098f22-3317-4012-90f9-c922221f55aa"
      },
      "source": [
        "#Grouping by year, month and rooms\n",
        "df1_grouped = df1_apa.copy()\n",
        "df1_grouped = df1_grouped.assign(price_sqr = round((df1_grouped['price']/df1_grouped['sqr_meters']), 2),\n",
        "                                 year = df1_grouped['date'].dt.year,\n",
        "                                 month = df1_grouped['date'].dt.month)\n",
        "df1_grouped = df1_grouped.groupby(['year', 'month', 'rooms']).agg(price = ('price', 'mean'), price_sqr = ('price_sqr', 'mean')).reset_index()\n",
        "df1_grouped.tail()"
      ],
      "execution_count": null,
      "outputs": [
        {
          "output_type": "execute_result",
          "data": {
            "text/html": [
              "<div>\n",
              "<style scoped>\n",
              "    .dataframe tbody tr th:only-of-type {\n",
              "        vertical-align: middle;\n",
              "    }\n",
              "\n",
              "    .dataframe tbody tr th {\n",
              "        vertical-align: top;\n",
              "    }\n",
              "\n",
              "    .dataframe thead th {\n",
              "        text-align: right;\n",
              "    }\n",
              "</style>\n",
              "<table border=\"1\" class=\"dataframe\">\n",
              "  <thead>\n",
              "    <tr style=\"text-align: right;\">\n",
              "      <th></th>\n",
              "      <th>year</th>\n",
              "      <th>month</th>\n",
              "      <th>rooms</th>\n",
              "      <th>price</th>\n",
              "      <th>price_sqr</th>\n",
              "    </tr>\n",
              "  </thead>\n",
              "  <tbody>\n",
              "    <tr>\n",
              "      <th>61</th>\n",
              "      <td>2021</td>\n",
              "      <td>11</td>\n",
              "      <td>2</td>\n",
              "      <td>NaN</td>\n",
              "      <td>NaN</td>\n",
              "    </tr>\n",
              "    <tr>\n",
              "      <th>62</th>\n",
              "      <td>2021</td>\n",
              "      <td>11</td>\n",
              "      <td>3</td>\n",
              "      <td>NaN</td>\n",
              "      <td>NaN</td>\n",
              "    </tr>\n",
              "    <tr>\n",
              "      <th>63</th>\n",
              "      <td>2021</td>\n",
              "      <td>12</td>\n",
              "      <td>1</td>\n",
              "      <td>NaN</td>\n",
              "      <td>NaN</td>\n",
              "    </tr>\n",
              "    <tr>\n",
              "      <th>64</th>\n",
              "      <td>2021</td>\n",
              "      <td>12</td>\n",
              "      <td>2</td>\n",
              "      <td>NaN</td>\n",
              "      <td>NaN</td>\n",
              "    </tr>\n",
              "    <tr>\n",
              "      <th>65</th>\n",
              "      <td>2021</td>\n",
              "      <td>12</td>\n",
              "      <td>3</td>\n",
              "      <td>NaN</td>\n",
              "      <td>NaN</td>\n",
              "    </tr>\n",
              "  </tbody>\n",
              "</table>\n",
              "</div>"
            ],
            "text/plain": [
              "    year  month rooms  price  price_sqr\n",
              "61  2021     11     2    NaN        NaN\n",
              "62  2021     11     3    NaN        NaN\n",
              "63  2021     12     1    NaN        NaN\n",
              "64  2021     12     2    NaN        NaN\n",
              "65  2021     12     3    NaN        NaN"
            ]
          },
          "metadata": {
            "tags": []
          },
          "execution_count": 49
        }
      ]
    },
    {
      "cell_type": "code",
      "metadata": {
        "colab": {
          "base_uri": "https://localhost:8080/",
          "height": 333,
          "referenced_widgets": [
            "e87e1178612b4d8f8558a776c7609bd3",
            "ca357124379f4560ac896b5af0d3227c",
            "75e4e910e4de4cc69ff4e33d4be7202b",
            "f4afb9b298cb406888aae53bbe4cbb4b",
            "daa278f7f4844767bd377815f79583e1",
            "1944b23c8a5d429d8557e5b80a9df550",
            "5d3a90b110b9491c97902be95ba6646a"
          ]
        },
        "id": "vuI3UM-x0Y0e",
        "outputId": "11b403c6-6aa7-49cd-ca85-acf27241bb58"
      },
      "source": [
        "#Plotting square meters vs price\n",
        "@interact(rooms=[1,2,3])\n",
        "def plot_scatter(rooms):\n",
        "  sns.regplot(x='sqr_meters', y='price', data=df1_apa[df1_apa['rooms']==rooms], seed=1)\n",
        "  plt.title(f'Scatterplot of {rooms} rooms Apartments')\n",
        "  plt.show()"
      ],
      "execution_count": null,
      "outputs": [
        {
          "output_type": "display_data",
          "data": {
            "application/vnd.jupyter.widget-view+json": {
              "model_id": "e87e1178612b4d8f8558a776c7609bd3",
              "version_minor": 0,
              "version_major": 2
            },
            "text/plain": [
              "interactive(children=(Dropdown(description='rooms', options=(1, 2, 3), value=1), Output()), _dom_classes=('wid…"
            ]
          },
          "metadata": {
            "tags": []
          }
        }
      ]
    },
    {
      "cell_type": "code",
      "metadata": {
        "colab": {
          "base_uri": "https://localhost:8080/",
          "height": 481,
          "referenced_widgets": [
            "c5473b49fa79439dafcd06233d4aaf35",
            "14c6f70544794c9d82f2a6facfff0332",
            "f405467e4b7048668725511df41e40c7",
            "71d4ab4ffe814e829a4e29c2235cac41",
            "843849749b70452e9e9f048e5ccd54ba",
            "cd53cbd615914b528ec31747d1da6b3c",
            "38be473022ea423cbf6505c3daa5705f",
            "0da98d90b63144d796b2562ca02f51f0",
            "398a7b9de1de48648509e3309da193d8",
            "619bd374907e4f5b89c35e6526b4ab5d"
          ]
        },
        "id": "7jEcYoXGtH02",
        "outputId": "feb03d6b-377c-4562-b476-87fd4d98f450"
      },
      "source": [
        "#Plot the price vs time for different categories\n",
        "@interact(year=[2020, 2021], rooms=df1_apa['rooms'].unique())\n",
        "def plot_scatter(year, rooms):\n",
        "  fig1_a = px.bar(data_frame=df1_grouped[(df1_grouped['year']==year) & (df1_grouped['rooms']==rooms)], x='month', y='price',\n",
        "                  title='Apartments in Quito - La Carolina', width=900, height=400)\n",
        "  fig1_a.show()"
      ],
      "execution_count": null,
      "outputs": [
        {
          "output_type": "display_data",
          "data": {
            "application/vnd.jupyter.widget-view+json": {
              "model_id": "c5473b49fa79439dafcd06233d4aaf35",
              "version_minor": 0,
              "version_major": 2
            },
            "text/plain": [
              "interactive(children=(Dropdown(description='year', options=(2020, 2021), value=2020), Dropdown(description='ro…"
            ]
          },
          "metadata": {
            "tags": []
          }
        }
      ]
    },
    {
      "cell_type": "markdown",
      "metadata": {
        "id": "AbJJDSofAgET"
      },
      "source": [
        "##Machine Learning modeling"
      ]
    },
    {
      "cell_type": "markdown",
      "metadata": {
        "id": "yRVaKdBFCxq-"
      },
      "source": [
        "###Uploading data"
      ]
    },
    {
      "cell_type": "code",
      "metadata": {
        "id": "PcSlHv1IA0Sk"
      },
      "source": [
        "#Importing necessary packages\n",
        "import numpy as np\n",
        "import pandas as pd\n",
        "import matplotlib.pyplot as plt\n",
        "import seaborn as sns"
      ],
      "execution_count": null,
      "outputs": []
    },
    {
      "cell_type": "code",
      "metadata": {
        "id": "s6o5Wg8QA0Sk"
      },
      "source": [
        "#Customizing data visualization style\n",
        "sns.set_theme(rc = {'figure.figsize': (12, 4)})"
      ],
      "execution_count": null,
      "outputs": []
    },
    {
      "cell_type": "code",
      "metadata": {
        "colab": {
          "resources": {
            "http://localhost:8080/nbextensions/google.colab/files.js": {
              "data": "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",
              "ok": true,
              "headers": [
                [
                  "content-type",
                  "application/javascript"
                ]
              ],
              "status": 200,
              "status_text": ""
            }
          },
          "base_uri": "https://localhost:8080/",
          "height": 73
        },
        "id": "14TwkZ4vA0Sl",
        "outputId": "f48f3e41-76aa-4a4f-cb98-6b049d668b88"
      },
      "source": [
        "#Uploading file from local drive\n",
        "from google.colab import files\n",
        "uploaded1 = files.upload()"
      ],
      "execution_count": null,
      "outputs": [
        {
          "output_type": "display_data",
          "data": {
            "text/html": [
              "\n",
              "     <input type=\"file\" id=\"files-5b0efc78-cb6a-4276-b4bf-437716b18f6f\" name=\"files[]\" multiple disabled\n",
              "        style=\"border:none\" />\n",
              "     <output id=\"result-5b0efc78-cb6a-4276-b4bf-437716b18f6f\">\n",
              "      Upload widget is only available when the cell has been executed in the\n",
              "      current browser session. Please rerun this cell to enable.\n",
              "      </output>\n",
              "      <script src=\"/nbextensions/google.colab/files.js\"></script> "
            ],
            "text/plain": [
              "<IPython.core.display.HTML object>"
            ]
          },
          "metadata": {
            "tags": []
          }
        },
        {
          "output_type": "stream",
          "text": [
            "Saving 2021_07_19_apartments.csv to 2021_07_19_apartments.csv\n"
          ],
          "name": "stdout"
        }
      ]
    },
    {
      "cell_type": "code",
      "metadata": {
        "id": "6tZhQF3_A0Sl"
      },
      "source": [
        "#Storing dataset in a Pandas Dataframe\n",
        "import io\n",
        "df1_ml = pd.read_csv(io.BytesIO(uploaded1['2021_07_19_apartments.csv']), parse_dates=True)"
      ],
      "execution_count": null,
      "outputs": []
    },
    {
      "cell_type": "code",
      "metadata": {
        "colab": {
          "base_uri": "https://localhost:8080/",
          "height": 205
        },
        "id": "Org4lJZaBnyA",
        "outputId": "1e84e6f8-78a2-4261-9eb9-5549f2208041"
      },
      "source": [
        "#Dropping date column, assigning categorical type\n",
        "df1_ml = df1_ml.drop(columns='date')\n",
        "df1_ml['rooms'] = df1_ml['rooms'].astype(\"category\")\n",
        "df1_ml['bathrooms'] = df1_ml['bathrooms'].astype(\"category\")\n",
        "df1_ml.tail()"
      ],
      "execution_count": null,
      "outputs": [
        {
          "output_type": "execute_result",
          "data": {
            "text/html": [
              "<div>\n",
              "<style scoped>\n",
              "    .dataframe tbody tr th:only-of-type {\n",
              "        vertical-align: middle;\n",
              "    }\n",
              "\n",
              "    .dataframe tbody tr th {\n",
              "        vertical-align: top;\n",
              "    }\n",
              "\n",
              "    .dataframe thead th {\n",
              "        text-align: right;\n",
              "    }\n",
              "</style>\n",
              "<table border=\"1\" class=\"dataframe\">\n",
              "  <thead>\n",
              "    <tr style=\"text-align: right;\">\n",
              "      <th></th>\n",
              "      <th>sqr_meters</th>\n",
              "      <th>rooms</th>\n",
              "      <th>bathrooms</th>\n",
              "      <th>price</th>\n",
              "    </tr>\n",
              "  </thead>\n",
              "  <tbody>\n",
              "    <tr>\n",
              "      <th>319</th>\n",
              "      <td>121</td>\n",
              "      <td>3</td>\n",
              "      <td>3</td>\n",
              "      <td>155000</td>\n",
              "    </tr>\n",
              "    <tr>\n",
              "      <th>320</th>\n",
              "      <td>76</td>\n",
              "      <td>3</td>\n",
              "      <td>2</td>\n",
              "      <td>99000</td>\n",
              "    </tr>\n",
              "    <tr>\n",
              "      <th>321</th>\n",
              "      <td>86</td>\n",
              "      <td>2</td>\n",
              "      <td>3</td>\n",
              "      <td>146000</td>\n",
              "    </tr>\n",
              "    <tr>\n",
              "      <th>322</th>\n",
              "      <td>113</td>\n",
              "      <td>3</td>\n",
              "      <td>3</td>\n",
              "      <td>221426</td>\n",
              "    </tr>\n",
              "    <tr>\n",
              "      <th>323</th>\n",
              "      <td>117</td>\n",
              "      <td>3</td>\n",
              "      <td>3</td>\n",
              "      <td>179530</td>\n",
              "    </tr>\n",
              "  </tbody>\n",
              "</table>\n",
              "</div>"
            ],
            "text/plain": [
              "     sqr_meters rooms bathrooms   price\n",
              "319         121     3         3  155000\n",
              "320          76     3         2   99000\n",
              "321          86     2         3  146000\n",
              "322         113     3         3  221426\n",
              "323         117     3         3  179530"
            ]
          },
          "metadata": {
            "tags": []
          },
          "execution_count": 5
        }
      ]
    },
    {
      "cell_type": "markdown",
      "metadata": {
        "id": "0cz0tnvLC1NB"
      },
      "source": [
        "###Linear Regression"
      ]
    },
    {
      "cell_type": "code",
      "metadata": {
        "id": "0l9hkAtyCvR3"
      },
      "source": [
        "#Importing machine learning libraries\n",
        "from sklearn.model_selection import train_test_split\n",
        "from sklearn.preprocessing import MinMaxScaler\n",
        "from sklearn.linear_model import LinearRegression"
      ],
      "execution_count": null,
      "outputs": []
    },
    {
      "cell_type": "code",
      "metadata": {
        "colab": {
          "base_uri": "https://localhost:8080/"
        },
        "id": "-wujoGF0DAi0",
        "outputId": "0c441541-727d-4e82-8899-7fb5410f4402"
      },
      "source": [
        "#Splitting the dataset into train and test\n",
        "X = np.c_[df1_ml['sqr_meters'].to_numpy(), df1_ml['rooms'].to_numpy(), df1_ml['bathrooms'].to_numpy()]\n",
        "X_train, X_test, y_train, y_test = train_test_split(X, np.array(df1_ml['price']), random_state=1)\n",
        "print(X_train.shape, X_test.shape)\n",
        "\n",
        "#lr = LinearRegression().fit(X_train, y_train)\n",
        "#print(f'lr.coef_: {lr.coef_}, lr.intercept_: {lr.intercept_}')"
      ],
      "execution_count": null,
      "outputs": [
        {
          "output_type": "stream",
          "text": [
            "(243, 3) (81, 3)\n"
          ],
          "name": "stdout"
        }
      ]
    },
    {
      "cell_type": "code",
      "metadata": {
        "colab": {
          "base_uri": "https://localhost:8080/"
        },
        "id": "ETcMnJKbxyI1",
        "outputId": "409def3a-61e9-42bb-b67a-7f27d0c9109b"
      },
      "source": [
        "#Preprocessing using 0-1 scaling\n",
        "scaler = MinMaxScaler()\n",
        "scaler.fit(X_train)\n",
        "X_train_scaled = scaler.transform(X_train)\n",
        "X_test_scaled = scaler.transform(X_test)\n",
        "print(X_train_scaled[:5])\n",
        "print(X_test_scaled[:5])"
      ],
      "execution_count": null,
      "outputs": [
        {
          "output_type": "stream",
          "text": [
            "[[0.22 0.   0.  ]\n",
            " [0.42 0.   0.  ]\n",
            " [0.56 0.5  1.  ]\n",
            " [0.45 0.   0.5 ]\n",
            " [0.24 0.   0.5 ]]\n",
            "[[0.13 0.   0.5 ]\n",
            " [0.48 0.5  0.5 ]\n",
            " [0.1  0.   0.5 ]\n",
            " [0.19 0.   0.  ]\n",
            " [0.13 0.   0.5 ]]\n"
          ],
          "name": "stdout"
        }
      ]
    },
    {
      "cell_type": "code",
      "metadata": {
        "colab": {
          "base_uri": "https://localhost:8080/"
        },
        "id": "f89VV0BNzIRl",
        "outputId": "c33f45e3-95e1-413f-c1d2-65bb976d6484"
      },
      "source": [
        "#Performing Liner Regression on apartment prices\n",
        "lr = LinearRegression().fit(X_train_scaled, y_train)\n",
        "print(f'lr.coef_: {lr.coef_}, lr.intercept_: {lr.intercept_}')"
      ],
      "execution_count": null,
      "outputs": [
        {
          "output_type": "stream",
          "text": [
            "lr.coef_: [56743.49336176  -358.5767255  49152.81300228], lr.intercept_: 90740.25334670303\n"
          ],
          "name": "stdout"
        }
      ]
    },
    {
      "cell_type": "code",
      "metadata": {
        "colab": {
          "base_uri": "https://localhost:8080/"
        },
        "id": "6mAoQVLyMduX",
        "outputId": "9baf943b-09b3-45cb-8886-6c00bebaaf03"
      },
      "source": [
        "#Looking at the training set and test set performance\n",
        "print(f'Training set score: {lr.score(X_train_scaled, y_train)}')\n",
        "print(f'Training test score: {lr.score(X_test_scaled, y_test)}')"
      ],
      "execution_count": null,
      "outputs": [
        {
          "output_type": "stream",
          "text": [
            "Training set score: 0.44162440822932986\n",
            "Training test score: 0.3396124340805059\n"
          ],
          "name": "stdout"
        }
      ]
    }
  ]
}