{
  "nbformat": 4,
  "nbformat_minor": 0,
  "metadata": {
    "colab": {
      "name": "bysykkel_analysis.ipynb",
      "provenance": [],
      "collapsed_sections": [
        "sgzkv1LwjLIL",
        "nFhbxv-B6dN7"
      ],
      "authorship_tag": "ABX9TyN2tx0tzUiSLV71PGBVhRqp",
      "include_colab_link": true
    },
    "kernelspec": {
      "name": "python3",
      "display_name": "Python 3"
    },
    "language_info": {
      "name": "python"
    }
  },
  "cells": [
    {
      "cell_type": "markdown",
      "metadata": {
        "id": "view-in-github",
        "colab_type": "text"
      },
      "source": [
        "<a href=\"https://colab.research.google.com/github/gabrielborja/python_data_analysis/blob/main/bysykkel_analysis.ipynb\" target=\"_parent\"><img src=\"https://colab.research.google.com/assets/colab-badge.svg\" alt=\"Open In Colab\"/></a>"
      ]
    },
    {
      "cell_type": "markdown",
      "metadata": {
        "id": "eTZwpRZNRhGY"
      },
      "source": [
        "# Bysyykel Oslo"
      ]
    },
    {
      "cell_type": "markdown",
      "metadata": {
        "id": "sgzkv1LwjLIL"
      },
      "source": [
        "## Uploading packages and data"
      ]
    },
    {
      "cell_type": "code",
      "metadata": {
        "id": "QTRtRZcb-IyF"
      },
      "source": [
        "#Importing necessary packages\n",
        "import numpy as np\n",
        "import pandas as pd\n",
        "import random\n",
        "import matplotlib.pyplot as plt\n",
        "#import seaborn as sns"
      ],
      "execution_count": 1,
      "outputs": []
    },
    {
      "cell_type": "code",
      "metadata": {
        "id": "1Z4jxJjRRPLB"
      },
      "source": [
        "#Remove previous versions of the uploaded excel file\n",
        "!rm 2021_04_bysykkel.csv"
      ],
      "execution_count": null,
      "outputs": []
    },
    {
      "cell_type": "code",
      "metadata": {
        "colab": {
          "resources": {
            "http://localhost:8080/nbextensions/google.colab/files.js": {
              "data": "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",
              "ok": true,
              "headers": [
                [
                  "content-type",
                  "application/javascript"
                ]
              ],
              "status": 200,
              "status_text": ""
            }
          },
          "base_uri": "https://localhost:8080/",
          "height": 73
        },
        "id": "oen97ED1-rh-",
        "outputId": "217c7397-e5d7-45a8-9cf7-e6a8d1d33195"
      },
      "source": [
        "#Uploading file from local drive\n",
        "from google.colab import files\n",
        "uploaded = files.upload()"
      ],
      "execution_count": null,
      "outputs": [
        {
          "output_type": "display_data",
          "data": {
            "text/html": [
              "\n",
              "     <input type=\"file\" id=\"files-56e1f725-220d-4d69-a443-6b96878937fb\" name=\"files[]\" multiple disabled\n",
              "        style=\"border:none\" />\n",
              "     <output id=\"result-56e1f725-220d-4d69-a443-6b96878937fb\">\n",
              "      Upload widget is only available when the cell has been executed in the\n",
              "      current browser session. Please rerun this cell to enable.\n",
              "      </output>\n",
              "      <script src=\"/nbextensions/google.colab/files.js\"></script> "
            ],
            "text/plain": [
              "<IPython.core.display.HTML object>"
            ]
          },
          "metadata": {
            "tags": []
          }
        },
        {
          "output_type": "stream",
          "text": [
            "Saving 2021_04_bysykkel.csv to 2021_04_bysykkel.csv\n"
          ],
          "name": "stdout"
        }
      ]
    },
    {
      "cell_type": "code",
      "metadata": {
        "id": "03VoNwL0-3O6"
      },
      "source": [
        "#Storing dataset in a Pandas Dataframe\n",
        "import io\n",
        "by_df = pd.read_csv(io.BytesIO(uploaded['2021_04_bysykkel.csv']), parse_dates=True, infer_datetime_format=True)"
      ],
      "execution_count": null,
      "outputs": []
    },
    {
      "cell_type": "code",
      "metadata": {
        "id": "6wPknHC-JSRB",
        "colab": {
          "base_uri": "https://localhost:8080/"
        },
        "outputId": "e97b47a4-64d7-47a7-9e7f-43d16913bbe2"
      },
      "source": [
        "#Checking the dataframe information\n",
        "by_df.info()"
      ],
      "execution_count": null,
      "outputs": [
        {
          "output_type": "stream",
          "text": [
            "<class 'pandas.core.frame.DataFrame'>\n",
            "RangeIndex: 116864 entries, 0 to 116863\n",
            "Data columns (total 13 columns):\n",
            " #   Column                     Non-Null Count   Dtype  \n",
            "---  ------                     --------------   -----  \n",
            " 0   started_at                 116864 non-null  object \n",
            " 1   ended_at                   116864 non-null  object \n",
            " 2   duration                   116864 non-null  int64  \n",
            " 3   start_station_id           116864 non-null  int64  \n",
            " 4   start_station_name         116864 non-null  object \n",
            " 5   start_station_description  116858 non-null  object \n",
            " 6   start_station_latitude     116864 non-null  float64\n",
            " 7   start_station_longitude    116864 non-null  float64\n",
            " 8   end_station_id             116864 non-null  int64  \n",
            " 9   end_station_name           116864 non-null  object \n",
            " 10  end_station_description    116858 non-null  object \n",
            " 11  end_station_latitude       116864 non-null  float64\n",
            " 12  end_station_longitude      116864 non-null  float64\n",
            "dtypes: float64(4), int64(3), object(6)\n",
            "memory usage: 11.6+ MB\n"
          ],
          "name": "stdout"
        }
      ]
    },
    {
      "cell_type": "markdown",
      "metadata": {
        "id": "nFhbxv-B6dN7"
      },
      "source": [
        "##Data cleaning and manipulation"
      ]
    },
    {
      "cell_type": "code",
      "metadata": {
        "colab": {
          "base_uri": "https://localhost:8080/"
        },
        "id": "L-nwCWK84UZT",
        "outputId": "c95cb080-1ab4-4995-def3-448f07c17937"
      },
      "source": [
        "#Convert columns into datetime object and Oslo timezone\n",
        "by_df['started_at'] = pd.to_datetime(by_df['started_at'], format='%Y-%m-%d %H:%M:%S').dt.tz_convert('Europe/Oslo')\n",
        "by_df['ended_at'] = pd.to_datetime(by_df['ended_at'], format='%Y-%m-%d %H:%M:%S').dt.tz_convert('Europe/Oslo')\n",
        "by_df.info()"
      ],
      "execution_count": null,
      "outputs": [
        {
          "output_type": "stream",
          "text": [
            "<class 'pandas.core.frame.DataFrame'>\n",
            "RangeIndex: 116864 entries, 0 to 116863\n",
            "Data columns (total 13 columns):\n",
            " #   Column                     Non-Null Count   Dtype                      \n",
            "---  ------                     --------------   -----                      \n",
            " 0   started_at                 116864 non-null  datetime64[ns, Europe/Oslo]\n",
            " 1   ended_at                   116864 non-null  datetime64[ns, Europe/Oslo]\n",
            " 2   duration                   116864 non-null  int64                      \n",
            " 3   start_station_id           116864 non-null  int64                      \n",
            " 4   start_station_name         116864 non-null  object                     \n",
            " 5   start_station_description  116858 non-null  object                     \n",
            " 6   start_station_latitude     116864 non-null  float64                    \n",
            " 7   start_station_longitude    116864 non-null  float64                    \n",
            " 8   end_station_id             116864 non-null  int64                      \n",
            " 9   end_station_name           116864 non-null  object                     \n",
            " 10  end_station_description    116858 non-null  object                     \n",
            " 11  end_station_latitude       116864 non-null  float64                    \n",
            " 12  end_station_longitude      116864 non-null  float64                    \n",
            "dtypes: datetime64[ns, Europe/Oslo](2), float64(4), int64(3), object(4)\n",
            "memory usage: 11.6+ MB\n"
          ],
          "name": "stdout"
        }
      ]
    },
    {
      "cell_type": "code",
      "metadata": {
        "colab": {
          "base_uri": "https://localhost:8080/",
          "height": 160
        },
        "id": "aKX5w8Ws50XN",
        "outputId": "49b6ccad-8ace-4cd2-e4ba-d8e4cb3368fb"
      },
      "source": [
        "#Checking the dataframe head\n",
        "by_df.head(2)"
      ],
      "execution_count": null,
      "outputs": [
        {
          "output_type": "execute_result",
          "data": {
            "text/html": [
              "<div>\n",
              "<style scoped>\n",
              "    .dataframe tbody tr th:only-of-type {\n",
              "        vertical-align: middle;\n",
              "    }\n",
              "\n",
              "    .dataframe tbody tr th {\n",
              "        vertical-align: top;\n",
              "    }\n",
              "\n",
              "    .dataframe thead th {\n",
              "        text-align: right;\n",
              "    }\n",
              "</style>\n",
              "<table border=\"1\" class=\"dataframe\">\n",
              "  <thead>\n",
              "    <tr style=\"text-align: right;\">\n",
              "      <th></th>\n",
              "      <th>started_at</th>\n",
              "      <th>ended_at</th>\n",
              "      <th>duration</th>\n",
              "      <th>start_station_id</th>\n",
              "      <th>start_station_name</th>\n",
              "      <th>start_station_description</th>\n",
              "      <th>start_station_latitude</th>\n",
              "      <th>start_station_longitude</th>\n",
              "      <th>end_station_id</th>\n",
              "      <th>end_station_name</th>\n",
              "      <th>end_station_description</th>\n",
              "      <th>end_station_latitude</th>\n",
              "      <th>end_station_longitude</th>\n",
              "    </tr>\n",
              "  </thead>\n",
              "  <tbody>\n",
              "    <tr>\n",
              "      <th>0</th>\n",
              "      <td>2021-04-01 05:14:29.999000+02:00</td>\n",
              "      <td>2021-04-01 05:24:46.822000+02:00</td>\n",
              "      <td>616</td>\n",
              "      <td>407</td>\n",
              "      <td>Sagene bussholdeplass</td>\n",
              "      <td>langs Kierschovs gate</td>\n",
              "      <td>59.937743</td>\n",
              "      <td>10.751648</td>\n",
              "      <td>527</td>\n",
              "      <td>Biskop Gunnerus' gate</td>\n",
              "      <td>ved Oslo City</td>\n",
              "      <td>59.912334</td>\n",
              "      <td>10.752292</td>\n",
              "    </tr>\n",
              "    <tr>\n",
              "      <th>1</th>\n",
              "      <td>2021-04-01 05:38:10.860000+02:00</td>\n",
              "      <td>2021-04-01 05:49:05.972000+02:00</td>\n",
              "      <td>655</td>\n",
              "      <td>744</td>\n",
              "      <td>Hallénparken</td>\n",
              "      <td>ved Vogts gate</td>\n",
              "      <td>59.931530</td>\n",
              "      <td>10.762169</td>\n",
              "      <td>522</td>\n",
              "      <td>Mandalls gate</td>\n",
              "      <td>ved Grønlandsleiret</td>\n",
              "      <td>59.912347</td>\n",
              "      <td>10.763815</td>\n",
              "    </tr>\n",
              "  </tbody>\n",
              "</table>\n",
              "</div>"
            ],
            "text/plain": [
              "                        started_at  ... end_station_longitude\n",
              "0 2021-04-01 05:14:29.999000+02:00  ...             10.752292\n",
              "1 2021-04-01 05:38:10.860000+02:00  ...             10.763815\n",
              "\n",
              "[2 rows x 13 columns]"
            ]
          },
          "metadata": {
            "tags": []
          },
          "execution_count": 6
        }
      ]
    },
    {
      "cell_type": "code",
      "metadata": {
        "id": "4r7R8-oA6XBs"
      },
      "source": [
        "#Creating 2 dataframes, one with starting trips and one with end trips\n",
        "st_df = by_df[['started_at', 'start_station_id', 'start_station_name', 'start_station_latitude', 'start_station_longitude', 'duration']]\n",
        "en_df = by_df[['ended_at', 'end_station_id', 'end_station_name', 'end_station_latitude', 'end_station_longitude', 'duration']]"
      ],
      "execution_count": null,
      "outputs": []
    },
    {
      "cell_type": "code",
      "metadata": {
        "id": "egIQBPjdPitO"
      },
      "source": [
        "#Creating a function to extract categories from datetime object\n",
        "def convert_dates(df):\n",
        "  \"\"\"Extract year, month, week number, day, hour and minutes from datetime column\"\"\"\n",
        "  df = df.assign(year = df.iloc[:,0].dt.year,\n",
        "                 month = df.iloc[:,0].dt.month_name(),\n",
        "                 weeknum = df.iloc[:,0].dt.isocalendar().week,\n",
        "                 day = df.iloc[:,0].dt.day_name(),\n",
        "                 hour = df.iloc[:,0].dt.hour,\n",
        "                 minute = df.iloc[:,0].dt.minute\n",
        "                 )\n",
        "  return df"
      ],
      "execution_count": null,
      "outputs": []
    },
    {
      "cell_type": "code",
      "metadata": {
        "colab": {
          "base_uri": "https://localhost:8080/",
          "height": 106
        },
        "id": "aTuzDaWRS02L",
        "outputId": "f23a76b4-9387-4ec6-d0c6-ff2069182dbf"
      },
      "source": [
        "#Converting dates for starting journeys dataframe\n",
        "st_df = convert_dates(st_df)\n",
        "st_df.head(2)"
      ],
      "execution_count": null,
      "outputs": [
        {
          "output_type": "execute_result",
          "data": {
            "text/html": [
              "<div>\n",
              "<style scoped>\n",
              "    .dataframe tbody tr th:only-of-type {\n",
              "        vertical-align: middle;\n",
              "    }\n",
              "\n",
              "    .dataframe tbody tr th {\n",
              "        vertical-align: top;\n",
              "    }\n",
              "\n",
              "    .dataframe thead th {\n",
              "        text-align: right;\n",
              "    }\n",
              "</style>\n",
              "<table border=\"1\" class=\"dataframe\">\n",
              "  <thead>\n",
              "    <tr style=\"text-align: right;\">\n",
              "      <th></th>\n",
              "      <th>started_at</th>\n",
              "      <th>start_station_id</th>\n",
              "      <th>start_station_name</th>\n",
              "      <th>start_station_latitude</th>\n",
              "      <th>start_station_longitude</th>\n",
              "      <th>duration</th>\n",
              "      <th>year</th>\n",
              "      <th>month</th>\n",
              "      <th>weeknum</th>\n",
              "      <th>day</th>\n",
              "      <th>hour</th>\n",
              "      <th>minute</th>\n",
              "    </tr>\n",
              "  </thead>\n",
              "  <tbody>\n",
              "    <tr>\n",
              "      <th>0</th>\n",
              "      <td>2021-04-01 05:14:29.999000+02:00</td>\n",
              "      <td>407</td>\n",
              "      <td>Sagene bussholdeplass</td>\n",
              "      <td>59.937743</td>\n",
              "      <td>10.751648</td>\n",
              "      <td>616</td>\n",
              "      <td>2021</td>\n",
              "      <td>April</td>\n",
              "      <td>13</td>\n",
              "      <td>Thursday</td>\n",
              "      <td>5</td>\n",
              "      <td>14</td>\n",
              "    </tr>\n",
              "    <tr>\n",
              "      <th>1</th>\n",
              "      <td>2021-04-01 05:38:10.860000+02:00</td>\n",
              "      <td>744</td>\n",
              "      <td>Hallénparken</td>\n",
              "      <td>59.931530</td>\n",
              "      <td>10.762169</td>\n",
              "      <td>655</td>\n",
              "      <td>2021</td>\n",
              "      <td>April</td>\n",
              "      <td>13</td>\n",
              "      <td>Thursday</td>\n",
              "      <td>5</td>\n",
              "      <td>38</td>\n",
              "    </tr>\n",
              "  </tbody>\n",
              "</table>\n",
              "</div>"
            ],
            "text/plain": [
              "                        started_at  start_station_id  ... hour  minute\n",
              "0 2021-04-01 05:14:29.999000+02:00               407  ...    5      14\n",
              "1 2021-04-01 05:38:10.860000+02:00               744  ...    5      38\n",
              "\n",
              "[2 rows x 12 columns]"
            ]
          },
          "metadata": {
            "tags": []
          },
          "execution_count": 45
        }
      ]
    },
    {
      "cell_type": "code",
      "metadata": {
        "colab": {
          "base_uri": "https://localhost:8080/",
          "height": 106
        },
        "id": "TjdQdzNIUkUJ",
        "outputId": "6adce19f-e8a7-4153-b9e2-4aa97eeb9a11"
      },
      "source": [
        "#Converting dates for end journeys dataframe\n",
        "en_df = convert_dates(en_df)\n",
        "en_df.head(2)"
      ],
      "execution_count": null,
      "outputs": [
        {
          "output_type": "execute_result",
          "data": {
            "text/html": [
              "<div>\n",
              "<style scoped>\n",
              "    .dataframe tbody tr th:only-of-type {\n",
              "        vertical-align: middle;\n",
              "    }\n",
              "\n",
              "    .dataframe tbody tr th {\n",
              "        vertical-align: top;\n",
              "    }\n",
              "\n",
              "    .dataframe thead th {\n",
              "        text-align: right;\n",
              "    }\n",
              "</style>\n",
              "<table border=\"1\" class=\"dataframe\">\n",
              "  <thead>\n",
              "    <tr style=\"text-align: right;\">\n",
              "      <th></th>\n",
              "      <th>ended_at</th>\n",
              "      <th>end_station_id</th>\n",
              "      <th>end_station_name</th>\n",
              "      <th>end_station_latitude</th>\n",
              "      <th>end_station_longitude</th>\n",
              "      <th>duration</th>\n",
              "      <th>year</th>\n",
              "      <th>month</th>\n",
              "      <th>weeknum</th>\n",
              "      <th>day</th>\n",
              "      <th>hour</th>\n",
              "      <th>minute</th>\n",
              "    </tr>\n",
              "  </thead>\n",
              "  <tbody>\n",
              "    <tr>\n",
              "      <th>0</th>\n",
              "      <td>2021-04-01 05:24:46.822000+02:00</td>\n",
              "      <td>527</td>\n",
              "      <td>Biskop Gunnerus' gate</td>\n",
              "      <td>59.912334</td>\n",
              "      <td>10.752292</td>\n",
              "      <td>616</td>\n",
              "      <td>2021</td>\n",
              "      <td>April</td>\n",
              "      <td>13</td>\n",
              "      <td>Thursday</td>\n",
              "      <td>5</td>\n",
              "      <td>24</td>\n",
              "    </tr>\n",
              "    <tr>\n",
              "      <th>1</th>\n",
              "      <td>2021-04-01 05:49:05.972000+02:00</td>\n",
              "      <td>522</td>\n",
              "      <td>Mandalls gate</td>\n",
              "      <td>59.912347</td>\n",
              "      <td>10.763815</td>\n",
              "      <td>655</td>\n",
              "      <td>2021</td>\n",
              "      <td>April</td>\n",
              "      <td>13</td>\n",
              "      <td>Thursday</td>\n",
              "      <td>5</td>\n",
              "      <td>49</td>\n",
              "    </tr>\n",
              "  </tbody>\n",
              "</table>\n",
              "</div>"
            ],
            "text/plain": [
              "                          ended_at  end_station_id  ... hour  minute\n",
              "0 2021-04-01 05:24:46.822000+02:00             527  ...    5      24\n",
              "1 2021-04-01 05:49:05.972000+02:00             522  ...    5      49\n",
              "\n",
              "[2 rows x 12 columns]"
            ]
          },
          "metadata": {
            "tags": []
          },
          "execution_count": 10
        }
      ]
    },
    {
      "cell_type": "code",
      "metadata": {
        "colab": {
          "base_uri": "https://localhost:8080/",
          "height": 343
        },
        "id": "CCuqDk_Jijmj",
        "outputId": "df936f02-1034-41ce-ce51-89b5c0104385"
      },
      "source": [
        "#Start location count\n",
        "st_loc = st_df.groupby(['start_station_name', 'start_station_latitude', 'start_station_longitude']).agg({'duration': 'count'}).reset_index()\n",
        "st_loc = st_loc.rename(columns={'duration': 'trips'}).sort_values(by='trips', ascending=False).reset_index(drop=True)\n",
        "st_loc = st_loc.rename(columns={'start_station_name':'name', 'start_station_latitude':'lat', 'start_station_longitude':'lon'})\n",
        "st_loc.head(10)"
      ],
      "execution_count": null,
      "outputs": [
        {
          "output_type": "execute_result",
          "data": {
            "text/html": [
              "<div>\n",
              "<style scoped>\n",
              "    .dataframe tbody tr th:only-of-type {\n",
              "        vertical-align: middle;\n",
              "    }\n",
              "\n",
              "    .dataframe tbody tr th {\n",
              "        vertical-align: top;\n",
              "    }\n",
              "\n",
              "    .dataframe thead th {\n",
              "        text-align: right;\n",
              "    }\n",
              "</style>\n",
              "<table border=\"1\" class=\"dataframe\">\n",
              "  <thead>\n",
              "    <tr style=\"text-align: right;\">\n",
              "      <th></th>\n",
              "      <th>start_station_name</th>\n",
              "      <th>start_station_latitude</th>\n",
              "      <th>start_station_longitude</th>\n",
              "      <th>trips</th>\n",
              "    </tr>\n",
              "  </thead>\n",
              "  <tbody>\n",
              "    <tr>\n",
              "      <th>0</th>\n",
              "      <td>Ringnes Park</td>\n",
              "      <td>59.928434</td>\n",
              "      <td>10.759430</td>\n",
              "      <td>1570</td>\n",
              "    </tr>\n",
              "    <tr>\n",
              "      <th>1</th>\n",
              "      <td>Alexander Kiellands Plass</td>\n",
              "      <td>59.928067</td>\n",
              "      <td>10.751203</td>\n",
              "      <td>1522</td>\n",
              "    </tr>\n",
              "    <tr>\n",
              "      <th>2</th>\n",
              "      <td>Majorstuen</td>\n",
              "      <td>59.929045</td>\n",
              "      <td>10.716926</td>\n",
              "      <td>1289</td>\n",
              "    </tr>\n",
              "    <tr>\n",
              "      <th>3</th>\n",
              "      <td>Bislettgata</td>\n",
              "      <td>59.923774</td>\n",
              "      <td>10.734713</td>\n",
              "      <td>1242</td>\n",
              "    </tr>\n",
              "    <tr>\n",
              "      <th>4</th>\n",
              "      <td>Rådhusbrygge 4</td>\n",
              "      <td>59.910847</td>\n",
              "      <td>10.730377</td>\n",
              "      <td>1189</td>\n",
              "    </tr>\n",
              "    <tr>\n",
              "      <th>5</th>\n",
              "      <td>Bislett Stadion</td>\n",
              "      <td>59.925471</td>\n",
              "      <td>10.731219</td>\n",
              "      <td>1185</td>\n",
              "    </tr>\n",
              "    <tr>\n",
              "      <th>6</th>\n",
              "      <td>Tjuvholmen</td>\n",
              "      <td>59.909467</td>\n",
              "      <td>10.722509</td>\n",
              "      <td>1149</td>\n",
              "    </tr>\n",
              "    <tr>\n",
              "      <th>7</th>\n",
              "      <td>Olaf Ryes plass</td>\n",
              "      <td>59.922425</td>\n",
              "      <td>10.758182</td>\n",
              "      <td>1100</td>\n",
              "    </tr>\n",
              "    <tr>\n",
              "      <th>8</th>\n",
              "      <td>Storo Storsenter</td>\n",
              "      <td>59.946710</td>\n",
              "      <td>10.773805</td>\n",
              "      <td>1094</td>\n",
              "    </tr>\n",
              "    <tr>\n",
              "      <th>9</th>\n",
              "      <td>Marcus Thranes gate</td>\n",
              "      <td>59.932772</td>\n",
              "      <td>10.758595</td>\n",
              "      <td>1082</td>\n",
              "    </tr>\n",
              "  </tbody>\n",
              "</table>\n",
              "</div>"
            ],
            "text/plain": [
              "          start_station_name  ...  trips\n",
              "0               Ringnes Park  ...   1570\n",
              "1  Alexander Kiellands Plass  ...   1522\n",
              "2                 Majorstuen  ...   1289\n",
              "3                Bislettgata  ...   1242\n",
              "4             Rådhusbrygge 4  ...   1189\n",
              "5            Bislett Stadion  ...   1185\n",
              "6                 Tjuvholmen  ...   1149\n",
              "7            Olaf Ryes plass  ...   1100\n",
              "8           Storo Storsenter  ...   1094\n",
              "9        Marcus Thranes gate  ...   1082\n",
              "\n",
              "[10 rows x 4 columns]"
            ]
          },
          "metadata": {
            "tags": []
          },
          "execution_count": 56
        }
      ]
    },
    {
      "cell_type": "code",
      "metadata": {
        "colab": {
          "base_uri": "https://localhost:8080/",
          "height": 343
        },
        "id": "DwAjTuTIk1o8",
        "outputId": "15c2eb9d-1a68-4f02-c509-6f9dcc983fe4"
      },
      "source": [
        "#End location count\n",
        "en_loc = en_df.groupby(['end_station_name', 'end_station_latitude', 'end_station_longitude']).agg({'duration': 'count'}).reset_index()\n",
        "en_loc = en_loc.rename(columns={'duration': 'trips'}).sort_values(by='trips', ascending=False).reset_index(drop=True)\n",
        "en_loc = en_loc.rename(columns={'end_station_name':'name', 'end_station_latitude':'lat', 'end_station_longitude':'lon'})\n",
        "en_loc.head(10)"
      ],
      "execution_count": null,
      "outputs": [
        {
          "output_type": "execute_result",
          "data": {
            "text/html": [
              "<div>\n",
              "<style scoped>\n",
              "    .dataframe tbody tr th:only-of-type {\n",
              "        vertical-align: middle;\n",
              "    }\n",
              "\n",
              "    .dataframe tbody tr th {\n",
              "        vertical-align: top;\n",
              "    }\n",
              "\n",
              "    .dataframe thead th {\n",
              "        text-align: right;\n",
              "    }\n",
              "</style>\n",
              "<table border=\"1\" class=\"dataframe\">\n",
              "  <thead>\n",
              "    <tr style=\"text-align: right;\">\n",
              "      <th></th>\n",
              "      <th>end_station_name</th>\n",
              "      <th>end_station_latitude</th>\n",
              "      <th>end_station_longitude</th>\n",
              "      <th>trips</th>\n",
              "    </tr>\n",
              "  </thead>\n",
              "  <tbody>\n",
              "    <tr>\n",
              "      <th>0</th>\n",
              "      <td>Rådhusbrygge 4</td>\n",
              "      <td>59.910847</td>\n",
              "      <td>10.730377</td>\n",
              "      <td>2007</td>\n",
              "    </tr>\n",
              "    <tr>\n",
              "      <th>1</th>\n",
              "      <td>Tjuvholmen</td>\n",
              "      <td>59.909467</td>\n",
              "      <td>10.722509</td>\n",
              "      <td>1645</td>\n",
              "    </tr>\n",
              "    <tr>\n",
              "      <th>2</th>\n",
              "      <td>Olaf Ryes plass</td>\n",
              "      <td>59.922425</td>\n",
              "      <td>10.758182</td>\n",
              "      <td>1577</td>\n",
              "    </tr>\n",
              "    <tr>\n",
              "      <th>3</th>\n",
              "      <td>Ringnes Park</td>\n",
              "      <td>59.928434</td>\n",
              "      <td>10.759430</td>\n",
              "      <td>1571</td>\n",
              "    </tr>\n",
              "    <tr>\n",
              "      <th>4</th>\n",
              "      <td>Alexander Kiellands Plass</td>\n",
              "      <td>59.928067</td>\n",
              "      <td>10.751203</td>\n",
              "      <td>1543</td>\n",
              "    </tr>\n",
              "    <tr>\n",
              "      <th>5</th>\n",
              "      <td>Bjørvika</td>\n",
              "      <td>59.909006</td>\n",
              "      <td>10.756180</td>\n",
              "      <td>1392</td>\n",
              "    </tr>\n",
              "    <tr>\n",
              "      <th>6</th>\n",
              "      <td>Sjøsiden ved trappen</td>\n",
              "      <td>59.910154</td>\n",
              "      <td>10.751981</td>\n",
              "      <td>1322</td>\n",
              "    </tr>\n",
              "    <tr>\n",
              "      <th>7</th>\n",
              "      <td>Helga Helgesens plass</td>\n",
              "      <td>59.912111</td>\n",
              "      <td>10.766194</td>\n",
              "      <td>1267</td>\n",
              "    </tr>\n",
              "    <tr>\n",
              "      <th>8</th>\n",
              "      <td>Majorstuen</td>\n",
              "      <td>59.929045</td>\n",
              "      <td>10.716926</td>\n",
              "      <td>1185</td>\n",
              "    </tr>\n",
              "    <tr>\n",
              "      <th>9</th>\n",
              "      <td>Jernbanetorget</td>\n",
              "      <td>59.911901</td>\n",
              "      <td>10.749929</td>\n",
              "      <td>1148</td>\n",
              "    </tr>\n",
              "  </tbody>\n",
              "</table>\n",
              "</div>"
            ],
            "text/plain": [
              "            end_station_name  ...  trips\n",
              "0             Rådhusbrygge 4  ...   2007\n",
              "1                 Tjuvholmen  ...   1645\n",
              "2            Olaf Ryes plass  ...   1577\n",
              "3               Ringnes Park  ...   1571\n",
              "4  Alexander Kiellands Plass  ...   1543\n",
              "5                   Bjørvika  ...   1392\n",
              "6       Sjøsiden ved trappen  ...   1322\n",
              "7      Helga Helgesens plass  ...   1267\n",
              "8                 Majorstuen  ...   1185\n",
              "9             Jernbanetorget  ...   1148\n",
              "\n",
              "[10 rows x 4 columns]"
            ]
          },
          "metadata": {
            "tags": []
          },
          "execution_count": 57
        }
      ]
    },
    {
      "cell_type": "code",
      "metadata": {
        "colab": {
          "base_uri": "https://localhost:8080/",
          "height": 17
        },
        "id": "GdT1R7f8dMty",
        "outputId": "63cbb6b5-c0c3-49de-8427-3f4dc4ab4864"
      },
      "source": [
        "#Exporting to csv into local disk\n",
        "from google.colab import files\n",
        "st_loc.to_csv('2021_04_st_loc.csv', index=False) #==> Excluding index from file\n",
        "files.download('2021_04_st_loc.csv')"
      ],
      "execution_count": null,
      "outputs": [
        {
          "output_type": "display_data",
          "data": {
            "application/javascript": [
              "\n",
              "    async function download(id, filename, size) {\n",
              "      if (!google.colab.kernel.accessAllowed) {\n",
              "        return;\n",
              "      }\n",
              "      const div = document.createElement('div');\n",
              "      const label = document.createElement('label');\n",
              "      label.textContent = `Downloading \"${filename}\": `;\n",
              "      div.appendChild(label);\n",
              "      const progress = document.createElement('progress');\n",
              "      progress.max = size;\n",
              "      div.appendChild(progress);\n",
              "      document.body.appendChild(div);\n",
              "\n",
              "      const buffers = [];\n",
              "      let downloaded = 0;\n",
              "\n",
              "      const channel = await google.colab.kernel.comms.open(id);\n",
              "      // Send a message to notify the kernel that we're ready.\n",
              "      channel.send({})\n",
              "\n",
              "      for await (const message of channel.messages) {\n",
              "        // Send a message to notify the kernel that we're ready.\n",
              "        channel.send({})\n",
              "        if (message.buffers) {\n",
              "          for (const buffer of message.buffers) {\n",
              "            buffers.push(buffer);\n",
              "            downloaded += buffer.byteLength;\n",
              "            progress.value = downloaded;\n",
              "          }\n",
              "        }\n",
              "      }\n",
              "      const blob = new Blob(buffers, {type: 'application/binary'});\n",
              "      const a = document.createElement('a');\n",
              "      a.href = window.URL.createObjectURL(blob);\n",
              "      a.download = filename;\n",
              "      div.appendChild(a);\n",
              "      a.click();\n",
              "      div.remove();\n",
              "    }\n",
              "  "
            ],
            "text/plain": [
              "<IPython.core.display.Javascript object>"
            ]
          },
          "metadata": {
            "tags": []
          }
        },
        {
          "output_type": "display_data",
          "data": {
            "application/javascript": [
              "download(\"download_94a85afe-4f05-434c-81e4-cb8c04f84b23\", \"2021_04_st_loc.csv\", 12419)"
            ],
            "text/plain": [
              "<IPython.core.display.Javascript object>"
            ]
          },
          "metadata": {
            "tags": []
          }
        }
      ]
    },
    {
      "cell_type": "code",
      "metadata": {
        "colab": {
          "base_uri": "https://localhost:8080/",
          "height": 17
        },
        "id": "uCKJfsixeT7n",
        "outputId": "453f920d-c306-455b-e826-9192dbb32584"
      },
      "source": [
        "#Exporting to excel into local disk\n",
        "from google.colab import files\n",
        "en_loc.to_csv('2021_04_en_loc.csv', index=False) #==> Excluding index from file\n",
        "files.download('2021_04_en_loc.csv')"
      ],
      "execution_count": null,
      "outputs": [
        {
          "output_type": "display_data",
          "data": {
            "application/javascript": [
              "\n",
              "    async function download(id, filename, size) {\n",
              "      if (!google.colab.kernel.accessAllowed) {\n",
              "        return;\n",
              "      }\n",
              "      const div = document.createElement('div');\n",
              "      const label = document.createElement('label');\n",
              "      label.textContent = `Downloading \"${filename}\": `;\n",
              "      div.appendChild(label);\n",
              "      const progress = document.createElement('progress');\n",
              "      progress.max = size;\n",
              "      div.appendChild(progress);\n",
              "      document.body.appendChild(div);\n",
              "\n",
              "      const buffers = [];\n",
              "      let downloaded = 0;\n",
              "\n",
              "      const channel = await google.colab.kernel.comms.open(id);\n",
              "      // Send a message to notify the kernel that we're ready.\n",
              "      channel.send({})\n",
              "\n",
              "      for await (const message of channel.messages) {\n",
              "        // Send a message to notify the kernel that we're ready.\n",
              "        channel.send({})\n",
              "        if (message.buffers) {\n",
              "          for (const buffer of message.buffers) {\n",
              "            buffers.push(buffer);\n",
              "            downloaded += buffer.byteLength;\n",
              "            progress.value = downloaded;\n",
              "          }\n",
              "        }\n",
              "      }\n",
              "      const blob = new Blob(buffers, {type: 'application/binary'});\n",
              "      const a = document.createElement('a');\n",
              "      a.href = window.URL.createObjectURL(blob);\n",
              "      a.download = filename;\n",
              "      div.appendChild(a);\n",
              "      a.click();\n",
              "      div.remove();\n",
              "    }\n",
              "  "
            ],
            "text/plain": [
              "<IPython.core.display.Javascript object>"
            ]
          },
          "metadata": {
            "tags": []
          }
        },
        {
          "output_type": "display_data",
          "data": {
            "application/javascript": [
              "download(\"download_9e9920f0-86a0-4cec-86ff-695867f77301\", \"2021_04_en_loc.csv\", 12416)"
            ],
            "text/plain": [
              "<IPython.core.display.Javascript object>"
            ]
          },
          "metadata": {
            "tags": []
          }
        }
      ]
    },
    {
      "cell_type": "markdown",
      "metadata": {
        "id": "lptmKKgKe7sD"
      },
      "source": [
        "##Data Visualization"
      ]
    },
    {
      "cell_type": "code",
      "metadata": {
        "id": "uKgvRXsJj927"
      },
      "source": [
        "#Remove previous versions of the uploaded csv file\n",
        "!rm 2021_04_st_loc.csv"
      ],
      "execution_count": null,
      "outputs": []
    },
    {
      "cell_type": "code",
      "metadata": {
        "colab": {
          "resources": {
            "http://localhost:8080/nbextensions/google.colab/files.js": {
              "data": "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",
              "ok": true,
              "headers": [
                [
                  "content-type",
                  "application/javascript"
                ]
              ],
              "status": 200,
              "status_text": ""
            }
          },
          "base_uri": "https://localhost:8080/",
          "height": 73
        },
        "id": "KkzDzxiJe9X6",
        "outputId": "775fa302-edee-4059-fa5a-6f6c0245cc7c"
      },
      "source": [
        "#Uploading file from local drive\n",
        "from google.colab import files\n",
        "uploaded1 = files.upload()"
      ],
      "execution_count": 3,
      "outputs": [
        {
          "output_type": "display_data",
          "data": {
            "text/html": [
              "\n",
              "     <input type=\"file\" id=\"files-d7830fbe-ce5e-4e37-97c6-5a197c35b571\" name=\"files[]\" multiple disabled\n",
              "        style=\"border:none\" />\n",
              "     <output id=\"result-d7830fbe-ce5e-4e37-97c6-5a197c35b571\">\n",
              "      Upload widget is only available when the cell has been executed in the\n",
              "      current browser session. Please rerun this cell to enable.\n",
              "      </output>\n",
              "      <script src=\"/nbextensions/google.colab/files.js\"></script> "
            ],
            "text/plain": [
              "<IPython.core.display.HTML object>"
            ]
          },
          "metadata": {
            "tags": []
          }
        },
        {
          "output_type": "stream",
          "text": [
            "Saving 2021_04_st_loc.csv to 2021_04_st_loc.csv\n"
          ],
          "name": "stdout"
        }
      ]
    },
    {
      "cell_type": "code",
      "metadata": {
        "id": "mIvQV39ffNan"
      },
      "source": [
        "#Reading aggregated data and storing into a Pandas Dataframe\n",
        "import io\n",
        "st_loc = pd.read_csv(io.BytesIO(uploaded1['2021_04_st_loc.csv']))"
      ],
      "execution_count": 6,
      "outputs": []
    },
    {
      "cell_type": "code",
      "metadata": {
        "colab": {
          "base_uri": "https://localhost:8080/",
          "height": 195
        },
        "id": "zLS9CYGwZ9W0",
        "outputId": "9f830b69-9701-4298-a107-92ecac3710b8"
      },
      "source": [
        "#Drop name columns\n",
        "st_loc = st_loc.drop(columns='name')\n",
        "st_loc.head()"
      ],
      "execution_count": 7,
      "outputs": [
        {
          "output_type": "execute_result",
          "data": {
            "text/html": [
              "<div>\n",
              "<style scoped>\n",
              "    .dataframe tbody tr th:only-of-type {\n",
              "        vertical-align: middle;\n",
              "    }\n",
              "\n",
              "    .dataframe tbody tr th {\n",
              "        vertical-align: top;\n",
              "    }\n",
              "\n",
              "    .dataframe thead th {\n",
              "        text-align: right;\n",
              "    }\n",
              "</style>\n",
              "<table border=\"1\" class=\"dataframe\">\n",
              "  <thead>\n",
              "    <tr style=\"text-align: right;\">\n",
              "      <th></th>\n",
              "      <th>lat</th>\n",
              "      <th>lon</th>\n",
              "      <th>trips</th>\n",
              "    </tr>\n",
              "  </thead>\n",
              "  <tbody>\n",
              "    <tr>\n",
              "      <th>0</th>\n",
              "      <td>59.928434</td>\n",
              "      <td>10.759430</td>\n",
              "      <td>1570</td>\n",
              "    </tr>\n",
              "    <tr>\n",
              "      <th>1</th>\n",
              "      <td>59.928067</td>\n",
              "      <td>10.751203</td>\n",
              "      <td>1522</td>\n",
              "    </tr>\n",
              "    <tr>\n",
              "      <th>2</th>\n",
              "      <td>59.929045</td>\n",
              "      <td>10.716926</td>\n",
              "      <td>1289</td>\n",
              "    </tr>\n",
              "    <tr>\n",
              "      <th>3</th>\n",
              "      <td>59.923774</td>\n",
              "      <td>10.734713</td>\n",
              "      <td>1242</td>\n",
              "    </tr>\n",
              "    <tr>\n",
              "      <th>4</th>\n",
              "      <td>59.910847</td>\n",
              "      <td>10.730377</td>\n",
              "      <td>1189</td>\n",
              "    </tr>\n",
              "  </tbody>\n",
              "</table>\n",
              "</div>"
            ],
            "text/plain": [
              "         lat        lon  trips\n",
              "0  59.928434  10.759430   1570\n",
              "1  59.928067  10.751203   1522\n",
              "2  59.929045  10.716926   1289\n",
              "3  59.923774  10.734713   1242\n",
              "4  59.910847  10.730377   1189"
            ]
          },
          "metadata": {
            "tags": []
          },
          "execution_count": 7
        }
      ]
    },
    {
      "cell_type": "code",
      "metadata": {
        "id": "fBXc-ex0oX1v"
      },
      "source": [
        "#Create a function to convert lat, lon, and weight to list. Folium does not take DataFrames\n",
        "def convert_to_list(df):\n",
        "  \"\"\"Convert dataframe to list of lat, lon and weight\"\"\"\n",
        "  lat = df['lat'].to_numpy(dtype=float)\n",
        "  lon = df['lon'].to_numpy(dtype=float)\n",
        "  weight = df['trips'].to_numpy(dtype=float)\n",
        "  return [[l, g, w] for l, g, w in zip(lat, lon, weight)]"
      ],
      "execution_count": 10,
      "outputs": []
    },
    {
      "cell_type": "code",
      "metadata": {
        "colab": {
          "base_uri": "https://localhost:8080/"
        },
        "id": "_6lmQNu9qLCt",
        "outputId": "fb8df83f-33b8-4d42-c1d8-8948d76bb83c"
      },
      "source": [
        "#Convert lat, long and weight to list\n",
        "heat_data = convert_to_list(st_loc)\n",
        "heat_data[:5]"
      ],
      "execution_count": 11,
      "outputs": [
        {
          "output_type": "execute_result",
          "data": {
            "text/plain": [
              "[[59.92843404417578, 10.75943014633117, 1570.0],\n",
              " [59.928066706156855, 10.751202636819613, 1522.0],\n",
              " [59.929045, 10.716926, 1289.0],\n",
              " [59.92377440938114, 10.734712874573999, 1242.0],\n",
              " [59.9108469, 10.7303766, 1189.0]]"
            ]
          },
          "metadata": {
            "tags": []
          },
          "execution_count": 11
        }
      ]
    },
    {
      "cell_type": "code",
      "metadata": {
        "id": "5NdFYzOerU7e"
      },
      "source": [
        "#Uploading necessary packages\n",
        "import folium\n",
        "from folium import plugins\n",
        "from folium.plugins import HeatMap"
      ],
      "execution_count": 12,
      "outputs": []
    },
    {
      "cell_type": "code",
      "metadata": {
        "id": "8uqxm4pesuFf"
      },
      "source": [
        "#Creating a function to generate a basemap\n",
        "def generate_basemap(default_loc=[59.91,10.75], default_zoom=12):\n",
        "    bmap = folium.Map(location=default_loc, zoom_start=default_zoom)\n",
        "    return bmap"
      ],
      "execution_count": 13,
      "outputs": []
    },
    {
      "cell_type": "code",
      "metadata": {
        "id": "uiXEDR8-ti-B"
      },
      "source": [
        "#Generating a basemap\n",
        "basemap = generate_basemap()"
      ],
      "execution_count": 14,
      "outputs": []
    },
    {
      "cell_type": "code",
      "metadata": {
        "colab": {
          "base_uri": "https://localhost:8080/"
        },
        "id": "MbQj-L7YwoeP",
        "outputId": "5bd0cf9b-c2ca-402f-ea4a-4f1a66afa524"
      },
      "source": [
        "#Creating a HeatMap with lat, lon and number of trips\n",
        "HeatMap(heat_data).add_to(basemap)"
      ],
      "execution_count": 15,
      "outputs": [
        {
          "output_type": "execute_result",
          "data": {
            "text/plain": [
              "<folium.plugins.heat_map.HeatMap at 0x7fa9ef5a0e10>"
            ]
          },
          "metadata": {
            "tags": []
          },
          "execution_count": 15
        }
      ]
    },
    {
      "cell_type": "code",
      "metadata": {
        "colab": {
          "base_uri": "https://localhost:8080/",
          "height": 866
        },
        "id": "lhA4UQvuxL_h",
        "outputId": "935f0314-c0c4-44ce-ba72-9667bbfe2902"
      },
      "source": [
        "#Plotting basemap for starting point of trips\n",
        "basemap"
      ],
      "execution_count": 16,
      "outputs": [
        {
          "output_type": "execute_result",
          "data": {
            "text/html": [
              "<div style=\"width:100%;\"><div style=\"position:relative;width:100%;height:0;padding-bottom:60%;\"><span style=\"color:#565656\">Make this Notebook Trusted to load map: File -> Trust Notebook</span><iframe src=\"about:blank\" style=\"position:absolute;width:100%;height:100%;left:0;top:0;border:none !important;\" data-html=%3C%21DOCTYPE%20html%3E%0A%3Chead%3E%20%20%20%20%0A%20%20%20%20%3Cmeta%20http-equiv%3D%22content-type%22%20content%3D%22text/html%3B%20charset%3DUTF-8%22%20/%3E%0A%20%20%20%20%3Cscript%3EL_PREFER_CANVAS%3Dfalse%3B%20L_NO_TOUCH%3Dfalse%3B%20L_DISABLE_3D%3Dfalse%3B%3C/script%3E%0A%20%20%20%20%3Cscript%20src%3D%22https%3A//cdn.jsdelivr.net/npm/leaflet%401.4.0/dist/leaflet.js%22%3E%3C/script%3E%0A%20%20%20%20%3Cscript%20src%3D%22https%3A//code.jquery.com/jquery-1.12.4.min.js%22%3E%3C/script%3E%0A%20%20%20%20%3Cscript%20src%3D%22https%3A//maxcdn.bootstrapcdn.com/bootstrap/3.2.0/js/bootstrap.min.js%22%3E%3C/script%3E%0A%20%20%20%20%3Cscript%20src%3D%22https%3A//cdnjs.cloudflare.com/ajax/libs/Leaflet.awesome-markers/2.0.2/leaflet.awesome-markers.js%22%3E%3C/script%3E%0A%20%20%20%20%3Clink%20rel%3D%22stylesheet%22%20href%3D%22https%3A//cdn.jsdelivr.net/npm/leaflet%401.4.0/dist/leaflet.css%22/%3E%0A%20%20%20%20%3Clink%20rel%3D%22stylesheet%22%20href%3D%22https%3A//maxcdn.bootstrapcdn.com/bootstrap/3.2.0/css/bootstrap.min.css%22/%3E%0A%20%20%20%20%3Clink%20rel%3D%22stylesheet%22%20href%3D%22https%3A//maxcdn.bootstrapcdn.com/bootstrap/3.2.0/css/bootstrap-theme.min.css%22/%3E%0A%20%20%20%20%3Clink%20rel%3D%22stylesheet%22%20href%3D%22https%3A//maxcdn.bootstrapcdn.com/font-awesome/4.6.3/css/font-awesome.min.css%22/%3E%0A%20%20%20%20%3Clink%20rel%3D%22stylesheet%22%20href%3D%22https%3A//cdnjs.cloudflare.com/ajax/libs/Leaflet.awesome-markers/2.0.2/leaflet.awesome-markers.css%22/%3E%0A%20%20%20%20%3Clink%20rel%3D%22stylesheet%22%20href%3D%22https%3A//rawcdn.githack.com/python-visualization/folium/master/folium/templates/leaflet.awesome.rotate.css%22/%3E%0A%20%20%20%20%3Cstyle%3Ehtml%2C%20body%20%7Bwidth%3A%20100%25%3Bheight%3A%20100%25%3Bmargin%3A%200%3Bpadding%3A%200%3B%7D%3C/style%3E%0A%20%20%20%20%3Cstyle%3E%23map%20%7Bposition%3Aabsolute%3Btop%3A0%3Bbottom%3A0%3Bright%3A0%3Bleft%3A0%3B%7D%3C/style%3E%0A%20%20%20%20%0A%20%20%20%20%3Cmeta%20name%3D%22viewport%22%20content%3D%22width%3Ddevice-width%2C%0A%20%20%20%20%20%20%20%20initial-scale%3D1.0%2C%20maximum-scale%3D1.0%2C%20user-scalable%3Dno%22%20/%3E%0A%20%20%20%20%3Cstyle%3E%23map_1018de168ebb4fcda21d7ecbca5b4474%20%7B%0A%20%20%20%20%20%20%20%20position%3A%20relative%3B%0A%20%20%20%20%20%20%20%20width%3A%20100.0%25%3B%0A%20%20%20%20%20%20%20%20height%3A%20100.0%25%3B%0A%20%20%20%20%20%20%20%20left%3A%200.0%25%3B%0A%20%20%20%20%20%20%20%20top%3A%200.0%25%3B%0A%20%20%20%20%20%20%20%20%7D%0A%20%20%20%20%3C/style%3E%0A%20%20%20%20%3Cscript%20src%3D%22https%3A//leaflet.github.io/Leaflet.heat/dist/leaflet-heat.js%22%3E%3C/script%3E%0A%3C/head%3E%0A%3Cbody%3E%20%20%20%20%0A%20%20%20%20%0A%20%20%20%20%3Cdiv%20class%3D%22folium-map%22%20id%3D%22map_1018de168ebb4fcda21d7ecbca5b4474%22%20%3E%3C/div%3E%0A%3C/body%3E%0A%3Cscript%3E%20%20%20%20%0A%20%20%20%20%0A%20%20%20%20%0A%20%20%20%20%20%20%20%20var%20bounds%20%3D%20null%3B%0A%20%20%20%20%0A%0A%20%20%20%20var%20map_1018de168ebb4fcda21d7ecbca5b4474%20%3D%20L.map%28%0A%20%20%20%20%20%20%20%20%27map_1018de168ebb4fcda21d7ecbca5b4474%27%2C%20%7B%0A%20%20%20%20%20%20%20%20center%3A%20%5B59.91%2C%2010.75%5D%2C%0A%20%20%20%20%20%20%20%20zoom%3A%2012%2C%0A%20%20%20%20%20%20%20%20maxBounds%3A%20bounds%2C%0A%20%20%20%20%20%20%20%20layers%3A%20%5B%5D%2C%0A%20%20%20%20%20%20%20%20worldCopyJump%3A%20false%2C%0A%20%20%20%20%20%20%20%20crs%3A%20L.CRS.EPSG3857%2C%0A%20%20%20%20%20%20%20%20zoomControl%3A%20true%2C%0A%20%20%20%20%20%20%20%20%7D%29%3B%0A%0A%0A%20%20%20%20%0A%20%20%20%20var%20tile_layer_0cfccd077c1446d9b4dca29dc521e4c4%20%3D%20L.tileLayer%28%0A%20%20%20%20%20%20%20%20%27https%3A//%7Bs%7D.tile.openstreetmap.org/%7Bz%7D/%7Bx%7D/%7By%7D.png%27%2C%0A%20%20%20%20%20%20%20%20%7B%0A%20%20%20%20%20%20%20%20%22attribution%22%3A%20null%2C%0A%20%20%20%20%20%20%20%20%22detectRetina%22%3A%20false%2C%0A%20%20%20%20%20%20%20%20%22maxNativeZoom%22%3A%2018%2C%0A%20%20%20%20%20%20%20%20%22maxZoom%22%3A%2018%2C%0A%20%20%20%20%20%20%20%20%22minZoom%22%3A%200%2C%0A%20%20%20%20%20%20%20%20%22noWrap%22%3A%20false%2C%0A%20%20%20%20%20%20%20%20%22opacity%22%3A%201%2C%0A%20%20%20%20%20%20%20%20%22subdomains%22%3A%20%22abc%22%2C%0A%20%20%20%20%20%20%20%20%22tms%22%3A%20false%0A%7D%29.addTo%28map_1018de168ebb4fcda21d7ecbca5b4474%29%3B%0A%20%20%20%20%0A%20%20%20%20%20%20%20%20%20%20%20%20var%20heat_map_d7188a96d8674ef79e441837c93f9754%20%3D%20L.heatLayer%28%0A%20%20%20%20%20%20%20%20%20%20%20%20%20%20%20%20%5B%5B59.92843404417578%2C%2010.75943014633117%2C%201570.0%5D%2C%20%5B59.928066706156855%2C%2010.751202636819613%2C%201522.0%5D%2C%20%5B59.929045%2C%2010.716926%2C%201289.0%5D%2C%20%5B59.92377440938114%2C%2010.734712874573999%2C%201242.0%5D%2C%20%5B59.9108469%2C%2010.7303766%2C%201189.0%5D%2C%20%5B59.925471317049954%2C%2010.73121932213806%2C%201185.0%5D%2C%20%5B59.90946700000001%2C%2010.722509%2C%201149.0%5D%2C%20%5B59.922425%2C%2010.758182%2C%201100.0%5D%2C%20%5B59.94671044754387%2C%2010.773805285879133%2C%201094.0%5D%2C%20%5B59.932772256265075%2C%2010.758594919923468%2C%201082.0%5D%2C%20%5B59.91494300000001%2C%2010.773977%2C%201073.0%5D%2C%20%5B59.94114763297182%2C%2010.750775120272449%2C%20985.0%5D%2C%20%5B59.919463%2C%2010.743829%2C%20971.0%5D%2C%20%5B59.93923%2C%2010.75917%2C%20961.0%5D%2C%20%5B59.90321254732584%2C%2010.7673442932541%2C%20929.0%5D%2C%20%5B59.9256113%2C%2010.760926%2C%20928.0%5D%2C%20%5B59.9360307%2C%2010.7364516%2C%20927.0%5D%2C%20%5B59.92714%2C%2010.730981%2C%20892.0%5D%2C%20%5B59.898126%2C%2010.675096%2C%20890.0%5D%2C%20%5B59.9121109%2C%2010.7661939%2C%20870.0%5D%2C%20%5B59.94377753936722%2C%2010.76012112757796%2C%20858.0%5D%2C%20%5B59.911901%2C%2010.749929%2C%20845.0%5D%2C%20%5B59.9243639%2C%2010.7615858%2C%20833.0%5D%2C%20%5B59.9268706%2C%2010.7384634%2C%20831.0%5D%2C%20%5B59.923229000000006%2C%2010.766171%2C%20830.0%5D%2C%20%5B59.92507%2C%2010.775996%2C%20824.0%5D%2C%20%5B59.933631590742856%2C%2010.769118139881122%2C%20812.0%5D%2C%20%5B59.908255%2C%2010.7678%2C%20810.0%5D%2C%20%5B59.93774300000001%2C%2010.751648%2C%20807.0%5D%2C%20%5B59.91015446696496%2C%2010.751980909227374%2C%20803.0%5D%2C%20%5B59.90900600000001%2C%2010.75618%2C%20802.0%5D%2C%20%5B59.92760586837719%2C%2010.76598469881135%2C%20802.0%5D%2C%20%5B59.925488%2C%2010.746058%2C%20796.0%5D%2C%20%5B59.949239%2C%2010.768576%2C%20783.0%5D%2C%20%5B59.94032925181833%2C%2010.766136667493827%2C%20778.0%5D%2C%20%5B59.915417698024385%2C%2010.769330221426413%2C%20766.0%5D%2C%20%5B59.94545063370256%2C%2010.713867957672132%2C%20764.0%5D%2C%20%5B59.91917900000001%2C%2010.764162%2C%20758.0%5D%2C%20%5B59.911453%2C%2010.776072%2C%20757.0%5D%2C%20%5B59.94743324225673%2C%2010.732569703704817%2C%20748.0%5D%2C%20%5B59.92473199999999%2C%2010.724628%2C%20725.0%5D%2C%20%5B59.93720500000001%2C%2010.7605813%2C%20723.0%5D%2C%20%5B59.9388630869213%2C%2010.780603250331886%2C%20722.0%5D%2C%20%5B59.904473%2C%2010.786167%2C%20720.0%5D%2C%20%5B59.925265%2C%2010.750462%2C%20716.0%5D%2C%20%5B59.9225392%2C%2010.7045406%2C%20698.0%5D%2C%20%5B59.920335%2C%2010.760803999999998%2C%20691.0%5D%2C%20%5B59.9172088%2C%2010.7622135%2C%20686.0%5D%2C%20%5B59.939244%2C%2010.774319%2C%20678.0%5D%2C%20%5B59.918632%2C%2010.757867%2C%20675.0%5D%2C%20%5B59.915983092745186%2C%2010.75155119076095%2C%20664.0%5D%2C%20%5B59.91252%2C%2010.76224%2C%20661.0%5D%2C%20%5B59.91863589999999%2C%2010.7523939%2C%20653.0%5D%2C%20%5B59.927292%2C%2010.773185%2C%20653.0%5D%2C%20%5B59.930877125104615%2C%2010.791823716034967%2C%20638.0%5D%2C%20%5B59.917866%2C%2010.754898%2C%20638.0%5D%2C%20%5B59.919524%2C%2010.70884%2C%20635.0%5D%2C%20%5B59.922777%2C%2010.738655%2C%20631.0%5D%2C%20%5B59.924821%2C%2010.739909%2C%20630.0%5D%2C%20%5B59.918578143336774%2C%2010.703899530059402%2C%20625.0%5D%2C%20%5B59.9294351%2C%2010.7136816%2C%20622.0%5D%2C%20%5B59.934936%2C%2010.749466%2C%20614.0%5D%2C%20%5B59.929798453700066%2C%2010.743540765932096%2C%20608.0%5D%2C%20%5B59.9283928%2C%2010.755969300000002%2C%20607.0%5D%2C%20%5B59.907075792348174%2C%2010.779164402446728%2C%20606.0%5D%2C%20%5B59.92242220000001%2C%2010.7272388%2C%20601.0%5D%2C%20%5B59.91728078292675%2C%2010.708375798767436%2C%20599.0%5D%2C%20%5B59.9287502718149%2C%2010.767546377298157%2C%20594.0%5D%2C%20%5B59.929419%2C%2010.726195%2C%20590.0%5D%2C%20%5B59.9103558%2C%2010.7051061%2C%20590.0%5D%2C%20%5B59.908227%2C%2010.781088%2C%20582.0%5D%2C%20%5B59.93153020000001%2C%2010.762169%2C%20580.0%5D%2C%20%5B59.9131891%2C%2010.7897605%2C%20575.0%5D%2C%20%5B59.914240267946475%2C%2010.732771354719743%2C%20571.0%5D%2C%20%5B59.9212063%2C%2010.7699892%2C%20564.0%5D%2C%20%5B59.9179676629428%2C%2010.738628884264756%2C%20555.0%5D%2C%20%5B59.93215%2C%2010.723478%2C%20551.0%5D%2C%20%5B59.91279340545538%2C%2010.710103028570305%2C%20549.0%5D%2C%20%5B59.9224256%2C%2010.7554274%2C%20542.0%5D%2C%20%5B59.929005%2C%2010.7496755%2C%20540.0%5D%2C%20%5B59.928349%2C%2010.77837%2C%20537.0%5D%2C%20%5B59.927167714013564%2C%2010.749754560118864%2C%20537.0%5D%2C%20%5B59.92033000000001%2C%2010.683814%2C%20536.0%5D%2C%20%5B59.919252%2C%2010.774712%2C%20534.0%5D%2C%20%5B59.919927%2C%2010.735428%2C%20530.0%5D%2C%20%5B59.926929%2C%2010.776971%2C%20520.0%5D%2C%20%5B59.9200421%2C%2010.726634%2C%20517.0%5D%2C%20%5B59.923240042155456%2C%2010.792831438028703%2C%20510.0%5D%2C%20%5B59.92305770000001%2C%2010.7717192%2C%20507.0%5D%2C%20%5B59.9281319%2C%2010.71842%2C%20507.0%5D%2C%20%5B59.92021800000001%2C%2010.717978%2C%20505.0%5D%2C%20%5B59.9126844%2C%2010.7229003%2C%20497.0%5D%2C%20%5B59.92176800000001%2C%2010.730476%2C%20492.0%5D%2C%20%5B59.91300035973293%2C%2010.746760585982287%2C%20489.0%5D%2C%20%5B59.940398%2C%2010.730036%2C%20488.0%5D%2C%20%5B59.94247260310696%2C%2010.723715245368957%2C%20488.0%5D%2C%20%5B59.920995%2C%2010.750358%2C%20486.0%5D%2C%20%5B59.9294565845173%2C%2010.769121495700826%2C%20483.0%5D%2C%20%5B59.915424%2C%2010.714577%2C%20482.0%5D%2C%20%5B59.915088%2C%2010.7222803%2C%20475.0%5D%2C%20%5B59.9244031%2C%2010.713069099999998%2C%20473.0%5D%2C%20%5B59.932383%2C%2010.741475%2C%20473.0%5D%2C%20%5B59.929585617539956%2C%2010.732839000000013%2C%20468.0%5D%2C%20%5B59.93534200000001%2C%2010.726472%2C%20460.0%5D%2C%20%5B59.9141971%2C%2010.7428828%2C%20457.0%5D%2C%20%5B59.9378%2C%2010.7541%2C%20456.0%5D%2C%20%5B59.9102277%2C%2010.7208788%2C%20452.0%5D%2C%20%5B59.9358883%2C%2010.7350062%2C%20452.0%5D%2C%20%5B59.93902555139577%2C%2010.723002619643406%2C%20448.0%5D%2C%20%5B59.932792000000006%2C%2010.734457%2C%20443.0%5D%2C%20%5B59.93347989334691%2C%2010.726294394131088%2C%20443.0%5D%2C%20%5B59.91662195885618%2C%2010.783309055819714%2C%20439.0%5D%2C%20%5B59.931828%2C%2010.748745%2C%20439.0%5D%2C%20%5B59.94278024854257%2C%2010.722993731144015%2C%20436.0%5D%2C%20%5B59.9433939%2C%2010.7482848%2C%20435.0%5D%2C%20%5B59.93795736705197%2C%2010.719488529430388%2C%20434.0%5D%2C%20%5B59.952659%2C%2010.751165%2C%20433.0%5D%2C%20%5B59.915667000000006%2C%2010.7775665%2C%20430.0%5D%2C%20%5B59.924685200000006%2C%2010.7395045%2C%20427.0%5D%2C%20%5B59.93285662158759%2C%2010.777633472422016%2C%20427.0%5D%2C%20%5B59.923703%2C%2010.740542%2C%20426.0%5D%2C%20%5B59.90800465532893%2C%2010.7625700380287%2C%20425.0%5D%2C%20%5B59.92954200000001%2C%2010.781053%2C%20424.0%5D%2C%20%5B59.931020132184614%2C%2010.736036647971048%2C%20422.0%5D%2C%20%5B59.935995%2C%2010.765413%2C%20418.0%5D%2C%20%5B59.916520538397684%2C%2010.749202233135232%2C%20415.0%5D%2C%20%5B59.939240307035895%2C%2010.768771317790996%2C%20412.0%5D%2C%20%5B59.9163309%2C%2010.716349%2C%20410.0%5D%2C%20%5B59.9339754%2C%2010.7521029%2C%20409.0%5D%2C%20%5B59.919111%2C%2010.736179%2C%20406.0%5D%2C%20%5B59.9324324985211%2C%2010.721762294477472%2C%20403.0%5D%2C%20%5B59.91351552854147%2C%2010.757334670552268%2C%20402.0%5D%2C%20%5B59.922839%2C%2010.775658%2C%20399.0%5D%2C%20%5B59.913815875646925%2C%2010.798093360118873%2C%20381.0%5D%2C%20%5B59.9238826%2C%2010.7313627%2C%20380.0%5D%2C%20%5B59.920852%2C%2010.733357%2C%20380.0%5D%2C%20%5B59.9150596%2C%2010.7312715%2C%20380.0%5D%2C%20%5B59.915182%2C%2010.782129%2C%20374.0%5D%2C%20%5B59.9191421%2C%2010.7196414%2C%20372.0%5D%2C%20%5B59.91731888534716%2C%2010.716909039918278%2C%20368.0%5D%2C%20%5B59.922337%2C%2010.7617503%2C%20367.0%5D%2C%20%5B59.910974%2C%2010.727700099999998%2C%20363.0%5D%2C%20%5B59.93507%2C%2010.76915%2C%20363.0%5D%2C%20%5B59.92251%2C%2010.75101%2C%20359.0%5D%2C%20%5B59.922485%2C%2010.720896%2C%20358.0%5D%2C%20%5B59.9193095%2C%2010.734305099999998%2C%20356.0%5D%2C%20%5B59.914586%2C%2010.735453%2C%20354.0%5D%2C%20%5B59.91673760000001%2C%2010.779916%2C%20350.0%5D%2C%20%5B59.908454000000006%2C%2010.741869%2C%20350.0%5D%2C%20%5B59.91073929999999%2C%2010.7609998%2C%20349.0%5D%2C%20%5B59.91546786564257%2C%2010.751140873016313%2C%20348.0%5D%2C%20%5B59.926697%2C%2010.716195%2C%20347.0%5D%2C%20%5B59.9099822%2C%2010.7914482%2C%20345.0%5D%2C%20%5B59.92095635370271%2C%2010.714055629614734%2C%20345.0%5D%2C%20%5B59.9170851%2C%2010.7128796%2C%20339.0%5D%2C%20%5B59.9138973%2C%2010.7423101%2C%20334.0%5D%2C%20%5B59.927537646826856%2C%2010.71026280326126%2C%20334.0%5D%2C%20%5B59.9327726%2C%2010.7114661%2C%20334.0%5D%2C%20%5B59.908576%2C%2010.786856%2C%20331.0%5D%2C%20%5B59.91397859999999%2C%2010.7474667%2C%20326.0%5D%2C%20%5B59.92114988507087%2C%2010.754714015938564%2C%20326.0%5D%2C%20%5B59.952868%2C%2010.766483%2C%20322.0%5D%2C%20%5B59.92012811804052%2C%2010.768875408563595%2C%20317.0%5D%2C%20%5B59.914306%2C%2010.720202%2C%20313.0%5D%2C%20%5B59.9123469%2C%2010.7638147%2C%20310.0%5D%2C%20%5B59.92226850808103%2C%2010.679579749668127%2C%20307.0%5D%2C%20%5B59.9156603%2C%2010.7622812%2C%20305.0%5D%2C%20%5B59.914145%2C%2010.715505%2C%20302.0%5D%2C%20%5B59.910242%2C%2010.73857%2C%20299.0%5D%2C%20%5B59.9337026%2C%2010.7519299%2C%20298.0%5D%2C%20%5B59.93068679863987%2C%2010.746273349149249%2C%20297.0%5D%2C%20%5B59.929545%2C%2010.7489862%2C%20297.0%5D%2C%20%5B59.937913%2C%2010.73048%2C%20294.0%5D%2C%20%5B59.907674%2C%2010.686843%2C%20292.0%5D%2C%20%5B59.9146509%2C%2010.7598719%2C%20287.0%5D%2C%20%5B59.91320242563816%2C%2010.767579386407874%2C%20285.0%5D%2C%20%5B59.910331000000006%2C%2010.75011%2C%20284.0%5D%2C%20%5B59.94558091179507%2C%2010.760323881579984%2C%20284.0%5D%2C%20%5B59.9034528%2C%2010.777958%2C%20283.0%5D%2C%20%5B59.923898%2C%2010.6760339%2C%20282.0%5D%2C%20%5B59.9080552%2C%2010.7479977%2C%20279.0%5D%2C%20%5B59.9172794%2C%2010.758155300000002%2C%20278.0%5D%2C%20%5B59.92984300295666%2C%2010.711284727205706%2C%20275.0%5D%2C%20%5B59.9147672%2C%2010.740971%2C%20275.0%5D%2C%20%5B59.91012070000001%2C%2010.7407129%2C%20274.0%5D%2C%20%5B59.94087373354373%2C%2010.720778851520524%2C%20274.0%5D%2C%20%5B59.913574970920926%2C%2010.726229742333286%2C%20274.0%5D%2C%20%5B59.917485%2C%2010.732128%2C%20273.0%5D%2C%20%5B59.915451%2C%2010.758328%2C%20272.0%5D%2C%20%5B59.91018085263352%2C%2010.751698750995617%2C%20267.0%5D%2C%20%5B59.92622420000001%2C%2010.7296246%2C%20266.0%5D%2C%20%5B59.92808%2C%2010.708767%2C%20259.0%5D%2C%20%5B59.91366109486603%2C%2010.75729364846211%2C%20257.0%5D%2C%20%5B59.9330870371029%2C%2010.703967938028702%2C%20256.0%5D%2C%20%5B59.9101561505551%2C%2010.743456971511703%2C%20254.0%5D%2C%20%5B59.9204038%2C%2010.691147%2C%20254.0%5D%2C%20%5B59.91382393242077%2C%2010.745704482209018%2C%20253.0%5D%2C%20%5B59.910924%2C%2010.736215%2C%20248.0%5D%2C%20%5B59.935947%2C%2010.681138%2C%20247.0%5D%2C%20%5B59.924644878620384%2C%2010.781726510450726%2C%20246.0%5D%2C%20%5B59.911784036557826%2C%2010.783884345957915%2C%20245.0%5D%2C%20%5B59.928832584994964%2C%2010.799770383800876%2C%20240.0%5D%2C%20%5B59.90918420865811%2C%2010.81431433498766%2C%20236.0%5D%2C%20%5B59.91159449999999%2C%2010.7617736%2C%20236.0%5D%2C%20%5B59.91336%2C%2010.737663%2C%20233.0%5D%2C%20%5B59.9207284%2C%2010.7594857%2C%20233.0%5D%2C%20%5B59.9205528%2C%2010.7342854%2C%20232.0%5D%2C%20%5B59.924342%2C%2010.79285%2C%20229.0%5D%2C%20%5B59.9110506%2C%2010.7493737%2C%20227.0%5D%2C%20%5B59.9273747%2C%2010.7960147%2C%20226.0%5D%2C%20%5B59.9309181%2C%2010.7728203%2C%20225.0%5D%2C%20%5B59.91801410000001%2C%2010.7184345%2C%20222.0%5D%2C%20%5B59.903989%2C%2010.740627%2C%20221.0%5D%2C%20%5B59.919001%2C%2010.692321000000002%2C%20220.0%5D%2C%20%5B59.92614620000001%2C%2010.7310355%2C%20219.0%5D%2C%20%5B59.9051243807035%2C%2010.753763553726516%2C%20219.0%5D%2C%20%5B59.91783548782385%2C%2010.766373769557958%2C%20215.0%5D%2C%20%5B59.929857242195034%2C%2010.714566236770679%2C%20215.0%5D%2C%20%5B59.9123341%2C%2010.752292%2C%20210.0%5D%2C%20%5B59.95341139999999%2C%2010.7577241%2C%20209.0%5D%2C%20%5B59.911183721883795%2C%2010.730034556850457%2C%20203.0%5D%2C%20%5B59.9121829129514%2C%2010.7544337247013%2C%20200.0%5D%2C%20%5B59.913720071300716%2C%2010.735886645853412%2C%20199.0%5D%2C%20%5B59.921673%2C%2010.67666%2C%20196.0%5D%2C%20%5B59.91537003977053%2C%2010.748493387102522%2C%20195.0%5D%2C%20%5B59.91122270000001%2C%2010.7481976%2C%20195.0%5D%2C%20%5B59.911392299457006%2C%2010.747281829592453%2C%20188.0%5D%2C%20%5B59.9193337%2C%2010.6968953%2C%20180.0%5D%2C%20%5B59.94274210647367%2C%2010.70383303125402%2C%20175.0%5D%2C%20%5B59.91315053407502%2C%2010.732281291700133%2C%20175.0%5D%2C%20%5B59.920259%2C%2010.760629%2C%20162.0%5D%2C%20%5B59.93473520000001%2C%2010.7096985%2C%20161.0%5D%2C%20%5B59.9363277%2C%2010.7054333%2C%20160.0%5D%2C%20%5B59.915262%2C%2010.7253157%2C%20144.0%5D%2C%20%5B59.9304645%2C%2010.6757833%2C%20141.0%5D%2C%20%5B59.914871%2C%2010.701037%2C%20140.0%5D%2C%20%5B59.92208%2C%2010.68588%2C%20140.0%5D%2C%20%5B59.91352270000001%2C%2010.7301061%2C%20138.0%5D%2C%20%5B59.94595500000001%2C%2010.710392%2C%20117.0%5D%2C%20%5B59.91214720000001%2C%2010.7480527%2C%20116.0%5D%2C%20%5B59.912711%2C%2010.735595%2C%20115.0%5D%2C%20%5B59.92763407981436%2C%2010.799249379762282%2C%20114.0%5D%2C%20%5B59.9198098%2C%2010.651118%2C%20109.0%5D%2C%20%5B59.91177629920927%2C%2010.735113005880237%2C%2093.0%5D%2C%20%5B59.903989%2C%2010.741077%2C%2083.0%5D%2C%20%5B59.9227239810141%2C%2010.678625145368963%2C%2070.0%5D%2C%20%5B59.91065301806209%2C%2010.737365277561024%2C%2069.0%5D%2C%20%5B59.9119691%2C%2010.7478583%2C%2062.0%5D%2C%20%5B59.906922167198275%2C%2010.746530272588243%2C%2050.0%5D%2C%20%5B59.90591083488326%2C%2010.778592132296495%2C%2037.0%5D%5D%2C%0A%20%20%20%20%20%20%20%20%20%20%20%20%20%20%20%20%7B%0A%20%20%20%20%20%20%20%20%20%20%20%20%20%20%20%20%20%20%20%20minOpacity%3A%200.5%2C%0A%20%20%20%20%20%20%20%20%20%20%20%20%20%20%20%20%20%20%20%20maxZoom%3A%2018%2C%0A%20%20%20%20%20%20%20%20%20%20%20%20%20%20%20%20%20%20%20%20max%3A%201.0%2C%0A%20%20%20%20%20%20%20%20%20%20%20%20%20%20%20%20%20%20%20%20radius%3A%2025%2C%0A%20%20%20%20%20%20%20%20%20%20%20%20%20%20%20%20%20%20%20%20blur%3A%2015%2C%0A%20%20%20%20%20%20%20%20%20%20%20%20%20%20%20%20%20%20%20%20gradient%3A%20null%0A%20%20%20%20%20%20%20%20%20%20%20%20%20%20%20%20%20%20%20%20%7D%29%0A%20%20%20%20%20%20%20%20%20%20%20%20%20%20%20%20.addTo%28map_1018de168ebb4fcda21d7ecbca5b4474%29%3B%0A%20%20%20%20%20%20%20%20%0A%3C/script%3E onload=\"this.contentDocument.open();this.contentDocument.write(    decodeURIComponent(this.getAttribute('data-html')));this.contentDocument.close();\" allowfullscreen webkitallowfullscreen mozallowfullscreen></iframe></div></div>"
            ],
            "text/plain": [
              "<folium.folium.Map at 0x7fa9ef5a0910>"
            ]
          },
          "metadata": {
            "tags": []
          },
          "execution_count": 16
        }
      ]
    }
  ]
}