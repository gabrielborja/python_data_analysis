{
  "nbformat": 4,
  "nbformat_minor": 0,
  "metadata": {
    "colab": {
      "name": "production_analysis.ipynb",
      "provenance": [],
      "collapsed_sections": [
        "eTZwpRZNRhGY",
        "sgzkv1LwjLIL",
        "LuiHOTM_JqoY",
        "j5ZvmbnupCNn",
        "d54x4GBiJDFv",
        "r1dOMy1WbIUe",
        "pkukrfVR-H_z",
        "iWWJ59TroajD",
        "GfhMSnvwFw8X",
        "nzA91pyYFz71",
        "_ysfDs6HIZs9"
      ],
      "authorship_tag": "ABX9TyPMtL8Fmvq3mvkaswb8HeBs",
      "include_colab_link": true
    },
    "kernelspec": {
      "name": "python3",
      "display_name": "Python 3"
    }
  },
  "cells": [
    {
      "cell_type": "markdown",
      "metadata": {
        "id": "view-in-github",
        "colab_type": "text"
      },
      "source": [
        "<a href=\"https://colab.research.google.com/github/gabrielborja/python_data_analysis/blob/main/production_analysis.ipynb\" target=\"_parent\"><img src=\"https://colab.research.google.com/assets/colab-badge.svg\" alt=\"Open In Colab\"/></a>"
      ]
    },
    {
      "cell_type": "markdown",
      "metadata": {
        "id": "eTZwpRZNRhGY"
      },
      "source": [
        "# Daily Production Analysis"
      ]
    },
    {
      "cell_type": "markdown",
      "metadata": {
        "id": "sgzkv1LwjLIL"
      },
      "source": [
        "## Uploading packages and data"
      ]
    },
    {
      "cell_type": "code",
      "metadata": {
        "id": "QTRtRZcb-IyF"
      },
      "source": [
        "#Importing necessary packages\n",
        "import numpy as np\n",
        "import pandas as pd\n",
        "import random\n",
        "import matplotlib.pyplot as plt\n",
        "import seaborn as sns"
      ],
      "execution_count": null,
      "outputs": []
    },
    {
      "cell_type": "code",
      "metadata": {
        "id": "1Z4jxJjRRPLB"
      },
      "source": [
        "#Remove previous versions of the uploaded excel file\n",
        "!rm production_j4_2021.xlsx"
      ],
      "execution_count": null,
      "outputs": []
    },
    {
      "cell_type": "code",
      "metadata": {
        "colab": {
          "resources": {
            "http://localhost:8080/nbextensions/google.colab/files.js": {
              "data": "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",
              "ok": true,
              "headers": [
                [
                  "content-type",
                  "application/javascript"
                ]
              ],
              "status": 200,
              "status_text": "OK"
            }
          },
          "base_uri": "https://localhost:8080/",
          "height": 73
        },
        "id": "oen97ED1-rh-",
        "outputId": "767970e6-b239-4500-f23a-ca853788d5c1"
      },
      "source": [
        "#Uploading file from local drive\n",
        "from google.colab import files\n",
        "uploaded = files.upload()"
      ],
      "execution_count": null,
      "outputs": [
        {
          "output_type": "display_data",
          "data": {
            "text/html": [
              "\n",
              "     <input type=\"file\" id=\"files-b2a5b7e2-e0d9-481d-8b52-6d3fe9ce0454\" name=\"files[]\" multiple disabled\n",
              "        style=\"border:none\" />\n",
              "     <output id=\"result-b2a5b7e2-e0d9-481d-8b52-6d3fe9ce0454\">\n",
              "      Upload widget is only available when the cell has been executed in the\n",
              "      current browser session. Please rerun this cell to enable.\n",
              "      </output>\n",
              "      <script src=\"/nbextensions/google.colab/files.js\"></script> "
            ],
            "text/plain": [
              "<IPython.core.display.HTML object>"
            ]
          },
          "metadata": {
            "tags": []
          }
        },
        {
          "output_type": "stream",
          "text": [
            "Saving production_j4_2021.xlsx to production_j4_2021.xlsx\n"
          ],
          "name": "stdout"
        }
      ]
    },
    {
      "cell_type": "code",
      "metadata": {
        "id": "03VoNwL0-3O6"
      },
      "source": [
        "#Storing dataset in a Pandas Dataframe\n",
        "import io\n",
        "df = pd.read_excel(io.BytesIO(uploaded['production_j4_2021.xlsx']), index_col='Event') #==> setting Event (datetime) as index to perform date slicing"
      ],
      "execution_count": null,
      "outputs": []
    },
    {
      "cell_type": "code",
      "metadata": {
        "id": "6wPknHC-JSRB"
      },
      "source": [
        "#Checking the dataframe information\n",
        "df.info()"
      ],
      "execution_count": null,
      "outputs": []
    },
    {
      "cell_type": "code",
      "metadata": {
        "colab": {
          "base_uri": "https://localhost:8080/"
        },
        "id": "RyM__kKPJkmv",
        "outputId": "83c7e195-654c-4f8b-b4ca-666a2126432f"
      },
      "source": [
        "#Checking the dataframe index\n",
        "df.index[0], df.index[-1]"
      ],
      "execution_count": null,
      "outputs": [
        {
          "output_type": "execute_result",
          "data": {
            "text/plain": [
              "(Timestamp('2021-01-01 00:00:00'), Timestamp('2021-05-09 23:00:00'))"
            ]
          },
          "metadata": {
            "tags": []
          },
          "execution_count": 4
        }
      ]
    },
    {
      "cell_type": "markdown",
      "metadata": {
        "id": "LuiHOTM_JqoY"
      },
      "source": [
        "## Filtering data for daily meeting"
      ]
    },
    {
      "cell_type": "code",
      "metadata": {
        "colab": {
          "base_uri": "https://localhost:8080/"
        },
        "id": "H0FZ43pFm1p5",
        "outputId": "33e8a827-9943-4bd0-a773-dd090b0a7ba2"
      },
      "source": [
        "#Filtering the dataframe to match the last 24 hours\n",
        "s = '2021-05-27 08:00:00'\n",
        "f = '2021-05-28 07:00:00'\n",
        "last_24 = df[s : f].copy()\n",
        "last_24.index[0], last_24.index[-1]"
      ],
      "execution_count": null,
      "outputs": [
        {
          "output_type": "execute_result",
          "data": {
            "text/plain": [
              "(Timestamp('2021-05-05 08:00:00'), Timestamp('2021-05-07 07:00:00'))"
            ]
          },
          "metadata": {
            "tags": []
          },
          "execution_count": 5
        }
      ]
    },
    {
      "cell_type": "code",
      "metadata": {
        "id": "IjPKdPP6Juv0"
      },
      "source": [
        "#Grouping and aggregating the data to estimate different parameters for each shift and day\n",
        "\n",
        "def util(x):\n",
        "  '''Custom function to calculate the utilization of each machine'''\n",
        "  return (x.sum()/x.count())*100\n",
        "\n",
        "groupped = last_24.groupby(['Weeknum', 'S_num', 'Shift', 'Mass', 'Group', 'Product', 'Format']).agg({'Form_min': 'mean',\n",
        "                                                                                                    'Hours': 'count',\n",
        "                                                                                                    'Boxes': 'sum',\n",
        "                                                                                                    'GE': 'mean',\n",
        "                                                                                                    'GE_loss': 'mean',\n",
        "                                                                                                    'Min_loss': 'sum',\n",
        "                                                                                                    'A1764': util,\n",
        "                                                                                                    'PK2219': util,\n",
        "                                                                                                    'PK2845': util,\n",
        "                                                                                                    'PK4553': util,\n",
        "                                                                                                    'Schubert': util,\n",
        "                                                                                                    'K6316': util,\n",
        "                                                                                                    'TP6839': util\n",
        "                                                                                                    }).reset_index()"
      ],
      "execution_count": null,
      "outputs": []
    },
    {
      "cell_type": "code",
      "metadata": {
        "colab": {
          "base_uri": "https://localhost:8080/",
          "height": 17
        },
        "id": "B9aktLicNqp2",
        "outputId": "585f98e9-089b-4512-c13f-7364e29ef766"
      },
      "source": [
        "#Exporting to excel into local disk\n",
        "from google.colab import files\n",
        "groupped.to_excel('z_grouped_24.xlsx', index=False) #==> Excluding index from file\n",
        "files.download('z_grouped_24.xlsx')"
      ],
      "execution_count": null,
      "outputs": [
        {
          "output_type": "display_data",
          "data": {
            "application/javascript": [
              "\n",
              "    async function download(id, filename, size) {\n",
              "      if (!google.colab.kernel.accessAllowed) {\n",
              "        return;\n",
              "      }\n",
              "      const div = document.createElement('div');\n",
              "      const label = document.createElement('label');\n",
              "      label.textContent = `Downloading \"${filename}\": `;\n",
              "      div.appendChild(label);\n",
              "      const progress = document.createElement('progress');\n",
              "      progress.max = size;\n",
              "      div.appendChild(progress);\n",
              "      document.body.appendChild(div);\n",
              "\n",
              "      const buffers = [];\n",
              "      let downloaded = 0;\n",
              "\n",
              "      const channel = await google.colab.kernel.comms.open(id);\n",
              "      // Send a message to notify the kernel that we're ready.\n",
              "      channel.send({})\n",
              "\n",
              "      for await (const message of channel.messages) {\n",
              "        // Send a message to notify the kernel that we're ready.\n",
              "        channel.send({})\n",
              "        if (message.buffers) {\n",
              "          for (const buffer of message.buffers) {\n",
              "            buffers.push(buffer);\n",
              "            downloaded += buffer.byteLength;\n",
              "            progress.value = downloaded;\n",
              "          }\n",
              "        }\n",
              "      }\n",
              "      const blob = new Blob(buffers, {type: 'application/binary'});\n",
              "      const a = document.createElement('a');\n",
              "      a.href = window.URL.createObjectURL(blob);\n",
              "      a.download = filename;\n",
              "      div.appendChild(a);\n",
              "      a.click();\n",
              "      div.remove();\n",
              "    }\n",
              "  "
            ],
            "text/plain": [
              "<IPython.core.display.Javascript object>"
            ]
          },
          "metadata": {
            "tags": []
          }
        },
        {
          "output_type": "display_data",
          "data": {
            "application/javascript": [
              "download(\"download_fb212b96-ec36-4252-8229-8e76b655280b\", \"z_grouped_24.xlsx\", 6099)"
            ],
            "text/plain": [
              "<IPython.core.display.Javascript object>"
            ]
          },
          "metadata": {
            "tags": []
          }
        }
      ]
    },
    {
      "cell_type": "markdown",
      "metadata": {
        "id": "j5ZvmbnupCNn"
      },
      "source": [
        "#Grouping data by Waterfall codes"
      ]
    },
    {
      "cell_type": "code",
      "metadata": {
        "colab": {
          "base_uri": "https://localhost:8080/"
        },
        "id": "RW_zUcGKToMj",
        "outputId": "60b4cea9-90bb-4261-8ecc-3ef581fddf35"
      },
      "source": [
        "#Filtering the dataframe to match the last week\n",
        "s = '2021-04-26 07:00:00'\n",
        "f = '2021-04-30 22:00:00'\n",
        "week = df[s : f].copy()\n",
        "week.index[0], week.index[-1]"
      ],
      "execution_count": null,
      "outputs": [
        {
          "output_type": "execute_result",
          "data": {
            "text/plain": [
              "(Timestamp('2021-04-26 07:00:00'), Timestamp('2021-04-30 22:00:00'))"
            ]
          },
          "metadata": {
            "tags": []
          },
          "execution_count": 5
        }
      ]
    },
    {
      "cell_type": "code",
      "metadata": {
        "id": "W--xTZV_hrDn"
      },
      "source": [
        "#Grouping and aggregating the data by waterfall coding according to previous date slicing\n",
        "\n",
        "wf = week.groupby(['Weeknum', 'State', 'T_loss']).agg({'Hours': 'count', 'GE': 'mean', 'GE_loss': 'mean', 'Min_loss': 'sum'}).reset_index()"
      ],
      "execution_count": null,
      "outputs": []
    },
    {
      "cell_type": "code",
      "metadata": {
        "colab": {
          "base_uri": "https://localhost:8080/",
          "height": 17
        },
        "id": "GLO22A2viQKQ",
        "outputId": "e9ce0b50-9ece-4f3b-9db8-ce29c28818e7"
      },
      "source": [
        "#Exporting to excel in local disk\n",
        "from google.colab import files\n",
        "wf.to_excel('wf_grouped_j4.xlsx', index=False) #==> Excluding index from file\n",
        "files.download('wf_grouped_j4.xlsx')"
      ],
      "execution_count": null,
      "outputs": [
        {
          "output_type": "display_data",
          "data": {
            "application/javascript": [
              "\n",
              "    async function download(id, filename, size) {\n",
              "      if (!google.colab.kernel.accessAllowed) {\n",
              "        return;\n",
              "      }\n",
              "      const div = document.createElement('div');\n",
              "      const label = document.createElement('label');\n",
              "      label.textContent = `Downloading \"${filename}\": `;\n",
              "      div.appendChild(label);\n",
              "      const progress = document.createElement('progress');\n",
              "      progress.max = size;\n",
              "      div.appendChild(progress);\n",
              "      document.body.appendChild(div);\n",
              "\n",
              "      const buffers = [];\n",
              "      let downloaded = 0;\n",
              "\n",
              "      const channel = await google.colab.kernel.comms.open(id);\n",
              "      // Send a message to notify the kernel that we're ready.\n",
              "      channel.send({})\n",
              "\n",
              "      for await (const message of channel.messages) {\n",
              "        // Send a message to notify the kernel that we're ready.\n",
              "        channel.send({})\n",
              "        if (message.buffers) {\n",
              "          for (const buffer of message.buffers) {\n",
              "            buffers.push(buffer);\n",
              "            downloaded += buffer.byteLength;\n",
              "            progress.value = downloaded;\n",
              "          }\n",
              "        }\n",
              "      }\n",
              "      const blob = new Blob(buffers, {type: 'application/binary'});\n",
              "      const a = document.createElement('a');\n",
              "      a.href = window.URL.createObjectURL(blob);\n",
              "      a.download = filename;\n",
              "      div.appendChild(a);\n",
              "      a.click();\n",
              "      div.remove();\n",
              "    }\n",
              "  "
            ],
            "text/plain": [
              "<IPython.core.display.Javascript object>"
            ]
          },
          "metadata": {
            "tags": []
          }
        },
        {
          "output_type": "display_data",
          "data": {
            "application/javascript": [
              "download(\"download_f216f881-c32e-4b8e-a384-d0853cbd2b59\", \"wf_grouped_j4.xlsx\", 5495)"
            ],
            "text/plain": [
              "<IPython.core.display.Javascript object>"
            ]
          },
          "metadata": {
            "tags": []
          }
        }
      ]
    },
    {
      "cell_type": "markdown",
      "metadata": {
        "id": "DKipgjCQP32N"
      },
      "source": [
        "##Dropping Shutdown and Grouping by State"
      ]
    },
    {
      "cell_type": "code",
      "metadata": {
        "colab": {
          "base_uri": "https://localhost:8080/",
          "height": 223
        },
        "id": "R1afMidGP-tr",
        "outputId": "6882a187-abf3-45be-9ec0-aa28f43b9316"
      },
      "source": [
        "#Filtering the dataframe to exclude Shutdown Time\n",
        "st = df[~df['T_loss'].isin(['Shutdown'])].copy()\n",
        "st.tail(2)"
      ],
      "execution_count": null,
      "outputs": [
        {
          "output_type": "execute_result",
          "data": {
            "text/html": [
              "<div>\n",
              "<style scoped>\n",
              "    .dataframe tbody tr th:only-of-type {\n",
              "        vertical-align: middle;\n",
              "    }\n",
              "\n",
              "    .dataframe tbody tr th {\n",
              "        vertical-align: top;\n",
              "    }\n",
              "\n",
              "    .dataframe thead th {\n",
              "        text-align: right;\n",
              "    }\n",
              "</style>\n",
              "<table border=\"1\" class=\"dataframe\">\n",
              "  <thead>\n",
              "    <tr style=\"text-align: right;\">\n",
              "      <th></th>\n",
              "      <th>Date</th>\n",
              "      <th>Hours</th>\n",
              "      <th>Weeknum</th>\n",
              "      <th>Weekday</th>\n",
              "      <th>Shift</th>\n",
              "      <th>S_num</th>\n",
              "      <th>State</th>\n",
              "      <th>T_loss</th>\n",
              "      <th>Mass</th>\n",
              "      <th>Group</th>\n",
              "      <th>Product</th>\n",
              "      <th>Format</th>\n",
              "      <th>Team</th>\n",
              "      <th>XO_num</th>\n",
              "      <th>XO_type</th>\n",
              "      <th>FTE_loss</th>\n",
              "      <th>Form_min</th>\n",
              "      <th>A1764</th>\n",
              "      <th>PK2219</th>\n",
              "      <th>PK2845</th>\n",
              "      <th>PK4553</th>\n",
              "      <th>Schubert</th>\n",
              "      <th>K6316</th>\n",
              "      <th>TP6839</th>\n",
              "      <th>Boxes</th>\n",
              "      <th>GE</th>\n",
              "      <th>GE_loss</th>\n",
              "      <th>Min_loss</th>\n",
              "      <th>Machine</th>\n",
              "      <th>Workpoint</th>\n",
              "      <th>Comment</th>\n",
              "    </tr>\n",
              "    <tr>\n",
              "      <th>Event</th>\n",
              "      <th></th>\n",
              "      <th></th>\n",
              "      <th></th>\n",
              "      <th></th>\n",
              "      <th></th>\n",
              "      <th></th>\n",
              "      <th></th>\n",
              "      <th></th>\n",
              "      <th></th>\n",
              "      <th></th>\n",
              "      <th></th>\n",
              "      <th></th>\n",
              "      <th></th>\n",
              "      <th></th>\n",
              "      <th></th>\n",
              "      <th></th>\n",
              "      <th></th>\n",
              "      <th></th>\n",
              "      <th></th>\n",
              "      <th></th>\n",
              "      <th></th>\n",
              "      <th></th>\n",
              "      <th></th>\n",
              "      <th></th>\n",
              "      <th></th>\n",
              "      <th></th>\n",
              "      <th></th>\n",
              "      <th></th>\n",
              "      <th></th>\n",
              "      <th></th>\n",
              "      <th></th>\n",
              "    </tr>\n",
              "  </thead>\n",
              "  <tbody>\n",
              "    <tr>\n",
              "      <th>2021-03-28 22:00:00</th>\n",
              "      <td>2021-03-28</td>\n",
              "      <td>22:00:00</td>\n",
              "      <td>13</td>\n",
              "      <td>Sunday</td>\n",
              "      <td>Afternoon</td>\n",
              "      <td>NaN</td>\n",
              "      <td>NaN</td>\n",
              "      <td>NaN</td>\n",
              "      <td>NaN</td>\n",
              "      <td>NaN</td>\n",
              "      <td>NaN</td>\n",
              "      <td>NaN</td>\n",
              "      <td>NaN</td>\n",
              "      <td>NaN</td>\n",
              "      <td>NaN</td>\n",
              "      <td>NaN</td>\n",
              "      <td>NaN</td>\n",
              "      <td>NaN</td>\n",
              "      <td>NaN</td>\n",
              "      <td>NaN</td>\n",
              "      <td>NaN</td>\n",
              "      <td>NaN</td>\n",
              "      <td>NaN</td>\n",
              "      <td>NaN</td>\n",
              "      <td>NaN</td>\n",
              "      <td>NaN</td>\n",
              "      <td>NaN</td>\n",
              "      <td>NaN</td>\n",
              "      <td>NaN</td>\n",
              "      <td>NaN</td>\n",
              "      <td>NaN</td>\n",
              "    </tr>\n",
              "    <tr>\n",
              "      <th>2021-03-28 23:00:00</th>\n",
              "      <td>2021-03-28</td>\n",
              "      <td>23:00:00</td>\n",
              "      <td>13</td>\n",
              "      <td>Sunday</td>\n",
              "      <td>Night</td>\n",
              "      <td>NaN</td>\n",
              "      <td>NaN</td>\n",
              "      <td>NaN</td>\n",
              "      <td>NaN</td>\n",
              "      <td>NaN</td>\n",
              "      <td>NaN</td>\n",
              "      <td>NaN</td>\n",
              "      <td>NaN</td>\n",
              "      <td>NaN</td>\n",
              "      <td>NaN</td>\n",
              "      <td>NaN</td>\n",
              "      <td>NaN</td>\n",
              "      <td>NaN</td>\n",
              "      <td>NaN</td>\n",
              "      <td>NaN</td>\n",
              "      <td>NaN</td>\n",
              "      <td>NaN</td>\n",
              "      <td>NaN</td>\n",
              "      <td>NaN</td>\n",
              "      <td>NaN</td>\n",
              "      <td>NaN</td>\n",
              "      <td>NaN</td>\n",
              "      <td>NaN</td>\n",
              "      <td>NaN</td>\n",
              "      <td>NaN</td>\n",
              "      <td>NaN</td>\n",
              "    </tr>\n",
              "  </tbody>\n",
              "</table>\n",
              "</div>"
            ],
            "text/plain": [
              "                          Date     Hours  Weeknum  ... Machine Workpoint  Comment\n",
              "Event                                              ...                           \n",
              "2021-03-28 22:00:00 2021-03-28  22:00:00       13  ...     NaN       NaN      NaN\n",
              "2021-03-28 23:00:00 2021-03-28  23:00:00       13  ...     NaN       NaN      NaN\n",
              "\n",
              "[2 rows x 31 columns]"
            ]
          },
          "metadata": {
            "tags": []
          },
          "execution_count": 27
        }
      ]
    },
    {
      "cell_type": "code",
      "metadata": {
        "colab": {
          "base_uri": "https://localhost:8080/"
        },
        "id": "8ecBLHIHQhKC",
        "outputId": "5b31ec5b-c5eb-454a-8afd-b5fbf09e70c5"
      },
      "source": [
        "#Filtering the dataframe to match planned production time\n",
        "s = '2021-01-04 07:00:00'\n",
        "f = '2021-03-23 07:00:00'\n",
        "ppt = st[s : f].copy()\n",
        "ppt.index[0], ppt.index[-1]"
      ],
      "execution_count": null,
      "outputs": [
        {
          "output_type": "execute_result",
          "data": {
            "text/plain": [
              "(Timestamp('2021-01-04 07:00:00'), Timestamp('2021-03-23 07:00:00'))"
            ]
          },
          "metadata": {
            "tags": []
          },
          "execution_count": 28
        }
      ]
    },
    {
      "cell_type": "code",
      "metadata": {
        "colab": {
          "base_uri": "https://localhost:8080/",
          "height": 402
        },
        "id": "0koOpjCuQ2ri",
        "outputId": "a675eace-51a7-4eec-b4fe-ba0c85ad1cd4"
      },
      "source": [
        "#Grouping and aggregating the data by waterfall coding according to previous date slicing\n",
        "\n",
        "st = ppt.value_counts(subset=['State', 'T_loss'], normalize=True).reset_index(name='Proportion') #==> Rename column series after resetting the index\n",
        "st"
      ],
      "execution_count": null,
      "outputs": [
        {
          "output_type": "execute_result",
          "data": {
            "text/html": [
              "<div>\n",
              "<style scoped>\n",
              "    .dataframe tbody tr th:only-of-type {\n",
              "        vertical-align: middle;\n",
              "    }\n",
              "\n",
              "    .dataframe tbody tr th {\n",
              "        vertical-align: top;\n",
              "    }\n",
              "\n",
              "    .dataframe thead th {\n",
              "        text-align: right;\n",
              "    }\n",
              "</style>\n",
              "<table border=\"1\" class=\"dataframe\">\n",
              "  <thead>\n",
              "    <tr style=\"text-align: right;\">\n",
              "      <th></th>\n",
              "      <th>State</th>\n",
              "      <th>T_loss</th>\n",
              "      <th>Proportion</th>\n",
              "    </tr>\n",
              "  </thead>\n",
              "  <tbody>\n",
              "    <tr>\n",
              "      <th>0</th>\n",
              "      <td>22_Operating</td>\n",
              "      <td>Operating</td>\n",
              "      <td>0.480430</td>\n",
              "    </tr>\n",
              "    <tr>\n",
              "      <th>1</th>\n",
              "      <td>9_Changeover</td>\n",
              "      <td>Planned</td>\n",
              "      <td>0.120491</td>\n",
              "    </tr>\n",
              "    <tr>\n",
              "      <th>2</th>\n",
              "      <td>8_Sanitation</td>\n",
              "      <td>Planned</td>\n",
              "      <td>0.112049</td>\n",
              "    </tr>\n",
              "    <tr>\n",
              "      <th>3</th>\n",
              "      <td>18_Op_Losses</td>\n",
              "      <td>Unplanned</td>\n",
              "      <td>0.099770</td>\n",
              "    </tr>\n",
              "    <tr>\n",
              "      <th>4</th>\n",
              "      <td>17_Breakdown</td>\n",
              "      <td>Unplanned</td>\n",
              "      <td>0.079048</td>\n",
              "    </tr>\n",
              "    <tr>\n",
              "      <th>5</th>\n",
              "      <td>20_Speed_Loss</td>\n",
              "      <td>Unplanned</td>\n",
              "      <td>0.029163</td>\n",
              "    </tr>\n",
              "    <tr>\n",
              "      <th>6</th>\n",
              "      <td>12_Start_Finish</td>\n",
              "      <td>Planned</td>\n",
              "      <td>0.024559</td>\n",
              "    </tr>\n",
              "    <tr>\n",
              "      <th>7</th>\n",
              "      <td>10_Planned_Stop</td>\n",
              "      <td>Planned</td>\n",
              "      <td>0.021489</td>\n",
              "    </tr>\n",
              "    <tr>\n",
              "      <th>8</th>\n",
              "      <td>19_Line_Delays</td>\n",
              "      <td>Unplanned</td>\n",
              "      <td>0.014582</td>\n",
              "    </tr>\n",
              "    <tr>\n",
              "      <th>9</th>\n",
              "      <td>14_Labor_Losses</td>\n",
              "      <td>Unplanned</td>\n",
              "      <td>0.013814</td>\n",
              "    </tr>\n",
              "    <tr>\n",
              "      <th>10</th>\n",
              "      <td>21_Quality_Loss</td>\n",
              "      <td>Unplanned</td>\n",
              "      <td>0.002302</td>\n",
              "    </tr>\n",
              "    <tr>\n",
              "      <th>11</th>\n",
              "      <td>16_Minor_Stoppages</td>\n",
              "      <td>Unplanned</td>\n",
              "      <td>0.002302</td>\n",
              "    </tr>\n",
              "  </tbody>\n",
              "</table>\n",
              "</div>"
            ],
            "text/plain": [
              "                 State     T_loss  Proportion\n",
              "0         22_Operating  Operating    0.480430\n",
              "1         9_Changeover    Planned    0.120491\n",
              "2         8_Sanitation    Planned    0.112049\n",
              "3         18_Op_Losses  Unplanned    0.099770\n",
              "4         17_Breakdown  Unplanned    0.079048\n",
              "5        20_Speed_Loss  Unplanned    0.029163\n",
              "6      12_Start_Finish    Planned    0.024559\n",
              "7      10_Planned_Stop    Planned    0.021489\n",
              "8       19_Line_Delays  Unplanned    0.014582\n",
              "9      14_Labor_Losses  Unplanned    0.013814\n",
              "10     21_Quality_Loss  Unplanned    0.002302\n",
              "11  16_Minor_Stoppages  Unplanned    0.002302"
            ]
          },
          "metadata": {
            "tags": []
          },
          "execution_count": 30
        }
      ]
    },
    {
      "cell_type": "code",
      "metadata": {
        "colab": {
          "base_uri": "https://localhost:8080/",
          "height": 17
        },
        "id": "ImkmsYYLWt65",
        "outputId": "9b9f2b94-e325-4db0-88b9-b3929350d36d"
      },
      "source": [
        "#Exporting to excel in local disk\n",
        "from google.colab import files\n",
        "st.to_excel('wf_state_j4.xlsx', index=False) #==> Excluding index from file\n",
        "files.download('wf_state_j4.xlsx')"
      ],
      "execution_count": null,
      "outputs": [
        {
          "output_type": "display_data",
          "data": {
            "application/javascript": [
              "\n",
              "    async function download(id, filename, size) {\n",
              "      if (!google.colab.kernel.accessAllowed) {\n",
              "        return;\n",
              "      }\n",
              "      const div = document.createElement('div');\n",
              "      const label = document.createElement('label');\n",
              "      label.textContent = `Downloading \"${filename}\": `;\n",
              "      div.appendChild(label);\n",
              "      const progress = document.createElement('progress');\n",
              "      progress.max = size;\n",
              "      div.appendChild(progress);\n",
              "      document.body.appendChild(div);\n",
              "\n",
              "      const buffers = [];\n",
              "      let downloaded = 0;\n",
              "\n",
              "      const channel = await google.colab.kernel.comms.open(id);\n",
              "      // Send a message to notify the kernel that we're ready.\n",
              "      channel.send({})\n",
              "\n",
              "      for await (const message of channel.messages) {\n",
              "        // Send a message to notify the kernel that we're ready.\n",
              "        channel.send({})\n",
              "        if (message.buffers) {\n",
              "          for (const buffer of message.buffers) {\n",
              "            buffers.push(buffer);\n",
              "            downloaded += buffer.byteLength;\n",
              "            progress.value = downloaded;\n",
              "          }\n",
              "        }\n",
              "      }\n",
              "      const blob = new Blob(buffers, {type: 'application/binary'});\n",
              "      const a = document.createElement('a');\n",
              "      a.href = window.URL.createObjectURL(blob);\n",
              "      a.download = filename;\n",
              "      div.appendChild(a);\n",
              "      a.click();\n",
              "      div.remove();\n",
              "    }\n",
              "  "
            ],
            "text/plain": [
              "<IPython.core.display.Javascript object>"
            ]
          },
          "metadata": {
            "tags": []
          }
        },
        {
          "output_type": "display_data",
          "data": {
            "application/javascript": [
              "download(\"download_b3135f86-51c1-48d5-9d89-13269aea2ba8\", \"wf_state_j4.xlsx\", 5410)"
            ],
            "text/plain": [
              "<IPython.core.display.Javascript object>"
            ]
          },
          "metadata": {
            "tags": []
          }
        }
      ]
    },
    {
      "cell_type": "markdown",
      "metadata": {
        "id": "d54x4GBiJDFv"
      },
      "source": [
        "#Greens vs Reds analysis"
      ]
    },
    {
      "cell_type": "code",
      "metadata": {
        "colab": {
          "resources": {
            "http://localhost:8080/nbextensions/google.colab/files.js": {
              "data": "Ly8gQ29weXJpZ2h0IDIwMTcgR29vZ2xlIExMQwovLwovLyBMaWNlbnNlZCB1bmRlciB0aGUgQXBhY2hlIExpY2Vuc2UsIFZlcnNpb24gMi4wICh0aGUgIkxpY2Vuc2UiKTsKLy8geW91IG1heSBub3QgdXNlIHRoaXMgZmlsZSBleGNlcHQgaW4gY29tcGxpYW5jZSB3aXRoIHRoZSBMaWNlbnNlLgovLyBZb3UgbWF5IG9idGFpbiBhIGNvcHkgb2YgdGhlIExpY2Vuc2UgYXQKLy8KLy8gICAgICBodHRwOi8vd3d3LmFwYWNoZS5vcmcvbGljZW5zZXMvTElDRU5TRS0yLjAKLy8KLy8gVW5sZXNzIHJlcXVpcmVkIGJ5IGFwcGxpY2FibGUgbGF3IG9yIGFncmVlZCB0byBpbiB3cml0aW5nLCBzb2Z0d2FyZQovLyBkaXN0cmlidXRlZCB1bmRlciB0aGUgTGljZW5zZSBpcyBkaXN0cmlidXRlZCBvbiBhbiAiQVMgSVMiIEJBU0lTLAovLyBXSVRIT1VUIFdBUlJBTlRJRVMgT1IgQ09ORElUSU9OUyBPRiBBTlkgS0lORCwgZWl0aGVyIGV4cHJlc3Mgb3IgaW1wbGllZC4KLy8gU2VlIHRoZSBMaWNlbnNlIGZvciB0aGUgc3BlY2lmaWMgbGFuZ3VhZ2UgZ292ZXJuaW5nIHBlcm1pc3Npb25zIGFuZAovLyBsaW1pdGF0aW9ucyB1bmRlciB0aGUgTGljZW5zZS4KCi8qKgogKiBAZmlsZW92ZXJ2aWV3IEhlbHBlcnMgZm9yIGdvb2dsZS5jb2xhYiBQeXRob24gbW9kdWxlLgogKi8KKGZ1bmN0aW9uKHNjb3BlKSB7CmZ1bmN0aW9uIHNwYW4odGV4dCwgc3R5bGVBdHRyaWJ1dGVzID0ge30pIHsKICBjb25zdCBlbGVtZW50ID0gZG9jdW1lbnQuY3JlYXRlRWxlbWVudCgnc3BhbicpOwogIGVsZW1lbnQudGV4dENvbnRlbnQgPSB0ZXh0OwogIGZvciAoY29uc3Qga2V5IG9mIE9iamVjdC5rZXlzKHN0eWxlQXR0cmlidXRlcykpIHsKICAgIGVsZW1lbnQuc3R5bGVba2V5XSA9IHN0eWxlQXR0cmlidXRlc1trZXldOwogIH0KICByZXR1cm4gZWxlbWVudDsKfQoKLy8gTWF4IG51bWJlciBvZiBieXRlcyB3aGljaCB3aWxsIGJlIHVwbG9hZGVkIGF0IGEgdGltZS4KY29uc3QgTUFYX1BBWUxPQURfU0laRSA9IDEwMCAqIDEwMjQ7CgpmdW5jdGlvbiBfdXBsb2FkRmlsZXMoaW5wdXRJZCwgb3V0cHV0SWQpIHsKICBjb25zdCBzdGVwcyA9IHVwbG9hZEZpbGVzU3RlcChpbnB1dElkLCBvdXRwdXRJZCk7CiAgY29uc3Qgb3V0cHV0RWxlbWVudCA9IGRvY3VtZW50LmdldEVsZW1lbnRCeUlkKG91dHB1dElkKTsKICAvLyBDYWNoZSBzdGVwcyBvbiB0aGUgb3V0cHV0RWxlbWVudCB0byBtYWtlIGl0IGF2YWlsYWJsZSBmb3IgdGhlIG5leHQgY2FsbAogIC8vIHRvIHVwbG9hZEZpbGVzQ29udGludWUgZnJvbSBQeXRob24uCiAgb3V0cHV0RWxlbWVudC5zdGVwcyA9IHN0ZXBzOwoKICByZXR1cm4gX3VwbG9hZEZpbGVzQ29udGludWUob3V0cHV0SWQpOwp9CgovLyBUaGlzIGlzIHJvdWdobHkgYW4gYXN5bmMgZ2VuZXJhdG9yIChub3Qgc3VwcG9ydGVkIGluIHRoZSBicm93c2VyIHlldCksCi8vIHdoZXJlIHRoZXJlIGFyZSBtdWx0aXBsZSBhc3luY2hyb25vdXMgc3RlcHMgYW5kIHRoZSBQeXRob24gc2lkZSBpcyBnb2luZwovLyB0byBwb2xsIGZvciBjb21wbGV0aW9uIG9mIGVhY2ggc3RlcC4KLy8gVGhpcyB1c2VzIGEgUHJvbWlzZSB0byBibG9jayB0aGUgcHl0aG9uIHNpZGUgb24gY29tcGxldGlvbiBvZiBlYWNoIHN0ZXAsCi8vIHRoZW4gcGFzc2VzIHRoZSByZXN1bHQgb2YgdGhlIHByZXZpb3VzIHN0ZXAgYXMgdGhlIGlucHV0IHRvIHRoZSBuZXh0IHN0ZXAuCmZ1bmN0aW9uIF91cGxvYWRGaWxlc0NvbnRpbnVlKG91dHB1dElkKSB7CiAgY29uc3Qgb3V0cHV0RWxlbWVudCA9IGRvY3VtZW50LmdldEVsZW1lbnRCeUlkKG91dHB1dElkKTsKICBjb25zdCBzdGVwcyA9IG91dHB1dEVsZW1lbnQuc3RlcHM7CgogIGNvbnN0IG5leHQgPSBzdGVwcy5uZXh0KG91dHB1dEVsZW1lbnQubGFzdFByb21pc2VWYWx1ZSk7CiAgcmV0dXJuIFByb21pc2UucmVzb2x2ZShuZXh0LnZhbHVlLnByb21pc2UpLnRoZW4oKHZhbHVlKSA9PiB7CiAgICAvLyBDYWNoZSB0aGUgbGFzdCBwcm9taXNlIHZhbHVlIHRvIG1ha2UgaXQgYXZhaWxhYmxlIHRvIHRoZSBuZXh0CiAgICAvLyBzdGVwIG9mIHRoZSBnZW5lcmF0b3IuCiAgICBvdXRwdXRFbGVtZW50Lmxhc3RQcm9taXNlVmFsdWUgPSB2YWx1ZTsKICAgIHJldHVybiBuZXh0LnZhbHVlLnJlc3BvbnNlOwogIH0pOwp9CgovKioKICogR2VuZXJhdG9yIGZ1bmN0aW9uIHdoaWNoIGlzIGNhbGxlZCBiZXR3ZWVuIGVhY2ggYXN5bmMgc3RlcCBvZiB0aGUgdXBsb2FkCiAqIHByb2Nlc3MuCiAqIEBwYXJhbSB7c3RyaW5nfSBpbnB1dElkIEVsZW1lbnQgSUQgb2YgdGhlIGlucHV0IGZpbGUgcGlja2VyIGVsZW1lbnQuCiAqIEBwYXJhbSB7c3RyaW5nfSBvdXRwdXRJZCBFbGVtZW50IElEIG9mIHRoZSBvdXRwdXQgZGlzcGxheS4KICogQHJldHVybiB7IUl0ZXJhYmxlPCFPYmplY3Q+fSBJdGVyYWJsZSBvZiBuZXh0IHN0ZXBzLgogKi8KZnVuY3Rpb24qIHVwbG9hZEZpbGVzU3RlcChpbnB1dElkLCBvdXRwdXRJZCkgewogIGNvbnN0IGlucHV0RWxlbWVudCA9IGRvY3VtZW50LmdldEVsZW1lbnRCeUlkKGlucHV0SWQpOwogIGlucHV0RWxlbWVudC5kaXNhYmxlZCA9IGZhbHNlOwoKICBjb25zdCBvdXRwdXRFbGVtZW50ID0gZG9jdW1lbnQuZ2V0RWxlbWVudEJ5SWQob3V0cHV0SWQpOwogIG91dHB1dEVsZW1lbnQuaW5uZXJIVE1MID0gJyc7CgogIGNvbnN0IHBpY2tlZFByb21pc2UgPSBuZXcgUHJvbWlzZSgocmVzb2x2ZSkgPT4gewogICAgaW5wdXRFbGVtZW50LmFkZEV2ZW50TGlzdGVuZXIoJ2NoYW5nZScsIChlKSA9PiB7CiAgICAgIHJlc29sdmUoZS50YXJnZXQuZmlsZXMpOwogICAgfSk7CiAgfSk7CgogIGNvbnN0IGNhbmNlbCA9IGRvY3VtZW50LmNyZWF0ZUVsZW1lbnQoJ2J1dHRvbicpOwogIGlucHV0RWxlbWVudC5wYXJlbnRFbGVtZW50LmFwcGVuZENoaWxkKGNhbmNlbCk7CiAgY2FuY2VsLnRleHRDb250ZW50ID0gJ0NhbmNlbCB1cGxvYWQnOwogIGNvbnN0IGNhbmNlbFByb21pc2UgPSBuZXcgUHJvbWlzZSgocmVzb2x2ZSkgPT4gewogICAgY2FuY2VsLm9uY2xpY2sgPSAoKSA9PiB7CiAgICAgIHJlc29sdmUobnVsbCk7CiAgICB9OwogIH0pOwoKICAvLyBXYWl0IGZvciB0aGUgdXNlciB0byBwaWNrIHRoZSBmaWxlcy4KICBjb25zdCBmaWxlcyA9IHlpZWxkIHsKICAgIHByb21pc2U6IFByb21pc2UucmFjZShbcGlja2VkUHJvbWlzZSwgY2FuY2VsUHJvbWlzZV0pLAogICAgcmVzcG9uc2U6IHsKICAgICAgYWN0aW9uOiAnc3RhcnRpbmcnLAogICAgfQogIH07CgogIGNhbmNlbC5yZW1vdmUoKTsKCiAgLy8gRGlzYWJsZSB0aGUgaW5wdXQgZWxlbWVudCBzaW5jZSBmdXJ0aGVyIHBpY2tzIGFyZSBub3QgYWxsb3dlZC4KICBpbnB1dEVsZW1lbnQuZGlzYWJsZWQgPSB0cnVlOwoKICBpZiAoIWZpbGVzKSB7CiAgICByZXR1cm4gewogICAgICByZXNwb25zZTogewogICAgICAgIGFjdGlvbjogJ2NvbXBsZXRlJywKICAgICAgfQogICAgfTsKICB9CgogIGZvciAoY29uc3QgZmlsZSBvZiBmaWxlcykgewogICAgY29uc3QgbGkgPSBkb2N1bWVudC5jcmVhdGVFbGVtZW50KCdsaScpOwogICAgbGkuYXBwZW5kKHNwYW4oZmlsZS5uYW1lLCB7Zm9udFdlaWdodDogJ2JvbGQnfSkpOwogICAgbGkuYXBwZW5kKHNwYW4oCiAgICAgICAgYCgke2ZpbGUudHlwZSB8fCAnbi9hJ30pIC0gJHtmaWxlLnNpemV9IGJ5dGVzLCBgICsKICAgICAgICBgbGFzdCBtb2RpZmllZDogJHsKICAgICAgICAgICAgZmlsZS5sYXN0TW9kaWZpZWREYXRlID8gZmlsZS5sYXN0TW9kaWZpZWREYXRlLnRvTG9jYWxlRGF0ZVN0cmluZygpIDoKICAgICAgICAgICAgICAgICAgICAgICAgICAgICAgICAgICAgJ24vYSd9IC0gYCkpOwogICAgY29uc3QgcGVyY2VudCA9IHNwYW4oJzAlIGRvbmUnKTsKICAgIGxpLmFwcGVuZENoaWxkKHBlcmNlbnQpOwoKICAgIG91dHB1dEVsZW1lbnQuYXBwZW5kQ2hpbGQobGkpOwoKICAgIGNvbnN0IGZpbGVEYXRhUHJvbWlzZSA9IG5ldyBQcm9taXNlKChyZXNvbHZlKSA9PiB7CiAgICAgIGNvbnN0IHJlYWRlciA9IG5ldyBGaWxlUmVhZGVyKCk7CiAgICAgIHJlYWRlci5vbmxvYWQgPSAoZSkgPT4gewogICAgICAgIHJlc29sdmUoZS50YXJnZXQucmVzdWx0KTsKICAgICAgfTsKICAgICAgcmVhZGVyLnJlYWRBc0FycmF5QnVmZmVyKGZpbGUpOwogICAgfSk7CiAgICAvLyBXYWl0IGZvciB0aGUgZGF0YSB0byBiZSByZWFkeS4KICAgIGxldCBmaWxlRGF0YSA9IHlpZWxkIHsKICAgICAgcHJvbWlzZTogZmlsZURhdGFQcm9taXNlLAogICAgICByZXNwb25zZTogewogICAgICAgIGFjdGlvbjogJ2NvbnRpbnVlJywKICAgICAgfQogICAgfTsKCiAgICAvLyBVc2UgYSBjaHVua2VkIHNlbmRpbmcgdG8gYXZvaWQgbWVzc2FnZSBzaXplIGxpbWl0cy4gU2VlIGIvNjIxMTU2NjAuCiAgICBsZXQgcG9zaXRpb24gPSAwOwogICAgd2hpbGUgKHBvc2l0aW9uIDwgZmlsZURhdGEuYnl0ZUxlbmd0aCkgewogICAgICBjb25zdCBsZW5ndGggPSBNYXRoLm1pbihmaWxlRGF0YS5ieXRlTGVuZ3RoIC0gcG9zaXRpb24sIE1BWF9QQVlMT0FEX1NJWkUpOwogICAgICBjb25zdCBjaHVuayA9IG5ldyBVaW50OEFycmF5KGZpbGVEYXRhLCBwb3NpdGlvbiwgbGVuZ3RoKTsKICAgICAgcG9zaXRpb24gKz0gbGVuZ3RoOwoKICAgICAgY29uc3QgYmFzZTY0ID0gYnRvYShTdHJpbmcuZnJvbUNoYXJDb2RlLmFwcGx5KG51bGwsIGNodW5rKSk7CiAgICAgIHlpZWxkIHsKICAgICAgICByZXNwb25zZTogewogICAgICAgICAgYWN0aW9uOiAnYXBwZW5kJywKICAgICAgICAgIGZpbGU6IGZpbGUubmFtZSwKICAgICAgICAgIGRhdGE6IGJhc2U2NCwKICAgICAgICB9LAogICAgICB9OwogICAgICBwZXJjZW50LnRleHRDb250ZW50ID0KICAgICAgICAgIGAke01hdGgucm91bmQoKHBvc2l0aW9uIC8gZmlsZURhdGEuYnl0ZUxlbmd0aCkgKiAxMDApfSUgZG9uZWA7CiAgICB9CiAgfQoKICAvLyBBbGwgZG9uZS4KICB5aWVsZCB7CiAgICByZXNwb25zZTogewogICAgICBhY3Rpb246ICdjb21wbGV0ZScsCiAgICB9CiAgfTsKfQoKc2NvcGUuZ29vZ2xlID0gc2NvcGUuZ29vZ2xlIHx8IHt9OwpzY29wZS5nb29nbGUuY29sYWIgPSBzY29wZS5nb29nbGUuY29sYWIgfHwge307CnNjb3BlLmdvb2dsZS5jb2xhYi5fZmlsZXMgPSB7CiAgX3VwbG9hZEZpbGVzLAogIF91cGxvYWRGaWxlc0NvbnRpbnVlLAp9Owp9KShzZWxmKTsK",
              "ok": true,
              "headers": [
                [
                  "content-type",
                  "application/javascript"
                ]
              ],
              "status": 200,
              "status_text": "OK"
            }
          },
          "base_uri": "https://localhost:8080/",
          "height": 73
        },
        "id": "NfsE08BzJBwl",
        "outputId": "49b98840-302d-4f51-c694-e555568e1367"
      },
      "source": [
        "#Uploading file from local drive ==> !rm file\n",
        "from google.colab import files\n",
        "uploaded = files.upload()"
      ],
      "execution_count": null,
      "outputs": [
        {
          "output_type": "display_data",
          "data": {
            "text/html": [
              "\n",
              "     <input type=\"file\" id=\"files-abbd61d0-91f9-49dc-8641-550668f325a0\" name=\"files[]\" multiple disabled\n",
              "        style=\"border:none\" />\n",
              "     <output id=\"result-abbd61d0-91f9-49dc-8641-550668f325a0\">\n",
              "      Upload widget is only available when the cell has been executed in the\n",
              "      current browser session. Please rerun this cell to enable.\n",
              "      </output>\n",
              "      <script src=\"/nbextensions/google.colab/files.js\"></script> "
            ],
            "text/plain": [
              "<IPython.core.display.HTML object>"
            ]
          },
          "metadata": {
            "tags": []
          }
        },
        {
          "output_type": "stream",
          "text": [
            "Saving 2021_j4_grouped.xlsx to 2021_j4_grouped (3).xlsx\n"
          ],
          "name": "stdout"
        }
      ]
    },
    {
      "cell_type": "code",
      "metadata": {
        "id": "ItVh0xx-JBwn"
      },
      "source": [
        "#Storing dataset in a Pandas Dataframe\n",
        "import io\n",
        "df = pd.read_excel(io.BytesIO(uploaded['2021_j4_grouped.xlsx']), index_col='Date') #==> Set date column as index"
      ],
      "execution_count": null,
      "outputs": []
    },
    {
      "cell_type": "code",
      "metadata": {
        "colab": {
          "base_uri": "https://localhost:8080/",
          "height": 329
        },
        "id": "85eA9tnBJ39I",
        "outputId": "93188964-c223-483a-e48e-48a11fd093b7"
      },
      "source": [
        "#Checking the dataframe head\n",
        "df.head()"
      ],
      "execution_count": null,
      "outputs": [
        {
          "output_type": "execute_result",
          "data": {
            "text/html": [
              "<div>\n",
              "<style scoped>\n",
              "    .dataframe tbody tr th:only-of-type {\n",
              "        vertical-align: middle;\n",
              "    }\n",
              "\n",
              "    .dataframe tbody tr th {\n",
              "        vertical-align: top;\n",
              "    }\n",
              "\n",
              "    .dataframe thead th {\n",
              "        text-align: right;\n",
              "    }\n",
              "</style>\n",
              "<table border=\"1\" class=\"dataframe\">\n",
              "  <thead>\n",
              "    <tr style=\"text-align: right;\">\n",
              "      <th></th>\n",
              "      <th>Variant</th>\n",
              "      <th>Weeknum</th>\n",
              "      <th>S_num</th>\n",
              "      <th>Shift</th>\n",
              "      <th>Mass</th>\n",
              "      <th>Group</th>\n",
              "      <th>Product</th>\n",
              "      <th>Format</th>\n",
              "      <th>Form_min</th>\n",
              "      <th>Hours</th>\n",
              "      <th>Boxes</th>\n",
              "      <th>GE</th>\n",
              "      <th>GE_loss</th>\n",
              "      <th>Min_loss</th>\n",
              "      <th>A1764</th>\n",
              "      <th>PK2219</th>\n",
              "      <th>PK2845</th>\n",
              "      <th>PK4553</th>\n",
              "      <th>Schubert</th>\n",
              "      <th>K6316</th>\n",
              "      <th>TP6839</th>\n",
              "      <th>Kr_loss</th>\n",
              "      <th>Comment</th>\n",
              "    </tr>\n",
              "    <tr>\n",
              "      <th>Date</th>\n",
              "      <th></th>\n",
              "      <th></th>\n",
              "      <th></th>\n",
              "      <th></th>\n",
              "      <th></th>\n",
              "      <th></th>\n",
              "      <th></th>\n",
              "      <th></th>\n",
              "      <th></th>\n",
              "      <th></th>\n",
              "      <th></th>\n",
              "      <th></th>\n",
              "      <th></th>\n",
              "      <th></th>\n",
              "      <th></th>\n",
              "      <th></th>\n",
              "      <th></th>\n",
              "      <th></th>\n",
              "      <th></th>\n",
              "      <th></th>\n",
              "      <th></th>\n",
              "      <th></th>\n",
              "      <th></th>\n",
              "    </tr>\n",
              "  </thead>\n",
              "  <tbody>\n",
              "    <tr>\n",
              "      <th>2021-01-04</th>\n",
              "      <td>1</td>\n",
              "      <td>1</td>\n",
              "      <td>1</td>\n",
              "      <td>Day</td>\n",
              "      <td>Norsk</td>\n",
              "      <td>Løsvekt</td>\n",
              "      <td>Melkerull_10kg</td>\n",
              "      <td>10kg</td>\n",
              "      <td>14.666667</td>\n",
              "      <td>6</td>\n",
              "      <td>114</td>\n",
              "      <td>31.666667</td>\n",
              "      <td>68.333333</td>\n",
              "      <td>246.000000</td>\n",
              "      <td>50.0</td>\n",
              "      <td>0.0</td>\n",
              "      <td>0.000000</td>\n",
              "      <td>0.000000</td>\n",
              "      <td>0.000000</td>\n",
              "      <td>0.0</td>\n",
              "      <td>0.000000</td>\n",
              "      <td>15575.900000</td>\n",
              "      <td>NaN</td>\n",
              "    </tr>\n",
              "    <tr>\n",
              "      <th>2021-01-04</th>\n",
              "      <td>2</td>\n",
              "      <td>1</td>\n",
              "      <td>1</td>\n",
              "      <td>Day</td>\n",
              "      <td>Svensk</td>\n",
              "      <td>Massive</td>\n",
              "      <td>Milkroll</td>\n",
              "      <td>2pk</td>\n",
              "      <td>28.333333</td>\n",
              "      <td>3</td>\n",
              "      <td>48</td>\n",
              "      <td>8.988764</td>\n",
              "      <td>91.011236</td>\n",
              "      <td>163.820225</td>\n",
              "      <td>100.0</td>\n",
              "      <td>0.0</td>\n",
              "      <td>66.666667</td>\n",
              "      <td>66.666667</td>\n",
              "      <td>66.666667</td>\n",
              "      <td>0.0</td>\n",
              "      <td>66.666667</td>\n",
              "      <td>10372.550562</td>\n",
              "      <td>NaN</td>\n",
              "    </tr>\n",
              "    <tr>\n",
              "      <th>2021-01-04</th>\n",
              "      <td>3</td>\n",
              "      <td>1</td>\n",
              "      <td>2</td>\n",
              "      <td>Afternoon</td>\n",
              "      <td>Svensk</td>\n",
              "      <td>Massive</td>\n",
              "      <td>Milkroll</td>\n",
              "      <td>2pk</td>\n",
              "      <td>27.857143</td>\n",
              "      <td>7</td>\n",
              "      <td>1003</td>\n",
              "      <td>80.497592</td>\n",
              "      <td>19.502408</td>\n",
              "      <td>81.910112</td>\n",
              "      <td>100.0</td>\n",
              "      <td>100.0</td>\n",
              "      <td>100.000000</td>\n",
              "      <td>0.000000</td>\n",
              "      <td>100.000000</td>\n",
              "      <td>0.0</td>\n",
              "      <td>100.000000</td>\n",
              "      <td>5186.275281</td>\n",
              "      <td>NaN</td>\n",
              "    </tr>\n",
              "    <tr>\n",
              "      <th>2021-01-04</th>\n",
              "      <td>4</td>\n",
              "      <td>1</td>\n",
              "      <td>3</td>\n",
              "      <td>Night</td>\n",
              "      <td>Svensk</td>\n",
              "      <td>Massive</td>\n",
              "      <td>Milkroll</td>\n",
              "      <td>2pk</td>\n",
              "      <td>23.000000</td>\n",
              "      <td>1</td>\n",
              "      <td>89</td>\n",
              "      <td>89.000000</td>\n",
              "      <td>11.000000</td>\n",
              "      <td>6.600000</td>\n",
              "      <td>100.0</td>\n",
              "      <td>100.0</td>\n",
              "      <td>100.000000</td>\n",
              "      <td>0.000000</td>\n",
              "      <td>100.000000</td>\n",
              "      <td>0.0</td>\n",
              "      <td>100.000000</td>\n",
              "      <td>417.890000</td>\n",
              "      <td>NaN</td>\n",
              "    </tr>\n",
              "    <tr>\n",
              "      <th>2021-01-04</th>\n",
              "      <td>5</td>\n",
              "      <td>1</td>\n",
              "      <td>3</td>\n",
              "      <td>Night</td>\n",
              "      <td>Svensk</td>\n",
              "      <td>Massive</td>\n",
              "      <td>Mjölkchoklad</td>\n",
              "      <td>single</td>\n",
              "      <td>23.875000</td>\n",
              "      <td>8</td>\n",
              "      <td>2440</td>\n",
              "      <td>89.387755</td>\n",
              "      <td>10.612245</td>\n",
              "      <td>50.938776</td>\n",
              "      <td>100.0</td>\n",
              "      <td>87.5</td>\n",
              "      <td>87.500000</td>\n",
              "      <td>0.000000</td>\n",
              "      <td>87.500000</td>\n",
              "      <td>50.0</td>\n",
              "      <td>0.000000</td>\n",
              "      <td>3225.273469</td>\n",
              "      <td>NaN</td>\n",
              "    </tr>\n",
              "  </tbody>\n",
              "</table>\n",
              "</div>"
            ],
            "text/plain": [
              "            Variant  Weeknum  S_num  ...      TP6839       Kr_loss Comment\n",
              "Date                                 ...                                  \n",
              "2021-01-04        1        1      1  ...    0.000000  15575.900000     NaN\n",
              "2021-01-04        2        1      1  ...   66.666667  10372.550562     NaN\n",
              "2021-01-04        3        1      2  ...  100.000000   5186.275281     NaN\n",
              "2021-01-04        4        1      3  ...  100.000000    417.890000     NaN\n",
              "2021-01-04        5        1      3  ...    0.000000   3225.273469     NaN\n",
              "\n",
              "[5 rows x 23 columns]"
            ]
          },
          "metadata": {
            "tags": []
          },
          "execution_count": 5
        }
      ]
    },
    {
      "cell_type": "code",
      "metadata": {
        "colab": {
          "base_uri": "https://localhost:8080/"
        },
        "id": "KK4JPIFwJ8-p",
        "outputId": "bd1866b4-2451-46a6-c3d6-84ef6fbb17bd"
      },
      "source": [
        "#Checking the dataframe info\n",
        "df.info()"
      ],
      "execution_count": null,
      "outputs": [
        {
          "output_type": "stream",
          "text": [
            "<class 'pandas.core.frame.DataFrame'>\n",
            "DatetimeIndex: 232 entries, 2021-01-04 to 2021-04-06\n",
            "Data columns (total 23 columns):\n",
            " #   Column    Non-Null Count  Dtype  \n",
            "---  ------    --------------  -----  \n",
            " 0   Variant   232 non-null    int64  \n",
            " 1   Weeknum   232 non-null    int64  \n",
            " 2   S_num     232 non-null    int64  \n",
            " 3   Shift     232 non-null    object \n",
            " 4   Mass      221 non-null    object \n",
            " 5   Group     221 non-null    object \n",
            " 6   Product   221 non-null    object \n",
            " 7   Format    221 non-null    object \n",
            " 8   Form_min  232 non-null    float64\n",
            " 9   Hours     232 non-null    int64  \n",
            " 10  Boxes     232 non-null    int64  \n",
            " 11  GE        232 non-null    float64\n",
            " 12  GE_loss   232 non-null    float64\n",
            " 13  Min_loss  232 non-null    float64\n",
            " 14  A1764     232 non-null    float64\n",
            " 15  PK2219    232 non-null    float64\n",
            " 16  PK2845    232 non-null    float64\n",
            " 17  PK4553    232 non-null    float64\n",
            " 18  Schubert  232 non-null    float64\n",
            " 19  K6316     232 non-null    float64\n",
            " 20  TP6839    232 non-null    float64\n",
            " 21  Kr_loss   232 non-null    float64\n",
            " 22  Comment   33 non-null     object \n",
            "dtypes: float64(12), int64(5), object(6)\n",
            "memory usage: 43.5+ KB\n"
          ],
          "name": "stdout"
        }
      ]
    },
    {
      "cell_type": "code",
      "metadata": {
        "colab": {
          "base_uri": "https://localhost:8080/"
        },
        "id": "OfwV6btlKEV3",
        "outputId": "79eec58a-c8ef-42b0-c164-4f24bdbcbfab"
      },
      "source": [
        "#Dropping missing values\n",
        "df = df[~df['Mass'].isin([np.nan])]\n",
        "df.info()"
      ],
      "execution_count": null,
      "outputs": [
        {
          "output_type": "stream",
          "text": [
            "<class 'pandas.core.frame.DataFrame'>\n",
            "DatetimeIndex: 221 entries, 2021-01-04 to 2021-04-06\n",
            "Data columns (total 23 columns):\n",
            " #   Column    Non-Null Count  Dtype  \n",
            "---  ------    --------------  -----  \n",
            " 0   Variant   221 non-null    int64  \n",
            " 1   Weeknum   221 non-null    int64  \n",
            " 2   S_num     221 non-null    int64  \n",
            " 3   Shift     221 non-null    object \n",
            " 4   Mass      221 non-null    object \n",
            " 5   Group     221 non-null    object \n",
            " 6   Product   221 non-null    object \n",
            " 7   Format    221 non-null    object \n",
            " 8   Form_min  221 non-null    float64\n",
            " 9   Hours     221 non-null    int64  \n",
            " 10  Boxes     221 non-null    int64  \n",
            " 11  GE        221 non-null    float64\n",
            " 12  GE_loss   221 non-null    float64\n",
            " 13  Min_loss  221 non-null    float64\n",
            " 14  A1764     221 non-null    float64\n",
            " 15  PK2219    221 non-null    float64\n",
            " 16  PK2845    221 non-null    float64\n",
            " 17  PK4553    221 non-null    float64\n",
            " 18  Schubert  221 non-null    float64\n",
            " 19  K6316     221 non-null    float64\n",
            " 20  TP6839    221 non-null    float64\n",
            " 21  Kr_loss   221 non-null    float64\n",
            " 22  Comment   22 non-null     object \n",
            "dtypes: float64(12), int64(5), object(6)\n",
            "memory usage: 41.4+ KB\n"
          ],
          "name": "stdout"
        }
      ]
    },
    {
      "cell_type": "code",
      "metadata": {
        "colab": {
          "base_uri": "https://localhost:8080/"
        },
        "id": "VeeGlad187GY",
        "outputId": "16aca487-987a-4402-c0de-40df668de8f0"
      },
      "source": [
        "#Filtering the dataframe to match planned production time\n",
        "s = '2021-02-01'\n",
        "f = '2021-04-06'\n",
        "ft_df = df[s : f].copy()\n",
        "ft_df.index[0], ft_df.index[-1]"
      ],
      "execution_count": null,
      "outputs": [
        {
          "output_type": "execute_result",
          "data": {
            "text/plain": [
              "(Timestamp('2021-02-01 00:00:00'), Timestamp('2021-04-06 00:00:00'))"
            ]
          },
          "metadata": {
            "tags": []
          },
          "execution_count": 12
        }
      ]
    },
    {
      "cell_type": "code",
      "metadata": {
        "colab": {
          "base_uri": "https://localhost:8080/",
          "height": 329
        },
        "id": "pJrKsFgbKlWR",
        "outputId": "2bdab2e9-8ebf-4d9d-f513-da6a263bf5f0"
      },
      "source": [
        "#Assign categorical columns of greens and reds\n",
        "ft_df = ft_df.assign(Cat = lambda x: np.where((x['Product']=='Melkerull') |\n",
        "                                              (x['Product']=='Krokanrull') |\n",
        "                                              (x['Product']=='Smil'),\n",
        "                                              \"Green\", \"Red\"))\n",
        "ft_df.head()"
      ],
      "execution_count": null,
      "outputs": [
        {
          "output_type": "execute_result",
          "data": {
            "text/html": [
              "<div>\n",
              "<style scoped>\n",
              "    .dataframe tbody tr th:only-of-type {\n",
              "        vertical-align: middle;\n",
              "    }\n",
              "\n",
              "    .dataframe tbody tr th {\n",
              "        vertical-align: top;\n",
              "    }\n",
              "\n",
              "    .dataframe thead th {\n",
              "        text-align: right;\n",
              "    }\n",
              "</style>\n",
              "<table border=\"1\" class=\"dataframe\">\n",
              "  <thead>\n",
              "    <tr style=\"text-align: right;\">\n",
              "      <th></th>\n",
              "      <th>Variant</th>\n",
              "      <th>Weeknum</th>\n",
              "      <th>S_num</th>\n",
              "      <th>Shift</th>\n",
              "      <th>Mass</th>\n",
              "      <th>Group</th>\n",
              "      <th>Product</th>\n",
              "      <th>Format</th>\n",
              "      <th>Form_min</th>\n",
              "      <th>Hours</th>\n",
              "      <th>Boxes</th>\n",
              "      <th>GE</th>\n",
              "      <th>GE_loss</th>\n",
              "      <th>Min_loss</th>\n",
              "      <th>A1764</th>\n",
              "      <th>PK2219</th>\n",
              "      <th>PK2845</th>\n",
              "      <th>PK4553</th>\n",
              "      <th>Schubert</th>\n",
              "      <th>K6316</th>\n",
              "      <th>TP6839</th>\n",
              "      <th>Kr_loss</th>\n",
              "      <th>Comment</th>\n",
              "      <th>Cat</th>\n",
              "    </tr>\n",
              "    <tr>\n",
              "      <th>Date</th>\n",
              "      <th></th>\n",
              "      <th></th>\n",
              "      <th></th>\n",
              "      <th></th>\n",
              "      <th></th>\n",
              "      <th></th>\n",
              "      <th></th>\n",
              "      <th></th>\n",
              "      <th></th>\n",
              "      <th></th>\n",
              "      <th></th>\n",
              "      <th></th>\n",
              "      <th></th>\n",
              "      <th></th>\n",
              "      <th></th>\n",
              "      <th></th>\n",
              "      <th></th>\n",
              "      <th></th>\n",
              "      <th></th>\n",
              "      <th></th>\n",
              "      <th></th>\n",
              "      <th></th>\n",
              "      <th></th>\n",
              "      <th></th>\n",
              "    </tr>\n",
              "  </thead>\n",
              "  <tbody>\n",
              "    <tr>\n",
              "      <th>2021-02-01</th>\n",
              "      <td>84</td>\n",
              "      <td>5</td>\n",
              "      <td>61</td>\n",
              "      <td>Day</td>\n",
              "      <td>Norsk</td>\n",
              "      <td>Fylte</td>\n",
              "      <td>Mintchoko</td>\n",
              "      <td>single</td>\n",
              "      <td>0.000000</td>\n",
              "      <td>1</td>\n",
              "      <td>0</td>\n",
              "      <td>0.000000</td>\n",
              "      <td>100.000000</td>\n",
              "      <td>60.000000</td>\n",
              "      <td>0.0</td>\n",
              "      <td>0.0</td>\n",
              "      <td>0.0</td>\n",
              "      <td>0.0</td>\n",
              "      <td>0.0</td>\n",
              "      <td>0.0</td>\n",
              "      <td>0.0</td>\n",
              "      <td>3799.000000</td>\n",
              "      <td>NaN</td>\n",
              "      <td>Red</td>\n",
              "    </tr>\n",
              "    <tr>\n",
              "      <th>2021-02-01</th>\n",
              "      <td>85</td>\n",
              "      <td>5</td>\n",
              "      <td>61</td>\n",
              "      <td>Day</td>\n",
              "      <td>Svensk</td>\n",
              "      <td>Massive</td>\n",
              "      <td>Mjölkchoklad</td>\n",
              "      <td>single</td>\n",
              "      <td>18.500000</td>\n",
              "      <td>8</td>\n",
              "      <td>640</td>\n",
              "      <td>18.018018</td>\n",
              "      <td>81.981982</td>\n",
              "      <td>393.513514</td>\n",
              "      <td>62.5</td>\n",
              "      <td>0.0</td>\n",
              "      <td>25.0</td>\n",
              "      <td>25.0</td>\n",
              "      <td>25.0</td>\n",
              "      <td>25.0</td>\n",
              "      <td>0.0</td>\n",
              "      <td>24915.963964</td>\n",
              "      <td>NaN</td>\n",
              "      <td>Red</td>\n",
              "    </tr>\n",
              "    <tr>\n",
              "      <th>2021-02-01</th>\n",
              "      <td>86</td>\n",
              "      <td>5</td>\n",
              "      <td>62</td>\n",
              "      <td>Afternoon</td>\n",
              "      <td>Svensk</td>\n",
              "      <td>Massive</td>\n",
              "      <td>Mjölkchoklad</td>\n",
              "      <td>single</td>\n",
              "      <td>27.000000</td>\n",
              "      <td>7</td>\n",
              "      <td>2979</td>\n",
              "      <td>95.849421</td>\n",
              "      <td>4.150579</td>\n",
              "      <td>36.351351</td>\n",
              "      <td>100.0</td>\n",
              "      <td>0.0</td>\n",
              "      <td>100.0</td>\n",
              "      <td>100.0</td>\n",
              "      <td>100.0</td>\n",
              "      <td>100.0</td>\n",
              "      <td>0.0</td>\n",
              "      <td>2301.646396</td>\n",
              "      <td>NaN</td>\n",
              "      <td>Red</td>\n",
              "    </tr>\n",
              "    <tr>\n",
              "      <th>2021-02-01</th>\n",
              "      <td>87</td>\n",
              "      <td>5</td>\n",
              "      <td>63</td>\n",
              "      <td>Night</td>\n",
              "      <td>Svensk</td>\n",
              "      <td>Massive</td>\n",
              "      <td>Mjölkchoklad</td>\n",
              "      <td>single</td>\n",
              "      <td>27.466667</td>\n",
              "      <td>9</td>\n",
              "      <td>3708</td>\n",
              "      <td>97.823129</td>\n",
              "      <td>2.176871</td>\n",
              "      <td>11.755102</td>\n",
              "      <td>100.0</td>\n",
              "      <td>0.0</td>\n",
              "      <td>100.0</td>\n",
              "      <td>100.0</td>\n",
              "      <td>100.0</td>\n",
              "      <td>100.0</td>\n",
              "      <td>0.0</td>\n",
              "      <td>744.293878</td>\n",
              "      <td>NaN</td>\n",
              "      <td>Red</td>\n",
              "    </tr>\n",
              "    <tr>\n",
              "      <th>2021-02-02</th>\n",
              "      <td>88</td>\n",
              "      <td>5</td>\n",
              "      <td>64</td>\n",
              "      <td>Day</td>\n",
              "      <td>Svensk</td>\n",
              "      <td>Massive</td>\n",
              "      <td>Mjölkchoklad</td>\n",
              "      <td>single</td>\n",
              "      <td>25.750000</td>\n",
              "      <td>8</td>\n",
              "      <td>1974</td>\n",
              "      <td>55.574324</td>\n",
              "      <td>44.425676</td>\n",
              "      <td>213.648649</td>\n",
              "      <td>100.0</td>\n",
              "      <td>0.0</td>\n",
              "      <td>75.0</td>\n",
              "      <td>100.0</td>\n",
              "      <td>100.0</td>\n",
              "      <td>100.0</td>\n",
              "      <td>0.0</td>\n",
              "      <td>13527.520270</td>\n",
              "      <td>NaN</td>\n",
              "      <td>Red</td>\n",
              "    </tr>\n",
              "  </tbody>\n",
              "</table>\n",
              "</div>"
            ],
            "text/plain": [
              "            Variant  Weeknum  S_num  ...       Kr_loss Comment  Cat\n",
              "Date                                 ...                           \n",
              "2021-02-01       84        5     61  ...   3799.000000     NaN  Red\n",
              "2021-02-01       85        5     61  ...  24915.963964     NaN  Red\n",
              "2021-02-01       86        5     62  ...   2301.646396     NaN  Red\n",
              "2021-02-01       87        5     63  ...    744.293878     NaN  Red\n",
              "2021-02-02       88        5     64  ...  13527.520270     NaN  Red\n",
              "\n",
              "[5 rows x 24 columns]"
            ]
          },
          "metadata": {
            "tags": []
          },
          "execution_count": 37
        }
      ]
    },
    {
      "cell_type": "code",
      "metadata": {
        "colab": {
          "base_uri": "https://localhost:8080/"
        },
        "id": "GI3e5uA2MG8c",
        "outputId": "2ae35d80-13e4-4a43-d1b0-9cb82abda20b"
      },
      "source": [
        "#Counting values of Greens and Reds\n",
        "ft_df['Cat'].value_counts()"
      ],
      "execution_count": null,
      "outputs": [
        {
          "output_type": "execute_result",
          "data": {
            "text/plain": [
              "Red      83\n",
              "Green    55\n",
              "Name: Cat, dtype: int64"
            ]
          },
          "metadata": {
            "tags": []
          },
          "execution_count": 38
        }
      ]
    },
    {
      "cell_type": "code",
      "metadata": {
        "id": "MmgdSgXnMpLZ"
      },
      "source": [
        "#Initializing 2 lists\n",
        "a = [8, 7, 9]\n",
        "b = [61.8, 79.5, 96.2]"
      ],
      "execution_count": null,
      "outputs": []
    },
    {
      "cell_type": "code",
      "metadata": {
        "colab": {
          "base_uri": "https://localhost:8080/"
        },
        "id": "DaCXs381M4DP",
        "outputId": "3a1e6b12-1423-49c4-fb6b-d954388de392"
      },
      "source": [
        "#Example of weighted average using numpy\n",
        "np.dot(a, b)/np.sum(a)"
      ],
      "execution_count": null,
      "outputs": [
        {
          "output_type": "execute_result",
          "data": {
            "text/plain": [
              "79.8625"
            ]
          },
          "metadata": {
            "tags": []
          },
          "execution_count": 14
        }
      ]
    },
    {
      "cell_type": "code",
      "metadata": {
        "id": "NRwmTZmpEYiX"
      },
      "source": [
        "#Define a custom function to get the weighted average for several columns\n",
        "def weighted(x):\n",
        "  d = {}\n",
        "  d['Hours'] = np.sum(x['Hours'])\n",
        "  d['Molds_min'] = np.dot(x['Hours'], x['Form_min'])/np.sum(x['Hours'])\n",
        "  d['GE'] = np.dot(x['Hours'], x['GE'])/np.sum(x['Hours'])\n",
        "  d['GE_loss'] = np.dot(x['Hours'], x['GE_loss'])/np.sum(x['Hours'])\n",
        "  d['Min_loss'] = np.sum(x['Min_loss'])\n",
        "  return pd.Series(d, index=['Hours', 'Molds_min', 'GE', 'GE_loss', 'Min_loss'])"
      ],
      "execution_count": null,
      "outputs": []
    },
    {
      "cell_type": "code",
      "metadata": {
        "colab": {
          "base_uri": "https://localhost:8080/",
          "height": 106
        },
        "id": "1mBoWl-EEZkO",
        "outputId": "8cb4af2c-0f32-4f47-e06d-cc2e0c151d22"
      },
      "source": [
        "#Aggreated information for greens and reds\n",
        "green_red = ft_df.groupby(['Cat']).apply(weighted).reset_index()\n",
        "green_red = round(green_red, 2)\n",
        "green_red"
      ],
      "execution_count": null,
      "outputs": [
        {
          "output_type": "execute_result",
          "data": {
            "text/html": [
              "<div>\n",
              "<style scoped>\n",
              "    .dataframe tbody tr th:only-of-type {\n",
              "        vertical-align: middle;\n",
              "    }\n",
              "\n",
              "    .dataframe tbody tr th {\n",
              "        vertical-align: top;\n",
              "    }\n",
              "\n",
              "    .dataframe thead th {\n",
              "        text-align: right;\n",
              "    }\n",
              "</style>\n",
              "<table border=\"1\" class=\"dataframe\">\n",
              "  <thead>\n",
              "    <tr style=\"text-align: right;\">\n",
              "      <th></th>\n",
              "      <th>Cat</th>\n",
              "      <th>Hours</th>\n",
              "      <th>Molds_min</th>\n",
              "      <th>GE</th>\n",
              "      <th>GE_loss</th>\n",
              "      <th>Min_loss</th>\n",
              "    </tr>\n",
              "  </thead>\n",
              "  <tbody>\n",
              "    <tr>\n",
              "      <th>0</th>\n",
              "      <td>Green</td>\n",
              "      <td>379.0</td>\n",
              "      <td>19.40</td>\n",
              "      <td>72.32</td>\n",
              "      <td>27.68</td>\n",
              "      <td>6330.67</td>\n",
              "    </tr>\n",
              "    <tr>\n",
              "      <th>1</th>\n",
              "      <td>Red</td>\n",
              "      <td>445.0</td>\n",
              "      <td>19.18</td>\n",
              "      <td>65.25</td>\n",
              "      <td>34.75</td>\n",
              "      <td>9368.74</td>\n",
              "    </tr>\n",
              "  </tbody>\n",
              "</table>\n",
              "</div>"
            ],
            "text/plain": [
              "     Cat  Hours  Molds_min     GE  GE_loss  Min_loss\n",
              "0  Green  379.0      19.40  72.32    27.68   6330.67\n",
              "1    Red  445.0      19.18  65.25    34.75   9368.74"
            ]
          },
          "metadata": {
            "tags": []
          },
          "execution_count": 44
        }
      ]
    },
    {
      "cell_type": "code",
      "metadata": {
        "colab": {
          "base_uri": "https://localhost:8080/",
          "height": 106
        },
        "id": "nB3L18yZMTTg",
        "outputId": "7824dd62-c0ff-45ac-e295-af2829cd9a20"
      },
      "source": [
        "#Aggreated information for greens and reds\n",
        "green_red = ft_df.groupby(['Cat']).agg(Hours=('Hours', 'sum'),\n",
        "                                       Molds_min=('Form_min','mean'),\n",
        "                                       GE=('GE','mean'),\n",
        "                                       GE_loss=('GE_loss','mean'),\n",
        "                                       Min_loss=('Min_loss','sum')).reset_index()\n",
        "green_red = round(green_red, 2)\n",
        "green_red"
      ],
      "execution_count": null,
      "outputs": [
        {
          "output_type": "execute_result",
          "data": {
            "text/html": [
              "<div>\n",
              "<style scoped>\n",
              "    .dataframe tbody tr th:only-of-type {\n",
              "        vertical-align: middle;\n",
              "    }\n",
              "\n",
              "    .dataframe tbody tr th {\n",
              "        vertical-align: top;\n",
              "    }\n",
              "\n",
              "    .dataframe thead th {\n",
              "        text-align: right;\n",
              "    }\n",
              "</style>\n",
              "<table border=\"1\" class=\"dataframe\">\n",
              "  <thead>\n",
              "    <tr style=\"text-align: right;\">\n",
              "      <th></th>\n",
              "      <th>Cat</th>\n",
              "      <th>Hours</th>\n",
              "      <th>Molds_min</th>\n",
              "      <th>GE</th>\n",
              "      <th>GE_loss</th>\n",
              "      <th>Min_loss</th>\n",
              "    </tr>\n",
              "  </thead>\n",
              "  <tbody>\n",
              "    <tr>\n",
              "      <th>0</th>\n",
              "      <td>Green</td>\n",
              "      <td>379</td>\n",
              "      <td>18.43</td>\n",
              "      <td>69.59</td>\n",
              "      <td>30.41</td>\n",
              "      <td>6330.67</td>\n",
              "    </tr>\n",
              "    <tr>\n",
              "      <th>1</th>\n",
              "      <td>Red</td>\n",
              "      <td>445</td>\n",
              "      <td>19.42</td>\n",
              "      <td>63.25</td>\n",
              "      <td>36.75</td>\n",
              "      <td>9368.74</td>\n",
              "    </tr>\n",
              "  </tbody>\n",
              "</table>\n",
              "</div>"
            ],
            "text/plain": [
              "     Cat  Hours  Molds_min     GE  GE_loss  Min_loss\n",
              "0  Green    379      18.43  69.59    30.41   6330.67\n",
              "1    Red    445      19.42  63.25    36.75   9368.74"
            ]
          },
          "metadata": {
            "tags": []
          },
          "execution_count": 46
        }
      ]
    },
    {
      "cell_type": "code",
      "metadata": {
        "colab": {
          "base_uri": "https://localhost:8080/",
          "height": 462
        },
        "id": "S41tU0ZPuHgN",
        "outputId": "f02db935-6546-4f6f-eb06-dff98df1473c"
      },
      "source": [
        "#Grouping the data by product categories and aggregating to compute weighted average\n",
        "prod_groupped = ft_df.groupby(['Cat', 'Group', 'Product', 'Format']).apply(weighted).reset_index()\n",
        "prod_groupped = round(prod_groupped, 2)\n",
        "prod_groupped"
      ],
      "execution_count": null,
      "outputs": [
        {
          "output_type": "execute_result",
          "data": {
            "text/html": [
              "<div>\n",
              "<style scoped>\n",
              "    .dataframe tbody tr th:only-of-type {\n",
              "        vertical-align: middle;\n",
              "    }\n",
              "\n",
              "    .dataframe tbody tr th {\n",
              "        vertical-align: top;\n",
              "    }\n",
              "\n",
              "    .dataframe thead th {\n",
              "        text-align: right;\n",
              "    }\n",
              "</style>\n",
              "<table border=\"1\" class=\"dataframe\">\n",
              "  <thead>\n",
              "    <tr style=\"text-align: right;\">\n",
              "      <th></th>\n",
              "      <th>Cat</th>\n",
              "      <th>Group</th>\n",
              "      <th>Product</th>\n",
              "      <th>Format</th>\n",
              "      <th>Hours</th>\n",
              "      <th>Molds_min</th>\n",
              "      <th>GE</th>\n",
              "      <th>GE_loss</th>\n",
              "      <th>Min_loss</th>\n",
              "    </tr>\n",
              "  </thead>\n",
              "  <tbody>\n",
              "    <tr>\n",
              "      <th>0</th>\n",
              "      <td>Green</td>\n",
              "      <td>Fylte</td>\n",
              "      <td>Smil</td>\n",
              "      <td>2pk</td>\n",
              "      <td>22.0</td>\n",
              "      <td>6.95</td>\n",
              "      <td>52.49</td>\n",
              "      <td>47.51</td>\n",
              "      <td>627.11</td>\n",
              "    </tr>\n",
              "    <tr>\n",
              "      <th>1</th>\n",
              "      <td>Green</td>\n",
              "      <td>Fylte</td>\n",
              "      <td>Smil</td>\n",
              "      <td>single</td>\n",
              "      <td>124.0</td>\n",
              "      <td>13.82</td>\n",
              "      <td>66.16</td>\n",
              "      <td>33.84</td>\n",
              "      <td>2518.97</td>\n",
              "    </tr>\n",
              "    <tr>\n",
              "      <th>2</th>\n",
              "      <td>Green</td>\n",
              "      <td>Ingredienser</td>\n",
              "      <td>Krokanrull</td>\n",
              "      <td>single</td>\n",
              "      <td>49.0</td>\n",
              "      <td>22.24</td>\n",
              "      <td>69.09</td>\n",
              "      <td>30.91</td>\n",
              "      <td>923.46</td>\n",
              "    </tr>\n",
              "    <tr>\n",
              "      <th>3</th>\n",
              "      <td>Green</td>\n",
              "      <td>Massive</td>\n",
              "      <td>Melkerull</td>\n",
              "      <td>single</td>\n",
              "      <td>184.0</td>\n",
              "      <td>23.88</td>\n",
              "      <td>79.70</td>\n",
              "      <td>20.30</td>\n",
              "      <td>2261.13</td>\n",
              "    </tr>\n",
              "    <tr>\n",
              "      <th>4</th>\n",
              "      <td>Red</td>\n",
              "      <td>Fylte</td>\n",
              "      <td>Mintchoko</td>\n",
              "      <td>single</td>\n",
              "      <td>58.0</td>\n",
              "      <td>10.12</td>\n",
              "      <td>51.84</td>\n",
              "      <td>48.16</td>\n",
              "      <td>1675.85</td>\n",
              "    </tr>\n",
              "    <tr>\n",
              "      <th>5</th>\n",
              "      <td>Red</td>\n",
              "      <td>Ingredienser</td>\n",
              "      <td>Daim_roll</td>\n",
              "      <td>2pk</td>\n",
              "      <td>104.0</td>\n",
              "      <td>19.79</td>\n",
              "      <td>68.91</td>\n",
              "      <td>31.09</td>\n",
              "      <td>1945.11</td>\n",
              "    </tr>\n",
              "    <tr>\n",
              "      <th>6</th>\n",
              "      <td>Red</td>\n",
              "      <td>Ingredienser</td>\n",
              "      <td>Daim_roll</td>\n",
              "      <td>single</td>\n",
              "      <td>36.0</td>\n",
              "      <td>23.03</td>\n",
              "      <td>60.32</td>\n",
              "      <td>39.68</td>\n",
              "      <td>871.64</td>\n",
              "    </tr>\n",
              "    <tr>\n",
              "      <th>7</th>\n",
              "      <td>Red</td>\n",
              "      <td>Ingredienser</td>\n",
              "      <td>Oreo</td>\n",
              "      <td>single</td>\n",
              "      <td>8.0</td>\n",
              "      <td>20.39</td>\n",
              "      <td>70.61</td>\n",
              "      <td>29.39</td>\n",
              "      <td>141.06</td>\n",
              "    </tr>\n",
              "    <tr>\n",
              "      <th>8</th>\n",
              "      <td>Red</td>\n",
              "      <td>Ingredienser</td>\n",
              "      <td>Schweitsernøtt</td>\n",
              "      <td>single</td>\n",
              "      <td>15.0</td>\n",
              "      <td>22.12</td>\n",
              "      <td>71.81</td>\n",
              "      <td>28.19</td>\n",
              "      <td>258.56</td>\n",
              "    </tr>\n",
              "    <tr>\n",
              "      <th>9</th>\n",
              "      <td>Red</td>\n",
              "      <td>Løsvekt</td>\n",
              "      <td>Melkerull_10kg</td>\n",
              "      <td>10kg</td>\n",
              "      <td>3.0</td>\n",
              "      <td>20.20</td>\n",
              "      <td>55.00</td>\n",
              "      <td>45.00</td>\n",
              "      <td>81.00</td>\n",
              "    </tr>\n",
              "    <tr>\n",
              "      <th>10</th>\n",
              "      <td>Red</td>\n",
              "      <td>Løsvekt</td>\n",
              "      <td>Smil_10kg</td>\n",
              "      <td>10kg</td>\n",
              "      <td>10.0</td>\n",
              "      <td>8.40</td>\n",
              "      <td>28.83</td>\n",
              "      <td>71.17</td>\n",
              "      <td>427.00</td>\n",
              "    </tr>\n",
              "    <tr>\n",
              "      <th>11</th>\n",
              "      <td>Red</td>\n",
              "      <td>Massive</td>\n",
              "      <td>Melkerull_10kg</td>\n",
              "      <td>10kg</td>\n",
              "      <td>2.0</td>\n",
              "      <td>24.90</td>\n",
              "      <td>68.33</td>\n",
              "      <td>31.67</td>\n",
              "      <td>38.00</td>\n",
              "    </tr>\n",
              "    <tr>\n",
              "      <th>12</th>\n",
              "      <td>Red</td>\n",
              "      <td>Massive</td>\n",
              "      <td>Milkroll</td>\n",
              "      <td>2pk</td>\n",
              "      <td>114.0</td>\n",
              "      <td>17.23</td>\n",
              "      <td>63.17</td>\n",
              "      <td>36.83</td>\n",
              "      <td>2524.99</td>\n",
              "    </tr>\n",
              "    <tr>\n",
              "      <th>13</th>\n",
              "      <td>Red</td>\n",
              "      <td>Massive</td>\n",
              "      <td>Mjölkchoklad</td>\n",
              "      <td>single</td>\n",
              "      <td>95.0</td>\n",
              "      <td>25.34</td>\n",
              "      <td>76.42</td>\n",
              "      <td>23.58</td>\n",
              "      <td>1405.54</td>\n",
              "    </tr>\n",
              "  </tbody>\n",
              "</table>\n",
              "</div>"
            ],
            "text/plain": [
              "      Cat         Group         Product  ...     GE  GE_loss  Min_loss\n",
              "0   Green         Fylte            Smil  ...  52.49    47.51    627.11\n",
              "1   Green         Fylte            Smil  ...  66.16    33.84   2518.97\n",
              "2   Green  Ingredienser      Krokanrull  ...  69.09    30.91    923.46\n",
              "3   Green       Massive       Melkerull  ...  79.70    20.30   2261.13\n",
              "4     Red         Fylte       Mintchoko  ...  51.84    48.16   1675.85\n",
              "5     Red  Ingredienser       Daim_roll  ...  68.91    31.09   1945.11\n",
              "6     Red  Ingredienser       Daim_roll  ...  60.32    39.68    871.64\n",
              "7     Red  Ingredienser            Oreo  ...  70.61    29.39    141.06\n",
              "8     Red  Ingredienser  Schweitsernøtt  ...  71.81    28.19    258.56\n",
              "9     Red       Løsvekt  Melkerull_10kg  ...  55.00    45.00     81.00\n",
              "10    Red       Løsvekt       Smil_10kg  ...  28.83    71.17    427.00\n",
              "11    Red       Massive  Melkerull_10kg  ...  68.33    31.67     38.00\n",
              "12    Red       Massive        Milkroll  ...  63.17    36.83   2524.99\n",
              "13    Red       Massive    Mjölkchoklad  ...  76.42    23.58   1405.54\n",
              "\n",
              "[14 rows x 9 columns]"
            ]
          },
          "metadata": {
            "tags": []
          },
          "execution_count": 47
        }
      ]
    },
    {
      "cell_type": "code",
      "metadata": {
        "id": "nMgYEmpuBXxQ"
      },
      "source": [
        "#Define a custom function to compute the weighted average between 2 arrays\n",
        "def w_average(array1, array2):\n",
        "  \"\"\"Function used to compute the weighted average between two arrays\n",
        "    array1 is the dividend and array2 is the divisor\"\"\"\n",
        "  return (np.dot(array1, array2)/np.sum(array2))"
      ],
      "execution_count": null,
      "outputs": []
    },
    {
      "cell_type": "code",
      "metadata": {
        "id": "yIB1LUtFr-fj"
      },
      "source": [
        "#Select streams to check weighted average\n",
        "greens = np.array(prod_groupped[prod_groupped['Cat']=='Green']['GE'])\n",
        "greens_hr = np.array(prod_groupped[prod_groupped['Cat']=='Green']['Hours'])"
      ],
      "execution_count": null,
      "outputs": []
    },
    {
      "cell_type": "code",
      "metadata": {
        "colab": {
          "base_uri": "https://localhost:8080/"
        },
        "id": "ZaNO5Rs3CL13",
        "outputId": "090330bc-ccef-4c20-d914-6e7de88bb7ba"
      },
      "source": [
        "w_average(greens, greens_hr)"
      ],
      "execution_count": null,
      "outputs": [
        {
          "output_type": "execute_result",
          "data": {
            "text/plain": [
              "72.31881266490765"
            ]
          },
          "metadata": {
            "tags": []
          },
          "execution_count": 35
        }
      ]
    },
    {
      "cell_type": "markdown",
      "metadata": {
        "id": "r1dOMy1WbIUe"
      },
      "source": [
        "#Create time series template"
      ]
    },
    {
      "cell_type": "code",
      "metadata": {
        "id": "TfVaAgWCbOcO"
      },
      "source": [
        "#Creating a dataframe with time series for each hour, and computing categorical values for year, week number and weekday\n",
        "ts = pd.DataFrame()\n",
        "ts = ts.assign(Event = pd.date_range(start='2021-04-20', end='2021-05-10', freq='1H', name='Event'))\n",
        "ts = ts.assign(#Year = ts['Event'].dt.isocalendar().year,\n",
        "#               Month = ts['Event'].dt.month_name(),\n",
        "#               Weeknum = ts['Event'].dt.isocalendar().week,\n",
        "               Weekday = ts['Event'].dt.day_name())"
      ],
      "execution_count": null,
      "outputs": []
    },
    {
      "cell_type": "code",
      "metadata": {
        "colab": {
          "base_uri": "https://localhost:8080/",
          "height": 195
        },
        "id": "pVeb_e0bcn1x",
        "outputId": "ed64de0a-d6f7-41b9-e822-e44787ca28ae"
      },
      "source": [
        "ts.tail()"
      ],
      "execution_count": null,
      "outputs": [
        {
          "output_type": "execute_result",
          "data": {
            "text/html": [
              "<div>\n",
              "<style scoped>\n",
              "    .dataframe tbody tr th:only-of-type {\n",
              "        vertical-align: middle;\n",
              "    }\n",
              "\n",
              "    .dataframe tbody tr th {\n",
              "        vertical-align: top;\n",
              "    }\n",
              "\n",
              "    .dataframe thead th {\n",
              "        text-align: right;\n",
              "    }\n",
              "</style>\n",
              "<table border=\"1\" class=\"dataframe\">\n",
              "  <thead>\n",
              "    <tr style=\"text-align: right;\">\n",
              "      <th></th>\n",
              "      <th>Event</th>\n",
              "      <th>Weekday</th>\n",
              "    </tr>\n",
              "  </thead>\n",
              "  <tbody>\n",
              "    <tr>\n",
              "      <th>476</th>\n",
              "      <td>2021-05-09 20:00:00</td>\n",
              "      <td>Sunday</td>\n",
              "    </tr>\n",
              "    <tr>\n",
              "      <th>477</th>\n",
              "      <td>2021-05-09 21:00:00</td>\n",
              "      <td>Sunday</td>\n",
              "    </tr>\n",
              "    <tr>\n",
              "      <th>478</th>\n",
              "      <td>2021-05-09 22:00:00</td>\n",
              "      <td>Sunday</td>\n",
              "    </tr>\n",
              "    <tr>\n",
              "      <th>479</th>\n",
              "      <td>2021-05-09 23:00:00</td>\n",
              "      <td>Sunday</td>\n",
              "    </tr>\n",
              "    <tr>\n",
              "      <th>480</th>\n",
              "      <td>2021-05-10 00:00:00</td>\n",
              "      <td>Monday</td>\n",
              "    </tr>\n",
              "  </tbody>\n",
              "</table>\n",
              "</div>"
            ],
            "text/plain": [
              "                  Event Weekday\n",
              "476 2021-05-09 20:00:00  Sunday\n",
              "477 2021-05-09 21:00:00  Sunday\n",
              "478 2021-05-09 22:00:00  Sunday\n",
              "479 2021-05-09 23:00:00  Sunday\n",
              "480 2021-05-10 00:00:00  Monday"
            ]
          },
          "metadata": {
            "tags": []
          },
          "execution_count": 10
        }
      ]
    },
    {
      "cell_type": "code",
      "metadata": {
        "colab": {
          "base_uri": "https://localhost:8080/"
        },
        "id": "JtacNUOrcpoG",
        "outputId": "5829bd01-5058-4026-8b68-df335a40a669"
      },
      "source": [
        "ts.info()"
      ],
      "execution_count": null,
      "outputs": [
        {
          "output_type": "stream",
          "text": [
            "<class 'pandas.core.frame.DataFrame'>\n",
            "RangeIndex: 17521 entries, 0 to 17520\n",
            "Data columns (total 5 columns):\n",
            " #   Column   Non-Null Count  Dtype         \n",
            "---  ------   --------------  -----         \n",
            " 0   Event    17521 non-null  datetime64[ns]\n",
            " 1   Year     17521 non-null  UInt32        \n",
            " 2   Month    17521 non-null  object        \n",
            " 3   Weeknum  17521 non-null  UInt32        \n",
            " 4   Weeday   17521 non-null  object        \n",
            "dtypes: UInt32(2), datetime64[ns](1), object(2)\n",
            "memory usage: 581.9+ KB\n"
          ],
          "name": "stdout"
        }
      ]
    },
    {
      "cell_type": "code",
      "metadata": {
        "colab": {
          "base_uri": "https://localhost:8080/",
          "height": 17
        },
        "id": "heLMWDlpc4HX",
        "outputId": "75420764-0c89-421c-ec34-e184cbe0c2e1"
      },
      "source": [
        "from google.colab import files\n",
        "ts.to_excel('production_template.xlsx', index=False) #==> Excluding index from file\n",
        "files.download('production_template.xlsx')"
      ],
      "execution_count": null,
      "outputs": [
        {
          "output_type": "display_data",
          "data": {
            "application/javascript": [
              "\n",
              "    async function download(id, filename, size) {\n",
              "      if (!google.colab.kernel.accessAllowed) {\n",
              "        return;\n",
              "      }\n",
              "      const div = document.createElement('div');\n",
              "      const label = document.createElement('label');\n",
              "      label.textContent = `Downloading \"${filename}\": `;\n",
              "      div.appendChild(label);\n",
              "      const progress = document.createElement('progress');\n",
              "      progress.max = size;\n",
              "      div.appendChild(progress);\n",
              "      document.body.appendChild(div);\n",
              "\n",
              "      const buffers = [];\n",
              "      let downloaded = 0;\n",
              "\n",
              "      const channel = await google.colab.kernel.comms.open(id);\n",
              "      // Send a message to notify the kernel that we're ready.\n",
              "      channel.send({})\n",
              "\n",
              "      for await (const message of channel.messages) {\n",
              "        // Send a message to notify the kernel that we're ready.\n",
              "        channel.send({})\n",
              "        if (message.buffers) {\n",
              "          for (const buffer of message.buffers) {\n",
              "            buffers.push(buffer);\n",
              "            downloaded += buffer.byteLength;\n",
              "            progress.value = downloaded;\n",
              "          }\n",
              "        }\n",
              "      }\n",
              "      const blob = new Blob(buffers, {type: 'application/binary'});\n",
              "      const a = document.createElement('a');\n",
              "      a.href = window.URL.createObjectURL(blob);\n",
              "      a.download = filename;\n",
              "      div.appendChild(a);\n",
              "      a.click();\n",
              "      div.remove();\n",
              "    }\n",
              "  "
            ],
            "text/plain": [
              "<IPython.core.display.Javascript object>"
            ]
          },
          "metadata": {
            "tags": []
          }
        },
        {
          "output_type": "display_data",
          "data": {
            "application/javascript": [
              "download(\"download_3ece7358-cc47-4f37-b70a-5bff41a601a6\", \"production_template.xlsx\", 10768)"
            ],
            "text/plain": [
              "<IPython.core.display.Javascript object>"
            ]
          },
          "metadata": {
            "tags": []
          }
        }
      ]
    },
    {
      "cell_type": "markdown",
      "metadata": {
        "id": "pkukrfVR-H_z"
      },
      "source": [
        "#Changeovers"
      ]
    },
    {
      "cell_type": "markdown",
      "metadata": {
        "id": "rGRx8r7V95Xe"
      },
      "source": [
        "##Data slicing and preparation"
      ]
    },
    {
      "cell_type": "code",
      "metadata": {
        "id": "Z54xNeJDc8rx",
        "colab": {
          "base_uri": "https://localhost:8080/",
          "height": 223
        },
        "outputId": "df5c1a51-9525-4f8d-e124-26bf7c48151a"
      },
      "source": [
        "#Filtering the dataframe to exclude Non operating time and no shift\n",
        "df3 = df.copy()\n",
        "df3 = df3[~df3['State'].isin(['2_Legal_NOT', '3_No_Shift'])]\n",
        "df3 = df3.drop(columns = ['FTE_loss', 'Form_min', 'A1764', 'PK2219', 'PK2845','PK4553', 'Schubert', 'K6316', 'TP6839'], axis = 1)\n",
        "df3.head(2)"
      ],
      "execution_count": null,
      "outputs": [
        {
          "output_type": "execute_result",
          "data": {
            "text/html": [
              "<div>\n",
              "<style scoped>\n",
              "    .dataframe tbody tr th:only-of-type {\n",
              "        vertical-align: middle;\n",
              "    }\n",
              "\n",
              "    .dataframe tbody tr th {\n",
              "        vertical-align: top;\n",
              "    }\n",
              "\n",
              "    .dataframe thead th {\n",
              "        text-align: right;\n",
              "    }\n",
              "</style>\n",
              "<table border=\"1\" class=\"dataframe\">\n",
              "  <thead>\n",
              "    <tr style=\"text-align: right;\">\n",
              "      <th></th>\n",
              "      <th>Date</th>\n",
              "      <th>Hours</th>\n",
              "      <th>Weeknum</th>\n",
              "      <th>Weekday</th>\n",
              "      <th>Shift</th>\n",
              "      <th>S_num</th>\n",
              "      <th>State</th>\n",
              "      <th>T_loss</th>\n",
              "      <th>Mass</th>\n",
              "      <th>Group</th>\n",
              "      <th>Product</th>\n",
              "      <th>Format</th>\n",
              "      <th>Team</th>\n",
              "      <th>XO_num</th>\n",
              "      <th>XO_cat</th>\n",
              "      <th>XO_type</th>\n",
              "      <th>Boxes</th>\n",
              "      <th>GE</th>\n",
              "      <th>GE_loss</th>\n",
              "      <th>Min_loss</th>\n",
              "      <th>Comment</th>\n",
              "    </tr>\n",
              "    <tr>\n",
              "      <th>Event</th>\n",
              "      <th></th>\n",
              "      <th></th>\n",
              "      <th></th>\n",
              "      <th></th>\n",
              "      <th></th>\n",
              "      <th></th>\n",
              "      <th></th>\n",
              "      <th></th>\n",
              "      <th></th>\n",
              "      <th></th>\n",
              "      <th></th>\n",
              "      <th></th>\n",
              "      <th></th>\n",
              "      <th></th>\n",
              "      <th></th>\n",
              "      <th></th>\n",
              "      <th></th>\n",
              "      <th></th>\n",
              "      <th></th>\n",
              "      <th></th>\n",
              "      <th></th>\n",
              "    </tr>\n",
              "  </thead>\n",
              "  <tbody>\n",
              "    <tr>\n",
              "      <th>2021-01-04 07:00:00</th>\n",
              "      <td>2021-01-04</td>\n",
              "      <td>07:00:00</td>\n",
              "      <td>1</td>\n",
              "      <td>Monday</td>\n",
              "      <td>Day</td>\n",
              "      <td>1.0</td>\n",
              "      <td>18_Op_Losses</td>\n",
              "      <td>Unplanned</td>\n",
              "      <td>Norsk</td>\n",
              "      <td>Løsvekt</td>\n",
              "      <td>Melkerull_10kg</td>\n",
              "      <td>10kg</td>\n",
              "      <td>Mfen</td>\n",
              "      <td>NaN</td>\n",
              "      <td>NaN</td>\n",
              "      <td>NaN</td>\n",
              "      <td>0.0</td>\n",
              "      <td>0.0</td>\n",
              "      <td>100.0</td>\n",
              "      <td>60.0</td>\n",
              "      <td>Crash in knockers area</td>\n",
              "    </tr>\n",
              "    <tr>\n",
              "      <th>2021-01-04 08:00:00</th>\n",
              "      <td>2021-01-04</td>\n",
              "      <td>08:00:00</td>\n",
              "      <td>1</td>\n",
              "      <td>Monday</td>\n",
              "      <td>Day</td>\n",
              "      <td>1.0</td>\n",
              "      <td>18_Op_Losses</td>\n",
              "      <td>Unplanned</td>\n",
              "      <td>Norsk</td>\n",
              "      <td>Løsvekt</td>\n",
              "      <td>Melkerull_10kg</td>\n",
              "      <td>10kg</td>\n",
              "      <td>Mfen</td>\n",
              "      <td>NaN</td>\n",
              "      <td>NaN</td>\n",
              "      <td>NaN</td>\n",
              "      <td>0.0</td>\n",
              "      <td>0.0</td>\n",
              "      <td>100.0</td>\n",
              "      <td>60.0</td>\n",
              "      <td>Crash in knockers area</td>\n",
              "    </tr>\n",
              "  </tbody>\n",
              "</table>\n",
              "</div>"
            ],
            "text/plain": [
              "                          Date     Hours  ...  Min_loss                 Comment\n",
              "Event                                     ...                                  \n",
              "2021-01-04 07:00:00 2021-01-04  07:00:00  ...      60.0  Crash in knockers area\n",
              "2021-01-04 08:00:00 2021-01-04  08:00:00  ...      60.0  Crash in knockers area\n",
              "\n",
              "[2 rows x 21 columns]"
            ]
          },
          "metadata": {
            "tags": []
          },
          "execution_count": 9
        }
      ]
    },
    {
      "cell_type": "code",
      "metadata": {
        "colab": {
          "base_uri": "https://localhost:8080/",
          "height": 203
        },
        "id": "7RX3zhXkd7q7",
        "outputId": "b96c165d-50ff-456e-99a2-efe8736d2d1f"
      },
      "source": [
        "#Filtering the dataframe to select only changeover activities\n",
        "df_xo = df3[df3['State'].isin(['9_Changeover'])].copy()\n",
        "df_xo.tail(2)"
      ],
      "execution_count": null,
      "outputs": [
        {
          "output_type": "execute_result",
          "data": {
            "text/html": [
              "<div>\n",
              "<style scoped>\n",
              "    .dataframe tbody tr th:only-of-type {\n",
              "        vertical-align: middle;\n",
              "    }\n",
              "\n",
              "    .dataframe tbody tr th {\n",
              "        vertical-align: top;\n",
              "    }\n",
              "\n",
              "    .dataframe thead th {\n",
              "        text-align: right;\n",
              "    }\n",
              "</style>\n",
              "<table border=\"1\" class=\"dataframe\">\n",
              "  <thead>\n",
              "    <tr style=\"text-align: right;\">\n",
              "      <th></th>\n",
              "      <th>Date</th>\n",
              "      <th>Hours</th>\n",
              "      <th>Weeknum</th>\n",
              "      <th>Weekday</th>\n",
              "      <th>Shift</th>\n",
              "      <th>S_num</th>\n",
              "      <th>State</th>\n",
              "      <th>T_loss</th>\n",
              "      <th>Mass</th>\n",
              "      <th>Group</th>\n",
              "      <th>Product</th>\n",
              "      <th>Format</th>\n",
              "      <th>Team</th>\n",
              "      <th>XO_num</th>\n",
              "      <th>XO_cat</th>\n",
              "      <th>XO_type</th>\n",
              "      <th>Boxes</th>\n",
              "      <th>GE</th>\n",
              "      <th>GE_loss</th>\n",
              "      <th>Min_loss</th>\n",
              "      <th>Comment</th>\n",
              "    </tr>\n",
              "    <tr>\n",
              "      <th>Event</th>\n",
              "      <th></th>\n",
              "      <th></th>\n",
              "      <th></th>\n",
              "      <th></th>\n",
              "      <th></th>\n",
              "      <th></th>\n",
              "      <th></th>\n",
              "      <th></th>\n",
              "      <th></th>\n",
              "      <th></th>\n",
              "      <th></th>\n",
              "      <th></th>\n",
              "      <th></th>\n",
              "      <th></th>\n",
              "      <th></th>\n",
              "      <th></th>\n",
              "      <th></th>\n",
              "      <th></th>\n",
              "      <th></th>\n",
              "      <th></th>\n",
              "      <th></th>\n",
              "    </tr>\n",
              "  </thead>\n",
              "  <tbody>\n",
              "    <tr>\n",
              "      <th>2021-05-06 12:00:00</th>\n",
              "      <td>2021-05-06</td>\n",
              "      <td>12:00:00</td>\n",
              "      <td>18</td>\n",
              "      <td>Thursday</td>\n",
              "      <td>Day</td>\n",
              "      <td>234.0</td>\n",
              "      <td>9_Changeover</td>\n",
              "      <td>Planned</td>\n",
              "      <td>Norsk</td>\n",
              "      <td>Fylte</td>\n",
              "      <td>Smil</td>\n",
              "      <td>single</td>\n",
              "      <td>Tles</td>\n",
              "      <td>92.0</td>\n",
              "      <td>parallell</td>\n",
              "      <td>sing_sing</td>\n",
              "      <td>0.0</td>\n",
              "      <td>0.0</td>\n",
              "      <td>100.0</td>\n",
              "      <td>60.0</td>\n",
              "      <td>NaN</td>\n",
              "    </tr>\n",
              "    <tr>\n",
              "      <th>2021-05-06 15:00:00</th>\n",
              "      <td>2021-05-06</td>\n",
              "      <td>15:00:00</td>\n",
              "      <td>18</td>\n",
              "      <td>Thursday</td>\n",
              "      <td>Day</td>\n",
              "      <td>234.0</td>\n",
              "      <td>9_Changeover</td>\n",
              "      <td>Planned</td>\n",
              "      <td>Norsk</td>\n",
              "      <td>Fylte</td>\n",
              "      <td>Mintchoko</td>\n",
              "      <td>single</td>\n",
              "      <td>Tles</td>\n",
              "      <td>92.0</td>\n",
              "      <td>parallell</td>\n",
              "      <td>sing_sing</td>\n",
              "      <td>0.0</td>\n",
              "      <td>0.0</td>\n",
              "      <td>100.0</td>\n",
              "      <td>60.0</td>\n",
              "      <td>NaN</td>\n",
              "    </tr>\n",
              "  </tbody>\n",
              "</table>\n",
              "</div>"
            ],
            "text/plain": [
              "                          Date     Hours  Weeknum  ... GE_loss Min_loss  Comment\n",
              "Event                                              ...                          \n",
              "2021-05-06 12:00:00 2021-05-06  12:00:00       18  ...   100.0     60.0      NaN\n",
              "2021-05-06 15:00:00 2021-05-06  15:00:00       18  ...   100.0     60.0      NaN\n",
              "\n",
              "[2 rows x 21 columns]"
            ]
          },
          "metadata": {
            "tags": []
          },
          "execution_count": 10
        }
      ]
    },
    {
      "cell_type": "code",
      "metadata": {
        "colab": {
          "base_uri": "https://localhost:8080/"
        },
        "id": "WeaRNuIUgjgH",
        "outputId": "dde345b1-8c60-4a38-ab4a-1275751edd3e"
      },
      "source": [
        "#Filtering the dataframe to match the desired time slice\n",
        "s = '2021-05-04 08:00:00'\n",
        "f = '2021-05-07 07:00:00'\n",
        "c_over = df_xo[s : f].copy()\n",
        "c_over.reset_index(inplace = True)\n",
        "c_over['Event'].iloc[-1]"
      ],
      "execution_count": null,
      "outputs": [
        {
          "output_type": "execute_result",
          "data": {
            "text/plain": [
              "Timestamp('2021-05-06 15:00:00')"
            ]
          },
          "metadata": {
            "tags": []
          },
          "execution_count": 13
        }
      ]
    },
    {
      "cell_type": "code",
      "metadata": {
        "colab": {
          "base_uri": "https://localhost:8080/"
        },
        "id": "quxb6UYheYjh",
        "outputId": "bc202649-e10e-4693-ace6-bd9002189908"
      },
      "source": [
        "#Checking the dataframe information\n",
        "c_over.info()"
      ],
      "execution_count": null,
      "outputs": [
        {
          "output_type": "stream",
          "text": [
            "<class 'pandas.core.frame.DataFrame'>\n",
            "RangeIndex: 8 entries, 0 to 7\n",
            "Data columns (total 22 columns):\n",
            " #   Column    Non-Null Count  Dtype         \n",
            "---  ------    --------------  -----         \n",
            " 0   Event     8 non-null      datetime64[ns]\n",
            " 1   Date      8 non-null      datetime64[ns]\n",
            " 2   Hours     8 non-null      object        \n",
            " 3   Weeknum   8 non-null      int64         \n",
            " 4   Weekday   8 non-null      object        \n",
            " 5   Shift     8 non-null      object        \n",
            " 6   S_num     8 non-null      float64       \n",
            " 7   State     8 non-null      object        \n",
            " 8   T_loss    8 non-null      object        \n",
            " 9   Mass      8 non-null      object        \n",
            " 10  Group     8 non-null      object        \n",
            " 11  Product   8 non-null      object        \n",
            " 12  Format    8 non-null      object        \n",
            " 13  Team      8 non-null      object        \n",
            " 14  XO_num    8 non-null      float64       \n",
            " 15  XO_cat    8 non-null      object        \n",
            " 16  XO_type   8 non-null      object        \n",
            " 17  Boxes     8 non-null      float64       \n",
            " 18  GE        8 non-null      float64       \n",
            " 19  GE_loss   8 non-null      float64       \n",
            " 20  Min_loss  8 non-null      float64       \n",
            " 21  Comment   0 non-null      object        \n",
            "dtypes: datetime64[ns](2), float64(6), int64(1), object(13)\n",
            "memory usage: 1.5+ KB\n"
          ],
          "name": "stdout"
        }
      ]
    },
    {
      "cell_type": "code",
      "metadata": {
        "colab": {
          "base_uri": "https://localhost:8080/",
          "height": 17
        },
        "id": "AYWOGCsZemJ_",
        "outputId": "44b56197-9cea-4bac-a8f6-8d2c4768734a"
      },
      "source": [
        "#Exporting to excel into local disk\n",
        "from google.colab import files\n",
        "c_over.to_excel('z_xo_slice.xlsx', index=False) #==> Excluding index from file\n",
        "files.download('z_xo_slice.xlsx')"
      ],
      "execution_count": null,
      "outputs": [
        {
          "output_type": "display_data",
          "data": {
            "application/javascript": [
              "\n",
              "    async function download(id, filename, size) {\n",
              "      if (!google.colab.kernel.accessAllowed) {\n",
              "        return;\n",
              "      }\n",
              "      const div = document.createElement('div');\n",
              "      const label = document.createElement('label');\n",
              "      label.textContent = `Downloading \"${filename}\": `;\n",
              "      div.appendChild(label);\n",
              "      const progress = document.createElement('progress');\n",
              "      progress.max = size;\n",
              "      div.appendChild(progress);\n",
              "      document.body.appendChild(div);\n",
              "\n",
              "      const buffers = [];\n",
              "      let downloaded = 0;\n",
              "\n",
              "      const channel = await google.colab.kernel.comms.open(id);\n",
              "      // Send a message to notify the kernel that we're ready.\n",
              "      channel.send({})\n",
              "\n",
              "      for await (const message of channel.messages) {\n",
              "        // Send a message to notify the kernel that we're ready.\n",
              "        channel.send({})\n",
              "        if (message.buffers) {\n",
              "          for (const buffer of message.buffers) {\n",
              "            buffers.push(buffer);\n",
              "            downloaded += buffer.byteLength;\n",
              "            progress.value = downloaded;\n",
              "          }\n",
              "        }\n",
              "      }\n",
              "      const blob = new Blob(buffers, {type: 'application/binary'});\n",
              "      const a = document.createElement('a');\n",
              "      a.href = window.URL.createObjectURL(blob);\n",
              "      a.download = filename;\n",
              "      div.appendChild(a);\n",
              "      a.click();\n",
              "      div.remove();\n",
              "    }\n",
              "  "
            ],
            "text/plain": [
              "<IPython.core.display.Javascript object>"
            ]
          },
          "metadata": {
            "tags": []
          }
        },
        {
          "output_type": "display_data",
          "data": {
            "application/javascript": [
              "download(\"download_63299f5f-4fff-4ecc-a8f9-371c279ff3dd\", \"z_xo_slice.xlsx\", 6125)"
            ],
            "text/plain": [
              "<IPython.core.display.Javascript object>"
            ]
          },
          "metadata": {
            "tags": []
          }
        }
      ]
    },
    {
      "cell_type": "markdown",
      "metadata": {
        "id": "iWWJ59TroajD"
      },
      "source": [
        "## Changeover EDA"
      ]
    },
    {
      "cell_type": "code",
      "metadata": {
        "colab": {
          "resources": {
            "http://localhost:8080/nbextensions/google.colab/files.js": {
              "data": "Ly8gQ29weXJpZ2h0IDIwMTcgR29vZ2xlIExMQwovLwovLyBMaWNlbnNlZCB1bmRlciB0aGUgQXBhY2hlIExpY2Vuc2UsIFZlcnNpb24gMi4wICh0aGUgIkxpY2Vuc2UiKTsKLy8geW91IG1heSBub3QgdXNlIHRoaXMgZmlsZSBleGNlcHQgaW4gY29tcGxpYW5jZSB3aXRoIHRoZSBMaWNlbnNlLgovLyBZb3UgbWF5IG9idGFpbiBhIGNvcHkgb2YgdGhlIExpY2Vuc2UgYXQKLy8KLy8gICAgICBodHRwOi8vd3d3LmFwYWNoZS5vcmcvbGljZW5zZXMvTElDRU5TRS0yLjAKLy8KLy8gVW5sZXNzIHJlcXVpcmVkIGJ5IGFwcGxpY2FibGUgbGF3IG9yIGFncmVlZCB0byBpbiB3cml0aW5nLCBzb2Z0d2FyZQovLyBkaXN0cmlidXRlZCB1bmRlciB0aGUgTGljZW5zZSBpcyBkaXN0cmlidXRlZCBvbiBhbiAiQVMgSVMiIEJBU0lTLAovLyBXSVRIT1VUIFdBUlJBTlRJRVMgT1IgQ09ORElUSU9OUyBPRiBBTlkgS0lORCwgZWl0aGVyIGV4cHJlc3Mgb3IgaW1wbGllZC4KLy8gU2VlIHRoZSBMaWNlbnNlIGZvciB0aGUgc3BlY2lmaWMgbGFuZ3VhZ2UgZ292ZXJuaW5nIHBlcm1pc3Npb25zIGFuZAovLyBsaW1pdGF0aW9ucyB1bmRlciB0aGUgTGljZW5zZS4KCi8qKgogKiBAZmlsZW92ZXJ2aWV3IEhlbHBlcnMgZm9yIGdvb2dsZS5jb2xhYiBQeXRob24gbW9kdWxlLgogKi8KKGZ1bmN0aW9uKHNjb3BlKSB7CmZ1bmN0aW9uIHNwYW4odGV4dCwgc3R5bGVBdHRyaWJ1dGVzID0ge30pIHsKICBjb25zdCBlbGVtZW50ID0gZG9jdW1lbnQuY3JlYXRlRWxlbWVudCgnc3BhbicpOwogIGVsZW1lbnQudGV4dENvbnRlbnQgPSB0ZXh0OwogIGZvciAoY29uc3Qga2V5IG9mIE9iamVjdC5rZXlzKHN0eWxlQXR0cmlidXRlcykpIHsKICAgIGVsZW1lbnQuc3R5bGVba2V5XSA9IHN0eWxlQXR0cmlidXRlc1trZXldOwogIH0KICByZXR1cm4gZWxlbWVudDsKfQoKLy8gTWF4IG51bWJlciBvZiBieXRlcyB3aGljaCB3aWxsIGJlIHVwbG9hZGVkIGF0IGEgdGltZS4KY29uc3QgTUFYX1BBWUxPQURfU0laRSA9IDEwMCAqIDEwMjQ7CgpmdW5jdGlvbiBfdXBsb2FkRmlsZXMoaW5wdXRJZCwgb3V0cHV0SWQpIHsKICBjb25zdCBzdGVwcyA9IHVwbG9hZEZpbGVzU3RlcChpbnB1dElkLCBvdXRwdXRJZCk7CiAgY29uc3Qgb3V0cHV0RWxlbWVudCA9IGRvY3VtZW50LmdldEVsZW1lbnRCeUlkKG91dHB1dElkKTsKICAvLyBDYWNoZSBzdGVwcyBvbiB0aGUgb3V0cHV0RWxlbWVudCB0byBtYWtlIGl0IGF2YWlsYWJsZSBmb3IgdGhlIG5leHQgY2FsbAogIC8vIHRvIHVwbG9hZEZpbGVzQ29udGludWUgZnJvbSBQeXRob24uCiAgb3V0cHV0RWxlbWVudC5zdGVwcyA9IHN0ZXBzOwoKICByZXR1cm4gX3VwbG9hZEZpbGVzQ29udGludWUob3V0cHV0SWQpOwp9CgovLyBUaGlzIGlzIHJvdWdobHkgYW4gYXN5bmMgZ2VuZXJhdG9yIChub3Qgc3VwcG9ydGVkIGluIHRoZSBicm93c2VyIHlldCksCi8vIHdoZXJlIHRoZXJlIGFyZSBtdWx0aXBsZSBhc3luY2hyb25vdXMgc3RlcHMgYW5kIHRoZSBQeXRob24gc2lkZSBpcyBnb2luZwovLyB0byBwb2xsIGZvciBjb21wbGV0aW9uIG9mIGVhY2ggc3RlcC4KLy8gVGhpcyB1c2VzIGEgUHJvbWlzZSB0byBibG9jayB0aGUgcHl0aG9uIHNpZGUgb24gY29tcGxldGlvbiBvZiBlYWNoIHN0ZXAsCi8vIHRoZW4gcGFzc2VzIHRoZSByZXN1bHQgb2YgdGhlIHByZXZpb3VzIHN0ZXAgYXMgdGhlIGlucHV0IHRvIHRoZSBuZXh0IHN0ZXAuCmZ1bmN0aW9uIF91cGxvYWRGaWxlc0NvbnRpbnVlKG91dHB1dElkKSB7CiAgY29uc3Qgb3V0cHV0RWxlbWVudCA9IGRvY3VtZW50LmdldEVsZW1lbnRCeUlkKG91dHB1dElkKTsKICBjb25zdCBzdGVwcyA9IG91dHB1dEVsZW1lbnQuc3RlcHM7CgogIGNvbnN0IG5leHQgPSBzdGVwcy5uZXh0KG91dHB1dEVsZW1lbnQubGFzdFByb21pc2VWYWx1ZSk7CiAgcmV0dXJuIFByb21pc2UucmVzb2x2ZShuZXh0LnZhbHVlLnByb21pc2UpLnRoZW4oKHZhbHVlKSA9PiB7CiAgICAvLyBDYWNoZSB0aGUgbGFzdCBwcm9taXNlIHZhbHVlIHRvIG1ha2UgaXQgYXZhaWxhYmxlIHRvIHRoZSBuZXh0CiAgICAvLyBzdGVwIG9mIHRoZSBnZW5lcmF0b3IuCiAgICBvdXRwdXRFbGVtZW50Lmxhc3RQcm9taXNlVmFsdWUgPSB2YWx1ZTsKICAgIHJldHVybiBuZXh0LnZhbHVlLnJlc3BvbnNlOwogIH0pOwp9CgovKioKICogR2VuZXJhdG9yIGZ1bmN0aW9uIHdoaWNoIGlzIGNhbGxlZCBiZXR3ZWVuIGVhY2ggYXN5bmMgc3RlcCBvZiB0aGUgdXBsb2FkCiAqIHByb2Nlc3MuCiAqIEBwYXJhbSB7c3RyaW5nfSBpbnB1dElkIEVsZW1lbnQgSUQgb2YgdGhlIGlucHV0IGZpbGUgcGlja2VyIGVsZW1lbnQuCiAqIEBwYXJhbSB7c3RyaW5nfSBvdXRwdXRJZCBFbGVtZW50IElEIG9mIHRoZSBvdXRwdXQgZGlzcGxheS4KICogQHJldHVybiB7IUl0ZXJhYmxlPCFPYmplY3Q+fSBJdGVyYWJsZSBvZiBuZXh0IHN0ZXBzLgogKi8KZnVuY3Rpb24qIHVwbG9hZEZpbGVzU3RlcChpbnB1dElkLCBvdXRwdXRJZCkgewogIGNvbnN0IGlucHV0RWxlbWVudCA9IGRvY3VtZW50LmdldEVsZW1lbnRCeUlkKGlucHV0SWQpOwogIGlucHV0RWxlbWVudC5kaXNhYmxlZCA9IGZhbHNlOwoKICBjb25zdCBvdXRwdXRFbGVtZW50ID0gZG9jdW1lbnQuZ2V0RWxlbWVudEJ5SWQob3V0cHV0SWQpOwogIG91dHB1dEVsZW1lbnQuaW5uZXJIVE1MID0gJyc7CgogIGNvbnN0IHBpY2tlZFByb21pc2UgPSBuZXcgUHJvbWlzZSgocmVzb2x2ZSkgPT4gewogICAgaW5wdXRFbGVtZW50LmFkZEV2ZW50TGlzdGVuZXIoJ2NoYW5nZScsIChlKSA9PiB7CiAgICAgIHJlc29sdmUoZS50YXJnZXQuZmlsZXMpOwogICAgfSk7CiAgfSk7CgogIGNvbnN0IGNhbmNlbCA9IGRvY3VtZW50LmNyZWF0ZUVsZW1lbnQoJ2J1dHRvbicpOwogIGlucHV0RWxlbWVudC5wYXJlbnRFbGVtZW50LmFwcGVuZENoaWxkKGNhbmNlbCk7CiAgY2FuY2VsLnRleHRDb250ZW50ID0gJ0NhbmNlbCB1cGxvYWQnOwogIGNvbnN0IGNhbmNlbFByb21pc2UgPSBuZXcgUHJvbWlzZSgocmVzb2x2ZSkgPT4gewogICAgY2FuY2VsLm9uY2xpY2sgPSAoKSA9PiB7CiAgICAgIHJlc29sdmUobnVsbCk7CiAgICB9OwogIH0pOwoKICAvLyBXYWl0IGZvciB0aGUgdXNlciB0byBwaWNrIHRoZSBmaWxlcy4KICBjb25zdCBmaWxlcyA9IHlpZWxkIHsKICAgIHByb21pc2U6IFByb21pc2UucmFjZShbcGlja2VkUHJvbWlzZSwgY2FuY2VsUHJvbWlzZV0pLAogICAgcmVzcG9uc2U6IHsKICAgICAgYWN0aW9uOiAnc3RhcnRpbmcnLAogICAgfQogIH07CgogIGNhbmNlbC5yZW1vdmUoKTsKCiAgLy8gRGlzYWJsZSB0aGUgaW5wdXQgZWxlbWVudCBzaW5jZSBmdXJ0aGVyIHBpY2tzIGFyZSBub3QgYWxsb3dlZC4KICBpbnB1dEVsZW1lbnQuZGlzYWJsZWQgPSB0cnVlOwoKICBpZiAoIWZpbGVzKSB7CiAgICByZXR1cm4gewogICAgICByZXNwb25zZTogewogICAgICAgIGFjdGlvbjogJ2NvbXBsZXRlJywKICAgICAgfQogICAgfTsKICB9CgogIGZvciAoY29uc3QgZmlsZSBvZiBmaWxlcykgewogICAgY29uc3QgbGkgPSBkb2N1bWVudC5jcmVhdGVFbGVtZW50KCdsaScpOwogICAgbGkuYXBwZW5kKHNwYW4oZmlsZS5uYW1lLCB7Zm9udFdlaWdodDogJ2JvbGQnfSkpOwogICAgbGkuYXBwZW5kKHNwYW4oCiAgICAgICAgYCgke2ZpbGUudHlwZSB8fCAnbi9hJ30pIC0gJHtmaWxlLnNpemV9IGJ5dGVzLCBgICsKICAgICAgICBgbGFzdCBtb2RpZmllZDogJHsKICAgICAgICAgICAgZmlsZS5sYXN0TW9kaWZpZWREYXRlID8gZmlsZS5sYXN0TW9kaWZpZWREYXRlLnRvTG9jYWxlRGF0ZVN0cmluZygpIDoKICAgICAgICAgICAgICAgICAgICAgICAgICAgICAgICAgICAgJ24vYSd9IC0gYCkpOwogICAgY29uc3QgcGVyY2VudCA9IHNwYW4oJzAlIGRvbmUnKTsKICAgIGxpLmFwcGVuZENoaWxkKHBlcmNlbnQpOwoKICAgIG91dHB1dEVsZW1lbnQuYXBwZW5kQ2hpbGQobGkpOwoKICAgIGNvbnN0IGZpbGVEYXRhUHJvbWlzZSA9IG5ldyBQcm9taXNlKChyZXNvbHZlKSA9PiB7CiAgICAgIGNvbnN0IHJlYWRlciA9IG5ldyBGaWxlUmVhZGVyKCk7CiAgICAgIHJlYWRlci5vbmxvYWQgPSAoZSkgPT4gewogICAgICAgIHJlc29sdmUoZS50YXJnZXQucmVzdWx0KTsKICAgICAgfTsKICAgICAgcmVhZGVyLnJlYWRBc0FycmF5QnVmZmVyKGZpbGUpOwogICAgfSk7CiAgICAvLyBXYWl0IGZvciB0aGUgZGF0YSB0byBiZSByZWFkeS4KICAgIGxldCBmaWxlRGF0YSA9IHlpZWxkIHsKICAgICAgcHJvbWlzZTogZmlsZURhdGFQcm9taXNlLAogICAgICByZXNwb25zZTogewogICAgICAgIGFjdGlvbjogJ2NvbnRpbnVlJywKICAgICAgfQogICAgfTsKCiAgICAvLyBVc2UgYSBjaHVua2VkIHNlbmRpbmcgdG8gYXZvaWQgbWVzc2FnZSBzaXplIGxpbWl0cy4gU2VlIGIvNjIxMTU2NjAuCiAgICBsZXQgcG9zaXRpb24gPSAwOwogICAgd2hpbGUgKHBvc2l0aW9uIDwgZmlsZURhdGEuYnl0ZUxlbmd0aCkgewogICAgICBjb25zdCBsZW5ndGggPSBNYXRoLm1pbihmaWxlRGF0YS5ieXRlTGVuZ3RoIC0gcG9zaXRpb24sIE1BWF9QQVlMT0FEX1NJWkUpOwogICAgICBjb25zdCBjaHVuayA9IG5ldyBVaW50OEFycmF5KGZpbGVEYXRhLCBwb3NpdGlvbiwgbGVuZ3RoKTsKICAgICAgcG9zaXRpb24gKz0gbGVuZ3RoOwoKICAgICAgY29uc3QgYmFzZTY0ID0gYnRvYShTdHJpbmcuZnJvbUNoYXJDb2RlLmFwcGx5KG51bGwsIGNodW5rKSk7CiAgICAgIHlpZWxkIHsKICAgICAgICByZXNwb25zZTogewogICAgICAgICAgYWN0aW9uOiAnYXBwZW5kJywKICAgICAgICAgIGZpbGU6IGZpbGUubmFtZSwKICAgICAgICAgIGRhdGE6IGJhc2U2NCwKICAgICAgICB9LAogICAgICB9OwogICAgICBwZXJjZW50LnRleHRDb250ZW50ID0KICAgICAgICAgIGAke01hdGgucm91bmQoKHBvc2l0aW9uIC8gZmlsZURhdGEuYnl0ZUxlbmd0aCkgKiAxMDApfSUgZG9uZWA7CiAgICB9CiAgfQoKICAvLyBBbGwgZG9uZS4KICB5aWVsZCB7CiAgICByZXNwb25zZTogewogICAgICBhY3Rpb246ICdjb21wbGV0ZScsCiAgICB9CiAgfTsKfQoKc2NvcGUuZ29vZ2xlID0gc2NvcGUuZ29vZ2xlIHx8IHt9OwpzY29wZS5nb29nbGUuY29sYWIgPSBzY29wZS5nb29nbGUuY29sYWIgfHwge307CnNjb3BlLmdvb2dsZS5jb2xhYi5fZmlsZXMgPSB7CiAgX3VwbG9hZEZpbGVzLAogIF91cGxvYWRGaWxlc0NvbnRpbnVlLAp9Owp9KShzZWxmKTsK",
              "ok": true,
              "headers": [
                [
                  "content-type",
                  "application/javascript"
                ]
              ],
              "status": 200,
              "status_text": "OK"
            }
          },
          "base_uri": "https://localhost:8080/",
          "height": 73
        },
        "id": "PS-EbjVeoiL6",
        "outputId": "4b9a825d-eded-433a-ff70-ab3a7c885502"
      },
      "source": [
        "#Uploading historic file with changeover data from local drive\n",
        "from google.colab import files\n",
        "uploaded = files.upload()"
      ],
      "execution_count": null,
      "outputs": [
        {
          "output_type": "display_data",
          "data": {
            "text/html": [
              "\n",
              "     <input type=\"file\" id=\"files-10037efe-4e24-465d-9d2f-84d3292eba23\" name=\"files[]\" multiple disabled\n",
              "        style=\"border:none\" />\n",
              "     <output id=\"result-10037efe-4e24-465d-9d2f-84d3292eba23\">\n",
              "      Upload widget is only available when the cell has been executed in the\n",
              "      current browser session. Please rerun this cell to enable.\n",
              "      </output>\n",
              "      <script src=\"/nbextensions/google.colab/files.js\"></script> "
            ],
            "text/plain": [
              "<IPython.core.display.HTML object>"
            ]
          },
          "metadata": {
            "tags": []
          }
        },
        {
          "output_type": "stream",
          "text": [
            "Saving c_over_2021.xlsx to c_over_2021 (1).xlsx\n"
          ],
          "name": "stdout"
        }
      ]
    },
    {
      "cell_type": "code",
      "metadata": {
        "id": "KggEHa_yoo92"
      },
      "source": [
        "#Storing dataset in a Pandas Dataframe\n",
        "import io\n",
        "xo = pd.read_excel(io.BytesIO(uploaded['c_over_2021.xlsx'])) #==> setting Event (datetime) as index to perform date slicing"
      ],
      "execution_count": null,
      "outputs": []
    },
    {
      "cell_type": "code",
      "metadata": {
        "colab": {
          "base_uri": "https://localhost:8080/"
        },
        "id": "NJvAfC0NpHZf",
        "outputId": "a14a071c-5bed-4056-afdf-a5d69290cce8"
      },
      "source": [
        "#Checking new dataframe information\n",
        "xo.info()"
      ],
      "execution_count": null,
      "outputs": [
        {
          "output_type": "stream",
          "text": [
            "<class 'pandas.core.frame.DataFrame'>\n",
            "RangeIndex: 157 entries, 0 to 156\n",
            "Data columns (total 22 columns):\n",
            " #   Column    Non-Null Count  Dtype         \n",
            "---  ------    --------------  -----         \n",
            " 0   Event     157 non-null    datetime64[ns]\n",
            " 1   Date      157 non-null    datetime64[ns]\n",
            " 2   Hours     157 non-null    object        \n",
            " 3   Weeknum   157 non-null    int64         \n",
            " 4   Weekday   157 non-null    object        \n",
            " 5   Shift     157 non-null    object        \n",
            " 6   S_num     157 non-null    int64         \n",
            " 7   State     157 non-null    object        \n",
            " 8   T_loss    157 non-null    object        \n",
            " 9   Mass      157 non-null    object        \n",
            " 10  Group     157 non-null    object        \n",
            " 11  Product   157 non-null    object        \n",
            " 12  Format    157 non-null    object        \n",
            " 13  Team      157 non-null    object        \n",
            " 14  XO_num    157 non-null    int64         \n",
            " 15  XO_cat    157 non-null    object        \n",
            " 16  XO_type   157 non-null    object        \n",
            " 17  Boxes     157 non-null    int64         \n",
            " 18  GE        157 non-null    float64       \n",
            " 19  GE_loss   157 non-null    float64       \n",
            " 20  Min_loss  157 non-null    float64       \n",
            " 21  Comment   12 non-null     object        \n",
            "dtypes: datetime64[ns](2), float64(3), int64(4), object(13)\n",
            "memory usage: 27.1+ KB\n"
          ],
          "name": "stdout"
        }
      ]
    },
    {
      "cell_type": "code",
      "metadata": {
        "colab": {
          "base_uri": "https://localhost:8080/"
        },
        "id": "fFAritobgt5m",
        "outputId": "f650d85e-66b4-4596-cc81-5c52fb154be0"
      },
      "source": [
        "#Dropping Legal NOT and No Shift hours\n",
        "xo.columns"
      ],
      "execution_count": null,
      "outputs": [
        {
          "output_type": "execute_result",
          "data": {
            "text/plain": [
              "Index(['Event', 'Date', 'Hours', 'Weeknum', 'Weekday', 'Shift', 'S_num',\n",
              "       'State', 'T_loss', 'Mass', 'Group', 'Product', 'Format', 'Team',\n",
              "       'XO_num', 'XO_cat', 'XO_type', 'Boxes', 'GE', 'GE_loss', 'Min_loss',\n",
              "       'Comment'],\n",
              "      dtype='object')"
            ]
          },
          "metadata": {
            "tags": []
          },
          "execution_count": 18
        }
      ]
    },
    {
      "cell_type": "code",
      "metadata": {
        "colab": {
          "base_uri": "https://localhost:8080/",
          "height": 166
        },
        "id": "Mam2TR8Koz72",
        "outputId": "11c3f495-edf3-4f13-e31b-efcd8fb74bd4"
      },
      "source": [
        "#Value counts of Changeover Type\n",
        "xo_cat = xo.value_counts(subset=['XO_cat'], normalize=True).reset_index(name='Proportion')\n",
        "xo_cat"
      ],
      "execution_count": null,
      "outputs": [
        {
          "output_type": "execute_result",
          "data": {
            "text/html": [
              "<div>\n",
              "<style scoped>\n",
              "    .dataframe tbody tr th:only-of-type {\n",
              "        vertical-align: middle;\n",
              "    }\n",
              "\n",
              "    .dataframe tbody tr th {\n",
              "        vertical-align: top;\n",
              "    }\n",
              "\n",
              "    .dataframe thead th {\n",
              "        text-align: right;\n",
              "    }\n",
              "</style>\n",
              "<table border=\"1\" class=\"dataframe\">\n",
              "  <thead>\n",
              "    <tr style=\"text-align: right;\">\n",
              "      <th></th>\n",
              "      <th>XO_cat</th>\n",
              "      <th>Proportion</th>\n",
              "    </tr>\n",
              "  </thead>\n",
              "  <tbody>\n",
              "    <tr>\n",
              "      <th>0</th>\n",
              "      <td>quick</td>\n",
              "      <td>0.458599</td>\n",
              "    </tr>\n",
              "    <tr>\n",
              "      <th>1</th>\n",
              "      <td>major</td>\n",
              "      <td>0.216561</td>\n",
              "    </tr>\n",
              "    <tr>\n",
              "      <th>2</th>\n",
              "      <td>allergen</td>\n",
              "      <td>0.171975</td>\n",
              "    </tr>\n",
              "    <tr>\n",
              "      <th>3</th>\n",
              "      <td>parallel</td>\n",
              "      <td>0.152866</td>\n",
              "    </tr>\n",
              "  </tbody>\n",
              "</table>\n",
              "</div>"
            ],
            "text/plain": [
              "     XO_cat  Proportion\n",
              "0     quick    0.458599\n",
              "1     major    0.216561\n",
              "2  allergen    0.171975\n",
              "3  parallel    0.152866"
            ]
          },
          "metadata": {
            "tags": []
          },
          "execution_count": 22
        }
      ]
    },
    {
      "cell_type": "code",
      "metadata": {
        "colab": {
          "base_uri": "https://localhost:8080/",
          "height": 254
        },
        "id": "O4ZUgXBg7Ewu",
        "outputId": "086ec028-c9ad-4db1-e3da-fc98ad654ef6"
      },
      "source": [
        "xo_type = xo.value_counts(subset=['XO_type'], normalize=True).reset_index(name='Proportion')\n",
        "xo_type"
      ],
      "execution_count": null,
      "outputs": [
        {
          "output_type": "execute_result",
          "data": {
            "text/html": [
              "<div>\n",
              "<style scoped>\n",
              "    .dataframe tbody tr th:only-of-type {\n",
              "        vertical-align: middle;\n",
              "    }\n",
              "\n",
              "    .dataframe tbody tr th {\n",
              "        vertical-align: top;\n",
              "    }\n",
              "\n",
              "    .dataframe thead th {\n",
              "        text-align: right;\n",
              "    }\n",
              "</style>\n",
              "<table border=\"1\" class=\"dataframe\">\n",
              "  <thead>\n",
              "    <tr style=\"text-align: right;\">\n",
              "      <th></th>\n",
              "      <th>XO_type</th>\n",
              "      <th>Proportion</th>\n",
              "    </tr>\n",
              "  </thead>\n",
              "  <tbody>\n",
              "    <tr>\n",
              "      <th>0</th>\n",
              "      <td>sing_sing</td>\n",
              "      <td>0.286624</td>\n",
              "    </tr>\n",
              "    <tr>\n",
              "      <th>1</th>\n",
              "      <td>sing_2pk</td>\n",
              "      <td>0.267516</td>\n",
              "    </tr>\n",
              "    <tr>\n",
              "      <th>2</th>\n",
              "      <td>2pk_sing</td>\n",
              "      <td>0.267516</td>\n",
              "    </tr>\n",
              "    <tr>\n",
              "      <th>3</th>\n",
              "      <td>sing_løs</td>\n",
              "      <td>0.063694</td>\n",
              "    </tr>\n",
              "    <tr>\n",
              "      <th>4</th>\n",
              "      <td>løs_sing</td>\n",
              "      <td>0.063694</td>\n",
              "    </tr>\n",
              "    <tr>\n",
              "      <th>5</th>\n",
              "      <td>2pk_løs</td>\n",
              "      <td>0.038217</td>\n",
              "    </tr>\n",
              "    <tr>\n",
              "      <th>6</th>\n",
              "      <td>løs_2pk</td>\n",
              "      <td>0.012739</td>\n",
              "    </tr>\n",
              "  </tbody>\n",
              "</table>\n",
              "</div>"
            ],
            "text/plain": [
              "     XO_type  Proportion\n",
              "0  sing_sing    0.286624\n",
              "1   sing_2pk    0.267516\n",
              "2   2pk_sing    0.267516\n",
              "3   sing_løs    0.063694\n",
              "4   løs_sing    0.063694\n",
              "5    2pk_løs    0.038217\n",
              "6    løs_2pk    0.012739"
            ]
          },
          "metadata": {
            "tags": []
          },
          "execution_count": 23
        }
      ]
    },
    {
      "cell_type": "code",
      "metadata": {
        "colab": {
          "base_uri": "https://localhost:8080/",
          "height": 254
        },
        "id": "IszRXyrlkqYp",
        "outputId": "7feebff2-d467-469c-acce-508fb68564eb"
      },
      "source": [
        "#Groupying by waterfall codes\n",
        "xo_gp = xo.groupby(['XO_type']).agg({'Hours': 'count', 'GE': 'mean', 'GE_loss': 'mean','Min_loss': 'sum'}).reset_index().sort_values(by='Min_loss', ascending=False)\n",
        "xo_gp = xo_gp.assign(Perc = lambda x: x['Min_loss']/x['Min_loss'].sum())\n",
        "xo_gp"
      ],
      "execution_count": null,
      "outputs": [
        {
          "output_type": "execute_result",
          "data": {
            "text/html": [
              "<div>\n",
              "<style scoped>\n",
              "    .dataframe tbody tr th:only-of-type {\n",
              "        vertical-align: middle;\n",
              "    }\n",
              "\n",
              "    .dataframe tbody tr th {\n",
              "        vertical-align: top;\n",
              "    }\n",
              "\n",
              "    .dataframe thead th {\n",
              "        text-align: right;\n",
              "    }\n",
              "</style>\n",
              "<table border=\"1\" class=\"dataframe\">\n",
              "  <thead>\n",
              "    <tr style=\"text-align: right;\">\n",
              "      <th></th>\n",
              "      <th>XO_type</th>\n",
              "      <th>Hours</th>\n",
              "      <th>GE</th>\n",
              "      <th>GE_loss</th>\n",
              "      <th>Min_loss</th>\n",
              "      <th>Perc</th>\n",
              "    </tr>\n",
              "  </thead>\n",
              "  <tbody>\n",
              "    <tr>\n",
              "      <th>6</th>\n",
              "      <td>sing_sing</td>\n",
              "      <td>45</td>\n",
              "      <td>28.384749</td>\n",
              "      <td>71.615251</td>\n",
              "      <td>1935.098277</td>\n",
              "      <td>0.355654</td>\n",
              "    </tr>\n",
              "    <tr>\n",
              "      <th>1</th>\n",
              "      <td>2pk_sing</td>\n",
              "      <td>42</td>\n",
              "      <td>45.941636</td>\n",
              "      <td>54.058364</td>\n",
              "      <td>1362.270779</td>\n",
              "      <td>0.250373</td>\n",
              "    </tr>\n",
              "    <tr>\n",
              "      <th>4</th>\n",
              "      <td>sing_2pk</td>\n",
              "      <td>42</td>\n",
              "      <td>54.512195</td>\n",
              "      <td>45.487805</td>\n",
              "      <td>1158.240763</td>\n",
              "      <td>0.212875</td>\n",
              "    </tr>\n",
              "    <tr>\n",
              "      <th>5</th>\n",
              "      <td>sing_løs</td>\n",
              "      <td>10</td>\n",
              "      <td>33.725225</td>\n",
              "      <td>66.274775</td>\n",
              "      <td>399.810811</td>\n",
              "      <td>0.073482</td>\n",
              "    </tr>\n",
              "    <tr>\n",
              "      <th>0</th>\n",
              "      <td>2pk_løs</td>\n",
              "      <td>6</td>\n",
              "      <td>16.666667</td>\n",
              "      <td>83.333333</td>\n",
              "      <td>300.000000</td>\n",
              "      <td>0.055137</td>\n",
              "    </tr>\n",
              "    <tr>\n",
              "      <th>3</th>\n",
              "      <td>løs_sing</td>\n",
              "      <td>10</td>\n",
              "      <td>66.744125</td>\n",
              "      <td>33.255875</td>\n",
              "      <td>199.535251</td>\n",
              "      <td>0.036673</td>\n",
              "    </tr>\n",
              "    <tr>\n",
              "      <th>2</th>\n",
              "      <td>løs_2pk</td>\n",
              "      <td>2</td>\n",
              "      <td>28.333333</td>\n",
              "      <td>71.666667</td>\n",
              "      <td>86.000000</td>\n",
              "      <td>0.015806</td>\n",
              "    </tr>\n",
              "  </tbody>\n",
              "</table>\n",
              "</div>"
            ],
            "text/plain": [
              "     XO_type  Hours         GE    GE_loss     Min_loss      Perc\n",
              "6  sing_sing     45  28.384749  71.615251  1935.098277  0.355654\n",
              "1   2pk_sing     42  45.941636  54.058364  1362.270779  0.250373\n",
              "4   sing_2pk     42  54.512195  45.487805  1158.240763  0.212875\n",
              "5   sing_løs     10  33.725225  66.274775   399.810811  0.073482\n",
              "0    2pk_løs      6  16.666667  83.333333   300.000000  0.055137\n",
              "3   løs_sing     10  66.744125  33.255875   199.535251  0.036673\n",
              "2    løs_2pk      2  28.333333  71.666667    86.000000  0.015806"
            ]
          },
          "metadata": {
            "tags": []
          },
          "execution_count": 30
        }
      ]
    },
    {
      "cell_type": "code",
      "metadata": {
        "colab": {
          "base_uri": "https://localhost:8080/",
          "height": 17
        },
        "id": "-Qo3oDBD8Dqy",
        "outputId": "3699f90c-3a5a-4ab4-efbc-2340ca4ed80a"
      },
      "source": [
        "#Exporting to excel into local disk\n",
        "from google.colab import files\n",
        "xo_gp.to_excel('c_over_group_2021.xlsx', index=False) #==> Excluding index from file\n",
        "files.download('c_over_group_2021.xlsx')"
      ],
      "execution_count": null,
      "outputs": [
        {
          "output_type": "display_data",
          "data": {
            "application/javascript": [
              "\n",
              "    async function download(id, filename, size) {\n",
              "      if (!google.colab.kernel.accessAllowed) {\n",
              "        return;\n",
              "      }\n",
              "      const div = document.createElement('div');\n",
              "      const label = document.createElement('label');\n",
              "      label.textContent = `Downloading \"${filename}\": `;\n",
              "      div.appendChild(label);\n",
              "      const progress = document.createElement('progress');\n",
              "      progress.max = size;\n",
              "      div.appendChild(progress);\n",
              "      document.body.appendChild(div);\n",
              "\n",
              "      const buffers = [];\n",
              "      let downloaded = 0;\n",
              "\n",
              "      const channel = await google.colab.kernel.comms.open(id);\n",
              "      // Send a message to notify the kernel that we're ready.\n",
              "      channel.send({})\n",
              "\n",
              "      for await (const message of channel.messages) {\n",
              "        // Send a message to notify the kernel that we're ready.\n",
              "        channel.send({})\n",
              "        if (message.buffers) {\n",
              "          for (const buffer of message.buffers) {\n",
              "            buffers.push(buffer);\n",
              "            downloaded += buffer.byteLength;\n",
              "            progress.value = downloaded;\n",
              "          }\n",
              "        }\n",
              "      }\n",
              "      const blob = new Blob(buffers, {type: 'application/binary'});\n",
              "      const a = document.createElement('a');\n",
              "      a.href = window.URL.createObjectURL(blob);\n",
              "      a.download = filename;\n",
              "      div.appendChild(a);\n",
              "      a.click();\n",
              "      div.remove();\n",
              "    }\n",
              "  "
            ],
            "text/plain": [
              "<IPython.core.display.Javascript object>"
            ]
          },
          "metadata": {
            "tags": []
          }
        },
        {
          "output_type": "display_data",
          "data": {
            "application/javascript": [
              "download(\"download_88b6b207-d43c-4a20-936e-d6e9fb9c0275\", \"c_over_group_2021.xlsx\", 5320)"
            ],
            "text/plain": [
              "<IPython.core.display.Javascript object>"
            ]
          },
          "metadata": {
            "tags": []
          }
        }
      ]
    },
    {
      "cell_type": "markdown",
      "metadata": {
        "id": "LARHdBVggK-9"
      },
      "source": [
        "#Weekly Production Analysis"
      ]
    },
    {
      "cell_type": "markdown",
      "metadata": {
        "id": "y0Re_QJwgyBJ"
      },
      "source": [
        "##Uploading packages and data"
      ]
    },
    {
      "cell_type": "code",
      "metadata": {
        "id": "EElRNp_BgNvM"
      },
      "source": [
        "#Importing necessary packages\n",
        "import numpy as np\n",
        "import pandas as pd\n",
        "import matplotlib.pyplot as plt\n",
        "import seaborn as sns"
      ],
      "execution_count": 1,
      "outputs": []
    },
    {
      "cell_type": "code",
      "metadata": {
        "id": "UgNLOJZbgWG6"
      },
      "source": [
        "#Remove previous versions of the uploaded excel file\n",
        "!rm 2021_effektivitet_j4.xlsx"
      ],
      "execution_count": null,
      "outputs": []
    },
    {
      "cell_type": "code",
      "metadata": {
        "colab": {
          "resources": {
            "http://localhost:8080/nbextensions/google.colab/files.js": {
              "data": "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",
              "ok": true,
              "headers": [
                [
                  "content-type",
                  "application/javascript"
                ]
              ],
              "status": 200,
              "status_text": "OK"
            }
          },
          "base_uri": "https://localhost:8080/",
          "height": 73
        },
        "id": "2qMbKtCvgWG7",
        "outputId": "37f5906b-4ca3-4929-cd92-f787b6f6a37b"
      },
      "source": [
        "#Uploading file from local drive\n",
        "from google.colab import files\n",
        "uploaded7 = files.upload()"
      ],
      "execution_count": 2,
      "outputs": [
        {
          "output_type": "display_data",
          "data": {
            "text/html": [
              "\n",
              "     <input type=\"file\" id=\"files-da663d1b-0d62-46da-9d9a-5c26ed5b35ba\" name=\"files[]\" multiple disabled\n",
              "        style=\"border:none\" />\n",
              "     <output id=\"result-da663d1b-0d62-46da-9d9a-5c26ed5b35ba\">\n",
              "      Upload widget is only available when the cell has been executed in the\n",
              "      current browser session. Please rerun this cell to enable.\n",
              "      </output>\n",
              "      <script src=\"/nbextensions/google.colab/files.js\"></script> "
            ],
            "text/plain": [
              "<IPython.core.display.HTML object>"
            ]
          },
          "metadata": {
            "tags": []
          }
        },
        {
          "output_type": "stream",
          "text": [
            "Saving 2021_effektivitet_j4.xlsx to 2021_effektivitet_j4.xlsx\n"
          ],
          "name": "stdout"
        }
      ]
    },
    {
      "cell_type": "code",
      "metadata": {
        "id": "aYQiON0OgWG9"
      },
      "source": [
        "#Storing dataset in a Pandas Dataframe\n",
        "import io\n",
        "df7 = pd.read_excel(io.BytesIO(uploaded7['2021_effektivitet_j4.xlsx']))"
      ],
      "execution_count": 64,
      "outputs": []
    },
    {
      "cell_type": "code",
      "metadata": {
        "id": "pov9i99SVdlb"
      },
      "source": [
        "#Parse date column and set date as index to perform date slicing\n",
        "df7['Dato'] = pd.to_datetime(df7['Dato'], format='%Y-%m-%d %H:%M:%S')\n",
        "df7 = df7.set_index('Dato')"
      ],
      "execution_count": 65,
      "outputs": []
    },
    {
      "cell_type": "code",
      "metadata": {
        "colab": {
          "base_uri": "https://localhost:8080/"
        },
        "id": "5xnEzIsZgWG_",
        "outputId": "525f97b1-7f6d-439e-b6cc-65a7d970d07e"
      },
      "source": [
        "#Checking the dataframe information\n",
        "df7.info()"
      ],
      "execution_count": 66,
      "outputs": [
        {
          "output_type": "stream",
          "text": [
            "<class 'pandas.core.frame.DataFrame'>\n",
            "DatetimeIndex: 93 entries, 2021-05-03 to 2021-06-11\n",
            "Data columns (total 14 columns):\n",
            " #   Column         Non-Null Count  Dtype  \n",
            "---  ------         --------------  -----  \n",
            " 0   Mat.nr         93 non-null     int64  \n",
            " 1   Kod            93 non-null     int64  \n",
            " 2   Material       93 non-null     object \n",
            " 3   Dag            93 non-null     object \n",
            " 4   Skift          93 non-null     object \n",
            " 5   Timer          93 non-null     float64\n",
            " 6   Linje          93 non-null     object \n",
            " 7   Produsert      93 non-null     float64\n",
            " 8   Kapasitet      93 non-null     float64\n",
            " 9   Mål            93 non-null     float64\n",
            " 10  LE_pr_skift    93 non-null     float64\n",
            " 11  Varianse       93 non-null     float64\n",
            " 12  Antall_paller  93 non-null     float64\n",
            " 13  Kommentar      1 non-null      object \n",
            "dtypes: float64(7), int64(2), object(5)\n",
            "memory usage: 10.9+ KB\n"
          ],
          "name": "stdout"
        }
      ]
    },
    {
      "cell_type": "markdown",
      "metadata": {
        "id": "hweHwejbg1wN"
      },
      "source": [
        "##Data Manipulation"
      ]
    },
    {
      "cell_type": "code",
      "metadata": {
        "id": "PBHRB8znUY-0"
      },
      "source": [
        "#Extract day from datetime\n",
        "df7 = df7.assign(Dag_num = df7.index.dayofweek)"
      ],
      "execution_count": 69,
      "outputs": []
    },
    {
      "cell_type": "code",
      "metadata": {
        "colab": {
          "base_uri": "https://localhost:8080/"
        },
        "id": "0Uu59m3BTFEn",
        "outputId": "659a83de-dda1-4811-ba13-65dff6ce0815"
      },
      "source": [
        "#Filtering the dataframe to match the last week\n",
        "s = '2021-06-07'\n",
        "f = '2021-06-12'\n",
        "df7_week = df7[s : f].copy()\n",
        "df7_week.index[0], df7_week.index[-1]"
      ],
      "execution_count": 70,
      "outputs": [
        {
          "output_type": "execute_result",
          "data": {
            "text/plain": [
              "(Timestamp('2021-06-07 00:00:00'), Timestamp('2021-06-11 00:00:00'))"
            ]
          },
          "metadata": {
            "tags": []
          },
          "execution_count": 70
        }
      ]
    },
    {
      "cell_type": "code",
      "metadata": {
        "id": "Nuxk9LqCTrFv"
      },
      "source": [
        "#Group by day number, day name and shift\n",
        "df7_week = df7_week.groupby(['Dag_num', 'Dag', 'Skift']).agg(Kg=('Produsert', 'sum'),\n",
        "                                                  Pallets=('Antall_paller', 'sum'),\n",
        "                                                  GE=('LE_pr_skift', 'sum')).reset_index()"
      ],
      "execution_count": 71,
      "outputs": []
    },
    {
      "cell_type": "code",
      "metadata": {
        "colab": {
          "base_uri": "https://localhost:8080/",
          "height": 450
        },
        "id": "qNMUTegqcgUw",
        "outputId": "276c38de-1bf1-48ee-eb1a-5fc0117a6758"
      },
      "source": [
        "#Checking dataframe\n",
        "df7_week"
      ],
      "execution_count": 72,
      "outputs": [
        {
          "output_type": "execute_result",
          "data": {
            "text/html": [
              "<div>\n",
              "<style scoped>\n",
              "    .dataframe tbody tr th:only-of-type {\n",
              "        vertical-align: middle;\n",
              "    }\n",
              "\n",
              "    .dataframe tbody tr th {\n",
              "        vertical-align: top;\n",
              "    }\n",
              "\n",
              "    .dataframe thead th {\n",
              "        text-align: right;\n",
              "    }\n",
              "</style>\n",
              "<table border=\"1\" class=\"dataframe\">\n",
              "  <thead>\n",
              "    <tr style=\"text-align: right;\">\n",
              "      <th></th>\n",
              "      <th>Dag_num</th>\n",
              "      <th>Dag</th>\n",
              "      <th>Skift</th>\n",
              "      <th>Kg</th>\n",
              "      <th>Pallets</th>\n",
              "      <th>GE</th>\n",
              "    </tr>\n",
              "  </thead>\n",
              "  <tbody>\n",
              "    <tr>\n",
              "      <th>0</th>\n",
              "      <td>0</td>\n",
              "      <td>Mandag</td>\n",
              "      <td>Dag</td>\n",
              "      <td>5470.080</td>\n",
              "      <td>11.000000</td>\n",
              "      <td>0.743448</td>\n",
              "    </tr>\n",
              "    <tr>\n",
              "      <th>1</th>\n",
              "      <td>0</td>\n",
              "      <td>Mandag</td>\n",
              "      <td>Kveld</td>\n",
              "      <td>5470.080</td>\n",
              "      <td>9.854701</td>\n",
              "      <td>0.793011</td>\n",
              "    </tr>\n",
              "    <tr>\n",
              "      <th>2</th>\n",
              "      <td>0</td>\n",
              "      <td>Mandag</td>\n",
              "      <td>Natt</td>\n",
              "      <td>4972.800</td>\n",
              "      <td>8.854701</td>\n",
              "      <td>0.636105</td>\n",
              "    </tr>\n",
              "    <tr>\n",
              "      <th>3</th>\n",
              "      <td>1</td>\n",
              "      <td>Tirsdag</td>\n",
              "      <td>Dag</td>\n",
              "      <td>5988.080</td>\n",
              "      <td>11.585933</td>\n",
              "      <td>0.813851</td>\n",
              "    </tr>\n",
              "    <tr>\n",
              "      <th>4</th>\n",
              "      <td>1</td>\n",
              "      <td>Tirsdag</td>\n",
              "      <td>Kveld</td>\n",
              "      <td>6961.920</td>\n",
              "      <td>14.000000</td>\n",
              "      <td>1.009287</td>\n",
              "    </tr>\n",
              "    <tr>\n",
              "      <th>5</th>\n",
              "      <td>1</td>\n",
              "      <td>Tirsdag</td>\n",
              "      <td>Natt</td>\n",
              "      <td>7459.200</td>\n",
              "      <td>15.000000</td>\n",
              "      <td>0.954158</td>\n",
              "    </tr>\n",
              "    <tr>\n",
              "      <th>6</th>\n",
              "      <td>2</td>\n",
              "      <td>Onsdag</td>\n",
              "      <td>Dag</td>\n",
              "      <td>6961.920</td>\n",
              "      <td>14.000000</td>\n",
              "      <td>0.946207</td>\n",
              "    </tr>\n",
              "    <tr>\n",
              "      <th>7</th>\n",
              "      <td>2</td>\n",
              "      <td>Onsdag</td>\n",
              "      <td>Kveld</td>\n",
              "      <td>5542.376</td>\n",
              "      <td>13.366009</td>\n",
              "      <td>0.823951</td>\n",
              "    </tr>\n",
              "    <tr>\n",
              "      <th>8</th>\n",
              "      <td>2</td>\n",
              "      <td>Onsdag</td>\n",
              "      <td>Natt</td>\n",
              "      <td>4052.160</td>\n",
              "      <td>8.059289</td>\n",
              "      <td>0.524357</td>\n",
              "    </tr>\n",
              "    <tr>\n",
              "      <th>9</th>\n",
              "      <td>3</td>\n",
              "      <td>Torsdag</td>\n",
              "      <td>Dag</td>\n",
              "      <td>5041.750</td>\n",
              "      <td>8.845925</td>\n",
              "      <td>0.685214</td>\n",
              "    </tr>\n",
              "    <tr>\n",
              "      <th>10</th>\n",
              "      <td>3</td>\n",
              "      <td>Torsdag</td>\n",
              "      <td>Kveld</td>\n",
              "      <td>2999.724</td>\n",
              "      <td>6.100698</td>\n",
              "      <td>0.459793</td>\n",
              "    </tr>\n",
              "    <tr>\n",
              "      <th>11</th>\n",
              "      <td>3</td>\n",
              "      <td>Torsdag</td>\n",
              "      <td>Natt</td>\n",
              "      <td>3091.648</td>\n",
              "      <td>6.536826</td>\n",
              "      <td>0.436792</td>\n",
              "    </tr>\n",
              "    <tr>\n",
              "      <th>12</th>\n",
              "      <td>4</td>\n",
              "      <td>Fredag</td>\n",
              "      <td>Dag</td>\n",
              "      <td>1024.296</td>\n",
              "      <td>1.524613</td>\n",
              "      <td>0.153759</td>\n",
              "    </tr>\n",
              "  </tbody>\n",
              "</table>\n",
              "</div>"
            ],
            "text/plain": [
              "    Dag_num      Dag  Skift        Kg    Pallets        GE\n",
              "0         0   Mandag    Dag  5470.080  11.000000  0.743448\n",
              "1         0   Mandag  Kveld  5470.080   9.854701  0.793011\n",
              "2         0   Mandag   Natt  4972.800   8.854701  0.636105\n",
              "3         1  Tirsdag    Dag  5988.080  11.585933  0.813851\n",
              "4         1  Tirsdag  Kveld  6961.920  14.000000  1.009287\n",
              "5         1  Tirsdag   Natt  7459.200  15.000000  0.954158\n",
              "6         2   Onsdag    Dag  6961.920  14.000000  0.946207\n",
              "7         2   Onsdag  Kveld  5542.376  13.366009  0.823951\n",
              "8         2   Onsdag   Natt  4052.160   8.059289  0.524357\n",
              "9         3  Torsdag    Dag  5041.750   8.845925  0.685214\n",
              "10        3  Torsdag  Kveld  2999.724   6.100698  0.459793\n",
              "11        3  Torsdag   Natt  3091.648   6.536826  0.436792\n",
              "12        4   Fredag    Dag  1024.296   1.524613  0.153759"
            ]
          },
          "metadata": {
            "tags": []
          },
          "execution_count": 72
        }
      ]
    },
    {
      "cell_type": "code",
      "metadata": {
        "colab": {
          "base_uri": "https://localhost:8080/",
          "height": 279
        },
        "id": "8whB5om2d5Xr",
        "outputId": "dc4c67b7-d3ef-41d5-bbf1-56369bac4235"
      },
      "source": [
        "#Plot GE graph\n",
        "sns.barplot(x='Dag', y='GE', hue='Skift', data=df7_week, ci=False)\n",
        "plt.show()"
      ],
      "execution_count": 75,
      "outputs": [
        {
          "output_type": "display_data",
          "data": {
            "image/png": "[encoded data removed]",
            "text/plain": [
              "<Figure size 432x288 with 1 Axes>"
            ]
          },
          "metadata": {
            "tags": [],
            "needs_background": "light"
          }
        }
      ]
    },
    {
      "cell_type": "code",
      "metadata": {
        "colab": {
          "base_uri": "https://localhost:8080/",
          "height": 17
        },
        "id": "AGdsQ9nVdpyq",
        "outputId": "1bd574dc-230b-49c4-b8ac-0b79c2ad1098"
      },
      "source": [
        "#Exporting to excel in local disk\n",
        "from google.colab import files\n",
        "df7_week.to_excel('2021_w23_j4.xlsx', index=False) #==> Excluding index from file\n",
        "files.download('2021_w23_j4.xlsx')"
      ],
      "execution_count": 76,
      "outputs": [
        {
          "output_type": "display_data",
          "data": {
            "application/javascript": [
              "\n",
              "    async function download(id, filename, size) {\n",
              "      if (!google.colab.kernel.accessAllowed) {\n",
              "        return;\n",
              "      }\n",
              "      const div = document.createElement('div');\n",
              "      const label = document.createElement('label');\n",
              "      label.textContent = `Downloading \"${filename}\": `;\n",
              "      div.appendChild(label);\n",
              "      const progress = document.createElement('progress');\n",
              "      progress.max = size;\n",
              "      div.appendChild(progress);\n",
              "      document.body.appendChild(div);\n",
              "\n",
              "      const buffers = [];\n",
              "      let downloaded = 0;\n",
              "\n",
              "      const channel = await google.colab.kernel.comms.open(id);\n",
              "      // Send a message to notify the kernel that we're ready.\n",
              "      channel.send({})\n",
              "\n",
              "      for await (const message of channel.messages) {\n",
              "        // Send a message to notify the kernel that we're ready.\n",
              "        channel.send({})\n",
              "        if (message.buffers) {\n",
              "          for (const buffer of message.buffers) {\n",
              "            buffers.push(buffer);\n",
              "            downloaded += buffer.byteLength;\n",
              "            progress.value = downloaded;\n",
              "          }\n",
              "        }\n",
              "      }\n",
              "      const blob = new Blob(buffers, {type: 'application/binary'});\n",
              "      const a = document.createElement('a');\n",
              "      a.href = window.URL.createObjectURL(blob);\n",
              "      a.download = filename;\n",
              "      div.appendChild(a);\n",
              "      a.click();\n",
              "      div.remove();\n",
              "    }\n",
              "  "
            ],
            "text/plain": [
              "<IPython.core.display.Javascript object>"
            ]
          },
          "metadata": {
            "tags": []
          }
        },
        {
          "output_type": "display_data",
          "data": {
            "application/javascript": [
              "download(\"download_d06f615d-54f5-4f91-be07-ac9cb4d94c58\", \"2021_w23_j4.xlsx\", 5657)"
            ],
            "text/plain": [
              "<IPython.core.display.Javascript object>"
            ]
          },
          "metadata": {
            "tags": []
          }
        }
      ]
    },
    {
      "cell_type": "code",
      "metadata": {
        "id": "HFTvVq8dhBME"
      },
      "source": [
        "#Create function to weeknum and code to dataframe\n",
        "def green_red(df):\n",
        "  df = df.assign(Weeknum = df['Dato'].dt.isocalendar().week,\n",
        "                 Cat = np.where((df['Material'].str.contains('FREIA 74G')) |\n",
        "                                (df['Material'].str.contains('SMIL 78G')) |\n",
        "                                (df['Material'].str.contains('KROKANRULL')), 'Green', 'Red'))\n",
        "  return df"
      ],
      "execution_count": null,
      "outputs": []
    },
    {
      "cell_type": "markdown",
      "metadata": {
        "id": "GfhMSnvwFw8X"
      },
      "source": [
        "# Monthly Loss Analysis"
      ]
    },
    {
      "cell_type": "markdown",
      "metadata": {
        "id": "nzA91pyYFz71"
      },
      "source": [
        "## Uploading necessary packages"
      ]
    },
    {
      "cell_type": "code",
      "metadata": {
        "id": "evg9CFo3IZs0"
      },
      "source": [
        "#Importing necessary packages\n",
        "import pandas as pd\n",
        "import numpy as np\n",
        "import matplotlib.pyplot as plt\n",
        "import seaborn as sns"
      ],
      "execution_count": null,
      "outputs": []
    },
    {
      "cell_type": "code",
      "metadata": {
        "id": "SVQrS8pGIZs3"
      },
      "source": [
        "#Customizing data visualization styles\n",
        "sns.set_theme(rc = {'figure.figsize': (12, 4)})"
      ],
      "execution_count": null,
      "outputs": []
    },
    {
      "cell_type": "code",
      "metadata": {
        "id": "-HkDAZnnIZs4"
      },
      "source": [
        "#Remove previous versions of excel file\n",
        "!rm 2021_j4_stops_tracker.xlsx"
      ],
      "execution_count": null,
      "outputs": []
    },
    {
      "cell_type": "code",
      "metadata": {
        "colab": {
          "resources": {
            "http://localhost:8080/nbextensions/google.colab/files.js": {
              "data": "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",
              "ok": true,
              "headers": [
                [
                  "content-type",
                  "application/javascript"
                ]
              ],
              "status": 200,
              "status_text": "OK"
            }
          },
          "base_uri": "https://localhost:8080/",
          "height": 73
        },
        "id": "j0nnx7KfIZs5",
        "outputId": "6213b872-cc13-4b5f-fa3c-00da91b4b54d"
      },
      "source": [
        "#Uploading file from local drive\n",
        "from google.colab import files\n",
        "uploaded6 = files.upload()"
      ],
      "execution_count": null,
      "outputs": [
        {
          "output_type": "display_data",
          "data": {
            "text/html": [
              "\n",
              "     <input type=\"file\" id=\"files-a26a220d-f858-4496-83bb-9bfe6060fa8c\" name=\"files[]\" multiple disabled\n",
              "        style=\"border:none\" />\n",
              "     <output id=\"result-a26a220d-f858-4496-83bb-9bfe6060fa8c\">\n",
              "      Upload widget is only available when the cell has been executed in the\n",
              "      current browser session. Please rerun this cell to enable.\n",
              "      </output>\n",
              "      <script src=\"/nbextensions/google.colab/files.js\"></script> "
            ],
            "text/plain": [
              "<IPython.core.display.HTML object>"
            ]
          },
          "metadata": {
            "tags": []
          }
        },
        {
          "output_type": "stream",
          "text": [
            "Saving 2021_j4_stops_tracker.xlsx to 2021_j4_stops_tracker (1).xlsx\n"
          ],
          "name": "stdout"
        }
      ]
    },
    {
      "cell_type": "code",
      "metadata": {
        "id": "dRj11_r7IZs7"
      },
      "source": [
        "#Storing dataset in a Pandas Dataframe\n",
        "import io\n",
        "df6 = pd.read_excel(io.BytesIO(uploaded6['2021_j4_stops_tracker.xlsx']), index_col='Date')"
      ],
      "execution_count": null,
      "outputs": []
    },
    {
      "cell_type": "code",
      "metadata": {
        "colab": {
          "base_uri": "https://localhost:8080/"
        },
        "id": "N50P2Gy7IZs8",
        "outputId": "e1d02f3b-3568-4e14-dbdc-ee7fa9ffa1ce"
      },
      "source": [
        "#Checking the dataframe info\n",
        "df6.info()"
      ],
      "execution_count": null,
      "outputs": [
        {
          "output_type": "stream",
          "text": [
            "<class 'pandas.core.frame.DataFrame'>\n",
            "DatetimeIndex: 513 entries, 2021-01-04 to 2021-06-14\n",
            "Data columns (total 12 columns):\n",
            " #   Column       Non-Null Count  Dtype  \n",
            "---  ------       --------------  -----  \n",
            " 0   Month        513 non-null    int64  \n",
            " 1   Shift        513 non-null    object \n",
            " 2   Group        513 non-null    object \n",
            " 3   Product      513 non-null    object \n",
            " 4   Format       513 non-null    object \n",
            " 5   Start        513 non-null    object \n",
            " 6   Last seen    513 non-null    object \n",
            " 7   Machine      513 non-null    object \n",
            " 8   Work Point   513 non-null    object \n",
            " 9   Min          513 non-null    float64\n",
            " 10  Observation  497 non-null    object \n",
            " 11  Solution     57 non-null     object \n",
            "dtypes: float64(1), int64(1), object(10)\n",
            "memory usage: 52.1+ KB\n"
          ],
          "name": "stdout"
        }
      ]
    },
    {
      "cell_type": "markdown",
      "metadata": {
        "id": "_ysfDs6HIZs9"
      },
      "source": [
        "## EDA monthly losses"
      ]
    },
    {
      "cell_type": "code",
      "metadata": {
        "colab": {
          "base_uri": "https://localhost:8080/"
        },
        "id": "mUPKWTuB5rN4",
        "outputId": "9fb00fa6-420d-4d40-83d4-934d7af7a7bc"
      },
      "source": [
        "#Slicing the dataframe to match the last month\n",
        "s = '2021-05-01'\n",
        "f = '2021-05-31'\n",
        "month = df6[s : f].copy()\n",
        "month.index[0], month.index[-1]"
      ],
      "execution_count": null,
      "outputs": [
        {
          "output_type": "execute_result",
          "data": {
            "text/plain": [
              "(Timestamp('2021-05-03 00:00:00'), Timestamp('2021-05-27 00:00:00'))"
            ]
          },
          "metadata": {
            "tags": []
          },
          "execution_count": 8
        }
      ]
    },
    {
      "cell_type": "code",
      "metadata": {
        "colab": {
          "base_uri": "https://localhost:8080/",
          "height": 203
        },
        "id": "ZpRaFSqMUsNP",
        "outputId": "87d76ecf-60d6-455b-dd54-9208b8d46898"
      },
      "source": [
        "#Reinserting the index back to columns and assigning the corresponding month\n",
        "month = month.reset_index()\n",
        "month = month.assign(Month = lambda x: x['Date'].dt.strftime('%B'))\n",
        "month.head()"
      ],
      "execution_count": null,
      "outputs": [
        {
          "output_type": "execute_result",
          "data": {
            "text/html": [
              "<div>\n",
              "<style scoped>\n",
              "    .dataframe tbody tr th:only-of-type {\n",
              "        vertical-align: middle;\n",
              "    }\n",
              "\n",
              "    .dataframe tbody tr th {\n",
              "        vertical-align: top;\n",
              "    }\n",
              "\n",
              "    .dataframe thead th {\n",
              "        text-align: right;\n",
              "    }\n",
              "</style>\n",
              "<table border=\"1\" class=\"dataframe\">\n",
              "  <thead>\n",
              "    <tr style=\"text-align: right;\">\n",
              "      <th></th>\n",
              "      <th>Date</th>\n",
              "      <th>Month</th>\n",
              "      <th>Shift</th>\n",
              "      <th>Group</th>\n",
              "      <th>Product</th>\n",
              "      <th>Format</th>\n",
              "      <th>Start</th>\n",
              "      <th>Last seen</th>\n",
              "      <th>Machine</th>\n",
              "      <th>Work Point</th>\n",
              "      <th>Min</th>\n",
              "      <th>Observation</th>\n",
              "      <th>Solution</th>\n",
              "    </tr>\n",
              "  </thead>\n",
              "  <tbody>\n",
              "    <tr>\n",
              "      <th>0</th>\n",
              "      <td>2021-05-03</td>\n",
              "      <td>May</td>\n",
              "      <td>Morning</td>\n",
              "      <td>Fylte</td>\n",
              "      <td>Smil</td>\n",
              "      <td>singel</td>\n",
              "      <td>11:00:00</td>\n",
              "      <td>15:00:00</td>\n",
              "      <td>Choco_process_area</td>\n",
              "      <td>5_Tempering_1</td>\n",
              "      <td>240.0</td>\n",
              "      <td>Temperging machine 1 warming problems</td>\n",
              "      <td>NaN</td>\n",
              "    </tr>\n",
              "    <tr>\n",
              "      <th>1</th>\n",
              "      <td>2021-05-03</td>\n",
              "      <td>May</td>\n",
              "      <td>Morning</td>\n",
              "      <td>Fylte</td>\n",
              "      <td>Smil</td>\n",
              "      <td>singel</td>\n",
              "      <td>15:00:00</td>\n",
              "      <td>15:05:00</td>\n",
              "      <td>Moulding_line</td>\n",
              "      <td>32_Mold_crash</td>\n",
              "      <td>5.0</td>\n",
              "      <td>Crash: 2.17A</td>\n",
              "      <td>NaN</td>\n",
              "    </tr>\n",
              "    <tr>\n",
              "      <th>2</th>\n",
              "      <td>2021-05-03</td>\n",
              "      <td>May</td>\n",
              "      <td>Afternoon</td>\n",
              "      <td>Fylte</td>\n",
              "      <td>Smil</td>\n",
              "      <td>singel</td>\n",
              "      <td>15:25:00</td>\n",
              "      <td>15:35:00</td>\n",
              "      <td>Moulding_line</td>\n",
              "      <td>32_Mold_crash</td>\n",
              "      <td>10.0</td>\n",
              "      <td>Crash: 2.3A</td>\n",
              "      <td>NaN</td>\n",
              "    </tr>\n",
              "    <tr>\n",
              "      <th>3</th>\n",
              "      <td>2021-05-03</td>\n",
              "      <td>May</td>\n",
              "      <td>Afternoon</td>\n",
              "      <td>Fylte</td>\n",
              "      <td>Smil</td>\n",
              "      <td>singel</td>\n",
              "      <td>19:00:00</td>\n",
              "      <td>20:20:00</td>\n",
              "      <td>Moulding_line</td>\n",
              "      <td>32_Mold_crash</td>\n",
              "      <td>80.0</td>\n",
              "      <td>Crash: 1.3A</td>\n",
              "      <td>NaN</td>\n",
              "    </tr>\n",
              "    <tr>\n",
              "      <th>4</th>\n",
              "      <td>2021-05-03</td>\n",
              "      <td>May</td>\n",
              "      <td>Afternoon</td>\n",
              "      <td>Fylte</td>\n",
              "      <td>Smil</td>\n",
              "      <td>singel</td>\n",
              "      <td>16:00:00</td>\n",
              "      <td>18:00:00</td>\n",
              "      <td>Packaging_machine_1</td>\n",
              "      <td>17_1_Minor_stoppages</td>\n",
              "      <td>57.0</td>\n",
              "      <td>Packaging machine is not 100%</td>\n",
              "      <td>NaN</td>\n",
              "    </tr>\n",
              "  </tbody>\n",
              "</table>\n",
              "</div>"
            ],
            "text/plain": [
              "        Date Month  ...                            Observation Solution\n",
              "0 2021-05-03   May  ...  Temperging machine 1 warming problems      NaN\n",
              "1 2021-05-03   May  ...                           Crash: 2.17A      NaN\n",
              "2 2021-05-03   May  ...                            Crash: 2.3A      NaN\n",
              "3 2021-05-03   May  ...                            Crash: 1.3A      NaN\n",
              "4 2021-05-03   May  ...          Packaging machine is not 100%      NaN\n",
              "\n",
              "[5 rows x 13 columns]"
            ]
          },
          "metadata": {
            "tags": []
          },
          "execution_count": 9
        }
      ]
    },
    {
      "cell_type": "code",
      "metadata": {
        "colab": {
          "base_uri": "https://localhost:8080/",
          "height": 203
        },
        "id": "GlFvFNJ3IZs_",
        "outputId": "5ee1abd7-f27c-4e2e-9f61-360fdfbd7c86"
      },
      "source": [
        "#Groupying by machine and workpoint and computing percentage column\n",
        "group = month.groupby(['Month', 'Machine', 'Work Point']).agg({'Min':'sum'}).reset_index()\n",
        "group = group.assign(Perc = lambda x: round((x['Min']/x['Min'].sum())*100, 2))\n",
        "group.head()"
      ],
      "execution_count": null,
      "outputs": [
        {
          "output_type": "execute_result",
          "data": {
            "text/html": [
              "<div>\n",
              "<style scoped>\n",
              "    .dataframe tbody tr th:only-of-type {\n",
              "        vertical-align: middle;\n",
              "    }\n",
              "\n",
              "    .dataframe tbody tr th {\n",
              "        vertical-align: top;\n",
              "    }\n",
              "\n",
              "    .dataframe thead th {\n",
              "        text-align: right;\n",
              "    }\n",
              "</style>\n",
              "<table border=\"1\" class=\"dataframe\">\n",
              "  <thead>\n",
              "    <tr style=\"text-align: right;\">\n",
              "      <th></th>\n",
              "      <th>Month</th>\n",
              "      <th>Machine</th>\n",
              "      <th>Work Point</th>\n",
              "      <th>Min</th>\n",
              "      <th>Perc</th>\n",
              "    </tr>\n",
              "  </thead>\n",
              "  <tbody>\n",
              "    <tr>\n",
              "      <th>0</th>\n",
              "      <td>May</td>\n",
              "      <td>Choco_process_area</td>\n",
              "      <td>5_Tempering_1</td>\n",
              "      <td>720.0</td>\n",
              "      <td>18.10</td>\n",
              "    </tr>\n",
              "    <tr>\n",
              "      <th>1</th>\n",
              "      <td>May</td>\n",
              "      <td>Choco_process_area</td>\n",
              "      <td>7_Ingredients_platform</td>\n",
              "      <td>80.0</td>\n",
              "      <td>2.01</td>\n",
              "    </tr>\n",
              "    <tr>\n",
              "      <th>2</th>\n",
              "      <td>May</td>\n",
              "      <td>Moulding_line</td>\n",
              "      <td>17_Depositing_2_caramel</td>\n",
              "      <td>51.0</td>\n",
              "      <td>1.28</td>\n",
              "    </tr>\n",
              "    <tr>\n",
              "      <th>3</th>\n",
              "      <td>May</td>\n",
              "      <td>Moulding_line</td>\n",
              "      <td>27_Knocking_1</td>\n",
              "      <td>110.0</td>\n",
              "      <td>2.76</td>\n",
              "    </tr>\n",
              "    <tr>\n",
              "      <th>4</th>\n",
              "      <td>May</td>\n",
              "      <td>Moulding_line</td>\n",
              "      <td>32_Mold_crash</td>\n",
              "      <td>200.0</td>\n",
              "      <td>5.03</td>\n",
              "    </tr>\n",
              "  </tbody>\n",
              "</table>\n",
              "</div>"
            ],
            "text/plain": [
              "  Month             Machine               Work Point    Min   Perc\n",
              "0   May  Choco_process_area            5_Tempering_1  720.0  18.10\n",
              "1   May  Choco_process_area   7_Ingredients_platform   80.0   2.01\n",
              "2   May       Moulding_line  17_Depositing_2_caramel   51.0   1.28\n",
              "3   May       Moulding_line            27_Knocking_1  110.0   2.76\n",
              "4   May       Moulding_line            32_Mold_crash  200.0   5.03"
            ]
          },
          "metadata": {
            "tags": []
          },
          "execution_count": 12
        }
      ]
    },
    {
      "cell_type": "code",
      "metadata": {
        "id": "XWHPlhLx6Uc2",
        "colab": {
          "base_uri": "https://localhost:8080/"
        },
        "outputId": "fd38099c-400e-4ce1-fcb7-e92e34b87909"
      },
      "source": [
        "#Get the sum of all the losses\n",
        "print(f\"Minutes lost: {group.Min.sum()}\")"
      ],
      "execution_count": null,
      "outputs": [
        {
          "output_type": "stream",
          "text": [
            "Minutes lost: 3978.4515186081135\n"
          ],
          "name": "stdout"
        }
      ]
    },
    {
      "cell_type": "code",
      "metadata": {
        "colab": {
          "base_uri": "https://localhost:8080/",
          "height": 17
        },
        "id": "0CMZ2gtTIZtD",
        "outputId": "cfc35e55-5c51-4f7c-ac2c-105e9ad58a86"
      },
      "source": [
        "#Exporting to excel into local disk\n",
        "from google.colab import files\n",
        "group.to_excel('2021_05_j4_losses.xlsx', index=False) #==>  Exclude index on created file.\n",
        "files.download('2021_05_j4_losses.xlsx')"
      ],
      "execution_count": null,
      "outputs": [
        {
          "output_type": "display_data",
          "data": {
            "application/javascript": [
              "\n",
              "    async function download(id, filename, size) {\n",
              "      if (!google.colab.kernel.accessAllowed) {\n",
              "        return;\n",
              "      }\n",
              "      const div = document.createElement('div');\n",
              "      const label = document.createElement('label');\n",
              "      label.textContent = `Downloading \"${filename}\": `;\n",
              "      div.appendChild(label);\n",
              "      const progress = document.createElement('progress');\n",
              "      progress.max = size;\n",
              "      div.appendChild(progress);\n",
              "      document.body.appendChild(div);\n",
              "\n",
              "      const buffers = [];\n",
              "      let downloaded = 0;\n",
              "\n",
              "      const channel = await google.colab.kernel.comms.open(id);\n",
              "      // Send a message to notify the kernel that we're ready.\n",
              "      channel.send({})\n",
              "\n",
              "      for await (const message of channel.messages) {\n",
              "        // Send a message to notify the kernel that we're ready.\n",
              "        channel.send({})\n",
              "        if (message.buffers) {\n",
              "          for (const buffer of message.buffers) {\n",
              "            buffers.push(buffer);\n",
              "            downloaded += buffer.byteLength;\n",
              "            progress.value = downloaded;\n",
              "          }\n",
              "        }\n",
              "      }\n",
              "      const blob = new Blob(buffers, {type: 'application/binary'});\n",
              "      const a = document.createElement('a');\n",
              "      a.href = window.URL.createObjectURL(blob);\n",
              "      a.download = filename;\n",
              "      div.appendChild(a);\n",
              "      a.click();\n",
              "      div.remove();\n",
              "    }\n",
              "  "
            ],
            "text/plain": [
              "<IPython.core.display.Javascript object>"
            ]
          },
          "metadata": {
            "tags": []
          }
        },
        {
          "output_type": "display_data",
          "data": {
            "application/javascript": [
              "download(\"download_1a208087-4a0b-456c-8186-a9dab5d1e3ea\", \"2021_05_j4_losses.xlsx\", 5820)"
            ],
            "text/plain": [
              "<IPython.core.display.Javascript object>"
            ]
          },
          "metadata": {
            "tags": []
          }
        }
      ]
    }
  ]
}