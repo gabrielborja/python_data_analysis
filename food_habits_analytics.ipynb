{
  "nbformat": 4,
  "nbformat_minor": 0,
  "metadata": {
    "colab": {
      "name": "food_habits_analytics.ipynb",
      "provenance": [],
      "authorship_tag": "ABX9TyOC6+0Kr10VjadfYbof2zt8",
      "include_colab_link": true
    },
    "kernelspec": {
      "name": "python3",
      "display_name": "Python 3"
    },
    "language_info": {
      "name": "python"
    }
  },
  "cells": [
    {
      "cell_type": "markdown",
      "metadata": {
        "id": "view-in-github",
        "colab_type": "text"
      },
      "source": [
        "<a href=\"https://colab.research.google.com/github/gabrielborja/python_data_analysis/blob/main/food_habits_analytics.ipynb\" target=\"_parent\"><img src=\"https://colab.research.google.com/assets/colab-badge.svg\" alt=\"Open In Colab\"/></a>"
      ]
    },
    {
      "cell_type": "markdown",
      "metadata": {
        "id": "eTZwpRZNRhGY"
      },
      "source": [
        "# Food habits analytics"
      ]
    },
    {
      "cell_type": "markdown",
      "metadata": {
        "id": "sgzkv1LwjLIL"
      },
      "source": [
        "## Uploading packages and data"
      ]
    },
    {
      "cell_type": "code",
      "metadata": {
        "id": "QTRtRZcb-IyF"
      },
      "source": [
        "#Importing necessary packages\n",
        "import numpy as np\n",
        "import pandas as pd"
      ],
      "execution_count": 1,
      "outputs": []
    },
    {
      "cell_type": "code",
      "metadata": {
        "id": "oen97ED1-rh-",
        "colab": {
          "base_uri": "https://localhost:8080/",
          "height": 143
        },
        "outputId": "0bfc3f1b-7570-4d5b-f317-cdaf36af38f9"
      },
      "source": [
        "#Uploading google sheet data from drive\n",
        "from google.colab import auth\n",
        "auth.authenticate_user()\n",
        "\n",
        "import gspread\n",
        "from oauth2client.client import GoogleCredentials\n",
        "\n",
        "gc = gspread.authorize(GoogleCredentials.get_application_default())\n",
        "\n",
        "#Loading dataset from google sheet\n",
        "wb1 = gc.open('food_habits')\n",
        "ws1_data = wb1.sheet1\n",
        "records_1 = ws1_data.get_all_records()\n",
        "\n",
        "# Converting to a Pandas DataFrame\n",
        "df1 = pd.DataFrame.from_records(records_1)\n",
        "df1.tail(3)"
      ],
      "execution_count": 2,
      "outputs": [
        {
          "output_type": "execute_result",
          "data": {
            "text/html": [
              "<div>\n",
              "<style scoped>\n",
              "    .dataframe tbody tr th:only-of-type {\n",
              "        vertical-align: middle;\n",
              "    }\n",
              "\n",
              "    .dataframe tbody tr th {\n",
              "        vertical-align: top;\n",
              "    }\n",
              "\n",
              "    .dataframe thead th {\n",
              "        text-align: right;\n",
              "    }\n",
              "</style>\n",
              "<table border=\"1\" class=\"dataframe\">\n",
              "  <thead>\n",
              "    <tr style=\"text-align: right;\">\n",
              "      <th></th>\n",
              "      <th>date</th>\n",
              "      <th>time</th>\n",
              "      <th>food</th>\n",
              "      <th>large_meal</th>\n",
              "      <th>ache</th>\n",
              "      <th>event</th>\n",
              "    </tr>\n",
              "  </thead>\n",
              "  <tbody>\n",
              "    <tr>\n",
              "      <th>86</th>\n",
              "      <td>2021-11-24 00:00:00</td>\n",
              "      <td>19:30</td>\n",
              "      <td>coffee, ham, bread, cheese, milk, salt_cookie,...</td>\n",
              "      <td>1</td>\n",
              "      <td>1</td>\n",
              "      <td>2021-11-24 19:30:00</td>\n",
              "    </tr>\n",
              "    <tr>\n",
              "      <th>87</th>\n",
              "      <td>2021-12-01 00:00:00</td>\n",
              "      <td>17:30</td>\n",
              "      <td>yogurt, oat, milk, pear, honey, raisins, bread...</td>\n",
              "      <td>1</td>\n",
              "      <td>1</td>\n",
              "      <td>2021-12-01 17:30:00</td>\n",
              "    </tr>\n",
              "    <tr>\n",
              "      <th>88</th>\n",
              "      <td>2021-12-08 00:00:00</td>\n",
              "      <td>19:40</td>\n",
              "      <td>yogurt, oat, milk, pear, honey, raisins, bread...</td>\n",
              "      <td>1</td>\n",
              "      <td>1</td>\n",
              "      <td>2021-12-08 19:40:00</td>\n",
              "    </tr>\n",
              "  </tbody>\n",
              "</table>\n",
              "</div>"
            ],
            "text/plain": [
              "                   date   time  ... ache                event\n",
              "86  2021-11-24 00:00:00  19:30  ...    1  2021-11-24 19:30:00\n",
              "87  2021-12-01 00:00:00  17:30  ...    1  2021-12-01 17:30:00\n",
              "88  2021-12-08 00:00:00  19:40  ...    1  2021-12-08 19:40:00\n",
              "\n",
              "[3 rows x 6 columns]"
            ]
          },
          "metadata": {},
          "execution_count": 2
        }
      ]
    },
    {
      "cell_type": "code",
      "metadata": {
        "colab": {
          "base_uri": "https://localhost:8080/"
        },
        "id": "-_RIDGJurxGe",
        "outputId": "40192f90-cf8e-4e65-f619-3d26fa895347"
      },
      "source": [
        "#Checking the dataframe info\n",
        "df1.info()"
      ],
      "execution_count": 3,
      "outputs": [
        {
          "output_type": "stream",
          "name": "stdout",
          "text": [
            "<class 'pandas.core.frame.DataFrame'>\n",
            "RangeIndex: 89 entries, 0 to 88\n",
            "Data columns (total 6 columns):\n",
            " #   Column      Non-Null Count  Dtype \n",
            "---  ------      --------------  ----- \n",
            " 0   date        89 non-null     object\n",
            " 1   time        89 non-null     object\n",
            " 2   food        89 non-null     object\n",
            " 3   large_meal  89 non-null     int64 \n",
            " 4   ache        89 non-null     int64 \n",
            " 5   event       89 non-null     object\n",
            "dtypes: int64(2), object(4)\n",
            "memory usage: 4.3+ KB\n"
          ]
        }
      ]
    },
    {
      "cell_type": "markdown",
      "metadata": {
        "id": "XcMODXQNx0mo"
      },
      "source": [
        "##Data Manipulation"
      ]
    },
    {
      "cell_type": "code",
      "source": [
        "#Converting date columns to datetime objects\n",
        "df1['date'] = pd.to_datetime(df1['date'], format='%Y-%m-%d %H:%M:%S')\n",
        "df1['event'] = pd.to_datetime(df1['event'], format='%Y-%m-%d %H:%M:%S')"
      ],
      "metadata": {
        "id": "W9HncnVSUS53"
      },
      "execution_count": 4,
      "outputs": []
    },
    {
      "cell_type": "code",
      "metadata": {
        "id": "p7o3rUk18tXB",
        "colab": {
          "base_uri": "https://localhost:8080/",
          "height": 143
        },
        "outputId": "11272de5-63ec-477d-e466-b15c05e800e6"
      },
      "source": [
        "#Extracting year, month, day of the week, hour and count of ingredients\n",
        "df1 = df1.assign(year = df1['event'].dt.year,\n",
        "                 month = df1['event'].dt.month,\n",
        "                 day = df1['event'].dt.dayofweek,\n",
        "                 hour = df1['event'].dt.hour,\n",
        "                 ing_count = [len(i.split(', ')) for i in df1['food']])\n",
        "df1.tail(3)"
      ],
      "execution_count": 5,
      "outputs": [
        {
          "output_type": "execute_result",
          "data": {
            "text/html": [
              "<div>\n",
              "<style scoped>\n",
              "    .dataframe tbody tr th:only-of-type {\n",
              "        vertical-align: middle;\n",
              "    }\n",
              "\n",
              "    .dataframe tbody tr th {\n",
              "        vertical-align: top;\n",
              "    }\n",
              "\n",
              "    .dataframe thead th {\n",
              "        text-align: right;\n",
              "    }\n",
              "</style>\n",
              "<table border=\"1\" class=\"dataframe\">\n",
              "  <thead>\n",
              "    <tr style=\"text-align: right;\">\n",
              "      <th></th>\n",
              "      <th>date</th>\n",
              "      <th>time</th>\n",
              "      <th>food</th>\n",
              "      <th>large_meal</th>\n",
              "      <th>ache</th>\n",
              "      <th>event</th>\n",
              "      <th>year</th>\n",
              "      <th>month</th>\n",
              "      <th>day</th>\n",
              "      <th>hour</th>\n",
              "      <th>ing_count</th>\n",
              "    </tr>\n",
              "  </thead>\n",
              "  <tbody>\n",
              "    <tr>\n",
              "      <th>86</th>\n",
              "      <td>2021-11-24</td>\n",
              "      <td>19:30</td>\n",
              "      <td>coffee, ham, bread, cheese, milk, salt_cookie,...</td>\n",
              "      <td>1</td>\n",
              "      <td>1</td>\n",
              "      <td>2021-11-24 19:30:00</td>\n",
              "      <td>2021</td>\n",
              "      <td>11</td>\n",
              "      <td>2</td>\n",
              "      <td>19</td>\n",
              "      <td>11</td>\n",
              "    </tr>\n",
              "    <tr>\n",
              "      <th>87</th>\n",
              "      <td>2021-12-01</td>\n",
              "      <td>17:30</td>\n",
              "      <td>yogurt, oat, milk, pear, honey, raisins, bread...</td>\n",
              "      <td>1</td>\n",
              "      <td>1</td>\n",
              "      <td>2021-12-01 17:30:00</td>\n",
              "      <td>2021</td>\n",
              "      <td>12</td>\n",
              "      <td>2</td>\n",
              "      <td>17</td>\n",
              "      <td>12</td>\n",
              "    </tr>\n",
              "    <tr>\n",
              "      <th>88</th>\n",
              "      <td>2021-12-08</td>\n",
              "      <td>19:40</td>\n",
              "      <td>yogurt, oat, milk, pear, honey, raisins, bread...</td>\n",
              "      <td>1</td>\n",
              "      <td>1</td>\n",
              "      <td>2021-12-08 19:40:00</td>\n",
              "      <td>2021</td>\n",
              "      <td>12</td>\n",
              "      <td>2</td>\n",
              "      <td>19</td>\n",
              "      <td>19</td>\n",
              "    </tr>\n",
              "  </tbody>\n",
              "</table>\n",
              "</div>"
            ],
            "text/plain": [
              "         date   time  ... hour  ing_count\n",
              "86 2021-11-24  19:30  ...   19         11\n",
              "87 2021-12-01  17:30  ...   17         12\n",
              "88 2021-12-08  19:40  ...   19         19\n",
              "\n",
              "[3 rows x 11 columns]"
            ]
          },
          "metadata": {},
          "execution_count": 5
        }
      ]
    },
    {
      "cell_type": "code",
      "metadata": {
        "colab": {
          "base_uri": "https://localhost:8080/",
          "height": 112
        },
        "id": "g_-OoEbO-ciL",
        "outputId": "56f605d5-4b5b-4e25-9f78-eee032118e5f"
      },
      "source": [
        "#Filtering the dataframe (drop Jan-2021) and assigning categories for 2021 where stomach ache appeared\n",
        "df1_2021 = df1[(df1['year']==2021) & (df1['ache']==1)].reset_index(drop=True)\n",
        "df1_2021 = df1_2021.assign(cat = np.where(df1_2021['month']<6, 'milk_diet', 'lactose_free'))\n",
        "df1_2021.tail(2)"
      ],
      "execution_count": 6,
      "outputs": [
        {
          "output_type": "execute_result",
          "data": {
            "text/html": [
              "<div>\n",
              "<style scoped>\n",
              "    .dataframe tbody tr th:only-of-type {\n",
              "        vertical-align: middle;\n",
              "    }\n",
              "\n",
              "    .dataframe tbody tr th {\n",
              "        vertical-align: top;\n",
              "    }\n",
              "\n",
              "    .dataframe thead th {\n",
              "        text-align: right;\n",
              "    }\n",
              "</style>\n",
              "<table border=\"1\" class=\"dataframe\">\n",
              "  <thead>\n",
              "    <tr style=\"text-align: right;\">\n",
              "      <th></th>\n",
              "      <th>date</th>\n",
              "      <th>time</th>\n",
              "      <th>food</th>\n",
              "      <th>large_meal</th>\n",
              "      <th>ache</th>\n",
              "      <th>event</th>\n",
              "      <th>year</th>\n",
              "      <th>month</th>\n",
              "      <th>day</th>\n",
              "      <th>hour</th>\n",
              "      <th>ing_count</th>\n",
              "      <th>cat</th>\n",
              "    </tr>\n",
              "  </thead>\n",
              "  <tbody>\n",
              "    <tr>\n",
              "      <th>40</th>\n",
              "      <td>2021-12-01</td>\n",
              "      <td>17:30</td>\n",
              "      <td>yogurt, oat, milk, pear, honey, raisins, bread...</td>\n",
              "      <td>1</td>\n",
              "      <td>1</td>\n",
              "      <td>2021-12-01 17:30:00</td>\n",
              "      <td>2021</td>\n",
              "      <td>12</td>\n",
              "      <td>2</td>\n",
              "      <td>17</td>\n",
              "      <td>12</td>\n",
              "      <td>lactose_free</td>\n",
              "    </tr>\n",
              "    <tr>\n",
              "      <th>41</th>\n",
              "      <td>2021-12-08</td>\n",
              "      <td>19:40</td>\n",
              "      <td>yogurt, oat, milk, pear, honey, raisins, bread...</td>\n",
              "      <td>1</td>\n",
              "      <td>1</td>\n",
              "      <td>2021-12-08 19:40:00</td>\n",
              "      <td>2021</td>\n",
              "      <td>12</td>\n",
              "      <td>2</td>\n",
              "      <td>19</td>\n",
              "      <td>19</td>\n",
              "      <td>lactose_free</td>\n",
              "    </tr>\n",
              "  </tbody>\n",
              "</table>\n",
              "</div>"
            ],
            "text/plain": [
              "         date   time  ... ing_count           cat\n",
              "40 2021-12-01  17:30  ...        12  lactose_free\n",
              "41 2021-12-08  19:40  ...        19  lactose_free\n",
              "\n",
              "[2 rows x 12 columns]"
            ]
          },
          "metadata": {},
          "execution_count": 6
        }
      ]
    },
    {
      "cell_type": "code",
      "metadata": {
        "colab": {
          "base_uri": "https://localhost:8080/",
          "height": 196
        },
        "id": "-fpQS71tjgif",
        "outputId": "748819b4-380c-4c2e-dbdf-a6889abf2218"
      },
      "source": [
        "#Calculating range of days between events and converting to int (days)\n",
        "df1_2021 = df1_2021.assign(date_2 = df1_2021['date'].shift(fill_value=np.nan))\n",
        "df1_2021 = df1_2021.assign(num_of_days = (df1_2021['date'] - df1_2021['date_2']))\n",
        "df1_2021 = df1_2021.assign(num_of_days = df1_2021['num_of_days'].replace(np.nan, 0))\n",
        "df1_2021 = df1_2021.assign(num_of_days = (df1_2021['num_of_days'].astype(int))/8.64e+13) #==> Converting from ns to days\n",
        "df1_2021.tail(3)"
      ],
      "execution_count": 7,
      "outputs": [
        {
          "output_type": "execute_result",
          "data": {
            "text/html": [
              "<div>\n",
              "<style scoped>\n",
              "    .dataframe tbody tr th:only-of-type {\n",
              "        vertical-align: middle;\n",
              "    }\n",
              "\n",
              "    .dataframe tbody tr th {\n",
              "        vertical-align: top;\n",
              "    }\n",
              "\n",
              "    .dataframe thead th {\n",
              "        text-align: right;\n",
              "    }\n",
              "</style>\n",
              "<table border=\"1\" class=\"dataframe\">\n",
              "  <thead>\n",
              "    <tr style=\"text-align: right;\">\n",
              "      <th></th>\n",
              "      <th>date</th>\n",
              "      <th>time</th>\n",
              "      <th>food</th>\n",
              "      <th>large_meal</th>\n",
              "      <th>ache</th>\n",
              "      <th>event</th>\n",
              "      <th>year</th>\n",
              "      <th>month</th>\n",
              "      <th>day</th>\n",
              "      <th>hour</th>\n",
              "      <th>ing_count</th>\n",
              "      <th>cat</th>\n",
              "      <th>date_2</th>\n",
              "      <th>num_of_days</th>\n",
              "    </tr>\n",
              "  </thead>\n",
              "  <tbody>\n",
              "    <tr>\n",
              "      <th>39</th>\n",
              "      <td>2021-11-24</td>\n",
              "      <td>19:30</td>\n",
              "      <td>coffee, ham, bread, cheese, milk, salt_cookie,...</td>\n",
              "      <td>1</td>\n",
              "      <td>1</td>\n",
              "      <td>2021-11-24 19:30:00</td>\n",
              "      <td>2021</td>\n",
              "      <td>11</td>\n",
              "      <td>2</td>\n",
              "      <td>19</td>\n",
              "      <td>11</td>\n",
              "      <td>lactose_free</td>\n",
              "      <td>2021-10-14</td>\n",
              "      <td>41.0</td>\n",
              "    </tr>\n",
              "    <tr>\n",
              "      <th>40</th>\n",
              "      <td>2021-12-01</td>\n",
              "      <td>17:30</td>\n",
              "      <td>yogurt, oat, milk, pear, honey, raisins, bread...</td>\n",
              "      <td>1</td>\n",
              "      <td>1</td>\n",
              "      <td>2021-12-01 17:30:00</td>\n",
              "      <td>2021</td>\n",
              "      <td>12</td>\n",
              "      <td>2</td>\n",
              "      <td>17</td>\n",
              "      <td>12</td>\n",
              "      <td>lactose_free</td>\n",
              "      <td>2021-11-24</td>\n",
              "      <td>7.0</td>\n",
              "    </tr>\n",
              "    <tr>\n",
              "      <th>41</th>\n",
              "      <td>2021-12-08</td>\n",
              "      <td>19:40</td>\n",
              "      <td>yogurt, oat, milk, pear, honey, raisins, bread...</td>\n",
              "      <td>1</td>\n",
              "      <td>1</td>\n",
              "      <td>2021-12-08 19:40:00</td>\n",
              "      <td>2021</td>\n",
              "      <td>12</td>\n",
              "      <td>2</td>\n",
              "      <td>19</td>\n",
              "      <td>19</td>\n",
              "      <td>lactose_free</td>\n",
              "      <td>2021-12-01</td>\n",
              "      <td>7.0</td>\n",
              "    </tr>\n",
              "  </tbody>\n",
              "</table>\n",
              "</div>"
            ],
            "text/plain": [
              "         date   time  ...     date_2  num_of_days\n",
              "39 2021-11-24  19:30  ... 2021-10-14         41.0\n",
              "40 2021-12-01  17:30  ... 2021-11-24          7.0\n",
              "41 2021-12-08  19:40  ... 2021-12-01          7.0\n",
              "\n",
              "[3 rows x 14 columns]"
            ]
          },
          "metadata": {},
          "execution_count": 7
        }
      ]
    },
    {
      "cell_type": "code",
      "source": [
        "#Calculating porcentage of change between stomach ache events\n",
        "df1_2021 = df1_2021.assign(pct_days = df1_2021['num_of_days'].pct_change())\n",
        "df1_2021 = df1_2021.assign(pct_days = df1_2021['pct_days'].replace(np.nan, 0))"
      ],
      "metadata": {
        "id": "ojwL5uucfSI_"
      },
      "execution_count": 25,
      "outputs": []
    },
    {
      "cell_type": "code",
      "source": [
        "#Replacing int days for name days\n",
        "days_dict = {0: 'Mon', 1:'Tue', 2:'Wed', 3:'Thu', 4:'Fri', 5:'Sat', 6:'Sun'}\n",
        "df1_2021['day'] = df1_2021['day'].replace(to_replace=days_dict)"
      ],
      "metadata": {
        "id": "HFzT0SHLX0YD"
      },
      "execution_count": 8,
      "outputs": []
    },
    {
      "cell_type": "code",
      "source": [
        "#Counting the proportion of stomach aches by the day of the week\n",
        "df1_2021['day'].value_counts(normalize=True)"
      ],
      "metadata": {
        "colab": {
          "base_uri": "https://localhost:8080/"
        },
        "id": "OnLaMdxxZANN",
        "outputId": "0180e200-62bb-4b5b-e3c7-2e78325a418e"
      },
      "execution_count": 9,
      "outputs": [
        {
          "output_type": "execute_result",
          "data": {
            "text/plain": [
              "Fri    0.238095\n",
              "Sun    0.214286\n",
              "Thu    0.142857\n",
              "Wed    0.142857\n",
              "Tue    0.119048\n",
              "Mon    0.071429\n",
              "Sat    0.071429\n",
              "Name: day, dtype: float64"
            ]
          },
          "metadata": {},
          "execution_count": 9
        }
      ]
    },
    {
      "cell_type": "code",
      "source": [
        "#Counting the proportion of stomach aches by hour of the day\n",
        "df1_2021['hour'].value_counts(normalize=True)"
      ],
      "metadata": {
        "colab": {
          "base_uri": "https://localhost:8080/"
        },
        "id": "lB4XswxyaEdF",
        "outputId": "1570ffcb-8d70-4cce-aa36-ffd338c07838"
      },
      "execution_count": 12,
      "outputs": [
        {
          "output_type": "execute_result",
          "data": {
            "text/plain": [
              "17    0.214286\n",
              "19    0.190476\n",
              "21    0.119048\n",
              "18    0.119048\n",
              "20    0.095238\n",
              "2     0.071429\n",
              "22    0.047619\n",
              "16    0.047619\n",
              "15    0.023810\n",
              "14    0.023810\n",
              "13    0.023810\n",
              "7     0.023810\n",
              "Name: hour, dtype: float64"
            ]
          },
          "metadata": {},
          "execution_count": 12
        }
      ]
    },
    {
      "cell_type": "code",
      "metadata": {
        "colab": {
          "base_uri": "https://localhost:8080/"
        },
        "id": "iYhftSvvGwyp",
        "outputId": "65f4cfff-c3f0-487b-f843-4fc10044eeb7"
      },
      "source": [
        "#Transforming aching meals into list\n",
        "ache_1 = df1[df1['ache']==1]['food'].str.cat(sep=', ').split(\", \")\n",
        "ache_1[:5]"
      ],
      "execution_count": 13,
      "outputs": [
        {
          "output_type": "execute_result",
          "data": {
            "text/plain": [
              "['bread', 'pepperoni', 'ham', 'cheese', 'ricotta']"
            ]
          },
          "metadata": {},
          "execution_count": 13
        }
      ]
    },
    {
      "cell_type": "code",
      "metadata": {
        "colab": {
          "base_uri": "https://localhost:8080/"
        },
        "id": "pQPl8o8fGwyr",
        "outputId": "3ea23b5f-442c-4bec-fc6c-3924efd166e2"
      },
      "source": [
        "#Building a dictionary of occurrences for each food\n",
        "import collections\n",
        "ache_occurrences = collections.Counter(ache_1)\n",
        "ache_occurrences.get('bread')"
      ],
      "execution_count": 14,
      "outputs": [
        {
          "output_type": "execute_result",
          "data": {
            "text/plain": [
              "20"
            ]
          },
          "metadata": {},
          "execution_count": 14
        }
      ]
    },
    {
      "cell_type": "code",
      "metadata": {
        "colab": {
          "base_uri": "https://localhost:8080/"
        },
        "id": "5CrC7gi2Gwyr",
        "outputId": "6b825119-6e3c-4c79-96df-402199262cd9"
      },
      "source": [
        "#Transforming list of aching meals into series\n",
        "ache_meal_1 = pd.Series(data=ache_1)\n",
        "ache_meal_1.tail()"
      ],
      "execution_count": 15,
      "outputs": [
        {
          "output_type": "execute_result",
          "data": {
            "text/plain": [
              "726            rice\n",
              "727         carrots\n",
              "728          tomato\n",
              "729         popcorn\n",
              "730    potato_chips\n",
              "dtype: object"
            ]
          },
          "metadata": {},
          "execution_count": 15
        }
      ]
    },
    {
      "cell_type": "code",
      "metadata": {
        "colab": {
          "base_uri": "https://localhost:8080/",
          "height": 206
        },
        "id": "qYDTaA_KGwys",
        "outputId": "1d5d1337-5608-45a4-8fb3-5148b0b0667c"
      },
      "source": [
        "#Counting top foods in diet\n",
        "ache_meal_1 = ache_meal_1.value_counts().reset_index(name='count').rename(columns={'index':'food'})\n",
        "ache_meal_1.head()"
      ],
      "execution_count": 16,
      "outputs": [
        {
          "output_type": "execute_result",
          "data": {
            "text/html": [
              "<div>\n",
              "<style scoped>\n",
              "    .dataframe tbody tr th:only-of-type {\n",
              "        vertical-align: middle;\n",
              "    }\n",
              "\n",
              "    .dataframe tbody tr th {\n",
              "        vertical-align: top;\n",
              "    }\n",
              "\n",
              "    .dataframe thead th {\n",
              "        text-align: right;\n",
              "    }\n",
              "</style>\n",
              "<table border=\"1\" class=\"dataframe\">\n",
              "  <thead>\n",
              "    <tr style=\"text-align: right;\">\n",
              "      <th></th>\n",
              "      <th>food</th>\n",
              "      <th>count</th>\n",
              "    </tr>\n",
              "  </thead>\n",
              "  <tbody>\n",
              "    <tr>\n",
              "      <th>0</th>\n",
              "      <td>cheese</td>\n",
              "      <td>32</td>\n",
              "    </tr>\n",
              "    <tr>\n",
              "      <th>1</th>\n",
              "      <td>rice</td>\n",
              "      <td>29</td>\n",
              "    </tr>\n",
              "    <tr>\n",
              "      <th>2</th>\n",
              "      <td>chocolate</td>\n",
              "      <td>20</td>\n",
              "    </tr>\n",
              "    <tr>\n",
              "      <th>3</th>\n",
              "      <td>bread</td>\n",
              "      <td>20</td>\n",
              "    </tr>\n",
              "    <tr>\n",
              "      <th>4</th>\n",
              "      <td>onion</td>\n",
              "      <td>20</td>\n",
              "    </tr>\n",
              "  </tbody>\n",
              "</table>\n",
              "</div>"
            ],
            "text/plain": [
              "        food  count\n",
              "0     cheese     32\n",
              "1       rice     29\n",
              "2  chocolate     20\n",
              "3      bread     20\n",
              "4      onion     20"
            ]
          },
          "metadata": {},
          "execution_count": 16
        }
      ]
    },
    {
      "cell_type": "code",
      "metadata": {
        "id": "InUi_lSAO7my",
        "colab": {
          "base_uri": "https://localhost:8080/",
          "height": 34
        },
        "outputId": "8673c3c5-ebcc-47ec-e65c-be7185b5d9c6"
      },
      "source": [
        "#Exporting to excel into local disk\n",
        "#from google.colab import files\n",
        "#ache_meal_1.to_excel('food_count.xlsx', index=False) #==> Excluding index from file\n",
        "#files.download('food_count.xlsx')"
      ],
      "execution_count": null,
      "outputs": [
        {
          "output_type": "display_data",
          "data": {
            "application/javascript": [
              "\n",
              "    async function download(id, filename, size) {\n",
              "      if (!google.colab.kernel.accessAllowed) {\n",
              "        return;\n",
              "      }\n",
              "      const div = document.createElement('div');\n",
              "      const label = document.createElement('label');\n",
              "      label.textContent = `Downloading \"${filename}\": `;\n",
              "      div.appendChild(label);\n",
              "      const progress = document.createElement('progress');\n",
              "      progress.max = size;\n",
              "      div.appendChild(progress);\n",
              "      document.body.appendChild(div);\n",
              "\n",
              "      const buffers = [];\n",
              "      let downloaded = 0;\n",
              "\n",
              "      const channel = await google.colab.kernel.comms.open(id);\n",
              "      // Send a message to notify the kernel that we're ready.\n",
              "      channel.send({})\n",
              "\n",
              "      for await (const message of channel.messages) {\n",
              "        // Send a message to notify the kernel that we're ready.\n",
              "        channel.send({})\n",
              "        if (message.buffers) {\n",
              "          for (const buffer of message.buffers) {\n",
              "            buffers.push(buffer);\n",
              "            downloaded += buffer.byteLength;\n",
              "            progress.value = downloaded;\n",
              "          }\n",
              "        }\n",
              "      }\n",
              "      const blob = new Blob(buffers, {type: 'application/binary'});\n",
              "      const a = document.createElement('a');\n",
              "      a.href = window.URL.createObjectURL(blob);\n",
              "      a.download = filename;\n",
              "      div.appendChild(a);\n",
              "      a.click();\n",
              "      div.remove();\n",
              "    }\n",
              "  "
            ],
            "text/plain": [
              "<IPython.core.display.Javascript object>"
            ]
          },
          "metadata": {}
        },
        {
          "output_type": "display_data",
          "data": {
            "application/javascript": [
              "download(\"download_a4cf3c0c-92a4-49bc-863f-bf0103439852\", \"food_count.xlsx\", 8365)"
            ],
            "text/plain": [
              "<IPython.core.display.Javascript object>"
            ]
          },
          "metadata": {}
        }
      ]
    },
    {
      "cell_type": "markdown",
      "metadata": {
        "id": "HPqfPQd9D3B0"
      },
      "source": [
        "##Data Visualization"
      ]
    },
    {
      "cell_type": "code",
      "metadata": {
        "id": "7FRgED7uPOe1"
      },
      "source": [
        "#Importing visualization libraries\n",
        "import matplotlib.pyplot as plt\n",
        "import seaborn as sns"
      ],
      "execution_count": 17,
      "outputs": []
    },
    {
      "cell_type": "code",
      "metadata": {
        "id": "2vYQmrcP7r-i"
      },
      "source": [
        "#Customizing data visualization styles\n",
        "sns.set_theme(rc = {'figure.figsize': (10, 4)})"
      ],
      "execution_count": 18,
      "outputs": []
    },
    {
      "cell_type": "code",
      "metadata": {
        "colab": {
          "base_uri": "https://localhost:8080/",
          "height": 302
        },
        "id": "WjMDpMNPJBqg",
        "outputId": "e982e616-f2ee-463d-9040-ac3a247eefe3"
      },
      "source": [
        "#Plotting the top 10 ingredients in diet\n",
        "sns.barplot(x='food', y='count', data=ache_meal_1[:10])\n",
        "plt.title('Top 10 ingredients in diet with stomach ache in 2021')\n",
        "plt.show()"
      ],
      "execution_count": 19,
      "outputs": [
        {
          "output_type": "display_data",
          "data": {
            "image/png": "[encoded data removed]",
            "text/plain": [
              "<Figure size 720x288 with 1 Axes>"
            ]
          },
          "metadata": {}
        }
      ]
    },
    {
      "cell_type": "code",
      "metadata": {
        "colab": {
          "base_uri": "https://localhost:8080/",
          "height": 301
        },
        "id": "aBwgQtXi57h6",
        "outputId": "8644f2de-447e-4e1a-cdf2-ee5e9663d6de"
      },
      "source": [
        "#Plotting the number of stomach ache by day of the week\n",
        "sns.countplot(x='day', data=df1_2021, order=['Mon', 'Tue', 'Wed', 'Thu', 'Fri', 'Sat', 'Sun'])\n",
        "plt.title('Count of stomach ache by day of the week in 2021')\n",
        "plt.show()"
      ],
      "execution_count": 20,
      "outputs": [
        {
          "output_type": "display_data",
          "data": {
            "image/png": "[encoded data removed]",
            "text/plain": [
              "<Figure size 720x288 with 1 Axes>"
            ]
          },
          "metadata": {}
        }
      ]
    },
    {
      "cell_type": "code",
      "metadata": {
        "colab": {
          "base_uri": "https://localhost:8080/",
          "height": 301
        },
        "id": "07B1DjGf7Yyt",
        "outputId": "fbe7416d-7ae3-4b6e-ab03-edbed0df70f1"
      },
      "source": [
        "#Plotting the number of stomach ache by month\n",
        "sns.countplot(x='month', data=df1_2021, hue='cat')\n",
        "plt.title('Count of stomach ache by month in 2021')\n",
        "plt.show()"
      ],
      "execution_count": 21,
      "outputs": [
        {
          "output_type": "display_data",
          "data": {
            "image/png": "[encoded data removed]",
            "text/plain": [
              "<Figure size 720x288 with 1 Axes>"
            ]
          },
          "metadata": {}
        }
      ]
    },
    {
      "cell_type": "code",
      "source": [
        "#Plotting the percentage of change between stomache ache events\n",
        "sns.scatterplot(x='date', y='pct_days', data=df1_2021)\n",
        "plt.title('Percentage of change between stomach ache in 2021')\n",
        "plt.show()"
      ],
      "metadata": {
        "colab": {
          "base_uri": "https://localhost:8080/",
          "height": 301
        },
        "id": "D6VLrsiwhmoN",
        "outputId": "5d9406f2-acb5-4888-fbb6-465d42954d8f"
      },
      "execution_count": 31,
      "outputs": [
        {
          "output_type": "display_data",
          "data": {
            "image/png": "[encoded data removed]",
            "text/plain": [
              "<Figure size 720x288 with 1 Axes>"
            ]
          },
          "metadata": {}
        }
      ]
    },
    {
      "cell_type": "markdown",
      "source": [
        "###Variability graphs"
      ],
      "metadata": {
        "id": "mkSHtrOrhKzg"
      }
    },
    {
      "cell_type": "code",
      "metadata": {
        "colab": {
          "base_uri": "https://localhost:8080/",
          "height": 301
        },
        "id": "vYPranzDDkpc",
        "outputId": "efe49d31-e86c-45ba-cd4d-5dcce767453f"
      },
      "source": [
        "#Plotting the boxplot of days between stomach ache\n",
        "sns.boxplot(x='num_of_days', y='cat', data=df1_2021, hue='cat')\n",
        "plt.title('Days without stomach ache - Before and after first diagnose in 2021')\n",
        "plt.show()"
      ],
      "execution_count": 22,
      "outputs": [
        {
          "output_type": "display_data",
          "data": {
            "image/png": "[encoded data removed]",
            "text/plain": [
              "<Figure size 720x288 with 1 Axes>"
            ]
          },
          "metadata": {}
        }
      ]
    },
    {
      "cell_type": "code",
      "metadata": {
        "colab": {
          "base_uri": "https://localhost:8080/",
          "height": 301
        },
        "id": "eN4JXt6LhFgs",
        "outputId": "138c5156-7e47-4c97-c62b-e87824b464f7"
      },
      "source": [
        "#Plotting the boxplot of number of ingredients present in diet\n",
        "sns.boxplot(x='ing_count', y='cat', data=df1_2021, hue='cat')\n",
        "plt.title('Number of ingredients in diet - Before and after first diagnose in 2021')\n",
        "plt.show()"
      ],
      "execution_count": 23,
      "outputs": [
        {
          "output_type": "display_data",
          "data": {
            "image/png": "[encoded data removed]",
            "text/plain": [
              "<Figure size 720x288 with 1 Axes>"
            ]
          },
          "metadata": {}
        }
      ]
    },
    {
      "cell_type": "code",
      "metadata": {
        "colab": {
          "base_uri": "https://localhost:8080/",
          "height": 301
        },
        "id": "_gzKRMsMqCmT",
        "outputId": "53aa3be8-cd41-42b5-b4c9-3bf8d43bd240"
      },
      "source": [
        "#Plotting the histogram of hours for stomach ache\n",
        "sns.histplot(x='hour', data=df1_2021, hue='cat')\n",
        "plt.title('Most common hours for stomach ache - 2021')\n",
        "plt.show()"
      ],
      "execution_count": 24,
      "outputs": [
        {
          "output_type": "display_data",
          "data": {
            "image/png": "[encoded data removed]",
            "text/plain": [
              "<Figure size 720x288 with 1 Axes>"
            ]
          },
          "metadata": {}
        }
      ]
    }
  ]
}