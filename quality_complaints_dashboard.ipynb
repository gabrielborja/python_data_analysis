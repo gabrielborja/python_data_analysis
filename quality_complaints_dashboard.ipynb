{
  "nbformat": 4,
  "nbformat_minor": 0,
  "metadata": {
    "colab": {
      "name": "quality_complaints_dashboard.ipynb",
      "provenance": [],
      "collapsed_sections": [
        "B3Pznx2vlT0L",
        "-iCOXc2AllJt",
        "Cj7Z7UMzT9vR",
        "Ifu1UK2WqoWY",
        "VZzy1t2E2siD",
        "JR0jrss1623_"
      ],
      "authorship_tag": "ABX9TyPfq+IvgmwfdsQVpJRhrH29",
      "include_colab_link": true
    },
    "kernelspec": {
      "name": "python3",
      "display_name": "Python 3"
    },
    "widgets": {
      "application/vnd.jupyter.widget-state+json": {
        "9796b805a9f546cbabf12bfa4a3cb594": {
          "model_module": "@jupyter-widgets/controls",
          "model_name": "VBoxModel",
          "state": {
            "_view_name": "VBoxView",
            "_dom_classes": [
              "widget-interact"
            ],
            "_model_name": "VBoxModel",
            "_view_module": "@jupyter-widgets/controls",
            "_model_module_version": "1.5.0",
            "_view_count": null,
            "_view_module_version": "1.5.0",
            "box_style": "",
            "layout": "IPY_MODEL_c102b89cbbc14f3594ed64903415940a",
            "_model_module": "@jupyter-widgets/controls",
            "children": [
              "IPY_MODEL_ef6730534e7146f18d3b32b06697455a",
              "IPY_MODEL_89f3ebc4710f4a91894506de8cca85ac",
              "IPY_MODEL_ec70c6b402144eb686b87254992999d5"
            ]
          }
        },
        "c102b89cbbc14f3594ed64903415940a": {
          "model_module": "@jupyter-widgets/base",
          "model_name": "LayoutModel",
          "state": {
            "_view_name": "LayoutView",
            "grid_template_rows": null,
            "right": null,
            "justify_content": null,
            "_view_module": "@jupyter-widgets/base",
            "overflow": null,
            "_model_module_version": "1.2.0",
            "_view_count": null,
            "flex_flow": null,
            "width": null,
            "min_width": null,
            "border": null,
            "align_items": null,
            "bottom": null,
            "_model_module": "@jupyter-widgets/base",
            "top": null,
            "grid_column": null,
            "overflow_y": null,
            "overflow_x": null,
            "grid_auto_flow": null,
            "grid_area": null,
            "grid_template_columns": null,
            "flex": null,
            "_model_name": "LayoutModel",
            "justify_items": null,
            "grid_row": null,
            "max_height": null,
            "align_content": null,
            "visibility": null,
            "align_self": null,
            "height": null,
            "min_height": null,
            "padding": null,
            "grid_auto_rows": null,
            "grid_gap": null,
            "max_width": null,
            "order": null,
            "_view_module_version": "1.2.0",
            "grid_template_areas": null,
            "object_position": null,
            "object_fit": null,
            "grid_auto_columns": null,
            "margin": null,
            "display": null,
            "left": null
          }
        },
        "ef6730534e7146f18d3b32b06697455a": {
          "model_module": "@jupyter-widgets/controls",
          "model_name": "DropdownModel",
          "state": {
            "_options_labels": [
              "2020",
              "2021"
            ],
            "_view_name": "DropdownView",
            "style": "IPY_MODEL_6a32a1a881ed45f39210daa3e7bde07e",
            "_dom_classes": [],
            "description": "Year",
            "_model_name": "DropdownModel",
            "index": 0,
            "_view_module": "@jupyter-widgets/controls",
            "_model_module_version": "1.5.0",
            "_view_count": null,
            "disabled": false,
            "_view_module_version": "1.5.0",
            "description_tooltip": null,
            "_model_module": "@jupyter-widgets/controls",
            "layout": "IPY_MODEL_9e40171eddfc4969b709682d26d9f16a"
          }
        },
        "89f3ebc4710f4a91894506de8cca85ac": {
          "model_module": "@jupyter-widgets/controls",
          "model_name": "DropdownModel",
          "state": {
            "_options_labels": [
              "L1",
              "L2",
              "L3",
              "L4"
            ],
            "_view_name": "DropdownView",
            "style": "IPY_MODEL_3c7697b0ccb341b8877c7958e83e893d",
            "_dom_classes": [],
            "description": "Line",
            "_model_name": "DropdownModel",
            "index": 0,
            "_view_module": "@jupyter-widgets/controls",
            "_model_module_version": "1.5.0",
            "_view_count": null,
            "disabled": false,
            "_view_module_version": "1.5.0",
            "description_tooltip": null,
            "_model_module": "@jupyter-widgets/controls",
            "layout": "IPY_MODEL_481cecbc8b65449f81a291b2eea2c006"
          }
        },
        "ec70c6b402144eb686b87254992999d5": {
          "model_module": "@jupyter-widgets/output",
          "model_name": "OutputModel",
          "state": {
            "_view_name": "OutputView",
            "msg_id": "",
            "_dom_classes": [],
            "_model_name": "OutputModel",
            "outputs": [
              {
                "output_type": "stream",
                "metadata": {
                  "tags": []
                },
                "text": "1043\n",
                "stream": "stdout"
              },
              {
                "output_type": "display_data",
                "metadata": {
                  "tags": []
                },
                "image/png": "iVBORw0KGgoAAAANSUhEUgAABZQAAALDCAYAAACCf4XwAAAABHNCSVQICAgIfAhkiAAAAAlwSFlzAAALEgAACxIB0t1+/AAAADh0RVh0U29mdHdhcmUAbWF0cGxvdGxpYiB2ZXJzaW9uMy4yLjIsIGh0dHA6Ly9tYXRwbG90bGliLm9yZy+WH4yJAAAgAElEQVR4nOzdZ3QVZff38W86EAglQIgEA1KCSEsB6aEjkSLtpogBpEhRUfAWBemCgN4CSlFAigIqiIA0QZDQDC1BioAoYiKYQAiQ3pPnRZ4z/xxSOKEkoL/PWq5FplyzZ86ccc6ea/Zl1ahRowxERERERERERERERO7AurADEBEREREREREREZFHgxLKIiIiIiIiIiIiImIRJZRFRERERERERERExCJKKIuIiIiIiIiIiIiIRZRQFhERERERERERERGLKKEsIiIiIiIiIiIiIhZRQllERET+ERYuXEhgYCB+fn73rU0/Pz8CAwNZuHDhfWtT7s7dfr7ffvstgYGBeHp6PqDI5FHi6elJYGAg3377bWGH8tB75513CAwMZPDgwYUdioiIiDxkbAs7ABEREbl7Dg4O+Pn50aRJE6pVq0apUqXIyMjg5s2bnD9/nv379xMQEEBSUlJhhypZtGjRgurVqxMcHMyJEycKbLumxNDXX39NbGxsgW1XLFehQgWeffZZYmNj+frrrws7HIv07t2b4sWLs23bNsLDwwstDj8/P1xdXdm/fz+//fZbocUheXtYzhcRERG5e0ooi4iIPKKaNWvGuHHjKFu2rDEtPj6ejIwMHnvsMR577DFat25NREQEU6dOJSgoqBCjfTTFxcUREhLC1atX72u7LVq04Nlnn2XZsmUFmlAeMmQIANu2bfvXJJSvXLlCcnLyI/NQxdXVlSFDhhAWFvZIJZRdXV0JDg4u1AThs88+i5eXF2FhYbkmlJOSkggJCSEiIqKAo3v0REZGEhISQlRU1H1t92E5X0REROTuKaEsIiLyCPLz82P8+PHY2NgQEhLCihUrCAwMJDo6GgBHR0caNGhAz5498fb2pn79+koo34V9+/axb9++wg5D7sErr7xS2CHIQ+Ts2bP06dOnsMN4JCxevJjFixcXdhgiIiLyEFJCWURE5BFTrVo13nzzTWxsbDh06BATJkzI1vsyLi6OgIAAAgICaNOmDeXLly+kaEVEREREROSfxKpRo0YZhR2EiIiIWO7999+nWbNmXLt2jX79+hEXF3dX7djZ2dGjRw/atm2Lu7s7dnZ2hIeH89NPP7F69Wpu3LiRbR0/Pz8mTpxIcHAwo0aNol27dvTq1YsnnniC5ORkTp06xeLFiwkJCQHA2dmZAQMG0KxZM8qUKUNERATfffcda9asIT093aztChUqsHHjRgAaN25M3bp18ff3p1atWhQtWpTQ0FC2bNnChg0byMjIfvuycOFCvLy8mD59Otu3bzebV6NGDdq0aUO9evVwcXGhTJkyJCQkcPHiRb7//nu2bduWLZ6c9jerb7/9FldXV0aOHMnFixcZOHAgvr6+lC1blqioKH766SeWLl1KZGSksY6npyeLFi3K83Np3Lix8W9XV1f69++Pj48PLi4uRn3ssLAwjhw5wubNmy16Hf2dd97h2WefzXX+tm3bePfdd82WXbZsGZ9//jn9+vWjbdu2uLq64ujoSLt27YiNjaVYsWK0bNmSJk2aULlyZcqXL4+9vT0REREcP36cNWvWcPny5Tzjeuqpp+jRowf169c3PpOrV69y5MgRtm3bRmhoqLFsXp+vnZ0d06dPx9fXl/DwcF599VX++usvwPxzylpe5PbPtlmzZvTp04caNWpgY2PDH3/8wbp16/jhhx9yjb9cuXIMHTqURo0a4eTkxPXr1zlw4ADLly+nefPmuZ47uTHFmpuc9t3X15fnnnsODw8PHB0duXXrFidOnGDt2rVcuHDBou3eztPTk549e1K7dm1Kly5NUlISN2/e5I8//uDw4cNs3ryZjIwMBg8ebJRRyUnWfbe2tqZhw4b4+vpSs2ZNypcvT4kSJbh16xZnz55l/fr1ub5FkfWz379/P/7+/rRo0QIXFxdSUlKYN28eEydOzDWOsLAwunfvbuzbokWLzKbltJ09e/bQv39/2rVrR4UKFYiLiyMoKIglS5bkeV43bdqUvn374uHhgZWVFZcuXWLjxo1s3749z3M4L1nXO3DgAC+++CLNmzc3u9YsW7bM7Fpzu4oVK9K/f38aNGhA2bJlSUpK4uLFi+zYsSPX61/Wa8Fnn31mTL/9Wv3EE08wcOBAvLy8KF68OOHh4ezcuZMvvviC1NRUY738nC8iIiLycFMPZRERkUdIuXLlaNKkCQDr1q2762RyqVKlmDdvHh4eHkBmXdHU1FTc3d1xd3fn2WefZcyYMfzyyy+5tjFy5EheeOEFUlNTSUpKonTp0vj6+lKvXj2GDRtGRkYGCxYswMXFhbi4OGxsbHBzc2PkyJG4uLjwwQcf5Np2y5YtmT59Ora2tkRHR2Nra0uNGjUYO3YsPj4+TJgwgbS0NIv3d/78+ZQqVQqAhIQEEhMTKVmyJF5eXnh5eeHr68u4cePy1aZJ+fLlmThxIq6uriQkJJCRkUG5cuXo2rUrDRo0YODAgcTExACQmppKZGQkxYsXx8HBgfj4eBISEnJst0aNGixatAhHR0cAUlJSSEhIwNXVFVdXV7y8vLhw4QKHDx++Y4yxsbFERkbi7OwMwM2bN80SSDnVU7a3t2fx4sU89dRTpKSkkJiYaDbfz8+PsWPHGvsVFxeHlZUVbm5uuLm50b59e9566y2OHTuWY0ym8ydrDHZ2dnh4eODh4YGzs7OR5M5L0aJFmTNnDj4+PoSGhvLqq6/mu+b1oEGDGDZsGGlpacTHx1OsWDFq165N7dq1KVOmTI61jKtWrcrChQspWbIkkPlWgLOzM3369KFZs2Zs2LAhXzFA5ufi6OiIk5MTaWlp3Lp1y2x+1jcRrKyseOedd/Dz8wMyP4P4+HjKly9Phw4daNu2Lf/73/+MxJ+lunbtyltvvWX8nZCQgLW1NZUqVaJSpUr4+vqyfft2kpOTSUhIIDIyklKlSmFjY0N0dDQpKSnGuqYSPACVK1dm7ty5xt+xsbGkpKRQrlw5fH198fX1ZfHixXz++ee5xla6dGlWrFiBm5ubcc0yHZfIyEicnJyws7MjNjbW7FjdvHkzX8fA0dGRTz/9FA8PD5KSksjIyKBMmTK0a9eOhg0bMnjwYK5cuZJtvYEDB/LSSy8BkJ6eTmxsLE8++SS1a9emevXq+YohJyVLlmT58uW4ubmRmJhIWloa5cuX57nnnqNFixaMHDnSeJiXVdOmTZkxYwYODg4AxMTEULRoUTw9PfH09KRt27aMGzcu23fcEg0bNmT27NkUKVKEmJgYbG1tcXd3Z9iwYXh4eGQ7lyw9X0REROThpoSyiIjII8TT0xNra2sADh48eNftTJo0CQ8PD6Kjo5k9ezYBAQGkp6dTs2ZNJkyYQLVq1Zg9ezbPP/98jj1gq1evTp06dZg7dy6bN28mKSmJqlWrMmPGDNzd3Rk5ciTlypXj2rVrvPHGG/z+++84ODjQp08fhg8fTrdu3fj222/5448/coxv/PjxHDt2jPfff5+wsDCKFClCjx49GDFiBL6+vvTv359Vq1ZZvL9Hjx7lwIEDBAcHGz2vixQpgq+vLy+//DJNmzalT58+rFmzJt/HcsyYMYSHhzNp0iTOnDmDjY0NjRs3ZuLEiTz22GP4+/uzcOFCAE6fPk2nTp2Mnn9r16416/mX1SuvvIKjoyNnzpzh/fffN3qbOjg4UKVKFTp06GDxwHrz5s1j3rx5BAYGAvDiiy/ecTCsHj16kJaWxjvvvMO+fftITU2lQoUKRgL81q1brFixggMHDvDbb78ZyT13d3cGDhzIM888w5QpU+jRo0e2RNXzzz9vJJM3bNjA6tWrjXicnZ1p3ry5kajNi5OTE//73/+oXbs2v/32G6NHj8538rB69erUrVuXTz/9lG+++YbY2FhKly7NG2+8QevWrRkxYgQ7duwwS3bZ2dkxY8YMSpYsSWhoKDNmzODUqVNYWVnRqFEjxo8fz6BBg/IVB2T24DT1oL127Vq2HrRZ9e/fHz8/P9LT01m6dCnr1q0jPj6ecuXKMXr0aNq0acPYsWO5dOkSP//8s0Xbd3BwMGpOb9myhWXLlnHt2jUg81jXqlWLjh07Gg8j1q5dy9q1a42e1W+99Vaug0ympKSwZcsWdu/ezZkzZ4iPjwcyk8Rdu3Zl8ODBvPTSSxw/fpyzZ8/m2MagQYOIiYnh9ddf58iRI2RkZODm5sbly5fZs2eP0ZN37ty5+eoBfLshQ4YQGxvLa6+9xrFjx8jIyKBu3bpMnToVFxcXRowYwTvvvGO2jre3t5FM3rp1K4sWLTIeEDz//PNG7Pdi0KBBpKSk8MYbb/DTTz+RkZGBp6cnEyZMoGLFisyYMYMBAwaYPRirWLEi06ZNw8HBgeDgYGbPnk1oaCh2dnb4+fnx+uuv07BhQ15//XXee++9fMc0ffp0Dh48yMKFCwkPD6dIkSL06tWL4cOH4+vrS+PGjY3rTn7OFxEREXm4WRd2ACIiImK5ypUrA5k98nLqiWaJevXqGWUVJk2axI8//mgkiM6fP8+rr75KdHQ0zs7O/Oc//8mxjRIlSrBy5UrWrVtn9AS8ePGikZBo2bIllSpVYsyYMfz+++9GzKtWreL48eNYW1vTsmXLXGO8du0a48aNIywsDIDExETWrFnDihUrgMxkmqm3nSUmT57M7t27zcp4JCYmsnPnTiMxlFfyLi8pKSm88sornDlzBoC0tDQOHjzIypUrAWjVqtVdtVu7dm0A5s6da1a6ICkpifPnzzN//nxjmw+Co6MjEydOZM+ePUayODw83EhW7d69myVLlnDu3Dmz19pDQkKYOnUqR48epUyZMrRu3dqs3ZIlSzJ48GAAVq1axQcffGCW3I6MjGTTpk13fGBQpkwZFi1aRO3atTl9+jSjRo3KdzIZMs/lZcuWsXLlSiNBf/PmTaZNm8aNGzdwcHCgadOmZuu0b98ed3d3kpKSeP311zl16hQAGRkZBAYGMm7cOIoXL57vWCxVtGhR/P39AVi9ejUrV640ErQRERFMmjSJn3/+GRsbG4YNG2Zxu1WrVsXR0ZH4+HhmzZplJJMhs/fo4cOHmTx5stnnbam//vqLmTNncvToUSNWyDzWK1euZPny5VhbW9OtW7dc27C3t2fs2LEcPnzYKHtzp7Iqd8Pe3p7Ro0dz5MgR0tPTycjI4OTJk8ybNw+AZs2aYWtr3i/HdE4fPnyYGTNmGOdiXFwcS5YsYcOGDZQoUeKe4nJ0dOTtt9/m0KFDxv6fOHGCMWPGkJycTNWqVWnbtq3ZOgMGDKBYsWJcvnyZMWPGGGVkUlJS2Lx5s9FrvFOnTri5ueU7pnPnzjFx4kTjO5yYmMgXX3zBTz/9BJDt+y8iIiL/DEooi4iIPEJMvTbvpaebKcF59uxZjhw5km3+zZs3jdfk27Rpk2MbycnJfPXVV9mmnzp1ykgwf/vttzn2oD1+/DgATzzxRK4xfvnll2avQmednpSURPHixXn66adzXT8/Tp48SXR0NI899hhly5bN9/qbN2/O8VXt/fv3A5k9BIsUKZLvdk3lTO4mpvvht99+4+jRo3e9vimhVKdOHbPprVu3pmjRokRHRxsPCPLL1dWVTz/9lKpVq3Ls2DFeffXVu/5OJCUl5VjSIikpyfh+3H6umh6G/Pjjj/z999/Z1j179izBwcF3FY8lGjZsSPHixUlOTmb16tXZ5qenpxvH1tPTkzJlyljUrumcs7W1taiH+P1keuOibt26uS4TGBiY61sN99PevXtzTFQfOHCA9PR0HBwczJKvJUuWxNPTEyDXtxxy+pzy6+TJk8bDi6xCQ0PZu3cvkP0Blulc/eqrr7IN3grw3Xffce3aNaytre/q4dcXX3yR43TT9S+v67yIiIg8ulTyQkRE5F/GVDc5r4RXUFAQAwYMoFKlShQpUiRbyYKwsDCzXoYmGRkZ3Lp1CxcXl1wTP6Zewnn11ssttvj4eC5cuECdOnXw8PAwkhaWaN26Ne3bt8fDw4PSpUvn2MO5bNmyXL9+3eI2IbOHXk4iIiKMf5coUSLf9UkDAwPp1KkTkyZNYsOGDezfv5/z58/fVZ3nu2FJ7+dy5crRq1cvGjRoQMWKFSlWrBg2NjbZlsnqqaeeAjLPsZwSXHdSpUoVhg8fTrly5di3bx8TJ07M8eGDpS5dupTrZ2P6DG8/V2vUqAGQY3LP5OTJk/j4+Nx1XHkxfYd///33XBPpP//8M6mpqdja2uLh4WGUHcjLX3/9RWhoKI8//rjRqzYwMPCu34a4nYODA926daN58+ZUrlwZJyenbD1983qA8iB75GeVW8mNtLQ0bt68ibOzM05OTsZ00/mQlpbG6dOnc1w3PDycsLCwPAddvJO8rtknTpygQ4cOxrkBmQ+zTOdubgMeZmRkEBwczDPPPGO2rqXudP27117ZIiIi8nBSQllEROQRYqpnfC8/0kuXLg2YJzxvZ3rV3dramlKlSmWrtxsZGZnruqbyGbklZk0J0dsTSVnlFZtpnmmQvTuxsbHh3XffNSuxkZSUZDYwnWmQqKJFi1rUZla5DYyYnJxsFkN+ffzxxzz++OPUrVsXf39//P39SUpK4vTp0/z4449s3779rhKylrp9QLjbeXp68v777xuDBkJmz3nTfjs4OFC8ePFsvbNNvWXzO3CeSf/+/YHM0hr5HZwxJzk9GDEx7cvt56qp925eDx/y+2AiP0znfl7fk+TkZKKionB2dja+83eSnp7O5MmTmT17Nm5ubowePZrRo0cTFRVFUFAQO3bsuOva7c7OzixcuBB3d3djWnx8PNHR0WRkZGBtbU3p0qUpVqxYrm3c6Zy8Xyw5J7J+p7MOzJjXd/L69ev3lFC25LqY9bPOeo205Hpv6TU1q9yOlek45HWdFxERkUeX/g8vIiLyCPnzzz+BzGSdu7v7PfUctLe3v09RPdy6dOlCy5YtSUhIYNGiRezbty9bcmXTpk24uLgUUoQ5i46O5qWXXqJBgwY0bdqU+vXrU61aNXx8fPDx8aFfv36MHDkyz0TRvcgrUWtjY8PkyZNxdHTk6NGjLF++nHPnzpkl0Tt37sz48eOxsrK6r3H9+OOPtGjRAnd3d4YNG8bixYvva/uPkgfxHT5//jz/+c9/8PX15emnn6Zu3bq4ubnRunVrWrduzU8//cR///tf42GMpV577TXc3d25fPkyCxYsIDg42Kx3dcWKFfnmm2/ybKOgeuf/E9nb2+f68EtEREQkv1RDWURE5BFy4sQJI5HTrFmzu2rDNFhUhQoVcl2mfPnyQGaPxYLqFZhVXq+9m+ZZGpdpUKgVK1bwzTffZEvAmnphP6yOHTvGvHnzGDhwIB07dmTWrFlERUXh5ubGa6+9Vigx1alTBxcXF6KionjzzTc5efKkWTIZyLVur6nkSV7nX14OHTrEpEmTSE1Nxd/fnyFDhtxVO/fC9KZAXueps7PzA9u+6dzP6yGIvb290XM2v4MVJiUlsWvXLqZPn06vXr3o3r07q1atIj09nSZNmuQ5cF5ObG1tad68OQBTpkxh37592Up1WFrn+WFkOh8cHR3zHCz0XuuhW3JdzPpZZ71GWnK9L4xrvYiIiDyalFAWERF5hERERBi1UHv16pXn6+G5+fXXXwGoX79+rst4e3sDmTVV81v7937w8vLKcXqxYsWMOp+m/bgTU7LkwoULOc6vW7dunkmgByEjIwMg3713Y2Ji2Lx5M5988gmQ92eYE9PDiHvtNWw6pqGhobm+4p9b/eBffvkFyPyM7/a47927l+nTp5OWlsbgwYMZMGDAXbVzt0znUl4DyOX3szExnRt5MZ37lSpVylajOuv2TeUGLP2u5CYsLIxPPvmE3bt3AxgD0Jnc6bwqVaqU8Vnn9j1s0KDBPcVoSRwPimmfbGxssg1CaeLi4nJP5S4g+3HPaV7Wz/rKlSvGgKG5XVOtrKyMefd6nliqsD4nERERuX+UUBYREXnEfPrppyQlJeHi4sK0adPu+Np7mzZt6Nu3r/H33r17AahatSotWrTItnzp0qWNHoh79uy5j5Fbrm/fvjnW3uzduzcODg7ExsZy5MgRi9qKjY0FMvf3djY2NgwbNuzegr0LplfPixcvnuN8KyurPOsum5K4+S15YNruvQ6UZTqmlSpVyjGGhg0b5ppQ/vHHH0lMTMTJyYkXX3zxrmPYtWsXM2fOJD09neHDh5ud4w/avn37AGjVqlWOPT+ffPLJXBN4d3KncwPgyJEjxMbGYmdnx/PPP59tvrW1NYMGDQIy32ow9Qq/kzvVuzX1Qrezs8sx5tzOq/j4eCOJmNP30NnZmZ49e1oUY17u1/mdX1FRUZw4cQKAfv365bhMTp9Tfnl6euaYsHZzc6NVq1ZA5vcrK9O5arp23q5Lly6UL1+e9PT0bOs+KIX1OYmIiMj9o4SyiIjII+a3337jf//7H+np6TRt2pRVq1bRoUMHnJycjGUcHR3x9fVlwYIFvPvuu2Y9mU+ePGn0cp4wYQKtWrXC2jrzlsDDw4P58+fj5OREZGQkX3/9dcHu3P/n4uLCrFmzjGSdg4MDffv2ZfDgwQCsXr3a4gHpjh07BsCgQYNo3ry5sa/u7u68//771KpVK89BuB6EP/74A4BGjRrlWBrB0dGR9evXM2DAAKpWrWrEbGVlhY+PDy+99BKAxUl1k0uXLgHQsWNHo827cerUKRISEihVqhSTJk0y9sHBwYFOnToxc+bMXF+fj4qK4rPPPgPA39+fsWPHmpVucHZ2pk+fPhYlm7dv387s2bNJT0/n1VdfvS9JSUvs2rWLv/76iyJFijBv3jxq165tzGvUqBGzZ882ku759ddff5GSkkKJEiXMBpLMKjExkVWrVgGZbyoMGDDAGFCyXLlyTJs2jfr165OWlsaSJUss3naTJk1YsmQJXbp0MUuUOzg40KVLF9q3bw9kP+9M51W7du1yfMAQHx9v9EyfMGEC1atXB/7vfF60aNF96a1qisPX19dssMiCsGLFCgAaN27M22+/bQyOV6xYMYYMGUKPHj2ylfnIr7i4ON577z0aN25sTKtXrx5z587FwcGBixcvZnsIuGrVKuLj4ylXrhz/+9//ePzxx4HMhwJdunTh9ddfB2DLli1cuXLlnuKz1J3OFxEREXn4aVA+ERGRR9CWLVuIiopi3LhxVK5cmSlTpgD/1/MrazIlLCyMoKAgs/WnTZvG/PnzqVGjBjNnziQpKYnU1FRjvejoaN566y3jdemCNnPmTKZPn87GjRuJjo6mWLFiRu/Jffv2sXr1aovbWrt2LW3atMHNzY05c+aQkpJCUlISxYsXJzU1lffee48hQ4bcVfmQu7Vv3z5GjhyJu7s7mzdv5ubNm6SkpADQvXt3AFxdXRk+fDjDhw8nJSWF+Ph4HB0djeNw+fJl5s+fn6/tfvfdd9StW5c+ffrQrVs3o+fq3r17+fjjjy1uJzY2lsWLFzNmzBjatGlDmzZtiImJoWjRotja2nLhwgW2bNnC2LFjc1x/9erVRuK4Z8+e9OzZk5iYGKysrIyeudu2bbN4n+zs7HjjjTd4/fXXSUlJYfPmzRbvy91ITk5mwoQJLFiwAHd3d5YuXUpcXBw2NjYUKVKEkJAQ1q5dy+jRo7PVlr6TxMREfvjhB/z8/HjvvfeIiYkxktMff/yx8YbB2rVrqVKlCn5+fgwfPpwhQ4YQHx9P8eLFsba2Ji0tjQ8//JCff/45X9uvU6eO0Qs2MTGR5ORko03IrGF9+/HdsmULHTp0oE2bNjRv3pybN2+Snp7OmTNnmDRpEgDz5s1j4cKFVKtWjc8//5z4+Hisra0pUqQIUVFRzJgxgzlz5uQr1tt9//339OvXj/r16/P9999z8+ZNUlNTuXbtGsOHD7+ntu/k2LFjLF26lKFDh9KlSxc6depEbGysce1as2YNtWrVwtPT0/iu59eKFSvo3r07H374IYmJiaSlpRnX7Bs3bvDOO+9kG7jwypUrTJ48mXfffRdvb2++/vproqOjKVq0qNHT3FSnvaBYcr6IiIjIw00JZRERkUfU/v37OXr0KH5+fjRp0oRq1apRqlQpMjIy+Pvvvzl//jwBAQEEBARkS2DcunWLoUOH0qNHD9q2bYu7uzu2traEhoby008/sXr1aiIjIwtpzyAgIIBRo0bh7+/PU089RVpaGn/88Qdbtmxhw4YNFtWZNYmOjmbIkCEMHTqUZs2aUaZMGZKSkggKCmLt2rWcOnWqwAd2i4qKYtSoUQwePJi6detSqlQps3IDcXFxjB07lgYNGlCnTh3Kly9PqVKlSExMJDQ0lP3797N+/fp896zetm0b1tbWdO3alcqVK+Pi4oK1tbUxeFt+rF+/nmvXrtG3b19q1KiBjY0NISEh/Pjjj6xZs4Y2bdrkuf78+fMJCAigR48e1KtXj1KlShEbG8v58+c5fPiwxQllgA0bNmBnZ8fo0aN58803SUlJYfv27fnep/z47bffjEEBGzVqRIkSJbh+/Tr79u1j+fLldOrUCeCueirPmTOHiIgIfH19cXV1NWrvmnohQ2Yd2unTp3PgwAG6du1KzZo1cXR0JDIykhMnTrB27dp818Q9fvw4U6ZMoUGDBnh4eFC2bFmKFy9OVFQUFy5c4Pvvv2fnzp3Zvn9BQUGMGzeO3r17U716dcqVK4e1tTVhYWHGMmfPnmXo0KEMGTIET09PihQpQmRkJIcPH2blypX31GPeJCQkhNGjR+Pv78+TTz5JmTJl8iwdc78tX76cCxcu0K9fP+M7ce7cOb755ht27dpl9Cq/257KUVFRDB48mEGDBtGiRQvKli1LREQEhw4d4rPPPuP69es5rnfw4EH69+/P888/T8OGDSlbtiyJiYn88ssv7Nixg61btxolSQqCJeeLiIiIPNysGjVqZPkvMhEREZEHpEKFCmzcuBHA7JVukUfRpEmT6NixI8uWLTNKfE+hfKUAACAASURBVMi/V5EiRfj+++9xcHCgW7duhIeHW7zuwoUL8fLyYvr06Q/8QYmIiIiIJVRDWURERETkPnrssceMQdJMNbzl3+0///kPDg4OhIaG5iuZLCIiIvIwUkJZRERERCSfmjdvzvDhw6lSpYpRVsHOzo7mzZuzYMECihQpwunTpzl16lQhRyoF5dVXX8XPz88YkA+gTJkyDB06lKFDhwLw5ZdfFlZ4IiIiIveNaiiLiIiIiORTqVKlGDBgAAMGDCAtLY3Y2FizQRPDwsKYOnVqIUcpBalWrVr07dsXgKSkJJKSknBycjLm79ixg02bNhVWeCIiIiL3jRLKIiIiIiL5dOzYMVasWIGPjw8VKlSgZMmSJCYmcvnyZQ4cOMC6devuakA+eXStXLmSNm3a8NRTT+Hs7EzRokW5ceMG586dY+vWrQQEBBR2iCIiIiL3hQblExERERERERERERGLqIayiIiIiIiIiIiIiFhECWURERERERERERERsYgSyiIiIiIiIiIiIiJiESWURURERERERERERMQiSiiLiIiIiIiIiIiIiEWUUBYRERERERERERERiyihLCIiIiIiIiIiIiIWUUJZRERERERERERERCyihLKIiIiIiIiIiIiIWEQJZRERERERERERERGxiBLKIiIiIiIiIiIiImIRJZRFRERERERERERExCJKKIuIiIiIiIiIiIiIRZRQFhERERERERERERGLKKEsIiIiIiIiIiIiIhZRQllERERERERERERELKKEsoiIiIiIiIiIiIhYRAllEREREREREREREbGIEsoiIiIiIiIiIiIiYhEllEVERERERERERETEIkooi4iIiIiIiIiIiIhFlFAWEREREREREREREYsooSwiIiIiIiIiIiIiFlFCWUREREREREREREQsooSyiIiIiIiIiIiIiFhECWURERERERERERERsYgSyiIiUmgWLlxIYGBgYYchIiIiIkLDhg1ZsmQJu3btIjAwkFmzZt1Te4MHDyYwMBBPT8/7FOE/1zvvvENgYCAVKlQo7FBExAK2hR2AiMg/TU4J0uTkZCIjIzlx4gSff/45ISEh9327Hh4erFy5kl9++YUhQ4Zkm9+uXTumTZsGQPfu3QkLCzOb7+DgwM6dO8nIyKB9+/akpKTc9xhFREREJH8K694yt+0nJycTFxfHtWvX+PXXX9m7dy9Hjx4lPT39gcVQECpUqMCcOXOIiYlh69atxMXF3fG4+vn5MXHiRKZPn8727dsLKNI7K1myJNu3b+fmzZt06tQp2/zatWuzdOlSAEaNGkVwcHC2Zb799ltcXV157rnnuHr16gOPWUQeLUooi4g8IMuWLTP+Xbx4cWrVqoWfnx8tW7Zk+PDh/Pbbb/d1excuXCA6OhoPDw+KFStGfHy82XwfHx/S09OxtrbGx8eHLVu2mM2vW7cuDg4OHDlyRMlkERERkYdMQd9b5rZ9GxsbihcvTpUqVXjmmWfo0qULZ8+eZcqUKfz1118PNIYHqUGDBjg4ODBz5kx27dpV2OHck6ioKH7//Xdq1KhBlSpVuHTpktl8Hx8fANLT0/Hx8cmWUHZzc8PV1ZXQ0FAlk0UkR0ooi4g8IJ999lm2aWPGjKFXr1707t2bd999975uLyMjg+DgYFq2bImXlxcHDx40m+/t7U1wcDDVqlXD29s7W0LZ29sbgOPHj9/XuERERETk3hX0vaUl2y9dujRjx46lTZs2fPTRR7z44ovcvHnzgcbxoJQrVw6AiIiIQo7k/ggKCqJGjRp4e3tnSyh7e3tz+fJl4uLijN8At88H/S4QkdyphrKISAE6evQoAKVKlTKmPffccwQGBvLiiy/muE6ZMmU4cOAAq1evvmP7ppu+228MK1SoQMWKFTl+/DgnTpzAy8sr27o53Tja2NjQvXt3li5dyu7du9m7dy+rVq2iZ8+eWFlZ5RhDrVq1mDFjBlu3bmX//v1s2rSJcePGUbZs2TvGnzWWH374ge+++47q1atbvJ6IiIjIv8mDvre8k5s3bzJx4kSCgoKoUKECAwYMMJvv4eHBa6+9xueff87OnTsJCAhg3bp1vPLKK5QoUcJs2QcRd5s2bVi0aBE//PADAQEBrF69Gn9/f+zs7IxlPD09CQwMZOjQoQAsWrSIwMDAO9Y+XrhwIRMnTgRg4sSJxjq51QFu1aoVn332GXv37mXnzp1MmzbNSGLfzsnJiREjRvDll18SEBDADz/8wMcff0zDhg0t3nfTPb2pN7KJvb09derUISgoiKCgIJ588kmKFi1qtkxuCeV27dqxYMECdu3aRUBAAF9++SUDBw40O55Zubu7884777Bp0yb279/Ptm3bmDp1Ko8//rjF+1GtWjW+++47du/eTYMGDSxeT0QeLCWURUQKkOmG7vz588a0nTt3EhsbS+fOnbG2zn5Z7ty5M7a2tmzatOmO7ed242i6+QoKCiI4OJhy5cpRuXJlY36xYsWoWbMm0dHR/Prrr0BmMvmDDz7gv//9LyVKlGDXrl1s3rwZKysrxo4da9xAZ9WpUyc+/fRTGjduTFBQEF9//TXnz5+nc+fOLF++HBcXlzvuQ/v27fnwww+5fv06w4YNe+Cvb4qIiIg8qh70vaUlMjIyWLlyJZCZcMyqa9eutGvXjtDQULZu3crGjRu5fv06/fr149NPP6VYsWIPLO7hw4fz7rvvUrlyZXbt2sU333wDwIgRI5g3bx62tpkvbIeFhbFs2TKj7MO2bdtYtmwZy5YtyzbmSFbbtm1j3759AOzbt89YZ9myZcTGxpot26NHDyZPnkxYWBgbNmzg4sWLtGvXjo8++ihbMrZChQqsWLECf39/bt68ycaNG9m9ezfu7u7MnTuXLl26WLT/P//8M6mpqXh6epp1BDGVuTP9LrCzs6N+/fpm63p7e5Oenk5QUJAxbcKECUybNg03NzcCAgLYsGED0dHRvPTSS8ydOxcbGxuzNho1asTKlSvp0KED586d4+uvv+b48eP4+vry2WefUaNGjTvug4+PD4sXLwYyP7djx45ZtO8i8uCp5IWIyAMyePBg49+Ojo48+eST1K1bl4MHD7J27VpjXkJCAt9//z09e/akcePGHDp0yKydzp07k5CQwI4dO+64zZCQECIiInjiiScoVaoUt27dAjJvCuPi4jh37hxxcXFA5g3an3/+CYCXlxe2trYEBweTkZEBwMCBA2nUqBHr169n3rx5xkAr1tbWvPXWW3Tu3Jm9e/dy4MABACpVqsSbb75JeHg4I0eONHtd0MfHh3nz5vH666/z1ltv5Rp///79GTFiBKdOnWLcuHFER0ffcZ9FRERE/g0K497SUidPniQ1NZUyZcrg6upqJGI///xzPvjgg2wD9nXu3Jnx48fTvXt3o8fx/Yy7du3aDBgwgPDwcAYPHsyNGzcAWLx4MbNmzaJZs2Y8//zzrFq1ivDwcKOch5eXF9u2bePEiRN33IZpED5fX1/279+f56B8jRo1YvDgwVy8eNGYNnXqVNq3b0+LFi3Ys2ePMX3ixIlUqFCBiRMnsnv3bmN68eLFWbhwIWPGjOHAgQN3LC0SHx/PuXPnqFOnDh4eHsZDB1Pv46CgIBITE0lNTcXHx8cYfLFq1aqUKVOGX3/91bgX9/Pzo1OnTgQEBDBlyhSSkpKM7QwePJghQ4bQo0cP1q1bB0CJEiWYOnUqiYmJjBgxwvjNAfDEE0+wdOlSxo8fz8CBA3ONv0OHDkyYMIHLly8zZswYwsPD89xfESlY6qEsIvKADBkyxPivb9++1K9fnz///JMffvgh24B53377LZD5ql9WTz/9NBUrVmTPnj1GIvhOjh8/jrW1tVnZCy8vL06ePElaWhqXLl3ixo0bZvNvf63NysqKXr16cf36debPn2/2IyA9PZ2PPvqI9PR0OnToYEzv3r07dnZ2zJ07N1vtuePHj3Pw4EGaNm1q1hPFxNTredSoUezbt4/Ro0crmSwiIiKSRWHdW1oiJSWFqKgoILOuskl4eHi2ZDLAli1biI2N5emnn34gcXfq1AmAlStXGslkgLS0ND766CPS0tLo3LmzhXt379atW2eWTAbYvHkzkFkuzqRatWp4eXkREBBglkwGiI2NZdmyZTg4ONCqVSuLtptTOTxTTeUbN24QHx/PhQsX8vxdANC7d29SU1OZMWOGWTIZYMWKFdy6dcvsd0HHjh1xcnJi2bJlZslkgD/++IPvvvsODw8Pszcms3rhhReYNGkSv/zyCy+99JKSySIPIfVQFhF5QBo3bmz8u0iRIjzxxBOMGDGCqVOnUqVKFT799FNj/qVLlzhx4gSNGjWifPnyXLt2Dch8TRBg48aNFm83KCiIjh074u3tzZ49e3B3d6dcuXJ8/fXXxjLBwcE0bNgQKysrMjIyst04Pv7445QsWZLQ0NBcew4kJSWZ3QTWrl0byKxD9+STT2ZbvnTp0tja2lKpUiWjrIbJe++9h6+vL+vWrWPevHlGL2kRERERyVRY95aWMpVVyHofZ2NjQ7du3Wjbti1VqlTB0dHRrDTC7TWE71fcHh4eAGYlG0z++usvrl27RsWKFXF0dLyvifXcZC1JYmLat6y1pOvUqQNk9kDP2iPdxJSszy0Re7vjx48zaNAgfHx8WLNmDcWKFePJJ580ktmQeYz69euHk5MT0dHR2X4XODg4UK1aNW7dukXv3r1z3E5KSgru7u7G36bfBdWqVctxPypVqmTsx+0J59deew1fX19+/PFHpk6dSnJyskX7KiIFSwllEZECkJiYyNmzZ3n77bfZvHkz/fv3Z+PGjcaNJMCGDRvw9PSkS5cuLFu2jDJlytC8eXMuXLjA2bNnLd7W7XWUTfWTs/YyCA4Opm3bttSoUYOrV69StWpVrl27RkhICAAlS5YEMhPLQ4YMyXVbWQfwMK3Tv3//POPLqYdy/fr1SU1N5eDBg0omi4iIiNxBQd5bWsLe3h4nJycAs1IM7777Li1btuTy5cvs37+fGzduGAnC3r17Y29vn62t+xF38eLFAbh+/XqO8yMjI3F1daVEiRIFklCOiYnJNi01NRXArF606Rg+/fTT2XpvZ3X7IHq5OX36NImJidSrVw8bGxs8PT2xtbXN9rvghRdewMvLi/379+Pp6UlycrJR9sPJyQlra2vKlCmT5++CrEy/C27vaX673H4XABw6dEjJZJGHmBLKIiIFKDY2ltDQUGrWrImHh4fZTX9AQACRkZHGAHZ3O2DK1atXuXz5MpUqVaJ8+fJ4e3sTHR3NhQsXjGVMg474+PgQHh6OtbW12Y2laSCRgIAA3n77bYv3DTJH0779tcs7GTVqFB999BHvv/8+b7/9tlHDTURERERyVxD3lpaoV68etra2REZGGuUJatasScuWLTl69ChjxowhLS3NWN7KyirXTgj3I27TfamzszNXrlzJNt/Z2dlsuYeFKbn94Ycfsn79+ntuLyUlhdOnT9OgQQNq165tDLZn+i0A/1f/2sfHh2vXrlGiRAlOnDhhlLYwHaNff/01z5rHWZnW6d+/f7ZSH3cybtw4JkyYwPjx47G1teW7777L1/oiUjBUQ1lEpICZXmu7ffTqtLQ0vvvuO8qXL0+zZs3o3LkzcXFx7Ny5M9/bMCWHGzRogJeXFydOnDDr+RsSEsL169fx9vbOsU5aSEgI0dHRPPXUU9lGbM7NL7/8ApBtlGhLXLx4kZEjRxIdHc2sWbNo0aJFvtsQERER+TcqiHvLvFhZWTFgwAAAdu3aZUx3c3MD4MCBA2bJZMisG1ykSJEc27sfcZs6Unh5eWWb5+bmRvny5bly5co9J5RN9aEtvV++kzNnzgB3dz+dm6x1lL29vfn999/NxipJSEjg3Llzuf4uSEhI4OLFi1SpUsXoQX0n9/K74OrVq4wYMYLQ0FDGjRtHjx498t2GiDx4SiiLiBSgFi1aULFiRVJSUjh16lS2+Zs3byY1NZWxY8dSsWLFHAdZsYTpJrBPnz44OTmZ9UIwCQ4Opl69ejRs2NBsHci8kf/mm28oV64cY8aMwcHBIdv6zs7OZvXbvvnmG1JSUhg9erRRFy0rW1tb6tWrl2vMISEhjBw5khs3bjBjxgzatGlj8f6KiIiI/BsV1L1lbkqXLs306dPx9vYmLCyMVatWGfPCwsKA7End0qVL88Ybb+TZ7r3GvXXrVgAGDhxIqVKljOnW1ta8/PLL2NjYsGXLFovby41pIEIXF5d7bgsyay2fOHECX19fY2DB21WtWtVs4MM7Md3jt27dmmrVquX6u6By5crGwHpZfxcAfPXVV9jb2zN+/HijnEhWJUqUoEaNGsbfW7duJTo6mhdffNFs0EETKysrPD09c405MjKSkSNHcvHiRd544w369u1r2c6KSIFRyQsRkQck6wAURYsWpXLlysZgKp988olZfTmTq1ev8tNPPxk9dO92wJSgoCDS09OpVq2a8XdOy7Rv355ixYoREhJCRESE2fzly5dTrVo1unfvTrNmzQgKCiIiIoLSpUvj5uZG3bp1+fTTT42BNEJCQpgxYwYTJkxg7dq1HD58mNDQUGxtbXFxcaF+/frcunWLPn365Br35cuXGTFiBB9//DFTpkzB3t6eHTt23NUxEBEREfknKcx7y6zbt7a2pnjx4jzxxBPUrVsXe3t7fvnlF6ZMmWIkWAHOnTvHyZMnadWqFUuWLOHkyZOUKVOGRo0aERoamu3e837Gffr0ab744gteeOEF1qxZw969e0lISKBx48ZUrVqVn3/+mTVr1tzFUTB35swZEhIS6N27NyVLliQyMhKA9evX33Vt5smTJ7NgwQImTJhAr169OHv2LDExMZQvX55q1apRtWpVhgwZkuPnnZPz588TExND1apVgdx/FwwYMICqVasSFxdn9DA22bp1KzVr1qRHjx7Ur1+fI0eOEB4ejpOTE4899hj169dn27ZtzJkzB4Do6GgmTJjArFmzWLp0KcePH+fSpUtkZGRQvnx56tSpg5OTEy1btsw17lu3bvHyyy8zd+5cXn31Vezt7c0eWIhI4VJCWUTkAck6aEVqaiq3bt3i4MGDfPPNNxw7dizX9bZu3UqLFi04e/asWd3j/Lh16xYXL16kevXq3Lx5M8faZVl7J9zeCwEyeymPGzeOZ555hmeffZamTZtStGhRbt26xd9//83SpUuzvXq4c+dOfv/9d/r27YuXlxcNGzYkMTGRiIgI9u7dy+7du+8Ye3h4OCNHjuTjjz9mwoQJ2NnZqXaaiIiI/OsV5r1l1u0nJycTHx9PeHg4O3bsICAggCNHjmQbWDk9PZ0333yTYcOG0aRJE3r16kVERARbtmxhxYoVfPnll3lu717jXrRoERcuXKBnz54888wz2NracuXKFT755BO+/PJLY1C8exETE8P48eN58cUX8fPzMwaZ+/777+86oRwREcGgQYPo1asXLVu2pH379tjY2BAZGcmlS5dYv359vuoSp6enc+LECVq0aEFqaqox2F5Wp06dIjk5GXt7e37++edsJUoAPvjgAwIDA+nWrRs+Pj6UKFGC6Ohorl69ypo1a7L9Ljh+/Dj9+/fn+eef5+mnn6ZevXqkpqZy/fp1jh8/TkBAwB1jj46O5pVXXmHu3LkMHz4cBwcHlixZYvG+i8iDY9WoUaOMOy8mIiIFZfDgwQwZMoSZM2fel1fxREREROTf61G9t3xU4xYR+TdQDWURkYdIsWLF6NatG1FRUWaDmoiIiIiI5Nejem/5qMYtIvJvoZIXIiIPgSZNmuDh4UGzZs1wdnbmo48+IikpqbDDEhEREZFH0KN6b/moxi0i8m+jhLKIyEOgdevWPPvss0RGRrJq1Sq++uqrwg5JRERERB5Rj+q95aMat4jIv41qKIuIiIiIiIiIiIiIRVRDWUREREREREREREQs8q8vebFjxw7CwsIKOwwRERERKQCurq507NixsMN4JOm+WUREROTfI6/75n99QjksLIwXX3yxsMMQERERkQKwfPnywg7hkaX7ZhEREZF/j7zum1XyQkREREREREREREQsooSyiIiIiIiIiIiIiFhECWURERERERERERERsYgSyiIiIiIiIiIiIiJikYd2UL6FCxfi5eWV47zDhw/z+uuvA1CiRAlefvllWrRogYODA2fOnGH+/PlcvHixIMMVESkUpUuX5pk2rXFzdiYyNpbv9wbw999/F3ZYIiIiIiIiIvIP9dAmlN9//30cHR3NptWpU4fRo0dz4MABs+VcXV358MMPiYmJwd/fnwULFuDv709ERERBhy0iUiBsbGwYP2oUjWt6UPzzFdjt/5E0lwr0fO1VLiYk8dacOcTFxRV2mCIiIiIiIiLyD/PQJpT//PPPbNO6du1KcnIyu3fvBqB58+bUq1ePUaNGERwcDMDp06f59ttv6d+/P3Pnzi3IkEVECsyst97C+/gRig71N6bZAKXXfkG953rwyXvvMfiNN0hOTi68IEVERERERETkH+eRqaHs4OBA69atOXjwINHR0UBmQjkiIsJIJgPExcVx8OBBmjdvXlihiog8ULVr16ZOeipFP5iV43y7TRuo+OMPPNO2bQFHJiIiIiIiIiL/dI9MQtnX1xdHR0d27NhhTKtSpUqOtZL/+OMPXF1dKVq0aEGGKCJSIAZ07kTJj+fluUzRJYvp17FjAUUkIiIiIiIiIv8Wj0xCuWPHjty4cYPAwEBjmpOTEzExMdmWNfVgLlGiRIHFJyJSUKpWqQJH/u9amGFtTVxFF9Ls7P5voavhlCjiUAjRiYiIiIiIiMg/2UNbQzmrsmXL0qBBA9atW0daWto9t9e1a1e6du0KQKlSpe65PRGRgpSWlgYODpCQAEC6rQ3pdnakO9hjk5LyfwtaPzLPDEXkLrVv354+ffrg7u5OfHw8v/32GytXruTUqVN5rhcYGEivXr24fPlyAUUqIiJimdL9PyzsEB56N1ePKewQRORf7pFIKHfo0AEbGxu2b99uNj0mJibHXshOTk7G/Jxs3ryZzZs3A7B8+fL7HK2IyIN1KCiInp2ew2b9lwDYJKdQ4s/bkkL1PAn5++9CiE5ECkqfPn144YUXmDNnDkeOHCElJYXGjRvTokWLOyaUC4uNjc196RwgIiIiIiKF55FIKPv5+XHhwgV+//13s+mXLl2iYcOG2ZavUqUKYWFhJPz/3nsiIv8kX27ZSocpkyn13beQlEQGYHXbMtFvT+SzTZsLIzwRKQCOjo4MHTqUGTNmsG/fPmP6wYMHOXjwILVq1eK1116jcuXKJCUlERAQwPz580lNTWXRokUAfP7552RkZDBz5kz27NlD06ZNGTZsGK6urvz555/Mnj3bGKuiRo0aTJgwgYoVK3LkyBHS09P566+/WLJkCQBdunThhRdewMnJiZMnTzJnzhyuX78OZPaG/uCDD+jduzc2NjYEBgaSlJTExx9/bMQ9Z84cgoOD+eqrrwrqEIqIiIiIyF166N+HrlmzJk888YTZYHwmBw4coHz58nh6ehrTihUrRrNmzTh48GBBhikiUmCuXr3KZ9u2E71+EzxWkeTSJYmp7EZS6ZJQujSxi5eyJ/IGQUFBhR2qiDwgderUwd7e3iyZnFVaWhrz58+nY8eODB06FB8fH3r06AHAyJEjAfD396dNmzbs2bOHGjVqMH78eGbPns0zzzzDpk2beP/997Gzs8PW1pZZs2axbds2OnTowK5du/D19TW25e3tzYgRI5gwYQKdOnUiPDycadOmmcXTokULhgwZQr9+/di+fTvt2rXDyirzUVjJkiVp0KABO3fufBCHSkRERERE7rOHvodyx44dSU1NzfFHxoEDBzh9+jSTJ09mwYIFxMTE4O/vj5WVFatXry6EaEVECsY3W7cSdv06o9asw+niBTKOHiT5KU9uNmzC55s3sXHb9js3IiKPLCcnJ6KionItH/Hrr78a/w4PD2fTpk14enry9ddf57h8165d2bx5M2fPngVg+/bt+Pv7U7t2bTIyMrC1tWXdunUA7Nu3z1gOMkuTbd26lQsXLgCwePFidu3aRYUKFQgPDwcye0ObBk0+e/YscXFx+Pj4cOzYMdq1a0dwcDA3b968x6MiIiIiIiIF4aFOKNvY2NCuXTsOHz6c44+MjIwM3njjDV555RX++9//Ym9vz5kzZxg1ahTXrl0rhIhFRArOocOHOXT4MG5ubpQtW5aYvQe4uGxlYYclIgUgOjqakiVL5lqTuFKlSowePZqaNWtSpEgRbGxsOH/+fK7tVahQAT8/P3r27GlMs7Ozo2zZsmRkZBAREWG2/NWrV41/ly1b1iyBnZCQQFRUFOXLlzcSylmXh8yE9TPPPMOxY8fo0KGDkawWEREREZGH30OdUE5LS8PPzy/PZaKjo5kxYwYzZswooKhERB4uf1++zOXLl++8oIj8Y5w+fZqUlBRatGjB3r17s81/8803uXDhApMmTSI+Pp7evXvTqlWrXNu7du0aK1euZNWqVdnmeXp6Uq5cObNpLi4uXLlyBYDr169ToUIFY16RIkUoWbJkng/3v//+e9asWUO1atWoXLky+/fvv+M+i4iIiIjIw+Ghr6EsIiJ561rUit7FrGnncPvQfCLyTxUXF8fSpUt54403aNGiBQ4ODtjY2NCoUSNGjRpFsWLFiIuLIz4+Hnd3d7p162a2fmRkJI899pjx9+bNm+nWrRu1atUCMpPCTZo0oVixYpw+fZq0tDR69uyJjY0NzZs3N5YD+OGHH3j22WepXr06dnZ2DB8+nF9++cXonZyTiIgIzp07x+TJkwkICCApKek+HyEREREREXlQHuoeyiIicme/pmTgZA230jMKOxQRKUBffvklkZGRDBw4kClTphAfH8/58+dZtWoVhw4d4q233uL555/nwoUL7NmzB29vb2Pdzz77jIkTqbhRFgAAIABJREFUJ+Lg4MDs2bPZs2cPs2bNYuzYsVSqVImkpCROnTrFzz//TGpqKm+//TZvv/02I0aM4PDhwxw6dIiUlBQAjh07xtKlS5k5cyZOTk6cPn2aiRMn3jH+7du3M2XKFObOnfvAjpGIiIiIiNx/SiiLiDzizqYCKJks8m+0a9cudu3aleO8Pn36mP29dOlS498bN25k48aNZvMPHz7M4cOHc2zr/PnzDBgwwPh72bJlHDx4MM/2TBo3bpzj9KtXrxIeHk5wcHCO80VERERE5OGkhLKIyCPMGrACsg/JJSJy/3h6ehISEkJUVBQdOnSgWrVquSafLWFjY8N//vMftmzZch+j/Odp1aoV7dq1o2bNmpQpU4bw8HD27dvHqlWriI+PN5YrUaIEL7/8slH+5MyZM8yfP5+LFy+atWdvb8+wYcP4f+zdeXxU1f3/8dedPUDCvopgENyqIlgFlGgrqAgiYmurLLHu/gALKi61fosbWKtV0LgjiuCGiqIIKGpFIovIokFkEQKIISQsIfskM/f+/ggMhOzJzTKT9/Px4NHce8+cc+7jMTM9fuZzP+fSSy8lOjqazZs38/zzz7Nu3bq6vjURERERCWOqoSwiEsaOc8Kfmzjo7Tb4S5SBp74nJCIRqUuXLsyaNYvPP/+ca6+9lvvvv599+/ZVq6+uXbuyePFi2rRpwzvvvGPzTCPLiBEjME2TF198kTvuuIMPP/yQ4cOHM23aNAzjSN38J554gr59+/LUU09x//3343K5SEhIKLGZ4v33388VV1wRqr+9b98+pk6dSo8ePer61kREREQkjClDWUQkjGWakFRgss+EAgwVvhCRWjFv3jzmzZtnS187duzgoosusqWvSHf33XeTkZEROl67di2ZmZn861//onfv3qxevZq4uDh69uzJ2LFjQ+VDkpKSmDt3LqNGjQrVqO7evTuXXnopjz76KJ9++mmovzfffJObb76Ze+65p+5vUCSMvDtG/+lckb8+H6jvKYiISB1RhrKISBg7aBXVUN5jwvpCi8L6npCIiNjm6GDyYRs2bAAIZR/HxcWRnp5erBZ1Tk4OiYmJxMXFhc7FxcVRWFjIF198EToXDAb54osv6NOnD263u7ZuQ0REREQijALKIiJhzAs4D/3tQF/qIiKRrnfv3gBs374dgNjY2BK1kgG2bdtGx44diYqKCrVLSUnB7/cXa5ecnIzH46Fz5861O3ERERERiRiKPYiIhLF+XoM/eg2aG3B1EwednBW/RkREwlPbtm256aab+O6779i4cSMAMTExZGVllWibmZkJFG3YV5l2MTExtTVtEREREYkwKgQlIhLGNgcsHECeBesLTLLM+p6RiIjUhqioKB5//HGCwSCPPvponY07bNgwhg0bBkCLFi3qbFypnPsvmlbfU2jwpnw1vr6nICIiEnEUUBYRCWMpwSN//6R9UEREIpLX6+WJJ57guOOOY8yYMaSnp4euZWVlhbKQj3Y44/hwVnJWVhYdOnQos93hTOVjHb0h44wZM2p2IyIiIiISEVTyQkQkTBlAM+PIF7kD/UooIhJpnE4nkydP5pRTTuHOO+8sUS85OTmZbt26lXhdbGwsu3fvJi8vL9SuU6dOeL3eYu1OOOEECgoK2LVrV+3dhIiIiIhEFMUeRETCVJQBQ6IcfOc3SQ7CFVEGvwZgdaFV31MTkTA0d+5cHnvsMVatWlXfU5FDDMPgoYce4ve//z0TJ07kp59+KtFm6dKlXH755fTq1Yu1a9cC0KRJE/r378/nn38eapeYmMjNN9/MgAEDWLBgAVAUrB44cCDfffcdhYWFdXNTIiLSoLz6z5L19aW4GyeXfBJIpLFTQFlEJEwVWrDSb7L3UN3k9YWWaiiLRKBWrVoRFxdHr1698Hq9+P1+1q5dy9KlS9m/f399T09q0cSJExkwYACvvfYaeXl5/O53vwtdS0tLIz09naVLl5KUlMSkSZNISEggKyuL+Ph4DMNg9uzZofabN29m8eLFjB8/HqfTye7duxk+fDgdO3Zk0qRJ9XF7IiIiIhKmVPJCRCRMFQLbg5B9KCH5lwDsUUBZJKKcdNJJTJgwgXPOOQefz4dhGPh8Ps455xwmTJjASSedVKvju91uJkyYwMcff8zHH3/MhAkTcLvdADz//PP84Q9/AODMM89k+fLlnHfeeQD8/ve/Z+bMmbU6t8agX79+AFx//fVMnz692L8rrrgCAMuymDhxIqtWreLuu+/m3//+N6ZpMnbsWNLS0or1N3nyZD799FNuvfVWnnzySdq3b88dd9zB5s2b6/zeRERERCR8KUNZRCRM+QxwA1mHAspOir7U/fU4JxGxT6tWrRg1ahQej6fENZeraAk3atQopk6dWmuZyn/729/43e9+x3XXXYdlWfznP//h+uuv5+WXX2bt2rX07t2br7/+ml69erFr1y7OOussli1bVqz8glTfVVddVal2mZmZTJ48mcmTJ5fbzu/388wzz/DMM8/YMT0RERERaaSUoSwiEqZOchlc5jNCx308BhcddSwi4S0uLg6Ho/ylmsPhoH///rU2h0suuYQZM2Zw4MABMjIyePXVVxk0aBAAa9eupVevXgCcddZZvPHGG6FjBZRFRERERCKXAsoiImFqR8BiecGRDfi2BSx+0oZ8IhGjV69eoUzksrhcLnr37l1rc2jbti2pqamh49TUVNq0aQNAUlISxx9/PC1btqRHjx4sXLiQ9u3b07x5c0477TTWrVtXa/MSEREREZH6o4CyiEiYOmjBr8Ejx6km7AyW3V5EwovX661Uu9JKYtglPT2dDh06hI7bt2/P3r17gaLyCZs2beKvf/0r27ZtIxAIkJSUxLXXXsuuXbs4ePBgrc1LRERERETqjwLKIiJhqpUDoo6qcOEEmhqgohcikcHvr1xF9IKCAtvGdDqdeDye0L/Fixdz/fXX06JFC5o3b84NN9zAokWLQu3Xrl3Ln//851B5izVr1vDnP/9Z2ckiIiIiIhFMAWURkTB1gdfgd64j4eNYF1we5aByOY0i0tCtXbuWQCBQbptAIMCaNWtsG/Ppp59myZIloX9er5eff/6ZWbNmMXv2bDZt2sTrr79ebI5NmzYNBZAPH6t+soiIiIhI5Cq/MF8D0K9fP0aPHs3JJ5+MZVns3LmT5557jtWrVwMQHR3NuHHjuOCCC/B6vaxfv55p06axdevWep65iEjtWua38B9VMnlPEFb6TcoPP4lIuFi6dClnn312uW1M0yQxMdGW8a666qoyrz399NOlnl+5ciX9+vULHW/btq3YsYiIiIiIRJ4GHVC+8sorueuuu3j//fd57bXXcDgc9OjRA5/PF2rzxBNP0LFjR5566imysrKIj48nISGB+Ph40tPT63H2IiK1K80sfpxlQZZqKItEjP379zN79mxGjRqFw+EotkFfIBDANE1mz57N/v3763GWIiIiIiLS2DTYgHKHDh2YMGECCQkJvPvuu6HzK1euDP0dFxdHz549GTt2bOhxz6SkJObOncuoUaPKzKYREQl3XqC5A/abhDKSHRTVUM63oLAe5yYi9tm8eTNTp06lf//+9O7dG4/HQ0FBAWvWrCExMVHBZBERERERqXMNNqA8dOhQTNPkww8/LLNNXFwc6enpxWoH5uTkkJiYSFxcnALKIhKx2jrhfK+Dz/NMDhwqe9HUgMFRDpb7TXYqU1kkYuzfv5+PP/6Yjz/+uL6nIiIiIiIi0nA35TvzzDPZsWMHAwcO5L333mPp0qW89957/OlPfwq1iY2NLbVW8rZt2+jYsSNRUVF1OWURkTqTFoT/5ZtkHlVDOc+CFX6TvWbZrxMRERERERERqYkGm6Hctm1b2rRpw7hx43jxxRf57bffuOiii5g4cSJOp5M5c+YQExPD7t27S7w2MzMTKNqwLy8vr66nLiJS6wooWUM5AOxQZrKIiIiIiIiI1KIGG1A2DIOmTZvyyCOPsGTJEgBWr15Nx44diY+PZ86cOdXue9iwYQwbNgyAFi1a2DJfEZG61NoBBpTIRo42IAjkWqW9SkRERERERESkZhpsyYuDBw8CsGrVqmLnv/vuO1q3bk2bNm3IysoiOjq6xGtjYmIAyMrKKrXvefPmccMNN3DDDTeQkZFh88xFRGrf6W6DXm6jxPmLfAanlXJeRERERERERMQODTagnJycXO510zRJTk6mW7duJa7Fxsaye/dulbsQkYi1qsDiu4KSacjf+S1+KVR6soiIiIiIiIjUjgYbUD5c5qJPnz7Fzvfp04c9e/awf/9+li5dSrt27ejVq1foepMmTejfvz+JiYl1Ol8RkbqUa8HBUuLGu03IUDxZRBqI5cuX07lzZwDuuecerr/++nqekYiIiIiI1FSDraG8bNkyvv/+e+69915atGgR2pSvb9++PPLIIwAsXbqUpKQkJk2aREJCAllZWcTHx2MYBrNnz67nOxARqR0OoIuzqH5y9jHB46YGeIADCiqLSBXNnTuXNm3aMHTo0FDpMYCZM2dy0kknMXz4cFJTU6vd/3/+8x87pikiIiIiIvWswQaUAe69917GjBnDTTfdRHR0NDt27GDSpEl8/vnnAFiWxcSJE7n99tu5++678Xg8rF+/nrFjx5KWllbPsxcRqR0+A/p4Hazym2QHi187w23Q2gGf5iuiLBIpDF8L3J364Gp3Bjg9ECwgkJZEYcpKrHx794JISUnh4osv5v333wfgxBNPxOv12jqGiIiIiIiEtwYdUM7NzeXJJ5/kySefLLNNZmYmkydPZvLkyXU4MxGR+pNnwYI8E38pMeNNhRYu7cknEjGcLU/Ee8pVYDgxHM6iky4vrg69cLU/E//GuQQPbLVtvEWLFnHZZZeFAsqDBw9m4cKF3HbbbQC43W5uu+02LrroIjweD0uWLGHatGn4/X4ARo4cyTXXXINlWbz88svF+n7ggQdIS0vj5ZdfZvDgwVxxxRWhfqGoPMbVV1/Nrl27eOCBB8jPz6dTp0707NmTX375hX/84x/Ex8dz2WWXceDAAf71r3+xefNm2+5dREREREQqp8HWUBYRkdJZQJYFBaVcO2BBulnXMxKR2mD4WuA95SoMp+dIMPnwNYcTw+kpuu5rYduYP/30E02bNqVr1644HA4GDhzIZ599Fro+ZswYjj/+eK677jquvvpq2rZtyw033ABA3759GTFiBOPHj+cvf/kL55xzTo3mMmDAAF566SUuu+wyCgoKeOWVV9i0aROXXXYZX331FX//+99r1L+IiIiIiFSPAsoiImGmpQEnOEv/AvcB7Rz6cheJBO5OfcBwlt/IcBa1s9GiRYsYPHgw5557Ltu3byc9Pb1oKMNg2LBhTJs2jczMTHJzc5k5cyYDBw4EigLA8+fPZ9u2beTn5zN9+vQazWPJkiVs2rSJgoIClixZQkFBAQsXLsQ0Tb788ktOOumkGt+riIiIiIhUXYMueSEiIiV1dhmc6oIdeSVrXnRywjleBx/nmZRyWUTCiKvdGSUyk49lOJy42p1OwbbPym1XFYsWLeL555+nY8eOLFy4MHS+ZcuWREVF8dprrx0Z3zBwOIp+wmrTpg0bN24MXavJBn4A+/fvD/3t9/tLHEdFRdWofxERERERqR4FlEVEwsyGQottgaLSF8dKMeGr/NLrK4tImHF6KtnO3k3zUlNT2b17N+eddx5TpkwJnc/IyCA/P5+RI0eGspaPtnfvXtq1axc6bt++fZlj5Ofn4/P5QsetWrWyafYiIiIiIlLb9FS0iEiYCQI5ZQSM8w/VUFYZZZEIECytUnpp7fy2Dz1lyhTGjRtHfn5+6JxpmsybN4/x48fTsmVLANq2bUufPkUlN7788kuGDBnCCSecgNfr5cYbbyyz/y1bthAbG0uPHj3weDzcdNNNtt+DiIiIiIjUDgWURUTCTDcntC/j29sFdHBAlFGnUxKRWhBIS8Iyg+W2scwggbT1to/922+/FStfcdjzzz/Prl27eOWVV/jiiy945pln6NKlCwArVqzg3XffJSEhgffee4/Vq1eX2f+vv/7KjBkzeOaZZ5gzZw4//PCD7fcgIiIiIiK1QyUvRETCzBkeg9+CsKegZJqyz4ALfQ5W+k22lx+HEpEGrjBlJa72ZwLl1FG2ghSmrLRlvKuuuqrU88FgkH79+oWOX3zxRV588cVS286aNYtZs2aFjufPnx/6+9FHHy3WdubMmcycOTN0/Nlnn5XZ9pNPPuGTTz4JHe/atYu4uLjybkdERERERGqJMpRFRMLM/DyLH0oJJgPkWvBFvkmKgskiYc/Kz8C/cS5WsKBEprJlBrGCBUXX8zPqaYYiIiIiItIYKUNZRCTMBA/9K40J7FMBZZGIETywlby1r+Du1AdXu9OLNuAL+gmkracwZaWCySIiIiIiUucUUBYRCSNNDDjBCduDRdnIpengAD9wQIFlkYhg5WdQsO0zCrZ9VnFjERERERGRWqaSFyIiYaSFAWd4HPjK2XTvHI9BD5d25RMRERERERER+ylDWUQkjKSY8F6uSRnJyQB847coqLMZiYiIiIiIiEhjooCyiEiYqaiSxcHyos0iIiIiIiIiIjWgkhciImGkixNOquCnwNYO6OSsm/mIiIiIiIiISOOiDGURkTBynNMg2gGbA2WnIXd3GbR1QEpQqcoiIlK3Xu7Rsb6n0ODdsmV3fU9BREREpEYUUBYRCSPLCywq2m7vx8KK24iEkxNPPJFhF11Em5gY9mRk8OHixezcubO+pyUiIiIiItIoKaAsIhJmKso7zlNiskSI6Ohonvzn/Ryfl0vL11+FlBTMLl249Nab+SVgcu+//01eXl59TzNizJ07l8cee4xVq1bV91RERERERKQBU0BZRCRMGMDZboMdQYv0cnbmizagrQN2BCFYZ7MTsZfb7ebFx6bQ5YnHcM3/OHTeseZ7Wn40l7OuGclzjz7KTXffjWlWtFVleDvOn8+1e/cwKGMfUaZJnsPBohatebtNe37z+up7esUYhoFl6VctEREREZFIpoCyiEiY8ACdXXDAotyAcmsHnON1sCfPJEdxHQlTAy/6Ix3+91WxYPLR3O+8yfF9z6Nf3758u2xZHc+u7vTNOsiUHVtxWSbuQ+eamiZX7E9n8IF93N/1RFZEN6+18aOjo5k0aRKnnXYaTqeTpKQkHn/8cdLT0wF47rnn+PHHH+nduzcnn3wyo0aNolOnTtx55520bt2azz77jG7durFw4UI++eQTAC6//HJGjhxJq1at2LBhA48//jipqam1dg8iIiIiImIvR31PQEREKscPfJRnsTVQfrtdQfgkzyRXwWQJY6MuG0yTl58vt02zF57lusuH1NGM6t5x/nym7NhK1FHB5MPcQJRlMmXHVo7z59faHAzDYP78+QwfPpzhw4fj9/u56667irUZNGgQ//73vxkwYADZ2dlMmTKFF154gUGDBrFz507OOOOMUNu4uDiuu+467rvvPgYPHswPP/zAww8/XGvzFxERERER+ymgLCISYQJArlVxrWWRhiymaRNI+S10HHS7yT7hOEyX80ijTRtp365dPcyubly7dw8uq/xyHi7L5Jq9e2ptDpmZmXz99df4/X5yc3N5/fXX6dWrV7E2CxYsIDk5mWAwSL9+/di2bRtLliwhGAwyZ84c9u3bF2o7fPhw3njjDXbs2EEwGGTmzJn06NGDDh061No9iIiIiIiIvVTyQkQkTHRwQGeXwboCi/KSlN1AFxekBSFLUWUJVw4nGAYcqsdruZ1YGFhOJwQOVQd3uTAj+D0+KGNficzkY7kPtfvvcV1rZQ5er5cJEybQp08fYmJiAGjatCkOhyNUu3rPniMB7TZt2pCWllasj6OPO3TowIQJE7j99ttD5wzDoG3btip7ISIiIiISJhpsQLlXr148/3zJR12zsrK45JJLQsfR0dGMGzeOCy64AK/Xy/r165k2bRpbt26ty+mKiNS6pg44zglrKmjnNuD3Hger/CZZ2pVPwtS6DRsYeOEf4euvAHDl5hO9fVexNsHLr2DZ99/Xx/TqRFQlNxtsUoubEo4YMYIuXbpw0003sX//fnr06MEbb7yBYRihNkdvwrdv3z7aHZM1fvTxnj17eP311/n8889rbc4iIiIiIlK7GmxA+bD//ve//Pzzz6HjYLB4dOSJJ56gY8eOPPXUU2RlZREfH09CQgLx8fGhDWNERCLB1gBsDVScjplnwbxck4I6mJNIbZk5bx7n3P8vmid+A4GinHzL4cACHKYJPh/Zd97Lm5Mn1+9Ea1Gew0HTSgSLcx32VTBzOp14PJ7QcXR0NH6/n+zsbGJiYrjxxhvLff23337LnXfeyQUXXMC3337L8OHDad26dej6Rx99xM0338yWLVtITk6madOm9OnTh6+++sq2exARERERkdrV4APKO3bs4Keffir1WlxcHD179mTs2LGsWVOUs5eUlMTcuXMZNWoUTz/9dF1OVUSkQbCA2tuiS6Ru/PLLL7y5bDmj3v2QmDtvx39wPwUtYnBnZeNr2ZbMZ57nxU8+ISUlpb6nWmsWtWjNFfvTyy17UXionV2OXTvNnz8fr9fLwoUL2bt3L2+//TYXXnhhma8/ePAgDzzwAHfccQf/93//x2effcbPP/9MYWEhAEuWLCEqKopHHnmEDh06kJ2dzapVqxRQFhEREREJIw0+oFyeuLg40tPTQ8FkgJycHBITE4mLi1NAWUQiSi+3QbZlsaW8AsqHdHMWZSrvrr0n4UVq3awPPmBbSgq3vTqLlik7MX/4nsK+cWyPbsFzb7/D92sqKgAT3t5u057BB/bhLmdjvoDh4J027W0Z76qrrqpUu48++ij099ixY0tcX7FiBX/961+BovrI8+bNK1ZHedGiRSxatKiGsxURERERkfrS4APKDz74IM2bNyc7O5uVK1fy/PPPhzZ/iY2NLbVW8rZt2xg8eDBRUVHk5eXV9ZRFRGpFjAMs06AoB7l8p7kN9pqwuyCCdyyTRuHb5cv5dvly2rRpQ0xMDBnfv8j+/fvre1p14jevj/u7nsiUHVtxWWaxTOVCioLJ93c9kd+8vvqaYqn69OnDTz/9hN/vZ+TIkRiGUebTZiIiIiIiEn4abEA5JyeHt956i7Vr15KTk8NJJ51EfHw8r7zyCtdddx0HDhwgJiaG3bt3l3htZmYmUFT3TwFlEYkUS/yVDw5/lm+h/fgkkuzdu5eDe/fSxKi4bSRZEd2c0T1O45q9exiUsY8mpkmuw8GiFq15p037BhdMBjj99NN56KGHcLlcbN++nXvvvRe/31/f0wpbbdu2ZfTo0Zxyyin06NEDn8/H8OHDSU1NLdZu+fLlpb4+Pj6eLVu2hI4Nw2D06NFceeWVtGrVip07dzJjxgy+/vrr2rwNEREREYkgDTagvHnzZjZv3hw6Xrt2LWvXruXVV1/l6quv5uWXX65238OGDWPYsGEAtGjRosZzFRFpaArrewIiNrvYa9DKWRRNfi/XpDFVc/nN6+O/x3Xlv8d1re+pVMqrr77Kq6++Wt/TiBidO3dmwIABbNy4kXXr1tG3b98y286fP79YSRKAnTt3Fju+5ZZbGDFiBC+99BIbN27k4osvZvLkyUycOLHMoLSIiIiIyNEabEC5NJs3b+bXX3/l1FNPBSArK4vo6OgS7WJiYkLXSzNv3jzmzZsHwIwZM2pptiIi9ok2oJfHIKnA4kAlEpU7OaCpg0rVWxYJB78FLdJM2GfaV8bF6XTS/7zzGD1kMG3atCEQCPLFsmXMmT+/0ZTVkIZv3bp1DBkyBIChQ4eWG1BOT08vt7xIy5YtGTFiBLNmzeKtt94CYM2aNXTu3JkxY8YooCwiIiIileKo7wnURHJyMt26dStxPjY2lt27d6vchYhEDLcBPgOo5OP+x7kMTnU1stoAEtE2BOCHQotdQWzJTo6JieH1p5/mgRO68LvxY2jfpxfHDYxjRNIaZv/nceLO62fDKCI1Z1n2/YjSp08fPB5PiU0RFy1aRPfu3enYsaNtY4mIiIhI5AqrgPIpp5xCly5d2LBhAwBLly6lXbt29OrVK9SmSZMm9O/fn8TExPqapoiI7fab8Hm+xYFKRtJWF1h8nK8N+SSyOIAWBthRNXjqpH9xwpOP0eyeO+CXQ/Vl8/Jwv/E6LS/9I/ePHEn37t1tGEmk7lx11VUsWbKE//3vfzz77LP07Nmz2PXY2Fj8fj+7du0qdj45OTl0XURERESkIg225MWDDz5ISkoKmzZtIjs7O7QpX3p6OnPmzAGKAspJSUlMmjSJhIQEsrKyiI+PxzAMZs+eXc93ICJSfxpTfVmJfFEGDPUZ/Fho0dPjYE2BWaNyLqeffjqdUn7D9eknpTfIyKDFvXdx29/vYuKUKdUfSKQOLVy4kG+//Za9e/fSoUMHRo4cSUJCAn//+99Zu3YtUJSZn52dXeK1hze0Plw2TkRERESkPLYHlJs3b47P52PPnj2hc1deeSXdunVj5cqVfPvtt5XqZ9u2bVx88cVcffXV+Hw+9u3bx9dff8306dM5ePAgUPQI4MSJE7n99tu5++678Xg8rF+/nrFjx5KWlmb3rYmI1JtTXdDcYbCioHJZxy0N6Owy2FhoaYM+CXtBC34OwB4TvvWb7K/hLyZ/ufhims8ovrmv6XBgmOaRqjLLv+V3U5/D4/FQUFBQswGlUbJrTVxZDz/8cOjvH374gaVLlzJ79mxuvfVWbrvttmr3q82sRURERORYtgeU//nPf5KWlsaTTz4JwPXXX89NN91EVlYWV111FZMmTeLLL7+ssJ833niDN954o8J2mZmZTJ48mcmTJ9d47iIiDVlVKiLHOIqC0MkBKFTlCwlzBUDSoTfyARv6a9eqJezYETq2DIOcLp3wZGbj3Z8ROm/uSaVp06YKKEu12LUmrq7c3FyWLVvgLrooAAAgAElEQVTG0KFDQ+eysrJo1qxZibaHM5MPZyofTZtZi4iIiMixbK+hfMopp/D999+HjocPH87MmTMZNGgQH3zwAddee63dQ4qIRLyfA7C8ktnJADuCMCfPIlvBZIkAR/+YEm1A6xquXjIys6DD0ZuPWbizcnDmFt/M19GmDbm5uTUbTBqthrImPnpTv+TkZLxeL507dy7W5oQTTghdFxERERGpiO0B5ZiYGPbv3w9At27daNWqFQsWLADgm2++oUuXLnYPKSIiIhEs1gl/iTKIMuBMt8G5nqrk65f0wddfkxl/fejYsMC37wCufP+RRj17kZyWht/vL6UHkYrV95q4SZMmnH/++aHNrAFWrFhBYWEhl1xySbG2gwYNYuvWrezevbtW5yQiIiIikcH2kheZmZm0a9cOgLPPPpu9e/eGdpJ2uVw4HLbHsEVEIt4lPoMthRbJwcq19wCnug1+DVo1rjcrUt8OHKqhXGDBT4UWRs3iyXz//ffs/9vfaNb3PBwrlmG6nJhuF5bDiSs3D8Pj4eDj/+XFWdrgV6rPzjXxH//4R6Ao6xmgX79+ZGRkkJGRwdq1axkxYgRdunRhzZo1pKen07FjR0aMGEHr1q158MEHQ/0cOHCAt99+m/j4eHJzc9m0aRMDBw7k7LPP5p577rHpzkVEREQk0tkeUF61ahU33XQTLVq04Nprr+Wbb74JXevatSupqal2DykiEtFcQK4JgSq8xmFADxccNGF/bU1MpI4cMOGAWfTYfoYF1LCUi2VZ/P3BB3lxagKt3nkLY+7bFDgMMMB34qnk3D+JlxYu4scff6z55KXRsnNNPGXKlGLHh4O/a9asYezYsezcuZMLL7yQCy+8kGbNmpGTk8OPP/7IlClTimUoA7z00kvk5eXxl7/8hdatW7Nz504eeOAB2zcJFBEREZHIZXtAOSEhgQcffJDbbruNn3/+mVdffTV07dJLL+WHH36we0gRkYgWABKrUD8ZIN+C9/NUQFkigwsIUhRH9gBtHJBuQmEN+kxPT2fU38czdNClXP3qm/hys7GiW7A8eTszpz3Dtm3bbJm7NF52ron79etX7vXExEQSExMr1Zdpmrz++uu8/vrrlR5fRERERORotgeUDxw4wPjx40u9dvvtt6sWoYiIiFTJuR6D5g5YmG/RygFxPgdf5Zuk17CcS15eHnM+/Ig5H35kz0RFjqI1sYiIiIhEKtsLGj/77LN07dq11GutW7dm6tSpdg8pIhLRujhhkM/AV8XX/c5tcIKzVqYkUqd2Bi02FRZl3O8z4Yt8kwM21gbv4ICmBrRywMm2/9QujZXWxCIiIiISqWwPKPfu3ZumTZuWeq1Jkyb06tXL7iFFRCJaoQXZJhRU8XWdHNDGUcPdy0QagF1B2HZoQ8pCioLKVakpXpE4r0F3l0EHB/R0G/Y/viWNktbEIiIiIhKpauW/mSyr9LqdnTt3Ji8vrzaGFBGJWLtN2F3FGsoAi/2qoSyRwUtRIPlwUnIHx5HAsh2+8FsUWFBgweaAZWuwWho3rYlFREREJBLZElAeMmQIQ4YMAYoWzvfddx85OTnF2ni9Xk488US+//57O4YUERGRRuLyKIOtAVh3qOzF2R6DfSbsq8YPLaWxs3yGNG5aE4uIiIhIY2BLQNmyLEyz6L/GDMPANM3Q8WGZmZnMnTuXWbNm2TGkiEijcaHXINeCVVUMnp3ghOYOgx8Klaks4e2HQouMo5YVS/0WdiXgNzOguQNSgxAEYp3gMmCL0pSlGrQmFhEREZHGwJaA8oIFC1iwYAEACQkJPPHEE+zYscOOrkVEGr19JvjLeGy6PM0dBu1sr5QvUvd+OSa4m2njbyTHOeEsj4MPc02CwHFOA7cBWwL6IUaqTmtiEREREWkMbK+hPG7cOLu7FBFp1NZXM8NYmckSCRyA1wC/daSGcnMD2jhhqw1ZxNsCkGaaoU0vlxVYqAKG2EFrYhERERGJVLWyKV+TJk0477zzaN++PV6vt9g1y7J47bXXamNYERERiTCtHDDA52BJvknqoUhvh0NZxTsDJoU17L+Q4jWUFUwWO2lNLCIiIiKRyPaA8plnnskTTzxBs2bNSr2uxbOISOU1N2CAz2CZ3woF0yqrjQN6uAzWFFj4a2d6IrUu24JVfpOMoxLukwOwI1jzYDJAFyfkWEWlZaAoI7q3xyAtaLEzaMMA0mhpTSwiIiIikcr2gPL48ePZvXs3jz32GFu3biUQ0K42IiLVFQC2ByC3GtUrPAa0dID7ULkAkXCUb8G2YwK7BQA2vad7eQxSgrDv0KaXJkU/xuQoVVlqSGtiEREREYlUtgeUTzjhBB544AE2bdpkd9ciIo1OjgVrqlkLOSUIKUFFkiW8eQGnUfxHFScQ64K9QYplLlfHZ3kWGMXPLcrX50ZqTmtiEREREYlUDrs73LNnDx6Px+5uRUREpBE6yW1wua94xNcAzvY46Oisef/5FGVBi9hNa2IRERERiVS2Zyi/+uqrjB49mlWrVpGbm2t39yIi9e70009n1ODBHN+pE36/n4XLlvHp4sW18p3X223QyQnzqxHx8gJnewy2Biz26PF9CVO/Biwyj3n/BoB5eWaNS7k0M6CjE3YEDpXROCTagN97DH4stEK1lUWqSmtiEREREYlUtgeUzz//fFq1asXcuXNZv349mZmZxa5blsUjjzxi97AiIrXO6/Xy1L/+jxMzDtD8hWmQ9CPENCf2r9fyt+cSeGDaM6xdt87WMdNMq9rZkxbQ/FANZZFwlWFBRimb49mRVdzGAb09DnYHTQqO6q+QogWSDQnQ0ohpTSwiIiIikcr2gHLPnj2xLIucnBxiY2NLXLcsPVcqIuHp8X/cx+8+fB/va9OPnMzKwvfUE/hmv8GUjxZw25Qp7Nixw7Yxd5USSKusAmChnuWXMBdtQJCSG1N2ckKUAVtrsM/Z9iCk5pr4jzmfb8Fi7WQpNaQ1sYiIiIhEKtsDyn/605/s7hKAp59+mr59+/Laa6/x8ssvh85HR0czbtw4LrjgArxeL+vXr2fatGls3bq1VuYhkcvj8dCzZ098Ph8pKSl6D0kx3bp142SD4sHko6XtocW9d/D/br2d+x5/3LZxnRQF00Qaq74eAz/wzTEB3uOdBm0dsDVQs6Bcfo1eLVK22loTi4iIiIjUN9sDyrXh4osvpnv37qVee+KJJ+jYsSNPPfUUWVlZxMfHk5CQQHx8POnp6XU8UwlHLpeL26//GwPPOw/X/77ElXEAf/8/k318F6a98QbfrlhZ31OUBuAvgy4l5pUXy2+09BvOfHIaXq8Xv//YnMfqGR5lsCkASYXVC5qd4zHINi1+rkEWp0h9+qHQorQyxqsLrBr/2NLNWZTJX9qTAF2ccKbbYFG+hT4+IiIiIiIiR9gSUG7fvj179+4lGAzSvn37Ctvv2bOn0n1HR0czfvx4pk2bxsMPP1zsWlxcHD179mTs2LGsWbMGgKSkJObOncuoUaN4+umnq3Yj0ug4nU6efeRhTln8Gb47x0GgKGzQBGjZoSP/em0WTzdtxqIvv6zfiUq969y2LY4tm0PHh8O7x5YntnbtIiYmxpYftBzAT4UWe2uwKZgHcBkGR2YsEl7Synj/2xHk7eE2yDJhV7Dk5yPPgr0muAyoYRK0NCK1uSYWEREREWkobAkof/DBB9xyyy1s2LCBuXPnVlgTrn///pXue8yYMWzbto3FixeXGlBOT08PBZMBcnJySExMJC4uTgFlqdDwyy/n5NWr8E37b8mLqbuJ+fMwxv9vGYkrV5KdnV33E5QGIys3F1q3gV+2ABCM8pLfthVRqXtxFhSG2hmtWpGXl2fLmCbUOLP42wJFwiS8tXZAtkmJOsfNDIh1GWwNWCXqK1fWZ/lWmQuhdBPS9fmRKqrNNbGIiIiISENhS0B5ypQp7Nq1C4DJkyfb0SUAZ555Jpdddhnx8fGlXo+NjS21zu22bdsYPHgwUVFRtgV2JDJdO/gyoq4YVHaDnByi3pjBsEGDePP99+tuYtLgzFuaSO+Ro4lZuRwAI2jiCAQJNIk6ElA+sTtpBQW2/fjgpCgDWo/bS2PlAQb6HKwpMNlyzAfBa8CpLkgLltywryoq+nwpv1+qorbWxCIiIiIiDYktAeUFCxaU+ndNuFwu7r33Xt566y127txZapuYmBh2795d4nxmZiZQVC5DAWUpS5MmTfDl5MDeveW28y6YT/8nn1FAuZFbuXIlmddfT8yZZ8GP63AWFOLKzqWgVXPcmdk4gKzHnuCl9z+wbczjndDH6+DTPJPsaka0TnZBa4fBMmVaShgKAEvyTbJKefvuM2FOXvXf100N6H4ow7msz9fv3QatnUWZzCKVURtrYhERERGRhqbBbso3atQovF4vM2fOtL3vYcOGMWzYMABatGhhe/8SHpxOJ5jFd2IynQ6MoFm8Lm4ggOE4tlKuNDaWZTHh4Yd5fvrrtHj2aVwfvIc7Owd3Vg7GGT3JfPARPti8heUrVtg25gETfigwqUHMDCiqxSwSjkwgtQY1xMsTbcBJLvg1SJkpyGlm9ctpiIiIiIiIRKpaCSi3bNmSiy++mC5duuD1eotdsyyLKVOmlPv69u3b87e//Y0pU6bgdrtxu92hax6Ph2bNmpGbm0tWVhbR0dElXh8TEwNAVlZWqf3PmzePefPmATBjxowq3ZtEjqysLIKtWkPTppCTA0Beh7aYbjdNd+3GESgKNgfiLuTHUkqrSOPz22+/EX/nXdw08A/E/fN+3L364Gjbjm27djH9w49Yu3atreMdtOBgDetdbArAJj2wL2HKB0Q7YL8JwVKun+oq2jxve2kXK5BqwnsV/Fqzsxr9ihytpmtiEREREZGGyPaAcpcuXXjllVdwOp34fD4OHjxITEwMDoeDrKysStUW7dSpE16vl4ceeqjEtZEjRzJy5Eji4+NJTk7m3HPPLdEmNjaW3bt3q9yFVOjjL79idPwNeF54FgB3Vg7+Vi0IRvlwZOWA00n2rWOYM+nB+p2oNBgHDx7kxbnzWOCEX977hI4EaWrUfPO80vgMCFiqoSyNV3sn9PU6WJBXetmLzk6DgxZsD9bejyYG4AYKam0EiVR2rIlFRERERBoi25+EHjduHBs2bGDIkCEYhsEdd9zBH/7wBx577DHy8/O57777Kuxjy5YtjBkzpsQ/gIULFzJmzBh27drF0qVLadeuHb169Qq9tkmTJvTv35/ExES7b00i0Jtz55I6Mp7AkKEAuDOzafpbKq7sHHC7yXp5Bh8uX87eCuosS+OSYxUFkAuDQdo5DLq6aqckyvkegzhvzfru4ICLvQZRqtoiYSg1CF/nm+SUES9e7Lf4rpr1wXu4imqMV2SIz+Asjz5AUnV2rIlFRERERBoi2zOUTz31VP7zn/9QUFCUy+NwOAgGg8yfP58WLVowYcIExo0bV24f2dnZZT46npqaGrq2dOlSkpKSmDRpEgkJCWRlZREfH49hGMyePdveG5OIlJeXx8333svku+6i2y3/j+iP5uLOziL3tDPIH3oFb33yCW/O/bC+pykNiAeIOfQIvgmsKbQwC2tnrJ8DVpm1XSsrSFFmpcJhEo78wJ5aqqHc1mHgNmBToPwP2YZCq8Z1zKVxsmNNLCIiIiLSENkeUI6KiiIzMxPLssjOzi626d3PP//M9ddfb9tYlmUxceJEbr/9du6++248Hg/r169n7NixpKWl2TaORLbMzExunzSJIW1bcFa3rhw49XT2/7aLD265lcLCWooUStjq4IR+Xgef55scOBRUri0pNtRvTTdhiV/RMAlPLQxwG0Xv49J0cEBXl8F3BVaVf3tZVsnM5m2qoyzVVJdrYhERERGRumR7QDk1NZXWrVsDsHPnTi666CJWrFgBwPnnn1+jenH9+vUrcS4zM5PJkyczefLkavcrApC4N4PV+zJo7/yRHi4oLFQQTkraHYRv/SYZRwW4eroN8i2LTTYWO3YAzYyi8hqKZ0ljdYrboI0D5ueX/n0cZUBbR9GTA/5anEeTQ/XMVUdZqqI218QiIiIiIvXJ9oDyd999xznnnMNXX33FO++8w8MPP8yZZ55JMBika9euzJw50+4hRWxx0Cr6t9+0WK/EZClDIbDrmAhvtAEuDGpcn+IozQy4LMrBcr/JzhpElH3ABT6DDYVWiXmLNHRJhRbllS9ODkJyNTbk8xlwlttgc8BifwWPGTQxYGiUg9UFJr9oh0ypAq2JRURERCRS2R5QfuGFF3C73QB8+eWX+P1+BgwYgM/nY86cOcybN8/uIUVqrLlRlOm2x1QGmpQtyih6xP63YPH3SWI1NwUrjcvl4sK4OM45sRve7IOkb/+VXd+twjSrV1wjAORZUI2Ym0i9y7Eoc0O+mvACbRyQXIm2uRas8puk1WZ9G4lIWhOLiIiISKSyPaBcWFhYrO5sYmIiiYmJdg8jYqvuLoOuLvgwz8IBnOyCvWbZdTulcWrvgHO9DhbmmdgYQw65oP/53HPjjXg/W0izeR+Aw8H5gwYz4ZZbeOjZBFaXsVlpeQLAUtVQljDVyVEUUD5YxlvYBfzeY7AzaFWp5vhBq+wyGqVRHWWpDq2JRURERCRS2R5QFglHPxRabAseKVhwuttgQwDSTQXi5IjtQdifZ5J5zNvCBfT3GmwPWGyvZuDp/L59+edVVxEz8ALIyMB0ObEMg2ZffE50u/ZM/uAT7nnhBX5MSqrxfYiEi3O9Br8GYHUZNe2DQGtH7f/45z40Tlotb8QpIiIiIiISDmwJKD/77LNVan/77bfbMayIbQLAgUNRAouiTGWVypTSHBtMBmx5r0y88UZiLr8YMjIAKIxpRmGzpjTbmQJpe2g+6i/c9/qbjPj7+Cr3fYHXIMuEtdpoUsLMl/lWuZtSWsCnVcg0PuxkFzQzjDID1cdq74TzvQ4W55sV1lyWxk1rYhERERFpDBy2dOJwYBhGpf+JNCTNDejhKspAO0zBZDlWtAE93QZRZXyFfe2vfnZyr169iFq3GvbuDZ1zZeXgS99/pNGO7bRIT+PEE0+scv+ZJuRYCiZL+MmyimoY281rGDSpwgooLQhf55tkKpgsFdCaWEREREQaA1sylMeOHWtHNyL1ooMTzvI42B44Eilo54DOToM1yuiUQ1o44CQXbKmFXxu6x8bSfPmyYuechQEoLD5Y1IrlxMbGsnXr1ir1v07vYwlDbqCTs6jMRF45b+GTXNDCYfBdFQqb/1jFz0QBRZu2ilREa2IRERERaQxsyVAWCWebAjAvz6TwqHPNHdDFBZ56m5U0NL8GYW6eVWa2ZAsDhvoM2lfjW9UfCBD0ekPHlmEQaBKFdUz2mtUkqtgGTyKRrJkD+nodtKzgM+U2DHx1kOgZY0AXZ+2PIyIiIiIi0tDVyqZ8zZo145prruH000+nbdu2pKenk5SUxLvvvkt2dnZtDClSI8eW4NwSgC0BZXVKceVVtMi1YK9ZvXIpq1evJvP2cbR8+YWicaJ85LVrTZPdaTj9BaF2/kFDWHffP6rc/xlug45O+LwatWZF6stBExbkmeVmJwP8VMVsYxdFdcU3FlqkVCHr+ASXwcku2JVnaWM+qTStiUVEREQkEtmeody9e3fmzJlDfHw8Ho+H7du34/F4uO6663j33XerVf9TpLY0M6C326CpyhhKOVoa0N9jEF3O+6QAWF5gsa8akabffvuNXYB53vkAOHPzaLI7DcdRweTg5cNY/+uvHDx4sMr9Z5kWe6tZ31mkvpgU1VC2u8qMu5rf91sCFp/mK5gslac1sYiIiIhEKtszlO+8804yMzO54YYbSE1NDZ3v0KEDU6dO5c4771R9OWkwYgzoVkZd3F5ugwNm9Tdak8jhM4rKoFSmRKuT8jOZy/LP/z7FK1Ofo81D/4dzwfwjmckOB4GrryF1/F08cvfd1egZtgdhe1DZyRJeWhhFtct3Bik3iNvcgN4eg3UFFgcq8TbPs+Arf9U/DxVlSoscS2tiEREREYlUtmcon3rqqbz88svFFs4AqampvPLKK5x22ml2DylSbSkmfJBnkVVKoKCNA2IcSl0W2G3Cp/kW/gradXXCn6IMoqrxtklPT+fGe+7lmyFD2ff2uxyY9hwZL0xn/4o1LBpwCTfefTeZmZnVmr9IOOrkhD7eipcpJkWLmbr4uu7sVB1lqTytiUVEREQkUtmeoXzw4EEKCgpKvVZQUFCtx7VFalNZSWeLq5HBJo3bARM2BMCq5ltn3759zHzlZXo38bL+uG4UWhbbZ7xOfn5+jeZ1nBPO8Rh8kW+Rrbe1hInNAdgRNCssMZFlwZdV+L4+2QWdnAb/q8Z3fHeXgRPYqYx/qQStiUVEREQkUtmeofzhhx8ycuRIPB5PsfNer5cRI0bwwQcf2D2kSLV4gAu9Bm1t/xRIJGnrgMt8Bs0rkf2YacH6QouahH83BeD9TD9JP//Mxo0baxxMBsg14ddA9UpxiNSXAJBTC3HbAFDd3wuX+61qlcuQxklrYhERERGJVLZnKHu9Xjp06MCHH37I8uXL2b9/P61ataJfv374/X6ioqK4+eabAbAsi+nTp9s9BZFKiTKKauOWpa0DTnUbrPBblJ5fJI2BRVFQK7eSMSQDaGLULBBWWP2XluqABasLFQST8NLZWfT5+60Sv4T09RjkWfBDJd7nWwOwtcxnU8pXUdkbkaNpTSwiIiIikcr2gPJ1110X+vuyyy4r97oWz1KfDlrwWX7ZQQUnRUFnr1G5zdgkMu014ZsqZCT2chuc4IK51djBq4cLWjoMVhVY1Qx3iUSOk10GJvBbJcpLFFhQWN1aM1XgAH7nNkgPWqRWVItDGj271sRt27Zl9OjRnHLKKfTo0QOfz8fw4cNL1Gb2eDzccsstXHrppURHR7N582aef/551q1bV6ydYRiMHj2aK6+8klatWrFz505mzJjB119/XYO7FREREZHGxPaA8vnnn293lyL1ItWE1HICzhL5DldDqUrcaEfQYp9Z9Nqqxps8FP2IYfe7zgcMjjJYV2CxTXUvJEws8VuVrsu1pgoZ+IN9BpsCFlsDVZ+TCZzoAhODVFP//yDls2tN3LlzZwYMGMDGjRtZt24dffv2LbXd/fffz3nnnUdCQgIpKSn86U9/YurUqdx8881s2bIl1O6WW25hxIgRvPTSS2zcuJGLL76YyZMnM3HiRJYvX27LnEVEREQkstkeUBYJBwZwqc9gY6HFdgXYpAztHXC+1+BLv8WBSkaH95mwr5rj/RQAAvYHqQqB7YGiGs8i4aIa8d4KuYD9JtTkt8KP86wq/1gkUhPr1q1jyJAhAAwdOrTUgHL37t259NJLefTRR/n0008BWLt2LW+++SY333wz99xzDwAtW7ZkxIgRzJo1i7feeguANWvW0LlzZ8aMGaOAsoiIiIhUSq0GlNu0aVNiIxKAlJSU2hxWpEJuINOkwtrIv/cYFFjwo+rPNkq5FvwSKHqvVEWUAV4gowpvGwP7M5MPC1K1DE6RhuBUF6SZRT/SVKSLE85wG3yWb5UbiA4AK2pYw8jj83H22WcTFRVFamoq69evr1F/0jjUZE1sVaKcS1xcHIWFhXzxxRehc8FgkC+++ILRo0fjdrspLCykT58+eDweFi1aVOz1ixYt4oEHHqBjx47s3r27EnckIiIiIo2Z7QHlmJgYJk6cyIUXXojT6Sy1Tf/+/e0eVqRKCoBlKowsFThowbpqBGL7egxcwOIq1F7u7zUIWLBc70sRXMCZHgc/FJiVCigXWEWZx5UtkVEdbrebW8fcTp8zzmT7kpXsanMi/Qe35a62XmbOeJmv//dVLY4u4agu18SxsbGkpKTg9xffOjI5ORmPx0Pnzp1JTk4mNjYWv9/Prl27SrQ73I8CyiIiIiJSEdsDyvfffz9nn30277//Pjt27CAQqI2HVkVqprLZoN8ruNdouSjKNM6qxlvgx8KqPxK/N1h+ZmVNXeozyDQVsJbwEADez638pyjVhNRKvLd7uIo2+1tUQSbzsZxOJ/9+4mnWpji559Uf6XdwK2uaOUj3HCCmiZt7rr2F6OgYPvn4oyr0KpGuLtfEMTExZGVllTifmZkZun74f7OzsytsJyIiIiJSHtsDymeffTZPP/00CxYssLtrEdsM8hmkBOEHlQGQMnRwwvleB1/kVy5D8mhVbQ/wcy3/9pYcsGpUN1akrtVGefscs6iMRlU/bpcPvYJtGT4+XJYMzig+a3VO6FpmbiEPv/UTU2+NZ+k3X5ORkWHvpCVsRcqaeNiwYQwbNgyAFi1a1PNsRERERKQhsD2gnJmZyf79+2vcT58+fRg1ahSxsbFER0eTkZFBUlIS06dPZ/v27aF27dq1Y/z48Zx77rkYhsGqVauYOnUqe/bsqfEcJDIZwK4gHDArjq61csA5HoPv/BYHFIxrVPaasMpvVnozvmO1dxSVVqnM65sZkGPVXg1lgM16WETCSLRRVBd5a7ByG+g5gct8BpsDVrnv9RQTUqqRpT/0yj/zr7d/KfN6QcDk01WpDBk6jDdnzaxy/wDR0dEMufwKBl46BLfHgxkMsnTJV8z78H327avuVp9Sn+xaE1dGVlYWHTp0KHH+cMbx4QzkrKwsmjVrVmG7o82bN4958+YBMGPGDNvmLCIiIiLhy/Zyg++99x7Dhw+vcT8xMTFs2rSJ//73v0yYMIEXXniB2NhYpk+fHlowe71eEhIS6Nq1K4888ggPPfQQxx9/PAkJCfh8vhrPQSKTBSQVWuyqRPpboVWU0SaNT74F24JUuXTFYX28Bie7jArbGcDFPoOz3RW3ranarC8rYqfmDjjd48BbyfZBijKPc2rhVxmfz4dpuDmYc2Qb1+P86fwh4wcM68g3xKrN++jZ65zSuqhQbGwsz730Go7O/bl/9ibGPL+WO19dz4GmZ/J0wiucddZZNb4PqbQc4ZwAACAASURBVHt2rYkrIzk5mU6dOuH1Fv/UnHDCCRQUFIRqJicnJ+P1euncuXOJdoevi4iIiIhUxPYM5XfeeYe2bdvy9ttvs2rVqhL13CzLYvr06RX2s3jxYhYvXlzs3IYNG3j33Xf54x//yNtvv82wYcPo1KkT11xzTWih/MsvvzBnzhyuvPJK3nnnHftuTCKGF/BX2KpIlgWJqjnb6HiB1k5IC1b90fjDvsm3yK3EW8cAVhdYtRIIO9rZboPOLpiXp/ezNHy7gvBerlmlrP3vKvFdfYXPYHuwqM55ZRmGwbEPtFgYBAwnHiuA3/AAYFpFbavK5/Px0OT/MOW9zfyanhM6XxAw+Xx1Cqs272PKvf/irr/fSnp6epX7l/pj15q4MhITE7n55psZMGBAqMSG0+lk4MCBfPfddxQWFgKwYsUKCgsLueSSS/4/e/cdH0W1NnD8d2ZbOiGhJPReBMEAgiioiGK7Vu7lWlGxInCxgl1RQdFrw97R69WrryIIKCJVQHroCQESSgJppJftM+8fA4FAys5mNwlwvp9P/shk9szZzezsznOe85xK2cZXXHEFqampckE+SZIkSZIkyScBDygPHjyYkSNHYrFYaNeu3Ul/r8uX56KiIgC8Xj21dOjQoezYsaPSStWZmZls27aNCy+8UAaUG4CiKJx33nl07NQFt9vF+nVrG122yxCbwAssc8rAmlS1eBMMsin8blcp9PM08fVxKnAgGMViT3DIq1EqT3npFBKMySH7vJDnQ7mj49ntdkLMGuEhZsoc+hDTIVszDtmaVdovoXNTkpO2Gu7TiMuvYPmO/ErB5OMVlDj5YeVBbhg5ik8+et9w+1LDCeR34mHDhgHQo0ePirYLCwspLCxk06ZN7Nq1iz/++IOJEydiMpnIzMzkhhtuID4+nueff76inYKCAr777jtGjx5NeXk5KSkpXHrppfTv359JkyYF4FlLkiRJkiRJZ4KAB5QnTpxIUlISb7zxBvv27asI/vpLURQURSEuLo4HH3yQw4cPV2Qud+zYkRUrVpz0mLS0NC655JI6HVcy7uJhlzDm3gfZuq+YlEN2LGaF8ZOvxaqWMe2l5xpN1stuj2YoUDHAKggXsFwGoM8YB7xQ5vA/mAz6xbWDGXK9UFRDO+1MkOXV6y0HU6aq/0jSqaC1CZoISDIwRSDBIogzwW81FF02kpl8vF/nzeZvg4bx/fL9Vf7dpAiuGRjP5IdeMNz25Vddy7Sf0ytti/CUU2oKhSMZzyu35/DO/RfLgPIpJpDfiadNm1bp96PB38TERMaNGwfA1KlTuf/++7n//vuJiIhgz549PPzww+zatavSYz/++GPsdjujRo0iNjaWAwcO8Mwzz7Bq1Sq/+ydJkiRJkiSdWQIeUG7ZsiVvvvkmqampAWnvs88+o2fPngCkp6czfvx4CgoKAL3OclWLhxQXFxMZGVltm3K16sAbPvwyrr/lHh77YltFBhfA7xsy6N6mCdPfeJdHJ45tFNN1jWaDFqkaDj+mMUunLhXIrWPwVQD9rQpbXCpF1QTFogQMtilscKmk1sOieWb0WrNyaERq7FoqgjYmSPL4frbmqRoeqr9WK/if9Tzn51m89e5l5PRtydIt+qK/FxTtIN8cQWqTjjx6Y3eW/D6Xw4cPG247PDycwtJjQ0rR7hIuKdzCyia9yLE2BcDtVZFV0E89gfxOPHjw4Fr3cTqdzJgxgxkzZtS4n6qqzJw5k5kzZ9a5X5IkSZIkSdKZKeB3J7t27aJZs2a17+ijKVOmcPfdd/Pcc89RVlbGjBkzqlzF2og5c+YwZswYxowZQ2FhYYB6euayWCyMuW8sU77dUSmYfFRKRhFfLM7gngfGN0DvKosQEGIwNrzbA9v9zGo7kdkc8DEcKcDCBPQwQ12X9XQDv9hVdtYQKC7WYKFdJb0egsntTDAyTCFSjo1Ip4BEt8YvNWQaV+WAV19wtTrtTfCPUEGYH+8Bp9PJYw+N55zmxbxzfwJ/H9Kent1bcdX5HXj3gXNYv/Rn/vufmcYbBkpLS4mJPLaQmiYEB22xlJuOXYUsZgW0eqiNIwVUoL8TS5IkSZIkSVJjEfDo1ptvvsmzzz5LRkYGW7caryV4ov379emlSUlJrF69mlmzZjF69Ghee+01SkpKiIqKOukxUVFRJy18IgXPsGHDWJWUh91Z/c3u+pRc7hzej4iICEpLS+uxd5X1sQhiFZhrMFBRF23atGHUzbfR/9xBOFxeQqxmtm/dzPfffk1aWlq99UPyTXMF+loVDnpV6nqa+LL+XUE9nYoFKmxxqcg1JqUzVZEGKR78fl+Xl5fz8gvP0LRpUwYPHkxZeAQbt2xl6kev1KmUwYJ5c7ii/9/4dpn+fafIHMHaqJ6gafqPEFx4dkv+XL7U72NIDSPQ34klSZIkSZIkqbEIeEB5+vTphIeH88EHH+BwOKpc0frGG2/0q+3S0lIyMjJo06YNoNdK7tix40n7dezYkX379vl1DMm4rj17s/VA7UHiXRlFtG3bluTk5HroVdWS3RqhBrPTIgVcGiLY4NJINxgzSEjox8THn+brJel8+u4Gjq4FldAllqdffJ2vP32P5TJI0Kjs90K2ve7BZNDPnS5mwU6PdlJwOQToZhHs8WiU10OQt0SjxmxpSWpMepmhVNPfj76KUeASm2ClUyOritoW+SrkG1yQryoFBQX8+uuvdW7nqD/++J1PbrqV1SmR7M0sAU0jylvOBcU72BjRFa15PCMHx/Pov14I2DGl+hHM78SSJEmSJEmS1JACHlDesGEDmhac6EjTpk1p3749CxcuBGDlypWMHz+eVq1acejQIQDi4uLo06cPH3zwQVD6IJ1M9XoxKceitGbVQ3tnDoessdhNx6bxmhSBqjbsqmAFmvGMULsGBzxQZvBxTZo04ZHJz/DEzG2V6mMCbNqTR0p6Ea/dN549e3Zx8OBBY41LQRWoBHaLgM5mOOg9OVs5xqSX1thfj0FeK3oNWRlXlhq7NmZBngr7vb6/GctVvURRdTMDrAR28ctWCgywCRY7NMOfD8dzOp088+RjvPzqGyzfUUDB77+R7zFTEhrNxf3acMnF3Xn1pef8qs8sNaxgfieWJEmSJEmSpIYU8IDyyy+/HJB2Xn31VVJSUtizZw9lZWW0a9eOm266Ca/Xy7fffgvotZD//ve/89prr/Hxxx+jaRr33Xcf2dnZzJ49OyD9kGq3eeM6LrzuHNan6AvuNfWU0rc0jeiQUjZGdgP0YHL3Nk0aNHM8SoBNwGHV2KJkHmCjHzWU/3btDcxdl3VSMPmocqeH7/48yI3/uIl3336jYrsQgkGDBjHo/Asxmc3s3bOL3xf8Snl5ueE+SMZECehuESS56xYgOqpAhZ/sWpXn2yEv/GzXcNf9MD6xAdeHKSS6VHbLiLLUyP3ux6iOA9hSw7X60hBBgQqrA1T3pVyDrACVNU5PT+eBe+7g8iuu5JoRPbFGNcEZ35Yli35n3H2vVrkAsdT4Beo7sSRJkiRJkiQ1No12hbDt27czfPhwbr75ZiwWC9nZ2WzatImvvvqKrKwsABwOB+PHj2fixIk8//zzgJ4N8vbbb2O32xuy+2eUtWvX8sD4h4mNCiGv2EGuNZq9IXF0dGSxOaIzXmFieEI8a1avxOl0Nlg/O5sFnc0wq5oAX21MgJHYwbDhlzH565RjGzSNpp5SCiyRFZtWJ+dw2wPHVm7v3r07Tz37IkkZZazaWYjLo9Kz26V89I9bmDv7R/7v+2/96Lnkq0gF2ppge4CivLWdZ/UVTD56rE0ulVy5rpd0mqvuWr3TrQVs9gFAoQbrAliU3G63M/vnWRw/HG4B5DqakiRJkiRJkiQ1NkEJKHfu3JkxY8aQkJBAZGQkJSUlJCYm8uWXX5KamupTG9988w3ffPNNrftlZ2fz1FNP1bXLUh2oqsob019myhMvMP3/dpKeW0ZSeDtSwtqgCoVhfeO4sm8kD43/qEH7ucOtccCrT/k3qr9F0NoEvxiIRlgsFhyuY2GNFu5C2jgPU2oKwS3M9CxP56AttiLo2L59e556fhovfpdMVsGxAZEd+wqYvTqDSSOvRtNUfvzhf348A8kXB49kDQdygnK8og9mrHIdazdegU5mvS53fQ2xqMAumZksnQKsQF+rIM2jkWfwgj0iRFCuwsoqAr1pp8BgiuDYQJQZuC5UkOzRP7+kU1MgvhNLkiRJkiRJUmMT8IByz549+eCDD3A6naxYsYL8/HxiYmIYMmQI559/PmPHjiUlJaX2hqRTytatW5n+4lOMHf8wtgNl7HTHosU0o3+XGLZtTeThCU80eMkGFxgOThx1yKtRavB+vrCwkBbRIeQUOgCwaB5iPcWoQiFMddLdno4WGobH7cICjL9xJB/MSakUTD7K49V47adk3n1gFPN+mY3D4fDvifjBZDLRvHlzhBDk5OTg9Z4CUZk6CHTYxiogQtHLrRwdj7AJPRu6PjOUQQ/UCai3IPbpLDIykiZNmlBcXNzg5QiaNm1KeHg4+fn5DX6dDQSbgHgTZPpxqdnj1qqsEW4+8hPoK+dFNoFXqzqA7Y/2JhhgFfzq0Bfr3OzWOHx6X3JPa/I7sSRJkiRJknS6CnhAeezYsaSlpTFhwoRKN7ZhYWHMmDGDsWPH8tBDDwX6sFIjsHPnTh4ffz+3xUVT3LoDDq/K3D27SStt+PIjUQKam/TF9fwJ4mWq+o8R82b/yFUXjGLmor0AHLQ156CtOQDlJhPzYgZx7eC2/P7bXLpGR9Eq5yCZ+9xgiSLE68SqeSg2hYHQJzx7vBrLtx/m0ktHMG/eL348C2NCQ0O5+dbRXHLpCA7llaMBrWPDWLZkEd9+89VpEbg6XqwC51gE610axQGMKu/3nryw2D4v7DOw2FigDA8RFKuwKoDT9M80ffr04fa77iM6tiWHi+zERoVQVpTPN199ysaNG+u1L0OHXshNt92JsIRTVOYkLiacjANpfP3FJ+zevbte+xJIJRr8Ut3KerWoLgu5pQmG2BQWOlQKArg2bKZXM1QKqTYlGqQet7DgHjmr4JQmvxNLkiRJkiRJp6uAB5R79erFiy++eFKwqby8nP/85z88++yzgT6k1Ii4gC+zChFZm7ksRNBKhbSG7hR6tts5VoV0j/+RhKNvFl/v75ctW8pNt97Bxo4xbEvLqwgMH9W+TQyX9mvBuI/n0r5dO3Z2HET+vsP635w59Crbz/zYgTiFlTaOXFq6C9h1MJa+nbsSJcAi/M+4rk1YWBhvzfiQZSnlTPhoM64jr5vFrDCiXx9mvP8JD/9rLCUlJcHpQAMwAQoEtMZqVY6f0l7ftrk15Mx5/4244kpuuGkM789LZW9WZsX2di0iGPvgJNrM+4E5P/9UL3256+776N7vYt6Yl0b2cbMaerSN5onnX+WTd19n7do19dKXxsbGyVn4hSpsdKmUBPiaGegyMnkq5KmV36RNhf7xkR+k670UPPI7sSRJkiRJknS6UgLdoKbJaMWZTkOv17rcoTWaTMgUD8y1q7j8fLwZGBmm0MXAEIzb7WbSo//iroubM+lcMzd5dxBt1WjXIoJ7Lu/Ew9e05+nJj1BaWorb48EUE4N2JOi8L6Qla6J64FSsAISpTqI9ZVgtJtwuF93MgqG2YwHqvhbBJcf93sYEnUzH+mLD2OjRQ489wS+bivhldUZFMBnA7VGZvy6D71fn8djkpw202PjlqPCHU/P7HKlJTzMMser/nz4WwYgQ0SALbWV4IVsGpfwSHx/PzbffwzNfbWNvVuWBlAM5pTz39XauvuFmOnToEPS+JCQk0HvgMKb+b0elYDLAzvRCnvl6GxMemURERETQ+xIMLRUYaBVY/HhsFzNcH6YQcsL2Mk3P9g1Gwq9C4L5MWavYdp5NcLZFLs13KpLfiSVJkiRJkqTTVcAzlJOSkhg9ejTr16+vlJEREhLC7bffzvbt2wN9SMmg3r17c/V1I2neoiWlJSUsWjCXv/76C1Wte6Spr0VQomqkeQNfq9Korl27cs0N/6BVqzbY7eUsX/w7y5YtxeMxHlLwAJtdKjkGX6K8vDzG3nsnV/bry4iz+9BvUBeKS4pZ+Ot/ee/P5RX1iFNTU+nSKhKrWcHlUXEqVg7ZmlW0syusDbvC2vD4WdHM+nI5qR6NfcfNsy7VNIR6LODQwSQIVyDtSFmFQTZBiICFR9Jv+1gEGnrGKkCLI/V8C1SIioqia/devPNhYrXP66+kHP45NIGYmBjy8/ONvShnGJPJxDn9zmHQWb24/pxBFO/YzMZFC9D2ptd7X6zo9WlLZIzDsBtGjuKHVYdwuKsucOD2qny7PIORo27hjdemBbUvo265g68WH0Ct5v9YXO5mwcYcrrr6Gn74/ju/j9OrVy+uvm4kLVrEUVpawpKF81m1alXQ66iHCj2o7M9pmuuFRJd6UhmKCAFuLfD1w5spcIlNsMypGf58qMq1oYLdHthy3FSCNS6N8gC03bZtW667cRTtO3TC5XaxZsVSFi78HadTVlUPFvmdWJIkSZIkSTpdBTyg/NFHH/H+++/z888/s2rVKg4fPkxsbCyDBw8mNDSUBx98MNCHlHwUERHBi9Neo0yL4NeNuRzclEfTCCuXXTWGu+8fx7NPPk5GRkadjhGrgIIAr0aIgC5mwX6PVq8BLJvNxrNTpmJrEs+89bnM23yQnu4sep/3N+64+35eev4pdu3aZbjdFD9T21RVZf6GTczfsAm+/KrKfbxeL0sWLeT68/vxw58HqtynfcsI2kSb2Lp1K6Bn3B2V6oHjwy8rXVqlN/cet4bpuAS3EKFnkR+VYBWUqfrjBgwYQPqsXzin1MHmiC4AdCvPIM8SSZ6lybFjJOczaNAgfvvtN19ehkatpQKDbYJlDo3CAJ6rnTp14vmXXiUxrYTPtuRSvDCfdi168rdHL2Ko/TAvPPtEvS6w2NsiaG+Gn/2sT3smG3je+fz302017rNxVy5jxvYLel/atmtP6pwNlbbZVBcqCm5Ff+cv25bD43+7xK+AclhYGC9Nex27EsWvG3LJ2JxHdISVSy+/kzH3PchzT03iwIGqr1OBUJca40UaFFVxrT7PKvAAy5yBPfdLVEg6ruZxXSjogeTCE4LHda35rCgKjzz+JB269WHOuizmLsrHZjFxYd+/8cVtd/Lma1Prvf73mUJ+J5YkSZIkSZJOV0HJUL7nnnsYM2YMgwYNIioqiuLiYhITE/nyyy9JTU0N9CElHwghmPbam/y61c6K7cdWFM8rdrDnUDGdW0Ux7bW3GP/A3RQXF/t9nCXH3aybgbPMUKRCST2uUv/sCy+zNSeU+fOSAGjpyie8OI3vl0YyL6mU56a8wqSHx5GVlWWoXRMQ5kd2pwXwUjmAW5WvZ37Oa2/0QVzUjjl/HayUCdmvazPuHdGOZ594xOfjHh9TOXTCwdedUIrkr+P+bzabjYLwZhSYiyq2dbdnkK42rxRQLnepWK1VTdA+9biALC+UBjDW1KxZM16Y+jrTfkghPbcMgDCvgy1F5Wzak8eIfvFMmTqdyY9ODNxBa7HPq5ErS174RQiB54QgZ6jXiVnzUmIOA0DVgl8fWwiBu4pa8H1L02jqKWFh0/5oQsHu8GCz+ff+nDb9Tf5IdrFs686KbXnFDlIPFdMxPpKXX32Tfz14D4WFhX4/j2AKQb/eHl++ZluQioc7ge0BalsFdlczcNlKgXCl+r/XZMLERykP7cjkL7dW2v7dsjJ+25DJy488xbQXnjilF3JsrOR3YkmSJEmSJOl0FZCyf0IIhgwZQqdOnQB9+v7TTz/N1VdfzdChQ7n66qv58ssviY+PD8ThJD+ce+65ZJdZWbE9p8q/px4qZt6GXK67YWTAjlmqwY92jfR6DCZ37doVW5NWzF93qGJbtjWGX2LPo9gURmZeOV8vzeCft4w23HYPi+DKEGH4TdPTIrg+tPbHeTweJj06Ec/Btbx9Xx+eGtWdx27oyvsP9mNImxImPzKe/fv3G+63L0q0Y4Hy9PR0mpzTh/0hLSv+Pj9mIJsjOld6TJcWNtLT67dsQ2xsLP369aNPnz6EhJxYJdV/Bao+rTyQ9VVH3XQr3688VBFMHlycxBX5GxhSpE9xXpiYiccSw1lnnRXAo9YsX6Ve34+nk7y8PFrFhlX8HuZ1cGHRVnqX76vYFhsVQmmJ/wNyvtA0DQUvIVa9SLo4UqN1V2hrksPaown9StOrpZX09JOziCMjI0lISCAhIYHIyMiT/t6/f3/yXaEs25pd5fH3ZpYwe102N4z8R6Ce0kl6mvWyPP4Q6GUjup3w+Gw1ePXDBXqd+rqyUXUNZYA2ZkFXs/HXJDY2lt4JA/lq0d4q/15Y6mLG3FTuvGes4balqsnvxJIkSZIkSdKZICAB5SuuuIIpU6Zgt9ur3aesrIwpU6Zw2WWXBeKQkkHX3vhP5q6vOkBw1OLNWVw64kq/j9HLIjjXWvmGt76TIa+5fiTzN+aetF0TChxZ8G5tcg4DBw3GZDKdtF9NMjwaa/xYZDDTq7HDrfn0Wng8Hr6e+QV33vZPPnnjWf774cuMu3c0r7z0HJmZmYaP7Y/t27fTrpmV6PBjoQ31SJAqzOuglfMwEaEWurcOZ9OmTfXSp3bt2jHttbd45c0PufjGB7ny5ol8OvNbJj4yibCwsNobqIFC9UGcurhg6MWs3H7sPVdoiiDbGs2usDYV2+ZtyOHaG0YF4ehVMwNNhJ5tLxkz56f/ce0gPQAU5nVwRf4G8s2RbAvrULHP1efGMXf2/wW9LwsX/MqlCfEomsrwwk10tGdSaInkQEgLAGLdxdzq3sTK/x0rsRMbG8vTz73EjI9mMvzv4xn+9/HM+GgmTz/3ErGxsRX7XXvjKObV8lmxbEsWw4ZfHpwnB4QLQYSfa9BpwAaXxkFP5dkyMUoQpmQdcYFVcHFI3RfN62kRXBtadTubXBq/OYx//lx59TUsSDzhM/GEheJ2ZRTRslVbmjRpglR38juxJEmSJEmSdCYISED58ssvZ/78+TUGvLKyspg7dy5XXXVVIA4pGRQfH8++rJIa93G4vCD8v+WuaqX7ViboX4+r08e3asve455nuNfO4KIkYt3HyjeoGhSUOAkPDzfUdpEGB7zGg+S5qvH6y16vl/3797Nnzx7KysoMHrHuPvv4PZ66qSdhtsrnQ6+y/Zxr38vTI7vyxacf1ssK9p07d+bl6W8za7OHhz/dwscL9vLe/DQefH8jB7zteevdj+oUVI4zwfWhgpiAXA11NpuNMoe7UomE5PB2rGrSmyxrTMW2fVklxLdqHbgD1yLOBFeEKkTW31vytLFy5Uo6xagM7d0CtzCxNaIj28M7Unqk3MW53WI5p52NJYsXB70vv8z+iSsTYujVNpIiUzilptBKf7/gvC7Y41qyMmUPAG2aNePNt99n1cFIxn+YyIe/pfHhb2mM/zCRvw5F8OaMD2nevDkA8fGtKq6hVtXNRYVbaOeoPLPF6VZREQgRnBNpg1vjLz8G745K80LBcQ9vqsBlIQrNAvgeP16qR2NnAMpepHs1NlTzvN34V04lvnVb9ucc+wwxqx6uyV9D1/LK6yWk55TRrFmzEx8u+UF+J5YkSZIkSZLOBAG5verevTvr1q2rdb8NGzbQo0ePQBxSMshudxAZaqn4vZXzsB4kOCEgaDb5HyDY5tZYe8LNcBMB8ab6y4gst5dXep4hqptw1UG5Urk8QliI2a+V7SMFhBt4iSIFfmfaNaS/Vq1i1jef8ta9fbn5ovZ0aR1Fl1ZRdLl8KFc+cju/zvmW5cuW1ktfnnr2RV7+fifJByrXa1U1WLjxEAu2FHPvA+P8br9Y1WugnrgQVl243W5CbJZa94sMs2K3lwfuwLU4rMIqp0q5XJPPMK/Xy6RHJzK8m8LTt/cltl8Cca2bcUlbMy8Ni+D6fmFMemQCLper9sbqqKSkhMmP/ou7Lm3NxXddQ+uenekYF8mQ3i2ZdsfZdG9WzuTPPudodZNnrryMP2fOY33KybM31u08zMe/p/Po5GcAULds4GyvXl/eJcy4hRlvFYFji0mplwElf1iBqOO6XKTCCqdKfpCmzGSqsD8ApWTyVH1Bwuq0NcEQq7EPFHt5ORHHfSZqQmBXbJSbKhfpiAg11+sCoacz+Z1YkiRJkiRJOhMEJKAcFhbm00JuxcXFdZ6eLvln2ZLfueScYzVx2ztyGFCyi0sLN1UElft0iiE5aUdAj5vsgXkOjfoq2/rn4gVc0udYllWeJYpF0QnYj7t5btcigsL8XL8CypeFCHoYqGPZ2yIYHoCp0A1h8eI/uOfOW8jeNp+ru7u4uoebw3uWc9+4+1jw23xDgXV/9enTh4wCLwcPV5+lvWhzFgMGDva7pnKpBkmewJZnUVWVQxkH6Nwqqsb9LunTnOWLfw/gkWvm0CDDW3mxMsl3ZWVlvPzoBH567SnOCt3PjX00Brq2sOPrd3ho/AMUFRXV3kiANMvL5uF77+DnmW8yqEUuN/bR6Kjs5t8vPs4Lzz5ZcX2La9kS01kDWF4coT9Q07Cpx86ANs5c7Nu30iQ2npYtW5KycS2D2h/JeBaCv5r04qCtOdHuEiK8+hT+s9o3ZfeuFIJliFXQoQ6jkH2sgkuOu+66gENBPu/DRN1K5wj0TOqa5giZgRCDx/lz6R8M631sVoRXmFjUtB8Hbc0rtkWFWYgJN3Hw4EGj3ZaqIL8TS5IkSZIkSWeCgJQULCoqIi4ujq1bt9a4X1xcXL3ecEvH/DZ/Hh9//k+Wbs2hoMTJ6qiedHJkEeUtw4SKYrIwelg73n71Gb/a72KGzmbBYkdgFzYzavny5dxx9wMsX6Phyclmn61lRe1kAEXAXZd14Iev3vGr/TVOjVIDSXnb3BoRDfmC1JHD4WDuL3OY+8ucSts7m6GfRfC7Q6M4iEmKZL28uQAAIABJREFU/c89j9W7ar5mqKrG9n2FdOvWrdZr0IksQJSiL1YX6Kfx/X9nctfYyTz3zXZU9eTWW0SHMuSsGL6cHvwSCUcp6LMG7OjBZcm4rmZBq6wDfDjjTbxAqIAAVDswJFLo9XadaGzZsoUtW7ZUu+85CQmsLIog06bXSW7nzOWs8v380bQfXmGimbuIWHcJa3cVcM455/Dxij/5ZPwkYr/eTl6xHpQ2aV4uLNpOhq0ZW6O7cefwdrz/7xeC9vxCBPix/lyFNI9G5nGjmNFH2ioM0v8pXMDfQhXWOVX2+jl6Gi5gREjNbez1wl6vsSexdetWHoxU6d42GlK2kWtpQpE5nGbuIopN4dhNNu64tAOzf/qffx2XTiK/E0uSJEmSJElngoBkKG/ZssWnOnBXXXVVjTe+UvCUlZXxxvSXePn2Xgzo1hyhCNJC49kc0YWObZry8uiz+X3u96Sk+Jd15tD00gFVxU77WQTdgrUa0gk8Hg8vPvckkwaYuDriMCHi2J15uxYRPHdLb3asX8KaNWv8av+QiqEAaqkGWfW9MmE9SPdAkttYcN0fZosFt6fyC9jamcu5xZXPU49XNbzIIujlWC4NUQJaP/moTZs2sf7P33jxtt50jIus2K4IOK9nC6bcehZTpzzjV6a8v8zAiFCFdnJVPr8lujWWHjfrwq5Vfd0LphINfnVopPpwYLPZjPu4t1CeJZJ8cyRmTX8G28I7sjj6HNxeMJlMlJfbeW3aC7x0Wy/O7d4cIfSs1tVRPSnv0oeXbj+bxb/+SFJSUpCeHSxyauypw4uar8LB44KyfayCgbbgTako12C9UyW3Dtd6h6aXo8n2oQ2jz+SFZ55g4uXxXBFbRmtvEVbVwwVFSfSylfLojd3x5u8+adBQ8p/8TixJkiRJkiSdCQIS5vv+++/56KOPmDhxIu+//z4eT+U7QZPJxIQJE+jfvz8PPPBAIA4p+WHTpk08O/khxg0eyP3XXUB+dDxR4TYOpu7mk3deNpzdebwML2RUkzkVoYBXFQQ+B7Rqe/bs4ZGPPubWkf9gxsXnUVDqJDzEQkFeDt/PfJu1a9f63bYNiFEgW629REK8oj/j0zGg7AJ21EMUbU9KMmcPS2BN8pENmoZNdROh2rGoHtyKfgnr3rYJX+7fb7j9LC/8FcTaqt9+8xW7du7gjlvvpHnLbpTaXTSNsLFh/RomP/JqjYs2BYMbvZZsIOtF10Xr1q3p3bs3iqKQkpJCWlpaQ3epViqVF3wD/b3e2iyqXVAtkMIFlGn4XAd7z5493D4ijKPhwjJTKOuijtVt9Qp9dKF32zBmzkkF9KzWpydN5KZb7+DeEQMoKHUSGWYlMyOdL957hc2bNwfyKQWcCX3mQZmqX6s2uTSCuTashr4QYF140D9Ha9PKBIOsggUODbuP50BWVhYTHxrPqH/8kwl3DqfQoRJa2hm72cRPP81kyZIldeq7VJn8TixJkiRJkiSdCQISUN6+fTvvvvsuEyZMYMSIEaxbt46sLH1Rn7i4OAYOHEhUVBTvvvsuO3YEtkavZExmejoLcjI4NHs2WSHhtHOV01N4SfL1zrQKR+/Tq2vhT2f9zQcPPzL9PDsnhzc/fB/l4w+JiIjA4XAEZLGseBMMsin8alcpqeVp9bAITEBWPT7/+hYpYLBNsN6pnRRkC4QVK/7k7vvH8+3yA9idXvqV7kFBY2n0ORX79GwfTc6hA+Tn5xtu3wWkB7nA94YNG9iwYQNWq5WQkBDKysrweuurqnhlGnot2YbWqlUrHpv8DNaIGNbvLkLVYPi1EYQqTt7+9yvs3r27obtYpf4WQa6qceCE1zBCgThFr20bzDq9TYVex32dS6tx8bbj7dy5kxaRghbRIeQUVr3oWovoUGLCqTRDJSMjg39Pn4rJZCI8PBy73U4Tr5suZkEwhwejBSRYBZtcmt8lKiKPlI9Y5VTJ8OoZ3cEez7QBYQoU+DlYEy30LhbV0s8SVX8PG5lkECqgsLCQTz79mE8/+4SIiAhcLle9zo44k8jvxJIkSZIkSdKZIGCFCL7/Xi+XcNttt3HRRRdhs+mLoDmdThITE/nPf/4jp/Y1Ah5gmVMDvOAq5qAAdx2nv7dU4AKbYIlT8/tmOlDOtwqEgIVHCsSqqurT4ji+yvLCYofqU3bgcqdG6Km5Hp/PnJq+pqM5SBEmj8fDl599yHO33MOL3+7AXmZFOXIgoam0aR7Ov/7WiacnPWS47RAgzhT8xbqOcrlcARnUqCtfA1fB0qpVK159YwZv/7KXlPRji4DNWgVtm4fzzJTpTH3hCXbt2tUwHayGCWhmqjozeI8HdnuC/4IWa7DDrVUq5+CLd996jWcmPc/z/91BQUnlIGJMpI1nb+7J29OnVPlYr9dbcQ0NMUELRR+4C1a5G0Xotbjq0nypBiudKnlHAq/xJjisBrdueC+LoIMZZvk5ONvXKrACf9QyAFmiwVoDmfAKMNwmyFZhvUtD0zRKSkoIEdDNDPs9IMPKgSe/E0uSJEmSJEmnu4BWtt28eTObN29GCEF0dDSgL06iqo1kfrWECTg+FlGgQUEdSxfYNdjrgdJq/s1RAgZYBVvcGnlBPhU2uDVsQWzfATh8fA4q+tT005mL2gMgdbV40R8AvH3vA6zb1Y6kjHIu85QzomwLIf0TeOHpx0lPTzfcbtyRbPMFdpV6qFTQaAyyCcpUWNlAT3rio0/w7rx9pKQXnvS39NwyXv4+mccmP8P9d49ugN5Vzwv87tCqrF9bX6+kF/9KzWzdupX335zKtMeeJCm9lI1pJQAM6BxJzzYRvPW6byWPDnrhoFcL6vPNV2FxHa8pHo7VUG4i4AKbwl9ONaizEVI9xgP9x9vs0gwtRBhyZDZObYfU0AchThwACBeQYFUo1dRGMWvhdCS/E0uSJEmSJEmns6AslaZpGgUFBcFo+ozQpk0bRo66hQHnDkLVNDweN38smM/8uXMoKSnxu90mAi4NEaxyapXq+ipArILfCwoVafpCVdVxo5fFCMK6ZxUUjtQ2rYf7tOZHaiMfruFY3c36zX5d62qeSvpEhdP/0ssZcv0/MJstKEKwYf0afvrhOzIyMurU9uJFf/DX0iWcN3Qonbv1xKO5WZq4hsX/953f9Y/3eaHArjZYpm5D2eDSqIdk2iq1aNGCqJg4kvZXn5l3KK+c/HJBjx492LlzZz32rmZHk/Cre+niFOhnFSx2aAHP+AwBzrPpZSD8PV8TExO549ZRDBo0iLN69wVg6awtvLp2LZrmW6PH73Xi4GRj0+RIpnORBgvtatAH94q0umX9Fxkoy9FU6Itr+hIk14C9VexToMIvdtXnOsyS/+R3YkmSJEmSJOl0FJSAsuS/i4ddwuh7xvHt8gy++HATqqoRHmLm0oQLeO+ja3l68iN+B+e86NNbT1yQq7MZ+lkV5ttVv6YxhwpqvCm1a3XPOKuJgh4o3+/RSKmHheL6WQV2reba0K1MAocGadUsVHi66dC6NU9eeRnrS8N54qudlDs9KIpgUI82vDj9Hb769D2WL1tap2MMt6hk/bWcz5YtC0ynabiyDw0p2LMEatKzZ082p52cmXyiDWll9O59dqMJKLdQ9FrhfzqqrxXu0PRSC1ahl4IJpHAFIkTtC4HWRtM01qxZw5o1a/xuQ6DXcT7srXkg0V9dzNDWJFhaxxdxgFXgRS/xFIz67icS6AOzR88DI2zo5VRyfSy/U6jBFlfti4n2MutlUqoKOqvU/LktSZIkSZIkSZJUk2AmjUoGde7cmdvGPMjkL7ayOikHVdXv9socHuaszuDfs9N4+dV/YzL5V/S4VNNLQpy4LFO6F/50+JepFCbg2lCFTnWsw1wXCnqQvKSeAmWrnRrraikXsNSpGapzeSozm828MP0N3sjrwMfpTSh36lF9VdVYnZTD5C+2cvvd4+jUqZPfxxDATo9GxgmptTb0bD2jIgScbRGnfY3rqkQKve55YyE0jY72TKI9pQ3dlWq5gRyvHpyrTuGRQabaFuv0R54K8x3BadsoDTjo0TisBqczqqaXrKirTW6NTS6NZgq0qofPJwFcYhN0MFK34ohmJhhiU4jw8X2pATs9NZdUUtAHNpsr1fenqaIvNNmILgeSJEmSJEmSJJ0iGu19xLBhw5g2bRqzZs1i2bJl/O9//2Ps2LGEhYVV2i8yMpInn3yS3377jSVLljBjxgw6d+7cQL2um1G3jObLRQcqAnInSsssITGtlIsuushw2yFCD6JVxaFBpurf9GWPBokulZxagrndzHB5SN2jd3379uWOu+7mrrvv4/zzz0dRFDzAOpfGoXoKKBdrvi3udKZUSbzoootITCslOdcNQmBR3UR5yir+Xu70MHPxAUbd7H9NXA194bOsE17UITbBQJvx86qpAj3NjfgCGERdzIIhfrxmgbBz507O6dSk4vcOjizaOXM4q/wAbR05Fdv7dQxnx47tDdHFKhWosNql+XSNNBO480oB2h4JhjaCWHKFHR44EKR6F2leWBGAFO98VZ+B0MUs6GcJ/vmuomdD7/Gjnky2F/5wqBQZ+NAQ6OWXIqt5aiqwyKmxpYYs8nAB7c3VtyFJkiRJkiRJklSdRhtPueWWW1BVlY8++oiHH36Yn3/+mRtuuIF33nkHIY7d/bz++uucd955vPnmmzz11FOYzWbee+89mjdv3oC990/vs/uyOTWvxn0WbsrhsiuvNdx2V7PgqhB9FfmqhAjo6keAzQXs9tQ+xdeh6VnE/p5w3bt35/OvvuWGOx8hJzSBQ5azueDKO/nP5Me5eOBAP1v1T4iATiaqXfzvPKug5xlUTOayK69l4aZjwcDBxckMKtmJOK4u66Y9eZzd9xy/j9FC0Wu2nmizW2ONH8GndC/Msmun/aKJVdnl0epcTsBf2dnZlBRk07NdNGgaHRzZxLvyWBrdl23hHQGIjw2jeQQkJyc3SB9PFCWo9rp5oqYCrg8VxAUoI7aDCc63KcQ2wk9qBWjTgDNTahMioLVJX+xueT2d7zmqb4ONJ/KgB8CNxOhNwEU2QZcqMqIjjtSP1qi5zUNe+Nnuf11uSZIkSZIkSZLOXI027PX4449TWHis1uamTZsoLi7mueeeo1+/fmzcuJGhQ4fSt29fxo0bR2JiIgDbtm1j1qxZ3Hbbbbz11lsN1X3DzGYzDlflzOQIr50yJQTtuAB6fomTqKh4w+2nejQK1errM8YIvY5yoaoaWpyvqaKXmqhtivIBLxzws55w586defqFV3jxu2Qy88srtidtKibXvpPb7hiNQzGxZs1qv9o3KlLAuTaFcod6UsYs6DfyZ1LCV1RUFHnF+RW/bw/vgIqodN4COFweTCYTXq+x1MZQAcNCFLa6VJJPONHqUg+4HsptN0plWs1T5YPtnTem8+q/Z/DG7FSW0weL5sGlWABoH2Nl8qjuvPLSMw3XwRP0twpsAhb4ECks0o4MsAVoekKaF8odaoPWva5OWxOcZ1NY4jD2mVGbwUdq1G+uY33mOAUG2fS1AeqrVEiEgBjFePZ2WxOUa8auZx5guVOrciHaITaBU6PWgaNGeFpJkiRJkiRJknSKaIR5T7rjg8lHJSUlAVRkHw8dOpTc3NyKYDJAWVkZK1euZOjQofXT0QDxeDyEWE0cLXcoNI2hRdsYULILi+qpyPaMiwkjP7/mLOaqlFezMM9R2SrMtxsLDBytGdknyNOJx018jNdm7aoUTAbIt0QxOyKB5xbmMXbCw5Uy14MpX4W5dpXsal6rv1waSWdQtDI/P5+4mNBjv1uiKLREVtpHERBiUQwHk0Ff4GyZQ2V/NQ+NFNDXQB3QaAEXWMUZO807BD1z09JAxz948CBPPfYv7rwggql3ns3VQ7tw3fnteGFkByY3SeabZx9tNIvxASS69Fq8vlCBLW6txlrLvjqa/FvVoFVjkO7V35eBDCaD/n53anV/ATO9sFw10znMRpN6eq+3NsFgm+JzRvtRCVZBZz9qL+ceGcy1Wq2VyoElujSSfAzItzHB+dYz9GIoSZIkSZIkSZLfGm2GclX69esHwL59+wDo2LEjqampJ+2XlpbGVVddRWhoKHa7vT67WCcb1q1hYI9WrEnWywdsDu+MRfNwecEGtoZ35EBIS67s14Jf53xiqN02JnBrVBsABX1arNGV6QFWOTWfF/O7zCbIUyHRQOZZq1atsIQ1ZW9mRsU2k+almbuYbGtT3IqFojIXOw+WMWDAANavX2/0KRjmRQ/QV0XQuGqd1odff/mJK6+9h/fnlVRsM6seepYfIMcaTbY1hoE9WrBu7Rq/2lep+dyNEHqN7nSvHuyvTajQM+vdfvXm1BdzZAGwhQ61yuzG+hCafZBFk8aR1Kw1Pfr0QQjBx7NSCN2fSoafMxmCpUjDcEmASFHzdaI2bUzQzyJYGqRF/gKhtvelv4x8PlRFURSuuPIqrh/5T0xeFeuS+dCnH79u38HsWT8G9TvBfg8c8qqGry0L7Bo1rJ1XrUuGDeOfF16ELSIae7N4IkPNLP7jd376v/9RXFzsUxtWIELRB5jO1GuiJEmSJEmSJEnGnTIB5ebNm3PPPfewbt26iuy1qKgoMjMzT9r36I1UZGTkKRVQ/uG7b5j2+rukZBRRUOIk0xYLmka0p4xCcwR9O8XQqbmJ19euNdRuL4s+hTi7lumvemBOkOzxLUisYSx7LkuFEtVYsKBTp07sOFD5xrhHeTrd7Bn8Ed2PUrOelbU93U6Xrt3rJaAMxzI8952QNXtliCDdC9vqGBQ5laxZs4Y77n6Avp1i2JKml77wChPxrnxcigV3bDyjh7XlycemG27bDHQx669zdRUHslSYY9eqLedyokwV5vlT6PQ0keuFhXY1IFm0/ipW9fqtaRkZpGVk1P6ABtLbItjvMRbUtaBfB3Z6YKuf14FyTa/H688gX33rYdY/C1IawawMk8nES9NeI9cTw0s/pBGSdwi3aI4zq4TLBg7hnfcv49GJ4ygpKam9MT848K+GsgsMj0ROfupZLLFdWPb9bHIdsDrqLM52ZZDQtRkz3v+Exx+ZQG5ubq3tpHkhrZEN4kiSJEmSJEmS1Pg12pIXxwsNDWX69Ol4vV5efvnlOrd33XXX8cUXX/DFF18QHR0dgB4GxsGDB3n79Zd4ZWQ77uzsIdIiQAiy2/biH1f1Zsywljw16WFU1Vha2B8OjQ0+TNk2AZ3M+Dw9uLni+76gB1lPDMDWxuv1YjohdWtnWFuWN+lTEUwGsJgEXm/9RTQ6mgTdTyj1oQAZXigwGDQ/1amqylOTHmbMsJbcPaIjLZuGognBqriBdL9kMK/c0Zu3X3+JQ4cOGW67mQJ9rUqN5Sk0qq8NLp3MDRRoxhYAC7SsGmYqmIE+loYvSdJEQE+zns1uhBu97M1uj//XgXwV1ri0U2K2Q6wiiPUnvbYKVuCqEEE7Pxf7u+Oue9hbEsknv+0hv8TJgJJdxLnyKXbDT6sO8MPqfJ545oWA9LU6bU36Z6Ovmh5ZENfI6P71N4xEi+rEWz/vYoG5K6sje4KmEeIoJWn7AT5YkMHzL71iuO+SJEmSJEmSJEm+avQZyjabjddff53WrVvz4IMPVsq4KSkpITIy8qTHREVFVfy9KnPmzGHOnDkAfPHFF0Hotf82bdrE24+O47qe3XjxznHYIqMoyC/g11n/ZeXqFZQ7jQdNVXybel2kwSy75vNCPf2sAoemLwzkq6Mrz/v6iB07dnDf+BhmLtpXsc0rTORboirtN7hbFB/P2+BzP+pqnUs7aXqwiv8Ziae6vLw8Hrj3Ti666CL+df0omsY0xel0snTxQibcN5uCYv8yArOO1KuuLWPehL6YV7aqsbuGt0gzBQZYBaudmuEyBqcLBWhlgiKVei+nIICOJtjvrT6gbULPSrdrUNKAWa9Fmp757k8XMvyM1kcLaG0WJLt9vw43tNWuwPVVAAWqXkfZKIvFwiWXXs74DzcdaUywPbwDNtUNmgZCsDo5lxsH9yEuLo6srKwA9bqycyyCHBVyfay7HWeCPlaFNI/vr+L1I0cx+atkgIoFLQHWR/VAaCra/gJKBrekR48ePtUjP8sMsSbBCn9eeEmSJEmSJEmSzkiNOqBsMpmYOnUqPXr0YOLEiSfVS967dy8DBw486XEdO3YkMzPzlCp3cbyNRWUkr91E+Zp7KraFCT1zq0CBvQaCFedbBXs9Gpk+3qsaCQysdGqGTqBYRV/E70+n5nPtzeLiYlJ3JXP+Wc35KymXto4cTKjsC4mr2KdTfCThJid79uwx0Ju6qSojNlxA2Rl8P+7xeFi8eDGLFy+u2NbFDMMsgrn4X5/Tl8EQI/E7u4bPdb9PRwpwgU1hi0tlZz0HbOMUONem4HCqHKrmn+YE5hkoYRJMdelDKxOomrGyQK1Merbqbvepk3V/9OmZwa/g+/Gc6AFqf/Tu3Zttewtxe4+94BFeB+2dOSSHt6/Ytmx7PkOGXsiP//dDHXtbtcVOzVBAPNkDaR7V52tY+/btySxwUWo/dkU9p3QPNtXN2qieaEJPj16yrYCLhl3qU0DZg77OgiRJkiRJkiRJkq8abckLIQRTpkxhwIABPPHEE+zYseOkfVasWEGLFi1ISEio2BYWFsaQIUNYuXJlfXY34E4MopVrMNeuGQomhwhoooDNwGzkCAEX2QSxPpwZZQYXqypR9TqbRoN57779OjcPacnQ3i1o6zpMW8exLPXeHWOYdGNXXnn5eWON1lEIen3VoyU/TOh1U8+2NPA8/UYmzwupHj3z0KhYBc61CkJ8fPBKV83ZyQCHVT2j/lQJ1gWDB1hgV0lrgOzfTBUWOaoPJh919P8TJvw7d+qqgwmGWAWW2net1tmWk8vi1CbJA781kmC6Ec0VuC7Ut8+NYAkLC6PYUfmk3hrekQVN+1faVurwEhYWEbR+lPtRTsZpYN/Q0NBKwWQAp7AQ7SnTM7GPKLW7CQ337Xnu8uglViRJkiRJkiRJknzVaDOUH3vsMYYPH86XX36J3W6nV69eFX/LyckhNzeXFStWsG3bNp5//nnee+89SkpKGD16NEIIvvnmmwbsvf+G2wT7vBqpVQR7jt50hgnfsjYdGvxmcIUgpwahQq9lWZPmir7fAQN3zi78KwlRVFTEQ+PvZ+z4hzhr8q1s25NLD8VC7w5NyMzYx+RHJ/hVn7cuFKFPEy5RoejIa7DRpVF4qsxTrycFGhT4mfoWKfTFDzcZjK6FiKoXxjoa6zrT/0VCCCJbtybWaiUrK4vy8vJ6PX6ej/+AJgJGhAg2uIwNpPnLZrMRHx+PqqpYsg5iEarfWfWgz+DwdfDMCpiEPthmJLjYWBSo+meBG0GbNq2xWq1kZ2dTVlZmqJ02Jr1kxBKn5tNn3PGysrK4tkVY5Y1C4BaVhwXaNrOxd0/wFoKMFPrz2O3xLWP7bIsgy6uR6+P7IicnhzbNKweKk8PasTOsHYhjAxhtm4WSdTDdQM8lSZIkSZIkSZJ812gDyoMHDwbgrrvu4q677qr0t88++4zPP/8cTdN47LHHmDBhAo8//jhWq5Xt27czbtw4cnJyGqLbdWJBDyjUFH87WjZitUvzu05nTdzAAh+C0J3NguYKHPBjdfjqAn41KS4uZvq0FwkPD6d79+4oisLXaWnk5+cbPn4glGvw43H1pr0YK0Vypmkq9ECukYz2fV7Ybze2MNk5FkEHM/xSRS3wFgoMsQkWOzUKzsCosslk4h+jbuKqa67n8K59OL0a8T07s2vnDmZ+9lHQB2WG2QQHqhksq0qRBkluzVDJCH/ExMRw5933kdB/IHszSzAp0L5lBEsWLeSv/8zE6fQvxGuk/E0fq6CtSZ+F0oBlo/2mKgrtrx/F+GtvJKvIicPppV3LSPampvDlpx+Snu5bYNOp6bMI/FnPMDU1lehQjdgoG3nFVf/PTIpgyFmxzJy+3PgBfNRE0WsiZ3pVCmt5HhaguxlcGj4HlPPz8yktzKFDy0j2ZR+pTS/ESdfJy/u14LEJv/rc7wusAoE+00OSJEmSJEmSJKk2jTagfOONN/q0X3FxMVOnTmXq1KlB7lHwuYG/armZy1dhpwcO1xK8bK7AYJtghUOjwM/7Q0H1i+etc2mE+jEXvd+RgN8sP4rYDrQKipxlJCYmGj9wEBx//99K0QMhp9pU9fqgABeFCHK8tZ/fJzJ6lqR7NYqrCczYNUjz6FnlZxqTycTUV//NgdJIHv18OwOzN+ASFv5aWkS/rs149Y13mfLMpJPq1AeKBX2gzOj4044gR1dbtmzJa2++y7crsvj0/Y2oGlhVN1htXD0wgTffOZdHJo7zO6jcyQRhimB7LVn6yW6Nw9661yBuCIqi8MJLr3BYbcZzn21ElJeSa40GoE+nGKa+9jZTX3iKlJSUWtvKNbCYXVW+/PRDJt3zEM//dzsOV+UPSUXAv67txq9zZ/v9//RFphd+Kld9+l+60QcmjVYK+fLTD3jkyRd59j/bKS4/OY/+zss6krhuFQUFBT63matqDVJeRpIkSZIkSZKkU1OjraF8prGh1+WtjQZsc2s4atnPix50LvHj3jxUwN9CBO1M1e+j4t8CdAe8Gptd/t24WmlcIyDtTPp05XABQ0MUOjSmzjUiKrDCqbHeQKCop1nPaDV6gcpTIc1bdVmLIg0S3admBmhdjbrpFvaXRvDV4r2UOz2sjezJhshuACTuPszUH1J45oWpCBGckJIbPfNxnx9Z/KECzrMKwoLQtaeee4l35+9n5fZsVA3QNIYVbuaswl38/Fc6y1Kc3D92gt/tN1UELX2sR+/Pa9MYXH/DSPLU5nz+exrd81LoV7q7opbv1rR8XvxuJ0899xKKEvyvG2tW/8UvP3zBW/clcO3gNrSIDiU2ysbFfeN4494Esnat5rv/fh3UPngxPjBgdIwrKSmJz95/g9fH9GHUhe2L4+LtAAAgAElEQVSIjw0jJtLG+We14NU7zyakLJUP33vHUJu7PPoaB5IkSZIkSZIkSb6QIbBGoodF0NUMc+yaT3U7wwT0sQgSXVUv4JSvGs8GPcp+ZPptdUnETRU9I3e3x3hG7mEVDvvVq8Y1FbdVq1bcMXgQHcLDKB4whJ2rllG88HcoKGzorjVKvtbNPcqp6eefP8nECnrt5RzvsXq0ZvTFKf0ZBDnVCSG48upreeTzbRXb7CZbpX0ycsvYk+VgwIABrF+/PqDHjxR6dnJtg2DVEUC8CUI7d2PwP24nPj6e8nI7yxcvYPHiRX5nm3bo0AGvKYLkA/uPO5bG7tA2lJr04b0FGzP54MHzCQkJweEw/gwS3TWXbOlhhihFrxN9qibOX3P9SJ78eicA28I74BbmSrV8M/PL2ba/lPPPP7/WxXIHWPWFThc7/X+jLvx9AWtW/8XV11zLA5cMwqSY2J2SxHOTppKVleV3u0Z0NuvZ+LUNErQzQRNFsM2POvNr1qxm65jbuPyKq7j3wgsxWyzsS9vDa1P+7XOJkRMJ9GtlXWqHS5IkSZIkSZJ0ZpAB5UYizaNP1ff1Rs4CtDLBPoWTaoyGCFC1upVfWFtD8LaZAr0sghR/Cl2i90/Bt4UFj1JoPIup3ffAOPqddzGz1xzi872FKL/lcl73C5n+wT/58buvmfvL7IbuYqMUo0APs2CtS6O2ZMw0L6T5UZ8bIELA+TaFRJfK7iMZd3EmuMCmsMihGg5un+ratm3LwTwHduexVz3GXUyUt5x9IXEV2/5MKmDwkIsDHlDubxVECJhntHD6UaFhXPDiK5SbmzJ/Qw77V2cQGWbhkgHX8fnoMbz8wtPs3LnTcLPnDb6AFcmVB4A0oZAWGl/xu6pqbEktoFevXmzcuNHwMWp7xib0D+FT9ZRs2bIlBWVeSuz6J1exObzK/VYk5XPhkGG1BpTzvRp2pe6p6MXFxXz332/47r8Nszhve5PADeyr5RoWqwjiTLDNzwhueXk5P8/6kZ9n/ehfAyf4W4ggU4UNjWjwVpIkSZIkSZKkxkkGlBuJEg1KDEx5LtL0hceqmqHayyxob4bZVSxMZoQZPZB7YmB6twf2evwvHXBFiOCQV6/D7AsFuDZUsMOtVQQIG8rNt46meZeBPPb5ZjQNhKbSzX6Q5YVFLN6cxfO33kxhYT4r/vyzYTvaCJmAZiY9Y7Wmxaqs1G0wpFiDRQ6V/ONO/jwVEl3qGbkYn8ViOamebEtXId3t6aTbmuMVem0bh8uLxWqrqok62ejSCK9DjHDK1On8mQqLN6cQ7SmlxBROid3NN0v2s2hTDs8/P5VJD48znH1qtdkoch87IYSmEucqIMcaXfGaANjdKlar1e/+dzJBF4tgYRUBdb1G9KkbvKvq3Ir0lNPVfpAd4e1xKvrr5uu5lebFeKHtRmiZ07fP3k1urVGlAyd7NMrOwGvk6SIhIYEPPvjgpO0lJSWMGDGi4vfIyEjGjx/PhRdeiM1mY/v27bzzzjtBq6EvSZIkSZIknZ5kQLkR6GWGdK8eCDPiaGy1iQBT0xi6deuGpmlkpSSTV1Jcp2CyBbj+SBA3qYogbl3iuhtcmqHSA2ZgvwcKG/hG12azcdU11zPug0Q0DSyqh4uKthLlKafYFEamKYTXf9zJi3c/IAPKVchVYZ4PgxyDbAIrdZv2nqfqpR56nXUW0dHRFBQUkJycTM0FCE5P2dnZdIiLrLQtNTSePaGtKgVOu7UKZ//eumUnK4pCr169iIqK4vDhw6SkpOiDZX6+7L169cKpRLN4805auAoYUrSD1VE9ybTFApBVYOc/SzP45823885brxtqe//eVPpeegF/btV/j/GUMrg4mTVR/8/efYdHUW4PHP/ObpJN74QEQolIQOkIiBSVbrgiYrk2REUFRREVUC9ewQKiCF5UEMWClx9cESWKdAiCgICgEHpNQiCQRnrdbJnfHysrIT3ZZDfJ+TzPfa7sTs6cnXd2dvfMO2fac0kXaF0uvJknq6vZQgAsJ0eKnHX07tABxcWFuLg4TClJGKHen+C4fPkyoU08URRr22ScVBPNi9KIdw2yFpTbNvciPm6fHTOtW/V1WM9KD+UGYd68eZw4ccL6b5Op+EmfDz74gJCQED788ENycnIYM2YMCxYsYMyYMaSmptZ1ukIIIYQQop6SgrKdeSpwg7NCgaqSXY2bMnVtGsizvW7CaeBdRGfrUBSVzs/7kXDuLAs/nlftHwcG4JBBJfWaX8ZXejefMKhkVbNIlFDF11nEXzO57Kx///7sPpGGyWzJxahocVJNHPNoRYqLLwCZeUUkZhoJDw/n9OnT9kzXIV3ZnZwo+6TEOaNKOfeDrJS77r6Hf/a8iYuX8znv1oxmmlxCw1uwcuUK1q39uYbR65fc3FziYk7R5boADsWmAVCkcS62jEajMKRbEBM/W1/t9dz/wMOMGHkPpy7mkpFrINSpgBY5F/jfnwfZsDWqWjHvvPs+1v9pOYalOvtyyPM663vtir0nU3n8+T4o8xVUtfLHid9++42nn53E8l+0FBpMZDh5stOnIxlOntZlQpt4oBhzSUhIqFb+np6ePPT8i3Tq0p2DMekUGVUeCfXEZdd6dmzdxLILKdWK6ygKCws5duQQPcKbsP+UZZwynDxZ638z6l99lBUFIm4KYsrE1RXGG+GqcN5k+eypz7wUCHeytIXKLeOluALdXSzLOFIbHnfFcpyubocaYX/x8fEcO3as1Of69+9Ply5deO655zhw4AAAR44cITIyktGjR/Of//ynLlMVQgghhBD1mBSU7Sz3r9YV1agl06xZM16e8x9+/m43m3+4gEnR0kx/me+1blzfviVz5y9kyovPVbuofLqUip+7AkFaOFWDy3SdsNzYL7OSPaO9lOrPcLSlpiHNuZD2dzMGVVHY6N+zxHIX0gpp2rSpFJTLMEinkKfC3jJanlyozpvhKs889wJBbXqwbPlajAYDCS4p9Mw5zZLgm3h01P2ENGvOl4sX1Wwl9czXiz9l1gcfMXNFAZfS8gFork/F3aQnxrMFL44MZ+umdeTk5FQr/uRX/oXWP5yXvjhMocEygK0Kk7nJcIHbnxiNT3AIK5b/X5XjBgc3I/5PSysLVVGIcWtWYhmzWSU7twg3Nzfy8/MrHdtoNLJ86df864HRzFpxjCIjpF5VrPbz0vHqfe2YO+uNKucN4OHhwX8+WcTqPzJZ9OmfOJmMGDSWj9y2QeG8PH0Qf374frGZhPXRf7/+nDn/WUhyRgHnU3JBUazXASgKPHdnW/bu3EZGRkaFsc6ZIMPsAAf7GnICWjlZTp6WVVDWKZbPQUf6EuaEpY/ycSMcredFfVG6/v37k5qaai0mA+Tl5bFr1y769+8vBWUhhBBCCFFpGnsnICwzcKtTQ5vy2hvMX3eeDRmelkvXVZWuuTG0y0/gwNk0Fm28wORX/12j3HwUS0H3istmSwE8owa/NX01MNBVQ2Al9j4/DQx309CiplNWbSA/Nxsvt4oT8XbTVqmw1dicN6kkldEnNUBj6aFcXTfeeCPtuvThwx9Pscu1DXu8b+SSLoCdPh1JMroyd9VJOve6nfDw8Bqspf5JSEhg5vTXeP3+65k44nq6tgngJh8DI5oV8fH4bsQf+ZX/++/X1Yrds2dPAlp0ZOHas9ZiMkC8a1N+8uzOrMizDBx6F6GhoVWOnZeXi49H8T0iRJ9Gu/ziLSg83JzR6/VVjr9h/Vp+Xb+Cjx6/gWfCjXRp5kbHMH+eGnYds8fcyIJ5szh+/HiV4wI8Nf451h3MYtuhJJoXpnJn+l58DTmgqpxJKeTNnxN4ZdqMasV2JElJScyYNoWpd7dm0l1t6XZ9AD2bKEz0v8Anj4aTFvM7X3y+sFKxjhjUKl/B4ogyVIgsUEkuZ+ZxlgrrCstfpq4ZsdyQN76aN9wVjuHNN99k165dbNy4kbfeeoumTZtanwsLCyu1V3JsbCwhISG4ubnVZapCCCGEEKIek4KyHXVwgn4uSrUGITQ0FK2bH6cuZALgZ8ihT/Zxtvt24ZhHKwCOxKXjGxhCUFBQtfJTgEGuCjc41+COWqXINMOOQnOlLvPNM8OfRWaSHaDIsGvXLm7v4F/uMk5ahS5hfhw+fLiOsqp/zhgtMxGvpQD9dQrdXaq/v933wGhW7LyIqoKqWN5ZZjSkuviiKgpmFVbuusi9DzxS7XXUV2fOnOGJRx9k+4+f07NJMi17NOOUh8qkZ59g6TdfVTvuvQ+M5tsdxQu8OrNlJr9Z0WAyq3y/+xL33v9QlWNvj9rIoC5Nij0WYMymdWEyyl/tLdo08+ZSwoUSfUIra83PP/HWhLF4HlzDbcFp9A1O49DWZTw++oFis/iqwtXVlR69erP1YCIA6U5enHJrwc05p7g55yQAyRkFxCQV0qNHj2qtw5HExcXx5GMPs+X7hdzkn0yf1gVoMs/w5tTnG93VAPVdvMkxrggSVZeXl8f//vc/Zs+ezcSJE1myZAk9evTgiy++wM/PDwBvb+9Sr0TJzs4GLDfsE0IIIYQQojIc6WrLRseAZXZydSYode3alX1nsq3/VlDxNuXjrBrJuqoH6L4zmXTu3JmoqKr3MFWBXXrVerNABRigUzhtrNksMiOQWMkXXYTj3CgoNTWVpIRYbu0UxI4jpfc+/Wf/lmzbuhmDoQY9QRoBDRCqtVwSfmVXUIEdepUyJi9XSpu2bTm6Jdr679aFSXTPOcsm/5vI01pmXh08m8bTQ7pUfyX1mKqq7N27l71799osZkizUGIT/y68upsKGZrxJwc8r+e8q2Vm3O8nUnnoqe5Vjr19+zbGjB3HpgMeXLycB8AJ95YcdW8NioJWo/DkkNZ88+l7NXoNMfmFfBB9nPyD1ZuNfK02bdpwLD6TK90b8rWuHHdvSb5Wh/GqDuF7z2TT9aZe/PHHHzZZrz2pqsr+/fvZv796N3b0U2CIq8JOvVrpzwdHFu4ErorC4TJaR3RxtrQGKet5e9ECgRrLDGrpo1y/nD59ulirrYMHD3Lw4EG++uor7r//fhYvXlzt2CNHjmTkyJEA+Pr6VrC0EEIIIYRoDGSGsh2dNsK+MvrIVkSj0WC8qtdkurM3m/xuKlZMBjCZVDSa6g9zivnvH5U6wFa/L70UaF5B9wjXv5ZxgG4XVu+/+zZ3dffmodtb4+X2943NAn1cefYfbWntmc03X39hxwzrh6YauEWnIfiawU03U+2bPQIldtAUZ19SXHwxXXOoq8K92xq0js4KN9j4tKKKwgn3lqQ6/110MKsqilL1medGo5G33niNNx5sx+1dgnHSKpb2PopC2+Y+zBzTid+2/szBgwdrnHe+DfcJrVaL+dpewIrCOddgElz/nnFtMqtoNY50hLMfPXDCWHbP4frGS1HwLeej11kB57Kfths3BW531VT4+Szqh9OnT3PhwgVuuOEGAHJyckqdhezt7W19vjSrV69m7NixjB07lszMzNpLWAghhBBC1BsyQ7mOaDQabrrpJkJDQ9Hr9Zzct5fYy+nVjnfmzBkeGeTG2qsmGl65xP9qnVp5snPl2WqvB6BzoD8dunSm0NuP8+fPc/HAAWpaWr7eSaGNE/xQUHacFlro7qJhfYHZYS7Bzc/P58Xnn+HOESN599F7MCtOaDUKhfk5/LRqBVs2b8ZsbgDT62pZkhm2FZox+wcwvNfN6FxcUGNOse34KbJM1d9+KSnJtAzytNwcDMvM0F0+HYst06aZN4mJl2qUf0PhrYBRUajJ+zknO5MgXzdSMgsAKNDqOOXeotgyHVv7E3O2esehmJgYXp74DPf+8yE+nXA7+XoT7hlJZOzfzZcfLyO6hu1lfBW43lnhuEG1WVH53LlztG/hU+FynVp6cHT7Mdus1MEEaaCPTuGXwr+vcilPvmrpodxQ/FnBa/mjmieTa1uuCtsr2ZJK1D9xcXH06tWrxONhYWEkJiZSUFBgh6yEEEIIIUR9JAXlOjBoyFAee+Jpjp3PITbFQBNjNg/7enGpSQgzl3xt7V1XFSdOnCDISyHI15WUzMJSl2ke6IG7tojY2Nhq5e3r68sr/5pO85gTnMyAsy1uYtgtrrzwsjtfL17Er79uq1ZcgFNGtcJWFjFGyDQ7TjH5Cr1ez6ofVrLqh5U4OztjNpur3b+1sfLy9ub5V/9NcIswfjuegSE3j1vMCvc9/BhLtm5la9SWasWNXLmce+99hv/8dLrMZUb1DiHy20+qm3qDstsGRa2ffljB3QMeYvGGGBTVjL8xl3Qnz2InuO65JYRvFsys9jpSU1P5bOHHfLbwY3Q6HU2MRYQ7wSkb5O+lgZZaOFJU41BW2dnZxMeeoWubAKJj0kpdxl3nRM+2fnz69g7brdiB5KqQVIXDogbLaQ0HO9w3So50o0BRM+3bt6dly5Zs22b5vrZz507uvPNOunXrZr2yw93dnX79+rF582Z7piqEEEIIIeoZKSjXsn/ceReD73qYyV8dJV9vqaBqVRO/6T1p4dacDz/6lBeeG0d+fn6VY3/ynzm88dqbvLn8OGnZxYvKQb5uTPtne957e1q18vby8uLDjxex9Nckjh73oVDjQr8T64ly9uKrwLb8e8wzuOhc2LJ5U7XiV2YmoBlIdfAfttIruerc3d358KNPWbH7MimR63AxGznh0YoN5ra4bs7hlYeexNXVjXVrf65y7L179zJy1D8Z1SeUH3cnlHj+/n4tcNYnV7vPqyhp27Zf+MfIe4jo0Yx9e05yW+Zh9nq355IuEEWBRwe2JuPSaY4ft01/Yr1eTwLUqI/71S6YIKFAtXkh8/NPP2LOfxbwQWQRsYnFLyP3cHVixsMd+PqLTzEaHaRJvI3lq7C3CgX/9k6WFiw/FKjVuq+Ao3FToIeLwimDSso1L6iJxtJD+fci1eFOmIKl3VQLLcQbLfcxEPXDm2++yaVLlzh16hS5ubmEh4czZswYUlNTWblyJWApKB85coQZM2awYMECcnJyGDNmDIqisGzZMju/AiGEEKLh+2lSuL1TcHh3f1T25DDhWKSgXIs8PDx44JHHmfT5QYqMf/+iNClazrkGc+5UJt4+Hjw0egxfLf6syvGPHDnCR3Pe5u2p04hNLuTP2Fw0CvRo40WLAGfmzPw3J0+erFbuY554itX709l/6jJodaCq5Di5k6d1JbfAwJvLjzF/3Hh2/LodvV5frXW01EKBWnrRuKkG/DSWPtMNobgg/vbw6MfYfCSbPSdS6W7MR2c2gKpSpHGmyABv/+8YH41/nG2/RFX5RIuqqvx72lReeGkqC57twS+HL5OabaCpjzO3dwrk0IF9zPj33Fp6ZfVTf51CqknlZDXrmiaTidemvMjLr0zjjmf6sH93AOGKD/0C3RnQqQm7d23n/UULbJv0XzTY5vhQGzW9pKQkpk19kWnT3yHX2ILdp7IwGM3c0NydLmHefPnZwhpd5VFfuGC5AW1F2zjVDMcMDaOYDGBSwV0Bp1JahyuACXDUDh+eiqXdVJ7ZzKWGMiCNQGxsLEOGDOH+++/H1dWVtLQ0tm/fzpdffklWVhZg+YycMmUKEydOZOrUqbi4uHD06FGee+45UlJKv9mwEEIIIYQQpZGCci2KGH4nUdEpxYrJzfWpKECCSyAoCpsPJLLgmSF889UX1WqbcOjQIR4f/QDdu3fnhg6dAIj8JppDhw5VO29nZ2du6dOfCZ8esD52feElcrSunHMNBqCwyMSOo5cZMmQYa6sxkxQsM7RSzZBayiy2YK1Cayc4aXTQX9yiWrRaLbcPHMzzn0UDcNDzelxUA71yTnHSvQXZTh4UGc1sPZRCxPA7WfXDyiqvw2g08uEHs/Hx8eH2AQNo6hdAxsXLTPp0W7XayzR0JrXmRVm9Xs/sd2bg5+fH7QMGEOjjR8qhZJ79aBt5eXk2yfNaTTXQV6ewtVCt9o0cQ7UQ7qSwu0i13nzUlhISEpgw7gnatm1Lj5434+XszJ51p/lwz55G0Wu9mQb66RS26FUyKni5qWbHvyKlKoqATWXsVClmSNE77mdbuhnWFJhteqNKUfuWLl3K0qVLK1wuOzubWbNmMWvWrDrISgghhBBCNFRSUK5FN3Tswo9Hi98NO6wwGY1qJkHXBACD0UxiegEBAQE1mh1y4MABDhw4UPGClRASEsK55BxM5r9/TTYxZGFGIcatufWxg7FZDOjUpdoF5a36sos4hwwqx6WbRIMTGBhIYnoBhr9OsqiKgqexgEBDFgqh1uUOxGQysmMXqEZB+YqsrCxW//RTjXNu6GzRRxlAC/hlZ7AhMpLSu7rbVpZqaVdhixpkbdf2zpw5w5kzZ2p3JQ4o3QxHDWqltq8TlrFsQDXlestM5dpSCSGEEEIIIRovKSjXIlVVufZq113eHdCpxSulSimXxNpTaXnv9boB9dpEFWp0rXhFP1ilntzwqKpaYn9Pc/ZhvX/xu84rjvamEBUK0EBPnYZfC80k1UFVsFCF/TUshieYIMEklbPaUggcr2QrlVt1CiqwzYFn7lZVOyfL1Ta/XvOaBukUkv5q8eGo/BRo7aRwqAG1IRFCCCGEEELYjhSUa9GR6D/oeeMdxW/IpCjoFRfrP12dtTT1deXy5ct2yLB0iYmJtGrqhbNWg8H090zSa/W83pcj+36p9nrcFWithTiTpZfyFR2cFXTAAQf+sS2q5/LlyzT1dcXVWUuh4aoWL9fsXz3b+nIkemMdZ9c4uQBDXRVOGlXO1uD+cClm2FBgJq+O37buiqUXbVVPQNmq/7IonwL4ayDDXP72Pmu0/Y0R7c0ElNa1KUuFfLNjv1pPDbRxgrNGKnXjQI1Gw80330yPHj1QFIVDhw6xa9euarXyEkIIIYQQQjg+jb0TaMg2b9rIwC5NcNNpy1wmolcztmxa71D9NI1GIzu2b2XoTSFlLuPp5kzfGwL4ZevWaq/HVYFOLhp8r6lVuwDOMkG1QTKbzURt3kBEr2ZlLuOuc2JA5yZs2rihDjNrvIqwFIPzbHAIylYtRbS64qXACDcNLco+xJYp3AlGuilyVrWWNdPCYFcNARV82zhvsrQwaUjOGuG3UmbR/1GkEufgr/WiCVYVqJUqJnfr1o2VK1cyYcIEOnXqRMeOHXnyySdZuXIlffv2rf1khRBCCCGEEHVOCsq1qKCggCWLF/HWIx3x9XAp8fzgbsH0vV7Hd98ut0N25Vu2dAmDOnhyW+emJZ4L8Nbx9uiOfLZwPkVFRdVeR4YZVuWbSbymkHXQoPK7jfq6Csez4n/L6NPGhUFdg0s85+vhwpuPdGDJ4kUUFtZFJ14BsK9ILfE+rApnLDfZ9KrjE0E5KvxZVL0WG5lmOGeEGkzKFpWQYoLdejOZFYyRqyJfSByJmcp1tOrYsSPTp0/n/PnzXLx4kfT0dNLT07l06RJxcXFMnjyZ3r1713a6QgghhBBCiDrmsJOzmjRpwqOPPkr79u1p27Ytrq6ujBo1iqSkpGLLubi4MG7cOIYNG4aXlxenT5/m008/JTo62k6ZF7d16xbyC/J5e/zzXMwwEJNUgJtOQ+92/hw/coiXX3gFvV5v7zRLyM/P5+UXnmXS5Fe5/9nu7D2VTmGRmfBm7gR5KSxeMIf9+/fVaB0qJYs5chl6w6fX65k86TkmvjiVeyZY9q0CvZk2wW4093Piy88/Ys/u3+ydZqOjxfKerM77z1djmfF7yVS5y+NtqbptOpLMkOTgbQcaAgMVzzx2Aka6aThUZOZkA6rwOwGDXBXOGFRi/9oG7ZygnZPC+kLV4U9mhGohzNWFYzpPcnJyMBhKNpaZOnUq8fHxpZ5cNhqNxMXF8dJLL/HAAw/URcpCCCGEEEKIOuKwBeXQ0FAGDRrEyZMniY6OLnOGy7Rp0+jTpw8LFizg0qVL3HvvvcyfP5+nn36aM2fO1HHWpduz+zf27P6NG2+8kdDQUPR6Pcvm/Ulubq69UytXXl4e7749HW9vb7p164ZOp+P3n85z8uRJm62juRb8NQpH/uqXPEinkGaW/skNXUFBAXNmv42Xlxfdu3dHp9OxPyGB48eP2zu1RslXsfRR/q1I5WI1LsVPNUNkgX1u3qUAQRrQq5BZycOGqwJm1dLuQ9Q+HRCitdwEsbQiqgr8UWQmzcHbQFSVEcg1F9/Pss2WEy+OXkzu1q0bzwwbRJP8XIp69sXVy4tjx47x1VdfERsbC0CbNm3Q6XTlXk1iMBgwGo106dKFQ4cO1VX6QgghhBBCiFrmsAXl6Oho/vGPfwAwYsSIUgvK119/PcOGDWPmzJmsW7cOgIMHD7J8+XKefvppXnnllTrNuSLHjx+vlwWz7Oxsfv3111qJHaBRaKWFI39NfEo0Q67MGmw0cnJyam3fEpWXrcIJI+TUoCJsz1pgH53CRZOldUdldHBSaOUEPxY0vBvBOSI/Ddys01BYWHp7EhMQ4+gV1mq6todyohkSHfwz7v777+eBBx4g8dIlTufnw8WLAPj7+zNv3jxmz57Nvn37CAsLsxaTlSI9rimJ6JsEY9a5FotXVFREmzZtpKAshBBCCCFEA+KwLQtVteIfXP3798dgMBAVFWV9zGQyERUVxc0334yzs3Ntpihs4IhBZU3h32N91KByroHNUhPC0ZmxvBezq1HncgX6uSj42enTRAW2F6r8WYW+67FGlT+KpJhcV1LMsLGg7F7XToB7I+mh7OivMTw8nAcffJCYmBjy8vOLPZeVlUVsbCzTpk3Dx9sLz7wclJxsADRGI+7xMTjlZAHgnJmOUmRp56UoSqntMoQQQgghhBD1l8POUK6MsLAwLl26VKIHcVxcHC4uLoSGhhIXF2en7ERldOrcmbvuugs/Pz8yLsSzct0GTjtIqxIhGhsfxdIDuSoTld014KOxtJ6wl4wqVoYzVMiQE1d1xgxklTNGwVroq9OwscBc7nL1UVsn6OCs8F/qXEsAACAASURBVHOBiga4x03hoEHljIPOyB4zZgwpKSnWk/puF+Jwysslp30nNPpCzHm5pKenc9edd8LG1XhlXibR2R2TmzvpPfuhuujAZMTz9DGM3r7ktO+Eu7s7Bw4csPMrE0IIIYQQQtiSo0+WKZe3tzc5OTklHs/OzrY+LxyTv78/S5Ys4dVXXuG6vCzcky/SLvE874x+kIULF+Lp6WnvFIVoVEK1cIebBt8qfiqkm2FdoUq6ne+meZ3W8r+KBGjAv15/8tVPngp0clZwKeW5DDPs15vJb2DFZLC0kTlvtHzZUoDjRuz+XilPhw4dyMrK+vsBjQZVowFVxfvYQdzjz5Kens6QOyJYm5HPGSdXfH19QVEsxWQArRPZN3Yh97pwvLy8uHz5Mhf/apshhBBCCCGEaBga5c/qkSNH8vXXX/P1119bfgiJOqXT6Vi4cCEFBQVcSEhAn3wJQ1YWl0Nbc94Ezs7OfPTRR2g0jXL3FMIuUk3wu95MrgMXu8rTwkmhhVPF86Q7OCv0drHnfOrGyVWBG5wo9YRFngqxJmiITRGS/rrJrBHL6ztqUEmrR++xguatyA3vAIpC3nXtyG/dFqPRiE6nI0OF2e/PwdfXl4CAgGJ/Z/L0xrdpME2Dglg1YxrNK3GyRwghhBBCCFF/1OuKXU5ODl5eXiUevzIz+cpM5WutXr2asWPHMnbsWDIzM2s1R1HS8OHD0ev11vHJ6tyT/LC26JsEY3L3ID09HRcXF/r06WPnTIVoPPTAORMUVeFv3BWIcFUIcoBPkt/0Kr/qK57iulevsqcK/ZaFbaSZIbJAJaWUYqqbYtmXGjIFcMbxv3QVFRWh1ZZe/TX4+mNy98DDw4PExEQAMjMzGT9+PPHx8bRr145mzZrRrFkz2rVrR3JyMs8/+wya7Cx8SxnfwMBAbrzxRlq1alWbL0kIIYQQQghRC+p1D+W4uDhuu+02dDpdsT7KrVu3pqioiISEBDtmJ8py7733kpyc/PcDZjO6tBSK/AJQnSw3UkxPT+fhhx9m165ddspSiMZHh6UlxKVKzqB0xjK7tNAB6rOVbUlbBBTVoxmiDYVK2WPU0VmhmRZWFzjAjlQLRrgqJJjAWYEgDax1hDdMGdauXcuAAQNISUkpcxk/Pz8++eQT67+zsrKYOXMm7u7uhIWFodFoiIuLIzc3F4AU/u7L7gq07diR555/noCAAAoKCnByckKr1fLdd98RGRlZey9OCCGEEEIIYTOOPlmmXLt27cLZ2ZlBgwZZH9NqtQwePJh9+/bJXcUdlLu7e7Gxcc5Kx/P0MVzSUq2PFRQU0KRJE3ukJ0Sj1dIJ+rtqcKvkbNEsFXboVbIdpD4W7gR9ymln0UoLLeXSe7vxU6Cvi4LrNUMUY1T5swHPGo81qqSaVS4YVY4bHPt1/vjjj3h6epZ69RdY7n9QUFDAvn37SjyXn5/PsWPHOHLkiLWYDH8Xk12A8R2u560H7qGoqIiYmBguXbrE+fPnuXDhAvfccw+vv/56LbwqIYQQQgghhK059AzlAQMGANC+fXsAbrnlFjIzM8nMzOTgwYOcPn2aLVu2MGnSJLRaLYmJiYwaNYqQkBBmzJhhz9RFOa7cPf4Kg48fuW1vRN+kqfUxjUaDyWSq69SEaNQumCC90EwlOkcAljOSjjTZV8PfNz8r7SW0cVIwAedNjl3Ua8j8NOChFJ/Vnm6GdPulVOuOVXb6vAPIzc3lhRdeYN68efj4+JCVlUVRURFubm54e3uTmZnJ1KlTS3yOV4aLpwe3PzaWuNwCivLziz1nNBpJSEigY8eO3Hbbbfz666+2eklCCCGEEEKIWuDQBeV333232L9feeUVAA4cOMBzzz0HwKxZsxg/fjzjx4/H09OTs2fP8tJLL3H69Ok6z1dUzqFDh2jevDkZGRmWBzRa9EEhxZbx9/dn+/btdZ+cEI1YYRXaV3grMNRVYbderXSLjNp20gill5ItftGruNRZNuJaGWrp7R58FEsPbwfuBFFtrVq14sEHH6RD2+tRi/T8cfwkK7//vnjbJweTlJTE6NGj6dWrFyNGjMDb25uEhARWrVrFiRMnqh13xIi7yAgMpshsaafhkpqEwccP1UVnXSY5OZlHH31UCspCCCGEEEI4OIcuKN9yyy0VLqPX6/n444/5+OOP6yAjYQvLly/ngw8+IDMzs9RZTlqtloCAAFatWmWH7IRo3HwVyyzSuAouEDABZ42Q6YBFwPJmTlflpoOibtymU0gyw74G1vZi0qRJ9O/fn6wj0RjW/ABAt5v7M/Czz/j+++/53//+Z+cMy6aqKr///ju///67zWLeeuutZGVlAaAUFeEZcxJ9UAh517WzLlNYWEjr1q3RarVylZIQQgghhBAOrF73UBb1U0xMDMuXL6dNmza4u7sXe87T05M2bdrw8ccfk5qaWkYEIURtaemk0MNFqfDDIU+FaINKvoPVANs4wd1uSomzpZ2dFcId+hRq49BEA3e4Knhe1Ud5X5HKGaOD7Ug19MQTT9CrVy/Onj1LuqqQF9yc3BZhpBpNnD59mrvvvpthw4bZO8065ezsbC0Sqy4uZHXqQV6r60ssZzKZ0Gql2bkQQgghhBCOTArKwi5WrVrFrFmzcHJyom3btrRq1Yrw8HCKiop4/fXX2bZtm71TFKJROm1QWV2gltsbWQG8KnnjvrqWaYZYY8kPN18NeCkOmnQjUqhCgVr88qgkM2Q4SNsUW9DpdIwcOZKEhAQATO4e5IeFUxDaGtVFh6qqnD9/nrFjx9o507oVExNT7GZ/Jg9PuKZwrNFoUFWVoiK5lkAIIYQQQghHJvO1hN0cPHiQCRMm4OHhgaenJ9nZ2RQUFNg7LSEatcJKLOOrgaGuGnbrzVxwsKvS08yQZi4523VHZe80KGpVjgq/XjUWWiwtVrLNDacdSb9+/cjKyirW0skpJxtVo2DysBRUjUYjBoOBDh06cOzYMXulWqdWrFjB+++///f9E0oRGBjIunXr6jArIYQQQgghRHXIDGVhd3l5eSQnJ0sxWQgHEaqFtuWcbsw3w369mRQHKyZfzUexzKQWjunKlw8PBQa5aghuQB0OmjZtWqL/r8/h/fhG7yv2mNFoJCgoqC5Ts6u4uDiOHj1KSEhIqc97e3vj7u7OypUr6zgzIYQQQgghRFVJQVkIIUQxzbUKbZzKLsfqgViT5f8dUXMt3OGmIeCvT7gBOoUOzlJedhTBGrjHTcFHgXwVfi107JMTVZWdnY1GU/zrVUb3W8jo0bfYYxqNhtzc3LpMze5mzpzJ0aNHCQ8PJygoCB8fHwIDA2ndujXOzs4899xz5OXl2TtNIYQQQgghRAWk5YUQQohi/ixSMZbxnAYI1kKKiTKXsTdtUAjthgzkvmERaFx05P++i8379nNm7x/Sm9UBZKmWPtcmLPtQUgPqnwzw22+/MXbsWJKSkqyPmd2K34BWURS8vLyIjo6u6/Tsymw288EHH+Dn58fw4cNp0aIFOTk5bN68mTNnztg7PSGEEEIIIUQlSUFZCCFEMeUVigM00F+nYZfezEUHnFU6dOhQnn32WVJTU4lNuIiqqrg0a8XgJ7szbNwEJk6cWG4PV1H7ClQ4YLD0F3ZXLG0v0syUeyPI+iQjI4MjR47QrFkz0tLSSl2madOmbNq0CYPBUMfZOYaMjAyWL19u7zSEEEIIIYQQ1SQtL4QQQpTQwVmhXSmnHNPM8EuhmWQHLCbfeOONPPPMM5w5c4b01FScLyejzculqKiIxMREsrOzmTdvnr3TFH/xVKCVFga6ahrcl5F3330XVVVp1qwZLi4u1sddXV1p0aIFKSkpLF682I4ZCiGEEEIIIUT1yQxlIYQQJfhrQK8qgFrscTOQ6qBTSZ966ikuXbqE2WxGYzTgdfIIAAWhrchvdT3Z2dn4+PjQpUsXDh06ZOdsG7dQrcI/w5qTd2NX9GYzoUeOcS4+3t5p2Yxer2fChAlERETwwAMP4OHhAVhm5n711Vds27YNVVUriCKEEEIIIYQQjkkKykIIIUrYqS9Z7HICrneC8ybLzdQciU6nIywsjFOnTgFg1rmS1bE7zjlZGD29rctlZ2dz9913S0HZjvr378+kZ5+hKC4GfUAT0LkS8ehjZGdnM336dBITE+2dok0YjUbWrFnDmjVr7J2KEEIIIYQQQthUQ7vKVAghRC3x00AXFw3eir0zKcnT0xO9Xl/sMaOPHwWhrTH4+lsf0+v1+Pv7X/vnoo7cfvvtvPjii5y7lMh5rQtpF86TdvY0cXFxFBUVsWDBAoKCguydphBCCCGEEEKIckhBWQghRAkK0M9Foe1V17GkmmF1gZkUB2x5kZubi06nq3A5nU5X5o3SRO3SarW88MILxMbGYjQawWTE5/AfeMRaZpXn5OSQmprKCy+8YOdMhRBCCCGEEEKURwrKQgghSrjS0eLayciFqqWPsqPR6/XExsbi5eVV7nLe3t789NNPdZSVuNqtt95Kbm4uJpPljo7OWRkA6IOaWZfJzMykQ4cOFY6jEEIIIYQQQgj7kYKyEEKIUu0qUjlttPy3C9DTRcHHAdtdXPHll18SEhKCRlP6R5uPjw+FhYUcPny4jjMTAJ07d6awsND6b4OPH9kdulEYFFJsuZycHFq3bl3H2QkhhBBCCCGEqCwpKAshhKiQlwZaaMHZgQvKJ06cYNGiRbRt25aAgAAUxZKsTqcjJCQET09PpkyZYucsGy+z+Zq57VonS39rrbbiZYUQQgghhBBCOAynihcRQgjRGPm5u/FMp3a4d+5Oprcfv27fzuU//7R3WuXasmULR48e5YEHHqBv374oikJ2djbffvstW7duxWAw2DvFRmvfvn306tWrwuW8vb2JiYmpg4yEEEIIIYQQQlSHFJSFEEKU8Mgjj3DfffeRt2Mr+QFNCGoSTLdu3XBycuL111936IJfYmIi8+fPZ/78+fZORVxl37596HQ6XFxcKCoqKnWZgIAA9u7dW6w1hhBCCCGEEEJUxXsrRtk7BYf32oM/1ujvpeWFEEKIYh555BFGjBjB6dOnSWgaSoYZTDuiSDp+lOTkZObOnUtoaKi90xT1jKqqzJw5k7CwMNzc3Eo87+fnh4eHBwsXLrRDdkIIIYQQQgghKksKykIIIazc3d257777iI+PR1VVALT6QhSTCVWrpaCggKSkJJ577jk7Zyrqo8OHD/Ovf/0LT09PwsLCCA4OJiQkhHbt2pGSksL48ePJycmxd5pCCCGEEEIIIcohLS+EEEJY3XHHHWRmZv5dTM7NxufoAbLbd8Lk4QVAVlYW7dq1w8vLS4p/ospOnjzJk08+SYsWLQgLC8NoNHL06FGys7PtnZoQQgghhBBCiEqQgrIQQgirdu3aFetfa3JzpyAkFLOLa7Hl8vLyCAkJkYKyqLYLFy5w4cIFe6chhBBCCCGEEKKKpKAshBDCqqioCI3mqm5IWifyW7ctsZxGo8FoNNZhZkIIIYQQQgghhHAEDaKHclBQELNmzWLLli1ERUUxe/ZsmjZtau+0hBCi3tmxYwceHh7lLqPRaHB1dSU+Pr6OshJCCCGEEEIIIYSjqPcFZZ1Ox4IFC2jVqhXvvPMOb731Fi1atGDBggW4urpWHEAIIYTVH3/8gbOzM25ubmUu07RpUzZs2IDJZKrDzIQQQgghhBBCCOEI6n1BeeTIkTRr1ozXXnuNHTt2sHPnTqZOnUpwcDB33323vdMTQoh6RVVVXn/9dVq2bImPj0+x5zQaDSEhIeTl5fHNN9/YJ0EhhBBCCCGEEELYVb0vKPfv359jx46RkJBgfSwxMZEjR45w66232jEzIYSon86ePcvEiRPJysoiPDyc5s2b06JFC66//np27tzJCy+8IP2ThRBCCCGEEEKIRqre35QvLCyMnTt3lng8NjaWgQMH2iEjIYSo/xISEnjttdfw8vKiWbNmGAwG4uPjpc2FEEIIIYQQQgjRyNX7grK3tzfZ2dklHs/OzsbLy8sOGQkhRMORk5PDqVOn7J2GEEIIGwkKCmLSpEn06tULRVHYv38/8+fPJzk52d6pCSGEEEKIeqLeF5SrY+TIkYwcORIAX19fO2cjhBBCCCFE7btyM+uioiLeeecdVFVl/PjxLFiwgEcffZTCwkJ7pyiEEEIIIeqBel9QzsnJwdvbu8Tj3t7e5OTklPo3q1evZvXq1QB8/fXXtZqfEEIIIYQQjuDKzawffPBB6/1Hzp49y8qVK7n77rtZsWKFnTMUQgghhBD1Qb2/KV9sbCxhYWElHg8LC+PcuXN1n5AQQgghhBAOSG5mLYQQQgghbKHeF5R37dpFhw4daNasmfWx4OBgOnfuXOrN+oQQQgghhGiMwsLCiI2NLfF4bGwsrVu3rvuEhBBCCCFEvVTvC8qrV68mKSmJOXPm0L9/f/r168ecOXNITk7mp59+snd6QgghhBBCOAS5mbUQQgghhLAFpXfv3qq9k6ippk2bWu9WDfDHH38wf/58kpKSKvzbDRs2kJiYWNspFuPr60tmZqbErqPYtR1fYtd9fIld9/Eldt3Hl9h1G7u240ts+8QvTUhICBEREXW6TkexY8cOvv32WxYtWlTs8XHjxvHoo4/Sv3//En9z9c2sW7VqRXx8fJ3kakv22M8aK9nWdUe2dd2S7V13ZFvXHdnWdas+bu/yvjfX+5vyASQnJzNt2rRq/a09flB8/fXXjB07VmLXUezaji+x6z6+xK77+BK77uNL7LqNXdvxJbZ94ovianoz6/pK9rO6I9u67si2rluyveuObOu6I9u6bjW07V3vW14IIYQQQgghKiY3sxZCCCGEELYgBWUhhBBCCCEaAbmZtRBCCCGEsAVtaGjom/ZOojE6deqUxK7D2LUdX2LXfXyJXffxJXbdx5fYdRu7tuNLbPvEF3+LiYlh6NChDBw4kNTUVFq2bMlrr71GUVERs2fPxmg02jvFWiP7Wd2RbV13ZFvXLdnedUe2dd2RbV23GtL2bhA35RNCCCGEEEJUrCY3sxZCCCGEEAKkoCyEEEIIIYQQQgghhBCikqSHshBCCCGEEKJRefLJJ5kxY4a902h0Fi5cyIgRI+ydhkMKDg5mz549aLXaBr3OumLP9/i///1vxo0bZ5d11xdbt24t1s//asOHD+ezzz6r44xEeeQzs/ZERkbSs2dPe6dRLU72TqCxuO+++xg+fDht2rRhy5YtzJw506bxZ8yYQY8ePXBzcyMtLY1ly5axZs0am8ReuHAhHTp0wGQyAZCamsqDDz5ok9hbt24t9m+dTkdkZCQffvihTeK3atWKKVOm0L59ezIzM1mwYAG//vprtWKVNYZOTk689dZb3HDDDYSEhDBhwgQOHjxok9itW7dm+vTpNG/eHLD02/nwww+rdCf2smIHBwfz448/kp+fb1122bJlLFmypMaxhw4dyquvvmpdTqPR4OrqyuOPP16lnkHlvW9GjBjBmDFj8Pf35/Dhw8yaNYvLly9XKq6zszNTp06lR48eeHt7c/HiRRYtWsTevXttMp7lxa/pmJYXu6ZjWl7smo5pebGhZuN5RVnHQVuMaVmxbfEeLSu2Ld6jZcW2xXu0vM8dW4wnQGhoKMuWLWPbtm289dZbBAQE8Oqrr9K+fXuaNGnCqFGjanSZ/rXxu3fvzssvv0xQUBBms5no6GjmzZtHampqjWN369aNBQsWUFhYaF1m3rx5rF+/vsaxH3vsMcaMGWN9XqvV4uzszPDhw8nKyqpRbIDHHnuMu+++Gy8vL3bv3s17771XbL+sjLK+S9h6TEX9FRkZSWBgICNGjCi23/73v/8lPDxc9g0bufq7t6urKwaDwfq+fP/999m8ebO9Uqs3xowZQ9euXXn55Zetj61cuZKEhIQSjy1evJioqCh7pNngVbQvC/uIjIzE39/fOhYADzzwQInvgYMGDarr1Oqdzp078/zzzxMWFobZbObcuXPMnz+fEydOlPt3kZGRzJ49m/3799dRpg1Tdbd/YyIF5TqSmprKN998w80334xOp7N5/KVLl/Luu+9iMBho1aoVCxcu5PTp0zZr+D1v3jybFaivdvUHiZubG2vXruWXX36xSWytVsucOXP48ccfmTRpEt26deODDz7gscce48KFC1WOV94YHj58mO+++45Zs2ZVK9eyYl++fJlp06aRlJSERqPh3nvv5Z133uHRRx+1Sd5gKf5e/YFvi7w3b95c7AfJ8OHDeeKJJ6q8P5YVv1u3bjzzzDM8//zzXLhwgZdeeom3336bCRMmVCquVqslOTmZCRMmkJycTJ8+fZg5cyajR4/m8uXLNR7PiuLXZEzLi31Fdce0vNg1HdPyYoeEhNRoPK8o6zgYExNT4zEtK/bFixdr/B4tK/aVgkpN3qNlxbbFe7Ss2O7u7jYZT4ApU6YU+9JmNpvZu3cvS5cu5YsvvqhyvIrix8XF8eKLL3L58mWcnZ0ZN24cU6dO5ZVXXqlxbLAc00eOHGnzvP/73//y3//+1/rvJ598kq5du1a5mFxa7OHDhxMREcH48ePJycnhzTffZPLkybzzzjtVjl3adwlbj6mo3y5dusSQIUP44YcfAGjTpk2tfG9uzK7+7i1Fh+qJjo7m0UcfRaPRYDabCQgIwMnJifDw8GKPtWjRgujoaHun22BVtC8/+eSTNluXVqut9nexxmjq1KllHldkW1aOu7s7c+fO5YMPPmDr1q04OzvTpUsXioqKan3dMkb23f71ibS8qCO//vorO3bsqNaPu8qIi4vDYDAAoKoqqqoSGhpaK+uqLQMGDCAjI8NmX7xatWpFYGAgK1aswGw28+eff3L48GEiIiKqFa+sMTQajXz33XccPnwYs9ls09i5ubnW2TiKomA2m6s8rrW571U29vDhw9mwYYPN4vfr149t27YRFxeH0WhkyZIldOvWzTpLtCKFhYV89dVXJCUloaoqv/32G4mJibRv394m41le/JqOaXmxa6oqsas6puXFrul4XlHWcdAWY1pWbFu8R2vz+F3Z2NV5j5YV21bjOXjwYHJzc/njjz+sj2VkZBAZGWmTmQFlxb96Bk11xrOs2LZSmdgRERHVOuaWFrtv376sWbOGlJQUCgoKWLZsGYMGDbJZkc+WYyrqv40bNxb7nnbtscnDw4Pp06ezfv16IiMjefzxx1EUxbrsZ599xsSJE9m0aROrVq2id+/e1r8NCQnh008/JSoqio8++ghfX99i6541axZr165ly5YtfPrpp4SFhQFwww03sG7dOjSav3823XbbbSxdurRWtoG9XHs587WtEDw8PJg2bRpr1qzh559/Zty4cdZtEhoayqeffsqWLVvYsGFDsRNOPXv2ZMWKFWzZsoXJkydbxwugefPmfPLJJ2zcuJENGzbw5ptv4unpCcAjjzzCu+++WyzHl156iRdffLHWtkFlHT9+HCcnJ9q2bQtA165d+fPPPzl//nyxxxISEigoKChzu2k0GiZOnMiGDRv44Ycf6Nu3b7H1LFy4kHHjxvH5558TFRXF/Pnz8fHxsT7foUMHFi9ezObNm1m6dCndunWzPjd8+HB++OEHoqKiWLVqFUOHDq3UOv/xj3/w7bffEhUVxQ8//MDdd99tfW7ZsmX069fP+m+tVsuGDRsIDw+3xWatFc7OzkyfPp2oqCiWL19e7Dvtnj17in3GX92molu3bqxevZrRo0ezdu1aXn/9dXx8fJg7dy6bN29m06ZNLFq0yLo/h4eH88033xAVFcU777yDi4uLNa6Xlxdz585l/fr1bNq0iblz59KkSRMABg4cWOLKswcffLDBzbDes2cP9957LytXrmTlypXWx65sf29vb+bMmUNUVBRfffVVie9eL774Ij/99BNRUVEsWbKELl26AODv78+2bdvw9va2LhseHs769evrfRuXli1bArBlyxbMZjN6vZ59+/YRExNT7rFz+vTpNG3a1FoIfeSRR6z789WubrPw5JNPMmvWLGbMmEFUVBTDhw9v9J+Z5W3/ij4vKzp233HHHURGRrJx40Yee+yxYuu98cYbrcf1NWvWMHnyZJycLPOAp0yZwsSJE4stP2fOHJt1D6gOKSg3IFOmTGHbtm189913pKWlsXv3bpvFfvbZZ9mwYQOff/55sS8rtlTdH8BVoSgK1113Xa2uozZs3ryZ7du38/LLLxebhWYLP/74I6tXr7Z+UbK14OBgunbtWqtje+XLXHXH1s/PjxYtWhAXF2fLtMqNb6sxLS22rca0rO1iizEtb5vXZDxr8zhYXuyajmd5sWs6nhVtk5qMZ2W2d3XG093dnaeffpqPPvqoyjnVNH7Tpk2t4/nwww+zbNkym8X28/Nj3bp1rFq1ikmTJuHq6mqz2Fd07doVPz8/tm3bZvPYYBlPnU5HixYtqhQf6ua7hKjfjh07hoeHB61atUKj0TB48GA2bdpkfX7y5Ml4eHhw3333MWHCBCIiIrjzzjutz3fo0IH4+HgiIiJYtmwZ06ZNsz731ltvcfLkSSIiIliyZEmJCQZ79uzhn//8J8OHD+f06dO8+eabAJw4cYKsrCx69eplXbYuvrM6mjfeeAOTycT999/PY489xs0338xdd90FwNNPP83vv//O0KFDGTlyJN9//z0APj4+zJ49m88//5w77riDixcv0qlTJ2tMRVFYunQpI0aM4KGHHiIoKIinnnoKsJxc6N27t7VIotVqGTx4sENsd6PRyLFjx6zHsa5du3Lo0CEOHTpU7LHo6Ohyt9vIkSPp27cvjz32GGPHjmXAgAEl1jVkyBBmzpzJP/7xD5ydnXn44YcBaNKkCfPmzWPJkiUMGzaMTz75hNmzZ+Pr64urqysvv/wyL7/8MoMHD2bcuHGcOXOmUuvMyMhgypQpDB48mFmzZjFp0iRrwXjDhg0MGzbMumyfPn1IS0vj9OnTNt7CttOvTdYIcwAAIABJREFUXz+2bNnC0KFD2bVrF5MnT6703/r7++Pt7c2oUaN4//33efjhh0lJSSEiIsJ6AktVVZycnHjvvffYuHEjw4YN45dffim2XRVFYe3atYwaNYpRo0ah1+uteezcuZNmzZrRqlUr6/IN9fhy66238tRTT1n34atNmTKFoqIi7rzzTmbNmlXsuA6W4/CYMWMYNmwYmzdvZtasWbi4uJCens6BAweKzVaPiIggKiqq3s+wPX/+PGazmTfeeIPevXvj5eVlfa68Y+fbb79NcnIyU6dOZdCgQSxfvrxS67v11lvZtm0bQ4YMYfPmzY3+M7O87V8ZZR27W7duzdSpU3n77bcZMWIEPj4+1hNMACaTiY8++oiIiAiefvppevTowb333gvA+vXrGTJkiPW3lY+PDz179iz2PamuSUG5AZk7dy6DBg1i/PjxbN++3WbT8RcuXMh9993HXXfdxerVq/nggw+qPNOsIsHBwXTr1q1avSTLEh8fT0ZGBo888gharZZevXrRrVu3ennp5NChQxkyZAjz5s2z2Ze2rKwsnnjiCUaNGsXjjz+Ou7u79YPAliIiIjh06BCJiYk2i7l3714GDRpkvRR27NixmM3mKhdnwPID5a233mLDhg3Ex8fbLMeK4ttiTK+NbcsxLW+71HRMr41ty/GsreNgRbFrOp6lxbbVeFa0TWoynqXFtsV4jhs3jjVr1lSrd3FN4ycnJzN06FAiIiL4/PPPq3xcKCt2fHw8Y8aM4c477+T555+nXbt2TJo0yWZ5XzF8+HC2bdtGQUGBTWLv3buXu+66i+DgYDw8PKztdar6/qyL7xKiYdi4cSPDhw+nV69enDt3zrpPXikoLlq0iPz8fJKSkvj222+54447rH+blJTEzz//jNlsZv369TRp0gR/f3+aNm3KDTfcwOLFizEYDERHR/Pbb78VW+/atWvJz8/HYDDw5ZdfEh4ejoeHB2D5EXdlPd7e3tx8882Nqtewn58ft9xyC/Pnz6ewsJCMjAxWrFjB4MGDAcsP4ODgYAIDAykqKuLw4cOApeAYFxfHtm3bMJlMrFixgvT0dGvchIQE9u/fj8FgIDMzkxUrVlgLsmlpaURHRzNw4EAAevfuTVZWls3a+dXUwYMH6dq1KwBdunQhOjqaQ4cOFXvs4MGD5W63gQMH8t1335GSkkJ2dnapM/jWrVvHhQsX0Ov1bN261VrcHTZsGLt372bPnj2oqsr+/fs5ceIEffr0ASxX2Fx33XXodDrS0tKsJ/ArWufu3bu5ePGi9TX+/vvv1te0adMmbrnlFtzd3QHLLDtHLxIdPnyYPXv2YDab2bBhg3UGeWWoqsqXX36JwWBAr9djNBoJCAggJCQEk8nEoUOHAOjYsSNOTk6sWLECk8nEtm3bil11k52dzfbt29Hr9eTn5/PNN99Y93ODwUBUVJT1+BIWFkZwcHCJ41N9895771nbq7333nuApVVadnY2er2+2LIajYYBAwbwxRdfUFhYSGxsbImawKZNm8jOzsZkMvHtt9/i7OxsnUF69fFZo9EwZMgQNm7cWAevsnbl5+czfvx4VFXlX//6F+vXr2fOnDn4+fmVe+ysriNHjrBjxw5UVcXX17fRf2aWt/0ro6xj98CBA/ntt9+Ijo7GYDCwePFiVFW1/t2pU6c4duwYJpOJpKQkfvrpJ+vYHj9+nLy8PHr06AFYitYHDhwgIyPDxq++8qSg3MCYzWYOHz5MUFAQ99xzj01iHj9+3HqwWL9+PUeOHOGWW26xSewr7rjjDg4fPmzToqPJZOLVV1+lb9++rFu3joceeoitW7fWWoGithUWFvLjjz8yffr0Sh/IylNQUMDJkycxmUxkZGQwb948evfubf2SaCsRERE2PVEAsH//fr788ktmz55NZGQkiYmJ5Ofnk5KSUqU4iqIwY8YMDAYDc+fOtWmOlYlfkzEtLbatxrSivGsypqXFttV4XlEbx8HKxK7pe/Ta2LZ8j5aXd03fo9fGrul4tm3b1nqJdG2obPzs7Gzrl8fKXjZZXuz09HTOnTuHqqokJiaycOFCbr/9dpvmrdPpGDhwYJXHs7zYV1/O+L///Y8DBw4AVPn9WRffJUTDsHHjRoYMGVKi3YWPjw/Ozs7FbsyXlJRUbGZPWlqa9b+vFC3c3d0JDAwkJyen2E0xr46j0Wh49tln+f7774mKiiIyMhLAeonvpk2b6NevH66urgwaNIjo6Ohi62roQkJCcHJyYs2aNdYi0auvvmr9rFuwYAGKovDVV1+xfPly6+zCwMDAEseK5ORk63/7+fnx9ttv8/PPPxMVFcWMGTOKXYlzdVFi2LBhDlUkio6OpnPnznh7e+Pr60tCQgKHDx+mU6dOeHt7c91113Hu3Llyt1uTJk2KbY/Sbjp59X5WWFiIm5sbYJmMM3DgQGvczZs306VLFwICAigsLOSNN95g1KhRrFmzhrlz51pnwFa0zt69e/PFF1+wadMmNm/eTJ8+fazvg8uXL3PkyBEGDBiAp6cnt9xyi8MXia7dfjqdrtKf6ZmZmcVOwi9fvpyEhATmz5/PDz/8YL1fRmBgYInfl1f/ptXpdLz66qtERkYSFRXFokWL8Pb2trYEWL9+vbUlyR133MEvv/xibSlWX7322msMHTqUoUOH8tprrwHF3/tX8/X1xcnJqdz98uGHH+bbb79ly5YtbN68GU9PT+t+uXPnTlq3bk1ISAi9evUiNzeX48eP19Irq1vx8fHMnDmTkSNHMnr0aAIDA3nxxRcrPHZWx9XHavnMtChr+1dGWcfuaz8XCwsLi7X3bNGiBXPnzmXt2rVERUXxzDPPOPTnotyUr4HSarW1NvNHVdVi/c9sISIigv/7v/+zaUyAmJiYYjeCWrx4sc2Lm3VJo9Hg6upKkyZNbH4m6sqZMVuObefOnQkMDKzypdeVsWrVKlatWgVYDryPP/44sbGxVYoxbdo0/P39mTx5cq1cFlWZ+NUd08rEru6Ylhe7pmNaVmxbjOe1avM4WFZsW7xHy4pti/fotbFt+R69OnZNxrN79+6EhITw008/AZYbtmq1WsLCwvh/9u48vqZr///4OzORBFESmltiLr0EbWPW1lRUULeDKVU0xlYpKUoNRZUWRd1q0UFruuYaQtCYGlNFDFExBFVJEEPGRqbfH37ZX6eJ5JCRvJ6Ph0dz9lp77bXO1nNWPtb+rN69e+e4nw/SvpWVlZydnVWiRAlFR0fnattpaWkm+eVyo+0WLVooOjraCPrmVtsLFy7UwoULJUnPP/+8rl69muN/nM2LuQQeDxEREQoPD1fjxo1Ncujevn1bSUlJcnV11YULFyTdTVFjzt/FqKgoOTo6qlixYsYvyC4uLsbnaps2bdS8eXO99957Cg8Pl4ODg/z9/Y2/o9euXdPx48f1wgsvGLkPHzd///23yZMHZcqUMX6OjIxUUlKS2rVrl+mc48aNG8YqxDp16mjOnDlGAKFcuXImdV1cXIyfBw4cqLS0NPXs2VPR0dFq3ry5SUqC3bt3a+TIkapcubKaNGmir776KtfGm1MnTpyQg4ODvLy8dPz4cUl3V7Rdv35dXl5eun79erbv2/Xr103ej3t/zs7Vq1fl5+dnvO//dODAAR04cEB2dnby8fHRqFGjNHDgwCyvaWNjo08//VSTJk3S7t27lZKSkqH9zZs3y8vLS1ZWVjpx4sQju1BHursQ494nV8uUKWMS6Ll31aB09/7OnTtXc+fOVeXKlTV37lydOnVKUVFRJv+wJd0N+Kev9O7evbueeuop9evXTzdu3FC1atX0448/Gp8vJ0+eVFJSkjw8PNSmTRuT3KxFwa1bt5ScnCwXFxfjqbB7/17WrVtXPXr00Hvvvafz588rLS1NW7duNd6/O3fuaOfOnXr55ZdVsWLFAg+w5ZWLFy9q8+bN6ty5c7afnf/8u/vPz3dLS8sMOZHvPYfvzIzuff9DQ0Pv+32ZnevXr6tSpUrGazs7O5OAsa+vr0JDQ/Xxxx8rPj5eb7zxhkkKHT8/P/3888+qWrWqKlWqpN27d+dsYDnECuV8YmVlJVtbW1lZWcnS0tL4OTeULl1arVq1UvHixWVpaSlPT0+1bt06VzYDcnBwkKenp9HfNm3ayMPDQ/v378+Fnt/173//W2XLltXOnTtzrc10VapUka2trezs7NS9e3eVKVNGmzZteqi2srqHNjY2xuYL9/6c07afe+45Y8doe3t7vffee4qOjjZ+kcpJ27Vq1dJTTz0lCwsLOTk5afjw4fr9998VFxeXK++JdPcfCgICAhQfH/8gb0e27dva2hr5WF1cXDRq1CitXLlSMTExZrft6+tr5DD656NXOb2fWbWfG/f0fm3nxj3N6n2RcnZP79d2btzP7D4Hc3JPs2o7p/czq7Zzej/N+W542PuZVds5vZ/r1q3Tf/7zH3l7e8vb21vr1q3Tvn37jBUBtra2srGxMX5+0P8/s2q/RYsWxnteqlQpDR06VKdPnzYrmJxd2/Xr15erq6skqVy5cho0aNADTQKze1+kh98ANau2nZycjH8oqFSpkt577z0tXrw4wy8rWcluLpHTe4rHz9SpUzVkyBCT1VEpKSnasWOHBgwYIHt7e7m6uqpbt25mBQ8iIiL0xx9/6J133pG1tbXq1KljsrmYvb29kWqoWLFiGjBgQIY2tmzZop49e6pKlSoKCAjIlXEWJqGhofLw8JCLi4tKlCghb29voywqKkoHDhzQu+++K3t7e1lYWOjJJ580HsN96aWXjIBa+md9amqq9u3bJ3d3d7Vo0UJWVlZ6/fXX5ezsbLRrb2+vhIQExcbGqmzZsurRo4dJn+7cuaNff/1VEydOVEhIyH1XOBaExMRE/fHHH+rWrZvJhuLBwcHGsezetx07dui1115T2bJl5ejoaPKeZ8fPz09NmzaVp6enMUeuV6+eypYtq9KlS6tZs2YqVqyY7ty5o4SEBOMzO6tr2tjYyMbGRrdu3VJKSooaNmwoT09Pk+vu3r1b1atX1+uvv17o011k58yZM2rTpo0sLS3VsGHDbFMGNGnSxNgsLjY2VqmpqUpNTdXx48eVkpKi119/XVZWVmrRooVq1aplnGdvb6/ExETFxsbKyclJffv2zdD2li1b9MEHHyg5OdlIGVNUpKamKiAgQH379pWdnZ0qVaqk9u3bG+X29vbG03pWVlbq06ePkVoh3ZYtW9S+fXs1bdr0sQkoV6xYUd26dTM+W8uVK6fWrVvrxIkT2X523rhxQxUqVDBeX7p0Sba2tmrcuLGsrKzUu3dvY96VGb4zs37/s/q+zM6vv/6qJk2aqE6dOrK2tpaPj4/JAgt7e3vFxcUpPj5eFStWVJcuXUzOv3btmk6dOqXx48cbqXQKEiuU80nv3r2NROnS3V/iFy5cqEWLFuW47bS0NL366qvy9fWVpaWlIiIiNHv2bO3duzfHbaf/Ja9YsaJSU1N18eJFffjhh/rzzz9z3Ha69u3b5yjomJV27dqpY8eOsra2VnBwsIYOHfrQjxBldQ9XrFih8uXLS5KxoVGXLl0yfXTtQdoOCwvTBx98oLJlyyoxMVEhISEaNmzYA+WFvV/bly5d0oABA1S6dGnFxcXp0KFD+vjjj81uN6u2Fy1aJFtbW7Vs2dJkQ5wHdb/2V6xYoYkTJ+rJJ59UfHy8Nm3apG+++cbsdl1dXY1NMTZu3Ggc/+yzz7Rt27Yc38+s2k9OTs7RPc2q7bS0tBzd0+zel5zc06za/u2333J0P6XsPwdzck+zavull17K0f3Mqu3WrVvn6H5m957k5H5m1baDg0OO7mdiYqLJ5Cg+Pl537tzRrVu3JEm7du0yylasWCFJD5Q6Iav2y5Ytq/fee0+lS5dWfHy8jhw5YjyqmdO2q1evrgkTJsjR0VG3b9/Wrl27tGDBglxpW7r7GHODBg0eKn1PVm3/61//0owZM+Ti4qKbN29q5cqVGXYKz052c4mc3lM8ftJX9v3TzJkzNXz4cK1atUp37tzRhg0bTL5TsjJ+/HiNGzdOW7du1YkTJ7RlyxZjw7ctW7bI09NTGzZsUHR0tL799ltjE5x0u3btkq+vr3bt2lXgv8DlhUOHDmnHjh1asmSJbt++rSVLlqh58+ZG+aRJkzRo0CAtW7ZM9vb2unLlivF04dNPP633339fJUqU0I0bNzRr1ixduXJFkjR27FgNGzZMY8eOlZ+fn7GaV5IWLVqkjz/+WP7+/rp8+bL8/Pwy7Fa/efNmderUSZMnT86Hd+HBBAUF6d///reRS1e6G1B+7bXXjCBzVu/bhg0b9NRTT2nJkiWKi4vT0qVLjdyY2bl69ap8fX01ZMgQTZo0SSkpKQoJCdGMGTNkaWmpbt266eOPP1ZaWprOnDmj6dOnZ3vN+Ph4zZo1S5MnT5aNjY327t2rPXv2mFw3MTFRAQEBat269SMZJLrXrFmzNG7cOHXt2lW7d+82+S7KzL/+9S998MEHKlWqlGJiYrRmzRrjiaDRo0dr9OjR8vHxUWBgoMl7k/57y5YtW3T9+nUtW7ZMLVq0MGnbz89PPj4++u6773J9nI+CL774QmPHjtWmTZt08eJFbdq0SfXr15f0f6vtV65cqYSEBC1fvjxDKp1jx44pLS1NoaGhZv++VtjFx8erdu3a6tatmxwcHBQbG6t9+/Zp7ty5cnFxyfKz88cff9Tw4cM1ePBgff/991q6dKlmzJih0aNHy9LSUj///HO2TxcU9e/MrN7/+Pj4LL8vsxIWFqYvvvhCEydOVPHixbVs2TKTezF37lyNGjVKPXr0UGhoqHbs2KEGDRqYtLF582ZNmDBBs2bNytUxPwyLhg0bmr/EBAAAAACKoP/973+aPn26Dh06VNBdKTJcXFy0fPlydejQIU8Wn+DB9enTR//61780ceLEgu7KY8POzk6bNm1S7969dfny5YLuziNp7ty52rZtm3755ZeC7gr+P74z84aHh4fGjx+fYfVyQSDlBQAAAABkIX0TzdxIKQfzWFhYqFu3btq+fTvB5ELCyclJr7zyygM/qYKsdenSRadOnSKY/JCefvpp1ahRQzt27CjoruD/4zszb6Snjyos/3BCygsAAAAAuI+vvvpKlSpV0qRJkx4ofzgeXrFixbRp0yZFRERo2LBhBd0dSPLy8tL7778vPz8/k7zRyJn0DcseJMUW/s+4cePUvHlzzZo1i394KiT4zswbFStW1HfffaezZ88WmjRQpLwAAAAAAAAAAJiFlBcAAAAAAAAAALMQUAYAAAAAAAAAmIWAMgAAAAAAAADALASUAaCQa926tQIDA+Xh4WFyvHTp0goMDNSmTZsynNO1a1cFBgaqcuXKudqXr776Sl9//XWutgkAAIDHQ/v27RUYGGj82blzp9asWaNp06apZcuWBd29HHvrrbe0du1a7dmzRz/88EOmdWbNmqVVq1ZlON6zZ08FBgZq8ODBGcoWLVqkxYsX53p/XV1dFRgYqI4dO+Z62wCKNuuC7gAAIGvpO2l7eHiY7Kpdr149JSQkyNnZWRUrVtTFixeNMg8PD926dUvnz5/P9/4CAACgaBszZoyuXr0qW1tbubi4qHHjxpo4caI6deqkkSNHKjExsaC7+MBq1aqlAQMG6KefftLu3bsVHx+fab2jR4+qYcOGKlu2rK5du2Yc9/DwUEJCQoZFIsWLF1f16tX1v//9L0/7DwC5iRXKAFDIXbt2TZcvX84w+fTw8NDvv/+eaVndunUVHBycn90EAAAAJElnzpzRyZMnFRQUJD8/P3388ccaO3asGjRokOkK3UdBpUqVJElr167V8ePHde7cuUzrBQUFSbq7+COdhYWF6tSpow0bNqhGjRqys7MzyurUqSNra2uThSMAUNgRUAaAR8DRo0f1zDPPyMrKyjiWvmI5ODjYJKDs5uamsmXLGpPSqlWravr06dq6dasCAgK0YMEC1a1bN8M16tWrp7lz52r79u3auXOnZs2aZVbKjLffflu7d+9W27Ztc2GkAAAAeBwFBARoz5498vLyMgmo9uvXT99//722b9+uLVu2aO7cuapdu7ZR7uzsrN27d+v111/P0Gbfvn3166+/ytHRUZLk6empb775Rv7+/tqxY4eWL1+uPn36ZNu3WrVqac6cOdqxY4d27typuXPnqlatWkb5V199pXHjxkmSVq9ercDAQPXt2zfTtkJCQpSYmGgyP69WrZocHR21bNkypaamqk6dOkaZh4eHUlNTTQLKnTp10o8//qiAgABt2bJFY8aMkZOTk8l1rKys5O3treXLl2vXrl3asGGD3n33Xdna2mY51pIlS2rhwoVatmyZXFxcsn1vACAzBJQB4BEQFBSkEiVKqEaNGpIkBwcHVa5cWcHBwQoODjYJEKevhggKClL16tX1zTffyMnJSdOmTdPo0aN1+/ZtzZkzx2hLkho3bqw5c+YoPj5eEydO1Pjx41WiRAn997//Vbly5TLtk4WFhUaOHKmePXtq5MiR2rp1ax6+AwAAAHjU/fbbb7Kzs9PTTz9tHCtbtqyWL18uX19fTZ48WTdv3tR///tfValSRZJ048YN7d69W506dTJpy9LSUh07dtSOHTsUExOjChUqaPr06bpy5YrGjRsnX19fLV++XMWKFcuyT1WqVNH8+fPl6OioyZMna9KkSbK3t9f8+fNVtWpVSdKMGTOMnMmjRo1Sv379tGHDhkzbS05O1smTJ00Cyh4eHrp48aIiIyN16tSpDGVhYWGKjo6WJA0cOFAjRozQoUOH5Ovrq3nz5qlhw4aaOXOmLC3/L4Qzfvx49e7dW9u2bdOIESP0448/qmPHjpowYcJ9x+rq6qoFCxYoLS1N/fv3V2RkZJbvDQDcDzmUAeARkP7onIeHh0JCQuTh4aGkpCT98ccfun37tsqXLy9XV1dFRETIw8NDsbGxOnPmjL788ktFRkZqyJAhSk5OliQdOHBAP//8s95++22NGjVKkjRs2DAdPXpUH374oXHN33//XatXr1b37t01e/Zsk/7Y2tpqwoQJ8vDw0JAhQ3Tq1Kl8eicAAADwqEoPYJYpU8Y49umnnxo/W1paav/+/apevbo6duxozEFXr16t+fPnm6R1a9y4sVxcXLR27VpJUo0aNWRra6vp06cb+Y1///33bPvUp08f3blzR++++65iY2MlSQcPHtTatWvVt29fjR49WhcuXNBff/0lSTp9+rQiIiKybDMoKEh9+/ZVyZIldfv2bXl4eBj9vvfpQltbWz399NPauHGjpLsB3x49emjx4sUmm/T9+eefWrBggZo2bardu3erbt26at26tSZNmqQtW7ZIkg4dOqTo6GhNnDhR1apV05kzZ0z6VLVqVc2cOVNnzpzRmDFjHsk81gAKD1YoA8AjIDw8XJGRkcbk08PDQydPnlRycrL+/PNP3bhxw1iZ7OHhoWPHjsnGxkYeHh7auXOn0tLSZGVlJSsrK1lYWOjQoUNGfTc3N7m5uWnr1q1GHSsrKyUmJurEiRMZ8jPb29tr9uzZqlGjhvr3708wGQAAAGaxsLDIcOy5557TvHnz5Ofnp3379mnv3r2qWLGiKlasaNQJCgrS+fPn1blzZ+NY586djVzN0t28zUlJSfrkk0/04osvqnTp0mb1ycPDQ/v27TOCyZIUHx+vPXv2mORBfhD3bqotme5vEhwcrNq1a8va2lq1a9eWnZ2dsXjk+eefl5WVVYZ5+cmTJxUXF2e017BhQ925c0c7d+40qXfw4EGT66arV6+e5s+fr8OHD8vX15dgMoAcY4UyADwijh49qkaNGkm6O0k8cOCAUZa+0uHw4cOqUKGC1q1bJycnJ1lbW6tPnz73zR1nYWEhZ2dnSdJHH32kjz76KEOd8PBwk9cuLi5yd3fX+vXr9eeff+bW8AAAAPCYS0+ldv36dUlS9erV9cUXX+jAgQOaOnWqrl+/rtTUVI0ePTpDLuC1a9dqyJAhmjVrluzt7dWwYUN98cUXRvnly5f1/vvvq1evXho/frxsbGwUEhKi+fPnGwHbzDg5OSkqKirD8aioKCM384M6fvy4kpKSVK9ePV24cEHOzs5GkPnYsWOytrZWrVq1jMBvev/Sg+CrVq3KtN2SJUsa9WxtbRUQEJBlvXSNGjVS8eLFtW7dOqWkpDzUmADgXgSUAeARERQUpLZt2+qZZ55RjRo1tGDBAqMsODhYr776qrGK4ujRo4qJiVFKSopWr15tPAr3T2lpabp9+7Ykaf78+Tp06FCGOklJSSavw8LCtHr1an388cdKTEzU3Llzc2uIAAAAeIw1btxYiYmJ+uOPPyRJL774olJSUjRq1CiTQKejo6PJimFJ2rx5swYMGKAOHTrI0dFRf//9d4Y9PI4cOaIjR47IxsZGderU0TvvvKPPP/9cr776qjHn/afo6GhjgcW9ypQpo5iYmIcaZ/oYPTw8dOHCBV27dk1XrlyRJMXFxencuXOqV6+ePDw8dOnSJd24ccPoiyS99957mV47fQy3b99WYmKiBgwYkOn10wP26b755ht5enpq5syZGj58uI4dO/ZQ4wKAdASUAeARkb6qoVevXpKkEydOGGXBwcF6//331bJlSyUkJCgkJEQpKSkKDg5WtWrVNHv2bKWlpWXa7sWLF3XlyhW5u7tryZIlZvXF399fqampmjBhgiwtLfXll1/mcHQAAAB4nL3wwgtq1qyZVq5caaRcKFasWIYVsw0aNFD58uUzPCUXHx+vbdu2qXPnzipevLj8/f2NXMn/lJSUpN9//13FixfXjBkzVKFChfsGlI8eParGjRvL3t7eaM/e3l5NmzbVkSNHHnq8QUFB6tGjh5o0aWLM49MdO3ZMDRo0UO3ateXv728cP3jwoFJSUuTq6prpQo90+/fvl7e3txwcHHT48OFs+5KcnKyPPvpIkyZQg4z8AAAgAElEQVRN0syZM/XBBx8YKTgA4GFYubm5TSjoTgAAsnf79m29+uqrql69uk6fPq3Vq1cbZTdu3NCbb76pKlWq6NixY9q0aZMk6ezZs3rrrbdUv359JScnq2TJkqpZs6batm2r559/3piA/vnnnxowYIAqV66stLQ0lS5dWrVr11anTp1UqVIlI3jdoUMHWVpaauPGjQoLC1NYWJgGDx6sUqVKaf/+/fn/pgAAAKDQqFatmlq0aKGjR4+qRIkSevLJJ1W3bl299dZb6tu3rw4dOqRPP/3UJIjs5eWlChUqKC4uTp6ennr//fcVFxen6Ohobd682aT9iIgIvf322ypRooQ+/fRTk1QVXbp0Ubdu3WRnZycnJyfVrFlTvXv3lnR3he79Uj1cvHhRXbt2VcOGDRUdHa2KFStq1KhRKleunCZOnGisHq5Ro4aaNWumFStWZFg9nRkbGxu1a9dObm5uWrduncm+I/b29urRo4dsbW21YsUKnT17VpIUExMjW1tb+fj4qESJErKxsZGLi4s8PDzUo0cPRUdHKzw8XBEREXrqqaf01ltvycbGRnZ2dqpQoYKeffZZvf322zp9+rSio6Pl4OCgN998U3v27NEff/yhXbt2qWrVqurXr5+OHTuW7eaCAHA/rFAGgEfI0aNH9dJLL2VYUZCamqoTJ07I09PTJEdcaGio+vTpo759+2rYsGFycHDQrVu3dPr0aWNHbEkKDAzUwIED1bt3b40ePVp2dna6ceOGTpw4oe3bt9+3PwEBARo7dqw++eQTWVlZ6fPPP8/9QQMAAOCRMnXqVEl3Uz/cuHFDoaGh+vjjj7Vz506TegcOHNAXX3yhbt266cUXX9S5c+f0ySefGIHgfzp37pwuXryouLg4hYaGmpSdOXNGDRs21MCBA1W6dGlFR0fr2LFjmjBhQpab0J07d06DBg3SgAEDNG7cOFlYWOjkyZMaNGiQEeh9GMHBwUpOTpa1tXWGFcrBwcGytLSUpAxlX3/9tS5cuKCuXbuqa9euSktL09WrV3X48GGT/UsmTJig1157Ta+88oreeustJSUlKTw8XAcOHDCC4P+UkpKi8ePHa/z48Zo5c6ZGjBiRo1XYAIoui4YNG2b+DDQAAAAAAEAh8dRTT2nZsmWaNm2afvnll4LuDgAUWaxQBgAAAAAAhVbZsmXl5uamd955R1FRUdq2bVtBdwkAijTLgu4AAAAAAADA/Xh5eWnevHlydnbW+PHjs0xhAQDIe6S8AAAAAAAAAACYhRXKAAAAAAAAAACzEFAGAAAAAAAAAJiFgDIAAAAAAAAAwCwElAEAAAAAAAAAZiGgDAAAAAAAAAAwCwFlAICJ9u3bKzAwUO3btzf7nLFjxyowMFCurq4Zyl577TUtXbpUAQEBCgwM1BtvvJGb3QUAAAAKtdyeXwNAQbMu6A4AwOMuMDAww7E7d+4oKipKQUFB+vHHH3Xx4sU8u76lpaVeeeUVvfzyy6pSpYrs7e0VHR2tGzduKCQkRHv27NHevXvz5NqtWrXS8OHDdfr0aa1YsUJ37tzRiRMn1L59e40bN06ffPKJNm/enCfXBgAAQP4o6Plu+vVTU1P1+uuv66+//sq03rx589SgQQNJYh4KADlAQBkA8snChQuNnx0cHFSrVi21b99eL7zwggYMGKAzZ87k+jUtLS31+eefq1GjRoqOjtZvv/2mq1evysbGRu7u7mrTpo0qVqyY44Dyf//7Xy1ZskTXrl0zOd6kSRNJ0ogRI3T9+nXjeMWKFXN0PQAAABQ+BTHfTZecnCxra2t17NhRX3/9dYZyNzc3NWjQwKhX2N1vfg0AhUHh/xQFgMfEokWLMhwbPny4XnvtNb3xxhuaPHlyrl+zdevWatSokUJDQzVo0CDFxcWZlNvZ2al27do5vk5UVJSioqIyHH/iiSckySSYDAAAgMdTQcx30924cUPXr19Xhw4d9O233yolJcWk3MvLS5K0d+9evfDCC3nWj9xyv/k1ABQG5FAGgAJ08OBBSVKpUqWMY507d1ZgYKD69OmT6TnOzs7as2ePfvrpp2zb//e//y1J2rx5c4ZgsiQlJibqyJEj9z2/fv36+uqrr7R9+3Zt375dn3/+eaari/+Z461v374KDAzUs88+K+nuY4jpf7766iuNGzdOkjRu3DiTMnLEAQAAPF7yer57rw0bNuiJJ54wnpJLZ2VlpQ4dOujYsWMKCwvL9NwaNWro/fff148//qitW7cqICBAK1eu1LvvvitHR8f7XrNly5aaO3eucc6aNWs0ceJE1axZM9P6Dzu/liRXV1cFBgZq7NixcnV11aRJk7RlyxYFBARo8eLFGcZ9r9atW2vevHnatm2bAgICtGzZMvXu3Vs2Njb3PQcA7oeAMgAUoPSA6x9//GEc27p1q2JjY9WxY0dZWmb8mO7YsaOsra21bt26bNuPjo6WJP3rX/964L41adJEX375peLi4rRu3TodPXpUTZo00fz581WyZMkszz1y5IgWLlyo8PBwSXcff0z/s2nTJu3atUuStGvXLpOy2NjYB+4nAAAACq+8nu/ey9/fX/Hx8cZq5HTNmjWTs7Oz1q9ff99zO3XqpNatW+vSpUvauHGj1q5dq+vXr6t79+5asGCB7O3tM5wzduxYTZ48WVWqVFFAQIBWrFiho0ePysPDI9Pgbk7m1/dydXXVokWLVL58efn5+WnHjh2qXLmyPvvsM9WvXz9D/Y8++kiTJk2Sm5ubAgICtHr1akVHR6t///6aNWuWrKyszL42AEikvACAfNO3b1/j5xIlSujpp59WnTp1tHfvXi1dutQoS0hIkJ+fn/7zn/+oUaNG2rdvn0k7HTt2VEJCgrZs2ZLtNQMCAtSzZ0916dJF9vb22rVrl06fPq2IiIhsz23evLmGDRumw4cPG8cGDhwob29vvfLKK/r555/ve25QUJCCgoJUv359lS9fPtPHH1u0aKHdu3ezGQoAAMBjoiDmu/eKj4/X9u3b1b59e5UtW9bIP9ypUyfFxsZqx44deuuttzI998cff9Tnn3+u1NTUDH0ZM2aMXn31VZMV0506dVKHDh0UEhKi9957z+RpQEtLS5UuXTrDNXIyv75XgwYN9O2332rx4sXGsW3btmn27Nnq0aOHyROI7du31yuvvKKAgABNmDBBiYmJRlnfvn3Vr18/de3aVStXrjTr2gAgsUIZAPJNv379jD/dunWTh4eHLly4YKykuNeaNWsk3X0c8F6enp568skntWPHjkxTWPxTaGioJk6cqBs3bqhdu3aaNm2a1q5dKz8/P02bNk1Nmza977nbt283mexKMlaJ1KpVy6wxAwAAoOgoiPnuP61fv97YnE+6u5r3ueee09atW02Cqf8UERGRIZgsSb/88otiY2Pl6elpcvy1116TJH322WcZ+pmamppp/uPcml+Hh4fr+++/Nzl24MABhYeHZ2jnjTfeUHJysqZMmZJh/N99951u3bqltm3bmn1tAJBYoQwA+aZRo0bGz8WKFVPlypU1cOBATZw4Ue7u7lqwYIFRHhYWpqCgIDVs2FDlypXT1atXJd1dCSFJa9euNfu6O3bsUEBAgBo0aKC6deuqevXqqlOnjlq0aKEWLVpo8+bN+uSTTzKcd+9jienS++Hk5GT29QEAAFA0FNR8914hISE6e/asXnnlFX333Xfy8vKSlZWVNmzYkOV5VlZW6tKli1q1aiV3d3eVKFHCJBVE2bJlTcZWpUoVRUVFKTQ01Oy+5db8OjQ0NNPg99WrV/XMM88Yr+3s7FS1alXdunVLb7zxRqZtJSUlZZrDGQCyQkAZAArA33//rZCQEI0ePVrr169Xz549tXbtWmNCKUmrV69WvXr15OXlpYULF8rZ2VnNmjVTaGioQkJCHuh6KSkpOnjwoLEpiqWlpV588UWNGTNG7du3165du7R7926Tc2JiYjJtJ/18AAAA4H7ye757r/Xr1+uDDz5Qo0aN1KFDB506dSrbwO/kyZP1wgsv6PLly9q9e7du3LihO3fuSLq7ytfW1taom75JX3pKDXPl1vz6fvuOpKSkmATBnZycZGlpKWdnZ/Xr1++B+goAWSGgDAAFKDY2VpcuXVLNmjVVo0YNkwl2QECAoqKi1LFjRy1evPihNyfJTGpqqnbs2KEqVaro7bffVoMGDTIElAEAAICcKoj5rp+fnwYPHixfX1+VK1fOJNdwZmrWrKkXXnhBBw8e1PDhw40gryRZWFioZ8+eJvXTA8P3rloujNIDz6dPn1bv3r0LtjMAHissMQOAApa+wuGfqxJSUlK0YcMGlStXTk2bNlXHjh0VFxenrVu35tq10/O9WVhY5Fqb5kh/RI8dpQEAAB5/+T3fjY2N1a+//ioXFxfFx8fL398/y/pubm6SpD179pgEk6W7uY2LFStmcuzvv//WuXPnVKZMGVWvXj1Hfc1LCQkJOnfunNzd3UlZByBXEVAGgALUvHlzPfnkk0pKStKxY8cylK9fv17Jycn64IMP9OSTT2a6oUlWWrdureeeey7TgLGzs7ORo+7o0aMPP4iHcPv2bUmSi4tLvl4XAAAA+Suv57v3s2DBAn344YcaNmxYtu2Fh4dLkurXr29yvHTp0hoxYkSm56xcuVKS9OGHH6pEiRImZRYWFipTpszDdj1XLV++XLa2thozZowcHBwylDs6OhbqoDiAwomUFwCQT/r27Wv8XLx4cVWqVMnYuOTrr7/WzZs3M5wTGRmp3377Tc2bN5f04JuT1K5dW2+88YauX7+uY8eO6cqVK5KkChUqqHHjxipWrJh27dqlnTt3PuywHsqJEyeUkJCgN954QyVLljR2wf7f//73ULt5AwAAoOAVxHz3fiIjIxUZGWlW3VOnTik4OFgvvviivvnmGwUHB8vZ2VkNGzbUpUuXMs2VvGHDBnl4eKhdu3ZauXKl9uzZo1u3bumJJ55QgwYNtHHjRi1atChXxpITGzduVM2aNdW1a1d5eHjowIEDioiIkJOTkypUqCAPDw9t2rRJ06dPL+iuAniEEFAGgHxy70YYycnJunXrlvbu3atVq1bp0KFD9z1v48aNat68uUJCQh5oF2lJWrp0qf78808999xzqlKlijw9PWVra6vbt2/ryJEj2rZtm7Zt2/bQY3pYMTExGjNmjPr06aP27dvL3t5e0t18dwSUAQAAHk0FMd/NDampqfL19ZWPj48aN26s1157TdeuXdMvv/yi7777TsuWLcv0vEmTJmn//v3q3LmzWrZsKRsbG0VFRSk4OFh79uzJ51Hc3+eff67AwEB16dJFzz77rBwdHRUdHa3IyEj9/PPPuZpSD0DRYNGwYcO0gu4EAOD++vbtq379+mnq1Kn65ZdfCro7AAAAQK5ivgsAjxZyKANAIWZvb68uXbro9u3bBbKSGAAAAMhLzHcB4NFDygsAKIQaN26sGjVqqGnTpipTpozmzJmjxMTEgu4WAAAAkCuY7wLAo4uAMgAUQi+99JI6dOigqKgo/fDDD1q+fHlBdwkAAADINcx3AeDRRQ5lAAAAAAAAAIBZyKEMAAAAAAAAADBLkU95sWXLFoWHhxd0NwAAAJAPypcvr3bt2hV0Nx5JzJsBAACKjqzmzUU+oBweHq4+ffoUdDcAAACQDxYvXlzQXXhkMW8GAAAoOrKaN5PyAgAAAAAAAABgFgLKAAAAAAAAAACzEFAGAAAAAAAAAJiFgDIAAAAAAAAAwCwElAEAAAAAAAAAZiGgDAAAAAAAAAAwCwFlAAAAAAAAAIBZCjygPGvWLAUGBsrHx8fkuKOjo0aPHq0tW7Zo586dmjNnjqpUqZLhfFtbWw0ZMkS//PKLAgIC9M0338jDwyO/ug8AAAAAAAAARUaBBpRbt26tqlWrZlo2Y8YMNWzYUDNnztSYMWNkbW2tefPmqWzZsib1xowZIy8vL3377bcaMWKEoqKiNHv2bFWrVi0/hgAAAAAAAAAARUaBBZQdHR01dOhQzZkzJ0NZs2bNVLduXU2cOFH+/v7av3+/Ro4cKUtLS/Xs2dOoV7VqVbVt21ZffvmlNmzYoMOHD2vs2LGKiIjQO++8k5/DAQAAAAAAAIDHXoEFlAcNGqTz58/L398/Q1mzZs107do1HTlyxDgWFxenvXv3qlmzZib1kpKStH37duNYSkqKtm/fLk9PT9nY2OTtIAAAAAAAAACgCLEuiIvWqVNH7dq1k7e3d6bl7u7uOnfuXIbj58+fV/v27VW8eHElJCTI3d1dV65cUWJiokm9sLAw2drays3NTWFhYXkyhqx8U618vl8TeFA+Z8ILugsAAADMnfFIYO4MAMD/yfcVytbW1vrwww+1dOlSXbp0KdM6Tk5OiomJyXA8Ojpa0t10GebUc3Jyyq1uAwAAAAAAAECRl+8rlHv27Ck7Ozv98MMP+X1pQ6dOndSpUydJUqlSpQqsHwAAAAAAAADwKMnXgLKLi4t69+6tqVOnysbGxiTHsa2trRwcHBQfH6+YmBhjFfK90lccp69KjomJkaur633rpa9U/qf169dr/fr1kqTFixfnbFAAAAAAAAAAUETka0C5QoUKsrOz08SJEzOU9ejRQz169JC3t7fCwsL0/PPPZ6jj7u6u8PBwJSQkSLqbK7lFixays7MzyaNcqVIl3blzR5cvX867wQAAAAAPoWzZsurVq5dq1qypatWqqVixYurSpYsiIiJM6tna2srHx0dt27aVo6OjQkNDNX/+fB09etSknoWFhXr16qXOnTvL2dlZly5d0uLFixUQEJDh2l5eXurevbvKly+v8PBwrVixQmvXrs3L4QIAAOAxk685lM+cOaNBgwZl+CNJW7Zs0aBBg3T58mXt2bNH5cqVU7169Yxz7e3t1bRpU+3du9c4tnfvXtnY2Khly5bGMSsrK7Vq1UoHDx5UUlJS/g0OAAAAMIObm5tatmypmJiYDMHhe40ZM0ZeXl769ttvNWLECEVFRWn27NmqVq2aST0fHx/17dtXq1at0vDhw3Xy5ElNmTJFjRo1Mqnn5eWlDz/8UL/++quGDRumnTt3asSIEerSpUuejBMAAACPp3xdoRwbG6ugoKBMyyIiIoyyPXv26Pjx4xo/frzmzZunmJgYeXt7y8LCQj/99JNxTmhoqPz9/TV06FBZWVkpPDxcXbp0Ufny5TV+/Ph8GRMAAADwII4ePaoOHTpIkjp27KiGDRtmqFO1alW1bdtWkydP1qZNmyRJQUFB+vnnn/XOO+/I19dXklS6dGl1795dS5Ys0dKlSyVJR44ckZubmwYNGqTAwEBJdxdd9O/fX35+flqwYIFRr2zZsvLx8dGGDRuUkpKS52MHAADAoy9fVyibKy0tTSNGjNChQ4c0cuRITZs2TampqRo8eLCuXr1qUnfKlCnatGmT+vfvr88//1wuLi4aNmyYQkNDC6j3AAAAwP2lpaVlW6dZs2ZKSkrS9u3bjWMpKSnavn27PD09jb1IPD09ZWtrKz8/P5Pz/fz8VLVqVZUvX16S9Mwzz8jZ2TlDvS1btqhUqVKqW7duTocFAACAIiJfVyjfzz8fx5Pubqg3ZcoUTZkyJctzExMTNWfOHM2ZMyevugcAAADkK3d3d125csVknxDp7h4itra2cnNzU1hYmNzd3ZWYmJhh75CwsDCjnfDwcFWuXFmSdP78+fvWO3LkSF4NBwAAAI+RQrlCGQAAACjKnJycFBMTk+F4dHS0UZ7+39jYWLPqScrQ5j/rAQAAANkpFCuUAQAAABQ+nTp1UqdOnSRJpUqVKuDeAAAAoDAgoAwAAAAUMjExMXJ1dc1wPH0lcfrK4piYGDk4OGRbL/2/jo6OioqKum+9f1q/fr3Wr18vSVq8ePFDjQUAAACPF1JeAAAAAIVMWFiYKlSoIDs7O5PjlSpV0p07d4ycyWFhYbKzs5Obm1uGeunl9/43PZfy/eoBAAAA2SGgDAAAABQye/fulY2NjVq2bGkcs7KyUqtWrXTw4EElJSVJkvbv36+kpCS1adPG5PyXX35Z586dU3h4uCTp+PHjunnzZqb1bt++rWPHjuXxiAAAAPC4IOUFAAAAkM9efPFFSVLNmjUlSY0aNdKtW7d069YtBQUFKTQ0VP7+/ho6dKisrKwUHh6uLl26qHz58ho/frzRzs2bN7Vs2TJ5e3srPj5ep0+fVqtWrdSgQQP5+voa9VJSUvTtt99qxIgRunbtmg4dOqRnn31Wr7zyimbOnKnk5OT8fQMAAADwyCKgDAAAAOSzqVOnmrxOD/4eOXJEgwcPliRNmTJF/fv3V//+/eXg4KCzZ89q2LBhCg0NNTl3wYIFSkhI0Ouvv64yZcro0qVLGjt2rPbt22dSb+3atUpLS1O3bt3Uo0cPRUZG6osvvtCaNWvycKQAAAB43BBQBgAAAPJZo0aNsq2TmJioOXPmaM6cOVnWS01N1ffff6/vv/8+2zbXrVundevWmdtNAAAAIANyKAMAAAAAAAAAzEJAGQAAAAAAAABgFgLKAAAAAAAAAACzEFAGAAAAAAAAAJiFgDIAAAAAAAAAwCzWBd0BAMjOmJe+LOguANmaunNoQXcBAAAAAIA8xwplAAAAAAAAAIBZCCgDAAAAAAAAAMxCQBkAAAAAAAAAYBYCygAAAAAAAAAAsxBQBgAAAAAAAACYhYAyAAAAAAAAAMAsBJQBAAAAAAAAAGYhoAwAAAAAAAAAMAsBZQAAAAAAAACAWQgoAwAAAAAAAADMQkAZAAAAAAAAAGAWAsoAAAAAAAAAALMQUAYAAAAAAAAAmIWAMgAAAAAAAADALASUAQAAAAAAAABmIaAMAAAAAAAAADALAWUAAAAAAAAAgFkIKAMAAAAAAAAAzEJAGQAAAAAAAABgFgLKAAAAAAAAAACzEFAGAAAAAAAAAJiFgDIAAAAAAAAAwCwElAEAAAAAAAAAZiGgDAAAAAAAAAAwCwFlAAAAAAAAAIBZCCgDAAAAAAAAAMxCQBkAAAAAAAAAYBYCygAAAAAAAAAAs1gXdAcAAAAAZK5OnTrq06ePqlWrJjs7O12+fFmrVq3Sxo0bjTq2trby8fFR27Zt5ejoqNDQUM2fP19Hjx41acvCwkK9evVS586d5ezsrEuXLmnx4sUKCAjI51EBAADgUcYKZQAAAKAQqlKliubMmSNra2tNmzZNo0eP1qlTp/TRRx+pS5cuRr0xY8bIy8tL3377rUaMGKGoqCjNnj1b1apVM2nPx8dHffv21apVqzR8+HCdPHlSU6ZMUaNGjfJ7aAAAAHiEsUIZAAAAKIRat24tS0tLjRw5UgkJCZKkQ4cOqUqVKmrXrp3Wrl2rqlWrqm3btpo8ebI2bdokSQoKCtLPP/+sd955R76+vpKk0qVLq3v37lqyZImWLl0qSTpy5Ijc3Nw0aNAgBQYGFswgAQAA8MhhhTIAAABQCNnY2Cg5OVmJiYkmx+Pi4mRpeXca36xZMyUlJWn79u1GeUpKirZv3y5PT0/Z2NhIkjw9PWVrays/Pz+Ttvz8/FS1alWVL18+j0cDAACAxwUBZQAAAKAQSl9xPHz4cD3xxBNycHCQl5eXnn32WS1fvlyS5O7uritXrmQIOoeFhcnW1lZubm5GvcTERF2+fDlDvfRyAAAAwBz5nvLC09NTPXv2lLu7uxwdHXXr1i0dP35cCxcu1IULF4x65cqV09ChQ/X888/LwsJChw4d0uzZsxUZGWnSnqOjo4YMGaLmzZvLzs5OJ06c0Jdffqlz587l88gAAACA3HP+/HkNHjxY06ZNU9euXSVJSUlJmj59urEi2cnJSTExMRnOjY6ONsrT/xsbG5ttPQAAACA7+R5QdnJy0unTp7VmzRrdunVLLi4u6tWrlxYuXKiePXsqIiJCdnZ2mjdvnu7cuaNPPvlEaWlp6t+/v+bNm6devXrp77//NtqbMWOGypcvr5kzZyomJkbe3t6aN2+evL29de3atfweHgAAAJAr3NzcNHXqVJ0/f17Tp09XYmKimjVrJl9fXyUmJmrbtm153odOnTqpU6dOkqRSpUrl+fUAAABQ+OV7QNnf31/+/v4mx0JCQrRixQq9+OKLWrZsmTp16qQKFSrozTffNB7LO3v2rFauXKnOnTsbj/g1a9ZMdevW1eDBg3XkyBFJ0vHjx7VmzRr17NlTs2bNyt/BAQAAALlk4MCBSk5O1ogRI5SSkiJJOnz4sEqWLKlhw4bJ399fMTExcnV1zXBu+orj9BXIMTExcnBwyLbeP61fv17r16+XJC1evDjngwIAAMAjr1DkUL59+7YkGRPlZs2a6eTJkyY53sLDw3X8+HE1b97cONasWTNdu3bNCCZLdzcp2bt3r5o1a5ZPvQcAAAByX5UqVXT27FljjpwuJCREpUqVUunSpRUWFqYKFSrIzs7OpE6lSpV0584dYz4dFhYmOzs7I6fyvfXSywEAAABzFFhA2dLSUtbW1nJzc9OHH36o69evGyuX3d3ddf78+QznnD9/3pj0ptfLLFfy+fPnVb58eRUvXjzP+g8AAADkpaioKFWrVk3W1qYPFdauXVuJiYmKjo7W3r17ZWNjo5YtWxrlVlZWatWqlQ4ePKikpCRJ0v79+5WUlKQ2bdqYtPXyyy/r3LlzCg8Pz/sBAQAA4LGQ7ykv0i1cuFBPP/20JOnPP//UkCFDdPPmTUl3H73L7LG76OhoOTo6Gq+dnJwynfymn+vo6KiEhIS86D4AAACQp1atWqWpU6dqxowZWrNmjZFDuU2bNlq2bJmSk5MVGhoqf39/DR06VFZWVgoPD1eXLl1Uvnx5jR8/3mjr5s2bWrZsmby9vRUfH6/Tp0+rVatWatCggXx9fQtwlAAAAHjUFFhAeeLEiSpRooSefPJJde/eXXPmzFH//v0VERGR59dmcxEAAAAUdr/++quGDRumXr16afTo0bK1tQXPkmMAACAASURBVNVff/2lGTNmaN26dUa9KVOmqH///urfv78cHBx09uxZDRs2TKGhoSbtLViwQAkJCXr99ddVpkwZXbp0SWPHjtW+ffvye2gAAAB4hBVYQPnixYuS7uaACwwM1Jo1a+Tt7a3p06crJibG2CDkXk5OToqJiTFex8TEmKxYvrdeenlm2FwEAAAAj4L9+/dr//79WdZJTEzUnDlzNGfOnCzrpaam6vvvv9f333+fiz0EAABAUVMoNuWLjY3V5cuXjU1Czp8/L3d39wz13N3ddeHCBeN1WFiYKleunGm98PBw0l0AAAAAAAAAQC4qFAHl0qVLq2LFivrrr78kSXv37lXt2rVVoUIFo46rq6vq1KmjPXv2GMf27NmjcuXKqV69esYxe3t7NW3aVHv37s2/AQAAAAAAAABAEZDvKS+mTZum06dP6+zZs4qLi9NTTz2lN998UykpKVq6dKmkuykp/vOf/2j69OlasGCB0tLS5OPjo8jISJN8cXv27NHx48c1fvx4zZs3TzExMfL29paFhYV++umn/B4aAAAAAAAAADzW8j2gfOLECbVs2VLdunWTjY2NIiMjFRQUpB9++MHYkO/vv//WkCFDNHToUGN36sOHD2v27NkmaSzS0tI0YsQIvfvuuxo5cqRsbW114sQJDR48WFevXs3voQEAAAAAAADAYy3fA8o//fSTWauHIyMjNWbMmGzrRUdHa8qUKZoyZUpudA8AAAAAAAAAcB+FIocyAAAAAAAAAKDwI6AMAAAAAAAAADALAWUAAAAAAAAAgFkIKAMAAAAAAAAAzGL2pnwlS5ZUsWLFFBkZaRzr3LmzKleurAMHDmjfvn150kEAAACgsGBODAAAgKLO7BXKH330kXr16mW8fvvttzVy5Ei1adNGn332mVq2bJknHQQAAAAKC+bEAAAAKOrMDijXrFlThw8fNl536dJFP/zwg15++WWtXr1a3bp1y5MOAgAAAIUFc2IAAAAUdWYHlJ2cnHTjxg1JUuXKleXs7KzNmzdLknbv3q2nnnoqb3oIAAAAFBLMiQEAAFDUmR1Qjo6OVrly5SRJDRo00PXr13X58mVJkrW1tSwt2d8PAAAAjzfmxAAAACjqzN6U79ChQ+rXr59KlSqlbt26affu3UZZxYoVFRERkScdBAAAuWvFILO//oEC88b85ILuQqaYEwMAAKCoM3sJxbx58xQZGakBAwbor7/+0qJFi4yytm3bKjg4OE86CAAAABQWzIkBAABQ1Jm9ROnmzZsaOnRopmXvvvuuEhMTc61TAAAAQGHEnBgAAABFndkrlOfOnauKFStmWlamTBnNnj071zoFAAAAFEbMiQEAAFDUmR1Qrl+/vkqUKJFpmb29verVq5drnQIAAAAKI+bEAAAAKOoeaBvqtLS0TI+7ubkpISEhVzoEAAAAFGbMiQEAAFCUZZlDuUOHDurQoYOkuxPnUaNGKS4uzqSOnZ2dqlSposOHD+ddLwEAAIACwpwYAAAA+D9ZBpTT0tKUmpoqSbKwsFBqaqrxOl10dLTWrFmjJUuW5F0vAQAAgALCnBgAAAD4P1kGlDdv3qzNmzdLkubNm6cZM2bo4sWL+dIxAAAAoDBgTgwAAAD8nywDyvcaMmRIXvYDAAAAKPSYEwMAAKCoMzugLN3dubpx48ZycXGRnZ2dSVlaWpq+++67XO0cAAAAUNgwJwYAAEBRZnZAuU6dOpoxY4YcHBwyLWfyDAAAgMcdc2IAAAAUdWYHlIcOHarw8HB9+umnOnfunJKTk/OyXwAAAEChw5wYAAAARZ2luRUrVaqkBQsW6PTp00ycAQAAUCQxJwYAAEBRZ3ZAOTIyUra2tnnZFwAAAKBQY04MAACAos7sgPKiRYvUq1cv2dvb52V/AAAAgEKLOTEAAACKOrNzKDdp0kTOzs5as2aNTpw4oejoaJPytLQ0ffLJJ7neQQAAAKCwYE4MAACAos7sgHLdunWVlpamuLg4ubu7ZyhPS0vL1Y4BAAAAhQ1zYgAAABR1ZgeUu3btmpf9AAAAAAo95sQAAAAo6szOoQwAAAAAAAAAKNqyXKHs4uKi69evKyUlRS4uLtk2FhkZmWsdAwAAAAqDgp4TN2rUSL169VKNGjWUlpamS5cu6auvvtLvv/8uSXJ0dNSQIUPUvHlz2dnZ6cSJE/ryyy917tw5k3ZsbW3l4+Ojtm3bytHRUaGhoZo/f76OHj2aq/0FAADA4y3LgPLq1avl4+OjkJAQrVmzJtuccE2bNs3VzgEAAAAFrSDnxJ07d9YHH3ygVatW6bvvvpOlpaWqVaumYsWKGXVmzJih8uXLa+bMmYqJiZG3t7fmzZsnb29vXbt2zag3ZswYNW7cWPPmzdOVK1fUtWtXzZ49W++8847OnDmTa30GAADA4y3LgPLUqVN1+fJlSdKUKVPypUMAAABAYVJQc+L/1969R0VVr38c/+AIowijmSiYpiSevHT0Z1Zqiv4KFcUUscuvzDDJS3k53sA6nE4cL9hFSyU1827aTUujUlPQVDAMTSnUUySgZYKipoyCgMLvD5dzmoPhZAMzwPu1liv4fp+997NZbXt6+M53e3t7a8KECZo/f74+/PBDy/jXX39t+drf31/t27fXmDFjtH//fklSamqq1q9fryFDhmjOnDmSJD8/PwUGBmrGjBnauHGjJOnAgQN69913NWLECE2ZMqXC7gsAAACVW5kN5U2bNl33awAAAKC6cFRN3L9/fxUXF2vDhg2/G+Pv76+cnBxLM1mSLl68qMTERPn7+1sayv7+/ioqKlJ8fLwl7sqVK4qPj9dTTz0lV1dXFRUVld/NAAAAoMrgpXwAAACAE2rXrp2OHTumnj17at26dUpISNC6dev08MMPW2J8fX1L7ZUsSRkZGfLx8VHt2rUtcSdOnFBBQYFVXGZmptzc3NSkSZPyvRkAAABUGWWuUP5vt9xyi3r16qXbb79dRqPRaq6kpEQzZ860a3IAAACAs6momtjLy0sNGjTQ2LFjtWjRIv3yyy968MEHFR4eLoPBoLVr18pkMikrK6vUsbm5uZKuvrAvPz9fJpNJZrP5d+NMJpNdcgYAAEDVZ3ND+fbbb9eSJUtkMBhUq1YtnT9/XiaTSTVq1JDZbNaFCxfKM08AAADA4SqyJnZxcVGdOnU0ffp07dy5U5L0zTffyMfHR6GhoVq7dq3drvV7goODFRwcLEmqV69euV8PAAAAzs/mLS/Gjh2rw4cPq1+/fnJxcdHEiRP1v//7v3r55Zd16dIlvfDCC+WZJwAAAOBwFVkTnz9/XpK0d+9eq/Hk5GTdeuutatCggcxmszw9PUsde23F8bVVyTeKu7ZS+b/FxsYqLCxMYWFhOnfu3M3fDAAAAKoMmxvKrVu31vr161VYWHj1wBo1dOXKFX3++ef66KOPNGHChHJLEgAAAHAGFVkTZ2ZmljlfXFyszMxM3XHHHaXmfH19lZWVpfz8fMu5GjduXGqLjubNm6uwsFDHjx+3W94AAACo2mxuKNeuXVu5ubkqKSnRhQsXrD7y9u9//1utW7culwQBAAAAZ1GRNfG1bS46depkNd6pUyedPHlSZ8+eVUJCgho2bKgOHTpY5t3d3dWtWzclJiZaxhITE+Xq6qqAgADLmMFgUM+ePZWcnKyioiK75Q0AAICqzeY9lLOzs3XrrbdKkn766Sc9+OCD2rNnjySpa9eu7KEMAACAKq8ia+KvvvpK+/bt0/PPP6969epZXsrXuXNnTZ8+XZKUkJCg1NRURUVFaf78+TKbzQoNDZWLi4vWrFljOVdaWpri4uI0fvx4GQwGZWVlKSQkRD4+PoqKirJbzgAAAKj6bG4oJycn695779X27dv1wQcfaNq0aWrXrp2uXLmiZs2aadWqVeWZJwAAAOBwFV0TP//88xo9erSGDx8uT09PHTt2TFFRUdq6daskqaSkROHh4Ro3bpwiIiLk5uamgwcPasyYMTp16pTVuaKjozVq1CiNGjVKHh4eOnLkiCZOnKi0tDS75gwAAICqzeaG8ltvvSVXV1dJ0rZt21RQUKCAgADVqlVLa9euVWxsbLklCQAAADiDiq6J8/LyNHv2bM2ePft3Y3JzcxUdHa3o6Ogyz1VQUKCYmBjFxMTYNUcAAABULzY3lIuKiqz2VktMTLTalw0AAACo6qiJAQAAUN3Z/FI+AAAAAAAAAED1VuYK5TfffPMPnWzcuHF/KhkAAADA2VATAwAAAP9RZkO5Ro0aKikpqahcAAAAAKdDTQwAAAD8R5kN5TFjxlRUHgAAAIBToiYGAAAA/oM9lAEAAAAAAAAANilzhfJ/8/Dw0OOPP6677rpLXl5eysnJUWpqqj788ENduHDhhsc/8MAD6tWrl1q1aqX69esrOztbO3fu1KpVq5SXl2eJ8/T01NixY9W9e3cZjUYdPHhQ8+bNU3p6utX53NzcNHLkSAUGBsrT01NpaWlauHChUlJS/shtAQAAADb7szUxAAAAUJnZvELZz89Pa9euVWhoqNzc3HT06FG5ublp6NCh+vDDD9WiRYsbnmPw4MEqLi7WokWLNHHiRG3YsEEhISGaN2+eXFxcLHGzZs1S586d9cYbbygyMlI1a9bU/Pnz5eXlZXW+yMhIDRgwQEuWLFF4eLjOnDmjuXPnqmXLln/gRwAAAADYxh41MQAAAFCZ2bxCedKkScrNzVVYWJiys7Mt497e3po7d64mTZp0w/3lIiIidO7cOcv3Bw4cUG5url566SXdfffd+uabb+Tv76/27dtrzJgx2r9/vyQpNTVV69ev15AhQzRnzhxJV4v5wMBAzZgxQxs3brSc791339WIESM0ZcoU238KAAAAgA3sURMDAAAAlZnNK5Rbt26txYsXWxXOkpSdna0lS5aoTZs2NzzHb5vJ1xw+fFiSLKuP/f39lZOTY2kmS9LFixeVmJgof39/y5i/v7+KiooUHx9vGbty5Yri4+PVqVMnubq62nprAAAAgE3sURMDAAAAlZnNDeXz58+rsLDwunOFhYU6f/78TSVw9913S5KOHj0qSfL19S21V7IkZWRkyMfHR7Vr17bEnThxQgUFBVZxmZmZcnNzU5MmTW4qHwAAAOD3lFdNDAAAAFQWNjeUN2zYoCeffFJubm5W40ajUYMHD9bHH3/8hy/u5eWl4cOHKzk5Wd9//70kyWQyyWw2l4rNzc2VdPWFfbbEmUymP5wPAAAAUJbyqIkBAACAysTmPZSNRqO8vb21YcMGJSUl6ezZs6pfv766dOmigoIC1a5dWyNGjJAklZSUaOnSpWWer3bt2nr11Vd15coVzZgx48/dxR8UHBys4OBgSVK9evUq9NoAAACovOxdEwMAAACVjc0N5aFDh1q+7tu3b5nzNyqejUajZs2apdtuu02jR49WTk6OZc5sNltWIf/WtRXH11Ylm81meXt7/27ctZXK1xMbG6vY2FhJ0vLly383DgAAAPgte9bEAAAAQGVkc0O5a9eudrmgwWBQdHS0WrVqpfHjx5faLzkzM1P33XdfqeN8fX2VlZWl/Px8S1yPHj1kNBqt9lFu3ry5CgsLdfz4cbvkCwAAAFxjr5oYAAAAqKxs3kPZHlxcXDR16lTdc889euGFF3To0KFSMQkJCWrYsKE6dOhgGXN3d1e3bt2UmJhoGUtMTJSrq6sCAgIsYwaDQT179lRycrKKiorK92YAAAAAAAAAoJqxeYXybzVo0KDUi0gk6cSJE2UeFx4eroCAAK1YsUL5+flq27atZe7UqVPKyclRQkKCUlNTFRUVpfnz58tsNis0NFQuLi5as2aNJT4tLU1xcXEaP368DAaDsrKyFBISIh8fH0VFRd3MbQEAAAA2u9maGAAAAKjMbG4om0wmhYeHq0ePHjIYDNeN6datW5nn6NKliyRp2LBhGjZsmNXc0qVLtWzZMpWUlCg8PFzjxo1TRESE3NzcdPDgQY0ZM0anTp2yOiY6OlqjRo3SqFGj5OHhoSNHjmjixIlKS0uz9bYAAAAAm9mjJgYAAAAqM5sbypGRkerYsaM++ugjHTt2TJcvX/7DFxs0aJBNcbm5uYqOjlZ0dHSZcQUFBYqJiVFMTMwfzgUAAAD4o+xREwMAAACVmc0N5Y4dO2rOnDnatGlTeeYDAAAAOC1qYgAAAFR3Nr+ULzc3V2fPni3PXAAAAACnRk0MAACA6s7mhvK6desUEhJSnrkAAAAATo2aGAAAANWdzVtefPDBB/Ly8tL777+vvXv3ymw2W82XlJRo6dKldk8QAAAAcBbUxAAAAKjubG4od+nSRQ8//LBcXV11++23l5qneAYAAEBVR00MAACA6s7mhvL48eN1+PBhvf766zp69KiuXLlSnnkBAAAAToeaGAAAANWdzXsoN2rUSCtXrlR6ejqFMwAAAKolamIAAABUdzY3lNPS0tSgQYPyzAUAAABwatTEAAAAqO5sbii/8cYbGjx4sNq1a1ee+QAAAABOi5oYAAAA1Z3Neyi/+uqrqlOnjhYuXKhLly5d943WgwYNsnuCAAAAgLOgJgYAAEB1Z3NDed++fSopKSnPXAAAAACnRk0MAACA6s7mhvKMGTPKMw8AAADA6VETAwAAoLqzeQ9lAAAAAAAAAED1ZvMKZUlq0aKFwsLC1KFDB3l6espsNmv//v1asWKF0tPTyytHAAAAwGlQEwMAAKA6s7mh3Lp1ay1cuFAFBQVKSEjQ2bNnVb9+fXXr1k3333+/nnvuOf3www/lmSsAAADgUNTEAAAAqO5sbig/99xzysjI0Lhx45SXl2cZd3d3V0xMjJ577jlNmDChXJIEAAAAnIGja+I5c+aoc+fOWrFihRYvXmwZ9/T01NixY9W9e3cZjUYdPHhQ8+bNK7Vi2s3NTSNHjlRgYKA8PT2VlpamhQsXKiUlpdxyBgAAQNVi8x7Kbdu21TvvvGNVOEtSXl6eVq9erbvuusvuyQEAAADOxJE1ca9eveTn53fduVmzZqlz58564403FBkZqZo1a2r+/Pny8vKyiouMjNSAAQO0ZMkShYeH68yZM5o7d65atmxZbnkDAACgarG5oVxSUlKeeQAAAABOz1E1saenp8aPH6+YmJhSc/7+/mrfvr2mTp2quLg47dmzRxEREapRo4aGDBliifPz81NgYKDmzZunTz/9VPv27dOLL76o7OxsjRgxoiJvBwAAAJWYzQ3lw4cPKzQ0VO7u7lbjtWrV0lNPPaWDBw/aPTkAAADAmTiqJh49erQyMjIUFxdXas7f3185OTnav3+/ZezixYtKTEyUv7+/VVxRUZHi4+MtY1euXFF8fLw6deokV1fXcskdAAAAVYvNeygvWrRICxYs0IYNG7R7926dPn1at956q7p06aLatWtr9OjR5ZknAAAA4HCOqInbtWunvn37KjQ09Lrzvr6+pfZKlqSMjAwFBQWpdu3ays/Pl6+vr06cOKGCggKruMzMTLm5ualJkybKzMy0e/4AAACoWmxuKB8+fFjDhw9XWFiYOnXqJJPJpNzcXO3fv18rVqy4bhELAAAAVCUVXRPXrFlTzz//vN577z399NNP140xmUzKysoqNZ6bmyvp6nYZ+fn5MplMMpvNvxtnMpnsmDkAAACqqjIbyi4uLuratatOnDihjIwMpaen6x//+IdVTIsWLeTj40NDGQAAAFWSI2viIUOGyGg0atWqVXY9r62Cg4MVHBwsSapXr55DcgAAAIBzKXMP5T59+mjq1KnKz8//3ZiLFy9q6tSp6tWrl92TAwAAABzNUTVxo0aN9PTTT2vx4sVydXWVh4eHPDw8JElubm7y8PBQjRo1ZDab5enpWer4ayuOr61KvlHctZXKvxUbG6uwsDCFhYXp3Llzdrs3AAAAVF5lNpQDAwO1cePG636E7prs7Gx99tlnCgoKsntyAAAAgKM5qiZu3LixjEajpk6dqri4OMsfSXryyScVFxenFi1aKDMzU3fccUep4319fZWVlWVphGdmZlrO+VvNmzdXYWGhjh8/brfcAQAAUHWV2VC+8847lZycfMOT7Nu3T61atbJbUgAAAICzcFRN/OOPP2r06NGl/kjS5s2bNXr0aB0/flwJCQlq2LChOnToYDnW3d1d3bp1U2JiomUsMTFRrq6uCggIsIwZDAb17NlTycnJKioqslvuAAAAqLrK3EPZ3d39uh99+2+5ublyd3e3W1IAAACAs3BUTXzhwgUdOHDgunPZ2dmWuYSEBKWmpioqKkrz58+X2WxWaGioXFxctGbNGssxaWlpiouL0/jx42UwGJSVlaWQkBD5+PgoKirKbnkDAACgaitzhfL58+fl7e19w5N4e3vr/PnzdksKAAAAcBbOXhOXlJQoPDxce/fuVUREhF555RUVFxdrzJgxOnXqlFVsdHS0Nm7cqFGjRmn27Nlq1KiRJk6cqLS0tArPGwAAAJVTmSuUv/32WwUFBWnr1q1lniQoKEjffvutXRMDAAAAnIGz1cRdunQpNZabm6vo6GhFR0eXeWxBQYFiYmIUExNTXukBAACgiitzhfKHH36oe+65R+PHj1fNmqV7zwaDQRMmTFDHjh31wQcflFuSAAAAgKNQEwMAAAD/UeYK5YMHD+rNN9/UuHHj1Lt3byUnJys7O1vS1Y/03XfffTKZTHrzzTd16NChCkkYAAAAqEjUxAAAAMB/lNlQlq6uyPjhhx80ZMgQ9ejRQ0ajUdLVj8vt379fq1evZrsLAAAAVGnUxAAAAMBVN2woS1JKSopSUlLk4uKievXqSbr6cpLi4uJyTQ4AAABwFtTEAAAAgI0N5WtKSkr066+/llcuAAAAgNOjJgYAAEB1VuZL+QAAAAAAAAAAuIaGMgAAAAAAAADAJjSUAQAAAAAAAAA2oaEMAAAAAAAAALAJDWUAAAAAAAAAgE1oKAMAAAAAAAAAbEJDGQAAAAAAAABgExrKAAAAAAAAAACb0FAGAAAAAAAAANiEhjIAAAAAAAAAwCY0lAEAAAAAAAAANqGhDAAAAAAAAACwCQ1lAAAAAAAAAIBNaCgDAAAAAAAAAGxCQxkAAAAAAAAAYJOaFX1BLy8vPfXUU2rVqpVatmypWrVqKSQkRNnZ2VZxbm5uGjlypAIDA+Xp6am0tDQtXLhQKSkpVnEuLi566qmnNHDgQNWvX18//fSTli9frh07dlTgXQEAAAAAAABA1VfhK5SbNGmigIAAmc3mUs3h34qMjNSAAQO0ZMkShYeH68yZM5o7d65atmxpFTdy5Eg988wz+uijjzRp0iQdOnRI0dHR6tKlS3nfCgAAAAAAAABUKxW+QjklJUX9+vWTJPXv31+dO3cuFePn56fAwEDNmDFDGzdulCQdOHBA7777rkaMGKEpU6ZIkm655RYNHjxYq1ev1nvvvSdJ2r9/v5o0aaLRo0crKSmpgu4KAAAAAAAAAKq+Cl+hXFJScsMYf39/FRUVKT4+3jJ25coVxcfHq1OnTnJ1dZUkderUSW5ubvriiy+sjv/iiy/k5+cnHx8f+yYPAAAAAAAAANWYU76Uz9fXVydOnFBBQYHVeGZmptzc3NSkSRNLXEFBgY4fP14q7to8AAAAAAAAAMA+nLKhbDKZZDabS43n5uZa5q/988KFCzeMAwAAAAAAAAD8eRW+h7IzCA4OVnBwsCSpXr16Ds4GAAAAAAAAACoHp2wom81meXt7lxq/tuL42gpks9ksDw+PG8b9t9jYWMXGxkqSli9fbpecAQAAAAAAAKCqc8otLzIzM9W4cWMZjUar8ebNm6uwsNCyZ3JmZqaMRqNlT+Xfxl2bBwAAAAAAAADYh1M2lBMTE+Xq6qqAgADLmMFgUM+ePZWcnKyioiJJ0p49e1RUVKTevXtbHd+nTx+lp6crKyurQvMGAAAAAAAAgKrMIVtePPDAA5KkVq1aSZK6dOmic+fO6dy5czpw4IDS0tIUFxen8ePHy2AwKCsrSyEhIfLx8VFUVJTlPL/++qvef/99hYaGKi8vTz/88IN69uypjh07asqUKY64NQAAAAAAAACoshzSUJ45c6bV99eav/v379eYMWMkSdHR0Ro1apRGjRolDw8PHTlyRBMnTlRaWprVsW+//bby8/P12GOP6dZbb9VPP/2kF198Ubt3766YmwEAAAAAAACAasIhDeUuXbrcMKagoEAxMTGKiYkpM664uFgrV67UypUr7ZQdAAAAAAAAAOB6nHIPZQAAAAAAAACA83HICmUAAAAAZXvggQfUq1cvtWrVSvXr11d2drZ27typVatWKS8vzxLn6empsWPHqnv37jIajTp48KDmzZun9PR0q/O5ublp5MiRCgwMlKenp9LS0rRw4UKlpKRU9K0BAACgEmOFMgAAAOCEBg8erOLiYi1atEgTJ07Uhg0bFBISonnz5snFxcUSN2vWLHXu3FlvvPGGIiMjVbNmTc2fP19eXl5W54uMjNSAAQO0ZMkShYeH68yZM5o7d65atmxZ0bcGAACASowVygAAAIATioiI0Llz5yzfHzhwQLm5uXrppZd0991365tvvpG/v7/at2+vMWPGaP/+/ZKk1NRUrV+/XkOGDNGcOXMkSX5+fgoMDNSMGTO0ceNGy/neffddjRgxwvKSbAAAAOBGWKEMAAAAOKHfNpOvOXz4sCRZVh/7+/srJyfH0kyWpIsXLyoxMVH+/v6WMX9/fxUVFSk+Pt4yduXKFcXHx6tTp05ydXUtr9sAAABAFUNDGQAAAKgk7r77bknS0aNHJUm+vr6l9kqWpIyMDPn4+Kh27dqWuBMnTqigoMAqLjMzU25ubmrSpEn5Jg4AAIAqg4YyAAAAUAl4eXlp+PDhSk5O1vfffy9JMplMMpvNpWJzc3MlXX1hny1xJpOpvNIGAABAFcMeygAAAICTq127tl599VVduXJFM2bMqLDrBgcHKzg4WJJUr169grozsQAAGY1JREFUCrsuAAAAnBcNZQAAAMCJGY1GzZo1S7fddptGjx6tnJwcy5zZbLasQv6tayuOr61KNpvN8vb2/t24ayuV/1tsbKxiY2MlScuXL/9zNwIAAIAqgS0vAAAAACdlMBgUHR2tVq1aadKkSaX2S87MzNQdd9xR6jhfX19lZWUpPz/fEte4cWMZjUaruObNm6uwsFDHjx8vv5sAAABAlUJDGQAAAHBCLi4umjp1qu655x698MILOnToUKmYhIQENWzYUB06dLCMubu7q1u3bkpMTLSMJSYmytXVVQEBAZYxg8Ggnj17Kjk5WUVFReV7MwAAAKgy2PICAAAAcELh4eEKCAjQihUrlJ+fr7Zt21rmTp06pZycHCUkJCg1NVVRUVGaP3++zGazQkND5eLiojVr1lji09LSFBcXp/Hjx8tgMCgrK0shISHy8fFRVFSUI24PAAAAlRQNZQAAAMAJdenSRZI0bNgwDRs2zGpu6dKlWrZsmUpKShQeHq5x48YpIiJCbm5uOnjwoMaMGaNTp05ZHRMdHa1Ro0Zp1KhR8vDw0JEjRzRx4kSlpaVV2D0BAACg8qOhDAAAADihQYMG2RSXm5ur6OhoRUdHlxlXUFCgmJgYxcTE2CM9AAAAVFPsoQwAAAAAAAAAsAkNZQAAAAAAAACATWgoAwAAAAAAAABsQkMZAAAAAAAAAGATGsoAAAAAAAAAAJvQUAYAAAAAAAAA2ISGMgAAAAAAAADAJjSUAQAAAAAAAAA2oaEMAAAAAAAAALAJDWUAAAAAAAAAgE1oKAMAAAAAAAAAbEJDGQAAAAAAAABgExrKAAAAAAAAAACb0FAGAAAAAAAAANiEhjIAAAAAAAAAwCY0lAEAAAAAAAAANqGhDAAAAAAAAACwCQ1lAAAAAAAAAIBNaCgDAAAAAAAAAGxCQxkAAAAAAAAAYBMaygAAAAAAAAAAm9BQBgAAAAAAAADYhIYyAAAAAAAAAMAmNJQBAAAAAAAAADahoQwAAAAAAAAAsAkNZQAAAAAAAACATWgoAwAAAAAAAABsQkMZAAAAAAAAAGATGsoAAAAAAAAAAJvQUAYAAAAAAAAA2ISGMgAAAAAAAADAJjSUAQAAAAAAAAA2oaEMAAAAAAAAALAJDWUAAAAAAAAAgE1qOjoBe2jYsKHGjx+v++67Ty4uLtq7d6/mzp2rkydPOjo1AAAAwGlQNwMAAODPqvQrlI1Go+bPn69mzZpp+vTpmjp1qpo2bar58+erVq1ajk4PAAAAcArUzQAAALCHSr9COTg4WI0bN9bjjz+u48ePS5KOHDmitWvXauDAgfrggw8cnCEAAADgeNTNAAAAsIdKv0LZ399fhw4dshTFkpSVlaXU1FR1797dgZkBAAAAzoO6GQAAAPZQ6RvKvr6+ysjIKDWekZGh5s2bV3xCAAAAgBOibgYAAIA9VPqGsslkUm5ubqnx3NxceXp6OiAjAAAAwPlQNwMAAMAeKv0eyjcjODhYwcHBkqRmzZpp+fLlDs4IN1KvXj2dO3fO0WlUKfxbX73xTNnf8iGV56m66OgEqiCeKfsrr/LMx8enfE5cRVE3V078nWR//JtfvfFMAfbFM1U5lFU3V/qGstlslslkKjVuMplkNpuve0xsbKxiY2PLOzXY0fLlyxUWFuboNIAqg2cKsC+eKVQG1M3VB38nAfbFMwXYF89U5Vfpt7zIyMiQr69vqXFfX18dPXq04hMCAAAAnBB1MwAAAOyh0jeUExMT1bZtWzVu3Ngy5u3trXbt2ikhIcGBmQEAAADOg7oZAAAA9mBo0qTJvxydxJ+Rnp6u3r1768EHH1ROTo5uv/12vfDCCyosLNTLL7+sy5cvOzpF2MkPP/zg6BSAKoVnCrAvnik4O+rm6oW/kwD74pkC7ItnqnJz6dy5c4mjk/izGjVqpPHjx+u+++6TJO3bt09z585Vdna2gzMDAAAAnAd1MwAAAP6sKtFQBgAAAAAAAACUv0q/hzIAVHXt2rXT2rVrtW3bNnXv3t3R6QDV1rZt26z2ni1LUlKSmjRpUs4ZAQAAAEDFq+noBFB9rV+/XvXr19fly5dVXFyso0ePavPmzfrkk09UUsLCeVRPCxYskJ+fnx566CEVFRVJkkaMGKGPPvpIa9eulXS1UfXoo4/q+PHjjkwVqHLWr18vo9Gohx9+WJcuXZIk9e/fX3369NGYMWMUEBBgl+sEBQVpwIABevbZZ+1yPgCQpEceeURBQUFq0aKF4uLiNGPGDEenBFRqrq6uioiI0D333COTyaRffvlFb731lvbs2ePo1IBKKyoqSvfcc49q166tM2fOaM2aNfrss88cnRZuAiuU4VARERHq2bOnQkJC9M4772jIkCGKjIx0dFqAQ3h7e6t9+/aSJH9/f6vxzMxMu1zDYDDY5TxAVWUwGPR///d/jk4DAP6wnJwcrVy5Up9//rmjUwGqBIPBoJMnT2r06NHq1auXFi9erBkzZsjb29vRqQGV1jvvvKNBgwapZ8+emjJlikaNGqU777zT0WnhJtBQhlO4ePGiEhMT9c9//lNBQUG64447dP/992vVqlWKj4/XJ598omeeecYSP3v2bD3yyCNW51i9erV69OhR0akDdhMUFKRDhw5p48aNCgoKkiStW7dOjRs31qxZs7Rt2zYtXrxY0tX/EG/bts2yYrJr165atWqVtm7dqsWLF6tFixaW865fv15DhgzR6tWrtX37djVp0kRJSUkKCgrShg0btHnzZg0dOtQS7+rqqgkTJujTTz/Vp59+qgkTJsjV1dUyP2DAAK1bt05btmzRa6+9pgYNGljmkpKSFBISorVr12rr1q0KDw8v158ZYG/vvvuuBg8eLA8Pj1Jzv93GwmQyadasWYqPj9eyZcs0cuRILVq0yCr+3nvvLfUsNGvWTFOmTNFdd92lbdu2aevWreV/UwCqhZ07d2rXrl06f/68o1MBqoRLly5p2bJlys7OVklJiXbv3q2srCy1atXK0akBlVZmZqblk7glJSUqKSlhm7hKioYynMrhw4d16tQptW/fXvn5+Zo2bZp69eqlyZMna9CgQZb9Yzdv3qw+ffpYjvPz85OXl5d2797tqNSBP61v377asmWLtmzZok6dOumWW27Ro48+qpMnTyoiIkIBAQEaOXKkJCk0NFQBAQHatm2b/vKXvygyMlKvvvqq+vTpo08++USzZs2yagJfe4569+6ty5cvS7q6N/Pjjz+ucePGKSwsTM2aNZMkPf3002rbtq2GDh2q0NBQtWnTRsOGDZMkdezYUc8995z+8Y9/6KGHHlJ2dramTZtmdR9du3ZVWFiYnnrqKT344IPq3LlzRfz4ALv4/vvvtX//fg0ePLjMuPDwcOXn56tfv36aPn265ZdAv3W9Z+HYsWN67bXXdPDgQQUEBKh3797ldSsAAMCObrnlFjVt2tRunxwEqqvw8HB9+eWX+vDDD3XmzBl99dVXjk4JN4GGMpzO6dOnZTKZdODAAaWnp6ukpETp6emKi4tThw4dJEkJCQlq2rSp5TdZffv2VXx8vKVRBlQ27dq1k7e3t7Zt26YffvhBv/zyiwIDA206Njg4WLGxsTp8+LCKi4u1adMmFRYW6q677rLErFu3TqdOnVJBQYFlbNmyZSooKNCRI0d05MgRtWzZUpLUu3dvLV++XL/++qvOnTunZcuWWX6BExgYqM8//1xpaWkqKirSW2+9pb/+9a9WH/175513dOHCBZ08eVL79++3nBeoLJYsWaJHH31U9erVu+58jRo19MADD2jp0qUqKCjQ0aNHtWnTplJxPAsAAFQNBoNBU6dO1ebNm3Xs2DFHpwNUarNnz1ZAQIBGjRqlHTt2qLCw0NEp4SbQUIbT8fLyUm5urtq0aaP58+dr06ZNiouL08CBA1W3bl1JUmFhobZt26Y+ffrIxcVFvXr10hdffOHgzIGbFxQUpK+//tryMdWtW7eqb9++Nh3r7e2tJ554Qlu3brX8adSokdVWFCdPnix13NmzZy1fX7p0SbVr15Z09RnMzs62zGVnZ1vO1aBBA6u5/Px8nT9/Xg0bNrzheYHKIiMjQ7t379ZTTz113fl69eqpZs2aVs/VqVOnSsXxLAAAUPm5uLgoKipKRUVFmj17tqPTAaqE4uJifffdd2rYsKEGDRrk6HRwE2o6OgHgt1q3bi0vLy999913euWVV/Txxx9r0qRJKiws1IQJEywNZUnatGmToqKi9O233+rSpUs6ePCgAzMHbp7RaFRAQIBq1KhheZGOq6urTCaT/Pz8bnj8qVOntHLlSq1atcou+eTk5Fi9CLBRo0Y6ffq0pKufIPjtauRatWqpbt26122mAZXZ0qVLtXLlSr333nul5s6dO6fLly+rYcOG+vnnnyXJ6pcqAACg6oiMjFT9+vU1efJkXblyxdHpAFWKwWDQbbfd5ug0cBNYoQyn4O7urq5du2ratGnasmWL0tPT5e7urtzcXBUWFqpNmzbq1auX1TEHDx5UcXGx/va3v7E6GZVa9+7dVVxcrMGDBys0NFShoaF64okndODAgeuuUj5z5owaN25s+T42NlYhISFq06aNpKtN3vvvv1/u7u43lU9cXJyGDRumevXqqW7dugoLC7M8Y3FxcerXr59atmwpV1dXPfvsszp06JDVqmWgKjh+/Lji4+P12GOPlZorLi7Wjh07NHz4cBmNRjVr1szmTxRIV1cuN2zYUDVr8nt9APZjMBjk5uYmg8GgGjVqWL4GcPOmTJmi5s2bKyIiwmrrOAB/3C233KKePXuqdu3aqlGjhjp16qRevXpp3759jk4NN4H/k4FDzZo1S5cvX1ZJSYkyMzP1wQcfaMOGDZKu7qszbtw4TZo0SSkpKdq+fbs8PDysjt+8ebNGjRql559/3hHpA3YRFBSkzz//vNS2FB9//LEmTpxYaiXEsmXL9M9//lNGo1Gvvvqqtm3bpldeeUWTJ09W06ZNVVBQoO+++04pKSk3lc/KlStVp04drV69WpK0fft2rVy5UpK0d+9eLVmyRDNnzpTJZFJqaqr++c9/3tR1AGe3fPlyqxfA/tbrr7+uF198URs3btSxY8cUFxen1q1b23Teffv2KSMjQxs3blRxcfEfakYDwO95+umnNXz4cMv3ffv21dKlS7Vs2TIHZgVUXt7e3goJCVFBQYHlU4SS9Oqrr2rr1q0OzAyonEpKSjRo0CBNmTJFNWrUUHZ2tubOnavExERHp4ab4NK5c+cSRycB3Ky+ffsqODhYzz77rKNTAQBUY6NHj9att96q6dOnOzoVAAAAAChXbHmBSstoNGrQoEGKjY11dCoAgGqmWbNmatGihSSpTZs26t+/v3bu3OngrAAAAACg/LHlBSqlTp066eWXX9bevXv5uBEAoMK5u7tr2rRpatCggc6ePav3339fu3btcnRaAAAAAFDu2PICAAAAAAAAAGATtrwAAAAAAAAAANiEhjIAAAAAAAAAwCY0lAEAAAAAAAAANqGhDACVQPfu3bVw4UJt3LhRO3bs0Pr16/XKK6+oc+fOlpigoCAlJSWpSZMmZZ7L29tbSUlJCgoKshofOnSoNmzYoISEBK1atUotW7bUM888I5PJVC73BAAAANjiWp2blJSkpk2blprv0KGDZf7ee++1+/WTkpI0cuTIG8YtWLBACxYssPv1AcDZ1HR0AgCAsj366KOaNGmSPvvsM7333nvKz8/Xbbfdpvvvv18dO3bUnj17/tD5zpw5o+HDh+uXX36xjLVp00bPPvus1qxZo127dikvL0933nmnhg8fri1btig3N9fetwUAAAD8IRcvXlTfvn21ePFiq/GgoCBdvHhRderUcVBmV82aNcuh1weAikJDGQCc3ODBg7Vz507NnDnTMvbNN9/o008/lYuLyx8+X1FRkQ4dOmQ11rx5c0nShg0bdOLECUnSnXfeefNJAwAAAHa2Y8cOBQYGWjWUjUajHnjgAX355Zd66KGHHJiddPToUYdeHwAqCg1lAHByJpNJZ86cue5cSUlJqbG6detq+PDh6tatm/Ly8vTll19qwYIFKiwslHR1y4sNGzZo+vTp2rRpkxYsWKC7775bkvTxxx9LkrKysuTj4yNJWrduneXcISEhys7O1mOPPaaQkBD5+PiooKBAv/zyi1atWqWdO3fa9d4BAACAa7744gv17dtX7du317fffitJ6tGjh1xcXLRjxw6rhnLr1q01ZMgQ3XXXXapbt66ys7O1Y8cOrVixQgUFBVbn7dGjhwYPHiw/Pz+VlJTo2LFjWrFihRITE63iHn30UT3++OOqW7eu0tLSNGvWLGVmZlrmr213MWbMGElXt+JYuHChIiIi1KlTJ/Xs2VOStGfPHr3++uu6cOGC5ViDwaAnn3xSQUFB8vHx0fnz5xUXF6e3337bUscDgLOgoQwATu7w4cMKCgrSiRMntGvXLv38889lxkdFRSkuLk5///vfddddd+mZZ56R2WzW0qVLrxs/a9Ys9enTR0OHDtULL7yg06dPKycnRwMHDtSwYcMUGRmpU6dOSbq6XUbv3r01btw4rVixQikpKTIajfLz82OvZQAAAJSr7OxspaSkqE+fPpaGct++fbVz507l5eVZxTZq1Eg//vijNm3apLy8PPn6+iosLEyNGzfWSy+9ZIl75JFHNHnyZO3cuVPTp09Xfn6+7rzzTsviimv69OmjY8eOac6cOXJ1ddXYsWP12muv6fHHH9eVK1fKzHvixInavXu3oqKidPvtt2vs2LEqLi7W9OnTLTFRUVHq1q2b1qxZo9TUVDVr1kwjR46Uj4+PIiMj/+yPDgDsioYyADi51157TTNnztTYsWM1duxYnTt3TsnJydq4caOSk5NLxW/dutXSPN67d6/atm2rXr16/W5D+ejRo5b9lH/44QdlZ2dLko4fPy5J+vHHHy1fS9Jf//pXpaena/ny5ZaxpKQk+9wsAAAAUIbNmzdr3LhxmjNnjjw9PXXPPfdo0qRJpeJ27Nhh9f13332nixcv6qWXXtLs2bOVm5srd3d3Pfvss9qxY4f+/ve/W2K//vrrUue7fPmywsPDrZrHM2fOVJs2bZSamlpmzikpKXrjjTckScnJyWrWrJn69+9vaSi3b99evXr10rRp07R582ZJV+v43NxcTZ06VS1bttSPP/5o2w8IACpADUcnAAAo288//6yhQ4fqueee04oVK/Tjjz+qR48emjdvnp5++ulS8V999ZXV9+np6WrUqJHd8vn3v/+tli1batKkSbr33ntlNBrtdm4AAACgLNu3b5ebm5u6deumwMBAnT17Vvv27SsV5+7urtGjR2vdunXatWuXEhMT9a9//Us1atRQ06ZNJUnt2rVTnTp1FBsbe8PrJicnWzWT09PTJcmmOvt69bnRaFT9+vUlSZ07d1ZhYaG2b98ug8Fg+XNt8cj//M//3PAaAFCRWKEMAJVAcXGxUlJSlJKSIklq0KCB5syZo2eeeUYff/yxzGazJTY3N9fq2MLCQrs2fTdt2iQ3Nzf1799fgwYN0uXLl5WUlKR58+ZZVjcDAAAA5SEvL0+7du1Snz595OPjoy1btlz3vSIvvvii7r33Xi1ZskQ//vij8vPz1aZNG0VERMjNzU2SLFu2XdverSzXq7ElWc71Z4695ZZb5ObmVmpV9TV169a94TUAoCLRUAaASuj06dP69NNPNWnSJDVt2lSHDx+u0Ot/8skn+uSTT+Tp6an77rtPf/vb3zRjxgwNHz68QvMAAABA9bN582bNnj1bBoPBaj/ka9zc3OTv769ly5Zp7dq1lvEWLVpYxZ0/f16S5OXlpYyMjPJNugznz59XQUGBnn322evOnz59uoIzAoCy0VAGACd366236syZM6XGmzVrJknXnbOHoqIiSSpzdbPZbNa2bdvUtm1bDRw4sFzyAAAAAH4rOTlZ27Zt04ULF5SZmVlq3tXVVTVr1tTly5etxvv162f1fWpqqi5evKjg4ODr7ptcUfbs2aPQ0FB5eHhcd/sOAHA2NJQBwMm9++672rt3r5KSknTixAnVqVNHXbp0UUhIiOLj43Xy5Mlyue614vzhhx/Wpk2bdPnyZR05ckSTJ09WXl6eDh48qF9//VVNmzZVnz59rvuCQAAAAMDeiouLFRUV9bvzFy9eVGpqqp544gmdOXNG586d00MPPSQvLy+ruLy8PC1atEiTJ0/WzJkztWXLFuXl5ekvf/mLCgoK9NFHH5X3rUiSDhw4oK1btyo6OloffPCBDh8+rOLiYvn4+Oj+++/XggUL9PPPP1dILgBgCxrKAODk3n77bXXp0kXDhw9X/fr1VVxcrJ9//lkLFy7Uhx9+WG7XPXLkiJYsWaKBAwdqwIABMhgMCgkJUWpqqvr166c+ffrIw8NDp0+f1pYtW7RkyZJyywUAAAD4I1566SVNmTJFkydPVkFBgbZv3645c+bo9ddft4r76KOPdObMGT355JOaOnWqLl++rKNHj2rFihUVmu+//vUvPfroo3rooYc0dOhQFRUVKSsrS19//bXOnj1bobkAwI24dO7cufTu9QAAAAAAAAAA/Jcajk4AAAAAAAAAAFA50FAGAAAAAAAAANiEhjIAAAAAAAAAwCY0lAEAAAAAAAAANqGhDAAAAAAAAACwCQ1lAAAAAAAAAIBNaCgDAAAAAAAAAGxCQxkAAAAAAAAAYBMaygAAAAAAAAAAm/w/bzYT40t6WMEAAAAASUVORK5CYII=\n",
                "text/plain": "<Figure size 1440x720 with 4 Axes>"
              }
            ],
            "_view_module": "@jupyter-widgets/output",
            "_model_module_version": "1.0.0",
            "_view_count": null,
            "_view_module_version": "1.0.0",
            "layout": "IPY_MODEL_95f9feb4e1fc47489b63fc508ca83c95",
            "_model_module": "@jupyter-widgets/output"
          }
        },
        "6a32a1a881ed45f39210daa3e7bde07e": {
          "model_module": "@jupyter-widgets/controls",
          "model_name": "DescriptionStyleModel",
          "state": {
            "_view_name": "StyleView",
            "_model_name": "DescriptionStyleModel",
            "description_width": "",
            "_view_module": "@jupyter-widgets/base",
            "_model_module_version": "1.5.0",
            "_view_count": null,
            "_view_module_version": "1.2.0",
            "_model_module": "@jupyter-widgets/controls"
          }
        },
        "9e40171eddfc4969b709682d26d9f16a": {
          "model_module": "@jupyter-widgets/base",
          "model_name": "LayoutModel",
          "state": {
            "_view_name": "LayoutView",
            "grid_template_rows": null,
            "right": null,
            "justify_content": null,
            "_view_module": "@jupyter-widgets/base",
            "overflow": null,
            "_model_module_version": "1.2.0",
            "_view_count": null,
            "flex_flow": null,
            "width": null,
            "min_width": null,
            "border": null,
            "align_items": null,
            "bottom": null,
            "_model_module": "@jupyter-widgets/base",
            "top": null,
            "grid_column": null,
            "overflow_y": null,
            "overflow_x": null,
            "grid_auto_flow": null,
            "grid_area": null,
            "grid_template_columns": null,
            "flex": null,
            "_model_name": "LayoutModel",
            "justify_items": null,
            "grid_row": null,
            "max_height": null,
            "align_content": null,
            "visibility": null,
            "align_self": null,
            "height": null,
            "min_height": null,
            "padding": null,
            "grid_auto_rows": null,
            "grid_gap": null,
            "max_width": null,
            "order": null,
            "_view_module_version": "1.2.0",
            "grid_template_areas": null,
            "object_position": null,
            "object_fit": null,
            "grid_auto_columns": null,
            "margin": null,
            "display": null,
            "left": null
          }
        },
        "3c7697b0ccb341b8877c7958e83e893d": {
          "model_module": "@jupyter-widgets/controls",
          "model_name": "DescriptionStyleModel",
          "state": {
            "_view_name": "StyleView",
            "_model_name": "DescriptionStyleModel",
            "description_width": "",
            "_view_module": "@jupyter-widgets/base",
            "_model_module_version": "1.5.0",
            "_view_count": null,
            "_view_module_version": "1.2.0",
            "_model_module": "@jupyter-widgets/controls"
          }
        },
        "481cecbc8b65449f81a291b2eea2c006": {
          "model_module": "@jupyter-widgets/base",
          "model_name": "LayoutModel",
          "state": {
            "_view_name": "LayoutView",
            "grid_template_rows": null,
            "right": null,
            "justify_content": null,
            "_view_module": "@jupyter-widgets/base",
            "overflow": null,
            "_model_module_version": "1.2.0",
            "_view_count": null,
            "flex_flow": null,
            "width": null,
            "min_width": null,
            "border": null,
            "align_items": null,
            "bottom": null,
            "_model_module": "@jupyter-widgets/base",
            "top": null,
            "grid_column": null,
            "overflow_y": null,
            "overflow_x": null,
            "grid_auto_flow": null,
            "grid_area": null,
            "grid_template_columns": null,
            "flex": null,
            "_model_name": "LayoutModel",
            "justify_items": null,
            "grid_row": null,
            "max_height": null,
            "align_content": null,
            "visibility": null,
            "align_self": null,
            "height": null,
            "min_height": null,
            "padding": null,
            "grid_auto_rows": null,
            "grid_gap": null,
            "max_width": null,
            "order": null,
            "_view_module_version": "1.2.0",
            "grid_template_areas": null,
            "object_position": null,
            "object_fit": null,
            "grid_auto_columns": null,
            "margin": null,
            "display": null,
            "left": null
          }
        },
        "95f9feb4e1fc47489b63fc508ca83c95": {
          "model_module": "@jupyter-widgets/base",
          "model_name": "LayoutModel",
          "state": {
            "_view_name": "LayoutView",
            "grid_template_rows": null,
            "right": null,
            "justify_content": null,
            "_view_module": "@jupyter-widgets/base",
            "overflow": null,
            "_model_module_version": "1.2.0",
            "_view_count": null,
            "flex_flow": null,
            "width": null,
            "min_width": null,
            "border": null,
            "align_items": null,
            "bottom": null,
            "_model_module": "@jupyter-widgets/base",
            "top": null,
            "grid_column": null,
            "overflow_y": null,
            "overflow_x": null,
            "grid_auto_flow": null,
            "grid_area": null,
            "grid_template_columns": null,
            "flex": null,
            "_model_name": "LayoutModel",
            "justify_items": null,
            "grid_row": null,
            "max_height": null,
            "align_content": null,
            "visibility": null,
            "align_self": null,
            "height": null,
            "min_height": null,
            "padding": null,
            "grid_auto_rows": null,
            "grid_gap": null,
            "max_width": null,
            "order": null,
            "_view_module_version": "1.2.0",
            "grid_template_areas": null,
            "object_position": null,
            "object_fit": null,
            "grid_auto_columns": null,
            "margin": null,
            "display": null,
            "left": null
          }
        },
        "ee8e4d2f6ac14fa5aff691ffc9ad22ce": {
          "model_module": "@jupyter-widgets/controls",
          "model_name": "VBoxModel",
          "state": {
            "_view_name": "VBoxView",
            "_dom_classes": [
              "widget-interact"
            ],
            "_model_name": "VBoxModel",
            "_view_module": "@jupyter-widgets/controls",
            "_model_module_version": "1.5.0",
            "_view_count": null,
            "_view_module_version": "1.5.0",
            "box_style": "",
            "layout": "IPY_MODEL_7482ff721694482f8fecc8ff84f5cd1d",
            "_model_module": "@jupyter-widgets/controls",
            "children": [
              "IPY_MODEL_494fe2b9024642309374036bc196b083",
              "IPY_MODEL_c15713c0331b40eea2013eb105e79511",
              "IPY_MODEL_b422688d57844c31af3f7f117a3642d2",
              "IPY_MODEL_266ba82c8727448ba86bf5fa4e1e4bee",
              "IPY_MODEL_d5eb0762acef4439a8e9555149e191e4"
            ]
          }
        },
        "7482ff721694482f8fecc8ff84f5cd1d": {
          "model_module": "@jupyter-widgets/base",
          "model_name": "LayoutModel",
          "state": {
            "_view_name": "LayoutView",
            "grid_template_rows": null,
            "right": null,
            "justify_content": null,
            "_view_module": "@jupyter-widgets/base",
            "overflow": null,
            "_model_module_version": "1.2.0",
            "_view_count": null,
            "flex_flow": null,
            "width": null,
            "min_width": null,
            "border": null,
            "align_items": null,
            "bottom": null,
            "_model_module": "@jupyter-widgets/base",
            "top": null,
            "grid_column": null,
            "overflow_y": null,
            "overflow_x": null,
            "grid_auto_flow": null,
            "grid_area": null,
            "grid_template_columns": null,
            "flex": null,
            "_model_name": "LayoutModel",
            "justify_items": null,
            "grid_row": null,
            "max_height": null,
            "align_content": null,
            "visibility": null,
            "align_self": null,
            "height": null,
            "min_height": null,
            "padding": null,
            "grid_auto_rows": null,
            "grid_gap": null,
            "max_width": null,
            "order": null,
            "_view_module_version": "1.2.0",
            "grid_template_areas": null,
            "object_position": null,
            "object_fit": null,
            "grid_auto_columns": null,
            "margin": null,
            "display": null,
            "left": null
          }
        },
        "494fe2b9024642309374036bc196b083": {
          "model_module": "@jupyter-widgets/controls",
          "model_name": "DropdownModel",
          "state": {
            "_options_labels": [
              "2020"
            ],
            "_view_name": "DropdownView",
            "style": "IPY_MODEL_ade389be40294514b1d7b9ed3fc2d5ff",
            "_dom_classes": [],
            "description": "Year",
            "_model_name": "DropdownModel",
            "index": 0,
            "_view_module": "@jupyter-widgets/controls",
            "_model_module_version": "1.5.0",
            "_view_count": null,
            "disabled": false,
            "_view_module_version": "1.5.0",
            "description_tooltip": null,
            "_model_module": "@jupyter-widgets/controls",
            "layout": "IPY_MODEL_ceab3cb309104db980d7964ff76c7c9c"
          }
        },
        "c15713c0331b40eea2013eb105e79511": {
          "model_module": "@jupyter-widgets/controls",
          "model_name": "DropdownModel",
          "state": {
            "_options_labels": [
              "L1",
              "L2",
              "L3",
              "L4"
            ],
            "_view_name": "DropdownView",
            "style": "IPY_MODEL_0ead125d81ab43f28c18f6f53da85089",
            "_dom_classes": [],
            "description": "Line",
            "_model_name": "DropdownModel",
            "index": 2,
            "_view_module": "@jupyter-widgets/controls",
            "_model_module_version": "1.5.0",
            "_view_count": null,
            "disabled": false,
            "_view_module_version": "1.5.0",
            "description_tooltip": null,
            "_model_module": "@jupyter-widgets/controls",
            "layout": "IPY_MODEL_dc01243c2f46418cade8982ec98187d6"
          }
        },
        "b422688d57844c31af3f7f117a3642d2": {
          "model_module": "@jupyter-widgets/controls",
          "model_name": "DropdownModel",
          "state": {
            "_options_labels": [
              "APPEARANCE",
              "FOREIGN MATERIAL",
              "INFESTATION",
              "PACKAGE QUANTITY",
              "PACKAGE QUALITY",
              "PRODUCT QUANTITY",
              "TASTE",
              "TEXTURE"
            ],
            "_view_name": "DropdownView",
            "style": "IPY_MODEL_40e8638f5e4146ea98b1bdef2be7bcc5",
            "_dom_classes": [],
            "description": "Categories",
            "_model_name": "DropdownModel",
            "index": 0,
            "_view_module": "@jupyter-widgets/controls",
            "_model_module_version": "1.5.0",
            "_view_count": null,
            "disabled": false,
            "_view_module_version": "1.5.0",
            "description_tooltip": null,
            "_model_module": "@jupyter-widgets/controls",
            "layout": "IPY_MODEL_c2ffd06943544c1fb5e62e992fc46b6a"
          }
        },
        "266ba82c8727448ba86bf5fa4e1e4bee": {
          "model_module": "@jupyter-widgets/controls",
          "model_name": "IntSliderModel",
          "state": {
            "_view_name": "IntSliderView",
            "style": "IPY_MODEL_99198f094bb84dc4b883c607f721cd2f",
            "_dom_classes": [],
            "description": "Top",
            "step": 1,
            "_model_name": "IntSliderModel",
            "orientation": "horizontal",
            "max": 10,
            "_view_module": "@jupyter-widgets/controls",
            "_model_module_version": "1.5.0",
            "value": 5,
            "_view_count": null,
            "disabled": false,
            "_view_module_version": "1.5.0",
            "min": 1,
            "continuous_update": true,
            "readout_format": "d",
            "description_tooltip": null,
            "readout": true,
            "_model_module": "@jupyter-widgets/controls",
            "layout": "IPY_MODEL_f93aad0b2020459e8812322318af729b"
          }
        },
        "d5eb0762acef4439a8e9555149e191e4": {
          "model_module": "@jupyter-widgets/output",
          "model_name": "OutputModel",
          "state": {
            "_view_name": "OutputView",
            "msg_id": "",
            "_dom_classes": [],
            "_model_name": "OutputModel",
            "outputs": [
              {
                "output_type": "stream",
                "metadata": {
                  "tags": []
                },
                "text": "57\n",
                "stream": "stdout"
              },
              {
                "output_type": "display_data",
                "metadata": {
                  "tags": []
                },
                "image/png": "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\n",
                "text/plain": "<Figure size 1440x720 with 4 Axes>"
              }
            ],
            "_view_module": "@jupyter-widgets/output",
            "_model_module_version": "1.0.0",
            "_view_count": null,
            "_view_module_version": "1.0.0",
            "layout": "IPY_MODEL_4d918c3e352347f9ba238fd6bde993b2",
            "_model_module": "@jupyter-widgets/output"
          }
        },
        "ade389be40294514b1d7b9ed3fc2d5ff": {
          "model_module": "@jupyter-widgets/controls",
          "model_name": "DescriptionStyleModel",
          "state": {
            "_view_name": "StyleView",
            "_model_name": "DescriptionStyleModel",
            "description_width": "",
            "_view_module": "@jupyter-widgets/base",
            "_model_module_version": "1.5.0",
            "_view_count": null,
            "_view_module_version": "1.2.0",
            "_model_module": "@jupyter-widgets/controls"
          }
        },
        "ceab3cb309104db980d7964ff76c7c9c": {
          "model_module": "@jupyter-widgets/base",
          "model_name": "LayoutModel",
          "state": {
            "_view_name": "LayoutView",
            "grid_template_rows": null,
            "right": null,
            "justify_content": null,
            "_view_module": "@jupyter-widgets/base",
            "overflow": null,
            "_model_module_version": "1.2.0",
            "_view_count": null,
            "flex_flow": null,
            "width": null,
            "min_width": null,
            "border": null,
            "align_items": null,
            "bottom": null,
            "_model_module": "@jupyter-widgets/base",
            "top": null,
            "grid_column": null,
            "overflow_y": null,
            "overflow_x": null,
            "grid_auto_flow": null,
            "grid_area": null,
            "grid_template_columns": null,
            "flex": null,
            "_model_name": "LayoutModel",
            "justify_items": null,
            "grid_row": null,
            "max_height": null,
            "align_content": null,
            "visibility": null,
            "align_self": null,
            "height": null,
            "min_height": null,
            "padding": null,
            "grid_auto_rows": null,
            "grid_gap": null,
            "max_width": null,
            "order": null,
            "_view_module_version": "1.2.0",
            "grid_template_areas": null,
            "object_position": null,
            "object_fit": null,
            "grid_auto_columns": null,
            "margin": null,
            "display": null,
            "left": null
          }
        },
        "0ead125d81ab43f28c18f6f53da85089": {
          "model_module": "@jupyter-widgets/controls",
          "model_name": "DescriptionStyleModel",
          "state": {
            "_view_name": "StyleView",
            "_model_name": "DescriptionStyleModel",
            "description_width": "",
            "_view_module": "@jupyter-widgets/base",
            "_model_module_version": "1.5.0",
            "_view_count": null,
            "_view_module_version": "1.2.0",
            "_model_module": "@jupyter-widgets/controls"
          }
        },
        "dc01243c2f46418cade8982ec98187d6": {
          "model_module": "@jupyter-widgets/base",
          "model_name": "LayoutModel",
          "state": {
            "_view_name": "LayoutView",
            "grid_template_rows": null,
            "right": null,
            "justify_content": null,
            "_view_module": "@jupyter-widgets/base",
            "overflow": null,
            "_model_module_version": "1.2.0",
            "_view_count": null,
            "flex_flow": null,
            "width": null,
            "min_width": null,
            "border": null,
            "align_items": null,
            "bottom": null,
            "_model_module": "@jupyter-widgets/base",
            "top": null,
            "grid_column": null,
            "overflow_y": null,
            "overflow_x": null,
            "grid_auto_flow": null,
            "grid_area": null,
            "grid_template_columns": null,
            "flex": null,
            "_model_name": "LayoutModel",
            "justify_items": null,
            "grid_row": null,
            "max_height": null,
            "align_content": null,
            "visibility": null,
            "align_self": null,
            "height": null,
            "min_height": null,
            "padding": null,
            "grid_auto_rows": null,
            "grid_gap": null,
            "max_width": null,
            "order": null,
            "_view_module_version": "1.2.0",
            "grid_template_areas": null,
            "object_position": null,
            "object_fit": null,
            "grid_auto_columns": null,
            "margin": null,
            "display": null,
            "left": null
          }
        },
        "40e8638f5e4146ea98b1bdef2be7bcc5": {
          "model_module": "@jupyter-widgets/controls",
          "model_name": "DescriptionStyleModel",
          "state": {
            "_view_name": "StyleView",
            "_model_name": "DescriptionStyleModel",
            "description_width": "",
            "_view_module": "@jupyter-widgets/base",
            "_model_module_version": "1.5.0",
            "_view_count": null,
            "_view_module_version": "1.2.0",
            "_model_module": "@jupyter-widgets/controls"
          }
        },
        "c2ffd06943544c1fb5e62e992fc46b6a": {
          "model_module": "@jupyter-widgets/base",
          "model_name": "LayoutModel",
          "state": {
            "_view_name": "LayoutView",
            "grid_template_rows": null,
            "right": null,
            "justify_content": null,
            "_view_module": "@jupyter-widgets/base",
            "overflow": null,
            "_model_module_version": "1.2.0",
            "_view_count": null,
            "flex_flow": null,
            "width": null,
            "min_width": null,
            "border": null,
            "align_items": null,
            "bottom": null,
            "_model_module": "@jupyter-widgets/base",
            "top": null,
            "grid_column": null,
            "overflow_y": null,
            "overflow_x": null,
            "grid_auto_flow": null,
            "grid_area": null,
            "grid_template_columns": null,
            "flex": null,
            "_model_name": "LayoutModel",
            "justify_items": null,
            "grid_row": null,
            "max_height": null,
            "align_content": null,
            "visibility": null,
            "align_self": null,
            "height": null,
            "min_height": null,
            "padding": null,
            "grid_auto_rows": null,
            "grid_gap": null,
            "max_width": null,
            "order": null,
            "_view_module_version": "1.2.0",
            "grid_template_areas": null,
            "object_position": null,
            "object_fit": null,
            "grid_auto_columns": null,
            "margin": null,
            "display": null,
            "left": null
          }
        },
        "99198f094bb84dc4b883c607f721cd2f": {
          "model_module": "@jupyter-widgets/controls",
          "model_name": "SliderStyleModel",
          "state": {
            "_view_name": "StyleView",
            "handle_color": null,
            "_model_name": "SliderStyleModel",
            "description_width": "",
            "_view_module": "@jupyter-widgets/base",
            "_model_module_version": "1.5.0",
            "_view_count": null,
            "_view_module_version": "1.2.0",
            "_model_module": "@jupyter-widgets/controls"
          }
        },
        "f93aad0b2020459e8812322318af729b": {
          "model_module": "@jupyter-widgets/base",
          "model_name": "LayoutModel",
          "state": {
            "_view_name": "LayoutView",
            "grid_template_rows": null,
            "right": null,
            "justify_content": null,
            "_view_module": "@jupyter-widgets/base",
            "overflow": null,
            "_model_module_version": "1.2.0",
            "_view_count": null,
            "flex_flow": null,
            "width": null,
            "min_width": null,
            "border": null,
            "align_items": null,
            "bottom": null,
            "_model_module": "@jupyter-widgets/base",
            "top": null,
            "grid_column": null,
            "overflow_y": null,
            "overflow_x": null,
            "grid_auto_flow": null,
            "grid_area": null,
            "grid_template_columns": null,
            "flex": null,
            "_model_name": "LayoutModel",
            "justify_items": null,
            "grid_row": null,
            "max_height": null,
            "align_content": null,
            "visibility": null,
            "align_self": null,
            "height": null,
            "min_height": null,
            "padding": null,
            "grid_auto_rows": null,
            "grid_gap": null,
            "max_width": null,
            "order": null,
            "_view_module_version": "1.2.0",
            "grid_template_areas": null,
            "object_position": null,
            "object_fit": null,
            "grid_auto_columns": null,
            "margin": null,
            "display": null,
            "left": null
          }
        },
        "4d918c3e352347f9ba238fd6bde993b2": {
          "model_module": "@jupyter-widgets/base",
          "model_name": "LayoutModel",
          "state": {
            "_view_name": "LayoutView",
            "grid_template_rows": null,
            "right": null,
            "justify_content": null,
            "_view_module": "@jupyter-widgets/base",
            "overflow": null,
            "_model_module_version": "1.2.0",
            "_view_count": null,
            "flex_flow": null,
            "width": null,
            "min_width": null,
            "border": null,
            "align_items": null,
            "bottom": null,
            "_model_module": "@jupyter-widgets/base",
            "top": null,
            "grid_column": null,
            "overflow_y": null,
            "overflow_x": null,
            "grid_auto_flow": null,
            "grid_area": null,
            "grid_template_columns": null,
            "flex": null,
            "_model_name": "LayoutModel",
            "justify_items": null,
            "grid_row": null,
            "max_height": null,
            "align_content": null,
            "visibility": null,
            "align_self": null,
            "height": null,
            "min_height": null,
            "padding": null,
            "grid_auto_rows": null,
            "grid_gap": null,
            "max_width": null,
            "order": null,
            "_view_module_version": "1.2.0",
            "grid_template_areas": null,
            "object_position": null,
            "object_fit": null,
            "grid_auto_columns": null,
            "margin": null,
            "display": null,
            "left": null
          }
        }
      }
    }
  },
  "cells": [
    {
      "cell_type": "markdown",
      "metadata": {
        "id": "view-in-github",
        "colab_type": "text"
      },
      "source": [
        "<a href=\"https://colab.research.google.com/github/gabrielborja/python_data_analysis/blob/main/quality_complaints_dashboard.ipynb\" target=\"_parent\"><img src=\"https://colab.research.google.com/assets/colab-badge.svg\" alt=\"Open In Colab\"/></a>"
      ]
    },
    {
      "cell_type": "markdown",
      "metadata": {
        "id": "B3Pznx2vlT0L"
      },
      "source": [
        "#Import packages"
      ]
    },
    {
      "cell_type": "code",
      "metadata": {
        "id": "QTRtRZcb-IyF"
      },
      "source": [
        "#Importing necessary packages\n",
        "import numpy as np\n",
        "import pandas as pd\n",
        "import random\n",
        "import matplotlib.pyplot as plt\n",
        "import seaborn as sns"
      ],
      "execution_count": 1,
      "outputs": []
    },
    {
      "cell_type": "code",
      "metadata": {
        "id": "B-nvhi7XiPSO"
      },
      "source": [
        "#Add interactivity to graphs\n",
        "import ipywidgets as widgets\n",
        "from IPython import display\n",
        "from ipywidgets import interact, interactive, fixed, interact_manual"
      ],
      "execution_count": 2,
      "outputs": []
    },
    {
      "cell_type": "code",
      "metadata": {
        "id": "i5W7tuPez2l5"
      },
      "source": [
        "#Customizing data visualization styles\n",
        "\n",
        "SMALL_SIZE = 12\n",
        "MEDIUM_SIZE = 16\n",
        "BIGGER_SIZE = 20\n",
        "\n",
        "plt.rc('font', size=SMALL_SIZE)          # controls default text sizes\n",
        "plt.rc('axes', titlesize=SMALL_SIZE)     # fontsize of the axes title\n",
        "plt.rc('axes', labelsize=MEDIUM_SIZE)    # fontsize of the x and y labels\n",
        "plt.rc('xtick', labelsize=SMALL_SIZE)    # fontsize of the tick labels\n",
        "plt.rc('ytick', labelsize=MEDIUM_SIZE)   # fontsize of the tick labels\n",
        "plt.rc('legend', fontsize=SMALL_SIZE)    # legend fontsize\n",
        "plt.rc('figure', titlesize=BIGGER_SIZE)  # fontsize of the figure title\n",
        "plt.rc('axes', titlesize=BIGGER_SIZE)    # fontsize of the axes title"
      ],
      "execution_count": 3,
      "outputs": []
    },
    {
      "cell_type": "code",
      "metadata": {
        "id": "H9o6m0OhZb4-"
      },
      "source": [
        "#Customizing dark theme\n",
        "\n",
        "#From Samuel Hinton\n",
        "plt.style.use(['dark_background'])\n",
        "plt.rcParams['axes.facecolor'] = (0,0,0,0)\n",
        "plt.rcParams['figure.facecolor'] = '#383838' #To match google colab native dark theme\n",
        "plt.rcParams[\"legend.frameon\"] = False\n",
        "plt.rcParams['image.cmap'] = 'viridis'\n",
        "plt.rcParams[\"legend.facecolor\"] = (0,0,0,0)\n",
        "#plt.rcParams[\"font.family\"] = 'sans-serif'\n",
        "#plt.rcParams['font.sans-serif'] = ['Open Sans', 'Source Sans Pro', 'Noto Sans']\n",
        "plt.rcParams['hist.bins'] = 50\n",
        "plt.rcParams['lines.markersize'] = 10\n",
        "plt.rcParams['axes3d.grid'] = False\n",
        "\n",
        "#New settings\n",
        "plt.rcParams['figure.subplot.hspace'] = 0.3 #default = 0.2\n",
        "#plt.rcParams['figure.constrained_layout.h_pad'] = 0.4 #default = 0.04167\n",
        "#plt.rcParams['figure.constrained_layout.hspace'] = 0.1 #default = 0.02\n",
        "\n",
        "from cycler import cycler\n",
        "\n",
        "plt.rcParams['axes.prop_cycle'] = (cycler(color=['#e74c3c', '#b86dd6', '#fca821', '#3498db', '#f1c40f', '#ffa847', '#c4ef7a', '#e195e2', '#ced9ed', '#fff29b'])\\\n",
        "                                   + cycler(linestyle=['-', '--', ':', '-.', '-', '--', ':', '-.', '-', '--']))"
      ],
      "execution_count": 4,
      "outputs": []
    },
    {
      "cell_type": "markdown",
      "metadata": {
        "id": "-iCOXc2AllJt"
      },
      "source": [
        "#Upload raw data"
      ]
    },
    {
      "cell_type": "code",
      "metadata": {
        "id": "1Z4jxJjRRPLB"
      },
      "source": [
        "#Remove previous versions of the uploaded excel file\n",
        "!rm reklamer.xlsx"
      ],
      "execution_count": null,
      "outputs": []
    },
    {
      "cell_type": "code",
      "metadata": {
        "colab": {
          "resources": {
            "http://localhost:8080/nbextensions/google.colab/files.js": {
              "data": "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",
              "ok": true,
              "headers": [
                [
                  "content-type",
                  "application/javascript"
                ]
              ],
              "status": 200,
              "status_text": "OK"
            }
          },
          "base_uri": "https://localhost:8080/",
          "height": 39
        },
        "id": "oen97ED1-rh-",
        "outputId": "14f06299-2744-438c-a325-08ad21dc3d64"
      },
      "source": [
        "#Uploading file from local drive\n",
        "from google.colab import files\n",
        "uploaded = files.upload()"
      ],
      "execution_count": 5,
      "outputs": [
        {
          "output_type": "display_data",
          "data": {
            "text/html": [
              "\n",
              "     <input type=\"file\" id=\"files-339fa58d-06f3-4c03-9e6f-a682ccbf3219\" name=\"files[]\" multiple disabled\n",
              "        style=\"border:none\" />\n",
              "     <output id=\"result-339fa58d-06f3-4c03-9e6f-a682ccbf3219\">\n",
              "      Upload widget is only available when the cell has been executed in the\n",
              "      current browser session. Please rerun this cell to enable.\n",
              "      </output>\n",
              "      <script src=\"/nbextensions/google.colab/files.js\"></script> "
            ],
            "text/plain": [
              "<IPython.core.display.HTML object>"
            ]
          },
          "metadata": {
            "tags": []
          }
        }
      ]
    },
    {
      "cell_type": "code",
      "metadata": {
        "id": "03VoNwL0-3O6"
      },
      "source": [
        "#Storing dataset in a Pandas Dataframe\n",
        "import io\n",
        "df = pd.read_excel(io.BytesIO(uploaded['reklamer.xlsx']), parse_dates=True)"
      ],
      "execution_count": null,
      "outputs": []
    },
    {
      "cell_type": "markdown",
      "metadata": {
        "id": "Cj7Z7UMzT9vR"
      },
      "source": [
        "#Data cleaning and formatting\n",
        "\n"
      ]
    },
    {
      "cell_type": "code",
      "metadata": {
        "id": "n8QH2UTIGJRj"
      },
      "source": [
        "#Dropping unnecessary columns (if needed)\n",
        "#col_ix =[0, 12, 23, 25, 29, 32, 33]\n",
        "#df = df.drop(columns=df.columns[col_ix], axis=1)"
      ],
      "execution_count": null,
      "outputs": []
    },
    {
      "cell_type": "code",
      "metadata": {
        "id": "OcZKSgb6JPkx"
      },
      "source": [
        "#Parsing dates from columns 'Production Date' and 'Best use by Date'\n",
        "df[['Production Date', 'Best Used By Date']] = df[['Production Date', 'Best Used By Date']].apply(pd.to_datetime, dayfirst=True)"
      ],
      "execution_count": null,
      "outputs": []
    },
    {
      "cell_type": "code",
      "metadata": {
        "id": "Av479ULcMJgD"
      },
      "source": [
        "#Getting the dataframe info\n",
        "df.info()"
      ],
      "execution_count": null,
      "outputs": []
    },
    {
      "cell_type": "markdown",
      "metadata": {
        "id": "Cpb-uz_SmNT7"
      },
      "source": [
        "##Data consistency and preliminary checks"
      ]
    },
    {
      "cell_type": "code",
      "metadata": {
        "colab": {
          "base_uri": "https://localhost:8080/"
        },
        "id": "yvXVGjwiVqGv",
        "outputId": "15d3b306-4fde-4bd3-d40f-e17ae70253eb"
      },
      "source": [
        "#Explore lot code variability with endswith\n",
        "df['Lot code'].apply(lambda x: str(x).endswith('-1')).value_counts(normalize=True)"
      ],
      "execution_count": null,
      "outputs": [
        {
          "output_type": "execute_result",
          "data": {
            "text/plain": [
              "True     0.752072\n",
              "False    0.247928\n",
              "Name: Lot code, dtype: float64"
            ]
          },
          "metadata": {
            "tags": []
          },
          "execution_count": 11
        }
      ]
    },
    {
      "cell_type": "code",
      "metadata": {
        "colab": {
          "base_uri": "https://localhost:8080/"
        },
        "id": "KsLmCUu1f2ZK",
        "outputId": "b2ab7ce1-eae5-4b94-adb8-c7b5bc18ebdc"
      },
      "source": [
        "#Explore Lot code variability of values through length\n",
        "df['Lot code'].str.len().value_counts(dropna=False)"
      ],
      "execution_count": null,
      "outputs": [
        {
          "output_type": "execute_result",
          "data": {
            "text/plain": [
              "12.0    2237\n",
              "NaN      348\n",
              "11.0      45\n",
              "9.0       13\n",
              "3.0        4\n",
              "15.0       2\n",
              "10.0       2\n",
              "7.0        1\n",
              "17.0       1\n",
              "8.0        1\n",
              "Name: Lot code, dtype: int64"
            ]
          },
          "metadata": {
            "tags": []
          },
          "execution_count": 10
        }
      ]
    },
    {
      "cell_type": "code",
      "metadata": {
        "colab": {
          "base_uri": "https://localhost:8080/"
        },
        "id": "Vm3SGZjhCQ5M",
        "outputId": "7445e013-1b44-4bc4-8a6b-60ba2768bf82"
      },
      "source": [
        "#Explore Lot code variability of normalized values through length\n",
        "df['Lot code'].str.len().value_counts(normalize=True, dropna=False)"
      ],
      "execution_count": null,
      "outputs": [
        {
          "output_type": "execute_result",
          "data": {
            "text/plain": [
              "12.0    0.843255\n",
              "NaN     0.131123\n",
              "11.0    0.016579\n",
              "9.0     0.004898\n",
              "3.0     0.001507\n",
              "15.0    0.000754\n",
              "10.0    0.000754\n",
              "7.0     0.000377\n",
              "17.0    0.000377\n",
              "8.0     0.000377\n",
              "Name: Lot code, dtype: float64"
            ]
          },
          "metadata": {
            "tags": []
          },
          "execution_count": 11
        }
      ]
    },
    {
      "cell_type": "markdown",
      "metadata": {
        "id": "HvLlulP7mc4q"
      },
      "source": [
        "##Custom functions to clean and format the data"
      ]
    },
    {
      "cell_type": "code",
      "metadata": {
        "id": "uGutgm7vdmmz",
        "colab": {
          "base_uri": "https://localhost:8080/"
        },
        "outputId": "6fbc352a-6abb-4973-843c-8cce5f238d23"
      },
      "source": [
        "#Create a copy of the dataframe and compute the production date and traceability\n",
        "lot_codes = df.copy()\n",
        "lot_codes = df[df['Lot code'].str.len() == 12].reset_index(drop=True)\n",
        "lot_codes.shape"
      ],
      "execution_count": null,
      "outputs": [
        {
          "output_type": "execute_result",
          "data": {
            "text/plain": [
              "(2238, 35)"
            ]
          },
          "metadata": {
            "tags": []
          },
          "execution_count": 17
        }
      ]
    },
    {
      "cell_type": "code",
      "metadata": {
        "id": "ancdG8iwELYK"
      },
      "source": [
        "#Create a function to extract information from the lot code and clean the data from erroneous lot codes\n",
        "\n",
        "def extract_lot(df):\n",
        "  \"\"\"Function that extracts information from the lot code by Line, Year, Week, Day, Shift and Machine\n",
        "  and cleans the lot code from incorrect values\"\"\"\n",
        "  \n",
        "  #Split lot code into subcategories if 'Lot code' is found in columns\n",
        "  if 'Lot code' in df.columns:\n",
        "    lot = df.copy()\n",
        "    lot = lot.assign(Line = lambda x: x['Lot code'].str[-9:-7],\n",
        "                    Year = lambda x: x['Lot code'].str[-7:-6],\n",
        "                    Week = lambda x: x['Lot code'].str[-6:-4],\n",
        "                    Day = lambda x: x['Lot code'].str[-4:-3],\n",
        "                    Shift = lambda x: x['Lot code'].str[-3:-2],\n",
        "                    Machine = lambda x: x['Lot code'].str[-1:],\n",
        "                    Incident_year = lambda x: x['Incident Date'].dt.year,\n",
        "                    Incident_week = lambda x: x['Incident Date'].dt.isocalendar().week,\n",
        "                    Incident_month = lambda x: x['Incident Date'].dt.month_name(),\n",
        "                    Incident_day = lambda x: x['Incident Date'].dt.day)\n",
        "    \n",
        "    #Creating patterns to clean the data\n",
        "    pattern_1 = '1|2|3' #==> Allow for only machine or shifts to be 1, 2 or 3\n",
        "    pattern_days = '1|2|3|4|5|6|7' #==> Allow for only days from 1 to 7.\n",
        "    pattern_week = \"|\".join([str(elem) for elem in [\"0\"+str(i) if len(str(i))==1 else str(i) for i in range(1,53)]]) #==> Allow only from weeks 1 to 52.\n",
        "    pattern_year = \"8|9|0|1\" #==> Allow for only years 2018, 2019, 2020, 2021\n",
        "\n",
        "    #Apply patterns to filter data from incorrect values\n",
        "    lot = lot[(lot['Shift'].str.contains(pattern_1, regex=True)) &\n",
        "              (lot['Machine'].str.contains(pattern_1, regex=True)) &\n",
        "              (lot['Day'].str.contains(pattern_days, regex=True)) &\n",
        "              (lot['Week'].str.contains(pattern_week, regex=True)) &\n",
        "              (lot['Year'].str.contains(pattern_year, regex=True))]\n",
        "\n",
        "    return lot\n",
        "  \n",
        "  else:\n",
        "    Print(\"Key Error: 'Lote code' not found in dataframe columns\")"
      ],
      "execution_count": null,
      "outputs": []
    },
    {
      "cell_type": "code",
      "metadata": {
        "id": "tgsXEgn0gSCY"
      },
      "source": [
        "#Extract lot code information and top lots with more complaints\n",
        "lot_df = extract_lot(df=lot_codes)\n",
        "lot_df.tail(2)"
      ],
      "execution_count": null,
      "outputs": []
    },
    {
      "cell_type": "code",
      "metadata": {
        "colab": {
          "base_uri": "https://localhost:8080/"
        },
        "id": "hJXJR54yPOvc",
        "outputId": "39f54f3b-b66c-42b6-aebd-13925c4786cd"
      },
      "source": [
        "#Testing new values for one computed column from lot code\n",
        "lot_df['Day'].value_counts(dropna=False)"
      ],
      "execution_count": null,
      "outputs": [
        {
          "output_type": "execute_result",
          "data": {
            "text/plain": [
              "4    448\n",
              "3    444\n",
              "2    433\n",
              "1    406\n",
              "5    350\n",
              "6     93\n",
              "7     36\n",
              "Name: Day, dtype: int64"
            ]
          },
          "metadata": {
            "tags": []
          },
          "execution_count": 13
        }
      ]
    },
    {
      "cell_type": "code",
      "metadata": {
        "id": "ejSijVVn8HUN"
      },
      "source": [
        "#Create a function to format data extracted from lot code function\n",
        "\n",
        "def format_lot(df):\n",
        "  \"\"\"Function that formats data extracted from lot code\"\"\"\n",
        "  \n",
        "  if 'Year' and 'Week' and 'Day' in df.columns:\n",
        "\n",
        "    #Creating a copy of the dataframe\n",
        "    lot_df = df.copy()\n",
        "\n",
        "    #Creating relationships to convert data to desired output\n",
        "    years = {'8': 2018, '9': 2019, '0': 2020, '1': 2021, '2': 2022}\n",
        "    sundays = {'7': '0'}\n",
        "    day_names = {'1':'Monday', '2':'Tuesday', '3':'Wednesday', '4':'Thursday', '5':'Friday', '6':'Saturday', '0':'Sunday'}\n",
        "    shift = {'1': 'Day', '2': 'Afternoon', '3': 'Night'}\n",
        "\n",
        "    #Transforming year from single integer to full year\n",
        "    lot_df = lot_df.assign(Year = lambda x: x['Year'].replace(years))\n",
        "    \n",
        "    #Parse lot code columns into datetime\n",
        "    lot_df = lot_df.assign(Day = lambda x: x['Day'].replace(sundays))\n",
        "    lot_df = lot_df.assign(Lot_date = lambda x: x['Year'].astype(int)*1000 + x['Week'].astype(int)*10 + x['Day'].astype(int))\n",
        "    lot_df = lot_df.assign(Lot_date = pd.to_datetime(lot_df['Lot_date'], format='%Y%W%w'))\n",
        "\n",
        "    #Calculating lot turnover (days) from production date to complaint date\n",
        "    lot_df = lot_df.assign(Lot_turnover_days = lambda x: (x['Incident Date'] - x['Lot_date']).abs())\n",
        "    lot_df = lot_df.assign(Lot_turnover_weeks = lambda x: round((x['Lot_turnover_days'].dt.days)/7, 2))\n",
        "\n",
        "    #Transforming day and shift from numbers to string representation\n",
        "    lot_df = lot_df.assign(Day = lambda x: x['Day'].replace(day_names),\n",
        "                           Shift = lambda x: x['Shift'].replace(shift))\n",
        "  \n",
        "    #Formatting columns from string to integer\n",
        "    lot_df = lot_df.assign(Week = lambda x: x['Week'].astype(int)).reset_index(drop=True)\n",
        "\n",
        "    return lot_df\n",
        "  \n",
        "  else:\n",
        "    Print(\"Key Error: 'Year, Week, Day' not found in dataframe columns\")"
      ],
      "execution_count": null,
      "outputs": []
    },
    {
      "cell_type": "code",
      "metadata": {
        "id": "-_G0thEIQbj4"
      },
      "source": [
        "#Transform and format data extracted from lot code information\n",
        "lot_df = format_lot(df=lot_df)\n",
        "lot_df.tail(2)"
      ],
      "execution_count": null,
      "outputs": []
    },
    {
      "cell_type": "code",
      "metadata": {
        "colab": {
          "base_uri": "https://localhost:8080/",
          "height": 17
        },
        "id": "KHijjM-KnOu7",
        "outputId": "a2c292b7-e7e2-47f8-ecda-49c419d1050b"
      },
      "source": [
        "#Exporting to excel into local disk\n",
        "from google.colab import files\n",
        "lot_df.to_excel('rekl_cleaned.xlsx', index=False) #==> Excluding index from file\n",
        "files.download('rekl_cleaned.xlsx')"
      ],
      "execution_count": null,
      "outputs": [
        {
          "output_type": "display_data",
          "data": {
            "application/javascript": [
              "\n",
              "    async function download(id, filename, size) {\n",
              "      if (!google.colab.kernel.accessAllowed) {\n",
              "        return;\n",
              "      }\n",
              "      const div = document.createElement('div');\n",
              "      const label = document.createElement('label');\n",
              "      label.textContent = `Downloading \"${filename}\": `;\n",
              "      div.appendChild(label);\n",
              "      const progress = document.createElement('progress');\n",
              "      progress.max = size;\n",
              "      div.appendChild(progress);\n",
              "      document.body.appendChild(div);\n",
              "\n",
              "      const buffers = [];\n",
              "      let downloaded = 0;\n",
              "\n",
              "      const channel = await google.colab.kernel.comms.open(id);\n",
              "      // Send a message to notify the kernel that we're ready.\n",
              "      channel.send({})\n",
              "\n",
              "      for await (const message of channel.messages) {\n",
              "        // Send a message to notify the kernel that we're ready.\n",
              "        channel.send({})\n",
              "        if (message.buffers) {\n",
              "          for (const buffer of message.buffers) {\n",
              "            buffers.push(buffer);\n",
              "            downloaded += buffer.byteLength;\n",
              "            progress.value = downloaded;\n",
              "          }\n",
              "        }\n",
              "      }\n",
              "      const blob = new Blob(buffers, {type: 'application/binary'});\n",
              "      const a = document.createElement('a');\n",
              "      a.href = window.URL.createObjectURL(blob);\n",
              "      a.download = filename;\n",
              "      div.appendChild(a);\n",
              "      a.click();\n",
              "      div.remove();\n",
              "    }\n",
              "  "
            ],
            "text/plain": [
              "<IPython.core.display.Javascript object>"
            ]
          },
          "metadata": {
            "tags": []
          }
        },
        {
          "output_type": "display_data",
          "data": {
            "application/javascript": [
              "download(\"download_a87660b0-9ec2-4995-b6ef-a6ff2e5335eb\", \"reklamer_lot.xlsx\", 726615)"
            ],
            "text/plain": [
              "<IPython.core.display.Javascript object>"
            ]
          },
          "metadata": {
            "tags": []
          }
        }
      ]
    },
    {
      "cell_type": "markdown",
      "metadata": {
        "id": "5kGXFuZKpZGh"
      },
      "source": [
        "###Consistenty checks from function calls"
      ]
    },
    {
      "cell_type": "code",
      "metadata": {
        "id": "H7Sv-d0Tdf-b"
      },
      "source": [
        "lot_df[lot_df['Brand']=='JENSEN 5']['Lot_turnover_weeks'].describe()"
      ],
      "execution_count": null,
      "outputs": []
    },
    {
      "cell_type": "code",
      "metadata": {
        "id": "wkZ2B4dltmbo"
      },
      "source": [
        "lot_df['Lot_date'][-1:].dt.isocalendar().week"
      ],
      "execution_count": null,
      "outputs": []
    },
    {
      "cell_type": "code",
      "metadata": {
        "id": "SNBeLR1JC_lx"
      },
      "source": [
        "lot_df.info()"
      ],
      "execution_count": null,
      "outputs": []
    },
    {
      "cell_type": "code",
      "metadata": {
        "id": "Xk51yuOn7Rgm"
      },
      "source": [
        "lot_df[lot_df['Reason Sub Category']=='FAT BLOOM']['Reason Category'].value_counts(dropna=False)"
      ],
      "execution_count": null,
      "outputs": []
    },
    {
      "cell_type": "code",
      "metadata": {
        "id": "2LHrTf9wmpXz"
      },
      "source": [
        "lot_df['Primary Root Cause'].value_counts(dropna=False)"
      ],
      "execution_count": null,
      "outputs": []
    },
    {
      "cell_type": "code",
      "metadata": {
        "colab": {
          "base_uri": "https://localhost:8080/"
        },
        "id": "lUQoFnN4ZnKz",
        "outputId": "650decc0-b2e4-419e-e64a-3371fc9b31f3"
      },
      "source": [
        "lot_df.columns"
      ],
      "execution_count": null,
      "outputs": [
        {
          "output_type": "execute_result",
          "data": {
            "text/plain": [
              "Index(['Month Description', 'Incident Date', 'Reason Type', 'Reason Category',\n",
              "       'Reason Sub Category', 'Primary Reason', 'Sensitive Complaint Flag',\n",
              "       'Primary Root Cause', 'Sector', 'Sub Sector', 'Segment', 'Sub Segment',\n",
              "       'Product Cluster Description', 'Brand', 'Sub Brand',\n",
              "       'Product Description', 'UPC EAN Code', 'Kraft Item Code',\n",
              "       'Plant Location Name', 'Production Date', 'Best Used By Date',\n",
              "       'Lot code', 'Store Name', 'Store State', 'Consumer City',\n",
              "       'Consumer State', 'Consumer Country', 'Consumer Area',\n",
              "       'Consumer Region', 'Component', 'Native Verbatim', 'Incident Number',\n",
              "       'Contact ID', 'Column1', 'Weeknumber', 'Line', 'Year', 'Week', 'Day',\n",
              "       'Shift', 'Machine', 'Incident_year', 'Incident_week', 'Incident_month',\n",
              "       'Incident_day', 'Lot_date', 'Lot_turnover_days', 'Lot_turnover_weeks'],\n",
              "      dtype='object')"
            ]
          },
          "metadata": {
            "tags": []
          },
          "execution_count": 19
        }
      ]
    },
    {
      "cell_type": "code",
      "metadata": {
        "id": "QMqzJqlwbOep"
      },
      "source": [
        "lot_df['Segment'].value_counts(dropna=False)"
      ],
      "execution_count": null,
      "outputs": []
    },
    {
      "cell_type": "markdown",
      "metadata": {
        "id": "qj70Hg7-WiuA"
      },
      "source": [
        "#Exploratory Data Analysis"
      ]
    },
    {
      "cell_type": "markdown",
      "metadata": {
        "id": "Ifu1UK2WqoWY"
      },
      "source": [
        "##Upload cleaned data"
      ]
    },
    {
      "cell_type": "code",
      "metadata": {
        "id": "lVp2g_2Yqx8g"
      },
      "source": [
        "#Remove previous versions of the uploaded excel file\n",
        "!rm rekl_cleaned.xlsx"
      ],
      "execution_count": null,
      "outputs": []
    },
    {
      "cell_type": "code",
      "metadata": {
        "id": "qQQuW9-Yqx8o"
      },
      "source": [
        "#Uploading file from local drive\n",
        "from google.colab import files\n",
        "uploaded = files.upload()"
      ],
      "execution_count": null,
      "outputs": []
    },
    {
      "cell_type": "code",
      "metadata": {
        "id": "mZIc-1qZqx8o"
      },
      "source": [
        "#Storing dataset in a Pandas Dataframe\n",
        "import io\n",
        "lot_df = pd.read_excel(io.BytesIO(uploaded['rekl_cleaned.xlsx']), parse_dates=True)"
      ],
      "execution_count": 7,
      "outputs": []
    },
    {
      "cell_type": "code",
      "metadata": {
        "colab": {
          "base_uri": "https://localhost:8080/"
        },
        "id": "kYbRQfX0zeM7",
        "outputId": "d609c781-f641-4f8c-c551-d40b7840c1a1"
      },
      "source": [
        "lot_df.info()"
      ],
      "execution_count": 8,
      "outputs": [
        {
          "output_type": "stream",
          "text": [
            "<class 'pandas.core.frame.DataFrame'>\n",
            "RangeIndex: 2210 entries, 0 to 2209\n",
            "Data columns (total 40 columns):\n",
            " #   Column                    Non-Null Count  Dtype         \n",
            "---  ------                    --------------  -----         \n",
            " 0   Incident Date             2210 non-null   datetime64[ns]\n",
            " 1   Reason Category           2210 non-null   object        \n",
            " 2   Reason Sub Category       2210 non-null   object        \n",
            " 3   Primary Reason            2210 non-null   object        \n",
            " 4   Sensitive Complaint Flag  2210 non-null   object        \n",
            " 5   Primary Root Cause        2210 non-null   object        \n",
            " 6   Sub Sector                2210 non-null   object        \n",
            " 7   Brand                     2210 non-null   object        \n",
            " 8   Sub Brand                 2210 non-null   object        \n",
            " 9   Product Description       2210 non-null   object        \n",
            " 10  Plant Location Name       2210 non-null   object        \n",
            " 11  Production Date           2210 non-null   object        \n",
            " 12  Best Used By Date         2210 non-null   datetime64[ns]\n",
            " 13  Lot code                  2210 non-null   object        \n",
            " 14  Store Name                2210 non-null   object        \n",
            " 15  Store State               0 non-null      float64       \n",
            " 16  Consumer City             2121 non-null   object        \n",
            " 17  Consumer State            2210 non-null   object        \n",
            " 18  Consumer Country          2210 non-null   object        \n",
            " 19  Consumer Area             2210 non-null   object        \n",
            " 20  Consumer Region           2210 non-null   object        \n",
            " 21  Component                 2210 non-null   object        \n",
            " 22  Native Verbatim           2210 non-null   object        \n",
            " 23  Incident Number           2210 non-null   object        \n",
            " 24  Contact ID                2210 non-null   object        \n",
            " 25  Column1                   2210 non-null   int64         \n",
            " 26  Weeknumber                2210 non-null   int64         \n",
            " 27  Line                      2210 non-null   int64         \n",
            " 28  Year                      2210 non-null   int64         \n",
            " 29  Week                      2210 non-null   int64         \n",
            " 30  Day                       2210 non-null   object        \n",
            " 31  Shift                     2210 non-null   object        \n",
            " 32  Machine                   2210 non-null   int64         \n",
            " 33  Incident_year             2210 non-null   int64         \n",
            " 34  Incident_week             2210 non-null   int64         \n",
            " 35  Incident_month            2210 non-null   object        \n",
            " 36  Incident_day              2210 non-null   int64         \n",
            " 37  Lot_date                  2210 non-null   datetime64[ns]\n",
            " 38  Lot_turnover_days         2210 non-null   int64         \n",
            " 39  Lot_turnover_weeks        2210 non-null   float64       \n",
            "dtypes: datetime64[ns](3), float64(2), int64(10), object(25)\n",
            "memory usage: 690.8+ KB\n"
          ],
          "name": "stdout"
        }
      ]
    },
    {
      "cell_type": "markdown",
      "metadata": {
        "id": "VZzy1t2E2siD"
      },
      "source": [
        "##Function to plot the starting point of complaints"
      ]
    },
    {
      "cell_type": "code",
      "metadata": {
        "id": "KNTga4ZLE9vp"
      },
      "source": [
        "#Creating a function to plot the starting point of complaints\n",
        "\n",
        "def plot_lot(year, brand):\n",
        "  \"\"\"Custom function to plot the starting point of complaints tracked from the\n",
        "  production lots and select visualizations according to Year and Line categories\"\"\"\n",
        "  \n",
        "  #Creating a slice and copy of input dataframe\n",
        "  shifts_df = lot_df[['Year', 'Week', 'Day', 'Shift', 'Machine', 'Brand', 'Sub Brand', 'Incident Date']].copy()\n",
        "  shifts_df = shifts_df[(shifts_df['Year']==year) & (shifts_df['Brand']==brand)]\n",
        "  \n",
        "  print(shifts_df['Incident Date'].count())\n",
        "  #Transforming dataframes for visualizations\n",
        "  weeks_df = shifts_df.groupby(['Year', 'Week'])['Incident Date'].count().reset_index(name='Complaints')\n",
        "  weeks_df = weeks_df.assign(Category = lambda x: np.where(x['Complaints']<12, 'Low', np.where(x['Complaints']<33, 'Medium', 'Large')))\n",
        "  #rotation_df = shifts_df.groupby(['Year', 'Shift'])['Incident Date'].count().reset_index(name='Complaints')\n",
        "  \n",
        "  #Creating constants for plotting\n",
        "  week_names = ['Monday', 'Tuesday', 'Wednesday', 'Thursday', 'Friday', 'Saturday', 'Sunday']\n",
        "  shift_order = ['Day', 'Afternoon', 'Night']\n",
        "  hue_comp = ['Low', 'Medium', 'Large']\n",
        "  num_mach = [1, 2, 3]\n",
        "  siblred = ['#C0C0C0', '#4374B3', '#FF0B04'] #=>#RdYlGn_r | nipy_spectral\n",
        "\n",
        "  #Create four subplots and unpack the output array immediately\n",
        "  fig, ((ax1, ax2), (ax3, ax4)) = plt.subplots(nrows=2, ncols=2, figsize=(20,10))\n",
        "\n",
        "  #Set title for the figure\n",
        "  fig.suptitle(\"Complaints tracking to starting point\", fontsize=24)\n",
        "\n",
        "  #Accessing axes objects and plotting\n",
        "  sns.lineplot(x='Week', y='Complaints', data=weeks_df, estimator='sum', ci=False, alpha=0.5, ax=ax1)\n",
        "  sns.scatterplot(x='Week', y='Complaints', hue='Category', hue_order=hue_comp, data=weeks_df, palette=siblred, ax=ax1)\n",
        "  sns.countplot(x='Day', data=shifts_df, order=week_names, ax=ax2)\n",
        "  sns.countplot(x='Shift', data=shifts_df, order=shift_order, ax=ax3)\n",
        "  sns.countplot(x='Machine', data=shifts_df, order=num_mach, ax=ax4)\n",
        "  \n",
        "  #Customizing axes labels and titles for first axes figure\n",
        "  ax1.set_xlabel('Week')\n",
        "  ax1.set_ylabel('Complaints')\n",
        "  ax1.set_title('By Week')\n",
        "  ax1.xaxis.set_ticks(np.arange(1, 52, 2))\n",
        "\n",
        "  #Customizing axes labels and titles for second axes figure\n",
        "  ax2.set_xlabel('Days of Week')\n",
        "  ax2.set_ylabel('Complaints')\n",
        "  ax2.set_title('By Day of the Week')\n",
        "\n",
        "  #Customizing axes labels and titles for third axes figure\n",
        "  ax3.set_xlabel('Shifts')\n",
        "  ax3.set_ylabel('Complaints')\n",
        "  ax3.set_title('By Shift')\n",
        "\n",
        "  #Customizing axes labels and titles for fourth axes figure\n",
        "  ax4.set_xlabel('Machine')\n",
        "  ax4.set_ylabel('Complaints')\n",
        "  ax4.set_title('By Machine')\n",
        "\n",
        "  #Prevent from axis to colliding or overlaping one another.\n",
        "  fig.tight_layout()\n",
        "  fig.subplots_adjust(top=0.88)"
      ],
      "execution_count": 9,
      "outputs": []
    },
    {
      "cell_type": "markdown",
      "metadata": {
        "id": "1OLEm1rSqj0W"
      },
      "source": [
        "##Where are the starting points of our complaints?"
      ]
    },
    {
      "cell_type": "code",
      "metadata": {
        "id": "FctMdoW3OBFy",
        "colab": {
          "base_uri": "https://localhost:8080/",
          "height": 798,
          "referenced_widgets": [
            "9796b805a9f546cbabf12bfa4a3cb594",
            "c102b89cbbc14f3594ed64903415940a",
            "ef6730534e7146f18d3b32b06697455a",
            "89f3ebc4710f4a91894506de8cca85ac",
            "ec70c6b402144eb686b87254992999d5",
            "6a32a1a881ed45f39210daa3e7bde07e",
            "9e40171eddfc4969b709682d26d9f16a",
            "3c7697b0ccb341b8877c7958e83e893d",
            "481cecbc8b65449f81a291b2eea2c006",
            "95f9feb4e1fc47489b63fc508ca83c95"
          ]
        },
        "outputId": "ef3a8e76-a123-4f74-9ed9-5236f434ed8e"
      },
      "source": [
        "#Generating widgets options\n",
        "yr = [2020, 2021]\n",
        "lines = list(lot_df['Brand'].unique())\n",
        "\n",
        "#Plotting Complaints for Oslo Plant with interactive widgets\n",
        "interact(plot_lot, brand=widgets.Dropdown(options=lines, value=lines[0], description='Line', disabled=False),\n",
        "         year=widgets.Dropdown(options=yr, value=yr[0], description='Year', disabled=False))\n",
        "plt.show()"
      ],
      "execution_count": 10,
      "outputs": [
        {
          "output_type": "display_data",
          "data": {
            "application/vnd.jupyter.widget-view+json": {
              "model_id": "9796b805a9f546cbabf12bfa4a3cb594",
              "version_minor": 0,
              "version_major": 2
            },
            "text/plain": [
              "interactive(children=(Dropdown(description='Year', options=(2020, 2021), value=2020), Dropdown(description='Li…"
            ]
          },
          "metadata": {
            "tags": []
          }
        }
      ]
    },
    {
      "cell_type": "markdown",
      "metadata": {
        "id": "JR0jrss1623_"
      },
      "source": [
        "##Function to plot the products and categories"
      ]
    },
    {
      "cell_type": "code",
      "metadata": {
        "id": "iNAB_MyY3SiT"
      },
      "source": [
        "#Creating a function to plot the values\n",
        "\n",
        "def plot_products(year, brand, category, top_num):\n",
        "  \"\"\"Custom function to plot the worst products and select different visualizations\n",
        "  according to Year, Brand and Number of products\"\"\"\n",
        "  \n",
        "  #Creating a slice and copy of input dataframe\n",
        "  brand_df = lot_df[['Year', 'Brand', 'Sub Brand', 'Incident Date', 'Lot_date', 'Lot_turnover_weeks', 'Reason Category', 'Consumer Country', 'Primary Root Cause']].copy()\n",
        "  brand_df = brand_df[(brand_df['Year']==year) & (brand_df['Brand']==brand) & (brand_df['Reason Category']==category)]\n",
        "  \n",
        "  print(brand_df['Brand'].count())\n",
        "  #Transforming dataframes for visualizations\n",
        "  sku_df = brand_df.groupby(['Sub Brand'])['Reason Category'].count().reset_index(name='Complaints').sort_values(by='Complaints', ascending=False)\n",
        "  root_df = brand_df.groupby(['Primary Root Cause'])['Reason Category'].count().reset_index(name='Complaints').sort_values(by='Complaints', ascending=False)\n",
        "  turnover_df =  brand_df.groupby(['Sub Brand'])['Lot_turnover_weeks'].mean().reset_index(name='Weeks').sort_values(by='Weeks', ascending=False)\n",
        "  country_df = brand_df.groupby(['Consumer Country'])['Reason Category'].count().reset_index(name='Complaints').sort_values(by='Complaints', ascending=False)\n",
        "\n",
        "  #print(turnover_df.tail(20))\n",
        "\n",
        "  #Creating constants for plotting\n",
        "  week_names = ['Monday', 'Tuesday', 'Wednesday', 'Thursday', 'Friday', 'Saturday', 'Sunday']\n",
        "\n",
        "  #Create four subplots and unpack the output array immediately\n",
        "  fig, ((ax1, ax2), (ax3, ax4)) = plt.subplots(nrows=2, ncols=2, figsize=(20,10))\n",
        "\n",
        "  #Set title for the figure\n",
        "  fig.suptitle(f\"Top {top_num} Complaints in {brand} for {year}\", fontsize=24)\n",
        "\n",
        "  #Accessing axes objects and plotting\n",
        "  sns.barplot(x='Complaints', y='Sub Brand', data=sku_df[:top_num], ci=False, ax=ax1)\n",
        "  sns.barplot(x='Complaints', y='Primary Root Cause', data=root_df[:top_num], ci=False, ax=ax2)\n",
        "  sns.barplot(x='Weeks', y='Sub Brand', data=turnover_df[:top_num], ci=False, ax=ax3)\n",
        "  sns.barplot(x='Complaints', y='Consumer Country', data=country_df[:top_num], ci=False, ax=ax4)\n",
        "    \n",
        "  #Customizing axes labels and titles for first axes figure\n",
        "  ax1.set_xlabel('Complaints')\n",
        "  ax1.set_ylabel('Products')\n",
        "  ax1.set_title('By Products')\n",
        "  #ax1.xaxis.set_ticks(np.arange(1, 52, 2))\n",
        "\n",
        "  #Customizing axes labels and titles for second axes figure\n",
        "  ax2.set_xlabel('Complaints')\n",
        "  ax2.set_ylabel('Primary Root Cause')\n",
        "  ax2.set_title('By Root Cause')\n",
        "\n",
        "  #Customizing axes labels and titles for third axes figure\n",
        "  ax3.set_xlabel('Weeks')\n",
        "  ax3.set_ylabel('Products')\n",
        "  ax3.set_title('By Turnover Time')\n",
        "\n",
        "  #Customizing axes labels and titles for fourth axes figure\n",
        "  ax4.set_xlabel('Complaints')\n",
        "  ax4.set_ylabel('Country')\n",
        "  ax4.set_title('By Country')\n",
        "\n",
        "  #Prevent from axis to colliding or overlaping one another.\n",
        "  fig.tight_layout()\n",
        "  fig.subplots_adjust(top=0.88)"
      ],
      "execution_count": 11,
      "outputs": []
    },
    {
      "cell_type": "markdown",
      "metadata": {
        "id": "NKBCu64AOH9m"
      },
      "source": [
        "## What are the top causes for our complaints?"
      ]
    },
    {
      "cell_type": "code",
      "metadata": {
        "id": "XisAoBNRBlf3",
        "colab": {
          "base_uri": "https://localhost:8080/",
          "height": 862,
          "referenced_widgets": [
            "ee8e4d2f6ac14fa5aff691ffc9ad22ce",
            "7482ff721694482f8fecc8ff84f5cd1d",
            "494fe2b9024642309374036bc196b083",
            "c15713c0331b40eea2013eb105e79511",
            "b422688d57844c31af3f7f117a3642d2",
            "266ba82c8727448ba86bf5fa4e1e4bee",
            "d5eb0762acef4439a8e9555149e191e4",
            "ade389be40294514b1d7b9ed3fc2d5ff",
            "ceab3cb309104db980d7964ff76c7c9c",
            "0ead125d81ab43f28c18f6f53da85089",
            "dc01243c2f46418cade8982ec98187d6",
            "40e8638f5e4146ea98b1bdef2be7bcc5",
            "c2ffd06943544c1fb5e62e992fc46b6a",
            "99198f094bb84dc4b883c607f721cd2f",
            "f93aad0b2020459e8812322318af729b",
            "4d918c3e352347f9ba238fd6bde993b2"
          ]
        },
        "outputId": "a6e77a24-65cd-497e-d898-ff31e1ee69e3"
      },
      "source": [
        "#Generating widgets options\n",
        "yr = [2020]\n",
        "lines = list(lot_df['Brand'].unique())\n",
        "cat = ['APPEARANCE', 'FOREIGN MATERIAL', 'INFESTATION', 'PACKAGE QUANTITY', 'PACKAGE QUALITY', 'PRODUCT QUANTITY', 'TASTE', 'TEXTURE']\n",
        "\n",
        "#Plotting Complaints with interactive widgets\n",
        "interact(plot_products, brand=widgets.Dropdown(options=lines, value=lines[0], description='Line', disabled=False),\n",
        "         year=widgets.Dropdown(options=yr, value=yr[0], description='Year', disabled=False),\n",
        "         category=widgets.Dropdown(options=cat, value=cat[0], description='Categories', disabled=False),\n",
        "         top_num=widgets.IntSlider(value=5, min=1, max=10, step=1, description='Top', disabled=False))\n",
        "plt.show()"
      ],
      "execution_count": 12,
      "outputs": [
        {
          "output_type": "display_data",
          "data": {
            "application/vnd.jupyter.widget-view+json": {
              "model_id": "ee8e4d2f6ac14fa5aff691ffc9ad22ce",
              "version_minor": 0,
              "version_major": 2
            },
            "text/plain": [
              "interactive(children=(Dropdown(description='Year', options=(2020,), value=2020), Dropdown(description='Line', …"
            ]
          },
          "metadata": {
            "tags": []
          }
        }
      ]
    },
    {
      "cell_type": "code",
      "metadata": {
        "id": "r5ll_3CP2dyV"
      },
      "source": [
        "pip freeze"
      ],
      "execution_count": null,
      "outputs": []
    }
  ]
}