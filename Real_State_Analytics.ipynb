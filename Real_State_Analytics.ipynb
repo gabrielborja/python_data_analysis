{
  "nbformat": 4,
  "nbformat_minor": 0,
  "metadata": {
    "colab": {
      "name": "Real State Analytics.ipynb",
      "provenance": [],
      "authorship_tag": "ABX9TyNIeCrS6RgPFCOrm9NybiUR",
      "include_colab_link": true
    },
    "kernelspec": {
      "name": "python3",
      "display_name": "Python 3"
    },
    "language_info": {
      "name": "python"
    }
  },
  "cells": [
    {
      "cell_type": "markdown",
      "metadata": {
        "id": "view-in-github",
        "colab_type": "text"
      },
      "source": [
        "<a href=\"https://colab.research.google.com/github/gabrielborja/python_data_analysis/blob/main/Real_State_Analytics.ipynb\" target=\"_parent\"><img src=\"https://colab.research.google.com/assets/colab-badge.svg\" alt=\"Open In Colab\"/></a>"
      ]
    },
    {
      "cell_type": "markdown",
      "metadata": {
        "id": "eTZwpRZNRhGY"
      },
      "source": [
        "#Real State Analytics"
      ]
    },
    {
      "cell_type": "markdown",
      "metadata": {
        "id": "urSYFOWesvzU"
      },
      "source": [
        "Real state data from Suites for sale in 'La Carolina' in Quito - Ecuador can be obtained from the following link [here](https://www.properati.com.ec/s/la-carolina/departamento/venta/m2:60-70_habitaciones:1/?sort=published_on_desc)"
      ]
    },
    {
      "cell_type": "markdown",
      "metadata": {
        "id": "sgzkv1LwjLIL"
      },
      "source": [
        "## Uploading packages and data"
      ]
    },
    {
      "cell_type": "code",
      "metadata": {
        "id": "QTRtRZcb-IyF"
      },
      "source": [
        "import requests\n",
        "import pprint\n",
        "from bs4 import BeautifulSoup as bs"
      ],
      "execution_count": 8,
      "outputs": []
    },
    {
      "cell_type": "code",
      "metadata": {
        "id": "aKlBGzwCHrK9"
      },
      "source": [
        "#Plotly --upgrade\n",
        "!pip install plotly --upgrade"
      ],
      "execution_count": null,
      "outputs": []
    },
    {
      "cell_type": "code",
      "metadata": {
        "colab": {
          "base_uri": "https://localhost:8080/"
        },
        "id": "E9IfmHJAJZAx",
        "outputId": "9e2661ed-e2f0-4ab1-a0ba-61c76de9e3f2"
      },
      "source": [
        "#Request data from URL\n",
        "url = 'https://www.properati.com.ec/s/la-carolina/departamento/venta/m2:60-70_habitaciones:1/?sort=published_on_desc'\n",
        "response = requests.get(url)\n",
        "print(response.status_code)"
      ],
      "execution_count": 2,
      "outputs": [
        {
          "output_type": "stream",
          "text": [
            "200\n"
          ],
          "name": "stdout"
        }
      ]
    },
    {
      "cell_type": "code",
      "metadata": {
        "colab": {
          "base_uri": "https://localhost:8080/"
        },
        "id": "tQNwKkbQS7aT",
        "outputId": "e7b8b609-fc16-4c67-dd74-8f13cec1b371"
      },
      "source": [
        "#Print first 200 characters from the HTML\n",
        "pprint.pprint(response.text[:200])"
      ],
      "execution_count": 6,
      "outputs": [
        {
          "output_type": "stream",
          "text": [
            "('<!DOCTYPE html><html lang=\"es-EC\"><head><style data-styled=\"cVrwCh hPeyFD '\n",
            " 'jYjReO gnhday gpVkLR dxpaVS bthhka czzzpz bkRiDO kuucCe eMNdyn dvSwZS bKXQnq '\n",
            " 'SUNlS bNHCyt dsYucZ jUvxaS fRtNaN gVFMpO epxrlA c')\n"
          ],
          "name": "stdout"
        }
      ]
    },
    {
      "cell_type": "code",
      "metadata": {
        "colab": {
          "base_uri": "https://localhost:8080/"
        },
        "id": "RCa3W3lZJ4iG",
        "outputId": "b0487243-b4fa-4c68-ec6d-53ac13d6c3a2"
      },
      "source": [
        "#Save HTML data \n",
        "page_1 = response.text\n",
        "type(page_1)"
      ],
      "execution_count": 7,
      "outputs": [
        {
          "output_type": "execute_result",
          "data": {
            "text/plain": [
              "str"
            ]
          },
          "metadata": {
            "tags": []
          },
          "execution_count": 7
        }
      ]
    },
    {
      "cell_type": "code",
      "metadata": {
        "colab": {
          "base_uri": "https://localhost:8080/"
        },
        "id": "V69OoRjkT9zw",
        "outputId": "9cf47649-f669-4bf2-ca10-d74f8274ef0f"
      },
      "source": [
        "#Parse through HTML with BeautifulSoup\n",
        "soup = bs(page_1)\n",
        "type(soup)"
      ],
      "execution_count": 11,
      "outputs": [
        {
          "output_type": "execute_result",
          "data": {
            "text/plain": [
              "bs4.BeautifulSoup"
            ]
          },
          "metadata": {
            "tags": []
          },
          "execution_count": 11
        }
      ]
    },
    {
      "cell_type": "code",
      "metadata": {
        "colab": {
          "base_uri": "https://localhost:8080/"
        },
        "id": "pON3SOQlUTHX",
        "outputId": "26f27d30-d253-48bf-948b-26918faa50eb"
      },
      "source": [
        "#Find the header\n",
        "soup.find('h1')"
      ],
      "execution_count": 14,
      "outputs": [
        {
          "output_type": "execute_result",
          "data": {
            "text/plain": [
              "<h1 class=\"StyledTitle-mffpuc-0 efbvbW\">Departamentos en Venta en La Carolina, de 1 habitación, 60m² a 70m² </h1>"
            ]
          },
          "metadata": {
            "tags": []
          },
          "execution_count": 14
        }
      ]
    },
    {
      "cell_type": "code",
      "metadata": {
        "colab": {
          "base_uri": "https://localhost:8080/",
          "height": 35
        },
        "id": "5f_iD6sEUclS",
        "outputId": "08ad2cb6-acf7-48f1-be55-ae119f85bd9c"
      },
      "source": [
        "#Find the text inside the header\n",
        "soup.find('h1').text"
      ],
      "execution_count": 15,
      "outputs": [
        {
          "output_type": "execute_result",
          "data": {
            "application/vnd.google.colaboratory.intrinsic+json": {
              "type": "string"
            },
            "text/plain": [
              "'Departamentos en Venta en La Carolina, de 1 habitación, 60m² a 70m² '"
            ]
          },
          "metadata": {
            "tags": []
          },
          "execution_count": 15
        }
      ]
    },
    {
      "cell_type": "markdown",
      "metadata": {
        "id": "tqw9KPTaMUqA"
      },
      "source": [
        "##Data Cleaning"
      ]
    },
    {
      "cell_type": "code",
      "metadata": {
        "id": "bEZ1_KyKMXNw"
      },
      "source": [
        "#Importing necessary packages\n",
        "import numpy as np\n",
        "import pandas as pd\n",
        "import matplotlib.pyplot as plt\n",
        "import plotly.express as px"
      ],
      "execution_count": null,
      "outputs": []
    },
    {
      "cell_type": "code",
      "metadata": {
        "id": "vSOggGBTT1iG"
      },
      "source": [
        "#Remove previous versions of the uploaded file\n",
        "!rm GlobalLandTemperaturesByCountry.csv"
      ],
      "execution_count": null,
      "outputs": []
    },
    {
      "cell_type": "code",
      "metadata": {
        "id": "oen97ED1-rh-"
      },
      "source": [
        "#Uploading file from local drive\n",
        "from google.colab import files\n",
        "uploaded1 = files.upload()"
      ],
      "execution_count": null,
      "outputs": []
    },
    {
      "cell_type": "code",
      "metadata": {
        "id": "03VoNwL0-3O6"
      },
      "source": [
        "#Storing dataset in a Pandas Dataframe\n",
        "import io\n",
        "df1_dep = pd.read_csv(io.BytesIO(uploaded1['GlobalLandTemperaturesByCountry.csv']))"
      ],
      "execution_count": null,
      "outputs": []
    },
    {
      "cell_type": "code",
      "metadata": {
        "id": "6wPknHC-JSRB"
      },
      "source": [
        "#Checking the dataframe information\n",
        "df1_co.info()"
      ],
      "execution_count": null,
      "outputs": []
    }
  ]
}