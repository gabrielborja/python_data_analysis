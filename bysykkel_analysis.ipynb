{
  "nbformat": 4,
  "nbformat_minor": 0,
  "metadata": {
    "colab": {
      "name": "bysykkel_analysis.ipynb",
      "provenance": [],
      "collapsed_sections": [
        "c8cFTBBCngUc",
        "Tbg_Y30tVHIR",
        "pQNqlam8VRBB",
        "sXmSwrs_5ORx",
        "vbkkRr6AZ5BT"
      ],
      "authorship_tag": "ABX9TyO9k58eHaxkN7g0njoxqqXD",
      "include_colab_link": true
    },
    "kernelspec": {
      "name": "python3",
      "display_name": "Python 3"
    },
    "language_info": {
      "name": "python"
    },
    "widgets": {
      "application/vnd.jupyter.widget-state+json": {
        "ab52205ee05f48f0940567911df8f321": {
          "model_module": "@jupyter-widgets/controls",
          "model_name": "VBoxModel",
          "state": {
            "_view_name": "VBoxView",
            "_dom_classes": [
              "widget-interact"
            ],
            "_model_name": "VBoxModel",
            "_view_module": "@jupyter-widgets/controls",
            "_model_module_version": "1.5.0",
            "_view_count": null,
            "_view_module_version": "1.5.0",
            "box_style": "",
            "layout": "IPY_MODEL_ecf90e2e647f46c3b36342702df521c5",
            "_model_module": "@jupyter-widgets/controls",
            "children": [
              "IPY_MODEL_954e4d11b37744b7ab648237ed96adeb",
              "IPY_MODEL_8647390859c5455691259dfaaa3f7b56",
              "IPY_MODEL_4891cc2e50af43289a300fa21594018f",
              "IPY_MODEL_19fdf974f3fa448b88e4a449fbb75eb0",
              "IPY_MODEL_db5698d09d0244bea5436e501d6b0fb0"
            ]
          }
        },
        "ecf90e2e647f46c3b36342702df521c5": {
          "model_module": "@jupyter-widgets/base",
          "model_name": "LayoutModel",
          "state": {
            "_view_name": "LayoutView",
            "grid_template_rows": null,
            "right": null,
            "justify_content": null,
            "_view_module": "@jupyter-widgets/base",
            "overflow": null,
            "_model_module_version": "1.2.0",
            "_view_count": null,
            "flex_flow": null,
            "width": null,
            "min_width": null,
            "border": null,
            "align_items": null,
            "bottom": null,
            "_model_module": "@jupyter-widgets/base",
            "top": null,
            "grid_column": null,
            "overflow_y": null,
            "overflow_x": null,
            "grid_auto_flow": null,
            "grid_area": null,
            "grid_template_columns": null,
            "flex": null,
            "_model_name": "LayoutModel",
            "justify_items": null,
            "grid_row": null,
            "max_height": null,
            "align_content": null,
            "visibility": null,
            "align_self": null,
            "height": null,
            "min_height": null,
            "padding": null,
            "grid_auto_rows": null,
            "grid_gap": null,
            "max_width": null,
            "order": null,
            "_view_module_version": "1.2.0",
            "grid_template_areas": null,
            "object_position": null,
            "object_fit": null,
            "grid_auto_columns": null,
            "margin": null,
            "display": null,
            "left": null
          }
        },
        "954e4d11b37744b7ab648237ed96adeb": {
          "model_module": "@jupyter-widgets/controls",
          "model_name": "DropdownModel",
          "state": {
            "_options_labels": [
              "2020",
              "2021"
            ],
            "_view_name": "DropdownView",
            "style": "IPY_MODEL_0aecc53c12c44f22a1e3b818c1c55eff",
            "_dom_classes": [],
            "description": "Year",
            "_model_name": "DropdownModel",
            "index": 0,
            "_view_module": "@jupyter-widgets/controls",
            "_model_module_version": "1.5.0",
            "_view_count": null,
            "disabled": false,
            "_view_module_version": "1.5.0",
            "description_tooltip": null,
            "_model_module": "@jupyter-widgets/controls",
            "layout": "IPY_MODEL_f3e1b545af204553bd9467c8dc9b78bf"
          }
        },
        "8647390859c5455691259dfaaa3f7b56": {
          "model_module": "@jupyter-widgets/controls",
          "model_name": "DropdownModel",
          "state": {
            "_options_labels": [
              "January",
              "February",
              "March",
              "April",
              "May",
              "June",
              "July",
              "August",
              "September",
              "October",
              "November",
              "December"
            ],
            "_view_name": "DropdownView",
            "style": "IPY_MODEL_ce02c27de099444f9079ebcaa01bd173",
            "_dom_classes": [],
            "description": "Month",
            "_model_name": "DropdownModel",
            "index": 9,
            "_view_module": "@jupyter-widgets/controls",
            "_model_module_version": "1.5.0",
            "_view_count": null,
            "disabled": false,
            "_view_module_version": "1.5.0",
            "description_tooltip": null,
            "_model_module": "@jupyter-widgets/controls",
            "layout": "IPY_MODEL_36282af54e6b4c4397ac478ae4a02e16"
          }
        },
        "4891cc2e50af43289a300fa21594018f": {
          "model_module": "@jupyter-widgets/controls",
          "model_name": "DropdownModel",
          "state": {
            "_options_labels": [
              "start",
              "destination"
            ],
            "_view_name": "DropdownView",
            "style": "IPY_MODEL_8e5186d98a9444b1b242e1f133d32253",
            "_dom_classes": [],
            "description": "Category",
            "_model_name": "DropdownModel",
            "index": 0,
            "_view_module": "@jupyter-widgets/controls",
            "_model_module_version": "1.5.0",
            "_view_count": null,
            "disabled": false,
            "_view_module_version": "1.5.0",
            "description_tooltip": null,
            "_model_module": "@jupyter-widgets/controls",
            "layout": "IPY_MODEL_e8503e2b48cf4cdc94bdc21c12283f40"
          }
        },
        "19fdf974f3fa448b88e4a449fbb75eb0": {
          "model_module": "@jupyter-widgets/controls",
          "model_name": "DropdownModel",
          "state": {
            "_options_labels": [
              "5",
              "10",
              "15",
              "20",
              "25",
              "30",
              "35",
              "40",
              "45",
              "50",
              "55",
              "60",
              "65",
              "70",
              "75",
              "80",
              "85",
              "90",
              "95",
              "100",
              "105",
              "110",
              "115",
              "120",
              "125",
              "130",
              "135",
              "140",
              "145",
              "150",
              "155",
              "160",
              "165",
              "170",
              "175",
              "180",
              "185",
              "190",
              "195",
              "200",
              "205",
              "210",
              "215",
              "220",
              "225",
              "230",
              "235",
              "240",
              "245",
              "250"
            ],
            "_view_name": "DropdownView",
            "style": "IPY_MODEL_8e587541009a45819eeb24cecc4ccd52",
            "_dom_classes": [],
            "description": "Top",
            "_model_name": "DropdownModel",
            "index": 3,
            "_view_module": "@jupyter-widgets/controls",
            "_model_module_version": "1.5.0",
            "_view_count": null,
            "disabled": false,
            "_view_module_version": "1.5.0",
            "description_tooltip": null,
            "_model_module": "@jupyter-widgets/controls",
            "layout": "IPY_MODEL_a2c8049b9d0c4f5bb1aed99ffd3afbd6"
          }
        },
        "db5698d09d0244bea5436e501d6b0fb0": {
          "model_module": "@jupyter-widgets/output",
          "model_name": "OutputModel",
          "state": {
            "_view_name": "OutputView",
            "msg_id": "",
            "_dom_classes": [],
            "_model_name": "OutputModel",
            "outputs": [
              {
                "output_type": "display_data",
                "metadata": {
                  "tags": []
                },
                "text/html": "<div style=\"width:100%;\"><div style=\"position:relative;width:100%;height:0;padding-bottom:60%;\"><span style=\"color:#565656\">Make this Notebook Trusted to load map: File -> Trust Notebook</span><iframe src=\"about:blank\" style=\"position:absolute;width:100%;height:100%;left:0;top:0;border:none !important;\" data-html=%3C%21DOCTYPE%20html%3E%0A%3Chead%3E%20%20%20%20%0A%20%20%20%20%3Cmeta%20http-equiv%3D%22content-type%22%20content%3D%22text/html%3B%20charset%3DUTF-8%22%20/%3E%0A%20%20%20%20%3Cscript%3EL_PREFER_CANVAS%3Dfalse%3B%20L_NO_TOUCH%3Dfalse%3B%20L_DISABLE_3D%3Dfalse%3B%3C/script%3E%0A%20%20%20%20%3Cscript%20src%3D%22https%3A//cdn.jsdelivr.net/npm/leaflet%401.4.0/dist/leaflet.js%22%3E%3C/script%3E%0A%20%20%20%20%3Cscript%20src%3D%22https%3A//code.jquery.com/jquery-1.12.4.min.js%22%3E%3C/script%3E%0A%20%20%20%20%3Cscript%20src%3D%22https%3A//maxcdn.bootstrapcdn.com/bootstrap/3.2.0/js/bootstrap.min.js%22%3E%3C/script%3E%0A%20%20%20%20%3Cscript%20src%3D%22https%3A//cdnjs.cloudflare.com/ajax/libs/Leaflet.awesome-markers/2.0.2/leaflet.awesome-markers.js%22%3E%3C/script%3E%0A%20%20%20%20%3Clink%20rel%3D%22stylesheet%22%20href%3D%22https%3A//cdn.jsdelivr.net/npm/leaflet%401.4.0/dist/leaflet.css%22/%3E%0A%20%20%20%20%3Clink%20rel%3D%22stylesheet%22%20href%3D%22https%3A//maxcdn.bootstrapcdn.com/bootstrap/3.2.0/css/bootstrap.min.css%22/%3E%0A%20%20%20%20%3Clink%20rel%3D%22stylesheet%22%20href%3D%22https%3A//maxcdn.bootstrapcdn.com/bootstrap/3.2.0/css/bootstrap-theme.min.css%22/%3E%0A%20%20%20%20%3Clink%20rel%3D%22stylesheet%22%20href%3D%22https%3A//maxcdn.bootstrapcdn.com/font-awesome/4.6.3/css/font-awesome.min.css%22/%3E%0A%20%20%20%20%3Clink%20rel%3D%22stylesheet%22%20href%3D%22https%3A//cdnjs.cloudflare.com/ajax/libs/Leaflet.awesome-markers/2.0.2/leaflet.awesome-markers.css%22/%3E%0A%20%20%20%20%3Clink%20rel%3D%22stylesheet%22%20href%3D%22https%3A//rawcdn.githack.com/python-visualization/folium/master/folium/templates/leaflet.awesome.rotate.css%22/%3E%0A%20%20%20%20%3Cstyle%3Ehtml%2C%20body%20%7Bwidth%3A%20100%25%3Bheight%3A%20100%25%3Bmargin%3A%200%3Bpadding%3A%200%3B%7D%3C/style%3E%0A%20%20%20%20%3Cstyle%3E%23map%20%7Bposition%3Aabsolute%3Btop%3A0%3Bbottom%3A0%3Bright%3A0%3Bleft%3A0%3B%7D%3C/style%3E%0A%20%20%20%20%0A%20%20%20%20%3Cmeta%20name%3D%22viewport%22%20content%3D%22width%3Ddevice-width%2C%0A%20%20%20%20%20%20%20%20initial-scale%3D1.0%2C%20maximum-scale%3D1.0%2C%20user-scalable%3Dno%22%20/%3E%0A%20%20%20%20%3Cstyle%3E%23map_d93559ca27534846954d50254e80d633%20%7B%0A%20%20%20%20%20%20%20%20position%3A%20relative%3B%0A%20%20%20%20%20%20%20%20width%3A%20100.0%25%3B%0A%20%20%20%20%20%20%20%20height%3A%20100.0%25%3B%0A%20%20%20%20%20%20%20%20left%3A%200.0%25%3B%0A%20%20%20%20%20%20%20%20top%3A%200.0%25%3B%0A%20%20%20%20%20%20%20%20%7D%0A%20%20%20%20%3C/style%3E%0A%20%20%20%20%3Cscript%20src%3D%22https%3A//leaflet.github.io/Leaflet.heat/dist/leaflet-heat.js%22%3E%3C/script%3E%0A%3C/head%3E%0A%3Cbody%3E%20%20%20%20%0A%20%20%20%20%0A%20%20%20%20%3Cdiv%20class%3D%22folium-map%22%20id%3D%22map_d93559ca27534846954d50254e80d633%22%20%3E%3C/div%3E%0A%3C/body%3E%0A%3Cscript%3E%20%20%20%20%0A%20%20%20%20%0A%20%20%20%20%0A%20%20%20%20%20%20%20%20var%20bounds%20%3D%20null%3B%0A%20%20%20%20%0A%0A%20%20%20%20var%20map_d93559ca27534846954d50254e80d633%20%3D%20L.map%28%0A%20%20%20%20%20%20%20%20%27map_d93559ca27534846954d50254e80d633%27%2C%20%7B%0A%20%20%20%20%20%20%20%20center%3A%20%5B59.92%2C%2010.75%5D%2C%0A%20%20%20%20%20%20%20%20zoom%3A%2013%2C%0A%20%20%20%20%20%20%20%20maxBounds%3A%20bounds%2C%0A%20%20%20%20%20%20%20%20layers%3A%20%5B%5D%2C%0A%20%20%20%20%20%20%20%20worldCopyJump%3A%20false%2C%0A%20%20%20%20%20%20%20%20crs%3A%20L.CRS.EPSG3857%2C%0A%20%20%20%20%20%20%20%20zoomControl%3A%20true%2C%0A%20%20%20%20%20%20%20%20%7D%29%3B%0A%0A%0A%20%20%20%20%0A%20%20%20%20var%20tile_layer_517d97ec924245b581e48686a5dccfab%20%3D%20L.tileLayer%28%0A%20%20%20%20%20%20%20%20%27https%3A//%7Bs%7D.tile.openstreetmap.org/%7Bz%7D/%7Bx%7D/%7By%7D.png%27%2C%0A%20%20%20%20%20%20%20%20%7B%0A%20%20%20%20%20%20%20%20%22attribution%22%3A%20null%2C%0A%20%20%20%20%20%20%20%20%22detectRetina%22%3A%20false%2C%0A%20%20%20%20%20%20%20%20%22maxNativeZoom%22%3A%2018%2C%0A%20%20%20%20%20%20%20%20%22maxZoom%22%3A%2018%2C%0A%20%20%20%20%20%20%20%20%22minZoom%22%3A%200%2C%0A%20%20%20%20%20%20%20%20%22noWrap%22%3A%20false%2C%0A%20%20%20%20%20%20%20%20%22opacity%22%3A%201%2C%0A%20%20%20%20%20%20%20%20%22subdomains%22%3A%20%22abc%22%2C%0A%20%20%20%20%20%20%20%20%22tms%22%3A%20false%0A%7D%29.addTo%28map_d93559ca27534846954d50254e80d633%29%3B%0A%20%20%20%20%0A%20%20%20%20%20%20%20%20%20%20%20%20var%20heat_map_aa8d71e479894be3a6c7c7a2855bf871%20%3D%20L.heatLayer%28%0A%20%20%20%20%20%20%20%20%20%20%20%20%20%20%20%20%5B%5B59.915983092745186%2C%2010.75155119076095%2C%202789.0%5D%2C%20%5B59.9108469%2C%2010.7303766%2C%202581.0%5D%2C%20%5B59.92843404417578%2C%2010.75943014633117%2C%202490.0%5D%2C%20%5B59.928066706156855%2C%2010.751202636819613%2C%202367.0%5D%2C%20%5B59.912110899999995%2C%2010.7661939%2C%202305.0%5D%2C%20%5B59.922425%2C%2010.758182000000001%2C%202269.0%5D%2C%20%5B59.9141971%2C%2010.7428828%2C%202222.0%5D%2C%20%5B59.91300035973293%2C%2010.746760585982287%2C%202117.0%5D%2C%20%5B59.91015446696496%2C%2010.751980909227374%2C%202082.0%5D%2C%20%5B59.91351552854147%2C%2010.757334670552268%2C%201889.0%5D%2C%20%5B59.913720071300716%2C%2010.735886645853412%2C%201725.0%5D%2C%20%5B59.90946700000001%2C%2010.722509%2C%201661.0%5D%2C%20%5B59.925265%2C%2010.750461999999999%2C%201604.0%5D%2C%20%5B59.908454000000006%2C%2010.741869%2C%201599.0%5D%2C%20%5B59.91546786564257%2C%2010.751140873016313%2C%201564.0%5D%2C%20%5B59.911901%2C%2010.749929%2C%201555.0%5D%2C%20%5B59.90900600000001%2C%2010.75618%2C%201545.0%5D%2C%20%5B59.91494300000001%2C%2010.773977%2C%201513.0%5D%2C%20%5B59.918631999999995%2C%2010.757867%2C%201460.0%5D%2C%20%5B59.92473199999999%2C%2010.724628%2C%201452.0%5D%5D%2C%0A%20%20%20%20%20%20%20%20%20%20%20%20%20%20%20%20%7B%0A%20%20%20%20%20%20%20%20%20%20%20%20%20%20%20%20%20%20%20%20minOpacity%3A%200.5%2C%0A%20%20%20%20%20%20%20%20%20%20%20%20%20%20%20%20%20%20%20%20maxZoom%3A%2018%2C%0A%20%20%20%20%20%20%20%20%20%20%20%20%20%20%20%20%20%20%20%20max%3A%201.0%2C%0A%20%20%20%20%20%20%20%20%20%20%20%20%20%20%20%20%20%20%20%20radius%3A%2025%2C%0A%20%20%20%20%20%20%20%20%20%20%20%20%20%20%20%20%20%20%20%20blur%3A%2015%2C%0A%20%20%20%20%20%20%20%20%20%20%20%20%20%20%20%20%20%20%20%20gradient%3A%20null%0A%20%20%20%20%20%20%20%20%20%20%20%20%20%20%20%20%20%20%20%20%7D%29%0A%20%20%20%20%20%20%20%20%20%20%20%20%20%20%20%20.addTo%28map_d93559ca27534846954d50254e80d633%29%3B%0A%20%20%20%20%20%20%20%20%0A%3C/script%3E onload=\"this.contentDocument.open();this.contentDocument.write(    decodeURIComponent(this.getAttribute('data-html')));this.contentDocument.close();\" allowfullscreen webkitallowfullscreen mozallowfullscreen></iframe></div></div>",
                "text/plain": "<folium.folium.Map at 0x7f90f0651310>"
              }
            ],
            "_view_module": "@jupyter-widgets/output",
            "_model_module_version": "1.0.0",
            "_view_count": null,
            "_view_module_version": "1.0.0",
            "layout": "IPY_MODEL_f8d0b15fe4004e89a20ea66f0c0577c6",
            "_model_module": "@jupyter-widgets/output"
          }
        },
        "0aecc53c12c44f22a1e3b818c1c55eff": {
          "model_module": "@jupyter-widgets/controls",
          "model_name": "DescriptionStyleModel",
          "state": {
            "_view_name": "StyleView",
            "_model_name": "DescriptionStyleModel",
            "description_width": "",
            "_view_module": "@jupyter-widgets/base",
            "_model_module_version": "1.5.0",
            "_view_count": null,
            "_view_module_version": "1.2.0",
            "_model_module": "@jupyter-widgets/controls"
          }
        },
        "f3e1b545af204553bd9467c8dc9b78bf": {
          "model_module": "@jupyter-widgets/base",
          "model_name": "LayoutModel",
          "state": {
            "_view_name": "LayoutView",
            "grid_template_rows": null,
            "right": null,
            "justify_content": null,
            "_view_module": "@jupyter-widgets/base",
            "overflow": null,
            "_model_module_version": "1.2.0",
            "_view_count": null,
            "flex_flow": null,
            "width": null,
            "min_width": null,
            "border": null,
            "align_items": null,
            "bottom": null,
            "_model_module": "@jupyter-widgets/base",
            "top": null,
            "grid_column": null,
            "overflow_y": null,
            "overflow_x": null,
            "grid_auto_flow": null,
            "grid_area": null,
            "grid_template_columns": null,
            "flex": null,
            "_model_name": "LayoutModel",
            "justify_items": null,
            "grid_row": null,
            "max_height": null,
            "align_content": null,
            "visibility": null,
            "align_self": null,
            "height": null,
            "min_height": null,
            "padding": null,
            "grid_auto_rows": null,
            "grid_gap": null,
            "max_width": null,
            "order": null,
            "_view_module_version": "1.2.0",
            "grid_template_areas": null,
            "object_position": null,
            "object_fit": null,
            "grid_auto_columns": null,
            "margin": null,
            "display": null,
            "left": null
          }
        },
        "ce02c27de099444f9079ebcaa01bd173": {
          "model_module": "@jupyter-widgets/controls",
          "model_name": "DescriptionStyleModel",
          "state": {
            "_view_name": "StyleView",
            "_model_name": "DescriptionStyleModel",
            "description_width": "",
            "_view_module": "@jupyter-widgets/base",
            "_model_module_version": "1.5.0",
            "_view_count": null,
            "_view_module_version": "1.2.0",
            "_model_module": "@jupyter-widgets/controls"
          }
        },
        "36282af54e6b4c4397ac478ae4a02e16": {
          "model_module": "@jupyter-widgets/base",
          "model_name": "LayoutModel",
          "state": {
            "_view_name": "LayoutView",
            "grid_template_rows": null,
            "right": null,
            "justify_content": null,
            "_view_module": "@jupyter-widgets/base",
            "overflow": null,
            "_model_module_version": "1.2.0",
            "_view_count": null,
            "flex_flow": null,
            "width": null,
            "min_width": null,
            "border": null,
            "align_items": null,
            "bottom": null,
            "_model_module": "@jupyter-widgets/base",
            "top": null,
            "grid_column": null,
            "overflow_y": null,
            "overflow_x": null,
            "grid_auto_flow": null,
            "grid_area": null,
            "grid_template_columns": null,
            "flex": null,
            "_model_name": "LayoutModel",
            "justify_items": null,
            "grid_row": null,
            "max_height": null,
            "align_content": null,
            "visibility": null,
            "align_self": null,
            "height": null,
            "min_height": null,
            "padding": null,
            "grid_auto_rows": null,
            "grid_gap": null,
            "max_width": null,
            "order": null,
            "_view_module_version": "1.2.0",
            "grid_template_areas": null,
            "object_position": null,
            "object_fit": null,
            "grid_auto_columns": null,
            "margin": null,
            "display": null,
            "left": null
          }
        },
        "8e5186d98a9444b1b242e1f133d32253": {
          "model_module": "@jupyter-widgets/controls",
          "model_name": "DescriptionStyleModel",
          "state": {
            "_view_name": "StyleView",
            "_model_name": "DescriptionStyleModel",
            "description_width": "",
            "_view_module": "@jupyter-widgets/base",
            "_model_module_version": "1.5.0",
            "_view_count": null,
            "_view_module_version": "1.2.0",
            "_model_module": "@jupyter-widgets/controls"
          }
        },
        "e8503e2b48cf4cdc94bdc21c12283f40": {
          "model_module": "@jupyter-widgets/base",
          "model_name": "LayoutModel",
          "state": {
            "_view_name": "LayoutView",
            "grid_template_rows": null,
            "right": null,
            "justify_content": null,
            "_view_module": "@jupyter-widgets/base",
            "overflow": null,
            "_model_module_version": "1.2.0",
            "_view_count": null,
            "flex_flow": null,
            "width": null,
            "min_width": null,
            "border": null,
            "align_items": null,
            "bottom": null,
            "_model_module": "@jupyter-widgets/base",
            "top": null,
            "grid_column": null,
            "overflow_y": null,
            "overflow_x": null,
            "grid_auto_flow": null,
            "grid_area": null,
            "grid_template_columns": null,
            "flex": null,
            "_model_name": "LayoutModel",
            "justify_items": null,
            "grid_row": null,
            "max_height": null,
            "align_content": null,
            "visibility": null,
            "align_self": null,
            "height": null,
            "min_height": null,
            "padding": null,
            "grid_auto_rows": null,
            "grid_gap": null,
            "max_width": null,
            "order": null,
            "_view_module_version": "1.2.0",
            "grid_template_areas": null,
            "object_position": null,
            "object_fit": null,
            "grid_auto_columns": null,
            "margin": null,
            "display": null,
            "left": null
          }
        },
        "8e587541009a45819eeb24cecc4ccd52": {
          "model_module": "@jupyter-widgets/controls",
          "model_name": "DescriptionStyleModel",
          "state": {
            "_view_name": "StyleView",
            "_model_name": "DescriptionStyleModel",
            "description_width": "",
            "_view_module": "@jupyter-widgets/base",
            "_model_module_version": "1.5.0",
            "_view_count": null,
            "_view_module_version": "1.2.0",
            "_model_module": "@jupyter-widgets/controls"
          }
        },
        "a2c8049b9d0c4f5bb1aed99ffd3afbd6": {
          "model_module": "@jupyter-widgets/base",
          "model_name": "LayoutModel",
          "state": {
            "_view_name": "LayoutView",
            "grid_template_rows": null,
            "right": null,
            "justify_content": null,
            "_view_module": "@jupyter-widgets/base",
            "overflow": null,
            "_model_module_version": "1.2.0",
            "_view_count": null,
            "flex_flow": null,
            "width": null,
            "min_width": null,
            "border": null,
            "align_items": null,
            "bottom": null,
            "_model_module": "@jupyter-widgets/base",
            "top": null,
            "grid_column": null,
            "overflow_y": null,
            "overflow_x": null,
            "grid_auto_flow": null,
            "grid_area": null,
            "grid_template_columns": null,
            "flex": null,
            "_model_name": "LayoutModel",
            "justify_items": null,
            "grid_row": null,
            "max_height": null,
            "align_content": null,
            "visibility": null,
            "align_self": null,
            "height": null,
            "min_height": null,
            "padding": null,
            "grid_auto_rows": null,
            "grid_gap": null,
            "max_width": null,
            "order": null,
            "_view_module_version": "1.2.0",
            "grid_template_areas": null,
            "object_position": null,
            "object_fit": null,
            "grid_auto_columns": null,
            "margin": null,
            "display": null,
            "left": null
          }
        },
        "f8d0b15fe4004e89a20ea66f0c0577c6": {
          "model_module": "@jupyter-widgets/base",
          "model_name": "LayoutModel",
          "state": {
            "_view_name": "LayoutView",
            "grid_template_rows": null,
            "right": null,
            "justify_content": null,
            "_view_module": "@jupyter-widgets/base",
            "overflow": null,
            "_model_module_version": "1.2.0",
            "_view_count": null,
            "flex_flow": null,
            "width": null,
            "min_width": null,
            "border": null,
            "align_items": null,
            "bottom": null,
            "_model_module": "@jupyter-widgets/base",
            "top": null,
            "grid_column": null,
            "overflow_y": null,
            "overflow_x": null,
            "grid_auto_flow": null,
            "grid_area": null,
            "grid_template_columns": null,
            "flex": null,
            "_model_name": "LayoutModel",
            "justify_items": null,
            "grid_row": null,
            "max_height": null,
            "align_content": null,
            "visibility": null,
            "align_self": null,
            "height": null,
            "min_height": null,
            "padding": null,
            "grid_auto_rows": null,
            "grid_gap": null,
            "max_width": null,
            "order": null,
            "_view_module_version": "1.2.0",
            "grid_template_areas": null,
            "object_position": null,
            "object_fit": null,
            "grid_auto_columns": null,
            "margin": null,
            "display": null,
            "left": null
          }
        },
        "30768f427b914efc9df13131ce86ef99": {
          "model_module": "@jupyter-widgets/controls",
          "model_name": "VBoxModel",
          "state": {
            "_view_name": "VBoxView",
            "_dom_classes": [
              "widget-interact"
            ],
            "_model_name": "VBoxModel",
            "_view_module": "@jupyter-widgets/controls",
            "_model_module_version": "1.5.0",
            "_view_count": null,
            "_view_module_version": "1.5.0",
            "box_style": "",
            "layout": "IPY_MODEL_2d1f0e290eae4334b750dab99d0712ff",
            "_model_module": "@jupyter-widgets/controls",
            "children": [
              "IPY_MODEL_e2a5bc03b65b4c7689008693aeb40ef7",
              "IPY_MODEL_90005708c31a4fc1a3f2db3c2c69a1bc",
              "IPY_MODEL_4d8be8ec93554cc1b3beee6c86e8227d"
            ]
          }
        },
        "2d1f0e290eae4334b750dab99d0712ff": {
          "model_module": "@jupyter-widgets/base",
          "model_name": "LayoutModel",
          "state": {
            "_view_name": "LayoutView",
            "grid_template_rows": null,
            "right": null,
            "justify_content": null,
            "_view_module": "@jupyter-widgets/base",
            "overflow": null,
            "_model_module_version": "1.2.0",
            "_view_count": null,
            "flex_flow": null,
            "width": null,
            "min_width": null,
            "border": null,
            "align_items": null,
            "bottom": null,
            "_model_module": "@jupyter-widgets/base",
            "top": null,
            "grid_column": null,
            "overflow_y": null,
            "overflow_x": null,
            "grid_auto_flow": null,
            "grid_area": null,
            "grid_template_columns": null,
            "flex": null,
            "_model_name": "LayoutModel",
            "justify_items": null,
            "grid_row": null,
            "max_height": null,
            "align_content": null,
            "visibility": null,
            "align_self": null,
            "height": null,
            "min_height": null,
            "padding": null,
            "grid_auto_rows": null,
            "grid_gap": null,
            "max_width": null,
            "order": null,
            "_view_module_version": "1.2.0",
            "grid_template_areas": null,
            "object_position": null,
            "object_fit": null,
            "grid_auto_columns": null,
            "margin": null,
            "display": null,
            "left": null
          }
        },
        "e2a5bc03b65b4c7689008693aeb40ef7": {
          "model_module": "@jupyter-widgets/controls",
          "model_name": "DropdownModel",
          "state": {
            "_options_labels": [
              "2020",
              "2021"
            ],
            "_view_name": "DropdownView",
            "style": "IPY_MODEL_ae684e4e1d86473ab67899bdc4eae0ba",
            "_dom_classes": [],
            "description": "Year",
            "_model_name": "DropdownModel",
            "index": 0,
            "_view_module": "@jupyter-widgets/controls",
            "_model_module_version": "1.5.0",
            "_view_count": null,
            "disabled": false,
            "_view_module_version": "1.5.0",
            "description_tooltip": null,
            "_model_module": "@jupyter-widgets/controls",
            "layout": "IPY_MODEL_d9ed8ed3f6504df68dc93a3822725e2d"
          }
        },
        "90005708c31a4fc1a3f2db3c2c69a1bc": {
          "model_module": "@jupyter-widgets/controls",
          "model_name": "DropdownModel",
          "state": {
            "_options_labels": [
              "January",
              "February",
              "March",
              "April",
              "May",
              "June",
              "July",
              "August",
              "September",
              "October",
              "November",
              "December"
            ],
            "_view_name": "DropdownView",
            "style": "IPY_MODEL_528194f7be754c7aafd5ef428f9396a8",
            "_dom_classes": [],
            "description": "Month",
            "_model_name": "DropdownModel",
            "index": 2,
            "_view_module": "@jupyter-widgets/controls",
            "_model_module_version": "1.5.0",
            "_view_count": null,
            "disabled": false,
            "_view_module_version": "1.5.0",
            "description_tooltip": null,
            "_model_module": "@jupyter-widgets/controls",
            "layout": "IPY_MODEL_372b3a33bc40488598d3d37e2e2fb970"
          }
        },
        "4d8be8ec93554cc1b3beee6c86e8227d": {
          "model_module": "@jupyter-widgets/output",
          "model_name": "OutputModel",
          "state": {
            "_view_name": "OutputView",
            "msg_id": "",
            "_dom_classes": [],
            "_model_name": "OutputModel",
            "outputs": [
              {
                "output_type": "display_data",
                "metadata": {
                  "tags": []
                },
                "image/png": "iVBORw0KGgoAAAANSUhEUgAABZQAAALDCAYAAACCf4XwAAAABHNCSVQICAgIfAhkiAAAAAlwSFlzAAALEgAACxIB0t1+/AAAADh0RVh0U29mdHdhcmUAbWF0cGxvdGxpYiB2ZXJzaW9uMy4yLjIsIGh0dHA6Ly9tYXRwbG90bGliLm9yZy+WH4yJAAAgAElEQVR4nOzdd1RUR98H8O/Slt4EAREBxYoFEZWiIjYsAYkldrEnr9Fo7EYTNBqNJTG22BKxJBo1iWA3PgIW1ERssUVFAUssdEWkz/sHZ+/DugssiCI+3885nMjcmXtn5u7eDL+dnZEJIQSIiIiIiIiIiIiIiEqhVdkVICIiIiIiIiIiIqKqgQFlIiIiIiIiIiIiItIIA8pEREREREREREREpBEGlImIiIiIiIiIiIhIIwwoExEREREREREREZFGGFAmIiIiIiIiIiIiIo0woExEREQa2bRpE2QyGdq3b1+mcsOGDYNMJsOcOXNeS71e5uTkBJlMhqioqDdyvcomk8kgk8kQHx9f5rL/a31VVPv27SGTybBp06bKrspb6X/5tUGvV1RUFGQyGZycnCq7KkRERFRODCgTERFVAEXQ9OUfbW1tWFpaok2bNvj222/x4sWLyq4qFWPOnDkq909HRwcWFhZwdnZG9+7d8cUXX+Dy5cuVXVWqwhSvM02CaWXJS++GqKgozJkzB2FhYZVdlXLZtGkT5syZg4sXL1Z2VYiIiOg1YkCZiIioAunq6sLGxkb6MTExQWpqKqKjozF58mR4eHggMTGxsqtJJdDS0pLun5WVFXJychAfH4+DBw9i3rx5aNq0KTp27Ii4uLjKrioRvWOioqIwd+7cKh1Qnjt3bokBZUNDQ9SvXx916tR5gzUjIiKiisSAMhERUQXy9vbGo0ePpJ+0tDSkpaVh6dKl0NLSwrVr1zBjxozKriaVwMHBQekePn/+HBkZGYiKisLo0aOhp6eHiIgIuLm54e+//67s6hIRVSmtWrXCP//8g6NHj1Z2VYiIiKicGFAmIiJ6zczMzDB58mSMHDkSALB3795KrhGVlZGREXx9fbF+/XpER0fD2toaT58+RWBgILKysiq7ekRERERERG8MA8pERERvSNOmTQEAz58/V0ofMWIEZDIZ+vTpU2L5kJAQyGQyeHt7K6U/efIEU6dORePGjWFkZAR9fX04ODjA29sbX3zxBRISEgAAQgi4uLhAJpNh1apVJV7L19cXMpkMn332mcbt27p1K3R1daGlpYU1a9ZoVKagoABjx46FTCaDhYUFTp8+rXQ8Pj4e48ePR/369WFoaAgTExO0aNECixYtUunHN8XDwwOhoaEAgISEBGzYsEElz/nz5zFjxgy0adMGtWrVglwuR7Vq1dC+fXv88MMPyM/PL/b8x44dQ58+fVCzZk3o6enBzMwMdevWRVBQENatW4eCgoJiy969exejR49GzZo1IZfL4ezsjClTpuDp06eltuvu3bsYNWoUHBwcoK+vL5VNT08vsdyFCxcwePBgODg4QC6Xw8rKCv7+/vjtt9+KLZOUlITvv/8ePXv2RIMGDWBiYgIjIyM0atQIkyZNwr///qu2XHx8vLS+NQCcOXMGffr0gZ2dHbS1tTFx4kSl/IcOHUKHDh1gZmYGU1NTeHp6YuvWraX2RVVQdNO8lJQUTJo0Cc7OzpDL5bC3t8fo0aPx8OHDEs/x888/w9PTE8bGxrC0tESHDh2wf/9+ja6fkZGBBQsWoGXLljAzM4O+vj7q1q2LTz75BPfu3VNbpuhGiGlpaZg+fToaNGgAQ0NDmJubl6n9Qgjs2LEDPXr0gK2trdTudu3aYdmyZUhOTlYpU1BQgB9//BG+vr6wtLSUXudjxoxBbGys2uu8vIFcdHQ03nvvPVhZWcHAwADNmjXDqlWrIIRQW17T57PitT137lwAwObNm1XWdFdsvKnp+0CTjVQV63QPGzas2DyHDh2SnklyuRy2trbw9PTE/PnzpXutuNaxY8cAAMOHD1eqe9F1wDXZlC8yMhK9evWCra0t9PT0YGtri/fffx8RERHFlinaT6/yLCQiIiINCCIiInplwcHBAoDw9fUtNs+YMWMEANG0aVOl9OjoaAFA6OnpiaSkJLVl8/PzhaOjowAgNmzYIKXHx8cLOzs7AUAAENra2sLCwkLIZDIpbc2aNVL+r776SgAQ7u7uxdYzNjZWKn/z5k0pPTQ0tNg2rlq1SshkMqGjoyO2bt2qtm9CQkKU0nNzc8XAgQMFAFG9enVx8eJFpeO//fab0NfXl9phaGgodHV1pd+bNGkiHj16pFIXRT9FRkYW20Z1QkJCBADh6OioUX43NzcBQHh6eqocq1atmlK9zc3Npd8BiO7du4vc3FyVcuvWrVPKZ2hoKIyMjJTSXrx4oVRGkR4WFiYsLS0FAGFiYiJ0dHSkYx4eHiInJ0flekVfU9bW1gKAMDY2Vup3FxcX8e+//6rtg3Xr1gktLS0pr7m5udDW1pZ+Hzx4sMjLy1MpN3nyZCmPjo6OsLS0VCpnbW0tLl26pFIuLi5OyvPLL79IbTQzMxO6urpiwoQJUt7FixdLeWUymTA3N5fqOmnSJOHr6ysAiNDQULVte13K8jorKa/i3m3dulX6t6GhoZDL5VK7nZycREpKitpzf/zxx1I+LS0tYW5uLr3vly9fXuL76Nq1a9JxxT0s+jq1sLAQJ0+eVCmn6PPFixeL2rVrCwBCLpcLExMTYWZmVmp/KKSlpYlOnTop3V8LCwul1+3L9/X58+eiS5cu0nFdXV1hZmYm/a6vry/CwsJUrhUZGSndg9DQUKGtrS1kMplSWQBKrz2Fsjyf7969K2xsbKR+1NfXFzY2Nko/d+/eFUJo/j4o6ZmtoHiNBQcHqxzLzs4WgwcPVmqnmZmZ0r1WPNd/+eUXYWNjIz2jTU1Nleru4eGhtk/VmTVrlsp7t2ifzZgxQ225V3kWEhERUdkwoExERFQBSgoop6eni2XLlknBLHUBrEaNGkmBHHWOHDkiAAgjIyPx9OlTKX348OFS0O/48eMiPz9fCCFEVlaWuHz5spg9e7bYvXu3lP/BgwdS4E5dwE6I//4x37ZtW6X04oIT8+fPlwJD6gIy6gLKL168EAEBAQKAcHBwEDdu3FAq89dffwldXV2ho6MjZs2aJe7fvy+EECIvL0+cOnVKeHh4CACiS5cuKtd7UwHlmTNnSoGpzMxMpWMDBgwQ27dvFw8fPpTSMjIyxNatW4Wtra0UVCvq+fPnwtjYWAAQI0aMkIJHQgiRnJwsDh48KAYMGCCys7OVyhUN5nbo0EFcvnxZCFH4Gvjxxx+lAOPq1atV2qDoKzMzM+Hi4iJOnDghhCj8ACMsLExYWVkJAKJz584qZaOjo6XXdJ8+fcS9e/eEEEI8e/ZMzJ8/XwoAzZs3T6Xs8uXLxYIFC8Tff/8tBdbz8vJETEyM8Pf3FwCEq6urKCgoUCpXNJBmbGwsevfuLeLi4oQQhR9QKP594sQJ6fqDBw+W7kNqaqqYNm2a1OZ3IaBsbm4u3NzcxKlTp4QQhf0QHh4ufYgxdepUlbI//fST1I9TpkwRqampQgghHj16JIYOHSp0dXWFoaGh2vdRWlqacHJyEgBE3759xaVLl6QPDW7fvi19SGRjYyOdV0ERUDY2NhYODg7i4MGD0jPr1q1bpfaHQo8ePQQAYWBgIJYvXy5dp6CgQFy7dk188cUXKs+iDz/8UHpOrV27VmRlZQkhhLhx44Zo3769FJB/+VmkCH4aGhoKPT09MW7cOOmDrNTUVDF+/Hgp8HnlyhWlsmV9PgtRcoBXQdP3wasGlMeOHSsFwkNCQpQ+wLtz545YsmSJWLdunVIZTT6oKSmgvH37dqlt48aNE4mJiUIIIZKSkqS+VnyQ8rJXeRYSERFR2TCgTEREVAEUQVNdXV2lWVlFZ7E1b95cbNmyRW35b7/9VgAQbm5uao8PGDBA7R/9DRs2lGapaSowMFAAEBMnTlQ5lp+fL2rWrKk2IKAuODFlyhQp0P2f//xH7fVeDig/ffpUCuDUrVtXJCQkqJTx8fERAMTatWvVnjM5OVma+Xf27FmlY28qoLxt2zbp3hadyV2a48ePS7NHi/rzzz+lvlQ3q7c4ijq4urpKQbKixo0bJwAIPz8/lWOKvtLX11cb0IuIiJDOrwg2K3To0EEAED4+Pmrrqwi4Gxsbi/T0dI3bk5WVJX3AEhUVpXSsaCDNx8dHCtC9TFE3Pz8/laC0EEKMHDlSOk9VDyjb2Nio/WbD0qVLBQDh7OyslF5QUCDq1KlTbBCxoKBAafbvy+8jxQdOAwYMKLbeXbt2FQDEkiVLlNIVwUZdXV0p2FdW+/fvlwK4Bw8e1KhMXFyc9OGHumfK8+fPpT4ZMmSI0jFF8BOAGDVqlNrzN2nSRAAQc+fOVUovz/O5rAHlkt4HrxJQvnLlivShzMtB45K8SkC5oKBAuLi4CACif//+assq/l/o5OSk0u5XeRYSERFR2XANZSIiogqUm5uLx48fSz9F159NSUnBkydP1K61OXToUOjp6eHixYu4cOGC0rG0tDTs3r0bQOF6y0WZmpoCQKlrpRY1atQoAMBPP/2E3NxcpWNHjhzB/fv3YWJigr59+xZ7joKCAowePRpLly6Fubk5jhw5go4dO5Z67eTkZHTs2BFRUVFo2rQpTpw4gVq1ainluX37NqKjo2Fubi5tZPgyS0tLdOvWTapzZbCwsJD+nZKSonG5tm3bwtzcHPHx8UprBSvuZW5urtr1X0szadIkyOVylfSgoCAAwJUrV4ot+8EHH8DFxUUl3c/PT1qz+9dff5XSU1JSEBkZCQCYOXMmtLW1VcpOnz4d+vr6yMjIwIEDBzRuh1wuR+fOnQEUrldbnMmTJ0NLS3UoW7Ru06dPl9aZLaosa4O/7caMGYNq1aqppCvue1xcnNJ64xcvXsTt27cBFN67l5W2dvrmzZsBFPZ/cQYOHAig+Pdmt27d0Lhx42LLl2TLli0AAH9/f3Tt2lWjMrt370ZBQQFsbW2l519RhoaGmDZtGgDg999/L3aNc3X9BQA9e/YEoPoeK8/zuayKex+8qq1bt0IIgQYNGmDMmDEVfn51Ll68KK1lPXv2bLV5QkJCABSuI/3XX3+pzfMqz0IiIiLSDAPKREREFcjX1xei8BtAEEIgLy8Pd+7cwffff4+MjAxMmTJFbUCjWrVq0h+7ig3fFLZv346srCzUrVsX7dq1UzrWvXt3AIWBs48//hiRkZF48eJFiXXs3r07atSogaSkJOzdu1fp2MaNGwEA/fr1g5GRkdryubm5GDBgAH744QdUr14dUVFR8PLyKvGaAPDvv//C19cXZ8+ehaenJ6KiomBjY6OS79SpUwAKN/2qWbMmbG1t1f7s2LEDAIrdAKyy7dq1C0FBQahVqxYMDAyUNqhKS0sDAKWAct26dVG3bl3k5OTAy8sLy5Ytwz///FPsZl8va9mypdp0e3t7AEBqamqxZUvatMvX1xdA4UaDChcuXIAQAjKZTDr+MjMzM7Ro0UKlrMI///yDcePGoWnTpjA1NYWWlpbUP8uXLweAYjfnA1Dsa05RNy0tLbRp00Ztntq1a8PBwaHYc1clpd13ANLrDfjvvbCxsUH9+vXVlvX29oaOjo5K+r1793D//n0Ahc+R4t6bEyZMkPKro8nzojhnzpyRrq8pRZvbtm2r9sMPAOjQoQOAwk1Tb9y4oXLc0tIStWvXVlu2uPdYeZ7PZfUqfVmS8vTzq1LcJ2tra7i6uqrNU79+fam/1T1XgFd7FhIREZFmGFAmIiJ6jbS1teHs7Iz/+7//w88//wygMGh78uRJlbyKQPO2bduQk5MjpSuCvMOHD1cpM336dAQGBiInJwfff/89OnToAFNTU3h7e2PJkiVKgaSidRo2bBgA5eB1SkoKwsPDAajOhC7q1KlT2LlzJ4DCWavNmjUrsQ8UNmzYgKtXr8LCwgKHDh1SmuFblGI2X15entJs75d/FLMuMzMzNbp+RSsalLC0tJT+nZeXh169euGDDz5AeHg47t27ByEErKysYGNjAxsbG2lGYdGZo9ra2ti2bRvs7e1x584dTJo0CQ0bNoSVlRX69u2LPXv2lBhcNjExUZuur68v1as4RYOPxR1LTEyU0hT/NjMzg7GxcbFla9asqVIWAH755Rc0bdoUq1evxuXLl/H8+XOYmZlJ/aP4MKNo/7zM2tpabXrRuhX3oUjRdpVFr169SgygVobS7jsApW8iKPqnRo0axZ5TLpfDyspKJb3oTNsnT54U+95UvDeKe28Wd+808fjxYwBQ+WZDSRRtLumeK16rRfMXVVw/A//t65e/8VGe53NZvUpflqQ8/fyqNLlPQPHPFYVXeRYSERGRZhhQJiIiekP8/f1ha2sLAFJAtqhOnTrB2dkZycnJ2LNnD4DCr+bGxMRAW1sbwcHBKmXkcjnCw8Nx+vRpTJs2DZ6enpDJZNLv9erVw6VLl1TKjRw5EjKZDIcOHcKjR48AFAays7Oz0bBhwxJnvTVp0gSNGjUCAIwdOxZJSUkatb979+4wMTFBamoqxo4di4KCArX5FOnNmjVTmu1d3M+mTZs0un5Fu3z5MgBAV1dXKRi1YcMG7N69G4aGhlixYgXu3buHrKwsJCYm4tGjR3j06JEUzHs5QOzh4YFbt27hp59+wtChQ1G7dm2kpKTg119/Rc+ePdGjR49iv45fGbKzs8tcJjExEaNHj0Zubi769euHmJgYZGVlITU1VeqfTz/9FIBq/xRV3EzT1yklJUVtALXo0jalUQS1NJmpqgjIGhgYlK/CFazoezY1NbXU92Z8fLza81TGvQOArKysN3q98j6fy6Ky+vJ1etP3iYiIiMqOAWUiIqI3SDHb686dOyrHZDKZNDNYMXNYMTvZ39+/xBmFnp6eWLRoEU6fPo3U1FRs374dtWrVQmJiotolNmrXro0OHTogLy8PW7duVbqWupnQRVlaWuLo0aOoX78+rly5gs6dO2v0FeKWLVviwIEDMDIywrZt2zBy5Ei1AUPFMhhv61IWCgcPHgRQGAQuGvDbtWsXAODzzz/H+PHjlYLNAJCfn19iEN7AwACDBg3C5s2bcfv2bdy5cwczZ86ETCbDwYMHsXbt2gpvS0lLSyiOFZ0Jqfj3ixcvip0lCEBaHqFo2YMHDyIjIwONGjXCtm3b0KJFC+jq6iqVU8yOLA/FtdLT00ucvV5Sm4sTFRX1yh9qKNY7TklJUfomgjqKGcHq1kguL0X/lNT+nJwcta/RokvU3L17t8LqVBaKOiQkJGhcRtHmkuqseK0WzV9Ryvp8riiKZUtKCtAW92FIefr5VSn6vbRnv7rnChEREb1ZDCgTERG9QQ8ePAAAlQCawvDhw6GtrY3Dhw8jISEBP/30E4CSl6B4mZGREfr374/169cDAM6dO6d26QBFICM0NBSXLl3ChQsXoKOjg6FDh5Z6DVtbWxw9ehR16tTBxYsX0aVLF41mabZp0wZ79+6FgYEBNm3ahI8++kglqKyYHZ2SkoI///yz1HNWhv379+PixYsAgEGDBikdUwQ7mjdvrrZsdHR0mWbgOTs7Y8GCBejXrx8A4NixY+WpcolKOqfimLu7u5TWvHlzabM7xQZ4L0tPT8e5c+dUyir6p2nTpmo3ExNCICIioowt+C9F3QoKCtQuLQMUblRXWQFRxesiLy+v2E3FFE6fPq1UpiIo7sXjx49x8+ZNtXlOnTqldlkAZ2dnKdCo+EDlTfP09ASAMm30qGjzn3/+WeyHDIrXnJGRUbFrS1eE0p7PiveEpmunl8Tc3ByAcrD8ZWfPnlWbrujnst7nV6m/4j49f/682PfGzZs3pf+PFn2uEBER0ZvFgDIREdEbEh0dXeofwvb29ujWrRvy8/MxaNAgJCYmwtraGoGBgWrzlzTDUTFrVgihNt/777+PatWq4fr16/j4448BAD169FC7UV5xdY2IiICTkxNiYmLQrVs3ZGRklFrOz88PYWFhkMvlWL9+vcr6sw0aNJCCGdOmTVNZl7SoFy9elGvZhVdx7tw5aRa3s7MzRo4cqXTczMwMwH+XxCgqLy8Ps2fPVnve0marKu7n62jvjh071M6aP378OKKjowEAffv2ldItLS3h5+cHAFi0aJHa5UsWLVqErKwsGBsbK23speifK1euqA06bdiwAbdv3y53WywtLaUN1hYvXqz2Gl9//XW5z/+q3N3d4ezsDAD45ptvis0XFhYm9UOvXr0q7Ppubm5wcXEBUHiPXiaEKLF/FOuvL126VHqeqSOEqJA1gl+m+MDrjz/+wKFDhzQq06tXL2hpaSE5OVkK5BaVmZmJJUuWSHkrahmJ8jyfTU1NAaBC+q5JkyYACj/IVHy4U9SJEyek9/fLhgwZAplMhn/++Qfr1q3T+JqvUv+ir80FCxaozTNnzhwAgJOTE1q1alXmaxAREVHFYECZiIjoNXvx4gXCwsIwYMAAAIChoWGJM44VM4cVf+gPHjy42BnNjRs3xmeffYazZ89KQQkhBP766y+MHz8eQOFSE+o2wJPL5RgyZIjStcoyExooXMIjIiICNWvWxOnTp9GjRw+NNsnr0qULfvvtN+jp6WHlypWYMmWK0vEVK1ZALpfj+PHj6NixI06ePCkFLfPz83H58mV8+eWXqF27ttJGYa9LZmYmjh8/jg8//BA+Pj5ITEyEmZkZ9uzZo7T5GQB07twZADBv3jyEh4dLax7/888/CAgIwF9//aV2s7gDBw7Ay8sLGzZsUPqaeWZmJjZs2CBt6ujv71/h7dPT00O3bt1w6tQpAIVr5e7duxd9+vSR2uTj46NUZt68edDS0sL58+fRv39/aRZkRkYGFixYIAUlZ8yYIQWZgMK1wmUyGa5cuYJPPvlECjw9ffoUS5Yswccff/zKSzzMmTMHMpkMR48exbBhw6QlNNLT0/HZZ59h/fr1UmD7TdPS0sL8+fMBFAaNhwwZghs3bkjH09PTsXbtWgwePBhAYd8rgvcVQSaTSUG5jRs3Yvr06dI9ePz4MUaMGIGIiAgYGhqqLT9jxgzUrl0bSUlJ8Pb2xs6dO5XWg7579y7Wr18Pd3d3hIWFVVi9Fbp164Zu3bpBCIHevXtj5cqVUv2FELh27RomT56sdG1HR0eMGTNGqv/69eulD2Zu3ryJHj16IDY2FoaGhsV+4FMe5Xk+u7q6AgBOnjyJW7duvdL1HR0dpaDrsGHDpA+5cnNzsWvXLgQFBRW7Oaqrqys+/PBDAMDHH3+MOXPm4MmTJ9LxuLg4zJkzR2UJHkX9f//99zKtLQ4UvjYV743w8HCMHz8eycnJAIDk5GR88skn2L59OwBg/vz5ar/hQERERG+IICIiolcWHBwsAAhdXV1hY2Mj/VhZWQkA0o+RkZHYu3dviefKzc0VdnZ2UpnLly8Xm9fMzEzKp62tLSwtLYWurq6UZmVlJS5dulRs+StXrkh5bW1tRW5ubrF5Q0NDBQDh6+urcuzmzZtSnTt27ChevHih0jchISEq5Xbv3i10dHQEAPHZZ58pHTtw4IBS++RyuahWrZpS+wCI+Ph4pXKOjo4CgIiMjCy2LeqEhIQIAEJLS0vpHhoZGSldD4Do1KmTynUVkpOTRZ06daS8urq6wtTUVLpHoaGhauu4e/dupWsYGBgICwsLIZPJpLTu3bur3CPFsbi4OLX1iYuLk/K8TFGPDRs2CGtrawFAGBsbCwMDA6mMi4uL+Pfff9Wee+3atUJLS0sAEDKZTFhYWAhtbW2p7KBBg0ReXp5KuU8//VSprebm5tJ5/P39xaxZswQAERwcrHFbXrZ48WIp78t1mzRpkvD19RUARGhoaKnneh3mz5+vdG+NjIxU7re3t7dITExUW16T13lJr42PP/5Y6dlR9NrLly8v8fy3bt0SDRs2VCpfrVo1pdcNALFp0yalchXV56mpqdK5FO9ZS0tLoa+vL6W9fI3nz5+Lzp07K70vzc3NlZ4vYWFhKteKjIwUAISjo2Ox9Snu2Vie53NOTo70/JDJZMLa2lo4OjoKR0dHce/ePSFE2d4HZ86cUbovxsbGQk9Pr9T3mhBCZGVliQ8++EDlvVr0mfjyc/369evS+XV0dESNGjWEo6Oj8PHx0bhPFXVS3FsLCwvp+QBAzJgxQ225V3kWEhERUdnwY10iIqIKlJubi8ePH0s/SUlJMDY2RtOmTTF58mRcvXoV7733Xonn0NHRQUBAAIDC2WuNGzcuNm94eDhmzpwJHx8f1KhRAxkZGdDT00PTpk0xY8YMXL16FU2bNi22vKurK+rVqweg8CvOik2cyqpu3bqIiIiAjY0Njh49ivfff1+jpRmCgoKwfft2aGtrY8GCBZg7d650rFu3brh58yZmz54Nd3d3yOVypKWlwdTUFN7e3pgxYwbOnTsHR0fHctW5OAUFBdL9S0xMhI6ODhwdHdG1a1d8/vnnuHz5Mo4cOVLsdS0tLXHmzBn83//9n7Qhn4GBAYKCgnDs2DFpyYCXdejQAVu3bkVwcDCaNGkCQ0NDPHv2DNWqVUPnzp2xZcsW7N27t9z3qCQuLi6IiYnBiBEjYGZmhvz8fDg5OWHy5MmIiYmBnZ2d2nIffvghzp49i4EDB8LOzg4ZGRkwMzND586dsWvXLvz0009qlw/49ttvsX79ejRv3hxyuRz5+flo3rw5vvvuO+zfv79C2jh16lQcPHgQfn5+MDY2Rl5eHjw8PLBly5YSl5p4U2bNmoXz589j9OjR0pq9GRkZsLGxQY8ePbB161YcO3YMVlZWr+X6q1atwk8//YTWrVtDLpdDCAFfX1/s27cPn3zySYllXVxccOHCBXz//ffw8/ODhYUF0tPToaOjg6ZNm2LMmDHYv3+/NMu6opmbmyMiIgKbN29Gp06dYGlpKb1XfH198d1336ksE2RoaIiDBw/ihx9+QNu2bWFoaIjMzEw4Ojpi1KhRuHz5Mnr27Fmh9SzP81lXVxdHjx7FkCFDYG9vj9TUVCQkJCAhIUHtutalad26NU6ePImAgACYm5sjLy8P9erVw5IlS0p9r8nlcuzYsQPh4eEICAiAjW/CoDkAACAASURBVI0Nnj9/DhMTE3h6euKrr77C6NGjlco0aNAAR44cQdeuXWFmZoZHjx4hISGhxHWcXzZ//nwcPXoUPXv2hJWVFTIyMlCtWjUEBgbiP//5DxYuXFjmfiAiIqKKJROiAnZ8ICIiogpVr1493Lp1C2vWrMFHH3302q5z7949ODk5oaCgANevX0eDBg1e27WIiIiIiIio6uMMZSIiorfM0aNHcevWLRgZGWHgwIGv9Vrr169HQUEB2rZty2AyERERERERlYoBZSIiordIUlISpk6dCqBwg7yim5lVtAsXLmD58uUAgIkTJ7626xAREREREdG7g0teEBERvQWmTJmCnTt34tGjR8jNzYWVlRWuXr2K6tWrV/i12rRpgzt37uDRo0cQQqBdu3aIioqCTCar8GsRERERERHRu4UzlImIiN4CSUlJuHfvHgwMDNClSxdERES8lmAyANy/fx8PHz5E9erVMXLkSPz+++8MJhMREREREZFGOEOZiIiIiIiIiIiIiDTCGcpEREREREREREREpBEGlImIiIiIiIiIiIhIIwwoExEREREREREREZFGGFAmIiIiIiIiIiIiIo0woExEREREREREREREGmFAmYiIiIiIiIiIiIg0woAyEREREREREREREWmEAWUiIiIiIiIiIiIi0ggDykRERERERERERESkEQaUiYiIiIiIiIiIiEgjDCgTERERERERERERkUYYUCYiIiIiIiIiIiIijTCgTEREREREREREREQaYUCZiIiIiIiIiIiIiDTCgDIRERERERERERERaYQBZSIiIiIiIiIiIiLSCAPKRERERERERERERKQRBpSJiIiIiIiIiIiISCMMKBMRERERERERERGRRhhQJiIiIiIiIiIiIiKNMKBMRERERERERERERBphQJmIiIiIiIiIiIiINMKAMhERERERERERERFphAFlIiIiIiIiIiIiItIIA8pEREREREREREREpBEGlImIiIiIiIiIiIhIIwwoExHRK9u0aRNkMhk2bdpU2VUpt3ehDURERET/6962MV1UVBRkMhnmzJlT2VVR0b59e8hkssquBhFVQQwoE1GlkslkZfqprIHhnDlzSqzXoUOHKvyalTH4HDZsGGQyGeLj49/YNd+Ut3kwT0RERFReHE9Xrvj4eMhkMgwbNqyyq6LiXR7bE1Hl0qnsChDR/7aQkBCVtO+++w7p6emYMGECzM3NlY65ubm9qaqpFRwcDCcnJ5V0FxeXN18ZqlDvv/8+PD09YWdnV9lVISIiItIYx9Nvt1atWuH69euwsrKq7Kqo2LJlCzIzMyu7GkRUBTGgTESVSt1s0U2bNiE9PR0TJ05UO9isTMOGDUP79u0ruxr0GpiZmcHMzKyyq0FERERUJhxPv90MDQ3RoEGDyq6GWrVq1arsKhBRFcUlL4ioStm5cyfatWsHMzMzGBgYoEmTJli4cCGys7NV8jo5OcHJyQnp6ekYN24c7O3toa+vj0aNGmHFihUQQlRCC4DHjx9jypQpqF+/PoyMjGBubo769etj2LBhuHPnDoDCgbafnx8AYO7cuUpfB4yKigIApKenY8mSJejQoQNq1qwJPT09WFtbIzAwEKdPn1Z7bZlMhvbt2+PRo0cYNWoU7O3toa2tLa01t3nzZgCAs7OzdL1X/SPk3Llz6N27N6pXrw65XA5HR0eMHTsWDx8+VJs/MzMTixYtgoeHB0xMTGBsbIyGDRvik08+wePHj6V8N2/exIwZM+Dh4QFra2vp3GPGjMH9+/eVzqlJf5a03l5Z2lD0q4Xr1q1DkyZNoK+vDxsbG4wZMwbp6ekqZf7++28MGDAATk5OkMvlsLa2hru7OyZOnIjc3FxNu5qIiIioVO/CeBoAYmNj0bdvX1hYWMDIyAje3t7Yv39/iWXu37+PcePGoXbt2pDL5ahWrRoCAwNx9uxZlbzPnj3DvHnz0LhxY5iamsLExAR16tRBv379cO7cOQCFwXxnZ2cAwObNm9UuLVLcsmuK9Yvz8vKwYMEC1K1bF3K5HA4ODpg+fTpycnJU6hQWFobBgwejXr16MDIygpGREVq0aIEVK1agoKBAKa8mY/vi1lAuKCjA2rVr0bJlSxgbG8PIyAgtW7bEmjVrVK6juFb79u2RlJSEMWPGwM7ODnK5HK6urggNDVXJL4TA5s2b4e3tDWtra+jr68PBwQH+/v7YsWOHSn4ievtwhjIRVRmfffYZFi5cCCsrKwwcOBDGxsY4ePAgPvvsMxw+fBh//PEH9PT0lMrk5OSgU6dOSEtLQ//+/ZGTk4PffvsNEyZMwI0bN7B69eoy1eHkyZOIiYlBfn4+nJyc0LFjxzJ9fS0zMxM+Pj64ffs2OnfujICAAAghkJCQgPDwcPTp0we1a9dGUFAQgMKBqa+vr9IsDsUg8Pr165g1axbatWuHHj16wMLCAnfv3sWePXtw8OBB7N27F127dlWpQ0pKCjw9PWFsbIxevXpBS0sLNjY2CAkJQVhYGC5duqT09ciXvyZZFvv27UPv3r0hhECfPn3g6OiIc+fOYc2aNQgPD8fJkyelQTgApKamws/PD5cuXUL9+vUxYsQI6Onp4fbt2wgNDUWvXr1gY2MDAPj999+xdu1a+Pn5wdvbG3p6erh69Sp++OEH7N27FzExMbC3twcAjfqzotqgMG3aNBw+fBgBAQHo0qULIiMjsWHDBsTGxiIiIkLK9/fff6N169aQyWQIDAyEs7Mznj59itjYWHz//feYP38+dHV1y3sLiIiIiCTvwngaAG7dugUvLy8kJyejW7ducHNzQ2xsLIKCgtCtWze1Zc6fP48uXbogJSUF/v7+6NWrF5KSkhAWFoY2bdpg9+7d6N69O4DCgGfXrl1x6tQpeHl5YdSoUdDR0cH9+/cRGRmJtm3bokWLFmjfvj3S0tKwfPlyNGvWTBpzApovLTJw4ECcOHEC3bp1g6mpKQ4cOIDFixfjyZMnKsHYGTNmQEtLC61bt4a9vT3S09MRERGBCRMm4OzZs9i6dauU91XG9kOGDMG2bdvg4OCAUaNGQSaTYffu3Rg7dixOnjyJn3/+WaVMWloafHx8oKenhz59+iA7Oxu7du3CiBEjoKWlheDgYCnvrFmzsHDhQjg7O+ODDz6AmZkZHj58iLNnz2LXrl3o16+fRn1HRJVIEBG9ZRwdHQUAERcXJ6WdOnVKABAODg7i4cOHUnpubq547733BADx1VdfqT2Pj4+PyMrKktKTk5NF7dq1BQBx7NgxjeoUEhIiAKj8yOVyMXv2bFFQUKDRefbs2SMAiIkTJ6ocy87OFk+fPpV+j4yMFABESEiI2nOlpaWJxMRElfR79+4JOzs70aBBA5VjinoPGTJE5ObmqhwPDg5W6XtNhIaGCgAiNDRUSnv27JmwtLQUWlpa4vjx40r5v/76awFAdO7cWSl9wIABAoD46KOPRH5+vtKxZ8+eibS0NOn3+/fvK91XhcOHDwstLS3x0UcfKaWX1p8V1QZFHzo4OIiEhAQpPTc3V7Rt21YAEH/++aeUPmnSJAFAhIWFqdQpJSVFpR+IiIiISvMuj6eFEKJz584CgPjuu++U0sPCwqTzFh3T5ebmijp16gi5XC6ioqKUyjx48EDUqFFD2NraSm38+++/BQARFBSkcu38/HyRkpIi/R4XFycAiODgYLV1LW4M6uvrKwAId3d3kZycLKVnZGSIOnXqCC0tLaX7JIQQsbGxauszdOhQAUCcOXNG6VhpY3tFHYratm2bACCaN28unj17plSvFi1aCADi559/Viqj6PORI0eKvLw8Kf3q1atCW1tbNGzYUCm/paWlsLe3F8+fP1epk7q/b4jo7cMlL4ioSti4cSMAYPbs2bC1tZXSdXR08M0330BLSws//PCD2rILFy6EXC6Xfre0tMTnn38OAGq/gqVOs2bNsHHjRty5cwcvXrxAQkICNmzYAHNzc8yfPx+zZs0qU3sMDAxU0vT09GBiYqLxOczMzNTO5qhZsyb69OmDf/75B3fv3lV7naVLl0JH5/V+SSU8PBwpKSno168f2rZtq3Rs8uTJcHJywpEjR6Q6PnnyBDt27ICdnR2WLl0KLS3l/0UZGxsrrXFsb2+vdF8VunTpAldXVxw+fPiNt6GoL774QmldOh0dHQwfPhwA8Ndff6nkV/easLCwUOkHIiIiovJ4V8bT9+/fx5EjR+Ds7Ixx48YpHevZsyd8fX1Vyuzfvx+3b9/G+PHjVY7XqFED06ZNw6NHj3D06FGlY+rGZ1paWrCwsNCorppYtGgRLC0tpd+NjIwwaNAgFBQUICYmRilvnTp11NZnwoQJAFAh41/F6+Trr7+GsbGxUr0WLVoEAGpfJ4aGhvj222+hra0tpTVq1Ag+Pj64fv06MjIylPLr6uoq5VV4GzcvJCJVXPKCiKqE8+fPAwA6dOigcqxevXqoWbMm4uLikJ6erhR01NHRgbe3t0oZxZIHFy5c0Oj677//vtLvtWrVwqhRo+Du7g5PT08sXboUkyZNKnUA5OvrC3t7e3z99dc4f/48unfvDh8fH7i5uakdUJUmOjoay5cvx+nTp/HkyROVtdYePHigstmGk5MTqlevXuZrlVVJ90xHRwft2rVDfHw8Lly4gFq1auHs2bMoKChAu3btYGRkVOr5hRD4+eefsWnTJly6dAmpqanIz8+Xjr/8dc030YaiPDw8VMo4ODgAKFzaQ6Ffv35Yvnw5goKC0KdPH3Tq1Ak+Pj5q/2AgIiIiKq93ZTytuF6bNm3Ujp/bt2+PY8eOKaUp9hdJSEhQu4nhrVu3ABQuKde9e3c0atQIbm5u2L59OxISEtCzZ0+0adMGHh4eFTLGLErTMSMAJCcnY8mSJThw4ADu3LmD58+fKx1/8ODBK9fn/Pnz0NLSUrtxoq+vL7S1tdXe87p168LU1FQlvWhbFAHqQYMGYeXKlWjUqBE++OAD+Pr6wsvLixtkE1UhDCgTUZWg2MjMzs5O7XE7OzvcvXsXaWlpSgMRKysrtQNNxawMdRuklYW7uztatWqF6OhonD59GgEBASXmNzU1xZkzZxASEoI9e/ZIswisrKwwduxYzJ49W+P1cnfv3o0+ffpAX18fnTt3Rp06dWBkZAQtLS1ERUXh2LFjajdXKToj5XXS5J4BheutFf2vYt3j0kyaNAnfffcd7Ozs4O/vD3t7e2kWyaZNm5CQkPBK9QfK3oai1K1Pp5gVXjTw3apVK5w4cQJfffUVfv31V2ntu/r16yMkJAQDBgx4tUYQERER4d0ZTyuup9hXo7h6FZWcnAwA2LVrV4nnVsyi1dbWRkREBL788kv8+uuvmD59OgDAxMQEwcHBWLhwodLs3Veh6ZgxLS0NLVu2RFxcHFq1aoWhQ4fC0tISOjo60jrO6sb+ZZWeng5LS0u1gXMdHR1YWVnhyZMnGrWjuLYsW7YMtWvXRmhoKL7++mt8/fXX0NHRQffu3fHNN9/AxcXlldtBRK8XA8pEVCUoBrWPHj1SO3Pz4cOHSvkUkpKSkJ+frzIIfvTokdr85WFtbQ0AKjMEilOzZk38+OOPEELg2rVriIiIwOrVq/Hll1+ioKAA8+bN0+g8n3/+OfT09BATE4OGDRsqHfvwww9VZmYoqNvJ+XUoes/UefmeKQahmsysePLkCVasWIHGjRvj1KlTKkuFbN++vdz1LqqsbSgvLy8v7Nu3D9nZ2Th37hwOHTqElStXYuDAgbC2tkanTp1e6fxERERE78p4WnG9x48fqz2ubtymKBMeHo7AwECN6mRhYYFly5Zh2bJliI2NxbFjx7Bu3TqsWrUKaWlpShvgvQk//PAD4uLiEBISojLL+vTp01i+fHmFXMfMzAwpKSnIzc1VmeiSl5eHpKQktTORy0JbWxsTJ07ExIkT8eTJE5w8eRK//PILdu3ahatXr+Lq1atql7YjorcHF2YkoiqhefPmAICoqCiVY7Gxsbh//z6cnZ1VPhnPy8vDqVOnVMoozqM4b3nl5uZKXx+sXbt2mcrKZDK4urpi/PjxOHLkCAAgLCxMOq4YtBf9NL+o2NhYNGrUSCWYXFBQgJMnT5apLppesyxKumd5eXk4ceIEgMJZKUDhTF0tLS0cP3681D8m7ty5g4KCAnTp0kUlmHz//n3cuXNHpUx52lbWNrwquVwOb29vfPnll1ixYgWAwj98iIiIiF7VuzKeVlzv5MmTasd16trn6ekJANLYraxcXFwwcuRIHDt2DMbGxkrjs4ocP5ckNjYWANC7d2+VY8VNJCnv+LegoADHjx9XOXb8+HHk5+dX2NgXAKpXr45evXph586d6NChA27fvo0rV65U2PmJ6PVgQJmIqoQRI0YAAObPn4/ExEQpPT8/H1OmTEFBQQFGjhyptuzMmTOVvv6VkpKC+fPnA4C0SVpJnj17hhs3bqik5+TkYOLEibh79y4aNGigdv2zl129elXtbApFmqGhoZRWrVo1AFC74RtQuBbyrVu38O+//0ppQgjMmTMH165dK7Uu6pR2zbIICgqCpaUltm/fjjNnzigd++677xAXF4dOnTpJaw9bW1ujf//+ePjwoXRPi8rIyJC+4ujk5ARA9Q+JjIwMjB49Gnl5eRXStrK2oTxOnTqFFy9eqKSre00QERERlde7Mp6uWbMmOnfujLi4OKxatUrpWHh4uNrgas+ePVGnTh2sXr0aBw4cUHve06dPIzMzEwAQFxendoJCamoqsrOzlTbrs7CwgEwmq5Dxc0kU49+XA+YXLlzAwoUL1ZYpz/hX8TqZOXOm1B8AkJmZiRkzZgBAsa8TTWRnZyM6OlolPTc3FykpKQA4/iWqCrjkBRFVCd7e3pg2bRoWL16Mxo0bo0+fPjAyMsLBgwdx5coVtGnTBlOnTlUpZ2dnh+zsbDRu3BiBgYHIzc3Fr7/+iocPH2Ls2LFo165dqddOTk5Gw4YN4eHhgYYNG8LOzg6JiYmIjIxEXFwcrKyssH37dmhplf4Z3ZEjRzB16lR4eXmhXr16qF69Ou7fv4/w8HBoaWkptaF+/fqwt7fHL7/8Al1dXTg6OkImk2HIkCFwdHTEp59+io8++gjNmzdH7969oauri+joaFy7dg0BAQHYu3dv2ToZQMeOHbFkyRKMHj0avXv3homJCczNzVV20NaEsbExNm7ciL59+8LX1xd9+/ZFrVq1cO7cOfzxxx+wtbXFunXrlMqsWrUKV65cwdq1axEVFQV/f3/o6ekhLi4Ohw8fxp49e9C+fXvY2tqif//++OWXX+Dm5oYuXbogPT0dR44cgb6+Ptzc3HDx4kWlc5fWnxXVhrJavHgxIiIi0LZtWzg7O8PY2BhXr17FwYMHYWFhgTFjxrzS+YmIiIiAd2c8DQCrV6+Gl5cXJk6ciD/++APNmjVDbGwsdu/erXYcrKuri99//x3+/v7o0aMHvL294ebmBkNDQ9y7dw9nz57FnTt38PDhQxgaGuLSpUvo1asXWrZsiYYNG6JGjRpITExEeHg4cnNzpTWVgcLxYuvWrXHixAkMGjQI9erVg7a2NgIDA9G0aVON2qOJoUOHYsmSJZg4cSIiIyNRt25d3Lp1C/v27UOvXr2wY8cOlTLlGdsPHDgQ4eHh2LlzJ1xdXREUFASZTIawsDDExcWhX79+GDRoULnb8eLFC7Rp0wYuLi5o0aIFHB0dkZWVhSNHjuD69esIDAxU+QYmEb2FBBHRW8bR0VEAEHFxcSrHtm/fLnx8fISxsbGQy+WiUaNGYv78+eLFixdqz+Po6CjS0tLE2LFjRY0aNYSenp5o0KCBWL58uSgoKNCoPunp6WL8+PGidevWwsbGRujq6gojIyPRtGlTMX36dPH48WON23bt2jXx6aefihYtWggrKyuhp6cnHB0dRe/evUV0dLRK/r/++kt06NBBmJqaCplMJgCIyMhI6XhoaKho1qyZMDQ0FNWqVRNBQUHi77//FiEhISp5hRACgPD19S2xjt98841o0KCB0NPTEwCEo6Njqe0KDQ0VAERoaKjaNgQFBQkrKyuhq6srHBwcxEcffSQePHig9lwZGRli/vz5okmTJsLAwEAYGxuLhg0bigkTJij19fPnz8Vnn30m6tSpI+RyuahZs6YYO3asSEpKEr6+vkLd/+JK6s+KakNwcHCxr9/IyEgBQISEhEhphw8fFsOGDRMNGzYUpqamwtDQUNSrV0+MHz9exMfHq+0jIiIiopK8y+NphVu3bonevXsLMzMzYWhoKDw9PcW+fftKHNM9fvxYTJ8+Xbi6ugoDAwNhZGQkXFxcRO/evcXWrVtFbm6uEEKIe/fuiZkzZwpvb29hY2Mj9PT0hL29vejatas4cOCA2rq89957wtLSUhpjKq6vbvwnhCh2vCpE8ePSq1evioCAAGFtbS0MDQ2Fu7u72LBhg4iLixMARHBwsMq5ShrbF1eH/Px8sXr1atGiRQthYGAgDAwMhLu7u1i1apXIz89XyV/S3xgvj41zcnLEokWLRNeuXYWDg4OQy+XCyspKtG7dWqxZs0ZkZ2erPQ8RvV1kQgjxJgPYRERviuJrYfHx8ZVaDyIiIiKiqojjaSIiUodrKBMRERERERERERGRRhhQJiIiIiIiIiIiIiKNMKBMRERERERERERERBrhGspEREREREREREREpBHOUCYiIiIiIiIiIiIijehUdgWqCisrK2mHWyIiIiJ6d8THxyMpKamyq1ElcYxMRERE9G4qaYzMgLKGnJycEBMTU9nVICIiIqIK5uHhUdlVqLI4RiYiIiJ6N5U0RuaSF0RERERERERERESkEQaUiYiIiIiIiIiIiEgjDCgTERERERERERERkUYYUCYiIiIiIiIiIiIijTCgTEREREREREREREQaYUCZiIiIiIiIiIiIiDTCgDIRERERERERERERaYQBZSIiIiIiIiIiIiLSCAPKRERERERERERERKQRBpSJiIiIiIiIiIiISCM6lV2Bd9nWC3cruwr0kiHNa1V2FYiIiIj+p3GM/PbhGJmIiIjKgjOUiYiIiIiIiIiIiEgjDCgTERERERERERERkUYYUCYiIiIiIiIiIiIijTCgTEREREREREREREQaYUCZiIiIiIiIiIiIiDSiU9kVIHrX/Ps0t7KrQGrUMNWt7CoQEREREREREVV5nKFMRERERERERERERBphQJmIiIiIiIiIiIiINMKAMhERERERERERERFphAFlIiIiIiIiIiIiItIIA8pEREREREREREREpBEGlImIiIiIiIiIiIhIIwwoExEREREREREREZFGGFAmIiIiIiIiIiIiIo0woExEREREREREREREGmFAmYiIiIiIiIiIiIg0woAyEREREREREREREWmEAWUiIiIiIiIiIiIi0ggDykRERERERERERESkEQaUiYiIiIiIiIiIiEgjDCgTERERERERERERkUYYUCYiIiIiqiKioqIgk8lUfszNzZXypaamYtSoUbCysoKRkRE6deqEy5cvq5wvKysLU6dOhZ2dHQwMDODl5YXjx4+/qeYQERERURWkU9kVICIiIiKislmxYgVatmwp/a6j899hvRACAQEBiI+Px8qVK2FhYYGFCxfCz88PFy9eRM2aNaW8I0eOxP79+7FkyRLUrl0bq1evhr+/P06fPg03N7c32iYiIiIiqhoYUCYiIiIiqmIaNmwIT09Ptcf27NmD6OhoREREwM/PDwDg5eUFZ2dnLF68GCtWrAAAXLp0Cdu2bcPGjRsxfPhwAICvry9cXV3xxRdfYM+ePW+mMURERERUpXDJCyIiIiKid8iePXtQo0YNKZgMAGZmZggICEB4eLhSPl1dXfTr109K09HRQf/+/XH48GFkZ2e/0XoTERERUdXAgDIRERERURUzaNAgaGtro1q1ahg4cCDu3r0rHbt69SoaN26sUsbV1RV3795FRkaGlM/Z2RmGhoYq+XJychAbG/t6G0FEREREVRKXvCAiIiIiqiLMzMwwefJk+Pr6wtTUFBcuXMCCBQvg5eWFCxcuoHr16khJSYGTk5NKWUtLSwCFG/YZGxsjJSUFFhYWxeZLSUl5rW0hIiIioqqpysxQ7tq1K2QyGWbPnq2Uzh2siYiIiOh/RfPmzbF06VIEBATA19cXEydOxKFDh/D48WNpbeTXbf369fDw8ICHhwcSExPfyDWJiIiI6O1RJQLK27dvx6VLl1TSFTtYHzp0CCtXrsRvv/2G3Nxc+Pn54f79+0p5R44ciQ0bNuDLL7/Evn37YGdnB39/f1y8ePFNNYOIiIiIqMK5u7ujXr16OHv2LADAwsICqampKvkUM44Vs5JLy6eYqfyyMWPGICYmBjExMbC2tq6QNhARERFR1fHWB5RTU1Px6aef4ttvv1U5ptjBeuvWrRgwYAC6du2KPXv2oKCgAIsXL5byKXawXrZsGUaPHo2OHTti586dqFWrFr744os32RwiIiIiotdCJpMBKFwD+erVqyrHr127hlq1asHY2FjKFxcXh8zMTJV8enp6cHFxef2VJiIiIqIq560PKE+fPh2NGzfGgAEDVI5xB2siIiIi+l8XExODGzduoFWrVgCAwMBAPHjwAMeOHZPyPH36FHv37kVgYKCUFhAQgNzcXOzatUtKy8vLw44dO9ClSxfI5fI31wgiIiIiqjLe6k35Tp48iS1btqhd7gIoeQfrLVu2ICMjA8bGxhrtYO3q6vpa2kBEREREVFEGDRoEZ2dnuLu7w9zcHBcuXMDChQthb2+PTz75BEBhQNnLywuDBw/GkiVLYGFhgYULF0IIgWnTpknnat68Ofr164eJEyciNzcXzs7OWLNmDeLi4vDzzz9XVhOJiIiI6C331gaUc3Jy8OGHH2LKlCmoX7++2jzcwZqIiIiI/pc0btwY27dvx8qVK5GZmQlbW1v06tULc+fOtD+CkwAAIABJREFUhZWVFQBAS0sL+/btw5QpUzB27FhkZWXBy8sLkZGRcHBwUDpfaGgoZs2ahdmzZyMtLQ3NmjXDoUOH4O7uXhnNIyIiIqIq4K0NKC9evBgvXrzArFmzKq0O69evx/r16wGAO1gTERERUaWbOXMmZs6cWWo+S0tLbNy4ERs3biwxn4GBAb799lu1+5UQEREREanzVq6hfPfuXXz11VeYN28esrOzkZaWhrS0NACQfs/Pz+cO1kRERERERERERERv0Fs5Q/nOnTvIysrC4MGDVY4tXboUS5cuxYULF+Dq6oo//vhDJY+6Hax3796NzMxMpXWUuYM1EVWkAwdiKrsKpEb37h6VXQUiIiIiIiKid8ZbGVB2c3NDZGSkSrqfnx8GDx6MkSNHwsXFBYGBgQgNDcWxY8fg6+sL4L87WA8cOFAqFxAQgJCQEOzatQvBwcEAuIM1ERERERHRm/Tv09zKrgK9pIapbmVXgYiIqqC3MqBsbm6O9u3bqz3m6OgoHeMO1kRERERERERERERvzlu5hrKmFDtYd+7cGWPHjsX7778PbW3tYnewHj58OGbPno0ePXrg3r173MGaiIiIiIiIiIiIqAzeyhnKxRFCqKRxB2siIqL/Z+/e46qq8v+Pv4+giFwPiYnhBaNMj3m3JL+FmKKNgmaamjTmVDSpZZqmjYhOaTZpWNpMhQZlaYo6jUh5KUEsLzMyo+XAlJngNRUFMjIFZf/+8OH5SZBibC7n8Ho+Hjzy7LX2Wp/NPnA++9NibwAAgNqLZ43UPjxnBEBlOPQKZQAAAAAAAABA9aGgDAAAAAAAAACoEArKAAAAAAAAAIAKoaAMAAAAAAAAAKgQCsoAAAAAAAAAgApxrekAAABwdFMef6SmQ8AvzFv8bk2HAAAAUKeRI9dO5MkwAyuUAQAAAAAAAAAVwgplAACA3yj8rs41HQJ+YdP23TUdAgAAAODUWKEMAAAAAAAAAKgQCsoAAAAAAAAAgAqhoAwAAAAAAAAAqBAKygAAAAAAAACACqGgDAAAAAAAAACoEArKAAAAAAAAAIAKMbWgvHbtWiUmJtpfHzx4UCEhIfLy8tLQoUNVWFho5nQAAACAQyBPBgAAgLMwtaA8e/Zs5ebm2l9PmjRJR44cUXR0tLZu3apZs2aZOR0AAADgEMiTAQAA4CxMLSh/99136tChgyTp559/1ieffKK4uDi9+uqreumll/TRRx+ZOR0AAADgEMiTAQAA4CxMLSifO3dO7u7ukqTt27frwoULCg8PlyS1adNGx44dM3M6AAAAwCGQJwMAAMBZmFpQbtWqlb744gtJl+4T17VrV/n4+EiSTp48af83AAAAUJeQJwMAAMBZuJo52BNPPKHJkyfro48+0p49e/Tmm2/a23bs2KF27dqZOR0AAADgEMiTAQAA4CxMLShPmDBBjRs31s6dO/X000/r97//vb3txx9/1JgxY8ycDgAAAHAI5MkAAABwFqYWlCVp1KhRGjVqVJntb7/9ttlTAQAAAA6DPBkAANQF4Xd1rukQUI5N23ebNpbpBWVJSktL044dO3T06FHddNNNCgkJUVhYWFVMBQAAADgM8mQAAAA4OlMLynl5eRo2bJjS0tJUr149Wa1W5efnyzAMhYWFKSkpSX5+fmZOCQAAANR65MkAAABwFvXMHOzpp5/Wrl279MEHH+jnn39Wbm6ufv75Zy1dulS7du3ShAkTzJwOAAAAcAjkyQAAAHAWphaU161bp7lz5+qhhx5S/fr1JUn169fXqFGjNHv2bCUnJ5s5HQAAAOAQqjJP7t+/vywWi2JiYkptz8/P12OPPabGjRvLw8NDffr00d69e8vsf+7cOU2ZMkUBAQFyd3dXSEiItm7d+pvjAQAAgHMztaDs4uKiW265pdy2Nm3ayMXFxczpAAAAAIdQVXnyhx9+qC+//LLMdsMwFBERoQ0bNmjRokVas2aNiouLFRYWpiNHjpTq++ijj2rx4sV64YUXlJKSooCAAPXr10979uz5TTEBAADAuZlaUB40aJBWrlxZbtuKFSs0ePBgM6cDAAAAHEJV5Mn5+fmaOHGi4uLiyrQlJydr27Ztev/99zVy5Ej1799fycnJKikp0SuvvGLv9+WXX2r58uVasGCBHn/8cd17771KSkpSixYtFBsbe90xAQAAwPmZ+lC+iIgITZw4UQMGDNCwYcN044036sSJE0pKSlJmZqZef/11paam2vv37t3bzOkBAACAWqkq8uSpU6eqffv2GjlypB566KFSbcnJyWrWrJnCwsLs23x8fBQREaG1a9dq4cKF9n7169fX8OHD7f1cXV01YsQIvfzyyzp//rzc3Nwqe/gAAABwIqYWlIcOHSpJOnz4sNavX1+m/YEHHpB06U/wLBaLLl68aOb0AAAAQK1kdp78xRdfaOnSpeXe7kKSMjMz1b59+zLbbTabli5dqsLCQnl6eiozM1NBQUFq1KhRmX5FRUXav3+/bDZbhY4RAAAAdYOpBeW0tDQzhwMAAACcgpl5clFRkZ544glNnjxZbdq0KbdPXl6eWrVqVWa7n5+fpEu3y/D09FReXp6sVuuv9svLyzMtbgAAADgHUwvKoaGhZg4HAAAAOAUz8+RXXnlFP//8s6ZPn27amNcjPj5e8fHxkqTc3NwaiQEAAAA1x9SH8gEAAACoOocOHdKcOXP04osv6vz58yooKFBBQYEk2V9fvHhRVqtV+fn5Zfa/vOL48qrka/W7vFL5StHR0crIyFBGRob8/f1NOzYAAAA4hkqvUO7du7f+9re/6bbbbrvmw0MsFos2b95c2SkBAACAWq8q8uQDBw7o3LlzioqKKtM2f/58zZ8/X7t375bNZtOmTZvK9MnKylKLFi3k6ekp6dK9kj/66COdPXu21H2Us7Ky1KBBAwUHB18zJgAAANQtlV6hbBiG/d8lJSUyDONXv0pKSio7HQAAAOAQqiJP7tSpk9LS0sp8SVJUVJTS0tIUHBysyMhIHT16VOnp6fZ9z5w5o3Xr1ikyMtK+LSIiQsXFxVq1apV924ULF7Ry5UqFh4fLzc2tst8GAAAAOJlKr1C+8gEjW7ZsqexwAAAAgFOoijzZ19dXvXr1KretZcuW9rbIyEiFhIQoKipK8+bNk9Vq1dy5c2UYhp577jn7Pp07d9bw4cP1zDPPqLi4WEFBQXrzzTeVnZ2tZcuWmRIzAAAAnItp91AuKirS/fffr61bt5o1JAAAAODwaiJPrlevnlJSUtS3b1+NHTtW999/v1xcXJSWlqbmzZuX6puYmKgxY8YoJiZGAwYM0OHDh7VhwwZ16dKl2uIFAACA4zCtoNygQQN99tln3NYCAAAAuEJ15MmGYWj27Nmltvn5+SkhIUF5eXk6e/asNm/erI4dO5bZ193dXXFxcTp+/LjOnTunf/7zn7+6ChoAAAAwraAsST179tTOnTvNHBIAAABweOTJAAAAcBaVvofylV599VUNHjxYnp6eGjx4sAICAmSxWEr1qVfP1Bo2AAAAUOuRJwMAAMBZVDprXbp0qU6fPi1Juv322/Xdd99pwoQJatmypRo0aKD69evbvxo0aFDhcTdu3KjevXuradOmcnNzU2BgoB588EFlZWWV6nf48GENHTpUPj4+8vb21pAhQ3To0KEy4+Xn5+uxxx5T48aN5eHhoT59+mjv3r2VO3gAAADgV1RVngwAAADUpEqvUB4zZox27NihG264QbGxsWVWWvxWeXl56tq1q8aOHSt/f38dOnRIL7/8snr06KG9e/eqZcuWOnv2rHr37i03Nze99957slgsiomJUVhYmL766it5eHhIunRPuYiICOXk5GjRokX2p1yHhYVpz549CgwMNCVmAAAA4LKqypMBAACAmlTpgrJhGPZ/z5o1q7LD2Y0cOVIjR44ste2OO+7QbbfdptWrV+vZZ5/V4sWLdeDAAX3zzTcKDg6WJHXo0EG33HKL3n77bU2aNEmSlJycrG3btik1NVVhYWGSpJCQEAUFBemVV17RwoULTYsbAAAAkKouTwYAAABqkkPdqO2GG26QJLm6XqqDJycnq0ePHvZisiQFBQWpZ8+eWrt2rX1bcnKymjVrZi8mS5KPj48iIiJK9QMAAAAAAAAA/DpTHsp39OhRHThwoEJ9W7dufV1jX7x4URcvXtTBgwc1bdo0NW3a1L5yOTMzU4MGDSqzj81m06pVq+yvMzMz1b59+3L7LV26VIWFhfL09LyuuAAAAIBrqco8GQAAAKgJphSUhw4dWuG+Fy9evK6x77zzTv373/+WJAUHBys1NVVNmjSRdOk+y1artcw+fn5+ys/Pt7/Oy8tTq1atyu0nXXpgHwVlAAAAmK0q82QAAACgJphSUJ4+fbpuvvlmM4Yq4/3339eZM2d04MABzZ8/X3379tUXX3xRboHYbPHx8YqPj5ck5ebmVvl8AAAAcC5VmScDAAAANcGUgvLAgQN1xx13mDFUGW3btpV0aaXyfffdp1atWunll1/WW2+9JavVWmol8mW/XLl8tX6X28sTHR2t6OhoSVK3bt0qfSwAAACoW6oyTwYAAABqgkM9lM/X11fBwcHav3+/pEv3QM7MzCzTLysrS+3atbO/vlq/Fi1acLsLAAAAAAAAAKgAhyoonzhxQl9//bX9zwYjIyO1c+fOUg86ycnJ0bZt2xQZGWnfFhkZqaNHjyo9Pd2+7cyZM1q3bl2pfgAAAAAAAACAX1fpW17MnDlTgYGBZsRSyv33368uXbqoQ4cO8vb21r59+7RgwQK5urrq2WeflSQ9/vjjeuONNzRo0CDNnj1bFotFM2bMUPPmzfXEE0/Yx4qMjFRISIiioqI0b948Wa1WzZ07V4Zh6LnnnjM9dgAAAKCq8mQAAACgJplSUK4KPXr0UFJSkl599VUVFRWpefPm6tWrl55//nn7A/k8PDyUmpqqiRMn6uGHH5ZhGLr33nv12muvlbqNRb169ZSSkqLJkydr7NixOnfunEJCQpSWlqbmzZtXSfwAAACo26oqTwYAAABqkikP5asKU6dO1dSpU6/Zr0WLFlqzZs01+/n5+SkhIUEJCQlmhAcAAAAAAAAAdY5D3UMZAAAAAAAAAFBzKCgDAAAAAAAAACqk0gXlIUOGaP/+/ZKkpUuX6vTp05UOCgAAAHB05MkAAABwRpUuKK9du1Z5eXmSpDFjxui7776rdFAAAACAoyNPBgAAgDOqdEH5xhtv1I4dOyRJhmHIYrFUOigAAADA0ZEnAwAAwBlVuqD84IMPauLEiXJxcZHFYlGPHj3k4uJS7perq6sZMQMAAAC1HnkyAAAAnFGlM9cFCxaoZ8+eysrK0p///Gc98sgjuummm8yIDQAAAHBY5MkAAABwRpUuKFssFg0bNkyS9O6772rChAnq2LFjpQMDAAAAHBl5MgAAAJyRqX9bl52dbeZwAAAAgFMgTwYAAICzqPQ9lH/p+++/1+TJk9W9e3fdfPPN6t69u5577jkdP37c7KkAAAAAh0GeDAAAAGdgakF537596tixoxYuXChPT0/dcccd8vT01Ouvv65OnTrp22+/NXM6AAAAwCGQJwMAAMBZmHrLi6lTp8rHx0f/+te/1KpVK/v2gwcPKjw8XFOnTtXf//53M6cEAAAAaj3yZAAAADgLU1cop6Wl6cUXXyyVJEtSy5YtNWvWLKWlpZk5HQAAAOAQyJMBAADgLEwtKBcVFcnLy6vcNi8vLxUVFZk5HQAAAOAQyJMBAADgLEwtKHfq1EmLFi1SSUlJqe2GYehvf/ubOnXqZOZ0AAAAgEMgTwYAAICzMLWgHBsbq88++0xt27ZVbGys3nzzTc2cOVM2m02ffvqpZs6caeZ0AAAAgEMwK0/euHGjevfuraZNm8rNzU2BgYF68MEHlZWVVarf4cOHNXToUPn4+Mjb21tDhgzRoUOHyoyXn5+vxx57TI0bN5aHh4f69OmjvXv3mnLMAAAAcE6mPpSvf//+SklJUUxMjObMmSPDMGSxWNS1a1elpKQoPDzczOkAAAAAh2BWnpyXl6euXbtq7Nix8vf316FDh/Tyyy+rR48e2rt3r1q2bKmzZ8+qd+/ecnNz03vvvSeLxaKYmBiFhYXpq6++koeHh6RLq6MjIiKUk5OjRYsWyWq1au7cuQoLC9OePXsUGBhYld8SAAAAOChTC8rSpWS5f//+Onv2rPLz82W1WtWoUSOzpwEAAAAcihl58siRIzVy5MhS2+644w7ddtttWr16tZ599lktXrxYBw4c0DfffKPg4GBJUocOHXTLLbfo7bff1qRJkyRJycnJ2rZtm1JTUxUWFiZJCgkJUVBQkF555RUtXLjQhKMGAACAszH1lhdXatSokW666SaKyQAAAMAVzM6Tb7jhBkmSq+ultSLJycnq0aOHvZgsSUFBQerZs6fWrl1r35acnKxmzZrZi8mS5OPjo4iIiFL9AAAAgCtVWUEZAAAAQNW4ePGiioqK9O233+qJJ55Q06ZN7SuXMzMz1b59+zL72Gy2Uvdavlq/Q4cOqbCwsOoOAAAAAA6LgjIAAADgYO688065ubnp1ltv1VdffaXU1FQ1adJE0qX7LFut1jL7+Pn5KT8/3/76av0kleoLAAAAXEZBGQAAAHAw77//vnbu3Knly5fL29tbffv2VU5OTrXMHR8fr27duqlbt27Kzc2tljkBAABQe1BQBgAAABxM27Ztdeedd2rkyJHavHmzCgsL9fLLL0uSrFZruauLf7ki+Wr9LreXJzo6WhkZGcrIyJC/v78ZhwMAAAAHYlpBuaioSF26dNGmTZvMGhIAAABweFWdJ/v6+io4OFj79++XdOkeyJmZmWX6ZWVlqV27dvbXV+vXokULeXp6Vkm8AAAAcGymFZQbNGig7Oxs+9OlAQAAAFR9nnzixAl9/fXXuvnmmyVJkZGR2rlzpw4cOGDvk5OTo23btikyMtK+LTIyUkePHlV6erp925kzZ7Ru3bpS/QAAAIArmXrLi759+7JCGQAAAPgFs/Lk+++/Xy+++KLWrl2rtLQ0vf322woNDZWrq6ueffZZSdLjjz+uVq1aadCgQVq7dq2Sk5M1aNAgNW/eXE888YR9rMjISIWEhCgqKkorVqzQxo0bFRkZKcMw9Nxzz1U6VgAAADgnU5dJPPXUU4qKitKFCxc0ePBgBQQEyGKxlOrTunVrM6cEAAAAaj2z8uQePXooKSlJr776qoqKitS8eXP16tVLzz//vFq1aiVJ8vDwUGpqqiZOnKiHH35YhmHo3nvv1WuvvVbqNhb16tVTSkqKJk+erLFjx+rcuXMKCQlRWlqamjdvburxAwAAwHmYWlAODQ2VJMXFxWnBggXl9rl48aKZUwIAAAC1nll58tSpUzV16tRr9mvRooXWrFlzzX5+fn5KSEhQQkLCNfsCAAAAkskF5cTERDOHAwAAAJwCeTIAAACchakF5dGjR5s5HAAAAOAUyJMBAADgLEx9KN9lJSUl+u9//6v09HT99NNPVTEFAAAA4HDIkwEAAODoTC8o//Wvf1XTpk3VoUMH9e7dW998840kafDgwVq4cKHZ0wEAAAAOgTwZAAAAzsDUgvLixYs1YcIEDR48WElJSTIMw9529913V+jBIAAAAICzIU8GAACAszC1oBwXF6dnn31W8fHxuv/++0u13XbbbfZVGAAAAEBdQp4MAAAAZ2FqQTk7O1v9+vUrt83Dw0MFBQVmTgcAAAA4BPJkAAAAOAtTC8qNGzdWTk5OuW3ffPONbrrpJjOnAwAAABwCeTIAAACchakF5YEDB+qFF17QgQMH7NssFotOnTqlBQsWaPDgwWZOBwAAADgE8mQAAAA4C1MLyrNnz5abm5vat2+vPn36yGKx6Omnn1bbtm3l4uKi2NhYM6cDAAAAHAJ5MgAAAJyF6be8yMjI0PPPP6/i4mLdfPPNunDhgsaPH68dO3bIx8fHzOkAAAAAh0CeDAAAAGdhakFZkry8vDRjxgx98cUX2rdvn3bs2KGZM2fK29v7usZZvXq1HnjgAbVs2VLu7u5q06aNnn/+ef3444+l+uXn5+uxxx5T48aN5eHhoT59+mjv3r1lxjt37pymTJmigIAAubu7KyQkRFu3bq3UsQIAAAAVZVaeDAAAANQk0wvKknTmzBlt375dq1at0o4dO8oUgSti/vz5cnFx0UsvvaQNGzboySef1Jtvvqm+ffuqpKREkmQYhiIiIrRhwwYtWrRIa9asUXFxscLCwnTkyJFS4z366KNavHixXnjhBaWkpCggIED9+vXTnj17TDlmAAAA4FrMyJMBAACAmuRq9oAvvPCCXn31VRUWFsowDEmXVmNMmTJFMTExFR5n3bp18vf3t78ODQ2Vn5+fRo8erS1btqh3795KTk7Wtm3blJqaqrCwMElSSEiIgoKC9Morr2jhwoWSpC+//FLLly9XQkKCxowZYx/PZrMpNjZWycnJZh0+AAAAUC6z8mQAAACgJpm6QnnmzJmaNWuWhg8frk8//VR79+7VZ599pgcffNDeVlFXFpMv6969uyTp6NGjkqTk5GQ1a9bMXkyWJB8fH0VERGjt2rX2bcnJyapfv76GDx9u3+bq6qoRI0Zo48aNOn/+/PUeKgAAAFBhZubJAAAAQE0ydYXy4sWL9eyzz2revHn2bTabTb1795aPj4/i4+MrlSynp6dLktq2bStJyszMVPv27cv0s9lsWrp0qQoLC+Xp6anMzEwFBQWpUaNGZfoVFRVp//79stlsvzkuAAAA4GqqOk8GAAAAqoupK5R/+OEH9evXr9y2/v3764cffvjNYx89elSxsbHq06ePunXrJknKy8uT1Wot09fPz0/SpQf2VaRfXl7eb44LAAAAuJaqzJMBAACA6mRqQfnOO+/Url27ym3btWuX7rzzzt80bmFhoQYNGiRXV1clJiZWJsTrEh8fr27duqlbt27Kzc2ttnkBAADgXKoqTwYAAACqW6VveVFSUmL/98KFC3X//ffL1dVVw4YN04033qgTJ04oKSlJCQkJpe5rXFE///yzIiIidODAAaWnpyswMNDeZrVa7auQr3R5xfHlVclWq1UHDx781X6XVyr/UnR0tKKjoyXJvioaAAAAqIiqzpMBAACAmlDpgrKrq6ssFov9tWEYmjZtmqZNm1aqn2EY6tChgy5cuFDhsYuLizV06FBlZGTo008/1e23316q3WazadOmTWX2y8rKUosWLeTp6Wnv99FHH+ns2bOl7qOclZWlBg0aKDg4uMIxAQAAABVRlXkyAAAAUFMqXVCOjY0tlSibpaSkRKNGjVJqaqpSUlLUo0ePMn0iIyOVmJio9PR0hYaGSpLOnDmjdevW6aGHHrL3i4iI0MyZM7Vq1SqNHj1aknThwgWtXLlS4eHhcnNzMz1+AAAA1G1VlScDAAAANanSBeWqehr1uHHjtGrVKk2fPl0eHh7auXOnvS0wMFCBgYGKjIxUSEiIoqKiNG/ePFmtVs2dO1eGYei5556z9+/cubOGDx+uZ555RsXFxQoKCtKbb76p7OxsLVu2rEriBwAAQN1WVXkyAAAAUJNMfSifmdavXy9JmjNnjkJCQkp9LVmyRJJUr149paSkqG/fvho7dqzuv/9+ubi4KC0tTc2bNy81XmJiosaMGaOYmBgNGDBAhw8f1oYNG9SlS5dqPzYAAAAAAAAAcESVXqH8S//73/+0evVqHT58WOfOnSvVZrFY9N5771VonJycnAr18/PzU0JCghISEq7az93dXXFxcYqLi6vQuAAAAICZzMqTAQAAgJpkakF56dKl+sMf/iCLxaImTZqoQYMGpdq5hxwAAADqIvJkAAAAOAtTC8ovvviiBg0apHfeeUe+vr5mDg0AAAA4LPJkAAAAOAtTC8rHjx/XW2+9RZIMAAAAXIE8GQAAAM7C1Ify9ezZU//73//MHBIAAABweOTJAAAAcBamrlB+4403NGTIEN1www0KDw+X1Wot06dePVNr2AAAAECtR54MAAAAZ2FqQTkwMFCdO3dWVFRUue0Wi0UXLlwwc0oAAACg1iNPBgAAgLMwtaD8+OOPa+XKlRo8eLBuu+22Mk+vBgAAAOois/Lk1atX68MPP1RGRoZOnjypFi1aaMiQIfrTn/4kLy8ve7/8/HxNmTJF//jHP/Tzzz8rJCRECxYs0O23315qvHPnzmnGjBn64IMPVFBQoE6dOukvf/mL7rnnnkodLwAAAJyXqQXltWvXat68eZowYYKZwwIAAAAOzaw8ef78+WrRooVeeuklBQYGavfu3Zo1a5bS0tK0fft21atXT4ZhKCIiQjk5OVq0aJGsVqvmzp2rsLAw7dmzR4GBgfbxHn30UX388ceaN2+eWrdurb/+9a/q16+fduzYoU6dOlX2sAEAAOCETC0oe3h4qF27dmYOCQAAADg8s/LkdevWyd/f3/46NDRUfn5+Gj16tLZs2aLevXsrOTlZ27ZtU2pqqsLCwiRJISEhCgoK0iuvvKKFCxdKkr788kstX75cCQkJGjNmjH08m82m2NhYJScnVzpeAAAAOB9Tn/wxZswYLV++3MwhAQAAAIdnVp58ZTH5su7du0uSjh49KklKTk5Ws2bN7MVkSfLx8VFERITWrl1r35acnKz69etr+PDh9m2urq4aMWKENm7cqPPnz1c6XgAAADgfU1cot2zZUh9++KH69u2r/v37l/v06j/84Q9mTgkAAADUelWZJ6enp0uS2rZtK0nKzMxU+/bty/Sz2WxaunSpCgsL5enpqczMTAUFBalRo0Zl+hUVFWn//v2y2Wy/KSYAAAA4L1MLyk8++aQk6eDBg9q8eXOZdovFQkEZAAAAdU5V5clHjx5VbGys+vTpo27dukmS8vLy1KpVqzJ9/fz8JF16YJ+np6fy8vLKLWxf7peXl3fd8QAAAMAqZHoZAAAgAElEQVT5mVpQzs7ONnM4AAAAwClURZ5cWFioQYMGydXVVYmJiaaP/2vi4+MVHx8vScrNza22eQEAAFA7mH7LCwAAAAClmZ0n//zzz4qIiNCBAweUnp6uwMBAe5vValV+fn6ZfS6vOL68KtlqtergwYO/2u/ySuVfio6OVnR0tCTZV0UDAACg7jD1oXwAAAAAqlZxcbGGDh2qjIwMffLJJ7r99ttLtdtsNmVmZpbZLysrSy1atJCnp6e9X3Z2ts6ePVumX4MGDRQcHFx1BwEAAACHZeoK5aCgIFkslqv2OXDggJlTAgAAALWeWXlySUmJRo0apdTUVKWkpKhHjx5l+kRGRioxMVHp6ekKDQ2VJJ05c0br1q3TQw89ZO8XERGhmTNnatWqVRo9erQk6cKFC1q5cqXCw8Pl5uZ2PYcIAACAOsLUgnJoaGiZRPn06dPavn27PD091bt3bzOnAwAAAByCWXnyuHHjtGrVKk2fPl0eHh7auXOnvS0wMFCBgYGKjIxUSEiIoqKiNG/ePFmtVs2dO1eGYei5556z9+/cubOGDx+uZ555RsXFxQoKCtKbb76p7OxsLVu2zJwDBwAAgNMxtaD87rvvlru9oKBA/fv3V58+fcycDgAAAHAIZuXJ69evlyTNmTNHc+bMKdU2c+ZMzZo1S/Xq1VNKSoomT56ssWPH6ty5cwoJCVFaWpqaN29eap/ExERNnz5dMTExKigoUMeOHbVhwwZ16dLl+g8SAAAAdYKpBeVf4+vrqylTpmj69Oml/swOAAAAqMuuN0/Oycmp0Lh+fn5KSEhQQkLCVfu5u7srLi5OcXFxFRoXAAAAqLaH8jVs2FBHjhyprukAAAAAh0CeDAAAAEdS5SuUL1y4oP/+97+aNWuWbDZbVU8HAAAAOATyZAAAADgiUwvK9erV+9WnV3t7e+vjjz82czoAAADAIZAnAwAAwFmYWlCOjY0tkyg3bNhQLVu21H333ScfHx8zpwMAAAAcAnkyAAAAnIWpBeVZs2aZORwAAADgFMiTAQAA4Cyq7aF8AAAAAAAAAADHVukVyi+88MJ19Y+Nja3slAAAAECtR54MAAAAZ1TpgnJF/nzvyvvFkSgDAACgLiBPBgAAgDOq9C0viouLr/q1a9cuhYeHyzAMBQcHmxEzAAAAUOuRJwMAAMAZVbqg7OLiUu7XgQMHFBUVpTvvvFNZWVmKj49XVlaWGTEDAAAAtR55MgAAAJyR6Q/lO3z4sB577DHZbDalpqZq/vz5+vbbb/XYY4/JxcXF7OkAAAAAh0CeDAAAAGdQ6XsoX5abm6vZs2crPj5eDRs2VGxsrCZOnCgPDw+zpgAAAAAcDnkyAAAAnEmlC8o//PCD/vKXv2jRokUyDEMTJkzQ1KlTZbVazYgPAAAAcEjkyQAAAHBGlS4oBwUF6YcfflB4eLhiYmIUEBCg/Px85efnl9u/devWlZ0SAAAAqPXIkwEAAOCMKl1QLigokCRt3LhRmzZtumb/ixcvVnZKAAAAoNYjTwYAAIAzqnRBOTEx0Yw4AAAAAKdCngwAAABnVOmC8ujRo82IAwAAAHAq5MkAAABwRvVqOgAAAAAAAAAAgGOgoAwAAAAAAAAAqBAKygAAAAAAAACACqGgDAAAAAAAAACokFpbUD5y5IieeuophYSEqFGjRrJYLMrJySnT79y5c5oyZYoCAgLk7u6ukJAQbd26tUy/kpISzZ07V61atVLDhg3VsWNHrVmzphqOBAAAAAAAAACcQ60tKO/fv19JSUmyWq26++67f7Xfo48+qsWLF+uFF15QSkqKAgIC1K9fP+3Zs6dUvxkzZmjWrFkaP3681q9frx49emjYsGH65JNPqvpQAAAAAAAAAMApuNZ0AL/mnnvu0YkTJyRJS5Ys0aZNm8r0+fLLL7V8+XIlJCRozJgxkqTQ0FDZbDbFxsYqOTlZknTy5EnNnz9f06ZN0+TJkyVJYWFh2r9/v6ZNm6bf/e531XRUAAAAAAAAAOC4au0K5Xr1rh1acnKy6tevr+HDh9u3ubq6asSIEdq4caPOnz8vSdq4caOKiooUFRVVav+oqCjt3btX2dnZ5gYPAAAAAAAAAE6o1haUKyIzM1NBQUFq1KhRqe02m01FRUXav3+/vZ+bm5uCg4PL9JOkrKys6gkYAAAAAAAAAByYQxeU8/LyZLVay2z38/Ozt1/+r6+vrywWy1X7AQAAAAAAAAB+Xa29h3JtEB8fr/j4eElSbm5uDUcDAAAAAAAAADXLoVcoW61W5efnl9l+ecXx5RXIVqtVBQUFMgzjqv1+KTo6WhkZGcrIyJC/v7+ZoQMAAAAAAACAw3HogrLNZlN2drbOnj1bantWVpYaNGhgv2eyzWbT+fPn9d1335XpJ0nt2rWrnoABAAAAAAAAwIE5dEE5IiJCxcXFWrVqlX3bhQsXtHLlSoWHh8vNzU2S1L9/f9WvX1/Lli0rtf8HH3yg9u3bKygoqFrjBgAAAAAAAABHVKsLyqtXr9bq1av173//W5K0fv16rV69Wunp6ZKkzp07a/jw4XrmmWe0ZMkSbd68WSNGjFB2drb+/Oc/28dp0qSJJk2apLlz5youLk5btmzRk08+qdTUVM2dO7dGjg0AAAD4LY4cOaKnnnpKISEhatSokSwWi3Jycsr0O3funKZMmaKAgAC5u7srJCREW7duLdOvpKREc+fOVatWrdSwYUN17NhRa9asqYYjAQAAgCOq1Q/lGzZsWKnXY8eOlSSFhoZqy5YtkqTExERNnz5dMTExKigoUMeOHbVhwwZ16dKl1L5z5syRp6enXn/9dR0/flxt2rRRUlKSBg4cWC3HAgAAAJhh//79SkpKUteuXXX33Xdr06ZN5fZ79NFH9fHHH2vevHlq3bq1/vrXv6pfv37asWOHOnXqZO83Y8YMzZ8/X3PmzFHXrl21YsUKDRs2TCkpKfrd735XXYcFAAAAB1GrC8q/fIheedzd3RUXF6e4uLir9nNxcVFMTIxiYmLMCg8AAACodvfcc49OnDghSVqyZEm5BeUvv/xSy5cvV0JCgsaMGSPp0qIMm82m2NhYJScnS5JOnjyp+fPna9q0aZo8ebIkKSwsTPv379e0adMoKAMAAKCMWn3LCwAAAACl1at37RQ+OTlZ9evX1/Dhw+3bXF1dNWLECG3cuFHnz5+XJG3cuFFFRUWKiooqtX9UVJT27t2r7Oxsc4MHAACAw6OgDAAAADiZzMxMBQUFqVGjRqW222w2FRUVaf/+/fZ+bm5uCg4OLtNPkrKysqonYAAAADgMCsoAAACAk8nLy5PVai2z3c/Pz95++b++vr6yWCxX7QcAAABcVqvvoQwAAACgdomPj1d8fLwkKTc3t4ajAQAAQHVjhTIAAADgZKxWq/Lz88tsv7zi+PIKZKvVqoKCgjIPw/5lvytFR0crIyNDGRkZ8vf3Nzt0AAAA1HIUlAEAAAAnY7PZlJ2drbNnz5banpWVpQYNGtjvmWyz2XT+/Hl99913ZfpJUrt27aonYAAAADgMCsoAAACAk4mIiFBxcbFWrVpl33bhwgWtXLlS4eHhcnNzkyT1799f9evX17Jly0rt/8EHH6h9+/YKCgqq1rgBAABQ+3EPZQAAAMDBrF69WpL073//W5K0fv16+fv7y9/fX6GhoercubOGDx+uZ555RsXFxQoKCtKbb76p7OzsUsXjJk2aaNKkSZo7d668vLzUpUsXrVy5UqmpqUpOTq6RYwMAAEDtRkEZAAAAcDDDhg0r9Xrs2LGSpNDQUG3ZskWSlJiYqOnTpysmJkYFBQXq2LGjNmzYoC5dupTad86cOfL09NTrr7+u48ePq02bNkpKStLAgQOr5VgAAADgWCgoAwAAAA7mlw/RK4+7u7vi4uIUFxd31X4uLi6KiYlRTEyMWeEBAADAiXEPZQAAAAAAAABAhVBQBgAAAAAAAABUCAVlAAAAAAAAAECFUFAGAAAAAAAAAFQIBWUAAAAAAAAAQIVQUAYAAAAAAAAAVAgFZQAAAAAAAABAhVBQBgAAAAAAAABUCAVlAAAAAAAAAECFUFAGAAAAAAAAAFQIBWUAAAAAAAAAQIVQUAYAAAAAAAAAVAgFZQAAAAAAAABAhVBQBgAAAAAAAABUCAVlAAAAAAAAAECFUFAGAAAAAAAAAFQIBWUAAAAAAAAAQIVQUAYAAAAAAAAAVAgFZQAAAAAAAABAhVBQBgAAAAAAAABUCAVlAAAAAAAAAECFUFAGAAAAAAAAAFQIBWUAAAAAAAAAQIVQUAYAAAAAAAAAVAgFZQAAAAAAAABAhVBQBgAAAAAAAABUCAVlAAAAAAAAAECFUFAGAAAAAAAAAFQIBWUAAAAAAAAAQIVQUAYAAAAAAAAAVEidKigfPnxYQ4cOlY+Pj7y9vTVkyBAdOnSopsMCAAAAagw5MgAAAK5HnSkonz17Vr1799bXX3+t9957T++//76+/fZbhYWF6aeffqrp8AAAAIBqR44MAACA6+Va0wFUl8WLF+vAgQP65ptvFBwcLEnq0KGDbrnlFr399tuaNGlSDUcIAAAAVC9yZAAAAFyvOrNCOTk5WT169LAnypIUFBSknj17au3atTUYGQAAAFAzyJEBAABwvepMQTkzM1Pt27cvs91msykrK6sGIgIAAABqFjkyAAAArledKSjn5eXJarWW2e7n56f8/PwaiAgAAACoWeTIAAAAuF515h7Kv0V8fLzi4+MlSV9//bW6detWwxHVjNzcXPn7+9d0GKZ4vaYDcDDOdO5xfZzp3MfG1nQEjsVZzn31fWa7VNM8VctZzrv02859Tk6O+YE4MXLk/89ZfnbIka+fs5x7XB9nOu/kyNfHmc599XxuO0eOLNXtc3+1HLnOFJStVmu5qyx+bVWGJEVHRys6OrqqQ6v1unXrpoyMjJoOAzWAc193ce7rLs593cR5r7vIkSuHn526i3NfN3He6y7Ofd3FuS9fnbnlhc1mU2ZmZpntWVlZateuXQ1EBAAAANQscmQAAABcrzpTUI6MjNTOnTt14MAB+7acnBxt27ZNkZGRNRgZAAAAUDPIkQEAAHC9XGbNmjWrpoOoDrfffrtWrFih1atX66abbtK+ffsUHR2thg0b6p133lGDBg1qOsRarWvXrjUdAmoI577u4tzXXZz7uonzXjeRI1cePzt1F+e+buK8112c+7qLc1+WxTAMo6aDqC6HDh3SxIkT9emnn8owDN1777167bXX1KpVq5oODQAAAKgR5MgAAAC4HnWqoAwAAAAAAAAA+O3qzD2UncEf//hHvfjiizUdRo145JFHFBMT4zTzXI/qjOnzzz9XmzZtKtR31qxZioqKknTpXosWi0UXLlwwPaZ3331X//d//2fqmLXxPFfESy+9pMcee6zS41Tme3rleUfN69Wrl5YsWXLdbWbOc+jQIXl6eurixYumzFWXVPRzvVWrVvrss8+qIaKqceX7Z9myZQoPD6/hiOBIxo8fr8aNG+vJJ5+s6VBQy5En1S1cG3NtXNW4NnZcXCNVDwrKtUirVq3k7u4uT09PNW3aVI888ogKCwvt7W+99ZZmzJhRgxFen169eqlhw4by9PRU48aNNWTIEH3//fc1HZakS7FZrVadP3++pkOpdhaLRfv377e/nj9/vgICApSZmam7775b33zzTQ1GZ57a/P77NZ6envavevXq2X8feHp6atmyZfrTn/5k2ocfapcvvvhCd911l3x8fOTn56eePXtq165dNR1WhbRo0UKFhYVycXGRZG6S5uiu/Fy3Wq0aMGCADh8+bG83+3O9vAuYilx4ZGZmKjw8XH5+fvL19VXXrl31ySefSJK2bNmiwMBA02IcNWqUNm3aZNp4cG4//PCDMjIytG/fPu3evVt5eXm/2veX7/+q+F1UlUUCXBt5Ut3CtXH14dqYa+Paimuk2o2Cci2zbt06FRYWas+ePdq9e7fmzp1b0yFVyhtvvKHCwkLt27dPBQUFmjhx4nWPYfb/0cnJydHnn38ui8Wi5ORkU8euTSpysTN79my99tprSk9Pl81mq4aoqpcZ77/qVFhYaP9q0aKF/fdBYWGhRo0aVdPhoYqcOXNGAwcO1FNPPaW8vDwdPXpUM2fOlJubW02HJsMwVFJSUtNhOLTLP8fff/+9brzxRj311FM1HVIZERER6tu3r44fP66TJ09q4cKF8vb2rumwUAdcq2Dk4+Ojbt266dZbb1WnTp3k5+dXg9E6h2+//VYNGzZ0yFW05El1D9fGZXFt/Ntwbex418ZcI9V+FJRrqaZNm6pfv37as2ePfduVf4pwecXQq6++qiZNmiggIECJiYn2vqdPn1ZERIS8vb3VvXt3xcTElFqhZLFY9NZbb+mWW26Rr6+vxo0bpytvp52QkKC2bdvKarWqX79+OnjwoKRLPzgTJ05UkyZN5O3trdtvv13//e9/r3k8fn5+euCBB+x9hw0bpqZNm8rHx0f33HOPMjMzSx3nk08+qd/97nfy8PBQWlpaqbF+/PFHhYWF6emnn9ZvuQX40qVL1aNHDz3yyCN67733rto3JSVFnTp1kq+vr+666y599dVXkqSVK1cqKChIZ86ckSStX79eTZs2VW5uriRpwoQJat68uby9vdW1a1d9/vnn9jFnzZqlBx98UL///e/l5eUlm82mjIwMe/vu3bvVpUsXeXl5afjw4Tp37lyFYpIuXZj95S9/UYcOHeTh4XHVD86YmBgtWbJEW7du1a233iqp7Eq0Y8eO6YEHHpC/v7+CgoK0cOHCq36/LktMTFTbtm3l5eWl1q1b6+2337a3VeS9GxkZKW9vb91xxx367rvv7G1mvf+ulJ+fr4EDB8rf319Wq1UDBw7UkSNH7O3vvvuuWrduLS8vLwUFBWnZsmWSpP379ys0NFQ+Pj5q3Lixhg8fXqHvTWVc+adU5a0avPxn8ceOHZO7u3uplVy7d+9W48aNVVxcbN82efJkWa1WBQUFaf369fbtx44dU2RkpPz8/BQcHKzFixeXG8/llVqJiYlq3ry5rFar3nrrLe3atUsdOnSQr6+vxo8fX2qfX/vdIl3795Kz2rdvnyRp5MiRcnFxkbu7u8LDw9WhQ4cyfzp7tdVx33//vTp06KB58+Zds23nzp2666675Ovrq44dO2rLli32vr169dL06dPVs2dPNWrUSAcOHJAkfffdd7rjjjvk7e2tQYMG2d9fV8Y0ffp0ff755xo/frw8PT3t5//rr79W37595efnpzZt2igpKck+3yOPPKJx48ZpwIAB8vLy0p133lnq595ZNGzYUEOHDlVWVpZ925Wf66dOndLAgQPl6+srPz8/3X333eUmqiUlJXr55Zd1880364YbbtCDDz5oPxf33HOPJMnX11eenp7asWOH/vjHP2rHjh3y9PSUr69vmfFOnTql7OxsPf7442rQoIEaNGignj176v/+7//0008/6b777tOxY8fsqwCPHTumf/3rXwoJCZGvr68CAgI0fvx4FRUV2cf89NNPddttt8nHx0fjx48v9XP8yxXT27dvV/fu3eXj46Pu3btr+/bt9rZevXppxowZ6tmzp7y8vBQeHq5Tp0791lOAWupaBaM33nhDp06d0ltvvVVDEf52tXEl87hx49S9e/eaDqNKkCc5L66NuTbm2rjuXRtzjVT7r5EoKNdSR44c0fr16xUcHPyrfY4fP64ffvhBR48e1TvvvKNx48YpPz9f0qVk0cPDQ8ePH9d7771X7odDSkqKdu3apa+++kpJSUnauHGjJGnt2rV66aWX9Pe//125ubm6++67NXLkSEnSpk2btHXrVu3bt08//PCDkpKSdMMNN1zzeE6dOqU1a9aoc+fOkqT77rtP3377rU6ePKkuXbqUWVWwfPlyTZ8+XT/++GOpD/vTp0/r3nvvVc+ePbVw4UJZLJZrzv1LS5cu1ahRozRq1Cht3LhRJ06cKLff7t279Yc//EFvv/22Tp8+rSeeeEKRkZE6f/68hg8frrvuuktPP/20Tp8+rUcffVRLliyRv7+/JKl79+7as2eP8vLy9NBDD2nYsGGlPvySk5M1YsQIFRQUKDIy0v4LpaioSIMHD9bDDz+svLw8DRs2TGvWrKlQTJd9+OGH+vjjj1VQUCBXV9dyj23atGlauXKltm7dqtatW5fbp6SkRBEREerYsaOOHj2qzZs367XXXrO/T66mSZMmSklJ0ZkzZ5SYmKiJEyfqP//5j739Wu/dhg0b6vvvv1dCQoISEhLs+5n1/vvlcY4ZM0YHDx7UoUOH5O7ubj8fP/30k55++mmtX79eP/74o7Zv365OnTpJkmbMmKHw8HDl5+fryJEjtWrVYbNmzRQSElLqvbN8+XINHTpU9evXlyT985//VJs2bXTq1Ck999xzevTRR+1J6IgRIxQYGKhjx45p9erV+tOf/qTU1NRfne+f//ynvv32W61cuVLPPPOM5syZo88++0yZmZlKSkpSenq6pKv/brns134vObNbb71VLi4uGj16tNavX2//Wbge2dnZCg0N1fjx4zVlypSrth09elQDBgxQTEyM8vLyNH/+fD3wwAP2pF+S3n//fcXHx+vHH39Uy5YtJV363ZmQkKDvv/9erq6uevrpp8vEMWfOHN199932FRBvvPGGfvrpJ/Xt21cPPfSQTp48qRUrVmjs2LGlCqsrVqzQzJkzlZ+fr+DgYE2fPv26vwe13dmzZ7Vy5Ur16NGj3PZXX31VgYGBys3N1YkTJ/TSSy+V+xm3aNEi/eMf/1B6erqOHTsmq9WqcePGSZK2bt0qSSooKFBhYaFCQkL01ltvKSQkRIWFhSooKCgz3g033KDg4GBFRUXpH//4R6nPRA8PD61fv17NmjWzrwJs1qyZXFxctGDBAp06dUo7duzQ5s2b9be//U3Spd+3Q4YM0ezZs3Xq1CndfPPN2rZtW7nHnJeXpwEDBtg/SydNmqQBAwbo9OnT9j7Lly9XYmKiTp48qaKiIs2fP7+C33E4mvIKRpf/54mXl5fatWunjz76yN528eJFTZ48WY0bN1br1q318ccflxnz4MGD5f4PiasVGyXpX//6l7p16yZvb2/deOONmjRpUqm+CQkJatasmQICAkq9J2fNmqWhQ4cqKipK3t7eevnll9WoUaNS7+n//Oc/8vf3V3FxsS5evKhnn31WjRs3VlBQkN54441SF8TZ2dm655575OXlpT59+mjcuHGlLqCvduFbnhUrVsjX11f33nvvVfs5O/Ikx8O1MdfGXBvXvWtjrpEc4BrJQK3RsmVLw8PDw/D09DQkGb179zby8/Pt7aNHjzamT59uGIZhpKWlGQ0bNjSKi4vt7f7+/saOHTuMCxcuGK6ursbXX39tb5s+fbrRs2dP+2tJxueff25/PWzYMGPu3LmGYRhG//79jSVLltjbLl68aLi7uxs5OTnG5s2bjVtuucXYsWOHcfHixaseT2hoqOHu7m74+PgYzZo1Mx566CHj5MmTZfrl5+cbkoyCggL7cT788MOl+owePdoYM2aMYbPZjFdeeeWq817N559/bri6uhq5ubmGYRhGmzZtjLi4uFLzXP4e//GPfzRiYmJK7X/rrbcaW7ZsscfdvHlzo3379kZ0dPRV5/X19TX27NljGIZhzJw507j33nvtbZmZmUbDhg0NwzCM9PR0IyAgwCgpKbG3h4SEVDimli1bGu+8885VY5FkeHl5GePHjy/TlpaWZtx0002GYRjGzp07jebNm5dqf+mll4xHHnnEfhyjRo0yDMMwsrOzDUml3o9XGjRokPHaa6/Z57jWe/d///ufve3555+3v3fNev9deZ5/affu3Yavr69hGIZRWFho+Pj4GKtXrzbOnj1bqt/DDz9sPP7448bhw4evGsdv1bJlS+PTTz8tte3K7/mV56q8fRYvXmyEhYUZhmEYJSUlRmBgoJGenm4YhmEkJiYaN998s32/n376yZBkfP/998ahQ4eMevXqGWfOnLG3T5s2zRg9enSZGC6f9yNHjtj7+vn5GStWrLC/HjJkiLFgwQLDMK7+u8Uwrv57ydllZWUZo0ePNm666SbDxcXFiIiIMI4fP17q+/3/2LvvqKiOvw3gz9KW3kVEEVA0otiwYcWOgmCN2EssMcaoiT2aAJoE0ZhEYmKMMRgLqKg/UAy2iKgRjZporAGVoqBYEBWQ6rx/+O4N6y6wINY8n3M4h507996Zu5flO7NzZ4RQ/Vvz8PAQH374oXBwcBBhYWFKxyxt2+LFi8WIESOU8vbs2VOsXbtW2u+TTz5ROdacOXOk1+fPnxe6urqiqKhIbZlWr14t5d20aZPo0KGD0vEmTpwoAgIChBBP/h7HjRsnbdu1a5d46623NLxyrzbF/3UzMzOho6MjatSoIf7++29pe8nPok8++UT4+vqKxMREtcdR/G03aNBA7N+/X9qWnp4udHR0RGFhodrP4tDQUKX//+pcu3ZNvP/++6JOnTpCJpOJjh07ioSEBCGE+s+ap3399deiX79+QgghfvnlF9GmTRtp2+PHj0XNmjWle6JkedatWydatWqldCx3d3cRGhoqhHhyLy1atEja9t133wlPT88yy0Kvl5L39rVr14Srq6uYOnWqtH3Lli0iLS1NFBcXi02bNglDQ0ORnp4uhBBi5cqV4q233hKpqani7t27onPnziqfRXXq1BH//POPyM3NVfocK+9/qLu7u1i3bp0QQoiHDx+K+Ph4IcS/n8FDhgwR2dnZ4u+//xbW1tbSfv7+/kJHR0f873//E8XFxSI3N1f07t1bfP/999J5pk+fLsVgK1euFC4uLuLatWsiMzNTdOvWTakO7u7uYsaMGSI/P18cPnxYmJiYSP8Trl+/LiwtLcWuXbtEcXGx2Lt3r7C0tFQbawshxP3790W9evXEtWvXVM1jP+UAACAASURBVP63vI4YJ735cRLbxmwbs23MtjHbSK92G4kjlF8xkZGRePjwIQ4ePIhLly6V+WinlZWV0rdshoaGyM7Oxu3bt1FUVAR7e3tpW8nfFWxtbVX2BZ6M5pg2bRrMzc2lR2+FEEhLS0PXrl0xZcoUvP/++7CxscHEiROlR1vUCQkJQVZWFtLS0rBx40ZUq1YNxcXFmDt3LurWrQtTU1M4OjoCgFJd1ZV3165dePToESZNmlTq+crzyy+/oGfPnrC2tgYADBs2rNRHe1JSUrBs2TLpOpibm+PatWtIT08H8OSR4rfffhvnzp3DjBkzlPb98ssv4eLiAjMzM5ibm+P+/ftK9Xv62ufl5aGoqAjp6emoWbOm0rfLim++NCkToP7aPW3Tpk3YunUr/P39S82TkpKC9PR0pXN98cUXpX5rXVJMTAzc3d2lBZ5+/fVXpfpX5N4tWf+quP+elpubi3fffRcODg4wNTVFp06dkJWVheLiYhgZGWHz5s344YcfUKNGDXh7e+PSpUsAgCVLlkAIgdatW6NRo0ZK3xa/CgYOHIj4+HjcuHEDhw4dgpaWFjp27Chtf/oeBJ7MTZieng5LS0uYmJhI2x0cHJCWllbquapXry79bmBgoPJak8+W0spVci7NN5mLiwvWrl2L69ev49y5c0hPT8f06dM12nfjxo2oWbMmBg0apNG2lJQUREREKP1tHzlyRGlhDnWfI0//XRYWFmo0/UBKSgqOHz+udL6NGzfi5s2bUp43+X2PjIxEVlYW8vLysGLFCnh4eCjVXWHWrFlwdnZGz549UadOHSxevFjt8VJSUtC/f3/pWrq4uEBbW1ujz+bS1KpVCytWrMCVK1eQkpICIyMjjBo1qtT8CQkJ6NOnD2xtbWFqaoqPP/5YuhfS09OV7hWZTFbq/6X09HSlz3hA9fPmTb436Il+/frBxMQE9vb2sLGxQWBgoLTt7bffhp2dHbS0tODn54d69erhjz/+AABs2bIF06dPh729PSwtLTFv3jyVY48dOxb169eHgYEBBg8erDT6uSy6urq4fPky7ty5A2NjY5UnC/z9/WFkZITGjRtj7NixCA8Pl7a1bdsW/fr1kxaNGz16NDZs2ADgyajq8PBwjBw5UqrDtGnTUKtWLVhYWGDu3LnScVJTU3HixAksXLgQenp66NChA3x9faXtGzZsgJeXF7y8vKClpYUePXqgZcuW0oKaT/vkk08wbty4Kl1k83XGOOn1wLZx6eVl25ht4/9C25htpFf7M58dyq8oDw8PjBkzBjNnzqzwvtWqVYOOjo7SXDclV5Uvj729PVatWoWsrCzp59GjR2jXrh0AYOrUqTh16hQuXLiAhIQEtXPRlCUsLAxRUVHYv38/7t+/j+TkZABQmvNJ3eM6EyZMQK9eveDl5YWcnJwKnRMAHj16JD1WZmtrC1tbW3z99dc4c+YMzpw5o5Lf3t4e8+fPV7oOubm50iNOp0+fxs8//4yhQ4cqPdZw+PBhLFmyBFu2bMG9e/eQlZUFMzMzjea0qlGjBtLS0pTypqamalwmQP21e1r9+vWxf/9+fP/996V2Wtjb28PJyUnpXA8fPiy1oaKQn5+PgQMHYubMmcjIyEBWVha8vLw0qr/i3i15v5asP/Ds99/Tli1bhn/++QfHjx/HgwcPpEfGFeX19PTEvn37cOPGDTRo0AATJkwA8OTDffXq1UhPT8eqVaswefJkpRWCnzcjIyPk5uZKr4uLi5Uex7GwsEDPnj2xefNmhIWFYciQIRrdG3Z2dsjMzMTDhw+ltNTUVNSsWfOZy1zeZws90aBBA4wZMwbnzp1TeZ/VdUQGBATA2toaw4YNU1moRd02e3t7jBw5Uul9yMnJUerIUHevPP13qaurKzVASnp6X3t7e3h4eCidLzs7GytXrtTwirwZtLW1MWDAAGhra+PIkSMq201MTLBs2TJcvXoVO3bswFdffYXffvtNJZ+9vT1iYmKUrmdeXp5Kg0uhoo+/2tvb4/3335fm1VO3/3vvvYcGDRogMTERDx48wBdffCF9ZtaoUUPpXhFClBqD2NnZKc0PClTd5w29PsrqMFq3bp00N6a5uTnOnTtX6pcXT385AVS+IbZmzRokJCSgQYMGaNWqFaKjo5W2P33esjov+vbtiwsXLiApKQn79u2DmZkZWrdurbYOJX9XdFwqOjOf3q5Jw1fh9OnT2L9//yu/AFNVYpz0ZmHbmG1jBbaN/7ttY7aRXj3sUH6FTZ8+Hfv27VP7gV4WRaM1ICAAubm5uHTpEtatW6fx/pMmTUJQUJC0GMD9+/cREREBADhx4gSOHz+OwsJCGBkZQV9fH1paFbuNHj58CLlcDisrK+Tm5uLjjz/WeN8VK1bgrbfego+PDx49elSh80ZGRkJbWxsXLlzA6dOncfr0aVy8eBEdO3ZUe30mTJiAH374AcePH4cQAjk5Odi1axcePnyIvLw8jBgxAl988QVCQ0ORlpYmzR/58OFD6OjooFq1aigqKsLChQvL/KawpLZt20JHRwchISEoLCzE9u3bpZE45ZWpoho1aoT9+/dj6dKl+Oabb1S2t27dGiYmJggODsajR49QXFyMc+fO4cSJE2Uet6CgAPn5+dI/wJiYGOzdu1ejMj197164cEHpW/KquP+e9vDhQxgYGMDc3ByZmZlKI6MyMjIQFRWFnJwcyOVyGBsbS+eLiIiQAlMLCwvIZLJnLktF1K9fH3l5edi1axcKCwvx2WefKc0XBjwZZbBu3Tps3boVw4YN0+i49vb2aNeuHebNm4e8vDz8/fffWLNmTZWsBl/WZ8t/2aVLl7Bs2TLpfrp27RrCw8Ph7u6OZs2a4dChQ0hNTcX9+/fVrm6uq6uLiIgI5OTkYNSoUUoLuanbNmLECOzcuRN79uxBcXEx8vLycPDgQaWGljobNmzAhQsXkJubi08//RSDBg2Ctra2Sr7q1atLi1QAQJ8+fZCQkID169ejsLAQhYWFOHHiBC5evFjZS/ZaEkIgKioK9+7dg4uLi8r26OhoXL58GUIImJmZQVtbW+1nyqRJkzB//nypI/b27duIiooC8KThoaWlpXT9q1evjuvXrystmlfSvXv34O/vj8uXL+Px48e4c+cOfv75Z2lEZvXq1XH37l3cv39f2ufhw4cwNTWFsbExLl26pBT4ent74/z589i+fTuKiooQEhKiNsgHAC8vLyQkJCAsLAxFRUXYvHkzLly4gD59+pR3OekN9HSHUUpKCiZMmIAVK1bg7t27yMrKgqura6lfXjzdyC5LeZ2N9erVQ3h4OG7duoU5c+Zg0KBBSh02T5/Xzs5Oev10g1FfXx+DBw/Ghg0bsH79eml0sqIOpXVy1ahRA5mZmUrlLLldk4avwsGDB5GcnIzatWvD1tYWX375JbZt2wY3N7fyL9ZrinHSm4dtY1VsG7Nt/Ca3jdlGevWxQ/kVVq1aNYwaNQoLFy6s8L4rVqzA/fv3YWtri5EjR2Lo0KGQy+Ua7du/f3/MmTMHQ4YMgampKVxdXaWVjR88eIAJEybAwsICDg4OsLKyUpncvDyjRo2Cg4MDatasiYYNG5a6QJE6MpkMP/74I2rVqoW+ffuqrPJall9++QVjx46VgmnFz5QpU7Bx40aVFUFbtmyJ1atXY8qUKbCwsICzszPWrl0LAJg3bx7s7e3x3nvvQS6XY8OGDViwYAESExPh6emJXr16oX79+nBwcIC+vr5Gj9oAgJ6eHrZv3461a9fC0tISmzdvxoABAzQqU2U0bdoUe/bsQWBgoMrq6dra2oiOjsbp06fh5OQEa2trjB8/XqlTQR0TExOEhIRg8ODBsLCwQFhYmNIjmuVRTFRva2uLMWPGYOzYsdK2qrj/njZ9+nQ8evQI1tbWcHd3R69evaRtjx8/xldffQU7OztYWloiLi5O6jg5ceIE2rRpA2NjY/j6+mL58uWlLuLwPJiZmeH777/H+PHjUbNmTRgZGak8xurr64vExETY2tqiadOmGh87PDwcycnJsLOzQ//+/REYGIju3bs/c5nL+mz5LzMxMcHx48fRpk0bGBkZwd3dHa6urli2bBl69OgBPz8/NGnSBC1atCi1o03x2ZGRkYF33nlHKWB6elvNmjWlBWaqVasGe3t7LF26VGkfdUaOHIkxY8bA1tYWeXl5pa5sPW3aNGzduhUWFhaYOnUqTExMsHfvXmzatAl2dnawtbXFnDlzVBr2byofHx8YGxvD1NQU8+fPxy+//IJGjRqp5EtMTET37t1hbGyMtm3bYvLkyejSpYtKvmnTpsHX1xc9e/aEiYkJ3N3dcfz4cQBPRmAqVp82NzfHsWPH0LVrVzRq1Ai2trZqR0vo6ekhOTkZ3bt3l/4u5XK59L+lQYMGGDp0KOrUqQNzc3Okp6fjyy+/RFhYGExMTDBhwgSllbytra0RERGBuXPnwsrKComJiWjfvr3aa2NlZYXo6GgsW7YMVlZWWLJkCaKjo9WWk/4bSnYY5eTkQCaTSY/khoaGKq1IP3jwYISEhOD69eu4d+9eqaPK1Cmvs3HDhg24ffs2tLS0YG5uDgBKDeNFixYhNzcX58+fR2hoaLmr2Y8aNQpr167Fjh07lDqUBw8ejOXLlyMtLQ1ZWVkIDg6Wtjk4OKBly5YICAhAQUEB4uPjsXPnTml7RRq+EydOxJUrV6ROo0mTJsHb2/uNXtCNcdKbh21jVWwbs238JreN2UZ69cmEJmPt6bU3Z84caVVbIno9ffrpp7h+/forN18zERFRZTg6OuKnn35S6ox77733cOvWLWzbtg3z58/HypUroaWlhVGjRuHUqVMYOXIkxo8fj6KiIsyaNQvr1q2DqakpZs6ciSlTpqCwsBA6Ojro3LkzRowYgfHjxwMA1q5di59++kmacmbt2rWYN28eiouLMXv2bKxYsUIqy4gRI7B3717k5ubCwcEBn3/+Ofr164fk5GQ4OTlh1apVCAgIwOPHj/HRRx9h9uzZAJ48Qnv58mVpzuSS6tWrBzs7O8TFxUlpT9dh6tSpmD17NgoKCiCTyXDlyhWMGTMGp0+fRuvWrVG3bl0UFxdjzZo1AIDjx49j9uzZOHv2LLS1tdG6dWusXLkStWvXLvO6l1XO1xnjJNIU28ZERM+OHcpvqEuXLqGgoACNGzfGiRMn4OXlhZ9++gn9+vV72UUjokoQQuDtt99G06ZN8cknn7zs4hAREVEFdO3aFcOGDZM6uNWJiYnBpEmTVOYWV/Dz80ODBg2UHkGmJxgnUVnYNiYiqno65Weh19HDhw8xdOhQpKeno3r16pgxYwb69u37sotFRJXk5uYGuVyOFStWvOyiEBERUQWcOHECf/75pzTfucKjR48QGxuLnj17IiMjA4GBgejfv7/SfpaWlnBycsLevXsRFRWldo5kYpxEZWPbmIio6nGEMhERERER0XMwevRoREZGYvny5RgzZozSttzcXHh4eODSpUswMDCAt7c3li9fDlNTUwDAzp07MXnyZNy9exe1atXCvHnzlObPJCIiInpZ2KFMRERERERERERERBrRKj8LERERERERERERERE7lImIiIiIiIiIiIhIQ+xQJiKqhMjISHTq1Ak2NjYwMDCAg4MD+vXrh927d0t5Dh48iICAADx+/LhS5zh9+jQCAgKQmZmpsk0mkyEgIKCyxSciIiIiIiIiqhR2KBMRVVBISAj69++PevXqYc2aNdi1axcWLFgAADhw4ICU7+DBgwgMDHymDuXAwEC1Hcrx8fEYP3585SpARERERPQccNAFEdF/g87LLgAR0evmyy+/RL9+/bBmzRoprWvXrpgwYUKlA+OKcnd3fyHnISIiIiLSREhICKZNm4Z33nkHs2bNgpGREa5cuYJdu3bhwIED6NWrF4B/B10sWLAAWloVH+OmGHQxYsQIWFpaKm2Lj49HrVq1qqQ+RERUOo5QJiKqoMzMTNja2qrdpgiKAwICEBgYCADQ1dWFTCaDTCaT8vn7+8PNzQ2mpqawtrZG165dcezYMWn72rVrMXbsWABAvXr1pP2Tk5MBqB99sXv3brRt2xYGBgYwMzNDv3798M8//yjl6dy5Mzp06ID9+/fDzc0NhoaGcHV1xf/+979y67127VrIZDIcO3YMw4cPh6mpKezs7DB16lTk5eUp5S2vfsCTxoRMJkNkZCTeffddWFpawtzcHNOnT0dxcTFOnDiBDh06wMjICI0aNcKePXtUyhQXF4du3brBxMQERkZG8PT0xLlz55Ty7NmzB+3atYOZmRmMjY3x1ltvYeHCheXWl4iIiIg0V3LQhY+PjzTgIjIyEosXL34hZXB3d2eHMhHRC8AOZSKiCmrdujV++eUXLF26FAkJCWrzjB8/HuPGjQMAHDlyBPHx8YiPj5e2p6Wl4cMPP0RUVBTWrl0LGxsbdOrUCWfPngUAeHt7S9NoRERESPvXqFFD7fl2794Nb29vGBsbY/PmzVi5ciXOnTuHDh06IC0tTSnvlStXMG3aNHz00UfYvn07atSogbfffhuXL1/WqP4jR45E3bp1sX37drz33nv47rvvEBQUpJSnvPqVNH36dBgZGWHz5s344IMPsHz5ckyfPh2jRo3CO++8g+3bt8PS0hIDBgzAnTt3pP127dqFbt26wdjYGBs2bEBYWBgePnyIjh074tq1awCAq1evwtfXF05OTti8eTN27NiBjz76CDk5ORrVlYiIiIg0w0EXHHRBRP8hgoiIKuSff/4RjRs3FgAEAGFlZSWGDBki9uzZo5TP399fABCFhYVlHq+oqEgUFhaK+vXri6lTp0rpoaGhAoBITExU2QeA8Pf3l163aNFCODs7K53r6tWrQkdHR3z44YdSmoeHh9DR0REJCQlSWkZGhtDS0hKff/55meVUlOfTTz9VSvf29hb16tWrcP1iY2MFADF27Fil/M2bNxcAxOHDh6W0M2fOCABi7dq1UlrdunVF165dlfa9f/++sLKyEtOmTRNCCBERESEAiPv375dZNyIiIiJ6Nl26dBEGBgZiyZIl4p9//lGb59q1a2LcuHECgDhy5IiIj48X8fHx0vZx48aJdevWiQMHDoidO3cKPz8/oaurK/7++28hhBC3bt0SCxYsEABERESEtH9eXp4QQjVGjomJEVpaWqJ79+4iKipKbNy4UdStW1dYW1uL69evS/k8PDyEra2taNiwoVi/fr2IiYkR3bt3F9ra2mpj8ZIUMbKzs7P45JNPxL59+8TChQuFlpaWStxcXv2E+DdGdnBwEB9++KHYu3evVOcpU6aIBg0aiDVr1ojdu3eLDh06CENDQ3H79m1p/+joaKGtrS18fX1FZGSkiIyMFG3bthXm5uYiNTVVCCHElStXhJ6enhg2bJiIiYkRv/32m/jhhx/E7Nmzy6wrEZECO5SJiCqhqKhIxMXFifnz54tu3boJuVwuAIhFixZJecrqUN63b5/o3LmzsLS0lDqmAQhPT08pj6YdytnZ2UImk4n58+er5PPw8BBubm5Kr11cXFTy2drainfffbfMOivKc/z4caX0uXPnCrlcXuH6KYLlLVu2KO07dOhQYWRkpJSWn5+vdH0TEhIEALFmzRpRWFio9NOnTx/RvHlzIYQQiYmJQldXV/Tu3VtERESIjIyMMutIRERERJXDQRccdEFE/x2c8oKIqBK0tbXRqVMnfPbZZ9i/fz+uXr2Kxo0bIzAwEPfu3Stz3z///BNeXl4wNjbGmjVrcOzYMZw4cQJNmzZVeSxOE/fu3YMQQu10GLa2tiorYD+9eAkAyOVyjc/99P5yuRz5+fnS64rWz8LCQum1np4ezM3NVdIASPvfunULADBu3Djo6uoq/URHR+Pu3bsAAGdnZ+zZswePHz/GyJEjYWtrC3d3d8TFxWlUVyIiIiLSTP369fHXX38hLi4O8+fPR7NmzfC///0Pnp6e+OyzzzQ6xv79+9GlSxdYWVlBR0cHurq6SEhIUJmiQhM5OTn4888/4efnBx0dHSndyckJ7du3V4kH69Wrh3r16kmvbWxsYGNjg9TUVI3O5+3trfS6cePGKvtWpH69e/dWet2gQQMYGRmhQ4cOSmkApOneEhMTceXKFQwfPhxFRUXSj6GhIdq2bYtDhw4BAJo1awZdXV0MGTIEW7dulWJrIiJN6ZSfhYiIymNnZ4fx48dj2rRpSExMROvWrUvNu23bNujo6GD79u3Q1dWV0u/du6fSkaoJCwsLyGQy3Lx5U2XbzZs31XYgP09VXT91rKysAABBQUHo3r27ynZFBzQAdOnSBV26dEF+fj5+//13fPrpp/D29kZycjKsra2rpDxERERE9O+gi06dOgEA0tPT0atXLwQGBuL9999XGUhQkmJQgqenJ9asWYMaNWpAW1sb48ePfy6DLlJSUpTSXtSgC03r96yDLhTruZRUu3ZtAP8OuggODsbIkSORn5+P1q1bIzg4GB4eHhrVl4j+29ihTERUQTdu3FAbmF66dAkApMVI5HI5AODRo0cwMTGR8uXm5kJbW1tpAZIDBw4gNTUVTk5OUlrJ/ctiZGSEFi1aICIiAgEBAdDW1gYApKSk4OjRo/jggw8qU81K07R+z+Ktt96Co6Mjzp8/j7lz52q0j1wuR9euXZGdnY2+ffsiKSmJHcpEREREzxEHXfyLgy6I6E3CDmUiogpydXVF9+7d4eXlBScnJzx48AC//vorfvjhBwwePFj65r9hw4YAgGXLlqF3797Q1tZGy5Yt0atXL3zzzTcYM2YMxo4di4SEBCxatAg1a9ZUOo9i/++++w6jR4+Grq4umjRpohQIKixatAje3t7o06cPJk+ejOzsbPj7+8PMzAwzZsx4zldEmab1exYymQzfffcd+vbti4KCAgwePBjW1tbIyMjA0aNHUbt2bXz00Uf44YcfcOjQIXh5ecHe3h537txBUFAQ7Ozs4OrqWmXlISIiIvqv46CLsnHQBRG9STiHMhFRBX3++ed49OgRPv30U/Ts2RN+fn6Ij4/H4sWLsX79eimfonP3+++/R9u2bdGqVSsAgKenJ0JCQvD777+jT58++Pnnn7Fu3To4Ozsrnadp06YICAjAzp070aFDB7Rq1Qrp6elqy9SrVy/s2rULWVlZGDx4MCZNmgQXFxccOXIEdnZ2z+9iqKFp/Z6Vl5cXDh06hJycHIwfPx6enp6YPXs2bt68ibZt2wJ4cg1zcnIwb9489OzZE1OmTIGTkxMOHDgAAwODKi0PERER0X+Zq6sr/Pz88Msvv+DQoUOIjo7G5MmTyxx0cfz4cZw8eRLAk3g2OzsbY8aMwW+//YaVK1dixIgRZQ66iI+Px8mTJ1FQUKC2TIsWLUJiYiL69OmDnTt3Ijw8HD169Hhpgy40qd+zUAy62LRpE/z8/LBt2zbExcVhy5YtmD59Or766isAwA8//IBhw4Zhw4YNiIuLw7Zt27Bw4UIOuiAizb3sVQGJiIiIiIiI6PW2cuVK4ePjI2rXri3kcrkwNDQUzZo1E8HBwSI/P1/KV1RUJCZPniyqVasmZDKZKNktERISIhwdHYW+vr5o2bKl2Ldvn/Dw8BAeHh5K5woICBB2dnZCS0tLABBJSUlCCCEACH9/f6W8MTExwt3dXejr6wtTU1Ph6+srLl26pJTHw8NDtG/fXqVODg4OYvTo0WXWOzQ0VAAQiYmJSun+/v7i6S4XTeoXGxsrAIh9+/Yp7Tt69GhRs2ZNlfMDEPPnz1dKO3r0qPD29hbm5uZCLpcLBwcH4efnJ44ePSpt9/X1FbVq1RJ6enrC1tZWDBo0SOW6EBGVRiaEEC+xP5uIiIiIiIiIiIiIXhOc8oKIiIiIiIiIiIiINMIOZSIiIiIiIiIiIiLSCDuUiYiIiIiIiIiIiEgj7FAmIiIiIiIiIiIiIo2wQ5mIiIiIiIiIiIiINMIOZSIiIiIiIiIiIiLSCDuUiYiIiIiIiIiIiEgj7FAmIiIiIiIiIiIiIo2wQ5mIiIiIiIiIiIiINMIOZSKiV8jBgwchk8kQEBDwsovy0nXu3BkymaxKjjVmzBjIZDIkJydXyfGIiIiIXrbk5GTIZDKMGTPmZRdFxZsYewUEBEAmk+HgwYMvuygvnUwmQ+fOnavkWI6OjnB0dKySYxHRi8MOZSJ64YqLi7F69Wp4eHjA0tISurq6sLGxQZMmTTB+/Hjs2LFDKf/atWshk8mwdu3aF1bGynZmMtAkIiIiev3IZDKlH7lcjmrVqsHNzQ3jx49HTEwMiouLX0q5qqrjriq9jjFvVQ5WICL6r9N52QUgov+W4uJi9OnTB7t374a5uTm8vb1Rq1YtFBQU4Pz58wgLC8OlS5fg6+v7sov6UrRu3RoXL16EtbX1yy4KERER0X+Ov78/gCcxa1ZWFs6fP4/169djzZo1aNmyJTZu3Ij69eu/5FI+UbNmTVy8eBFmZmYvuygqgoKCMHfuXNSsWfNlF6XKTJkyBUOGDEHt2rVfdlGIiF46digT0QsVHh6O3bt3o2nTpoiLi1MJgHNzc3H8+PGXVLqXz9DQEA0aNHjZxSAiIiL6T1I37VhGRgY++OADREREoHv37jh58iRsbGxefOGeoqur+8rGjTVq1ECNGjVedjGqlLW1NQd9EBH9P055QUQv1NGjRwE8mVdN3WgKQ0NDdOnSRXrduXNnjB07FgAwduxYpUcRFXOypaenY+HChWjfvj1sbW2hp6cHOzs7DBs2DBcuXFA5R8n55hISEuDn5wcbGxtoaWlJ02vExcUBUH78sbzHDR0dHREYGAgA6NKli9K+Cor55K5evYpvv/0WTZo0gYGBgXTs0uZQVjyil5+fjwULFsDJyQlyuRx169ZFYGAgCgoKVMpz+PBh+Pj4oFatWpDL5bC1tYW7u7tUxvKULMsff/wBb29vWFpaKl37sq5LaXPn7dixU3VFKQAAIABJREFUA926dUONGjUgl8thZ2cHDw8PfP/992qPU1RUhC+++AL16tWDXC6Hvb095syZo7bOmli1ahUaN24MfX19VK9eHRMnTsT9+/fV5j116hQGDhwIGxsbyOVyODg4YPLkybhx44ZK3rIeoyxt2hbFnHEPHjzARx99BEdHR+jq6krv/8OHD7Fo0SK4urrC1NQUJiYmqFu3Lvz8/HDq1KlK1Z+IiIgqpnr16ti0aRM6d+6Ma9eu4YsvvlDJk5mZiXnz5sHFxQUGBgYwMzNDt27dsHfvXpW8BQUFCAkJgZubGywsLGBoaAhHR0f07dsX+/fvB/Bv7AAAcXFxSnGlIk4obQ7lkjGYpnFPbGwsJk6ciIYNG8LU1BQGBgZwdXVFYGAg8vLylPJWJOZVN4fyli1b0KlTJ5iZmcHAwACNGzdGUFAQ8vPzVfIqYqWcnBzMmjULtWvXhlwuh7OzM4KDgyGEUNnnaYrrVF58X15cVto0H4rjpKenY+TIkbCxsYGBgQFatGiBsLAwlfIIIfDLL7+gXbt2qFatGvT19WFvbw9PT09s3ry53Po8XZawsDC0adMGxsbG0lzE5a3Lom7eYk3uy6fduXMHEydOlOL6Ro0aITQ0VKM6PK2i73FF7qOKtlnKai8q3v+rV69i4sSJcHZ2hoGBASwtLdG4cWNMmjQJd+/erdQ1IHqdcIQyEb1QVlZWAICEhASN8o8ZMwbm5uaIiopC37590axZM2mbubk5AODQoUNYvHgxunTpgoEDB8LY2BiJiYnYunUrduzYgd9//x1NmzZVOfaVK1fQpk0b1K9fH8OHD8ejR4/QpEkT+Pv7Y+3atUhJSZEeewRQ7mIR06dPR2RkJOLi4jB69Ogy80+bNg2HDx+Gt7c3vLy8oK2trdH1GDx4ME6cOIFBgwZBV1cXUVFRCAgIwMmTJ7Fjxw4pkN+9eze8vb1hamoKX19f1KxZE5mZmbh48SK+//57pXqVJz4+HkFBQejQoQPeeecd3LlzB3p6ehrvX9KPP/6Id999F7a2tvDx8YG1tTVu3bqFv//+G6GhoZg8ebLKPsOGDcPhw4fRu3dvmJqa4tdff8WSJUtw69atCgess2fPxp49e+Dj44OePXsiNjYWq1evxuXLl3HgwAGlvNHR0Rg4cCCEEBg0aBAcHBxw6tQprFy5ElFRUThy5AicnJwqdR1KKigoQNeuXZGZmYmePXvC1NQUTk5OEEKgV69eOHr0KNq2bYvx48dDR0cH169fR2xsLDp27IgWLVo88/mJiIiofFpaWliwYAEOHjyI8PBwfP3111LclZKSgs6dOyM5ORkdO3ZEr169kJOTg+joaPTq1QurVq3ChAkTpGONGTMG4eHhcHV1xahRo2BgYID09HQcOXIEu3fvRvfu3dGsWTP4+/sjMDAQDg4OSp3Gms6pXJG4Jzg4GJcuXUK7du3g7e2NvLw8/P777wgICMDBgwexf/9+KV6tSMz7tI8//hhBQUGwtrbGsGHDYGxsjJiYGHz88cfYs2cP9u7dqxJnFhYWwtPTE+np6ejduzd0dHQQGRmJuXPnIi8vr9y41tzcXOP4vrS4rDz37t1Du3btYG5ujrFjxyIrKwtbtmzB8OHDkZaWhlmzZkl558+fj6CgIDg5OWHw4MEwMzPDjRs3cOLECURERMDPz0+DK/nEsmXLsG/fPvj4+KBLly6lDpLQhCb3ZUlZWVlo37499PT0MGjQIOTn5yMiIgLvvPMOtLS0MHr0aI3PXdH3uDL3UWWoay+amprixo0baNWqFR48eAAvLy8MHDgQeXl5SEpKwvr16zFlyhSp3Uv0xhJERC/Qn3/+KXR1dYVMJhMjRowQ27ZtE8nJyWXuExoaKgCI0NBQtdszMjLEgwcPVNJPnz4tjIyMRK9evZTSk5KSBAABQMybN0/tMT08PERlPiL9/f0FABEbG6t2++jRowUAYWdnJ65evaqyPTY2VgAQ/v7+astTr149kZmZKaU/evRIuLu7CwBi3bp1UvqAAQMEAHH69GmVc9y+fVujuijKAkD88MMPavMAEB4eHmq3KeqalJQkpbm5uQk9PT2RkZFRbrkUdXZzcxN3796V0rOzs0XdunWFlpaWuHHjhkZ1UZTF3t5epKSkSOmFhYWiY8eOAoA4fvy4lP7w4UNhaWkptLS0xKFDh5SOtXjxYgFA9OjRQ2151SntHnZwcBAARLdu3UR2drbStr///lsAEP369VM5XnFxsdJ9QERERM9GEfOUJS8vT+jo6AgASnGch4eHkMlkIjw8XCn/vXv3RNOmTYW+vr64efOmEEKIrKwsIZPJRIsWLURRUZHKOe7cuaNSrtJiLUVMO3r0aKX0isY9Qghx5coV8fjxY5VzLFiwQAAQmzZtUkrXNOYtGQcePXpUKlfJGK6wsFD06dNHABCff/650nEUsVLv3r1Fbm6ulJ6RkSHMzMyEmZmZKCgoUFuGp5UX35cVl5VVZ8W98/bbb4vi4mIp/erVq8LCwkLo6uqKK1euSOmWlpaiZs2aIicnR+UcmsbpirIYGhqKP//8U2V7aW2KknV1cHCQXlfmvgQgxo0bp5T//PnzQltbW7i4uGhUD0VZKvIeV+Y+qmibpbz2YkhIiAAgvvnmG5Vt2dnZSvUgelNxygsieqGaN2+ODRs2oHr16tiwYQMGDhwIR0dHWFlZoX///ti5c2eFj2ljYwMTExOV9KZNm6Jr166IjY1FYWGhyvbq1atXaKRuVZo9e3alRrd+8sknsLCwkF7r6+sjKCgIAPDzzz+r5DcwMFBJq+jcb82aNcO7775bwZKWTkdHB7q6uirppZUrODgYlpaW0msjIyMMHz4cjx8/xsmTJyt07k8//VRpIRUdHR1pSpU//vhDSo+KikJmZib8/PzQsWNHpWPMmDEDjo6O2LdvH1JTUyt0/tIsW7YMRkZGarepew+1tLSU7gMiIiJ6/uRyuTTq8Pbt2wCAM2fOIC4uDgMHDsSQIUOU8pubm0tTRmzbtg3Ak0fvhRCQy+XQ0lJtjlflqEZN4x4AqFOnjtqpuz788EMAwJ49e565PIpYdcGCBbC1tVUq17Jly6ClpYWffvpJ7b4hISFKMZGNjQ369u2L+/fv459//nnmspVUVlxWGm1tbQQHByu9p05OTpg6dSoKCwuxfv16pfy6urpqn1CsaJw+ceJENG/evEL7qFOZ+9LQ0BBfffWVUj0aNmyI9u3b4+LFi8jOzq5QGTR9j5/lPqqo8tqL6uJ0IyMjtelEbxp2KBPRCzd48GCkpqZiz549+OSTT9CnTx88fvwYkZGR8PX1xejRozWaD62kXbt2wcfHBzVq1ICurq40L9rOnTuRn5+PO3fuqOzTtGlTyOXyqqpWhbRu3bpS+3l4eKikdejQAdra2vjrr7+ktOHDhwMA2rRpg0mTJmHz5s24fv36Cy2rOsOHD0dubi4aNmyIDz/8EJGRkVKDrDQtW7ZUSbO3twfw5PHCitD0WH/++ScAoGvXrir5dXR00KlTJwBQuuaVpa+vjyZNmqikN2zYEM2aNUN4eDjat2+PJUuW4OjRo5WeO5qIiIienSJGVXS+xsfHAwDu37+PgIAAlR/FHMoXL14EAJiamsLHxwdHjx5Fs2bNsHDhQsTGxiI3N7fKy1qRGConJwdffPEFWrVqBTMzM2hpaUEmk0kdiWlpac9cnrLiq/r166NWrVpISkpSmbbBzMwMzs7OGtflWZQWl5Wndu3aageLKKYneTpOT05ORsOGDTFv3jzs3r270lNVVFWcXpn7sl69ejA1NVVJr8z7UpH3uLL3UWWU1l709fWFsbEx3n//fQwcOBA//vgjzp8/X+E2LNHrjHMoE9FLoauri549e6Jnz54AgOLiYmzbtg3vvPMO1q1bh/79+6Nfv34aHWv58uWYPn06LCws0KNHD9SuXRuGhoaQyWSIjIzEmTNn1C7OUPIb7RetsueuXr26SpqOjo40F7HCgAEDEB0djWXLluHnn3/GqlWrAAAtWrRAUFAQevTo8dzLqs5HH30Ea2trfP/99wgJCcE333wDmUwGDw8PLF26VG3DRzFXdkk6Ok/+fRUXF1fo/JoeSxGAlrY6uSI9KyurQudXx8bGRu2IIG1tbRw4cAALFy7E1q1bMWfOHACAiYkJRo8ejaCgIBgbGz/z+YmIiEgzeXl5yMzMBABUq1YNAKTFt/bt24d9+/aVum/J0ZqbN29GcHAwwsLCpNGP+vr6GDRoEL788ku18V5laBr3FBYWomvXrvjjjz/g6uoKPz8/VKtWTXqiLDAwUG0sXVGaxFepqanIyspSWrxbXT1Kq8uzKi0uK09p75kiji7Zufn111+jTp06CA0NxeLFi7F48WLo6OjAy8sLy5YtU9uxWpqqjNMrel9W5ftSkWNV9j6qjNKur4ODA/744w8EBARg9+7d2L59O4AnHeAzZ87E1KlTn+m8RK8DjlAmoleCtrY2Bg8eLD1W9/RCIaUpKipCQEAAbG1tcf78eWzevBlLly5FYGAgAgICygzIKxMsVpXKnjsjI0MlraioCHfu3FEZIeDt7Y0DBw7g3r17+O233/Dhhx/i/Pnz6NOnDy5cuFAlZZXJZCgqKlK7rbTO1lGjRuHYsWO4e/cudu3ahXHjxuHQoUPw9PQsd7Tyi6IIPm/evKl2+40bN5TyAZAeD1R3PcrqeC7r+lpYWODrr7/GtWvXkJiYiJ9++gkNGjTAihUr8N5775VfESIiIqoyR44cQVFREapXry4t5qaIBZYvXw4hRKk/JRcSNjAwQEBAABISEpCamooNGzagQ4cO2LBhAwYNGvTC6xUVFYU//vgDY8aMwdmzZ/Hjjz/i888/R0BAQJVOe1aZ+OpFq8oYHfi3riXrpK2tjenTp+PMmTPIyMjAtm3b0L9/f+zYsQO9evWqUOd9aeUtKy4F1Memr9p9WZrK3EeVabMo9iuNi4sLNm/ejLt37+LkyZNYvHgxHj9+jGnTpmHNmjXl1oPodccOZSJ6pSjmQi75uJBiXi5133LfuXMHWVlZaNeuncq31NnZ2dIjURVV1jmfx36aiouLU0k7cuQIiouLS50/zcjICF27dsVXX32Fjz/+GAUFBYiJiamS8lhYWODatWsq6cXFxTh9+nSZ+5qbm8PLywurV6/GmDFjkJmZiUOHDlVJuZ6V4loePHhQZVtRUREOHz4MAHBzc5PSFXMaq7seFZ3rWR1nZ2eMGzcOcXFxMDY2RlRU1DMfk4iIiDTz+PFjfP755wCAYcOGSenu7u4AIMUGFWVvb4/hw4djz549cHZ2xpEjR6RRz8CTjsHnFVcqXL58GcCTJ9yepi72BCoX85YVX12+fBnXr1+Hk5NTqaNVn9XzjNNTU1ORnJyskq6oa2lxuo2NDQYMGIAtW7aga9euuHLlCs6dO/fM5SkrLr18+XK500GUd1++TJW5j56lzVIeHR0dtGjRAnPmzEF4eDgAIDIy8pmOSfQ6YIcyEb1Q4eHh2LdvHx4/fqyy7ebNm1i9ejUASHPUAv8uAqFuATQbGxsYGhri1KlTSo8SFhYWYtq0aWrnTtZEWed8HvtpatGiRUpziOXl5WHevHkAIC2yAgCHDh1S+y28YvSEoaFhlZSndevWSE1NleYHVPjss8+QkpKikj82Nlbt3GKK6TqqqlzPql+/frC0tER4eDiOHTumtO2bb75BUlISunfvrrTQjWIOO8U9rPDbb79JwWVFJCUl4erVqyrp9+7dQ35+Phf7ICIiekFu3bqFIUOG4ODBg6hduzY+/vhjaVvLli3RsWNHbN++Xe0CyQBw9uxZKda5ffs2zp49q5InJycH2dnZ0NHRgZ6enpRuZWWltiOsKilGWz/dQXf16lVpyq2nVSbmfeeddwA8iRNLPpVWXFyMmTNn4vHjxxg3blwFSl4xzzNOLy4uxpw5c5TaOElJSQgJCYGOjg5GjBgBAMjPz8fvv/+usn9hYaE0nUpVxMMNGjSAqakpoqKilKbFe/TokdrpGCp6X75MlbmPKtpmKc+pU6fUdspXdVuL6FXGOZSJ6IU6fvw4li9fDltbW3To0EFavCIpKQm7du3Co0eP0LdvX6XHqtq2bQtDQ0N88803uHv3rjSX1QcffAAzMzNMnToVixcvRuPGjdG3b18UFBQgNjYWmZmZ6NKlC2JjYytczm7duiEiIgIDBgyAl5cXDAwM4ODggJEjR5a5X5cuXaClpYV58+bh3Llz0uiABQsWVLgM6ri4uKBRo0YYNGgQdHV1ERUVhStXrsDb21upbFOnTkVaWhrat28PR0dH6Onp4dSpUzhw4AAcHBxUViGvrJkzZ2LPnj3o27cv/Pz8YGlpiaNHjyIpKQmdO3dWaZj0798fxsbGcHd3h6OjI4QQOHz4ME6cOIEWLVqge/fuVVKuZ2VsbIyff/4Zb7/9Njw8PPD222+jdu3aOHXqFPbu3QtbW1tpXmqFsWPHYunSpQgKCsKZM2fQsGFDJCQkICYmBv3795dWd9fUmTNnMGDAALRq1QouLi6ws7PD7du3ERUVhcLCwlIbeERERFR5AQEBAJ6MSM7KysL58+dx5MgRFBQUoHXr1ti4cSOsra2V9gkLC0PXrl0xbtw4hISEoE2bNjA3N8f169fx999/49y5c4iPj4eNjQ3S0tLQvHlzNG7cGE2aNIG9vT0ePHiA6Oho3Lx5E1OnTpWe2AOexKSbNm2Cj48P3NzcoKuri06dOikNvnhWPj4+cHZ2xldffYWzZ8+iefPmSE1NRXR0NLy9vdV2wFYm5m3Xrh1mz56NJUuWwNXVFYMGDYKRkRFiYmJw7tw5dOjQAbNmzaqyej2tsvG9Jpo0aYLjx4+jRYsW6NmzJ7KysrBlyxZkZWVhyZIlqFu3LoAnHbodOnSAs7MzWrRoAQcHB+Tl5WHfvn24ePEifH194eLi8szl0dXVxbRp07Bo0SI0b94c/fv3R1FREfbt2wc7OzvY2dkp5a/offkyVeY+qmibpTzr16/HqlWr0KFDB9StWxcWFha4cuUKdu7cCblcjunTp1dhjYleUYKI6AVKTU0VK1asEP369RP169cXJiYmQldXV9ja2orevXuL9evXi+LiYpX9YmJihLu7uzAyMhIABACRlJQkhBCisLBQLFu2TLi4uAh9fX1RvXp1MWLECJGcnCxGjx6tlFcIIZKSkgQAMXr06FLLWVRUJObNmyecnJyEjo6OACA8PDw0quP69etF06ZNhb6+vlRWBXXlKSk2NlYAEP7+/krpHh4eAoDIy8sT8+fPF46OjkJPT084OTmJgIAAkZeXp5R/8+bNYsiQIcLZ2VkYGRkJExMT0ahRI/Hxxx+LW7duaVSP0srytKioKNGiRQshl8uFpaWl8PPzK/Xar1y5UvTr1084OTkJAwMDYWFhIZo1ayaCg4PFgwcP1NZZndDQUAFAhIaGalSXsq57WfX8448/RL9+/YS1tbXQ1dUV9vb2YtKkSSItLU3tec6dOyd69+4tjI2NhZGRkfDw8BAHDx4stbwODg7CwcFB7bGuXbsm5s2bJ9q1ayeqV68u9PT0RM2aNUWvXr3Er7/+qlG9iYiISDOKmE3xo6enJ6ysrISbm5sYP368iImJURujKjx48EB8/vnnws3NTRgZGQl9fX3h6OgovLy8xKpVq0R2drYQQoh79+6JwMBA0aVLF2FnZyf09PSEra2t8PDwEGFhYeLx48dKx83IyBBDhw4VNjY2QktLSylmKS2mrUzck5qaKoYNGybs7OyEvr6+aNiwoQgODhaFhYWlxsGVjXnDw8NF+/bthbGxsZDL5aJhw4bis88+E48ePVLJW1as5O/vLwCI2NhYtdufVl58X9a5yjqf4jhpaWli+PDholq1akIul4vmzZuLjRs3KuUtKCgQwcHBolevXsLe3l7I5XJhbW0t2rRpI1auXCny8/M1qosmdX/8+LEICgoSderUkeLYWbNmiZycHJW6VvS+LKttVF5752mVfY8rch8JUbE2S3ntxWPHjolJkyaJJk2aCAsLC6Gvry/q1q0rxowZI86ePatRvYledzIh1Dx7TEREr5TOnTsjLi5O7XQRRERERET0cshkMnh4eFR4lCsR0euMcygTERERERERERERkUbYoUxEREREREREREREGmGHMhERERERERERERFphHMoExEREREREREREZFGOEKZiIiIiIiIiIiIiDSi87IL8LqwtraGo6Pjyy4GEREREVWx5ORk3Llz52UX47XEGJmIiIjozVRWjMwOZQ05Ojri5MmTL7sYRERERFTFWrZs+bKL8NpijExERET0ZiorRuaUF0RERERERERERESkEXYoExEREREREREREZFG2KFMRERERERERERERBphhzIRERERERERERERaYQdykRERERERERERESkEXYoExERERG9ZHv27EHXrl1ha2sLuVyOWrVqYfDgwbhw4YKU5+DBg5DJZCo/5ubmKse7d+8exo8fD2traxgZGaF79+44e/asSr68vDzMmjULNWrUgIGBAdq2bYtDhw4917oSERER0evthXcoM1gmIiIiIlKWmZmJFi1aYMWKFdi7dy+CgoJw/vx5uLu7IyUlRSlvSEgI4uPjpZ/9+/crbRdCwMfHB7t378a3336Lbdu2obCwEF26dMH169eV8o4bNw6rV6/GwoULER0djRo1asDT0xOnT59+7nUmIiIioteTzos+oSJYnjx5MqpVq4bU1FQsXrwY7u7uOHv2LBwcHKS8ISEhaNWq1b+F1VEuriJYTk5OxrfffgsLCwsEBQWhS5cuOH36NGrVqiXlHTduHHbt2oWlS5eiTp06+O677+Dp6Yn4+Hg0a9bs+VeciIiIiKgUQ4cOxdChQ5XSWrdujQYNGmDr1q2YMWOGlO7i4gJ3d/dSj7Vjxw78/vvvOHDgALp06QIAaNu2LZycnLBkyRKEhIQAAM6cOYOwsDD8/PPPGDt2LADAw8MDjRo1wqeffoodO3ZUdTWJiIiI6A3wwjuUGSwTEREREZXPysoKgOqgivLs2LEDdnZ2UnwMAGZmZvDx8UFUVJQUI+/YsQO6urrw8/OT8uno6GDIkCFYvHgx8vPzIZfLq6AmRERERPQmeSXmUH5ewXLJfKUFy3v27EF+fv4z1oCIiIiI6NkVFxejoKAAiYmJePfdd2Fra6syGGP48OHQ1taGlZUVhg0bhtTUVKXt58+fh6urq8qxGzVqhNTUVGRnZ0v5nJycYGhoqJKvoKAAly9fruLaEREREdGb4IWPUFYoLi5GcXExUlJSMHfu3FKD5Tt37sDc3Byenp5YvHgxateuLW0vK1het24dsrOzYWxsrFGw3KhRo+dTUSIiouds6v+uVfkxQ/rbV/kxiah8bdq0walTpwAAzs7OOHDgAGxsbAA8GTgxY8YMeHh4wNTUFH/99Re++OILtG3bFn/99ZeULzMzE46OjirHtrS0BPBkDRJjY2NkZmbCwsKi1HyZmZnPo4pEREQvDONkoufjpXUoM1gmIiIiIlK2fv16PHjwAFevXsWXX36JHj164MiRI3B0dETz5s3RvHlzKa+Hhwc6deqE1q1bIyQkBJ999tkLKeOPP/6IH3/8EQBw+/btF3JOIiIiInp1vLQpL9avX49jx44hLCwMpqam6NGjB5KTkwEAzZs3x5dffgkfHx94eHhg+vTp2L17NzIyMqQ5316EH3/8ES1btkTLli0ZLBMRERHRc+fi4oI2bdpg6NCh+O2335CdnY3FixeXmt/NzQ3169fHiRMnpDQLCwvcu3dPJa9iEIVioEV5+RSDL542ceJEnDx5EidPnkS1atU0rxwRERERvRFeWocyg2UiIiIiotKZm5vD2dlZo7mMZTKZ9HujRo1w/vx5lTwXLlxA7dq1YWxsLOVLSkpCbm6uSj49PT04Ozs/Yw2IiIiI6E30SizKx2CZiIiIiEhZRkYGLl26hLp165aa5+TJk/jnn3/QunVrKc3X1xdpaWmIi4uT0h48eICdO3fC19dXSvPx8UFhYSEiIiKktKKiImzevBk9e/aEXC6v4hoRERER0Zvgpc2hXJIiWB4+fHipeRTB8qBBg6Q0X19fhIaGIi4uDh4eHgD+DZaHDRsm5fPx8YG/vz8iIiIwevRoAAyWiYiIiOjV0b9/f7i5uaFJkyYwNTVFQkICvv76a+jo6GDGjBkAnixY7eTkBDc3N5ibm+Ovv/5CUFAQatasialTp0rH8vX1Rdu2bTFixAgsXboUFhYWCAoKghACs2fPlvI1b94cfn5+mD59OgoLC+Hk5ISVK1ciKSkJGzdufOHXgIiIiIheDy+8Q5nBMhERERGRMnd3d2zZsgXLli1DQUEB7O3t0blzZ8ybN09ahNrV1RXh4eH49ttvkZubC1tbWwwYMACBgYGwtraWjqWlpYXo6GjMnDkTkydPRl5eHtq2bYvY2FjY2yuvTB8aGor58+djwYIFyMrKQtOmTbF79264ubm9yOoTERER0WtEJoQQL/KEwcHB2LJlC65cuVJqsBwUFITw8HCkpKRIwXLv3r0RGBiIGjVqKB0vMzMTM2fORGRkpBQsf/XVV2jatKlSvkePHmH+/PkICwuTguXg4GB07txZo3K3bNkSJ0+erIpLQEREVKWm/u9alR8zpL99+ZmI3hCM8yqP146IiF5ljJOJKq+sOO+Fdyi/rhgsExHRq4qBMtGzYZxXebx2RET0KmOcTFR5ZcV5r8SifERERERERERERET06mOHMhERERERERERERFphB3KRERERERERERERKQRdigTERERERERERERkUbYoUxEREREREREREREGmGHMhERERERERERERFphB3KRERERERERERERKQRdigTERERERERERERkUbYoUxEREREREREREREGmGHMhERERERERERERFpROe4PXtgAAAgAElEQVRlF4CIiOhNNWjbn1V+zK0D3ar8mERERERERESa4ghlIiIiIiIiIiIiItIIRygTERH9H3v3HlV1lf9//HUExAuIkDiSeMEsVLyiGfwcJcjbOKJmGpY0pjY40sVSmzQRHZWoMJzUMrGwi5rXUUlTNPFSja6RVpZBaSpo2pgWojJegDi/P1qcr0cEP+Y5h8t5PtZiFZ/PPvu9Py49vNZ7bfYBAAAAgN/p7X+dsfmcTwxtbPM5AVuhoQwAAAAAAACH4Fg4oPrjyAsAAAAAAAAAgCE0lAEAAAAAAAAAhtBQBgAAAAAAAAAYQkMZAAAAAAAAAGAIDWUAAAAAAAAAgCE0lAEAAAAAAAAAhtBQBgAAAAAAAAAYQkMZAAAAqGTp6emKiIhQkyZN5O7uLn9/fz388MPKzs62GvfDDz9o2LBh8vLyUoMGDTR06FCdOHGizHznzp3TE088oUaNGql+/frq3bu3Dh48WGbclStX9Pzzz8vPz09169ZVaGio9uzZY7fnBAAAQPXn8IYyYRkAAACwlpeXp65du2rhwoXatm2bEhMTlZWVpZCQEB0/flySdOnSJUVEROi7777Te++9pw8++EDff/+9wsPD9b///c8yl9lsVmRkpLZu3aoFCxZo3bp1KioqUnh4uE6ePGlVd+zYsVqyZIlmzZqlTZs2yc/PT/369dOBAwcc+vwAAACoPlwdXbA0LMfGxsrX11cnTpzQyy+/rJCQEB08eFAtWrSwhGV3d3e99957MplMiouLU3h4uL7++mvVr19f0v+F5dzcXC1YsEDe3t5KTExUeHi4Dhw4IH9/f0vdsWPHavPmzUpKSlKrVq30xhtvqF+/ftq7d686d+7s6D8GAAAAwOKRRx7RI488YnWte/fuatOmjdauXatJkyZpyZIlOnbsmA4dOqTWrVtLkjp27Ki7775bixcv1sSJEyVJaWlp+vzzz5WRkaHw8HBJUmhoqAICAvTqq69q/vz5kqSvvvpKK1asUGpqqkaPHi1JCgsLU1BQkOLj45WWluaoxwcAAEA14vAdyo888oiSkpI0bNgwhYWF6bHHHtO//vUvXbx4UWvXrpUkS1jesGGDhgwZosGDBystLU3Hjx/X4sWLLXOVhuUPPvhAjzzyiPr376+0tDSVlJTo1VdftYwrDcvz5s3TX//6Vz3wwANavXq1mjdvrvj4eEf/EQAAAAA3dccdd0iSXF1/2wOSlpamkJAQSzNZkgICAtSjRw9t3LjRci0tLU133nmnpZksSV5eXoqMjCwzzs3NTVFRUZZrrq6uGjFihNLT03X16lW7PRsAAACqrypxhjJhGQAAAJB+/fVXFRYW6vvvv9e4cePUpEkTy87lrKwstW/fvsxrgoKCrI6Pq2jciRMnVFBQYBkXEBCgevXqlRlXWFioI0eO2PLRAAAAUENUWkOZsAwAAABYu+++++Tu7q577rlHX3/9tTIyMtS4cWNJvx0d5+3tXeY1Pj4+OnfunOX7isZJsoy92bi8vLzbfyAAAADUOJXWUCYsAwAAANY++OAD7du3TytWrFCDBg3Up08f5ebmVvayrKSkpKhbt27q1q2bzp49W9nLAQAAgINVWkOZsAwAAABYa9u2re677z498sgj2rFjhwoKCvTyyy9Lkry9va02V5S6fvNEReNK7xsZV7r54noxMTHKzMxUZmamfH19b/EJAQAAUN1VWkOZsAwAAACUr2HDhmrdurXleLagoCBlZWWVGZedna127dpZvq9oXPPmzeXh4WEZl5OTo0uXLpUZV7t2bavPMwEAAABKuVb2AqTbC8vbtm274bjrw/L69et16dIlq3OUCcsAANyat/91xuZzPjG0sc3nBGqCn376Sd99951GjhwpSRo0aJAmT56sY8eOqVWrVpKk3Nxcff7555aNGaXjli5dqt27dyssLEySdOHCBX300Ud69NFHLeMiIyM1Y8YMrVmzRqNGjZIkFRcXa9WqVerbt6/c3d0d9agAAACoRipth/K1SsPyXXfdJem3ELxv3z4dO3bMMqY0LA8aNMhybdCgQTp16pR2795tuVYalq8dFxkZqaKiIq1Zs8ZyjbAMAACAquLBBx/U7NmztXHjRu3cuVOLFy9WWFiYXF1dNWnSJEnSX//6V7Vs2VKDBw/Wxo0blZaWpsGDB6tZs2YaN26cZa5BgwYpNDRU0dHRWrlypdLT0zVo0CCZzWb9/e9/t4zr0qWLoqKi9Oyzz+rtt9/Wjh07NGLECOXk5Ogf//iHw/8MAAAAUD04fIfygw8+qODgYHXs2FENGjTQ4cOHNW/evDJheeHChRo8eLDmzJkjk8mk6dOnVxiWk5KS5O3trcTExArDclFRkQICArRo0SLl5ORo+fLljv4jAAAAAKyEhIRo9erVeu2111RYWKhmzZrp/vvv19SpU9WyZUtJUv369ZWRkaHnnntOjz32mMxmsx544AH985//tPxmniTVqlVLmzZt0uTJkxUbG6srV64oNDRUO3fuVLNmzazqLl26VNOmTVNcXJzy8/PVqVMnbd26VcHBwY58fAAAAFQjDm8oE5YBAAAAay+88IJeeOGFm45r3ry51q1bd9NxPj4+Sk1NVWpqaoXj6tatq+TkZCUnJxteKwAAAJybwxvKhGUAAAAAAAAAqJ6qxBnKAAAAAAAAAICqj4YyAAAAAAAAAMAQGsoAAAAAAAAAAENoKAMAAAAAAAAADKGhDAAAAAAAAAAwhIYyAAAAAAAAAMAQGsoAAAAAAAAAAENoKAMAAAAAAAAADKGhDAAAAAAAAAAwxLWyFwAAgCMNWbvD5nNuGPaAzecEAAAAAKAqMrRDeePGjVq6dKnl++PHjys0NFSenp4aNmyYCgoK7LZAAAAAoKoiJwMAAMDZGGooz5kzR2fPnrV8P3HiRJ08eVIxMTHas2ePZs6caa/1AQAAAFUWORkAAADOxlBD+ejRo+rYsaMk6fLly/r444+VnJys1157TS+99JLWr19v10UCAAAAVRE5GQAAAM7GUEP5ypUrqlu3riTp3//+t4qLi9W3b19JUmBgoH788Uf7rRAAAACoosjJAAAAcDaGGsotW7bUZ599Jum3c+K6du0qLy8vSdKZM2cs/w8AAAA4E3IyAAAAnI2rkUHjxo3T5MmTtX79eh04cECLFi2y3Nu7d6/atWtntwUCAAAAVRU5GQAAAM7GUEN5woQJatSokfbt26dnnnlGf/nLXyz3Ll68qNGjR9ttgQAAAEBVRU4GAACAszHUUJakkSNHauTIkWWuL1682KYLAgAAAKoTcjIAAACcieGGsiTt3LlTe/fu1alTp9S0aVOFhoYqPDzcXmsDAAAAqgVyMgAAAJyFoYZyXl6ehg8frp07d6pWrVry9vbWuXPnZDabFR4ertWrV8vHx8feawUAAACqFHIyAAAAnE0tI4OeeeYZ7d+/X8uWLdPly5d19uxZXb58We+//77279+vCRMm2HudAAAAQJVDTgYAAICzMbRD+aOPPlJiYqIeffRRyzU3NzeNHDlSeXl5iouLM1Rs7dq1+vDDD5WZmakzZ86oefPmGjp0qF588UV5enpKknJzcxUQEHDD1587d04NGza0fH/lyhVNnz5dy5YtU35+vjp37qxXXnlFvXr1snpdSUmJXnnlFS1evFinT59WYGCg4uPj9dBDDxlaNwAAAHAj5GQAQE0xZO0Om8+5YdgDNp8TQOUztEPZxcVFd9999w3vBQYGysXFxVCxuXPnysXFRS+99JK2bt2q8ePHa9GiRerTp49KSkqsxk6dOlV79+61+ioN06XGjh2rJUuWaNasWdq0aZP8/PzUr18/HThwwGrc9OnTNXPmTD311FPasmWLQkJCNHz4cH388ceG1g0AAADcCDkZAAAAzsbQDuXBgwdr1apV6tu3b5l7K1eu1JAhQwwV++ijj+Tr62v5PiwsTD4+Pho1apR27dqliIgIy71WrVopJCSk3Lm++uorrVixQqmpqRo9erRlvqCgIMXHxystLU2SdObMGc2dO1dTpkzR5MmTJUnh4eE6cuSIpkyZogEDBhhaOwAAAHA9cjIAAHCULat+tsu8f4pqZJd5UXMZ2qEcGRmpTz75RH/+85/17rvvasuWLXr33Xc1YMAA7dixQ4MGDVJGRoblqzzXhuRS9957ryTp1KlTt7TwtLQ0ubm5KSoqynLN1dVVI0aMUHp6uq5evSpJSk9PV2FhoaKjo61eHx0drYMHDyonJ+eW6gIAAAClyMkAAABwNoZ2KA8bNkyS9MMPP2jLli1l7peesWY2m2UymfTrr78aXsDu3bslSW3btrW6PnXqVP3tb39T/fr1FRYWpoSEBHXo0MFyPysrSwEBAapXr57V64KCglRYWKgjR44oKChIWVlZcnd3V+vWrcuMk6Ts7Oxyz6IDAAAAKkJOBgAAgLMx1FDeuXOnXYqfOnVK8fHx6t27t7p16yZJcnd317hx49S3b1/5+vrqu+++00svvaT/9//+n/7zn/9YAnVeXp68vb3LzOnj42O5X/rfhg0bymQyVTgOAAAAuFXkZAAAADgbQw3lsLAwmxcuKCjQ4MGD5erqqqVLl1qu+/n56a233rJ837NnT/Xv319BQUFKSEjQsmXLbL6W8qSkpCglJUWSdPbsWYfVBQAAQPXgjDmZjAwAAODcDJ2hbGuXL19WZGSkjh07pvT0dPn7+1c4vlmzZvrjH/+o/fv3W655e3vr3LlzZcaW7qQo3Vnh7e2t/Px8mc3mCsfdSExMjDIzM5WZmXnDc+0AAAAAW6oOOZmMDAAA4NzK3aEcERGhN998U23atLH6VOkbMZlM2rFjh6GCRUVFGjZsmDIzM7V9+3ar895u5tpfxwsKCtL69et16dIlq/PhsrOzVbt2bctZcEFBQbp69aqOHj1qdT5cdna2JKldu3aG6wMAAADkZAAAADizcncoX7tToaSkRGazudyvkpISQ8VKSko0cuRIZWRkaMOGDQoJCTH0uhMnTuizzz5T9+7dLdciIyNVVFSkNWvWWK4VFxdr1apV6tu3r9zd3SVJ/fv3l5ubm5YvX24157Jly9S+fXs+aAQAAAC3hJwMAAAAZ1buDuVrP2Bk165dNin25JNPas2aNZo2bZrq16+vffv2We75+/vL399fkyZNUklJiUJDQ+Xr66tDhw4pMTFRtWrV0rRp0yzju3TpoqioKD377LMqKipSQECAFi1apJycHKtQ3LhxY02cOFGJiYny9PRUcHCwVq1apYyMDKWlpdnkuQAAAOA8yMkAAABwZjf9UL7CwkJFRUXpueeeU69evW6r2JYtWyRJCQkJSkhIsLo3Y8YMzZw5U0FBQVq0aJHeffddFRQU6I477lBERIRmzJihwMBAq9csXbpU06ZNU1xcnPLz89WpUydt3bpVwcHBVuMSEhLk4eGh119/XadPn1ZgYKBWr16tgQMH3tbzAAAAwHmRkwEAAOCMbtpQrl27tj755BNNmDDhtovl5ubedMyYMWM0ZswYQ/PVrVtXycnJSk5OrnCci4uL4uLiFBcXZ2heAAAA4GbIyQAAAHBG5Z6hfK0ePXpY/dodAAAAAHIyAAAAnM9NdyhL0muvvaYhQ4bIw8NDQ4YMkZ+fn9UnSUtSrVqGetMAAABAjUFOBgAAgLMpN92+//77+uWXXyRJHTp00NGjRzVhwgS1aNFCtWvXlpubm+Wrdu3aDlswAAAAUJnIyQAAAHBm5e5QHj16tPbu3as77rhD8fHxZXZaAAAAAM6InAwAAABnVm5D2Ww2W/5/5syZjlgLAAAAUOWRkwEAAODMONANAAAAAAAAAGBIhR/Kd+rUKR07dszQRK1atbLJggAAAICqjpwMAAAAZ1VhQ3nYsGGGJ/r1119vezEAAACStGXVzzaf809RjWw+J5wXORkAAADOqsKG8rRp03TXXXc5ai0AAABAtUBOBgAAgLOqsKE8cOBAde/e3VFrAQA4sci1G2w+50fDhth8TgCQyMkAAABwXnwoHwAAAAAAAADAkAp3KAMAAAAAAKBy8Ft8AKqicncoz5gxQ/7+/o5cCwAAAFDlkZMBAADgzMrdoTxjxgxHrgMAAACoFsjJAAAAcGacoQwAAAAAAAAAMISGMgAAAAAAAADAEBrKAAAAAAAAAABDym0oDx06VEeOHJEkvf/++/rll18ctigAAACgqiInAwAAwJmV21DeuHGj8vLyJEmjR4/W0aNHHbYoAAAAoKoiJwMAAMCZldtQ/sMf/qC9e/dKksxms0wmk8MWBQAAAFRV5GQAAAA4s3Ibyg8//LCee+45ubi4yGQyKSQkRC4uLjf8cnV1deSaAQAAgEpDTgYAAIAzKzfhzps3Tz169FB2drb+8Y9/6PHHH1fTpk0duTYAAACgyiEnAwAAwJmV21A2mUwaPny4JOndd9/VhAkT1KlTp9sqtnbtWn344YfKzMzUmTNn1Lx5cw0dOlQvvviiPD09LePOnTun559/Xhs2bNDly5cVGhqqefPmqUOHDlbzXblyRdOnT9eyZcuUn5+vzp0765VXXlGvXr2sxpWUlOiVV17R4sWLdfr0aQUGBio+Pl4PPfTQbT0PAAAAnA85GQAAAM6s3CMvrpWTk3PbIVmS5s6dKxcXF7300kvaunWrxo8fr0WLFqlPnz4qKSmR9Ns5dJGRkdq6dasWLFigdevWqaioSOHh4Tp58qTVfGPHjtWSJUs0a9Ysbdq0SX5+furXr58OHDhgNW769OmaOXOmnnrqKW3ZskUhISEaPny4Pv7449t+JgAAADgvcjIAAACcjeFD3f773//qtdde0+7du5WXlycfHx+Fh4dr4sSJatKkiaE5PvroI/n6+lq+DwsLk4+Pj0aNGqVdu3YpIiJCaWlp+vzzz5WRkaHw8HBJUmhoqAICAvTqq69q/vz5kqSvvvpKK1asUGpqqkaPHm2ZLygoSPHx8UpLS5MknTlzRnPnztWUKVM0efJkSVJ4eLiOHDmiKVOmaMCAAUb/CAAAAIAyyMkAAABwJoZ2KB8+fFidOnXS/Pnz5eHhoe7du8vDw0Ovv/66OnfurO+//95QsWtDcql7771XknTq1ClJUlpamu68805LSJYkLy8vRUZGauPGjZZraWlpcnNzU1RUlOWaq6urRowYofT0dF29elWSlJ6ersLCQkVHR1vVjY6O1sGDB5WTk2No7QAAAMD1yMkAAABwNoYayi+88IK8vLx0+PBh7dy5Ux9++KF27typw4cPy8vLSy+88MLvXsDu3bslSW3btpUkZWVlqX379mXGBQUF6cSJEyooKLCMCwgIUL169cqMKyws1JEjRyzj3N3d1bp16zLjJCk7O/t3rx0AAADOjZwMAAAAZ2Ooobxz507Nnj1bLVu2tLreokULzZw5Uzt37vxdxU+dOqX4+Hj17t1b3bp1kyTl5eXJ29u7zFgfHx9Jv30QiZFxeXl5lv82bNhQJpOpwnEAAADArSInAwAAwNkYOkO5sLDQ6tOlr+Xp6anCwsJbLlxQUKDBgwfL1dVVS5cuveXXO0JKSopSUlIkSWfPnq3k1QAAAKCqccacTEYGAABwboZ2KHfu3FkLFiywfMJ0KbPZrDfffFOdO3e+paKXL19WZGSkjh07pvT0dPn7+1vueXt7W3ZXXKt0h0TpboubjSvdWeHt7a38/HyZzeYKx91ITEyMMjMzlZmZecNz7QAAAODcnDEnk5EBAACcm6EdyvHx8Ro4cKDatm2rqKgo+fn56fTp01qzZo2+//57bd682XDBoqIiDRs2TJmZmdq+fbs6dOhgdT8oKEjbtm0r87rs7Gw1b95cHh4elnHr16/XpUuXrM6Hy87OVu3atS1nwQUFBenq1as6evSo1flwpWfCtWvXzvDaAcDZDFy73C7zbho20i7zAoCjkZMBAADgbAztUO7fv782bdokT09PJSQk6Mknn9ScOXPk4eGhTZs2qW/fvoaKlZSUaOTIkcrIyNCGDRsUEhJSZsygQYN06tQpy4eQSNKFCxf00UcfadCgQZZrkZGRKioq0po1ayzXiouLtWrVKvXt21fu7u6Wtbu5uWn5cuumyLJly9S+fXsFBAQYWjsAAABwPXIyAAAAnI2hHcrSb4Gzf//+unTpks6dOydvb+8ynxx9M08++aTWrFmjadOmqX79+tq3b5/lnr+/v/z9/TVo0CCFhoYqOjpaSUlJ8vb2VmJiosxms/7+979bxnfp0kVRUVF69tlnVVRUpICAAC1atEg5OTlWobhx48aaOHGiEhMT5enpqeDgYK1atUoZGRlKS0u7pfUDAAAA1yMnAwAAwJkYbiiXqlev3i0H5FJbtmyRJCUkJCghIcHq3owZMzRz5kzVqlVLmzZt0uTJkxUbG6srV64oNDRUO3fuVLNmzaxes3TpUk2bNk1xcXHKz89Xp06dtHXrVgUHB1uNS0hIkIeHh15//XWdPn1agYGBWr16tQYOHPi7ngMAAAC4HjkZAAAAzuCWG8q3Izc319A4Hx8fpaamKjU1tcJxdevWVXJyspKTkysc5+Liori4OMXFxRldKgAAAOAw5GQAAABUF4bOUAYAAAAAAAAAgIYyAAAAAAAAAMAQGsoAAAAAAAAAAENu2lAuLCxUcHCwtm3b5oj1AAAAANUCORkAAADO6KYN5dq1aysnJ0eurg79/D4AAACgSiMnAwAAwBkZOvKiT58+7LwAAAAArkNOBgAAgLMxtJ3i6aefVnR0tIqLizVkyBD5+fnJZDJZjWnVqpVdFggAAABUVeRkAAAAOBtDDeWwsDBJUnJysubNm3fDMb/++qvtVgUAAABUA+RkAAAAOBtDDeWlS5faex0AAABAtUNOBgAAgLMx1FAeNWqUvdcBAAAAVDvkZAAAADgbQx/KV6qkpETffPONdu/erf/973/2WhMAAABQrZCTAQAA4CwMN5TfeOMNNWnSRB07dlRERIQOHTokSRoyZIjmz59vtwUCAAAAVRk5GQAAAM7E0JEXS5Ys0YQJEzRmzBj17dtXDz/8sOVez549tW7dOj3zzDN2WyQAAABQFZGTAcA5DVy73OZzbho20uZzAoA9GNqhnJycrEmTJiklJUUPPvig1b02bdpYdmEAAAAAzoScDAAAAGdjqKGck5Ojfv363fBe/fr1lZ+fb9NFAQAAANUBORkAAADOxlBDuVGjRsrNzb3hvUOHDqlp06a2XBMAAABQLZCTAQAA4GwMNZQHDhyoWbNm6dixY5ZrJpNJP//8s+bNm6chQ4bYbYEAAABAVUVOBgAAgLMx1FCeM2eO3N3d1b59e/Xu3Vsmk0nPPPOM2rZtKxcXF8XHx9t7nQAAAECVQ04GAACAszF85EVmZqamTp2qoqIi3XXXXSouLtZTTz2lvXv3ysvLy97rBAAAAKoccjIAAACcjavRgZ6enpo+fbqmT59uz/UAAAAA1Qo5GQAA1DT7l56x+Zz3jm5s8zlROQw3lCXpwoUL+uabb3Tq1Cn5+/urffv28vT0tNfaAAAAgGqBnAwAAABnYejIC0maNWuWmjVrpp49eyoqKko9evSQv7+/5syZY8/1AQAAAFWaLXLyyZMn9fTTTys0NFT16tWTyWRSbm5umXEmk+mGXwcOHLAaV1JSosTERLVs2VJ16tRRp06dtG7duhvWXrJkidq0aSN3d3cFBgbqrbfeuqXnBwAAgHMx1FCeMWOGZs6cqaioKG3fvl0HDx7UJ598oocffthyzyjCMgAAAGoKW+XkI0eOaPXq1fL29lbPnj0rHPv4449r7969Vl/33HOP1Zjp06dr5syZeuqpp7RlyxaFhIRo+PDh+vjjj63GLVmyROPGjdNDDz2krVu3avjw4YqNjdWiRYtu6c8BAAAAzsPQkRdLlizRpEmTlJSUZLkWFBSkiIgIeXl5KSUl5ZbDcteuXdWzZ09t27at3LGPP/64xo0bZ3XtRmF57ty5SkhIUNeuXbVy5UoNHz5cmzZt0oABA6yeYdy4cZo6dap69+6tHTt2KDY2VmazWePHjze0dgAAAOBatsrJvXr10k8//SRJevvttyvMyE2bNlVISEi598+cOaO5c+dqypQpmjx5siQpPDxcR44c0ZQpUywZubi4WNOmTdNjjz2mhIQEy7gff/xR06dP1xNPPCE3N7ebrh0AAADOxdAO5fPnz6tfv343vNe/f3+dP3/ecMHSsPzxxx9r+PDhFY4tDcvXftWrV89y//qwHB4ersWLFys8PFxTpkyxjLs+LIeHh2vOnDl6/PHHNX36dBUVFRlePwAAAFDKVjm5Vi3DJ9HdVHp6ugoLCxUdHW11PTo6WgcPHlROTo4kae/evTp79myZcY899ph++eUXffbZZzZbEwAAAGoOQ8n1vvvu0/79+294b//+/brvvvuMFyQsAwAAoIawZU42atGiRXJ3d1e9evUUERGhTz/91Op+VlaW3N3d1bp1a6vrQUFBkqTs7GzLOElq3759heMAAACAa5Xb3S0pKbF8zZ8/X6mpqUpKSlJubq4uX76s3Nxcvfrqq0pNTdXChQvtsjjCMgAAAKqayszJ0dHRevPNN/XJJ58oJSVFv/zyiyIiIrRr1y7LmLy8PDVs2FAmk8nqtT4+Ppb71/7X29u7wnEAAADAtco9Q9nV1dUqhJrNZk2ZMsXqKInS6x07dlRxcbFNFxYdHa2BAwfqzjvv1PHjx5WUlKSIiAht375d999/vyTCMgAAAByvMnPyBx98YPn/nj17avDgwWrfvr3i4uIc9lt3KSkpSklJkSSdPXvWITUBAABQdZTbUI6Pjy/TqHUkwjIAlO/P61JsPufmh2JsPicA1ESVnZOv5enpqT//+c965513LNe8vb2Vn58vs9lstc7STRSlmypKN1ucO3dOfn5+5Y67XkxMjGJifvuZ0a1bNxs+DQAAAKqDchvKRj6N2u58smEAACAASURBVJEIywAAAKgKqlpOlmSVhYOCgnT16lUdPXrU6mi40mPe2rVrZxkn/XY83LUZ+fpxAAAAwLVs9wl5DlJeWL5WRWG5onEAAABAdXLhwgVt2rRJ3bt3t1zr37+/3NzctHz5cquxy5YtU/v27RUQECBJCg0NVaNGjW44zsfHRz169LD/AwAAAKDaKXeH8vW+/fZbrV27Vj/88IOuXLlidc9kMum9996z+eKudbOwPGPGDMv1isJy7969rcYRlgEAAHA7bJWT165dK0n64osvJElbtmyRr6+vfH19FRYWprlz5+rQoUMKDw+3fM7I3Llzdfr0aaumcOPGjTVx4kQlJibK09NTwcHBWrVqlTIyMpSWlmYZ5+bmptmzZys2NlZNmzZV7969lZGRodTUVC1YsEC1a9e+3T8aAAAA1ECGGsrvv/++xowZI5PJpMaNG5cJl7d6hhxhGQAAADWBLXPy8OHDrb6PjY2VJIWFhWnXrl0KDAzU+vXrtX79ep0/f14NGjRQjx499M4771htupCkhIQEeXh46PXXX9fp06cVGBio1atXa+DAgVbj/va3v8lkMum1115TUlKSmjdvroULF1pqAwAAANcz1FCePXu2Bg8erHfeeUcNGza87aKEZQAAANQEtszJZrO5wvuRkZGKjIw0NJeLi4vi4uIUFxd307Hjxo3TuHHjDM0LAAAAGGoonz59Wm+99ZZNmskSYRkAAAA1g61zMgAAAFDVGWoo9+jRQ99++60eeOABe68HAADAYfYvPWPzOe8d3djmc6LqIicDAADA2RhqKC9cuFBDhw7VHXfcob59+8rb27vMmFq1atl8cQAAAEBVRk4GAACAszHUUPb391eXLl0UHR19w/smk0nFxcU2XRgAAABQ1ZGTAQAA4GwMNZT/+te/atWqVRoyZIjatGlT5tOrAQAAAGdETgZga6PX97f5nEsf3GrzOQEAzstQQ3njxo1KSkrShAkT7L0eAAAAoNogJwMAAMDZGDrQrX79+mrXrp291wIAAABUK+RkAAAAOBtDO5RHjx6tFStWqE+fPvZeDwAAAFBtkJMBoGr587oUm8+5+aEYm88JANWZoYZyixYt9OGHH6pPnz7q37//DT+9esyYMTZfHICajfPhAADVHTkZAAAAzsZQQ3n8+PGSpOPHj2vHjh1l7ptMJoIyAAAAnA45GQAAAM7GUEM5JyfH3usAAAAAqh1yMgAAAJyN4SMvAAAAAFgjJwMAAMDZGGooA3AeCav62XzOaVHpNp8TAAAAAAAAjmeooRwQECCTyVThmGPHjtlkQQAAAEB1QU4GAACAszHUUA4LCysTlH/55Rf9+9//loeHhyIiIuyyOAAAAKAqIycDAADA2RhqKL/77rs3vJ6fn6/+/furd+/etlwTAAAAUC2QkwEAAOBsat3Oixs2bKjnn39es2bNstV6AAAAgGqPnAwAAICa6rYaypJUp04dnTx50hZrAQAAAGoMcjIAAABqIkNHXtxIcXGxvvnmG82cOVNBQUG2XBMAAABQbZGTAQAAUJMZaijXqlWr3E+vbtCggTZv3mzTRQEAAADVATkZAAAAzsZQQzk+Pr5MUK5Tp45atGihP/3pT/Ly8rLL4gAAAICqjJwMAAAAZ2OooTxz5kw7LwMAAACofsjJgPNIWNXP5nNOi0q3+ZwAANjbbX8o3606efKknn76aYWGhqpevXoymUzKzc0tM+7KlSt6/vnn5efnp7p16yo0NFR79uwpM66kpESJiYlq2bKl6tSpo06dOmndunU3rL1kyRK1adNG7u7uCgwM1FtvvWXrxwMAAABuGRkZAAAA1UW5O5RnzZp1SxPFx8cbGnfkyBGtXr1aXbt2Vc+ePbVt27Ybjhs7dqw2b96spKQktWrVSm+88Yb69eunvXv3qnPnzpZx06dP19y5c5WQkKCuXbtq5cqVGj58uDZt2qQBAwZYxi1ZskTjxo3T1KlT1bt3b+3YsUOxsbEym80aP378LT0rAAAAnJc9cjIZGQAAANVFuQ1lI7++d+15cUYbyr169dJPP/0kSXr77bdvGJa/+uorrVixQqmpqRo9erQkKSwsTEFBQYqPj1daWpok6cyZM5o7d66mTJmiyZMnS5LCw8N15MgRTZkyxRKWi4uLNW3aND322GNKSEiwjPvxxx81ffp0PfHEE3JzczO0fgAAADg3e+RkMjIAAACqi3IbykVFRRW+8MCBA4qLi1N6erruvvtuwwVr1br5KRtpaWlyc3NTVFTU/y3U1VUjRozQyy+/rKtXr8rd3V3p6ekqLCxUdHS01eujo6M1ZswY5eTkKCAgQHv37tXZs2fLjHvssce0dOlSffbZZwoPDzf8DAAAAHBe9sjJZGQAAOCMcv952uZztny2ic3nhLVyk6uLi8sNv44dO6bo6Gjdd999ys7OVkpKirKzs226qKysLAUEBKhevXpW14OCglRYWKgjR45Yxrm7u6t169ZlxkmyrCsrK0uS1L59+wrHAQAAADdTWTmZjAwAAICqwPCH8v3www964oknFBQUpIyMDM2dO1fff/+9nnjiCbm4uNh0UXl5efL29i5z3cfHx3K/9L8NGza0+pXC8sZJKjPn9eMAAACAW+WonExGBgAAQFVQ7pEXpc6ePas5c+YoJSVFderUUXx8vJ577jnVr1/fEeurVCkpKUpJSZH0258DAAAAUMpZczIZGQAAwLmVu0P5/PnzevHFF9WqVSu98847mjBhgo4dO6a4uDi7h2Rvb2+dO3euzPXSXRKluya8vb2Vn58vs9l803GSysx5/bjrxcTEKDMzU5mZmfL19f29jwMAAIAapLJyMhkZAAAAVUG5O5QDAgJ0/vx59e3bV3FxcfLz89O5c+duGGIlqVWrVjZbVFBQkNavX69Lly5ZnRGXnZ2t2rVrW86DCwoK0tWrV3X06FGrM+JKz3tr166dZZz02zlxfn5+5Y4DAAAAbqaycjIZGQAAAFVBuQ3l/Px8SVJ6erq2bdt204l+/fVXmy0qMjJSM2bM0Jo1azRq1ChJUnFxsVatWqW+ffvK3d1dktS/f3+5ublp+fLlmjFjhuX1y5YtU/v27RUQECBJCg0NVaNGjbR8+XL17t3bapyPj4969Ohhs7UDcG5/Xp9k8zk3P/i8zecEAPx+lZWTycgAAACoCsptKC9dutRuRdeuXStJ+uKLLyRJW7Zska+vr3x9fRUWFqYuXbooKipKzz77rIqKihQQEKBFixYpJydHy5cvt8zTuHFjTZw4UYmJifL09FRwcLBWrVqljIwMpaWlWca5ublp9uzZio2NVdOmTdW7d29lZGQoNTVVCxYsUO3ate32rAAAAKhZ7JWTycgAAACoDsptKJfuerCH4cOHW30fGxsrSQoLC9OuXbsk/RbUp02bpri4OOXn56tTp07aunWrgoODrV6bkJAgDw8Pvf766zp9+rQCAwO1evVqDRw40Grc3/72N5lMJr322mtKSkpS8+bNtXDhQkttAAAAwAh75WQyMgAAAKqDchvK9nT9B4TcSN26dZWcnKzk5OQKx7m4uCguLk5xcXE3nXPcuHEaN26c4XUCAAAAjkJGBgAAQHVQq7IXAAAAAAAAAACoHiplhzIAAICzyf3naZvP2fLZJjafEwDgPAZsmGTzOT8e8prN5wQAVC3sUAYAAAAAAAAAGEJDGQAAAAAAAABgCEdeAKjx+FU+AAAAAAAA22CHMgAAAAAAAADAEBrKAAAAAAAAAABDOPICAAAAAADYzZ/XJ9l8zs0PPm/zOQEAxrBDGQAAAAAAAABgCA1lAAAAAAAAAIAhNJQBAAAAAAAAAIZwhjIAAAAAAACAGu30a9/ZfM4mk9rYfM7qgB3KAAAAAAAAAABDaCgDAAAAAAAAAAyhoQwAAAAAAAAAMIQzlAEAAGoQzoYDAAAAYE/sUAYAAAAAAAAAGEJDGQAAAAAAAABgCEdeAAAAAAAAAIAN/PT6XpvP+YcJoTaf83awQxkAAAAAAAAAYAgNZQAAAAAAAACAIRx5AQAAgN/FGX6dDwAAAIC1KrtDedeuXTKZTGW+GjZsaDXu3LlzeuKJJ9SoUSPVr19fvXv31sGDB8vMd+XKFT3//PPy8/NT3bp1FRoaqj179jjqcQAAAIDbRkYGAABAZavyO5Tnz5+ve++91/K9q+v/LdlsNisyMlK5ublasGCBvL29lZiYqPDwcB04cED+/v6WsWPHjtXmzZuVlJSkVq1a6Y033lC/fv20d+9ede7c2aHPBAAAANwOMjIAAAAqS5VvKLdt21YhISE3vJeWlqbPP/9cGRkZCg8PlySFhoYqICBAr776qubPny9J+uqrr7RixQqlpqZq9OjRkqSwsDAFBQUpPj5eaWlpjnkYAAAAwAbIyAAAAKgsVfbICyPS0tJ05513WoKyJHl5eSkyMlIbN260Gufm5qaoqCjLNVdXV40YMULp6em6evWqQ9cNAAAA2AsZGQAAAPZU5RvKI0eOlIuLi+644w49+uijOnHihOVeVlaW2rdvX+Y1QUFBOnHihAoKCizjAgICVK9evTLjCgsLdeTIEfs+BAAAAGBDZGQAAABUlip75IWXl5cmTZqksLAwNWjQQF9++aVeeuklhYaG6ssvv1Tjxo2Vl5enli1blnmtj4+PpN8+jMTDw0N5eXny9vYud1xeXp5dnwUAAACwBTIyAAAAKluVbSh36dJFXbp0sXwfFhamXr16qXv37po/f77mzJlj9zWkpKQoJSVFknT27Fm71wMAAAAqQkYGAABAZavyR15cKzg4WPfcc4/2798vSfL29ta5c+fKjCvdTVG64+Jm40p3YVwvJiZGmZmZyszMlK+vr02eAQAAALAlMjIAAAAcqVo1lEuZTCZJv53vlpWVVeZ+dna2mjdvLg8PD8u4nJwcXbp0qcy42rVrq3Xr1vZfNAAAAGBHZGQAAAA4QrVqKGdmZurQoUPq3r27JGnQoEE6deqUdu/ebRlz4cIFffTRRxo0aJDlWmRkpIqKirRmzRrLteLiYq1atUp9+/aVu7u74x4CAAAAsCEyMgAAABypyp6hPHLkSAUEBCg4OFgNGzbUl19+qcTERDVt2lTPPPOMpN/CcmhoqKKjo5WUlCRvb28lJibKbDbr73//u2WuLl26KCoqSs8++6yKiooUEBCgRYsWKScnR8uXL6+sRwRuyeIP+tl8znGPpdt8TgAAYD9kZAAAAFS2KttQbt++vT788EMtWLBAly5dUpMmTTR06FD94x//UKNGjSRJtWrV0qZNmzR58mTFxsbqypUrCg0N1c6dO9WsWTOr+ZYuXapp06YpLi5O+fn56tSpk7Zu3arg4ODKeDwAAADglpGRAQAAUNmqbEN56tSpmjp16k3H+fj4KDU1VampqRWOq1u3rpKTk5WcnGyrJQIAAAAORUYGAABAqTMLt9h8zsZP/emmY6rVGcoAAAAAAAAAgMpDQxkAAAAAAAAAYEiVPfICAAAAkCrvV/kAAAAAlMUOZQAAAAAAAACAITSUAQAAAAAAAACGcOQFAAAAAKBaWvxBP7vMO+6xdLvMCwBATcAOZQAAAAAAAACAITSUAQAAAAAAAACG0FAGAAAAAAAAABhCQxkAAAAAAAAAYAgNZQAAAAAAAACAITSUAQAAAAAAAACG0FAGAAAAAAAAABhCQxkAAAAAAAAAYIhrZS8AAAAAQPV3dtEym8/pOz7a5nMCAADg9rBDGQAAAAAAAABgCDuUb5E9dl5I7L4AAAAAAAAAUPWxQxkAAAAAAAAAYAgNZQAAAAAAAACAITSUAQAAAAAAAACG0FAGAAAAAAAAABhCQxkAAAAAAAAAYIhTNZR/+OEHDRs2TF5eXmrQoIGGDh2qEydOVPayAAAAgEpDRgYAAMCtcK3sBTjKpUuXFBERIXd3d7333nsymUyKi4tTeHi4vv76a9WvX7+yl4hqatXS/jafM2r0VpvPCQAAcD0yMgAAAG6V0zSUlyxZomPHjunQoUNq3bq1JKljx466++67tXjxYk2cOLGSVwgAAAA4FhkZAAAAt8ppGsppaWkKCQmxBGVJCggIUI8ePbRx40bCMgAAAJwOGRn2wm/xAQBQczlNQzkrK0uDBw8ucz0oKEhr1qyphBUBAAAAlas6ZuSfFiXZZd4/jH/eLvMCAADUNE7zoXx5eXny9vYuc93Hx0fnzp2rhBUBAAAAlYuMDAAAgFtlMpvN5spehCPUrl1bEydO1Msvv2x1PS4uTi+//LKKi4vLvCYlJUUpKSmSpO+++05t2rS5pZpnz56Vr6/v7190FavjyFo8U/WoVdPqOLIWz1T16ziyFs9U9es4shbP5Phaubm5+vnnn+20oqqtMjKyVPP+7lX1v+NVuY4ja9W0Oo6sxTNVj1o1rY4ja/FMVb+OI2vxTL+pMCObnUTjxo3NMTExZa6PHz/e3KhRI7vU7Nq1q13mraw6jqzFM1WPWjWtjiNr8UxVv44ja/FMVb+OI2vxTNWnVk1QGRnZbK55f/dq4t9xnqnq13FkLZ6petSqaXUcWYtnqvp1HFmLZ7o5pznyIigoSFlZWWWuZ2dnq127dpWwIgAAAKBykZEBAABwq5ymoTxo0CDt27dPx44ds1zLzc3V559/rkGDBlXiygAAAIDKQUYGAADArXKZOXPmzMpehCN06NBBK1eu1Nq1a9W0aVMdPnxYMTExqlOnjt555x3Vrl3bLnW7du1ql3krq44ja/FM1aNWTavjyFo8U9Wv48haPFPVr+PIWjxT9alV3VVWRpZq3t+9mvh3nGeq+nUcWYtnqh61alodR9bimap+HUfW4pkq5jQfyidJJ06c0HPPPaft27fLbDbrgQce0D//+U+1bNmyspcGAAAAVAoyMgAAAG6FUzWUAQAAAAAAAAC/n9OcoQwAAAAAAAAAuD00lO0gLy9PDz74oOrXr68WLVpoxYoVdqmzcOFCdevWTe7u7nr88cftUkOSrl69qrFjx6pFixby9PRU586dtWXLFrvUio6Olp+fnxo0aKB77rlHb7/9tl3qXOv7779XnTp1FB0dbZf577//ftWpU0ceHh7y8PBQYGCgXeqUWrlypdq2bav69evrrrvu0qeffmrT+Uufo/TLxcVFTz/9tE1rlMrNzdWAAQPk7e2tJk2a6KmnnlJxcbFdan377beKiIiQl5eXWrdurfXr19tk3or+ne7YsUNt2rRRvXr1FB4eruPHj9u8TmFhoYYNG6aWLVvKZDJp165dv7vGzWrt27dPffr0kY+Pj3x9fTV8+HD997//tXmd7OxsdevWTd7e3vL29lbv3r2VnZ19G09k7P101qxZMplM+uSTT2xeJzc3VyaTyerf1uzZs21eR5IuXbqk2NhYNWrUSF5eXurVq9fvrlNRreXLl1s9T7169WQymfTFF1/YtI4krV69Wm3btpWnp6fatWunDRs23MYTVVzr7bffVuvWreXh4aH+/fvrxx9//N11bvbz1VbvERXVseV7REV1bP3+UFEte7xHwHYckZNrYkaWHJ+T7Z2RJcfmZHtnZKlm5uTqnpErqmXrnOyojFxRLVv/DHRURq6oVnXNyY7KyBXVkmybk8nIv5+jcrIjMzINZTt48sknVbt2bf30009avny5xo8fr6ysLJvXufPOOxUXF6cxY8bYfO5rFRcXq1mzZtq9e7fOnz+vOXPm6OGHH1Zubq7Na02dOlW5ubm6cOGC0tLSFBcXd1tvrEY8+eSTuvfee+1aY+HChSooKFBBQYEOHTpktzrbt2/XCy+8oKVLl+rixYvas2ePWrVqZdMapc9RUFCg06dPq27duho+fLhNa5SKjY1V48aN9d///lcHDhzQ7t279eabb9q8TnFxsQYPHqyBAwcqLy9PKSkpio6O1uHDh2977vL+nf78888aOnSoZs+erby8PHXr1k1RUVE2ryNJf/zjH7Vs2TI1adLkd89vpNa5c+cUExOj3NxcHT9+XJ6enho9erTN69x5551au3at8vLy9PPPP2vQoEEaMWLE765TUa1SR48e1Zo1a+Tn52fXOvn5+ZZ/X9OnT7dLnZiYGOXl5enbb79VXl6e5s2b97vrVFRr5MiRVu8Xb775plq1aqXg4GCb1jl16pSio6OVnJysCxcuKCkpSY8++qjOnDlj82fatWuXXnzxRW3cuFF5eXkKCAjQI4888rvrVPTz1ZbvETf7OW6r94iK6tj6/aGiWvZ4j4DtOCIn18SMLDk+JzsiI0uOycmOyMhSzcvJNSEjV1RLsm1OdlRGrqiWrX8GOiojG6lV3XKyozJyRbVsnZPJyL+fo3KyQzOyGTZVUFBgdnNzMx86dMhyLTo62vzCCy/Yrea0adPMo0aNstv8N9KhQwfz2rVr7Vrju+++Mzdp0sS8atUqu9X48MMPzcOHDzfPmDHDPHLkSLvUCAsLMy9ZssQuc18vNDTU/PbbbzukltlsNr/77rvmgIAAc0lJiV3mb9OmjXnz5s2W7ydPnmyOiYmxeZ2DBw+a69evb/Ucffr0McfFxdmsxvX/ThcvXmwODQ21fF9QUGCuU6eO+dtvv7VpnWs1bdrUvHPnztua32gts9ls/uKLL8weHh52rVNUVGReuHChuW7durddp6Ja/fr1M2/evNncokUL8/bt221eJycnxyzJXFRUdNtzV1Tn22+/NXt6eprPnz9v0zo3qnW9+++/3zxz5kyb19m3b5/Z19fXakyjRo3M//73v21ea9KkSebY2FjL96dOnTJLMh85cuS2a5Uq/flqr/eI6+tcy9bvEeXVMZtt9/5ws1q2fo/A7XF0Tq6pGdlstn9OdkRGNpsdl5MdnZHN5pqRk2tSRr5RrWvZ8megozLyzWrZ8megozLyjWpV95zsqIx8o1r2yslkZNtwVE62V0Zmh7KNHT58WK6urrrnnnss1zp16mSXHcqV5aefftLhw4cVFBRkl/ljY2NVr149tWnTRn5+fhowYIBd6ly4cEHx8fFKTk62y/zXmjp1qho1aqQePXrY5MiBG/n111+VmZmps2fPqnXr1vL399dTTz2ly5cv26WeJL333nv6y1/+IpPJZJf5n332Wa1cuVKXLl3SqVOntGXLFvXv398uta5nNpv1zTff2G3+rKwsderUyfJ96a9f1qT3ij179tjtfUKSGjZsqDp16ujpp5/Wiy++aLc6a9askbu7u93ei67VokUL+fv7a/To0fr5559tPv9//vMftWjRQjNmzFCjRo3UoUMHrVu3zuZ1rnf8+HHt2bNHf/nLX2w+d7du3dS2bVulpaXp119/1YYNG+Tu7q6OHTvavJb023vD9f9vq/eKa3++2vM9wt4/x43UsfX7w41qOeo9AsbV9JzsiH9bjsjJjszIkv1zcmVkZKnm5mQy8u2zd0aWHPMz0JEZWaqZOdmeGVlybE4mI9uuli3fI+yZkWko21hBQYEaNGhgdc3Ly0sXL16spBXZVlFRkUaOHKlRo0apTZs2dqnx5ptv6uLFi/r00081dOhQubu726XO9OnTNXbsWPn7+9tl/lKvvPKKjh07plOnTikmJkaRkZE6evSozev89NNPKioq0tq1a/Xpp5/qwIED+vLLLzVnzhyb15J+++G3e/dujRo1yi7zS1KvXr2UlZWlBg0ayN/fX926ddOQIUNsXicwMFCNGzdWUlKSioqKtG3bNu3evVuXLl2yea1SBQUF8vLysrpWk94rvv76a82aNUtJSUl2q5Gfn6/z589r4cKF6tKli11qXLx4US+++KJef/11u8xfqlGjRtq/f7+OHz+uL774QhcvXtTIkSNtXufkyZP65ptv5OXlpR9//FELFy7UqFGj/n979x4UVRXHAfy7AiIsC4s6Azo+wLcjUo4oZOii+MBHFCLkC4FqEFArrclKQczJdEYzH+VjLPGVxoTpIBqvFMwnMwFG4yiapglCCYaiK+1y+qNxpwVZXvdehL6fmf1jD3fP7ywO53z3eO9eXLp0SfJa/7Vnzx6MHj0a7u7ukvdtZWWFefPmYfbs2bC1tcXs2bOxfft2qNVqyWsFBAQgKSkJFy9exKNHj0zfGSjFXFF7fZVrjlBiHW+ojtTzQ321lJgjqGnac05W6m9LiZysVEYGlMnJSmdkoP3kZGZk6SmRkQH510ClMjLQvnOynBkZUC4nMyNLV0vKOULujMwNZYk5ODigsrLSrK2yshIajaaVRiSdmpoahIWFoWPHjtiyZYustaysrODr64vff/8dW7dulbz//Px8ZGZmYvHixZL3XZu3tzc0Gg1sbW0RHh6OF198EceOHZO8jp2dHQBg0aJF6NatG7p27YolS5bIUgsA9u7dC19fX9kWv5qaGgQEBGD69OmoqqrCn3/+iYqKCixdulTyWjY2Njh8+DBSU1Ph6uqK9evXIzQ0VNYPUu15rrh69SomT56MjRs3YvTo0bLWUqvViI6Oxrx581r0nbn1SUhIQFhYGNzc3CTv+78cHBzg5eUFa2truLi4YMuWLUhPT5f8w5OdnR1sbGywfPlydOzYETqdDmPHjkV6erqkdWrbs2ePbB+qMzMz8d577+HkyZOorq5GdnY23njjDeTn50tea/z48Vi5ciWCg4Ph5uYGNzc3aDSaFs8VT1tf5ZgjlFrHLdWRen5o6D3JPUdQ07TXtU/JjAzIm5OVzMiAMjlZ6YwMtJ+czIwsLSUzMiDvGqhURgbad06WMyMDyuVkZmRpakk5RyiRkbmhLLEBAwbAYDCgqKjI1FZQUKDIKfNyEkLg9ddfR2lpKZKTk2FjY6NIXYPBIMvZvCdPnsSNGzfQq1cvuLq6Yt26dUhOTm7RF+E3lkqlMrscRCrOzs7o0aOH2WV1cl1iB8i/+JWXl+PmzZtYuHAhbG1t0aVLF0RGRsoW/j09PZGdnY27d+8iLS0Nv/76K0aOHClLLQAYijd9TAAADUBJREFUMmQICgoKTM+rqqpw7dq1Nj9X/Pbbbxg/fjzi4uIQFhamSM2amhrT5Z5Sy8rKwqZNm+Dq6gpXV1fcunULoaGhWLt2reS1/uvJ325NTY2k/T7t8jY55wkAOH36NIqLizFjxgxZ+s/Pz8eYMWPg5eWFDh06YMSIEfD29m7xncbrs2DBAhQVFaG0tBTBwcEwGAzw8PBodn/1ra9SzxFKreOW6kg9PzT2Pck5R1DTtMec3FoZGZAnJ7dmRgbkyclKZ2SgfeVkZmRptEZGBuRbA1srIwPtJyfLnZEBZXMyM3LLakk5RyiVkbmhLDG1Wo3p06cjPj4eVVVVOH36NI4cOSLLomEwGKDX62E0GmE0GqHX62EwGCSvAwAxMTG4dOkSUlJSTP/LL7WysjIcPHgQDx48gNFoRFpaGg4cOAB/f3/Ja0VFReHatWvIz89Hfn4+oqOjMXXqVKSlpUla5969e0hLSzP92+zfvx85OTmyfb9ZZGQkNm/ejLKyMlRUVGDDhg2YNm2a5HXOnDmD27dvy3bXauDfS5vc3d2xdetWGAwG3Lt3D7t375bte1EvXrwIvV6Phw8fYt26dSgpKUFERESL+63v7zQoKAiFhYVITk6GXq/HRx99BE9Pz2ZfXmNpPnj8+DH0ej0AoLq6Gnq9vkUf1uqrdfv2bYwbNw4LFy5EdHR0s/tvqE5GRgby8vJgNBpRWVmJJUuWwNnZGYMHD5a8VlZWFgoLC01zRffu3bF9+3YsWLBA0jrnz5/H5cuXUVNTg7t37+LNN9+En59fncu5WlpnzJgx6NWrFz755BMYDAacPn0aJ06cwKRJk5pVx1KtJ3bv3o3g4OAWn1lUX50RI0aYLmEGgLy8PJw6dapFc0V9tfR6PQoLCyGEwM2bNxEVFYW33noLzs7Oza5V3/oq9RxhaR2Xco6or47U84OlWnLMESQNpXJye8vIgHI5WamMDCibk5XKyED7y8ltPSNbqgVIuwYqlZEt1ZJ6DVQqI1uq1VZzslIZ2VItqXMyM3LLPkcrlZMVy8jNvp0f1evu3bvi5ZdfFvb29qJnz55i//79stRZsWKFAGD2WLFiheR1bty4IQAIW1tboVarTY99+/ZJWqesrEyMGTNGODk5CY1GIzw8PMSOHTskrVEfue5gXVZWJry8vISDg4NwcnIS3t7eIj09XfI6T1RXV4uYmBjh5OQkXFxcxKJFi8SjR48krxMVFSXmzp0reb+15eXlCZ1OJ7RarejSpYsICQkRd+7ckaXWu+++K7RarVCr1SIgIEAUFRVJ0q+lv9OMjAwxcOBA0alTJ6HT6cT169dlqdO7d+86P5OjVkJCggBgNk+o1WrJ6yQlJYmBAwcKtVotunbtKqZMmSIKCgqaXcdSrdpaegfr+up8/fXXws3NTdjb2wtXV1cRFhYmSkpKZHk/hYWFwsfHR9jb24vBgweLQ4cONbtOQ7UePXoknJycRGZmZotqNFRn8+bNom/fvsLBwUG4u7uLdevWyVKroqJCDB06VNjb2wsXFxfx/vvvC4PB0Ow6Da2vUs0RDdWRao6wVEfq+cFSLTnmCJKOEjm5vWVkIVovJ8uVkYVQNicrlZGFaH85ua1n5IZqSZmTlcrIlmpJvQYqlZEt1WqrOVmpjNxQLSlzMjNy8+cHpXKykhlZJYQM194TERERERERERERUbvDr7wgIiIiIiIiIiIiokbhhjIRERERERERERERNQo3lImIiIiIiIiIiIioUbihTERERERERERERESNwg1lIiIiIiIiIiIiImoUbigTERERERERERERUaNwQ5mISEKJiYlQqVS4evVqnZ8ZDAaoVCokJCQoPzAFfPXVV+jfvz86duwIrVbb5Ne3598NERER0f8ZMzIzMhG1L9xQJiKiFisuLkZUVBRGjRqFH374AZmZma09JCIiIiKiVsWMTETtlXVrD4CIiOT1+PFj2NraylqjqKgIRqMR4eHh8PX1lbUWEREREVFLMSMTETUfz1AmImplFy5cwPjx4+Hg4AC1Wg1/f39cuHDB7Bg/Pz/4+fnVea2bmxsiIiJMz59cTpiTk4OQkBBotVp4e3sDAHJzczFhwgR06dIFdnZ26NOnD2JjYxsc3+XLlxEUFAStVgs7Ozv4+Pjg+++/N/08IiLCNDZ/f3+oVCqzMdVmNBqxfPlydOvWDfb29vDz88Mvv/xS57irV68iLCwM7u7upvHGxMSgoqLCdMz69etha2uLP/74w+y1Qgj06dMHM2fObPD9EREREdGzhxmZGZmInl3cUCYikoHRaITBYDB7GI3GOsddvHgROp0OFRUVSExMxJ49e1BZWQmdToeCgoJm158zZw7c3d3x7bffYs2aNXjw4AEmTZoEKysrJCYm4vjx44iPj4fBYLDYT3FxMXx9fVFQUIAtW7YgKSkJWq0WU6dOxfHjxwEAcXFx2LRpEwDg888/x9mzZxEXF1dvnwkJCVi9ejXmzJmDw4cPY+LEiQgMDHxq7Z49e+Kzzz5DWloa4uPjkZWVhSlTppiOiYyMRIcOHbBr1y6z16anp+P69euIjo5u9O+MiIiIiOTFjMyMTETthCAiIsns2rVLALD4WLFihen44OBg4eTkJCoqKkxtf/31l3B2dhZBQUGmNp1OJ3Q6XZ16vXv3FuHh4XXqv/3222bH5ebmCgCioKCgSe/nnXfeEVZWVqKoqMjUZjAYxIABA8SwYcNMbRkZGQKAOHHihMX+ysvLhVqtFvPnzzdrX7NmTZ3fTW1///23OHXqlAAgfvrpJ1N7eHi46Nu3r6ipqTG1BQUFiUGDBjXyXRIRERGRnJiRT1jsjxmZiNoanqFMRCSD7777Drm5uWaPc+fO1TkuJycH06ZNM7vjs6OjIwIDA5Gdnd3s+kFBQWbP+/fvD61Wi/nz52Pfvn24detWo/rJycmBj48P+vXrZ2qzsrLCrFmzkJ+fj8rKyiaN6+eff0ZVVRVCQ0PN2p922V11dTVWr16NQYMGwc7ODjY2Nhg9ejSAfy8xfCI2NhbXrl1DVlYWAKCkpAQpKSmIiopq0tiIiIiISF7MyE/HjExEbQ03lImIZODh4QEvLy+zx/Dhw+scV15ejm7dutVpd3V1NfsetKaq3aeTkxNOnDiB7t27IzY2Fr169YKHhweSk5Mt9mNpfEKIJo+xpKQEAODi4mLWXvs5AHzwwQdISEjA3LlzkZqaigsXLuDQoUMAAL1ebzpu5MiRGD58OLZt2wYA2LlzJ6ytrREeHt6ksRERERGRvJiRn44ZmYjaGm4oExG1os6dO+POnTt12u/cuQNnZ2fT806dOqG6urrOceXl5U/tV6VS1Wl7/vnnkZycjPLycpw9exZ9+/ZFaGgoCgsLmzU+lUplNsbGeBK8S0tLzdprPweAgwcPYt68eVi+fDnGjRuHESNGmJ2l8l+xsbE4cuQIbt++jZ07dyIkJASdO3du0tiIiIiI6NnAjIynPgeYkYno2cANZSKiVqTT6XDs2DHcv3/f1Hb//n2kpKSY3bG6d+/euHLlillgzsnJMXtdY1lbW8PHxwerVq1CTU0NLl26ZHF8586dw40bN0xtRqMR33zzDYYNGwZHR8cm1fb09IRarUZSUpJZ+8GDB+sc+/DhQ9jY2Ji11b6xyBOzZs2CRqPB7NmzcfPmTd5ohIiIiKgNY0b+FzMyET2rrFt7AERE/2dxcXE4evQo/P39sXTpUqhUKqxduxYPHz5EfHy86biZM2dix44deO211xAREYHr16/j008/hZOTU6PqHD16FDt27MArr7wCd3d3VFVVYdOmTdBoNHjhhRfqfd3ixYuRmJiICRMmYOXKlXB0dMQXX3yBK1euIDU1tcnvV6vVYvHixfj444+h0WgwceJE5Obm4ssvv6xzbEBAAHbv3o2hQ4eiX79+OHToEM6cOfPUfu3s7BAREYENGzZg6NChGDVqVJPHRkRERETPBmZkZmQierbxDGUiolbk6emJkydPwtHREeHh4QgLC4ODgwOys7Px3HPPmY4bO3Ystm3bhvPnz+Oll17Crl27sG/fvnovb6utf//+sLOzw6pVqzB58mRERkbC2toaGRkZ6NGjR72v6969O3788UcMGTIEMTExmDFjBsrLy5GamoqAgIBmveeEhAR8+OGH2Lt3LwIDA5Geno6UlJQ6x23evBmBgYFYtmwZXn31Vdy/fx8HDhyot9+QkBAAwPz585s1LiIiIiJ6NjAjMyMT0bNNJYQQrT0IIiKillq2bBk2btyI4uLiJl9mSERERETUHjEjE5Ec+JUXRETUpuXl5eHy5cvYuHEjoqKiGJSJiIiI6H+PGZmI5MQzlImIqE1zc3NDaWkpJk2ahL1790Kj0bT2kIiIiIiIWhUzMhHJiRvKRERERERERERERNQovCkfERERERERERERETUKN5SJiIiIiIiIiIiIqFG4oUxEREREREREREREjcINZSIiIiIiIiIiIiJqFG4oExEREREREREREVGjcEOZiIiIiIiIiIiIiBrlH9Ga8LfnkuroAAAAAElFTkSuQmCC\n",
                "text/plain": "<Figure size 1440x720 with 4 Axes>"
              }
            ],
            "_view_module": "@jupyter-widgets/output",
            "_model_module_version": "1.0.0",
            "_view_count": null,
            "_view_module_version": "1.0.0",
            "layout": "IPY_MODEL_43d93422da8e45c0a25b6e49f5d21da7",
            "_model_module": "@jupyter-widgets/output"
          }
        },
        "ae684e4e1d86473ab67899bdc4eae0ba": {
          "model_module": "@jupyter-widgets/controls",
          "model_name": "DescriptionStyleModel",
          "state": {
            "_view_name": "StyleView",
            "_model_name": "DescriptionStyleModel",
            "description_width": "",
            "_view_module": "@jupyter-widgets/base",
            "_model_module_version": "1.5.0",
            "_view_count": null,
            "_view_module_version": "1.2.0",
            "_model_module": "@jupyter-widgets/controls"
          }
        },
        "d9ed8ed3f6504df68dc93a3822725e2d": {
          "model_module": "@jupyter-widgets/base",
          "model_name": "LayoutModel",
          "state": {
            "_view_name": "LayoutView",
            "grid_template_rows": null,
            "right": null,
            "justify_content": null,
            "_view_module": "@jupyter-widgets/base",
            "overflow": null,
            "_model_module_version": "1.2.0",
            "_view_count": null,
            "flex_flow": null,
            "width": null,
            "min_width": null,
            "border": null,
            "align_items": null,
            "bottom": null,
            "_model_module": "@jupyter-widgets/base",
            "top": null,
            "grid_column": null,
            "overflow_y": null,
            "overflow_x": null,
            "grid_auto_flow": null,
            "grid_area": null,
            "grid_template_columns": null,
            "flex": null,
            "_model_name": "LayoutModel",
            "justify_items": null,
            "grid_row": null,
            "max_height": null,
            "align_content": null,
            "visibility": null,
            "align_self": null,
            "height": null,
            "min_height": null,
            "padding": null,
            "grid_auto_rows": null,
            "grid_gap": null,
            "max_width": null,
            "order": null,
            "_view_module_version": "1.2.0",
            "grid_template_areas": null,
            "object_position": null,
            "object_fit": null,
            "grid_auto_columns": null,
            "margin": null,
            "display": null,
            "left": null
          }
        },
        "528194f7be754c7aafd5ef428f9396a8": {
          "model_module": "@jupyter-widgets/controls",
          "model_name": "DescriptionStyleModel",
          "state": {
            "_view_name": "StyleView",
            "_model_name": "DescriptionStyleModel",
            "description_width": "",
            "_view_module": "@jupyter-widgets/base",
            "_model_module_version": "1.5.0",
            "_view_count": null,
            "_view_module_version": "1.2.0",
            "_model_module": "@jupyter-widgets/controls"
          }
        },
        "372b3a33bc40488598d3d37e2e2fb970": {
          "model_module": "@jupyter-widgets/base",
          "model_name": "LayoutModel",
          "state": {
            "_view_name": "LayoutView",
            "grid_template_rows": null,
            "right": null,
            "justify_content": null,
            "_view_module": "@jupyter-widgets/base",
            "overflow": null,
            "_model_module_version": "1.2.0",
            "_view_count": null,
            "flex_flow": null,
            "width": null,
            "min_width": null,
            "border": null,
            "align_items": null,
            "bottom": null,
            "_model_module": "@jupyter-widgets/base",
            "top": null,
            "grid_column": null,
            "overflow_y": null,
            "overflow_x": null,
            "grid_auto_flow": null,
            "grid_area": null,
            "grid_template_columns": null,
            "flex": null,
            "_model_name": "LayoutModel",
            "justify_items": null,
            "grid_row": null,
            "max_height": null,
            "align_content": null,
            "visibility": null,
            "align_self": null,
            "height": null,
            "min_height": null,
            "padding": null,
            "grid_auto_rows": null,
            "grid_gap": null,
            "max_width": null,
            "order": null,
            "_view_module_version": "1.2.0",
            "grid_template_areas": null,
            "object_position": null,
            "object_fit": null,
            "grid_auto_columns": null,
            "margin": null,
            "display": null,
            "left": null
          }
        },
        "43d93422da8e45c0a25b6e49f5d21da7": {
          "model_module": "@jupyter-widgets/base",
          "model_name": "LayoutModel",
          "state": {
            "_view_name": "LayoutView",
            "grid_template_rows": null,
            "right": null,
            "justify_content": null,
            "_view_module": "@jupyter-widgets/base",
            "overflow": null,
            "_model_module_version": "1.2.0",
            "_view_count": null,
            "flex_flow": null,
            "width": null,
            "min_width": null,
            "border": null,
            "align_items": null,
            "bottom": null,
            "_model_module": "@jupyter-widgets/base",
            "top": null,
            "grid_column": null,
            "overflow_y": null,
            "overflow_x": null,
            "grid_auto_flow": null,
            "grid_area": null,
            "grid_template_columns": null,
            "flex": null,
            "_model_name": "LayoutModel",
            "justify_items": null,
            "grid_row": null,
            "max_height": null,
            "align_content": null,
            "visibility": null,
            "align_self": null,
            "height": null,
            "min_height": null,
            "padding": null,
            "grid_auto_rows": null,
            "grid_gap": null,
            "max_width": null,
            "order": null,
            "_view_module_version": "1.2.0",
            "grid_template_areas": null,
            "object_position": null,
            "object_fit": null,
            "grid_auto_columns": null,
            "margin": null,
            "display": null,
            "left": null
          }
        }
      }
    }
  },
  "cells": [
    {
      "cell_type": "markdown",
      "metadata": {
        "id": "view-in-github",
        "colab_type": "text"
      },
      "source": [
        "<a href=\"https://colab.research.google.com/github/gabrielborja/python_data_analysis/blob/main/bysykkel_analysis.ipynb\" target=\"_parent\"><img src=\"https://colab.research.google.com/assets/colab-badge.svg\" alt=\"Open In Colab\"/></a>"
      ]
    },
    {
      "cell_type": "markdown",
      "metadata": {
        "id": "eTZwpRZNRhGY"
      },
      "source": [
        "# Bysykkel Oslo"
      ]
    },
    {
      "cell_type": "markdown",
      "metadata": {
        "id": "sgzkv1LwjLIL"
      },
      "source": [
        "## Uploading packages and data"
      ]
    },
    {
      "cell_type": "code",
      "metadata": {
        "id": "QTRtRZcb-IyF"
      },
      "source": [
        "#Importing necessary packages\n",
        "import numpy as np\n",
        "import pandas as pd\n",
        "import random\n",
        "import matplotlib.pyplot as plt\n",
        "import seaborn as sns"
      ],
      "execution_count": 1,
      "outputs": []
    },
    {
      "cell_type": "code",
      "metadata": {
        "id": "1Z4jxJjRRPLB",
        "colab": {
          "base_uri": "https://localhost:8080/"
        },
        "outputId": "7bd51cc3-5354-4901-c7e4-2c125e5bf94a"
      },
      "source": [
        "#Remove previous versions of the uploaded excel file\n",
        "!rm 2021_05_bysykkel.csv"
      ],
      "execution_count": null,
      "outputs": [
        {
          "output_type": "stream",
          "text": [
            "rm: cannot remove '2021_05_bysykkel.csv': No such file or directory\n"
          ],
          "name": "stdout"
        }
      ]
    },
    {
      "cell_type": "code",
      "metadata": {
        "colab": {
          "resources": {
            "http://localhost:8080/nbextensions/google.colab/files.js": {
              "data": "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",
              "ok": true,
              "headers": [
                [
                  "content-type",
                  "application/javascript"
                ]
              ],
              "status": 200,
              "status_text": ""
            }
          },
          "base_uri": "https://localhost:8080/",
          "height": 73
        },
        "id": "oen97ED1-rh-",
        "outputId": "10190d52-b826-469e-b1f4-31eaa55a8031"
      },
      "source": [
        "#Uploading file from local drive\n",
        "from google.colab import files\n",
        "uploaded = files.upload()"
      ],
      "execution_count": null,
      "outputs": [
        {
          "output_type": "display_data",
          "data": {
            "text/html": [
              "\n",
              "     <input type=\"file\" id=\"files-65f43c29-44d8-4200-bd7f-fbf467dd4b20\" name=\"files[]\" multiple disabled\n",
              "        style=\"border:none\" />\n",
              "     <output id=\"result-65f43c29-44d8-4200-bd7f-fbf467dd4b20\">\n",
              "      Upload widget is only available when the cell has been executed in the\n",
              "      current browser session. Please rerun this cell to enable.\n",
              "      </output>\n",
              "      <script src=\"/nbextensions/google.colab/files.js\"></script> "
            ],
            "text/plain": [
              "<IPython.core.display.HTML object>"
            ]
          },
          "metadata": {
            "tags": []
          }
        },
        {
          "output_type": "stream",
          "text": [
            "Saving 2021_05_bysykkel.csv to 2021_05_bysykkel.csv\n"
          ],
          "name": "stdout"
        }
      ]
    },
    {
      "cell_type": "code",
      "metadata": {
        "id": "03VoNwL0-3O6"
      },
      "source": [
        "#Storing dataset in a Pandas Dataframe\n",
        "import io\n",
        "by_df = pd.read_csv(io.BytesIO(uploaded['2021_05_bysykkel.csv']), parse_dates=True, infer_datetime_format=True)"
      ],
      "execution_count": null,
      "outputs": []
    },
    {
      "cell_type": "code",
      "metadata": {
        "id": "6wPknHC-JSRB",
        "colab": {
          "base_uri": "https://localhost:8080/"
        },
        "outputId": "fc394384-743d-43c2-dd1a-f892cd7d6892"
      },
      "source": [
        "#Checking the dataframe information\n",
        "by_df.info()"
      ],
      "execution_count": null,
      "outputs": [
        {
          "output_type": "stream",
          "text": [
            "<class 'pandas.core.frame.DataFrame'>\n",
            "RangeIndex: 144625 entries, 0 to 144624\n",
            "Data columns (total 13 columns):\n",
            " #   Column                     Non-Null Count   Dtype  \n",
            "---  ------                     --------------   -----  \n",
            " 0   started_at                 144625 non-null  object \n",
            " 1   ended_at                   144625 non-null  object \n",
            " 2   duration                   144625 non-null  int64  \n",
            " 3   start_station_id           144625 non-null  int64  \n",
            " 4   start_station_name         144625 non-null  object \n",
            " 5   start_station_description  144623 non-null  object \n",
            " 6   start_station_latitude     144625 non-null  float64\n",
            " 7   start_station_longitude    144625 non-null  float64\n",
            " 8   end_station_id             144625 non-null  int64  \n",
            " 9   end_station_name           144625 non-null  object \n",
            " 10  end_station_description    144623 non-null  object \n",
            " 11  end_station_latitude       144625 non-null  float64\n",
            " 12  end_station_longitude      144625 non-null  float64\n",
            "dtypes: float64(4), int64(3), object(6)\n",
            "memory usage: 14.3+ MB\n"
          ],
          "name": "stdout"
        }
      ]
    },
    {
      "cell_type": "markdown",
      "metadata": {
        "id": "nFhbxv-B6dN7"
      },
      "source": [
        "##Initial Data manipulation and aggregation\n",
        "\n"
      ]
    },
    {
      "cell_type": "code",
      "metadata": {
        "colab": {
          "base_uri": "https://localhost:8080/"
        },
        "id": "L-nwCWK84UZT",
        "outputId": "39dd797d-adad-484e-ce6b-3fbc55d1cee8"
      },
      "source": [
        "#Convert columns into datetime object and Oslo timezone\n",
        "by_df['started_at'] = pd.to_datetime(by_df['started_at'], format='%Y-%m-%d %H:%M:%S').dt.tz_convert('Europe/Oslo')\n",
        "by_df['ended_at'] = pd.to_datetime(by_df['ended_at'], format='%Y-%m-%d %H:%M:%S').dt.tz_convert('Europe/Oslo')\n",
        "by_df.info()"
      ],
      "execution_count": null,
      "outputs": [
        {
          "output_type": "stream",
          "text": [
            "<class 'pandas.core.frame.DataFrame'>\n",
            "RangeIndex: 144625 entries, 0 to 144624\n",
            "Data columns (total 13 columns):\n",
            " #   Column                     Non-Null Count   Dtype                      \n",
            "---  ------                     --------------   -----                      \n",
            " 0   started_at                 144625 non-null  datetime64[ns, Europe/Oslo]\n",
            " 1   ended_at                   144625 non-null  datetime64[ns, Europe/Oslo]\n",
            " 2   duration                   144625 non-null  int64                      \n",
            " 3   start_station_id           144625 non-null  int64                      \n",
            " 4   start_station_name         144625 non-null  object                     \n",
            " 5   start_station_description  144623 non-null  object                     \n",
            " 6   start_station_latitude     144625 non-null  float64                    \n",
            " 7   start_station_longitude    144625 non-null  float64                    \n",
            " 8   end_station_id             144625 non-null  int64                      \n",
            " 9   end_station_name           144625 non-null  object                     \n",
            " 10  end_station_description    144623 non-null  object                     \n",
            " 11  end_station_latitude       144625 non-null  float64                    \n",
            " 12  end_station_longitude      144625 non-null  float64                    \n",
            "dtypes: datetime64[ns, Europe/Oslo](2), float64(4), int64(3), object(4)\n",
            "memory usage: 14.3+ MB\n"
          ],
          "name": "stdout"
        }
      ]
    },
    {
      "cell_type": "code",
      "metadata": {
        "colab": {
          "base_uri": "https://localhost:8080/",
          "height": 160
        },
        "id": "aKX5w8Ws50XN",
        "outputId": "ad1c57b4-9c42-42b8-a4cc-abe8352834b9"
      },
      "source": [
        "#Checking the dataframe head\n",
        "by_df.head(2)"
      ],
      "execution_count": null,
      "outputs": [
        {
          "output_type": "execute_result",
          "data": {
            "text/html": [
              "<div>\n",
              "<style scoped>\n",
              "    .dataframe tbody tr th:only-of-type {\n",
              "        vertical-align: middle;\n",
              "    }\n",
              "\n",
              "    .dataframe tbody tr th {\n",
              "        vertical-align: top;\n",
              "    }\n",
              "\n",
              "    .dataframe thead th {\n",
              "        text-align: right;\n",
              "    }\n",
              "</style>\n",
              "<table border=\"1\" class=\"dataframe\">\n",
              "  <thead>\n",
              "    <tr style=\"text-align: right;\">\n",
              "      <th></th>\n",
              "      <th>started_at</th>\n",
              "      <th>ended_at</th>\n",
              "      <th>duration</th>\n",
              "      <th>start_station_id</th>\n",
              "      <th>start_station_name</th>\n",
              "      <th>start_station_description</th>\n",
              "      <th>start_station_latitude</th>\n",
              "      <th>start_station_longitude</th>\n",
              "      <th>end_station_id</th>\n",
              "      <th>end_station_name</th>\n",
              "      <th>end_station_description</th>\n",
              "      <th>end_station_latitude</th>\n",
              "      <th>end_station_longitude</th>\n",
              "    </tr>\n",
              "  </thead>\n",
              "  <tbody>\n",
              "    <tr>\n",
              "      <th>0</th>\n",
              "      <td>2021-05-01 05:02:08.105000+02:00</td>\n",
              "      <td>2021-05-01 05:07:05.124000+02:00</td>\n",
              "      <td>297</td>\n",
              "      <td>565</td>\n",
              "      <td>Mailundveien</td>\n",
              "      <td>sør for Torshovdalen</td>\n",
              "      <td>59.930918</td>\n",
              "      <td>10.77282</td>\n",
              "      <td>493</td>\n",
              "      <td>Sofienbergparken nordvest</td>\n",
              "      <td>langs Helgesens Gate</td>\n",
              "      <td>59.924364</td>\n",
              "      <td>10.761586</td>\n",
              "    </tr>\n",
              "    <tr>\n",
              "      <th>1</th>\n",
              "      <td>2021-05-01 05:06:49.811000+02:00</td>\n",
              "      <td>2021-05-01 05:17:37.118000+02:00</td>\n",
              "      <td>647</td>\n",
              "      <td>459</td>\n",
              "      <td>Valkyrieplassen</td>\n",
              "      <td>ved Bogstadveien</td>\n",
              "      <td>59.928132</td>\n",
              "      <td>10.71842</td>\n",
              "      <td>499</td>\n",
              "      <td>Bjerregaards gate</td>\n",
              "      <td>ovenfor Fredrikke Qvams gate</td>\n",
              "      <td>59.925488</td>\n",
              "      <td>10.746058</td>\n",
              "    </tr>\n",
              "  </tbody>\n",
              "</table>\n",
              "</div>"
            ],
            "text/plain": [
              "                        started_at  ... end_station_longitude\n",
              "0 2021-05-01 05:02:08.105000+02:00  ...             10.761586\n",
              "1 2021-05-01 05:06:49.811000+02:00  ...             10.746058\n",
              "\n",
              "[2 rows x 13 columns]"
            ]
          },
          "metadata": {
            "tags": []
          },
          "execution_count": 7
        }
      ]
    },
    {
      "cell_type": "code",
      "metadata": {
        "id": "4r7R8-oA6XBs"
      },
      "source": [
        "#Creating 2 dataframes, one with starting trips and one with end trips\n",
        "st_df = by_df[['started_at', 'start_station_id', 'start_station_name', 'start_station_latitude', 'start_station_longitude', 'duration']]\n",
        "en_df = by_df[['ended_at', 'end_station_id', 'end_station_name', 'end_station_latitude', 'end_station_longitude', 'duration']]"
      ],
      "execution_count": null,
      "outputs": []
    },
    {
      "cell_type": "code",
      "metadata": {
        "id": "egIQBPjdPitO"
      },
      "source": [
        "#Creating a function to extract categories from datetime object\n",
        "def convert_dates(df):\n",
        "  \"\"\"Extract year, month, week number, day, hour and minutes from datetime column\"\"\"\n",
        "  df = df.assign(year = df.iloc[:,0].dt.year,\n",
        "                 month = df.iloc[:,0].dt.month_name(),\n",
        "                 weeknum = df.iloc[:,0].dt.isocalendar().week,\n",
        "                 day = df.iloc[:,0].dt.day_name(),\n",
        "                 hour = df.iloc[:,0].dt.hour,\n",
        "                 minute = df.iloc[:,0].dt.minute\n",
        "                 )\n",
        "  return df"
      ],
      "execution_count": null,
      "outputs": []
    },
    {
      "cell_type": "code",
      "metadata": {
        "colab": {
          "base_uri": "https://localhost:8080/",
          "height": 106
        },
        "id": "aTuzDaWRS02L",
        "outputId": "81b5baf6-5275-4da7-cd04-1a13c7c55add"
      },
      "source": [
        "#Converting dates for starting journeys dataframe\n",
        "st_df = convert_dates(st_df)\n",
        "st_df.head(2)"
      ],
      "execution_count": null,
      "outputs": [
        {
          "output_type": "execute_result",
          "data": {
            "text/html": [
              "<div>\n",
              "<style scoped>\n",
              "    .dataframe tbody tr th:only-of-type {\n",
              "        vertical-align: middle;\n",
              "    }\n",
              "\n",
              "    .dataframe tbody tr th {\n",
              "        vertical-align: top;\n",
              "    }\n",
              "\n",
              "    .dataframe thead th {\n",
              "        text-align: right;\n",
              "    }\n",
              "</style>\n",
              "<table border=\"1\" class=\"dataframe\">\n",
              "  <thead>\n",
              "    <tr style=\"text-align: right;\">\n",
              "      <th></th>\n",
              "      <th>started_at</th>\n",
              "      <th>start_station_id</th>\n",
              "      <th>start_station_name</th>\n",
              "      <th>start_station_latitude</th>\n",
              "      <th>start_station_longitude</th>\n",
              "      <th>duration</th>\n",
              "      <th>year</th>\n",
              "      <th>month</th>\n",
              "      <th>weeknum</th>\n",
              "      <th>day</th>\n",
              "      <th>hour</th>\n",
              "      <th>minute</th>\n",
              "    </tr>\n",
              "  </thead>\n",
              "  <tbody>\n",
              "    <tr>\n",
              "      <th>0</th>\n",
              "      <td>2021-05-01 05:02:08.105000+02:00</td>\n",
              "      <td>565</td>\n",
              "      <td>Mailundveien</td>\n",
              "      <td>59.930918</td>\n",
              "      <td>10.77282</td>\n",
              "      <td>297</td>\n",
              "      <td>2021</td>\n",
              "      <td>May</td>\n",
              "      <td>17</td>\n",
              "      <td>Saturday</td>\n",
              "      <td>5</td>\n",
              "      <td>2</td>\n",
              "    </tr>\n",
              "    <tr>\n",
              "      <th>1</th>\n",
              "      <td>2021-05-01 05:06:49.811000+02:00</td>\n",
              "      <td>459</td>\n",
              "      <td>Valkyrieplassen</td>\n",
              "      <td>59.928132</td>\n",
              "      <td>10.71842</td>\n",
              "      <td>647</td>\n",
              "      <td>2021</td>\n",
              "      <td>May</td>\n",
              "      <td>17</td>\n",
              "      <td>Saturday</td>\n",
              "      <td>5</td>\n",
              "      <td>6</td>\n",
              "    </tr>\n",
              "  </tbody>\n",
              "</table>\n",
              "</div>"
            ],
            "text/plain": [
              "                        started_at  start_station_id  ... hour  minute\n",
              "0 2021-05-01 05:02:08.105000+02:00               565  ...    5       2\n",
              "1 2021-05-01 05:06:49.811000+02:00               459  ...    5       6\n",
              "\n",
              "[2 rows x 12 columns]"
            ]
          },
          "metadata": {
            "tags": []
          },
          "execution_count": 10
        }
      ]
    },
    {
      "cell_type": "code",
      "metadata": {
        "colab": {
          "base_uri": "https://localhost:8080/",
          "height": 106
        },
        "id": "TjdQdzNIUkUJ",
        "outputId": "361d7fc4-7c02-4fbd-bb12-f32e3074f66a"
      },
      "source": [
        "#Converting dates for end journeys dataframe\n",
        "en_df = convert_dates(en_df)\n",
        "en_df.head(2)"
      ],
      "execution_count": null,
      "outputs": [
        {
          "output_type": "execute_result",
          "data": {
            "text/html": [
              "<div>\n",
              "<style scoped>\n",
              "    .dataframe tbody tr th:only-of-type {\n",
              "        vertical-align: middle;\n",
              "    }\n",
              "\n",
              "    .dataframe tbody tr th {\n",
              "        vertical-align: top;\n",
              "    }\n",
              "\n",
              "    .dataframe thead th {\n",
              "        text-align: right;\n",
              "    }\n",
              "</style>\n",
              "<table border=\"1\" class=\"dataframe\">\n",
              "  <thead>\n",
              "    <tr style=\"text-align: right;\">\n",
              "      <th></th>\n",
              "      <th>ended_at</th>\n",
              "      <th>end_station_id</th>\n",
              "      <th>end_station_name</th>\n",
              "      <th>end_station_latitude</th>\n",
              "      <th>end_station_longitude</th>\n",
              "      <th>duration</th>\n",
              "      <th>year</th>\n",
              "      <th>month</th>\n",
              "      <th>weeknum</th>\n",
              "      <th>day</th>\n",
              "      <th>hour</th>\n",
              "      <th>minute</th>\n",
              "    </tr>\n",
              "  </thead>\n",
              "  <tbody>\n",
              "    <tr>\n",
              "      <th>0</th>\n",
              "      <td>2021-05-01 05:07:05.124000+02:00</td>\n",
              "      <td>493</td>\n",
              "      <td>Sofienbergparken nordvest</td>\n",
              "      <td>59.924364</td>\n",
              "      <td>10.761586</td>\n",
              "      <td>297</td>\n",
              "      <td>2021</td>\n",
              "      <td>May</td>\n",
              "      <td>17</td>\n",
              "      <td>Saturday</td>\n",
              "      <td>5</td>\n",
              "      <td>7</td>\n",
              "    </tr>\n",
              "    <tr>\n",
              "      <th>1</th>\n",
              "      <td>2021-05-01 05:17:37.118000+02:00</td>\n",
              "      <td>499</td>\n",
              "      <td>Bjerregaards gate</td>\n",
              "      <td>59.925488</td>\n",
              "      <td>10.746058</td>\n",
              "      <td>647</td>\n",
              "      <td>2021</td>\n",
              "      <td>May</td>\n",
              "      <td>17</td>\n",
              "      <td>Saturday</td>\n",
              "      <td>5</td>\n",
              "      <td>17</td>\n",
              "    </tr>\n",
              "  </tbody>\n",
              "</table>\n",
              "</div>"
            ],
            "text/plain": [
              "                          ended_at  end_station_id  ... hour  minute\n",
              "0 2021-05-01 05:07:05.124000+02:00             493  ...    5       7\n",
              "1 2021-05-01 05:17:37.118000+02:00             499  ...    5      17\n",
              "\n",
              "[2 rows x 12 columns]"
            ]
          },
          "metadata": {
            "tags": []
          },
          "execution_count": 11
        }
      ]
    },
    {
      "cell_type": "code",
      "metadata": {
        "colab": {
          "base_uri": "https://localhost:8080/",
          "height": 343
        },
        "id": "CCuqDk_Jijmj",
        "outputId": "5e6b81e3-9156-46ed-b35e-18e92879391e"
      },
      "source": [
        "#Computing Top start_location stations\n",
        "st_loc = st_df.groupby(['year', 'month', 'start_station_name', 'start_station_latitude', 'start_station_longitude']).agg({'start_station_id': 'count',\n",
        "                                                                                                         'duration': 'mean'}).reset_index()\n",
        "st_loc = st_loc.assign(duration = round(st_loc['duration']/60, 2))\n",
        "st_loc = st_loc.rename(columns={'start_station_id': 'trips', 'duration': 'mean_min'}).sort_values(by='trips', ascending=False).reset_index(drop=True)\n",
        "st_loc = st_loc.rename(columns={'start_station_name':'name', 'start_station_latitude':'lat', 'start_station_longitude':'lon'})\n",
        "st_loc.head(10)"
      ],
      "execution_count": null,
      "outputs": [
        {
          "output_type": "execute_result",
          "data": {
            "text/html": [
              "<div>\n",
              "<style scoped>\n",
              "    .dataframe tbody tr th:only-of-type {\n",
              "        vertical-align: middle;\n",
              "    }\n",
              "\n",
              "    .dataframe tbody tr th {\n",
              "        vertical-align: top;\n",
              "    }\n",
              "\n",
              "    .dataframe thead th {\n",
              "        text-align: right;\n",
              "    }\n",
              "</style>\n",
              "<table border=\"1\" class=\"dataframe\">\n",
              "  <thead>\n",
              "    <tr style=\"text-align: right;\">\n",
              "      <th></th>\n",
              "      <th>year</th>\n",
              "      <th>month</th>\n",
              "      <th>name</th>\n",
              "      <th>lat</th>\n",
              "      <th>lon</th>\n",
              "      <th>trips</th>\n",
              "      <th>mean_min</th>\n",
              "    </tr>\n",
              "  </thead>\n",
              "  <tbody>\n",
              "    <tr>\n",
              "      <th>0</th>\n",
              "      <td>2021</td>\n",
              "      <td>May</td>\n",
              "      <td>Alexander Kiellands Plass</td>\n",
              "      <td>59.928067</td>\n",
              "      <td>10.751203</td>\n",
              "      <td>2137</td>\n",
              "      <td>11.62</td>\n",
              "    </tr>\n",
              "    <tr>\n",
              "      <th>1</th>\n",
              "      <td>2021</td>\n",
              "      <td>May</td>\n",
              "      <td>Ringnes Park</td>\n",
              "      <td>59.928434</td>\n",
              "      <td>10.759430</td>\n",
              "      <td>1900</td>\n",
              "      <td>10.93</td>\n",
              "    </tr>\n",
              "    <tr>\n",
              "      <th>2</th>\n",
              "      <td>2021</td>\n",
              "      <td>May</td>\n",
              "      <td>Olaf Ryes plass</td>\n",
              "      <td>59.922425</td>\n",
              "      <td>10.758182</td>\n",
              "      <td>1661</td>\n",
              "      <td>12.92</td>\n",
              "    </tr>\n",
              "    <tr>\n",
              "      <th>3</th>\n",
              "      <td>2021</td>\n",
              "      <td>May</td>\n",
              "      <td>Bislettgata</td>\n",
              "      <td>59.923774</td>\n",
              "      <td>10.734713</td>\n",
              "      <td>1533</td>\n",
              "      <td>11.77</td>\n",
              "    </tr>\n",
              "    <tr>\n",
              "      <th>4</th>\n",
              "      <td>2021</td>\n",
              "      <td>May</td>\n",
              "      <td>Rådhusbrygge 4</td>\n",
              "      <td>59.910847</td>\n",
              "      <td>10.730377</td>\n",
              "      <td>1515</td>\n",
              "      <td>17.29</td>\n",
              "    </tr>\n",
              "    <tr>\n",
              "      <th>5</th>\n",
              "      <td>2021</td>\n",
              "      <td>May</td>\n",
              "      <td>Storo Storsenter</td>\n",
              "      <td>59.946710</td>\n",
              "      <td>10.773805</td>\n",
              "      <td>1492</td>\n",
              "      <td>14.70</td>\n",
              "    </tr>\n",
              "    <tr>\n",
              "      <th>6</th>\n",
              "      <td>2021</td>\n",
              "      <td>May</td>\n",
              "      <td>Sukkerbiten</td>\n",
              "      <td>59.905124</td>\n",
              "      <td>10.753764</td>\n",
              "      <td>1442</td>\n",
              "      <td>18.30</td>\n",
              "    </tr>\n",
              "    <tr>\n",
              "      <th>7</th>\n",
              "      <td>2021</td>\n",
              "      <td>May</td>\n",
              "      <td>Majorstuen</td>\n",
              "      <td>59.929045</td>\n",
              "      <td>10.716926</td>\n",
              "      <td>1400</td>\n",
              "      <td>12.83</td>\n",
              "    </tr>\n",
              "    <tr>\n",
              "      <th>8</th>\n",
              "      <td>2021</td>\n",
              "      <td>May</td>\n",
              "      <td>Bislett Stadion</td>\n",
              "      <td>59.925471</td>\n",
              "      <td>10.731219</td>\n",
              "      <td>1360</td>\n",
              "      <td>11.98</td>\n",
              "    </tr>\n",
              "    <tr>\n",
              "      <th>9</th>\n",
              "      <td>2021</td>\n",
              "      <td>May</td>\n",
              "      <td>Marcus Thranes gate</td>\n",
              "      <td>59.932772</td>\n",
              "      <td>10.758595</td>\n",
              "      <td>1352</td>\n",
              "      <td>11.62</td>\n",
              "    </tr>\n",
              "  </tbody>\n",
              "</table>\n",
              "</div>"
            ],
            "text/plain": [
              "   year month                       name        lat        lon  trips  mean_min\n",
              "0  2021   May  Alexander Kiellands Plass  59.928067  10.751203   2137     11.62\n",
              "1  2021   May               Ringnes Park  59.928434  10.759430   1900     10.93\n",
              "2  2021   May            Olaf Ryes plass  59.922425  10.758182   1661     12.92\n",
              "3  2021   May                Bislettgata  59.923774  10.734713   1533     11.77\n",
              "4  2021   May             Rådhusbrygge 4  59.910847  10.730377   1515     17.29\n",
              "5  2021   May           Storo Storsenter  59.946710  10.773805   1492     14.70\n",
              "6  2021   May                Sukkerbiten  59.905124  10.753764   1442     18.30\n",
              "7  2021   May                 Majorstuen  59.929045  10.716926   1400     12.83\n",
              "8  2021   May            Bislett Stadion  59.925471  10.731219   1360     11.98\n",
              "9  2021   May        Marcus Thranes gate  59.932772  10.758595   1352     11.62"
            ]
          },
          "metadata": {
            "tags": []
          },
          "execution_count": 12
        }
      ]
    },
    {
      "cell_type": "code",
      "metadata": {
        "colab": {
          "base_uri": "https://localhost:8080/",
          "height": 728
        },
        "id": "0QQ5u97Sf3Kb",
        "outputId": "ed92d311-b7c3-47f9-bcb0-634c0f17a528"
      },
      "source": [
        "#Computing top hours by month\n",
        "st_hr = st_df.groupby(['year', 'month', 'hour']).agg({'start_station_id': 'count'}).reset_index()\n",
        "st_hr = st_hr.rename(columns={'start_station_id': 'count'}).sort_values(by='hour').reset_index(drop=True)\n",
        "st_hr"
      ],
      "execution_count": null,
      "outputs": [
        {
          "output_type": "execute_result",
          "data": {
            "text/html": [
              "<div>\n",
              "<style scoped>\n",
              "    .dataframe tbody tr th:only-of-type {\n",
              "        vertical-align: middle;\n",
              "    }\n",
              "\n",
              "    .dataframe tbody tr th {\n",
              "        vertical-align: top;\n",
              "    }\n",
              "\n",
              "    .dataframe thead th {\n",
              "        text-align: right;\n",
              "    }\n",
              "</style>\n",
              "<table border=\"1\" class=\"dataframe\">\n",
              "  <thead>\n",
              "    <tr style=\"text-align: right;\">\n",
              "      <th></th>\n",
              "      <th>year</th>\n",
              "      <th>month</th>\n",
              "      <th>hour</th>\n",
              "      <th>count</th>\n",
              "    </tr>\n",
              "  </thead>\n",
              "  <tbody>\n",
              "    <tr>\n",
              "      <th>0</th>\n",
              "      <td>2021</td>\n",
              "      <td>June</td>\n",
              "      <td>0</td>\n",
              "      <td>40</td>\n",
              "    </tr>\n",
              "    <tr>\n",
              "      <th>1</th>\n",
              "      <td>2021</td>\n",
              "      <td>May</td>\n",
              "      <td>0</td>\n",
              "      <td>1628</td>\n",
              "    </tr>\n",
              "    <tr>\n",
              "      <th>2</th>\n",
              "      <td>2021</td>\n",
              "      <td>May</td>\n",
              "      <td>1</td>\n",
              "      <td>2</td>\n",
              "    </tr>\n",
              "    <tr>\n",
              "      <th>3</th>\n",
              "      <td>2021</td>\n",
              "      <td>May</td>\n",
              "      <td>3</td>\n",
              "      <td>1</td>\n",
              "    </tr>\n",
              "    <tr>\n",
              "      <th>4</th>\n",
              "      <td>2021</td>\n",
              "      <td>May</td>\n",
              "      <td>5</td>\n",
              "      <td>453</td>\n",
              "    </tr>\n",
              "    <tr>\n",
              "      <th>5</th>\n",
              "      <td>2021</td>\n",
              "      <td>May</td>\n",
              "      <td>6</td>\n",
              "      <td>1894</td>\n",
              "    </tr>\n",
              "    <tr>\n",
              "      <th>6</th>\n",
              "      <td>2021</td>\n",
              "      <td>May</td>\n",
              "      <td>7</td>\n",
              "      <td>6330</td>\n",
              "    </tr>\n",
              "    <tr>\n",
              "      <th>7</th>\n",
              "      <td>2021</td>\n",
              "      <td>May</td>\n",
              "      <td>8</td>\n",
              "      <td>8820</td>\n",
              "    </tr>\n",
              "    <tr>\n",
              "      <th>8</th>\n",
              "      <td>2021</td>\n",
              "      <td>May</td>\n",
              "      <td>9</td>\n",
              "      <td>6172</td>\n",
              "    </tr>\n",
              "    <tr>\n",
              "      <th>9</th>\n",
              "      <td>2021</td>\n",
              "      <td>May</td>\n",
              "      <td>10</td>\n",
              "      <td>5625</td>\n",
              "    </tr>\n",
              "    <tr>\n",
              "      <th>10</th>\n",
              "      <td>2021</td>\n",
              "      <td>May</td>\n",
              "      <td>11</td>\n",
              "      <td>6881</td>\n",
              "    </tr>\n",
              "    <tr>\n",
              "      <th>11</th>\n",
              "      <td>2021</td>\n",
              "      <td>May</td>\n",
              "      <td>12</td>\n",
              "      <td>7810</td>\n",
              "    </tr>\n",
              "    <tr>\n",
              "      <th>12</th>\n",
              "      <td>2021</td>\n",
              "      <td>May</td>\n",
              "      <td>13</td>\n",
              "      <td>8534</td>\n",
              "    </tr>\n",
              "    <tr>\n",
              "      <th>13</th>\n",
              "      <td>2021</td>\n",
              "      <td>May</td>\n",
              "      <td>14</td>\n",
              "      <td>9745</td>\n",
              "    </tr>\n",
              "    <tr>\n",
              "      <th>14</th>\n",
              "      <td>2021</td>\n",
              "      <td>May</td>\n",
              "      <td>15</td>\n",
              "      <td>11813</td>\n",
              "    </tr>\n",
              "    <tr>\n",
              "      <th>15</th>\n",
              "      <td>2021</td>\n",
              "      <td>May</td>\n",
              "      <td>16</td>\n",
              "      <td>14149</td>\n",
              "    </tr>\n",
              "    <tr>\n",
              "      <th>16</th>\n",
              "      <td>2021</td>\n",
              "      <td>May</td>\n",
              "      <td>17</td>\n",
              "      <td>13226</td>\n",
              "    </tr>\n",
              "    <tr>\n",
              "      <th>17</th>\n",
              "      <td>2021</td>\n",
              "      <td>May</td>\n",
              "      <td>18</td>\n",
              "      <td>11279</td>\n",
              "    </tr>\n",
              "    <tr>\n",
              "      <th>18</th>\n",
              "      <td>2021</td>\n",
              "      <td>May</td>\n",
              "      <td>19</td>\n",
              "      <td>9159</td>\n",
              "    </tr>\n",
              "    <tr>\n",
              "      <th>19</th>\n",
              "      <td>2021</td>\n",
              "      <td>May</td>\n",
              "      <td>20</td>\n",
              "      <td>7188</td>\n",
              "    </tr>\n",
              "    <tr>\n",
              "      <th>20</th>\n",
              "      <td>2021</td>\n",
              "      <td>May</td>\n",
              "      <td>21</td>\n",
              "      <td>5634</td>\n",
              "    </tr>\n",
              "    <tr>\n",
              "      <th>21</th>\n",
              "      <td>2021</td>\n",
              "      <td>May</td>\n",
              "      <td>22</td>\n",
              "      <td>5144</td>\n",
              "    </tr>\n",
              "    <tr>\n",
              "      <th>22</th>\n",
              "      <td>2021</td>\n",
              "      <td>May</td>\n",
              "      <td>23</td>\n",
              "      <td>3098</td>\n",
              "    </tr>\n",
              "  </tbody>\n",
              "</table>\n",
              "</div>"
            ],
            "text/plain": [
              "    year month  hour  count\n",
              "0   2021  June     0     40\n",
              "1   2021   May     0   1628\n",
              "2   2021   May     1      2\n",
              "3   2021   May     3      1\n",
              "4   2021   May     5    453\n",
              "5   2021   May     6   1894\n",
              "6   2021   May     7   6330\n",
              "7   2021   May     8   8820\n",
              "8   2021   May     9   6172\n",
              "9   2021   May    10   5625\n",
              "10  2021   May    11   6881\n",
              "11  2021   May    12   7810\n",
              "12  2021   May    13   8534\n",
              "13  2021   May    14   9745\n",
              "14  2021   May    15  11813\n",
              "15  2021   May    16  14149\n",
              "16  2021   May    17  13226\n",
              "17  2021   May    18  11279\n",
              "18  2021   May    19   9159\n",
              "19  2021   May    20   7188\n",
              "20  2021   May    21   5634\n",
              "21  2021   May    22   5144\n",
              "22  2021   May    23   3098"
            ]
          },
          "metadata": {
            "tags": []
          },
          "execution_count": 13
        }
      ]
    },
    {
      "cell_type": "code",
      "metadata": {
        "colab": {
          "base_uri": "https://localhost:8080/",
          "height": 343
        },
        "id": "DwAjTuTIk1o8",
        "outputId": "711e359d-c861-4bbf-a64b-d70978d39e9d"
      },
      "source": [
        "#Computing Top end_location stations\n",
        "en_loc = en_df.groupby(['year', 'month', 'end_station_name', 'end_station_latitude', 'end_station_longitude']).agg({'end_station_id': 'count',\n",
        "                                                                                                   'duration': 'mean'}).reset_index()\n",
        "en_loc = en_loc.assign(duration = round(en_loc['duration']/60, 2))\n",
        "en_loc = en_loc.rename(columns={'end_station_id': 'trips', 'duration': 'mean_min'}).sort_values(by='trips', ascending=False).reset_index(drop=True)\n",
        "en_loc = en_loc.rename(columns={'end_station_name':'name', 'end_station_latitude':'lat', 'end_station_longitude':'lon'})\n",
        "en_loc.head(10)"
      ],
      "execution_count": null,
      "outputs": [
        {
          "output_type": "execute_result",
          "data": {
            "text/html": [
              "<div>\n",
              "<style scoped>\n",
              "    .dataframe tbody tr th:only-of-type {\n",
              "        vertical-align: middle;\n",
              "    }\n",
              "\n",
              "    .dataframe tbody tr th {\n",
              "        vertical-align: top;\n",
              "    }\n",
              "\n",
              "    .dataframe thead th {\n",
              "        text-align: right;\n",
              "    }\n",
              "</style>\n",
              "<table border=\"1\" class=\"dataframe\">\n",
              "  <thead>\n",
              "    <tr style=\"text-align: right;\">\n",
              "      <th></th>\n",
              "      <th>year</th>\n",
              "      <th>month</th>\n",
              "      <th>name</th>\n",
              "      <th>lat</th>\n",
              "      <th>lon</th>\n",
              "      <th>trips</th>\n",
              "      <th>mean_min</th>\n",
              "    </tr>\n",
              "  </thead>\n",
              "  <tbody>\n",
              "    <tr>\n",
              "      <th>0</th>\n",
              "      <td>2021</td>\n",
              "      <td>May</td>\n",
              "      <td>Rådhusbrygge 4</td>\n",
              "      <td>59.910847</td>\n",
              "      <td>10.730377</td>\n",
              "      <td>2839</td>\n",
              "      <td>15.74</td>\n",
              "    </tr>\n",
              "    <tr>\n",
              "      <th>1</th>\n",
              "      <td>2021</td>\n",
              "      <td>May</td>\n",
              "      <td>Olaf Ryes plass</td>\n",
              "      <td>59.922425</td>\n",
              "      <td>10.758182</td>\n",
              "      <td>2186</td>\n",
              "      <td>12.01</td>\n",
              "    </tr>\n",
              "    <tr>\n",
              "      <th>2</th>\n",
              "      <td>2021</td>\n",
              "      <td>May</td>\n",
              "      <td>Alexander Kiellands Plass</td>\n",
              "      <td>59.928067</td>\n",
              "      <td>10.751203</td>\n",
              "      <td>2128</td>\n",
              "      <td>11.41</td>\n",
              "    </tr>\n",
              "    <tr>\n",
              "      <th>3</th>\n",
              "      <td>2021</td>\n",
              "      <td>May</td>\n",
              "      <td>Ringnes Park</td>\n",
              "      <td>59.928434</td>\n",
              "      <td>10.759430</td>\n",
              "      <td>1900</td>\n",
              "      <td>11.00</td>\n",
              "    </tr>\n",
              "    <tr>\n",
              "      <th>4</th>\n",
              "      <td>2021</td>\n",
              "      <td>May</td>\n",
              "      <td>Kirkeristen</td>\n",
              "      <td>59.913000</td>\n",
              "      <td>10.746761</td>\n",
              "      <td>1802</td>\n",
              "      <td>11.33</td>\n",
              "    </tr>\n",
              "    <tr>\n",
              "      <th>5</th>\n",
              "      <td>2021</td>\n",
              "      <td>May</td>\n",
              "      <td>Tjuvholmen</td>\n",
              "      <td>59.909467</td>\n",
              "      <td>10.722509</td>\n",
              "      <td>1712</td>\n",
              "      <td>14.58</td>\n",
              "    </tr>\n",
              "    <tr>\n",
              "      <th>6</th>\n",
              "      <td>2021</td>\n",
              "      <td>May</td>\n",
              "      <td>Sukkerbiten</td>\n",
              "      <td>59.905124</td>\n",
              "      <td>10.753764</td>\n",
              "      <td>1710</td>\n",
              "      <td>19.19</td>\n",
              "    </tr>\n",
              "    <tr>\n",
              "      <th>7</th>\n",
              "      <td>2021</td>\n",
              "      <td>May</td>\n",
              "      <td>Helga Helgesens plass</td>\n",
              "      <td>59.912111</td>\n",
              "      <td>10.766194</td>\n",
              "      <td>1628</td>\n",
              "      <td>12.82</td>\n",
              "    </tr>\n",
              "    <tr>\n",
              "      <th>8</th>\n",
              "      <td>2021</td>\n",
              "      <td>May</td>\n",
              "      <td>Torggata</td>\n",
              "      <td>59.915983</td>\n",
              "      <td>10.751551</td>\n",
              "      <td>1555</td>\n",
              "      <td>11.54</td>\n",
              "    </tr>\n",
              "    <tr>\n",
              "      <th>9</th>\n",
              "      <td>2021</td>\n",
              "      <td>May</td>\n",
              "      <td>Sjøsiden ved trappen</td>\n",
              "      <td>59.910154</td>\n",
              "      <td>10.751981</td>\n",
              "      <td>1514</td>\n",
              "      <td>14.68</td>\n",
              "    </tr>\n",
              "  </tbody>\n",
              "</table>\n",
              "</div>"
            ],
            "text/plain": [
              "   year month                       name        lat        lon  trips  mean_min\n",
              "0  2021   May             Rådhusbrygge 4  59.910847  10.730377   2839     15.74\n",
              "1  2021   May            Olaf Ryes plass  59.922425  10.758182   2186     12.01\n",
              "2  2021   May  Alexander Kiellands Plass  59.928067  10.751203   2128     11.41\n",
              "3  2021   May               Ringnes Park  59.928434  10.759430   1900     11.00\n",
              "4  2021   May                Kirkeristen  59.913000  10.746761   1802     11.33\n",
              "5  2021   May                 Tjuvholmen  59.909467  10.722509   1712     14.58\n",
              "6  2021   May                Sukkerbiten  59.905124  10.753764   1710     19.19\n",
              "7  2021   May      Helga Helgesens plass  59.912111  10.766194   1628     12.82\n",
              "8  2021   May                   Torggata  59.915983  10.751551   1555     11.54\n",
              "9  2021   May       Sjøsiden ved trappen  59.910154  10.751981   1514     14.68"
            ]
          },
          "metadata": {
            "tags": []
          },
          "execution_count": 14
        }
      ]
    },
    {
      "cell_type": "code",
      "metadata": {
        "colab": {
          "base_uri": "https://localhost:8080/",
          "height": 787
        },
        "id": "iLQ1iCA4jAb1",
        "outputId": "886f6957-bd56-4f20-d25b-bf0f71e71db6"
      },
      "source": [
        "#Computing top hours by month\n",
        "en_hr = en_df.groupby(['year', 'month', 'hour']).agg({'end_station_id': 'count'}).reset_index()\n",
        "en_hr = en_hr.rename(columns={'end_station_id': 'count'}).sort_values(by='hour').reset_index(drop=True)\n",
        "en_hr"
      ],
      "execution_count": null,
      "outputs": [
        {
          "output_type": "execute_result",
          "data": {
            "text/html": [
              "<div>\n",
              "<style scoped>\n",
              "    .dataframe tbody tr th:only-of-type {\n",
              "        vertical-align: middle;\n",
              "    }\n",
              "\n",
              "    .dataframe tbody tr th {\n",
              "        vertical-align: top;\n",
              "    }\n",
              "\n",
              "    .dataframe thead th {\n",
              "        text-align: right;\n",
              "    }\n",
              "</style>\n",
              "<table border=\"1\" class=\"dataframe\">\n",
              "  <thead>\n",
              "    <tr style=\"text-align: right;\">\n",
              "      <th></th>\n",
              "      <th>year</th>\n",
              "      <th>month</th>\n",
              "      <th>hour</th>\n",
              "      <th>count</th>\n",
              "    </tr>\n",
              "  </thead>\n",
              "  <tbody>\n",
              "    <tr>\n",
              "      <th>0</th>\n",
              "      <td>2021</td>\n",
              "      <td>June</td>\n",
              "      <td>0</td>\n",
              "      <td>51</td>\n",
              "    </tr>\n",
              "    <tr>\n",
              "      <th>1</th>\n",
              "      <td>2021</td>\n",
              "      <td>May</td>\n",
              "      <td>0</td>\n",
              "      <td>1803</td>\n",
              "    </tr>\n",
              "    <tr>\n",
              "      <th>2</th>\n",
              "      <td>2021</td>\n",
              "      <td>June</td>\n",
              "      <td>1</td>\n",
              "      <td>5</td>\n",
              "    </tr>\n",
              "    <tr>\n",
              "      <th>3</th>\n",
              "      <td>2021</td>\n",
              "      <td>May</td>\n",
              "      <td>1</td>\n",
              "      <td>336</td>\n",
              "    </tr>\n",
              "    <tr>\n",
              "      <th>4</th>\n",
              "      <td>2021</td>\n",
              "      <td>May</td>\n",
              "      <td>2</td>\n",
              "      <td>5</td>\n",
              "    </tr>\n",
              "    <tr>\n",
              "      <th>5</th>\n",
              "      <td>2021</td>\n",
              "      <td>May</td>\n",
              "      <td>3</td>\n",
              "      <td>4</td>\n",
              "    </tr>\n",
              "    <tr>\n",
              "      <th>6</th>\n",
              "      <td>2021</td>\n",
              "      <td>May</td>\n",
              "      <td>5</td>\n",
              "      <td>366</td>\n",
              "    </tr>\n",
              "    <tr>\n",
              "      <th>7</th>\n",
              "      <td>2021</td>\n",
              "      <td>May</td>\n",
              "      <td>6</td>\n",
              "      <td>1547</td>\n",
              "    </tr>\n",
              "    <tr>\n",
              "      <th>8</th>\n",
              "      <td>2021</td>\n",
              "      <td>May</td>\n",
              "      <td>7</td>\n",
              "      <td>5385</td>\n",
              "    </tr>\n",
              "    <tr>\n",
              "      <th>9</th>\n",
              "      <td>2021</td>\n",
              "      <td>May</td>\n",
              "      <td>8</td>\n",
              "      <td>8781</td>\n",
              "    </tr>\n",
              "    <tr>\n",
              "      <th>10</th>\n",
              "      <td>2021</td>\n",
              "      <td>May</td>\n",
              "      <td>9</td>\n",
              "      <td>6508</td>\n",
              "    </tr>\n",
              "    <tr>\n",
              "      <th>11</th>\n",
              "      <td>2021</td>\n",
              "      <td>May</td>\n",
              "      <td>10</td>\n",
              "      <td>5474</td>\n",
              "    </tr>\n",
              "    <tr>\n",
              "      <th>12</th>\n",
              "      <td>2021</td>\n",
              "      <td>May</td>\n",
              "      <td>11</td>\n",
              "      <td>6441</td>\n",
              "    </tr>\n",
              "    <tr>\n",
              "      <th>13</th>\n",
              "      <td>2021</td>\n",
              "      <td>May</td>\n",
              "      <td>12</td>\n",
              "      <td>7544</td>\n",
              "    </tr>\n",
              "    <tr>\n",
              "      <th>14</th>\n",
              "      <td>2021</td>\n",
              "      <td>May</td>\n",
              "      <td>13</td>\n",
              "      <td>8328</td>\n",
              "    </tr>\n",
              "    <tr>\n",
              "      <th>15</th>\n",
              "      <td>2021</td>\n",
              "      <td>May</td>\n",
              "      <td>14</td>\n",
              "      <td>9511</td>\n",
              "    </tr>\n",
              "    <tr>\n",
              "      <th>16</th>\n",
              "      <td>2021</td>\n",
              "      <td>May</td>\n",
              "      <td>15</td>\n",
              "      <td>11306</td>\n",
              "    </tr>\n",
              "    <tr>\n",
              "      <th>17</th>\n",
              "      <td>2021</td>\n",
              "      <td>May</td>\n",
              "      <td>16</td>\n",
              "      <td>13903</td>\n",
              "    </tr>\n",
              "    <tr>\n",
              "      <th>18</th>\n",
              "      <td>2021</td>\n",
              "      <td>May</td>\n",
              "      <td>17</td>\n",
              "      <td>13382</td>\n",
              "    </tr>\n",
              "    <tr>\n",
              "      <th>19</th>\n",
              "      <td>2021</td>\n",
              "      <td>May</td>\n",
              "      <td>18</td>\n",
              "      <td>11810</td>\n",
              "    </tr>\n",
              "    <tr>\n",
              "      <th>20</th>\n",
              "      <td>2021</td>\n",
              "      <td>May</td>\n",
              "      <td>19</td>\n",
              "      <td>9559</td>\n",
              "    </tr>\n",
              "    <tr>\n",
              "      <th>21</th>\n",
              "      <td>2021</td>\n",
              "      <td>May</td>\n",
              "      <td>20</td>\n",
              "      <td>7615</td>\n",
              "    </tr>\n",
              "    <tr>\n",
              "      <th>22</th>\n",
              "      <td>2021</td>\n",
              "      <td>May</td>\n",
              "      <td>21</td>\n",
              "      <td>5952</td>\n",
              "    </tr>\n",
              "    <tr>\n",
              "      <th>23</th>\n",
              "      <td>2021</td>\n",
              "      <td>May</td>\n",
              "      <td>22</td>\n",
              "      <td>5469</td>\n",
              "    </tr>\n",
              "    <tr>\n",
              "      <th>24</th>\n",
              "      <td>2021</td>\n",
              "      <td>May</td>\n",
              "      <td>23</td>\n",
              "      <td>3540</td>\n",
              "    </tr>\n",
              "  </tbody>\n",
              "</table>\n",
              "</div>"
            ],
            "text/plain": [
              "    year month  hour  count\n",
              "0   2021  June     0     51\n",
              "1   2021   May     0   1803\n",
              "2   2021  June     1      5\n",
              "3   2021   May     1    336\n",
              "4   2021   May     2      5\n",
              "5   2021   May     3      4\n",
              "6   2021   May     5    366\n",
              "7   2021   May     6   1547\n",
              "8   2021   May     7   5385\n",
              "9   2021   May     8   8781\n",
              "10  2021   May     9   6508\n",
              "11  2021   May    10   5474\n",
              "12  2021   May    11   6441\n",
              "13  2021   May    12   7544\n",
              "14  2021   May    13   8328\n",
              "15  2021   May    14   9511\n",
              "16  2021   May    15  11306\n",
              "17  2021   May    16  13903\n",
              "18  2021   May    17  13382\n",
              "19  2021   May    18  11810\n",
              "20  2021   May    19   9559\n",
              "21  2021   May    20   7615\n",
              "22  2021   May    21   5952\n",
              "23  2021   May    22   5469\n",
              "24  2021   May    23   3540"
            ]
          },
          "metadata": {
            "tags": []
          },
          "execution_count": 15
        }
      ]
    },
    {
      "cell_type": "code",
      "metadata": {
        "colab": {
          "base_uri": "https://localhost:8080/",
          "height": 17
        },
        "id": "GdT1R7f8dMty",
        "outputId": "7e757b27-989b-4b08-852e-581e10fb4a94"
      },
      "source": [
        "#Exporting to csv into local disk\n",
        "from google.colab import files\n",
        "st_loc.to_csv('2021_05_st_loc.csv', index=False, header=False)\n",
        "files.download('2021_05_st_loc.csv')"
      ],
      "execution_count": null,
      "outputs": [
        {
          "output_type": "display_data",
          "data": {
            "application/javascript": [
              "\n",
              "    async function download(id, filename, size) {\n",
              "      if (!google.colab.kernel.accessAllowed) {\n",
              "        return;\n",
              "      }\n",
              "      const div = document.createElement('div');\n",
              "      const label = document.createElement('label');\n",
              "      label.textContent = `Downloading \"${filename}\": `;\n",
              "      div.appendChild(label);\n",
              "      const progress = document.createElement('progress');\n",
              "      progress.max = size;\n",
              "      div.appendChild(progress);\n",
              "      document.body.appendChild(div);\n",
              "\n",
              "      const buffers = [];\n",
              "      let downloaded = 0;\n",
              "\n",
              "      const channel = await google.colab.kernel.comms.open(id);\n",
              "      // Send a message to notify the kernel that we're ready.\n",
              "      channel.send({})\n",
              "\n",
              "      for await (const message of channel.messages) {\n",
              "        // Send a message to notify the kernel that we're ready.\n",
              "        channel.send({})\n",
              "        if (message.buffers) {\n",
              "          for (const buffer of message.buffers) {\n",
              "            buffers.push(buffer);\n",
              "            downloaded += buffer.byteLength;\n",
              "            progress.value = downloaded;\n",
              "          }\n",
              "        }\n",
              "      }\n",
              "      const blob = new Blob(buffers, {type: 'application/binary'});\n",
              "      const a = document.createElement('a');\n",
              "      a.href = window.URL.createObjectURL(blob);\n",
              "      a.download = filename;\n",
              "      div.appendChild(a);\n",
              "      a.click();\n",
              "      div.remove();\n",
              "    }\n",
              "  "
            ],
            "text/plain": [
              "<IPython.core.display.Javascript object>"
            ]
          },
          "metadata": {
            "tags": []
          }
        },
        {
          "output_type": "display_data",
          "data": {
            "application/javascript": [
              "download(\"download_c8d41b66-1777-47c3-9e47-c47478f9f6fa\", \"2021_05_st_loc.csv\", 18610)"
            ],
            "text/plain": [
              "<IPython.core.display.Javascript object>"
            ]
          },
          "metadata": {
            "tags": []
          }
        }
      ]
    },
    {
      "cell_type": "code",
      "metadata": {
        "colab": {
          "base_uri": "https://localhost:8080/",
          "height": 17
        },
        "id": "Ojg-WjP7je1T",
        "outputId": "31992d62-674c-42ff-9183-fc73657073c7"
      },
      "source": [
        "#Exporting to csv into local disk\n",
        "from google.colab import files\n",
        "st_hr.to_csv('2021_05_st_hr.csv', index=False, header=False)\n",
        "files.download('2021_05_st_hr.csv')"
      ],
      "execution_count": null,
      "outputs": [
        {
          "output_type": "display_data",
          "data": {
            "application/javascript": [
              "\n",
              "    async function download(id, filename, size) {\n",
              "      if (!google.colab.kernel.accessAllowed) {\n",
              "        return;\n",
              "      }\n",
              "      const div = document.createElement('div');\n",
              "      const label = document.createElement('label');\n",
              "      label.textContent = `Downloading \"${filename}\": `;\n",
              "      div.appendChild(label);\n",
              "      const progress = document.createElement('progress');\n",
              "      progress.max = size;\n",
              "      div.appendChild(progress);\n",
              "      document.body.appendChild(div);\n",
              "\n",
              "      const buffers = [];\n",
              "      let downloaded = 0;\n",
              "\n",
              "      const channel = await google.colab.kernel.comms.open(id);\n",
              "      // Send a message to notify the kernel that we're ready.\n",
              "      channel.send({})\n",
              "\n",
              "      for await (const message of channel.messages) {\n",
              "        // Send a message to notify the kernel that we're ready.\n",
              "        channel.send({})\n",
              "        if (message.buffers) {\n",
              "          for (const buffer of message.buffers) {\n",
              "            buffers.push(buffer);\n",
              "            downloaded += buffer.byteLength;\n",
              "            progress.value = downloaded;\n",
              "          }\n",
              "        }\n",
              "      }\n",
              "      const blob = new Blob(buffers, {type: 'application/binary'});\n",
              "      const a = document.createElement('a');\n",
              "      a.href = window.URL.createObjectURL(blob);\n",
              "      a.download = filename;\n",
              "      div.appendChild(a);\n",
              "      a.click();\n",
              "      div.remove();\n",
              "    }\n",
              "  "
            ],
            "text/plain": [
              "<IPython.core.display.Javascript object>"
            ]
          },
          "metadata": {
            "tags": []
          }
        },
        {
          "output_type": "display_data",
          "data": {
            "application/javascript": [
              "download(\"download_e4e822ee-d71a-4866-aea6-755416370041\", \"2021_05_st_hr.csv\", 378)"
            ],
            "text/plain": [
              "<IPython.core.display.Javascript object>"
            ]
          },
          "metadata": {
            "tags": []
          }
        }
      ]
    },
    {
      "cell_type": "code",
      "metadata": {
        "colab": {
          "base_uri": "https://localhost:8080/",
          "height": 17
        },
        "id": "uCKJfsixeT7n",
        "outputId": "bc661bcf-982c-4925-845f-93fc8ac1bdf9"
      },
      "source": [
        "#Exporting to excel into local disk\n",
        "from google.colab import files\n",
        "en_loc.to_csv('2021_05_en_loc.csv', index=False, header=False)\n",
        "files.download('2021_05_en_loc.csv')"
      ],
      "execution_count": null,
      "outputs": [
        {
          "output_type": "display_data",
          "data": {
            "application/javascript": [
              "\n",
              "    async function download(id, filename, size) {\n",
              "      if (!google.colab.kernel.accessAllowed) {\n",
              "        return;\n",
              "      }\n",
              "      const div = document.createElement('div');\n",
              "      const label = document.createElement('label');\n",
              "      label.textContent = `Downloading \"${filename}\": `;\n",
              "      div.appendChild(label);\n",
              "      const progress = document.createElement('progress');\n",
              "      progress.max = size;\n",
              "      div.appendChild(progress);\n",
              "      document.body.appendChild(div);\n",
              "\n",
              "      const buffers = [];\n",
              "      let downloaded = 0;\n",
              "\n",
              "      const channel = await google.colab.kernel.comms.open(id);\n",
              "      // Send a message to notify the kernel that we're ready.\n",
              "      channel.send({})\n",
              "\n",
              "      for await (const message of channel.messages) {\n",
              "        // Send a message to notify the kernel that we're ready.\n",
              "        channel.send({})\n",
              "        if (message.buffers) {\n",
              "          for (const buffer of message.buffers) {\n",
              "            buffers.push(buffer);\n",
              "            downloaded += buffer.byteLength;\n",
              "            progress.value = downloaded;\n",
              "          }\n",
              "        }\n",
              "      }\n",
              "      const blob = new Blob(buffers, {type: 'application/binary'});\n",
              "      const a = document.createElement('a');\n",
              "      a.href = window.URL.createObjectURL(blob);\n",
              "      a.download = filename;\n",
              "      div.appendChild(a);\n",
              "      a.click();\n",
              "      div.remove();\n",
              "    }\n",
              "  "
            ],
            "text/plain": [
              "<IPython.core.display.Javascript object>"
            ]
          },
          "metadata": {
            "tags": []
          }
        },
        {
          "output_type": "display_data",
          "data": {
            "application/javascript": [
              "download(\"download_80775231-986a-4dbe-abaf-f313f028dc08\", \"2021_05_en_loc.csv\", 18697)"
            ],
            "text/plain": [
              "<IPython.core.display.Javascript object>"
            ]
          },
          "metadata": {
            "tags": []
          }
        }
      ]
    },
    {
      "cell_type": "code",
      "metadata": {
        "colab": {
          "base_uri": "https://localhost:8080/",
          "height": 17
        },
        "id": "3OgAbyA1juOI",
        "outputId": "2abcd90c-b532-42ba-cd8a-579910602396"
      },
      "source": [
        "#Exporting to csv into local disk\n",
        "from google.colab import files\n",
        "en_hr.to_csv('2021_05_en_hr.csv', index=False, header=False)\n",
        "files.download('2021_05_en_hr.csv')"
      ],
      "execution_count": null,
      "outputs": [
        {
          "output_type": "display_data",
          "data": {
            "application/javascript": [
              "\n",
              "    async function download(id, filename, size) {\n",
              "      if (!google.colab.kernel.accessAllowed) {\n",
              "        return;\n",
              "      }\n",
              "      const div = document.createElement('div');\n",
              "      const label = document.createElement('label');\n",
              "      label.textContent = `Downloading \"${filename}\": `;\n",
              "      div.appendChild(label);\n",
              "      const progress = document.createElement('progress');\n",
              "      progress.max = size;\n",
              "      div.appendChild(progress);\n",
              "      document.body.appendChild(div);\n",
              "\n",
              "      const buffers = [];\n",
              "      let downloaded = 0;\n",
              "\n",
              "      const channel = await google.colab.kernel.comms.open(id);\n",
              "      // Send a message to notify the kernel that we're ready.\n",
              "      channel.send({})\n",
              "\n",
              "      for await (const message of channel.messages) {\n",
              "        // Send a message to notify the kernel that we're ready.\n",
              "        channel.send({})\n",
              "        if (message.buffers) {\n",
              "          for (const buffer of message.buffers) {\n",
              "            buffers.push(buffer);\n",
              "            downloaded += buffer.byteLength;\n",
              "            progress.value = downloaded;\n",
              "          }\n",
              "        }\n",
              "      }\n",
              "      const blob = new Blob(buffers, {type: 'application/binary'});\n",
              "      const a = document.createElement('a');\n",
              "      a.href = window.URL.createObjectURL(blob);\n",
              "      a.download = filename;\n",
              "      div.appendChild(a);\n",
              "      a.click();\n",
              "      div.remove();\n",
              "    }\n",
              "  "
            ],
            "text/plain": [
              "<IPython.core.display.Javascript object>"
            ]
          },
          "metadata": {
            "tags": []
          }
        },
        {
          "output_type": "display_data",
          "data": {
            "application/javascript": [
              "download(\"download_c0771e86-4ff6-45e8-822c-d53b0ab207c3\", \"2021_05_en_hr.csv\", 407)"
            ],
            "text/plain": [
              "<IPython.core.display.Javascript object>"
            ]
          },
          "metadata": {
            "tags": []
          }
        }
      ]
    },
    {
      "cell_type": "markdown",
      "metadata": {
        "id": "c8cFTBBCngUc"
      },
      "source": [
        "##Joining csv files in local disk"
      ]
    },
    {
      "cell_type": "code",
      "metadata": {
        "id": "KPwZIJ1jnbTu"
      },
      "source": [
        "#Using OS from the command line to merge historic data\n",
        "type 202*_**_en_hr.csv > en_hr_merged.csv\n",
        "type 202*_**_en_loc.csv > en_loc_merged.csv\n",
        "type 202*_**_st_hr.csv > st_hr_merged.csv\n",
        "type 202*_**_st_loc.csv > st_loc_merged.csv"
      ],
      "execution_count": null,
      "outputs": []
    },
    {
      "cell_type": "markdown",
      "metadata": {
        "id": "Tbg_Y30tVHIR"
      },
      "source": [
        "##Cleaning aggregated data (hours of day)"
      ]
    },
    {
      "cell_type": "code",
      "metadata": {
        "colab": {
          "resources": {
            "http://localhost:8080/nbextensions/google.colab/files.js": {
              "data": "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",
              "ok": true,
              "headers": [
                [
                  "content-type",
                  "application/javascript"
                ]
              ],
              "status": 200,
              "status_text": ""
            }
          },
          "base_uri": "https://localhost:8080/",
          "height": 73
        },
        "id": "glMP-JacsqbT",
        "outputId": "8821280e-1701-459d-a929-4a5c42dff08f"
      },
      "source": [
        "#Uploading aggregated data files from local drive\n",
        "from google.colab import files\n",
        "uploaded1 = files.upload()"
      ],
      "execution_count": null,
      "outputs": [
        {
          "output_type": "display_data",
          "data": {
            "text/html": [
              "\n",
              "     <input type=\"file\" id=\"files-972f2aba-b511-4f9d-94c9-a8d2ccb98287\" name=\"files[]\" multiple disabled\n",
              "        style=\"border:none\" />\n",
              "     <output id=\"result-972f2aba-b511-4f9d-94c9-a8d2ccb98287\">\n",
              "      Upload widget is only available when the cell has been executed in the\n",
              "      current browser session. Please rerun this cell to enable.\n",
              "      </output>\n",
              "      <script src=\"/nbextensions/google.colab/files.js\"></script> "
            ],
            "text/plain": [
              "<IPython.core.display.HTML object>"
            ]
          },
          "metadata": {
            "tags": []
          }
        },
        {
          "output_type": "stream",
          "text": [
            "Saving st_hr_merged.csv to st_hr_merged.csv\n"
          ],
          "name": "stdout"
        }
      ]
    },
    {
      "cell_type": "code",
      "metadata": {
        "id": "cSHG9v_hsqbV"
      },
      "source": [
        "#Reading aggregated data and storing into a Pandas Dataframe\n",
        "import io\n",
        "hr_col = ['year', 'month', 'hour', 'count']\n",
        "hours_df = pd.read_csv(io.BytesIO(uploaded1['st_hr_merged.csv']), header=None, names=hr_col)"
      ],
      "execution_count": null,
      "outputs": []
    },
    {
      "cell_type": "code",
      "metadata": {
        "colab": {
          "base_uri": "https://localhost:8080/"
        },
        "id": "xbV2B-mstkvj",
        "outputId": "3a6a9c44-5cd1-4b9d-c151-435a39afb73c"
      },
      "source": [
        "#Checking the dataframe info\n",
        "hours_df.info()"
      ],
      "execution_count": null,
      "outputs": [
        {
          "output_type": "stream",
          "text": [
            "<class 'pandas.core.frame.DataFrame'>\n",
            "RangeIndex: 336 entries, 0 to 335\n",
            "Data columns (total 4 columns):\n",
            " #   Column  Non-Null Count  Dtype \n",
            "---  ------  --------------  ----- \n",
            " 0   year    336 non-null    int64 \n",
            " 1   month   336 non-null    object\n",
            " 2   hour    336 non-null    int64 \n",
            " 3   count   336 non-null    int64 \n",
            "dtypes: int64(3), object(1)\n",
            "memory usage: 10.6+ KB\n"
          ],
          "name": "stdout"
        }
      ]
    },
    {
      "cell_type": "code",
      "metadata": {
        "colab": {
          "base_uri": "https://localhost:8080/",
          "height": 343
        },
        "id": "dsRvaUsZv1BP",
        "outputId": "17557d97-334b-48f2-cd87-0b177a1e1d78"
      },
      "source": [
        "#Check the dataframe head\n",
        "hours_df.head(10)"
      ],
      "execution_count": null,
      "outputs": [
        {
          "output_type": "execute_result",
          "data": {
            "text/html": [
              "<div>\n",
              "<style scoped>\n",
              "    .dataframe tbody tr th:only-of-type {\n",
              "        vertical-align: middle;\n",
              "    }\n",
              "\n",
              "    .dataframe tbody tr th {\n",
              "        vertical-align: top;\n",
              "    }\n",
              "\n",
              "    .dataframe thead th {\n",
              "        text-align: right;\n",
              "    }\n",
              "</style>\n",
              "<table border=\"1\" class=\"dataframe\">\n",
              "  <thead>\n",
              "    <tr style=\"text-align: right;\">\n",
              "      <th></th>\n",
              "      <th>year</th>\n",
              "      <th>month</th>\n",
              "      <th>hour</th>\n",
              "      <th>count</th>\n",
              "    </tr>\n",
              "  </thead>\n",
              "  <tbody>\n",
              "    <tr>\n",
              "      <th>0</th>\n",
              "      <td>2020</td>\n",
              "      <td>April</td>\n",
              "      <td>0</td>\n",
              "      <td>19</td>\n",
              "    </tr>\n",
              "    <tr>\n",
              "      <th>1</th>\n",
              "      <td>2020</td>\n",
              "      <td>March</td>\n",
              "      <td>0</td>\n",
              "      <td>164</td>\n",
              "    </tr>\n",
              "    <tr>\n",
              "      <th>2</th>\n",
              "      <td>2020</td>\n",
              "      <td>March</td>\n",
              "      <td>5</td>\n",
              "      <td>76</td>\n",
              "    </tr>\n",
              "    <tr>\n",
              "      <th>3</th>\n",
              "      <td>2020</td>\n",
              "      <td>March</td>\n",
              "      <td>6</td>\n",
              "      <td>437</td>\n",
              "    </tr>\n",
              "    <tr>\n",
              "      <th>4</th>\n",
              "      <td>2020</td>\n",
              "      <td>March</td>\n",
              "      <td>7</td>\n",
              "      <td>1234</td>\n",
              "    </tr>\n",
              "    <tr>\n",
              "      <th>5</th>\n",
              "      <td>2020</td>\n",
              "      <td>March</td>\n",
              "      <td>8</td>\n",
              "      <td>1288</td>\n",
              "    </tr>\n",
              "    <tr>\n",
              "      <th>6</th>\n",
              "      <td>2020</td>\n",
              "      <td>March</td>\n",
              "      <td>9</td>\n",
              "      <td>845</td>\n",
              "    </tr>\n",
              "    <tr>\n",
              "      <th>7</th>\n",
              "      <td>2020</td>\n",
              "      <td>March</td>\n",
              "      <td>10</td>\n",
              "      <td>958</td>\n",
              "    </tr>\n",
              "    <tr>\n",
              "      <th>8</th>\n",
              "      <td>2020</td>\n",
              "      <td>March</td>\n",
              "      <td>11</td>\n",
              "      <td>1497</td>\n",
              "    </tr>\n",
              "    <tr>\n",
              "      <th>9</th>\n",
              "      <td>2020</td>\n",
              "      <td>March</td>\n",
              "      <td>12</td>\n",
              "      <td>1976</td>\n",
              "    </tr>\n",
              "  </tbody>\n",
              "</table>\n",
              "</div>"
            ],
            "text/plain": [
              "   year  month  hour  count\n",
              "0  2020  April     0     19\n",
              "1  2020  March     0    164\n",
              "2  2020  March     5     76\n",
              "3  2020  March     6    437\n",
              "4  2020  March     7   1234\n",
              "5  2020  March     8   1288\n",
              "6  2020  March     9    845\n",
              "7  2020  March    10    958\n",
              "8  2020  March    11   1497\n",
              "9  2020  March    12   1976"
            ]
          },
          "metadata": {
            "tags": []
          },
          "execution_count": 7
        }
      ]
    },
    {
      "cell_type": "code",
      "metadata": {
        "id": "_kLGpJ-XwSIS"
      },
      "source": [
        "#Order the hours data and aggregate the hour count\n",
        "hours_df = hours_df.groupby(['year', 'month', 'hour']).agg({'count': 'sum'}).reset_index()"
      ],
      "execution_count": null,
      "outputs": []
    },
    {
      "cell_type": "code",
      "metadata": {
        "colab": {
          "base_uri": "https://localhost:8080/",
          "height": 639
        },
        "id": "uL2cny8CzSJT",
        "outputId": "93cf70f5-a8d7-4094-9d3b-dcda30021cc3"
      },
      "source": [
        "#Verifying slices of the dataframe for a given year and month\n",
        "hours_df[(hours_df['year']==2021) & (hours_df['month']=='April')]"
      ],
      "execution_count": null,
      "outputs": [
        {
          "output_type": "execute_result",
          "data": {
            "text/html": [
              "<div>\n",
              "<style scoped>\n",
              "    .dataframe tbody tr th:only-of-type {\n",
              "        vertical-align: middle;\n",
              "    }\n",
              "\n",
              "    .dataframe tbody tr th {\n",
              "        vertical-align: top;\n",
              "    }\n",
              "\n",
              "    .dataframe thead th {\n",
              "        text-align: right;\n",
              "    }\n",
              "</style>\n",
              "<table border=\"1\" class=\"dataframe\">\n",
              "  <thead>\n",
              "    <tr style=\"text-align: right;\">\n",
              "      <th></th>\n",
              "      <th>year</th>\n",
              "      <th>month</th>\n",
              "      <th>hour</th>\n",
              "      <th>count</th>\n",
              "    </tr>\n",
              "  </thead>\n",
              "  <tbody>\n",
              "    <tr>\n",
              "      <th>219</th>\n",
              "      <td>2021</td>\n",
              "      <td>April</td>\n",
              "      <td>0</td>\n",
              "      <td>962</td>\n",
              "    </tr>\n",
              "    <tr>\n",
              "      <th>220</th>\n",
              "      <td>2021</td>\n",
              "      <td>April</td>\n",
              "      <td>5</td>\n",
              "      <td>293</td>\n",
              "    </tr>\n",
              "    <tr>\n",
              "      <th>221</th>\n",
              "      <td>2021</td>\n",
              "      <td>April</td>\n",
              "      <td>6</td>\n",
              "      <td>1652</td>\n",
              "    </tr>\n",
              "    <tr>\n",
              "      <th>222</th>\n",
              "      <td>2021</td>\n",
              "      <td>April</td>\n",
              "      <td>7</td>\n",
              "      <td>5587</td>\n",
              "    </tr>\n",
              "    <tr>\n",
              "      <th>223</th>\n",
              "      <td>2021</td>\n",
              "      <td>April</td>\n",
              "      <td>8</td>\n",
              "      <td>7290</td>\n",
              "    </tr>\n",
              "    <tr>\n",
              "      <th>224</th>\n",
              "      <td>2021</td>\n",
              "      <td>April</td>\n",
              "      <td>9</td>\n",
              "      <td>4599</td>\n",
              "    </tr>\n",
              "    <tr>\n",
              "      <th>225</th>\n",
              "      <td>2021</td>\n",
              "      <td>April</td>\n",
              "      <td>10</td>\n",
              "      <td>4244</td>\n",
              "    </tr>\n",
              "    <tr>\n",
              "      <th>226</th>\n",
              "      <td>2021</td>\n",
              "      <td>April</td>\n",
              "      <td>11</td>\n",
              "      <td>5496</td>\n",
              "    </tr>\n",
              "    <tr>\n",
              "      <th>227</th>\n",
              "      <td>2021</td>\n",
              "      <td>April</td>\n",
              "      <td>12</td>\n",
              "      <td>6766</td>\n",
              "    </tr>\n",
              "    <tr>\n",
              "      <th>228</th>\n",
              "      <td>2021</td>\n",
              "      <td>April</td>\n",
              "      <td>13</td>\n",
              "      <td>7337</td>\n",
              "    </tr>\n",
              "    <tr>\n",
              "      <th>229</th>\n",
              "      <td>2021</td>\n",
              "      <td>April</td>\n",
              "      <td>14</td>\n",
              "      <td>8584</td>\n",
              "    </tr>\n",
              "    <tr>\n",
              "      <th>230</th>\n",
              "      <td>2021</td>\n",
              "      <td>April</td>\n",
              "      <td>15</td>\n",
              "      <td>10767</td>\n",
              "    </tr>\n",
              "    <tr>\n",
              "      <th>231</th>\n",
              "      <td>2021</td>\n",
              "      <td>April</td>\n",
              "      <td>16</td>\n",
              "      <td>12550</td>\n",
              "    </tr>\n",
              "    <tr>\n",
              "      <th>232</th>\n",
              "      <td>2021</td>\n",
              "      <td>April</td>\n",
              "      <td>17</td>\n",
              "      <td>11013</td>\n",
              "    </tr>\n",
              "    <tr>\n",
              "      <th>233</th>\n",
              "      <td>2021</td>\n",
              "      <td>April</td>\n",
              "      <td>18</td>\n",
              "      <td>9145</td>\n",
              "    </tr>\n",
              "    <tr>\n",
              "      <th>234</th>\n",
              "      <td>2021</td>\n",
              "      <td>April</td>\n",
              "      <td>19</td>\n",
              "      <td>7121</td>\n",
              "    </tr>\n",
              "    <tr>\n",
              "      <th>235</th>\n",
              "      <td>2021</td>\n",
              "      <td>April</td>\n",
              "      <td>20</td>\n",
              "      <td>5214</td>\n",
              "    </tr>\n",
              "    <tr>\n",
              "      <th>236</th>\n",
              "      <td>2021</td>\n",
              "      <td>April</td>\n",
              "      <td>21</td>\n",
              "      <td>3602</td>\n",
              "    </tr>\n",
              "    <tr>\n",
              "      <th>237</th>\n",
              "      <td>2021</td>\n",
              "      <td>April</td>\n",
              "      <td>22</td>\n",
              "      <td>2880</td>\n",
              "    </tr>\n",
              "    <tr>\n",
              "      <th>238</th>\n",
              "      <td>2021</td>\n",
              "      <td>April</td>\n",
              "      <td>23</td>\n",
              "      <td>1792</td>\n",
              "    </tr>\n",
              "  </tbody>\n",
              "</table>\n",
              "</div>"
            ],
            "text/plain": [
              "     year  month  hour  count\n",
              "219  2021  April     0    962\n",
              "220  2021  April     5    293\n",
              "221  2021  April     6   1652\n",
              "222  2021  April     7   5587\n",
              "223  2021  April     8   7290\n",
              "224  2021  April     9   4599\n",
              "225  2021  April    10   4244\n",
              "226  2021  April    11   5496\n",
              "227  2021  April    12   6766\n",
              "228  2021  April    13   7337\n",
              "229  2021  April    14   8584\n",
              "230  2021  April    15  10767\n",
              "231  2021  April    16  12550\n",
              "232  2021  April    17  11013\n",
              "233  2021  April    18   9145\n",
              "234  2021  April    19   7121\n",
              "235  2021  April    20   5214\n",
              "236  2021  April    21   3602\n",
              "237  2021  April    22   2880\n",
              "238  2021  April    23   1792"
            ]
          },
          "metadata": {
            "tags": []
          },
          "execution_count": 9
        }
      ]
    },
    {
      "cell_type": "code",
      "metadata": {
        "colab": {
          "base_uri": "https://localhost:8080/",
          "height": 17
        },
        "id": "TqL0FxRDz8ha",
        "outputId": "89a70028-c7bc-4b56-9236-01f69724d911"
      },
      "source": [
        "#Exporting cleaned hours of day data to csv into local disk\n",
        "from google.colab import files\n",
        "hours_df.to_csv('st_hr_cleaned.csv', index=False)\n",
        "files.download('st_hr_cleaned.csv')"
      ],
      "execution_count": null,
      "outputs": [
        {
          "output_type": "display_data",
          "data": {
            "application/javascript": [
              "\n",
              "    async function download(id, filename, size) {\n",
              "      if (!google.colab.kernel.accessAllowed) {\n",
              "        return;\n",
              "      }\n",
              "      const div = document.createElement('div');\n",
              "      const label = document.createElement('label');\n",
              "      label.textContent = `Downloading \"${filename}\": `;\n",
              "      div.appendChild(label);\n",
              "      const progress = document.createElement('progress');\n",
              "      progress.max = size;\n",
              "      div.appendChild(progress);\n",
              "      document.body.appendChild(div);\n",
              "\n",
              "      const buffers = [];\n",
              "      let downloaded = 0;\n",
              "\n",
              "      const channel = await google.colab.kernel.comms.open(id);\n",
              "      // Send a message to notify the kernel that we're ready.\n",
              "      channel.send({})\n",
              "\n",
              "      for await (const message of channel.messages) {\n",
              "        // Send a message to notify the kernel that we're ready.\n",
              "        channel.send({})\n",
              "        if (message.buffers) {\n",
              "          for (const buffer of message.buffers) {\n",
              "            buffers.push(buffer);\n",
              "            downloaded += buffer.byteLength;\n",
              "            progress.value = downloaded;\n",
              "          }\n",
              "        }\n",
              "      }\n",
              "      const blob = new Blob(buffers, {type: 'application/binary'});\n",
              "      const a = document.createElement('a');\n",
              "      a.href = window.URL.createObjectURL(blob);\n",
              "      a.download = filename;\n",
              "      div.appendChild(a);\n",
              "      a.click();\n",
              "      div.remove();\n",
              "    }\n",
              "  "
            ],
            "text/plain": [
              "<IPython.core.display.Javascript object>"
            ]
          },
          "metadata": {
            "tags": []
          }
        },
        {
          "output_type": "display_data",
          "data": {
            "application/javascript": [
              "download(\"download_023cbfda-a82b-45e1-86f8-1d1adf02859e\", \"st_hr_merged-cleaned.csv\", 6271)"
            ],
            "text/plain": [
              "<IPython.core.display.Javascript object>"
            ]
          },
          "metadata": {
            "tags": []
          }
        }
      ]
    },
    {
      "cell_type": "markdown",
      "metadata": {
        "id": "pQNqlam8VRBB"
      },
      "source": [
        "##Cleaning aggregated data (location)"
      ]
    },
    {
      "cell_type": "code",
      "metadata": {
        "colab": {
          "resources": {
            "http://localhost:8080/nbextensions/google.colab/files.js": {
              "data": "Ly8gQ29weXJpZ2h0IDIwMTcgR29vZ2xlIExMQwovLwovLyBMaWNlbnNlZCB1bmRlciB0aGUgQXBhY2hlIExpY2Vuc2UsIFZlcnNpb24gMi4wICh0aGUgIkxpY2Vuc2UiKTsKLy8geW91IG1heSBub3QgdXNlIHRoaXMgZmlsZSBleGNlcHQgaW4gY29tcGxpYW5jZSB3aXRoIHRoZSBMaWNlbnNlLgovLyBZb3UgbWF5IG9idGFpbiBhIGNvcHkgb2YgdGhlIExpY2Vuc2UgYXQKLy8KLy8gICAgICBodHRwOi8vd3d3LmFwYWNoZS5vcmcvbGljZW5zZXMvTElDRU5TRS0yLjAKLy8KLy8gVW5sZXNzIHJlcXVpcmVkIGJ5IGFwcGxpY2FibGUgbGF3IG9yIGFncmVlZCB0byBpbiB3cml0aW5nLCBzb2Z0d2FyZQovLyBkaXN0cmlidXRlZCB1bmRlciB0aGUgTGljZW5zZSBpcyBkaXN0cmlidXRlZCBvbiBhbiAiQVMgSVMiIEJBU0lTLAovLyBXSVRIT1VUIFdBUlJBTlRJRVMgT1IgQ09ORElUSU9OUyBPRiBBTlkgS0lORCwgZWl0aGVyIGV4cHJlc3Mgb3IgaW1wbGllZC4KLy8gU2VlIHRoZSBMaWNlbnNlIGZvciB0aGUgc3BlY2lmaWMgbGFuZ3VhZ2UgZ292ZXJuaW5nIHBlcm1pc3Npb25zIGFuZAovLyBsaW1pdGF0aW9ucyB1bmRlciB0aGUgTGljZW5zZS4KCi8qKgogKiBAZmlsZW92ZXJ2aWV3IEhlbHBlcnMgZm9yIGdvb2dsZS5jb2xhYiBQeXRob24gbW9kdWxlLgogKi8KKGZ1bmN0aW9uKHNjb3BlKSB7CmZ1bmN0aW9uIHNwYW4odGV4dCwgc3R5bGVBdHRyaWJ1dGVzID0ge30pIHsKICBjb25zdCBlbGVtZW50ID0gZG9jdW1lbnQuY3JlYXRlRWxlbWVudCgnc3BhbicpOwogIGVsZW1lbnQudGV4dENvbnRlbnQgPSB0ZXh0OwogIGZvciAoY29uc3Qga2V5IG9mIE9iamVjdC5rZXlzKHN0eWxlQXR0cmlidXRlcykpIHsKICAgIGVsZW1lbnQuc3R5bGVba2V5XSA9IHN0eWxlQXR0cmlidXRlc1trZXldOwogIH0KICByZXR1cm4gZWxlbWVudDsKfQoKLy8gTWF4IG51bWJlciBvZiBieXRlcyB3aGljaCB3aWxsIGJlIHVwbG9hZGVkIGF0IGEgdGltZS4KY29uc3QgTUFYX1BBWUxPQURfU0laRSA9IDEwMCAqIDEwMjQ7CgpmdW5jdGlvbiBfdXBsb2FkRmlsZXMoaW5wdXRJZCwgb3V0cHV0SWQpIHsKICBjb25zdCBzdGVwcyA9IHVwbG9hZEZpbGVzU3RlcChpbnB1dElkLCBvdXRwdXRJZCk7CiAgY29uc3Qgb3V0cHV0RWxlbWVudCA9IGRvY3VtZW50LmdldEVsZW1lbnRCeUlkKG91dHB1dElkKTsKICAvLyBDYWNoZSBzdGVwcyBvbiB0aGUgb3V0cHV0RWxlbWVudCB0byBtYWtlIGl0IGF2YWlsYWJsZSBmb3IgdGhlIG5leHQgY2FsbAogIC8vIHRvIHVwbG9hZEZpbGVzQ29udGludWUgZnJvbSBQeXRob24uCiAgb3V0cHV0RWxlbWVudC5zdGVwcyA9IHN0ZXBzOwoKICByZXR1cm4gX3VwbG9hZEZpbGVzQ29udGludWUob3V0cHV0SWQpOwp9CgovLyBUaGlzIGlzIHJvdWdobHkgYW4gYXN5bmMgZ2VuZXJhdG9yIChub3Qgc3VwcG9ydGVkIGluIHRoZSBicm93c2VyIHlldCksCi8vIHdoZXJlIHRoZXJlIGFyZSBtdWx0aXBsZSBhc3luY2hyb25vdXMgc3RlcHMgYW5kIHRoZSBQeXRob24gc2lkZSBpcyBnb2luZwovLyB0byBwb2xsIGZvciBjb21wbGV0aW9uIG9mIGVhY2ggc3RlcC4KLy8gVGhpcyB1c2VzIGEgUHJvbWlzZSB0byBibG9jayB0aGUgcHl0aG9uIHNpZGUgb24gY29tcGxldGlvbiBvZiBlYWNoIHN0ZXAsCi8vIHRoZW4gcGFzc2VzIHRoZSByZXN1bHQgb2YgdGhlIHByZXZpb3VzIHN0ZXAgYXMgdGhlIGlucHV0IHRvIHRoZSBuZXh0IHN0ZXAuCmZ1bmN0aW9uIF91cGxvYWRGaWxlc0NvbnRpbnVlKG91dHB1dElkKSB7CiAgY29uc3Qgb3V0cHV0RWxlbWVudCA9IGRvY3VtZW50LmdldEVsZW1lbnRCeUlkKG91dHB1dElkKTsKICBjb25zdCBzdGVwcyA9IG91dHB1dEVsZW1lbnQuc3RlcHM7CgogIGNvbnN0IG5leHQgPSBzdGVwcy5uZXh0KG91dHB1dEVsZW1lbnQubGFzdFByb21pc2VWYWx1ZSk7CiAgcmV0dXJuIFByb21pc2UucmVzb2x2ZShuZXh0LnZhbHVlLnByb21pc2UpLnRoZW4oKHZhbHVlKSA9PiB7CiAgICAvLyBDYWNoZSB0aGUgbGFzdCBwcm9taXNlIHZhbHVlIHRvIG1ha2UgaXQgYXZhaWxhYmxlIHRvIHRoZSBuZXh0CiAgICAvLyBzdGVwIG9mIHRoZSBnZW5lcmF0b3IuCiAgICBvdXRwdXRFbGVtZW50Lmxhc3RQcm9taXNlVmFsdWUgPSB2YWx1ZTsKICAgIHJldHVybiBuZXh0LnZhbHVlLnJlc3BvbnNlOwogIH0pOwp9CgovKioKICogR2VuZXJhdG9yIGZ1bmN0aW9uIHdoaWNoIGlzIGNhbGxlZCBiZXR3ZWVuIGVhY2ggYXN5bmMgc3RlcCBvZiB0aGUgdXBsb2FkCiAqIHByb2Nlc3MuCiAqIEBwYXJhbSB7c3RyaW5nfSBpbnB1dElkIEVsZW1lbnQgSUQgb2YgdGhlIGlucHV0IGZpbGUgcGlja2VyIGVsZW1lbnQuCiAqIEBwYXJhbSB7c3RyaW5nfSBvdXRwdXRJZCBFbGVtZW50IElEIG9mIHRoZSBvdXRwdXQgZGlzcGxheS4KICogQHJldHVybiB7IUl0ZXJhYmxlPCFPYmplY3Q+fSBJdGVyYWJsZSBvZiBuZXh0IHN0ZXBzLgogKi8KZnVuY3Rpb24qIHVwbG9hZEZpbGVzU3RlcChpbnB1dElkLCBvdXRwdXRJZCkgewogIGNvbnN0IGlucHV0RWxlbWVudCA9IGRvY3VtZW50LmdldEVsZW1lbnRCeUlkKGlucHV0SWQpOwogIGlucHV0RWxlbWVudC5kaXNhYmxlZCA9IGZhbHNlOwoKICBjb25zdCBvdXRwdXRFbGVtZW50ID0gZG9jdW1lbnQuZ2V0RWxlbWVudEJ5SWQob3V0cHV0SWQpOwogIG91dHB1dEVsZW1lbnQuaW5uZXJIVE1MID0gJyc7CgogIGNvbnN0IHBpY2tlZFByb21pc2UgPSBuZXcgUHJvbWlzZSgocmVzb2x2ZSkgPT4gewogICAgaW5wdXRFbGVtZW50LmFkZEV2ZW50TGlzdGVuZXIoJ2NoYW5nZScsIChlKSA9PiB7CiAgICAgIHJlc29sdmUoZS50YXJnZXQuZmlsZXMpOwogICAgfSk7CiAgfSk7CgogIGNvbnN0IGNhbmNlbCA9IGRvY3VtZW50LmNyZWF0ZUVsZW1lbnQoJ2J1dHRvbicpOwogIGlucHV0RWxlbWVudC5wYXJlbnRFbGVtZW50LmFwcGVuZENoaWxkKGNhbmNlbCk7CiAgY2FuY2VsLnRleHRDb250ZW50ID0gJ0NhbmNlbCB1cGxvYWQnOwogIGNvbnN0IGNhbmNlbFByb21pc2UgPSBuZXcgUHJvbWlzZSgocmVzb2x2ZSkgPT4gewogICAgY2FuY2VsLm9uY2xpY2sgPSAoKSA9PiB7CiAgICAgIHJlc29sdmUobnVsbCk7CiAgICB9OwogIH0pOwoKICAvLyBXYWl0IGZvciB0aGUgdXNlciB0byBwaWNrIHRoZSBmaWxlcy4KICBjb25zdCBmaWxlcyA9IHlpZWxkIHsKICAgIHByb21pc2U6IFByb21pc2UucmFjZShbcGlja2VkUHJvbWlzZSwgY2FuY2VsUHJvbWlzZV0pLAogICAgcmVzcG9uc2U6IHsKICAgICAgYWN0aW9uOiAnc3RhcnRpbmcnLAogICAgfQogIH07CgogIGNhbmNlbC5yZW1vdmUoKTsKCiAgLy8gRGlzYWJsZSB0aGUgaW5wdXQgZWxlbWVudCBzaW5jZSBmdXJ0aGVyIHBpY2tzIGFyZSBub3QgYWxsb3dlZC4KICBpbnB1dEVsZW1lbnQuZGlzYWJsZWQgPSB0cnVlOwoKICBpZiAoIWZpbGVzKSB7CiAgICByZXR1cm4gewogICAgICByZXNwb25zZTogewogICAgICAgIGFjdGlvbjogJ2NvbXBsZXRlJywKICAgICAgfQogICAgfTsKICB9CgogIGZvciAoY29uc3QgZmlsZSBvZiBmaWxlcykgewogICAgY29uc3QgbGkgPSBkb2N1bWVudC5jcmVhdGVFbGVtZW50KCdsaScpOwogICAgbGkuYXBwZW5kKHNwYW4oZmlsZS5uYW1lLCB7Zm9udFdlaWdodDogJ2JvbGQnfSkpOwogICAgbGkuYXBwZW5kKHNwYW4oCiAgICAgICAgYCgke2ZpbGUudHlwZSB8fCAnbi9hJ30pIC0gJHtmaWxlLnNpemV9IGJ5dGVzLCBgICsKICAgICAgICBgbGFzdCBtb2RpZmllZDogJHsKICAgICAgICAgICAgZmlsZS5sYXN0TW9kaWZpZWREYXRlID8gZmlsZS5sYXN0TW9kaWZpZWREYXRlLnRvTG9jYWxlRGF0ZVN0cmluZygpIDoKICAgICAgICAgICAgICAgICAgICAgICAgICAgICAgICAgICAgJ24vYSd9IC0gYCkpOwogICAgY29uc3QgcGVyY2VudCA9IHNwYW4oJzAlIGRvbmUnKTsKICAgIGxpLmFwcGVuZENoaWxkKHBlcmNlbnQpOwoKICAgIG91dHB1dEVsZW1lbnQuYXBwZW5kQ2hpbGQobGkpOwoKICAgIGNvbnN0IGZpbGVEYXRhUHJvbWlzZSA9IG5ldyBQcm9taXNlKChyZXNvbHZlKSA9PiB7CiAgICAgIGNvbnN0IHJlYWRlciA9IG5ldyBGaWxlUmVhZGVyKCk7CiAgICAgIHJlYWRlci5vbmxvYWQgPSAoZSkgPT4gewogICAgICAgIHJlc29sdmUoZS50YXJnZXQucmVzdWx0KTsKICAgICAgfTsKICAgICAgcmVhZGVyLnJlYWRBc0FycmF5QnVmZmVyKGZpbGUpOwogICAgfSk7CiAgICAvLyBXYWl0IGZvciB0aGUgZGF0YSB0byBiZSByZWFkeS4KICAgIGxldCBmaWxlRGF0YSA9IHlpZWxkIHsKICAgICAgcHJvbWlzZTogZmlsZURhdGFQcm9taXNlLAogICAgICByZXNwb25zZTogewogICAgICAgIGFjdGlvbjogJ2NvbnRpbnVlJywKICAgICAgfQogICAgfTsKCiAgICAvLyBVc2UgYSBjaHVua2VkIHNlbmRpbmcgdG8gYXZvaWQgbWVzc2FnZSBzaXplIGxpbWl0cy4gU2VlIGIvNjIxMTU2NjAuCiAgICBsZXQgcG9zaXRpb24gPSAwOwogICAgd2hpbGUgKHBvc2l0aW9uIDwgZmlsZURhdGEuYnl0ZUxlbmd0aCkgewogICAgICBjb25zdCBsZW5ndGggPSBNYXRoLm1pbihmaWxlRGF0YS5ieXRlTGVuZ3RoIC0gcG9zaXRpb24sIE1BWF9QQVlMT0FEX1NJWkUpOwogICAgICBjb25zdCBjaHVuayA9IG5ldyBVaW50OEFycmF5KGZpbGVEYXRhLCBwb3NpdGlvbiwgbGVuZ3RoKTsKICAgICAgcG9zaXRpb24gKz0gbGVuZ3RoOwoKICAgICAgY29uc3QgYmFzZTY0ID0gYnRvYShTdHJpbmcuZnJvbUNoYXJDb2RlLmFwcGx5KG51bGwsIGNodW5rKSk7CiAgICAgIHlpZWxkIHsKICAgICAgICByZXNwb25zZTogewogICAgICAgICAgYWN0aW9uOiAnYXBwZW5kJywKICAgICAgICAgIGZpbGU6IGZpbGUubmFtZSwKICAgICAgICAgIGRhdGE6IGJhc2U2NCwKICAgICAgICB9LAogICAgICB9OwogICAgICBwZXJjZW50LnRleHRDb250ZW50ID0KICAgICAgICAgIGAke01hdGgucm91bmQoKHBvc2l0aW9uIC8gZmlsZURhdGEuYnl0ZUxlbmd0aCkgKiAxMDApfSUgZG9uZWA7CiAgICB9CiAgfQoKICAvLyBBbGwgZG9uZS4KICB5aWVsZCB7CiAgICByZXNwb25zZTogewogICAgICBhY3Rpb246ICdjb21wbGV0ZScsCiAgICB9CiAgfTsKfQoKc2NvcGUuZ29vZ2xlID0gc2NvcGUuZ29vZ2xlIHx8IHt9OwpzY29wZS5nb29nbGUuY29sYWIgPSBzY29wZS5nb29nbGUuY29sYWIgfHwge307CnNjb3BlLmdvb2dsZS5jb2xhYi5fZmlsZXMgPSB7CiAgX3VwbG9hZEZpbGVzLAogIF91cGxvYWRGaWxlc0NvbnRpbnVlLAp9Owp9KShzZWxmKTsK",
              "ok": true,
              "headers": [
                [
                  "content-type",
                  "application/javascript"
                ]
              ],
              "status": 200,
              "status_text": ""
            }
          },
          "base_uri": "https://localhost:8080/",
          "height": 73
        },
        "id": "LlnbhiosVhtQ",
        "outputId": "d3bd03d2-9cac-4cee-9aaa-2d0bc93cf36f"
      },
      "source": [
        "#Uploading aggregated data files from local drive\n",
        "from google.colab import files\n",
        "uploaded2 = files.upload()"
      ],
      "execution_count": null,
      "outputs": [
        {
          "output_type": "display_data",
          "data": {
            "text/html": [
              "\n",
              "     <input type=\"file\" id=\"files-5c236b9f-473b-4f47-b7ae-304dacfefa4a\" name=\"files[]\" multiple disabled\n",
              "        style=\"border:none\" />\n",
              "     <output id=\"result-5c236b9f-473b-4f47-b7ae-304dacfefa4a\">\n",
              "      Upload widget is only available when the cell has been executed in the\n",
              "      current browser session. Please rerun this cell to enable.\n",
              "      </output>\n",
              "      <script src=\"/nbextensions/google.colab/files.js\"></script> "
            ],
            "text/plain": [
              "<IPython.core.display.HTML object>"
            ]
          },
          "metadata": {
            "tags": []
          }
        },
        {
          "output_type": "stream",
          "text": [
            "Saving st_loc_merged.csv to st_loc_merged.csv\n"
          ],
          "name": "stdout"
        }
      ]
    },
    {
      "cell_type": "code",
      "metadata": {
        "id": "izgKXQJ2VhtT"
      },
      "source": [
        "#Reading aggregated data and storing into a Pandas Dataframe\n",
        "import io\n",
        "loc_col = ['year', 'month', 'name',\t'lat',\t'lon',\t'trips',\t'mean_min']\n",
        "loc_df = pd.read_csv(io.BytesIO(uploaded2['st_loc_merged.csv']), header=None, names=loc_col)"
      ],
      "execution_count": null,
      "outputs": []
    },
    {
      "cell_type": "code",
      "metadata": {
        "colab": {
          "base_uri": "https://localhost:8080/"
        },
        "id": "MAB98GL9VhtU",
        "outputId": "c25a8677-2f8e-4667-b5d0-0ed87e75f4ed"
      },
      "source": [
        "#Checking the dataframe info\n",
        "loc_df.info()"
      ],
      "execution_count": null,
      "outputs": [
        {
          "output_type": "stream",
          "text": [
            "<class 'pandas.core.frame.DataFrame'>\n",
            "RangeIndex: 4288 entries, 0 to 4287\n",
            "Data columns (total 7 columns):\n",
            " #   Column    Non-Null Count  Dtype  \n",
            "---  ------    --------------  -----  \n",
            " 0   year      4288 non-null   int64  \n",
            " 1   month     4288 non-null   object \n",
            " 2   name      4288 non-null   object \n",
            " 3   lat       4288 non-null   float64\n",
            " 4   lon       4288 non-null   float64\n",
            " 5   trips     4288 non-null   int64  \n",
            " 6   mean_min  4288 non-null   float64\n",
            "dtypes: float64(3), int64(2), object(2)\n",
            "memory usage: 234.6+ KB\n"
          ],
          "name": "stdout"
        }
      ]
    },
    {
      "cell_type": "code",
      "metadata": {
        "colab": {
          "base_uri": "https://localhost:8080/",
          "height": 195
        },
        "id": "JHjKW0WDVhtV",
        "outputId": "a42b74fd-e927-446a-d0a0-8f8557394de1"
      },
      "source": [
        "#Check the dataframe head\n",
        "loc_df.head(5)"
      ],
      "execution_count": null,
      "outputs": [
        {
          "output_type": "execute_result",
          "data": {
            "text/html": [
              "<div>\n",
              "<style scoped>\n",
              "    .dataframe tbody tr th:only-of-type {\n",
              "        vertical-align: middle;\n",
              "    }\n",
              "\n",
              "    .dataframe tbody tr th {\n",
              "        vertical-align: top;\n",
              "    }\n",
              "\n",
              "    .dataframe thead th {\n",
              "        text-align: right;\n",
              "    }\n",
              "</style>\n",
              "<table border=\"1\" class=\"dataframe\">\n",
              "  <thead>\n",
              "    <tr style=\"text-align: right;\">\n",
              "      <th></th>\n",
              "      <th>year</th>\n",
              "      <th>month</th>\n",
              "      <th>name</th>\n",
              "      <th>lat</th>\n",
              "      <th>lon</th>\n",
              "      <th>trips</th>\n",
              "      <th>mean_min</th>\n",
              "    </tr>\n",
              "  </thead>\n",
              "  <tbody>\n",
              "    <tr>\n",
              "      <th>0</th>\n",
              "      <td>2020</td>\n",
              "      <td>March</td>\n",
              "      <td>Ringnes Park</td>\n",
              "      <td>59.928434</td>\n",
              "      <td>10.759430</td>\n",
              "      <td>463</td>\n",
              "      <td>16.80</td>\n",
              "    </tr>\n",
              "    <tr>\n",
              "      <th>1</th>\n",
              "      <td>2020</td>\n",
              "      <td>March</td>\n",
              "      <td>Alexander Kiellands Plass</td>\n",
              "      <td>59.928067</td>\n",
              "      <td>10.751203</td>\n",
              "      <td>452</td>\n",
              "      <td>14.31</td>\n",
              "    </tr>\n",
              "    <tr>\n",
              "      <th>2</th>\n",
              "      <td>2020</td>\n",
              "      <td>March</td>\n",
              "      <td>Tjuvholmen</td>\n",
              "      <td>59.909467</td>\n",
              "      <td>10.722509</td>\n",
              "      <td>395</td>\n",
              "      <td>22.51</td>\n",
              "    </tr>\n",
              "    <tr>\n",
              "      <th>3</th>\n",
              "      <td>2020</td>\n",
              "      <td>March</td>\n",
              "      <td>Sukkerbiten</td>\n",
              "      <td>59.905807</td>\n",
              "      <td>10.753657</td>\n",
              "      <td>376</td>\n",
              "      <td>19.74</td>\n",
              "    </tr>\n",
              "    <tr>\n",
              "      <th>4</th>\n",
              "      <td>2020</td>\n",
              "      <td>March</td>\n",
              "      <td>Bislett Stadion</td>\n",
              "      <td>59.925471</td>\n",
              "      <td>10.731219</td>\n",
              "      <td>373</td>\n",
              "      <td>15.62</td>\n",
              "    </tr>\n",
              "  </tbody>\n",
              "</table>\n",
              "</div>"
            ],
            "text/plain": [
              "   year  month                       name  ...        lon  trips  mean_min\n",
              "0  2020  March               Ringnes Park  ...  10.759430    463     16.80\n",
              "1  2020  March  Alexander Kiellands Plass  ...  10.751203    452     14.31\n",
              "2  2020  March                 Tjuvholmen  ...  10.722509    395     22.51\n",
              "3  2020  March                Sukkerbiten  ...  10.753657    376     19.74\n",
              "4  2020  March            Bislett Stadion  ...  10.731219    373     15.62\n",
              "\n",
              "[5 rows x 7 columns]"
            ]
          },
          "metadata": {
            "tags": []
          },
          "execution_count": 84
        }
      ]
    },
    {
      "cell_type": "code",
      "metadata": {
        "id": "a4ckt9usVhtW"
      },
      "source": [
        "#Group by categories and aggregate both trips and mean value\n",
        "loc_df = loc_df.groupby(['year', 'month', 'name', 'lat', 'lon']).agg({'trips': 'sum',\n",
        "                                                                      'mean_min': 'mean'}\n",
        "                                                                     ).reset_index()"
      ],
      "execution_count": null,
      "outputs": []
    },
    {
      "cell_type": "code",
      "metadata": {
        "id": "1bUdmaScjnyz"
      },
      "source": [
        "#Sort values by year, month and trips\n",
        "loc_df = loc_df.sort_values(by=['year', 'month', 'trips'], ascending=False).reset_index(drop=True)"
      ],
      "execution_count": null,
      "outputs": []
    },
    {
      "cell_type": "code",
      "metadata": {
        "colab": {
          "base_uri": "https://localhost:8080/",
          "height": 343
        },
        "id": "CC2q1aFiVhtW",
        "outputId": "4e6ad927-a6b0-4d89-cdd9-1b57de44f059"
      },
      "source": [
        "loc_df.tail(10)"
      ],
      "execution_count": null,
      "outputs": [
        {
          "output_type": "execute_result",
          "data": {
            "text/html": [
              "<div>\n",
              "<style scoped>\n",
              "    .dataframe tbody tr th:only-of-type {\n",
              "        vertical-align: middle;\n",
              "    }\n",
              "\n",
              "    .dataframe tbody tr th {\n",
              "        vertical-align: top;\n",
              "    }\n",
              "\n",
              "    .dataframe thead th {\n",
              "        text-align: right;\n",
              "    }\n",
              "</style>\n",
              "<table border=\"1\" class=\"dataframe\">\n",
              "  <thead>\n",
              "    <tr style=\"text-align: right;\">\n",
              "      <th></th>\n",
              "      <th>year</th>\n",
              "      <th>month</th>\n",
              "      <th>name</th>\n",
              "      <th>lat</th>\n",
              "      <th>lon</th>\n",
              "      <th>trips</th>\n",
              "      <th>mean_min</th>\n",
              "    </tr>\n",
              "  </thead>\n",
              "  <tbody>\n",
              "    <tr>\n",
              "      <th>3764</th>\n",
              "      <td>2020</td>\n",
              "      <td>April</td>\n",
              "      <td>Georg Morgenstiernes hus</td>\n",
              "      <td>59.939026</td>\n",
              "      <td>10.723003</td>\n",
              "      <td>112</td>\n",
              "      <td>16.320</td>\n",
              "    </tr>\n",
              "    <tr>\n",
              "      <th>3765</th>\n",
              "      <td>2020</td>\n",
              "      <td>April</td>\n",
              "      <td>Kjeld Stubs gate</td>\n",
              "      <td>59.912711</td>\n",
              "      <td>10.735595</td>\n",
              "      <td>111</td>\n",
              "      <td>12.950</td>\n",
              "    </tr>\n",
              "    <tr>\n",
              "      <th>3766</th>\n",
              "      <td>2020</td>\n",
              "      <td>April</td>\n",
              "      <td>Fysikkbygningen</td>\n",
              "      <td>59.937957</td>\n",
              "      <td>10.719489</td>\n",
              "      <td>91</td>\n",
              "      <td>15.690</td>\n",
              "    </tr>\n",
              "    <tr>\n",
              "      <th>3767</th>\n",
              "      <td>2020</td>\n",
              "      <td>April</td>\n",
              "      <td>Stortingstunellen</td>\n",
              "      <td>59.910653</td>\n",
              "      <td>10.737365</td>\n",
              "      <td>89</td>\n",
              "      <td>22.980</td>\n",
              "    </tr>\n",
              "    <tr>\n",
              "      <th>3768</th>\n",
              "      <td>2020</td>\n",
              "      <td>April</td>\n",
              "      <td>Vippetangen øst</td>\n",
              "      <td>59.903989</td>\n",
              "      <td>10.741077</td>\n",
              "      <td>89</td>\n",
              "      <td>21.240</td>\n",
              "    </tr>\n",
              "    <tr>\n",
              "      <th>3769</th>\n",
              "      <td>2020</td>\n",
              "      <td>April</td>\n",
              "      <td>Tordenskiolds gate</td>\n",
              "      <td>59.911776</td>\n",
              "      <td>10.735113</td>\n",
              "      <td>88</td>\n",
              "      <td>15.610</td>\n",
              "    </tr>\n",
              "    <tr>\n",
              "      <th>3770</th>\n",
              "      <td>2020</td>\n",
              "      <td>April</td>\n",
              "      <td>Blindern studentparkering</td>\n",
              "      <td>59.940874</td>\n",
              "      <td>10.720779</td>\n",
              "      <td>70</td>\n",
              "      <td>17.860</td>\n",
              "    </tr>\n",
              "    <tr>\n",
              "      <th>3771</th>\n",
              "      <td>2020</td>\n",
              "      <td>April</td>\n",
              "      <td>Jarlsborgveien</td>\n",
              "      <td>59.930464</td>\n",
              "      <td>10.675783</td>\n",
              "      <td>66</td>\n",
              "      <td>20.200</td>\n",
              "    </tr>\n",
              "    <tr>\n",
              "      <th>3772</th>\n",
              "      <td>2020</td>\n",
              "      <td>April</td>\n",
              "      <td>HasleLinje</td>\n",
              "      <td>59.927634</td>\n",
              "      <td>10.799249</td>\n",
              "      <td>64</td>\n",
              "      <td>15.425</td>\n",
              "    </tr>\n",
              "    <tr>\n",
              "      <th>3773</th>\n",
              "      <td>2020</td>\n",
              "      <td>April</td>\n",
              "      <td>Bak Niels Treschows hus sør</td>\n",
              "      <td>59.942473</td>\n",
              "      <td>10.723715</td>\n",
              "      <td>45</td>\n",
              "      <td>14.200</td>\n",
              "    </tr>\n",
              "  </tbody>\n",
              "</table>\n",
              "</div>"
            ],
            "text/plain": [
              "      year  month                         name  ...        lon  trips  mean_min\n",
              "3764  2020  April     Georg Morgenstiernes hus  ...  10.723003    112    16.320\n",
              "3765  2020  April             Kjeld Stubs gate  ...  10.735595    111    12.950\n",
              "3766  2020  April              Fysikkbygningen  ...  10.719489     91    15.690\n",
              "3767  2020  April            Stortingstunellen  ...  10.737365     89    22.980\n",
              "3768  2020  April              Vippetangen øst  ...  10.741077     89    21.240\n",
              "3769  2020  April           Tordenskiolds gate  ...  10.735113     88    15.610\n",
              "3770  2020  April    Blindern studentparkering  ...  10.720779     70    17.860\n",
              "3771  2020  April               Jarlsborgveien  ...  10.675783     66    20.200\n",
              "3772  2020  April                   HasleLinje  ...  10.799249     64    15.425\n",
              "3773  2020  April  Bak Niels Treschows hus sør  ...  10.723715     45    14.200\n",
              "\n",
              "[10 rows x 7 columns]"
            ]
          },
          "metadata": {
            "tags": []
          },
          "execution_count": 88
        }
      ]
    },
    {
      "cell_type": "code",
      "metadata": {
        "colab": {
          "base_uri": "https://localhost:8080/",
          "height": 402
        },
        "id": "Y6vMhADpVhtY",
        "outputId": "18254f88-97a3-4679-f685-1157c3bf65c6"
      },
      "source": [
        "#Verifying slices of the dataframe to be in descending order\n",
        "loc_df[(loc_df['year']==2021) & (loc_df['month']=='April')]"
      ],
      "execution_count": null,
      "outputs": [
        {
          "output_type": "execute_result",
          "data": {
            "text/html": [
              "<div>\n",
              "<style scoped>\n",
              "    .dataframe tbody tr th:only-of-type {\n",
              "        vertical-align: middle;\n",
              "    }\n",
              "\n",
              "    .dataframe tbody tr th {\n",
              "        vertical-align: top;\n",
              "    }\n",
              "\n",
              "    .dataframe thead th {\n",
              "        text-align: right;\n",
              "    }\n",
              "</style>\n",
              "<table border=\"1\" class=\"dataframe\">\n",
              "  <thead>\n",
              "    <tr style=\"text-align: right;\">\n",
              "      <th></th>\n",
              "      <th>year</th>\n",
              "      <th>month</th>\n",
              "      <th>name</th>\n",
              "      <th>lat</th>\n",
              "      <th>lon</th>\n",
              "      <th>trips</th>\n",
              "      <th>mean_min</th>\n",
              "    </tr>\n",
              "  </thead>\n",
              "  <tbody>\n",
              "    <tr>\n",
              "      <th>1037</th>\n",
              "      <td>2021</td>\n",
              "      <td>April</td>\n",
              "      <td>Ringnes Park</td>\n",
              "      <td>59.928434</td>\n",
              "      <td>10.759430</td>\n",
              "      <td>1572</td>\n",
              "      <td>9.145</td>\n",
              "    </tr>\n",
              "    <tr>\n",
              "      <th>1038</th>\n",
              "      <td>2021</td>\n",
              "      <td>April</td>\n",
              "      <td>Alexander Kiellands Plass</td>\n",
              "      <td>59.928067</td>\n",
              "      <td>10.751203</td>\n",
              "      <td>1524</td>\n",
              "      <td>9.915</td>\n",
              "    </tr>\n",
              "    <tr>\n",
              "      <th>1039</th>\n",
              "      <td>2021</td>\n",
              "      <td>April</td>\n",
              "      <td>Majorstuen</td>\n",
              "      <td>59.929045</td>\n",
              "      <td>10.716926</td>\n",
              "      <td>1289</td>\n",
              "      <td>14.010</td>\n",
              "    </tr>\n",
              "    <tr>\n",
              "      <th>1040</th>\n",
              "      <td>2021</td>\n",
              "      <td>April</td>\n",
              "      <td>Bislettgata</td>\n",
              "      <td>59.923774</td>\n",
              "      <td>10.734713</td>\n",
              "      <td>1242</td>\n",
              "      <td>12.170</td>\n",
              "    </tr>\n",
              "    <tr>\n",
              "      <th>1041</th>\n",
              "      <td>2021</td>\n",
              "      <td>April</td>\n",
              "      <td>Rådhusbrygge 4</td>\n",
              "      <td>59.910847</td>\n",
              "      <td>10.730377</td>\n",
              "      <td>1189</td>\n",
              "      <td>17.590</td>\n",
              "    </tr>\n",
              "    <tr>\n",
              "      <th>...</th>\n",
              "      <td>...</td>\n",
              "      <td>...</td>\n",
              "      <td>...</td>\n",
              "      <td>...</td>\n",
              "      <td>...</td>\n",
              "      <td>...</td>\n",
              "      <td>...</td>\n",
              "    </tr>\n",
              "    <tr>\n",
              "      <th>1282</th>\n",
              "      <td>2021</td>\n",
              "      <td>April</td>\n",
              "      <td>Skøyen Stasjon</td>\n",
              "      <td>59.922724</td>\n",
              "      <td>10.678625</td>\n",
              "      <td>70</td>\n",
              "      <td>22.280</td>\n",
              "    </tr>\n",
              "    <tr>\n",
              "      <th>1283</th>\n",
              "      <td>2021</td>\n",
              "      <td>April</td>\n",
              "      <td>Stortingstunellen</td>\n",
              "      <td>59.910653</td>\n",
              "      <td>10.737365</td>\n",
              "      <td>69</td>\n",
              "      <td>19.510</td>\n",
              "    </tr>\n",
              "    <tr>\n",
              "      <th>1284</th>\n",
              "      <td>2021</td>\n",
              "      <td>April</td>\n",
              "      <td>Arkaden Sør</td>\n",
              "      <td>59.911969</td>\n",
              "      <td>10.747858</td>\n",
              "      <td>62</td>\n",
              "      <td>15.070</td>\n",
              "    </tr>\n",
              "    <tr>\n",
              "      <th>1285</th>\n",
              "      <td>2021</td>\n",
              "      <td>April</td>\n",
              "      <td>Salt</td>\n",
              "      <td>59.906922</td>\n",
              "      <td>10.746530</td>\n",
              "      <td>50</td>\n",
              "      <td>21.340</td>\n",
              "    </tr>\n",
              "    <tr>\n",
              "      <th>1286</th>\n",
              "      <td>2021</td>\n",
              "      <td>April</td>\n",
              "      <td>Kværnerveien</td>\n",
              "      <td>59.905911</td>\n",
              "      <td>10.778592</td>\n",
              "      <td>37</td>\n",
              "      <td>17.780</td>\n",
              "    </tr>\n",
              "  </tbody>\n",
              "</table>\n",
              "<p>250 rows × 7 columns</p>\n",
              "</div>"
            ],
            "text/plain": [
              "      year  month                       name  ...        lon  trips  mean_min\n",
              "1037  2021  April               Ringnes Park  ...  10.759430   1572     9.145\n",
              "1038  2021  April  Alexander Kiellands Plass  ...  10.751203   1524     9.915\n",
              "1039  2021  April                 Majorstuen  ...  10.716926   1289    14.010\n",
              "1040  2021  April                Bislettgata  ...  10.734713   1242    12.170\n",
              "1041  2021  April             Rådhusbrygge 4  ...  10.730377   1189    17.590\n",
              "...    ...    ...                        ...  ...        ...    ...       ...\n",
              "1282  2021  April             Skøyen Stasjon  ...  10.678625     70    22.280\n",
              "1283  2021  April          Stortingstunellen  ...  10.737365     69    19.510\n",
              "1284  2021  April                Arkaden Sør  ...  10.747858     62    15.070\n",
              "1285  2021  April                       Salt  ...  10.746530     50    21.340\n",
              "1286  2021  April               Kværnerveien  ...  10.778592     37    17.780\n",
              "\n",
              "[250 rows x 7 columns]"
            ]
          },
          "metadata": {
            "tags": []
          },
          "execution_count": 89
        }
      ]
    },
    {
      "cell_type": "code",
      "metadata": {
        "colab": {
          "base_uri": "https://localhost:8080/",
          "height": 17
        },
        "id": "UD2BiIDkVhta",
        "outputId": "af2ff1e3-34e5-4a5e-dd6b-5710f4b39003"
      },
      "source": [
        "#Exporting cleaned location data to csv into local disk\n",
        "from google.colab import files\n",
        "loc_df.to_csv('st_loc_cleaned.csv', index=False)\n",
        "files.download('st_loc_cleaned.csv')"
      ],
      "execution_count": null,
      "outputs": [
        {
          "output_type": "display_data",
          "data": {
            "application/javascript": [
              "\n",
              "    async function download(id, filename, size) {\n",
              "      if (!google.colab.kernel.accessAllowed) {\n",
              "        return;\n",
              "      }\n",
              "      const div = document.createElement('div');\n",
              "      const label = document.createElement('label');\n",
              "      label.textContent = `Downloading \"${filename}\": `;\n",
              "      div.appendChild(label);\n",
              "      const progress = document.createElement('progress');\n",
              "      progress.max = size;\n",
              "      div.appendChild(progress);\n",
              "      document.body.appendChild(div);\n",
              "\n",
              "      const buffers = [];\n",
              "      let downloaded = 0;\n",
              "\n",
              "      const channel = await google.colab.kernel.comms.open(id);\n",
              "      // Send a message to notify the kernel that we're ready.\n",
              "      channel.send({})\n",
              "\n",
              "      for await (const message of channel.messages) {\n",
              "        // Send a message to notify the kernel that we're ready.\n",
              "        channel.send({})\n",
              "        if (message.buffers) {\n",
              "          for (const buffer of message.buffers) {\n",
              "            buffers.push(buffer);\n",
              "            downloaded += buffer.byteLength;\n",
              "            progress.value = downloaded;\n",
              "          }\n",
              "        }\n",
              "      }\n",
              "      const blob = new Blob(buffers, {type: 'application/binary'});\n",
              "      const a = document.createElement('a');\n",
              "      a.href = window.URL.createObjectURL(blob);\n",
              "      a.download = filename;\n",
              "      div.appendChild(a);\n",
              "      a.click();\n",
              "      div.remove();\n",
              "    }\n",
              "  "
            ],
            "text/plain": [
              "<IPython.core.display.Javascript object>"
            ]
          },
          "metadata": {
            "tags": []
          }
        },
        {
          "output_type": "display_data",
          "data": {
            "application/javascript": [
              "download(\"download_a94ee0fe-db84-44d4-860b-3847037edbaf\", \"st_loc_merged-cleaned.csv\", 243749)"
            ],
            "text/plain": [
              "<IPython.core.display.Javascript object>"
            ]
          },
          "metadata": {
            "tags": []
          }
        }
      ]
    },
    {
      "cell_type": "markdown",
      "metadata": {
        "id": "lptmKKgKe7sD"
      },
      "source": [
        "##Data Visualization"
      ]
    },
    {
      "cell_type": "markdown",
      "metadata": {
        "id": "sXmSwrs_5ORx"
      },
      "source": [
        "###Customizing theme"
      ]
    },
    {
      "cell_type": "code",
      "metadata": {
        "id": "y2DvWRPa4qYJ"
      },
      "source": [
        "#Add interactivity to graphs\n",
        "import ipywidgets as widgets\n",
        "from IPython import display\n",
        "from ipywidgets import interact, interactive, fixed, interact_manual"
      ],
      "execution_count": 2,
      "outputs": []
    },
    {
      "cell_type": "code",
      "metadata": {
        "id": "5NdFYzOerU7e"
      },
      "source": [
        "#Uploading visualization packages\n",
        "import folium\n",
        "from folium import plugins\n",
        "from folium.plugins import HeatMap"
      ],
      "execution_count": 13,
      "outputs": []
    },
    {
      "cell_type": "code",
      "metadata": {
        "id": "u53MjFbC43NE"
      },
      "source": [
        "#Customizing Matplotlib's runtime default configuration styles for data visualization\n",
        "\n",
        "SMALL_SIZE = 12\n",
        "MEDIUM_SIZE = 16\n",
        "BIGGER_SIZE = 20\n",
        "\n",
        "plt.rc('font', size=SMALL_SIZE)          # controls default text sizes\n",
        "plt.rc('axes', titlesize=SMALL_SIZE)     # fontsize of the axes title\n",
        "plt.rc('axes', labelsize=MEDIUM_SIZE)    # fontsize of the x and y labels\n",
        "plt.rc('xtick', labelsize=SMALL_SIZE)    # fontsize of the tick labels\n",
        "plt.rc('ytick', labelsize=MEDIUM_SIZE)   # fontsize of the tick labels\n",
        "plt.rc('legend', fontsize=SMALL_SIZE)    # legend fontsize\n",
        "plt.rc('figure', titlesize=BIGGER_SIZE)  # fontsize of the figure title\n",
        "plt.rc('axes', titlesize=BIGGER_SIZE)    # fontsize of the axes title"
      ],
      "execution_count": 3,
      "outputs": []
    },
    {
      "cell_type": "code",
      "metadata": {
        "id": "RhXGUKgM4-bv"
      },
      "source": [
        "#Customizing theme\n",
        "#plt.style.use(['dark_background'])\n",
        "plt.rcParams['axes.facecolor'] = (0,0,0,0)\n",
        "plt.rcParams['figure.facecolor'] = '#ffffff' #To match google colab native dark theme\n",
        "plt.rcParams[\"legend.frameon\"] = False\n",
        "plt.rcParams['image.cmap'] = 'viridis'\n",
        "plt.rcParams[\"legend.facecolor\"] = (0,0,0,0)\n",
        "#plt.rcParams[\"font.family\"] = 'sans-serif'\n",
        "#plt.rcParams['font.sans-serif'] = ['Open Sans', 'Source Sans Pro', 'Noto Sans']\n",
        "plt.rcParams['hist.bins'] = 50\n",
        "plt.rcParams['lines.markersize'] = 10\n",
        "plt.rcParams['axes3d.grid'] = False\n",
        "\n",
        "#New settings\n",
        "plt.rcParams['figure.subplot.hspace'] = 0.3 #default = 0.2\n",
        "\n",
        "from cycler import cycler\n",
        "\n",
        "plt.rcParams['axes.prop_cycle'] = (cycler(color=['#98d2eb', '#e1f2fe', '#b2b1cf', '#77625c', '#49392c', '#bde2f5', '#cad2e7', '#958a96', '#604e44', '#5a4b3f'])\\\n",
        "                                   + cycler(linestyle=['-', '--', ':', '-.', '-', '--', ':', '-.', '-', '--']))"
      ],
      "execution_count": 58,
      "outputs": []
    },
    {
      "cell_type": "markdown",
      "metadata": {
        "id": "vbkkRr6AZ5BT"
      },
      "source": [
        "###Loading cleaned data "
      ]
    },
    {
      "cell_type": "code",
      "metadata": {
        "id": "uKgvRXsJj927"
      },
      "source": [
        "#Remove previous versions of the uploaded csv file\n",
        "!rm st_loc_cleaned.csv"
      ],
      "execution_count": null,
      "outputs": []
    },
    {
      "cell_type": "code",
      "metadata": {
        "id": "KkzDzxiJe9X6",
        "colab": {
          "resources": {
            "http://localhost:8080/nbextensions/google.colab/files.js": {
              "data": "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",
              "ok": true,
              "headers": [
                [
                  "content-type",
                  "application/javascript"
                ]
              ],
              "status": 200,
              "status_text": ""
            }
          },
          "base_uri": "https://localhost:8080/",
          "height": 73
        },
        "outputId": "f43f7c9a-8101-4dba-969f-1fb1905776a6"
      },
      "source": [
        "#Uploading cleaned location data (starting point) from local drive\n",
        "from google.colab import files\n",
        "uploaded3 = files.upload()"
      ],
      "execution_count": 5,
      "outputs": [
        {
          "output_type": "display_data",
          "data": {
            "text/html": [
              "\n",
              "     <input type=\"file\" id=\"files-c764ea69-a306-4605-ac72-19ec9646f60b\" name=\"files[]\" multiple disabled\n",
              "        style=\"border:none\" />\n",
              "     <output id=\"result-c764ea69-a306-4605-ac72-19ec9646f60b\">\n",
              "      Upload widget is only available when the cell has been executed in the\n",
              "      current browser session. Please rerun this cell to enable.\n",
              "      </output>\n",
              "      <script src=\"/nbextensions/google.colab/files.js\"></script> "
            ],
            "text/plain": [
              "<IPython.core.display.HTML object>"
            ]
          },
          "metadata": {
            "tags": []
          }
        },
        {
          "output_type": "stream",
          "text": [
            "Saving st_loc_cleaned.csv to st_loc_cleaned.csv\n"
          ],
          "name": "stdout"
        }
      ]
    },
    {
      "cell_type": "code",
      "metadata": {
        "id": "mIvQV39ffNan"
      },
      "source": [
        "#Reading cleaned location data (starting point) and storing into a Pandas Dataframe\n",
        "import io\n",
        "st_loc_clean = pd.read_csv(io.BytesIO(uploaded3['st_loc_cleaned.csv']))"
      ],
      "execution_count": 6,
      "outputs": []
    },
    {
      "cell_type": "code",
      "metadata": {
        "colab": {
          "resources": {
            "http://localhost:8080/nbextensions/google.colab/files.js": {
              "data": "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",
              "ok": true,
              "headers": [
                [
                  "content-type",
                  "application/javascript"
                ]
              ],
              "status": 200,
              "status_text": ""
            }
          },
          "base_uri": "https://localhost:8080/",
          "height": 73
        },
        "id": "1YDvjpOEarpd",
        "outputId": "57fc6b14-ba16-474c-b2da-9974108e96e7"
      },
      "source": [
        "#Uploading cleaned hours of day data (starting point) from local drive\n",
        "from google.colab import files\n",
        "uploaded4 = files.upload()"
      ],
      "execution_count": 7,
      "outputs": [
        {
          "output_type": "display_data",
          "data": {
            "text/html": [
              "\n",
              "     <input type=\"file\" id=\"files-9888ac12-b9eb-4373-b836-6a0d823c54d2\" name=\"files[]\" multiple disabled\n",
              "        style=\"border:none\" />\n",
              "     <output id=\"result-9888ac12-b9eb-4373-b836-6a0d823c54d2\">\n",
              "      Upload widget is only available when the cell has been executed in the\n",
              "      current browser session. Please rerun this cell to enable.\n",
              "      </output>\n",
              "      <script src=\"/nbextensions/google.colab/files.js\"></script> "
            ],
            "text/plain": [
              "<IPython.core.display.HTML object>"
            ]
          },
          "metadata": {
            "tags": []
          }
        },
        {
          "output_type": "stream",
          "text": [
            "Saving st_hr_cleaned.csv to st_hr_cleaned.csv\n"
          ],
          "name": "stdout"
        }
      ]
    },
    {
      "cell_type": "code",
      "metadata": {
        "id": "_-02634Ga8Wx"
      },
      "source": [
        "#Reading cleaned hours of day data (starting point) and storing into a Pandas Dataframe\n",
        "st_hr_clean = pd.read_csv(io.BytesIO(uploaded4['st_hr_cleaned.csv']))"
      ],
      "execution_count": 10,
      "outputs": []
    },
    {
      "cell_type": "code",
      "metadata": {
        "colab": {
          "resources": {
            "http://localhost:8080/nbextensions/google.colab/files.js": {
              "data": "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",
              "ok": true,
              "headers": [
                [
                  "content-type",
                  "application/javascript"
                ]
              ],
              "status": 200,
              "status_text": ""
            }
          },
          "base_uri": "https://localhost:8080/",
          "height": 73
        },
        "id": "p_BS3Unweo1J",
        "outputId": "e6800ea1-6855-45a5-c079-692b45c23839"
      },
      "source": [
        "#Uploading cleaned location data (end point) from local drive\n",
        "from google.colab import files\n",
        "uploaded5 = files.upload()"
      ],
      "execution_count": 14,
      "outputs": [
        {
          "output_type": "display_data",
          "data": {
            "text/html": [
              "\n",
              "     <input type=\"file\" id=\"files-978433ae-2689-4a19-98c2-bdad41448917\" name=\"files[]\" multiple disabled\n",
              "        style=\"border:none\" />\n",
              "     <output id=\"result-978433ae-2689-4a19-98c2-bdad41448917\">\n",
              "      Upload widget is only available when the cell has been executed in the\n",
              "      current browser session. Please rerun this cell to enable.\n",
              "      </output>\n",
              "      <script src=\"/nbextensions/google.colab/files.js\"></script> "
            ],
            "text/plain": [
              "<IPython.core.display.HTML object>"
            ]
          },
          "metadata": {
            "tags": []
          }
        },
        {
          "output_type": "stream",
          "text": [
            "Saving en_loc_cleaned.csv to en_loc_cleaned.csv\n"
          ],
          "name": "stdout"
        }
      ]
    },
    {
      "cell_type": "code",
      "metadata": {
        "id": "REjm6AhEfCPH"
      },
      "source": [
        "#Reading cleaned location data (end point) and storing into a Pandas Dataframe\n",
        "en_loc_clean = pd.read_csv(io.BytesIO(uploaded5['en_loc_cleaned.csv']))"
      ],
      "execution_count": 15,
      "outputs": []
    },
    {
      "cell_type": "code",
      "metadata": {
        "colab": {
          "resources": {
            "http://localhost:8080/nbextensions/google.colab/files.js": {
              "data": "Ly8gQ29weXJpZ2h0IDIwMTcgR29vZ2xlIExMQwovLwovLyBMaWNlbnNlZCB1bmRlciB0aGUgQXBhY2hlIExpY2Vuc2UsIFZlcnNpb24gMi4wICh0aGUgIkxpY2Vuc2UiKTsKLy8geW91IG1heSBub3QgdXNlIHRoaXMgZmlsZSBleGNlcHQgaW4gY29tcGxpYW5jZSB3aXRoIHRoZSBMaWNlbnNlLgovLyBZb3UgbWF5IG9idGFpbiBhIGNvcHkgb2YgdGhlIExpY2Vuc2UgYXQKLy8KLy8gICAgICBodHRwOi8vd3d3LmFwYWNoZS5vcmcvbGljZW5zZXMvTElDRU5TRS0yLjAKLy8KLy8gVW5sZXNzIHJlcXVpcmVkIGJ5IGFwcGxpY2FibGUgbGF3IG9yIGFncmVlZCB0byBpbiB3cml0aW5nLCBzb2Z0d2FyZQovLyBkaXN0cmlidXRlZCB1bmRlciB0aGUgTGljZW5zZSBpcyBkaXN0cmlidXRlZCBvbiBhbiAiQVMgSVMiIEJBU0lTLAovLyBXSVRIT1VUIFdBUlJBTlRJRVMgT1IgQ09ORElUSU9OUyBPRiBBTlkgS0lORCwgZWl0aGVyIGV4cHJlc3Mgb3IgaW1wbGllZC4KLy8gU2VlIHRoZSBMaWNlbnNlIGZvciB0aGUgc3BlY2lmaWMgbGFuZ3VhZ2UgZ292ZXJuaW5nIHBlcm1pc3Npb25zIGFuZAovLyBsaW1pdGF0aW9ucyB1bmRlciB0aGUgTGljZW5zZS4KCi8qKgogKiBAZmlsZW92ZXJ2aWV3IEhlbHBlcnMgZm9yIGdvb2dsZS5jb2xhYiBQeXRob24gbW9kdWxlLgogKi8KKGZ1bmN0aW9uKHNjb3BlKSB7CmZ1bmN0aW9uIHNwYW4odGV4dCwgc3R5bGVBdHRyaWJ1dGVzID0ge30pIHsKICBjb25zdCBlbGVtZW50ID0gZG9jdW1lbnQuY3JlYXRlRWxlbWVudCgnc3BhbicpOwogIGVsZW1lbnQudGV4dENvbnRlbnQgPSB0ZXh0OwogIGZvciAoY29uc3Qga2V5IG9mIE9iamVjdC5rZXlzKHN0eWxlQXR0cmlidXRlcykpIHsKICAgIGVsZW1lbnQuc3R5bGVba2V5XSA9IHN0eWxlQXR0cmlidXRlc1trZXldOwogIH0KICByZXR1cm4gZWxlbWVudDsKfQoKLy8gTWF4IG51bWJlciBvZiBieXRlcyB3aGljaCB3aWxsIGJlIHVwbG9hZGVkIGF0IGEgdGltZS4KY29uc3QgTUFYX1BBWUxPQURfU0laRSA9IDEwMCAqIDEwMjQ7CgpmdW5jdGlvbiBfdXBsb2FkRmlsZXMoaW5wdXRJZCwgb3V0cHV0SWQpIHsKICBjb25zdCBzdGVwcyA9IHVwbG9hZEZpbGVzU3RlcChpbnB1dElkLCBvdXRwdXRJZCk7CiAgY29uc3Qgb3V0cHV0RWxlbWVudCA9IGRvY3VtZW50LmdldEVsZW1lbnRCeUlkKG91dHB1dElkKTsKICAvLyBDYWNoZSBzdGVwcyBvbiB0aGUgb3V0cHV0RWxlbWVudCB0byBtYWtlIGl0IGF2YWlsYWJsZSBmb3IgdGhlIG5leHQgY2FsbAogIC8vIHRvIHVwbG9hZEZpbGVzQ29udGludWUgZnJvbSBQeXRob24uCiAgb3V0cHV0RWxlbWVudC5zdGVwcyA9IHN0ZXBzOwoKICByZXR1cm4gX3VwbG9hZEZpbGVzQ29udGludWUob3V0cHV0SWQpOwp9CgovLyBUaGlzIGlzIHJvdWdobHkgYW4gYXN5bmMgZ2VuZXJhdG9yIChub3Qgc3VwcG9ydGVkIGluIHRoZSBicm93c2VyIHlldCksCi8vIHdoZXJlIHRoZXJlIGFyZSBtdWx0aXBsZSBhc3luY2hyb25vdXMgc3RlcHMgYW5kIHRoZSBQeXRob24gc2lkZSBpcyBnb2luZwovLyB0byBwb2xsIGZvciBjb21wbGV0aW9uIG9mIGVhY2ggc3RlcC4KLy8gVGhpcyB1c2VzIGEgUHJvbWlzZSB0byBibG9jayB0aGUgcHl0aG9uIHNpZGUgb24gY29tcGxldGlvbiBvZiBlYWNoIHN0ZXAsCi8vIHRoZW4gcGFzc2VzIHRoZSByZXN1bHQgb2YgdGhlIHByZXZpb3VzIHN0ZXAgYXMgdGhlIGlucHV0IHRvIHRoZSBuZXh0IHN0ZXAuCmZ1bmN0aW9uIF91cGxvYWRGaWxlc0NvbnRpbnVlKG91dHB1dElkKSB7CiAgY29uc3Qgb3V0cHV0RWxlbWVudCA9IGRvY3VtZW50LmdldEVsZW1lbnRCeUlkKG91dHB1dElkKTsKICBjb25zdCBzdGVwcyA9IG91dHB1dEVsZW1lbnQuc3RlcHM7CgogIGNvbnN0IG5leHQgPSBzdGVwcy5uZXh0KG91dHB1dEVsZW1lbnQubGFzdFByb21pc2VWYWx1ZSk7CiAgcmV0dXJuIFByb21pc2UucmVzb2x2ZShuZXh0LnZhbHVlLnByb21pc2UpLnRoZW4oKHZhbHVlKSA9PiB7CiAgICAvLyBDYWNoZSB0aGUgbGFzdCBwcm9taXNlIHZhbHVlIHRvIG1ha2UgaXQgYXZhaWxhYmxlIHRvIHRoZSBuZXh0CiAgICAvLyBzdGVwIG9mIHRoZSBnZW5lcmF0b3IuCiAgICBvdXRwdXRFbGVtZW50Lmxhc3RQcm9taXNlVmFsdWUgPSB2YWx1ZTsKICAgIHJldHVybiBuZXh0LnZhbHVlLnJlc3BvbnNlOwogIH0pOwp9CgovKioKICogR2VuZXJhdG9yIGZ1bmN0aW9uIHdoaWNoIGlzIGNhbGxlZCBiZXR3ZWVuIGVhY2ggYXN5bmMgc3RlcCBvZiB0aGUgdXBsb2FkCiAqIHByb2Nlc3MuCiAqIEBwYXJhbSB7c3RyaW5nfSBpbnB1dElkIEVsZW1lbnQgSUQgb2YgdGhlIGlucHV0IGZpbGUgcGlja2VyIGVsZW1lbnQuCiAqIEBwYXJhbSB7c3RyaW5nfSBvdXRwdXRJZCBFbGVtZW50IElEIG9mIHRoZSBvdXRwdXQgZGlzcGxheS4KICogQHJldHVybiB7IUl0ZXJhYmxlPCFPYmplY3Q+fSBJdGVyYWJsZSBvZiBuZXh0IHN0ZXBzLgogKi8KZnVuY3Rpb24qIHVwbG9hZEZpbGVzU3RlcChpbnB1dElkLCBvdXRwdXRJZCkgewogIGNvbnN0IGlucHV0RWxlbWVudCA9IGRvY3VtZW50LmdldEVsZW1lbnRCeUlkKGlucHV0SWQpOwogIGlucHV0RWxlbWVudC5kaXNhYmxlZCA9IGZhbHNlOwoKICBjb25zdCBvdXRwdXRFbGVtZW50ID0gZG9jdW1lbnQuZ2V0RWxlbWVudEJ5SWQob3V0cHV0SWQpOwogIG91dHB1dEVsZW1lbnQuaW5uZXJIVE1MID0gJyc7CgogIGNvbnN0IHBpY2tlZFByb21pc2UgPSBuZXcgUHJvbWlzZSgocmVzb2x2ZSkgPT4gewogICAgaW5wdXRFbGVtZW50LmFkZEV2ZW50TGlzdGVuZXIoJ2NoYW5nZScsIChlKSA9PiB7CiAgICAgIHJlc29sdmUoZS50YXJnZXQuZmlsZXMpOwogICAgfSk7CiAgfSk7CgogIGNvbnN0IGNhbmNlbCA9IGRvY3VtZW50LmNyZWF0ZUVsZW1lbnQoJ2J1dHRvbicpOwogIGlucHV0RWxlbWVudC5wYXJlbnRFbGVtZW50LmFwcGVuZENoaWxkKGNhbmNlbCk7CiAgY2FuY2VsLnRleHRDb250ZW50ID0gJ0NhbmNlbCB1cGxvYWQnOwogIGNvbnN0IGNhbmNlbFByb21pc2UgPSBuZXcgUHJvbWlzZSgocmVzb2x2ZSkgPT4gewogICAgY2FuY2VsLm9uY2xpY2sgPSAoKSA9PiB7CiAgICAgIHJlc29sdmUobnVsbCk7CiAgICB9OwogIH0pOwoKICAvLyBXYWl0IGZvciB0aGUgdXNlciB0byBwaWNrIHRoZSBmaWxlcy4KICBjb25zdCBmaWxlcyA9IHlpZWxkIHsKICAgIHByb21pc2U6IFByb21pc2UucmFjZShbcGlja2VkUHJvbWlzZSwgY2FuY2VsUHJvbWlzZV0pLAogICAgcmVzcG9uc2U6IHsKICAgICAgYWN0aW9uOiAnc3RhcnRpbmcnLAogICAgfQogIH07CgogIGNhbmNlbC5yZW1vdmUoKTsKCiAgLy8gRGlzYWJsZSB0aGUgaW5wdXQgZWxlbWVudCBzaW5jZSBmdXJ0aGVyIHBpY2tzIGFyZSBub3QgYWxsb3dlZC4KICBpbnB1dEVsZW1lbnQuZGlzYWJsZWQgPSB0cnVlOwoKICBpZiAoIWZpbGVzKSB7CiAgICByZXR1cm4gewogICAgICByZXNwb25zZTogewogICAgICAgIGFjdGlvbjogJ2NvbXBsZXRlJywKICAgICAgfQogICAgfTsKICB9CgogIGZvciAoY29uc3QgZmlsZSBvZiBmaWxlcykgewogICAgY29uc3QgbGkgPSBkb2N1bWVudC5jcmVhdGVFbGVtZW50KCdsaScpOwogICAgbGkuYXBwZW5kKHNwYW4oZmlsZS5uYW1lLCB7Zm9udFdlaWdodDogJ2JvbGQnfSkpOwogICAgbGkuYXBwZW5kKHNwYW4oCiAgICAgICAgYCgke2ZpbGUudHlwZSB8fCAnbi9hJ30pIC0gJHtmaWxlLnNpemV9IGJ5dGVzLCBgICsKICAgICAgICBgbGFzdCBtb2RpZmllZDogJHsKICAgICAgICAgICAgZmlsZS5sYXN0TW9kaWZpZWREYXRlID8gZmlsZS5sYXN0TW9kaWZpZWREYXRlLnRvTG9jYWxlRGF0ZVN0cmluZygpIDoKICAgICAgICAgICAgICAgICAgICAgICAgICAgICAgICAgICAgJ24vYSd9IC0gYCkpOwogICAgY29uc3QgcGVyY2VudCA9IHNwYW4oJzAlIGRvbmUnKTsKICAgIGxpLmFwcGVuZENoaWxkKHBlcmNlbnQpOwoKICAgIG91dHB1dEVsZW1lbnQuYXBwZW5kQ2hpbGQobGkpOwoKICAgIGNvbnN0IGZpbGVEYXRhUHJvbWlzZSA9IG5ldyBQcm9taXNlKChyZXNvbHZlKSA9PiB7CiAgICAgIGNvbnN0IHJlYWRlciA9IG5ldyBGaWxlUmVhZGVyKCk7CiAgICAgIHJlYWRlci5vbmxvYWQgPSAoZSkgPT4gewogICAgICAgIHJlc29sdmUoZS50YXJnZXQucmVzdWx0KTsKICAgICAgfTsKICAgICAgcmVhZGVyLnJlYWRBc0FycmF5QnVmZmVyKGZpbGUpOwogICAgfSk7CiAgICAvLyBXYWl0IGZvciB0aGUgZGF0YSB0byBiZSByZWFkeS4KICAgIGxldCBmaWxlRGF0YSA9IHlpZWxkIHsKICAgICAgcHJvbWlzZTogZmlsZURhdGFQcm9taXNlLAogICAgICByZXNwb25zZTogewogICAgICAgIGFjdGlvbjogJ2NvbnRpbnVlJywKICAgICAgfQogICAgfTsKCiAgICAvLyBVc2UgYSBjaHVua2VkIHNlbmRpbmcgdG8gYXZvaWQgbWVzc2FnZSBzaXplIGxpbWl0cy4gU2VlIGIvNjIxMTU2NjAuCiAgICBsZXQgcG9zaXRpb24gPSAwOwogICAgd2hpbGUgKHBvc2l0aW9uIDwgZmlsZURhdGEuYnl0ZUxlbmd0aCkgewogICAgICBjb25zdCBsZW5ndGggPSBNYXRoLm1pbihmaWxlRGF0YS5ieXRlTGVuZ3RoIC0gcG9zaXRpb24sIE1BWF9QQVlMT0FEX1NJWkUpOwogICAgICBjb25zdCBjaHVuayA9IG5ldyBVaW50OEFycmF5KGZpbGVEYXRhLCBwb3NpdGlvbiwgbGVuZ3RoKTsKICAgICAgcG9zaXRpb24gKz0gbGVuZ3RoOwoKICAgICAgY29uc3QgYmFzZTY0ID0gYnRvYShTdHJpbmcuZnJvbUNoYXJDb2RlLmFwcGx5KG51bGwsIGNodW5rKSk7CiAgICAgIHlpZWxkIHsKICAgICAgICByZXNwb25zZTogewogICAgICAgICAgYWN0aW9uOiAnYXBwZW5kJywKICAgICAgICAgIGZpbGU6IGZpbGUubmFtZSwKICAgICAgICAgIGRhdGE6IGJhc2U2NCwKICAgICAgICB9LAogICAgICB9OwogICAgICBwZXJjZW50LnRleHRDb250ZW50ID0KICAgICAgICAgIGAke01hdGgucm91bmQoKHBvc2l0aW9uIC8gZmlsZURhdGEuYnl0ZUxlbmd0aCkgKiAxMDApfSUgZG9uZWA7CiAgICB9CiAgfQoKICAvLyBBbGwgZG9uZS4KICB5aWVsZCB7CiAgICByZXNwb25zZTogewogICAgICBhY3Rpb246ICdjb21wbGV0ZScsCiAgICB9CiAgfTsKfQoKc2NvcGUuZ29vZ2xlID0gc2NvcGUuZ29vZ2xlIHx8IHt9OwpzY29wZS5nb29nbGUuY29sYWIgPSBzY29wZS5nb29nbGUuY29sYWIgfHwge307CnNjb3BlLmdvb2dsZS5jb2xhYi5fZmlsZXMgPSB7CiAgX3VwbG9hZEZpbGVzLAogIF91cGxvYWRGaWxlc0NvbnRpbnVlLAp9Owp9KShzZWxmKTsK",
              "ok": true,
              "headers": [
                [
                  "content-type",
                  "application/javascript"
                ]
              ],
              "status": 200,
              "status_text": ""
            }
          },
          "base_uri": "https://localhost:8080/",
          "height": 73
        },
        "id": "URP0rqayfNYG",
        "outputId": "f3144ea5-4d2b-40f4-e7d2-6662f0fd5519"
      },
      "source": [
        "#Uploading cleaned hours of day data (end point) from local drive\n",
        "from google.colab import files\n",
        "uploaded6 = files.upload()"
      ],
      "execution_count": 16,
      "outputs": [
        {
          "output_type": "display_data",
          "data": {
            "text/html": [
              "\n",
              "     <input type=\"file\" id=\"files-993000cd-0a15-4a2e-b647-3228d74c7956\" name=\"files[]\" multiple disabled\n",
              "        style=\"border:none\" />\n",
              "     <output id=\"result-993000cd-0a15-4a2e-b647-3228d74c7956\">\n",
              "      Upload widget is only available when the cell has been executed in the\n",
              "      current browser session. Please rerun this cell to enable.\n",
              "      </output>\n",
              "      <script src=\"/nbextensions/google.colab/files.js\"></script> "
            ],
            "text/plain": [
              "<IPython.core.display.HTML object>"
            ]
          },
          "metadata": {
            "tags": []
          }
        },
        {
          "output_type": "stream",
          "text": [
            "Saving en_hr_cleaned.csv to en_hr_cleaned.csv\n"
          ],
          "name": "stdout"
        }
      ]
    },
    {
      "cell_type": "code",
      "metadata": {
        "id": "1jGQ_tBefNk5"
      },
      "source": [
        "#Reading cleaned hours of day data (end point) and storing into a Pandas Dataframe\n",
        "en_hr_clean = pd.read_csv(io.BytesIO(uploaded6['en_hr_cleaned.csv']))"
      ],
      "execution_count": 17,
      "outputs": []
    },
    {
      "cell_type": "markdown",
      "metadata": {
        "id": "Gcxu3vFN5Y_x"
      },
      "source": [
        "###Preparing location data for visualization"
      ]
    },
    {
      "cell_type": "code",
      "metadata": {
        "colab": {
          "base_uri": "https://localhost:8080/",
          "height": 203
        },
        "id": "XUdcQ2X5fzFc",
        "outputId": "12f25ce1-b554-4410-80aa-16baca4a5d01"
      },
      "source": [
        "st_loc_clean.tail()"
      ],
      "execution_count": 19,
      "outputs": [
        {
          "output_type": "execute_result",
          "data": {
            "text/html": [
              "<div>\n",
              "<style scoped>\n",
              "    .dataframe tbody tr th:only-of-type {\n",
              "        vertical-align: middle;\n",
              "    }\n",
              "\n",
              "    .dataframe tbody tr th {\n",
              "        vertical-align: top;\n",
              "    }\n",
              "\n",
              "    .dataframe thead th {\n",
              "        text-align: right;\n",
              "    }\n",
              "</style>\n",
              "<table border=\"1\" class=\"dataframe\">\n",
              "  <thead>\n",
              "    <tr style=\"text-align: right;\">\n",
              "      <th></th>\n",
              "      <th>year</th>\n",
              "      <th>month</th>\n",
              "      <th>name</th>\n",
              "      <th>lat</th>\n",
              "      <th>lon</th>\n",
              "      <th>trips</th>\n",
              "      <th>mean_min</th>\n",
              "    </tr>\n",
              "  </thead>\n",
              "  <tbody>\n",
              "    <tr>\n",
              "      <th>3769</th>\n",
              "      <td>2020</td>\n",
              "      <td>April</td>\n",
              "      <td>Tordenskiolds gate</td>\n",
              "      <td>59.911776</td>\n",
              "      <td>10.735113</td>\n",
              "      <td>88</td>\n",
              "      <td>15.610</td>\n",
              "    </tr>\n",
              "    <tr>\n",
              "      <th>3770</th>\n",
              "      <td>2020</td>\n",
              "      <td>April</td>\n",
              "      <td>Blindern studentparkering</td>\n",
              "      <td>59.940874</td>\n",
              "      <td>10.720779</td>\n",
              "      <td>70</td>\n",
              "      <td>17.860</td>\n",
              "    </tr>\n",
              "    <tr>\n",
              "      <th>3771</th>\n",
              "      <td>2020</td>\n",
              "      <td>April</td>\n",
              "      <td>Jarlsborgveien</td>\n",
              "      <td>59.930464</td>\n",
              "      <td>10.675783</td>\n",
              "      <td>66</td>\n",
              "      <td>20.200</td>\n",
              "    </tr>\n",
              "    <tr>\n",
              "      <th>3772</th>\n",
              "      <td>2020</td>\n",
              "      <td>April</td>\n",
              "      <td>HasleLinje</td>\n",
              "      <td>59.927634</td>\n",
              "      <td>10.799249</td>\n",
              "      <td>64</td>\n",
              "      <td>15.425</td>\n",
              "    </tr>\n",
              "    <tr>\n",
              "      <th>3773</th>\n",
              "      <td>2020</td>\n",
              "      <td>April</td>\n",
              "      <td>Bak Niels Treschows hus sør</td>\n",
              "      <td>59.942473</td>\n",
              "      <td>10.723715</td>\n",
              "      <td>45</td>\n",
              "      <td>14.200</td>\n",
              "    </tr>\n",
              "  </tbody>\n",
              "</table>\n",
              "</div>"
            ],
            "text/plain": [
              "      year  month                         name  ...        lon  trips  mean_min\n",
              "3769  2020  April           Tordenskiolds gate  ...  10.735113     88    15.610\n",
              "3770  2020  April    Blindern studentparkering  ...  10.720779     70    17.860\n",
              "3771  2020  April               Jarlsborgveien  ...  10.675783     66    20.200\n",
              "3772  2020  April                   HasleLinje  ...  10.799249     64    15.425\n",
              "3773  2020  April  Bak Niels Treschows hus sør  ...  10.723715     45    14.200\n",
              "\n",
              "[5 rows x 7 columns]"
            ]
          },
          "metadata": {
            "tags": []
          },
          "execution_count": 19
        }
      ]
    },
    {
      "cell_type": "code",
      "metadata": {
        "id": "8uqxm4pesuFf"
      },
      "source": [
        "#Creating a function to generate a basemap\n",
        "def generate_basemap(default_loc=[59.92,10.75], default_zoom=13):\n",
        "    bmap = folium.Map(location=default_loc, zoom_start=default_zoom)\n",
        "    return bmap"
      ],
      "execution_count": 20,
      "outputs": []
    },
    {
      "cell_type": "code",
      "metadata": {
        "id": "A_7xm-SFg4De"
      },
      "source": [
        "def plot_basemap(year, month, cat, top):\n",
        "  \"\"\"Plot basemap according to year, month and category\"\"\"\n",
        "\n",
        "  #Slice the corresponding dataframe depending on the selected category\n",
        "  if category == 'Start':\n",
        "    hm_df = st_loc_clean[(st_loc_clean['year']==year) & (st_loc_clean['month']==month)].copy()\n",
        "    hm_df = hm_df.drop(columns=['year', 'month', 'name', 'mean_min'])\n",
        "  else:\n",
        "    hm_df = en_loc_clean[(en_loc_clean['year']==year) & (en_loc_clean['month']==month)].copy()\n",
        "    hm_df = hm_df.drop(columns=['year', 'month', 'name', 'mean_min'])\n",
        "\n",
        "  #Create a function to convert lat, lon, and weight to list. Folium does not take DataFrames\n",
        "  def convert_to_list(df):\n",
        "    \"\"\"Convert dataframe to list of lat, lon and weight\"\"\"\n",
        "    lat = df['lat'].to_numpy(dtype=float)\n",
        "    lon = df['lon'].to_numpy(dtype=float)\n",
        "    weight = df['trips'].to_numpy(dtype=float)\n",
        "    return [[l, g, w] for l, g, w in zip(lat, lon, weight)]\n",
        "\n",
        "  #Convert lat, long and weight to lists of list\n",
        "  heat_data = convert_to_list(hm_df)\n",
        "\n",
        "  #Generate a basemap\n",
        "  basemap = generate_basemap()\n",
        "\n",
        "  #Create a HeatMap with lat, lon and number of trips\n",
        "  HeatMap(heat_data[:top]).add_to(basemap)\n",
        "\n",
        "  #Plot the basemap\n",
        "  return basemap"
      ],
      "execution_count": 39,
      "outputs": []
    },
    {
      "cell_type": "code",
      "metadata": {
        "id": "ldTE0dt6lWSS"
      },
      "source": [
        "#Generating widgets options for HeatMap\n",
        "yr = [2020, 2021]\n",
        "month = ['January', 'February', 'March', 'April', 'May', 'June', 'July', 'August', 'September', 'October', 'November', 'December']\n",
        "category = ['Start', 'Destination']\n",
        "num = [i for i in range(5, 251, 5)]"
      ],
      "execution_count": 33,
      "outputs": []
    },
    {
      "cell_type": "markdown",
      "metadata": {
        "id": "mw77R1OZqoni"
      },
      "source": [
        "###Visualizing Location Data"
      ]
    },
    {
      "cell_type": "code",
      "metadata": {
        "colab": {
          "base_uri": "https://localhost:8080/",
          "height": 994,
          "referenced_widgets": [
            "ab52205ee05f48f0940567911df8f321",
            "ecf90e2e647f46c3b36342702df521c5",
            "954e4d11b37744b7ab648237ed96adeb",
            "8647390859c5455691259dfaaa3f7b56",
            "4891cc2e50af43289a300fa21594018f",
            "19fdf974f3fa448b88e4a449fbb75eb0",
            "db5698d09d0244bea5436e501d6b0fb0",
            "0aecc53c12c44f22a1e3b818c1c55eff",
            "f3e1b545af204553bd9467c8dc9b78bf",
            "ce02c27de099444f9079ebcaa01bd173",
            "36282af54e6b4c4397ac478ae4a02e16",
            "8e5186d98a9444b1b242e1f133d32253",
            "e8503e2b48cf4cdc94bdc21c12283f40",
            "8e587541009a45819eeb24cecc4ccd52",
            "a2c8049b9d0c4f5bb1aed99ffd3afbd6",
            "f8d0b15fe4004e89a20ea66f0c0577c6"
          ]
        },
        "id": "rXEmbaCdg4OK",
        "outputId": "36f97425-f4ac-4140-b08b-88f5446c2ce2"
      },
      "source": [
        "#Plotting interactive HeatMap for Bysykkel data\n",
        "interact(plot_basemap,\n",
        "         year=widgets.Dropdown(options=yr, value=yr[0], description='Year', disabled=False),\n",
        "         month=widgets.Dropdown(options=month, value=month[2], description='Month', disabled=False),\n",
        "         cat=widgets.Dropdown(options=category, value=category[0], description='Category', disabled=False),\n",
        "         top=widgets.Dropdown(options=num, value=num[3], description='Top', disabled=False))\n",
        "plt.show()"
      ],
      "execution_count": 59,
      "outputs": [
        {
          "output_type": "display_data",
          "data": {
            "application/vnd.jupyter.widget-view+json": {
              "model_id": "ab52205ee05f48f0940567911df8f321",
              "version_minor": 0,
              "version_major": 2
            },
            "text/plain": [
              "interactive(children=(Dropdown(description='Year', options=(2020, 2021), value=2020), Dropdown(description='Mo…"
            ]
          },
          "metadata": {
            "tags": []
          }
        }
      ]
    },
    {
      "cell_type": "markdown",
      "metadata": {
        "id": "EQ96RybtclrJ"
      },
      "source": [
        "###Dashboard preparation"
      ]
    },
    {
      "cell_type": "code",
      "metadata": {
        "id": "twtSgIBm6S9D"
      },
      "source": [
        "#Creating a function to plot the interactive dashboard\n",
        "\n",
        "def plot_dashboard(year, month):\n",
        "  \"\"\"Plot the starting point of trips, location and average minutes per station \"\"\"\n",
        "  \n",
        "  #Creating slices of the dataframes  \n",
        "  df1 = st_loc_clean[(st_loc_clean['year']==year) & (st_loc_clean['month']==month)].copy()\n",
        "  df2 = en_loc_clean[(en_loc_clean['year']==year) & (en_loc_clean['month']==month)].copy()\n",
        "  df3 = st_hr_clean[(st_hr_clean['year']==year) & (st_hr_clean['month']==month)].copy()\n",
        "  df4 = en_hr_clean[(en_hr_clean['year']==year) & (en_hr_clean['month']==month)].copy()\n",
        "\n",
        "  #Creating constants for plotting\n",
        "  hours = [i for i in range(0, 24)]\n",
        "\n",
        "  #Create four subplots and unpack the output array immediately\n",
        "  fig, ((ax1, ax2), (ax3, ax4)) = plt.subplots(nrows=2, ncols=2, figsize=(20,10))\n",
        "\n",
        "  #Set title for the figure\n",
        "  fig.suptitle(\"Bysykkel Dashboard - Under construction\", fontsize=24)\n",
        "\n",
        "  #Accessing axes objects and plotting\n",
        "  sns.barplot(x='name', y='trips', data=df1[:5], ax=ax1)\n",
        "  sns.barplot(x='name', y='trips', data=df2[:5], ax=ax2)\n",
        "  sns.barplot(x='hour', y='count', data=df3, order=hours, ax=ax3)\n",
        "  sns.barplot(x='hour', y='count', data=df4, order=hours, ax=ax4)\n",
        "    \n",
        "  #Customizing axes labels and titles for first axes figure\n",
        "  ax1.set_xlabel('Station names')\n",
        "  ax1.set_ylabel('Number of Trips')\n",
        "  ax1.set_title('Top 5 start locations')\n",
        "  \n",
        "  #Customizing axes labels and titles for second axes figure\n",
        "  ax2.set_xlabel('Station names')\n",
        "  ax2.set_ylabel('Number of Trips')\n",
        "  ax2.set_title('Top 5 destinations')\n",
        "\n",
        "  #Customizing axes labels and titles for third axes figure\n",
        "  ax3.set_xlabel('Hours of day')\n",
        "  ax3.set_ylabel('Number of Trips')\n",
        "  ax3.set_title('Start trips rush hours')\n",
        "\n",
        "  #Customizing axes labels and titles for third axes figure\n",
        "  ax4.set_xlabel('Hours of day')\n",
        "  ax4.set_ylabel('Number of Trips')\n",
        "  ax4.set_title('Destination trips rush hours')\n",
        "\n",
        "  #Prevent from axis to colliding or overlaping one another.\n",
        "  fig.tight_layout()\n",
        "  fig.subplots_adjust(top=0.88)"
      ],
      "execution_count": 61,
      "outputs": []
    },
    {
      "cell_type": "markdown",
      "metadata": {
        "id": "_2ffmzfn5j1P"
      },
      "source": [
        "###Visualizing Bysykkel Dashboard"
      ]
    },
    {
      "cell_type": "code",
      "metadata": {
        "colab": {
          "base_uri": "https://localhost:8080/",
          "height": 781,
          "referenced_widgets": [
            "30768f427b914efc9df13131ce86ef99",
            "2d1f0e290eae4334b750dab99d0712ff",
            "e2a5bc03b65b4c7689008693aeb40ef7",
            "90005708c31a4fc1a3f2db3c2c69a1bc",
            "4d8be8ec93554cc1b3beee6c86e8227d",
            "ae684e4e1d86473ab67899bdc4eae0ba",
            "d9ed8ed3f6504df68dc93a3822725e2d",
            "528194f7be754c7aafd5ef428f9396a8",
            "372b3a33bc40488598d3d37e2e2fb970",
            "43d93422da8e45c0a25b6e49f5d21da7"
          ]
        },
        "id": "5uQ7SiroCYyr",
        "outputId": "444ff1bc-8ca0-4de3-87d3-6cf440f01722"
      },
      "source": [
        "#Plotting Complaints for Oslo Plant with interactive widgets\n",
        "interact(plot_dashboard,\n",
        "         year=widgets.Dropdown(options=yr, value=yr[0], description='Year', disabled=False),\n",
        "         month=widgets.Dropdown(options=month, value=month[2], description='Month', disabled=False))\n",
        "plt.show()"
      ],
      "execution_count": 62,
      "outputs": [
        {
          "output_type": "display_data",
          "data": {
            "application/vnd.jupyter.widget-view+json": {
              "model_id": "30768f427b914efc9df13131ce86ef99",
              "version_minor": 0,
              "version_major": 2
            },
            "text/plain": [
              "interactive(children=(Dropdown(description='Year', options=(2020, 2021), value=2020), Dropdown(description='Mo…"
            ]
          },
          "metadata": {
            "tags": []
          }
        }
      ]
    },
    {
      "cell_type": "code",
      "metadata": {
        "id": "vdz2S2zMlYoG",
        "colab": {
          "base_uri": "https://localhost:8080/",
          "height": 384
        },
        "outputId": "9cf44a56-2d1b-4562-e876-86d4b39c485c"
      },
      "source": [
        "#Test: Plotting the rush hours for a given month\n",
        "ord = [i for i in range(0, 24)]\n",
        "sns.catplot(x='hour', y='count', data=hours_df[(hours_df['year']==2021) & (hours_df['month']=='April')], kind='bar', order=ord, ci=False, height=5, aspect=2)\n",
        "plt.show()"
      ],
      "execution_count": null,
      "outputs": [
        {
          "output_type": "display_data",
          "data": {
            "image/png": "[encoded data removed]",
            "text/plain": [
              "<Figure size 720x360 with 1 Axes>"
            ]
          },
          "metadata": {
            "tags": []
          }
        }
      ]
    },
    {
      "cell_type": "code",
      "metadata": {
        "colab": {
          "base_uri": "https://localhost:8080/",
          "height": 203
        },
        "id": "f18rwe7kwx98",
        "outputId": "caff33f3-7479-4f36-bece-ee3c7d0e8e06"
      },
      "source": [
        "en_loc_clean.head()"
      ],
      "execution_count": 48,
      "outputs": [
        {
          "output_type": "execute_result",
          "data": {
            "text/html": [
              "<div>\n",
              "<style scoped>\n",
              "    .dataframe tbody tr th:only-of-type {\n",
              "        vertical-align: middle;\n",
              "    }\n",
              "\n",
              "    .dataframe tbody tr th {\n",
              "        vertical-align: top;\n",
              "    }\n",
              "\n",
              "    .dataframe thead th {\n",
              "        text-align: right;\n",
              "    }\n",
              "</style>\n",
              "<table border=\"1\" class=\"dataframe\">\n",
              "  <thead>\n",
              "    <tr style=\"text-align: right;\">\n",
              "      <th></th>\n",
              "      <th>year</th>\n",
              "      <th>month</th>\n",
              "      <th>name</th>\n",
              "      <th>lat</th>\n",
              "      <th>lon</th>\n",
              "      <th>trips</th>\n",
              "      <th>mean_min</th>\n",
              "    </tr>\n",
              "  </thead>\n",
              "  <tbody>\n",
              "    <tr>\n",
              "      <th>0</th>\n",
              "      <td>2021</td>\n",
              "      <td>May</td>\n",
              "      <td>Rådhusbrygge 4</td>\n",
              "      <td>59.910847</td>\n",
              "      <td>10.730377</td>\n",
              "      <td>2839</td>\n",
              "      <td>15.74</td>\n",
              "    </tr>\n",
              "    <tr>\n",
              "      <th>1</th>\n",
              "      <td>2021</td>\n",
              "      <td>May</td>\n",
              "      <td>Olaf Ryes plass</td>\n",
              "      <td>59.922425</td>\n",
              "      <td>10.758182</td>\n",
              "      <td>2186</td>\n",
              "      <td>12.01</td>\n",
              "    </tr>\n",
              "    <tr>\n",
              "      <th>2</th>\n",
              "      <td>2021</td>\n",
              "      <td>May</td>\n",
              "      <td>Alexander Kiellands Plass</td>\n",
              "      <td>59.928067</td>\n",
              "      <td>10.751203</td>\n",
              "      <td>2128</td>\n",
              "      <td>11.41</td>\n",
              "    </tr>\n",
              "    <tr>\n",
              "      <th>3</th>\n",
              "      <td>2021</td>\n",
              "      <td>May</td>\n",
              "      <td>Ringnes Park</td>\n",
              "      <td>59.928434</td>\n",
              "      <td>10.759430</td>\n",
              "      <td>1900</td>\n",
              "      <td>11.00</td>\n",
              "    </tr>\n",
              "    <tr>\n",
              "      <th>4</th>\n",
              "      <td>2021</td>\n",
              "      <td>May</td>\n",
              "      <td>Kirkeristen</td>\n",
              "      <td>59.913000</td>\n",
              "      <td>10.746761</td>\n",
              "      <td>1802</td>\n",
              "      <td>11.33</td>\n",
              "    </tr>\n",
              "  </tbody>\n",
              "</table>\n",
              "</div>"
            ],
            "text/plain": [
              "   year month                       name        lat        lon  trips  mean_min\n",
              "0  2021   May             Rådhusbrygge 4  59.910847  10.730377   2839     15.74\n",
              "1  2021   May            Olaf Ryes plass  59.922425  10.758182   2186     12.01\n",
              "2  2021   May  Alexander Kiellands Plass  59.928067  10.751203   2128     11.41\n",
              "3  2021   May               Ringnes Park  59.928434  10.759430   1900     11.00\n",
              "4  2021   May                Kirkeristen  59.913000  10.746761   1802     11.33"
            ]
          },
          "metadata": {
            "tags": []
          },
          "execution_count": 48
        }
      ]
    }
  ]
}