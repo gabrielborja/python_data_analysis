{
  "nbformat": 4,
  "nbformat_minor": 0,
  "metadata": {
    "colab": {
      "name": "ecuador_analytics.ipynb",
      "provenance": [],
      "authorship_tag": "ABX9TyO8sqloFcjW54W57qCD2V1U",
      "include_colab_link": true
    },
    "kernelspec": {
      "name": "python3",
      "display_name": "Python 3"
    },
    "language_info": {
      "name": "python"
    }
  },
  "cells": [
    {
      "cell_type": "markdown",
      "metadata": {
        "id": "view-in-github",
        "colab_type": "text"
      },
      "source": [
        "<a href=\"https://colab.research.google.com/github/gabrielborja/python_data_analysis/blob/main/ecuador_analytics.ipynb\" target=\"_parent\"><img src=\"https://colab.research.google.com/assets/colab-badge.svg\" alt=\"Open In Colab\"/></a>"
      ]
    },
    {
      "cell_type": "markdown",
      "metadata": {
        "id": "eTZwpRZNRhGY"
      },
      "source": [
        "#Ecuador Volcanoes Analysis"
      ]
    },
    {
      "cell_type": "markdown",
      "metadata": {
        "id": "urSYFOWesvzU"
      },
      "source": [
        "Ecuador is located at the center of the world, and is aslo known as the land of volcanoes. Data about Ecuador volcanoes can be found [here](https://en.wikipedia.org/wiki/List_of_volcanoes_in_Ecuador)"
      ]
    },
    {
      "cell_type": "markdown",
      "metadata": {
        "id": "sgzkv1LwjLIL"
      },
      "source": [
        "## Uploading packages and data"
      ]
    },
    {
      "cell_type": "code",
      "metadata": {
        "id": "Hd_BQNhNCUYa"
      },
      "source": [
        "#!pip freeze"
      ],
      "execution_count": null,
      "outputs": []
    },
    {
      "cell_type": "code",
      "metadata": {
        "id": "RHzc7K6UJDvR"
      },
      "source": [
        "#Importing data manipulation packages\n",
        "import numpy as np\n",
        "import pandas as pd"
      ],
      "execution_count": 1,
      "outputs": []
    },
    {
      "cell_type": "markdown",
      "metadata": {
        "id": "Qd76FNGixVGx"
      },
      "source": [
        "##Retrieving data from URL"
      ]
    },
    {
      "cell_type": "code",
      "metadata": {
        "id": "6f2skNFkus3e"
      },
      "source": [
        "#Parsing tables from URL\n",
        "ecu_tables = pd.read_html('https://en.wikipedia.org/wiki/List_of_volcanoes_in_Ecuador',\n",
        "                           attrs = {'class': 'wikitable sortable'})"
      ],
      "execution_count": 8,
      "outputs": []
    },
    {
      "cell_type": "code",
      "metadata": {
        "colab": {
          "base_uri": "https://localhost:8080/",
          "height": 203
        },
        "id": "c0KeL7b1vz6l",
        "outputId": "4f5cd1a9-a38b-4a90-c51f-d11ab889a7f8"
      },
      "source": [
        "#Saving table 1 to dataframe for mainland volcanoes\n",
        "ecu_main = ecu_tables[0]\n",
        "ecu_main.tail()"
      ],
      "execution_count": 15,
      "outputs": [
        {
          "output_type": "execute_result",
          "data": {
            "text/html": [
              "<div>\n",
              "<style scoped>\n",
              "    .dataframe tbody tr th:only-of-type {\n",
              "        vertical-align: middle;\n",
              "    }\n",
              "\n",
              "    .dataframe tbody tr th {\n",
              "        vertical-align: top;\n",
              "    }\n",
              "\n",
              "    .dataframe thead th {\n",
              "        text-align: right;\n",
              "    }\n",
              "</style>\n",
              "<table border=\"1\" class=\"dataframe\">\n",
              "  <thead>\n",
              "    <tr style=\"text-align: right;\">\n",
              "      <th></th>\n",
              "      <th>Name</th>\n",
              "      <th>Meters</th>\n",
              "      <th>Feet</th>\n",
              "      <th>Coordinates</th>\n",
              "      <th>Last Eruption</th>\n",
              "    </tr>\n",
              "  </thead>\n",
              "  <tbody>\n",
              "    <tr>\n",
              "      <th>28</th>\n",
              "      <td>Soche</td>\n",
              "      <td>3955</td>\n",
              "      <td>12972</td>\n",
              "      <td>0°33′07″N 77°34′48″W﻿ / ﻿0.552°N 77.580°W</td>\n",
              "      <td>-</td>\n",
              "    </tr>\n",
              "    <tr>\n",
              "      <th>29</th>\n",
              "      <td>Sumaco</td>\n",
              "      <td>3990</td>\n",
              "      <td>13087</td>\n",
              "      <td>0°32′S 77°37′W﻿ / ﻿0.53°S 77.62°W</td>\n",
              "      <td>1933</td>\n",
              "    </tr>\n",
              "    <tr>\n",
              "      <th>30</th>\n",
              "      <td>Tulabug</td>\n",
              "      <td>3336</td>\n",
              "      <td>10942</td>\n",
              "      <td>1°46′48″S 78°36′47″W﻿ / ﻿1.78°S 78.613°W</td>\n",
              "      <td>Holocene</td>\n",
              "    </tr>\n",
              "    <tr>\n",
              "      <th>31</th>\n",
              "      <td>Tungurahua</td>\n",
              "      <td>5023</td>\n",
              "      <td>16475</td>\n",
              "      <td>1°28′01″S 78°26′31″W﻿ / ﻿1.467°S 78.442°W</td>\n",
              "      <td>2016</td>\n",
              "    </tr>\n",
              "    <tr>\n",
              "      <th>32</th>\n",
              "      <td>Yanaurcu</td>\n",
              "      <td>4535</td>\n",
              "      <td>14879</td>\n",
              "      <td>0°29′55″N 78°20′02″W﻿ / ﻿0.49849°N 78.33389°W</td>\n",
              "      <td>60,600 ± 20,000 years ago</td>\n",
              "    </tr>\n",
              "  </tbody>\n",
              "</table>\n",
              "</div>"
            ],
            "text/plain": [
              "          Name  ...              Last Eruption\n",
              "28       Soche  ...                          -\n",
              "29      Sumaco  ...                       1933\n",
              "30     Tulabug  ...                   Holocene\n",
              "31  Tungurahua  ...                       2016\n",
              "32    Yanaurcu  ...  60,600 ± 20,000 years ago\n",
              "\n",
              "[5 rows x 5 columns]"
            ]
          },
          "metadata": {
            "tags": []
          },
          "execution_count": 15
        }
      ]
    },
    {
      "cell_type": "code",
      "metadata": {
        "colab": {
          "base_uri": "https://localhost:8080/",
          "height": 203
        },
        "id": "IbJ_ozwIxcr1",
        "outputId": "72783d5b-5ca6-4a9e-ab2e-942c6cd9425e"
      },
      "source": [
        "#Save table 2 to dataframe for galapagos volcanoes\n",
        "ecu_galap = ecu_tables[1]\n",
        "ecu_galap.tail()"
      ],
      "execution_count": 14,
      "outputs": [
        {
          "output_type": "execute_result",
          "data": {
            "text/html": [
              "<div>\n",
              "<style scoped>\n",
              "    .dataframe tbody tr th:only-of-type {\n",
              "        vertical-align: middle;\n",
              "    }\n",
              "\n",
              "    .dataframe tbody tr th {\n",
              "        vertical-align: top;\n",
              "    }\n",
              "\n",
              "    .dataframe thead th {\n",
              "        text-align: right;\n",
              "    }\n",
              "</style>\n",
              "<table border=\"1\" class=\"dataframe\">\n",
              "  <thead>\n",
              "    <tr style=\"text-align: right;\">\n",
              "      <th></th>\n",
              "      <th>Name</th>\n",
              "      <th>Meters</th>\n",
              "      <th>Feet</th>\n",
              "      <th>Coordinates</th>\n",
              "      <th>Last Eruption</th>\n",
              "    </tr>\n",
              "  </thead>\n",
              "  <tbody>\n",
              "    <tr>\n",
              "      <th>10</th>\n",
              "      <td>San Cristóbal</td>\n",
              "      <td>759</td>\n",
              "      <td>2490</td>\n",
              "      <td>0°53′S 89°30′W﻿ / ﻿0.88°S 89.50°W</td>\n",
              "      <td>-</td>\n",
              "    </tr>\n",
              "    <tr>\n",
              "      <th>11</th>\n",
              "      <td>Santa Cruz</td>\n",
              "      <td>964</td>\n",
              "      <td>2834</td>\n",
              "      <td>0°37′S 90°20′W﻿ / ﻿0.62°S 90.33°W</td>\n",
              "      <td>-</td>\n",
              "    </tr>\n",
              "    <tr>\n",
              "      <th>12</th>\n",
              "      <td>Santiago</td>\n",
              "      <td>920</td>\n",
              "      <td>3018</td>\n",
              "      <td>0°13′S 90°46′W﻿ / ﻿0.22°S 90.77°W</td>\n",
              "      <td>1906</td>\n",
              "    </tr>\n",
              "    <tr>\n",
              "      <th>13</th>\n",
              "      <td>Sierra Negra</td>\n",
              "      <td>1124</td>\n",
              "      <td>3687</td>\n",
              "      <td>0°50′S 91°10′W﻿ / ﻿0.83°S 91.17°W</td>\n",
              "      <td>2018</td>\n",
              "    </tr>\n",
              "    <tr>\n",
              "      <th>14</th>\n",
              "      <td>Wolf</td>\n",
              "      <td>1710</td>\n",
              "      <td>5609</td>\n",
              "      <td>0°01′N 91°21′W﻿ / ﻿0.02°N 91.35°W</td>\n",
              "      <td>2015</td>\n",
              "    </tr>\n",
              "  </tbody>\n",
              "</table>\n",
              "</div>"
            ],
            "text/plain": [
              "             Name  Meters  ...                        Coordinates Last Eruption\n",
              "10  San Cristóbal     759  ...  0°53′S 89°30′W﻿ / ﻿0.88°S 89.50°W             -\n",
              "11     Santa Cruz     964  ...  0°37′S 90°20′W﻿ / ﻿0.62°S 90.33°W             -\n",
              "12       Santiago     920  ...  0°13′S 90°46′W﻿ / ﻿0.22°S 90.77°W          1906\n",
              "13   Sierra Negra    1124  ...  0°50′S 91°10′W﻿ / ﻿0.83°S 91.17°W          2018\n",
              "14           Wolf    1710  ...  0°01′N 91°21′W﻿ / ﻿0.02°N 91.35°W          2015\n",
              "\n",
              "[5 rows x 5 columns]"
            ]
          },
          "metadata": {
            "tags": []
          },
          "execution_count": 14
        }
      ]
    },
    {
      "cell_type": "code",
      "metadata": {
        "id": "Zhbk6Aoqx3-V"
      },
      "source": [
        "#Insert column to classify mainland volcanoes vs galapagos volcanoes\n",
        "ecu_main['Category'] = 'Mainland'\n",
        "ecu_galap['Category'] = 'Galapagos'"
      ],
      "execution_count": 16,
      "outputs": []
    },
    {
      "cell_type": "code",
      "metadata": {
        "colab": {
          "base_uri": "https://localhost:8080/"
        },
        "id": "7am4T-xHyqDO",
        "outputId": "d7bf4dcc-3c89-446b-ba9a-e9e1f4e87576"
      },
      "source": [
        "#Concatenate both dataframes\n",
        "ecu_volc = pd.concat([ecu_main, ecu_galap], ignore_index=True)\n",
        "ecu_volc.shape"
      ],
      "execution_count": 18,
      "outputs": [
        {
          "output_type": "execute_result",
          "data": {
            "text/plain": [
              "(48, 6)"
            ]
          },
          "metadata": {
            "tags": []
          },
          "execution_count": 18
        }
      ]
    },
    {
      "cell_type": "markdown",
      "metadata": {
        "id": "sNWPrf-Iz1lE"
      },
      "source": [
        "##Data Cleaning"
      ]
    },
    {
      "cell_type": "code",
      "metadata": {
        "colab": {
          "base_uri": "https://localhost:8080/",
          "height": 203
        },
        "id": "2VQSkn0czh9e",
        "outputId": "3490d800-ae42-451f-e937-86b8d415361c"
      },
      "source": [
        "#Checking the concatenated dataframe tail\n",
        "ecu_volc.head()"
      ],
      "execution_count": 22,
      "outputs": [
        {
          "output_type": "execute_result",
          "data": {
            "text/html": [
              "<div>\n",
              "<style scoped>\n",
              "    .dataframe tbody tr th:only-of-type {\n",
              "        vertical-align: middle;\n",
              "    }\n",
              "\n",
              "    .dataframe tbody tr th {\n",
              "        vertical-align: top;\n",
              "    }\n",
              "\n",
              "    .dataframe thead th {\n",
              "        text-align: right;\n",
              "    }\n",
              "</style>\n",
              "<table border=\"1\" class=\"dataframe\">\n",
              "  <thead>\n",
              "    <tr style=\"text-align: right;\">\n",
              "      <th></th>\n",
              "      <th>Name</th>\n",
              "      <th>Meters</th>\n",
              "      <th>Feet</th>\n",
              "      <th>Coordinates</th>\n",
              "      <th>Last Eruption</th>\n",
              "      <th>Category</th>\n",
              "    </tr>\n",
              "  </thead>\n",
              "  <tbody>\n",
              "    <tr>\n",
              "      <th>0</th>\n",
              "      <td>El Altar / Kapak Urku</td>\n",
              "      <td>5405</td>\n",
              "      <td>17730</td>\n",
              "      <td>.mw-parser-output .geo-default,.mw-parser-outp...</td>\n",
              "      <td>Unknown</td>\n",
              "      <td>Mainland</td>\n",
              "    </tr>\n",
              "    <tr>\n",
              "      <th>1</th>\n",
              "      <td>Antisana</td>\n",
              "      <td>5753</td>\n",
              "      <td>18870</td>\n",
              "      <td>0°28′52″S 78°08′24″W﻿ / ﻿0.481°S 78.14°W</td>\n",
              "      <td>1802</td>\n",
              "      <td>Mainland</td>\n",
              "    </tr>\n",
              "    <tr>\n",
              "      <th>2</th>\n",
              "      <td>Atacazo</td>\n",
              "      <td>4463</td>\n",
              "      <td>14639</td>\n",
              "      <td>0°21′11″S 78°37′01″W﻿ / ﻿0.353°S 78.617°W</td>\n",
              "      <td>-</td>\n",
              "      <td>Mainland</td>\n",
              "    </tr>\n",
              "    <tr>\n",
              "      <th>3</th>\n",
              "      <td>Carihuairazo</td>\n",
              "      <td>5018</td>\n",
              "      <td>16463</td>\n",
              "      <td>01°24′25″S 78°45′00″W﻿ / ﻿1.40694°S 78.75000°W</td>\n",
              "      <td>Unknown</td>\n",
              "      <td>Mainland</td>\n",
              "    </tr>\n",
              "    <tr>\n",
              "      <th>4</th>\n",
              "      <td>Cayambe</td>\n",
              "      <td>5790</td>\n",
              "      <td>18991</td>\n",
              "      <td>0°01′44″N 77°59′10″W﻿ / ﻿0.029°N 77.986°W</td>\n",
              "      <td>1786</td>\n",
              "      <td>Mainland</td>\n",
              "    </tr>\n",
              "  </tbody>\n",
              "</table>\n",
              "</div>"
            ],
            "text/plain": [
              "                    Name Meters  ... Last Eruption  Category\n",
              "0  El Altar / Kapak Urku   5405  ...       Unknown  Mainland\n",
              "1               Antisana   5753  ...          1802  Mainland\n",
              "2                Atacazo   4463  ...             -  Mainland\n",
              "3           Carihuairazo   5018  ...       Unknown  Mainland\n",
              "4                Cayambe   5790  ...          1786  Mainland\n",
              "\n",
              "[5 rows x 6 columns]"
            ]
          },
          "metadata": {
            "tags": []
          },
          "execution_count": 22
        }
      ]
    },
    {
      "cell_type": "code",
      "metadata": {
        "id": "bXpOptnL4iZC"
      },
      "source": [
        "#Replace first value of coordinates column with correct DMS coordinate\n",
        "ecu_volc['Coordinates'][0] = '1.68°S 78.42°W'"
      ],
      "execution_count": 23,
      "outputs": []
    },
    {
      "cell_type": "code",
      "metadata": {
        "colab": {
          "base_uri": "https://localhost:8080/"
        },
        "id": "dO0Mg3RT4Oeo",
        "outputId": "bdb91ca9-d169-47b2-eb12-48de9337f46e"
      },
      "source": [
        "#Unique values\n",
        "ecu_volc['Coordinates'].unique()"
      ],
      "execution_count": 24,
      "outputs": [
        {
          "output_type": "execute_result",
          "data": {
            "text/plain": [
              "array(['1.68°S 78.42°W',\n",
              "       '0°28′52″S 78°08′24″W\\ufeff / \\ufeff0.481°S 78.14°W',\n",
              "       '0°21′11″S 78°37′01″W\\ufeff / \\ufeff0.353°S 78.617°W',\n",
              "       '01°24′25″S 78°45′00″W\\ufeff / \\ufeff1.40694°S 78.75000°W',\n",
              "       '0°01′44″N 77°59′10″W\\ufeff / \\ufeff0.029°N 77.986°W',\n",
              "       '0°22′S 78°15′W\\ufeff / \\ufeff0.37°S 78.25°W',\n",
              "       '0°47′52″N 77°57′3″W\\ufeff / \\ufeff0.79778°N 77.95083°W',\n",
              "       '01°28′09″S 78°49′03″W\\ufeff / \\ufeff1.46917°S 78.81750°W',\n",
              "       '0°26′S 77°43′W\\ufeff / \\ufeff0.43°S 77.72°W',\n",
              "       '0°21′39″N 78°20′57″W\\ufeff / \\ufeff0.36083°N 78.34917°W',\n",
              "       '0°40′37″S 78°26′10″W\\ufeff / \\ufeff0.677°S 78.436°W',\n",
              "       '0°18′30″N 78°21′50″W\\ufeff / \\ufeff0.30833°N 78.36389°W',\n",
              "       '0°09′N 78°08′W\\ufeff / \\ufeff0.15°N 78.14°W',\n",
              "       '0°39′32″S 78°42′50″W\\ufeff / \\ufeff0.659°S 78.714°W',\n",
              "       '0°16′N 78°11′W\\ufeff / \\ufeff0.26°N 78.18°W',\n",
              "       '1°46′48″S 78°36′47″W\\ufeff / \\ufeff1.78°S 78.613°W',\n",
              "       '0°08′N 78°16′W\\ufeff / \\ufeff0.13°N 78.27°W', nan,\n",
              "       '0°28′S 78°29′W\\ufeff / \\ufeff0.46°S 78.48°W',\n",
              "       '0°10′16″S 78°35′53″W\\ufeff / \\ufeff0.171°S 78.598°W',\n",
              "       '8°31′N 78°22′W\\ufeff / \\ufeff8.517°N 78.367°W',\n",
              "       '0°02′17″N 78°27′47″W\\ufeff / \\ufeff0.038°N 78.463°W',\n",
              "       '0°51′S 78°54′W\\ufeff / \\ufeff0.85°S 78.90°W',\n",
              "       '0°00′25″S 77°39′00″W\\ufeff / \\ufeff0.007°S 77.65°W',\n",
              "       '0°38′0″S 78°32′0″W\\ufeff / \\ufeff0.63333°S 78.53333°W',\n",
              "       '2°02′S 78°20′W\\ufeff / \\ufeff2.03°S 78.34°W',\n",
              "       '0°32′44.86″S 78°21′59.69″W\\ufeff / \\ufeff0.5457944°S 78.3665806°W',\n",
              "       '0°33′07″N 77°34′48″W\\ufeff / \\ufeff0.552°N 77.580°W',\n",
              "       '0°32′S 77°37′W\\ufeff / \\ufeff0.53°S 77.62°W',\n",
              "       '1°28′01″S 78°26′31″W\\ufeff / \\ufeff1.467°S 78.442°W',\n",
              "       '0°29′55″N 78°20′02″W\\ufeff / \\ufeff0.49849°N 78.33389°W',\n",
              "       '0°26′S 91°07′W\\ufeff / \\ufeff0.43°S 91.12°W',\n",
              "       '0°54′S 91°25′W\\ufeff / \\ufeff0.90°S 91.42°W',\n",
              "       '0°11′S 91°17′W\\ufeff / \\ufeff0.18°S 91.28°W',\n",
              "       '0°01′12″S 91°32′46″W\\ufeff / \\ufeff0.02°S 91.546°W',\n",
              "       '0°22′S 91°33′W\\ufeff / \\ufeff0.37°S 91.55°W',\n",
              "       '1°18′S 90°27′W\\ufeff / \\ufeff1.30°S 90.45°W',\n",
              "       '0°47′31″N 86°09′00″W\\ufeff / \\ufeff0.792°N 86.15°W',\n",
              "       '0°19′12″N 89°57′29″W\\ufeff / \\ufeff0.32°N 89.958°W',\n",
              "       '0°20′S 90°28′W\\ufeff / \\ufeff0.33°S 90.47°W',\n",
              "       '0°35′S 90°45′W\\ufeff / \\ufeff0.58°S 90.75°W',\n",
              "       '0°53′S 89°30′W\\ufeff / \\ufeff0.88°S 89.50°W',\n",
              "       '0°37′S 90°20′W\\ufeff / \\ufeff0.62°S 90.33°W',\n",
              "       '0°13′S 90°46′W\\ufeff / \\ufeff0.22°S 90.77°W',\n",
              "       '0°50′S 91°10′W\\ufeff / \\ufeff0.83°S 91.17°W',\n",
              "       '0°01′N 91°21′W\\ufeff / \\ufeff0.02°N 91.35°W'], dtype=object)"
            ]
          },
          "metadata": {
            "tags": []
          },
          "execution_count": 24
        }
      ]
    },
    {
      "cell_type": "code",
      "metadata": {
        "id": "wkgCwmSNz4td"
      },
      "source": [
        "#import re\n",
        "#lat = '''51°36'9.18\"N'''\n",
        "#deg, minutes, seconds, direction =  re.split('[°\\'\"]', lat)\n",
        "#(float(deg) + float(minutes)/60 + float(seconds)/(60*60)) * (-1 if direction in ['W', 'S'] else 1)"
      ],
      "execution_count": null,
      "outputs": []
    }
  ]
}