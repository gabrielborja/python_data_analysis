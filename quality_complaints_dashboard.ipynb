{
  "nbformat": 4,
  "nbformat_minor": 0,
  "metadata": {
    "colab": {
      "name": "quality_complaints_dashboard.ipynb",
      "provenance": [],
      "collapsed_sections": [
        "B3Pznx2vlT0L",
        "-iCOXc2AllJt",
        "Cj7Z7UMzT9vR",
        "Ifu1UK2WqoWY",
        "VZzy1t2E2siD",
        "JR0jrss1623_"
      ],
      "authorship_tag": "ABX9TyOx/NOhVlxkVS6XVi9Xro8N",
      "include_colab_link": true
    },
    "kernelspec": {
      "name": "python3",
      "display_name": "Python 3"
    },
    "widgets": {
      "application/vnd.jupyter.widget-state+json": {
        "b0265cb0236b48f78e3c0fff9dde018b": {
          "model_module": "@jupyter-widgets/controls",
          "model_name": "VBoxModel",
          "state": {
            "_view_name": "VBoxView",
            "_dom_classes": [
              "widget-interact"
            ],
            "_model_name": "VBoxModel",
            "_view_module": "@jupyter-widgets/controls",
            "_model_module_version": "1.5.0",
            "_view_count": null,
            "_view_module_version": "1.5.0",
            "box_style": "",
            "layout": "IPY_MODEL_418cd0deae17450a9139f87a8f1b4fe1",
            "_model_module": "@jupyter-widgets/controls",
            "children": [
              "IPY_MODEL_39d7b180911b4df380c8004294fe958d",
              "IPY_MODEL_f5ccda7cd0e04812aa83406548f1cbd8",
              "IPY_MODEL_1d7d452a05de4bb3a3a05aa84756b82a"
            ]
          }
        },
        "418cd0deae17450a9139f87a8f1b4fe1": {
          "model_module": "@jupyter-widgets/base",
          "model_name": "LayoutModel",
          "state": {
            "_view_name": "LayoutView",
            "grid_template_rows": null,
            "right": null,
            "justify_content": null,
            "_view_module": "@jupyter-widgets/base",
            "overflow": null,
            "_model_module_version": "1.2.0",
            "_view_count": null,
            "flex_flow": null,
            "width": null,
            "min_width": null,
            "border": null,
            "align_items": null,
            "bottom": null,
            "_model_module": "@jupyter-widgets/base",
            "top": null,
            "grid_column": null,
            "overflow_y": null,
            "overflow_x": null,
            "grid_auto_flow": null,
            "grid_area": null,
            "grid_template_columns": null,
            "flex": null,
            "_model_name": "LayoutModel",
            "justify_items": null,
            "grid_row": null,
            "max_height": null,
            "align_content": null,
            "visibility": null,
            "align_self": null,
            "height": null,
            "min_height": null,
            "padding": null,
            "grid_auto_rows": null,
            "grid_gap": null,
            "max_width": null,
            "order": null,
            "_view_module_version": "1.2.0",
            "grid_template_areas": null,
            "object_position": null,
            "object_fit": null,
            "grid_auto_columns": null,
            "margin": null,
            "display": null,
            "left": null
          }
        },
        "39d7b180911b4df380c8004294fe958d": {
          "model_module": "@jupyter-widgets/controls",
          "model_name": "DropdownModel",
          "state": {
            "_options_labels": [
              "2020",
              "2021"
            ],
            "_view_name": "DropdownView",
            "style": "IPY_MODEL_9744ae57cf254dbe8bbbad129e5e2fe7",
            "_dom_classes": [],
            "description": "Year",
            "_model_name": "DropdownModel",
            "index": 0,
            "_view_module": "@jupyter-widgets/controls",
            "_model_module_version": "1.5.0",
            "_view_count": null,
            "disabled": false,
            "_view_module_version": "1.5.0",
            "description_tooltip": null,
            "_model_module": "@jupyter-widgets/controls",
            "layout": "IPY_MODEL_a191f324ce7d43c6aa6c511f80870cb7"
          }
        },
        "f5ccda7cd0e04812aa83406548f1cbd8": {
          "model_module": "@jupyter-widgets/controls",
          "model_name": "DropdownModel",
          "state": {
            "_options_labels": [
              "L1",
              "L2",
              "L3",
              "L4"
            ],
            "_view_name": "DropdownView",
            "style": "IPY_MODEL_ec9964f0e2d040a8ba835090b6a1a400",
            "_dom_classes": [],
            "description": "Line",
            "_model_name": "DropdownModel",
            "index": 0,
            "_view_module": "@jupyter-widgets/controls",
            "_model_module_version": "1.5.0",
            "_view_count": null,
            "disabled": false,
            "_view_module_version": "1.5.0",
            "description_tooltip": null,
            "_model_module": "@jupyter-widgets/controls",
            "layout": "IPY_MODEL_5f10c603f8494870ad94fe983bcd9820"
          }
        },
        "1d7d452a05de4bb3a3a05aa84756b82a": {
          "model_module": "@jupyter-widgets/output",
          "model_name": "OutputModel",
          "state": {
            "_view_name": "OutputView",
            "msg_id": "",
            "_dom_classes": [],
            "_model_name": "OutputModel",
            "outputs": [
              {
                "output_type": "stream",
                "metadata": {
                  "tags": []
                },
                "text": "1043\n",
                "stream": "stdout"
              },
              {
                "output_type": "display_data",
                "metadata": {
                  "tags": []
                },
                "image/png": "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\n",
                "text/plain": "<Figure size 1440x720 with 4 Axes>"
              }
            ],
            "_view_module": "@jupyter-widgets/output",
            "_model_module_version": "1.0.0",
            "_view_count": null,
            "_view_module_version": "1.0.0",
            "layout": "IPY_MODEL_0a3cb373dbe445deb36a96a6ac6decab",
            "_model_module": "@jupyter-widgets/output"
          }
        },
        "9744ae57cf254dbe8bbbad129e5e2fe7": {
          "model_module": "@jupyter-widgets/controls",
          "model_name": "DescriptionStyleModel",
          "state": {
            "_view_name": "StyleView",
            "_model_name": "DescriptionStyleModel",
            "description_width": "",
            "_view_module": "@jupyter-widgets/base",
            "_model_module_version": "1.5.0",
            "_view_count": null,
            "_view_module_version": "1.2.0",
            "_model_module": "@jupyter-widgets/controls"
          }
        },
        "a191f324ce7d43c6aa6c511f80870cb7": {
          "model_module": "@jupyter-widgets/base",
          "model_name": "LayoutModel",
          "state": {
            "_view_name": "LayoutView",
            "grid_template_rows": null,
            "right": null,
            "justify_content": null,
            "_view_module": "@jupyter-widgets/base",
            "overflow": null,
            "_model_module_version": "1.2.0",
            "_view_count": null,
            "flex_flow": null,
            "width": null,
            "min_width": null,
            "border": null,
            "align_items": null,
            "bottom": null,
            "_model_module": "@jupyter-widgets/base",
            "top": null,
            "grid_column": null,
            "overflow_y": null,
            "overflow_x": null,
            "grid_auto_flow": null,
            "grid_area": null,
            "grid_template_columns": null,
            "flex": null,
            "_model_name": "LayoutModel",
            "justify_items": null,
            "grid_row": null,
            "max_height": null,
            "align_content": null,
            "visibility": null,
            "align_self": null,
            "height": null,
            "min_height": null,
            "padding": null,
            "grid_auto_rows": null,
            "grid_gap": null,
            "max_width": null,
            "order": null,
            "_view_module_version": "1.2.0",
            "grid_template_areas": null,
            "object_position": null,
            "object_fit": null,
            "grid_auto_columns": null,
            "margin": null,
            "display": null,
            "left": null
          }
        },
        "ec9964f0e2d040a8ba835090b6a1a400": {
          "model_module": "@jupyter-widgets/controls",
          "model_name": "DescriptionStyleModel",
          "state": {
            "_view_name": "StyleView",
            "_model_name": "DescriptionStyleModel",
            "description_width": "",
            "_view_module": "@jupyter-widgets/base",
            "_model_module_version": "1.5.0",
            "_view_count": null,
            "_view_module_version": "1.2.0",
            "_model_module": "@jupyter-widgets/controls"
          }
        },
        "5f10c603f8494870ad94fe983bcd9820": {
          "model_module": "@jupyter-widgets/base",
          "model_name": "LayoutModel",
          "state": {
            "_view_name": "LayoutView",
            "grid_template_rows": null,
            "right": null,
            "justify_content": null,
            "_view_module": "@jupyter-widgets/base",
            "overflow": null,
            "_model_module_version": "1.2.0",
            "_view_count": null,
            "flex_flow": null,
            "width": null,
            "min_width": null,
            "border": null,
            "align_items": null,
            "bottom": null,
            "_model_module": "@jupyter-widgets/base",
            "top": null,
            "grid_column": null,
            "overflow_y": null,
            "overflow_x": null,
            "grid_auto_flow": null,
            "grid_area": null,
            "grid_template_columns": null,
            "flex": null,
            "_model_name": "LayoutModel",
            "justify_items": null,
            "grid_row": null,
            "max_height": null,
            "align_content": null,
            "visibility": null,
            "align_self": null,
            "height": null,
            "min_height": null,
            "padding": null,
            "grid_auto_rows": null,
            "grid_gap": null,
            "max_width": null,
            "order": null,
            "_view_module_version": "1.2.0",
            "grid_template_areas": null,
            "object_position": null,
            "object_fit": null,
            "grid_auto_columns": null,
            "margin": null,
            "display": null,
            "left": null
          }
        },
        "0a3cb373dbe445deb36a96a6ac6decab": {
          "model_module": "@jupyter-widgets/base",
          "model_name": "LayoutModel",
          "state": {
            "_view_name": "LayoutView",
            "grid_template_rows": null,
            "right": null,
            "justify_content": null,
            "_view_module": "@jupyter-widgets/base",
            "overflow": null,
            "_model_module_version": "1.2.0",
            "_view_count": null,
            "flex_flow": null,
            "width": null,
            "min_width": null,
            "border": null,
            "align_items": null,
            "bottom": null,
            "_model_module": "@jupyter-widgets/base",
            "top": null,
            "grid_column": null,
            "overflow_y": null,
            "overflow_x": null,
            "grid_auto_flow": null,
            "grid_area": null,
            "grid_template_columns": null,
            "flex": null,
            "_model_name": "LayoutModel",
            "justify_items": null,
            "grid_row": null,
            "max_height": null,
            "align_content": null,
            "visibility": null,
            "align_self": null,
            "height": null,
            "min_height": null,
            "padding": null,
            "grid_auto_rows": null,
            "grid_gap": null,
            "max_width": null,
            "order": null,
            "_view_module_version": "1.2.0",
            "grid_template_areas": null,
            "object_position": null,
            "object_fit": null,
            "grid_auto_columns": null,
            "margin": null,
            "display": null,
            "left": null
          }
        },
        "e619e24b9e4940b9a5581959c59802a8": {
          "model_module": "@jupyter-widgets/controls",
          "model_name": "VBoxModel",
          "state": {
            "_view_name": "VBoxView",
            "_dom_classes": [
              "widget-interact"
            ],
            "_model_name": "VBoxModel",
            "_view_module": "@jupyter-widgets/controls",
            "_model_module_version": "1.5.0",
            "_view_count": null,
            "_view_module_version": "1.5.0",
            "box_style": "",
            "layout": "IPY_MODEL_53d97018112c437c89765a3546d4fbf9",
            "_model_module": "@jupyter-widgets/controls",
            "children": [
              "IPY_MODEL_2c7d298141174c4880008b4d71ca7eef",
              "IPY_MODEL_510b30f25feb42d180ac841a93c10bc2",
              "IPY_MODEL_f49eb3807dfb4880ade6c01ea5ddd34c",
              "IPY_MODEL_1c24eec60f7b4d16a30d3888f3791b5c",
              "IPY_MODEL_9d339949b56e41469bebdcd0a7882d49"
            ]
          }
        },
        "53d97018112c437c89765a3546d4fbf9": {
          "model_module": "@jupyter-widgets/base",
          "model_name": "LayoutModel",
          "state": {
            "_view_name": "LayoutView",
            "grid_template_rows": null,
            "right": null,
            "justify_content": null,
            "_view_module": "@jupyter-widgets/base",
            "overflow": null,
            "_model_module_version": "1.2.0",
            "_view_count": null,
            "flex_flow": null,
            "width": null,
            "min_width": null,
            "border": null,
            "align_items": null,
            "bottom": null,
            "_model_module": "@jupyter-widgets/base",
            "top": null,
            "grid_column": null,
            "overflow_y": null,
            "overflow_x": null,
            "grid_auto_flow": null,
            "grid_area": null,
            "grid_template_columns": null,
            "flex": null,
            "_model_name": "LayoutModel",
            "justify_items": null,
            "grid_row": null,
            "max_height": null,
            "align_content": null,
            "visibility": null,
            "align_self": null,
            "height": null,
            "min_height": null,
            "padding": null,
            "grid_auto_rows": null,
            "grid_gap": null,
            "max_width": null,
            "order": null,
            "_view_module_version": "1.2.0",
            "grid_template_areas": null,
            "object_position": null,
            "object_fit": null,
            "grid_auto_columns": null,
            "margin": null,
            "display": null,
            "left": null
          }
        },
        "2c7d298141174c4880008b4d71ca7eef": {
          "model_module": "@jupyter-widgets/controls",
          "model_name": "DropdownModel",
          "state": {
            "_options_labels": [
              "2020"
            ],
            "_view_name": "DropdownView",
            "style": "IPY_MODEL_6e1f23fcf4084d85aca191d26a21f4c2",
            "_dom_classes": [],
            "description": "Year",
            "_model_name": "DropdownModel",
            "index": 0,
            "_view_module": "@jupyter-widgets/controls",
            "_model_module_version": "1.5.0",
            "_view_count": null,
            "disabled": false,
            "_view_module_version": "1.5.0",
            "description_tooltip": null,
            "_model_module": "@jupyter-widgets/controls",
            "layout": "IPY_MODEL_713e0be467e944f5adf6731d9b3b1042"
          }
        },
        "510b30f25feb42d180ac841a93c10bc2": {
          "model_module": "@jupyter-widgets/controls",
          "model_name": "DropdownModel",
          "state": {
            "_options_labels": [
              "L1",
              "L2",
              "L3",
              "L4"
            ],
            "_view_name": "DropdownView",
            "style": "IPY_MODEL_fae7991173da408497df72d35f3f05fc",
            "_dom_classes": [],
            "description": "Line",
            "_model_name": "DropdownModel",
            "index": 0,
            "_view_module": "@jupyter-widgets/controls",
            "_model_module_version": "1.5.0",
            "_view_count": null,
            "disabled": false,
            "_view_module_version": "1.5.0",
            "description_tooltip": null,
            "_model_module": "@jupyter-widgets/controls",
            "layout": "IPY_MODEL_b965b9b451284271bfb1e58e16924718"
          }
        },
        "f49eb3807dfb4880ade6c01ea5ddd34c": {
          "model_module": "@jupyter-widgets/controls",
          "model_name": "DropdownModel",
          "state": {
            "_options_labels": [
              "APPEARANCE",
              "FOREIGN MATERIAL",
              "INFESTATION",
              "PACKAGE QUANTITY",
              "PACKAGE QUALITY",
              "PRODUCT QUANTITY",
              "TASTE",
              "TEXTURE"
            ],
            "_view_name": "DropdownView",
            "style": "IPY_MODEL_414faf5f976d4c6e8920035aaeaa9408",
            "_dom_classes": [],
            "description": "Categories",
            "_model_name": "DropdownModel",
            "index": 0,
            "_view_module": "@jupyter-widgets/controls",
            "_model_module_version": "1.5.0",
            "_view_count": null,
            "disabled": false,
            "_view_module_version": "1.5.0",
            "description_tooltip": null,
            "_model_module": "@jupyter-widgets/controls",
            "layout": "IPY_MODEL_ebb78968e62e4a38aa12b40d49bfa9f1"
          }
        },
        "1c24eec60f7b4d16a30d3888f3791b5c": {
          "model_module": "@jupyter-widgets/controls",
          "model_name": "IntSliderModel",
          "state": {
            "_view_name": "IntSliderView",
            "style": "IPY_MODEL_26ac0f8f6d954f2891fa9cf85d2e31e0",
            "_dom_classes": [],
            "description": "Top",
            "step": 1,
            "_model_name": "IntSliderModel",
            "orientation": "horizontal",
            "max": 10,
            "_view_module": "@jupyter-widgets/controls",
            "_model_module_version": "1.5.0",
            "value": 5,
            "_view_count": null,
            "disabled": false,
            "_view_module_version": "1.5.0",
            "min": 1,
            "continuous_update": true,
            "readout_format": "d",
            "description_tooltip": null,
            "readout": true,
            "_model_module": "@jupyter-widgets/controls",
            "layout": "IPY_MODEL_bcc2d220ad5740929796ec5212aabdf4"
          }
        },
        "9d339949b56e41469bebdcd0a7882d49": {
          "model_module": "@jupyter-widgets/output",
          "model_name": "OutputModel",
          "state": {
            "_view_name": "OutputView",
            "msg_id": "",
            "_dom_classes": [],
            "_model_name": "OutputModel",
            "outputs": [
              {
                "output_type": "stream",
                "metadata": {
                  "tags": []
                },
                "text": "248\n",
                "stream": "stdout"
              },
              {
                "output_type": "display_data",
                "metadata": {
                  "tags": []
                },
                "image/png": "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\n",
                "text/plain": "<Figure size 1440x720 with 4 Axes>"
              }
            ],
            "_view_module": "@jupyter-widgets/output",
            "_model_module_version": "1.0.0",
            "_view_count": null,
            "_view_module_version": "1.0.0",
            "layout": "IPY_MODEL_ec269ad60f784a7993ca4ff07dbaf39f",
            "_model_module": "@jupyter-widgets/output"
          }
        },
        "6e1f23fcf4084d85aca191d26a21f4c2": {
          "model_module": "@jupyter-widgets/controls",
          "model_name": "DescriptionStyleModel",
          "state": {
            "_view_name": "StyleView",
            "_model_name": "DescriptionStyleModel",
            "description_width": "",
            "_view_module": "@jupyter-widgets/base",
            "_model_module_version": "1.5.0",
            "_view_count": null,
            "_view_module_version": "1.2.0",
            "_model_module": "@jupyter-widgets/controls"
          }
        },
        "713e0be467e944f5adf6731d9b3b1042": {
          "model_module": "@jupyter-widgets/base",
          "model_name": "LayoutModel",
          "state": {
            "_view_name": "LayoutView",
            "grid_template_rows": null,
            "right": null,
            "justify_content": null,
            "_view_module": "@jupyter-widgets/base",
            "overflow": null,
            "_model_module_version": "1.2.0",
            "_view_count": null,
            "flex_flow": null,
            "width": null,
            "min_width": null,
            "border": null,
            "align_items": null,
            "bottom": null,
            "_model_module": "@jupyter-widgets/base",
            "top": null,
            "grid_column": null,
            "overflow_y": null,
            "overflow_x": null,
            "grid_auto_flow": null,
            "grid_area": null,
            "grid_template_columns": null,
            "flex": null,
            "_model_name": "LayoutModel",
            "justify_items": null,
            "grid_row": null,
            "max_height": null,
            "align_content": null,
            "visibility": null,
            "align_self": null,
            "height": null,
            "min_height": null,
            "padding": null,
            "grid_auto_rows": null,
            "grid_gap": null,
            "max_width": null,
            "order": null,
            "_view_module_version": "1.2.0",
            "grid_template_areas": null,
            "object_position": null,
            "object_fit": null,
            "grid_auto_columns": null,
            "margin": null,
            "display": null,
            "left": null
          }
        },
        "fae7991173da408497df72d35f3f05fc": {
          "model_module": "@jupyter-widgets/controls",
          "model_name": "DescriptionStyleModel",
          "state": {
            "_view_name": "StyleView",
            "_model_name": "DescriptionStyleModel",
            "description_width": "",
            "_view_module": "@jupyter-widgets/base",
            "_model_module_version": "1.5.0",
            "_view_count": null,
            "_view_module_version": "1.2.0",
            "_model_module": "@jupyter-widgets/controls"
          }
        },
        "b965b9b451284271bfb1e58e16924718": {
          "model_module": "@jupyter-widgets/base",
          "model_name": "LayoutModel",
          "state": {
            "_view_name": "LayoutView",
            "grid_template_rows": null,
            "right": null,
            "justify_content": null,
            "_view_module": "@jupyter-widgets/base",
            "overflow": null,
            "_model_module_version": "1.2.0",
            "_view_count": null,
            "flex_flow": null,
            "width": null,
            "min_width": null,
            "border": null,
            "align_items": null,
            "bottom": null,
            "_model_module": "@jupyter-widgets/base",
            "top": null,
            "grid_column": null,
            "overflow_y": null,
            "overflow_x": null,
            "grid_auto_flow": null,
            "grid_area": null,
            "grid_template_columns": null,
            "flex": null,
            "_model_name": "LayoutModel",
            "justify_items": null,
            "grid_row": null,
            "max_height": null,
            "align_content": null,
            "visibility": null,
            "align_self": null,
            "height": null,
            "min_height": null,
            "padding": null,
            "grid_auto_rows": null,
            "grid_gap": null,
            "max_width": null,
            "order": null,
            "_view_module_version": "1.2.0",
            "grid_template_areas": null,
            "object_position": null,
            "object_fit": null,
            "grid_auto_columns": null,
            "margin": null,
            "display": null,
            "left": null
          }
        },
        "414faf5f976d4c6e8920035aaeaa9408": {
          "model_module": "@jupyter-widgets/controls",
          "model_name": "DescriptionStyleModel",
          "state": {
            "_view_name": "StyleView",
            "_model_name": "DescriptionStyleModel",
            "description_width": "",
            "_view_module": "@jupyter-widgets/base",
            "_model_module_version": "1.5.0",
            "_view_count": null,
            "_view_module_version": "1.2.0",
            "_model_module": "@jupyter-widgets/controls"
          }
        },
        "ebb78968e62e4a38aa12b40d49bfa9f1": {
          "model_module": "@jupyter-widgets/base",
          "model_name": "LayoutModel",
          "state": {
            "_view_name": "LayoutView",
            "grid_template_rows": null,
            "right": null,
            "justify_content": null,
            "_view_module": "@jupyter-widgets/base",
            "overflow": null,
            "_model_module_version": "1.2.0",
            "_view_count": null,
            "flex_flow": null,
            "width": null,
            "min_width": null,
            "border": null,
            "align_items": null,
            "bottom": null,
            "_model_module": "@jupyter-widgets/base",
            "top": null,
            "grid_column": null,
            "overflow_y": null,
            "overflow_x": null,
            "grid_auto_flow": null,
            "grid_area": null,
            "grid_template_columns": null,
            "flex": null,
            "_model_name": "LayoutModel",
            "justify_items": null,
            "grid_row": null,
            "max_height": null,
            "align_content": null,
            "visibility": null,
            "align_self": null,
            "height": null,
            "min_height": null,
            "padding": null,
            "grid_auto_rows": null,
            "grid_gap": null,
            "max_width": null,
            "order": null,
            "_view_module_version": "1.2.0",
            "grid_template_areas": null,
            "object_position": null,
            "object_fit": null,
            "grid_auto_columns": null,
            "margin": null,
            "display": null,
            "left": null
          }
        },
        "26ac0f8f6d954f2891fa9cf85d2e31e0": {
          "model_module": "@jupyter-widgets/controls",
          "model_name": "SliderStyleModel",
          "state": {
            "_view_name": "StyleView",
            "handle_color": null,
            "_model_name": "SliderStyleModel",
            "description_width": "",
            "_view_module": "@jupyter-widgets/base",
            "_model_module_version": "1.5.0",
            "_view_count": null,
            "_view_module_version": "1.2.0",
            "_model_module": "@jupyter-widgets/controls"
          }
        },
        "bcc2d220ad5740929796ec5212aabdf4": {
          "model_module": "@jupyter-widgets/base",
          "model_name": "LayoutModel",
          "state": {
            "_view_name": "LayoutView",
            "grid_template_rows": null,
            "right": null,
            "justify_content": null,
            "_view_module": "@jupyter-widgets/base",
            "overflow": null,
            "_model_module_version": "1.2.0",
            "_view_count": null,
            "flex_flow": null,
            "width": null,
            "min_width": null,
            "border": null,
            "align_items": null,
            "bottom": null,
            "_model_module": "@jupyter-widgets/base",
            "top": null,
            "grid_column": null,
            "overflow_y": null,
            "overflow_x": null,
            "grid_auto_flow": null,
            "grid_area": null,
            "grid_template_columns": null,
            "flex": null,
            "_model_name": "LayoutModel",
            "justify_items": null,
            "grid_row": null,
            "max_height": null,
            "align_content": null,
            "visibility": null,
            "align_self": null,
            "height": null,
            "min_height": null,
            "padding": null,
            "grid_auto_rows": null,
            "grid_gap": null,
            "max_width": null,
            "order": null,
            "_view_module_version": "1.2.0",
            "grid_template_areas": null,
            "object_position": null,
            "object_fit": null,
            "grid_auto_columns": null,
            "margin": null,
            "display": null,
            "left": null
          }
        },
        "ec269ad60f784a7993ca4ff07dbaf39f": {
          "model_module": "@jupyter-widgets/base",
          "model_name": "LayoutModel",
          "state": {
            "_view_name": "LayoutView",
            "grid_template_rows": null,
            "right": null,
            "justify_content": null,
            "_view_module": "@jupyter-widgets/base",
            "overflow": null,
            "_model_module_version": "1.2.0",
            "_view_count": null,
            "flex_flow": null,
            "width": null,
            "min_width": null,
            "border": null,
            "align_items": null,
            "bottom": null,
            "_model_module": "@jupyter-widgets/base",
            "top": null,
            "grid_column": null,
            "overflow_y": null,
            "overflow_x": null,
            "grid_auto_flow": null,
            "grid_area": null,
            "grid_template_columns": null,
            "flex": null,
            "_model_name": "LayoutModel",
            "justify_items": null,
            "grid_row": null,
            "max_height": null,
            "align_content": null,
            "visibility": null,
            "align_self": null,
            "height": null,
            "min_height": null,
            "padding": null,
            "grid_auto_rows": null,
            "grid_gap": null,
            "max_width": null,
            "order": null,
            "_view_module_version": "1.2.0",
            "grid_template_areas": null,
            "object_position": null,
            "object_fit": null,
            "grid_auto_columns": null,
            "margin": null,
            "display": null,
            "left": null
          }
        }
      }
    }
  },
  "cells": [
    {
      "cell_type": "markdown",
      "metadata": {
        "id": "view-in-github",
        "colab_type": "text"
      },
      "source": [
        "<a href=\"https://colab.research.google.com/github/gabrielborja/python_data_analysis/blob/main/quality_complaints_dashboard.ipynb\" target=\"_parent\"><img src=\"https://colab.research.google.com/assets/colab-badge.svg\" alt=\"Open In Colab\"/></a>"
      ]
    },
    {
      "cell_type": "markdown",
      "metadata": {
        "id": "B3Pznx2vlT0L"
      },
      "source": [
        "#Import packages"
      ]
    },
    {
      "cell_type": "code",
      "metadata": {
        "id": "QTRtRZcb-IyF"
      },
      "source": [
        "#Importing necessary packages\n",
        "import numpy as np\n",
        "import pandas as pd\n",
        "import random\n",
        "import matplotlib.pyplot as plt\n",
        "import seaborn as sns"
      ],
      "execution_count": 1,
      "outputs": []
    },
    {
      "cell_type": "code",
      "metadata": {
        "id": "B-nvhi7XiPSO"
      },
      "source": [
        "#Add interactivity to graphs\n",
        "import ipywidgets as widgets\n",
        "from IPython import display\n",
        "from ipywidgets import interact, interactive, fixed, interact_manual"
      ],
      "execution_count": 2,
      "outputs": []
    },
    {
      "cell_type": "code",
      "metadata": {
        "id": "i5W7tuPez2l5"
      },
      "source": [
        "#Customizing data visualization styles\n",
        "\n",
        "SMALL_SIZE = 12\n",
        "MEDIUM_SIZE = 16\n",
        "BIGGER_SIZE = 20\n",
        "\n",
        "plt.rc('font', size=SMALL_SIZE)          # controls default text sizes\n",
        "plt.rc('axes', titlesize=SMALL_SIZE)     # fontsize of the axes title\n",
        "plt.rc('axes', labelsize=MEDIUM_SIZE)    # fontsize of the x and y labels\n",
        "plt.rc('xtick', labelsize=SMALL_SIZE)    # fontsize of the tick labels\n",
        "plt.rc('ytick', labelsize=MEDIUM_SIZE)   # fontsize of the tick labels\n",
        "plt.rc('legend', fontsize=SMALL_SIZE)    # legend fontsize\n",
        "plt.rc('figure', titlesize=BIGGER_SIZE)  # fontsize of the figure title\n",
        "plt.rc('axes', titlesize=BIGGER_SIZE)    # fontsize of the axes title"
      ],
      "execution_count": 3,
      "outputs": []
    },
    {
      "cell_type": "code",
      "metadata": {
        "id": "H9o6m0OhZb4-"
      },
      "source": [
        "#Customizing dark theme\n",
        "\n",
        "#Applying dark SH style\n",
        "plt.style.use(['dark_background'])\n",
        "plt.rcParams['axes.facecolor'] = (0,0,0,0)\n",
        "plt.rcParams['figure.facecolor'] = '#383838' #To match google colab native dark theme\n",
        "plt.rcParams[\"legend.frameon\"] = False\n",
        "plt.rcParams['image.cmap'] = 'viridis'\n",
        "plt.rcParams[\"legend.facecolor\"] = (0,0,0,0)\n",
        "#plt.rcParams[\"font.family\"] = 'sans-serif'\n",
        "#plt.rcParams['font.sans-serif'] = ['Open Sans', 'Source Sans Pro', 'Noto Sans']\n",
        "plt.rcParams['hist.bins'] = 50\n",
        "plt.rcParams['lines.markersize'] = 10\n",
        "plt.rcParams['axes3d.grid'] = False\n",
        "plt.rcParams['figure.subplot.hspace'] = 0.3 #default = 0.2\n",
        "\n",
        "from cycler import cycler\n",
        "\n",
        "plt.rcParams['axes.prop_cycle'] = (cycler(color=['#e74c3c', '#b86dd6', '#fca821', '#3498db', '#f1c40f', '#ffa847', '#c4ef7a', '#e195e2', '#ced9ed', '#fff29b'])\\\n",
        "                                   + cycler(linestyle=['-', '--', ':', '-.', '-', '--', ':', '-.', '-', '--']))"
      ],
      "execution_count": 4,
      "outputs": []
    },
    {
      "cell_type": "markdown",
      "metadata": {
        "id": "-iCOXc2AllJt"
      },
      "source": [
        "#Upload raw data"
      ]
    },
    {
      "cell_type": "code",
      "metadata": {
        "id": "1Z4jxJjRRPLB"
      },
      "source": [
        "#Remove previous versions of the uploaded excel file\n",
        "!rm reklamer.xlsx"
      ],
      "execution_count": null,
      "outputs": []
    },
    {
      "cell_type": "code",
      "metadata": {
        "colab": {
          "resources": {
            "http://localhost:8080/nbextensions/google.colab/files.js": {
              "data": "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",
              "ok": true,
              "headers": [
                [
                  "content-type",
                  "application/javascript"
                ]
              ],
              "status": 200,
              "status_text": "OK"
            }
          },
          "base_uri": "https://localhost:8080/",
          "height": 73
        },
        "id": "oen97ED1-rh-",
        "outputId": "9d4cd184-5dc0-4e4d-b494-aeadfa2f3c9c"
      },
      "source": [
        "#Uploading file from local drive\n",
        "from google.colab import files\n",
        "uploaded = files.upload()"
      ],
      "execution_count": 5,
      "outputs": [
        {
          "output_type": "display_data",
          "data": {
            "text/html": [
              "\n",
              "     <input type=\"file\" id=\"files-205e6e83-d269-4469-b975-4344278e99e8\" name=\"files[]\" multiple disabled\n",
              "        style=\"border:none\" />\n",
              "     <output id=\"result-205e6e83-d269-4469-b975-4344278e99e8\">\n",
              "      Upload widget is only available when the cell has been executed in the\n",
              "      current browser session. Please rerun this cell to enable.\n",
              "      </output>\n",
              "      <script src=\"/nbextensions/google.colab/files.js\"></script> "
            ],
            "text/plain": [
              "<IPython.core.display.HTML object>"
            ]
          },
          "metadata": {
            "tags": []
          }
        },
        {
          "output_type": "stream",
          "text": [
            "Saving reklamer.xlsx to reklamer.xlsx\n"
          ],
          "name": "stdout"
        }
      ]
    },
    {
      "cell_type": "code",
      "metadata": {
        "id": "03VoNwL0-3O6"
      },
      "source": [
        "#Storing dataset in a Pandas Dataframe\n",
        "import io\n",
        "df = pd.read_excel(io.BytesIO(uploaded['reklamer.xlsx']), parse_dates=True)"
      ],
      "execution_count": 6,
      "outputs": []
    },
    {
      "cell_type": "markdown",
      "metadata": {
        "id": "Cj7Z7UMzT9vR"
      },
      "source": [
        "#Data cleaning and formatting\n",
        "\n"
      ]
    },
    {
      "cell_type": "code",
      "metadata": {
        "id": "n8QH2UTIGJRj"
      },
      "source": [
        "#Dropping unnecessary columns (if needed)\n",
        "#col_ix =[0, 12, 23, 25, 29, 32, 33]\n",
        "#df = df.drop(columns=df.columns[col_ix], axis=1)"
      ],
      "execution_count": null,
      "outputs": []
    },
    {
      "cell_type": "code",
      "metadata": {
        "id": "OcZKSgb6JPkx"
      },
      "source": [
        "#Parsing dates from columns 'Production Date' and 'Best use by Date'\n",
        "df[['Production Date', 'Best Used By Date']] = df[['Production Date', 'Best Used By Date']].apply(pd.to_datetime, dayfirst=True)"
      ],
      "execution_count": 7,
      "outputs": []
    },
    {
      "cell_type": "code",
      "metadata": {
        "id": "Av479ULcMJgD",
        "colab": {
          "base_uri": "https://localhost:8080/"
        },
        "outputId": "7c5d8f1a-b49c-4e7e-b348-c25bc5492e21"
      },
      "source": [
        "#Getting the dataframe info\n",
        "df.info()"
      ],
      "execution_count": 8,
      "outputs": [
        {
          "output_type": "stream",
          "text": [
            "<class 'pandas.core.frame.DataFrame'>\n",
            "RangeIndex: 2654 entries, 0 to 2653\n",
            "Data columns (total 35 columns):\n",
            " #   Column                       Non-Null Count  Dtype         \n",
            "---  ------                       --------------  -----         \n",
            " 0   Month Description            2654 non-null   object        \n",
            " 1   Incident Date                2654 non-null   datetime64[ns]\n",
            " 2   Reason Type                  2654 non-null   object        \n",
            " 3   Reason Category              2654 non-null   object        \n",
            " 4   Reason Sub Category          2654 non-null   object        \n",
            " 5   Primary Reason               2654 non-null   object        \n",
            " 6   Sensitive Complaint Flag     2654 non-null   object        \n",
            " 7   Primary Root Cause           2654 non-null   object        \n",
            " 8   Sector                       2654 non-null   object        \n",
            " 9   Sub Sector                   2654 non-null   object        \n",
            " 10  Segment                      2654 non-null   object        \n",
            " 11  Sub Segment                  2654 non-null   object        \n",
            " 12  Product Cluster Description  2654 non-null   object        \n",
            " 13  Brand                        2654 non-null   object        \n",
            " 14  Sub Brand                    2654 non-null   object        \n",
            " 15  Product Description          2654 non-null   object        \n",
            " 16  UPC EAN Code                 2654 non-null   object        \n",
            " 17  Kraft Item Code              2654 non-null   object        \n",
            " 18  Plant Location Name          2654 non-null   object        \n",
            " 19  Production Date              2654 non-null   datetime64[ns]\n",
            " 20  Best Used By Date            2654 non-null   datetime64[ns]\n",
            " 21  Lot code                     2306 non-null   object        \n",
            " 22  Store Name                   2654 non-null   object        \n",
            " 23  Store State                  0 non-null      float64       \n",
            " 24  Consumer City                2493 non-null   object        \n",
            " 25  Consumer State               2654 non-null   object        \n",
            " 26  Consumer Country             2654 non-null   object        \n",
            " 27  Consumer Area                2654 non-null   object        \n",
            " 28  Consumer Region              2654 non-null   object        \n",
            " 29  Component                    2654 non-null   object        \n",
            " 30  Native Verbatim              2654 non-null   object        \n",
            " 31  Incident Number              2654 non-null   object        \n",
            " 32  Contact ID                   2654 non-null   object        \n",
            " 33  Column1                      2654 non-null   int64         \n",
            " 34  Weeknumber                   2654 non-null   int64         \n",
            "dtypes: datetime64[ns](3), float64(1), int64(2), object(29)\n",
            "memory usage: 725.8+ KB\n"
          ],
          "name": "stdout"
        }
      ]
    },
    {
      "cell_type": "markdown",
      "metadata": {
        "id": "Cpb-uz_SmNT7"
      },
      "source": [
        "##Data consistency and preliminary checks"
      ]
    },
    {
      "cell_type": "code",
      "metadata": {
        "colab": {
          "base_uri": "https://localhost:8080/"
        },
        "id": "yvXVGjwiVqGv",
        "outputId": "15d3b306-4fde-4bd3-d40f-e17ae70253eb"
      },
      "source": [
        "#Explore lot code variability with endswith\n",
        "df['Lot code'].apply(lambda x: str(x).endswith('-1')).value_counts(normalize=True)"
      ],
      "execution_count": null,
      "outputs": [
        {
          "output_type": "execute_result",
          "data": {
            "text/plain": [
              "True     0.752072\n",
              "False    0.247928\n",
              "Name: Lot code, dtype: float64"
            ]
          },
          "metadata": {
            "tags": []
          },
          "execution_count": 11
        }
      ]
    },
    {
      "cell_type": "code",
      "metadata": {
        "colab": {
          "base_uri": "https://localhost:8080/"
        },
        "id": "KsLmCUu1f2ZK",
        "outputId": "b2ab7ce1-eae5-4b94-adb8-c7b5bc18ebdc"
      },
      "source": [
        "#Explore Lot code variability of values through length\n",
        "df['Lot code'].str.len().value_counts(dropna=False)"
      ],
      "execution_count": null,
      "outputs": [
        {
          "output_type": "execute_result",
          "data": {
            "text/plain": [
              "12.0    2237\n",
              "NaN      348\n",
              "11.0      45\n",
              "9.0       13\n",
              "3.0        4\n",
              "15.0       2\n",
              "10.0       2\n",
              "7.0        1\n",
              "17.0       1\n",
              "8.0        1\n",
              "Name: Lot code, dtype: int64"
            ]
          },
          "metadata": {
            "tags": []
          },
          "execution_count": 10
        }
      ]
    },
    {
      "cell_type": "code",
      "metadata": {
        "colab": {
          "base_uri": "https://localhost:8080/"
        },
        "id": "Vm3SGZjhCQ5M",
        "outputId": "7445e013-1b44-4bc4-8a6b-60ba2768bf82"
      },
      "source": [
        "#Explore Lot code variability of normalized values through length\n",
        "df['Lot code'].str.len().value_counts(normalize=True, dropna=False)"
      ],
      "execution_count": null,
      "outputs": [
        {
          "output_type": "execute_result",
          "data": {
            "text/plain": [
              "12.0    0.843255\n",
              "NaN     0.131123\n",
              "11.0    0.016579\n",
              "9.0     0.004898\n",
              "3.0     0.001507\n",
              "15.0    0.000754\n",
              "10.0    0.000754\n",
              "7.0     0.000377\n",
              "17.0    0.000377\n",
              "8.0     0.000377\n",
              "Name: Lot code, dtype: float64"
            ]
          },
          "metadata": {
            "tags": []
          },
          "execution_count": 11
        }
      ]
    },
    {
      "cell_type": "markdown",
      "metadata": {
        "id": "HvLlulP7mc4q"
      },
      "source": [
        "##Custom functions to clean and format the data"
      ]
    },
    {
      "cell_type": "code",
      "metadata": {
        "id": "uGutgm7vdmmz",
        "colab": {
          "base_uri": "https://localhost:8080/"
        },
        "outputId": "6fbc352a-6abb-4973-843c-8cce5f238d23"
      },
      "source": [
        "#Create a copy of the dataframe and compute the production date and traceability\n",
        "lot_codes = df.copy()\n",
        "lot_codes = df[df['Lot code'].str.len() == 12].reset_index(drop=True)\n",
        "lot_codes.shape"
      ],
      "execution_count": null,
      "outputs": [
        {
          "output_type": "execute_result",
          "data": {
            "text/plain": [
              "(2238, 35)"
            ]
          },
          "metadata": {
            "tags": []
          },
          "execution_count": 17
        }
      ]
    },
    {
      "cell_type": "code",
      "metadata": {
        "id": "ancdG8iwELYK"
      },
      "source": [
        "#Create a function to extract information from the lot code and clean the data from erroneous lot codes\n",
        "\n",
        "def extract_lot(df):\n",
        "  \"\"\"Function that extracts information from the lot code by Line, Year, Week, Day, Shift and Machine\n",
        "  and cleans the lot code from incorrect values\"\"\"\n",
        "  \n",
        "  #Split lot code and incident date into subcategories if 'Lot code' is found in columns\n",
        "  if 'Lot code' in df.columns:\n",
        "    lot = df.copy()\n",
        "    lot = lot.assign(Line = lambda x: x['Lot code'].str[-9:-7],\n",
        "                    Year = lambda x: x['Lot code'].str[-7:-6],\n",
        "                    Week = lambda x: x['Lot code'].str[-6:-4],\n",
        "                    Day = lambda x: x['Lot code'].str[-4:-3],\n",
        "                    Shift = lambda x: x['Lot code'].str[-3:-2],\n",
        "                    Machine = lambda x: x['Lot code'].str[-1:],\n",
        "                    Incident_year = lambda x: x['Incident Date'].dt.year,\n",
        "                    Incident_week = lambda x: x['Incident Date'].dt.isocalendar().week,\n",
        "                    Incident_month = lambda x: x['Incident Date'].dt.month_name(),\n",
        "                    Incident_day = lambda x: x['Incident Date'].dt.day)\n",
        "    \n",
        "    #Creating patterns to clean the data\n",
        "    pattern_1 = '1|2|3' #==> Allow for only machine or shifts to be 1, 2 or 3\n",
        "    pattern_days = '1|2|3|4|5|6|7' #==> Allow for only days from 1 to 7.\n",
        "    pattern_week = \"|\".join([str(elem) for elem in [\"0\"+str(i) if len(str(i))==1 else str(i) for i in range(1,53)]]) #==> Allow only from weeks 1 to 52.\n",
        "    pattern_year = \"8|9|0|1\" #==> Allow for only years 2018, 2019, 2020, 2021\n",
        "\n",
        "    #Apply patterns to filter data from incorrect values\n",
        "    lot = lot[(lot['Shift'].str.contains(pattern_1, regex=True)) &\n",
        "              (lot['Machine'].str.contains(pattern_1, regex=True)) &\n",
        "              (lot['Day'].str.contains(pattern_days, regex=True)) &\n",
        "              (lot['Week'].str.contains(pattern_week, regex=True)) &\n",
        "              (lot['Year'].str.contains(pattern_year, regex=True))]\n",
        "\n",
        "    return lot\n",
        "  \n",
        "  else:\n",
        "    Print(\"Key Error: 'Lote code' not found in dataframe columns\")"
      ],
      "execution_count": null,
      "outputs": []
    },
    {
      "cell_type": "code",
      "metadata": {
        "id": "tgsXEgn0gSCY"
      },
      "source": [
        "#Extract lot code information and top lots with more complaints\n",
        "lot_df = extract_lot(df=lot_codes)\n",
        "lot_df.tail(2)"
      ],
      "execution_count": null,
      "outputs": []
    },
    {
      "cell_type": "code",
      "metadata": {
        "colab": {
          "base_uri": "https://localhost:8080/"
        },
        "id": "hJXJR54yPOvc",
        "outputId": "39f54f3b-b66c-42b6-aebd-13925c4786cd"
      },
      "source": [
        "#Testing new values for one computed column from lot code\n",
        "lot_df['Day'].value_counts(dropna=False)"
      ],
      "execution_count": null,
      "outputs": [
        {
          "output_type": "execute_result",
          "data": {
            "text/plain": [
              "4    448\n",
              "3    444\n",
              "2    433\n",
              "1    406\n",
              "5    350\n",
              "6     93\n",
              "7     36\n",
              "Name: Day, dtype: int64"
            ]
          },
          "metadata": {
            "tags": []
          },
          "execution_count": 13
        }
      ]
    },
    {
      "cell_type": "code",
      "metadata": {
        "id": "ejSijVVn8HUN"
      },
      "source": [
        "#Create a function to format data extracted from lot code function\n",
        "\n",
        "def format_lot(df):\n",
        "  \"\"\"Function that formats data extracted from lot code\"\"\"\n",
        "  \n",
        "  if 'Year' and 'Week' and 'Day' in df.columns:\n",
        "\n",
        "    #Creating a copy of the dataframe\n",
        "    lot_df = df.copy()\n",
        "\n",
        "    #Creating relationships to convert data to desired output\n",
        "    years = {'8': 2018, '9': 2019, '0': 2020, '1': 2021, '2': 2022}\n",
        "    sundays = {'7': '0'}\n",
        "    day_names = {'1':'Monday', '2':'Tuesday', '3':'Wednesday', '4':'Thursday', '5':'Friday', '6':'Saturday', '0':'Sunday'}\n",
        "    shift = {'1': 'Day', '2': 'Afternoon', '3': 'Night'}\n",
        "\n",
        "    #Transforming year from single integer to full year\n",
        "    lot_df = lot_df.assign(Year = lambda x: x['Year'].replace(years))\n",
        "    \n",
        "    #Parse lot code columns into datetime\n",
        "    lot_df = lot_df.assign(Day = lambda x: x['Day'].replace(sundays))\n",
        "    lot_df = lot_df.assign(Lot_date = lambda x: x['Year'].astype(int)*1000 + x['Week'].astype(int)*10 + x['Day'].astype(int))\n",
        "    lot_df = lot_df.assign(Lot_date = pd.to_datetime(lot_df['Lot_date'], format='%Y%W%w'))\n",
        "\n",
        "    #Calculating lot turnover (days) from production date to complaint date\n",
        "    lot_df = lot_df.assign(Lot_turnover_days = lambda x: (x['Incident Date'] - x['Lot_date']).abs())\n",
        "    lot_df = lot_df.assign(Lot_turnover_weeks = lambda x: round((x['Lot_turnover_days'].dt.days)/7, 2))\n",
        "\n",
        "    #Transforming day and shift from numbers to string representation\n",
        "    lot_df = lot_df.assign(Day = lambda x: x['Day'].replace(day_names),\n",
        "                           Shift = lambda x: x['Shift'].replace(shift))\n",
        "  \n",
        "    #Formatting columns from string to integer\n",
        "    lot_df = lot_df.assign(Week = lambda x: x['Week'].astype(int)).reset_index(drop=True)\n",
        "\n",
        "    return lot_df\n",
        "  \n",
        "  else:\n",
        "    Print(\"Key Error: 'Year, Week, Day' not found in dataframe columns\")"
      ],
      "execution_count": null,
      "outputs": []
    },
    {
      "cell_type": "code",
      "metadata": {
        "id": "-_G0thEIQbj4"
      },
      "source": [
        "#Transform and format data extracted from lot code information\n",
        "lot_df = format_lot(df=lot_df)\n",
        "lot_df.tail(2)"
      ],
      "execution_count": null,
      "outputs": []
    },
    {
      "cell_type": "code",
      "metadata": {
        "colab": {
          "base_uri": "https://localhost:8080/",
          "height": 17
        },
        "id": "KHijjM-KnOu7",
        "outputId": "a2c292b7-e7e2-47f8-ecda-49c419d1050b"
      },
      "source": [
        "#Exporting to excel into local disk\n",
        "from google.colab import files\n",
        "lot_df.to_excel('rekl_cleaned.xlsx', index=False) #==> Excluding index from file\n",
        "files.download('rekl_cleaned.xlsx')"
      ],
      "execution_count": null,
      "outputs": [
        {
          "output_type": "display_data",
          "data": {
            "application/javascript": [
              "\n",
              "    async function download(id, filename, size) {\n",
              "      if (!google.colab.kernel.accessAllowed) {\n",
              "        return;\n",
              "      }\n",
              "      const div = document.createElement('div');\n",
              "      const label = document.createElement('label');\n",
              "      label.textContent = `Downloading \"${filename}\": `;\n",
              "      div.appendChild(label);\n",
              "      const progress = document.createElement('progress');\n",
              "      progress.max = size;\n",
              "      div.appendChild(progress);\n",
              "      document.body.appendChild(div);\n",
              "\n",
              "      const buffers = [];\n",
              "      let downloaded = 0;\n",
              "\n",
              "      const channel = await google.colab.kernel.comms.open(id);\n",
              "      // Send a message to notify the kernel that we're ready.\n",
              "      channel.send({})\n",
              "\n",
              "      for await (const message of channel.messages) {\n",
              "        // Send a message to notify the kernel that we're ready.\n",
              "        channel.send({})\n",
              "        if (message.buffers) {\n",
              "          for (const buffer of message.buffers) {\n",
              "            buffers.push(buffer);\n",
              "            downloaded += buffer.byteLength;\n",
              "            progress.value = downloaded;\n",
              "          }\n",
              "        }\n",
              "      }\n",
              "      const blob = new Blob(buffers, {type: 'application/binary'});\n",
              "      const a = document.createElement('a');\n",
              "      a.href = window.URL.createObjectURL(blob);\n",
              "      a.download = filename;\n",
              "      div.appendChild(a);\n",
              "      a.click();\n",
              "      div.remove();\n",
              "    }\n",
              "  "
            ],
            "text/plain": [
              "<IPython.core.display.Javascript object>"
            ]
          },
          "metadata": {
            "tags": []
          }
        },
        {
          "output_type": "display_data",
          "data": {
            "application/javascript": [
              "download(\"download_a87660b0-9ec2-4995-b6ef-a6ff2e5335eb\", \"reklamer_lot.xlsx\", 726615)"
            ],
            "text/plain": [
              "<IPython.core.display.Javascript object>"
            ]
          },
          "metadata": {
            "tags": []
          }
        }
      ]
    },
    {
      "cell_type": "markdown",
      "metadata": {
        "id": "5kGXFuZKpZGh"
      },
      "source": [
        "###Consistenty checks from function calls"
      ]
    },
    {
      "cell_type": "code",
      "metadata": {
        "id": "H7Sv-d0Tdf-b"
      },
      "source": [
        "lot_df[lot_df['Brand']=='JENSEN 5']['Lot_turnover_weeks'].describe()"
      ],
      "execution_count": null,
      "outputs": []
    },
    {
      "cell_type": "code",
      "metadata": {
        "id": "wkZ2B4dltmbo"
      },
      "source": [
        "lot_df['Lot_date'][-1:].dt.isocalendar().week"
      ],
      "execution_count": null,
      "outputs": []
    },
    {
      "cell_type": "code",
      "metadata": {
        "id": "SNBeLR1JC_lx"
      },
      "source": [
        "lot_df.info()"
      ],
      "execution_count": null,
      "outputs": []
    },
    {
      "cell_type": "code",
      "metadata": {
        "id": "Xk51yuOn7Rgm"
      },
      "source": [
        "lot_df[lot_df['Reason Sub Category']=='FAT BLOOM']['Reason Category'].value_counts(dropna=False)"
      ],
      "execution_count": null,
      "outputs": []
    },
    {
      "cell_type": "code",
      "metadata": {
        "id": "2LHrTf9wmpXz"
      },
      "source": [
        "lot_df['Primary Root Cause'].value_counts(dropna=False)"
      ],
      "execution_count": null,
      "outputs": []
    },
    {
      "cell_type": "code",
      "metadata": {
        "colab": {
          "base_uri": "https://localhost:8080/"
        },
        "id": "lUQoFnN4ZnKz",
        "outputId": "650decc0-b2e4-419e-e64a-3371fc9b31f3"
      },
      "source": [
        "lot_df.columns"
      ],
      "execution_count": null,
      "outputs": [
        {
          "output_type": "execute_result",
          "data": {
            "text/plain": [
              "Index(['Month Description', 'Incident Date', 'Reason Type', 'Reason Category',\n",
              "       'Reason Sub Category', 'Primary Reason', 'Sensitive Complaint Flag',\n",
              "       'Primary Root Cause', 'Sector', 'Sub Sector', 'Segment', 'Sub Segment',\n",
              "       'Product Cluster Description', 'Brand', 'Sub Brand',\n",
              "       'Product Description', 'UPC EAN Code', 'Kraft Item Code',\n",
              "       'Plant Location Name', 'Production Date', 'Best Used By Date',\n",
              "       'Lot code', 'Store Name', 'Store State', 'Consumer City',\n",
              "       'Consumer State', 'Consumer Country', 'Consumer Area',\n",
              "       'Consumer Region', 'Component', 'Native Verbatim', 'Incident Number',\n",
              "       'Contact ID', 'Column1', 'Weeknumber', 'Line', 'Year', 'Week', 'Day',\n",
              "       'Shift', 'Machine', 'Incident_year', 'Incident_week', 'Incident_month',\n",
              "       'Incident_day', 'Lot_date', 'Lot_turnover_days', 'Lot_turnover_weeks'],\n",
              "      dtype='object')"
            ]
          },
          "metadata": {
            "tags": []
          },
          "execution_count": 19
        }
      ]
    },
    {
      "cell_type": "code",
      "metadata": {
        "id": "QMqzJqlwbOep"
      },
      "source": [
        "lot_df['Segment'].value_counts(dropna=False)"
      ],
      "execution_count": null,
      "outputs": []
    },
    {
      "cell_type": "markdown",
      "metadata": {
        "id": "qj70Hg7-WiuA"
      },
      "source": [
        "#Exploratory Data Analysis"
      ]
    },
    {
      "cell_type": "markdown",
      "metadata": {
        "id": "Ifu1UK2WqoWY"
      },
      "source": [
        "##Upload cleaned data"
      ]
    },
    {
      "cell_type": "code",
      "metadata": {
        "id": "lVp2g_2Yqx8g"
      },
      "source": [
        "#Remove previous versions of the uploaded excel file\n",
        "!rm rekl_cleaned.xlsx"
      ],
      "execution_count": null,
      "outputs": []
    },
    {
      "cell_type": "code",
      "metadata": {
        "id": "qQQuW9-Yqx8o",
        "colab": {
          "resources": {
            "http://localhost:8080/nbextensions/google.colab/files.js": {
              "data": "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",
              "ok": true,
              "headers": [
                [
                  "content-type",
                  "application/javascript"
                ]
              ],
              "status": 200,
              "status_text": "OK"
            }
          },
          "base_uri": "https://localhost:8080/",
          "height": 73
        },
        "outputId": "da7a56d1-f77b-4383-e76f-8c932d252b62"
      },
      "source": [
        "#Uploading file from local drive\n",
        "from google.colab import files\n",
        "uploaded1 = files.upload()"
      ],
      "execution_count": 9,
      "outputs": [
        {
          "output_type": "display_data",
          "data": {
            "text/html": [
              "\n",
              "     <input type=\"file\" id=\"files-23f97674-391a-48bb-a61e-84093686e67c\" name=\"files[]\" multiple disabled\n",
              "        style=\"border:none\" />\n",
              "     <output id=\"result-23f97674-391a-48bb-a61e-84093686e67c\">\n",
              "      Upload widget is only available when the cell has been executed in the\n",
              "      current browser session. Please rerun this cell to enable.\n",
              "      </output>\n",
              "      <script src=\"/nbextensions/google.colab/files.js\"></script> "
            ],
            "text/plain": [
              "<IPython.core.display.HTML object>"
            ]
          },
          "metadata": {
            "tags": []
          }
        },
        {
          "output_type": "stream",
          "text": [
            "Saving rekl_cleaned.xlsx to rekl_cleaned.xlsx\n"
          ],
          "name": "stdout"
        }
      ]
    },
    {
      "cell_type": "code",
      "metadata": {
        "id": "mZIc-1qZqx8o"
      },
      "source": [
        "#Storing dataset in a Pandas Dataframe\n",
        "import io\n",
        "lot_df = pd.read_excel(io.BytesIO(uploaded1['rekl_cleaned.xlsx']), parse_dates=True)"
      ],
      "execution_count": 10,
      "outputs": []
    },
    {
      "cell_type": "code",
      "metadata": {
        "colab": {
          "base_uri": "https://localhost:8080/"
        },
        "id": "kYbRQfX0zeM7",
        "outputId": "86439e09-ab42-4b94-9c89-cb3badcfa1b2"
      },
      "source": [
        "lot_df.info()"
      ],
      "execution_count": 11,
      "outputs": [
        {
          "output_type": "stream",
          "text": [
            "<class 'pandas.core.frame.DataFrame'>\n",
            "RangeIndex: 2210 entries, 0 to 2209\n",
            "Data columns (total 40 columns):\n",
            " #   Column                    Non-Null Count  Dtype         \n",
            "---  ------                    --------------  -----         \n",
            " 0   Incident Date             2210 non-null   datetime64[ns]\n",
            " 1   Reason Category           2210 non-null   object        \n",
            " 2   Reason Sub Category       2210 non-null   object        \n",
            " 3   Primary Reason            2210 non-null   object        \n",
            " 4   Sensitive Complaint Flag  2210 non-null   object        \n",
            " 5   Primary Root Cause        2210 non-null   object        \n",
            " 6   Sub Sector                2210 non-null   object        \n",
            " 7   Brand                     2210 non-null   object        \n",
            " 8   Sub Brand                 2210 non-null   object        \n",
            " 9   Product Description       2210 non-null   object        \n",
            " 10  Plant Location Name       2210 non-null   object        \n",
            " 11  Production Date           2210 non-null   object        \n",
            " 12  Best Used By Date         2210 non-null   datetime64[ns]\n",
            " 13  Lot code                  2210 non-null   object        \n",
            " 14  Store Name                2210 non-null   object        \n",
            " 15  Store State               0 non-null      float64       \n",
            " 16  Consumer City             2121 non-null   object        \n",
            " 17  Consumer State            2210 non-null   object        \n",
            " 18  Consumer Country          2210 non-null   object        \n",
            " 19  Consumer Area             2210 non-null   object        \n",
            " 20  Consumer Region           2210 non-null   object        \n",
            " 21  Component                 2210 non-null   object        \n",
            " 22  Native Verbatim           2210 non-null   object        \n",
            " 23  Incident Number           2210 non-null   object        \n",
            " 24  Contact ID                2210 non-null   object        \n",
            " 25  Column1                   2210 non-null   int64         \n",
            " 26  Weeknumber                2210 non-null   int64         \n",
            " 27  Line                      2210 non-null   int64         \n",
            " 28  Year                      2210 non-null   int64         \n",
            " 29  Week                      2210 non-null   int64         \n",
            " 30  Day                       2210 non-null   object        \n",
            " 31  Shift                     2210 non-null   object        \n",
            " 32  Machine                   2210 non-null   int64         \n",
            " 33  Incident_year             2210 non-null   int64         \n",
            " 34  Incident_week             2210 non-null   int64         \n",
            " 35  Incident_month            2210 non-null   object        \n",
            " 36  Incident_day              2210 non-null   int64         \n",
            " 37  Lot_date                  2210 non-null   datetime64[ns]\n",
            " 38  Lot_turnover_days         2210 non-null   int64         \n",
            " 39  Lot_turnover_weeks        2210 non-null   float64       \n",
            "dtypes: datetime64[ns](3), float64(2), int64(10), object(25)\n",
            "memory usage: 690.8+ KB\n"
          ],
          "name": "stdout"
        }
      ]
    },
    {
      "cell_type": "markdown",
      "metadata": {
        "id": "VZzy1t2E2siD"
      },
      "source": [
        "##Function to plot the starting point of complaints"
      ]
    },
    {
      "cell_type": "code",
      "metadata": {
        "id": "KNTga4ZLE9vp"
      },
      "source": [
        "#Creating a function to plot the starting point of complaints\n",
        "\n",
        "def plot_lot(year, brand):\n",
        "  \"\"\"Custom function to plot the starting point of complaints tracked from the\n",
        "  production lots and select visualizations according to Year and Line categories\"\"\"\n",
        "  \n",
        "  #Creating a slice and copy of input dataframe\n",
        "  shifts_df = lot_df[['Year', 'Week', 'Day', 'Shift', 'Machine', 'Brand', 'Sub Brand', 'Incident Date']].copy()\n",
        "  shifts_df = shifts_df[(shifts_df['Year']==year) & (shifts_df['Brand']==brand)]\n",
        "  \n",
        "  print(shifts_df['Incident Date'].count())\n",
        "  #Transforming dataframes for visualizations\n",
        "  weeks_df = shifts_df.groupby(['Year', 'Week'])['Incident Date'].count().reset_index(name='Complaints')\n",
        "  weeks_df = weeks_df.assign(Category = lambda x: np.where(x['Complaints']<12, 'Low', np.where(x['Complaints']<33, 'Medium', 'Large')))\n",
        "    \n",
        "  #Creating constants for plotting\n",
        "  week_names = ['Monday', 'Tuesday', 'Wednesday', 'Thursday', 'Friday', 'Saturday', 'Sunday']\n",
        "  shift_order = ['Day', 'Afternoon', 'Night']\n",
        "  hue_comp = ['Low', 'Medium', 'Large']\n",
        "  num_mach = [1, 2, 3]\n",
        "  siblred = ['#C0C0C0', '#4374B3', '#FF0B04'] #=>#RdYlGn_r | nipy_spectral\n",
        "\n",
        "  #Create four subplots and unpack the output array immediately\n",
        "  fig, ((ax1, ax2), (ax3, ax4)) = plt.subplots(nrows=2, ncols=2, figsize=(20,10))\n",
        "\n",
        "  #Set title for the figure\n",
        "  fig.suptitle(\"Complaints tracking to starting point\", fontsize=24)\n",
        "\n",
        "  #Accessing axes objects and plotting\n",
        "  sns.lineplot(x='Week', y='Complaints', data=weeks_df, estimator='sum', ci=False, alpha=0.5, ax=ax1)\n",
        "  sns.scatterplot(x='Week', y='Complaints', hue='Category', hue_order=hue_comp, data=weeks_df, palette=siblred, ax=ax1)\n",
        "  sns.countplot(x='Day', data=shifts_df, order=week_names, ax=ax2)\n",
        "  sns.countplot(x='Shift', data=shifts_df, order=shift_order, ax=ax3)\n",
        "  sns.countplot(x='Machine', data=shifts_df, order=num_mach, ax=ax4)\n",
        "  \n",
        "  #Customizing axes labels and titles for first axes figure\n",
        "  ax1.set_xlabel('Week')\n",
        "  ax1.set_ylabel('Complaints')\n",
        "  ax1.set_title('By Week')\n",
        "  ax1.xaxis.set_ticks(np.arange(1, 52, 2))\n",
        "\n",
        "  #Customizing axes labels and titles for second axes figure\n",
        "  ax2.set_xlabel('Days of Week')\n",
        "  ax2.set_ylabel('Complaints')\n",
        "  ax2.set_title('By Day of the Week')\n",
        "\n",
        "  #Customizing axes labels and titles for third axes figure\n",
        "  ax3.set_xlabel('Shifts')\n",
        "  ax3.set_ylabel('Complaints')\n",
        "  ax3.set_title('By Shift')\n",
        "\n",
        "  #Customizing axes labels and titles for fourth axes figure\n",
        "  ax4.set_xlabel('Machine')\n",
        "  ax4.set_ylabel('Complaints')\n",
        "  ax4.set_title('By Machine')\n",
        "\n",
        "  #Prevent from axis to colliding or overlaping one another.\n",
        "  fig.tight_layout()\n",
        "  fig.subplots_adjust(top=0.88)"
      ],
      "execution_count": 12,
      "outputs": []
    },
    {
      "cell_type": "markdown",
      "metadata": {
        "id": "1OLEm1rSqj0W"
      },
      "source": [
        "##Where are the starting points of our complaints?"
      ]
    },
    {
      "cell_type": "code",
      "metadata": {
        "id": "FctMdoW3OBFy",
        "colab": {
          "base_uri": "https://localhost:8080/",
          "height": 798,
          "referenced_widgets": [
            "b0265cb0236b48f78e3c0fff9dde018b",
            "418cd0deae17450a9139f87a8f1b4fe1",
            "39d7b180911b4df380c8004294fe958d",
            "f5ccda7cd0e04812aa83406548f1cbd8",
            "1d7d452a05de4bb3a3a05aa84756b82a",
            "9744ae57cf254dbe8bbbad129e5e2fe7",
            "a191f324ce7d43c6aa6c511f80870cb7",
            "ec9964f0e2d040a8ba835090b6a1a400",
            "5f10c603f8494870ad94fe983bcd9820",
            "0a3cb373dbe445deb36a96a6ac6decab"
          ]
        },
        "outputId": "2e332e50-0ffb-462c-c0ba-2e4b8355376d"
      },
      "source": [
        "#Generating widgets options\n",
        "yr = [2020, 2021]\n",
        "lines = list(lot_df['Brand'].unique())\n",
        "\n",
        "#Plotting Quality Complaints with interactive widgets\n",
        "interact(plot_lot, brand=widgets.Dropdown(options=lines, value=lines[0], description='Line', disabled=False),\n",
        "         year=widgets.Dropdown(options=yr, value=yr[0], description='Year', disabled=False))\n",
        "plt.show()"
      ],
      "execution_count": 14,
      "outputs": [
        {
          "output_type": "display_data",
          "data": {
            "application/vnd.jupyter.widget-view+json": {
              "model_id": "b0265cb0236b48f78e3c0fff9dde018b",
              "version_minor": 0,
              "version_major": 2
            },
            "text/plain": [
              "interactive(children=(Dropdown(description='Year', options=(2020, 2021), value=2020), Dropdown(description='Li…"
            ]
          },
          "metadata": {
            "tags": []
          }
        }
      ]
    },
    {
      "cell_type": "markdown",
      "metadata": {
        "id": "JR0jrss1623_"
      },
      "source": [
        "##Function to plot the products and categories"
      ]
    },
    {
      "cell_type": "code",
      "metadata": {
        "id": "iNAB_MyY3SiT"
      },
      "source": [
        "#Creating a function to plot the values\n",
        "\n",
        "def plot_products(year, brand, category, top_num):\n",
        "  \"\"\"Custom function to plot the worst products and select different visualizations\n",
        "  according to Year, Brand and Number of products\"\"\"\n",
        "  \n",
        "  #Creating a slice and copy of input dataframe\n",
        "  brand_df = lot_df[['Year', 'Brand', 'Sub Brand', 'Incident Date', 'Lot_date', 'Lot_turnover_weeks', 'Reason Category', 'Consumer Country', 'Primary Root Cause']].copy()\n",
        "  brand_df = brand_df[(brand_df['Year']==year) & (brand_df['Brand']==brand) & (brand_df['Reason Category']==category)]\n",
        "  \n",
        "  print(brand_df['Brand'].count())\n",
        "  #Transforming dataframes for visualizations\n",
        "  sku_df = brand_df.groupby(['Sub Brand'])['Reason Category'].count().reset_index(name='Complaints').sort_values(by='Complaints', ascending=False)\n",
        "  root_df = brand_df.groupby(['Primary Root Cause'])['Reason Category'].count().reset_index(name='Complaints').sort_values(by='Complaints', ascending=False)\n",
        "  turnover_df =  brand_df.groupby(['Sub Brand'])['Lot_turnover_weeks'].mean().reset_index(name='Weeks').sort_values(by='Weeks', ascending=False)\n",
        "  country_df = brand_df.groupby(['Consumer Country'])['Reason Category'].count().reset_index(name='Complaints').sort_values(by='Complaints', ascending=False)\n",
        "\n",
        "  #Creating constants for plotting\n",
        "  week_names = ['Monday', 'Tuesday', 'Wednesday', 'Thursday', 'Friday', 'Saturday', 'Sunday']\n",
        "\n",
        "  #Create four subplots and unpack the output array immediately\n",
        "  fig, ((ax1, ax2), (ax3, ax4)) = plt.subplots(nrows=2, ncols=2, figsize=(20,10))\n",
        "\n",
        "  #Set title for the figure\n",
        "  fig.suptitle(f\"Top {top_num} Complaints in {brand} for {year}\", fontsize=24)\n",
        "\n",
        "  #Accessing axes objects and plotting\n",
        "  sns.barplot(x='Complaints', y='Sub Brand', data=sku_df[:top_num], ci=False, ax=ax1)\n",
        "  sns.barplot(x='Complaints', y='Primary Root Cause', data=root_df[:top_num], ci=False, ax=ax2)\n",
        "  sns.barplot(x='Weeks', y='Sub Brand', data=turnover_df[:top_num], ci=False, ax=ax3)\n",
        "  sns.barplot(x='Complaints', y='Consumer Country', data=country_df[:top_num], ci=False, ax=ax4)\n",
        "    \n",
        "  #Customizing axes labels and titles for first axes figure\n",
        "  ax1.set_xlabel('Complaints')\n",
        "  ax1.set_ylabel('Products')\n",
        "  ax1.set_title('By Products')\n",
        "  #ax1.xaxis.set_ticks(np.arange(1, 52, 2))\n",
        "\n",
        "  #Customizing axes labels and titles for second axes figure\n",
        "  ax2.set_xlabel('Complaints')\n",
        "  ax2.set_ylabel('Primary Root Cause')\n",
        "  ax2.set_title('By Root Cause')\n",
        "\n",
        "  #Customizing axes labels and titles for third axes figure\n",
        "  ax3.set_xlabel('Weeks')\n",
        "  ax3.set_ylabel('Products')\n",
        "  ax3.set_title('By Turnover Time')\n",
        "\n",
        "  #Customizing axes labels and titles for fourth axes figure\n",
        "  ax4.set_xlabel('Complaints')\n",
        "  ax4.set_ylabel('Country')\n",
        "  ax4.set_title('By Country')\n",
        "\n",
        "  #Prevent from axis to colliding or overlaping one another.\n",
        "  fig.tight_layout()\n",
        "  fig.subplots_adjust(top=0.88)"
      ],
      "execution_count": 15,
      "outputs": []
    },
    {
      "cell_type": "markdown",
      "metadata": {
        "id": "NKBCu64AOH9m"
      },
      "source": [
        "## What are the top causes for our complaints?"
      ]
    },
    {
      "cell_type": "code",
      "metadata": {
        "id": "XisAoBNRBlf3",
        "colab": {
          "base_uri": "https://localhost:8080/",
          "height": 862,
          "referenced_widgets": [
            "e619e24b9e4940b9a5581959c59802a8",
            "53d97018112c437c89765a3546d4fbf9",
            "2c7d298141174c4880008b4d71ca7eef",
            "510b30f25feb42d180ac841a93c10bc2",
            "f49eb3807dfb4880ade6c01ea5ddd34c",
            "1c24eec60f7b4d16a30d3888f3791b5c",
            "9d339949b56e41469bebdcd0a7882d49",
            "6e1f23fcf4084d85aca191d26a21f4c2",
            "713e0be467e944f5adf6731d9b3b1042",
            "fae7991173da408497df72d35f3f05fc",
            "b965b9b451284271bfb1e58e16924718",
            "414faf5f976d4c6e8920035aaeaa9408",
            "ebb78968e62e4a38aa12b40d49bfa9f1",
            "26ac0f8f6d954f2891fa9cf85d2e31e0",
            "bcc2d220ad5740929796ec5212aabdf4",
            "ec269ad60f784a7993ca4ff07dbaf39f"
          ]
        },
        "outputId": "1a28a044-6567-418b-f046-d311cb1f0f2e"
      },
      "source": [
        "#Generating widgets options\n",
        "yr = [2020]\n",
        "lines = list(lot_df['Brand'].unique())\n",
        "cat = ['APPEARANCE', 'FOREIGN MATERIAL', 'INFESTATION', 'PACKAGE QUANTITY', 'PACKAGE QUALITY', 'PRODUCT QUANTITY', 'TASTE', 'TEXTURE']\n",
        "\n",
        "#Plotting Complaints with interactive widgets\n",
        "interact(plot_products, brand=widgets.Dropdown(options=lines, value=lines[0], description='Line', disabled=False),\n",
        "         year=widgets.Dropdown(options=yr, value=yr[0], description='Year', disabled=False),\n",
        "         category=widgets.Dropdown(options=cat, value=cat[0], description='Categories', disabled=False),\n",
        "         top_num=widgets.IntSlider(value=5, min=1, max=10, step=1, description='Top', disabled=False))\n",
        "plt.show()"
      ],
      "execution_count": 16,
      "outputs": [
        {
          "output_type": "display_data",
          "data": {
            "application/vnd.jupyter.widget-view+json": {
              "model_id": "e619e24b9e4940b9a5581959c59802a8",
              "version_minor": 0,
              "version_major": 2
            },
            "text/plain": [
              "interactive(children=(Dropdown(description='Year', options=(2020,), value=2020), Dropdown(description='Line', …"
            ]
          },
          "metadata": {
            "tags": []
          }
        }
      ]
    },
    {
      "cell_type": "code",
      "metadata": {
        "id": "r5ll_3CP2dyV"
      },
      "source": [
        "pip freeze"
      ],
      "execution_count": null,
      "outputs": []
    }
  ]
}