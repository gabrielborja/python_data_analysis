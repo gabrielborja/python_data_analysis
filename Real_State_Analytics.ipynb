{
  "nbformat": 4,
  "nbformat_minor": 0,
  "metadata": {
    "colab": {
      "name": "Real State Analytics.ipynb",
      "provenance": [],
      "authorship_tag": "ABX9TyOfQMxrSOLlBLsD0AUeLr41",
      "include_colab_link": true
    },
    "kernelspec": {
      "name": "python3",
      "display_name": "Python 3"
    },
    "language_info": {
      "name": "python"
    }
  },
  "cells": [
    {
      "cell_type": "markdown",
      "metadata": {
        "id": "view-in-github",
        "colab_type": "text"
      },
      "source": [
        "<a href=\"https://colab.research.google.com/github/gabrielborja/python_data_analysis/blob/main/Real_State_Analytics.ipynb\" target=\"_parent\"><img src=\"https://colab.research.google.com/assets/colab-badge.svg\" alt=\"Open In Colab\"/></a>"
      ]
    },
    {
      "cell_type": "markdown",
      "metadata": {
        "id": "eTZwpRZNRhGY"
      },
      "source": [
        "#Real State Analytics"
      ]
    },
    {
      "cell_type": "markdown",
      "metadata": {
        "id": "urSYFOWesvzU"
      },
      "source": [
        "Real state data from 1 bedroom apartments for sale in 'La Carolina' in Quito - Ecuador can be obtained from the following link [here](https://www.properati.com.ec/s/la-carolina/departamento/venta/m2:60-70_habitaciones:1/?sort=published_on_desc)"
      ]
    },
    {
      "cell_type": "markdown",
      "metadata": {
        "id": "sgzkv1LwjLIL"
      },
      "source": [
        "## Uploading packages and data"
      ]
    },
    {
      "cell_type": "code",
      "metadata": {
        "id": "QTRtRZcb-IyF"
      },
      "source": [
        "import requests\n",
        "import pprint\n",
        "from bs4 import BeautifulSoup as bs"
      ],
      "execution_count": 1,
      "outputs": []
    },
    {
      "cell_type": "code",
      "metadata": {
        "id": "5Smuv4H2D4s9"
      },
      "source": [
        "#Create empty lists to store data\n",
        "d1_names = []\n",
        "d1_prices = []\n",
        "d1_rooms = []\n",
        "d1_bathrooms = []\n",
        "d1_sqr_meters = []\n",
        "d1_seller_names = []\n",
        "d1_times = []"
      ],
      "execution_count": 2,
      "outputs": []
    },
    {
      "cell_type": "code",
      "metadata": {
        "id": "1wXsgb8cJZqF"
      },
      "source": [
        "#class requests.Response\n",
        "#Response.elapsed, Response.encoding, Response.headers, Response.json, Response.status_code, Response.text, Response.url"
      ],
      "execution_count": null,
      "outputs": []
    },
    {
      "cell_type": "code",
      "metadata": {
        "colab": {
          "base_uri": "https://localhost:8080/"
        },
        "id": "E9IfmHJAJZAx",
        "outputId": "f30d3f16-0ef4-411d-b7d2-05f021a54ac5"
      },
      "source": [
        "#Request data from URL\n",
        "url = 'https://www.properati.com.ec/s/la-carolina/departamento/venta/m2:60-70_habitaciones:1/?sort=published_on_desc'\n",
        "\n",
        "response = requests.get(url)\n",
        "soup = bs(response.text, 'html.parser')\n",
        "\n",
        "print(response)"
      ],
      "execution_count": 15,
      "outputs": [
        {
          "output_type": "stream",
          "text": [
            "<Response [200]>\n"
          ],
          "name": "stdout"
        }
      ]
    },
    {
      "cell_type": "code",
      "metadata": {
        "colab": {
          "base_uri": "https://localhost:8080/"
        },
        "id": "tQNwKkbQS7aT",
        "outputId": "3f5be057-55b4-45dd-a8df-ff55683e596c"
      },
      "source": [
        "#Print first 200 characters from the HTML\n",
        "pprint.pprint(response.text[:200])"
      ],
      "execution_count": 16,
      "outputs": [
        {
          "output_type": "stream",
          "text": [
            "('<!DOCTYPE html><html lang=\"es-EC\"><head><style data-styled=\"cVrwCh hPeyFD '\n",
            " 'jYjReO gnhday gpVkLR dxpaVS bthhka czzzpz bkRiDO kuucCe eMNdyn dvSwZS bKXQnq '\n",
            " 'SUNlS bNHCyt dsYucZ jUvxaS fRtNaN gVFMpO epxrlA c')\n"
          ],
          "name": "stdout"
        }
      ]
    },
    {
      "cell_type": "code",
      "metadata": {
        "colab": {
          "base_uri": "https://localhost:8080/"
        },
        "id": "RCa3W3lZJ4iG",
        "outputId": "bbdecbfb-4214-4f8c-ad42-1e79fc368607"
      },
      "source": [
        "#Print soup dtype\n",
        "type(soup)"
      ],
      "execution_count": 17,
      "outputs": [
        {
          "output_type": "execute_result",
          "data": {
            "text/plain": [
              "bs4.BeautifulSoup"
            ]
          },
          "metadata": {
            "tags": []
          },
          "execution_count": 17
        }
      ]
    },
    {
      "cell_type": "code",
      "metadata": {
        "colab": {
          "base_uri": "https://localhost:8080/"
        },
        "id": "Y-nfXCEy7F-W",
        "outputId": "c2b53b84-9f9e-454a-aa46-6d47773ddd17"
      },
      "source": [
        "#Test strategies for extracting data\n",
        "test_1 = [i['datetime'] for i in soup.find_all('time')]\n",
        "test_1"
      ],
      "execution_count": 67,
      "outputs": [
        {
          "output_type": "execute_result",
          "data": {
            "text/plain": [
              "['2021-06-24T00:00:00.000Z',\n",
              " '2021-06-18T00:00:00.000Z',\n",
              " '2021-06-18T00:00:00.000Z',\n",
              " '2021-06-16T00:00:00.000Z',\n",
              " '2021-06-15T00:00:00.000Z',\n",
              " '2021-06-10T00:00:00.000Z',\n",
              " '2021-06-01T00:00:00.000Z',\n",
              " '2021-05-31T00:00:00.000Z',\n",
              " '2021-05-31T00:00:00.000Z',\n",
              " '2021-05-31T00:00:00.000Z',\n",
              " '2021-05-20T00:00:00.000Z',\n",
              " '2021-05-18T00:00:00.000Z',\n",
              " '2021-05-12T00:00:00.000Z',\n",
              " '2021-05-05T00:00:00.000Z',\n",
              " '2021-05-04T00:00:00.000Z',\n",
              " '2021-05-03T00:00:00.000Z',\n",
              " '2021-05-03T00:00:00.000Z',\n",
              " '2021-04-27T00:00:00.000Z',\n",
              " '2021-04-26T00:00:00.000Z',\n",
              " '2021-04-26T00:00:00.000Z',\n",
              " '2021-04-16T00:00:00.000Z',\n",
              " '2021-04-01T00:00:00.000Z',\n",
              " '2021-03-29T00:00:00.000Z',\n",
              " '2021-03-28T00:00:00.000Z',\n",
              " '2021-03-19T00:00:00.000Z',\n",
              " '2021-03-19T00:00:00.000Z',\n",
              " '2021-03-16T00:00:00.000Z',\n",
              " '2021-03-04T00:00:00.000Z',\n",
              " '2021-02-26T00:00:00.000Z',\n",
              " '2021-02-24T00:00:00.000Z']"
            ]
          },
          "metadata": {
            "tags": []
          },
          "execution_count": 67
        }
      ]
    },
    {
      "cell_type": "code",
      "metadata": {
        "colab": {
          "base_uri": "https://localhost:8080/"
        },
        "id": "pON3SOQlUTHX",
        "outputId": "3423fae7-96c2-4ff5-adab-ef0af9e2bee7"
      },
      "source": [
        "#Find the header\n",
        "soup.find('h1')"
      ],
      "execution_count": 40,
      "outputs": [
        {
          "output_type": "execute_result",
          "data": {
            "text/plain": [
              "<h1 class=\"StyledTitle-mffpuc-0 efbvbW\">Departamentos en Venta en La Carolina, de 1 habitación, 60m² a 70m² </h1>"
            ]
          },
          "metadata": {
            "tags": []
          },
          "execution_count": 40
        }
      ]
    },
    {
      "cell_type": "code",
      "metadata": {
        "colab": {
          "base_uri": "https://localhost:8080/",
          "height": 35
        },
        "id": "5f_iD6sEUclS",
        "outputId": "1dd0984d-de7b-4ddb-feaf-0e5e28fcc9d5"
      },
      "source": [
        "#Find the text inside the header\n",
        "soup.find('h1').text"
      ],
      "execution_count": 41,
      "outputs": [
        {
          "output_type": "execute_result",
          "data": {
            "application/vnd.google.colaboratory.intrinsic+json": {
              "type": "string"
            },
            "text/plain": [
              "'Departamentos en Venta en La Carolina, de 1 habitación, 60m² a 70m² '"
            ]
          },
          "metadata": {
            "tags": []
          },
          "execution_count": 41
        }
      ]
    },
    {
      "cell_type": "code",
      "metadata": {
        "id": "SfyhBcKYK09b"
      },
      "source": [
        "#Extract real state data from BeautifulSoup object\n",
        "d1_names = [i.text for i in soup.find_all(class_ ='StyledTitle-n9541a-4 bwJAej')]\n",
        "d1_prices = [i.text for i in soup.find_all(class_ ='StyledPrice-sc-1wixp9h-0 bZCCaW')]\n",
        "d1_rooms = [test_1 = [i.text for i in soup.find_all('span') if 'habitación' in i.text]]\n",
        "d1_bathrooms = [i.text for i in soup.find_all('span') if 'baño' in i.text]\n",
        "d1_sqr_meters = [i.text for i in soup.find_all('span') if 'm²' in i.text]\n",
        "d1_seller_names = [i.text for i in soup.find_all(class_ = 'seller-name')]\n",
        "d1_times = [i['datetime'] for i in soup.find_all('time')]"
      ],
      "execution_count": null,
      "outputs": []
    },
    {
      "cell_type": "markdown",
      "metadata": {
        "id": "tqw9KPTaMUqA"
      },
      "source": [
        "##Data Cleaning"
      ]
    },
    {
      "cell_type": "code",
      "metadata": {
        "id": "bEZ1_KyKMXNw"
      },
      "source": [
        "#Importing necessary packages\n",
        "import numpy as np\n",
        "import pandas as pd"
      ],
      "execution_count": 55,
      "outputs": []
    },
    {
      "cell_type": "code",
      "metadata": {
        "id": "vSOggGBTT1iG"
      },
      "source": [
        "#Remove previous versions of the uploaded file\n",
        "!rm GlobalLandTemperaturesByCountry.csv"
      ],
      "execution_count": null,
      "outputs": []
    },
    {
      "cell_type": "code",
      "metadata": {
        "id": "oen97ED1-rh-"
      },
      "source": [
        "#Uploading file from local drive\n",
        "from google.colab import files\n",
        "uploaded1 = files.upload()"
      ],
      "execution_count": null,
      "outputs": []
    },
    {
      "cell_type": "code",
      "metadata": {
        "id": "03VoNwL0-3O6"
      },
      "source": [
        "#Storing dataset in a Pandas Dataframe\n",
        "import io\n",
        "df1_dep = pd.read_csv(io.BytesIO(uploaded1['GlobalLandTemperaturesByCountry.csv']))"
      ],
      "execution_count": null,
      "outputs": []
    },
    {
      "cell_type": "code",
      "metadata": {
        "id": "6wPknHC-JSRB"
      },
      "source": [
        "#Checking the dataframe information\n",
        "df1_co.info()"
      ],
      "execution_count": null,
      "outputs": []
    },
    {
      "cell_type": "markdown",
      "metadata": {
        "id": "B6KXezvl3NYT"
      },
      "source": [
        "##Data Visualization"
      ]
    },
    {
      "cell_type": "code",
      "metadata": {
        "id": "XvLR8_0R3PuK"
      },
      "source": [
        "#Plotly --upgrade\n",
        "!pip install plotly --upgrade"
      ],
      "execution_count": null,
      "outputs": []
    },
    {
      "cell_type": "code",
      "metadata": {
        "id": "Co-L_mgA3TgY"
      },
      "source": [
        "#Importing necessary packages\n",
        "import matplotlib.pyplot as plt\n",
        "import plotly.express as px"
      ],
      "execution_count": null,
      "outputs": []
    }
  ]
}