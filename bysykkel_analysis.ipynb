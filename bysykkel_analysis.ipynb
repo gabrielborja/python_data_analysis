{
  "nbformat": 4,
  "nbformat_minor": 0,
  "metadata": {
    "colab": {
      "name": "bysykkel_analysis.ipynb",
      "provenance": [],
      "collapsed_sections": [
        "sgzkv1LwjLIL",
        "nFhbxv-B6dN7",
        "c8cFTBBCngUc",
        "Tbg_Y30tVHIR",
        "pQNqlam8VRBB",
        "sXmSwrs_5ORx",
        "vbkkRr6AZ5BT",
        "Gcxu3vFN5Y_x",
        "mw77R1OZqoni",
        "EQ96RybtclrJ",
        "_2ffmzfn5j1P",
        "ewlYx-sRZeTF"
      ],
      "authorship_tag": "ABX9TyNz6HfwXsXp9DvhuYdcAHrT",
      "include_colab_link": true
    },
    "kernelspec": {
      "name": "python3",
      "display_name": "Python 3"
    },
    "language_info": {
      "name": "python"
    },
    "widgets": {
      "application/vnd.jupyter.widget-state+json": {
        "e4e27d08488241979aa306b8b2ff515c": {
          "model_module": "@jupyter-widgets/controls",
          "model_name": "VBoxModel",
          "state": {
            "_view_name": "VBoxView",
            "_dom_classes": [
              "widget-interact"
            ],
            "_model_name": "VBoxModel",
            "_view_module": "@jupyter-widgets/controls",
            "_model_module_version": "1.5.0",
            "_view_count": null,
            "_view_module_version": "1.5.0",
            "box_style": "",
            "layout": "IPY_MODEL_36b7471bb049429e8f0a7033739ead15",
            "_model_module": "@jupyter-widgets/controls",
            "children": [
              "IPY_MODEL_faead8fa814540f888b945b8ac71fefc",
              "IPY_MODEL_0f8428f5d96c47f5a52debc01f634cc9",
              "IPY_MODEL_51c8c26332e0426c94d54a9fd4e85fd2",
              "IPY_MODEL_94d932ba3b414bfabf8b04561eb190c1",
              "IPY_MODEL_75c0be47ca394f2fb42bdbc814a001cc"
            ]
          }
        },
        "36b7471bb049429e8f0a7033739ead15": {
          "model_module": "@jupyter-widgets/base",
          "model_name": "LayoutModel",
          "state": {
            "_view_name": "LayoutView",
            "grid_template_rows": null,
            "right": null,
            "justify_content": null,
            "_view_module": "@jupyter-widgets/base",
            "overflow": null,
            "_model_module_version": "1.2.0",
            "_view_count": null,
            "flex_flow": null,
            "width": null,
            "min_width": null,
            "border": null,
            "align_items": null,
            "bottom": null,
            "_model_module": "@jupyter-widgets/base",
            "top": null,
            "grid_column": null,
            "overflow_y": null,
            "overflow_x": null,
            "grid_auto_flow": null,
            "grid_area": null,
            "grid_template_columns": null,
            "flex": null,
            "_model_name": "LayoutModel",
            "justify_items": null,
            "grid_row": null,
            "max_height": null,
            "align_content": null,
            "visibility": null,
            "align_self": null,
            "height": null,
            "min_height": null,
            "padding": null,
            "grid_auto_rows": null,
            "grid_gap": null,
            "max_width": null,
            "order": null,
            "_view_module_version": "1.2.0",
            "grid_template_areas": null,
            "object_position": null,
            "object_fit": null,
            "grid_auto_columns": null,
            "margin": null,
            "display": null,
            "left": null
          }
        },
        "faead8fa814540f888b945b8ac71fefc": {
          "model_module": "@jupyter-widgets/controls",
          "model_name": "DropdownModel",
          "state": {
            "_options_labels": [
              "2020",
              "2021"
            ],
            "_view_name": "DropdownView",
            "style": "IPY_MODEL_c6b5a30569ec4fc39cde5caee1d1fd41",
            "_dom_classes": [],
            "description": "Year",
            "_model_name": "DropdownModel",
            "index": 0,
            "_view_module": "@jupyter-widgets/controls",
            "_model_module_version": "1.5.0",
            "_view_count": null,
            "disabled": false,
            "_view_module_version": "1.5.0",
            "description_tooltip": null,
            "_model_module": "@jupyter-widgets/controls",
            "layout": "IPY_MODEL_2e954e597f694db28cf663995a7f7f79"
          }
        },
        "0f8428f5d96c47f5a52debc01f634cc9": {
          "model_module": "@jupyter-widgets/controls",
          "model_name": "DropdownModel",
          "state": {
            "_options_labels": [
              "January",
              "February",
              "March",
              "April",
              "May",
              "June",
              "July",
              "August",
              "September",
              "October",
              "November",
              "December"
            ],
            "_view_name": "DropdownView",
            "style": "IPY_MODEL_1bda658b4962410cb600b8102e47dfde",
            "_dom_classes": [],
            "description": "Month",
            "_model_name": "DropdownModel",
            "index": 2,
            "_view_module": "@jupyter-widgets/controls",
            "_model_module_version": "1.5.0",
            "_view_count": null,
            "disabled": false,
            "_view_module_version": "1.5.0",
            "description_tooltip": null,
            "_model_module": "@jupyter-widgets/controls",
            "layout": "IPY_MODEL_ddc0969ccf0549e0a71ef1994411c90c"
          }
        },
        "51c8c26332e0426c94d54a9fd4e85fd2": {
          "model_module": "@jupyter-widgets/controls",
          "model_name": "DropdownModel",
          "state": {
            "_options_labels": [
              "Start",
              "Destination"
            ],
            "_view_name": "DropdownView",
            "style": "IPY_MODEL_da441ddeb20c4cbfab1651d6be9e1129",
            "_dom_classes": [],
            "description": "Category",
            "_model_name": "DropdownModel",
            "index": 0,
            "_view_module": "@jupyter-widgets/controls",
            "_model_module_version": "1.5.0",
            "_view_count": null,
            "disabled": false,
            "_view_module_version": "1.5.0",
            "description_tooltip": null,
            "_model_module": "@jupyter-widgets/controls",
            "layout": "IPY_MODEL_5d246d01791743f59d91622536d4af37"
          }
        },
        "94d932ba3b414bfabf8b04561eb190c1": {
          "model_module": "@jupyter-widgets/controls",
          "model_name": "DropdownModel",
          "state": {
            "_options_labels": [
              "5",
              "10",
              "15",
              "20",
              "25",
              "30",
              "35",
              "40",
              "45",
              "50",
              "55",
              "60",
              "65",
              "70",
              "75",
              "80",
              "85",
              "90",
              "95",
              "100",
              "105",
              "110",
              "115",
              "120",
              "125",
              "130",
              "135",
              "140",
              "145",
              "150",
              "155",
              "160",
              "165",
              "170",
              "175",
              "180",
              "185",
              "190",
              "195",
              "200",
              "205",
              "210",
              "215",
              "220",
              "225",
              "230",
              "235",
              "240",
              "245",
              "250"
            ],
            "_view_name": "DropdownView",
            "style": "IPY_MODEL_4789ad256c454d3bba42e2e77f08563f",
            "_dom_classes": [],
            "description": "Stations",
            "_model_name": "DropdownModel",
            "index": 3,
            "_view_module": "@jupyter-widgets/controls",
            "_model_module_version": "1.5.0",
            "_view_count": null,
            "disabled": false,
            "_view_module_version": "1.5.0",
            "description_tooltip": null,
            "_model_module": "@jupyter-widgets/controls",
            "layout": "IPY_MODEL_3ac84306cdcf4d96b0a7481c2899c85c"
          }
        },
        "75c0be47ca394f2fb42bdbc814a001cc": {
          "model_module": "@jupyter-widgets/output",
          "model_name": "OutputModel",
          "state": {
            "_view_name": "OutputView",
            "msg_id": "",
            "_dom_classes": [],
            "_model_name": "OutputModel",
            "outputs": [
              {
                "output_type": "display_data",
                "metadata": {
                  "tags": []
                },
                "text/html": "<div style=\"width:100%;\"><div style=\"position:relative;width:100%;height:0;padding-bottom:60%;\"><span style=\"color:#565656\">Make this Notebook Trusted to load map: File -> Trust Notebook</span><iframe src=\"about:blank\" style=\"position:absolute;width:100%;height:100%;left:0;top:0;border:none !important;\" data-html=%3C%21DOCTYPE%20html%3E%0A%3Chead%3E%20%20%20%20%0A%20%20%20%20%3Cmeta%20http-equiv%3D%22content-type%22%20content%3D%22text/html%3B%20charset%3DUTF-8%22%20/%3E%0A%20%20%20%20%3Cscript%3EL_PREFER_CANVAS%3Dfalse%3B%20L_NO_TOUCH%3Dfalse%3B%20L_DISABLE_3D%3Dfalse%3B%3C/script%3E%0A%20%20%20%20%3Cscript%20src%3D%22https%3A//cdn.jsdelivr.net/npm/leaflet%401.4.0/dist/leaflet.js%22%3E%3C/script%3E%0A%20%20%20%20%3Cscript%20src%3D%22https%3A//code.jquery.com/jquery-1.12.4.min.js%22%3E%3C/script%3E%0A%20%20%20%20%3Cscript%20src%3D%22https%3A//maxcdn.bootstrapcdn.com/bootstrap/3.2.0/js/bootstrap.min.js%22%3E%3C/script%3E%0A%20%20%20%20%3Cscript%20src%3D%22https%3A//cdnjs.cloudflare.com/ajax/libs/Leaflet.awesome-markers/2.0.2/leaflet.awesome-markers.js%22%3E%3C/script%3E%0A%20%20%20%20%3Clink%20rel%3D%22stylesheet%22%20href%3D%22https%3A//cdn.jsdelivr.net/npm/leaflet%401.4.0/dist/leaflet.css%22/%3E%0A%20%20%20%20%3Clink%20rel%3D%22stylesheet%22%20href%3D%22https%3A//maxcdn.bootstrapcdn.com/bootstrap/3.2.0/css/bootstrap.min.css%22/%3E%0A%20%20%20%20%3Clink%20rel%3D%22stylesheet%22%20href%3D%22https%3A//maxcdn.bootstrapcdn.com/bootstrap/3.2.0/css/bootstrap-theme.min.css%22/%3E%0A%20%20%20%20%3Clink%20rel%3D%22stylesheet%22%20href%3D%22https%3A//maxcdn.bootstrapcdn.com/font-awesome/4.6.3/css/font-awesome.min.css%22/%3E%0A%20%20%20%20%3Clink%20rel%3D%22stylesheet%22%20href%3D%22https%3A//cdnjs.cloudflare.com/ajax/libs/Leaflet.awesome-markers/2.0.2/leaflet.awesome-markers.css%22/%3E%0A%20%20%20%20%3Clink%20rel%3D%22stylesheet%22%20href%3D%22https%3A//rawcdn.githack.com/python-visualization/folium/master/folium/templates/leaflet.awesome.rotate.css%22/%3E%0A%20%20%20%20%3Cstyle%3Ehtml%2C%20body%20%7Bwidth%3A%20100%25%3Bheight%3A%20100%25%3Bmargin%3A%200%3Bpadding%3A%200%3B%7D%3C/style%3E%0A%20%20%20%20%3Cstyle%3E%23map%20%7Bposition%3Aabsolute%3Btop%3A0%3Bbottom%3A0%3Bright%3A0%3Bleft%3A0%3B%7D%3C/style%3E%0A%20%20%20%20%0A%20%20%20%20%3Cmeta%20name%3D%22viewport%22%20content%3D%22width%3Ddevice-width%2C%0A%20%20%20%20%20%20%20%20initial-scale%3D1.0%2C%20maximum-scale%3D1.0%2C%20user-scalable%3Dno%22%20/%3E%0A%20%20%20%20%3Cstyle%3E%23map_af85b004c53f4995b5d87b161ec63281%20%7B%0A%20%20%20%20%20%20%20%20position%3A%20relative%3B%0A%20%20%20%20%20%20%20%20width%3A%20100.0%25%3B%0A%20%20%20%20%20%20%20%20height%3A%20100.0%25%3B%0A%20%20%20%20%20%20%20%20left%3A%200.0%25%3B%0A%20%20%20%20%20%20%20%20top%3A%200.0%25%3B%0A%20%20%20%20%20%20%20%20%7D%0A%20%20%20%20%3C/style%3E%0A%20%20%20%20%3Cscript%20src%3D%22https%3A//leaflet.github.io/Leaflet.heat/dist/leaflet-heat.js%22%3E%3C/script%3E%0A%3C/head%3E%0A%3Cbody%3E%20%20%20%20%0A%20%20%20%20%0A%20%20%20%20%3Cdiv%20class%3D%22folium-map%22%20id%3D%22map_af85b004c53f4995b5d87b161ec63281%22%20%3E%3C/div%3E%0A%3C/body%3E%0A%3Cscript%3E%20%20%20%20%0A%20%20%20%20%0A%20%20%20%20%0A%20%20%20%20%20%20%20%20var%20bounds%20%3D%20null%3B%0A%20%20%20%20%0A%0A%20%20%20%20var%20map_af85b004c53f4995b5d87b161ec63281%20%3D%20L.map%28%0A%20%20%20%20%20%20%20%20%27map_af85b004c53f4995b5d87b161ec63281%27%2C%20%7B%0A%20%20%20%20%20%20%20%20center%3A%20%5B59.92%2C%2010.75%5D%2C%0A%20%20%20%20%20%20%20%20zoom%3A%2013%2C%0A%20%20%20%20%20%20%20%20maxBounds%3A%20bounds%2C%0A%20%20%20%20%20%20%20%20layers%3A%20%5B%5D%2C%0A%20%20%20%20%20%20%20%20worldCopyJump%3A%20false%2C%0A%20%20%20%20%20%20%20%20crs%3A%20L.CRS.EPSG3857%2C%0A%20%20%20%20%20%20%20%20zoomControl%3A%20true%2C%0A%20%20%20%20%20%20%20%20%7D%29%3B%0A%0A%0A%20%20%20%20%0A%20%20%20%20var%20tile_layer_8077c80fa9c846ea9affb0b45b9d8adc%20%3D%20L.tileLayer%28%0A%20%20%20%20%20%20%20%20%27https%3A//%7Bs%7D.tile.openstreetmap.org/%7Bz%7D/%7Bx%7D/%7By%7D.png%27%2C%0A%20%20%20%20%20%20%20%20%7B%0A%20%20%20%20%20%20%20%20%22attribution%22%3A%20null%2C%0A%20%20%20%20%20%20%20%20%22detectRetina%22%3A%20false%2C%0A%20%20%20%20%20%20%20%20%22maxNativeZoom%22%3A%2018%2C%0A%20%20%20%20%20%20%20%20%22maxZoom%22%3A%2018%2C%0A%20%20%20%20%20%20%20%20%22minZoom%22%3A%200%2C%0A%20%20%20%20%20%20%20%20%22noWrap%22%3A%20false%2C%0A%20%20%20%20%20%20%20%20%22opacity%22%3A%201%2C%0A%20%20%20%20%20%20%20%20%22subdomains%22%3A%20%22abc%22%2C%0A%20%20%20%20%20%20%20%20%22tms%22%3A%20false%0A%7D%29.addTo%28map_af85b004c53f4995b5d87b161ec63281%29%3B%0A%20%20%20%20%0A%20%20%20%20%20%20%20%20%20%20%20%20var%20heat_map_53501a788334499c87f83e44ae25147a%20%3D%20L.heatLayer%28%0A%20%20%20%20%20%20%20%20%20%20%20%20%20%20%20%20%5B%5B59.92843404417578%2C%2010.75943014633117%2C%20463.0%5D%2C%20%5B59.928066706156855%2C%2010.751202636819613%2C%20452.0%5D%2C%20%5B59.90946700000001%2C%2010.722509%2C%20395.0%5D%2C%20%5B59.90580676630004%2C%2010.753656509579287%2C%20376.0%5D%2C%20%5B59.925471317049954%2C%2010.73121932213806%2C%20373.0%5D%2C%20%5B59.9108469%2C%2010.7303766%2C%20369.0%5D%2C%20%5B59.922425%2C%2010.758182000000001%2C%20364.0%5D%2C%20%5B59.898126%2C%2010.675096%2C%20356.0%5D%2C%20%5B59.94671044754387%2C%2010.773805285879133%2C%20318.0%5D%2C%20%5B59.912110899999995%2C%2010.7661939%2C%20296.0%5D%2C%20%5B59.904472999999996%2C%2010.786166999999999%2C%20267.0%5D%2C%20%5B59.929044999999995%2C%2010.716925999999999%2C%20265.0%5D%2C%20%5B59.90321254732584%2C%2010.7673442932541%2C%20259.0%5D%2C%20%5B59.91300035973293%2C%2010.746760585982287%2C%20258.0%5D%2C%20%5B59.920334999999994%2C%2010.760803999999998%2C%20257.0%5D%2C%20%5B59.919463%2C%2010.743829%2C%20255.0%5D%2C%20%5B59.92473199999999%2C%2010.724628%2C%20253.0%5D%2C%20%5B59.9360307%2C%2010.7364516%2C%20253.0%5D%2C%20%5B59.94377753936722%2C%2010.76012112757796%2C%20248.0%5D%2C%20%5B59.91494300000001%2C%2010.773977%2C%20243.0%5D%5D%2C%0A%20%20%20%20%20%20%20%20%20%20%20%20%20%20%20%20%7B%0A%20%20%20%20%20%20%20%20%20%20%20%20%20%20%20%20%20%20%20%20minOpacity%3A%200.5%2C%0A%20%20%20%20%20%20%20%20%20%20%20%20%20%20%20%20%20%20%20%20maxZoom%3A%2018%2C%0A%20%20%20%20%20%20%20%20%20%20%20%20%20%20%20%20%20%20%20%20max%3A%201.0%2C%0A%20%20%20%20%20%20%20%20%20%20%20%20%20%20%20%20%20%20%20%20radius%3A%2025%2C%0A%20%20%20%20%20%20%20%20%20%20%20%20%20%20%20%20%20%20%20%20blur%3A%2015%2C%0A%20%20%20%20%20%20%20%20%20%20%20%20%20%20%20%20%20%20%20%20gradient%3A%20null%0A%20%20%20%20%20%20%20%20%20%20%20%20%20%20%20%20%20%20%20%20%7D%29%0A%20%20%20%20%20%20%20%20%20%20%20%20%20%20%20%20.addTo%28map_af85b004c53f4995b5d87b161ec63281%29%3B%0A%20%20%20%20%20%20%20%20%0A%3C/script%3E onload=\"this.contentDocument.open();this.contentDocument.write(    decodeURIComponent(this.getAttribute('data-html')));this.contentDocument.close();\" allowfullscreen webkitallowfullscreen mozallowfullscreen></iframe></div></div>",
                "text/plain": "<folium.folium.Map at 0x7f3c9c481850>"
              }
            ],
            "_view_module": "@jupyter-widgets/output",
            "_model_module_version": "1.0.0",
            "_view_count": null,
            "_view_module_version": "1.0.0",
            "layout": "IPY_MODEL_96b8207607f64516ac5a688659581c60",
            "_model_module": "@jupyter-widgets/output"
          }
        },
        "c6b5a30569ec4fc39cde5caee1d1fd41": {
          "model_module": "@jupyter-widgets/controls",
          "model_name": "DescriptionStyleModel",
          "state": {
            "_view_name": "StyleView",
            "_model_name": "DescriptionStyleModel",
            "description_width": "",
            "_view_module": "@jupyter-widgets/base",
            "_model_module_version": "1.5.0",
            "_view_count": null,
            "_view_module_version": "1.2.0",
            "_model_module": "@jupyter-widgets/controls"
          }
        },
        "2e954e597f694db28cf663995a7f7f79": {
          "model_module": "@jupyter-widgets/base",
          "model_name": "LayoutModel",
          "state": {
            "_view_name": "LayoutView",
            "grid_template_rows": null,
            "right": null,
            "justify_content": null,
            "_view_module": "@jupyter-widgets/base",
            "overflow": null,
            "_model_module_version": "1.2.0",
            "_view_count": null,
            "flex_flow": null,
            "width": null,
            "min_width": null,
            "border": null,
            "align_items": null,
            "bottom": null,
            "_model_module": "@jupyter-widgets/base",
            "top": null,
            "grid_column": null,
            "overflow_y": null,
            "overflow_x": null,
            "grid_auto_flow": null,
            "grid_area": null,
            "grid_template_columns": null,
            "flex": null,
            "_model_name": "LayoutModel",
            "justify_items": null,
            "grid_row": null,
            "max_height": null,
            "align_content": null,
            "visibility": null,
            "align_self": null,
            "height": null,
            "min_height": null,
            "padding": null,
            "grid_auto_rows": null,
            "grid_gap": null,
            "max_width": null,
            "order": null,
            "_view_module_version": "1.2.0",
            "grid_template_areas": null,
            "object_position": null,
            "object_fit": null,
            "grid_auto_columns": null,
            "margin": null,
            "display": null,
            "left": null
          }
        },
        "1bda658b4962410cb600b8102e47dfde": {
          "model_module": "@jupyter-widgets/controls",
          "model_name": "DescriptionStyleModel",
          "state": {
            "_view_name": "StyleView",
            "_model_name": "DescriptionStyleModel",
            "description_width": "",
            "_view_module": "@jupyter-widgets/base",
            "_model_module_version": "1.5.0",
            "_view_count": null,
            "_view_module_version": "1.2.0",
            "_model_module": "@jupyter-widgets/controls"
          }
        },
        "ddc0969ccf0549e0a71ef1994411c90c": {
          "model_module": "@jupyter-widgets/base",
          "model_name": "LayoutModel",
          "state": {
            "_view_name": "LayoutView",
            "grid_template_rows": null,
            "right": null,
            "justify_content": null,
            "_view_module": "@jupyter-widgets/base",
            "overflow": null,
            "_model_module_version": "1.2.0",
            "_view_count": null,
            "flex_flow": null,
            "width": null,
            "min_width": null,
            "border": null,
            "align_items": null,
            "bottom": null,
            "_model_module": "@jupyter-widgets/base",
            "top": null,
            "grid_column": null,
            "overflow_y": null,
            "overflow_x": null,
            "grid_auto_flow": null,
            "grid_area": null,
            "grid_template_columns": null,
            "flex": null,
            "_model_name": "LayoutModel",
            "justify_items": null,
            "grid_row": null,
            "max_height": null,
            "align_content": null,
            "visibility": null,
            "align_self": null,
            "height": null,
            "min_height": null,
            "padding": null,
            "grid_auto_rows": null,
            "grid_gap": null,
            "max_width": null,
            "order": null,
            "_view_module_version": "1.2.0",
            "grid_template_areas": null,
            "object_position": null,
            "object_fit": null,
            "grid_auto_columns": null,
            "margin": null,
            "display": null,
            "left": null
          }
        },
        "da441ddeb20c4cbfab1651d6be9e1129": {
          "model_module": "@jupyter-widgets/controls",
          "model_name": "DescriptionStyleModel",
          "state": {
            "_view_name": "StyleView",
            "_model_name": "DescriptionStyleModel",
            "description_width": "",
            "_view_module": "@jupyter-widgets/base",
            "_model_module_version": "1.5.0",
            "_view_count": null,
            "_view_module_version": "1.2.0",
            "_model_module": "@jupyter-widgets/controls"
          }
        },
        "5d246d01791743f59d91622536d4af37": {
          "model_module": "@jupyter-widgets/base",
          "model_name": "LayoutModel",
          "state": {
            "_view_name": "LayoutView",
            "grid_template_rows": null,
            "right": null,
            "justify_content": null,
            "_view_module": "@jupyter-widgets/base",
            "overflow": null,
            "_model_module_version": "1.2.0",
            "_view_count": null,
            "flex_flow": null,
            "width": null,
            "min_width": null,
            "border": null,
            "align_items": null,
            "bottom": null,
            "_model_module": "@jupyter-widgets/base",
            "top": null,
            "grid_column": null,
            "overflow_y": null,
            "overflow_x": null,
            "grid_auto_flow": null,
            "grid_area": null,
            "grid_template_columns": null,
            "flex": null,
            "_model_name": "LayoutModel",
            "justify_items": null,
            "grid_row": null,
            "max_height": null,
            "align_content": null,
            "visibility": null,
            "align_self": null,
            "height": null,
            "min_height": null,
            "padding": null,
            "grid_auto_rows": null,
            "grid_gap": null,
            "max_width": null,
            "order": null,
            "_view_module_version": "1.2.0",
            "grid_template_areas": null,
            "object_position": null,
            "object_fit": null,
            "grid_auto_columns": null,
            "margin": null,
            "display": null,
            "left": null
          }
        },
        "4789ad256c454d3bba42e2e77f08563f": {
          "model_module": "@jupyter-widgets/controls",
          "model_name": "DescriptionStyleModel",
          "state": {
            "_view_name": "StyleView",
            "_model_name": "DescriptionStyleModel",
            "description_width": "",
            "_view_module": "@jupyter-widgets/base",
            "_model_module_version": "1.5.0",
            "_view_count": null,
            "_view_module_version": "1.2.0",
            "_model_module": "@jupyter-widgets/controls"
          }
        },
        "3ac84306cdcf4d96b0a7481c2899c85c": {
          "model_module": "@jupyter-widgets/base",
          "model_name": "LayoutModel",
          "state": {
            "_view_name": "LayoutView",
            "grid_template_rows": null,
            "right": null,
            "justify_content": null,
            "_view_module": "@jupyter-widgets/base",
            "overflow": null,
            "_model_module_version": "1.2.0",
            "_view_count": null,
            "flex_flow": null,
            "width": null,
            "min_width": null,
            "border": null,
            "align_items": null,
            "bottom": null,
            "_model_module": "@jupyter-widgets/base",
            "top": null,
            "grid_column": null,
            "overflow_y": null,
            "overflow_x": null,
            "grid_auto_flow": null,
            "grid_area": null,
            "grid_template_columns": null,
            "flex": null,
            "_model_name": "LayoutModel",
            "justify_items": null,
            "grid_row": null,
            "max_height": null,
            "align_content": null,
            "visibility": null,
            "align_self": null,
            "height": null,
            "min_height": null,
            "padding": null,
            "grid_auto_rows": null,
            "grid_gap": null,
            "max_width": null,
            "order": null,
            "_view_module_version": "1.2.0",
            "grid_template_areas": null,
            "object_position": null,
            "object_fit": null,
            "grid_auto_columns": null,
            "margin": null,
            "display": null,
            "left": null
          }
        },
        "96b8207607f64516ac5a688659581c60": {
          "model_module": "@jupyter-widgets/base",
          "model_name": "LayoutModel",
          "state": {
            "_view_name": "LayoutView",
            "grid_template_rows": null,
            "right": null,
            "justify_content": null,
            "_view_module": "@jupyter-widgets/base",
            "overflow": null,
            "_model_module_version": "1.2.0",
            "_view_count": null,
            "flex_flow": null,
            "width": null,
            "min_width": null,
            "border": null,
            "align_items": null,
            "bottom": null,
            "_model_module": "@jupyter-widgets/base",
            "top": null,
            "grid_column": null,
            "overflow_y": null,
            "overflow_x": null,
            "grid_auto_flow": null,
            "grid_area": null,
            "grid_template_columns": null,
            "flex": null,
            "_model_name": "LayoutModel",
            "justify_items": null,
            "grid_row": null,
            "max_height": null,
            "align_content": null,
            "visibility": null,
            "align_self": null,
            "height": null,
            "min_height": null,
            "padding": null,
            "grid_auto_rows": null,
            "grid_gap": null,
            "max_width": null,
            "order": null,
            "_view_module_version": "1.2.0",
            "grid_template_areas": null,
            "object_position": null,
            "object_fit": null,
            "grid_auto_columns": null,
            "margin": null,
            "display": null,
            "left": null
          }
        },
        "c501818e3b514766b2c05114d5e80c92": {
          "model_module": "@jupyter-widgets/controls",
          "model_name": "VBoxModel",
          "state": {
            "_view_name": "VBoxView",
            "_dom_classes": [
              "widget-interact"
            ],
            "_model_name": "VBoxModel",
            "_view_module": "@jupyter-widgets/controls",
            "_model_module_version": "1.5.0",
            "_view_count": null,
            "_view_module_version": "1.5.0",
            "box_style": "",
            "layout": "IPY_MODEL_7fdad8806f8841c4af0fe4a5f52a760c",
            "_model_module": "@jupyter-widgets/controls",
            "children": [
              "IPY_MODEL_88de0c4d193646cf8a990e9e93b73544",
              "IPY_MODEL_a7d4395b8d5844699163c920f619c4d3",
              "IPY_MODEL_9a03b80f3b294ae3aa77b93288c64bd8"
            ]
          }
        },
        "7fdad8806f8841c4af0fe4a5f52a760c": {
          "model_module": "@jupyter-widgets/base",
          "model_name": "LayoutModel",
          "state": {
            "_view_name": "LayoutView",
            "grid_template_rows": null,
            "right": null,
            "justify_content": null,
            "_view_module": "@jupyter-widgets/base",
            "overflow": null,
            "_model_module_version": "1.2.0",
            "_view_count": null,
            "flex_flow": null,
            "width": null,
            "min_width": null,
            "border": null,
            "align_items": null,
            "bottom": null,
            "_model_module": "@jupyter-widgets/base",
            "top": null,
            "grid_column": null,
            "overflow_y": null,
            "overflow_x": null,
            "grid_auto_flow": null,
            "grid_area": null,
            "grid_template_columns": null,
            "flex": null,
            "_model_name": "LayoutModel",
            "justify_items": null,
            "grid_row": null,
            "max_height": null,
            "align_content": null,
            "visibility": null,
            "align_self": null,
            "height": null,
            "min_height": null,
            "padding": null,
            "grid_auto_rows": null,
            "grid_gap": null,
            "max_width": null,
            "order": null,
            "_view_module_version": "1.2.0",
            "grid_template_areas": null,
            "object_position": null,
            "object_fit": null,
            "grid_auto_columns": null,
            "margin": null,
            "display": null,
            "left": null
          }
        },
        "88de0c4d193646cf8a990e9e93b73544": {
          "model_module": "@jupyter-widgets/controls",
          "model_name": "DropdownModel",
          "state": {
            "_options_labels": [
              "2020",
              "2021"
            ],
            "_view_name": "DropdownView",
            "style": "IPY_MODEL_64aae97b570f48159a7154e752835dea",
            "_dom_classes": [],
            "description": "Year",
            "_model_name": "DropdownModel",
            "index": 0,
            "_view_module": "@jupyter-widgets/controls",
            "_model_module_version": "1.5.0",
            "_view_count": null,
            "disabled": false,
            "_view_module_version": "1.5.0",
            "description_tooltip": null,
            "_model_module": "@jupyter-widgets/controls",
            "layout": "IPY_MODEL_8502511d12b64c1badcf135898d6f5bd"
          }
        },
        "a7d4395b8d5844699163c920f619c4d3": {
          "model_module": "@jupyter-widgets/controls",
          "model_name": "DropdownModel",
          "state": {
            "_options_labels": [
              "January",
              "February",
              "March",
              "April",
              "May",
              "June",
              "July",
              "August",
              "September",
              "October",
              "November",
              "December"
            ],
            "_view_name": "DropdownView",
            "style": "IPY_MODEL_dd42aa721357449991e5a0863e86bfa5",
            "_dom_classes": [],
            "description": "Month",
            "_model_name": "DropdownModel",
            "index": 2,
            "_view_module": "@jupyter-widgets/controls",
            "_model_module_version": "1.5.0",
            "_view_count": null,
            "disabled": false,
            "_view_module_version": "1.5.0",
            "description_tooltip": null,
            "_model_module": "@jupyter-widgets/controls",
            "layout": "IPY_MODEL_76b8a3e16bda41bc866bf229acd6499b"
          }
        },
        "9a03b80f3b294ae3aa77b93288c64bd8": {
          "model_module": "@jupyter-widgets/output",
          "model_name": "OutputModel",
          "state": {
            "_view_name": "OutputView",
            "msg_id": "",
            "_dom_classes": [],
            "_model_name": "OutputModel",
            "outputs": [
              {
                "output_type": "display_data",
                "metadata": {
                  "tags": []
                },
                "image/png": "iVBORw0KGgoAAAANSUhEUgAABZYAAALECAYAAACbj2V1AAAABHNCSVQICAgIfAhkiAAAAAlwSFlzAAALEgAACxIB0t1+/AAAADh0RVh0U29mdHdhcmUAbWF0cGxvdGxpYiB2ZXJzaW9uMy4yLjIsIGh0dHA6Ly9tYXRwbG90bGliLm9yZy+WH4yJAAAgAElEQVR4nOzdeZyN5f/H8feZ7cxmNsOMdcY+yC7ZauxCRUr2aCEVpQilsmZJKeVblopQkhbyLVowZKtGFJVIM0jJYNAY28xcvz88zv2bM+fMmMMwpu/r+XjMo5nrvq77/tz3fc7d5XOuc102Y4wRAAAAAAAAAAD55FXYAQAAAAAAAAAAihYSywAAAAAAAAAAj5BYBgAAAAAAAAB4hMQyAAAAAAAAAMAjJJYBAAAAAAAAAB4hsQwAAAAAAAAA8AiJZQAAkG/z58+XzWZTixYtPGrXv39/2Ww2jR079orElVNsbKxsNpsSEhKuyvEKm81mk81mU3Jyssdt/9euVXYtWrSQzWbT/PnzCzuUa9L/8msDV1ZCQoJsNptiY2MLOxQAAHAZSCwDAFBAHMnTnD/e3t6KiIhQ8+bNNX36dJ0+fbqwQ0Uuxo4d63L/fHx8FB4ergoVKqhjx4569tlntWPHjsIOFUWY43WWn6SaJ3Xx75CQkKCxY8dq2bJlhR3KJZk/f77Gjh2r7du3F3YoAADgCiOxDABAAfP19VVUVJT1U6xYMaWmpmrjxo0aNmyYGjZsqJSUlMIOE3nw8vKy7l9kZKTOnTun5ORkrVy5UhMmTFDt2rXVunVrJSUlFXaoAP5lEhISNG7cuCKdWB43blyeieXAwEBVq1ZNlSpVuoqRAQCAgkZiGQCAAta0aVMdOnTI+jl+/LiOHz+uF154QV5eXvr55581atSowg4TeShXrpzTPTx16pTS0tKUkJCgAQMGyM/PT2vWrFHdunX1448/Fna4AFCkNGrUSLt27dLq1asLOxQAAHAZSCwDAHAVhIaGatiwYbrvvvskSStWrCjkiOCpoKAgxcfHa86cOdq4caNKlCihkydP6rbbbtOZM2cKOzwAAAAAuKpILAMAcBXVrl1bknTq1Cmn8nvvvVc2m0133nlnnu3HjBkjm82mpk2bOpUfPnxYTzzxhK677joFBQXJ399f5cqVU9OmTfXss89q3759kiRjjCpXriybzaaZM2fmeaz4+HjZbDY99dRT+T6/hQsXytfXV15eXnr99dfz1SYrK0sPPfSQbDabwsPDtXnzZqftycnJGjJkiKpVq6bAwEAVK1ZMDRo00NSpU12u49XSsGFDzZs3T5K0b98+zZ0716XO999/r1GjRql58+YqX7687Ha7ihcvrhYtWuiNN95QZmZmrvtft26d7rzzTpUtW1Z+fn4KDQ1VlSpV1KVLF82ePVtZWVm5tt2/f78GDBigsmXLym63q0KFCho+fLhOnjx50fPav3+/7r//fpUrV07+/v5W2xMnTuTZbtu2berTp4/KlSsnu92uyMhItW/fXh9++GGubY4cOaLXXntNnTt3VlxcnIoVK6agoCDVqFFDjz/+uP7880+37ZKTk635ryVpy5YtuvPOO1WqVCl5e3tr6NChTvVXrVqlVq1aKTQ0VCEhIWrcuLEWLlx40WtRFGRfXO/YsWN6/PHHVaFCBdntdpUpU0YDBgzQX3/9lec+3nnnHTVu3FjBwcGKiIhQq1at9Omnn+br+GlpaZo0aZKuv/56hYaGyt/fX1WqVNEjjzyiAwcOuG2TfcHE48ePa+TIkYqLi1NgYKDCwsI8On9jjJYsWaJOnTopOjraOu+bbrpJL730ko4ePerSJisrS2+++abi4+MVERFhvc4HDhyo3377ze1xci40t3HjRt1yyy2KjIxUQECA6tSpo5kzZ8oY47Z9fp/Pjtf2uHHjJElvv/22y5zvjgU68/s+yM+Cq455vPv3759rnVWrVlnPJLvdrujoaDVu3FgTJ0607rXjWOvWrZMk3XPPPU6xZ58nPD+L961du1Zdu3ZVdHS0/Pz8FB0drdtvv11r1qzJtU3263Q5z0IAAJBPBgAAFIh+/foZSSY+Pj7XOgMHDjSSTO3atZ3KN27caCQZPz8/c+TIEbdtMzMzTUxMjJFk5s6da5UnJyebUqVKGUlGkvH29jbh4eHGZrNZZa+//rpV/7nnnjOSTP369XON87fffrPa79692yqfN29eruc4c+ZMY7PZjI+Pj1m4cKHbazNmzBin8vPnz5tevXoZSaZkyZJm+/btTts//PBD4+/vb51HYGCg8fX1tf6uVauWOXTokEssjuu0du3aXM/RnTFjxhhJJiYmJl/169ataySZxo0bu2wrXry4U9xhYWHW35JMx44dzfnz513azZ4926leYGCgCQoKcio7ffq0UxtH+bJly0xERISRZIoVK2Z8fHysbQ0bNjTnzp1zOV7211SJEiWMJBMcHOx03StXrmz+/PNPt9dg9uzZxsvLy6obFhZmvL29rb/79OljMjIyXNoNGzbMquPj42MiIiKc2pUoUcL88MMPLu2SkpKsOu+99551jqGhocbX19c8+uijVt3nn3/eqmuz2UxYWJgV6+OPP27i4+ONJDNv3jy353alePI6y6uu494tXLjQ+j0wMNDY7XbrvGNjY82xY8fc7vvhhx+26nl5eZmwsDDrfT9jxow830c///yztd1xD7O/TsPDw82GDRtc2jmu+fPPP28qVqxoJBm73W6KFStmQkNDL3o9HI4fP27atGnjdH/Dw8OdXrc57+upU6dMu3btrO2+vr4mNDTU+tvf398sW7bM5Vhr16617sG8efOMt7e3sdlsTm0lOb32HDx5Pu/fv99ERUVZ19Hf399ERUU5/ezfv98Yk//3QV7PbAfHa6xfv34u286ePWv69OnjdJ6hoaFO99rxXH/vvfdMVFSU9YwOCQlxir1hw4Zur6k7o0ePdnnvZr9mo0aNctvucp6FAADAcySWAQAoIHkllk+cOGFeeuklK6nlLpFVo0YNK6HjzpdffmkkmaCgIHPy5Emr/J577rGSf+vXrzeZmZnGGGPOnDljduzYYZ5++mnz8ccfW/UPHjxoJfDcJe6M+f9/1N94441O5bklKSZOnGgliNwlZtwllk+fPm1uvfVWI8mUK1fO/Prrr05tvv32W+Pr62t8fHzM6NGjzR9//GGMMSYjI8Ns2rTJNGzY0Egy7dq1czne1UosP/nkk1aCKj093Wlbz549zeLFi81ff/1llaWlpZmFCxea6OhoK7mW3alTp0xwcLCRZO69914riWSMMUePHjUrV640PXv2NGfPnnVqlz2p26pVK7Njxw5jzIXXwJtvvmklGv/zn/+4nIPjWoWGhprKlSubr7/+2hhz4YOMZcuWmcjISCPJtG3b1qXtxo0brdf0nXfeaQ4cOGCMMeaff/4xEydOtBJBEyZMcGk7Y8YMM2nSJPPjjz9aCfaMjAyTmJho2rdvbySZmjVrmqysLKd22RNqwcHB5o477jBJSUnGmAsfVDh+//rrr63j9+nTx7oPqampZsSIEdY5/xsSy2FhYaZu3bpm06ZNxpgL12H58uXWhxlPPPGES9tFixZZ13H48OEmNTXVGGPMoUOHzN133218fX1NYGCg2/fR8ePHTWxsrJFkunXrZn744Qfrw4O9e/daHxZFRUVZ+3VwJJaDg4NNuXLlzMqVK61n1p49ey56PRw6depkJJmAgAAzY8YM6zhZWVnm559/Ns8++6zLs+iBBx6wnlOzZs0yZ86cMcYY8+uvv5oWLVpYifmczyJHEjQwMND4+fmZwYMHWx9opaammiFDhlgJ0J07dzq19fT5bEzeiV6H/L4PLjex/NBDD1kJ8TFjxjh9kPf777+badOmmdmzZzu1yc8HNnkllhcvXmyd2+DBg01KSooxxpgjR45Y19rxgUpOl/MsBAAAniOxDABAAXEkT319fZ1GaWUf1VavXj2zYMECt+2nT59uJJm6deu63d6zZ0+3//ivXr26NWotv2677TYjyQwdOtRlW2ZmpilbtqzbxIC7JMXw4cOthPdXX33l9ng5E8snT560EjlVqlQx+/btc2nTrFkzI8nMmjXL7T6PHj1qjQT87rvvnLZdrcTyu+++a93b7CO7L2b9+vXWaNLsvvnmG+tauhvlmxtHDDVr1rSSZdkNHjzYSDItW7Z02ea4Vv7+/m4Te2vWrLH270g6O7Rq1cpIMs2aNXMbryPxHhwcbE6cOJHv8zlz5oz1QUtCQoLTtuwJtWbNmlmJupwcsbVs2dIlOW2MMffdd5+1n6KeWI6KinL7TYcXXnjBSDIVKlRwKs/KyjKVKlXKNZmYlZXlNBo45/vI8cFTz549c4375ptvNpLMtGnTnModSUdfX18r6eepTz/91Erkrly5Ml9tkpKSrA9B3D1TTp06ZV2Tvn37Om1zJEElmfvvv9/t/mvVqmUkmXHjxjmVX8rz2dPEcl7vg8tJLO/cudP6cCZn8jgvl5NYzsrKMpUrVzaSTI8ePdy2dfy/MDY21uW8L+dZCAAAPMccywAAFLDz58/r77//tn6yz0977NgxHT582O1cnHfffbf8/Py0fft2bdu2zWnb8ePH9fHHH0u6MB9zdiEhIZJ00blUs7v//vslSYsWLdL58+edtn355Zf6448/VKxYMXXr1i3XfWRlZWnAgAF64YUXFBYWpi+//FKtW7e+6LGPHj2q1q1bKyEhQbVr19bXX3+t8uXLO9XZu3evNm7cqLCwMGvBw5wiIiLUoUMHK+bCEB4ebv1+7NixfLe78cYbFRYWpuTkZKe5hB338vz5827nh72Yxx9/XHa73aW8S5cukqSdO3fm2vauu+5S5cqVXcpbtmxpzen9wQcfWOXHjh3T2rVrJUlPPvmkvL29XdqOHDlS/v7+SktL02effZbv87Db7Wrbtq2kC/PZ5mbYsGHy8nLtzmaPbeTIkdY8tNl5Mnf4tW7gwIEqXry4S7njviclJTnNR759+3bt3btX0oV7l9PF5lZ/++23JV24/rnp1auXpNzfmx06dNB1112Xa/u8LFiwQJLUvn173Xzzzflq8/HHHysrK0vR0dHW8y+7wMBAjRgxQpL00Ucf5ToHurvrJUmdO3eW5Poeu5Tns6dyex9croULF8oYo7i4OA0cOLDA9+/O9u3brbmun376abd1xowZI+nCPNPffvut2zqX8ywEAAD5R2IZAIACFh8fL3PhW0EyxigjI0O///67XnvtNaWlpWn48OFuExvFixe3/tHrWBjOYfHixTpz5oyqVKmim266yWlbx44dJV1IoD388MNau3atTp8+nWeMHTt2VOnSpXXkyBGtWLHCadtbb70lSerevbuCgoLctj9//rx69uypN954QyVLllRCQoKaNGmS5zEl6c8//1R8fLy+++47NW7cWAkJCYqKinKpt2nTJkkXFgcrW7asoqOj3f4sWbJEknJdKKywLV26VF26dFH58uUVEBDgtJDV8ePHJckpsVylShVVqVJF586dU5MmTfTSSy9p165duS4KltP111/vtrxMmTKSpNTU1Fzb5rW4V3x8vKQLCxI6bNu2TcYY2Ww2a3tOoaGhatCggUtbh127dmnw4MGqXbu2QkJC5OXlZV2fGTNmSFKui/hJyvU154jNy8tLzZs3d1unYsWKKleuXK77Lkoudt8lWa836f/vRVRUlKpVq+a2bdOmTeXj4+NSfuDAAf3xxx+SLjxHcntvPvroo1Z9d/LzvMjNli1brOPnl+Ocb7zxRrcfgkhSq1atJF1YXPXXX3912R4REaGKFSu6bZvbe+xSns+eupxrmZdLuc6Xy3GfSpQooZo1a7qtU61aNet6u3uuSJf3LAQAAPlHYhkAgCvM29tbFSpU0IMPPqh33nlH0oXk7YYNG1zqOhLO7777rs6dO2eVO5K999xzj0ubkSNH6rbbbtO5c+f02muvqVWrVgoJCVHTpk01bdo0p4RS9pj69+8vyTmJfezYMS1fvlyS68jo7DZt2qT3339f0oVRrHXq1MnzGjjMnTtXP/30k8LDw7Vq1SqnEb/ZOUb3ZWRkOI3+zvnjGIWZnp6er+MXtOzJiYiICOv3jIwMde3aVXfddZeWL1+uAwcOyBijyMhIRUVFKSoqyhphmH0kqbe3t959912VKVNGv//+ux5//HFVr15dkZGR6tatmz755JM8k8zFihVzW+7v72/FlZvsScjctqWkpFhljt9DQ0MVHByca9uyZcu6tJWk9957T7Vr19Z//vMf7dixQ6dOnVJoaKh1fRwfamS/PjmVKFHCbXn22HL7cCT7eXmia9eueSZSC8PF7rskp28mOK5P6dKlc92n3W5XZGSkS3n2kbeHDx/O9b3peG/k9t7M7d7lx99//y1JLt90yIvjnPO6547Xavb62eV2naX/v9Y5vwFyKc9nT13OtczLpVzny5Wf+yTl/lxxuJxnIQAAyD8SywAAXEXt27dXdHS0JFmJ2ezatGmjChUq6OjRo/rkk08kXfjKbmJiory9vdWvXz+XNna7XcuXL9fmzZs1YsQINW7cWDabzfq7atWq+uGHH1za3XfffbLZbFq1apUOHTok6UJC++zZs6pevXqeo+Bq1aqlGjVqSJIeeughHTlyJF/n37FjRxUrVkypqal66KGHlJWV5baeo7xOnTpOo79z+5k/f36+jl/QduzYIUny9fV1SkrNnTtXH3/8sQIDA/XKK6/owIEDOnPmjFJSUnTo0CEdOnTISurlTBQ3bNhQe/bs0aJFi3T33XerYsWKOnbsmD744AN17txZnTp1yvVr+oXh7NmzHrdJSUnRgAEDdP78eXXv3l2JiYk6c+aMUlNTrevz2GOPSXK9PtnlNvL0Sjp27JjbRGr2KW8uxpHcys/IVUdiNiAg4NICLmDZ37OpqakXfW8mJye73U9h3DtJOnPmzFU93qU+nz1RWNfySrra9wkAAFwaEssAAFxljtFfv//+u8s2m81mjRR2jCR2jFZu3759niMMGzdurKlTp2rz5s1KTU3V4sWLVb58eaWkpLideqNixYpq1aqVMjIytHDhQqdjuRsZnV1ERIRWr16tatWqaefOnWrbtm2+vlp8/fXX67PPPlNQUJDeffdd3XfffW4Th47pMa7VKS4cVq5cKelCMjh74m/p0qWSpGeeeUZDhgxxSjpLUmZmZp7J+ICAAPXu3Vtvv/229u7dq99//11PPvmkbDabVq5cqVmzZhX4ueQ15YRjW/aRkY7fT58+neuoQUnWtAnZ265cuVJpaWmqUaOG3n33XTVo0EC+vr5O7RyjJS+F41gnTpzIczR7Xuecm4SEhMv+cMMxH/KxY8ecvpngjmOEsLs5lC+V4/rkdf7nzp1z+xrNPnXN/v37CywmTzhi2LdvX77bOM45r5gdr9Xs9QuKp8/nguKYziSvRG1uH4pcynW+XI7rfrFnv7vnCgAAuPpILAMAcJUdPHhQklwSaQ733HOPvL299fnnn2vfvn1atGiRpLynpsgpKChIPXr00Jw5cyRJW7dudTulgCOhMW/ePP3www/atm2bfHx8dPfdd1/0GNHR0Vq9erUqVaqk7du3q127dvkatdm8eXOtWLFCAQEBmj9/vgYNGuSSXHaMlj527Ji++eabi+6zMHz66afavn27JKl3795O2xxJj3r16rltu3HjRo9G5FWoUEGTJk1S9+7dJUnr1q27lJDzlNc+Hdvq169vldWrV89aFM+xUF5OJ06c0NatW13aOq5P7dq13S46ZozRmjVrPDyD/+eILSsry+2UM9KFBe0KKzHqeF1kZGTkuviYw+bNm53aFATHvfj777+1e/dut3U2bdrkdrqAChUqWAlHxwcrV1vjxo0lyaMFIR3n/M033+T6YYPjNRcUFJTr3NMF4WLPZ8d7Ir9zq+clLCxMknPSPKfvvvvObbnjOnt6ny8nfsd9OnXqVK7vjd27d1v/H83+XAEAAFcfiWUAAK6ijRs3XvQfxGXKlFGHDh2UmZmp3r17KyUlRSVKlNBtt93mtn5eIx4do2iNMW7r3X777SpevLh++eUXPfzww5KkTp06uV1QL7dY16xZo9jYWCUmJqpDhw5KS0u7aLuWLVtq2bJlstvtmjNnjsv8tHFxcVZSY8SIES7zlmZ3+vTpS5qO4XJs3brVGtVdoUIF3XfffU7bQ0NDJf3/VBnZZWRk6Omnn3a734uNXnXczytxvkuWLHE7in79+vXauHGjJKlbt25WeUREhFq2bClJmjp1qttpTaZOnaozZ84oODjYaQEwx/XZuXOn2+TT3LlztXfv3ks+l4iICGshtueff97tMaZMmXLJ+79c9evXV4UKFSRJL774Yq71li1bZl2Hrl27Ftjx69atq8qVK0u6cI9yMsbkeX0c87O/8MIL1vPMHWNMgcwhnJPjg68vvvhCq1atylebrl27ysvLS0ePHrUSutmlp6dr2rRpVt2Cml7iUp7PISEhklQg165WrVqSLnyg6fiQJ7uvv/7aen/n1LdvX9lsNu3atUuzZ8/O9zEvJ/7sr81Jkya5rTN27FhJUmxsrBo1auTxMQAAQMEhsQwAwFVw+vRpLVu2TD179pQkBQYG5jkC2TGS2PEP/j59+uQ6wvm6667TU089pe+++85KThhj9O2332rIkCGSLkxB4W6hPLvdrr59+zody5OR0dKFqT3WrFmjsmXLavPmzerUqVO+FtNr166dPvzwQ/n5+enVV1/V8OHDnba/8sorstvtWr9+vVq3bq0NGzZYycvMzEzt2LFD48ePV8WKFZ0WFLtS0tPTtX79ej3wwANq1qyZUlJSFBoaqk8++cRpkTRJatu2rSRpwoQJWr58uTUn8q5du3Trrbfq22+/dbuo3GeffaYmTZpo7ty5Tl8/T09P19y5c63FH9u3b1/g5+fn56cOHTpo06ZNki7MpbtixQrdeeed1jk1a9bMqc2ECRPk5eWl77//Xj169LBGRaalpWnSpElWcnLUqFFWskm6MJe4zWbTzp079cgjj1gJqJMnT2ratGl6+OGHL3vqh7Fjx8pms2n16tXq37+/NbXGiRMn9NRTT2nOnDlWgvtq8/Ly0sSJEyVdSB737dtXv/76q7X9xIkTmjVrlvr06SPpwrV3JPELgs1ms5Jzb731lkaOHGndg7///lv33nuv1qxZo8DAQLftR40apYoVK+rIkSNq2rSp3n//faf5ovfv3685c+aofv36WrZsWYHF7dChQwd16NBBxhjdcccdevXVV634jTH6+eefNWzYMKdjx8TEaODAgVb8c+bMsT6g2b17tzp16qTffvtNgYGBuX7wcyku5flcs2ZNSdKGDRu0Z8+eyzp+TEyMlXzt37+/9WHX+fPntXTpUnXp0iXXRVRr1qypBx54QJL08MMPa+zYsTp8+LC1PSkpSWPHjnWZmscR/0cffeTR3OPShdem472xfPlyDRkyREePHpUkHT16VI888ogWL14sSZo4caLbbzwAAICryAAAgALRr18/I8n4+vqaqKgo6ycyMtJIsn6CgoLMihUr8tzX+fPnTalSpaw2O3bsyLVuaGioVc/b29tEREQYX19fqywyMtL88MMPubbfuXOnVTc6OtqcP38+17rz5s0zkkx8fLzLtt27d1sxt27d2pw+fdrl2owZM8al3ccff2x8fHyMJPPUU085bfvss8+czs9ut5vixYs7nZ8kk5yc7NQuJibGSDJr167N9VzcGTNmjJFkvLy8nO5hUFCQ0/EkmTZt2rgc1+Ho0aOmUqVKVl1fX18TEhJi3aN58+a5jfHjjz92OkZAQIAJDw83NpvNKuvYsaPLPXJsS0pKchtPUlKSVScnRxxz5841JUqUMJJMcHCwCQgIsNpUrlzZ/Pnnn273PWvWLOPl5WUkGZvNZsLDw423t7fVtnfv3iYjI8Ol3WOPPeZ0rmFhYdZ+2rdvb0aPHm0kmX79+uX7XHJ6/vnnrbo5Y3v88cdNfHy8kWTmzZt30X1dCRMnTnS6t0FBQS73u2nTpiYlJcVt+/y8zvN6bTz88MNOz47sx54xY0ae+9+zZ4+pXr26U/vixYs7vW4kmfnz5zu1K6hrnpqaau3L8Z6NiIgw/v7+VlnOY5w6dcq0bdvW6X0ZFhbm9HxZtmyZy7HWrl1rJJmYmJhc48nt2Xgpz+dz585Zzw+bzWZKlChhYmJiTExMjDlw4IAxxrP3wZYtW5zuS3BwsPHz87voe80YY86cOWPuuusul/dq9mdizuf6L7/8Yu3fx8fHlC5d2sTExJhmzZrl+5o6YnLc2/DwcOv5IMmMGjXKbbvLeRYCAADP8REvAAAF7Pz58/r777+tnyNHjig4OFi1a9fWsGHD9NNPP+mWW27Jcx8+Pj669dZbJV0YzXbdddflWnf58uV68skn1axZM5UuXVppaWny8/NT7dq1NWrUKP3000+qXbt2ru1r1qypqlWrSrrw1WfHYk+eqlKlitasWaOoqCitXr1at99+e76mbOjSpYsWL14sb29vTZo0SePGjbO2dejQQbt379bTTz+t+vXry2636/jx4woJCVHTpk01atQobd26VTExMZcUc26ysrKs+5eSkiIfHx/FxMTo5ptv1jPPPKMdO3boyy+/zPW4ERER2rJlix588EFr4b6AgAB16dJF69ats6YSyKlVq1ZauHCh+vXrp1q1aikwMFD//POPihcvrrZt22rBggVasWLFJd+jvFSuXFmJiYm69957FRoaqszMTMXGxmrYsGFKTExUqVKl3LZ74IEH9N1336lXr14qVaqU0tLSFBoaqrZt22rp0qVatGiR22kFpk+frjlz5qhevXqy2+3KzMxUvXr19PLLL+vTTz8tkHN84okntHLlSrVs2VLBwcHKyMhQw4YNtWDBgjynoLhaRo8ere+//14DBgyw5vRNS0tTVFSUOnXqpIULF2rdunWKjIy8IsefOXOmFi1apBtuuEF2u13GGMXHx+u///2vHnnkkTzbVq5cWdu2bdNrr72mli1bKjw8XCdOnJCPj49q166tgQMH6tNPP7VGXRe0sLAwrVmzRm+//bbatGmjiIgI670SHw+MjgoAACAASURBVB+vl19+2WX6oMDAQK1cuVJvvPGGbrzxRgUGBio9PV0xMTG6//77tWPHDnXu3LlA47yU57Ovr69Wr16tvn37qkyZMkpNTdW+ffu0b98+t/NeX8wNN9ygDRs26NZbb1VYWJgyMjJUtWpVTZs27aLvNbvdriVLlmj58uW69dZbFRUVpVOnTqlYsWJq3LixnnvuOQ0YMMCpTVxcnL788kvdfPPNCg0N1aFDh7Rv374853nOaeLEiVq9erU6d+6syMhIpaWlqXjx4rrtttv01VdfafLkyR5fBwAAUPBsxhTAqhAAAKDAVa1aVXv27NHrr7+uQYMGXbHjHDhwQLGxscrKytIvv/yiuLi4K3YsAAAAAMC/AyOWAQC4Bq1evVp79uxRUFCQevXqdUWPNWfOHGVlZenGG28kqQwAAAAAyBcSywAAXGOOHDmiJ554QtKFhfSyL3pW0LZt26YZM2ZIkoYOHXrFjgMAAAAA+HdhKgwAAK4Rw4cP1/vvv69Dhw7p/PnzioyM1E8//aSSJUsW+LGaN2+u33//XYcOHZIxRjfddJMSEhJks9kK/FgAAAAAgH8fRiwDAHCNOHLkiA4cOKCAgAC1a9dOa9asuSJJZUn6448/9Ndff6lkyZK677779NFHH5FUBgAAAADkGyOWAQAAAAAAAAAeYcQyAAAAAAAAAMAjJJYBAAAAAAAAAB4hsQwAAAAAAAAA8AiJZQAAAAAAAACAR0gsAwAAAAAAAAA8QmIZAAAAAAAAAOAREssAAAAAAAAAAI+QWAYAAAAAAAAAeITEMgAAAAAAAADAIySWAQAAAAAAAAAeIbEMAAAAAAAAAPAIiWUAAAAAAAAAgEdILAMAAAAAAAAAPEJiGQAAAAAAAADgERLLAAAAAAAAAACPkFgGAAAAAAAAAHiExDIAAAAAAAAAwCMklgEAAAAAAAAAHiGxDAAAAAAAAADwCIllAAAAAAAAAIBHSCwDAAAAAAAAADxCYhkAAAAAAAAA4BESywAAAAAAAAAAj5BYBgAAAAAAAAB4hMQyAAAAAAAAAMAjJJYBAAAAAAAAAB4hsQwAuCz9+/eXzWZTcnJyYYfikYSEBNlsNo0dO7awQwEAAEABupb6eTabTS1atCjsMCxjx46VzWZTQkJCYYcC4F+AxDKAa47NZsv3T2F00lq0aJFrPH369CnQYyUnJ8tms6l///4Fut/CPtbV4rhXAAAA/0voT18912Ki9lpLZgP49/Ip7AAAIKcxY8Y4/X38+HHNmDFDMTExLknP2NjYqxdYDjnjlKTatWsXQiS4FI0aNdIvv/yiyMjIwg4FAACgQNGfvnb88ssvCgwMLOwwLIMHD1aPHj1Uvnz5wg4FwL8AiWUA15ycX1lLTk7WjBkzFBsbe018nc3hWooFngsMDFRcXFxhhwEAAFDg6E9fO661/mZkZCQDKwAUGKbCAFCkff/99+rSpYsiIyPl7++vuLg4TZgwQWfOnHGql32ah23btqlNmzYqVqyYwsPD1atXLx08ePCqx/7tt9+qc+fOKlOmjOx2u6KjoxUfH6/FixdLkubPn68KFSpIkt5++22nrwg65jPevXu3hg8frjp16igsLEyBgYGqU6eOZsyYIWOMyzEdX4tLTk7WXXfdpcjISNlsNr388ssXPZanTp48qVGjRqly5cqy2+0qWbKkevTooV9//dVt/YMHD2rIkCGqVKmSVb9Vq1ZasmSJVefEiROaMmWKbrzxRkVFRclut6tChQoaOnSoTpw44XKu69ats353/Dj+AZPX3HtLly5Vs2bNVKxYMQUHB6tx48Z69913XerNnz9fNptN8+fP12effaYbbrhBAQEBKlmypB566CGlp6e7tHnvvffUtGlTRUZGKiAgQOXKldPtt9+urVu35vfSAgAAFJii3J82xmjGjBmqUqWK/P39Va1aNc2cOTPPNt99951uv/12lShRQna7XdWqVdPEiRN17tw5p3qZmZl6/fXXVb9+fYWFhSkoKEgVKlRQ7969tXfvXkkXpvQYN26cJKlly5ZupxdxNy2FYyqQc+fO6emnn1b58uVlt9tVs2ZN698C2eW3z+/o30rSunXrnPrAjqk6cpu649y5c5o8ebJq1qwpf39/RURE6JZbbtG3337rEo9jjZWkpCRNnz5dVapUkd1uV6VKlTRjxgyX+qdPn9bkyZN13XXXKTg4WCEhIapataruv/9+HT161P2NAlAkMGIZQJG1du1adejQQZLUvXt3lSpVSl999ZWeffZZJSQk6IsvvpC3t7dTm7179yo+Pl7NmzfX4MGD9cMPP2jx4sXavHmztm7dqoiIiHwf/5133tG+fftUrFgxNWrUSDfccEO+227dulXNmzdXcHCwunTpoujoaB0+fFhbt27VRx99pJ49e6pu3bp69NFHNWPGDNWpU0ddunSx2oeFhUmSPvroI7399ttq1aqV2rVrp/T0dH3xxRcaOnSo9uzZ47ZjffToUTVr1kxlypRRv379dPjwYTVo0OCix/JEenq64uPjtX37djVt2lTdunXTvn37tHTpUq1atUoJCQmqW7euVf+nn35Sy5YtlZKSorZt2+quu+5SamqqEhMTNWvWLHXv3l3Sha8Sjh07Vq1bt1b37t3l6+urb7/9VjNmzNDXX3+tzZs3y8/PT9KFr1bOnz9f+/btc/qa5cXmm5s8ebKeeuopRUVFqX///vL29taHH36o3r1769dff7X+8ZDdsmXLtGrVKnXu3FnNmzfXF198oddff13Hjh3Te++9Z9V79dVX9cgjj6hSpUrq2bOngoKCdPDgQa1du1abN29WgwYNPL7WAAAAl6oo96clafTo0Zo8ebJiYmL08MMPKz09XU8//bSaNm3qtv4HH3xg9cE6d+6sEiVKaNOmTXrmmWf07bffavny5VZidsSIEZo+fbrq1Kmje+65R76+vtq/f78+//xz9ezZU5UqVbKmFVm3bp369etnTSuS3+lFevTooW3btumWW25RRkaGFi9erF69eiksLMy6L1L++/yxsbEaM2aMxo0b5zLtSV4xZWVlqXPnzlq1apVq1aqlRx99VEeOHNF7772nL7/8Up988onat2/v0m7YsGHauHGjbrnlFgUEBGjp0qUaOnSo7Ha7Bg0aZNXr06ePPvroIzVv3tzaT1JSkpYsWaKhQ4eqePHi+bpeAK5BBgCucUlJSUaSiY+Pt8oyMjJMbGys8fb2Nps2bbLKs7KyTPfu3Y0kM3PmTJd9SDLjx4932v+4ceOMJDN06NB8xRMfH2/tK/tPs2bNzIEDB/K1j8cee8xIMtu3b3fZduTIEZe4+/Xr53Y/Bw8eNGfPnnUqy8jIMB06dDBeXl4mKSnJaZsj1kGDBpmsrCynbRc7Vm769etnJDkd65lnnjGSzEMPPeRU99NPPzWSTMOGDZ3K69ataySZ999/32X/f/zxh/X78ePHzbFjx1zqTJo0yUgyCxYscCp33Ct31q5daySZMWPGWGW7d+823t7eJiYmxhw+fNgqT01NNVWrVjVeXl7mxx9/tMrnzZtnJBlfX1+zefNmq/z06dMmLi7O2Gw2p/jr1atnSpcubU6dOuUUS2ZmptvzAgAAKAj/xv70rl27jJeXl6lSpYo5ceKEU3lAQIBLP+/w4cMmODjYVKlSxfz9999O+3rkkUeMJLNkyRKrLDw83DRo0MBkZGQ41T137pw5efKk9feYMWOMJLN27Vq3cea87tnPv0mTJuaff/6xyhMSEowk065dO6f6l9Lnz3nMvOJ98803jSRz6623Op3vtm3bjJ+fnyldurQ5d+6cVe7o/1euXNkcOnTIKt+zZ4/x8fExVatWtcpSU1ONzWYzXbp0cYnl1KlT5vTp027jBFA0MBUGgCJpw4YNSk5O1h133KEmTZpY5TabTZMnT5aXl5fefvttl3YREREaNmyYU9nw4cMVHh6ud955J1/H7tKli1atWqVDhw7p1KlT+v7779W9e3dt3LhRHTt2VEZGRr7PIygoyKXMk0/sS5cubY3QdfD29taAAQOUlZXldnVqu92u5557zhqNcSUsXLhQgYGBGj9+vFN5x44d1bJlSyUmJurnn3+WJG3ZskXbt29Xp06d1K1bN5d9lSlTxvo9NDRU4eHhLnUcIyJWr159WXG/++67yszM1MiRI1WiRAmrPCwsTKNHj1ZWVpYWLlzo0q53795q3Lix9be/v7969OghY4y+//57p7p2u10+Ps5fGPLy8nJ7XgAAAFdKUe9PL168WFlZWRoxYoRCQkKs8mrVqunuu+92qb9gwQKlpaXp+eefV8mSJZ22TZw4UTabzWkKNkkKCAhwGbHt6+urYsWK5es8L2by5MkKDg62/o6Pj1dsbKwSExOd6l1Kn98Tjv7t1KlTnc63bt266t27t/788099+eWXLu2efvppRUVFWX9XrlxZzZs31+7du/XPP/9IutDPNca4/XdPYGCg/P39Lyt2AIWLxDKAIumHH36QdKHzlVOFChVUvnx5/fjjjy7b6tWr57Iqc2BgoOrVq6eUlBT99ddfFz320KFD1b59e0VFRVlt33vvPd12223asWOHPv7444vuo1u3bvLy8tINN9ygIUOGaPny5Tp27NhF2+WUmZmp1157TY0bN1ZISIi8vLxks9nUtWtXSXJ7PhUqVPDoK4qeOnnypJKTk1WzZk23SXLHPXPcQ0fHuV27dvna/6pVq9ShQweVKFFC3t7estls1vnk5/7lJa/XVc64s6tXr55LmSMhfvz4cause/fuSkpKUq1atTRmzBglJCS4zF8IAABwNRT1/rQjtubNm7tsa9asmUuZY67g9evXa+zYsU4/L774ogICApzWAunevbs2bNigBg0aaMqUKdqyZYtHA0jyI7c+ZPb+o3RpfX5P/PDDDypRooSqV6/usu1y+8AhISG6+eab9c4776hFixZ6+eWXtX37dmVlZV1WzACuDcyxDKBIOnnypCQ5fUKeXVRUlJKTk3X27FnZ7XarPPso1OwcoxZOnjypUqVKXVJM9913nz755BNt3rzZ7cjb7Jo0aaLVq1dr4sSJmj17tmbOnCkvLy+1a9dOL7/8sqpVq5avYz744IOaO3euYmNj1a1bN0VHR8vX11fJycl6++23dfbsWZc2OUdoFLT83Jvs9RyL7pUuXfqi+3733XfVu3dvhYWFqX379oqNjbVGOYwbN87t+RZU7Dnjzi77KBkHx6jkzMxMq2zEiBEKCwvT66+/rvHjx2v8+PEKDAxU3759NW3atAIb/QIAAHAxRb0/7YjfXTzu+ruOQRwvvfRSrvs8deqU9fsrr7yimJgYzZs3T08++aQkKTw8XA888IDGjx8vX1/fi5/QReTWh8yZdL2UPr8nTp486TapLBVMH3jp0qWaMGGCFi9erMcee0ySFB0dreHDh7uMfgdQtJBYBlAkOToxf//9t9vtf//9t+x2u1MnWJJSUlLc1j98+LDTfi9FZGSkpAsL1+VHixYt1KJFC6WlpWnDhg1aunSp5s2bp06dOunnn392+bpbTocOHdIbb7yhunXravPmzU5fI1uyZInbry5KuqJTYEj5uzfZ6zkWB/zzzz8vuu+JEycqMDBQW7duVcWKFZ326W5RPU9ljz3naOuccV8Km82mBx54QA888IAOHTqktWvXau7cuZo9e7bS09O1YMGCSw8eAADAA0W9P+04TkpKiku/zRGLu/pJSUn5WlzP19dXo0aN0qhRo5ScnKw1a9boP//5j6ZMmSJfX1+XKd+ulEvt83siJCQk3333SxEcHKypU6dq6tSp2rVrl7766ivNmDHDmkLl3nvvveR9AyhcTIUBoEiqU6eOpAtfZctp3759OnDggFUnu23btrl0VNPT07Vt2zaVKFHikkdXSP//9bqYmBiP2gUHB+vmm2/Wm2++qbvuukt79+7VL7/8IknWHGfZP/F3SE5OljFGrVu3dpmbbPPmzR7Hn9exPBESEqLY2Fj99NNPbqf3+PrrryVdmLNNkq6//npJ0hdffHHRff/++++qXr26U1JZyv18PT2nvF5XOeO+XNHR0erZs6e++OILlSlTRitWrCiQ/QIAAORHUe9P165dW9KFuaJz2rhxo0tZo0aNJEnffPONx3HFxsbq3nvvVUJCgnx9fZ36bQXVh87NpfT5vby8PIqnTp06SklJ0a5du1y2FXQfOC4uToMHD7auIX1goGgjsQygSGrevLliY2P1wQcfWB1QSTLG6KmnnlJmZqbbRTuOHTumF1980anshRdeUGpqqnr16nXR4/7xxx86cuSIS/mOHTs0fvx4eXt764477rjofrZs2eLylTVjjDW6wjEyxLGg28GDB132Ua5cOWtfxhir/LvvvtPs2bMvGkNOeR3LU3379lV6errGjh3rVP75559r9erVatiwofV1u0aNGql+/fr69NNP9cEHH7jsK3s85cqV0549e5xGyhw+fFhPPfWU2zgccy/n95x69eolb29vTZ06VUePHrXKT5w4oYkTJ8rLy0t9+vTJ177cWbdunUtZWlqa0tPTXUYDAQAAXElFvT/do0cPeXl56fnnn3eapuHXX391+y2w/v37KygoSCNHjlRSUpLL9sOHD1uDO86ePastW7a41Dly5IgyMjKc+m2e9jc9dSl9/oiICI/i6du3ryRp1KhRTtNw/Pjjj1q4cKFKly6tNm3aXEr4SklJsRbtzs4xEpo+MFC0MRUGgCLJ29tbb731ljp06KD4+Hh1795dpUqV0ldffaXExES1atVKgwYNcmnXvHlzTZs2TZs3b1bdunW1fft2rVy5UrGxsXr22WcvetzExET16NFDN910kypWrKiQkBDt3r1bn376qTIzM/Xiiy+qatWqF93PlClTtH79et14442qWLGivL29tW7dOiUmJqpDhw6Ki4uTdGE08/XXX69169apf//+qlSpkmw2m4YMGaIyZcrolltu0X//+181btxY8fHx2r9/v5YtW6aOHTvma9GT7PI6VmhoqEf7GjVqlFasWKFXX31V27dvV/PmzbVv3z69//77CgkJ0dy5c53qL1q0SC1atFC3bt3Url071a9fXydOnND333+vgIAArV27VpI0aNAgDR8+XA0aNFDXrl2Vlpam//73v2ratKn1D4HsWrZsqQ8++EB33nmn2rdvL7vdrptuukk33XST27irVKmi8ePHa/To0apVq5a1yOKHH36oAwcO6Nlnn1WtWrU8uhbZde7cWeHh4WrcuLHKly+vU6dO6ZNPPlFqaqqmTJlyyfsFAADwVFHvT8fFxWnkyJGaPHmyateurTvuuEPp6elavHixWrRooZUrVzrVj4qK0sKFC9WzZ09Vr15dnTp1UqVKlXTy5Ent2bNH69ev14QJE1S9enWdPn1aTZo0UY0aNVS/fn2VLVtWR44c0bJlyyRdWHzQIT4+XjabTU899ZR27typkJAQxcTEWMnay3Upff6WLVtq6dKluuOOO1S7dm15e3urb9++uY4E79+/v5YuXarly5erQYMGat++vY4cOaL33ntPkvTmm29e8pzSBw8eVL169dSgQQPVqlVLpUqV0h9//KGPP/5Yvr6+Gjx48CXtF8A1wgDANS4pKclIMvHx8S7bEhMTzW233WYiIiKMn5+fqVq1qhk3bpw5ffq0233069fPbN261bRu3doEBweb0NBQ06NHD3PgwIF8xbJ7927Tr18/U6NGDRMaGmp8fHxMdHS0uf32201CQkK+z2nVqlWmb9++pkqVKiYoKMiEhoaaunXrmunTp7vE/ssvv5h27dqZkJAQI8lIMklJScYYY44fP24efPBBU7ZsWePv72/q1Klj5s+fb9auXWskmTFjxjjtK7frmJ9j5aZfv35u6504ccKMGDHCVKxY0fj6+prIyEjTvXt3s2vXLrf7OXDggBk0aJApV66c8fX1NSVLljStWrUy77//vlUnMzPTTJ8+3VSrVs3Y7XYTGxtrRo8ebc6ePev23M6fP28ef/xxU7ZsWePt7e10TXK7RsYYs2TJEtOkSRMTGBhoAgMDTaNGjcyiRYtc6s2bN89IMvPmzcvXttdee83ccsstply5csZut5uSJUuaFi1amI8++sjtNQEAACgI/8b+tDHGZGVlmZdfftlUqlTJiv3VV1/Ns5/3448/mj59+pjSpUtbfc5GjRqZcePGmX379hljjDl37pyZMmWKadOmjSldurTx8/MzpUuXNh07djRr1qxx2ecbb7xhatSoYfz8/Fyus7vrHh8fb3JLx7jb5mmf/88//zR33HGHiYiIMDabzUgya9euNcYYM2bMGKe/Hc6ePWuee+45ExcXZ/z8/ExYWJjp2LGj+eabb1xizK3/725bamqqGTNmjGnevLmJiooyfn5+pnz58uauu+4y33//vdtrAKDosBmT7bsUAPAvlZycrAoVKqhfv36aP39+YYcDAAAAFCn0pwEAOTHHMgAAAAAAAADAIySWAQAAAAAAAAAeIbEMAAAAAAAAAPAIcywDAAAAAAAAADzCiGUAAAAAAAAAgEd8CjuAa1lkZKRiY2MLOwwAAABcYcnJyTpy5Ehhh1Fk0E8GAAD435BXP5nEch5iY2OVmJhY2GEAAADgCmvYsGFhh1Ck0E8GAAD435BXP5mpMAAAAAAAAAAAHiGxDAAAAAAAAADwCIllAAAAAAAAAIBHSCwDAAAAAAAAADxCYhkAAAAAAAAA4BESywAAAAAAAAAAj5BYBgAAAAAAAAB4hMQyAAAAAAAAAMAjJJYBAAAAAAAAAB4hsQwAAAAAAAAA8IhPYQfwb7Nw2/7CDgFu9K1XvrBDAAAA+J9GP/naRD8ZAABcKkYsAwAAAAAAAAA8QmIZAAAAAAAAAOAREssAAAAAAAAAAI+QWAYAAAAAAAAAeITEMgAAAAAAAADAIz6FHQDwb/LnyfOFHQLcKB3iW9ghAAAAAAAA/KswYhkAAAAAAAAA4BESywAAAAAAAAAAj5BYBgAAAAAAAAB4hMQyAAAAAAAAAMAjJJYBAAAAAAAAAB4hsQwAAAAAAAAA8AiJZQAAAAAAAACAR0gsAwAAAAAAAAA8QmIZAAAAAAAAAOAREssAAAAAAAAAAI+QWAYAAAAAAAAAeITEMgAAAAAAAADAIySWAQAAAAAAAAAeIbEMAAAAAAAAAPAIiWUAAAAAAAAAgEdILAMAAAAAAAAAPEJiGQAAACgi5s+fL5vN5vIza9Ysq44xRpMmTVK5cuUUEBCgm266Sdu3b3fZ188//6zWrVsrMDBQpUuX1rPPPqvMzMyreToAAAAownwKOwAAAAAAnlmzZo0CAgKsvytWrGj9PmXKFE2YMEHTpk1TXFycpk+frjZt2mjnzp2Kjo6WJKWmpqpNmzaqUaOGli9frr1792rYsGHKysrSxIkTr/r5AAAAoOghsQwAAAAUMddff72Cg4Ndys+cOaMpU6boySef1ODBgyVJTZo0UWxsrGbOnGkljWfNmqXTp0/ro48+UkhIiNq2bauTJ09q7NixGjFihEJCQq7q+QAAAKDoYSoMAAAA4F9i06ZNOnnypO666y6rLCgoSLfeeqtWrlxpla1cuVLt27d3SiD36NFDp0+f1rp1665qzAAAACiaSCwDAAAARUylSpXk4+OjatWqafbs2Vb5rl275O3trSpVqjjVr169unbt2uVULy4uzqlO+fLlFRgY6FQPAAAAyE2RSCwfPHhQwcHBstlsSktLs8pZmAQAAAD/S0qVKqUJEyZo4cKFWrFihRo3bqxBgwbppZdeknRh7uTg4GB5e3s7tQsPD1d6errOnTtn1QsLC3PZf3h4uFJTU6/8iQAAAKDIKxJzLD/xxBMKDg7WqVOnnMpZmAQAAAD/S9q3b6/27dtbf3fo0EFnzpzRxIkT9eijj17RY8+ZM0dz5syRJKWkpFzRYwEAAODad82PWF6/fr1WrVql4cOHO5XnXJikTZs2Wrp0qWw2m2bOnGnVy74wSdu2bTVo0CCNGTNG06dP18mTJ6/26QAAAAAF6s4779SxY8eUnJys8PBwpaWluXw7LzU1VYGBgfLz85N0YWTyiRMnXPaVmpqq8PBwt8cZOHCgEhMTlZiYqBIlShT8iQAAAKBIuaYTy5mZmRoyZIieffZZRUZGOm1jYRIAAABAstls1n/j4uKUmZmp3377zalOzjmV4+LiXOZSPnDggNLT013mXgYAAADcuaYTy7NmzdLZs2f18MMPu2xjYRIAAABA+uCDDxQZGamYmBg1bdpUISEhWrp0qbU9PT1dK1asUIcOHayyDh066PPPP9c///xjlS1ZskQBAQGKj4+/qvEDAACgaLpm51g+evSonnnmGS1atEi+vr4u2/OzMImfnx8LkwAAAOBf44477lCjRo1Uu3ZtZWZmasmSJVqyZIleeeUVeXl5yd/fX6NGjdKECRMUHh5urUOSlZWlIUOGWPsZNGiQXnnlFXXt2lUjR47U77//rrFjx+rxxx93+qYfAAAAkJtrNrE8evRoNW7cWB07dryqx2VREgAAAFyrqlWrprfeeksHDhyQMUY1atTQggUL1LdvX6vOqFGjlJWVpcmTJ+vo0aNq2LChvvzyS0VFRVl1wsPDtXr1ag0ePFi33nqrwsLC9Nhjj2ns2LGFcFYAAAAoiq7JxPJPP/2kt956S+vXr9fx48clXfgKnySdOHFC3t7eTguTZB+1fLkLkwwcOFADBw6UJDVs2LDAzw0AAAC4VJMmTdKkSZPyrGOz2TR69GiNHj06z3o1atTQmjVrCjI8AAAA/A+5JhPLe/bs0fnz59WkSROXbWXLltV9992nXr16WQuTVKtWzdrOwiQAAAAAAAAAcGVdk4nl5s2ba+3atU5lq1at0tSpU/XZZ5+pYsWKiomJsRYmefrppyX9/8IkjhHH0oWFSaZNm6Z//vlHSC5/OgAAIABJREFUxYoVk8TCJAAK3mefJRZ2CHCjY0e+eQIAwLXgz5PnCzsEuFE6xHU9IwAA8uuaTCxHRkaqRYsWTmXJycmSpBtvvFHBwcGSxMIkAAAAAAAAAFAIrsnEcn6xMAkAAAAAAAAAXH1FJrHcv39/9e/f36mMhUkAAAAAAAAA4OorMollAAAAAABQtLAWybWJtUgAFASvwg4AAAAAAAAAAFC0kFgGAAAAAAAAAHiExDIAAAAAAAAAwCMklgEAAAAAAAAAHmHxPgAAAAAAABS4Jwb0L+wQ4Ma0ufMLOwT8S5BYBgDgMtFhvjbRYQYAAACAK4epMAAAAAAAAAAAHmHEMgAAwGVo17ReYYcAN77YtK2wQwAAAAD+1RixDAAAAAAAAADwCIllAAAAAAAAAIBHSCwDAAAAAAAAADxCYhkAAAAAAAAA4BESywAAAAAAAAAAj5BYBgAAAAAAAAB4hMQyAAAAAAAAAMAjJJYBAAAAAAAAAB4hsQwAAID/Y+/O46qs8///PxFFQGQ4qWlOKpnoETdUNJdyxRRHWlyQnBm1JpESc8RyGRtlBhfMUdOsUcax3TL4moqBZrhU2mbllAuNa5npSHgE7SAoXL8//HE+HkGUuBA4PO63m7eb5329zvv9vs51ltf1OhfvAwAAAAClQmEZAAAAAAAAAFAqphaWP/roI23YsMFx++eff9aoUaMUFBSkKVOm6NKlS2YOBwAAAFQJ5MkAAABwNaYWlqdOnap9+/Y5bk+aNElpaWnq1q2bXnnlFc2ePdvM4QAAAIAqgTwZAAAArqammZ199913jqTYbrfr3Xff1erVqxUREaEuXbpo3rx5mjdvnplDAgAAAJUeeTIAAKhu7u/RsaKngGK8v/tr0/oy9YrlvLw8eXp6SpJ27dqly5cv63e/+50kqWXLljp16pSZwwEAAABVAnkyAAAAXI2phWWr1arNmzdLkt588011795ddevWlST99NNPuu2228wcDgAAAKgSyJMBAADgakxdCmPWrFkaMWKE/v3vfysrK8vpB0o2b96sjh25BB4AAADVD3kyAAAAXI2pheUHHnhABw8e1Ndff6127dqpZcuWjm3du3dX+/btzRwOAAAAqBLIkwEAAOBqTF0KQ5KaN2+uYcOGOSXLkhQZGalu3bqZPRwAAABQJZRHnnzy5En5+PjIzc1NFy5ccLQbhqF58+apSZMm8vLyUq9evbR3794i9z9w4ID69+8vb29vNW7cWLNmzVJ+fv6vmgsAAACqF1OvWJakM2fO6Pnnn9fnn3+uU6dO6Y477tA999yjp556Sg0bNjR7OAAAAKBKKI88+ZlnnpGPj49++eUXp/b4+HjFxcVp4cKFslqtWrx4sUJCQrRv3z41atRIkmSz2RQSEqLAwEBt2LBBR44c0ZQpU1RQUKA5c+aUeX8BAADg2ky9YnnXrl0KCAjQypUrVb9+ffXv31/169fXihUrFBAQoF27dpk5HAAAAFAllEee/OGHH2rz5s16+umnndovXryo+Ph4zZgxQ9HR0QoJCVFiYqLc3Ny0fPlyR9yKFSuUk5OjdevWacCAAYqKitLs2bO1ePFiZWdnl3mfAQAA4NpMvWI5OjpanTt3VnJysurUqeNov3DhgoYMGaKJEyfqq6++MnNIAAAAoNIzO0/Oz8/XxIkTNWvWLPn5+Tlt2717t7KzsxUeHu5oq1OnjsLCwpSamuq4Gjk1NVUDBw6Ur6+vIy4iIkLTpk3Tzp07FRYW9mt3FwAAANWAqVcsp6ena8qUKU7JsiT5+Pjo6aef1sGDB80cDgAAAKgSzM6TV6xYodzcXE2YMKHYsdzd3RUQEODU3rp1a6WnpzvFWa1Wp5imTZvK29vbKQ4AAAAojqlXLAcGBur06dPFbjt16lSRxBUAAACoDszMkzMzM/XXv/5Vb7zxhmrVqlVku81mk4+Pj9zd3Z3aLRaL7Ha78vLy5OHhIZvNVuRq58I4m8120/MBAABA9WRqYfmFF17QH//4R/n4+Oihhx5S7dq1lZubq3fffVfx8fF67bXXzBwOAAAAqBLMzJNnzpypbt26afDgweU446ISEhKUkJAgScrIyLilYwMAAKDyMbWw/OCDD8put2vUqFGSrvxp34ULFyRJnp6eevjhh53iz5w5Y+bwAAAAQKVkVp68f/9+rV69Wh9++KHOnTsnSbLb7ZKkrKwsubu7y2Kx6MKFC8rPz3e6atlms8nb21seHh6SrlyZnJWVVWQMm80mi8VSpD0yMlKRkZGSpODg4FLtPwAAAFyPqYXlCRMmyM3NzcwuAQAAgCrPrDz50KFDunTpkrp3715k25133qk//elPGjVqlPLz83X48GG1atXKsf3aNZWtVmuRtZRPnDghu93OEnYAAAC4IVMLy7GxsWZ2BwAAALgEs/Lke++9V9u3b3dq27x5sxYsWKCUlBQ1b95czZo1k6+vrxITE/Xss89KunJVc3JysuOKY0kKDQ3VwoULdf78edWtW1eStHbtWnl5eal3796mzBcAAACuy9TCMgAAAIDyU79+ffXp08ep7fjx45Kk++67Tz4+PpKk6dOnKy4uThaLRVarVYsXL1ZBQYEmTpzouF9UVJSWLVumoUOHatq0aTp69KhiY2MVExMjX1/fW7VLAAAAqKLKXFgODw/X/Pnzdffddys8PPyG8e+8805ZhwQAAAAqvYrMk6dPn66CggLNnz9fmZmZCg4O1tatW9WwYUNHjMViUVpamqKjoxUWFiY/Pz9NnjyZv0IEAADATSlzYTkjI0OXLl2SdOVHRlhjGQAAALh1efLYsWM1duxYpzY3NzfNnDlTM2fOLPG+gYGB2rZtW7nMCwAAAK6tzIXlq9d427FjR1m7AwAAAFwCeTIAAABcWQ2zOrp48aJatmypzZs3m9UlAAAAUOWRJwMAAMAVmVZY9vT01Llz51SjRtm7TEpKUo8ePVSvXj15enqqVatWmjNnjvLy8hwxhmFo3rx5atKkiby8vNSrVy/t3bu3SF8HDhxQ//795e3trcaNG2vWrFnKz88v8xwBAACAm2FmngwAAABUFqZmt7///e/18ssvl7mfzMxM9evXT6tWrVJqaqoee+wxzZ07VzExMY6Y+Ph4xcXFadq0aUpOTpaPj49CQkJ0+vRpR4zNZlNISIjc3Ny0YcMGzZo1S4sWLdLs2bPLPEcAAADgZpmVJwMAAACVRZnXWL5a06ZN9c4776hLly4KDQ1Vw4YNnX6kxM3NTU888cQN+xk/frzT7b59+yo7O1svvviiXnjhBeXm5io+Pl4zZsxQdHS0JKl79+7y9/fX8uXLNWfOHEnSihUrlJOTo3Xr1snX11cDBgxQdna2YmNjNXXqVPn6+pq49wAAAEDxzMqTAQAAgMqizIXl5s2b691331WHDh00ZcoUSdKpU6f05ZdfFoktS8Jcr149x1IYu3fvVnZ2tsLDwx3b69Spo7CwMKWmpjoKy6mpqRo4cKBTATkiIkLTpk3Tzp07FRYW9qvmAgAAANzIrcqTAQAAgIpQ5qUwjh8/rtzcXElSQUFBif9Ku7Zxfn6+7Ha7Pv74Yy1btkxPPPGE3NzclJ6eLnd3dwUEBDjFt27dWunp6Y7b6enpslqtTjFNmzaVt7e3UxwAAABgtvLMkwEAAICKZupSGGarU6eOIxkfPXq0Fi5cKOnK2sk+Pj5yd3d3irdYLLLb7crLy5OHh4dsNpv8/PyK9GuxWGSz2cp/BwAAAAAAAADABZny431Xrw9npt27d+ujjz7SokWLtGHDBsd6yuUpISFBwcHBCg4OVkZGRrmPBwAAANdVXnkyAAAAUNFMuWK5W7duNx1bmj/z69SpkyTp3nvvVf369TVmzBhNmTJFFotFFy5cUH5+vtNVyzabTd7e3vLw8JB05crkrKysIv3abDZZLJZix4yMjFRkZKQkKTg4+KbnCgAAAFyrvPJkAAAAoKKZUliOiYmRv7+/GV1dV2GR+dixY7JarcrPz9fhw4fVqlUrR8y1aypbrdYiaymfOHFCdru9yNrLAAAAgNluRZ4MAAAAVARTCssjRoxQ165dzejqunbt2iVJuuuuu/Tb3/5Wvr6+SkxM1LPPPitJstvtSk5OdlxtLEmhoaFauHChzp8/r7p160qS1q5dKy8vL/Xu3btc5wsAAADcijwZAAAAqAiV8sf7Bg0apJCQELVp00bu7u7atWuXFi1apJEjR+ruu++WJE2fPl1xcXGyWCyyWq1avHixCgoKNHHiREc/UVFRWrZsmYYOHapp06bp6NGjio2NVUxMjHx9fStq9wAAAAAAAACgSquUheUuXbrolVde0fHjx1WzZk01b95c8+fPV1RUlCNm+vTpKigo0Pz585WZmang4GBt3bpVDRs2dMRYLBalpaUpOjpaYWFh8vPz0+TJkxUbG1sBewUAAAAAAAAArqHMheWXX37ZcRWxWeLi4hQXF1dijJubm2bOnKmZM2eWGBcYGKht27aZOT0AAADghsojTwYAAAAqizIXlseMGWPGPAAAAACXQp4MAAAAV1ajoicAAAAAAAAAAKhaKCwDAAAAAAAAAEqlzIXlH374QZcuXTJjLgAAAIDLIE8GAACAKytzYfmuu+7S119/LUnq16+f0tPTyzwpAAAAoKojTwYAAIArK3Nh2cvLS3a7XZK0Y8cOZWdnl3lSAAAAQFVHngwAAABXVrOsHXTs2FGTJk3SgAEDJEkvvPCC7rjjjmJj3dzctGDBgrIOCQAAAFR65MkAAABwZWUuLP/rX//SM888ow0bNsjNzU1paWmqXbt2sbEkzAAAAKguyJMBAADgyspcWLZarUpOTpYk1ahRQ+vXr1fXrl3LPDEAAACgKiNPBgAAgCsrc2H5aseOHbvun/cBAAAA1RV5MgAAAFyNqYXlZs2a6fLly1q7dq0+/vhjnT17Vrfddpvuu+8+DR06VDVrmjocAAAAUCWQJwMAAMDVmJrBnjlzRvfff7+++eYb+fv7q2HDhvrkk0/04osvqkOHDnr//ffVoEEDM4cEAAAAKj3yZAAAALiaGmZ2FhMTo8zMTH366ac6evSoPvnkEx09elSfffaZMjMzFRMTY+ZwAAAAQJVAngwAAABXY2phOSUlRQsWLCjyoyRdunTR/Pnz9d5775k5HAAAAFAlkCcDAADA1ZhaWM7NzVXdunWL3Va3bl3l5eWZORwAAABQJZAnAwAAwNWYWlju1q2bFixYoF9++cWp/ZdfftGCBQvUrVs3M4cDAAAAqgTyZAAAALgaUwvLixYt0v79+9WkSRNFRERo0qRJeuSRR9SkSRMdOHBAixYtMnM4AAAAoEowK09OSkpSjx49VK9ePXl6eqpVq1aaM2eO0xXPhmFo3rx5atKkiby8vNSrVy/t3bu3SF8HDhxQ//795e3trcaNG2vWrFnKz883bZ8BAADg2kwtLAcFBenQoUOKjIxURkaGtm7dqjNnzigqKkqHDh1Shw4dzBwOAAAAqBLMypMzMzPVr18/rVq1SqmpqXrsscc0d+5cpx//i4+PV1xcnKZNm6bk5GT5+PgoJCREp0+fdsTYbDaFhITIzc1NGzZs0KxZs7Ro0SLNnj3b9H0HAACAa6ppdof169dXfHy82d0CAAAAVZoZefL48eOdbvft21fZ2dl68cUX9cILLyg3N1fx8fGaMWOGoqOjJUndu3eXv7+/li9frjlz5kiSVqxYoZycHK1bt06+vr4aMGCAsrOzFRsbq6lTp8rX17dM8wQAAIDrM/WKZQAAAAC3Vr169RxLYezevVvZ2dkKDw93bK9Tp47CwsKUmprqaEtNTdXAgQOdCsgRERHKycnRzp07b93kAQAAUGVRWAYAAACqmPz8fNntdn388cdatmyZnnjiCbm5uSk9PV3u7u4KCAhwim/durXS09Mdt9PT02W1Wp1imjZtKm9vb6c4AAAA4HpMXwoDAAAAQPmqU6eOcnNzJUmjR4/WwoULJV1ZO9nHx0fu7u5O8RaLRXa7XXl5efLw8JDNZpOfn1+Rfi0Wi2w2W/nvAAAAAKo8rlgGAAAAqpjdu3fro48+0qJFi7RhwwbHesrlKSEhQcHBwQoODlZGRka5jwcAAIDKzbTCcm5urubOnav//Oc/ZnUJAAAAVHnlkSd36tRJ9957r2JiYrRs2TL985//1JEjR2SxWHThwgXl5+c7xdtsNnl7e8vDw0PSlSuTs7KyivRrs9lksViKHTMyMlJ79uzRnj171KBBA9P2BQAAAFWTaYXl2rVra+7cuTp37pxZXQIAAABVXnnnyZ06dZIkHTt2TFarVfn5+Tp8+LBTzLVrKlut1iJrKZ84cUJ2u73I2ssAAABAcUxdCuOee+7RV199ZWaXAAAAQJVXnnnyrl27JEl33XWXevToIV9fXyUmJjq22+12JScnKzQ01NEWGhqqLVu26Pz58462tWvXysvLS7179y6XeQIAAMC1mPrjfc8995xGjRqlWrVqafDgwWrYsKHc3NycYry9vc0cEgAAAKj0zMqTBw0apJCQELVp00bu7u7atWuXFi1apJEjR+ruu++WJE2fPl1xcXGyWCyyWq1avHixCgoKNHHiREc/UVFRWrZsmYYOHapp06bp6NGjio2NVUxMjHx9fc3deQAAALgkUwvL99xzjyTpqaee0qRJk4qNuXa9NwAAAMDVmZUnd+nSRa+88oqOHz+umjVrqnnz5po/f76ioqIcMdOnT1dBQYHmz5+vzMxMBQcHa+vWrWrYsKEjxmKxKC0tTdHR0QoLC5Ofn58mT56s2NjYsu0oAAAAqg1TC8urV68ucuUFAAAAUN2ZlSfHxcUpLi6uxBg3NzfNnDlTM2fOLDEuMDBQ27ZtK/OcAAAAUD2ZWlgeO3asmd0BAAAALoE8GQAAAK7G1MJyoQMHDujLL7/UiRMn9Nhjj6lRo0Y6fPiwGjZsqLp165bHkAAAAEClR54MAAAAV2FqYfnChQt67LHHlJSUpFq1auny5csaNGiQGjVqpL/85S9q2rSp/vGPf5g5JAAAAFDpkScDAADA1dQws7OYmBjt3r1baWlpOn/+vAzDcGwbPHiwNm/ebOZwAAAAQJVAngwAAABXY+oVy+vWrdPSpUvVt2/fIr9q3axZM33//fdmDgcAAABUCeTJAAAAcDWmXrGck5OjevXqFbvt/Pnzcnd3N3M4AAAAoEogTwYAAICrMbWw3KVLF7322mvFbktKSlKPHj3MHA4AAACoEsiTAQAA4GpMXQojLi5OAwYMUEhIiEaMGCE3NzelpKRoyZIlSkpK0ocffmjmcAAAAECVQJ4MAAAAV2PqFcv33Xef0tLSlJubq+joaBmGodmzZ+vo0aP64IMP1KVLFzOHAwAAAKoE8mQAAAC4GlOvWJaknj176qOPPlJOTo5sNpv8/Pzk7e1t9jAAAABAlUKeDAAAAFdi6hXLV/P09FStWrXk5eVVXkMAAAAAVQ55MgAAAFyB6YXllJQU9ejRQ56enmrUqJE8PT3Vo0cPvffeezfdR2Jioh544AH99re/lY+Pjzp37qy33nqrSNy//vUvBQQEyNPTU507d1ZaWlqRmJMnT+rhhx9W3bp1Vb9+fUVHR8tut5dpHwEAAIDSMiNPBgAAACoLUwvLK1euVFhYmHx8fLR06VIlJiZq6dKl8vHx0QMPPKCVK1feVD+LFy+Wj4+PlixZoo0bN6pv374aNWqUXnjhBUfMW2+9paioKI0ePVqpqalq06aNhgwZon379jliLl26pIEDB+r777/X22+/7ZhTZGSkmbsNAAAAlMisPBkAAACoLExdY3nevHkaP368XnrpJaf2qKgoRUVFae7cuRo/fvwN+0lOTlb9+vUdt/v166effvpJixcv1sSJEyVJsbGxGjNmjP76179Kknr37q2vv/5a8fHxeuONNyRJSUlJOnjwoA4fPqy77rpLklSrVi1FRERo9uzZCggIMGW/AQAAgJKYlScDAAAAlYWpVyxnZmbq4YcfLnbbsGHDdPbs2Zvq5+qicqGOHTvqp59+kiQdPXpU//3vfxUeHu7YXqNGDY0YMUKpqamOttTUVHXp0sVRVJakhx56SB4eHtq8efNNzQUAAAAoK7PyZAAAAKCyMLWw3LdvX+3cubPYbTt37lSvXr1+dd+ffPKJWrZsKUlKT0+XJFmtVqeY1q1b6+zZs8rIyHDEXRvj4eGhu+++29EHAAAAUN7KM08GAAAAKkKZl8I4cOCA4/9PPfWUHn/8cWVmZuqhhx7S7bffrjNnzujdd99VamqqVq1a9avGSEtL0/r167V69WpJks1mkyT5+fk5xVksFsf2Bg0ayGazFYkpjCvsAwAAACgPtyJPBgAAACpKmQvLbdu2lZubm+O2YRhauXKlVq5cKTc3NxmG4dg2aNAg5efnl6r/48ePa9SoUXrwwQc1duzYsk73hhISEpSQkCBJjiufAQAAgNIq7zwZAAAAqEhlLixv377djHkU6+zZswoNDVWzZs305ptvOtoLr0zOyspyuiK58Crkwu0Wi0VZWVlF+rXZbOrQoUOxY0ZGRioyMlKSFBwcbM6OAAAAoNopzzwZAAAAqGhlLiz37t3bjHkUYbfbNWTIEOXl5WnTpk3y9vZ2bCtcNzk9PV3NmjVztKenp+u2225TgwYNHHHXrqWcl5eno0ePKioqqlzmDQAAAEjllycDAAAAlYGpP953tcuXL8tutxf5d7P3HTFihA4dOqTNmzfr9ttvd9revHlztWzZUomJiY62goICJSYmKjQ01NEWGhqqL774Qt9//72jbePGjcrNzdWgQYPKuIcAAABA6ZUlTwYAAAAqizJfsXy1rKwszZgxQ++++64yMjKc1o0rdDNrxz355JNKSUnR0qVLlZmZqczMTMe2jh07qnbt2oqNjdUf/vAH+fv7q2fPnnr11Vd16NAhrVmzxhE7fPhwzZ07V0OHDlVcXJyysrI0efJkjRo1SgEBAebsNAAAAHADZuXJAAAAQGVhamF57Nix2rlzp8aNG6cWLVrIw8PjV/Xz/vvvS5ImTZpUZNuxY8fk7++vRx55RBcuXNCCBQsUFxenNm3aaNOmTWrbtq0jtlatWtq8ebOio6MVHh6u2rVrKyIiQgsXLvx1OwgAAAD8CmblyQAAAEBlYWphOS0tTStXrtQjjzxSpn6OHz9+U3Hjxo3TuHHjSoy58847tX79+jLNBwAAACgLs/JkAAAAoLIwdY3lpk2bOv3IHgAAAADyZAAAALgeUwvLzz33nObMmaMffvjBzG4BAACAKo08GQAAAK7G1KUwBg8erA8++EAtWrSQv7+//Pz8isR8/vnnZg4JAAAAVHrkyQAAAHA1phaWn376aT3//PPq0qULP0oCAAAA/P/IkwEAAOBqTC0sr1q1SnPnztWMGTPM7BYAAACo0siTAQAA4GpMXWPZ29tbnTt3NrNLAAAAoMojTwYAAICrMbWwPGnSJCUkJMgwDDO7BQAAAKo08mQAAAC4GlOXwvj555/12WefqVWrVurTp0+RHyVxc3PTggULzBwSAAAAqPTMypMTExP1+uuv68svv1RWVpZatWqlp59+Wo888ohT3L/+9S8999xzOnHihNq0aaPnnntO/fv3d4o5efKkoqOj9cEHH6h27dqKiIjQc889J29v77LvMAAAAFyeqYXlpKQk1axZU5cuXdLWrVuLbKewDAAAgOrIrDx58eLFuuuuu7RkyRLVr19fKSkpGjVqlH7++WdNnDhRkvTWW28pKipKsbGxuvfee/Xyyy9ryJAh+uKLL9S2bVtJ0qVLlzRw4EB5eHjo7bff1rlz5xQTE6Nz587pjTfeMHfnAQAA4JJMLSwfO3bMzO4AAAAAl2BWnpycnKz69es7bvfr108//fSTFi9e7Cgsx8bGasyYMfrrX/8qSerdu7e+/vprxcfHO4rGSUlJOnjwoA4fPqy77rpLklSrVi1FRERo9uzZCggIMGW+AAAAcF2mrrEMAAAAoPxcXVQu1LFjR/3000+SpKNHj+q///2vwsPDHdtr1KihESNGKDU11dGWmpqqLl26OIrKkvTQQw/Jw8NDmzdvLsc9AAAAgKsw9Yrll1566YYxTz75pJlDAgAAAJVeeebJn3zyiVq2bClJSk9PlyRZrVanmNatW+vs2bPKyMhQgwYNlJ6ersDAQKcYDw8P3X333Y4+AAAAgJKYWliOjo6+7jY3NzdJFJYBAABQ/ZRXnpyWlqb169dr9erVkiSbzSZJRX4c0GKxOLY3aNBANputSExhXGEfAAAAQElMXQqjoKCgyL+zZ8/qrbfeUocOHXTgwAEzhwMAAACqhPLIk48fP65Ro0bpwQcf1NixY82f9DUSEhIUHBys4OBgZWRklPt4AAAAqNzKfY1lPz8/jRw5UlFRURo/fnx5DwcAAABUCWXJk8+ePavQ0FA1a9ZMb775pqO98MrkrKwsp/jCq5ALt1ssliIxhXGFMdeKjIzUnj17tGfPHjVo0KBU8wUAAIDruWU/3nfXXXdpz549t2o4AAAAoEoobZ5st9s1ZMgQ5eXladOmTfL29nZsK1xb+dp1ktPT03Xbbbc5CsJWq7VITF5eno4ePVpkfWYAAACgOLeksHzq1CktWrTI6VenAQAAgOqutHny5cuXNWLECB06dEibN2/W7bff7rS9efPmatmypRITEx1tBQUFSkxMVGhoqKMtNDRUX3zxhb7//ntH28aNG5Wbm6tBgwaVca8AAABQHZj6430NGjRw/PhIoby8PJ0/f16enp5at26dmcMBAAAAVYJZefKTTz6plJQULV26VJmZmcrMzHRs69ixo2rXrq3Y2Fj94Q9/kL+/v3r27KlXX31Vhw4d0po1axyxw4cP19y5czV06FDFxcUpKytLkydP1qhRoxQQEGDOTgMAAMClmVpYnjBhQpGE2dPTU3feeaeAj25JAAAgAElEQVQGDRqkevXqmTkcAAAAUCWYlSe///77kqRJkyYV2Xbs2DH5+/vrkUce0YULF7RgwQLFxcWpTZs22rRpk9q2beuIrVWrljZv3qzo6GiFh4erdu3aioiI0MKFC8uwlwAAAKhOTC0sx8bGmtkdAAAA4BLMypOPHz9+U3Hjxo3TuHHjSoy58847tX79ehNmBQAAgOrolv14HwAAAAAAAADANZT5iuV+/frddKybm5vS0tLKOiQAAABQ6ZEnAwAAwJWVubB8M+vBnTp1Srt37y6yrhwAAADgqsiTAQAA4MrKXFhOTEy87rYffvhBCxYs0KZNm1S/fn1Nnjy5rMMBAAAAVQJ5MgAAAFyZqT/eV+jw4cOaP3++3njjDd1+++2aP3++xo8fLy8vr/IYDgAAAKgSyJMBAADgKkwtLO/fv19z585VYmKimjRpoqVLl+qxxx6Th4eHmcMAAAAAVQp5MgAAAFxNDTM6+fLLLzV06FC1b99eX331lVatWqVDhw4pKiqKZBkAAADVFnkyAAAAXFWZr1gODQ3V+++/r3bt2untt9/WiBEjzJgXAAAAUKWRJwMAAMCVlbmwvGXLFknSjz/+qAkTJmjChAklxp85c6asQwIAAACVHnkyAAAAXFmZC8uzZ882Yx4AAACASyFPBgAAgCujsAwAAACUA/JkAAAAuDJTfrwPAAAAAAAAAFB9UFgGAAAAAAAAAJQKhWUAAAAAAAAAQKlQWAYAAAAAAAAAlAqFZQAAAAAAAABAqVBYBgAAAAAAAACUCoVlAAAAAAAAAECpUFgGAAAAAAAAAJQKhWUAAAAAAAAAQKlQWAYAAAAAAAAAlEqlLSwfPnxY48ePV/v27eXu7q4+ffoUiTEMQ/PmzVOTJk3k5eWlXr16ae/evUXiDhw4oP79+8vb21uNGzfWrFmzlJ+ffwv2AgAAAAAAAABcT6UtLO/fv18pKSlq1aqVWrZsWWxMfHy84uLiNG3aNCUnJ8vHx0chISE6ffq0I8ZmsykkJERubm7asGGDZs2apUWLFmn27Nm3alcAAAAAAAAAwKVU2sJyWFiYTpw4ocTERLVp06bI9osXLyo+Pl4zZsxQdHS0QkJClJiYKDc3Ny1fvtwRt2LFCuXk5GjdunUaMGCAoqKiNHv2bC1evFjZ2dm3cpcAAAAAAAAAwCVU2sJyjRolT2337t3Kzs5WeHi4o61OnToKCwtTamqqoy01NVUDBw6Ur6+voy0iIkI5OTnauXOn+RMHAAAAAAAAABdXaQvLN5Keni53d3cFBAQ4tbdu3Vrp6elOcVar1SmmadOm8vb2dooDAAAAAAAAANycKltYttls8vHxkbu7u1O7xWKR3W5XXl6eI87Pz6/I/S0Wi2w22y2ZKwAAAAAAAAC4kpoVPYHKJiEhQQkJCZKkjIyMCp4NAAAAAAAAAFQ+VfaKZYvFogsXLig/P9+p3WazydvbWx4eHo64rKysIve32WyyWCxF2iMjI7Vnzx7t2bNHDRo0KJ/JAwAAAAAAAEAVVmULy1arVfn5+Tp8+LBT+7VrKlut1iJrKZ84cUJ2u73I2ssAAAAAAAAAgBursoXlHj16yNfXV4mJiY42u92u5ORkhYaGOtpCQ0O1ZcsWnT9/3tG2du1aeXl5qXfv3rd0zgAAAAAAAADgCiptYdlutyspKUlJSUk6efKkMjIyHLftdrs8PT01ffp0zZs3Ty+++KLS0tI0YsQIFRQUaOLEiY5+oqKiVLt2bQ0dOlQffPCBEhISFBsbq5iYGPn6+lbgHgIAAACld/jwYY0fP17t27eXu7u7+vTpUyTGMAzNmzdPTZo0kZeXl3r16qW9e/cWiTtw4ID69+8vb29vNW7cWLNmzSqy1BwAAABQnEr7431nzpzRiBEjnNoKbx87dkz+/v6aPn26CgoKNH/+fGVmZio4OFhbt25Vw4YNHfexWCxKS0tTdHS0wsLC5Ofnp8mTJys2NvZW7g4AAABgiv379yslJUXdunXTpUuXio2Jj49XXFycFi5cKKvVqsWLFyskJET79u1To0aNJF35zZGQkBAFBgZqw4YNOnLkiKZMmaKCggLNmTPnVu4SAAAAqqBKW1j29/eXYRglxri5uWnmzJmaOXNmiXGBgYHatm2bmdMDAAAAKkRYWJgefPBBSdLw4cP1888/O22/ePGi4uPjNWPGDEVHR0uSunfvLn9/fy1fvtxRNF6xYoVycnK0bt06+fr6asCAAcrOzlZsbKymTp3KX/cBAACgRJV2KQwAAAAARdWoUXIKv3v3bmVnZys8PNzRVqdOHYWFhSk1NdXRlpqaqoEDBzoVkCMiIpSTk6OdO3eaP3EAAAC4FArLAAAAgAtJT0+Xu7u7AgICnNpbt26t9PR0pzir1eoU07RpU3l7ezvFAQAAAMWhsAwAAAC4EJvNJh8fH7m7uzu1WywW2e125eXlOeL8/PyK3N9ischms92SuQIAAKDqqrRrLAMAAACoPBISEpSQkCBJysjIqODZAAAAoKJxxTIAAADgQiwWiy5cuKD8/HyndpvNJm9vb3l4eDjisrKyitzfZrPJYrEUaY+MjNSePXu0Z88eNWjQoHwmDwAAgCqDwjIAAADgQqxWq/Lz83X48GGn9mvXVLZarUXWUj5x4oTsdnuRtZcBAACAa1FYBgAAAFxIjx495Ovrq8TEREeb3W5XcnKyQkNDHW2hoaHasmWLzp8/72hbu3atvLy81Lt371s6ZwAAAFQ9rLEMAAAAVCF2u10pKSmSpJMnTyo7O1tJSUmSpMGDB8vb21vTp09XXFycLBaLrFarFi9erIKCAk2cONHRT1RUlJYtW6ahQ4dq2rRpOnr0qGJjYxUTEyNfX98K2TcAAABUHRSWAQAAgCrkzJkzGjFihFNb4e1jx47J399f06dPV0FBgebPn6/MzEwFBwdr69atatiwoeM+FotFaWlpio6OVlhYmPz8/DR58mTFxsbeyt0BAABAFUVhGQAAAKhC/P39ZRhGiTFubm6aOXOmZs6cWWJcYGCgtm3bZub0AAAAUE2wxjIAAAAAAAAAoFQoLAMAAAAAAAAASoXCMgAAAAAAAACgVCgsAwAAAAAAAABKhcIyAAAAAAAAAKBUKCwDAAAAAAAAAEqFwjIAAAAAAAAAoFQoLAMAAAAAAAAASoXCMgAAAAAAAACgVCgsAwAAAAAAAABKhcIyAAAAAAAAAKBUKCwDAAAAAAAAAEqFwjIAAAAAAAAAoFQoLAMAAAAAAAAASoXCMgAAAAAAAACgVCgsAwAAAAAAAABKhcIyAAAAAAAAAKBUKCwDAAAAAAAAAEqFwjIAAAAAAAAAoFQoLAMAAAAAAAAASoXCMgAAAAAAAACgVCgsAwAAAAAAAABKhcIyAAAAAAAAAKBUKCwDAAAAAAAAAEqFwjIAAAAAAAAAoFQoLAMAAAAAAAAASoXCMgAAAAAAAACgVCgsAwAAAAAAAABKhcIyAAAAAAAAAKBUKCwDAAAAAAAAAEqFwjIAAAAAAAAAoFSqRWH5wIED6t+/v7y9vdW4cWPNmjVL+fn5FT0tAAAAoEKRJwMAAODXqlnREyhvNptNISEhCgwM1IYNG3TkyBFNmTJFBQUFmjNnTkVPDwAAAKgQ5MkAAAAoC5cvLK9YsUI5OTlat26dfH19NWDAAGVnZys2NlZTp06Vr69vRU8RAAAAuOXIkwEAAFAWLr8URmpqqgYOHOiUGEdERCgnJ0c7d+6swJkBAAAAFYc8GQAAAGXh8oXl9PR0Wa1Wp7amTZvK29tb6enpFTQrAAAAoGKRJwMAAKAsXL6wbLPZ5OfnV6TdYrHIZrNVwIwAAACAikeeDAAAgLJw+TWWSyshIUEJCQmSrlzFERwcXMEzqjgZGRlq0KBBRU/DFEsregJVkCsdf5SOKx37WbMqegZVjysd/1v3Ge5+i8Ypf9X5+B8/frx8JuJCyJP/jyu9VsiTS8+Vjj9Kx5WOPXly6bnS8SdPLr3qfPxLypNdvrBssViUlZVVpN1ms8lisRRpj4yMVGRk5K2YWqUXHBysPXv2VPQ0UEE4/tUXx7564/hXbxz/6oU8+dfjtVK9cfyrL4599cbxr944/sVz+aUwrFZrkTXiTpw4IbvdXmRNOQAAAKC6IE8GAABAWbh8YTk0NFRbtmzR+fPnHW1r166Vl5eXevfuXYEzAwAAACoOeTIAAADKwj02Nja2oidRntq2bauVK1dq+/btaty4sT744APNmDFDkydPVmhoaEVPr9Lr3LlzRU8BFYjjX31x7Ks3jn/1xvGvPsiTy4bXSvXG8a++OPbVG8e/euP4F+VmGIZR0ZMobwcOHFB0dLQ++eQT+fn56fHHH1dsbKzc3V1nEXEAAACgtMiTAQAA8GtVi8IyAAAAAAAAAMA8Lr/GclXj7+8vq9WqDh06qHXr1lq1apVj28aNG/XMM89U4OxuzM3NTe3bt1eHDh3UsWNHpaWllbqPsWPHavny5eUwu+uz2Wzy8vLSpEmTnNpjY2P19NNP39K5FMesebzyyisaPny44/amTZt055136vPPP9eePXv0+9///oZ97NixQ8HBwZKk48ePq379+mWe1/X6v1lXv27atm2rt99+W1LR/a0q7rnnHgUFBSkwMFA1a9ZUUFCQgoKC1Ldv35s6RiXp06ePNm3aVOr7ubm56cKFC2UaGzcvMTFRHTt2VFBQkKxWq0aNGlVifEmvxV97zK9W0uvy6veOc+fO6bnnnivTWK6u8P2q8NiOGzdOly5dkiStWLFCS5YsKfH+N/sZuX79en3++eeO28ePH1dCQsJ14/Py8vTkk0+qTZs2at++vdq2bas1a9ZIkvbu3at33nnnZnaviKufOzf7OQMUZ9OmTerYsaNWr15d0VNBBSNPqp44T+Y8uTicJ5fM1c6TOUeqnGpW9ARQVFJSktq2bat9+/apU6dOGjx4sBo3bqwHHnhADzzwQEVP74Z2794tHx8fbdiwQSNHjtSZM2dUo8bNfYeRn59fzrMr3po1a9StWze99dZbWrhwoTw8PCpkHma6fPmyata8/kt8zZo1mjFjhrZs2aI2bdpIkt58881bNT3TFb5uvv76a/Xo0UMhISEVPaVf7bPPPpN05YMwODhYe/fureAZ4VY6deqUnnzySX311Vdq0qSJDMOo0OfA5cuXS9weHBzseO8oTJqmTp16K6ZWZRW+X+Xn5+u+++7TunXrNHLkSEVFRZk2xvr16xUcHKyuXbtK+r/CcmRkZLHxS5cuVWZmpr755hu5u7vrwoULOnXqlKQrheVNmzYpPDy8THO6+rkClNaqVav06aefatiwYXrssccqejqoQORJ1Rfnybce58mcJ1cWnCNVXlyxXIm1bdtWFotFJ0+elOT8rdKOHTsUFBSk8ePHO775PHjwoOO+M2fOVIsWLXTPPfdo2rRpjm9RbnS/V199Vffcc486d+6sfv366bvvvpN05UOwU6dOCgoKUps2bfTWW2/dcP4DBgxQZmamMjMz9fvf/17BwcFq166dHn74YdlsNsd82rdvr0cffVRBQUFKTU116mP79u1q37699u3bV4ZH8sZWr16tZ599Vu3bt9eGDRuuG7dgwQJ17dpVnTp1UlhYmE6fPq2cnByn+23btk1Wq1Xnz5/X6dOn1bdvX3Xu3Flt2rRxeiOJjY3VI488osGDB8tqtep3v/ud7Ha7JCkrK0vDhw+X1WpVnz59dOTIEcf98vLy9Mwzz6hr167q0KGD/vjHPzqukBg7dqwef/xx3XfffSV+m7lixQrNmjVL27dvd3xYXvttW0pKinr27KnOnTure/fu+vTTT2/4OJZ0nEt63j377LNq0aKFunTpovfee8/R/t1336l79+6Ob1j/8Y9/3HAOHTt2VN26dXXs2DGn9pKOxYYNG9SuXTsFBQWpbdu22rFjhyTpb3/7m+PKwo4dO+rcuXM3HL88XX2Mrj1eV98OCQlxeh5v2rRJffv2ddzeuXOn7r33XjVv3lzTp093tB8+fFj9+/dX+/bt1alTJ23evLnYefj7++vZZ59V9+7d1bRpU61Zs0bPP/+8unbtqhYtWujDDz90xF7veXSj50R1dvr0adWqVUv16tWTdOUKl44dOxb5xv1638Dn5uZq5MiRmjJliq5d7ertt99Wly5d9OOPP+rUqVMaPny4unbtqnbt2mnevHmOOH9/f02fPl1du3bV+PHjJUmXLl3S6NGj1aZNG3Xt2lUHDhyQ5PzcmzBhgs6dO6egoCD16NFDkm44zqxZs9S9e3f5+/vf8qtwKtrFixd18eJFWSwWSc5X3dzM5+71Pg+2bNmijRs3Kj4+XkFBQXrttdc0YcIEHThwQEFBQcVeofLjjz+qUaNGjnV1fXx8FBAQoMzMTM2aNUsffPCBgoKC9NRTT0m6/vu9dP339Gvft1577TW1a9dO7du318MPP6wzZ85IupLv3H///Ro5cqTatGmjnj176vTp02V9uFHJlXQ1Ymn7Kcwbr/5/Wf2aK8Uq2o4dO+Tu7l5t3lvJk6oPzpM5T+Y8ufqdJ3OOVIkZqFSaNWtmfPvtt4ZhGMbHH39sBAYGGrm5uYZhGMbLL79sDBs2zDAMw9i+fbtRs2ZN46uvvjIMwzDmzJljjBo1yjAMw9i4caPRvn1748KFC0Z+fr7x8MMPG507d77h/T788ENj8ODBxsWLFw3DMIyUlBSjR48ehmEYxgMPPGCsWbPGMAzDKCgoMGw2W7Hzl2ScP3/eMd8777zTMAzDyMjIcMTMnDnTmDZtmmM+NWrUMHbv3u3YPmbMGOOFF14w3njjDSM4ONj48ccff+WjeXP+85//GM2aNTMKCgqMN954wxg0aJBj2+zZs40pU6YYhmEYr7/+ujFu3DgjPz/fMAzDeOmllxyP3cGDB40mTZoYn332meHv7+94fHNychyPR15entG3b18jNTXV0XeLFi0Mm81mFBQUGAMGDDASEhIMwzCMmJgY49FHHzUM48pj16RJE8c84uLijLi4OMccp06davzlL38xDOPKY9e5c2fjwoULxe7ryy+/bNx2221Go0aNjJMnTzpt2759u+N5cvjwYaNbt25GVlaWYRiGsW/fPqNJkyZF4o4dO2bUq1fP0UdJx7mk52u7du2M8+fPG5cvXzaGDBni6P+pp54y5s2b5+jz7Nmzxe7X1a+bbdu2GXXr1jVsNpvTa6akY9G+fXvHc/Dy5ctGVlaWkZmZafzmN78x7Ha7YRiGkZ2dbVy6dKnY8cvLtY/v1Y/91f+/9vbrr79uPPzww45tQ4cONV599VXDMAyjd+/eRnh4uJGfn2+cO3fOqFevnvHf//7XMAzD6Nq1q7Fq1SrDMAxj//79Rr169YwzZ84YhuH82m7WrJnx9NNPG4ZhGJ9//rnh7e1tLF++3DAMw1i7dq3Rs2dPwzBu/Dy63nOiusvPzzcefPBBo169esawYcOMJUuWGD///HOR58PVtwv/n5mZafTu3dtYunSpI653795GcnKysWDBAqN///7GuXPnDMMwjJCQEGPnzp2GYRhGbm6uce+99xrvv/++YRhXjvETTzzh6GP79u2GJGPHjh2GYRjGK6+8Uuxz8do53sw4he9tx44dM+rUqeN4nrmqZs2aGa1atTI6dOhg+Pj4GEOHDnVsu/oz53qfu4WfkYZx48+DwjjDKPqeca1vvvnGuOOOO4y2bdsa48ePN959913HtqvfSwtd7/2+pPf0q+fw7bffGnfccYfx008/GYZhGM8++6wRHh7uGM/Pz8/44YcfDMMwjMcff9yxX3BdV3+Wf/vtt0atWrWccpX33nvP6Nixo/Hyyy/fdD9X/7+sbvQautrly5dNGbMssrOzja5duxq/+93vnN4LXAl5UvXCeTLnyYbBeXJ1Pk/mHKnyniOxFEYlNHz4cBmGocOHDysxMfG6f27SqlUrdezYUZLUrVs3JScnS7ry7WV4eLjq1KkjSRozZozi4uJueL/k5GT95z//0T333CNJMgzD8U1a3759NWfOHB05ckQDBgxwxBSnR48eqlGjhho2bKj169dLunJV0ptvvqm8vDz98ssvatmypSM+ICBA3bt3d+rj5ZdflpeXl9LS0uTr63uTj9yv8+9//1ujR4+Wm5ubhg4dqokTJ+rkyZP67W9/6xS3ceNG7dmzR506dZJ05U8ffvOb30iSrFar/v73v6tHjx5asmSJ4/HNz8/XM888o927d8swDJ0+fVp79+7VoEGDJEkDBw6Un5+fpCvrxRV+47p9+3a98MILkqT69etr6NChTvPIzs5WUlKSpCvfvHXo0MGxffjw4Y5jXxyr1ar//e9/WrNmzXXXo9qyZYuOHDmiXr16OdouX76s//3vfyU+liUd55KeryNHjpSPj48k6U9/+pPmzJkjSerVq5emTp0qu92uvn37Ol1Ncq3hw4fL09NTvr6++n//7/85HtdCJR2Lfv36afLkyRo2bJhCQ0Mdf6LeokULjR49Wvfff7+GDBmiunXrlrj/lcXQoUM1efJkZWZmSrpy5c1rr73m2D5ixAjVqFFDv/nNb9S6dWsdOXJEjRo10t69e/Xoo49KkgIDAxUUFKRPP/1UYWFhRcYYOXKkJKlTp06y2+2O2507d9bhw4cl3fh5dL3nRHVXo0YNrV+/Xvv27dPOnTu1fv16LVy48IaPz8WLF3Xvvffqb3/7m0aMGOG0LTY2Vk2bNlVKSoo8PDz0yy+/aMeOHcrIyHDEnD9/XgcPHtSAAQMkSaNHj3bqo0WLFurdu7ck6Y9//KMiIyOVnZ1d4pxuZpyIiAhJV76Zt1gs+vHHH2W1Wkvst6or/JPEixcvatiwYXr++ef15z//2SnmZj53b/R5UBrt2rXT0aNH9eGHH2rXrl2aOHGiNm/erBUrVhQbf733+5Le06+2fft2DR48WHfccYckafz48U5z79mzp5o0aSLpyvvD1q1bf9V+oWq6+mrExo0ba82aNVq6dKkMw9DSpUvVpEkT9e/fX5L00Ucf6cknn5Qk9e7du8hVSO+8847GjRunU6dO6emnn1Z0dLSkK1c6nT9/3vFcLbxdo0YNjRkzRvv371etWrXUqlUrxxrjhVclffnll6pTp45eeeUVBQYGaseOHXrqqafUuXNnff3114qJidG0adN07NgxeXp6SpIeeOABRUREaNSoUVq+fLmWLl0qPz8/DR48WC+++KJ+/vlnSSpxW0pKiubOnauLFy/Kw8NDS5YsUbdu3Yp9DGNiYvTMM8+Uef1IV0SeVHVxnsx5MufJ1fc8mXOkynuORGG5Eio84UxMTNSjjz6qnj17qmHDhkXiChNVSXJ3d7/hGi83up9hGHrsscf097//vch9/vznPyssLEwffPCBJk6cqPvvv7/YE0Xp/9aOKvTRRx/pn//8p3bv3q0GDRpozZo1Tj8gdHVsoQ4dOujDDz/UwYMHS/xwLqu8vDytWbNGtWvXdiSUly5d0iuvvKKZM2c6xRqGoWefffa66/p99dVXatCggX788UdH2+LFi2Wz2fTZZ5/J09NTkZGRunjxomP7tcciJyfnhnM2DEMvvfSS+vXrV+z24h7Pq91xxx1au3at+vTpI0nFfmgahqFBgwY5JdmFrvdneDc6zr/m+Tps2DB1795d77//vuLj47V69Wq98cYbxcYWvm6up6RjsWTJEn377bfatm2bRowYoZiYGI0bN06ffvqpdu3apW3btqlz587avHmz2rdvf8N53wo1a9ZUQUGB4/bVzytvb289+OCDjh/eevDBB52SqF/73nG1wj4K/2z+6ttXv6eU9DwyYx6urG3btmrbtq0mTJigwMBA7du377rHXJI8PDzUrVs3bdy4UUOHDnUcG+n/CnPff/+9AgICVFBQIDc3N33xxReqVatWsePf6L3kZtzMONX5eeDp6akhQ4Zo06ZNRQrLN/O5e6PPg18zn/vvv1/333+/Bg8erAEDBhRbWL7R+71ZcylU3Z4XkHbt2qX69es7CgIDBw7UI488Ijc3N3333Xfq37+/fvzxR+Xm5ioiIkJvvvmm+vTpo3feeUcvvviiU192u12ffPKJjh8/rrZt22rs2LElvr9t2bJF2dnZjj9lvXqZl2+++UbLli3Ta6+9pldffVWjR4/Wnj17JEn79+/XypUrHUWglJQUrV27VmPGjNHx48e1Z88eJSUl6ZtvvtH8+fO1d+9eNWjQwOkHsUraduTIEcXFxWnLli3y9fXV/v37FRoaqh9++KHIPqSmpjr+XLy6FpbJk1wT58mcJ5eE8+TqcZ7MOVLlwxrLldiIESN0//33a/78+aW6X58+fZSUlCS73a6CggK9/vrrN3W/sLAwvfbaa443/Pz8fH355ZeSpP/+97+6++67NX78eE2aNMnpl+Zv5Ny5c/rN/8fencfVnP1/AH9d7bf1liV7hcqSoiwRZReyjCXLSJgvIbvBfC1lN8jXzjCNrH3JMslYwuCLMoaZxhoGZR9bhFKp8/vDr8903Vvdq1LM6/l43Mdj7vmczznn87lNve/bOedjbg4rKyukpaVp9DTv+vXrY9euXejXrx+OHz+ucV/aioyMhIODA+7evYuEhAQkJCQgOjoaYWFhKnU7d+6MVatWSV8w0tLS8McffwAAdu/ejRMnTuDSpUvYu3evtAfW8+fPUb58eRgaGuLevXt57kuVU8uWLbF+/XoAwNOnT7F7926lcSxevFj645r9L1vaqFSpEo4ePYrVq1er3Y+pbdu2OHDgAC5duiSV/frrr3m2+SGfM/DuWrdv347Xr18jMzNTum7g3V521tbW8Pf3R1BQkFY/d+rGl9tncfXqVTg5OWH06NH48ssv8euvv+Lly5d4/PgxPD09MWPGDOlBISWFnZ0dbt68iaSkJAghVPZz8/f3R1hYGMLCwqTZNXkxNTWFi4sLNmzYAGMqxJEAACAASURBVOBdYPTHH3/kOhNKEx/yc0TAvXv3EBsbK72/e/cuHj9+jJo1ayIjI0Oa6ZT9hThbqVKlEBoaCjMzM/j6+iIjI0M61r59e6xevRodOnTApUuXYGpqimbNmmH+/PlSnTt37uS5j+2NGzdw4sQJqW8nJyeVmTJmZmZISUmRAp8P6eefJCsrC8ePH1eatZJNk7+7ef09MDMzw4sXL6S6779/34kTJ6Q9joF3XwJtbW3VnpvX7/u8fqfn1KJFC+zbt0/6WVi3bp00Q4P+uXr06AEHBwc0b94cs2bNkmYj3rhxA+3atUPt2rXh6+uLhw8f4uHDh7h69SrkcrmUBOjVq5c0Sy6buhk/ecne33LEiBGIiIiAgYGBdOz9WUkXLlyQZiW9P7Nw1KhRWLVqFYB3e3YOGjQI+vr6OHbsGDp06IAyZcoAgFIiJq9jOWfJubi4oF+/fmpnyT1//hyTJ08u+fsxFjHGSZ83fk/m92SA35P/ad+T+R2p5OKM5RJu3rx5cHV1xaRJkzQ+p3PnzoiJiUHdunVhaWmJxo0bK822yE3z5s0xZ84cdO7cGZmZmUhPT0fPnj3h6uqKZcuW4ejRo9DX14eBgYG0/EQT7du3x+bNm2Fvb4/SpUujefPmGv3iq1u3Lvbu3QsfHx+sWLEC7dq107hPTf3www/o16+fUpm7u7v0ZT+n/v3748mTJ9IXiqysLAwfPhzm5uYYNWoUjhw5AktLS2zbtg0dOnRATEwMRo0ahZ49e6JOnTqoVKmStGwzP9OmTcOgQYPg6OgIa2trpaU2kydPRnBwMBo0aIBSpUpBJpMhKCgINWvW1OraK1eujGPHjklfxnI+kKBGjRrYvHkzBg8ejNTUVKSnp6Np06Zo0KBBru196OfcqVMnxMbGwtnZGQqFAl5eXtKDOLZv344tW7ZAX18fMpkMS5cu1eoac8rrs5g8eTKuX78OXV1dWFhYIDQ0FC9evED37t2RmpqKrKws1K9fX2mpVXGRyWQAgAoVKmD8+PFwdXVFuXLl4OnpqRTgeHh4SF92PTw8NGp7y5YtGDp0KP7zn/9AV1cXmzZtkr7cfogP+Tmid8vpgoKCkJiYCCMjI2RlZWH27Nlo0KABli5dijZt2qBMmTLo2LGjyrkymQwrV67EhAkT0LVrV+zcuVM61rJlS4SFhaFz587YsWMHtmzZgrFjx8LJyQnAuwDnhx9+gLW1tdpxOTk54fvvv8ewYcMgl8vVztSwtLREv3794OTkBIVCgZiYGK37+SfIXpKYnp6OOnXqYPr06Sp1NPm7m9ffg/79+8Pf3x8REREYN24c+vbtCwcHB9SpUweOjo7SMtFsCQkJGDVqFNLT06Gjo4OyZctKM19atWqFRYsWwdnZGZ6enggJCcn1931ev9NzqlOnDubPn482bdpAJpPBzs4O3333XWHcXvqE5TYbsU+fPggJCUHXrl2RlZUFuVyuMiMpW/bfyWy5zfjR0dGRZjjlbMvOzg6XLl3CkSNHsH//fvz73//GhQsX8h37+zOYmjRpgszMTJw6dQphYWEFThjmNUsup4sXL+LBgwdo2LAhAODJkyeIiorCs2fP1P6u+dwwTvrn4Pdkfk/m9+R/1vdkfkcqwT7eds70MSUnJwsh3m1wPnDgQDFlypRiHhERFdS2bdtEu3btinsYREREhe79B+316NFDjB49WgghhKWlpYiLixNCCLFu3ToBQNy6dUu8efNGVKxYUfzvf/8TQggREREhAOT68L6c7x0cHMThw4eFEEKEhoZKD9a6c+eOeP36tRBCiNevXwtzc3Nx7949cfToUSGTyaS+Nm3alOuD4rKFhYWJSpUqKT0oLi4uTlSsWFF6kNPYsWOlB/rkdezatWuiTJky4uLFi1JbZ86cyfe+vv8gz88Z4yTSBL8nExEVLm6F8Zny8/NDvXr1UKtWLaSlpWHixInFPSQiKoDvvvsOU6ZMwbhx44p7KEREREVu3rx5WL9+PR48eIAlS5aga9euqF+/Pm7evAkrKysAgIGBAcLDwzF8+HDUrVsXx44dQ5UqVTRqf/HixRg6dChcXV2VHp5z4cIFuLu7w9nZGQ0bNsQ333yDChUqAPh7VlKdOnWkvZbz0rt3byQlJUkPFwTebbUxceJEuLu7w9XVFbq6utL2HXkdyzlLztnZGTVr1uQs/xwYJ5Gm+D2ZiKhwyYR479HJREREREREVCAnT55EQEAALly4oLRFx8uXL2Fqagrg3RPp//zzT2nrmbyOEREREZU03GOZiIiIiIioEA0ePBiHDh3Cxo0bVfZ9njx5Mk6dOoX09HTY2dlh7dq1Gh0jIiIiKmk4Y5mIiIiIiIiIiIiItMI9lomIiIiIiIiIiIhIK0wsExEVUFhYGFxdXWFqagqFQoF69eopPTzm0aNHCA4ORkJCgtZtp6enIzg4GHFxcUrlCQkJkMlk2Lt3b0GHT0RERERERESkNSaWiYgKYN68efjqq6/Qrl077Nq1Cxs3bkSXLl2wZ88eqc6jR48wY8aMD04sz5gxQyWxXL58ecTGxsLDw6Ogl0BEREREREREpDUmlomICmDFihUYOnQo5s6dizZt2sDHxwfBwcG4fv16kfZrYGCAxo0bw8LCokj7ISIiIiL6UFzZR0T0eWNimYioAJ4/fw5ra2uV8uwnwCckJMDJyQkA0KJFC8hkMunY69evERgYCAcHB8jlctja2mLEiBFITk6W2jE1NQUADBw4UDo3ISFBbcCcmZmJ4OBgVKlSBQYGBqhduza2bt2qNC5/f3+4ubnh0KFDqFu3LoyNjeHh4YFLly7leZ3Hjh2DTCbDsWPH0LNnT5iYmMDOzg6rVq1SqhcbG4vOnTujfPnyMDY2houLC7Zs2aJUJywsDDKZDL/99hu8vLwgl8vh4uKC3377Da9fv8bAgQNhbm4OOzs7hIeHq4wlMjISbm5uMDQ0hLW1NSZOnIiMjAzp+N27d9GrVy+ULVsWRkZGqFatGqZNm5bn9RERERFR4eLKPiKizx8Ty0REBVC/fn0sX74cGzZswNOnT1WOly9fXkqsrly5ErGxsYiNjQUApKSkIDMzE3PmzMH+/fsxa9Ys/Pzzz+jZs6d0/s8//wwAmDp1qnRu+fLl1Y5l+vTpmDNnDoYMGYI9e/agadOm6Nevn0py9vbt2/j6668xZcoUhIeH49GjR/D19YUQIt/r/de//gVnZ2fs3r0bXl5eGDFiBM6cOSMdT0xMRNOmTREaGoqoqCh0794dAwcOVJsgHjBgAPr06YOdO3dCCIEePXpg8ODBqFChAnbs2IFGjRrBz88Pd+/elc7Zvn07vvjiCzRs2BB79uxBUFAQ1q5di2+++Uaq4+fnhzt37mDt2rXYv38/pkyZgrS0tHyvjYiIiIgKD1f2ERH9AwgiIvpgf/zxh7C1tRUAhEwmE7Vq1RLTpk0TL168kOpcuHBBABBHjx7Ns62MjAxx8uRJAUAkJiYKIYR4+fKlACDWr1+vVPfWrVsCgIiKihJCCPH06VMhl8tFcHCwUj1vb29hb28vvR8wYIDQ0dER165dk8p2794tAIgrV67kOrajR48KAGLatGlSWXp6uihdurSYNGmS2nOysrJERkaGGDJkiGjRooVUvn79egFAhIWFSWU//fSTACAGDhwolT1//lzo6uqKVatWSe1VqVJF+Pv7K/UTGhoqDA0NxZMnT4QQQhgbG4s9e/bkei1EREREVPTkcrmYOXNmrsez49n3X0II8erVKzFixAhhb28vjIyMhI2NjRg+fLhSjK3u3Fu3bqnEyUII8fbtWxEUFCQqV64s9PX1Ra1atcSWLVuUxjNgwADh6uoqoqOjhZOTk5DL5aJp06bi4sWLeV5ndpx89OhR0aNHD2FsbCxsbW3FypUrlerFxMQIHx8fYW1tLeRyuXB2dhabN29WqpMdJ587d054enoKIyMj4ezsLM6dOydevXol/P39hZmZmbC1tRVbt25VGcuPP/4oXF1dhYGBgShXrpz4+uuvRXp6unT8zp07omfPnqJMmTLC0NBQ2NnZialTp+Z5fUREeeGMZSKiAqhbty6uXLmCPXv2YPjw4RBCYNasWXBzc8OrV6/yPX/Tpk2oV68eTExMoKenJy3Zu3btmlbjuHjxIlJSUpRmOwOAr68vrl27hsePH0tlNjY2qFGjhvS+Vq1aAKA0Mzg3bdu2lf5bT08PNWrUUDovKSkJo0aNQtWqVaGnpwc9PT2sXbtW7fW0atVK+u/q1asDAFq2bCmVmZubo0yZMrh37x6Ad/fk9u3b6NWrF96+fSu9WrZsiTdv3uDixYsAABcXF3zzzTcICwvD7du3870mIiIiIip8XNnHlX1E9PnTLe4BEBF96gwMDODj4wMfHx8AQGhoKL766iuEhoZi9OjRuZ63e/du+Pn5YdiwYZg7dy4sLS3x4MEDdOvWDW/evNFqDA8ePAAAlCtXTqk8+/2zZ89QpkwZAFBZFqivrw8AGvWp7tyc5/n7++P06dOYNm0aatWqBTMzM6xevRqRkZF5tpU9hrzaf/LkCQCgQ4cOasd2584dAMC2bdswZcoUjB07Fs+fP4ezszNCQkKUEtlEREREVLRWrlyJrl27wt/fHzKZDDVr1kT37t0xYcIEmJmZwcDAAHXr1gXwbqJD48aNpXPLlCmD1atXS+/fvn0LW1tbeHh44Pbt26hSpQoaNGgAAKhWrZrSue979uwZlixZgqlTp2Lq1KkAgHbt2uHu3bsIDg5Gnz59lOqeOnVKmoSRlZWFbt264erVq3B0dMzzevv06SO17+XlhaioKOzatQsNGzYEAPTu3VuqK4RA8+bNcffuXaxbt05pDAAwYcIEDBgwQKrbsWNHeHl5Yc6cOQCAhg0bYseOHYiKisKwYcMghMDXX38NPz8/pWegGBgYYMSIEfjmm29gZWWFM2fOIDw8XPre4uXllec1ERHlhzOWiYgK2eDBg2FpaYn4+Pg860VERKBRo0ZYtWoVvL290ahRIygUig/qM3t2xqNHj5TK//rrLwCApaXlB7WrjTdv3mDv3r2YMWMGAgMD0bJlS7i5uSErK6tQ2s++hrVr1+LXX39VeXl7ewMAKlasiLCwMDx9+hSxsbGwtrZG586d1c6UISIiIqKiwZV9XNlHRJ8/JpaJiArg/UQuADx+/BgvXryQZgvnNiM4NTUVBgYGSmXZywGzaTqbuE6dOpDL5YiIiFAq3759O+zt7aXZykUpLS0NWVlZStf08uVLpSd/F4SDgwMqVqyIhIQEuLm5qbysrKyU6pcqVQqNGzdGUFAQUlJSkJiYWCjjICIiIiLNZK/sW7FiBS5fvozvv/8e169fR2hoaJ7nZa/sc3d3R0REBE6fPo3du3cD0GyVXU6arOzLVtQr+7Zt24avv/4a0dHR+PXXXzFo0CC1bRdkZV920lpPTw+2trYAlFf2ubm5YezYsahatSpcXFxw5MiRfK+NiCg33AqDiKgAnJyc0KVLF7Rt2xZly5ZFYmIiFi1aBLlcLi1fq1KlCoyMjLBhwwaYm5tDT08Pbm5uaNOmDUaMGIE5c+agUaNG2Ldvn0pgp6+vD1tbW2zfvh116tSBoaGhtGQwJ0tLS4wZMwazZ8+Grq4u3NzcsGvXLuzbt0/tvm1FwdzcHA0aNMDMmTNhZmaGUqVKYf78+TA3N0dycnKB2y9VqhRCQkLQv39/JCcnw9vbG/r6+rh58yZ+/PFH7NixAxkZGWjXrh38/Pxgb2+PtLQ0hISEwNraGjVr1iyEqyQiIiKiDzV48GBMnDhRq5V92Y4fP/5BfeZc2ZdzIkJxrOxbuXIlAgICpPKiWNlXr149lePZCebslX1ZWVk4c+YMgoOD0blzZ9y+fVtlkgYRkSaYWCYiKoDp06cjMjISo0aNwrNnz2BtbY0mTZpg27ZtUgBnaGiIdevWYcaMGfD09ERGRgaEEBg6dChu3ryJpUuX4s2bN2jTpg22bt2qskfcmjVrMGHCBLRu3RppaWm4deuW2rHMnDkTurq6WL16Nf766y9Ur14dmzdvVtrPraht3boVQ4cOhZ+fH6ysrBAYGIiUlBSsWLGiUNr39fWFmZkZ5s6dix9++AE6Ojqws7NDp06doK+vDx0dHTg5OWHp0qW4c+cO5HI5GjdujOjoaBgZGRXKGIiIiIgof48ePULZsmWVyop7Zd/06dOl8pKysk8mkxW4/Zwr+/71r3/lWz/nyr4mTZogMTGRiWUi+iBMLBMRFcCIESMwYsSIfOv169cP/fr1UyrT0dHBokWLsGjRIqXy95863bZtW5w/f16lzffr6ejoYMaMGZgxY0au4wgLC1Mps7GxyfdJ115eXmrrHDt2TOl99erV1S6nCw4Olv7b398f/v7+Go0hISFBpczb21vaT/l9urq6WLdundpjRERERPTxcGXf37iyj4g+V0wsExEREREREVGh4so+ZVzZR0SfI5nIb5oaEREREREREREREVEOpYp7AERERERERERERET0aWFimYiIiIiIiIiIiIi0wsQyEREREREREREREWmFiWUiIiIiIiIiIiIi0goTy0RERERERERERESkFSaWiYiIiIiIiIiIiEgrTCwTERERERERERERkVaYWCYiKmHCwsIgk8kQFhZW3EP56I4dOwaZTIbg4OACtZOQkACZTAZ/f/9CGRcRERHRp8Lf3x8ymQwJCQnFPRQAn1dc5uXlBZlMVtzDKBaF9XMVHBwMmUyGY8eOFcq4iKh4MbFMRCVCcnIypk+fDicnJ8jlcsjlctjY2KB9+/aYN28eXr9+LdUtrOSjJj60r39y0ElERET0OclOjOZ8mZiYoHLlyvD29saiRYvw+PHjjz6ekpSoLWnJ7NyUxHtHRPQp0y3uARARPX/+HO7u7oiPj0fNmjXh7+8PhUKBe/fu4cSJEzh48CB69uyJ6tWrF/dQP4pu3bqhcePGKF++fHEPhYiIiIj+X82aNdGrVy8AQGpqKu7fv4+TJ0/iwIEDmDlzJlavXo1+/foV8yiBefPmYfLkyahYsWJxDwUAULFiRVy5cgXm5ubFPZQC27hxI1JSUop7GEREJQYTy0RU7JYsWYL4+HgEBARg9erVKsd/+eUXlC5duhhGVjzMzc0/i8CbiIiI6HNSq1YtlVVsQghs3boVAQEB8PPzg0KhQIcOHYpngP+vfPnyJWqCgp6eHhwdHYt7GIWiSpUqxT0EIqIShVthEFGxO3PmDABg6NChao83atQIFhYWAN7tydWiRQsAwIwZM5SWJGY7d+4chg8fjlq1asHU1BQmJiZo1KgRNm/erNJ2zuVwcXFx8Pb2hoWFBRQKhUZ9qSOTyXD8+HHpv7Nf2V9Ecm6v8fPPP8PT0xOmpqZwcXEBoH6P5Zzj/P3339G6dWuYmppCoVCgb9++uHfvntr72qVLF1SsWBEGBgawtraGp6cnwsPD8xx/fvcltzFmy+1YdHQ0WrdujXLlysHQ0BAVKlRA+/btER0drXYMp0+fRosWLWBiYgJLS0v069fvg5aZXr16FT4+PjA3N4epqSl8fHxw48YNtXUjIiLQtGlT6eemcePG2Lp1q0q9vPaGU3csv888MzMTq1evRv369WFhYQFjY2PY2tqiX79+uY6ViIiIip9MJkO/fv2wZs0aZGVlYfz48RBCKNV5/vw5Jk2aBHt7exgaGqJMmTLo3bs3/vzzT5X28ovfwsLCYGtrCwDYsGGDUqyZvQ2Fum0pcsZn+/btQ6NGjWBkZISyZcti+PDhKrNw09PTsWzZMrRu3RoVK1aEvr4+KlWqhMGDB6vEnTY2NtiwYQMAwNbWVhpP9nYTeW0/ceTIEbRp0wYWFhYwMjKCi4sLli9fjqysLKV6OWOpD40Rtbl3f/75J+bMmYPq1atDT08PS5YsAaB+u7ucsd+KFSvg4OAAQ0NDVK9eHQsXLlS5loLGfTn7W716NerUqQMDAwOMGTMm1zFmU3csNTUV8+bNQ506dWBiYgIzMzPY29vjq6++wtOnT1XaEEJg8eLFqFGjBgwMDFCtWjUsXbo033Grs3HjRjg5OcHQ0BCVKlXC1KlTkZmZqVIvOTkZkydPRvXq1WFgYICyZcuid+/euHr1qkpdGxsb2NjYqO1P3bH8PvO7d+9i2LBhqFatGgwNDWFlZYV69eph+vTpH3TNRJ8bzlgmomJnaWkJAPjzzz+lRFtuvLy8kJCQgA0bNsDT0xNeXl4qddatW4d9+/ahWbNm8PHxwfPnzxEVFYX+/fvj4cOHmDBhgso5169fR7NmzdCwYUMMGTIET5480agvdYKCghAWFobExEQEBQUpjT2nkydPYu7cuWjfvj2GDx+Ot2/f5tv2jRs34OnpCQ8PDwQGBuKPP/5AeHg4YmNjce7cOelenjt3Dh4eHjAxMUHXrl1hbW2NR48e4dy5c9i1axf69Omj0bWouy8fYs+ePejSpQvKly+Pbt26QaFQ4MGDB4iJiUF0dDTatm2rVP/MmTP49ttv0aZNGwQEBODUqVPYunUrbt68iZiYGI33r7516xaaNGkCFxcX/Otf/8KFCxewd+9eXLp0CZcuXYKRkZFUd968efj3v/+NcuXKwd/fHzo6Oti5cyf69euHq1evYsaMGR907Tnl9plPnDgRixcvhrOzMwYOHAg9PT3cvn0bBw8eRJ8+fVCtWrUC901ERERFp2/fvpg2bRri4+Nx/vx5ODs7AwAePXqEZs2a4dq1a2jTpg26dOmCe/fuYefOnTh06BBiY2Nhb28PQLP4zcXFBaNHj8bSpUvh7OyMrl27SmPInoiRlx9//BEHDhxAly5d4OHhgejoaKxevRrPnj3Df//7X6nes2fPMG7cOHh5eaFLly4wMTHB+fPnsX79ehw+fBi///67FHeOGTMGYWFh+OOPPzB69GhpHPnF9Vu2bIGfnx9MTU3Rq1cvmJubIyoqCqNGjcLZs2elZHVOBYkRtbl3I0aMQFxcHDp16gQLCwtUqlQp33u7YMECxMTEoHfv3jAxMcHu3bsxceJE3L17VynxWlhx37x583D69Gn4+PigY8eOUtJcW19++SV27doFDw8PtGvXDsC7GHrbtm0YM2YMrKyslOqPHz8ep06dQqdOnWBkZISIiAiMGTMGBgYGCAgI0LjfZcuW4fDhw+jSpQtatWqFPXv2YM6cOXj79i3mz58v1UtJSYGnpyfi4uLQpEkT9OzZE4mJiYiIiMCBAwdw7NixfH/WNKHuM3/9+jWaNm2KBw8eoFOnTujVqxeSk5MRHx+PtWvXYubMmQXul+iTJ4iIitmuXbsEAGFiYiLGjx8voqOjxYsXL3Ktf/ToUQFABAUFqT2emJgoMjMzlcpev34tXFxchKmpqXj16pVUfuvWLQFAABBz587Vuq/ceHp6itx+xWa3CUBs3bpV5fj69esFALF+/Xq145w5c6ZS/RkzZggAYsyYMVLZ2LFjBQARFxen0v6TJ0/yHX9+90XdGPM61q1bN6Gvry/++uuvPMeT897s2LFDKs/MzBQtW7YUAERMTIxW41+0aJHSMX9/f5V7f+3aNaGjoyOqVq0qHj16JJUnJSUJe3t7UapUKXH+/HmpPCgoSAAQR48eVelb3bH8PnOFQiFcXV3F27dvlcrT09NFcnJyvtdLRERERSc7rujevXue9fr37y8AiNDQUKnM19dXyGQysXPnTqW6v/zyi9DV1RXe3t5SmabxW/Z4BgwYoHYcAwYMEADErVu3pLLs+ExPT0/ExsZK5ampqcLR0VHIZDJx9+5dqfzNmzfi/v37Km1v3bpVbTyqrs+8xpuUlCRMTU2FmZmZuH79ulK/Hh4eAoDYu3evVF7YMWJ+987Gxkbt9auL8bNjPyMjIxEfHy+Vv3r1StSpU0fIZDLx+++/S+UFjfuy+zMzM1PqL68x5nYsKSlJyGQy0bVrV5W6r1+/FqmpqdL77HtTvXp18fDhQ6n8+vXrQldXV9jb2+c79pzjVygUSp/906dPhaWlpTAxMRFpaWlS+bRp0wQAMXz4cKV2fvrpJwFAuLm5KZVXrVpVVK1aVW3f6o7l9ZlHRkYKAGLJkiUqbWnynYron4BbYRBRsevWrRvmzJmDzMxMhISEoG3btrCwsECdOnUwbdo0rWfJVqlSBaVKKf96k8vl8PPzw8uXL/Hrr7+qnFO+fHm1M5mLkpubm8Yzh7NZWlpi/PjxSmUTJkyAQqHAli1bVOobGxurlL0/6yAvhXlf9PT0oK+vr9F4vLy80L17d+l9qVKl4OfnBwA4e/asxn3a2dlh7NixSmXZyzBztrN161ZkZmZi0qRJKFOmjFRuYWGBKVOmICsrC5s2bdK439zk9ZkbGRlBR0dHqUxPTw+mpqYF7peIiIiKXoUKFQBAil0fP36MiIgIdO7cGV988YVS3YYNG6Jr1644ePAgXrx4oXSsoPFbXvr164fGjRtL7w0NDdG7d28IIfDbb79J5QYGBmr3ae7duzfMzc1x5MiRAo0jMjISL1++REBAgNIDug0MDDBnzhwAUDtjubBixPxMmDBB632q/fz84ODgIL03NjbGlClTIIRQidMLI+4bMmSIUn8folSpUhBCqP2Zk8vlMDQ0VCmfOnUqypUrJ72vXr06PDw8cO3aNbx8+VLjvkePHq302VtaWqJz58549eqV0hYXmzZtglwuV5kd3KFDB7Ro0QJnz57F5cuXNe43N3l95kX5/yTRp46JZSIqEf7973/j3r172LRpE4YNG4Z69erh8uXLmD17NpycnHD79m2N23rz5g3mzp2LevXqwcTERNo7bdy4cQCABw8eqJzj7OwMPT29QrseTbi5uWl9Tr169SCXy5XK5HI56tWrh8ePH0vX1rNnT5QqVQqNGjXCyJEjERkZiWfPnmndX2HdF19fX7x+/Rp16tTBpEmTcODAgTwDz3r16qmUZT/ZPxKFeAAAIABJREFU/Pnz5xr36+zsrPKPDOra+eOPPwAAnp6eKm1kl2XXKYjcPnNfX1+cPHkSrq6umD9/Pk6fPq3R1ihERERUcp09exZZWVlITk5GcHCwyuv+/fvIysrC9evXARRe/JYXbWKsX375Bd27d0eFChWgp6cHmUyGUqVK4cWLF2rjaW3kFXs1bdoUurq6amOvwooR8/MhcbqHh4dKWdOmTQEA58+fl8oKK+77kDG+z8zMDO3bt8eWLVvg5eWFJUuWIC4uTmVf6JwK6zPQpJ3k5GQkJCSgdu3aahO5RR2ne3p6wtraGsOHD0efPn2wYcMG3Lp1q8B9EX1OuMcyEZUYCoUCX375Jb788ksAQGJiIvz9/XHs2DGMHz8eERERGrXTpUsXREdHo1atWvjyyy9RunRp6OrqIi4uDpGRkUhLS1M5p2zZsoV6LZr4kD5zzqZV11ZycjLKly8Pd3d3HDlyBLNnz8Z3332HFStWoFSpUmjbti2WLFmi8eyGwrovvr6+0NXVRUhICBYtWoQFCxZAX18fXbt2xZIlS1RmB5iZmam0oav77k+Wugd65EbTdpKTkwFAafZFtuyy7DoFkdv9XLZsGapWrYr169fjm2++AfDu/4ehQ4di5syZH/0fPYiIiEh72cnW7HgtOyl89OhRHD16NNfzXr9+DQCFFr/lRdPY6Pjx42jTpg10dXXRvn17VKtWTZq1uWTJErXxtDbyir10dHRgZWWlNvYqrBgxP4UVp+eM0bMVVtxXWHF6REQEZs2ahfDwcGmln7W1NSZMmKCyUhL4uHF6Xj8nOcuLKk43NzdHTEwMpk6dir1790r7kDs5OeHbb7+Ft7d3gfsl+tRxxjIRlVhVq1bFDz/8AAD43//+p9E5Z86cQXR0NLy9vXHhwgWsWbMGs2fPRnBwMNzd3XM9T9OHwRWmD+kztydeP3r0CIBygObl5YXDhw/j2bNn2L9/P/z9/XHw4EF07NgR6enpBRpj9ixgdbMrcgvsunfvjpiYGDx+/Bi7d+9Gp06dsH37dvj6+mo0lqKUfd/++usvlWPZZTnv7YdcP5D7/dTT08PkyZNx9epV3Lp1C6GhobC1tcX8+fMxa9YszS+EiIiIioUQAidOnAAAuLq6Avg7dggKCoIQItdXzlm7hRG/FYZvv/0WGRkZ+Pnnn7Fr1y4sXLgQwcHBCAoKQkZGRoHbzyv2yszMxNOnT9UmHj+WworT1cXohRX3FVacbmJigm+//Ra3b9/GlStXsHz5cpiYmGDChAnSd7HiktfPSc7y9+P03GaAf0icbmtriy1btuDp06c4ffo0pk6disTERHTt2hVXrlzR6DqIPmdMLBNRiWZiYgLg75kcAKT9yNT9i/jNmzcBvNtz6/0tEGJjY7XuP6++iuK8/Pz+++9ISUlRKktJScHvv/+OMmXKqN0XzMTEBO3bt0doaCh69eqFGzduFDgIyn5y9v3799WOMS+Wlpbo2rUrdu7ciUaNGuHEiRMqewt+bNlPblf3DxjZXxJzPm26INefHxsbGwwaNAjHjh2Dnp4eoqKiCtQeERERFb3w8HDcunULNWvWhJOTE4B3S+tlMhl++eUXrdvLK34rqjgzp5s3b8LKykppP2bg3ZYD78eiHzKmvGKv2NhYvH37Vin2KixFee9OnjypUnbq1CkAQN26ddWeUxRxX25x6uvXr3Ht2rU8z3V0dERgYKA0juKOQ83MzGBjY4NLly6p3RYmtzj90aNHKp9xYmIikpKSPngsurq6aNSoEWbNmoVvv/0W6enpiI6O/uD2iD4XTCwTUbFbu3Yt4uLi1B5bsGABAOU9yywtLQEA9+7dU6lfuXJlAEBMTIxSeVRUFCIjI7UeW159FcV5+Xn27BlCQkKUyhYtWoSkpCT07dtXKjt9+rTKEkUhhDRrwsDAoEDjcHV1hUwmw7Zt25T6OXPmjNqHCJ48eVIluEtLS8Pz58+hq6ur8vCSj61v377Q0dHBt99+i6dPn0rlL168wOzZs1GqVClpixbg7z3YNm/erLQH3Y8//ohjx45p1XdaWhpOnz6tUv7kyRO8ffu2wJ8VERERFR0hBLZu3YqhQ4eiVKlSCAkJkWY+li9fHt27d8eBAwfUzvx8+/atlHgENI/fFAoFgMKPM3OqXLkynj17pvQQtVevXmHMmDFq62sb+3bt2hWmpqZYs2aNNDEEANLT0zFlyhQAkB7KV5iK8t5t3LhR6X69fv0ac+fOhUwmk+L0jxH3ZcepGzdulMqEEJg6darSZB3g3SxrdQ++y54JXBLi0P79+yMlJQXBwcFK5QcPHsSRI0fg5uaGmjVrSuVubm7IyMhAeHi4VJaRkfFBDyS/fPmy2pnoJen+EBU37rFMRMVu3759GDp0KGrWrIkmTZqgXLlySEpKwvHjx3H58mUoFAosXLhQqu/g4IDy5csjPDwcBgYG0kMepk6dikaNGsHFxQXh4eF49OgR6tevj6tXr+Knn35Cly5dtE4u59VXXlq0aIEdO3agR48eaNeuHQwMDNC8eXM0b95cy7ujzMPDAwsXLkRsbCxcXFwQFxeH/fv3w8bGBtOnT5fqzZ8/H//73//QrFkz2NnZQUdHB8ePH8fZs2fh7e0NR0fHAo2jYsWK6NmzJ7Zv344GDRqgTZs2uHfvHiIjI9GxY0f8+OOPSvUDAwPx119/oWnTprC1tUVGRgYOHjyIq1evIiAgQJqZXlxq1KiBmTNnYsqUKXBycpIenrNz507cuXMH06dPl2YfAe/2QGzUqBEOHToEDw8PNGnSBNevX8ehQ4fQoUMH7Nu3T+O+U1NT4e7ujlq1aqF+/fqoVKkSnjx5It3D3L7AERER0cd1+fJlKbn15s0b3L9/HydOnEBCQgJMTU2xceNGlT1XV69ejcuXL2Pw4MH47rvv0KBBAxgYGCAxMREnTpyAQqFAfHw8AM3jNxMTEzRo0ADHjx+Hv78/qlWrBplMhpEjR8Lc3LxQrjUgIACHDx9G06ZN4evrCyEEDhw4gDJlyqBChQoq9Vu0aIFFixZhyJAh+OKLLyCXy+Hs7AwfHx+17Zubm2PVqlXw8/ODq6srfH19YWZmhqioKMTHx8PPzw8dO3YslGvJqSjvnZeXFxo1aoTevXvDxMQEu3fvxs2bNzFy5EjpQXUfI+4bOHAgFixYgOnTpyMuLg5Vq1bFqVOn8OTJEzg7Oys96O7evXuoV68eXF1d4eTkhPLly+Pu3bvYvXs39PT0EBgYWODxFNTkyZMRFRWF5cuXIy4uDh4eHkhMTMT27dthZmaGdevWKdUPDAxEWFgYBg0ahEOHDsHCwgJHjhyBqamp2tWdeYmOjsakSZPg4eEBe3t7mJub49KlS9i3bx8qVqyIXr16FealEn2aBBFRMYuPjxfz588XrVq1ElWrVhX6+vpCLpeLWrVqidGjR4s7d+6onHPq1Cnh4eEhjI2NBQCR89fZvXv3RN++fUW5cuWEsbGxcHd3F3v37hXr168XAMT69eulurdu3RIAxIABA3IdX1595SYjI0OMGzdOVKpUSejo6AgAIigoSAghxNGjR5Xevy+/cZ47d060atVKmJiYCHNzc9G7d2+Ve3TgwAHRv39/UaNGDWFsbCzMzc2Fi4uLWLx4sUhNTc13/Jrcl9evX4vhw4eLMmXKCENDQ9GwYUOxf/9+teMPDw8XPXr0ELa2tsLIyEhYWVmJxo0bi9DQUJGZmSnVy+ve5HffNB1/Xse2bdsm3N3dhVwuF3K5XDRs2FBs3rxZbR+PHj0Sffv2FRYWFkIulwsvLy/xyy+/iKCgIAFAHD16VKOxp6eni/nz54vWrVuLChUqCH19fVGhQgXRoUMH8fPPP+d7rURERFS0smOHnC+5XC4qVaok2rdvLxYuXCgePXqU6/kvX74UM2fOFE5OTsLIyEiYmJgIBwcHMXDgQHH48GGpnjbx25UrV0Tbtm2FmZmZNKZbt24JIYQYMGCA0nsh1MeX+R3btGmTcHJyEoaGhqJChQpixIgR4sWLF6Jq1aqiatWqKu3MnTtX2NnZCV1dXaVYK6/Y6/Dhw6JVq1bCzMxMGBgYCCcnJ7F06VKl+FCIwosRhdD+3uXk6emp8l0gZ+y3fPlyYW9vL/T19YWtra1YsGCB0rUURtynLtZ839mzZ4WXl5cwNDQUCoVC9OvXTzx48EBl/ElJSSIoKEh4eHiIcuXKCX19fVGlShXRq1cv8dtvvym1mde9ye++aTr+3I69ePFCTJw4UdjZ2Qk9PT1RunRp4evrK+Lj49X2ER0dLdzc3IS+vr4oW7asGDFihEhOTlb7s5vX2C9fvixGjRolnJ2dhUKhEEZGRsLe3l6MHTtW3L9/P99rJfonkAkhRBHlrImIqJAkJCTA1tYWAwYMQFhYWHEPh4iIiIiIAAQHB2PGjBk4evQovLy8ins4REQfFfdYJiIiIiIiIiIiIiKtMLFMRERERERERERERFphYpmIiIiIiIiIiIiItMI9lomIiIiIiIiIiIhIK5yxTERERERERERERERa0S3uAZRkpUuXho2NTXEPg4iIiIiKWEJCAp48eVLcw/hkME4mIiIi+mfIK05mYjkPNjY2OHv2bHEPg4iIiIiKmJubW3EP4ZPCOJmIiIjonyGvOJlbYRARERERERERERGRVphYJiIiIiIiIiIiIiKtMLFMRERERERERERERFphYpmIiIiIiIiIiIiItMLEMhERERERERERERFphYllIiIiIiIiIiIiItIKE8tERERERCXAjh070KRJE1hZWcHQ0BAODg6YPXs20tPTpTo2NjaQyWRKL2tra5W2Ll++jFatWkEul6NChQqYPn06MjMzleoIITB37lxUrlwZRkZGaN68OeLi4or8OomIiIjo8/BRE8sMlomIiIiI1Hv69ClatmyJ77//Hvv378egQYMwZ84cjBs3Tqle3759ERsbK7327dundDwpKQmtW7eGTCZDZGQkpk+fjpCQEAQFBSnVmz9/PmbNmoVJkyYhKioKJiYmaN26NR4+fFjk10pEREREnz7dj9lZdrD89ddfw8LCAmfOnEFwcDAePnyIFStWSPX69u2LkSNHSu/19fWV2skOlmvVqoXIyEjcuHED48ePR1ZWFmbPni3Vyw6WFy5cCEdHRyxevBitW7fGxYsX1SariYiIiIiKy9ChQ5Xet2jRAsnJyVi5ciWWL18OmUwGAChfvjwaN26caztr1qxBamoqdu3aBTMzM7Rp0wbJyckIDg7GxIkTYWZmhjdv3mD+/Pn45ptvEBgYCABwd3eHjY0NVqxYoRRTExERERGp81ETywyWiYiIiIg0Z2VlpbS6TxP79+9Hu3btYGZmJpX17t0bkyZNwvHjx+Hj44OYmBgkJyejV69eUh1jY2P4+Phg//79jJWJiIiIKF/FvsdyYQbLqampOH78OADkGywTEREREZVEmZmZSElJwcmTJ7Fs2TIMGzZMmoABAKGhodDX14e5uTl69OiBxMREpfPj4+Ph6OioVFalShXI5XLEx8dLdXR0dFCjRg2lejVr1pTqEBERERHl5aPOWM6WmZmJtLQ0/Pbbb7kGy8uWLYORkRHatGmDkJAQVK1aVToeHx+Pli1bKrWZM1j28fHJM1jetm1b0V4gERHRR/T7pbtF0m692pWKpF0iypuxsTHS0tIAAH5+fli4cKF0rEuXLmjcuDEqVaqEK1euYMaMGWjWrBkuXLgAc3NzAO+2jbOwsFBpV6FQICkpSapjYmICHR0dlTopKSlIT09X2Y6OiIjoU8M4mahoFUtimcEyEREREZF6MTExSElJwZkzZzBz5kwEBgZi1apVAIClS5dK9Zo1a4YmTZrAxcUF69evx5gxY4p0XGvXrsXatWsBAI8fPy7SvoiIiIio5CuWxHJJDZYBBsxEREREVLzq168PAPDw8EDp0qUxYMAAjB8/HtWqVVOpW6dOHTg4OOC3336TyhQKBV68eKFSNykpCQqFQqrz6tUrZGZmKk3ESEpKglwuVzsBY8iQIRgyZAgAwM3NrWAXSURERESfvGLZY7l+/frw8PDAuHHjsGzZMqxevRo3btxQW7cwguX36+QWLAPvAuazZ8/i7NmzKFOmzIdeIhERERFRgWUnmW/dupVrHZlMprStnKOjo8o+yXfu3EFKSoq097KjoyMyMzPx559/KtVTtz8zEREREZE6xf7wPgbLRERERETqnTp1CgBga2ur9vjFixcRHx8PV1dXqczb2xsHDx7Ey5cvpbJt27bByMgInp6eAIAmTZrAzMwMERERUp2UlBRERUXB29u7KC6FiIiIiD4zxbIVRk6aBsvZy+6Ad8HywoUL8fLlS5iamgLIO1ieOnUqgL+D5ZxtERERERGVBO3bt0fr1q1Ru3Zt6Ojo4NSpUwgJCYGvry+qVauGn376CZs3b0anTp1QoUIFxMfHY/bs2ahSpQr8/f2ldgICArBs2TJ88cUXmDRpEm7evIng4GCMGzcOZmZmAABDQ0NMnjwZs2bNgkKhgKOjIxYvXoysrCyMHDmymO4AEREREX1KPmpimcEyEREREZF6DRo0QFhYGBISEqCrqws7OzvMmzcPAQEBAIDKlSvj0aNHGDNmDJ4/fw4rKyu0b98ec+fOlWJg4N2WcEeOHEFgYCB8fHxgYWGBsWPHIjg4WKm/yZMnIysrC/PmzcPTp0/h5uaGQ4cOoVy5ch/zsomIiIjoEyUTQoiP1dm0adOwe/dupWB54MCBCAgIgJ6eHs6fP4+xY8fi/PnzKsFyhQoVlNq6fPkyAgMDERsbCwsLC3z11VcIDg5WeviIEAJz587F6tWrpWB52bJlqFevnkbjdXNzw9mzZwv1HhARERW23y/dLZJ269WuVCTtEpVEjPu0w/tFRESfAsbJRAWXV9z3URPLnxoGzERE9ClgwExUcIz7tMP7RUREnwLGyUQFl1fcV+wP7yMiIiIiIiIiIiKiTwsTy0RERERERERERESkFSaWiYiIiIiIiIiIiEgrTCwTERERERERERERkVaYWCYiIiIiIiIiIiIirTCxTERERERERERERERaYWKZiIiIiIiIiIiIiLTCxDIRERERERERERERaYWJZSIiIiIiIiIiIiLSChPLRERERERERERERKQV3eIeABER0efqVGJSobfZtKqi0NskIiIiIiIi0hZnLBMRERERERERERGRVjhjmYiIiIiIiIiIqABWLlpV6G2OmDC80NskKkxMLBMRERERERER0UfDLeOIPg/cCoOIiIiIiIiIiIiItMLEMhERERERERERERFphYllIiIiIiIiIiIiItIKE8tEREREREREREREpBUmlomIiIiIiIiIiIhIK0wsExEREREREREREZFWmFgmIiIiIiIiIiIiIq0wsUxEREREVALs2LEDTZo0gZWVFQwNDeHg4IDZs2cjPT1dqiOEwNy5c1G5cmUYGRmhefPmiIuLU2nr8uXLaNWqFeRyOSpUqIDp06cjMzNTqY6mbRERERERqfNRE8sMlomIiIiI1Hv69ClatmyJ77//Hvv378egQYMwZ84cjBs3Tqozf/58zJo1C5MmTUJUVBRMTEzQunVrPHz4UKqTlJSE1q1bQyaTITIyEtOnT0dISAiCgoKU+tOkLSIiIiKi3Oh+zM6yg+Wvv/4aFhYWOHPmDIKDg/Hw4UOsWLECwN8B7sKFC+Ho6IjFixejdevWuHjxIqytrQH8HSzXqlULkZGRuHHjBsaPH4+srCzMnj1b6k+TtoiIiIiISoKhQ4cqvW/RogWSk5OxcuVKLF++HGlpaZg/fz6++eYbBAYGAgDc3d1hY2ODFStWSHHwmjVrkJqail27dsHMzAxt2rRBcnIygoODMXHiRJiZmeHNmzcatUVERERElJuPOmN56NChmD17Nrp164YWLVpg0qRJGDduHDZv3gwhhEqA27p1a0REREAmk0mJZ0A5WG7Tpg0CAgIQFBSExYsXIzk5GQA0bouIiIiIqKSysrKSVvfFxMQgOTkZvXr1ko4bGxvDx8cH+/fvl8r279+Pdu3awczMTCrr3bs3UlNTcfz4ca3aIiIiIiLKTbHvscxgmYiIiIjob5mZmUhJScHJkyexbNkyDBs2DDKZDPHx8dDR0UGNGjWU6tesWRPx8fHS+/j4eDg6OirVqVKlCuRyuVRP07aIiIiIiHJTLIllBstEREREROoZGxvD2NgYzZo1g6enJxYuXAjg3XZwJiYm0NHRUaqvUCiQkpIiTdZISkqChYWFSrsKhQJJSUlatUVERERElJtiSSwzWCYiIiIiUi8mJgYnTpxASEgIIiMjpT2Qi9vatWvh5uYGNzc3PH78uLiHQ0RERETF7KM+vC9bTEwMUlJScObMGcycOROBgYFYtWpVcQxFxdq1a7F27VoAYMBMRERERB9d/fr1AQAeHh4oXbo0BgwYgPHjx0OhUODVq1fIzMxUmjyRlJQEuVwOfX19AO8mUrx48UKl3aSkJCgUCqmOJm3lNGTIEAwZMgQA4ObmVngXTERERESfpGJJLJfUYBlgwExEREREJUd23Hzr1i04OjoiMzMTf/75JxwcHKQ6728T5+joqLL12507d5CSkiLV07QtIiIiIqLcFEtiOScGy0RERJ+OlYsKf4XRiAnDC71Nos/FqVOnAAC2traoWLEizMzMEBERgalTpwIAUlJSEBUVJU2MAABvb28sXLgQL1++hKmpKQBg27ZtMDIygqenJwCgSZMmGrVFRERERJSbYtljOaecwXLOADdbdoDr7e0tlXl7e+PgwYN4+fKlVJZXsJxXW0REREREJUH79u2xaNEi7N+/H9HR0QgKCsL48ePh6+uLatWqwdDQEJMnT8bcuXOxcuVKHDlyBD179kRWVhZGjhwptRMQEAADAwN88cUXOHz4MNauXYvg4GCMGzcOZmZmAKBxW0REREREufmoM5bbt2+P1q1bo3bt2tDR0cGpU6cQEhIiBcsAMHnyZMyaNQsKhQKOjo5YvHix2mB52bJl+OKLLzBp0iTcvHkz12A5v7aIiIiIiEqCBg0aICwsDAkJCdDV1YWdnR3mzZuHgIAAqc7kyZORlZWFefPm4enTp3Bzc8OhQ4dQrlw5qY5CocCRI0cQGBgIHx8fWFhYYOzYsQgODlbqT5O2iIiIiIhy81ETywyWiYiIiIjUmzVrFmbNmpVnHZlMhilTpmDKlCl51qtVqxZ+/vnnQmmLiIiIiEidj5pYZrBMRERERERERERE9Okr9j2WiYiIiIiIiIiIiOjTwsQyEREREREREREREWmFiWUiIiIiIiIiIiIi0goTy0RERERERERERESkFSaWiYiIiIiIiIiIiEgrTCwTERERERERERERkVaYWCYiIiIiIiIiIiIirTCxTERERERERERERERaYWKZiIiIiIiIiIiIiLTCxDIRERERERERERERaUW3uAdARET0MbVtUq/Q24yO+b3Q2yQiIiIiIiIqyThjmYiIiIiIiIiIiIi0wsQyEREREREREREREWmFiWUiIiIiIiIiIiIi0goTy0RERERERERERESkFSaWiYiIiIiIiIiIiEgrGiWWT5w4gcjISOn9kydP0LdvX7i4uGD8+PHIyMgosgESEREREZVUjJOJiIiI6J9Ko8TyxIkTcfHiRen96NGjceTIETRu3BhhYWEICgoqsgESEREREZVUjJOJiIiI6J9Ko8Ty1atX4erqCgBISUnB7t27sXTpUqxZswYLFizAtm3binSQREREREQlEeNkIiIiIvqn0iixnJ6eDkNDQwDAqVOn8PbtW3Ts2BEAYG9vjwcPHhTdCImIiIiISijGyURERET0T6VRYtnR0REHDhwAAGzZsgXu7u4wNTUFANy/fx+WlpZFN0IiIiIiohKKcTIRERER/VPpalJp+vTp6NmzJ0JDQ/HixQulB5QcOHAA9erVK7IBEhERERGVVIUVJ0dERGDTpk04d+4cXrx4AQcHB0yYMAF9+vSR6nh5eeH48eMq56ampkqzpgHg3r17CAwMxOHDh2FgYIDevXtjwYIFkMvlSuetW7cOCxYswJ07d1C7dm0sWLAArVq10vYWEBHRZ6Jtk6LJ7UTH/F4k7RJR8dNoxnLnzp1x5coVrFmzBhcvXoS3t7d0zN3dHVOmTNGos4iICHTu3BkVK1aEiYkJXF1dER4erlTHy8sLMplM5fXmzRulevfu3UO3bt1gamqK0qVLIzAwECkpKSp9rlu3DjVq1IChoSFcXV1x5MgRjcZKRERERJSfwoqTFy9eDBMTE/znP//Bnj170KJFC/Tt2xfLly9XqteiRQvExsYqvQwMDKTjGRkZaNeuHRITE/Hf//4XS5cuRUREBIYMGaLUTnh4OAICAuDn54f9+/ejdu3a6NSpk9KDCImIiIiI8qLRjGUAsLOzg52dnUr5+0FqXhYvXgxbW1v85z//QenSpbFv3z707dsXT548wciRI6V6LVq0wNy5c5XOVRcw6+vr47///S+eP3+OcePG4fnz59i8ebNULztgDg4OhoeHB9avX49OnTrh119/RZ06dTQeNxERERHR/7V37/E1Xfn/x99HXCIiEuKuRDUcaVwy4l5FUeIrdSkZ1AxVNK0Yt9al/ZW0IRitVse06Ewv0wsaoxSJ0BSt8h202k5Lpm5BGyoiRCZxS/bvDw/n6zQX5yRn5/p6Ph4elb1X1mftVJZ3V1fWzo8rcvLmzZvl6+tr+/ihhx5ScnKyli1bZpeTa9eurS5duuTbz/r163XkyBEdO3ZMzZs3lyRVqVJFI0eO1Pz58+Xv7y9JioyM1NixY/XCCy9Iknr27KlDhw5p8eLFdnkaAAAAyI/DC8vnz5/Xa6+9pv379+vs2bNq2LChOnfurD/96U+qX7++Q30QmAEAAFDeuCIn35mRbwsKCtI///lPp8YSFxenjh072jJC+4FRAAAgAElEQVSyJA0ZMkRVq1bVtm3b5O/vrxMnTuinn37S8uXLbW0qVaqkESNG2F0DAACl0x+GhNy9kZPe3xjn8j5R/jl0FMZXX30lf39/rVq1Sr6+vurTp498fX21cuVK+fv766uvvnKoWH6BOTk52alB3y0wS7IF5rCwMFub24E5Lo5vFgAAABSdq3JyXvbt26eWLVvaXdu+fbs8PDzk4eGh/v376/vvv7e7n5iYKKvVanetatWqatGihRITE21tJOVq17p1a128eFEpKSmFHjMAAAAqDod2LEdERKhDhw7avHmzatSoYbuekZGhQYMGacqUKfrmm28KNYCCArMk9ejRQ0uXLlXbtm1t9xMTExUQEGD3OYUJzHXr1i3UmAEAAADJvJyckJCgjRs36u2337Zd69mzp8aOHav77rtPp06d0sKFC9WjRw9999138vPzkySlpaXJ29s7V38+Pj5KS0uztZGUq52Pj4/tPjkZAAAAd+PQjuXExETNnDnTLixLkqenp5555hkdOXKkUMVvB+aZM2farvXs2VPLly9XfHy8Vq9erdOnT6tHjx5KSkqytXFVYAYAAACKwoycnJSUpNGjR2vw4MEaN26c7fqLL76oxx9/XD169NCYMWO0c+dOWSwWvfbaa0V9DIesXr1awcHBCg4OZlczAAAAHFtYDggI0Llz5/K8d/bs2Vy7gh1BYAYAAEBZ5+qcfPHiRYWEhKhZs2b68MMPC2zboEEDde/e3W5HtI+Pjy5fvpyrbVpamm2Dxe1//rbd7Y0Xt+//1qRJk3Tw4EEdPHiQHc0AAABwbGH5L3/5i6Kjo7Vu3Tpdu3ZNknTt2jWtXbtWixcv1ooVK5wqSmAGAABAeeDKnJyZmalBgwbp+vXr2rJli+1ouIJYLBZZLBbbx1ar1XYk3G3Xr1/XiRMnbIvct//523aJiYmqXbs2GRgAAAAOceiM5cGDByszM1OjR4+WdOtH+zIyMiRJ7u7uGjp0qF378+fP59uX2YE5PDzc1ka6FZCbNWtma0dgBgAAgKu4KiffvHlTI0aM0NGjR7V3717Vq1fvrrXPnTunPXv2aPz48bZrISEh+uijj3Tq1ClbBv7000917do1DRgwQJJ07733qmXLloqJiVH//v0lSTk5OYqJiVFIiOvfMg8AAIDyyaGF5cmTJ9st7BYWgRkAAADliaty8tNPP63Y2FgtX75cqampSk1Ntd0LCgrSf/7zH82dO1cjRoxQs2bNdPr0aS1atEiVKlXStGnTbG2HDx+uhQsXatiwYYqKitLly5c1ffp0jR49Wv7+/rZ2kZGRGjNmjPz8/NS9e3e99957Onr0qD766KMiPwsAAAAqBocWliMjI11SjMAMAACA8sRVOXn79u2SpKlTp+a6d/LkSdWpU0eGYWju3LlKTU1VzZo11atXL23cuFFNmza1ta1SpYq2bdumiIgIhYWFqVq1aho5cqSWLl1q1+eoUaOUkZGhJUuWKCoqSvfff7+2bNmiwMBAlzwPAAAAyj+HFpZdhcAMAAAA5JaUlHTXNrGxsQ711aRJE23cuPGu7SZOnKiJEyc61CcAAADwW/kuLIeFhWnRokVq0aKFwsLC7trRxx9/fNc2BGYAAACUdWbkZAAAAKCsyXdhOSUlRTdu3JB06yUjrjg7DgAAACjryMkAAABAAQvLO3futP1+165dxTEWAAAAoNQjJwMAAABSpbs1uHr1qlq2bKlt27YVx3gAAACAMoGcDAAAgIrsrgvL7u7uunTpkipVumtTAAAAoMIgJwMAAKAicygFP/bYY3rnnXfMHgsAAABQppCTAQAAUFHle8bynZo2baqPP/5YHTt2VEhIiOrXr2/3khKLxaKnnnrKtEECAAAApRE5GQAAABVVvgvL9957rz755BO1a9dOM2fOlCSdPXtWX3/9da62BGYAAOBqfxgS4vI+398Y5/I+UfGQkwEAAIACFpaTkpJ07do1SVJOTk6xDQgAAAAozcjJAAAAgINHYQAAYLZnJ45zeZ9L33rX5X0CAAAAAIC7vLzvzvPhAAAAANxCTgYAAEBFV+CO5S5dujjcUXZ2dpEHAwAAAJQF5GQAAABUdAUuLM+YMUN+fn7FNBQAAACgbCAnAwCKC0fGASitClxYHjFihDp16lRcYwEAAADKBHIyAAAAKroCz1gGAAAAAAAAAOC3WFgGAAAAAAAAADgl34Xld955Ry1atCjOsQAAAAClHjkZAAAAKOCM5bFjxxbnOAAAAIAygZwMAAAAcBQGAAAAAAAAAMBJLCwDAAAAAAAAAJyS78Ly6dOndePGjeIcCwAAAFDqkZMBAACAAhaWmzdvrkOHDkmSHnroISUmJhbboAAAAIDSipwMAAAAFLCwXL16dWVmZkqSdu3apfT09GIbFAAAAFBakZMBAACAAhaWg4KCNHXqVD3zzDOSpL/85S+aNWtWnr9mz57tULGYmBg98sgjaty4sTw9PdWhQwetWbMmV7u33npL/v7+cnd3V4cOHZSQkJCrzS+//KKhQ4eqZs2a8vX1VUREhC3gO9sXAAAA4ChyMgAAACBVzu/GW2+9pWeffVabNm2SxWJRQkKCqlWrlmdbi8WiJUuW3LXYsmXL1Lx5c7366qvy9fVVbGysRo8erQsXLmjKlCmSpDVr1ig8PFyRkZF64IEH9M4772jQoEE6cOCAAgMDJUk3btxQ//79VbVqVa1du1aXLl3SjBkzdOnSJX3wwQe2eo70BQAAADiDnAwAAAAUsLBstVq1efNmSVKlSpW0ceNGderUqUjFNm/eLF9fX9vHDz30kJKTk7Vs2TJbYI6MjNTYsWP1wgsvSJJ69uypQ4cOafHixbYwvH79eh05ckTHjh1T8+bNJUlVqlTRyJEjNX/+fPn7+zvcFwAAAOAMcjIAAABQwFEYdzp58qTat29f5GJ3huXbgoKClJycLEk6ceKEfvrpJ4WFhf3fACtV0ogRIxQXF2e7FhcXp44dO9rCsiQNGTJEVatW1bZt25zqCwAAACgscjIAAAAqqnx3LN+pWbNmunnzptatW6c9e/bo4sWLql27tnr06KFhw4apcmWHusnTvn371LJlS0myvVHbarXatWndurUuXryolJQU1a1bV4mJiQoICLBrU7VqVbVo0cLWh6N9AQAAAIVFTgYAAEBF5dCO5fPnzys4OFijRo3S1q1bdeLECW3dulUjR45Ux44dlZKSUqjiCQkJ2rhxo2bOnClJSktLkyR5e3vbtfPx8bG7n5aWlqvN7XZ3tnGkLwAAAKCwyMkAAACoqBxaWJ4xY4ZSU1P1v//7vzpx4oT27dunEydO6F//+pdSU1M1Y8YMpwsnJSVp9OjRGjx4sMaNG+f055tl9erVCg4OVnBwcKH/QwAAAAAVAzkZAAAAFZVDC8uxsbFasmRJrpeSdOzYUYsWLdLWrVudKnrx4kWFhISoWbNm+vDDD23Xb++SuHz5sl3727smbt/38fHJ1eZ2uzvbONLXb02aNEkHDx7UwYMH+RFAAAAAFIicDAAAgIrKoUPfrl27ppo1a+Z5r2bNmrp+/brDBTMzMzVo0CBdv35dW7ZskYeHh+3e7XPeEhMT1axZM9v1xMRE1a5d2xZgrVar7Wy4265fv64TJ04oPDzcqb4AAPmLjT3o8j4HDgx2eZ8AUFLIyQAAAKioHNqx3KVLFy1ZskT//e9/7a7/97//1ZIlS9SlSxeHit28eVMjRozQ0aNHtW3bNtWrV8/u/r333quWLVsqJibGdi0nJ0cxMTEKCQmxXQsJCdGBAwd06tQp27VPP/1U165d04ABA5zqCwAAACgscjIAAAAqKod2LL/yyivq3bu37rnnHj388MOqX7++zp8/r/j4eBmGoV27djlU7Omnn1ZsbKyWL1+u1NRUpaam2u4FBQWpWrVqioyM1JgxY+Tn56fu3bvrvffe09GjR/XRRx/Z2g4fPlwLFy7UsGHDFBUVpcuXL2v69OkaPXq0/P39be0c6QsAAAAoLHIyAAAAKiqHFpbbt2+vo0eP6uWXX9aBAwf0/fffq2HDhgoPD9eMGTPk6+vrULHt27dLkqZOnZrr3smTJ+Xn56dRo0YpIyNDS5YsUVRUlO6//35t2bJFgYGBtrZVqlTRtm3bFBERobCwMFWrVk0jR47U0qVL7fp0pC8AAACgsMjJAAAAqKgcWliWJF9fXy1evLhIxZKSkhxqN3HiRE2cOLHANk2aNNHGjRtd0hcAAABQWORkAAAAVEQOnbEMAAAAAAAAAMBtLCwDAAAAAAAAAJzCwjIAAAAAAAAAwCksLAMAAAAAAAAAnHLXheVr165p4cKF+u6774pjPAAAAECZQE4GAABARXbXheVq1app4cKFunTpUnGMBwAAACgTyMkAAACoyBw6CqNz58765ptvzB4LAAAAUKaQkwEAAFBRVXak0Z///GeNHj1aVapU0cCBA1W/fn1ZLBa7Nh4eHqYMEAAAACityMkAAACoqBxaWO7cubMk6U9/+pOmTp2aZ5vs7GzXjQoAAAAoA8jJAAAAqKgcWlh+++23c+28AAAAACo6cjIAAAAqKocWlseNG2fyMAAAAICyh5wMAACAisqhheXbDh8+rK+//lpnzpzR+PHj1aBBAx07dkz169dXzZo1zRojAAAAUKqRkwEAAFDROLSwnJGRofHjx2v9+vWqUqWKbt68qQEDBqhBgwZ67rnn1LRpU7388stmjxUAAAAoVcjJAAAAqKgcWlieMWOG9u7dq4SEBHXv3l3u7u62ewMHDtTLL79MYAYAAECFQ04GgIopNvagy/scODDY5X0CgJkcWljesGGDli9frt69e+d6q3WzZs106tQpUwYHAAAAlGbkZAAAAFRUlRxplJWVpTp16uR578qVK3Jzc3PpoAAAAICygJwMAACAisqhheWOHTvqH//4R5731q9fr27durl0UAAAAEBZQE4GAABAReXQURhRUVHq16+f+vbtqxEjRshisSg2Nlavvvqq1q9fry+++MLscQIAAAClDjkZAAAAFZVDO5Z79OihhIQEXbt2TRERETIMQ/Pnz9eJEyf02WefqWPHjmaPEwAAACh1yMkAAACoqBzasSxJ3bt315dffqmsrCylpaXJ29tbHh4eZo4NAAAAKPXIyQAAoDwaOaiPy/tcuyXB5X2i5Di0Y/lO7u7uqlKliqpXr27GeAAAAIAyiZwMAACAisThheXY2Fh169ZN7u7uatCggdzd3dWtWzdt3brVzPEBAAAApRo5GQAAABWRQwvLq1atUmhoqDw9PbV8+XLFxMRo+fLl8vT01COPPKJVq1Y5XPDYsWN68skn1bZtW7m5ualXr1652vj5+clisdj9atCgQa52hw8fVp8+feTh4aFGjRpp3rx5ys7OtmtjGIaio6N1zz33qHr16nrwwQf17bffOjxeAAAAID/kZAAAAFRUDp2xHB0drSeffFJvvPGG3fXw8HCFh4dr4cKFevLJJx0q+OOPPyo2NlZdunTRjRs38m03evRoTZkyxfZx1apV7e6npaWpb9++CggI0KZNm3T8+HHNnDlTOTk5WrBgga3d4sWLFRUVpaVLl8pqtWrZsmXq27evfvjhhzxDOAAAAOAocjIAAAAqKocWllNTUzV06NA87z366KP64IMPHC4YGhqqwYMHS5KGDx+uCxcu5NmuYcOG6tKlS779rFy5UllZWdqwYYO8vLzUr18/paenKzIyUrNmzZKXl5euXr2qxYsXa+7cuYqIiJAkde3aVX5+flqxYoVdsAYAAACcRU4GAABAReXQURi9e/fW7t2787y3e/duPfjgg44XrOT0+wLzFBcXp/79+8vLy8t2beTIkcrKyrKNde/evUpPT1dYWJitTY0aNRQaGqq4uDiXjAMAAAAVFzkZAAAAFVW+6fXw4cO2X3/605/0/vvv66mnnlJ8fLwOHTqk+Ph4hYeH6/3339f06dNdPrC///3vqlq1qmrVqqXhw4fr1KlTdvcTExNltVrtrjVt2lQeHh5KTEy0tXFzc5O/v79du9atW9vaAAAAAM4gJwMAAAAFHIURGBgoi8Vi+9gwDK1atUqrVq2SxWKRYRi2ewMGDMj1MpCiGDx4sLp06aImTZroyJEjevHFF9WjRw/9+9//Vq1atSTdOjvO29s71+f6+PgoLS3N1sbT01Nubm652mRmZur69eu5zqQDAAAACkJOBgAAAApYWN65c2dxjsPO8uXLbb/v0aOHunXrpvbt2+udd97RtGnTTK29evVqrV69WpKUkpJiai0AAACUPeRkcjIAAAAKWFju2bNncY6jQIGBgWrVqpW++eYb2zUfHx9dvnw5V9u0tDT5+PjY2mRkZCg7O9tuN0ZaWpo8PDzy3IUxadIkTZo0SZIUHBzs6kcBgCJLTr9hSr+NvKqY0i8AlDfkZHIyAAAAHHx5351u3rypzMzMXL/MZrFY7H7k0Gq15jr/7cyZM8rMzLSdKWe1WpWdna1jx47Ztcvr3DkAAACgKMjJAAAAqEgcWli+fPmynn76aTVs2FDu7u6qWbNmrl9m+uGHH5SYmKgOHTrYroWEhCg+Pl5XrlyxXVu3bp2qV69u20XSrVs3eXl5KSYmxtYmMzNTmzdvVkhIiKljBgAAQPlHTgYAAEBFle9RGHcaN26cdu/erYkTJ+q+++4r0os8MjMzFRsbK0n65ZdflJ6ervXr10uSBg4cqJ07d+qDDz7QoEGD1KhRIyUmJmrBggVq2rSpxo0bZ+snPDxcr7/+uoYNG6bZs2frxIkTioyM1IwZM+Tl5SVJcnd315w5cxQVFSUfHx9ZrVYtW7ZMOTk5mjJlSqGfAQAAAJDIyQAAAKi4HFpYTkhI0KpVqzRq1KgiFzx//rxGjBhhd+32xydPntQ999yj8+fPa9q0abp06ZLq1KmjAQMGKDo62haEpVvnwiUkJCgiIkKhoaHy9vbW9OnTFRkZadf3nDlzlJOTo0WLFik1NVXBwcHasWOH6tevX+RnAQAAQMVGTgYAAEBF5dDCctOmTeXh4eGSgn5+fjIMo8A2CQkJDvUVEBCgzz//vMA2FotFzz//vJ5//nmHxwgAAAA4gpwMAACAisqhheU///nPmj9/voKCgtS0aVOzxwQAAFBsRg7q4/I+125xbPEPZR85GQAAABWVQwvLAwcO1Geffab77rtPfn5+8vb2ztVm//79Lh8cAAAAUJqRkwEAAFBRObSw/Mwzz+i1115Tx44di/xSEgAAAKC8ICcDAACgonJoYflvf/ubFi5cqLlz55o9HgAAAKDMICcDAACgonJoYdnDw0MdOnQweywAAABAmUJOBuBqfxgS4vI+398Y5/I+AQCo5EijqVOnavXq1Xd9SzUAAABQkZCTAQAAUFE5tGP5woUL+te//qVWrVqpV69euV5KYrFYtGTJElMGCAAAAJRW5GQAAABUVA4tLK9fv16VK1fWjRs3tGPHjlz3CcwAAACoiMjJAFB6JKffMKXfRl5VTOkXAMo6hxaWT548afY4AFQwnB0HACgPyMkAAACoqBw6YxkAAAAAAAAAgNsc2rH8xhtv3LXN008/XeTBAAAAAGUJORkAAAAVlUMLyxEREfnes1gskgjMAAAAqHjIyQAAAKioHFpYzsnJyXXt0qVLio+P15IlS7RmzRqXDwxA8fvry3ffdeWsyc/wH9MAgPKLnAwAAICKyqGF5bx4e3vr97//vS5fvqwnn3xSu3btcuGwAAAAgLKJnAwAAICKoMgv72vevLkOHjzoirEAAAAA5QY5GQAAAOVZkRaWz549q1deeUXNmzd31XgAAACAMo+cDAAAgPLOoaMw6tata3v5yG3Xr1/XlStX5O7urg0bNpgyOAAAAKA0IycDAACgonJoYXny5Mm5ArO7u7uaNGmiAQMGqE6dOqYMDgAAACjNyMkAAACoqBxaWI6MjDR5GAAAAEDZQ04GAABARVXkl/cBAAAAAAAAACqWfHcsP/TQQw53YrFYlJCQ4JIBAQAAAKUZORkAAAAoYGHZkfPgzp49q7179+Y6Vw4AAAAor8jJQMXz15ffcHmfk5952uV9AgBQnPJdWI6Jicn3k06fPq0lS5Zoy5Yt8vX11fTp000ZHAAAAFDamJWTjx07pqVLl2rfvn368ccf1aNHD+3atcuujWEYWrRokd58801duHBBHTt21Ouvv6727dvbtTt8+LCmTJmiffv2ydvbWxMmTND8+fPl5ubmdF8AAABAXpw6Y/nYsWN64okn5O/vr08//VSLFi3SqVOnNHfuXKf6ePLJJ9W2bVu5ubmpV69eudoYhqHo6Gjdc889ql69uh588EF9++23udodPnxYffr0kYeHhxo1aqR58+YpOzu7UH0BAAAAheWKnPzjjz8qNjZWrVq1UsuWLfNss3jxYkVFRWn27NnavHmzPD091bdvX507d87WJi0tTX379pXFYtGmTZs0b948vfLKK5o/f77TfQEAAAD5cWhh+ccff9To0aPVunVr7dy5U8uXL9fx48c1bdo0Va9e3amCBGYAAACUF67MyaGhoTpz5oxiYmJ0//3357p/9epVLV68WHPnzlVERIT69u2rmJgYWSwWrVixwtZu5cqVysrK0oYNG9SvXz+Fh4dr/vz5WrZsmdLT053qCwAAAMhPvkdhSNLXX3+thQsXatOmTfL399ff/vY3jRkzxu5H6JwVGhqqwYMHS5KGDx+uCxcu2N3/bciVpK5du8rPz08rVqzQggULJNkHZi8vL/Xr10/p6emKjIzUrFmz5OXl5XBfAAAAgDPMyMmVKhW852Pv3r1KT09XWFiY7VqNGjUUGhqquLg4W7aNi4tT//795eXlZWs3cuRIzZ49W7t371ZoaKjDfQEAABSH9w+ddnmffwhq6vI+YS/f9BoSEqJOnTrpxIkTWrt2rRITEzV27NgihWWp6IH5tvwCc1ZWlnbv3u1UXwAAAICjzMrJd5OYmCg3Nzf5+/vbXW/durUSExPt2lmtVrs2TZs2lYeHh62do30BAAAA+cl3lTc+Pl6GYejnn3/W5MmTVa9evQJ/uQqBGQAAAKVZSeXktLQ0eXp65lrA9vHxUWZmpq5fv25r5+3tnevzfXx8lJaW5lRfAAAAQH7yPQrjt2cVFxdHQm7VqlVdFpirVq1qd2/16tVavXq1JCklJcWVjwYAAIByoKRyckkjJwMAAOBOpW5huaRNmjRJkyZNkiQFBweX8GgAAABQ2pRUTvbx8VFGRoays7PtNk6kpaXJw8PDtmHCx8dHly9fzvX5aWlp8vHxcaqvO5GTAQAAcKeCDzwuAXeG3DsVNTAX1BcAAABQ2lmtVmVnZ+vYsWN21397RJzVas117NuZM2eUmZlpa+doXwAAAEB+8t2xXFLuDLmtWrWyXS9qYC6oLwBwBd5iCwAwU7du3eTl5aWYmBj9v//3/yRJmZmZ2rx5s20nsXTr5YJLly7VlStXVLNmTUnSunXrVL16dfXs2dOpvgAAAID8lLody3eG3Ntuh9yQkBDbtZCQEMXHx+vKlSu2awUF5oL6AgAAAEpaZmam1q9fr/Xr1+uXX35RSkqK7ePMzEy5u7trzpw5io6O1l//+lclJCRoxIgRysnJ0ZQpU2z9hIeHq1q1aho2bJg+++wzrV69WpGRkZoxY4a8vLwkyeG+AAAAgPwU+47lzMxMxcbGSpJ++eUXpaena/369ZKkgQMHysPDQ3PmzFFUVJR8fHxktVq1bNmyPAPz66+/rmHDhmn27Nk6ceJEvoH5bn0BAAAAJe38+fMaMWKE3bXbH588eVJ+fn6aM2eOcnJytGjRIqWmpio4OFg7duxQ/fr1bZ/j4+OjhIQERUREKDQ0VN7e3po+fboiIyPt+nakLwAAACA/xb6wTGAGAAAAcvPz85NhGAW2sVgsev755/X8888X2C4gIECff/65S/oCAAAA8lLsC8sEZgAAAAAAAAAo20rdy/sAAADKK17yCQAoLUYO6mNKv2u3JJjSLwCg9Cl1L+8DAAAAAAAAAJRuLCwDAAAAAAAAAJzCURgAyjV+xA8AAAAAAMD12LEMAAAAAAAAAHAKC8sAAAAAAAAAAKdwFAYAAAAAADDN+4dOu7zPPwQ1dXmfAADnsGMZAAAAAAAAAOAUFpYBAAAAAAAAAE5hYRkAAAAAAAAA4BTOWAYAAAAAAABQ7iWn3zCl30ZeVUzpt7RjxzIAAAAAAAAAwCksLAMAAAAAAAAAnMLCMgAAAAAAAADAKZyxDAAAUM5wdhwAAAAAs7FjGQAAAAAAAADgFBaWAQAAAAAAAABOYWEZAAAAAAAAAOAUzlgGAAAAAAAAABeKjT3o8j4HDgx2eZ9FwY5lAAAAAAAAAIBT2LEMAACAQqsIOzEAAAAA5MaOZQAAAAAAAACAU0rlwvK7774ri8WS69fKlSttbQzDUHR0tO655x5Vr15dDz74oL799ttcfR0+fFh9+vSRh4eHGjVqpHnz5ik7O7s4HwcAAABwCXIyAAAASotSfRTG559/rurVq9s+vvfee22/X7x4saKiorR06VJZrVYtW7ZMffv21Q8//KAGDRpIktLS0tS3b18FBARo06ZNOn78uGbOnKmcnBwtWLCg2J8HAAAAcAVyMgAAAEpaqV5Y7tixozw9PXNdv3r1qhYvXqy5c+cqIiJCktS1a1f5+flpxYoVtjC8cuVKZWVlacOGDfLy8lK/fv2Unp6uyMhIzZo1S15eXsX6PAAAAIArkJMBAABQ0krlURh3s3fvXqWnpyssLMx2rUaNGgoNDVVcXJztWlxcnPr3728XjEeOHKmsrCzt3r27WMcMAAAAmI2cDAAAgOJSqheWW7RoocqVK6tVq1ZatWqV7XpiYqLc3Nzk7+9v175169ZKTEy0a2e1Wu3aNG3aVB4eHnbtAAAAgLKEnAwAAICSViqPwmjYsPGio2wAABkySURBVKGioqLUqVMnZWdna+3atQoPD1dmZqamT5+utLQ0eXp6ys3Nze7zfHx8lJmZqevXr6tq1apKS0uTt7d3rv59fHyUlpZWXI8DAAAAuAQ5GQAAAKVFqVxY7t+/v/r372/7OCQkRFevXtWCBQs0depUU2uvXr1aq1evliSlpKSYWgsAAABwBjkZAAAApUWpPgrjTsOHD9fFixeVlJQkHx8fZWRkKDs7265NWlqaPDw8VLVqVUm3dlxcvnw5V19paWny8fHJs86kSZN08OBBHTx4UHXr1nX9gwAAAAAuRE4GAABASSgzC8sWi8X2T6vVquzsbB07dsyuzW/PirNarbnOiDtz5owyMzNznSkHAAAAlEXkZAAAAJSEMrOwvH79evn6+qpZs2bq1q2bvLy8FBMTY7ufmZmpzZs3KyQkxHYtJCRE8fHxunLliu3aunXrVL16dfXs2bNYxw8AAACYgZwMAACAklAqz1h+9NFH1alTJ7Vt21bZ2dlat26d1q1bp9dff12VKlWSu7u75syZo6ioKPn4+MhqtWrZsmXKycnRlClTbP2Eh4fr9ddf17BhwzR79mydOHFCkZGRmjFjhry8vErwCQHHHfrxZ1P6Dbq/iSn9AgAA85CTAQAAUFqUyoXlVq1a6e2339aZM2dkGIYCAgL0j3/8Q3/4wx9sbebMmaOcnBwtWrRIqampCg4O1o4dO1S/fn1bGx8fHyUkJCgiIkKhoaHy9vbW9OnTFRkZWQJPBQAAABQNORkAAAClRalcWI6OjlZ0dHSBbSwWi55//nk9//zzBbYLCAjQ559/7srhAQAAACWCnAwAAIDfenbiOJf3ufStd+/apsycsQwAAAAAAAAAKB1K5Y5lAAAA4E5m7MKQHNuJAQAAACA3diwDAAAAAAAAAJzCwjIAAAAAAAAAwCksLAMAAAAAAAAAnMIZywAAAACAMunQjz+7vM+g+5u4vE8AAMojdiwDAAAAAAAAAJzCwjIAAAAAAAAAwCksLAMAAAAAAAAAnMLCMgAAAAAAAADAKSwsAwAAAAAAAACcwsIyAAAAAAAAAMApLCwDAAAAAAAAAJzCwjIAAAAAAAAAwCmVS3oAAAAAAMqu9w+ddnmffwhq6vI+AQAA4FrsWAYAAAAAAAAAOIUdyw5iJwYAAAAAAAAA3MKOZQAAAAAAAACAU1hYBgAAAAAAAAA4hYVlAAAAAAAAAIBTWFgGAAAAAAAAADiFhWUAAAAAAAAAgFMql/QAisPhw4c1ZcoU7du3T97e3powYYLmz58vNze3kh4ayrCvTqW5vM/uzXxc3icAAEB+yMkAAAAorHK/sJyWlqa+ffsqICBAmzZt0vHjxzVz5kzl5ORowYIFJT08AAAAoESQkwEAAFAU5X5heeXKlcrKytKGDRvk5eWlfv36KT09XZGRkZo1a5a8vLxKeogAAABAsSMnAwAAoCjK/cJyXFyc+vfvbxeMR44cqdmzZ2v37t0KDQ0twdEBAAAAJYOcDLNwZBwAABVDuV9YTkxM1EMPPWR3rWnTpvLw8FBiYiKBGQAAABVSWczJyek3XN5nI68qLu8TAACgIqhU0gMwW1pamry9vXNd9/HxUVqa6/9POgAAAFAWkJMBAABQFBbDMIySHoSZqlSpoqVLl2ratGl215s0aaI//vGPio6Otru+evVqrV69WtKtXRxWq9XpmikpKapbt27hB13K6hRnrfL4TMVZi2cqG7XK4zMVZy2eiVolVac4a5XHZyrOWoWpk5SUpAsXLpg0otKJnFy2apXHZyrOWjwTtUqqTnHW4pmoVVJ1irNWeXym4qzl8pxslHN169Y1IiMjc1338PAw/vznP5tSs0OHDqb0W1J1irNWeXym4qzFM5WNWuXxmYqzFs9ErZKqU5y1yuMzFWet4nymsoycXLZqlcdnKs5aPBO1SqpOcdbimahVUnWKs1Z5fKbirOXqOuX+KAyr1arExES7a2fOnFFmZmahdlkAAAAA5QE5GQAAAEVR7heWQ0JCFB8frytXrtiurVu3TtWrV1fPnj1LcGQAAABAySEnAwAAoCjcIiMjI0t6EGYKDAzUqlWrtHPnTjVq1EifffaZ5s6dq+nTpyskJMS0uh06dDCt75KoU5y1yuMzFWctnqls1CqPz1SctXgmapVUneKsVR6fqThrFeczlVXk5LJXqzw+U3HW4pmoVVJ1irMWz0StkqpTnLXK4zMVZy1X1in3L++TpMOHDysiIkL79u2Tt7e3JkyYoMjISLm5uZX00AAAAIASQ04GAABAYVWIhWUAAAAAAAAAgOuU+zOWi9NPP/2krl27qmXLluratauOHj1qSp1nnnlGzZs3l8Vi0Q8//GBKDUlKTU3VwIED1apVK7Vp00bDhg1TSkqKafWGDBmidu3aKSgoSD169NC3335rWi1JevHFF03/Gvr5+clqtap9+/Zq37694uPjTalz9epVPfXUU/L391ebNm00adIkU+okJSXZnqV9+/by8/NT7dq1TaklSVu2bFFQUJDat2+vdu3aacOGDabU2bp1q373u9+pTZs26tmzp06ePOmyvvP7fnX1fJFfHTPmi7z6NGO+yG/sZswVd/s6uXK+yK+Wq+eL/OqYMV/kVcuM+SK/ZzJjrsivlqvni4K+d/73f/9X7dq1U8uWLfXwww/r/PnzptV67LHH1KhRI1ksFmVkZJhS56efflLv3r1ltVoVGBioxx9/XFlZWabUysnJUdeuXdWuXTu1a9dOAwYMUFJSUpFqoWjIyUVDTi48cnLRkJOLXoucXPRa5OTC1ZHIya6oRU6+CwMu07t3b+P99983DMMw3n//faN3796m1Pnyyy+N06dPG82aNTP+/e9/m1LDMAwjNTXV2Llzp+3jZ555xhg/frxp9S5dumT7/caNG42goCDTan399dfGgAEDTP8amt3/bVOmTDGmTZtm5OTkGIZhGOfOnTO9pmEYxtSpU43Jkyeb0ndOTo7h7e1t+/p99913hqenp5Gdne3SOhcvXjTq1Klj/Oc//zEM49b3bv/+/V3Wf37fr66eL/KrY8Z8kVefZswX+Y3djLmioK+Tq+eL/Gq5er7Ir44Z84Ujf85cMV/kVcesuSKvWmbMF/l972RnZxstWrQwvvzyS8MwDCMqKsp4/PHHTallGIaRkJBg/Prrr4Yk48qVK6bUOXnypPHNN98YhmEY2dnZRlhYmPHSSy+ZUssw7OeK1157zRg6dGiRaqFoyMlFQ04uPHJy4ZGTXVOLnFz0WuTkwtUhJxe9lmGQk++GhWUX+fXXX41atWoZN2/eNAzDMG7evGnUqlXLOH/+vGk1iyuM3bZ+/XqjT58+xVLrvffeMzp06GBK31evXjW6dOlinDx5slwE5itXrhi1atUq8gTnrGvXrhm+vr7G119/bUr/OTk5Ru3atY09e/YYhmEYu3fvNvz9/V1eZ//+/UZAQIDt49TUVEOSkZKS4tI6d/5ZMHO+yO/PnBl/Fgvq05XzRUF1XD1X/LaWmfOF2YE5r37Nni/yewZXzxe/DcxmzhV31iqO+eL2987+/fuN+++/33Y9JSXFqFGjhsvq3FnrTq4IzI7UMQzDePnll40nnniiWGq99NJLxqOPPurSWnAcOdm1yMmOIycXDTnZ9bUMg5xcmFrk5MLVIScXvdadyMl5q1ykfdWwOXPmjBo3bmx70Ymbm5saNWqkM2fOqG7duiU8uqLLycnRm2++qUceecTUOhMmTND27dtlGIa2bdtmSo158+ZpzJgx8vPzM6X/33rsscdkGIYeeOABRUdHy9vb26X9Hz9+XHXq1NGLL76onTt3ytPTUwsWLNADDzzg0jq/9emnn6px48b63e9+Z0r/FotFH3/8sQYPHqwaNWroypUrio2NdXmdli1b6ty5czpw4IA6duyoDz/8UJJ0+vRp+fr6uryexHzhCsUxV0jMF65i5nxRXHOFZP58cef3zunTp9WsWTPbPV9fX+Xk5OjixYsu+dHq4vp7Pb86WVlZevvtt7Vo0SJTaw0cOFDffPONfH19tX37dpfVgnP4e881yMnOK49/70nk5LKMnFx4zBfOIycXvZaZyktO5oxlOGTKlCny9PRURESEqXX+9re/6fTp04qOjtazzz7r8v737dungwcP6umnn3Z533n58ssv9d133+nAgQMyDMOUr192drZOnDihoKAgHTx4UEuWLNGwYcOUnp7u8lp3evvttzV+/HjT+r9586YWLVqkTZs26dSpU9q8ebPCwsKKfKbRb9WqVUvr1q3T9OnTFRwcrPPnz8vb21uVK/P/3QqrOOYLs+cKifnClcycL4prrpDMny+K6+/a4qyVV52bN29q5MiReuihh1wa2POqFRsbq+TkZI0aNUoLFixwWS3gTuTkwuHvvcIjJ5dd5OTCYb4oHHJy6a5VbnJyofc6w055/hG/mTNnGv369TOuXr1qeq07ubu7GxcuXHBpn4sWLTIaNmxoNGvWzGjWrJnh5uZmNGrUyIiPj3dpnbx8//33hp+fn8v7TUlJMSpXrmw7B8owDKN169bGgQMHXF7rtp9//tnw8PBw+b+fOx04cMBo3bq13TWr1Wrs37/ftJqGcescrWrVqhkZGRku7bei/IifGfPF3cbuyrnizlpmzxcFPZcr54s765g9X+T1TGbMF3fWMXuuKOjfkyvni99+75j5I34FfZ/KhT/il1edmzdvGmFhYcbYsWPt/hyaUetOZ8+eNTw9PV1WD84hJ7seOdkx5GTXIicXrRY5uXC1fouc7HgdcnLRa92JnJw3diy7SL169dS+fXutWbNGkrRmzRoFBQWV+R/Xee655/T1119r48aNqlatmml1MjIydObMGdvHmzdvVu3atV3+JuU5c+YoOTlZSUlJSkpKUpMmTRQfH6+HH37YpXUk6b///a8uX74sSTIMQ2vXrlX79u1dXsfX11e9e/fWjh07JN16i/L58+d13333ubzWbe+9957+53/+R3Xq1DGtRpMmTfTzzz/rP//5jyTpyJEj+vXXX9WiRQuX1zp37pykWz8e8txzzyk8PFw1atRweZ3bmC8Kr7jmCon5wlXMni+Kc66QzJkv8vre6dChg7KysrRnzx5J0sqVKzVixIiiDT6fWmbIq05OTo7GjRsnNzc3/f3vf5fFYjGtVkpKii5cuGBrExMTozZt2rikHpzH33tFQ04uvPL4955ETi6LyMmFx3xReOTkotcyQ7nLyYVekkYuR44cMTp16mT4+/sbnTp1MhITE02pM2XKFKNx48aGm5ubUb9+fbsD0l3phx9+MCQZLVu2NNq1a2e0a9fOGDJkiCm1zp07Z3Tu3NkIDAw02rVrZ/Tu3du0l13cyczdLMePHzfat29vtGnTxggICDCGDx9uJCcnm1arZ8+eRmBgoBEUFGTExsaaUuc2f39/Iy4uztQahmEYH3zwgREYGGi0bdvWaNu2rfHJJ5+YUueJJ54wrFarce+99xrh4eFGVlaWy/rO7/vV1fNFfnXMmC/y6tOM+SKvOmbNFY58nVw1X+RVy4z5Ir9nMmO+KOjr58r5Ir86ZswV+dVy9XxR0PfOV199ZQQGBhr33Xef0bdv3yK/mbygWkOHDjUaN25sSDIaNWpkPPzwwy6vs2XLFkOS7fu3Xbt2xtNPP23KM33//ffG7373O6NNmzZGYGCgERoaahw/frxItVA05OTCIycXvRY5ufDIyUWvRU4uWi1yctHqkJOLXoucXDCLYRhG4ZelAQAAAAAAAAAVDUdhAAAAAAAAAACcwsIyAAAAAAAAAMApLCwDAAAAAAAAAJzCwjIAAAAAAAAAwCksLAMAAAAAAAAAnMLCMgCYIDIyUr6+vnneGzdunIKDg4t5ROZ566231Lx5c1WuXFm9evVy6nN9fX0VGRlpyrgAAABQ+pCTHUNOBlAWVC7pAQAAyq5z587pqaeeUkREhEaMGCEfH5+SHhIAAABQ4sjJACoCFpYBoBzLzs5Wdna2qlatakr/x44dU3Z2tsaPH6+2bduaUgMAAABwNXIyABQdR2EAQCnw7bffqk+fPvLw8JCPj48ee+wx/frrr7b7u3btksVi0Q8//GD3eb169dLw4cNtH9/+8cGNGzfq/vvvl7u7u/71r3/p0qVLmjBhgho1aiR3d3c1bdpUEydOvOu4VqxYIX9/f1WrVk333XefXn31Vdu9yMhI9ejRQ5LUrl07WSwWvfvuu/n29cUXX6hdu3Zyd3dXhw4dtHfv3lxttm7dqn79+qlevXry8vJSly5dtH37dtv9w4cPy2KxaNeuXXafl5GRIU9PTy1fvvyuzwQAAICyg5x8CzkZQGnEjmUAMNHNmzdzXTMMw+7jlJQU9erVS61bt9ZHH32kjIwMzZkzR/369dPBgwed3kWRlJSkWbNmad68eWrQoIGaN2+uGTNmaO/evXr11VfVoEEDnTlzRl988UWB/bz11luaMmWKZsyYof79+2vnzp2aOXOmrl27pjlz5mjChAmqV6+eJk+erA8//FD33nuvWrRokWdfycnJCgkJUadOnbR+/XolJyfrscceU2Zmpl27kydPKjQ0VM8884wqVaqkuLg4hYSE6IsvvlD37t0VEBCgLl266N1337U7py4mJkY3btzQmDFjnPpaAQAAoGSQk28hJwMoy1hYBgCTpKamqkqVKnne69Chg+33r7zyiiQpPj5eXl5ekiR/f3916dJF//znPzVq1Cin63722Wdq37697dr+/fs1efJk/f73v7ddKyhc5uTkKDIyUuPGjbON7+GHH9bly5e1aNEiTZs2TU2aNFFAQIAkqW3btgoMDMy3v9dee03u7u7aunWrPDw8JEk1atTINYaIiAi7MfTu3Vs//vij/v73v6t79+6SpCeeeELTpk3TihUr5OnpKUl65513FBoaqjp16jj0NQIAAEDJISf/H3IygLKMozAAwCS1atXSgQMHcv0aNGiQXbv9+/fr4YcftoVlSercubP8/Py0Z88ep+s2btzYLixLUvv27bV06VK98cYb+umnn+7ax88//6zk5GSNGDHC7vrvf/97paen69///rdTY9q/f7/69etnC8uSNHTo0Dzrjh07Vo0bN1blypVVpUoVbd++3W7Mt0N/TEyMJOn48ePas2ePHn/8cafGBAAAgJJBTv4/5GQAZRkLywBgksqVKys4ODjXr9/uFjh79qzq16+f6/Pr16+vixcvOl03r75WrFihIUOG6KWXXlKrVq3k7++vtWvX5tvH2bNn8+zr9sfOjuvcuXOqV6+e3TUPDw/bTgrp1s6LRx55RHv37tVLL72knTt36sCBAwoJCdHVq1dt7WrWrKmwsDC98847kqR3331XDRo00IABA5waEwAAAEoGOfn/kJMBlGUsLANACWvYsKHOnz+f6/qvv/6q2rVrS5Lc3d0lSdevX7drk5aWluvzLBZLrmve3t56/fXXde7cOX333Xfq3LmzHnvsMR0+fDjfMUnKNa7bL0q5PS5HNWjQIFdfmZmZysjIsH187NgxHTp0SH/5y1/0xBNPqGfPngoODlZWVlau/iZMmKA9e/bo6NGj+sc//qE//vGPcnNzc2pMAAAAKN3IybeQkwGUViwsA0AJ69y5s+Lj43XlyhXbtQMHDigpKUkPPPCAJKlJkyaSpCNHjtjanDlzRomJiU7Xa9u2rZYuXaqcnJx8P79JkyZq1KiR7cfobvv444/l5eWlNm3aOFWzY8eO2rFjh91LSD755BO7NreDcbVq1WzXTp06pa+++ipXf926dVOrVq00fvx4nT59WuPGjXNqPAAAACj9yMm3kJMBlFa8vA8AStiMGTP05ptvqn///po9e7btbddt2rTRo48+KulWgA0ODtYLL7wgDw8P5eTkKDo62uEdEQ888ICGDh2qwMBAWSwWvfXWW6pRo4Y6deqUZ/tKlSopMjJSTz75pOrUqaN+/fpp9+7devPNNxUdHW3bGeKoadOm6a9//asGDRqkGTNmKDk5WYsWLVL16tVtbaxWq5o0aaKZM2cqKipKV65c0fz589W4ceM8+3ziiSf07LPPqmvXrrJarU6NBwAAAKUfOfkWcjKA0oodywBQwurWraudO3fK3d1do0aN0uTJk9WjRw/t2LFDVatWtbVbs2aNmjZtqjFjxui5557TvHnz1KpVK4dqdO3aVe+++66GDx+usLAwXbhwQXFxcbYdHnmZOHGili9frk8++USDBg3SmjVr9Morr2jOnDlOP2Pjxo0VGxurCxcu6NFHH9Ubb7yhDz74wO4lJdWqVdOGDRtUuXJlDR8+XC+88ILmzp2rnj175tnnkCFDJEnjx493ejwAAAAo/cjJt5CTAZRWFsMwjJIeBAAAznrjjTc0a9YsJScn270pHAAAAKjIyMkAigtHYQAAypSkpCT99NNPio6O1rhx4wjLAAAAgMjJAIofO5YBAGXKuHHj9NFHH6lnz576+OOP5ePjU9JDAgAAAEocORlAcWNhGQAAAAAAAADgFF7eBwAAAAAAAABwCgvLAAAAAAAAAACnsLAMAAAAAAAAAHAKC8sAAAAAAAAAAKewsAwAAAAAAAAAcAoLywAAAAAAAAAAp/x/XXDabCj1YScAAAAASUVORK5CYII=\n",
                "text/plain": "<Figure size 1440x720 with 4 Axes>"
              }
            ],
            "_view_module": "@jupyter-widgets/output",
            "_model_module_version": "1.0.0",
            "_view_count": null,
            "_view_module_version": "1.0.0",
            "layout": "IPY_MODEL_70542d6895b6461485a604e6a31a8c7f",
            "_model_module": "@jupyter-widgets/output"
          }
        },
        "64aae97b570f48159a7154e752835dea": {
          "model_module": "@jupyter-widgets/controls",
          "model_name": "DescriptionStyleModel",
          "state": {
            "_view_name": "StyleView",
            "_model_name": "DescriptionStyleModel",
            "description_width": "",
            "_view_module": "@jupyter-widgets/base",
            "_model_module_version": "1.5.0",
            "_view_count": null,
            "_view_module_version": "1.2.0",
            "_model_module": "@jupyter-widgets/controls"
          }
        },
        "8502511d12b64c1badcf135898d6f5bd": {
          "model_module": "@jupyter-widgets/base",
          "model_name": "LayoutModel",
          "state": {
            "_view_name": "LayoutView",
            "grid_template_rows": null,
            "right": null,
            "justify_content": null,
            "_view_module": "@jupyter-widgets/base",
            "overflow": null,
            "_model_module_version": "1.2.0",
            "_view_count": null,
            "flex_flow": null,
            "width": null,
            "min_width": null,
            "border": null,
            "align_items": null,
            "bottom": null,
            "_model_module": "@jupyter-widgets/base",
            "top": null,
            "grid_column": null,
            "overflow_y": null,
            "overflow_x": null,
            "grid_auto_flow": null,
            "grid_area": null,
            "grid_template_columns": null,
            "flex": null,
            "_model_name": "LayoutModel",
            "justify_items": null,
            "grid_row": null,
            "max_height": null,
            "align_content": null,
            "visibility": null,
            "align_self": null,
            "height": null,
            "min_height": null,
            "padding": null,
            "grid_auto_rows": null,
            "grid_gap": null,
            "max_width": null,
            "order": null,
            "_view_module_version": "1.2.0",
            "grid_template_areas": null,
            "object_position": null,
            "object_fit": null,
            "grid_auto_columns": null,
            "margin": null,
            "display": null,
            "left": null
          }
        },
        "dd42aa721357449991e5a0863e86bfa5": {
          "model_module": "@jupyter-widgets/controls",
          "model_name": "DescriptionStyleModel",
          "state": {
            "_view_name": "StyleView",
            "_model_name": "DescriptionStyleModel",
            "description_width": "",
            "_view_module": "@jupyter-widgets/base",
            "_model_module_version": "1.5.0",
            "_view_count": null,
            "_view_module_version": "1.2.0",
            "_model_module": "@jupyter-widgets/controls"
          }
        },
        "76b8a3e16bda41bc866bf229acd6499b": {
          "model_module": "@jupyter-widgets/base",
          "model_name": "LayoutModel",
          "state": {
            "_view_name": "LayoutView",
            "grid_template_rows": null,
            "right": null,
            "justify_content": null,
            "_view_module": "@jupyter-widgets/base",
            "overflow": null,
            "_model_module_version": "1.2.0",
            "_view_count": null,
            "flex_flow": null,
            "width": null,
            "min_width": null,
            "border": null,
            "align_items": null,
            "bottom": null,
            "_model_module": "@jupyter-widgets/base",
            "top": null,
            "grid_column": null,
            "overflow_y": null,
            "overflow_x": null,
            "grid_auto_flow": null,
            "grid_area": null,
            "grid_template_columns": null,
            "flex": null,
            "_model_name": "LayoutModel",
            "justify_items": null,
            "grid_row": null,
            "max_height": null,
            "align_content": null,
            "visibility": null,
            "align_self": null,
            "height": null,
            "min_height": null,
            "padding": null,
            "grid_auto_rows": null,
            "grid_gap": null,
            "max_width": null,
            "order": null,
            "_view_module_version": "1.2.0",
            "grid_template_areas": null,
            "object_position": null,
            "object_fit": null,
            "grid_auto_columns": null,
            "margin": null,
            "display": null,
            "left": null
          }
        },
        "70542d6895b6461485a604e6a31a8c7f": {
          "model_module": "@jupyter-widgets/base",
          "model_name": "LayoutModel",
          "state": {
            "_view_name": "LayoutView",
            "grid_template_rows": null,
            "right": null,
            "justify_content": null,
            "_view_module": "@jupyter-widgets/base",
            "overflow": null,
            "_model_module_version": "1.2.0",
            "_view_count": null,
            "flex_flow": null,
            "width": null,
            "min_width": null,
            "border": null,
            "align_items": null,
            "bottom": null,
            "_model_module": "@jupyter-widgets/base",
            "top": null,
            "grid_column": null,
            "overflow_y": null,
            "overflow_x": null,
            "grid_auto_flow": null,
            "grid_area": null,
            "grid_template_columns": null,
            "flex": null,
            "_model_name": "LayoutModel",
            "justify_items": null,
            "grid_row": null,
            "max_height": null,
            "align_content": null,
            "visibility": null,
            "align_self": null,
            "height": null,
            "min_height": null,
            "padding": null,
            "grid_auto_rows": null,
            "grid_gap": null,
            "max_width": null,
            "order": null,
            "_view_module_version": "1.2.0",
            "grid_template_areas": null,
            "object_position": null,
            "object_fit": null,
            "grid_auto_columns": null,
            "margin": null,
            "display": null,
            "left": null
          }
        },
        "6e7109b77bf4495e950cb3d09ef18f0d": {
          "model_module": "@jupyter-widgets/controls",
          "model_name": "VBoxModel",
          "state": {
            "_view_name": "VBoxView",
            "_dom_classes": [
              "widget-interact"
            ],
            "_model_name": "VBoxModel",
            "_view_module": "@jupyter-widgets/controls",
            "_model_module_version": "1.5.0",
            "_view_count": null,
            "_view_module_version": "1.5.0",
            "box_style": "",
            "layout": "IPY_MODEL_e49cdf8a31194032b179981f4e980fc4",
            "_model_module": "@jupyter-widgets/controls",
            "children": [
              "IPY_MODEL_017f353854874a028f8baa1dfd4ef503",
              "IPY_MODEL_8dfd30cc324941bda12cde23eb07e61e",
              "IPY_MODEL_2b6ddeffd4ff4d18af247369290cdf31"
            ]
          }
        },
        "e49cdf8a31194032b179981f4e980fc4": {
          "model_module": "@jupyter-widgets/base",
          "model_name": "LayoutModel",
          "state": {
            "_view_name": "LayoutView",
            "grid_template_rows": null,
            "right": null,
            "justify_content": null,
            "_view_module": "@jupyter-widgets/base",
            "overflow": null,
            "_model_module_version": "1.2.0",
            "_view_count": null,
            "flex_flow": null,
            "width": null,
            "min_width": null,
            "border": null,
            "align_items": null,
            "bottom": null,
            "_model_module": "@jupyter-widgets/base",
            "top": null,
            "grid_column": null,
            "overflow_y": null,
            "overflow_x": null,
            "grid_auto_flow": null,
            "grid_area": null,
            "grid_template_columns": null,
            "flex": null,
            "_model_name": "LayoutModel",
            "justify_items": null,
            "grid_row": null,
            "max_height": null,
            "align_content": null,
            "visibility": null,
            "align_self": null,
            "height": null,
            "min_height": null,
            "padding": null,
            "grid_auto_rows": null,
            "grid_gap": null,
            "max_width": null,
            "order": null,
            "_view_module_version": "1.2.0",
            "grid_template_areas": null,
            "object_position": null,
            "object_fit": null,
            "grid_auto_columns": null,
            "margin": null,
            "display": null,
            "left": null
          }
        },
        "017f353854874a028f8baa1dfd4ef503": {
          "model_module": "@jupyter-widgets/controls",
          "model_name": "DropdownModel",
          "state": {
            "_options_labels": [
              "2020",
              "2021"
            ],
            "_view_name": "DropdownView",
            "style": "IPY_MODEL_22a558fbdf654d53805fca0d0bb3ad6a",
            "_dom_classes": [],
            "description": "Year",
            "_model_name": "DropdownModel",
            "index": 0,
            "_view_module": "@jupyter-widgets/controls",
            "_model_module_version": "1.5.0",
            "_view_count": null,
            "disabled": false,
            "_view_module_version": "1.5.0",
            "description_tooltip": null,
            "_model_module": "@jupyter-widgets/controls",
            "layout": "IPY_MODEL_b67d280ab15d4183b9bae32325d9765d"
          }
        },
        "8dfd30cc324941bda12cde23eb07e61e": {
          "model_module": "@jupyter-widgets/controls",
          "model_name": "DropdownModel",
          "state": {
            "_options_labels": [
              "January",
              "February",
              "March",
              "April",
              "May",
              "June",
              "July",
              "August",
              "September",
              "October",
              "November",
              "December"
            ],
            "_view_name": "DropdownView",
            "style": "IPY_MODEL_e191d7ea00564940b7ea6bd1459fa876",
            "_dom_classes": [],
            "description": "Month",
            "_model_name": "DropdownModel",
            "index": 2,
            "_view_module": "@jupyter-widgets/controls",
            "_model_module_version": "1.5.0",
            "_view_count": null,
            "disabled": false,
            "_view_module_version": "1.5.0",
            "description_tooltip": null,
            "_model_module": "@jupyter-widgets/controls",
            "layout": "IPY_MODEL_ecc2a6fec14e4538b40cb43198fc5975"
          }
        },
        "2b6ddeffd4ff4d18af247369290cdf31": {
          "model_module": "@jupyter-widgets/output",
          "model_name": "OutputModel",
          "state": {
            "_view_name": "OutputView",
            "msg_id": "",
            "_dom_classes": [],
            "_model_name": "OutputModel",
            "outputs": [
              {
                "output_type": "display_data",
                "metadata": {
                  "tags": []
                },
                "image/png": "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\n",
                "text/plain": "<Figure size 1440x720 with 4 Axes>"
              }
            ],
            "_view_module": "@jupyter-widgets/output",
            "_model_module_version": "1.0.0",
            "_view_count": null,
            "_view_module_version": "1.0.0",
            "layout": "IPY_MODEL_a2a3cb98f3994194b539ae380dbedada",
            "_model_module": "@jupyter-widgets/output"
          }
        },
        "22a558fbdf654d53805fca0d0bb3ad6a": {
          "model_module": "@jupyter-widgets/controls",
          "model_name": "DescriptionStyleModel",
          "state": {
            "_view_name": "StyleView",
            "_model_name": "DescriptionStyleModel",
            "description_width": "",
            "_view_module": "@jupyter-widgets/base",
            "_model_module_version": "1.5.0",
            "_view_count": null,
            "_view_module_version": "1.2.0",
            "_model_module": "@jupyter-widgets/controls"
          }
        },
        "b67d280ab15d4183b9bae32325d9765d": {
          "model_module": "@jupyter-widgets/base",
          "model_name": "LayoutModel",
          "state": {
            "_view_name": "LayoutView",
            "grid_template_rows": null,
            "right": null,
            "justify_content": null,
            "_view_module": "@jupyter-widgets/base",
            "overflow": null,
            "_model_module_version": "1.2.0",
            "_view_count": null,
            "flex_flow": null,
            "width": null,
            "min_width": null,
            "border": null,
            "align_items": null,
            "bottom": null,
            "_model_module": "@jupyter-widgets/base",
            "top": null,
            "grid_column": null,
            "overflow_y": null,
            "overflow_x": null,
            "grid_auto_flow": null,
            "grid_area": null,
            "grid_template_columns": null,
            "flex": null,
            "_model_name": "LayoutModel",
            "justify_items": null,
            "grid_row": null,
            "max_height": null,
            "align_content": null,
            "visibility": null,
            "align_self": null,
            "height": null,
            "min_height": null,
            "padding": null,
            "grid_auto_rows": null,
            "grid_gap": null,
            "max_width": null,
            "order": null,
            "_view_module_version": "1.2.0",
            "grid_template_areas": null,
            "object_position": null,
            "object_fit": null,
            "grid_auto_columns": null,
            "margin": null,
            "display": null,
            "left": null
          }
        },
        "e191d7ea00564940b7ea6bd1459fa876": {
          "model_module": "@jupyter-widgets/controls",
          "model_name": "DescriptionStyleModel",
          "state": {
            "_view_name": "StyleView",
            "_model_name": "DescriptionStyleModel",
            "description_width": "",
            "_view_module": "@jupyter-widgets/base",
            "_model_module_version": "1.5.0",
            "_view_count": null,
            "_view_module_version": "1.2.0",
            "_model_module": "@jupyter-widgets/controls"
          }
        },
        "ecc2a6fec14e4538b40cb43198fc5975": {
          "model_module": "@jupyter-widgets/base",
          "model_name": "LayoutModel",
          "state": {
            "_view_name": "LayoutView",
            "grid_template_rows": null,
            "right": null,
            "justify_content": null,
            "_view_module": "@jupyter-widgets/base",
            "overflow": null,
            "_model_module_version": "1.2.0",
            "_view_count": null,
            "flex_flow": null,
            "width": null,
            "min_width": null,
            "border": null,
            "align_items": null,
            "bottom": null,
            "_model_module": "@jupyter-widgets/base",
            "top": null,
            "grid_column": null,
            "overflow_y": null,
            "overflow_x": null,
            "grid_auto_flow": null,
            "grid_area": null,
            "grid_template_columns": null,
            "flex": null,
            "_model_name": "LayoutModel",
            "justify_items": null,
            "grid_row": null,
            "max_height": null,
            "align_content": null,
            "visibility": null,
            "align_self": null,
            "height": null,
            "min_height": null,
            "padding": null,
            "grid_auto_rows": null,
            "grid_gap": null,
            "max_width": null,
            "order": null,
            "_view_module_version": "1.2.0",
            "grid_template_areas": null,
            "object_position": null,
            "object_fit": null,
            "grid_auto_columns": null,
            "margin": null,
            "display": null,
            "left": null
          }
        },
        "a2a3cb98f3994194b539ae380dbedada": {
          "model_module": "@jupyter-widgets/base",
          "model_name": "LayoutModel",
          "state": {
            "_view_name": "LayoutView",
            "grid_template_rows": null,
            "right": null,
            "justify_content": null,
            "_view_module": "@jupyter-widgets/base",
            "overflow": null,
            "_model_module_version": "1.2.0",
            "_view_count": null,
            "flex_flow": null,
            "width": null,
            "min_width": null,
            "border": null,
            "align_items": null,
            "bottom": null,
            "_model_module": "@jupyter-widgets/base",
            "top": null,
            "grid_column": null,
            "overflow_y": null,
            "overflow_x": null,
            "grid_auto_flow": null,
            "grid_area": null,
            "grid_template_columns": null,
            "flex": null,
            "_model_name": "LayoutModel",
            "justify_items": null,
            "grid_row": null,
            "max_height": null,
            "align_content": null,
            "visibility": null,
            "align_self": null,
            "height": null,
            "min_height": null,
            "padding": null,
            "grid_auto_rows": null,
            "grid_gap": null,
            "max_width": null,
            "order": null,
            "_view_module_version": "1.2.0",
            "grid_template_areas": null,
            "object_position": null,
            "object_fit": null,
            "grid_auto_columns": null,
            "margin": null,
            "display": null,
            "left": null
          }
        }
      }
    }
  },
  "cells": [
    {
      "cell_type": "markdown",
      "metadata": {
        "id": "view-in-github",
        "colab_type": "text"
      },
      "source": [
        "<a href=\"https://colab.research.google.com/github/gabrielborja/python_data_analysis/blob/main/bysykkel_analysis.ipynb\" target=\"_parent\"><img src=\"https://colab.research.google.com/assets/colab-badge.svg\" alt=\"Open In Colab\"/></a>"
      ]
    },
    {
      "cell_type": "markdown",
      "metadata": {
        "id": "eTZwpRZNRhGY"
      },
      "source": [
        "# Bysykkel Oslo"
      ]
    },
    {
      "cell_type": "markdown",
      "metadata": {
        "id": "sgzkv1LwjLIL"
      },
      "source": [
        "## Uploading packages and data"
      ]
    },
    {
      "cell_type": "code",
      "metadata": {
        "id": "QTRtRZcb-IyF"
      },
      "source": [
        "#Importing necessary packages\n",
        "import numpy as np\n",
        "import pandas as pd\n",
        "import random\n",
        "import matplotlib.pyplot as plt\n",
        "import seaborn as sns"
      ],
      "execution_count": 1,
      "outputs": []
    },
    {
      "cell_type": "code",
      "metadata": {
        "id": "1Z4jxJjRRPLB",
        "colab": {
          "base_uri": "https://localhost:8080/"
        },
        "outputId": "7bd51cc3-5354-4901-c7e4-2c125e5bf94a"
      },
      "source": [
        "#Remove previous versions of the uploaded excel file\n",
        "!rm 2021_05_bysykkel.csv"
      ],
      "execution_count": null,
      "outputs": [
        {
          "output_type": "stream",
          "text": [
            "rm: cannot remove '2021_05_bysykkel.csv': No such file or directory\n"
          ],
          "name": "stdout"
        }
      ]
    },
    {
      "cell_type": "code",
      "metadata": {
        "colab": {
          "resources": {
            "http://localhost:8080/nbextensions/google.colab/files.js": {
              "data": "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",
              "ok": true,
              "headers": [
                [
                  "content-type",
                  "application/javascript"
                ]
              ],
              "status": 200,
              "status_text": ""
            }
          },
          "base_uri": "https://localhost:8080/",
          "height": 73
        },
        "id": "oen97ED1-rh-",
        "outputId": "10190d52-b826-469e-b1f4-31eaa55a8031"
      },
      "source": [
        "#Uploading file from local drive\n",
        "from google.colab import files\n",
        "uploaded = files.upload()"
      ],
      "execution_count": null,
      "outputs": [
        {
          "output_type": "display_data",
          "data": {
            "text/html": [
              "\n",
              "     <input type=\"file\" id=\"files-65f43c29-44d8-4200-bd7f-fbf467dd4b20\" name=\"files[]\" multiple disabled\n",
              "        style=\"border:none\" />\n",
              "     <output id=\"result-65f43c29-44d8-4200-bd7f-fbf467dd4b20\">\n",
              "      Upload widget is only available when the cell has been executed in the\n",
              "      current browser session. Please rerun this cell to enable.\n",
              "      </output>\n",
              "      <script src=\"/nbextensions/google.colab/files.js\"></script> "
            ],
            "text/plain": [
              "<IPython.core.display.HTML object>"
            ]
          },
          "metadata": {
            "tags": []
          }
        },
        {
          "output_type": "stream",
          "text": [
            "Saving 2021_05_bysykkel.csv to 2021_05_bysykkel.csv\n"
          ],
          "name": "stdout"
        }
      ]
    },
    {
      "cell_type": "code",
      "metadata": {
        "id": "03VoNwL0-3O6"
      },
      "source": [
        "#Storing dataset in a Pandas Dataframe\n",
        "import io\n",
        "by_df = pd.read_csv(io.BytesIO(uploaded['2021_05_bysykkel.csv']), parse_dates=True, infer_datetime_format=True)"
      ],
      "execution_count": null,
      "outputs": []
    },
    {
      "cell_type": "code",
      "metadata": {
        "id": "6wPknHC-JSRB",
        "colab": {
          "base_uri": "https://localhost:8080/"
        },
        "outputId": "fc394384-743d-43c2-dd1a-f892cd7d6892"
      },
      "source": [
        "#Checking the dataframe information\n",
        "by_df.info()"
      ],
      "execution_count": null,
      "outputs": [
        {
          "output_type": "stream",
          "text": [
            "<class 'pandas.core.frame.DataFrame'>\n",
            "RangeIndex: 144625 entries, 0 to 144624\n",
            "Data columns (total 13 columns):\n",
            " #   Column                     Non-Null Count   Dtype  \n",
            "---  ------                     --------------   -----  \n",
            " 0   started_at                 144625 non-null  object \n",
            " 1   ended_at                   144625 non-null  object \n",
            " 2   duration                   144625 non-null  int64  \n",
            " 3   start_station_id           144625 non-null  int64  \n",
            " 4   start_station_name         144625 non-null  object \n",
            " 5   start_station_description  144623 non-null  object \n",
            " 6   start_station_latitude     144625 non-null  float64\n",
            " 7   start_station_longitude    144625 non-null  float64\n",
            " 8   end_station_id             144625 non-null  int64  \n",
            " 9   end_station_name           144625 non-null  object \n",
            " 10  end_station_description    144623 non-null  object \n",
            " 11  end_station_latitude       144625 non-null  float64\n",
            " 12  end_station_longitude      144625 non-null  float64\n",
            "dtypes: float64(4), int64(3), object(6)\n",
            "memory usage: 14.3+ MB\n"
          ],
          "name": "stdout"
        }
      ]
    },
    {
      "cell_type": "markdown",
      "metadata": {
        "id": "nFhbxv-B6dN7"
      },
      "source": [
        "##Initial Data manipulation and aggregation\n",
        "\n"
      ]
    },
    {
      "cell_type": "code",
      "metadata": {
        "colab": {
          "base_uri": "https://localhost:8080/"
        },
        "id": "L-nwCWK84UZT",
        "outputId": "39dd797d-adad-484e-ce6b-3fbc55d1cee8"
      },
      "source": [
        "#Convert columns into datetime object and Oslo timezone\n",
        "by_df['started_at'] = pd.to_datetime(by_df['started_at'], format='%Y-%m-%d %H:%M:%S').dt.tz_convert('Europe/Oslo')\n",
        "by_df['ended_at'] = pd.to_datetime(by_df['ended_at'], format='%Y-%m-%d %H:%M:%S').dt.tz_convert('Europe/Oslo')\n",
        "by_df.info()"
      ],
      "execution_count": null,
      "outputs": [
        {
          "output_type": "stream",
          "text": [
            "<class 'pandas.core.frame.DataFrame'>\n",
            "RangeIndex: 144625 entries, 0 to 144624\n",
            "Data columns (total 13 columns):\n",
            " #   Column                     Non-Null Count   Dtype                      \n",
            "---  ------                     --------------   -----                      \n",
            " 0   started_at                 144625 non-null  datetime64[ns, Europe/Oslo]\n",
            " 1   ended_at                   144625 non-null  datetime64[ns, Europe/Oslo]\n",
            " 2   duration                   144625 non-null  int64                      \n",
            " 3   start_station_id           144625 non-null  int64                      \n",
            " 4   start_station_name         144625 non-null  object                     \n",
            " 5   start_station_description  144623 non-null  object                     \n",
            " 6   start_station_latitude     144625 non-null  float64                    \n",
            " 7   start_station_longitude    144625 non-null  float64                    \n",
            " 8   end_station_id             144625 non-null  int64                      \n",
            " 9   end_station_name           144625 non-null  object                     \n",
            " 10  end_station_description    144623 non-null  object                     \n",
            " 11  end_station_latitude       144625 non-null  float64                    \n",
            " 12  end_station_longitude      144625 non-null  float64                    \n",
            "dtypes: datetime64[ns, Europe/Oslo](2), float64(4), int64(3), object(4)\n",
            "memory usage: 14.3+ MB\n"
          ],
          "name": "stdout"
        }
      ]
    },
    {
      "cell_type": "code",
      "metadata": {
        "colab": {
          "base_uri": "https://localhost:8080/",
          "height": 160
        },
        "id": "aKX5w8Ws50XN",
        "outputId": "ad1c57b4-9c42-42b8-a4cc-abe8352834b9"
      },
      "source": [
        "#Checking the dataframe head\n",
        "by_df.head(2)"
      ],
      "execution_count": null,
      "outputs": [
        {
          "output_type": "execute_result",
          "data": {
            "text/html": [
              "<div>\n",
              "<style scoped>\n",
              "    .dataframe tbody tr th:only-of-type {\n",
              "        vertical-align: middle;\n",
              "    }\n",
              "\n",
              "    .dataframe tbody tr th {\n",
              "        vertical-align: top;\n",
              "    }\n",
              "\n",
              "    .dataframe thead th {\n",
              "        text-align: right;\n",
              "    }\n",
              "</style>\n",
              "<table border=\"1\" class=\"dataframe\">\n",
              "  <thead>\n",
              "    <tr style=\"text-align: right;\">\n",
              "      <th></th>\n",
              "      <th>started_at</th>\n",
              "      <th>ended_at</th>\n",
              "      <th>duration</th>\n",
              "      <th>start_station_id</th>\n",
              "      <th>start_station_name</th>\n",
              "      <th>start_station_description</th>\n",
              "      <th>start_station_latitude</th>\n",
              "      <th>start_station_longitude</th>\n",
              "      <th>end_station_id</th>\n",
              "      <th>end_station_name</th>\n",
              "      <th>end_station_description</th>\n",
              "      <th>end_station_latitude</th>\n",
              "      <th>end_station_longitude</th>\n",
              "    </tr>\n",
              "  </thead>\n",
              "  <tbody>\n",
              "    <tr>\n",
              "      <th>0</th>\n",
              "      <td>2021-05-01 05:02:08.105000+02:00</td>\n",
              "      <td>2021-05-01 05:07:05.124000+02:00</td>\n",
              "      <td>297</td>\n",
              "      <td>565</td>\n",
              "      <td>Mailundveien</td>\n",
              "      <td>sør for Torshovdalen</td>\n",
              "      <td>59.930918</td>\n",
              "      <td>10.77282</td>\n",
              "      <td>493</td>\n",
              "      <td>Sofienbergparken nordvest</td>\n",
              "      <td>langs Helgesens Gate</td>\n",
              "      <td>59.924364</td>\n",
              "      <td>10.761586</td>\n",
              "    </tr>\n",
              "    <tr>\n",
              "      <th>1</th>\n",
              "      <td>2021-05-01 05:06:49.811000+02:00</td>\n",
              "      <td>2021-05-01 05:17:37.118000+02:00</td>\n",
              "      <td>647</td>\n",
              "      <td>459</td>\n",
              "      <td>Valkyrieplassen</td>\n",
              "      <td>ved Bogstadveien</td>\n",
              "      <td>59.928132</td>\n",
              "      <td>10.71842</td>\n",
              "      <td>499</td>\n",
              "      <td>Bjerregaards gate</td>\n",
              "      <td>ovenfor Fredrikke Qvams gate</td>\n",
              "      <td>59.925488</td>\n",
              "      <td>10.746058</td>\n",
              "    </tr>\n",
              "  </tbody>\n",
              "</table>\n",
              "</div>"
            ],
            "text/plain": [
              "                        started_at  ... end_station_longitude\n",
              "0 2021-05-01 05:02:08.105000+02:00  ...             10.761586\n",
              "1 2021-05-01 05:06:49.811000+02:00  ...             10.746058\n",
              "\n",
              "[2 rows x 13 columns]"
            ]
          },
          "metadata": {
            "tags": []
          },
          "execution_count": 7
        }
      ]
    },
    {
      "cell_type": "code",
      "metadata": {
        "id": "4r7R8-oA6XBs"
      },
      "source": [
        "#Creating 2 dataframes, one with starting trips and one with end trips\n",
        "st_df = by_df[['started_at', 'start_station_id', 'start_station_name', 'start_station_latitude', 'start_station_longitude', 'duration']]\n",
        "en_df = by_df[['ended_at', 'end_station_id', 'end_station_name', 'end_station_latitude', 'end_station_longitude', 'duration']]"
      ],
      "execution_count": null,
      "outputs": []
    },
    {
      "cell_type": "code",
      "metadata": {
        "id": "egIQBPjdPitO"
      },
      "source": [
        "#Creating a function to extract categories from datetime object\n",
        "def convert_dates(df):\n",
        "  \"\"\"Extract year, month, week number, day, hour and minutes from datetime column\"\"\"\n",
        "  df = df.assign(year = df.iloc[:,0].dt.year,\n",
        "                 month = df.iloc[:,0].dt.month_name(),\n",
        "                 weeknum = df.iloc[:,0].dt.isocalendar().week,\n",
        "                 day = df.iloc[:,0].dt.day_name(),\n",
        "                 hour = df.iloc[:,0].dt.hour,\n",
        "                 minute = df.iloc[:,0].dt.minute\n",
        "                 )\n",
        "  return df"
      ],
      "execution_count": null,
      "outputs": []
    },
    {
      "cell_type": "code",
      "metadata": {
        "colab": {
          "base_uri": "https://localhost:8080/",
          "height": 106
        },
        "id": "aTuzDaWRS02L",
        "outputId": "81b5baf6-5275-4da7-cd04-1a13c7c55add"
      },
      "source": [
        "#Converting dates for starting journeys dataframe\n",
        "st_df = convert_dates(st_df)\n",
        "st_df.head(2)"
      ],
      "execution_count": null,
      "outputs": [
        {
          "output_type": "execute_result",
          "data": {
            "text/html": [
              "<div>\n",
              "<style scoped>\n",
              "    .dataframe tbody tr th:only-of-type {\n",
              "        vertical-align: middle;\n",
              "    }\n",
              "\n",
              "    .dataframe tbody tr th {\n",
              "        vertical-align: top;\n",
              "    }\n",
              "\n",
              "    .dataframe thead th {\n",
              "        text-align: right;\n",
              "    }\n",
              "</style>\n",
              "<table border=\"1\" class=\"dataframe\">\n",
              "  <thead>\n",
              "    <tr style=\"text-align: right;\">\n",
              "      <th></th>\n",
              "      <th>started_at</th>\n",
              "      <th>start_station_id</th>\n",
              "      <th>start_station_name</th>\n",
              "      <th>start_station_latitude</th>\n",
              "      <th>start_station_longitude</th>\n",
              "      <th>duration</th>\n",
              "      <th>year</th>\n",
              "      <th>month</th>\n",
              "      <th>weeknum</th>\n",
              "      <th>day</th>\n",
              "      <th>hour</th>\n",
              "      <th>minute</th>\n",
              "    </tr>\n",
              "  </thead>\n",
              "  <tbody>\n",
              "    <tr>\n",
              "      <th>0</th>\n",
              "      <td>2021-05-01 05:02:08.105000+02:00</td>\n",
              "      <td>565</td>\n",
              "      <td>Mailundveien</td>\n",
              "      <td>59.930918</td>\n",
              "      <td>10.77282</td>\n",
              "      <td>297</td>\n",
              "      <td>2021</td>\n",
              "      <td>May</td>\n",
              "      <td>17</td>\n",
              "      <td>Saturday</td>\n",
              "      <td>5</td>\n",
              "      <td>2</td>\n",
              "    </tr>\n",
              "    <tr>\n",
              "      <th>1</th>\n",
              "      <td>2021-05-01 05:06:49.811000+02:00</td>\n",
              "      <td>459</td>\n",
              "      <td>Valkyrieplassen</td>\n",
              "      <td>59.928132</td>\n",
              "      <td>10.71842</td>\n",
              "      <td>647</td>\n",
              "      <td>2021</td>\n",
              "      <td>May</td>\n",
              "      <td>17</td>\n",
              "      <td>Saturday</td>\n",
              "      <td>5</td>\n",
              "      <td>6</td>\n",
              "    </tr>\n",
              "  </tbody>\n",
              "</table>\n",
              "</div>"
            ],
            "text/plain": [
              "                        started_at  start_station_id  ... hour  minute\n",
              "0 2021-05-01 05:02:08.105000+02:00               565  ...    5       2\n",
              "1 2021-05-01 05:06:49.811000+02:00               459  ...    5       6\n",
              "\n",
              "[2 rows x 12 columns]"
            ]
          },
          "metadata": {
            "tags": []
          },
          "execution_count": 10
        }
      ]
    },
    {
      "cell_type": "code",
      "metadata": {
        "colab": {
          "base_uri": "https://localhost:8080/",
          "height": 106
        },
        "id": "TjdQdzNIUkUJ",
        "outputId": "361d7fc4-7c02-4fbd-bb12-f32e3074f66a"
      },
      "source": [
        "#Converting dates for end journeys dataframe\n",
        "en_df = convert_dates(en_df)\n",
        "en_df.head(2)"
      ],
      "execution_count": null,
      "outputs": [
        {
          "output_type": "execute_result",
          "data": {
            "text/html": [
              "<div>\n",
              "<style scoped>\n",
              "    .dataframe tbody tr th:only-of-type {\n",
              "        vertical-align: middle;\n",
              "    }\n",
              "\n",
              "    .dataframe tbody tr th {\n",
              "        vertical-align: top;\n",
              "    }\n",
              "\n",
              "    .dataframe thead th {\n",
              "        text-align: right;\n",
              "    }\n",
              "</style>\n",
              "<table border=\"1\" class=\"dataframe\">\n",
              "  <thead>\n",
              "    <tr style=\"text-align: right;\">\n",
              "      <th></th>\n",
              "      <th>ended_at</th>\n",
              "      <th>end_station_id</th>\n",
              "      <th>end_station_name</th>\n",
              "      <th>end_station_latitude</th>\n",
              "      <th>end_station_longitude</th>\n",
              "      <th>duration</th>\n",
              "      <th>year</th>\n",
              "      <th>month</th>\n",
              "      <th>weeknum</th>\n",
              "      <th>day</th>\n",
              "      <th>hour</th>\n",
              "      <th>minute</th>\n",
              "    </tr>\n",
              "  </thead>\n",
              "  <tbody>\n",
              "    <tr>\n",
              "      <th>0</th>\n",
              "      <td>2021-05-01 05:07:05.124000+02:00</td>\n",
              "      <td>493</td>\n",
              "      <td>Sofienbergparken nordvest</td>\n",
              "      <td>59.924364</td>\n",
              "      <td>10.761586</td>\n",
              "      <td>297</td>\n",
              "      <td>2021</td>\n",
              "      <td>May</td>\n",
              "      <td>17</td>\n",
              "      <td>Saturday</td>\n",
              "      <td>5</td>\n",
              "      <td>7</td>\n",
              "    </tr>\n",
              "    <tr>\n",
              "      <th>1</th>\n",
              "      <td>2021-05-01 05:17:37.118000+02:00</td>\n",
              "      <td>499</td>\n",
              "      <td>Bjerregaards gate</td>\n",
              "      <td>59.925488</td>\n",
              "      <td>10.746058</td>\n",
              "      <td>647</td>\n",
              "      <td>2021</td>\n",
              "      <td>May</td>\n",
              "      <td>17</td>\n",
              "      <td>Saturday</td>\n",
              "      <td>5</td>\n",
              "      <td>17</td>\n",
              "    </tr>\n",
              "  </tbody>\n",
              "</table>\n",
              "</div>"
            ],
            "text/plain": [
              "                          ended_at  end_station_id  ... hour  minute\n",
              "0 2021-05-01 05:07:05.124000+02:00             493  ...    5       7\n",
              "1 2021-05-01 05:17:37.118000+02:00             499  ...    5      17\n",
              "\n",
              "[2 rows x 12 columns]"
            ]
          },
          "metadata": {
            "tags": []
          },
          "execution_count": 11
        }
      ]
    },
    {
      "cell_type": "code",
      "metadata": {
        "colab": {
          "base_uri": "https://localhost:8080/",
          "height": 343
        },
        "id": "CCuqDk_Jijmj",
        "outputId": "5e6b81e3-9156-46ed-b35e-18e92879391e"
      },
      "source": [
        "#Computing Top start_location stations\n",
        "st_loc = st_df.groupby(['year', 'month', 'start_station_name', 'start_station_latitude', 'start_station_longitude']).agg({'start_station_id': 'count',\n",
        "                                                                                                         'duration': 'mean'}).reset_index()\n",
        "st_loc = st_loc.assign(duration = round(st_loc['duration']/60, 2))\n",
        "st_loc = st_loc.rename(columns={'start_station_id': 'trips', 'duration': 'mean_min'}).sort_values(by='trips', ascending=False).reset_index(drop=True)\n",
        "st_loc = st_loc.rename(columns={'start_station_name':'name', 'start_station_latitude':'lat', 'start_station_longitude':'lon'})\n",
        "st_loc.head(10)"
      ],
      "execution_count": null,
      "outputs": [
        {
          "output_type": "execute_result",
          "data": {
            "text/html": [
              "<div>\n",
              "<style scoped>\n",
              "    .dataframe tbody tr th:only-of-type {\n",
              "        vertical-align: middle;\n",
              "    }\n",
              "\n",
              "    .dataframe tbody tr th {\n",
              "        vertical-align: top;\n",
              "    }\n",
              "\n",
              "    .dataframe thead th {\n",
              "        text-align: right;\n",
              "    }\n",
              "</style>\n",
              "<table border=\"1\" class=\"dataframe\">\n",
              "  <thead>\n",
              "    <tr style=\"text-align: right;\">\n",
              "      <th></th>\n",
              "      <th>year</th>\n",
              "      <th>month</th>\n",
              "      <th>name</th>\n",
              "      <th>lat</th>\n",
              "      <th>lon</th>\n",
              "      <th>trips</th>\n",
              "      <th>mean_min</th>\n",
              "    </tr>\n",
              "  </thead>\n",
              "  <tbody>\n",
              "    <tr>\n",
              "      <th>0</th>\n",
              "      <td>2021</td>\n",
              "      <td>May</td>\n",
              "      <td>Alexander Kiellands Plass</td>\n",
              "      <td>59.928067</td>\n",
              "      <td>10.751203</td>\n",
              "      <td>2137</td>\n",
              "      <td>11.62</td>\n",
              "    </tr>\n",
              "    <tr>\n",
              "      <th>1</th>\n",
              "      <td>2021</td>\n",
              "      <td>May</td>\n",
              "      <td>Ringnes Park</td>\n",
              "      <td>59.928434</td>\n",
              "      <td>10.759430</td>\n",
              "      <td>1900</td>\n",
              "      <td>10.93</td>\n",
              "    </tr>\n",
              "    <tr>\n",
              "      <th>2</th>\n",
              "      <td>2021</td>\n",
              "      <td>May</td>\n",
              "      <td>Olaf Ryes plass</td>\n",
              "      <td>59.922425</td>\n",
              "      <td>10.758182</td>\n",
              "      <td>1661</td>\n",
              "      <td>12.92</td>\n",
              "    </tr>\n",
              "    <tr>\n",
              "      <th>3</th>\n",
              "      <td>2021</td>\n",
              "      <td>May</td>\n",
              "      <td>Bislettgata</td>\n",
              "      <td>59.923774</td>\n",
              "      <td>10.734713</td>\n",
              "      <td>1533</td>\n",
              "      <td>11.77</td>\n",
              "    </tr>\n",
              "    <tr>\n",
              "      <th>4</th>\n",
              "      <td>2021</td>\n",
              "      <td>May</td>\n",
              "      <td>Rådhusbrygge 4</td>\n",
              "      <td>59.910847</td>\n",
              "      <td>10.730377</td>\n",
              "      <td>1515</td>\n",
              "      <td>17.29</td>\n",
              "    </tr>\n",
              "    <tr>\n",
              "      <th>5</th>\n",
              "      <td>2021</td>\n",
              "      <td>May</td>\n",
              "      <td>Storo Storsenter</td>\n",
              "      <td>59.946710</td>\n",
              "      <td>10.773805</td>\n",
              "      <td>1492</td>\n",
              "      <td>14.70</td>\n",
              "    </tr>\n",
              "    <tr>\n",
              "      <th>6</th>\n",
              "      <td>2021</td>\n",
              "      <td>May</td>\n",
              "      <td>Sukkerbiten</td>\n",
              "      <td>59.905124</td>\n",
              "      <td>10.753764</td>\n",
              "      <td>1442</td>\n",
              "      <td>18.30</td>\n",
              "    </tr>\n",
              "    <tr>\n",
              "      <th>7</th>\n",
              "      <td>2021</td>\n",
              "      <td>May</td>\n",
              "      <td>Majorstuen</td>\n",
              "      <td>59.929045</td>\n",
              "      <td>10.716926</td>\n",
              "      <td>1400</td>\n",
              "      <td>12.83</td>\n",
              "    </tr>\n",
              "    <tr>\n",
              "      <th>8</th>\n",
              "      <td>2021</td>\n",
              "      <td>May</td>\n",
              "      <td>Bislett Stadion</td>\n",
              "      <td>59.925471</td>\n",
              "      <td>10.731219</td>\n",
              "      <td>1360</td>\n",
              "      <td>11.98</td>\n",
              "    </tr>\n",
              "    <tr>\n",
              "      <th>9</th>\n",
              "      <td>2021</td>\n",
              "      <td>May</td>\n",
              "      <td>Marcus Thranes gate</td>\n",
              "      <td>59.932772</td>\n",
              "      <td>10.758595</td>\n",
              "      <td>1352</td>\n",
              "      <td>11.62</td>\n",
              "    </tr>\n",
              "  </tbody>\n",
              "</table>\n",
              "</div>"
            ],
            "text/plain": [
              "   year month                       name        lat        lon  trips  mean_min\n",
              "0  2021   May  Alexander Kiellands Plass  59.928067  10.751203   2137     11.62\n",
              "1  2021   May               Ringnes Park  59.928434  10.759430   1900     10.93\n",
              "2  2021   May            Olaf Ryes plass  59.922425  10.758182   1661     12.92\n",
              "3  2021   May                Bislettgata  59.923774  10.734713   1533     11.77\n",
              "4  2021   May             Rådhusbrygge 4  59.910847  10.730377   1515     17.29\n",
              "5  2021   May           Storo Storsenter  59.946710  10.773805   1492     14.70\n",
              "6  2021   May                Sukkerbiten  59.905124  10.753764   1442     18.30\n",
              "7  2021   May                 Majorstuen  59.929045  10.716926   1400     12.83\n",
              "8  2021   May            Bislett Stadion  59.925471  10.731219   1360     11.98\n",
              "9  2021   May        Marcus Thranes gate  59.932772  10.758595   1352     11.62"
            ]
          },
          "metadata": {
            "tags": []
          },
          "execution_count": 12
        }
      ]
    },
    {
      "cell_type": "code",
      "metadata": {
        "colab": {
          "base_uri": "https://localhost:8080/",
          "height": 728
        },
        "id": "0QQ5u97Sf3Kb",
        "outputId": "ed92d311-b7c3-47f9-bcb0-634c0f17a528"
      },
      "source": [
        "#Computing top hours by month\n",
        "st_hr = st_df.groupby(['year', 'month', 'hour']).agg({'start_station_id': 'count'}).reset_index()\n",
        "st_hr = st_hr.rename(columns={'start_station_id': 'count'}).sort_values(by='hour').reset_index(drop=True)\n",
        "st_hr"
      ],
      "execution_count": null,
      "outputs": [
        {
          "output_type": "execute_result",
          "data": {
            "text/html": [
              "<div>\n",
              "<style scoped>\n",
              "    .dataframe tbody tr th:only-of-type {\n",
              "        vertical-align: middle;\n",
              "    }\n",
              "\n",
              "    .dataframe tbody tr th {\n",
              "        vertical-align: top;\n",
              "    }\n",
              "\n",
              "    .dataframe thead th {\n",
              "        text-align: right;\n",
              "    }\n",
              "</style>\n",
              "<table border=\"1\" class=\"dataframe\">\n",
              "  <thead>\n",
              "    <tr style=\"text-align: right;\">\n",
              "      <th></th>\n",
              "      <th>year</th>\n",
              "      <th>month</th>\n",
              "      <th>hour</th>\n",
              "      <th>count</th>\n",
              "    </tr>\n",
              "  </thead>\n",
              "  <tbody>\n",
              "    <tr>\n",
              "      <th>0</th>\n",
              "      <td>2021</td>\n",
              "      <td>June</td>\n",
              "      <td>0</td>\n",
              "      <td>40</td>\n",
              "    </tr>\n",
              "    <tr>\n",
              "      <th>1</th>\n",
              "      <td>2021</td>\n",
              "      <td>May</td>\n",
              "      <td>0</td>\n",
              "      <td>1628</td>\n",
              "    </tr>\n",
              "    <tr>\n",
              "      <th>2</th>\n",
              "      <td>2021</td>\n",
              "      <td>May</td>\n",
              "      <td>1</td>\n",
              "      <td>2</td>\n",
              "    </tr>\n",
              "    <tr>\n",
              "      <th>3</th>\n",
              "      <td>2021</td>\n",
              "      <td>May</td>\n",
              "      <td>3</td>\n",
              "      <td>1</td>\n",
              "    </tr>\n",
              "    <tr>\n",
              "      <th>4</th>\n",
              "      <td>2021</td>\n",
              "      <td>May</td>\n",
              "      <td>5</td>\n",
              "      <td>453</td>\n",
              "    </tr>\n",
              "    <tr>\n",
              "      <th>5</th>\n",
              "      <td>2021</td>\n",
              "      <td>May</td>\n",
              "      <td>6</td>\n",
              "      <td>1894</td>\n",
              "    </tr>\n",
              "    <tr>\n",
              "      <th>6</th>\n",
              "      <td>2021</td>\n",
              "      <td>May</td>\n",
              "      <td>7</td>\n",
              "      <td>6330</td>\n",
              "    </tr>\n",
              "    <tr>\n",
              "      <th>7</th>\n",
              "      <td>2021</td>\n",
              "      <td>May</td>\n",
              "      <td>8</td>\n",
              "      <td>8820</td>\n",
              "    </tr>\n",
              "    <tr>\n",
              "      <th>8</th>\n",
              "      <td>2021</td>\n",
              "      <td>May</td>\n",
              "      <td>9</td>\n",
              "      <td>6172</td>\n",
              "    </tr>\n",
              "    <tr>\n",
              "      <th>9</th>\n",
              "      <td>2021</td>\n",
              "      <td>May</td>\n",
              "      <td>10</td>\n",
              "      <td>5625</td>\n",
              "    </tr>\n",
              "    <tr>\n",
              "      <th>10</th>\n",
              "      <td>2021</td>\n",
              "      <td>May</td>\n",
              "      <td>11</td>\n",
              "      <td>6881</td>\n",
              "    </tr>\n",
              "    <tr>\n",
              "      <th>11</th>\n",
              "      <td>2021</td>\n",
              "      <td>May</td>\n",
              "      <td>12</td>\n",
              "      <td>7810</td>\n",
              "    </tr>\n",
              "    <tr>\n",
              "      <th>12</th>\n",
              "      <td>2021</td>\n",
              "      <td>May</td>\n",
              "      <td>13</td>\n",
              "      <td>8534</td>\n",
              "    </tr>\n",
              "    <tr>\n",
              "      <th>13</th>\n",
              "      <td>2021</td>\n",
              "      <td>May</td>\n",
              "      <td>14</td>\n",
              "      <td>9745</td>\n",
              "    </tr>\n",
              "    <tr>\n",
              "      <th>14</th>\n",
              "      <td>2021</td>\n",
              "      <td>May</td>\n",
              "      <td>15</td>\n",
              "      <td>11813</td>\n",
              "    </tr>\n",
              "    <tr>\n",
              "      <th>15</th>\n",
              "      <td>2021</td>\n",
              "      <td>May</td>\n",
              "      <td>16</td>\n",
              "      <td>14149</td>\n",
              "    </tr>\n",
              "    <tr>\n",
              "      <th>16</th>\n",
              "      <td>2021</td>\n",
              "      <td>May</td>\n",
              "      <td>17</td>\n",
              "      <td>13226</td>\n",
              "    </tr>\n",
              "    <tr>\n",
              "      <th>17</th>\n",
              "      <td>2021</td>\n",
              "      <td>May</td>\n",
              "      <td>18</td>\n",
              "      <td>11279</td>\n",
              "    </tr>\n",
              "    <tr>\n",
              "      <th>18</th>\n",
              "      <td>2021</td>\n",
              "      <td>May</td>\n",
              "      <td>19</td>\n",
              "      <td>9159</td>\n",
              "    </tr>\n",
              "    <tr>\n",
              "      <th>19</th>\n",
              "      <td>2021</td>\n",
              "      <td>May</td>\n",
              "      <td>20</td>\n",
              "      <td>7188</td>\n",
              "    </tr>\n",
              "    <tr>\n",
              "      <th>20</th>\n",
              "      <td>2021</td>\n",
              "      <td>May</td>\n",
              "      <td>21</td>\n",
              "      <td>5634</td>\n",
              "    </tr>\n",
              "    <tr>\n",
              "      <th>21</th>\n",
              "      <td>2021</td>\n",
              "      <td>May</td>\n",
              "      <td>22</td>\n",
              "      <td>5144</td>\n",
              "    </tr>\n",
              "    <tr>\n",
              "      <th>22</th>\n",
              "      <td>2021</td>\n",
              "      <td>May</td>\n",
              "      <td>23</td>\n",
              "      <td>3098</td>\n",
              "    </tr>\n",
              "  </tbody>\n",
              "</table>\n",
              "</div>"
            ],
            "text/plain": [
              "    year month  hour  count\n",
              "0   2021  June     0     40\n",
              "1   2021   May     0   1628\n",
              "2   2021   May     1      2\n",
              "3   2021   May     3      1\n",
              "4   2021   May     5    453\n",
              "5   2021   May     6   1894\n",
              "6   2021   May     7   6330\n",
              "7   2021   May     8   8820\n",
              "8   2021   May     9   6172\n",
              "9   2021   May    10   5625\n",
              "10  2021   May    11   6881\n",
              "11  2021   May    12   7810\n",
              "12  2021   May    13   8534\n",
              "13  2021   May    14   9745\n",
              "14  2021   May    15  11813\n",
              "15  2021   May    16  14149\n",
              "16  2021   May    17  13226\n",
              "17  2021   May    18  11279\n",
              "18  2021   May    19   9159\n",
              "19  2021   May    20   7188\n",
              "20  2021   May    21   5634\n",
              "21  2021   May    22   5144\n",
              "22  2021   May    23   3098"
            ]
          },
          "metadata": {
            "tags": []
          },
          "execution_count": 13
        }
      ]
    },
    {
      "cell_type": "code",
      "metadata": {
        "colab": {
          "base_uri": "https://localhost:8080/",
          "height": 343
        },
        "id": "DwAjTuTIk1o8",
        "outputId": "711e359d-c861-4bbf-a64b-d70978d39e9d"
      },
      "source": [
        "#Computing Top end_location stations\n",
        "en_loc = en_df.groupby(['year', 'month', 'end_station_name', 'end_station_latitude', 'end_station_longitude']).agg({'end_station_id': 'count',\n",
        "                                                                                                   'duration': 'mean'}).reset_index()\n",
        "en_loc = en_loc.assign(duration = round(en_loc['duration']/60, 2))\n",
        "en_loc = en_loc.rename(columns={'end_station_id': 'trips', 'duration': 'mean_min'}).sort_values(by='trips', ascending=False).reset_index(drop=True)\n",
        "en_loc = en_loc.rename(columns={'end_station_name':'name', 'end_station_latitude':'lat', 'end_station_longitude':'lon'})\n",
        "en_loc.head(10)"
      ],
      "execution_count": null,
      "outputs": [
        {
          "output_type": "execute_result",
          "data": {
            "text/html": [
              "<div>\n",
              "<style scoped>\n",
              "    .dataframe tbody tr th:only-of-type {\n",
              "        vertical-align: middle;\n",
              "    }\n",
              "\n",
              "    .dataframe tbody tr th {\n",
              "        vertical-align: top;\n",
              "    }\n",
              "\n",
              "    .dataframe thead th {\n",
              "        text-align: right;\n",
              "    }\n",
              "</style>\n",
              "<table border=\"1\" class=\"dataframe\">\n",
              "  <thead>\n",
              "    <tr style=\"text-align: right;\">\n",
              "      <th></th>\n",
              "      <th>year</th>\n",
              "      <th>month</th>\n",
              "      <th>name</th>\n",
              "      <th>lat</th>\n",
              "      <th>lon</th>\n",
              "      <th>trips</th>\n",
              "      <th>mean_min</th>\n",
              "    </tr>\n",
              "  </thead>\n",
              "  <tbody>\n",
              "    <tr>\n",
              "      <th>0</th>\n",
              "      <td>2021</td>\n",
              "      <td>May</td>\n",
              "      <td>Rådhusbrygge 4</td>\n",
              "      <td>59.910847</td>\n",
              "      <td>10.730377</td>\n",
              "      <td>2839</td>\n",
              "      <td>15.74</td>\n",
              "    </tr>\n",
              "    <tr>\n",
              "      <th>1</th>\n",
              "      <td>2021</td>\n",
              "      <td>May</td>\n",
              "      <td>Olaf Ryes plass</td>\n",
              "      <td>59.922425</td>\n",
              "      <td>10.758182</td>\n",
              "      <td>2186</td>\n",
              "      <td>12.01</td>\n",
              "    </tr>\n",
              "    <tr>\n",
              "      <th>2</th>\n",
              "      <td>2021</td>\n",
              "      <td>May</td>\n",
              "      <td>Alexander Kiellands Plass</td>\n",
              "      <td>59.928067</td>\n",
              "      <td>10.751203</td>\n",
              "      <td>2128</td>\n",
              "      <td>11.41</td>\n",
              "    </tr>\n",
              "    <tr>\n",
              "      <th>3</th>\n",
              "      <td>2021</td>\n",
              "      <td>May</td>\n",
              "      <td>Ringnes Park</td>\n",
              "      <td>59.928434</td>\n",
              "      <td>10.759430</td>\n",
              "      <td>1900</td>\n",
              "      <td>11.00</td>\n",
              "    </tr>\n",
              "    <tr>\n",
              "      <th>4</th>\n",
              "      <td>2021</td>\n",
              "      <td>May</td>\n",
              "      <td>Kirkeristen</td>\n",
              "      <td>59.913000</td>\n",
              "      <td>10.746761</td>\n",
              "      <td>1802</td>\n",
              "      <td>11.33</td>\n",
              "    </tr>\n",
              "    <tr>\n",
              "      <th>5</th>\n",
              "      <td>2021</td>\n",
              "      <td>May</td>\n",
              "      <td>Tjuvholmen</td>\n",
              "      <td>59.909467</td>\n",
              "      <td>10.722509</td>\n",
              "      <td>1712</td>\n",
              "      <td>14.58</td>\n",
              "    </tr>\n",
              "    <tr>\n",
              "      <th>6</th>\n",
              "      <td>2021</td>\n",
              "      <td>May</td>\n",
              "      <td>Sukkerbiten</td>\n",
              "      <td>59.905124</td>\n",
              "      <td>10.753764</td>\n",
              "      <td>1710</td>\n",
              "      <td>19.19</td>\n",
              "    </tr>\n",
              "    <tr>\n",
              "      <th>7</th>\n",
              "      <td>2021</td>\n",
              "      <td>May</td>\n",
              "      <td>Helga Helgesens plass</td>\n",
              "      <td>59.912111</td>\n",
              "      <td>10.766194</td>\n",
              "      <td>1628</td>\n",
              "      <td>12.82</td>\n",
              "    </tr>\n",
              "    <tr>\n",
              "      <th>8</th>\n",
              "      <td>2021</td>\n",
              "      <td>May</td>\n",
              "      <td>Torggata</td>\n",
              "      <td>59.915983</td>\n",
              "      <td>10.751551</td>\n",
              "      <td>1555</td>\n",
              "      <td>11.54</td>\n",
              "    </tr>\n",
              "    <tr>\n",
              "      <th>9</th>\n",
              "      <td>2021</td>\n",
              "      <td>May</td>\n",
              "      <td>Sjøsiden ved trappen</td>\n",
              "      <td>59.910154</td>\n",
              "      <td>10.751981</td>\n",
              "      <td>1514</td>\n",
              "      <td>14.68</td>\n",
              "    </tr>\n",
              "  </tbody>\n",
              "</table>\n",
              "</div>"
            ],
            "text/plain": [
              "   year month                       name        lat        lon  trips  mean_min\n",
              "0  2021   May             Rådhusbrygge 4  59.910847  10.730377   2839     15.74\n",
              "1  2021   May            Olaf Ryes plass  59.922425  10.758182   2186     12.01\n",
              "2  2021   May  Alexander Kiellands Plass  59.928067  10.751203   2128     11.41\n",
              "3  2021   May               Ringnes Park  59.928434  10.759430   1900     11.00\n",
              "4  2021   May                Kirkeristen  59.913000  10.746761   1802     11.33\n",
              "5  2021   May                 Tjuvholmen  59.909467  10.722509   1712     14.58\n",
              "6  2021   May                Sukkerbiten  59.905124  10.753764   1710     19.19\n",
              "7  2021   May      Helga Helgesens plass  59.912111  10.766194   1628     12.82\n",
              "8  2021   May                   Torggata  59.915983  10.751551   1555     11.54\n",
              "9  2021   May       Sjøsiden ved trappen  59.910154  10.751981   1514     14.68"
            ]
          },
          "metadata": {
            "tags": []
          },
          "execution_count": 14
        }
      ]
    },
    {
      "cell_type": "code",
      "metadata": {
        "colab": {
          "base_uri": "https://localhost:8080/",
          "height": 787
        },
        "id": "iLQ1iCA4jAb1",
        "outputId": "886f6957-bd56-4f20-d25b-bf0f71e71db6"
      },
      "source": [
        "#Computing top hours by month\n",
        "en_hr = en_df.groupby(['year', 'month', 'hour']).agg({'end_station_id': 'count'}).reset_index()\n",
        "en_hr = en_hr.rename(columns={'end_station_id': 'count'}).sort_values(by='hour').reset_index(drop=True)\n",
        "en_hr"
      ],
      "execution_count": null,
      "outputs": [
        {
          "output_type": "execute_result",
          "data": {
            "text/html": [
              "<div>\n",
              "<style scoped>\n",
              "    .dataframe tbody tr th:only-of-type {\n",
              "        vertical-align: middle;\n",
              "    }\n",
              "\n",
              "    .dataframe tbody tr th {\n",
              "        vertical-align: top;\n",
              "    }\n",
              "\n",
              "    .dataframe thead th {\n",
              "        text-align: right;\n",
              "    }\n",
              "</style>\n",
              "<table border=\"1\" class=\"dataframe\">\n",
              "  <thead>\n",
              "    <tr style=\"text-align: right;\">\n",
              "      <th></th>\n",
              "      <th>year</th>\n",
              "      <th>month</th>\n",
              "      <th>hour</th>\n",
              "      <th>count</th>\n",
              "    </tr>\n",
              "  </thead>\n",
              "  <tbody>\n",
              "    <tr>\n",
              "      <th>0</th>\n",
              "      <td>2021</td>\n",
              "      <td>June</td>\n",
              "      <td>0</td>\n",
              "      <td>51</td>\n",
              "    </tr>\n",
              "    <tr>\n",
              "      <th>1</th>\n",
              "      <td>2021</td>\n",
              "      <td>May</td>\n",
              "      <td>0</td>\n",
              "      <td>1803</td>\n",
              "    </tr>\n",
              "    <tr>\n",
              "      <th>2</th>\n",
              "      <td>2021</td>\n",
              "      <td>June</td>\n",
              "      <td>1</td>\n",
              "      <td>5</td>\n",
              "    </tr>\n",
              "    <tr>\n",
              "      <th>3</th>\n",
              "      <td>2021</td>\n",
              "      <td>May</td>\n",
              "      <td>1</td>\n",
              "      <td>336</td>\n",
              "    </tr>\n",
              "    <tr>\n",
              "      <th>4</th>\n",
              "      <td>2021</td>\n",
              "      <td>May</td>\n",
              "      <td>2</td>\n",
              "      <td>5</td>\n",
              "    </tr>\n",
              "    <tr>\n",
              "      <th>5</th>\n",
              "      <td>2021</td>\n",
              "      <td>May</td>\n",
              "      <td>3</td>\n",
              "      <td>4</td>\n",
              "    </tr>\n",
              "    <tr>\n",
              "      <th>6</th>\n",
              "      <td>2021</td>\n",
              "      <td>May</td>\n",
              "      <td>5</td>\n",
              "      <td>366</td>\n",
              "    </tr>\n",
              "    <tr>\n",
              "      <th>7</th>\n",
              "      <td>2021</td>\n",
              "      <td>May</td>\n",
              "      <td>6</td>\n",
              "      <td>1547</td>\n",
              "    </tr>\n",
              "    <tr>\n",
              "      <th>8</th>\n",
              "      <td>2021</td>\n",
              "      <td>May</td>\n",
              "      <td>7</td>\n",
              "      <td>5385</td>\n",
              "    </tr>\n",
              "    <tr>\n",
              "      <th>9</th>\n",
              "      <td>2021</td>\n",
              "      <td>May</td>\n",
              "      <td>8</td>\n",
              "      <td>8781</td>\n",
              "    </tr>\n",
              "    <tr>\n",
              "      <th>10</th>\n",
              "      <td>2021</td>\n",
              "      <td>May</td>\n",
              "      <td>9</td>\n",
              "      <td>6508</td>\n",
              "    </tr>\n",
              "    <tr>\n",
              "      <th>11</th>\n",
              "      <td>2021</td>\n",
              "      <td>May</td>\n",
              "      <td>10</td>\n",
              "      <td>5474</td>\n",
              "    </tr>\n",
              "    <tr>\n",
              "      <th>12</th>\n",
              "      <td>2021</td>\n",
              "      <td>May</td>\n",
              "      <td>11</td>\n",
              "      <td>6441</td>\n",
              "    </tr>\n",
              "    <tr>\n",
              "      <th>13</th>\n",
              "      <td>2021</td>\n",
              "      <td>May</td>\n",
              "      <td>12</td>\n",
              "      <td>7544</td>\n",
              "    </tr>\n",
              "    <tr>\n",
              "      <th>14</th>\n",
              "      <td>2021</td>\n",
              "      <td>May</td>\n",
              "      <td>13</td>\n",
              "      <td>8328</td>\n",
              "    </tr>\n",
              "    <tr>\n",
              "      <th>15</th>\n",
              "      <td>2021</td>\n",
              "      <td>May</td>\n",
              "      <td>14</td>\n",
              "      <td>9511</td>\n",
              "    </tr>\n",
              "    <tr>\n",
              "      <th>16</th>\n",
              "      <td>2021</td>\n",
              "      <td>May</td>\n",
              "      <td>15</td>\n",
              "      <td>11306</td>\n",
              "    </tr>\n",
              "    <tr>\n",
              "      <th>17</th>\n",
              "      <td>2021</td>\n",
              "      <td>May</td>\n",
              "      <td>16</td>\n",
              "      <td>13903</td>\n",
              "    </tr>\n",
              "    <tr>\n",
              "      <th>18</th>\n",
              "      <td>2021</td>\n",
              "      <td>May</td>\n",
              "      <td>17</td>\n",
              "      <td>13382</td>\n",
              "    </tr>\n",
              "    <tr>\n",
              "      <th>19</th>\n",
              "      <td>2021</td>\n",
              "      <td>May</td>\n",
              "      <td>18</td>\n",
              "      <td>11810</td>\n",
              "    </tr>\n",
              "    <tr>\n",
              "      <th>20</th>\n",
              "      <td>2021</td>\n",
              "      <td>May</td>\n",
              "      <td>19</td>\n",
              "      <td>9559</td>\n",
              "    </tr>\n",
              "    <tr>\n",
              "      <th>21</th>\n",
              "      <td>2021</td>\n",
              "      <td>May</td>\n",
              "      <td>20</td>\n",
              "      <td>7615</td>\n",
              "    </tr>\n",
              "    <tr>\n",
              "      <th>22</th>\n",
              "      <td>2021</td>\n",
              "      <td>May</td>\n",
              "      <td>21</td>\n",
              "      <td>5952</td>\n",
              "    </tr>\n",
              "    <tr>\n",
              "      <th>23</th>\n",
              "      <td>2021</td>\n",
              "      <td>May</td>\n",
              "      <td>22</td>\n",
              "      <td>5469</td>\n",
              "    </tr>\n",
              "    <tr>\n",
              "      <th>24</th>\n",
              "      <td>2021</td>\n",
              "      <td>May</td>\n",
              "      <td>23</td>\n",
              "      <td>3540</td>\n",
              "    </tr>\n",
              "  </tbody>\n",
              "</table>\n",
              "</div>"
            ],
            "text/plain": [
              "    year month  hour  count\n",
              "0   2021  June     0     51\n",
              "1   2021   May     0   1803\n",
              "2   2021  June     1      5\n",
              "3   2021   May     1    336\n",
              "4   2021   May     2      5\n",
              "5   2021   May     3      4\n",
              "6   2021   May     5    366\n",
              "7   2021   May     6   1547\n",
              "8   2021   May     7   5385\n",
              "9   2021   May     8   8781\n",
              "10  2021   May     9   6508\n",
              "11  2021   May    10   5474\n",
              "12  2021   May    11   6441\n",
              "13  2021   May    12   7544\n",
              "14  2021   May    13   8328\n",
              "15  2021   May    14   9511\n",
              "16  2021   May    15  11306\n",
              "17  2021   May    16  13903\n",
              "18  2021   May    17  13382\n",
              "19  2021   May    18  11810\n",
              "20  2021   May    19   9559\n",
              "21  2021   May    20   7615\n",
              "22  2021   May    21   5952\n",
              "23  2021   May    22   5469\n",
              "24  2021   May    23   3540"
            ]
          },
          "metadata": {
            "tags": []
          },
          "execution_count": 15
        }
      ]
    },
    {
      "cell_type": "code",
      "metadata": {
        "colab": {
          "base_uri": "https://localhost:8080/",
          "height": 17
        },
        "id": "GdT1R7f8dMty",
        "outputId": "7e757b27-989b-4b08-852e-581e10fb4a94"
      },
      "source": [
        "#Exporting to csv into local disk\n",
        "from google.colab import files\n",
        "st_loc.to_csv('2021_05_st_loc.csv', index=False, header=False)\n",
        "files.download('2021_05_st_loc.csv')"
      ],
      "execution_count": null,
      "outputs": [
        {
          "output_type": "display_data",
          "data": {
            "application/javascript": [
              "\n",
              "    async function download(id, filename, size) {\n",
              "      if (!google.colab.kernel.accessAllowed) {\n",
              "        return;\n",
              "      }\n",
              "      const div = document.createElement('div');\n",
              "      const label = document.createElement('label');\n",
              "      label.textContent = `Downloading \"${filename}\": `;\n",
              "      div.appendChild(label);\n",
              "      const progress = document.createElement('progress');\n",
              "      progress.max = size;\n",
              "      div.appendChild(progress);\n",
              "      document.body.appendChild(div);\n",
              "\n",
              "      const buffers = [];\n",
              "      let downloaded = 0;\n",
              "\n",
              "      const channel = await google.colab.kernel.comms.open(id);\n",
              "      // Send a message to notify the kernel that we're ready.\n",
              "      channel.send({})\n",
              "\n",
              "      for await (const message of channel.messages) {\n",
              "        // Send a message to notify the kernel that we're ready.\n",
              "        channel.send({})\n",
              "        if (message.buffers) {\n",
              "          for (const buffer of message.buffers) {\n",
              "            buffers.push(buffer);\n",
              "            downloaded += buffer.byteLength;\n",
              "            progress.value = downloaded;\n",
              "          }\n",
              "        }\n",
              "      }\n",
              "      const blob = new Blob(buffers, {type: 'application/binary'});\n",
              "      const a = document.createElement('a');\n",
              "      a.href = window.URL.createObjectURL(blob);\n",
              "      a.download = filename;\n",
              "      div.appendChild(a);\n",
              "      a.click();\n",
              "      div.remove();\n",
              "    }\n",
              "  "
            ],
            "text/plain": [
              "<IPython.core.display.Javascript object>"
            ]
          },
          "metadata": {
            "tags": []
          }
        },
        {
          "output_type": "display_data",
          "data": {
            "application/javascript": [
              "download(\"download_c8d41b66-1777-47c3-9e47-c47478f9f6fa\", \"2021_05_st_loc.csv\", 18610)"
            ],
            "text/plain": [
              "<IPython.core.display.Javascript object>"
            ]
          },
          "metadata": {
            "tags": []
          }
        }
      ]
    },
    {
      "cell_type": "code",
      "metadata": {
        "colab": {
          "base_uri": "https://localhost:8080/",
          "height": 17
        },
        "id": "Ojg-WjP7je1T",
        "outputId": "31992d62-674c-42ff-9183-fc73657073c7"
      },
      "source": [
        "#Exporting to csv into local disk\n",
        "from google.colab import files\n",
        "st_hr.to_csv('2021_05_st_hr.csv', index=False, header=False)\n",
        "files.download('2021_05_st_hr.csv')"
      ],
      "execution_count": null,
      "outputs": [
        {
          "output_type": "display_data",
          "data": {
            "application/javascript": [
              "\n",
              "    async function download(id, filename, size) {\n",
              "      if (!google.colab.kernel.accessAllowed) {\n",
              "        return;\n",
              "      }\n",
              "      const div = document.createElement('div');\n",
              "      const label = document.createElement('label');\n",
              "      label.textContent = `Downloading \"${filename}\": `;\n",
              "      div.appendChild(label);\n",
              "      const progress = document.createElement('progress');\n",
              "      progress.max = size;\n",
              "      div.appendChild(progress);\n",
              "      document.body.appendChild(div);\n",
              "\n",
              "      const buffers = [];\n",
              "      let downloaded = 0;\n",
              "\n",
              "      const channel = await google.colab.kernel.comms.open(id);\n",
              "      // Send a message to notify the kernel that we're ready.\n",
              "      channel.send({})\n",
              "\n",
              "      for await (const message of channel.messages) {\n",
              "        // Send a message to notify the kernel that we're ready.\n",
              "        channel.send({})\n",
              "        if (message.buffers) {\n",
              "          for (const buffer of message.buffers) {\n",
              "            buffers.push(buffer);\n",
              "            downloaded += buffer.byteLength;\n",
              "            progress.value = downloaded;\n",
              "          }\n",
              "        }\n",
              "      }\n",
              "      const blob = new Blob(buffers, {type: 'application/binary'});\n",
              "      const a = document.createElement('a');\n",
              "      a.href = window.URL.createObjectURL(blob);\n",
              "      a.download = filename;\n",
              "      div.appendChild(a);\n",
              "      a.click();\n",
              "      div.remove();\n",
              "    }\n",
              "  "
            ],
            "text/plain": [
              "<IPython.core.display.Javascript object>"
            ]
          },
          "metadata": {
            "tags": []
          }
        },
        {
          "output_type": "display_data",
          "data": {
            "application/javascript": [
              "download(\"download_e4e822ee-d71a-4866-aea6-755416370041\", \"2021_05_st_hr.csv\", 378)"
            ],
            "text/plain": [
              "<IPython.core.display.Javascript object>"
            ]
          },
          "metadata": {
            "tags": []
          }
        }
      ]
    },
    {
      "cell_type": "code",
      "metadata": {
        "colab": {
          "base_uri": "https://localhost:8080/",
          "height": 17
        },
        "id": "uCKJfsixeT7n",
        "outputId": "bc661bcf-982c-4925-845f-93fc8ac1bdf9"
      },
      "source": [
        "#Exporting to excel into local disk\n",
        "from google.colab import files\n",
        "en_loc.to_csv('2021_05_en_loc.csv', index=False, header=False)\n",
        "files.download('2021_05_en_loc.csv')"
      ],
      "execution_count": null,
      "outputs": [
        {
          "output_type": "display_data",
          "data": {
            "application/javascript": [
              "\n",
              "    async function download(id, filename, size) {\n",
              "      if (!google.colab.kernel.accessAllowed) {\n",
              "        return;\n",
              "      }\n",
              "      const div = document.createElement('div');\n",
              "      const label = document.createElement('label');\n",
              "      label.textContent = `Downloading \"${filename}\": `;\n",
              "      div.appendChild(label);\n",
              "      const progress = document.createElement('progress');\n",
              "      progress.max = size;\n",
              "      div.appendChild(progress);\n",
              "      document.body.appendChild(div);\n",
              "\n",
              "      const buffers = [];\n",
              "      let downloaded = 0;\n",
              "\n",
              "      const channel = await google.colab.kernel.comms.open(id);\n",
              "      // Send a message to notify the kernel that we're ready.\n",
              "      channel.send({})\n",
              "\n",
              "      for await (const message of channel.messages) {\n",
              "        // Send a message to notify the kernel that we're ready.\n",
              "        channel.send({})\n",
              "        if (message.buffers) {\n",
              "          for (const buffer of message.buffers) {\n",
              "            buffers.push(buffer);\n",
              "            downloaded += buffer.byteLength;\n",
              "            progress.value = downloaded;\n",
              "          }\n",
              "        }\n",
              "      }\n",
              "      const blob = new Blob(buffers, {type: 'application/binary'});\n",
              "      const a = document.createElement('a');\n",
              "      a.href = window.URL.createObjectURL(blob);\n",
              "      a.download = filename;\n",
              "      div.appendChild(a);\n",
              "      a.click();\n",
              "      div.remove();\n",
              "    }\n",
              "  "
            ],
            "text/plain": [
              "<IPython.core.display.Javascript object>"
            ]
          },
          "metadata": {
            "tags": []
          }
        },
        {
          "output_type": "display_data",
          "data": {
            "application/javascript": [
              "download(\"download_80775231-986a-4dbe-abaf-f313f028dc08\", \"2021_05_en_loc.csv\", 18697)"
            ],
            "text/plain": [
              "<IPython.core.display.Javascript object>"
            ]
          },
          "metadata": {
            "tags": []
          }
        }
      ]
    },
    {
      "cell_type": "code",
      "metadata": {
        "colab": {
          "base_uri": "https://localhost:8080/",
          "height": 17
        },
        "id": "3OgAbyA1juOI",
        "outputId": "2abcd90c-b532-42ba-cd8a-579910602396"
      },
      "source": [
        "#Exporting to csv into local disk\n",
        "from google.colab import files\n",
        "en_hr.to_csv('2021_05_en_hr.csv', index=False, header=False)\n",
        "files.download('2021_05_en_hr.csv')"
      ],
      "execution_count": null,
      "outputs": [
        {
          "output_type": "display_data",
          "data": {
            "application/javascript": [
              "\n",
              "    async function download(id, filename, size) {\n",
              "      if (!google.colab.kernel.accessAllowed) {\n",
              "        return;\n",
              "      }\n",
              "      const div = document.createElement('div');\n",
              "      const label = document.createElement('label');\n",
              "      label.textContent = `Downloading \"${filename}\": `;\n",
              "      div.appendChild(label);\n",
              "      const progress = document.createElement('progress');\n",
              "      progress.max = size;\n",
              "      div.appendChild(progress);\n",
              "      document.body.appendChild(div);\n",
              "\n",
              "      const buffers = [];\n",
              "      let downloaded = 0;\n",
              "\n",
              "      const channel = await google.colab.kernel.comms.open(id);\n",
              "      // Send a message to notify the kernel that we're ready.\n",
              "      channel.send({})\n",
              "\n",
              "      for await (const message of channel.messages) {\n",
              "        // Send a message to notify the kernel that we're ready.\n",
              "        channel.send({})\n",
              "        if (message.buffers) {\n",
              "          for (const buffer of message.buffers) {\n",
              "            buffers.push(buffer);\n",
              "            downloaded += buffer.byteLength;\n",
              "            progress.value = downloaded;\n",
              "          }\n",
              "        }\n",
              "      }\n",
              "      const blob = new Blob(buffers, {type: 'application/binary'});\n",
              "      const a = document.createElement('a');\n",
              "      a.href = window.URL.createObjectURL(blob);\n",
              "      a.download = filename;\n",
              "      div.appendChild(a);\n",
              "      a.click();\n",
              "      div.remove();\n",
              "    }\n",
              "  "
            ],
            "text/plain": [
              "<IPython.core.display.Javascript object>"
            ]
          },
          "metadata": {
            "tags": []
          }
        },
        {
          "output_type": "display_data",
          "data": {
            "application/javascript": [
              "download(\"download_c0771e86-4ff6-45e8-822c-d53b0ab207c3\", \"2021_05_en_hr.csv\", 407)"
            ],
            "text/plain": [
              "<IPython.core.display.Javascript object>"
            ]
          },
          "metadata": {
            "tags": []
          }
        }
      ]
    },
    {
      "cell_type": "markdown",
      "metadata": {
        "id": "c8cFTBBCngUc"
      },
      "source": [
        "##Joining csv files in local disk"
      ]
    },
    {
      "cell_type": "code",
      "metadata": {
        "id": "KPwZIJ1jnbTu"
      },
      "source": [
        "#Using OS from the command line to merge historic data\n",
        "type 202*_**_en_hr.csv > en_hr_merged.csv\n",
        "type 202*_**_en_loc.csv > en_loc_merged.csv\n",
        "type 202*_**_st_hr.csv > st_hr_merged.csv\n",
        "type 202*_**_st_loc.csv > st_loc_merged.csv"
      ],
      "execution_count": null,
      "outputs": []
    },
    {
      "cell_type": "markdown",
      "metadata": {
        "id": "Tbg_Y30tVHIR"
      },
      "source": [
        "##Cleaning aggregated data (hours of day)"
      ]
    },
    {
      "cell_type": "code",
      "metadata": {
        "colab": {
          "resources": {
            "http://localhost:8080/nbextensions/google.colab/files.js": {
              "data": "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",
              "ok": true,
              "headers": [
                [
                  "content-type",
                  "application/javascript"
                ]
              ],
              "status": 200,
              "status_text": ""
            }
          },
          "base_uri": "https://localhost:8080/",
          "height": 73
        },
        "id": "glMP-JacsqbT",
        "outputId": "8821280e-1701-459d-a929-4a5c42dff08f"
      },
      "source": [
        "#Uploading aggregated data files from local drive\n",
        "from google.colab import files\n",
        "uploaded1 = files.upload()"
      ],
      "execution_count": null,
      "outputs": [
        {
          "output_type": "display_data",
          "data": {
            "text/html": [
              "\n",
              "     <input type=\"file\" id=\"files-972f2aba-b511-4f9d-94c9-a8d2ccb98287\" name=\"files[]\" multiple disabled\n",
              "        style=\"border:none\" />\n",
              "     <output id=\"result-972f2aba-b511-4f9d-94c9-a8d2ccb98287\">\n",
              "      Upload widget is only available when the cell has been executed in the\n",
              "      current browser session. Please rerun this cell to enable.\n",
              "      </output>\n",
              "      <script src=\"/nbextensions/google.colab/files.js\"></script> "
            ],
            "text/plain": [
              "<IPython.core.display.HTML object>"
            ]
          },
          "metadata": {
            "tags": []
          }
        },
        {
          "output_type": "stream",
          "text": [
            "Saving st_hr_merged.csv to st_hr_merged.csv\n"
          ],
          "name": "stdout"
        }
      ]
    },
    {
      "cell_type": "code",
      "metadata": {
        "id": "cSHG9v_hsqbV"
      },
      "source": [
        "#Reading aggregated data and storing into a Pandas Dataframe\n",
        "import io\n",
        "hr_col = ['year', 'month', 'hour', 'count']\n",
        "hours_df = pd.read_csv(io.BytesIO(uploaded1['st_hr_merged.csv']), header=None, names=hr_col)"
      ],
      "execution_count": null,
      "outputs": []
    },
    {
      "cell_type": "code",
      "metadata": {
        "colab": {
          "base_uri": "https://localhost:8080/"
        },
        "id": "xbV2B-mstkvj",
        "outputId": "3a6a9c44-5cd1-4b9d-c151-435a39afb73c"
      },
      "source": [
        "#Checking the dataframe info\n",
        "hours_df.info()"
      ],
      "execution_count": null,
      "outputs": [
        {
          "output_type": "stream",
          "text": [
            "<class 'pandas.core.frame.DataFrame'>\n",
            "RangeIndex: 336 entries, 0 to 335\n",
            "Data columns (total 4 columns):\n",
            " #   Column  Non-Null Count  Dtype \n",
            "---  ------  --------------  ----- \n",
            " 0   year    336 non-null    int64 \n",
            " 1   month   336 non-null    object\n",
            " 2   hour    336 non-null    int64 \n",
            " 3   count   336 non-null    int64 \n",
            "dtypes: int64(3), object(1)\n",
            "memory usage: 10.6+ KB\n"
          ],
          "name": "stdout"
        }
      ]
    },
    {
      "cell_type": "code",
      "metadata": {
        "colab": {
          "base_uri": "https://localhost:8080/",
          "height": 343
        },
        "id": "dsRvaUsZv1BP",
        "outputId": "17557d97-334b-48f2-cd87-0b177a1e1d78"
      },
      "source": [
        "#Check the dataframe head\n",
        "hours_df.head(10)"
      ],
      "execution_count": null,
      "outputs": [
        {
          "output_type": "execute_result",
          "data": {
            "text/html": [
              "<div>\n",
              "<style scoped>\n",
              "    .dataframe tbody tr th:only-of-type {\n",
              "        vertical-align: middle;\n",
              "    }\n",
              "\n",
              "    .dataframe tbody tr th {\n",
              "        vertical-align: top;\n",
              "    }\n",
              "\n",
              "    .dataframe thead th {\n",
              "        text-align: right;\n",
              "    }\n",
              "</style>\n",
              "<table border=\"1\" class=\"dataframe\">\n",
              "  <thead>\n",
              "    <tr style=\"text-align: right;\">\n",
              "      <th></th>\n",
              "      <th>year</th>\n",
              "      <th>month</th>\n",
              "      <th>hour</th>\n",
              "      <th>count</th>\n",
              "    </tr>\n",
              "  </thead>\n",
              "  <tbody>\n",
              "    <tr>\n",
              "      <th>0</th>\n",
              "      <td>2020</td>\n",
              "      <td>April</td>\n",
              "      <td>0</td>\n",
              "      <td>19</td>\n",
              "    </tr>\n",
              "    <tr>\n",
              "      <th>1</th>\n",
              "      <td>2020</td>\n",
              "      <td>March</td>\n",
              "      <td>0</td>\n",
              "      <td>164</td>\n",
              "    </tr>\n",
              "    <tr>\n",
              "      <th>2</th>\n",
              "      <td>2020</td>\n",
              "      <td>March</td>\n",
              "      <td>5</td>\n",
              "      <td>76</td>\n",
              "    </tr>\n",
              "    <tr>\n",
              "      <th>3</th>\n",
              "      <td>2020</td>\n",
              "      <td>March</td>\n",
              "      <td>6</td>\n",
              "      <td>437</td>\n",
              "    </tr>\n",
              "    <tr>\n",
              "      <th>4</th>\n",
              "      <td>2020</td>\n",
              "      <td>March</td>\n",
              "      <td>7</td>\n",
              "      <td>1234</td>\n",
              "    </tr>\n",
              "    <tr>\n",
              "      <th>5</th>\n",
              "      <td>2020</td>\n",
              "      <td>March</td>\n",
              "      <td>8</td>\n",
              "      <td>1288</td>\n",
              "    </tr>\n",
              "    <tr>\n",
              "      <th>6</th>\n",
              "      <td>2020</td>\n",
              "      <td>March</td>\n",
              "      <td>9</td>\n",
              "      <td>845</td>\n",
              "    </tr>\n",
              "    <tr>\n",
              "      <th>7</th>\n",
              "      <td>2020</td>\n",
              "      <td>March</td>\n",
              "      <td>10</td>\n",
              "      <td>958</td>\n",
              "    </tr>\n",
              "    <tr>\n",
              "      <th>8</th>\n",
              "      <td>2020</td>\n",
              "      <td>March</td>\n",
              "      <td>11</td>\n",
              "      <td>1497</td>\n",
              "    </tr>\n",
              "    <tr>\n",
              "      <th>9</th>\n",
              "      <td>2020</td>\n",
              "      <td>March</td>\n",
              "      <td>12</td>\n",
              "      <td>1976</td>\n",
              "    </tr>\n",
              "  </tbody>\n",
              "</table>\n",
              "</div>"
            ],
            "text/plain": [
              "   year  month  hour  count\n",
              "0  2020  April     0     19\n",
              "1  2020  March     0    164\n",
              "2  2020  March     5     76\n",
              "3  2020  March     6    437\n",
              "4  2020  March     7   1234\n",
              "5  2020  March     8   1288\n",
              "6  2020  March     9    845\n",
              "7  2020  March    10    958\n",
              "8  2020  March    11   1497\n",
              "9  2020  March    12   1976"
            ]
          },
          "metadata": {
            "tags": []
          },
          "execution_count": 7
        }
      ]
    },
    {
      "cell_type": "code",
      "metadata": {
        "id": "_kLGpJ-XwSIS"
      },
      "source": [
        "#Order the hours data and aggregate the hour count\n",
        "hours_df = hours_df.groupby(['year', 'month', 'hour']).agg({'count': 'sum'}).reset_index()"
      ],
      "execution_count": null,
      "outputs": []
    },
    {
      "cell_type": "code",
      "metadata": {
        "colab": {
          "base_uri": "https://localhost:8080/",
          "height": 639
        },
        "id": "uL2cny8CzSJT",
        "outputId": "93cf70f5-a8d7-4094-9d3b-dcda30021cc3"
      },
      "source": [
        "#Verifying slices of the dataframe for a given year and month\n",
        "hours_df[(hours_df['year']==2021) & (hours_df['month']=='April')]"
      ],
      "execution_count": null,
      "outputs": [
        {
          "output_type": "execute_result",
          "data": {
            "text/html": [
              "<div>\n",
              "<style scoped>\n",
              "    .dataframe tbody tr th:only-of-type {\n",
              "        vertical-align: middle;\n",
              "    }\n",
              "\n",
              "    .dataframe tbody tr th {\n",
              "        vertical-align: top;\n",
              "    }\n",
              "\n",
              "    .dataframe thead th {\n",
              "        text-align: right;\n",
              "    }\n",
              "</style>\n",
              "<table border=\"1\" class=\"dataframe\">\n",
              "  <thead>\n",
              "    <tr style=\"text-align: right;\">\n",
              "      <th></th>\n",
              "      <th>year</th>\n",
              "      <th>month</th>\n",
              "      <th>hour</th>\n",
              "      <th>count</th>\n",
              "    </tr>\n",
              "  </thead>\n",
              "  <tbody>\n",
              "    <tr>\n",
              "      <th>219</th>\n",
              "      <td>2021</td>\n",
              "      <td>April</td>\n",
              "      <td>0</td>\n",
              "      <td>962</td>\n",
              "    </tr>\n",
              "    <tr>\n",
              "      <th>220</th>\n",
              "      <td>2021</td>\n",
              "      <td>April</td>\n",
              "      <td>5</td>\n",
              "      <td>293</td>\n",
              "    </tr>\n",
              "    <tr>\n",
              "      <th>221</th>\n",
              "      <td>2021</td>\n",
              "      <td>April</td>\n",
              "      <td>6</td>\n",
              "      <td>1652</td>\n",
              "    </tr>\n",
              "    <tr>\n",
              "      <th>222</th>\n",
              "      <td>2021</td>\n",
              "      <td>April</td>\n",
              "      <td>7</td>\n",
              "      <td>5587</td>\n",
              "    </tr>\n",
              "    <tr>\n",
              "      <th>223</th>\n",
              "      <td>2021</td>\n",
              "      <td>April</td>\n",
              "      <td>8</td>\n",
              "      <td>7290</td>\n",
              "    </tr>\n",
              "    <tr>\n",
              "      <th>224</th>\n",
              "      <td>2021</td>\n",
              "      <td>April</td>\n",
              "      <td>9</td>\n",
              "      <td>4599</td>\n",
              "    </tr>\n",
              "    <tr>\n",
              "      <th>225</th>\n",
              "      <td>2021</td>\n",
              "      <td>April</td>\n",
              "      <td>10</td>\n",
              "      <td>4244</td>\n",
              "    </tr>\n",
              "    <tr>\n",
              "      <th>226</th>\n",
              "      <td>2021</td>\n",
              "      <td>April</td>\n",
              "      <td>11</td>\n",
              "      <td>5496</td>\n",
              "    </tr>\n",
              "    <tr>\n",
              "      <th>227</th>\n",
              "      <td>2021</td>\n",
              "      <td>April</td>\n",
              "      <td>12</td>\n",
              "      <td>6766</td>\n",
              "    </tr>\n",
              "    <tr>\n",
              "      <th>228</th>\n",
              "      <td>2021</td>\n",
              "      <td>April</td>\n",
              "      <td>13</td>\n",
              "      <td>7337</td>\n",
              "    </tr>\n",
              "    <tr>\n",
              "      <th>229</th>\n",
              "      <td>2021</td>\n",
              "      <td>April</td>\n",
              "      <td>14</td>\n",
              "      <td>8584</td>\n",
              "    </tr>\n",
              "    <tr>\n",
              "      <th>230</th>\n",
              "      <td>2021</td>\n",
              "      <td>April</td>\n",
              "      <td>15</td>\n",
              "      <td>10767</td>\n",
              "    </tr>\n",
              "    <tr>\n",
              "      <th>231</th>\n",
              "      <td>2021</td>\n",
              "      <td>April</td>\n",
              "      <td>16</td>\n",
              "      <td>12550</td>\n",
              "    </tr>\n",
              "    <tr>\n",
              "      <th>232</th>\n",
              "      <td>2021</td>\n",
              "      <td>April</td>\n",
              "      <td>17</td>\n",
              "      <td>11013</td>\n",
              "    </tr>\n",
              "    <tr>\n",
              "      <th>233</th>\n",
              "      <td>2021</td>\n",
              "      <td>April</td>\n",
              "      <td>18</td>\n",
              "      <td>9145</td>\n",
              "    </tr>\n",
              "    <tr>\n",
              "      <th>234</th>\n",
              "      <td>2021</td>\n",
              "      <td>April</td>\n",
              "      <td>19</td>\n",
              "      <td>7121</td>\n",
              "    </tr>\n",
              "    <tr>\n",
              "      <th>235</th>\n",
              "      <td>2021</td>\n",
              "      <td>April</td>\n",
              "      <td>20</td>\n",
              "      <td>5214</td>\n",
              "    </tr>\n",
              "    <tr>\n",
              "      <th>236</th>\n",
              "      <td>2021</td>\n",
              "      <td>April</td>\n",
              "      <td>21</td>\n",
              "      <td>3602</td>\n",
              "    </tr>\n",
              "    <tr>\n",
              "      <th>237</th>\n",
              "      <td>2021</td>\n",
              "      <td>April</td>\n",
              "      <td>22</td>\n",
              "      <td>2880</td>\n",
              "    </tr>\n",
              "    <tr>\n",
              "      <th>238</th>\n",
              "      <td>2021</td>\n",
              "      <td>April</td>\n",
              "      <td>23</td>\n",
              "      <td>1792</td>\n",
              "    </tr>\n",
              "  </tbody>\n",
              "</table>\n",
              "</div>"
            ],
            "text/plain": [
              "     year  month  hour  count\n",
              "219  2021  April     0    962\n",
              "220  2021  April     5    293\n",
              "221  2021  April     6   1652\n",
              "222  2021  April     7   5587\n",
              "223  2021  April     8   7290\n",
              "224  2021  April     9   4599\n",
              "225  2021  April    10   4244\n",
              "226  2021  April    11   5496\n",
              "227  2021  April    12   6766\n",
              "228  2021  April    13   7337\n",
              "229  2021  April    14   8584\n",
              "230  2021  April    15  10767\n",
              "231  2021  April    16  12550\n",
              "232  2021  April    17  11013\n",
              "233  2021  April    18   9145\n",
              "234  2021  April    19   7121\n",
              "235  2021  April    20   5214\n",
              "236  2021  April    21   3602\n",
              "237  2021  April    22   2880\n",
              "238  2021  April    23   1792"
            ]
          },
          "metadata": {
            "tags": []
          },
          "execution_count": 9
        }
      ]
    },
    {
      "cell_type": "code",
      "metadata": {
        "colab": {
          "base_uri": "https://localhost:8080/",
          "height": 17
        },
        "id": "TqL0FxRDz8ha",
        "outputId": "89a70028-c7bc-4b56-9236-01f69724d911"
      },
      "source": [
        "#Exporting cleaned hours of day data to csv into local disk\n",
        "from google.colab import files\n",
        "hours_df.to_csv('st_hr_cleaned.csv', index=False)\n",
        "files.download('st_hr_cleaned.csv')"
      ],
      "execution_count": null,
      "outputs": [
        {
          "output_type": "display_data",
          "data": {
            "application/javascript": [
              "\n",
              "    async function download(id, filename, size) {\n",
              "      if (!google.colab.kernel.accessAllowed) {\n",
              "        return;\n",
              "      }\n",
              "      const div = document.createElement('div');\n",
              "      const label = document.createElement('label');\n",
              "      label.textContent = `Downloading \"${filename}\": `;\n",
              "      div.appendChild(label);\n",
              "      const progress = document.createElement('progress');\n",
              "      progress.max = size;\n",
              "      div.appendChild(progress);\n",
              "      document.body.appendChild(div);\n",
              "\n",
              "      const buffers = [];\n",
              "      let downloaded = 0;\n",
              "\n",
              "      const channel = await google.colab.kernel.comms.open(id);\n",
              "      // Send a message to notify the kernel that we're ready.\n",
              "      channel.send({})\n",
              "\n",
              "      for await (const message of channel.messages) {\n",
              "        // Send a message to notify the kernel that we're ready.\n",
              "        channel.send({})\n",
              "        if (message.buffers) {\n",
              "          for (const buffer of message.buffers) {\n",
              "            buffers.push(buffer);\n",
              "            downloaded += buffer.byteLength;\n",
              "            progress.value = downloaded;\n",
              "          }\n",
              "        }\n",
              "      }\n",
              "      const blob = new Blob(buffers, {type: 'application/binary'});\n",
              "      const a = document.createElement('a');\n",
              "      a.href = window.URL.createObjectURL(blob);\n",
              "      a.download = filename;\n",
              "      div.appendChild(a);\n",
              "      a.click();\n",
              "      div.remove();\n",
              "    }\n",
              "  "
            ],
            "text/plain": [
              "<IPython.core.display.Javascript object>"
            ]
          },
          "metadata": {
            "tags": []
          }
        },
        {
          "output_type": "display_data",
          "data": {
            "application/javascript": [
              "download(\"download_023cbfda-a82b-45e1-86f8-1d1adf02859e\", \"st_hr_merged-cleaned.csv\", 6271)"
            ],
            "text/plain": [
              "<IPython.core.display.Javascript object>"
            ]
          },
          "metadata": {
            "tags": []
          }
        }
      ]
    },
    {
      "cell_type": "markdown",
      "metadata": {
        "id": "pQNqlam8VRBB"
      },
      "source": [
        "##Cleaning aggregated data (location)"
      ]
    },
    {
      "cell_type": "code",
      "metadata": {
        "colab": {
          "resources": {
            "http://localhost:8080/nbextensions/google.colab/files.js": {
              "data": "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",
              "ok": true,
              "headers": [
                [
                  "content-type",
                  "application/javascript"
                ]
              ],
              "status": 200,
              "status_text": ""
            }
          },
          "base_uri": "https://localhost:8080/",
          "height": 73
        },
        "id": "LlnbhiosVhtQ",
        "outputId": "d3bd03d2-9cac-4cee-9aaa-2d0bc93cf36f"
      },
      "source": [
        "#Uploading aggregated data files from local drive\n",
        "from google.colab import files\n",
        "uploaded2 = files.upload()"
      ],
      "execution_count": null,
      "outputs": [
        {
          "output_type": "display_data",
          "data": {
            "text/html": [
              "\n",
              "     <input type=\"file\" id=\"files-5c236b9f-473b-4f47-b7ae-304dacfefa4a\" name=\"files[]\" multiple disabled\n",
              "        style=\"border:none\" />\n",
              "     <output id=\"result-5c236b9f-473b-4f47-b7ae-304dacfefa4a\">\n",
              "      Upload widget is only available when the cell has been executed in the\n",
              "      current browser session. Please rerun this cell to enable.\n",
              "      </output>\n",
              "      <script src=\"/nbextensions/google.colab/files.js\"></script> "
            ],
            "text/plain": [
              "<IPython.core.display.HTML object>"
            ]
          },
          "metadata": {
            "tags": []
          }
        },
        {
          "output_type": "stream",
          "text": [
            "Saving st_loc_merged.csv to st_loc_merged.csv\n"
          ],
          "name": "stdout"
        }
      ]
    },
    {
      "cell_type": "code",
      "metadata": {
        "id": "izgKXQJ2VhtT"
      },
      "source": [
        "#Reading aggregated data and storing into a Pandas Dataframe\n",
        "import io\n",
        "loc_col = ['year', 'month', 'name',\t'lat',\t'lon',\t'trips',\t'mean_min']\n",
        "loc_df = pd.read_csv(io.BytesIO(uploaded2['st_loc_merged.csv']), header=None, names=loc_col)"
      ],
      "execution_count": null,
      "outputs": []
    },
    {
      "cell_type": "code",
      "metadata": {
        "colab": {
          "base_uri": "https://localhost:8080/"
        },
        "id": "MAB98GL9VhtU",
        "outputId": "c25a8677-2f8e-4667-b5d0-0ed87e75f4ed"
      },
      "source": [
        "#Checking the dataframe info\n",
        "loc_df.info()"
      ],
      "execution_count": null,
      "outputs": [
        {
          "output_type": "stream",
          "text": [
            "<class 'pandas.core.frame.DataFrame'>\n",
            "RangeIndex: 4288 entries, 0 to 4287\n",
            "Data columns (total 7 columns):\n",
            " #   Column    Non-Null Count  Dtype  \n",
            "---  ------    --------------  -----  \n",
            " 0   year      4288 non-null   int64  \n",
            " 1   month     4288 non-null   object \n",
            " 2   name      4288 non-null   object \n",
            " 3   lat       4288 non-null   float64\n",
            " 4   lon       4288 non-null   float64\n",
            " 5   trips     4288 non-null   int64  \n",
            " 6   mean_min  4288 non-null   float64\n",
            "dtypes: float64(3), int64(2), object(2)\n",
            "memory usage: 234.6+ KB\n"
          ],
          "name": "stdout"
        }
      ]
    },
    {
      "cell_type": "code",
      "metadata": {
        "colab": {
          "base_uri": "https://localhost:8080/",
          "height": 195
        },
        "id": "JHjKW0WDVhtV",
        "outputId": "a42b74fd-e927-446a-d0a0-8f8557394de1"
      },
      "source": [
        "#Check the dataframe head\n",
        "loc_df.head(5)"
      ],
      "execution_count": null,
      "outputs": [
        {
          "output_type": "execute_result",
          "data": {
            "text/html": [
              "<div>\n",
              "<style scoped>\n",
              "    .dataframe tbody tr th:only-of-type {\n",
              "        vertical-align: middle;\n",
              "    }\n",
              "\n",
              "    .dataframe tbody tr th {\n",
              "        vertical-align: top;\n",
              "    }\n",
              "\n",
              "    .dataframe thead th {\n",
              "        text-align: right;\n",
              "    }\n",
              "</style>\n",
              "<table border=\"1\" class=\"dataframe\">\n",
              "  <thead>\n",
              "    <tr style=\"text-align: right;\">\n",
              "      <th></th>\n",
              "      <th>year</th>\n",
              "      <th>month</th>\n",
              "      <th>name</th>\n",
              "      <th>lat</th>\n",
              "      <th>lon</th>\n",
              "      <th>trips</th>\n",
              "      <th>mean_min</th>\n",
              "    </tr>\n",
              "  </thead>\n",
              "  <tbody>\n",
              "    <tr>\n",
              "      <th>0</th>\n",
              "      <td>2020</td>\n",
              "      <td>March</td>\n",
              "      <td>Ringnes Park</td>\n",
              "      <td>59.928434</td>\n",
              "      <td>10.759430</td>\n",
              "      <td>463</td>\n",
              "      <td>16.80</td>\n",
              "    </tr>\n",
              "    <tr>\n",
              "      <th>1</th>\n",
              "      <td>2020</td>\n",
              "      <td>March</td>\n",
              "      <td>Alexander Kiellands Plass</td>\n",
              "      <td>59.928067</td>\n",
              "      <td>10.751203</td>\n",
              "      <td>452</td>\n",
              "      <td>14.31</td>\n",
              "    </tr>\n",
              "    <tr>\n",
              "      <th>2</th>\n",
              "      <td>2020</td>\n",
              "      <td>March</td>\n",
              "      <td>Tjuvholmen</td>\n",
              "      <td>59.909467</td>\n",
              "      <td>10.722509</td>\n",
              "      <td>395</td>\n",
              "      <td>22.51</td>\n",
              "    </tr>\n",
              "    <tr>\n",
              "      <th>3</th>\n",
              "      <td>2020</td>\n",
              "      <td>March</td>\n",
              "      <td>Sukkerbiten</td>\n",
              "      <td>59.905807</td>\n",
              "      <td>10.753657</td>\n",
              "      <td>376</td>\n",
              "      <td>19.74</td>\n",
              "    </tr>\n",
              "    <tr>\n",
              "      <th>4</th>\n",
              "      <td>2020</td>\n",
              "      <td>March</td>\n",
              "      <td>Bislett Stadion</td>\n",
              "      <td>59.925471</td>\n",
              "      <td>10.731219</td>\n",
              "      <td>373</td>\n",
              "      <td>15.62</td>\n",
              "    </tr>\n",
              "  </tbody>\n",
              "</table>\n",
              "</div>"
            ],
            "text/plain": [
              "   year  month                       name  ...        lon  trips  mean_min\n",
              "0  2020  March               Ringnes Park  ...  10.759430    463     16.80\n",
              "1  2020  March  Alexander Kiellands Plass  ...  10.751203    452     14.31\n",
              "2  2020  March                 Tjuvholmen  ...  10.722509    395     22.51\n",
              "3  2020  March                Sukkerbiten  ...  10.753657    376     19.74\n",
              "4  2020  March            Bislett Stadion  ...  10.731219    373     15.62\n",
              "\n",
              "[5 rows x 7 columns]"
            ]
          },
          "metadata": {
            "tags": []
          },
          "execution_count": 84
        }
      ]
    },
    {
      "cell_type": "code",
      "metadata": {
        "id": "a4ckt9usVhtW"
      },
      "source": [
        "#Group by categories and aggregate both trips and mean value\n",
        "loc_df = loc_df.groupby(['year', 'month', 'name', 'lat', 'lon']).agg({'trips': 'sum',\n",
        "                                                                      'mean_min': 'mean'}\n",
        "                                                                     ).reset_index()"
      ],
      "execution_count": null,
      "outputs": []
    },
    {
      "cell_type": "code",
      "metadata": {
        "id": "1bUdmaScjnyz"
      },
      "source": [
        "#Sort values by year, month and trips\n",
        "loc_df = loc_df.sort_values(by=['year', 'month', 'trips'], ascending=False).reset_index(drop=True)"
      ],
      "execution_count": null,
      "outputs": []
    },
    {
      "cell_type": "code",
      "metadata": {
        "colab": {
          "base_uri": "https://localhost:8080/",
          "height": 343
        },
        "id": "CC2q1aFiVhtW",
        "outputId": "4e6ad927-a6b0-4d89-cdd9-1b57de44f059"
      },
      "source": [
        "loc_df.tail(10)"
      ],
      "execution_count": null,
      "outputs": [
        {
          "output_type": "execute_result",
          "data": {
            "text/html": [
              "<div>\n",
              "<style scoped>\n",
              "    .dataframe tbody tr th:only-of-type {\n",
              "        vertical-align: middle;\n",
              "    }\n",
              "\n",
              "    .dataframe tbody tr th {\n",
              "        vertical-align: top;\n",
              "    }\n",
              "\n",
              "    .dataframe thead th {\n",
              "        text-align: right;\n",
              "    }\n",
              "</style>\n",
              "<table border=\"1\" class=\"dataframe\">\n",
              "  <thead>\n",
              "    <tr style=\"text-align: right;\">\n",
              "      <th></th>\n",
              "      <th>year</th>\n",
              "      <th>month</th>\n",
              "      <th>name</th>\n",
              "      <th>lat</th>\n",
              "      <th>lon</th>\n",
              "      <th>trips</th>\n",
              "      <th>mean_min</th>\n",
              "    </tr>\n",
              "  </thead>\n",
              "  <tbody>\n",
              "    <tr>\n",
              "      <th>3764</th>\n",
              "      <td>2020</td>\n",
              "      <td>April</td>\n",
              "      <td>Georg Morgenstiernes hus</td>\n",
              "      <td>59.939026</td>\n",
              "      <td>10.723003</td>\n",
              "      <td>112</td>\n",
              "      <td>16.320</td>\n",
              "    </tr>\n",
              "    <tr>\n",
              "      <th>3765</th>\n",
              "      <td>2020</td>\n",
              "      <td>April</td>\n",
              "      <td>Kjeld Stubs gate</td>\n",
              "      <td>59.912711</td>\n",
              "      <td>10.735595</td>\n",
              "      <td>111</td>\n",
              "      <td>12.950</td>\n",
              "    </tr>\n",
              "    <tr>\n",
              "      <th>3766</th>\n",
              "      <td>2020</td>\n",
              "      <td>April</td>\n",
              "      <td>Fysikkbygningen</td>\n",
              "      <td>59.937957</td>\n",
              "      <td>10.719489</td>\n",
              "      <td>91</td>\n",
              "      <td>15.690</td>\n",
              "    </tr>\n",
              "    <tr>\n",
              "      <th>3767</th>\n",
              "      <td>2020</td>\n",
              "      <td>April</td>\n",
              "      <td>Stortingstunellen</td>\n",
              "      <td>59.910653</td>\n",
              "      <td>10.737365</td>\n",
              "      <td>89</td>\n",
              "      <td>22.980</td>\n",
              "    </tr>\n",
              "    <tr>\n",
              "      <th>3768</th>\n",
              "      <td>2020</td>\n",
              "      <td>April</td>\n",
              "      <td>Vippetangen øst</td>\n",
              "      <td>59.903989</td>\n",
              "      <td>10.741077</td>\n",
              "      <td>89</td>\n",
              "      <td>21.240</td>\n",
              "    </tr>\n",
              "    <tr>\n",
              "      <th>3769</th>\n",
              "      <td>2020</td>\n",
              "      <td>April</td>\n",
              "      <td>Tordenskiolds gate</td>\n",
              "      <td>59.911776</td>\n",
              "      <td>10.735113</td>\n",
              "      <td>88</td>\n",
              "      <td>15.610</td>\n",
              "    </tr>\n",
              "    <tr>\n",
              "      <th>3770</th>\n",
              "      <td>2020</td>\n",
              "      <td>April</td>\n",
              "      <td>Blindern studentparkering</td>\n",
              "      <td>59.940874</td>\n",
              "      <td>10.720779</td>\n",
              "      <td>70</td>\n",
              "      <td>17.860</td>\n",
              "    </tr>\n",
              "    <tr>\n",
              "      <th>3771</th>\n",
              "      <td>2020</td>\n",
              "      <td>April</td>\n",
              "      <td>Jarlsborgveien</td>\n",
              "      <td>59.930464</td>\n",
              "      <td>10.675783</td>\n",
              "      <td>66</td>\n",
              "      <td>20.200</td>\n",
              "    </tr>\n",
              "    <tr>\n",
              "      <th>3772</th>\n",
              "      <td>2020</td>\n",
              "      <td>April</td>\n",
              "      <td>HasleLinje</td>\n",
              "      <td>59.927634</td>\n",
              "      <td>10.799249</td>\n",
              "      <td>64</td>\n",
              "      <td>15.425</td>\n",
              "    </tr>\n",
              "    <tr>\n",
              "      <th>3773</th>\n",
              "      <td>2020</td>\n",
              "      <td>April</td>\n",
              "      <td>Bak Niels Treschows hus sør</td>\n",
              "      <td>59.942473</td>\n",
              "      <td>10.723715</td>\n",
              "      <td>45</td>\n",
              "      <td>14.200</td>\n",
              "    </tr>\n",
              "  </tbody>\n",
              "</table>\n",
              "</div>"
            ],
            "text/plain": [
              "      year  month                         name  ...        lon  trips  mean_min\n",
              "3764  2020  April     Georg Morgenstiernes hus  ...  10.723003    112    16.320\n",
              "3765  2020  April             Kjeld Stubs gate  ...  10.735595    111    12.950\n",
              "3766  2020  April              Fysikkbygningen  ...  10.719489     91    15.690\n",
              "3767  2020  April            Stortingstunellen  ...  10.737365     89    22.980\n",
              "3768  2020  April              Vippetangen øst  ...  10.741077     89    21.240\n",
              "3769  2020  April           Tordenskiolds gate  ...  10.735113     88    15.610\n",
              "3770  2020  April    Blindern studentparkering  ...  10.720779     70    17.860\n",
              "3771  2020  April               Jarlsborgveien  ...  10.675783     66    20.200\n",
              "3772  2020  April                   HasleLinje  ...  10.799249     64    15.425\n",
              "3773  2020  April  Bak Niels Treschows hus sør  ...  10.723715     45    14.200\n",
              "\n",
              "[10 rows x 7 columns]"
            ]
          },
          "metadata": {
            "tags": []
          },
          "execution_count": 88
        }
      ]
    },
    {
      "cell_type": "code",
      "metadata": {
        "colab": {
          "base_uri": "https://localhost:8080/",
          "height": 402
        },
        "id": "Y6vMhADpVhtY",
        "outputId": "18254f88-97a3-4679-f685-1157c3bf65c6"
      },
      "source": [
        "#Verifying slices of the dataframe to be in descending order\n",
        "loc_df[(loc_df['year']==2021) & (loc_df['month']=='April')]"
      ],
      "execution_count": null,
      "outputs": [
        {
          "output_type": "execute_result",
          "data": {
            "text/html": [
              "<div>\n",
              "<style scoped>\n",
              "    .dataframe tbody tr th:only-of-type {\n",
              "        vertical-align: middle;\n",
              "    }\n",
              "\n",
              "    .dataframe tbody tr th {\n",
              "        vertical-align: top;\n",
              "    }\n",
              "\n",
              "    .dataframe thead th {\n",
              "        text-align: right;\n",
              "    }\n",
              "</style>\n",
              "<table border=\"1\" class=\"dataframe\">\n",
              "  <thead>\n",
              "    <tr style=\"text-align: right;\">\n",
              "      <th></th>\n",
              "      <th>year</th>\n",
              "      <th>month</th>\n",
              "      <th>name</th>\n",
              "      <th>lat</th>\n",
              "      <th>lon</th>\n",
              "      <th>trips</th>\n",
              "      <th>mean_min</th>\n",
              "    </tr>\n",
              "  </thead>\n",
              "  <tbody>\n",
              "    <tr>\n",
              "      <th>1037</th>\n",
              "      <td>2021</td>\n",
              "      <td>April</td>\n",
              "      <td>Ringnes Park</td>\n",
              "      <td>59.928434</td>\n",
              "      <td>10.759430</td>\n",
              "      <td>1572</td>\n",
              "      <td>9.145</td>\n",
              "    </tr>\n",
              "    <tr>\n",
              "      <th>1038</th>\n",
              "      <td>2021</td>\n",
              "      <td>April</td>\n",
              "      <td>Alexander Kiellands Plass</td>\n",
              "      <td>59.928067</td>\n",
              "      <td>10.751203</td>\n",
              "      <td>1524</td>\n",
              "      <td>9.915</td>\n",
              "    </tr>\n",
              "    <tr>\n",
              "      <th>1039</th>\n",
              "      <td>2021</td>\n",
              "      <td>April</td>\n",
              "      <td>Majorstuen</td>\n",
              "      <td>59.929045</td>\n",
              "      <td>10.716926</td>\n",
              "      <td>1289</td>\n",
              "      <td>14.010</td>\n",
              "    </tr>\n",
              "    <tr>\n",
              "      <th>1040</th>\n",
              "      <td>2021</td>\n",
              "      <td>April</td>\n",
              "      <td>Bislettgata</td>\n",
              "      <td>59.923774</td>\n",
              "      <td>10.734713</td>\n",
              "      <td>1242</td>\n",
              "      <td>12.170</td>\n",
              "    </tr>\n",
              "    <tr>\n",
              "      <th>1041</th>\n",
              "      <td>2021</td>\n",
              "      <td>April</td>\n",
              "      <td>Rådhusbrygge 4</td>\n",
              "      <td>59.910847</td>\n",
              "      <td>10.730377</td>\n",
              "      <td>1189</td>\n",
              "      <td>17.590</td>\n",
              "    </tr>\n",
              "    <tr>\n",
              "      <th>...</th>\n",
              "      <td>...</td>\n",
              "      <td>...</td>\n",
              "      <td>...</td>\n",
              "      <td>...</td>\n",
              "      <td>...</td>\n",
              "      <td>...</td>\n",
              "      <td>...</td>\n",
              "    </tr>\n",
              "    <tr>\n",
              "      <th>1282</th>\n",
              "      <td>2021</td>\n",
              "      <td>April</td>\n",
              "      <td>Skøyen Stasjon</td>\n",
              "      <td>59.922724</td>\n",
              "      <td>10.678625</td>\n",
              "      <td>70</td>\n",
              "      <td>22.280</td>\n",
              "    </tr>\n",
              "    <tr>\n",
              "      <th>1283</th>\n",
              "      <td>2021</td>\n",
              "      <td>April</td>\n",
              "      <td>Stortingstunellen</td>\n",
              "      <td>59.910653</td>\n",
              "      <td>10.737365</td>\n",
              "      <td>69</td>\n",
              "      <td>19.510</td>\n",
              "    </tr>\n",
              "    <tr>\n",
              "      <th>1284</th>\n",
              "      <td>2021</td>\n",
              "      <td>April</td>\n",
              "      <td>Arkaden Sør</td>\n",
              "      <td>59.911969</td>\n",
              "      <td>10.747858</td>\n",
              "      <td>62</td>\n",
              "      <td>15.070</td>\n",
              "    </tr>\n",
              "    <tr>\n",
              "      <th>1285</th>\n",
              "      <td>2021</td>\n",
              "      <td>April</td>\n",
              "      <td>Salt</td>\n",
              "      <td>59.906922</td>\n",
              "      <td>10.746530</td>\n",
              "      <td>50</td>\n",
              "      <td>21.340</td>\n",
              "    </tr>\n",
              "    <tr>\n",
              "      <th>1286</th>\n",
              "      <td>2021</td>\n",
              "      <td>April</td>\n",
              "      <td>Kværnerveien</td>\n",
              "      <td>59.905911</td>\n",
              "      <td>10.778592</td>\n",
              "      <td>37</td>\n",
              "      <td>17.780</td>\n",
              "    </tr>\n",
              "  </tbody>\n",
              "</table>\n",
              "<p>250 rows × 7 columns</p>\n",
              "</div>"
            ],
            "text/plain": [
              "      year  month                       name  ...        lon  trips  mean_min\n",
              "1037  2021  April               Ringnes Park  ...  10.759430   1572     9.145\n",
              "1038  2021  April  Alexander Kiellands Plass  ...  10.751203   1524     9.915\n",
              "1039  2021  April                 Majorstuen  ...  10.716926   1289    14.010\n",
              "1040  2021  April                Bislettgata  ...  10.734713   1242    12.170\n",
              "1041  2021  April             Rådhusbrygge 4  ...  10.730377   1189    17.590\n",
              "...    ...    ...                        ...  ...        ...    ...       ...\n",
              "1282  2021  April             Skøyen Stasjon  ...  10.678625     70    22.280\n",
              "1283  2021  April          Stortingstunellen  ...  10.737365     69    19.510\n",
              "1284  2021  April                Arkaden Sør  ...  10.747858     62    15.070\n",
              "1285  2021  April                       Salt  ...  10.746530     50    21.340\n",
              "1286  2021  April               Kværnerveien  ...  10.778592     37    17.780\n",
              "\n",
              "[250 rows x 7 columns]"
            ]
          },
          "metadata": {
            "tags": []
          },
          "execution_count": 89
        }
      ]
    },
    {
      "cell_type": "code",
      "metadata": {
        "colab": {
          "base_uri": "https://localhost:8080/",
          "height": 17
        },
        "id": "UD2BiIDkVhta",
        "outputId": "af2ff1e3-34e5-4a5e-dd6b-5710f4b39003"
      },
      "source": [
        "#Exporting cleaned location data to csv into local disk\n",
        "from google.colab import files\n",
        "loc_df.to_csv('st_loc_cleaned.csv', index=False)\n",
        "files.download('st_loc_cleaned.csv')"
      ],
      "execution_count": null,
      "outputs": [
        {
          "output_type": "display_data",
          "data": {
            "application/javascript": [
              "\n",
              "    async function download(id, filename, size) {\n",
              "      if (!google.colab.kernel.accessAllowed) {\n",
              "        return;\n",
              "      }\n",
              "      const div = document.createElement('div');\n",
              "      const label = document.createElement('label');\n",
              "      label.textContent = `Downloading \"${filename}\": `;\n",
              "      div.appendChild(label);\n",
              "      const progress = document.createElement('progress');\n",
              "      progress.max = size;\n",
              "      div.appendChild(progress);\n",
              "      document.body.appendChild(div);\n",
              "\n",
              "      const buffers = [];\n",
              "      let downloaded = 0;\n",
              "\n",
              "      const channel = await google.colab.kernel.comms.open(id);\n",
              "      // Send a message to notify the kernel that we're ready.\n",
              "      channel.send({})\n",
              "\n",
              "      for await (const message of channel.messages) {\n",
              "        // Send a message to notify the kernel that we're ready.\n",
              "        channel.send({})\n",
              "        if (message.buffers) {\n",
              "          for (const buffer of message.buffers) {\n",
              "            buffers.push(buffer);\n",
              "            downloaded += buffer.byteLength;\n",
              "            progress.value = downloaded;\n",
              "          }\n",
              "        }\n",
              "      }\n",
              "      const blob = new Blob(buffers, {type: 'application/binary'});\n",
              "      const a = document.createElement('a');\n",
              "      a.href = window.URL.createObjectURL(blob);\n",
              "      a.download = filename;\n",
              "      div.appendChild(a);\n",
              "      a.click();\n",
              "      div.remove();\n",
              "    }\n",
              "  "
            ],
            "text/plain": [
              "<IPython.core.display.Javascript object>"
            ]
          },
          "metadata": {
            "tags": []
          }
        },
        {
          "output_type": "display_data",
          "data": {
            "application/javascript": [
              "download(\"download_a94ee0fe-db84-44d4-860b-3847037edbaf\", \"st_loc_merged-cleaned.csv\", 243749)"
            ],
            "text/plain": [
              "<IPython.core.display.Javascript object>"
            ]
          },
          "metadata": {
            "tags": []
          }
        }
      ]
    },
    {
      "cell_type": "markdown",
      "metadata": {
        "id": "lptmKKgKe7sD"
      },
      "source": [
        "##Data Visualization"
      ]
    },
    {
      "cell_type": "markdown",
      "metadata": {
        "id": "sXmSwrs_5ORx"
      },
      "source": [
        "###Customizing theme"
      ]
    },
    {
      "cell_type": "code",
      "metadata": {
        "id": "y2DvWRPa4qYJ"
      },
      "source": [
        "#Add interactivity to graphs\n",
        "import ipywidgets as widgets\n",
        "from IPython import display\n",
        "from ipywidgets import interact, interactive, fixed, interact_manual"
      ],
      "execution_count": 2,
      "outputs": []
    },
    {
      "cell_type": "code",
      "metadata": {
        "id": "5NdFYzOerU7e"
      },
      "source": [
        "#Uploading visualization packages\n",
        "import folium\n",
        "from folium import plugins\n",
        "from folium.plugins import HeatMap"
      ],
      "execution_count": 3,
      "outputs": []
    },
    {
      "cell_type": "code",
      "metadata": {
        "id": "u53MjFbC43NE"
      },
      "source": [
        "#Customizing Matplotlib's runtime default configuration styles for data visualization\n",
        "\n",
        "SMALL_SIZE = 11\n",
        "MEDIUM_SIZE = 15\n",
        "BIGGER_SIZE = 19\n",
        "\n",
        "plt.rc('font', size=SMALL_SIZE)          # controls default text sizes\n",
        "plt.rc('axes', titlesize=SMALL_SIZE)     # fontsize of the axes title\n",
        "plt.rc('axes', labelsize=MEDIUM_SIZE)     # fontsize of the x and y labels\n",
        "plt.rc('xtick', labelsize=SMALL_SIZE)    # fontsize of the tick labels\n",
        "plt.rc('ytick', labelsize=MEDIUM_SIZE)   # fontsize of the tick labels\n",
        "plt.rc('legend', fontsize=SMALL_SIZE)    # legend fontsize\n",
        "plt.rc('figure', titlesize=BIGGER_SIZE)  # fontsize of the figure title\n",
        "plt.rc('axes', titlesize=BIGGER_SIZE)    # fontsize of the axes title"
      ],
      "execution_count": 27,
      "outputs": []
    },
    {
      "cell_type": "code",
      "metadata": {
        "id": "RhXGUKgM4-bv"
      },
      "source": [
        "#Customizing theme\n",
        "#plt.style.use(['dark_background'])\n",
        "plt.rcParams['axes.facecolor'] = (0,0,0,0)\n",
        "plt.rcParams['figure.facecolor'] = '#ffffff' #To match google colab native dark theme\n",
        "plt.rcParams[\"legend.frameon\"] = False\n",
        "plt.rcParams['image.cmap'] = 'viridis'\n",
        "plt.rcParams[\"legend.facecolor\"] = (0,0,0,0)\n",
        "#plt.rcParams[\"font.family\"] = 'sans-serif'\n",
        "#plt.rcParams['font.sans-serif'] = ['Open Sans', 'Source Sans Pro', 'Noto Sans']\n",
        "plt.rcParams['hist.bins'] = 50\n",
        "plt.rcParams['lines.markersize'] = 10\n",
        "plt.rcParams['axes3d.grid'] = False\n",
        "\n",
        "#New settings\n",
        "plt.rcParams['figure.subplot.hspace'] = 0.3 #default = 0.2\n",
        "\n",
        "from cycler import cycler\n",
        "\n",
        "plt.rcParams['axes.prop_cycle'] = (cycler(color=['#98d2eb', '#e1f2fe', '#b2b1cf', '#77625c', '#49392c', '#bde2f5', '#cad2e7', '#958a96', '#604e44', '#5a4b3f',\n",
        "                                                 '#98d2eb', '#e1f2fe', '#b2b1cf', '#77625c', '#49392c', '#bde2f5', '#cad2e7', '#958a96', '#604e44', '#5a4b3f',\n",
        "                                                 '#98d2eb', '#e1f2fe', '#b2b1cf', '#77625c', '#49392c', '#bde2f5', '#cad2e7', '#958a96', '#604e44', '#5a4b3f'])\\\n",
        "                                   + cycler(linestyle=['-', '--', ':', '-.', '-', '--', ':', '-.', '-', '--',\n",
        "                                                       '-', '--', ':', '-.', '-', '--', ':', '-.', '-', '--',\n",
        "                                                       '-', '--', ':', '-.', '-', '--', ':', '-.', '-', '--']))"
      ],
      "execution_count": 6,
      "outputs": []
    },
    {
      "cell_type": "markdown",
      "metadata": {
        "id": "vbkkRr6AZ5BT"
      },
      "source": [
        "###Loading cleaned data "
      ]
    },
    {
      "cell_type": "code",
      "metadata": {
        "id": "uKgvRXsJj927"
      },
      "source": [
        "#Remove previous versions of the uploaded csv file\n",
        "!rm st_loc_cleaned.csv"
      ],
      "execution_count": null,
      "outputs": []
    },
    {
      "cell_type": "code",
      "metadata": {
        "id": "KkzDzxiJe9X6",
        "colab": {
          "resources": {
            "http://localhost:8080/nbextensions/google.colab/files.js": {
              "data": "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",
              "ok": true,
              "headers": [
                [
                  "content-type",
                  "application/javascript"
                ]
              ],
              "status": 200,
              "status_text": ""
            }
          },
          "base_uri": "https://localhost:8080/",
          "height": 73
        },
        "outputId": "8bdfa4de-25dc-459f-ee7d-49298ee3f796"
      },
      "source": [
        "#Uploading cleaned location data (starting point) from local drive\n",
        "from google.colab import files\n",
        "uploaded3 = files.upload()"
      ],
      "execution_count": 7,
      "outputs": [
        {
          "output_type": "display_data",
          "data": {
            "text/html": [
              "\n",
              "     <input type=\"file\" id=\"files-af9f99b6-31df-4f5b-82e5-8cc88a971301\" name=\"files[]\" multiple disabled\n",
              "        style=\"border:none\" />\n",
              "     <output id=\"result-af9f99b6-31df-4f5b-82e5-8cc88a971301\">\n",
              "      Upload widget is only available when the cell has been executed in the\n",
              "      current browser session. Please rerun this cell to enable.\n",
              "      </output>\n",
              "      <script src=\"/nbextensions/google.colab/files.js\"></script> "
            ],
            "text/plain": [
              "<IPython.core.display.HTML object>"
            ]
          },
          "metadata": {
            "tags": []
          }
        },
        {
          "output_type": "stream",
          "text": [
            "Saving st_loc_cleaned.csv to st_loc_cleaned.csv\n"
          ],
          "name": "stdout"
        }
      ]
    },
    {
      "cell_type": "code",
      "metadata": {
        "id": "mIvQV39ffNan"
      },
      "source": [
        "#Reading cleaned location data (starting point) and storing into a Pandas Dataframe\n",
        "import io\n",
        "st_loc_clean = pd.read_csv(io.BytesIO(uploaded3['st_loc_cleaned.csv']))"
      ],
      "execution_count": 8,
      "outputs": []
    },
    {
      "cell_type": "code",
      "metadata": {
        "colab": {
          "resources": {
            "http://localhost:8080/nbextensions/google.colab/files.js": {
              "data": "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",
              "ok": true,
              "headers": [
                [
                  "content-type",
                  "application/javascript"
                ]
              ],
              "status": 200,
              "status_text": ""
            }
          },
          "base_uri": "https://localhost:8080/",
          "height": 73
        },
        "id": "1YDvjpOEarpd",
        "outputId": "df1cb4fd-bf46-4cbd-bba6-026ee19563de"
      },
      "source": [
        "#Uploading cleaned hours of day data (starting point) from local drive\n",
        "from google.colab import files\n",
        "uploaded4 = files.upload()"
      ],
      "execution_count": 9,
      "outputs": [
        {
          "output_type": "display_data",
          "data": {
            "text/html": [
              "\n",
              "     <input type=\"file\" id=\"files-4e1a57fe-a335-4ef4-9bd5-8b9903959470\" name=\"files[]\" multiple disabled\n",
              "        style=\"border:none\" />\n",
              "     <output id=\"result-4e1a57fe-a335-4ef4-9bd5-8b9903959470\">\n",
              "      Upload widget is only available when the cell has been executed in the\n",
              "      current browser session. Please rerun this cell to enable.\n",
              "      </output>\n",
              "      <script src=\"/nbextensions/google.colab/files.js\"></script> "
            ],
            "text/plain": [
              "<IPython.core.display.HTML object>"
            ]
          },
          "metadata": {
            "tags": []
          }
        },
        {
          "output_type": "stream",
          "text": [
            "Saving st_hr_cleaned.csv to st_hr_cleaned.csv\n"
          ],
          "name": "stdout"
        }
      ]
    },
    {
      "cell_type": "code",
      "metadata": {
        "id": "_-02634Ga8Wx"
      },
      "source": [
        "#Reading cleaned hours of day data (starting point) and storing into a Pandas Dataframe\n",
        "st_hr_clean = pd.read_csv(io.BytesIO(uploaded4['st_hr_cleaned.csv']))"
      ],
      "execution_count": 10,
      "outputs": []
    },
    {
      "cell_type": "code",
      "metadata": {
        "colab": {
          "resources": {
            "http://localhost:8080/nbextensions/google.colab/files.js": {
              "data": "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",
              "ok": true,
              "headers": [
                [
                  "content-type",
                  "application/javascript"
                ]
              ],
              "status": 200,
              "status_text": ""
            }
          },
          "base_uri": "https://localhost:8080/",
          "height": 73
        },
        "id": "p_BS3Unweo1J",
        "outputId": "36557c43-aa30-42e5-b733-719c7fbeeec4"
      },
      "source": [
        "#Uploading cleaned location data (end point) from local drive\n",
        "from google.colab import files\n",
        "uploaded5 = files.upload()"
      ],
      "execution_count": 11,
      "outputs": [
        {
          "output_type": "display_data",
          "data": {
            "text/html": [
              "\n",
              "     <input type=\"file\" id=\"files-89a59a36-d868-4767-b78f-b5c881de1519\" name=\"files[]\" multiple disabled\n",
              "        style=\"border:none\" />\n",
              "     <output id=\"result-89a59a36-d868-4767-b78f-b5c881de1519\">\n",
              "      Upload widget is only available when the cell has been executed in the\n",
              "      current browser session. Please rerun this cell to enable.\n",
              "      </output>\n",
              "      <script src=\"/nbextensions/google.colab/files.js\"></script> "
            ],
            "text/plain": [
              "<IPython.core.display.HTML object>"
            ]
          },
          "metadata": {
            "tags": []
          }
        },
        {
          "output_type": "stream",
          "text": [
            "Saving en_loc_cleaned.csv to en_loc_cleaned.csv\n"
          ],
          "name": "stdout"
        }
      ]
    },
    {
      "cell_type": "code",
      "metadata": {
        "id": "REjm6AhEfCPH"
      },
      "source": [
        "#Reading cleaned location data (end point) and storing into a Pandas Dataframe\n",
        "en_loc_clean = pd.read_csv(io.BytesIO(uploaded5['en_loc_cleaned.csv']))"
      ],
      "execution_count": 12,
      "outputs": []
    },
    {
      "cell_type": "code",
      "metadata": {
        "colab": {
          "resources": {
            "http://localhost:8080/nbextensions/google.colab/files.js": {
              "data": "Ly8gQ29weXJpZ2h0IDIwMTcgR29vZ2xlIExMQwovLwovLyBMaWNlbnNlZCB1bmRlciB0aGUgQXBhY2hlIExpY2Vuc2UsIFZlcnNpb24gMi4wICh0aGUgIkxpY2Vuc2UiKTsKLy8geW91IG1heSBub3QgdXNlIHRoaXMgZmlsZSBleGNlcHQgaW4gY29tcGxpYW5jZSB3aXRoIHRoZSBMaWNlbnNlLgovLyBZb3UgbWF5IG9idGFpbiBhIGNvcHkgb2YgdGhlIExpY2Vuc2UgYXQKLy8KLy8gICAgICBodHRwOi8vd3d3LmFwYWNoZS5vcmcvbGljZW5zZXMvTElDRU5TRS0yLjAKLy8KLy8gVW5sZXNzIHJlcXVpcmVkIGJ5IGFwcGxpY2FibGUgbGF3IG9yIGFncmVlZCB0byBpbiB3cml0aW5nLCBzb2Z0d2FyZQovLyBkaXN0cmlidXRlZCB1bmRlciB0aGUgTGljZW5zZSBpcyBkaXN0cmlidXRlZCBvbiBhbiAiQVMgSVMiIEJBU0lTLAovLyBXSVRIT1VUIFdBUlJBTlRJRVMgT1IgQ09ORElUSU9OUyBPRiBBTlkgS0lORCwgZWl0aGVyIGV4cHJlc3Mgb3IgaW1wbGllZC4KLy8gU2VlIHRoZSBMaWNlbnNlIGZvciB0aGUgc3BlY2lmaWMgbGFuZ3VhZ2UgZ292ZXJuaW5nIHBlcm1pc3Npb25zIGFuZAovLyBsaW1pdGF0aW9ucyB1bmRlciB0aGUgTGljZW5zZS4KCi8qKgogKiBAZmlsZW92ZXJ2aWV3IEhlbHBlcnMgZm9yIGdvb2dsZS5jb2xhYiBQeXRob24gbW9kdWxlLgogKi8KKGZ1bmN0aW9uKHNjb3BlKSB7CmZ1bmN0aW9uIHNwYW4odGV4dCwgc3R5bGVBdHRyaWJ1dGVzID0ge30pIHsKICBjb25zdCBlbGVtZW50ID0gZG9jdW1lbnQuY3JlYXRlRWxlbWVudCgnc3BhbicpOwogIGVsZW1lbnQudGV4dENvbnRlbnQgPSB0ZXh0OwogIGZvciAoY29uc3Qga2V5IG9mIE9iamVjdC5rZXlzKHN0eWxlQXR0cmlidXRlcykpIHsKICAgIGVsZW1lbnQuc3R5bGVba2V5XSA9IHN0eWxlQXR0cmlidXRlc1trZXldOwogIH0KICByZXR1cm4gZWxlbWVudDsKfQoKLy8gTWF4IG51bWJlciBvZiBieXRlcyB3aGljaCB3aWxsIGJlIHVwbG9hZGVkIGF0IGEgdGltZS4KY29uc3QgTUFYX1BBWUxPQURfU0laRSA9IDEwMCAqIDEwMjQ7CgpmdW5jdGlvbiBfdXBsb2FkRmlsZXMoaW5wdXRJZCwgb3V0cHV0SWQpIHsKICBjb25zdCBzdGVwcyA9IHVwbG9hZEZpbGVzU3RlcChpbnB1dElkLCBvdXRwdXRJZCk7CiAgY29uc3Qgb3V0cHV0RWxlbWVudCA9IGRvY3VtZW50LmdldEVsZW1lbnRCeUlkKG91dHB1dElkKTsKICAvLyBDYWNoZSBzdGVwcyBvbiB0aGUgb3V0cHV0RWxlbWVudCB0byBtYWtlIGl0IGF2YWlsYWJsZSBmb3IgdGhlIG5leHQgY2FsbAogIC8vIHRvIHVwbG9hZEZpbGVzQ29udGludWUgZnJvbSBQeXRob24uCiAgb3V0cHV0RWxlbWVudC5zdGVwcyA9IHN0ZXBzOwoKICByZXR1cm4gX3VwbG9hZEZpbGVzQ29udGludWUob3V0cHV0SWQpOwp9CgovLyBUaGlzIGlzIHJvdWdobHkgYW4gYXN5bmMgZ2VuZXJhdG9yIChub3Qgc3VwcG9ydGVkIGluIHRoZSBicm93c2VyIHlldCksCi8vIHdoZXJlIHRoZXJlIGFyZSBtdWx0aXBsZSBhc3luY2hyb25vdXMgc3RlcHMgYW5kIHRoZSBQeXRob24gc2lkZSBpcyBnb2luZwovLyB0byBwb2xsIGZvciBjb21wbGV0aW9uIG9mIGVhY2ggc3RlcC4KLy8gVGhpcyB1c2VzIGEgUHJvbWlzZSB0byBibG9jayB0aGUgcHl0aG9uIHNpZGUgb24gY29tcGxldGlvbiBvZiBlYWNoIHN0ZXAsCi8vIHRoZW4gcGFzc2VzIHRoZSByZXN1bHQgb2YgdGhlIHByZXZpb3VzIHN0ZXAgYXMgdGhlIGlucHV0IHRvIHRoZSBuZXh0IHN0ZXAuCmZ1bmN0aW9uIF91cGxvYWRGaWxlc0NvbnRpbnVlKG91dHB1dElkKSB7CiAgY29uc3Qgb3V0cHV0RWxlbWVudCA9IGRvY3VtZW50LmdldEVsZW1lbnRCeUlkKG91dHB1dElkKTsKICBjb25zdCBzdGVwcyA9IG91dHB1dEVsZW1lbnQuc3RlcHM7CgogIGNvbnN0IG5leHQgPSBzdGVwcy5uZXh0KG91dHB1dEVsZW1lbnQubGFzdFByb21pc2VWYWx1ZSk7CiAgcmV0dXJuIFByb21pc2UucmVzb2x2ZShuZXh0LnZhbHVlLnByb21pc2UpLnRoZW4oKHZhbHVlKSA9PiB7CiAgICAvLyBDYWNoZSB0aGUgbGFzdCBwcm9taXNlIHZhbHVlIHRvIG1ha2UgaXQgYXZhaWxhYmxlIHRvIHRoZSBuZXh0CiAgICAvLyBzdGVwIG9mIHRoZSBnZW5lcmF0b3IuCiAgICBvdXRwdXRFbGVtZW50Lmxhc3RQcm9taXNlVmFsdWUgPSB2YWx1ZTsKICAgIHJldHVybiBuZXh0LnZhbHVlLnJlc3BvbnNlOwogIH0pOwp9CgovKioKICogR2VuZXJhdG9yIGZ1bmN0aW9uIHdoaWNoIGlzIGNhbGxlZCBiZXR3ZWVuIGVhY2ggYXN5bmMgc3RlcCBvZiB0aGUgdXBsb2FkCiAqIHByb2Nlc3MuCiAqIEBwYXJhbSB7c3RyaW5nfSBpbnB1dElkIEVsZW1lbnQgSUQgb2YgdGhlIGlucHV0IGZpbGUgcGlja2VyIGVsZW1lbnQuCiAqIEBwYXJhbSB7c3RyaW5nfSBvdXRwdXRJZCBFbGVtZW50IElEIG9mIHRoZSBvdXRwdXQgZGlzcGxheS4KICogQHJldHVybiB7IUl0ZXJhYmxlPCFPYmplY3Q+fSBJdGVyYWJsZSBvZiBuZXh0IHN0ZXBzLgogKi8KZnVuY3Rpb24qIHVwbG9hZEZpbGVzU3RlcChpbnB1dElkLCBvdXRwdXRJZCkgewogIGNvbnN0IGlucHV0RWxlbWVudCA9IGRvY3VtZW50LmdldEVsZW1lbnRCeUlkKGlucHV0SWQpOwogIGlucHV0RWxlbWVudC5kaXNhYmxlZCA9IGZhbHNlOwoKICBjb25zdCBvdXRwdXRFbGVtZW50ID0gZG9jdW1lbnQuZ2V0RWxlbWVudEJ5SWQob3V0cHV0SWQpOwogIG91dHB1dEVsZW1lbnQuaW5uZXJIVE1MID0gJyc7CgogIGNvbnN0IHBpY2tlZFByb21pc2UgPSBuZXcgUHJvbWlzZSgocmVzb2x2ZSkgPT4gewogICAgaW5wdXRFbGVtZW50LmFkZEV2ZW50TGlzdGVuZXIoJ2NoYW5nZScsIChlKSA9PiB7CiAgICAgIHJlc29sdmUoZS50YXJnZXQuZmlsZXMpOwogICAgfSk7CiAgfSk7CgogIGNvbnN0IGNhbmNlbCA9IGRvY3VtZW50LmNyZWF0ZUVsZW1lbnQoJ2J1dHRvbicpOwogIGlucHV0RWxlbWVudC5wYXJlbnRFbGVtZW50LmFwcGVuZENoaWxkKGNhbmNlbCk7CiAgY2FuY2VsLnRleHRDb250ZW50ID0gJ0NhbmNlbCB1cGxvYWQnOwogIGNvbnN0IGNhbmNlbFByb21pc2UgPSBuZXcgUHJvbWlzZSgocmVzb2x2ZSkgPT4gewogICAgY2FuY2VsLm9uY2xpY2sgPSAoKSA9PiB7CiAgICAgIHJlc29sdmUobnVsbCk7CiAgICB9OwogIH0pOwoKICAvLyBXYWl0IGZvciB0aGUgdXNlciB0byBwaWNrIHRoZSBmaWxlcy4KICBjb25zdCBmaWxlcyA9IHlpZWxkIHsKICAgIHByb21pc2U6IFByb21pc2UucmFjZShbcGlja2VkUHJvbWlzZSwgY2FuY2VsUHJvbWlzZV0pLAogICAgcmVzcG9uc2U6IHsKICAgICAgYWN0aW9uOiAnc3RhcnRpbmcnLAogICAgfQogIH07CgogIGNhbmNlbC5yZW1vdmUoKTsKCiAgLy8gRGlzYWJsZSB0aGUgaW5wdXQgZWxlbWVudCBzaW5jZSBmdXJ0aGVyIHBpY2tzIGFyZSBub3QgYWxsb3dlZC4KICBpbnB1dEVsZW1lbnQuZGlzYWJsZWQgPSB0cnVlOwoKICBpZiAoIWZpbGVzKSB7CiAgICByZXR1cm4gewogICAgICByZXNwb25zZTogewogICAgICAgIGFjdGlvbjogJ2NvbXBsZXRlJywKICAgICAgfQogICAgfTsKICB9CgogIGZvciAoY29uc3QgZmlsZSBvZiBmaWxlcykgewogICAgY29uc3QgbGkgPSBkb2N1bWVudC5jcmVhdGVFbGVtZW50KCdsaScpOwogICAgbGkuYXBwZW5kKHNwYW4oZmlsZS5uYW1lLCB7Zm9udFdlaWdodDogJ2JvbGQnfSkpOwogICAgbGkuYXBwZW5kKHNwYW4oCiAgICAgICAgYCgke2ZpbGUudHlwZSB8fCAnbi9hJ30pIC0gJHtmaWxlLnNpemV9IGJ5dGVzLCBgICsKICAgICAgICBgbGFzdCBtb2RpZmllZDogJHsKICAgICAgICAgICAgZmlsZS5sYXN0TW9kaWZpZWREYXRlID8gZmlsZS5sYXN0TW9kaWZpZWREYXRlLnRvTG9jYWxlRGF0ZVN0cmluZygpIDoKICAgICAgICAgICAgICAgICAgICAgICAgICAgICAgICAgICAgJ24vYSd9IC0gYCkpOwogICAgY29uc3QgcGVyY2VudCA9IHNwYW4oJzAlIGRvbmUnKTsKICAgIGxpLmFwcGVuZENoaWxkKHBlcmNlbnQpOwoKICAgIG91dHB1dEVsZW1lbnQuYXBwZW5kQ2hpbGQobGkpOwoKICAgIGNvbnN0IGZpbGVEYXRhUHJvbWlzZSA9IG5ldyBQcm9taXNlKChyZXNvbHZlKSA9PiB7CiAgICAgIGNvbnN0IHJlYWRlciA9IG5ldyBGaWxlUmVhZGVyKCk7CiAgICAgIHJlYWRlci5vbmxvYWQgPSAoZSkgPT4gewogICAgICAgIHJlc29sdmUoZS50YXJnZXQucmVzdWx0KTsKICAgICAgfTsKICAgICAgcmVhZGVyLnJlYWRBc0FycmF5QnVmZmVyKGZpbGUpOwogICAgfSk7CiAgICAvLyBXYWl0IGZvciB0aGUgZGF0YSB0byBiZSByZWFkeS4KICAgIGxldCBmaWxlRGF0YSA9IHlpZWxkIHsKICAgICAgcHJvbWlzZTogZmlsZURhdGFQcm9taXNlLAogICAgICByZXNwb25zZTogewogICAgICAgIGFjdGlvbjogJ2NvbnRpbnVlJywKICAgICAgfQogICAgfTsKCiAgICAvLyBVc2UgYSBjaHVua2VkIHNlbmRpbmcgdG8gYXZvaWQgbWVzc2FnZSBzaXplIGxpbWl0cy4gU2VlIGIvNjIxMTU2NjAuCiAgICBsZXQgcG9zaXRpb24gPSAwOwogICAgZG8gewogICAgICBjb25zdCBsZW5ndGggPSBNYXRoLm1pbihmaWxlRGF0YS5ieXRlTGVuZ3RoIC0gcG9zaXRpb24sIE1BWF9QQVlMT0FEX1NJWkUpOwogICAgICBjb25zdCBjaHVuayA9IG5ldyBVaW50OEFycmF5KGZpbGVEYXRhLCBwb3NpdGlvbiwgbGVuZ3RoKTsKICAgICAgcG9zaXRpb24gKz0gbGVuZ3RoOwoKICAgICAgY29uc3QgYmFzZTY0ID0gYnRvYShTdHJpbmcuZnJvbUNoYXJDb2RlLmFwcGx5KG51bGwsIGNodW5rKSk7CiAgICAgIHlpZWxkIHsKICAgICAgICByZXNwb25zZTogewogICAgICAgICAgYWN0aW9uOiAnYXBwZW5kJywKICAgICAgICAgIGZpbGU6IGZpbGUubmFtZSwKICAgICAgICAgIGRhdGE6IGJhc2U2NCwKICAgICAgICB9LAogICAgICB9OwoKICAgICAgbGV0IHBlcmNlbnREb25lID0gZmlsZURhdGEuYnl0ZUxlbmd0aCA9PT0gMCA/CiAgICAgICAgICAxMDAgOgogICAgICAgICAgTWF0aC5yb3VuZCgocG9zaXRpb24gLyBmaWxlRGF0YS5ieXRlTGVuZ3RoKSAqIDEwMCk7CiAgICAgIHBlcmNlbnQudGV4dENvbnRlbnQgPSBgJHtwZXJjZW50RG9uZX0lIGRvbmVgOwoKICAgIH0gd2hpbGUgKHBvc2l0aW9uIDwgZmlsZURhdGEuYnl0ZUxlbmd0aCk7CiAgfQoKICAvLyBBbGwgZG9uZS4KICB5aWVsZCB7CiAgICByZXNwb25zZTogewogICAgICBhY3Rpb246ICdjb21wbGV0ZScsCiAgICB9CiAgfTsKfQoKc2NvcGUuZ29vZ2xlID0gc2NvcGUuZ29vZ2xlIHx8IHt9OwpzY29wZS5nb29nbGUuY29sYWIgPSBzY29wZS5nb29nbGUuY29sYWIgfHwge307CnNjb3BlLmdvb2dsZS5jb2xhYi5fZmlsZXMgPSB7CiAgX3VwbG9hZEZpbGVzLAogIF91cGxvYWRGaWxlc0NvbnRpbnVlLAp9Owp9KShzZWxmKTsK",
              "ok": true,
              "headers": [
                [
                  "content-type",
                  "application/javascript"
                ]
              ],
              "status": 200,
              "status_text": ""
            }
          },
          "base_uri": "https://localhost:8080/",
          "height": 73
        },
        "id": "URP0rqayfNYG",
        "outputId": "7f429a96-e1ff-4a0f-fb7e-82693911a09e"
      },
      "source": [
        "#Uploading cleaned hours of day data (end point) from local drive\n",
        "from google.colab import files\n",
        "uploaded6 = files.upload()"
      ],
      "execution_count": 13,
      "outputs": [
        {
          "output_type": "display_data",
          "data": {
            "text/html": [
              "\n",
              "     <input type=\"file\" id=\"files-8068ace9-8633-4efe-bde9-c7e3b56bab0f\" name=\"files[]\" multiple disabled\n",
              "        style=\"border:none\" />\n",
              "     <output id=\"result-8068ace9-8633-4efe-bde9-c7e3b56bab0f\">\n",
              "      Upload widget is only available when the cell has been executed in the\n",
              "      current browser session. Please rerun this cell to enable.\n",
              "      </output>\n",
              "      <script src=\"/nbextensions/google.colab/files.js\"></script> "
            ],
            "text/plain": [
              "<IPython.core.display.HTML object>"
            ]
          },
          "metadata": {
            "tags": []
          }
        },
        {
          "output_type": "stream",
          "text": [
            "Saving en_hr_cleaned.csv to en_hr_cleaned.csv\n"
          ],
          "name": "stdout"
        }
      ]
    },
    {
      "cell_type": "code",
      "metadata": {
        "id": "1jGQ_tBefNk5"
      },
      "source": [
        "#Reading cleaned hours of day data (end point) and storing into a Pandas Dataframe\n",
        "en_hr_clean = pd.read_csv(io.BytesIO(uploaded6['en_hr_cleaned.csv']))"
      ],
      "execution_count": 14,
      "outputs": []
    },
    {
      "cell_type": "markdown",
      "metadata": {
        "id": "Gcxu3vFN5Y_x"
      },
      "source": [
        "###Preparing location data for visualization"
      ]
    },
    {
      "cell_type": "code",
      "metadata": {
        "colab": {
          "base_uri": "https://localhost:8080/",
          "height": 203
        },
        "id": "XUdcQ2X5fzFc",
        "outputId": "e8f46da0-0149-4cf4-d48b-c3aecb6ece01"
      },
      "source": [
        "st_loc_clean.tail()"
      ],
      "execution_count": 15,
      "outputs": [
        {
          "output_type": "execute_result",
          "data": {
            "text/html": [
              "<div>\n",
              "<style scoped>\n",
              "    .dataframe tbody tr th:only-of-type {\n",
              "        vertical-align: middle;\n",
              "    }\n",
              "\n",
              "    .dataframe tbody tr th {\n",
              "        vertical-align: top;\n",
              "    }\n",
              "\n",
              "    .dataframe thead th {\n",
              "        text-align: right;\n",
              "    }\n",
              "</style>\n",
              "<table border=\"1\" class=\"dataframe\">\n",
              "  <thead>\n",
              "    <tr style=\"text-align: right;\">\n",
              "      <th></th>\n",
              "      <th>year</th>\n",
              "      <th>month</th>\n",
              "      <th>name</th>\n",
              "      <th>lat</th>\n",
              "      <th>lon</th>\n",
              "      <th>trips</th>\n",
              "      <th>mean_min</th>\n",
              "    </tr>\n",
              "  </thead>\n",
              "  <tbody>\n",
              "    <tr>\n",
              "      <th>3769</th>\n",
              "      <td>2020</td>\n",
              "      <td>April</td>\n",
              "      <td>Tordenskiolds gate</td>\n",
              "      <td>59.911776</td>\n",
              "      <td>10.735113</td>\n",
              "      <td>88</td>\n",
              "      <td>15.610</td>\n",
              "    </tr>\n",
              "    <tr>\n",
              "      <th>3770</th>\n",
              "      <td>2020</td>\n",
              "      <td>April</td>\n",
              "      <td>Blindern studentparkering</td>\n",
              "      <td>59.940874</td>\n",
              "      <td>10.720779</td>\n",
              "      <td>70</td>\n",
              "      <td>17.860</td>\n",
              "    </tr>\n",
              "    <tr>\n",
              "      <th>3771</th>\n",
              "      <td>2020</td>\n",
              "      <td>April</td>\n",
              "      <td>Jarlsborgveien</td>\n",
              "      <td>59.930464</td>\n",
              "      <td>10.675783</td>\n",
              "      <td>66</td>\n",
              "      <td>20.200</td>\n",
              "    </tr>\n",
              "    <tr>\n",
              "      <th>3772</th>\n",
              "      <td>2020</td>\n",
              "      <td>April</td>\n",
              "      <td>HasleLinje</td>\n",
              "      <td>59.927634</td>\n",
              "      <td>10.799249</td>\n",
              "      <td>64</td>\n",
              "      <td>15.425</td>\n",
              "    </tr>\n",
              "    <tr>\n",
              "      <th>3773</th>\n",
              "      <td>2020</td>\n",
              "      <td>April</td>\n",
              "      <td>Bak Niels Treschows hus sør</td>\n",
              "      <td>59.942473</td>\n",
              "      <td>10.723715</td>\n",
              "      <td>45</td>\n",
              "      <td>14.200</td>\n",
              "    </tr>\n",
              "  </tbody>\n",
              "</table>\n",
              "</div>"
            ],
            "text/plain": [
              "      year  month                         name  ...        lon  trips  mean_min\n",
              "3769  2020  April           Tordenskiolds gate  ...  10.735113     88    15.610\n",
              "3770  2020  April    Blindern studentparkering  ...  10.720779     70    17.860\n",
              "3771  2020  April               Jarlsborgveien  ...  10.675783     66    20.200\n",
              "3772  2020  April                   HasleLinje  ...  10.799249     64    15.425\n",
              "3773  2020  April  Bak Niels Treschows hus sør  ...  10.723715     45    14.200\n",
              "\n",
              "[5 rows x 7 columns]"
            ]
          },
          "metadata": {
            "tags": []
          },
          "execution_count": 15
        }
      ]
    },
    {
      "cell_type": "code",
      "metadata": {
        "id": "8uqxm4pesuFf"
      },
      "source": [
        "#Creating a function to generate a basemap\n",
        "def generate_basemap(default_loc=[59.92,10.75], default_zoom=13):\n",
        "    bmap = folium.Map(location=default_loc, zoom_start=default_zoom)\n",
        "    return bmap"
      ],
      "execution_count": 16,
      "outputs": []
    },
    {
      "cell_type": "code",
      "metadata": {
        "id": "A_7xm-SFg4De"
      },
      "source": [
        "def plot_basemap(year, month, cat, st_num):\n",
        "  \"\"\"Plot basemap according to year, month, category and station numbers\"\"\"\n",
        "\n",
        "  #Slice the corresponding dataframe depending on the selected category\n",
        "  if cat == 'Start':\n",
        "    hm_df = st_loc_clean[(st_loc_clean['year']==year) & (st_loc_clean['month']==month)].copy()\n",
        "    hm_df = hm_df.drop(columns=['year', 'month', 'name', 'mean_min'])\n",
        "  else:\n",
        "    hm_df = en_loc_clean[(en_loc_clean['year']==year) & (en_loc_clean['month']==month)].copy()\n",
        "    hm_df = hm_df.drop(columns=['year', 'month', 'name', 'mean_min'])\n",
        "\n",
        "  #Create a function to convert lat, lon, and weight to list. Folium does not take DataFrames\n",
        "  def convert_to_list(df):\n",
        "    \"\"\"Convert dataframe to list of lat, lon and weight\"\"\"\n",
        "    lat = df['lat'].to_numpy(dtype=float)\n",
        "    lon = df['lon'].to_numpy(dtype=float)\n",
        "    weight = df['trips'].to_numpy(dtype=float)\n",
        "    return [[l, g, w] for l, g, w in zip(lat, lon, weight)]\n",
        "\n",
        "  #Convert lat, long and weight to lists of list\n",
        "  heat_data = convert_to_list(hm_df)\n",
        "\n",
        "  #Generate a basemap\n",
        "  basemap = generate_basemap()\n",
        "\n",
        "  #Create a HeatMap with lat, lon and number of trips\n",
        "  HeatMap(heat_data[:st_num]).add_to(basemap)\n",
        "\n",
        "  #Plot the basemap\n",
        "  return basemap"
      ],
      "execution_count": 17,
      "outputs": []
    },
    {
      "cell_type": "code",
      "metadata": {
        "id": "ldTE0dt6lWSS"
      },
      "source": [
        "#Generating widgets options for HeatMap\n",
        "yr = [2020, 2021]\n",
        "month = ['January', 'February', 'March', 'April', 'May', 'June', 'July', 'August', 'September', 'October', 'November', 'December']\n",
        "category = ['Start', 'Destination']\n",
        "num = [i for i in range(5, 251, 5)]"
      ],
      "execution_count": 18,
      "outputs": []
    },
    {
      "cell_type": "markdown",
      "metadata": {
        "id": "mw77R1OZqoni"
      },
      "source": [
        "###Visualizing Location Data"
      ]
    },
    {
      "cell_type": "code",
      "metadata": {
        "colab": {
          "base_uri": "https://localhost:8080/",
          "height": 994,
          "referenced_widgets": [
            "e4e27d08488241979aa306b8b2ff515c",
            "36b7471bb049429e8f0a7033739ead15",
            "faead8fa814540f888b945b8ac71fefc",
            "0f8428f5d96c47f5a52debc01f634cc9",
            "51c8c26332e0426c94d54a9fd4e85fd2",
            "94d932ba3b414bfabf8b04561eb190c1",
            "75c0be47ca394f2fb42bdbc814a001cc",
            "c6b5a30569ec4fc39cde5caee1d1fd41",
            "2e954e597f694db28cf663995a7f7f79",
            "1bda658b4962410cb600b8102e47dfde",
            "ddc0969ccf0549e0a71ef1994411c90c",
            "da441ddeb20c4cbfab1651d6be9e1129",
            "5d246d01791743f59d91622536d4af37",
            "4789ad256c454d3bba42e2e77f08563f",
            "3ac84306cdcf4d96b0a7481c2899c85c",
            "96b8207607f64516ac5a688659581c60"
          ]
        },
        "id": "rXEmbaCdg4OK",
        "outputId": "f0b794d4-7389-4960-f132-13ea19bdbdac"
      },
      "source": [
        "#Plotting interactive HeatMap for Bysykkel data\n",
        "interact(plot_basemap,\n",
        "         year=widgets.Dropdown(options=yr, value=yr[0], description='Year', disabled=False),\n",
        "         month=widgets.Dropdown(options=month, value=month[2], description='Month', disabled=False),\n",
        "         cat=widgets.Dropdown(options=category, value=category[0], description='Category', disabled=False),\n",
        "         st_num=widgets.Dropdown(options=num, value=num[3], description='Stations', disabled=False))\n",
        "plt.show()"
      ],
      "execution_count": 20,
      "outputs": [
        {
          "output_type": "display_data",
          "data": {
            "application/vnd.jupyter.widget-view+json": {
              "model_id": "e4e27d08488241979aa306b8b2ff515c",
              "version_minor": 0,
              "version_major": 2
            },
            "text/plain": [
              "interactive(children=(Dropdown(description='Year', options=(2020, 2021), value=2020), Dropdown(description='Mo…"
            ]
          },
          "metadata": {
            "tags": []
          }
        }
      ]
    },
    {
      "cell_type": "markdown",
      "metadata": {
        "id": "EQ96RybtclrJ"
      },
      "source": [
        "###Dashboard preparation"
      ]
    },
    {
      "cell_type": "code",
      "metadata": {
        "id": "twtSgIBm6S9D"
      },
      "source": [
        "#Creating a function to plot the interactive dashboard\n",
        "\n",
        "def plot_dashboard(year, month):\n",
        "  \"\"\"Plot the starting point of trips, location and average minutes per station \"\"\"\n",
        "  \n",
        "  #Creating slices of the dataframes  \n",
        "  df1 = st_loc_clean[(st_loc_clean['year']==year) & (st_loc_clean['month']==month)].copy()\n",
        "  df2 = en_loc_clean[(en_loc_clean['year']==year) & (en_loc_clean['month']==month)].copy()\n",
        "  df3 = st_hr_clean[(st_hr_clean['year']==year) & (st_hr_clean['month']==month)].copy()\n",
        "  df4 = en_hr_clean[(en_hr_clean['year']==year) & (en_hr_clean['month']==month)].copy()\n",
        "\n",
        "  #Creating constants for plotting\n",
        "  hours = [i for i in range(0, 24)]\n",
        "\n",
        "  #Create four subplots and unpack the output array immediately\n",
        "  fig, ((ax1, ax2), (ax3, ax4)) = plt.subplots(nrows=2, ncols=2, figsize=(20,10))\n",
        "\n",
        "  #Set title for the figure\n",
        "  fig.suptitle(\"Bysykkel Dashboard - Under construction\", fontsize=24)\n",
        "\n",
        "  #Accessing axes objects and plotting\n",
        "  sns.barplot(x='name', y='trips', data=df1[:5], ax=ax1)\n",
        "  sns.barplot(x='name', y='trips', data=df2[:5], ax=ax2)\n",
        "  sns.barplot(x='hour', y='count', data=df3, order=hours, ax=ax3)\n",
        "  sns.barplot(x='hour', y='count', data=df4, order=hours, ax=ax4)\n",
        "    \n",
        "  #Customizing axes labels and titles for first axes figure\n",
        "  ax1.set_xlabel('Station names')\n",
        "  ax1.set_ylabel('Number of Trips')\n",
        "  ax1.set_title('Top 5 start locations')\n",
        "  \n",
        "  #Customizing axes labels and titles for second axes figure\n",
        "  ax2.set_xlabel('Station names')\n",
        "  ax2.set_ylabel('Number of Trips')\n",
        "  ax2.set_title('Top 5 destinations')\n",
        "\n",
        "  #Customizing axes labels and titles for third axes figure\n",
        "  ax3.set_xlabel('Hours of day')\n",
        "  ax3.set_ylabel('Number of Trips')\n",
        "  ax3.set_title('Start trips rush hours')\n",
        "\n",
        "  #Customizing axes labels and titles for third axes figure\n",
        "  ax4.set_xlabel('Hours of day')\n",
        "  ax4.set_ylabel('Number of Trips')\n",
        "  ax4.set_title('Destination trips rush hours')\n",
        "\n",
        "  #Prevent from axis to colliding or overlaping one another.\n",
        "  fig.tight_layout()\n",
        "  fig.subplots_adjust(top=0.88)"
      ],
      "execution_count": 21,
      "outputs": []
    },
    {
      "cell_type": "markdown",
      "metadata": {
        "id": "_2ffmzfn5j1P"
      },
      "source": [
        "###Visualizing Bysykkel Dashboard"
      ]
    },
    {
      "cell_type": "code",
      "metadata": {
        "colab": {
          "base_uri": "https://localhost:8080/",
          "height": 806,
          "referenced_widgets": [
            "c501818e3b514766b2c05114d5e80c92",
            "7fdad8806f8841c4af0fe4a5f52a760c",
            "88de0c4d193646cf8a990e9e93b73544",
            "a7d4395b8d5844699163c920f619c4d3",
            "9a03b80f3b294ae3aa77b93288c64bd8",
            "64aae97b570f48159a7154e752835dea",
            "8502511d12b64c1badcf135898d6f5bd",
            "dd42aa721357449991e5a0863e86bfa5",
            "76b8a3e16bda41bc866bf229acd6499b",
            "70542d6895b6461485a604e6a31a8c7f"
          ]
        },
        "id": "5uQ7SiroCYyr",
        "outputId": "9555e4e7-d792-4c74-88aa-1c20002f69f1"
      },
      "source": [
        "#Plotting Bysykkel dashboard with interactive widgets\n",
        "interact(plot_dashboard,\n",
        "         year=widgets.Dropdown(options=yr, value=yr[0], description='Year', disabled=False),\n",
        "         month=widgets.Dropdown(options=month, value=month[2], description='Month', disabled=False))\n",
        "plt.show()"
      ],
      "execution_count": 28,
      "outputs": [
        {
          "output_type": "display_data",
          "data": {
            "application/vnd.jupyter.widget-view+json": {
              "model_id": "c501818e3b514766b2c05114d5e80c92",
              "version_minor": 0,
              "version_major": 2
            },
            "text/plain": [
              "interactive(children=(Dropdown(description='Year', options=(2020, 2021), value=2020), Dropdown(description='Mo…"
            ]
          },
          "metadata": {
            "tags": []
          }
        }
      ]
    },
    {
      "cell_type": "markdown",
      "metadata": {
        "id": "ewlYx-sRZeTF"
      },
      "source": [
        "###Starting Station Dashboard"
      ]
    },
    {
      "cell_type": "code",
      "metadata": {
        "id": "DomhNZZvZdMH"
      },
      "source": [
        "#Creating a function to plot the interactive dashboard\n",
        "\n",
        "def plot_start_dashboard(year, month):\n",
        "  \"\"\"Plot the top starting stations, average minutes per station, roush hours and monthly rides\"\"\"\n",
        "  \n",
        "  #Creating slices of the dataframes  \n",
        "  df1 = st_loc_clean[(st_loc_clean['year']==year) & (st_loc_clean['month']==month)].copy()\n",
        "  df2 = st_hr_clean[(st_hr_clean['year']==year) & (st_hr_clean['month']==month)].copy()\n",
        "  df3 = st_loc_clean[st_loc_clean['year']==year].copy()\n",
        "  df3 = df3.groupby(['month']).agg(month_trips=('trips', 'sum')).reset_index()\n",
        "\n",
        "  #Creating constants for plotting\n",
        "  hours = [i for i in range(0, 24)]\n",
        "  ord_months = ['January', 'February', 'March', 'April', 'May', 'June', 'July', 'August', 'September', 'October', 'November', 'December']\n",
        "\n",
        "  #Create four subplots and unpack the output array immediately\n",
        "  fig, ((ax1, ax2), (ax3, ax4)) = plt.subplots(nrows=2, ncols=2, figsize=(20,10))\n",
        "\n",
        "  #Set title for the figure\n",
        "  fig.suptitle(\"Bysykkel Dashboard - Starting Stations\", fontsize=24)\n",
        "\n",
        "  #Accessing axes objects and plotting\n",
        "  sns.barplot(x='name', y='trips', data=df1[:5], ax=ax1)\n",
        "  sns.barplot(x='name', y='mean_min', data=df1[:5], ax=ax2)\n",
        "  sns.barplot(x='hour', y='count', data=df2, order=hours, ax=ax3)\n",
        "  sns.barplot(x='month', y='month_trips', data=df3, order=ord_months, ax=ax4)\n",
        "    \n",
        "  #Customizing axes labels and titles for first axes figure\n",
        "  ax1.set_xlabel('Station names')\n",
        "  ax1.set_ylabel('Number of Trips')\n",
        "  ax1.set_title(f'Top 5 starting stations for {month} {year}')\n",
        "  \n",
        "  #Customizing axes labels and titles for second axes figure\n",
        "  ax2.set_xlabel('Station names')\n",
        "  ax2.set_ylabel('Minutes')\n",
        "  ax2.set_title(f'Average ride per station (in minutes) for {month} {year}')\n",
        "\n",
        "  #Customizing axes labels and titles for third axes figure\n",
        "  ax3.set_xlabel('Hours of day')\n",
        "  ax3.set_ylabel('Number of Trips')\n",
        "  ax3.set_title(f'Rush hours for {month} {year}')\n",
        "\n",
        "  #Customizing axes labels and titles for fourth axes figure\n",
        "  ax4.set_xlabel('Months')\n",
        "  ax4.set_ylabel('Number of Trips')\n",
        "  ax4.set_title(f'Total rides per month during {year}')\n",
        "\n",
        "  #Prevent from axis to colliding or overlaping one another.\n",
        "  fig.tight_layout()\n",
        "  fig.subplots_adjust(top=0.88)"
      ],
      "execution_count": 51,
      "outputs": []
    },
    {
      "cell_type": "code",
      "metadata": {
        "colab": {
          "base_uri": "https://localhost:8080/",
          "height": 784,
          "referenced_widgets": [
            "6e7109b77bf4495e950cb3d09ef18f0d",
            "e49cdf8a31194032b179981f4e980fc4",
            "017f353854874a028f8baa1dfd4ef503",
            "8dfd30cc324941bda12cde23eb07e61e",
            "2b6ddeffd4ff4d18af247369290cdf31",
            "22a558fbdf654d53805fca0d0bb3ad6a",
            "b67d280ab15d4183b9bae32325d9765d",
            "e191d7ea00564940b7ea6bd1459fa876",
            "ecc2a6fec14e4538b40cb43198fc5975",
            "a2a3cb98f3994194b539ae380dbedada"
          ]
        },
        "id": "HuGuEnNXbokP",
        "outputId": "84d919b0-5967-4d72-bb18-bc175bf14bb7"
      },
      "source": [
        "#Plotting Bysykkel dashboard for stating stations with interactive widgets\n",
        "interact(plot_start_dashboard,\n",
        "         year=widgets.Dropdown(options=yr, value=yr[0], description='Year', disabled=False),\n",
        "         month=widgets.Dropdown(options=month, value=month[2], description='Month', disabled=False))\n",
        "plt.show()"
      ],
      "execution_count": 52,
      "outputs": [
        {
          "output_type": "display_data",
          "data": {
            "application/vnd.jupyter.widget-view+json": {
              "model_id": "6e7109b77bf4495e950cb3d09ef18f0d",
              "version_minor": 0,
              "version_major": 2
            },
            "text/plain": [
              "interactive(children=(Dropdown(description='Year', options=(2020, 2021), value=2020), Dropdown(description='Mo…"
            ]
          },
          "metadata": {
            "tags": []
          }
        }
      ]
    },
    {
      "cell_type": "code",
      "metadata": {
        "colab": {
          "base_uri": "https://localhost:8080/",
          "height": 203
        },
        "id": "j_K2mrW2cfCN",
        "outputId": "61a8c1bc-3238-49b7-d017-44232d8c8ab1"
      },
      "source": [
        "st_loc_clean.head()"
      ],
      "execution_count": 34,
      "outputs": [
        {
          "output_type": "execute_result",
          "data": {
            "text/html": [
              "<div>\n",
              "<style scoped>\n",
              "    .dataframe tbody tr th:only-of-type {\n",
              "        vertical-align: middle;\n",
              "    }\n",
              "\n",
              "    .dataframe tbody tr th {\n",
              "        vertical-align: top;\n",
              "    }\n",
              "\n",
              "    .dataframe thead th {\n",
              "        text-align: right;\n",
              "    }\n",
              "</style>\n",
              "<table border=\"1\" class=\"dataframe\">\n",
              "  <thead>\n",
              "    <tr style=\"text-align: right;\">\n",
              "      <th></th>\n",
              "      <th>year</th>\n",
              "      <th>month</th>\n",
              "      <th>name</th>\n",
              "      <th>lat</th>\n",
              "      <th>lon</th>\n",
              "      <th>trips</th>\n",
              "      <th>mean_min</th>\n",
              "    </tr>\n",
              "  </thead>\n",
              "  <tbody>\n",
              "    <tr>\n",
              "      <th>0</th>\n",
              "      <td>2021</td>\n",
              "      <td>May</td>\n",
              "      <td>Alexander Kiellands Plass</td>\n",
              "      <td>59.928067</td>\n",
              "      <td>10.751203</td>\n",
              "      <td>2137</td>\n",
              "      <td>11.62</td>\n",
              "    </tr>\n",
              "    <tr>\n",
              "      <th>1</th>\n",
              "      <td>2021</td>\n",
              "      <td>May</td>\n",
              "      <td>Ringnes Park</td>\n",
              "      <td>59.928434</td>\n",
              "      <td>10.759430</td>\n",
              "      <td>1900</td>\n",
              "      <td>10.93</td>\n",
              "    </tr>\n",
              "    <tr>\n",
              "      <th>2</th>\n",
              "      <td>2021</td>\n",
              "      <td>May</td>\n",
              "      <td>Olaf Ryes plass</td>\n",
              "      <td>59.922425</td>\n",
              "      <td>10.758182</td>\n",
              "      <td>1661</td>\n",
              "      <td>12.92</td>\n",
              "    </tr>\n",
              "    <tr>\n",
              "      <th>3</th>\n",
              "      <td>2021</td>\n",
              "      <td>May</td>\n",
              "      <td>Bislettgata</td>\n",
              "      <td>59.923774</td>\n",
              "      <td>10.734713</td>\n",
              "      <td>1533</td>\n",
              "      <td>11.77</td>\n",
              "    </tr>\n",
              "    <tr>\n",
              "      <th>4</th>\n",
              "      <td>2021</td>\n",
              "      <td>May</td>\n",
              "      <td>Rådhusbrygge 4</td>\n",
              "      <td>59.910847</td>\n",
              "      <td>10.730377</td>\n",
              "      <td>1515</td>\n",
              "      <td>17.29</td>\n",
              "    </tr>\n",
              "  </tbody>\n",
              "</table>\n",
              "</div>"
            ],
            "text/plain": [
              "   year month                       name        lat        lon  trips  mean_min\n",
              "0  2021   May  Alexander Kiellands Plass  59.928067  10.751203   2137     11.62\n",
              "1  2021   May               Ringnes Park  59.928434  10.759430   1900     10.93\n",
              "2  2021   May            Olaf Ryes plass  59.922425  10.758182   1661     12.92\n",
              "3  2021   May                Bislettgata  59.923774  10.734713   1533     11.77\n",
              "4  2021   May             Rådhusbrygge 4  59.910847  10.730377   1515     17.29"
            ]
          },
          "metadata": {
            "tags": []
          },
          "execution_count": 34
        }
      ]
    }
  ]
}