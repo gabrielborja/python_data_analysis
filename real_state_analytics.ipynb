{
  "nbformat": 4,
  "nbformat_minor": 0,
  "metadata": {
    "colab": {
      "name": "real_state_analytics.ipynb",
      "provenance": [],
      "authorship_tag": "ABX9TyOGqrCmgU+oYsjxaDhdcgWK",
      "include_colab_link": true
    },
    "kernelspec": {
      "name": "python3",
      "display_name": "Python 3"
    },
    "language_info": {
      "name": "python"
    },
    "widgets": {
      "application/vnd.jupyter.widget-state+json": {
        "63e8624074574c6586e10cc1ec9708f0": {
          "model_module": "@jupyter-widgets/controls",
          "model_name": "VBoxModel",
          "state": {
            "_view_name": "VBoxView",
            "_dom_classes": [
              "widget-interact"
            ],
            "_model_name": "VBoxModel",
            "_view_module": "@jupyter-widgets/controls",
            "_model_module_version": "1.5.0",
            "_view_count": null,
            "_view_module_version": "1.5.0",
            "box_style": "",
            "layout": "IPY_MODEL_26db1c4e667e4faf9ac5c4d662caf540",
            "_model_module": "@jupyter-widgets/controls",
            "children": [
              "IPY_MODEL_2b1fdaa366524eb9bcbdd9b4beebf5b0",
              "IPY_MODEL_2fb2ba6f02614d3698b81fdb95208cbc"
            ]
          }
        },
        "26db1c4e667e4faf9ac5c4d662caf540": {
          "model_module": "@jupyter-widgets/base",
          "model_name": "LayoutModel",
          "state": {
            "_view_name": "LayoutView",
            "grid_template_rows": null,
            "right": null,
            "justify_content": null,
            "_view_module": "@jupyter-widgets/base",
            "overflow": null,
            "_model_module_version": "1.2.0",
            "_view_count": null,
            "flex_flow": null,
            "width": null,
            "min_width": null,
            "border": null,
            "align_items": null,
            "bottom": null,
            "_model_module": "@jupyter-widgets/base",
            "top": null,
            "grid_column": null,
            "overflow_y": null,
            "overflow_x": null,
            "grid_auto_flow": null,
            "grid_area": null,
            "grid_template_columns": null,
            "flex": null,
            "_model_name": "LayoutModel",
            "justify_items": null,
            "grid_row": null,
            "max_height": null,
            "align_content": null,
            "visibility": null,
            "align_self": null,
            "height": null,
            "min_height": null,
            "padding": null,
            "grid_auto_rows": null,
            "grid_gap": null,
            "max_width": null,
            "order": null,
            "_view_module_version": "1.2.0",
            "grid_template_areas": null,
            "object_position": null,
            "object_fit": null,
            "grid_auto_columns": null,
            "margin": null,
            "display": null,
            "left": null
          }
        },
        "2b1fdaa366524eb9bcbdd9b4beebf5b0": {
          "model_module": "@jupyter-widgets/controls",
          "model_name": "DropdownModel",
          "state": {
            "_options_labels": [
              "1",
              "2",
              "3"
            ],
            "_view_name": "DropdownView",
            "style": "IPY_MODEL_9efb16e65c704f24b0b0ca88fd6d6c65",
            "_dom_classes": [],
            "description": "rooms",
            "_model_name": "DropdownModel",
            "index": 2,
            "_view_module": "@jupyter-widgets/controls",
            "_model_module_version": "1.5.0",
            "_view_count": null,
            "disabled": false,
            "_view_module_version": "1.5.0",
            "description_tooltip": null,
            "_model_module": "@jupyter-widgets/controls",
            "layout": "IPY_MODEL_ec16d09bdc5c4e92b841ffbb0ebfa939"
          }
        },
        "2fb2ba6f02614d3698b81fdb95208cbc": {
          "model_module": "@jupyter-widgets/output",
          "model_name": "OutputModel",
          "state": {
            "_view_name": "OutputView",
            "msg_id": "",
            "_dom_classes": [],
            "_model_name": "OutputModel",
            "outputs": [
              {
                "output_type": "display_data",
                "metadata": {
                  "tags": []
                },
                "image/png": "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\n",
                "text/plain": "<Figure size 864x288 with 1 Axes>"
              }
            ],
            "_view_module": "@jupyter-widgets/output",
            "_model_module_version": "1.0.0",
            "_view_count": null,
            "_view_module_version": "1.0.0",
            "layout": "IPY_MODEL_228a5f4ea55e4756ad840781479423b8",
            "_model_module": "@jupyter-widgets/output"
          }
        },
        "9efb16e65c704f24b0b0ca88fd6d6c65": {
          "model_module": "@jupyter-widgets/controls",
          "model_name": "DescriptionStyleModel",
          "state": {
            "_view_name": "StyleView",
            "_model_name": "DescriptionStyleModel",
            "description_width": "",
            "_view_module": "@jupyter-widgets/base",
            "_model_module_version": "1.5.0",
            "_view_count": null,
            "_view_module_version": "1.2.0",
            "_model_module": "@jupyter-widgets/controls"
          }
        },
        "ec16d09bdc5c4e92b841ffbb0ebfa939": {
          "model_module": "@jupyter-widgets/base",
          "model_name": "LayoutModel",
          "state": {
            "_view_name": "LayoutView",
            "grid_template_rows": null,
            "right": null,
            "justify_content": null,
            "_view_module": "@jupyter-widgets/base",
            "overflow": null,
            "_model_module_version": "1.2.0",
            "_view_count": null,
            "flex_flow": null,
            "width": null,
            "min_width": null,
            "border": null,
            "align_items": null,
            "bottom": null,
            "_model_module": "@jupyter-widgets/base",
            "top": null,
            "grid_column": null,
            "overflow_y": null,
            "overflow_x": null,
            "grid_auto_flow": null,
            "grid_area": null,
            "grid_template_columns": null,
            "flex": null,
            "_model_name": "LayoutModel",
            "justify_items": null,
            "grid_row": null,
            "max_height": null,
            "align_content": null,
            "visibility": null,
            "align_self": null,
            "height": null,
            "min_height": null,
            "padding": null,
            "grid_auto_rows": null,
            "grid_gap": null,
            "max_width": null,
            "order": null,
            "_view_module_version": "1.2.0",
            "grid_template_areas": null,
            "object_position": null,
            "object_fit": null,
            "grid_auto_columns": null,
            "margin": null,
            "display": null,
            "left": null
          }
        },
        "228a5f4ea55e4756ad840781479423b8": {
          "model_module": "@jupyter-widgets/base",
          "model_name": "LayoutModel",
          "state": {
            "_view_name": "LayoutView",
            "grid_template_rows": null,
            "right": null,
            "justify_content": null,
            "_view_module": "@jupyter-widgets/base",
            "overflow": null,
            "_model_module_version": "1.2.0",
            "_view_count": null,
            "flex_flow": null,
            "width": null,
            "min_width": null,
            "border": null,
            "align_items": null,
            "bottom": null,
            "_model_module": "@jupyter-widgets/base",
            "top": null,
            "grid_column": null,
            "overflow_y": null,
            "overflow_x": null,
            "grid_auto_flow": null,
            "grid_area": null,
            "grid_template_columns": null,
            "flex": null,
            "_model_name": "LayoutModel",
            "justify_items": null,
            "grid_row": null,
            "max_height": null,
            "align_content": null,
            "visibility": null,
            "align_self": null,
            "height": null,
            "min_height": null,
            "padding": null,
            "grid_auto_rows": null,
            "grid_gap": null,
            "max_width": null,
            "order": null,
            "_view_module_version": "1.2.0",
            "grid_template_areas": null,
            "object_position": null,
            "object_fit": null,
            "grid_auto_columns": null,
            "margin": null,
            "display": null,
            "left": null
          }
        },
        "c5473b49fa79439dafcd06233d4aaf35": {
          "model_module": "@jupyter-widgets/controls",
          "model_name": "VBoxModel",
          "state": {
            "_view_name": "VBoxView",
            "_dom_classes": [
              "widget-interact"
            ],
            "_model_name": "VBoxModel",
            "_view_module": "@jupyter-widgets/controls",
            "_model_module_version": "1.5.0",
            "_view_count": null,
            "_view_module_version": "1.5.0",
            "box_style": "",
            "layout": "IPY_MODEL_14c6f70544794c9d82f2a6facfff0332",
            "_model_module": "@jupyter-widgets/controls",
            "children": [
              "IPY_MODEL_f405467e4b7048668725511df41e40c7",
              "IPY_MODEL_71d4ab4ffe814e829a4e29c2235cac41",
              "IPY_MODEL_843849749b70452e9e9f048e5ccd54ba"
            ]
          }
        },
        "14c6f70544794c9d82f2a6facfff0332": {
          "model_module": "@jupyter-widgets/base",
          "model_name": "LayoutModel",
          "state": {
            "_view_name": "LayoutView",
            "grid_template_rows": null,
            "right": null,
            "justify_content": null,
            "_view_module": "@jupyter-widgets/base",
            "overflow": null,
            "_model_module_version": "1.2.0",
            "_view_count": null,
            "flex_flow": null,
            "width": null,
            "min_width": null,
            "border": null,
            "align_items": null,
            "bottom": null,
            "_model_module": "@jupyter-widgets/base",
            "top": null,
            "grid_column": null,
            "overflow_y": null,
            "overflow_x": null,
            "grid_auto_flow": null,
            "grid_area": null,
            "grid_template_columns": null,
            "flex": null,
            "_model_name": "LayoutModel",
            "justify_items": null,
            "grid_row": null,
            "max_height": null,
            "align_content": null,
            "visibility": null,
            "align_self": null,
            "height": null,
            "min_height": null,
            "padding": null,
            "grid_auto_rows": null,
            "grid_gap": null,
            "max_width": null,
            "order": null,
            "_view_module_version": "1.2.0",
            "grid_template_areas": null,
            "object_position": null,
            "object_fit": null,
            "grid_auto_columns": null,
            "margin": null,
            "display": null,
            "left": null
          }
        },
        "f405467e4b7048668725511df41e40c7": {
          "model_module": "@jupyter-widgets/controls",
          "model_name": "DropdownModel",
          "state": {
            "_options_labels": [
              "2020",
              "2021"
            ],
            "_view_name": "DropdownView",
            "style": "IPY_MODEL_cd53cbd615914b528ec31747d1da6b3c",
            "_dom_classes": [],
            "description": "year",
            "_model_name": "DropdownModel",
            "index": 1,
            "_view_module": "@jupyter-widgets/controls",
            "_model_module_version": "1.5.0",
            "_view_count": null,
            "disabled": false,
            "_view_module_version": "1.5.0",
            "description_tooltip": null,
            "_model_module": "@jupyter-widgets/controls",
            "layout": "IPY_MODEL_38be473022ea423cbf6505c3daa5705f"
          }
        },
        "71d4ab4ffe814e829a4e29c2235cac41": {
          "model_module": "@jupyter-widgets/controls",
          "model_name": "DropdownModel",
          "state": {
            "_options_labels": [
              "1",
              "2",
              "3"
            ],
            "_view_name": "DropdownView",
            "style": "IPY_MODEL_0da98d90b63144d796b2562ca02f51f0",
            "_dom_classes": [],
            "description": "rooms",
            "_model_name": "DropdownModel",
            "index": 1,
            "_view_module": "@jupyter-widgets/controls",
            "_model_module_version": "1.5.0",
            "_view_count": null,
            "disabled": false,
            "_view_module_version": "1.5.0",
            "description_tooltip": null,
            "_model_module": "@jupyter-widgets/controls",
            "layout": "IPY_MODEL_398a7b9de1de48648509e3309da193d8"
          }
        },
        "843849749b70452e9e9f048e5ccd54ba": {
          "model_module": "@jupyter-widgets/output",
          "model_name": "OutputModel",
          "state": {
            "_view_name": "OutputView",
            "msg_id": "",
            "_dom_classes": [],
            "_model_name": "OutputModel",
            "outputs": [
              {
                "output_type": "display_data",
                "metadata": {
                  "tags": []
                },
                "text/html": "<html>\n<head><meta charset=\"utf-8\" /></head>\n<body>\n    <div>            <script src=\"https://cdnjs.cloudflare.com/ajax/libs/mathjax/2.7.5/MathJax.js?config=TeX-AMS-MML_SVG\"></script><script type=\"text/javascript\">if (window.MathJax) {MathJax.Hub.Config({SVG: {font: \"STIX-Web\"}});}</script>                <script type=\"text/javascript\">window.PlotlyConfig = {MathJaxConfig: 'local'};</script>\n        <script src=\"https://cdn.plot.ly/plotly-2.2.0.min.js\"></script>                <div id=\"e27f9f17-4409-4d64-b080-f95dbdf55dd0\" class=\"plotly-graph-div\" style=\"height:400px; width:900px;\"></div>            <script type=\"text/javascript\">                                    window.PLOTLYENV=window.PLOTLYENV || {};                                    if (document.getElementById(\"e27f9f17-4409-4d64-b080-f95dbdf55dd0\")) {                    Plotly.newPlot(                        \"e27f9f17-4409-4d64-b080-f95dbdf55dd0\",                        [{\"alignmentgroup\":\"True\",\"hovertemplate\":\"month=%{x}<br>price=%{y}<extra></extra>\",\"legendgroup\":\"\",\"marker\":{\"color\":\"#636efa\",\"pattern\":{\"shape\":\"\"}},\"name\":\"\",\"offsetgroup\":\"\",\"orientation\":\"v\",\"showlegend\":false,\"textposition\":\"auto\",\"type\":\"bar\",\"x\":[1,2,3,4,5,6,7,9,10,11,12],\"xaxis\":\"x\",\"y\":[153148.76923076922,154538.5,164647.14285714287,146074.14285714287,143387.66666666666,134153.875,144890.4705882353,null,null,null,null],\"yaxis\":\"y\"}],                        {\"barmode\":\"relative\",\"height\":400,\"legend\":{\"tracegroupgap\":0},\"template\":{\"data\":{\"bar\":[{\"error_x\":{\"color\":\"#2a3f5f\"},\"error_y\":{\"color\":\"#2a3f5f\"},\"marker\":{\"line\":{\"color\":\"#E5ECF6\",\"width\":0.5},\"pattern\":{\"fillmode\":\"overlay\",\"size\":10,\"solidity\":0.2}},\"type\":\"bar\"}],\"barpolar\":[{\"marker\":{\"line\":{\"color\":\"#E5ECF6\",\"width\":0.5},\"pattern\":{\"fillmode\":\"overlay\",\"size\":10,\"solidity\":0.2}},\"type\":\"barpolar\"}],\"carpet\":[{\"aaxis\":{\"endlinecolor\":\"#2a3f5f\",\"gridcolor\":\"white\",\"linecolor\":\"white\",\"minorgridcolor\":\"white\",\"startlinecolor\":\"#2a3f5f\"},\"baxis\":{\"endlinecolor\":\"#2a3f5f\",\"gridcolor\":\"white\",\"linecolor\":\"white\",\"minorgridcolor\":\"white\",\"startlinecolor\":\"#2a3f5f\"},\"type\":\"carpet\"}],\"choropleth\":[{\"colorbar\":{\"outlinewidth\":0,\"ticks\":\"\"},\"type\":\"choropleth\"}],\"contour\":[{\"colorbar\":{\"outlinewidth\":0,\"ticks\":\"\"},\"colorscale\":[[0.0,\"#0d0887\"],[0.1111111111111111,\"#46039f\"],[0.2222222222222222,\"#7201a8\"],[0.3333333333333333,\"#9c179e\"],[0.4444444444444444,\"#bd3786\"],[0.5555555555555556,\"#d8576b\"],[0.6666666666666666,\"#ed7953\"],[0.7777777777777778,\"#fb9f3a\"],[0.8888888888888888,\"#fdca26\"],[1.0,\"#f0f921\"]],\"type\":\"contour\"}],\"contourcarpet\":[{\"colorbar\":{\"outlinewidth\":0,\"ticks\":\"\"},\"type\":\"contourcarpet\"}],\"heatmap\":[{\"colorbar\":{\"outlinewidth\":0,\"ticks\":\"\"},\"colorscale\":[[0.0,\"#0d0887\"],[0.1111111111111111,\"#46039f\"],[0.2222222222222222,\"#7201a8\"],[0.3333333333333333,\"#9c179e\"],[0.4444444444444444,\"#bd3786\"],[0.5555555555555556,\"#d8576b\"],[0.6666666666666666,\"#ed7953\"],[0.7777777777777778,\"#fb9f3a\"],[0.8888888888888888,\"#fdca26\"],[1.0,\"#f0f921\"]],\"type\":\"heatmap\"}],\"heatmapgl\":[{\"colorbar\":{\"outlinewidth\":0,\"ticks\":\"\"},\"colorscale\":[[0.0,\"#0d0887\"],[0.1111111111111111,\"#46039f\"],[0.2222222222222222,\"#7201a8\"],[0.3333333333333333,\"#9c179e\"],[0.4444444444444444,\"#bd3786\"],[0.5555555555555556,\"#d8576b\"],[0.6666666666666666,\"#ed7953\"],[0.7777777777777778,\"#fb9f3a\"],[0.8888888888888888,\"#fdca26\"],[1.0,\"#f0f921\"]],\"type\":\"heatmapgl\"}],\"histogram\":[{\"marker\":{\"pattern\":{\"fillmode\":\"overlay\",\"size\":10,\"solidity\":0.2}},\"type\":\"histogram\"}],\"histogram2d\":[{\"colorbar\":{\"outlinewidth\":0,\"ticks\":\"\"},\"colorscale\":[[0.0,\"#0d0887\"],[0.1111111111111111,\"#46039f\"],[0.2222222222222222,\"#7201a8\"],[0.3333333333333333,\"#9c179e\"],[0.4444444444444444,\"#bd3786\"],[0.5555555555555556,\"#d8576b\"],[0.6666666666666666,\"#ed7953\"],[0.7777777777777778,\"#fb9f3a\"],[0.8888888888888888,\"#fdca26\"],[1.0,\"#f0f921\"]],\"type\":\"histogram2d\"}],\"histogram2dcontour\":[{\"colorbar\":{\"outlinewidth\":0,\"ticks\":\"\"},\"colorscale\":[[0.0,\"#0d0887\"],[0.1111111111111111,\"#46039f\"],[0.2222222222222222,\"#7201a8\"],[0.3333333333333333,\"#9c179e\"],[0.4444444444444444,\"#bd3786\"],[0.5555555555555556,\"#d8576b\"],[0.6666666666666666,\"#ed7953\"],[0.7777777777777778,\"#fb9f3a\"],[0.8888888888888888,\"#fdca26\"],[1.0,\"#f0f921\"]],\"type\":\"histogram2dcontour\"}],\"mesh3d\":[{\"colorbar\":{\"outlinewidth\":0,\"ticks\":\"\"},\"type\":\"mesh3d\"}],\"parcoords\":[{\"line\":{\"colorbar\":{\"outlinewidth\":0,\"ticks\":\"\"}},\"type\":\"parcoords\"}],\"pie\":[{\"automargin\":true,\"type\":\"pie\"}],\"scatter\":[{\"marker\":{\"colorbar\":{\"outlinewidth\":0,\"ticks\":\"\"}},\"type\":\"scatter\"}],\"scatter3d\":[{\"line\":{\"colorbar\":{\"outlinewidth\":0,\"ticks\":\"\"}},\"marker\":{\"colorbar\":{\"outlinewidth\":0,\"ticks\":\"\"}},\"type\":\"scatter3d\"}],\"scattercarpet\":[{\"marker\":{\"colorbar\":{\"outlinewidth\":0,\"ticks\":\"\"}},\"type\":\"scattercarpet\"}],\"scattergeo\":[{\"marker\":{\"colorbar\":{\"outlinewidth\":0,\"ticks\":\"\"}},\"type\":\"scattergeo\"}],\"scattergl\":[{\"marker\":{\"colorbar\":{\"outlinewidth\":0,\"ticks\":\"\"}},\"type\":\"scattergl\"}],\"scattermapbox\":[{\"marker\":{\"colorbar\":{\"outlinewidth\":0,\"ticks\":\"\"}},\"type\":\"scattermapbox\"}],\"scatterpolar\":[{\"marker\":{\"colorbar\":{\"outlinewidth\":0,\"ticks\":\"\"}},\"type\":\"scatterpolar\"}],\"scatterpolargl\":[{\"marker\":{\"colorbar\":{\"outlinewidth\":0,\"ticks\":\"\"}},\"type\":\"scatterpolargl\"}],\"scatterternary\":[{\"marker\":{\"colorbar\":{\"outlinewidth\":0,\"ticks\":\"\"}},\"type\":\"scatterternary\"}],\"surface\":[{\"colorbar\":{\"outlinewidth\":0,\"ticks\":\"\"},\"colorscale\":[[0.0,\"#0d0887\"],[0.1111111111111111,\"#46039f\"],[0.2222222222222222,\"#7201a8\"],[0.3333333333333333,\"#9c179e\"],[0.4444444444444444,\"#bd3786\"],[0.5555555555555556,\"#d8576b\"],[0.6666666666666666,\"#ed7953\"],[0.7777777777777778,\"#fb9f3a\"],[0.8888888888888888,\"#fdca26\"],[1.0,\"#f0f921\"]],\"type\":\"surface\"}],\"table\":[{\"cells\":{\"fill\":{\"color\":\"#EBF0F8\"},\"line\":{\"color\":\"white\"}},\"header\":{\"fill\":{\"color\":\"#C8D4E3\"},\"line\":{\"color\":\"white\"}},\"type\":\"table\"}]},\"layout\":{\"annotationdefaults\":{\"arrowcolor\":\"#2a3f5f\",\"arrowhead\":0,\"arrowwidth\":1},\"autotypenumbers\":\"strict\",\"coloraxis\":{\"colorbar\":{\"outlinewidth\":0,\"ticks\":\"\"}},\"colorscale\":{\"diverging\":[[0,\"#8e0152\"],[0.1,\"#c51b7d\"],[0.2,\"#de77ae\"],[0.3,\"#f1b6da\"],[0.4,\"#fde0ef\"],[0.5,\"#f7f7f7\"],[0.6,\"#e6f5d0\"],[0.7,\"#b8e186\"],[0.8,\"#7fbc41\"],[0.9,\"#4d9221\"],[1,\"#276419\"]],\"sequential\":[[0.0,\"#0d0887\"],[0.1111111111111111,\"#46039f\"],[0.2222222222222222,\"#7201a8\"],[0.3333333333333333,\"#9c179e\"],[0.4444444444444444,\"#bd3786\"],[0.5555555555555556,\"#d8576b\"],[0.6666666666666666,\"#ed7953\"],[0.7777777777777778,\"#fb9f3a\"],[0.8888888888888888,\"#fdca26\"],[1.0,\"#f0f921\"]],\"sequentialminus\":[[0.0,\"#0d0887\"],[0.1111111111111111,\"#46039f\"],[0.2222222222222222,\"#7201a8\"],[0.3333333333333333,\"#9c179e\"],[0.4444444444444444,\"#bd3786\"],[0.5555555555555556,\"#d8576b\"],[0.6666666666666666,\"#ed7953\"],[0.7777777777777778,\"#fb9f3a\"],[0.8888888888888888,\"#fdca26\"],[1.0,\"#f0f921\"]]},\"colorway\":[\"#636efa\",\"#EF553B\",\"#00cc96\",\"#ab63fa\",\"#FFA15A\",\"#19d3f3\",\"#FF6692\",\"#B6E880\",\"#FF97FF\",\"#FECB52\"],\"font\":{\"color\":\"#2a3f5f\"},\"geo\":{\"bgcolor\":\"white\",\"lakecolor\":\"white\",\"landcolor\":\"#E5ECF6\",\"showlakes\":true,\"showland\":true,\"subunitcolor\":\"white\"},\"hoverlabel\":{\"align\":\"left\"},\"hovermode\":\"closest\",\"mapbox\":{\"style\":\"light\"},\"paper_bgcolor\":\"white\",\"plot_bgcolor\":\"#E5ECF6\",\"polar\":{\"angularaxis\":{\"gridcolor\":\"white\",\"linecolor\":\"white\",\"ticks\":\"\"},\"bgcolor\":\"#E5ECF6\",\"radialaxis\":{\"gridcolor\":\"white\",\"linecolor\":\"white\",\"ticks\":\"\"}},\"scene\":{\"xaxis\":{\"backgroundcolor\":\"#E5ECF6\",\"gridcolor\":\"white\",\"gridwidth\":2,\"linecolor\":\"white\",\"showbackground\":true,\"ticks\":\"\",\"zerolinecolor\":\"white\"},\"yaxis\":{\"backgroundcolor\":\"#E5ECF6\",\"gridcolor\":\"white\",\"gridwidth\":2,\"linecolor\":\"white\",\"showbackground\":true,\"ticks\":\"\",\"zerolinecolor\":\"white\"},\"zaxis\":{\"backgroundcolor\":\"#E5ECF6\",\"gridcolor\":\"white\",\"gridwidth\":2,\"linecolor\":\"white\",\"showbackground\":true,\"ticks\":\"\",\"zerolinecolor\":\"white\"}},\"shapedefaults\":{\"line\":{\"color\":\"#2a3f5f\"}},\"ternary\":{\"aaxis\":{\"gridcolor\":\"white\",\"linecolor\":\"white\",\"ticks\":\"\"},\"baxis\":{\"gridcolor\":\"white\",\"linecolor\":\"white\",\"ticks\":\"\"},\"bgcolor\":\"#E5ECF6\",\"caxis\":{\"gridcolor\":\"white\",\"linecolor\":\"white\",\"ticks\":\"\"}},\"title\":{\"x\":0.05},\"xaxis\":{\"automargin\":true,\"gridcolor\":\"white\",\"linecolor\":\"white\",\"ticks\":\"\",\"title\":{\"standoff\":15},\"zerolinecolor\":\"white\",\"zerolinewidth\":2},\"yaxis\":{\"automargin\":true,\"gridcolor\":\"white\",\"linecolor\":\"white\",\"ticks\":\"\",\"title\":{\"standoff\":15},\"zerolinecolor\":\"white\",\"zerolinewidth\":2}}},\"title\":{\"text\":\"Apartments in Quito - La Carolina\"},\"width\":900,\"xaxis\":{\"anchor\":\"y\",\"domain\":[0.0,1.0],\"title\":{\"text\":\"month\"}},\"yaxis\":{\"anchor\":\"x\",\"domain\":[0.0,1.0],\"title\":{\"text\":\"price\"}}},                        {\"responsive\": true}                    ).then(function(){\n                            \nvar gd = document.getElementById('e27f9f17-4409-4d64-b080-f95dbdf55dd0');\nvar x = new MutationObserver(function (mutations, observer) {{\n        var display = window.getComputedStyle(gd).display;\n        if (!display || display === 'none') {{\n            console.log([gd, 'removed!']);\n            Plotly.purge(gd);\n            observer.disconnect();\n        }}\n}});\n\n// Listen for the removal of the full notebook cells\nvar notebookContainer = gd.closest('#notebook-container');\nif (notebookContainer) {{\n    x.observe(notebookContainer, {childList: true});\n}}\n\n// Listen for the clearing of the current output cell\nvar outputEl = gd.closest('.output');\nif (outputEl) {{\n    x.observe(outputEl, {childList: true});\n}}\n\n                        })                };                            </script>        </div>\n</body>\n</html>"
              }
            ],
            "_view_module": "@jupyter-widgets/output",
            "_model_module_version": "1.0.0",
            "_view_count": null,
            "_view_module_version": "1.0.0",
            "layout": "IPY_MODEL_619bd374907e4f5b89c35e6526b4ab5d",
            "_model_module": "@jupyter-widgets/output"
          }
        },
        "cd53cbd615914b528ec31747d1da6b3c": {
          "model_module": "@jupyter-widgets/controls",
          "model_name": "DescriptionStyleModel",
          "state": {
            "_view_name": "StyleView",
            "_model_name": "DescriptionStyleModel",
            "description_width": "",
            "_view_module": "@jupyter-widgets/base",
            "_model_module_version": "1.5.0",
            "_view_count": null,
            "_view_module_version": "1.2.0",
            "_model_module": "@jupyter-widgets/controls"
          }
        },
        "38be473022ea423cbf6505c3daa5705f": {
          "model_module": "@jupyter-widgets/base",
          "model_name": "LayoutModel",
          "state": {
            "_view_name": "LayoutView",
            "grid_template_rows": null,
            "right": null,
            "justify_content": null,
            "_view_module": "@jupyter-widgets/base",
            "overflow": null,
            "_model_module_version": "1.2.0",
            "_view_count": null,
            "flex_flow": null,
            "width": null,
            "min_width": null,
            "border": null,
            "align_items": null,
            "bottom": null,
            "_model_module": "@jupyter-widgets/base",
            "top": null,
            "grid_column": null,
            "overflow_y": null,
            "overflow_x": null,
            "grid_auto_flow": null,
            "grid_area": null,
            "grid_template_columns": null,
            "flex": null,
            "_model_name": "LayoutModel",
            "justify_items": null,
            "grid_row": null,
            "max_height": null,
            "align_content": null,
            "visibility": null,
            "align_self": null,
            "height": null,
            "min_height": null,
            "padding": null,
            "grid_auto_rows": null,
            "grid_gap": null,
            "max_width": null,
            "order": null,
            "_view_module_version": "1.2.0",
            "grid_template_areas": null,
            "object_position": null,
            "object_fit": null,
            "grid_auto_columns": null,
            "margin": null,
            "display": null,
            "left": null
          }
        },
        "0da98d90b63144d796b2562ca02f51f0": {
          "model_module": "@jupyter-widgets/controls",
          "model_name": "DescriptionStyleModel",
          "state": {
            "_view_name": "StyleView",
            "_model_name": "DescriptionStyleModel",
            "description_width": "",
            "_view_module": "@jupyter-widgets/base",
            "_model_module_version": "1.5.0",
            "_view_count": null,
            "_view_module_version": "1.2.0",
            "_model_module": "@jupyter-widgets/controls"
          }
        },
        "398a7b9de1de48648509e3309da193d8": {
          "model_module": "@jupyter-widgets/base",
          "model_name": "LayoutModel",
          "state": {
            "_view_name": "LayoutView",
            "grid_template_rows": null,
            "right": null,
            "justify_content": null,
            "_view_module": "@jupyter-widgets/base",
            "overflow": null,
            "_model_module_version": "1.2.0",
            "_view_count": null,
            "flex_flow": null,
            "width": null,
            "min_width": null,
            "border": null,
            "align_items": null,
            "bottom": null,
            "_model_module": "@jupyter-widgets/base",
            "top": null,
            "grid_column": null,
            "overflow_y": null,
            "overflow_x": null,
            "grid_auto_flow": null,
            "grid_area": null,
            "grid_template_columns": null,
            "flex": null,
            "_model_name": "LayoutModel",
            "justify_items": null,
            "grid_row": null,
            "max_height": null,
            "align_content": null,
            "visibility": null,
            "align_self": null,
            "height": null,
            "min_height": null,
            "padding": null,
            "grid_auto_rows": null,
            "grid_gap": null,
            "max_width": null,
            "order": null,
            "_view_module_version": "1.2.0",
            "grid_template_areas": null,
            "object_position": null,
            "object_fit": null,
            "grid_auto_columns": null,
            "margin": null,
            "display": null,
            "left": null
          }
        },
        "619bd374907e4f5b89c35e6526b4ab5d": {
          "model_module": "@jupyter-widgets/base",
          "model_name": "LayoutModel",
          "state": {
            "_view_name": "LayoutView",
            "grid_template_rows": null,
            "right": null,
            "justify_content": null,
            "_view_module": "@jupyter-widgets/base",
            "overflow": null,
            "_model_module_version": "1.2.0",
            "_view_count": null,
            "flex_flow": null,
            "width": null,
            "min_width": null,
            "border": null,
            "align_items": null,
            "bottom": null,
            "_model_module": "@jupyter-widgets/base",
            "top": null,
            "grid_column": null,
            "overflow_y": null,
            "overflow_x": null,
            "grid_auto_flow": null,
            "grid_area": null,
            "grid_template_columns": null,
            "flex": null,
            "_model_name": "LayoutModel",
            "justify_items": null,
            "grid_row": null,
            "max_height": null,
            "align_content": null,
            "visibility": null,
            "align_self": null,
            "height": null,
            "min_height": null,
            "padding": null,
            "grid_auto_rows": null,
            "grid_gap": null,
            "max_width": null,
            "order": null,
            "_view_module_version": "1.2.0",
            "grid_template_areas": null,
            "object_position": null,
            "object_fit": null,
            "grid_auto_columns": null,
            "margin": null,
            "display": null,
            "left": null
          }
        }
      }
    }
  },
  "cells": [
    {
      "cell_type": "markdown",
      "metadata": {
        "id": "view-in-github",
        "colab_type": "text"
      },
      "source": [
        "<a href=\"https://colab.research.google.com/github/gabrielborja/python_data_analysis/blob/main/real_state_analytics.ipynb\" target=\"_parent\"><img src=\"https://colab.research.google.com/assets/colab-badge.svg\" alt=\"Open In Colab\"/></a>"
      ]
    },
    {
      "cell_type": "markdown",
      "metadata": {
        "id": "eTZwpRZNRhGY"
      },
      "source": [
        "#Real State Analytics"
      ]
    },
    {
      "cell_type": "markdown",
      "metadata": {
        "id": "urSYFOWesvzU"
      },
      "source": [
        "Real state data from apartments for sale in Quito - Ecuador can be obtained from the following link [here](https://www.properati.com.ec/s/la-carolina/departamento/venta/m2:60-70_habitaciones:1/?sort=published_on_desc)"
      ]
    },
    {
      "cell_type": "markdown",
      "metadata": {
        "id": "sgzkv1LwjLIL"
      },
      "source": [
        "## Uploading packages and data"
      ]
    },
    {
      "cell_type": "code",
      "metadata": {
        "id": "QTRtRZcb-IyF"
      },
      "source": [
        "#Importing HTTP libraries\n",
        "import requests\n",
        "import pprint\n",
        "from bs4 import BeautifulSoup as bs"
      ],
      "execution_count": null,
      "outputs": []
    },
    {
      "cell_type": "code",
      "metadata": {
        "id": "RHzc7K6UJDvR"
      },
      "source": [
        "#Importing data manipulation packages\n",
        "import numpy as np\n",
        "import pandas as pd\n",
        "from time import sleep\n",
        "from random import randint"
      ],
      "execution_count": null,
      "outputs": []
    },
    {
      "cell_type": "markdown",
      "metadata": {
        "id": "Qd76FNGixVGx"
      },
      "source": [
        "##Retrieving data from URL"
      ]
    },
    {
      "cell_type": "code",
      "metadata": {
        "id": "iRKLMxgWhorK"
      },
      "source": [
        "#class requests.Response\n",
        "#Response.elapsed, Response.encoding, Response.headers, Response.json, Response.status_code, Response.text, Response.url"
      ],
      "execution_count": null,
      "outputs": []
    },
    {
      "cell_type": "code",
      "metadata": {
        "id": "W1pXcNFlFXFP"
      },
      "source": [
        "#Create a function to retrieve data from given URL\n",
        "def get_url(url):\n",
        "  \"\"\"Retrieve data from given URL and return a dataframe\"\"\"\n",
        "  \n",
        "  #Get data and parse with BeautifulSoup\n",
        "  try:\n",
        "    response = requests.get(url)\n",
        "    print(response)\n",
        "    #pprint.pprint(response.text[:200]) #Print first 200 char from HTML.\n",
        "    soup = bs(response.text, 'html.parser')\n",
        "\n",
        "    #Save retrieved data to lists\n",
        "    d1_names = [i.text for i in soup.find_all(class_ ='bwJAej')]\n",
        "    d1_location = [i.text for i in soup.find_all(class_ = 'fqaBNm')]\n",
        "    d1_prices = [i.text for i in soup.find_all(class_ ='bZCCaW')]\n",
        "    d1_rooms = [i.span.text for i in soup.find_all(class_ = 'fgcFIO') if 'habitaci' in i.text]\n",
        "    d1_bathrooms = [i.text for i in soup.find_all('span') if 'baño' in i.text]\n",
        "    d1_sqr_meters = [i.text for i in soup.find_all('span') if 'm²' in i.text]\n",
        "    d1_seller_names = [i.text for i in soup.find_all(class_ = 'seller-name')]\n",
        "    d1_times = [i['datetime'] for i in soup.find_all('time')]\n",
        "    \n",
        "    #Save data to dataframe\n",
        "    df = pd.DataFrame()\n",
        "    df = df.assign(date=d1_times, name=d1_names, location=d1_location,\n",
        "                   price=d1_prices, rooms=d1_rooms, bathrooms=d1_bathrooms,\n",
        "                   sqr_meters=d1_sqr_meters, seller=d1_seller_names)\n",
        "    return df\n",
        "\n",
        "  except requests.exceptions.RequestException as e:\n",
        "    print(e)"
      ],
      "execution_count": null,
      "outputs": []
    },
    {
      "cell_type": "code",
      "metadata": {
        "id": "3bjL87O6J9Wl"
      },
      "source": [
        "#Retrive data from URL and create a dataframe of apartments in Quito\n",
        "#url = 'https://www.properati.com.ec/s/la-carolina/departamento/venta/m2:50-150_habitaciones:1_ba%C3%B1os:1,2,3_publicados:ultimos-7-dias/?sort=published_on_desc&page1'\n",
        "#url = 'https://www.properati.com.ec/s/la-carolina/departamento/venta/publicados:ultimos-365-dias_m2:50-150_habitaciones:1,2,3_ba%C3%B1os:1,2,3/?sort=published_on_desc&page=12'\n",
        "#url = 'https://www.properati.com.ec/s/bellavista-inaquito/departamento/venta/publicados:ultimos-365-dias_m2:50-150_habitaciones:1,2,3_ba%C3%B1os:1,2,3/?sort=published_on_desc'\n",
        "\n",
        "#df1 = get_url(url)"
      ],
      "execution_count": null,
      "outputs": []
    },
    {
      "cell_type": "code",
      "metadata": {
        "colab": {
          "base_uri": "https://localhost:8080/"
        },
        "id": "yiS7mDnauCf3",
        "outputId": "fce1be96-ccb1-4d9d-d29e-4e017bfaad22"
      },
      "source": [
        "#Scraping apartments from mulitple URLs and saving to a list\n",
        "data = []\n",
        "url = 'https://www.properati.com.ec/s/la-carolina/departamento/venta/publicados:ultimos-365-dias_m2:50-150_habitaciones:1,2,3_ba%C3%B1os:1,2,3/?sort=published_on_desc&page='\n",
        "\n",
        "for i in range(1, 13):\n",
        "  page = url + str(i)\n",
        "  data.append(get_url(page))\n",
        "  sleep(randint(3,10))\n"
      ],
      "execution_count": null,
      "outputs": [
        {
          "output_type": "stream",
          "text": [
            "<Response [200]>\n",
            "<Response [200]>\n",
            "<Response [200]>\n",
            "<Response [200]>\n",
            "<Response [200]>\n",
            "<Response [200]>\n",
            "<Response [200]>\n",
            "<Response [200]>\n",
            "<Response [200]>\n",
            "<Response [200]>\n",
            "<Response [200]>\n",
            "<Response [200]>\n"
          ],
          "name": "stdout"
        }
      ]
    },
    {
      "cell_type": "code",
      "metadata": {
        "colab": {
          "base_uri": "https://localhost:8080/",
          "height": 143
        },
        "id": "bcpAMU3VvIoV",
        "outputId": "256eb215-1e2d-45bb-bd6e-9e689ed8b00b"
      },
      "source": [
        "#Printing dataframes inside list\n",
        "data[11].tail()"
      ],
      "execution_count": null,
      "outputs": [
        {
          "output_type": "execute_result",
          "data": {
            "text/html": [
              "<div>\n",
              "<style scoped>\n",
              "    .dataframe tbody tr th:only-of-type {\n",
              "        vertical-align: middle;\n",
              "    }\n",
              "\n",
              "    .dataframe tbody tr th {\n",
              "        vertical-align: top;\n",
              "    }\n",
              "\n",
              "    .dataframe thead th {\n",
              "        text-align: right;\n",
              "    }\n",
              "</style>\n",
              "<table border=\"1\" class=\"dataframe\">\n",
              "  <thead>\n",
              "    <tr style=\"text-align: right;\">\n",
              "      <th></th>\n",
              "      <th>date</th>\n",
              "      <th>name</th>\n",
              "      <th>location</th>\n",
              "      <th>price</th>\n",
              "      <th>rooms</th>\n",
              "      <th>bathrooms</th>\n",
              "      <th>sqr_meters</th>\n",
              "      <th>seller</th>\n",
              "    </tr>\n",
              "  </thead>\n",
              "  <tbody>\n",
              "    <tr>\n",
              "      <th>0</th>\n",
              "      <td>2020-10-29T00:00:00.000Z</td>\n",
              "      <td>Departamento en La Carolina</td>\n",
              "      <td>La Carolina, Iñaquito, Centro Norte, Quito, Pi...</td>\n",
              "      <td>$ 146.000</td>\n",
              "      <td>2 habitaciones</td>\n",
              "      <td>3 baños</td>\n",
              "      <td>86 m²</td>\n",
              "      <td>Goldman Propiedades</td>\n",
              "    </tr>\n",
              "    <tr>\n",
              "      <th>1</th>\n",
              "      <td>2020-09-08T00:00:00.000Z</td>\n",
              "      <td>Satori</td>\n",
              "      <td>La Carolina, Iñaquito, Centro Norte, Quito, Pi...</td>\n",
              "      <td>$ 221.426</td>\n",
              "      <td>3 habitaciones</td>\n",
              "      <td>3 baños</td>\n",
              "      <td>113 m²</td>\n",
              "      <td>Properati</td>\n",
              "    </tr>\n",
              "    <tr>\n",
              "      <th>2</th>\n",
              "      <td>2020-07-24T00:00:00.000Z</td>\n",
              "      <td>Milo´s House</td>\n",
              "      <td>La Carolina, Iñaquito, Centro Norte, Quito, Pi...</td>\n",
              "      <td>$ 179.530</td>\n",
              "      <td>3 habitaciones</td>\n",
              "      <td>3 baños</td>\n",
              "      <td>117 m²</td>\n",
              "      <td>Properati</td>\n",
              "    </tr>\n",
              "  </tbody>\n",
              "</table>\n",
              "</div>"
            ],
            "text/plain": [
              "                       date  ...               seller\n",
              "0  2020-10-29T00:00:00.000Z  ...  Goldman Propiedades\n",
              "1  2020-09-08T00:00:00.000Z  ...            Properati\n",
              "2  2020-07-24T00:00:00.000Z  ...            Properati\n",
              "\n",
              "[3 rows x 8 columns]"
            ]
          },
          "metadata": {
            "tags": []
          },
          "execution_count": 8
        }
      ]
    },
    {
      "cell_type": "code",
      "metadata": {
        "colab": {
          "base_uri": "https://localhost:8080/"
        },
        "id": "fn30qKwZlCLq",
        "outputId": "e1a930b3-244f-4979-de55-7e73860bec06"
      },
      "source": [
        "#Concatenating dataframes from list\n",
        "df1 = pd.concat(objs=[i for i in data], ignore_index=True)\n",
        "df1.shape"
      ],
      "execution_count": null,
      "outputs": [
        {
          "output_type": "execute_result",
          "data": {
            "text/plain": [
              "(333, 8)"
            ]
          },
          "metadata": {
            "tags": []
          },
          "execution_count": 10
        }
      ]
    },
    {
      "cell_type": "code",
      "metadata": {
        "id": "1wXsgb8cJZqF",
        "colab": {
          "base_uri": "https://localhost:8080/",
          "height": 17
        },
        "outputId": "226ac087-7556-419c-d118-a226ba78873b"
      },
      "source": [
        "#Exporting to excel into local disk\n",
        "from google.colab import files\n",
        "df1.to_excel('2021_07_17_la_carolina.xlsx', index=False) #==> Excluding index from file\n",
        "files.download('2021_07_17_la_carolina.xlsx')"
      ],
      "execution_count": null,
      "outputs": [
        {
          "output_type": "display_data",
          "data": {
            "application/javascript": [
              "\n",
              "    async function download(id, filename, size) {\n",
              "      if (!google.colab.kernel.accessAllowed) {\n",
              "        return;\n",
              "      }\n",
              "      const div = document.createElement('div');\n",
              "      const label = document.createElement('label');\n",
              "      label.textContent = `Downloading \"${filename}\": `;\n",
              "      div.appendChild(label);\n",
              "      const progress = document.createElement('progress');\n",
              "      progress.max = size;\n",
              "      div.appendChild(progress);\n",
              "      document.body.appendChild(div);\n",
              "\n",
              "      const buffers = [];\n",
              "      let downloaded = 0;\n",
              "\n",
              "      const channel = await google.colab.kernel.comms.open(id);\n",
              "      // Send a message to notify the kernel that we're ready.\n",
              "      channel.send({})\n",
              "\n",
              "      for await (const message of channel.messages) {\n",
              "        // Send a message to notify the kernel that we're ready.\n",
              "        channel.send({})\n",
              "        if (message.buffers) {\n",
              "          for (const buffer of message.buffers) {\n",
              "            buffers.push(buffer);\n",
              "            downloaded += buffer.byteLength;\n",
              "            progress.value = downloaded;\n",
              "          }\n",
              "        }\n",
              "      }\n",
              "      const blob = new Blob(buffers, {type: 'application/binary'});\n",
              "      const a = document.createElement('a');\n",
              "      a.href = window.URL.createObjectURL(blob);\n",
              "      a.download = filename;\n",
              "      div.appendChild(a);\n",
              "      a.click();\n",
              "      div.remove();\n",
              "    }\n",
              "  "
            ],
            "text/plain": [
              "<IPython.core.display.Javascript object>"
            ]
          },
          "metadata": {
            "tags": []
          }
        },
        {
          "output_type": "display_data",
          "data": {
            "application/javascript": [
              "download(\"download_48008830-369a-47ad-8360-828176c9a451\", \"2021_07_17_la_carolina.xlsx\", 18710)"
            ],
            "text/plain": [
              "<IPython.core.display.Javascript object>"
            ]
          },
          "metadata": {
            "tags": []
          }
        }
      ]
    },
    {
      "cell_type": "code",
      "metadata": {
        "id": "mP6gzRvOqDAU"
      },
      "source": [
        "#Exporting to excel into local disk\n",
        "from google.colab import files\n",
        "df2.to_excel('2021_07_17_bellavista.xlsx', index=False) #==> Excluding index from file\n",
        "files.download('2021_07_17_bellavista.xlsx')"
      ],
      "execution_count": null,
      "outputs": []
    },
    {
      "cell_type": "markdown",
      "metadata": {
        "id": "tqw9KPTaMUqA"
      },
      "source": [
        "##Data Cleaning"
      ]
    },
    {
      "cell_type": "code",
      "metadata": {
        "id": "bEZ1_KyKMXNw"
      },
      "source": [
        "#Importing necessary packages\n",
        "import numpy as np\n",
        "import pandas as pd"
      ],
      "execution_count": null,
      "outputs": []
    },
    {
      "cell_type": "code",
      "metadata": {
        "id": "vSOggGBTT1iG"
      },
      "source": [
        "#Remove previous versions of the uploaded file\n",
        "!rm 2021_07_17_la_carolina.xlsx"
      ],
      "execution_count": null,
      "outputs": []
    },
    {
      "cell_type": "code",
      "metadata": {
        "id": "oen97ED1-rh-",
        "colab": {
          "resources": {
            "http://localhost:8080/nbextensions/google.colab/files.js": {
              "data": "Ly8gQ29weXJpZ2h0IDIwMTcgR29vZ2xlIExMQwovLwovLyBMaWNlbnNlZCB1bmRlciB0aGUgQXBhY2hlIExpY2Vuc2UsIFZlcnNpb24gMi4wICh0aGUgIkxpY2Vuc2UiKTsKLy8geW91IG1heSBub3QgdXNlIHRoaXMgZmlsZSBleGNlcHQgaW4gY29tcGxpYW5jZSB3aXRoIHRoZSBMaWNlbnNlLgovLyBZb3UgbWF5IG9idGFpbiBhIGNvcHkgb2YgdGhlIExpY2Vuc2UgYXQKLy8KLy8gICAgICBodHRwOi8vd3d3LmFwYWNoZS5vcmcvbGljZW5zZXMvTElDRU5TRS0yLjAKLy8KLy8gVW5sZXNzIHJlcXVpcmVkIGJ5IGFwcGxpY2FibGUgbGF3IG9yIGFncmVlZCB0byBpbiB3cml0aW5nLCBzb2Z0d2FyZQovLyBkaXN0cmlidXRlZCB1bmRlciB0aGUgTGljZW5zZSBpcyBkaXN0cmlidXRlZCBvbiBhbiAiQVMgSVMiIEJBU0lTLAovLyBXSVRIT1VUIFdBUlJBTlRJRVMgT1IgQ09ORElUSU9OUyBPRiBBTlkgS0lORCwgZWl0aGVyIGV4cHJlc3Mgb3IgaW1wbGllZC4KLy8gU2VlIHRoZSBMaWNlbnNlIGZvciB0aGUgc3BlY2lmaWMgbGFuZ3VhZ2UgZ292ZXJuaW5nIHBlcm1pc3Npb25zIGFuZAovLyBsaW1pdGF0aW9ucyB1bmRlciB0aGUgTGljZW5zZS4KCi8qKgogKiBAZmlsZW92ZXJ2aWV3IEhlbHBlcnMgZm9yIGdvb2dsZS5jb2xhYiBQeXRob24gbW9kdWxlLgogKi8KKGZ1bmN0aW9uKHNjb3BlKSB7CmZ1bmN0aW9uIHNwYW4odGV4dCwgc3R5bGVBdHRyaWJ1dGVzID0ge30pIHsKICBjb25zdCBlbGVtZW50ID0gZG9jdW1lbnQuY3JlYXRlRWxlbWVudCgnc3BhbicpOwogIGVsZW1lbnQudGV4dENvbnRlbnQgPSB0ZXh0OwogIGZvciAoY29uc3Qga2V5IG9mIE9iamVjdC5rZXlzKHN0eWxlQXR0cmlidXRlcykpIHsKICAgIGVsZW1lbnQuc3R5bGVba2V5XSA9IHN0eWxlQXR0cmlidXRlc1trZXldOwogIH0KICByZXR1cm4gZWxlbWVudDsKfQoKLy8gTWF4IG51bWJlciBvZiBieXRlcyB3aGljaCB3aWxsIGJlIHVwbG9hZGVkIGF0IGEgdGltZS4KY29uc3QgTUFYX1BBWUxPQURfU0laRSA9IDEwMCAqIDEwMjQ7CgpmdW5jdGlvbiBfdXBsb2FkRmlsZXMoaW5wdXRJZCwgb3V0cHV0SWQpIHsKICBjb25zdCBzdGVwcyA9IHVwbG9hZEZpbGVzU3RlcChpbnB1dElkLCBvdXRwdXRJZCk7CiAgY29uc3Qgb3V0cHV0RWxlbWVudCA9IGRvY3VtZW50LmdldEVsZW1lbnRCeUlkKG91dHB1dElkKTsKICAvLyBDYWNoZSBzdGVwcyBvbiB0aGUgb3V0cHV0RWxlbWVudCB0byBtYWtlIGl0IGF2YWlsYWJsZSBmb3IgdGhlIG5leHQgY2FsbAogIC8vIHRvIHVwbG9hZEZpbGVzQ29udGludWUgZnJvbSBQeXRob24uCiAgb3V0cHV0RWxlbWVudC5zdGVwcyA9IHN0ZXBzOwoKICByZXR1cm4gX3VwbG9hZEZpbGVzQ29udGludWUob3V0cHV0SWQpOwp9CgovLyBUaGlzIGlzIHJvdWdobHkgYW4gYXN5bmMgZ2VuZXJhdG9yIChub3Qgc3VwcG9ydGVkIGluIHRoZSBicm93c2VyIHlldCksCi8vIHdoZXJlIHRoZXJlIGFyZSBtdWx0aXBsZSBhc3luY2hyb25vdXMgc3RlcHMgYW5kIHRoZSBQeXRob24gc2lkZSBpcyBnb2luZwovLyB0byBwb2xsIGZvciBjb21wbGV0aW9uIG9mIGVhY2ggc3RlcC4KLy8gVGhpcyB1c2VzIGEgUHJvbWlzZSB0byBibG9jayB0aGUgcHl0aG9uIHNpZGUgb24gY29tcGxldGlvbiBvZiBlYWNoIHN0ZXAsCi8vIHRoZW4gcGFzc2VzIHRoZSByZXN1bHQgb2YgdGhlIHByZXZpb3VzIHN0ZXAgYXMgdGhlIGlucHV0IHRvIHRoZSBuZXh0IHN0ZXAuCmZ1bmN0aW9uIF91cGxvYWRGaWxlc0NvbnRpbnVlKG91dHB1dElkKSB7CiAgY29uc3Qgb3V0cHV0RWxlbWVudCA9IGRvY3VtZW50LmdldEVsZW1lbnRCeUlkKG91dHB1dElkKTsKICBjb25zdCBzdGVwcyA9IG91dHB1dEVsZW1lbnQuc3RlcHM7CgogIGNvbnN0IG5leHQgPSBzdGVwcy5uZXh0KG91dHB1dEVsZW1lbnQubGFzdFByb21pc2VWYWx1ZSk7CiAgcmV0dXJuIFByb21pc2UucmVzb2x2ZShuZXh0LnZhbHVlLnByb21pc2UpLnRoZW4oKHZhbHVlKSA9PiB7CiAgICAvLyBDYWNoZSB0aGUgbGFzdCBwcm9taXNlIHZhbHVlIHRvIG1ha2UgaXQgYXZhaWxhYmxlIHRvIHRoZSBuZXh0CiAgICAvLyBzdGVwIG9mIHRoZSBnZW5lcmF0b3IuCiAgICBvdXRwdXRFbGVtZW50Lmxhc3RQcm9taXNlVmFsdWUgPSB2YWx1ZTsKICAgIHJldHVybiBuZXh0LnZhbHVlLnJlc3BvbnNlOwogIH0pOwp9CgovKioKICogR2VuZXJhdG9yIGZ1bmN0aW9uIHdoaWNoIGlzIGNhbGxlZCBiZXR3ZWVuIGVhY2ggYXN5bmMgc3RlcCBvZiB0aGUgdXBsb2FkCiAqIHByb2Nlc3MuCiAqIEBwYXJhbSB7c3RyaW5nfSBpbnB1dElkIEVsZW1lbnQgSUQgb2YgdGhlIGlucHV0IGZpbGUgcGlja2VyIGVsZW1lbnQuCiAqIEBwYXJhbSB7c3RyaW5nfSBvdXRwdXRJZCBFbGVtZW50IElEIG9mIHRoZSBvdXRwdXQgZGlzcGxheS4KICogQHJldHVybiB7IUl0ZXJhYmxlPCFPYmplY3Q+fSBJdGVyYWJsZSBvZiBuZXh0IHN0ZXBzLgogKi8KZnVuY3Rpb24qIHVwbG9hZEZpbGVzU3RlcChpbnB1dElkLCBvdXRwdXRJZCkgewogIGNvbnN0IGlucHV0RWxlbWVudCA9IGRvY3VtZW50LmdldEVsZW1lbnRCeUlkKGlucHV0SWQpOwogIGlucHV0RWxlbWVudC5kaXNhYmxlZCA9IGZhbHNlOwoKICBjb25zdCBvdXRwdXRFbGVtZW50ID0gZG9jdW1lbnQuZ2V0RWxlbWVudEJ5SWQob3V0cHV0SWQpOwogIG91dHB1dEVsZW1lbnQuaW5uZXJIVE1MID0gJyc7CgogIGNvbnN0IHBpY2tlZFByb21pc2UgPSBuZXcgUHJvbWlzZSgocmVzb2x2ZSkgPT4gewogICAgaW5wdXRFbGVtZW50LmFkZEV2ZW50TGlzdGVuZXIoJ2NoYW5nZScsIChlKSA9PiB7CiAgICAgIHJlc29sdmUoZS50YXJnZXQuZmlsZXMpOwogICAgfSk7CiAgfSk7CgogIGNvbnN0IGNhbmNlbCA9IGRvY3VtZW50LmNyZWF0ZUVsZW1lbnQoJ2J1dHRvbicpOwogIGlucHV0RWxlbWVudC5wYXJlbnRFbGVtZW50LmFwcGVuZENoaWxkKGNhbmNlbCk7CiAgY2FuY2VsLnRleHRDb250ZW50ID0gJ0NhbmNlbCB1cGxvYWQnOwogIGNvbnN0IGNhbmNlbFByb21pc2UgPSBuZXcgUHJvbWlzZSgocmVzb2x2ZSkgPT4gewogICAgY2FuY2VsLm9uY2xpY2sgPSAoKSA9PiB7CiAgICAgIHJlc29sdmUobnVsbCk7CiAgICB9OwogIH0pOwoKICAvLyBXYWl0IGZvciB0aGUgdXNlciB0byBwaWNrIHRoZSBmaWxlcy4KICBjb25zdCBmaWxlcyA9IHlpZWxkIHsKICAgIHByb21pc2U6IFByb21pc2UucmFjZShbcGlja2VkUHJvbWlzZSwgY2FuY2VsUHJvbWlzZV0pLAogICAgcmVzcG9uc2U6IHsKICAgICAgYWN0aW9uOiAnc3RhcnRpbmcnLAogICAgfQogIH07CgogIGNhbmNlbC5yZW1vdmUoKTsKCiAgLy8gRGlzYWJsZSB0aGUgaW5wdXQgZWxlbWVudCBzaW5jZSBmdXJ0aGVyIHBpY2tzIGFyZSBub3QgYWxsb3dlZC4KICBpbnB1dEVsZW1lbnQuZGlzYWJsZWQgPSB0cnVlOwoKICBpZiAoIWZpbGVzKSB7CiAgICByZXR1cm4gewogICAgICByZXNwb25zZTogewogICAgICAgIGFjdGlvbjogJ2NvbXBsZXRlJywKICAgICAgfQogICAgfTsKICB9CgogIGZvciAoY29uc3QgZmlsZSBvZiBmaWxlcykgewogICAgY29uc3QgbGkgPSBkb2N1bWVudC5jcmVhdGVFbGVtZW50KCdsaScpOwogICAgbGkuYXBwZW5kKHNwYW4oZmlsZS5uYW1lLCB7Zm9udFdlaWdodDogJ2JvbGQnfSkpOwogICAgbGkuYXBwZW5kKHNwYW4oCiAgICAgICAgYCgke2ZpbGUudHlwZSB8fCAnbi9hJ30pIC0gJHtmaWxlLnNpemV9IGJ5dGVzLCBgICsKICAgICAgICBgbGFzdCBtb2RpZmllZDogJHsKICAgICAgICAgICAgZmlsZS5sYXN0TW9kaWZpZWREYXRlID8gZmlsZS5sYXN0TW9kaWZpZWREYXRlLnRvTG9jYWxlRGF0ZVN0cmluZygpIDoKICAgICAgICAgICAgICAgICAgICAgICAgICAgICAgICAgICAgJ24vYSd9IC0gYCkpOwogICAgY29uc3QgcGVyY2VudCA9IHNwYW4oJzAlIGRvbmUnKTsKICAgIGxpLmFwcGVuZENoaWxkKHBlcmNlbnQpOwoKICAgIG91dHB1dEVsZW1lbnQuYXBwZW5kQ2hpbGQobGkpOwoKICAgIGNvbnN0IGZpbGVEYXRhUHJvbWlzZSA9IG5ldyBQcm9taXNlKChyZXNvbHZlKSA9PiB7CiAgICAgIGNvbnN0IHJlYWRlciA9IG5ldyBGaWxlUmVhZGVyKCk7CiAgICAgIHJlYWRlci5vbmxvYWQgPSAoZSkgPT4gewogICAgICAgIHJlc29sdmUoZS50YXJnZXQucmVzdWx0KTsKICAgICAgfTsKICAgICAgcmVhZGVyLnJlYWRBc0FycmF5QnVmZmVyKGZpbGUpOwogICAgfSk7CiAgICAvLyBXYWl0IGZvciB0aGUgZGF0YSB0byBiZSByZWFkeS4KICAgIGxldCBmaWxlRGF0YSA9IHlpZWxkIHsKICAgICAgcHJvbWlzZTogZmlsZURhdGFQcm9taXNlLAogICAgICByZXNwb25zZTogewogICAgICAgIGFjdGlvbjogJ2NvbnRpbnVlJywKICAgICAgfQogICAgfTsKCiAgICAvLyBVc2UgYSBjaHVua2VkIHNlbmRpbmcgdG8gYXZvaWQgbWVzc2FnZSBzaXplIGxpbWl0cy4gU2VlIGIvNjIxMTU2NjAuCiAgICBsZXQgcG9zaXRpb24gPSAwOwogICAgZG8gewogICAgICBjb25zdCBsZW5ndGggPSBNYXRoLm1pbihmaWxlRGF0YS5ieXRlTGVuZ3RoIC0gcG9zaXRpb24sIE1BWF9QQVlMT0FEX1NJWkUpOwogICAgICBjb25zdCBjaHVuayA9IG5ldyBVaW50OEFycmF5KGZpbGVEYXRhLCBwb3NpdGlvbiwgbGVuZ3RoKTsKICAgICAgcG9zaXRpb24gKz0gbGVuZ3RoOwoKICAgICAgY29uc3QgYmFzZTY0ID0gYnRvYShTdHJpbmcuZnJvbUNoYXJDb2RlLmFwcGx5KG51bGwsIGNodW5rKSk7CiAgICAgIHlpZWxkIHsKICAgICAgICByZXNwb25zZTogewogICAgICAgICAgYWN0aW9uOiAnYXBwZW5kJywKICAgICAgICAgIGZpbGU6IGZpbGUubmFtZSwKICAgICAgICAgIGRhdGE6IGJhc2U2NCwKICAgICAgICB9LAogICAgICB9OwoKICAgICAgbGV0IHBlcmNlbnREb25lID0gZmlsZURhdGEuYnl0ZUxlbmd0aCA9PT0gMCA/CiAgICAgICAgICAxMDAgOgogICAgICAgICAgTWF0aC5yb3VuZCgocG9zaXRpb24gLyBmaWxlRGF0YS5ieXRlTGVuZ3RoKSAqIDEwMCk7CiAgICAgIHBlcmNlbnQudGV4dENvbnRlbnQgPSBgJHtwZXJjZW50RG9uZX0lIGRvbmVgOwoKICAgIH0gd2hpbGUgKHBvc2l0aW9uIDwgZmlsZURhdGEuYnl0ZUxlbmd0aCk7CiAgfQoKICAvLyBBbGwgZG9uZS4KICB5aWVsZCB7CiAgICByZXNwb25zZTogewogICAgICBhY3Rpb246ICdjb21wbGV0ZScsCiAgICB9CiAgfTsKfQoKc2NvcGUuZ29vZ2xlID0gc2NvcGUuZ29vZ2xlIHx8IHt9OwpzY29wZS5nb29nbGUuY29sYWIgPSBzY29wZS5nb29nbGUuY29sYWIgfHwge307CnNjb3BlLmdvb2dsZS5jb2xhYi5fZmlsZXMgPSB7CiAgX3VwbG9hZEZpbGVzLAogIF91cGxvYWRGaWxlc0NvbnRpbnVlLAp9Owp9KShzZWxmKTsK",
              "ok": true,
              "headers": [
                [
                  "content-type",
                  "application/javascript"
                ]
              ],
              "status": 200,
              "status_text": ""
            }
          },
          "base_uri": "https://localhost:8080/",
          "height": 73
        },
        "outputId": "3ac3d10a-d8b6-4a29-b9b9-b7855e0f6dee"
      },
      "source": [
        "#Uploading file from local drive\n",
        "from google.colab import files\n",
        "uploaded1 = files.upload()"
      ],
      "execution_count": null,
      "outputs": [
        {
          "output_type": "display_data",
          "data": {
            "text/html": [
              "\n",
              "     <input type=\"file\" id=\"files-02f39a72-7c8e-4cd0-80e4-299727058886\" name=\"files[]\" multiple disabled\n",
              "        style=\"border:none\" />\n",
              "     <output id=\"result-02f39a72-7c8e-4cd0-80e4-299727058886\">\n",
              "      Upload widget is only available when the cell has been executed in the\n",
              "      current browser session. Please rerun this cell to enable.\n",
              "      </output>\n",
              "      <script src=\"/nbextensions/google.colab/files.js\"></script> "
            ],
            "text/plain": [
              "<IPython.core.display.HTML object>"
            ]
          },
          "metadata": {
            "tags": []
          }
        },
        {
          "output_type": "stream",
          "text": [
            "Saving 2021_07_17_la_carolina.xlsx to 2021_07_17_la_carolina.xlsx\n"
          ],
          "name": "stdout"
        }
      ]
    },
    {
      "cell_type": "code",
      "metadata": {
        "id": "03VoNwL0-3O6"
      },
      "source": [
        "#Storing dataset in a Pandas Dataframe\n",
        "import io\n",
        "df1 = pd.read_excel(io.BytesIO(uploaded1['2021_07_17_la_carolina.xlsx']), parse_dates=True)"
      ],
      "execution_count": null,
      "outputs": []
    },
    {
      "cell_type": "code",
      "metadata": {
        "id": "6wPknHC-JSRB",
        "colab": {
          "base_uri": "https://localhost:8080/"
        },
        "outputId": "d9a3132e-1fb3-4e26-b00c-9bc3d429e288"
      },
      "source": [
        "#Checking the dataframe information\n",
        "df1.info()"
      ],
      "execution_count": null,
      "outputs": [
        {
          "output_type": "stream",
          "text": [
            "<class 'pandas.core.frame.DataFrame'>\n",
            "RangeIndex: 333 entries, 0 to 332\n",
            "Data columns (total 8 columns):\n",
            " #   Column      Non-Null Count  Dtype \n",
            "---  ------      --------------  ----- \n",
            " 0   date        333 non-null    object\n",
            " 1   name        333 non-null    object\n",
            " 2   location    333 non-null    object\n",
            " 3   price       333 non-null    object\n",
            " 4   rooms       333 non-null    object\n",
            " 5   bathrooms   333 non-null    object\n",
            " 6   sqr_meters  333 non-null    object\n",
            " 7   seller      333 non-null    object\n",
            "dtypes: object(8)\n",
            "memory usage: 20.9+ KB\n"
          ],
          "name": "stdout"
        }
      ]
    },
    {
      "cell_type": "code",
      "metadata": {
        "colab": {
          "base_uri": "https://localhost:8080/",
          "height": 205
        },
        "id": "6F0h6WY1NIXl",
        "outputId": "9e09b385-83dd-47b2-ce53-6b61089ed187"
      },
      "source": [
        "#Checking the dataframe tail\n",
        "df1.tail()"
      ],
      "execution_count": null,
      "outputs": [
        {
          "output_type": "execute_result",
          "data": {
            "text/html": [
              "<div>\n",
              "<style scoped>\n",
              "    .dataframe tbody tr th:only-of-type {\n",
              "        vertical-align: middle;\n",
              "    }\n",
              "\n",
              "    .dataframe tbody tr th {\n",
              "        vertical-align: top;\n",
              "    }\n",
              "\n",
              "    .dataframe thead th {\n",
              "        text-align: right;\n",
              "    }\n",
              "</style>\n",
              "<table border=\"1\" class=\"dataframe\">\n",
              "  <thead>\n",
              "    <tr style=\"text-align: right;\">\n",
              "      <th></th>\n",
              "      <th>date</th>\n",
              "      <th>name</th>\n",
              "      <th>location</th>\n",
              "      <th>price</th>\n",
              "      <th>rooms</th>\n",
              "      <th>bathrooms</th>\n",
              "      <th>sqr_meters</th>\n",
              "      <th>seller</th>\n",
              "    </tr>\n",
              "  </thead>\n",
              "  <tbody>\n",
              "    <tr>\n",
              "      <th>328</th>\n",
              "      <td>2020-10-29T00:00:00.000Z</td>\n",
              "      <td>Departamento en La Carolina</td>\n",
              "      <td>La Carolina, Iñaquito, Centro Norte, Quito, Pi...</td>\n",
              "      <td>$ 155.000</td>\n",
              "      <td>3 habitaciones</td>\n",
              "      <td>3 baños</td>\n",
              "      <td>121 m²</td>\n",
              "      <td>Genma Cabezas</td>\n",
              "    </tr>\n",
              "    <tr>\n",
              "      <th>329</th>\n",
              "      <td>2020-10-29T00:00:00.000Z</td>\n",
              "      <td>Departamento en La Carolina</td>\n",
              "      <td>La Carolina, Iñaquito, Centro Norte, Quito, Pi...</td>\n",
              "      <td>$ 99.000</td>\n",
              "      <td>3 habitaciones</td>\n",
              "      <td>2 baños</td>\n",
              "      <td>76 m²</td>\n",
              "      <td>Goldman Propiedades</td>\n",
              "    </tr>\n",
              "    <tr>\n",
              "      <th>330</th>\n",
              "      <td>2020-10-29T00:00:00.000Z</td>\n",
              "      <td>Departamento en La Carolina</td>\n",
              "      <td>La Carolina, Iñaquito, Centro Norte, Quito, Pi...</td>\n",
              "      <td>$ 146.000</td>\n",
              "      <td>2 habitaciones</td>\n",
              "      <td>3 baños</td>\n",
              "      <td>86 m²</td>\n",
              "      <td>Goldman Propiedades</td>\n",
              "    </tr>\n",
              "    <tr>\n",
              "      <th>331</th>\n",
              "      <td>2020-09-08T00:00:00.000Z</td>\n",
              "      <td>Satori</td>\n",
              "      <td>La Carolina, Iñaquito, Centro Norte, Quito, Pi...</td>\n",
              "      <td>$ 221.426</td>\n",
              "      <td>3 habitaciones</td>\n",
              "      <td>3 baños</td>\n",
              "      <td>113 m²</td>\n",
              "      <td>Properati</td>\n",
              "    </tr>\n",
              "    <tr>\n",
              "      <th>332</th>\n",
              "      <td>2020-07-24T00:00:00.000Z</td>\n",
              "      <td>Milo´s House</td>\n",
              "      <td>La Carolina, Iñaquito, Centro Norte, Quito, Pi...</td>\n",
              "      <td>$ 179.530</td>\n",
              "      <td>3 habitaciones</td>\n",
              "      <td>3 baños</td>\n",
              "      <td>117 m²</td>\n",
              "      <td>Properati</td>\n",
              "    </tr>\n",
              "  </tbody>\n",
              "</table>\n",
              "</div>"
            ],
            "text/plain": [
              "                         date  ...               seller\n",
              "328  2020-10-29T00:00:00.000Z  ...        Genma Cabezas\n",
              "329  2020-10-29T00:00:00.000Z  ...  Goldman Propiedades\n",
              "330  2020-10-29T00:00:00.000Z  ...  Goldman Propiedades\n",
              "331  2020-09-08T00:00:00.000Z  ...            Properati\n",
              "332  2020-07-24T00:00:00.000Z  ...            Properati\n",
              "\n",
              "[5 rows x 8 columns]"
            ]
          },
          "metadata": {
            "tags": []
          },
          "execution_count": 6
        }
      ]
    },
    {
      "cell_type": "code",
      "metadata": {
        "id": "_CHIjKkAipPU"
      },
      "source": [
        "#Converting date column to datetime\n",
        "df1['date'] = pd.to_datetime(df1['date'], format='%Y-%m-%d %H:%M:%S').dt.tz_convert('America/Guayaquil')"
      ],
      "execution_count": null,
      "outputs": []
    },
    {
      "cell_type": "code",
      "metadata": {
        "id": "yPFouV3xsc-t"
      },
      "source": [
        "#Extracting city and zone from location\n",
        "df1['city'] = [i[3].strip() for i in df1['location'].str.split(',')]\n",
        "df1['zone'] = [i[0].strip() for i in df1['location'].str.split(',')]"
      ],
      "execution_count": null,
      "outputs": []
    },
    {
      "cell_type": "code",
      "metadata": {
        "id": "igH_4EZylSD0"
      },
      "source": [
        "#Eliminating $ and . from price and convert to int\n",
        "df1['price'] = df1['price'].str.replace('\\$*\\.*', '', regex=True)\n",
        "df1['price'] = df1['price'].astype(int)"
      ],
      "execution_count": null,
      "outputs": []
    },
    {
      "cell_type": "code",
      "metadata": {
        "id": "5pvs0cNtpSGH"
      },
      "source": [
        "#Converting number of rooms to int\n",
        "df1['rooms'] = [i[0].strip() for i in df1['rooms'].str.split(' ')]\n",
        "df1['rooms'] = df1['rooms'].astype(int)"
      ],
      "execution_count": null,
      "outputs": []
    },
    {
      "cell_type": "code",
      "metadata": {
        "id": "rKFLSn6rqB6N"
      },
      "source": [
        "#Converting bathrooms to int\n",
        "df1['bathrooms'] = [i[0].strip() for i in df1['bathrooms'].str.split(' ')]\n",
        "df1['bathrooms'] = df1['bathrooms'].astype(int)"
      ],
      "execution_count": null,
      "outputs": []
    },
    {
      "cell_type": "code",
      "metadata": {
        "id": "3hlh58cKqozP"
      },
      "source": [
        "#Converting square meters to int\n",
        "df1['sqr_meters'] = [i[0].strip() for i in df1['sqr_meters'].str.split(' ')]\n",
        "df1['sqr_meters'] = df1['sqr_meters'].astype(int)"
      ],
      "execution_count": null,
      "outputs": []
    },
    {
      "cell_type": "code",
      "metadata": {
        "colab": {
          "base_uri": "https://localhost:8080/"
        },
        "id": "sY0ZsPApy8ts",
        "outputId": "d71d8541-76bd-4835-903d-b4a009e1320b"
      },
      "source": [
        "#Checking unique values for square meters\n",
        "df1['sqr_meters'].unique()"
      ],
      "execution_count": null,
      "outputs": [
        {
          "output_type": "execute_result",
          "data": {
            "text/plain": [
              "array([ 56,  85,  90, 113,  54,  77, 145,  84,  81, 111,  76,  67, 103,\n",
              "        60, 128, 109,  70, 102, 117, 133,  63,  94,  80,  52, 100,  68,\n",
              "        82,  97,  91,  65,  72,  55,  92,  95, 135,  75, 150,  57,  89,\n",
              "       124, 129, 114,  59,  74,  61, 106, 127,  58, 120, 148,  66,  62,\n",
              "       112, 140,  98,  93, 116,  69, 137,  64,  73, 142,  87,  88,  50,\n",
              "       107, 118, 115, 104, 110,  86,  78,  79,  83, 130, 132,  71, 105,\n",
              "       147, 126,  51, 123, 121, 108,  96, 122, 101, 125])"
            ]
          },
          "metadata": {
            "tags": []
          },
          "execution_count": 22
        }
      ]
    },
    {
      "cell_type": "code",
      "metadata": {
        "id": "5SMyB5n_q4DW"
      },
      "source": [
        "#Converting sellers to title case\n",
        "df1['seller'] = df1['seller'].str.title()"
      ],
      "execution_count": null,
      "outputs": []
    },
    {
      "cell_type": "code",
      "metadata": {
        "id": "HPTfSQop0WW1"
      },
      "source": [
        "#Rearranging order of columns\n",
        "df1 = df1[['date', 'city', 'zone', 'name', 'seller', 'sqr_meters', 'rooms', 'bathrooms', 'price']]"
      ],
      "execution_count": null,
      "outputs": []
    },
    {
      "cell_type": "code",
      "metadata": {
        "colab": {
          "base_uri": "https://localhost:8080/",
          "height": 205
        },
        "id": "bVeYEcAgnvFX",
        "outputId": "0791b6e8-5d72-4383-cba6-8d830a3e9221"
      },
      "source": [
        "#Checking the dataframe tail\n",
        "df1.tail()"
      ],
      "execution_count": null,
      "outputs": [
        {
          "output_type": "execute_result",
          "data": {
            "text/html": [
              "<div>\n",
              "<style scoped>\n",
              "    .dataframe tbody tr th:only-of-type {\n",
              "        vertical-align: middle;\n",
              "    }\n",
              "\n",
              "    .dataframe tbody tr th {\n",
              "        vertical-align: top;\n",
              "    }\n",
              "\n",
              "    .dataframe thead th {\n",
              "        text-align: right;\n",
              "    }\n",
              "</style>\n",
              "<table border=\"1\" class=\"dataframe\">\n",
              "  <thead>\n",
              "    <tr style=\"text-align: right;\">\n",
              "      <th></th>\n",
              "      <th>date</th>\n",
              "      <th>city</th>\n",
              "      <th>zone</th>\n",
              "      <th>name</th>\n",
              "      <th>seller</th>\n",
              "      <th>sqr_meters</th>\n",
              "      <th>rooms</th>\n",
              "      <th>bathrooms</th>\n",
              "      <th>price</th>\n",
              "    </tr>\n",
              "  </thead>\n",
              "  <tbody>\n",
              "    <tr>\n",
              "      <th>328</th>\n",
              "      <td>2020-10-28 19:00:00-05:00</td>\n",
              "      <td>Quito</td>\n",
              "      <td>La Carolina</td>\n",
              "      <td>Departamento en La Carolina</td>\n",
              "      <td>Genma Cabezas</td>\n",
              "      <td>121</td>\n",
              "      <td>3</td>\n",
              "      <td>3</td>\n",
              "      <td>155000</td>\n",
              "    </tr>\n",
              "    <tr>\n",
              "      <th>329</th>\n",
              "      <td>2020-10-28 19:00:00-05:00</td>\n",
              "      <td>Quito</td>\n",
              "      <td>La Carolina</td>\n",
              "      <td>Departamento en La Carolina</td>\n",
              "      <td>Goldman Propiedades</td>\n",
              "      <td>76</td>\n",
              "      <td>3</td>\n",
              "      <td>2</td>\n",
              "      <td>99000</td>\n",
              "    </tr>\n",
              "    <tr>\n",
              "      <th>330</th>\n",
              "      <td>2020-10-28 19:00:00-05:00</td>\n",
              "      <td>Quito</td>\n",
              "      <td>La Carolina</td>\n",
              "      <td>Departamento en La Carolina</td>\n",
              "      <td>Goldman Propiedades</td>\n",
              "      <td>86</td>\n",
              "      <td>2</td>\n",
              "      <td>3</td>\n",
              "      <td>146000</td>\n",
              "    </tr>\n",
              "    <tr>\n",
              "      <th>331</th>\n",
              "      <td>2020-09-07 19:00:00-05:00</td>\n",
              "      <td>Quito</td>\n",
              "      <td>La Carolina</td>\n",
              "      <td>Satori</td>\n",
              "      <td>Properati</td>\n",
              "      <td>113</td>\n",
              "      <td>3</td>\n",
              "      <td>3</td>\n",
              "      <td>221426</td>\n",
              "    </tr>\n",
              "    <tr>\n",
              "      <th>332</th>\n",
              "      <td>2020-07-23 19:00:00-05:00</td>\n",
              "      <td>Quito</td>\n",
              "      <td>La Carolina</td>\n",
              "      <td>Milo´s House</td>\n",
              "      <td>Properati</td>\n",
              "      <td>117</td>\n",
              "      <td>3</td>\n",
              "      <td>3</td>\n",
              "      <td>179530</td>\n",
              "    </tr>\n",
              "  </tbody>\n",
              "</table>\n",
              "</div>"
            ],
            "text/plain": [
              "                         date   city         zone  ... rooms bathrooms   price\n",
              "328 2020-10-28 19:00:00-05:00  Quito  La Carolina  ...     3         3  155000\n",
              "329 2020-10-28 19:00:00-05:00  Quito  La Carolina  ...     3         2   99000\n",
              "330 2020-10-28 19:00:00-05:00  Quito  La Carolina  ...     2         3  146000\n",
              "331 2020-09-07 19:00:00-05:00  Quito  La Carolina  ...     3         3  221426\n",
              "332 2020-07-23 19:00:00-05:00  Quito  La Carolina  ...     3         3  179530\n",
              "\n",
              "[5 rows x 9 columns]"
            ]
          },
          "metadata": {
            "tags": []
          },
          "execution_count": 25
        }
      ]
    },
    {
      "cell_type": "code",
      "metadata": {
        "colab": {
          "base_uri": "https://localhost:8080/"
        },
        "id": "iqH8ggpZk8UJ",
        "outputId": "732ce82c-ac17-4aa2-f5c4-628bb0ed08e6"
      },
      "source": [
        "#Checking the dataframe info\n",
        "df1.info()"
      ],
      "execution_count": null,
      "outputs": [
        {
          "output_type": "stream",
          "text": [
            "<class 'pandas.core.frame.DataFrame'>\n",
            "RangeIndex: 333 entries, 0 to 332\n",
            "Data columns (total 9 columns):\n",
            " #   Column      Non-Null Count  Dtype                            \n",
            "---  ------      --------------  -----                            \n",
            " 0   date        333 non-null    datetime64[ns, America/Guayaquil]\n",
            " 1   city        333 non-null    object                           \n",
            " 2   zone        333 non-null    object                           \n",
            " 3   name        333 non-null    object                           \n",
            " 4   seller      333 non-null    object                           \n",
            " 5   sqr_meters  333 non-null    int64                            \n",
            " 6   rooms       333 non-null    int64                            \n",
            " 7   bathrooms   333 non-null    int64                            \n",
            " 8   price       333 non-null    int64                            \n",
            "dtypes: datetime64[ns, America/Guayaquil](1), int64(4), object(4)\n",
            "memory usage: 23.5+ KB\n"
          ],
          "name": "stdout"
        }
      ]
    },
    {
      "cell_type": "code",
      "metadata": {
        "colab": {
          "base_uri": "https://localhost:8080/",
          "height": 17
        },
        "id": "6eBeWtc8rTTo",
        "outputId": "8225dabb-9b73-4171-c86d-8eb7f6cf9a47"
      },
      "source": [
        "#Exporting to excel into local disk\n",
        "from google.colab import files\n",
        "df1.to_csv('2021_07_17_la_carolina.csv', index=False) #==> Excluding index from file\n",
        "files.download('2021_07_17_la_carolina.csv')"
      ],
      "execution_count": null,
      "outputs": [
        {
          "output_type": "display_data",
          "data": {
            "application/javascript": [
              "\n",
              "    async function download(id, filename, size) {\n",
              "      if (!google.colab.kernel.accessAllowed) {\n",
              "        return;\n",
              "      }\n",
              "      const div = document.createElement('div');\n",
              "      const label = document.createElement('label');\n",
              "      label.textContent = `Downloading \"${filename}\": `;\n",
              "      div.appendChild(label);\n",
              "      const progress = document.createElement('progress');\n",
              "      progress.max = size;\n",
              "      div.appendChild(progress);\n",
              "      document.body.appendChild(div);\n",
              "\n",
              "      const buffers = [];\n",
              "      let downloaded = 0;\n",
              "\n",
              "      const channel = await google.colab.kernel.comms.open(id);\n",
              "      // Send a message to notify the kernel that we're ready.\n",
              "      channel.send({})\n",
              "\n",
              "      for await (const message of channel.messages) {\n",
              "        // Send a message to notify the kernel that we're ready.\n",
              "        channel.send({})\n",
              "        if (message.buffers) {\n",
              "          for (const buffer of message.buffers) {\n",
              "            buffers.push(buffer);\n",
              "            downloaded += buffer.byteLength;\n",
              "            progress.value = downloaded;\n",
              "          }\n",
              "        }\n",
              "      }\n",
              "      const blob = new Blob(buffers, {type: 'application/binary'});\n",
              "      const a = document.createElement('a');\n",
              "      a.href = window.URL.createObjectURL(blob);\n",
              "      a.download = filename;\n",
              "      div.appendChild(a);\n",
              "      a.click();\n",
              "      div.remove();\n",
              "    }\n",
              "  "
            ],
            "text/plain": [
              "<IPython.core.display.Javascript object>"
            ]
          },
          "metadata": {
            "tags": []
          }
        },
        {
          "output_type": "display_data",
          "data": {
            "application/javascript": [
              "download(\"download_802d00c6-a82d-4de2-b66c-46def6b19bb9\", \"2021_07_17_la_carolina.csv\", 34976)"
            ],
            "text/plain": [
              "<IPython.core.display.Javascript object>"
            ]
          },
          "metadata": {
            "tags": []
          }
        }
      ]
    },
    {
      "cell_type": "markdown",
      "metadata": {
        "id": "B6KXezvl3NYT"
      },
      "source": [
        "##Apartments EDA"
      ]
    },
    {
      "cell_type": "code",
      "metadata": {
        "id": "XvLR8_0R3PuK"
      },
      "source": [
        "#Plotly --upgrade\n",
        "!pip install plotly --upgrade"
      ],
      "execution_count": null,
      "outputs": []
    },
    {
      "cell_type": "code",
      "metadata": {
        "id": "JB-6dnHj1Ubs"
      },
      "source": [
        "#Removing previous versions of the file\n",
        "!rm 2021_07_17_la_carolina.csv"
      ],
      "execution_count": null,
      "outputs": []
    },
    {
      "cell_type": "code",
      "metadata": {
        "id": "Co-L_mgA3TgY"
      },
      "source": [
        "#Importing necessary packages\n",
        "import numpy as np\n",
        "import pandas as pd\n",
        "import matplotlib.pyplot as plt\n",
        "from ipywidgets import interact\n",
        "import seaborn as sns\n",
        "import plotly.express as px"
      ],
      "execution_count": 14,
      "outputs": []
    },
    {
      "cell_type": "code",
      "metadata": {
        "id": "3ay31rast-Hy"
      },
      "source": [
        "#Customizing data visualization style\n",
        "sns.set_theme(rc = {'figure.figsize': (8, 4)})"
      ],
      "execution_count": null,
      "outputs": []
    },
    {
      "cell_type": "code",
      "metadata": {
        "colab": {
          "resources": {
            "http://localhost:8080/nbextensions/google.colab/files.js": {
              "data": "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",
              "ok": true,
              "headers": [
                [
                  "content-type",
                  "application/javascript"
                ]
              ],
              "status": 200,
              "status_text": ""
            }
          },
          "base_uri": "https://localhost:8080/",
          "height": 73
        },
        "id": "a0FV8-d6sfr8",
        "outputId": "007a436a-c426-45b3-cb88-e587133d3c6e"
      },
      "source": [
        "#Uploading file from local drive\n",
        "from google.colab import files\n",
        "uploaded1 = files.upload()"
      ],
      "execution_count": null,
      "outputs": [
        {
          "output_type": "display_data",
          "data": {
            "text/html": [
              "\n",
              "     <input type=\"file\" id=\"files-ec7d7c5b-5119-4730-a6e6-9ca7b9af335e\" name=\"files[]\" multiple disabled\n",
              "        style=\"border:none\" />\n",
              "     <output id=\"result-ec7d7c5b-5119-4730-a6e6-9ca7b9af335e\">\n",
              "      Upload widget is only available when the cell has been executed in the\n",
              "      current browser session. Please rerun this cell to enable.\n",
              "      </output>\n",
              "      <script src=\"/nbextensions/google.colab/files.js\"></script> "
            ],
            "text/plain": [
              "<IPython.core.display.HTML object>"
            ]
          },
          "metadata": {
            "tags": []
          }
        },
        {
          "output_type": "stream",
          "text": [
            "Saving 2021_07_17_la_carolina.csv to 2021_07_17_la_carolina.csv\n"
          ],
          "name": "stdout"
        }
      ]
    },
    {
      "cell_type": "code",
      "metadata": {
        "id": "5wY2N2nMsmax"
      },
      "source": [
        "#Storing dataset in a Pandas Dataframe\n",
        "import io\n",
        "df1 = pd.read_csv(io.BytesIO(uploaded1['2021_07_17_la_carolina.csv']), parse_dates=True)"
      ],
      "execution_count": null,
      "outputs": []
    },
    {
      "cell_type": "code",
      "metadata": {
        "colab": {
          "base_uri": "https://localhost:8080/"
        },
        "id": "sb_WZ8KtsxTO",
        "outputId": "27637c0b-2f57-4957-d331-f71f436f0ce7"
      },
      "source": [
        "#Checking the dataframe info\n",
        "df1.info()"
      ],
      "execution_count": null,
      "outputs": [
        {
          "output_type": "stream",
          "text": [
            "<class 'pandas.core.frame.DataFrame'>\n",
            "RangeIndex: 332 entries, 0 to 331\n",
            "Data columns (total 9 columns):\n",
            " #   Column      Non-Null Count  Dtype \n",
            "---  ------      --------------  ----- \n",
            " 0   date        332 non-null    object\n",
            " 1   city        332 non-null    object\n",
            " 2   zone        332 non-null    object\n",
            " 3   name        332 non-null    object\n",
            " 4   seller      332 non-null    object\n",
            " 5   sqr_meters  332 non-null    int64 \n",
            " 6   rooms       332 non-null    int64 \n",
            " 7   bathrooms   332 non-null    int64 \n",
            " 8   price       332 non-null    int64 \n",
            "dtypes: int64(4), object(5)\n",
            "memory usage: 23.5+ KB\n"
          ],
          "name": "stdout"
        }
      ]
    },
    {
      "cell_type": "code",
      "metadata": {
        "id": "iKQHkEWCs6Rl"
      },
      "source": [
        "#Convert date column to datetime\n",
        "df1['date'] = pd.to_datetime(df1['date'], format='%Y-%m-%d %H:%M:%S').dt.tz_convert('America/Guayaquil')"
      ],
      "execution_count": null,
      "outputs": []
    },
    {
      "cell_type": "code",
      "metadata": {
        "colab": {
          "base_uri": "https://localhost:8080/",
          "height": 205
        },
        "id": "MoOvuRJXp-yd",
        "outputId": "e1329b62-c8e2-4460-a256-43c7dc74c38d"
      },
      "source": [
        "#Selecting essential columns and saving to new dataframe\n",
        "df1_apa = df1[['date', 'sqr_meters', 'rooms', 'bathrooms', 'price']].copy()\n",
        "df1_apa.tail()"
      ],
      "execution_count": null,
      "outputs": [
        {
          "output_type": "execute_result",
          "data": {
            "text/html": [
              "<div>\n",
              "<style scoped>\n",
              "    .dataframe tbody tr th:only-of-type {\n",
              "        vertical-align: middle;\n",
              "    }\n",
              "\n",
              "    .dataframe tbody tr th {\n",
              "        vertical-align: top;\n",
              "    }\n",
              "\n",
              "    .dataframe thead th {\n",
              "        text-align: right;\n",
              "    }\n",
              "</style>\n",
              "<table border=\"1\" class=\"dataframe\">\n",
              "  <thead>\n",
              "    <tr style=\"text-align: right;\">\n",
              "      <th></th>\n",
              "      <th>date</th>\n",
              "      <th>sqr_meters</th>\n",
              "      <th>rooms</th>\n",
              "      <th>bathrooms</th>\n",
              "      <th>price</th>\n",
              "    </tr>\n",
              "  </thead>\n",
              "  <tbody>\n",
              "    <tr>\n",
              "      <th>327</th>\n",
              "      <td>2020-10-28 19:00:00-05:00</td>\n",
              "      <td>121</td>\n",
              "      <td>3</td>\n",
              "      <td>3</td>\n",
              "      <td>155000</td>\n",
              "    </tr>\n",
              "    <tr>\n",
              "      <th>328</th>\n",
              "      <td>2020-10-28 19:00:00-05:00</td>\n",
              "      <td>76</td>\n",
              "      <td>3</td>\n",
              "      <td>2</td>\n",
              "      <td>99000</td>\n",
              "    </tr>\n",
              "    <tr>\n",
              "      <th>329</th>\n",
              "      <td>2020-10-28 19:00:00-05:00</td>\n",
              "      <td>86</td>\n",
              "      <td>2</td>\n",
              "      <td>3</td>\n",
              "      <td>146000</td>\n",
              "    </tr>\n",
              "    <tr>\n",
              "      <th>330</th>\n",
              "      <td>2020-09-07 19:00:00-05:00</td>\n",
              "      <td>113</td>\n",
              "      <td>3</td>\n",
              "      <td>3</td>\n",
              "      <td>221426</td>\n",
              "    </tr>\n",
              "    <tr>\n",
              "      <th>331</th>\n",
              "      <td>2020-07-23 19:00:00-05:00</td>\n",
              "      <td>117</td>\n",
              "      <td>3</td>\n",
              "      <td>3</td>\n",
              "      <td>179530</td>\n",
              "    </tr>\n",
              "  </tbody>\n",
              "</table>\n",
              "</div>"
            ],
            "text/plain": [
              "                         date  sqr_meters  rooms  bathrooms   price\n",
              "327 2020-10-28 19:00:00-05:00         121      3          3  155000\n",
              "328 2020-10-28 19:00:00-05:00          76      3          2   99000\n",
              "329 2020-10-28 19:00:00-05:00          86      2          3  146000\n",
              "330 2020-09-07 19:00:00-05:00         113      3          3  221426\n",
              "331 2020-07-23 19:00:00-05:00         117      3          3  179530"
            ]
          },
          "metadata": {
            "tags": []
          },
          "execution_count": 8
        }
      ]
    },
    {
      "cell_type": "code",
      "metadata": {
        "id": "dgsCVwJi0uVK"
      },
      "source": [
        "#Assigning columns as categorical data\n",
        "df1_apa['rooms'] = df1_apa['rooms'].astype(\"category\")\n",
        "df1_apa['bathrooms'] = df1_apa['bathrooms'].astype(\"category\")"
      ],
      "execution_count": null,
      "outputs": []
    },
    {
      "cell_type": "code",
      "metadata": {
        "colab": {
          "base_uri": "https://localhost:8080/",
          "height": 299
        },
        "id": "v29-myuwqpOY",
        "outputId": "ffcc0708-50e6-4990-ce09-a951fd971e60"
      },
      "source": [
        "#Performing descriptipe statistics\n",
        "df1_apa.describe()"
      ],
      "execution_count": null,
      "outputs": [
        {
          "output_type": "execute_result",
          "data": {
            "text/html": [
              "<div>\n",
              "<style scoped>\n",
              "    .dataframe tbody tr th:only-of-type {\n",
              "        vertical-align: middle;\n",
              "    }\n",
              "\n",
              "    .dataframe tbody tr th {\n",
              "        vertical-align: top;\n",
              "    }\n",
              "\n",
              "    .dataframe thead th {\n",
              "        text-align: right;\n",
              "    }\n",
              "</style>\n",
              "<table border=\"1\" class=\"dataframe\">\n",
              "  <thead>\n",
              "    <tr style=\"text-align: right;\">\n",
              "      <th></th>\n",
              "      <th>sqr_meters</th>\n",
              "      <th>price</th>\n",
              "    </tr>\n",
              "  </thead>\n",
              "  <tbody>\n",
              "    <tr>\n",
              "      <th>count</th>\n",
              "      <td>332.000000</td>\n",
              "      <td>332.000000</td>\n",
              "    </tr>\n",
              "    <tr>\n",
              "      <th>mean</th>\n",
              "      <td>86.768072</td>\n",
              "      <td>143980.602410</td>\n",
              "    </tr>\n",
              "    <tr>\n",
              "      <th>std</th>\n",
              "      <td>24.744565</td>\n",
              "      <td>46872.409205</td>\n",
              "    </tr>\n",
              "    <tr>\n",
              "      <th>min</th>\n",
              "      <td>50.000000</td>\n",
              "      <td>49000.000000</td>\n",
              "    </tr>\n",
              "    <tr>\n",
              "      <th>25%</th>\n",
              "      <td>66.000000</td>\n",
              "      <td>115000.000000</td>\n",
              "    </tr>\n",
              "    <tr>\n",
              "      <th>50%</th>\n",
              "      <td>82.500000</td>\n",
              "      <td>133910.500000</td>\n",
              "    </tr>\n",
              "    <tr>\n",
              "      <th>75%</th>\n",
              "      <td>103.250000</td>\n",
              "      <td>167704.500000</td>\n",
              "    </tr>\n",
              "    <tr>\n",
              "      <th>max</th>\n",
              "      <td>150.000000</td>\n",
              "      <td>400050.000000</td>\n",
              "    </tr>\n",
              "  </tbody>\n",
              "</table>\n",
              "</div>"
            ],
            "text/plain": [
              "       sqr_meters          price\n",
              "count  332.000000     332.000000\n",
              "mean    86.768072  143980.602410\n",
              "std     24.744565   46872.409205\n",
              "min     50.000000   49000.000000\n",
              "25%     66.000000  115000.000000\n",
              "50%     82.500000  133910.500000\n",
              "75%    103.250000  167704.500000\n",
              "max    150.000000  400050.000000"
            ]
          },
          "metadata": {
            "tags": []
          },
          "execution_count": 10
        }
      ]
    },
    {
      "cell_type": "code",
      "metadata": {
        "colab": {
          "base_uri": "https://localhost:8080/",
          "height": 301
        },
        "id": "lL_aLP-OtX5y",
        "outputId": "0479bbd3-3835-4746-c5b9-b253ddef4efd"
      },
      "source": [
        "#Plotting the box plot of price\n",
        "sns.boxplot(x='price', data=df1_apa)\n",
        "plt.title('Boxplot of price vs. room size')\n",
        "plt.show()"
      ],
      "execution_count": null,
      "outputs": [
        {
          "output_type": "display_data",
          "data": {
            "image/png": "[encoded data removed]",
            "text/plain": [
              "<Figure size 576x288 with 1 Axes>"
            ]
          },
          "metadata": {
            "tags": []
          }
        }
      ]
    },
    {
      "cell_type": "code",
      "metadata": {
        "colab": {
          "base_uri": "https://localhost:8080/"
        },
        "id": "0HPkNTEBxQDg",
        "outputId": "d9599710-f956-4849-8b62-5226de60f538"
      },
      "source": [
        "#Calculating outlier threshold\n",
        "iqr = (df1_apa['price'].quantile(0.75) - df1_apa['price'].quantile(0.25))\n",
        "outl = (df1_apa['price'].quantile(0.75) + 1.5*iqr) #==> Third quartile + 1.5*IQR\n",
        "print(iqr, outl)"
      ],
      "execution_count": null,
      "outputs": [
        {
          "output_type": "stream",
          "text": [
            "52704.5 246761.25\n"
          ],
          "name": "stdout"
        }
      ]
    },
    {
      "cell_type": "code",
      "metadata": {
        "colab": {
          "base_uri": "https://localhost:8080/"
        },
        "id": "Hpq9BMquwk-5",
        "outputId": "ebcf086e-58a8-43a3-dbc5-a6ddae408093"
      },
      "source": [
        "#Dropping outliers from dataset\n",
        "df1_apa = df1_apa[df1_apa['price']<outl].reset_index(drop=True)\n",
        "df1_apa.shape"
      ],
      "execution_count": null,
      "outputs": [
        {
          "output_type": "execute_result",
          "data": {
            "text/plain": [
              "(324, 5)"
            ]
          },
          "metadata": {
            "tags": []
          },
          "execution_count": 16
        }
      ]
    },
    {
      "cell_type": "code",
      "metadata": {
        "colab": {
          "base_uri": "https://localhost:8080/",
          "height": 301
        },
        "id": "2MJFBUtb0QZ3",
        "outputId": "eeee32b9-a9b0-469c-a9a6-9f2f8b5c346b"
      },
      "source": [
        "#Plotting the box plot of price\n",
        "sns.boxplot(x='price', y='rooms', data=df1_apa, palette=['#ffff00', '#0000ff', '#ff0000'])\n",
        "plt.title('Boxplot of price vs. room size')\n",
        "plt.show()"
      ],
      "execution_count": null,
      "outputs": [
        {
          "output_type": "display_data",
          "data": {
            "image/png": "[encoded data removed]",
            "text/plain": [
              "<Figure size 576x288 with 1 Axes>"
            ]
          },
          "metadata": {
            "tags": []
          }
        }
      ]
    },
    {
      "cell_type": "code",
      "metadata": {
        "colab": {
          "base_uri": "https://localhost:8080/",
          "height": 442
        },
        "id": "_CkUw3WdqpRg",
        "outputId": "69d5b51e-16ab-499e-ac22-bcf9db9d826d"
      },
      "source": [
        "#Plotting pairplot of price vs square meters\n",
        "sns.pairplot(data=df1_apa, height=3, aspect=1.5)\n",
        "plt.show()"
      ],
      "execution_count": null,
      "outputs": [
        {
          "output_type": "display_data",
          "data": {
            "image/png": "[encoded data removed]",
            "text/plain": [
              "<Figure size 648x432 with 6 Axes>"
            ]
          },
          "metadata": {
            "tags": []
          }
        }
      ]
    },
    {
      "cell_type": "code",
      "metadata": {
        "colab": {
          "base_uri": "https://localhost:8080/",
          "height": 17
        },
        "id": "OVp_Tsw0ACpW",
        "outputId": "540997c2-a095-454b-e5c1-2b04fc2378c6"
      },
      "source": [
        "#Exporting to excel into local disk\n",
        "from google.colab import files\n",
        "df1_apa.to_csv('2021_07_19_apartments.csv', index=False) #==> Excluding index from file\n",
        "files.download('2021_07_19_apartments.csv')"
      ],
      "execution_count": null,
      "outputs": [
        {
          "output_type": "display_data",
          "data": {
            "application/javascript": [
              "\n",
              "    async function download(id, filename, size) {\n",
              "      if (!google.colab.kernel.accessAllowed) {\n",
              "        return;\n",
              "      }\n",
              "      const div = document.createElement('div');\n",
              "      const label = document.createElement('label');\n",
              "      label.textContent = `Downloading \"${filename}\": `;\n",
              "      div.appendChild(label);\n",
              "      const progress = document.createElement('progress');\n",
              "      progress.max = size;\n",
              "      div.appendChild(progress);\n",
              "      document.body.appendChild(div);\n",
              "\n",
              "      const buffers = [];\n",
              "      let downloaded = 0;\n",
              "\n",
              "      const channel = await google.colab.kernel.comms.open(id);\n",
              "      // Send a message to notify the kernel that we're ready.\n",
              "      channel.send({})\n",
              "\n",
              "      for await (const message of channel.messages) {\n",
              "        // Send a message to notify the kernel that we're ready.\n",
              "        channel.send({})\n",
              "        if (message.buffers) {\n",
              "          for (const buffer of message.buffers) {\n",
              "            buffers.push(buffer);\n",
              "            downloaded += buffer.byteLength;\n",
              "            progress.value = downloaded;\n",
              "          }\n",
              "        }\n",
              "      }\n",
              "      const blob = new Blob(buffers, {type: 'application/binary'});\n",
              "      const a = document.createElement('a');\n",
              "      a.href = window.URL.createObjectURL(blob);\n",
              "      a.download = filename;\n",
              "      div.appendChild(a);\n",
              "      a.click();\n",
              "      div.remove();\n",
              "    }\n",
              "  "
            ],
            "text/plain": [
              "<IPython.core.display.Javascript object>"
            ]
          },
          "metadata": {
            "tags": []
          }
        },
        {
          "output_type": "display_data",
          "data": {
            "application/javascript": [
              "download(\"download_819c9f69-90f9-4fe1-82fa-2770c6d2e9f2\", \"2021_07_19_aparments.csv\", 13030)"
            ],
            "text/plain": [
              "<IPython.core.display.Javascript object>"
            ]
          },
          "metadata": {
            "tags": []
          }
        }
      ]
    },
    {
      "cell_type": "code",
      "metadata": {
        "colab": {
          "base_uri": "https://localhost:8080/",
          "height": 205
        },
        "id": "--h6H3vctozF",
        "outputId": "a6098f22-3317-4012-90f9-c922221f55aa"
      },
      "source": [
        "#Grouping by year, month and rooms\n",
        "df1_grouped = df1_apa.copy()\n",
        "df1_grouped = df1_grouped.assign(price_sqr = round((df1_grouped['price']/df1_grouped['sqr_meters']), 2),\n",
        "                                 year = df1_grouped['date'].dt.year,\n",
        "                                 month = df1_grouped['date'].dt.month)\n",
        "df1_grouped = df1_grouped.groupby(['year', 'month', 'rooms']).agg(price = ('price', 'mean'), price_sqr = ('price_sqr', 'mean')).reset_index()\n",
        "df1_grouped.tail()"
      ],
      "execution_count": null,
      "outputs": [
        {
          "output_type": "execute_result",
          "data": {
            "text/html": [
              "<div>\n",
              "<style scoped>\n",
              "    .dataframe tbody tr th:only-of-type {\n",
              "        vertical-align: middle;\n",
              "    }\n",
              "\n",
              "    .dataframe tbody tr th {\n",
              "        vertical-align: top;\n",
              "    }\n",
              "\n",
              "    .dataframe thead th {\n",
              "        text-align: right;\n",
              "    }\n",
              "</style>\n",
              "<table border=\"1\" class=\"dataframe\">\n",
              "  <thead>\n",
              "    <tr style=\"text-align: right;\">\n",
              "      <th></th>\n",
              "      <th>year</th>\n",
              "      <th>month</th>\n",
              "      <th>rooms</th>\n",
              "      <th>price</th>\n",
              "      <th>price_sqr</th>\n",
              "    </tr>\n",
              "  </thead>\n",
              "  <tbody>\n",
              "    <tr>\n",
              "      <th>61</th>\n",
              "      <td>2021</td>\n",
              "      <td>11</td>\n",
              "      <td>2</td>\n",
              "      <td>NaN</td>\n",
              "      <td>NaN</td>\n",
              "    </tr>\n",
              "    <tr>\n",
              "      <th>62</th>\n",
              "      <td>2021</td>\n",
              "      <td>11</td>\n",
              "      <td>3</td>\n",
              "      <td>NaN</td>\n",
              "      <td>NaN</td>\n",
              "    </tr>\n",
              "    <tr>\n",
              "      <th>63</th>\n",
              "      <td>2021</td>\n",
              "      <td>12</td>\n",
              "      <td>1</td>\n",
              "      <td>NaN</td>\n",
              "      <td>NaN</td>\n",
              "    </tr>\n",
              "    <tr>\n",
              "      <th>64</th>\n",
              "      <td>2021</td>\n",
              "      <td>12</td>\n",
              "      <td>2</td>\n",
              "      <td>NaN</td>\n",
              "      <td>NaN</td>\n",
              "    </tr>\n",
              "    <tr>\n",
              "      <th>65</th>\n",
              "      <td>2021</td>\n",
              "      <td>12</td>\n",
              "      <td>3</td>\n",
              "      <td>NaN</td>\n",
              "      <td>NaN</td>\n",
              "    </tr>\n",
              "  </tbody>\n",
              "</table>\n",
              "</div>"
            ],
            "text/plain": [
              "    year  month rooms  price  price_sqr\n",
              "61  2021     11     2    NaN        NaN\n",
              "62  2021     11     3    NaN        NaN\n",
              "63  2021     12     1    NaN        NaN\n",
              "64  2021     12     2    NaN        NaN\n",
              "65  2021     12     3    NaN        NaN"
            ]
          },
          "metadata": {
            "tags": []
          },
          "execution_count": 49
        }
      ]
    },
    {
      "cell_type": "code",
      "metadata": {
        "colab": {
          "base_uri": "https://localhost:8080/",
          "height": 333,
          "referenced_widgets": [
            "63e8624074574c6586e10cc1ec9708f0",
            "26db1c4e667e4faf9ac5c4d662caf540",
            "2b1fdaa366524eb9bcbdd9b4beebf5b0",
            "2fb2ba6f02614d3698b81fdb95208cbc",
            "9efb16e65c704f24b0b0ca88fd6d6c65",
            "ec16d09bdc5c4e92b841ffbb0ebfa939",
            "228a5f4ea55e4756ad840781479423b8"
          ]
        },
        "id": "vuI3UM-x0Y0e",
        "outputId": "6df55a6f-12bb-44fa-8e64-dae71a360642"
      },
      "source": [
        "#Plotting square meters vs price\n",
        "@interact(rooms=[1,2,3])\n",
        "def plot_scatter(rooms):\n",
        "  sns.scatterplot(x='sqr_meters', y='price', data=df1_apa[df1_apa['rooms']==rooms], ci=False)\n",
        "  plt.title(f'Scatterplot of {rooms} rooms Apartments')\n",
        "  plt.show()"
      ],
      "execution_count": 16,
      "outputs": [
        {
          "output_type": "display_data",
          "data": {
            "application/vnd.jupyter.widget-view+json": {
              "model_id": "63e8624074574c6586e10cc1ec9708f0",
              "version_minor": 0,
              "version_major": 2
            },
            "text/plain": [
              "interactive(children=(Dropdown(description='rooms', options=(1, 2, 3), value=1), Output()), _dom_classes=('wid…"
            ]
          },
          "metadata": {
            "tags": []
          }
        }
      ]
    },
    {
      "cell_type": "code",
      "metadata": {
        "colab": {
          "base_uri": "https://localhost:8080/",
          "height": 481,
          "referenced_widgets": [
            "c5473b49fa79439dafcd06233d4aaf35",
            "14c6f70544794c9d82f2a6facfff0332",
            "f405467e4b7048668725511df41e40c7",
            "71d4ab4ffe814e829a4e29c2235cac41",
            "843849749b70452e9e9f048e5ccd54ba",
            "cd53cbd615914b528ec31747d1da6b3c",
            "38be473022ea423cbf6505c3daa5705f",
            "0da98d90b63144d796b2562ca02f51f0",
            "398a7b9de1de48648509e3309da193d8",
            "619bd374907e4f5b89c35e6526b4ab5d"
          ]
        },
        "id": "7jEcYoXGtH02",
        "outputId": "feb03d6b-377c-4562-b476-87fd4d98f450"
      },
      "source": [
        "#Plot the price vs time for different categories\n",
        "@interact(year=[2020, 2021], rooms=df1_apa['rooms'].unique())\n",
        "def plot_scatter(year, rooms):\n",
        "  fig1_a = px.bar(data_frame=df1_grouped[(df1_grouped['year']==year) & (df1_grouped['rooms']==rooms)], x='month', y='price',\n",
        "                  title='Apartments in Quito - La Carolina', width=900, height=400)\n",
        "  fig1_a.show()"
      ],
      "execution_count": null,
      "outputs": [
        {
          "output_type": "display_data",
          "data": {
            "application/vnd.jupyter.widget-view+json": {
              "model_id": "c5473b49fa79439dafcd06233d4aaf35",
              "version_minor": 0,
              "version_major": 2
            },
            "text/plain": [
              "interactive(children=(Dropdown(description='year', options=(2020, 2021), value=2020), Dropdown(description='ro…"
            ]
          },
          "metadata": {
            "tags": []
          }
        }
      ]
    },
    {
      "cell_type": "markdown",
      "metadata": {
        "id": "AbJJDSofAgET"
      },
      "source": [
        "##Machine Learning modeling"
      ]
    },
    {
      "cell_type": "markdown",
      "metadata": {
        "id": "yRVaKdBFCxq-"
      },
      "source": [
        "###Uploading data"
      ]
    },
    {
      "cell_type": "code",
      "metadata": {
        "id": "PcSlHv1IA0Sk"
      },
      "source": [
        "#Importing necessary packages\n",
        "import numpy as np\n",
        "import pandas as pd\n",
        "import matplotlib.pyplot as plt\n",
        "import seaborn as sns"
      ],
      "execution_count": 1,
      "outputs": []
    },
    {
      "cell_type": "code",
      "metadata": {
        "id": "s6o5Wg8QA0Sk"
      },
      "source": [
        "#Customizing data visualization style\n",
        "sns.set_theme(rc = {'figure.figsize': (12, 4)})"
      ],
      "execution_count": 2,
      "outputs": []
    },
    {
      "cell_type": "code",
      "metadata": {
        "colab": {
          "resources": {
            "http://localhost:8080/nbextensions/google.colab/files.js": {
              "data": "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",
              "ok": true,
              "headers": [
                [
                  "content-type",
                  "application/javascript"
                ]
              ],
              "status": 200,
              "status_text": ""
            }
          },
          "base_uri": "https://localhost:8080/",
          "height": 73
        },
        "id": "14TwkZ4vA0Sl",
        "outputId": "f48f3e41-76aa-4a4f-cb98-6b049d668b88"
      },
      "source": [
        "#Uploading file from local drive\n",
        "from google.colab import files\n",
        "uploaded1 = files.upload()"
      ],
      "execution_count": 3,
      "outputs": [
        {
          "output_type": "display_data",
          "data": {
            "text/html": [
              "\n",
              "     <input type=\"file\" id=\"files-5b0efc78-cb6a-4276-b4bf-437716b18f6f\" name=\"files[]\" multiple disabled\n",
              "        style=\"border:none\" />\n",
              "     <output id=\"result-5b0efc78-cb6a-4276-b4bf-437716b18f6f\">\n",
              "      Upload widget is only available when the cell has been executed in the\n",
              "      current browser session. Please rerun this cell to enable.\n",
              "      </output>\n",
              "      <script src=\"/nbextensions/google.colab/files.js\"></script> "
            ],
            "text/plain": [
              "<IPython.core.display.HTML object>"
            ]
          },
          "metadata": {
            "tags": []
          }
        },
        {
          "output_type": "stream",
          "text": [
            "Saving 2021_07_19_apartments.csv to 2021_07_19_apartments.csv\n"
          ],
          "name": "stdout"
        }
      ]
    },
    {
      "cell_type": "code",
      "metadata": {
        "id": "6tZhQF3_A0Sl"
      },
      "source": [
        "#Storing dataset in a Pandas Dataframe\n",
        "import io\n",
        "df1_ml = pd.read_csv(io.BytesIO(uploaded1['2021_07_19_apartments.csv']), parse_dates=True)"
      ],
      "execution_count": 4,
      "outputs": []
    },
    {
      "cell_type": "code",
      "metadata": {
        "colab": {
          "base_uri": "https://localhost:8080/",
          "height": 205
        },
        "id": "Org4lJZaBnyA",
        "outputId": "1e84e6f8-78a2-4261-9eb9-5549f2208041"
      },
      "source": [
        "#Dropping date column, assigning categorical type\n",
        "df1_ml = df1_ml.drop(columns='date')\n",
        "df1_ml['rooms'] = df1_ml['rooms'].astype(\"category\")\n",
        "df1_ml['bathrooms'] = df1_ml['bathrooms'].astype(\"category\")\n",
        "df1_ml.tail()"
      ],
      "execution_count": 5,
      "outputs": [
        {
          "output_type": "execute_result",
          "data": {
            "text/html": [
              "<div>\n",
              "<style scoped>\n",
              "    .dataframe tbody tr th:only-of-type {\n",
              "        vertical-align: middle;\n",
              "    }\n",
              "\n",
              "    .dataframe tbody tr th {\n",
              "        vertical-align: top;\n",
              "    }\n",
              "\n",
              "    .dataframe thead th {\n",
              "        text-align: right;\n",
              "    }\n",
              "</style>\n",
              "<table border=\"1\" class=\"dataframe\">\n",
              "  <thead>\n",
              "    <tr style=\"text-align: right;\">\n",
              "      <th></th>\n",
              "      <th>sqr_meters</th>\n",
              "      <th>rooms</th>\n",
              "      <th>bathrooms</th>\n",
              "      <th>price</th>\n",
              "    </tr>\n",
              "  </thead>\n",
              "  <tbody>\n",
              "    <tr>\n",
              "      <th>319</th>\n",
              "      <td>121</td>\n",
              "      <td>3</td>\n",
              "      <td>3</td>\n",
              "      <td>155000</td>\n",
              "    </tr>\n",
              "    <tr>\n",
              "      <th>320</th>\n",
              "      <td>76</td>\n",
              "      <td>3</td>\n",
              "      <td>2</td>\n",
              "      <td>99000</td>\n",
              "    </tr>\n",
              "    <tr>\n",
              "      <th>321</th>\n",
              "      <td>86</td>\n",
              "      <td>2</td>\n",
              "      <td>3</td>\n",
              "      <td>146000</td>\n",
              "    </tr>\n",
              "    <tr>\n",
              "      <th>322</th>\n",
              "      <td>113</td>\n",
              "      <td>3</td>\n",
              "      <td>3</td>\n",
              "      <td>221426</td>\n",
              "    </tr>\n",
              "    <tr>\n",
              "      <th>323</th>\n",
              "      <td>117</td>\n",
              "      <td>3</td>\n",
              "      <td>3</td>\n",
              "      <td>179530</td>\n",
              "    </tr>\n",
              "  </tbody>\n",
              "</table>\n",
              "</div>"
            ],
            "text/plain": [
              "     sqr_meters rooms bathrooms   price\n",
              "319         121     3         3  155000\n",
              "320          76     3         2   99000\n",
              "321          86     2         3  146000\n",
              "322         113     3         3  221426\n",
              "323         117     3         3  179530"
            ]
          },
          "metadata": {
            "tags": []
          },
          "execution_count": 5
        }
      ]
    },
    {
      "cell_type": "markdown",
      "metadata": {
        "id": "0cz0tnvLC1NB"
      },
      "source": [
        "###Linear Regression"
      ]
    },
    {
      "cell_type": "code",
      "metadata": {
        "id": "0l9hkAtyCvR3"
      },
      "source": [
        "#Importing machine learning libraries\n",
        "from sklearn.model_selection import train_test_split\n",
        "from sklearn.preprocessing import MinMaxScaler\n",
        "from sklearn.linear_model import LinearRegression"
      ],
      "execution_count": 6,
      "outputs": []
    },
    {
      "cell_type": "code",
      "metadata": {
        "colab": {
          "base_uri": "https://localhost:8080/"
        },
        "id": "-wujoGF0DAi0",
        "outputId": "0c441541-727d-4e82-8899-7fb5410f4402"
      },
      "source": [
        "#Splitting the dataset into train and test\n",
        "X = np.c_[df1_ml['sqr_meters'].to_numpy(), df1_ml['rooms'].to_numpy(), df1_ml['bathrooms'].to_numpy()]\n",
        "X_train, X_test, y_train, y_test = train_test_split(X, np.array(df1_ml['price']), random_state=1)\n",
        "print(X_train.shape, X_test.shape)\n",
        "\n",
        "#lr = LinearRegression().fit(X_train, y_train)\n",
        "#print(f'lr.coef_: {lr.coef_}, lr.intercept_: {lr.intercept_}')"
      ],
      "execution_count": 7,
      "outputs": [
        {
          "output_type": "stream",
          "text": [
            "(243, 3) (81, 3)\n"
          ],
          "name": "stdout"
        }
      ]
    },
    {
      "cell_type": "code",
      "metadata": {
        "colab": {
          "base_uri": "https://localhost:8080/"
        },
        "id": "ETcMnJKbxyI1",
        "outputId": "409def3a-61e9-42bb-b67a-7f27d0c9109b"
      },
      "source": [
        "#Preprocessing using 0-1 scaling\n",
        "scaler = MinMaxScaler()\n",
        "scaler.fit(X_train)\n",
        "X_train_scaled = scaler.transform(X_train)\n",
        "X_test_scaled = scaler.transform(X_test)\n",
        "print(X_train_scaled[:5])\n",
        "print(X_test_scaled[:5])"
      ],
      "execution_count": 9,
      "outputs": [
        {
          "output_type": "stream",
          "text": [
            "[[0.22 0.   0.  ]\n",
            " [0.42 0.   0.  ]\n",
            " [0.56 0.5  1.  ]\n",
            " [0.45 0.   0.5 ]\n",
            " [0.24 0.   0.5 ]]\n",
            "[[0.13 0.   0.5 ]\n",
            " [0.48 0.5  0.5 ]\n",
            " [0.1  0.   0.5 ]\n",
            " [0.19 0.   0.  ]\n",
            " [0.13 0.   0.5 ]]\n"
          ],
          "name": "stdout"
        }
      ]
    },
    {
      "cell_type": "code",
      "metadata": {
        "colab": {
          "base_uri": "https://localhost:8080/"
        },
        "id": "f89VV0BNzIRl",
        "outputId": "c33f45e3-95e1-413f-c1d2-65bb976d6484"
      },
      "source": [
        "#Performing Liner Regression on apartment prices\n",
        "lr = LinearRegression().fit(X_train_scaled, y_train)\n",
        "print(f'lr.coef_: {lr.coef_}, lr.intercept_: {lr.intercept_}')"
      ],
      "execution_count": 10,
      "outputs": [
        {
          "output_type": "stream",
          "text": [
            "lr.coef_: [56743.49336176  -358.5767255  49152.81300228], lr.intercept_: 90740.25334670303\n"
          ],
          "name": "stdout"
        }
      ]
    },
    {
      "cell_type": "code",
      "metadata": {
        "colab": {
          "base_uri": "https://localhost:8080/"
        },
        "id": "6mAoQVLyMduX",
        "outputId": "9baf943b-09b3-45cb-8886-6c00bebaaf03"
      },
      "source": [
        "#Looking at the training set and test set performance\n",
        "print(f'Training set score: {lr.score(X_train_scaled, y_train)}')\n",
        "print(f'Training test score: {lr.score(X_test_scaled, y_test)}')"
      ],
      "execution_count": 12,
      "outputs": [
        {
          "output_type": "stream",
          "text": [
            "Training set score: 0.44162440822932986\n",
            "Training test score: 0.3396124340805059\n"
          ],
          "name": "stdout"
        }
      ]
    }
  ]
}