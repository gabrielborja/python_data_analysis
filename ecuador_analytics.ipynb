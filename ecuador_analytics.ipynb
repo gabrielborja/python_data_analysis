{
  "nbformat": 4,
  "nbformat_minor": 0,
  "metadata": {
    "colab": {
      "name": "ecuador_analytics.ipynb",
      "provenance": [],
      "authorship_tag": "ABX9TyNQPD4UddSueKOgdFsFT5mo",
      "include_colab_link": true
    },
    "kernelspec": {
      "name": "python3",
      "display_name": "Python 3"
    },
    "language_info": {
      "name": "python"
    }
  },
  "cells": [
    {
      "cell_type": "markdown",
      "metadata": {
        "id": "view-in-github",
        "colab_type": "text"
      },
      "source": [
        "<a href=\"https://colab.research.google.com/github/gabrielborja/python_data_analysis/blob/main/ecuador_analytics.ipynb\" target=\"_parent\"><img src=\"https://colab.research.google.com/assets/colab-badge.svg\" alt=\"Open In Colab\"/></a>"
      ]
    },
    {
      "cell_type": "markdown",
      "metadata": {
        "id": "eTZwpRZNRhGY"
      },
      "source": [
        "#Ecuador Volcanoes Analysis"
      ]
    },
    {
      "cell_type": "markdown",
      "metadata": {
        "id": "urSYFOWesvzU"
      },
      "source": [
        "Ecuador is located at the center of the world, and is aslo known as the land of volcanoes. Data about Ecuador volcanoes can be found [here](https://en.wikipedia.org/wiki/List_of_volcanoes_in_Ecuador)"
      ]
    },
    {
      "cell_type": "markdown",
      "metadata": {
        "id": "sgzkv1LwjLIL"
      },
      "source": [
        "## Uploading packages and data"
      ]
    },
    {
      "cell_type": "code",
      "metadata": {
        "id": "QTRtRZcb-IyF"
      },
      "source": [
        "#Importing HTTP libraries\n",
        "import requests\n",
        "import pprint\n",
        "from bs4 import BeautifulSoup as bs"
      ],
      "execution_count": 23,
      "outputs": []
    },
    {
      "cell_type": "code",
      "metadata": {
        "id": "Hd_BQNhNCUYa"
      },
      "source": [
        "!pip freeze"
      ],
      "execution_count": null,
      "outputs": []
    },
    {
      "cell_type": "code",
      "metadata": {
        "id": "RHzc7K6UJDvR"
      },
      "source": [
        "#Importing data manipulation packages\n",
        "import numpy as np\n",
        "import pandas as pd"
      ],
      "execution_count": 2,
      "outputs": []
    },
    {
      "cell_type": "markdown",
      "metadata": {
        "id": "Qd76FNGixVGx"
      },
      "source": [
        "##Retrieving data from URL"
      ]
    },
    {
      "cell_type": "code",
      "metadata": {
        "id": "iRKLMxgWhorK"
      },
      "source": [
        "#class requests.Response\n",
        "#Response.elapsed, Response.encoding, Response.headers, Response.json, Response.status_code, Response.text, Response.url"
      ],
      "execution_count": null,
      "outputs": []
    },
    {
      "cell_type": "code",
      "metadata": {
        "colab": {
          "base_uri": "https://localhost:8080/"
        },
        "id": "FSMx5lpV_cQh",
        "outputId": "42e8ba9e-4411-4a56-8b19-fad295f270fa"
      },
      "source": [
        "#Getting data from URL\n",
        "response = requests.get('https://en.wikipedia.org/wiki/List_of_volcanoes_in_Ecuador')\n",
        "print(response)\n",
        "soup = bs(response.text, 'html.parser')\n",
        "tables = soup.find_all('table')"
      ],
      "execution_count": 26,
      "outputs": [
        {
          "output_type": "stream",
          "text": [
            "<Response [200]>\n"
          ],
          "name": "stdout"
        }
      ]
    },
    {
      "cell_type": "code",
      "metadata": {
        "colab": {
          "base_uri": "https://localhost:8080/"
        },
        "id": "z9Y3kOfKE5_Y",
        "outputId": "ff9e463f-e011-4ebf-c29a-1c0aab4edfcc"
      },
      "source": [
        "#Printing fetched tabled lenght\n",
        "len(tables)"
      ],
      "execution_count": 27,
      "outputs": [
        {
          "output_type": "execute_result",
          "data": {
            "text/plain": [
              "6"
            ]
          },
          "metadata": {
            "tags": []
          },
          "execution_count": 27
        }
      ]
    },
    {
      "cell_type": "code",
      "metadata": {
        "colab": {
          "base_uri": "https://localhost:8080/"
        },
        "id": "x3L0ObO2FmSH",
        "outputId": "d37010bb-c446-4ffe-ad9f-15d933ebf503"
      },
      "source": [
        "#Print third table\n",
        "pprint.pprint(tables[2])"
      ],
      "execution_count": 29,
      "outputs": [
        {
          "output_type": "stream",
          "text": [
            "<table class=\"wikitable sortable\">\n",
            "<tbody><tr>\n",
            "<th>Name\n",
            "</th>\n",
            "<th>Meters\n",
            "</th>\n",
            "<th>Feet\n",
            "</th>\n",
            "<th>Coordinates\n",
            "</th>\n",
            "<th>Last Eruption\n",
            "</th></tr>\n",
            "<tr align=\"right\">\n",
            "<td align=\"left\"><a href=\"/wiki/El_Altar\" title=\"El Altar\">El Altar / Kapak Urku</a></td>\n",
            "<td>5405</td>\n",
            "<td>17,730</td>\n",
            "<td><style data-mw-deduplicate=\"TemplateStyles:r994658806\">.mw-parser-output .geo-default,.mw-parser-output .geo-dms,.mw-parser-output .geo-dec{display:inline}.mw-parser-output .geo-nondefault,.mw-parser-output .geo-multi-punct{display:none}.mw-parser-output .longitude,.mw-parser-output .latitude{white-space:nowrap}</style><span class=\"plainlinks nourlexpansion\"><a class=\"external text\" href=\"//geohack.toolforge.org/geohack.php?pagename=List_of_volcanoes_in_Ecuador&amp;params=1.68_S_78.42_W_type:mountain\" rel=\"nofollow\"><span class=\"geo-nondefault\"><span class=\"geo-dms\" title=\"Maps, aerial photos, and other data for this location\"><span class=\"latitude\">1°41′S</span> <span class=\"longitude\">78°25′W</span></span></span><span class=\"geo-multi-punct\">﻿ / ﻿</span><span class=\"geo-default\"><span class=\"geo-dec\" title=\"Maps, aerial photos, and other data for this location\">1.68°S 78.42°W</span><span style=\"display:none\">﻿ / <span class=\"geo\">-1.68; -78.42</span></span></span></a></span></td>\n",
            "<td>Unknown\n",
            "</td></tr>\n",
            "<tr align=\"right\">\n",
            "<td align=\"left\"><a href=\"/wiki/Antisana\" title=\"Antisana\">Antisana</a></td>\n",
            "<td>5753</td>\n",
            "<td>18,870</td>\n",
            "<td><link href=\"mw-data:TemplateStyles:r994658806\" rel=\"mw-deduplicated-inline-style\"/><span class=\"plainlinks nourlexpansion\"><a class=\"external text\" href=\"//geohack.toolforge.org/geohack.php?pagename=List_of_volcanoes_in_Ecuador&amp;params=0.481_S_78.14_W_type:mountain\" rel=\"nofollow\"><span class=\"geo-nondefault\"><span class=\"geo-dms\" title=\"Maps, aerial photos, and other data for this location\"><span class=\"latitude\">0°28′52″S</span> <span class=\"longitude\">78°08′24″W</span></span></span><span class=\"geo-multi-punct\">﻿ / ﻿</span><span class=\"geo-default\"><span class=\"geo-dec\" title=\"Maps, aerial photos, and other data for this location\">0.481°S 78.14°W</span><span style=\"display:none\">﻿ / <span class=\"geo\">-0.481; -78.14</span></span></span></a></span></td>\n",
            "<td>1802\n",
            "</td></tr>\n",
            "<tr align=\"right\">\n",
            "<td align=\"left\"><a href=\"/wiki/Atacazo\" title=\"Atacazo\">Atacazo</a></td>\n",
            "<td>4463</td>\n",
            "<td>14,639</td>\n",
            "<td><link href=\"mw-data:TemplateStyles:r994658806\" rel=\"mw-deduplicated-inline-style\"/><span class=\"plainlinks nourlexpansion\"><a class=\"external text\" href=\"//geohack.toolforge.org/geohack.php?pagename=List_of_volcanoes_in_Ecuador&amp;params=0.353_S_78.617_W_type:mountain\" rel=\"nofollow\"><span class=\"geo-nondefault\"><span class=\"geo-dms\" title=\"Maps, aerial photos, and other data for this location\"><span class=\"latitude\">0°21′11″S</span> <span class=\"longitude\">78°37′01″W</span></span></span><span class=\"geo-multi-punct\">﻿ / ﻿</span><span class=\"geo-default\"><span class=\"geo-dec\" title=\"Maps, aerial photos, and other data for this location\">0.353°S 78.617°W</span><span style=\"display:none\">﻿ / <span class=\"geo\">-0.353; -78.617</span></span></span></a></span></td>\n",
            "<td>-\n",
            "</td></tr>\n",
            "<tr align=\"right\">\n",
            "<td align=\"left\"><a href=\"/wiki/Carihuairazo\" title=\"Carihuairazo\">Carihuairazo</a></td>\n",
            "<td>5018</td>\n",
            "<td>16,463</td>\n",
            "<td><link href=\"mw-data:TemplateStyles:r994658806\" rel=\"mw-deduplicated-inline-style\"/><span class=\"plainlinks nourlexpansion\"><a class=\"external text\" href=\"//geohack.toolforge.org/geohack.php?pagename=List_of_volcanoes_in_Ecuador&amp;params=01_24_25_S_78_45_00_W_type:mountain\" rel=\"nofollow\"><span class=\"geo-default\"><span class=\"geo-dms\" title=\"Maps, aerial photos, and other data for this location\"><span class=\"latitude\">01°24′25″S</span> <span class=\"longitude\">78°45′00″W</span></span></span><span class=\"geo-multi-punct\">﻿ / ﻿</span><span class=\"geo-nondefault\"><span class=\"geo-dec\" title=\"Maps, aerial photos, and other data for this location\">1.40694°S 78.75000°W</span><span style=\"display:none\">﻿ / <span class=\"geo\">-1.40694; -78.75000</span></span></span></a></span></td>\n",
            "<td>Unknown\n",
            "</td></tr>\n",
            "<tr align=\"right\">\n",
            "<td align=\"left\"><a href=\"/wiki/Cayambe_(volcano)\" title=\"Cayambe (volcano)\">Cayambe</a></td>\n",
            "<td>5790</td>\n",
            "<td>18,991</td>\n",
            "<td><link href=\"mw-data:TemplateStyles:r994658806\" rel=\"mw-deduplicated-inline-style\"/><span class=\"plainlinks nourlexpansion\"><a class=\"external text\" href=\"//geohack.toolforge.org/geohack.php?pagename=List_of_volcanoes_in_Ecuador&amp;params=0.029_N_77.986_W_type:mountain\" rel=\"nofollow\"><span class=\"geo-nondefault\"><span class=\"geo-dms\" title=\"Maps, aerial photos, and other data for this location\"><span class=\"latitude\">0°01′44″N</span> <span class=\"longitude\">77°59′10″W</span></span></span><span class=\"geo-multi-punct\">﻿ / ﻿</span><span class=\"geo-default\"><span class=\"geo-dec\" title=\"Maps, aerial photos, and other data for this location\">0.029°N 77.986°W</span><span style=\"display:none\">﻿ / <span class=\"geo\">0.029; -77.986</span></span></span></a></span></td>\n",
            "<td>1786\n",
            "</td></tr>\n",
            "<tr align=\"right\">\n",
            "<td align=\"left\"><a href=\"/wiki/Chacana\" title=\"Chacana\">Chakana</a></td>\n",
            "<td>4643</td>\n",
            "<td>15,229</td>\n",
            "<td><link href=\"mw-data:TemplateStyles:r994658806\" rel=\"mw-deduplicated-inline-style\"/><span class=\"plainlinks nourlexpansion\"><a class=\"external text\" href=\"//geohack.toolforge.org/geohack.php?pagename=List_of_volcanoes_in_Ecuador&amp;params=0.37_S_78.25_W_type:mountain\" rel=\"nofollow\"><span class=\"geo-nondefault\"><span class=\"geo-dms\" title=\"Maps, aerial photos, and other data for this location\"><span class=\"latitude\">0°22′S</span> <span class=\"longitude\">78°15′W</span></span></span><span class=\"geo-multi-punct\">﻿ / ﻿</span><span class=\"geo-default\"><span class=\"geo-dec\" title=\"Maps, aerial photos, and other data for this location\">0.37°S 78.25°W</span><span style=\"display:none\">﻿ / <span class=\"geo\">-0.37; -78.25</span></span></span></a></span></td>\n",
            "<td>1773\n",
            "</td></tr>\n",
            "<tr align=\"right\">\n",
            "<td align=\"left\"><a href=\"/wiki/Chiles_(volcano)\" title=\"Chiles (volcano)\">Chiles</a></td>\n",
            "<td>4756</td>\n",
            "<td>15,616</td>\n",
            "<td><link href=\"mw-data:TemplateStyles:r994658806\" rel=\"mw-deduplicated-inline-style\"/><span class=\"plainlinks nourlexpansion\"><a class=\"external text\" href=\"//geohack.toolforge.org/geohack.php?pagename=List_of_volcanoes_in_Ecuador&amp;params=0_47_52_N_77_57_3_W_\" rel=\"nofollow\"><span class=\"geo-default\"><span class=\"geo-dms\" title=\"Maps, aerial photos, and other data for this location\"><span class=\"latitude\">0°47′52″N</span> <span class=\"longitude\">77°57′3″W</span></span></span><span class=\"geo-multi-punct\">﻿ / ﻿</span><span class=\"geo-nondefault\"><span class=\"geo-dec\" title=\"Maps, aerial photos, and other data for this location\">0.79778°N 77.95083°W</span><span style=\"display:none\">﻿ / <span class=\"geo\">0.79778; -77.95083</span></span></span></a></span></td>\n",
            "<td>1936\n",
            "</td></tr>\n",
            "<tr align=\"right\">\n",
            "<td align=\"left\"><a href=\"/wiki/Chimborazo\" title=\"Chimborazo\">Chimborazo</a></td>\n",
            "<td>6310</td>\n",
            "<td>20,560</td>\n",
            "<td><link href=\"mw-data:TemplateStyles:r994658806\" rel=\"mw-deduplicated-inline-style\"/><span class=\"plainlinks nourlexpansion\"><a class=\"external text\" href=\"//geohack.toolforge.org/geohack.php?pagename=List_of_volcanoes_in_Ecuador&amp;params=01_28_09_S_78_49_03_W_region:EC-H_type:mountain\" rel=\"nofollow\"><span class=\"geo-default\"><span class=\"geo-dms\" title=\"Maps, aerial photos, and other data for this location\"><span class=\"latitude\">01°28′09″S</span> <span class=\"longitude\">78°49′03″W</span></span></span><span class=\"geo-multi-punct\">﻿ / ﻿</span><span class=\"geo-nondefault\"><span class=\"geo-dec\" title=\"Maps, aerial photos, and other data for this location\">1.46917°S 78.81750°W</span><span style=\"display:none\">﻿ / <span class=\"geo\">-1.46917; -78.81750</span></span></span></a></span></td>\n",
            "<td>640 AD ± 500 years\n",
            "</td></tr>\n",
            "<tr align=\"right\">\n",
            "<td align=\"left\"><a href=\"/wiki/Coraz%C3%B3n_(volcano)\" title=\"Corazón (volcano)\">Corazón</a></td>\n",
            "<td>4790</td>\n",
            "<td>15,715</td>\n",
            "<td><link href=\"mw-data:TemplateStyles:r994658806\" rel=\"mw-deduplicated-inline-style\"/><span class=\"plainlinks nourlexpansion\"><a class=\"external text\" href=\"//geohack.toolforge.org/geohack.php?pagename=List_of_volcanoes_in_Ecuador&amp;params=0.43_S_77.72_W_type:mountain\" rel=\"nofollow\"><span class=\"geo-nondefault\"><span class=\"geo-dms\" title=\"Maps, aerial photos, and other data for this location\"><span class=\"latitude\">0°26′S</span> <span class=\"longitude\">77°43′W</span></span></span><span class=\"geo-multi-punct\">﻿ / ﻿</span><span class=\"geo-default\"><span class=\"geo-dec\" title=\"Maps, aerial photos, and other data for this location\">0.43°S 77.72°W</span><span style=\"display:none\">﻿ / <span class=\"geo\">-0.43; -77.72</span></span></span></a></span></td>\n",
            "<td>Holocene\n",
            "</td></tr>\n",
            "<tr align=\"right\">\n",
            "<td align=\"left\"><a href=\"/wiki/Cotacachi_Volcano\" title=\"Cotacachi Volcano\">Cotacachi</a></td>\n",
            "<td>4944</td>\n",
            "<td>16220</td>\n",
            "<td><link href=\"mw-data:TemplateStyles:r994658806\" rel=\"mw-deduplicated-inline-style\"/><span class=\"plainlinks nourlexpansion\"><a class=\"external text\" href=\"//geohack.toolforge.org/geohack.php?pagename=List_of_volcanoes_in_Ecuador&amp;params=0_21_39_N_78_20_57_W_type:mountain\" rel=\"nofollow\"><span class=\"geo-default\"><span class=\"geo-dms\" title=\"Maps, aerial photos, and other data for this location\"><span class=\"latitude\">0°21′39″N</span> <span class=\"longitude\">78°20′57″W</span></span></span><span class=\"geo-multi-punct\">﻿ / ﻿</span><span class=\"geo-nondefault\"><span class=\"geo-dec\" title=\"Maps, aerial photos, and other data for this location\">0.36083°N 78.34917°W</span><span style=\"display:none\">﻿ / <span class=\"geo\">0.36083; -78.34917</span></span></span></a></span></td>\n",
            "<td>Holocene\n",
            "</td></tr>\n",
            "<tr align=\"right\">\n",
            "<td align=\"left\"><a href=\"/wiki/Cotopaxi\" title=\"Cotopaxi\">Cotopaxi</a></td>\n",
            "<td>5897</td>\n",
            "<td>19,347</td>\n",
            "<td><link href=\"mw-data:TemplateStyles:r994658806\" rel=\"mw-deduplicated-inline-style\"/><span class=\"plainlinks nourlexpansion\"><a class=\"external text\" href=\"//geohack.toolforge.org/geohack.php?pagename=List_of_volcanoes_in_Ecuador&amp;params=0.677_S_78.436_W_type:mountain\" rel=\"nofollow\"><span class=\"geo-nondefault\"><span class=\"geo-dms\" title=\"Maps, aerial photos, and other data for this location\"><span class=\"latitude\">0°40′37″S</span> <span class=\"longitude\">78°26′10″W</span></span></span><span class=\"geo-multi-punct\">﻿ / ﻿</span><span class=\"geo-default\"><span class=\"geo-dec\" title=\"Maps, aerial photos, and other data for this location\">0.677°S 78.436°W</span><span style=\"display:none\">﻿ / <span class=\"geo\">-0.677; -78.436</span></span></span></a></span></td>\n",
            "<td>2015\n",
            "</td></tr>\n",
            "<tr align=\"right\">\n",
            "<td align=\"left\"><a href=\"/wiki/Cuicocha\" title=\"Cuicocha\">Cuicocha</a></td>\n",
            "<td>3246</td>\n",
            "<td>10,649</td>\n",
            "<td><link href=\"mw-data:TemplateStyles:r994658806\" rel=\"mw-deduplicated-inline-style\"/><span class=\"plainlinks nourlexpansion\"><a class=\"external text\" href=\"//geohack.toolforge.org/geohack.php?pagename=List_of_volcanoes_in_Ecuador&amp;params=0_18_30_N_78_21_50_W_type:mountain\" rel=\"nofollow\"><span class=\"geo-default\"><span class=\"geo-dms\" title=\"Maps, aerial photos, and other data for this location\"><span class=\"latitude\">0°18′30″N</span> <span class=\"longitude\">78°21′50″W</span></span></span><span class=\"geo-multi-punct\">﻿ / ﻿</span><span class=\"geo-nondefault\"><span class=\"geo-dec\" title=\"Maps, aerial photos, and other data for this location\">0.30833°N 78.36389°W</span><span style=\"display:none\">﻿ / <span class=\"geo\">0.30833; -78.36389</span></span></span></a></span></td>\n",
            "<td>950 BCE\n",
            "</td></tr>\n",
            "<tr align=\"right\">\n",
            "<td align=\"left\"><a href=\"/wiki/Cusin\" title=\"Cusin\">Cusin</a></td>\n",
            "<td>-</td>\n",
            "<td>-</td>\n",
            "<td><link href=\"mw-data:TemplateStyles:r994658806\" rel=\"mw-deduplicated-inline-style\"/><span class=\"plainlinks nourlexpansion\"><a class=\"external text\" href=\"//geohack.toolforge.org/geohack.php?pagename=List_of_volcanoes_in_Ecuador&amp;params=0.15_N_78.14_W_type:mountain\" rel=\"nofollow\"><span class=\"geo-nondefault\"><span class=\"geo-dms\" title=\"Maps, aerial photos, and other data for this location\"><span class=\"latitude\">0°09′N</span> <span class=\"longitude\">78°08′W</span></span></span><span class=\"geo-multi-punct\">﻿ / ﻿</span><span class=\"geo-default\"><span class=\"geo-dec\" title=\"Maps, aerial photos, and other data for this location\">0.15°N 78.14°W</span><span style=\"display:none\">﻿ / <span class=\"geo\">0.15; -78.14</span></span></span></a></span></td>\n",
            "<td>-\n",
            "</td></tr>\n",
            "<tr align=\"right\">\n",
            "<td align=\"left\"><a href=\"/wiki/Illiniza\" title=\"Illiniza\">Illiniza</a></td>\n",
            "<td>5248</td>\n",
            "<td>17,213</td>\n",
            "<td><link href=\"mw-data:TemplateStyles:r994658806\" rel=\"mw-deduplicated-inline-style\"/><span class=\"plainlinks nourlexpansion\"><a class=\"external text\" href=\"//geohack.toolforge.org/geohack.php?pagename=List_of_volcanoes_in_Ecuador&amp;params=0.659_S_78.714_W_type:mountain\" rel=\"nofollow\"><span class=\"geo-nondefault\"><span class=\"geo-dms\" title=\"Maps, aerial photos, and other data for this location\"><span class=\"latitude\">0°39′32″S</span> <span class=\"longitude\">78°42′50″W</span></span></span><span class=\"geo-multi-punct\">﻿ / ﻿</span><span class=\"geo-default\"><span class=\"geo-dec\" title=\"Maps, aerial photos, and other data for this location\">0.659°S 78.714°W</span><span style=\"display:none\">﻿ / <span class=\"geo\">-0.659; -78.714</span></span></span></a></span></td>\n",
            "<td>Holocene\n",
            "</td></tr>\n",
            "<tr align=\"right\">\n",
            "<td align=\"left\"><a href=\"/wiki/Imbabura_Volcano\" title=\"Imbabura Volcano\">Imbabura</a></td>\n",
            "<td>4557</td>\n",
            "<td>14,952</td>\n",
            "<td><link href=\"mw-data:TemplateStyles:r994658806\" rel=\"mw-deduplicated-inline-style\"/><span class=\"plainlinks nourlexpansion\"><a class=\"external text\" href=\"//geohack.toolforge.org/geohack.php?pagename=List_of_volcanoes_in_Ecuador&amp;params=0.26_N_78.18_W_type:mountain&amp;title=Imbabura+Volcano\" rel=\"nofollow\"><span class=\"geo-nondefault\"><span class=\"geo-dms\" title=\"Maps, aerial photos, and other data for this location\"><span class=\"latitude\">0°16′N</span> <span class=\"longitude\">78°11′W</span></span></span><span class=\"geo-multi-punct\">﻿ / ﻿</span><span class=\"geo-default\"><span class=\"vcard\"><span class=\"geo-dec\" title=\"Maps, aerial photos, and other data for this location\">0.26°N 78.18°W</span><span style=\"display:none\">﻿ / <span class=\"geo\">0.26; -78.18</span></span><span style=\"display:none\">﻿ (<span class=\"fn org\">Imbabura Volcano</span>)</span></span></span></a></span></td>\n",
            "<td>Late Pleistocene\n",
            "</td></tr>\n",
            "<tr align=\"right\">\n",
            "<td align=\"left\"><a class=\"new\" href=\"/w/index.php?title=Licto&amp;action=edit&amp;redlink=1\" title=\"Licto (page does not exist)\">Licto</a></td>\n",
            "<td>3336</td>\n",
            "<td>10,945</td>\n",
            "<td><link href=\"mw-data:TemplateStyles:r994658806\" rel=\"mw-deduplicated-inline-style\"/><span class=\"plainlinks nourlexpansion\"><a class=\"external text\" href=\"//geohack.toolforge.org/geohack.php?pagename=List_of_volcanoes_in_Ecuador&amp;params=1.78_S_78.613_W_type:mountain\" rel=\"nofollow\"><span class=\"geo-nondefault\"><span class=\"geo-dms\" title=\"Maps, aerial photos, and other data for this location\"><span class=\"latitude\">1°46′48″S</span> <span class=\"longitude\">78°36′47″W</span></span></span><span class=\"geo-multi-punct\">﻿ / ﻿</span><span class=\"geo-default\"><span class=\"geo-dec\" title=\"Maps, aerial photos, and other data for this location\">1.78°S 78.613°W</span><span style=\"display:none\">﻿ / <span class=\"geo\">-1.78; -78.613</span></span></span></a></span></td>\n",
            "<td>Holocene-Pleistocene\n",
            "</td></tr>\n",
            "<tr align=\"right\">\n",
            "<td align=\"left\"><a href=\"/wiki/Mojanda\" title=\"Mojanda\">Mojanda</a></td>\n",
            "<td>4263</td>\n",
            "<td>13,983</td>\n",
            "<td><link href=\"mw-data:TemplateStyles:r994658806\" rel=\"mw-deduplicated-inline-style\"/><span class=\"plainlinks nourlexpansion\"><a class=\"external text\" href=\"//geohack.toolforge.org/geohack.php?pagename=List_of_volcanoes_in_Ecuador&amp;params=0.13_N_78.27_W_type:mountain\" rel=\"nofollow\"><span class=\"geo-nondefault\"><span class=\"geo-dms\" title=\"Maps, aerial photos, and other data for this location\"><span class=\"latitude\">0°08′N</span> <span class=\"longitude\">78°16′W</span></span></span><span class=\"geo-multi-punct\">﻿ / ﻿</span><span class=\"geo-default\"><span class=\"geo-dec\" title=\"Maps, aerial photos, and other data for this location\">0.13°N 78.27°W</span><span style=\"display:none\">﻿ / <span class=\"geo\">0.13; -78.27</span></span></span></a></span></td>\n",
            "<td>Holocene\n",
            "</td></tr>\n",
            "<tr>\n",
            "<td><a href=\"/wiki/Ninahuilca\" title=\"Ninahuilca\">Ninahuilca</a>\n",
            "</td>\n",
            "<td>\n",
            "</td>\n",
            "<td>\n",
            "</td>\n",
            "<td>\n",
            "</td>\n",
            "<td>\n",
            "</td></tr>\n",
            "<tr align=\"right\">\n",
            "<td align=\"left\"><a class=\"mw-redirect\" href=\"/wiki/Pan_de_Azucar_(volcano)\" title=\"Pan de Azucar (volcano)\">Pan de Azucar</a></td>\n",
            "<td>3482</td>\n",
            "<td>11,424</td>\n",
            "<td><link href=\"mw-data:TemplateStyles:r994658806\" rel=\"mw-deduplicated-inline-style\"/><span class=\"plainlinks nourlexpansion\"><a class=\"external text\" href=\"//geohack.toolforge.org/geohack.php?pagename=List_of_volcanoes_in_Ecuador&amp;params=0.43_S_77.72_W_type:mountain\" rel=\"nofollow\"><span class=\"geo-nondefault\"><span class=\"geo-dms\" title=\"Maps, aerial photos, and other data for this location\"><span class=\"latitude\">0°26′S</span> <span class=\"longitude\">77°43′W</span></span></span><span class=\"geo-multi-punct\">﻿ / ﻿</span><span class=\"geo-default\"><span class=\"geo-dec\" title=\"Maps, aerial photos, and other data for this location\">0.43°S 77.72°W</span><span style=\"display:none\">﻿ / <span class=\"geo\">-0.43; -77.72</span></span></span></a></span></td>\n",
            "<td>Holocene\n",
            "</td></tr>\n",
            "<tr align=\"right\">\n",
            "<td align=\"left\"><a href=\"/wiki/Pasochoa\" title=\"Pasochoa\">Pasochoa</a></td>\n",
            "<td>4200</td>\n",
            "<td>-</td>\n",
            "<td><link href=\"mw-data:TemplateStyles:r994658806\" rel=\"mw-deduplicated-inline-style\"/><span class=\"plainlinks nourlexpansion\"><a class=\"external text\" href=\"//geohack.toolforge.org/geohack.php?pagename=List_of_volcanoes_in_Ecuador&amp;params=0.46_S_78.48_W_type:mountain\" rel=\"nofollow\"><span class=\"geo-nondefault\"><span class=\"geo-dms\" title=\"Maps, aerial photos, and other data for this location\"><span class=\"latitude\">0°28′S</span> <span class=\"longitude\">78°29′W</span></span></span><span class=\"geo-multi-punct\">﻿ / ﻿</span><span class=\"geo-default\"><span class=\"geo-dec\" title=\"Maps, aerial photos, and other data for this location\">0.46°S 78.48°W</span><span style=\"display:none\">﻿ / <span class=\"geo\">-0.46; -78.48</span></span></span></a></span></td>\n",
            "<td>Extinct\n",
            "</td></tr>\n",
            "<tr align=\"right\">\n",
            "<td align=\"left\"><a href=\"/wiki/Pichincha_(volcano)\" title=\"Pichincha (volcano)\">Guagua Pichincha</a></td>\n",
            "<td>4784</td>\n",
            "<td>15,692</td>\n",
            "<td><link href=\"mw-data:TemplateStyles:r994658806\" rel=\"mw-deduplicated-inline-style\"/><span class=\"plainlinks nourlexpansion\"><a class=\"external text\" href=\"//geohack.toolforge.org/geohack.php?pagename=List_of_volcanoes_in_Ecuador&amp;params=0.171_S_78.598_W_type:mountain\" rel=\"nofollow\"><span class=\"geo-nondefault\"><span class=\"geo-dms\" title=\"Maps, aerial photos, and other data for this location\"><span class=\"latitude\">0°10′16″S</span> <span class=\"longitude\">78°35′53″W</span></span></span><span class=\"geo-multi-punct\">﻿ / ﻿</span><span class=\"geo-default\"><span class=\"geo-dec\" title=\"Maps, aerial photos, and other data for this location\">0.171°S 78.598°W</span><span style=\"display:none\">﻿ / <span class=\"geo\">-0.171; -78.598</span></span></span></a></span></td>\n",
            "<td>2004\n",
            "</td></tr>\n",
            "<tr align=\"right\">\n",
            "<td align=\"left\"><a href=\"/wiki/Pilavo\" title=\"Pilavo\">Pilavo</a></td>\n",
            "<td></td>\n",
            "<td></td>\n",
            "<td><link href=\"mw-data:TemplateStyles:r994658806\" rel=\"mw-deduplicated-inline-style\"/><span class=\"plainlinks nourlexpansion\"><a class=\"external text\" href=\"//geohack.toolforge.org/geohack.php?pagename=List_of_volcanoes_in_Ecuador&amp;params=8_31_N_78_22_W_type:mountain\" rel=\"nofollow\"><span class=\"geo-default\"><span class=\"geo-dms\" title=\"Maps, aerial photos, and other data for this location\"><span class=\"latitude\">8°31′N</span> <span class=\"longitude\">78°22′W</span></span></span><span class=\"geo-multi-punct\">﻿ / ﻿</span><span class=\"geo-nondefault\"><span class=\"geo-dec\" title=\"Maps, aerial photos, and other data for this location\">8.517°N 78.367°W</span><span style=\"display:none\">﻿ / <span class=\"geo\">8.517; -78.367</span></span></span></a></span></td>\n",
            "<td>20,000/40,000 - 8,000 years before present\n",
            "</td></tr>\n",
            "<tr align=\"right\">\n",
            "<td align=\"left\"><a class=\"mw-redirect\" href=\"/wiki/Pululagua\" title=\"Pululagua\">Pululagua</a></td>\n",
            "<td>3356</td>\n",
            "<td>11,008</td>\n",
            "<td><link href=\"mw-data:TemplateStyles:r994658806\" rel=\"mw-deduplicated-inline-style\"/><span class=\"plainlinks nourlexpansion\"><a class=\"external text\" href=\"//geohack.toolforge.org/geohack.php?pagename=List_of_volcanoes_in_Ecuador&amp;params=0.038_N_78.463_W_type:mountain\" rel=\"nofollow\"><span class=\"geo-nondefault\"><span class=\"geo-dms\" title=\"Maps, aerial photos, and other data for this location\"><span class=\"latitude\">0°02′17″N</span> <span class=\"longitude\">78°27′47″W</span></span></span><span class=\"geo-multi-punct\">﻿ / ﻿</span><span class=\"geo-default\"><span class=\"geo-dec\" title=\"Maps, aerial photos, and other data for this location\">0.038°N 78.463°W</span><span style=\"display:none\">﻿ / <span class=\"geo\">0.038; -78.463</span></span></span></a></span></td>\n",
            "<td>467 BCE\n",
            "</td></tr>\n",
            "<tr align=\"right\">\n",
            "<td align=\"left\"><a href=\"/wiki/Quilotoa\" title=\"Quilotoa\">Quilotoa</a></td>\n",
            "<td>3914</td>\n",
            "<td>12,838</td>\n",
            "<td><link href=\"mw-data:TemplateStyles:r994658806\" rel=\"mw-deduplicated-inline-style\"/><span class=\"plainlinks nourlexpansion\"><a class=\"external text\" href=\"//geohack.toolforge.org/geohack.php?pagename=List_of_volcanoes_in_Ecuador&amp;params=0.85_S_78.90_W_type:mountain\" rel=\"nofollow\"><span class=\"geo-nondefault\"><span class=\"geo-dms\" title=\"Maps, aerial photos, and other data for this location\"><span class=\"latitude\">0°51′S</span> <span class=\"longitude\">78°54′W</span></span></span><span class=\"geo-multi-punct\">﻿ / ﻿</span><span class=\"geo-default\"><span class=\"geo-dec\" title=\"Maps, aerial photos, and other data for this location\">0.85°S 78.90°W</span><span style=\"display:none\">﻿ / <span class=\"geo\">-0.85; -78.90</span></span></span></a></span></td>\n",
            "<td>1797\n",
            "</td></tr>\n",
            "<tr align=\"right\">\n",
            "<td align=\"left\"><a href=\"/wiki/Reventador\" title=\"Reventador\">Reventador</a></td>\n",
            "<td>3562</td>\n",
            "<td>11,683</td>\n",
            "<td><link href=\"mw-data:TemplateStyles:r994658806\" rel=\"mw-deduplicated-inline-style\"/><span class=\"plainlinks nourlexpansion\"><a class=\"external text\" href=\"//geohack.toolforge.org/geohack.php?pagename=List_of_volcanoes_in_Ecuador&amp;params=0.007_S_77.65_W_type:mountain\" rel=\"nofollow\"><span class=\"geo-nondefault\"><span class=\"geo-dms\" title=\"Maps, aerial photos, and other data for this location\"><span class=\"latitude\">0°00′25″S</span> <span class=\"longitude\">77°39′00″W</span></span></span><span class=\"geo-multi-punct\">﻿ / ﻿</span><span class=\"geo-default\"><span class=\"geo-dec\" title=\"Maps, aerial photos, and other data for this location\">0.007°S 77.65°W</span><span style=\"display:none\">﻿ / <span class=\"geo\">-0.007; -77.65</span></span></span></a></span></td>\n",
            "<td>2009-2021 (ongoing)\n",
            "</td></tr>\n",
            "<tr align=\"right\">\n",
            "<td align=\"left\"><a href=\"/wiki/Rumi%C3%B1ahui_(volcano)\" title=\"Rumiñahui (volcano)\">Rumiñawi</a></td>\n",
            "<td>4721</td>\n",
            "<td>15,489</td>\n",
            "<td><link href=\"mw-data:TemplateStyles:r994658806\" rel=\"mw-deduplicated-inline-style\"/><span class=\"plainlinks nourlexpansion\"><a class=\"external text\" href=\"//geohack.toolforge.org/geohack.php?pagename=List_of_volcanoes_in_Ecuador&amp;params=0_38_0_S_78_32_0_W_type:mountain\" rel=\"nofollow\"><span class=\"geo-default\"><span class=\"geo-dms\" title=\"Maps, aerial photos, and other data for this location\"><span class=\"latitude\">0°38′0″S</span> <span class=\"longitude\">78°32′0″W</span></span></span><span class=\"geo-multi-punct\">﻿ / ﻿</span><span class=\"geo-nondefault\"><span class=\"geo-dec\" title=\"Maps, aerial photos, and other data for this location\">0.63333°S 78.53333°W</span><span style=\"display:none\">﻿ / <span class=\"geo\">-0.63333; -78.53333</span></span></span></a></span></td>\n",
            "<td>Unknown\n",
            "</td></tr>\n",
            "<tr align=\"right\">\n",
            "<td align=\"left\"><a href=\"/wiki/Sangay\" title=\"Sangay\">Sangay</a></td>\n",
            "<td>5188</td>\n",
            "<td>17,017</td>\n",
            "<td><link href=\"mw-data:TemplateStyles:r994658806\" rel=\"mw-deduplicated-inline-style\"/><span class=\"plainlinks nourlexpansion\"><a class=\"external text\" href=\"//geohack.toolforge.org/geohack.php?pagename=List_of_volcanoes_in_Ecuador&amp;params=2.03_S_78.34_W_type:mountain\" rel=\"nofollow\"><span class=\"geo-nondefault\"><span class=\"geo-dms\" title=\"Maps, aerial photos, and other data for this location\"><span class=\"latitude\">2°02′S</span> <span class=\"longitude\">78°20′W</span></span></span><span class=\"geo-multi-punct\">﻿ / ﻿</span><span class=\"geo-default\"><span class=\"geo-dec\" title=\"Maps, aerial photos, and other data for this location\">2.03°S 78.34°W</span><span style=\"display:none\">﻿ / <span class=\"geo\">-2.03; -78.34</span></span></span></a></span></td>\n",
            "<td>2020\n",
            "</td></tr>\n",
            "<tr align=\"right\">\n",
            "<td align=\"left\"><a class=\"mw-redirect\" href=\"/wiki/Sincholagua\" title=\"Sincholagua\">Sincholagua</a></td>\n",
            "<td>4873</td>\n",
            "<td>-</td>\n",
            "<td><link href=\"mw-data:TemplateStyles:r994658806\" rel=\"mw-deduplicated-inline-style\"/><span class=\"plainlinks nourlexpansion\"><a class=\"external text\" href=\"//geohack.toolforge.org/geohack.php?pagename=List_of_volcanoes_in_Ecuador&amp;params=0_32_44.86_S_78_21_59.69_W_type:mountain\" rel=\"nofollow\"><span class=\"geo-default\"><span class=\"geo-dms\" title=\"Maps, aerial photos, and other data for this location\"><span class=\"latitude\">0°32′44.86″S</span> <span class=\"longitude\">78°21′59.69″W</span></span></span><span class=\"geo-multi-punct\">﻿ / ﻿</span><span class=\"geo-nondefault\"><span class=\"geo-dec\" title=\"Maps, aerial photos, and other data for this location\">0.5457944°S 78.3665806°W</span><span style=\"display:none\">﻿ / <span class=\"geo\">-0.5457944; -78.3665806</span></span></span></a></span></td>\n",
            "<td>-\n",
            "</td></tr>\n",
            "<tr align=\"right\">\n",
            "<td align=\"left\"><a href=\"/wiki/Soche\" title=\"Soche\">Soche</a></td>\n",
            "<td>3955</td>\n",
            "<td>12,972</td>\n",
            "<td><link href=\"mw-data:TemplateStyles:r994658806\" rel=\"mw-deduplicated-inline-style\"/><span class=\"plainlinks nourlexpansion\"><a class=\"external text\" href=\"//geohack.toolforge.org/geohack.php?pagename=List_of_volcanoes_in_Ecuador&amp;params=0.552_N_77.580_W_type:mountain\" rel=\"nofollow\"><span class=\"geo-nondefault\"><span class=\"geo-dms\" title=\"Maps, aerial photos, and other data for this location\"><span class=\"latitude\">0°33′07″N</span> <span class=\"longitude\">77°34′48″W</span></span></span><span class=\"geo-multi-punct\">﻿ / ﻿</span><span class=\"geo-default\"><span class=\"geo-dec\" title=\"Maps, aerial photos, and other data for this location\">0.552°N 77.580°W</span><span style=\"display:none\">﻿ / <span class=\"geo\">0.552; -77.580</span></span></span></a></span></td>\n",
            "<td>-\n",
            "</td></tr>\n",
            "<tr align=\"right\">\n",
            "<td align=\"left\"><a href=\"/wiki/Sumaco\" title=\"Sumaco\">Sumaco</a></td>\n",
            "<td>3990</td>\n",
            "<td>13,087</td>\n",
            "<td><link href=\"mw-data:TemplateStyles:r994658806\" rel=\"mw-deduplicated-inline-style\"/><span class=\"plainlinks nourlexpansion\"><a class=\"external text\" href=\"//geohack.toolforge.org/geohack.php?pagename=List_of_volcanoes_in_Ecuador&amp;params=0.53_S_77.62_W_type:mountain\" rel=\"nofollow\"><span class=\"geo-nondefault\"><span class=\"geo-dms\" title=\"Maps, aerial photos, and other data for this location\"><span class=\"latitude\">0°32′S</span> <span class=\"longitude\">77°37′W</span></span></span><span class=\"geo-multi-punct\">﻿ / ﻿</span><span class=\"geo-default\"><span class=\"geo-dec\" title=\"Maps, aerial photos, and other data for this location\">0.53°S 77.62°W</span><span style=\"display:none\">﻿ / <span class=\"geo\">-0.53; -77.62</span></span></span></a></span></td>\n",
            "<td>1933\n",
            "</td></tr>\n",
            "<tr align=\"right\">\n",
            "<td align=\"left\"><a class=\"mw-redirect\" href=\"/wiki/Tulabug\" title=\"Tulabug\">Tulabug</a></td>\n",
            "<td>3336</td>\n",
            "<td>10,942</td>\n",
            "<td><link href=\"mw-data:TemplateStyles:r994658806\" rel=\"mw-deduplicated-inline-style\"/><span class=\"plainlinks nourlexpansion\"><a class=\"external text\" href=\"//geohack.toolforge.org/geohack.php?pagename=List_of_volcanoes_in_Ecuador&amp;params=1.78_S_78.613_W_type:mountain\" rel=\"nofollow\"><span class=\"geo-nondefault\"><span class=\"geo-dms\" title=\"Maps, aerial photos, and other data for this location\"><span class=\"latitude\">1°46′48″S</span> <span class=\"longitude\">78°36′47″W</span></span></span><span class=\"geo-multi-punct\">﻿ / ﻿</span><span class=\"geo-default\"><span class=\"geo-dec\" title=\"Maps, aerial photos, and other data for this location\">1.78°S 78.613°W</span><span style=\"display:none\">﻿ / <span class=\"geo\">-1.78; -78.613</span></span></span></a></span></td>\n",
            "<td>Holocene\n",
            "</td></tr>\n",
            "<tr align=\"right\">\n",
            "<td align=\"left\"><a href=\"/wiki/Tungurahua\" title=\"Tungurahua\">Tungurahua</a></td>\n",
            "<td>5023</td>\n",
            "<td>16,475</td>\n",
            "<td><link href=\"mw-data:TemplateStyles:r994658806\" rel=\"mw-deduplicated-inline-style\"/><span class=\"plainlinks nourlexpansion\"><a class=\"external text\" href=\"//geohack.toolforge.org/geohack.php?pagename=List_of_volcanoes_in_Ecuador&amp;params=1.467_S_78.442_W_type:mountain\" rel=\"nofollow\"><span class=\"geo-nondefault\"><span class=\"geo-dms\" title=\"Maps, aerial photos, and other data for this location\"><span class=\"latitude\">1°28′01″S</span> <span class=\"longitude\">78°26′31″W</span></span></span><span class=\"geo-multi-punct\">﻿ / ﻿</span><span class=\"geo-default\"><span class=\"geo-dec\" title=\"Maps, aerial photos, and other data for this location\">1.467°S 78.442°W</span><span style=\"display:none\">﻿ / <span class=\"geo\">-1.467; -78.442</span></span></span></a></span></td>\n",
            "<td>2016\n",
            "</td></tr>\n",
            "<tr align=\"right\">\n",
            "<td align=\"left\"><a href=\"/wiki/Yanaurcu_(Ecuador)\" title=\"Yanaurcu (Ecuador)\">Yanaurcu</a></td>\n",
            "<td>4535</td>\n",
            "<td>14,879</td>\n",
            "<td><link href=\"mw-data:TemplateStyles:r994658806\" rel=\"mw-deduplicated-inline-style\"/><span class=\"plainlinks nourlexpansion\"><a class=\"external text\" href=\"//geohack.toolforge.org/geohack.php?pagename=List_of_volcanoes_in_Ecuador&amp;params=0.49849_N_78.33389_W_type:mountain\" rel=\"nofollow\"><span class=\"geo-nondefault\"><span class=\"geo-dms\" title=\"Maps, aerial photos, and other data for this location\"><span class=\"latitude\">0°29′55″N</span> <span class=\"longitude\">78°20′02″W</span></span></span><span class=\"geo-multi-punct\">﻿ / ﻿</span><span class=\"geo-default\"><span class=\"geo-dec\" title=\"Maps, aerial photos, and other data for this location\">0.49849°N 78.33389°W</span><span style=\"display:none\">﻿ / <span class=\"geo\">0.49849; -78.33389</span></span></span></a></span></td>\n",
            "<td>60,600 ± 20,000 years ago\n",
            "</td></tr></tbody></table>\n"
          ],
          "name": "stdout"
        }
      ]
    }
  ]
}