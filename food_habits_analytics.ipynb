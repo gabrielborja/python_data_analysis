{
  "nbformat": 4,
  "nbformat_minor": 0,
  "metadata": {
    "colab": {
      "name": "food_habits_analytics.ipynb",
      "provenance": [],
      "authorship_tag": "ABX9TyOByPuY3MwlKf1nuxPxwThQ",
      "include_colab_link": true
    },
    "kernelspec": {
      "name": "python3",
      "display_name": "Python 3"
    },
    "language_info": {
      "name": "python"
    }
  },
  "cells": [
    {
      "cell_type": "markdown",
      "metadata": {
        "id": "view-in-github",
        "colab_type": "text"
      },
      "source": [
        "<a href=\"https://colab.research.google.com/github/gabrielborja/python_data_analysis/blob/main/food_habits_analytics.ipynb\" target=\"_parent\"><img src=\"https://colab.research.google.com/assets/colab-badge.svg\" alt=\"Open In Colab\"/></a>"
      ]
    },
    {
      "cell_type": "markdown",
      "metadata": {
        "id": "eTZwpRZNRhGY"
      },
      "source": [
        "# Food habits analytics"
      ]
    },
    {
      "cell_type": "markdown",
      "metadata": {
        "id": "sgzkv1LwjLIL"
      },
      "source": [
        "## Uploading packages and data"
      ]
    },
    {
      "cell_type": "code",
      "metadata": {
        "id": "QTRtRZcb-IyF"
      },
      "source": [
        "#Importing necessary packages\n",
        "import numpy as np\n",
        "import pandas as pd\n",
        "import matplotlib.pyplot as plt\n",
        "import seaborn as sns"
      ],
      "execution_count": 1,
      "outputs": []
    },
    {
      "cell_type": "code",
      "metadata": {
        "id": "1Z4jxJjRRPLB"
      },
      "source": [
        "#Remove previous versions of the uploaded excel file\n",
        "!rm food_habits.xlsx"
      ],
      "execution_count": 5,
      "outputs": []
    },
    {
      "cell_type": "code",
      "metadata": {
        "id": "oen97ED1-rh-"
      },
      "source": [
        "#Uploading file from local drive\n",
        "from google.colab import files\n",
        "uploaded1 = files.upload()"
      ],
      "execution_count": null,
      "outputs": []
    },
    {
      "cell_type": "code",
      "metadata": {
        "id": "03VoNwL0-3O6"
      },
      "source": [
        "#Storing dataset in a Pandas Dataframe\n",
        "import io\n",
        "df1 = pd.read_excel(io.BytesIO(uploaded1['food_habits.xlsx'])) #==> setting Event (datetime) as index to perform date slicing"
      ],
      "execution_count": 4,
      "outputs": []
    },
    {
      "cell_type": "code",
      "metadata": {
        "colab": {
          "base_uri": "https://localhost:8080/"
        },
        "id": "-_RIDGJurxGe",
        "outputId": "24fa5ed2-3170-41d9-da62-3d76197ddc37"
      },
      "source": [
        "#Checking the dataframe info\n",
        "df1.info()"
      ],
      "execution_count": 5,
      "outputs": [
        {
          "output_type": "stream",
          "text": [
            "<class 'pandas.core.frame.DataFrame'>\n",
            "RangeIndex: 78 entries, 0 to 77\n",
            "Data columns (total 5 columns):\n",
            " #   Column      Non-Null Count  Dtype         \n",
            "---  ------      --------------  -----         \n",
            " 0   date        78 non-null     datetime64[ns]\n",
            " 1   time        78 non-null     object        \n",
            " 2   food        70 non-null     object        \n",
            " 3   large_meal  78 non-null     int64         \n",
            " 4   void_ev     78 non-null     int64         \n",
            "dtypes: datetime64[ns](1), int64(2), object(2)\n",
            "memory usage: 3.2+ KB\n"
          ],
          "name": "stdout"
        }
      ]
    },
    {
      "cell_type": "markdown",
      "metadata": {
        "id": "XcMODXQNx0mo"
      },
      "source": [
        "##Data Manipulation"
      ]
    },
    {
      "cell_type": "code",
      "metadata": {
        "colab": {
          "base_uri": "https://localhost:8080/"
        },
        "id": "6uMbS2i5393j",
        "outputId": "120bd58c-1e8b-44e8-e78b-2338860b3aef"
      },
      "source": [
        "#Transforming to list\n",
        "list_1 = df1['food'].str.cat(sep=', ').split(\", \")\n",
        "list_1[:10]"
      ],
      "execution_count": 41,
      "outputs": [
        {
          "output_type": "execute_result",
          "data": {
            "text/plain": [
              "['bread',\n",
              " 'pepperoni',\n",
              " 'ham',\n",
              " 'cheese',\n",
              " 'ricotta',\n",
              " 'mustard',\n",
              " 'hot sauce',\n",
              " 'potato chips',\n",
              " 'pizza',\n",
              " 'tomato_sauce']"
            ]
          },
          "metadata": {
            "tags": []
          },
          "execution_count": 41
        }
      ]
    },
    {
      "cell_type": "code",
      "metadata": {
        "colab": {
          "base_uri": "https://localhost:8080/"
        },
        "id": "cY1xujHH77P-",
        "outputId": "60db455d-c944-43a5-fd7a-a3444eac40d9"
      },
      "source": [
        "#Building dictionary of occurrences for each food\n",
        "import collections\n",
        "occurrences = collections.Counter(list_1)\n",
        "occurrences"
      ],
      "execution_count": 46,
      "outputs": [
        {
          "output_type": "execute_result",
          "data": {
            "text/plain": [
              "Counter({'aioli': 13,\n",
              "         'aoili': 1,\n",
              "         'appel_ cider_vinager': 1,\n",
              "         'apple': 5,\n",
              "         'apple_cider_vinager': 1,\n",
              "         'apple_cyder': 1,\n",
              "         'arepa': 5,\n",
              "         'avocado': 5,\n",
              "         'bacon': 2,\n",
              "         'baguette': 9,\n",
              "         'balsamic': 5,\n",
              "         'banana': 6,\n",
              "         'bbq_sauce': 4,\n",
              "         'beans': 4,\n",
              "         'beef': 3,\n",
              "         'beer': 3,\n",
              "         'blue_cheese': 1,\n",
              "         'bread': 23,\n",
              "         'bread_sticks': 1,\n",
              "         'brioche_bread': 2,\n",
              "         'broccoli': 5,\n",
              "         'brown_cheese': 1,\n",
              "         'burger': 2,\n",
              "         'butter': 4,\n",
              "         'butter_cookie': 1,\n",
              "         'cake': 6,\n",
              "         'calzone': 1,\n",
              "         'carrot': 9,\n",
              "         'carrots': 16,\n",
              "         'cauliflower': 1,\n",
              "         'celery': 9,\n",
              "         'cereal': 1,\n",
              "         'champignon': 9,\n",
              "         'champignon_sauce': 1,\n",
              "         'cheddar': 1,\n",
              "         'cheese': 42,\n",
              "         'cheese_balls': 5,\n",
              "         'cheese_cake': 6,\n",
              "         'cheez_doodles': 1,\n",
              "         'chia': 1,\n",
              "         'chicken': 9,\n",
              "         'chicken_burguer': 1,\n",
              "         'chicken_cordon_blue': 1,\n",
              "         'chicken_nuggets': 1,\n",
              "         'chikpeas': 2,\n",
              "         'chili_beef_soup': 1,\n",
              "         'chili_powder': 1,\n",
              "         'chipotle_powder': 1,\n",
              "         'chocolate': 37,\n",
              "         'chocolate_bread': 5,\n",
              "         'chocolate_cake': 3,\n",
              "         'chocolate_chips_cookies': 1,\n",
              "         'chocolate_cookie': 3,\n",
              "         'chocolate_cupcake': 2,\n",
              "         'chocolate_muffin': 3,\n",
              "         'chorizo': 1,\n",
              "         'chorizo_burguer': 1,\n",
              "         'cilantro': 16,\n",
              "         'cinnamom_bread': 1,\n",
              "         'cinnamon_roll': 4,\n",
              "         'coconut_cookie': 1,\n",
              "         'coconut_cookies': 2,\n",
              "         'coffe': 1,\n",
              "         'coffee': 7,\n",
              "         'coke': 1,\n",
              "         'cole_salad': 1,\n",
              "         'coleslaw': 3,\n",
              "         'cookie': 1,\n",
              "         'cookies': 2,\n",
              "         'corn': 1,\n",
              "         'corn_soup': 1,\n",
              "         'cornflakes': 3,\n",
              "         'couscous': 1,\n",
              "         'cream_cheese': 3,\n",
              "         'cream_cookie': 3,\n",
              "         'cream_potatoes': 1,\n",
              "         'cream_soup': 1,\n",
              "         'croissant': 1,\n",
              "         'cumin': 5,\n",
              "         'cumin_podwer': 1,\n",
              "         'curry': 3,\n",
              "         'custard_bread': 2,\n",
              "         'dark_chocolate': 1,\n",
              "         'dough': 1,\n",
              "         'dried_chili': 4,\n",
              "         'dry_spices': 2,\n",
              "         'edamame': 1,\n",
              "         'egg': 4,\n",
              "         'eggplant': 1,\n",
              "         'energy_bar': 1,\n",
              "         'fig': 2,\n",
              "         'fish': 4,\n",
              "         'flat_bread': 1,\n",
              "         'flat_bred': 1,\n",
              "         'flavored_water': 1,\n",
              "         'flavored_water ': 1,\n",
              "         'focaccia': 1,\n",
              "         'french_fries': 9,\n",
              "         'fried_corn': 1,\n",
              "         'frozen_bread': 1,\n",
              "         'frozen_chicken': 2,\n",
              "         'frozen_fish': 1,\n",
              "         'frozen_pizza': 1,\n",
              "         'garlic': 4,\n",
              "         'garlic powder': 1,\n",
              "         'garlic_podwer': 1,\n",
              "         'garlic_powder': 6,\n",
              "         'gelatin': 1,\n",
              "         'ginger_powder': 1,\n",
              "         'granola': 1,\n",
              "         'grapes': 3,\n",
              "         'green_pepper': 12,\n",
              "         'green_plantain': 2,\n",
              "         'grill_sauce': 1,\n",
              "         'grilled_sandwich': 2,\n",
              "         'guacamole': 5,\n",
              "         'guayaba': 1,\n",
              "         'ham': 8,\n",
              "         'hamburger': 4,\n",
              "         'hamburguer': 1,\n",
              "         'honey': 2,\n",
              "         'honey_mustard': 1,\n",
              "         'hot sauce': 1,\n",
              "         'hot_dog': 1,\n",
              "         'hot_sauce': 8,\n",
              "         'humus': 3,\n",
              "         'ice_cream': 10,\n",
              "         'ice_tea': 5,\n",
              "         'italian_sausage': 1,\n",
              "         'jalapenos': 5,\n",
              "         'jam': 8,\n",
              "         'jello': 1,\n",
              "         'juice': 20,\n",
              "         'kebap_sauce': 1,\n",
              "         'ketchup': 13,\n",
              "         'knekkebrød': 1,\n",
              "         'lasagna': 1,\n",
              "         'lefser': 1,\n",
              "         'lemonade': 3,\n",
              "         'lentice': 6,\n",
              "         'lettuce': 20,\n",
              "         'maizena': 1,\n",
              "         'maple_syrup': 1,\n",
              "         'mashed_potatoes': 1,\n",
              "         'mayonaise': 10,\n",
              "         'meatballs': 1,\n",
              "         'melk': 1,\n",
              "         'melon': 1,\n",
              "         'menestra': 3,\n",
              "         'microwave_popcorn': 2,\n",
              "         'milk': 13,\n",
              "         'milk_chocolate': 1,\n",
              "         'mince': 2,\n",
              "         'minced_beef': 1,\n",
              "         'mustard': 15,\n",
              "         'noodles': 4,\n",
              "         'nuggets': 2,\n",
              "         'oat': 2,\n",
              "         'oat_milk': 1,\n",
              "         'oil': 9,\n",
              "         'olive_oil': 22,\n",
              "         'olives': 9,\n",
              "         'onion': 30,\n",
              "         'onions': 2,\n",
              "         'orange_juice': 1,\n",
              "         'oregano': 2,\n",
              "         'oreo': 2,\n",
              "         'paprika': 5,\n",
              "         'parmesan_cheese': 1,\n",
              "         'pasta': 6,\n",
              "         'pastry_cream': 1,\n",
              "         'peas': 2,\n",
              "         'pecan_bread': 3,\n",
              "         'pepper': 5,\n",
              "         'pepperoni': 5,\n",
              "         'persimon': 1,\n",
              "         'pesto': 8,\n",
              "         'pineapple': 3,\n",
              "         'pita_bread': 2,\n",
              "         'pizza': 3,\n",
              "         'pizza_dough': 1,\n",
              "         'popcorn': 11,\n",
              "         'popocorn': 1,\n",
              "         'pork': 4,\n",
              "         'pork_chops': 1,\n",
              "         'potato': 2,\n",
              "         'potato chips': 1,\n",
              "         'potato_chips': 12,\n",
              "         'potato_soup': 1,\n",
              "         'potatoes': 3,\n",
              "         'prim': 1,\n",
              "         'pringles': 3,\n",
              "         'protein_bar': 1,\n",
              "         'pudin': 1,\n",
              "         'pulled_pork': 4,\n",
              "         'radish': 1,\n",
              "         'raisins': 1,\n",
              "         'raisins_bread': 4,\n",
              "         'ravioli': 1,\n",
              "         'raw_rice': 1,\n",
              "         'red_chili': 1,\n",
              "         'red_paprika': 3,\n",
              "         'red_pepper': 8,\n",
              "         'relleno_navideno': 1,\n",
              "         'rice': 37,\n",
              "         'ricotta': 1,\n",
              "         'roast_beef': 1,\n",
              "         'rosemary': 1,\n",
              "         'ruccula': 5,\n",
              "         'salad': 3,\n",
              "         'salami': 5,\n",
              "         'sallt': 1,\n",
              "         'salt': 3,\n",
              "         'salt_cookies': 15,\n",
              "         'sausage': 7,\n",
              "         'scrambled_eggs': 1,\n",
              "         'sesame_seeds': 1,\n",
              "         'shredded_beef': 2,\n",
              "         'soda': 27,\n",
              "         'soup': 2,\n",
              "         'soya_sauce': 2,\n",
              "         'spaghetti': 1,\n",
              "         'spicy_sauce': 8,\n",
              "         'spinach': 4,\n",
              "         'spring_roll': 2,\n",
              "         'strogonoff_beef': 1,\n",
              "         'substitute_sugar': 3,\n",
              "         'sugar': 2,\n",
              "         'sweet_and_sower_sauce': 1,\n",
              "         'sweet_corn': 5,\n",
              "         'sweet_potato': 1,\n",
              "         'sweet_potatoes': 2,\n",
              "         'tikamasala_powder': 5,\n",
              "         'tomato': 12,\n",
              "         'tomato_sauce': 3,\n",
              "         'tortellini': 3,\n",
              "         'tortilla': 1,\n",
              "         'tortilla chips': 1,\n",
              "         'tortilla_chips': 20,\n",
              "         'tortillas': 1,\n",
              "         'tuna': 5,\n",
              "         'turkey_nuggets': 1,\n",
              "         'vetagar_burger': 1,\n",
              "         'vinager': 2,\n",
              "         'waffle_cone': 2,\n",
              "         'white_bread': 1,\n",
              "         'whole_wheat_tortilla': 1,\n",
              "         'wine': 2,\n",
              "         'worcestershire_sauce': 4,\n",
              "         'yellow_cheese': 2,\n",
              "         'yogurt': 4,\n",
              "         'zucchini': 4})"
            ]
          },
          "metadata": {
            "tags": []
          },
          "execution_count": 46
        }
      ]
    },
    {
      "cell_type": "code",
      "metadata": {
        "colab": {
          "base_uri": "https://localhost:8080/"
        },
        "id": "rKKf9y2v0MQq",
        "outputId": "3be000e7-24db-46ce-fd3b-de280d6fd584"
      },
      "source": [
        "#Transforming list of foods into series\n",
        "foods_1 = pd.Series(data=list_1)\n",
        "foods_1.tail()"
      ],
      "execution_count": 42,
      "outputs": [
        {
          "output_type": "execute_result",
          "data": {
            "text/plain": [
              "1029           bread\n",
              "1030           bread\n",
              "1031    salt_cookies\n",
              "1032        oat_milk\n",
              "1033         granola\n",
              "dtype: object"
            ]
          },
          "metadata": {
            "tags": []
          },
          "execution_count": 42
        }
      ]
    },
    {
      "cell_type": "code",
      "metadata": {
        "colab": {
          "base_uri": "https://localhost:8080/"
        },
        "id": "OGe1SMb37sqi",
        "outputId": "0d4ea2d0-02bf-4660-a648-241f442cbb43"
      },
      "source": [
        "#Counting most popular foods\n",
        "foods_1.value_counts()"
      ],
      "execution_count": 43,
      "outputs": [
        {
          "output_type": "execute_result",
          "data": {
            "text/plain": [
              "cheese                  42\n",
              "chocolate               37\n",
              "rice                    37\n",
              "onion                   30\n",
              "soda                    27\n",
              "                        ..\n",
              "pastry_cream             1\n",
              "garlic_podwer            1\n",
              "frozen_pizza             1\n",
              "chicken_cordon_blue      1\n",
              "appel_ cider_vinager     1\n",
              "Length: 252, dtype: int64"
            ]
          },
          "metadata": {
            "tags": []
          },
          "execution_count": 43
        }
      ]
    },
    {
      "cell_type": "code",
      "metadata": {
        "colab": {
          "base_uri": "https://localhost:8080/",
          "height": 17
        },
        "id": "vzpjKHK7wLJp",
        "outputId": "02138e80-2110-4131-8cde-0070e2b9b2e5"
      },
      "source": [
        "#Exporting to excel into local disk\n",
        "from google.colab import files\n",
        "df1.to_excel('food_habits.xlsx', index=False) #==> Excluding index from file\n",
        "files.download('food_habits.xlsx')"
      ],
      "execution_count": 14,
      "outputs": [
        {
          "output_type": "display_data",
          "data": {
            "application/javascript": [
              "\n",
              "    async function download(id, filename, size) {\n",
              "      if (!google.colab.kernel.accessAllowed) {\n",
              "        return;\n",
              "      }\n",
              "      const div = document.createElement('div');\n",
              "      const label = document.createElement('label');\n",
              "      label.textContent = `Downloading \"${filename}\": `;\n",
              "      div.appendChild(label);\n",
              "      const progress = document.createElement('progress');\n",
              "      progress.max = size;\n",
              "      div.appendChild(progress);\n",
              "      document.body.appendChild(div);\n",
              "\n",
              "      const buffers = [];\n",
              "      let downloaded = 0;\n",
              "\n",
              "      const channel = await google.colab.kernel.comms.open(id);\n",
              "      // Send a message to notify the kernel that we're ready.\n",
              "      channel.send({})\n",
              "\n",
              "      for await (const message of channel.messages) {\n",
              "        // Send a message to notify the kernel that we're ready.\n",
              "        channel.send({})\n",
              "        if (message.buffers) {\n",
              "          for (const buffer of message.buffers) {\n",
              "            buffers.push(buffer);\n",
              "            downloaded += buffer.byteLength;\n",
              "            progress.value = downloaded;\n",
              "          }\n",
              "        }\n",
              "      }\n",
              "      const blob = new Blob(buffers, {type: 'application/binary'});\n",
              "      const a = document.createElement('a');\n",
              "      a.href = window.URL.createObjectURL(blob);\n",
              "      a.download = filename;\n",
              "      div.appendChild(a);\n",
              "      a.click();\n",
              "      div.remove();\n",
              "    }\n",
              "  "
            ],
            "text/plain": [
              "<IPython.core.display.Javascript object>"
            ]
          },
          "metadata": {
            "tags": []
          }
        },
        {
          "output_type": "display_data",
          "data": {
            "application/javascript": [
              "download(\"download_2c75458f-9662-4d2a-9ce5-5a0b5a7aeab7\", \"food_habits.xlsx\", 9972)"
            ],
            "text/plain": [
              "<IPython.core.display.Javascript object>"
            ]
          },
          "metadata": {
            "tags": []
          }
        }
      ]
    }
  ]
}