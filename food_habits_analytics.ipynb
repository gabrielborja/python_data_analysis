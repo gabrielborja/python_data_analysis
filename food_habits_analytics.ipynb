{
  "nbformat": 4,
  "nbformat_minor": 0,
  "metadata": {
    "colab": {
      "name": "food_habits_analytics.ipynb",
      "provenance": [],
      "collapsed_sections": [
        "eTZwpRZNRhGY",
        "sgzkv1LwjLIL",
        "XcMODXQNx0mo",
        "HPqfPQd9D3B0"
      ],
      "authorship_tag": "ABX9TyO0DBVP81zZxuZsAYU0CA5R",
      "include_colab_link": true
    },
    "kernelspec": {
      "name": "python3",
      "display_name": "Python 3"
    },
    "language_info": {
      "name": "python"
    },
    "widgets": {
      "application/vnd.jupyter.widget-state+json": {
        "a9a64ddb28a645cd9ef7a3a6fc743033": {
          "model_module": "@jupyter-widgets/controls",
          "model_name": "VBoxModel",
          "model_module_version": "1.5.0",
          "state": {
            "_dom_classes": [
              "widget-interact"
            ],
            "_model_module": "@jupyter-widgets/controls",
            "_model_module_version": "1.5.0",
            "_model_name": "VBoxModel",
            "_view_count": null,
            "_view_module": "@jupyter-widgets/controls",
            "_view_module_version": "1.5.0",
            "_view_name": "VBoxView",
            "box_style": "",
            "children": [
              "IPY_MODEL_c01604aa7a29473ab91c443a2f390f23",
              "IPY_MODEL_2795a3eb3b144542ab103d4c5d17353e"
            ],
            "layout": "IPY_MODEL_a2bcdb7d32fb4fc98cbed51d0ec717e3"
          }
        },
        "c01604aa7a29473ab91c443a2f390f23": {
          "model_module": "@jupyter-widgets/controls",
          "model_name": "DropdownModel",
          "model_module_version": "1.5.0",
          "state": {
            "_dom_classes": [],
            "_model_module": "@jupyter-widgets/controls",
            "_model_module_version": "1.5.0",
            "_model_name": "DropdownModel",
            "_options_labels": [
              "month",
              "weeknum",
              "day",
              "hour"
            ],
            "_view_count": null,
            "_view_module": "@jupyter-widgets/controls",
            "_view_module_version": "1.5.0",
            "_view_name": "DropdownView",
            "description": "Cat",
            "description_tooltip": null,
            "disabled": false,
            "index": 0,
            "layout": "IPY_MODEL_cd17306b86d8473f8f6d8f9d5dca5a2d",
            "style": "IPY_MODEL_de0d2305ad4741639553bd1b42adc083"
          }
        },
        "2795a3eb3b144542ab103d4c5d17353e": {
          "model_module": "@jupyter-widgets/output",
          "model_name": "OutputModel",
          "model_module_version": "1.0.0",
          "state": {
            "_dom_classes": [],
            "_model_module": "@jupyter-widgets/output",
            "_model_module_version": "1.0.0",
            "_model_name": "OutputModel",
            "_view_count": null,
            "_view_module": "@jupyter-widgets/output",
            "_view_module_version": "1.0.0",
            "_view_name": "OutputView",
            "layout": "IPY_MODEL_8af619614f204714bed9344a21adccb1",
            "msg_id": "",
            "outputs": [
              {
                "output_type": "display_data",
                "data": {
                  "text/plain": "   month  proportion\n0      3    0.339623\n1      1    0.327044\n2      2    0.314465\n3      4    0.018868",
                  "text/html": "\n  <div id=\"df-28376b4d-abd5-406a-9b08-39dad3d6f853\">\n    <div class=\"colab-df-container\">\n      <div>\n<style scoped>\n    .dataframe tbody tr th:only-of-type {\n        vertical-align: middle;\n    }\n\n    .dataframe tbody tr th {\n        vertical-align: top;\n    }\n\n    .dataframe thead th {\n        text-align: right;\n    }\n</style>\n<table border=\"1\" class=\"dataframe\">\n  <thead>\n    <tr style=\"text-align: right;\">\n      <th></th>\n      <th>month</th>\n      <th>proportion</th>\n    </tr>\n  </thead>\n  <tbody>\n    <tr>\n      <th>0</th>\n      <td>3</td>\n      <td>0.339623</td>\n    </tr>\n    <tr>\n      <th>1</th>\n      <td>1</td>\n      <td>0.327044</td>\n    </tr>\n    <tr>\n      <th>2</th>\n      <td>2</td>\n      <td>0.314465</td>\n    </tr>\n    <tr>\n      <th>3</th>\n      <td>4</td>\n      <td>0.018868</td>\n    </tr>\n  </tbody>\n</table>\n</div>\n      <button class=\"colab-df-convert\" onclick=\"convertToInteractive('df-28376b4d-abd5-406a-9b08-39dad3d6f853')\"\n              title=\"Convert this dataframe to an interactive table.\"\n              style=\"display:none;\">\n        \n  <svg xmlns=\"http://www.w3.org/2000/svg\" height=\"24px\"viewBox=\"0 0 24 24\"\n       width=\"24px\">\n    <path d=\"M0 0h24v24H0V0z\" fill=\"none\"/>\n    <path d=\"M18.56 5.44l.94 2.06.94-2.06 2.06-.94-2.06-.94-.94-2.06-.94 2.06-2.06.94zm-11 1L8.5 8.5l.94-2.06 2.06-.94-2.06-.94L8.5 2.5l-.94 2.06-2.06.94zm10 10l.94 2.06.94-2.06 2.06-.94-2.06-.94-.94-2.06-.94 2.06-2.06.94z\"/><path d=\"M17.41 7.96l-1.37-1.37c-.4-.4-.92-.59-1.43-.59-.52 0-1.04.2-1.43.59L10.3 9.45l-7.72 7.72c-.78.78-.78 2.05 0 2.83L4 21.41c.39.39.9.59 1.41.59.51 0 1.02-.2 1.41-.59l7.78-7.78 2.81-2.81c.8-.78.8-2.07 0-2.86zM5.41 20L4 18.59l7.72-7.72 1.47 1.35L5.41 20z\"/>\n  </svg>\n      </button>\n      \n  <style>\n    .colab-df-container {\n      display:flex;\n      flex-wrap:wrap;\n      gap: 12px;\n    }\n\n    .colab-df-convert {\n      background-color: #E8F0FE;\n      border: none;\n      border-radius: 50%;\n      cursor: pointer;\n      display: none;\n      fill: #1967D2;\n      height: 32px;\n      padding: 0 0 0 0;\n      width: 32px;\n    }\n\n    .colab-df-convert:hover {\n      background-color: #E2EBFA;\n      box-shadow: 0px 1px 2px rgba(60, 64, 67, 0.3), 0px 1px 3px 1px rgba(60, 64, 67, 0.15);\n      fill: #174EA6;\n    }\n\n    [theme=dark] .colab-df-convert {\n      background-color: #3B4455;\n      fill: #D2E3FC;\n    }\n\n    [theme=dark] .colab-df-convert:hover {\n      background-color: #434B5C;\n      box-shadow: 0px 1px 3px 1px rgba(0, 0, 0, 0.15);\n      filter: drop-shadow(0px 1px 2px rgba(0, 0, 0, 0.3));\n      fill: #FFFFFF;\n    }\n  </style>\n\n      <script>\n        const buttonEl =\n          document.querySelector('#df-28376b4d-abd5-406a-9b08-39dad3d6f853 button.colab-df-convert');\n        buttonEl.style.display =\n          google.colab.kernel.accessAllowed ? 'block' : 'none';\n\n        async function convertToInteractive(key) {\n          const element = document.querySelector('#df-28376b4d-abd5-406a-9b08-39dad3d6f853');\n          const dataTable =\n            await google.colab.kernel.invokeFunction('convertToInteractive',\n                                                     [key], {});\n          if (!dataTable) return;\n\n          const docLinkHtml = 'Like what you see? Visit the ' +\n            '<a target=\"_blank\" href=https://colab.research.google.com/notebooks/data_table.ipynb>data table notebook</a>'\n            + ' to learn more about interactive tables.';\n          element.innerHTML = '';\n          dataTable['output_type'] = 'display_data';\n          await google.colab.output.renderOutput(dataTable, element);\n          const docLink = document.createElement('div');\n          docLink.innerHTML = docLinkHtml;\n          element.appendChild(docLink);\n        }\n      </script>\n    </div>\n  </div>\n  "
                },
                "metadata": {}
              }
            ]
          }
        },
        "a2bcdb7d32fb4fc98cbed51d0ec717e3": {
          "model_module": "@jupyter-widgets/base",
          "model_name": "LayoutModel",
          "model_module_version": "1.2.0",
          "state": {
            "_model_module": "@jupyter-widgets/base",
            "_model_module_version": "1.2.0",
            "_model_name": "LayoutModel",
            "_view_count": null,
            "_view_module": "@jupyter-widgets/base",
            "_view_module_version": "1.2.0",
            "_view_name": "LayoutView",
            "align_content": null,
            "align_items": null,
            "align_self": null,
            "border": null,
            "bottom": null,
            "display": null,
            "flex": null,
            "flex_flow": null,
            "grid_area": null,
            "grid_auto_columns": null,
            "grid_auto_flow": null,
            "grid_auto_rows": null,
            "grid_column": null,
            "grid_gap": null,
            "grid_row": null,
            "grid_template_areas": null,
            "grid_template_columns": null,
            "grid_template_rows": null,
            "height": null,
            "justify_content": null,
            "justify_items": null,
            "left": null,
            "margin": null,
            "max_height": null,
            "max_width": null,
            "min_height": null,
            "min_width": null,
            "object_fit": null,
            "object_position": null,
            "order": null,
            "overflow": null,
            "overflow_x": null,
            "overflow_y": null,
            "padding": null,
            "right": null,
            "top": null,
            "visibility": null,
            "width": null
          }
        },
        "cd17306b86d8473f8f6d8f9d5dca5a2d": {
          "model_module": "@jupyter-widgets/base",
          "model_name": "LayoutModel",
          "model_module_version": "1.2.0",
          "state": {
            "_model_module": "@jupyter-widgets/base",
            "_model_module_version": "1.2.0",
            "_model_name": "LayoutModel",
            "_view_count": null,
            "_view_module": "@jupyter-widgets/base",
            "_view_module_version": "1.2.0",
            "_view_name": "LayoutView",
            "align_content": null,
            "align_items": null,
            "align_self": null,
            "border": null,
            "bottom": null,
            "display": null,
            "flex": null,
            "flex_flow": null,
            "grid_area": null,
            "grid_auto_columns": null,
            "grid_auto_flow": null,
            "grid_auto_rows": null,
            "grid_column": null,
            "grid_gap": null,
            "grid_row": null,
            "grid_template_areas": null,
            "grid_template_columns": null,
            "grid_template_rows": null,
            "height": null,
            "justify_content": null,
            "justify_items": null,
            "left": null,
            "margin": null,
            "max_height": null,
            "max_width": null,
            "min_height": null,
            "min_width": null,
            "object_fit": null,
            "object_position": null,
            "order": null,
            "overflow": null,
            "overflow_x": null,
            "overflow_y": null,
            "padding": null,
            "right": null,
            "top": null,
            "visibility": null,
            "width": null
          }
        },
        "de0d2305ad4741639553bd1b42adc083": {
          "model_module": "@jupyter-widgets/controls",
          "model_name": "DescriptionStyleModel",
          "model_module_version": "1.5.0",
          "state": {
            "_model_module": "@jupyter-widgets/controls",
            "_model_module_version": "1.5.0",
            "_model_name": "DescriptionStyleModel",
            "_view_count": null,
            "_view_module": "@jupyter-widgets/base",
            "_view_module_version": "1.2.0",
            "_view_name": "StyleView",
            "description_width": ""
          }
        },
        "8af619614f204714bed9344a21adccb1": {
          "model_module": "@jupyter-widgets/base",
          "model_name": "LayoutModel",
          "model_module_version": "1.2.0",
          "state": {
            "_model_module": "@jupyter-widgets/base",
            "_model_module_version": "1.2.0",
            "_model_name": "LayoutModel",
            "_view_count": null,
            "_view_module": "@jupyter-widgets/base",
            "_view_module_version": "1.2.0",
            "_view_name": "LayoutView",
            "align_content": null,
            "align_items": null,
            "align_self": null,
            "border": null,
            "bottom": null,
            "display": null,
            "flex": null,
            "flex_flow": null,
            "grid_area": null,
            "grid_auto_columns": null,
            "grid_auto_flow": null,
            "grid_auto_rows": null,
            "grid_column": null,
            "grid_gap": null,
            "grid_row": null,
            "grid_template_areas": null,
            "grid_template_columns": null,
            "grid_template_rows": null,
            "height": null,
            "justify_content": null,
            "justify_items": null,
            "left": null,
            "margin": null,
            "max_height": null,
            "max_width": null,
            "min_height": null,
            "min_width": null,
            "object_fit": null,
            "object_position": null,
            "order": null,
            "overflow": null,
            "overflow_x": null,
            "overflow_y": null,
            "padding": null,
            "right": null,
            "top": null,
            "visibility": null,
            "width": null
          }
        },
        "51ac9121623e440fb2388673136f7b5a": {
          "model_module": "@jupyter-widgets/controls",
          "model_name": "VBoxModel",
          "model_module_version": "1.5.0",
          "state": {
            "_dom_classes": [
              "widget-interact"
            ],
            "_model_module": "@jupyter-widgets/controls",
            "_model_module_version": "1.5.0",
            "_model_name": "VBoxModel",
            "_view_count": null,
            "_view_module": "@jupyter-widgets/controls",
            "_view_module_version": "1.5.0",
            "_view_name": "VBoxView",
            "box_style": "",
            "children": [
              "IPY_MODEL_ff3f0c2c6fe74c518acdb9b3417d15e5",
              "IPY_MODEL_0da5c581d7c14bacb8ae7c2c802747f7"
            ],
            "layout": "IPY_MODEL_0d82e51fdfc741b9b054dd3430755ac1"
          }
        },
        "ff3f0c2c6fe74c518acdb9b3417d15e5": {
          "model_module": "@jupyter-widgets/controls",
          "model_name": "DropdownModel",
          "model_module_version": "1.5.0",
          "state": {
            "_dom_classes": [],
            "_model_module": "@jupyter-widgets/controls",
            "_model_module_version": "1.5.0",
            "_model_name": "DropdownModel",
            "_options_labels": [
              "month",
              "weeknum",
              "day",
              "hour"
            ],
            "_view_count": null,
            "_view_module": "@jupyter-widgets/controls",
            "_view_module_version": "1.5.0",
            "_view_name": "DropdownView",
            "description": "Cat",
            "description_tooltip": null,
            "disabled": false,
            "index": 1,
            "layout": "IPY_MODEL_ce612877cb5c4b95a59a0dcb9b1b0d51",
            "style": "IPY_MODEL_e4c2a9bc90c7493691a578a73a8f4deb"
          }
        },
        "0da5c581d7c14bacb8ae7c2c802747f7": {
          "model_module": "@jupyter-widgets/output",
          "model_name": "OutputModel",
          "model_module_version": "1.0.0",
          "state": {
            "_dom_classes": [],
            "_model_module": "@jupyter-widgets/output",
            "_model_module_version": "1.0.0",
            "_model_name": "OutputModel",
            "_view_count": null,
            "_view_module": "@jupyter-widgets/output",
            "_view_module_version": "1.0.0",
            "_view_name": "OutputView",
            "layout": "IPY_MODEL_90b26b72afe54a9ca1f52c59bb5b35e3",
            "msg_id": "",
            "outputs": [
              {
                "output_type": "display_data",
                "data": {
                  "text/plain": "<Figure size 864x360 with 1 Axes>",
                  "image/png": "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\n"
                },
                "metadata": {}
              }
            ]
          }
        },
        "0d82e51fdfc741b9b054dd3430755ac1": {
          "model_module": "@jupyter-widgets/base",
          "model_name": "LayoutModel",
          "model_module_version": "1.2.0",
          "state": {
            "_model_module": "@jupyter-widgets/base",
            "_model_module_version": "1.2.0",
            "_model_name": "LayoutModel",
            "_view_count": null,
            "_view_module": "@jupyter-widgets/base",
            "_view_module_version": "1.2.0",
            "_view_name": "LayoutView",
            "align_content": null,
            "align_items": null,
            "align_self": null,
            "border": null,
            "bottom": null,
            "display": null,
            "flex": null,
            "flex_flow": null,
            "grid_area": null,
            "grid_auto_columns": null,
            "grid_auto_flow": null,
            "grid_auto_rows": null,
            "grid_column": null,
            "grid_gap": null,
            "grid_row": null,
            "grid_template_areas": null,
            "grid_template_columns": null,
            "grid_template_rows": null,
            "height": null,
            "justify_content": null,
            "justify_items": null,
            "left": null,
            "margin": null,
            "max_height": null,
            "max_width": null,
            "min_height": null,
            "min_width": null,
            "object_fit": null,
            "object_position": null,
            "order": null,
            "overflow": null,
            "overflow_x": null,
            "overflow_y": null,
            "padding": null,
            "right": null,
            "top": null,
            "visibility": null,
            "width": null
          }
        },
        "ce612877cb5c4b95a59a0dcb9b1b0d51": {
          "model_module": "@jupyter-widgets/base",
          "model_name": "LayoutModel",
          "model_module_version": "1.2.0",
          "state": {
            "_model_module": "@jupyter-widgets/base",
            "_model_module_version": "1.2.0",
            "_model_name": "LayoutModel",
            "_view_count": null,
            "_view_module": "@jupyter-widgets/base",
            "_view_module_version": "1.2.0",
            "_view_name": "LayoutView",
            "align_content": null,
            "align_items": null,
            "align_self": null,
            "border": null,
            "bottom": null,
            "display": null,
            "flex": null,
            "flex_flow": null,
            "grid_area": null,
            "grid_auto_columns": null,
            "grid_auto_flow": null,
            "grid_auto_rows": null,
            "grid_column": null,
            "grid_gap": null,
            "grid_row": null,
            "grid_template_areas": null,
            "grid_template_columns": null,
            "grid_template_rows": null,
            "height": null,
            "justify_content": null,
            "justify_items": null,
            "left": null,
            "margin": null,
            "max_height": null,
            "max_width": null,
            "min_height": null,
            "min_width": null,
            "object_fit": null,
            "object_position": null,
            "order": null,
            "overflow": null,
            "overflow_x": null,
            "overflow_y": null,
            "padding": null,
            "right": null,
            "top": null,
            "visibility": null,
            "width": null
          }
        },
        "e4c2a9bc90c7493691a578a73a8f4deb": {
          "model_module": "@jupyter-widgets/controls",
          "model_name": "DescriptionStyleModel",
          "model_module_version": "1.5.0",
          "state": {
            "_model_module": "@jupyter-widgets/controls",
            "_model_module_version": "1.5.0",
            "_model_name": "DescriptionStyleModel",
            "_view_count": null,
            "_view_module": "@jupyter-widgets/base",
            "_view_module_version": "1.2.0",
            "_view_name": "StyleView",
            "description_width": ""
          }
        },
        "90b26b72afe54a9ca1f52c59bb5b35e3": {
          "model_module": "@jupyter-widgets/base",
          "model_name": "LayoutModel",
          "model_module_version": "1.2.0",
          "state": {
            "_model_module": "@jupyter-widgets/base",
            "_model_module_version": "1.2.0",
            "_model_name": "LayoutModel",
            "_view_count": null,
            "_view_module": "@jupyter-widgets/base",
            "_view_module_version": "1.2.0",
            "_view_name": "LayoutView",
            "align_content": null,
            "align_items": null,
            "align_self": null,
            "border": null,
            "bottom": null,
            "display": null,
            "flex": null,
            "flex_flow": null,
            "grid_area": null,
            "grid_auto_columns": null,
            "grid_auto_flow": null,
            "grid_auto_rows": null,
            "grid_column": null,
            "grid_gap": null,
            "grid_row": null,
            "grid_template_areas": null,
            "grid_template_columns": null,
            "grid_template_rows": null,
            "height": null,
            "justify_content": null,
            "justify_items": null,
            "left": null,
            "margin": null,
            "max_height": null,
            "max_width": null,
            "min_height": null,
            "min_width": null,
            "object_fit": null,
            "object_position": null,
            "order": null,
            "overflow": null,
            "overflow_x": null,
            "overflow_y": null,
            "padding": null,
            "right": null,
            "top": null,
            "visibility": null,
            "width": null
          }
        }
      }
    }
  },
  "cells": [
    {
      "cell_type": "markdown",
      "metadata": {
        "id": "view-in-github",
        "colab_type": "text"
      },
      "source": [
        "<a href=\"https://colab.research.google.com/github/gabrielborja/python_data_analysis/blob/main/food_habits_analytics.ipynb\" target=\"_parent\"><img src=\"https://colab.research.google.com/assets/colab-badge.svg\" alt=\"Open In Colab\"/></a>"
      ]
    },
    {
      "cell_type": "markdown",
      "metadata": {
        "id": "eTZwpRZNRhGY"
      },
      "source": [
        "# Food habits analytics"
      ]
    },
    {
      "cell_type": "markdown",
      "metadata": {
        "id": "sgzkv1LwjLIL"
      },
      "source": [
        "## Uploading packages and data"
      ]
    },
    {
      "cell_type": "code",
      "metadata": {
        "id": "QTRtRZcb-IyF"
      },
      "source": [
        "#Importing necessary packages\n",
        "import numpy as np\n",
        "import pandas as pd"
      ],
      "execution_count": null,
      "outputs": []
    },
    {
      "cell_type": "code",
      "metadata": {
        "id": "oen97ED1-rh-",
        "colab": {
          "base_uri": "https://localhost:8080/",
          "height": 143
        },
        "outputId": "2b4e1b22-a6b2-411b-8177-46a6a11fb890"
      },
      "source": [
        "#Uploading google sheet data from drive\n",
        "from google.colab import auth\n",
        "auth.authenticate_user()\n",
        "\n",
        "import gspread\n",
        "from oauth2client.client import GoogleCredentials\n",
        "\n",
        "gc = gspread.authorize(GoogleCredentials.get_application_default())\n",
        "\n",
        "#Loading dataset from google sheet\n",
        "wb1 = gc.open('food_habits')\n",
        "ws1_data = wb1.sheet1\n",
        "records_1 = ws1_data.get_all_records()\n",
        "\n",
        "# Converting to a Pandas DataFrame\n",
        "df1 = pd.DataFrame.from_records(records_1)\n",
        "df1.tail(3)"
      ],
      "execution_count": null,
      "outputs": [
        {
          "output_type": "execute_result",
          "data": {
            "text/html": [
              "\n",
              "  <div id=\"df-8a04c7fb-93ec-4e38-b9a2-840e1c8c3c6c\">\n",
              "    <div class=\"colab-df-container\">\n",
              "      <div>\n",
              "<style scoped>\n",
              "    .dataframe tbody tr th:only-of-type {\n",
              "        vertical-align: middle;\n",
              "    }\n",
              "\n",
              "    .dataframe tbody tr th {\n",
              "        vertical-align: top;\n",
              "    }\n",
              "\n",
              "    .dataframe thead th {\n",
              "        text-align: right;\n",
              "    }\n",
              "</style>\n",
              "<table border=\"1\" class=\"dataframe\">\n",
              "  <thead>\n",
              "    <tr style=\"text-align: right;\">\n",
              "      <th></th>\n",
              "      <th>event</th>\n",
              "      <th>food</th>\n",
              "      <th>large_meal</th>\n",
              "      <th>ache</th>\n",
              "    </tr>\n",
              "  </thead>\n",
              "  <tbody>\n",
              "    <tr>\n",
              "      <th>109</th>\n",
              "      <td>2021-12-22 14:50:00</td>\n",
              "      <td>yogurt, oat, milk, pear, honey, raisins, prune...</td>\n",
              "      <td>0</td>\n",
              "      <td>1</td>\n",
              "    </tr>\n",
              "    <tr>\n",
              "      <th>110</th>\n",
              "      <td>2021-12-24 21:00:00</td>\n",
              "      <td>yogurt, oat, milk, pear, honey, raisins, prune...</td>\n",
              "      <td>1</td>\n",
              "      <td>1</td>\n",
              "    </tr>\n",
              "    <tr>\n",
              "      <th>111</th>\n",
              "      <td>2021-12-30 16:00:00</td>\n",
              "      <td>yogurt, oat, milk, pear, apple, raisins, prune...</td>\n",
              "      <td>1</td>\n",
              "      <td>1</td>\n",
              "    </tr>\n",
              "  </tbody>\n",
              "</table>\n",
              "</div>\n",
              "      <button class=\"colab-df-convert\" onclick=\"convertToInteractive('df-8a04c7fb-93ec-4e38-b9a2-840e1c8c3c6c')\"\n",
              "              title=\"Convert this dataframe to an interactive table.\"\n",
              "              style=\"display:none;\">\n",
              "        \n",
              "  <svg xmlns=\"http://www.w3.org/2000/svg\" height=\"24px\"viewBox=\"0 0 24 24\"\n",
              "       width=\"24px\">\n",
              "    <path d=\"M0 0h24v24H0V0z\" fill=\"none\"/>\n",
              "    <path d=\"M18.56 5.44l.94 2.06.94-2.06 2.06-.94-2.06-.94-.94-2.06-.94 2.06-2.06.94zm-11 1L8.5 8.5l.94-2.06 2.06-.94-2.06-.94L8.5 2.5l-.94 2.06-2.06.94zm10 10l.94 2.06.94-2.06 2.06-.94-2.06-.94-.94-2.06-.94 2.06-2.06.94z\"/><path d=\"M17.41 7.96l-1.37-1.37c-.4-.4-.92-.59-1.43-.59-.52 0-1.04.2-1.43.59L10.3 9.45l-7.72 7.72c-.78.78-.78 2.05 0 2.83L4 21.41c.39.39.9.59 1.41.59.51 0 1.02-.2 1.41-.59l7.78-7.78 2.81-2.81c.8-.78.8-2.07 0-2.86zM5.41 20L4 18.59l7.72-7.72 1.47 1.35L5.41 20z\"/>\n",
              "  </svg>\n",
              "      </button>\n",
              "      \n",
              "  <style>\n",
              "    .colab-df-container {\n",
              "      display:flex;\n",
              "      flex-wrap:wrap;\n",
              "      gap: 12px;\n",
              "    }\n",
              "\n",
              "    .colab-df-convert {\n",
              "      background-color: #E8F0FE;\n",
              "      border: none;\n",
              "      border-radius: 50%;\n",
              "      cursor: pointer;\n",
              "      display: none;\n",
              "      fill: #1967D2;\n",
              "      height: 32px;\n",
              "      padding: 0 0 0 0;\n",
              "      width: 32px;\n",
              "    }\n",
              "\n",
              "    .colab-df-convert:hover {\n",
              "      background-color: #E2EBFA;\n",
              "      box-shadow: 0px 1px 2px rgba(60, 64, 67, 0.3), 0px 1px 3px 1px rgba(60, 64, 67, 0.15);\n",
              "      fill: #174EA6;\n",
              "    }\n",
              "\n",
              "    [theme=dark] .colab-df-convert {\n",
              "      background-color: #3B4455;\n",
              "      fill: #D2E3FC;\n",
              "    }\n",
              "\n",
              "    [theme=dark] .colab-df-convert:hover {\n",
              "      background-color: #434B5C;\n",
              "      box-shadow: 0px 1px 3px 1px rgba(0, 0, 0, 0.15);\n",
              "      filter: drop-shadow(0px 1px 2px rgba(0, 0, 0, 0.3));\n",
              "      fill: #FFFFFF;\n",
              "    }\n",
              "  </style>\n",
              "\n",
              "      <script>\n",
              "        const buttonEl =\n",
              "          document.querySelector('#df-8a04c7fb-93ec-4e38-b9a2-840e1c8c3c6c button.colab-df-convert');\n",
              "        buttonEl.style.display =\n",
              "          google.colab.kernel.accessAllowed ? 'block' : 'none';\n",
              "\n",
              "        async function convertToInteractive(key) {\n",
              "          const element = document.querySelector('#df-8a04c7fb-93ec-4e38-b9a2-840e1c8c3c6c');\n",
              "          const dataTable =\n",
              "            await google.colab.kernel.invokeFunction('convertToInteractive',\n",
              "                                                     [key], {});\n",
              "          if (!dataTable) return;\n",
              "\n",
              "          const docLinkHtml = 'Like what you see? Visit the ' +\n",
              "            '<a target=\"_blank\" href=https://colab.research.google.com/notebooks/data_table.ipynb>data table notebook</a>'\n",
              "            + ' to learn more about interactive tables.';\n",
              "          element.innerHTML = '';\n",
              "          dataTable['output_type'] = 'display_data';\n",
              "          await google.colab.output.renderOutput(dataTable, element);\n",
              "          const docLink = document.createElement('div');\n",
              "          docLink.innerHTML = docLinkHtml;\n",
              "          element.appendChild(docLink);\n",
              "        }\n",
              "      </script>\n",
              "    </div>\n",
              "  </div>\n",
              "  "
            ],
            "text/plain": [
              "                   event  ... ache\n",
              "109  2021-12-22 14:50:00  ...    1\n",
              "110  2021-12-24 21:00:00  ...    1\n",
              "111  2021-12-30 16:00:00  ...    1\n",
              "\n",
              "[3 rows x 4 columns]"
            ]
          },
          "metadata": {},
          "execution_count": 2
        }
      ]
    },
    {
      "cell_type": "code",
      "metadata": {
        "colab": {
          "base_uri": "https://localhost:8080/"
        },
        "id": "-_RIDGJurxGe",
        "outputId": "6936b1c4-b79b-4f48-a788-2cc1823eb9b7"
      },
      "source": [
        "#Checking the dataframe info\n",
        "df1.info()"
      ],
      "execution_count": null,
      "outputs": [
        {
          "output_type": "stream",
          "name": "stdout",
          "text": [
            "<class 'pandas.core.frame.DataFrame'>\n",
            "RangeIndex: 112 entries, 0 to 111\n",
            "Data columns (total 4 columns):\n",
            " #   Column      Non-Null Count  Dtype \n",
            "---  ------      --------------  ----- \n",
            " 0   event       112 non-null    object\n",
            " 1   food        112 non-null    object\n",
            " 2   large_meal  112 non-null    int64 \n",
            " 3   ache        112 non-null    int64 \n",
            "dtypes: int64(2), object(2)\n",
            "memory usage: 3.6+ KB\n"
          ]
        }
      ]
    },
    {
      "cell_type": "markdown",
      "metadata": {
        "id": "XcMODXQNx0mo"
      },
      "source": [
        "##Data Manipulation"
      ]
    },
    {
      "cell_type": "code",
      "source": [
        "#Converting date columns to datetime objects\n",
        "df1['event'] = pd.to_datetime(df1['event'], format='%Y-%m-%d %H:%M:%S')"
      ],
      "metadata": {
        "id": "W9HncnVSUS53"
      },
      "execution_count": null,
      "outputs": []
    },
    {
      "cell_type": "code",
      "metadata": {
        "id": "p7o3rUk18tXB",
        "colab": {
          "base_uri": "https://localhost:8080/",
          "height": 143
        },
        "outputId": "13775c86-f3c2-4525-e774-c23e6ed0b4cb"
      },
      "source": [
        "#Extracting year, month, day of the week, hour and count of ingredients\n",
        "df1 = df1.assign(year = df1['event'].dt.year,\n",
        "                 month = df1['event'].dt.month,\n",
        "                 day = df1['event'].dt.dayofweek,\n",
        "                 hour = df1['event'].dt.hour,\n",
        "                 ing_count = [len(i.split(', ')) for i in df1['food']])\n",
        "df1.tail(3)"
      ],
      "execution_count": null,
      "outputs": [
        {
          "output_type": "execute_result",
          "data": {
            "text/html": [
              "\n",
              "  <div id=\"df-6318dcca-bc5f-49d9-a661-37f6ccc1c78b\">\n",
              "    <div class=\"colab-df-container\">\n",
              "      <div>\n",
              "<style scoped>\n",
              "    .dataframe tbody tr th:only-of-type {\n",
              "        vertical-align: middle;\n",
              "    }\n",
              "\n",
              "    .dataframe tbody tr th {\n",
              "        vertical-align: top;\n",
              "    }\n",
              "\n",
              "    .dataframe thead th {\n",
              "        text-align: right;\n",
              "    }\n",
              "</style>\n",
              "<table border=\"1\" class=\"dataframe\">\n",
              "  <thead>\n",
              "    <tr style=\"text-align: right;\">\n",
              "      <th></th>\n",
              "      <th>event</th>\n",
              "      <th>food</th>\n",
              "      <th>large_meal</th>\n",
              "      <th>ache</th>\n",
              "      <th>year</th>\n",
              "      <th>month</th>\n",
              "      <th>day</th>\n",
              "      <th>hour</th>\n",
              "      <th>ing_count</th>\n",
              "    </tr>\n",
              "  </thead>\n",
              "  <tbody>\n",
              "    <tr>\n",
              "      <th>109</th>\n",
              "      <td>2021-12-22 14:50:00</td>\n",
              "      <td>yogurt, oat, milk, pear, honey, raisins, prune...</td>\n",
              "      <td>0</td>\n",
              "      <td>1</td>\n",
              "      <td>2021</td>\n",
              "      <td>12</td>\n",
              "      <td>2</td>\n",
              "      <td>14</td>\n",
              "      <td>18</td>\n",
              "    </tr>\n",
              "    <tr>\n",
              "      <th>110</th>\n",
              "      <td>2021-12-24 21:00:00</td>\n",
              "      <td>yogurt, oat, milk, pear, honey, raisins, prune...</td>\n",
              "      <td>1</td>\n",
              "      <td>1</td>\n",
              "      <td>2021</td>\n",
              "      <td>12</td>\n",
              "      <td>4</td>\n",
              "      <td>21</td>\n",
              "      <td>23</td>\n",
              "    </tr>\n",
              "    <tr>\n",
              "      <th>111</th>\n",
              "      <td>2021-12-30 16:00:00</td>\n",
              "      <td>yogurt, oat, milk, pear, apple, raisins, prune...</td>\n",
              "      <td>1</td>\n",
              "      <td>1</td>\n",
              "      <td>2021</td>\n",
              "      <td>12</td>\n",
              "      <td>3</td>\n",
              "      <td>16</td>\n",
              "      <td>26</td>\n",
              "    </tr>\n",
              "  </tbody>\n",
              "</table>\n",
              "</div>\n",
              "      <button class=\"colab-df-convert\" onclick=\"convertToInteractive('df-6318dcca-bc5f-49d9-a661-37f6ccc1c78b')\"\n",
              "              title=\"Convert this dataframe to an interactive table.\"\n",
              "              style=\"display:none;\">\n",
              "        \n",
              "  <svg xmlns=\"http://www.w3.org/2000/svg\" height=\"24px\"viewBox=\"0 0 24 24\"\n",
              "       width=\"24px\">\n",
              "    <path d=\"M0 0h24v24H0V0z\" fill=\"none\"/>\n",
              "    <path d=\"M18.56 5.44l.94 2.06.94-2.06 2.06-.94-2.06-.94-.94-2.06-.94 2.06-2.06.94zm-11 1L8.5 8.5l.94-2.06 2.06-.94-2.06-.94L8.5 2.5l-.94 2.06-2.06.94zm10 10l.94 2.06.94-2.06 2.06-.94-2.06-.94-.94-2.06-.94 2.06-2.06.94z\"/><path d=\"M17.41 7.96l-1.37-1.37c-.4-.4-.92-.59-1.43-.59-.52 0-1.04.2-1.43.59L10.3 9.45l-7.72 7.72c-.78.78-.78 2.05 0 2.83L4 21.41c.39.39.9.59 1.41.59.51 0 1.02-.2 1.41-.59l7.78-7.78 2.81-2.81c.8-.78.8-2.07 0-2.86zM5.41 20L4 18.59l7.72-7.72 1.47 1.35L5.41 20z\"/>\n",
              "  </svg>\n",
              "      </button>\n",
              "      \n",
              "  <style>\n",
              "    .colab-df-container {\n",
              "      display:flex;\n",
              "      flex-wrap:wrap;\n",
              "      gap: 12px;\n",
              "    }\n",
              "\n",
              "    .colab-df-convert {\n",
              "      background-color: #E8F0FE;\n",
              "      border: none;\n",
              "      border-radius: 50%;\n",
              "      cursor: pointer;\n",
              "      display: none;\n",
              "      fill: #1967D2;\n",
              "      height: 32px;\n",
              "      padding: 0 0 0 0;\n",
              "      width: 32px;\n",
              "    }\n",
              "\n",
              "    .colab-df-convert:hover {\n",
              "      background-color: #E2EBFA;\n",
              "      box-shadow: 0px 1px 2px rgba(60, 64, 67, 0.3), 0px 1px 3px 1px rgba(60, 64, 67, 0.15);\n",
              "      fill: #174EA6;\n",
              "    }\n",
              "\n",
              "    [theme=dark] .colab-df-convert {\n",
              "      background-color: #3B4455;\n",
              "      fill: #D2E3FC;\n",
              "    }\n",
              "\n",
              "    [theme=dark] .colab-df-convert:hover {\n",
              "      background-color: #434B5C;\n",
              "      box-shadow: 0px 1px 3px 1px rgba(0, 0, 0, 0.15);\n",
              "      filter: drop-shadow(0px 1px 2px rgba(0, 0, 0, 0.3));\n",
              "      fill: #FFFFFF;\n",
              "    }\n",
              "  </style>\n",
              "\n",
              "      <script>\n",
              "        const buttonEl =\n",
              "          document.querySelector('#df-6318dcca-bc5f-49d9-a661-37f6ccc1c78b button.colab-df-convert');\n",
              "        buttonEl.style.display =\n",
              "          google.colab.kernel.accessAllowed ? 'block' : 'none';\n",
              "\n",
              "        async function convertToInteractive(key) {\n",
              "          const element = document.querySelector('#df-6318dcca-bc5f-49d9-a661-37f6ccc1c78b');\n",
              "          const dataTable =\n",
              "            await google.colab.kernel.invokeFunction('convertToInteractive',\n",
              "                                                     [key], {});\n",
              "          if (!dataTable) return;\n",
              "\n",
              "          const docLinkHtml = 'Like what you see? Visit the ' +\n",
              "            '<a target=\"_blank\" href=https://colab.research.google.com/notebooks/data_table.ipynb>data table notebook</a>'\n",
              "            + ' to learn more about interactive tables.';\n",
              "          element.innerHTML = '';\n",
              "          dataTable['output_type'] = 'display_data';\n",
              "          await google.colab.output.renderOutput(dataTable, element);\n",
              "          const docLink = document.createElement('div');\n",
              "          docLink.innerHTML = docLinkHtml;\n",
              "          element.appendChild(docLink);\n",
              "        }\n",
              "      </script>\n",
              "    </div>\n",
              "  </div>\n",
              "  "
            ],
            "text/plain": [
              "                  event  ... ing_count\n",
              "109 2021-12-22 14:50:00  ...        18\n",
              "110 2021-12-24 21:00:00  ...        23\n",
              "111 2021-12-30 16:00:00  ...        26\n",
              "\n",
              "[3 rows x 9 columns]"
            ]
          },
          "metadata": {},
          "execution_count": 5
        }
      ]
    },
    {
      "cell_type": "code",
      "metadata": {
        "colab": {
          "base_uri": "https://localhost:8080/",
          "height": 112
        },
        "id": "g_-OoEbO-ciL",
        "outputId": "59e77441-032e-4182-dc3e-0e4ddbf6144d"
      },
      "source": [
        "#Filtering the dataframe and assigning categories for 2021 where stomach ache appeared\n",
        "df1_2021 = df1[(df1['year']==2021) & (df1['ache']==1)].reset_index(drop=True)\n",
        "df1_2021 = df1_2021.assign(cat = np.select(condlist=[(df1_2021['month']<6), ((df1_2021['month']>=6) & (df1_2021['month']<10)), (df1_2021['month']==10),\n",
        "                                                    (df1_2021['month']>=11)], choicelist=['milk_diet', 'lactose_free', 'rotavirus', 'post_virus']))\n",
        "df1_2021.tail(2)"
      ],
      "execution_count": null,
      "outputs": [
        {
          "output_type": "execute_result",
          "data": {
            "text/html": [
              "\n",
              "  <div id=\"df-98578e7e-a150-48f1-bd5c-d86acb407fa3\">\n",
              "    <div class=\"colab-df-container\">\n",
              "      <div>\n",
              "<style scoped>\n",
              "    .dataframe tbody tr th:only-of-type {\n",
              "        vertical-align: middle;\n",
              "    }\n",
              "\n",
              "    .dataframe tbody tr th {\n",
              "        vertical-align: top;\n",
              "    }\n",
              "\n",
              "    .dataframe thead th {\n",
              "        text-align: right;\n",
              "    }\n",
              "</style>\n",
              "<table border=\"1\" class=\"dataframe\">\n",
              "  <thead>\n",
              "    <tr style=\"text-align: right;\">\n",
              "      <th></th>\n",
              "      <th>event</th>\n",
              "      <th>food</th>\n",
              "      <th>large_meal</th>\n",
              "      <th>ache</th>\n",
              "      <th>year</th>\n",
              "      <th>month</th>\n",
              "      <th>day</th>\n",
              "      <th>hour</th>\n",
              "      <th>ing_count</th>\n",
              "      <th>cat</th>\n",
              "    </tr>\n",
              "  </thead>\n",
              "  <tbody>\n",
              "    <tr>\n",
              "      <th>63</th>\n",
              "      <td>2021-12-24 21:00:00</td>\n",
              "      <td>yogurt, oat, milk, pear, honey, raisins, prune...</td>\n",
              "      <td>1</td>\n",
              "      <td>1</td>\n",
              "      <td>2021</td>\n",
              "      <td>12</td>\n",
              "      <td>4</td>\n",
              "      <td>21</td>\n",
              "      <td>23</td>\n",
              "      <td>post_virus</td>\n",
              "    </tr>\n",
              "    <tr>\n",
              "      <th>64</th>\n",
              "      <td>2021-12-30 16:00:00</td>\n",
              "      <td>yogurt, oat, milk, pear, apple, raisins, prune...</td>\n",
              "      <td>1</td>\n",
              "      <td>1</td>\n",
              "      <td>2021</td>\n",
              "      <td>12</td>\n",
              "      <td>3</td>\n",
              "      <td>16</td>\n",
              "      <td>26</td>\n",
              "      <td>post_virus</td>\n",
              "    </tr>\n",
              "  </tbody>\n",
              "</table>\n",
              "</div>\n",
              "      <button class=\"colab-df-convert\" onclick=\"convertToInteractive('df-98578e7e-a150-48f1-bd5c-d86acb407fa3')\"\n",
              "              title=\"Convert this dataframe to an interactive table.\"\n",
              "              style=\"display:none;\">\n",
              "        \n",
              "  <svg xmlns=\"http://www.w3.org/2000/svg\" height=\"24px\"viewBox=\"0 0 24 24\"\n",
              "       width=\"24px\">\n",
              "    <path d=\"M0 0h24v24H0V0z\" fill=\"none\"/>\n",
              "    <path d=\"M18.56 5.44l.94 2.06.94-2.06 2.06-.94-2.06-.94-.94-2.06-.94 2.06-2.06.94zm-11 1L8.5 8.5l.94-2.06 2.06-.94-2.06-.94L8.5 2.5l-.94 2.06-2.06.94zm10 10l.94 2.06.94-2.06 2.06-.94-2.06-.94-.94-2.06-.94 2.06-2.06.94z\"/><path d=\"M17.41 7.96l-1.37-1.37c-.4-.4-.92-.59-1.43-.59-.52 0-1.04.2-1.43.59L10.3 9.45l-7.72 7.72c-.78.78-.78 2.05 0 2.83L4 21.41c.39.39.9.59 1.41.59.51 0 1.02-.2 1.41-.59l7.78-7.78 2.81-2.81c.8-.78.8-2.07 0-2.86zM5.41 20L4 18.59l7.72-7.72 1.47 1.35L5.41 20z\"/>\n",
              "  </svg>\n",
              "      </button>\n",
              "      \n",
              "  <style>\n",
              "    .colab-df-container {\n",
              "      display:flex;\n",
              "      flex-wrap:wrap;\n",
              "      gap: 12px;\n",
              "    }\n",
              "\n",
              "    .colab-df-convert {\n",
              "      background-color: #E8F0FE;\n",
              "      border: none;\n",
              "      border-radius: 50%;\n",
              "      cursor: pointer;\n",
              "      display: none;\n",
              "      fill: #1967D2;\n",
              "      height: 32px;\n",
              "      padding: 0 0 0 0;\n",
              "      width: 32px;\n",
              "    }\n",
              "\n",
              "    .colab-df-convert:hover {\n",
              "      background-color: #E2EBFA;\n",
              "      box-shadow: 0px 1px 2px rgba(60, 64, 67, 0.3), 0px 1px 3px 1px rgba(60, 64, 67, 0.15);\n",
              "      fill: #174EA6;\n",
              "    }\n",
              "\n",
              "    [theme=dark] .colab-df-convert {\n",
              "      background-color: #3B4455;\n",
              "      fill: #D2E3FC;\n",
              "    }\n",
              "\n",
              "    [theme=dark] .colab-df-convert:hover {\n",
              "      background-color: #434B5C;\n",
              "      box-shadow: 0px 1px 3px 1px rgba(0, 0, 0, 0.15);\n",
              "      filter: drop-shadow(0px 1px 2px rgba(0, 0, 0, 0.3));\n",
              "      fill: #FFFFFF;\n",
              "    }\n",
              "  </style>\n",
              "\n",
              "      <script>\n",
              "        const buttonEl =\n",
              "          document.querySelector('#df-98578e7e-a150-48f1-bd5c-d86acb407fa3 button.colab-df-convert');\n",
              "        buttonEl.style.display =\n",
              "          google.colab.kernel.accessAllowed ? 'block' : 'none';\n",
              "\n",
              "        async function convertToInteractive(key) {\n",
              "          const element = document.querySelector('#df-98578e7e-a150-48f1-bd5c-d86acb407fa3');\n",
              "          const dataTable =\n",
              "            await google.colab.kernel.invokeFunction('convertToInteractive',\n",
              "                                                     [key], {});\n",
              "          if (!dataTable) return;\n",
              "\n",
              "          const docLinkHtml = 'Like what you see? Visit the ' +\n",
              "            '<a target=\"_blank\" href=https://colab.research.google.com/notebooks/data_table.ipynb>data table notebook</a>'\n",
              "            + ' to learn more about interactive tables.';\n",
              "          element.innerHTML = '';\n",
              "          dataTable['output_type'] = 'display_data';\n",
              "          await google.colab.output.renderOutput(dataTable, element);\n",
              "          const docLink = document.createElement('div');\n",
              "          docLink.innerHTML = docLinkHtml;\n",
              "          element.appendChild(docLink);\n",
              "        }\n",
              "      </script>\n",
              "    </div>\n",
              "  </div>\n",
              "  "
            ],
            "text/plain": [
              "                 event  ...         cat\n",
              "63 2021-12-24 21:00:00  ...  post_virus\n",
              "64 2021-12-30 16:00:00  ...  post_virus\n",
              "\n",
              "[2 rows x 10 columns]"
            ]
          },
          "metadata": {},
          "execution_count": 6
        }
      ]
    },
    {
      "cell_type": "code",
      "metadata": {
        "colab": {
          "base_uri": "https://localhost:8080/",
          "height": 143
        },
        "id": "-fpQS71tjgif",
        "outputId": "a564a951-05e2-4b48-de66-a1ca5802897e"
      },
      "source": [
        "#Calculating range of days between events and converting to int (days)\n",
        "df1_2021 = df1_2021.assign(event_2 = df1_2021['event'].shift(fill_value=np.nan))\n",
        "df1_2021 = df1_2021.assign(num_of_days = (df1_2021['event'] - df1_2021['event_2']))\n",
        "df1_2021 = df1_2021.assign(num_of_days = df1_2021['num_of_days'].replace(np.nan, 0))\n",
        "df1_2021 = df1_2021.assign(num_of_days = (df1_2021['num_of_days'].astype(int))/8.64e+13) #==> Converting from ns to days\n",
        "df1_2021.tail(3)"
      ],
      "execution_count": null,
      "outputs": [
        {
          "output_type": "execute_result",
          "data": {
            "text/html": [
              "\n",
              "  <div id=\"df-21837c66-b60e-4cb1-97b6-70b5b94d34b9\">\n",
              "    <div class=\"colab-df-container\">\n",
              "      <div>\n",
              "<style scoped>\n",
              "    .dataframe tbody tr th:only-of-type {\n",
              "        vertical-align: middle;\n",
              "    }\n",
              "\n",
              "    .dataframe tbody tr th {\n",
              "        vertical-align: top;\n",
              "    }\n",
              "\n",
              "    .dataframe thead th {\n",
              "        text-align: right;\n",
              "    }\n",
              "</style>\n",
              "<table border=\"1\" class=\"dataframe\">\n",
              "  <thead>\n",
              "    <tr style=\"text-align: right;\">\n",
              "      <th></th>\n",
              "      <th>event</th>\n",
              "      <th>food</th>\n",
              "      <th>large_meal</th>\n",
              "      <th>ache</th>\n",
              "      <th>year</th>\n",
              "      <th>month</th>\n",
              "      <th>day</th>\n",
              "      <th>hour</th>\n",
              "      <th>ing_count</th>\n",
              "      <th>cat</th>\n",
              "      <th>event_2</th>\n",
              "      <th>num_of_days</th>\n",
              "    </tr>\n",
              "  </thead>\n",
              "  <tbody>\n",
              "    <tr>\n",
              "      <th>62</th>\n",
              "      <td>2021-12-22 14:50:00</td>\n",
              "      <td>yogurt, oat, milk, pear, honey, raisins, prune...</td>\n",
              "      <td>0</td>\n",
              "      <td>1</td>\n",
              "      <td>2021</td>\n",
              "      <td>12</td>\n",
              "      <td>2</td>\n",
              "      <td>14</td>\n",
              "      <td>18</td>\n",
              "      <td>post_virus</td>\n",
              "      <td>2021-12-20 14:50:00</td>\n",
              "      <td>2.000000</td>\n",
              "    </tr>\n",
              "    <tr>\n",
              "      <th>63</th>\n",
              "      <td>2021-12-24 21:00:00</td>\n",
              "      <td>yogurt, oat, milk, pear, honey, raisins, prune...</td>\n",
              "      <td>1</td>\n",
              "      <td>1</td>\n",
              "      <td>2021</td>\n",
              "      <td>12</td>\n",
              "      <td>4</td>\n",
              "      <td>21</td>\n",
              "      <td>23</td>\n",
              "      <td>post_virus</td>\n",
              "      <td>2021-12-22 14:50:00</td>\n",
              "      <td>2.256944</td>\n",
              "    </tr>\n",
              "    <tr>\n",
              "      <th>64</th>\n",
              "      <td>2021-12-30 16:00:00</td>\n",
              "      <td>yogurt, oat, milk, pear, apple, raisins, prune...</td>\n",
              "      <td>1</td>\n",
              "      <td>1</td>\n",
              "      <td>2021</td>\n",
              "      <td>12</td>\n",
              "      <td>3</td>\n",
              "      <td>16</td>\n",
              "      <td>26</td>\n",
              "      <td>post_virus</td>\n",
              "      <td>2021-12-24 21:00:00</td>\n",
              "      <td>5.791667</td>\n",
              "    </tr>\n",
              "  </tbody>\n",
              "</table>\n",
              "</div>\n",
              "      <button class=\"colab-df-convert\" onclick=\"convertToInteractive('df-21837c66-b60e-4cb1-97b6-70b5b94d34b9')\"\n",
              "              title=\"Convert this dataframe to an interactive table.\"\n",
              "              style=\"display:none;\">\n",
              "        \n",
              "  <svg xmlns=\"http://www.w3.org/2000/svg\" height=\"24px\"viewBox=\"0 0 24 24\"\n",
              "       width=\"24px\">\n",
              "    <path d=\"M0 0h24v24H0V0z\" fill=\"none\"/>\n",
              "    <path d=\"M18.56 5.44l.94 2.06.94-2.06 2.06-.94-2.06-.94-.94-2.06-.94 2.06-2.06.94zm-11 1L8.5 8.5l.94-2.06 2.06-.94-2.06-.94L8.5 2.5l-.94 2.06-2.06.94zm10 10l.94 2.06.94-2.06 2.06-.94-2.06-.94-.94-2.06-.94 2.06-2.06.94z\"/><path d=\"M17.41 7.96l-1.37-1.37c-.4-.4-.92-.59-1.43-.59-.52 0-1.04.2-1.43.59L10.3 9.45l-7.72 7.72c-.78.78-.78 2.05 0 2.83L4 21.41c.39.39.9.59 1.41.59.51 0 1.02-.2 1.41-.59l7.78-7.78 2.81-2.81c.8-.78.8-2.07 0-2.86zM5.41 20L4 18.59l7.72-7.72 1.47 1.35L5.41 20z\"/>\n",
              "  </svg>\n",
              "      </button>\n",
              "      \n",
              "  <style>\n",
              "    .colab-df-container {\n",
              "      display:flex;\n",
              "      flex-wrap:wrap;\n",
              "      gap: 12px;\n",
              "    }\n",
              "\n",
              "    .colab-df-convert {\n",
              "      background-color: #E8F0FE;\n",
              "      border: none;\n",
              "      border-radius: 50%;\n",
              "      cursor: pointer;\n",
              "      display: none;\n",
              "      fill: #1967D2;\n",
              "      height: 32px;\n",
              "      padding: 0 0 0 0;\n",
              "      width: 32px;\n",
              "    }\n",
              "\n",
              "    .colab-df-convert:hover {\n",
              "      background-color: #E2EBFA;\n",
              "      box-shadow: 0px 1px 2px rgba(60, 64, 67, 0.3), 0px 1px 3px 1px rgba(60, 64, 67, 0.15);\n",
              "      fill: #174EA6;\n",
              "    }\n",
              "\n",
              "    [theme=dark] .colab-df-convert {\n",
              "      background-color: #3B4455;\n",
              "      fill: #D2E3FC;\n",
              "    }\n",
              "\n",
              "    [theme=dark] .colab-df-convert:hover {\n",
              "      background-color: #434B5C;\n",
              "      box-shadow: 0px 1px 3px 1px rgba(0, 0, 0, 0.15);\n",
              "      filter: drop-shadow(0px 1px 2px rgba(0, 0, 0, 0.3));\n",
              "      fill: #FFFFFF;\n",
              "    }\n",
              "  </style>\n",
              "\n",
              "      <script>\n",
              "        const buttonEl =\n",
              "          document.querySelector('#df-21837c66-b60e-4cb1-97b6-70b5b94d34b9 button.colab-df-convert');\n",
              "        buttonEl.style.display =\n",
              "          google.colab.kernel.accessAllowed ? 'block' : 'none';\n",
              "\n",
              "        async function convertToInteractive(key) {\n",
              "          const element = document.querySelector('#df-21837c66-b60e-4cb1-97b6-70b5b94d34b9');\n",
              "          const dataTable =\n",
              "            await google.colab.kernel.invokeFunction('convertToInteractive',\n",
              "                                                     [key], {});\n",
              "          if (!dataTable) return;\n",
              "\n",
              "          const docLinkHtml = 'Like what you see? Visit the ' +\n",
              "            '<a target=\"_blank\" href=https://colab.research.google.com/notebooks/data_table.ipynb>data table notebook</a>'\n",
              "            + ' to learn more about interactive tables.';\n",
              "          element.innerHTML = '';\n",
              "          dataTable['output_type'] = 'display_data';\n",
              "          await google.colab.output.renderOutput(dataTable, element);\n",
              "          const docLink = document.createElement('div');\n",
              "          docLink.innerHTML = docLinkHtml;\n",
              "          element.appendChild(docLink);\n",
              "        }\n",
              "      </script>\n",
              "    </div>\n",
              "  </div>\n",
              "  "
            ],
            "text/plain": [
              "                 event  ... num_of_days\n",
              "62 2021-12-22 14:50:00  ...    2.000000\n",
              "63 2021-12-24 21:00:00  ...    2.256944\n",
              "64 2021-12-30 16:00:00  ...    5.791667\n",
              "\n",
              "[3 rows x 12 columns]"
            ]
          },
          "metadata": {},
          "execution_count": 7
        }
      ]
    },
    {
      "cell_type": "code",
      "source": [
        "#Calculating porcentage of change between stomach ache events\n",
        "df1_2021 = df1_2021.assign(pct_days = df1_2021['num_of_days'].pct_change())\n",
        "df1_2021 = df1_2021.assign(pct_days = df1_2021['pct_days'].replace(np.nan, 0))"
      ],
      "metadata": {
        "id": "ojwL5uucfSI_"
      },
      "execution_count": null,
      "outputs": []
    },
    {
      "cell_type": "code",
      "source": [
        "#Replacing int days for name days\n",
        "days_dict = {0: 'Mon', 1:'Tue', 2:'Wed', 3:'Thu', 4:'Fri', 5:'Sat', 6:'Sun'}\n",
        "df1_2021['day'] = df1_2021['day'].replace(to_replace=days_dict)"
      ],
      "metadata": {
        "id": "HFzT0SHLX0YD"
      },
      "execution_count": null,
      "outputs": []
    },
    {
      "cell_type": "code",
      "source": [
        "#Counting the proportion of stomach aches by the day of the week\n",
        "df1_2021['day'].value_counts(normalize=True)"
      ],
      "metadata": {
        "colab": {
          "base_uri": "https://localhost:8080/"
        },
        "id": "OnLaMdxxZANN",
        "outputId": "168a7ce3-1e04-4d48-d9de-bbf7f350831c"
      },
      "execution_count": null,
      "outputs": [
        {
          "output_type": "execute_result",
          "data": {
            "text/plain": [
              "Fri    0.215385\n",
              "Sun    0.169231\n",
              "Wed    0.169231\n",
              "Thu    0.153846\n",
              "Tue    0.107692\n",
              "Sat    0.092308\n",
              "Mon    0.092308\n",
              "Name: day, dtype: float64"
            ]
          },
          "metadata": {},
          "execution_count": 10
        }
      ]
    },
    {
      "cell_type": "code",
      "source": [
        "#Counting the proportion of stomach aches by hour of the day\n",
        "df1_2021['hour'].value_counts(normalize=True)"
      ],
      "metadata": {
        "colab": {
          "base_uri": "https://localhost:8080/"
        },
        "id": "lB4XswxyaEdF",
        "outputId": "20ad6756-0b42-4059-db6c-da3c5f207886"
      },
      "execution_count": null,
      "outputs": [
        {
          "output_type": "execute_result",
          "data": {
            "text/plain": [
              "17    0.184615\n",
              "19    0.153846\n",
              "21    0.107692\n",
              "20    0.107692\n",
              "18    0.107692\n",
              "16    0.092308\n",
              "22    0.046154\n",
              "14    0.046154\n",
              "2     0.046154\n",
              "15    0.030769\n",
              "8     0.030769\n",
              "13    0.015385\n",
              "10    0.015385\n",
              "7     0.015385\n",
              "Name: hour, dtype: float64"
            ]
          },
          "metadata": {},
          "execution_count": 11
        }
      ]
    },
    {
      "cell_type": "code",
      "metadata": {
        "colab": {
          "base_uri": "https://localhost:8080/"
        },
        "id": "iYhftSvvGwyp",
        "outputId": "451c7340-b49a-4c78-bfec-f9d0420c6d22"
      },
      "source": [
        "#Transforming aching meals into list\n",
        "ache_1 = df1[df1['ache']==1]['food'].str.cat(sep=', ').split(\", \")\n",
        "ache_1[:5]"
      ],
      "execution_count": null,
      "outputs": [
        {
          "output_type": "execute_result",
          "data": {
            "text/plain": [
              "['bread', 'pepperoni', 'ham', 'cheese', 'ricotta']"
            ]
          },
          "metadata": {},
          "execution_count": 12
        }
      ]
    },
    {
      "cell_type": "code",
      "metadata": {
        "colab": {
          "base_uri": "https://localhost:8080/"
        },
        "id": "pQPl8o8fGwyr",
        "outputId": "d9529e3f-69f9-48ff-b73c-d0e37633e1f8"
      },
      "source": [
        "#Building a dictionary of occurrences for each food\n",
        "import collections\n",
        "ache_occurrences = collections.Counter(ache_1)\n",
        "ache_occurrences.get('bread')"
      ],
      "execution_count": null,
      "outputs": [
        {
          "output_type": "execute_result",
          "data": {
            "text/plain": [
              "37"
            ]
          },
          "metadata": {},
          "execution_count": 13
        }
      ]
    },
    {
      "cell_type": "code",
      "metadata": {
        "colab": {
          "base_uri": "https://localhost:8080/"
        },
        "id": "5CrC7gi2Gwyr",
        "outputId": "c4d52e9d-7b4a-4e40-94fe-37299387bd1e"
      },
      "source": [
        "#Transforming list of aching meals into series\n",
        "ache_meal_1 = pd.Series(data=ache_1)\n",
        "ache_meal_1.tail()"
      ],
      "execution_count": null,
      "outputs": [
        {
          "output_type": "execute_result",
          "data": {
            "text/plain": [
              "963             cheese\n",
              "964    chocolate_pudin\n",
              "965       french_fries\n",
              "966          bbq_sauce\n",
              "967              aioli\n",
              "dtype: object"
            ]
          },
          "metadata": {},
          "execution_count": 14
        }
      ]
    },
    {
      "cell_type": "code",
      "metadata": {
        "colab": {
          "base_uri": "https://localhost:8080/",
          "height": 206
        },
        "id": "qYDTaA_KGwys",
        "outputId": "a14df579-552f-4f74-9017-d5e08816bce1"
      },
      "source": [
        "#Counting top foods in diet\n",
        "ache_meal_1 = ache_meal_1.value_counts().reset_index(name='count').rename(columns={'index':'food'})\n",
        "ache_meal_1.head()"
      ],
      "execution_count": null,
      "outputs": [
        {
          "output_type": "execute_result",
          "data": {
            "text/html": [
              "\n",
              "  <div id=\"df-234170db-84d5-4eda-afdd-a221bde1a8a7\">\n",
              "    <div class=\"colab-df-container\">\n",
              "      <div>\n",
              "<style scoped>\n",
              "    .dataframe tbody tr th:only-of-type {\n",
              "        vertical-align: middle;\n",
              "    }\n",
              "\n",
              "    .dataframe tbody tr th {\n",
              "        vertical-align: top;\n",
              "    }\n",
              "\n",
              "    .dataframe thead th {\n",
              "        text-align: right;\n",
              "    }\n",
              "</style>\n",
              "<table border=\"1\" class=\"dataframe\">\n",
              "  <thead>\n",
              "    <tr style=\"text-align: right;\">\n",
              "      <th></th>\n",
              "      <th>food</th>\n",
              "      <th>count</th>\n",
              "    </tr>\n",
              "  </thead>\n",
              "  <tbody>\n",
              "    <tr>\n",
              "      <th>0</th>\n",
              "      <td>cheese</td>\n",
              "      <td>51</td>\n",
              "    </tr>\n",
              "    <tr>\n",
              "      <th>1</th>\n",
              "      <td>rice</td>\n",
              "      <td>51</td>\n",
              "    </tr>\n",
              "    <tr>\n",
              "      <th>2</th>\n",
              "      <td>bread</td>\n",
              "      <td>37</td>\n",
              "    </tr>\n",
              "    <tr>\n",
              "      <th>3</th>\n",
              "      <td>yogurt</td>\n",
              "      <td>26</td>\n",
              "    </tr>\n",
              "    <tr>\n",
              "      <th>4</th>\n",
              "      <td>banana</td>\n",
              "      <td>25</td>\n",
              "    </tr>\n",
              "  </tbody>\n",
              "</table>\n",
              "</div>\n",
              "      <button class=\"colab-df-convert\" onclick=\"convertToInteractive('df-234170db-84d5-4eda-afdd-a221bde1a8a7')\"\n",
              "              title=\"Convert this dataframe to an interactive table.\"\n",
              "              style=\"display:none;\">\n",
              "        \n",
              "  <svg xmlns=\"http://www.w3.org/2000/svg\" height=\"24px\"viewBox=\"0 0 24 24\"\n",
              "       width=\"24px\">\n",
              "    <path d=\"M0 0h24v24H0V0z\" fill=\"none\"/>\n",
              "    <path d=\"M18.56 5.44l.94 2.06.94-2.06 2.06-.94-2.06-.94-.94-2.06-.94 2.06-2.06.94zm-11 1L8.5 8.5l.94-2.06 2.06-.94-2.06-.94L8.5 2.5l-.94 2.06-2.06.94zm10 10l.94 2.06.94-2.06 2.06-.94-2.06-.94-.94-2.06-.94 2.06-2.06.94z\"/><path d=\"M17.41 7.96l-1.37-1.37c-.4-.4-.92-.59-1.43-.59-.52 0-1.04.2-1.43.59L10.3 9.45l-7.72 7.72c-.78.78-.78 2.05 0 2.83L4 21.41c.39.39.9.59 1.41.59.51 0 1.02-.2 1.41-.59l7.78-7.78 2.81-2.81c.8-.78.8-2.07 0-2.86zM5.41 20L4 18.59l7.72-7.72 1.47 1.35L5.41 20z\"/>\n",
              "  </svg>\n",
              "      </button>\n",
              "      \n",
              "  <style>\n",
              "    .colab-df-container {\n",
              "      display:flex;\n",
              "      flex-wrap:wrap;\n",
              "      gap: 12px;\n",
              "    }\n",
              "\n",
              "    .colab-df-convert {\n",
              "      background-color: #E8F0FE;\n",
              "      border: none;\n",
              "      border-radius: 50%;\n",
              "      cursor: pointer;\n",
              "      display: none;\n",
              "      fill: #1967D2;\n",
              "      height: 32px;\n",
              "      padding: 0 0 0 0;\n",
              "      width: 32px;\n",
              "    }\n",
              "\n",
              "    .colab-df-convert:hover {\n",
              "      background-color: #E2EBFA;\n",
              "      box-shadow: 0px 1px 2px rgba(60, 64, 67, 0.3), 0px 1px 3px 1px rgba(60, 64, 67, 0.15);\n",
              "      fill: #174EA6;\n",
              "    }\n",
              "\n",
              "    [theme=dark] .colab-df-convert {\n",
              "      background-color: #3B4455;\n",
              "      fill: #D2E3FC;\n",
              "    }\n",
              "\n",
              "    [theme=dark] .colab-df-convert:hover {\n",
              "      background-color: #434B5C;\n",
              "      box-shadow: 0px 1px 3px 1px rgba(0, 0, 0, 0.15);\n",
              "      filter: drop-shadow(0px 1px 2px rgba(0, 0, 0, 0.3));\n",
              "      fill: #FFFFFF;\n",
              "    }\n",
              "  </style>\n",
              "\n",
              "      <script>\n",
              "        const buttonEl =\n",
              "          document.querySelector('#df-234170db-84d5-4eda-afdd-a221bde1a8a7 button.colab-df-convert');\n",
              "        buttonEl.style.display =\n",
              "          google.colab.kernel.accessAllowed ? 'block' : 'none';\n",
              "\n",
              "        async function convertToInteractive(key) {\n",
              "          const element = document.querySelector('#df-234170db-84d5-4eda-afdd-a221bde1a8a7');\n",
              "          const dataTable =\n",
              "            await google.colab.kernel.invokeFunction('convertToInteractive',\n",
              "                                                     [key], {});\n",
              "          if (!dataTable) return;\n",
              "\n",
              "          const docLinkHtml = 'Like what you see? Visit the ' +\n",
              "            '<a target=\"_blank\" href=https://colab.research.google.com/notebooks/data_table.ipynb>data table notebook</a>'\n",
              "            + ' to learn more about interactive tables.';\n",
              "          element.innerHTML = '';\n",
              "          dataTable['output_type'] = 'display_data';\n",
              "          await google.colab.output.renderOutput(dataTable, element);\n",
              "          const docLink = document.createElement('div');\n",
              "          docLink.innerHTML = docLinkHtml;\n",
              "          element.appendChild(docLink);\n",
              "        }\n",
              "      </script>\n",
              "    </div>\n",
              "  </div>\n",
              "  "
            ],
            "text/plain": [
              "     food  count\n",
              "0  cheese     51\n",
              "1    rice     51\n",
              "2   bread     37\n",
              "3  yogurt     26\n",
              "4  banana     25"
            ]
          },
          "metadata": {},
          "execution_count": 15
        }
      ]
    },
    {
      "cell_type": "code",
      "metadata": {
        "id": "InUi_lSAO7my",
        "colab": {
          "base_uri": "https://localhost:8080/",
          "height": 34
        },
        "outputId": "8673c3c5-ebcc-47ec-e65c-be7185b5d9c6"
      },
      "source": [
        "#Exporting to excel into local disk\n",
        "#from google.colab import files\n",
        "#ache_meal_1.to_excel('food_count.xlsx', index=False) #==> Excluding index from file\n",
        "#files.download('food_count.xlsx')"
      ],
      "execution_count": null,
      "outputs": [
        {
          "output_type": "display_data",
          "data": {
            "application/javascript": [
              "\n",
              "    async function download(id, filename, size) {\n",
              "      if (!google.colab.kernel.accessAllowed) {\n",
              "        return;\n",
              "      }\n",
              "      const div = document.createElement('div');\n",
              "      const label = document.createElement('label');\n",
              "      label.textContent = `Downloading \"${filename}\": `;\n",
              "      div.appendChild(label);\n",
              "      const progress = document.createElement('progress');\n",
              "      progress.max = size;\n",
              "      div.appendChild(progress);\n",
              "      document.body.appendChild(div);\n",
              "\n",
              "      const buffers = [];\n",
              "      let downloaded = 0;\n",
              "\n",
              "      const channel = await google.colab.kernel.comms.open(id);\n",
              "      // Send a message to notify the kernel that we're ready.\n",
              "      channel.send({})\n",
              "\n",
              "      for await (const message of channel.messages) {\n",
              "        // Send a message to notify the kernel that we're ready.\n",
              "        channel.send({})\n",
              "        if (message.buffers) {\n",
              "          for (const buffer of message.buffers) {\n",
              "            buffers.push(buffer);\n",
              "            downloaded += buffer.byteLength;\n",
              "            progress.value = downloaded;\n",
              "          }\n",
              "        }\n",
              "      }\n",
              "      const blob = new Blob(buffers, {type: 'application/binary'});\n",
              "      const a = document.createElement('a');\n",
              "      a.href = window.URL.createObjectURL(blob);\n",
              "      a.download = filename;\n",
              "      div.appendChild(a);\n",
              "      a.click();\n",
              "      div.remove();\n",
              "    }\n",
              "  "
            ],
            "text/plain": [
              "<IPython.core.display.Javascript object>"
            ]
          },
          "metadata": {}
        },
        {
          "output_type": "display_data",
          "data": {
            "application/javascript": [
              "download(\"download_a4cf3c0c-92a4-49bc-863f-bf0103439852\", \"food_count.xlsx\", 8365)"
            ],
            "text/plain": [
              "<IPython.core.display.Javascript object>"
            ]
          },
          "metadata": {}
        }
      ]
    },
    {
      "cell_type": "markdown",
      "metadata": {
        "id": "HPqfPQd9D3B0"
      },
      "source": [
        "##Data Visualization"
      ]
    },
    {
      "cell_type": "code",
      "metadata": {
        "id": "7FRgED7uPOe1"
      },
      "source": [
        "#Importing visualization libraries\n",
        "import matplotlib.pyplot as plt\n",
        "import seaborn as sns"
      ],
      "execution_count": null,
      "outputs": []
    },
    {
      "cell_type": "code",
      "metadata": {
        "id": "2vYQmrcP7r-i"
      },
      "source": [
        "#Customizing data visualization styles\n",
        "sns.set_theme(rc = {'figure.figsize': (10, 4)})"
      ],
      "execution_count": null,
      "outputs": []
    },
    {
      "cell_type": "code",
      "metadata": {
        "colab": {
          "base_uri": "https://localhost:8080/",
          "height": 302
        },
        "id": "WjMDpMNPJBqg",
        "outputId": "aefc7f9f-1ee2-48f3-a26b-013fd2ff443c"
      },
      "source": [
        "#Plotting the top 10 ingredients in diet\n",
        "sns.barplot(x='food', y='count', data=ache_meal_1[:10])\n",
        "plt.title('Top 10 ingredients in diet in 2021')\n",
        "plt.show()"
      ],
      "execution_count": null,
      "outputs": [
        {
          "output_type": "display_data",
          "data": {
            "image/png": "[encoded data removed]",
            "text/plain": [
              "<Figure size 720x288 with 1 Axes>"
            ]
          },
          "metadata": {}
        }
      ]
    },
    {
      "cell_type": "code",
      "metadata": {
        "colab": {
          "base_uri": "https://localhost:8080/",
          "height": 301
        },
        "id": "aBwgQtXi57h6",
        "outputId": "5329784b-e9f1-4b2b-efc4-2a5e244d097a"
      },
      "source": [
        "#Plotting the number of stomach ache by day of the week\n",
        "sns.countplot(x='day', data=df1_2021, order=['Mon', 'Tue', 'Wed', 'Thu', 'Fri', 'Sat', 'Sun'])\n",
        "plt.title('Count of stomach ache by day of the week in 2021')\n",
        "plt.show()"
      ],
      "execution_count": null,
      "outputs": [
        {
          "output_type": "display_data",
          "data": {
            "image/png": "[encoded data removed]",
            "text/plain": [
              "<Figure size 720x288 with 1 Axes>"
            ]
          },
          "metadata": {}
        }
      ]
    },
    {
      "cell_type": "code",
      "metadata": {
        "colab": {
          "base_uri": "https://localhost:8080/",
          "height": 301
        },
        "id": "07B1DjGf7Yyt",
        "outputId": "6eaba38f-8be0-44bc-f71a-a231701e5460"
      },
      "source": [
        "#Plotting the number of stomach ache by month\n",
        "sns.countplot(x='month', data=df1_2021, hue='cat')\n",
        "plt.title('Count of stomach ache by month in 2021')\n",
        "plt.show()"
      ],
      "execution_count": null,
      "outputs": [
        {
          "output_type": "display_data",
          "data": {
            "image/png": "[encoded data removed]",
            "text/plain": [
              "<Figure size 720x288 with 1 Axes>"
            ]
          },
          "metadata": {}
        }
      ]
    },
    {
      "cell_type": "code",
      "source": [
        "#Plotting the spread of stomache ache by hour of the day\n",
        "sns.scatterplot(x='event', y='hour', data=df1_2021, hue='cat')\n",
        "plt.title('Stomach Ache by hour of the day in 2021')\n",
        "plt.show()"
      ],
      "metadata": {
        "colab": {
          "base_uri": "https://localhost:8080/",
          "height": 301
        },
        "id": "D6VLrsiwhmoN",
        "outputId": "0f200fd5-b936-42e2-d814-e7ae04acaf2c"
      },
      "execution_count": null,
      "outputs": [
        {
          "output_type": "display_data",
          "data": {
            "image/png": "[encoded data removed]",
            "text/plain": [
              "<Figure size 720x288 with 1 Axes>"
            ]
          },
          "metadata": {}
        }
      ]
    },
    {
      "cell_type": "markdown",
      "source": [
        "###Variability graphs"
      ],
      "metadata": {
        "id": "mkSHtrOrhKzg"
      }
    },
    {
      "cell_type": "code",
      "metadata": {
        "colab": {
          "base_uri": "https://localhost:8080/",
          "height": 301
        },
        "id": "vYPranzDDkpc",
        "outputId": "616b0d61-30f1-42db-cea9-1f2b5b61289c"
      },
      "source": [
        "#Plotting the boxplot of days between stomach ache\n",
        "sns.boxplot(x='num_of_days', y='cat', data=df1_2021, hue='cat')\n",
        "plt.title('Days without stomach ache - Before and after first diagnose in 2021')\n",
        "plt.show()"
      ],
      "execution_count": null,
      "outputs": [
        {
          "output_type": "display_data",
          "data": {
            "image/png": "[encoded data removed]",
            "text/plain": [
              "<Figure size 720x288 with 1 Axes>"
            ]
          },
          "metadata": {}
        }
      ]
    },
    {
      "cell_type": "code",
      "metadata": {
        "colab": {
          "base_uri": "https://localhost:8080/",
          "height": 301
        },
        "id": "eN4JXt6LhFgs",
        "outputId": "b6d2bb9c-0073-456f-97e6-66d08dee7e75"
      },
      "source": [
        "#Plotting the boxplot of number of ingredients present in diet\n",
        "sns.boxplot(x='ing_count', y='cat', data=df1_2021, hue='cat')\n",
        "plt.title('Number of ingredients in diet - Before and after first diagnose in 2021')\n",
        "plt.show()"
      ],
      "execution_count": null,
      "outputs": [
        {
          "output_type": "display_data",
          "data": {
            "image/png": "[encoded data removed]",
            "text/plain": [
              "<Figure size 720x288 with 1 Axes>"
            ]
          },
          "metadata": {}
        }
      ]
    },
    {
      "cell_type": "code",
      "metadata": {
        "colab": {
          "base_uri": "https://localhost:8080/",
          "height": 301
        },
        "id": "_gzKRMsMqCmT",
        "outputId": "f4e9d9a2-21a7-4247-a9f5-62d60c4df0ca"
      },
      "source": [
        "#Plotting the histogram of hours for stomach ache\n",
        "sns.histplot(x='hour', data=df1_2021, hue='cat')\n",
        "plt.title('Most common hours for stomach ache - 2021')\n",
        "plt.show()"
      ],
      "execution_count": null,
      "outputs": [
        {
          "output_type": "display_data",
          "data": {
            "image/png": "[encoded data removed]",
            "text/plain": [
              "<Figure size 720x288 with 1 Axes>"
            ]
          },
          "metadata": {}
        }
      ]
    },
    {
      "cell_type": "markdown",
      "metadata": {
        "id": "IszVO9hyPzR1"
      },
      "source": [
        "# Facilities analytics"
      ]
    },
    {
      "cell_type": "markdown",
      "metadata": {
        "id": "PEMXM4PiPzR2"
      },
      "source": [
        "## Uploading packages and data"
      ]
    },
    {
      "cell_type": "code",
      "metadata": {
        "id": "3H7UfVocPzR2"
      },
      "source": [
        "#Importing necessary packages\n",
        "import numpy as np\n",
        "import pandas as pd\n",
        "import matplotlib.pyplot as plt\n",
        "import seaborn as sns\n",
        "from ipywidgets import interact"
      ],
      "execution_count": 1,
      "outputs": []
    },
    {
      "cell_type": "code",
      "source": [
        "# Setting the plot size\n",
        "sns.set(rc = {'figure.figsize': (12, 5)})"
      ],
      "metadata": {
        "id": "mj7X-CmjVtxy"
      },
      "execution_count": 2,
      "outputs": []
    },
    {
      "cell_type": "code",
      "metadata": {
        "colab": {
          "base_uri": "https://localhost:8080/",
          "height": 81
        },
        "outputId": "9992deed-e146-458a-a268-3806c4640074",
        "id": "RdNygs0TPzR2"
      },
      "source": [
        "#Uploading google sheet data from drive\n",
        "from google.colab import auth\n",
        "auth.authenticate_user()\n",
        "\n",
        "import gspread\n",
        "from google.auth import default\n",
        "creds, _ = default()\n",
        "\n",
        "gc2 = gspread.authorize(creds)\n",
        "\n",
        "#Loading dataset from google sheet\n",
        "wb2 = gc2.open('facilities_data')\n",
        "ws2_data = wb2.sheet1\n",
        "records_2 = ws2_data.get_all_records()\n",
        "\n",
        "# Converting to a Pandas DataFrame\n",
        "df2 = pd.DataFrame.from_records(records_2)\n",
        "df2.tail(1)"
      ],
      "execution_count": 41,
      "outputs": [
        {
          "output_type": "execute_result",
          "data": {
            "text/plain": [
              "                   event  count  large  unload\n",
              "164  2022-04-02 06:40:00      1      1       0"
            ],
            "text/html": [
              "\n",
              "  <div id=\"df-d1d8025c-f842-4630-81e7-508dfd913632\">\n",
              "    <div class=\"colab-df-container\">\n",
              "      <div>\n",
              "<style scoped>\n",
              "    .dataframe tbody tr th:only-of-type {\n",
              "        vertical-align: middle;\n",
              "    }\n",
              "\n",
              "    .dataframe tbody tr th {\n",
              "        vertical-align: top;\n",
              "    }\n",
              "\n",
              "    .dataframe thead th {\n",
              "        text-align: right;\n",
              "    }\n",
              "</style>\n",
              "<table border=\"1\" class=\"dataframe\">\n",
              "  <thead>\n",
              "    <tr style=\"text-align: right;\">\n",
              "      <th></th>\n",
              "      <th>event</th>\n",
              "      <th>count</th>\n",
              "      <th>large</th>\n",
              "      <th>unload</th>\n",
              "    </tr>\n",
              "  </thead>\n",
              "  <tbody>\n",
              "    <tr>\n",
              "      <th>164</th>\n",
              "      <td>2022-04-02 06:40:00</td>\n",
              "      <td>1</td>\n",
              "      <td>1</td>\n",
              "      <td>0</td>\n",
              "    </tr>\n",
              "  </tbody>\n",
              "</table>\n",
              "</div>\n",
              "      <button class=\"colab-df-convert\" onclick=\"convertToInteractive('df-d1d8025c-f842-4630-81e7-508dfd913632')\"\n",
              "              title=\"Convert this dataframe to an interactive table.\"\n",
              "              style=\"display:none;\">\n",
              "        \n",
              "  <svg xmlns=\"http://www.w3.org/2000/svg\" height=\"24px\"viewBox=\"0 0 24 24\"\n",
              "       width=\"24px\">\n",
              "    <path d=\"M0 0h24v24H0V0z\" fill=\"none\"/>\n",
              "    <path d=\"M18.56 5.44l.94 2.06.94-2.06 2.06-.94-2.06-.94-.94-2.06-.94 2.06-2.06.94zm-11 1L8.5 8.5l.94-2.06 2.06-.94-2.06-.94L8.5 2.5l-.94 2.06-2.06.94zm10 10l.94 2.06.94-2.06 2.06-.94-2.06-.94-.94-2.06-.94 2.06-2.06.94z\"/><path d=\"M17.41 7.96l-1.37-1.37c-.4-.4-.92-.59-1.43-.59-.52 0-1.04.2-1.43.59L10.3 9.45l-7.72 7.72c-.78.78-.78 2.05 0 2.83L4 21.41c.39.39.9.59 1.41.59.51 0 1.02-.2 1.41-.59l7.78-7.78 2.81-2.81c.8-.78.8-2.07 0-2.86zM5.41 20L4 18.59l7.72-7.72 1.47 1.35L5.41 20z\"/>\n",
              "  </svg>\n",
              "      </button>\n",
              "      \n",
              "  <style>\n",
              "    .colab-df-container {\n",
              "      display:flex;\n",
              "      flex-wrap:wrap;\n",
              "      gap: 12px;\n",
              "    }\n",
              "\n",
              "    .colab-df-convert {\n",
              "      background-color: #E8F0FE;\n",
              "      border: none;\n",
              "      border-radius: 50%;\n",
              "      cursor: pointer;\n",
              "      display: none;\n",
              "      fill: #1967D2;\n",
              "      height: 32px;\n",
              "      padding: 0 0 0 0;\n",
              "      width: 32px;\n",
              "    }\n",
              "\n",
              "    .colab-df-convert:hover {\n",
              "      background-color: #E2EBFA;\n",
              "      box-shadow: 0px 1px 2px rgba(60, 64, 67, 0.3), 0px 1px 3px 1px rgba(60, 64, 67, 0.15);\n",
              "      fill: #174EA6;\n",
              "    }\n",
              "\n",
              "    [theme=dark] .colab-df-convert {\n",
              "      background-color: #3B4455;\n",
              "      fill: #D2E3FC;\n",
              "    }\n",
              "\n",
              "    [theme=dark] .colab-df-convert:hover {\n",
              "      background-color: #434B5C;\n",
              "      box-shadow: 0px 1px 3px 1px rgba(0, 0, 0, 0.15);\n",
              "      filter: drop-shadow(0px 1px 2px rgba(0, 0, 0, 0.3));\n",
              "      fill: #FFFFFF;\n",
              "    }\n",
              "  </style>\n",
              "\n",
              "      <script>\n",
              "        const buttonEl =\n",
              "          document.querySelector('#df-d1d8025c-f842-4630-81e7-508dfd913632 button.colab-df-convert');\n",
              "        buttonEl.style.display =\n",
              "          google.colab.kernel.accessAllowed ? 'block' : 'none';\n",
              "\n",
              "        async function convertToInteractive(key) {\n",
              "          const element = document.querySelector('#df-d1d8025c-f842-4630-81e7-508dfd913632');\n",
              "          const dataTable =\n",
              "            await google.colab.kernel.invokeFunction('convertToInteractive',\n",
              "                                                     [key], {});\n",
              "          if (!dataTable) return;\n",
              "\n",
              "          const docLinkHtml = 'Like what you see? Visit the ' +\n",
              "            '<a target=\"_blank\" href=https://colab.research.google.com/notebooks/data_table.ipynb>data table notebook</a>'\n",
              "            + ' to learn more about interactive tables.';\n",
              "          element.innerHTML = '';\n",
              "          dataTable['output_type'] = 'display_data';\n",
              "          await google.colab.output.renderOutput(dataTable, element);\n",
              "          const docLink = document.createElement('div');\n",
              "          docLink.innerHTML = docLinkHtml;\n",
              "          element.appendChild(docLink);\n",
              "        }\n",
              "      </script>\n",
              "    </div>\n",
              "  </div>\n",
              "  "
            ]
          },
          "metadata": {},
          "execution_count": 41
        }
      ]
    },
    {
      "cell_type": "code",
      "metadata": {
        "colab": {
          "base_uri": "https://localhost:8080/"
        },
        "outputId": "0b790931-3a3c-4aa6-c808-0acd6c611c91",
        "id": "SXJtKtKqPzR3"
      },
      "source": [
        "#Checking the dataframe info\n",
        "df2.info()"
      ],
      "execution_count": 5,
      "outputs": [
        {
          "output_type": "stream",
          "name": "stdout",
          "text": [
            "<class 'pandas.core.frame.DataFrame'>\n",
            "RangeIndex: 165 entries, 0 to 164\n",
            "Data columns (total 4 columns):\n",
            " #   Column  Non-Null Count  Dtype \n",
            "---  ------  --------------  ----- \n",
            " 0   event   165 non-null    object\n",
            " 1   count   165 non-null    int64 \n",
            " 2   large   165 non-null    int64 \n",
            " 3   unload  165 non-null    int64 \n",
            "dtypes: int64(3), object(1)\n",
            "memory usage: 5.3+ KB\n"
          ]
        }
      ]
    },
    {
      "cell_type": "markdown",
      "metadata": {
        "id": "broLyp7xPzR4"
      },
      "source": [
        "##Data Manipulation"
      ]
    },
    {
      "cell_type": "code",
      "source": [
        "# Converting date columns to datetime objects\n",
        "df2['event'] = pd.to_datetime(df2['event'], format='%Y-%m-%d %H:%M:%S')"
      ],
      "metadata": {
        "id": "RhKDH4h3PzR4"
      },
      "execution_count": 42,
      "outputs": []
    },
    {
      "cell_type": "code",
      "metadata": {
        "id": "9_j0jCO_PzR5"
      },
      "source": [
        "# Extracting year, month, day of the week, hour and date categories\n",
        "df2 = df2.assign(year = df2['event'].dt.year,\n",
        "                 month = df2['event'].dt.month,\n",
        "                 weeknum = df2['event'].dt.isocalendar().week,\n",
        "                 day = df2['event'].dt.day_name(),\n",
        "                 hour = df2['event'].dt.hour,\n",
        "                 date = df2['event'].dt.round('D')) #=> Gets rid of hour-min-sec"
      ],
      "execution_count": 43,
      "outputs": []
    },
    {
      "cell_type": "code",
      "source": [
        "# Extracting cumulative count category\n",
        "df2 = df2.assign(cum_count = df2['count'].cumsum())\n",
        "\n",
        "df2.tail(3)"
      ],
      "metadata": {
        "colab": {
          "base_uri": "https://localhost:8080/",
          "height": 143
        },
        "id": "Ke5f3_EuxkS-",
        "outputId": "0412ced4-de67-4b1b-8ecb-e3938ca1c335"
      },
      "execution_count": 44,
      "outputs": [
        {
          "output_type": "execute_result",
          "data": {
            "text/plain": [
              "                  event  count  large  unload  year  month  weeknum       day  \\\n",
              "162 2022-04-01 10:31:00      1      0       0  2022      4       13    Friday   \n",
              "163 2022-04-01 19:10:00      1      1       0  2022      4       13    Friday   \n",
              "164 2022-04-02 06:40:00      1      1       0  2022      4       13  Saturday   \n",
              "\n",
              "     hour       date  cum_count  \n",
              "162    10 2022-04-01        157  \n",
              "163    19 2022-04-02        158  \n",
              "164     6 2022-04-02        159  "
            ],
            "text/html": [
              "\n",
              "  <div id=\"df-6e56da90-cce8-4028-a49c-a7fd5ababc72\">\n",
              "    <div class=\"colab-df-container\">\n",
              "      <div>\n",
              "<style scoped>\n",
              "    .dataframe tbody tr th:only-of-type {\n",
              "        vertical-align: middle;\n",
              "    }\n",
              "\n",
              "    .dataframe tbody tr th {\n",
              "        vertical-align: top;\n",
              "    }\n",
              "\n",
              "    .dataframe thead th {\n",
              "        text-align: right;\n",
              "    }\n",
              "</style>\n",
              "<table border=\"1\" class=\"dataframe\">\n",
              "  <thead>\n",
              "    <tr style=\"text-align: right;\">\n",
              "      <th></th>\n",
              "      <th>event</th>\n",
              "      <th>count</th>\n",
              "      <th>large</th>\n",
              "      <th>unload</th>\n",
              "      <th>year</th>\n",
              "      <th>month</th>\n",
              "      <th>weeknum</th>\n",
              "      <th>day</th>\n",
              "      <th>hour</th>\n",
              "      <th>date</th>\n",
              "      <th>cum_count</th>\n",
              "    </tr>\n",
              "  </thead>\n",
              "  <tbody>\n",
              "    <tr>\n",
              "      <th>162</th>\n",
              "      <td>2022-04-01 10:31:00</td>\n",
              "      <td>1</td>\n",
              "      <td>0</td>\n",
              "      <td>0</td>\n",
              "      <td>2022</td>\n",
              "      <td>4</td>\n",
              "      <td>13</td>\n",
              "      <td>Friday</td>\n",
              "      <td>10</td>\n",
              "      <td>2022-04-01</td>\n",
              "      <td>157</td>\n",
              "    </tr>\n",
              "    <tr>\n",
              "      <th>163</th>\n",
              "      <td>2022-04-01 19:10:00</td>\n",
              "      <td>1</td>\n",
              "      <td>1</td>\n",
              "      <td>0</td>\n",
              "      <td>2022</td>\n",
              "      <td>4</td>\n",
              "      <td>13</td>\n",
              "      <td>Friday</td>\n",
              "      <td>19</td>\n",
              "      <td>2022-04-02</td>\n",
              "      <td>158</td>\n",
              "    </tr>\n",
              "    <tr>\n",
              "      <th>164</th>\n",
              "      <td>2022-04-02 06:40:00</td>\n",
              "      <td>1</td>\n",
              "      <td>1</td>\n",
              "      <td>0</td>\n",
              "      <td>2022</td>\n",
              "      <td>4</td>\n",
              "      <td>13</td>\n",
              "      <td>Saturday</td>\n",
              "      <td>6</td>\n",
              "      <td>2022-04-02</td>\n",
              "      <td>159</td>\n",
              "    </tr>\n",
              "  </tbody>\n",
              "</table>\n",
              "</div>\n",
              "      <button class=\"colab-df-convert\" onclick=\"convertToInteractive('df-6e56da90-cce8-4028-a49c-a7fd5ababc72')\"\n",
              "              title=\"Convert this dataframe to an interactive table.\"\n",
              "              style=\"display:none;\">\n",
              "        \n",
              "  <svg xmlns=\"http://www.w3.org/2000/svg\" height=\"24px\"viewBox=\"0 0 24 24\"\n",
              "       width=\"24px\">\n",
              "    <path d=\"M0 0h24v24H0V0z\" fill=\"none\"/>\n",
              "    <path d=\"M18.56 5.44l.94 2.06.94-2.06 2.06-.94-2.06-.94-.94-2.06-.94 2.06-2.06.94zm-11 1L8.5 8.5l.94-2.06 2.06-.94-2.06-.94L8.5 2.5l-.94 2.06-2.06.94zm10 10l.94 2.06.94-2.06 2.06-.94-2.06-.94-.94-2.06-.94 2.06-2.06.94z\"/><path d=\"M17.41 7.96l-1.37-1.37c-.4-.4-.92-.59-1.43-.59-.52 0-1.04.2-1.43.59L10.3 9.45l-7.72 7.72c-.78.78-.78 2.05 0 2.83L4 21.41c.39.39.9.59 1.41.59.51 0 1.02-.2 1.41-.59l7.78-7.78 2.81-2.81c.8-.78.8-2.07 0-2.86zM5.41 20L4 18.59l7.72-7.72 1.47 1.35L5.41 20z\"/>\n",
              "  </svg>\n",
              "      </button>\n",
              "      \n",
              "  <style>\n",
              "    .colab-df-container {\n",
              "      display:flex;\n",
              "      flex-wrap:wrap;\n",
              "      gap: 12px;\n",
              "    }\n",
              "\n",
              "    .colab-df-convert {\n",
              "      background-color: #E8F0FE;\n",
              "      border: none;\n",
              "      border-radius: 50%;\n",
              "      cursor: pointer;\n",
              "      display: none;\n",
              "      fill: #1967D2;\n",
              "      height: 32px;\n",
              "      padding: 0 0 0 0;\n",
              "      width: 32px;\n",
              "    }\n",
              "\n",
              "    .colab-df-convert:hover {\n",
              "      background-color: #E2EBFA;\n",
              "      box-shadow: 0px 1px 2px rgba(60, 64, 67, 0.3), 0px 1px 3px 1px rgba(60, 64, 67, 0.15);\n",
              "      fill: #174EA6;\n",
              "    }\n",
              "\n",
              "    [theme=dark] .colab-df-convert {\n",
              "      background-color: #3B4455;\n",
              "      fill: #D2E3FC;\n",
              "    }\n",
              "\n",
              "    [theme=dark] .colab-df-convert:hover {\n",
              "      background-color: #434B5C;\n",
              "      box-shadow: 0px 1px 3px 1px rgba(0, 0, 0, 0.15);\n",
              "      filter: drop-shadow(0px 1px 2px rgba(0, 0, 0, 0.3));\n",
              "      fill: #FFFFFF;\n",
              "    }\n",
              "  </style>\n",
              "\n",
              "      <script>\n",
              "        const buttonEl =\n",
              "          document.querySelector('#df-6e56da90-cce8-4028-a49c-a7fd5ababc72 button.colab-df-convert');\n",
              "        buttonEl.style.display =\n",
              "          google.colab.kernel.accessAllowed ? 'block' : 'none';\n",
              "\n",
              "        async function convertToInteractive(key) {\n",
              "          const element = document.querySelector('#df-6e56da90-cce8-4028-a49c-a7fd5ababc72');\n",
              "          const dataTable =\n",
              "            await google.colab.kernel.invokeFunction('convertToInteractive',\n",
              "                                                     [key], {});\n",
              "          if (!dataTable) return;\n",
              "\n",
              "          const docLinkHtml = 'Like what you see? Visit the ' +\n",
              "            '<a target=\"_blank\" href=https://colab.research.google.com/notebooks/data_table.ipynb>data table notebook</a>'\n",
              "            + ' to learn more about interactive tables.';\n",
              "          element.innerHTML = '';\n",
              "          dataTable['output_type'] = 'display_data';\n",
              "          await google.colab.output.renderOutput(dataTable, element);\n",
              "          const docLink = document.createElement('div');\n",
              "          docLink.innerHTML = docLinkHtml;\n",
              "          element.appendChild(docLink);\n",
              "        }\n",
              "      </script>\n",
              "    </div>\n",
              "  </div>\n",
              "  "
            ]
          },
          "metadata": {},
          "execution_count": 44
        }
      ]
    },
    {
      "cell_type": "markdown",
      "source": [
        "## Facilities EDA "
      ],
      "metadata": {
        "id": "ngA1ZC6aSCy9"
      }
    },
    {
      "cell_type": "code",
      "source": [
        "# EDA using interact\n",
        "col_list = ['month', 'weeknum', 'day', 'hour']\n",
        "@interact(Cat = col_list)\n",
        "def proportion(Cat):\n",
        "  return df2[df2['count']!=0].value_counts(subset=Cat, normalize=True, dropna=False).reset_index(name='proportion')"
      ],
      "metadata": {
        "colab": {
          "base_uri": "https://localhost:8080/",
          "height": 206,
          "referenced_widgets": [
            "a9a64ddb28a645cd9ef7a3a6fc743033",
            "c01604aa7a29473ab91c443a2f390f23",
            "2795a3eb3b144542ab103d4c5d17353e",
            "a2bcdb7d32fb4fc98cbed51d0ec717e3",
            "cd17306b86d8473f8f6d8f9d5dca5a2d",
            "de0d2305ad4741639553bd1b42adc083",
            "8af619614f204714bed9344a21adccb1"
          ]
        },
        "id": "dwVaZj2QSF6m",
        "outputId": "f77d5500-a989-4bd7-a03d-61bb3caae70f"
      },
      "execution_count": 8,
      "outputs": [
        {
          "output_type": "display_data",
          "data": {
            "text/plain": [
              "interactive(children=(Dropdown(description='Cat', options=('month', 'weeknum', 'day', 'hour'), value='month'),…"
            ],
            "application/vnd.jupyter.widget-view+json": {
              "version_major": 2,
              "version_minor": 0,
              "model_id": "a9a64ddb28a645cd9ef7a3a6fc743033"
            }
          },
          "metadata": {}
        }
      ]
    },
    {
      "cell_type": "markdown",
      "source": [
        "## Data Visualization"
      ],
      "metadata": {
        "id": "BSc8iNl5X_2z"
      }
    },
    {
      "cell_type": "code",
      "source": [
        "# Scatterplot of facilitites data\n",
        "sns.scatterplot(x='event', y='cum_count', data=df2[df2['unload']==0])\n",
        "sns.scatterplot(x='event', y='cum_count', data=df2[df2['unload']==1], style='unload', markers='X', s=150, legend=False)\n",
        "plt.title('Cumulative Count of events over time')\n",
        "plt.show()"
      ],
      "metadata": {
        "id": "rzE9prk2U6RT",
        "colab": {
          "base_uri": "https://localhost:8080/",
          "height": 355
        },
        "outputId": "e7e015bc-8a5a-4e27-9cda-b8d353cc2d95"
      },
      "execution_count": 52,
      "outputs": [
        {
          "output_type": "display_data",
          "data": {
            "text/plain": [
              "<Figure size 864x360 with 1 Axes>"
            ],
            "image/png": "[encoded data removed]"
          },
          "metadata": {}
        }
      ]
    },
    {
      "cell_type": "code",
      "source": [
        "# Interactive plot of facilitites data\n",
        "@interact(Cat = col_list)\n",
        "def plot_facilities(Cat):\n",
        "  sns.barplot(x=Cat, y='Count', data=df2.groupby([Cat]).agg(Count = ('count', 'sum')).reset_index(), color='#007fff')\n",
        "  plt.show()"
      ],
      "metadata": {
        "id": "Nx7uOpHeV-I7",
        "colab": {
          "base_uri": "https://localhost:8080/",
          "height": 371,
          "referenced_widgets": [
            "51ac9121623e440fb2388673136f7b5a",
            "ff3f0c2c6fe74c518acdb9b3417d15e5",
            "0da5c581d7c14bacb8ae7c2c802747f7",
            "0d82e51fdfc741b9b054dd3430755ac1",
            "ce612877cb5c4b95a59a0dcb9b1b0d51",
            "e4c2a9bc90c7493691a578a73a8f4deb",
            "90b26b72afe54a9ca1f52c59bb5b35e3"
          ]
        },
        "outputId": "5c87259d-bb31-4b2d-f2f8-aeb70fe39358"
      },
      "execution_count": 24,
      "outputs": [
        {
          "output_type": "display_data",
          "data": {
            "text/plain": [
              "interactive(children=(Dropdown(description='Cat', options=('month', 'weeknum', 'day', 'hour'), value='month'),…"
            ],
            "application/vnd.jupyter.widget-view+json": {
              "version_major": 2,
              "version_minor": 0,
              "model_id": "51ac9121623e440fb2388673136f7b5a"
            }
          },
          "metadata": {}
        }
      ]
    }
  ]
}