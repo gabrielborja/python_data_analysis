{
  "nbformat": 4,
  "nbformat_minor": 0,
  "metadata": {
    "colab": {
      "name": "sustainability_analytics.ipynb",
      "provenance": [],
      "collapsed_sections": [
        "sgzkv1LwjLIL",
        "SfsO1iFXxmEq"
      ],
      "authorship_tag": "ABX9TyMWnudCxCC3nyfMXOerCjRa",
      "include_colab_link": true
    },
    "kernelspec": {
      "name": "python3",
      "display_name": "Python 3"
    },
    "language_info": {
      "name": "python"
    }
  },
  "cells": [
    {
      "cell_type": "markdown",
      "metadata": {
        "id": "view-in-github",
        "colab_type": "text"
      },
      "source": [
        "<a href=\"https://colab.research.google.com/github/gabrielborja/python_data_analysis/blob/main/sustainability_analytics.ipynb\" target=\"_parent\"><img src=\"https://colab.research.google.com/assets/colab-badge.svg\" alt=\"Open In Colab\"/></a>"
      ]
    },
    {
      "cell_type": "markdown",
      "metadata": {
        "id": "eTZwpRZNRhGY"
      },
      "source": [
        "# Global Climate Analysis"
      ]
    },
    {
      "cell_type": "markdown",
      "metadata": {
        "id": "urSYFOWesvzU"
      },
      "source": [
        "Global Climate Change Data from 1750－2015 can be found [here](https://data.world/data-society/global-climate-change-data)"
      ]
    },
    {
      "cell_type": "markdown",
      "metadata": {
        "id": "sgzkv1LwjLIL"
      },
      "source": [
        "## Uploading packages and data"
      ]
    },
    {
      "cell_type": "code",
      "metadata": {
        "id": "QTRtRZcb-IyF"
      },
      "source": [
        "#Importing necessary packages\n",
        "import numpy as np\n",
        "import pandas as pd\n",
        "import matplotlib.pyplot as plt\n",
        "import seaborn as sns\n",
        "import plotly.express as px"
      ],
      "execution_count": 3,
      "outputs": []
    },
    {
      "cell_type": "code",
      "metadata": {
        "id": "aKlBGzwCHrK9"
      },
      "source": [
        "#Pip install plotly --upgrade\n",
        "!pip install plotly --upgrade"
      ],
      "execution_count": null,
      "outputs": []
    },
    {
      "cell_type": "code",
      "metadata": {
        "id": "1Z4jxJjRRPLB"
      },
      "source": [
        "#Remove previous versions of the uploaded file\n",
        "!rm GlobalLandTemperaturesByCountry.csv"
      ],
      "execution_count": null,
      "outputs": []
    },
    {
      "cell_type": "code",
      "metadata": {
        "colab": {
          "resources": {
            "http://localhost:8080/nbextensions/google.colab/files.js": {
              "data": "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",
              "ok": true,
              "headers": [
                [
                  "content-type",
                  "application/javascript"
                ]
              ],
              "status": 200,
              "status_text": ""
            }
          },
          "base_uri": "https://localhost:8080/",
          "height": 72
        },
        "id": "oen97ED1-rh-",
        "outputId": "5488a76c-feef-4990-a280-b6ba6f3bb34a"
      },
      "source": [
        "#Uploading file from local drive\n",
        "from google.colab import files\n",
        "uploaded1 = files.upload()"
      ],
      "execution_count": null,
      "outputs": [
        {
          "output_type": "display_data",
          "data": {
            "text/html": [
              "\n",
              "     <input type=\"file\" id=\"files-f4552cb6-0e5d-4878-a5cd-67ceaa9bdad3\" name=\"files[]\" multiple disabled\n",
              "        style=\"border:none\" />\n",
              "     <output id=\"result-f4552cb6-0e5d-4878-a5cd-67ceaa9bdad3\">\n",
              "      Upload widget is only available when the cell has been executed in the\n",
              "      current browser session. Please rerun this cell to enable.\n",
              "      </output>\n",
              "      <script src=\"/nbextensions/google.colab/files.js\"></script> "
            ],
            "text/plain": [
              "<IPython.core.display.HTML object>"
            ]
          },
          "metadata": {
            "tags": []
          }
        },
        {
          "output_type": "stream",
          "text": [
            "Saving GlobalLandTemperaturesByCountry.csv to GlobalLandTemperaturesByCountry.csv\n"
          ],
          "name": "stdout"
        }
      ]
    },
    {
      "cell_type": "code",
      "metadata": {
        "id": "03VoNwL0-3O6"
      },
      "source": [
        "#Storing dataset in a Pandas Dataframe\n",
        "import io\n",
        "df1_co = pd.read_csv(io.BytesIO(uploaded1['GlobalLandTemperaturesByCountry.csv']))"
      ],
      "execution_count": null,
      "outputs": []
    },
    {
      "cell_type": "code",
      "metadata": {
        "id": "6wPknHC-JSRB",
        "colab": {
          "base_uri": "https://localhost:8080/"
        },
        "outputId": "c4a818b2-60c2-419d-ce46-b554f199cc7f"
      },
      "source": [
        "#Checking the dataframe information\n",
        "df1_co.info()"
      ],
      "execution_count": null,
      "outputs": [
        {
          "output_type": "stream",
          "text": [
            "<class 'pandas.core.frame.DataFrame'>\n",
            "RangeIndex: 577462 entries, 0 to 577461\n",
            "Data columns (total 4 columns):\n",
            " #   Column                         Non-Null Count   Dtype  \n",
            "---  ------                         --------------   -----  \n",
            " 0   dt                             577462 non-null  object \n",
            " 1   AverageTemperature             544811 non-null  float64\n",
            " 2   AverageTemperatureUncertainty  545550 non-null  float64\n",
            " 3   Country                        577462 non-null  object \n",
            "dtypes: float64(2), object(2)\n",
            "memory usage: 17.6+ MB\n"
          ],
          "name": "stdout"
        }
      ]
    },
    {
      "cell_type": "markdown",
      "metadata": {
        "id": "SfsO1iFXxmEq"
      },
      "source": [
        "##Data Cleaning"
      ]
    },
    {
      "cell_type": "code",
      "metadata": {
        "colab": {
          "base_uri": "https://localhost:8080/"
        },
        "id": "PXvtY0WFxjY8",
        "outputId": "51273e31-a80e-4bc1-c64d-0a1ba6af018f"
      },
      "source": [
        "#Checking for missing values the in dataframe\n",
        "df1_co.isna().sum()"
      ],
      "execution_count": null,
      "outputs": [
        {
          "output_type": "execute_result",
          "data": {
            "text/plain": [
              "dt                                   0\n",
              "AverageTemperature               32651\n",
              "AverageTemperatureUncertainty    31912\n",
              "Country                              0\n",
              "dtype: int64"
            ]
          },
          "metadata": {
            "tags": []
          },
          "execution_count": 13
        }
      ]
    },
    {
      "cell_type": "code",
      "metadata": {
        "colab": {
          "base_uri": "https://localhost:8080/"
        },
        "id": "2McO3p_Nx5Wx",
        "outputId": "61517c48-4cf1-45ea-9929-0f030bea9f45"
      },
      "source": [
        "#Removing missing values\n",
        "df1_co.dropna(axis=0, how='any', subset=['AverageTemperature'], inplace=True, )\n",
        "df1_co.isna().sum()"
      ],
      "execution_count": null,
      "outputs": [
        {
          "output_type": "execute_result",
          "data": {
            "text/plain": [
              "dt                               0\n",
              "AverageTemperature               0\n",
              "AverageTemperatureUncertainty    0\n",
              "Country                          0\n",
              "dtype: int64"
            ]
          },
          "metadata": {
            "tags": []
          },
          "execution_count": 14
        }
      ]
    },
    {
      "cell_type": "code",
      "metadata": {
        "colab": {
          "base_uri": "https://localhost:8080/",
          "height": 204
        },
        "id": "sy58JUFMv_N0",
        "outputId": "be363695-1d81-4ac9-9b51-ea613160ce92"
      },
      "source": [
        "#Parsing date column to datetime object and reset index\n",
        "df1_co['dt'] = pd.to_datetime(df1_co['dt'], format='%Y-%m-%d %H:%M:%S', errors='coerce')\n",
        "df1_co.reset_index(drop=True, inplace=True)\n",
        "df1_co.head()"
      ],
      "execution_count": null,
      "outputs": [
        {
          "output_type": "execute_result",
          "data": {
            "text/html": [
              "<div>\n",
              "<style scoped>\n",
              "    .dataframe tbody tr th:only-of-type {\n",
              "        vertical-align: middle;\n",
              "    }\n",
              "\n",
              "    .dataframe tbody tr th {\n",
              "        vertical-align: top;\n",
              "    }\n",
              "\n",
              "    .dataframe thead th {\n",
              "        text-align: right;\n",
              "    }\n",
              "</style>\n",
              "<table border=\"1\" class=\"dataframe\">\n",
              "  <thead>\n",
              "    <tr style=\"text-align: right;\">\n",
              "      <th></th>\n",
              "      <th>dt</th>\n",
              "      <th>AverageTemperature</th>\n",
              "      <th>AverageTemperatureUncertainty</th>\n",
              "      <th>Country</th>\n",
              "    </tr>\n",
              "  </thead>\n",
              "  <tbody>\n",
              "    <tr>\n",
              "      <th>0</th>\n",
              "      <td>1743-11-01</td>\n",
              "      <td>4.384</td>\n",
              "      <td>2.294</td>\n",
              "      <td>Åland</td>\n",
              "    </tr>\n",
              "    <tr>\n",
              "      <th>1</th>\n",
              "      <td>1744-04-01</td>\n",
              "      <td>1.530</td>\n",
              "      <td>4.680</td>\n",
              "      <td>Åland</td>\n",
              "    </tr>\n",
              "    <tr>\n",
              "      <th>2</th>\n",
              "      <td>1744-05-01</td>\n",
              "      <td>6.702</td>\n",
              "      <td>1.789</td>\n",
              "      <td>Åland</td>\n",
              "    </tr>\n",
              "    <tr>\n",
              "      <th>3</th>\n",
              "      <td>1744-06-01</td>\n",
              "      <td>11.609</td>\n",
              "      <td>1.577</td>\n",
              "      <td>Åland</td>\n",
              "    </tr>\n",
              "    <tr>\n",
              "      <th>4</th>\n",
              "      <td>1744-07-01</td>\n",
              "      <td>15.342</td>\n",
              "      <td>1.410</td>\n",
              "      <td>Åland</td>\n",
              "    </tr>\n",
              "  </tbody>\n",
              "</table>\n",
              "</div>"
            ],
            "text/plain": [
              "          dt  AverageTemperature  AverageTemperatureUncertainty Country\n",
              "0 1743-11-01               4.384                          2.294   Åland\n",
              "1 1744-04-01               1.530                          4.680   Åland\n",
              "2 1744-05-01               6.702                          1.789   Åland\n",
              "3 1744-06-01              11.609                          1.577   Åland\n",
              "4 1744-07-01              15.342                          1.410   Åland"
            ]
          },
          "metadata": {
            "tags": []
          },
          "execution_count": 15
        }
      ]
    },
    {
      "cell_type": "code",
      "metadata": {
        "colab": {
          "base_uri": "https://localhost:8080/"
        },
        "id": "RQTqFy3HzqyW",
        "outputId": "3d5423ac-8422-419a-fc52-953f76d3545a"
      },
      "source": [
        "#Checking the number of unique countries\n",
        "df1_co['Country'].nunique()"
      ],
      "execution_count": null,
      "outputs": [
        {
          "output_type": "execute_result",
          "data": {
            "text/plain": [
              "242"
            ]
          },
          "metadata": {
            "tags": []
          },
          "execution_count": 16
        }
      ]
    },
    {
      "cell_type": "code",
      "metadata": {
        "colab": {
          "base_uri": "https://localhost:8080/"
        },
        "id": "k9VYwXK70Bp1",
        "outputId": "2234aea7-31a9-4995-9cd5-62276a6e8f7d"
      },
      "source": [
        "#Checking if there are duplicate values\n",
        "df1_co['Country'].unique()"
      ],
      "execution_count": null,
      "outputs": [
        {
          "output_type": "execute_result",
          "data": {
            "text/plain": [
              "array(['Åland', 'Afghanistan', 'Africa', 'Albania', 'Algeria',\n",
              "       'American Samoa', 'Andorra', 'Angola', 'Anguilla',\n",
              "       'Antigua And Barbuda', 'Argentina', 'Armenia', 'Aruba', 'Asia',\n",
              "       'Australia', 'Austria', 'Azerbaijan', 'Bahamas', 'Bahrain',\n",
              "       'Baker Island', 'Bangladesh', 'Barbados', 'Belarus', 'Belgium',\n",
              "       'Belize', 'Benin', 'Bhutan', 'Bolivia',\n",
              "       'Bonaire, Saint Eustatius And Saba', 'Bosnia And Herzegovina',\n",
              "       'Botswana', 'Brazil', 'British Virgin Islands', 'Bulgaria',\n",
              "       'Burkina Faso', 'Burma', 'Burundi', \"Côte D'Ivoire\", 'Cambodia',\n",
              "       'Cameroon', 'Canada', 'Cape Verde', 'Cayman Islands',\n",
              "       'Central African Republic', 'Chad', 'Chile', 'China',\n",
              "       'Christmas Island', 'Colombia', 'Comoros',\n",
              "       'Congo (Democratic Republic Of The)', 'Congo', 'Costa Rica',\n",
              "       'Croatia', 'Cuba', 'Curaçao', 'Cyprus', 'Czech Republic',\n",
              "       'Denmark (Europe)', 'Denmark', 'Djibouti', 'Dominica',\n",
              "       'Dominican Republic', 'Ecuador', 'Egypt', 'El Salvador',\n",
              "       'Equatorial Guinea', 'Eritrea', 'Estonia', 'Ethiopia', 'Europe',\n",
              "       'Falkland Islands (Islas Malvinas)', 'Faroe Islands',\n",
              "       'Federated States Of Micronesia', 'Fiji', 'Finland',\n",
              "       'France (Europe)', 'France', 'French Guiana', 'French Polynesia',\n",
              "       'French Southern And Antarctic Lands', 'Gabon', 'Gambia',\n",
              "       'Gaza Strip', 'Georgia', 'Germany', 'Ghana', 'Greece', 'Greenland',\n",
              "       'Grenada', 'Guadeloupe', 'Guam', 'Guatemala', 'Guernsey',\n",
              "       'Guinea Bissau', 'Guinea', 'Guyana', 'Haiti',\n",
              "       'Heard Island And Mcdonald Islands', 'Honduras', 'Hong Kong',\n",
              "       'Hungary', 'Iceland', 'India', 'Indonesia', 'Iran', 'Iraq',\n",
              "       'Ireland', 'Isle Of Man', 'Israel', 'Italy', 'Jamaica', 'Japan',\n",
              "       'Jersey', 'Jordan', 'Kazakhstan', 'Kenya', 'Kingman Reef',\n",
              "       'Kiribati', 'Kuwait', 'Kyrgyzstan', 'Laos', 'Latvia', 'Lebanon',\n",
              "       'Lesotho', 'Liberia', 'Libya', 'Liechtenstein', 'Lithuania',\n",
              "       'Luxembourg', 'Macau', 'Macedonia', 'Madagascar', 'Malawi',\n",
              "       'Malaysia', 'Mali', 'Malta', 'Martinique', 'Mauritania',\n",
              "       'Mauritius', 'Mayotte', 'Mexico', 'Moldova', 'Monaco', 'Mongolia',\n",
              "       'Montenegro', 'Montserrat', 'Morocco', 'Mozambique', 'Namibia',\n",
              "       'Nepal', 'Netherlands (Europe)', 'Netherlands', 'New Caledonia',\n",
              "       'New Zealand', 'Nicaragua', 'Niger', 'Nigeria', 'Niue',\n",
              "       'North America', 'North Korea', 'Northern Mariana Islands',\n",
              "       'Norway', 'Oceania', 'Oman', 'Pakistan', 'Palau', 'Palestina',\n",
              "       'Palmyra Atoll', 'Panama', 'Papua New Guinea', 'Paraguay', 'Peru',\n",
              "       'Philippines', 'Poland', 'Portugal', 'Puerto Rico', 'Qatar',\n",
              "       'Reunion', 'Romania', 'Russia', 'Rwanda', 'Saint Barthélemy',\n",
              "       'Saint Kitts And Nevis', 'Saint Lucia', 'Saint Martin',\n",
              "       'Saint Pierre And Miquelon', 'Saint Vincent And The Grenadines',\n",
              "       'Samoa', 'San Marino', 'Sao Tome And Principe', 'Saudi Arabia',\n",
              "       'Senegal', 'Serbia', 'Seychelles', 'Sierra Leone', 'Singapore',\n",
              "       'Sint Maarten', 'Slovakia', 'Slovenia', 'Solomon Islands',\n",
              "       'Somalia', 'South Africa', 'South America',\n",
              "       'South Georgia And The South Sandwich Isla', 'South Korea',\n",
              "       'Spain', 'Sri Lanka', 'Sudan', 'Suriname',\n",
              "       'Svalbard And Jan Mayen', 'Swaziland', 'Sweden', 'Switzerland',\n",
              "       'Syria', 'Taiwan', 'Tajikistan', 'Tanzania', 'Thailand',\n",
              "       'Timor Leste', 'Togo', 'Tonga', 'Trinidad And Tobago', 'Tunisia',\n",
              "       'Turkey', 'Turkmenistan', 'Turks And Caicas Islands', 'Uganda',\n",
              "       'Ukraine', 'United Arab Emirates', 'United Kingdom (Europe)',\n",
              "       'United Kingdom', 'United States', 'Uruguay', 'Uzbekistan',\n",
              "       'Venezuela', 'Vietnam', 'Virgin Islands', 'Western Sahara',\n",
              "       'Yemen', 'Zambia', 'Zimbabwe'], dtype=object)"
            ]
          },
          "metadata": {
            "tags": []
          },
          "execution_count": 18
        }
      ]
    },
    {
      "cell_type": "code",
      "metadata": {
        "id": "qenYgy3H0Z-H"
      },
      "source": [
        "#Replacing duplicated values in Country names\n",
        "countries_dict = {'Congo (Democratic Republic Of The)': 'Congo', 'Denmark (Europe)': 'Denmark', 'France (Europe)': 'France',\n",
        "                  'Netherlands (Europe)': 'Netherlands', 'United Kingdom (Europe)': 'United Kingdom'}\n",
        "\n",
        "df1_co['Country'] = df1_co['Country'].replace(to_replace=countries_dict)"
      ],
      "execution_count": null,
      "outputs": []
    },
    {
      "cell_type": "code",
      "metadata": {
        "colab": {
          "base_uri": "https://localhost:8080/",
          "height": 17
        },
        "id": "OrmNw2-L5DLQ",
        "outputId": "e193ceff-0c0c-424a-a797-b4462c553b3c"
      },
      "source": [
        "#Exporting to excel in local disk\n",
        "from google.colab import files\n",
        "df1_co.to_excel('global_land_temp_by_country.xlsx', index=False) #==> Excluding index from file\n",
        "files.download('global_land_temp_by_country.xlsx')"
      ],
      "execution_count": null,
      "outputs": [
        {
          "output_type": "display_data",
          "data": {
            "application/javascript": [
              "\n",
              "    async function download(id, filename, size) {\n",
              "      if (!google.colab.kernel.accessAllowed) {\n",
              "        return;\n",
              "      }\n",
              "      const div = document.createElement('div');\n",
              "      const label = document.createElement('label');\n",
              "      label.textContent = `Downloading \"${filename}\": `;\n",
              "      div.appendChild(label);\n",
              "      const progress = document.createElement('progress');\n",
              "      progress.max = size;\n",
              "      div.appendChild(progress);\n",
              "      document.body.appendChild(div);\n",
              "\n",
              "      const buffers = [];\n",
              "      let downloaded = 0;\n",
              "\n",
              "      const channel = await google.colab.kernel.comms.open(id);\n",
              "      // Send a message to notify the kernel that we're ready.\n",
              "      channel.send({})\n",
              "\n",
              "      for await (const message of channel.messages) {\n",
              "        // Send a message to notify the kernel that we're ready.\n",
              "        channel.send({})\n",
              "        if (message.buffers) {\n",
              "          for (const buffer of message.buffers) {\n",
              "            buffers.push(buffer);\n",
              "            downloaded += buffer.byteLength;\n",
              "            progress.value = downloaded;\n",
              "          }\n",
              "        }\n",
              "      }\n",
              "      const blob = new Blob(buffers, {type: 'application/binary'});\n",
              "      const a = document.createElement('a');\n",
              "      a.href = window.URL.createObjectURL(blob);\n",
              "      a.download = filename;\n",
              "      div.appendChild(a);\n",
              "      a.click();\n",
              "      div.remove();\n",
              "    }\n",
              "  "
            ],
            "text/plain": [
              "<IPython.core.display.Javascript object>"
            ]
          },
          "metadata": {
            "tags": []
          }
        },
        {
          "output_type": "display_data",
          "data": {
            "application/javascript": [
              "download(\"download_84799c00-3ddd-4930-b7fe-da3ab7d00f59\", \"global_land_temp_by_country.xlsx\", 14082178)"
            ],
            "text/plain": [
              "<IPython.core.display.Javascript object>"
            ]
          },
          "metadata": {
            "tags": []
          }
        }
      ]
    },
    {
      "cell_type": "markdown",
      "metadata": {
        "id": "GR63wIYG6cMC"
      },
      "source": [
        "##Data Manipulation"
      ]
    },
    {
      "cell_type": "code",
      "metadata": {
        "id": "nW8udlvZQXEF"
      },
      "source": [
        "#Remove previous versions of the uploaded file\n",
        "!rm global_temp_by_country.xlsx"
      ],
      "execution_count": null,
      "outputs": []
    },
    {
      "cell_type": "code",
      "metadata": {
        "colab": {
          "resources": {
            "http://localhost:8080/nbextensions/google.colab/files.js": {
              "data": "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",
              "ok": true,
              "headers": [
                [
                  "content-type",
                  "application/javascript"
                ]
              ],
              "status": 200,
              "status_text": ""
            }
          },
          "base_uri": "https://localhost:8080/",
          "height": 72
        },
        "id": "6b8UDhHDQXYn",
        "outputId": "c824a973-9985-4215-a04e-d61a132b141c"
      },
      "source": [
        "#Uploading file from local drive\n",
        "from google.colab import files\n",
        "uploaded1a = files.upload()"
      ],
      "execution_count": 2,
      "outputs": [
        {
          "output_type": "display_data",
          "data": {
            "text/html": [
              "\n",
              "     <input type=\"file\" id=\"files-498358da-e48a-4dfd-b5f7-30750177e37c\" name=\"files[]\" multiple disabled\n",
              "        style=\"border:none\" />\n",
              "     <output id=\"result-498358da-e48a-4dfd-b5f7-30750177e37c\">\n",
              "      Upload widget is only available when the cell has been executed in the\n",
              "      current browser session. Please rerun this cell to enable.\n",
              "      </output>\n",
              "      <script src=\"/nbextensions/google.colab/files.js\"></script> "
            ],
            "text/plain": [
              "<IPython.core.display.HTML object>"
            ]
          },
          "metadata": {
            "tags": []
          }
        },
        {
          "output_type": "stream",
          "text": [
            "Saving global_temp_by_country.xlsx to global_temp_by_country (1).xlsx\n"
          ],
          "name": "stdout"
        }
      ]
    },
    {
      "cell_type": "code",
      "metadata": {
        "id": "K4gXw90DQXYp"
      },
      "source": [
        "#Storing dataset in a Pandas Dataframe\n",
        "import io\n",
        "df1_co = pd.read_excel(io.BytesIO(uploaded1a['global_temp_by_country.xlsx']))"
      ],
      "execution_count": 4,
      "outputs": []
    },
    {
      "cell_type": "code",
      "metadata": {
        "colab": {
          "base_uri": "https://localhost:8080/",
          "height": 111
        },
        "id": "T4RaKCDr64f1",
        "outputId": "6edd4c11-7b77-4547-9cb2-69d7b562fc43"
      },
      "source": [
        "#Extracting year from datetime object and renaming columns\n",
        "df1_co = df1_co.assign(Year = df1_co['dt'].dt.year)\n",
        "df1_co = df1_co.rename(columns={'AverageTemperature': 'Temp', 'AverageTemperatureUncertainty': 'Temp_uncer'})\n",
        "df1_co.tail(2)"
      ],
      "execution_count": 5,
      "outputs": [
        {
          "output_type": "execute_result",
          "data": {
            "text/html": [
              "<div>\n",
              "<style scoped>\n",
              "    .dataframe tbody tr th:only-of-type {\n",
              "        vertical-align: middle;\n",
              "    }\n",
              "\n",
              "    .dataframe tbody tr th {\n",
              "        vertical-align: top;\n",
              "    }\n",
              "\n",
              "    .dataframe thead th {\n",
              "        text-align: right;\n",
              "    }\n",
              "</style>\n",
              "<table border=\"1\" class=\"dataframe\">\n",
              "  <thead>\n",
              "    <tr style=\"text-align: right;\">\n",
              "      <th></th>\n",
              "      <th>dt</th>\n",
              "      <th>Temp</th>\n",
              "      <th>Temp_uncer</th>\n",
              "      <th>Country</th>\n",
              "      <th>Year</th>\n",
              "    </tr>\n",
              "  </thead>\n",
              "  <tbody>\n",
              "    <tr>\n",
              "      <th>544809</th>\n",
              "      <td>2013-07-01</td>\n",
              "      <td>17.000</td>\n",
              "      <td>0.453</td>\n",
              "      <td>Zimbabwe</td>\n",
              "      <td>2013</td>\n",
              "    </tr>\n",
              "    <tr>\n",
              "      <th>544810</th>\n",
              "      <td>2013-08-01</td>\n",
              "      <td>19.759</td>\n",
              "      <td>0.717</td>\n",
              "      <td>Zimbabwe</td>\n",
              "      <td>2013</td>\n",
              "    </tr>\n",
              "  </tbody>\n",
              "</table>\n",
              "</div>"
            ],
            "text/plain": [
              "               dt    Temp  Temp_uncer   Country  Year\n",
              "544809 2013-07-01  17.000       0.453  Zimbabwe  2013\n",
              "544810 2013-08-01  19.759       0.717  Zimbabwe  2013"
            ]
          },
          "metadata": {
            "tags": []
          },
          "execution_count": 5
        }
      ]
    },
    {
      "cell_type": "code",
      "metadata": {
        "colab": {
          "base_uri": "https://localhost:8080/",
          "height": 111
        },
        "id": "aXavfJQE7hzN",
        "outputId": "12906069-2030-466d-fde8-4c63422e2fe4"
      },
      "source": [
        "#Creating a datraframe with average temperatures for each year\n",
        "df1_avgtemp = df1_co.groupby(['Year']).agg(Mean_temp=('Temp','mean')).reset_index()\n",
        "df1_avgtemp.tail(2)"
      ],
      "execution_count": 6,
      "outputs": [
        {
          "output_type": "execute_result",
          "data": {
            "text/html": [
              "<div>\n",
              "<style scoped>\n",
              "    .dataframe tbody tr th:only-of-type {\n",
              "        vertical-align: middle;\n",
              "    }\n",
              "\n",
              "    .dataframe tbody tr th {\n",
              "        vertical-align: top;\n",
              "    }\n",
              "\n",
              "    .dataframe thead th {\n",
              "        text-align: right;\n",
              "    }\n",
              "</style>\n",
              "<table border=\"1\" class=\"dataframe\">\n",
              "  <thead>\n",
              "    <tr style=\"text-align: right;\">\n",
              "      <th></th>\n",
              "      <th>Year</th>\n",
              "      <th>Mean_temp</th>\n",
              "    </tr>\n",
              "  </thead>\n",
              "  <tbody>\n",
              "    <tr>\n",
              "      <th>265</th>\n",
              "      <td>2012</td>\n",
              "      <td>19.468744</td>\n",
              "    </tr>\n",
              "    <tr>\n",
              "      <th>266</th>\n",
              "      <td>2013</td>\n",
              "      <td>19.877007</td>\n",
              "    </tr>\n",
              "  </tbody>\n",
              "</table>\n",
              "</div>"
            ],
            "text/plain": [
              "     Year  Mean_temp\n",
              "265  2012  19.468744\n",
              "266  2013  19.877007"
            ]
          },
          "metadata": {
            "tags": []
          },
          "execution_count": 6
        }
      ]
    },
    {
      "cell_type": "code",
      "metadata": {
        "colab": {
          "base_uri": "https://localhost:8080/",
          "height": 111
        },
        "id": "klXVui4VCP5s",
        "outputId": "7c16e363-f12d-4110-d87d-8bb15156ae51"
      },
      "source": [
        "#Creating a second dataframe with average temperatures by year and country\n",
        "df1_avgcountry = df1_co.groupby(['Year', 'Country']).agg({'Temp': ['mean', 'min', 'max']}).reset_index()\n",
        "df1_avgcountry.columns = ['_'.join(col) if 'Temp' in col[0] else col[0] for col in df1_avgcountry.columns]\n",
        "df1_avgcountry.tail(2)"
      ],
      "execution_count": 7,
      "outputs": [
        {
          "output_type": "execute_result",
          "data": {
            "text/html": [
              "<div>\n",
              "<style scoped>\n",
              "    .dataframe tbody tr th:only-of-type {\n",
              "        vertical-align: middle;\n",
              "    }\n",
              "\n",
              "    .dataframe tbody tr th {\n",
              "        vertical-align: top;\n",
              "    }\n",
              "\n",
              "    .dataframe thead th {\n",
              "        text-align: right;\n",
              "    }\n",
              "</style>\n",
              "<table border=\"1\" class=\"dataframe\">\n",
              "  <thead>\n",
              "    <tr style=\"text-align: right;\">\n",
              "      <th></th>\n",
              "      <th>Year</th>\n",
              "      <th>Country</th>\n",
              "      <th>Temp_mean</th>\n",
              "      <th>Temp_min</th>\n",
              "      <th>Temp_max</th>\n",
              "    </tr>\n",
              "  </thead>\n",
              "  <tbody>\n",
              "    <tr>\n",
              "      <th>44775</th>\n",
              "      <td>2013</td>\n",
              "      <td>Zimbabwe</td>\n",
              "      <td>20.71075</td>\n",
              "      <td>17.000</td>\n",
              "      <td>24.075</td>\n",
              "    </tr>\n",
              "    <tr>\n",
              "      <th>44776</th>\n",
              "      <td>2013</td>\n",
              "      <td>Åland</td>\n",
              "      <td>6.22975</td>\n",
              "      <td>-4.779</td>\n",
              "      <td>16.447</td>\n",
              "    </tr>\n",
              "  </tbody>\n",
              "</table>\n",
              "</div>"
            ],
            "text/plain": [
              "       Year   Country  Temp_mean  Temp_min  Temp_max\n",
              "44775  2013  Zimbabwe   20.71075    17.000    24.075\n",
              "44776  2013     Åland    6.22975    -4.779    16.447"
            ]
          },
          "metadata": {
            "tags": []
          },
          "execution_count": 7
        }
      ]
    },
    {
      "cell_type": "markdown",
      "metadata": {
        "id": "hmvtmMqf8C2q"
      },
      "source": [
        "##Global Data Visualization"
      ]
    },
    {
      "cell_type": "code",
      "metadata": {
        "colab": {
          "base_uri": "https://localhost:8080/",
          "height": 467
        },
        "id": "8A0bzbx_8Epg",
        "outputId": "6bbf57ae-f6db-40fc-c3ff-6527b1bc0a39"
      },
      "source": [
        "#Visualizing Average Temperature from 1750 to 2013\n",
        "fig_1 = px.line(data_frame=df1_avgtemp[6:], x='Year', y='Mean_temp', range_y=(0, 25), title='Average World Temperature °C', width=900, height=450)\n",
        "fig_1.show()"
      ],
      "execution_count": 8,
      "outputs": [
        {
          "output_type": "display_data",
          "data": {
            "text/html": [
              "<html>\n",
              "<head><meta charset=\"utf-8\" /></head>\n",
              "<body>\n",
              "    <div>            <script src=\"https://cdnjs.cloudflare.com/ajax/libs/mathjax/2.7.5/MathJax.js?config=TeX-AMS-MML_SVG\"></script><script type=\"text/javascript\">if (window.MathJax) {MathJax.Hub.Config({SVG: {font: \"STIX-Web\"}});}</script>                <script type=\"text/javascript\">window.PlotlyConfig = {MathJaxConfig: 'local'};</script>\n",
              "        <script src=\"https://cdn.plot.ly/plotly-2.1.0.min.js\"></script>                <div id=\"99b5b59f-0392-4660-97b5-4176df54cf87\" class=\"plotly-graph-div\" style=\"height:450px; width:900px;\"></div>            <script type=\"text/javascript\">                                    window.PLOTLYENV=window.PLOTLYENV || {};                                    if (document.getElementById(\"99b5b59f-0392-4660-97b5-4176df54cf87\")) {                    Plotly.newPlot(                        \"99b5b59f-0392-4660-97b5-4176df54cf87\",                        [{\"hovertemplate\":\"Year=%{x}<br>Mean_temp=%{y}<extra></extra>\",\"legendgroup\":\"\",\"line\":{\"color\":\"#636efa\",\"dash\":\"solid\"},\"mode\":\"lines\",\"name\":\"\",\"orientation\":\"v\",\"showlegend\":false,\"type\":\"scatter\",\"x\":[1753,1754,1755,1756,1757,1758,1759,1760,1761,1762,1763,1764,1765,1766,1767,1768,1769,1770,1771,1772,1773,1774,1775,1776,1777,1778,1779,1780,1781,1782,1783,1784,1785,1786,1787,1788,1789,1790,1791,1792,1793,1794,1795,1796,1797,1798,1799,1800,1801,1802,1803,1804,1805,1806,1807,1808,1809,1810,1811,1812,1813,1814,1815,1816,1817,1818,1819,1820,1821,1822,1823,1824,1825,1826,1827,1828,1829,1830,1831,1832,1833,1834,1835,1836,1837,1838,1839,1840,1841,1842,1843,1844,1845,1846,1847,1848,1849,1850,1851,1852,1853,1854,1855,1856,1857,1858,1859,1860,1861,1862,1863,1864,1865,1866,1867,1868,1869,1870,1871,1872,1873,1874,1875,1876,1877,1878,1879,1880,1881,1882,1883,1884,1885,1886,1887,1888,1889,1890,1891,1892,1893,1894,1895,1896,1897,1898,1899,1900,1901,1902,1903,1904,1905,1906,1907,1908,1909,1910,1911,1912,1913,1914,1915,1916,1917,1918,1919,1920,1921,1922,1923,1924,1925,1926,1927,1928,1929,1930,1931,1932,1933,1934,1935,1936,1937,1938,1939,1940,1941,1942,1943,1944,1945,1946,1947,1948,1949,1950,1951,1952,1953,1954,1955,1956,1957,1958,1959,1960,1961,1962,1963,1964,1965,1966,1967,1968,1969,1970,1971,1972,1973,1974,1975,1976,1977,1978,1979,1980,1981,1982,1983,1984,1985,1986,1987,1988,1989,1990,1991,1992,1993,1994,1995,1996,1997,1998,1999,2000,2001,2002,2003,2004,2005,2006,2007,2008,2009,2010,2011,2012,2013],\"xaxis\":\"x\",\"y\":[8.870820754716974,8.822018957345975,8.530536277602524,9.179886255924178,8.993332283464575,8.130370542635658,9.261257716049373,8.532081761006298,8.940669242658416,8.517924148606802,8.086262422360255,8.84558786936237,8.503952086553312,8.620333333333344,8.208010819165372,7.87581696428572,8.441631964809378,8.60889545454545,8.429763636363635,9.105813271604958,9.080228310502273,8.403788109756087,9.307762589928071,8.210426491994166,8.102558739255016,8.707566568047346,9.231317436661708,8.83174251497006,9.095413742690058,7.793591630591629,8.957380809595199,7.977893939393945,7.753425149700594,7.9631562499999955,10.600193333333333,9.915709141274235,10.551814578005105,10.938674934725855,11.380044554455454,10.512480964466997,9.630539215686278,10.270525730180815,9.371622881355925,10.280041184041169,10.550860313315937,10.791231578947377,9.863822164948452,10.804132051282046,11.027885416666663,10.97987532467532,10.936170370370363,11.715498203592809,9.699310299869628,10.809632812499993,10.411802371541508,8.955127688172045,9.432465601965596,9.389049751243776,10.157996389891688,8.402495412844027,9.956951807228922,9.360688282138796,9.678449943757023,9.508635179153082,10.228215885947058,10.57887473903966,11.002840637450197,10.455146744412053,11.076848256361922,11.37343282149712,10.522018099547513,14.40054254545455,15.753609217171677,14.497344460227259,14.845123955431736,14.639854456824526,13.561706676136367,11.284793439716323,11.146712897526506,10.553762152777782,11.032854166666665,11.491121464226284,11.384895931142418,11.203054794520568,11.156521115537839,11.28693778801844,12.245916972814072,12.499997218358839,12.842211643835615,12.758690393918465,13.527123610202755,12.568981632653053,14.269233015494647,15.67108877434134,14.94683160919539,15.141178935447355,16.12555092592592,16.86025909090909,16.761128254580537,15.831357406431227,16.030668002002997,16.12428827930177,16.1386325940212,16.885113224237088,16.744694468452902,17.081381213142386,17.686984337349426,17.111546093427044,17.19958470394739,16.01358692562765,16.426328928739977,16.72861437074829,16.57746657445829,16.364951310861446,16.447765790686947,16.93685211581293,17.021075999999983,16.60671460373997,16.143479502533378,16.698265183124743,17.251984965635785,17.34341467436112,17.3747014525994,17.75928045112786,18.00654232804231,18.34222473604831,17.369740291262147,17.73536977007164,17.736361367127515,17.813810790273568,17.987624862486275,17.773038162282262,17.67691933028921,17.93525657894738,17.814221815519787,17.717159909909892,18.138997806215706,18.06020877944328,18.192107344632788,18.215350988700568,18.13537994350282,18.24569233486397,18.250661996497342,18.34111204481791,18.477700773558382,18.376058409570685,18.442158691062616,18.514535638673294,18.491193173821262,18.32801123201121,18.434770833333324,18.21107500000002,18.39950868055553,18.48141909722221,18.13715611961056,18.29103094575801,18.344127777777768,18.380081250000032,18.40820243055552,18.464740972222213,18.491489583333337,18.660602430555578,18.71123993055556,18.551877430555557,18.242554166666665,18.393740277777788,18.531861458333342,18.532302155771937,18.605046891281734,18.50415312500003,18.56541944444442,18.621859027777813,18.588913194444455,18.867932291666705,18.739181944444464,18.73845902777777,18.48581944444443,18.842510941299054,18.755399999999973,18.746082638888822,18.558323958333343,18.818823611111075,18.72231076388888,18.81061944444444,18.957946875000005,18.87344513888888,18.811529166666713,18.70296423611117,18.881445486111073,18.762610763888883,18.81704340277778,18.857434722222248,18.806567361111096,18.92441423611103,19.04098784722219,18.784034482758614,18.74807034482758,18.599716747070964,18.775119146005498,18.80569146005511,18.855640495867714,18.58032128099172,18.657285468319603,18.2875871212121,18.759615013774123,18.942173209366345,18.825205922865013,18.88701308539947,18.92356542699726,18.693847451790656,18.67524793388433,18.581274793388417,18.517540633608817,18.86628753443526,18.6341869834711,18.605818870523393,18.771525826446307,18.794121212121205,18.588206611570275,18.66561157024792,18.873293388429726,18.631447314049606,18.746661845730003,18.482196625344383,18.922260674931135,18.729517217630804,18.909544077134935,18.853321280991768,18.91613636363632,18.852168732782424,19.094044077134942,18.76496074380166,18.69913085399453,18.801151859504106,19.051044765840228,19.111678719008278,19.056766873278228,19.31768629476587,19.011359848484865,18.97200723140493,18.93079958677688,19.25170179063358,19.267069559228617,18.958374655647372,19.25035089531684,19.59678305785124,19.392099517906342,19.349202134986246,19.42530337465562,19.565523415978,19.525086776859506,19.422091942148768,19.499590220385684,19.539134986225847,19.610394283746512,19.423961776859503,19.546385330578506,19.629806129476624,19.456040289256187,19.468744146005506,19.877007153806844],\"yaxis\":\"y\"}],                        {\"height\":450,\"legend\":{\"tracegroupgap\":0},\"template\":{\"data\":{\"bar\":[{\"error_x\":{\"color\":\"#2a3f5f\"},\"error_y\":{\"color\":\"#2a3f5f\"},\"marker\":{\"line\":{\"color\":\"#E5ECF6\",\"width\":0.5},\"pattern\":{\"fillmode\":\"overlay\",\"size\":10,\"solidity\":0.2}},\"type\":\"bar\"}],\"barpolar\":[{\"marker\":{\"line\":{\"color\":\"#E5ECF6\",\"width\":0.5},\"pattern\":{\"fillmode\":\"overlay\",\"size\":10,\"solidity\":0.2}},\"type\":\"barpolar\"}],\"carpet\":[{\"aaxis\":{\"endlinecolor\":\"#2a3f5f\",\"gridcolor\":\"white\",\"linecolor\":\"white\",\"minorgridcolor\":\"white\",\"startlinecolor\":\"#2a3f5f\"},\"baxis\":{\"endlinecolor\":\"#2a3f5f\",\"gridcolor\":\"white\",\"linecolor\":\"white\",\"minorgridcolor\":\"white\",\"startlinecolor\":\"#2a3f5f\"},\"type\":\"carpet\"}],\"choropleth\":[{\"colorbar\":{\"outlinewidth\":0,\"ticks\":\"\"},\"type\":\"choropleth\"}],\"contour\":[{\"colorbar\":{\"outlinewidth\":0,\"ticks\":\"\"},\"colorscale\":[[0.0,\"#0d0887\"],[0.1111111111111111,\"#46039f\"],[0.2222222222222222,\"#7201a8\"],[0.3333333333333333,\"#9c179e\"],[0.4444444444444444,\"#bd3786\"],[0.5555555555555556,\"#d8576b\"],[0.6666666666666666,\"#ed7953\"],[0.7777777777777778,\"#fb9f3a\"],[0.8888888888888888,\"#fdca26\"],[1.0,\"#f0f921\"]],\"type\":\"contour\"}],\"contourcarpet\":[{\"colorbar\":{\"outlinewidth\":0,\"ticks\":\"\"},\"type\":\"contourcarpet\"}],\"heatmap\":[{\"colorbar\":{\"outlinewidth\":0,\"ticks\":\"\"},\"colorscale\":[[0.0,\"#0d0887\"],[0.1111111111111111,\"#46039f\"],[0.2222222222222222,\"#7201a8\"],[0.3333333333333333,\"#9c179e\"],[0.4444444444444444,\"#bd3786\"],[0.5555555555555556,\"#d8576b\"],[0.6666666666666666,\"#ed7953\"],[0.7777777777777778,\"#fb9f3a\"],[0.8888888888888888,\"#fdca26\"],[1.0,\"#f0f921\"]],\"type\":\"heatmap\"}],\"heatmapgl\":[{\"colorbar\":{\"outlinewidth\":0,\"ticks\":\"\"},\"colorscale\":[[0.0,\"#0d0887\"],[0.1111111111111111,\"#46039f\"],[0.2222222222222222,\"#7201a8\"],[0.3333333333333333,\"#9c179e\"],[0.4444444444444444,\"#bd3786\"],[0.5555555555555556,\"#d8576b\"],[0.6666666666666666,\"#ed7953\"],[0.7777777777777778,\"#fb9f3a\"],[0.8888888888888888,\"#fdca26\"],[1.0,\"#f0f921\"]],\"type\":\"heatmapgl\"}],\"histogram\":[{\"marker\":{\"pattern\":{\"fillmode\":\"overlay\",\"size\":10,\"solidity\":0.2}},\"type\":\"histogram\"}],\"histogram2d\":[{\"colorbar\":{\"outlinewidth\":0,\"ticks\":\"\"},\"colorscale\":[[0.0,\"#0d0887\"],[0.1111111111111111,\"#46039f\"],[0.2222222222222222,\"#7201a8\"],[0.3333333333333333,\"#9c179e\"],[0.4444444444444444,\"#bd3786\"],[0.5555555555555556,\"#d8576b\"],[0.6666666666666666,\"#ed7953\"],[0.7777777777777778,\"#fb9f3a\"],[0.8888888888888888,\"#fdca26\"],[1.0,\"#f0f921\"]],\"type\":\"histogram2d\"}],\"histogram2dcontour\":[{\"colorbar\":{\"outlinewidth\":0,\"ticks\":\"\"},\"colorscale\":[[0.0,\"#0d0887\"],[0.1111111111111111,\"#46039f\"],[0.2222222222222222,\"#7201a8\"],[0.3333333333333333,\"#9c179e\"],[0.4444444444444444,\"#bd3786\"],[0.5555555555555556,\"#d8576b\"],[0.6666666666666666,\"#ed7953\"],[0.7777777777777778,\"#fb9f3a\"],[0.8888888888888888,\"#fdca26\"],[1.0,\"#f0f921\"]],\"type\":\"histogram2dcontour\"}],\"mesh3d\":[{\"colorbar\":{\"outlinewidth\":0,\"ticks\":\"\"},\"type\":\"mesh3d\"}],\"parcoords\":[{\"line\":{\"colorbar\":{\"outlinewidth\":0,\"ticks\":\"\"}},\"type\":\"parcoords\"}],\"pie\":[{\"automargin\":true,\"type\":\"pie\"}],\"scatter\":[{\"marker\":{\"colorbar\":{\"outlinewidth\":0,\"ticks\":\"\"}},\"type\":\"scatter\"}],\"scatter3d\":[{\"line\":{\"colorbar\":{\"outlinewidth\":0,\"ticks\":\"\"}},\"marker\":{\"colorbar\":{\"outlinewidth\":0,\"ticks\":\"\"}},\"type\":\"scatter3d\"}],\"scattercarpet\":[{\"marker\":{\"colorbar\":{\"outlinewidth\":0,\"ticks\":\"\"}},\"type\":\"scattercarpet\"}],\"scattergeo\":[{\"marker\":{\"colorbar\":{\"outlinewidth\":0,\"ticks\":\"\"}},\"type\":\"scattergeo\"}],\"scattergl\":[{\"marker\":{\"colorbar\":{\"outlinewidth\":0,\"ticks\":\"\"}},\"type\":\"scattergl\"}],\"scattermapbox\":[{\"marker\":{\"colorbar\":{\"outlinewidth\":0,\"ticks\":\"\"}},\"type\":\"scattermapbox\"}],\"scatterpolar\":[{\"marker\":{\"colorbar\":{\"outlinewidth\":0,\"ticks\":\"\"}},\"type\":\"scatterpolar\"}],\"scatterpolargl\":[{\"marker\":{\"colorbar\":{\"outlinewidth\":0,\"ticks\":\"\"}},\"type\":\"scatterpolargl\"}],\"scatterternary\":[{\"marker\":{\"colorbar\":{\"outlinewidth\":0,\"ticks\":\"\"}},\"type\":\"scatterternary\"}],\"surface\":[{\"colorbar\":{\"outlinewidth\":0,\"ticks\":\"\"},\"colorscale\":[[0.0,\"#0d0887\"],[0.1111111111111111,\"#46039f\"],[0.2222222222222222,\"#7201a8\"],[0.3333333333333333,\"#9c179e\"],[0.4444444444444444,\"#bd3786\"],[0.5555555555555556,\"#d8576b\"],[0.6666666666666666,\"#ed7953\"],[0.7777777777777778,\"#fb9f3a\"],[0.8888888888888888,\"#fdca26\"],[1.0,\"#f0f921\"]],\"type\":\"surface\"}],\"table\":[{\"cells\":{\"fill\":{\"color\":\"#EBF0F8\"},\"line\":{\"color\":\"white\"}},\"header\":{\"fill\":{\"color\":\"#C8D4E3\"},\"line\":{\"color\":\"white\"}},\"type\":\"table\"}]},\"layout\":{\"annotationdefaults\":{\"arrowcolor\":\"#2a3f5f\",\"arrowhead\":0,\"arrowwidth\":1},\"autotypenumbers\":\"strict\",\"coloraxis\":{\"colorbar\":{\"outlinewidth\":0,\"ticks\":\"\"}},\"colorscale\":{\"diverging\":[[0,\"#8e0152\"],[0.1,\"#c51b7d\"],[0.2,\"#de77ae\"],[0.3,\"#f1b6da\"],[0.4,\"#fde0ef\"],[0.5,\"#f7f7f7\"],[0.6,\"#e6f5d0\"],[0.7,\"#b8e186\"],[0.8,\"#7fbc41\"],[0.9,\"#4d9221\"],[1,\"#276419\"]],\"sequential\":[[0.0,\"#0d0887\"],[0.1111111111111111,\"#46039f\"],[0.2222222222222222,\"#7201a8\"],[0.3333333333333333,\"#9c179e\"],[0.4444444444444444,\"#bd3786\"],[0.5555555555555556,\"#d8576b\"],[0.6666666666666666,\"#ed7953\"],[0.7777777777777778,\"#fb9f3a\"],[0.8888888888888888,\"#fdca26\"],[1.0,\"#f0f921\"]],\"sequentialminus\":[[0.0,\"#0d0887\"],[0.1111111111111111,\"#46039f\"],[0.2222222222222222,\"#7201a8\"],[0.3333333333333333,\"#9c179e\"],[0.4444444444444444,\"#bd3786\"],[0.5555555555555556,\"#d8576b\"],[0.6666666666666666,\"#ed7953\"],[0.7777777777777778,\"#fb9f3a\"],[0.8888888888888888,\"#fdca26\"],[1.0,\"#f0f921\"]]},\"colorway\":[\"#636efa\",\"#EF553B\",\"#00cc96\",\"#ab63fa\",\"#FFA15A\",\"#19d3f3\",\"#FF6692\",\"#B6E880\",\"#FF97FF\",\"#FECB52\"],\"font\":{\"color\":\"#2a3f5f\"},\"geo\":{\"bgcolor\":\"white\",\"lakecolor\":\"white\",\"landcolor\":\"#E5ECF6\",\"showlakes\":true,\"showland\":true,\"subunitcolor\":\"white\"},\"hoverlabel\":{\"align\":\"left\"},\"hovermode\":\"closest\",\"mapbox\":{\"style\":\"light\"},\"paper_bgcolor\":\"white\",\"plot_bgcolor\":\"#E5ECF6\",\"polar\":{\"angularaxis\":{\"gridcolor\":\"white\",\"linecolor\":\"white\",\"ticks\":\"\"},\"bgcolor\":\"#E5ECF6\",\"radialaxis\":{\"gridcolor\":\"white\",\"linecolor\":\"white\",\"ticks\":\"\"}},\"scene\":{\"xaxis\":{\"backgroundcolor\":\"#E5ECF6\",\"gridcolor\":\"white\",\"gridwidth\":2,\"linecolor\":\"white\",\"showbackground\":true,\"ticks\":\"\",\"zerolinecolor\":\"white\"},\"yaxis\":{\"backgroundcolor\":\"#E5ECF6\",\"gridcolor\":\"white\",\"gridwidth\":2,\"linecolor\":\"white\",\"showbackground\":true,\"ticks\":\"\",\"zerolinecolor\":\"white\"},\"zaxis\":{\"backgroundcolor\":\"#E5ECF6\",\"gridcolor\":\"white\",\"gridwidth\":2,\"linecolor\":\"white\",\"showbackground\":true,\"ticks\":\"\",\"zerolinecolor\":\"white\"}},\"shapedefaults\":{\"line\":{\"color\":\"#2a3f5f\"}},\"ternary\":{\"aaxis\":{\"gridcolor\":\"white\",\"linecolor\":\"white\",\"ticks\":\"\"},\"baxis\":{\"gridcolor\":\"white\",\"linecolor\":\"white\",\"ticks\":\"\"},\"bgcolor\":\"#E5ECF6\",\"caxis\":{\"gridcolor\":\"white\",\"linecolor\":\"white\",\"ticks\":\"\"}},\"title\":{\"x\":0.05},\"xaxis\":{\"automargin\":true,\"gridcolor\":\"white\",\"linecolor\":\"white\",\"ticks\":\"\",\"title\":{\"standoff\":15},\"zerolinecolor\":\"white\",\"zerolinewidth\":2},\"yaxis\":{\"automargin\":true,\"gridcolor\":\"white\",\"linecolor\":\"white\",\"ticks\":\"\",\"title\":{\"standoff\":15},\"zerolinecolor\":\"white\",\"zerolinewidth\":2}}},\"title\":{\"text\":\"Average World Temperature \\u00b0C\"},\"width\":900,\"xaxis\":{\"anchor\":\"y\",\"domain\":[0.0,1.0],\"title\":{\"text\":\"Year\"}},\"yaxis\":{\"anchor\":\"x\",\"domain\":[0.0,1.0],\"range\":[0,25],\"title\":{\"text\":\"Mean_temp\"}}},                        {\"responsive\": true}                    ).then(function(){\n",
              "                            \n",
              "var gd = document.getElementById('99b5b59f-0392-4660-97b5-4176df54cf87');\n",
              "var x = new MutationObserver(function (mutations, observer) {{\n",
              "        var display = window.getComputedStyle(gd).display;\n",
              "        if (!display || display === 'none') {{\n",
              "            console.log([gd, 'removed!']);\n",
              "            Plotly.purge(gd);\n",
              "            observer.disconnect();\n",
              "        }}\n",
              "}});\n",
              "\n",
              "// Listen for the removal of the full notebook cells\n",
              "var notebookContainer = gd.closest('#notebook-container');\n",
              "if (notebookContainer) {{\n",
              "    x.observe(notebookContainer, {childList: true});\n",
              "}}\n",
              "\n",
              "// Listen for the clearing of the current output cell\n",
              "var outputEl = gd.closest('.output');\n",
              "if (outputEl) {{\n",
              "    x.observe(outputEl, {childList: true});\n",
              "}}\n",
              "\n",
              "                        })                };                            </script>        </div>\n",
              "</body>\n",
              "</html>"
            ]
          },
          "metadata": {
            "tags": []
          }
        }
      ]
    },
    {
      "cell_type": "code",
      "metadata": {
        "colab": {
          "base_uri": "https://localhost:8080/",
          "height": 467
        },
        "id": "euHMl5jVIz3x",
        "outputId": "fcd6ba4d-017c-43b1-e46d-e29b3f1af93e"
      },
      "source": [
        "#Visualizing average temperatures for top economies\n",
        "countries_list = ['Australia', 'Brazil', 'Canada', 'China', 'Japan', 'Switzerland', 'Unites States', 'United Kingdom']\n",
        "fig_2 = px.line(data_frame=df1_avgcountry[df1_avgcountry['Country'].isin(countries_list)][190:], x='Year', y='Temp_mean',\n",
        "                color='Country', title=f'Average Temperature °C in Top Economies', width=900, height=450)\n",
        "fig_2.show()"
      ],
      "execution_count": 17,
      "outputs": [
        {
          "output_type": "display_data",
          "data": {
            "text/html": [
              "<html>\n",
              "<head><meta charset=\"utf-8\" /></head>\n",
              "<body>\n",
              "    <div>            <script src=\"https://cdnjs.cloudflare.com/ajax/libs/mathjax/2.7.5/MathJax.js?config=TeX-AMS-MML_SVG\"></script><script type=\"text/javascript\">if (window.MathJax) {MathJax.Hub.Config({SVG: {font: \"STIX-Web\"}});}</script>                <script type=\"text/javascript\">window.PlotlyConfig = {MathJaxConfig: 'local'};</script>\n",
              "        <script src=\"https://cdn.plot.ly/plotly-2.1.0.min.js\"></script>                <div id=\"47bc1153-af34-4826-bc62-111ef514e56c\" class=\"plotly-graph-div\" style=\"height:450px; width:900px;\"></div>            <script type=\"text/javascript\">                                    window.PLOTLYENV=window.PLOTLYENV || {};                                    if (document.getElementById(\"47bc1153-af34-4826-bc62-111ef514e56c\")) {                    Plotly.newPlot(                        \"47bc1153-af34-4826-bc62-111ef514e56c\",                        [{\"hovertemplate\":\"Country=Canada<br>Year=%{x}<br>Temp_mean=%{y}<extra></extra>\",\"legendgroup\":\"Canada\",\"line\":{\"color\":\"#636efa\",\"dash\":\"solid\"},\"mode\":\"lines\",\"name\":\"Canada\",\"showlegend\":true,\"type\":\"scattergl\",\"x\":[1826,1827,1828,1829,1830,1831,1832,1833,1834,1835,1836,1837,1838,1839,1840,1841,1842,1843,1844,1845,1846,1847,1848,1849,1850,1851,1852,1853,1854,1855,1856,1857,1858,1859,1860,1861,1862,1863,1864,1865,1866,1867,1868,1869,1870,1871,1872,1873,1874,1875,1876,1877,1878,1879,1880,1881,1882,1883,1884,1885,1886,1887,1888,1889,1890,1891,1892,1893,1894,1895,1896,1897,1898,1899,1900,1901,1902,1903,1904,1905,1906,1907,1908,1909,1910,1911,1912,1913,1914,1915,1916,1917,1918,1919,1920,1921,1922,1923,1924,1925,1926,1927,1928,1929,1930,1931,1932,1933,1934,1935,1936,1937,1938,1939,1940,1941,1942,1943,1944,1945,1946,1947,1948,1949,1950,1951,1952,1953,1954,1955,1956,1957,1958,1959,1960,1961,1962,1963,1964,1965,1966,1967,1968,1969,1970,1971,1972,1973,1974,1975,1976,1977,1978,1979,1980,1981,1982,1983,1984,1985,1986,1987,1988,1989,1990,1991,1992,1993,1994,1995,1996,1997,1998,1999,2000,2001,2002,2003,2004,2005,2006,2007,2008,2009,2010,2011,2012,2013],\"xaxis\":\"x\",\"y\":[-5.165500000000001,-4.6457500000000005,-5.0968333333333335,-5.794416666666667,-4.868833333333334,-5.775000000000001,-5.927833333333332,-5.248333333333332,-5.507416666666668,-6.423333333333333,-6.068083333333331,-6.02775,-6.232250000000001,-5.261916666666667,-5.652416666666667,-5.715000000000001,-5.408916666666666,-6.10775,-6.2556666666666665,-5.8905,-4.548083333333333,-5.724666666666667,-5.93175,-6.06958333333333,-5.536249999999999,-5.337916666666669,-5.358,-5.590916666666668,-5.545749999999999,-5.778083333333332,-5.46375,-5.6265833333333335,-5.746249999999999,-5.905750000000001,-5.5,-5.791416666666667,-6.415499999999999,-5.663166666666666,-5.450916666666667,-5.56775,-5.967916666666667,-5.722999999999999,-5.805,-5.267499999999999,-4.953666666666666,-5.559916666666667,-5.350583333333334,-5.609250000000002,-5.3870000000000005,-6.742,-5.982583333333334,-4.232083333333333,-3.5845000000000002,-5.9084166666666675,-6.257416666666668,-5.477416666666666,-5.717416666666666,-6.405249999999999,-6.6605,-5.717000000000001,-6.162000000000002,-6.8946666666666685,-6.014500000000001,-4.999416666666666,-6.45475,-5.629666666666665,-5.338083333333333,-6.273083333333333,-5.8012500000000005,-5.452583333333333,-6.017416666666667,-5.9479999999999995,-5.447333333333333,-6.138499999999998,-5.01875,-5.05225,-5.170916666666667,-5.302583333333334,-5.905083333333334,-5.106416666666668,-5.049416666666667,-6.563083333333334,-5.241416666666667,-5.907833333333332,-5.078416666666667,-5.536833333333333,-5.233083333333333,-5.7746666666666675,-5.778166666666668,-4.173166666666667,-5.470166666666667,-6.369583333333335,-5.95075,-5.369583333333334,-4.910583333333334,-4.750416666666666,-5.726,-5.2769166666666685,-4.860166666666668,-5.264166666666666,-4.975083333333333,-5.359583333333334,-4.286416666666668,-5.461583333333333,-4.3615,-3.648916666666666,-5.172499999999999,-6.116166666666665,-5.207166666666666,-5.557250000000001,-5.971916666666668,-4.545833333333333,-4.025333333333332,-4.918166666666667,-3.9787500000000002,-4.4173333333333344,-4.302833333333333,-4.576083333333332,-3.850333333333334,-5.003666666666667,-5.049333333333332,-4.402916666666666,-4.888000000000001,-4.9485833333333344,-5.952916666666668,-5.393166666666667,-3.984666666666666,-3.9576666666666678,-4.726166666666667,-4.944999999999999,-5.61775,-5.007916666666667,-4.262250000000001,-5.228000000000001,-4.406833333333334,-5.068166666666667,-4.873833333333334,-4.612083333333335,-5.456999999999998,-5.516666666666668,-5.141333333333333,-5.282083333333334,-4.64575,-4.502333333333334,-5.1031666666666675,-4.869583333333335,-6.802916666666667,-4.1795,-5.6410833333333334,-4.945666666666667,-4.790416666666666,-3.84075,-5.300499999999999,-5.00575,-4.416916666666666,-2.86725,-5.875166666666666,-4.75175,-4.634249999999999,-4.901166666666666,-4.843916666666668,-3.3433333333333337,-4.125166666666666,-5.073333333333334,-5.021916666666667,-4.426666666666667,-4.928916666666666,-4.4014999999999995,-4.433666666666667,-4.314333333333334,-4.941166666666667,-4.2315,-2.553916666666666,-3.1863333333333324,-4.025916666666666,-3.1000833333333326,-4.362833333333334,-3.8594999999999993,-4.9230833333333335,-3.30875,-2.4601666666666664,-4.060916666666667,-4.29525,-4.135083333333335,-1.8879166666666662,-3.557083333333333,-3.176833333333334,-1.6406666666666676],\"yaxis\":\"y\"},{\"hovertemplate\":\"Country=Switzerland<br>Year=%{x}<br>Temp_mean=%{y}<extra></extra>\",\"legendgroup\":\"Switzerland\",\"line\":{\"color\":\"#EF553B\",\"dash\":\"solid\"},\"mode\":\"lines\",\"name\":\"Switzerland\",\"showlegend\":true,\"type\":\"scattergl\",\"x\":[1826,1827,1828,1829,1830,1831,1832,1833,1834,1835,1836,1837,1838,1839,1840,1841,1842,1843,1844,1845,1846,1847,1848,1849,1850,1851,1852,1853,1854,1855,1856,1857,1858,1859,1860,1861,1862,1863,1864,1865,1866,1867,1868,1869,1870,1871,1872,1873,1874,1875,1876,1877,1878,1879,1880,1881,1882,1883,1884,1885,1886,1887,1888,1889,1890,1891,1892,1893,1894,1895,1896,1897,1898,1899,1900,1901,1902,1903,1904,1905,1906,1907,1908,1909,1910,1911,1912,1913,1914,1915,1916,1917,1918,1919,1920,1921,1922,1923,1924,1925,1926,1927,1928,1929,1930,1931,1932,1933,1934,1935,1936,1937,1938,1939,1940,1941,1942,1943,1944,1945,1946,1947,1948,1949,1950,1951,1952,1953,1954,1955,1956,1957,1958,1959,1960,1961,1962,1963,1964,1965,1966,1967,1968,1969,1970,1971,1972,1973,1974,1975,1976,1977,1978,1979,1980,1981,1982,1983,1984,1985,1986,1987,1988,1989,1990,1991,1992,1993,1994,1995,1996,1997,1998,1999,2000,2001,2002,2003,2004,2005,2006,2007,2008,2009,2010,2011,2012,2013],\"xaxis\":\"x\",\"y\":[7.064333333333333,6.866583333333334,7.550000000000002,5.416666666666667,6.393250000000001,7.136583333333334,6.670833333333333,6.9395,7.973333333333334,6.419499999999999,6.590416666666667,6.056,5.853333333333333,7.06975,6.205666666666667,7.186583333333332,6.382499999999999,6.731166666666666,6.458083333333332,6.146666666666667,7.706666666666667,6.323249999999999,6.786083333333333,6.856583333333334,6.151583333333334,6.036166666666666,7.231999999999999,5.9715,6.532333333333334,5.850083333333334,6.679583333333333,6.825833333333333,6.028416666666668,7.3445,5.680000000000001,6.956666666666666,7.57125,7.534833333333332,5.876083333333334,7.202083333333334,7.370416666666666,6.874500000000001,7.696999999999999,6.880333333333334,6.21725,5.941249999999999,7.52925,7.213000000000001,6.6245,6.578,6.942416666666666,7.0619999999999985,6.578166666666668,5.895416666666666,7.150749999999999,6.663499999999999,6.922083333333333,6.422999999999999,6.969500000000001,6.718250000000001,6.822666666666667,5.689416666666667,5.924416666666666,5.98825,5.972333333333332,6.0559166666666675,6.755333333333334,7.011916666666667,6.8999999999999995,6.361999999999999,6.156583333333333,7.11625,7.448166666666666,7.25425,7.3051666666666675,6.294249999999999,6.640666666666665,6.830666666666667,7.412916666666668,6.585166666666666,6.90975,6.8183333333333325,6.457166666666667,6.179166666666667,6.725333333333334,7.539999999999999,6.47825,7.005,6.7395,6.633500000000001,7.021166666666667,6.1697500000000005,6.954999999999999,6.350583333333333,7.575583333333333,7.849833333333333,6.433166666666666,7.267416666666668,6.6570833333333335,6.784416666666668,7.456666666666666,7.243583333333333,7.549083333333333,6.653833333333335,7.502666666666666,6.395416666666667,6.840583333333334,6.501416666666667,7.794333333333334,6.947666666666667,7.189083333333333,7.3901666666666666,7.144333333333333,6.779333333333334,5.984333333333332,6.1717499999999985,6.802499999999999,7.9195833333333345,6.7363333333333335,7.666250000000001,7.356000000000001,7.931750000000002,7.766166666666666,7.9958333333333345,7.730916666666668,7.400333333333333,7.1410833333333334,7.551583333333334,6.662916666666665,6.962333333333333,5.968583333333334,7.360583333333335,7.329583333333332,7.919499999999999,7.213250000000001,8.158,6.487416666666668,6.317083333333335,7.392,6.465583333333334,7.438666666666667,7.483416666666667,7.061916666666666,6.777583333333335,6.820666666666667,7.264166666666668,6.903416666666666,6.961416666666666,7.470083333333334,7.447250000000003,7.3615,7.376750000000001,6.602666666666669,7.087416666666667,6.538416666666667,7.128916666666666,7.798583333333334,7.794833333333334,6.82275,6.881583333333336,7.152083333333333,7.137083333333334,7.924583333333332,8.135916666666668,8.255583333333334,7.405000000000001,8.059666666666667,7.617333333333335,8.821083333333332,7.751916666666666,6.974583333333334,8.212416666666668,7.958000000000001,7.902833333333334,8.562666666666667,7.97975,8.484833333333334,8.669749999999999,7.846083333333333,7.573916666666668,8.337750000000002,8.552750000000001,8.109666666666667,8.300666666666666,7.2265000000000015,8.847333333333333,8.159249999999998,8.177500000000002],\"yaxis\":\"y\"},{\"hovertemplate\":\"Country=United Kingdom<br>Year=%{x}<br>Temp_mean=%{y}<extra></extra>\",\"legendgroup\":\"United Kingdom\",\"line\":{\"color\":\"#00cc96\",\"dash\":\"solid\"},\"mode\":\"lines\",\"name\":\"United Kingdom\",\"showlegend\":true,\"type\":\"scattergl\",\"x\":[1826,1827,1828,1829,1830,1831,1832,1833,1834,1835,1836,1837,1838,1839,1840,1841,1842,1843,1844,1845,1846,1847,1848,1849,1850,1851,1852,1853,1854,1855,1856,1857,1858,1859,1860,1861,1862,1863,1864,1865,1866,1867,1868,1869,1870,1871,1872,1873,1874,1875,1876,1877,1878,1879,1880,1881,1882,1883,1884,1885,1886,1887,1888,1889,1890,1891,1892,1893,1894,1895,1896,1897,1898,1899,1900,1901,1902,1903,1904,1905,1906,1907,1908,1909,1910,1911,1912,1913,1914,1915,1916,1917,1918,1919,1920,1921,1922,1923,1924,1925,1926,1927,1928,1929,1930,1931,1932,1933,1934,1935,1936,1937,1938,1939,1940,1941,1942,1943,1944,1945,1946,1947,1948,1949,1950,1951,1952,1953,1954,1955,1956,1957,1958,1959,1960,1961,1962,1963,1964,1965,1966,1967,1968,1969,1970,1971,1972,1973,1974,1975,1976,1977,1978,1979,1980,1981,1982,1983,1984,1985,1986,1987,1988,1989,1990,1991,1992,1993,1994,1995,1996,1997,1998,1999,2000,2001,2002,2003,2004,2005,2006,2007,2008,2009,2010,2011,2012,2013],\"xaxis\":\"x\",\"y\":[9.230916666666667,8.559375000000001,9.221708333333334,7.438500000000002,8.057833333333333,9.021041666666667,8.553083333333332,8.456999999999999,9.493791666666665,8.496916666666666,7.94175,7.954833333333334,7.241333333333334,7.948250000000001,7.948,8.112125,8.667749999999998,8.468833333333334,8.060333333333334,7.802458333333333,9.539791666666666,8.479666666666663,8.470041666666667,8.431916666666668,8.316541666666666,8.41925,9.086875000000001,7.872958333333333,8.601875000000001,7.465291666666668,8.273541666666665,9.327625000000001,8.456000000000001,8.756958333333335,7.336583333333333,8.572125,8.402333333333333,8.815041666666664,8.011249999999999,8.833541666666667,8.601541666666664,8.226333333333331,9.351041666666667,8.602958333333332,8.231458333333334,8.315708333333335,8.876875,8.375666666666666,8.566999999999998,8.602500000000001,8.654208333333335,8.327166666666669,8.599250000000001,6.977916666666666,8.47875,7.756666666666665,8.589458333333333,8.268250000000002,8.853833333333332,7.778375000000001,7.843541666666666,7.822541666666665,7.619666666666667,8.330333333333332,8.311458333333334,7.979333333333334,7.495250000000001,9.092416666666667,8.547,7.974916666666665,8.651041666666666,8.585708333333335,9.144041666666665,8.88875,8.637083333333335,8.448833333333331,8.087499999999999,8.414458333333334,8.352041666666665,8.479750000000001,8.600958333333333,8.17075,8.650583333333334,7.951666666666668,8.472916666666665,9.171375000000001,8.531291666666666,8.924625000000002,9.072375000000001,8.17375,8.473083333333333,7.946500000000001,8.7145,7.816833333333334,8.832,9.566125000000001,8.033541666666668,8.2815,8.524750000000001,8.421708333333333,8.943666666666667,8.387291666666668,8.691791666666665,8.360666666666667,8.662333333333333,8.361791666666669,8.77325,9.210374999999999,9.264208333333332,8.885958333333333,8.676333333333334,8.756208333333332,9.291916666666667,8.95775,8.441291666666668,8.337291666666665,8.386125,9.293833333333335,8.840833333333332,9.54725,8.768166666666666,8.769708333333334,9.187125,9.698125,8.715291666666667,8.514083333333334,8.43645833333333,9.296749999999998,8.534125000000001,8.641,8.316,9.267208333333334,8.68716666666667,9.641291666666666,8.995208333333332,9.1,8.033458333333334,7.844374999999999,8.767708333333333,8.209416666666668,8.646,8.913125,8.626041666666667,8.539416666666664,8.742,9.147041666666667,8.575041666666666,8.874500000000003,8.838375000000001,9.168624999999999,9.1895,8.7195,8.610208333333334,8.093375,8.720791666666665,8.548958333333333,9.086041666666667,9.163791666666667,8.996875000000001,8.212874999999999,8.053583333333334,8.387791666666667,9.055583333333335,9.661833333333334,9.766208333333333,8.912916666666666,9.108833333333335,8.719625,9.240708333333334,9.523125000000002,8.604833333333334,9.74975,9.524041666666669,9.746708333333332,9.472583333333334,9.214375000000002,9.79275,9.843291666666666,9.815,9.751291666666665,10.036125,9.909333333333333,9.426625,9.541958333333335,8.437083333333335,9.996541666666666,9.111291666666666,9.052874999999998],\"yaxis\":\"y\"},{\"hovertemplate\":\"Country=Brazil<br>Year=%{x}<br>Temp_mean=%{y}<extra></extra>\",\"legendgroup\":\"Brazil\",\"line\":{\"color\":\"#ab63fa\",\"dash\":\"solid\"},\"mode\":\"lines\",\"name\":\"Brazil\",\"showlegend\":true,\"type\":\"scattergl\",\"x\":[1832,1833,1834,1835,1836,1837,1838,1839,1840,1841,1842,1843,1845,1846,1847,1848,1849,1850,1851,1852,1853,1854,1855,1856,1857,1858,1859,1860,1861,1862,1863,1864,1865,1866,1867,1868,1869,1870,1871,1872,1873,1874,1875,1876,1877,1878,1879,1880,1881,1882,1883,1884,1885,1886,1887,1888,1889,1890,1891,1892,1893,1894,1895,1896,1897,1898,1899,1900,1901,1902,1903,1904,1905,1906,1907,1908,1909,1910,1911,1912,1913,1914,1915,1916,1917,1918,1919,1920,1921,1922,1923,1924,1925,1926,1927,1928,1929,1930,1931,1932,1933,1934,1935,1936,1937,1938,1939,1940,1941,1942,1943,1944,1945,1946,1947,1948,1949,1950,1951,1952,1953,1954,1955,1956,1957,1958,1959,1960,1961,1962,1963,1964,1965,1966,1967,1968,1969,1970,1971,1972,1973,1974,1975,1976,1977,1978,1979,1980,1981,1982,1983,1984,1985,1986,1987,1988,1989,1990,1991,1992,1993,1994,1995,1996,1997,1998,1999,2000,2001,2002,2003,2004,2005,2006,2007,2008,2009,2010,2011,2012,2013],\"xaxis\":\"x\",\"y\":[23.858583333333332,24.51783333333333,24.346750000000004,23.537499999999998,23.921166666666664,23.60891666666667,23.726916666666668,23.804,24.097583333333333,23.933500000000006,24.32075,24.440916666666666,24.014333333333337,24.820000000000004,24.196749999999998,24.163,24.226916666666668,24.211818181818174,24.342333333333332,24.359916666666663,24.37025,24.465083333333336,24.490916666666667,23.965249999999997,24.013666666666662,23.99033333333333,24.368000000000006,24.42025,24.10175,23.92425,24.1935,24.13141666666667,24.230999999999998,24.33866666666667,24.493250000000003,24.610416666666666,24.747333333333334,24.543333333333333,24.436416666666673,24.43575,24.741749999999996,24.383666666666667,23.91325,24.215999999999998,24.84075,25.010500000000004,24.147166666666674,24.34241666666667,24.434749999999998,24.070000000000007,24.089000000000002,23.96416666666667,24.311333333333334,24.009583333333335,24.27916666666667,24.55,24.638999999999996,24.0805,24.264083333333332,24.15041666666667,23.910583333333335,24.33275,24.467333333333332,24.58758333333333,24.46775,24.365583333333333,24.447083333333335,24.904833333333332,24.777583333333336,24.71083333333333,24.574583333333337,23.995500000000003,24.739666666666665,24.515749999999997,24.340666666666667,24.518416666666667,24.405083333333334,24.418083333333342,24.289083333333334,24.477499999999996,24.59566666666667,24.89925,25.118583333333337,24.442999999999998,23.797500000000003,24.309500000000003,24.836750000000006,24.40991666666667,24.27625,24.500333333333334,24.358,24.4315,24.53766666666667,25.008583333333334,24.70183333333333,24.938916666666668,24.644333333333336,24.843833333333336,24.79625,24.97266666666667,24.6125,24.648583333333338,24.853083333333334,25.061083333333332,25.050250000000005,24.874083333333342,24.929916666666667,25.114000000000004,25.196250000000003,24.879083333333337,24.55841666666667,24.904583333333335,24.724416666666666,24.97366666666667,24.695750000000004,24.853416666666664,24.616833333333336,24.639,24.79733333333333,24.851666666666663,24.995583333333332,24.967000000000002,24.765500000000003,24.47966666666667,24.801916666666667,25.268083333333337,25.157250000000005,24.752666666666666,25.146416666666664,24.842333333333332,25.171583333333334,24.734083333333334,24.983833333333337,25.086416666666665,25.01366666666667,24.631249999999998,25.282750000000004,25.191083333333335,24.608500000000003,25.097333333333335,25.169583333333332,24.581500000000002,24.676750000000002,24.719000000000005,25.132333333333335,24.9275,24.944333333333333,25.148,24.983416666666667,25.23033333333333,25.350750000000005,25.109916666666667,24.965666666666667,25.131,25.563416666666665,25.177333333333333,24.871416666666665,25.27491666666667,25.29216666666667,25.251333333333335,25.354916666666668,25.454666666666668,25.55441666666667,25.337833333333332,25.559416666666667,25.95875,25.286583333333336,25.1965,25.50441666666667,25.80033333333333,25.621,25.4965,25.806,25.516999999999996,25.668000000000003,25.41033333333333,25.600583333333333,25.812416666666667,25.428916666666662,25.717083333333335,25.348125],\"yaxis\":\"y\"},{\"hovertemplate\":\"Country=China<br>Year=%{x}<br>Temp_mean=%{y}<extra></extra>\",\"legendgroup\":\"China\",\"line\":{\"color\":\"#FFA15A\",\"dash\":\"solid\"},\"mode\":\"lines\",\"name\":\"China\",\"showlegend\":true,\"type\":\"scattergl\",\"x\":[1833,1834,1835,1836,1837,1838,1839,1840,1841,1842,1843,1844,1845,1846,1847,1848,1849,1850,1851,1852,1853,1854,1855,1856,1857,1858,1859,1860,1861,1862,1863,1864,1865,1866,1867,1868,1869,1870,1871,1872,1873,1874,1875,1876,1877,1878,1879,1880,1881,1882,1883,1884,1885,1886,1887,1888,1889,1890,1891,1892,1893,1894,1895,1896,1897,1898,1899,1900,1901,1902,1903,1904,1905,1906,1907,1908,1909,1910,1911,1912,1913,1914,1915,1916,1917,1918,1919,1920,1921,1922,1923,1924,1925,1926,1927,1928,1929,1930,1931,1932,1933,1934,1935,1936,1937,1938,1939,1940,1941,1942,1943,1944,1945,1946,1947,1948,1949,1950,1951,1952,1953,1954,1955,1956,1957,1958,1959,1960,1961,1962,1963,1964,1965,1966,1967,1968,1969,1970,1971,1972,1973,1974,1975,1976,1977,1978,1979,1980,1981,1982,1983,1984,1985,1986,1987,1988,1989,1990,1991,1992,1993,1994,1995,1996,1997,1998,1999,2000,2001,2002,2003,2004,2005,2006,2007,2008,2009,2010,2011,2012,2013],\"xaxis\":\"x\",\"y\":[6.039333333333335,6.268166666666667,5.43425,5.364727272727273,8.136833333333332,5.715,5.5190833333333345,6.018583333333333,5.512416666666667,6.2785,6.413916666666668,6.051500000000001,6.023000000000001,6.587500000000001,6.257083333333333,5.939749999999997,6.104833333333335,5.907166666666666,5.7828333333333335,5.857499999999999,5.997583333333335,6.473083333333332,6.515583333333335,6.095583333333333,5.959666666666666,6.414083333333334,6.535166666666669,5.609333333333332,5.865166666666667,5.448083333333333,6.444583333333333,5.8015,6.243999999999999,6.410416666666666,6.759166666666666,6.415499999999999,6.465833333333335,6.158999999999999,6.371583333333334,6.286333333333332,6.588166666666667,6.645166666666667,6.505,6.347416666666667,6.181583333333333,6.414416666666668,6.667416666666667,6.383500000000001,6.352833333333334,6.398250000000001,6.026916666666668,5.804833333333332,5.964499999999998,6.114750000000001,6.197166666666665,6.336416666666665,6.31175,6.464333333333336,6.359333333333335,6.060833333333334,6.108333333333334,6.578250000000001,6.035833333333333,6.386250000000001,6.228083333333331,6.562666666666668,6.603416666666667,6.444166666666668,6.537499999999999,6.744666666666666,6.1745833333333335,6.350833333333334,5.755499999999999,6.2218333333333335,6.308666666666667,6.286583333333335,6.3812500000000005,6.0715,6.297,6.076083333333332,6.138416666666665,6.8187500000000005,6.49275,6.349833333333333,6.161416666666668,6.196833333333334,6.607,6.5903333333333345,6.500750000000001,6.6773333333333325,6.563666666666667,6.704249999999999,6.5556666666666645,6.754083333333334,6.667749999999999,6.7746666666666675,6.424083333333333,6.468666666666667,6.3775,6.905583333333333,6.6299166666666665,6.362833333333334,6.636166666666668,6.111583333333335,6.511083333333332,6.87175,7.026500000000001,6.961666666666665,7.3455,7.096,7.050916666666666,6.530500000000001,6.838833333333334,7.354083333333333,6.773833333333333,7.100333333333334,6.9755,6.641166666666666,6.869500000000002,6.640916666666667,7.022333333333335,6.3709999999999996,6.701666666666665,6.299333333333334,6.387999999999999,7.0335833333333335,7.039666666666668,6.890916666666666,7.050583333333333,6.703666666666666,7.052499999999999,6.746083333333334,6.799916666666668,6.962000000000001,6.402583333333333,6.727000000000001,6.455999999999999,6.5681666666666665,6.846249999999999,6.814416666666667,7.209583333333334,6.659416666666668,7.1009166666666665,6.471166666666669,6.851333333333333,7.048166666666667,7.074083333333334,6.9500833333333345,6.926416666666667,7.149749999999998,6.925083333333334,6.517916666666665,6.7402500000000005,6.870166666666666,7.249,7.220833333333334,7.23975,7.635999999999998,7.097166666666667,6.858416666666667,6.919416666666668,7.4959999999999996,7.2115833333333335,6.962666666666667,7.367333333333332,8.051833333333333,7.84025,7.238083333333333,7.596416666666666,7.795666666666668,7.521999999999999,7.71275,7.4135,7.948,8.12675,7.566083333333335,7.8095,7.548416666666668,7.357083333333333,7.077083333333332,9.295],\"yaxis\":\"y\"},{\"hovertemplate\":\"Country=Japan<br>Year=%{x}<br>Temp_mean=%{y}<extra></extra>\",\"legendgroup\":\"Japan\",\"line\":{\"color\":\"#19d3f3\",\"dash\":\"solid\"},\"mode\":\"lines\",\"name\":\"Japan\",\"showlegend\":true,\"type\":\"scattergl\",\"x\":[1841,1842,1843,1844,1845,1846,1847,1848,1849,1850,1851,1852,1853,1854,1855,1856,1857,1858,1859,1860,1861,1862,1863,1864,1865,1866,1867,1868,1869,1870,1871,1872,1873,1874,1875,1876,1877,1878,1879,1880,1881,1882,1883,1884,1885,1886,1887,1888,1889,1890,1891,1892,1893,1894,1895,1896,1897,1898,1899,1900,1901,1902,1903,1904,1905,1906,1907,1908,1909,1910,1911,1912,1913,1914,1915,1916,1917,1918,1919,1920,1921,1922,1923,1924,1925,1926,1927,1928,1929,1930,1931,1932,1933,1934,1935,1936,1937,1938,1939,1940,1941,1942,1943,1944,1945,1946,1947,1948,1949,1950,1951,1952,1953,1954,1955,1956,1957,1958,1959,1960,1961,1962,1963,1964,1965,1966,1967,1968,1969,1970,1971,1972,1973,1974,1975,1976,1977,1978,1979,1980,1981,1982,1983,1984,1985,1986,1987,1988,1989,1990,1991,1992,1993,1994,1995,1996,1997,1998,1999,2000,2001,2002,2003,2004,2005,2006,2007,2008,2009,2010,2011,2012,2013],\"xaxis\":\"x\",\"y\":[11.019499999999999,11.445749999999999,11.627250000000002,11.216166666666664,11.3805,11.824333333333335,11.659666666666666,11.600416666666666,11.605000000000002,11.116,11.117583333333334,11.117833333333332,11.257666666666665,11.692166666666665,12.040666666666667,11.493083333333333,11.400333333333334,11.686583333333333,11.55625,11.096083333333333,11.179333333333334,11.17575,11.808416666666666,11.442750000000002,11.724000000000002,11.225166666666667,11.719333333333331,11.643999999999998,11.52233333333333,11.574833333333336,11.529583333333335,11.460833333333333,10.987333333333332,11.7465,11.686583333333333,11.95225,12.229750000000001,11.66275,12.078249999999999,11.860583333333333,11.585416666666665,11.740250000000001,11.40825,10.535333333333334,11.009166666666667,11.921999999999999,11.677833333333334,11.622749999999998,11.066000000000003,12.84225,11.825166666666666,11.536333333333332,11.207666666666666,12.448250000000002,11.57325,11.681416666666665,11.216,11.900666666666664,11.827999999999998,11.473666666666666,11.680166666666665,11.52375,11.843333333333332,11.770166666666668,11.597416666666666,11.183916666666667,11.403166666666664,11.096000000000002,11.38875,11.378916666666669,11.980083333333333,11.453250000000002,10.986833333333335,12.487166666666665,12.06108333333333,12.545333333333332,11.412916666666666,11.609166666666667,11.951333333333332,12.213500000000002,11.57175,12.078416666666667,11.908499999999998,11.642416666666664,11.758583333333334,11.302416666666666,11.7355,12.057916666666666,11.774916666666668,12.292750000000003,11.489083333333333,11.982749999999998,11.953166666666666,11.49875,11.893083333333331,11.547500000000001,12.211166666666669,12.081166666666668,12.084083333333334,11.987250000000001,11.918499999999996,12.002166666666668,11.994833333333334,11.692166666666665,11.138833333333332,12.360666666666665,11.333583333333332,12.795916666666669,12.102583333333333,12.5895,12.146666666666668,11.939666666666666,11.964666666666666,12.223999999999998,12.729,12.019416666666666,12.055333333333332,12.57,12.958166666666665,12.599833333333335,13.045500000000002,12.466166666666666,12.29325,12.34975,11.687916666666665,12.134416666666667,12.266333333333334,12.190416666666664,11.848999999999998,11.929000000000002,11.983416666666665,12.592166666666666,12.414749999999998,11.7905,12.337000000000002,11.7475,12.19825,12.505333333333333,12.842583333333332,11.795083333333336,11.629416666666664,12.33633333333333,12.12191666666667,11.659916666666668,12.281333333333336,11.691416666666663,12.543833333333334,11.967666666666666,12.91175,13.590583333333333,12.783166666666666,12.484250000000001,12.055166666666667,13.229749999999997,12.475416666666668,12.082833333333333,12.752416666666667,13.244750000000002,13.080083333333333,12.833833333333336,12.450000000000001,12.837333333333333,12.507,13.435666666666668,12.555916666666668,12.757083333333334,13.192166666666665,12.874916666666666,12.933833333333332,13.215583333333333,12.73775,12.565666666666667,12.96475],\"yaxis\":\"y\"},{\"hovertemplate\":\"Country=Australia<br>Year=%{x}<br>Temp_mean=%{y}<extra></extra>\",\"legendgroup\":\"Australia\",\"line\":{\"color\":\"#FF6692\",\"dash\":\"solid\"},\"mode\":\"lines\",\"name\":\"Australia\",\"showlegend\":true,\"type\":\"scattergl\",\"x\":[1852,1853,1854,1855,1856,1857,1858,1859,1860,1861,1862,1863,1864,1865,1866,1867,1868,1869,1870,1871,1872,1873,1874,1875,1876,1877,1878,1879,1880,1881,1882,1883,1884,1885,1886,1887,1888,1889,1890,1891,1892,1893,1894,1895,1896,1897,1898,1899,1900,1901,1902,1903,1904,1905,1906,1907,1908,1909,1910,1911,1912,1913,1914,1915,1916,1917,1918,1919,1920,1921,1922,1923,1924,1925,1926,1927,1928,1929,1930,1931,1932,1933,1934,1935,1936,1937,1938,1939,1940,1941,1942,1943,1944,1945,1946,1947,1948,1949,1950,1951,1952,1953,1954,1955,1956,1957,1958,1959,1960,1961,1962,1963,1964,1965,1966,1967,1968,1969,1970,1971,1972,1973,1974,1975,1976,1977,1978,1979,1980,1981,1982,1983,1984,1985,1986,1987,1988,1989,1990,1991,1992,1993,1994,1995,1996,1997,1998,1999,2000,2001,2002,2003,2004,2005,2006,2007,2008,2009,2010,2011,2012,2013],\"xaxis\":\"x\",\"y\":[20.1885,20.958250000000003,20.28477777777778,20.798636363636366,21.148333333333333,20.966416666666667,21.329833333333333,21.188916666666664,21.245500000000003,21.1975,21.155416666666667,21.309,21.04425,21.217833333333335,21.417,21.643833333333333,21.447583333333338,21.52158333333333,21.42833333333333,21.459666666666664,21.206916666666668,21.15758333333333,21.126166666666666,21.054416666666665,21.087333333333337,21.641083333333338,22.380666666666666,21.184666666666665,21.661249999999995,21.7925,21.64741666666667,21.520666666666667,21.549833333333336,21.421916666666664,21.45016666666667,21.154999999999998,21.954916666666666,22.17408333333334,21.479916666666668,20.833999999999996,21.541749999999997,21.646416666666667,20.917416666666664,21.23308333333333,21.3965,21.8175,21.570916666666665,21.18691666666667,21.766583333333333,21.582583333333332,21.597916666666666,21.17675,20.97083333333333,21.177500000000002,21.885,21.294500000000003,20.8645,21.05275,21.569083333333335,21.347916666666666,21.82616666666667,21.187833333333337,22.186333333333334,22.144833333333334,21.504416666666668,20.771500000000003,21.369333333333334,21.82858333333333,21.324416666666664,21.680083333333332,21.449749999999998,21.536833333333334,21.212583333333335,21.09783333333333,21.702583333333337,21.397833333333335,22.01908333333333,21.10125,21.640833333333333,21.239083333333333,21.459666666666667,21.386499999999998,21.507083333333338,21.39741666666666,21.716333333333335,21.52733333333333,22.088749999999994,21.34,21.681583333333332,21.36283333333333,21.926416666666668,21.31716666666667,21.530166666666663,21.60408333333333,21.241249999999997,21.59025,21.459500000000002,20.984916666666667,21.322916666666668,21.557,21.487,21.47458333333333,21.558666666666664,21.563083333333335,21.006000000000004,21.90266666666666,21.997249999999998,22.098166666666668,21.210500000000003,21.964249999999996,21.802916666666665,21.697833333333335,21.650750000000002,22.092083333333335,21.361000000000004,21.625416666666666,21.462166666666672,21.847583333333333,21.775750000000002,21.65433333333333,22.012083333333333,22.41275,21.238083333333332,21.692666666666668,21.193416666666668,21.892500000000002,21.605166666666666,22.252333333333336,22.586166666666667,22.164083333333334,21.910500000000003,22.261083333333332,21.516916666666663,22.043416666666662,22.09325,22.07241666666667,22.63008333333333,21.862833333333338,22.35575,22.48741666666667,21.932583333333337,22.160166666666665,22.03025,21.955166666666667,22.325333333333333,22.086000000000002,22.664833333333334,22.0645,21.709666666666667,21.79275,22.46083333333333,22.44033333333333,22.28691666666667,22.896833333333333,22.264416666666666,22.48675,22.225916666666667,22.690583333333333,22.078166666666664,21.767,22.0245,22.142874999999997],\"yaxis\":\"y\"}],                        {\"height\":450,\"legend\":{\"title\":{\"text\":\"Country\"},\"tracegroupgap\":0},\"template\":{\"data\":{\"bar\":[{\"error_x\":{\"color\":\"#2a3f5f\"},\"error_y\":{\"color\":\"#2a3f5f\"},\"marker\":{\"line\":{\"color\":\"#E5ECF6\",\"width\":0.5},\"pattern\":{\"fillmode\":\"overlay\",\"size\":10,\"solidity\":0.2}},\"type\":\"bar\"}],\"barpolar\":[{\"marker\":{\"line\":{\"color\":\"#E5ECF6\",\"width\":0.5},\"pattern\":{\"fillmode\":\"overlay\",\"size\":10,\"solidity\":0.2}},\"type\":\"barpolar\"}],\"carpet\":[{\"aaxis\":{\"endlinecolor\":\"#2a3f5f\",\"gridcolor\":\"white\",\"linecolor\":\"white\",\"minorgridcolor\":\"white\",\"startlinecolor\":\"#2a3f5f\"},\"baxis\":{\"endlinecolor\":\"#2a3f5f\",\"gridcolor\":\"white\",\"linecolor\":\"white\",\"minorgridcolor\":\"white\",\"startlinecolor\":\"#2a3f5f\"},\"type\":\"carpet\"}],\"choropleth\":[{\"colorbar\":{\"outlinewidth\":0,\"ticks\":\"\"},\"type\":\"choropleth\"}],\"contour\":[{\"colorbar\":{\"outlinewidth\":0,\"ticks\":\"\"},\"colorscale\":[[0.0,\"#0d0887\"],[0.1111111111111111,\"#46039f\"],[0.2222222222222222,\"#7201a8\"],[0.3333333333333333,\"#9c179e\"],[0.4444444444444444,\"#bd3786\"],[0.5555555555555556,\"#d8576b\"],[0.6666666666666666,\"#ed7953\"],[0.7777777777777778,\"#fb9f3a\"],[0.8888888888888888,\"#fdca26\"],[1.0,\"#f0f921\"]],\"type\":\"contour\"}],\"contourcarpet\":[{\"colorbar\":{\"outlinewidth\":0,\"ticks\":\"\"},\"type\":\"contourcarpet\"}],\"heatmap\":[{\"colorbar\":{\"outlinewidth\":0,\"ticks\":\"\"},\"colorscale\":[[0.0,\"#0d0887\"],[0.1111111111111111,\"#46039f\"],[0.2222222222222222,\"#7201a8\"],[0.3333333333333333,\"#9c179e\"],[0.4444444444444444,\"#bd3786\"],[0.5555555555555556,\"#d8576b\"],[0.6666666666666666,\"#ed7953\"],[0.7777777777777778,\"#fb9f3a\"],[0.8888888888888888,\"#fdca26\"],[1.0,\"#f0f921\"]],\"type\":\"heatmap\"}],\"heatmapgl\":[{\"colorbar\":{\"outlinewidth\":0,\"ticks\":\"\"},\"colorscale\":[[0.0,\"#0d0887\"],[0.1111111111111111,\"#46039f\"],[0.2222222222222222,\"#7201a8\"],[0.3333333333333333,\"#9c179e\"],[0.4444444444444444,\"#bd3786\"],[0.5555555555555556,\"#d8576b\"],[0.6666666666666666,\"#ed7953\"],[0.7777777777777778,\"#fb9f3a\"],[0.8888888888888888,\"#fdca26\"],[1.0,\"#f0f921\"]],\"type\":\"heatmapgl\"}],\"histogram\":[{\"marker\":{\"pattern\":{\"fillmode\":\"overlay\",\"size\":10,\"solidity\":0.2}},\"type\":\"histogram\"}],\"histogram2d\":[{\"colorbar\":{\"outlinewidth\":0,\"ticks\":\"\"},\"colorscale\":[[0.0,\"#0d0887\"],[0.1111111111111111,\"#46039f\"],[0.2222222222222222,\"#7201a8\"],[0.3333333333333333,\"#9c179e\"],[0.4444444444444444,\"#bd3786\"],[0.5555555555555556,\"#d8576b\"],[0.6666666666666666,\"#ed7953\"],[0.7777777777777778,\"#fb9f3a\"],[0.8888888888888888,\"#fdca26\"],[1.0,\"#f0f921\"]],\"type\":\"histogram2d\"}],\"histogram2dcontour\":[{\"colorbar\":{\"outlinewidth\":0,\"ticks\":\"\"},\"colorscale\":[[0.0,\"#0d0887\"],[0.1111111111111111,\"#46039f\"],[0.2222222222222222,\"#7201a8\"],[0.3333333333333333,\"#9c179e\"],[0.4444444444444444,\"#bd3786\"],[0.5555555555555556,\"#d8576b\"],[0.6666666666666666,\"#ed7953\"],[0.7777777777777778,\"#fb9f3a\"],[0.8888888888888888,\"#fdca26\"],[1.0,\"#f0f921\"]],\"type\":\"histogram2dcontour\"}],\"mesh3d\":[{\"colorbar\":{\"outlinewidth\":0,\"ticks\":\"\"},\"type\":\"mesh3d\"}],\"parcoords\":[{\"line\":{\"colorbar\":{\"outlinewidth\":0,\"ticks\":\"\"}},\"type\":\"parcoords\"}],\"pie\":[{\"automargin\":true,\"type\":\"pie\"}],\"scatter\":[{\"marker\":{\"colorbar\":{\"outlinewidth\":0,\"ticks\":\"\"}},\"type\":\"scatter\"}],\"scatter3d\":[{\"line\":{\"colorbar\":{\"outlinewidth\":0,\"ticks\":\"\"}},\"marker\":{\"colorbar\":{\"outlinewidth\":0,\"ticks\":\"\"}},\"type\":\"scatter3d\"}],\"scattercarpet\":[{\"marker\":{\"colorbar\":{\"outlinewidth\":0,\"ticks\":\"\"}},\"type\":\"scattercarpet\"}],\"scattergeo\":[{\"marker\":{\"colorbar\":{\"outlinewidth\":0,\"ticks\":\"\"}},\"type\":\"scattergeo\"}],\"scattergl\":[{\"marker\":{\"colorbar\":{\"outlinewidth\":0,\"ticks\":\"\"}},\"type\":\"scattergl\"}],\"scattermapbox\":[{\"marker\":{\"colorbar\":{\"outlinewidth\":0,\"ticks\":\"\"}},\"type\":\"scattermapbox\"}],\"scatterpolar\":[{\"marker\":{\"colorbar\":{\"outlinewidth\":0,\"ticks\":\"\"}},\"type\":\"scatterpolar\"}],\"scatterpolargl\":[{\"marker\":{\"colorbar\":{\"outlinewidth\":0,\"ticks\":\"\"}},\"type\":\"scatterpolargl\"}],\"scatterternary\":[{\"marker\":{\"colorbar\":{\"outlinewidth\":0,\"ticks\":\"\"}},\"type\":\"scatterternary\"}],\"surface\":[{\"colorbar\":{\"outlinewidth\":0,\"ticks\":\"\"},\"colorscale\":[[0.0,\"#0d0887\"],[0.1111111111111111,\"#46039f\"],[0.2222222222222222,\"#7201a8\"],[0.3333333333333333,\"#9c179e\"],[0.4444444444444444,\"#bd3786\"],[0.5555555555555556,\"#d8576b\"],[0.6666666666666666,\"#ed7953\"],[0.7777777777777778,\"#fb9f3a\"],[0.8888888888888888,\"#fdca26\"],[1.0,\"#f0f921\"]],\"type\":\"surface\"}],\"table\":[{\"cells\":{\"fill\":{\"color\":\"#EBF0F8\"},\"line\":{\"color\":\"white\"}},\"header\":{\"fill\":{\"color\":\"#C8D4E3\"},\"line\":{\"color\":\"white\"}},\"type\":\"table\"}]},\"layout\":{\"annotationdefaults\":{\"arrowcolor\":\"#2a3f5f\",\"arrowhead\":0,\"arrowwidth\":1},\"autotypenumbers\":\"strict\",\"coloraxis\":{\"colorbar\":{\"outlinewidth\":0,\"ticks\":\"\"}},\"colorscale\":{\"diverging\":[[0,\"#8e0152\"],[0.1,\"#c51b7d\"],[0.2,\"#de77ae\"],[0.3,\"#f1b6da\"],[0.4,\"#fde0ef\"],[0.5,\"#f7f7f7\"],[0.6,\"#e6f5d0\"],[0.7,\"#b8e186\"],[0.8,\"#7fbc41\"],[0.9,\"#4d9221\"],[1,\"#276419\"]],\"sequential\":[[0.0,\"#0d0887\"],[0.1111111111111111,\"#46039f\"],[0.2222222222222222,\"#7201a8\"],[0.3333333333333333,\"#9c179e\"],[0.4444444444444444,\"#bd3786\"],[0.5555555555555556,\"#d8576b\"],[0.6666666666666666,\"#ed7953\"],[0.7777777777777778,\"#fb9f3a\"],[0.8888888888888888,\"#fdca26\"],[1.0,\"#f0f921\"]],\"sequentialminus\":[[0.0,\"#0d0887\"],[0.1111111111111111,\"#46039f\"],[0.2222222222222222,\"#7201a8\"],[0.3333333333333333,\"#9c179e\"],[0.4444444444444444,\"#bd3786\"],[0.5555555555555556,\"#d8576b\"],[0.6666666666666666,\"#ed7953\"],[0.7777777777777778,\"#fb9f3a\"],[0.8888888888888888,\"#fdca26\"],[1.0,\"#f0f921\"]]},\"colorway\":[\"#636efa\",\"#EF553B\",\"#00cc96\",\"#ab63fa\",\"#FFA15A\",\"#19d3f3\",\"#FF6692\",\"#B6E880\",\"#FF97FF\",\"#FECB52\"],\"font\":{\"color\":\"#2a3f5f\"},\"geo\":{\"bgcolor\":\"white\",\"lakecolor\":\"white\",\"landcolor\":\"#E5ECF6\",\"showlakes\":true,\"showland\":true,\"subunitcolor\":\"white\"},\"hoverlabel\":{\"align\":\"left\"},\"hovermode\":\"closest\",\"mapbox\":{\"style\":\"light\"},\"paper_bgcolor\":\"white\",\"plot_bgcolor\":\"#E5ECF6\",\"polar\":{\"angularaxis\":{\"gridcolor\":\"white\",\"linecolor\":\"white\",\"ticks\":\"\"},\"bgcolor\":\"#E5ECF6\",\"radialaxis\":{\"gridcolor\":\"white\",\"linecolor\":\"white\",\"ticks\":\"\"}},\"scene\":{\"xaxis\":{\"backgroundcolor\":\"#E5ECF6\",\"gridcolor\":\"white\",\"gridwidth\":2,\"linecolor\":\"white\",\"showbackground\":true,\"ticks\":\"\",\"zerolinecolor\":\"white\"},\"yaxis\":{\"backgroundcolor\":\"#E5ECF6\",\"gridcolor\":\"white\",\"gridwidth\":2,\"linecolor\":\"white\",\"showbackground\":true,\"ticks\":\"\",\"zerolinecolor\":\"white\"},\"zaxis\":{\"backgroundcolor\":\"#E5ECF6\",\"gridcolor\":\"white\",\"gridwidth\":2,\"linecolor\":\"white\",\"showbackground\":true,\"ticks\":\"\",\"zerolinecolor\":\"white\"}},\"shapedefaults\":{\"line\":{\"color\":\"#2a3f5f\"}},\"ternary\":{\"aaxis\":{\"gridcolor\":\"white\",\"linecolor\":\"white\",\"ticks\":\"\"},\"baxis\":{\"gridcolor\":\"white\",\"linecolor\":\"white\",\"ticks\":\"\"},\"bgcolor\":\"#E5ECF6\",\"caxis\":{\"gridcolor\":\"white\",\"linecolor\":\"white\",\"ticks\":\"\"}},\"title\":{\"x\":0.05},\"xaxis\":{\"automargin\":true,\"gridcolor\":\"white\",\"linecolor\":\"white\",\"ticks\":\"\",\"title\":{\"standoff\":15},\"zerolinecolor\":\"white\",\"zerolinewidth\":2},\"yaxis\":{\"automargin\":true,\"gridcolor\":\"white\",\"linecolor\":\"white\",\"ticks\":\"\",\"title\":{\"standoff\":15},\"zerolinecolor\":\"white\",\"zerolinewidth\":2}}},\"title\":{\"text\":\"Average Temperature \\u00b0C in Top Economies\"},\"width\":900,\"xaxis\":{\"anchor\":\"y\",\"domain\":[0.0,1.0],\"title\":{\"text\":\"Year\"}},\"yaxis\":{\"anchor\":\"x\",\"domain\":[0.0,1.0],\"title\":{\"text\":\"Temp_mean\"}}},                        {\"responsive\": true}                    ).then(function(){\n",
              "                            \n",
              "var gd = document.getElementById('47bc1153-af34-4826-bc62-111ef514e56c');\n",
              "var x = new MutationObserver(function (mutations, observer) {{\n",
              "        var display = window.getComputedStyle(gd).display;\n",
              "        if (!display || display === 'none') {{\n",
              "            console.log([gd, 'removed!']);\n",
              "            Plotly.purge(gd);\n",
              "            observer.disconnect();\n",
              "        }}\n",
              "}});\n",
              "\n",
              "// Listen for the removal of the full notebook cells\n",
              "var notebookContainer = gd.closest('#notebook-container');\n",
              "if (notebookContainer) {{\n",
              "    x.observe(notebookContainer, {childList: true});\n",
              "}}\n",
              "\n",
              "// Listen for the clearing of the current output cell\n",
              "var outputEl = gd.closest('.output');\n",
              "if (outputEl) {{\n",
              "    x.observe(outputEl, {childList: true});\n",
              "}}\n",
              "\n",
              "                        })                };                            </script>        </div>\n",
              "</body>\n",
              "</html>"
            ]
          },
          "metadata": {
            "tags": []
          }
        }
      ]
    },
    {
      "cell_type": "code",
      "metadata": {
        "colab": {
          "base_uri": "https://localhost:8080/",
          "height": 467
        },
        "id": "fpdvdViRGMgC",
        "outputId": "cbbc0e57-981b-4ab8-9c9d-3060692bc784"
      },
      "source": [
        "#Visualizing mean, min and max temperatures from 1750 to 2013 in Norway\n",
        "my_country = 'Norway'\n",
        "fig_2 = px.line(data_frame=df1_avgcountry[df1_avgcountry['Country']==my_country][6:], x='Year', y=['Temp_mean', 'Temp_min', 'Temp_max'],\n",
        "                title=f'Average Temperature °C in {my_country}', width=900, height=450)\n",
        "fig_2.show()"
      ],
      "execution_count": 9,
      "outputs": [
        {
          "output_type": "display_data",
          "data": {
            "text/html": [
              "<html>\n",
              "<head><meta charset=\"utf-8\" /></head>\n",
              "<body>\n",
              "    <div>            <script src=\"https://cdnjs.cloudflare.com/ajax/libs/mathjax/2.7.5/MathJax.js?config=TeX-AMS-MML_SVG\"></script><script type=\"text/javascript\">if (window.MathJax) {MathJax.Hub.Config({SVG: {font: \"STIX-Web\"}});}</script>                <script type=\"text/javascript\">window.PlotlyConfig = {MathJaxConfig: 'local'};</script>\n",
              "        <script src=\"https://cdn.plot.ly/plotly-2.1.0.min.js\"></script>                <div id=\"1fe17ab8-3730-4e3f-905c-9d1c7ee7d176\" class=\"plotly-graph-div\" style=\"height:450px; width:900px;\"></div>            <script type=\"text/javascript\">                                    window.PLOTLYENV=window.PLOTLYENV || {};                                    if (document.getElementById(\"1fe17ab8-3730-4e3f-905c-9d1c7ee7d176\")) {                    Plotly.newPlot(                        \"1fe17ab8-3730-4e3f-905c-9d1c7ee7d176\",                        [{\"hovertemplate\":\"variable=Temp_mean<br>Year=%{x}<br>value=%{y}<extra></extra>\",\"legendgroup\":\"Temp_mean\",\"line\":{\"color\":\"#636efa\",\"dash\":\"solid\"},\"mode\":\"lines\",\"name\":\"Temp_mean\",\"orientation\":\"v\",\"showlegend\":true,\"type\":\"scatter\",\"x\":[1753,1754,1755,1756,1757,1758,1759,1760,1761,1762,1763,1764,1765,1766,1767,1768,1769,1770,1771,1772,1773,1774,1775,1776,1777,1778,1779,1780,1781,1782,1783,1784,1785,1786,1787,1788,1789,1790,1791,1792,1793,1794,1795,1796,1797,1798,1799,1800,1801,1802,1803,1804,1805,1806,1807,1808,1809,1810,1811,1812,1813,1814,1815,1816,1817,1818,1819,1820,1821,1822,1823,1824,1825,1826,1827,1828,1829,1830,1831,1832,1833,1834,1835,1836,1837,1838,1839,1840,1841,1842,1843,1844,1845,1846,1847,1848,1849,1850,1851,1852,1853,1854,1855,1856,1857,1858,1859,1860,1861,1862,1863,1864,1865,1866,1867,1868,1869,1870,1871,1872,1873,1874,1875,1876,1877,1878,1879,1880,1881,1882,1883,1884,1885,1886,1887,1888,1889,1890,1891,1892,1893,1894,1895,1896,1897,1898,1899,1900,1901,1902,1903,1904,1905,1906,1907,1908,1909,1910,1911,1912,1913,1914,1915,1916,1917,1918,1919,1920,1921,1922,1923,1924,1925,1926,1927,1928,1929,1930,1931,1932,1933,1934,1935,1936,1937,1938,1939,1940,1941,1942,1943,1944,1945,1946,1947,1948,1949,1950,1951,1952,1953,1954,1955,1956,1957,1958,1959,1960,1961,1962,1963,1964,1965,1966,1967,1968,1969,1970,1971,1972,1973,1974,1975,1976,1977,1978,1979,1980,1981,1982,1983,1984,1985,1986,1987,1988,1989,1990,1991,1992,1993,1994,1995,1996,1997,1998,1999,2000,2001,2002,2003,2004,2005,2006,2007,2008,2009,2010,2011,2012,2013],\"xaxis\":\"x\",\"y\":[-0.0538333333333334,0.0841666666666671,-0.27191666666666664,0.19474999999999998,0.38024999999999975,-1.1045,0.08708333333333318,-0.92975,0.5902500000000006,-0.23408333333333364,-0.4134999999999999,-0.10666666666666691,-0.7188333333333334,0.7546666666666667,-0.35216666666666674,-0.7209999999999995,-0.1701666666666671,-0.4638333333333331,-0.43716666666666654,-0.36933333333333307,0.6015000000000008,-0.45174999999999965,1.0784166666666666,0.05974999999999945,-0.31858333333333333,0.005499999999999838,1.2774166666666664,0.12283333333333306,0.3403333333333333,-0.614,0.22933333333333325,-1.3169166666666667,-0.8013333333333331,-0.7830833333333338,0.024833333333333336,-0.19833333333333325,0.3420833333333333,0.3069166666666665,0.49099999999999994,0.17883333333333376,0.13116666666666665,0.7411666666666665,-0.5450000000000003,0.42083333333333367,0.9474166666666665,0.9692499999999998,-0.5936666666666663,-0.3081666666666666,-0.057833333333333105,-0.34666666666666646,-0.37775,-0.30424999999999985,-0.9380833333333335,0.08149999999999984,-0.5288333333333332,-0.18758333333333374,-0.9610833333333337,-1.1411666666666667,0.07791666666666701,-1.402583333333333,0.08049999999999995,-1.0071666666666668,0.11250000000000027,-1.0374166666666664,-0.6125833333333334,0.21216666666666714,0.030249999999999815,-0.6705833333333334,-0.13549999999999987,1.0344166666666663,-0.23399999999999954,0.28858333333333314,0.67775,1.4544166666666667,-0.09941666666666671,0.19816666666666638,-0.934083333333333,-0.07533333333333347,0.16783333333333342,0.7439999999999998,0.09825000000000017,0.33149999999999963,-0.4880833333333335,-1.1024166666666662,-0.5830833333333332,-1.5595833333333335,-0.7156666666666665,-0.26775,-0.3523333333333329,0.5830833333333335,-0.12183333333333339,-0.9288333333333334,-0.48191666666666616,0.7173333333333334,0.1338333333333329,-0.4629999999999999,-0.634833333333333,-0.5644166666666668,0.18633333333333316,0.05250000000000007,0.12125000000000001,0.37816666666666654,-0.9304166666666666,-1.2794999999999999,0.15649999999999994,0.54225,0.15274999999999941,-0.918916666666667,0.24358333333333348,-0.5640833333333329,0.6124999999999999,-0.8769999999999997,-0.48966666666666675,-0.4681666666666667,-1.654583333333333,0.2804166666666667,-0.24049999999999994,-0.44691666666666646,-1.0634166666666665,0.37208333333333377,0.2692499999999995,-0.024250000000000327,-0.7785833333333335,-0.6045000000000003,-1.0292499999999993,0.2174999999999998,-0.5162500000000004,-0.20208333333333384,-1.4586666666666666,0.32833333333333287,0.7345,0.4350833333333329,-0.7651666666666666,-0.16108333333333347,-0.14241666666666708,-1.3703333333333336,0.5629999999999994,0.6508333333333328,0.0892500000000002,-1.1159166666666664,-0.9021666666666667,0.8722500000000001,-0.38233333333333325,0.48133333333333345,0.24591666666666648,0.04225000000000012,-0.7348333333333336,-0.9300833333333336,0.3471666666666667,-1.1969166666666666,0.0044999999999999485,-0.31491666666666634,0.10833333333333302,0.22933333333333294,0.26541666666666713,0.2332499999999996,-0.5619166666666666,0.40725000000000017,0.5237499999999999,-0.27758333333333307,0.45983333333333304,0.6665833333333336,-1.3608333333333331,-0.0588333333333327,-0.9443333333333332,0.2274999999999999,-0.5350000000000005,1.1931666666666667,0.3275000000000005,0.0005833333333333801,-0.2574999999999999,0.46875000000000017,0.3980833333333333,-0.02541666666666657,-0.20641666666666736,-0.08100000000000018,0.043166666666666985,1.5879166666666666,0.15191666666666678,0.8249166666666664,1.0699166666666664,1.9220833333333338,0.6468333333333337,0.8275833333333334,1.2679166666666664,2.08825,0.7229999999999998,-0.41374999999999984,-0.7345000000000003,-0.6724999999999995,0.9686666666666666,0.8587499999999993,0.7416666666666663,0.85075,0.12233333333333325,0.6003333333333337,1.2173333333333334,0.9837499999999998,0.12450000000000006,-0.3679166666666667,1.628833333333333,0.823833333333333,-0.46699999999999964,-0.07308333333333339,0.7845833333333334,-0.10483333333333326,1.3735833333333336,0.5800000000000004,1.0905833333333337,-0.4542500000000002,-0.18341666666666626,0.6056666666666669,-0.3381666666666671,-1.0486666666666666,0.4153333333333335,-0.6878333333333327,-0.14200000000000043,-0.24441666666666598,0.19383333333333322,1.3808333333333331,0.42275,1.6321666666666665,1.0117499999999993,0.2748333333333335,-0.006749999999999738,-0.45358333333333306,-0.4742499999999996,-0.146833333333333,-0.6071666666666666,0.4977500000000001,0.6679999999999998,1.2836666666666663,-0.5793333333333329,-0.04241666666666669,-0.4872499999999998,0.38899999999999973,1.4923333333333328,2.0665,1.1335000000000002,1.296166666666666,0.4190000000000002,0.4645000000000002,0.5059999999999998,0.25566666666666665,1.0437500000000002,0.4654166666666671,1.2797499999999997,1.7969166666666663,0.7025000000000002,1.37075,1.2833333333333332,1.5249166666666667,1.807333333333334,2.2566666666666664,1.7515833333333326,1.6424999999999994,1.3854999999999997,-0.21549999999999989,2.1189166666666672,1.141666666666666,1.735375],\"yaxis\":\"y\"},{\"hovertemplate\":\"variable=Temp_min<br>Year=%{x}<br>value=%{y}<extra></extra>\",\"legendgroup\":\"Temp_min\",\"line\":{\"color\":\"#EF553B\",\"dash\":\"solid\"},\"mode\":\"lines\",\"name\":\"Temp_min\",\"orientation\":\"v\",\"showlegend\":true,\"type\":\"scatter\",\"x\":[1753,1754,1755,1756,1757,1758,1759,1760,1761,1762,1763,1764,1765,1766,1767,1768,1769,1770,1771,1772,1773,1774,1775,1776,1777,1778,1779,1780,1781,1782,1783,1784,1785,1786,1787,1788,1789,1790,1791,1792,1793,1794,1795,1796,1797,1798,1799,1800,1801,1802,1803,1804,1805,1806,1807,1808,1809,1810,1811,1812,1813,1814,1815,1816,1817,1818,1819,1820,1821,1822,1823,1824,1825,1826,1827,1828,1829,1830,1831,1832,1833,1834,1835,1836,1837,1838,1839,1840,1841,1842,1843,1844,1845,1846,1847,1848,1849,1850,1851,1852,1853,1854,1855,1856,1857,1858,1859,1860,1861,1862,1863,1864,1865,1866,1867,1868,1869,1870,1871,1872,1873,1874,1875,1876,1877,1878,1879,1880,1881,1882,1883,1884,1885,1886,1887,1888,1889,1890,1891,1892,1893,1894,1895,1896,1897,1898,1899,1900,1901,1902,1903,1904,1905,1906,1907,1908,1909,1910,1911,1912,1913,1914,1915,1916,1917,1918,1919,1920,1921,1922,1923,1924,1925,1926,1927,1928,1929,1930,1931,1932,1933,1934,1935,1936,1937,1938,1939,1940,1941,1942,1943,1944,1945,1946,1947,1948,1949,1950,1951,1952,1953,1954,1955,1956,1957,1958,1959,1960,1961,1962,1963,1964,1965,1966,1967,1968,1969,1970,1971,1972,1973,1974,1975,1976,1977,1978,1979,1980,1981,1982,1983,1984,1985,1986,1987,1988,1989,1990,1991,1992,1993,1994,1995,1996,1997,1998,1999,2000,2001,2002,2003,2004,2005,2006,2007,2008,2009,2010,2011,2012,2013],\"xaxis\":\"x\",\"y\":[-12.686,-9.975,-11.143,-9.246,-11.084,-11.9,-11.869,-14.392,-10.289,-7.945,-9.266,-8.526,-10.527,-8.921000000000003,-13.463,-10.732,-9.469,-12.822,-10.705,-12.548,-8.937999999999997,-13.574,-8.708,-13.397,-9.699000000000002,-9.436000000000002,-9.535,-10.704,-9.194,-9.05,-11.191,-11.622,-10.42,-11.895,-9.539,-13.979,-11.845,-7.041,-8.038,-11.349,-9.416,-9.333,-10.649,-10.784,-7.537000000000001,-9.807,-13.6,-11.298,-10.66,-10.2,-12.125,-11.397,-10.773,-8.119000000000002,-10.06,-10.911,-14.609,-9.453,-9.318,-10.83,-9.521,-15.514,-9.4,-11.943,-11.864,-10.806,-10.87,-13.587,-10.927,-8.38,-12.825,-8.016,-7.858,-8.908000000000003,-11.058,-10.076,-11.306,-9.752,-11.574,-7.239000000000001,-8.718,-10.588,-9.947,-9.873,-10.334,-13.152,-9.878,-9.687000000000001,-12.0,-8.198,-9.604,-13.695,-13.322,-10.689,-9.636000000000001,-10.528,-11.395,-12.101,-7.657,-8.916,-11.669,-9.651000000000002,-12.667,-9.925,-11.679,-7.57,-9.185,-11.385,-10.733,-10.909,-7.144,-9.11,-11.712,-10.086,-14.238,-9.644,-8.399000000000001,-10.202,-12.34,-9.764,-8.024000000000001,-11.252,-11.768,-10.917,-11.023,-10.347,-11.316,-10.249,-12.688,-10.557,-8.375,-8.669,-10.062,-10.823,-10.345,-11.432,-10.544,-7.1,-9.167000000000002,-11.348,-12.741,-7.506000000000001,-11.728,-7.713999999999999,-9.751,-8.84,-10.399,-13.377,-10.926,-9.972000000000001,-8.985000000000003,-11.418,-8.738999999999999,-7.785,-8.943999999999997,-7.191000000000003,-8.575,-8.988999999999997,-7.427,-10.53,-9.979,-8.636000000000001,-13.196,-7.846,-11.601,-12.22,-10.377,-8.164000000000001,-8.631,-9.131,-9.521,-9.364,-10.302,-9.29,-10.14,-7.521000000000001,-10.085,-6.536,-9.023,-6.291,-8.088000000000001,-5.789000000000001,-7.662000000000001,-10.288,-10.19,-6.281000000000001,-8.748,-12.151,-13.239,-12.654,-10.045,-6.757000000000001,-10.284,-9.822000000000001,-13.29,-11.677,-6.809000000000001,-8.443,-10.561,-8.852,-9.213,-9.071000000000002,-10.539,-10.084,-7.603000000000002,-10.655,-10.844,-10.668,-9.254,-9.71,-12.436,-7.983,-10.992,-13.85,-11.596,-11.3,-11.672,-13.313,-8.485000000000001,-7.592000000000001,-9.0,-5.093000000000001,-6.342000000000001,-10.315,-10.327,-11.546,-12.982,-10.769,-12.708,-11.434,-8.205,-9.170000000000002,-11.37,-12.028,-12.468,-7.691,-7.827999999999999,-5.567,-8.186,-5.301000000000001,-8.072000000000001,-10.549,-9.703,-10.062,-7.951000000000001,-7.48,-8.124,-5.742000000000001,-9.143,-8.417,-10.129,-9.246,-6.214,-8.382,-8.536000000000001,-5.941,-8.655000000000001,-11.053,-9.067,-8.806000000000003,-8.219999999999999],\"yaxis\":\"y\"},{\"hovertemplate\":\"variable=Temp_max<br>Year=%{x}<br>value=%{y}<extra></extra>\",\"legendgroup\":\"Temp_max\",\"line\":{\"color\":\"#00cc96\",\"dash\":\"solid\"},\"mode\":\"lines\",\"name\":\"Temp_max\",\"orientation\":\"v\",\"showlegend\":true,\"type\":\"scatter\",\"x\":[1753,1754,1755,1756,1757,1758,1759,1760,1761,1762,1763,1764,1765,1766,1767,1768,1769,1770,1771,1772,1773,1774,1775,1776,1777,1778,1779,1780,1781,1782,1783,1784,1785,1786,1787,1788,1789,1790,1791,1792,1793,1794,1795,1796,1797,1798,1799,1800,1801,1802,1803,1804,1805,1806,1807,1808,1809,1810,1811,1812,1813,1814,1815,1816,1817,1818,1819,1820,1821,1822,1823,1824,1825,1826,1827,1828,1829,1830,1831,1832,1833,1834,1835,1836,1837,1838,1839,1840,1841,1842,1843,1844,1845,1846,1847,1848,1849,1850,1851,1852,1853,1854,1855,1856,1857,1858,1859,1860,1861,1862,1863,1864,1865,1866,1867,1868,1869,1870,1871,1872,1873,1874,1875,1876,1877,1878,1879,1880,1881,1882,1883,1884,1885,1886,1887,1888,1889,1890,1891,1892,1893,1894,1895,1896,1897,1898,1899,1900,1901,1902,1903,1904,1905,1906,1907,1908,1909,1910,1911,1912,1913,1914,1915,1916,1917,1918,1919,1920,1921,1922,1923,1924,1925,1926,1927,1928,1929,1930,1931,1932,1933,1934,1935,1936,1937,1938,1939,1940,1941,1942,1943,1944,1945,1946,1947,1948,1949,1950,1951,1952,1953,1954,1955,1956,1957,1958,1959,1960,1961,1962,1963,1964,1965,1966,1967,1968,1969,1970,1971,1972,1973,1974,1975,1976,1977,1978,1979,1980,1981,1982,1983,1984,1985,1986,1987,1988,1989,1990,1991,1992,1993,1994,1995,1996,1997,1998,1999,2000,2001,2002,2003,2004,2005,2006,2007,2008,2009,2010,2011,2012,2013],\"xaxis\":\"x\",\"y\":[10.712,10.14,11.949,11.424,14.15,10.462,10.985,10.715,12.293,10.015,12.531,11.71,9.333,13.163,11.163,11.601,11.062,11.681,10.921,11.055,11.315,11.975,12.408,12.259,9.76,12.128,12.119,11.421,10.993,11.452,12.516,10.074,11.992,11.436,10.049,13.293,12.842,9.7,12.357,12.556,10.373,11.23,10.692,12.175,11.122,12.97,10.976,9.253,11.29,9.698,11.844,12.104,10.876,10.923,11.722,12.366,10.721,10.217,11.501,10.131,12.022,11.071,10.336,10.352,10.07,12.559,12.998,11.461,9.522,10.728,10.9,11.021,10.448,13.22,9.706,11.947,11.414,11.342,13.101,9.507,10.978,12.869,10.062,9.887,9.026000000000002,10.779,11.547,10.265,9.85,11.693,11.119,10.547,11.122,12.818,11.097,9.338,11.108,10.974,10.895,12.374,12.187,11.843,12.555,9.628,10.985,12.255,10.114,10.477,12.218,9.12,9.667,10.738,11.168,10.527,9.961,11.563,10.363,10.8,10.635,11.763,11.901,10.198,10.945,11.107,10.472,9.889,11.123,11.196,9.543,11.384,11.093,10.701,10.162,10.389,10.017,9.554,10.895,9.501,11.085,9.163,10.159,12.071,10.018,11.876,10.854,9.603,11.832,8.996,13.083,8.048,9.075,9.988,11.105,10.485,9.455,10.668,9.963,9.975,10.431,11.46,11.086,12.866,10.723,11.919,11.291,11.654,11.337,10.909,9.789,11.203,10.701,11.381,13.202,11.125,12.718,9.131,9.335,12.402,11.516,11.363,12.037,12.38,10.783,11.665,13.079,12.068,11.846,10.444,13.284,10.35,11.273,11.351,12.232,11.931,11.925,11.641,10.281,11.589,11.053,10.232,11.604,11.256,11.728,10.855,11.7,10.169,11.362,11.873,11.069,9.284,10.643,9.824,8.997,10.883,10.318,9.662,11.979,10.534,10.388,12.543,12.573,10.526,10.681,11.164,10.385,10.65,10.7,11.664,10.493,11.328,11.221,10.33,11.497,10.774,10.169,12.074,10.583,11.214,11.834,10.561,10.718,12.486,10.404,12.009,12.628,11.113,11.198,10.798,11.339,13.184,13.484,11.671,12.429,12.577,11.609,12.034,11.74,11.846,11.862,10.632,11.838],\"yaxis\":\"y\"}],                        {\"height\":450,\"legend\":{\"title\":{\"text\":\"variable\"},\"tracegroupgap\":0},\"template\":{\"data\":{\"bar\":[{\"error_x\":{\"color\":\"#2a3f5f\"},\"error_y\":{\"color\":\"#2a3f5f\"},\"marker\":{\"line\":{\"color\":\"#E5ECF6\",\"width\":0.5},\"pattern\":{\"fillmode\":\"overlay\",\"size\":10,\"solidity\":0.2}},\"type\":\"bar\"}],\"barpolar\":[{\"marker\":{\"line\":{\"color\":\"#E5ECF6\",\"width\":0.5},\"pattern\":{\"fillmode\":\"overlay\",\"size\":10,\"solidity\":0.2}},\"type\":\"barpolar\"}],\"carpet\":[{\"aaxis\":{\"endlinecolor\":\"#2a3f5f\",\"gridcolor\":\"white\",\"linecolor\":\"white\",\"minorgridcolor\":\"white\",\"startlinecolor\":\"#2a3f5f\"},\"baxis\":{\"endlinecolor\":\"#2a3f5f\",\"gridcolor\":\"white\",\"linecolor\":\"white\",\"minorgridcolor\":\"white\",\"startlinecolor\":\"#2a3f5f\"},\"type\":\"carpet\"}],\"choropleth\":[{\"colorbar\":{\"outlinewidth\":0,\"ticks\":\"\"},\"type\":\"choropleth\"}],\"contour\":[{\"colorbar\":{\"outlinewidth\":0,\"ticks\":\"\"},\"colorscale\":[[0.0,\"#0d0887\"],[0.1111111111111111,\"#46039f\"],[0.2222222222222222,\"#7201a8\"],[0.3333333333333333,\"#9c179e\"],[0.4444444444444444,\"#bd3786\"],[0.5555555555555556,\"#d8576b\"],[0.6666666666666666,\"#ed7953\"],[0.7777777777777778,\"#fb9f3a\"],[0.8888888888888888,\"#fdca26\"],[1.0,\"#f0f921\"]],\"type\":\"contour\"}],\"contourcarpet\":[{\"colorbar\":{\"outlinewidth\":0,\"ticks\":\"\"},\"type\":\"contourcarpet\"}],\"heatmap\":[{\"colorbar\":{\"outlinewidth\":0,\"ticks\":\"\"},\"colorscale\":[[0.0,\"#0d0887\"],[0.1111111111111111,\"#46039f\"],[0.2222222222222222,\"#7201a8\"],[0.3333333333333333,\"#9c179e\"],[0.4444444444444444,\"#bd3786\"],[0.5555555555555556,\"#d8576b\"],[0.6666666666666666,\"#ed7953\"],[0.7777777777777778,\"#fb9f3a\"],[0.8888888888888888,\"#fdca26\"],[1.0,\"#f0f921\"]],\"type\":\"heatmap\"}],\"heatmapgl\":[{\"colorbar\":{\"outlinewidth\":0,\"ticks\":\"\"},\"colorscale\":[[0.0,\"#0d0887\"],[0.1111111111111111,\"#46039f\"],[0.2222222222222222,\"#7201a8\"],[0.3333333333333333,\"#9c179e\"],[0.4444444444444444,\"#bd3786\"],[0.5555555555555556,\"#d8576b\"],[0.6666666666666666,\"#ed7953\"],[0.7777777777777778,\"#fb9f3a\"],[0.8888888888888888,\"#fdca26\"],[1.0,\"#f0f921\"]],\"type\":\"heatmapgl\"}],\"histogram\":[{\"marker\":{\"pattern\":{\"fillmode\":\"overlay\",\"size\":10,\"solidity\":0.2}},\"type\":\"histogram\"}],\"histogram2d\":[{\"colorbar\":{\"outlinewidth\":0,\"ticks\":\"\"},\"colorscale\":[[0.0,\"#0d0887\"],[0.1111111111111111,\"#46039f\"],[0.2222222222222222,\"#7201a8\"],[0.3333333333333333,\"#9c179e\"],[0.4444444444444444,\"#bd3786\"],[0.5555555555555556,\"#d8576b\"],[0.6666666666666666,\"#ed7953\"],[0.7777777777777778,\"#fb9f3a\"],[0.8888888888888888,\"#fdca26\"],[1.0,\"#f0f921\"]],\"type\":\"histogram2d\"}],\"histogram2dcontour\":[{\"colorbar\":{\"outlinewidth\":0,\"ticks\":\"\"},\"colorscale\":[[0.0,\"#0d0887\"],[0.1111111111111111,\"#46039f\"],[0.2222222222222222,\"#7201a8\"],[0.3333333333333333,\"#9c179e\"],[0.4444444444444444,\"#bd3786\"],[0.5555555555555556,\"#d8576b\"],[0.6666666666666666,\"#ed7953\"],[0.7777777777777778,\"#fb9f3a\"],[0.8888888888888888,\"#fdca26\"],[1.0,\"#f0f921\"]],\"type\":\"histogram2dcontour\"}],\"mesh3d\":[{\"colorbar\":{\"outlinewidth\":0,\"ticks\":\"\"},\"type\":\"mesh3d\"}],\"parcoords\":[{\"line\":{\"colorbar\":{\"outlinewidth\":0,\"ticks\":\"\"}},\"type\":\"parcoords\"}],\"pie\":[{\"automargin\":true,\"type\":\"pie\"}],\"scatter\":[{\"marker\":{\"colorbar\":{\"outlinewidth\":0,\"ticks\":\"\"}},\"type\":\"scatter\"}],\"scatter3d\":[{\"line\":{\"colorbar\":{\"outlinewidth\":0,\"ticks\":\"\"}},\"marker\":{\"colorbar\":{\"outlinewidth\":0,\"ticks\":\"\"}},\"type\":\"scatter3d\"}],\"scattercarpet\":[{\"marker\":{\"colorbar\":{\"outlinewidth\":0,\"ticks\":\"\"}},\"type\":\"scattercarpet\"}],\"scattergeo\":[{\"marker\":{\"colorbar\":{\"outlinewidth\":0,\"ticks\":\"\"}},\"type\":\"scattergeo\"}],\"scattergl\":[{\"marker\":{\"colorbar\":{\"outlinewidth\":0,\"ticks\":\"\"}},\"type\":\"scattergl\"}],\"scattermapbox\":[{\"marker\":{\"colorbar\":{\"outlinewidth\":0,\"ticks\":\"\"}},\"type\":\"scattermapbox\"}],\"scatterpolar\":[{\"marker\":{\"colorbar\":{\"outlinewidth\":0,\"ticks\":\"\"}},\"type\":\"scatterpolar\"}],\"scatterpolargl\":[{\"marker\":{\"colorbar\":{\"outlinewidth\":0,\"ticks\":\"\"}},\"type\":\"scatterpolargl\"}],\"scatterternary\":[{\"marker\":{\"colorbar\":{\"outlinewidth\":0,\"ticks\":\"\"}},\"type\":\"scatterternary\"}],\"surface\":[{\"colorbar\":{\"outlinewidth\":0,\"ticks\":\"\"},\"colorscale\":[[0.0,\"#0d0887\"],[0.1111111111111111,\"#46039f\"],[0.2222222222222222,\"#7201a8\"],[0.3333333333333333,\"#9c179e\"],[0.4444444444444444,\"#bd3786\"],[0.5555555555555556,\"#d8576b\"],[0.6666666666666666,\"#ed7953\"],[0.7777777777777778,\"#fb9f3a\"],[0.8888888888888888,\"#fdca26\"],[1.0,\"#f0f921\"]],\"type\":\"surface\"}],\"table\":[{\"cells\":{\"fill\":{\"color\":\"#EBF0F8\"},\"line\":{\"color\":\"white\"}},\"header\":{\"fill\":{\"color\":\"#C8D4E3\"},\"line\":{\"color\":\"white\"}},\"type\":\"table\"}]},\"layout\":{\"annotationdefaults\":{\"arrowcolor\":\"#2a3f5f\",\"arrowhead\":0,\"arrowwidth\":1},\"autotypenumbers\":\"strict\",\"coloraxis\":{\"colorbar\":{\"outlinewidth\":0,\"ticks\":\"\"}},\"colorscale\":{\"diverging\":[[0,\"#8e0152\"],[0.1,\"#c51b7d\"],[0.2,\"#de77ae\"],[0.3,\"#f1b6da\"],[0.4,\"#fde0ef\"],[0.5,\"#f7f7f7\"],[0.6,\"#e6f5d0\"],[0.7,\"#b8e186\"],[0.8,\"#7fbc41\"],[0.9,\"#4d9221\"],[1,\"#276419\"]],\"sequential\":[[0.0,\"#0d0887\"],[0.1111111111111111,\"#46039f\"],[0.2222222222222222,\"#7201a8\"],[0.3333333333333333,\"#9c179e\"],[0.4444444444444444,\"#bd3786\"],[0.5555555555555556,\"#d8576b\"],[0.6666666666666666,\"#ed7953\"],[0.7777777777777778,\"#fb9f3a\"],[0.8888888888888888,\"#fdca26\"],[1.0,\"#f0f921\"]],\"sequentialminus\":[[0.0,\"#0d0887\"],[0.1111111111111111,\"#46039f\"],[0.2222222222222222,\"#7201a8\"],[0.3333333333333333,\"#9c179e\"],[0.4444444444444444,\"#bd3786\"],[0.5555555555555556,\"#d8576b\"],[0.6666666666666666,\"#ed7953\"],[0.7777777777777778,\"#fb9f3a\"],[0.8888888888888888,\"#fdca26\"],[1.0,\"#f0f921\"]]},\"colorway\":[\"#636efa\",\"#EF553B\",\"#00cc96\",\"#ab63fa\",\"#FFA15A\",\"#19d3f3\",\"#FF6692\",\"#B6E880\",\"#FF97FF\",\"#FECB52\"],\"font\":{\"color\":\"#2a3f5f\"},\"geo\":{\"bgcolor\":\"white\",\"lakecolor\":\"white\",\"landcolor\":\"#E5ECF6\",\"showlakes\":true,\"showland\":true,\"subunitcolor\":\"white\"},\"hoverlabel\":{\"align\":\"left\"},\"hovermode\":\"closest\",\"mapbox\":{\"style\":\"light\"},\"paper_bgcolor\":\"white\",\"plot_bgcolor\":\"#E5ECF6\",\"polar\":{\"angularaxis\":{\"gridcolor\":\"white\",\"linecolor\":\"white\",\"ticks\":\"\"},\"bgcolor\":\"#E5ECF6\",\"radialaxis\":{\"gridcolor\":\"white\",\"linecolor\":\"white\",\"ticks\":\"\"}},\"scene\":{\"xaxis\":{\"backgroundcolor\":\"#E5ECF6\",\"gridcolor\":\"white\",\"gridwidth\":2,\"linecolor\":\"white\",\"showbackground\":true,\"ticks\":\"\",\"zerolinecolor\":\"white\"},\"yaxis\":{\"backgroundcolor\":\"#E5ECF6\",\"gridcolor\":\"white\",\"gridwidth\":2,\"linecolor\":\"white\",\"showbackground\":true,\"ticks\":\"\",\"zerolinecolor\":\"white\"},\"zaxis\":{\"backgroundcolor\":\"#E5ECF6\",\"gridcolor\":\"white\",\"gridwidth\":2,\"linecolor\":\"white\",\"showbackground\":true,\"ticks\":\"\",\"zerolinecolor\":\"white\"}},\"shapedefaults\":{\"line\":{\"color\":\"#2a3f5f\"}},\"ternary\":{\"aaxis\":{\"gridcolor\":\"white\",\"linecolor\":\"white\",\"ticks\":\"\"},\"baxis\":{\"gridcolor\":\"white\",\"linecolor\":\"white\",\"ticks\":\"\"},\"bgcolor\":\"#E5ECF6\",\"caxis\":{\"gridcolor\":\"white\",\"linecolor\":\"white\",\"ticks\":\"\"}},\"title\":{\"x\":0.05},\"xaxis\":{\"automargin\":true,\"gridcolor\":\"white\",\"linecolor\":\"white\",\"ticks\":\"\",\"title\":{\"standoff\":15},\"zerolinecolor\":\"white\",\"zerolinewidth\":2},\"yaxis\":{\"automargin\":true,\"gridcolor\":\"white\",\"linecolor\":\"white\",\"ticks\":\"\",\"title\":{\"standoff\":15},\"zerolinecolor\":\"white\",\"zerolinewidth\":2}}},\"title\":{\"text\":\"Average Temperature \\u00b0C in Norway\"},\"width\":900,\"xaxis\":{\"anchor\":\"y\",\"domain\":[0.0,1.0],\"title\":{\"text\":\"Year\"}},\"yaxis\":{\"anchor\":\"x\",\"domain\":[0.0,1.0],\"title\":{\"text\":\"value\"}}},                        {\"responsive\": true}                    ).then(function(){\n",
              "                            \n",
              "var gd = document.getElementById('1fe17ab8-3730-4e3f-905c-9d1c7ee7d176');\n",
              "var x = new MutationObserver(function (mutations, observer) {{\n",
              "        var display = window.getComputedStyle(gd).display;\n",
              "        if (!display || display === 'none') {{\n",
              "            console.log([gd, 'removed!']);\n",
              "            Plotly.purge(gd);\n",
              "            observer.disconnect();\n",
              "        }}\n",
              "}});\n",
              "\n",
              "// Listen for the removal of the full notebook cells\n",
              "var notebookContainer = gd.closest('#notebook-container');\n",
              "if (notebookContainer) {{\n",
              "    x.observe(notebookContainer, {childList: true});\n",
              "}}\n",
              "\n",
              "// Listen for the clearing of the current output cell\n",
              "var outputEl = gd.closest('.output');\n",
              "if (outputEl) {{\n",
              "    x.observe(outputEl, {childList: true});\n",
              "}}\n",
              "\n",
              "                        })                };                            </script>        </div>\n",
              "</body>\n",
              "</html>"
            ]
          },
          "metadata": {
            "tags": []
          }
        }
      ]
    },
    {
      "cell_type": "markdown",
      "metadata": {
        "id": "2xjMWLlJRKCX"
      },
      "source": [
        "#Temperatures Spatial Analysis"
      ]
    },
    {
      "cell_type": "markdown",
      "metadata": {
        "id": "3MIpA0oKRaTu"
      },
      "source": [
        "Global Land Temperature Data by Major City from 1850－2015 can be found [here](https://data.world/data-society/global-climate-change-data)"
      ]
    },
    {
      "cell_type": "markdown",
      "metadata": {
        "id": "2WcA5QaFRz7_"
      },
      "source": [
        "## Uploading packages and data"
      ]
    },
    {
      "cell_type": "code",
      "metadata": {
        "id": "W_dCdsr5Rz8A"
      },
      "source": [
        "#Importing necessary packages\n",
        "import numpy as np\n",
        "import pandas as pd\n",
        "import matplotlib.pyplot as plt\n",
        "import seaborn as sns\n",
        "import plotly.express as px"
      ],
      "execution_count": null,
      "outputs": []
    },
    {
      "cell_type": "code",
      "metadata": {
        "id": "unEAUv9gRz8B"
      },
      "source": [
        "#Pip install plotly --upgrade\n",
        "!pip install plotly --upgrade"
      ],
      "execution_count": null,
      "outputs": []
    },
    {
      "cell_type": "code",
      "metadata": {
        "id": "MD8rfYvHRz8B"
      },
      "source": [
        "#Remove previous versions of the uploaded file\n",
        "!rm GlobalLandTemperaturesByMajorCity.csv"
      ],
      "execution_count": null,
      "outputs": []
    },
    {
      "cell_type": "code",
      "metadata": {
        "id": "rHzJCbEdRz8C"
      },
      "source": [
        "#Uploading file from local drive\n",
        "from google.colab import files\n",
        "uploaded2 = files.upload()"
      ],
      "execution_count": null,
      "outputs": []
    },
    {
      "cell_type": "code",
      "metadata": {
        "id": "UE3BIxaLRz8E"
      },
      "source": [
        "#Storing dataset in a Pandas Dataframe\n",
        "import io\n",
        "df2_ci = pd.read_csv(io.BytesIO(uploaded2['GlobalLandTemperaturesByMajorCity.csv']))"
      ],
      "execution_count": 19,
      "outputs": []
    },
    {
      "cell_type": "code",
      "metadata": {
        "colab": {
          "base_uri": "https://localhost:8080/"
        },
        "id": "8DuWaxtvRz8F",
        "outputId": "88064150-0eca-4aca-9316-e5f1f83f03a0"
      },
      "source": [
        "#Checking the dataframe information\n",
        "df2_ci.info()"
      ],
      "execution_count": 21,
      "outputs": [
        {
          "output_type": "stream",
          "text": [
            "<class 'pandas.core.frame.DataFrame'>\n",
            "RangeIndex: 239177 entries, 0 to 239176\n",
            "Data columns (total 7 columns):\n",
            " #   Column                         Non-Null Count   Dtype  \n",
            "---  ------                         --------------   -----  \n",
            " 0   dt                             239177 non-null  object \n",
            " 1   AverageTemperature             228175 non-null  float64\n",
            " 2   AverageTemperatureUncertainty  228175 non-null  float64\n",
            " 3   City                           239177 non-null  object \n",
            " 4   Country                        239177 non-null  object \n",
            " 5   Latitude                       239177 non-null  object \n",
            " 6   Longitude                      239177 non-null  object \n",
            "dtypes: float64(2), object(5)\n",
            "memory usage: 12.8+ MB\n"
          ],
          "name": "stdout"
        }
      ]
    },
    {
      "cell_type": "markdown",
      "metadata": {
        "id": "x2UBuY7UV_Eh"
      },
      "source": [
        "##Data Cleaning"
      ]
    },
    {
      "cell_type": "code",
      "metadata": {
        "colab": {
          "base_uri": "https://localhost:8080/"
        },
        "id": "-sQdmc1sWCbN",
        "outputId": "269fbe29-901f-4272-cf91-18341bb2fea8"
      },
      "source": [
        "#Checking for missing values the in dataframe\n",
        "df2_ci.isna().sum()"
      ],
      "execution_count": 22,
      "outputs": [
        {
          "output_type": "execute_result",
          "data": {
            "text/plain": [
              "dt                                   0\n",
              "AverageTemperature               11002\n",
              "AverageTemperatureUncertainty    11002\n",
              "City                                 0\n",
              "Country                              0\n",
              "Latitude                             0\n",
              "Longitude                            0\n",
              "dtype: int64"
            ]
          },
          "metadata": {
            "tags": []
          },
          "execution_count": 22
        }
      ]
    },
    {
      "cell_type": "code",
      "metadata": {
        "colab": {
          "base_uri": "https://localhost:8080/"
        },
        "id": "y3vvScNlWCbO",
        "outputId": "ab70b741-d3fc-4eb6-8720-fc66186ec850"
      },
      "source": [
        "#Removing missing values\n",
        "df2_ci.dropna(axis=0, how='any', subset=['AverageTemperature'], inplace=True)\n",
        "df2_ci.isna().sum()"
      ],
      "execution_count": 23,
      "outputs": [
        {
          "output_type": "execute_result",
          "data": {
            "text/plain": [
              "dt                               0\n",
              "AverageTemperature               0\n",
              "AverageTemperatureUncertainty    0\n",
              "City                             0\n",
              "Country                          0\n",
              "Latitude                         0\n",
              "Longitude                        0\n",
              "dtype: int64"
            ]
          },
          "metadata": {
            "tags": []
          },
          "execution_count": 23
        }
      ]
    },
    {
      "cell_type": "code",
      "metadata": {
        "colab": {
          "base_uri": "https://localhost:8080/",
          "height": 204
        },
        "id": "Me904ZqrWCbP",
        "outputId": "60d767d1-6884-44c7-bb7f-3861f6e8c5b0"
      },
      "source": [
        "#Parsing date column to datetime object and reset index\n",
        "df2_ci['dt'] = pd.to_datetime(df2_ci['dt'], format='%Y-%m-%d %H:%M:%S', errors='coerce')\n",
        "df2_ci.reset_index(drop=True, inplace=True)\n",
        "df2_ci.head()"
      ],
      "execution_count": 24,
      "outputs": [
        {
          "output_type": "execute_result",
          "data": {
            "text/html": [
              "<div>\n",
              "<style scoped>\n",
              "    .dataframe tbody tr th:only-of-type {\n",
              "        vertical-align: middle;\n",
              "    }\n",
              "\n",
              "    .dataframe tbody tr th {\n",
              "        vertical-align: top;\n",
              "    }\n",
              "\n",
              "    .dataframe thead th {\n",
              "        text-align: right;\n",
              "    }\n",
              "</style>\n",
              "<table border=\"1\" class=\"dataframe\">\n",
              "  <thead>\n",
              "    <tr style=\"text-align: right;\">\n",
              "      <th></th>\n",
              "      <th>dt</th>\n",
              "      <th>AverageTemperature</th>\n",
              "      <th>AverageTemperatureUncertainty</th>\n",
              "      <th>City</th>\n",
              "      <th>Country</th>\n",
              "      <th>Latitude</th>\n",
              "      <th>Longitude</th>\n",
              "    </tr>\n",
              "  </thead>\n",
              "  <tbody>\n",
              "    <tr>\n",
              "      <th>0</th>\n",
              "      <td>1849-01-01</td>\n",
              "      <td>26.704</td>\n",
              "      <td>1.435</td>\n",
              "      <td>Abidjan</td>\n",
              "      <td>Côte D'Ivoire</td>\n",
              "      <td>5.63N</td>\n",
              "      <td>3.23W</td>\n",
              "    </tr>\n",
              "    <tr>\n",
              "      <th>1</th>\n",
              "      <td>1849-02-01</td>\n",
              "      <td>27.434</td>\n",
              "      <td>1.362</td>\n",
              "      <td>Abidjan</td>\n",
              "      <td>Côte D'Ivoire</td>\n",
              "      <td>5.63N</td>\n",
              "      <td>3.23W</td>\n",
              "    </tr>\n",
              "    <tr>\n",
              "      <th>2</th>\n",
              "      <td>1849-03-01</td>\n",
              "      <td>28.101</td>\n",
              "      <td>1.612</td>\n",
              "      <td>Abidjan</td>\n",
              "      <td>Côte D'Ivoire</td>\n",
              "      <td>5.63N</td>\n",
              "      <td>3.23W</td>\n",
              "    </tr>\n",
              "    <tr>\n",
              "      <th>3</th>\n",
              "      <td>1849-04-01</td>\n",
              "      <td>26.140</td>\n",
              "      <td>1.387</td>\n",
              "      <td>Abidjan</td>\n",
              "      <td>Côte D'Ivoire</td>\n",
              "      <td>5.63N</td>\n",
              "      <td>3.23W</td>\n",
              "    </tr>\n",
              "    <tr>\n",
              "      <th>4</th>\n",
              "      <td>1849-05-01</td>\n",
              "      <td>25.427</td>\n",
              "      <td>1.200</td>\n",
              "      <td>Abidjan</td>\n",
              "      <td>Côte D'Ivoire</td>\n",
              "      <td>5.63N</td>\n",
              "      <td>3.23W</td>\n",
              "    </tr>\n",
              "  </tbody>\n",
              "</table>\n",
              "</div>"
            ],
            "text/plain": [
              "          dt  AverageTemperature  ...  Latitude Longitude\n",
              "0 1849-01-01              26.704  ...     5.63N     3.23W\n",
              "1 1849-02-01              27.434  ...     5.63N     3.23W\n",
              "2 1849-03-01              28.101  ...     5.63N     3.23W\n",
              "3 1849-04-01              26.140  ...     5.63N     3.23W\n",
              "4 1849-05-01              25.427  ...     5.63N     3.23W\n",
              "\n",
              "[5 rows x 7 columns]"
            ]
          },
          "metadata": {
            "tags": []
          },
          "execution_count": 24
        }
      ]
    },
    {
      "cell_type": "code",
      "metadata": {
        "colab": {
          "base_uri": "https://localhost:8080/"
        },
        "id": "H4Y6qSR9WgZH",
        "outputId": "7bd7db80-fecb-49a9-dfb5-97fae7065251"
      },
      "source": [
        "#Checking if there are duplicate values\n",
        "df2_ci['City'].unique()"
      ],
      "execution_count": 26,
      "outputs": [
        {
          "output_type": "execute_result",
          "data": {
            "text/plain": [
              "array(['Abidjan', 'Addis Abeba', 'Ahmadabad', 'Aleppo', 'Alexandria',\n",
              "       'Ankara', 'Baghdad', 'Bangalore', 'Bangkok', 'Belo Horizonte',\n",
              "       'Berlin', 'Bogotá', 'Bombay', 'Brasília', 'Cairo', 'Calcutta',\n",
              "       'Cali', 'Cape Town', 'Casablanca', 'Changchun', 'Chengdu',\n",
              "       'Chicago', 'Chongqing', 'Dakar', 'Dalian', 'Dar Es Salaam',\n",
              "       'Delhi', 'Dhaka', 'Durban', 'Faisalabad', 'Fortaleza', 'Gizeh',\n",
              "       'Guangzhou', 'Harare', 'Harbin', 'Ho Chi Minh City', 'Hyderabad',\n",
              "       'Ibadan', 'Istanbul', 'Izmir', 'Jaipur', 'Jakarta', 'Jiddah',\n",
              "       'Jinan', 'Kabul', 'Kano', 'Kanpur', 'Karachi', 'Kiev', 'Kinshasa',\n",
              "       'Lagos', 'Lahore', 'Lakhnau', 'Lima', 'London', 'Los Angeles',\n",
              "       'Luanda', 'Madras', 'Madrid', 'Manila', 'Mashhad', 'Melbourne',\n",
              "       'Mexico', 'Mogadishu', 'Montreal', 'Moscow', 'Nagoya', 'Nagpur',\n",
              "       'Nairobi', 'Nanjing', 'New Delhi', 'New York', 'Paris', 'Peking',\n",
              "       'Pune', 'Rangoon', 'Rio De Janeiro', 'Riyadh', 'Rome', 'São Paulo',\n",
              "       'Saint Petersburg', 'Salvador', 'Santiago', 'Santo Domingo',\n",
              "       'Seoul', 'Shanghai', 'Shenyang', 'Singapore', 'Surabaya', 'Surat',\n",
              "       'Sydney', 'Taipei', 'Taiyuan', 'Tangshan', 'Tianjin', 'Tokyo',\n",
              "       'Toronto', 'Umm Durman', 'Wuhan', 'Xian'], dtype=object)"
            ]
          },
          "metadata": {
            "tags": []
          },
          "execution_count": 26
        }
      ]
    },
    {
      "cell_type": "markdown",
      "metadata": {
        "id": "IO26Vd0eZHUP"
      },
      "source": [
        "##Data Manipulation"
      ]
    },
    {
      "cell_type": "code",
      "metadata": {
        "colab": {
          "base_uri": "https://localhost:8080/",
          "height": 111
        },
        "id": "u9a9dWNfZJKS",
        "outputId": "7dd67a05-b443-4faf-8cde-d8e2684db90e"
      },
      "source": [
        "#Extracting year from datetime object and renaming columns\n",
        "df2_ci = df2_ci.assign(Year = df2_ci['dt'].dt.year, \n",
        "                       Month = df2_ci['dt'].dt.month)\n",
        "df2_ci = df2_ci.rename(columns={'AverageTemperature': 'Temp', 'AverageTemperatureUncertainty': 'Temp_uncer'})\n",
        "df2_ci.tail(2)"
      ],
      "execution_count": 37,
      "outputs": [
        {
          "output_type": "execute_result",
          "data": {
            "text/html": [
              "<div>\n",
              "<style scoped>\n",
              "    .dataframe tbody tr th:only-of-type {\n",
              "        vertical-align: middle;\n",
              "    }\n",
              "\n",
              "    .dataframe tbody tr th {\n",
              "        vertical-align: top;\n",
              "    }\n",
              "\n",
              "    .dataframe thead th {\n",
              "        text-align: right;\n",
              "    }\n",
              "</style>\n",
              "<table border=\"1\" class=\"dataframe\">\n",
              "  <thead>\n",
              "    <tr style=\"text-align: right;\">\n",
              "      <th></th>\n",
              "      <th>dt</th>\n",
              "      <th>Temp</th>\n",
              "      <th>Temp_uncer</th>\n",
              "      <th>City</th>\n",
              "      <th>Country</th>\n",
              "      <th>Latitude</th>\n",
              "      <th>Longitude</th>\n",
              "      <th>Year</th>\n",
              "      <th>Month</th>\n",
              "    </tr>\n",
              "  </thead>\n",
              "  <tbody>\n",
              "    <tr>\n",
              "      <th>228173</th>\n",
              "      <td>2013-07-01</td>\n",
              "      <td>25.251</td>\n",
              "      <td>1.042</td>\n",
              "      <td>Xian</td>\n",
              "      <td>China</td>\n",
              "      <td>34.56N</td>\n",
              "      <td>108.97E</td>\n",
              "      <td>2013</td>\n",
              "      <td>7</td>\n",
              "    </tr>\n",
              "    <tr>\n",
              "      <th>228174</th>\n",
              "      <td>2013-08-01</td>\n",
              "      <td>24.528</td>\n",
              "      <td>0.840</td>\n",
              "      <td>Xian</td>\n",
              "      <td>China</td>\n",
              "      <td>34.56N</td>\n",
              "      <td>108.97E</td>\n",
              "      <td>2013</td>\n",
              "      <td>8</td>\n",
              "    </tr>\n",
              "  </tbody>\n",
              "</table>\n",
              "</div>"
            ],
            "text/plain": [
              "               dt    Temp  Temp_uncer  City  ... Latitude Longitude  Year  Month\n",
              "228173 2013-07-01  25.251       1.042  Xian  ...   34.56N   108.97E  2013      7\n",
              "228174 2013-08-01  24.528       0.840  Xian  ...   34.56N   108.97E  2013      8\n",
              "\n",
              "[2 rows x 9 columns]"
            ]
          },
          "metadata": {
            "tags": []
          },
          "execution_count": 37
        }
      ]
    },
    {
      "cell_type": "code",
      "metadata": {
        "colab": {
          "base_uri": "https://localhost:8080/",
          "height": 111
        },
        "id": "S_EfigEPd2o4",
        "outputId": "41ddce5f-a8d2-4ff6-ff5a-e877546175b4"
      },
      "source": [
        "#Creating categories for each decade\n",
        "df2_ci = df2_ci.assign(Decade = df2_ci['Year'].astype(str).str[:3] + \"0\")\n",
        "df2_ci.tail(2)"
      ],
      "execution_count": 51,
      "outputs": [
        {
          "output_type": "execute_result",
          "data": {
            "text/html": [
              "<div>\n",
              "<style scoped>\n",
              "    .dataframe tbody tr th:only-of-type {\n",
              "        vertical-align: middle;\n",
              "    }\n",
              "\n",
              "    .dataframe tbody tr th {\n",
              "        vertical-align: top;\n",
              "    }\n",
              "\n",
              "    .dataframe thead th {\n",
              "        text-align: right;\n",
              "    }\n",
              "</style>\n",
              "<table border=\"1\" class=\"dataframe\">\n",
              "  <thead>\n",
              "    <tr style=\"text-align: right;\">\n",
              "      <th></th>\n",
              "      <th>dt</th>\n",
              "      <th>Temp</th>\n",
              "      <th>Temp_uncer</th>\n",
              "      <th>City</th>\n",
              "      <th>Country</th>\n",
              "      <th>Latitude</th>\n",
              "      <th>Longitude</th>\n",
              "      <th>Year</th>\n",
              "      <th>Month</th>\n",
              "      <th>Decade</th>\n",
              "    </tr>\n",
              "  </thead>\n",
              "  <tbody>\n",
              "    <tr>\n",
              "      <th>228173</th>\n",
              "      <td>2013-07-01</td>\n",
              "      <td>25.251</td>\n",
              "      <td>1.042</td>\n",
              "      <td>Xian</td>\n",
              "      <td>China</td>\n",
              "      <td>34.56N</td>\n",
              "      <td>108.97E</td>\n",
              "      <td>2013</td>\n",
              "      <td>7</td>\n",
              "      <td>2010</td>\n",
              "    </tr>\n",
              "    <tr>\n",
              "      <th>228174</th>\n",
              "      <td>2013-08-01</td>\n",
              "      <td>24.528</td>\n",
              "      <td>0.840</td>\n",
              "      <td>Xian</td>\n",
              "      <td>China</td>\n",
              "      <td>34.56N</td>\n",
              "      <td>108.97E</td>\n",
              "      <td>2013</td>\n",
              "      <td>8</td>\n",
              "      <td>2010</td>\n",
              "    </tr>\n",
              "  </tbody>\n",
              "</table>\n",
              "</div>"
            ],
            "text/plain": [
              "               dt    Temp  Temp_uncer  City  ... Longitude  Year Month  Decade\n",
              "228173 2013-07-01  25.251       1.042  Xian  ...   108.97E  2013     7    2010\n",
              "228174 2013-08-01  24.528       0.840  Xian  ...   108.97E  2013     8    2010\n",
              "\n",
              "[2 rows x 10 columns]"
            ]
          },
          "metadata": {
            "tags": []
          },
          "execution_count": 51
        }
      ]
    },
    {
      "cell_type": "code",
      "metadata": {
        "colab": {
          "base_uri": "https://localhost:8080/"
        },
        "id": "zia3U4rRhU9j",
        "outputId": "2e38b06a-532b-4d3a-f1bc-5665f41d2bfb"
      },
      "source": [
        "df2_ci.Decade.unique()"
      ],
      "execution_count": 52,
      "outputs": [
        {
          "output_type": "execute_result",
          "data": {
            "text/plain": [
              "array(['1840', '1850', '1860', '1870', '1880', '1890', '1900', '1910',\n",
              "       '1920', '1930', '1940', '1950', '1960', '1970', '1980', '1990',\n",
              "       '2000', '2010', '1790', '1800', '1810', '1820', '1830', '1750',\n",
              "       '1760', '1770', '1780', '1740'], dtype=object)"
            ]
          },
          "metadata": {
            "tags": []
          },
          "execution_count": 52
        }
      ]
    },
    {
      "cell_type": "code",
      "metadata": {
        "colab": {
          "base_uri": "https://localhost:8080/",
          "height": 111
        },
        "id": "R4b5xGESZ45D",
        "outputId": "124eb30d-c922-4dd9-fa3f-2ece1a9b5fc3"
      },
      "source": [
        "#Slicing dataframe from 1900 to 2013\n",
        "years = [i for i in range(1900, 2014)]\n",
        "df2_yr = df2_ci[df2_ci['Year'].isin(years)].copy().reset_index(drop=True)\n",
        "df2_yr = df2_yr[['dt', 'Year', 'Month', 'Decade', 'Temp', 'Country', 'City', 'Latitude', 'Longitude']]\n",
        "df2_yr.tail(2)"
      ],
      "execution_count": 53,
      "outputs": [
        {
          "output_type": "execute_result",
          "data": {
            "text/html": [
              "<div>\n",
              "<style scoped>\n",
              "    .dataframe tbody tr th:only-of-type {\n",
              "        vertical-align: middle;\n",
              "    }\n",
              "\n",
              "    .dataframe tbody tr th {\n",
              "        vertical-align: top;\n",
              "    }\n",
              "\n",
              "    .dataframe thead th {\n",
              "        text-align: right;\n",
              "    }\n",
              "</style>\n",
              "<table border=\"1\" class=\"dataframe\">\n",
              "  <thead>\n",
              "    <tr style=\"text-align: right;\">\n",
              "      <th></th>\n",
              "      <th>dt</th>\n",
              "      <th>Year</th>\n",
              "      <th>Month</th>\n",
              "      <th>Decade</th>\n",
              "      <th>Temp</th>\n",
              "      <th>Country</th>\n",
              "      <th>City</th>\n",
              "      <th>Latitude</th>\n",
              "      <th>Longitude</th>\n",
              "    </tr>\n",
              "  </thead>\n",
              "  <tbody>\n",
              "    <tr>\n",
              "      <th>136405</th>\n",
              "      <td>2013-07-01</td>\n",
              "      <td>2013</td>\n",
              "      <td>7</td>\n",
              "      <td>2010</td>\n",
              "      <td>25.251</td>\n",
              "      <td>China</td>\n",
              "      <td>Xian</td>\n",
              "      <td>34.56N</td>\n",
              "      <td>108.97E</td>\n",
              "    </tr>\n",
              "    <tr>\n",
              "      <th>136406</th>\n",
              "      <td>2013-08-01</td>\n",
              "      <td>2013</td>\n",
              "      <td>8</td>\n",
              "      <td>2010</td>\n",
              "      <td>24.528</td>\n",
              "      <td>China</td>\n",
              "      <td>Xian</td>\n",
              "      <td>34.56N</td>\n",
              "      <td>108.97E</td>\n",
              "    </tr>\n",
              "  </tbody>\n",
              "</table>\n",
              "</div>"
            ],
            "text/plain": [
              "               dt  Year  Month Decade    Temp Country  City Latitude Longitude\n",
              "136405 2013-07-01  2013      7   2010  25.251   China  Xian   34.56N   108.97E\n",
              "136406 2013-08-01  2013      8   2010  24.528   China  Xian   34.56N   108.97E"
            ]
          },
          "metadata": {
            "tags": []
          },
          "execution_count": 53
        }
      ]
    },
    {
      "cell_type": "code",
      "metadata": {
        "colab": {
          "base_uri": "https://localhost:8080/",
          "height": 111
        },
        "id": "k2gFtBuWi3zz",
        "outputId": "939f3754-ff18-49b6-c2d6-7b9fe2fe004f"
      },
      "source": [
        "#Creating first dataframe grouped by decade and month\n",
        "df2_dec = df2_yr.groupby(['Country', 'City', 'Decade', 'Month']).agg(Temp_mean = ('Temp', 'mean')).reset_index()\n",
        "df2_dec.tail(2)"
      ],
      "execution_count": 55,
      "outputs": [
        {
          "output_type": "execute_result",
          "data": {
            "text/html": [
              "<div>\n",
              "<style scoped>\n",
              "    .dataframe tbody tr th:only-of-type {\n",
              "        vertical-align: middle;\n",
              "    }\n",
              "\n",
              "    .dataframe tbody tr th {\n",
              "        vertical-align: top;\n",
              "    }\n",
              "\n",
              "    .dataframe thead th {\n",
              "        text-align: right;\n",
              "    }\n",
              "</style>\n",
              "<table border=\"1\" class=\"dataframe\">\n",
              "  <thead>\n",
              "    <tr style=\"text-align: right;\">\n",
              "      <th></th>\n",
              "      <th>Country</th>\n",
              "      <th>City</th>\n",
              "      <th>Decade</th>\n",
              "      <th>Month</th>\n",
              "      <th>Temp_mean</th>\n",
              "    </tr>\n",
              "  </thead>\n",
              "  <tbody>\n",
              "    <tr>\n",
              "      <th>14398</th>\n",
              "      <td>Zimbabwe</td>\n",
              "      <td>Harare</td>\n",
              "      <td>2010</td>\n",
              "      <td>11</td>\n",
              "      <td>24.027333</td>\n",
              "    </tr>\n",
              "    <tr>\n",
              "      <th>14399</th>\n",
              "      <td>Zimbabwe</td>\n",
              "      <td>Harare</td>\n",
              "      <td>2010</td>\n",
              "      <td>12</td>\n",
              "      <td>22.614000</td>\n",
              "    </tr>\n",
              "  </tbody>\n",
              "</table>\n",
              "</div>"
            ],
            "text/plain": [
              "        Country    City Decade  Month  Temp_mean\n",
              "14398  Zimbabwe  Harare   2010     11  24.027333\n",
              "14399  Zimbabwe  Harare   2010     12  22.614000"
            ]
          },
          "metadata": {
            "tags": []
          },
          "execution_count": 55
        }
      ]
    },
    {
      "cell_type": "code",
      "metadata": {
        "colab": {
          "base_uri": "https://localhost:8080/",
          "height": 17
        },
        "id": "demfTUy-jzeO",
        "outputId": "3d5a5e77-1470-4b25-cdfb-69f7881488e9"
      },
      "source": [
        "#Exporting to excel in local disk\n",
        "from google.colab import files\n",
        "df2_dec.to_excel('temp_city_and_decade.xlsx', index=False) #==> Excluding index from file\n",
        "files.download('temp_city_and_decade.xlsx')"
      ],
      "execution_count": 56,
      "outputs": [
        {
          "output_type": "display_data",
          "data": {
            "application/javascript": [
              "\n",
              "    async function download(id, filename, size) {\n",
              "      if (!google.colab.kernel.accessAllowed) {\n",
              "        return;\n",
              "      }\n",
              "      const div = document.createElement('div');\n",
              "      const label = document.createElement('label');\n",
              "      label.textContent = `Downloading \"${filename}\": `;\n",
              "      div.appendChild(label);\n",
              "      const progress = document.createElement('progress');\n",
              "      progress.max = size;\n",
              "      div.appendChild(progress);\n",
              "      document.body.appendChild(div);\n",
              "\n",
              "      const buffers = [];\n",
              "      let downloaded = 0;\n",
              "\n",
              "      const channel = await google.colab.kernel.comms.open(id);\n",
              "      // Send a message to notify the kernel that we're ready.\n",
              "      channel.send({})\n",
              "\n",
              "      for await (const message of channel.messages) {\n",
              "        // Send a message to notify the kernel that we're ready.\n",
              "        channel.send({})\n",
              "        if (message.buffers) {\n",
              "          for (const buffer of message.buffers) {\n",
              "            buffers.push(buffer);\n",
              "            downloaded += buffer.byteLength;\n",
              "            progress.value = downloaded;\n",
              "          }\n",
              "        }\n",
              "      }\n",
              "      const blob = new Blob(buffers, {type: 'application/binary'});\n",
              "      const a = document.createElement('a');\n",
              "      a.href = window.URL.createObjectURL(blob);\n",
              "      a.download = filename;\n",
              "      div.appendChild(a);\n",
              "      a.click();\n",
              "      div.remove();\n",
              "    }\n",
              "  "
            ],
            "text/plain": [
              "<IPython.core.display.Javascript object>"
            ]
          },
          "metadata": {
            "tags": []
          }
        },
        {
          "output_type": "display_data",
          "data": {
            "application/javascript": [
              "download(\"download_231e349a-bcb9-4c55-a53c-5e740c850425\", \"temp_cities_and_decade.xlsx\", 344594)"
            ],
            "text/plain": [
              "<IPython.core.display.Javascript object>"
            ]
          },
          "metadata": {
            "tags": []
          }
        }
      ]
    },
    {
      "cell_type": "code",
      "metadata": {
        "colab": {
          "base_uri": "https://localhost:8080/",
          "height": 111
        },
        "id": "VWi5mj-EkVfz",
        "outputId": "631725c8-bff3-4bd4-a750-a1a91626cab8"
      },
      "source": [
        "#Creating second dataframe grouped by decade, latitude and longitude\n",
        "df2_loc = df2_yr.groupby(['Country', 'City', 'Decade', 'Latitude', 'Longitude']).agg(Mean_temp = ('Temp', 'mean')).reset_index()\n",
        "df2_loc.tail(2)"
      ],
      "execution_count": 63,
      "outputs": [
        {
          "output_type": "execute_result",
          "data": {
            "text/html": [
              "<div>\n",
              "<style scoped>\n",
              "    .dataframe tbody tr th:only-of-type {\n",
              "        vertical-align: middle;\n",
              "    }\n",
              "\n",
              "    .dataframe tbody tr th {\n",
              "        vertical-align: top;\n",
              "    }\n",
              "\n",
              "    .dataframe thead th {\n",
              "        text-align: right;\n",
              "    }\n",
              "</style>\n",
              "<table border=\"1\" class=\"dataframe\">\n",
              "  <thead>\n",
              "    <tr style=\"text-align: right;\">\n",
              "      <th></th>\n",
              "      <th>Country</th>\n",
              "      <th>City</th>\n",
              "      <th>Decade</th>\n",
              "      <th>Latitude</th>\n",
              "      <th>Longitude</th>\n",
              "      <th>Mean_temp</th>\n",
              "    </tr>\n",
              "  </thead>\n",
              "  <tbody>\n",
              "    <tr>\n",
              "      <th>1198</th>\n",
              "      <td>Zimbabwe</td>\n",
              "      <td>Harare</td>\n",
              "      <td>2000</td>\n",
              "      <td>18.48S</td>\n",
              "      <td>30.42E</td>\n",
              "      <td>20.755858</td>\n",
              "    </tr>\n",
              "    <tr>\n",
              "      <th>1199</th>\n",
              "      <td>Zimbabwe</td>\n",
              "      <td>Harare</td>\n",
              "      <td>2010</td>\n",
              "      <td>18.48S</td>\n",
              "      <td>30.42E</td>\n",
              "      <td>20.629614</td>\n",
              "    </tr>\n",
              "  </tbody>\n",
              "</table>\n",
              "</div>"
            ],
            "text/plain": [
              "       Country    City Decade Latitude Longitude  Mean_temp\n",
              "1198  Zimbabwe  Harare   2000   18.48S    30.42E  20.755858\n",
              "1199  Zimbabwe  Harare   2010   18.48S    30.42E  20.629614"
            ]
          },
          "metadata": {
            "tags": []
          },
          "execution_count": 63
        }
      ]
    },
    {
      "cell_type": "code",
      "metadata": {
        "colab": {
          "base_uri": "https://localhost:8080/",
          "height": 111
        },
        "id": "WzTJEJMqkVoT",
        "outputId": "1eb9556f-06f0-48fb-a62c-99b79ff5481c"
      },
      "source": [
        "#Converting string latitude and longitude into float\n",
        "df2_loc = df2_loc.assign(Latitude = df2_loc['Latitude'].str[:-1].astype(float), \n",
        "                         Longitude = df2_loc['Longitude'].str[:-1].astype(float))\n",
        "df2_loc.tail(2)"
      ],
      "execution_count": 64,
      "outputs": [
        {
          "output_type": "execute_result",
          "data": {
            "text/html": [
              "<div>\n",
              "<style scoped>\n",
              "    .dataframe tbody tr th:only-of-type {\n",
              "        vertical-align: middle;\n",
              "    }\n",
              "\n",
              "    .dataframe tbody tr th {\n",
              "        vertical-align: top;\n",
              "    }\n",
              "\n",
              "    .dataframe thead th {\n",
              "        text-align: right;\n",
              "    }\n",
              "</style>\n",
              "<table border=\"1\" class=\"dataframe\">\n",
              "  <thead>\n",
              "    <tr style=\"text-align: right;\">\n",
              "      <th></th>\n",
              "      <th>Country</th>\n",
              "      <th>City</th>\n",
              "      <th>Decade</th>\n",
              "      <th>Latitude</th>\n",
              "      <th>Longitude</th>\n",
              "      <th>Mean_temp</th>\n",
              "    </tr>\n",
              "  </thead>\n",
              "  <tbody>\n",
              "    <tr>\n",
              "      <th>1198</th>\n",
              "      <td>Zimbabwe</td>\n",
              "      <td>Harare</td>\n",
              "      <td>2000</td>\n",
              "      <td>18.48</td>\n",
              "      <td>30.42</td>\n",
              "      <td>20.755858</td>\n",
              "    </tr>\n",
              "    <tr>\n",
              "      <th>1199</th>\n",
              "      <td>Zimbabwe</td>\n",
              "      <td>Harare</td>\n",
              "      <td>2010</td>\n",
              "      <td>18.48</td>\n",
              "      <td>30.42</td>\n",
              "      <td>20.629614</td>\n",
              "    </tr>\n",
              "  </tbody>\n",
              "</table>\n",
              "</div>"
            ],
            "text/plain": [
              "       Country    City Decade  Latitude  Longitude  Mean_temp\n",
              "1198  Zimbabwe  Harare   2000     18.48      30.42  20.755858\n",
              "1199  Zimbabwe  Harare   2010     18.48      30.42  20.629614"
            ]
          },
          "metadata": {
            "tags": []
          },
          "execution_count": 64
        }
      ]
    },
    {
      "cell_type": "code",
      "metadata": {
        "colab": {
          "base_uri": "https://localhost:8080/"
        },
        "id": "EJpPOjIXmTj1",
        "outputId": "b16f2c42-d0a9-4cad-9cf6-1c8b5d51ab52"
      },
      "source": [
        "#Checking consistency of latitude and longitude values\n",
        "df2_loc['Latitude'].unique(), df2_loc['Longitude'].unique()"
      ],
      "execution_count": 67,
      "outputs": [
        {
          "output_type": "execute_result",
          "data": {
            "text/plain": [
              "(array([34.56,  8.84, 37.78, 23.31, 20.09, 15.27,  4.02, 13.66, 16.87,\n",
              "        45.81, 44.2 , 32.95, 31.35, 29.74, 39.38, 36.17, 40.99,  5.63,\n",
              "        18.48, 49.03, 52.24, 12.05, 28.13, 26.52, 21.7 ,  7.23, 42.59,\n",
              "         0.8 , 24.92, 55.45, 60.27,  2.41, 50.63, 10.45]),\n",
              " array([ 70.05,  13.78, 144.41, 151.78,  90.  ,  44.36,  47.5 ,  40.98,\n",
              "         42.82,  38.81,  46.31,  95.44,  72.69,  80.5 ,  69.89, 125.22,\n",
              "        103.66, 107.08, 120.69, 112.72, 125.77, 117.35, 118.74, 116.53,\n",
              "        120.63, 123.55, 111.86, 113.9 , 114.46, 108.97,  74.73,  76.34,\n",
              "         15.27,   3.23,  69.3 ,  30.16,  31.38,  38.11,   2.45,  13.14,\n",
              "         72.52,  77.26,  72.68,  88.25,  77.27,  78.7 ,  75.22,  80.6 ,\n",
              "         80.09,  78.75,  74.37,  73.56, 106.55, 112.7 ,  59.67,  45.  ,\n",
              "         13.09, 136.22, 139.23,  36.16,  98.96,   6.7 ,   4.05,   8.22,\n",
              "         73.51,  67.39, 120.83,  36.85,  29.19,  38.94,  46.11,  17.5 ,\n",
              "         45.8 ,  18.19, 126.1 ,   4.26,  32.5 ,  37.79, 122.36,  39.73,\n",
              "         99.91,  33.29,  29.82,  26.44,  31.69,   0.  ,  87.27, 118.7 ,\n",
              "         74.56, 107.18,  30.42]))"
            ]
          },
          "metadata": {
            "tags": []
          },
          "execution_count": 67
        }
      ]
    },
    {
      "cell_type": "code",
      "metadata": {
        "colab": {
          "base_uri": "https://localhost:8080/",
          "height": 17
        },
        "id": "kiVYZlZLnRfD",
        "outputId": "927e3b49-3d7c-48d3-d203-485de1aaae3d"
      },
      "source": [
        "#Exporting to excel in local disk\n",
        "from google.colab import files\n",
        "df2_loc.to_excel('temp_city_lat_and_lon.xlsx', index=False) #==> Excluding index from file\n",
        "files.download('temp_city_lat_and_lon.xlsx')"
      ],
      "execution_count": 68,
      "outputs": [
        {
          "output_type": "display_data",
          "data": {
            "application/javascript": [
              "\n",
              "    async function download(id, filename, size) {\n",
              "      if (!google.colab.kernel.accessAllowed) {\n",
              "        return;\n",
              "      }\n",
              "      const div = document.createElement('div');\n",
              "      const label = document.createElement('label');\n",
              "      label.textContent = `Downloading \"${filename}\": `;\n",
              "      div.appendChild(label);\n",
              "      const progress = document.createElement('progress');\n",
              "      progress.max = size;\n",
              "      div.appendChild(progress);\n",
              "      document.body.appendChild(div);\n",
              "\n",
              "      const buffers = [];\n",
              "      let downloaded = 0;\n",
              "\n",
              "      const channel = await google.colab.kernel.comms.open(id);\n",
              "      // Send a message to notify the kernel that we're ready.\n",
              "      channel.send({})\n",
              "\n",
              "      for await (const message of channel.messages) {\n",
              "        // Send a message to notify the kernel that we're ready.\n",
              "        channel.send({})\n",
              "        if (message.buffers) {\n",
              "          for (const buffer of message.buffers) {\n",
              "            buffers.push(buffer);\n",
              "            downloaded += buffer.byteLength;\n",
              "            progress.value = downloaded;\n",
              "          }\n",
              "        }\n",
              "      }\n",
              "      const blob = new Blob(buffers, {type: 'application/binary'});\n",
              "      const a = document.createElement('a');\n",
              "      a.href = window.URL.createObjectURL(blob);\n",
              "      a.download = filename;\n",
              "      div.appendChild(a);\n",
              "      a.click();\n",
              "      div.remove();\n",
              "    }\n",
              "  "
            ],
            "text/plain": [
              "<IPython.core.display.Javascript object>"
            ]
          },
          "metadata": {
            "tags": []
          }
        },
        {
          "output_type": "display_data",
          "data": {
            "application/javascript": [
              "download(\"download_34416ef2-c001-468b-a923-d27437b9a31f\", \"temp_city_lat_lon.xlsx\", 39567)"
            ],
            "text/plain": [
              "<IPython.core.display.Javascript object>"
            ]
          },
          "metadata": {
            "tags": []
          }
        }
      ]
    },
    {
      "cell_type": "markdown",
      "metadata": {
        "id": "Gc_H-2PjniZk"
      },
      "source": [
        "##Data Visualization"
      ]
    },
    {
      "cell_type": "markdown",
      "metadata": {
        "id": "ILAJVEc8nmOx"
      },
      "source": [
        "###Histogram of Temperatures in Rio de Janeiro"
      ]
    },
    {
      "cell_type": "code",
      "metadata": {
        "colab": {
          "base_uri": "https://localhost:8080/",
          "height": 111
        },
        "id": "A9vJY0p6ois8",
        "outputId": "e74171a3-9535-4c65-d80c-2e1c81911e6b"
      },
      "source": [
        "#Creating a dataframe by city\n",
        "df2_by_city = df2_dec[df2_dec['City']=='Rio De Janeiro'].reset_index(drop=True)\n",
        "df2_by_city.tail(2)"
      ],
      "execution_count": 88,
      "outputs": [
        {
          "output_type": "execute_result",
          "data": {
            "text/html": [
              "<div>\n",
              "<style scoped>\n",
              "    .dataframe tbody tr th:only-of-type {\n",
              "        vertical-align: middle;\n",
              "    }\n",
              "\n",
              "    .dataframe tbody tr th {\n",
              "        vertical-align: top;\n",
              "    }\n",
              "\n",
              "    .dataframe thead th {\n",
              "        text-align: right;\n",
              "    }\n",
              "</style>\n",
              "<table border=\"1\" class=\"dataframe\">\n",
              "  <thead>\n",
              "    <tr style=\"text-align: right;\">\n",
              "      <th></th>\n",
              "      <th>Country</th>\n",
              "      <th>City</th>\n",
              "      <th>Decade</th>\n",
              "      <th>Month</th>\n",
              "      <th>Temp_mean</th>\n",
              "    </tr>\n",
              "  </thead>\n",
              "  <tbody>\n",
              "    <tr>\n",
              "      <th>142</th>\n",
              "      <td>Brazil</td>\n",
              "      <td>Rio De Janeiro</td>\n",
              "      <td>2010</td>\n",
              "      <td>11</td>\n",
              "      <td>23.210000</td>\n",
              "    </tr>\n",
              "    <tr>\n",
              "      <th>143</th>\n",
              "      <td>Brazil</td>\n",
              "      <td>Rio De Janeiro</td>\n",
              "      <td>2010</td>\n",
              "      <td>12</td>\n",
              "      <td>25.395333</td>\n",
              "    </tr>\n",
              "  </tbody>\n",
              "</table>\n",
              "</div>"
            ],
            "text/plain": [
              "    Country            City Decade  Month  Temp_mean\n",
              "142  Brazil  Rio De Janeiro   2010     11  23.210000\n",
              "143  Brazil  Rio De Janeiro   2010     12  25.395333"
            ]
          },
          "metadata": {
            "tags": []
          },
          "execution_count": 88
        }
      ]
    },
    {
      "cell_type": "code",
      "metadata": {
        "colab": {
          "base_uri": "https://localhost:8080/",
          "height": 111
        },
        "id": "di5_giGOs9RR",
        "outputId": "e7198167-507f-4f7d-f647-5a19cc582cda"
      },
      "source": [
        "#Creating a dataframe by decade\n",
        "df2_by_decade = df2_by_city.groupby(['Country', 'City', 'Decade'])['Temp_mean'].mean().reset_index()\n",
        "df2_by_decade.tail(2)"
      ],
      "execution_count": 89,
      "outputs": [
        {
          "output_type": "execute_result",
          "data": {
            "text/html": [
              "<div>\n",
              "<style scoped>\n",
              "    .dataframe tbody tr th:only-of-type {\n",
              "        vertical-align: middle;\n",
              "    }\n",
              "\n",
              "    .dataframe tbody tr th {\n",
              "        vertical-align: top;\n",
              "    }\n",
              "\n",
              "    .dataframe thead th {\n",
              "        text-align: right;\n",
              "    }\n",
              "</style>\n",
              "<table border=\"1\" class=\"dataframe\">\n",
              "  <thead>\n",
              "    <tr style=\"text-align: right;\">\n",
              "      <th></th>\n",
              "      <th>Country</th>\n",
              "      <th>City</th>\n",
              "      <th>Decade</th>\n",
              "      <th>Temp_mean</th>\n",
              "    </tr>\n",
              "  </thead>\n",
              "  <tbody>\n",
              "    <tr>\n",
              "      <th>10</th>\n",
              "      <td>Brazil</td>\n",
              "      <td>Rio De Janeiro</td>\n",
              "      <td>2000</td>\n",
              "      <td>24.704692</td>\n",
              "    </tr>\n",
              "    <tr>\n",
              "      <th>11</th>\n",
              "      <td>Brazil</td>\n",
              "      <td>Rio De Janeiro</td>\n",
              "      <td>2010</td>\n",
              "      <td>24.687542</td>\n",
              "    </tr>\n",
              "  </tbody>\n",
              "</table>\n",
              "</div>"
            ],
            "text/plain": [
              "   Country            City Decade  Temp_mean\n",
              "10  Brazil  Rio De Janeiro   2000  24.704692\n",
              "11  Brazil  Rio De Janeiro   2010  24.687542"
            ]
          },
          "metadata": {
            "tags": []
          },
          "execution_count": 89
        }
      ]
    },
    {
      "cell_type": "code",
      "metadata": {
        "colab": {
          "base_uri": "https://localhost:8080/",
          "height": 467
        },
        "id": "A-Gp6EE5nsvW",
        "outputId": "79fc2763-c1d0-444d-e139-9e0e9d13ff56"
      },
      "source": [
        "#Visualizing Histogram of temperatures from decade 2000\n",
        "fig2_1 = px.bar(data_frame=df2_by_decade[df2_by_decade['Decade']=='2010'], x='Month', y='Temp_mean',\n",
        "                title='Average Temperature °C Decade 2010 - Rio de Janeiro', width=900, height=450)\n",
        "fig2_1.show()"
      ],
      "execution_count": 85,
      "outputs": [
        {
          "output_type": "display_data",
          "data": {
            "text/html": [
              "<html>\n",
              "<head><meta charset=\"utf-8\" /></head>\n",
              "<body>\n",
              "    <div>            <script src=\"https://cdnjs.cloudflare.com/ajax/libs/mathjax/2.7.5/MathJax.js?config=TeX-AMS-MML_SVG\"></script><script type=\"text/javascript\">if (window.MathJax) {MathJax.Hub.Config({SVG: {font: \"STIX-Web\"}});}</script>                <script type=\"text/javascript\">window.PlotlyConfig = {MathJaxConfig: 'local'};</script>\n",
              "        <script src=\"https://cdn.plot.ly/plotly-2.1.0.min.js\"></script>                <div id=\"1697f2ef-ec83-4875-976f-c31f4b3492da\" class=\"plotly-graph-div\" style=\"height:450px; width:900px;\"></div>            <script type=\"text/javascript\">                                    window.PLOTLYENV=window.PLOTLYENV || {};                                    if (document.getElementById(\"1697f2ef-ec83-4875-976f-c31f4b3492da\")) {                    Plotly.newPlot(                        \"1697f2ef-ec83-4875-976f-c31f4b3492da\",                        [{\"alignmentgroup\":\"True\",\"hovertemplate\":\"Month=%{x}<br>Temp_mean=%{y}<extra></extra>\",\"legendgroup\":\"\",\"marker\":{\"color\":\"#636efa\",\"pattern\":{\"shape\":\"\"}},\"name\":\"\",\"offsetgroup\":\"\",\"orientation\":\"v\",\"showlegend\":false,\"textposition\":\"auto\",\"type\":\"bar\",\"x\":[1,2,3,4,5,6,7,8,9,10,11,12],\"xaxis\":\"x\",\"y\":[26.549,27.9085,26.73475,25.8135,24.264,23.92425,23.717,23.173499999999997,22.71733333333334,22.843333333333334,23.209999999999997,25.395333333333337],\"yaxis\":\"y\"}],                        {\"barmode\":\"relative\",\"height\":450,\"legend\":{\"tracegroupgap\":0},\"template\":{\"data\":{\"bar\":[{\"error_x\":{\"color\":\"#2a3f5f\"},\"error_y\":{\"color\":\"#2a3f5f\"},\"marker\":{\"line\":{\"color\":\"#E5ECF6\",\"width\":0.5},\"pattern\":{\"fillmode\":\"overlay\",\"size\":10,\"solidity\":0.2}},\"type\":\"bar\"}],\"barpolar\":[{\"marker\":{\"line\":{\"color\":\"#E5ECF6\",\"width\":0.5},\"pattern\":{\"fillmode\":\"overlay\",\"size\":10,\"solidity\":0.2}},\"type\":\"barpolar\"}],\"carpet\":[{\"aaxis\":{\"endlinecolor\":\"#2a3f5f\",\"gridcolor\":\"white\",\"linecolor\":\"white\",\"minorgridcolor\":\"white\",\"startlinecolor\":\"#2a3f5f\"},\"baxis\":{\"endlinecolor\":\"#2a3f5f\",\"gridcolor\":\"white\",\"linecolor\":\"white\",\"minorgridcolor\":\"white\",\"startlinecolor\":\"#2a3f5f\"},\"type\":\"carpet\"}],\"choropleth\":[{\"colorbar\":{\"outlinewidth\":0,\"ticks\":\"\"},\"type\":\"choropleth\"}],\"contour\":[{\"colorbar\":{\"outlinewidth\":0,\"ticks\":\"\"},\"colorscale\":[[0.0,\"#0d0887\"],[0.1111111111111111,\"#46039f\"],[0.2222222222222222,\"#7201a8\"],[0.3333333333333333,\"#9c179e\"],[0.4444444444444444,\"#bd3786\"],[0.5555555555555556,\"#d8576b\"],[0.6666666666666666,\"#ed7953\"],[0.7777777777777778,\"#fb9f3a\"],[0.8888888888888888,\"#fdca26\"],[1.0,\"#f0f921\"]],\"type\":\"contour\"}],\"contourcarpet\":[{\"colorbar\":{\"outlinewidth\":0,\"ticks\":\"\"},\"type\":\"contourcarpet\"}],\"heatmap\":[{\"colorbar\":{\"outlinewidth\":0,\"ticks\":\"\"},\"colorscale\":[[0.0,\"#0d0887\"],[0.1111111111111111,\"#46039f\"],[0.2222222222222222,\"#7201a8\"],[0.3333333333333333,\"#9c179e\"],[0.4444444444444444,\"#bd3786\"],[0.5555555555555556,\"#d8576b\"],[0.6666666666666666,\"#ed7953\"],[0.7777777777777778,\"#fb9f3a\"],[0.8888888888888888,\"#fdca26\"],[1.0,\"#f0f921\"]],\"type\":\"heatmap\"}],\"heatmapgl\":[{\"colorbar\":{\"outlinewidth\":0,\"ticks\":\"\"},\"colorscale\":[[0.0,\"#0d0887\"],[0.1111111111111111,\"#46039f\"],[0.2222222222222222,\"#7201a8\"],[0.3333333333333333,\"#9c179e\"],[0.4444444444444444,\"#bd3786\"],[0.5555555555555556,\"#d8576b\"],[0.6666666666666666,\"#ed7953\"],[0.7777777777777778,\"#fb9f3a\"],[0.8888888888888888,\"#fdca26\"],[1.0,\"#f0f921\"]],\"type\":\"heatmapgl\"}],\"histogram\":[{\"marker\":{\"pattern\":{\"fillmode\":\"overlay\",\"size\":10,\"solidity\":0.2}},\"type\":\"histogram\"}],\"histogram2d\":[{\"colorbar\":{\"outlinewidth\":0,\"ticks\":\"\"},\"colorscale\":[[0.0,\"#0d0887\"],[0.1111111111111111,\"#46039f\"],[0.2222222222222222,\"#7201a8\"],[0.3333333333333333,\"#9c179e\"],[0.4444444444444444,\"#bd3786\"],[0.5555555555555556,\"#d8576b\"],[0.6666666666666666,\"#ed7953\"],[0.7777777777777778,\"#fb9f3a\"],[0.8888888888888888,\"#fdca26\"],[1.0,\"#f0f921\"]],\"type\":\"histogram2d\"}],\"histogram2dcontour\":[{\"colorbar\":{\"outlinewidth\":0,\"ticks\":\"\"},\"colorscale\":[[0.0,\"#0d0887\"],[0.1111111111111111,\"#46039f\"],[0.2222222222222222,\"#7201a8\"],[0.3333333333333333,\"#9c179e\"],[0.4444444444444444,\"#bd3786\"],[0.5555555555555556,\"#d8576b\"],[0.6666666666666666,\"#ed7953\"],[0.7777777777777778,\"#fb9f3a\"],[0.8888888888888888,\"#fdca26\"],[1.0,\"#f0f921\"]],\"type\":\"histogram2dcontour\"}],\"mesh3d\":[{\"colorbar\":{\"outlinewidth\":0,\"ticks\":\"\"},\"type\":\"mesh3d\"}],\"parcoords\":[{\"line\":{\"colorbar\":{\"outlinewidth\":0,\"ticks\":\"\"}},\"type\":\"parcoords\"}],\"pie\":[{\"automargin\":true,\"type\":\"pie\"}],\"scatter\":[{\"marker\":{\"colorbar\":{\"outlinewidth\":0,\"ticks\":\"\"}},\"type\":\"scatter\"}],\"scatter3d\":[{\"line\":{\"colorbar\":{\"outlinewidth\":0,\"ticks\":\"\"}},\"marker\":{\"colorbar\":{\"outlinewidth\":0,\"ticks\":\"\"}},\"type\":\"scatter3d\"}],\"scattercarpet\":[{\"marker\":{\"colorbar\":{\"outlinewidth\":0,\"ticks\":\"\"}},\"type\":\"scattercarpet\"}],\"scattergeo\":[{\"marker\":{\"colorbar\":{\"outlinewidth\":0,\"ticks\":\"\"}},\"type\":\"scattergeo\"}],\"scattergl\":[{\"marker\":{\"colorbar\":{\"outlinewidth\":0,\"ticks\":\"\"}},\"type\":\"scattergl\"}],\"scattermapbox\":[{\"marker\":{\"colorbar\":{\"outlinewidth\":0,\"ticks\":\"\"}},\"type\":\"scattermapbox\"}],\"scatterpolar\":[{\"marker\":{\"colorbar\":{\"outlinewidth\":0,\"ticks\":\"\"}},\"type\":\"scatterpolar\"}],\"scatterpolargl\":[{\"marker\":{\"colorbar\":{\"outlinewidth\":0,\"ticks\":\"\"}},\"type\":\"scatterpolargl\"}],\"scatterternary\":[{\"marker\":{\"colorbar\":{\"outlinewidth\":0,\"ticks\":\"\"}},\"type\":\"scatterternary\"}],\"surface\":[{\"colorbar\":{\"outlinewidth\":0,\"ticks\":\"\"},\"colorscale\":[[0.0,\"#0d0887\"],[0.1111111111111111,\"#46039f\"],[0.2222222222222222,\"#7201a8\"],[0.3333333333333333,\"#9c179e\"],[0.4444444444444444,\"#bd3786\"],[0.5555555555555556,\"#d8576b\"],[0.6666666666666666,\"#ed7953\"],[0.7777777777777778,\"#fb9f3a\"],[0.8888888888888888,\"#fdca26\"],[1.0,\"#f0f921\"]],\"type\":\"surface\"}],\"table\":[{\"cells\":{\"fill\":{\"color\":\"#EBF0F8\"},\"line\":{\"color\":\"white\"}},\"header\":{\"fill\":{\"color\":\"#C8D4E3\"},\"line\":{\"color\":\"white\"}},\"type\":\"table\"}]},\"layout\":{\"annotationdefaults\":{\"arrowcolor\":\"#2a3f5f\",\"arrowhead\":0,\"arrowwidth\":1},\"autotypenumbers\":\"strict\",\"coloraxis\":{\"colorbar\":{\"outlinewidth\":0,\"ticks\":\"\"}},\"colorscale\":{\"diverging\":[[0,\"#8e0152\"],[0.1,\"#c51b7d\"],[0.2,\"#de77ae\"],[0.3,\"#f1b6da\"],[0.4,\"#fde0ef\"],[0.5,\"#f7f7f7\"],[0.6,\"#e6f5d0\"],[0.7,\"#b8e186\"],[0.8,\"#7fbc41\"],[0.9,\"#4d9221\"],[1,\"#276419\"]],\"sequential\":[[0.0,\"#0d0887\"],[0.1111111111111111,\"#46039f\"],[0.2222222222222222,\"#7201a8\"],[0.3333333333333333,\"#9c179e\"],[0.4444444444444444,\"#bd3786\"],[0.5555555555555556,\"#d8576b\"],[0.6666666666666666,\"#ed7953\"],[0.7777777777777778,\"#fb9f3a\"],[0.8888888888888888,\"#fdca26\"],[1.0,\"#f0f921\"]],\"sequentialminus\":[[0.0,\"#0d0887\"],[0.1111111111111111,\"#46039f\"],[0.2222222222222222,\"#7201a8\"],[0.3333333333333333,\"#9c179e\"],[0.4444444444444444,\"#bd3786\"],[0.5555555555555556,\"#d8576b\"],[0.6666666666666666,\"#ed7953\"],[0.7777777777777778,\"#fb9f3a\"],[0.8888888888888888,\"#fdca26\"],[1.0,\"#f0f921\"]]},\"colorway\":[\"#636efa\",\"#EF553B\",\"#00cc96\",\"#ab63fa\",\"#FFA15A\",\"#19d3f3\",\"#FF6692\",\"#B6E880\",\"#FF97FF\",\"#FECB52\"],\"font\":{\"color\":\"#2a3f5f\"},\"geo\":{\"bgcolor\":\"white\",\"lakecolor\":\"white\",\"landcolor\":\"#E5ECF6\",\"showlakes\":true,\"showland\":true,\"subunitcolor\":\"white\"},\"hoverlabel\":{\"align\":\"left\"},\"hovermode\":\"closest\",\"mapbox\":{\"style\":\"light\"},\"paper_bgcolor\":\"white\",\"plot_bgcolor\":\"#E5ECF6\",\"polar\":{\"angularaxis\":{\"gridcolor\":\"white\",\"linecolor\":\"white\",\"ticks\":\"\"},\"bgcolor\":\"#E5ECF6\",\"radialaxis\":{\"gridcolor\":\"white\",\"linecolor\":\"white\",\"ticks\":\"\"}},\"scene\":{\"xaxis\":{\"backgroundcolor\":\"#E5ECF6\",\"gridcolor\":\"white\",\"gridwidth\":2,\"linecolor\":\"white\",\"showbackground\":true,\"ticks\":\"\",\"zerolinecolor\":\"white\"},\"yaxis\":{\"backgroundcolor\":\"#E5ECF6\",\"gridcolor\":\"white\",\"gridwidth\":2,\"linecolor\":\"white\",\"showbackground\":true,\"ticks\":\"\",\"zerolinecolor\":\"white\"},\"zaxis\":{\"backgroundcolor\":\"#E5ECF6\",\"gridcolor\":\"white\",\"gridwidth\":2,\"linecolor\":\"white\",\"showbackground\":true,\"ticks\":\"\",\"zerolinecolor\":\"white\"}},\"shapedefaults\":{\"line\":{\"color\":\"#2a3f5f\"}},\"ternary\":{\"aaxis\":{\"gridcolor\":\"white\",\"linecolor\":\"white\",\"ticks\":\"\"},\"baxis\":{\"gridcolor\":\"white\",\"linecolor\":\"white\",\"ticks\":\"\"},\"bgcolor\":\"#E5ECF6\",\"caxis\":{\"gridcolor\":\"white\",\"linecolor\":\"white\",\"ticks\":\"\"}},\"title\":{\"x\":0.05},\"xaxis\":{\"automargin\":true,\"gridcolor\":\"white\",\"linecolor\":\"white\",\"ticks\":\"\",\"title\":{\"standoff\":15},\"zerolinecolor\":\"white\",\"zerolinewidth\":2},\"yaxis\":{\"automargin\":true,\"gridcolor\":\"white\",\"linecolor\":\"white\",\"ticks\":\"\",\"title\":{\"standoff\":15},\"zerolinecolor\":\"white\",\"zerolinewidth\":2}}},\"title\":{\"text\":\"Average Temperature \\u00b0C Decade 2010 - Rio de Janeiro\"},\"width\":900,\"xaxis\":{\"anchor\":\"y\",\"domain\":[0.0,1.0],\"title\":{\"text\":\"Month\"}},\"yaxis\":{\"anchor\":\"x\",\"domain\":[0.0,1.0],\"title\":{\"text\":\"Temp_mean\"}}},                        {\"responsive\": true}                    ).then(function(){\n",
              "                            \n",
              "var gd = document.getElementById('1697f2ef-ec83-4875-976f-c31f4b3492da');\n",
              "var x = new MutationObserver(function (mutations, observer) {{\n",
              "        var display = window.getComputedStyle(gd).display;\n",
              "        if (!display || display === 'none') {{\n",
              "            console.log([gd, 'removed!']);\n",
              "            Plotly.purge(gd);\n",
              "            observer.disconnect();\n",
              "        }}\n",
              "}});\n",
              "\n",
              "// Listen for the removal of the full notebook cells\n",
              "var notebookContainer = gd.closest('#notebook-container');\n",
              "if (notebookContainer) {{\n",
              "    x.observe(notebookContainer, {childList: true});\n",
              "}}\n",
              "\n",
              "// Listen for the clearing of the current output cell\n",
              "var outputEl = gd.closest('.output');\n",
              "if (outputEl) {{\n",
              "    x.observe(outputEl, {childList: true});\n",
              "}}\n",
              "\n",
              "                        })                };                            </script>        </div>\n",
              "</body>\n",
              "</html>"
            ]
          },
          "metadata": {
            "tags": []
          }
        }
      ]
    },
    {
      "cell_type": "code",
      "metadata": {
        "colab": {
          "base_uri": "https://localhost:8080/",
          "height": 467
        },
        "id": "5pnzr3maqpl1",
        "outputId": "d05bba21-bdde-4e11-f8e3-7dc7db2ed9c8"
      },
      "source": [
        "#Visualizing Temperatures by decade from 1900 to 2010\n",
        "fig2_2= px.bar(data_frame=df2_by_decade, x='Decade', y='Temp_mean', range_y=(15,30),\n",
        "                     title='Average Temperature °C by decade - Rio de Janeiro', width=900, height=450)\n",
        "fig2_2.show()"
      ],
      "execution_count": 92,
      "outputs": [
        {
          "output_type": "display_data",
          "data": {
            "text/html": [
              "<html>\n",
              "<head><meta charset=\"utf-8\" /></head>\n",
              "<body>\n",
              "    <div>            <script src=\"https://cdnjs.cloudflare.com/ajax/libs/mathjax/2.7.5/MathJax.js?config=TeX-AMS-MML_SVG\"></script><script type=\"text/javascript\">if (window.MathJax) {MathJax.Hub.Config({SVG: {font: \"STIX-Web\"}});}</script>                <script type=\"text/javascript\">window.PlotlyConfig = {MathJaxConfig: 'local'};</script>\n",
              "        <script src=\"https://cdn.plot.ly/plotly-2.1.0.min.js\"></script>                <div id=\"038e02b4-9651-4e2c-8b77-c6e6a03c5703\" class=\"plotly-graph-div\" style=\"height:450px; width:900px;\"></div>            <script type=\"text/javascript\">                                    window.PLOTLYENV=window.PLOTLYENV || {};                                    if (document.getElementById(\"038e02b4-9651-4e2c-8b77-c6e6a03c5703\")) {                    Plotly.newPlot(                        \"038e02b4-9651-4e2c-8b77-c6e6a03c5703\",                        [{\"alignmentgroup\":\"True\",\"hovertemplate\":\"Decade=%{x}<br>Temp_mean=%{y}<extra></extra>\",\"legendgroup\":\"\",\"marker\":{\"color\":\"#636efa\",\"pattern\":{\"shape\":\"\"}},\"name\":\"\",\"offsetgroup\":\"\",\"orientation\":\"v\",\"showlegend\":false,\"textposition\":\"auto\",\"type\":\"bar\",\"x\":[\"1900\",\"1910\",\"1920\",\"1930\",\"1940\",\"1950\",\"1960\",\"1970\",\"1980\",\"1990\",\"2000\",\"2010\"],\"xaxis\":\"x\",\"y\":[23.529641666666663,23.534166666666668,23.693383333333333,23.800749999999997,23.87986666666666,23.978416666666664,23.994108333333333,24.035908333333335,24.260983333333332,24.504833333333337,24.704691666666672,24.687541666666664],\"yaxis\":\"y\"}],                        {\"barmode\":\"relative\",\"height\":450,\"legend\":{\"tracegroupgap\":0},\"template\":{\"data\":{\"bar\":[{\"error_x\":{\"color\":\"#2a3f5f\"},\"error_y\":{\"color\":\"#2a3f5f\"},\"marker\":{\"line\":{\"color\":\"#E5ECF6\",\"width\":0.5},\"pattern\":{\"fillmode\":\"overlay\",\"size\":10,\"solidity\":0.2}},\"type\":\"bar\"}],\"barpolar\":[{\"marker\":{\"line\":{\"color\":\"#E5ECF6\",\"width\":0.5},\"pattern\":{\"fillmode\":\"overlay\",\"size\":10,\"solidity\":0.2}},\"type\":\"barpolar\"}],\"carpet\":[{\"aaxis\":{\"endlinecolor\":\"#2a3f5f\",\"gridcolor\":\"white\",\"linecolor\":\"white\",\"minorgridcolor\":\"white\",\"startlinecolor\":\"#2a3f5f\"},\"baxis\":{\"endlinecolor\":\"#2a3f5f\",\"gridcolor\":\"white\",\"linecolor\":\"white\",\"minorgridcolor\":\"white\",\"startlinecolor\":\"#2a3f5f\"},\"type\":\"carpet\"}],\"choropleth\":[{\"colorbar\":{\"outlinewidth\":0,\"ticks\":\"\"},\"type\":\"choropleth\"}],\"contour\":[{\"colorbar\":{\"outlinewidth\":0,\"ticks\":\"\"},\"colorscale\":[[0.0,\"#0d0887\"],[0.1111111111111111,\"#46039f\"],[0.2222222222222222,\"#7201a8\"],[0.3333333333333333,\"#9c179e\"],[0.4444444444444444,\"#bd3786\"],[0.5555555555555556,\"#d8576b\"],[0.6666666666666666,\"#ed7953\"],[0.7777777777777778,\"#fb9f3a\"],[0.8888888888888888,\"#fdca26\"],[1.0,\"#f0f921\"]],\"type\":\"contour\"}],\"contourcarpet\":[{\"colorbar\":{\"outlinewidth\":0,\"ticks\":\"\"},\"type\":\"contourcarpet\"}],\"heatmap\":[{\"colorbar\":{\"outlinewidth\":0,\"ticks\":\"\"},\"colorscale\":[[0.0,\"#0d0887\"],[0.1111111111111111,\"#46039f\"],[0.2222222222222222,\"#7201a8\"],[0.3333333333333333,\"#9c179e\"],[0.4444444444444444,\"#bd3786\"],[0.5555555555555556,\"#d8576b\"],[0.6666666666666666,\"#ed7953\"],[0.7777777777777778,\"#fb9f3a\"],[0.8888888888888888,\"#fdca26\"],[1.0,\"#f0f921\"]],\"type\":\"heatmap\"}],\"heatmapgl\":[{\"colorbar\":{\"outlinewidth\":0,\"ticks\":\"\"},\"colorscale\":[[0.0,\"#0d0887\"],[0.1111111111111111,\"#46039f\"],[0.2222222222222222,\"#7201a8\"],[0.3333333333333333,\"#9c179e\"],[0.4444444444444444,\"#bd3786\"],[0.5555555555555556,\"#d8576b\"],[0.6666666666666666,\"#ed7953\"],[0.7777777777777778,\"#fb9f3a\"],[0.8888888888888888,\"#fdca26\"],[1.0,\"#f0f921\"]],\"type\":\"heatmapgl\"}],\"histogram\":[{\"marker\":{\"pattern\":{\"fillmode\":\"overlay\",\"size\":10,\"solidity\":0.2}},\"type\":\"histogram\"}],\"histogram2d\":[{\"colorbar\":{\"outlinewidth\":0,\"ticks\":\"\"},\"colorscale\":[[0.0,\"#0d0887\"],[0.1111111111111111,\"#46039f\"],[0.2222222222222222,\"#7201a8\"],[0.3333333333333333,\"#9c179e\"],[0.4444444444444444,\"#bd3786\"],[0.5555555555555556,\"#d8576b\"],[0.6666666666666666,\"#ed7953\"],[0.7777777777777778,\"#fb9f3a\"],[0.8888888888888888,\"#fdca26\"],[1.0,\"#f0f921\"]],\"type\":\"histogram2d\"}],\"histogram2dcontour\":[{\"colorbar\":{\"outlinewidth\":0,\"ticks\":\"\"},\"colorscale\":[[0.0,\"#0d0887\"],[0.1111111111111111,\"#46039f\"],[0.2222222222222222,\"#7201a8\"],[0.3333333333333333,\"#9c179e\"],[0.4444444444444444,\"#bd3786\"],[0.5555555555555556,\"#d8576b\"],[0.6666666666666666,\"#ed7953\"],[0.7777777777777778,\"#fb9f3a\"],[0.8888888888888888,\"#fdca26\"],[1.0,\"#f0f921\"]],\"type\":\"histogram2dcontour\"}],\"mesh3d\":[{\"colorbar\":{\"outlinewidth\":0,\"ticks\":\"\"},\"type\":\"mesh3d\"}],\"parcoords\":[{\"line\":{\"colorbar\":{\"outlinewidth\":0,\"ticks\":\"\"}},\"type\":\"parcoords\"}],\"pie\":[{\"automargin\":true,\"type\":\"pie\"}],\"scatter\":[{\"marker\":{\"colorbar\":{\"outlinewidth\":0,\"ticks\":\"\"}},\"type\":\"scatter\"}],\"scatter3d\":[{\"line\":{\"colorbar\":{\"outlinewidth\":0,\"ticks\":\"\"}},\"marker\":{\"colorbar\":{\"outlinewidth\":0,\"ticks\":\"\"}},\"type\":\"scatter3d\"}],\"scattercarpet\":[{\"marker\":{\"colorbar\":{\"outlinewidth\":0,\"ticks\":\"\"}},\"type\":\"scattercarpet\"}],\"scattergeo\":[{\"marker\":{\"colorbar\":{\"outlinewidth\":0,\"ticks\":\"\"}},\"type\":\"scattergeo\"}],\"scattergl\":[{\"marker\":{\"colorbar\":{\"outlinewidth\":0,\"ticks\":\"\"}},\"type\":\"scattergl\"}],\"scattermapbox\":[{\"marker\":{\"colorbar\":{\"outlinewidth\":0,\"ticks\":\"\"}},\"type\":\"scattermapbox\"}],\"scatterpolar\":[{\"marker\":{\"colorbar\":{\"outlinewidth\":0,\"ticks\":\"\"}},\"type\":\"scatterpolar\"}],\"scatterpolargl\":[{\"marker\":{\"colorbar\":{\"outlinewidth\":0,\"ticks\":\"\"}},\"type\":\"scatterpolargl\"}],\"scatterternary\":[{\"marker\":{\"colorbar\":{\"outlinewidth\":0,\"ticks\":\"\"}},\"type\":\"scatterternary\"}],\"surface\":[{\"colorbar\":{\"outlinewidth\":0,\"ticks\":\"\"},\"colorscale\":[[0.0,\"#0d0887\"],[0.1111111111111111,\"#46039f\"],[0.2222222222222222,\"#7201a8\"],[0.3333333333333333,\"#9c179e\"],[0.4444444444444444,\"#bd3786\"],[0.5555555555555556,\"#d8576b\"],[0.6666666666666666,\"#ed7953\"],[0.7777777777777778,\"#fb9f3a\"],[0.8888888888888888,\"#fdca26\"],[1.0,\"#f0f921\"]],\"type\":\"surface\"}],\"table\":[{\"cells\":{\"fill\":{\"color\":\"#EBF0F8\"},\"line\":{\"color\":\"white\"}},\"header\":{\"fill\":{\"color\":\"#C8D4E3\"},\"line\":{\"color\":\"white\"}},\"type\":\"table\"}]},\"layout\":{\"annotationdefaults\":{\"arrowcolor\":\"#2a3f5f\",\"arrowhead\":0,\"arrowwidth\":1},\"autotypenumbers\":\"strict\",\"coloraxis\":{\"colorbar\":{\"outlinewidth\":0,\"ticks\":\"\"}},\"colorscale\":{\"diverging\":[[0,\"#8e0152\"],[0.1,\"#c51b7d\"],[0.2,\"#de77ae\"],[0.3,\"#f1b6da\"],[0.4,\"#fde0ef\"],[0.5,\"#f7f7f7\"],[0.6,\"#e6f5d0\"],[0.7,\"#b8e186\"],[0.8,\"#7fbc41\"],[0.9,\"#4d9221\"],[1,\"#276419\"]],\"sequential\":[[0.0,\"#0d0887\"],[0.1111111111111111,\"#46039f\"],[0.2222222222222222,\"#7201a8\"],[0.3333333333333333,\"#9c179e\"],[0.4444444444444444,\"#bd3786\"],[0.5555555555555556,\"#d8576b\"],[0.6666666666666666,\"#ed7953\"],[0.7777777777777778,\"#fb9f3a\"],[0.8888888888888888,\"#fdca26\"],[1.0,\"#f0f921\"]],\"sequentialminus\":[[0.0,\"#0d0887\"],[0.1111111111111111,\"#46039f\"],[0.2222222222222222,\"#7201a8\"],[0.3333333333333333,\"#9c179e\"],[0.4444444444444444,\"#bd3786\"],[0.5555555555555556,\"#d8576b\"],[0.6666666666666666,\"#ed7953\"],[0.7777777777777778,\"#fb9f3a\"],[0.8888888888888888,\"#fdca26\"],[1.0,\"#f0f921\"]]},\"colorway\":[\"#636efa\",\"#EF553B\",\"#00cc96\",\"#ab63fa\",\"#FFA15A\",\"#19d3f3\",\"#FF6692\",\"#B6E880\",\"#FF97FF\",\"#FECB52\"],\"font\":{\"color\":\"#2a3f5f\"},\"geo\":{\"bgcolor\":\"white\",\"lakecolor\":\"white\",\"landcolor\":\"#E5ECF6\",\"showlakes\":true,\"showland\":true,\"subunitcolor\":\"white\"},\"hoverlabel\":{\"align\":\"left\"},\"hovermode\":\"closest\",\"mapbox\":{\"style\":\"light\"},\"paper_bgcolor\":\"white\",\"plot_bgcolor\":\"#E5ECF6\",\"polar\":{\"angularaxis\":{\"gridcolor\":\"white\",\"linecolor\":\"white\",\"ticks\":\"\"},\"bgcolor\":\"#E5ECF6\",\"radialaxis\":{\"gridcolor\":\"white\",\"linecolor\":\"white\",\"ticks\":\"\"}},\"scene\":{\"xaxis\":{\"backgroundcolor\":\"#E5ECF6\",\"gridcolor\":\"white\",\"gridwidth\":2,\"linecolor\":\"white\",\"showbackground\":true,\"ticks\":\"\",\"zerolinecolor\":\"white\"},\"yaxis\":{\"backgroundcolor\":\"#E5ECF6\",\"gridcolor\":\"white\",\"gridwidth\":2,\"linecolor\":\"white\",\"showbackground\":true,\"ticks\":\"\",\"zerolinecolor\":\"white\"},\"zaxis\":{\"backgroundcolor\":\"#E5ECF6\",\"gridcolor\":\"white\",\"gridwidth\":2,\"linecolor\":\"white\",\"showbackground\":true,\"ticks\":\"\",\"zerolinecolor\":\"white\"}},\"shapedefaults\":{\"line\":{\"color\":\"#2a3f5f\"}},\"ternary\":{\"aaxis\":{\"gridcolor\":\"white\",\"linecolor\":\"white\",\"ticks\":\"\"},\"baxis\":{\"gridcolor\":\"white\",\"linecolor\":\"white\",\"ticks\":\"\"},\"bgcolor\":\"#E5ECF6\",\"caxis\":{\"gridcolor\":\"white\",\"linecolor\":\"white\",\"ticks\":\"\"}},\"title\":{\"x\":0.05},\"xaxis\":{\"automargin\":true,\"gridcolor\":\"white\",\"linecolor\":\"white\",\"ticks\":\"\",\"title\":{\"standoff\":15},\"zerolinecolor\":\"white\",\"zerolinewidth\":2},\"yaxis\":{\"automargin\":true,\"gridcolor\":\"white\",\"linecolor\":\"white\",\"ticks\":\"\",\"title\":{\"standoff\":15},\"zerolinecolor\":\"white\",\"zerolinewidth\":2}}},\"title\":{\"text\":\"Average Temperature \\u00b0C by decade - Rio de Janeiro\"},\"width\":900,\"xaxis\":{\"anchor\":\"y\",\"domain\":[0.0,1.0],\"title\":{\"text\":\"Decade\"}},\"yaxis\":{\"anchor\":\"x\",\"domain\":[0.0,1.0],\"range\":[15,30],\"title\":{\"text\":\"Temp_mean\"}}},                        {\"responsive\": true}                    ).then(function(){\n",
              "                            \n",
              "var gd = document.getElementById('038e02b4-9651-4e2c-8b77-c6e6a03c5703');\n",
              "var x = new MutationObserver(function (mutations, observer) {{\n",
              "        var display = window.getComputedStyle(gd).display;\n",
              "        if (!display || display === 'none') {{\n",
              "            console.log([gd, 'removed!']);\n",
              "            Plotly.purge(gd);\n",
              "            observer.disconnect();\n",
              "        }}\n",
              "}});\n",
              "\n",
              "// Listen for the removal of the full notebook cells\n",
              "var notebookContainer = gd.closest('#notebook-container');\n",
              "if (notebookContainer) {{\n",
              "    x.observe(notebookContainer, {childList: true});\n",
              "}}\n",
              "\n",
              "// Listen for the clearing of the current output cell\n",
              "var outputEl = gd.closest('.output');\n",
              "if (outputEl) {{\n",
              "    x.observe(outputEl, {childList: true});\n",
              "}}\n",
              "\n",
              "                        })                };                            </script>        </div>\n",
              "</body>\n",
              "</html>"
            ]
          },
          "metadata": {
            "tags": []
          }
        }
      ]
    }
  ]
}