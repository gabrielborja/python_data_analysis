{
  "nbformat": 4,
  "nbformat_minor": 0,
  "metadata": {
    "colab": {
      "name": "food_habits_analytics.ipynb",
      "provenance": [],
      "authorship_tag": "ABX9TyMyIIZ22F4PxGlErgW+Qxg8",
      "include_colab_link": true
    },
    "kernelspec": {
      "name": "python3",
      "display_name": "Python 3"
    },
    "language_info": {
      "name": "python"
    },
    "widgets": {
      "application/vnd.jupyter.widget-state+json": {
        "c7ce810717e048dc98df6d038b2827fc": {
          "model_module": "@jupyter-widgets/controls",
          "model_name": "VBoxModel",
          "state": {
            "_view_name": "VBoxView",
            "_dom_classes": [
              "widget-interact"
            ],
            "_model_name": "VBoxModel",
            "_view_module": "@jupyter-widgets/controls",
            "_model_module_version": "1.5.0",
            "_view_count": null,
            "_view_module_version": "1.5.0",
            "box_style": "",
            "layout": "IPY_MODEL_fcad4b24170d46df93e7b35ebde16065",
            "_model_module": "@jupyter-widgets/controls",
            "children": [
              "IPY_MODEL_66a1d38c533b443ca712e4cca05014a9",
              "IPY_MODEL_0542ea99d24c4328b164d386ba57e2c7"
            ]
          }
        },
        "fcad4b24170d46df93e7b35ebde16065": {
          "model_module": "@jupyter-widgets/base",
          "model_name": "LayoutModel",
          "state": {
            "_view_name": "LayoutView",
            "grid_template_rows": null,
            "right": null,
            "justify_content": null,
            "_view_module": "@jupyter-widgets/base",
            "overflow": null,
            "_model_module_version": "1.2.0",
            "_view_count": null,
            "flex_flow": null,
            "width": null,
            "min_width": null,
            "border": null,
            "align_items": null,
            "bottom": null,
            "_model_module": "@jupyter-widgets/base",
            "top": null,
            "grid_column": null,
            "overflow_y": null,
            "overflow_x": null,
            "grid_auto_flow": null,
            "grid_area": null,
            "grid_template_columns": null,
            "flex": null,
            "_model_name": "LayoutModel",
            "justify_items": null,
            "grid_row": null,
            "max_height": null,
            "align_content": null,
            "visibility": null,
            "align_self": null,
            "height": null,
            "min_height": null,
            "padding": null,
            "grid_auto_rows": null,
            "grid_gap": null,
            "max_width": null,
            "order": null,
            "_view_module_version": "1.2.0",
            "grid_template_areas": null,
            "object_position": null,
            "object_fit": null,
            "grid_auto_columns": null,
            "margin": null,
            "display": null,
            "left": null
          }
        },
        "66a1d38c533b443ca712e4cca05014a9": {
          "model_module": "@jupyter-widgets/controls",
          "model_name": "DropdownModel",
          "state": {
            "_options_labels": [
              "2020",
              "2021"
            ],
            "_view_name": "DropdownView",
            "style": "IPY_MODEL_b7951b51567d4da8b2dbf266e82644a5",
            "_dom_classes": [],
            "description": "year",
            "_model_name": "DropdownModel",
            "index": 1,
            "_view_module": "@jupyter-widgets/controls",
            "_model_module_version": "1.5.0",
            "_view_count": null,
            "disabled": false,
            "_view_module_version": "1.5.0",
            "description_tooltip": null,
            "_model_module": "@jupyter-widgets/controls",
            "layout": "IPY_MODEL_156b2c3259dd40868fafbe01b51df2c7"
          }
        },
        "0542ea99d24c4328b164d386ba57e2c7": {
          "model_module": "@jupyter-widgets/output",
          "model_name": "OutputModel",
          "state": {
            "_view_name": "OutputView",
            "msg_id": "",
            "_dom_classes": [],
            "_model_name": "OutputModel",
            "outputs": [
              {
                "output_type": "display_data",
                "metadata": {
                  "tags": []
                },
                "image/png": "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\n",
                "text/plain": "<Figure size 864x288 with 1 Axes>"
              }
            ],
            "_view_module": "@jupyter-widgets/output",
            "_model_module_version": "1.0.0",
            "_view_count": null,
            "_view_module_version": "1.0.0",
            "layout": "IPY_MODEL_bd46f1ed4bf94d389363ce99f640e220",
            "_model_module": "@jupyter-widgets/output"
          }
        },
        "b7951b51567d4da8b2dbf266e82644a5": {
          "model_module": "@jupyter-widgets/controls",
          "model_name": "DescriptionStyleModel",
          "state": {
            "_view_name": "StyleView",
            "_model_name": "DescriptionStyleModel",
            "description_width": "",
            "_view_module": "@jupyter-widgets/base",
            "_model_module_version": "1.5.0",
            "_view_count": null,
            "_view_module_version": "1.2.0",
            "_model_module": "@jupyter-widgets/controls"
          }
        },
        "156b2c3259dd40868fafbe01b51df2c7": {
          "model_module": "@jupyter-widgets/base",
          "model_name": "LayoutModel",
          "state": {
            "_view_name": "LayoutView",
            "grid_template_rows": null,
            "right": null,
            "justify_content": null,
            "_view_module": "@jupyter-widgets/base",
            "overflow": null,
            "_model_module_version": "1.2.0",
            "_view_count": null,
            "flex_flow": null,
            "width": null,
            "min_width": null,
            "border": null,
            "align_items": null,
            "bottom": null,
            "_model_module": "@jupyter-widgets/base",
            "top": null,
            "grid_column": null,
            "overflow_y": null,
            "overflow_x": null,
            "grid_auto_flow": null,
            "grid_area": null,
            "grid_template_columns": null,
            "flex": null,
            "_model_name": "LayoutModel",
            "justify_items": null,
            "grid_row": null,
            "max_height": null,
            "align_content": null,
            "visibility": null,
            "align_self": null,
            "height": null,
            "min_height": null,
            "padding": null,
            "grid_auto_rows": null,
            "grid_gap": null,
            "max_width": null,
            "order": null,
            "_view_module_version": "1.2.0",
            "grid_template_areas": null,
            "object_position": null,
            "object_fit": null,
            "grid_auto_columns": null,
            "margin": null,
            "display": null,
            "left": null
          }
        },
        "bd46f1ed4bf94d389363ce99f640e220": {
          "model_module": "@jupyter-widgets/base",
          "model_name": "LayoutModel",
          "state": {
            "_view_name": "LayoutView",
            "grid_template_rows": null,
            "right": null,
            "justify_content": null,
            "_view_module": "@jupyter-widgets/base",
            "overflow": null,
            "_model_module_version": "1.2.0",
            "_view_count": null,
            "flex_flow": null,
            "width": null,
            "min_width": null,
            "border": null,
            "align_items": null,
            "bottom": null,
            "_model_module": "@jupyter-widgets/base",
            "top": null,
            "grid_column": null,
            "overflow_y": null,
            "overflow_x": null,
            "grid_auto_flow": null,
            "grid_area": null,
            "grid_template_columns": null,
            "flex": null,
            "_model_name": "LayoutModel",
            "justify_items": null,
            "grid_row": null,
            "max_height": null,
            "align_content": null,
            "visibility": null,
            "align_self": null,
            "height": null,
            "min_height": null,
            "padding": null,
            "grid_auto_rows": null,
            "grid_gap": null,
            "max_width": null,
            "order": null,
            "_view_module_version": "1.2.0",
            "grid_template_areas": null,
            "object_position": null,
            "object_fit": null,
            "grid_auto_columns": null,
            "margin": null,
            "display": null,
            "left": null
          }
        }
      }
    }
  },
  "cells": [
    {
      "cell_type": "markdown",
      "metadata": {
        "id": "view-in-github",
        "colab_type": "text"
      },
      "source": [
        "<a href=\"https://colab.research.google.com/github/gabrielborja/python_data_analysis/blob/main/food_habits_analytics.ipynb\" target=\"_parent\"><img src=\"https://colab.research.google.com/assets/colab-badge.svg\" alt=\"Open In Colab\"/></a>"
      ]
    },
    {
      "cell_type": "markdown",
      "metadata": {
        "id": "eTZwpRZNRhGY"
      },
      "source": [
        "# Food habits analytics"
      ]
    },
    {
      "cell_type": "markdown",
      "metadata": {
        "id": "sgzkv1LwjLIL"
      },
      "source": [
        "## Uploading packages and data"
      ]
    },
    {
      "cell_type": "code",
      "metadata": {
        "id": "QTRtRZcb-IyF"
      },
      "source": [
        "#Importing necessary packages\n",
        "import numpy as np\n",
        "import pandas as pd"
      ],
      "execution_count": 1,
      "outputs": []
    },
    {
      "cell_type": "code",
      "metadata": {
        "id": "nbqmoN4mEaD-"
      },
      "source": [
        "#Customizing data visualization styles\n",
        "sns.set_theme(rc = {'figure.figsize': (12, 4)})"
      ],
      "execution_count": 2,
      "outputs": []
    },
    {
      "cell_type": "code",
      "metadata": {
        "id": "1Z4jxJjRRPLB"
      },
      "source": [
        "#Remove previous versions of the uploaded excel file\n",
        "!rm food_habits.xlsx"
      ],
      "execution_count": 25,
      "outputs": []
    },
    {
      "cell_type": "code",
      "metadata": {
        "id": "oen97ED1-rh-",
        "colab": {
          "resources": {
            "http://localhost:8080/nbextensions/google.colab/files.js": {
              "data": "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",
              "ok": true,
              "headers": [
                [
                  "content-type",
                  "application/javascript"
                ]
              ],
              "status": 200,
              "status_text": ""
            }
          },
          "base_uri": "https://localhost:8080/",
          "height": 73
        },
        "outputId": "2c2f5ddc-e5b7-4c7d-da84-4d55021a7303"
      },
      "source": [
        "#Uploading file from local drive\n",
        "from google.colab import files\n",
        "uploaded1 = files.upload()"
      ],
      "execution_count": 3,
      "outputs": [
        {
          "output_type": "display_data",
          "data": {
            "text/html": [
              "\n",
              "     <input type=\"file\" id=\"files-99dc5ff8-8cce-40c8-9885-ae33d94c2cdc\" name=\"files[]\" multiple disabled\n",
              "        style=\"border:none\" />\n",
              "     <output id=\"result-99dc5ff8-8cce-40c8-9885-ae33d94c2cdc\">\n",
              "      Upload widget is only available when the cell has been executed in the\n",
              "      current browser session. Please rerun this cell to enable.\n",
              "      </output>\n",
              "      <script src=\"/nbextensions/google.colab/files.js\"></script> "
            ],
            "text/plain": [
              "<IPython.core.display.HTML object>"
            ]
          },
          "metadata": {
            "tags": []
          }
        },
        {
          "output_type": "stream",
          "text": [
            "Saving food_habits.xlsx to food_habits.xlsx\n"
          ],
          "name": "stdout"
        }
      ]
    },
    {
      "cell_type": "code",
      "metadata": {
        "id": "03VoNwL0-3O6"
      },
      "source": [
        "#Storing dataset in a Pandas Dataframe\n",
        "import io\n",
        "df1 = pd.read_excel(io.BytesIO(uploaded1['food_habits.xlsx']))"
      ],
      "execution_count": 4,
      "outputs": []
    },
    {
      "cell_type": "code",
      "metadata": {
        "colab": {
          "base_uri": "https://localhost:8080/"
        },
        "id": "-_RIDGJurxGe",
        "outputId": "89b761c4-99f3-4410-864e-3b8ea9716987"
      },
      "source": [
        "#Checking the dataframe info\n",
        "df1.info()"
      ],
      "execution_count": 5,
      "outputs": [
        {
          "output_type": "stream",
          "text": [
            "<class 'pandas.core.frame.DataFrame'>\n",
            "RangeIndex: 78 entries, 0 to 77\n",
            "Data columns (total 5 columns):\n",
            " #   Column      Non-Null Count  Dtype         \n",
            "---  ------      --------------  -----         \n",
            " 0   date        78 non-null     datetime64[ns]\n",
            " 1   time        78 non-null     object        \n",
            " 2   food        78 non-null     object        \n",
            " 3   large_meal  78 non-null     int64         \n",
            " 4   ache        78 non-null     int64         \n",
            "dtypes: datetime64[ns](1), int64(2), object(2)\n",
            "memory usage: 3.2+ KB\n"
          ],
          "name": "stdout"
        }
      ]
    },
    {
      "cell_type": "code",
      "metadata": {
        "colab": {
          "base_uri": "https://localhost:8080/",
          "height": 110
        },
        "id": "eRPXlO2KDAou",
        "outputId": "d80d3a10-3b48-4a58-8adc-8d1c4988fd22"
      },
      "source": [
        "#Checking the dataframe head\n",
        "df1.head(2)"
      ],
      "execution_count": 6,
      "outputs": [
        {
          "output_type": "execute_result",
          "data": {
            "text/html": [
              "<div>\n",
              "<style scoped>\n",
              "    .dataframe tbody tr th:only-of-type {\n",
              "        vertical-align: middle;\n",
              "    }\n",
              "\n",
              "    .dataframe tbody tr th {\n",
              "        vertical-align: top;\n",
              "    }\n",
              "\n",
              "    .dataframe thead th {\n",
              "        text-align: right;\n",
              "    }\n",
              "</style>\n",
              "<table border=\"1\" class=\"dataframe\">\n",
              "  <thead>\n",
              "    <tr style=\"text-align: right;\">\n",
              "      <th></th>\n",
              "      <th>date</th>\n",
              "      <th>time</th>\n",
              "      <th>food</th>\n",
              "      <th>large_meal</th>\n",
              "      <th>ache</th>\n",
              "    </tr>\n",
              "  </thead>\n",
              "  <tbody>\n",
              "    <tr>\n",
              "      <th>0</th>\n",
              "      <td>2020-07-29</td>\n",
              "      <td>21:05:00</td>\n",
              "      <td>bread, pepperoni, ham, cheese, ricotta, mustar...</td>\n",
              "      <td>1</td>\n",
              "      <td>1</td>\n",
              "    </tr>\n",
              "    <tr>\n",
              "      <th>1</th>\n",
              "      <td>2020-08-02</td>\n",
              "      <td>22:00:00</td>\n",
              "      <td>pasta, tuna, mayonaise, mustard, carrots, cele...</td>\n",
              "      <td>0</td>\n",
              "      <td>1</td>\n",
              "    </tr>\n",
              "  </tbody>\n",
              "</table>\n",
              "</div>"
            ],
            "text/plain": [
              "        date      time  ... large_meal  ache\n",
              "0 2020-07-29  21:05:00  ...          1     1\n",
              "1 2020-08-02  22:00:00  ...          0     1\n",
              "\n",
              "[2 rows x 5 columns]"
            ]
          },
          "metadata": {
            "tags": []
          },
          "execution_count": 6
        }
      ]
    },
    {
      "cell_type": "markdown",
      "metadata": {
        "id": "XcMODXQNx0mo"
      },
      "source": [
        "##Data Manipulation"
      ]
    },
    {
      "cell_type": "code",
      "metadata": {
        "colab": {
          "base_uri": "https://localhost:8080/"
        },
        "id": "iYhftSvvGwyp",
        "outputId": "90698026-2772-4b7d-daa0-963203486ba8"
      },
      "source": [
        "#Transforming aching meals into list\n",
        "ache_1 = df1[df1['ache']==1]['food'].str.cat(sep=', ').split(\", \")\n",
        "ache_1[:5]"
      ],
      "execution_count": 28,
      "outputs": [
        {
          "output_type": "execute_result",
          "data": {
            "text/plain": [
              "['bread', 'pepperoni', 'ham', 'cheese', 'ricotta']"
            ]
          },
          "metadata": {
            "tags": []
          },
          "execution_count": 28
        }
      ]
    },
    {
      "cell_type": "code",
      "metadata": {
        "colab": {
          "base_uri": "https://localhost:8080/"
        },
        "id": "pQPl8o8fGwyr",
        "outputId": "13d750a6-9708-45be-8fba-e8f022f27f23"
      },
      "source": [
        "#Building dictionary of occurrences for each food\n",
        "import collections\n",
        "ache_occurrences = collections.Counter(ache_1)\n",
        "ache_occurrences.get('bread')"
      ],
      "execution_count": 19,
      "outputs": [
        {
          "output_type": "execute_result",
          "data": {
            "text/plain": [
              "15"
            ]
          },
          "metadata": {
            "tags": []
          },
          "execution_count": 19
        }
      ]
    },
    {
      "cell_type": "code",
      "metadata": {
        "colab": {
          "base_uri": "https://localhost:8080/"
        },
        "id": "5CrC7gi2Gwyr",
        "outputId": "fc18ca2b-91fe-4e71-83d5-80f75fd1ea0b"
      },
      "source": [
        "#Transforming list of aching meals into series\n",
        "ache_meal_1 = pd.Series(data=ache_1)\n",
        "ache_meal_1.tail()"
      ],
      "execution_count": 20,
      "outputs": [
        {
          "output_type": "execute_result",
          "data": {
            "text/plain": [
              "589        lettuce\n",
              "590    red_paprika\n",
              "591        sausage\n",
              "592          pesto\n",
              "593    kebap_sauce\n",
              "dtype: object"
            ]
          },
          "metadata": {
            "tags": []
          },
          "execution_count": 20
        }
      ]
    },
    {
      "cell_type": "code",
      "metadata": {
        "colab": {
          "base_uri": "https://localhost:8080/",
          "height": 202
        },
        "id": "qYDTaA_KGwys",
        "outputId": "b6af431e-6959-4bcb-c6f7-4546c5987a19"
      },
      "source": [
        "#Counting top aching foods\n",
        "ache_meal_1 = ache_meal_1.value_counts().reset_index(name='count').rename(columns={'index':'food'})\n",
        "ache_meal_1.head()"
      ],
      "execution_count": 21,
      "outputs": [
        {
          "output_type": "execute_result",
          "data": {
            "text/html": [
              "<div>\n",
              "<style scoped>\n",
              "    .dataframe tbody tr th:only-of-type {\n",
              "        vertical-align: middle;\n",
              "    }\n",
              "\n",
              "    .dataframe tbody tr th {\n",
              "        vertical-align: top;\n",
              "    }\n",
              "\n",
              "    .dataframe thead th {\n",
              "        text-align: right;\n",
              "    }\n",
              "</style>\n",
              "<table border=\"1\" class=\"dataframe\">\n",
              "  <thead>\n",
              "    <tr style=\"text-align: right;\">\n",
              "      <th></th>\n",
              "      <th>food</th>\n",
              "      <th>count</th>\n",
              "    </tr>\n",
              "  </thead>\n",
              "  <tbody>\n",
              "    <tr>\n",
              "      <th>0</th>\n",
              "      <td>cheese</td>\n",
              "      <td>25</td>\n",
              "    </tr>\n",
              "    <tr>\n",
              "      <th>1</th>\n",
              "      <td>chocolate</td>\n",
              "      <td>20</td>\n",
              "    </tr>\n",
              "    <tr>\n",
              "      <th>2</th>\n",
              "      <td>rice</td>\n",
              "      <td>19</td>\n",
              "    </tr>\n",
              "    <tr>\n",
              "      <th>3</th>\n",
              "      <td>olive_oil</td>\n",
              "      <td>18</td>\n",
              "    </tr>\n",
              "    <tr>\n",
              "      <th>4</th>\n",
              "      <td>onion</td>\n",
              "      <td>17</td>\n",
              "    </tr>\n",
              "  </tbody>\n",
              "</table>\n",
              "</div>"
            ],
            "text/plain": [
              "        food  count\n",
              "0     cheese     25\n",
              "1  chocolate     20\n",
              "2       rice     19\n",
              "3  olive_oil     18\n",
              "4      onion     17"
            ]
          },
          "metadata": {
            "tags": []
          },
          "execution_count": 21
        }
      ]
    },
    {
      "cell_type": "code",
      "metadata": {
        "colab": {
          "base_uri": "https://localhost:8080/",
          "height": 110
        },
        "id": "gq2cSPWhMMX5",
        "outputId": "913dca44-2705-4321-cb3c-97db3ff25c82"
      },
      "source": [
        "#Assigning categorical attributes from date and grouping by year, month and ache\n",
        "df1 = df1.assign(year = df1['date'].dt.year,\n",
        "                 month = df1['date'].dt.month,\n",
        "                 hour = df1['time'].str[:2].astype(int))\n",
        "df1_agg = df1.groupby(by=['year', 'month', 'ache']).agg(count=('time', 'count')).reset_index()\n",
        "df1_agg.tail(2)"
      ],
      "execution_count": 45,
      "outputs": [
        {
          "output_type": "execute_result",
          "data": {
            "text/html": [
              "<div>\n",
              "<style scoped>\n",
              "    .dataframe tbody tr th:only-of-type {\n",
              "        vertical-align: middle;\n",
              "    }\n",
              "\n",
              "    .dataframe tbody tr th {\n",
              "        vertical-align: top;\n",
              "    }\n",
              "\n",
              "    .dataframe thead th {\n",
              "        text-align: right;\n",
              "    }\n",
              "</style>\n",
              "<table border=\"1\" class=\"dataframe\">\n",
              "  <thead>\n",
              "    <tr style=\"text-align: right;\">\n",
              "      <th></th>\n",
              "      <th>year</th>\n",
              "      <th>month</th>\n",
              "      <th>ache</th>\n",
              "      <th>count</th>\n",
              "    </tr>\n",
              "  </thead>\n",
              "  <tbody>\n",
              "    <tr>\n",
              "      <th>13</th>\n",
              "      <td>2021</td>\n",
              "      <td>7</td>\n",
              "      <td>1</td>\n",
              "      <td>5</td>\n",
              "    </tr>\n",
              "    <tr>\n",
              "      <th>14</th>\n",
              "      <td>2021</td>\n",
              "      <td>8</td>\n",
              "      <td>1</td>\n",
              "      <td>1</td>\n",
              "    </tr>\n",
              "  </tbody>\n",
              "</table>\n",
              "</div>"
            ],
            "text/plain": [
              "    year  month  ache  count\n",
              "13  2021      7     1      5\n",
              "14  2021      8     1      1"
            ]
          },
          "metadata": {
            "tags": []
          },
          "execution_count": 45
        }
      ]
    },
    {
      "cell_type": "markdown",
      "metadata": {
        "id": "HPqfPQd9D3B0"
      },
      "source": [
        "##Data Visualization"
      ]
    },
    {
      "cell_type": "code",
      "metadata": {
        "id": "7FRgED7uPOe1"
      },
      "source": [
        "#Importing visualization libraries\n",
        "import matplotlib.pyplot as plt\n",
        "import seaborn as sns\n",
        "from ipywidgets import interact"
      ],
      "execution_count": 33,
      "outputs": []
    },
    {
      "cell_type": "code",
      "metadata": {
        "colab": {
          "base_uri": "https://localhost:8080/",
          "height": 302
        },
        "id": "WjMDpMNPJBqg",
        "outputId": "1983539c-a38a-4f6d-8bee-1bc4da76c89a"
      },
      "source": [
        "#Plotting the top 10 estomach aching meals\n",
        "sns.barplot(x='food', y='count', data=ache_meal_1[:10])\n",
        "plt.title('Estomach aching foods 2020 - 2021')\n",
        "plt.show()"
      ],
      "execution_count": 25,
      "outputs": [
        {
          "output_type": "display_data",
          "data": {
            "image/png": "[encoded data removed]",
            "text/plain": [
              "<Figure size 864x288 with 1 Axes>"
            ]
          },
          "metadata": {
            "tags": []
          }
        }
      ]
    },
    {
      "cell_type": "code",
      "metadata": {
        "colab": {
          "base_uri": "https://localhost:8080/",
          "height": 333,
          "referenced_widgets": [
            "c7ce810717e048dc98df6d038b2827fc",
            "fcad4b24170d46df93e7b35ebde16065",
            "66a1d38c533b443ca712e4cca05014a9",
            "0542ea99d24c4328b164d386ba57e2c7",
            "b7951b51567d4da8b2dbf266e82644a5",
            "156b2c3259dd40868fafbe01b51df2c7",
            "bd46f1ed4bf94d389363ce99f640e220"
          ]
        },
        "id": "wgJwJPlUMwQZ",
        "outputId": "9d4c08a1-8412-45c6-c002-d7608b39a69d"
      },
      "source": [
        "#Plotting the number of aching meals by month\n",
        "@interact(year=[2021, 2020])\n",
        "def plot_graph(year):\n",
        "  sns.barplot(x='month', y='count', data=df1_agg[df1_agg['year']==year], hue='ache')\n",
        "  plt.title(f'Meals in {year}')\n",
        "  plt.show()"
      ],
      "execution_count": 39,
      "outputs": [
        {
          "output_type": "display_data",
          "data": {
            "application/vnd.jupyter.widget-view+json": {
              "model_id": "c7ce810717e048dc98df6d038b2827fc",
              "version_minor": 0,
              "version_major": 2
            },
            "text/plain": [
              "interactive(children=(Dropdown(description='year', options=(2020, 2021), value=2020), Output()), _dom_classes=…"
            ]
          },
          "metadata": {
            "tags": []
          }
        }
      ]
    },
    {
      "cell_type": "code",
      "metadata": {
        "colab": {
          "base_uri": "https://localhost:8080/",
          "height": 301
        },
        "id": "EUvBVIvURR2A",
        "outputId": "33f6f27c-75fe-471e-b7bd-8ef958395a36"
      },
      "source": [
        "#Plotting a histogram for meals by hour\n",
        "sns.histplot(data=df1[df1['year']==2021], x='hour', hue='ache', bins=10)\n",
        "plt.title('Histogram of meals by hour')\n",
        "plt.show()"
      ],
      "execution_count": 49,
      "outputs": [
        {
          "output_type": "display_data",
          "data": {
            "image/png": "[encoded data removed]",
            "text/plain": [
              "<Figure size 864x288 with 1 Axes>"
            ]
          },
          "metadata": {
            "tags": []
          }
        }
      ]
    },
    {
      "cell_type": "code",
      "metadata": {
        "colab": {
          "base_uri": "https://localhost:8080/",
          "height": 17
        },
        "id": "vzpjKHK7wLJp",
        "outputId": "02138e80-2110-4131-8cde-0070e2b9b2e5"
      },
      "source": [
        "#Exporting to excel into local disk\n",
        "from google.colab import files\n",
        "df1.to_excel('food_habits.xlsx', index=False) #==> Excluding index from file\n",
        "files.download('food_habits.xlsx')"
      ],
      "execution_count": null,
      "outputs": [
        {
          "output_type": "display_data",
          "data": {
            "application/javascript": [
              "\n",
              "    async function download(id, filename, size) {\n",
              "      if (!google.colab.kernel.accessAllowed) {\n",
              "        return;\n",
              "      }\n",
              "      const div = document.createElement('div');\n",
              "      const label = document.createElement('label');\n",
              "      label.textContent = `Downloading \"${filename}\": `;\n",
              "      div.appendChild(label);\n",
              "      const progress = document.createElement('progress');\n",
              "      progress.max = size;\n",
              "      div.appendChild(progress);\n",
              "      document.body.appendChild(div);\n",
              "\n",
              "      const buffers = [];\n",
              "      let downloaded = 0;\n",
              "\n",
              "      const channel = await google.colab.kernel.comms.open(id);\n",
              "      // Send a message to notify the kernel that we're ready.\n",
              "      channel.send({})\n",
              "\n",
              "      for await (const message of channel.messages) {\n",
              "        // Send a message to notify the kernel that we're ready.\n",
              "        channel.send({})\n",
              "        if (message.buffers) {\n",
              "          for (const buffer of message.buffers) {\n",
              "            buffers.push(buffer);\n",
              "            downloaded += buffer.byteLength;\n",
              "            progress.value = downloaded;\n",
              "          }\n",
              "        }\n",
              "      }\n",
              "      const blob = new Blob(buffers, {type: 'application/binary'});\n",
              "      const a = document.createElement('a');\n",
              "      a.href = window.URL.createObjectURL(blob);\n",
              "      a.download = filename;\n",
              "      div.appendChild(a);\n",
              "      a.click();\n",
              "      div.remove();\n",
              "    }\n",
              "  "
            ],
            "text/plain": [
              "<IPython.core.display.Javascript object>"
            ]
          },
          "metadata": {
            "tags": []
          }
        },
        {
          "output_type": "display_data",
          "data": {
            "application/javascript": [
              "download(\"download_2c75458f-9662-4d2a-9ce5-5a0b5a7aeab7\", \"food_habits.xlsx\", 9972)"
            ],
            "text/plain": [
              "<IPython.core.display.Javascript object>"
            ]
          },
          "metadata": {
            "tags": []
          }
        }
      ]
    }
  ]
}