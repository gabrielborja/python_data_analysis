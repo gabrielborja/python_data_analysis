{
  "nbformat": 4,
  "nbformat_minor": 0,
  "metadata": {
    "colab": {
      "name": "bysykkel_analysis.ipynb",
      "provenance": [],
      "collapsed_sections": [
        "sgzkv1LwjLIL",
        "nFhbxv-B6dN7",
        "c8cFTBBCngUc",
        "Tbg_Y30tVHIR",
        "pQNqlam8VRBB",
        "sXmSwrs_5ORx",
        "vbkkRr6AZ5BT",
        "EQ96RybtclrJ",
        "_2ffmzfn5j1P",
        "ewlYx-sRZeTF"
      ],
      "authorship_tag": "ABX9TyOCKetEumdEEoGXfnj874ko",
      "include_colab_link": true
    },
    "kernelspec": {
      "name": "python3",
      "display_name": "Python 3"
    },
    "language_info": {
      "name": "python"
    },
    "widgets": {
      "application/vnd.jupyter.widget-state+json": {
        "90ede6698b9747abb4ee5fc14a7b7bda": {
          "model_module": "@jupyter-widgets/controls",
          "model_name": "VBoxModel",
          "state": {
            "_view_name": "VBoxView",
            "_dom_classes": [
              "widget-interact"
            ],
            "_model_name": "VBoxModel",
            "_view_module": "@jupyter-widgets/controls",
            "_model_module_version": "1.5.0",
            "_view_count": null,
            "_view_module_version": "1.5.0",
            "box_style": "",
            "layout": "IPY_MODEL_9ccee5e9893e4d9eaf281b72b7fa62e7",
            "_model_module": "@jupyter-widgets/controls",
            "children": [
              "IPY_MODEL_57e4351ecd934caf887eeaaa99b44262",
              "IPY_MODEL_ae811c4af1b64b2ebbf346b2448ad518",
              "IPY_MODEL_5cfe24d4f3c74e12b747bbfd154cd269",
              "IPY_MODEL_ade1de72c79e45cab4c7b89a2b8e7e40",
              "IPY_MODEL_c6efc31ee08847cd9f64d1e6618b7d96"
            ]
          }
        },
        "9ccee5e9893e4d9eaf281b72b7fa62e7": {
          "model_module": "@jupyter-widgets/base",
          "model_name": "LayoutModel",
          "state": {
            "_view_name": "LayoutView",
            "grid_template_rows": null,
            "right": null,
            "justify_content": null,
            "_view_module": "@jupyter-widgets/base",
            "overflow": null,
            "_model_module_version": "1.2.0",
            "_view_count": null,
            "flex_flow": null,
            "width": null,
            "min_width": null,
            "border": null,
            "align_items": null,
            "bottom": null,
            "_model_module": "@jupyter-widgets/base",
            "top": null,
            "grid_column": null,
            "overflow_y": null,
            "overflow_x": null,
            "grid_auto_flow": null,
            "grid_area": null,
            "grid_template_columns": null,
            "flex": null,
            "_model_name": "LayoutModel",
            "justify_items": null,
            "grid_row": null,
            "max_height": null,
            "align_content": null,
            "visibility": null,
            "align_self": null,
            "height": null,
            "min_height": null,
            "padding": null,
            "grid_auto_rows": null,
            "grid_gap": null,
            "max_width": null,
            "order": null,
            "_view_module_version": "1.2.0",
            "grid_template_areas": null,
            "object_position": null,
            "object_fit": null,
            "grid_auto_columns": null,
            "margin": null,
            "display": null,
            "left": null
          }
        },
        "57e4351ecd934caf887eeaaa99b44262": {
          "model_module": "@jupyter-widgets/controls",
          "model_name": "DropdownModel",
          "state": {
            "_options_labels": [
              "2020",
              "2021"
            ],
            "_view_name": "DropdownView",
            "style": "IPY_MODEL_9d49061a6c784bb49f97b23d4063477f",
            "_dom_classes": [],
            "description": "Year",
            "_model_name": "DropdownModel",
            "index": 0,
            "_view_module": "@jupyter-widgets/controls",
            "_model_module_version": "1.5.0",
            "_view_count": null,
            "disabled": false,
            "_view_module_version": "1.5.0",
            "description_tooltip": null,
            "_model_module": "@jupyter-widgets/controls",
            "layout": "IPY_MODEL_2509c8776f4e4ebb843c8e2b6ebdf304"
          }
        },
        "ae811c4af1b64b2ebbf346b2448ad518": {
          "model_module": "@jupyter-widgets/controls",
          "model_name": "DropdownModel",
          "state": {
            "_options_labels": [
              "January",
              "February",
              "March",
              "April",
              "May",
              "June",
              "July",
              "August",
              "September",
              "October",
              "November",
              "December"
            ],
            "_view_name": "DropdownView",
            "style": "IPY_MODEL_561ea9d467a84b7f8c02dd5af051f1f5",
            "_dom_classes": [],
            "description": "Month",
            "_model_name": "DropdownModel",
            "index": 2,
            "_view_module": "@jupyter-widgets/controls",
            "_model_module_version": "1.5.0",
            "_view_count": null,
            "disabled": false,
            "_view_module_version": "1.5.0",
            "description_tooltip": null,
            "_model_module": "@jupyter-widgets/controls",
            "layout": "IPY_MODEL_f19d5354331f4c0dbf4e4709f80cd64b"
          }
        },
        "5cfe24d4f3c74e12b747bbfd154cd269": {
          "model_module": "@jupyter-widgets/controls",
          "model_name": "DropdownModel",
          "state": {
            "_options_labels": [
              "Starting_stations",
              "Destination_stations"
            ],
            "_view_name": "DropdownView",
            "style": "IPY_MODEL_6be215b52abf460bb916cf1c3082fbb1",
            "_dom_classes": [],
            "description": "Category",
            "_model_name": "DropdownModel",
            "index": 0,
            "_view_module": "@jupyter-widgets/controls",
            "_model_module_version": "1.5.0",
            "_view_count": null,
            "disabled": false,
            "_view_module_version": "1.5.0",
            "description_tooltip": null,
            "_model_module": "@jupyter-widgets/controls",
            "layout": "IPY_MODEL_30ba649faf6243f78843e4e6fb08a7ce"
          }
        },
        "ade1de72c79e45cab4c7b89a2b8e7e40": {
          "model_module": "@jupyter-widgets/controls",
          "model_name": "DropdownModel",
          "state": {
            "_options_labels": [
              "5",
              "10",
              "15",
              "20",
              "25",
              "30",
              "35",
              "40",
              "45",
              "50",
              "55",
              "60",
              "65",
              "70",
              "75",
              "80",
              "85",
              "90",
              "95",
              "100",
              "105",
              "110",
              "115",
              "120",
              "125",
              "130",
              "135",
              "140",
              "145",
              "150",
              "155",
              "160",
              "165",
              "170",
              "175",
              "180",
              "185",
              "190",
              "195",
              "200",
              "205",
              "210",
              "215",
              "220",
              "225",
              "230",
              "235",
              "240",
              "245",
              "250"
            ],
            "_view_name": "DropdownView",
            "style": "IPY_MODEL_4716516687224225ae5b50426be86562",
            "_dom_classes": [],
            "description": "Stations",
            "_model_name": "DropdownModel",
            "index": 3,
            "_view_module": "@jupyter-widgets/controls",
            "_model_module_version": "1.5.0",
            "_view_count": null,
            "disabled": false,
            "_view_module_version": "1.5.0",
            "description_tooltip": null,
            "_model_module": "@jupyter-widgets/controls",
            "layout": "IPY_MODEL_297d5b468e264bb2a332f8bdf3044ace"
          }
        },
        "c6efc31ee08847cd9f64d1e6618b7d96": {
          "model_module": "@jupyter-widgets/output",
          "model_name": "OutputModel",
          "state": {
            "_view_name": "OutputView",
            "msg_id": "",
            "_dom_classes": [],
            "_model_name": "OutputModel",
            "outputs": [
              {
                "output_type": "display_data",
                "metadata": {
                  "tags": []
                },
                "text/html": "<div style=\"width:100%;\"><div style=\"position:relative;width:100%;height:0;padding-bottom:60%;\"><span style=\"color:#565656\">Make this Notebook Trusted to load map: File -> Trust Notebook</span><iframe src=\"about:blank\" style=\"position:absolute;width:100%;height:100%;left:0;top:0;border:none !important;\" data-html=%3C%21DOCTYPE%20html%3E%0A%3Chead%3E%20%20%20%20%0A%20%20%20%20%3Cmeta%20http-equiv%3D%22content-type%22%20content%3D%22text/html%3B%20charset%3DUTF-8%22%20/%3E%0A%20%20%20%20%3Cscript%3EL_PREFER_CANVAS%3Dfalse%3B%20L_NO_TOUCH%3Dfalse%3B%20L_DISABLE_3D%3Dfalse%3B%3C/script%3E%0A%20%20%20%20%3Cscript%20src%3D%22https%3A//cdn.jsdelivr.net/npm/leaflet%401.4.0/dist/leaflet.js%22%3E%3C/script%3E%0A%20%20%20%20%3Cscript%20src%3D%22https%3A//code.jquery.com/jquery-1.12.4.min.js%22%3E%3C/script%3E%0A%20%20%20%20%3Cscript%20src%3D%22https%3A//maxcdn.bootstrapcdn.com/bootstrap/3.2.0/js/bootstrap.min.js%22%3E%3C/script%3E%0A%20%20%20%20%3Cscript%20src%3D%22https%3A//cdnjs.cloudflare.com/ajax/libs/Leaflet.awesome-markers/2.0.2/leaflet.awesome-markers.js%22%3E%3C/script%3E%0A%20%20%20%20%3Clink%20rel%3D%22stylesheet%22%20href%3D%22https%3A//cdn.jsdelivr.net/npm/leaflet%401.4.0/dist/leaflet.css%22/%3E%0A%20%20%20%20%3Clink%20rel%3D%22stylesheet%22%20href%3D%22https%3A//maxcdn.bootstrapcdn.com/bootstrap/3.2.0/css/bootstrap.min.css%22/%3E%0A%20%20%20%20%3Clink%20rel%3D%22stylesheet%22%20href%3D%22https%3A//maxcdn.bootstrapcdn.com/bootstrap/3.2.0/css/bootstrap-theme.min.css%22/%3E%0A%20%20%20%20%3Clink%20rel%3D%22stylesheet%22%20href%3D%22https%3A//maxcdn.bootstrapcdn.com/font-awesome/4.6.3/css/font-awesome.min.css%22/%3E%0A%20%20%20%20%3Clink%20rel%3D%22stylesheet%22%20href%3D%22https%3A//cdnjs.cloudflare.com/ajax/libs/Leaflet.awesome-markers/2.0.2/leaflet.awesome-markers.css%22/%3E%0A%20%20%20%20%3Clink%20rel%3D%22stylesheet%22%20href%3D%22https%3A//rawcdn.githack.com/python-visualization/folium/master/folium/templates/leaflet.awesome.rotate.css%22/%3E%0A%20%20%20%20%3Cstyle%3Ehtml%2C%20body%20%7Bwidth%3A%20100%25%3Bheight%3A%20100%25%3Bmargin%3A%200%3Bpadding%3A%200%3B%7D%3C/style%3E%0A%20%20%20%20%3Cstyle%3E%23map%20%7Bposition%3Aabsolute%3Btop%3A0%3Bbottom%3A0%3Bright%3A0%3Bleft%3A0%3B%7D%3C/style%3E%0A%20%20%20%20%0A%20%20%20%20%3Cmeta%20name%3D%22viewport%22%20content%3D%22width%3Ddevice-width%2C%0A%20%20%20%20%20%20%20%20initial-scale%3D1.0%2C%20maximum-scale%3D1.0%2C%20user-scalable%3Dno%22%20/%3E%0A%20%20%20%20%3Cstyle%3E%23map_eac13537cad94a35af8e6b53d624fd11%20%7B%0A%20%20%20%20%20%20%20%20position%3A%20relative%3B%0A%20%20%20%20%20%20%20%20width%3A%20100.0%25%3B%0A%20%20%20%20%20%20%20%20height%3A%20100.0%25%3B%0A%20%20%20%20%20%20%20%20left%3A%200.0%25%3B%0A%20%20%20%20%20%20%20%20top%3A%200.0%25%3B%0A%20%20%20%20%20%20%20%20%7D%0A%20%20%20%20%3C/style%3E%0A%20%20%20%20%3Cscript%20src%3D%22https%3A//leaflet.github.io/Leaflet.heat/dist/leaflet-heat.js%22%3E%3C/script%3E%0A%3C/head%3E%0A%3Cbody%3E%20%20%20%20%0A%20%20%20%20%0A%20%20%20%20%3Cdiv%20class%3D%22folium-map%22%20id%3D%22map_eac13537cad94a35af8e6b53d624fd11%22%20%3E%3C/div%3E%0A%3C/body%3E%0A%3Cscript%3E%20%20%20%20%0A%20%20%20%20%0A%20%20%20%20%0A%20%20%20%20%20%20%20%20var%20bounds%20%3D%20null%3B%0A%20%20%20%20%0A%0A%20%20%20%20var%20map_eac13537cad94a35af8e6b53d624fd11%20%3D%20L.map%28%0A%20%20%20%20%20%20%20%20%27map_eac13537cad94a35af8e6b53d624fd11%27%2C%20%7B%0A%20%20%20%20%20%20%20%20center%3A%20%5B59.92%2C%2010.75%5D%2C%0A%20%20%20%20%20%20%20%20zoom%3A%2013%2C%0A%20%20%20%20%20%20%20%20maxBounds%3A%20bounds%2C%0A%20%20%20%20%20%20%20%20layers%3A%20%5B%5D%2C%0A%20%20%20%20%20%20%20%20worldCopyJump%3A%20false%2C%0A%20%20%20%20%20%20%20%20crs%3A%20L.CRS.EPSG3857%2C%0A%20%20%20%20%20%20%20%20zoomControl%3A%20true%2C%0A%20%20%20%20%20%20%20%20%7D%29%3B%0A%0A%0A%20%20%20%20%0A%20%20%20%20var%20tile_layer_a3eabee040804696b64664f99972cc18%20%3D%20L.tileLayer%28%0A%20%20%20%20%20%20%20%20%27https%3A//%7Bs%7D.tile.openstreetmap.org/%7Bz%7D/%7Bx%7D/%7By%7D.png%27%2C%0A%20%20%20%20%20%20%20%20%7B%0A%20%20%20%20%20%20%20%20%22attribution%22%3A%20null%2C%0A%20%20%20%20%20%20%20%20%22detectRetina%22%3A%20false%2C%0A%20%20%20%20%20%20%20%20%22maxNativeZoom%22%3A%2018%2C%0A%20%20%20%20%20%20%20%20%22maxZoom%22%3A%2018%2C%0A%20%20%20%20%20%20%20%20%22minZoom%22%3A%200%2C%0A%20%20%20%20%20%20%20%20%22noWrap%22%3A%20false%2C%0A%20%20%20%20%20%20%20%20%22opacity%22%3A%201%2C%0A%20%20%20%20%20%20%20%20%22subdomains%22%3A%20%22abc%22%2C%0A%20%20%20%20%20%20%20%20%22tms%22%3A%20false%0A%7D%29.addTo%28map_eac13537cad94a35af8e6b53d624fd11%29%3B%0A%20%20%20%20%0A%20%20%20%20%20%20%20%20%20%20%20%20var%20heat_map_916471e06d9e4b58b1a38d0d69f9a2a7%20%3D%20L.heatLayer%28%0A%20%20%20%20%20%20%20%20%20%20%20%20%20%20%20%20%5B%5B59.92843404417578%2C%2010.75943014633117%2C%20463.0%5D%2C%20%5B59.928066706156855%2C%2010.751202636819613%2C%20452.0%5D%2C%20%5B59.90946700000001%2C%2010.722509%2C%20395.0%5D%2C%20%5B59.90580676630004%2C%2010.753656509579287%2C%20376.0%5D%2C%20%5B59.925471317049954%2C%2010.73121932213806%2C%20373.0%5D%2C%20%5B59.9108469%2C%2010.7303766%2C%20369.0%5D%2C%20%5B59.922425%2C%2010.758182000000001%2C%20364.0%5D%2C%20%5B59.898126%2C%2010.675096%2C%20356.0%5D%2C%20%5B59.94671044754387%2C%2010.773805285879133%2C%20318.0%5D%2C%20%5B59.912110899999995%2C%2010.7661939%2C%20296.0%5D%2C%20%5B59.904472999999996%2C%2010.786166999999999%2C%20267.0%5D%2C%20%5B59.929044999999995%2C%2010.716925999999999%2C%20265.0%5D%2C%20%5B59.90321254732584%2C%2010.7673442932541%2C%20259.0%5D%2C%20%5B59.91300035973293%2C%2010.746760585982287%2C%20258.0%5D%2C%20%5B59.920334999999994%2C%2010.760803999999998%2C%20257.0%5D%2C%20%5B59.919463%2C%2010.743829%2C%20255.0%5D%2C%20%5B59.92473199999999%2C%2010.724628%2C%20253.0%5D%2C%20%5B59.9360307%2C%2010.7364516%2C%20253.0%5D%2C%20%5B59.94377753936722%2C%2010.76012112757796%2C%20248.0%5D%2C%20%5B59.91494300000001%2C%2010.773977%2C%20243.0%5D%5D%2C%0A%20%20%20%20%20%20%20%20%20%20%20%20%20%20%20%20%7B%0A%20%20%20%20%20%20%20%20%20%20%20%20%20%20%20%20%20%20%20%20minOpacity%3A%200.5%2C%0A%20%20%20%20%20%20%20%20%20%20%20%20%20%20%20%20%20%20%20%20maxZoom%3A%2018%2C%0A%20%20%20%20%20%20%20%20%20%20%20%20%20%20%20%20%20%20%20%20max%3A%201.0%2C%0A%20%20%20%20%20%20%20%20%20%20%20%20%20%20%20%20%20%20%20%20radius%3A%2025%2C%0A%20%20%20%20%20%20%20%20%20%20%20%20%20%20%20%20%20%20%20%20blur%3A%2015%2C%0A%20%20%20%20%20%20%20%20%20%20%20%20%20%20%20%20%20%20%20%20gradient%3A%20null%0A%20%20%20%20%20%20%20%20%20%20%20%20%20%20%20%20%20%20%20%20%7D%29%0A%20%20%20%20%20%20%20%20%20%20%20%20%20%20%20%20.addTo%28map_eac13537cad94a35af8e6b53d624fd11%29%3B%0A%20%20%20%20%20%20%20%20%0A%3C/script%3E onload=\"this.contentDocument.open();this.contentDocument.write(    decodeURIComponent(this.getAttribute('data-html')));this.contentDocument.close();\" allowfullscreen webkitallowfullscreen mozallowfullscreen></iframe></div></div>",
                "text/plain": "<folium.folium.Map at 0x7f511be980d0>"
              }
            ],
            "_view_module": "@jupyter-widgets/output",
            "_model_module_version": "1.0.0",
            "_view_count": null,
            "_view_module_version": "1.0.0",
            "layout": "IPY_MODEL_125ce6b50934403ca537fd41f1f4e7de",
            "_model_module": "@jupyter-widgets/output"
          }
        },
        "9d49061a6c784bb49f97b23d4063477f": {
          "model_module": "@jupyter-widgets/controls",
          "model_name": "DescriptionStyleModel",
          "state": {
            "_view_name": "StyleView",
            "_model_name": "DescriptionStyleModel",
            "description_width": "",
            "_view_module": "@jupyter-widgets/base",
            "_model_module_version": "1.5.0",
            "_view_count": null,
            "_view_module_version": "1.2.0",
            "_model_module": "@jupyter-widgets/controls"
          }
        },
        "2509c8776f4e4ebb843c8e2b6ebdf304": {
          "model_module": "@jupyter-widgets/base",
          "model_name": "LayoutModel",
          "state": {
            "_view_name": "LayoutView",
            "grid_template_rows": null,
            "right": null,
            "justify_content": null,
            "_view_module": "@jupyter-widgets/base",
            "overflow": null,
            "_model_module_version": "1.2.0",
            "_view_count": null,
            "flex_flow": null,
            "width": null,
            "min_width": null,
            "border": null,
            "align_items": null,
            "bottom": null,
            "_model_module": "@jupyter-widgets/base",
            "top": null,
            "grid_column": null,
            "overflow_y": null,
            "overflow_x": null,
            "grid_auto_flow": null,
            "grid_area": null,
            "grid_template_columns": null,
            "flex": null,
            "_model_name": "LayoutModel",
            "justify_items": null,
            "grid_row": null,
            "max_height": null,
            "align_content": null,
            "visibility": null,
            "align_self": null,
            "height": null,
            "min_height": null,
            "padding": null,
            "grid_auto_rows": null,
            "grid_gap": null,
            "max_width": null,
            "order": null,
            "_view_module_version": "1.2.0",
            "grid_template_areas": null,
            "object_position": null,
            "object_fit": null,
            "grid_auto_columns": null,
            "margin": null,
            "display": null,
            "left": null
          }
        },
        "561ea9d467a84b7f8c02dd5af051f1f5": {
          "model_module": "@jupyter-widgets/controls",
          "model_name": "DescriptionStyleModel",
          "state": {
            "_view_name": "StyleView",
            "_model_name": "DescriptionStyleModel",
            "description_width": "",
            "_view_module": "@jupyter-widgets/base",
            "_model_module_version": "1.5.0",
            "_view_count": null,
            "_view_module_version": "1.2.0",
            "_model_module": "@jupyter-widgets/controls"
          }
        },
        "f19d5354331f4c0dbf4e4709f80cd64b": {
          "model_module": "@jupyter-widgets/base",
          "model_name": "LayoutModel",
          "state": {
            "_view_name": "LayoutView",
            "grid_template_rows": null,
            "right": null,
            "justify_content": null,
            "_view_module": "@jupyter-widgets/base",
            "overflow": null,
            "_model_module_version": "1.2.0",
            "_view_count": null,
            "flex_flow": null,
            "width": null,
            "min_width": null,
            "border": null,
            "align_items": null,
            "bottom": null,
            "_model_module": "@jupyter-widgets/base",
            "top": null,
            "grid_column": null,
            "overflow_y": null,
            "overflow_x": null,
            "grid_auto_flow": null,
            "grid_area": null,
            "grid_template_columns": null,
            "flex": null,
            "_model_name": "LayoutModel",
            "justify_items": null,
            "grid_row": null,
            "max_height": null,
            "align_content": null,
            "visibility": null,
            "align_self": null,
            "height": null,
            "min_height": null,
            "padding": null,
            "grid_auto_rows": null,
            "grid_gap": null,
            "max_width": null,
            "order": null,
            "_view_module_version": "1.2.0",
            "grid_template_areas": null,
            "object_position": null,
            "object_fit": null,
            "grid_auto_columns": null,
            "margin": null,
            "display": null,
            "left": null
          }
        },
        "6be215b52abf460bb916cf1c3082fbb1": {
          "model_module": "@jupyter-widgets/controls",
          "model_name": "DescriptionStyleModel",
          "state": {
            "_view_name": "StyleView",
            "_model_name": "DescriptionStyleModel",
            "description_width": "",
            "_view_module": "@jupyter-widgets/base",
            "_model_module_version": "1.5.0",
            "_view_count": null,
            "_view_module_version": "1.2.0",
            "_model_module": "@jupyter-widgets/controls"
          }
        },
        "30ba649faf6243f78843e4e6fb08a7ce": {
          "model_module": "@jupyter-widgets/base",
          "model_name": "LayoutModel",
          "state": {
            "_view_name": "LayoutView",
            "grid_template_rows": null,
            "right": null,
            "justify_content": null,
            "_view_module": "@jupyter-widgets/base",
            "overflow": null,
            "_model_module_version": "1.2.0",
            "_view_count": null,
            "flex_flow": null,
            "width": null,
            "min_width": null,
            "border": null,
            "align_items": null,
            "bottom": null,
            "_model_module": "@jupyter-widgets/base",
            "top": null,
            "grid_column": null,
            "overflow_y": null,
            "overflow_x": null,
            "grid_auto_flow": null,
            "grid_area": null,
            "grid_template_columns": null,
            "flex": null,
            "_model_name": "LayoutModel",
            "justify_items": null,
            "grid_row": null,
            "max_height": null,
            "align_content": null,
            "visibility": null,
            "align_self": null,
            "height": null,
            "min_height": null,
            "padding": null,
            "grid_auto_rows": null,
            "grid_gap": null,
            "max_width": null,
            "order": null,
            "_view_module_version": "1.2.0",
            "grid_template_areas": null,
            "object_position": null,
            "object_fit": null,
            "grid_auto_columns": null,
            "margin": null,
            "display": null,
            "left": null
          }
        },
        "4716516687224225ae5b50426be86562": {
          "model_module": "@jupyter-widgets/controls",
          "model_name": "DescriptionStyleModel",
          "state": {
            "_view_name": "StyleView",
            "_model_name": "DescriptionStyleModel",
            "description_width": "",
            "_view_module": "@jupyter-widgets/base",
            "_model_module_version": "1.5.0",
            "_view_count": null,
            "_view_module_version": "1.2.0",
            "_model_module": "@jupyter-widgets/controls"
          }
        },
        "297d5b468e264bb2a332f8bdf3044ace": {
          "model_module": "@jupyter-widgets/base",
          "model_name": "LayoutModel",
          "state": {
            "_view_name": "LayoutView",
            "grid_template_rows": null,
            "right": null,
            "justify_content": null,
            "_view_module": "@jupyter-widgets/base",
            "overflow": null,
            "_model_module_version": "1.2.0",
            "_view_count": null,
            "flex_flow": null,
            "width": null,
            "min_width": null,
            "border": null,
            "align_items": null,
            "bottom": null,
            "_model_module": "@jupyter-widgets/base",
            "top": null,
            "grid_column": null,
            "overflow_y": null,
            "overflow_x": null,
            "grid_auto_flow": null,
            "grid_area": null,
            "grid_template_columns": null,
            "flex": null,
            "_model_name": "LayoutModel",
            "justify_items": null,
            "grid_row": null,
            "max_height": null,
            "align_content": null,
            "visibility": null,
            "align_self": null,
            "height": null,
            "min_height": null,
            "padding": null,
            "grid_auto_rows": null,
            "grid_gap": null,
            "max_width": null,
            "order": null,
            "_view_module_version": "1.2.0",
            "grid_template_areas": null,
            "object_position": null,
            "object_fit": null,
            "grid_auto_columns": null,
            "margin": null,
            "display": null,
            "left": null
          }
        },
        "125ce6b50934403ca537fd41f1f4e7de": {
          "model_module": "@jupyter-widgets/base",
          "model_name": "LayoutModel",
          "state": {
            "_view_name": "LayoutView",
            "grid_template_rows": null,
            "right": null,
            "justify_content": null,
            "_view_module": "@jupyter-widgets/base",
            "overflow": null,
            "_model_module_version": "1.2.0",
            "_view_count": null,
            "flex_flow": null,
            "width": null,
            "min_width": null,
            "border": null,
            "align_items": null,
            "bottom": null,
            "_model_module": "@jupyter-widgets/base",
            "top": null,
            "grid_column": null,
            "overflow_y": null,
            "overflow_x": null,
            "grid_auto_flow": null,
            "grid_area": null,
            "grid_template_columns": null,
            "flex": null,
            "_model_name": "LayoutModel",
            "justify_items": null,
            "grid_row": null,
            "max_height": null,
            "align_content": null,
            "visibility": null,
            "align_self": null,
            "height": null,
            "min_height": null,
            "padding": null,
            "grid_auto_rows": null,
            "grid_gap": null,
            "max_width": null,
            "order": null,
            "_view_module_version": "1.2.0",
            "grid_template_areas": null,
            "object_position": null,
            "object_fit": null,
            "grid_auto_columns": null,
            "margin": null,
            "display": null,
            "left": null
          }
        },
        "3718852ad9af4389babafe18c204b79d": {
          "model_module": "@jupyter-widgets/controls",
          "model_name": "VBoxModel",
          "state": {
            "_view_name": "VBoxView",
            "_dom_classes": [
              "widget-interact"
            ],
            "_model_name": "VBoxModel",
            "_view_module": "@jupyter-widgets/controls",
            "_model_module_version": "1.5.0",
            "_view_count": null,
            "_view_module_version": "1.5.0",
            "box_style": "",
            "layout": "IPY_MODEL_ad90f6e1bfb44469bb434b800544567d",
            "_model_module": "@jupyter-widgets/controls",
            "children": [
              "IPY_MODEL_95eb1013332a4ed99917a3e5db2cadca",
              "IPY_MODEL_ae553934f29f432d84a57bc5d0bf410c",
              "IPY_MODEL_3dd33aacaa4d46279abab825924a2945"
            ]
          }
        },
        "ad90f6e1bfb44469bb434b800544567d": {
          "model_module": "@jupyter-widgets/base",
          "model_name": "LayoutModel",
          "state": {
            "_view_name": "LayoutView",
            "grid_template_rows": null,
            "right": null,
            "justify_content": null,
            "_view_module": "@jupyter-widgets/base",
            "overflow": null,
            "_model_module_version": "1.2.0",
            "_view_count": null,
            "flex_flow": null,
            "width": null,
            "min_width": null,
            "border": null,
            "align_items": null,
            "bottom": null,
            "_model_module": "@jupyter-widgets/base",
            "top": null,
            "grid_column": null,
            "overflow_y": null,
            "overflow_x": null,
            "grid_auto_flow": null,
            "grid_area": null,
            "grid_template_columns": null,
            "flex": null,
            "_model_name": "LayoutModel",
            "justify_items": null,
            "grid_row": null,
            "max_height": null,
            "align_content": null,
            "visibility": null,
            "align_self": null,
            "height": null,
            "min_height": null,
            "padding": null,
            "grid_auto_rows": null,
            "grid_gap": null,
            "max_width": null,
            "order": null,
            "_view_module_version": "1.2.0",
            "grid_template_areas": null,
            "object_position": null,
            "object_fit": null,
            "grid_auto_columns": null,
            "margin": null,
            "display": null,
            "left": null
          }
        },
        "95eb1013332a4ed99917a3e5db2cadca": {
          "model_module": "@jupyter-widgets/controls",
          "model_name": "DropdownModel",
          "state": {
            "_options_labels": [
              "2020",
              "2021"
            ],
            "_view_name": "DropdownView",
            "style": "IPY_MODEL_97e1efa25dc24704b6ff6a0d3918164c",
            "_dom_classes": [],
            "description": "Year",
            "_model_name": "DropdownModel",
            "index": 0,
            "_view_module": "@jupyter-widgets/controls",
            "_model_module_version": "1.5.0",
            "_view_count": null,
            "disabled": false,
            "_view_module_version": "1.5.0",
            "description_tooltip": null,
            "_model_module": "@jupyter-widgets/controls",
            "layout": "IPY_MODEL_496e522ceac54313ba58f14857036491"
          }
        },
        "ae553934f29f432d84a57bc5d0bf410c": {
          "model_module": "@jupyter-widgets/controls",
          "model_name": "DropdownModel",
          "state": {
            "_options_labels": [
              "January",
              "February",
              "March",
              "April",
              "May",
              "June",
              "July",
              "August",
              "September",
              "October",
              "November",
              "December"
            ],
            "_view_name": "DropdownView",
            "style": "IPY_MODEL_d7ad1e0097c84957bfec8905cc899cc1",
            "_dom_classes": [],
            "description": "Month",
            "_model_name": "DropdownModel",
            "index": 7,
            "_view_module": "@jupyter-widgets/controls",
            "_model_module_version": "1.5.0",
            "_view_count": null,
            "disabled": false,
            "_view_module_version": "1.5.0",
            "description_tooltip": null,
            "_model_module": "@jupyter-widgets/controls",
            "layout": "IPY_MODEL_6ae645d5d76b49889f062e58e737234c"
          }
        },
        "3dd33aacaa4d46279abab825924a2945": {
          "model_module": "@jupyter-widgets/output",
          "model_name": "OutputModel",
          "state": {
            "_view_name": "OutputView",
            "msg_id": "",
            "_dom_classes": [],
            "_model_name": "OutputModel",
            "outputs": [
              {
                "output_type": "display_data",
                "metadata": {
                  "tags": [],
                  "needs_background": "light"
                },
                "image/png": "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\n",
                "text/plain": "<Figure size 1440x720 with 4 Axes>"
              }
            ],
            "_view_module": "@jupyter-widgets/output",
            "_model_module_version": "1.0.0",
            "_view_count": null,
            "_view_module_version": "1.0.0",
            "layout": "IPY_MODEL_a2cee59a87884eba809ef2fe9af5e83f",
            "_model_module": "@jupyter-widgets/output"
          }
        },
        "97e1efa25dc24704b6ff6a0d3918164c": {
          "model_module": "@jupyter-widgets/controls",
          "model_name": "DescriptionStyleModel",
          "state": {
            "_view_name": "StyleView",
            "_model_name": "DescriptionStyleModel",
            "description_width": "",
            "_view_module": "@jupyter-widgets/base",
            "_model_module_version": "1.5.0",
            "_view_count": null,
            "_view_module_version": "1.2.0",
            "_model_module": "@jupyter-widgets/controls"
          }
        },
        "496e522ceac54313ba58f14857036491": {
          "model_module": "@jupyter-widgets/base",
          "model_name": "LayoutModel",
          "state": {
            "_view_name": "LayoutView",
            "grid_template_rows": null,
            "right": null,
            "justify_content": null,
            "_view_module": "@jupyter-widgets/base",
            "overflow": null,
            "_model_module_version": "1.2.0",
            "_view_count": null,
            "flex_flow": null,
            "width": null,
            "min_width": null,
            "border": null,
            "align_items": null,
            "bottom": null,
            "_model_module": "@jupyter-widgets/base",
            "top": null,
            "grid_column": null,
            "overflow_y": null,
            "overflow_x": null,
            "grid_auto_flow": null,
            "grid_area": null,
            "grid_template_columns": null,
            "flex": null,
            "_model_name": "LayoutModel",
            "justify_items": null,
            "grid_row": null,
            "max_height": null,
            "align_content": null,
            "visibility": null,
            "align_self": null,
            "height": null,
            "min_height": null,
            "padding": null,
            "grid_auto_rows": null,
            "grid_gap": null,
            "max_width": null,
            "order": null,
            "_view_module_version": "1.2.0",
            "grid_template_areas": null,
            "object_position": null,
            "object_fit": null,
            "grid_auto_columns": null,
            "margin": null,
            "display": null,
            "left": null
          }
        },
        "d7ad1e0097c84957bfec8905cc899cc1": {
          "model_module": "@jupyter-widgets/controls",
          "model_name": "DescriptionStyleModel",
          "state": {
            "_view_name": "StyleView",
            "_model_name": "DescriptionStyleModel",
            "description_width": "",
            "_view_module": "@jupyter-widgets/base",
            "_model_module_version": "1.5.0",
            "_view_count": null,
            "_view_module_version": "1.2.0",
            "_model_module": "@jupyter-widgets/controls"
          }
        },
        "6ae645d5d76b49889f062e58e737234c": {
          "model_module": "@jupyter-widgets/base",
          "model_name": "LayoutModel",
          "state": {
            "_view_name": "LayoutView",
            "grid_template_rows": null,
            "right": null,
            "justify_content": null,
            "_view_module": "@jupyter-widgets/base",
            "overflow": null,
            "_model_module_version": "1.2.0",
            "_view_count": null,
            "flex_flow": null,
            "width": null,
            "min_width": null,
            "border": null,
            "align_items": null,
            "bottom": null,
            "_model_module": "@jupyter-widgets/base",
            "top": null,
            "grid_column": null,
            "overflow_y": null,
            "overflow_x": null,
            "grid_auto_flow": null,
            "grid_area": null,
            "grid_template_columns": null,
            "flex": null,
            "_model_name": "LayoutModel",
            "justify_items": null,
            "grid_row": null,
            "max_height": null,
            "align_content": null,
            "visibility": null,
            "align_self": null,
            "height": null,
            "min_height": null,
            "padding": null,
            "grid_auto_rows": null,
            "grid_gap": null,
            "max_width": null,
            "order": null,
            "_view_module_version": "1.2.0",
            "grid_template_areas": null,
            "object_position": null,
            "object_fit": null,
            "grid_auto_columns": null,
            "margin": null,
            "display": null,
            "left": null
          }
        },
        "a2cee59a87884eba809ef2fe9af5e83f": {
          "model_module": "@jupyter-widgets/base",
          "model_name": "LayoutModel",
          "state": {
            "_view_name": "LayoutView",
            "grid_template_rows": null,
            "right": null,
            "justify_content": null,
            "_view_module": "@jupyter-widgets/base",
            "overflow": null,
            "_model_module_version": "1.2.0",
            "_view_count": null,
            "flex_flow": null,
            "width": null,
            "min_width": null,
            "border": null,
            "align_items": null,
            "bottom": null,
            "_model_module": "@jupyter-widgets/base",
            "top": null,
            "grid_column": null,
            "overflow_y": null,
            "overflow_x": null,
            "grid_auto_flow": null,
            "grid_area": null,
            "grid_template_columns": null,
            "flex": null,
            "_model_name": "LayoutModel",
            "justify_items": null,
            "grid_row": null,
            "max_height": null,
            "align_content": null,
            "visibility": null,
            "align_self": null,
            "height": null,
            "min_height": null,
            "padding": null,
            "grid_auto_rows": null,
            "grid_gap": null,
            "max_width": null,
            "order": null,
            "_view_module_version": "1.2.0",
            "grid_template_areas": null,
            "object_position": null,
            "object_fit": null,
            "grid_auto_columns": null,
            "margin": null,
            "display": null,
            "left": null
          }
        },
        "4685b22016ea4fd8bbf11a27967b3d0c": {
          "model_module": "@jupyter-widgets/controls",
          "model_name": "VBoxModel",
          "state": {
            "_view_name": "VBoxView",
            "_dom_classes": [
              "widget-interact"
            ],
            "_model_name": "VBoxModel",
            "_view_module": "@jupyter-widgets/controls",
            "_model_module_version": "1.5.0",
            "_view_count": null,
            "_view_module_version": "1.5.0",
            "box_style": "",
            "layout": "IPY_MODEL_f13a4933d607430dbd14ca074af1faf1",
            "_model_module": "@jupyter-widgets/controls",
            "children": [
              "IPY_MODEL_6815defce9bb4d6a8d12875bc4b047ef",
              "IPY_MODEL_9a16c1deed9e4c68870a50df280ce742",
              "IPY_MODEL_2670951f03d84f01b8b7a3d3c0a87b10"
            ]
          }
        },
        "f13a4933d607430dbd14ca074af1faf1": {
          "model_module": "@jupyter-widgets/base",
          "model_name": "LayoutModel",
          "state": {
            "_view_name": "LayoutView",
            "grid_template_rows": null,
            "right": null,
            "justify_content": null,
            "_view_module": "@jupyter-widgets/base",
            "overflow": null,
            "_model_module_version": "1.2.0",
            "_view_count": null,
            "flex_flow": null,
            "width": null,
            "min_width": null,
            "border": null,
            "align_items": null,
            "bottom": null,
            "_model_module": "@jupyter-widgets/base",
            "top": null,
            "grid_column": null,
            "overflow_y": null,
            "overflow_x": null,
            "grid_auto_flow": null,
            "grid_area": null,
            "grid_template_columns": null,
            "flex": null,
            "_model_name": "LayoutModel",
            "justify_items": null,
            "grid_row": null,
            "max_height": null,
            "align_content": null,
            "visibility": null,
            "align_self": null,
            "height": null,
            "min_height": null,
            "padding": null,
            "grid_auto_rows": null,
            "grid_gap": null,
            "max_width": null,
            "order": null,
            "_view_module_version": "1.2.0",
            "grid_template_areas": null,
            "object_position": null,
            "object_fit": null,
            "grid_auto_columns": null,
            "margin": null,
            "display": null,
            "left": null
          }
        },
        "6815defce9bb4d6a8d12875bc4b047ef": {
          "model_module": "@jupyter-widgets/controls",
          "model_name": "DropdownModel",
          "state": {
            "_options_labels": [
              "2020",
              "2021"
            ],
            "_view_name": "DropdownView",
            "style": "IPY_MODEL_ef740e45a0d340a282d18a68e066cccf",
            "_dom_classes": [],
            "description": "Year",
            "_model_name": "DropdownModel",
            "index": 0,
            "_view_module": "@jupyter-widgets/controls",
            "_model_module_version": "1.5.0",
            "_view_count": null,
            "disabled": false,
            "_view_module_version": "1.5.0",
            "description_tooltip": null,
            "_model_module": "@jupyter-widgets/controls",
            "layout": "IPY_MODEL_4fef18e42d634c34b12a8270196f78f4"
          }
        },
        "9a16c1deed9e4c68870a50df280ce742": {
          "model_module": "@jupyter-widgets/controls",
          "model_name": "DropdownModel",
          "state": {
            "_options_labels": [
              "January",
              "February",
              "March",
              "April",
              "May",
              "June",
              "July",
              "August",
              "September",
              "October",
              "November",
              "December"
            ],
            "_view_name": "DropdownView",
            "style": "IPY_MODEL_e54b3dbb3f90478aac2a7200be7e0431",
            "_dom_classes": [],
            "description": "Month",
            "_model_name": "DropdownModel",
            "index": 2,
            "_view_module": "@jupyter-widgets/controls",
            "_model_module_version": "1.5.0",
            "_view_count": null,
            "disabled": false,
            "_view_module_version": "1.5.0",
            "description_tooltip": null,
            "_model_module": "@jupyter-widgets/controls",
            "layout": "IPY_MODEL_ab88db0ee28a4ecf84afd0a978abb31f"
          }
        },
        "2670951f03d84f01b8b7a3d3c0a87b10": {
          "model_module": "@jupyter-widgets/output",
          "model_name": "OutputModel",
          "state": {
            "_view_name": "OutputView",
            "msg_id": "",
            "_dom_classes": [],
            "_model_name": "OutputModel",
            "outputs": [
              {
                "output_type": "display_data",
                "metadata": {
                  "tags": [],
                  "needs_background": "light"
                },
                "image/png": "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\n",
                "text/plain": "<Figure size 1440x720 with 4 Axes>"
              }
            ],
            "_view_module": "@jupyter-widgets/output",
            "_model_module_version": "1.0.0",
            "_view_count": null,
            "_view_module_version": "1.0.0",
            "layout": "IPY_MODEL_8fb0b3a1140b4434a30ce2cd6fdb6795",
            "_model_module": "@jupyter-widgets/output"
          }
        },
        "ef740e45a0d340a282d18a68e066cccf": {
          "model_module": "@jupyter-widgets/controls",
          "model_name": "DescriptionStyleModel",
          "state": {
            "_view_name": "StyleView",
            "_model_name": "DescriptionStyleModel",
            "description_width": "",
            "_view_module": "@jupyter-widgets/base",
            "_model_module_version": "1.5.0",
            "_view_count": null,
            "_view_module_version": "1.2.0",
            "_model_module": "@jupyter-widgets/controls"
          }
        },
        "4fef18e42d634c34b12a8270196f78f4": {
          "model_module": "@jupyter-widgets/base",
          "model_name": "LayoutModel",
          "state": {
            "_view_name": "LayoutView",
            "grid_template_rows": null,
            "right": null,
            "justify_content": null,
            "_view_module": "@jupyter-widgets/base",
            "overflow": null,
            "_model_module_version": "1.2.0",
            "_view_count": null,
            "flex_flow": null,
            "width": null,
            "min_width": null,
            "border": null,
            "align_items": null,
            "bottom": null,
            "_model_module": "@jupyter-widgets/base",
            "top": null,
            "grid_column": null,
            "overflow_y": null,
            "overflow_x": null,
            "grid_auto_flow": null,
            "grid_area": null,
            "grid_template_columns": null,
            "flex": null,
            "_model_name": "LayoutModel",
            "justify_items": null,
            "grid_row": null,
            "max_height": null,
            "align_content": null,
            "visibility": null,
            "align_self": null,
            "height": null,
            "min_height": null,
            "padding": null,
            "grid_auto_rows": null,
            "grid_gap": null,
            "max_width": null,
            "order": null,
            "_view_module_version": "1.2.0",
            "grid_template_areas": null,
            "object_position": null,
            "object_fit": null,
            "grid_auto_columns": null,
            "margin": null,
            "display": null,
            "left": null
          }
        },
        "e54b3dbb3f90478aac2a7200be7e0431": {
          "model_module": "@jupyter-widgets/controls",
          "model_name": "DescriptionStyleModel",
          "state": {
            "_view_name": "StyleView",
            "_model_name": "DescriptionStyleModel",
            "description_width": "",
            "_view_module": "@jupyter-widgets/base",
            "_model_module_version": "1.5.0",
            "_view_count": null,
            "_view_module_version": "1.2.0",
            "_model_module": "@jupyter-widgets/controls"
          }
        },
        "ab88db0ee28a4ecf84afd0a978abb31f": {
          "model_module": "@jupyter-widgets/base",
          "model_name": "LayoutModel",
          "state": {
            "_view_name": "LayoutView",
            "grid_template_rows": null,
            "right": null,
            "justify_content": null,
            "_view_module": "@jupyter-widgets/base",
            "overflow": null,
            "_model_module_version": "1.2.0",
            "_view_count": null,
            "flex_flow": null,
            "width": null,
            "min_width": null,
            "border": null,
            "align_items": null,
            "bottom": null,
            "_model_module": "@jupyter-widgets/base",
            "top": null,
            "grid_column": null,
            "overflow_y": null,
            "overflow_x": null,
            "grid_auto_flow": null,
            "grid_area": null,
            "grid_template_columns": null,
            "flex": null,
            "_model_name": "LayoutModel",
            "justify_items": null,
            "grid_row": null,
            "max_height": null,
            "align_content": null,
            "visibility": null,
            "align_self": null,
            "height": null,
            "min_height": null,
            "padding": null,
            "grid_auto_rows": null,
            "grid_gap": null,
            "max_width": null,
            "order": null,
            "_view_module_version": "1.2.0",
            "grid_template_areas": null,
            "object_position": null,
            "object_fit": null,
            "grid_auto_columns": null,
            "margin": null,
            "display": null,
            "left": null
          }
        },
        "8fb0b3a1140b4434a30ce2cd6fdb6795": {
          "model_module": "@jupyter-widgets/base",
          "model_name": "LayoutModel",
          "state": {
            "_view_name": "LayoutView",
            "grid_template_rows": null,
            "right": null,
            "justify_content": null,
            "_view_module": "@jupyter-widgets/base",
            "overflow": null,
            "_model_module_version": "1.2.0",
            "_view_count": null,
            "flex_flow": null,
            "width": null,
            "min_width": null,
            "border": null,
            "align_items": null,
            "bottom": null,
            "_model_module": "@jupyter-widgets/base",
            "top": null,
            "grid_column": null,
            "overflow_y": null,
            "overflow_x": null,
            "grid_auto_flow": null,
            "grid_area": null,
            "grid_template_columns": null,
            "flex": null,
            "_model_name": "LayoutModel",
            "justify_items": null,
            "grid_row": null,
            "max_height": null,
            "align_content": null,
            "visibility": null,
            "align_self": null,
            "height": null,
            "min_height": null,
            "padding": null,
            "grid_auto_rows": null,
            "grid_gap": null,
            "max_width": null,
            "order": null,
            "_view_module_version": "1.2.0",
            "grid_template_areas": null,
            "object_position": null,
            "object_fit": null,
            "grid_auto_columns": null,
            "margin": null,
            "display": null,
            "left": null
          }
        },
        "e1a503b0cf9b4e6a98808a6c09ace44d": {
          "model_module": "@jupyter-widgets/controls",
          "model_name": "VBoxModel",
          "state": {
            "_view_name": "VBoxView",
            "_dom_classes": [
              "widget-interact"
            ],
            "_model_name": "VBoxModel",
            "_view_module": "@jupyter-widgets/controls",
            "_model_module_version": "1.5.0",
            "_view_count": null,
            "_view_module_version": "1.5.0",
            "box_style": "",
            "layout": "IPY_MODEL_0dabd091c136427eb24bae894c146c93",
            "_model_module": "@jupyter-widgets/controls",
            "children": [
              "IPY_MODEL_1ddc5631ccfb41f397c2dd20533ad232",
              "IPY_MODEL_6ac689085d504563b7ddf67293253618",
              "IPY_MODEL_c33f187d6cc9426db7dcd659cedc52c4"
            ]
          }
        },
        "0dabd091c136427eb24bae894c146c93": {
          "model_module": "@jupyter-widgets/base",
          "model_name": "LayoutModel",
          "state": {
            "_view_name": "LayoutView",
            "grid_template_rows": null,
            "right": null,
            "justify_content": null,
            "_view_module": "@jupyter-widgets/base",
            "overflow": null,
            "_model_module_version": "1.2.0",
            "_view_count": null,
            "flex_flow": null,
            "width": null,
            "min_width": null,
            "border": null,
            "align_items": null,
            "bottom": null,
            "_model_module": "@jupyter-widgets/base",
            "top": null,
            "grid_column": null,
            "overflow_y": null,
            "overflow_x": null,
            "grid_auto_flow": null,
            "grid_area": null,
            "grid_template_columns": null,
            "flex": null,
            "_model_name": "LayoutModel",
            "justify_items": null,
            "grid_row": null,
            "max_height": null,
            "align_content": null,
            "visibility": null,
            "align_self": null,
            "height": null,
            "min_height": null,
            "padding": null,
            "grid_auto_rows": null,
            "grid_gap": null,
            "max_width": null,
            "order": null,
            "_view_module_version": "1.2.0",
            "grid_template_areas": null,
            "object_position": null,
            "object_fit": null,
            "grid_auto_columns": null,
            "margin": null,
            "display": null,
            "left": null
          }
        },
        "1ddc5631ccfb41f397c2dd20533ad232": {
          "model_module": "@jupyter-widgets/controls",
          "model_name": "DropdownModel",
          "state": {
            "_options_labels": [
              "2020",
              "2021"
            ],
            "_view_name": "DropdownView",
            "style": "IPY_MODEL_4c005c7e46c0455eb8ffe56621495f4d",
            "_dom_classes": [],
            "description": "Year",
            "_model_name": "DropdownModel",
            "index": 0,
            "_view_module": "@jupyter-widgets/controls",
            "_model_module_version": "1.5.0",
            "_view_count": null,
            "disabled": false,
            "_view_module_version": "1.5.0",
            "description_tooltip": null,
            "_model_module": "@jupyter-widgets/controls",
            "layout": "IPY_MODEL_a23e5f181bdc4307a923f21393d283eb"
          }
        },
        "6ac689085d504563b7ddf67293253618": {
          "model_module": "@jupyter-widgets/controls",
          "model_name": "DropdownModel",
          "state": {
            "_options_labels": [
              "January",
              "February",
              "March",
              "April",
              "May",
              "June",
              "July",
              "August",
              "September",
              "October",
              "November",
              "December"
            ],
            "_view_name": "DropdownView",
            "style": "IPY_MODEL_1ac7e0b6086344b58901d60f8af41968",
            "_dom_classes": [],
            "description": "Month",
            "_model_name": "DropdownModel",
            "index": 2,
            "_view_module": "@jupyter-widgets/controls",
            "_model_module_version": "1.5.0",
            "_view_count": null,
            "disabled": false,
            "_view_module_version": "1.5.0",
            "description_tooltip": null,
            "_model_module": "@jupyter-widgets/controls",
            "layout": "IPY_MODEL_0ccef66e16b44bdbb728d5aa8b5dfc71"
          }
        },
        "c33f187d6cc9426db7dcd659cedc52c4": {
          "model_module": "@jupyter-widgets/output",
          "model_name": "OutputModel",
          "state": {
            "_view_name": "OutputView",
            "msg_id": "",
            "_dom_classes": [],
            "_model_name": "OutputModel",
            "outputs": [
              {
                "output_type": "display_data",
                "metadata": {
                  "tags": [],
                  "needs_background": "light"
                },
                "image/png": "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\n",
                "text/plain": "<Figure size 1440x720 with 4 Axes>"
              }
            ],
            "_view_module": "@jupyter-widgets/output",
            "_model_module_version": "1.0.0",
            "_view_count": null,
            "_view_module_version": "1.0.0",
            "layout": "IPY_MODEL_8f10537f0ebe4337a70b8e58567ad48c",
            "_model_module": "@jupyter-widgets/output"
          }
        },
        "4c005c7e46c0455eb8ffe56621495f4d": {
          "model_module": "@jupyter-widgets/controls",
          "model_name": "DescriptionStyleModel",
          "state": {
            "_view_name": "StyleView",
            "_model_name": "DescriptionStyleModel",
            "description_width": "",
            "_view_module": "@jupyter-widgets/base",
            "_model_module_version": "1.5.0",
            "_view_count": null,
            "_view_module_version": "1.2.0",
            "_model_module": "@jupyter-widgets/controls"
          }
        },
        "a23e5f181bdc4307a923f21393d283eb": {
          "model_module": "@jupyter-widgets/base",
          "model_name": "LayoutModel",
          "state": {
            "_view_name": "LayoutView",
            "grid_template_rows": null,
            "right": null,
            "justify_content": null,
            "_view_module": "@jupyter-widgets/base",
            "overflow": null,
            "_model_module_version": "1.2.0",
            "_view_count": null,
            "flex_flow": null,
            "width": null,
            "min_width": null,
            "border": null,
            "align_items": null,
            "bottom": null,
            "_model_module": "@jupyter-widgets/base",
            "top": null,
            "grid_column": null,
            "overflow_y": null,
            "overflow_x": null,
            "grid_auto_flow": null,
            "grid_area": null,
            "grid_template_columns": null,
            "flex": null,
            "_model_name": "LayoutModel",
            "justify_items": null,
            "grid_row": null,
            "max_height": null,
            "align_content": null,
            "visibility": null,
            "align_self": null,
            "height": null,
            "min_height": null,
            "padding": null,
            "grid_auto_rows": null,
            "grid_gap": null,
            "max_width": null,
            "order": null,
            "_view_module_version": "1.2.0",
            "grid_template_areas": null,
            "object_position": null,
            "object_fit": null,
            "grid_auto_columns": null,
            "margin": null,
            "display": null,
            "left": null
          }
        },
        "1ac7e0b6086344b58901d60f8af41968": {
          "model_module": "@jupyter-widgets/controls",
          "model_name": "DescriptionStyleModel",
          "state": {
            "_view_name": "StyleView",
            "_model_name": "DescriptionStyleModel",
            "description_width": "",
            "_view_module": "@jupyter-widgets/base",
            "_model_module_version": "1.5.0",
            "_view_count": null,
            "_view_module_version": "1.2.0",
            "_model_module": "@jupyter-widgets/controls"
          }
        },
        "0ccef66e16b44bdbb728d5aa8b5dfc71": {
          "model_module": "@jupyter-widgets/base",
          "model_name": "LayoutModel",
          "state": {
            "_view_name": "LayoutView",
            "grid_template_rows": null,
            "right": null,
            "justify_content": null,
            "_view_module": "@jupyter-widgets/base",
            "overflow": null,
            "_model_module_version": "1.2.0",
            "_view_count": null,
            "flex_flow": null,
            "width": null,
            "min_width": null,
            "border": null,
            "align_items": null,
            "bottom": null,
            "_model_module": "@jupyter-widgets/base",
            "top": null,
            "grid_column": null,
            "overflow_y": null,
            "overflow_x": null,
            "grid_auto_flow": null,
            "grid_area": null,
            "grid_template_columns": null,
            "flex": null,
            "_model_name": "LayoutModel",
            "justify_items": null,
            "grid_row": null,
            "max_height": null,
            "align_content": null,
            "visibility": null,
            "align_self": null,
            "height": null,
            "min_height": null,
            "padding": null,
            "grid_auto_rows": null,
            "grid_gap": null,
            "max_width": null,
            "order": null,
            "_view_module_version": "1.2.0",
            "grid_template_areas": null,
            "object_position": null,
            "object_fit": null,
            "grid_auto_columns": null,
            "margin": null,
            "display": null,
            "left": null
          }
        },
        "8f10537f0ebe4337a70b8e58567ad48c": {
          "model_module": "@jupyter-widgets/base",
          "model_name": "LayoutModel",
          "state": {
            "_view_name": "LayoutView",
            "grid_template_rows": null,
            "right": null,
            "justify_content": null,
            "_view_module": "@jupyter-widgets/base",
            "overflow": null,
            "_model_module_version": "1.2.0",
            "_view_count": null,
            "flex_flow": null,
            "width": null,
            "min_width": null,
            "border": null,
            "align_items": null,
            "bottom": null,
            "_model_module": "@jupyter-widgets/base",
            "top": null,
            "grid_column": null,
            "overflow_y": null,
            "overflow_x": null,
            "grid_auto_flow": null,
            "grid_area": null,
            "grid_template_columns": null,
            "flex": null,
            "_model_name": "LayoutModel",
            "justify_items": null,
            "grid_row": null,
            "max_height": null,
            "align_content": null,
            "visibility": null,
            "align_self": null,
            "height": null,
            "min_height": null,
            "padding": null,
            "grid_auto_rows": null,
            "grid_gap": null,
            "max_width": null,
            "order": null,
            "_view_module_version": "1.2.0",
            "grid_template_areas": null,
            "object_position": null,
            "object_fit": null,
            "grid_auto_columns": null,
            "margin": null,
            "display": null,
            "left": null
          }
        }
      }
    }
  },
  "cells": [
    {
      "cell_type": "markdown",
      "metadata": {
        "id": "view-in-github",
        "colab_type": "text"
      },
      "source": [
        "<a href=\"https://colab.research.google.com/github/gabrielborja/python_data_analysis/blob/main/bysykkel_analysis.ipynb\" target=\"_parent\"><img src=\"https://colab.research.google.com/assets/colab-badge.svg\" alt=\"Open In Colab\"/></a>"
      ]
    },
    {
      "cell_type": "markdown",
      "metadata": {
        "id": "eTZwpRZNRhGY"
      },
      "source": [
        "# Bysykkel Oslo"
      ]
    },
    {
      "cell_type": "markdown",
      "metadata": {
        "id": "sgzkv1LwjLIL"
      },
      "source": [
        "## Uploading packages and data"
      ]
    },
    {
      "cell_type": "code",
      "metadata": {
        "id": "QTRtRZcb-IyF"
      },
      "source": [
        "#Importing necessary packages\n",
        "import numpy as np\n",
        "import pandas as pd\n",
        "import random\n",
        "import matplotlib.pyplot as plt\n",
        "import seaborn as sns"
      ],
      "execution_count": 1,
      "outputs": []
    },
    {
      "cell_type": "code",
      "metadata": {
        "id": "1Z4jxJjRRPLB",
        "colab": {
          "base_uri": "https://localhost:8080/"
        },
        "outputId": "7bd51cc3-5354-4901-c7e4-2c125e5bf94a"
      },
      "source": [
        "#Remove previous versions of the uploaded excel file\n",
        "!rm 2021_05_bysykkel.csv"
      ],
      "execution_count": null,
      "outputs": [
        {
          "output_type": "stream",
          "text": [
            "rm: cannot remove '2021_05_bysykkel.csv': No such file or directory\n"
          ],
          "name": "stdout"
        }
      ]
    },
    {
      "cell_type": "code",
      "metadata": {
        "colab": {
          "resources": {
            "http://localhost:8080/nbextensions/google.colab/files.js": {
              "data": "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",
              "ok": true,
              "headers": [
                [
                  "content-type",
                  "application/javascript"
                ]
              ],
              "status": 200,
              "status_text": ""
            }
          },
          "base_uri": "https://localhost:8080/",
          "height": 73
        },
        "id": "oen97ED1-rh-",
        "outputId": "10190d52-b826-469e-b1f4-31eaa55a8031"
      },
      "source": [
        "#Uploading file from local drive\n",
        "from google.colab import files\n",
        "uploaded = files.upload()"
      ],
      "execution_count": null,
      "outputs": [
        {
          "output_type": "display_data",
          "data": {
            "text/html": [
              "\n",
              "     <input type=\"file\" id=\"files-65f43c29-44d8-4200-bd7f-fbf467dd4b20\" name=\"files[]\" multiple disabled\n",
              "        style=\"border:none\" />\n",
              "     <output id=\"result-65f43c29-44d8-4200-bd7f-fbf467dd4b20\">\n",
              "      Upload widget is only available when the cell has been executed in the\n",
              "      current browser session. Please rerun this cell to enable.\n",
              "      </output>\n",
              "      <script src=\"/nbextensions/google.colab/files.js\"></script> "
            ],
            "text/plain": [
              "<IPython.core.display.HTML object>"
            ]
          },
          "metadata": {
            "tags": []
          }
        },
        {
          "output_type": "stream",
          "text": [
            "Saving 2021_05_bysykkel.csv to 2021_05_bysykkel.csv\n"
          ],
          "name": "stdout"
        }
      ]
    },
    {
      "cell_type": "code",
      "metadata": {
        "id": "03VoNwL0-3O6"
      },
      "source": [
        "#Storing dataset in a Pandas Dataframe\n",
        "import io\n",
        "by_df = pd.read_csv(io.BytesIO(uploaded['2021_05_bysykkel.csv']), parse_dates=True, infer_datetime_format=True)"
      ],
      "execution_count": null,
      "outputs": []
    },
    {
      "cell_type": "code",
      "metadata": {
        "id": "6wPknHC-JSRB",
        "colab": {
          "base_uri": "https://localhost:8080/"
        },
        "outputId": "fc394384-743d-43c2-dd1a-f892cd7d6892"
      },
      "source": [
        "#Checking the dataframe information\n",
        "by_df.info()"
      ],
      "execution_count": null,
      "outputs": [
        {
          "output_type": "stream",
          "text": [
            "<class 'pandas.core.frame.DataFrame'>\n",
            "RangeIndex: 144625 entries, 0 to 144624\n",
            "Data columns (total 13 columns):\n",
            " #   Column                     Non-Null Count   Dtype  \n",
            "---  ------                     --------------   -----  \n",
            " 0   started_at                 144625 non-null  object \n",
            " 1   ended_at                   144625 non-null  object \n",
            " 2   duration                   144625 non-null  int64  \n",
            " 3   start_station_id           144625 non-null  int64  \n",
            " 4   start_station_name         144625 non-null  object \n",
            " 5   start_station_description  144623 non-null  object \n",
            " 6   start_station_latitude     144625 non-null  float64\n",
            " 7   start_station_longitude    144625 non-null  float64\n",
            " 8   end_station_id             144625 non-null  int64  \n",
            " 9   end_station_name           144625 non-null  object \n",
            " 10  end_station_description    144623 non-null  object \n",
            " 11  end_station_latitude       144625 non-null  float64\n",
            " 12  end_station_longitude      144625 non-null  float64\n",
            "dtypes: float64(4), int64(3), object(6)\n",
            "memory usage: 14.3+ MB\n"
          ],
          "name": "stdout"
        }
      ]
    },
    {
      "cell_type": "markdown",
      "metadata": {
        "id": "nFhbxv-B6dN7"
      },
      "source": [
        "##Initial Data manipulation and aggregation\n",
        "\n"
      ]
    },
    {
      "cell_type": "code",
      "metadata": {
        "colab": {
          "base_uri": "https://localhost:8080/"
        },
        "id": "L-nwCWK84UZT",
        "outputId": "39dd797d-adad-484e-ce6b-3fbc55d1cee8"
      },
      "source": [
        "#Convert columns into datetime object and Oslo timezone\n",
        "by_df['started_at'] = pd.to_datetime(by_df['started_at'], format='%Y-%m-%d %H:%M:%S').dt.tz_convert('Europe/Oslo')\n",
        "by_df['ended_at'] = pd.to_datetime(by_df['ended_at'], format='%Y-%m-%d %H:%M:%S').dt.tz_convert('Europe/Oslo')\n",
        "by_df.info()"
      ],
      "execution_count": null,
      "outputs": [
        {
          "output_type": "stream",
          "text": [
            "<class 'pandas.core.frame.DataFrame'>\n",
            "RangeIndex: 144625 entries, 0 to 144624\n",
            "Data columns (total 13 columns):\n",
            " #   Column                     Non-Null Count   Dtype                      \n",
            "---  ------                     --------------   -----                      \n",
            " 0   started_at                 144625 non-null  datetime64[ns, Europe/Oslo]\n",
            " 1   ended_at                   144625 non-null  datetime64[ns, Europe/Oslo]\n",
            " 2   duration                   144625 non-null  int64                      \n",
            " 3   start_station_id           144625 non-null  int64                      \n",
            " 4   start_station_name         144625 non-null  object                     \n",
            " 5   start_station_description  144623 non-null  object                     \n",
            " 6   start_station_latitude     144625 non-null  float64                    \n",
            " 7   start_station_longitude    144625 non-null  float64                    \n",
            " 8   end_station_id             144625 non-null  int64                      \n",
            " 9   end_station_name           144625 non-null  object                     \n",
            " 10  end_station_description    144623 non-null  object                     \n",
            " 11  end_station_latitude       144625 non-null  float64                    \n",
            " 12  end_station_longitude      144625 non-null  float64                    \n",
            "dtypes: datetime64[ns, Europe/Oslo](2), float64(4), int64(3), object(4)\n",
            "memory usage: 14.3+ MB\n"
          ],
          "name": "stdout"
        }
      ]
    },
    {
      "cell_type": "code",
      "metadata": {
        "colab": {
          "base_uri": "https://localhost:8080/",
          "height": 160
        },
        "id": "aKX5w8Ws50XN",
        "outputId": "ad1c57b4-9c42-42b8-a4cc-abe8352834b9"
      },
      "source": [
        "#Checking the dataframe head\n",
        "by_df.head(2)"
      ],
      "execution_count": null,
      "outputs": [
        {
          "output_type": "execute_result",
          "data": {
            "text/html": [
              "<div>\n",
              "<style scoped>\n",
              "    .dataframe tbody tr th:only-of-type {\n",
              "        vertical-align: middle;\n",
              "    }\n",
              "\n",
              "    .dataframe tbody tr th {\n",
              "        vertical-align: top;\n",
              "    }\n",
              "\n",
              "    .dataframe thead th {\n",
              "        text-align: right;\n",
              "    }\n",
              "</style>\n",
              "<table border=\"1\" class=\"dataframe\">\n",
              "  <thead>\n",
              "    <tr style=\"text-align: right;\">\n",
              "      <th></th>\n",
              "      <th>started_at</th>\n",
              "      <th>ended_at</th>\n",
              "      <th>duration</th>\n",
              "      <th>start_station_id</th>\n",
              "      <th>start_station_name</th>\n",
              "      <th>start_station_description</th>\n",
              "      <th>start_station_latitude</th>\n",
              "      <th>start_station_longitude</th>\n",
              "      <th>end_station_id</th>\n",
              "      <th>end_station_name</th>\n",
              "      <th>end_station_description</th>\n",
              "      <th>end_station_latitude</th>\n",
              "      <th>end_station_longitude</th>\n",
              "    </tr>\n",
              "  </thead>\n",
              "  <tbody>\n",
              "    <tr>\n",
              "      <th>0</th>\n",
              "      <td>2021-05-01 05:02:08.105000+02:00</td>\n",
              "      <td>2021-05-01 05:07:05.124000+02:00</td>\n",
              "      <td>297</td>\n",
              "      <td>565</td>\n",
              "      <td>Mailundveien</td>\n",
              "      <td>sør for Torshovdalen</td>\n",
              "      <td>59.930918</td>\n",
              "      <td>10.77282</td>\n",
              "      <td>493</td>\n",
              "      <td>Sofienbergparken nordvest</td>\n",
              "      <td>langs Helgesens Gate</td>\n",
              "      <td>59.924364</td>\n",
              "      <td>10.761586</td>\n",
              "    </tr>\n",
              "    <tr>\n",
              "      <th>1</th>\n",
              "      <td>2021-05-01 05:06:49.811000+02:00</td>\n",
              "      <td>2021-05-01 05:17:37.118000+02:00</td>\n",
              "      <td>647</td>\n",
              "      <td>459</td>\n",
              "      <td>Valkyrieplassen</td>\n",
              "      <td>ved Bogstadveien</td>\n",
              "      <td>59.928132</td>\n",
              "      <td>10.71842</td>\n",
              "      <td>499</td>\n",
              "      <td>Bjerregaards gate</td>\n",
              "      <td>ovenfor Fredrikke Qvams gate</td>\n",
              "      <td>59.925488</td>\n",
              "      <td>10.746058</td>\n",
              "    </tr>\n",
              "  </tbody>\n",
              "</table>\n",
              "</div>"
            ],
            "text/plain": [
              "                        started_at  ... end_station_longitude\n",
              "0 2021-05-01 05:02:08.105000+02:00  ...             10.761586\n",
              "1 2021-05-01 05:06:49.811000+02:00  ...             10.746058\n",
              "\n",
              "[2 rows x 13 columns]"
            ]
          },
          "metadata": {
            "tags": []
          },
          "execution_count": 7
        }
      ]
    },
    {
      "cell_type": "code",
      "metadata": {
        "id": "4r7R8-oA6XBs"
      },
      "source": [
        "#Creating 2 dataframes, one with starting trips and one with end trips\n",
        "st_df = by_df[['started_at', 'start_station_id', 'start_station_name', 'start_station_latitude', 'start_station_longitude', 'duration']]\n",
        "en_df = by_df[['ended_at', 'end_station_id', 'end_station_name', 'end_station_latitude', 'end_station_longitude', 'duration']]"
      ],
      "execution_count": null,
      "outputs": []
    },
    {
      "cell_type": "code",
      "metadata": {
        "id": "egIQBPjdPitO"
      },
      "source": [
        "#Creating a function to extract categories from datetime object\n",
        "def convert_dates(df):\n",
        "  \"\"\"Extract year, month, week number, day, hour and minutes from datetime column\"\"\"\n",
        "  df = df.assign(year = df.iloc[:,0].dt.year,\n",
        "                 month = df.iloc[:,0].dt.month_name(),\n",
        "                 weeknum = df.iloc[:,0].dt.isocalendar().week,\n",
        "                 day = df.iloc[:,0].dt.day_name(),\n",
        "                 hour = df.iloc[:,0].dt.hour,\n",
        "                 minute = df.iloc[:,0].dt.minute\n",
        "                 )\n",
        "  return df"
      ],
      "execution_count": null,
      "outputs": []
    },
    {
      "cell_type": "code",
      "metadata": {
        "colab": {
          "base_uri": "https://localhost:8080/",
          "height": 106
        },
        "id": "aTuzDaWRS02L",
        "outputId": "81b5baf6-5275-4da7-cd04-1a13c7c55add"
      },
      "source": [
        "#Converting dates for starting journeys dataframe\n",
        "st_df = convert_dates(st_df)\n",
        "st_df.head(2)"
      ],
      "execution_count": null,
      "outputs": [
        {
          "output_type": "execute_result",
          "data": {
            "text/html": [
              "<div>\n",
              "<style scoped>\n",
              "    .dataframe tbody tr th:only-of-type {\n",
              "        vertical-align: middle;\n",
              "    }\n",
              "\n",
              "    .dataframe tbody tr th {\n",
              "        vertical-align: top;\n",
              "    }\n",
              "\n",
              "    .dataframe thead th {\n",
              "        text-align: right;\n",
              "    }\n",
              "</style>\n",
              "<table border=\"1\" class=\"dataframe\">\n",
              "  <thead>\n",
              "    <tr style=\"text-align: right;\">\n",
              "      <th></th>\n",
              "      <th>started_at</th>\n",
              "      <th>start_station_id</th>\n",
              "      <th>start_station_name</th>\n",
              "      <th>start_station_latitude</th>\n",
              "      <th>start_station_longitude</th>\n",
              "      <th>duration</th>\n",
              "      <th>year</th>\n",
              "      <th>month</th>\n",
              "      <th>weeknum</th>\n",
              "      <th>day</th>\n",
              "      <th>hour</th>\n",
              "      <th>minute</th>\n",
              "    </tr>\n",
              "  </thead>\n",
              "  <tbody>\n",
              "    <tr>\n",
              "      <th>0</th>\n",
              "      <td>2021-05-01 05:02:08.105000+02:00</td>\n",
              "      <td>565</td>\n",
              "      <td>Mailundveien</td>\n",
              "      <td>59.930918</td>\n",
              "      <td>10.77282</td>\n",
              "      <td>297</td>\n",
              "      <td>2021</td>\n",
              "      <td>May</td>\n",
              "      <td>17</td>\n",
              "      <td>Saturday</td>\n",
              "      <td>5</td>\n",
              "      <td>2</td>\n",
              "    </tr>\n",
              "    <tr>\n",
              "      <th>1</th>\n",
              "      <td>2021-05-01 05:06:49.811000+02:00</td>\n",
              "      <td>459</td>\n",
              "      <td>Valkyrieplassen</td>\n",
              "      <td>59.928132</td>\n",
              "      <td>10.71842</td>\n",
              "      <td>647</td>\n",
              "      <td>2021</td>\n",
              "      <td>May</td>\n",
              "      <td>17</td>\n",
              "      <td>Saturday</td>\n",
              "      <td>5</td>\n",
              "      <td>6</td>\n",
              "    </tr>\n",
              "  </tbody>\n",
              "</table>\n",
              "</div>"
            ],
            "text/plain": [
              "                        started_at  start_station_id  ... hour  minute\n",
              "0 2021-05-01 05:02:08.105000+02:00               565  ...    5       2\n",
              "1 2021-05-01 05:06:49.811000+02:00               459  ...    5       6\n",
              "\n",
              "[2 rows x 12 columns]"
            ]
          },
          "metadata": {
            "tags": []
          },
          "execution_count": 10
        }
      ]
    },
    {
      "cell_type": "code",
      "metadata": {
        "colab": {
          "base_uri": "https://localhost:8080/",
          "height": 106
        },
        "id": "TjdQdzNIUkUJ",
        "outputId": "361d7fc4-7c02-4fbd-bb12-f32e3074f66a"
      },
      "source": [
        "#Converting dates for end journeys dataframe\n",
        "en_df = convert_dates(en_df)\n",
        "en_df.head(2)"
      ],
      "execution_count": null,
      "outputs": [
        {
          "output_type": "execute_result",
          "data": {
            "text/html": [
              "<div>\n",
              "<style scoped>\n",
              "    .dataframe tbody tr th:only-of-type {\n",
              "        vertical-align: middle;\n",
              "    }\n",
              "\n",
              "    .dataframe tbody tr th {\n",
              "        vertical-align: top;\n",
              "    }\n",
              "\n",
              "    .dataframe thead th {\n",
              "        text-align: right;\n",
              "    }\n",
              "</style>\n",
              "<table border=\"1\" class=\"dataframe\">\n",
              "  <thead>\n",
              "    <tr style=\"text-align: right;\">\n",
              "      <th></th>\n",
              "      <th>ended_at</th>\n",
              "      <th>end_station_id</th>\n",
              "      <th>end_station_name</th>\n",
              "      <th>end_station_latitude</th>\n",
              "      <th>end_station_longitude</th>\n",
              "      <th>duration</th>\n",
              "      <th>year</th>\n",
              "      <th>month</th>\n",
              "      <th>weeknum</th>\n",
              "      <th>day</th>\n",
              "      <th>hour</th>\n",
              "      <th>minute</th>\n",
              "    </tr>\n",
              "  </thead>\n",
              "  <tbody>\n",
              "    <tr>\n",
              "      <th>0</th>\n",
              "      <td>2021-05-01 05:07:05.124000+02:00</td>\n",
              "      <td>493</td>\n",
              "      <td>Sofienbergparken nordvest</td>\n",
              "      <td>59.924364</td>\n",
              "      <td>10.761586</td>\n",
              "      <td>297</td>\n",
              "      <td>2021</td>\n",
              "      <td>May</td>\n",
              "      <td>17</td>\n",
              "      <td>Saturday</td>\n",
              "      <td>5</td>\n",
              "      <td>7</td>\n",
              "    </tr>\n",
              "    <tr>\n",
              "      <th>1</th>\n",
              "      <td>2021-05-01 05:17:37.118000+02:00</td>\n",
              "      <td>499</td>\n",
              "      <td>Bjerregaards gate</td>\n",
              "      <td>59.925488</td>\n",
              "      <td>10.746058</td>\n",
              "      <td>647</td>\n",
              "      <td>2021</td>\n",
              "      <td>May</td>\n",
              "      <td>17</td>\n",
              "      <td>Saturday</td>\n",
              "      <td>5</td>\n",
              "      <td>17</td>\n",
              "    </tr>\n",
              "  </tbody>\n",
              "</table>\n",
              "</div>"
            ],
            "text/plain": [
              "                          ended_at  end_station_id  ... hour  minute\n",
              "0 2021-05-01 05:07:05.124000+02:00             493  ...    5       7\n",
              "1 2021-05-01 05:17:37.118000+02:00             499  ...    5      17\n",
              "\n",
              "[2 rows x 12 columns]"
            ]
          },
          "metadata": {
            "tags": []
          },
          "execution_count": 11
        }
      ]
    },
    {
      "cell_type": "code",
      "metadata": {
        "colab": {
          "base_uri": "https://localhost:8080/",
          "height": 343
        },
        "id": "CCuqDk_Jijmj",
        "outputId": "5e6b81e3-9156-46ed-b35e-18e92879391e"
      },
      "source": [
        "#Computing Top start_location stations\n",
        "st_loc = st_df.groupby(['year', 'month', 'start_station_name', 'start_station_latitude', 'start_station_longitude']).agg({'start_station_id': 'count',\n",
        "                                                                                                         'duration': 'mean'}).reset_index()\n",
        "st_loc = st_loc.assign(duration = round(st_loc['duration']/60, 2))\n",
        "st_loc = st_loc.rename(columns={'start_station_id': 'trips', 'duration': 'mean_min'}).sort_values(by='trips', ascending=False).reset_index(drop=True)\n",
        "st_loc = st_loc.rename(columns={'start_station_name':'name', 'start_station_latitude':'lat', 'start_station_longitude':'lon'})\n",
        "st_loc.head(10)"
      ],
      "execution_count": null,
      "outputs": [
        {
          "output_type": "execute_result",
          "data": {
            "text/html": [
              "<div>\n",
              "<style scoped>\n",
              "    .dataframe tbody tr th:only-of-type {\n",
              "        vertical-align: middle;\n",
              "    }\n",
              "\n",
              "    .dataframe tbody tr th {\n",
              "        vertical-align: top;\n",
              "    }\n",
              "\n",
              "    .dataframe thead th {\n",
              "        text-align: right;\n",
              "    }\n",
              "</style>\n",
              "<table border=\"1\" class=\"dataframe\">\n",
              "  <thead>\n",
              "    <tr style=\"text-align: right;\">\n",
              "      <th></th>\n",
              "      <th>year</th>\n",
              "      <th>month</th>\n",
              "      <th>name</th>\n",
              "      <th>lat</th>\n",
              "      <th>lon</th>\n",
              "      <th>trips</th>\n",
              "      <th>mean_min</th>\n",
              "    </tr>\n",
              "  </thead>\n",
              "  <tbody>\n",
              "    <tr>\n",
              "      <th>0</th>\n",
              "      <td>2021</td>\n",
              "      <td>May</td>\n",
              "      <td>Alexander Kiellands Plass</td>\n",
              "      <td>59.928067</td>\n",
              "      <td>10.751203</td>\n",
              "      <td>2137</td>\n",
              "      <td>11.62</td>\n",
              "    </tr>\n",
              "    <tr>\n",
              "      <th>1</th>\n",
              "      <td>2021</td>\n",
              "      <td>May</td>\n",
              "      <td>Ringnes Park</td>\n",
              "      <td>59.928434</td>\n",
              "      <td>10.759430</td>\n",
              "      <td>1900</td>\n",
              "      <td>10.93</td>\n",
              "    </tr>\n",
              "    <tr>\n",
              "      <th>2</th>\n",
              "      <td>2021</td>\n",
              "      <td>May</td>\n",
              "      <td>Olaf Ryes plass</td>\n",
              "      <td>59.922425</td>\n",
              "      <td>10.758182</td>\n",
              "      <td>1661</td>\n",
              "      <td>12.92</td>\n",
              "    </tr>\n",
              "    <tr>\n",
              "      <th>3</th>\n",
              "      <td>2021</td>\n",
              "      <td>May</td>\n",
              "      <td>Bislettgata</td>\n",
              "      <td>59.923774</td>\n",
              "      <td>10.734713</td>\n",
              "      <td>1533</td>\n",
              "      <td>11.77</td>\n",
              "    </tr>\n",
              "    <tr>\n",
              "      <th>4</th>\n",
              "      <td>2021</td>\n",
              "      <td>May</td>\n",
              "      <td>Rådhusbrygge 4</td>\n",
              "      <td>59.910847</td>\n",
              "      <td>10.730377</td>\n",
              "      <td>1515</td>\n",
              "      <td>17.29</td>\n",
              "    </tr>\n",
              "    <tr>\n",
              "      <th>5</th>\n",
              "      <td>2021</td>\n",
              "      <td>May</td>\n",
              "      <td>Storo Storsenter</td>\n",
              "      <td>59.946710</td>\n",
              "      <td>10.773805</td>\n",
              "      <td>1492</td>\n",
              "      <td>14.70</td>\n",
              "    </tr>\n",
              "    <tr>\n",
              "      <th>6</th>\n",
              "      <td>2021</td>\n",
              "      <td>May</td>\n",
              "      <td>Sukkerbiten</td>\n",
              "      <td>59.905124</td>\n",
              "      <td>10.753764</td>\n",
              "      <td>1442</td>\n",
              "      <td>18.30</td>\n",
              "    </tr>\n",
              "    <tr>\n",
              "      <th>7</th>\n",
              "      <td>2021</td>\n",
              "      <td>May</td>\n",
              "      <td>Majorstuen</td>\n",
              "      <td>59.929045</td>\n",
              "      <td>10.716926</td>\n",
              "      <td>1400</td>\n",
              "      <td>12.83</td>\n",
              "    </tr>\n",
              "    <tr>\n",
              "      <th>8</th>\n",
              "      <td>2021</td>\n",
              "      <td>May</td>\n",
              "      <td>Bislett Stadion</td>\n",
              "      <td>59.925471</td>\n",
              "      <td>10.731219</td>\n",
              "      <td>1360</td>\n",
              "      <td>11.98</td>\n",
              "    </tr>\n",
              "    <tr>\n",
              "      <th>9</th>\n",
              "      <td>2021</td>\n",
              "      <td>May</td>\n",
              "      <td>Marcus Thranes gate</td>\n",
              "      <td>59.932772</td>\n",
              "      <td>10.758595</td>\n",
              "      <td>1352</td>\n",
              "      <td>11.62</td>\n",
              "    </tr>\n",
              "  </tbody>\n",
              "</table>\n",
              "</div>"
            ],
            "text/plain": [
              "   year month                       name        lat        lon  trips  mean_min\n",
              "0  2021   May  Alexander Kiellands Plass  59.928067  10.751203   2137     11.62\n",
              "1  2021   May               Ringnes Park  59.928434  10.759430   1900     10.93\n",
              "2  2021   May            Olaf Ryes plass  59.922425  10.758182   1661     12.92\n",
              "3  2021   May                Bislettgata  59.923774  10.734713   1533     11.77\n",
              "4  2021   May             Rådhusbrygge 4  59.910847  10.730377   1515     17.29\n",
              "5  2021   May           Storo Storsenter  59.946710  10.773805   1492     14.70\n",
              "6  2021   May                Sukkerbiten  59.905124  10.753764   1442     18.30\n",
              "7  2021   May                 Majorstuen  59.929045  10.716926   1400     12.83\n",
              "8  2021   May            Bislett Stadion  59.925471  10.731219   1360     11.98\n",
              "9  2021   May        Marcus Thranes gate  59.932772  10.758595   1352     11.62"
            ]
          },
          "metadata": {
            "tags": []
          },
          "execution_count": 12
        }
      ]
    },
    {
      "cell_type": "code",
      "metadata": {
        "colab": {
          "base_uri": "https://localhost:8080/",
          "height": 728
        },
        "id": "0QQ5u97Sf3Kb",
        "outputId": "ed92d311-b7c3-47f9-bcb0-634c0f17a528"
      },
      "source": [
        "#Computing top hours by month\n",
        "st_hr = st_df.groupby(['year', 'month', 'hour']).agg({'start_station_id': 'count'}).reset_index()\n",
        "st_hr = st_hr.rename(columns={'start_station_id': 'count'}).sort_values(by='hour').reset_index(drop=True)\n",
        "st_hr"
      ],
      "execution_count": null,
      "outputs": [
        {
          "output_type": "execute_result",
          "data": {
            "text/html": [
              "<div>\n",
              "<style scoped>\n",
              "    .dataframe tbody tr th:only-of-type {\n",
              "        vertical-align: middle;\n",
              "    }\n",
              "\n",
              "    .dataframe tbody tr th {\n",
              "        vertical-align: top;\n",
              "    }\n",
              "\n",
              "    .dataframe thead th {\n",
              "        text-align: right;\n",
              "    }\n",
              "</style>\n",
              "<table border=\"1\" class=\"dataframe\">\n",
              "  <thead>\n",
              "    <tr style=\"text-align: right;\">\n",
              "      <th></th>\n",
              "      <th>year</th>\n",
              "      <th>month</th>\n",
              "      <th>hour</th>\n",
              "      <th>count</th>\n",
              "    </tr>\n",
              "  </thead>\n",
              "  <tbody>\n",
              "    <tr>\n",
              "      <th>0</th>\n",
              "      <td>2021</td>\n",
              "      <td>June</td>\n",
              "      <td>0</td>\n",
              "      <td>40</td>\n",
              "    </tr>\n",
              "    <tr>\n",
              "      <th>1</th>\n",
              "      <td>2021</td>\n",
              "      <td>May</td>\n",
              "      <td>0</td>\n",
              "      <td>1628</td>\n",
              "    </tr>\n",
              "    <tr>\n",
              "      <th>2</th>\n",
              "      <td>2021</td>\n",
              "      <td>May</td>\n",
              "      <td>1</td>\n",
              "      <td>2</td>\n",
              "    </tr>\n",
              "    <tr>\n",
              "      <th>3</th>\n",
              "      <td>2021</td>\n",
              "      <td>May</td>\n",
              "      <td>3</td>\n",
              "      <td>1</td>\n",
              "    </tr>\n",
              "    <tr>\n",
              "      <th>4</th>\n",
              "      <td>2021</td>\n",
              "      <td>May</td>\n",
              "      <td>5</td>\n",
              "      <td>453</td>\n",
              "    </tr>\n",
              "    <tr>\n",
              "      <th>5</th>\n",
              "      <td>2021</td>\n",
              "      <td>May</td>\n",
              "      <td>6</td>\n",
              "      <td>1894</td>\n",
              "    </tr>\n",
              "    <tr>\n",
              "      <th>6</th>\n",
              "      <td>2021</td>\n",
              "      <td>May</td>\n",
              "      <td>7</td>\n",
              "      <td>6330</td>\n",
              "    </tr>\n",
              "    <tr>\n",
              "      <th>7</th>\n",
              "      <td>2021</td>\n",
              "      <td>May</td>\n",
              "      <td>8</td>\n",
              "      <td>8820</td>\n",
              "    </tr>\n",
              "    <tr>\n",
              "      <th>8</th>\n",
              "      <td>2021</td>\n",
              "      <td>May</td>\n",
              "      <td>9</td>\n",
              "      <td>6172</td>\n",
              "    </tr>\n",
              "    <tr>\n",
              "      <th>9</th>\n",
              "      <td>2021</td>\n",
              "      <td>May</td>\n",
              "      <td>10</td>\n",
              "      <td>5625</td>\n",
              "    </tr>\n",
              "    <tr>\n",
              "      <th>10</th>\n",
              "      <td>2021</td>\n",
              "      <td>May</td>\n",
              "      <td>11</td>\n",
              "      <td>6881</td>\n",
              "    </tr>\n",
              "    <tr>\n",
              "      <th>11</th>\n",
              "      <td>2021</td>\n",
              "      <td>May</td>\n",
              "      <td>12</td>\n",
              "      <td>7810</td>\n",
              "    </tr>\n",
              "    <tr>\n",
              "      <th>12</th>\n",
              "      <td>2021</td>\n",
              "      <td>May</td>\n",
              "      <td>13</td>\n",
              "      <td>8534</td>\n",
              "    </tr>\n",
              "    <tr>\n",
              "      <th>13</th>\n",
              "      <td>2021</td>\n",
              "      <td>May</td>\n",
              "      <td>14</td>\n",
              "      <td>9745</td>\n",
              "    </tr>\n",
              "    <tr>\n",
              "      <th>14</th>\n",
              "      <td>2021</td>\n",
              "      <td>May</td>\n",
              "      <td>15</td>\n",
              "      <td>11813</td>\n",
              "    </tr>\n",
              "    <tr>\n",
              "      <th>15</th>\n",
              "      <td>2021</td>\n",
              "      <td>May</td>\n",
              "      <td>16</td>\n",
              "      <td>14149</td>\n",
              "    </tr>\n",
              "    <tr>\n",
              "      <th>16</th>\n",
              "      <td>2021</td>\n",
              "      <td>May</td>\n",
              "      <td>17</td>\n",
              "      <td>13226</td>\n",
              "    </tr>\n",
              "    <tr>\n",
              "      <th>17</th>\n",
              "      <td>2021</td>\n",
              "      <td>May</td>\n",
              "      <td>18</td>\n",
              "      <td>11279</td>\n",
              "    </tr>\n",
              "    <tr>\n",
              "      <th>18</th>\n",
              "      <td>2021</td>\n",
              "      <td>May</td>\n",
              "      <td>19</td>\n",
              "      <td>9159</td>\n",
              "    </tr>\n",
              "    <tr>\n",
              "      <th>19</th>\n",
              "      <td>2021</td>\n",
              "      <td>May</td>\n",
              "      <td>20</td>\n",
              "      <td>7188</td>\n",
              "    </tr>\n",
              "    <tr>\n",
              "      <th>20</th>\n",
              "      <td>2021</td>\n",
              "      <td>May</td>\n",
              "      <td>21</td>\n",
              "      <td>5634</td>\n",
              "    </tr>\n",
              "    <tr>\n",
              "      <th>21</th>\n",
              "      <td>2021</td>\n",
              "      <td>May</td>\n",
              "      <td>22</td>\n",
              "      <td>5144</td>\n",
              "    </tr>\n",
              "    <tr>\n",
              "      <th>22</th>\n",
              "      <td>2021</td>\n",
              "      <td>May</td>\n",
              "      <td>23</td>\n",
              "      <td>3098</td>\n",
              "    </tr>\n",
              "  </tbody>\n",
              "</table>\n",
              "</div>"
            ],
            "text/plain": [
              "    year month  hour  count\n",
              "0   2021  June     0     40\n",
              "1   2021   May     0   1628\n",
              "2   2021   May     1      2\n",
              "3   2021   May     3      1\n",
              "4   2021   May     5    453\n",
              "5   2021   May     6   1894\n",
              "6   2021   May     7   6330\n",
              "7   2021   May     8   8820\n",
              "8   2021   May     9   6172\n",
              "9   2021   May    10   5625\n",
              "10  2021   May    11   6881\n",
              "11  2021   May    12   7810\n",
              "12  2021   May    13   8534\n",
              "13  2021   May    14   9745\n",
              "14  2021   May    15  11813\n",
              "15  2021   May    16  14149\n",
              "16  2021   May    17  13226\n",
              "17  2021   May    18  11279\n",
              "18  2021   May    19   9159\n",
              "19  2021   May    20   7188\n",
              "20  2021   May    21   5634\n",
              "21  2021   May    22   5144\n",
              "22  2021   May    23   3098"
            ]
          },
          "metadata": {
            "tags": []
          },
          "execution_count": 13
        }
      ]
    },
    {
      "cell_type": "code",
      "metadata": {
        "colab": {
          "base_uri": "https://localhost:8080/",
          "height": 343
        },
        "id": "DwAjTuTIk1o8",
        "outputId": "711e359d-c861-4bbf-a64b-d70978d39e9d"
      },
      "source": [
        "#Computing Top end_location stations\n",
        "en_loc = en_df.groupby(['year', 'month', 'end_station_name', 'end_station_latitude', 'end_station_longitude']).agg({'end_station_id': 'count',\n",
        "                                                                                                   'duration': 'mean'}).reset_index()\n",
        "en_loc = en_loc.assign(duration = round(en_loc['duration']/60, 2))\n",
        "en_loc = en_loc.rename(columns={'end_station_id': 'trips', 'duration': 'mean_min'}).sort_values(by='trips', ascending=False).reset_index(drop=True)\n",
        "en_loc = en_loc.rename(columns={'end_station_name':'name', 'end_station_latitude':'lat', 'end_station_longitude':'lon'})\n",
        "en_loc.head(10)"
      ],
      "execution_count": null,
      "outputs": [
        {
          "output_type": "execute_result",
          "data": {
            "text/html": [
              "<div>\n",
              "<style scoped>\n",
              "    .dataframe tbody tr th:only-of-type {\n",
              "        vertical-align: middle;\n",
              "    }\n",
              "\n",
              "    .dataframe tbody tr th {\n",
              "        vertical-align: top;\n",
              "    }\n",
              "\n",
              "    .dataframe thead th {\n",
              "        text-align: right;\n",
              "    }\n",
              "</style>\n",
              "<table border=\"1\" class=\"dataframe\">\n",
              "  <thead>\n",
              "    <tr style=\"text-align: right;\">\n",
              "      <th></th>\n",
              "      <th>year</th>\n",
              "      <th>month</th>\n",
              "      <th>name</th>\n",
              "      <th>lat</th>\n",
              "      <th>lon</th>\n",
              "      <th>trips</th>\n",
              "      <th>mean_min</th>\n",
              "    </tr>\n",
              "  </thead>\n",
              "  <tbody>\n",
              "    <tr>\n",
              "      <th>0</th>\n",
              "      <td>2021</td>\n",
              "      <td>May</td>\n",
              "      <td>Rådhusbrygge 4</td>\n",
              "      <td>59.910847</td>\n",
              "      <td>10.730377</td>\n",
              "      <td>2839</td>\n",
              "      <td>15.74</td>\n",
              "    </tr>\n",
              "    <tr>\n",
              "      <th>1</th>\n",
              "      <td>2021</td>\n",
              "      <td>May</td>\n",
              "      <td>Olaf Ryes plass</td>\n",
              "      <td>59.922425</td>\n",
              "      <td>10.758182</td>\n",
              "      <td>2186</td>\n",
              "      <td>12.01</td>\n",
              "    </tr>\n",
              "    <tr>\n",
              "      <th>2</th>\n",
              "      <td>2021</td>\n",
              "      <td>May</td>\n",
              "      <td>Alexander Kiellands Plass</td>\n",
              "      <td>59.928067</td>\n",
              "      <td>10.751203</td>\n",
              "      <td>2128</td>\n",
              "      <td>11.41</td>\n",
              "    </tr>\n",
              "    <tr>\n",
              "      <th>3</th>\n",
              "      <td>2021</td>\n",
              "      <td>May</td>\n",
              "      <td>Ringnes Park</td>\n",
              "      <td>59.928434</td>\n",
              "      <td>10.759430</td>\n",
              "      <td>1900</td>\n",
              "      <td>11.00</td>\n",
              "    </tr>\n",
              "    <tr>\n",
              "      <th>4</th>\n",
              "      <td>2021</td>\n",
              "      <td>May</td>\n",
              "      <td>Kirkeristen</td>\n",
              "      <td>59.913000</td>\n",
              "      <td>10.746761</td>\n",
              "      <td>1802</td>\n",
              "      <td>11.33</td>\n",
              "    </tr>\n",
              "    <tr>\n",
              "      <th>5</th>\n",
              "      <td>2021</td>\n",
              "      <td>May</td>\n",
              "      <td>Tjuvholmen</td>\n",
              "      <td>59.909467</td>\n",
              "      <td>10.722509</td>\n",
              "      <td>1712</td>\n",
              "      <td>14.58</td>\n",
              "    </tr>\n",
              "    <tr>\n",
              "      <th>6</th>\n",
              "      <td>2021</td>\n",
              "      <td>May</td>\n",
              "      <td>Sukkerbiten</td>\n",
              "      <td>59.905124</td>\n",
              "      <td>10.753764</td>\n",
              "      <td>1710</td>\n",
              "      <td>19.19</td>\n",
              "    </tr>\n",
              "    <tr>\n",
              "      <th>7</th>\n",
              "      <td>2021</td>\n",
              "      <td>May</td>\n",
              "      <td>Helga Helgesens plass</td>\n",
              "      <td>59.912111</td>\n",
              "      <td>10.766194</td>\n",
              "      <td>1628</td>\n",
              "      <td>12.82</td>\n",
              "    </tr>\n",
              "    <tr>\n",
              "      <th>8</th>\n",
              "      <td>2021</td>\n",
              "      <td>May</td>\n",
              "      <td>Torggata</td>\n",
              "      <td>59.915983</td>\n",
              "      <td>10.751551</td>\n",
              "      <td>1555</td>\n",
              "      <td>11.54</td>\n",
              "    </tr>\n",
              "    <tr>\n",
              "      <th>9</th>\n",
              "      <td>2021</td>\n",
              "      <td>May</td>\n",
              "      <td>Sjøsiden ved trappen</td>\n",
              "      <td>59.910154</td>\n",
              "      <td>10.751981</td>\n",
              "      <td>1514</td>\n",
              "      <td>14.68</td>\n",
              "    </tr>\n",
              "  </tbody>\n",
              "</table>\n",
              "</div>"
            ],
            "text/plain": [
              "   year month                       name        lat        lon  trips  mean_min\n",
              "0  2021   May             Rådhusbrygge 4  59.910847  10.730377   2839     15.74\n",
              "1  2021   May            Olaf Ryes plass  59.922425  10.758182   2186     12.01\n",
              "2  2021   May  Alexander Kiellands Plass  59.928067  10.751203   2128     11.41\n",
              "3  2021   May               Ringnes Park  59.928434  10.759430   1900     11.00\n",
              "4  2021   May                Kirkeristen  59.913000  10.746761   1802     11.33\n",
              "5  2021   May                 Tjuvholmen  59.909467  10.722509   1712     14.58\n",
              "6  2021   May                Sukkerbiten  59.905124  10.753764   1710     19.19\n",
              "7  2021   May      Helga Helgesens plass  59.912111  10.766194   1628     12.82\n",
              "8  2021   May                   Torggata  59.915983  10.751551   1555     11.54\n",
              "9  2021   May       Sjøsiden ved trappen  59.910154  10.751981   1514     14.68"
            ]
          },
          "metadata": {
            "tags": []
          },
          "execution_count": 14
        }
      ]
    },
    {
      "cell_type": "code",
      "metadata": {
        "colab": {
          "base_uri": "https://localhost:8080/",
          "height": 787
        },
        "id": "iLQ1iCA4jAb1",
        "outputId": "886f6957-bd56-4f20-d25b-bf0f71e71db6"
      },
      "source": [
        "#Computing top hours by month\n",
        "en_hr = en_df.groupby(['year', 'month', 'hour']).agg({'end_station_id': 'count'}).reset_index()\n",
        "en_hr = en_hr.rename(columns={'end_station_id': 'count'}).sort_values(by='hour').reset_index(drop=True)\n",
        "en_hr"
      ],
      "execution_count": null,
      "outputs": [
        {
          "output_type": "execute_result",
          "data": {
            "text/html": [
              "<div>\n",
              "<style scoped>\n",
              "    .dataframe tbody tr th:only-of-type {\n",
              "        vertical-align: middle;\n",
              "    }\n",
              "\n",
              "    .dataframe tbody tr th {\n",
              "        vertical-align: top;\n",
              "    }\n",
              "\n",
              "    .dataframe thead th {\n",
              "        text-align: right;\n",
              "    }\n",
              "</style>\n",
              "<table border=\"1\" class=\"dataframe\">\n",
              "  <thead>\n",
              "    <tr style=\"text-align: right;\">\n",
              "      <th></th>\n",
              "      <th>year</th>\n",
              "      <th>month</th>\n",
              "      <th>hour</th>\n",
              "      <th>count</th>\n",
              "    </tr>\n",
              "  </thead>\n",
              "  <tbody>\n",
              "    <tr>\n",
              "      <th>0</th>\n",
              "      <td>2021</td>\n",
              "      <td>June</td>\n",
              "      <td>0</td>\n",
              "      <td>51</td>\n",
              "    </tr>\n",
              "    <tr>\n",
              "      <th>1</th>\n",
              "      <td>2021</td>\n",
              "      <td>May</td>\n",
              "      <td>0</td>\n",
              "      <td>1803</td>\n",
              "    </tr>\n",
              "    <tr>\n",
              "      <th>2</th>\n",
              "      <td>2021</td>\n",
              "      <td>June</td>\n",
              "      <td>1</td>\n",
              "      <td>5</td>\n",
              "    </tr>\n",
              "    <tr>\n",
              "      <th>3</th>\n",
              "      <td>2021</td>\n",
              "      <td>May</td>\n",
              "      <td>1</td>\n",
              "      <td>336</td>\n",
              "    </tr>\n",
              "    <tr>\n",
              "      <th>4</th>\n",
              "      <td>2021</td>\n",
              "      <td>May</td>\n",
              "      <td>2</td>\n",
              "      <td>5</td>\n",
              "    </tr>\n",
              "    <tr>\n",
              "      <th>5</th>\n",
              "      <td>2021</td>\n",
              "      <td>May</td>\n",
              "      <td>3</td>\n",
              "      <td>4</td>\n",
              "    </tr>\n",
              "    <tr>\n",
              "      <th>6</th>\n",
              "      <td>2021</td>\n",
              "      <td>May</td>\n",
              "      <td>5</td>\n",
              "      <td>366</td>\n",
              "    </tr>\n",
              "    <tr>\n",
              "      <th>7</th>\n",
              "      <td>2021</td>\n",
              "      <td>May</td>\n",
              "      <td>6</td>\n",
              "      <td>1547</td>\n",
              "    </tr>\n",
              "    <tr>\n",
              "      <th>8</th>\n",
              "      <td>2021</td>\n",
              "      <td>May</td>\n",
              "      <td>7</td>\n",
              "      <td>5385</td>\n",
              "    </tr>\n",
              "    <tr>\n",
              "      <th>9</th>\n",
              "      <td>2021</td>\n",
              "      <td>May</td>\n",
              "      <td>8</td>\n",
              "      <td>8781</td>\n",
              "    </tr>\n",
              "    <tr>\n",
              "      <th>10</th>\n",
              "      <td>2021</td>\n",
              "      <td>May</td>\n",
              "      <td>9</td>\n",
              "      <td>6508</td>\n",
              "    </tr>\n",
              "    <tr>\n",
              "      <th>11</th>\n",
              "      <td>2021</td>\n",
              "      <td>May</td>\n",
              "      <td>10</td>\n",
              "      <td>5474</td>\n",
              "    </tr>\n",
              "    <tr>\n",
              "      <th>12</th>\n",
              "      <td>2021</td>\n",
              "      <td>May</td>\n",
              "      <td>11</td>\n",
              "      <td>6441</td>\n",
              "    </tr>\n",
              "    <tr>\n",
              "      <th>13</th>\n",
              "      <td>2021</td>\n",
              "      <td>May</td>\n",
              "      <td>12</td>\n",
              "      <td>7544</td>\n",
              "    </tr>\n",
              "    <tr>\n",
              "      <th>14</th>\n",
              "      <td>2021</td>\n",
              "      <td>May</td>\n",
              "      <td>13</td>\n",
              "      <td>8328</td>\n",
              "    </tr>\n",
              "    <tr>\n",
              "      <th>15</th>\n",
              "      <td>2021</td>\n",
              "      <td>May</td>\n",
              "      <td>14</td>\n",
              "      <td>9511</td>\n",
              "    </tr>\n",
              "    <tr>\n",
              "      <th>16</th>\n",
              "      <td>2021</td>\n",
              "      <td>May</td>\n",
              "      <td>15</td>\n",
              "      <td>11306</td>\n",
              "    </tr>\n",
              "    <tr>\n",
              "      <th>17</th>\n",
              "      <td>2021</td>\n",
              "      <td>May</td>\n",
              "      <td>16</td>\n",
              "      <td>13903</td>\n",
              "    </tr>\n",
              "    <tr>\n",
              "      <th>18</th>\n",
              "      <td>2021</td>\n",
              "      <td>May</td>\n",
              "      <td>17</td>\n",
              "      <td>13382</td>\n",
              "    </tr>\n",
              "    <tr>\n",
              "      <th>19</th>\n",
              "      <td>2021</td>\n",
              "      <td>May</td>\n",
              "      <td>18</td>\n",
              "      <td>11810</td>\n",
              "    </tr>\n",
              "    <tr>\n",
              "      <th>20</th>\n",
              "      <td>2021</td>\n",
              "      <td>May</td>\n",
              "      <td>19</td>\n",
              "      <td>9559</td>\n",
              "    </tr>\n",
              "    <tr>\n",
              "      <th>21</th>\n",
              "      <td>2021</td>\n",
              "      <td>May</td>\n",
              "      <td>20</td>\n",
              "      <td>7615</td>\n",
              "    </tr>\n",
              "    <tr>\n",
              "      <th>22</th>\n",
              "      <td>2021</td>\n",
              "      <td>May</td>\n",
              "      <td>21</td>\n",
              "      <td>5952</td>\n",
              "    </tr>\n",
              "    <tr>\n",
              "      <th>23</th>\n",
              "      <td>2021</td>\n",
              "      <td>May</td>\n",
              "      <td>22</td>\n",
              "      <td>5469</td>\n",
              "    </tr>\n",
              "    <tr>\n",
              "      <th>24</th>\n",
              "      <td>2021</td>\n",
              "      <td>May</td>\n",
              "      <td>23</td>\n",
              "      <td>3540</td>\n",
              "    </tr>\n",
              "  </tbody>\n",
              "</table>\n",
              "</div>"
            ],
            "text/plain": [
              "    year month  hour  count\n",
              "0   2021  June     0     51\n",
              "1   2021   May     0   1803\n",
              "2   2021  June     1      5\n",
              "3   2021   May     1    336\n",
              "4   2021   May     2      5\n",
              "5   2021   May     3      4\n",
              "6   2021   May     5    366\n",
              "7   2021   May     6   1547\n",
              "8   2021   May     7   5385\n",
              "9   2021   May     8   8781\n",
              "10  2021   May     9   6508\n",
              "11  2021   May    10   5474\n",
              "12  2021   May    11   6441\n",
              "13  2021   May    12   7544\n",
              "14  2021   May    13   8328\n",
              "15  2021   May    14   9511\n",
              "16  2021   May    15  11306\n",
              "17  2021   May    16  13903\n",
              "18  2021   May    17  13382\n",
              "19  2021   May    18  11810\n",
              "20  2021   May    19   9559\n",
              "21  2021   May    20   7615\n",
              "22  2021   May    21   5952\n",
              "23  2021   May    22   5469\n",
              "24  2021   May    23   3540"
            ]
          },
          "metadata": {
            "tags": []
          },
          "execution_count": 15
        }
      ]
    },
    {
      "cell_type": "code",
      "metadata": {
        "colab": {
          "base_uri": "https://localhost:8080/",
          "height": 17
        },
        "id": "GdT1R7f8dMty",
        "outputId": "7e757b27-989b-4b08-852e-581e10fb4a94"
      },
      "source": [
        "#Exporting to csv into local disk\n",
        "from google.colab import files\n",
        "st_loc.to_csv('2021_05_st_loc.csv', index=False, header=False)\n",
        "files.download('2021_05_st_loc.csv')"
      ],
      "execution_count": null,
      "outputs": [
        {
          "output_type": "display_data",
          "data": {
            "application/javascript": [
              "\n",
              "    async function download(id, filename, size) {\n",
              "      if (!google.colab.kernel.accessAllowed) {\n",
              "        return;\n",
              "      }\n",
              "      const div = document.createElement('div');\n",
              "      const label = document.createElement('label');\n",
              "      label.textContent = `Downloading \"${filename}\": `;\n",
              "      div.appendChild(label);\n",
              "      const progress = document.createElement('progress');\n",
              "      progress.max = size;\n",
              "      div.appendChild(progress);\n",
              "      document.body.appendChild(div);\n",
              "\n",
              "      const buffers = [];\n",
              "      let downloaded = 0;\n",
              "\n",
              "      const channel = await google.colab.kernel.comms.open(id);\n",
              "      // Send a message to notify the kernel that we're ready.\n",
              "      channel.send({})\n",
              "\n",
              "      for await (const message of channel.messages) {\n",
              "        // Send a message to notify the kernel that we're ready.\n",
              "        channel.send({})\n",
              "        if (message.buffers) {\n",
              "          for (const buffer of message.buffers) {\n",
              "            buffers.push(buffer);\n",
              "            downloaded += buffer.byteLength;\n",
              "            progress.value = downloaded;\n",
              "          }\n",
              "        }\n",
              "      }\n",
              "      const blob = new Blob(buffers, {type: 'application/binary'});\n",
              "      const a = document.createElement('a');\n",
              "      a.href = window.URL.createObjectURL(blob);\n",
              "      a.download = filename;\n",
              "      div.appendChild(a);\n",
              "      a.click();\n",
              "      div.remove();\n",
              "    }\n",
              "  "
            ],
            "text/plain": [
              "<IPython.core.display.Javascript object>"
            ]
          },
          "metadata": {
            "tags": []
          }
        },
        {
          "output_type": "display_data",
          "data": {
            "application/javascript": [
              "download(\"download_c8d41b66-1777-47c3-9e47-c47478f9f6fa\", \"2021_05_st_loc.csv\", 18610)"
            ],
            "text/plain": [
              "<IPython.core.display.Javascript object>"
            ]
          },
          "metadata": {
            "tags": []
          }
        }
      ]
    },
    {
      "cell_type": "code",
      "metadata": {
        "colab": {
          "base_uri": "https://localhost:8080/",
          "height": 17
        },
        "id": "Ojg-WjP7je1T",
        "outputId": "31992d62-674c-42ff-9183-fc73657073c7"
      },
      "source": [
        "#Exporting to csv into local disk\n",
        "from google.colab import files\n",
        "st_hr.to_csv('2021_05_st_hr.csv', index=False, header=False)\n",
        "files.download('2021_05_st_hr.csv')"
      ],
      "execution_count": null,
      "outputs": [
        {
          "output_type": "display_data",
          "data": {
            "application/javascript": [
              "\n",
              "    async function download(id, filename, size) {\n",
              "      if (!google.colab.kernel.accessAllowed) {\n",
              "        return;\n",
              "      }\n",
              "      const div = document.createElement('div');\n",
              "      const label = document.createElement('label');\n",
              "      label.textContent = `Downloading \"${filename}\": `;\n",
              "      div.appendChild(label);\n",
              "      const progress = document.createElement('progress');\n",
              "      progress.max = size;\n",
              "      div.appendChild(progress);\n",
              "      document.body.appendChild(div);\n",
              "\n",
              "      const buffers = [];\n",
              "      let downloaded = 0;\n",
              "\n",
              "      const channel = await google.colab.kernel.comms.open(id);\n",
              "      // Send a message to notify the kernel that we're ready.\n",
              "      channel.send({})\n",
              "\n",
              "      for await (const message of channel.messages) {\n",
              "        // Send a message to notify the kernel that we're ready.\n",
              "        channel.send({})\n",
              "        if (message.buffers) {\n",
              "          for (const buffer of message.buffers) {\n",
              "            buffers.push(buffer);\n",
              "            downloaded += buffer.byteLength;\n",
              "            progress.value = downloaded;\n",
              "          }\n",
              "        }\n",
              "      }\n",
              "      const blob = new Blob(buffers, {type: 'application/binary'});\n",
              "      const a = document.createElement('a');\n",
              "      a.href = window.URL.createObjectURL(blob);\n",
              "      a.download = filename;\n",
              "      div.appendChild(a);\n",
              "      a.click();\n",
              "      div.remove();\n",
              "    }\n",
              "  "
            ],
            "text/plain": [
              "<IPython.core.display.Javascript object>"
            ]
          },
          "metadata": {
            "tags": []
          }
        },
        {
          "output_type": "display_data",
          "data": {
            "application/javascript": [
              "download(\"download_e4e822ee-d71a-4866-aea6-755416370041\", \"2021_05_st_hr.csv\", 378)"
            ],
            "text/plain": [
              "<IPython.core.display.Javascript object>"
            ]
          },
          "metadata": {
            "tags": []
          }
        }
      ]
    },
    {
      "cell_type": "code",
      "metadata": {
        "colab": {
          "base_uri": "https://localhost:8080/",
          "height": 17
        },
        "id": "uCKJfsixeT7n",
        "outputId": "bc661bcf-982c-4925-845f-93fc8ac1bdf9"
      },
      "source": [
        "#Exporting to excel into local disk\n",
        "from google.colab import files\n",
        "en_loc.to_csv('2021_05_en_loc.csv', index=False, header=False)\n",
        "files.download('2021_05_en_loc.csv')"
      ],
      "execution_count": null,
      "outputs": [
        {
          "output_type": "display_data",
          "data": {
            "application/javascript": [
              "\n",
              "    async function download(id, filename, size) {\n",
              "      if (!google.colab.kernel.accessAllowed) {\n",
              "        return;\n",
              "      }\n",
              "      const div = document.createElement('div');\n",
              "      const label = document.createElement('label');\n",
              "      label.textContent = `Downloading \"${filename}\": `;\n",
              "      div.appendChild(label);\n",
              "      const progress = document.createElement('progress');\n",
              "      progress.max = size;\n",
              "      div.appendChild(progress);\n",
              "      document.body.appendChild(div);\n",
              "\n",
              "      const buffers = [];\n",
              "      let downloaded = 0;\n",
              "\n",
              "      const channel = await google.colab.kernel.comms.open(id);\n",
              "      // Send a message to notify the kernel that we're ready.\n",
              "      channel.send({})\n",
              "\n",
              "      for await (const message of channel.messages) {\n",
              "        // Send a message to notify the kernel that we're ready.\n",
              "        channel.send({})\n",
              "        if (message.buffers) {\n",
              "          for (const buffer of message.buffers) {\n",
              "            buffers.push(buffer);\n",
              "            downloaded += buffer.byteLength;\n",
              "            progress.value = downloaded;\n",
              "          }\n",
              "        }\n",
              "      }\n",
              "      const blob = new Blob(buffers, {type: 'application/binary'});\n",
              "      const a = document.createElement('a');\n",
              "      a.href = window.URL.createObjectURL(blob);\n",
              "      a.download = filename;\n",
              "      div.appendChild(a);\n",
              "      a.click();\n",
              "      div.remove();\n",
              "    }\n",
              "  "
            ],
            "text/plain": [
              "<IPython.core.display.Javascript object>"
            ]
          },
          "metadata": {
            "tags": []
          }
        },
        {
          "output_type": "display_data",
          "data": {
            "application/javascript": [
              "download(\"download_80775231-986a-4dbe-abaf-f313f028dc08\", \"2021_05_en_loc.csv\", 18697)"
            ],
            "text/plain": [
              "<IPython.core.display.Javascript object>"
            ]
          },
          "metadata": {
            "tags": []
          }
        }
      ]
    },
    {
      "cell_type": "code",
      "metadata": {
        "colab": {
          "base_uri": "https://localhost:8080/",
          "height": 17
        },
        "id": "3OgAbyA1juOI",
        "outputId": "2abcd90c-b532-42ba-cd8a-579910602396"
      },
      "source": [
        "#Exporting to csv into local disk\n",
        "from google.colab import files\n",
        "en_hr.to_csv('2021_05_en_hr.csv', index=False, header=False)\n",
        "files.download('2021_05_en_hr.csv')"
      ],
      "execution_count": null,
      "outputs": [
        {
          "output_type": "display_data",
          "data": {
            "application/javascript": [
              "\n",
              "    async function download(id, filename, size) {\n",
              "      if (!google.colab.kernel.accessAllowed) {\n",
              "        return;\n",
              "      }\n",
              "      const div = document.createElement('div');\n",
              "      const label = document.createElement('label');\n",
              "      label.textContent = `Downloading \"${filename}\": `;\n",
              "      div.appendChild(label);\n",
              "      const progress = document.createElement('progress');\n",
              "      progress.max = size;\n",
              "      div.appendChild(progress);\n",
              "      document.body.appendChild(div);\n",
              "\n",
              "      const buffers = [];\n",
              "      let downloaded = 0;\n",
              "\n",
              "      const channel = await google.colab.kernel.comms.open(id);\n",
              "      // Send a message to notify the kernel that we're ready.\n",
              "      channel.send({})\n",
              "\n",
              "      for await (const message of channel.messages) {\n",
              "        // Send a message to notify the kernel that we're ready.\n",
              "        channel.send({})\n",
              "        if (message.buffers) {\n",
              "          for (const buffer of message.buffers) {\n",
              "            buffers.push(buffer);\n",
              "            downloaded += buffer.byteLength;\n",
              "            progress.value = downloaded;\n",
              "          }\n",
              "        }\n",
              "      }\n",
              "      const blob = new Blob(buffers, {type: 'application/binary'});\n",
              "      const a = document.createElement('a');\n",
              "      a.href = window.URL.createObjectURL(blob);\n",
              "      a.download = filename;\n",
              "      div.appendChild(a);\n",
              "      a.click();\n",
              "      div.remove();\n",
              "    }\n",
              "  "
            ],
            "text/plain": [
              "<IPython.core.display.Javascript object>"
            ]
          },
          "metadata": {
            "tags": []
          }
        },
        {
          "output_type": "display_data",
          "data": {
            "application/javascript": [
              "download(\"download_c0771e86-4ff6-45e8-822c-d53b0ab207c3\", \"2021_05_en_hr.csv\", 407)"
            ],
            "text/plain": [
              "<IPython.core.display.Javascript object>"
            ]
          },
          "metadata": {
            "tags": []
          }
        }
      ]
    },
    {
      "cell_type": "markdown",
      "metadata": {
        "id": "c8cFTBBCngUc"
      },
      "source": [
        "##Joining csv files in local disk"
      ]
    },
    {
      "cell_type": "code",
      "metadata": {
        "id": "KPwZIJ1jnbTu"
      },
      "source": [
        "#Using OS from the command line to merge historic data\n",
        "type 202*_**_en_hr.csv > en_hr_merged.csv\n",
        "type 202*_**_en_loc.csv > en_loc_merged.csv\n",
        "type 202*_**_st_hr.csv > st_hr_merged.csv\n",
        "type 202*_**_st_loc.csv > st_loc_merged.csv"
      ],
      "execution_count": null,
      "outputs": []
    },
    {
      "cell_type": "markdown",
      "metadata": {
        "id": "Tbg_Y30tVHIR"
      },
      "source": [
        "##Cleaning aggregated data (hours of day)"
      ]
    },
    {
      "cell_type": "code",
      "metadata": {
        "colab": {
          "resources": {
            "http://localhost:8080/nbextensions/google.colab/files.js": {
              "data": "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",
              "ok": true,
              "headers": [
                [
                  "content-type",
                  "application/javascript"
                ]
              ],
              "status": 200,
              "status_text": ""
            }
          },
          "base_uri": "https://localhost:8080/",
          "height": 73
        },
        "id": "glMP-JacsqbT",
        "outputId": "8821280e-1701-459d-a929-4a5c42dff08f"
      },
      "source": [
        "#Uploading aggregated data files from local drive\n",
        "from google.colab import files\n",
        "uploaded1 = files.upload()"
      ],
      "execution_count": null,
      "outputs": [
        {
          "output_type": "display_data",
          "data": {
            "text/html": [
              "\n",
              "     <input type=\"file\" id=\"files-972f2aba-b511-4f9d-94c9-a8d2ccb98287\" name=\"files[]\" multiple disabled\n",
              "        style=\"border:none\" />\n",
              "     <output id=\"result-972f2aba-b511-4f9d-94c9-a8d2ccb98287\">\n",
              "      Upload widget is only available when the cell has been executed in the\n",
              "      current browser session. Please rerun this cell to enable.\n",
              "      </output>\n",
              "      <script src=\"/nbextensions/google.colab/files.js\"></script> "
            ],
            "text/plain": [
              "<IPython.core.display.HTML object>"
            ]
          },
          "metadata": {
            "tags": []
          }
        },
        {
          "output_type": "stream",
          "text": [
            "Saving st_hr_merged.csv to st_hr_merged.csv\n"
          ],
          "name": "stdout"
        }
      ]
    },
    {
      "cell_type": "code",
      "metadata": {
        "id": "cSHG9v_hsqbV"
      },
      "source": [
        "#Reading aggregated data and storing into a Pandas Dataframe\n",
        "import io\n",
        "hr_col = ['year', 'month', 'hour', 'count']\n",
        "hours_df = pd.read_csv(io.BytesIO(uploaded1['st_hr_merged.csv']), header=None, names=hr_col)"
      ],
      "execution_count": null,
      "outputs": []
    },
    {
      "cell_type": "code",
      "metadata": {
        "colab": {
          "base_uri": "https://localhost:8080/"
        },
        "id": "xbV2B-mstkvj",
        "outputId": "3a6a9c44-5cd1-4b9d-c151-435a39afb73c"
      },
      "source": [
        "#Checking the dataframe info\n",
        "hours_df.info()"
      ],
      "execution_count": null,
      "outputs": [
        {
          "output_type": "stream",
          "text": [
            "<class 'pandas.core.frame.DataFrame'>\n",
            "RangeIndex: 336 entries, 0 to 335\n",
            "Data columns (total 4 columns):\n",
            " #   Column  Non-Null Count  Dtype \n",
            "---  ------  --------------  ----- \n",
            " 0   year    336 non-null    int64 \n",
            " 1   month   336 non-null    object\n",
            " 2   hour    336 non-null    int64 \n",
            " 3   count   336 non-null    int64 \n",
            "dtypes: int64(3), object(1)\n",
            "memory usage: 10.6+ KB\n"
          ],
          "name": "stdout"
        }
      ]
    },
    {
      "cell_type": "code",
      "metadata": {
        "colab": {
          "base_uri": "https://localhost:8080/",
          "height": 343
        },
        "id": "dsRvaUsZv1BP",
        "outputId": "17557d97-334b-48f2-cd87-0b177a1e1d78"
      },
      "source": [
        "#Check the dataframe head\n",
        "hours_df.head(10)"
      ],
      "execution_count": null,
      "outputs": [
        {
          "output_type": "execute_result",
          "data": {
            "text/html": [
              "<div>\n",
              "<style scoped>\n",
              "    .dataframe tbody tr th:only-of-type {\n",
              "        vertical-align: middle;\n",
              "    }\n",
              "\n",
              "    .dataframe tbody tr th {\n",
              "        vertical-align: top;\n",
              "    }\n",
              "\n",
              "    .dataframe thead th {\n",
              "        text-align: right;\n",
              "    }\n",
              "</style>\n",
              "<table border=\"1\" class=\"dataframe\">\n",
              "  <thead>\n",
              "    <tr style=\"text-align: right;\">\n",
              "      <th></th>\n",
              "      <th>year</th>\n",
              "      <th>month</th>\n",
              "      <th>hour</th>\n",
              "      <th>count</th>\n",
              "    </tr>\n",
              "  </thead>\n",
              "  <tbody>\n",
              "    <tr>\n",
              "      <th>0</th>\n",
              "      <td>2020</td>\n",
              "      <td>April</td>\n",
              "      <td>0</td>\n",
              "      <td>19</td>\n",
              "    </tr>\n",
              "    <tr>\n",
              "      <th>1</th>\n",
              "      <td>2020</td>\n",
              "      <td>March</td>\n",
              "      <td>0</td>\n",
              "      <td>164</td>\n",
              "    </tr>\n",
              "    <tr>\n",
              "      <th>2</th>\n",
              "      <td>2020</td>\n",
              "      <td>March</td>\n",
              "      <td>5</td>\n",
              "      <td>76</td>\n",
              "    </tr>\n",
              "    <tr>\n",
              "      <th>3</th>\n",
              "      <td>2020</td>\n",
              "      <td>March</td>\n",
              "      <td>6</td>\n",
              "      <td>437</td>\n",
              "    </tr>\n",
              "    <tr>\n",
              "      <th>4</th>\n",
              "      <td>2020</td>\n",
              "      <td>March</td>\n",
              "      <td>7</td>\n",
              "      <td>1234</td>\n",
              "    </tr>\n",
              "    <tr>\n",
              "      <th>5</th>\n",
              "      <td>2020</td>\n",
              "      <td>March</td>\n",
              "      <td>8</td>\n",
              "      <td>1288</td>\n",
              "    </tr>\n",
              "    <tr>\n",
              "      <th>6</th>\n",
              "      <td>2020</td>\n",
              "      <td>March</td>\n",
              "      <td>9</td>\n",
              "      <td>845</td>\n",
              "    </tr>\n",
              "    <tr>\n",
              "      <th>7</th>\n",
              "      <td>2020</td>\n",
              "      <td>March</td>\n",
              "      <td>10</td>\n",
              "      <td>958</td>\n",
              "    </tr>\n",
              "    <tr>\n",
              "      <th>8</th>\n",
              "      <td>2020</td>\n",
              "      <td>March</td>\n",
              "      <td>11</td>\n",
              "      <td>1497</td>\n",
              "    </tr>\n",
              "    <tr>\n",
              "      <th>9</th>\n",
              "      <td>2020</td>\n",
              "      <td>March</td>\n",
              "      <td>12</td>\n",
              "      <td>1976</td>\n",
              "    </tr>\n",
              "  </tbody>\n",
              "</table>\n",
              "</div>"
            ],
            "text/plain": [
              "   year  month  hour  count\n",
              "0  2020  April     0     19\n",
              "1  2020  March     0    164\n",
              "2  2020  March     5     76\n",
              "3  2020  March     6    437\n",
              "4  2020  March     7   1234\n",
              "5  2020  March     8   1288\n",
              "6  2020  March     9    845\n",
              "7  2020  March    10    958\n",
              "8  2020  March    11   1497\n",
              "9  2020  March    12   1976"
            ]
          },
          "metadata": {
            "tags": []
          },
          "execution_count": 7
        }
      ]
    },
    {
      "cell_type": "code",
      "metadata": {
        "id": "_kLGpJ-XwSIS"
      },
      "source": [
        "#Order the hours data and aggregate the hour count\n",
        "hours_df = hours_df.groupby(['year', 'month', 'hour']).agg({'count': 'sum'}).reset_index()"
      ],
      "execution_count": null,
      "outputs": []
    },
    {
      "cell_type": "code",
      "metadata": {
        "colab": {
          "base_uri": "https://localhost:8080/",
          "height": 639
        },
        "id": "uL2cny8CzSJT",
        "outputId": "93cf70f5-a8d7-4094-9d3b-dcda30021cc3"
      },
      "source": [
        "#Verifying slices of the dataframe for a given year and month\n",
        "hours_df[(hours_df['year']==2021) & (hours_df['month']=='April')]"
      ],
      "execution_count": null,
      "outputs": [
        {
          "output_type": "execute_result",
          "data": {
            "text/html": [
              "<div>\n",
              "<style scoped>\n",
              "    .dataframe tbody tr th:only-of-type {\n",
              "        vertical-align: middle;\n",
              "    }\n",
              "\n",
              "    .dataframe tbody tr th {\n",
              "        vertical-align: top;\n",
              "    }\n",
              "\n",
              "    .dataframe thead th {\n",
              "        text-align: right;\n",
              "    }\n",
              "</style>\n",
              "<table border=\"1\" class=\"dataframe\">\n",
              "  <thead>\n",
              "    <tr style=\"text-align: right;\">\n",
              "      <th></th>\n",
              "      <th>year</th>\n",
              "      <th>month</th>\n",
              "      <th>hour</th>\n",
              "      <th>count</th>\n",
              "    </tr>\n",
              "  </thead>\n",
              "  <tbody>\n",
              "    <tr>\n",
              "      <th>219</th>\n",
              "      <td>2021</td>\n",
              "      <td>April</td>\n",
              "      <td>0</td>\n",
              "      <td>962</td>\n",
              "    </tr>\n",
              "    <tr>\n",
              "      <th>220</th>\n",
              "      <td>2021</td>\n",
              "      <td>April</td>\n",
              "      <td>5</td>\n",
              "      <td>293</td>\n",
              "    </tr>\n",
              "    <tr>\n",
              "      <th>221</th>\n",
              "      <td>2021</td>\n",
              "      <td>April</td>\n",
              "      <td>6</td>\n",
              "      <td>1652</td>\n",
              "    </tr>\n",
              "    <tr>\n",
              "      <th>222</th>\n",
              "      <td>2021</td>\n",
              "      <td>April</td>\n",
              "      <td>7</td>\n",
              "      <td>5587</td>\n",
              "    </tr>\n",
              "    <tr>\n",
              "      <th>223</th>\n",
              "      <td>2021</td>\n",
              "      <td>April</td>\n",
              "      <td>8</td>\n",
              "      <td>7290</td>\n",
              "    </tr>\n",
              "    <tr>\n",
              "      <th>224</th>\n",
              "      <td>2021</td>\n",
              "      <td>April</td>\n",
              "      <td>9</td>\n",
              "      <td>4599</td>\n",
              "    </tr>\n",
              "    <tr>\n",
              "      <th>225</th>\n",
              "      <td>2021</td>\n",
              "      <td>April</td>\n",
              "      <td>10</td>\n",
              "      <td>4244</td>\n",
              "    </tr>\n",
              "    <tr>\n",
              "      <th>226</th>\n",
              "      <td>2021</td>\n",
              "      <td>April</td>\n",
              "      <td>11</td>\n",
              "      <td>5496</td>\n",
              "    </tr>\n",
              "    <tr>\n",
              "      <th>227</th>\n",
              "      <td>2021</td>\n",
              "      <td>April</td>\n",
              "      <td>12</td>\n",
              "      <td>6766</td>\n",
              "    </tr>\n",
              "    <tr>\n",
              "      <th>228</th>\n",
              "      <td>2021</td>\n",
              "      <td>April</td>\n",
              "      <td>13</td>\n",
              "      <td>7337</td>\n",
              "    </tr>\n",
              "    <tr>\n",
              "      <th>229</th>\n",
              "      <td>2021</td>\n",
              "      <td>April</td>\n",
              "      <td>14</td>\n",
              "      <td>8584</td>\n",
              "    </tr>\n",
              "    <tr>\n",
              "      <th>230</th>\n",
              "      <td>2021</td>\n",
              "      <td>April</td>\n",
              "      <td>15</td>\n",
              "      <td>10767</td>\n",
              "    </tr>\n",
              "    <tr>\n",
              "      <th>231</th>\n",
              "      <td>2021</td>\n",
              "      <td>April</td>\n",
              "      <td>16</td>\n",
              "      <td>12550</td>\n",
              "    </tr>\n",
              "    <tr>\n",
              "      <th>232</th>\n",
              "      <td>2021</td>\n",
              "      <td>April</td>\n",
              "      <td>17</td>\n",
              "      <td>11013</td>\n",
              "    </tr>\n",
              "    <tr>\n",
              "      <th>233</th>\n",
              "      <td>2021</td>\n",
              "      <td>April</td>\n",
              "      <td>18</td>\n",
              "      <td>9145</td>\n",
              "    </tr>\n",
              "    <tr>\n",
              "      <th>234</th>\n",
              "      <td>2021</td>\n",
              "      <td>April</td>\n",
              "      <td>19</td>\n",
              "      <td>7121</td>\n",
              "    </tr>\n",
              "    <tr>\n",
              "      <th>235</th>\n",
              "      <td>2021</td>\n",
              "      <td>April</td>\n",
              "      <td>20</td>\n",
              "      <td>5214</td>\n",
              "    </tr>\n",
              "    <tr>\n",
              "      <th>236</th>\n",
              "      <td>2021</td>\n",
              "      <td>April</td>\n",
              "      <td>21</td>\n",
              "      <td>3602</td>\n",
              "    </tr>\n",
              "    <tr>\n",
              "      <th>237</th>\n",
              "      <td>2021</td>\n",
              "      <td>April</td>\n",
              "      <td>22</td>\n",
              "      <td>2880</td>\n",
              "    </tr>\n",
              "    <tr>\n",
              "      <th>238</th>\n",
              "      <td>2021</td>\n",
              "      <td>April</td>\n",
              "      <td>23</td>\n",
              "      <td>1792</td>\n",
              "    </tr>\n",
              "  </tbody>\n",
              "</table>\n",
              "</div>"
            ],
            "text/plain": [
              "     year  month  hour  count\n",
              "219  2021  April     0    962\n",
              "220  2021  April     5    293\n",
              "221  2021  April     6   1652\n",
              "222  2021  April     7   5587\n",
              "223  2021  April     8   7290\n",
              "224  2021  April     9   4599\n",
              "225  2021  April    10   4244\n",
              "226  2021  April    11   5496\n",
              "227  2021  April    12   6766\n",
              "228  2021  April    13   7337\n",
              "229  2021  April    14   8584\n",
              "230  2021  April    15  10767\n",
              "231  2021  April    16  12550\n",
              "232  2021  April    17  11013\n",
              "233  2021  April    18   9145\n",
              "234  2021  April    19   7121\n",
              "235  2021  April    20   5214\n",
              "236  2021  April    21   3602\n",
              "237  2021  April    22   2880\n",
              "238  2021  April    23   1792"
            ]
          },
          "metadata": {
            "tags": []
          },
          "execution_count": 9
        }
      ]
    },
    {
      "cell_type": "code",
      "metadata": {
        "colab": {
          "base_uri": "https://localhost:8080/",
          "height": 17
        },
        "id": "TqL0FxRDz8ha",
        "outputId": "89a70028-c7bc-4b56-9236-01f69724d911"
      },
      "source": [
        "#Exporting cleaned hours of day data to csv into local disk\n",
        "from google.colab import files\n",
        "hours_df.to_csv('st_hr_cleaned.csv', index=False)\n",
        "files.download('st_hr_cleaned.csv')"
      ],
      "execution_count": null,
      "outputs": [
        {
          "output_type": "display_data",
          "data": {
            "application/javascript": [
              "\n",
              "    async function download(id, filename, size) {\n",
              "      if (!google.colab.kernel.accessAllowed) {\n",
              "        return;\n",
              "      }\n",
              "      const div = document.createElement('div');\n",
              "      const label = document.createElement('label');\n",
              "      label.textContent = `Downloading \"${filename}\": `;\n",
              "      div.appendChild(label);\n",
              "      const progress = document.createElement('progress');\n",
              "      progress.max = size;\n",
              "      div.appendChild(progress);\n",
              "      document.body.appendChild(div);\n",
              "\n",
              "      const buffers = [];\n",
              "      let downloaded = 0;\n",
              "\n",
              "      const channel = await google.colab.kernel.comms.open(id);\n",
              "      // Send a message to notify the kernel that we're ready.\n",
              "      channel.send({})\n",
              "\n",
              "      for await (const message of channel.messages) {\n",
              "        // Send a message to notify the kernel that we're ready.\n",
              "        channel.send({})\n",
              "        if (message.buffers) {\n",
              "          for (const buffer of message.buffers) {\n",
              "            buffers.push(buffer);\n",
              "            downloaded += buffer.byteLength;\n",
              "            progress.value = downloaded;\n",
              "          }\n",
              "        }\n",
              "      }\n",
              "      const blob = new Blob(buffers, {type: 'application/binary'});\n",
              "      const a = document.createElement('a');\n",
              "      a.href = window.URL.createObjectURL(blob);\n",
              "      a.download = filename;\n",
              "      div.appendChild(a);\n",
              "      a.click();\n",
              "      div.remove();\n",
              "    }\n",
              "  "
            ],
            "text/plain": [
              "<IPython.core.display.Javascript object>"
            ]
          },
          "metadata": {
            "tags": []
          }
        },
        {
          "output_type": "display_data",
          "data": {
            "application/javascript": [
              "download(\"download_023cbfda-a82b-45e1-86f8-1d1adf02859e\", \"st_hr_merged-cleaned.csv\", 6271)"
            ],
            "text/plain": [
              "<IPython.core.display.Javascript object>"
            ]
          },
          "metadata": {
            "tags": []
          }
        }
      ]
    },
    {
      "cell_type": "markdown",
      "metadata": {
        "id": "pQNqlam8VRBB"
      },
      "source": [
        "##Cleaning aggregated data (location)"
      ]
    },
    {
      "cell_type": "code",
      "metadata": {
        "colab": {
          "resources": {
            "http://localhost:8080/nbextensions/google.colab/files.js": {
              "data": "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",
              "ok": true,
              "headers": [
                [
                  "content-type",
                  "application/javascript"
                ]
              ],
              "status": 200,
              "status_text": ""
            }
          },
          "base_uri": "https://localhost:8080/",
          "height": 73
        },
        "id": "LlnbhiosVhtQ",
        "outputId": "d3bd03d2-9cac-4cee-9aaa-2d0bc93cf36f"
      },
      "source": [
        "#Uploading aggregated data files from local drive\n",
        "from google.colab import files\n",
        "uploaded2 = files.upload()"
      ],
      "execution_count": null,
      "outputs": [
        {
          "output_type": "display_data",
          "data": {
            "text/html": [
              "\n",
              "     <input type=\"file\" id=\"files-5c236b9f-473b-4f47-b7ae-304dacfefa4a\" name=\"files[]\" multiple disabled\n",
              "        style=\"border:none\" />\n",
              "     <output id=\"result-5c236b9f-473b-4f47-b7ae-304dacfefa4a\">\n",
              "      Upload widget is only available when the cell has been executed in the\n",
              "      current browser session. Please rerun this cell to enable.\n",
              "      </output>\n",
              "      <script src=\"/nbextensions/google.colab/files.js\"></script> "
            ],
            "text/plain": [
              "<IPython.core.display.HTML object>"
            ]
          },
          "metadata": {
            "tags": []
          }
        },
        {
          "output_type": "stream",
          "text": [
            "Saving st_loc_merged.csv to st_loc_merged.csv\n"
          ],
          "name": "stdout"
        }
      ]
    },
    {
      "cell_type": "code",
      "metadata": {
        "id": "izgKXQJ2VhtT"
      },
      "source": [
        "#Reading aggregated data and storing into a Pandas Dataframe\n",
        "import io\n",
        "loc_col = ['year', 'month', 'name',\t'lat',\t'lon',\t'trips',\t'mean_min']\n",
        "loc_df = pd.read_csv(io.BytesIO(uploaded2['st_loc_merged.csv']), header=None, names=loc_col)"
      ],
      "execution_count": null,
      "outputs": []
    },
    {
      "cell_type": "code",
      "metadata": {
        "colab": {
          "base_uri": "https://localhost:8080/"
        },
        "id": "MAB98GL9VhtU",
        "outputId": "c25a8677-2f8e-4667-b5d0-0ed87e75f4ed"
      },
      "source": [
        "#Checking the dataframe info\n",
        "loc_df.info()"
      ],
      "execution_count": null,
      "outputs": [
        {
          "output_type": "stream",
          "text": [
            "<class 'pandas.core.frame.DataFrame'>\n",
            "RangeIndex: 4288 entries, 0 to 4287\n",
            "Data columns (total 7 columns):\n",
            " #   Column    Non-Null Count  Dtype  \n",
            "---  ------    --------------  -----  \n",
            " 0   year      4288 non-null   int64  \n",
            " 1   month     4288 non-null   object \n",
            " 2   name      4288 non-null   object \n",
            " 3   lat       4288 non-null   float64\n",
            " 4   lon       4288 non-null   float64\n",
            " 5   trips     4288 non-null   int64  \n",
            " 6   mean_min  4288 non-null   float64\n",
            "dtypes: float64(3), int64(2), object(2)\n",
            "memory usage: 234.6+ KB\n"
          ],
          "name": "stdout"
        }
      ]
    },
    {
      "cell_type": "code",
      "metadata": {
        "colab": {
          "base_uri": "https://localhost:8080/",
          "height": 195
        },
        "id": "JHjKW0WDVhtV",
        "outputId": "a42b74fd-e927-446a-d0a0-8f8557394de1"
      },
      "source": [
        "#Check the dataframe head\n",
        "loc_df.head(5)"
      ],
      "execution_count": null,
      "outputs": [
        {
          "output_type": "execute_result",
          "data": {
            "text/html": [
              "<div>\n",
              "<style scoped>\n",
              "    .dataframe tbody tr th:only-of-type {\n",
              "        vertical-align: middle;\n",
              "    }\n",
              "\n",
              "    .dataframe tbody tr th {\n",
              "        vertical-align: top;\n",
              "    }\n",
              "\n",
              "    .dataframe thead th {\n",
              "        text-align: right;\n",
              "    }\n",
              "</style>\n",
              "<table border=\"1\" class=\"dataframe\">\n",
              "  <thead>\n",
              "    <tr style=\"text-align: right;\">\n",
              "      <th></th>\n",
              "      <th>year</th>\n",
              "      <th>month</th>\n",
              "      <th>name</th>\n",
              "      <th>lat</th>\n",
              "      <th>lon</th>\n",
              "      <th>trips</th>\n",
              "      <th>mean_min</th>\n",
              "    </tr>\n",
              "  </thead>\n",
              "  <tbody>\n",
              "    <tr>\n",
              "      <th>0</th>\n",
              "      <td>2020</td>\n",
              "      <td>March</td>\n",
              "      <td>Ringnes Park</td>\n",
              "      <td>59.928434</td>\n",
              "      <td>10.759430</td>\n",
              "      <td>463</td>\n",
              "      <td>16.80</td>\n",
              "    </tr>\n",
              "    <tr>\n",
              "      <th>1</th>\n",
              "      <td>2020</td>\n",
              "      <td>March</td>\n",
              "      <td>Alexander Kiellands Plass</td>\n",
              "      <td>59.928067</td>\n",
              "      <td>10.751203</td>\n",
              "      <td>452</td>\n",
              "      <td>14.31</td>\n",
              "    </tr>\n",
              "    <tr>\n",
              "      <th>2</th>\n",
              "      <td>2020</td>\n",
              "      <td>March</td>\n",
              "      <td>Tjuvholmen</td>\n",
              "      <td>59.909467</td>\n",
              "      <td>10.722509</td>\n",
              "      <td>395</td>\n",
              "      <td>22.51</td>\n",
              "    </tr>\n",
              "    <tr>\n",
              "      <th>3</th>\n",
              "      <td>2020</td>\n",
              "      <td>March</td>\n",
              "      <td>Sukkerbiten</td>\n",
              "      <td>59.905807</td>\n",
              "      <td>10.753657</td>\n",
              "      <td>376</td>\n",
              "      <td>19.74</td>\n",
              "    </tr>\n",
              "    <tr>\n",
              "      <th>4</th>\n",
              "      <td>2020</td>\n",
              "      <td>March</td>\n",
              "      <td>Bislett Stadion</td>\n",
              "      <td>59.925471</td>\n",
              "      <td>10.731219</td>\n",
              "      <td>373</td>\n",
              "      <td>15.62</td>\n",
              "    </tr>\n",
              "  </tbody>\n",
              "</table>\n",
              "</div>"
            ],
            "text/plain": [
              "   year  month                       name  ...        lon  trips  mean_min\n",
              "0  2020  March               Ringnes Park  ...  10.759430    463     16.80\n",
              "1  2020  March  Alexander Kiellands Plass  ...  10.751203    452     14.31\n",
              "2  2020  March                 Tjuvholmen  ...  10.722509    395     22.51\n",
              "3  2020  March                Sukkerbiten  ...  10.753657    376     19.74\n",
              "4  2020  March            Bislett Stadion  ...  10.731219    373     15.62\n",
              "\n",
              "[5 rows x 7 columns]"
            ]
          },
          "metadata": {
            "tags": []
          },
          "execution_count": 84
        }
      ]
    },
    {
      "cell_type": "code",
      "metadata": {
        "id": "a4ckt9usVhtW"
      },
      "source": [
        "#Group by categories and aggregate both trips and mean value\n",
        "loc_df = loc_df.groupby(['year', 'month', 'name', 'lat', 'lon']).agg({'trips': 'sum',\n",
        "                                                                      'mean_min': 'mean'}\n",
        "                                                                     ).reset_index()"
      ],
      "execution_count": null,
      "outputs": []
    },
    {
      "cell_type": "code",
      "metadata": {
        "id": "1bUdmaScjnyz"
      },
      "source": [
        "#Sort values by year, month and trips\n",
        "loc_df = loc_df.sort_values(by=['year', 'month', 'trips'], ascending=False).reset_index(drop=True)"
      ],
      "execution_count": null,
      "outputs": []
    },
    {
      "cell_type": "code",
      "metadata": {
        "colab": {
          "base_uri": "https://localhost:8080/",
          "height": 343
        },
        "id": "CC2q1aFiVhtW",
        "outputId": "4e6ad927-a6b0-4d89-cdd9-1b57de44f059"
      },
      "source": [
        "loc_df.tail(10)"
      ],
      "execution_count": null,
      "outputs": [
        {
          "output_type": "execute_result",
          "data": {
            "text/html": [
              "<div>\n",
              "<style scoped>\n",
              "    .dataframe tbody tr th:only-of-type {\n",
              "        vertical-align: middle;\n",
              "    }\n",
              "\n",
              "    .dataframe tbody tr th {\n",
              "        vertical-align: top;\n",
              "    }\n",
              "\n",
              "    .dataframe thead th {\n",
              "        text-align: right;\n",
              "    }\n",
              "</style>\n",
              "<table border=\"1\" class=\"dataframe\">\n",
              "  <thead>\n",
              "    <tr style=\"text-align: right;\">\n",
              "      <th></th>\n",
              "      <th>year</th>\n",
              "      <th>month</th>\n",
              "      <th>name</th>\n",
              "      <th>lat</th>\n",
              "      <th>lon</th>\n",
              "      <th>trips</th>\n",
              "      <th>mean_min</th>\n",
              "    </tr>\n",
              "  </thead>\n",
              "  <tbody>\n",
              "    <tr>\n",
              "      <th>3764</th>\n",
              "      <td>2020</td>\n",
              "      <td>April</td>\n",
              "      <td>Georg Morgenstiernes hus</td>\n",
              "      <td>59.939026</td>\n",
              "      <td>10.723003</td>\n",
              "      <td>112</td>\n",
              "      <td>16.320</td>\n",
              "    </tr>\n",
              "    <tr>\n",
              "      <th>3765</th>\n",
              "      <td>2020</td>\n",
              "      <td>April</td>\n",
              "      <td>Kjeld Stubs gate</td>\n",
              "      <td>59.912711</td>\n",
              "      <td>10.735595</td>\n",
              "      <td>111</td>\n",
              "      <td>12.950</td>\n",
              "    </tr>\n",
              "    <tr>\n",
              "      <th>3766</th>\n",
              "      <td>2020</td>\n",
              "      <td>April</td>\n",
              "      <td>Fysikkbygningen</td>\n",
              "      <td>59.937957</td>\n",
              "      <td>10.719489</td>\n",
              "      <td>91</td>\n",
              "      <td>15.690</td>\n",
              "    </tr>\n",
              "    <tr>\n",
              "      <th>3767</th>\n",
              "      <td>2020</td>\n",
              "      <td>April</td>\n",
              "      <td>Stortingstunellen</td>\n",
              "      <td>59.910653</td>\n",
              "      <td>10.737365</td>\n",
              "      <td>89</td>\n",
              "      <td>22.980</td>\n",
              "    </tr>\n",
              "    <tr>\n",
              "      <th>3768</th>\n",
              "      <td>2020</td>\n",
              "      <td>April</td>\n",
              "      <td>Vippetangen øst</td>\n",
              "      <td>59.903989</td>\n",
              "      <td>10.741077</td>\n",
              "      <td>89</td>\n",
              "      <td>21.240</td>\n",
              "    </tr>\n",
              "    <tr>\n",
              "      <th>3769</th>\n",
              "      <td>2020</td>\n",
              "      <td>April</td>\n",
              "      <td>Tordenskiolds gate</td>\n",
              "      <td>59.911776</td>\n",
              "      <td>10.735113</td>\n",
              "      <td>88</td>\n",
              "      <td>15.610</td>\n",
              "    </tr>\n",
              "    <tr>\n",
              "      <th>3770</th>\n",
              "      <td>2020</td>\n",
              "      <td>April</td>\n",
              "      <td>Blindern studentparkering</td>\n",
              "      <td>59.940874</td>\n",
              "      <td>10.720779</td>\n",
              "      <td>70</td>\n",
              "      <td>17.860</td>\n",
              "    </tr>\n",
              "    <tr>\n",
              "      <th>3771</th>\n",
              "      <td>2020</td>\n",
              "      <td>April</td>\n",
              "      <td>Jarlsborgveien</td>\n",
              "      <td>59.930464</td>\n",
              "      <td>10.675783</td>\n",
              "      <td>66</td>\n",
              "      <td>20.200</td>\n",
              "    </tr>\n",
              "    <tr>\n",
              "      <th>3772</th>\n",
              "      <td>2020</td>\n",
              "      <td>April</td>\n",
              "      <td>HasleLinje</td>\n",
              "      <td>59.927634</td>\n",
              "      <td>10.799249</td>\n",
              "      <td>64</td>\n",
              "      <td>15.425</td>\n",
              "    </tr>\n",
              "    <tr>\n",
              "      <th>3773</th>\n",
              "      <td>2020</td>\n",
              "      <td>April</td>\n",
              "      <td>Bak Niels Treschows hus sør</td>\n",
              "      <td>59.942473</td>\n",
              "      <td>10.723715</td>\n",
              "      <td>45</td>\n",
              "      <td>14.200</td>\n",
              "    </tr>\n",
              "  </tbody>\n",
              "</table>\n",
              "</div>"
            ],
            "text/plain": [
              "      year  month                         name  ...        lon  trips  mean_min\n",
              "3764  2020  April     Georg Morgenstiernes hus  ...  10.723003    112    16.320\n",
              "3765  2020  April             Kjeld Stubs gate  ...  10.735595    111    12.950\n",
              "3766  2020  April              Fysikkbygningen  ...  10.719489     91    15.690\n",
              "3767  2020  April            Stortingstunellen  ...  10.737365     89    22.980\n",
              "3768  2020  April              Vippetangen øst  ...  10.741077     89    21.240\n",
              "3769  2020  April           Tordenskiolds gate  ...  10.735113     88    15.610\n",
              "3770  2020  April    Blindern studentparkering  ...  10.720779     70    17.860\n",
              "3771  2020  April               Jarlsborgveien  ...  10.675783     66    20.200\n",
              "3772  2020  April                   HasleLinje  ...  10.799249     64    15.425\n",
              "3773  2020  April  Bak Niels Treschows hus sør  ...  10.723715     45    14.200\n",
              "\n",
              "[10 rows x 7 columns]"
            ]
          },
          "metadata": {
            "tags": []
          },
          "execution_count": 88
        }
      ]
    },
    {
      "cell_type": "code",
      "metadata": {
        "colab": {
          "base_uri": "https://localhost:8080/",
          "height": 402
        },
        "id": "Y6vMhADpVhtY",
        "outputId": "18254f88-97a3-4679-f685-1157c3bf65c6"
      },
      "source": [
        "#Verifying slices of the dataframe to be in descending order\n",
        "loc_df[(loc_df['year']==2021) & (loc_df['month']=='April')]"
      ],
      "execution_count": null,
      "outputs": [
        {
          "output_type": "execute_result",
          "data": {
            "text/html": [
              "<div>\n",
              "<style scoped>\n",
              "    .dataframe tbody tr th:only-of-type {\n",
              "        vertical-align: middle;\n",
              "    }\n",
              "\n",
              "    .dataframe tbody tr th {\n",
              "        vertical-align: top;\n",
              "    }\n",
              "\n",
              "    .dataframe thead th {\n",
              "        text-align: right;\n",
              "    }\n",
              "</style>\n",
              "<table border=\"1\" class=\"dataframe\">\n",
              "  <thead>\n",
              "    <tr style=\"text-align: right;\">\n",
              "      <th></th>\n",
              "      <th>year</th>\n",
              "      <th>month</th>\n",
              "      <th>name</th>\n",
              "      <th>lat</th>\n",
              "      <th>lon</th>\n",
              "      <th>trips</th>\n",
              "      <th>mean_min</th>\n",
              "    </tr>\n",
              "  </thead>\n",
              "  <tbody>\n",
              "    <tr>\n",
              "      <th>1037</th>\n",
              "      <td>2021</td>\n",
              "      <td>April</td>\n",
              "      <td>Ringnes Park</td>\n",
              "      <td>59.928434</td>\n",
              "      <td>10.759430</td>\n",
              "      <td>1572</td>\n",
              "      <td>9.145</td>\n",
              "    </tr>\n",
              "    <tr>\n",
              "      <th>1038</th>\n",
              "      <td>2021</td>\n",
              "      <td>April</td>\n",
              "      <td>Alexander Kiellands Plass</td>\n",
              "      <td>59.928067</td>\n",
              "      <td>10.751203</td>\n",
              "      <td>1524</td>\n",
              "      <td>9.915</td>\n",
              "    </tr>\n",
              "    <tr>\n",
              "      <th>1039</th>\n",
              "      <td>2021</td>\n",
              "      <td>April</td>\n",
              "      <td>Majorstuen</td>\n",
              "      <td>59.929045</td>\n",
              "      <td>10.716926</td>\n",
              "      <td>1289</td>\n",
              "      <td>14.010</td>\n",
              "    </tr>\n",
              "    <tr>\n",
              "      <th>1040</th>\n",
              "      <td>2021</td>\n",
              "      <td>April</td>\n",
              "      <td>Bislettgata</td>\n",
              "      <td>59.923774</td>\n",
              "      <td>10.734713</td>\n",
              "      <td>1242</td>\n",
              "      <td>12.170</td>\n",
              "    </tr>\n",
              "    <tr>\n",
              "      <th>1041</th>\n",
              "      <td>2021</td>\n",
              "      <td>April</td>\n",
              "      <td>Rådhusbrygge 4</td>\n",
              "      <td>59.910847</td>\n",
              "      <td>10.730377</td>\n",
              "      <td>1189</td>\n",
              "      <td>17.590</td>\n",
              "    </tr>\n",
              "    <tr>\n",
              "      <th>...</th>\n",
              "      <td>...</td>\n",
              "      <td>...</td>\n",
              "      <td>...</td>\n",
              "      <td>...</td>\n",
              "      <td>...</td>\n",
              "      <td>...</td>\n",
              "      <td>...</td>\n",
              "    </tr>\n",
              "    <tr>\n",
              "      <th>1282</th>\n",
              "      <td>2021</td>\n",
              "      <td>April</td>\n",
              "      <td>Skøyen Stasjon</td>\n",
              "      <td>59.922724</td>\n",
              "      <td>10.678625</td>\n",
              "      <td>70</td>\n",
              "      <td>22.280</td>\n",
              "    </tr>\n",
              "    <tr>\n",
              "      <th>1283</th>\n",
              "      <td>2021</td>\n",
              "      <td>April</td>\n",
              "      <td>Stortingstunellen</td>\n",
              "      <td>59.910653</td>\n",
              "      <td>10.737365</td>\n",
              "      <td>69</td>\n",
              "      <td>19.510</td>\n",
              "    </tr>\n",
              "    <tr>\n",
              "      <th>1284</th>\n",
              "      <td>2021</td>\n",
              "      <td>April</td>\n",
              "      <td>Arkaden Sør</td>\n",
              "      <td>59.911969</td>\n",
              "      <td>10.747858</td>\n",
              "      <td>62</td>\n",
              "      <td>15.070</td>\n",
              "    </tr>\n",
              "    <tr>\n",
              "      <th>1285</th>\n",
              "      <td>2021</td>\n",
              "      <td>April</td>\n",
              "      <td>Salt</td>\n",
              "      <td>59.906922</td>\n",
              "      <td>10.746530</td>\n",
              "      <td>50</td>\n",
              "      <td>21.340</td>\n",
              "    </tr>\n",
              "    <tr>\n",
              "      <th>1286</th>\n",
              "      <td>2021</td>\n",
              "      <td>April</td>\n",
              "      <td>Kværnerveien</td>\n",
              "      <td>59.905911</td>\n",
              "      <td>10.778592</td>\n",
              "      <td>37</td>\n",
              "      <td>17.780</td>\n",
              "    </tr>\n",
              "  </tbody>\n",
              "</table>\n",
              "<p>250 rows × 7 columns</p>\n",
              "</div>"
            ],
            "text/plain": [
              "      year  month                       name  ...        lon  trips  mean_min\n",
              "1037  2021  April               Ringnes Park  ...  10.759430   1572     9.145\n",
              "1038  2021  April  Alexander Kiellands Plass  ...  10.751203   1524     9.915\n",
              "1039  2021  April                 Majorstuen  ...  10.716926   1289    14.010\n",
              "1040  2021  April                Bislettgata  ...  10.734713   1242    12.170\n",
              "1041  2021  April             Rådhusbrygge 4  ...  10.730377   1189    17.590\n",
              "...    ...    ...                        ...  ...        ...    ...       ...\n",
              "1282  2021  April             Skøyen Stasjon  ...  10.678625     70    22.280\n",
              "1283  2021  April          Stortingstunellen  ...  10.737365     69    19.510\n",
              "1284  2021  April                Arkaden Sør  ...  10.747858     62    15.070\n",
              "1285  2021  April                       Salt  ...  10.746530     50    21.340\n",
              "1286  2021  April               Kværnerveien  ...  10.778592     37    17.780\n",
              "\n",
              "[250 rows x 7 columns]"
            ]
          },
          "metadata": {
            "tags": []
          },
          "execution_count": 89
        }
      ]
    },
    {
      "cell_type": "code",
      "metadata": {
        "colab": {
          "base_uri": "https://localhost:8080/",
          "height": 17
        },
        "id": "UD2BiIDkVhta",
        "outputId": "af2ff1e3-34e5-4a5e-dd6b-5710f4b39003"
      },
      "source": [
        "#Exporting cleaned location data to csv into local disk\n",
        "from google.colab import files\n",
        "loc_df.to_csv('st_loc_cleaned.csv', index=False)\n",
        "files.download('st_loc_cleaned.csv')"
      ],
      "execution_count": null,
      "outputs": [
        {
          "output_type": "display_data",
          "data": {
            "application/javascript": [
              "\n",
              "    async function download(id, filename, size) {\n",
              "      if (!google.colab.kernel.accessAllowed) {\n",
              "        return;\n",
              "      }\n",
              "      const div = document.createElement('div');\n",
              "      const label = document.createElement('label');\n",
              "      label.textContent = `Downloading \"${filename}\": `;\n",
              "      div.appendChild(label);\n",
              "      const progress = document.createElement('progress');\n",
              "      progress.max = size;\n",
              "      div.appendChild(progress);\n",
              "      document.body.appendChild(div);\n",
              "\n",
              "      const buffers = [];\n",
              "      let downloaded = 0;\n",
              "\n",
              "      const channel = await google.colab.kernel.comms.open(id);\n",
              "      // Send a message to notify the kernel that we're ready.\n",
              "      channel.send({})\n",
              "\n",
              "      for await (const message of channel.messages) {\n",
              "        // Send a message to notify the kernel that we're ready.\n",
              "        channel.send({})\n",
              "        if (message.buffers) {\n",
              "          for (const buffer of message.buffers) {\n",
              "            buffers.push(buffer);\n",
              "            downloaded += buffer.byteLength;\n",
              "            progress.value = downloaded;\n",
              "          }\n",
              "        }\n",
              "      }\n",
              "      const blob = new Blob(buffers, {type: 'application/binary'});\n",
              "      const a = document.createElement('a');\n",
              "      a.href = window.URL.createObjectURL(blob);\n",
              "      a.download = filename;\n",
              "      div.appendChild(a);\n",
              "      a.click();\n",
              "      div.remove();\n",
              "    }\n",
              "  "
            ],
            "text/plain": [
              "<IPython.core.display.Javascript object>"
            ]
          },
          "metadata": {
            "tags": []
          }
        },
        {
          "output_type": "display_data",
          "data": {
            "application/javascript": [
              "download(\"download_a94ee0fe-db84-44d4-860b-3847037edbaf\", \"st_loc_merged-cleaned.csv\", 243749)"
            ],
            "text/plain": [
              "<IPython.core.display.Javascript object>"
            ]
          },
          "metadata": {
            "tags": []
          }
        }
      ]
    },
    {
      "cell_type": "markdown",
      "metadata": {
        "id": "lptmKKgKe7sD"
      },
      "source": [
        "##Data Visualization"
      ]
    },
    {
      "cell_type": "markdown",
      "metadata": {
        "id": "sXmSwrs_5ORx"
      },
      "source": [
        "###Customizing theme"
      ]
    },
    {
      "cell_type": "code",
      "metadata": {
        "id": "y2DvWRPa4qYJ"
      },
      "source": [
        "#Add interactivity to graphs\n",
        "import ipywidgets as widgets\n",
        "from IPython import display\n",
        "from ipywidgets import interact, interactive, fixed, interact_manual"
      ],
      "execution_count": 2,
      "outputs": []
    },
    {
      "cell_type": "code",
      "metadata": {
        "id": "5NdFYzOerU7e"
      },
      "source": [
        "#Uploading visualization packages\n",
        "import folium\n",
        "from folium import plugins\n",
        "from folium.plugins import HeatMap"
      ],
      "execution_count": 3,
      "outputs": []
    },
    {
      "cell_type": "code",
      "metadata": {
        "id": "u53MjFbC43NE"
      },
      "source": [
        "#Customizing Matplotlib's runtime default configuration styles for data visualization\n",
        "\n",
        "SMALL_SIZE = 11\n",
        "MEDIUM_SIZE = 15\n",
        "BIGGER_SIZE = 19\n",
        "\n",
        "plt.rc('font', size=SMALL_SIZE)          # controls default text sizes\n",
        "plt.rc('axes', titlesize=SMALL_SIZE)     # fontsize of the axes title\n",
        "plt.rc('axes', labelsize=MEDIUM_SIZE)     # fontsize of the x and y labels\n",
        "plt.rc('xtick', labelsize=SMALL_SIZE)    # fontsize of the tick labels\n",
        "plt.rc('ytick', labelsize=MEDIUM_SIZE)   # fontsize of the tick labels\n",
        "plt.rc('legend', fontsize=SMALL_SIZE)    # legend fontsize\n",
        "plt.rc('figure', titlesize=BIGGER_SIZE)  # fontsize of the figure title\n",
        "plt.rc('axes', titlesize=BIGGER_SIZE)    # fontsize of the axes title"
      ],
      "execution_count": 4,
      "outputs": []
    },
    {
      "cell_type": "code",
      "metadata": {
        "id": "RhXGUKgM4-bv"
      },
      "source": [
        "#Customizing theme\n",
        "#plt.style.use(['dark_background'])\n",
        "plt.rcParams['axes.facecolor'] = (0,0,0,0)\n",
        "plt.rcParams['figure.facecolor'] = '#ffffff' #To match google colab native dark theme\n",
        "plt.rcParams[\"legend.frameon\"] = False\n",
        "plt.rcParams['image.cmap'] = 'viridis'\n",
        "plt.rcParams[\"legend.facecolor\"] = (0,0,0,0)\n",
        "#plt.rcParams[\"font.family\"] = 'sans-serif'\n",
        "#plt.rcParams['font.sans-serif'] = ['Open Sans', 'Source Sans Pro', 'Noto Sans']\n",
        "plt.rcParams['hist.bins'] = 50\n",
        "plt.rcParams['lines.markersize'] = 10\n",
        "plt.rcParams['axes3d.grid'] = False\n",
        "\n",
        "#New settings\n",
        "plt.rcParams['figure.subplot.hspace'] = 0.3 #default = 0.2\n",
        "\n",
        "from cycler import cycler\n",
        "\n",
        "plt.rcParams['axes.prop_cycle'] = (cycler(color=['#98d2eb', '#e1f2fe', '#b2b1cf', '#77625c', '#49392c', '#bde2f5', '#cad2e7', '#958a96', '#604e44', '#5a4b3f',\n",
        "                                                 '#98d2eb', '#e1f2fe', '#b2b1cf', '#77625c', '#49392c', '#bde2f5', '#cad2e7', '#958a96', '#604e44', '#5a4b3f',\n",
        "                                                 '#98d2eb', '#e1f2fe', '#b2b1cf', '#77625c', '#49392c', '#bde2f5', '#cad2e7', '#958a96', '#604e44', '#5a4b3f'])\\\n",
        "                                   + cycler(linestyle=['-', '--', ':', '-.', '-', '--', ':', '-.', '-', '--',\n",
        "                                                       '-', '--', ':', '-.', '-', '--', ':', '-.', '-', '--',\n",
        "                                                       '-', '--', ':', '-.', '-', '--', ':', '-.', '-', '--']))"
      ],
      "execution_count": null,
      "outputs": []
    },
    {
      "cell_type": "markdown",
      "metadata": {
        "id": "vbkkRr6AZ5BT"
      },
      "source": [
        "###Loading cleaned data "
      ]
    },
    {
      "cell_type": "code",
      "metadata": {
        "id": "uKgvRXsJj927"
      },
      "source": [
        "#Remove previous versions of the uploaded csv file\n",
        "!rm st_loc_cleaned.csv"
      ],
      "execution_count": null,
      "outputs": []
    },
    {
      "cell_type": "code",
      "metadata": {
        "id": "KkzDzxiJe9X6",
        "colab": {
          "resources": {
            "http://localhost:8080/nbextensions/google.colab/files.js": {
              "data": "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",
              "ok": true,
              "headers": [
                [
                  "content-type",
                  "application/javascript"
                ]
              ],
              "status": 200,
              "status_text": ""
            }
          },
          "base_uri": "https://localhost:8080/",
          "height": 73
        },
        "outputId": "987b181d-0ee2-4094-ed20-3bd4feb6288d"
      },
      "source": [
        "#Uploading cleaned location data (starting point) from local drive\n",
        "from google.colab import files\n",
        "uploaded3 = files.upload()"
      ],
      "execution_count": 5,
      "outputs": [
        {
          "output_type": "display_data",
          "data": {
            "text/html": [
              "\n",
              "     <input type=\"file\" id=\"files-7d70cf62-f1ce-4ba5-80b5-34d12ea94975\" name=\"files[]\" multiple disabled\n",
              "        style=\"border:none\" />\n",
              "     <output id=\"result-7d70cf62-f1ce-4ba5-80b5-34d12ea94975\">\n",
              "      Upload widget is only available when the cell has been executed in the\n",
              "      current browser session. Please rerun this cell to enable.\n",
              "      </output>\n",
              "      <script src=\"/nbextensions/google.colab/files.js\"></script> "
            ],
            "text/plain": [
              "<IPython.core.display.HTML object>"
            ]
          },
          "metadata": {
            "tags": []
          }
        },
        {
          "output_type": "stream",
          "text": [
            "Saving st_loc_cleaned.csv to st_loc_cleaned.csv\n"
          ],
          "name": "stdout"
        }
      ]
    },
    {
      "cell_type": "code",
      "metadata": {
        "id": "mIvQV39ffNan"
      },
      "source": [
        "#Reading cleaned location data (starting point) and storing into a Pandas Dataframe\n",
        "import io\n",
        "st_loc_clean = pd.read_csv(io.BytesIO(uploaded3['st_loc_cleaned.csv']))"
      ],
      "execution_count": 6,
      "outputs": []
    },
    {
      "cell_type": "code",
      "metadata": {
        "colab": {
          "resources": {
            "http://localhost:8080/nbextensions/google.colab/files.js": {
              "data": "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",
              "ok": true,
              "headers": [
                [
                  "content-type",
                  "application/javascript"
                ]
              ],
              "status": 200,
              "status_text": ""
            }
          },
          "base_uri": "https://localhost:8080/",
          "height": 73
        },
        "id": "1YDvjpOEarpd",
        "outputId": "de4f0164-fcd8-4496-b26d-667464df1720"
      },
      "source": [
        "#Uploading cleaned hours of day data (starting point) from local drive\n",
        "from google.colab import files\n",
        "uploaded4 = files.upload()"
      ],
      "execution_count": 7,
      "outputs": [
        {
          "output_type": "display_data",
          "data": {
            "text/html": [
              "\n",
              "     <input type=\"file\" id=\"files-d4fa29a4-95ea-4d03-8fae-b95ed6dd3076\" name=\"files[]\" multiple disabled\n",
              "        style=\"border:none\" />\n",
              "     <output id=\"result-d4fa29a4-95ea-4d03-8fae-b95ed6dd3076\">\n",
              "      Upload widget is only available when the cell has been executed in the\n",
              "      current browser session. Please rerun this cell to enable.\n",
              "      </output>\n",
              "      <script src=\"/nbextensions/google.colab/files.js\"></script> "
            ],
            "text/plain": [
              "<IPython.core.display.HTML object>"
            ]
          },
          "metadata": {
            "tags": []
          }
        },
        {
          "output_type": "stream",
          "text": [
            "Saving st_hr_cleaned.csv to st_hr_cleaned.csv\n"
          ],
          "name": "stdout"
        }
      ]
    },
    {
      "cell_type": "code",
      "metadata": {
        "id": "_-02634Ga8Wx"
      },
      "source": [
        "#Reading cleaned hours of day data (starting point) and storing into a Pandas Dataframe\n",
        "st_hr_clean = pd.read_csv(io.BytesIO(uploaded4['st_hr_cleaned.csv']))"
      ],
      "execution_count": 8,
      "outputs": []
    },
    {
      "cell_type": "code",
      "metadata": {
        "colab": {
          "resources": {
            "http://localhost:8080/nbextensions/google.colab/files.js": {
              "data": "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",
              "ok": true,
              "headers": [
                [
                  "content-type",
                  "application/javascript"
                ]
              ],
              "status": 200,
              "status_text": ""
            }
          },
          "base_uri": "https://localhost:8080/",
          "height": 73
        },
        "id": "p_BS3Unweo1J",
        "outputId": "ba9180a2-7c9d-41eb-dddc-da1bad1c9a41"
      },
      "source": [
        "#Uploading cleaned location data (end point) from local drive\n",
        "from google.colab import files\n",
        "uploaded5 = files.upload()"
      ],
      "execution_count": 9,
      "outputs": [
        {
          "output_type": "display_data",
          "data": {
            "text/html": [
              "\n",
              "     <input type=\"file\" id=\"files-f555cd18-8715-4805-bd01-3aee3de81a3a\" name=\"files[]\" multiple disabled\n",
              "        style=\"border:none\" />\n",
              "     <output id=\"result-f555cd18-8715-4805-bd01-3aee3de81a3a\">\n",
              "      Upload widget is only available when the cell has been executed in the\n",
              "      current browser session. Please rerun this cell to enable.\n",
              "      </output>\n",
              "      <script src=\"/nbextensions/google.colab/files.js\"></script> "
            ],
            "text/plain": [
              "<IPython.core.display.HTML object>"
            ]
          },
          "metadata": {
            "tags": []
          }
        },
        {
          "output_type": "stream",
          "text": [
            "Saving en_loc_cleaned.csv to en_loc_cleaned.csv\n"
          ],
          "name": "stdout"
        }
      ]
    },
    {
      "cell_type": "code",
      "metadata": {
        "id": "REjm6AhEfCPH"
      },
      "source": [
        "#Reading cleaned location data (end point) and storing into a Pandas Dataframe\n",
        "en_loc_clean = pd.read_csv(io.BytesIO(uploaded5['en_loc_cleaned.csv']))"
      ],
      "execution_count": 10,
      "outputs": []
    },
    {
      "cell_type": "code",
      "metadata": {
        "colab": {
          "resources": {
            "http://localhost:8080/nbextensions/google.colab/files.js": {
              "data": "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",
              "ok": true,
              "headers": [
                [
                  "content-type",
                  "application/javascript"
                ]
              ],
              "status": 200,
              "status_text": ""
            }
          },
          "base_uri": "https://localhost:8080/",
          "height": 73
        },
        "id": "URP0rqayfNYG",
        "outputId": "339cfee6-b49f-4fcf-e23c-657108cb7ef0"
      },
      "source": [
        "#Uploading cleaned hours of day data (end point) from local drive\n",
        "from google.colab import files\n",
        "uploaded6 = files.upload()"
      ],
      "execution_count": 11,
      "outputs": [
        {
          "output_type": "display_data",
          "data": {
            "text/html": [
              "\n",
              "     <input type=\"file\" id=\"files-095f4a15-d2aa-444f-a5d3-c1fef5ad4701\" name=\"files[]\" multiple disabled\n",
              "        style=\"border:none\" />\n",
              "     <output id=\"result-095f4a15-d2aa-444f-a5d3-c1fef5ad4701\">\n",
              "      Upload widget is only available when the cell has been executed in the\n",
              "      current browser session. Please rerun this cell to enable.\n",
              "      </output>\n",
              "      <script src=\"/nbextensions/google.colab/files.js\"></script> "
            ],
            "text/plain": [
              "<IPython.core.display.HTML object>"
            ]
          },
          "metadata": {
            "tags": []
          }
        },
        {
          "output_type": "stream",
          "text": [
            "Saving en_hr_cleaned.csv to en_hr_cleaned.csv\n"
          ],
          "name": "stdout"
        }
      ]
    },
    {
      "cell_type": "code",
      "metadata": {
        "id": "1jGQ_tBefNk5"
      },
      "source": [
        "#Reading cleaned hours of day data (end point) and storing into a Pandas Dataframe\n",
        "en_hr_clean = pd.read_csv(io.BytesIO(uploaded6['en_hr_cleaned.csv']))"
      ],
      "execution_count": 12,
      "outputs": []
    },
    {
      "cell_type": "markdown",
      "metadata": {
        "id": "Gcxu3vFN5Y_x"
      },
      "source": [
        "###Preparing location data for visualization"
      ]
    },
    {
      "cell_type": "code",
      "metadata": {
        "colab": {
          "base_uri": "https://localhost:8080/",
          "height": 203
        },
        "id": "XUdcQ2X5fzFc",
        "outputId": "18bb47da-3dd5-4760-fd49-35541b53abca"
      },
      "source": [
        "st_loc_clean.tail()"
      ],
      "execution_count": 13,
      "outputs": [
        {
          "output_type": "execute_result",
          "data": {
            "text/html": [
              "<div>\n",
              "<style scoped>\n",
              "    .dataframe tbody tr th:only-of-type {\n",
              "        vertical-align: middle;\n",
              "    }\n",
              "\n",
              "    .dataframe tbody tr th {\n",
              "        vertical-align: top;\n",
              "    }\n",
              "\n",
              "    .dataframe thead th {\n",
              "        text-align: right;\n",
              "    }\n",
              "</style>\n",
              "<table border=\"1\" class=\"dataframe\">\n",
              "  <thead>\n",
              "    <tr style=\"text-align: right;\">\n",
              "      <th></th>\n",
              "      <th>year</th>\n",
              "      <th>month</th>\n",
              "      <th>name</th>\n",
              "      <th>lat</th>\n",
              "      <th>lon</th>\n",
              "      <th>trips</th>\n",
              "      <th>mean_min</th>\n",
              "    </tr>\n",
              "  </thead>\n",
              "  <tbody>\n",
              "    <tr>\n",
              "      <th>3769</th>\n",
              "      <td>2020</td>\n",
              "      <td>April</td>\n",
              "      <td>Tordenskiolds gate</td>\n",
              "      <td>59.911776</td>\n",
              "      <td>10.735113</td>\n",
              "      <td>88</td>\n",
              "      <td>15.610</td>\n",
              "    </tr>\n",
              "    <tr>\n",
              "      <th>3770</th>\n",
              "      <td>2020</td>\n",
              "      <td>April</td>\n",
              "      <td>Blindern studentparkering</td>\n",
              "      <td>59.940874</td>\n",
              "      <td>10.720779</td>\n",
              "      <td>70</td>\n",
              "      <td>17.860</td>\n",
              "    </tr>\n",
              "    <tr>\n",
              "      <th>3771</th>\n",
              "      <td>2020</td>\n",
              "      <td>April</td>\n",
              "      <td>Jarlsborgveien</td>\n",
              "      <td>59.930464</td>\n",
              "      <td>10.675783</td>\n",
              "      <td>66</td>\n",
              "      <td>20.200</td>\n",
              "    </tr>\n",
              "    <tr>\n",
              "      <th>3772</th>\n",
              "      <td>2020</td>\n",
              "      <td>April</td>\n",
              "      <td>HasleLinje</td>\n",
              "      <td>59.927634</td>\n",
              "      <td>10.799249</td>\n",
              "      <td>64</td>\n",
              "      <td>15.425</td>\n",
              "    </tr>\n",
              "    <tr>\n",
              "      <th>3773</th>\n",
              "      <td>2020</td>\n",
              "      <td>April</td>\n",
              "      <td>Bak Niels Treschows hus sør</td>\n",
              "      <td>59.942473</td>\n",
              "      <td>10.723715</td>\n",
              "      <td>45</td>\n",
              "      <td>14.200</td>\n",
              "    </tr>\n",
              "  </tbody>\n",
              "</table>\n",
              "</div>"
            ],
            "text/plain": [
              "      year  month                         name  ...        lon  trips  mean_min\n",
              "3769  2020  April           Tordenskiolds gate  ...  10.735113     88    15.610\n",
              "3770  2020  April    Blindern studentparkering  ...  10.720779     70    17.860\n",
              "3771  2020  April               Jarlsborgveien  ...  10.675783     66    20.200\n",
              "3772  2020  April                   HasleLinje  ...  10.799249     64    15.425\n",
              "3773  2020  April  Bak Niels Treschows hus sør  ...  10.723715     45    14.200\n",
              "\n",
              "[5 rows x 7 columns]"
            ]
          },
          "metadata": {
            "tags": []
          },
          "execution_count": 13
        }
      ]
    },
    {
      "cell_type": "code",
      "metadata": {
        "id": "8uqxm4pesuFf"
      },
      "source": [
        "#Creating a function to generate a basemap\n",
        "def generate_basemap(default_loc=[59.92,10.75], default_zoom=13):\n",
        "    bmap = folium.Map(location=default_loc, zoom_start=default_zoom)\n",
        "    return bmap"
      ],
      "execution_count": 14,
      "outputs": []
    },
    {
      "cell_type": "code",
      "metadata": {
        "id": "A_7xm-SFg4De"
      },
      "source": [
        "def plot_basemap(year, month, cat, st_num):\n",
        "  \"\"\"Plot basemap according to year, month, category and station numbers\"\"\"\n",
        "\n",
        "  #Slice the corresponding dataframe depending on the selected category\n",
        "  if cat == 'Starting_stations':\n",
        "    hm_df = st_loc_clean[(st_loc_clean['year']==year) & (st_loc_clean['month']==month)].copy()\n",
        "    hm_df = hm_df.drop(columns=['year', 'month', 'name', 'mean_min'])\n",
        "  elif cat == 'Destination_stations':\n",
        "    hm_df = en_loc_clean[(en_loc_clean['year']==year) & (en_loc_clean['month']==month)].copy()\n",
        "    hm_df = hm_df.drop(columns=['year', 'month', 'name', 'mean_min'])\n",
        "\n",
        "  #Create a function to convert lat, lon, and weight to list. Folium does not take DataFrames\n",
        "  def convert_to_list(df):\n",
        "    \"\"\"Convert dataframe to list of lat, lon and weight\"\"\"\n",
        "    lat = df['lat'].to_numpy(dtype=float)\n",
        "    lon = df['lon'].to_numpy(dtype=float)\n",
        "    weight = df['trips'].to_numpy(dtype=float)\n",
        "    return [[l, g, w] for l, g, w in zip(lat, lon, weight)]\n",
        "\n",
        "  #Convert lat, long and weight to lists of list\n",
        "  heat_data = convert_to_list(hm_df)\n",
        "\n",
        "  #Generate a basemap\n",
        "  basemap = generate_basemap()\n",
        "\n",
        "  #Create a HeatMap with lat, lon and number of trips\n",
        "  HeatMap(heat_data[:st_num]).add_to(basemap)\n",
        "\n",
        "  #Plot the basemap\n",
        "  return basemap"
      ],
      "execution_count": 25,
      "outputs": []
    },
    {
      "cell_type": "code",
      "metadata": {
        "id": "ldTE0dt6lWSS"
      },
      "source": [
        "#Generating widgets options for HeatMap\n",
        "yr = [2020, 2021]\n",
        "months = ['January', 'February', 'March', 'April', 'May', 'June', 'July', 'August', 'September', 'October', 'November', 'December']\n",
        "category = ['Starting_stations', 'Destination_stations']\n",
        "num = [i for i in range(5, 251, 5)]"
      ],
      "execution_count": 27,
      "outputs": []
    },
    {
      "cell_type": "markdown",
      "metadata": {
        "id": "mw77R1OZqoni"
      },
      "source": [
        "###Visualizing Bysykkel Location Data"
      ]
    },
    {
      "cell_type": "code",
      "metadata": {
        "colab": {
          "base_uri": "https://localhost:8080/",
          "height": 994,
          "referenced_widgets": [
            "90ede6698b9747abb4ee5fc14a7b7bda",
            "9ccee5e9893e4d9eaf281b72b7fa62e7",
            "57e4351ecd934caf887eeaaa99b44262",
            "ae811c4af1b64b2ebbf346b2448ad518",
            "5cfe24d4f3c74e12b747bbfd154cd269",
            "ade1de72c79e45cab4c7b89a2b8e7e40",
            "c6efc31ee08847cd9f64d1e6618b7d96",
            "9d49061a6c784bb49f97b23d4063477f",
            "2509c8776f4e4ebb843c8e2b6ebdf304",
            "561ea9d467a84b7f8c02dd5af051f1f5",
            "f19d5354331f4c0dbf4e4709f80cd64b",
            "6be215b52abf460bb916cf1c3082fbb1",
            "30ba649faf6243f78843e4e6fb08a7ce",
            "4716516687224225ae5b50426be86562",
            "297d5b468e264bb2a332f8bdf3044ace",
            "125ce6b50934403ca537fd41f1f4e7de"
          ]
        },
        "id": "rXEmbaCdg4OK",
        "outputId": "82652328-6fb0-43a4-ac2a-f2b313c809ba"
      },
      "source": [
        "#Plotting interactive HeatMap for Bysykkel data\n",
        "interact(plot_basemap,\n",
        "         year=widgets.Dropdown(options=yr, value=yr[0], description='Year', disabled=False),\n",
        "         month=widgets.Dropdown(options=months, value=months[2], description='Month', disabled=False),\n",
        "         cat=widgets.Dropdown(options=category, value=category[0], description='Category', disabled=False),\n",
        "         st_num=widgets.Dropdown(options=num, value=num[3], description='Stations', disabled=False))\n",
        "plt.show()"
      ],
      "execution_count": 28,
      "outputs": [
        {
          "output_type": "display_data",
          "data": {
            "application/vnd.jupyter.widget-view+json": {
              "model_id": "90ede6698b9747abb4ee5fc14a7b7bda",
              "version_minor": 0,
              "version_major": 2
            },
            "text/plain": [
              "interactive(children=(Dropdown(description='Year', options=(2020, 2021), value=2020), Dropdown(description='Mo…"
            ]
          },
          "metadata": {
            "tags": []
          }
        }
      ]
    },
    {
      "cell_type": "markdown",
      "metadata": {
        "id": "ewlYx-sRZeTF"
      },
      "source": [
        "###Starting Stations Dashboard"
      ]
    },
    {
      "cell_type": "code",
      "metadata": {
        "id": "DomhNZZvZdMH"
      },
      "source": [
        "#Creating a function to plot the interactive dashboard for starting stations\n",
        "\n",
        "def plot_start_dashboard(year, month):\n",
        "  \"\"\"Plot the top starting stations, average minutes per station, roush hours and monthly rides for the selected year\"\"\"\n",
        "  \n",
        "  #Creating slices of the dataframes  \n",
        "  df1 = st_loc_clean[(st_loc_clean['year']==year) & (st_loc_clean['month']==month)].copy()\n",
        "  df2 = st_hr_clean[(st_hr_clean['year']==year) & (st_hr_clean['month']==month)].copy()\n",
        "  df3 = st_loc_clean[st_loc_clean['year']==year].copy()\n",
        "  df3 = df3.groupby(['month']).agg(month_trips=('trips', 'sum')).reset_index()\n",
        "\n",
        "  #Creating constants for plotting\n",
        "  hours = [i for i in range(0, 24)]\n",
        "  ord_months = ['January', 'February', 'March', 'April', 'May', 'June', 'July', 'August', 'September', 'October', 'November', 'December']\n",
        "\n",
        "  #Create four subplots and unpack the output array immediately\n",
        "  fig, ((ax1, ax2), (ax3, ax4)) = plt.subplots(nrows=2, ncols=2, figsize=(20,10))\n",
        "\n",
        "  #Set title for the figure\n",
        "  fig.suptitle(\"Bysykkel Dashboard - Starting Stations\", fontsize=24)\n",
        "\n",
        "  #Accessing axes objects and plotting\n",
        "  sns.barplot(x='name', y='trips', data=df1[:5], ax=ax1)\n",
        "  sns.barplot(x='name', y='mean_min', data=df1[:5], ax=ax2)\n",
        "  sns.barplot(x='hour', y='count', data=df2, order=hours, ax=ax3)\n",
        "  sns.barplot(x='month', y='month_trips', data=df3, order=ord_months, ax=ax4)\n",
        "    \n",
        "  #Customizing axes labels and titles for first axes figure\n",
        "  ax1.set_xlabel('Station names')\n",
        "  ax1.set_ylabel('Number of Trips')\n",
        "  ax1.set_title(f'Top 5 starting stations for {month} {year}')\n",
        "  \n",
        "  #Customizing axes labels and titles for second axes figure\n",
        "  ax2.set_xlabel('Station names')\n",
        "  ax2.set_ylabel('Minutes')\n",
        "  ax2.set_title(f'Average ride per station (in minutes) for {month} {year}')\n",
        "\n",
        "  #Customizing axes labels and titles for third axes figure\n",
        "  ax3.set_xlabel('Hours of day')\n",
        "  ax3.set_ylabel('Number of Trips')\n",
        "  ax3.set_title(f'Rush hours for {month} {year}')\n",
        "\n",
        "  #Customizing axes labels and titles for fourth axes figure\n",
        "  ax4.set_xlabel('Months')\n",
        "  ax4.set_ylabel('Number of Trips')\n",
        "  ax4.set_title(f'Total rides per month during {year}')\n",
        "\n",
        "  #Prevent from axis to colliding or overlaping one another.\n",
        "  fig.tight_layout()\n",
        "  fig.subplots_adjust(top=0.88)"
      ],
      "execution_count": 23,
      "outputs": []
    },
    {
      "cell_type": "code",
      "metadata": {
        "colab": {
          "base_uri": "https://localhost:8080/",
          "height": 786,
          "referenced_widgets": [
            "3718852ad9af4389babafe18c204b79d",
            "ad90f6e1bfb44469bb434b800544567d",
            "95eb1013332a4ed99917a3e5db2cadca",
            "ae553934f29f432d84a57bc5d0bf410c",
            "3dd33aacaa4d46279abab825924a2945",
            "97e1efa25dc24704b6ff6a0d3918164c",
            "496e522ceac54313ba58f14857036491",
            "d7ad1e0097c84957bfec8905cc899cc1",
            "6ae645d5d76b49889f062e58e737234c",
            "a2cee59a87884eba809ef2fe9af5e83f"
          ]
        },
        "id": "HuGuEnNXbokP",
        "outputId": "a7c72bc4-ba8d-41d3-af8c-25e2cbab0e0d"
      },
      "source": [
        "#Plotting Bysykkel dashboard for starting stations with interactive widgets\n",
        "interact(plot_start_dashboard,\n",
        "         year=widgets.Dropdown(options=yr, value=yr[0], description='Year', disabled=False),\n",
        "         month=widgets.Dropdown(options=month, value=month[2], description='Month', disabled=False))\n",
        "plt.show()"
      ],
      "execution_count": 24,
      "outputs": [
        {
          "output_type": "display_data",
          "data": {
            "application/vnd.jupyter.widget-view+json": {
              "model_id": "3718852ad9af4389babafe18c204b79d",
              "version_minor": 0,
              "version_major": 2
            },
            "text/plain": [
              "interactive(children=(Dropdown(description='Year', options=(2020, 2021), value=2020), Dropdown(description='Mo…"
            ]
          },
          "metadata": {
            "tags": []
          }
        }
      ]
    },
    {
      "cell_type": "code",
      "metadata": {
        "colab": {
          "base_uri": "https://localhost:8080/",
          "height": 203
        },
        "id": "j_K2mrW2cfCN",
        "outputId": "61a8c1bc-3238-49b7-d017-44232d8c8ab1"
      },
      "source": [
        "st_loc_clean.head()"
      ],
      "execution_count": null,
      "outputs": [
        {
          "output_type": "execute_result",
          "data": {
            "text/html": [
              "<div>\n",
              "<style scoped>\n",
              "    .dataframe tbody tr th:only-of-type {\n",
              "        vertical-align: middle;\n",
              "    }\n",
              "\n",
              "    .dataframe tbody tr th {\n",
              "        vertical-align: top;\n",
              "    }\n",
              "\n",
              "    .dataframe thead th {\n",
              "        text-align: right;\n",
              "    }\n",
              "</style>\n",
              "<table border=\"1\" class=\"dataframe\">\n",
              "  <thead>\n",
              "    <tr style=\"text-align: right;\">\n",
              "      <th></th>\n",
              "      <th>year</th>\n",
              "      <th>month</th>\n",
              "      <th>name</th>\n",
              "      <th>lat</th>\n",
              "      <th>lon</th>\n",
              "      <th>trips</th>\n",
              "      <th>mean_min</th>\n",
              "    </tr>\n",
              "  </thead>\n",
              "  <tbody>\n",
              "    <tr>\n",
              "      <th>0</th>\n",
              "      <td>2021</td>\n",
              "      <td>May</td>\n",
              "      <td>Alexander Kiellands Plass</td>\n",
              "      <td>59.928067</td>\n",
              "      <td>10.751203</td>\n",
              "      <td>2137</td>\n",
              "      <td>11.62</td>\n",
              "    </tr>\n",
              "    <tr>\n",
              "      <th>1</th>\n",
              "      <td>2021</td>\n",
              "      <td>May</td>\n",
              "      <td>Ringnes Park</td>\n",
              "      <td>59.928434</td>\n",
              "      <td>10.759430</td>\n",
              "      <td>1900</td>\n",
              "      <td>10.93</td>\n",
              "    </tr>\n",
              "    <tr>\n",
              "      <th>2</th>\n",
              "      <td>2021</td>\n",
              "      <td>May</td>\n",
              "      <td>Olaf Ryes plass</td>\n",
              "      <td>59.922425</td>\n",
              "      <td>10.758182</td>\n",
              "      <td>1661</td>\n",
              "      <td>12.92</td>\n",
              "    </tr>\n",
              "    <tr>\n",
              "      <th>3</th>\n",
              "      <td>2021</td>\n",
              "      <td>May</td>\n",
              "      <td>Bislettgata</td>\n",
              "      <td>59.923774</td>\n",
              "      <td>10.734713</td>\n",
              "      <td>1533</td>\n",
              "      <td>11.77</td>\n",
              "    </tr>\n",
              "    <tr>\n",
              "      <th>4</th>\n",
              "      <td>2021</td>\n",
              "      <td>May</td>\n",
              "      <td>Rådhusbrygge 4</td>\n",
              "      <td>59.910847</td>\n",
              "      <td>10.730377</td>\n",
              "      <td>1515</td>\n",
              "      <td>17.29</td>\n",
              "    </tr>\n",
              "  </tbody>\n",
              "</table>\n",
              "</div>"
            ],
            "text/plain": [
              "   year month                       name        lat        lon  trips  mean_min\n",
              "0  2021   May  Alexander Kiellands Plass  59.928067  10.751203   2137     11.62\n",
              "1  2021   May               Ringnes Park  59.928434  10.759430   1900     10.93\n",
              "2  2021   May            Olaf Ryes plass  59.922425  10.758182   1661     12.92\n",
              "3  2021   May                Bislettgata  59.923774  10.734713   1533     11.77\n",
              "4  2021   May             Rådhusbrygge 4  59.910847  10.730377   1515     17.29"
            ]
          },
          "metadata": {
            "tags": []
          },
          "execution_count": 34
        }
      ]
    },
    {
      "cell_type": "markdown",
      "metadata": {
        "id": "EAhFcX_zD2KM"
      },
      "source": [
        "###Destination Stations Dashboard"
      ]
    },
    {
      "cell_type": "code",
      "metadata": {
        "id": "8vs3z4QSEDs_"
      },
      "source": [
        "#Creating a function to plot the interactive dashboard for starting stations\n",
        "\n",
        "def plot_destination_dashboard(year, month):\n",
        "  \"\"\"Plot the top destination stations, average minutes per station, roush hours and monthly rides for the selected year\"\"\"\n",
        "  \n",
        "  #Creating slices of the dataframes  \n",
        "  df1 = en_loc_clean[(en_loc_clean['year']==year) & (en_loc_clean['month']==month)].copy()\n",
        "  df2 = en_hr_clean[(en_hr_clean['year']==year) & (en_hr_clean['month']==month)].copy()\n",
        "  df3 = en_loc_clean[en_loc_clean['year']==year].copy()\n",
        "  df3 = df3.groupby(['month']).agg(month_trips=('trips', 'sum')).reset_index()\n",
        "\n",
        "  #Creating constants for plotting\n",
        "  hours = [i for i in range(0, 24)]\n",
        "  ord_months = ['January', 'February', 'March', 'April', 'May', 'June', 'July', 'August', 'September', 'October', 'November', 'December']\n",
        "\n",
        "  #Create four subplots and unpack the output array immediately\n",
        "  fig, ((ax1, ax2), (ax3, ax4)) = plt.subplots(nrows=2, ncols=2, figsize=(20,10))\n",
        "\n",
        "  #Set title for the figure\n",
        "  fig.suptitle(\"Bysykkel Dashboard - Destionation Stations\", fontsize=24)\n",
        "\n",
        "  #Accessing axes objects and plotting\n",
        "  sns.barplot(x='name', y='trips', data=df1[:5], ax=ax1)\n",
        "  sns.barplot(x='name', y='mean_min', data=df1[:5], ax=ax2)\n",
        "  sns.barplot(x='hour', y='count', data=df2, order=hours, ax=ax3)\n",
        "  sns.barplot(x='month', y='month_trips', data=df3, order=ord_months, ax=ax4)\n",
        "    \n",
        "  #Customizing axes labels and titles for first axes figure\n",
        "  ax1.set_xlabel('Station names')\n",
        "  ax1.set_ylabel('Number of Trips')\n",
        "  ax1.set_title(f'Top 5 destionation stations for {month} {year}')\n",
        "  \n",
        "  #Customizing axes labels and titles for second axes figure\n",
        "  ax2.set_xlabel('Station names')\n",
        "  ax2.set_ylabel('Minutes')\n",
        "  ax2.set_title(f'Average ride per station (in minutes) for {month} {year}')\n",
        "\n",
        "  #Customizing axes labels and titles for third axes figure\n",
        "  ax3.set_xlabel('Hours of day')\n",
        "  ax3.set_ylabel('Number of Trips')\n",
        "  ax3.set_title(f'Rush hours for {month} {year}')\n",
        "\n",
        "  #Customizing axes labels and titles for fourth axes figure\n",
        "  ax4.set_xlabel('Months')\n",
        "  ax4.set_ylabel('Number of Trips')\n",
        "  ax4.set_title(f'Total rides per month during {year}')\n",
        "\n",
        "  #Prevent from axis to colliding or overlaping one another.\n",
        "  fig.tight_layout()\n",
        "  fig.subplots_adjust(top=0.88)"
      ],
      "execution_count": 41,
      "outputs": []
    },
    {
      "cell_type": "code",
      "metadata": {
        "colab": {
          "base_uri": "https://localhost:8080/",
          "height": 806,
          "referenced_widgets": [
            "4685b22016ea4fd8bbf11a27967b3d0c",
            "f13a4933d607430dbd14ca074af1faf1",
            "6815defce9bb4d6a8d12875bc4b047ef",
            "9a16c1deed9e4c68870a50df280ce742",
            "2670951f03d84f01b8b7a3d3c0a87b10",
            "ef740e45a0d340a282d18a68e066cccf",
            "4fef18e42d634c34b12a8270196f78f4",
            "e54b3dbb3f90478aac2a7200be7e0431",
            "ab88db0ee28a4ecf84afd0a978abb31f",
            "8fb0b3a1140b4434a30ce2cd6fdb6795"
          ]
        },
        "id": "EoBeEDssExBu",
        "outputId": "91e566db-ab35-4385-8658-ef3194fcb3e8"
      },
      "source": [
        "#Plotting Bysykkel dashboard for destionation stations with interactive widgets\n",
        "interact(plot_destination_dashboard,\n",
        "         year=widgets.Dropdown(options=yr, value=yr[0], description='Year', disabled=False),\n",
        "         month=widgets.Dropdown(options=month, value=month[2], description='Month', disabled=False))\n",
        "plt.show()"
      ],
      "execution_count": 42,
      "outputs": [
        {
          "output_type": "display_data",
          "data": {
            "application/vnd.jupyter.widget-view+json": {
              "model_id": "4685b22016ea4fd8bbf11a27967b3d0c",
              "version_minor": 0,
              "version_major": 2
            },
            "text/plain": [
              "interactive(children=(Dropdown(description='Year', options=(2020, 2021), value=2020), Dropdown(description='Mo…"
            ]
          },
          "metadata": {
            "tags": []
          }
        }
      ]
    },
    {
      "cell_type": "markdown",
      "metadata": {
        "id": "EQ96RybtclrJ"
      },
      "source": [
        "###Dashboard preparation"
      ]
    },
    {
      "cell_type": "code",
      "metadata": {
        "id": "twtSgIBm6S9D"
      },
      "source": [
        "#Creating a function to plot the interactive dashboard\n",
        "\n",
        "def plot_dashboard(year, month):\n",
        "  \"\"\"Plot the starting point of trips, location and average minutes per station \"\"\"\n",
        "  \n",
        "  #Creating slices of the dataframes  \n",
        "  df1 = st_loc_clean[(st_loc_clean['year']==year) & (st_loc_clean['month']==month)].copy()\n",
        "  df2 = en_loc_clean[(en_loc_clean['year']==year) & (en_loc_clean['month']==month)].copy()\n",
        "  df3 = st_hr_clean[(st_hr_clean['year']==year) & (st_hr_clean['month']==month)].copy()\n",
        "  df4 = en_hr_clean[(en_hr_clean['year']==year) & (en_hr_clean['month']==month)].copy()\n",
        "\n",
        "  #Creating constants for plotting\n",
        "  hours = [i for i in range(0, 24)]\n",
        "\n",
        "  #Create four subplots and unpack the output array immediately\n",
        "  fig, ((ax1, ax2), (ax3, ax4)) = plt.subplots(nrows=2, ncols=2, figsize=(20,10))\n",
        "\n",
        "  #Set title for the figure\n",
        "  fig.suptitle(\"Bysykkel Dashboard - Under construction\", fontsize=24)\n",
        "\n",
        "  #Accessing axes objects and plotting\n",
        "  sns.barplot(x='name', y='trips', data=df1[:5], ax=ax1)\n",
        "  sns.barplot(x='name', y='trips', data=df2[:5], ax=ax2)\n",
        "  sns.barplot(x='hour', y='count', data=df3, order=hours, ax=ax3)\n",
        "  sns.barplot(x='hour', y='count', data=df4, order=hours, ax=ax4)\n",
        "    \n",
        "  #Customizing axes labels and titles for first axes figure\n",
        "  ax1.set_xlabel('Station names')\n",
        "  ax1.set_ylabel('Number of Trips')\n",
        "  ax1.set_title('Top 5 start stations')\n",
        "  \n",
        "  #Customizing axes labels and titles for second axes figure\n",
        "  ax2.set_xlabel('Station names')\n",
        "  ax2.set_ylabel('Number of Trips')\n",
        "  ax2.set_title('Top 5 destination stations')\n",
        "\n",
        "  #Customizing axes labels and titles for third axes figure\n",
        "  ax3.set_xlabel('Hours of day')\n",
        "  ax3.set_ylabel('Number of Trips')\n",
        "  ax3.set_title('Start trips rush hours')\n",
        "\n",
        "  #Customizing axes labels and titles for third axes figure\n",
        "  ax4.set_xlabel('Hours of day')\n",
        "  ax4.set_ylabel('Number of Trips')\n",
        "  ax4.set_title('Destination trips rush hours')\n",
        "\n",
        "  #Prevent from axis to colliding or overlaping one another.\n",
        "  fig.tight_layout()\n",
        "  fig.subplots_adjust(top=0.88)"
      ],
      "execution_count": 44,
      "outputs": []
    },
    {
      "cell_type": "markdown",
      "metadata": {
        "id": "_2ffmzfn5j1P"
      },
      "source": [
        "###Visualizing Bysykkel Dashboard"
      ]
    },
    {
      "cell_type": "code",
      "metadata": {
        "colab": {
          "base_uri": "https://localhost:8080/",
          "height": 781,
          "referenced_widgets": [
            "e1a503b0cf9b4e6a98808a6c09ace44d",
            "0dabd091c136427eb24bae894c146c93",
            "1ddc5631ccfb41f397c2dd20533ad232",
            "6ac689085d504563b7ddf67293253618",
            "c33f187d6cc9426db7dcd659cedc52c4",
            "4c005c7e46c0455eb8ffe56621495f4d",
            "a23e5f181bdc4307a923f21393d283eb",
            "1ac7e0b6086344b58901d60f8af41968",
            "0ccef66e16b44bdbb728d5aa8b5dfc71",
            "8f10537f0ebe4337a70b8e58567ad48c"
          ]
        },
        "id": "5uQ7SiroCYyr",
        "outputId": "038c5f76-b8f6-4f88-f7fb-815911f14315"
      },
      "source": [
        "#Plotting Bysykkel dashboard with interactive widgets\n",
        "interact(plot_dashboard,\n",
        "         year=widgets.Dropdown(options=yr, value=yr[0], description='Year', disabled=False),\n",
        "         month=widgets.Dropdown(options=month, value=month[2], description='Month', disabled=False))\n",
        "plt.show()"
      ],
      "execution_count": 45,
      "outputs": [
        {
          "output_type": "display_data",
          "data": {
            "application/vnd.jupyter.widget-view+json": {
              "model_id": "e1a503b0cf9b4e6a98808a6c09ace44d",
              "version_minor": 0,
              "version_major": 2
            },
            "text/plain": [
              "interactive(children=(Dropdown(description='Year', options=(2020, 2021), value=2020), Dropdown(description='Mo…"
            ]
          },
          "metadata": {
            "tags": []
          }
        }
      ]
    }
  ]
}