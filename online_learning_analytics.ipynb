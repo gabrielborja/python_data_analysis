{
  "nbformat": 4,
  "nbformat_minor": 0,
  "metadata": {
    "colab": {
      "name": "online_learning_analytics.ipynb",
      "provenance": [],
      "authorship_tag": "ABX9TyP0kil+WBpnBxV5o0Lo/e7m",
      "include_colab_link": true
    },
    "kernelspec": {
      "name": "python3",
      "display_name": "Python 3"
    },
    "language_info": {
      "name": "python"
    }
  },
  "cells": [
    {
      "cell_type": "markdown",
      "metadata": {
        "id": "view-in-github",
        "colab_type": "text"
      },
      "source": [
        "<a href=\"https://colab.research.google.com/github/gabrielborja/python_data_analysis/blob/main/online_learning_analytics.ipynb\" target=\"_parent\"><img src=\"https://colab.research.google.com/assets/colab-badge.svg\" alt=\"Open In Colab\"/></a>"
      ]
    },
    {
      "cell_type": "markdown",
      "metadata": {
        "id": "eTZwpRZNRhGY"
      },
      "source": [
        "#Udacity analytics"
      ]
    },
    {
      "cell_type": "markdown",
      "metadata": {
        "id": "urSYFOWesvzU"
      },
      "source": [
        "Data about Udacity courses and programs can be found [here](https://www.udacity.com/courses/all?type=free%20courses)"
      ]
    },
    {
      "cell_type": "markdown",
      "metadata": {
        "id": "sgzkv1LwjLIL"
      },
      "source": [
        "## Uploading packages and data"
      ]
    },
    {
      "cell_type": "code",
      "metadata": {
        "id": "QTRtRZcb-IyF"
      },
      "source": [
        "#Importing HTTP libraries\n",
        "from bs4 import BeautifulSoup as bs"
      ],
      "execution_count": 1,
      "outputs": []
    },
    {
      "cell_type": "code",
      "metadata": {
        "id": "RHzc7K6UJDvR"
      },
      "source": [
        "#Importing data manipulation libraries\n",
        "import numpy as np\n",
        "import pandas as pd"
      ],
      "execution_count": 2,
      "outputs": []
    },
    {
      "cell_type": "markdown",
      "metadata": {
        "id": "Qd76FNGixVGx"
      },
      "source": [
        "##Retrieving data from URL"
      ]
    },
    {
      "cell_type": "code",
      "metadata": {
        "id": "oen97ED1-rh-"
      },
      "source": [
        "#Uploading file from local drive\n",
        "from google.colab import files\n",
        "my_text_1 = files.upload()"
      ],
      "execution_count": null,
      "outputs": []
    },
    {
      "cell_type": "code",
      "metadata": {
        "id": "NI9MspcGZSP7"
      },
      "source": [
        "#Extracting html from txt file\n",
        "html1 = my_text_1['udacity.txt']"
      ],
      "execution_count": 14,
      "outputs": []
    },
    {
      "cell_type": "code",
      "metadata": {
        "id": "W1pXcNFlFXFP"
      },
      "source": [
        "#Create a function to retrieve data from given URL\n",
        "def get_courses(url):\n",
        "  \"\"\"Retrieve data from given URL and return a dataframe\"\"\"\n",
        "  \n",
        "  #Get data and parse with BeautifulSoup\n",
        "  try:\n",
        "    soup = bs(url, 'html.parser')\n",
        "    \n",
        "    #Save retrieved data to lists\n",
        "    d1_names = [i.text for i in soup.find_all('h2')]\n",
        "    d1_schools = [i.text for i in soup.find_all('h3')]\n",
        "    d1_description = [i.p.text for i in soup.find_all(class_='card_body__1fi66')]\n",
        "    \n",
        "    #Save data to dataframe\n",
        "    df = pd.DataFrame()\n",
        "    df = df.assign(name=d1_names, school=d1_schools, description=d1_description)\n",
        "    return df\n",
        "\n",
        "  except TypeError:\n",
        "    print('TypeError')"
      ],
      "execution_count": 42,
      "outputs": []
    },
    {
      "cell_type": "code",
      "metadata": {
        "colab": {
          "base_uri": "https://localhost:8080/",
          "height": 663
        },
        "id": "oey_xPqFa_FW",
        "outputId": "029e467b-5fc4-4f05-ac5d-564a5964d06e"
      },
      "source": [
        "#Generating a dataframe from url\n",
        "df1 = get_courses(html1)\n",
        "df1.tail(20)"
      ],
      "execution_count": 43,
      "outputs": [
        {
          "output_type": "execute_result",
          "data": {
            "text/html": [
              "<div>\n",
              "<style scoped>\n",
              "    .dataframe tbody tr th:only-of-type {\n",
              "        vertical-align: middle;\n",
              "    }\n",
              "\n",
              "    .dataframe tbody tr th {\n",
              "        vertical-align: top;\n",
              "    }\n",
              "\n",
              "    .dataframe thead th {\n",
              "        text-align: right;\n",
              "    }\n",
              "</style>\n",
              "<table border=\"1\" class=\"dataframe\">\n",
              "  <thead>\n",
              "    <tr style=\"text-align: right;\">\n",
              "      <th></th>\n",
              "      <th>name</th>\n",
              "      <th>school</th>\n",
              "      <th>description</th>\n",
              "    </tr>\n",
              "  </thead>\n",
              "  <tbody>\n",
              "    <tr>\n",
              "      <th>173</th>\n",
              "      <td>How to Make an iOS App</td>\n",
              "      <td>School of Programming &amp; Development</td>\n",
              "      <td>Learn the process of building an app, taking y...</td>\n",
              "    </tr>\n",
              "    <tr>\n",
              "      <th>174</th>\n",
              "      <td>Intro to DevOps</td>\n",
              "      <td>School of Programming &amp; Development</td>\n",
              "      <td>Learn all about the DevOps landscape, workflow...</td>\n",
              "    </tr>\n",
              "    <tr>\n",
              "      <th>175</th>\n",
              "      <td>Google Maps APIs</td>\n",
              "      <td>School of Programming &amp; Development</td>\n",
              "      <td>This course will introduce you to the content ...</td>\n",
              "    </tr>\n",
              "    <tr>\n",
              "      <th>176</th>\n",
              "      <td>Passwordless Login Solutions for Android</td>\n",
              "      <td>School of Programming &amp; Development</td>\n",
              "      <td></td>\n",
              "    </tr>\n",
              "    <tr>\n",
              "      <th>177</th>\n",
              "      <td>Mobile Design and Usability for Android</td>\n",
              "      <td>School of Programming &amp; Development</td>\n",
              "      <td>In this course, taught in collaboration with F...</td>\n",
              "    </tr>\n",
              "    <tr>\n",
              "      <th>178</th>\n",
              "      <td>iOS Design Patterns</td>\n",
              "      <td>School of Programming &amp; Development</td>\n",
              "      <td>In this course, you'll explore iOS design patt...</td>\n",
              "    </tr>\n",
              "    <tr>\n",
              "      <th>179</th>\n",
              "      <td>Intro to Psychology</td>\n",
              "      <td>School of Programming &amp; Development</td>\n",
              "      <td>Go on a journey through psychological concepts...</td>\n",
              "    </tr>\n",
              "    <tr>\n",
              "      <th>180</th>\n",
              "      <td>Engagement &amp; Monetization | Mobile Games</td>\n",
              "      <td>School of Programming &amp; Development</td>\n",
              "      <td>You will learn the most effective monetization...</td>\n",
              "    </tr>\n",
              "    <tr>\n",
              "      <th>181</th>\n",
              "      <td>Material Design for Android Developers</td>\n",
              "      <td>School of Programming &amp; Development</td>\n",
              "      <td>Learn and apply the material design principles...</td>\n",
              "    </tr>\n",
              "    <tr>\n",
              "      <th>182</th>\n",
              "      <td>Craft Your Cover Letter</td>\n",
              "      <td>Career Advancement</td>\n",
              "      <td>Write a compelling narrative that showcases yo...</td>\n",
              "    </tr>\n",
              "    <tr>\n",
              "      <th>183</th>\n",
              "      <td>Refresh Your Resume</td>\n",
              "      <td>Career Advancement</td>\n",
              "      <td>Create a targeted resume that gets the attenti...</td>\n",
              "    </tr>\n",
              "    <tr>\n",
              "      <th>184</th>\n",
              "      <td>Strengthen Your LinkedIn Network &amp; Brand</td>\n",
              "      <td>Career Advancement</td>\n",
              "      <td>Learn how to excel at networking both in-perso...</td>\n",
              "    </tr>\n",
              "    <tr>\n",
              "      <th>185</th>\n",
              "      <td>Data Science Interview Prep</td>\n",
              "      <td>Career Advancement</td>\n",
              "      <td>Prepare for data science interviews by practic...</td>\n",
              "    </tr>\n",
              "    <tr>\n",
              "      <th>186</th>\n",
              "      <td>Android Interview Prep</td>\n",
              "      <td>Career Advancement</td>\n",
              "      <td>Learn how to respond to common Android and mob...</td>\n",
              "    </tr>\n",
              "    <tr>\n",
              "      <th>187</th>\n",
              "      <td>Machine Learning Interview Preparation</td>\n",
              "      <td>Career Advancement</td>\n",
              "      <td>In this course, you’ll learn exactly what to e...</td>\n",
              "    </tr>\n",
              "    <tr>\n",
              "      <th>188</th>\n",
              "      <td>Front-End Interview Prep</td>\n",
              "      <td>Career Advancement</td>\n",
              "      <td>Answer front-end technical and behavioral inte...</td>\n",
              "    </tr>\n",
              "    <tr>\n",
              "      <th>189</th>\n",
              "      <td>Full-Stack Interview Prep</td>\n",
              "      <td>Career Advancement</td>\n",
              "      <td>Answer common full stack and web security inte...</td>\n",
              "    </tr>\n",
              "    <tr>\n",
              "      <th>190</th>\n",
              "      <td>Data Structures &amp; Algorithms in Swift</td>\n",
              "      <td>Career Advancement</td>\n",
              "      <td>Review and practice the skills technical inter...</td>\n",
              "    </tr>\n",
              "    <tr>\n",
              "      <th>191</th>\n",
              "      <td>iOS Interview Prep</td>\n",
              "      <td>Career Advancement</td>\n",
              "      <td>Answer iOS and mobile development interview qu...</td>\n",
              "    </tr>\n",
              "    <tr>\n",
              "      <th>192</th>\n",
              "      <td>VR Interview Prep</td>\n",
              "      <td>Career Advancement</td>\n",
              "      <td>Learn how to tackle interview questions for te...</td>\n",
              "    </tr>\n",
              "  </tbody>\n",
              "</table>\n",
              "</div>"
            ],
            "text/plain": [
              "                                         name  ...                                        description\n",
              "173                    How to Make an iOS App  ...  Learn the process of building an app, taking y...\n",
              "174                           Intro to DevOps  ...  Learn all about the DevOps landscape, workflow...\n",
              "175                          Google Maps APIs  ...  This course will introduce you to the content ...\n",
              "176  Passwordless Login Solutions for Android  ...                                                   \n",
              "177   Mobile Design and Usability for Android  ...  In this course, taught in collaboration with F...\n",
              "178                       iOS Design Patterns  ...  In this course, you'll explore iOS design patt...\n",
              "179                       Intro to Psychology  ...  Go on a journey through psychological concepts...\n",
              "180  Engagement & Monetization | Mobile Games  ...  You will learn the most effective monetization...\n",
              "181    Material Design for Android Developers  ...  Learn and apply the material design principles...\n",
              "182                   Craft Your Cover Letter  ...  Write a compelling narrative that showcases yo...\n",
              "183                       Refresh Your Resume  ...  Create a targeted resume that gets the attenti...\n",
              "184  Strengthen Your LinkedIn Network & Brand  ...  Learn how to excel at networking both in-perso...\n",
              "185               Data Science Interview Prep  ...  Prepare for data science interviews by practic...\n",
              "186                    Android Interview Prep  ...  Learn how to respond to common Android and mob...\n",
              "187    Machine Learning Interview Preparation  ...  In this course, you’ll learn exactly what to e...\n",
              "188                  Front-End Interview Prep  ...  Answer front-end technical and behavioral inte...\n",
              "189                 Full-Stack Interview Prep  ...  Answer common full stack and web security inte...\n",
              "190     Data Structures & Algorithms in Swift  ...  Review and practice the skills technical inter...\n",
              "191                        iOS Interview Prep  ...  Answer iOS and mobile development interview qu...\n",
              "192                         VR Interview Prep  ...  Learn how to tackle interview questions for te...\n",
              "\n",
              "[20 rows x 3 columns]"
            ]
          },
          "metadata": {
            "tags": []
          },
          "execution_count": 43
        }
      ]
    },
    {
      "cell_type": "code",
      "metadata": {
        "id": "1wXsgb8cJZqF",
        "colab": {
          "base_uri": "https://localhost:8080/",
          "height": 17
        },
        "outputId": "336991c7-45cf-4011-cb63-4a3e722643b5"
      },
      "source": [
        "#Exporting to excel into local disk\n",
        "from google.colab import files\n",
        "df1.to_excel('2021_08_07_udacity.xlsx', index=False) #==> Excluding index from file\n",
        "files.download('2021_08_07_udacity.xlsx')"
      ],
      "execution_count": null,
      "outputs": [
        {
          "output_type": "display_data",
          "data": {
            "application/javascript": [
              "\n",
              "    async function download(id, filename, size) {\n",
              "      if (!google.colab.kernel.accessAllowed) {\n",
              "        return;\n",
              "      }\n",
              "      const div = document.createElement('div');\n",
              "      const label = document.createElement('label');\n",
              "      label.textContent = `Downloading \"${filename}\": `;\n",
              "      div.appendChild(label);\n",
              "      const progress = document.createElement('progress');\n",
              "      progress.max = size;\n",
              "      div.appendChild(progress);\n",
              "      document.body.appendChild(div);\n",
              "\n",
              "      const buffers = [];\n",
              "      let downloaded = 0;\n",
              "\n",
              "      const channel = await google.colab.kernel.comms.open(id);\n",
              "      // Send a message to notify the kernel that we're ready.\n",
              "      channel.send({})\n",
              "\n",
              "      for await (const message of channel.messages) {\n",
              "        // Send a message to notify the kernel that we're ready.\n",
              "        channel.send({})\n",
              "        if (message.buffers) {\n",
              "          for (const buffer of message.buffers) {\n",
              "            buffers.push(buffer);\n",
              "            downloaded += buffer.byteLength;\n",
              "            progress.value = downloaded;\n",
              "          }\n",
              "        }\n",
              "      }\n",
              "      const blob = new Blob(buffers, {type: 'application/binary'});\n",
              "      const a = document.createElement('a');\n",
              "      a.href = window.URL.createObjectURL(blob);\n",
              "      a.download = filename;\n",
              "      div.appendChild(a);\n",
              "      a.click();\n",
              "      div.remove();\n",
              "    }\n",
              "  "
            ],
            "text/plain": [
              "<IPython.core.display.Javascript object>"
            ]
          },
          "metadata": {
            "tags": []
          }
        },
        {
          "output_type": "display_data",
          "data": {
            "application/javascript": [
              "download(\"download_f73a496c-80ee-49ca-8f32-9726eecf6407\", \"2021_08_07_inaquito.xlsx\", 10699)"
            ],
            "text/plain": [
              "<IPython.core.display.Javascript object>"
            ]
          },
          "metadata": {
            "tags": []
          }
        }
      ]
    }
  ]
}