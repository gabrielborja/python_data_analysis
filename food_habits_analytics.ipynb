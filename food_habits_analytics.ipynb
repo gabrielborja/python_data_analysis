{
  "nbformat": 4,
  "nbformat_minor": 0,
  "metadata": {
    "colab": {
      "provenance": [],
      "collapsed_sections": [
        "eTZwpRZNRhGY",
        "sgzkv1LwjLIL",
        "XcMODXQNx0mo",
        "HPqfPQd9D3B0"
      ],
      "authorship_tag": "ABX9TyMezng+5wvHAp5HLXBQR/5x",
      "include_colab_link": true
    },
    "kernelspec": {
      "name": "python3",
      "display_name": "Python 3"
    },
    "language_info": {
      "name": "python"
    },
    "widgets": {
      "application/vnd.jupyter.widget-state+json": {
        "8b39ae67bd5146bab861e69477eb2452": {
          "model_module": "@jupyter-widgets/controls",
          "model_name": "VBoxModel",
          "model_module_version": "1.5.0",
          "state": {
            "_dom_classes": [
              "widget-interact"
            ],
            "_model_module": "@jupyter-widgets/controls",
            "_model_module_version": "1.5.0",
            "_model_name": "VBoxModel",
            "_view_count": null,
            "_view_module": "@jupyter-widgets/controls",
            "_view_module_version": "1.5.0",
            "_view_name": "VBoxView",
            "box_style": "",
            "children": [
              "IPY_MODEL_6a66bf063c134181b35a16c8504da527",
              "IPY_MODEL_2603d2622c80458f964792c358a92192",
              "IPY_MODEL_d7f999ba77e74e108b7003f7e21cfafd"
            ],
            "layout": "IPY_MODEL_233dcec222a648c0b97f122002184b52"
          }
        },
        "6a66bf063c134181b35a16c8504da527": {
          "model_module": "@jupyter-widgets/controls",
          "model_name": "DropdownModel",
          "model_module_version": "1.5.0",
          "state": {
            "_dom_classes": [],
            "_model_module": "@jupyter-widgets/controls",
            "_model_module_version": "1.5.0",
            "_model_name": "DropdownModel",
            "_options_labels": [
              "month",
              "weeknum",
              "day",
              "hour"
            ],
            "_view_count": null,
            "_view_module": "@jupyter-widgets/controls",
            "_view_module_version": "1.5.0",
            "_view_name": "DropdownView",
            "description": "Cat",
            "description_tooltip": null,
            "disabled": false,
            "index": 2,
            "layout": "IPY_MODEL_dc67f411610a4611a5c239562844488c",
            "style": "IPY_MODEL_fa644fe479774713b6ccf0255d073460"
          }
        },
        "2603d2622c80458f964792c358a92192": {
          "model_module": "@jupyter-widgets/controls",
          "model_name": "DropdownModel",
          "model_module_version": "1.5.0",
          "state": {
            "_dom_classes": [],
            "_model_module": "@jupyter-widgets/controls",
            "_model_module_version": "1.5.0",
            "_model_name": "DropdownModel",
            "_options_labels": [
              "0",
              "1"
            ],
            "_view_count": null,
            "_view_module": "@jupyter-widgets/controls",
            "_view_module_version": "1.5.0",
            "_view_name": "DropdownView",
            "description": "Unload",
            "description_tooltip": null,
            "disabled": false,
            "index": 1,
            "layout": "IPY_MODEL_02d0ea4e719c41a087d8e82b55783ff4",
            "style": "IPY_MODEL_26d53611a90c4845a0e21e2fdc915e1f"
          }
        },
        "d7f999ba77e74e108b7003f7e21cfafd": {
          "model_module": "@jupyter-widgets/output",
          "model_name": "OutputModel",
          "model_module_version": "1.0.0",
          "state": {
            "_dom_classes": [],
            "_model_module": "@jupyter-widgets/output",
            "_model_module_version": "1.0.0",
            "_model_name": "OutputModel",
            "_view_count": null,
            "_view_module": "@jupyter-widgets/output",
            "_view_module_version": "1.0.0",
            "_view_name": "OutputView",
            "layout": "IPY_MODEL_a74fa116ead14fa88130e03bd0333d93",
            "msg_id": "",
            "outputs": [
              {
                "output_type": "display_data",
                "data": {
                  "text/plain": "         day  proportion\n0    Tuesday    0.223684\n1     Friday    0.184211\n2     Sunday    0.184211\n3   Thursday    0.171053\n4  Wednesday    0.105263\n5     Monday    0.092105\n6   Saturday    0.039474",
                  "text/html": "\n  <div id=\"df-75063867-ff96-4b78-91c0-cfaa872e6c0e\">\n    <div class=\"colab-df-container\">\n      <div>\n<style scoped>\n    .dataframe tbody tr th:only-of-type {\n        vertical-align: middle;\n    }\n\n    .dataframe tbody tr th {\n        vertical-align: top;\n    }\n\n    .dataframe thead th {\n        text-align: right;\n    }\n</style>\n<table border=\"1\" class=\"dataframe\">\n  <thead>\n    <tr style=\"text-align: right;\">\n      <th></th>\n      <th>day</th>\n      <th>proportion</th>\n    </tr>\n  </thead>\n  <tbody>\n    <tr>\n      <th>0</th>\n      <td>Tuesday</td>\n      <td>0.223684</td>\n    </tr>\n    <tr>\n      <th>1</th>\n      <td>Friday</td>\n      <td>0.184211</td>\n    </tr>\n    <tr>\n      <th>2</th>\n      <td>Sunday</td>\n      <td>0.184211</td>\n    </tr>\n    <tr>\n      <th>3</th>\n      <td>Thursday</td>\n      <td>0.171053</td>\n    </tr>\n    <tr>\n      <th>4</th>\n      <td>Wednesday</td>\n      <td>0.105263</td>\n    </tr>\n    <tr>\n      <th>5</th>\n      <td>Monday</td>\n      <td>0.092105</td>\n    </tr>\n    <tr>\n      <th>6</th>\n      <td>Saturday</td>\n      <td>0.039474</td>\n    </tr>\n  </tbody>\n</table>\n</div>\n      <button class=\"colab-df-convert\" onclick=\"convertToInteractive('df-75063867-ff96-4b78-91c0-cfaa872e6c0e')\"\n              title=\"Convert this dataframe to an interactive table.\"\n              style=\"display:none;\">\n        \n  <svg xmlns=\"http://www.w3.org/2000/svg\" height=\"24px\"viewBox=\"0 0 24 24\"\n       width=\"24px\">\n    <path d=\"M0 0h24v24H0V0z\" fill=\"none\"/>\n    <path d=\"M18.56 5.44l.94 2.06.94-2.06 2.06-.94-2.06-.94-.94-2.06-.94 2.06-2.06.94zm-11 1L8.5 8.5l.94-2.06 2.06-.94-2.06-.94L8.5 2.5l-.94 2.06-2.06.94zm10 10l.94 2.06.94-2.06 2.06-.94-2.06-.94-.94-2.06-.94 2.06-2.06.94z\"/><path d=\"M17.41 7.96l-1.37-1.37c-.4-.4-.92-.59-1.43-.59-.52 0-1.04.2-1.43.59L10.3 9.45l-7.72 7.72c-.78.78-.78 2.05 0 2.83L4 21.41c.39.39.9.59 1.41.59.51 0 1.02-.2 1.41-.59l7.78-7.78 2.81-2.81c.8-.78.8-2.07 0-2.86zM5.41 20L4 18.59l7.72-7.72 1.47 1.35L5.41 20z\"/>\n  </svg>\n      </button>\n      \n  <style>\n    .colab-df-container {\n      display:flex;\n      flex-wrap:wrap;\n      gap: 12px;\n    }\n\n    .colab-df-convert {\n      background-color: #E8F0FE;\n      border: none;\n      border-radius: 50%;\n      cursor: pointer;\n      display: none;\n      fill: #1967D2;\n      height: 32px;\n      padding: 0 0 0 0;\n      width: 32px;\n    }\n\n    .colab-df-convert:hover {\n      background-color: #E2EBFA;\n      box-shadow: 0px 1px 2px rgba(60, 64, 67, 0.3), 0px 1px 3px 1px rgba(60, 64, 67, 0.15);\n      fill: #174EA6;\n    }\n\n    [theme=dark] .colab-df-convert {\n      background-color: #3B4455;\n      fill: #D2E3FC;\n    }\n\n    [theme=dark] .colab-df-convert:hover {\n      background-color: #434B5C;\n      box-shadow: 0px 1px 3px 1px rgba(0, 0, 0, 0.15);\n      filter: drop-shadow(0px 1px 2px rgba(0, 0, 0, 0.3));\n      fill: #FFFFFF;\n    }\n  </style>\n\n      <script>\n        const buttonEl =\n          document.querySelector('#df-75063867-ff96-4b78-91c0-cfaa872e6c0e button.colab-df-convert');\n        buttonEl.style.display =\n          google.colab.kernel.accessAllowed ? 'block' : 'none';\n\n        async function convertToInteractive(key) {\n          const element = document.querySelector('#df-75063867-ff96-4b78-91c0-cfaa872e6c0e');\n          const dataTable =\n            await google.colab.kernel.invokeFunction('convertToInteractive',\n                                                     [key], {});\n          if (!dataTable) return;\n\n          const docLinkHtml = 'Like what you see? Visit the ' +\n            '<a target=\"_blank\" href=https://colab.research.google.com/notebooks/data_table.ipynb>data table notebook</a>'\n            + ' to learn more about interactive tables.';\n          element.innerHTML = '';\n          dataTable['output_type'] = 'display_data';\n          await google.colab.output.renderOutput(dataTable, element);\n          const docLink = document.createElement('div');\n          docLink.innerHTML = docLinkHtml;\n          element.appendChild(docLink);\n        }\n      </script>\n    </div>\n  </div>\n  "
                },
                "metadata": {}
              }
            ]
          }
        },
        "233dcec222a648c0b97f122002184b52": {
          "model_module": "@jupyter-widgets/base",
          "model_name": "LayoutModel",
          "model_module_version": "1.2.0",
          "state": {
            "_model_module": "@jupyter-widgets/base",
            "_model_module_version": "1.2.0",
            "_model_name": "LayoutModel",
            "_view_count": null,
            "_view_module": "@jupyter-widgets/base",
            "_view_module_version": "1.2.0",
            "_view_name": "LayoutView",
            "align_content": null,
            "align_items": null,
            "align_self": null,
            "border": null,
            "bottom": null,
            "display": null,
            "flex": null,
            "flex_flow": null,
            "grid_area": null,
            "grid_auto_columns": null,
            "grid_auto_flow": null,
            "grid_auto_rows": null,
            "grid_column": null,
            "grid_gap": null,
            "grid_row": null,
            "grid_template_areas": null,
            "grid_template_columns": null,
            "grid_template_rows": null,
            "height": null,
            "justify_content": null,
            "justify_items": null,
            "left": null,
            "margin": null,
            "max_height": null,
            "max_width": null,
            "min_height": null,
            "min_width": null,
            "object_fit": null,
            "object_position": null,
            "order": null,
            "overflow": null,
            "overflow_x": null,
            "overflow_y": null,
            "padding": null,
            "right": null,
            "top": null,
            "visibility": null,
            "width": null
          }
        },
        "dc67f411610a4611a5c239562844488c": {
          "model_module": "@jupyter-widgets/base",
          "model_name": "LayoutModel",
          "model_module_version": "1.2.0",
          "state": {
            "_model_module": "@jupyter-widgets/base",
            "_model_module_version": "1.2.0",
            "_model_name": "LayoutModel",
            "_view_count": null,
            "_view_module": "@jupyter-widgets/base",
            "_view_module_version": "1.2.0",
            "_view_name": "LayoutView",
            "align_content": null,
            "align_items": null,
            "align_self": null,
            "border": null,
            "bottom": null,
            "display": null,
            "flex": null,
            "flex_flow": null,
            "grid_area": null,
            "grid_auto_columns": null,
            "grid_auto_flow": null,
            "grid_auto_rows": null,
            "grid_column": null,
            "grid_gap": null,
            "grid_row": null,
            "grid_template_areas": null,
            "grid_template_columns": null,
            "grid_template_rows": null,
            "height": null,
            "justify_content": null,
            "justify_items": null,
            "left": null,
            "margin": null,
            "max_height": null,
            "max_width": null,
            "min_height": null,
            "min_width": null,
            "object_fit": null,
            "object_position": null,
            "order": null,
            "overflow": null,
            "overflow_x": null,
            "overflow_y": null,
            "padding": null,
            "right": null,
            "top": null,
            "visibility": null,
            "width": null
          }
        },
        "fa644fe479774713b6ccf0255d073460": {
          "model_module": "@jupyter-widgets/controls",
          "model_name": "DescriptionStyleModel",
          "model_module_version": "1.5.0",
          "state": {
            "_model_module": "@jupyter-widgets/controls",
            "_model_module_version": "1.5.0",
            "_model_name": "DescriptionStyleModel",
            "_view_count": null,
            "_view_module": "@jupyter-widgets/base",
            "_view_module_version": "1.2.0",
            "_view_name": "StyleView",
            "description_width": ""
          }
        },
        "02d0ea4e719c41a087d8e82b55783ff4": {
          "model_module": "@jupyter-widgets/base",
          "model_name": "LayoutModel",
          "model_module_version": "1.2.0",
          "state": {
            "_model_module": "@jupyter-widgets/base",
            "_model_module_version": "1.2.0",
            "_model_name": "LayoutModel",
            "_view_count": null,
            "_view_module": "@jupyter-widgets/base",
            "_view_module_version": "1.2.0",
            "_view_name": "LayoutView",
            "align_content": null,
            "align_items": null,
            "align_self": null,
            "border": null,
            "bottom": null,
            "display": null,
            "flex": null,
            "flex_flow": null,
            "grid_area": null,
            "grid_auto_columns": null,
            "grid_auto_flow": null,
            "grid_auto_rows": null,
            "grid_column": null,
            "grid_gap": null,
            "grid_row": null,
            "grid_template_areas": null,
            "grid_template_columns": null,
            "grid_template_rows": null,
            "height": null,
            "justify_content": null,
            "justify_items": null,
            "left": null,
            "margin": null,
            "max_height": null,
            "max_width": null,
            "min_height": null,
            "min_width": null,
            "object_fit": null,
            "object_position": null,
            "order": null,
            "overflow": null,
            "overflow_x": null,
            "overflow_y": null,
            "padding": null,
            "right": null,
            "top": null,
            "visibility": null,
            "width": null
          }
        },
        "26d53611a90c4845a0e21e2fdc915e1f": {
          "model_module": "@jupyter-widgets/controls",
          "model_name": "DescriptionStyleModel",
          "model_module_version": "1.5.0",
          "state": {
            "_model_module": "@jupyter-widgets/controls",
            "_model_module_version": "1.5.0",
            "_model_name": "DescriptionStyleModel",
            "_view_count": null,
            "_view_module": "@jupyter-widgets/base",
            "_view_module_version": "1.2.0",
            "_view_name": "StyleView",
            "description_width": ""
          }
        },
        "a74fa116ead14fa88130e03bd0333d93": {
          "model_module": "@jupyter-widgets/base",
          "model_name": "LayoutModel",
          "model_module_version": "1.2.0",
          "state": {
            "_model_module": "@jupyter-widgets/base",
            "_model_module_version": "1.2.0",
            "_model_name": "LayoutModel",
            "_view_count": null,
            "_view_module": "@jupyter-widgets/base",
            "_view_module_version": "1.2.0",
            "_view_name": "LayoutView",
            "align_content": null,
            "align_items": null,
            "align_self": null,
            "border": null,
            "bottom": null,
            "display": null,
            "flex": null,
            "flex_flow": null,
            "grid_area": null,
            "grid_auto_columns": null,
            "grid_auto_flow": null,
            "grid_auto_rows": null,
            "grid_column": null,
            "grid_gap": null,
            "grid_row": null,
            "grid_template_areas": null,
            "grid_template_columns": null,
            "grid_template_rows": null,
            "height": null,
            "justify_content": null,
            "justify_items": null,
            "left": null,
            "margin": null,
            "max_height": null,
            "max_width": null,
            "min_height": null,
            "min_width": null,
            "object_fit": null,
            "object_position": null,
            "order": null,
            "overflow": null,
            "overflow_x": null,
            "overflow_y": null,
            "padding": null,
            "right": null,
            "top": null,
            "visibility": null,
            "width": null
          }
        },
        "3a806320b23a4c489493e919781faede": {
          "model_module": "@jupyter-widgets/controls",
          "model_name": "VBoxModel",
          "model_module_version": "1.5.0",
          "state": {
            "_dom_classes": [
              "widget-interact"
            ],
            "_model_module": "@jupyter-widgets/controls",
            "_model_module_version": "1.5.0",
            "_model_name": "VBoxModel",
            "_view_count": null,
            "_view_module": "@jupyter-widgets/controls",
            "_view_module_version": "1.5.0",
            "_view_name": "VBoxView",
            "box_style": "",
            "children": [
              "IPY_MODEL_30e8aa2ebc184af99720620dd993c7ac",
              "IPY_MODEL_df1d462f6f37494e841ecda22366d966"
            ],
            "layout": "IPY_MODEL_03e8ce19167c4c21b68f993cb376c50b"
          }
        },
        "30e8aa2ebc184af99720620dd993c7ac": {
          "model_module": "@jupyter-widgets/controls",
          "model_name": "DropdownModel",
          "model_module_version": "1.5.0",
          "state": {
            "_dom_classes": [],
            "_model_module": "@jupyter-widgets/controls",
            "_model_module_version": "1.5.0",
            "_model_name": "DropdownModel",
            "_options_labels": [
              "month",
              "weeknum",
              "day",
              "hour"
            ],
            "_view_count": null,
            "_view_module": "@jupyter-widgets/controls",
            "_view_module_version": "1.5.0",
            "_view_name": "DropdownView",
            "description": "Cat",
            "description_tooltip": null,
            "disabled": false,
            "index": 2,
            "layout": "IPY_MODEL_2729c769dccb47289ab1abbae3069c8d",
            "style": "IPY_MODEL_ad6704e3d2a5401d9fe335ff15d5f9cc"
          }
        },
        "df1d462f6f37494e841ecda22366d966": {
          "model_module": "@jupyter-widgets/output",
          "model_name": "OutputModel",
          "model_module_version": "1.0.0",
          "state": {
            "_dom_classes": [],
            "_model_module": "@jupyter-widgets/output",
            "_model_module_version": "1.0.0",
            "_model_name": "OutputModel",
            "_view_count": null,
            "_view_module": "@jupyter-widgets/output",
            "_view_module_version": "1.0.0",
            "_view_name": "OutputView",
            "layout": "IPY_MODEL_514b6c8c71e14c0b8b6ddacf5490e6da",
            "msg_id": "",
            "outputs": [
              {
                "output_type": "display_data",
                "data": {
                  "text/plain": "<Figure size 864x360 with 1 Axes>",
                  "image/png": "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\n"
                },
                "metadata": {}
              }
            ]
          }
        },
        "03e8ce19167c4c21b68f993cb376c50b": {
          "model_module": "@jupyter-widgets/base",
          "model_name": "LayoutModel",
          "model_module_version": "1.2.0",
          "state": {
            "_model_module": "@jupyter-widgets/base",
            "_model_module_version": "1.2.0",
            "_model_name": "LayoutModel",
            "_view_count": null,
            "_view_module": "@jupyter-widgets/base",
            "_view_module_version": "1.2.0",
            "_view_name": "LayoutView",
            "align_content": null,
            "align_items": null,
            "align_self": null,
            "border": null,
            "bottom": null,
            "display": null,
            "flex": null,
            "flex_flow": null,
            "grid_area": null,
            "grid_auto_columns": null,
            "grid_auto_flow": null,
            "grid_auto_rows": null,
            "grid_column": null,
            "grid_gap": null,
            "grid_row": null,
            "grid_template_areas": null,
            "grid_template_columns": null,
            "grid_template_rows": null,
            "height": null,
            "justify_content": null,
            "justify_items": null,
            "left": null,
            "margin": null,
            "max_height": null,
            "max_width": null,
            "min_height": null,
            "min_width": null,
            "object_fit": null,
            "object_position": null,
            "order": null,
            "overflow": null,
            "overflow_x": null,
            "overflow_y": null,
            "padding": null,
            "right": null,
            "top": null,
            "visibility": null,
            "width": null
          }
        },
        "2729c769dccb47289ab1abbae3069c8d": {
          "model_module": "@jupyter-widgets/base",
          "model_name": "LayoutModel",
          "model_module_version": "1.2.0",
          "state": {
            "_model_module": "@jupyter-widgets/base",
            "_model_module_version": "1.2.0",
            "_model_name": "LayoutModel",
            "_view_count": null,
            "_view_module": "@jupyter-widgets/base",
            "_view_module_version": "1.2.0",
            "_view_name": "LayoutView",
            "align_content": null,
            "align_items": null,
            "align_self": null,
            "border": null,
            "bottom": null,
            "display": null,
            "flex": null,
            "flex_flow": null,
            "grid_area": null,
            "grid_auto_columns": null,
            "grid_auto_flow": null,
            "grid_auto_rows": null,
            "grid_column": null,
            "grid_gap": null,
            "grid_row": null,
            "grid_template_areas": null,
            "grid_template_columns": null,
            "grid_template_rows": null,
            "height": null,
            "justify_content": null,
            "justify_items": null,
            "left": null,
            "margin": null,
            "max_height": null,
            "max_width": null,
            "min_height": null,
            "min_width": null,
            "object_fit": null,
            "object_position": null,
            "order": null,
            "overflow": null,
            "overflow_x": null,
            "overflow_y": null,
            "padding": null,
            "right": null,
            "top": null,
            "visibility": null,
            "width": null
          }
        },
        "ad6704e3d2a5401d9fe335ff15d5f9cc": {
          "model_module": "@jupyter-widgets/controls",
          "model_name": "DescriptionStyleModel",
          "model_module_version": "1.5.0",
          "state": {
            "_model_module": "@jupyter-widgets/controls",
            "_model_module_version": "1.5.0",
            "_model_name": "DescriptionStyleModel",
            "_view_count": null,
            "_view_module": "@jupyter-widgets/base",
            "_view_module_version": "1.2.0",
            "_view_name": "StyleView",
            "description_width": ""
          }
        },
        "514b6c8c71e14c0b8b6ddacf5490e6da": {
          "model_module": "@jupyter-widgets/base",
          "model_name": "LayoutModel",
          "model_module_version": "1.2.0",
          "state": {
            "_model_module": "@jupyter-widgets/base",
            "_model_module_version": "1.2.0",
            "_model_name": "LayoutModel",
            "_view_count": null,
            "_view_module": "@jupyter-widgets/base",
            "_view_module_version": "1.2.0",
            "_view_name": "LayoutView",
            "align_content": null,
            "align_items": null,
            "align_self": null,
            "border": null,
            "bottom": null,
            "display": null,
            "flex": null,
            "flex_flow": null,
            "grid_area": null,
            "grid_auto_columns": null,
            "grid_auto_flow": null,
            "grid_auto_rows": null,
            "grid_column": null,
            "grid_gap": null,
            "grid_row": null,
            "grid_template_areas": null,
            "grid_template_columns": null,
            "grid_template_rows": null,
            "height": null,
            "justify_content": null,
            "justify_items": null,
            "left": null,
            "margin": null,
            "max_height": null,
            "max_width": null,
            "min_height": null,
            "min_width": null,
            "object_fit": null,
            "object_position": null,
            "order": null,
            "overflow": null,
            "overflow_x": null,
            "overflow_y": null,
            "padding": null,
            "right": null,
            "top": null,
            "visibility": null,
            "width": null
          }
        }
      }
    }
  },
  "cells": [
    {
      "cell_type": "markdown",
      "metadata": {
        "id": "view-in-github",
        "colab_type": "text"
      },
      "source": [
        "<a href=\"https://colab.research.google.com/github/gabrielborja/python_data_analysis/blob/main/food_habits_analytics.ipynb\" target=\"_parent\"><img src=\"https://colab.research.google.com/assets/colab-badge.svg\" alt=\"Open In Colab\"/></a>"
      ]
    },
    {
      "cell_type": "markdown",
      "metadata": {
        "id": "eTZwpRZNRhGY"
      },
      "source": [
        "# Food habits analytics"
      ]
    },
    {
      "cell_type": "markdown",
      "metadata": {
        "id": "sgzkv1LwjLIL"
      },
      "source": [
        "## Uploading packages and data"
      ]
    },
    {
      "cell_type": "code",
      "metadata": {
        "id": "QTRtRZcb-IyF"
      },
      "source": [
        "#Importing necessary packages\n",
        "import numpy as np\n",
        "import pandas as pd"
      ],
      "execution_count": null,
      "outputs": []
    },
    {
      "cell_type": "code",
      "metadata": {
        "id": "oen97ED1-rh-"
      },
      "source": [
        "#Uploading google sheet data from drive\n",
        "from google.colab import auth\n",
        "auth.authenticate_user()\n",
        "\n",
        "import gspread\n",
        "from google.auth import default\n",
        "creds, _ = default()\n",
        "\n",
        "gc = gspread.authorize(creds)\n",
        "\n",
        "#Loading dataset from google sheet\n",
        "wb1 = gc.open('food_habits')\n",
        "ws1_data = wb1.sheet1\n",
        "records_1 = ws1_data.get_all_records()\n",
        "\n",
        "# Converting to a Pandas DataFrame\n",
        "df1 = pd.DataFrame.from_records(records_1)\n",
        "df1.tail(3)"
      ],
      "execution_count": null,
      "outputs": []
    },
    {
      "cell_type": "code",
      "metadata": {
        "id": "-_RIDGJurxGe"
      },
      "source": [
        "#Checking the dataframe info\n",
        "df1.info()"
      ],
      "execution_count": null,
      "outputs": []
    },
    {
      "cell_type": "markdown",
      "metadata": {
        "id": "XcMODXQNx0mo"
      },
      "source": [
        "##Data Manipulation"
      ]
    },
    {
      "cell_type": "code",
      "source": [
        "#Converting date columns to datetime objects\n",
        "df1['event'] = pd.to_datetime(df1['event'], format='%Y-%m-%d %H:%M:%S')"
      ],
      "metadata": {
        "id": "W9HncnVSUS53"
      },
      "execution_count": null,
      "outputs": []
    },
    {
      "cell_type": "code",
      "metadata": {
        "id": "p7o3rUk18tXB"
      },
      "source": [
        "#Extracting year, month, day of the week, hour and count of ingredients\n",
        "df1 = df1.assign(year = df1['event'].dt.year,\n",
        "                 month = df1['event'].dt.month,\n",
        "                 day = df1['event'].dt.dayofweek,\n",
        "                 hour = df1['event'].dt.hour,\n",
        "                 ing_count = [len(i.split(', ')) for i in df1['food']])\n",
        "df1.tail(3)"
      ],
      "execution_count": null,
      "outputs": []
    },
    {
      "cell_type": "code",
      "metadata": {
        "id": "g_-OoEbO-ciL"
      },
      "source": [
        "#Filtering the dataframe and assigning categories for 2021 where stomach ache appeared\n",
        "df1_2021 = df1[(df1['year']==2021) & (df1['ache']==1)].reset_index(drop=True)\n",
        "df1_2021 = df1_2021.assign(cat = np.select(condlist=[(df1_2021['month']<6), ((df1_2021['month']>=6) & (df1_2021['month']<10)), (df1_2021['month']==10),\n",
        "                                                    (df1_2021['month']>=11)], choicelist=['milk_diet', 'lactose_free', 'rotavirus', 'post_virus']))\n",
        "df1_2021.tail(2)"
      ],
      "execution_count": null,
      "outputs": []
    },
    {
      "cell_type": "code",
      "metadata": {
        "id": "-fpQS71tjgif"
      },
      "source": [
        "#Calculating range of days between events and converting to int (days)\n",
        "df1_2021 = df1_2021.assign(event_2 = df1_2021['event'].shift(fill_value=np.nan))\n",
        "df1_2021 = df1_2021.assign(num_of_days = (df1_2021['event'] - df1_2021['event_2']))\n",
        "df1_2021 = df1_2021.assign(num_of_days = df1_2021['num_of_days'].replace(np.nan, 0))\n",
        "df1_2021 = df1_2021.assign(num_of_days = (df1_2021['num_of_days'].astype(int))/8.64e+13) #==> Converting from ns to days\n",
        "df1_2021.tail(3)"
      ],
      "execution_count": null,
      "outputs": []
    },
    {
      "cell_type": "code",
      "source": [
        "#Calculating porcentage of change between stomach ache events\n",
        "df1_2021 = df1_2021.assign(pct_days = df1_2021['num_of_days'].pct_change())\n",
        "df1_2021 = df1_2021.assign(pct_days = df1_2021['pct_days'].replace(np.nan, 0))"
      ],
      "metadata": {
        "id": "ojwL5uucfSI_"
      },
      "execution_count": null,
      "outputs": []
    },
    {
      "cell_type": "code",
      "source": [
        "#Replacing int days for name days\n",
        "days_dict = {0: 'Mon', 1:'Tue', 2:'Wed', 3:'Thu', 4:'Fri', 5:'Sat', 6:'Sun'}\n",
        "df1_2021['day'] = df1_2021['day'].replace(to_replace=days_dict)"
      ],
      "metadata": {
        "id": "HFzT0SHLX0YD"
      },
      "execution_count": null,
      "outputs": []
    },
    {
      "cell_type": "code",
      "source": [
        "#Counting the proportion of stomach aches by the day of the week\n",
        "df1_2021['day'].value_counts(normalize=True)"
      ],
      "metadata": {
        "id": "OnLaMdxxZANN"
      },
      "execution_count": null,
      "outputs": []
    },
    {
      "cell_type": "code",
      "source": [
        "#Counting the proportion of stomach aches by hour of the day\n",
        "df1_2021['hour'].value_counts(normalize=True)"
      ],
      "metadata": {
        "id": "lB4XswxyaEdF"
      },
      "execution_count": null,
      "outputs": []
    },
    {
      "cell_type": "code",
      "metadata": {
        "id": "iYhftSvvGwyp"
      },
      "source": [
        "#Transforming aching meals into list\n",
        "ache_1 = df1[df1['ache']==1]['food'].str.cat(sep=', ').split(\", \")\n",
        "ache_1[:5]"
      ],
      "execution_count": null,
      "outputs": []
    },
    {
      "cell_type": "code",
      "metadata": {
        "id": "pQPl8o8fGwyr"
      },
      "source": [
        "#Building a dictionary of occurrences for each food\n",
        "import collections\n",
        "ache_occurrences = collections.Counter(ache_1)\n",
        "ache_occurrences.get('bread')"
      ],
      "execution_count": null,
      "outputs": []
    },
    {
      "cell_type": "code",
      "metadata": {
        "id": "5CrC7gi2Gwyr"
      },
      "source": [
        "#Transforming list of aching meals into series\n",
        "ache_meal_1 = pd.Series(data=ache_1)\n",
        "ache_meal_1.tail()"
      ],
      "execution_count": null,
      "outputs": []
    },
    {
      "cell_type": "code",
      "metadata": {
        "id": "qYDTaA_KGwys"
      },
      "source": [
        "#Counting top foods in diet\n",
        "ache_meal_1 = ache_meal_1.value_counts().reset_index(name='count').rename(columns={'index':'food'})\n",
        "ache_meal_1.head()"
      ],
      "execution_count": null,
      "outputs": []
    },
    {
      "cell_type": "code",
      "metadata": {
        "id": "InUi_lSAO7my"
      },
      "source": [
        "#Exporting to excel into local disk\n",
        "#from google.colab import files\n",
        "#ache_meal_1.to_excel('food_count.xlsx', index=False) #==> Excluding index from file\n",
        "#files.download('food_count.xlsx')"
      ],
      "execution_count": null,
      "outputs": []
    },
    {
      "cell_type": "markdown",
      "metadata": {
        "id": "HPqfPQd9D3B0"
      },
      "source": [
        "##Data Visualization"
      ]
    },
    {
      "cell_type": "code",
      "metadata": {
        "id": "7FRgED7uPOe1"
      },
      "source": [
        "#Importing visualization libraries\n",
        "import matplotlib.pyplot as plt\n",
        "import seaborn as sns"
      ],
      "execution_count": null,
      "outputs": []
    },
    {
      "cell_type": "code",
      "metadata": {
        "id": "2vYQmrcP7r-i"
      },
      "source": [
        "#Customizing data visualization styles\n",
        "sns.set_theme(rc = {'figure.figsize': (10, 4)})"
      ],
      "execution_count": null,
      "outputs": []
    },
    {
      "cell_type": "code",
      "metadata": {
        "id": "WjMDpMNPJBqg"
      },
      "source": [
        "#Plotting the top 10 ingredients in diet\n",
        "sns.barplot(x='food', y='count', data=ache_meal_1[:10])\n",
        "plt.title('Top 10 ingredients in diet in 2021')\n",
        "plt.show()"
      ],
      "execution_count": null,
      "outputs": []
    },
    {
      "cell_type": "code",
      "metadata": {
        "id": "aBwgQtXi57h6"
      },
      "source": [
        "#Plotting the number of stomach ache by day of the week\n",
        "sns.countplot(x='day', data=df1_2021, order=['Mon', 'Tue', 'Wed', 'Thu', 'Fri', 'Sat', 'Sun'])\n",
        "plt.title('Count of stomach ache by day of the week in 2021')\n",
        "plt.show()"
      ],
      "execution_count": null,
      "outputs": []
    },
    {
      "cell_type": "code",
      "metadata": {
        "id": "07B1DjGf7Yyt"
      },
      "source": [
        "#Plotting the number of stomach ache by month\n",
        "sns.countplot(x='month', data=df1_2021, hue='cat')\n",
        "plt.title('Count of stomach ache by month in 2021')\n",
        "plt.show()"
      ],
      "execution_count": null,
      "outputs": []
    },
    {
      "cell_type": "code",
      "source": [
        "#Plotting the spread of stomache ache by hour of the day\n",
        "sns.scatterplot(x='event', y='hour', data=df1_2021, hue='cat')\n",
        "plt.title('Stomach Ache by hour of the day in 2021')\n",
        "plt.show()"
      ],
      "metadata": {
        "id": "D6VLrsiwhmoN"
      },
      "execution_count": null,
      "outputs": []
    },
    {
      "cell_type": "markdown",
      "source": [
        "###Variability graphs"
      ],
      "metadata": {
        "id": "mkSHtrOrhKzg"
      }
    },
    {
      "cell_type": "code",
      "metadata": {
        "id": "vYPranzDDkpc"
      },
      "source": [
        "#Plotting the boxplot of days between stomach ache\n",
        "sns.boxplot(x='num_of_days', y='cat', data=df1_2021, hue='cat')\n",
        "plt.title('Days without stomach ache - Before and after first diagnose in 2021')\n",
        "plt.show()"
      ],
      "execution_count": null,
      "outputs": []
    },
    {
      "cell_type": "code",
      "metadata": {
        "id": "eN4JXt6LhFgs"
      },
      "source": [
        "#Plotting the boxplot of number of ingredients present in diet\n",
        "sns.boxplot(x='ing_count', y='cat', data=df1_2021, hue='cat')\n",
        "plt.title('Number of ingredients in diet - Before and after first diagnose in 2021')\n",
        "plt.show()"
      ],
      "execution_count": null,
      "outputs": []
    },
    {
      "cell_type": "code",
      "metadata": {
        "id": "_gzKRMsMqCmT"
      },
      "source": [
        "#Plotting the histogram of hours for stomach ache\n",
        "sns.histplot(x='hour', data=df1_2021, hue='cat')\n",
        "plt.title('Most common hours for stomach ache - 2021')\n",
        "plt.show()"
      ],
      "execution_count": null,
      "outputs": []
    },
    {
      "cell_type": "markdown",
      "metadata": {
        "id": "IszVO9hyPzR1"
      },
      "source": [
        "# Facilities analytics"
      ]
    },
    {
      "cell_type": "markdown",
      "metadata": {
        "id": "PEMXM4PiPzR2"
      },
      "source": [
        "## Uploading packages and data"
      ]
    },
    {
      "cell_type": "code",
      "metadata": {
        "id": "3H7UfVocPzR2"
      },
      "source": [
        "# Importing necessary packages\n",
        "import numpy as np\n",
        "import pandas as pd\n",
        "import matplotlib.pyplot as plt\n",
        "import seaborn as sns\n",
        "from ipywidgets import interact"
      ],
      "execution_count": 1,
      "outputs": []
    },
    {
      "cell_type": "code",
      "source": [
        "# Setting the plot size\n",
        "sns.set(rc = {'figure.figsize': (12, 5)})"
      ],
      "metadata": {
        "id": "mj7X-CmjVtxy"
      },
      "execution_count": 2,
      "outputs": []
    },
    {
      "cell_type": "code",
      "metadata": {
        "id": "RdNygs0TPzR2",
        "colab": {
          "base_uri": "https://localhost:8080/",
          "height": 80
        },
        "outputId": "a0803118-d129-4fcb-fa0e-329415577a0d"
      },
      "source": [
        "# Uploading google sheet data from drive\n",
        "from google.colab import auth\n",
        "auth.authenticate_user()\n",
        "\n",
        "import gspread\n",
        "from google.auth import default\n",
        "creds, _ = default()\n",
        "\n",
        "gc2 = gspread.authorize(creds)\n",
        "\n",
        "# Loading dataset from google sheet\n",
        "wb2 = gc2.open('facilities_data')\n",
        "ws2_data = wb2.sheet1\n",
        "records_2 = ws2_data.get_all_records()\n",
        "\n",
        "# Converting to a Pandas DataFrame\n",
        "df2 = pd.DataFrame.from_records(records_2)\n",
        "df2.tail(1)"
      ],
      "execution_count": 8,
      "outputs": [
        {
          "output_type": "execute_result",
          "data": {
            "text/plain": [
              "                   event  count  large  unload float cause\n",
              "696  2023-01-28 11:10:00      1      0       0     0      "
            ],
            "text/html": [
              "\n",
              "  <div id=\"df-36ec75dd-7953-49e6-88bd-f0375684d60c\">\n",
              "    <div class=\"colab-df-container\">\n",
              "      <div>\n",
              "<style scoped>\n",
              "    .dataframe tbody tr th:only-of-type {\n",
              "        vertical-align: middle;\n",
              "    }\n",
              "\n",
              "    .dataframe tbody tr th {\n",
              "        vertical-align: top;\n",
              "    }\n",
              "\n",
              "    .dataframe thead th {\n",
              "        text-align: right;\n",
              "    }\n",
              "</style>\n",
              "<table border=\"1\" class=\"dataframe\">\n",
              "  <thead>\n",
              "    <tr style=\"text-align: right;\">\n",
              "      <th></th>\n",
              "      <th>event</th>\n",
              "      <th>count</th>\n",
              "      <th>large</th>\n",
              "      <th>unload</th>\n",
              "      <th>float</th>\n",
              "      <th>cause</th>\n",
              "    </tr>\n",
              "  </thead>\n",
              "  <tbody>\n",
              "    <tr>\n",
              "      <th>696</th>\n",
              "      <td>2023-01-28 11:10:00</td>\n",
              "      <td>1</td>\n",
              "      <td>0</td>\n",
              "      <td>0</td>\n",
              "      <td>0</td>\n",
              "      <td></td>\n",
              "    </tr>\n",
              "  </tbody>\n",
              "</table>\n",
              "</div>\n",
              "      <button class=\"colab-df-convert\" onclick=\"convertToInteractive('df-36ec75dd-7953-49e6-88bd-f0375684d60c')\"\n",
              "              title=\"Convert this dataframe to an interactive table.\"\n",
              "              style=\"display:none;\">\n",
              "        \n",
              "  <svg xmlns=\"http://www.w3.org/2000/svg\" height=\"24px\"viewBox=\"0 0 24 24\"\n",
              "       width=\"24px\">\n",
              "    <path d=\"M0 0h24v24H0V0z\" fill=\"none\"/>\n",
              "    <path d=\"M18.56 5.44l.94 2.06.94-2.06 2.06-.94-2.06-.94-.94-2.06-.94 2.06-2.06.94zm-11 1L8.5 8.5l.94-2.06 2.06-.94-2.06-.94L8.5 2.5l-.94 2.06-2.06.94zm10 10l.94 2.06.94-2.06 2.06-.94-2.06-.94-.94-2.06-.94 2.06-2.06.94z\"/><path d=\"M17.41 7.96l-1.37-1.37c-.4-.4-.92-.59-1.43-.59-.52 0-1.04.2-1.43.59L10.3 9.45l-7.72 7.72c-.78.78-.78 2.05 0 2.83L4 21.41c.39.39.9.59 1.41.59.51 0 1.02-.2 1.41-.59l7.78-7.78 2.81-2.81c.8-.78.8-2.07 0-2.86zM5.41 20L4 18.59l7.72-7.72 1.47 1.35L5.41 20z\"/>\n",
              "  </svg>\n",
              "      </button>\n",
              "      \n",
              "  <style>\n",
              "    .colab-df-container {\n",
              "      display:flex;\n",
              "      flex-wrap:wrap;\n",
              "      gap: 12px;\n",
              "    }\n",
              "\n",
              "    .colab-df-convert {\n",
              "      background-color: #E8F0FE;\n",
              "      border: none;\n",
              "      border-radius: 50%;\n",
              "      cursor: pointer;\n",
              "      display: none;\n",
              "      fill: #1967D2;\n",
              "      height: 32px;\n",
              "      padding: 0 0 0 0;\n",
              "      width: 32px;\n",
              "    }\n",
              "\n",
              "    .colab-df-convert:hover {\n",
              "      background-color: #E2EBFA;\n",
              "      box-shadow: 0px 1px 2px rgba(60, 64, 67, 0.3), 0px 1px 3px 1px rgba(60, 64, 67, 0.15);\n",
              "      fill: #174EA6;\n",
              "    }\n",
              "\n",
              "    [theme=dark] .colab-df-convert {\n",
              "      background-color: #3B4455;\n",
              "      fill: #D2E3FC;\n",
              "    }\n",
              "\n",
              "    [theme=dark] .colab-df-convert:hover {\n",
              "      background-color: #434B5C;\n",
              "      box-shadow: 0px 1px 3px 1px rgba(0, 0, 0, 0.15);\n",
              "      filter: drop-shadow(0px 1px 2px rgba(0, 0, 0, 0.3));\n",
              "      fill: #FFFFFF;\n",
              "    }\n",
              "  </style>\n",
              "\n",
              "      <script>\n",
              "        const buttonEl =\n",
              "          document.querySelector('#df-36ec75dd-7953-49e6-88bd-f0375684d60c button.colab-df-convert');\n",
              "        buttonEl.style.display =\n",
              "          google.colab.kernel.accessAllowed ? 'block' : 'none';\n",
              "\n",
              "        async function convertToInteractive(key) {\n",
              "          const element = document.querySelector('#df-36ec75dd-7953-49e6-88bd-f0375684d60c');\n",
              "          const dataTable =\n",
              "            await google.colab.kernel.invokeFunction('convertToInteractive',\n",
              "                                                     [key], {});\n",
              "          if (!dataTable) return;\n",
              "\n",
              "          const docLinkHtml = 'Like what you see? Visit the ' +\n",
              "            '<a target=\"_blank\" href=https://colab.research.google.com/notebooks/data_table.ipynb>data table notebook</a>'\n",
              "            + ' to learn more about interactive tables.';\n",
              "          element.innerHTML = '';\n",
              "          dataTable['output_type'] = 'display_data';\n",
              "          await google.colab.output.renderOutput(dataTable, element);\n",
              "          const docLink = document.createElement('div');\n",
              "          docLink.innerHTML = docLinkHtml;\n",
              "          element.appendChild(docLink);\n",
              "        }\n",
              "      </script>\n",
              "    </div>\n",
              "  </div>\n",
              "  "
            ]
          },
          "metadata": {},
          "execution_count": 8
        }
      ]
    },
    {
      "cell_type": "code",
      "metadata": {
        "id": "SXJtKtKqPzR3",
        "colab": {
          "base_uri": "https://localhost:8080/"
        },
        "outputId": "f29ee070-579a-433d-9b5e-a1b74cd76f16"
      },
      "source": [
        "# Checking the dataframe info\n",
        "df2.info()"
      ],
      "execution_count": 9,
      "outputs": [
        {
          "output_type": "stream",
          "name": "stdout",
          "text": [
            "<class 'pandas.core.frame.DataFrame'>\n",
            "RangeIndex: 697 entries, 0 to 696\n",
            "Data columns (total 6 columns):\n",
            " #   Column  Non-Null Count  Dtype \n",
            "---  ------  --------------  ----- \n",
            " 0   event   697 non-null    object\n",
            " 1   count   697 non-null    int64 \n",
            " 2   large   697 non-null    int64 \n",
            " 3   unload  697 non-null    int64 \n",
            " 4   float   697 non-null    object\n",
            " 5   cause   697 non-null    object\n",
            "dtypes: int64(3), object(3)\n",
            "memory usage: 32.8+ KB\n"
          ]
        }
      ]
    },
    {
      "cell_type": "markdown",
      "metadata": {
        "id": "broLyp7xPzR4"
      },
      "source": [
        "##Data Manipulation"
      ]
    },
    {
      "cell_type": "code",
      "source": [
        "# Converting date columns to datetime objects\n",
        "df2['event'] = pd.to_datetime(df2['event'], format='%Y-%m-%d %H:%M:%S')"
      ],
      "metadata": {
        "id": "RhKDH4h3PzR4"
      },
      "execution_count": 10,
      "outputs": []
    },
    {
      "cell_type": "code",
      "metadata": {
        "id": "9_j0jCO_PzR5"
      },
      "source": [
        "# Extracting year, month, day of the week, hour and date categories\n",
        "df2 = df2.assign(year = df2['event'].dt.year,\n",
        "                 month = df2['event'].dt.month,\n",
        "                 weeknum = df2['event'].dt.isocalendar().week,\n",
        "                 day = df2['event'].dt.day_name(),\n",
        "                 hour = df2['event'].dt.hour,\n",
        "                 date = df2['event'].dt.round('D')) #=> Gets rid of hour-min-sec"
      ],
      "execution_count": 11,
      "outputs": []
    },
    {
      "cell_type": "code",
      "source": [
        "# Extracting cumulative count category\n",
        "df2 = df2.assign(cum_count = df2['count'].cumsum())\n",
        "df2.tail(1)"
      ],
      "metadata": {
        "id": "Ke5f3_EuxkS-",
        "colab": {
          "base_uri": "https://localhost:8080/",
          "height": 80
        },
        "outputId": "0a65267d-1138-4c17-9ba6-0177c24b5c14"
      },
      "execution_count": 12,
      "outputs": [
        {
          "output_type": "execute_result",
          "data": {
            "text/plain": [
              "                  event  count  large  unload float cause  year  month  \\\n",
              "696 2023-01-28 11:10:00      1      0       0     0        2023      1   \n",
              "\n",
              "     weeknum       day  hour       date  cum_count  \n",
              "696        4  Saturday    11 2023-01-28        675  "
            ],
            "text/html": [
              "\n",
              "  <div id=\"df-93883ec3-895f-4f06-9a44-6a84d1b24387\">\n",
              "    <div class=\"colab-df-container\">\n",
              "      <div>\n",
              "<style scoped>\n",
              "    .dataframe tbody tr th:only-of-type {\n",
              "        vertical-align: middle;\n",
              "    }\n",
              "\n",
              "    .dataframe tbody tr th {\n",
              "        vertical-align: top;\n",
              "    }\n",
              "\n",
              "    .dataframe thead th {\n",
              "        text-align: right;\n",
              "    }\n",
              "</style>\n",
              "<table border=\"1\" class=\"dataframe\">\n",
              "  <thead>\n",
              "    <tr style=\"text-align: right;\">\n",
              "      <th></th>\n",
              "      <th>event</th>\n",
              "      <th>count</th>\n",
              "      <th>large</th>\n",
              "      <th>unload</th>\n",
              "      <th>float</th>\n",
              "      <th>cause</th>\n",
              "      <th>year</th>\n",
              "      <th>month</th>\n",
              "      <th>weeknum</th>\n",
              "      <th>day</th>\n",
              "      <th>hour</th>\n",
              "      <th>date</th>\n",
              "      <th>cum_count</th>\n",
              "    </tr>\n",
              "  </thead>\n",
              "  <tbody>\n",
              "    <tr>\n",
              "      <th>696</th>\n",
              "      <td>2023-01-28 11:10:00</td>\n",
              "      <td>1</td>\n",
              "      <td>0</td>\n",
              "      <td>0</td>\n",
              "      <td>0</td>\n",
              "      <td></td>\n",
              "      <td>2023</td>\n",
              "      <td>1</td>\n",
              "      <td>4</td>\n",
              "      <td>Saturday</td>\n",
              "      <td>11</td>\n",
              "      <td>2023-01-28</td>\n",
              "      <td>675</td>\n",
              "    </tr>\n",
              "  </tbody>\n",
              "</table>\n",
              "</div>\n",
              "      <button class=\"colab-df-convert\" onclick=\"convertToInteractive('df-93883ec3-895f-4f06-9a44-6a84d1b24387')\"\n",
              "              title=\"Convert this dataframe to an interactive table.\"\n",
              "              style=\"display:none;\">\n",
              "        \n",
              "  <svg xmlns=\"http://www.w3.org/2000/svg\" height=\"24px\"viewBox=\"0 0 24 24\"\n",
              "       width=\"24px\">\n",
              "    <path d=\"M0 0h24v24H0V0z\" fill=\"none\"/>\n",
              "    <path d=\"M18.56 5.44l.94 2.06.94-2.06 2.06-.94-2.06-.94-.94-2.06-.94 2.06-2.06.94zm-11 1L8.5 8.5l.94-2.06 2.06-.94-2.06-.94L8.5 2.5l-.94 2.06-2.06.94zm10 10l.94 2.06.94-2.06 2.06-.94-2.06-.94-.94-2.06-.94 2.06-2.06.94z\"/><path d=\"M17.41 7.96l-1.37-1.37c-.4-.4-.92-.59-1.43-.59-.52 0-1.04.2-1.43.59L10.3 9.45l-7.72 7.72c-.78.78-.78 2.05 0 2.83L4 21.41c.39.39.9.59 1.41.59.51 0 1.02-.2 1.41-.59l7.78-7.78 2.81-2.81c.8-.78.8-2.07 0-2.86zM5.41 20L4 18.59l7.72-7.72 1.47 1.35L5.41 20z\"/>\n",
              "  </svg>\n",
              "      </button>\n",
              "      \n",
              "  <style>\n",
              "    .colab-df-container {\n",
              "      display:flex;\n",
              "      flex-wrap:wrap;\n",
              "      gap: 12px;\n",
              "    }\n",
              "\n",
              "    .colab-df-convert {\n",
              "      background-color: #E8F0FE;\n",
              "      border: none;\n",
              "      border-radius: 50%;\n",
              "      cursor: pointer;\n",
              "      display: none;\n",
              "      fill: #1967D2;\n",
              "      height: 32px;\n",
              "      padding: 0 0 0 0;\n",
              "      width: 32px;\n",
              "    }\n",
              "\n",
              "    .colab-df-convert:hover {\n",
              "      background-color: #E2EBFA;\n",
              "      box-shadow: 0px 1px 2px rgba(60, 64, 67, 0.3), 0px 1px 3px 1px rgba(60, 64, 67, 0.15);\n",
              "      fill: #174EA6;\n",
              "    }\n",
              "\n",
              "    [theme=dark] .colab-df-convert {\n",
              "      background-color: #3B4455;\n",
              "      fill: #D2E3FC;\n",
              "    }\n",
              "\n",
              "    [theme=dark] .colab-df-convert:hover {\n",
              "      background-color: #434B5C;\n",
              "      box-shadow: 0px 1px 3px 1px rgba(0, 0, 0, 0.15);\n",
              "      filter: drop-shadow(0px 1px 2px rgba(0, 0, 0, 0.3));\n",
              "      fill: #FFFFFF;\n",
              "    }\n",
              "  </style>\n",
              "\n",
              "      <script>\n",
              "        const buttonEl =\n",
              "          document.querySelector('#df-93883ec3-895f-4f06-9a44-6a84d1b24387 button.colab-df-convert');\n",
              "        buttonEl.style.display =\n",
              "          google.colab.kernel.accessAllowed ? 'block' : 'none';\n",
              "\n",
              "        async function convertToInteractive(key) {\n",
              "          const element = document.querySelector('#df-93883ec3-895f-4f06-9a44-6a84d1b24387');\n",
              "          const dataTable =\n",
              "            await google.colab.kernel.invokeFunction('convertToInteractive',\n",
              "                                                     [key], {});\n",
              "          if (!dataTable) return;\n",
              "\n",
              "          const docLinkHtml = 'Like what you see? Visit the ' +\n",
              "            '<a target=\"_blank\" href=https://colab.research.google.com/notebooks/data_table.ipynb>data table notebook</a>'\n",
              "            + ' to learn more about interactive tables.';\n",
              "          element.innerHTML = '';\n",
              "          dataTable['output_type'] = 'display_data';\n",
              "          await google.colab.output.renderOutput(dataTable, element);\n",
              "          const docLink = document.createElement('div');\n",
              "          docLink.innerHTML = docLinkHtml;\n",
              "          element.appendChild(docLink);\n",
              "        }\n",
              "      </script>\n",
              "    </div>\n",
              "  </div>\n",
              "  "
            ]
          },
          "metadata": {},
          "execution_count": 12
        }
      ]
    },
    {
      "cell_type": "markdown",
      "source": [
        "## Facilities EDA "
      ],
      "metadata": {
        "id": "ngA1ZC6aSCy9"
      }
    },
    {
      "cell_type": "code",
      "source": [
        "# EDA using interact\n",
        "col_list = ['month', 'weeknum', 'day', 'hour']\n",
        "unload_list = [0, 1]\n",
        "@interact(Cat = col_list, Unload = unload_list)\n",
        "def proportion(Cat, Unload):\n",
        "  return df2[(df2['count']!=0) & (df2['unload']==Unload)].value_counts(subset=Cat, normalize=True, dropna=False).reset_index(name='proportion')"
      ],
      "metadata": {
        "id": "dwVaZj2QSF6m",
        "colab": {
          "base_uri": "https://localhost:8080/",
          "height": 333,
          "referenced_widgets": [
            "8b39ae67bd5146bab861e69477eb2452",
            "6a66bf063c134181b35a16c8504da527",
            "2603d2622c80458f964792c358a92192",
            "d7f999ba77e74e108b7003f7e21cfafd",
            "233dcec222a648c0b97f122002184b52",
            "dc67f411610a4611a5c239562844488c",
            "fa644fe479774713b6ccf0255d073460",
            "02d0ea4e719c41a087d8e82b55783ff4",
            "26d53611a90c4845a0e21e2fdc915e1f",
            "a74fa116ead14fa88130e03bd0333d93"
          ]
        },
        "outputId": "1210201b-5b7b-4a43-ee20-3506b266736e"
      },
      "execution_count": 13,
      "outputs": [
        {
          "output_type": "display_data",
          "data": {
            "text/plain": [
              "interactive(children=(Dropdown(description='Cat', options=('month', 'weeknum', 'day', 'hour'), value='month'),…"
            ],
            "application/vnd.jupyter.widget-view+json": {
              "version_major": 2,
              "version_minor": 0,
              "model_id": "8b39ae67bd5146bab861e69477eb2452"
            }
          },
          "metadata": {}
        }
      ]
    },
    {
      "cell_type": "markdown",
      "source": [
        "## Data Visualization"
      ],
      "metadata": {
        "id": "BSc8iNl5X_2z"
      }
    },
    {
      "cell_type": "code",
      "source": [
        "# Scatterplot of facilitites data\n",
        "sns.scatterplot(x='event', y='cum_count', data=df2[df2['unload']==0])\n",
        "sns.scatterplot(x='event', y='cum_count', data=df2[df2['unload']==1], style='unload', markers='X', s=150, legend=False)\n",
        "plt.title('Cumulative Count of events over time')\n",
        "plt.show()"
      ],
      "metadata": {
        "id": "rzE9prk2U6RT",
        "colab": {
          "base_uri": "https://localhost:8080/",
          "height": 355
        },
        "outputId": "44726168-ff5d-495b-b591-1c1aa585bed0"
      },
      "execution_count": 15,
      "outputs": [
        {
          "output_type": "display_data",
          "data": {
            "text/plain": [
              "<Figure size 864x360 with 1 Axes>"
            ],
            "image/png": "[encoded data removed]"
          },
          "metadata": {}
        }
      ]
    },
    {
      "cell_type": "code",
      "source": [
        "# Interactive plot of facilitites data\n",
        "@interact(Cat = col_list)\n",
        "def plot_facilities(Cat):\n",
        "  sns.barplot(x=Cat, y='Count', data=df2.groupby([Cat, 'unload']).agg(Count = ('count', 'sum')).reset_index(), hue='unload', palette=['#e56717', '#007fff'])\n",
        "  plt.title(f'Facilities data for {Cat}')\n",
        "  plt.show()"
      ],
      "metadata": {
        "id": "Nx7uOpHeV-I7",
        "colab": {
          "base_uri": "https://localhost:8080/",
          "height": 387,
          "referenced_widgets": [
            "3a806320b23a4c489493e919781faede",
            "30e8aa2ebc184af99720620dd993c7ac",
            "df1d462f6f37494e841ecda22366d966",
            "03e8ce19167c4c21b68f993cb376c50b",
            "2729c769dccb47289ab1abbae3069c8d",
            "ad6704e3d2a5401d9fe335ff15d5f9cc",
            "514b6c8c71e14c0b8b6ddacf5490e6da"
          ]
        },
        "outputId": "c43f5bba-2bc7-431e-f1c0-9da84b944c85"
      },
      "execution_count": 16,
      "outputs": [
        {
          "output_type": "display_data",
          "data": {
            "text/plain": [
              "interactive(children=(Dropdown(description='Cat', options=('month', 'weeknum', 'day', 'hour'), value='month'),…"
            ],
            "application/vnd.jupyter.widget-view+json": {
              "version_major": 2,
              "version_minor": 0,
              "model_id": "3a806320b23a4c489493e919781faede"
            }
          },
          "metadata": {}
        }
      ]
    }
  ]
}