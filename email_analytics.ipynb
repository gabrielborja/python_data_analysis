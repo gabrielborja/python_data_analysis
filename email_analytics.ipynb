{
  "nbformat": 4,
  "nbformat_minor": 0,
  "metadata": {
    "colab": {
      "name": "email_analytics.ipynb",
      "provenance": [],
      "collapsed_sections": [],
      "authorship_tag": "ABX9TyMW3zai+kX8mPQHdwhNysWM",
      "include_colab_link": true
    },
    "kernelspec": {
      "name": "python3",
      "display_name": "Python 3"
    },
    "language_info": {
      "name": "python"
    }
  },
  "cells": [
    {
      "cell_type": "markdown",
      "metadata": {
        "id": "view-in-github",
        "colab_type": "text"
      },
      "source": [
        "<a href=\"https://colab.research.google.com/github/gabrielborja/python_data_analysis/blob/main/email_analytics.ipynb\" target=\"_parent\"><img src=\"https://colab.research.google.com/assets/colab-badge.svg\" alt=\"Open In Colab\"/></a>"
      ]
    },
    {
      "cell_type": "markdown",
      "metadata": {
        "id": "n039g-QF-jvi"
      },
      "source": [
        "#Working with mbox files"
      ]
    },
    {
      "cell_type": "markdown",
      "metadata": {
        "id": "BU2qSBF9-o3c"
      },
      "source": [
        "Message format <hr>\n",
        "The basic Internet message format used for email is defined by RFC 5322.\n",
        "Internet email messages consist of two sections, 'header' and 'body'. These are known as 'content'.\n",
        "The header is structured into fields such as From, To, CC, Subject, Date, and other information about the email.\n",
        "The body contains the message, as unstructured text, sometimes containing a signature block at the end. The header is separated from the body by a blank line.\n",
        "More information can be found [here](https://en.wikipedia.org/wiki/Email#Header_fields)"
      ]
    },
    {
      "cell_type": "markdown",
      "metadata": {
        "id": "sgzkv1LwjLIL"
      },
      "source": [
        "## Uploading initial packages and data"
      ]
    },
    {
      "cell_type": "code",
      "metadata": {
        "id": "QTRtRZcb-IyF"
      },
      "source": [
        "#Importing preliminary packages\n",
        "import numpy as np\n",
        "import pandas as pd"
      ],
      "execution_count": 1,
      "outputs": []
    },
    {
      "cell_type": "code",
      "metadata": {
        "id": "1Z4jxJjRRPLB"
      },
      "source": [
        "#Remove previous versions of the uploaded file\n",
        "!rm email_list.json"
      ],
      "execution_count": null,
      "outputs": []
    },
    {
      "cell_type": "code",
      "metadata": {
        "colab": {
          "resources": {
            "http://localhost:8080/nbextensions/google.colab/files.js": {
              "data": "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",
              "ok": true,
              "headers": [
                [
                  "content-type",
                  "application/javascript"
                ]
              ],
              "status": 200,
              "status_text": ""
            }
          },
          "base_uri": "https://localhost:8080/",
          "height": 39
        },
        "id": "oen97ED1-rh-",
        "outputId": "476bc326-e13f-4f33-9a6c-a9303668e9c3"
      },
      "source": [
        "#Uploading file from local drive\n",
        "from google.colab import files\n",
        "uploaded = files.upload()"
      ],
      "execution_count": null,
      "outputs": [
        {
          "output_type": "display_data",
          "data": {
            "text/html": [
              "\n",
              "     <input type=\"file\" id=\"files-768386f3-78eb-414a-b507-dc98edee6e6a\" name=\"files[]\" multiple disabled\n",
              "        style=\"border:none\" />\n",
              "     <output id=\"result-768386f3-78eb-414a-b507-dc98edee6e6a\">\n",
              "      Upload widget is only available when the cell has been executed in the\n",
              "      current browser session. Please rerun this cell to enable.\n",
              "      </output>\n",
              "      <script src=\"/nbextensions/google.colab/files.js\"></script> "
            ],
            "text/plain": [
              "<IPython.core.display.HTML object>"
            ]
          },
          "metadata": {
            "tags": []
          }
        }
      ]
    },
    {
      "cell_type": "code",
      "metadata": {
        "id": "03VoNwL0-3O6",
        "colab": {
          "base_uri": "https://localhost:8080/"
        },
        "outputId": "a61e0730-6790-4285-945c-286b7c708fd2"
      },
      "source": [
        "#Storing json in a Pandas Dataframe\n",
        "import io\n",
        "df = pd.read_json(io.BytesIO(uploaded['email_list.json']), encoding='utf-8')"
      ],
      "execution_count": null,
      "outputs": [
        {
          "output_type": "stream",
          "text": [
            "/usr/local/lib/python3.7/dist-packages/dateutil/parser/_parser.py:1218: UnknownTimezoneWarning: tzname CDT identified but not understood.  Pass `tzinfos` argument in order to correctly return a timezone-aware datetime.  In a future version, this will raise an exception.\n",
            "  category=UnknownTimezoneWarning)\n"
          ],
          "name": "stderr"
        }
      ]
    },
    {
      "cell_type": "code",
      "metadata": {
        "colab": {
          "base_uri": "https://localhost:8080/"
        },
        "id": "id2layVwzGjs",
        "outputId": "16742b6f-7d92-4447-fd5d-d7dc65e27ab8"
      },
      "source": [
        "#Checking the dataframe info\n",
        "df.info()"
      ],
      "execution_count": null,
      "outputs": [
        {
          "output_type": "stream",
          "text": [
            "<class 'pandas.core.frame.DataFrame'>\n",
            "RangeIndex: 1480 entries, 0 to 1479\n",
            "Data columns (total 3 columns):\n",
            " #   Column   Non-Null Count  Dtype \n",
            "---  ------   --------------  ----- \n",
            " 0   Date     1480 non-null   object\n",
            " 1   From     1480 non-null   object\n",
            " 2   Subject  1480 non-null   object\n",
            "dtypes: object(3)\n",
            "memory usage: 34.8+ KB\n"
          ],
          "name": "stdout"
        }
      ]
    },
    {
      "cell_type": "markdown",
      "metadata": {
        "id": "0tUwQebSzdpR"
      },
      "source": [
        "##Initial Data cleaning"
      ]
    },
    {
      "cell_type": "markdown",
      "metadata": {
        "id": "UHpgnuT1KsZ7"
      },
      "source": [
        "###Converting to datetime"
      ]
    },
    {
      "cell_type": "code",
      "metadata": {
        "id": "sSffx_-59BsB"
      },
      "source": [
        "#Create a copy of the dataframe to perform data cleaning and manipulation\n",
        "emails = df.copy()"
      ],
      "execution_count": null,
      "outputs": []
    },
    {
      "cell_type": "code",
      "metadata": {
        "id": "tEEnK8J_82yK"
      },
      "source": [
        "#Replace Unknown Timezones: i.e. CDT, CST flaged as warnings by read_json (UnknownTimezoneWarning)\n",
        "emails['Date'] = emails['Date'].replace(to_replace=r'CDT|CST', value='UTC', regex=True)\n",
        "#df[df['Date'].str.contains('CDT|CST', regex=True)] #==>Check how many rows contain unknown timezone"
      ],
      "execution_count": null,
      "outputs": []
    },
    {
      "cell_type": "code",
      "metadata": {
        "id": "7EElgUfTIqcu"
      },
      "source": [
        "#Replace invalid timezone stamps that will result in NaT values\n",
        "emails['Date'] = emails['Date'].replace(to_replace='\\(-05\\)|\\(GMT-05:00\\)', value='(ECT)', regex=True)\n",
        "#emails[emails['Date'].str.contains('\\(-05\\)|\\(GMT-05:00\\)', regex=True)] #==> Check how many rows contain invalid timezone"
      ],
      "execution_count": null,
      "outputs": []
    },
    {
      "cell_type": "code",
      "metadata": {
        "id": "Yho_PLqbzpaI"
      },
      "source": [
        "#Parsing strings to datetime object and converting to Oslo time zone\n",
        "emails = emails.assign(Event = emails['Date'])\n",
        "emails['Event'] = pd.to_datetime(emails['Date'], errors='coerce', utc=True, format='%Y-%m-%d %H:%M:%S', infer_datetime_format=True).dt.tz_convert('Europe/Oslo')"
      ],
      "execution_count": null,
      "outputs": []
    },
    {
      "cell_type": "code",
      "metadata": {
        "colab": {
          "base_uri": "https://localhost:8080/",
          "height": 203
        },
        "id": "Hw3GKNAhNBMv",
        "outputId": "9a52051d-5489-472f-a4e5-6e096dc35134"
      },
      "source": [
        "#Sorting the 'Event' column\n",
        "emails = emails.sort_values(by=['Event']).reset_index(drop=True)\n",
        "emails.tail()"
      ],
      "execution_count": null,
      "outputs": [
        {
          "output_type": "execute_result",
          "data": {
            "text/html": [
              "<div>\n",
              "<style scoped>\n",
              "    .dataframe tbody tr th:only-of-type {\n",
              "        vertical-align: middle;\n",
              "    }\n",
              "\n",
              "    .dataframe tbody tr th {\n",
              "        vertical-align: top;\n",
              "    }\n",
              "\n",
              "    .dataframe thead th {\n",
              "        text-align: right;\n",
              "    }\n",
              "</style>\n",
              "<table border=\"1\" class=\"dataframe\">\n",
              "  <thead>\n",
              "    <tr style=\"text-align: right;\">\n",
              "      <th></th>\n",
              "      <th>Date</th>\n",
              "      <th>From</th>\n",
              "      <th>Subject</th>\n",
              "      <th>Event</th>\n",
              "    </tr>\n",
              "  </thead>\n",
              "  <tbody>\n",
              "    <tr>\n",
              "      <th>1475</th>\n",
              "      <td>Mon, 07 Jun 2021 18:16:00 +0000</td>\n",
              "      <td>\"Humble Bundle\" &lt;contact@mailer.humblebundle.com&gt;</td>\n",
              "      <td>Get Data Smart with Humble Bundle and Mercury ...</td>\n",
              "      <td>2021-06-07 20:16:00+02:00</td>\n",
              "    </tr>\n",
              "    <tr>\n",
              "      <th>1476</th>\n",
              "      <td>Mon, 7 Jun 2021 13:57:53 -0500 (ECT)</td>\n",
              "      <td>banco@pichincha.com</td>\n",
              "      <td>NOTIFICACION BANCO PICHINCHA</td>\n",
              "      <td>2021-06-07 20:57:53+02:00</td>\n",
              "    </tr>\n",
              "    <tr>\n",
              "      <th>1477</th>\n",
              "      <td>Mon, 07 Jun 2021 14:03:55 -0600</td>\n",
              "      <td>\"Comunicados Banco Pichincha\" &lt;comunicados@pic...</td>\n",
              "      <td>=?UTF-8?Q?Informaci=C3=B3n_de_COSEDE?=</td>\n",
              "      <td>2021-06-07 22:03:55+02:00</td>\n",
              "    </tr>\n",
              "    <tr>\n",
              "      <th>1478</th>\n",
              "      <td>Mon, 07 Jun 2021 22:17:08 +0000</td>\n",
              "      <td>Diners Club del Ecuador &lt;gestion@comunicacione...</td>\n",
              "      <td>Accede al reembolso de tus compras</td>\n",
              "      <td>2021-06-08 00:17:08+02:00</td>\n",
              "    </tr>\n",
              "    <tr>\n",
              "      <th>1479</th>\n",
              "      <td>Mon, 7 Jun 2021 23:13:14 +0000 (UTC)</td>\n",
              "      <td>LinkedIn Job Recommendations &lt;jobs-listings@li...</td>\n",
              "      <td>Harnham is looking for: Data Scientist.</td>\n",
              "      <td>2021-06-08 01:13:14+02:00</td>\n",
              "    </tr>\n",
              "  </tbody>\n",
              "</table>\n",
              "</div>"
            ],
            "text/plain": [
              "                                      Date  ...                     Event\n",
              "1475       Mon, 07 Jun 2021 18:16:00 +0000  ... 2021-06-07 20:16:00+02:00\n",
              "1476  Mon, 7 Jun 2021 13:57:53 -0500 (ECT)  ... 2021-06-07 20:57:53+02:00\n",
              "1477       Mon, 07 Jun 2021 14:03:55 -0600  ... 2021-06-07 22:03:55+02:00\n",
              "1478       Mon, 07 Jun 2021 22:17:08 +0000  ... 2021-06-08 00:17:08+02:00\n",
              "1479  Mon, 7 Jun 2021 23:13:14 +0000 (UTC)  ... 2021-06-08 01:13:14+02:00\n",
              "\n",
              "[5 rows x 4 columns]"
            ]
          },
          "metadata": {
            "tags": []
          },
          "execution_count": 9
        }
      ]
    },
    {
      "cell_type": "code",
      "metadata": {
        "colab": {
          "base_uri": "https://localhost:8080/"
        },
        "id": "meCE9iTYLR_O",
        "outputId": "ca42f93f-3048-4439-de9b-a98d72d9e894"
      },
      "source": [
        "#Check that the new dataframe info has all valid datetime\n",
        "emails.info()"
      ],
      "execution_count": null,
      "outputs": [
        {
          "output_type": "stream",
          "text": [
            "<class 'pandas.core.frame.DataFrame'>\n",
            "RangeIndex: 1480 entries, 0 to 1479\n",
            "Data columns (total 4 columns):\n",
            " #   Column   Non-Null Count  Dtype                      \n",
            "---  ------   --------------  -----                      \n",
            " 0   Date     1480 non-null   object                     \n",
            " 1   From     1480 non-null   object                     \n",
            " 2   Subject  1480 non-null   object                     \n",
            " 3   Event    1480 non-null   datetime64[ns, Europe/Oslo]\n",
            "dtypes: datetime64[ns, Europe/Oslo](1), object(3)\n",
            "memory usage: 46.4+ KB\n"
          ],
          "name": "stdout"
        }
      ]
    },
    {
      "cell_type": "code",
      "metadata": {
        "colab": {
          "base_uri": "https://localhost:8080/"
        },
        "id": "ESZUESkCHUzz",
        "outputId": "9cbcdf81-5492-4e97-95c4-c8c79e216be1"
      },
      "source": [
        "#Checking the presence of () in date\n",
        "par_date = [d for d in emails['Date'] if '(' in d]\n",
        "par_date[:10]"
      ],
      "execution_count": null,
      "outputs": [
        {
          "output_type": "execute_result",
          "data": {
            "text/plain": [
              "['Tue, 25 May 2021 17:14:59 +0000 (UTC)',\n",
              " 'Thu, 03 Jun 2021 05:48:41 +0000 (UTC)',\n",
              " 'Sun, 6 Jun 2021 11:41:03 -0500 (ECT)',\n",
              " 'Sun, 6 Jun 2021 09:02:17 -0500 (ECT)',\n",
              " 'Sun, 6 Jun 2021 09:01:17 -0500 (ECT)',\n",
              " 'Sun, 6 Jun 2021 08:57:38 -0500 (ECT)',\n",
              " 'Fri, 21 May 2021 05:52:58 +0000 (UTC)',\n",
              " 'Thu, 20 May 2021 20:12:50 +0000 (UTC)',\n",
              " 'Thu, 03 Jun 2021 17:16:37 +0000 (UTC)',\n",
              " 'Fri, 7 May 2021 23:51:12 +0000 (UTC)']"
            ]
          },
          "metadata": {
            "tags": []
          },
          "execution_count": 20
        }
      ]
    },
    {
      "cell_type": "code",
      "metadata": {
        "colab": {
          "base_uri": "https://localhost:8080/"
        },
        "id": "WkLvn78UHFYa",
        "outputId": "6bd51404-a061-4489-8f54-567fbbbe4b0d"
      },
      "source": [
        "#Checking for invalid data and timestamps in 'Event' column\n",
        "emails[emails['Event'].isnull()].sum()"
      ],
      "execution_count": null,
      "outputs": [
        {
          "output_type": "execute_result",
          "data": {
            "text/plain": [
              "Date       0.0\n",
              "From       0.0\n",
              "Subject    0.0\n",
              "Event      0.0\n",
              "dtype: float64"
            ]
          },
          "metadata": {
            "tags": []
          },
          "execution_count": 11
        }
      ]
    },
    {
      "cell_type": "markdown",
      "metadata": {
        "id": "wRvDaEloLoNj"
      },
      "source": [
        "###Transforming ASCII quoted-printable to UTF-8"
      ]
    },
    {
      "cell_type": "markdown",
      "metadata": {
        "id": "7NqVFVN2g4HC"
      },
      "source": [
        "Encode and Decode MIME <hr>\n",
        "Many times we need to deal with data which not always has the regular ASCII characters. For example, an email in a different language other than English. Python has mechanism to deal with such characters by using MIME (Multipurpose Internet Mail Extensions) based module.\n",
        "\n",
        "Quoted-printable in headers <hr>\n",
        "The character sequence =?UTF-8?Q? is called quoted-printable, and is legitimately used to encode UTF-8 characters in internet headers, since they can contain only ASCII (rfc1342). Quoted-printable is particularly useful for when the content is mostly ASCII, so for example Chris España could be encoded as =?UTF-8?Q?Chris Espa=F1a?=\n",
        "\n"
      ]
    },
    {
      "cell_type": "code",
      "metadata": {
        "id": "aO1WPMJVoM8L"
      },
      "source": [
        "#Import encode and decode MIME quoted-printable package\n",
        "import quopri"
      ],
      "execution_count": null,
      "outputs": []
    },
    {
      "cell_type": "code",
      "metadata": {
        "id": "EDbivs-Vda4F"
      },
      "source": [
        "#Crete function to Transform 'From' and 'Subject' columns from ASCII (quoted-printable) to UTF-8\n",
        "\n",
        "def parse_quoted_printable(df):\n",
        "  \"\"\"Parse from ASCII (quoted-printable) to UTF-8\"\"\"\n",
        "  \n",
        "  #Split data to lists\n",
        "  l1_from = df['From'].copy()\n",
        "  l2_subj = df['Subject'].copy()\n",
        "\n",
        "  #Create function to decode string\n",
        "  def decode_quoted(x):\n",
        "    try:\n",
        "      return quopri.decodestring(x).decode(encoding='utf-8')\n",
        "    except UnicodeDecodeError:\n",
        "      return x\n",
        "\n",
        "  #Decode each list with quopri\n",
        "  l1_from = [decode_quoted(i) for i in l1_from]\n",
        "  l2_subj = [decode_quoted(i) for i in l2_subj]\n",
        "\n",
        "  #Return dataframe with converted columns to UTF-8\n",
        "  df = df.assign(From = l1_from,\n",
        "                 Subject = l2_subj)\n",
        "\n",
        "  return df"
      ],
      "execution_count": null,
      "outputs": []
    },
    {
      "cell_type": "code",
      "metadata": {
        "id": "Tdgurp-EzfeJ"
      },
      "source": [
        "#Apply function to parse from ASCII (quoted-printable) to UTF-8\n",
        "emails = parse_quoted_printable(emails)"
      ],
      "execution_count": null,
      "outputs": []
    },
    {
      "cell_type": "code",
      "metadata": {
        "id": "P99e9WPzdmp1"
      },
      "source": [
        "#Check dataframe after ASCII text transformation\n",
        "emails.head(10)"
      ],
      "execution_count": null,
      "outputs": []
    },
    {
      "cell_type": "code",
      "metadata": {
        "colab": {
          "base_uri": "https://localhost:8080/"
        },
        "id": "qLgVKy0v3mnf",
        "outputId": "4006a1df-e507-45d0-bc40-e67ad493f012"
      },
      "source": [
        "#Checking how many values start with text '=?UTF-8?Q?' in 'From' column\n",
        "my_utf = emails[emails['From'].str.startswith('=?')]['From'].to_list()\n",
        "my_utf = [i[:10] for i in my_utf]\n",
        "pd.Series(my_utf).unique()"
      ],
      "execution_count": null,
      "outputs": [
        {
          "output_type": "execute_result",
          "data": {
            "text/plain": [
              "array(['=?utf-8?Q?', '=?UTF-8?B?', '=?UTF-8?Q?', '=?iso-8859',\n",
              "       '=?utf-8?B?'], dtype=object)"
            ]
          },
          "metadata": {
            "tags": []
          },
          "execution_count": 16
        }
      ]
    },
    {
      "cell_type": "code",
      "metadata": {
        "colab": {
          "base_uri": "https://localhost:8080/"
        },
        "id": "3K5y2_0c77Cb",
        "outputId": "88568076-9dd5-4c6f-cd58-d69ea133d4b4"
      },
      "source": [
        "#Checking how many unique first character are in 'From' column\n",
        "begins = emails['From'].to_list()\n",
        "begins = [i[:1] for i in begins]\n",
        "pd.Series(begins).unique()"
      ],
      "execution_count": null,
      "outputs": [
        {
          "output_type": "execute_result",
          "data": {
            "text/plain": [
              "array(['b', 's', '=', 'S', 'R', '\"', 'T', 'G', 'D', 'n', 'I', 'E', 'K',\n",
              "       'A', 'C', '<', 'W', 'N', 'X', 'B', '', 'L', 'P', 'l', 'U', 'f',\n",
              "       'i', 'F', 'Y', 'M', 'H', 'V', 'J', 'O', 'g', 'd', 'v', 'Q', 'z',\n",
              "       'a', 'j', 'h'], dtype=object)"
            ]
          },
          "metadata": {
            "tags": []
          },
          "execution_count": 17
        }
      ]
    },
    {
      "cell_type": "code",
      "metadata": {
        "id": "wPcCDkk1133N"
      },
      "source": [
        "#Use regex to replace text starting with =?utf-8?Q? =?UTF-8?Q? =?UTF-8?B? =?utf-8?B? =?iso-8859\n",
        "emails['From'] = emails['From'].replace(to_replace='=\\?\\w*-\\w[\\?|\\w]\\w[\\?|\\w]', value='', regex=True)\n",
        "emails['Subject'] = emails['Subject'].replace(to_replace='=\\?\\w*-\\w[\\?|\\w]\\w[\\?|\\w]', value='', regex=True)\n",
        "#emails[emails['From'].str.contains('=\\?\\w*-\\w[\\?|\\w]\\w[\\?|\\w]', regex=True)]"
      ],
      "execution_count": null,
      "outputs": []
    },
    {
      "cell_type": "code",
      "metadata": {
        "id": "pcLud6UfBlKq"
      },
      "source": [
        "#Use regex to replace text containing =?=\n",
        "emails['From'] = emails['From'].replace(to_replace='=*\\?=', value='', regex=True)\n",
        "emails['Subject'] = emails['Subject'].replace(to_replace='=*\\?=', value='', regex=True)\n",
        "#emails[emails['Subject'].str.contains('=*\\?=', regex=True)]"
      ],
      "execution_count": null,
      "outputs": []
    },
    {
      "cell_type": "code",
      "metadata": {
        "id": "tiYivu3xCAe5"
      },
      "source": [
        "emails"
      ],
      "execution_count": null,
      "outputs": []
    },
    {
      "cell_type": "code",
      "metadata": {
        "colab": {
          "base_uri": "https://localhost:8080/",
          "height": 35
        },
        "id": "zOlTDZmS_q5r",
        "outputId": "db050f60-6479-4ce9-ca0f-17a6af93ef1d"
      },
      "source": [
        "emails['From'][4]"
      ],
      "execution_count": null,
      "outputs": [
        {
          "output_type": "execute_result",
          "data": {
            "application/vnd.google.colaboratory.intrinsic+json": {
              "type": "string"
            },
            "text/plain": [
              "'\"Duolingo\" <hello@duolingo.com>'"
            ]
          },
          "metadata": {
            "tags": []
          },
          "execution_count": 16
        }
      ]
    },
    {
      "cell_type": "markdown",
      "metadata": {
        "id": "tpHc8j0AN52A"
      },
      "source": [
        "##Data Manipulation"
      ]
    },
    {
      "cell_type": "code",
      "metadata": {
        "id": "zHsgKy830ZpR"
      },
      "source": [
        "#Import regex\n",
        "import re"
      ],
      "execution_count": null,
      "outputs": []
    },
    {
      "cell_type": "code",
      "metadata": {
        "id": "w4gQTgguOP9G"
      },
      "source": [
        "#Checkind the new dataframe head\n",
        "emails.head()"
      ],
      "execution_count": null,
      "outputs": []
    },
    {
      "cell_type": "code",
      "metadata": {
        "id": "DeYz66q_sqh4"
      },
      "source": [
        "emails[~emails['From'].str.contains('<')]['From'].value_counts()"
      ],
      "execution_count": null,
      "outputs": []
    },
    {
      "cell_type": "code",
      "metadata": {
        "id": "ieDa4etPOoMU"
      },
      "source": [
        "#Create a function to parse local-part and domain\n",
        "\n",
        "def match_local(x):\n",
        "  \"\"\"Match local-part from email\"\"\"\n",
        "  regex1 = re.compile(r'(\\w+|\\w+[\\.|-]\\w+|\\w+[\\.|-]\\w+[\\.|-]\\w+)(?:@)')\n",
        "  \n",
        "  try:\n",
        "    m = re.findall(pattern=regex1, string=x)\n",
        "    return m[0] #==> Return first group match\n",
        "  except:\n",
        "    return \"No match\"\n",
        "\n",
        "def match_sender(x):\n",
        "  \"\"\"Match name of sender from email\"\"\"\n",
        "  regex2 = re.compile(r'(.*?)(?:<)')\n",
        "  \n",
        "  try:\n",
        "    m = re.findall(pattern=regex2, string=x)\n",
        "    return m[0].strip().replace('\"', '') #==> Return first group match and strip space and \"\n",
        "  except:\n",
        "    return \"No Sender\"\n",
        "\n",
        "def match_domain(x):\n",
        "  \"\"\"Match name of domain from email\"\"\"\n",
        "  regex3 = re.compile(r'(?:@)(.*)(?:\\.)')\n",
        "  \n",
        "  try:\n",
        "    m = re.findall(pattern=regex3, string=x)\n",
        "    return m[0].strip().replace('\"','').replace(\"?\",'').replace(\">\",'') #==> Return first group match and strip space and \"\n",
        "  except:\n",
        "    return \"No Domain\""
      ],
      "execution_count": null,
      "outputs": []
    },
    {
      "cell_type": "code",
      "metadata": {
        "id": "gi2pUQ_UQz8g"
      },
      "source": [
        "#Define a regex function to match sender, local-part and domain\n",
        "def regex_matcher(x, reg_ex):\n",
        "  \"\"\"Match regular expression argument\"\"\"\n",
        "  try:\n",
        "    m = re.findall(pattern=reg_ex, string=x)\n",
        "    return m[0].strip().replace('\"','').replace(\"?\",'').replace(\">\",'') #==> Return first group match, strip space and invalid char\n",
        "  except:\n",
        "    return None"
      ],
      "execution_count": null,
      "outputs": []
    },
    {
      "cell_type": "code",
      "metadata": {
        "id": "6d9x2q3x3MyS"
      },
      "source": [
        "#Compile regular expressions and apply regex_matcher\n",
        "regex1 = re.compile(r'(.*?)(?:<)') #==> Match sender\n",
        "regex2 = re.compile(r'(\\w+|\\w+[\\.|-]\\w+|\\w+[\\.|-]\\w+[\\.|-]\\w+)(?:@)') #==> Match local-part\n",
        "regex3 = re.compile(r'(?:@)(.*)(?:>?)') #==> Match domain\n",
        "\n",
        "emails = emails.assign(Sender = emails['From'].apply(regex_matcher, args=(regex1,)),\n",
        "                       Local_part = emails['From'].apply(regex_matcher, args=(regex2,)),\n",
        "                       Domain = emails['From'].apply(regex_matcher, args=(regex3,)))\n",
        "emails.head(10)"
      ],
      "execution_count": null,
      "outputs": []
    },
    {
      "cell_type": "code",
      "metadata": {
        "id": "38QXXsKJ4wxo"
      },
      "source": [
        "#senders = emails['Sender'].value_counts().reset_index()['index'].to_list()\n",
        "#senders\n",
        "emails['Sender'].value_counts()"
      ],
      "execution_count": null,
      "outputs": []
    },
    {
      "cell_type": "code",
      "metadata": {
        "id": "g6crrjTP5S9g"
      },
      "source": [
        "emails['Local_part'].value_counts()"
      ],
      "execution_count": null,
      "outputs": []
    },
    {
      "cell_type": "code",
      "metadata": {
        "id": "61aa9MxsXAj1"
      },
      "source": [
        "emails['Domain'].value_counts()"
      ],
      "execution_count": null,
      "outputs": []
    },
    {
      "cell_type": "code",
      "metadata": {
        "id": "bOcIaKdyxmTO"
      },
      "source": [
        "#Replace None value for \"N/A\" in sender column\n",
        "emails['Sender'] = np.where(emails['Sender'].isnull(), 'N/A', emails['Sender'])"
      ],
      "execution_count": null,
      "outputs": []
    },
    {
      "cell_type": "code",
      "metadata": {
        "id": "K-jkt8AfyLqQ"
      },
      "source": [
        "#Replace None values in Local_part with H.Watt\n",
        "emails['Sender'] = np.where(emails['Local_part'].isnull(), 'The Watt Club', emails['Sender'])\n",
        "emails['Local_part'] = np.where(emails['Local_part'].isnull(), 'watt.club', emails['Local_part'])\n",
        "emails['Domain'] = np.where(emails['Domain'].isnull(), 'hw.ac.uk', emails['Domain'])"
      ],
      "execution_count": null,
      "outputs": []
    },
    {
      "cell_type": "code",
      "metadata": {
        "id": "6d-mSTRM7Qbq"
      },
      "source": [
        "#Verify that missing data was cataloged\n",
        "emails[emails['Sender'].str.contains('Watt')]"
      ],
      "execution_count": null,
      "outputs": []
    },
    {
      "cell_type": "code",
      "metadata": {
        "colab": {
          "base_uri": "https://localhost:8080/",
          "height": 17
        },
        "id": "7AWFeAqjCte6",
        "outputId": "24269284-f791-4961-9131-d54254bcd667"
      },
      "source": [
        "#Exporting df to csv in local disk\n",
        "from google.colab import files\n",
        "emails.to_csv('emails.csv', index=False)\n",
        "files.download('emails.csv')"
      ],
      "execution_count": null,
      "outputs": [
        {
          "output_type": "display_data",
          "data": {
            "application/javascript": [
              "\n",
              "    async function download(id, filename, size) {\n",
              "      if (!google.colab.kernel.accessAllowed) {\n",
              "        return;\n",
              "      }\n",
              "      const div = document.createElement('div');\n",
              "      const label = document.createElement('label');\n",
              "      label.textContent = `Downloading \"${filename}\": `;\n",
              "      div.appendChild(label);\n",
              "      const progress = document.createElement('progress');\n",
              "      progress.max = size;\n",
              "      div.appendChild(progress);\n",
              "      document.body.appendChild(div);\n",
              "\n",
              "      const buffers = [];\n",
              "      let downloaded = 0;\n",
              "\n",
              "      const channel = await google.colab.kernel.comms.open(id);\n",
              "      // Send a message to notify the kernel that we're ready.\n",
              "      channel.send({})\n",
              "\n",
              "      for await (const message of channel.messages) {\n",
              "        // Send a message to notify the kernel that we're ready.\n",
              "        channel.send({})\n",
              "        if (message.buffers) {\n",
              "          for (const buffer of message.buffers) {\n",
              "            buffers.push(buffer);\n",
              "            downloaded += buffer.byteLength;\n",
              "            progress.value = downloaded;\n",
              "          }\n",
              "        }\n",
              "      }\n",
              "      const blob = new Blob(buffers, {type: 'application/binary'});\n",
              "      const a = document.createElement('a');\n",
              "      a.href = window.URL.createObjectURL(blob);\n",
              "      a.download = filename;\n",
              "      div.appendChild(a);\n",
              "      a.click();\n",
              "      div.remove();\n",
              "    }\n",
              "  "
            ],
            "text/plain": [
              "<IPython.core.display.Javascript object>"
            ]
          },
          "metadata": {
            "tags": []
          }
        },
        {
          "output_type": "display_data",
          "data": {
            "application/javascript": [
              "download(\"download_0e4e9e2c-60c8-48fc-9c47-a6b345bd2494\", \"emails.csv\", 283171)"
            ],
            "text/plain": [
              "<IPython.core.display.Javascript object>"
            ]
          },
          "metadata": {
            "tags": []
          }
        }
      ]
    },
    {
      "cell_type": "markdown",
      "metadata": {
        "id": "ts_oY9L0OM4K"
      },
      "source": [
        "##Data Visualization"
      ]
    },
    {
      "cell_type": "markdown",
      "metadata": {
        "id": "92L5T6uZgTCZ"
      },
      "source": [
        "###Importing data and packages"
      ]
    },
    {
      "cell_type": "code",
      "metadata": {
        "id": "3PfU15TPJn3q"
      },
      "source": [
        "#Import visualization packages\n",
        "import matplotlib.pyplot as plt\n",
        "import seaborn as sns"
      ],
      "execution_count": 2,
      "outputs": []
    },
    {
      "cell_type": "code",
      "metadata": {
        "id": "dCZE3ZSwbfXq"
      },
      "source": [
        "#Remove previous versions of the uploaded file\n",
        "!rm emails.csv"
      ],
      "execution_count": null,
      "outputs": []
    },
    {
      "cell_type": "code",
      "metadata": {
        "id": "8jZ-Jv6lDPxf",
        "colab": {
          "resources": {
            "http://localhost:8080/nbextensions/google.colab/files.js": {
              "data": "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",
              "ok": true,
              "headers": [
                [
                  "content-type",
                  "application/javascript"
                ]
              ],
              "status": 200,
              "status_text": ""
            }
          },
          "base_uri": "https://localhost:8080/",
          "height": 72
        },
        "outputId": "30cff6b8-3ba6-463f-a47d-d752bcc2de3f"
      },
      "source": [
        "#Uploading file from local drive\n",
        "from google.colab import files\n",
        "uploaded1 = files.upload()"
      ],
      "execution_count": 3,
      "outputs": [
        {
          "output_type": "display_data",
          "data": {
            "text/html": [
              "\n",
              "     <input type=\"file\" id=\"files-de244064-e454-4664-8e92-ccc619c5bb9e\" name=\"files[]\" multiple disabled\n",
              "        style=\"border:none\" />\n",
              "     <output id=\"result-de244064-e454-4664-8e92-ccc619c5bb9e\">\n",
              "      Upload widget is only available when the cell has been executed in the\n",
              "      current browser session. Please rerun this cell to enable.\n",
              "      </output>\n",
              "      <script src=\"/nbextensions/google.colab/files.js\"></script> "
            ],
            "text/plain": [
              "<IPython.core.display.HTML object>"
            ]
          },
          "metadata": {
            "tags": []
          }
        },
        {
          "output_type": "stream",
          "text": [
            "Saving emails.csv to emails.csv\n"
          ],
          "name": "stdout"
        }
      ]
    },
    {
      "cell_type": "code",
      "metadata": {
        "id": "lFjFUkLfDRrS"
      },
      "source": [
        "#Storing csv in a Pandas Dataframe\n",
        "import io\n",
        "emails = pd.read_csv(io.BytesIO(uploaded1['emails.csv']), parse_dates=True)"
      ],
      "execution_count": 4,
      "outputs": []
    },
    {
      "cell_type": "code",
      "metadata": {
        "id": "glUXWGjAd7Dr"
      },
      "source": [
        "#Convert Event into datetime and Oslo time zone\n",
        "emails['Event'] = pd.to_datetime(emails['Event'], errors='coerce', utc=True, format='%Y-%m-%d %H:%M:%S', infer_datetime_format=True).dt.tz_convert('Europe/Oslo')"
      ],
      "execution_count": 5,
      "outputs": []
    },
    {
      "cell_type": "code",
      "metadata": {
        "colab": {
          "base_uri": "https://localhost:8080/",
          "height": 173
        },
        "id": "GVS8p3WhDo0G",
        "outputId": "90ecf659-c809-406b-950d-32a3f645c4a4"
      },
      "source": [
        "#Select columns to store in a dataframe for visualization\n",
        "em_df = emails[['Event', 'Sender', 'Local_part', 'Domain']].copy()\n",
        "em_df.tail(4)"
      ],
      "execution_count": 6,
      "outputs": [
        {
          "output_type": "execute_result",
          "data": {
            "text/html": [
              "<div>\n",
              "<style scoped>\n",
              "    .dataframe tbody tr th:only-of-type {\n",
              "        vertical-align: middle;\n",
              "    }\n",
              "\n",
              "    .dataframe tbody tr th {\n",
              "        vertical-align: top;\n",
              "    }\n",
              "\n",
              "    .dataframe thead th {\n",
              "        text-align: right;\n",
              "    }\n",
              "</style>\n",
              "<table border=\"1\" class=\"dataframe\">\n",
              "  <thead>\n",
              "    <tr style=\"text-align: right;\">\n",
              "      <th></th>\n",
              "      <th>Event</th>\n",
              "      <th>Sender</th>\n",
              "      <th>Local_part</th>\n",
              "      <th>Domain</th>\n",
              "    </tr>\n",
              "  </thead>\n",
              "  <tbody>\n",
              "    <tr>\n",
              "      <th>1476</th>\n",
              "      <td>2021-06-07 20:57:53+02:00</td>\n",
              "      <td>NaN</td>\n",
              "      <td>banco</td>\n",
              "      <td>pichincha.com</td>\n",
              "    </tr>\n",
              "    <tr>\n",
              "      <th>1477</th>\n",
              "      <td>2021-06-07 22:03:55+02:00</td>\n",
              "      <td>Comunicados Banco Pichincha</td>\n",
              "      <td>comunicados</td>\n",
              "      <td>pichincha.com</td>\n",
              "    </tr>\n",
              "    <tr>\n",
              "      <th>1478</th>\n",
              "      <td>2021-06-08 00:17:08+02:00</td>\n",
              "      <td>Diners Club del Ecuador</td>\n",
              "      <td>gestion</td>\n",
              "      <td>comunicaciones.dinersclub.com.ec</td>\n",
              "    </tr>\n",
              "    <tr>\n",
              "      <th>1479</th>\n",
              "      <td>2021-06-08 01:13:14+02:00</td>\n",
              "      <td>LinkedIn Job Recommendations</td>\n",
              "      <td>jobs-listings</td>\n",
              "      <td>linkedin.com</td>\n",
              "    </tr>\n",
              "  </tbody>\n",
              "</table>\n",
              "</div>"
            ],
            "text/plain": [
              "                         Event  ...                            Domain\n",
              "1476 2021-06-07 20:57:53+02:00  ...                     pichincha.com\n",
              "1477 2021-06-07 22:03:55+02:00  ...                     pichincha.com\n",
              "1478 2021-06-08 00:17:08+02:00  ...  comunicaciones.dinersclub.com.ec\n",
              "1479 2021-06-08 01:13:14+02:00  ...                      linkedin.com\n",
              "\n",
              "[4 rows x 4 columns]"
            ]
          },
          "metadata": {
            "tags": []
          },
          "execution_count": 6
        }
      ]
    },
    {
      "cell_type": "code",
      "metadata": {
        "colab": {
          "base_uri": "https://localhost:8080/"
        },
        "id": "ZIJhLHesEKrQ",
        "outputId": "14478f38-341f-4d4a-e9d9-8a4e860c6e8c"
      },
      "source": [
        "#Check the dataframe information\n",
        "em_df.info()"
      ],
      "execution_count": 7,
      "outputs": [
        {
          "output_type": "stream",
          "text": [
            "<class 'pandas.core.frame.DataFrame'>\n",
            "RangeIndex: 1480 entries, 0 to 1479\n",
            "Data columns (total 4 columns):\n",
            " #   Column      Non-Null Count  Dtype                      \n",
            "---  ------      --------------  -----                      \n",
            " 0   Event       1480 non-null   datetime64[ns, Europe/Oslo]\n",
            " 1   Sender      1301 non-null   object                     \n",
            " 2   Local_part  1480 non-null   object                     \n",
            " 3   Domain      1480 non-null   object                     \n",
            "dtypes: datetime64[ns, Europe/Oslo](1), object(3)\n",
            "memory usage: 46.4+ KB\n"
          ],
          "name": "stdout"
        }
      ]
    },
    {
      "cell_type": "code",
      "metadata": {
        "id": "XABh8-gUfHkV"
      },
      "source": [
        "#Create a function to extract categories from datetime object like year, month, week number, day and hour\n",
        "def categories_from_datetime(df):\n",
        "  \"\"\"Extract year, month, day, hour and minutes from datetime column\"\"\"\n",
        "  df = df.assign(year = df.iloc[:,0].dt.year,\n",
        "                 month = df.iloc[:,0].dt.month,\n",
        "                 weeknum = df.iloc[:,0].dt.isocalendar().week,\n",
        "                 day = df.iloc[:,0].dt.day_name(),\n",
        "                 hour = df.iloc[:,0].dt.hour,\n",
        "                 )\n",
        "  return df"
      ],
      "execution_count": 9,
      "outputs": []
    },
    {
      "cell_type": "code",
      "metadata": {
        "colab": {
          "base_uri": "https://localhost:8080/",
          "height": 204
        },
        "id": "4t6hjmZVfyTC",
        "outputId": "ac10c650-5f73-4479-c046-ca66078ee950"
      },
      "source": [
        "#Extracting categories from datatime object\n",
        "em_df = categories_from_datetime(em_df)\n",
        "em_df.head()"
      ],
      "execution_count": 10,
      "outputs": [
        {
          "output_type": "execute_result",
          "data": {
            "text/html": [
              "<div>\n",
              "<style scoped>\n",
              "    .dataframe tbody tr th:only-of-type {\n",
              "        vertical-align: middle;\n",
              "    }\n",
              "\n",
              "    .dataframe tbody tr th {\n",
              "        vertical-align: top;\n",
              "    }\n",
              "\n",
              "    .dataframe thead th {\n",
              "        text-align: right;\n",
              "    }\n",
              "</style>\n",
              "<table border=\"1\" class=\"dataframe\">\n",
              "  <thead>\n",
              "    <tr style=\"text-align: right;\">\n",
              "      <th></th>\n",
              "      <th>Event</th>\n",
              "      <th>Sender</th>\n",
              "      <th>Local_part</th>\n",
              "      <th>Domain</th>\n",
              "      <th>year</th>\n",
              "      <th>month</th>\n",
              "      <th>weeknum</th>\n",
              "      <th>day</th>\n",
              "      <th>hour</th>\n",
              "    </tr>\n",
              "  </thead>\n",
              "  <tbody>\n",
              "    <tr>\n",
              "      <th>0</th>\n",
              "      <td>2019-10-09 23:03:38+02:00</td>\n",
              "      <td>NaN</td>\n",
              "      <td>banco</td>\n",
              "      <td>pichincha.com</td>\n",
              "      <td>2019</td>\n",
              "      <td>10</td>\n",
              "      <td>41</td>\n",
              "      <td>Wednesday</td>\n",
              "      <td>23</td>\n",
              "    </tr>\n",
              "    <tr>\n",
              "      <th>1</th>\n",
              "      <td>2019-10-10 11:55:06+02:00</td>\n",
              "      <td>NaN</td>\n",
              "      <td>servicios</td>\n",
              "      <td>titanium.com.ec</td>\n",
              "      <td>2019</td>\n",
              "      <td>10</td>\n",
              "      <td>41</td>\n",
              "      <td>Thursday</td>\n",
              "      <td>11</td>\n",
              "    </tr>\n",
              "    <tr>\n",
              "      <th>2</th>\n",
              "      <td>2019-10-13 20:38:34+02:00</td>\n",
              "      <td>NaN</td>\n",
              "      <td>bancavirtual</td>\n",
              "      <td>bancoguayaquil.com</td>\n",
              "      <td>2019</td>\n",
              "      <td>10</td>\n",
              "      <td>41</td>\n",
              "      <td>Sunday</td>\n",
              "      <td>20</td>\n",
              "    </tr>\n",
              "    <tr>\n",
              "      <th>3</th>\n",
              "      <td>2019-10-13 21:29:31+02:00</td>\n",
              "      <td>NaN</td>\n",
              "      <td>bancavirtual</td>\n",
              "      <td>bancoguayaquil.com</td>\n",
              "      <td>2019</td>\n",
              "      <td>10</td>\n",
              "      <td>41</td>\n",
              "      <td>Sunday</td>\n",
              "      <td>21</td>\n",
              "    </tr>\n",
              "    <tr>\n",
              "      <th>4</th>\n",
              "      <td>2019-10-15 10:11:07+02:00</td>\n",
              "      <td>Øyvind_Grimstad,_BearingPoint</td>\n",
              "      <td>conversations</td>\n",
              "      <td>email.teamtailor.com</td>\n",
              "      <td>2019</td>\n",
              "      <td>10</td>\n",
              "      <td>42</td>\n",
              "      <td>Tuesday</td>\n",
              "      <td>10</td>\n",
              "    </tr>\n",
              "  </tbody>\n",
              "</table>\n",
              "</div>"
            ],
            "text/plain": [
              "                      Event                         Sender  ...        day hour\n",
              "0 2019-10-09 23:03:38+02:00                            NaN  ...  Wednesday   23\n",
              "1 2019-10-10 11:55:06+02:00                            NaN  ...   Thursday   11\n",
              "2 2019-10-13 20:38:34+02:00                            NaN  ...     Sunday   20\n",
              "3 2019-10-13 21:29:31+02:00                            NaN  ...     Sunday   21\n",
              "4 2019-10-15 10:11:07+02:00  Øyvind_Grimstad,_BearingPoint  ...    Tuesday   10\n",
              "\n",
              "[5 rows x 9 columns]"
            ]
          },
          "metadata": {
            "tags": []
          },
          "execution_count": 10
        }
      ]
    },
    {
      "cell_type": "code",
      "metadata": {
        "id": "AeLO75YMmnXL"
      },
      "source": [
        "#Dropping year 2019\n",
        "em_df = em_df[em_df['year']!=2019]"
      ],
      "execution_count": 11,
      "outputs": []
    },
    {
      "cell_type": "markdown",
      "metadata": {
        "id": "MNnKq1gMgYP8"
      },
      "source": [
        "###Emails by month"
      ]
    },
    {
      "cell_type": "code",
      "metadata": {
        "colab": {
          "base_uri": "https://localhost:8080/",
          "height": 383
        },
        "id": "O3F1f4lkgtji",
        "outputId": "8b0be0ea-12d7-4747-e08f-2fb20ea239e7"
      },
      "source": [
        "#Emails by month\n",
        "month_df = em_df.groupby(['year', 'month']).agg(emails_by_month=('day', 'count')).reset_index()\n",
        "sns.relplot(x='month', y='emails_by_month', col='year', data=month_df, kind='line', height=5, aspect=1.2)\n",
        "plt.show()"
      ],
      "execution_count": 12,
      "outputs": [
        {
          "output_type": "display_data",
          "data": {
            "image/png": "[encoded data removed]",
            "text/plain": [
              "<Figure size 864x360 with 2 Axes>"
            ]
          },
          "metadata": {
            "tags": [],
            "needs_background": "light"
          }
        }
      ]
    },
    {
      "cell_type": "markdown",
      "metadata": {
        "id": "oCTg2hlzj4nR"
      },
      "source": [
        "###Emails by day of week"
      ]
    },
    {
      "cell_type": "code",
      "metadata": {
        "id": "9HfxFJN0j0RT",
        "colab": {
          "base_uri": "https://localhost:8080/",
          "height": 383
        },
        "outputId": "6692c211-8605-4625-cb2b-a7dacc452b73"
      },
      "source": [
        "#Emails by day of the week\n",
        "day_col = ['Monday', 'Tuesday', 'Wednesday', 'Thursday', 'Friday', 'Saturday', 'Sunday']\n",
        "day_df = em_df.groupby(['year', 'day']).agg(emails_by_day=('hour', 'count')).reset_index()\n",
        "sns.catplot(x='day', y='emails_by_day', col='year', order=day_col, data=day_df, kind='bar', height=5, aspect=1.3)\n",
        "plt.show()"
      ],
      "execution_count": 13,
      "outputs": [
        {
          "output_type": "display_data",
          "data": {
            "image/png": "[encoded data removed]",
            "text/plain": [
              "<Figure size 936x360 with 2 Axes>"
            ]
          },
          "metadata": {
            "tags": [],
            "needs_background": "light"
          }
        }
      ]
    },
    {
      "cell_type": "markdown",
      "metadata": {
        "id": "zVY_VZQE8nRg"
      },
      "source": [
        "###Average hour of emails by day of the week"
      ]
    },
    {
      "cell_type": "code",
      "metadata": {
        "colab": {
          "base_uri": "https://localhost:8080/",
          "height": 383
        },
        "id": "ktF_q7y88tT-",
        "outputId": "d4ca70d8-eb10-40a4-d284-19d45638e629"
      },
      "source": [
        "#Average hour of emails by day of the week\n",
        "sns.catplot(x='day', y='hour', col='year', order=day_col, data=em_df, kind='box', height=5, aspect=1.3)\n",
        "plt.show()"
      ],
      "execution_count": 14,
      "outputs": [
        {
          "output_type": "display_data",
          "data": {
            "image/png": "[encoded data removed]",
            "text/plain": [
              "<Figure size 936x360 with 2 Axes>"
            ]
          },
          "metadata": {
            "tags": [],
            "needs_background": "light"
          }
        }
      ]
    },
    {
      "cell_type": "markdown",
      "metadata": {
        "id": "PWon_3k7oV7C"
      },
      "source": [
        "###Emails by hour of the day"
      ]
    },
    {
      "cell_type": "code",
      "metadata": {
        "colab": {
          "base_uri": "https://localhost:8080/",
          "height": 383
        },
        "id": "qq279NdioacU",
        "outputId": "31bd2b0f-2e23-42cf-9470-828bd2aca847"
      },
      "source": [
        "#Emails by hour of the day\n",
        "hr_col = [i for i in range(0, 25)]\n",
        "hr_df = em_df.groupby(['year', 'hour']).agg(emails_by_hour=('day', 'count')).reset_index()\n",
        "sns.catplot(x='hour', y='emails_by_hour', col='year', order=hr_col, data=hr_df, kind='bar', height=5, aspect=1.3)\n",
        "plt.show()"
      ],
      "execution_count": 16,
      "outputs": [
        {
          "output_type": "display_data",
          "data": {
            "image/png": "[encoded data removed]",
            "text/plain": [
              "<Figure size 936x360 with 2 Axes>"
            ]
          },
          "metadata": {
            "tags": [],
            "needs_background": "light"
          }
        }
      ]
    },
    {
      "cell_type": "markdown",
      "metadata": {
        "id": "KQAqR0qydrm1"
      },
      "source": [
        "###Top domain names sending emails"
      ]
    },
    {
      "cell_type": "code",
      "metadata": {
        "colab": {
          "base_uri": "https://localhost:8080/",
          "height": 443
        },
        "id": "-fe_-EDzdvka",
        "outputId": "02bc8e9c-14ae-4a92-cca1-1dbff2725310"
      },
      "source": [
        "#Top domain names sending emails in 2020\n",
        "domains_df = em_df.groupby(['year', 'Domain']).agg(emails_by_domain=('day', 'count')).reset_index().sort_values(by=['year', 'emails_by_domain'], ascending=False)\n",
        "sns.catplot(x='Domain', y='emails_by_domain', data=domains_df[domains_df['year']==2020][:10], kind='bar', height=5, aspect=2)\n",
        "plt.xticks(rotation=30)\n",
        "plt.title('Top 10 Domains sending emails in 2020')\n",
        "plt.show()"
      ],
      "execution_count": 26,
      "outputs": [
        {
          "output_type": "display_data",
          "data": {
            "image/png": "[encoded data removed]",
            "text/plain": [
              "<Figure size 720x360 with 1 Axes>"
            ]
          },
          "metadata": {
            "tags": [],
            "needs_background": "light"
          }
        }
      ]
    },
    {
      "cell_type": "code",
      "metadata": {
        "colab": {
          "base_uri": "https://localhost:8080/",
          "height": 457
        },
        "id": "miDFKQile-pU",
        "outputId": "029c2011-ed0d-4c6d-fcac-5b154d4ddefa"
      },
      "source": [
        "#Top domain names sending emails in 2021\n",
        "sns.catplot(x='Domain', y='emails_by_domain', data=domains_df[domains_df['year']==2021][:10], kind='bar', height=5, aspect=2)\n",
        "plt.xticks(rotation=30)\n",
        "plt.title('Top 10 Domains sending emails in 2021')\n",
        "plt.show()"
      ],
      "execution_count": 27,
      "outputs": [
        {
          "output_type": "display_data",
          "data": {
            "image/png": "[encoded data removed]",
            "text/plain": [
              "<Figure size 720x360 with 1 Axes>"
            ]
          },
          "metadata": {
            "tags": [],
            "needs_background": "light"
          }
        }
      ]
    },
    {
      "cell_type": "markdown",
      "metadata": {
        "id": "XhktQBcfiDaP"
      },
      "source": [
        "###Top emails senders"
      ]
    },
    {
      "cell_type": "code",
      "metadata": {
        "colab": {
          "base_uri": "https://localhost:8080/",
          "height": 458
        },
        "id": "2pSwrzdXhkXh",
        "outputId": "b2e97b25-1663-4d7d-9c5f-7cd94c4ef352"
      },
      "source": [
        "#Top sender names sending emails in 2021\n",
        "sender_df = em_df.groupby(['year', 'Sender']).agg(emails_by_sender=('day', 'count')).reset_index().sort_values(by=['year', 'emails_by_sender'], ascending=False)\n",
        "sns.catplot(x='Sender', y='emails_by_sender', data=sender_df[sender_df['year']==2021][:5], kind='bar', height=5, aspect=1.3)\n",
        "plt.xticks(rotation=30)\n",
        "plt.title('Top 5 emails Senders in 2021')\n",
        "plt.show()"
      ],
      "execution_count": 33,
      "outputs": [
        {
          "output_type": "display_data",
          "data": {
            "image/png": "[encoded data removed]",
            "text/plain": [
              "<Figure size 468x360 with 1 Axes>"
            ]
          },
          "metadata": {
            "tags": [],
            "needs_background": "light"
          }
        }
      ]
    }
  ]
}