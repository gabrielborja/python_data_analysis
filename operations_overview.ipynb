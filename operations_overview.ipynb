{
  "nbformat": 4,
  "nbformat_minor": 0,
  "metadata": {
    "colab": {
      "name": "operations_overview.ipynb",
      "provenance": [],
      "collapsed_sections": [
        "4B3dCrn2H9by",
        "Ct34V8zs_IEL",
        "TYOzOT1k5oNS",
        "tlnZ2je2I-ls",
        "ZWp5LJz5I_Fq",
        "MZRW7szgJRAU",
        "18rEiRiCKyiE",
        "aaxue8PKU6ud",
        "mQNKk6IlJOiF",
        "6Y9KujfPgXLa",
        "NAur2G65mjyI",
        "0Mobjv_LR7XC",
        "xxBHwKnbSAFH",
        "1TUGj6x5TFKM"
      ],
      "authorship_tag": "ABX9TyMZBH8oGgGqDLuHmifmjmHD",
      "include_colab_link": true
    },
    "kernelspec": {
      "name": "python3",
      "display_name": "Python 3"
    },
    "language_info": {
      "name": "python"
    },
    "widgets": {
      "application/vnd.jupyter.widget-state+json": {
        "fb0dbdb66dd44918b8e65026a4c4aa20": {
          "model_module": "@jupyter-widgets/controls",
          "model_name": "VBoxModel",
          "model_module_version": "1.5.0",
          "state": {
            "_view_name": "VBoxView",
            "_dom_classes": [
              "widget-interact"
            ],
            "_model_name": "VBoxModel",
            "_view_module": "@jupyter-widgets/controls",
            "_model_module_version": "1.5.0",
            "_view_count": null,
            "_view_module_version": "1.5.0",
            "box_style": "",
            "layout": "IPY_MODEL_d0c2a2a2fcb84ee29de9a7cfe0ada54c",
            "_model_module": "@jupyter-widgets/controls",
            "children": [
              "IPY_MODEL_3eff510f18f44d09be842cb7b3887106",
              "IPY_MODEL_731858aacd96415f9772698c44fca0ea"
            ]
          }
        },
        "d0c2a2a2fcb84ee29de9a7cfe0ada54c": {
          "model_module": "@jupyter-widgets/base",
          "model_name": "LayoutModel",
          "model_module_version": "1.2.0",
          "state": {
            "_view_name": "LayoutView",
            "grid_template_rows": null,
            "right": null,
            "justify_content": null,
            "_view_module": "@jupyter-widgets/base",
            "overflow": null,
            "_model_module_version": "1.2.0",
            "_view_count": null,
            "flex_flow": null,
            "width": null,
            "min_width": null,
            "border": null,
            "align_items": null,
            "bottom": null,
            "_model_module": "@jupyter-widgets/base",
            "top": null,
            "grid_column": null,
            "overflow_y": null,
            "overflow_x": null,
            "grid_auto_flow": null,
            "grid_area": null,
            "grid_template_columns": null,
            "flex": null,
            "_model_name": "LayoutModel",
            "justify_items": null,
            "grid_row": null,
            "max_height": null,
            "align_content": null,
            "visibility": null,
            "align_self": null,
            "height": null,
            "min_height": null,
            "padding": null,
            "grid_auto_rows": null,
            "grid_gap": null,
            "max_width": null,
            "order": null,
            "_view_module_version": "1.2.0",
            "grid_template_areas": null,
            "object_position": null,
            "object_fit": null,
            "grid_auto_columns": null,
            "margin": null,
            "display": null,
            "left": null
          }
        },
        "3eff510f18f44d09be842cb7b3887106": {
          "model_module": "@jupyter-widgets/controls",
          "model_name": "DropdownModel",
          "model_module_version": "1.5.0",
          "state": {
            "_options_labels": [
              "Month",
              "Weeknum",
              "Weekday",
              "Team",
              "Shift",
              "Hour"
            ],
            "_view_name": "DropdownView",
            "style": "IPY_MODEL_3ec77010772b49f480bf858e0de28607",
            "_dom_classes": [],
            "description": "Cat",
            "_model_name": "DropdownModel",
            "index": 4,
            "_view_module": "@jupyter-widgets/controls",
            "_model_module_version": "1.5.0",
            "_view_count": null,
            "disabled": false,
            "_view_module_version": "1.5.0",
            "description_tooltip": null,
            "_model_module": "@jupyter-widgets/controls",
            "layout": "IPY_MODEL_5ba2471f1e624632bdeaec115bb63e23"
          }
        },
        "731858aacd96415f9772698c44fca0ea": {
          "model_module": "@jupyter-widgets/output",
          "model_name": "OutputModel",
          "model_module_version": "1.0.0",
          "state": {
            "_view_name": "OutputView",
            "msg_id": "",
            "_dom_classes": [],
            "_model_name": "OutputModel",
            "outputs": [
              {
                "output_type": "display_data",
                "data": {
                  "text/html": "<div>\n<style scoped>\n    .dataframe tbody tr th:only-of-type {\n        vertical-align: middle;\n    }\n\n    .dataframe tbody tr th {\n        vertical-align: top;\n    }\n\n    .dataframe thead th {\n        text-align: right;\n    }\n</style>\n<table border=\"1\" class=\"dataframe\">\n  <thead>\n    <tr style=\"text-align: right;\">\n      <th></th>\n      <th>Shift</th>\n      <th>Proportion</th>\n    </tr>\n  </thead>\n  <tbody>\n    <tr>\n      <th>0</th>\n      <td>Afternoon</td>\n      <td>0.532609</td>\n    </tr>\n    <tr>\n      <th>1</th>\n      <td>Day</td>\n      <td>0.467391</td>\n    </tr>\n  </tbody>\n</table>\n</div>",
                  "text/plain": "       Shift  Proportion\n0  Afternoon    0.532609\n1        Day    0.467391"
                },
                "metadata": {}
              }
            ],
            "_view_module": "@jupyter-widgets/output",
            "_model_module_version": "1.0.0",
            "_view_count": null,
            "_view_module_version": "1.0.0",
            "layout": "IPY_MODEL_9a3b02cbdf9d43088e932194d31e40f2",
            "_model_module": "@jupyter-widgets/output"
          }
        },
        "3ec77010772b49f480bf858e0de28607": {
          "model_module": "@jupyter-widgets/controls",
          "model_name": "DescriptionStyleModel",
          "model_module_version": "1.5.0",
          "state": {
            "_view_name": "StyleView",
            "_model_name": "DescriptionStyleModel",
            "description_width": "",
            "_view_module": "@jupyter-widgets/base",
            "_model_module_version": "1.5.0",
            "_view_count": null,
            "_view_module_version": "1.2.0",
            "_model_module": "@jupyter-widgets/controls"
          }
        },
        "5ba2471f1e624632bdeaec115bb63e23": {
          "model_module": "@jupyter-widgets/base",
          "model_name": "LayoutModel",
          "model_module_version": "1.2.0",
          "state": {
            "_view_name": "LayoutView",
            "grid_template_rows": null,
            "right": null,
            "justify_content": null,
            "_view_module": "@jupyter-widgets/base",
            "overflow": null,
            "_model_module_version": "1.2.0",
            "_view_count": null,
            "flex_flow": null,
            "width": null,
            "min_width": null,
            "border": null,
            "align_items": null,
            "bottom": null,
            "_model_module": "@jupyter-widgets/base",
            "top": null,
            "grid_column": null,
            "overflow_y": null,
            "overflow_x": null,
            "grid_auto_flow": null,
            "grid_area": null,
            "grid_template_columns": null,
            "flex": null,
            "_model_name": "LayoutModel",
            "justify_items": null,
            "grid_row": null,
            "max_height": null,
            "align_content": null,
            "visibility": null,
            "align_self": null,
            "height": null,
            "min_height": null,
            "padding": null,
            "grid_auto_rows": null,
            "grid_gap": null,
            "max_width": null,
            "order": null,
            "_view_module_version": "1.2.0",
            "grid_template_areas": null,
            "object_position": null,
            "object_fit": null,
            "grid_auto_columns": null,
            "margin": null,
            "display": null,
            "left": null
          }
        },
        "9a3b02cbdf9d43088e932194d31e40f2": {
          "model_module": "@jupyter-widgets/base",
          "model_name": "LayoutModel",
          "model_module_version": "1.2.0",
          "state": {
            "_view_name": "LayoutView",
            "grid_template_rows": null,
            "right": null,
            "justify_content": null,
            "_view_module": "@jupyter-widgets/base",
            "overflow": null,
            "_model_module_version": "1.2.0",
            "_view_count": null,
            "flex_flow": null,
            "width": null,
            "min_width": null,
            "border": null,
            "align_items": null,
            "bottom": null,
            "_model_module": "@jupyter-widgets/base",
            "top": null,
            "grid_column": null,
            "overflow_y": null,
            "overflow_x": null,
            "grid_auto_flow": null,
            "grid_area": null,
            "grid_template_columns": null,
            "flex": null,
            "_model_name": "LayoutModel",
            "justify_items": null,
            "grid_row": null,
            "max_height": null,
            "align_content": null,
            "visibility": null,
            "align_self": null,
            "height": null,
            "min_height": null,
            "padding": null,
            "grid_auto_rows": null,
            "grid_gap": null,
            "max_width": null,
            "order": null,
            "_view_module_version": "1.2.0",
            "grid_template_areas": null,
            "object_position": null,
            "object_fit": null,
            "grid_auto_columns": null,
            "margin": null,
            "display": null,
            "left": null
          }
        },
        "892c795380974c0b9857512ad2e3e899": {
          "model_module": "@jupyter-widgets/controls",
          "model_name": "VBoxModel",
          "model_module_version": "1.5.0",
          "state": {
            "_view_name": "VBoxView",
            "_dom_classes": [
              "widget-interact"
            ],
            "_model_name": "VBoxModel",
            "_view_module": "@jupyter-widgets/controls",
            "_model_module_version": "1.5.0",
            "_view_count": null,
            "_view_module_version": "1.5.0",
            "box_style": "",
            "layout": "IPY_MODEL_bfd053a5034a43c7b2b308c895712363",
            "_model_module": "@jupyter-widgets/controls",
            "children": [
              "IPY_MODEL_b54a93709c8e4d0594f5fcd942561fb9",
              "IPY_MODEL_88077a425a874dcea9613fe80ceb9ba0",
              "IPY_MODEL_7445309e3d15450baf3259fc94411354"
            ]
          }
        },
        "bfd053a5034a43c7b2b308c895712363": {
          "model_module": "@jupyter-widgets/base",
          "model_name": "LayoutModel",
          "model_module_version": "1.2.0",
          "state": {
            "_view_name": "LayoutView",
            "grid_template_rows": null,
            "right": null,
            "justify_content": null,
            "_view_module": "@jupyter-widgets/base",
            "overflow": null,
            "_model_module_version": "1.2.0",
            "_view_count": null,
            "flex_flow": null,
            "width": null,
            "min_width": null,
            "border": null,
            "align_items": null,
            "bottom": null,
            "_model_module": "@jupyter-widgets/base",
            "top": null,
            "grid_column": null,
            "overflow_y": null,
            "overflow_x": null,
            "grid_auto_flow": null,
            "grid_area": null,
            "grid_template_columns": null,
            "flex": null,
            "_model_name": "LayoutModel",
            "justify_items": null,
            "grid_row": null,
            "max_height": null,
            "align_content": null,
            "visibility": null,
            "align_self": null,
            "height": null,
            "min_height": null,
            "padding": null,
            "grid_auto_rows": null,
            "grid_gap": null,
            "max_width": null,
            "order": null,
            "_view_module_version": "1.2.0",
            "grid_template_areas": null,
            "object_position": null,
            "object_fit": null,
            "grid_auto_columns": null,
            "margin": null,
            "display": null,
            "left": null
          }
        },
        "b54a93709c8e4d0594f5fcd942561fb9": {
          "model_module": "@jupyter-widgets/controls",
          "model_name": "DropdownModel",
          "model_module_version": "1.5.0",
          "state": {
            "_options_labels": [
              "Month",
              "Weeknum",
              "Weekday",
              "Team",
              "Shift",
              "Hour"
            ],
            "_view_name": "DropdownView",
            "style": "IPY_MODEL_537a190826814823b2402eb6dbadd2df",
            "_dom_classes": [],
            "description": "Cat",
            "_model_name": "DropdownModel",
            "index": 5,
            "_view_module": "@jupyter-widgets/controls",
            "_model_module_version": "1.5.0",
            "_view_count": null,
            "disabled": false,
            "_view_module_version": "1.5.0",
            "description_tooltip": null,
            "_model_module": "@jupyter-widgets/controls",
            "layout": "IPY_MODEL_9aecc8a131f3419dac72dbe28b739178"
          }
        },
        "88077a425a874dcea9613fe80ceb9ba0": {
          "model_module": "@jupyter-widgets/controls",
          "model_name": "DropdownModel",
          "model_module_version": "1.5.0",
          "state": {
            "_options_labels": [
              "Shift",
              "Team",
              "None"
            ],
            "_view_name": "DropdownView",
            "style": "IPY_MODEL_6fc89fd52bb4466d9b9662f1ce1e107c",
            "_dom_classes": [],
            "description": "Shift",
            "_model_name": "DropdownModel",
            "index": 0,
            "_view_module": "@jupyter-widgets/controls",
            "_model_module_version": "1.5.0",
            "_view_count": null,
            "disabled": false,
            "_view_module_version": "1.5.0",
            "description_tooltip": null,
            "_model_module": "@jupyter-widgets/controls",
            "layout": "IPY_MODEL_ddca2fda6d73467ab7fe5f9b7fc4b146"
          }
        },
        "7445309e3d15450baf3259fc94411354": {
          "model_module": "@jupyter-widgets/output",
          "model_name": "OutputModel",
          "model_module_version": "1.0.0",
          "state": {
            "_view_name": "OutputView",
            "msg_id": "",
            "_dom_classes": [],
            "_model_name": "OutputModel",
            "outputs": [
              {
                "output_type": "display_data",
                "data": {
                  "image/png": "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\n",
                  "text/plain": "<Figure size 576x288 with 1 Axes>"
                },
                "metadata": {}
              }
            ],
            "_view_module": "@jupyter-widgets/output",
            "_model_module_version": "1.0.0",
            "_view_count": null,
            "_view_module_version": "1.0.0",
            "layout": "IPY_MODEL_7d2276b3ee5d427a815d9e42053ded78",
            "_model_module": "@jupyter-widgets/output"
          }
        },
        "537a190826814823b2402eb6dbadd2df": {
          "model_module": "@jupyter-widgets/controls",
          "model_name": "DescriptionStyleModel",
          "model_module_version": "1.5.0",
          "state": {
            "_view_name": "StyleView",
            "_model_name": "DescriptionStyleModel",
            "description_width": "",
            "_view_module": "@jupyter-widgets/base",
            "_model_module_version": "1.5.0",
            "_view_count": null,
            "_view_module_version": "1.2.0",
            "_model_module": "@jupyter-widgets/controls"
          }
        },
        "9aecc8a131f3419dac72dbe28b739178": {
          "model_module": "@jupyter-widgets/base",
          "model_name": "LayoutModel",
          "model_module_version": "1.2.0",
          "state": {
            "_view_name": "LayoutView",
            "grid_template_rows": null,
            "right": null,
            "justify_content": null,
            "_view_module": "@jupyter-widgets/base",
            "overflow": null,
            "_model_module_version": "1.2.0",
            "_view_count": null,
            "flex_flow": null,
            "width": null,
            "min_width": null,
            "border": null,
            "align_items": null,
            "bottom": null,
            "_model_module": "@jupyter-widgets/base",
            "top": null,
            "grid_column": null,
            "overflow_y": null,
            "overflow_x": null,
            "grid_auto_flow": null,
            "grid_area": null,
            "grid_template_columns": null,
            "flex": null,
            "_model_name": "LayoutModel",
            "justify_items": null,
            "grid_row": null,
            "max_height": null,
            "align_content": null,
            "visibility": null,
            "align_self": null,
            "height": null,
            "min_height": null,
            "padding": null,
            "grid_auto_rows": null,
            "grid_gap": null,
            "max_width": null,
            "order": null,
            "_view_module_version": "1.2.0",
            "grid_template_areas": null,
            "object_position": null,
            "object_fit": null,
            "grid_auto_columns": null,
            "margin": null,
            "display": null,
            "left": null
          }
        },
        "6fc89fd52bb4466d9b9662f1ce1e107c": {
          "model_module": "@jupyter-widgets/controls",
          "model_name": "DescriptionStyleModel",
          "model_module_version": "1.5.0",
          "state": {
            "_view_name": "StyleView",
            "_model_name": "DescriptionStyleModel",
            "description_width": "",
            "_view_module": "@jupyter-widgets/base",
            "_model_module_version": "1.5.0",
            "_view_count": null,
            "_view_module_version": "1.2.0",
            "_model_module": "@jupyter-widgets/controls"
          }
        },
        "ddca2fda6d73467ab7fe5f9b7fc4b146": {
          "model_module": "@jupyter-widgets/base",
          "model_name": "LayoutModel",
          "model_module_version": "1.2.0",
          "state": {
            "_view_name": "LayoutView",
            "grid_template_rows": null,
            "right": null,
            "justify_content": null,
            "_view_module": "@jupyter-widgets/base",
            "overflow": null,
            "_model_module_version": "1.2.0",
            "_view_count": null,
            "flex_flow": null,
            "width": null,
            "min_width": null,
            "border": null,
            "align_items": null,
            "bottom": null,
            "_model_module": "@jupyter-widgets/base",
            "top": null,
            "grid_column": null,
            "overflow_y": null,
            "overflow_x": null,
            "grid_auto_flow": null,
            "grid_area": null,
            "grid_template_columns": null,
            "flex": null,
            "_model_name": "LayoutModel",
            "justify_items": null,
            "grid_row": null,
            "max_height": null,
            "align_content": null,
            "visibility": null,
            "align_self": null,
            "height": null,
            "min_height": null,
            "padding": null,
            "grid_auto_rows": null,
            "grid_gap": null,
            "max_width": null,
            "order": null,
            "_view_module_version": "1.2.0",
            "grid_template_areas": null,
            "object_position": null,
            "object_fit": null,
            "grid_auto_columns": null,
            "margin": null,
            "display": null,
            "left": null
          }
        },
        "7d2276b3ee5d427a815d9e42053ded78": {
          "model_module": "@jupyter-widgets/base",
          "model_name": "LayoutModel",
          "model_module_version": "1.2.0",
          "state": {
            "_view_name": "LayoutView",
            "grid_template_rows": null,
            "right": null,
            "justify_content": null,
            "_view_module": "@jupyter-widgets/base",
            "overflow": null,
            "_model_module_version": "1.2.0",
            "_view_count": null,
            "flex_flow": null,
            "width": null,
            "min_width": null,
            "border": null,
            "align_items": null,
            "bottom": null,
            "_model_module": "@jupyter-widgets/base",
            "top": null,
            "grid_column": null,
            "overflow_y": null,
            "overflow_x": null,
            "grid_auto_flow": null,
            "grid_area": null,
            "grid_template_columns": null,
            "flex": null,
            "_model_name": "LayoutModel",
            "justify_items": null,
            "grid_row": null,
            "max_height": null,
            "align_content": null,
            "visibility": null,
            "align_self": null,
            "height": null,
            "min_height": null,
            "padding": null,
            "grid_auto_rows": null,
            "grid_gap": null,
            "max_width": null,
            "order": null,
            "_view_module_version": "1.2.0",
            "grid_template_areas": null,
            "object_position": null,
            "object_fit": null,
            "grid_auto_columns": null,
            "margin": null,
            "display": null,
            "left": null
          }
        }
      }
    }
  },
  "cells": [
    {
      "cell_type": "markdown",
      "metadata": {
        "id": "view-in-github",
        "colab_type": "text"
      },
      "source": [
        "<a href=\"https://colab.research.google.com/github/gabrielborja/python_data_analysis/blob/main/operations_overview.ipynb\" target=\"_parent\"><img src=\"https://colab.research.google.com/assets/colab-badge.svg\" alt=\"Open In Colab\"/></a>"
      ]
    },
    {
      "cell_type": "markdown",
      "metadata": {
        "id": "4B3dCrn2H9by"
      },
      "source": [
        "# Mass Analysis"
      ]
    },
    {
      "cell_type": "markdown",
      "metadata": {
        "id": "Ct34V8zs_IEL"
      },
      "source": [
        "## Uploading necessary packages"
      ]
    },
    {
      "cell_type": "code",
      "metadata": {
        "id": "Xx9OYPprSnpM"
      },
      "source": [
        "#Uploading packages\n",
        "import pandas as pd\n",
        "import numpy as np\n",
        "import matplotlib.pyplot as plt\n",
        "import seaborn as sns"
      ],
      "execution_count": null,
      "outputs": []
    },
    {
      "cell_type": "code",
      "metadata": {
        "id": "osHwpDe6G49w"
      },
      "source": [
        "#Creating a copy of dataframe\n",
        "df1 = df.copy()"
      ],
      "execution_count": null,
      "outputs": []
    },
    {
      "cell_type": "code",
      "metadata": {
        "colab": {
          "base_uri": "https://localhost:8080/"
        },
        "id": "sTTf9ULcIJRK",
        "outputId": "82fbf504-4e1f-482f-9146-956472922584"
      },
      "source": [
        "#Checking if all event values are unique (no duplicates)\n",
        "df1['Event'].is_unique"
      ],
      "execution_count": null,
      "outputs": [
        {
          "output_type": "execute_result",
          "data": {
            "text/plain": [
              "True"
            ]
          },
          "metadata": {
            "tags": []
          },
          "execution_count": 25
        }
      ]
    },
    {
      "cell_type": "code",
      "metadata": {
        "colab": {
          "base_uri": "https://localhost:8080/"
        },
        "id": "XXyigHkwIJRL",
        "outputId": "fbbf400f-59d8-448a-cd83-3523f02d4766"
      },
      "source": [
        "#Dropping shutdown rows and blank rows\n",
        "prod = df1[~df1['T_loss'].isin(['Shutdown', np.nan])].copy()\n",
        "prod.index"
      ],
      "execution_count": null,
      "outputs": [
        {
          "output_type": "execute_result",
          "data": {
            "text/plain": [
              "DatetimeIndex(['2021-01-04', '2021-01-04', '2021-01-04', '2021-01-04',\n",
              "               '2021-01-04', '2021-01-04', '2021-01-04', '2021-01-04',\n",
              "               '2021-01-04', '2021-01-04',\n",
              "               ...\n",
              "               '2021-03-04', '2021-03-04', '2021-03-05', '2021-03-05',\n",
              "               '2021-03-05', '2021-03-05', '2021-03-05', '2021-03-05',\n",
              "               '2021-03-05', '2021-03-05'],\n",
              "              dtype='datetime64[ns]', name='Date', length=1039, freq=None)"
            ]
          },
          "metadata": {
            "tags": []
          },
          "execution_count": 26
        }
      ]
    },
    {
      "cell_type": "code",
      "metadata": {
        "id": "30HOmUQw5S8L"
      },
      "source": [
        "#Checking the new dataframe info\n",
        "prod.info()"
      ],
      "execution_count": null,
      "outputs": []
    },
    {
      "cell_type": "markdown",
      "metadata": {
        "id": "TYOzOT1k5oNS"
      },
      "source": [
        "## Mass EDA"
      ]
    },
    {
      "cell_type": "code",
      "metadata": {
        "colab": {
          "base_uri": "https://localhost:8080/",
          "height": 106
        },
        "id": "Ff-Sdsyc6kNj",
        "outputId": "bd1292c5-be95-4575-edb6-331c9de7e3a8"
      },
      "source": [
        "#Groupying by mass \n",
        "mass = prod.groupby(['Mass'])['GE'].mean().reset_index().round(2)\n",
        "mass"
      ],
      "execution_count": null,
      "outputs": [
        {
          "output_type": "execute_result",
          "data": {
            "text/html": [
              "<div>\n",
              "<style scoped>\n",
              "    .dataframe tbody tr th:only-of-type {\n",
              "        vertical-align: middle;\n",
              "    }\n",
              "\n",
              "    .dataframe tbody tr th {\n",
              "        vertical-align: top;\n",
              "    }\n",
              "\n",
              "    .dataframe thead th {\n",
              "        text-align: right;\n",
              "    }\n",
              "</style>\n",
              "<table border=\"1\" class=\"dataframe\">\n",
              "  <thead>\n",
              "    <tr style=\"text-align: right;\">\n",
              "      <th></th>\n",
              "      <th>Mass</th>\n",
              "      <th>GE</th>\n",
              "    </tr>\n",
              "  </thead>\n",
              "  <tbody>\n",
              "    <tr>\n",
              "      <th>0</th>\n",
              "      <td>Norsk</td>\n",
              "      <td>64.63</td>\n",
              "    </tr>\n",
              "    <tr>\n",
              "      <th>1</th>\n",
              "      <td>Svensk</td>\n",
              "      <td>67.06</td>\n",
              "    </tr>\n",
              "  </tbody>\n",
              "</table>\n",
              "</div>"
            ],
            "text/plain": [
              "     Mass     GE\n",
              "0   Norsk  64.63\n",
              "1  Svensk  67.06"
            ]
          },
          "metadata": {
            "tags": []
          },
          "execution_count": 32
        }
      ]
    },
    {
      "cell_type": "code",
      "metadata": {
        "colab": {
          "base_uri": "https://localhost:8080/",
          "height": 355
        },
        "id": "GeTCW1j6ayLM",
        "outputId": "976171f2-8740-4f11-f4a7-d1c93cf489c8"
      },
      "source": [
        "#Plotting the overall mass comparison in GE\n",
        "sns.barplot(x='Mass', y='GE', data=mass, )\n",
        "plt.title('Norwegian vs Swedish Mass - Jensen 4 - 2021')\n",
        "plt.show()"
      ],
      "execution_count": null,
      "outputs": [
        {
          "output_type": "display_data",
          "data": {
            "image/png": "[encoded data removed]",
            "text/plain": [
              "<Figure size 1080x360 with 1 Axes>"
            ]
          },
          "metadata": {
            "tags": []
          }
        }
      ]
    },
    {
      "cell_type": "code",
      "metadata": {
        "colab": {
          "base_uri": "https://localhost:8080/",
          "height": 225
        },
        "id": "LOkMC_u9bgWz",
        "outputId": "205b64b9-1781-48f8-9fa7-f5af305026bd"
      },
      "source": [
        "#Groupying by mass and group type  \n",
        "group = prod.groupby(['Mass', 'Group'])['GE'].mean().reset_index().round(2)\n",
        "group"
      ],
      "execution_count": null,
      "outputs": [
        {
          "output_type": "execute_result",
          "data": {
            "text/html": [
              "<div>\n",
              "<style scoped>\n",
              "    .dataframe tbody tr th:only-of-type {\n",
              "        vertical-align: middle;\n",
              "    }\n",
              "\n",
              "    .dataframe tbody tr th {\n",
              "        vertical-align: top;\n",
              "    }\n",
              "\n",
              "    .dataframe thead th {\n",
              "        text-align: right;\n",
              "    }\n",
              "</style>\n",
              "<table border=\"1\" class=\"dataframe\">\n",
              "  <thead>\n",
              "    <tr style=\"text-align: right;\">\n",
              "      <th></th>\n",
              "      <th>Mass</th>\n",
              "      <th>Group</th>\n",
              "      <th>GE</th>\n",
              "    </tr>\n",
              "  </thead>\n",
              "  <tbody>\n",
              "    <tr>\n",
              "      <th>0</th>\n",
              "      <td>Norsk</td>\n",
              "      <td>Fylte</td>\n",
              "      <td>59.64</td>\n",
              "    </tr>\n",
              "    <tr>\n",
              "      <th>1</th>\n",
              "      <td>Norsk</td>\n",
              "      <td>Ingredienser</td>\n",
              "      <td>53.65</td>\n",
              "    </tr>\n",
              "    <tr>\n",
              "      <th>2</th>\n",
              "      <td>Norsk</td>\n",
              "      <td>Løsvekt</td>\n",
              "      <td>59.61</td>\n",
              "    </tr>\n",
              "    <tr>\n",
              "      <th>3</th>\n",
              "      <td>Norsk</td>\n",
              "      <td>Massive</td>\n",
              "      <td>76.19</td>\n",
              "    </tr>\n",
              "    <tr>\n",
              "      <th>4</th>\n",
              "      <td>Svensk</td>\n",
              "      <td>Ingredienser</td>\n",
              "      <td>62.44</td>\n",
              "    </tr>\n",
              "    <tr>\n",
              "      <th>5</th>\n",
              "      <td>Svensk</td>\n",
              "      <td>Massive</td>\n",
              "      <td>71.70</td>\n",
              "    </tr>\n",
              "  </tbody>\n",
              "</table>\n",
              "</div>"
            ],
            "text/plain": [
              "     Mass         Group     GE\n",
              "0   Norsk         Fylte  59.64\n",
              "1   Norsk  Ingredienser  53.65\n",
              "2   Norsk       Løsvekt  59.61\n",
              "3   Norsk       Massive  76.19\n",
              "4  Svensk  Ingredienser  62.44\n",
              "5  Svensk       Massive  71.70"
            ]
          },
          "metadata": {
            "tags": []
          },
          "execution_count": 29
        }
      ]
    },
    {
      "cell_type": "code",
      "metadata": {
        "id": "VtR-QD3OcJTL"
      },
      "source": [
        "#Groupying by mass, group and format  \n",
        "format = prod.groupby(['Mass', 'Group', 'Format']).agg({'Hours': 'count', 'GE': 'mean'}).reset_index().round(2)\n",
        "format"
      ],
      "execution_count": null,
      "outputs": []
    },
    {
      "cell_type": "code",
      "metadata": {
        "id": "nSsQ-eBOcvup"
      },
      "source": [
        "#Groupying by mass, group and format  \n",
        "product = prod.groupby(['Mass', 'Group', 'Format', 'Product']).agg({'Hours': 'count', 'GE': 'mean'}).reset_index().round(2)\n",
        "product"
      ],
      "execution_count": null,
      "outputs": []
    },
    {
      "cell_type": "code",
      "metadata": {
        "colab": {
          "base_uri": "https://localhost:8080/",
          "height": 17
        },
        "id": "nH2QmdyF85-q",
        "outputId": "bfa17fec-181e-4bae-c74e-ec78b3e4df52"
      },
      "source": [
        "#Exporting to excel into local disk\n",
        "from google.colab import files\n",
        "product.to_excel('product_grouped.xlsx')\n",
        "files.download('product_grouped.xlsx')"
      ],
      "execution_count": null,
      "outputs": [
        {
          "output_type": "display_data",
          "data": {
            "application/javascript": [
              "\n",
              "    async function download(id, filename, size) {\n",
              "      if (!google.colab.kernel.accessAllowed) {\n",
              "        return;\n",
              "      }\n",
              "      const div = document.createElement('div');\n",
              "      const label = document.createElement('label');\n",
              "      label.textContent = `Downloading \"${filename}\": `;\n",
              "      div.appendChild(label);\n",
              "      const progress = document.createElement('progress');\n",
              "      progress.max = size;\n",
              "      div.appendChild(progress);\n",
              "      document.body.appendChild(div);\n",
              "\n",
              "      const buffers = [];\n",
              "      let downloaded = 0;\n",
              "\n",
              "      const channel = await google.colab.kernel.comms.open(id);\n",
              "      // Send a message to notify the kernel that we're ready.\n",
              "      channel.send({})\n",
              "\n",
              "      for await (const message of channel.messages) {\n",
              "        // Send a message to notify the kernel that we're ready.\n",
              "        channel.send({})\n",
              "        if (message.buffers) {\n",
              "          for (const buffer of message.buffers) {\n",
              "            buffers.push(buffer);\n",
              "            downloaded += buffer.byteLength;\n",
              "            progress.value = downloaded;\n",
              "          }\n",
              "        }\n",
              "      }\n",
              "      const blob = new Blob(buffers, {type: 'application/binary'});\n",
              "      const a = document.createElement('a');\n",
              "      a.href = window.URL.createObjectURL(blob);\n",
              "      a.download = filename;\n",
              "      div.appendChild(a);\n",
              "      a.click();\n",
              "      div.remove();\n",
              "    }\n",
              "  "
            ],
            "text/plain": [
              "<IPython.core.display.Javascript object>"
            ]
          },
          "metadata": {
            "tags": []
          }
        },
        {
          "output_type": "display_data",
          "data": {
            "application/javascript": [
              "download(\"download_346790e5-8358-4b27-8d86-671d47a25708\", \"product_grouped.xlsx\", 5600)"
            ],
            "text/plain": [
              "<IPython.core.display.Javascript object>"
            ]
          },
          "metadata": {
            "tags": []
          }
        }
      ]
    },
    {
      "cell_type": "markdown",
      "metadata": {
        "id": "tlnZ2je2I-ls"
      },
      "source": [
        "#Sanitation Analysis"
      ]
    },
    {
      "cell_type": "markdown",
      "metadata": {
        "id": "ZWp5LJz5I_Fq"
      },
      "source": [
        "## Uploading necessary packages"
      ]
    },
    {
      "cell_type": "code",
      "metadata": {
        "id": "G4MoajqEJRAM"
      },
      "source": [
        "#Remove previous versions of the uploaded excel file\n",
        "!rm production_j4_2021.xlsx"
      ],
      "execution_count": null,
      "outputs": []
    },
    {
      "cell_type": "code",
      "metadata": {
        "colab": {
          "resources": {
            "http://localhost:8080/nbextensions/google.colab/files.js": {
              "data": "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",
              "ok": true,
              "headers": [
                [
                  "content-type",
                  "application/javascript"
                ]
              ],
              "status": 200,
              "status_text": "OK"
            }
          },
          "base_uri": "https://localhost:8080/",
          "height": 73
        },
        "id": "dwfs5BEjJRAN",
        "outputId": "e28cf179-da62-48a2-965d-4d889a5968c3"
      },
      "source": [
        "#Uploading file from local drive ==> !rm file\n",
        "from google.colab import files\n",
        "uploaded = files.upload()"
      ],
      "execution_count": null,
      "outputs": [
        {
          "output_type": "display_data",
          "data": {
            "text/html": [
              "\n",
              "     <input type=\"file\" id=\"files-9fcb8d1c-0acd-4d69-b274-168234570505\" name=\"files[]\" multiple disabled\n",
              "        style=\"border:none\" />\n",
              "     <output id=\"result-9fcb8d1c-0acd-4d69-b274-168234570505\">\n",
              "      Upload widget is only available when the cell has been executed in the\n",
              "      current browser session. Please rerun this cell to enable.\n",
              "      </output>\n",
              "      <script src=\"/nbextensions/google.colab/files.js\"></script> "
            ],
            "text/plain": [
              "<IPython.core.display.HTML object>"
            ]
          },
          "metadata": {
            "tags": []
          }
        },
        {
          "output_type": "stream",
          "text": [
            "Saving production_j4_2021.xlsx to production_j4_2021.xlsx\n"
          ],
          "name": "stdout"
        }
      ]
    },
    {
      "cell_type": "code",
      "metadata": {
        "id": "lGQc-L45JRAP"
      },
      "source": [
        "#Storing dataset in a Pandas Dataframe\n",
        "import io\n",
        "df = pd.read_excel(io.BytesIO(uploaded['production_j4_2021.xlsx']), index_col='Event') #==> setting Event (datetime) as index to perform date slicing"
      ],
      "execution_count": null,
      "outputs": []
    },
    {
      "cell_type": "code",
      "metadata": {
        "colab": {
          "base_uri": "https://localhost:8080/"
        },
        "id": "rg8iT4WUJRAQ",
        "outputId": "ae913c1e-d250-49d0-f06e-9ec8d2ca626f"
      },
      "source": [
        "#Checking the dataframe information\n",
        "df.info()"
      ],
      "execution_count": null,
      "outputs": [
        {
          "output_type": "stream",
          "text": [
            "<class 'pandas.core.frame.DataFrame'>\n",
            "DatetimeIndex: 2088 entries, 2021-01-01 00:00:00 to 2021-03-28 23:00:00\n",
            "Data columns (total 32 columns):\n",
            " #   Column     Non-Null Count  Dtype         \n",
            "---  ------     --------------  -----         \n",
            " 0   Date       2088 non-null   datetime64[ns]\n",
            " 1   Hours      2088 non-null   object        \n",
            " 2   Weeknum    2088 non-null   int64         \n",
            " 3   Weekday    2088 non-null   object        \n",
            " 4   Shift      2088 non-null   object        \n",
            " 5   S_num      1331 non-null   float64       \n",
            " 6   State      2000 non-null   object        \n",
            " 7   T_loss     2000 non-null   object        \n",
            " 8   Mass       1278 non-null   object        \n",
            " 9   Group      1278 non-null   object        \n",
            " 10  Product    1278 non-null   object        \n",
            " 11  Format     1278 non-null   object        \n",
            " 12  Team       1303 non-null   object        \n",
            " 13  XO_num     157 non-null    float64       \n",
            " 14  XO_cat     157 non-null    object        \n",
            " 15  XO_type    157 non-null    object        \n",
            " 16  FTE_loss   1303 non-null   float64       \n",
            " 17  Form_min   1278 non-null   float64       \n",
            " 18  A1764      1278 non-null   float64       \n",
            " 19  PK2219     1278 non-null   float64       \n",
            " 20  PK2845     1278 non-null   float64       \n",
            " 21  PK4553     1278 non-null   float64       \n",
            " 22  Schubert   1278 non-null   float64       \n",
            " 23  K6316      1278 non-null   float64       \n",
            " 24  TP6839     1278 non-null   float64       \n",
            " 25  Boxes      1278 non-null   float64       \n",
            " 26  GE         1303 non-null   float64       \n",
            " 27  GE_loss    1303 non-null   float64       \n",
            " 28  Min_loss   1303 non-null   float64       \n",
            " 29  Machine    201 non-null    object        \n",
            " 30  Workpoint  200 non-null    object        \n",
            " 31  Comment    244 non-null    object        \n",
            "dtypes: datetime64[ns](1), float64(15), int64(1), object(15)\n",
            "memory usage: 538.3+ KB\n"
          ],
          "name": "stdout"
        }
      ]
    },
    {
      "cell_type": "code",
      "metadata": {
        "colab": {
          "base_uri": "https://localhost:8080/"
        },
        "id": "7N0yY1BBJRAS",
        "outputId": "4fb13d68-059a-4989-a1df-2f046da5ba5b"
      },
      "source": [
        "#Checking the dataframe index\n",
        "df.index[0], df.index[-1]"
      ],
      "execution_count": null,
      "outputs": [
        {
          "output_type": "execute_result",
          "data": {
            "text/plain": [
              "(Timestamp('2021-01-01 00:00:00'), Timestamp('2021-03-28 23:00:00'))"
            ]
          },
          "metadata": {
            "tags": []
          },
          "execution_count": 6
        }
      ]
    },
    {
      "cell_type": "code",
      "metadata": {
        "colab": {
          "base_uri": "https://localhost:8080/"
        },
        "id": "JXjF6ErruIw-",
        "outputId": "ddc79bb1-6154-4490-dcb7-f1de052c1909"
      },
      "source": [
        "#Checking the dataframe columns\n",
        "df.columns"
      ],
      "execution_count": null,
      "outputs": [
        {
          "output_type": "execute_result",
          "data": {
            "text/plain": [
              "Index(['Date', 'Hours', 'Weeknum', 'Weekday', 'Shift', 'S_num', 'State',\n",
              "       'T_loss', 'Mass', 'Group', 'Product', 'Format', 'Team', 'XO_num',\n",
              "       'XO_cat', 'XO_type', 'FTE_loss', 'Form_min', 'A1764', 'PK2219',\n",
              "       'PK2845', 'PK4553', 'Schubert', 'K6316', 'TP6839', 'Boxes', 'GE',\n",
              "       'GE_loss', 'Min_loss', 'Machine', 'Workpoint', 'Comment'],\n",
              "      dtype='object')"
            ]
          },
          "metadata": {
            "tags": []
          },
          "execution_count": 7
        }
      ]
    },
    {
      "cell_type": "markdown",
      "metadata": {
        "id": "MZRW7szgJRAU"
      },
      "source": [
        "## Data slicing and preparation"
      ]
    },
    {
      "cell_type": "code",
      "metadata": {
        "id": "JzfNxCYaJRAU"
      },
      "source": [
        "#Filtering the dataframe to exclude Non operating time and no shift\n",
        "df = df[~df['State'].isin(['2_Legal_NOT', '3_No_Shift'])]\n",
        "df = df.drop(columns = ['XO_num', 'XO_cat', 'XO_type', 'FTE_loss', 'Form_min', 'A1764', 'PK2219', 'PK2845','PK4553', 'Schubert', 'K6316', 'TP6839', 'Machine', 'Workpoint'], axis = 1)\n",
        "df.head(2)"
      ],
      "execution_count": null,
      "outputs": []
    },
    {
      "cell_type": "code",
      "metadata": {
        "id": "PbZkMiHSJRAV"
      },
      "source": [
        "#Filtering the dataframe to select only Sanitation activities\n",
        "df_sn = df[df['State'].isin(['8_Sanitation'])].copy()\n",
        "df_sn.tail(2)"
      ],
      "execution_count": null,
      "outputs": []
    },
    {
      "cell_type": "code",
      "metadata": {
        "colab": {
          "base_uri": "https://localhost:8080/"
        },
        "id": "rOqX6G4BJRAW",
        "outputId": "7c686f49-0f4a-4ef4-d009-1d12a1b4ba6f"
      },
      "source": [
        "#Filtering the dataframe to match the desired time slice\n",
        "s = '2021-01-04 07:00:00'\n",
        "f = '2021-03-23 07:00:00'\n",
        "sn = df_sn[s : f].copy()\n",
        "sn.reset_index(inplace = True)\n",
        "sn['Event'].iloc[-1]"
      ],
      "execution_count": null,
      "outputs": [
        {
          "output_type": "execute_result",
          "data": {
            "text/plain": [
              "Timestamp('2021-03-23 07:00:00')"
            ]
          },
          "metadata": {
            "tags": []
          },
          "execution_count": 32
        }
      ]
    },
    {
      "cell_type": "code",
      "metadata": {
        "colab": {
          "base_uri": "https://localhost:8080/"
        },
        "id": "5c3WshQZJRAX",
        "outputId": "7223c3e9-7153-4e92-9606-6fa16ff573a8"
      },
      "source": [
        "#Checking the dataframe information\n",
        "sn.info()"
      ],
      "execution_count": null,
      "outputs": [
        {
          "output_type": "stream",
          "text": [
            "<class 'pandas.core.frame.DataFrame'>\n",
            "RangeIndex: 146 entries, 0 to 145\n",
            "Data columns (total 19 columns):\n",
            " #   Column    Non-Null Count  Dtype         \n",
            "---  ------    --------------  -----         \n",
            " 0   Event     146 non-null    datetime64[ns]\n",
            " 1   Date      146 non-null    datetime64[ns]\n",
            " 2   Hours     146 non-null    object        \n",
            " 3   Weeknum   146 non-null    int64         \n",
            " 4   Weekday   146 non-null    object        \n",
            " 5   Shift     146 non-null    object        \n",
            " 6   S_num     146 non-null    float64       \n",
            " 7   State     146 non-null    object        \n",
            " 8   T_loss    146 non-null    object        \n",
            " 9   Mass      121 non-null    object        \n",
            " 10  Group     121 non-null    object        \n",
            " 11  Product   121 non-null    object        \n",
            " 12  Format    121 non-null    object        \n",
            " 13  Team      146 non-null    object        \n",
            " 14  Boxes     121 non-null    float64       \n",
            " 15  GE        146 non-null    float64       \n",
            " 16  GE_loss   146 non-null    float64       \n",
            " 17  Min_loss  146 non-null    float64       \n",
            " 18  Comment   33 non-null     object        \n",
            "dtypes: datetime64[ns](2), float64(5), int64(1), object(11)\n",
            "memory usage: 21.8+ KB\n"
          ],
          "name": "stdout"
        }
      ]
    },
    {
      "cell_type": "code",
      "metadata": {
        "id": "oiOYjG0gHFlZ"
      },
      "source": [
        "#Dropping rows where monthly cleaning was performed\n",
        "sn = sn[~sn['Mass'].isin([np.nan])]\n",
        "sn.reset_index(drop=True, inplace=True)\n",
        "sn.tail(2)"
      ],
      "execution_count": null,
      "outputs": []
    },
    {
      "cell_type": "code",
      "metadata": {
        "colab": {
          "base_uri": "https://localhost:8080/"
        },
        "id": "PPocrsInJRAY",
        "outputId": "88fc55fc-044d-437a-a4f3-287becabb6e7"
      },
      "source": [
        "#Checking final dataframe columns\n",
        "sn.columns"
      ],
      "execution_count": null,
      "outputs": [
        {
          "output_type": "execute_result",
          "data": {
            "text/plain": [
              "Index(['Event', 'Date', 'Hours', 'Weeknum', 'Weekday', 'Shift', 'S_num',\n",
              "       'State', 'T_loss', 'Mass', 'Group', 'Product', 'Format', 'Team',\n",
              "       'Boxes', 'GE', 'GE_loss', 'Min_loss', 'Comment'],\n",
              "      dtype='object')"
            ]
          },
          "metadata": {
            "tags": []
          },
          "execution_count": 36
        }
      ]
    },
    {
      "cell_type": "code",
      "metadata": {
        "id": "w00zZAQCJE_e"
      },
      "source": [
        "#Manipulating datetime to create categories from hours column\n",
        "sn = sn.assign(Hours = lambda x: x['Hours'].astype(str).str[:2]) #==> assign type string and use pandas.Series.str on the fly to slice the first 2 char..\n",
        "sn.tail()"
      ],
      "execution_count": null,
      "outputs": []
    },
    {
      "cell_type": "markdown",
      "metadata": {
        "id": "18rEiRiCKyiE"
      },
      "source": [
        "## Sanitation EDA"
      ]
    },
    {
      "cell_type": "code",
      "metadata": {
        "colab": {
          "base_uri": "https://localhost:8080/",
          "height": 402
        },
        "id": "BWD_twOIJRAa",
        "outputId": "a87be699-ee94-488e-c427-d4559b3d75fe"
      },
      "source": [
        "#Value counts of Categorical Hours\n",
        "sn_vc = sn.value_counts(subset=['Hours'], normalize=True).reset_index(name='Proportion')\n",
        "sn_vc"
      ],
      "execution_count": null,
      "outputs": [
        {
          "output_type": "execute_result",
          "data": {
            "text/html": [
              "<div>\n",
              "<style scoped>\n",
              "    .dataframe tbody tr th:only-of-type {\n",
              "        vertical-align: middle;\n",
              "    }\n",
              "\n",
              "    .dataframe tbody tr th {\n",
              "        vertical-align: top;\n",
              "    }\n",
              "\n",
              "    .dataframe thead th {\n",
              "        text-align: right;\n",
              "    }\n",
              "</style>\n",
              "<table border=\"1\" class=\"dataframe\">\n",
              "  <thead>\n",
              "    <tr style=\"text-align: right;\">\n",
              "      <th></th>\n",
              "      <th>Hours</th>\n",
              "      <th>Proportion</th>\n",
              "    </tr>\n",
              "  </thead>\n",
              "  <tbody>\n",
              "    <tr>\n",
              "      <th>0</th>\n",
              "      <td>15</td>\n",
              "      <td>0.330579</td>\n",
              "    </tr>\n",
              "    <tr>\n",
              "      <th>1</th>\n",
              "      <td>07</td>\n",
              "      <td>0.280992</td>\n",
              "    </tr>\n",
              "    <tr>\n",
              "      <th>2</th>\n",
              "      <td>23</td>\n",
              "      <td>0.247934</td>\n",
              "    </tr>\n",
              "    <tr>\n",
              "      <th>3</th>\n",
              "      <td>22</td>\n",
              "      <td>0.066116</td>\n",
              "    </tr>\n",
              "    <tr>\n",
              "      <th>4</th>\n",
              "      <td>17</td>\n",
              "      <td>0.016529</td>\n",
              "    </tr>\n",
              "    <tr>\n",
              "      <th>5</th>\n",
              "      <td>18</td>\n",
              "      <td>0.008264</td>\n",
              "    </tr>\n",
              "    <tr>\n",
              "      <th>6</th>\n",
              "      <td>16</td>\n",
              "      <td>0.008264</td>\n",
              "    </tr>\n",
              "    <tr>\n",
              "      <th>7</th>\n",
              "      <td>14</td>\n",
              "      <td>0.008264</td>\n",
              "    </tr>\n",
              "    <tr>\n",
              "      <th>8</th>\n",
              "      <td>13</td>\n",
              "      <td>0.008264</td>\n",
              "    </tr>\n",
              "    <tr>\n",
              "      <th>9</th>\n",
              "      <td>12</td>\n",
              "      <td>0.008264</td>\n",
              "    </tr>\n",
              "    <tr>\n",
              "      <th>10</th>\n",
              "      <td>11</td>\n",
              "      <td>0.008264</td>\n",
              "    </tr>\n",
              "    <tr>\n",
              "      <th>11</th>\n",
              "      <td>06</td>\n",
              "      <td>0.008264</td>\n",
              "    </tr>\n",
              "  </tbody>\n",
              "</table>\n",
              "</div>"
            ],
            "text/plain": [
              "   Hours  Proportion\n",
              "0     15    0.330579\n",
              "1     07    0.280992\n",
              "2     23    0.247934\n",
              "3     22    0.066116\n",
              "4     17    0.016529\n",
              "5     18    0.008264\n",
              "6     16    0.008264\n",
              "7     14    0.008264\n",
              "8     13    0.008264\n",
              "9     12    0.008264\n",
              "10    11    0.008264\n",
              "11    06    0.008264"
            ]
          },
          "metadata": {
            "tags": []
          },
          "execution_count": 40
        }
      ]
    },
    {
      "cell_type": "code",
      "metadata": {
        "colab": {
          "base_uri": "https://localhost:8080/",
          "height": 402
        },
        "id": "hw13PmvfJRAa",
        "outputId": "2d406a23-ce36-414e-b7b8-1f75dcead392"
      },
      "source": [
        "#Groupying by customized aggregation\n",
        "sn_gp = sn.groupby(['Hours']).agg({'Event': 'count', 'GE': 'mean', 'GE_loss': 'mean','Min_loss': 'sum'}).reset_index().sort_values(by='Min_loss', ascending=False)\n",
        "sn_gp = sn_gp.assign(Perc = lambda x: x['Min_loss']/x['Min_loss'].sum())\n",
        "sn_gp"
      ],
      "execution_count": null,
      "outputs": [
        {
          "output_type": "execute_result",
          "data": {
            "text/html": [
              "<div>\n",
              "<style scoped>\n",
              "    .dataframe tbody tr th:only-of-type {\n",
              "        vertical-align: middle;\n",
              "    }\n",
              "\n",
              "    .dataframe tbody tr th {\n",
              "        vertical-align: top;\n",
              "    }\n",
              "\n",
              "    .dataframe thead th {\n",
              "        text-align: right;\n",
              "    }\n",
              "</style>\n",
              "<table border=\"1\" class=\"dataframe\">\n",
              "  <thead>\n",
              "    <tr style=\"text-align: right;\">\n",
              "      <th></th>\n",
              "      <th>Hours</th>\n",
              "      <th>Event</th>\n",
              "      <th>GE</th>\n",
              "      <th>GE_loss</th>\n",
              "      <th>Min_loss</th>\n",
              "      <th>Perc</th>\n",
              "    </tr>\n",
              "  </thead>\n",
              "  <tbody>\n",
              "    <tr>\n",
              "      <th>6</th>\n",
              "      <td>15</td>\n",
              "      <td>40</td>\n",
              "      <td>45.041578</td>\n",
              "      <td>54.958422</td>\n",
              "      <td>1319.002133</td>\n",
              "      <td>0.412484</td>\n",
              "    </tr>\n",
              "    <tr>\n",
              "      <th>1</th>\n",
              "      <td>07</td>\n",
              "      <td>34</td>\n",
              "      <td>60.568707</td>\n",
              "      <td>39.431293</td>\n",
              "      <td>804.398380</td>\n",
              "      <td>0.251555</td>\n",
              "    </tr>\n",
              "    <tr>\n",
              "      <th>11</th>\n",
              "      <td>23</td>\n",
              "      <td>30</td>\n",
              "      <td>79.092664</td>\n",
              "      <td>20.907336</td>\n",
              "      <td>376.332040</td>\n",
              "      <td>0.117688</td>\n",
              "    </tr>\n",
              "    <tr>\n",
              "      <th>10</th>\n",
              "      <td>22</td>\n",
              "      <td>8</td>\n",
              "      <td>67.088453</td>\n",
              "      <td>32.911547</td>\n",
              "      <td>157.975426</td>\n",
              "      <td>0.049403</td>\n",
              "    </tr>\n",
              "    <tr>\n",
              "      <th>8</th>\n",
              "      <td>17</td>\n",
              "      <td>2</td>\n",
              "      <td>0.000000</td>\n",
              "      <td>100.000000</td>\n",
              "      <td>120.000000</td>\n",
              "      <td>0.037527</td>\n",
              "    </tr>\n",
              "    <tr>\n",
              "      <th>0</th>\n",
              "      <td>06</td>\n",
              "      <td>1</td>\n",
              "      <td>0.000000</td>\n",
              "      <td>100.000000</td>\n",
              "      <td>60.000000</td>\n",
              "      <td>0.018763</td>\n",
              "    </tr>\n",
              "    <tr>\n",
              "      <th>2</th>\n",
              "      <td>11</td>\n",
              "      <td>1</td>\n",
              "      <td>0.000000</td>\n",
              "      <td>100.000000</td>\n",
              "      <td>60.000000</td>\n",
              "      <td>0.018763</td>\n",
              "    </tr>\n",
              "    <tr>\n",
              "      <th>3</th>\n",
              "      <td>12</td>\n",
              "      <td>1</td>\n",
              "      <td>0.000000</td>\n",
              "      <td>100.000000</td>\n",
              "      <td>60.000000</td>\n",
              "      <td>0.018763</td>\n",
              "    </tr>\n",
              "    <tr>\n",
              "      <th>4</th>\n",
              "      <td>13</td>\n",
              "      <td>1</td>\n",
              "      <td>0.000000</td>\n",
              "      <td>100.000000</td>\n",
              "      <td>60.000000</td>\n",
              "      <td>0.018763</td>\n",
              "    </tr>\n",
              "    <tr>\n",
              "      <th>5</th>\n",
              "      <td>14</td>\n",
              "      <td>1</td>\n",
              "      <td>0.000000</td>\n",
              "      <td>100.000000</td>\n",
              "      <td>60.000000</td>\n",
              "      <td>0.018763</td>\n",
              "    </tr>\n",
              "    <tr>\n",
              "      <th>7</th>\n",
              "      <td>16</td>\n",
              "      <td>1</td>\n",
              "      <td>0.000000</td>\n",
              "      <td>100.000000</td>\n",
              "      <td>60.000000</td>\n",
              "      <td>0.018763</td>\n",
              "    </tr>\n",
              "    <tr>\n",
              "      <th>9</th>\n",
              "      <td>18</td>\n",
              "      <td>1</td>\n",
              "      <td>0.000000</td>\n",
              "      <td>100.000000</td>\n",
              "      <td>60.000000</td>\n",
              "      <td>0.018763</td>\n",
              "    </tr>\n",
              "  </tbody>\n",
              "</table>\n",
              "</div>"
            ],
            "text/plain": [
              "   Hours  Event         GE     GE_loss     Min_loss      Perc\n",
              "6     15     40  45.041578   54.958422  1319.002133  0.412484\n",
              "1     07     34  60.568707   39.431293   804.398380  0.251555\n",
              "11    23     30  79.092664   20.907336   376.332040  0.117688\n",
              "10    22      8  67.088453   32.911547   157.975426  0.049403\n",
              "8     17      2   0.000000  100.000000   120.000000  0.037527\n",
              "0     06      1   0.000000  100.000000    60.000000  0.018763\n",
              "2     11      1   0.000000  100.000000    60.000000  0.018763\n",
              "3     12      1   0.000000  100.000000    60.000000  0.018763\n",
              "4     13      1   0.000000  100.000000    60.000000  0.018763\n",
              "5     14      1   0.000000  100.000000    60.000000  0.018763\n",
              "7     16      1   0.000000  100.000000    60.000000  0.018763\n",
              "9     18      1   0.000000  100.000000    60.000000  0.018763"
            ]
          },
          "metadata": {
            "tags": []
          },
          "execution_count": 43
        }
      ]
    },
    {
      "cell_type": "code",
      "metadata": {
        "colab": {
          "base_uri": "https://localhost:8080/",
          "height": 326
        },
        "id": "LJ4rBEMQM2QA",
        "outputId": "4a9bdbc7-5ca9-4217-8e6d-354a5e93890f"
      },
      "source": [
        "#Plotting the hours loss vs each hour of the day\n",
        "sns.catplot(x='Hours', y='GE_loss', data=sn_gp.head(4), ci=False, kind='bar', height=4, aspect=1.5)\n",
        "plt.title('%GE Loss for Sanitation activities during production hours')\n",
        "plt.xlabel('Hours'), plt.ylabel('%GE Loss')\n",
        "plt.show()"
      ],
      "execution_count": null,
      "outputs": [
        {
          "output_type": "display_data",
          "data": {
            "image/png": "[encoded data removed]",
            "text/plain": [
              "<Figure size 432x288 with 1 Axes>"
            ]
          },
          "metadata": {
            "tags": []
          }
        }
      ]
    },
    {
      "cell_type": "code",
      "metadata": {
        "colab": {
          "base_uri": "https://localhost:8080/",
          "height": 17
        },
        "id": "sZJAo4f_JRAc",
        "outputId": "3699f90c-3a5a-4ab4-efbc-2340ca4ed80a"
      },
      "source": [
        "#Exporting to excel into local disk\n",
        "from google.colab import files\n",
        "xo_gp.to_excel('c_over_group_2021.xlsx', index=False) #==> Excluding index from file\n",
        "files.download('c_over_group_2021.xlsx')"
      ],
      "execution_count": null,
      "outputs": [
        {
          "output_type": "display_data",
          "data": {
            "application/javascript": [
              "\n",
              "    async function download(id, filename, size) {\n",
              "      if (!google.colab.kernel.accessAllowed) {\n",
              "        return;\n",
              "      }\n",
              "      const div = document.createElement('div');\n",
              "      const label = document.createElement('label');\n",
              "      label.textContent = `Downloading \"${filename}\": `;\n",
              "      div.appendChild(label);\n",
              "      const progress = document.createElement('progress');\n",
              "      progress.max = size;\n",
              "      div.appendChild(progress);\n",
              "      document.body.appendChild(div);\n",
              "\n",
              "      const buffers = [];\n",
              "      let downloaded = 0;\n",
              "\n",
              "      const channel = await google.colab.kernel.comms.open(id);\n",
              "      // Send a message to notify the kernel that we're ready.\n",
              "      channel.send({})\n",
              "\n",
              "      for await (const message of channel.messages) {\n",
              "        // Send a message to notify the kernel that we're ready.\n",
              "        channel.send({})\n",
              "        if (message.buffers) {\n",
              "          for (const buffer of message.buffers) {\n",
              "            buffers.push(buffer);\n",
              "            downloaded += buffer.byteLength;\n",
              "            progress.value = downloaded;\n",
              "          }\n",
              "        }\n",
              "      }\n",
              "      const blob = new Blob(buffers, {type: 'application/binary'});\n",
              "      const a = document.createElement('a');\n",
              "      a.href = window.URL.createObjectURL(blob);\n",
              "      a.download = filename;\n",
              "      div.appendChild(a);\n",
              "      a.click();\n",
              "      div.remove();\n",
              "    }\n",
              "  "
            ],
            "text/plain": [
              "<IPython.core.display.Javascript object>"
            ]
          },
          "metadata": {
            "tags": []
          }
        },
        {
          "output_type": "display_data",
          "data": {
            "application/javascript": [
              "download(\"download_88b6b207-d43c-4a20-936e-d6e9fb9c0275\", \"c_over_group_2021.xlsx\", 5320)"
            ],
            "text/plain": [
              "<IPython.core.display.Javascript object>"
            ]
          },
          "metadata": {
            "tags": []
          }
        }
      ]
    },
    {
      "cell_type": "markdown",
      "metadata": {
        "id": "aaxue8PKU6ud"
      },
      "source": [
        "## Planned Stop EDA (Bonus)"
      ]
    },
    {
      "cell_type": "code",
      "metadata": {
        "id": "uOYFLgJ8TjgX"
      },
      "source": [
        "#Filtering the dataframe to match Planned Stops activities\n",
        "df_ps = df[df['State'].isin(['10_Planned_Stop'])].copy()"
      ],
      "execution_count": null,
      "outputs": []
    },
    {
      "cell_type": "code",
      "metadata": {
        "colab": {
          "base_uri": "https://localhost:8080/",
          "height": 225
        },
        "id": "Bhj17_HYTuFm",
        "outputId": "032a89de-b751-4c89-f205-f10cf72d79a0"
      },
      "source": [
        "#Value counts of Categorical Hours\n",
        "plan = df_ps.value_counts(subset=['Hours'], normalize=True).reset_index(name='Proportion')\n",
        "plan"
      ],
      "execution_count": null,
      "outputs": [
        {
          "output_type": "execute_result",
          "data": {
            "text/html": [
              "<div>\n",
              "<style scoped>\n",
              "    .dataframe tbody tr th:only-of-type {\n",
              "        vertical-align: middle;\n",
              "    }\n",
              "\n",
              "    .dataframe tbody tr th {\n",
              "        vertical-align: top;\n",
              "    }\n",
              "\n",
              "    .dataframe thead th {\n",
              "        text-align: right;\n",
              "    }\n",
              "</style>\n",
              "<table border=\"1\" class=\"dataframe\">\n",
              "  <thead>\n",
              "    <tr style=\"text-align: right;\">\n",
              "      <th></th>\n",
              "      <th>Hours</th>\n",
              "      <th>Proportion</th>\n",
              "    </tr>\n",
              "  </thead>\n",
              "  <tbody>\n",
              "    <tr>\n",
              "      <th>0</th>\n",
              "      <td>04:00:00</td>\n",
              "      <td>0.464286</td>\n",
              "    </tr>\n",
              "    <tr>\n",
              "      <th>1</th>\n",
              "      <td>09:00:00</td>\n",
              "      <td>0.357143</td>\n",
              "    </tr>\n",
              "    <tr>\n",
              "      <th>2</th>\n",
              "      <td>03:00:00</td>\n",
              "      <td>0.071429</td>\n",
              "    </tr>\n",
              "    <tr>\n",
              "      <th>3</th>\n",
              "      <td>16:00:00</td>\n",
              "      <td>0.035714</td>\n",
              "    </tr>\n",
              "    <tr>\n",
              "      <th>4</th>\n",
              "      <td>15:00:00</td>\n",
              "      <td>0.035714</td>\n",
              "    </tr>\n",
              "    <tr>\n",
              "      <th>5</th>\n",
              "      <td>02:00:00</td>\n",
              "      <td>0.035714</td>\n",
              "    </tr>\n",
              "  </tbody>\n",
              "</table>\n",
              "</div>"
            ],
            "text/plain": [
              "      Hours  Proportion\n",
              "0  04:00:00    0.464286\n",
              "1  09:00:00    0.357143\n",
              "2  03:00:00    0.071429\n",
              "3  16:00:00    0.035714\n",
              "4  15:00:00    0.035714\n",
              "5  02:00:00    0.035714"
            ]
          },
          "metadata": {
            "tags": []
          },
          "execution_count": 59
        }
      ]
    },
    {
      "cell_type": "markdown",
      "metadata": {
        "id": "mQNKk6IlJOiF"
      },
      "source": [
        "# Stoppages EDA"
      ]
    },
    {
      "cell_type": "code",
      "metadata": {
        "colab": {
          "resources": {
            "http://localhost:8080/nbextensions/google.colab/files.js": {
              "data": "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",
              "ok": true,
              "headers": [
                [
                  "content-type",
                  "application/javascript"
                ]
              ],
              "status": 200,
              "status_text": "OK"
            }
          },
          "base_uri": "https://localhost:8080/",
          "height": 73
        },
        "id": "VGB7CU7yepJE",
        "outputId": "6dc458a9-c267-4c1b-e962-150c8125c5dd"
      },
      "source": [
        "#Uploading file from local drive\n",
        "from google.colab import files\n",
        "uploaded = files.upload()"
      ],
      "execution_count": null,
      "outputs": [
        {
          "output_type": "display_data",
          "data": {
            "text/html": [
              "\n",
              "     <input type=\"file\" id=\"files-3dac92ca-ed37-4350-b1d4-1bc1faceb3af\" name=\"files[]\" multiple disabled\n",
              "        style=\"border:none\" />\n",
              "     <output id=\"result-3dac92ca-ed37-4350-b1d4-1bc1faceb3af\">\n",
              "      Upload widget is only available when the cell has been executed in the\n",
              "      current browser session. Please rerun this cell to enable.\n",
              "      </output>\n",
              "      <script src=\"/nbextensions/google.colab/files.js\"></script> "
            ],
            "text/plain": [
              "<IPython.core.display.HTML object>"
            ]
          },
          "metadata": {
            "tags": []
          }
        },
        {
          "output_type": "stream",
          "text": [
            "Saving mod4_Tracker_2021.xlsx to mod4_Tracker_2021.xlsx\n"
          ],
          "name": "stdout"
        }
      ]
    },
    {
      "cell_type": "code",
      "metadata": {
        "id": "7YClu0-UepJj"
      },
      "source": [
        "#Storing dataset in a Pandas Dataframe\n",
        "import io\n",
        "tracker = pd.read_excel(io.BytesIO(uploaded['mod4_Tracker_2021.xlsx']))"
      ],
      "execution_count": null,
      "outputs": []
    },
    {
      "cell_type": "code",
      "metadata": {
        "colab": {
          "base_uri": "https://localhost:8080/"
        },
        "id": "1hv-_1phfR8B",
        "outputId": "f026d1f1-19e1-4b27-8e44-67c952f18b9c"
      },
      "source": [
        "#Checking the dataframe information and data types\n",
        "tracker.info()"
      ],
      "execution_count": null,
      "outputs": [
        {
          "output_type": "stream",
          "text": [
            "<class 'pandas.core.frame.DataFrame'>\n",
            "RangeIndex: 150 entries, 0 to 149\n",
            "Data columns (total 14 columns):\n",
            " #   Column       Non-Null Count  Dtype         \n",
            "---  ------       --------------  -----         \n",
            " 0   Date         150 non-null    datetime64[ns]\n",
            " 1   Month        150 non-null    int64         \n",
            " 2   Shift        150 non-null    object        \n",
            " 3   Group        150 non-null    object        \n",
            " 4   Product      150 non-null    object        \n",
            " 5   Format       150 non-null    object        \n",
            " 6   Name         150 non-null    object        \n",
            " 7   Start        150 non-null    object        \n",
            " 8   Last seen    150 non-null    object        \n",
            " 9   Machine      150 non-null    object        \n",
            " 10  Work Point   150 non-null    object        \n",
            " 11  Min          150 non-null    float64       \n",
            " 12  Observation  133 non-null    object        \n",
            " 13  Solution     19 non-null     object        \n",
            "dtypes: datetime64[ns](1), float64(1), int64(1), object(11)\n",
            "memory usage: 16.5+ KB\n"
          ],
          "name": "stdout"
        }
      ]
    },
    {
      "cell_type": "code",
      "metadata": {
        "colab": {
          "base_uri": "https://localhost:8080/",
          "height": 432
        },
        "id": "lXsYAXFKiLRU",
        "outputId": "0ed497ea-d844-4fac-8de9-c59bbcffd27c"
      },
      "source": [
        "#Creating a reduction of the higher stoppages by Machine\n",
        "tracker[['Machine', 'Min']].groupby('Machine').sum().sort_values(by=['Min'], ascending=False)"
      ],
      "execution_count": null,
      "outputs": [
        {
          "output_type": "execute_result",
          "data": {
            "text/html": [
              "<div>\n",
              "<style scoped>\n",
              "    .dataframe tbody tr th:only-of-type {\n",
              "        vertical-align: middle;\n",
              "    }\n",
              "\n",
              "    .dataframe tbody tr th {\n",
              "        vertical-align: top;\n",
              "    }\n",
              "\n",
              "    .dataframe thead th {\n",
              "        text-align: right;\n",
              "    }\n",
              "</style>\n",
              "<table border=\"1\" class=\"dataframe\">\n",
              "  <thead>\n",
              "    <tr style=\"text-align: right;\">\n",
              "      <th></th>\n",
              "      <th>Min</th>\n",
              "    </tr>\n",
              "    <tr>\n",
              "      <th>Machine</th>\n",
              "      <th></th>\n",
              "    </tr>\n",
              "  </thead>\n",
              "  <tbody>\n",
              "    <tr>\n",
              "      <th>Moulding_line</th>\n",
              "      <td>5942.811372</td>\n",
              "    </tr>\n",
              "    <tr>\n",
              "      <th>Choco_process_area</th>\n",
              "      <td>1410.000000</td>\n",
              "    </tr>\n",
              "    <tr>\n",
              "      <th>Two_pack_Flow_pack</th>\n",
              "      <td>800.000000</td>\n",
              "    </tr>\n",
              "    <tr>\n",
              "      <th>Packaging_machine_2</th>\n",
              "      <td>456.000000</td>\n",
              "    </tr>\n",
              "    <tr>\n",
              "      <th>Two_pack_Lid_applicator</th>\n",
              "      <td>424.000000</td>\n",
              "    </tr>\n",
              "    <tr>\n",
              "      <th>Packaging_machine_1</th>\n",
              "      <td>299.880000</td>\n",
              "    </tr>\n",
              "    <tr>\n",
              "      <th>Palletizer</th>\n",
              "      <td>140.000000</td>\n",
              "    </tr>\n",
              "    <tr>\n",
              "      <th>Single_CW</th>\n",
              "      <td>90.000000</td>\n",
              "    </tr>\n",
              "    <tr>\n",
              "      <th>Single_Case_erector</th>\n",
              "      <td>80.000000</td>\n",
              "    </tr>\n",
              "    <tr>\n",
              "      <th>Schubert_robot</th>\n",
              "      <td>70.000000</td>\n",
              "    </tr>\n",
              "    <tr>\n",
              "      <th>Single_Elevator</th>\n",
              "      <td>30.000000</td>\n",
              "    </tr>\n",
              "    <tr>\n",
              "      <th>Single_Lid_applicator</th>\n",
              "      <td>30.000000</td>\n",
              "    </tr>\n",
              "  </tbody>\n",
              "</table>\n",
              "</div>"
            ],
            "text/plain": [
              "                                 Min\n",
              "Machine                             \n",
              "Moulding_line            5942.811372\n",
              "Choco_process_area       1410.000000\n",
              "Two_pack_Flow_pack        800.000000\n",
              "Packaging_machine_2       456.000000\n",
              "Two_pack_Lid_applicator   424.000000\n",
              "Packaging_machine_1       299.880000\n",
              "Palletizer                140.000000\n",
              "Single_CW                  90.000000\n",
              "Single_Case_erector        80.000000\n",
              "Schubert_robot             70.000000\n",
              "Single_Elevator            30.000000\n",
              "Single_Lid_applicator      30.000000"
            ]
          },
          "metadata": {
            "tags": []
          },
          "execution_count": 19
        }
      ]
    },
    {
      "cell_type": "code",
      "metadata": {
        "colab": {
          "base_uri": "https://localhost:8080/",
          "height": 741
        },
        "id": "S1665B-ofq2Y",
        "outputId": "13f9ccd2-d2fc-43b0-f256-57f43a4423bf"
      },
      "source": [
        "#Checking the stoppages by machine and shift\n",
        "g8 = sns.relplot(x='Date', y='Min', data=tracker[tracker['Machine'] == 'Moulding_line'], hue='Shift', row='Format', s=120, aspect=2.5)\n",
        "plt.subplots_adjust(top=0.90)\n",
        "g8.fig.suptitle('Moulding Line stoppages by Shift and Format')\n",
        "plt.show()"
      ],
      "execution_count": null,
      "outputs": [
        {
          "output_type": "display_data",
          "data": {
            "image/png": "[encoded data removed]",
            "text/plain": [
              "<Figure size 993.6x720 with 2 Axes>"
            ]
          },
          "metadata": {
            "tags": []
          }
        }
      ]
    },
    {
      "cell_type": "code",
      "metadata": {
        "colab": {
          "base_uri": "https://localhost:8080/",
          "height": 35
        },
        "id": "s9CTv76AQtpT",
        "outputId": "92d88bb4-a961-49d8-a473-b298f8153350"
      },
      "source": [
        "%pwd"
      ],
      "execution_count": null,
      "outputs": [
        {
          "output_type": "execute_result",
          "data": {
            "application/vnd.google.colaboratory.intrinsic+json": {
              "type": "string"
            },
            "text/plain": [
              "'/content'"
            ]
          },
          "metadata": {
            "tags": []
          },
          "execution_count": 37
        }
      ]
    },
    {
      "cell_type": "code",
      "metadata": {
        "colab": {
          "base_uri": "https://localhost:8080/"
        },
        "id": "avHd7kGoQ32C",
        "outputId": "c417cf24-5b66-4c8e-c393-b2c0642e5c5c"
      },
      "source": [
        "%timeit range(1000)"
      ],
      "execution_count": null,
      "outputs": [
        {
          "output_type": "stream",
          "text": [
            "The slowest run took 12.27 times longer than the fastest. This could mean that an intermediate result is being cached.\n",
            "1000000 loops, best of 3: 217 ns per loop\n"
          ],
          "name": "stdout"
        }
      ]
    },
    {
      "cell_type": "markdown",
      "metadata": {
        "id": "6Y9KujfPgXLa"
      },
      "source": [
        "#GE Analysis"
      ]
    },
    {
      "cell_type": "markdown",
      "metadata": {
        "id": "NAur2G65mjyI"
      },
      "source": [
        "##Uploading data"
      ]
    },
    {
      "cell_type": "code",
      "metadata": {
        "id": "Y-9UmE9FmgY-"
      },
      "source": [
        "#Import scipy\n",
        "from scipy.stats import linregress"
      ],
      "execution_count": null,
      "outputs": []
    },
    {
      "cell_type": "code",
      "metadata": {
        "id": "ga77YrvAlIDx"
      },
      "source": [
        "#Remove previous versions of the uploaded excel file\n",
        "!rm 2021_j4_grouped.xlsx"
      ],
      "execution_count": null,
      "outputs": []
    },
    {
      "cell_type": "code",
      "metadata": {
        "colab": {
          "resources": {
            "http://localhost:8080/nbextensions/google.colab/files.js": {
              "data": "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",
              "ok": true,
              "headers": [
                [
                  "content-type",
                  "application/javascript"
                ]
              ],
              "status": 200,
              "status_text": "OK"
            }
          },
          "base_uri": "https://localhost:8080/",
          "height": 73
        },
        "id": "PXTCLyiVgjip",
        "outputId": "d84d1151-2227-4cb1-d8b6-fdb7c7c899d1"
      },
      "source": [
        "#Uploading file from local drive\n",
        "from google.colab import files\n",
        "uploaded = files.upload()"
      ],
      "execution_count": null,
      "outputs": [
        {
          "output_type": "display_data",
          "data": {
            "text/html": [
              "\n",
              "     <input type=\"file\" id=\"files-6303ef32-6204-4c56-a377-ff042ecf231b\" name=\"files[]\" multiple disabled\n",
              "        style=\"border:none\" />\n",
              "     <output id=\"result-6303ef32-6204-4c56-a377-ff042ecf231b\">\n",
              "      Upload widget is only available when the cell has been executed in the\n",
              "      current browser session. Please rerun this cell to enable.\n",
              "      </output>\n",
              "      <script src=\"/nbextensions/google.colab/files.js\"></script> "
            ],
            "text/plain": [
              "<IPython.core.display.HTML object>"
            ]
          },
          "metadata": {
            "tags": []
          }
        },
        {
          "output_type": "stream",
          "text": [
            "Saving 2021_j4_grouped.xlsx to 2021_j4_grouped.xlsx\n"
          ],
          "name": "stdout"
        }
      ]
    },
    {
      "cell_type": "code",
      "metadata": {
        "id": "FQfaLUldgjiy"
      },
      "source": [
        "#Storing dataset in a Pandas Dataframe\n",
        "import io\n",
        "j4g = pd.read_excel(io.BytesIO(uploaded['2021_j4_grouped.xlsx']))"
      ],
      "execution_count": null,
      "outputs": []
    },
    {
      "cell_type": "code",
      "metadata": {
        "colab": {
          "base_uri": "https://localhost:8080/"
        },
        "id": "yQyn7sdVg0yy",
        "outputId": "e2612905-51be-47e8-fb85-4f43c94cad5b"
      },
      "source": [
        "#Checking the dataframe info\n",
        "j4g.info()"
      ],
      "execution_count": null,
      "outputs": [
        {
          "output_type": "stream",
          "text": [
            "<class 'pandas.core.frame.DataFrame'>\n",
            "RangeIndex: 295 entries, 0 to 294\n",
            "Data columns (total 24 columns):\n",
            " #   Column    Non-Null Count  Dtype         \n",
            "---  ------    --------------  -----         \n",
            " 0   Date      295 non-null    datetime64[ns]\n",
            " 1   Variant   295 non-null    int64         \n",
            " 2   Weeknum   295 non-null    int64         \n",
            " 3   S_num     295 non-null    int64         \n",
            " 4   Shift     295 non-null    object        \n",
            " 5   Mass      295 non-null    object        \n",
            " 6   Group     295 non-null    object        \n",
            " 7   Product   295 non-null    object        \n",
            " 8   Format    295 non-null    object        \n",
            " 9   Form_min  295 non-null    float64       \n",
            " 10  Hours     295 non-null    int64         \n",
            " 11  Boxes     295 non-null    int64         \n",
            " 12  GE        295 non-null    float64       \n",
            " 13  GE_loss   295 non-null    float64       \n",
            " 14  Min_loss  295 non-null    float64       \n",
            " 15  A1764     295 non-null    float64       \n",
            " 16  PK2219    295 non-null    float64       \n",
            " 17  PK2845    295 non-null    float64       \n",
            " 18  PK4553    295 non-null    float64       \n",
            " 19  Schubert  295 non-null    float64       \n",
            " 20  K6316     295 non-null    float64       \n",
            " 21  TP6839    295 non-null    float64       \n",
            " 22  Kr_loss   295 non-null    float64       \n",
            " 23  Comment   59 non-null     object        \n",
            "dtypes: datetime64[ns](1), float64(12), int64(5), object(6)\n",
            "memory usage: 55.4+ KB\n"
          ],
          "name": "stdout"
        }
      ]
    },
    {
      "cell_type": "markdown",
      "metadata": {
        "id": "j_dLAoCNhVYA"
      },
      "source": [
        "##GE EDA"
      ]
    },
    {
      "cell_type": "code",
      "metadata": {
        "colab": {
          "base_uri": "https://localhost:8080/",
          "height": 195
        },
        "id": "zL-wQJLIljs5",
        "outputId": "51264a3b-acbc-4f4f-a6b2-3200550feb99"
      },
      "source": [
        "#Groupby week and average GE\n",
        "ge_df = j4g.groupby(['Weeknum']).agg({'GE': 'mean'}).reset_index()\n",
        "ge_df.head()"
      ],
      "execution_count": null,
      "outputs": [
        {
          "output_type": "execute_result",
          "data": {
            "text/html": [
              "<div>\n",
              "<style scoped>\n",
              "    .dataframe tbody tr th:only-of-type {\n",
              "        vertical-align: middle;\n",
              "    }\n",
              "\n",
              "    .dataframe tbody tr th {\n",
              "        vertical-align: top;\n",
              "    }\n",
              "\n",
              "    .dataframe thead th {\n",
              "        text-align: right;\n",
              "    }\n",
              "</style>\n",
              "<table border=\"1\" class=\"dataframe\">\n",
              "  <thead>\n",
              "    <tr style=\"text-align: right;\">\n",
              "      <th></th>\n",
              "      <th>Weeknum</th>\n",
              "      <th>GE</th>\n",
              "    </tr>\n",
              "  </thead>\n",
              "  <tbody>\n",
              "    <tr>\n",
              "      <th>0</th>\n",
              "      <td>1</td>\n",
              "      <td>64.451239</td>\n",
              "    </tr>\n",
              "    <tr>\n",
              "      <th>1</th>\n",
              "      <td>2</td>\n",
              "      <td>55.148831</td>\n",
              "    </tr>\n",
              "    <tr>\n",
              "      <th>2</th>\n",
              "      <td>3</td>\n",
              "      <td>58.820926</td>\n",
              "    </tr>\n",
              "    <tr>\n",
              "      <th>3</th>\n",
              "      <td>4</td>\n",
              "      <td>57.359118</td>\n",
              "    </tr>\n",
              "    <tr>\n",
              "      <th>4</th>\n",
              "      <td>5</td>\n",
              "      <td>55.653599</td>\n",
              "    </tr>\n",
              "  </tbody>\n",
              "</table>\n",
              "</div>"
            ],
            "text/plain": [
              "   Weeknum         GE\n",
              "0        1  64.451239\n",
              "1        2  55.148831\n",
              "2        3  58.820926\n",
              "3        4  57.359118\n",
              "4        5  55.653599"
            ]
          },
          "metadata": {
            "tags": []
          },
          "execution_count": 51
        }
      ]
    },
    {
      "cell_type": "code",
      "metadata": {
        "id": "Uqmy3bfChNNp"
      },
      "source": [
        "#Create a function to predict GE to the end of the year\n",
        "def ge_plot():\n",
        "  \n",
        "  #Create arrays for plotting\n",
        "  x = np.array(ge_df['Weeknum'])\n",
        "  y = np.array(ge_df['GE'])\n",
        "  \n",
        "  #Create scatter plot\n",
        "  fig, ax = plt.subplots(nrows=1, ncols=1, figsize=(16,6))\n",
        "  ax.scatter(x, y, label='scatter')\n",
        "  \n",
        "  #Create first line of best fit\n",
        "  x_52 = np.arange(1, 52)\n",
        "  lreg_1 = linregress(x, y)\n",
        "  lreg_52 = 'fitted-line: ' + str(round((lreg_1.slope*52 + lreg_1.intercept),1))\n",
        "  ax.plot(x_52, lreg_1.slope*x_52 + lreg_1.intercept, 'r' , label=lreg_52)\n",
        "\n",
        "  #Add labels and title\n",
        "  ax.set_title('2021 J4 GE by Weeknum')\n",
        "  ax.set_xlabel('Weeknum')\n",
        "  ax.set_ylabel('Average GE%')\n",
        "  ax.xaxis.set_ticks(np.arange(1, 52, 1))\n",
        "  ax.yaxis.set_ticks(np.arange(0, 100, 5))\n",
        "  ax.legend()\n",
        "\n",
        "  return fig"
      ],
      "execution_count": null,
      "outputs": []
    },
    {
      "cell_type": "code",
      "metadata": {
        "colab": {
          "base_uri": "https://localhost:8080/",
          "height": 410
        },
        "id": "2Xc-GU7dkQPv",
        "outputId": "abe66e68-9e35-40a6-c755-19b834973771"
      },
      "source": [
        "#Call the function and draw the scatter plot to predict sea level\n",
        "ge_plot()\n",
        "plt.show()"
      ],
      "execution_count": null,
      "outputs": [
        {
          "output_type": "display_data",
          "data": {
            "image/png": "[encoded data removed]",
            "text/plain": [
              "<Figure size 1152x432 with 1 Axes>"
            ]
          },
          "metadata": {
            "tags": []
          }
        }
      ]
    },
    {
      "cell_type": "markdown",
      "metadata": {
        "id": "0Mobjv_LR7XC"
      },
      "source": [
        "#Lost volume (packing from grey boxes)\n",
        "\n"
      ]
    },
    {
      "cell_type": "markdown",
      "metadata": {
        "id": "xxBHwKnbSAFH"
      },
      "source": [
        "## Uploading necessary packages"
      ]
    },
    {
      "cell_type": "code",
      "metadata": {
        "id": "PkdLlejYSAFI"
      },
      "source": [
        "#Remove previous versions of the uploaded excel file\n",
        "!rm 2021_j4_pakker_fra_kasser.xlsx"
      ],
      "execution_count": null,
      "outputs": []
    },
    {
      "cell_type": "code",
      "metadata": {
        "colab": {
          "resources": {
            "http://localhost:8080/nbextensions/google.colab/files.js": {
              "data": "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",
              "ok": true,
              "headers": [
                [
                  "content-type",
                  "application/javascript"
                ]
              ],
              "status": 200,
              "status_text": "OK"
            }
          },
          "base_uri": "https://localhost:8080/",
          "height": 73
        },
        "id": "vVZEm4rtSAFK",
        "outputId": "b0a95f61-0c0c-4da0-c3a1-46357457f46a"
      },
      "source": [
        "#Uploading file from local drive ==> !rm file\n",
        "from google.colab import files\n",
        "uploaded5 = files.upload()"
      ],
      "execution_count": null,
      "outputs": [
        {
          "output_type": "display_data",
          "data": {
            "text/html": [
              "\n",
              "     <input type=\"file\" id=\"files-ac6d7322-3efe-47c4-bad8-d51dcc3ce541\" name=\"files[]\" multiple disabled\n",
              "        style=\"border:none\" />\n",
              "     <output id=\"result-ac6d7322-3efe-47c4-bad8-d51dcc3ce541\">\n",
              "      Upload widget is only available when the cell has been executed in the\n",
              "      current browser session. Please rerun this cell to enable.\n",
              "      </output>\n",
              "      <script src=\"/nbextensions/google.colab/files.js\"></script> "
            ],
            "text/plain": [
              "<IPython.core.display.HTML object>"
            ]
          },
          "metadata": {
            "tags": []
          }
        },
        {
          "output_type": "stream",
          "text": [
            "Saving 2021_j4_pakker_fra_kasser.xlsx to 2021_j4_pakker_fra_kasser.xlsx\n"
          ],
          "name": "stdout"
        }
      ]
    },
    {
      "cell_type": "code",
      "metadata": {
        "id": "p5zbx_wESAFM"
      },
      "source": [
        "#Storing dataset in a Pandas Dataframe\n",
        "import io\n",
        "df5 = pd.read_excel(io.BytesIO(uploaded5['2021_j4_pakker_fra_kasser.xlsx']))"
      ],
      "execution_count": null,
      "outputs": []
    },
    {
      "cell_type": "code",
      "metadata": {
        "colab": {
          "base_uri": "https://localhost:8080/"
        },
        "id": "nP8laH96SAFM",
        "outputId": "ca8dc745-b893-4b26-8ca4-e6e9e6d73136"
      },
      "source": [
        "#Checking the dataframe information\n",
        "df5.info()"
      ],
      "execution_count": null,
      "outputs": [
        {
          "output_type": "stream",
          "text": [
            "<class 'pandas.core.frame.DataFrame'>\n",
            "RangeIndex: 132 entries, 0 to 131\n",
            "Data columns (total 19 columns):\n",
            " #   Column    Non-Null Count  Dtype         \n",
            "---  ------    --------------  -----         \n",
            " 0   Event     132 non-null    datetime64[ns]\n",
            " 1   Year      132 non-null    int64         \n",
            " 2   Month     132 non-null    object        \n",
            " 3   Weeknum   132 non-null    int64         \n",
            " 4   Weekday   132 non-null    object        \n",
            " 5   Shift     132 non-null    object        \n",
            " 6   S_num     124 non-null    float64       \n",
            " 7   State     132 non-null    object        \n",
            " 8   T_loss    132 non-null    object        \n",
            " 9   Mass      132 non-null    object        \n",
            " 10  Group     132 non-null    object        \n",
            " 11  Product   132 non-null    object        \n",
            " 12  Format    132 non-null    object        \n",
            " 13  Form_min  132 non-null    int64         \n",
            " 14  Boxes     132 non-null    int64         \n",
            " 15  GE        132 non-null    float64       \n",
            " 16  GE_loss   132 non-null    float64       \n",
            " 17  Min_loss  132 non-null    float64       \n",
            " 18  Comment   132 non-null    object        \n",
            "dtypes: datetime64[ns](1), float64(4), int64(4), object(10)\n",
            "memory usage: 19.7+ KB\n"
          ],
          "name": "stdout"
        }
      ]
    },
    {
      "cell_type": "code",
      "metadata": {
        "colab": {
          "base_uri": "https://localhost:8080/"
        },
        "id": "WbzRV26USAFR",
        "outputId": "6f3d5bb1-cc0d-44d9-f5dd-30c4bcaff481"
      },
      "source": [
        "#Checking the dataframe index\n",
        "df5.Event[0], df5.Event.iloc[-1]"
      ],
      "execution_count": null,
      "outputs": [
        {
          "output_type": "execute_result",
          "data": {
            "text/plain": [
              "(Timestamp('2021-01-07 19:00:00'), Timestamp('2021-05-27 06:00:00'))"
            ]
          },
          "metadata": {
            "tags": []
          },
          "execution_count": 10
        }
      ]
    },
    {
      "cell_type": "markdown",
      "metadata": {
        "id": "1TUGj6x5TFKM"
      },
      "source": [
        "##EDA Molding line stoppages"
      ]
    },
    {
      "cell_type": "code",
      "metadata": {
        "colab": {
          "base_uri": "https://localhost:8080/",
          "height": 603
        },
        "id": "-q-o0cCITE3Z",
        "outputId": "c8beab19-ec25-4961-8e19-d3a6adf32054"
      },
      "source": [
        "grey_df = df5.groupby(['Weeknum', 'Form_min', 'Comment']).agg({'Min_loss': 'count'}).reset_index()\n",
        "grey_df = grey_df.rename(columns={'Min_loss': 'Lost_hours'})\n",
        "grey_df = grey_df.assign(Lost_kg = grey_df['Lost_hours']*3799)\n",
        "grey_df = grey_df.assign(Lost_cost = grey_df['Lost_hours']*920)\n",
        "grey_df = grey_df.assign(Cum_cost = grey_df['Lost_cost'].cumsum())\n",
        "grey_df"
      ],
      "execution_count": null,
      "outputs": [
        {
          "output_type": "execute_result",
          "data": {
            "text/html": [
              "<div>\n",
              "<style scoped>\n",
              "    .dataframe tbody tr th:only-of-type {\n",
              "        vertical-align: middle;\n",
              "    }\n",
              "\n",
              "    .dataframe tbody tr th {\n",
              "        vertical-align: top;\n",
              "    }\n",
              "\n",
              "    .dataframe thead th {\n",
              "        text-align: right;\n",
              "    }\n",
              "</style>\n",
              "<table border=\"1\" class=\"dataframe\">\n",
              "  <thead>\n",
              "    <tr style=\"text-align: right;\">\n",
              "      <th></th>\n",
              "      <th>Weeknum</th>\n",
              "      <th>Form_min</th>\n",
              "      <th>Comment</th>\n",
              "      <th>Lost_hours</th>\n",
              "      <th>Lost_kg</th>\n",
              "      <th>Lost_cost</th>\n",
              "      <th>Cum_cost</th>\n",
              "    </tr>\n",
              "  </thead>\n",
              "  <tbody>\n",
              "    <tr>\n",
              "      <th>0</th>\n",
              "      <td>1</td>\n",
              "      <td>0</td>\n",
              "      <td>Stopp anlegget, pakker fra kasser</td>\n",
              "      <td>6</td>\n",
              "      <td>22794</td>\n",
              "      <td>5520</td>\n",
              "      <td>5520</td>\n",
              "    </tr>\n",
              "    <tr>\n",
              "      <th>1</th>\n",
              "      <td>2</td>\n",
              "      <td>0</td>\n",
              "      <td>Stopp anlegget, pakker fra kasser</td>\n",
              "      <td>7</td>\n",
              "      <td>26593</td>\n",
              "      <td>6440</td>\n",
              "      <td>11960</td>\n",
              "    </tr>\n",
              "    <tr>\n",
              "      <th>2</th>\n",
              "      <td>3</td>\n",
              "      <td>0</td>\n",
              "      <td>Stopp anlegget, pakker fra kasser</td>\n",
              "      <td>5</td>\n",
              "      <td>18995</td>\n",
              "      <td>4600</td>\n",
              "      <td>16560</td>\n",
              "    </tr>\n",
              "    <tr>\n",
              "      <th>3</th>\n",
              "      <td>4</td>\n",
              "      <td>0</td>\n",
              "      <td>Stopp anlegget, pakker fra kasser</td>\n",
              "      <td>19</td>\n",
              "      <td>72181</td>\n",
              "      <td>17480</td>\n",
              "      <td>34040</td>\n",
              "    </tr>\n",
              "    <tr>\n",
              "      <th>4</th>\n",
              "      <td>5</td>\n",
              "      <td>0</td>\n",
              "      <td>Stopp anlegget, pakker fra kasser</td>\n",
              "      <td>7</td>\n",
              "      <td>26593</td>\n",
              "      <td>6440</td>\n",
              "      <td>40480</td>\n",
              "    </tr>\n",
              "    <tr>\n",
              "      <th>5</th>\n",
              "      <td>6</td>\n",
              "      <td>0</td>\n",
              "      <td>Stopp anlegget, pakker fra kasser</td>\n",
              "      <td>4</td>\n",
              "      <td>15196</td>\n",
              "      <td>3680</td>\n",
              "      <td>44160</td>\n",
              "    </tr>\n",
              "    <tr>\n",
              "      <th>6</th>\n",
              "      <td>7</td>\n",
              "      <td>0</td>\n",
              "      <td>Stopp anlegget, pakker fra kasser</td>\n",
              "      <td>23</td>\n",
              "      <td>87377</td>\n",
              "      <td>21160</td>\n",
              "      <td>65320</td>\n",
              "    </tr>\n",
              "    <tr>\n",
              "      <th>7</th>\n",
              "      <td>8</td>\n",
              "      <td>0</td>\n",
              "      <td>Stopp anlegget, pakker fra kasser</td>\n",
              "      <td>3</td>\n",
              "      <td>11397</td>\n",
              "      <td>2760</td>\n",
              "      <td>68080</td>\n",
              "    </tr>\n",
              "    <tr>\n",
              "      <th>8</th>\n",
              "      <td>9</td>\n",
              "      <td>0</td>\n",
              "      <td>Stopp anlegget, pakker fra kasser</td>\n",
              "      <td>3</td>\n",
              "      <td>11397</td>\n",
              "      <td>2760</td>\n",
              "      <td>70840</td>\n",
              "    </tr>\n",
              "    <tr>\n",
              "      <th>9</th>\n",
              "      <td>10</td>\n",
              "      <td>0</td>\n",
              "      <td>Stopp anlegget, pakker fra kasser</td>\n",
              "      <td>13</td>\n",
              "      <td>49387</td>\n",
              "      <td>11960</td>\n",
              "      <td>82800</td>\n",
              "    </tr>\n",
              "    <tr>\n",
              "      <th>10</th>\n",
              "      <td>11</td>\n",
              "      <td>0</td>\n",
              "      <td>Stopp anlegget, pakker fra kasser</td>\n",
              "      <td>1</td>\n",
              "      <td>3799</td>\n",
              "      <td>920</td>\n",
              "      <td>83720</td>\n",
              "    </tr>\n",
              "    <tr>\n",
              "      <th>11</th>\n",
              "      <td>12</td>\n",
              "      <td>0</td>\n",
              "      <td>Stopp anlegget, pakker fra kasser</td>\n",
              "      <td>1</td>\n",
              "      <td>3799</td>\n",
              "      <td>920</td>\n",
              "      <td>84640</td>\n",
              "    </tr>\n",
              "    <tr>\n",
              "      <th>12</th>\n",
              "      <td>14</td>\n",
              "      <td>0</td>\n",
              "      <td>Stopp anlegget, pakker fra kasser</td>\n",
              "      <td>7</td>\n",
              "      <td>26593</td>\n",
              "      <td>6440</td>\n",
              "      <td>91080</td>\n",
              "    </tr>\n",
              "    <tr>\n",
              "      <th>13</th>\n",
              "      <td>15</td>\n",
              "      <td>0</td>\n",
              "      <td>Stopp anlegget, pakker fra kasser</td>\n",
              "      <td>11</td>\n",
              "      <td>41789</td>\n",
              "      <td>10120</td>\n",
              "      <td>101200</td>\n",
              "    </tr>\n",
              "    <tr>\n",
              "      <th>14</th>\n",
              "      <td>16</td>\n",
              "      <td>0</td>\n",
              "      <td>Stopp anlegget, pakker fra kasser</td>\n",
              "      <td>4</td>\n",
              "      <td>15196</td>\n",
              "      <td>3680</td>\n",
              "      <td>104880</td>\n",
              "    </tr>\n",
              "    <tr>\n",
              "      <th>15</th>\n",
              "      <td>17</td>\n",
              "      <td>0</td>\n",
              "      <td>Stopp anlegget, pakker fra kasser</td>\n",
              "      <td>1</td>\n",
              "      <td>3799</td>\n",
              "      <td>920</td>\n",
              "      <td>105800</td>\n",
              "    </tr>\n",
              "    <tr>\n",
              "      <th>16</th>\n",
              "      <td>18</td>\n",
              "      <td>0</td>\n",
              "      <td>Stopp anlegget, pakker fra kasser</td>\n",
              "      <td>9</td>\n",
              "      <td>34191</td>\n",
              "      <td>8280</td>\n",
              "      <td>114080</td>\n",
              "    </tr>\n",
              "    <tr>\n",
              "      <th>17</th>\n",
              "      <td>21</td>\n",
              "      <td>0</td>\n",
              "      <td>Stopp anlegget, pakker fra kasser</td>\n",
              "      <td>8</td>\n",
              "      <td>30392</td>\n",
              "      <td>7360</td>\n",
              "      <td>121440</td>\n",
              "    </tr>\n",
              "  </tbody>\n",
              "</table>\n",
              "</div>"
            ],
            "text/plain": [
              "    Weeknum  Form_min  ... Lost_cost  Cum_cost\n",
              "0         1         0  ...      5520      5520\n",
              "1         2         0  ...      6440     11960\n",
              "2         3         0  ...      4600     16560\n",
              "3         4         0  ...     17480     34040\n",
              "4         5         0  ...      6440     40480\n",
              "5         6         0  ...      3680     44160\n",
              "6         7         0  ...     21160     65320\n",
              "7         8         0  ...      2760     68080\n",
              "8         9         0  ...      2760     70840\n",
              "9        10         0  ...     11960     82800\n",
              "10       11         0  ...       920     83720\n",
              "11       12         0  ...       920     84640\n",
              "12       14         0  ...      6440     91080\n",
              "13       15         0  ...     10120    101200\n",
              "14       16         0  ...      3680    104880\n",
              "15       17         0  ...       920    105800\n",
              "16       18         0  ...      8280    114080\n",
              "17       21         0  ...      7360    121440\n",
              "\n",
              "[18 rows x 7 columns]"
            ]
          },
          "metadata": {
            "tags": []
          },
          "execution_count": 15
        }
      ]
    },
    {
      "cell_type": "code",
      "metadata": {
        "colab": {
          "base_uri": "https://localhost:8080/",
          "height": 399
        },
        "id": "Tu0vY4i1Uh62",
        "outputId": "df3cfffc-fa01-4b00-8cd2-7055ad15ce79"
      },
      "source": [
        "#Plotting the lost hours by each week\n",
        "sns.catplot(x='Weeknum', y='Lost_hours', data=grey_df, kind='bar', height=5, aspect=3)\n",
        "plt.title('Hours Lost, Molding Line Stopped, packaging from grey boxes')\n",
        "plt.show()"
      ],
      "execution_count": null,
      "outputs": [
        {
          "output_type": "display_data",
          "data": {
            "image/png": "[encoded data removed]",
            "text/plain": [
              "<Figure size 1080x360 with 1 Axes>"
            ]
          },
          "metadata": {
            "tags": [],
            "needs_background": "light"
          }
        }
      ]
    },
    {
      "cell_type": "code",
      "metadata": {
        "colab": {
          "base_uri": "https://localhost:8080/",
          "height": 399
        },
        "id": "Y74lIXXfWSu5",
        "outputId": "3618f97a-7287-49ff-8d7b-d1db6def0fec"
      },
      "source": [
        "#Plotting the cumulative cost loss\n",
        "sns.relplot(x='Weeknum', y='Cum_cost', data=grey_df, kind='line', height=5, aspect=3)\n",
        "plt.title('Cumulative Cost Lost, Molding Line Stopped, packaging from grey boxes')\n",
        "plt.show()"
      ],
      "execution_count": null,
      "outputs": [
        {
          "output_type": "display_data",
          "data": {
            "image/png": "[encoded data removed]",
            "text/plain": [
              "<Figure size 1080x360 with 1 Axes>"
            ]
          },
          "metadata": {
            "tags": [],
            "needs_background": "light"
          }
        }
      ]
    },
    {
      "cell_type": "code",
      "metadata": {
        "colab": {
          "base_uri": "https://localhost:8080/",
          "height": 17
        },
        "id": "3iCAcWXoXh5H",
        "outputId": "0a1e8fe7-3706-4222-909e-83167bf1c2a3"
      },
      "source": [
        "#Exporting to excel into local disk\n",
        "from google.colab import files\n",
        "grey_df.to_excel('grey_boxes_j4.xlsx', index=False) #==> Excluding index from file\n",
        "files.download('grey_boxes_j4.xlsx')"
      ],
      "execution_count": null,
      "outputs": [
        {
          "output_type": "display_data",
          "data": {
            "application/javascript": [
              "\n",
              "    async function download(id, filename, size) {\n",
              "      if (!google.colab.kernel.accessAllowed) {\n",
              "        return;\n",
              "      }\n",
              "      const div = document.createElement('div');\n",
              "      const label = document.createElement('label');\n",
              "      label.textContent = `Downloading \"${filename}\": `;\n",
              "      div.appendChild(label);\n",
              "      const progress = document.createElement('progress');\n",
              "      progress.max = size;\n",
              "      div.appendChild(progress);\n",
              "      document.body.appendChild(div);\n",
              "\n",
              "      const buffers = [];\n",
              "      let downloaded = 0;\n",
              "\n",
              "      const channel = await google.colab.kernel.comms.open(id);\n",
              "      // Send a message to notify the kernel that we're ready.\n",
              "      channel.send({})\n",
              "\n",
              "      for await (const message of channel.messages) {\n",
              "        // Send a message to notify the kernel that we're ready.\n",
              "        channel.send({})\n",
              "        if (message.buffers) {\n",
              "          for (const buffer of message.buffers) {\n",
              "            buffers.push(buffer);\n",
              "            downloaded += buffer.byteLength;\n",
              "            progress.value = downloaded;\n",
              "          }\n",
              "        }\n",
              "      }\n",
              "      const blob = new Blob(buffers, {type: 'application/binary'});\n",
              "      const a = document.createElement('a');\n",
              "      a.href = window.URL.createObjectURL(blob);\n",
              "      a.download = filename;\n",
              "      div.appendChild(a);\n",
              "      a.click();\n",
              "      div.remove();\n",
              "    }\n",
              "  "
            ],
            "text/plain": [
              "<IPython.core.display.Javascript object>"
            ]
          },
          "metadata": {
            "tags": []
          }
        },
        {
          "output_type": "display_data",
          "data": {
            "application/javascript": [
              "download(\"download_64309c21-448b-411f-a00a-1218904e5b54\", \"grey_boxes_j4.xlsx\", 5672)"
            ],
            "text/plain": [
              "<IPython.core.display.Javascript object>"
            ]
          },
          "metadata": {
            "tags": []
          }
        }
      ]
    },
    {
      "cell_type": "markdown",
      "metadata": {
        "id": "pDDhcMi84qxs"
      },
      "source": [
        "#Sugar syrup analytics"
      ]
    },
    {
      "cell_type": "markdown",
      "metadata": {
        "id": "JU_AkXpy4t_p"
      },
      "source": [
        "## Uploading necessary packages"
      ]
    },
    {
      "cell_type": "code",
      "metadata": {
        "id": "FT9AnQe05hB7"
      },
      "source": [
        "#Uploading packages\n",
        "import pandas as pd\n",
        "import numpy as np\n",
        "import matplotlib.pyplot as plt\n",
        "import seaborn as sns\n",
        "from ipywidgets import interact"
      ],
      "execution_count": null,
      "outputs": []
    },
    {
      "cell_type": "code",
      "metadata": {
        "id": "PkjArWrMFMWx"
      },
      "source": [
        "#Customizing data visualization styles\n",
        "sns.set_theme(rc = {'figure.figsize': (8, 4)})"
      ],
      "execution_count": null,
      "outputs": []
    },
    {
      "cell_type": "code",
      "metadata": {
        "id": "PrATmNfN4t_x"
      },
      "source": [
        "#Remove previous versions of the uploaded excel file\n",
        "!rm 2021_sugar_syrup_data.xlsx"
      ],
      "execution_count": null,
      "outputs": []
    },
    {
      "cell_type": "code",
      "metadata": {
        "colab": {
          "resources": {
            "http://localhost:8080/nbextensions/google.colab/files.js": {
              "data": "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",
              "ok": true,
              "headers": [
                [
                  "content-type",
                  "application/javascript"
                ]
              ],
              "status": 200,
              "status_text": "OK"
            }
          },
          "base_uri": "https://localhost:8080/",
          "height": 73
        },
        "id": "h-O5sHre4t_x",
        "outputId": "ec844d64-cb9e-4a19-f71d-be2f561cfcba"
      },
      "source": [
        "#Uploading file from local drive ==> !rm file\n",
        "from google.colab import files\n",
        "uploaded6 = files.upload()"
      ],
      "execution_count": null,
      "outputs": [
        {
          "output_type": "display_data",
          "data": {
            "text/html": [
              "\n",
              "     <input type=\"file\" id=\"files-e16546a2-d06c-475f-b76d-4fc53e7c1ce3\" name=\"files[]\" multiple disabled\n",
              "        style=\"border:none\" />\n",
              "     <output id=\"result-e16546a2-d06c-475f-b76d-4fc53e7c1ce3\">\n",
              "      Upload widget is only available when the cell has been executed in the\n",
              "      current browser session. Please rerun this cell to enable.\n",
              "      </output>\n",
              "      <script src=\"/nbextensions/google.colab/files.js\"></script> "
            ],
            "text/plain": [
              "<IPython.core.display.HTML object>"
            ]
          },
          "metadata": {}
        },
        {
          "output_type": "stream",
          "name": "stdout",
          "text": [
            "Saving 2021_sugar_syrup_data.xlsx to 2021_sugar_syrup_data.xlsx\n"
          ]
        }
      ]
    },
    {
      "cell_type": "code",
      "metadata": {
        "id": "tb9f3E6k4t_z"
      },
      "source": [
        "#Storing dataset in a Pandas Dataframe\n",
        "import io\n",
        "df6 = pd.read_excel(io.BytesIO(uploaded6['2021_sugar_syrup_data.xlsx']))"
      ],
      "execution_count": null,
      "outputs": []
    },
    {
      "cell_type": "code",
      "metadata": {
        "colab": {
          "base_uri": "https://localhost:8080/"
        },
        "id": "NW_Z2P-Q5rwr",
        "outputId": "1f030782-d2fa-4050-cc80-a2524abbc205"
      },
      "source": [
        "#Checking the dataframe info\n",
        "df6.info()"
      ],
      "execution_count": null,
      "outputs": [
        {
          "output_type": "stream",
          "name": "stdout",
          "text": [
            "<class 'pandas.core.frame.DataFrame'>\n",
            "RangeIndex: 92 entries, 0 to 91\n",
            "Data columns (total 6 columns):\n",
            " #   Column           Non-Null Count  Dtype         \n",
            "---  ------           --------------  -----         \n",
            " 0   Event            92 non-null     datetime64[ns]\n",
            " 1   Year             92 non-null     int64         \n",
            " 2   Month            92 non-null     object        \n",
            " 3   Weeknum          92 non-null     int64         \n",
            " 4   Weekday          92 non-null     object        \n",
            " 5   Driamix_varming  92 non-null     int64         \n",
            "dtypes: datetime64[ns](1), int64(3), object(2)\n",
            "memory usage: 4.4+ KB\n"
          ]
        }
      ]
    },
    {
      "cell_type": "markdown",
      "metadata": {
        "id": "YEfvf6m150Vl"
      },
      "source": [
        "##Data manipulation"
      ]
    },
    {
      "cell_type": "code",
      "metadata": {
        "colab": {
          "base_uri": "https://localhost:8080/",
          "height": 142
        },
        "id": "r8596vpZ51fo",
        "outputId": "5ee50dd0-b987-4f08-b64d-948ccc2f1222"
      },
      "source": [
        "#Creating categorical values for multi-variate analysis\n",
        "df6 = df6.assign(Team = np.where((df6['Event'].dt.day)<25, 'Team_1', 'Team_2'),\n",
        "                 Shift = np.where((df6['Event'].dt.hour)<12, 'Day', 'Afternoon'),\n",
        "                 Hour = df6['Event'].dt.hour)\n",
        "df6.head(3)"
      ],
      "execution_count": null,
      "outputs": [
        {
          "output_type": "execute_result",
          "data": {
            "text/html": [
              "<div>\n",
              "<style scoped>\n",
              "    .dataframe tbody tr th:only-of-type {\n",
              "        vertical-align: middle;\n",
              "    }\n",
              "\n",
              "    .dataframe tbody tr th {\n",
              "        vertical-align: top;\n",
              "    }\n",
              "\n",
              "    .dataframe thead th {\n",
              "        text-align: right;\n",
              "    }\n",
              "</style>\n",
              "<table border=\"1\" class=\"dataframe\">\n",
              "  <thead>\n",
              "    <tr style=\"text-align: right;\">\n",
              "      <th></th>\n",
              "      <th>Event</th>\n",
              "      <th>Year</th>\n",
              "      <th>Month</th>\n",
              "      <th>Weeknum</th>\n",
              "      <th>Weekday</th>\n",
              "      <th>Driamix_varming</th>\n",
              "      <th>Team</th>\n",
              "      <th>Shift</th>\n",
              "      <th>Hour</th>\n",
              "    </tr>\n",
              "  </thead>\n",
              "  <tbody>\n",
              "    <tr>\n",
              "      <th>0</th>\n",
              "      <td>2021-10-17 08:00:00</td>\n",
              "      <td>2021</td>\n",
              "      <td>October</td>\n",
              "      <td>41</td>\n",
              "      <td>Sunday</td>\n",
              "      <td>86</td>\n",
              "      <td>Team_1</td>\n",
              "      <td>Day</td>\n",
              "      <td>8</td>\n",
              "    </tr>\n",
              "    <tr>\n",
              "      <th>1</th>\n",
              "      <td>2021-10-17 09:00:00</td>\n",
              "      <td>2021</td>\n",
              "      <td>October</td>\n",
              "      <td>41</td>\n",
              "      <td>Sunday</td>\n",
              "      <td>88</td>\n",
              "      <td>Team_1</td>\n",
              "      <td>Day</td>\n",
              "      <td>9</td>\n",
              "    </tr>\n",
              "    <tr>\n",
              "      <th>2</th>\n",
              "      <td>2021-10-17 09:30:00</td>\n",
              "      <td>2021</td>\n",
              "      <td>October</td>\n",
              "      <td>41</td>\n",
              "      <td>Sunday</td>\n",
              "      <td>86</td>\n",
              "      <td>Team_1</td>\n",
              "      <td>Day</td>\n",
              "      <td>9</td>\n",
              "    </tr>\n",
              "  </tbody>\n",
              "</table>\n",
              "</div>"
            ],
            "text/plain": [
              "                Event  Year    Month  ...    Team Shift  Hour\n",
              "0 2021-10-17 08:00:00  2021  October  ...  Team_1   Day     8\n",
              "1 2021-10-17 09:00:00  2021  October  ...  Team_1   Day     9\n",
              "2 2021-10-17 09:30:00  2021  October  ...  Team_1   Day     9\n",
              "\n",
              "[3 rows x 9 columns]"
            ]
          },
          "metadata": {},
          "execution_count": 16
        }
      ]
    },
    {
      "cell_type": "markdown",
      "metadata": {
        "id": "qr5kKWqC8P1r"
      },
      "source": [
        "##Multi-variate Analysis"
      ]
    },
    {
      "cell_type": "code",
      "metadata": {
        "colab": {
          "base_uri": "https://localhost:8080/"
        },
        "id": "VgxJlMyt8TJC",
        "outputId": "269f3536-51d1-460e-e28c-0a8c8dbf9d0c"
      },
      "source": [
        "#Creating list of categories\n",
        "var_list = ['Month', 'Weeknum', 'Weekday', 'Team', 'Shift', 'Hour']\n",
        "var_list"
      ],
      "execution_count": null,
      "outputs": [
        {
          "output_type": "execute_result",
          "data": {
            "text/plain": [
              "['Month', 'Weeknum', 'Weekday', 'Team', 'Shift', 'Hour']"
            ]
          },
          "metadata": {},
          "execution_count": 24
        }
      ]
    },
    {
      "cell_type": "code",
      "metadata": {
        "colab": {
          "base_uri": "https://localhost:8080/",
          "height": 142,
          "referenced_widgets": [
            "fb0dbdb66dd44918b8e65026a4c4aa20",
            "d0c2a2a2fcb84ee29de9a7cfe0ada54c",
            "3eff510f18f44d09be842cb7b3887106",
            "731858aacd96415f9772698c44fca0ea",
            "3ec77010772b49f480bf858e0de28607",
            "5ba2471f1e624632bdeaec115bb63e23",
            "9a3b02cbdf9d43088e932194d31e40f2"
          ]
        },
        "id": "z43wyXzkAC5H",
        "outputId": "5ba12e83-63c8-4128-b2f7-210389a6d1d7"
      },
      "source": [
        "#Inspecting the proportion of data for different categories\n",
        "@interact(Cat=var_list)\n",
        "def proportion(Cat):\n",
        "  return df6.value_counts(subset=Cat, normalize=True).reset_index(name='Proportion')"
      ],
      "execution_count": null,
      "outputs": [
        {
          "output_type": "display_data",
          "data": {
            "application/vnd.jupyter.widget-view+json": {
              "model_id": "fb0dbdb66dd44918b8e65026a4c4aa20",
              "version_minor": 0,
              "version_major": 2
            },
            "text/plain": [
              "interactive(children=(Dropdown(description='Cat', options=('Month', 'Weeknum', 'Weekday', 'Team', 'Shift', 'Ho…"
            ]
          },
          "metadata": {}
        }
      ]
    },
    {
      "cell_type": "code",
      "metadata": {
        "colab": {
          "base_uri": "https://localhost:8080/",
          "height": 365,
          "referenced_widgets": [
            "892c795380974c0b9857512ad2e3e899",
            "bfd053a5034a43c7b2b308c895712363",
            "b54a93709c8e4d0594f5fcd942561fb9",
            "88077a425a874dcea9613fe80ceb9ba0",
            "7445309e3d15450baf3259fc94411354",
            "537a190826814823b2402eb6dbadd2df",
            "9aecc8a131f3419dac72dbe28b739178",
            "6fc89fd52bb4466d9b9662f1ce1e107c",
            "ddca2fda6d73467ab7fe5f9b7fc4b146",
            "7d2276b3ee5d427a815d9e42053ded78"
          ]
        },
        "id": "66CB6-N6-BSl",
        "outputId": "06412439-845d-4c0f-cd51-92469a109815"
      },
      "source": [
        "#Creating interactive visualization\n",
        "@interact(Cat=var_list, Shift=['Shift', 'Team', None])\n",
        "def plot_multi_variate(Cat, Shift):\n",
        "  sns.boxplot(x=Cat, y='Driamix_varming', data=df6, hue=Shift)\n",
        "  plt.title('Sugar Syrup Multi-variate Analysis')\n",
        "  plt.legend(bbox_to_anchor=(1.25, 1)) #==> Set legend outside the chart\n",
        "  plt.show()"
      ],
      "execution_count": null,
      "outputs": [
        {
          "output_type": "display_data",
          "data": {
            "application/vnd.jupyter.widget-view+json": {
              "model_id": "892c795380974c0b9857512ad2e3e899",
              "version_minor": 0,
              "version_major": 2
            },
            "text/plain": [
              "interactive(children=(Dropdown(description='Cat', options=('Month', 'Weeknum', 'Weekday', 'Team', 'Shift', 'Ho…"
            ]
          },
          "metadata": {}
        }
      ]
    },
    {
      "cell_type": "code",
      "metadata": {
        "colab": {
          "base_uri": "https://localhost:8080/",
          "height": 284
        },
        "id": "avYDf3FDGHAU",
        "outputId": "67c6de98-6b90-4344-c8ea-1f17601f98f3"
      },
      "source": [
        "#Plotting a scatter plot of the warming temperature\n",
        "sns.lineplot(x=df6.index, y='Driamix_varming', data=df6)\n",
        "plt.title('Sugar Syrup Temperature Variability')\n",
        "plt.show()"
      ],
      "execution_count": null,
      "outputs": [
        {
          "output_type": "display_data",
          "data": {
            "image/png": "[encoded data removed]",
            "text/plain": [
              "<Figure size 576x288 with 1 Axes>"
            ]
          },
          "metadata": {}
        }
      ]
    },
    {
      "cell_type": "code",
      "metadata": {
        "colab": {
          "base_uri": "https://localhost:8080/",
          "height": 377
        },
        "id": "6y4GuHCiGzmZ",
        "outputId": "a8d2abac-9c26-4ca2-d52a-e903855b8097"
      },
      "source": [
        "#Plotting the Cumulative Distribution Function of the warming temperature\n",
        "sns.displot(x='Driamix_varming', data=df6, kind='ecdf')\n",
        "plt.title('Cumulative Distribution Function of Temperature')\n",
        "plt.show()"
      ],
      "execution_count": null,
      "outputs": [
        {
          "output_type": "display_data",
          "data": {
            "image/png": "[encoded data removed]",
            "text/plain": [
              "<Figure size 360x360 with 1 Axes>"
            ]
          },
          "metadata": {}
        }
      ]
    },
    {
      "cell_type": "markdown",
      "metadata": {
        "id": "5eY_FWg0zgA_"
      },
      "source": [
        "#Kaizen KPIs"
      ]
    },
    {
      "cell_type": "markdown",
      "metadata": {
        "id": "vVz9nk4Lzil-"
      },
      "source": [
        "## Uploading necessary packages"
      ]
    },
    {
      "cell_type": "code",
      "metadata": {
        "id": "jLYeUdoK8ECb"
      },
      "source": [
        "#Upgrading Plotly\n",
        "!pip install plotly --upgrade"
      ],
      "execution_count": null,
      "outputs": []
    },
    {
      "cell_type": "code",
      "metadata": {
        "id": "wcPmgRqczil_"
      },
      "source": [
        "#Uploading packages\n",
        "import pandas as pd\n",
        "import numpy as np\n",
        "import matplotlib.pyplot as plt\n",
        "import seaborn as sns\n",
        "import plotly.express as px\n",
        "from ipywidgets import interact"
      ],
      "execution_count": 1,
      "outputs": []
    },
    {
      "cell_type": "code",
      "metadata": {
        "id": "rA4hU5VDzil_"
      },
      "source": [
        "#Customizing data visualization styles\n",
        "sns.set_theme(rc = {'figure.figsize': (12, 5)})"
      ],
      "execution_count": 25,
      "outputs": []
    },
    {
      "cell_type": "code",
      "metadata": {
        "id": "RoOdPF49zimA"
      },
      "source": [
        "#Remove previous versions of the uploaded excel file\n",
        "!rm kaizen_db.xlsx"
      ],
      "execution_count": null,
      "outputs": []
    },
    {
      "cell_type": "code",
      "metadata": {
        "id": "bZIUFZN-zimA"
      },
      "source": [
        "#Uploading file from local drive ==> !rm file\n",
        "from google.colab import files\n",
        "uploaded7 = files.upload()"
      ],
      "execution_count": null,
      "outputs": []
    },
    {
      "cell_type": "code",
      "metadata": {
        "id": "X8HBzIJLzimC"
      },
      "source": [
        "#Storing dataset in a Pandas Dataframe\n",
        "import io\n",
        "df7 = pd.read_excel(io.BytesIO(uploaded7['kaizen_db.xlsx']))"
      ],
      "execution_count": 4,
      "outputs": []
    },
    {
      "cell_type": "code",
      "metadata": {
        "id": "Vcrj1h9dzimC",
        "colab": {
          "base_uri": "https://localhost:8080/"
        },
        "outputId": "a69d1432-9d87-4a70-a55b-45799a34b97a"
      },
      "source": [
        "#Checking the dataframe info\n",
        "df7.info()"
      ],
      "execution_count": 5,
      "outputs": [
        {
          "output_type": "stream",
          "name": "stdout",
          "text": [
            "<class 'pandas.core.frame.DataFrame'>\n",
            "RangeIndex: 81 entries, 0 to 80\n",
            "Data columns (total 11 columns):\n",
            " #   Column       Non-Null Count  Dtype         \n",
            "---  ------       --------------  -----         \n",
            " 0   ID           81 non-null     int64         \n",
            " 1   Dato         81 non-null     datetime64[ns]\n",
            " 2   Navn         81 non-null     object        \n",
            " 3   Linje        81 non-null     object        \n",
            " 4   Område       81 non-null     object        \n",
            " 5   SGA_team     81 non-null     object        \n",
            " 6   Beskrivelse  81 non-null     object        \n",
            " 7   Løsning      81 non-null     object        \n",
            " 8   Kriterier    81 non-null     object        \n",
            " 9   Trinn        81 non-null     object        \n",
            " 10  Kommentar    62 non-null     object        \n",
            "dtypes: datetime64[ns](1), int64(1), object(9)\n",
            "memory usage: 7.1+ KB\n"
          ]
        }
      ]
    },
    {
      "cell_type": "markdown",
      "metadata": {
        "id": "UQxqmErp1Ewn"
      },
      "source": [
        "##Data manipulation"
      ]
    },
    {
      "cell_type": "code",
      "metadata": {
        "id": "K9miq4gZ1GOa"
      },
      "source": [
        "#Creating categories from datetime\n",
        "df7 = df7.assign(Year = df7['Dato'].dt.year,\n",
        "                 Month = df7['Dato'].dt.month_name(),\n",
        "                 Weeknum = df7['Dato'].dt.isocalendar().week)"
      ],
      "execution_count": 7,
      "outputs": []
    },
    {
      "cell_type": "code",
      "metadata": {
        "id": "rhb0uvTF6fTv"
      },
      "source": [
        "#Creating list of categories\n",
        "year_list = list(df7['Year'].unique())\n",
        "#month_list = ['January', 'February', 'March', 'April', 'May', 'June', 'Jul', 'August', 'September', 'October', 'Novemeber', 'December']\n",
        "month_list = list(df7['Month'].unique())\n",
        "line_list = list(df7['Linje'].unique())\n",
        "sga_list = list(sorted(df7['SGA_team'].unique()))\n",
        "cat_list = list(sorted(df7['Trinn'].unique(), reverse=True))"
      ],
      "execution_count": 33,
      "outputs": []
    },
    {
      "cell_type": "markdown",
      "metadata": {
        "id": "A6uuriGJ0R1L"
      },
      "source": [
        "##Kaizens by Line and Year"
      ]
    },
    {
      "cell_type": "code",
      "metadata": {
        "id": "HWBED6-80bmI"
      },
      "source": [
        "#Creating interactive visualization\n",
        "@interact(Year=year_list, Line=line_list, Cat=cat_list)\n",
        "def plot_kaizen_by_year(Year, Line, Cat):\n",
        "  df = df7[(df7['Year']==Year) & (df7['Linje']==Line) & (df7['Trinn']==Cat)].copy()\n",
        "  sns.countplot(x='Month', data=df, order=month_list, palette='Set3')\n",
        "  plt.title(f'{Year} - Line: {Line} - Implemented Kaizens per Month')\n",
        "  plt.yticks(np.arange(0, 16, 2))\n",
        "  plt.axhline(8, color='purple', linestyle='-')\n",
        "  plt.show()"
      ],
      "execution_count": null,
      "outputs": []
    },
    {
      "cell_type": "markdown",
      "metadata": {
        "id": "dhSyQepmP12M"
      },
      "source": [
        "##Kaizen by Month and SGA"
      ]
    },
    {
      "cell_type": "code",
      "metadata": {
        "id": "fzfZW09GP3rx"
      },
      "source": [
        "#Creating interactive visualization\n",
        "@interact(Year=year_list, Line=line_list, Cat=cat_list)\n",
        "def plot_kaizen_month_sga(Year, Line, Cat):\n",
        "  df = df7[(df7['Year']==Year) & (df7['Linje']==Line) & (df7['Trinn']==Cat)].copy()\n",
        "  sns.countplot(x='Month', data=df, order=month_list, hue='Kriterier', palette='Set3')\n",
        "  plt.title(f'{Year} - Line: {Line} - Kaizens per month and Category')\n",
        "  plt.yticks(np.arange(0, 8, 1))\n",
        "  plt.axhline(2, color='purple', linestyle='-')\n",
        "  plt.xticks(rotation=30)\n",
        "  plt.legend(bbox_to_anchor=(1.05, 1)) #==> Set legend outside the chart\n",
        "  plt.show()"
      ],
      "execution_count": null,
      "outputs": []
    },
    {
      "cell_type": "markdown",
      "metadata": {
        "id": "vsSJyV-s6trf"
      },
      "source": [
        "##Kaizen Engagement by SGA"
      ]
    },
    {
      "cell_type": "code",
      "metadata": {
        "id": "LkF61PR60YQw"
      },
      "source": [
        "#Creating interactive visualization\n",
        "@interact(Year=year_list, Line=line_list, SGA=sga_list, Cat=cat_list)\n",
        "def plot_kaizen_sga(Year, Line, SGA, Cat):\n",
        "  df = df7[(df7['Year']==Year) & (df7['Linje']==Line) & (df7['SGA_team']==SGA) & (df7['Trinn']==Cat)].copy()\n",
        "  sns.countplot(x='Navn', data=df, palette='Set3')\n",
        "  plt.title(f'{Year} - {Line} Implemented Kaizens & Engagement by SGA: {SGA}')\n",
        "  plt.yticks(np.arange(0, 10, 1))\n",
        "  plt.axhline(6, color='purple', linestyle='-')\n",
        "  plt.xticks(rotation=30)\n",
        "  #plt.legend(bbox_to_anchor=(1.25, 1)) #==> Set legend outside the chart\n",
        "  plt.show()"
      ],
      "execution_count": null,
      "outputs": []
    }
  ]
}