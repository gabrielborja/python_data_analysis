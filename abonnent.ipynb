{
  "nbformat": 4,
  "nbformat_minor": 0,
  "metadata": {
    "colab": {
      "name": "abonnent.ipynb",
      "provenance": [],
      "authorship_tag": "ABX9TyMyphYo4RhgXCXHwCYMEnwe"
    },
    "kernelspec": {
      "name": "python3",
      "display_name": "Python 3"
    },
    "language_info": {
      "name": "python"
    }
  },
  "cells": [
    {
      "cell_type": "code",
      "execution_count": 42,
      "metadata": {
        "id": "Y_KaWz3zU08V"
      },
      "outputs": [],
      "source": [
        "import numpy as np\n",
        "import pandas as pd\n",
        "import matplotlib.pyplot as plt\n",
        "import seaborn as sns\n",
        "from ipywidgets import interact\n",
        "import plotly.express as px"
      ]
    },
    {
      "cell_type": "code",
      "source": [
        "sns.set_theme(rc = {'figure.figsize': (8, 4)})"
      ],
      "metadata": {
        "id": "0aF5ygA1VGhn"
      },
      "execution_count": 123,
      "outputs": []
    },
    {
      "cell_type": "code",
      "source": [
        "!unzip case_data_analyst_feb22.zip"
      ],
      "metadata": {
        "id": "y0Akwc-9V4HW"
      },
      "execution_count": null,
      "outputs": []
    },
    {
      "cell_type": "code",
      "source": [
        "df = pd.read_csv(\"dataset_ice.csv\", sep=\"|\")\n",
        "df.tail()"
      ],
      "metadata": {
        "id": "LCXYkn0uWEoy"
      },
      "execution_count": null,
      "outputs": []
    },
    {
      "cell_type": "code",
      "source": [
        "df.iloc[21:24]"
      ],
      "metadata": {
        "id": "VdWaqqf0WfiN"
      },
      "execution_count": null,
      "outputs": []
    },
    {
      "cell_type": "code",
      "source": [
        "#Applying regex to convert string to valid date format\n",
        "df['DATE'].replace(to_replace=r'( 00\\.00\\.)', value=' 00:00:', regex=True, inplace=True)"
      ],
      "metadata": {
        "id": "1QcSf_kUz6Pz"
      },
      "execution_count": 31,
      "outputs": []
    },
    {
      "cell_type": "code",
      "source": [
        "#Converting string to datetime column\n",
        "df['DATE'] = pd.to_datetime(df['DATE'], format='%Y-%m-%d %H:%M:%S')"
      ],
      "metadata": {
        "id": "qfjqvCHBxVDC"
      },
      "execution_count": 34,
      "outputs": []
    },
    {
      "cell_type": "code",
      "source": [
        "#Checking the dataframe info\n",
        "df.info()"
      ],
      "metadata": {
        "id": "np52eLafYnNu"
      },
      "execution_count": null,
      "outputs": []
    },
    {
      "cell_type": "code",
      "source": [
        "# Creating a list of the columns\n",
        "col_list = list(df.columns)"
      ],
      "metadata": {
        "id": "zmPxv5DnW-Gm"
      },
      "execution_count": null,
      "outputs": []
    },
    {
      "cell_type": "code",
      "source": [
        "# Analyzing the value proportion for each column\n",
        "@interact(Col=col_list)\n",
        "def proportion_count(Col):\n",
        "  #return df.loc[:, Col].value_counts()\n",
        "  return df.value_counts(subset=Col, normalize=True, dropna=False).reset_index(name=\"Proportion\")"
      ],
      "metadata": {
        "id": "wec-o3LzXIUB"
      },
      "execution_count": null,
      "outputs": []
    },
    {
      "cell_type": "code",
      "source": [
        "# 1. Hvordan har abonnementsutviklingen (stock) vært gjennom 2018?\n",
        "df1_abo = df[df['DATA_SOURCE']=='Stock'].groupby(by=['DATE', 'DATA_SOURCE']).agg(COUNT = ('PRICEPLAN_ID', 'count')).reset_index()\n",
        "df1_abo"
      ],
      "metadata": {
        "id": "POgjlRh-oifg"
      },
      "execution_count": null,
      "outputs": []
    },
    {
      "cell_type": "code",
      "source": [
        "# Plotting the Count Q1 over the year\n",
        "sns.lineplot(x='DATE', y='COUNT', data=df1_abo)\n",
        "plt.title('Count over the year')\n",
        "plt.show()"
      ],
      "metadata": {
        "id": "JSA3yBmE4KVC"
      },
      "execution_count": null,
      "outputs": []
    },
    {
      "cell_type": "code",
      "source": [
        "# Plotting the Count Q1 with Plotly\n",
        "fig1 = px.line(data_frame=df1_abo, x='DATE', y='COUNT',\n",
        "               title='Abonnement', height=400, width=800)\n",
        "fig1.show()"
      ],
      "metadata": {
        "id": "EPLb_kV17Ze_"
      },
      "execution_count": null,
      "outputs": []
    },
    {
      "cell_type": "code",
      "source": [
        "# 2. Hvordan har salgsutviklingen (aktiveringer) vært gjennom 2018?\n",
        "df2_sal = df[df['DATA_SOURCE']=='Activation'].groupby(by=['DATE', 'DATA_SOURCE']).agg(COUNT = ('PRICEPLAN_ID', 'count')).reset_index()\n",
        "df2_sal"
      ],
      "metadata": {
        "id": "460fyzO-onng"
      },
      "execution_count": null,
      "outputs": []
    },
    {
      "cell_type": "code",
      "source": [
        "# Plotting the Count Q2 over the year\n",
        "sns.lineplot(x='DATE', y='COUNT', data=df2_sal)\n",
        "plt.title('Count over the year')\n",
        "plt.show()"
      ],
      "metadata": {
        "id": "7VayJkVZ9s4n"
      },
      "execution_count": null,
      "outputs": []
    },
    {
      "cell_type": "code",
      "source": [
        "# 3. Hvordan har churnutviklingen vært gjennom 2018?\n",
        "df3_chu = df[df['DATA_SOURCE']=='Cancellation'].groupby(by=['DATE', 'DATA_SOURCE']).agg(COUNT = ('PRICEPLAN_ID', 'count')).reset_index()\n",
        "df3_chu"
      ],
      "metadata": {
        "id": "kbVzUFUQop2N"
      },
      "execution_count": null,
      "outputs": []
    },
    {
      "cell_type": "code",
      "source": [
        "# Plotting the Count Q3 over the year\n",
        "sns.lineplot(x='DATE', y='COUNT', data=df3_chu)\n",
        "plt.title('Count over the year')\n",
        "plt.show()"
      ],
      "metadata": {
        "id": "4aq0a73t-Z4P"
      },
      "execution_count": null,
      "outputs": []
    },
    {
      "cell_type": "code",
      "source": [
        "# 4. Til hvilken konkurrent mister ice flest abonnenter?\n",
        "df4_kon = df[df['DATA_SOURCE']=='Cancellation'].groupby(by=['DATE', 'DATA_SOURCE', 'OPERATOR']).agg(COUNT = ('PRICEPLAN_ID', 'count')).reset_index()\n",
        "df4_kon['OPERATOR'] = df4_kon['OPERATOR'].astype(str)\n",
        "df4_kon"
      ],
      "metadata": {
        "id": "uLuQLcH-ore4"
      },
      "execution_count": null,
      "outputs": []
    },
    {
      "cell_type": "code",
      "source": [
        "# Checking the value counts Q4\n",
        "df4_kon.value_counts(subset='OPERATOR', normalize=True).reset_index(name='KANSELLERINGER')"
      ],
      "metadata": {
        "id": "IOWjt81GFV1F"
      },
      "execution_count": null,
      "outputs": []
    },
    {
      "cell_type": "code",
      "source": [
        "# Plotting the Count Q4 over the year\n",
        "sns.scatterplot(x='DATE', y='COUNT', data=df4_kon[df4_kon['OPERATOR'].isin(['815.0', '832.0', '705.0'])], hue='OPERATOR')\n",
        "plt.title('Count over the year')\n",
        "plt.show()"
      ],
      "metadata": {
        "id": "LagAqbSLAr7Y"
      },
      "execution_count": null,
      "outputs": []
    },
    {
      "cell_type": "code",
      "source": [
        "# 5. Fra hvilken konkurrent vinner ice flest abonnenter?\n",
        "df5_akt = df[df['DATA_SOURCE']=='Activation'].groupby(by=['DATE', 'DATA_SOURCE', 'OPERATOR']).agg(COUNT = ('PRICEPLAN_ID', 'count')).reset_index()\n",
        "df5_akt['OPERATOR'] = df5_akt['OPERATOR'].astype(str)\n",
        "df5_akt"
      ],
      "metadata": {
        "id": "MjrxL5p_os1q"
      },
      "execution_count": null,
      "outputs": []
    },
    {
      "cell_type": "code",
      "source": [
        "# Checking the value counts\n",
        "df5_akt.value_counts(subset='OPERATOR', normalize=True).reset_index(name='NYE ABONNENTER')"
      ],
      "metadata": {
        "id": "SIAMwxNQExjb"
      },
      "execution_count": null,
      "outputs": []
    },
    {
      "cell_type": "code",
      "source": [
        "# Plotting the Count Q5 over the year\n",
        "sns.scatterplot(x='DATE', y='COUNT', data=df5_akt[df5_akt['OPERATOR'].isin(['832.0', '815.0', '705.0'])], hue='OPERATOR')\n",
        "plt.title('Count over the year')\n",
        "plt.show()"
      ],
      "metadata": {
        "id": "l0tMmpxoG9aO"
      },
      "execution_count": null,
      "outputs": []
    },
    {
      "cell_type": "code",
      "source": [
        "#6. Hvor stor markedsandel hadde ice ved utgangen av 2018?\n"
      ],
      "metadata": {
        "id": "UcHS6fR3oumL"
      },
      "execution_count": null,
      "outputs": []
    },
    {
      "cell_type": "code",
      "source": [
        "df[df['PRICEPLAN_ID'].isin(['INB-9918193-0'])]"
      ],
      "metadata": {
        "id": "L0GD_W-pIOmA"
      },
      "execution_count": null,
      "outputs": []
    },
    {
      "cell_type": "code",
      "source": [
        "# KRONER - #7a Hva mener du er fire viktige innsikter i datasettet uavhengig av de konkrete spørsmålene over?\n",
        "df7_a = df.groupby(by=['DATE']).agg(KRONER = ('FEE', 'sum')).reset_index()\n",
        "df7_a = df7_a.assign(MONTH = df7_a['DATE'].dt.month,\n",
        "                     WEEKNUM = df7_a['DATE'].dt.isocalendar().week)\n",
        "df7_a = df7_a.groupby(by=['MONTH']).agg(KRONER = ('KRONER', 'sum')).reset_index()\n",
        "df7_a"
      ],
      "metadata": {
        "id": "XQp1N3paJEc3"
      },
      "execution_count": null,
      "outputs": []
    },
    {
      "cell_type": "code",
      "source": [
        "# Plotting the Count Q7a over the year\n",
        "sns.lineplot(x='MONTH', y='KRONER', data=df7_a)\n",
        "plt.title('Sum over the year')\n",
        "plt.show()"
      ],
      "metadata": {
        "id": "1O6JZ8y5KJgT"
      },
      "execution_count": null,
      "outputs": []
    },
    {
      "cell_type": "code",
      "source": [
        "# DISCOUNT - #7b Hva mener du er fire viktige innsikter i datasettet uavhengig av de konkrete spørsmålene over?\n",
        "df7_b = df.groupby(by=['DATE']).agg(DISCOUNT = ('DISCOUNT', 'sum')).reset_index()\n",
        "df7_b = df7_b.assign(MONTH = df7_b['DATE'].dt.month,\n",
        "                     WEEKNUM = df7_b['DATE'].dt.isocalendar().week)\n",
        "df7_b = df7_b.groupby(by=['MONTH']).agg(DISCOUNT = ('DISCOUNT', 'sum')).reset_index()\n",
        "df7_b = df7_b.assign(DISCOUNT = df7_b['DISCOUNT']*-1)\n",
        "df7_b"
      ],
      "metadata": {
        "id": "lsKTb51VNkZD"
      },
      "execution_count": null,
      "outputs": []
    },
    {
      "cell_type": "code",
      "source": [
        "# Plotting the Count Q7a over the year\n",
        "sns.lineplot(x='MONTH', y='DISCOUNT', data=df7_b)\n",
        "plt.title('Sum over the year')\n",
        "plt.show()"
      ],
      "metadata": {
        "id": "eB9L1ULXOKFS"
      },
      "execution_count": null,
      "outputs": []
    },
    {
      "cell_type": "code",
      "source": [
        "# TIME_DAYS - #7c Hva mener du er fire viktige innsikter i datasettet uavhengig av de konkrete spørsmålene over?\n",
        "sns.histplot(x='LIFETIME_DAYS', data=df[df['DATA_SOURCE']=='Stock'], bins=11, stat='percent')\n",
        "plt.title('Histogram av LIFETIME_DAYS')\n",
        "plt.show()"
      ],
      "metadata": {
        "id": "Cw6pBmaAOCZ4"
      },
      "execution_count": null,
      "outputs": []
    },
    {
      "cell_type": "code",
      "source": [
        "# MEGAS - #7d Hva mener du er fire viktige innsikter i datasettet uavhengig av de konkrete spørsmålene over?\n",
        "df7_d = df.value_counts(subset='INCLUDED_MB', normalize=True, dropna=False).reset_index(name='Proportion')\n",
        "df7_d['INCLUDED_MB'].astype('category')\n",
        "df7_d"
      ],
      "metadata": {
        "id": "HDX1FWYmOHwo"
      },
      "execution_count": null,
      "outputs": []
    },
    {
      "cell_type": "code",
      "source": [
        "# Plotting the Q7d\n",
        "sns.barplot(x='INCLUDED_MB', y='Proportion', data=df7_d)\n",
        "plt.title('Popular Subscription plans')\n",
        "plt.show()"
      ],
      "metadata": {
        "id": "dMa-R2lWUMQD"
      },
      "execution_count": null,
      "outputs": []
    }
  ]
}