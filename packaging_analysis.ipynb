{
  "nbformat": 4,
  "nbformat_minor": 0,
  "metadata": {
    "colab": {
      "name": "packaging_analysis.ipynb",
      "provenance": [],
      "collapsed_sections": [
        "7Txg9B7-RC46",
        "K5kcBAPFRHbY",
        "SBK1tQ_pwzzR"
      ],
      "authorship_tag": "ABX9TyPZft+mrJSACHy4D7tnQ+sN",
      "include_colab_link": true
    },
    "kernelspec": {
      "name": "python3",
      "display_name": "Python 3"
    }
  },
  "cells": [
    {
      "cell_type": "markdown",
      "metadata": {
        "id": "view-in-github",
        "colab_type": "text"
      },
      "source": [
        "<a href=\"https://colab.research.google.com/github/gabrielborja/python_data_analysis/blob/main/packaging_analysis.ipynb\" target=\"_parent\"><img src=\"https://colab.research.google.com/assets/colab-badge.svg\" alt=\"Open In Colab\"/></a>"
      ]
    },
    {
      "cell_type": "markdown",
      "metadata": {
        "id": "7Txg9B7-RC46"
      },
      "source": [
        "#Packaging Line analysis"
      ]
    },
    {
      "cell_type": "markdown",
      "metadata": {
        "id": "K5kcBAPFRHbY"
      },
      "source": [
        "## Importing necessary packages"
      ]
    },
    {
      "cell_type": "code",
      "metadata": {
        "id": "QTRtRZcb-IyF"
      },
      "source": [
        "#Importing necessary packages\n",
        "import numpy as np\n",
        "import pandas as pd\n",
        "import random\n",
        "import matplotlib.pyplot as plt\n",
        "import seaborn as sns\n",
        "\n",
        "%matplotlib inline"
      ],
      "execution_count": null,
      "outputs": []
    },
    {
      "cell_type": "code",
      "metadata": {
        "id": "i5W7tuPez2l5"
      },
      "source": [
        "#Customizing data visualization styles\n",
        "sns.set_theme(rc = {'figure.figsize': (12, 5)})"
      ],
      "execution_count": null,
      "outputs": []
    },
    {
      "cell_type": "code",
      "metadata": {
        "colab": {
          "resources": {
            "http://localhost:8080/nbextensions/google.colab/files.js": {
              "data": "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",
              "ok": true,
              "headers": [
                [
                  "content-type",
                  "application/javascript"
                ]
              ],
              "status": 200,
              "status_text": "OK"
            }
          },
          "base_uri": "https://localhost:8080/",
          "height": 73
        },
        "id": "oen97ED1-rh-",
        "outputId": "7bebc9cd-96a6-4851-ad6e-ae5e161f60ae"
      },
      "source": [
        "#Uploading file from local drive\n",
        "from google.colab import files\n",
        "uploaded = files.upload()"
      ],
      "execution_count": null,
      "outputs": [
        {
          "output_type": "display_data",
          "data": {
            "text/html": [
              "\n",
              "     <input type=\"file\" id=\"files-effbe0b7-2963-441c-b536-1dae2c6aa63f\" name=\"files[]\" multiple disabled\n",
              "        style=\"border:none\" />\n",
              "     <output id=\"result-effbe0b7-2963-441c-b536-1dae2c6aa63f\">\n",
              "      Upload widget is only available when the cell has been executed in the\n",
              "      current browser session. Please rerun this cell to enable.\n",
              "      </output>\n",
              "      <script src=\"/nbextensions/google.colab/files.js\"></script> "
            ],
            "text/plain": [
              "<IPython.core.display.HTML object>"
            ]
          },
          "metadata": {
            "tags": []
          }
        },
        {
          "output_type": "stream",
          "text": [
            "Saving 2021-02-24_packaging_kveld.xlsx to 2021-02-24_packaging_kveld.xlsx\n"
          ],
          "name": "stdout"
        }
      ]
    },
    {
      "cell_type": "code",
      "metadata": {
        "id": "03VoNwL0-3O6"
      },
      "source": [
        "#Storing dataset in a Pandas Dataframe\n",
        "import io\n",
        "df = pd.read_excel(io.BytesIO(uploaded['2021-02-24_packaging_kveld.xlsx']))"
      ],
      "execution_count": null,
      "outputs": []
    },
    {
      "cell_type": "code",
      "metadata": {
        "colab": {
          "base_uri": "https://localhost:8080/"
        },
        "id": "mYQi-aF7wUTN",
        "outputId": "7a7ce3c5-c112-4998-e493-3740433f02f6"
      },
      "source": [
        "#Checking the dataframe information\n",
        "df.info()"
      ],
      "execution_count": null,
      "outputs": [
        {
          "output_type": "stream",
          "text": [
            "<class 'pandas.core.frame.DataFrame'>\n",
            "RangeIndex: 23 entries, 0 to 22\n",
            "Data columns (total 5 columns):\n",
            " #   Column   Non-Null Count  Dtype         \n",
            "---  ------   --------------  -----         \n",
            " 0   Event    23 non-null     int64         \n",
            " 1   Machine  23 non-null     object        \n",
            " 2   Start    23 non-null     datetime64[ns]\n",
            " 3   Stop     23 non-null     datetime64[ns]\n",
            " 4   Min      23 non-null     float64       \n",
            "dtypes: datetime64[ns](2), float64(1), int64(1), object(1)\n",
            "memory usage: 1.0+ KB\n"
          ],
          "name": "stdout"
        }
      ]
    },
    {
      "cell_type": "code",
      "metadata": {
        "colab": {
          "base_uri": "https://localhost:8080/",
          "height": 195
        },
        "id": "AYfIrqXq7JV2",
        "outputId": "f1e5ed59-c0f7-44e0-bbf5-f4c0a419ad86"
      },
      "source": [
        "df.head()"
      ],
      "execution_count": null,
      "outputs": [
        {
          "output_type": "execute_result",
          "data": {
            "text/html": [
              "<div>\n",
              "<style scoped>\n",
              "    .dataframe tbody tr th:only-of-type {\n",
              "        vertical-align: middle;\n",
              "    }\n",
              "\n",
              "    .dataframe tbody tr th {\n",
              "        vertical-align: top;\n",
              "    }\n",
              "\n",
              "    .dataframe thead th {\n",
              "        text-align: right;\n",
              "    }\n",
              "</style>\n",
              "<table border=\"1\" class=\"dataframe\">\n",
              "  <thead>\n",
              "    <tr style=\"text-align: right;\">\n",
              "      <th></th>\n",
              "      <th>Event</th>\n",
              "      <th>Machine</th>\n",
              "      <th>Start</th>\n",
              "      <th>Stop</th>\n",
              "      <th>Min</th>\n",
              "    </tr>\n",
              "  </thead>\n",
              "  <tbody>\n",
              "    <tr>\n",
              "      <th>0</th>\n",
              "      <td>1</td>\n",
              "      <td>PKM3</td>\n",
              "      <td>2021-02-24 15:29:27.633</td>\n",
              "      <td>2021-02-24 15:29:47.183</td>\n",
              "      <td>0.325833</td>\n",
              "    </tr>\n",
              "    <tr>\n",
              "      <th>1</th>\n",
              "      <td>2</td>\n",
              "      <td>PKM3</td>\n",
              "      <td>2021-02-24 15:32:34.416</td>\n",
              "      <td>2021-02-24 15:33:26.370</td>\n",
              "      <td>0.865900</td>\n",
              "    </tr>\n",
              "    <tr>\n",
              "      <th>2</th>\n",
              "      <td>3</td>\n",
              "      <td>PKM3</td>\n",
              "      <td>2021-02-24 15:34:18.771</td>\n",
              "      <td>2021-02-24 15:36:46.268</td>\n",
              "      <td>2.458283</td>\n",
              "    </tr>\n",
              "    <tr>\n",
              "      <th>3</th>\n",
              "      <td>4</td>\n",
              "      <td>PKM3</td>\n",
              "      <td>2021-02-24 15:36:59.021</td>\n",
              "      <td>2021-02-24 15:40:00.305</td>\n",
              "      <td>3.021400</td>\n",
              "    </tr>\n",
              "    <tr>\n",
              "      <th>4</th>\n",
              "      <td>5</td>\n",
              "      <td>PKM2</td>\n",
              "      <td>2021-02-24 16:03:32.321</td>\n",
              "      <td>2021-02-24 16:04:28.094</td>\n",
              "      <td>0.929550</td>\n",
              "    </tr>\n",
              "  </tbody>\n",
              "</table>\n",
              "</div>"
            ],
            "text/plain": [
              "   Event Machine                   Start                    Stop       Min\n",
              "0      1    PKM3 2021-02-24 15:29:27.633 2021-02-24 15:29:47.183  0.325833\n",
              "1      2    PKM3 2021-02-24 15:32:34.416 2021-02-24 15:33:26.370  0.865900\n",
              "2      3    PKM3 2021-02-24 15:34:18.771 2021-02-24 15:36:46.268  2.458283\n",
              "3      4    PKM3 2021-02-24 15:36:59.021 2021-02-24 15:40:00.305  3.021400\n",
              "4      5    PKM2 2021-02-24 16:03:32.321 2021-02-24 16:04:28.094  0.929550"
            ]
          },
          "metadata": {
            "tags": []
          },
          "execution_count": 6
        }
      ]
    },
    {
      "cell_type": "markdown",
      "metadata": {
        "id": "SBK1tQ_pwzzR"
      },
      "source": [
        "## Packaging stoppages EDA"
      ]
    },
    {
      "cell_type": "code",
      "metadata": {
        "colab": {
          "base_uri": "https://localhost:8080/",
          "height": 343
        },
        "id": "MCiIwEry7xE3",
        "outputId": "63a908c1-412f-49e5-ff3c-1ccfbddb79f5"
      },
      "source": [
        "#Creating a new dataframe and computing the minute and hour column based on a condition\n",
        "pkl = df.copy()\n",
        "pkl = pkl.assign(Minute = lambda y: y['Start'].dt.minute, Hour = lambda z: z['Start'].dt.hour)\n",
        "pkl = pkl.assign(Half_hours = lambda x: np.where(x['Minute'] < 30, x['Start'].dt.hour, x['Start'].dt.hour + 0.5)) #=> Critical to use np.where()\n",
        "pkl.head(10)"
      ],
      "execution_count": null,
      "outputs": [
        {
          "output_type": "execute_result",
          "data": {
            "text/html": [
              "<div>\n",
              "<style scoped>\n",
              "    .dataframe tbody tr th:only-of-type {\n",
              "        vertical-align: middle;\n",
              "    }\n",
              "\n",
              "    .dataframe tbody tr th {\n",
              "        vertical-align: top;\n",
              "    }\n",
              "\n",
              "    .dataframe thead th {\n",
              "        text-align: right;\n",
              "    }\n",
              "</style>\n",
              "<table border=\"1\" class=\"dataframe\">\n",
              "  <thead>\n",
              "    <tr style=\"text-align: right;\">\n",
              "      <th></th>\n",
              "      <th>Event</th>\n",
              "      <th>Machine</th>\n",
              "      <th>Start</th>\n",
              "      <th>Stop</th>\n",
              "      <th>Min</th>\n",
              "      <th>Minute</th>\n",
              "      <th>Hour</th>\n",
              "      <th>Half_hours</th>\n",
              "    </tr>\n",
              "  </thead>\n",
              "  <tbody>\n",
              "    <tr>\n",
              "      <th>0</th>\n",
              "      <td>1</td>\n",
              "      <td>PKM3</td>\n",
              "      <td>2021-02-24 15:29:27.633</td>\n",
              "      <td>2021-02-24 15:29:47.183</td>\n",
              "      <td>0.325833</td>\n",
              "      <td>29</td>\n",
              "      <td>15</td>\n",
              "      <td>15.0</td>\n",
              "    </tr>\n",
              "    <tr>\n",
              "      <th>1</th>\n",
              "      <td>2</td>\n",
              "      <td>PKM3</td>\n",
              "      <td>2021-02-24 15:32:34.416</td>\n",
              "      <td>2021-02-24 15:33:26.370</td>\n",
              "      <td>0.865900</td>\n",
              "      <td>32</td>\n",
              "      <td>15</td>\n",
              "      <td>15.5</td>\n",
              "    </tr>\n",
              "    <tr>\n",
              "      <th>2</th>\n",
              "      <td>3</td>\n",
              "      <td>PKM3</td>\n",
              "      <td>2021-02-24 15:34:18.771</td>\n",
              "      <td>2021-02-24 15:36:46.268</td>\n",
              "      <td>2.458283</td>\n",
              "      <td>34</td>\n",
              "      <td>15</td>\n",
              "      <td>15.5</td>\n",
              "    </tr>\n",
              "    <tr>\n",
              "      <th>3</th>\n",
              "      <td>4</td>\n",
              "      <td>PKM3</td>\n",
              "      <td>2021-02-24 15:36:59.021</td>\n",
              "      <td>2021-02-24 15:40:00.305</td>\n",
              "      <td>3.021400</td>\n",
              "      <td>36</td>\n",
              "      <td>15</td>\n",
              "      <td>15.5</td>\n",
              "    </tr>\n",
              "    <tr>\n",
              "      <th>4</th>\n",
              "      <td>5</td>\n",
              "      <td>PKM2</td>\n",
              "      <td>2021-02-24 16:03:32.321</td>\n",
              "      <td>2021-02-24 16:04:28.094</td>\n",
              "      <td>0.929550</td>\n",
              "      <td>3</td>\n",
              "      <td>16</td>\n",
              "      <td>16.0</td>\n",
              "    </tr>\n",
              "    <tr>\n",
              "      <th>5</th>\n",
              "      <td>6</td>\n",
              "      <td>PKM2</td>\n",
              "      <td>2021-02-24 16:22:24.802</td>\n",
              "      <td>2021-02-24 16:24:15.705</td>\n",
              "      <td>1.848383</td>\n",
              "      <td>22</td>\n",
              "      <td>16</td>\n",
              "      <td>16.0</td>\n",
              "    </tr>\n",
              "    <tr>\n",
              "      <th>6</th>\n",
              "      <td>7</td>\n",
              "      <td>PKM3</td>\n",
              "      <td>2021-02-24 16:27:39.127</td>\n",
              "      <td>2021-02-24 16:28:35.235</td>\n",
              "      <td>0.935133</td>\n",
              "      <td>27</td>\n",
              "      <td>16</td>\n",
              "      <td>16.0</td>\n",
              "    </tr>\n",
              "    <tr>\n",
              "      <th>7</th>\n",
              "      <td>8</td>\n",
              "      <td>PKM3</td>\n",
              "      <td>2021-02-24 16:38:58.645</td>\n",
              "      <td>2021-02-24 16:39:11.550</td>\n",
              "      <td>0.215083</td>\n",
              "      <td>38</td>\n",
              "      <td>16</td>\n",
              "      <td>16.5</td>\n",
              "    </tr>\n",
              "    <tr>\n",
              "      <th>8</th>\n",
              "      <td>9</td>\n",
              "      <td>PKM2</td>\n",
              "      <td>2021-02-24 16:44:50.897</td>\n",
              "      <td>2021-02-24 16:46:51.395</td>\n",
              "      <td>2.008300</td>\n",
              "      <td>44</td>\n",
              "      <td>16</td>\n",
              "      <td>16.5</td>\n",
              "    </tr>\n",
              "    <tr>\n",
              "      <th>9</th>\n",
              "      <td>10</td>\n",
              "      <td>PKM3</td>\n",
              "      <td>2021-02-24 16:44:51.679</td>\n",
              "      <td>2021-02-24 16:46:53.709</td>\n",
              "      <td>2.033833</td>\n",
              "      <td>44</td>\n",
              "      <td>16</td>\n",
              "      <td>16.5</td>\n",
              "    </tr>\n",
              "  </tbody>\n",
              "</table>\n",
              "</div>"
            ],
            "text/plain": [
              "   Event Machine                   Start  ... Minute  Hour  Half_hours\n",
              "0      1    PKM3 2021-02-24 15:29:27.633  ...     29    15        15.0\n",
              "1      2    PKM3 2021-02-24 15:32:34.416  ...     32    15        15.5\n",
              "2      3    PKM3 2021-02-24 15:34:18.771  ...     34    15        15.5\n",
              "3      4    PKM3 2021-02-24 15:36:59.021  ...     36    15        15.5\n",
              "4      5    PKM2 2021-02-24 16:03:32.321  ...      3    16        16.0\n",
              "5      6    PKM2 2021-02-24 16:22:24.802  ...     22    16        16.0\n",
              "6      7    PKM3 2021-02-24 16:27:39.127  ...     27    16        16.0\n",
              "7      8    PKM3 2021-02-24 16:38:58.645  ...     38    16        16.5\n",
              "8      9    PKM2 2021-02-24 16:44:50.897  ...     44    16        16.5\n",
              "9     10    PKM3 2021-02-24 16:44:51.679  ...     44    16        16.5\n",
              "\n",
              "[10 rows x 8 columns]"
            ]
          },
          "metadata": {
            "tags": []
          },
          "execution_count": 7
        }
      ]
    },
    {
      "cell_type": "code",
      "metadata": {
        "colab": {
          "base_uri": "https://localhost:8080/",
          "height": 343
        },
        "id": "BG4JW08UrfgL",
        "outputId": "eceabadd-de55-4da0-ebd2-8edb5833214a"
      },
      "source": [
        "#Dividing the time loss by 2 for each packaging machine to calculate the GE loss\n",
        "pkl = pkl.assign(Min = pkl['Min']/2)\n",
        "pkl.head(10)"
      ],
      "execution_count": null,
      "outputs": [
        {
          "output_type": "execute_result",
          "data": {
            "text/html": [
              "<div>\n",
              "<style scoped>\n",
              "    .dataframe tbody tr th:only-of-type {\n",
              "        vertical-align: middle;\n",
              "    }\n",
              "\n",
              "    .dataframe tbody tr th {\n",
              "        vertical-align: top;\n",
              "    }\n",
              "\n",
              "    .dataframe thead th {\n",
              "        text-align: right;\n",
              "    }\n",
              "</style>\n",
              "<table border=\"1\" class=\"dataframe\">\n",
              "  <thead>\n",
              "    <tr style=\"text-align: right;\">\n",
              "      <th></th>\n",
              "      <th>Event</th>\n",
              "      <th>Machine</th>\n",
              "      <th>Start</th>\n",
              "      <th>Stop</th>\n",
              "      <th>Min</th>\n",
              "      <th>Minute</th>\n",
              "      <th>Hour</th>\n",
              "      <th>Half_hours</th>\n",
              "    </tr>\n",
              "  </thead>\n",
              "  <tbody>\n",
              "    <tr>\n",
              "      <th>0</th>\n",
              "      <td>1</td>\n",
              "      <td>PKM3</td>\n",
              "      <td>2021-02-24 15:29:27.633</td>\n",
              "      <td>2021-02-24 15:29:47.183</td>\n",
              "      <td>0.162917</td>\n",
              "      <td>29</td>\n",
              "      <td>15</td>\n",
              "      <td>15.0</td>\n",
              "    </tr>\n",
              "    <tr>\n",
              "      <th>1</th>\n",
              "      <td>2</td>\n",
              "      <td>PKM3</td>\n",
              "      <td>2021-02-24 15:32:34.416</td>\n",
              "      <td>2021-02-24 15:33:26.370</td>\n",
              "      <td>0.432950</td>\n",
              "      <td>32</td>\n",
              "      <td>15</td>\n",
              "      <td>15.5</td>\n",
              "    </tr>\n",
              "    <tr>\n",
              "      <th>2</th>\n",
              "      <td>3</td>\n",
              "      <td>PKM3</td>\n",
              "      <td>2021-02-24 15:34:18.771</td>\n",
              "      <td>2021-02-24 15:36:46.268</td>\n",
              "      <td>1.229142</td>\n",
              "      <td>34</td>\n",
              "      <td>15</td>\n",
              "      <td>15.5</td>\n",
              "    </tr>\n",
              "    <tr>\n",
              "      <th>3</th>\n",
              "      <td>4</td>\n",
              "      <td>PKM3</td>\n",
              "      <td>2021-02-24 15:36:59.021</td>\n",
              "      <td>2021-02-24 15:40:00.305</td>\n",
              "      <td>1.510700</td>\n",
              "      <td>36</td>\n",
              "      <td>15</td>\n",
              "      <td>15.5</td>\n",
              "    </tr>\n",
              "    <tr>\n",
              "      <th>4</th>\n",
              "      <td>5</td>\n",
              "      <td>PKM2</td>\n",
              "      <td>2021-02-24 16:03:32.321</td>\n",
              "      <td>2021-02-24 16:04:28.094</td>\n",
              "      <td>0.464775</td>\n",
              "      <td>3</td>\n",
              "      <td>16</td>\n",
              "      <td>16.0</td>\n",
              "    </tr>\n",
              "    <tr>\n",
              "      <th>5</th>\n",
              "      <td>6</td>\n",
              "      <td>PKM2</td>\n",
              "      <td>2021-02-24 16:22:24.802</td>\n",
              "      <td>2021-02-24 16:24:15.705</td>\n",
              "      <td>0.924192</td>\n",
              "      <td>22</td>\n",
              "      <td>16</td>\n",
              "      <td>16.0</td>\n",
              "    </tr>\n",
              "    <tr>\n",
              "      <th>6</th>\n",
              "      <td>7</td>\n",
              "      <td>PKM3</td>\n",
              "      <td>2021-02-24 16:27:39.127</td>\n",
              "      <td>2021-02-24 16:28:35.235</td>\n",
              "      <td>0.467567</td>\n",
              "      <td>27</td>\n",
              "      <td>16</td>\n",
              "      <td>16.0</td>\n",
              "    </tr>\n",
              "    <tr>\n",
              "      <th>7</th>\n",
              "      <td>8</td>\n",
              "      <td>PKM3</td>\n",
              "      <td>2021-02-24 16:38:58.645</td>\n",
              "      <td>2021-02-24 16:39:11.550</td>\n",
              "      <td>0.107542</td>\n",
              "      <td>38</td>\n",
              "      <td>16</td>\n",
              "      <td>16.5</td>\n",
              "    </tr>\n",
              "    <tr>\n",
              "      <th>8</th>\n",
              "      <td>9</td>\n",
              "      <td>PKM2</td>\n",
              "      <td>2021-02-24 16:44:50.897</td>\n",
              "      <td>2021-02-24 16:46:51.395</td>\n",
              "      <td>1.004150</td>\n",
              "      <td>44</td>\n",
              "      <td>16</td>\n",
              "      <td>16.5</td>\n",
              "    </tr>\n",
              "    <tr>\n",
              "      <th>9</th>\n",
              "      <td>10</td>\n",
              "      <td>PKM3</td>\n",
              "      <td>2021-02-24 16:44:51.679</td>\n",
              "      <td>2021-02-24 16:46:53.709</td>\n",
              "      <td>1.016917</td>\n",
              "      <td>44</td>\n",
              "      <td>16</td>\n",
              "      <td>16.5</td>\n",
              "    </tr>\n",
              "  </tbody>\n",
              "</table>\n",
              "</div>"
            ],
            "text/plain": [
              "   Event Machine                   Start  ... Minute  Hour  Half_hours\n",
              "0      1    PKM3 2021-02-24 15:29:27.633  ...     29    15        15.0\n",
              "1      2    PKM3 2021-02-24 15:32:34.416  ...     32    15        15.5\n",
              "2      3    PKM3 2021-02-24 15:34:18.771  ...     34    15        15.5\n",
              "3      4    PKM3 2021-02-24 15:36:59.021  ...     36    15        15.5\n",
              "4      5    PKM2 2021-02-24 16:03:32.321  ...      3    16        16.0\n",
              "5      6    PKM2 2021-02-24 16:22:24.802  ...     22    16        16.0\n",
              "6      7    PKM3 2021-02-24 16:27:39.127  ...     27    16        16.0\n",
              "7      8    PKM3 2021-02-24 16:38:58.645  ...     38    16        16.5\n",
              "8      9    PKM2 2021-02-24 16:44:50.897  ...     44    16        16.5\n",
              "9     10    PKM3 2021-02-24 16:44:51.679  ...     44    16        16.5\n",
              "\n",
              "[10 rows x 8 columns]"
            ]
          },
          "metadata": {
            "tags": []
          },
          "execution_count": 8
        }
      ]
    },
    {
      "cell_type": "code",
      "metadata": {
        "colab": {
          "base_uri": "https://localhost:8080/",
          "height": 343
        },
        "id": "-cGMk9x68f2R",
        "outputId": "d932ea8c-03b4-4be9-cc6d-925f0c93f798"
      },
      "source": [
        "#Grouping by events by minute and hour\n",
        "evn = pkl.copy()\n",
        "evn = evn.groupby(['Event', 'Start','Hour', 'Minute', 'Half_hours', 'Machine', 'Min']).count()['Stop'].reset_index()\n",
        "evn = evn.assign(Cum_min = lambda y: y['Min'].cumsum())\n",
        "evn = evn.assign(Cum_GE = lambda z: z['Cum_min']/12)\n",
        "evn.tail(10)"
      ],
      "execution_count": null,
      "outputs": [
        {
          "output_type": "execute_result",
          "data": {
            "text/html": [
              "<div>\n",
              "<style scoped>\n",
              "    .dataframe tbody tr th:only-of-type {\n",
              "        vertical-align: middle;\n",
              "    }\n",
              "\n",
              "    .dataframe tbody tr th {\n",
              "        vertical-align: top;\n",
              "    }\n",
              "\n",
              "    .dataframe thead th {\n",
              "        text-align: right;\n",
              "    }\n",
              "</style>\n",
              "<table border=\"1\" class=\"dataframe\">\n",
              "  <thead>\n",
              "    <tr style=\"text-align: right;\">\n",
              "      <th></th>\n",
              "      <th>Event</th>\n",
              "      <th>Start</th>\n",
              "      <th>Hour</th>\n",
              "      <th>Minute</th>\n",
              "      <th>Half_hours</th>\n",
              "      <th>Machine</th>\n",
              "      <th>Min</th>\n",
              "      <th>Stop</th>\n",
              "      <th>Cum_min</th>\n",
              "      <th>Cum_GE</th>\n",
              "    </tr>\n",
              "  </thead>\n",
              "  <tbody>\n",
              "    <tr>\n",
              "      <th>13</th>\n",
              "      <td>14</td>\n",
              "      <td>2021-02-24 16:56:12.158</td>\n",
              "      <td>16</td>\n",
              "      <td>56</td>\n",
              "      <td>16.5</td>\n",
              "      <td>PKM3</td>\n",
              "      <td>3.303300</td>\n",
              "      <td>1</td>\n",
              "      <td>15.609742</td>\n",
              "      <td>1.300812</td>\n",
              "    </tr>\n",
              "    <tr>\n",
              "      <th>14</th>\n",
              "      <td>15</td>\n",
              "      <td>2021-02-24 17:09:53.381</td>\n",
              "      <td>17</td>\n",
              "      <td>9</td>\n",
              "      <td>17.0</td>\n",
              "      <td>PKM3</td>\n",
              "      <td>1.945133</td>\n",
              "      <td>1</td>\n",
              "      <td>17.554875</td>\n",
              "      <td>1.462906</td>\n",
              "    </tr>\n",
              "    <tr>\n",
              "      <th>15</th>\n",
              "      <td>16</td>\n",
              "      <td>2021-02-24 17:10:23.841</td>\n",
              "      <td>17</td>\n",
              "      <td>10</td>\n",
              "      <td>17.0</td>\n",
              "      <td>PKM2</td>\n",
              "      <td>0.190367</td>\n",
              "      <td>1</td>\n",
              "      <td>17.745242</td>\n",
              "      <td>1.478770</td>\n",
              "    </tr>\n",
              "    <tr>\n",
              "      <th>16</th>\n",
              "      <td>17</td>\n",
              "      <td>2021-02-24 17:41:47.318</td>\n",
              "      <td>17</td>\n",
              "      <td>41</td>\n",
              "      <td>17.5</td>\n",
              "      <td>PKM3</td>\n",
              "      <td>1.928892</td>\n",
              "      <td>1</td>\n",
              "      <td>19.674133</td>\n",
              "      <td>1.639511</td>\n",
              "    </tr>\n",
              "    <tr>\n",
              "      <th>17</th>\n",
              "      <td>18</td>\n",
              "      <td>2021-02-24 17:42:47.850</td>\n",
              "      <td>17</td>\n",
              "      <td>42</td>\n",
              "      <td>17.5</td>\n",
              "      <td>PKM2</td>\n",
              "      <td>1.236475</td>\n",
              "      <td>1</td>\n",
              "      <td>20.910608</td>\n",
              "      <td>1.742551</td>\n",
              "    </tr>\n",
              "    <tr>\n",
              "      <th>18</th>\n",
              "      <td>19</td>\n",
              "      <td>2021-02-24 17:58:30.822</td>\n",
              "      <td>17</td>\n",
              "      <td>58</td>\n",
              "      <td>17.5</td>\n",
              "      <td>PKM2</td>\n",
              "      <td>3.358667</td>\n",
              "      <td>1</td>\n",
              "      <td>24.269275</td>\n",
              "      <td>2.022440</td>\n",
              "    </tr>\n",
              "    <tr>\n",
              "      <th>19</th>\n",
              "      <td>20</td>\n",
              "      <td>2021-02-24 18:38:36.739</td>\n",
              "      <td>18</td>\n",
              "      <td>38</td>\n",
              "      <td>18.5</td>\n",
              "      <td>PKM3</td>\n",
              "      <td>0.787975</td>\n",
              "      <td>1</td>\n",
              "      <td>25.057250</td>\n",
              "      <td>2.088104</td>\n",
              "    </tr>\n",
              "    <tr>\n",
              "      <th>20</th>\n",
              "      <td>21</td>\n",
              "      <td>2021-02-24 19:00:36.383</td>\n",
              "      <td>19</td>\n",
              "      <td>0</td>\n",
              "      <td>19.0</td>\n",
              "      <td>PKM3</td>\n",
              "      <td>1.592558</td>\n",
              "      <td>1</td>\n",
              "      <td>26.649808</td>\n",
              "      <td>2.220817</td>\n",
              "    </tr>\n",
              "    <tr>\n",
              "      <th>21</th>\n",
              "      <td>22</td>\n",
              "      <td>2021-02-24 19:21:35.518</td>\n",
              "      <td>19</td>\n",
              "      <td>21</td>\n",
              "      <td>19.0</td>\n",
              "      <td>PKM3</td>\n",
              "      <td>3.296392</td>\n",
              "      <td>1</td>\n",
              "      <td>29.946200</td>\n",
              "      <td>2.495517</td>\n",
              "    </tr>\n",
              "    <tr>\n",
              "      <th>22</th>\n",
              "      <td>23</td>\n",
              "      <td>2021-02-24 19:24:00.289</td>\n",
              "      <td>19</td>\n",
              "      <td>24</td>\n",
              "      <td>19.0</td>\n",
              "      <td>PKM2</td>\n",
              "      <td>2.110750</td>\n",
              "      <td>1</td>\n",
              "      <td>32.056950</td>\n",
              "      <td>2.671413</td>\n",
              "    </tr>\n",
              "  </tbody>\n",
              "</table>\n",
              "</div>"
            ],
            "text/plain": [
              "    Event                   Start  Hour  ...  Stop    Cum_min    Cum_GE\n",
              "13     14 2021-02-24 16:56:12.158    16  ...     1  15.609742  1.300812\n",
              "14     15 2021-02-24 17:09:53.381    17  ...     1  17.554875  1.462906\n",
              "15     16 2021-02-24 17:10:23.841    17  ...     1  17.745242  1.478770\n",
              "16     17 2021-02-24 17:41:47.318    17  ...     1  19.674133  1.639511\n",
              "17     18 2021-02-24 17:42:47.850    17  ...     1  20.910608  1.742551\n",
              "18     19 2021-02-24 17:58:30.822    17  ...     1  24.269275  2.022440\n",
              "19     20 2021-02-24 18:38:36.739    18  ...     1  25.057250  2.088104\n",
              "20     21 2021-02-24 19:00:36.383    19  ...     1  26.649808  2.220817\n",
              "21     22 2021-02-24 19:21:35.518    19  ...     1  29.946200  2.495517\n",
              "22     23 2021-02-24 19:24:00.289    19  ...     1  32.056950  2.671413\n",
              "\n",
              "[10 rows x 10 columns]"
            ]
          },
          "metadata": {
            "tags": []
          },
          "execution_count": 10
        }
      ]
    },
    {
      "cell_type": "code",
      "metadata": {
        "colab": {
          "base_uri": "https://localhost:8080/",
          "height": 398
        },
        "id": "43rZ43z19TFh",
        "outputId": "6e0ff704-933d-4ed7-b10d-c10758f56bfc"
      },
      "source": [
        "#Plotting the number of minutes lost by machine and time\n",
        "sns.relplot(x='Start', y='Cum_min', data=evn, hue='Machine', height=5, aspect=2.5, s=120)\n",
        "plt.title('Cumulative Time Loss in Packaging Area - Afternoon Shift - Feb 24, 2021')\n",
        "plt.yticks(np.arange(0, 35, 5))\n",
        "plt.show()"
      ],
      "execution_count": null,
      "outputs": [
        {
          "output_type": "display_data",
          "data": {
            "image/png": "[encoded data removed]",
            "text/plain": [
              "<Figure size 969.975x360 with 1 Axes>"
            ]
          },
          "metadata": {
            "tags": []
          }
        }
      ]
    },
    {
      "cell_type": "code",
      "metadata": {
        "colab": {
          "base_uri": "https://localhost:8080/",
          "height": 398
        },
        "id": "UsDxxWjhGPB6",
        "outputId": "732477e7-b391-4c73-bba7-d5ebe4f61b3f"
      },
      "source": [
        "#Plotting the GE loss by Machine\n",
        "sns.relplot(x='Start', y='Cum_GE', data=evn, hue='Machine', height=5, aspect=2.5, s=125)\n",
        "plt.title('Cumulative GE Loss in Packaging Area - Afternoon Shift - Feb 24, 2021')\n",
        "plt.yticks(np.arange(0, 4, 0.5))\n",
        "plt.show()"
      ],
      "execution_count": null,
      "outputs": [
        {
          "output_type": "display_data",
          "data": {
            "image/png": "[encoded data removed]",
            "text/plain": [
              "<Figure size 969.975x360 with 1 Axes>"
            ]
          },
          "metadata": {
            "tags": []
          }
        }
      ]
    },
    {
      "cell_type": "code",
      "metadata": {
        "colab": {
          "base_uri": "https://localhost:8080/",
          "height": 398
        },
        "id": "3VorE_cGokzV",
        "outputId": "62e34599-ac6b-405e-9026-bf7ee9c09d4e"
      },
      "source": [
        "#Plotting the number of minutes lost by each hour\n",
        "sns.catplot(x='Half_hours', y='Min', data=pkl, kind='bar', hue='Machine', height=5.0, aspect=2.5, ci=False, estimator=sum)\n",
        "plt.title('Time loss in packaging area by hour and machine - Afternoon Shift - Feb 24, 2021')\n",
        "plt.show()"
      ],
      "execution_count": null,
      "outputs": [
        {
          "output_type": "display_data",
          "data": {
            "image/png": "[encoded data removed]",
            "text/plain": [
              "<Figure size 969.975x360 with 1 Axes>"
            ]
          },
          "metadata": {
            "tags": []
          }
        }
      ]
    },
    {
      "cell_type": "code",
      "metadata": {
        "colab": {
          "base_uri": "https://localhost:8080/",
          "height": 398
        },
        "id": "0XESw6G3-gXX",
        "outputId": "b6bb59fd-18bd-4201-de47-2c5b7e6e1530"
      },
      "source": [
        "#Plotting the number of minutes lost by each half hour and machine\n",
        "sns.catplot(x='Half_hours', y='Min', data=pkl, kind='bar', height=5.0, aspect=2.5, ci=False, estimator=sum)\n",
        "plt.title('Time loss in packaging area vs time - Afternoon Shift - Feb 24, 2021')\n",
        "plt.show()"
      ],
      "execution_count": null,
      "outputs": [
        {
          "output_type": "display_data",
          "data": {
            "image/png": "[encoded data removed]",
            "text/plain": [
              "<Figure size 900x360 with 1 Axes>"
            ]
          },
          "metadata": {
            "tags": []
          }
        }
      ]
    },
    {
      "cell_type": "code",
      "metadata": {
        "colab": {
          "base_uri": "https://localhost:8080/",
          "height": 136
        },
        "id": "mDk2W92GwogK",
        "outputId": "e505be72-8aa8-42ff-ce52-c2b45939655d"
      },
      "source": [
        "#Groupying by Machine and Time loss\n",
        "round(pkl[['Machine', 'Min']].groupby(['Machine']).sum().sort_values('Machine', ascending=False), 2)"
      ],
      "execution_count": null,
      "outputs": [
        {
          "output_type": "execute_result",
          "data": {
            "text/html": [
              "<div>\n",
              "<style scoped>\n",
              "    .dataframe tbody tr th:only-of-type {\n",
              "        vertical-align: middle;\n",
              "    }\n",
              "\n",
              "    .dataframe tbody tr th {\n",
              "        vertical-align: top;\n",
              "    }\n",
              "\n",
              "    .dataframe thead th {\n",
              "        text-align: right;\n",
              "    }\n",
              "</style>\n",
              "<table border=\"1\" class=\"dataframe\">\n",
              "  <thead>\n",
              "    <tr style=\"text-align: right;\">\n",
              "      <th></th>\n",
              "      <th>Min</th>\n",
              "    </tr>\n",
              "    <tr>\n",
              "      <th>Machine</th>\n",
              "      <th></th>\n",
              "    </tr>\n",
              "  </thead>\n",
              "  <tbody>\n",
              "    <tr>\n",
              "      <th>PKM3</th>\n",
              "      <td>20.65</td>\n",
              "    </tr>\n",
              "    <tr>\n",
              "      <th>PKM2</th>\n",
              "      <td>11.41</td>\n",
              "    </tr>\n",
              "  </tbody>\n",
              "</table>\n",
              "</div>"
            ],
            "text/plain": [
              "           Min\n",
              "Machine       \n",
              "PKM3     20.65\n",
              "PKM2     11.41"
            ]
          },
          "metadata": {
            "tags": []
          },
          "execution_count": 17
        }
      ]
    },
    {
      "cell_type": "code",
      "metadata": {
        "colab": {
          "base_uri": "https://localhost:8080/",
          "height": 462
        },
        "id": "X_I_rnunDkPD",
        "outputId": "08e6161c-f0c2-4764-983c-f939c1fb46ac"
      },
      "source": [
        "#Groupying by Half_hour, Machine and Time loss\n",
        "round(pkl[['Half_hours', 'Machine', 'Min']].groupby(['Half_hours', 'Machine'], sort=False).sum(), 2)"
      ],
      "execution_count": null,
      "outputs": [
        {
          "output_type": "execute_result",
          "data": {
            "text/html": [
              "<div>\n",
              "<style scoped>\n",
              "    .dataframe tbody tr th:only-of-type {\n",
              "        vertical-align: middle;\n",
              "    }\n",
              "\n",
              "    .dataframe tbody tr th {\n",
              "        vertical-align: top;\n",
              "    }\n",
              "\n",
              "    .dataframe thead th {\n",
              "        text-align: right;\n",
              "    }\n",
              "</style>\n",
              "<table border=\"1\" class=\"dataframe\">\n",
              "  <thead>\n",
              "    <tr style=\"text-align: right;\">\n",
              "      <th></th>\n",
              "      <th></th>\n",
              "      <th>Min</th>\n",
              "    </tr>\n",
              "    <tr>\n",
              "      <th>Half_hours</th>\n",
              "      <th>Machine</th>\n",
              "      <th></th>\n",
              "    </tr>\n",
              "  </thead>\n",
              "  <tbody>\n",
              "    <tr>\n",
              "      <th>15.0</th>\n",
              "      <th>PKM3</th>\n",
              "      <td>0.16</td>\n",
              "    </tr>\n",
              "    <tr>\n",
              "      <th>15.5</th>\n",
              "      <th>PKM3</th>\n",
              "      <td>3.17</td>\n",
              "    </tr>\n",
              "    <tr>\n",
              "      <th rowspan=\"2\" valign=\"top\">16.0</th>\n",
              "      <th>PKM2</th>\n",
              "      <td>1.39</td>\n",
              "    </tr>\n",
              "    <tr>\n",
              "      <th>PKM3</th>\n",
              "      <td>0.47</td>\n",
              "    </tr>\n",
              "    <tr>\n",
              "      <th rowspan=\"2\" valign=\"top\">16.5</th>\n",
              "      <th>PKM3</th>\n",
              "      <td>7.29</td>\n",
              "    </tr>\n",
              "    <tr>\n",
              "      <th>PKM2</th>\n",
              "      <td>3.12</td>\n",
              "    </tr>\n",
              "    <tr>\n",
              "      <th rowspan=\"2\" valign=\"top\">17.0</th>\n",
              "      <th>PKM3</th>\n",
              "      <td>1.95</td>\n",
              "    </tr>\n",
              "    <tr>\n",
              "      <th>PKM2</th>\n",
              "      <td>0.19</td>\n",
              "    </tr>\n",
              "    <tr>\n",
              "      <th rowspan=\"2\" valign=\"top\">17.5</th>\n",
              "      <th>PKM3</th>\n",
              "      <td>1.93</td>\n",
              "    </tr>\n",
              "    <tr>\n",
              "      <th>PKM2</th>\n",
              "      <td>4.60</td>\n",
              "    </tr>\n",
              "    <tr>\n",
              "      <th>18.5</th>\n",
              "      <th>PKM3</th>\n",
              "      <td>0.79</td>\n",
              "    </tr>\n",
              "    <tr>\n",
              "      <th rowspan=\"2\" valign=\"top\">19.0</th>\n",
              "      <th>PKM3</th>\n",
              "      <td>4.89</td>\n",
              "    </tr>\n",
              "    <tr>\n",
              "      <th>PKM2</th>\n",
              "      <td>2.11</td>\n",
              "    </tr>\n",
              "  </tbody>\n",
              "</table>\n",
              "</div>"
            ],
            "text/plain": [
              "                     Min\n",
              "Half_hours Machine      \n",
              "15.0       PKM3     0.16\n",
              "15.5       PKM3     3.17\n",
              "16.0       PKM2     1.39\n",
              "           PKM3     0.47\n",
              "16.5       PKM3     7.29\n",
              "           PKM2     3.12\n",
              "17.0       PKM3     1.95\n",
              "           PKM2     0.19\n",
              "17.5       PKM3     1.93\n",
              "           PKM2     4.60\n",
              "18.5       PKM3     0.79\n",
              "19.0       PKM3     4.89\n",
              "           PKM2     2.11"
            ]
          },
          "metadata": {
            "tags": []
          },
          "execution_count": 18
        }
      ]
    },
    {
      "cell_type": "code",
      "metadata": {
        "colab": {
          "base_uri": "https://localhost:8080/",
          "height": 396
        },
        "id": "b9JmOSqiE8c3",
        "outputId": "b877d372-df56-49d9-b6da-ef5f0a57c890"
      },
      "source": [
        "#Plotting the variability of each machine\n",
        "sns.catplot(x='Half_hours', y='Min', data=pkl, kind='box', height=5.0, aspect=2.5, ci=False, estimator=sum)\n",
        "plt.title('Box plot of Time loss in packaging area by hour and machine - Feb 15, 2021')\n",
        "plt.show()"
      ],
      "execution_count": null,
      "outputs": [
        {
          "output_type": "display_data",
          "data": {
            "image/png": "[encoded data removed]",
            "text/plain": [
              "<Figure size 900x360 with 1 Axes>"
            ]
          },
          "metadata": {
            "tags": []
          }
        }
      ]
    },
    {
      "cell_type": "code",
      "metadata": {
        "colab": {
          "base_uri": "https://localhost:8080/"
        },
        "id": "SPPve6dLAaxg",
        "outputId": "bebe95a7-ba25-41f8-8252-697609c16fc2"
      },
      "source": [
        "pkl.info()"
      ],
      "execution_count": null,
      "outputs": [
        {
          "output_type": "stream",
          "text": [
            "<class 'pandas.core.frame.DataFrame'>\n",
            "RangeIndex: 23 entries, 0 to 22\n",
            "Data columns (total 8 columns):\n",
            " #   Column      Non-Null Count  Dtype         \n",
            "---  ------      --------------  -----         \n",
            " 0   Event       23 non-null     int64         \n",
            " 1   Machine     23 non-null     object        \n",
            " 2   Start       23 non-null     datetime64[ns]\n",
            " 3   Stop        23 non-null     datetime64[ns]\n",
            " 4   Min         23 non-null     float64       \n",
            " 5   Minute      23 non-null     int64         \n",
            " 6   Hour        23 non-null     int64         \n",
            " 7   Half_hours  23 non-null     float64       \n",
            "dtypes: datetime64[ns](2), float64(2), int64(3), object(1)\n",
            "memory usage: 1.6+ KB\n"
          ],
          "name": "stdout"
        }
      ]
    },
    {
      "cell_type": "markdown",
      "metadata": {
        "id": "GFHN46y8R2ZJ"
      },
      "source": [
        "# Packaging parts analysis"
      ]
    },
    {
      "cell_type": "markdown",
      "metadata": {
        "id": "sgzkv1LwjLIL"
      },
      "source": [
        "## Uploading packages and data"
      ]
    },
    {
      "cell_type": "code",
      "metadata": {
        "id": "VmmlAKtdR1ti"
      },
      "source": [
        "#Importing necessary packages\n",
        "import numpy as np\n",
        "import pandas as pd\n",
        "import random\n",
        "import matplotlib.pyplot as plt\n",
        "import seaborn as sns\n",
        "import math"
      ],
      "execution_count": 1,
      "outputs": []
    },
    {
      "cell_type": "code",
      "metadata": {
        "id": "1Z4jxJjRRPLB"
      },
      "source": [
        "#Remove previous versions of the uploaded excel file\n",
        "!rm xxxxxxxxxxxxx.xlsx"
      ],
      "execution_count": null,
      "outputs": []
    },
    {
      "cell_type": "code",
      "metadata": {
        "colab": {
          "resources": {
            "http://localhost:8080/nbextensions/google.colab/files.js": {
              "data": "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",
              "ok": true,
              "headers": [
                [
                  "content-type",
                  "application/javascript"
                ]
              ],
              "status": 200,
              "status_text": "OK"
            }
          },
          "base_uri": "https://localhost:8080/",
          "height": 73
        },
        "id": "nK2bp-MMYNZL",
        "outputId": "ca778ce9-c8f6-4a82-aad3-e6e4728df527"
      },
      "source": [
        "#Upload file from local disk\n",
        "from google.colab import files\n",
        "upload = files.upload()"
      ],
      "execution_count": null,
      "outputs": [
        {
          "output_type": "display_data",
          "data": {
            "text/html": [
              "\n",
              "     <input type=\"file\" id=\"files-57831e4b-fabc-44dc-8e1c-0822013e1d72\" name=\"files[]\" multiple disabled\n",
              "        style=\"border:none\" />\n",
              "     <output id=\"result-57831e4b-fabc-44dc-8e1c-0822013e1d72\">\n",
              "      Upload widget is only available when the cell has been executed in the\n",
              "      current browser session. Please rerun this cell to enable.\n",
              "      </output>\n",
              "      <script src=\"/nbextensions/google.colab/files.js\"></script> "
            ],
            "text/plain": [
              "<IPython.core.display.HTML object>"
            ]
          },
          "metadata": {
            "tags": []
          }
        },
        {
          "output_type": "stream",
          "text": [
            "Saving hoved_deler_autowrapper.xlsx to hoved_deler_autowrapper.xlsx\n"
          ],
          "name": "stdout"
        }
      ]
    },
    {
      "cell_type": "code",
      "metadata": {
        "id": "5Es58MirYTVH"
      },
      "source": [
        "#Save uploaded file to a pandas dataframe\n",
        "import io\n",
        "df = pd.read_excel(io.BytesIO(upload['hoved_deler_autowrapper.xlsx']), index_col='Deler') # ==> Set Parts column as index"
      ],
      "execution_count": null,
      "outputs": []
    },
    {
      "cell_type": "code",
      "metadata": {
        "id": "k0zNE4k4hw0N"
      },
      "source": [
        "#Fill missing values with np.nan\n",
        "df = df.fillna(value=np.nan)"
      ],
      "execution_count": null,
      "outputs": []
    },
    {
      "cell_type": "code",
      "metadata": {
        "colab": {
          "base_uri": "https://localhost:8080/",
          "height": 245
        },
        "id": "_XiEFxgeHhKn",
        "outputId": "17221242-0379-48e4-cc8c-456d07b4f280"
      },
      "source": [
        "#Checking the dataframe head\n",
        "df.head()"
      ],
      "execution_count": null,
      "outputs": [
        {
          "output_type": "execute_result",
          "data": {
            "text/html": [
              "<div>\n",
              "<style scoped>\n",
              "    .dataframe tbody tr th:only-of-type {\n",
              "        vertical-align: middle;\n",
              "    }\n",
              "\n",
              "    .dataframe tbody tr th {\n",
              "        vertical-align: top;\n",
              "    }\n",
              "\n",
              "    .dataframe thead th {\n",
              "        text-align: right;\n",
              "    }\n",
              "</style>\n",
              "<table border=\"1\" class=\"dataframe\">\n",
              "  <thead>\n",
              "    <tr style=\"text-align: right;\">\n",
              "      <th></th>\n",
              "      <th>Ristebord_1</th>\n",
              "      <th>Ristebord_2</th>\n",
              "      <th>Agitator</th>\n",
              "      <th>Matelinje</th>\n",
              "      <th>Kontrollsystem</th>\n",
              "      <th>Biter_venstre_ligning</th>\n",
              "      <th>Biter_topp_ligning</th>\n",
              "      <th>Folie_mating</th>\n",
              "      <th>Folie_merking</th>\n",
              "      <th>Folie_rulling</th>\n",
              "      <th>Folie_kutting</th>\n",
              "      <th>Folie_liming</th>\n",
              "      <th>Folietransport</th>\n",
              "      <th>Skyv_biter_opp</th>\n",
              "      <th>Ruller_innbretter_ruller</th>\n",
              "      <th>Ruller_utmating</th>\n",
              "      <th>Flexlink</th>\n",
              "    </tr>\n",
              "    <tr>\n",
              "      <th>Deler</th>\n",
              "      <th></th>\n",
              "      <th></th>\n",
              "      <th></th>\n",
              "      <th></th>\n",
              "      <th></th>\n",
              "      <th></th>\n",
              "      <th></th>\n",
              "      <th></th>\n",
              "      <th></th>\n",
              "      <th></th>\n",
              "      <th></th>\n",
              "      <th></th>\n",
              "      <th></th>\n",
              "      <th></th>\n",
              "      <th></th>\n",
              "      <th></th>\n",
              "      <th></th>\n",
              "    </tr>\n",
              "  </thead>\n",
              "  <tbody>\n",
              "    <tr>\n",
              "      <th>1</th>\n",
              "      <td>Ristebord_1_motor</td>\n",
              "      <td>Ristebord_2_motor</td>\n",
              "      <td>Agitator_motor_1</td>\n",
              "      <td>Matelinje_motor</td>\n",
              "      <td>Hovedpanel</td>\n",
              "      <td>Venstre_ligning_motor</td>\n",
              "      <td>Topp_ligning_motor</td>\n",
              "      <td>Folie_motor</td>\n",
              "      <td>Merkesystem</td>\n",
              "      <td>Folierullende_motor</td>\n",
              "      <td>Folie_kniv</td>\n",
              "      <td>Liming_maskin</td>\n",
              "      <td>Klippebord</td>\n",
              "      <td>Skyv_opp_motor</td>\n",
              "      <td>Pakkemotor</td>\n",
              "      <td>Utmating_motor</td>\n",
              "      <td>Flexlink_motor</td>\n",
              "    </tr>\n",
              "    <tr>\n",
              "      <th>2</th>\n",
              "      <td>Ristebord_1_sensor</td>\n",
              "      <td>NaN</td>\n",
              "      <td>Agitator_motor_2</td>\n",
              "      <td>Renne</td>\n",
              "      <td>Stemplepanel</td>\n",
              "      <td>Venstre_stempel</td>\n",
              "      <td>Metal_skyver</td>\n",
              "      <td>Folie_sensor</td>\n",
              "      <td>Merkesensor</td>\n",
              "      <td>Folierullende_sensor</td>\n",
              "      <td>NaN</td>\n",
              "      <td>Liming_slange</td>\n",
              "      <td>Klippekjede</td>\n",
              "      <td>Gaffel</td>\n",
              "      <td>Pakkehode</td>\n",
              "      <td>Utmating_bånd</td>\n",
              "      <td>Flexlink_kjede</td>\n",
              "    </tr>\n",
              "    <tr>\n",
              "      <th>3</th>\n",
              "      <td>NaN</td>\n",
              "      <td>NaN</td>\n",
              "      <td>Agitator_sensor</td>\n",
              "      <td>Spylekjede</td>\n",
              "      <td>Limpanel</td>\n",
              "      <td>NaN</td>\n",
              "      <td>NaN</td>\n",
              "      <td>Folie_spole</td>\n",
              "      <td>NaN</td>\n",
              "      <td>Folierullende</td>\n",
              "      <td>NaN</td>\n",
              "      <td>Limdyse</td>\n",
              "      <td>Klippebord_sensor</td>\n",
              "      <td>NaN</td>\n",
              "      <td>Pakkebånd</td>\n",
              "      <td>NaN</td>\n",
              "      <td>NaN</td>\n",
              "    </tr>\n",
              "    <tr>\n",
              "      <th>4</th>\n",
              "      <td>NaN</td>\n",
              "      <td>NaN</td>\n",
              "      <td>Emergency_stop</td>\n",
              "      <td>NaN</td>\n",
              "      <td>NaN</td>\n",
              "      <td>NaN</td>\n",
              "      <td>NaN</td>\n",
              "      <td>NaN</td>\n",
              "      <td>NaN</td>\n",
              "      <td>Foliebord</td>\n",
              "      <td>NaN</td>\n",
              "      <td>NaN</td>\n",
              "      <td>Klippemotor</td>\n",
              "      <td>NaN</td>\n",
              "      <td>Innbretter_venstre</td>\n",
              "      <td>NaN</td>\n",
              "      <td>NaN</td>\n",
              "    </tr>\n",
              "    <tr>\n",
              "      <th>5</th>\n",
              "      <td>NaN</td>\n",
              "      <td>NaN</td>\n",
              "      <td>NaN</td>\n",
              "      <td>NaN</td>\n",
              "      <td>NaN</td>\n",
              "      <td>NaN</td>\n",
              "      <td>NaN</td>\n",
              "      <td>NaN</td>\n",
              "      <td>NaN</td>\n",
              "      <td>NaN</td>\n",
              "      <td>NaN</td>\n",
              "      <td>NaN</td>\n",
              "      <td>Klipp_1</td>\n",
              "      <td>NaN</td>\n",
              "      <td>Innbretter_høyre</td>\n",
              "      <td>NaN</td>\n",
              "      <td>NaN</td>\n",
              "    </tr>\n",
              "  </tbody>\n",
              "</table>\n",
              "</div>"
            ],
            "text/plain": [
              "              Ristebord_1        Ristebord_2  ... Ruller_utmating        Flexlink\n",
              "Deler                                         ...                                \n",
              "1       Ristebord_1_motor  Ristebord_2_motor  ...  Utmating_motor  Flexlink_motor\n",
              "2      Ristebord_1_sensor                NaN  ...   Utmating_bånd  Flexlink_kjede\n",
              "3                     NaN                NaN  ...             NaN             NaN\n",
              "4                     NaN                NaN  ...             NaN             NaN\n",
              "5                     NaN                NaN  ...             NaN             NaN\n",
              "\n",
              "[5 rows x 17 columns]"
            ]
          },
          "metadata": {
            "tags": []
          },
          "execution_count": 50
        }
      ]
    },
    {
      "cell_type": "markdown",
      "metadata": {
        "id": "BZWwvoFyYJfp"
      },
      "source": [
        "## Generating dictionary from List of parts"
      ]
    },
    {
      "cell_type": "code",
      "metadata": {
        "id": "eA4AwVIW9lSB"
      },
      "source": [
        "my_dict = {'Agitator': ['Emergency_stop', 'Agitator_sensor', 'nan', 'nan'],\n",
        "           'Biter_topp_ligning': ['Metal_skyver', 'nan', 'nan'],\n",
        "           'Biter_venstre_ligning': ['Venstre_stempel', 'Venstre_ligning_motor', 'nan', 'nan', 'nan'],\n",
        "           'Flexlink': ['Flexlink_kjede', 'Flexlink_motor', 'nan']}"
      ],
      "execution_count": 89,
      "outputs": []
    },
    {
      "cell_type": "code",
      "metadata": {
        "colab": {
          "base_uri": "https://localhost:8080/"
        },
        "id": "Pxu76epYH32z",
        "outputId": "f480e81f-c518-4b88-8b78-6cce79872937"
      },
      "source": [
        "my_dict"
      ],
      "execution_count": 90,
      "outputs": [
        {
          "output_type": "execute_result",
          "data": {
            "text/plain": [
              "{'Agitator': ['Emergency_stop', 'Agitator_sensor', 'nan', 'nan'],\n",
              " 'Biter_topp_ligning': ['Metal_skyver', 'nan', 'nan'],\n",
              " 'Biter_venstre_ligning': ['Venstre_stempel',\n",
              "  'Venstre_ligning_motor',\n",
              "  'nan',\n",
              "  'nan',\n",
              "  'nan'],\n",
              " 'Flexlink': ['Flexlink_kjede', 'Flexlink_motor', 'nan']}"
            ]
          },
          "metadata": {
            "tags": []
          },
          "execution_count": 90
        }
      ]
    },
    {
      "cell_type": "code",
      "metadata": {
        "colab": {
          "base_uri": "https://localhost:8080/"
        },
        "id": "0r_1D0lSH-cW",
        "outputId": "8a038b28-646d-4654-d3e7-7b61f845421b"
      },
      "source": [
        "#Building a dictionary from columns, ignoring missing values\n",
        "#my_dict = df.to_dict(orient='list')\n",
        "clean_dict = {k: [val for val in l if str(val) != 'nan'] for k, l in my_dict.items()}\n",
        "clean_dict"
      ],
      "execution_count": 91,
      "outputs": [
        {
          "output_type": "execute_result",
          "data": {
            "text/plain": [
              "{'Agitator': ['Emergency_stop', 'Agitator_sensor'],\n",
              " 'Biter_topp_ligning': ['Metal_skyver'],\n",
              " 'Biter_venstre_ligning': ['Venstre_stempel', 'Venstre_ligning_motor'],\n",
              " 'Flexlink': ['Flexlink_kjede', 'Flexlink_motor']}"
            ]
          },
          "metadata": {
            "tags": []
          },
          "execution_count": 91
        }
      ]
    },
    {
      "cell_type": "code",
      "metadata": {
        "colab": {
          "base_uri": "https://localhost:8080/"
        },
        "id": "UmdtkF6MjFei",
        "outputId": "4ac513f3-b9bf-4919-d576-d6e5a4cb4839"
      },
      "source": [
        "my_dict"
      ],
      "execution_count": 84,
      "outputs": [
        {
          "output_type": "execute_result",
          "data": {
            "text/plain": [
              "{None}"
            ]
          },
          "metadata": {
            "tags": []
          },
          "execution_count": 84
        }
      ]
    },
    {
      "cell_type": "code",
      "metadata": {
        "colab": {
          "base_uri": "https://localhost:8080/"
        },
        "id": "_U0nd0DRfwXs",
        "outputId": "a6aebbf3-de7b-42eb-918f-4941333d2f2a"
      },
      "source": [
        "type(my_dict['Agitator'][4])"
      ],
      "execution_count": null,
      "outputs": [
        {
          "output_type": "execute_result",
          "data": {
            "text/plain": [
              "float"
            ]
          },
          "metadata": {
            "tags": []
          },
          "execution_count": 40
        }
      ]
    },
    {
      "cell_type": "code",
      "metadata": {
        "colab": {
          "base_uri": "https://localhost:8080/"
        },
        "id": "YVGIHpFmYpiz",
        "outputId": "74c50ebd-03b1-4e45-a018-76336d197fdd"
      },
      "source": [
        "#Option 1: Create a function to locate and return a value from the dataframe\n",
        "def df_to_dict(df, arg1, arg2):\n",
        "  return df.xs(arg1, axis=0, level=None)[arg2].to_dict()\n",
        "\n",
        "my_dict = df_to_dict(df, 'Melkerull 10 Kg', 'Freia 148G Milk Roll 2 Pack')\n",
        "#print(f'Kode = {kode}, Group = {group}, Time = {value}min')\n",
        "\n",
        "for (kode, group), v in my_dict.items():\n",
        "  print(kode, group, v)"
      ],
      "execution_count": null,
      "outputs": [
        {
          "output_type": "stream",
          "text": [
            "78604 Massive 20.0\n"
          ],
          "name": "stdout"
        }
      ]
    },
    {
      "cell_type": "code",
      "metadata": {
        "colab": {
          "base_uri": "https://localhost:8080/",
          "height": 17
        },
        "id": "JbJddQFOf8JZ",
        "outputId": "6b57362a-b7f4-4d2d-ec3f-f349e8741207"
      },
      "source": [
        "#Download the file\n",
        "from google.colab import files\n",
        "my_dict.to_excel('dictionary_parts.xlsx', index=True)\n",
        "files.download('dictionary_parts.xlsx')"
      ],
      "execution_count": null,
      "outputs": [
        {
          "output_type": "display_data",
          "data": {
            "application/javascript": [
              "\n",
              "    async function download(id, filename, size) {\n",
              "      if (!google.colab.kernel.accessAllowed) {\n",
              "        return;\n",
              "      }\n",
              "      const div = document.createElement('div');\n",
              "      const label = document.createElement('label');\n",
              "      label.textContent = `Downloading \"${filename}\": `;\n",
              "      div.appendChild(label);\n",
              "      const progress = document.createElement('progress');\n",
              "      progress.max = size;\n",
              "      div.appendChild(progress);\n",
              "      document.body.appendChild(div);\n",
              "\n",
              "      const buffers = [];\n",
              "      let downloaded = 0;\n",
              "\n",
              "      const channel = await google.colab.kernel.comms.open(id);\n",
              "      // Send a message to notify the kernel that we're ready.\n",
              "      channel.send({})\n",
              "\n",
              "      for await (const message of channel.messages) {\n",
              "        // Send a message to notify the kernel that we're ready.\n",
              "        channel.send({})\n",
              "        if (message.buffers) {\n",
              "          for (const buffer of message.buffers) {\n",
              "            buffers.push(buffer);\n",
              "            downloaded += buffer.byteLength;\n",
              "            progress.value = downloaded;\n",
              "          }\n",
              "        }\n",
              "      }\n",
              "      const blob = new Blob(buffers, {type: 'application/binary'});\n",
              "      const a = document.createElement('a');\n",
              "      a.href = window.URL.createObjectURL(blob);\n",
              "      a.download = filename;\n",
              "      div.appendChild(a);\n",
              "      a.click();\n",
              "      div.remove();\n",
              "    }\n",
              "  "
            ],
            "text/plain": [
              "<IPython.core.display.Javascript object>"
            ]
          },
          "metadata": {
            "tags": []
          }
        },
        {
          "output_type": "display_data",
          "data": {
            "application/javascript": [
              "download(\"download_a6fa374a-803a-455e-8f13-2eb9de0823b0\", \"my_matrix.xlsx\", 7302)"
            ],
            "text/plain": [
              "<IPython.core.display.Javascript object>"
            ]
          },
          "metadata": {
            "tags": []
          }
        }
      ]
    },
    {
      "cell_type": "code",
      "metadata": {
        "id": "mNEeJpEtfOKU"
      },
      "source": [
        "# Save the DataFrame to a file on the Colab backend.\n",
        "with open('df.json', 'w') as f:\n",
        "  f.write(df.to_json())"
      ],
      "execution_count": null,
      "outputs": []
    },
    {
      "cell_type": "code",
      "metadata": {
        "colab": {
          "base_uri": "https://localhost:8080/",
          "height": 17
        },
        "id": "KtF_Mai0rm1Y",
        "outputId": "76163349-b0d2-465b-ad5c-1419bde27feb"
      },
      "source": [
        "#Download the file\n",
        "from google.colab import files\n",
        "files.download('df.json')"
      ],
      "execution_count": null,
      "outputs": [
        {
          "output_type": "display_data",
          "data": {
            "application/javascript": [
              "\n",
              "    async function download(id, filename, size) {\n",
              "      if (!google.colab.kernel.accessAllowed) {\n",
              "        return;\n",
              "      }\n",
              "      const div = document.createElement('div');\n",
              "      const label = document.createElement('label');\n",
              "      label.textContent = `Downloading \"${filename}\": `;\n",
              "      div.appendChild(label);\n",
              "      const progress = document.createElement('progress');\n",
              "      progress.max = size;\n",
              "      div.appendChild(progress);\n",
              "      document.body.appendChild(div);\n",
              "\n",
              "      const buffers = [];\n",
              "      let downloaded = 0;\n",
              "\n",
              "      const channel = await google.colab.kernel.comms.open(id);\n",
              "      // Send a message to notify the kernel that we're ready.\n",
              "      channel.send({})\n",
              "\n",
              "      for await (const message of channel.messages) {\n",
              "        // Send a message to notify the kernel that we're ready.\n",
              "        channel.send({})\n",
              "        if (message.buffers) {\n",
              "          for (const buffer of message.buffers) {\n",
              "            buffers.push(buffer);\n",
              "            downloaded += buffer.byteLength;\n",
              "            progress.value = downloaded;\n",
              "          }\n",
              "        }\n",
              "      }\n",
              "      const blob = new Blob(buffers, {type: 'application/binary'});\n",
              "      const a = document.createElement('a');\n",
              "      a.href = window.URL.createObjectURL(blob);\n",
              "      a.download = filename;\n",
              "      div.appendChild(a);\n",
              "      a.click();\n",
              "      div.remove();\n",
              "    }\n",
              "  "
            ],
            "text/plain": [
              "<IPython.core.display.Javascript object>"
            ]
          },
          "metadata": {
            "tags": []
          }
        },
        {
          "output_type": "display_data",
          "data": {
            "application/javascript": [
              "download(\"download_1a43903b-d653-4a8d-b2c4-3aa093990645\", \"df.json\", 8201)"
            ],
            "text/plain": [
              "<IPython.core.display.Javascript object>"
            ]
          },
          "metadata": {
            "tags": []
          }
        }
      ]
    },
    {
      "cell_type": "code",
      "metadata": {
        "id": "cDQ58isPgGAc"
      },
      "source": [
        "df.to_json?"
      ],
      "execution_count": null,
      "outputs": []
    },
    {
      "cell_type": "code",
      "metadata": {
        "id": "_0uK1sS3z3PD"
      },
      "source": [
        "df.to_dict?"
      ],
      "execution_count": null,
      "outputs": []
    },
    {
      "cell_type": "code",
      "metadata": {
        "id": "riKpUNktJeDA"
      },
      "source": [
        "pd.read_excel?"
      ],
      "execution_count": null,
      "outputs": []
    }
  ]
}