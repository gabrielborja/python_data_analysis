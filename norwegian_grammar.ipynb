{
  "nbformat": 4,
  "nbformat_minor": 0,
  "metadata": {
    "colab": {
      "name": "norwegian_grammar.ipynb",
      "provenance": [],
      "authorship_tag": "ABX9TyOxJJbwr+o+R/Y+eiGmLEnm",
      "include_colab_link": true
    },
    "kernelspec": {
      "name": "python3",
      "display_name": "Python 3"
    },
    "language_info": {
      "name": "python"
    }
  },
  "cells": [
    {
      "cell_type": "markdown",
      "metadata": {
        "id": "view-in-github",
        "colab_type": "text"
      },
      "source": [
        "<a href=\"https://colab.research.google.com/github/gabrielborja/python_data_analysis/blob/main/norwegian_grammar.ipynb\" target=\"_parent\"><img src=\"https://colab.research.google.com/assets/colab-badge.svg\" alt=\"Open In Colab\"/></a>"
      ]
    },
    {
      "cell_type": "markdown",
      "metadata": {
        "id": "-J_V-3sDkSeW"
      },
      "source": [
        "#Norwegian verbs practice"
      ]
    },
    {
      "cell_type": "markdown",
      "metadata": {
        "id": "U6D7HmWBkPS9"
      },
      "source": [
        "## Uploading packages and data"
      ]
    },
    {
      "cell_type": "code",
      "metadata": {
        "id": "g6o5TMjJkPTA"
      },
      "source": [
        "#Importing necessary libraries\n",
        "import numpy as np\n",
        "import pandas as pd\n",
        "import json\n",
        "import random\n",
        "from datetime import datetime\n",
        "import pytz\n",
        "import matplotlib.pyplot as plt\n",
        "from IPython.display import clear_output"
      ],
      "execution_count": 1,
      "outputs": []
    },
    {
      "cell_type": "code",
      "metadata": {
        "colab": {
          "base_uri": "https://localhost:8080/",
          "height": 79
        },
        "id": "IgNsO9Cr4t1Q",
        "outputId": "6c85178e-155d-49ee-e937-8baff446eebb"
      },
      "source": [
        "#Uploading google sheet from drive\n",
        "from google.colab import auth\n",
        "auth.authenticate_user()\n",
        "\n",
        "import gspread\n",
        "from oauth2client.client import GoogleCredentials\n",
        "\n",
        "gc = gspread.authorize(GoogleCredentials.get_application_default())\n",
        "\n",
        "wb = gc.open('norske_verb')\n",
        "ws_data = wb.sheet1\n",
        "records_1 = ws_data.get_all_records()\n",
        "\n",
        "# Converting to a Pandas DataFrame\n",
        "df1 = pd.DataFrame.from_records(records_1)\n",
        "df1.head(1)"
      ],
      "execution_count": 2,
      "outputs": [
        {
          "output_type": "execute_result",
          "data": {
            "text/html": [
              "<div>\n",
              "<style scoped>\n",
              "    .dataframe tbody tr th:only-of-type {\n",
              "        vertical-align: middle;\n",
              "    }\n",
              "\n",
              "    .dataframe tbody tr th {\n",
              "        vertical-align: top;\n",
              "    }\n",
              "\n",
              "    .dataframe thead th {\n",
              "        text-align: right;\n",
              "    }\n",
              "</style>\n",
              "<table border=\"1\" class=\"dataframe\">\n",
              "  <thead>\n",
              "    <tr style=\"text-align: right;\">\n",
              "      <th></th>\n",
              "      <th>gruppe</th>\n",
              "      <th>infinitiv</th>\n",
              "      <th>presens</th>\n",
              "      <th>preteritum</th>\n",
              "      <th>perfektum</th>\n",
              "      <th>imperativ</th>\n",
              "      <th>english</th>\n",
              "      <th>validated</th>\n",
              "    </tr>\n",
              "  </thead>\n",
              "  <tbody>\n",
              "    <tr>\n",
              "      <th>0</th>\n",
              "      <td>A</td>\n",
              "      <td>å adlyde</td>\n",
              "      <td>adlyder</td>\n",
              "      <td>adlød</td>\n",
              "      <td>har adlydt</td>\n",
              "      <td></td>\n",
              "      <td>Obey</td>\n",
              "      <td></td>\n",
              "    </tr>\n",
              "  </tbody>\n",
              "</table>\n",
              "</div>"
            ],
            "text/plain": [
              "  gruppe infinitiv  presens preteritum   perfektum imperativ english validated\n",
              "0      A  å adlyde  adlyder      adlød  har adlydt              Obey          "
            ]
          },
          "metadata": {},
          "execution_count": 2
        }
      ]
    },
    {
      "cell_type": "code",
      "metadata": {
        "colab": {
          "base_uri": "https://localhost:8080/"
        },
        "id": "3i1gCk0BYepI",
        "outputId": "f90ddcdf-172b-4d06-d468-e33fc6ab04be"
      },
      "source": [
        "#Checking the dataframe info\n",
        "df1.info()"
      ],
      "execution_count": 3,
      "outputs": [
        {
          "output_type": "stream",
          "name": "stdout",
          "text": [
            "<class 'pandas.core.frame.DataFrame'>\n",
            "RangeIndex: 391 entries, 0 to 390\n",
            "Data columns (total 8 columns):\n",
            " #   Column      Non-Null Count  Dtype \n",
            "---  ------      --------------  ----- \n",
            " 0   gruppe      391 non-null    object\n",
            " 1   infinitiv   391 non-null    object\n",
            " 2   presens     391 non-null    object\n",
            " 3   preteritum  391 non-null    object\n",
            " 4   perfektum   391 non-null    object\n",
            " 5   imperativ   391 non-null    object\n",
            " 6   english     391 non-null    object\n",
            " 7   validated   391 non-null    object\n",
            "dtypes: object(8)\n",
            "memory usage: 24.6+ KB\n"
          ]
        }
      ]
    },
    {
      "cell_type": "markdown",
      "metadata": {
        "id": "jVDPlX_nZcTh"
      },
      "source": [
        "##Generating JSON data"
      ]
    },
    {
      "cell_type": "code",
      "metadata": {
        "id": "hNdsaImkH49w",
        "colab": {
          "base_uri": "https://localhost:8080/"
        },
        "outputId": "ac314a35-32b1-4867-fb3c-ebba6c12cfaa"
      },
      "source": [
        "#Printing the number of key values available\n",
        "for i in list(df1['gruppe'].unique()):\n",
        "  print(i, end='-')"
      ],
      "execution_count": 4,
      "outputs": [
        {
          "output_type": "stream",
          "name": "stdout",
          "text": [
            "A-B-D-E-F-G-H-I-J-K-L-M-N-O-P-R-S-T-U-V-Ø-Å-"
          ]
        }
      ]
    },
    {
      "cell_type": "code",
      "metadata": {
        "id": "vNVvkyYuZIUQ"
      },
      "source": [
        "#Transforming dataframe to string (JSON format)\n",
        "df1_str = df1.to_json(orient='records')"
      ],
      "execution_count": 5,
      "outputs": []
    },
    {
      "cell_type": "code",
      "metadata": {
        "id": "v6Jf5gpjZLo1"
      },
      "source": [
        "#Dumping string to JSON file\n",
        "df1_json = json.loads(df1_str)"
      ],
      "execution_count": 6,
      "outputs": []
    },
    {
      "cell_type": "code",
      "metadata": {
        "id": "R3vpu-AXZX0O",
        "colab": {
          "base_uri": "https://localhost:8080/",
          "height": 35
        },
        "outputId": "91665c81-414a-4538-dc30-3eeeb8986da8"
      },
      "source": [
        "#Selecting one arbitrary value from the JSON file\n",
        "df1_json[-1]['english']"
      ],
      "execution_count": 7,
      "outputs": [
        {
          "output_type": "execute_result",
          "data": {
            "application/vnd.google.colaboratory.intrinsic+json": {
              "type": "string"
            },
            "text/plain": [
              "'Open'"
            ]
          },
          "metadata": {},
          "execution_count": 7
        }
      ]
    },
    {
      "cell_type": "code",
      "metadata": {
        "colab": {
          "base_uri": "https://localhost:8080/"
        },
        "id": "KH7YifK7aQwS",
        "outputId": "df042b3b-bd33-42ef-b41d-e07efb4b5f55"
      },
      "source": [
        "#Checking the JSON schema\n",
        "df1_json[0]"
      ],
      "execution_count": null,
      "outputs": [
        {
          "output_type": "execute_result",
          "data": {
            "text/plain": [
              "{'english': 'Obey',\n",
              " 'gruppe': 'A',\n",
              " 'imperativ': None,\n",
              " 'infinitiv': 'å adlyde',\n",
              " 'perfektum': 'har adlydt',\n",
              " 'presens': 'adlyder',\n",
              " 'preteritum': 'adlød'}"
            ]
          },
          "metadata": {},
          "execution_count": 10
        }
      ]
    },
    {
      "cell_type": "code",
      "metadata": {
        "id": "0fy6PK4Hio57"
      },
      "source": [
        "#Creating functions to simulate a practice test\n",
        "\n",
        "def sample_numbers(num1, num2, max_num=1):\n",
        "  return random.sample(range(num1, num2), max_num)\n",
        "\n",
        "def pick_word(i):\n",
        "  print(f'\\nVerb nummer: {i}')\n",
        "  print('*'*30)\n",
        "  for k, v in df1_json[i].items():\n",
        "    print(f'{k}: {v}')\n",
        "    print('-'*30)\n",
        "\n",
        "\n",
        "if __name__ == '__main__':\n",
        "  #Initializing variables\n",
        "  test_result = []\n",
        "  counter = 0\n",
        "  sample_size = 30 #==> change this value\n",
        "\n",
        "  #Generating unique sample numbers that don't repeat\n",
        "  sample_indexes = [i for i in sample_numbers(0, len(df1_json), sample_size)] #==> data is shuffled\n",
        "  \n",
        "  for i in range(len(sample_indexes)):\n",
        "    print(f'\\nNum: {i+1}')\n",
        "    pick_word(sample_indexes[i])\n",
        "    answer = input('\\nKjenner du dette verbet? (y/n)').strip().lower()\n",
        "    test_result.append((sample_indexes[i], df1_json[sample_indexes[i]]['presens'], answer))\n",
        "    clear_output()"
      ],
      "execution_count": 8,
      "outputs": []
    },
    {
      "cell_type": "markdown",
      "metadata": {
        "id": "T-1qotm5cGfN"
      },
      "source": [
        "##Displaying Practice Results"
      ]
    },
    {
      "cell_type": "code",
      "metadata": {
        "colab": {
          "base_uri": "https://localhost:8080/"
        },
        "id": "X0FPo9-z_JPS",
        "outputId": "6ff17a30-b76c-413f-cd2f-1a07b22a6500"
      },
      "source": [
        "#Displaying the results\n",
        "\n",
        "score = 0\n",
        "wrong_answers = []\n",
        "\n",
        "for i in range(len(test_result)):\n",
        "  if test_result[i][2] == 'y':\n",
        "    score += 1\n",
        "  else:\n",
        "    wrong_answers.append(test_result[i][0])\n",
        "\n",
        "final_score = round((score/len(sample_indexes))*100,1)\n",
        "dt_now = str(datetime.now(tz=pytz.timezone('Europe/Oslo')))\n",
        "\n",
        "print(f'Date of Practice: {dt_now}\\n')\n",
        "\n",
        "if final_score < 100:\n",
        "  print(f'Your score: {final_score}/100')\n",
        "  print('\\nYou should review the following words:\\n')\n",
        "  for i in wrong_answers:\n",
        "    print(f'Verb: {i}:', df1_json[i]['presens'], '==> ', df1_json[i]['english'])\n",
        "else:\n",
        "  print(f'Your score: {final_score}/100')\n",
        "  print('\\nThanks for being awesome!!!')"
      ],
      "execution_count": 9,
      "outputs": [
        {
          "output_type": "stream",
          "name": "stdout",
          "text": [
            "Date of Practice: 2021-10-30 12:37:52.739899+02:00\n",
            "\n",
            "Your score: 70.0/100\n",
            "\n",
            "You should review the following words:\n",
            "\n",
            "Verb: 306: sprekker ==>  Crack, Burst\n",
            "Verb: 106: gnir ==>  Rub\n",
            "Verb: 233: rekommanderer ==>  Register\n",
            "Verb: 140: høster ==>  Harvest\n",
            "Verb: 366: utarbeider ==>  Prepare, Work out\n",
            "Verb: 70: flykter ==>  Flee\n",
            "Verb: 108: graver ==>  Dig\n",
            "Verb: 88: føder ==>  Bear, Give birth to\n",
            "Verb: 329: sviker ==>  Defraud, Deceive\n"
          ]
        }
      ]
    },
    {
      "cell_type": "code",
      "metadata": {
        "id": "350EDT7opCyH"
      },
      "source": [
        "#Generating list of wrong verbs\n",
        "wrong_verbs = [df1_json[i]['presens'] for i in wrong_answers]"
      ],
      "execution_count": 10,
      "outputs": []
    },
    {
      "cell_type": "markdown",
      "metadata": {
        "id": "QwTfK4hFGF95"
      },
      "source": [
        "##Visualizing practice results"
      ]
    },
    {
      "cell_type": "code",
      "metadata": {
        "colab": {
          "base_uri": "https://localhost:8080/",
          "height": 281
        },
        "id": "QJCSm1qscLmW",
        "outputId": "c80e3786-8476-45ff-cad8-ff2e15c0d36f"
      },
      "source": [
        "#Visualizing practice results\n",
        "\n",
        "plt.bar([1, 2], [len(test_result), score], tick_label=['Questions', 'Correct'], color=['#007FFF', '#90EE90'])\n",
        "plt.axhline(y=len(test_result)*0.8, color='r', linestyle='-')\n",
        "plt.title('Current Test Results')\n",
        "plt.show()"
      ],
      "execution_count": 11,
      "outputs": [
        {
          "output_type": "display_data",
          "data": {
            "image/png": "[encoded data removed]",
            "text/plain": [
              "<Figure size 432x288 with 1 Axes>"
            ]
          },
          "metadata": {
            "needs_background": "light"
          }
        }
      ]
    },
    {
      "cell_type": "code",
      "metadata": {
        "id": "AS_TaCpsUD07"
      },
      "source": [
        "#Calculating the number of known verbs\n",
        "known_verbs = len([1 for i in range(len(df1_json)) if df1_json[i]['validated']=='Ok'])"
      ],
      "execution_count": 12,
      "outputs": []
    },
    {
      "cell_type": "code",
      "metadata": {
        "colab": {
          "base_uri": "https://localhost:8080/",
          "height": 282
        },
        "id": "g3jsyAhnTuDZ",
        "outputId": "86da14ce-5085-487f-8223-453aefa93506"
      },
      "source": [
        "#Visualizing known verbs\n",
        "\n",
        "plt.bar([1, 2], [len(df1_json), known_verbs], tick_label=['Total_verbs', 'Known_verbs'], color=['#007FFF', '#90EE90'])\n",
        "plt.axhline(y=len(df1_json)*0.8, color='r', linestyle='-')\n",
        "plt.title('Known Verbs')\n",
        "plt.show()"
      ],
      "execution_count": 13,
      "outputs": [
        {
          "output_type": "display_data",
          "data": {
            "image/png": "[encoded data removed]",
            "text/plain": [
              "<Figure size 432x288 with 1 Axes>"
            ]
          },
          "metadata": {
            "needs_background": "light"
          }
        }
      ]
    },
    {
      "cell_type": "markdown",
      "metadata": {
        "id": "rmkKhLtCGA8H"
      },
      "source": [
        "##Writing data to google sheets"
      ]
    },
    {
      "cell_type": "code",
      "metadata": {
        "id": "gJ-w9D_qGKRP"
      },
      "source": [
        "#Selecting worksheet\n",
        "ws_results = wb.worksheet('Sheet2')"
      ],
      "execution_count": 14,
      "outputs": []
    },
    {
      "cell_type": "code",
      "metadata": {
        "id": "0R6unKF9n1V-"
      },
      "source": [
        "#Saving practice results to Google Sheets\n",
        "ws_results.append_row([dt_now, final_score, known_verbs, str(wrong_verbs)])"
      ],
      "execution_count": null,
      "outputs": []
    },
    {
      "cell_type": "code",
      "metadata": {
        "colab": {
          "base_uri": "https://localhost:8080/"
        },
        "id": "gdZdyr4Zrpfo",
        "outputId": "0175d7a4-1d49-4463-e9e2-381e9dfb30ea"
      },
      "source": [
        "!python -V"
      ],
      "execution_count": null,
      "outputs": [
        {
          "output_type": "stream",
          "name": "stdout",
          "text": [
            "Python 3.7.12\n"
          ]
        }
      ]
    }
  ]
}