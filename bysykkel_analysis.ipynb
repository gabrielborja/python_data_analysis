{
  "nbformat": 4,
  "nbformat_minor": 0,
  "metadata": {
    "colab": {
      "name": "bysykkel_analysis.ipynb",
      "provenance": [],
      "collapsed_sections": [
        "sgzkv1LwjLIL",
        "nFhbxv-B6dN7",
        "c8cFTBBCngUc",
        "Tbg_Y30tVHIR",
        "pQNqlam8VRBB",
        "j0mLBFdc9bqm",
        "ewlYx-sRZeTF",
        "EAhFcX_zD2KM",
        "EQ96RybtclrJ"
      ],
      "authorship_tag": "ABX9TyP+H+9VHc/AlgTbuouBe7Ld",
      "include_colab_link": true
    },
    "kernelspec": {
      "name": "python3",
      "display_name": "Python 3"
    },
    "language_info": {
      "name": "python"
    },
    "widgets": {
      "application/vnd.jupyter.widget-state+json": {
        "b4db0f94aa2f4ad7b63b23548a5ad587": {
          "model_module": "@jupyter-widgets/controls",
          "model_name": "VBoxModel",
          "state": {
            "_view_name": "VBoxView",
            "_dom_classes": [
              "widget-interact"
            ],
            "_model_name": "VBoxModel",
            "_view_module": "@jupyter-widgets/controls",
            "_model_module_version": "1.5.0",
            "_view_count": null,
            "_view_module_version": "1.5.0",
            "box_style": "",
            "layout": "IPY_MODEL_ca6485cb566e4665a046c682da0ba61e",
            "_model_module": "@jupyter-widgets/controls",
            "children": [
              "IPY_MODEL_17e2e5b9ed6c43469d1003c3aeda1bb8",
              "IPY_MODEL_f919aec0efeb402daaca2f6db30df9a9",
              "IPY_MODEL_6d868ce2dc45439a923df5cc99eead5c",
              "IPY_MODEL_daf8a76f8e754553916ffdb048362972",
              "IPY_MODEL_3ea8c68e28194f7c91c696f68d42e940"
            ]
          }
        },
        "ca6485cb566e4665a046c682da0ba61e": {
          "model_module": "@jupyter-widgets/base",
          "model_name": "LayoutModel",
          "state": {
            "_view_name": "LayoutView",
            "grid_template_rows": null,
            "right": null,
            "justify_content": null,
            "_view_module": "@jupyter-widgets/base",
            "overflow": null,
            "_model_module_version": "1.2.0",
            "_view_count": null,
            "flex_flow": null,
            "width": null,
            "min_width": null,
            "border": null,
            "align_items": null,
            "bottom": null,
            "_model_module": "@jupyter-widgets/base",
            "top": null,
            "grid_column": null,
            "overflow_y": null,
            "overflow_x": null,
            "grid_auto_flow": null,
            "grid_area": null,
            "grid_template_columns": null,
            "flex": null,
            "_model_name": "LayoutModel",
            "justify_items": null,
            "grid_row": null,
            "max_height": null,
            "align_content": null,
            "visibility": null,
            "align_self": null,
            "height": null,
            "min_height": null,
            "padding": null,
            "grid_auto_rows": null,
            "grid_gap": null,
            "max_width": null,
            "order": null,
            "_view_module_version": "1.2.0",
            "grid_template_areas": null,
            "object_position": null,
            "object_fit": null,
            "grid_auto_columns": null,
            "margin": null,
            "display": null,
            "left": null
          }
        },
        "17e2e5b9ed6c43469d1003c3aeda1bb8": {
          "model_module": "@jupyter-widgets/controls",
          "model_name": "DropdownModel",
          "state": {
            "_options_labels": [
              "2020",
              "2021"
            ],
            "_view_name": "DropdownView",
            "style": "IPY_MODEL_0acee44d20174baf84968a4be801431b",
            "_dom_classes": [],
            "description": "Year",
            "_model_name": "DropdownModel",
            "index": 1,
            "_view_module": "@jupyter-widgets/controls",
            "_model_module_version": "1.5.0",
            "_view_count": null,
            "disabled": false,
            "_view_module_version": "1.5.0",
            "description_tooltip": null,
            "_model_module": "@jupyter-widgets/controls",
            "layout": "IPY_MODEL_dad49fd10f434958b13e6382990545a6"
          }
        },
        "f919aec0efeb402daaca2f6db30df9a9": {
          "model_module": "@jupyter-widgets/controls",
          "model_name": "DropdownModel",
          "state": {
            "_options_labels": [
              "January",
              "February",
              "March",
              "April",
              "May",
              "June",
              "July",
              "August",
              "September",
              "October",
              "November",
              "December"
            ],
            "_view_name": "DropdownView",
            "style": "IPY_MODEL_936a19409a87471f8e556858b24d7184",
            "_dom_classes": [],
            "description": "Month",
            "_model_name": "DropdownModel",
            "index": 5,
            "_view_module": "@jupyter-widgets/controls",
            "_model_module_version": "1.5.0",
            "_view_count": null,
            "disabled": false,
            "_view_module_version": "1.5.0",
            "description_tooltip": null,
            "_model_module": "@jupyter-widgets/controls",
            "layout": "IPY_MODEL_03649a88d13e46e6bca3d43cd72bf2eb"
          }
        },
        "6d868ce2dc45439a923df5cc99eead5c": {
          "model_module": "@jupyter-widgets/controls",
          "model_name": "DropdownModel",
          "state": {
            "_options_labels": [
              "Starting_stations",
              "Destination_stations"
            ],
            "_view_name": "DropdownView",
            "style": "IPY_MODEL_a5d0f9b3c34444dea962db46554b4a0d",
            "_dom_classes": [],
            "description": "Category",
            "_model_name": "DropdownModel",
            "index": 0,
            "_view_module": "@jupyter-widgets/controls",
            "_model_module_version": "1.5.0",
            "_view_count": null,
            "disabled": false,
            "_view_module_version": "1.5.0",
            "description_tooltip": null,
            "_model_module": "@jupyter-widgets/controls",
            "layout": "IPY_MODEL_a050ed690ded45e48e8ffcc37eb98843"
          }
        },
        "daf8a76f8e754553916ffdb048362972": {
          "model_module": "@jupyter-widgets/controls",
          "model_name": "DropdownModel",
          "state": {
            "_options_labels": [
              "5",
              "10",
              "15",
              "20",
              "25",
              "30",
              "35",
              "40",
              "45",
              "50",
              "55",
              "60",
              "65",
              "70",
              "75",
              "80",
              "85",
              "90",
              "95",
              "100",
              "105",
              "110",
              "115",
              "120",
              "125",
              "130",
              "135",
              "140",
              "145",
              "150",
              "155",
              "160",
              "165",
              "170",
              "175",
              "180",
              "185",
              "190",
              "195",
              "200",
              "205",
              "210",
              "215",
              "220",
              "225",
              "230",
              "235",
              "240",
              "245",
              "250"
            ],
            "_view_name": "DropdownView",
            "style": "IPY_MODEL_9dab9d54c973490b909b67687d01f5d5",
            "_dom_classes": [],
            "description": "Stations",
            "_model_name": "DropdownModel",
            "index": 3,
            "_view_module": "@jupyter-widgets/controls",
            "_model_module_version": "1.5.0",
            "_view_count": null,
            "disabled": false,
            "_view_module_version": "1.5.0",
            "description_tooltip": null,
            "_model_module": "@jupyter-widgets/controls",
            "layout": "IPY_MODEL_5ee93d4194a748e19bedfc5174a43e53"
          }
        },
        "3ea8c68e28194f7c91c696f68d42e940": {
          "model_module": "@jupyter-widgets/output",
          "model_name": "OutputModel",
          "state": {
            "_view_name": "OutputView",
            "msg_id": "",
            "_dom_classes": [],
            "_model_name": "OutputModel",
            "outputs": [
              {
                "output_type": "display_data",
                "metadata": {
                  "tags": []
                },
                "text/html": "<div style=\"width:100%;\"><div style=\"position:relative;width:100%;height:0;padding-bottom:60%;\"><span style=\"color:#565656\">Make this Notebook Trusted to load map: File -> Trust Notebook</span><iframe src=\"about:blank\" style=\"position:absolute;width:100%;height:100%;left:0;top:0;border:none !important;\" data-html=%3C%21DOCTYPE%20html%3E%0A%3Chead%3E%20%20%20%20%0A%20%20%20%20%3Cmeta%20http-equiv%3D%22content-type%22%20content%3D%22text/html%3B%20charset%3DUTF-8%22%20/%3E%0A%20%20%20%20%3Cscript%3EL_PREFER_CANVAS%3Dfalse%3B%20L_NO_TOUCH%3Dfalse%3B%20L_DISABLE_3D%3Dfalse%3B%3C/script%3E%0A%20%20%20%20%3Cscript%20src%3D%22https%3A//cdn.jsdelivr.net/npm/leaflet%401.4.0/dist/leaflet.js%22%3E%3C/script%3E%0A%20%20%20%20%3Cscript%20src%3D%22https%3A//code.jquery.com/jquery-1.12.4.min.js%22%3E%3C/script%3E%0A%20%20%20%20%3Cscript%20src%3D%22https%3A//maxcdn.bootstrapcdn.com/bootstrap/3.2.0/js/bootstrap.min.js%22%3E%3C/script%3E%0A%20%20%20%20%3Cscript%20src%3D%22https%3A//cdnjs.cloudflare.com/ajax/libs/Leaflet.awesome-markers/2.0.2/leaflet.awesome-markers.js%22%3E%3C/script%3E%0A%20%20%20%20%3Clink%20rel%3D%22stylesheet%22%20href%3D%22https%3A//cdn.jsdelivr.net/npm/leaflet%401.4.0/dist/leaflet.css%22/%3E%0A%20%20%20%20%3Clink%20rel%3D%22stylesheet%22%20href%3D%22https%3A//maxcdn.bootstrapcdn.com/bootstrap/3.2.0/css/bootstrap.min.css%22/%3E%0A%20%20%20%20%3Clink%20rel%3D%22stylesheet%22%20href%3D%22https%3A//maxcdn.bootstrapcdn.com/bootstrap/3.2.0/css/bootstrap-theme.min.css%22/%3E%0A%20%20%20%20%3Clink%20rel%3D%22stylesheet%22%20href%3D%22https%3A//maxcdn.bootstrapcdn.com/font-awesome/4.6.3/css/font-awesome.min.css%22/%3E%0A%20%20%20%20%3Clink%20rel%3D%22stylesheet%22%20href%3D%22https%3A//cdnjs.cloudflare.com/ajax/libs/Leaflet.awesome-markers/2.0.2/leaflet.awesome-markers.css%22/%3E%0A%20%20%20%20%3Clink%20rel%3D%22stylesheet%22%20href%3D%22https%3A//rawcdn.githack.com/python-visualization/folium/master/folium/templates/leaflet.awesome.rotate.css%22/%3E%0A%20%20%20%20%3Cstyle%3Ehtml%2C%20body%20%7Bwidth%3A%20100%25%3Bheight%3A%20100%25%3Bmargin%3A%200%3Bpadding%3A%200%3B%7D%3C/style%3E%0A%20%20%20%20%3Cstyle%3E%23map%20%7Bposition%3Aabsolute%3Btop%3A0%3Bbottom%3A0%3Bright%3A0%3Bleft%3A0%3B%7D%3C/style%3E%0A%20%20%20%20%0A%20%20%20%20%3Cmeta%20name%3D%22viewport%22%20content%3D%22width%3Ddevice-width%2C%0A%20%20%20%20%20%20%20%20initial-scale%3D1.0%2C%20maximum-scale%3D1.0%2C%20user-scalable%3Dno%22%20/%3E%0A%20%20%20%20%3Cstyle%3E%23map_b78d6fcec7f741b59fb90bfd0d5508c3%20%7B%0A%20%20%20%20%20%20%20%20position%3A%20relative%3B%0A%20%20%20%20%20%20%20%20width%3A%20100.0%25%3B%0A%20%20%20%20%20%20%20%20height%3A%20100.0%25%3B%0A%20%20%20%20%20%20%20%20left%3A%200.0%25%3B%0A%20%20%20%20%20%20%20%20top%3A%200.0%25%3B%0A%20%20%20%20%20%20%20%20%7D%0A%20%20%20%20%3C/style%3E%0A%20%20%20%20%3Cscript%20src%3D%22https%3A//leaflet.github.io/Leaflet.heat/dist/leaflet-heat.js%22%3E%3C/script%3E%0A%3C/head%3E%0A%3Cbody%3E%20%20%20%20%0A%20%20%20%20%0A%20%20%20%20%3Cdiv%20class%3D%22folium-map%22%20id%3D%22map_b78d6fcec7f741b59fb90bfd0d5508c3%22%20%3E%3C/div%3E%0A%3C/body%3E%0A%3Cscript%3E%20%20%20%20%0A%20%20%20%20%0A%20%20%20%20%0A%20%20%20%20%20%20%20%20var%20bounds%20%3D%20null%3B%0A%20%20%20%20%0A%0A%20%20%20%20var%20map_b78d6fcec7f741b59fb90bfd0d5508c3%20%3D%20L.map%28%0A%20%20%20%20%20%20%20%20%27map_b78d6fcec7f741b59fb90bfd0d5508c3%27%2C%20%7B%0A%20%20%20%20%20%20%20%20center%3A%20%5B59.92%2C%2010.75%5D%2C%0A%20%20%20%20%20%20%20%20zoom%3A%2013%2C%0A%20%20%20%20%20%20%20%20maxBounds%3A%20bounds%2C%0A%20%20%20%20%20%20%20%20layers%3A%20%5B%5D%2C%0A%20%20%20%20%20%20%20%20worldCopyJump%3A%20false%2C%0A%20%20%20%20%20%20%20%20crs%3A%20L.CRS.EPSG3857%2C%0A%20%20%20%20%20%20%20%20zoomControl%3A%20true%2C%0A%20%20%20%20%20%20%20%20%7D%29%3B%0A%0A%0A%20%20%20%20%0A%20%20%20%20var%20tile_layer_a9f32385bd74481cb083f13ad33ed3e8%20%3D%20L.tileLayer%28%0A%20%20%20%20%20%20%20%20%27https%3A//%7Bs%7D.tile.openstreetmap.org/%7Bz%7D/%7Bx%7D/%7By%7D.png%27%2C%0A%20%20%20%20%20%20%20%20%7B%0A%20%20%20%20%20%20%20%20%22attribution%22%3A%20null%2C%0A%20%20%20%20%20%20%20%20%22detectRetina%22%3A%20false%2C%0A%20%20%20%20%20%20%20%20%22maxNativeZoom%22%3A%2018%2C%0A%20%20%20%20%20%20%20%20%22maxZoom%22%3A%2018%2C%0A%20%20%20%20%20%20%20%20%22minZoom%22%3A%200%2C%0A%20%20%20%20%20%20%20%20%22noWrap%22%3A%20false%2C%0A%20%20%20%20%20%20%20%20%22opacity%22%3A%201%2C%0A%20%20%20%20%20%20%20%20%22subdomains%22%3A%20%22abc%22%2C%0A%20%20%20%20%20%20%20%20%22tms%22%3A%20false%0A%7D%29.addTo%28map_b78d6fcec7f741b59fb90bfd0d5508c3%29%3B%0A%20%20%20%20%0A%20%20%20%20%20%20%20%20%20%20%20%20var%20heat_map_3d8566b482534ed0a01a6057eae2801d%20%3D%20L.heatLayer%28%0A%20%20%20%20%20%20%20%20%20%20%20%20%20%20%20%20%5B%5B59.922425%2C%2010.758182000000001%2C%203078.0%5D%2C%20%5B59.928066706156855%2C%2010.751202636819613%2C%203049.0%5D%2C%20%5B59.9051243807035%2C%2010.753763553726516%2C%202985.0%5D%2C%20%5B59.9108469%2C%2010.7303766%2C%202755.0%5D%2C%20%5B59.92843404417578%2C%2010.75943014633117%2C%202686.0%5D%2C%20%5B59.925471317049954%2C%2010.73121932213806%2C%202401.0%5D%2C%20%5B59.932772256265075%2C%2010.758594919923468%2C%202234.0%5D%2C%20%5B59.92377440938114%2C%2010.734712874573999%2C%202157.0%5D%2C%20%5B59.94671044754387%2C%2010.773805285879133%2C%202137.0%5D%2C%20%5B59.90946700000001%2C%2010.722509%2C%202088.0%5D%2C%20%5B59.919463%2C%2010.743829%2C%202031.0%5D%2C%20%5B59.91494300000001%2C%2010.773977%2C%202016.0%5D%2C%20%5B59.929044999999995%2C%2010.716925999999999%2C%201931.0%5D%2C%20%5B59.924363899999996%2C%2010.7615858%2C%201907.0%5D%2C%20%5B59.9256113%2C%2010.760926%2C%201845.0%5D%2C%20%5B59.912110899999995%2C%2010.7661939%2C%201838.0%5D%2C%20%5B59.915983092745186%2C%2010.75155119076095%2C%201789.0%5D%2C%20%5B59.911901%2C%2010.749929%2C%201787.0%5D%2C%20%5B59.91300035973293%2C%2010.746760585982287%2C%201779.0%5D%2C%20%5B59.898126%2C%2010.675096%2C%201765.0%5D%5D%2C%0A%20%20%20%20%20%20%20%20%20%20%20%20%20%20%20%20%7B%0A%20%20%20%20%20%20%20%20%20%20%20%20%20%20%20%20%20%20%20%20minOpacity%3A%200.5%2C%0A%20%20%20%20%20%20%20%20%20%20%20%20%20%20%20%20%20%20%20%20maxZoom%3A%2018%2C%0A%20%20%20%20%20%20%20%20%20%20%20%20%20%20%20%20%20%20%20%20max%3A%201.0%2C%0A%20%20%20%20%20%20%20%20%20%20%20%20%20%20%20%20%20%20%20%20radius%3A%2025%2C%0A%20%20%20%20%20%20%20%20%20%20%20%20%20%20%20%20%20%20%20%20blur%3A%2015%2C%0A%20%20%20%20%20%20%20%20%20%20%20%20%20%20%20%20%20%20%20%20gradient%3A%20null%0A%20%20%20%20%20%20%20%20%20%20%20%20%20%20%20%20%20%20%20%20%7D%29%0A%20%20%20%20%20%20%20%20%20%20%20%20%20%20%20%20.addTo%28map_b78d6fcec7f741b59fb90bfd0d5508c3%29%3B%0A%20%20%20%20%20%20%20%20%0A%3C/script%3E onload=\"this.contentDocument.open();this.contentDocument.write(    decodeURIComponent(this.getAttribute('data-html')));this.contentDocument.close();\" allowfullscreen webkitallowfullscreen mozallowfullscreen></iframe></div></div>",
                "text/plain": "<folium.folium.Map at 0x7fb4bc0cced0>"
              }
            ],
            "_view_module": "@jupyter-widgets/output",
            "_model_module_version": "1.0.0",
            "_view_count": null,
            "_view_module_version": "1.0.0",
            "layout": "IPY_MODEL_836e06c47da346e98c03229ced0e9925",
            "_model_module": "@jupyter-widgets/output"
          }
        },
        "0acee44d20174baf84968a4be801431b": {
          "model_module": "@jupyter-widgets/controls",
          "model_name": "DescriptionStyleModel",
          "state": {
            "_view_name": "StyleView",
            "_model_name": "DescriptionStyleModel",
            "description_width": "",
            "_view_module": "@jupyter-widgets/base",
            "_model_module_version": "1.5.0",
            "_view_count": null,
            "_view_module_version": "1.2.0",
            "_model_module": "@jupyter-widgets/controls"
          }
        },
        "dad49fd10f434958b13e6382990545a6": {
          "model_module": "@jupyter-widgets/base",
          "model_name": "LayoutModel",
          "state": {
            "_view_name": "LayoutView",
            "grid_template_rows": null,
            "right": null,
            "justify_content": null,
            "_view_module": "@jupyter-widgets/base",
            "overflow": null,
            "_model_module_version": "1.2.0",
            "_view_count": null,
            "flex_flow": null,
            "width": null,
            "min_width": null,
            "border": null,
            "align_items": null,
            "bottom": null,
            "_model_module": "@jupyter-widgets/base",
            "top": null,
            "grid_column": null,
            "overflow_y": null,
            "overflow_x": null,
            "grid_auto_flow": null,
            "grid_area": null,
            "grid_template_columns": null,
            "flex": null,
            "_model_name": "LayoutModel",
            "justify_items": null,
            "grid_row": null,
            "max_height": null,
            "align_content": null,
            "visibility": null,
            "align_self": null,
            "height": null,
            "min_height": null,
            "padding": null,
            "grid_auto_rows": null,
            "grid_gap": null,
            "max_width": null,
            "order": null,
            "_view_module_version": "1.2.0",
            "grid_template_areas": null,
            "object_position": null,
            "object_fit": null,
            "grid_auto_columns": null,
            "margin": null,
            "display": null,
            "left": null
          }
        },
        "936a19409a87471f8e556858b24d7184": {
          "model_module": "@jupyter-widgets/controls",
          "model_name": "DescriptionStyleModel",
          "state": {
            "_view_name": "StyleView",
            "_model_name": "DescriptionStyleModel",
            "description_width": "",
            "_view_module": "@jupyter-widgets/base",
            "_model_module_version": "1.5.0",
            "_view_count": null,
            "_view_module_version": "1.2.0",
            "_model_module": "@jupyter-widgets/controls"
          }
        },
        "03649a88d13e46e6bca3d43cd72bf2eb": {
          "model_module": "@jupyter-widgets/base",
          "model_name": "LayoutModel",
          "state": {
            "_view_name": "LayoutView",
            "grid_template_rows": null,
            "right": null,
            "justify_content": null,
            "_view_module": "@jupyter-widgets/base",
            "overflow": null,
            "_model_module_version": "1.2.0",
            "_view_count": null,
            "flex_flow": null,
            "width": null,
            "min_width": null,
            "border": null,
            "align_items": null,
            "bottom": null,
            "_model_module": "@jupyter-widgets/base",
            "top": null,
            "grid_column": null,
            "overflow_y": null,
            "overflow_x": null,
            "grid_auto_flow": null,
            "grid_area": null,
            "grid_template_columns": null,
            "flex": null,
            "_model_name": "LayoutModel",
            "justify_items": null,
            "grid_row": null,
            "max_height": null,
            "align_content": null,
            "visibility": null,
            "align_self": null,
            "height": null,
            "min_height": null,
            "padding": null,
            "grid_auto_rows": null,
            "grid_gap": null,
            "max_width": null,
            "order": null,
            "_view_module_version": "1.2.0",
            "grid_template_areas": null,
            "object_position": null,
            "object_fit": null,
            "grid_auto_columns": null,
            "margin": null,
            "display": null,
            "left": null
          }
        },
        "a5d0f9b3c34444dea962db46554b4a0d": {
          "model_module": "@jupyter-widgets/controls",
          "model_name": "DescriptionStyleModel",
          "state": {
            "_view_name": "StyleView",
            "_model_name": "DescriptionStyleModel",
            "description_width": "",
            "_view_module": "@jupyter-widgets/base",
            "_model_module_version": "1.5.0",
            "_view_count": null,
            "_view_module_version": "1.2.0",
            "_model_module": "@jupyter-widgets/controls"
          }
        },
        "a050ed690ded45e48e8ffcc37eb98843": {
          "model_module": "@jupyter-widgets/base",
          "model_name": "LayoutModel",
          "state": {
            "_view_name": "LayoutView",
            "grid_template_rows": null,
            "right": null,
            "justify_content": null,
            "_view_module": "@jupyter-widgets/base",
            "overflow": null,
            "_model_module_version": "1.2.0",
            "_view_count": null,
            "flex_flow": null,
            "width": null,
            "min_width": null,
            "border": null,
            "align_items": null,
            "bottom": null,
            "_model_module": "@jupyter-widgets/base",
            "top": null,
            "grid_column": null,
            "overflow_y": null,
            "overflow_x": null,
            "grid_auto_flow": null,
            "grid_area": null,
            "grid_template_columns": null,
            "flex": null,
            "_model_name": "LayoutModel",
            "justify_items": null,
            "grid_row": null,
            "max_height": null,
            "align_content": null,
            "visibility": null,
            "align_self": null,
            "height": null,
            "min_height": null,
            "padding": null,
            "grid_auto_rows": null,
            "grid_gap": null,
            "max_width": null,
            "order": null,
            "_view_module_version": "1.2.0",
            "grid_template_areas": null,
            "object_position": null,
            "object_fit": null,
            "grid_auto_columns": null,
            "margin": null,
            "display": null,
            "left": null
          }
        },
        "9dab9d54c973490b909b67687d01f5d5": {
          "model_module": "@jupyter-widgets/controls",
          "model_name": "DescriptionStyleModel",
          "state": {
            "_view_name": "StyleView",
            "_model_name": "DescriptionStyleModel",
            "description_width": "",
            "_view_module": "@jupyter-widgets/base",
            "_model_module_version": "1.5.0",
            "_view_count": null,
            "_view_module_version": "1.2.0",
            "_model_module": "@jupyter-widgets/controls"
          }
        },
        "5ee93d4194a748e19bedfc5174a43e53": {
          "model_module": "@jupyter-widgets/base",
          "model_name": "LayoutModel",
          "state": {
            "_view_name": "LayoutView",
            "grid_template_rows": null,
            "right": null,
            "justify_content": null,
            "_view_module": "@jupyter-widgets/base",
            "overflow": null,
            "_model_module_version": "1.2.0",
            "_view_count": null,
            "flex_flow": null,
            "width": null,
            "min_width": null,
            "border": null,
            "align_items": null,
            "bottom": null,
            "_model_module": "@jupyter-widgets/base",
            "top": null,
            "grid_column": null,
            "overflow_y": null,
            "overflow_x": null,
            "grid_auto_flow": null,
            "grid_area": null,
            "grid_template_columns": null,
            "flex": null,
            "_model_name": "LayoutModel",
            "justify_items": null,
            "grid_row": null,
            "max_height": null,
            "align_content": null,
            "visibility": null,
            "align_self": null,
            "height": null,
            "min_height": null,
            "padding": null,
            "grid_auto_rows": null,
            "grid_gap": null,
            "max_width": null,
            "order": null,
            "_view_module_version": "1.2.0",
            "grid_template_areas": null,
            "object_position": null,
            "object_fit": null,
            "grid_auto_columns": null,
            "margin": null,
            "display": null,
            "left": null
          }
        },
        "836e06c47da346e98c03229ced0e9925": {
          "model_module": "@jupyter-widgets/base",
          "model_name": "LayoutModel",
          "state": {
            "_view_name": "LayoutView",
            "grid_template_rows": null,
            "right": null,
            "justify_content": null,
            "_view_module": "@jupyter-widgets/base",
            "overflow": null,
            "_model_module_version": "1.2.0",
            "_view_count": null,
            "flex_flow": null,
            "width": null,
            "min_width": null,
            "border": null,
            "align_items": null,
            "bottom": null,
            "_model_module": "@jupyter-widgets/base",
            "top": null,
            "grid_column": null,
            "overflow_y": null,
            "overflow_x": null,
            "grid_auto_flow": null,
            "grid_area": null,
            "grid_template_columns": null,
            "flex": null,
            "_model_name": "LayoutModel",
            "justify_items": null,
            "grid_row": null,
            "max_height": null,
            "align_content": null,
            "visibility": null,
            "align_self": null,
            "height": null,
            "min_height": null,
            "padding": null,
            "grid_auto_rows": null,
            "grid_gap": null,
            "max_width": null,
            "order": null,
            "_view_module_version": "1.2.0",
            "grid_template_areas": null,
            "object_position": null,
            "object_fit": null,
            "grid_auto_columns": null,
            "margin": null,
            "display": null,
            "left": null
          }
        },
        "73211c8e34ed4ed5a7dbb158714511da": {
          "model_module": "@jupyter-widgets/controls",
          "model_name": "VBoxModel",
          "state": {
            "_view_name": "VBoxView",
            "_dom_classes": [
              "widget-interact"
            ],
            "_model_name": "VBoxModel",
            "_view_module": "@jupyter-widgets/controls",
            "_model_module_version": "1.5.0",
            "_view_count": null,
            "_view_module_version": "1.5.0",
            "box_style": "",
            "layout": "IPY_MODEL_4d520131ed2f4148ae7a48b45f4e4163",
            "_model_module": "@jupyter-widgets/controls",
            "children": [
              "IPY_MODEL_411947cf438d4987b01729b812962b83",
              "IPY_MODEL_9400f8ceec3c4b9eaf668e761ac2f79c",
              "IPY_MODEL_122ade1b97d74965842a75e395ed0a8f"
            ]
          }
        },
        "4d520131ed2f4148ae7a48b45f4e4163": {
          "model_module": "@jupyter-widgets/base",
          "model_name": "LayoutModel",
          "state": {
            "_view_name": "LayoutView",
            "grid_template_rows": null,
            "right": null,
            "justify_content": null,
            "_view_module": "@jupyter-widgets/base",
            "overflow": null,
            "_model_module_version": "1.2.0",
            "_view_count": null,
            "flex_flow": null,
            "width": null,
            "min_width": null,
            "border": null,
            "align_items": null,
            "bottom": null,
            "_model_module": "@jupyter-widgets/base",
            "top": null,
            "grid_column": null,
            "overflow_y": null,
            "overflow_x": null,
            "grid_auto_flow": null,
            "grid_area": null,
            "grid_template_columns": null,
            "flex": null,
            "_model_name": "LayoutModel",
            "justify_items": null,
            "grid_row": null,
            "max_height": null,
            "align_content": null,
            "visibility": null,
            "align_self": null,
            "height": null,
            "min_height": null,
            "padding": null,
            "grid_auto_rows": null,
            "grid_gap": null,
            "max_width": null,
            "order": null,
            "_view_module_version": "1.2.0",
            "grid_template_areas": null,
            "object_position": null,
            "object_fit": null,
            "grid_auto_columns": null,
            "margin": null,
            "display": null,
            "left": null
          }
        },
        "411947cf438d4987b01729b812962b83": {
          "model_module": "@jupyter-widgets/controls",
          "model_name": "DropdownModel",
          "state": {
            "_options_labels": [
              "2020",
              "2021"
            ],
            "_view_name": "DropdownView",
            "style": "IPY_MODEL_7506835850c24b65aaa909bcbe14dd60",
            "_dom_classes": [],
            "description": "Year",
            "_model_name": "DropdownModel",
            "index": 0,
            "_view_module": "@jupyter-widgets/controls",
            "_model_module_version": "1.5.0",
            "_view_count": null,
            "disabled": false,
            "_view_module_version": "1.5.0",
            "description_tooltip": null,
            "_model_module": "@jupyter-widgets/controls",
            "layout": "IPY_MODEL_7cbcc625a5f34885b662c3ad545ff68a"
          }
        },
        "9400f8ceec3c4b9eaf668e761ac2f79c": {
          "model_module": "@jupyter-widgets/controls",
          "model_name": "DropdownModel",
          "state": {
            "_options_labels": [
              "January",
              "February",
              "March",
              "April",
              "May",
              "June",
              "July",
              "August",
              "September",
              "October",
              "November",
              "December"
            ],
            "_view_name": "DropdownView",
            "style": "IPY_MODEL_187c07f95a514cb9b3e16af84a1b12bd",
            "_dom_classes": [],
            "description": "Month",
            "_model_name": "DropdownModel",
            "index": 2,
            "_view_module": "@jupyter-widgets/controls",
            "_model_module_version": "1.5.0",
            "_view_count": null,
            "disabled": false,
            "_view_module_version": "1.5.0",
            "description_tooltip": null,
            "_model_module": "@jupyter-widgets/controls",
            "layout": "IPY_MODEL_435fb7a77f9f4967aa9764427e6c09ee"
          }
        },
        "122ade1b97d74965842a75e395ed0a8f": {
          "model_module": "@jupyter-widgets/output",
          "model_name": "OutputModel",
          "state": {
            "_view_name": "OutputView",
            "msg_id": "",
            "_dom_classes": [],
            "_model_name": "OutputModel",
            "outputs": [
              {
                "output_type": "display_data",
                "metadata": {
                  "tags": [],
                  "needs_background": "light"
                },
                "image/png": "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\n",
                "text/plain": "<Figure size 1440x720 with 4 Axes>"
              }
            ],
            "_view_module": "@jupyter-widgets/output",
            "_model_module_version": "1.0.0",
            "_view_count": null,
            "_view_module_version": "1.0.0",
            "layout": "IPY_MODEL_4a7d3fb9598f4f02893f0d0782edb10b",
            "_model_module": "@jupyter-widgets/output"
          }
        },
        "7506835850c24b65aaa909bcbe14dd60": {
          "model_module": "@jupyter-widgets/controls",
          "model_name": "DescriptionStyleModel",
          "state": {
            "_view_name": "StyleView",
            "_model_name": "DescriptionStyleModel",
            "description_width": "",
            "_view_module": "@jupyter-widgets/base",
            "_model_module_version": "1.5.0",
            "_view_count": null,
            "_view_module_version": "1.2.0",
            "_model_module": "@jupyter-widgets/controls"
          }
        },
        "7cbcc625a5f34885b662c3ad545ff68a": {
          "model_module": "@jupyter-widgets/base",
          "model_name": "LayoutModel",
          "state": {
            "_view_name": "LayoutView",
            "grid_template_rows": null,
            "right": null,
            "justify_content": null,
            "_view_module": "@jupyter-widgets/base",
            "overflow": null,
            "_model_module_version": "1.2.0",
            "_view_count": null,
            "flex_flow": null,
            "width": null,
            "min_width": null,
            "border": null,
            "align_items": null,
            "bottom": null,
            "_model_module": "@jupyter-widgets/base",
            "top": null,
            "grid_column": null,
            "overflow_y": null,
            "overflow_x": null,
            "grid_auto_flow": null,
            "grid_area": null,
            "grid_template_columns": null,
            "flex": null,
            "_model_name": "LayoutModel",
            "justify_items": null,
            "grid_row": null,
            "max_height": null,
            "align_content": null,
            "visibility": null,
            "align_self": null,
            "height": null,
            "min_height": null,
            "padding": null,
            "grid_auto_rows": null,
            "grid_gap": null,
            "max_width": null,
            "order": null,
            "_view_module_version": "1.2.0",
            "grid_template_areas": null,
            "object_position": null,
            "object_fit": null,
            "grid_auto_columns": null,
            "margin": null,
            "display": null,
            "left": null
          }
        },
        "187c07f95a514cb9b3e16af84a1b12bd": {
          "model_module": "@jupyter-widgets/controls",
          "model_name": "DescriptionStyleModel",
          "state": {
            "_view_name": "StyleView",
            "_model_name": "DescriptionStyleModel",
            "description_width": "",
            "_view_module": "@jupyter-widgets/base",
            "_model_module_version": "1.5.0",
            "_view_count": null,
            "_view_module_version": "1.2.0",
            "_model_module": "@jupyter-widgets/controls"
          }
        },
        "435fb7a77f9f4967aa9764427e6c09ee": {
          "model_module": "@jupyter-widgets/base",
          "model_name": "LayoutModel",
          "state": {
            "_view_name": "LayoutView",
            "grid_template_rows": null,
            "right": null,
            "justify_content": null,
            "_view_module": "@jupyter-widgets/base",
            "overflow": null,
            "_model_module_version": "1.2.0",
            "_view_count": null,
            "flex_flow": null,
            "width": null,
            "min_width": null,
            "border": null,
            "align_items": null,
            "bottom": null,
            "_model_module": "@jupyter-widgets/base",
            "top": null,
            "grid_column": null,
            "overflow_y": null,
            "overflow_x": null,
            "grid_auto_flow": null,
            "grid_area": null,
            "grid_template_columns": null,
            "flex": null,
            "_model_name": "LayoutModel",
            "justify_items": null,
            "grid_row": null,
            "max_height": null,
            "align_content": null,
            "visibility": null,
            "align_self": null,
            "height": null,
            "min_height": null,
            "padding": null,
            "grid_auto_rows": null,
            "grid_gap": null,
            "max_width": null,
            "order": null,
            "_view_module_version": "1.2.0",
            "grid_template_areas": null,
            "object_position": null,
            "object_fit": null,
            "grid_auto_columns": null,
            "margin": null,
            "display": null,
            "left": null
          }
        },
        "4a7d3fb9598f4f02893f0d0782edb10b": {
          "model_module": "@jupyter-widgets/base",
          "model_name": "LayoutModel",
          "state": {
            "_view_name": "LayoutView",
            "grid_template_rows": null,
            "right": null,
            "justify_content": null,
            "_view_module": "@jupyter-widgets/base",
            "overflow": null,
            "_model_module_version": "1.2.0",
            "_view_count": null,
            "flex_flow": null,
            "width": null,
            "min_width": null,
            "border": null,
            "align_items": null,
            "bottom": null,
            "_model_module": "@jupyter-widgets/base",
            "top": null,
            "grid_column": null,
            "overflow_y": null,
            "overflow_x": null,
            "grid_auto_flow": null,
            "grid_area": null,
            "grid_template_columns": null,
            "flex": null,
            "_model_name": "LayoutModel",
            "justify_items": null,
            "grid_row": null,
            "max_height": null,
            "align_content": null,
            "visibility": null,
            "align_self": null,
            "height": null,
            "min_height": null,
            "padding": null,
            "grid_auto_rows": null,
            "grid_gap": null,
            "max_width": null,
            "order": null,
            "_view_module_version": "1.2.0",
            "grid_template_areas": null,
            "object_position": null,
            "object_fit": null,
            "grid_auto_columns": null,
            "margin": null,
            "display": null,
            "left": null
          }
        },
        "2ea2d24525a3462799627a73e35b6c68": {
          "model_module": "@jupyter-widgets/controls",
          "model_name": "VBoxModel",
          "state": {
            "_view_name": "VBoxView",
            "_dom_classes": [
              "widget-interact"
            ],
            "_model_name": "VBoxModel",
            "_view_module": "@jupyter-widgets/controls",
            "_model_module_version": "1.5.0",
            "_view_count": null,
            "_view_module_version": "1.5.0",
            "box_style": "",
            "layout": "IPY_MODEL_9cd49963787840acb50e0e835de70487",
            "_model_module": "@jupyter-widgets/controls",
            "children": [
              "IPY_MODEL_ee8b91bbeda34c108c3d634068b0564a",
              "IPY_MODEL_65b7e604721c496c8e39713fd94395e6",
              "IPY_MODEL_1815222291434c05add8f47391562b12"
            ]
          }
        },
        "9cd49963787840acb50e0e835de70487": {
          "model_module": "@jupyter-widgets/base",
          "model_name": "LayoutModel",
          "state": {
            "_view_name": "LayoutView",
            "grid_template_rows": null,
            "right": null,
            "justify_content": null,
            "_view_module": "@jupyter-widgets/base",
            "overflow": null,
            "_model_module_version": "1.2.0",
            "_view_count": null,
            "flex_flow": null,
            "width": null,
            "min_width": null,
            "border": null,
            "align_items": null,
            "bottom": null,
            "_model_module": "@jupyter-widgets/base",
            "top": null,
            "grid_column": null,
            "overflow_y": null,
            "overflow_x": null,
            "grid_auto_flow": null,
            "grid_area": null,
            "grid_template_columns": null,
            "flex": null,
            "_model_name": "LayoutModel",
            "justify_items": null,
            "grid_row": null,
            "max_height": null,
            "align_content": null,
            "visibility": null,
            "align_self": null,
            "height": null,
            "min_height": null,
            "padding": null,
            "grid_auto_rows": null,
            "grid_gap": null,
            "max_width": null,
            "order": null,
            "_view_module_version": "1.2.0",
            "grid_template_areas": null,
            "object_position": null,
            "object_fit": null,
            "grid_auto_columns": null,
            "margin": null,
            "display": null,
            "left": null
          }
        },
        "ee8b91bbeda34c108c3d634068b0564a": {
          "model_module": "@jupyter-widgets/controls",
          "model_name": "DropdownModel",
          "state": {
            "_options_labels": [
              "2020",
              "2021"
            ],
            "_view_name": "DropdownView",
            "style": "IPY_MODEL_aadeab9d7acc4fb7bbbc7dc1095a5a90",
            "_dom_classes": [],
            "description": "Year",
            "_model_name": "DropdownModel",
            "index": 0,
            "_view_module": "@jupyter-widgets/controls",
            "_model_module_version": "1.5.0",
            "_view_count": null,
            "disabled": false,
            "_view_module_version": "1.5.0",
            "description_tooltip": null,
            "_model_module": "@jupyter-widgets/controls",
            "layout": "IPY_MODEL_bf46a0c73f394965a02275eee8941c66"
          }
        },
        "65b7e604721c496c8e39713fd94395e6": {
          "model_module": "@jupyter-widgets/controls",
          "model_name": "DropdownModel",
          "state": {
            "_options_labels": [
              "January",
              "February",
              "March",
              "April",
              "May",
              "June",
              "July",
              "August",
              "September",
              "October",
              "November",
              "December"
            ],
            "_view_name": "DropdownView",
            "style": "IPY_MODEL_2f4243fc16ab42e48bba878d4f404e24",
            "_dom_classes": [],
            "description": "Month",
            "_model_name": "DropdownModel",
            "index": 2,
            "_view_module": "@jupyter-widgets/controls",
            "_model_module_version": "1.5.0",
            "_view_count": null,
            "disabled": false,
            "_view_module_version": "1.5.0",
            "description_tooltip": null,
            "_model_module": "@jupyter-widgets/controls",
            "layout": "IPY_MODEL_97e030bc99f04941a1869a94f62ccf2f"
          }
        },
        "1815222291434c05add8f47391562b12": {
          "model_module": "@jupyter-widgets/output",
          "model_name": "OutputModel",
          "state": {
            "_view_name": "OutputView",
            "msg_id": "",
            "_dom_classes": [],
            "_model_name": "OutputModel",
            "outputs": [
              {
                "output_type": "display_data",
                "metadata": {
                  "tags": [],
                  "needs_background": "light"
                },
                "image/png": "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\n",
                "text/plain": "<Figure size 1440x720 with 4 Axes>"
              }
            ],
            "_view_module": "@jupyter-widgets/output",
            "_model_module_version": "1.0.0",
            "_view_count": null,
            "_view_module_version": "1.0.0",
            "layout": "IPY_MODEL_e6a91af495b34f01906bba1cff457cf9",
            "_model_module": "@jupyter-widgets/output"
          }
        },
        "aadeab9d7acc4fb7bbbc7dc1095a5a90": {
          "model_module": "@jupyter-widgets/controls",
          "model_name": "DescriptionStyleModel",
          "state": {
            "_view_name": "StyleView",
            "_model_name": "DescriptionStyleModel",
            "description_width": "",
            "_view_module": "@jupyter-widgets/base",
            "_model_module_version": "1.5.0",
            "_view_count": null,
            "_view_module_version": "1.2.0",
            "_model_module": "@jupyter-widgets/controls"
          }
        },
        "bf46a0c73f394965a02275eee8941c66": {
          "model_module": "@jupyter-widgets/base",
          "model_name": "LayoutModel",
          "state": {
            "_view_name": "LayoutView",
            "grid_template_rows": null,
            "right": null,
            "justify_content": null,
            "_view_module": "@jupyter-widgets/base",
            "overflow": null,
            "_model_module_version": "1.2.0",
            "_view_count": null,
            "flex_flow": null,
            "width": null,
            "min_width": null,
            "border": null,
            "align_items": null,
            "bottom": null,
            "_model_module": "@jupyter-widgets/base",
            "top": null,
            "grid_column": null,
            "overflow_y": null,
            "overflow_x": null,
            "grid_auto_flow": null,
            "grid_area": null,
            "grid_template_columns": null,
            "flex": null,
            "_model_name": "LayoutModel",
            "justify_items": null,
            "grid_row": null,
            "max_height": null,
            "align_content": null,
            "visibility": null,
            "align_self": null,
            "height": null,
            "min_height": null,
            "padding": null,
            "grid_auto_rows": null,
            "grid_gap": null,
            "max_width": null,
            "order": null,
            "_view_module_version": "1.2.0",
            "grid_template_areas": null,
            "object_position": null,
            "object_fit": null,
            "grid_auto_columns": null,
            "margin": null,
            "display": null,
            "left": null
          }
        },
        "2f4243fc16ab42e48bba878d4f404e24": {
          "model_module": "@jupyter-widgets/controls",
          "model_name": "DescriptionStyleModel",
          "state": {
            "_view_name": "StyleView",
            "_model_name": "DescriptionStyleModel",
            "description_width": "",
            "_view_module": "@jupyter-widgets/base",
            "_model_module_version": "1.5.0",
            "_view_count": null,
            "_view_module_version": "1.2.0",
            "_model_module": "@jupyter-widgets/controls"
          }
        },
        "97e030bc99f04941a1869a94f62ccf2f": {
          "model_module": "@jupyter-widgets/base",
          "model_name": "LayoutModel",
          "state": {
            "_view_name": "LayoutView",
            "grid_template_rows": null,
            "right": null,
            "justify_content": null,
            "_view_module": "@jupyter-widgets/base",
            "overflow": null,
            "_model_module_version": "1.2.0",
            "_view_count": null,
            "flex_flow": null,
            "width": null,
            "min_width": null,
            "border": null,
            "align_items": null,
            "bottom": null,
            "_model_module": "@jupyter-widgets/base",
            "top": null,
            "grid_column": null,
            "overflow_y": null,
            "overflow_x": null,
            "grid_auto_flow": null,
            "grid_area": null,
            "grid_template_columns": null,
            "flex": null,
            "_model_name": "LayoutModel",
            "justify_items": null,
            "grid_row": null,
            "max_height": null,
            "align_content": null,
            "visibility": null,
            "align_self": null,
            "height": null,
            "min_height": null,
            "padding": null,
            "grid_auto_rows": null,
            "grid_gap": null,
            "max_width": null,
            "order": null,
            "_view_module_version": "1.2.0",
            "grid_template_areas": null,
            "object_position": null,
            "object_fit": null,
            "grid_auto_columns": null,
            "margin": null,
            "display": null,
            "left": null
          }
        },
        "e6a91af495b34f01906bba1cff457cf9": {
          "model_module": "@jupyter-widgets/base",
          "model_name": "LayoutModel",
          "state": {
            "_view_name": "LayoutView",
            "grid_template_rows": null,
            "right": null,
            "justify_content": null,
            "_view_module": "@jupyter-widgets/base",
            "overflow": null,
            "_model_module_version": "1.2.0",
            "_view_count": null,
            "flex_flow": null,
            "width": null,
            "min_width": null,
            "border": null,
            "align_items": null,
            "bottom": null,
            "_model_module": "@jupyter-widgets/base",
            "top": null,
            "grid_column": null,
            "overflow_y": null,
            "overflow_x": null,
            "grid_auto_flow": null,
            "grid_area": null,
            "grid_template_columns": null,
            "flex": null,
            "_model_name": "LayoutModel",
            "justify_items": null,
            "grid_row": null,
            "max_height": null,
            "align_content": null,
            "visibility": null,
            "align_self": null,
            "height": null,
            "min_height": null,
            "padding": null,
            "grid_auto_rows": null,
            "grid_gap": null,
            "max_width": null,
            "order": null,
            "_view_module_version": "1.2.0",
            "grid_template_areas": null,
            "object_position": null,
            "object_fit": null,
            "grid_auto_columns": null,
            "margin": null,
            "display": null,
            "left": null
          }
        },
        "e1a503b0cf9b4e6a98808a6c09ace44d": {
          "model_module": "@jupyter-widgets/controls",
          "model_name": "VBoxModel",
          "state": {
            "_view_name": "VBoxView",
            "_dom_classes": [
              "widget-interact"
            ],
            "_model_name": "VBoxModel",
            "_view_module": "@jupyter-widgets/controls",
            "_model_module_version": "1.5.0",
            "_view_count": null,
            "_view_module_version": "1.5.0",
            "box_style": "",
            "layout": "IPY_MODEL_0dabd091c136427eb24bae894c146c93",
            "_model_module": "@jupyter-widgets/controls",
            "children": [
              "IPY_MODEL_1ddc5631ccfb41f397c2dd20533ad232",
              "IPY_MODEL_6ac689085d504563b7ddf67293253618",
              "IPY_MODEL_c33f187d6cc9426db7dcd659cedc52c4"
            ]
          }
        },
        "0dabd091c136427eb24bae894c146c93": {
          "model_module": "@jupyter-widgets/base",
          "model_name": "LayoutModel",
          "state": {
            "_view_name": "LayoutView",
            "grid_template_rows": null,
            "right": null,
            "justify_content": null,
            "_view_module": "@jupyter-widgets/base",
            "overflow": null,
            "_model_module_version": "1.2.0",
            "_view_count": null,
            "flex_flow": null,
            "width": null,
            "min_width": null,
            "border": null,
            "align_items": null,
            "bottom": null,
            "_model_module": "@jupyter-widgets/base",
            "top": null,
            "grid_column": null,
            "overflow_y": null,
            "overflow_x": null,
            "grid_auto_flow": null,
            "grid_area": null,
            "grid_template_columns": null,
            "flex": null,
            "_model_name": "LayoutModel",
            "justify_items": null,
            "grid_row": null,
            "max_height": null,
            "align_content": null,
            "visibility": null,
            "align_self": null,
            "height": null,
            "min_height": null,
            "padding": null,
            "grid_auto_rows": null,
            "grid_gap": null,
            "max_width": null,
            "order": null,
            "_view_module_version": "1.2.0",
            "grid_template_areas": null,
            "object_position": null,
            "object_fit": null,
            "grid_auto_columns": null,
            "margin": null,
            "display": null,
            "left": null
          }
        },
        "1ddc5631ccfb41f397c2dd20533ad232": {
          "model_module": "@jupyter-widgets/controls",
          "model_name": "DropdownModel",
          "state": {
            "_options_labels": [
              "2020",
              "2021"
            ],
            "_view_name": "DropdownView",
            "style": "IPY_MODEL_4c005c7e46c0455eb8ffe56621495f4d",
            "_dom_classes": [],
            "description": "Year",
            "_model_name": "DropdownModel",
            "index": 0,
            "_view_module": "@jupyter-widgets/controls",
            "_model_module_version": "1.5.0",
            "_view_count": null,
            "disabled": false,
            "_view_module_version": "1.5.0",
            "description_tooltip": null,
            "_model_module": "@jupyter-widgets/controls",
            "layout": "IPY_MODEL_a23e5f181bdc4307a923f21393d283eb"
          }
        },
        "6ac689085d504563b7ddf67293253618": {
          "model_module": "@jupyter-widgets/controls",
          "model_name": "DropdownModel",
          "state": {
            "_options_labels": [
              "January",
              "February",
              "March",
              "April",
              "May",
              "June",
              "July",
              "August",
              "September",
              "October",
              "November",
              "December"
            ],
            "_view_name": "DropdownView",
            "style": "IPY_MODEL_1ac7e0b6086344b58901d60f8af41968",
            "_dom_classes": [],
            "description": "Month",
            "_model_name": "DropdownModel",
            "index": 2,
            "_view_module": "@jupyter-widgets/controls",
            "_model_module_version": "1.5.0",
            "_view_count": null,
            "disabled": false,
            "_view_module_version": "1.5.0",
            "description_tooltip": null,
            "_model_module": "@jupyter-widgets/controls",
            "layout": "IPY_MODEL_0ccef66e16b44bdbb728d5aa8b5dfc71"
          }
        },
        "c33f187d6cc9426db7dcd659cedc52c4": {
          "model_module": "@jupyter-widgets/output",
          "model_name": "OutputModel",
          "state": {
            "_view_name": "OutputView",
            "msg_id": "",
            "_dom_classes": [],
            "_model_name": "OutputModel",
            "outputs": [
              {
                "output_type": "display_data",
                "metadata": {
                  "tags": [],
                  "needs_background": "light"
                },
                "image/png": "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\n",
                "text/plain": "<Figure size 1440x720 with 4 Axes>"
              }
            ],
            "_view_module": "@jupyter-widgets/output",
            "_model_module_version": "1.0.0",
            "_view_count": null,
            "_view_module_version": "1.0.0",
            "layout": "IPY_MODEL_8f10537f0ebe4337a70b8e58567ad48c",
            "_model_module": "@jupyter-widgets/output"
          }
        },
        "4c005c7e46c0455eb8ffe56621495f4d": {
          "model_module": "@jupyter-widgets/controls",
          "model_name": "DescriptionStyleModel",
          "state": {
            "_view_name": "StyleView",
            "_model_name": "DescriptionStyleModel",
            "description_width": "",
            "_view_module": "@jupyter-widgets/base",
            "_model_module_version": "1.5.0",
            "_view_count": null,
            "_view_module_version": "1.2.0",
            "_model_module": "@jupyter-widgets/controls"
          }
        },
        "a23e5f181bdc4307a923f21393d283eb": {
          "model_module": "@jupyter-widgets/base",
          "model_name": "LayoutModel",
          "state": {
            "_view_name": "LayoutView",
            "grid_template_rows": null,
            "right": null,
            "justify_content": null,
            "_view_module": "@jupyter-widgets/base",
            "overflow": null,
            "_model_module_version": "1.2.0",
            "_view_count": null,
            "flex_flow": null,
            "width": null,
            "min_width": null,
            "border": null,
            "align_items": null,
            "bottom": null,
            "_model_module": "@jupyter-widgets/base",
            "top": null,
            "grid_column": null,
            "overflow_y": null,
            "overflow_x": null,
            "grid_auto_flow": null,
            "grid_area": null,
            "grid_template_columns": null,
            "flex": null,
            "_model_name": "LayoutModel",
            "justify_items": null,
            "grid_row": null,
            "max_height": null,
            "align_content": null,
            "visibility": null,
            "align_self": null,
            "height": null,
            "min_height": null,
            "padding": null,
            "grid_auto_rows": null,
            "grid_gap": null,
            "max_width": null,
            "order": null,
            "_view_module_version": "1.2.0",
            "grid_template_areas": null,
            "object_position": null,
            "object_fit": null,
            "grid_auto_columns": null,
            "margin": null,
            "display": null,
            "left": null
          }
        },
        "1ac7e0b6086344b58901d60f8af41968": {
          "model_module": "@jupyter-widgets/controls",
          "model_name": "DescriptionStyleModel",
          "state": {
            "_view_name": "StyleView",
            "_model_name": "DescriptionStyleModel",
            "description_width": "",
            "_view_module": "@jupyter-widgets/base",
            "_model_module_version": "1.5.0",
            "_view_count": null,
            "_view_module_version": "1.2.0",
            "_model_module": "@jupyter-widgets/controls"
          }
        },
        "0ccef66e16b44bdbb728d5aa8b5dfc71": {
          "model_module": "@jupyter-widgets/base",
          "model_name": "LayoutModel",
          "state": {
            "_view_name": "LayoutView",
            "grid_template_rows": null,
            "right": null,
            "justify_content": null,
            "_view_module": "@jupyter-widgets/base",
            "overflow": null,
            "_model_module_version": "1.2.0",
            "_view_count": null,
            "flex_flow": null,
            "width": null,
            "min_width": null,
            "border": null,
            "align_items": null,
            "bottom": null,
            "_model_module": "@jupyter-widgets/base",
            "top": null,
            "grid_column": null,
            "overflow_y": null,
            "overflow_x": null,
            "grid_auto_flow": null,
            "grid_area": null,
            "grid_template_columns": null,
            "flex": null,
            "_model_name": "LayoutModel",
            "justify_items": null,
            "grid_row": null,
            "max_height": null,
            "align_content": null,
            "visibility": null,
            "align_self": null,
            "height": null,
            "min_height": null,
            "padding": null,
            "grid_auto_rows": null,
            "grid_gap": null,
            "max_width": null,
            "order": null,
            "_view_module_version": "1.2.0",
            "grid_template_areas": null,
            "object_position": null,
            "object_fit": null,
            "grid_auto_columns": null,
            "margin": null,
            "display": null,
            "left": null
          }
        },
        "8f10537f0ebe4337a70b8e58567ad48c": {
          "model_module": "@jupyter-widgets/base",
          "model_name": "LayoutModel",
          "state": {
            "_view_name": "LayoutView",
            "grid_template_rows": null,
            "right": null,
            "justify_content": null,
            "_view_module": "@jupyter-widgets/base",
            "overflow": null,
            "_model_module_version": "1.2.0",
            "_view_count": null,
            "flex_flow": null,
            "width": null,
            "min_width": null,
            "border": null,
            "align_items": null,
            "bottom": null,
            "_model_module": "@jupyter-widgets/base",
            "top": null,
            "grid_column": null,
            "overflow_y": null,
            "overflow_x": null,
            "grid_auto_flow": null,
            "grid_area": null,
            "grid_template_columns": null,
            "flex": null,
            "_model_name": "LayoutModel",
            "justify_items": null,
            "grid_row": null,
            "max_height": null,
            "align_content": null,
            "visibility": null,
            "align_self": null,
            "height": null,
            "min_height": null,
            "padding": null,
            "grid_auto_rows": null,
            "grid_gap": null,
            "max_width": null,
            "order": null,
            "_view_module_version": "1.2.0",
            "grid_template_areas": null,
            "object_position": null,
            "object_fit": null,
            "grid_auto_columns": null,
            "margin": null,
            "display": null,
            "left": null
          }
        }
      }
    }
  },
  "cells": [
    {
      "cell_type": "markdown",
      "metadata": {
        "id": "view-in-github",
        "colab_type": "text"
      },
      "source": [
        "<a href=\"https://colab.research.google.com/github/gabrielborja/python_data_analysis/blob/main/bysykkel_analysis.ipynb\" target=\"_parent\"><img src=\"https://colab.research.google.com/assets/colab-badge.svg\" alt=\"Open In Colab\"/></a>"
      ]
    },
    {
      "cell_type": "markdown",
      "metadata": {
        "id": "eTZwpRZNRhGY"
      },
      "source": [
        "# Bysykkel Oslo"
      ]
    },
    {
      "cell_type": "markdown",
      "metadata": {
        "id": "sgzkv1LwjLIL"
      },
      "source": [
        "## Uploading packages and data"
      ]
    },
    {
      "cell_type": "code",
      "metadata": {
        "id": "QTRtRZcb-IyF"
      },
      "source": [
        "#Importing necessary packages\n",
        "import numpy as np\n",
        "import pandas as pd\n",
        "import random\n",
        "import matplotlib.pyplot as plt\n",
        "import seaborn as sns"
      ],
      "execution_count": 1,
      "outputs": []
    },
    {
      "cell_type": "code",
      "metadata": {
        "id": "1Z4jxJjRRPLB"
      },
      "source": [
        "#Remove previous versions of the uploaded excel file\n",
        "!rm 2021_06_bysykkel.csv"
      ],
      "execution_count": null,
      "outputs": []
    },
    {
      "cell_type": "code",
      "metadata": {
        "colab": {
          "resources": {
            "http://localhost:8080/nbextensions/google.colab/files.js": {
              "data": "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",
              "ok": true,
              "headers": [
                [
                  "content-type",
                  "application/javascript"
                ]
              ],
              "status": 200,
              "status_text": ""
            }
          },
          "base_uri": "https://localhost:8080/",
          "height": 73
        },
        "id": "oen97ED1-rh-",
        "outputId": "78708171-3664-47b7-e478-11eb22f30e51"
      },
      "source": [
        "#Uploading file from local drive\n",
        "from google.colab import files\n",
        "uploaded = files.upload()"
      ],
      "execution_count": 2,
      "outputs": [
        {
          "output_type": "display_data",
          "data": {
            "text/html": [
              "\n",
              "     <input type=\"file\" id=\"files-1e1fff2d-87f5-4b2f-b8d5-665d91adc7c9\" name=\"files[]\" multiple disabled\n",
              "        style=\"border:none\" />\n",
              "     <output id=\"result-1e1fff2d-87f5-4b2f-b8d5-665d91adc7c9\">\n",
              "      Upload widget is only available when the cell has been executed in the\n",
              "      current browser session. Please rerun this cell to enable.\n",
              "      </output>\n",
              "      <script src=\"/nbextensions/google.colab/files.js\"></script> "
            ],
            "text/plain": [
              "<IPython.core.display.HTML object>"
            ]
          },
          "metadata": {
            "tags": []
          }
        },
        {
          "output_type": "stream",
          "text": [
            "Saving 2021_06_bysykkel.csv to 2021_06_bysykkel.csv\n"
          ],
          "name": "stdout"
        }
      ]
    },
    {
      "cell_type": "code",
      "metadata": {
        "id": "03VoNwL0-3O6"
      },
      "source": [
        "#Storing dataset in a Pandas Dataframe\n",
        "import io\n",
        "by_df = pd.read_csv(io.BytesIO(uploaded['2021_06_bysykkel.csv']), parse_dates=True, infer_datetime_format=True)"
      ],
      "execution_count": 3,
      "outputs": []
    },
    {
      "cell_type": "code",
      "metadata": {
        "id": "6wPknHC-JSRB",
        "colab": {
          "base_uri": "https://localhost:8080/"
        },
        "outputId": "8a616980-f307-4e5d-d393-d2da1cd2b6c9"
      },
      "source": [
        "#Checking the dataframe information\n",
        "by_df.info()"
      ],
      "execution_count": 4,
      "outputs": [
        {
          "output_type": "stream",
          "text": [
            "<class 'pandas.core.frame.DataFrame'>\n",
            "RangeIndex: 217255 entries, 0 to 217254\n",
            "Data columns (total 13 columns):\n",
            " #   Column                     Non-Null Count   Dtype  \n",
            "---  ------                     --------------   -----  \n",
            " 0   started_at                 217255 non-null  object \n",
            " 1   ended_at                   217255 non-null  object \n",
            " 2   duration                   217255 non-null  int64  \n",
            " 3   start_station_id           217255 non-null  int64  \n",
            " 4   start_station_name         217255 non-null  object \n",
            " 5   start_station_description  217244 non-null  object \n",
            " 6   start_station_latitude     217255 non-null  float64\n",
            " 7   start_station_longitude    217255 non-null  float64\n",
            " 8   end_station_id             217255 non-null  int64  \n",
            " 9   end_station_name           217255 non-null  object \n",
            " 10  end_station_description    217244 non-null  object \n",
            " 11  end_station_latitude       217255 non-null  float64\n",
            " 12  end_station_longitude      217255 non-null  float64\n",
            "dtypes: float64(4), int64(3), object(6)\n",
            "memory usage: 21.5+ MB\n"
          ],
          "name": "stdout"
        }
      ]
    },
    {
      "cell_type": "markdown",
      "metadata": {
        "id": "nFhbxv-B6dN7"
      },
      "source": [
        "##Initial Data manipulation and aggregation\n",
        "\n"
      ]
    },
    {
      "cell_type": "code",
      "metadata": {
        "colab": {
          "base_uri": "https://localhost:8080/"
        },
        "id": "L-nwCWK84UZT",
        "outputId": "783d94d0-3b40-4345-df42-d5393344f4b2"
      },
      "source": [
        "#Convert columns into datetime object and Oslo timezone\n",
        "by_df['started_at'] = pd.to_datetime(by_df['started_at'], format='%Y-%m-%d %H:%M:%S').dt.tz_convert('Europe/Oslo')\n",
        "by_df['ended_at'] = pd.to_datetime(by_df['ended_at'], format='%Y-%m-%d %H:%M:%S').dt.tz_convert('Europe/Oslo')\n",
        "by_df.info()"
      ],
      "execution_count": 5,
      "outputs": [
        {
          "output_type": "stream",
          "text": [
            "<class 'pandas.core.frame.DataFrame'>\n",
            "RangeIndex: 217255 entries, 0 to 217254\n",
            "Data columns (total 13 columns):\n",
            " #   Column                     Non-Null Count   Dtype                      \n",
            "---  ------                     --------------   -----                      \n",
            " 0   started_at                 217255 non-null  datetime64[ns, Europe/Oslo]\n",
            " 1   ended_at                   217255 non-null  datetime64[ns, Europe/Oslo]\n",
            " 2   duration                   217255 non-null  int64                      \n",
            " 3   start_station_id           217255 non-null  int64                      \n",
            " 4   start_station_name         217255 non-null  object                     \n",
            " 5   start_station_description  217244 non-null  object                     \n",
            " 6   start_station_latitude     217255 non-null  float64                    \n",
            " 7   start_station_longitude    217255 non-null  float64                    \n",
            " 8   end_station_id             217255 non-null  int64                      \n",
            " 9   end_station_name           217255 non-null  object                     \n",
            " 10  end_station_description    217244 non-null  object                     \n",
            " 11  end_station_latitude       217255 non-null  float64                    \n",
            " 12  end_station_longitude      217255 non-null  float64                    \n",
            "dtypes: datetime64[ns, Europe/Oslo](2), float64(4), int64(3), object(4)\n",
            "memory usage: 21.5+ MB\n"
          ],
          "name": "stdout"
        }
      ]
    },
    {
      "cell_type": "code",
      "metadata": {
        "colab": {
          "base_uri": "https://localhost:8080/",
          "height": 166
        },
        "id": "aKX5w8Ws50XN",
        "outputId": "89e5b4ef-9909-4791-f5d3-b740a3b2b4de"
      },
      "source": [
        "#Checking the dataframe head\n",
        "by_df.head(2)"
      ],
      "execution_count": 6,
      "outputs": [
        {
          "output_type": "execute_result",
          "data": {
            "text/html": [
              "<div>\n",
              "<style scoped>\n",
              "    .dataframe tbody tr th:only-of-type {\n",
              "        vertical-align: middle;\n",
              "    }\n",
              "\n",
              "    .dataframe tbody tr th {\n",
              "        vertical-align: top;\n",
              "    }\n",
              "\n",
              "    .dataframe thead th {\n",
              "        text-align: right;\n",
              "    }\n",
              "</style>\n",
              "<table border=\"1\" class=\"dataframe\">\n",
              "  <thead>\n",
              "    <tr style=\"text-align: right;\">\n",
              "      <th></th>\n",
              "      <th>started_at</th>\n",
              "      <th>ended_at</th>\n",
              "      <th>duration</th>\n",
              "      <th>start_station_id</th>\n",
              "      <th>start_station_name</th>\n",
              "      <th>start_station_description</th>\n",
              "      <th>start_station_latitude</th>\n",
              "      <th>start_station_longitude</th>\n",
              "      <th>end_station_id</th>\n",
              "      <th>end_station_name</th>\n",
              "      <th>end_station_description</th>\n",
              "      <th>end_station_latitude</th>\n",
              "      <th>end_station_longitude</th>\n",
              "    </tr>\n",
              "  </thead>\n",
              "  <tbody>\n",
              "    <tr>\n",
              "      <th>0</th>\n",
              "      <td>2021-06-01 05:02:17.992000+02:00</td>\n",
              "      <td>2021-06-01 05:12:40.819000+02:00</td>\n",
              "      <td>622</td>\n",
              "      <td>381</td>\n",
              "      <td>Grønlands torg</td>\n",
              "      <td>ved Tøyenbekken</td>\n",
              "      <td>59.912520</td>\n",
              "      <td>10.762240</td>\n",
              "      <td>410</td>\n",
              "      <td>Landstads gate</td>\n",
              "      <td>langs Uelands gate</td>\n",
              "      <td>59.929005</td>\n",
              "      <td>10.749676</td>\n",
              "    </tr>\n",
              "    <tr>\n",
              "      <th>1</th>\n",
              "      <td>2021-06-01 05:14:34.332000+02:00</td>\n",
              "      <td>2021-06-01 05:20:55.647000+02:00</td>\n",
              "      <td>381</td>\n",
              "      <td>421</td>\n",
              "      <td>Alexander Kiellands Plass</td>\n",
              "      <td>langs Maridalsveien</td>\n",
              "      <td>59.928067</td>\n",
              "      <td>10.751203</td>\n",
              "      <td>609</td>\n",
              "      <td>Fred Olsens gate</td>\n",
              "      <td>ved Karl Johans gate</td>\n",
              "      <td>59.911051</td>\n",
              "      <td>10.749374</td>\n",
              "    </tr>\n",
              "  </tbody>\n",
              "</table>\n",
              "</div>"
            ],
            "text/plain": [
              "                        started_at  ... end_station_longitude\n",
              "0 2021-06-01 05:02:17.992000+02:00  ...             10.749676\n",
              "1 2021-06-01 05:14:34.332000+02:00  ...             10.749374\n",
              "\n",
              "[2 rows x 13 columns]"
            ]
          },
          "metadata": {
            "tags": []
          },
          "execution_count": 6
        }
      ]
    },
    {
      "cell_type": "code",
      "metadata": {
        "id": "4r7R8-oA6XBs"
      },
      "source": [
        "#Creating 2 dataframes, one with starting trips and one with end trips\n",
        "st_df = by_df[['started_at', 'start_station_id', 'start_station_name', 'start_station_latitude', 'start_station_longitude', 'duration']]\n",
        "en_df = by_df[['ended_at', 'end_station_id', 'end_station_name', 'end_station_latitude', 'end_station_longitude', 'duration']]"
      ],
      "execution_count": 7,
      "outputs": []
    },
    {
      "cell_type": "code",
      "metadata": {
        "id": "egIQBPjdPitO"
      },
      "source": [
        "#Creating a function to extract categories from datetime object\n",
        "def convert_dates(df):\n",
        "  \"\"\"Extract year, month, week number, day, hour and minutes from datetime column\"\"\"\n",
        "  df = df.assign(year = df.iloc[:,0].dt.year,\n",
        "                 month = df.iloc[:,0].dt.month_name(),\n",
        "                 weeknum = df.iloc[:,0].dt.isocalendar().week,\n",
        "                 day = df.iloc[:,0].dt.day_name(),\n",
        "                 hour = df.iloc[:,0].dt.hour,\n",
        "                 minute = df.iloc[:,0].dt.minute\n",
        "                 )\n",
        "  return df"
      ],
      "execution_count": 8,
      "outputs": []
    },
    {
      "cell_type": "code",
      "metadata": {
        "colab": {
          "base_uri": "https://localhost:8080/",
          "height": 112
        },
        "id": "aTuzDaWRS02L",
        "outputId": "88c27377-18c8-4e1d-e33e-fcac74c16fc0"
      },
      "source": [
        "#Converting dates for starting journeys dataframe\n",
        "st_df = convert_dates(st_df)\n",
        "st_df.head(2)"
      ],
      "execution_count": 9,
      "outputs": [
        {
          "output_type": "execute_result",
          "data": {
            "text/html": [
              "<div>\n",
              "<style scoped>\n",
              "    .dataframe tbody tr th:only-of-type {\n",
              "        vertical-align: middle;\n",
              "    }\n",
              "\n",
              "    .dataframe tbody tr th {\n",
              "        vertical-align: top;\n",
              "    }\n",
              "\n",
              "    .dataframe thead th {\n",
              "        text-align: right;\n",
              "    }\n",
              "</style>\n",
              "<table border=\"1\" class=\"dataframe\">\n",
              "  <thead>\n",
              "    <tr style=\"text-align: right;\">\n",
              "      <th></th>\n",
              "      <th>started_at</th>\n",
              "      <th>start_station_id</th>\n",
              "      <th>start_station_name</th>\n",
              "      <th>start_station_latitude</th>\n",
              "      <th>start_station_longitude</th>\n",
              "      <th>duration</th>\n",
              "      <th>year</th>\n",
              "      <th>month</th>\n",
              "      <th>weeknum</th>\n",
              "      <th>day</th>\n",
              "      <th>hour</th>\n",
              "      <th>minute</th>\n",
              "    </tr>\n",
              "  </thead>\n",
              "  <tbody>\n",
              "    <tr>\n",
              "      <th>0</th>\n",
              "      <td>2021-06-01 05:02:17.992000+02:00</td>\n",
              "      <td>381</td>\n",
              "      <td>Grønlands torg</td>\n",
              "      <td>59.912520</td>\n",
              "      <td>10.762240</td>\n",
              "      <td>622</td>\n",
              "      <td>2021</td>\n",
              "      <td>June</td>\n",
              "      <td>22</td>\n",
              "      <td>Tuesday</td>\n",
              "      <td>5</td>\n",
              "      <td>2</td>\n",
              "    </tr>\n",
              "    <tr>\n",
              "      <th>1</th>\n",
              "      <td>2021-06-01 05:14:34.332000+02:00</td>\n",
              "      <td>421</td>\n",
              "      <td>Alexander Kiellands Plass</td>\n",
              "      <td>59.928067</td>\n",
              "      <td>10.751203</td>\n",
              "      <td>381</td>\n",
              "      <td>2021</td>\n",
              "      <td>June</td>\n",
              "      <td>22</td>\n",
              "      <td>Tuesday</td>\n",
              "      <td>5</td>\n",
              "      <td>14</td>\n",
              "    </tr>\n",
              "  </tbody>\n",
              "</table>\n",
              "</div>"
            ],
            "text/plain": [
              "                        started_at  start_station_id  ... hour  minute\n",
              "0 2021-06-01 05:02:17.992000+02:00               381  ...    5       2\n",
              "1 2021-06-01 05:14:34.332000+02:00               421  ...    5      14\n",
              "\n",
              "[2 rows x 12 columns]"
            ]
          },
          "metadata": {
            "tags": []
          },
          "execution_count": 9
        }
      ]
    },
    {
      "cell_type": "code",
      "metadata": {
        "colab": {
          "base_uri": "https://localhost:8080/",
          "height": 112
        },
        "id": "TjdQdzNIUkUJ",
        "outputId": "80ca63e3-2fca-4de5-9c0b-c10707bb5d67"
      },
      "source": [
        "#Converting dates for end journeys dataframe\n",
        "en_df = convert_dates(en_df)\n",
        "en_df.head(2)"
      ],
      "execution_count": 10,
      "outputs": [
        {
          "output_type": "execute_result",
          "data": {
            "text/html": [
              "<div>\n",
              "<style scoped>\n",
              "    .dataframe tbody tr th:only-of-type {\n",
              "        vertical-align: middle;\n",
              "    }\n",
              "\n",
              "    .dataframe tbody tr th {\n",
              "        vertical-align: top;\n",
              "    }\n",
              "\n",
              "    .dataframe thead th {\n",
              "        text-align: right;\n",
              "    }\n",
              "</style>\n",
              "<table border=\"1\" class=\"dataframe\">\n",
              "  <thead>\n",
              "    <tr style=\"text-align: right;\">\n",
              "      <th></th>\n",
              "      <th>ended_at</th>\n",
              "      <th>end_station_id</th>\n",
              "      <th>end_station_name</th>\n",
              "      <th>end_station_latitude</th>\n",
              "      <th>end_station_longitude</th>\n",
              "      <th>duration</th>\n",
              "      <th>year</th>\n",
              "      <th>month</th>\n",
              "      <th>weeknum</th>\n",
              "      <th>day</th>\n",
              "      <th>hour</th>\n",
              "      <th>minute</th>\n",
              "    </tr>\n",
              "  </thead>\n",
              "  <tbody>\n",
              "    <tr>\n",
              "      <th>0</th>\n",
              "      <td>2021-06-01 05:12:40.819000+02:00</td>\n",
              "      <td>410</td>\n",
              "      <td>Landstads gate</td>\n",
              "      <td>59.929005</td>\n",
              "      <td>10.749676</td>\n",
              "      <td>622</td>\n",
              "      <td>2021</td>\n",
              "      <td>June</td>\n",
              "      <td>22</td>\n",
              "      <td>Tuesday</td>\n",
              "      <td>5</td>\n",
              "      <td>12</td>\n",
              "    </tr>\n",
              "    <tr>\n",
              "      <th>1</th>\n",
              "      <td>2021-06-01 05:20:55.647000+02:00</td>\n",
              "      <td>609</td>\n",
              "      <td>Fred Olsens gate</td>\n",
              "      <td>59.911051</td>\n",
              "      <td>10.749374</td>\n",
              "      <td>381</td>\n",
              "      <td>2021</td>\n",
              "      <td>June</td>\n",
              "      <td>22</td>\n",
              "      <td>Tuesday</td>\n",
              "      <td>5</td>\n",
              "      <td>20</td>\n",
              "    </tr>\n",
              "  </tbody>\n",
              "</table>\n",
              "</div>"
            ],
            "text/plain": [
              "                          ended_at  end_station_id  ... hour  minute\n",
              "0 2021-06-01 05:12:40.819000+02:00             410  ...    5      12\n",
              "1 2021-06-01 05:20:55.647000+02:00             609  ...    5      20\n",
              "\n",
              "[2 rows x 12 columns]"
            ]
          },
          "metadata": {
            "tags": []
          },
          "execution_count": 10
        }
      ]
    },
    {
      "cell_type": "code",
      "metadata": {
        "colab": {
          "base_uri": "https://localhost:8080/",
          "height": 362
        },
        "id": "CCuqDk_Jijmj",
        "outputId": "1df2cece-8774-4690-cb77-2a52c847f5e7"
      },
      "source": [
        "#Computing Top start_location stations\n",
        "st_loc = st_df.groupby(['year', 'month', 'start_station_name', 'start_station_latitude', 'start_station_longitude']).agg({'start_station_id': 'count',\n",
        "                                                                                                         'duration': 'mean'}).reset_index()\n",
        "st_loc = st_loc.assign(duration = round(st_loc['duration']/60, 2))\n",
        "st_loc = st_loc.rename(columns={'start_station_id': 'trips', 'duration': 'mean_min'}).sort_values(by='trips', ascending=False).reset_index(drop=True)\n",
        "st_loc = st_loc.rename(columns={'start_station_name':'name', 'start_station_latitude':'lat', 'start_station_longitude':'lon'})\n",
        "st_loc.head(10)"
      ],
      "execution_count": 11,
      "outputs": [
        {
          "output_type": "execute_result",
          "data": {
            "text/html": [
              "<div>\n",
              "<style scoped>\n",
              "    .dataframe tbody tr th:only-of-type {\n",
              "        vertical-align: middle;\n",
              "    }\n",
              "\n",
              "    .dataframe tbody tr th {\n",
              "        vertical-align: top;\n",
              "    }\n",
              "\n",
              "    .dataframe thead th {\n",
              "        text-align: right;\n",
              "    }\n",
              "</style>\n",
              "<table border=\"1\" class=\"dataframe\">\n",
              "  <thead>\n",
              "    <tr style=\"text-align: right;\">\n",
              "      <th></th>\n",
              "      <th>year</th>\n",
              "      <th>month</th>\n",
              "      <th>name</th>\n",
              "      <th>lat</th>\n",
              "      <th>lon</th>\n",
              "      <th>trips</th>\n",
              "      <th>mean_min</th>\n",
              "    </tr>\n",
              "  </thead>\n",
              "  <tbody>\n",
              "    <tr>\n",
              "      <th>0</th>\n",
              "      <td>2021</td>\n",
              "      <td>June</td>\n",
              "      <td>Olaf Ryes plass</td>\n",
              "      <td>59.922425</td>\n",
              "      <td>10.758182</td>\n",
              "      <td>3078</td>\n",
              "      <td>12.18</td>\n",
              "    </tr>\n",
              "    <tr>\n",
              "      <th>1</th>\n",
              "      <td>2021</td>\n",
              "      <td>June</td>\n",
              "      <td>Alexander Kiellands Plass</td>\n",
              "      <td>59.928067</td>\n",
              "      <td>10.751203</td>\n",
              "      <td>3049</td>\n",
              "      <td>11.20</td>\n",
              "    </tr>\n",
              "    <tr>\n",
              "      <th>2</th>\n",
              "      <td>2021</td>\n",
              "      <td>June</td>\n",
              "      <td>Sukkerbiten</td>\n",
              "      <td>59.905124</td>\n",
              "      <td>10.753764</td>\n",
              "      <td>2983</td>\n",
              "      <td>16.26</td>\n",
              "    </tr>\n",
              "    <tr>\n",
              "      <th>3</th>\n",
              "      <td>2021</td>\n",
              "      <td>June</td>\n",
              "      <td>Rådhusbrygge 4</td>\n",
              "      <td>59.910847</td>\n",
              "      <td>10.730377</td>\n",
              "      <td>2754</td>\n",
              "      <td>16.50</td>\n",
              "    </tr>\n",
              "    <tr>\n",
              "      <th>4</th>\n",
              "      <td>2021</td>\n",
              "      <td>June</td>\n",
              "      <td>Ringnes Park</td>\n",
              "      <td>59.928434</td>\n",
              "      <td>10.759430</td>\n",
              "      <td>2686</td>\n",
              "      <td>11.10</td>\n",
              "    </tr>\n",
              "    <tr>\n",
              "      <th>5</th>\n",
              "      <td>2021</td>\n",
              "      <td>June</td>\n",
              "      <td>Bislett Stadion</td>\n",
              "      <td>59.925471</td>\n",
              "      <td>10.731219</td>\n",
              "      <td>2400</td>\n",
              "      <td>11.86</td>\n",
              "    </tr>\n",
              "    <tr>\n",
              "      <th>6</th>\n",
              "      <td>2021</td>\n",
              "      <td>June</td>\n",
              "      <td>Marcus Thranes gate</td>\n",
              "      <td>59.932772</td>\n",
              "      <td>10.758595</td>\n",
              "      <td>2233</td>\n",
              "      <td>11.97</td>\n",
              "    </tr>\n",
              "    <tr>\n",
              "      <th>7</th>\n",
              "      <td>2021</td>\n",
              "      <td>June</td>\n",
              "      <td>Bislettgata</td>\n",
              "      <td>59.923774</td>\n",
              "      <td>10.734713</td>\n",
              "      <td>2157</td>\n",
              "      <td>11.24</td>\n",
              "    </tr>\n",
              "    <tr>\n",
              "      <th>8</th>\n",
              "      <td>2021</td>\n",
              "      <td>June</td>\n",
              "      <td>Storo Storsenter</td>\n",
              "      <td>59.946710</td>\n",
              "      <td>10.773805</td>\n",
              "      <td>2137</td>\n",
              "      <td>14.95</td>\n",
              "    </tr>\n",
              "    <tr>\n",
              "      <th>9</th>\n",
              "      <td>2021</td>\n",
              "      <td>June</td>\n",
              "      <td>Tjuvholmen</td>\n",
              "      <td>59.909467</td>\n",
              "      <td>10.722509</td>\n",
              "      <td>2087</td>\n",
              "      <td>16.38</td>\n",
              "    </tr>\n",
              "  </tbody>\n",
              "</table>\n",
              "</div>"
            ],
            "text/plain": [
              "   year month                       name        lat        lon  trips  mean_min\n",
              "0  2021  June            Olaf Ryes plass  59.922425  10.758182   3078     12.18\n",
              "1  2021  June  Alexander Kiellands Plass  59.928067  10.751203   3049     11.20\n",
              "2  2021  June                Sukkerbiten  59.905124  10.753764   2983     16.26\n",
              "3  2021  June             Rådhusbrygge 4  59.910847  10.730377   2754     16.50\n",
              "4  2021  June               Ringnes Park  59.928434  10.759430   2686     11.10\n",
              "5  2021  June            Bislett Stadion  59.925471  10.731219   2400     11.86\n",
              "6  2021  June        Marcus Thranes gate  59.932772  10.758595   2233     11.97\n",
              "7  2021  June                Bislettgata  59.923774  10.734713   2157     11.24\n",
              "8  2021  June           Storo Storsenter  59.946710  10.773805   2137     14.95\n",
              "9  2021  June                 Tjuvholmen  59.909467  10.722509   2087     16.38"
            ]
          },
          "metadata": {
            "tags": []
          },
          "execution_count": 11
        }
      ]
    },
    {
      "cell_type": "code",
      "metadata": {
        "colab": {
          "base_uri": "https://localhost:8080/",
          "height": 831
        },
        "id": "0QQ5u97Sf3Kb",
        "outputId": "b7ca0ee8-3f3c-483b-d980-c6d1ef4990af"
      },
      "source": [
        "#Computing top hours by month\n",
        "st_hr = st_df.groupby(['year', 'month', 'hour']).agg({'start_station_id': 'count'}).reset_index()\n",
        "st_hr = st_hr.rename(columns={'start_station_id': 'count'}).sort_values(by='hour').reset_index(drop=True)\n",
        "st_hr"
      ],
      "execution_count": 12,
      "outputs": [
        {
          "output_type": "execute_result",
          "data": {
            "text/html": [
              "<div>\n",
              "<style scoped>\n",
              "    .dataframe tbody tr th:only-of-type {\n",
              "        vertical-align: middle;\n",
              "    }\n",
              "\n",
              "    .dataframe tbody tr th {\n",
              "        vertical-align: top;\n",
              "    }\n",
              "\n",
              "    .dataframe thead th {\n",
              "        text-align: right;\n",
              "    }\n",
              "</style>\n",
              "<table border=\"1\" class=\"dataframe\">\n",
              "  <thead>\n",
              "    <tr style=\"text-align: right;\">\n",
              "      <th></th>\n",
              "      <th>year</th>\n",
              "      <th>month</th>\n",
              "      <th>hour</th>\n",
              "      <th>count</th>\n",
              "    </tr>\n",
              "  </thead>\n",
              "  <tbody>\n",
              "    <tr>\n",
              "      <th>0</th>\n",
              "      <td>2021</td>\n",
              "      <td>July</td>\n",
              "      <td>0</td>\n",
              "      <td>120</td>\n",
              "    </tr>\n",
              "    <tr>\n",
              "      <th>1</th>\n",
              "      <td>2021</td>\n",
              "      <td>June</td>\n",
              "      <td>0</td>\n",
              "      <td>3042</td>\n",
              "    </tr>\n",
              "    <tr>\n",
              "      <th>2</th>\n",
              "      <td>2021</td>\n",
              "      <td>July</td>\n",
              "      <td>1</td>\n",
              "      <td>1</td>\n",
              "    </tr>\n",
              "    <tr>\n",
              "      <th>3</th>\n",
              "      <td>2021</td>\n",
              "      <td>June</td>\n",
              "      <td>1</td>\n",
              "      <td>1</td>\n",
              "    </tr>\n",
              "    <tr>\n",
              "      <th>4</th>\n",
              "      <td>2021</td>\n",
              "      <td>June</td>\n",
              "      <td>2</td>\n",
              "      <td>1</td>\n",
              "    </tr>\n",
              "    <tr>\n",
              "      <th>5</th>\n",
              "      <td>2021</td>\n",
              "      <td>June</td>\n",
              "      <td>3</td>\n",
              "      <td>2</td>\n",
              "    </tr>\n",
              "    <tr>\n",
              "      <th>6</th>\n",
              "      <td>2021</td>\n",
              "      <td>June</td>\n",
              "      <td>5</td>\n",
              "      <td>730</td>\n",
              "    </tr>\n",
              "    <tr>\n",
              "      <th>7</th>\n",
              "      <td>2021</td>\n",
              "      <td>June</td>\n",
              "      <td>6</td>\n",
              "      <td>3146</td>\n",
              "    </tr>\n",
              "    <tr>\n",
              "      <th>8</th>\n",
              "      <td>2021</td>\n",
              "      <td>June</td>\n",
              "      <td>7</td>\n",
              "      <td>10295</td>\n",
              "    </tr>\n",
              "    <tr>\n",
              "      <th>9</th>\n",
              "      <td>2021</td>\n",
              "      <td>June</td>\n",
              "      <td>8</td>\n",
              "      <td>14313</td>\n",
              "    </tr>\n",
              "    <tr>\n",
              "      <th>10</th>\n",
              "      <td>2021</td>\n",
              "      <td>June</td>\n",
              "      <td>9</td>\n",
              "      <td>8789</td>\n",
              "    </tr>\n",
              "    <tr>\n",
              "      <th>11</th>\n",
              "      <td>2021</td>\n",
              "      <td>June</td>\n",
              "      <td>10</td>\n",
              "      <td>8037</td>\n",
              "    </tr>\n",
              "    <tr>\n",
              "      <th>12</th>\n",
              "      <td>2021</td>\n",
              "      <td>June</td>\n",
              "      <td>11</td>\n",
              "      <td>9742</td>\n",
              "    </tr>\n",
              "    <tr>\n",
              "      <th>13</th>\n",
              "      <td>2021</td>\n",
              "      <td>June</td>\n",
              "      <td>12</td>\n",
              "      <td>10426</td>\n",
              "    </tr>\n",
              "    <tr>\n",
              "      <th>14</th>\n",
              "      <td>2021</td>\n",
              "      <td>June</td>\n",
              "      <td>13</td>\n",
              "      <td>11108</td>\n",
              "    </tr>\n",
              "    <tr>\n",
              "      <th>15</th>\n",
              "      <td>2021</td>\n",
              "      <td>June</td>\n",
              "      <td>14</td>\n",
              "      <td>12733</td>\n",
              "    </tr>\n",
              "    <tr>\n",
              "      <th>16</th>\n",
              "      <td>2021</td>\n",
              "      <td>June</td>\n",
              "      <td>15</td>\n",
              "      <td>17018</td>\n",
              "    </tr>\n",
              "    <tr>\n",
              "      <th>17</th>\n",
              "      <td>2021</td>\n",
              "      <td>June</td>\n",
              "      <td>16</td>\n",
              "      <td>21935</td>\n",
              "    </tr>\n",
              "    <tr>\n",
              "      <th>18</th>\n",
              "      <td>2021</td>\n",
              "      <td>June</td>\n",
              "      <td>17</td>\n",
              "      <td>20324</td>\n",
              "    </tr>\n",
              "    <tr>\n",
              "      <th>19</th>\n",
              "      <td>2021</td>\n",
              "      <td>June</td>\n",
              "      <td>18</td>\n",
              "      <td>16412</td>\n",
              "    </tr>\n",
              "    <tr>\n",
              "      <th>20</th>\n",
              "      <td>2021</td>\n",
              "      <td>June</td>\n",
              "      <td>19</td>\n",
              "      <td>13368</td>\n",
              "    </tr>\n",
              "    <tr>\n",
              "      <th>21</th>\n",
              "      <td>2021</td>\n",
              "      <td>June</td>\n",
              "      <td>20</td>\n",
              "      <td>11519</td>\n",
              "    </tr>\n",
              "    <tr>\n",
              "      <th>22</th>\n",
              "      <td>2021</td>\n",
              "      <td>June</td>\n",
              "      <td>21</td>\n",
              "      <td>9136</td>\n",
              "    </tr>\n",
              "    <tr>\n",
              "      <th>23</th>\n",
              "      <td>2021</td>\n",
              "      <td>June</td>\n",
              "      <td>22</td>\n",
              "      <td>8857</td>\n",
              "    </tr>\n",
              "    <tr>\n",
              "      <th>24</th>\n",
              "      <td>2021</td>\n",
              "      <td>June</td>\n",
              "      <td>23</td>\n",
              "      <td>6200</td>\n",
              "    </tr>\n",
              "  </tbody>\n",
              "</table>\n",
              "</div>"
            ],
            "text/plain": [
              "    year month  hour  count\n",
              "0   2021  July     0    120\n",
              "1   2021  June     0   3042\n",
              "2   2021  July     1      1\n",
              "3   2021  June     1      1\n",
              "4   2021  June     2      1\n",
              "5   2021  June     3      2\n",
              "6   2021  June     5    730\n",
              "7   2021  June     6   3146\n",
              "8   2021  June     7  10295\n",
              "9   2021  June     8  14313\n",
              "10  2021  June     9   8789\n",
              "11  2021  June    10   8037\n",
              "12  2021  June    11   9742\n",
              "13  2021  June    12  10426\n",
              "14  2021  June    13  11108\n",
              "15  2021  June    14  12733\n",
              "16  2021  June    15  17018\n",
              "17  2021  June    16  21935\n",
              "18  2021  June    17  20324\n",
              "19  2021  June    18  16412\n",
              "20  2021  June    19  13368\n",
              "21  2021  June    20  11519\n",
              "22  2021  June    21   9136\n",
              "23  2021  June    22   8857\n",
              "24  2021  June    23   6200"
            ]
          },
          "metadata": {
            "tags": []
          },
          "execution_count": 12
        }
      ]
    },
    {
      "cell_type": "code",
      "metadata": {
        "colab": {
          "base_uri": "https://localhost:8080/",
          "height": 362
        },
        "id": "DwAjTuTIk1o8",
        "outputId": "916c02a7-1904-4bf4-de88-fccc7650e194"
      },
      "source": [
        "#Computing Top end_location stations\n",
        "en_loc = en_df.groupby(['year', 'month', 'end_station_name', 'end_station_latitude', 'end_station_longitude']).agg({'end_station_id': 'count',\n",
        "                                                                                                   'duration': 'mean'}).reset_index()\n",
        "en_loc = en_loc.assign(duration = round(en_loc['duration']/60, 2))\n",
        "en_loc = en_loc.rename(columns={'end_station_id': 'trips', 'duration': 'mean_min'}).sort_values(by='trips', ascending=False).reset_index(drop=True)\n",
        "en_loc = en_loc.rename(columns={'end_station_name':'name', 'end_station_latitude':'lat', 'end_station_longitude':'lon'})\n",
        "en_loc.head(10)"
      ],
      "execution_count": 13,
      "outputs": [
        {
          "output_type": "execute_result",
          "data": {
            "text/html": [
              "<div>\n",
              "<style scoped>\n",
              "    .dataframe tbody tr th:only-of-type {\n",
              "        vertical-align: middle;\n",
              "    }\n",
              "\n",
              "    .dataframe tbody tr th {\n",
              "        vertical-align: top;\n",
              "    }\n",
              "\n",
              "    .dataframe thead th {\n",
              "        text-align: right;\n",
              "    }\n",
              "</style>\n",
              "<table border=\"1\" class=\"dataframe\">\n",
              "  <thead>\n",
              "    <tr style=\"text-align: right;\">\n",
              "      <th></th>\n",
              "      <th>year</th>\n",
              "      <th>month</th>\n",
              "      <th>name</th>\n",
              "      <th>lat</th>\n",
              "      <th>lon</th>\n",
              "      <th>trips</th>\n",
              "      <th>mean_min</th>\n",
              "    </tr>\n",
              "  </thead>\n",
              "  <tbody>\n",
              "    <tr>\n",
              "      <th>0</th>\n",
              "      <td>2021</td>\n",
              "      <td>June</td>\n",
              "      <td>Rådhusbrygge 4</td>\n",
              "      <td>59.910847</td>\n",
              "      <td>10.730377</td>\n",
              "      <td>5040</td>\n",
              "      <td>13.97</td>\n",
              "    </tr>\n",
              "    <tr>\n",
              "      <th>1</th>\n",
              "      <td>2021</td>\n",
              "      <td>June</td>\n",
              "      <td>Sukkerbiten</td>\n",
              "      <td>59.905124</td>\n",
              "      <td>10.753764</td>\n",
              "      <td>3547</td>\n",
              "      <td>16.92</td>\n",
              "    </tr>\n",
              "    <tr>\n",
              "      <th>2</th>\n",
              "      <td>2021</td>\n",
              "      <td>June</td>\n",
              "      <td>Olaf Ryes plass</td>\n",
              "      <td>59.922425</td>\n",
              "      <td>10.758182</td>\n",
              "      <td>3529</td>\n",
              "      <td>11.53</td>\n",
              "    </tr>\n",
              "    <tr>\n",
              "      <th>3</th>\n",
              "      <td>2021</td>\n",
              "      <td>June</td>\n",
              "      <td>Torggata</td>\n",
              "      <td>59.915983</td>\n",
              "      <td>10.751551</td>\n",
              "      <td>3420</td>\n",
              "      <td>10.75</td>\n",
              "    </tr>\n",
              "    <tr>\n",
              "      <th>4</th>\n",
              "      <td>2021</td>\n",
              "      <td>June</td>\n",
              "      <td>Kirkeristen</td>\n",
              "      <td>59.913000</td>\n",
              "      <td>10.746761</td>\n",
              "      <td>3293</td>\n",
              "      <td>11.03</td>\n",
              "    </tr>\n",
              "    <tr>\n",
              "      <th>5</th>\n",
              "      <td>2021</td>\n",
              "      <td>June</td>\n",
              "      <td>Alexander Kiellands Plass</td>\n",
              "      <td>59.928067</td>\n",
              "      <td>10.751203</td>\n",
              "      <td>3050</td>\n",
              "      <td>10.76</td>\n",
              "    </tr>\n",
              "    <tr>\n",
              "      <th>6</th>\n",
              "      <td>2021</td>\n",
              "      <td>June</td>\n",
              "      <td>Akersgata</td>\n",
              "      <td>59.914197</td>\n",
              "      <td>10.742883</td>\n",
              "      <td>2735</td>\n",
              "      <td>10.58</td>\n",
              "    </tr>\n",
              "    <tr>\n",
              "      <th>7</th>\n",
              "      <td>2021</td>\n",
              "      <td>June</td>\n",
              "      <td>Ringnes Park</td>\n",
              "      <td>59.928434</td>\n",
              "      <td>10.759430</td>\n",
              "      <td>2673</td>\n",
              "      <td>11.17</td>\n",
              "    </tr>\n",
              "    <tr>\n",
              "      <th>8</th>\n",
              "      <td>2021</td>\n",
              "      <td>June</td>\n",
              "      <td>Tjuvholmen</td>\n",
              "      <td>59.909467</td>\n",
              "      <td>10.722509</td>\n",
              "      <td>2644</td>\n",
              "      <td>14.92</td>\n",
              "    </tr>\n",
              "    <tr>\n",
              "      <th>9</th>\n",
              "      <td>2021</td>\n",
              "      <td>June</td>\n",
              "      <td>Sjøsiden ved trappen</td>\n",
              "      <td>59.910154</td>\n",
              "      <td>10.751981</td>\n",
              "      <td>2601</td>\n",
              "      <td>14.30</td>\n",
              "    </tr>\n",
              "  </tbody>\n",
              "</table>\n",
              "</div>"
            ],
            "text/plain": [
              "   year month                       name        lat        lon  trips  mean_min\n",
              "0  2021  June             Rådhusbrygge 4  59.910847  10.730377   5040     13.97\n",
              "1  2021  June                Sukkerbiten  59.905124  10.753764   3547     16.92\n",
              "2  2021  June            Olaf Ryes plass  59.922425  10.758182   3529     11.53\n",
              "3  2021  June                   Torggata  59.915983  10.751551   3420     10.75\n",
              "4  2021  June                Kirkeristen  59.913000  10.746761   3293     11.03\n",
              "5  2021  June  Alexander Kiellands Plass  59.928067  10.751203   3050     10.76\n",
              "6  2021  June                  Akersgata  59.914197  10.742883   2735     10.58\n",
              "7  2021  June               Ringnes Park  59.928434  10.759430   2673     11.17\n",
              "8  2021  June                 Tjuvholmen  59.909467  10.722509   2644     14.92\n",
              "9  2021  June       Sjøsiden ved trappen  59.910154  10.751981   2601     14.30"
            ]
          },
          "metadata": {
            "tags": []
          },
          "execution_count": 13
        }
      ]
    },
    {
      "cell_type": "code",
      "metadata": {
        "colab": {
          "base_uri": "https://localhost:8080/",
          "height": 893
        },
        "id": "iLQ1iCA4jAb1",
        "outputId": "abfab430-536a-42b5-a0e6-ca04b750ede7"
      },
      "source": [
        "#Computing top hours by month\n",
        "en_hr = en_df.groupby(['year', 'month', 'hour']).agg({'end_station_id': 'count'}).reset_index()\n",
        "en_hr = en_hr.rename(columns={'end_station_id': 'count'}).sort_values(by='hour').reset_index(drop=True)\n",
        "en_hr"
      ],
      "execution_count": 14,
      "outputs": [
        {
          "output_type": "execute_result",
          "data": {
            "text/html": [
              "<div>\n",
              "<style scoped>\n",
              "    .dataframe tbody tr th:only-of-type {\n",
              "        vertical-align: middle;\n",
              "    }\n",
              "\n",
              "    .dataframe tbody tr th {\n",
              "        vertical-align: top;\n",
              "    }\n",
              "\n",
              "    .dataframe thead th {\n",
              "        text-align: right;\n",
              "    }\n",
              "</style>\n",
              "<table border=\"1\" class=\"dataframe\">\n",
              "  <thead>\n",
              "    <tr style=\"text-align: right;\">\n",
              "      <th></th>\n",
              "      <th>year</th>\n",
              "      <th>month</th>\n",
              "      <th>hour</th>\n",
              "      <th>count</th>\n",
              "    </tr>\n",
              "  </thead>\n",
              "  <tbody>\n",
              "    <tr>\n",
              "      <th>0</th>\n",
              "      <td>2021</td>\n",
              "      <td>July</td>\n",
              "      <td>0</td>\n",
              "      <td>135</td>\n",
              "    </tr>\n",
              "    <tr>\n",
              "      <th>1</th>\n",
              "      <td>2021</td>\n",
              "      <td>June</td>\n",
              "      <td>0</td>\n",
              "      <td>3396</td>\n",
              "    </tr>\n",
              "    <tr>\n",
              "      <th>2</th>\n",
              "      <td>2021</td>\n",
              "      <td>July</td>\n",
              "      <td>1</td>\n",
              "      <td>20</td>\n",
              "    </tr>\n",
              "    <tr>\n",
              "      <th>3</th>\n",
              "      <td>2021</td>\n",
              "      <td>June</td>\n",
              "      <td>1</td>\n",
              "      <td>578</td>\n",
              "    </tr>\n",
              "    <tr>\n",
              "      <th>4</th>\n",
              "      <td>2021</td>\n",
              "      <td>June</td>\n",
              "      <td>2</td>\n",
              "      <td>14</td>\n",
              "    </tr>\n",
              "    <tr>\n",
              "      <th>5</th>\n",
              "      <td>2021</td>\n",
              "      <td>June</td>\n",
              "      <td>3</td>\n",
              "      <td>9</td>\n",
              "    </tr>\n",
              "    <tr>\n",
              "      <th>6</th>\n",
              "      <td>2021</td>\n",
              "      <td>June</td>\n",
              "      <td>4</td>\n",
              "      <td>2</td>\n",
              "    </tr>\n",
              "    <tr>\n",
              "      <th>7</th>\n",
              "      <td>2021</td>\n",
              "      <td>June</td>\n",
              "      <td>5</td>\n",
              "      <td>581</td>\n",
              "    </tr>\n",
              "    <tr>\n",
              "      <th>8</th>\n",
              "      <td>2021</td>\n",
              "      <td>June</td>\n",
              "      <td>6</td>\n",
              "      <td>2557</td>\n",
              "    </tr>\n",
              "    <tr>\n",
              "      <th>9</th>\n",
              "      <td>2021</td>\n",
              "      <td>June</td>\n",
              "      <td>7</td>\n",
              "      <td>8767</td>\n",
              "    </tr>\n",
              "    <tr>\n",
              "      <th>10</th>\n",
              "      <td>2021</td>\n",
              "      <td>June</td>\n",
              "      <td>8</td>\n",
              "      <td>14454</td>\n",
              "    </tr>\n",
              "    <tr>\n",
              "      <th>11</th>\n",
              "      <td>2021</td>\n",
              "      <td>July</td>\n",
              "      <td>9</td>\n",
              "      <td>1</td>\n",
              "    </tr>\n",
              "    <tr>\n",
              "      <th>12</th>\n",
              "      <td>2021</td>\n",
              "      <td>June</td>\n",
              "      <td>9</td>\n",
              "      <td>9433</td>\n",
              "    </tr>\n",
              "    <tr>\n",
              "      <th>13</th>\n",
              "      <td>2021</td>\n",
              "      <td>June</td>\n",
              "      <td>10</td>\n",
              "      <td>7707</td>\n",
              "    </tr>\n",
              "    <tr>\n",
              "      <th>14</th>\n",
              "      <td>2021</td>\n",
              "      <td>June</td>\n",
              "      <td>11</td>\n",
              "      <td>9286</td>\n",
              "    </tr>\n",
              "    <tr>\n",
              "      <th>15</th>\n",
              "      <td>2021</td>\n",
              "      <td>June</td>\n",
              "      <td>12</td>\n",
              "      <td>10219</td>\n",
              "    </tr>\n",
              "    <tr>\n",
              "      <th>16</th>\n",
              "      <td>2021</td>\n",
              "      <td>June</td>\n",
              "      <td>13</td>\n",
              "      <td>10934</td>\n",
              "    </tr>\n",
              "    <tr>\n",
              "      <th>17</th>\n",
              "      <td>2021</td>\n",
              "      <td>June</td>\n",
              "      <td>14</td>\n",
              "      <td>12369</td>\n",
              "    </tr>\n",
              "    <tr>\n",
              "      <th>18</th>\n",
              "      <td>2021</td>\n",
              "      <td>June</td>\n",
              "      <td>15</td>\n",
              "      <td>15811</td>\n",
              "    </tr>\n",
              "    <tr>\n",
              "      <th>19</th>\n",
              "      <td>2021</td>\n",
              "      <td>June</td>\n",
              "      <td>16</td>\n",
              "      <td>21488</td>\n",
              "    </tr>\n",
              "    <tr>\n",
              "      <th>20</th>\n",
              "      <td>2021</td>\n",
              "      <td>June</td>\n",
              "      <td>17</td>\n",
              "      <td>20616</td>\n",
              "    </tr>\n",
              "    <tr>\n",
              "      <th>21</th>\n",
              "      <td>2021</td>\n",
              "      <td>June</td>\n",
              "      <td>18</td>\n",
              "      <td>17184</td>\n",
              "    </tr>\n",
              "    <tr>\n",
              "      <th>22</th>\n",
              "      <td>2021</td>\n",
              "      <td>June</td>\n",
              "      <td>19</td>\n",
              "      <td>13935</td>\n",
              "    </tr>\n",
              "    <tr>\n",
              "      <th>23</th>\n",
              "      <td>2021</td>\n",
              "      <td>June</td>\n",
              "      <td>20</td>\n",
              "      <td>12085</td>\n",
              "    </tr>\n",
              "    <tr>\n",
              "      <th>24</th>\n",
              "      <td>2021</td>\n",
              "      <td>June</td>\n",
              "      <td>21</td>\n",
              "      <td>9535</td>\n",
              "    </tr>\n",
              "    <tr>\n",
              "      <th>25</th>\n",
              "      <td>2021</td>\n",
              "      <td>June</td>\n",
              "      <td>22</td>\n",
              "      <td>9031</td>\n",
              "    </tr>\n",
              "    <tr>\n",
              "      <th>26</th>\n",
              "      <td>2021</td>\n",
              "      <td>June</td>\n",
              "      <td>23</td>\n",
              "      <td>7108</td>\n",
              "    </tr>\n",
              "  </tbody>\n",
              "</table>\n",
              "</div>"
            ],
            "text/plain": [
              "    year month  hour  count\n",
              "0   2021  July     0    135\n",
              "1   2021  June     0   3396\n",
              "2   2021  July     1     20\n",
              "3   2021  June     1    578\n",
              "4   2021  June     2     14\n",
              "5   2021  June     3      9\n",
              "6   2021  June     4      2\n",
              "7   2021  June     5    581\n",
              "8   2021  June     6   2557\n",
              "9   2021  June     7   8767\n",
              "10  2021  June     8  14454\n",
              "11  2021  July     9      1\n",
              "12  2021  June     9   9433\n",
              "13  2021  June    10   7707\n",
              "14  2021  June    11   9286\n",
              "15  2021  June    12  10219\n",
              "16  2021  June    13  10934\n",
              "17  2021  June    14  12369\n",
              "18  2021  June    15  15811\n",
              "19  2021  June    16  21488\n",
              "20  2021  June    17  20616\n",
              "21  2021  June    18  17184\n",
              "22  2021  June    19  13935\n",
              "23  2021  June    20  12085\n",
              "24  2021  June    21   9535\n",
              "25  2021  June    22   9031\n",
              "26  2021  June    23   7108"
            ]
          },
          "metadata": {
            "tags": []
          },
          "execution_count": 14
        }
      ]
    },
    {
      "cell_type": "code",
      "metadata": {
        "colab": {
          "base_uri": "https://localhost:8080/",
          "height": 17
        },
        "id": "GdT1R7f8dMty",
        "outputId": "cdcf7aef-edf6-416f-c844-a7115d0fce3e"
      },
      "source": [
        "#Exporting to csv into local disk\n",
        "from google.colab import files\n",
        "st_loc.to_csv('2021_06_st_loc.csv', index=False, header=False)\n",
        "files.download('2021_06_st_loc.csv')"
      ],
      "execution_count": 15,
      "outputs": [
        {
          "output_type": "display_data",
          "data": {
            "application/javascript": [
              "\n",
              "    async function download(id, filename, size) {\n",
              "      if (!google.colab.kernel.accessAllowed) {\n",
              "        return;\n",
              "      }\n",
              "      const div = document.createElement('div');\n",
              "      const label = document.createElement('label');\n",
              "      label.textContent = `Downloading \"${filename}\": `;\n",
              "      div.appendChild(label);\n",
              "      const progress = document.createElement('progress');\n",
              "      progress.max = size;\n",
              "      div.appendChild(progress);\n",
              "      document.body.appendChild(div);\n",
              "\n",
              "      const buffers = [];\n",
              "      let downloaded = 0;\n",
              "\n",
              "      const channel = await google.colab.kernel.comms.open(id);\n",
              "      // Send a message to notify the kernel that we're ready.\n",
              "      channel.send({})\n",
              "\n",
              "      for await (const message of channel.messages) {\n",
              "        // Send a message to notify the kernel that we're ready.\n",
              "        channel.send({})\n",
              "        if (message.buffers) {\n",
              "          for (const buffer of message.buffers) {\n",
              "            buffers.push(buffer);\n",
              "            downloaded += buffer.byteLength;\n",
              "            progress.value = downloaded;\n",
              "          }\n",
              "        }\n",
              "      }\n",
              "      const blob = new Blob(buffers, {type: 'application/binary'});\n",
              "      const a = document.createElement('a');\n",
              "      a.href = window.URL.createObjectURL(blob);\n",
              "      a.download = filename;\n",
              "      div.appendChild(a);\n",
              "      a.click();\n",
              "      div.remove();\n",
              "    }\n",
              "  "
            ],
            "text/plain": [
              "<IPython.core.display.Javascript object>"
            ]
          },
          "metadata": {
            "tags": []
          }
        },
        {
          "output_type": "display_data",
          "data": {
            "application/javascript": [
              "download(\"download_48472ff5-8de1-48bb-be02-9e0012bdc341\", \"2021_06_st_loc.csv\", 21036)"
            ],
            "text/plain": [
              "<IPython.core.display.Javascript object>"
            ]
          },
          "metadata": {
            "tags": []
          }
        }
      ]
    },
    {
      "cell_type": "code",
      "metadata": {
        "colab": {
          "base_uri": "https://localhost:8080/",
          "height": 17
        },
        "id": "Ojg-WjP7je1T",
        "outputId": "1aea7c87-dece-4e6e-9770-dc0a36cdbf41"
      },
      "source": [
        "#Exporting to csv into local disk\n",
        "from google.colab import files\n",
        "st_hr.to_csv('2021_06_st_hr.csv', index=False, header=False)\n",
        "files.download('2021_06_st_hr.csv')"
      ],
      "execution_count": 16,
      "outputs": [
        {
          "output_type": "display_data",
          "data": {
            "application/javascript": [
              "\n",
              "    async function download(id, filename, size) {\n",
              "      if (!google.colab.kernel.accessAllowed) {\n",
              "        return;\n",
              "      }\n",
              "      const div = document.createElement('div');\n",
              "      const label = document.createElement('label');\n",
              "      label.textContent = `Downloading \"${filename}\": `;\n",
              "      div.appendChild(label);\n",
              "      const progress = document.createElement('progress');\n",
              "      progress.max = size;\n",
              "      div.appendChild(progress);\n",
              "      document.body.appendChild(div);\n",
              "\n",
              "      const buffers = [];\n",
              "      let downloaded = 0;\n",
              "\n",
              "      const channel = await google.colab.kernel.comms.open(id);\n",
              "      // Send a message to notify the kernel that we're ready.\n",
              "      channel.send({})\n",
              "\n",
              "      for await (const message of channel.messages) {\n",
              "        // Send a message to notify the kernel that we're ready.\n",
              "        channel.send({})\n",
              "        if (message.buffers) {\n",
              "          for (const buffer of message.buffers) {\n",
              "            buffers.push(buffer);\n",
              "            downloaded += buffer.byteLength;\n",
              "            progress.value = downloaded;\n",
              "          }\n",
              "        }\n",
              "      }\n",
              "      const blob = new Blob(buffers, {type: 'application/binary'});\n",
              "      const a = document.createElement('a');\n",
              "      a.href = window.URL.createObjectURL(blob);\n",
              "      a.download = filename;\n",
              "      div.appendChild(a);\n",
              "      a.click();\n",
              "      div.remove();\n",
              "    }\n",
              "  "
            ],
            "text/plain": [
              "<IPython.core.display.Javascript object>"
            ]
          },
          "metadata": {
            "tags": []
          }
        },
        {
          "output_type": "display_data",
          "data": {
            "application/javascript": [
              "download(\"download_ebc9ba52-63fe-4ae6-83f4-abad479ad44b\", \"2021_06_st_hr.csv\", 436)"
            ],
            "text/plain": [
              "<IPython.core.display.Javascript object>"
            ]
          },
          "metadata": {
            "tags": []
          }
        }
      ]
    },
    {
      "cell_type": "code",
      "metadata": {
        "colab": {
          "base_uri": "https://localhost:8080/",
          "height": 17
        },
        "id": "uCKJfsixeT7n",
        "outputId": "ea18b45d-edeb-42fc-d7be-bae96e22af95"
      },
      "source": [
        "#Exporting to excel into local disk\n",
        "from google.colab import files\n",
        "en_loc.to_csv('2021_06_en_loc.csv', index=False, header=False)\n",
        "files.download('2021_06_en_loc.csv')"
      ],
      "execution_count": 17,
      "outputs": [
        {
          "output_type": "display_data",
          "data": {
            "application/javascript": [
              "\n",
              "    async function download(id, filename, size) {\n",
              "      if (!google.colab.kernel.accessAllowed) {\n",
              "        return;\n",
              "      }\n",
              "      const div = document.createElement('div');\n",
              "      const label = document.createElement('label');\n",
              "      label.textContent = `Downloading \"${filename}\": `;\n",
              "      div.appendChild(label);\n",
              "      const progress = document.createElement('progress');\n",
              "      progress.max = size;\n",
              "      div.appendChild(progress);\n",
              "      document.body.appendChild(div);\n",
              "\n",
              "      const buffers = [];\n",
              "      let downloaded = 0;\n",
              "\n",
              "      const channel = await google.colab.kernel.comms.open(id);\n",
              "      // Send a message to notify the kernel that we're ready.\n",
              "      channel.send({})\n",
              "\n",
              "      for await (const message of channel.messages) {\n",
              "        // Send a message to notify the kernel that we're ready.\n",
              "        channel.send({})\n",
              "        if (message.buffers) {\n",
              "          for (const buffer of message.buffers) {\n",
              "            buffers.push(buffer);\n",
              "            downloaded += buffer.byteLength;\n",
              "            progress.value = downloaded;\n",
              "          }\n",
              "        }\n",
              "      }\n",
              "      const blob = new Blob(buffers, {type: 'application/binary'});\n",
              "      const a = document.createElement('a');\n",
              "      a.href = window.URL.createObjectURL(blob);\n",
              "      a.download = filename;\n",
              "      div.appendChild(a);\n",
              "      a.click();\n",
              "      div.remove();\n",
              "    }\n",
              "  "
            ],
            "text/plain": [
              "<IPython.core.display.Javascript object>"
            ]
          },
          "metadata": {
            "tags": []
          }
        },
        {
          "output_type": "display_data",
          "data": {
            "application/javascript": [
              "download(\"download_9dc169ef-5241-46c0-ac7a-2c5c0c6424b5\", \"2021_06_en_loc.csv\", 22308)"
            ],
            "text/plain": [
              "<IPython.core.display.Javascript object>"
            ]
          },
          "metadata": {
            "tags": []
          }
        }
      ]
    },
    {
      "cell_type": "code",
      "metadata": {
        "colab": {
          "base_uri": "https://localhost:8080/",
          "height": 17
        },
        "id": "3OgAbyA1juOI",
        "outputId": "f9043021-8c8c-437e-f4bd-43e5cf473932"
      },
      "source": [
        "#Exporting to csv into local disk\n",
        "from google.colab import files\n",
        "en_hr.to_csv('2021_06_en_hr.csv', index=False, header=False)\n",
        "files.download('2021_06_en_hr.csv')"
      ],
      "execution_count": 18,
      "outputs": [
        {
          "output_type": "display_data",
          "data": {
            "application/javascript": [
              "\n",
              "    async function download(id, filename, size) {\n",
              "      if (!google.colab.kernel.accessAllowed) {\n",
              "        return;\n",
              "      }\n",
              "      const div = document.createElement('div');\n",
              "      const label = document.createElement('label');\n",
              "      label.textContent = `Downloading \"${filename}\": `;\n",
              "      div.appendChild(label);\n",
              "      const progress = document.createElement('progress');\n",
              "      progress.max = size;\n",
              "      div.appendChild(progress);\n",
              "      document.body.appendChild(div);\n",
              "\n",
              "      const buffers = [];\n",
              "      let downloaded = 0;\n",
              "\n",
              "      const channel = await google.colab.kernel.comms.open(id);\n",
              "      // Send a message to notify the kernel that we're ready.\n",
              "      channel.send({})\n",
              "\n",
              "      for await (const message of channel.messages) {\n",
              "        // Send a message to notify the kernel that we're ready.\n",
              "        channel.send({})\n",
              "        if (message.buffers) {\n",
              "          for (const buffer of message.buffers) {\n",
              "            buffers.push(buffer);\n",
              "            downloaded += buffer.byteLength;\n",
              "            progress.value = downloaded;\n",
              "          }\n",
              "        }\n",
              "      }\n",
              "      const blob = new Blob(buffers, {type: 'application/binary'});\n",
              "      const a = document.createElement('a');\n",
              "      a.href = window.URL.createObjectURL(blob);\n",
              "      a.download = filename;\n",
              "      div.appendChild(a);\n",
              "      a.click();\n",
              "      div.remove();\n",
              "    }\n",
              "  "
            ],
            "text/plain": [
              "<IPython.core.display.Javascript object>"
            ]
          },
          "metadata": {
            "tags": []
          }
        },
        {
          "output_type": "display_data",
          "data": {
            "application/javascript": [
              "download(\"download_4b4a071f-60e5-4f4b-a942-2a65d82ded82\", \"2021_06_en_hr.csv\", 467)"
            ],
            "text/plain": [
              "<IPython.core.display.Javascript object>"
            ]
          },
          "metadata": {
            "tags": []
          }
        }
      ]
    },
    {
      "cell_type": "markdown",
      "metadata": {
        "id": "c8cFTBBCngUc"
      },
      "source": [
        "###Joining csv files in local disk"
      ]
    },
    {
      "cell_type": "code",
      "metadata": {
        "id": "KPwZIJ1jnbTu"
      },
      "source": [
        "#Using OS from the command line to merge historic data\n",
        "type 202*_**_en_hr.csv > en_hr_merged.csv\n",
        "type 202*_**_en_loc.csv > en_loc_merged.csv\n",
        "type 202*_**_st_hr.csv > st_hr_merged.csv\n",
        "type 202*_**_st_loc.csv > st_loc_merged.csv"
      ],
      "execution_count": null,
      "outputs": []
    },
    {
      "cell_type": "markdown",
      "metadata": {
        "id": "Tbg_Y30tVHIR"
      },
      "source": [
        "##Cleaning aggregated data (hours of day)"
      ]
    },
    {
      "cell_type": "code",
      "metadata": {
        "colab": {
          "resources": {
            "http://localhost:8080/nbextensions/google.colab/files.js": {
              "data": "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",
              "ok": true,
              "headers": [
                [
                  "content-type",
                  "application/javascript"
                ]
              ],
              "status": 200,
              "status_text": ""
            }
          },
          "base_uri": "https://localhost:8080/",
          "height": 73
        },
        "id": "glMP-JacsqbT",
        "outputId": "06a301fc-05e8-420d-88a8-30dcc8261080"
      },
      "source": [
        "#Uploading aggregated data files from local drive\n",
        "from google.colab import files\n",
        "uploaded1 = files.upload()"
      ],
      "execution_count": 19,
      "outputs": [
        {
          "output_type": "display_data",
          "data": {
            "text/html": [
              "\n",
              "     <input type=\"file\" id=\"files-f996bc08-323a-4081-93b1-c31c63aa6fa3\" name=\"files[]\" multiple disabled\n",
              "        style=\"border:none\" />\n",
              "     <output id=\"result-f996bc08-323a-4081-93b1-c31c63aa6fa3\">\n",
              "      Upload widget is only available when the cell has been executed in the\n",
              "      current browser session. Please rerun this cell to enable.\n",
              "      </output>\n",
              "      <script src=\"/nbextensions/google.colab/files.js\"></script> "
            ],
            "text/plain": [
              "<IPython.core.display.HTML object>"
            ]
          },
          "metadata": {
            "tags": []
          }
        },
        {
          "output_type": "stream",
          "text": [
            "Saving st_hr_merged.csv to st_hr_merged.csv\n"
          ],
          "name": "stdout"
        }
      ]
    },
    {
      "cell_type": "code",
      "metadata": {
        "id": "cSHG9v_hsqbV"
      },
      "source": [
        "#Reading aggregated data and storing into a Pandas Dataframe\n",
        "import io\n",
        "hr_col = ['year', 'month', 'hour', 'count']\n",
        "hours_df = pd.read_csv(io.BytesIO(uploaded1['st_hr_merged.csv']), header=None, names=hr_col)"
      ],
      "execution_count": 20,
      "outputs": []
    },
    {
      "cell_type": "code",
      "metadata": {
        "colab": {
          "base_uri": "https://localhost:8080/"
        },
        "id": "xbV2B-mstkvj",
        "outputId": "03ceb7dc-7c12-45f5-99fe-53b9e49fb41c"
      },
      "source": [
        "#Checking the dataframe info\n",
        "hours_df.info()"
      ],
      "execution_count": 21,
      "outputs": [
        {
          "output_type": "stream",
          "text": [
            "<class 'pandas.core.frame.DataFrame'>\n",
            "RangeIndex: 361 entries, 0 to 360\n",
            "Data columns (total 4 columns):\n",
            " #   Column  Non-Null Count  Dtype \n",
            "---  ------  --------------  ----- \n",
            " 0   year    361 non-null    int64 \n",
            " 1   month   361 non-null    object\n",
            " 2   hour    361 non-null    int64 \n",
            " 3   count   361 non-null    int64 \n",
            "dtypes: int64(3), object(1)\n",
            "memory usage: 11.4+ KB\n"
          ],
          "name": "stdout"
        }
      ]
    },
    {
      "cell_type": "code",
      "metadata": {
        "colab": {
          "base_uri": "https://localhost:8080/",
          "height": 362
        },
        "id": "dsRvaUsZv1BP",
        "outputId": "a4527515-34ff-47d4-e11a-6a375a89456f"
      },
      "source": [
        "#Check the dataframe head\n",
        "hours_df.head(10)"
      ],
      "execution_count": 22,
      "outputs": [
        {
          "output_type": "execute_result",
          "data": {
            "text/html": [
              "<div>\n",
              "<style scoped>\n",
              "    .dataframe tbody tr th:only-of-type {\n",
              "        vertical-align: middle;\n",
              "    }\n",
              "\n",
              "    .dataframe tbody tr th {\n",
              "        vertical-align: top;\n",
              "    }\n",
              "\n",
              "    .dataframe thead th {\n",
              "        text-align: right;\n",
              "    }\n",
              "</style>\n",
              "<table border=\"1\" class=\"dataframe\">\n",
              "  <thead>\n",
              "    <tr style=\"text-align: right;\">\n",
              "      <th></th>\n",
              "      <th>year</th>\n",
              "      <th>month</th>\n",
              "      <th>hour</th>\n",
              "      <th>count</th>\n",
              "    </tr>\n",
              "  </thead>\n",
              "  <tbody>\n",
              "    <tr>\n",
              "      <th>0</th>\n",
              "      <td>2020</td>\n",
              "      <td>April</td>\n",
              "      <td>0</td>\n",
              "      <td>19</td>\n",
              "    </tr>\n",
              "    <tr>\n",
              "      <th>1</th>\n",
              "      <td>2020</td>\n",
              "      <td>March</td>\n",
              "      <td>0</td>\n",
              "      <td>164</td>\n",
              "    </tr>\n",
              "    <tr>\n",
              "      <th>2</th>\n",
              "      <td>2020</td>\n",
              "      <td>March</td>\n",
              "      <td>5</td>\n",
              "      <td>76</td>\n",
              "    </tr>\n",
              "    <tr>\n",
              "      <th>3</th>\n",
              "      <td>2020</td>\n",
              "      <td>March</td>\n",
              "      <td>6</td>\n",
              "      <td>437</td>\n",
              "    </tr>\n",
              "    <tr>\n",
              "      <th>4</th>\n",
              "      <td>2020</td>\n",
              "      <td>March</td>\n",
              "      <td>7</td>\n",
              "      <td>1234</td>\n",
              "    </tr>\n",
              "    <tr>\n",
              "      <th>5</th>\n",
              "      <td>2020</td>\n",
              "      <td>March</td>\n",
              "      <td>8</td>\n",
              "      <td>1288</td>\n",
              "    </tr>\n",
              "    <tr>\n",
              "      <th>6</th>\n",
              "      <td>2020</td>\n",
              "      <td>March</td>\n",
              "      <td>9</td>\n",
              "      <td>845</td>\n",
              "    </tr>\n",
              "    <tr>\n",
              "      <th>7</th>\n",
              "      <td>2020</td>\n",
              "      <td>March</td>\n",
              "      <td>10</td>\n",
              "      <td>958</td>\n",
              "    </tr>\n",
              "    <tr>\n",
              "      <th>8</th>\n",
              "      <td>2020</td>\n",
              "      <td>March</td>\n",
              "      <td>11</td>\n",
              "      <td>1497</td>\n",
              "    </tr>\n",
              "    <tr>\n",
              "      <th>9</th>\n",
              "      <td>2020</td>\n",
              "      <td>March</td>\n",
              "      <td>12</td>\n",
              "      <td>1976</td>\n",
              "    </tr>\n",
              "  </tbody>\n",
              "</table>\n",
              "</div>"
            ],
            "text/plain": [
              "   year  month  hour  count\n",
              "0  2020  April     0     19\n",
              "1  2020  March     0    164\n",
              "2  2020  March     5     76\n",
              "3  2020  March     6    437\n",
              "4  2020  March     7   1234\n",
              "5  2020  March     8   1288\n",
              "6  2020  March     9    845\n",
              "7  2020  March    10    958\n",
              "8  2020  March    11   1497\n",
              "9  2020  March    12   1976"
            ]
          },
          "metadata": {
            "tags": []
          },
          "execution_count": 22
        }
      ]
    },
    {
      "cell_type": "code",
      "metadata": {
        "id": "_kLGpJ-XwSIS"
      },
      "source": [
        "#Order the hours data and aggregate the hour count\n",
        "hours_df = hours_df.groupby(['year', 'month', 'hour']).agg({'count': 'sum'}).reset_index()"
      ],
      "execution_count": 23,
      "outputs": []
    },
    {
      "cell_type": "code",
      "metadata": {
        "colab": {
          "base_uri": "https://localhost:8080/",
          "height": 675
        },
        "id": "uL2cny8CzSJT",
        "outputId": "57c39fd0-8d7c-444f-8376-12d33e2df851"
      },
      "source": [
        "#Verifying slices of the dataframe for a given year and month\n",
        "hours_df[(hours_df['year']==2021) & (hours_df['month']=='April')]"
      ],
      "execution_count": 24,
      "outputs": [
        {
          "output_type": "execute_result",
          "data": {
            "text/html": [
              "<div>\n",
              "<style scoped>\n",
              "    .dataframe tbody tr th:only-of-type {\n",
              "        vertical-align: middle;\n",
              "    }\n",
              "\n",
              "    .dataframe tbody tr th {\n",
              "        vertical-align: top;\n",
              "    }\n",
              "\n",
              "    .dataframe thead th {\n",
              "        text-align: right;\n",
              "    }\n",
              "</style>\n",
              "<table border=\"1\" class=\"dataframe\">\n",
              "  <thead>\n",
              "    <tr style=\"text-align: right;\">\n",
              "      <th></th>\n",
              "      <th>year</th>\n",
              "      <th>month</th>\n",
              "      <th>hour</th>\n",
              "      <th>count</th>\n",
              "    </tr>\n",
              "  </thead>\n",
              "  <tbody>\n",
              "    <tr>\n",
              "      <th>219</th>\n",
              "      <td>2021</td>\n",
              "      <td>April</td>\n",
              "      <td>0</td>\n",
              "      <td>962</td>\n",
              "    </tr>\n",
              "    <tr>\n",
              "      <th>220</th>\n",
              "      <td>2021</td>\n",
              "      <td>April</td>\n",
              "      <td>5</td>\n",
              "      <td>293</td>\n",
              "    </tr>\n",
              "    <tr>\n",
              "      <th>221</th>\n",
              "      <td>2021</td>\n",
              "      <td>April</td>\n",
              "      <td>6</td>\n",
              "      <td>1652</td>\n",
              "    </tr>\n",
              "    <tr>\n",
              "      <th>222</th>\n",
              "      <td>2021</td>\n",
              "      <td>April</td>\n",
              "      <td>7</td>\n",
              "      <td>5587</td>\n",
              "    </tr>\n",
              "    <tr>\n",
              "      <th>223</th>\n",
              "      <td>2021</td>\n",
              "      <td>April</td>\n",
              "      <td>8</td>\n",
              "      <td>7290</td>\n",
              "    </tr>\n",
              "    <tr>\n",
              "      <th>224</th>\n",
              "      <td>2021</td>\n",
              "      <td>April</td>\n",
              "      <td>9</td>\n",
              "      <td>4599</td>\n",
              "    </tr>\n",
              "    <tr>\n",
              "      <th>225</th>\n",
              "      <td>2021</td>\n",
              "      <td>April</td>\n",
              "      <td>10</td>\n",
              "      <td>4244</td>\n",
              "    </tr>\n",
              "    <tr>\n",
              "      <th>226</th>\n",
              "      <td>2021</td>\n",
              "      <td>April</td>\n",
              "      <td>11</td>\n",
              "      <td>5496</td>\n",
              "    </tr>\n",
              "    <tr>\n",
              "      <th>227</th>\n",
              "      <td>2021</td>\n",
              "      <td>April</td>\n",
              "      <td>12</td>\n",
              "      <td>6766</td>\n",
              "    </tr>\n",
              "    <tr>\n",
              "      <th>228</th>\n",
              "      <td>2021</td>\n",
              "      <td>April</td>\n",
              "      <td>13</td>\n",
              "      <td>7337</td>\n",
              "    </tr>\n",
              "    <tr>\n",
              "      <th>229</th>\n",
              "      <td>2021</td>\n",
              "      <td>April</td>\n",
              "      <td>14</td>\n",
              "      <td>8584</td>\n",
              "    </tr>\n",
              "    <tr>\n",
              "      <th>230</th>\n",
              "      <td>2021</td>\n",
              "      <td>April</td>\n",
              "      <td>15</td>\n",
              "      <td>10767</td>\n",
              "    </tr>\n",
              "    <tr>\n",
              "      <th>231</th>\n",
              "      <td>2021</td>\n",
              "      <td>April</td>\n",
              "      <td>16</td>\n",
              "      <td>12550</td>\n",
              "    </tr>\n",
              "    <tr>\n",
              "      <th>232</th>\n",
              "      <td>2021</td>\n",
              "      <td>April</td>\n",
              "      <td>17</td>\n",
              "      <td>11013</td>\n",
              "    </tr>\n",
              "    <tr>\n",
              "      <th>233</th>\n",
              "      <td>2021</td>\n",
              "      <td>April</td>\n",
              "      <td>18</td>\n",
              "      <td>9145</td>\n",
              "    </tr>\n",
              "    <tr>\n",
              "      <th>234</th>\n",
              "      <td>2021</td>\n",
              "      <td>April</td>\n",
              "      <td>19</td>\n",
              "      <td>7121</td>\n",
              "    </tr>\n",
              "    <tr>\n",
              "      <th>235</th>\n",
              "      <td>2021</td>\n",
              "      <td>April</td>\n",
              "      <td>20</td>\n",
              "      <td>5214</td>\n",
              "    </tr>\n",
              "    <tr>\n",
              "      <th>236</th>\n",
              "      <td>2021</td>\n",
              "      <td>April</td>\n",
              "      <td>21</td>\n",
              "      <td>3602</td>\n",
              "    </tr>\n",
              "    <tr>\n",
              "      <th>237</th>\n",
              "      <td>2021</td>\n",
              "      <td>April</td>\n",
              "      <td>22</td>\n",
              "      <td>2880</td>\n",
              "    </tr>\n",
              "    <tr>\n",
              "      <th>238</th>\n",
              "      <td>2021</td>\n",
              "      <td>April</td>\n",
              "      <td>23</td>\n",
              "      <td>1792</td>\n",
              "    </tr>\n",
              "  </tbody>\n",
              "</table>\n",
              "</div>"
            ],
            "text/plain": [
              "     year  month  hour  count\n",
              "219  2021  April     0    962\n",
              "220  2021  April     5    293\n",
              "221  2021  April     6   1652\n",
              "222  2021  April     7   5587\n",
              "223  2021  April     8   7290\n",
              "224  2021  April     9   4599\n",
              "225  2021  April    10   4244\n",
              "226  2021  April    11   5496\n",
              "227  2021  April    12   6766\n",
              "228  2021  April    13   7337\n",
              "229  2021  April    14   8584\n",
              "230  2021  April    15  10767\n",
              "231  2021  April    16  12550\n",
              "232  2021  April    17  11013\n",
              "233  2021  April    18   9145\n",
              "234  2021  April    19   7121\n",
              "235  2021  April    20   5214\n",
              "236  2021  April    21   3602\n",
              "237  2021  April    22   2880\n",
              "238  2021  April    23   1792"
            ]
          },
          "metadata": {
            "tags": []
          },
          "execution_count": 24
        }
      ]
    },
    {
      "cell_type": "code",
      "metadata": {
        "colab": {
          "base_uri": "https://localhost:8080/",
          "height": 17
        },
        "id": "TqL0FxRDz8ha",
        "outputId": "c118e9e9-c8fb-4039-a300-5418aedcabd1"
      },
      "source": [
        "#Exporting cleaned hours of day data to csv into local disk\n",
        "from google.colab import files\n",
        "hours_df.to_csv('st_hr_cleaned.csv', index=False)\n",
        "files.download('st_hr_cleaned.csv')"
      ],
      "execution_count": 25,
      "outputs": [
        {
          "output_type": "display_data",
          "data": {
            "application/javascript": [
              "\n",
              "    async function download(id, filename, size) {\n",
              "      if (!google.colab.kernel.accessAllowed) {\n",
              "        return;\n",
              "      }\n",
              "      const div = document.createElement('div');\n",
              "      const label = document.createElement('label');\n",
              "      label.textContent = `Downloading \"${filename}\": `;\n",
              "      div.appendChild(label);\n",
              "      const progress = document.createElement('progress');\n",
              "      progress.max = size;\n",
              "      div.appendChild(progress);\n",
              "      document.body.appendChild(div);\n",
              "\n",
              "      const buffers = [];\n",
              "      let downloaded = 0;\n",
              "\n",
              "      const channel = await google.colab.kernel.comms.open(id);\n",
              "      // Send a message to notify the kernel that we're ready.\n",
              "      channel.send({})\n",
              "\n",
              "      for await (const message of channel.messages) {\n",
              "        // Send a message to notify the kernel that we're ready.\n",
              "        channel.send({})\n",
              "        if (message.buffers) {\n",
              "          for (const buffer of message.buffers) {\n",
              "            buffers.push(buffer);\n",
              "            downloaded += buffer.byteLength;\n",
              "            progress.value = downloaded;\n",
              "          }\n",
              "        }\n",
              "      }\n",
              "      const blob = new Blob(buffers, {type: 'application/binary'});\n",
              "      const a = document.createElement('a');\n",
              "      a.href = window.URL.createObjectURL(blob);\n",
              "      a.download = filename;\n",
              "      div.appendChild(a);\n",
              "      a.click();\n",
              "      div.remove();\n",
              "    }\n",
              "  "
            ],
            "text/plain": [
              "<IPython.core.display.Javascript object>"
            ]
          },
          "metadata": {
            "tags": []
          }
        },
        {
          "output_type": "display_data",
          "data": {
            "application/javascript": [
              "download(\"download_09cdbc98-eb49-45ba-8830-654153f7d1be\", \"st_hr_cleaned.csv\", 6692)"
            ],
            "text/plain": [
              "<IPython.core.display.Javascript object>"
            ]
          },
          "metadata": {
            "tags": []
          }
        }
      ]
    },
    {
      "cell_type": "markdown",
      "metadata": {
        "id": "pQNqlam8VRBB"
      },
      "source": [
        "##Cleaning aggregated data (location)"
      ]
    },
    {
      "cell_type": "code",
      "metadata": {
        "colab": {
          "resources": {
            "http://localhost:8080/nbextensions/google.colab/files.js": {
              "data": "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",
              "ok": true,
              "headers": [
                [
                  "content-type",
                  "application/javascript"
                ]
              ],
              "status": 200,
              "status_text": ""
            }
          },
          "base_uri": "https://localhost:8080/",
          "height": 73
        },
        "id": "LlnbhiosVhtQ",
        "outputId": "d62a9d92-f445-4ec9-fd33-19dcd1c22a8b"
      },
      "source": [
        "#Uploading aggregated data files from local drive\n",
        "from google.colab import files\n",
        "uploaded2 = files.upload()"
      ],
      "execution_count": 26,
      "outputs": [
        {
          "output_type": "display_data",
          "data": {
            "text/html": [
              "\n",
              "     <input type=\"file\" id=\"files-d0ffd5f6-b382-4f8d-94fb-3ffe714a15a2\" name=\"files[]\" multiple disabled\n",
              "        style=\"border:none\" />\n",
              "     <output id=\"result-d0ffd5f6-b382-4f8d-94fb-3ffe714a15a2\">\n",
              "      Upload widget is only available when the cell has been executed in the\n",
              "      current browser session. Please rerun this cell to enable.\n",
              "      </output>\n",
              "      <script src=\"/nbextensions/google.colab/files.js\"></script> "
            ],
            "text/plain": [
              "<IPython.core.display.HTML object>"
            ]
          },
          "metadata": {
            "tags": []
          }
        },
        {
          "output_type": "stream",
          "text": [
            "Saving st_loc_merged.csv to st_loc_merged.csv\n"
          ],
          "name": "stdout"
        }
      ]
    },
    {
      "cell_type": "code",
      "metadata": {
        "id": "izgKXQJ2VhtT"
      },
      "source": [
        "#Reading aggregated data and storing into a Pandas Dataframe\n",
        "import io\n",
        "loc_col = ['year', 'month', 'name',\t'lat',\t'lon',\t'trips',\t'mean_min']\n",
        "loc_df = pd.read_csv(io.BytesIO(uploaded2['st_loc_merged.csv']), header=None, names=loc_col)"
      ],
      "execution_count": 27,
      "outputs": []
    },
    {
      "cell_type": "code",
      "metadata": {
        "colab": {
          "base_uri": "https://localhost:8080/"
        },
        "id": "MAB98GL9VhtU",
        "outputId": "72598823-4e12-4613-f818-ea8b0ee63413"
      },
      "source": [
        "#Checking the dataframe info\n",
        "loc_df.info()"
      ],
      "execution_count": 28,
      "outputs": [
        {
          "output_type": "stream",
          "text": [
            "<class 'pandas.core.frame.DataFrame'>\n",
            "RangeIndex: 4612 entries, 0 to 4611\n",
            "Data columns (total 7 columns):\n",
            " #   Column    Non-Null Count  Dtype  \n",
            "---  ------    --------------  -----  \n",
            " 0   year      4612 non-null   int64  \n",
            " 1   month     4612 non-null   object \n",
            " 2   name      4612 non-null   object \n",
            " 3   lat       4612 non-null   float64\n",
            " 4   lon       4612 non-null   float64\n",
            " 5   trips     4612 non-null   int64  \n",
            " 6   mean_min  4612 non-null   float64\n",
            "dtypes: float64(3), int64(2), object(2)\n",
            "memory usage: 252.3+ KB\n"
          ],
          "name": "stdout"
        }
      ]
    },
    {
      "cell_type": "code",
      "metadata": {
        "colab": {
          "base_uri": "https://localhost:8080/",
          "height": 205
        },
        "id": "JHjKW0WDVhtV",
        "outputId": "f34618de-218d-4d91-e8d5-1657c38cfb18"
      },
      "source": [
        "#Check the dataframe head\n",
        "loc_df.head(5)"
      ],
      "execution_count": 29,
      "outputs": [
        {
          "output_type": "execute_result",
          "data": {
            "text/html": [
              "<div>\n",
              "<style scoped>\n",
              "    .dataframe tbody tr th:only-of-type {\n",
              "        vertical-align: middle;\n",
              "    }\n",
              "\n",
              "    .dataframe tbody tr th {\n",
              "        vertical-align: top;\n",
              "    }\n",
              "\n",
              "    .dataframe thead th {\n",
              "        text-align: right;\n",
              "    }\n",
              "</style>\n",
              "<table border=\"1\" class=\"dataframe\">\n",
              "  <thead>\n",
              "    <tr style=\"text-align: right;\">\n",
              "      <th></th>\n",
              "      <th>year</th>\n",
              "      <th>month</th>\n",
              "      <th>name</th>\n",
              "      <th>lat</th>\n",
              "      <th>lon</th>\n",
              "      <th>trips</th>\n",
              "      <th>mean_min</th>\n",
              "    </tr>\n",
              "  </thead>\n",
              "  <tbody>\n",
              "    <tr>\n",
              "      <th>0</th>\n",
              "      <td>2020</td>\n",
              "      <td>March</td>\n",
              "      <td>Ringnes Park</td>\n",
              "      <td>59.928434</td>\n",
              "      <td>10.759430</td>\n",
              "      <td>463</td>\n",
              "      <td>16.80</td>\n",
              "    </tr>\n",
              "    <tr>\n",
              "      <th>1</th>\n",
              "      <td>2020</td>\n",
              "      <td>March</td>\n",
              "      <td>Alexander Kiellands Plass</td>\n",
              "      <td>59.928067</td>\n",
              "      <td>10.751203</td>\n",
              "      <td>452</td>\n",
              "      <td>14.31</td>\n",
              "    </tr>\n",
              "    <tr>\n",
              "      <th>2</th>\n",
              "      <td>2020</td>\n",
              "      <td>March</td>\n",
              "      <td>Tjuvholmen</td>\n",
              "      <td>59.909467</td>\n",
              "      <td>10.722509</td>\n",
              "      <td>395</td>\n",
              "      <td>22.51</td>\n",
              "    </tr>\n",
              "    <tr>\n",
              "      <th>3</th>\n",
              "      <td>2020</td>\n",
              "      <td>March</td>\n",
              "      <td>Sukkerbiten</td>\n",
              "      <td>59.905807</td>\n",
              "      <td>10.753657</td>\n",
              "      <td>376</td>\n",
              "      <td>19.74</td>\n",
              "    </tr>\n",
              "    <tr>\n",
              "      <th>4</th>\n",
              "      <td>2020</td>\n",
              "      <td>March</td>\n",
              "      <td>Bislett Stadion</td>\n",
              "      <td>59.925471</td>\n",
              "      <td>10.731219</td>\n",
              "      <td>373</td>\n",
              "      <td>15.62</td>\n",
              "    </tr>\n",
              "  </tbody>\n",
              "</table>\n",
              "</div>"
            ],
            "text/plain": [
              "   year  month                       name  ...        lon  trips  mean_min\n",
              "0  2020  March               Ringnes Park  ...  10.759430    463     16.80\n",
              "1  2020  March  Alexander Kiellands Plass  ...  10.751203    452     14.31\n",
              "2  2020  March                 Tjuvholmen  ...  10.722509    395     22.51\n",
              "3  2020  March                Sukkerbiten  ...  10.753657    376     19.74\n",
              "4  2020  March            Bislett Stadion  ...  10.731219    373     15.62\n",
              "\n",
              "[5 rows x 7 columns]"
            ]
          },
          "metadata": {
            "tags": []
          },
          "execution_count": 29
        }
      ]
    },
    {
      "cell_type": "code",
      "metadata": {
        "id": "a4ckt9usVhtW"
      },
      "source": [
        "#Group by categories and aggregate both trips and mean value\n",
        "loc_df = loc_df.groupby(['year', 'month', 'name', 'lat', 'lon']).agg({'trips': 'sum',\n",
        "                                                                      'mean_min': 'mean'}\n",
        "                                                                     ).reset_index()"
      ],
      "execution_count": 30,
      "outputs": []
    },
    {
      "cell_type": "code",
      "metadata": {
        "id": "1bUdmaScjnyz"
      },
      "source": [
        "#Sort values by year, month and trips\n",
        "loc_df = loc_df.sort_values(by=['year', 'month', 'trips'], ascending=False).reset_index(drop=True)"
      ],
      "execution_count": 31,
      "outputs": []
    },
    {
      "cell_type": "code",
      "metadata": {
        "colab": {
          "base_uri": "https://localhost:8080/",
          "height": 362
        },
        "id": "CC2q1aFiVhtW",
        "outputId": "b0ef42ed-95ce-458d-bf0f-294c747437a7"
      },
      "source": [
        "#Checkind the dataframe tail\n",
        "loc_df.tail(10)"
      ],
      "execution_count": 32,
      "outputs": [
        {
          "output_type": "execute_result",
          "data": {
            "text/html": [
              "<div>\n",
              "<style scoped>\n",
              "    .dataframe tbody tr th:only-of-type {\n",
              "        vertical-align: middle;\n",
              "    }\n",
              "\n",
              "    .dataframe tbody tr th {\n",
              "        vertical-align: top;\n",
              "    }\n",
              "\n",
              "    .dataframe thead th {\n",
              "        text-align: right;\n",
              "    }\n",
              "</style>\n",
              "<table border=\"1\" class=\"dataframe\">\n",
              "  <thead>\n",
              "    <tr style=\"text-align: right;\">\n",
              "      <th></th>\n",
              "      <th>year</th>\n",
              "      <th>month</th>\n",
              "      <th>name</th>\n",
              "      <th>lat</th>\n",
              "      <th>lon</th>\n",
              "      <th>trips</th>\n",
              "      <th>mean_min</th>\n",
              "    </tr>\n",
              "  </thead>\n",
              "  <tbody>\n",
              "    <tr>\n",
              "      <th>4051</th>\n",
              "      <td>2020</td>\n",
              "      <td>April</td>\n",
              "      <td>Georg Morgenstiernes hus</td>\n",
              "      <td>59.939026</td>\n",
              "      <td>10.723003</td>\n",
              "      <td>112</td>\n",
              "      <td>16.320</td>\n",
              "    </tr>\n",
              "    <tr>\n",
              "      <th>4052</th>\n",
              "      <td>2020</td>\n",
              "      <td>April</td>\n",
              "      <td>Kjeld Stubs gate</td>\n",
              "      <td>59.912711</td>\n",
              "      <td>10.735595</td>\n",
              "      <td>111</td>\n",
              "      <td>12.950</td>\n",
              "    </tr>\n",
              "    <tr>\n",
              "      <th>4053</th>\n",
              "      <td>2020</td>\n",
              "      <td>April</td>\n",
              "      <td>Fysikkbygningen</td>\n",
              "      <td>59.937957</td>\n",
              "      <td>10.719489</td>\n",
              "      <td>91</td>\n",
              "      <td>15.690</td>\n",
              "    </tr>\n",
              "    <tr>\n",
              "      <th>4054</th>\n",
              "      <td>2020</td>\n",
              "      <td>April</td>\n",
              "      <td>Stortingstunellen</td>\n",
              "      <td>59.910653</td>\n",
              "      <td>10.737365</td>\n",
              "      <td>89</td>\n",
              "      <td>22.980</td>\n",
              "    </tr>\n",
              "    <tr>\n",
              "      <th>4055</th>\n",
              "      <td>2020</td>\n",
              "      <td>April</td>\n",
              "      <td>Vippetangen øst</td>\n",
              "      <td>59.903989</td>\n",
              "      <td>10.741077</td>\n",
              "      <td>89</td>\n",
              "      <td>21.240</td>\n",
              "    </tr>\n",
              "    <tr>\n",
              "      <th>4056</th>\n",
              "      <td>2020</td>\n",
              "      <td>April</td>\n",
              "      <td>Tordenskiolds gate</td>\n",
              "      <td>59.911776</td>\n",
              "      <td>10.735113</td>\n",
              "      <td>88</td>\n",
              "      <td>15.610</td>\n",
              "    </tr>\n",
              "    <tr>\n",
              "      <th>4057</th>\n",
              "      <td>2020</td>\n",
              "      <td>April</td>\n",
              "      <td>Blindern studentparkering</td>\n",
              "      <td>59.940874</td>\n",
              "      <td>10.720779</td>\n",
              "      <td>70</td>\n",
              "      <td>17.860</td>\n",
              "    </tr>\n",
              "    <tr>\n",
              "      <th>4058</th>\n",
              "      <td>2020</td>\n",
              "      <td>April</td>\n",
              "      <td>Jarlsborgveien</td>\n",
              "      <td>59.930464</td>\n",
              "      <td>10.675783</td>\n",
              "      <td>66</td>\n",
              "      <td>20.200</td>\n",
              "    </tr>\n",
              "    <tr>\n",
              "      <th>4059</th>\n",
              "      <td>2020</td>\n",
              "      <td>April</td>\n",
              "      <td>HasleLinje</td>\n",
              "      <td>59.927634</td>\n",
              "      <td>10.799249</td>\n",
              "      <td>64</td>\n",
              "      <td>15.425</td>\n",
              "    </tr>\n",
              "    <tr>\n",
              "      <th>4060</th>\n",
              "      <td>2020</td>\n",
              "      <td>April</td>\n",
              "      <td>Bak Niels Treschows hus sør</td>\n",
              "      <td>59.942473</td>\n",
              "      <td>10.723715</td>\n",
              "      <td>45</td>\n",
              "      <td>14.200</td>\n",
              "    </tr>\n",
              "  </tbody>\n",
              "</table>\n",
              "</div>"
            ],
            "text/plain": [
              "      year  month                         name  ...        lon  trips  mean_min\n",
              "4051  2020  April     Georg Morgenstiernes hus  ...  10.723003    112    16.320\n",
              "4052  2020  April             Kjeld Stubs gate  ...  10.735595    111    12.950\n",
              "4053  2020  April              Fysikkbygningen  ...  10.719489     91    15.690\n",
              "4054  2020  April            Stortingstunellen  ...  10.737365     89    22.980\n",
              "4055  2020  April              Vippetangen øst  ...  10.741077     89    21.240\n",
              "4056  2020  April           Tordenskiolds gate  ...  10.735113     88    15.610\n",
              "4057  2020  April    Blindern studentparkering  ...  10.720779     70    17.860\n",
              "4058  2020  April               Jarlsborgveien  ...  10.675783     66    20.200\n",
              "4059  2020  April                   HasleLinje  ...  10.799249     64    15.425\n",
              "4060  2020  April  Bak Niels Treschows hus sør  ...  10.723715     45    14.200\n",
              "\n",
              "[10 rows x 7 columns]"
            ]
          },
          "metadata": {
            "tags": []
          },
          "execution_count": 32
        }
      ]
    },
    {
      "cell_type": "code",
      "metadata": {
        "colab": {
          "base_uri": "https://localhost:8080/",
          "height": 422
        },
        "id": "Y6vMhADpVhtY",
        "outputId": "c9e22fcc-65da-4a13-8e88-98c905e67648"
      },
      "source": [
        "#Verifying slices of the dataframe to be in descending order\n",
        "loc_df[(loc_df['year']==2021) & (loc_df['month']=='June')]"
      ],
      "execution_count": 34,
      "outputs": [
        {
          "output_type": "execute_result",
          "data": {
            "text/html": [
              "<div>\n",
              "<style scoped>\n",
              "    .dataframe tbody tr th:only-of-type {\n",
              "        vertical-align: middle;\n",
              "    }\n",
              "\n",
              "    .dataframe tbody tr th {\n",
              "        vertical-align: top;\n",
              "    }\n",
              "\n",
              "    .dataframe thead th {\n",
              "        text-align: right;\n",
              "    }\n",
              "</style>\n",
              "<table border=\"1\" class=\"dataframe\">\n",
              "  <thead>\n",
              "    <tr style=\"text-align: right;\">\n",
              "      <th></th>\n",
              "      <th>year</th>\n",
              "      <th>month</th>\n",
              "      <th>name</th>\n",
              "      <th>lat</th>\n",
              "      <th>lon</th>\n",
              "      <th>trips</th>\n",
              "      <th>mean_min</th>\n",
              "    </tr>\n",
              "  </thead>\n",
              "  <tbody>\n",
              "    <tr>\n",
              "      <th>501</th>\n",
              "      <td>2021</td>\n",
              "      <td>June</td>\n",
              "      <td>Olaf Ryes plass</td>\n",
              "      <td>59.922425</td>\n",
              "      <td>10.758182</td>\n",
              "      <td>3078</td>\n",
              "      <td>12.180</td>\n",
              "    </tr>\n",
              "    <tr>\n",
              "      <th>502</th>\n",
              "      <td>2021</td>\n",
              "      <td>June</td>\n",
              "      <td>Alexander Kiellands Plass</td>\n",
              "      <td>59.928067</td>\n",
              "      <td>10.751203</td>\n",
              "      <td>3049</td>\n",
              "      <td>11.200</td>\n",
              "    </tr>\n",
              "    <tr>\n",
              "      <th>503</th>\n",
              "      <td>2021</td>\n",
              "      <td>June</td>\n",
              "      <td>Sukkerbiten</td>\n",
              "      <td>59.905124</td>\n",
              "      <td>10.753764</td>\n",
              "      <td>2985</td>\n",
              "      <td>11.205</td>\n",
              "    </tr>\n",
              "    <tr>\n",
              "      <th>504</th>\n",
              "      <td>2021</td>\n",
              "      <td>June</td>\n",
              "      <td>Rådhusbrygge 4</td>\n",
              "      <td>59.910847</td>\n",
              "      <td>10.730377</td>\n",
              "      <td>2755</td>\n",
              "      <td>15.200</td>\n",
              "    </tr>\n",
              "    <tr>\n",
              "      <th>505</th>\n",
              "      <td>2021</td>\n",
              "      <td>June</td>\n",
              "      <td>Ringnes Park</td>\n",
              "      <td>59.928434</td>\n",
              "      <td>10.759430</td>\n",
              "      <td>2686</td>\n",
              "      <td>11.100</td>\n",
              "    </tr>\n",
              "    <tr>\n",
              "      <th>...</th>\n",
              "      <td>...</td>\n",
              "      <td>...</td>\n",
              "      <td>...</td>\n",
              "      <td>...</td>\n",
              "      <td>...</td>\n",
              "      <td>...</td>\n",
              "      <td>...</td>\n",
              "    </tr>\n",
              "    <tr>\n",
              "      <th>749</th>\n",
              "      <td>2021</td>\n",
              "      <td>June</td>\n",
              "      <td>Tordenskiolds gate</td>\n",
              "      <td>59.911776</td>\n",
              "      <td>10.735113</td>\n",
              "      <td>105</td>\n",
              "      <td>13.620</td>\n",
              "    </tr>\n",
              "    <tr>\n",
              "      <th>750</th>\n",
              "      <td>2021</td>\n",
              "      <td>June</td>\n",
              "      <td>Økern Portal</td>\n",
              "      <td>59.930972</td>\n",
              "      <td>10.801830</td>\n",
              "      <td>102</td>\n",
              "      <td>19.030</td>\n",
              "    </tr>\n",
              "    <tr>\n",
              "      <th>751</th>\n",
              "      <td>2021</td>\n",
              "      <td>June</td>\n",
              "      <td>Gaustad T-bane</td>\n",
              "      <td>59.945955</td>\n",
              "      <td>10.710392</td>\n",
              "      <td>85</td>\n",
              "      <td>15.320</td>\n",
              "    </tr>\n",
              "    <tr>\n",
              "      <th>752</th>\n",
              "      <td>2021</td>\n",
              "      <td>June</td>\n",
              "      <td>Kværnerveien</td>\n",
              "      <td>59.905911</td>\n",
              "      <td>10.778592</td>\n",
              "      <td>70</td>\n",
              "      <td>13.400</td>\n",
              "    </tr>\n",
              "    <tr>\n",
              "      <th>753</th>\n",
              "      <td>2021</td>\n",
              "      <td>June</td>\n",
              "      <td>Ulven Torg</td>\n",
              "      <td>59.924960</td>\n",
              "      <td>10.812061</td>\n",
              "      <td>48</td>\n",
              "      <td>19.860</td>\n",
              "    </tr>\n",
              "  </tbody>\n",
              "</table>\n",
              "<p>253 rows × 7 columns</p>\n",
              "</div>"
            ],
            "text/plain": [
              "     year month                       name  ...        lon  trips  mean_min\n",
              "501  2021  June            Olaf Ryes plass  ...  10.758182   3078    12.180\n",
              "502  2021  June  Alexander Kiellands Plass  ...  10.751203   3049    11.200\n",
              "503  2021  June                Sukkerbiten  ...  10.753764   2985    11.205\n",
              "504  2021  June             Rådhusbrygge 4  ...  10.730377   2755    15.200\n",
              "505  2021  June               Ringnes Park  ...  10.759430   2686    11.100\n",
              "..    ...   ...                        ...  ...        ...    ...       ...\n",
              "749  2021  June         Tordenskiolds gate  ...  10.735113    105    13.620\n",
              "750  2021  June               Økern Portal  ...  10.801830    102    19.030\n",
              "751  2021  June             Gaustad T-bane  ...  10.710392     85    15.320\n",
              "752  2021  June               Kværnerveien  ...  10.778592     70    13.400\n",
              "753  2021  June                 Ulven Torg  ...  10.812061     48    19.860\n",
              "\n",
              "[253 rows x 7 columns]"
            ]
          },
          "metadata": {
            "tags": []
          },
          "execution_count": 34
        }
      ]
    },
    {
      "cell_type": "code",
      "metadata": {
        "colab": {
          "base_uri": "https://localhost:8080/",
          "height": 17
        },
        "id": "UD2BiIDkVhta",
        "outputId": "61378a07-8c11-41ff-b1cd-eaf62373843a"
      },
      "source": [
        "#Exporting cleaned location data to csv into local disk\n",
        "from google.colab import files\n",
        "loc_df.to_csv('st_loc_cleaned.csv', index=False)\n",
        "files.download('st_loc_cleaned.csv')"
      ],
      "execution_count": 35,
      "outputs": [
        {
          "output_type": "display_data",
          "data": {
            "application/javascript": [
              "\n",
              "    async function download(id, filename, size) {\n",
              "      if (!google.colab.kernel.accessAllowed) {\n",
              "        return;\n",
              "      }\n",
              "      const div = document.createElement('div');\n",
              "      const label = document.createElement('label');\n",
              "      label.textContent = `Downloading \"${filename}\": `;\n",
              "      div.appendChild(label);\n",
              "      const progress = document.createElement('progress');\n",
              "      progress.max = size;\n",
              "      div.appendChild(progress);\n",
              "      document.body.appendChild(div);\n",
              "\n",
              "      const buffers = [];\n",
              "      let downloaded = 0;\n",
              "\n",
              "      const channel = await google.colab.kernel.comms.open(id);\n",
              "      // Send a message to notify the kernel that we're ready.\n",
              "      channel.send({})\n",
              "\n",
              "      for await (const message of channel.messages) {\n",
              "        // Send a message to notify the kernel that we're ready.\n",
              "        channel.send({})\n",
              "        if (message.buffers) {\n",
              "          for (const buffer of message.buffers) {\n",
              "            buffers.push(buffer);\n",
              "            downloaded += buffer.byteLength;\n",
              "            progress.value = downloaded;\n",
              "          }\n",
              "        }\n",
              "      }\n",
              "      const blob = new Blob(buffers, {type: 'application/binary'});\n",
              "      const a = document.createElement('a');\n",
              "      a.href = window.URL.createObjectURL(blob);\n",
              "      a.download = filename;\n",
              "      div.appendChild(a);\n",
              "      a.click();\n",
              "      div.remove();\n",
              "    }\n",
              "  "
            ],
            "text/plain": [
              "<IPython.core.display.Javascript object>"
            ]
          },
          "metadata": {
            "tags": []
          }
        },
        {
          "output_type": "display_data",
          "data": {
            "application/javascript": [
              "download(\"download_5ad784e8-75ac-4762-91db-52b40f53d302\", \"st_loc_cleaned.csv\", 261796)"
            ],
            "text/plain": [
              "<IPython.core.display.Javascript object>"
            ]
          },
          "metadata": {
            "tags": []
          }
        }
      ]
    },
    {
      "cell_type": "markdown",
      "metadata": {
        "id": "lptmKKgKe7sD"
      },
      "source": [
        "##Data Visualization"
      ]
    },
    {
      "cell_type": "markdown",
      "metadata": {
        "id": "sXmSwrs_5ORx"
      },
      "source": [
        "###Customizing theme"
      ]
    },
    {
      "cell_type": "code",
      "metadata": {
        "id": "y2DvWRPa4qYJ"
      },
      "source": [
        "#Add interactivity to graphs\n",
        "import ipywidgets as widgets\n",
        "from IPython import display\n",
        "from ipywidgets import interact, interactive, fixed, interact_manual"
      ],
      "execution_count": 36,
      "outputs": []
    },
    {
      "cell_type": "code",
      "metadata": {
        "id": "5NdFYzOerU7e"
      },
      "source": [
        "#Uploading visualization packages\n",
        "import folium\n",
        "from folium import plugins\n",
        "from folium.plugins import HeatMap"
      ],
      "execution_count": 37,
      "outputs": []
    },
    {
      "cell_type": "code",
      "metadata": {
        "id": "u53MjFbC43NE"
      },
      "source": [
        "#Customizing Matplotlib's runtime default configuration styles for data visualization\n",
        "\n",
        "SMALL_SIZE = 11\n",
        "MEDIUM_SIZE = 15\n",
        "BIGGER_SIZE = 19\n",
        "\n",
        "plt.rc('font', size=SMALL_SIZE)          # controls default text sizes\n",
        "plt.rc('axes', titlesize=SMALL_SIZE)     # fontsize of the axes title\n",
        "plt.rc('axes', labelsize=MEDIUM_SIZE)     # fontsize of the x and y labels\n",
        "plt.rc('xtick', labelsize=SMALL_SIZE)    # fontsize of the tick labels\n",
        "plt.rc('ytick', labelsize=MEDIUM_SIZE)   # fontsize of the tick labels\n",
        "plt.rc('legend', fontsize=SMALL_SIZE)    # legend fontsize\n",
        "plt.rc('figure', titlesize=BIGGER_SIZE)  # fontsize of the figure title\n",
        "plt.rc('axes', titlesize=BIGGER_SIZE)    # fontsize of the axes title"
      ],
      "execution_count": 38,
      "outputs": []
    },
    {
      "cell_type": "markdown",
      "metadata": {
        "id": "j0mLBFdc9bqm"
      },
      "source": [
        "###Color color palette (optional)"
      ]
    },
    {
      "cell_type": "code",
      "metadata": {
        "id": "RhXGUKgM4-bv"
      },
      "source": [
        "#Customizing theme\n",
        "#plt.style.use(['dark_background'])\n",
        "plt.rcParams['axes.facecolor'] = (0,0,0,0)\n",
        "plt.rcParams['figure.facecolor'] = '#ffffff' #To match google colab native dark theme\n",
        "plt.rcParams[\"legend.frameon\"] = False\n",
        "plt.rcParams['image.cmap'] = 'viridis'\n",
        "plt.rcParams[\"legend.facecolor\"] = (0,0,0,0)\n",
        "#plt.rcParams[\"font.family\"] = 'sans-serif'\n",
        "#plt.rcParams['font.sans-serif'] = ['Open Sans', 'Source Sans Pro', 'Noto Sans']\n",
        "plt.rcParams['hist.bins'] = 50\n",
        "plt.rcParams['lines.markersize'] = 10\n",
        "plt.rcParams['axes3d.grid'] = False\n",
        "\n",
        "#New settings\n",
        "plt.rcParams['figure.subplot.hspace'] = 0.3 #default = 0.2\n",
        "\n",
        "from cycler import cycler\n",
        "\n",
        "plt.rcParams['axes.prop_cycle'] = (cycler(color=['#98d2eb', '#e1f2fe', '#b2b1cf', '#77625c', '#49392c', '#bde2f5', '#cad2e7', '#958a96', '#604e44', '#5a4b3f',\n",
        "                                                 '#98d2eb', '#e1f2fe', '#b2b1cf', '#77625c', '#49392c', '#bde2f5', '#cad2e7', '#958a96', '#604e44', '#5a4b3f',\n",
        "                                                 '#98d2eb', '#e1f2fe', '#b2b1cf', '#77625c', '#49392c', '#bde2f5', '#cad2e7', '#958a96', '#604e44', '#5a4b3f'])\\\n",
        "                                   + cycler(linestyle=['-', '--', ':', '-.', '-', '--', ':', '-.', '-', '--',\n",
        "                                                       '-', '--', ':', '-.', '-', '--', ':', '-.', '-', '--',\n",
        "                                                       '-', '--', ':', '-.', '-', '--', ':', '-.', '-', '--']))"
      ],
      "execution_count": null,
      "outputs": []
    },
    {
      "cell_type": "markdown",
      "metadata": {
        "id": "vbkkRr6AZ5BT"
      },
      "source": [
        "###Loading cleaned data "
      ]
    },
    {
      "cell_type": "code",
      "metadata": {
        "id": "uKgvRXsJj927"
      },
      "source": [
        "#Remove previous versions of the uploaded csv file\n",
        "!rm st_loc_cleaned.csv"
      ],
      "execution_count": null,
      "outputs": []
    },
    {
      "cell_type": "code",
      "metadata": {
        "id": "KkzDzxiJe9X6",
        "colab": {
          "resources": {
            "http://localhost:8080/nbextensions/google.colab/files.js": {
              "data": "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",
              "ok": true,
              "headers": [
                [
                  "content-type",
                  "application/javascript"
                ]
              ],
              "status": 200,
              "status_text": ""
            }
          },
          "base_uri": "https://localhost:8080/",
          "height": 73
        },
        "outputId": "776452a1-976c-4a62-8b67-d71a64eff96b"
      },
      "source": [
        "#Uploading cleaned location data (starting point) from local drive\n",
        "from google.colab import files\n",
        "uploaded3 = files.upload()"
      ],
      "execution_count": 40,
      "outputs": [
        {
          "output_type": "display_data",
          "data": {
            "text/html": [
              "\n",
              "     <input type=\"file\" id=\"files-31150723-ece4-46f4-b19e-4379e8b836d3\" name=\"files[]\" multiple disabled\n",
              "        style=\"border:none\" />\n",
              "     <output id=\"result-31150723-ece4-46f4-b19e-4379e8b836d3\">\n",
              "      Upload widget is only available when the cell has been executed in the\n",
              "      current browser session. Please rerun this cell to enable.\n",
              "      </output>\n",
              "      <script src=\"/nbextensions/google.colab/files.js\"></script> "
            ],
            "text/plain": [
              "<IPython.core.display.HTML object>"
            ]
          },
          "metadata": {
            "tags": []
          }
        },
        {
          "output_type": "stream",
          "text": [
            "Saving st_loc_cleaned.csv to st_loc_cleaned (1).csv\n"
          ],
          "name": "stdout"
        }
      ]
    },
    {
      "cell_type": "code",
      "metadata": {
        "id": "mIvQV39ffNan"
      },
      "source": [
        "#Reading cleaned location data (starting point) and storing into a Pandas Dataframe\n",
        "import io\n",
        "st_loc_clean = pd.read_csv(io.BytesIO(uploaded3['st_loc_cleaned.csv']))"
      ],
      "execution_count": 41,
      "outputs": []
    },
    {
      "cell_type": "code",
      "metadata": {
        "colab": {
          "resources": {
            "http://localhost:8080/nbextensions/google.colab/files.js": {
              "data": "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",
              "ok": true,
              "headers": [
                [
                  "content-type",
                  "application/javascript"
                ]
              ],
              "status": 200,
              "status_text": ""
            }
          },
          "base_uri": "https://localhost:8080/",
          "height": 73
        },
        "id": "1YDvjpOEarpd",
        "outputId": "d10b5bc1-6837-4079-a3b5-c29a050c8389"
      },
      "source": [
        "#Uploading cleaned hours of day data (starting point) from local drive\n",
        "from google.colab import files\n",
        "uploaded4 = files.upload()"
      ],
      "execution_count": 42,
      "outputs": [
        {
          "output_type": "display_data",
          "data": {
            "text/html": [
              "\n",
              "     <input type=\"file\" id=\"files-ac72bab8-f4a3-4bff-8add-92a642620fc9\" name=\"files[]\" multiple disabled\n",
              "        style=\"border:none\" />\n",
              "     <output id=\"result-ac72bab8-f4a3-4bff-8add-92a642620fc9\">\n",
              "      Upload widget is only available when the cell has been executed in the\n",
              "      current browser session. Please rerun this cell to enable.\n",
              "      </output>\n",
              "      <script src=\"/nbextensions/google.colab/files.js\"></script> "
            ],
            "text/plain": [
              "<IPython.core.display.HTML object>"
            ]
          },
          "metadata": {
            "tags": []
          }
        },
        {
          "output_type": "stream",
          "text": [
            "Saving st_hr_cleaned.csv to st_hr_cleaned (1).csv\n"
          ],
          "name": "stdout"
        }
      ]
    },
    {
      "cell_type": "code",
      "metadata": {
        "id": "_-02634Ga8Wx"
      },
      "source": [
        "#Reading cleaned hours of day data (starting point) and storing into a Pandas Dataframe\n",
        "st_hr_clean = pd.read_csv(io.BytesIO(uploaded4['st_hr_cleaned.csv']))"
      ],
      "execution_count": 43,
      "outputs": []
    },
    {
      "cell_type": "code",
      "metadata": {
        "colab": {
          "resources": {
            "http://localhost:8080/nbextensions/google.colab/files.js": {
              "data": "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",
              "ok": true,
              "headers": [
                [
                  "content-type",
                  "application/javascript"
                ]
              ],
              "status": 200,
              "status_text": ""
            }
          },
          "base_uri": "https://localhost:8080/",
          "height": 73
        },
        "id": "p_BS3Unweo1J",
        "outputId": "b5608f58-5682-44df-e13d-769190816209"
      },
      "source": [
        "#Uploading cleaned location data (end point) from local drive\n",
        "from google.colab import files\n",
        "uploaded5 = files.upload()"
      ],
      "execution_count": 48,
      "outputs": [
        {
          "output_type": "display_data",
          "data": {
            "text/html": [
              "\n",
              "     <input type=\"file\" id=\"files-b6d7b5cc-13b8-457a-8f1f-e2c73ff4c37b\" name=\"files[]\" multiple disabled\n",
              "        style=\"border:none\" />\n",
              "     <output id=\"result-b6d7b5cc-13b8-457a-8f1f-e2c73ff4c37b\">\n",
              "      Upload widget is only available when the cell has been executed in the\n",
              "      current browser session. Please rerun this cell to enable.\n",
              "      </output>\n",
              "      <script src=\"/nbextensions/google.colab/files.js\"></script> "
            ],
            "text/plain": [
              "<IPython.core.display.HTML object>"
            ]
          },
          "metadata": {
            "tags": []
          }
        },
        {
          "output_type": "stream",
          "text": [
            "Saving en_loc_cleaned.csv to en_loc_cleaned.csv\n"
          ],
          "name": "stdout"
        }
      ]
    },
    {
      "cell_type": "code",
      "metadata": {
        "id": "REjm6AhEfCPH"
      },
      "source": [
        "#Reading cleaned location data (end point) and storing into a Pandas Dataframe\n",
        "en_loc_clean = pd.read_csv(io.BytesIO(uploaded5['en_loc_cleaned.csv']))"
      ],
      "execution_count": 49,
      "outputs": []
    },
    {
      "cell_type": "code",
      "metadata": {
        "colab": {
          "resources": {
            "http://localhost:8080/nbextensions/google.colab/files.js": {
              "data": "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",
              "ok": true,
              "headers": [
                [
                  "content-type",
                  "application/javascript"
                ]
              ],
              "status": 200,
              "status_text": ""
            }
          },
          "base_uri": "https://localhost:8080/",
          "height": 73
        },
        "id": "URP0rqayfNYG",
        "outputId": "d77708bb-415a-403a-fcda-6475d0781ea6"
      },
      "source": [
        "#Uploading cleaned hours of day data (end point) from local drive\n",
        "from google.colab import files\n",
        "uploaded6 = files.upload()"
      ],
      "execution_count": 50,
      "outputs": [
        {
          "output_type": "display_data",
          "data": {
            "text/html": [
              "\n",
              "     <input type=\"file\" id=\"files-8c41616f-afbe-43c5-9a4a-81da39442822\" name=\"files[]\" multiple disabled\n",
              "        style=\"border:none\" />\n",
              "     <output id=\"result-8c41616f-afbe-43c5-9a4a-81da39442822\">\n",
              "      Upload widget is only available when the cell has been executed in the\n",
              "      current browser session. Please rerun this cell to enable.\n",
              "      </output>\n",
              "      <script src=\"/nbextensions/google.colab/files.js\"></script> "
            ],
            "text/plain": [
              "<IPython.core.display.HTML object>"
            ]
          },
          "metadata": {
            "tags": []
          }
        },
        {
          "output_type": "stream",
          "text": [
            "Saving en_hr_cleaned.csv to en_hr_cleaned.csv\n"
          ],
          "name": "stdout"
        }
      ]
    },
    {
      "cell_type": "code",
      "metadata": {
        "id": "1jGQ_tBefNk5"
      },
      "source": [
        "#Reading cleaned hours of day data (end point) and storing into a Pandas Dataframe\n",
        "en_hr_clean = pd.read_csv(io.BytesIO(uploaded6['en_hr_cleaned.csv']))"
      ],
      "execution_count": 51,
      "outputs": []
    },
    {
      "cell_type": "markdown",
      "metadata": {
        "id": "Gcxu3vFN5Y_x"
      },
      "source": [
        "###Preparing location data for visualization"
      ]
    },
    {
      "cell_type": "code",
      "metadata": {
        "colab": {
          "base_uri": "https://localhost:8080/",
          "height": 205
        },
        "id": "XUdcQ2X5fzFc",
        "outputId": "a94a9dfe-d07e-410f-f240-94c9d65ae271"
      },
      "source": [
        "#Initial check of one of datasets loaded\n",
        "st_loc_clean.tail()"
      ],
      "execution_count": 44,
      "outputs": [
        {
          "output_type": "execute_result",
          "data": {
            "text/html": [
              "<div>\n",
              "<style scoped>\n",
              "    .dataframe tbody tr th:only-of-type {\n",
              "        vertical-align: middle;\n",
              "    }\n",
              "\n",
              "    .dataframe tbody tr th {\n",
              "        vertical-align: top;\n",
              "    }\n",
              "\n",
              "    .dataframe thead th {\n",
              "        text-align: right;\n",
              "    }\n",
              "</style>\n",
              "<table border=\"1\" class=\"dataframe\">\n",
              "  <thead>\n",
              "    <tr style=\"text-align: right;\">\n",
              "      <th></th>\n",
              "      <th>year</th>\n",
              "      <th>month</th>\n",
              "      <th>name</th>\n",
              "      <th>lat</th>\n",
              "      <th>lon</th>\n",
              "      <th>trips</th>\n",
              "      <th>mean_min</th>\n",
              "    </tr>\n",
              "  </thead>\n",
              "  <tbody>\n",
              "    <tr>\n",
              "      <th>4056</th>\n",
              "      <td>2020</td>\n",
              "      <td>April</td>\n",
              "      <td>Tordenskiolds gate</td>\n",
              "      <td>59.911776</td>\n",
              "      <td>10.735113</td>\n",
              "      <td>88</td>\n",
              "      <td>15.610</td>\n",
              "    </tr>\n",
              "    <tr>\n",
              "      <th>4057</th>\n",
              "      <td>2020</td>\n",
              "      <td>April</td>\n",
              "      <td>Blindern studentparkering</td>\n",
              "      <td>59.940874</td>\n",
              "      <td>10.720779</td>\n",
              "      <td>70</td>\n",
              "      <td>17.860</td>\n",
              "    </tr>\n",
              "    <tr>\n",
              "      <th>4058</th>\n",
              "      <td>2020</td>\n",
              "      <td>April</td>\n",
              "      <td>Jarlsborgveien</td>\n",
              "      <td>59.930464</td>\n",
              "      <td>10.675783</td>\n",
              "      <td>66</td>\n",
              "      <td>20.200</td>\n",
              "    </tr>\n",
              "    <tr>\n",
              "      <th>4059</th>\n",
              "      <td>2020</td>\n",
              "      <td>April</td>\n",
              "      <td>HasleLinje</td>\n",
              "      <td>59.927634</td>\n",
              "      <td>10.799249</td>\n",
              "      <td>64</td>\n",
              "      <td>15.425</td>\n",
              "    </tr>\n",
              "    <tr>\n",
              "      <th>4060</th>\n",
              "      <td>2020</td>\n",
              "      <td>April</td>\n",
              "      <td>Bak Niels Treschows hus sør</td>\n",
              "      <td>59.942473</td>\n",
              "      <td>10.723715</td>\n",
              "      <td>45</td>\n",
              "      <td>14.200</td>\n",
              "    </tr>\n",
              "  </tbody>\n",
              "</table>\n",
              "</div>"
            ],
            "text/plain": [
              "      year  month                         name  ...        lon  trips  mean_min\n",
              "4056  2020  April           Tordenskiolds gate  ...  10.735113     88    15.610\n",
              "4057  2020  April    Blindern studentparkering  ...  10.720779     70    17.860\n",
              "4058  2020  April               Jarlsborgveien  ...  10.675783     66    20.200\n",
              "4059  2020  April                   HasleLinje  ...  10.799249     64    15.425\n",
              "4060  2020  April  Bak Niels Treschows hus sør  ...  10.723715     45    14.200\n",
              "\n",
              "[5 rows x 7 columns]"
            ]
          },
          "metadata": {
            "tags": []
          },
          "execution_count": 44
        }
      ]
    },
    {
      "cell_type": "code",
      "metadata": {
        "id": "8uqxm4pesuFf"
      },
      "source": [
        "#Creating a function to generate a basemap\n",
        "def generate_basemap(default_loc=[59.92,10.75], default_zoom=13):\n",
        "    bmap = folium.Map(location=default_loc, zoom_start=default_zoom)\n",
        "    return bmap"
      ],
      "execution_count": 45,
      "outputs": []
    },
    {
      "cell_type": "code",
      "metadata": {
        "id": "A_7xm-SFg4De"
      },
      "source": [
        "def plot_basemap(year, month, cat, st_num):\n",
        "  \"\"\"Plot basemap according to year, month, category and station numbers\"\"\"\n",
        "\n",
        "  #Slice the corresponding dataframe depending on the selected category\n",
        "  if cat == 'Starting_stations':\n",
        "    hm_df = st_loc_clean[(st_loc_clean['year']==year) & (st_loc_clean['month']==month)].copy()\n",
        "    hm_df = hm_df.drop(columns=['year', 'month', 'name', 'mean_min'])\n",
        "  elif cat == 'Destination_stations':\n",
        "    hm_df = en_loc_clean[(en_loc_clean['year']==year) & (en_loc_clean['month']==month)].copy()\n",
        "    hm_df = hm_df.drop(columns=['year', 'month', 'name', 'mean_min'])\n",
        "\n",
        "  #Create a function to convert lat, lon, and weight to list. Folium does not take DataFrames\n",
        "  def convert_to_list(df):\n",
        "    \"\"\"Convert dataframe to list of lat, lon and weight\"\"\"\n",
        "    lat = df['lat'].to_numpy(dtype=float)\n",
        "    lon = df['lon'].to_numpy(dtype=float)\n",
        "    weight = df['trips'].to_numpy(dtype=float)\n",
        "    return [[l, g, w] for l, g, w in zip(lat, lon, weight)]\n",
        "\n",
        "  #Convert lat, long and weight to lists of list\n",
        "  heat_data = convert_to_list(hm_df)\n",
        "\n",
        "  #Generate a basemap\n",
        "  basemap = generate_basemap()\n",
        "\n",
        "  #Create a HeatMap with lat, lon and number of trips\n",
        "  HeatMap(heat_data[:st_num]).add_to(basemap)\n",
        "\n",
        "  #Plot the basemap\n",
        "  return basemap"
      ],
      "execution_count": 46,
      "outputs": []
    },
    {
      "cell_type": "code",
      "metadata": {
        "id": "ldTE0dt6lWSS"
      },
      "source": [
        "#Generating widgets options for HeatMap\n",
        "yr = [2020, 2021]\n",
        "months = ['January', 'February', 'March', 'April', 'May', 'June', 'July', 'August', 'September', 'October', 'November', 'December']\n",
        "category = ['Starting_stations', 'Destination_stations']\n",
        "num = [i for i in range(5, 251, 5)]"
      ],
      "execution_count": 47,
      "outputs": []
    },
    {
      "cell_type": "markdown",
      "metadata": {
        "id": "mw77R1OZqoni"
      },
      "source": [
        "###Visualizing Bysykkel Location Data"
      ]
    },
    {
      "cell_type": "code",
      "metadata": {
        "colab": {
          "base_uri": "https://localhost:8080/",
          "height": 988,
          "referenced_widgets": [
            "b4db0f94aa2f4ad7b63b23548a5ad587",
            "ca6485cb566e4665a046c682da0ba61e",
            "17e2e5b9ed6c43469d1003c3aeda1bb8",
            "f919aec0efeb402daaca2f6db30df9a9",
            "6d868ce2dc45439a923df5cc99eead5c",
            "daf8a76f8e754553916ffdb048362972",
            "3ea8c68e28194f7c91c696f68d42e940",
            "0acee44d20174baf84968a4be801431b",
            "dad49fd10f434958b13e6382990545a6",
            "936a19409a87471f8e556858b24d7184",
            "03649a88d13e46e6bca3d43cd72bf2eb",
            "a5d0f9b3c34444dea962db46554b4a0d",
            "a050ed690ded45e48e8ffcc37eb98843",
            "9dab9d54c973490b909b67687d01f5d5",
            "5ee93d4194a748e19bedfc5174a43e53",
            "836e06c47da346e98c03229ced0e9925"
          ]
        },
        "id": "rXEmbaCdg4OK",
        "outputId": "6407136a-bd70-4db4-f9c9-e1f605b40066"
      },
      "source": [
        "#Plotting interactive HeatMap for Bysykkel data\n",
        "interact(plot_basemap,\n",
        "         year=widgets.Dropdown(options=yr, value=yr[0], description='Year', disabled=False),\n",
        "         month=widgets.Dropdown(options=months, value=months[2], description='Month', disabled=False),\n",
        "         cat=widgets.Dropdown(options=category, value=category[0], description='Category', disabled=False),\n",
        "         st_num=widgets.Dropdown(options=num, value=num[3], description='Stations', disabled=False))\n",
        "plt.show()"
      ],
      "execution_count": 52,
      "outputs": [
        {
          "output_type": "display_data",
          "data": {
            "application/vnd.jupyter.widget-view+json": {
              "model_id": "b4db0f94aa2f4ad7b63b23548a5ad587",
              "version_minor": 0,
              "version_major": 2
            },
            "text/plain": [
              "interactive(children=(Dropdown(description='Year', options=(2020, 2021), value=2020), Dropdown(description='Mo…"
            ]
          },
          "metadata": {
            "tags": []
          }
        }
      ]
    },
    {
      "cell_type": "markdown",
      "metadata": {
        "id": "ewlYx-sRZeTF"
      },
      "source": [
        "###Starting Stations Dashboard"
      ]
    },
    {
      "cell_type": "code",
      "metadata": {
        "id": "DomhNZZvZdMH"
      },
      "source": [
        "#Creating a function to plot the interactive dashboard for starting stations\n",
        "\n",
        "def plot_start_dashboard(year, month):\n",
        "  \"\"\"Plot the top starting stations, average minutes per station, roush hours and monthly rides for the selected year\"\"\"\n",
        "  \n",
        "  #Creating slices of the dataframes  \n",
        "  df1 = st_loc_clean[(st_loc_clean['year']==year) & (st_loc_clean['month']==month)].copy()\n",
        "  df2 = st_hr_clean[(st_hr_clean['year']==year) & (st_hr_clean['month']==month)].copy()\n",
        "  df3 = st_loc_clean[st_loc_clean['year']==year].copy()\n",
        "  df3 = df3.groupby(['month']).agg(month_trips=('trips', 'sum')).reset_index()\n",
        "\n",
        "  #Creating constants for plotting\n",
        "  hours = [i for i in range(0, 24)]\n",
        "  ord_months = ['January', 'February', 'March', 'April', 'May', 'June', 'July', 'August', 'September', 'October', 'November', 'December']\n",
        "\n",
        "  #Create four subplots and unpack the output array immediately\n",
        "  fig, ((ax1, ax2), (ax3, ax4)) = plt.subplots(nrows=2, ncols=2, figsize=(20,10))\n",
        "\n",
        "  #Set title for the figure\n",
        "  fig.suptitle(\"Bysykkel Dashboard - Starting Stations\", fontsize=24)\n",
        "\n",
        "  #Accessing axes objects and plotting\n",
        "  sns.barplot(x='name', y='trips', data=df1[:5], ax=ax1)\n",
        "  sns.barplot(x='name', y='mean_min', data=df1[:5], ax=ax2)\n",
        "  sns.barplot(x='hour', y='count', data=df2, order=hours, ax=ax3)\n",
        "  sns.barplot(x='month', y='month_trips', data=df3, order=ord_months, ax=ax4)\n",
        "    \n",
        "  #Customizing axes labels and titles for first axes figure\n",
        "  ax1.set_xlabel('Station names')\n",
        "  ax1.set_ylabel('Number of Trips')\n",
        "  ax1.set_title(f'Top 5 starting stations for {month} {year}')\n",
        "  \n",
        "  #Customizing axes labels and titles for second axes figure\n",
        "  ax2.set_xlabel('Station names')\n",
        "  ax2.set_ylabel('Minutes')\n",
        "  ax2.set_title(f'Average ride per station (in minutes) for {month} {year}')\n",
        "\n",
        "  #Customizing axes labels and titles for third axes figure\n",
        "  ax3.set_xlabel('Hours of day')\n",
        "  ax3.set_ylabel('Number of Trips')\n",
        "  ax3.set_title(f'Rush hours for {month} {year}')\n",
        "\n",
        "  #Customizing axes labels and titles for fourth axes figure\n",
        "  ax4.set_xlabel('Months')\n",
        "  ax4.set_ylabel('Number of Trips')\n",
        "  ax4.set_title(f'Total rides per month during {year}')\n",
        "\n",
        "  #Prevent from axis to colliding or overlaping one another.\n",
        "  fig.tight_layout()\n",
        "  fig.subplots_adjust(top=0.88)"
      ],
      "execution_count": 53,
      "outputs": []
    },
    {
      "cell_type": "code",
      "metadata": {
        "colab": {
          "base_uri": "https://localhost:8080/",
          "height": 399,
          "referenced_widgets": [
            "73211c8e34ed4ed5a7dbb158714511da",
            "4d520131ed2f4148ae7a48b45f4e4163",
            "411947cf438d4987b01729b812962b83",
            "9400f8ceec3c4b9eaf668e761ac2f79c",
            "122ade1b97d74965842a75e395ed0a8f",
            "7506835850c24b65aaa909bcbe14dd60",
            "7cbcc625a5f34885b662c3ad545ff68a",
            "187c07f95a514cb9b3e16af84a1b12bd",
            "435fb7a77f9f4967aa9764427e6c09ee",
            "4a7d3fb9598f4f02893f0d0782edb10b"
          ]
        },
        "id": "HuGuEnNXbokP",
        "outputId": "aaa94549-eff2-41e5-e9db-f25804bc2c74"
      },
      "source": [
        "#Plotting Bysykkel dashboard for starting stations with interactive widgets\n",
        "interact(plot_start_dashboard,\n",
        "         year=widgets.Dropdown(options=yr, value=yr[0], description='Year', disabled=False),\n",
        "         month=widgets.Dropdown(options=months, value=months[2], description='Month', disabled=False))\n",
        "plt.show()"
      ],
      "execution_count": 54,
      "outputs": [
        {
          "output_type": "display_data",
          "data": {
            "application/vnd.jupyter.widget-view+json": {
              "model_id": "73211c8e34ed4ed5a7dbb158714511da",
              "version_minor": 0,
              "version_major": 2
            },
            "text/plain": [
              "interactive(children=(Dropdown(description='Year', options=(2020, 2021), value=2020), Dropdown(description='Mo…"
            ]
          },
          "metadata": {
            "tags": []
          }
        }
      ]
    },
    {
      "cell_type": "markdown",
      "metadata": {
        "id": "EAhFcX_zD2KM"
      },
      "source": [
        "###Destination Stations Dashboard"
      ]
    },
    {
      "cell_type": "code",
      "metadata": {
        "id": "8vs3z4QSEDs_"
      },
      "source": [
        "#Creating a function to plot the interactive dashboard for starting stations\n",
        "\n",
        "def plot_destination_dashboard(year, month):\n",
        "  \"\"\"Plot the top destination stations, average minutes per station, roush hours and monthly rides for the selected year\"\"\"\n",
        "  \n",
        "  #Creating slices of the dataframes  \n",
        "  df1 = en_loc_clean[(en_loc_clean['year']==year) & (en_loc_clean['month']==month)].copy()\n",
        "  df2 = en_hr_clean[(en_hr_clean['year']==year) & (en_hr_clean['month']==month)].copy()\n",
        "  df3 = en_loc_clean[en_loc_clean['year']==year].copy()\n",
        "  df3 = df3.groupby(['month']).agg(month_trips=('trips', 'sum')).reset_index()\n",
        "\n",
        "  #Creating constants for plotting\n",
        "  hours = [i for i in range(0, 24)]\n",
        "  ord_months = ['January', 'February', 'March', 'April', 'May', 'June', 'July', 'August', 'September', 'October', 'November', 'December']\n",
        "\n",
        "  #Create four subplots and unpack the output array immediately\n",
        "  fig, ((ax1, ax2), (ax3, ax4)) = plt.subplots(nrows=2, ncols=2, figsize=(20,10))\n",
        "\n",
        "  #Set title for the figure\n",
        "  fig.suptitle(\"Bysykkel Dashboard - Destionation Stations\", fontsize=24)\n",
        "\n",
        "  #Accessing axes objects and plotting\n",
        "  sns.barplot(x='name', y='trips', data=df1[:5], ax=ax1)\n",
        "  sns.barplot(x='name', y='mean_min', data=df1[:5], ax=ax2)\n",
        "  sns.barplot(x='hour', y='count', data=df2, order=hours, ax=ax3)\n",
        "  sns.barplot(x='month', y='month_trips', data=df3, order=ord_months, ax=ax4)\n",
        "    \n",
        "  #Customizing axes labels and titles for first axes figure\n",
        "  ax1.set_xlabel('Station names')\n",
        "  ax1.set_ylabel('Number of Trips')\n",
        "  ax1.set_title(f'Top 5 destionation stations for {month} {year}')\n",
        "  \n",
        "  #Customizing axes labels and titles for second axes figure\n",
        "  ax2.set_xlabel('Station names')\n",
        "  ax2.set_ylabel('Minutes')\n",
        "  ax2.set_title(f'Average ride per station (in minutes) for {month} {year}')\n",
        "\n",
        "  #Customizing axes labels and titles for third axes figure\n",
        "  ax3.set_xlabel('Hours of day')\n",
        "  ax3.set_ylabel('Number of Trips')\n",
        "  ax3.set_title(f'Rush hours for {month} {year}')\n",
        "\n",
        "  #Customizing axes labels and titles for fourth axes figure\n",
        "  ax4.set_xlabel('Months')\n",
        "  ax4.set_ylabel('Number of Trips')\n",
        "  ax4.set_title(f'Total rides per month during {year}')\n",
        "\n",
        "  #Prevent from axis to colliding or overlaping one another.\n",
        "  fig.tight_layout()\n",
        "  fig.subplots_adjust(top=0.88)"
      ],
      "execution_count": null,
      "outputs": []
    },
    {
      "cell_type": "code",
      "metadata": {
        "colab": {
          "base_uri": "https://localhost:8080/",
          "height": 784,
          "referenced_widgets": [
            "2ea2d24525a3462799627a73e35b6c68",
            "9cd49963787840acb50e0e835de70487",
            "ee8b91bbeda34c108c3d634068b0564a",
            "65b7e604721c496c8e39713fd94395e6",
            "1815222291434c05add8f47391562b12",
            "aadeab9d7acc4fb7bbbc7dc1095a5a90",
            "bf46a0c73f394965a02275eee8941c66",
            "2f4243fc16ab42e48bba878d4f404e24",
            "97e030bc99f04941a1869a94f62ccf2f",
            "e6a91af495b34f01906bba1cff457cf9"
          ]
        },
        "id": "EoBeEDssExBu",
        "outputId": "5c4d4319-1019-45ff-f9a5-106d90a2ef5a"
      },
      "source": [
        "#Plotting Bysykkel dashboard for destionation stations with interactive widgets\n",
        "interact(plot_destination_dashboard,\n",
        "         year=widgets.Dropdown(options=yr, value=yr[0], description='Year', disabled=False),\n",
        "         month=widgets.Dropdown(options=months, value=months[2], description='Month', disabled=False))\n",
        "plt.show()"
      ],
      "execution_count": null,
      "outputs": [
        {
          "output_type": "display_data",
          "data": {
            "application/vnd.jupyter.widget-view+json": {
              "model_id": "2ea2d24525a3462799627a73e35b6c68",
              "version_minor": 0,
              "version_major": 2
            },
            "text/plain": [
              "interactive(children=(Dropdown(description='Year', options=(2020, 2021), value=2020), Dropdown(description='Mo…"
            ]
          },
          "metadata": {
            "tags": []
          }
        }
      ]
    },
    {
      "cell_type": "markdown",
      "metadata": {
        "id": "EQ96RybtclrJ"
      },
      "source": [
        "###Starting vs Destination Dashboard"
      ]
    },
    {
      "cell_type": "code",
      "metadata": {
        "id": "twtSgIBm6S9D"
      },
      "source": [
        "#Creating a function to plot the interactive dashboard\n",
        "\n",
        "def plot_dashboard(year, month):\n",
        "  \"\"\"Plot the starting point of trips, location and average minutes per station \"\"\"\n",
        "  \n",
        "  #Creating slices of the dataframes  \n",
        "  df1 = st_loc_clean[(st_loc_clean['year']==year) & (st_loc_clean['month']==month)].copy()\n",
        "  df2 = en_loc_clean[(en_loc_clean['year']==year) & (en_loc_clean['month']==month)].copy()\n",
        "  df3 = st_hr_clean[(st_hr_clean['year']==year) & (st_hr_clean['month']==month)].copy()\n",
        "  df4 = en_hr_clean[(en_hr_clean['year']==year) & (en_hr_clean['month']==month)].copy()\n",
        "\n",
        "  #Creating constants for plotting\n",
        "  hours = [i for i in range(0, 24)]\n",
        "\n",
        "  #Create four subplots and unpack the output array immediately\n",
        "  fig, ((ax1, ax2), (ax3, ax4)) = plt.subplots(nrows=2, ncols=2, figsize=(20,10))\n",
        "\n",
        "  #Set title for the figure\n",
        "  fig.suptitle(\"Bysykkel Dashboard\", fontsize=24)\n",
        "\n",
        "  #Accessing axes objects and plotting\n",
        "  sns.barplot(x='name', y='trips', data=df1[:5], ax=ax1)\n",
        "  sns.barplot(x='name', y='trips', data=df2[:5], ax=ax2)\n",
        "  sns.barplot(x='hour', y='count', data=df3, order=hours, ax=ax3)\n",
        "  sns.barplot(x='hour', y='count', data=df4, order=hours, ax=ax4)\n",
        "    \n",
        "  #Customizing axes labels and titles for first axes figure\n",
        "  ax1.set_xlabel('Station names')\n",
        "  ax1.set_ylabel('Number of Trips')\n",
        "  ax1.set_title('Top 5 start stations')\n",
        "  \n",
        "  #Customizing axes labels and titles for second axes figure\n",
        "  ax2.set_xlabel('Station names')\n",
        "  ax2.set_ylabel('Number of Trips')\n",
        "  ax2.set_title('Top 5 destination stations')\n",
        "\n",
        "  #Customizing axes labels and titles for third axes figure\n",
        "  ax3.set_xlabel('Hours of day')\n",
        "  ax3.set_ylabel('Number of Trips')\n",
        "  ax3.set_title('Start trips rush hours')\n",
        "\n",
        "  #Customizing axes labels and titles for third axes figure\n",
        "  ax4.set_xlabel('Hours of day')\n",
        "  ax4.set_ylabel('Number of Trips')\n",
        "  ax4.set_title('Destination trips rush hours')\n",
        "\n",
        "  #Prevent from axis to colliding or overlaping one another.\n",
        "  fig.tight_layout()\n",
        "  fig.subplots_adjust(top=0.88)"
      ],
      "execution_count": null,
      "outputs": []
    },
    {
      "cell_type": "code",
      "metadata": {
        "colab": {
          "base_uri": "https://localhost:8080/",
          "height": 781,
          "referenced_widgets": [
            "e1a503b0cf9b4e6a98808a6c09ace44d",
            "0dabd091c136427eb24bae894c146c93",
            "1ddc5631ccfb41f397c2dd20533ad232",
            "6ac689085d504563b7ddf67293253618",
            "c33f187d6cc9426db7dcd659cedc52c4",
            "4c005c7e46c0455eb8ffe56621495f4d",
            "a23e5f181bdc4307a923f21393d283eb",
            "1ac7e0b6086344b58901d60f8af41968",
            "0ccef66e16b44bdbb728d5aa8b5dfc71",
            "8f10537f0ebe4337a70b8e58567ad48c"
          ]
        },
        "id": "5uQ7SiroCYyr",
        "outputId": "038c5f76-b8f6-4f88-f7fb-815911f14315"
      },
      "source": [
        "#Plotting Bysykkel dashboard with interactive widgets\n",
        "interact(plot_dashboard,\n",
        "         year=widgets.Dropdown(options=yr, value=yr[0], description='Year', disabled=False),\n",
        "         month=widgets.Dropdown(options=month, value=month[2], description='Month', disabled=False))\n",
        "plt.show()"
      ],
      "execution_count": null,
      "outputs": [
        {
          "output_type": "display_data",
          "data": {
            "application/vnd.jupyter.widget-view+json": {
              "model_id": "e1a503b0cf9b4e6a98808a6c09ace44d",
              "version_minor": 0,
              "version_major": 2
            },
            "text/plain": [
              "interactive(children=(Dropdown(description='Year', options=(2020, 2021), value=2020), Dropdown(description='Mo…"
            ]
          },
          "metadata": {
            "tags": []
          }
        }
      ]
    },
    {
      "cell_type": "code",
      "metadata": {
        "id": "Z0fKDBIXA5Q6"
      },
      "source": [
        "  #Create FeatureGroup\n",
        "  fg = folium.FeatureGroup(name='Oslo_map')\n",
        "  \n",
        "  #Add Markers to basemap\n",
        "  for lt, lo, we in zip(lat[:st_num], lon[:st_num], weight[:st_num]):\n",
        "    fg.add_child(folium.Marker(location=[lt, lo], popup=we))\n",
        "  basemap.add_child(fg)"
      ],
      "execution_count": null,
      "outputs": []
    }
  ]
}