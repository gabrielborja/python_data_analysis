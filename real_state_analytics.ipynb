{
  "nbformat": 4,
  "nbformat_minor": 0,
  "metadata": {
    "colab": {
      "name": "real_state_analytics.ipynb",
      "provenance": [],
      "collapsed_sections": [
        "B6KXezvl3NYT",
        "AbJJDSofAgET",
        "yRVaKdBFCxq-",
        "0cz0tnvLC1NB"
      ],
      "authorship_tag": "ABX9TyMkVVn+zLwJRnvKjlEipHhG",
      "include_colab_link": true
    },
    "kernelspec": {
      "name": "python3",
      "display_name": "Python 3"
    },
    "language_info": {
      "name": "python"
    },
    "widgets": {
      "application/vnd.jupyter.widget-state+json": {
        "9b1dfb090381411787479a020f663876": {
          "model_module": "@jupyter-widgets/controls",
          "model_name": "VBoxModel",
          "model_module_version": "1.5.0",
          "state": {
            "_view_name": "VBoxView",
            "_dom_classes": [
              "widget-interact"
            ],
            "_model_name": "VBoxModel",
            "_view_module": "@jupyter-widgets/controls",
            "_model_module_version": "1.5.0",
            "_view_count": null,
            "_view_module_version": "1.5.0",
            "box_style": "",
            "layout": "IPY_MODEL_ae9acf02e6d04fbb9d81dc7d03dcb230",
            "_model_module": "@jupyter-widgets/controls",
            "children": [
              "IPY_MODEL_7f267bb6aab44db8998988b5cc67a7f0",
              "IPY_MODEL_15bf3b3ab6e34cd6a469f30737077b02"
            ]
          }
        },
        "ae9acf02e6d04fbb9d81dc7d03dcb230": {
          "model_module": "@jupyter-widgets/base",
          "model_name": "LayoutModel",
          "model_module_version": "1.2.0",
          "state": {
            "_view_name": "LayoutView",
            "grid_template_rows": null,
            "right": null,
            "justify_content": null,
            "_view_module": "@jupyter-widgets/base",
            "overflow": null,
            "_model_module_version": "1.2.0",
            "_view_count": null,
            "flex_flow": null,
            "width": null,
            "min_width": null,
            "border": null,
            "align_items": null,
            "bottom": null,
            "_model_module": "@jupyter-widgets/base",
            "top": null,
            "grid_column": null,
            "overflow_y": null,
            "overflow_x": null,
            "grid_auto_flow": null,
            "grid_area": null,
            "grid_template_columns": null,
            "flex": null,
            "_model_name": "LayoutModel",
            "justify_items": null,
            "grid_row": null,
            "max_height": null,
            "align_content": null,
            "visibility": null,
            "align_self": null,
            "height": null,
            "min_height": null,
            "padding": null,
            "grid_auto_rows": null,
            "grid_gap": null,
            "max_width": null,
            "order": null,
            "_view_module_version": "1.2.0",
            "grid_template_areas": null,
            "object_position": null,
            "object_fit": null,
            "grid_auto_columns": null,
            "margin": null,
            "display": null,
            "left": null
          }
        },
        "7f267bb6aab44db8998988b5cc67a7f0": {
          "model_module": "@jupyter-widgets/controls",
          "model_name": "DropdownModel",
          "model_module_version": "1.5.0",
          "state": {
            "_options_labels": [
              "1",
              "2",
              "3",
              "4",
              "5",
              "6",
              "7"
            ],
            "_view_name": "DropdownView",
            "style": "IPY_MODEL_3467a9b72a3a4c4588b2e40fc6aea6d7",
            "_dom_classes": [],
            "description": "rooms",
            "_model_name": "DropdownModel",
            "index": 6,
            "_view_module": "@jupyter-widgets/controls",
            "_model_module_version": "1.5.0",
            "_view_count": null,
            "disabled": false,
            "_view_module_version": "1.5.0",
            "description_tooltip": null,
            "_model_module": "@jupyter-widgets/controls",
            "layout": "IPY_MODEL_70b513ab15b14e268574a2f388f430b1"
          }
        },
        "15bf3b3ab6e34cd6a469f30737077b02": {
          "model_module": "@jupyter-widgets/output",
          "model_name": "OutputModel",
          "model_module_version": "1.0.0",
          "state": {
            "_view_name": "OutputView",
            "msg_id": "",
            "_dom_classes": [],
            "_model_name": "OutputModel",
            "outputs": [
              {
                "output_type": "display_data",
                "metadata": {
                  "tags": []
                },
                "image/png": "iVBORw0KGgoAAAANSUhEUgAAAhEAAAEcCAYAAAB56OZRAAAABHNCSVQICAgIfAhkiAAAAAlwSFlzAAALEgAACxIB0t1+/AAAADh0RVh0U29mdHdhcmUAbWF0cGxvdGxpYiB2ZXJzaW9uMy4yLjIsIGh0dHA6Ly9tYXRwbG90bGliLm9yZy+WH4yJAAAgAElEQVR4nO3deXhU5aE/8O85Z7Zksk4SyELBK1ZM5QLBCGqJCGhZRMBSW+ojXaxVqvW2V0H5aQUf3IpQsFIUuai9vZdWrcoiAopFqlLlShEsWkVTZMlG9mUy6znv74+ZOcmQmSyHZGaSfD9PLWTOOTPvvExmvvOukhBCgIiIiKiH5HgXgIiIiPonhggiIiIyhCGCiIiIDGGIICIiIkMYIoiIiMgQhggiIiIyhCGCaACaOnUq/va3v8XksdauXYuJEyfim9/8Zkwej4gSB0MEUdDBgwexYMECXHLJJZgwYQIWLFiAjz/++Jzu89VXX8X3v//9sNuWLl2KtWvXntP99pYDBw7gyiuvNHx9eXk5nn/+eezcuRP79+/vcHz79u0oKirS/xs7dixGjRqFo0ePnkuxE8Krr76KUaNGYefOnX36OKdPn8aoUaPg9/v79HGiSaTXKyUeU7wLQJQIWlpasGjRIjz44IOYOXMmfD4fDh48CIvFEu+ideD3+2EyJcavbnl5OTIyMpCVlRXx+Jw5czBnzhz951dffRVPPfUULr744i7vWwgBIQRkOTG/62zZsgUZGRnYunUrZs2a1SePEa/gQNRdifnbSRRjx48fBwDMnj0biqLAZrNh0qRJuOiii/RzXnrpJcycORNFRUWYNWsWPvnkEwDAxo0bcfXVV+u379mzBwBQWlqK5cuX4/DhwygqKkJxcTFefPFFvPbaa3j22WdRVFSERYsWAQCqqqpw55134rLLLsPUqVPxhz/8QX/cdevW4T/+4z+wePFijB8/Hlu2bNFv++Uvf4mioiJcf/31+OyzzyI+N6/Xi0ceeQSTJk3CpEmT8Mgjj8Dr9aK1tRU//elPcebMGb2loKqqqsP1zc3NuOeee3DZZZdhypQpeOqpp6BpGv72t7/h5ptv1q9funRpl/W8ZcsWzJs3D5IkRTy+cOFCrF27FgsWLMDYsWNx6tQpHDp0CPPnz8cll1yC+fPn49ChQ/r5VVVVWLRoESZMmIBrrrkGL730UsR6KyoqwnXXXYfjx4/jmWeeweWXX47Jkyfjvffe089/9dVXMW3aNBQVFWHq1KnYvn171OdRVlaGDz/8ECtWrMB7772H6upq/ViodWfDhg2YOHFih/vat28f5s2bh/Hjx2Py5MlYt26dfizU6vDnP/8ZV111FX74wx/ipptuAgBceumlKCoqwkcffYRXX30VCxYswKOPPori4mJMmzYNhw4dwquvvorJkyfj8ssvx5YtW/T79Xq9WLlyJa666ipcccUVWLZsGdxud1h5n3vuOVx++eWYNGkSXnnlFQCI+nrduHEjSkpKUFRUhOnTp+P999/v5F+dBjRBRKK5uVlMmDBB3HPPPWLfvn2ioaEh7PjOnTvFpEmTxJEjR4SmaeKrr74Sp0+f1o9VVlYKVVXF66+/LsaOHSuqqqqEEEK88sorYsGCBWH3de+994o1a9boP6uqKq6//nqxbt064fF4xMmTJ8XUqVPFO++8I4QQ4sknnxTf+MY3xJ49e4SqqsLlcum37dq1S3i9XrFp0yYxZcoU4fV6hRBCTJkyRezfv18IIcQTTzwhbrjhBlFTUyNqa2vF9773PbF27VohhBAffPCBKCkp6bRulixZIhYtWiSam5vFqVOnxLe+9S3x0ksvdfv6kNOnT4uLLrpInDx5Muo5N910k5g8ebI4duyY8Pl8orq6WhQXF4stW7YIn88nXnvtNVFcXCzq6uqEEELceOONYvny5cLtdotPP/1UTJw4Ufztb3/T62306NHinXfeET6fTyxZskRMmTJFPPXUU8Lr9YoXX3xRTJkyRQghhNPpFEVFRaK0tFQIIURVVZU4duxY1HL+7ne/E/PnzxdCCDF79mzx7LPP6sc++OADUVhYKB599FHh8XjEgQMHxNixY/X7/uCDD8Rnn30mVFUV//znP8Xll18u9uzZI4QQ4tSpU+LCCy8US5YsEU6nU7hcLv02n8+nP8Yrr7wiCgsLxcsvvyz8fr9Ys2aNmDx5snjwwQeFx+MR7777rhg3bpxoaWkRQgjxyCOPiNtuu03U19eL5uZmcdttt4nVq1eHlfeJJ54QXq9X7Nu3T4wZM0b/HTj79VpaWiquvPJKUVlZqZf5xIkTnf/j04DFlggiACkpKfjjH/8ISZLwwAMP4PLLL8eiRYtQU1MDAHj55Zdxyy23YMyYMZAkCSNGjEBBQQEAYObMmRg6dChkWcasWbMwYsSIHo2l+Mc//oG6ujr8/Oc/h8Viwde+9jV897vfDetrHzduHK6++mrIsgybzQYAuPjiizFjxgyYzWb8+Mc/htfrxZEjRzrc/2uvvYY77rgDWVlZcDgcuOOOOzr9lt2eqqrYuXMn7r77bqSkpGDYsGH48Y9/3O3r29u6dSuKi4vxta99rdPzrr/+enz961+HyWTCe++9hxEjRmDevHkwmUyYPXs2zj//fLz99tuoqKjAoUOHsHjxYlitVhQWFuKGG27Atm3b9PsqLi5GSUkJTCYTZsyYgfr6etx6660wm82YNWsWysrK0NTUBACQZRlffPEF3G43hgwZgq9//etRy7ht2zbMnj0bQKD1auvWrR3O+cUvfgGLxYIJEyZg8uTJ2LVrFwBg4sSJGDVqFGRZxkUXXYRrr70W//d//xd27Z133onk5GT93zqSYcOGYf78+VAUBbNmzUJFRQXuuOMOWCwWTJo0CRaLBSdPnoQQAi+99BLuu+8+ZGRkICUlBbfddhtef/11/b5MJhPuuOMOmM1mTJ48GcnJyXrr3NkURYHX60VpaSl8Ph+GDRuG4cOHRy0nDWyJ0bFKlABGjhyJX//61wACXRFLlizBo48+ijVr1qCioiLqG+XWrVvx/PPPo6ysDADQ2tqK+vr6bj9uWVkZzpw5g+LiYv02VVXDfs7Nze1wXfvbZFnG0KFDcebMmQ7nnTlzBvn5+frP+fn5Ec+LpL6+Hj6fr8P1kbo9urJt2zbcdtttXZ6Xl5en//3ssrd//DNnziA9PR0pKSlhx9oP2mw/VsNmsyEzMxOKoug/A4F/r9zcXKxduxbPPfcc7r//fowfPx733nsvRo4c2aF8f//733H69Glce+21AAIhYu3atfjnP/+JwsJCAEBaWhqSk5PDyhWq8yNHjmD16tX44osv4PP54PV6MWPGjLDHiPTvfbaznxsAZGdn67dZrVY4nU7U1dXB5XLh29/+tn5MCAFN0/SfMzIywsbZJCUlobW1NeLjjhgxAvfddx/WrVuHL7/8EpMmTcLSpUsxdOjQLstMAw9DBFEEI0eOxLe//W28+OKLAAIfbCdPnuxwXllZGX71q1/h97//PYqKiqAoCubOnasfj9T3f/ZteXl5GDZsGN58882o5Yl0P5WVlfrfNU1DVVUVhgwZ0uG8IUOGoLy8XP9mXVFRoZ8XbWxCSGZmJsxmM8rLy3HBBRfo1/f0A+Pvf/87zpw5g+nTp3d5bvsyhcreXkVFBUpKSjBkyBA0NjaipaVFDxJGyhZSUlKCkpISuN1uPPHEE3jggQfwxz/+scN5W7duhRAC8+bNC7t9y5YteohoampCa2urHiQqKir0+r/77rtx0003YdOmTbBarXjkkUc6hM72ddDVv1FXMjMzYbPZ8Prrrxuqm0iPf9111+G6665DS0sLli1bhtWrV2PVqlXnVE7qn9idQYRAy8Nzzz2nfzBXVFRgx44dGDt2LADgO9/5Dp577jkcPXoUQgicOHECZWVlcLlckCQJDocDAPDKK6/giy++0O83KysLVVVV8Hq9YbedPn1a/3nMmDGw2+3YuHEj3G43VFXFsWPHuuwS+eSTT/Dmm2/C7/fjv//7v2GxWPTytnfttdfi6aefRl1dHerq6rB+/Xpcd911elkaGhrQ3Nwc8TEURcGMGTOwdu1atLS0oKysDM8//3zYjIvu2Lp1K771rW+FtRp0x+TJk/HVV1/htddeg9/vx86dO/Hll1/iqquuQl5eHoqKirBmzRp4PB589tlnePnll3tcNgCoqanBW2+9hdbWVlgsFiQnJ0ecFeLxeLBr1y6sWLECW7du1f974IEHsGPHjrDZFOvWrYPX68XBgwexb98+vbXB6XQiPT0dVqsVH3/8MXbs2NFp2RwOB2RZxqlTp3r8vIBAK9UNN9yARx99FLW1tQACA1Lffffdbl1/9uv1X//6F95//314vV5YLBZYrdaEnUFDfY//8kQIjIk4cuQIbrjhBowbNw7f/e53ceGFF+ozDmbOnIlFixbh7rvvxvjx43HHHXegsbERF1xwAW6++WYsWLAAV1xxBY4dO4bx48fr93vZZZfhggsuwKRJkzBx4kQAgUDy5Zdfori4GLfffjsURcGGDRvw2WefYdq0abjsssvwq1/9Ci0tLZ2Wedq0adi5cycuvfRSbNu2DevWrYPZbO5w3u23347Ro0fr0y0vvvhi3H777QACLS7XXnstrr76ahQXF0fspnjggQeQlJSEq6++GjfeeCNmz56N+fPnd7tuQx+8119/fbevCcnMzMSGDRvw/PPPY+LEidi0aRM2bNigh7Y1a9agrKwMJSUl+PnPf44777wTV1xxRY8fR9M0/P73v0dJSQkmTJiADz/8EA8++GCH89566y3YbDbMmzcPOTk5+n/z58+Hqqr6B3N2djbS0tJQUlKCxYsX48EHH9S7RpYvX44nn3wSRUVFWL9+PWbOnNlp2ZKSkrBo0SJ8//vfR3FxMQ4fPtzj57dkyRKMGDEC3/3udzF+/Hj86Ec/ijrm4Wxnv169Xi9+85vfYOLEiZg0aRLq6upw11139bhMNDBIQggR70IQUc+sW7cOJ06cwOrVq+NdFDrLgQMHsGTJErzzzjvxLgpRn2NLBBERERnCEEFERESGsDuDiIiIDGFLBBERERnCEEFERESGMEQQERGRIVyx0oD6eic0LTGGkmRlpaC2tvP1BCgy1p1xrDvjWHfGsN6MO5e6k2UJmZn2qMdjFiKmTp2qr24GAIsXL0ZJSQkOHz6MZcuWwePxoKCgAKtWrdLXhI/1se7SNJEwIQJAQpWlv2HdGce6M451Zwzrzbi+qruYdmc8+eST2LZtG7Zt24aSkhJomoYlS5Zg2bJleOONN1BcXKwvnhPrY0RERNQzcR0TcfToUVitVn23wgULFmD37t1xOUZEREQ9E9MxEYsXL4YQApdccgnuuusuVFRUhG3z63A4oGkaGhoaYn4sIyOjj589ERHRwBKzELF582bk5eXB6/XikUcewYoVK3DNNdfE6uF7VVZWz3Yi7Gs5OanxLkK/xbozjnVnHOvOGNabcX1VdzELEXl5eQAAi8WCG2+8ET/72c/wgx/8AOXl5fo5dXV1kGUZGRkZyMvLi+mxnqitbUmYAT45Oamoro68jTN1jnVnHOvOONadMaw3486l7mRZ6vSLc0zGRLS2tqK5OfAEhBDYuXMnCgsLMXr0aLjdbhw8eBAA8MILL2DGjBkAEPNjRERE1DMxaYmora3FnXfeCVVVoWkaRo4cieXLl0OWZTz++ONYvnx52JRLADE/RkRERD3DDbgMYHfGwMC6M451ZxzrzhjWm3FG604A0IRA7pC0qOdwxUoiIiIKEvCrAm6fCrfHD1mSkDsk+tkMEURERIOYJAF+VYPHp8Hl8cOvagj1UZhNUqfXMkQQERENQpoQ8Po1uN1+eP0aNAOjGxgiiIiIBhGvT4XLq8LjU895fB9DBBER0QAmgi0OHp8Kj8cPfy9ODGCIICIiGmAkCfCpGjxeFWqdE/XNbvTFXEyGCCIiogEgMEBSwONX4fao8PlVCAGYbZY+CRAAQwQREVG/JiDg8Z3bAEmjGCKIiIj6GQHA59Pg9vnh9p77AEmjGCKIiIj6CZ+qwe3t/QGSRjFEEBERJajQQlBunwa3xwe/KvpsfIMRDBFEREQJJtBdoaLV44fXF9txDj3BEEFERJQA9FYHrxpcfjoxg0N7DBFERERxFBok2erxJXSrQyQMEURERHGgCQG3V0WrxwfVL9B/okMbhggiIqKYEfD6Bdze+E7N7C0MEURERH1MEwIen4pWd/hW2/0dQwQREVEfkCTA5xdwef1wefz9vtUhEoYIIiKiXub2qXC5/fAG968YqBgiiIiIzlFoeqbLq8LtTozVJGOBIYKIiMig9otCeXwDu9UhEoYIIiKiHlI1Eeyy8PWLRaH6CkMEERFRN3n9GlzBVoeBOFCypxgiiIiIOqGJ8FaHwdZl0RmGCCIiorNIUlurw0BYFKqvMEQQEREFCQh4fBpa3X74Bvj0zN7AEEFERIOaJAE+VYPLo8Lt8UNlq0O3MUQQEdGgFGp1cLv98LDVwRCGCCIiGlS8fm3AbIAVbwwRREQ0wAn41cAGWC6vHypnWPQahggiIhpwJAnw+zV4gjMsBtLOmYmEIYKIiAYESQqsJOnxqXB7VPj8GjQmhz7FEEFERP2e1xdcSdLPcQ6xxBBBRET9kiYE3F4VrR4fVL8Ao0PsMUQQEVE/IuD1C86uSBAMEURElPBUVYPbp3IlyQTDEEFERAlJkgC/qsHlVeGvb0VDsyfeRaKzMEQQEVHC8fo0tHp88PoCMywsNku8i0QRMEQQEVFCCG253ermQMn+Qo71A/7ud7/DqFGjcOzYMQDA4cOHMWfOHEyfPh0333wzamtr9XNjfYyIiGJL1QS8fg3NLh9qGt1oavHCzwDRb8Q0RHzyySc4fPgwCgoKAACapmHJkiVYtmwZ3njjDRQXF2P16tVxOUZERH1LkgIDJFs9fjS2eFHT6EJtoxt1TW44Xb5BOdPi85P12PTaJ1j1x0PY9Non+PxkfbyL1CMxCxFerxcrVqzAgw8+qN929OhRWK1WFBcXAwAWLFiA3bt3x+UYERH1HY9PRX2TB7VNHjQ5vXB5/fCrYlCvKPn5yXps338cTS4fbFYTmlw+bN9/vF8FiZiFiN/+9reYM2cOhg0bpt9WUVGB/Px8/WeHwwFN09DQ0BDzY0RE1HtCMyta3D7UNLhQ3+yB26cO6tBwtnePlENRZFhMCiRJgsWkQFFkvHukPN5F67aYDKz86KOPcPToUSxevDgWD9fnsrJS4l2EMDk5qfEuQr/FujOOdWfcQK67UHeFy+2HUCRYFKXXZlY4HPZeuZ9E0dDqg90aCBAhiqygsdXX68/V6P0pstTp8ZiEiA8//BClpaWYNm0aAKCyshI/+clPsHDhQpSXtyWuuro6yLKMjIwM5OXlxfRYT9TWtiRM311OTiqqq5vjXYx+iXVnHOvOuIFZdwI+NbAEtcvj75P3R4fDjro6Z6/fbzxlJJvR5PLBYlL027x+FenJ5l59rudSd2aTjNys6AEkJt0Zt956K9577z3s3bsXe/fuRW5uLp599lnccsstcLvdOHjwIADghRdewIwZMwAAo0ePjukxIiLqGU0ItHr9qG3yDOrBkUaVjM2Hqmrw+lUIIeD1q1BVDSVj87u+OEHEdZ0IWZbx+OOPY/ny5fB4PCgoKMCqVavicoyIiLrH69fg9vgDYxwYGgwbNTwTcxAYG1Hf7EFmqhUlY/MxanhmvIvWbZIQHOXSU+zOGBhYd8ax7ozrj3UXGiTp9mlwxWnHzIHYnREr59qdcdHInKjHuWIlERFFJESgj97l8evLTxO1xxBBREQ6SQJ8/sCOmW63H/4EaXWlxMQQQUQ0yAW6KwQ8fhVuj8qttqnbGCKIiAYhSWrbt8Lt9sOragkz1ov6D4YIIqJBIiw4ePzw+hkc6NwwRBARDWAMDtSXGCKIiAYYBgeKFYYIIqJ+TFU1aACEBmgI7Irp9aoMDhQTDBFERP2IJAE+VYMntPCTGggKnE1B8cAQQUSU4CQJ8Ps1ePwaXB4//KrG0EAJgSGCiCgBhZaa9vg1rt1AceFXNdQ1e3BRJ+cwRBARJYDQgk9+TYPXp8Hr80NVwaWmKSb8qoYz9S6UVbegrMaJsmonKutakZVuw+Ti4VGvY4gwwOVTIVQNkCRIEiAJAJAC/wv8ASDwd0AK/tnuZ/3vHfH9gmjw8Kka/KoGnz+wHbTG0EAxoGqhwODE6eoWlNc4UVHbCtXAQFyGCANanF74/FqH2yX9/9rfJrU7GP5XSUIweEiQIEEOHpSDCUMKJhI5mDpC4UMKXixJgNPtg9endRlgZEmCCD42AwxRvAi4PX40tXrh9qoQQvD3jvqUqgmcPtOMf5bWoKzaibIaJypqnfCrkV94KUlmFOTYUZBtR0FOCs7PT+v0/hkiepHQ/6/9baLdwU6vNEQymVDX7DYUYCQ9nEQIMHLgz84CTKQWmLZyMMAQAeFrNrS6/fBCRqvbH+9i0QCkagLVDWd1SdS2wqd2/NILAPYkczAstIWGtGRz4AtskNkkd/qYDBEDRDwCTEiPAozULkyEAowUOD+sZebswALoL2wZ7e4IwaATegypZ91H1DMfl9Zg94GTqGvxwpFiwYyJwzFmZHa8i5UwJAnQBKCpGnyaCHRT+FSomuCaDdSrtFBgCIaFspoWVNR0EhhspmBYSEFBjh352Xak2y1hgcEIhgg6Z3ENMOfQ+iIUBQ0tnrDuI0luF170a6S260VbeNHvT3Q8D0JqOx5BvFte2m/3LMsSTLIMRZagyIFyRyrfx6U12LznGBRFRmqSCQ1OLzbvOQZZljD637KiXjcQ6WFB06BqgT5mvxoIDaqqQWM3BfUiTROobnShvNqJ0zVOlFc7UV7rjNitDgDJVpPeupCfk4LRF+RA+P3nHBgiYYigfu3sN+qehBevX4Pbqxp63KitL52NfYEESWrrOgq1voTGvoT+HrpvOXix3nXUPsyElaFdYBGhcTRSxErQBOD1qXC5/fCcNWVQlgKtQiaTDLNJhskUCBYmWYYkAfs+KkOSzQSzIsNqVmCzmAAJ+OvhcuRmJkOSAbOiQDHJMMsSZLnt+YVahYQIfCPXNAE1+EEryxJkSYIiBbrR2j+P0LPQrwv8EFihMXi9CD2J4OOE6i30fKTQ34OtspE+3CUJ0DRAE4FQICD01oMOrzFNwKdpgUWego/PvEC9RdMEahrdKKtp0UNDRY0T3iiBIcmq6K0Loa6JjBRrWGBwpNtQV+fsk/IyRBAZELX1JV5dRx1uixxe/MFvzJFoIvAh7feqeriS9A9hoMHpQUqSGYosQ5YlOF0+uD1+lLt88GsC0ACf3w94oF8bqXyRBhPqXV1nfVMK/RQKEoHrO62i8OultseXJUAJtbgogVYXVQCqX4NP1aBqwtBjEBmlCYG6RjdO1zj1cQzlNc7AYPkIbBYlrEuiINuOzFRrn7QwdBdDBFE/EuvwEvqmrwGQIeFMvQsWkwKTIsGvCnj9KjJTrVGv7V752p6X6OVPbyHaHl8D4FeNtTwRnStNCNQ1ufUZEmXVgcDg8UV+TdosCvKz7RiWY0d+MDQ44hwYImGIIKJuKRmbj+37j8MLQJEVeP0qVFVDydj8eBeN+oHPT9bj3SPlqG/2IDPVipKx+Rg1PDPexeoTQgjUNXlQVtMSFhqiBQarWQnrjijIToEjLfECQyQMEUTULaOGZ2IOgHePlKOx1Yf0ZPOA/iCg3vP5yXps338ciiLDZjWhyeXD9v3HMQfo968fIQTqmj3BloUWnA62MEQbb2U1B1oY2ocGR5pNH+Dd3zBEEFG3jRqeiVHDM+Fw2PtsoBYNPO8eKYeiyLCYFACAxaTAG7y9P4UIIQTqmz1h0yrLa5xweSIHBotJRn67NRiGZdvhSO+/gSEShggiIupT9c0e2KzhHzdmRUZ9sydOJeqaEAINLR69ZSHULeHyRF4ozGKSkZdtx7BsezA4pCA73QZZHjiBIRKGCCIi6lOZqVY0uXx6SwQQ2Dck2qDcWBNCoNHpDQSFdqs9tkYJDGaTjLysZL11IT/Hjpz0pAEfGCJhiCAioj7VflCuWZEDU2rjNChXCIEmpzesS6Ks2glnlKXIzYqMvOzk4EyJFBRk25GTMTgDQyQMEURE1KfaD8qN5ewMIQSaWn1hrQtlNU44Xb6I55sUCXlZ7WZJ5KQgJyMJCgNDVAwRRETU50KDcvtSWwtDW2ho6SIwtK3FYMeQzGQGhh5iiCAion6nqdWLcn0NhkBoaG6NHBgUWUJeVrsuiRw7hmQmQZE736GSusYQQURECa251Yuyehc++1dtcKZEC5o6CQy5WcmBLongBlRDM5NgUhgY+gJDBBERJYwWV/gYhvIaJxqd3ojnKrKEoY7kdis92jHUkczAEEMMEUREFBdOty84rbJtlkS0wCDLEnIzk5AfnCFRkGNHLgND3DFEEBFRn2t1+9pmSARDQ0NLlMAgQW9hyM+xY1h2CgovyEZzkzvGpaauMEQQEVGvanX79SWhQys+RludUpaAIZntuiRy7Mh12GE2hbcwmNstVEWJgyGCiIgMc3n8HaZVRgsMkgQMyUjSd6osyLEjNys5bCVL6l8YIoiIqFvcXn+HLom6puiBIScjSd98qiDbjrxsBoaBhiGCiIg6cHv9YRtPldU4UdsYeUyCBCA7IwnDcux6K0NeVjIsZgaGgY4hgohokAsEhtbgGIbAWIaaTgODTe+OKMixIy/LDisDw6DU4xBRUVGBqqoqjBs3rkfX3X777Th9+jRkWUZycjIeeOABFBYW4vjx41i6dCkaGhqQkZGBlStX4rzzzgOAmB8jIhroPF4V5bVtazCcrm5BbaMbIsK5EoCsdBuG5aQgPzjwMT/LDquFgYECJCFEpNdOB+Xl5bjrrrvw2WefQZIkfPTRR9i9ezfeffddPPLII11e39zcjNTUVADAW2+9hfXr12PLli34wQ9+gPnz52Pu3LnYtm0bXnnlFfzhD38AgJgf667PSqvh82s9uqavOBx21NU5412Mfol1ZxzrzrhY1p3Hp6KiNnwMQ01D5MAAANnpNn1p6PxsO/Kzk2GzJM95EnwAACAASURBVEaDNV9zxp1L3ZlNMi4amRP1eLdDxC233ILi4mLceuutmDhxIj788EM0Nzdjzpw5ePvtt3tUqK1bt+IPf/gD/uu//gvTp0/HgQMHoCgKVFXFxIkT8eabb0IIEdNjDoej2+VniBgYWHfGse6M66u68/pUVNS26os2ldU4UV3vihoYstJs+iqPBcENqBIlMETC15xxfRkiuv2K+cc//oGNGzdClmVIUmCXs9TUVDQ3N3e7MPfffz/2798PIQQ2bdqEiooKDB06FIoSaBpTFAVDhgxBRUUFhBAxPdaTEEFEFE9ev4rK2tawlR7PNLgQ7SuhI9UaNq0yP9uOJGviBgbqP7r9KsrKysKJEyfwb//2b/ptX375JfLy8rr9YKFuj61bt+Lxxx/HL37xix4UNXFkZCRD1brVgBMTDoc93kXot1h3xrHujOtJ3Xl9Kk6facHJyiacrGzGicpmVNQ4oUVJDNnpNgzPS8OI3FQMz03D8KGpsCeZe6voccXXnHFG666rrdG7HSJuvvlmLFq0CLfeeiv8fj927NiBZ555Bj/96U97XKh58+Zh2bJlyM3NRVVVFVRV1bsXzpw5g7y8PAghYnqsJxoaWtmdMQCw7oxj3RnXWd35/Boq61rDFm46U9+KaN9ZMlOtwTEMgdaFgmw7km3hgcHj8sLjiry8dH/C15xx59qdkZsVPYB0O0R85zvfQUZGBl588UXk5eVh69at+MUvfoGrr766y2udTieampr0D+u9e/ciPT0dWVlZKCwsxI4dOzB37lzs2LEDhYWFetdCrI8REcWKz6+hqq4Vp2taUB4cw1BV54rawpCRYgmbVhkpMBDFWrcHVp6Lmpoa3H777XC5XJBlGenp6bj33ntx8cUXo7S0FEuXLkVTUxPS0tKwcuVKnH/++QAQ82PdxYGVAwPrzjjWXc/41VALgxM1zR4cP92Ayk4CQ7rd0mEMQ8oA6ZIwiq854xJidsbDDz+MWbNmYfz48fpthw4dwq5du3D//fcbKlx/xRAxMLDujGPdRedXNVTVu1Be3YLTegtDa9RxVGl2S9vmU8Elogd7YIiErznjEmJ2xo4dO3DPPfeE3TZ69Gjccccdgy5EEBEBgKppqKpzhW1AVVnbSWBINuO8/HTkpLdNr0xNtsS41ES9p9shQpIknN1ooaoqNC0xvpETEfUlVdNwpt7VtpdEdQsq61rhVyMHhtQks94VUZAT6JZIS7bwGzUNKN0OEcXFxXjiiSewZMkSyLIMTdOwbt06FBcX92X5iLrl85P1ePdIOeqbPchMtaJkbD5GDc+Md7Gon1I1gTP1ob0kAstDV9Q6owaGlGBgKMhu65JIs7OFgQa+boeI+++/H7fddhsmTZqE/Px8VFRUICcnBxs2bOjL8hF16fOT9di+/zgURYbNakKTy4ft+49jDsAgQV1SNYHqBlfYtMrK2lb41MitrHabSW9ZCIWGNLtFX4SPaDDpdojIzc3Fli1bcOTIEVRWViIvLw9jxoyBLMt9WT6iLr17pByKIsNiCqxEajEp8AZvZ4ig9rRQYKhp20uioiZ6YEi2mfSWhdDgx3QGBiJdj9Y9lWUZRUVFfVUWIkPqmz2wnbWEr1mRUd/siVOJKBFomkBNoztsL4mKGie8UWZWJVlNbbMkgqEhI4WBgagznYaImTNnYteuXQCAyZMnR/1l2rdvX68XjKi7MlOtaHL59JYIAPCpGjJTrXEsFcWSJgKBoby6bZZEeaeBQUFBdtv21sNy7MhIsTIwEPVQpyHioYce0v++atWqPi8MkRElY/Oxff9xeBFogfCpGlRVQ8nY/HgXjfqAJgRqG92BoFDtxOlgl4THp0Y832ZRwhZuKsi2IzOVgYGoN3QaIkIzL1RVxSuvvIKHHnoIFgtHHFNiGTU8E3MAzs4YgDQhUNfkDptWWd5FYMhvN0NiWA4DA1Ff6taYCEVRsH//fv4iUsIaNTyToaGfE0KgrskTNoahrNoZNTBYzYreHVGQbcewnBRkplkh832KKGa6PbDyhz/8IdatW4c777wTZjOXZCUi44QQqG/26K0LobUY3N7IgcFiloPTKVOQn2PHsGw7HOk2BgaiOOt2iPjf//1f1NTU4Pnnn4fD4dBXsJQkiQMriSiq9oGhvN3USpcnemDIz7KHjWPIYmCgBCHp/9emJ9tYtr8+rHVfAAKiR/fV7ccDEOnXR4KE4P+gKDJMsgTFJEOWgFAxlC6Wceh2iODASiLqihACDS3esIWbymqccHn8Ec+3mGTkZQdaFvKDoSE73QZZZmCg2JOkwAe7BECWJZhkGbIiQZElKIoESQQ+cUMvTwmAhmCIEALRNoGQJEASwSuC17c9VuCgpgUChKYBGgSECPwsgPCUEixf6MNfCj1A6HGA4EWSniAcaVZIqhqWfaTgnUgSIEuBPyMFmK5+F7sdIsaNG4enn34ar7/+Os6cOYMhQ4Zg1qxZ+NnPftbduyCiAUQIgUanNxAU2oWG1iiBwWwKtDCEuiPyc+zISU9iYKA+E/hQbfvgluXAt21Jlto+xIMfooH/Ah+anX2onk3p+pTulBRK6Pegd+4wTJLVjBal8xYFoy0g3Q4RDz74II4fP477778fBQUFKCsrwzPPPIOqqio89thjxh6diPqFUGAI7SVR3ejGV+WNcLojBwaTIgVnSbRNq8zJYGCgvhEKAmZFhmKSoYRaDyQJUiggBD9Du/th2dvdCgNVt0PEX/7yF+zZswdpaWkAgAsuuABjx47Ft771rT4rHBHFnhACTU5voGWhXZeE0+WLeL5JkZCXZQ9b7TEnI6ntmxXROZKCzf+yHAgDJlmGoshQgl0OihLou++s9YChoG90O0RkZ2fD5XLpIQIAPB4PcnJy+qRgRBQbTa0duyRaOgkMuY5kjPxaBrJSrCjIsWNIZlKXg6+IIgl1KShyIATIUqCrQQ7eHupakCUgOyMZJiECg/4YFGLi49IaHPi0CvfdfFnUc7odIubOnYtbbrkFCxcuxNChQ1FZWYnNmzdj7ty5eP/99/XzLr/88nMrNRH1meZWb1vrQnCWRHNr5MCgyBLyspKRH1yDIT/bjqGOQGBwOOyoq3PGuPTUn4QCQmgsghIKBTIgyRJMkhxoVVBkfeZAZyHAbJIhdXEO9Z6PS2uwec8xDHEkd3pet0PECy+8AAAdtv5+4YUX9GOSJOEvf/lLT8tKRH2gubVtDEN5sGuiyemNeK4iS8jNSg7bsXJIZhJMXQzGosEtNHBRkoJTBBUJpuCfcjA0hLq1OvvwZzBIPLsPnAzbHTmaboeIvXv3nnOhiKhvtLh8Yd0R5TVONHYSGIY6ksPGMAxlYKAIwqY8KoHWA8XUbtBisLtBkaPPZmBA6J9qGt1ItnUdEXq0FTgRxZ/T7Qvrjiirjh4YZEnCUEeS3rpQkGNHriOZgYHCpz/KCAQEpW1dhJ5OeWRYGFiy021oiPK+0h5DBFECa3X7OoxhaGiJFhiAoY7kdvtJpCDXkQyziYFhsJLQthZCoJsh0JJg0scnSPq4BYAhgdrMmDgcm/ccg9cfeWXZEIYIogTh8vjDWhfKapyob/ZEPFeWgCGZ7bsk7Mh12BkYBqn2YSG0VoJJkaDIgWmQnXU3AAwI1NGYkdkAgAOfVnV6HkMEURy4PP7AXhLVTpyuaUF5tRN1UQKDJAFDMs7qkshK7nLAEw1McvuWhR6EBQYF6qkxI7Mx7uudL+PAEEHUx9xef4cuibqm6IEhJyMJw3LsyM9OwTAGhkErtAqjosgwh4WFzhdWYligWGKIIOpFbq+/3U6VgT9rm9wRz5UAZAcDQ2gMQ15WMixmBobBpv2yzWZzsIVBkiArctTFlRgWKBEwRBAZFAgMrcG1GFpQXuNETWNngcHWtpdEjh15WXZYGRgGpVBosJgUmC0yLEpwZkSEwMCwQImMIYKoGzw+VW9hCIWG2kY3or2/Z6fb9JUeC3LsyM+yw2phYBiM9JUbZcBqMiHdboGsqYEuibPOZWCg/oYhgugsXp+K8tr2gcGJmgZX1MCQlW4LDHgMDnrMz7bDZuGv1mDTfmGms8cxmIJrLwgBpCRb4HJGHhND1N/wnY4GNa9fRUVNa9i0yuoGV9RvhFlptrZ1GIJbXDMwDC7tN40ym5Tg+IXAPhCdLczEVgYaiPjuR4OG16+isrZVnyFRWe9CRY0z6pu7I80abGFIQX4wMCRZz+1X5vOT9Xj3SDnqmz3ITLWiZGw+Rg3PPKf7pL4RWntBDk2nNAcXawpOpQy1LETCwECDBUMEDUg+v4aKWmfYXhJn6luhRXlzz0y1ti3cFBz8eK6B4Wyfn6zH9v3HoSgybFYTmlw+bN9/HHMABok4Ci3/LMuASW4LC6E9IaKtvcCgQMQQQQOAz6+hsq41bAOqzgJDRooFBTkp+PrwTGTazSjItiPZZu7zcr57pDxsVzyLSYE3eDtDRN9rvzV120JNbS0Lne0PwcBAFBlDBPUrfjUUGEKtDC2oqnNBi/Iun263oCAnMEsiNJbBHgwMDocddXXOmJW9vtkD21mtG2ZFjrq0NRnTfjaEWVZgMgUWbDLJbVtTsxuCqHcwRFDC8qsaqupa21Z7rHGiqq4VapQmhlBgCE2tzM+2IyWp71sYuisz1Yomly9s9UmfqiEz1RrHUvVf7cOCRVHa9ouQJChKoGWBrQpEfYshghKCX9VQVe9CeXULTgfHMFR2EhjS7JZ2YxjsKMhJSajAEEnJ2Hxs338cXgRaIHyqBlXVUDI2P95FS2hhsyGCYcEcDAkMC0TxxRBBMadqGqrqXHp3RFmNE5W1nQSGZDPy2630WJBtR2qyJcalPnejhmdiDsDZGZ2QQ90QigKTuS0smBTuFUGUiBgiqE+pmoYz9a6wMQyVda3wq5Hf+VOSzHpQGJYTmFqZ1g8DQzSjhmcyNARJACQ5sF+ExSwHgoMp+pgFhgWixMMQQb1G1QSqG1yB1oVgaKiodUYNDPYkM4Zl25GfYw/+mYK0ZDMk6ezFgGmgCHVB2CwKzCYFZlPH7giGBaL+IyYhor6+Hvfccw9OnjwJi8WCESNGYMWKFXA4HDh8+DCWLVsGj8eDgoICrFq1CllZWQAQ82PUfaHA0H7zqYqaVvhULeL5dpsJBTkpYeMY0uwWBoYBLDSWwRRcAtpilgPrMCgMDUQDhSRE3/8KNzQ04PPPP8fEiRMBACtXrkRjYyMefvhhTJ8+HY899hiKi4vx1FNP4dSpU3jsscegaVpMj/XEZ6XV8Pkjf1jGWiymKWqaQHVjeJdERW1r1DpItpn0wY6h0JCegIEh1lM8B5JIdRcKDRaTDItZCYaH6AMfB6ucnFRUVzfHuxj9DuvNuHOpO1mWkJWVEvV4TFoiMjIy9AABAOPGjcOf/vQnHD16FFarFcXFxQCABQsWYNq0aXjsscdifowCNE2gptEdtpdERY0T3miBwWrSWxbyg6EhIyXxAgP1PkkCFEkKdEuYgxtOyYE9JNjSQDQ4xHxMhKZp+NOf/oSpU6eioqIC+flt09scDgc0TUNDQ0PMj2VkZPTxM088mggEhvLqtlkS5Z0EhiSroi8JHWphyEixMjAMEoGFmgCL2YT0FAsUVYWiyB3OY2ggGjxiHiIeeughJCcn46abbsKePXti/fC9IiMjOep0xHhwOOxdnqMJgep6F05WNuFERTNOVDbhVFUz3F414vlJVhNG5KZieG4ahuemYkReGrLTbQMuMHSn7gajwOZTgamWoVaGwEDIttCQkjRwZs3EWk5OaryL0C+x3ozrq7qLaYhYuXIlTpw4gQ0bNkCWZeTl5aG8vFw/XldXB1mWkZGREfNjPdHQEH08QKxF6pvWhEBdk1vfeCq0eJPHFzkw2CxKYElofYvrFDhSz2ph0DTU17f25VOJOY6JCNDHMigyzBYFZlmGrASnWvr98PoB71nXsH/aONadMaw34/r9mAgAWLNmDY4ePYqNGzfCYgl8gxk9ejTcbjcOHjyI4uJivPDCC5gxY0ZcjvVXQgjUNrnDplWW1zijtjBYzYq+h0RoLYbMNCvkAdbCQNGFFnSyhMYyKDIURYYcZTEnIqJoYjI744svvsDs2bNx3nnnwWazAQCGDRuG9evX49ChQ1i+fHnYlMvs7GwAiPmx7orX7AwhBOqbPWErPVbUtKLV4494fiAwJKMgO0Vfi8GRbmNgCBoMLRGhBZ0URYLFpASnWUpQ5I5jGXqC3wqNY90Zw3ozri9bImISIgaaWISI8MAQaF0oq2mByxO5hcFilpGfFeySGBKYJZHFwNCpgRgiOnRNKMFNqTrZudIIvqEbx7ozhvVm3IDozqDohBBoaPHqrQuhbglXlBYGsykQGPJz7Bh1ngMZSWZkp9sgywwMg40kAYoshXdNcJolEcUIQ0SMCSHQ6PQGgkIoNNQ40eqOHhjyspLbFm7KtiMnI0kPDAPx2zRFF1g2OjDNMrAuQ2BFyLMxNBBRLDBE9CEhBJqc3natC4HBj84ogcGkSMjPtiM/tPlUMDAobGEYlEJdE93doIqIKNYYInqJEAJNrT6Un9Ul0eLyRTzfpEjIy2qbVpmfbceQzGQGhkEsbAVIS6BrwhxhC2wGCCJKFAwRBrW1MARXeqx2ormTwJDrSA7bS2JIZtI5j5Cn/k2WJMgKYA12TZhliStAElG/whBhwFNbj+J4eVPEY4osITcrOWwDqqEOBgYKjHJu3zWhKFKHHS2JiPoThggDnMEWB0WWMNSRHFy0KbAB1dDMpIgD3WjwkSRAUSRYzSZYTTJMJrnDeAYGCCLqzxgiDLjm0q8hw27BUEcyAwPpQgs7WUwyrBYFFkWGokjBIwEMDUQ0kDBEGDDuguyE2TuD4ic0ENJkkmE2BxZ2MpskyBK7KIhocGCIIOqm9gMhO1s+mgGCiAYLhgiiCCQpEBpMigyzWQ78qQR+ZkggIgpgiCBCW9eExazAYlFgliXIEXa2ZIAgImrDEEGDUmA1SMBmVmC2KLCYAq0NZy/1xdBARBQdQwQNCqHuCbNJhsWswKTIGJqZjHoIBgUiIoMYImhAiri75VndEwrHNxARnROGCBoQ2i/sxJkTRESxwRBB/ZYsS7AoMixWBdYICzsREVHfYoigfkWWJVjNCmzWwOJO3BabiCh+GCIo4cmyBJtFCcykMMuQuIw0EVFCYIighGSSJVgsCmzBMQ5ERJR4GCIoYbS1ODA4EBH1BwwRFFeyLMFmVmCzdOyqICKixMYQQTEnyxKsJgU2W2ClSAYHIqL+iSGC+pwEQAq2OFiDsypkicGBiKi/Y4igPhFaMdJqMcFqUjjGgYhoAGKIoF4R2NBKghIcHGkxB1ociIho4GKIIEMkCTCZ5MDeFKbAok+h/7h2AxHR4MAQQd0W2gXTGlxm2mTquIEVAwQR0eDBEEGdkiTApMhIsgXGNpiUtpYGBgYiosGNIYI6CA2KtFlNsJlNMClAaGMrBgciIgphiCAAgbUbzIoMqyWwdoOJgyKJiKgLDBGDUKilwawoMJllmGUZJhMHRRIRUc8wRAwCocWerKbgYk+yBCVCSwMDBBER9QRDxAAVGBApwWYxwWwKdFEQERH1JoaIASLU2mAxBcc1RJmCSURE1FsYIvoxSQJMsoTUZDPMJgVmkwRZ4hRMIiKKDYaIfkZft8FqgtUkY2iWHdWaph9ncCAiolhhiOgHJAlQFAlJVjOsZhlmhd0UREQUfzEZbbdy5UpMnToVo0aNwrFjx/Tbjx8/ju9973uYPn06vve97+Grr76K27FEE+qqsCeZ4UizITstCXarCSaZAYKIiBJDTELEtGnTsHnzZhQUFITdvnz5ctx444144403cOONN2LZsmVxO5YIZEmCxawgNdmMzFQbsjKSkJpk5m6YRESUkGLy6VRcXIy8vLyw22pra/Hpp59i9uzZAIDZs2fj008/RV1dXcyPxZMsS7CZFWSkWpGVbkNWmhV2mxkWkxxcaJqIiCgxxW1MREVFBYYOHQpFUQAAiqJgyJAhqKiogBAipsccDkdMn7ssBadiWhVYzUrYSpHsqiAiov6CAysNyMhIhqr1/NPeJEtIsppgs5pgMSu9Vp6cnNReu6/BhnVnHOvOONadMaw34/qq7uIWIvLy8lBVVQVVVaEoClRVxZkzZ5CXlwchREyP9VRDQyt8fq3rExEIDlarCVazAtkkw+PywuPy9vgxo8nJSUV1dXOv3d9gwrozjnVnHOvOGNabcedSd7IsISsrJfpxo4U6V1lZWSgsLMSOHTsAADt27EBhYSEcDkfMj/U2Odji4Ei1Iis9MDiSy04TEdFAIwnR973wDz/8MN58803U1NQgMzMTGRkZeP3111FaWoqlS5eiqakJaWlpWLlyJc4//3wAiPmxnvistLpDS4QcXHLaZjXBYpIhS7EZFsl0bhzrzjjWnXGsO2NYb8b1ZUtETELEQPNZaTX8qhYcIBnYGdNikuOylTZ/sYxj3RnHujOOdWcM6824vgwRHFhpQEqSGZIkwazIaN/gwDhGRESDCUOEAUlWEzQDszOIiIgGEo72IyIiIkMYIgx4ZttRfFxaE+9iEBERxRVDhAFNLh827znGIEFERIMaQ4QBFpMCRZGx+8DJeBeFiIgobhgiDLKYZNQ0uuNdDCIiorhhiDDI69eQnW6LdzGIiIjihiHCAK9fhapqmDFxeLyLQkREFDdcJ8KAtCQzrrnmQowZmR3vohAREcUNQ4QBt80dzcWmiIho0GN3BhERERnCEEFERESGMEQQERGRIQwRREREZAgHVhogy1LXJ8VQopWnP2HdGce6M451ZwzrzTijddfVdZIQgtMMiIiIqMfYnUFERESGMEQQERGRIQwRREREZAhDBBERERnCEEFERESGMEQQERGRIQwRREREZAhDBBERERnCEEFERESGcNnrBFVfX4977rkHJ0+ehMViwYgRI7BixQo4HA6MGjUKF154IWQ5kAEff/xxjBo1CgCwd+9ePP7441BVFRdffDEee+wxJCUlxfOpxMXtt9+O06dPQ5ZlJCcn44EHHkBhYSGOHz+OpUuXoqGhARkZGVi5ciXOO+88AOj02GASre6mTp0Ki8UCq9UKAFi8eDFKSkoAAIcPH8ayZcvg8XhQUFCAVatWISsrK55PI65+97vfYd26dXjttddw4YUXdlo/rLtwZ9cd3++6Fu13MyavO0EJqb6+XnzwwQf6z7/+9a/F//t//08IIcSFF14oWlpaOlzT0tIirrjiCnH8+HEhhBD33XefWLduXUzKm2iampr0v+/Zs0fMmzdPCCHEwoULxdatW4UQQmzdulUsXLhQP6+zY4NJtLqbMmWK+Pzzzzucr6qquPrqq8WHH34ohBBi/fr1YunSpbEpbAI6evSo+MlPfqLXV2f1w7oLd3bdCcH3u+6I9LsZq9cduzMSVEZGBiZOnKj/PG7cOJSXl3d6zTvvvIPRo0fr354XLFiAXbt29WUxE1Zqaqr+95aWFkiShNraWnz66aeYPXs2AGD27Nn49NNPUVdX1+mxwSZS3XXm6NGjsFqtKC4uBhB43e3evbtPy5iovF4vVqxYgQcffFC/rbP6Yd21iVR3neH7Xedi9bpjd0Y/oGka/vSnP2Hq1Kn6bQsXLoSqqrjyyitx5513wmKxoKKiAvn5+fo5+fn5qKioiEeRE8L999+P/fv3QwiBTZs2oaKiAkOHDoWiKAAARVEwZMgQVFRUQAgR9ZjD4Yjn04iLs+suZPHixRBC4JJLLsFdd92FtLS0Dq87h8MBTdP0bqHB5Le//S3mzJmDYcOG6bd1Vj+suzaR6i6E73ddO/t3M1avO7ZE9AMPPfQQkpOTcdNNNwEA9u3bh1dffRWbN2/Gl19+ifXr18e5hInpkUcewb59+/Cf//mfePzxx+NdnH4lUt1t3rwZ27dvxyuvvAIhBFasWBHnUiaWjz76CEePHsWNN94Y76L0O53VHd/vuhbP302GiAS3cuVKnDhxAk888YQ+sCgvLw8AkJKSghtuuAGHDh3Sb2/f5VFeXq6fO5jNmzcPBw4cQG5uLqqqqqCqKgBAVVWcOXMGeXl5yMvLi3psMAvVXX19vV4XFosFN954Y9TXXV1dHWRZHnTfpD/88EOUlpZi2rRpmDp1KiorK/GTn/wEJ06ciFo/rLuAaHX33nvv8f2uGyL9bnb22urN1x1DRAJbs2YNjh49ivXr18NisQAAGhsb4Xa7AQB+vx9vvPEGCgsLAQAlJSX4xz/+ga+++goA8MILL2DmzJlxKXs8OZ3OsGbNvXv3Ij09HVlZWSgsLMSOHTsAADt27EBhYSEcDkenxwaTaHVntVrR3NwMABBCYOfOnfrrbvTo0XC73Th48CCAwOtuxowZsS98nN1666147733sHfvXuzduxe5ubl49tlnccstt0StH9ZdQLS6+/d//3e+33WhtbU14u9mZ6+t3nzdSUII0QvPg3rZF198gdmzZ+O8886DzWYDAAwbNgy33HILli1bBkmS4Pf7UVRUhPvuuw92ux0A8NZbb2HVqlXQNA2FhYX49a9/jeTk5Hg+lZirqanB7bffDpfLBVmWkZ6ejnvvvRcXX3wxSktLsXTpUjQ1NSEtLQ0rV67E+eefDwCdHhssotVdWloa7rzzTqiqCk3TMHLkSPzqV7/CkCFDAACHDh3C8uXLw6aLZWdnx/nZxNfUqVOxYcMGXHjhhZ3WD+uuo1DdOZ1Ovt914dSpU1F/N2PxumOIICIiIkPYnUFERESGMEQQERGRIQwRREREZAhDBBERERnCEEFERESGMEQQERGRIQwRRDTgLFy4EH/+85/jXQyiAY8hgohiwu/3x7sI3RZa/pyIOscQQUTdsnHjRpSUlKCoqAjTp0/H+++/D7fbjaVLl+LSSy/FrFmzsGnTJlx55ZX6NVOnTsXGjRtx3XXXYdy4cZ0GGaUScQAABIJJREFUialTp2LTpk36uffddx9qampwyy23oKioCD/60Y/Q2Nion3/48GEsWLAAxcXFmDNnDg4cOAAAWLt2LQ4ePIgVK1agqKhI34yotLQUP/7xjzFhwgRMnz4dO3fu1O9r6dKlWL58OX76059i3LhxOHDgAP76179i1qxZKCoqQklJCZ599tnerlKi/k8QEXWhtLRUXHnllaKyslIIIcSpU6fEiRMnxKpVq8T3v/99UV9fL8rLy8W1114rSkpK9OumTJki5syZI8rLy4XL5er0MaZMmSJuuOEGUV1dLSorK8Vll10m5s2bJz755BPhdrvFwoULxbp164QQQlRWVooJEyaIffv2CVVVxXvvvScmTJggamtrhRBC3HTTTeKll17S79vpdIorr7xSvPzyy8Ln84lPPvlETJgwQXzxxRdCCCHuvfdeMX78eHHw4EGhqqpwu93im9/8pvjwww+FEEI0NDSIo0eP9l6FEg0QbIkgoi4pigKv14vS0lL4fD4MGzYMw4cPx65du7Bo0SJ9Z8CFCxd2uHbhwoXIy8vT94DpzE033YTs7GwMHToUxcXFGDNmDL7xjW/AarXimmuuwaeffgoA2LZtG6688kpMnjwZsizjm9/8JkaPHo2//vWvEe933759KCgowPz582EymfCNb3wD06dPx+7du/Vzpk2bhksuuQSyLMNqtcJkMuHLL79ES0sL0tPTcfHFFxusPaKByxTvAhBR4hsxYgTuu+8+rFu3Dl9++SUmTZqEpUuXdtguPT8/v8O1Pdmeuf0GQFarNexnm82G1tZWAIFtn3fv3o23335bP+73+zFx4sSI91tWVoaPP/4YxcXF+m2qqmLOnDlRy/nkk0/i6aefxm9+8xuMGjUKd999N4qKirr9XIgGA4YIIuqW6667Dtdddx1aWlqwbNkyrF69Gjk5OaioqMDXv/51AAjbRjxEkqReL0teXh7mzp2Lhx9+uNvnX3rppXj++ee7/RhjxozB008/DZ/Ph82bN+OXv/xl1JYOosGK3RlE1KV//etfeP/99+H1emGxWGC1WiHLMmbOnImNGzeisbERlZWV+J//+Z+YlGfOnDl4++238e6770JVVXg8Hhw4cACVlZUAAi0ap06d0s+/6qqr8NVXX2Hr1q3w+Xzw+Xz4+OOPUVpaGvH+vV4vtm/fjubmZpjNZtjtdsgy3y6JzsbfCiLqktfrxW9+8xtMnDgRkyZNQl1dHe666y78/Oc/R35+PqZNm4abb74Zc+fOjUl58vLy8NRTT+GZZ57B5ZdfjsmTJ+PZZ5+FpmkAgB/84Ad44403cOmll+Lhhx9GSkoKnn32WezcuRMlJSWYNGkSVq9eDa/XG/Uxtm3bhqlTp2L8+PF44YUXsGrVqpg8N6L+RBJCiHgXgogGhgMHDmDJkiV455134l0UIooBtkQQERGRIRxYSUQxUV5ejmuvvTbisddffz3izA4iSmzsziAiIiJD2J1BREREhjBEEBERkSEMEURERGQIQwQREREZwhBBREREhjBEEBERkSH/H6ytDcqWBKlYAAAAAElFTkSuQmCC\n",
                "text/plain": "<Figure size 576x288 with 1 Axes>"
              }
            ],
            "_view_module": "@jupyter-widgets/output",
            "_model_module_version": "1.0.0",
            "_view_count": null,
            "_view_module_version": "1.0.0",
            "layout": "IPY_MODEL_eab1a218cea34df39a3db7d8b77752fa",
            "_model_module": "@jupyter-widgets/output"
          }
        },
        "3467a9b72a3a4c4588b2e40fc6aea6d7": {
          "model_module": "@jupyter-widgets/controls",
          "model_name": "DescriptionStyleModel",
          "model_module_version": "1.5.0",
          "state": {
            "_view_name": "StyleView",
            "_model_name": "DescriptionStyleModel",
            "description_width": "",
            "_view_module": "@jupyter-widgets/base",
            "_model_module_version": "1.5.0",
            "_view_count": null,
            "_view_module_version": "1.2.0",
            "_model_module": "@jupyter-widgets/controls"
          }
        },
        "70b513ab15b14e268574a2f388f430b1": {
          "model_module": "@jupyter-widgets/base",
          "model_name": "LayoutModel",
          "model_module_version": "1.2.0",
          "state": {
            "_view_name": "LayoutView",
            "grid_template_rows": null,
            "right": null,
            "justify_content": null,
            "_view_module": "@jupyter-widgets/base",
            "overflow": null,
            "_model_module_version": "1.2.0",
            "_view_count": null,
            "flex_flow": null,
            "width": null,
            "min_width": null,
            "border": null,
            "align_items": null,
            "bottom": null,
            "_model_module": "@jupyter-widgets/base",
            "top": null,
            "grid_column": null,
            "overflow_y": null,
            "overflow_x": null,
            "grid_auto_flow": null,
            "grid_area": null,
            "grid_template_columns": null,
            "flex": null,
            "_model_name": "LayoutModel",
            "justify_items": null,
            "grid_row": null,
            "max_height": null,
            "align_content": null,
            "visibility": null,
            "align_self": null,
            "height": null,
            "min_height": null,
            "padding": null,
            "grid_auto_rows": null,
            "grid_gap": null,
            "max_width": null,
            "order": null,
            "_view_module_version": "1.2.0",
            "grid_template_areas": null,
            "object_position": null,
            "object_fit": null,
            "grid_auto_columns": null,
            "margin": null,
            "display": null,
            "left": null
          }
        },
        "eab1a218cea34df39a3db7d8b77752fa": {
          "model_module": "@jupyter-widgets/base",
          "model_name": "LayoutModel",
          "model_module_version": "1.2.0",
          "state": {
            "_view_name": "LayoutView",
            "grid_template_rows": null,
            "right": null,
            "justify_content": null,
            "_view_module": "@jupyter-widgets/base",
            "overflow": null,
            "_model_module_version": "1.2.0",
            "_view_count": null,
            "flex_flow": null,
            "width": null,
            "min_width": null,
            "border": null,
            "align_items": null,
            "bottom": null,
            "_model_module": "@jupyter-widgets/base",
            "top": null,
            "grid_column": null,
            "overflow_y": null,
            "overflow_x": null,
            "grid_auto_flow": null,
            "grid_area": null,
            "grid_template_columns": null,
            "flex": null,
            "_model_name": "LayoutModel",
            "justify_items": null,
            "grid_row": null,
            "max_height": null,
            "align_content": null,
            "visibility": null,
            "align_self": null,
            "height": null,
            "min_height": null,
            "padding": null,
            "grid_auto_rows": null,
            "grid_gap": null,
            "max_width": null,
            "order": null,
            "_view_module_version": "1.2.0",
            "grid_template_areas": null,
            "object_position": null,
            "object_fit": null,
            "grid_auto_columns": null,
            "margin": null,
            "display": null,
            "left": null
          }
        },
        "c9f9d1263aa84411b9706c151963a004": {
          "model_module": "@jupyter-widgets/controls",
          "model_name": "VBoxModel",
          "model_module_version": "1.5.0",
          "state": {
            "_view_name": "VBoxView",
            "_dom_classes": [
              "widget-interact"
            ],
            "_model_name": "VBoxModel",
            "_view_module": "@jupyter-widgets/controls",
            "_model_module_version": "1.5.0",
            "_view_count": null,
            "_view_module_version": "1.5.0",
            "box_style": "",
            "layout": "IPY_MODEL_9aa7c42f75174b0f88f937baabbdbf4a",
            "_model_module": "@jupyter-widgets/controls",
            "children": [
              "IPY_MODEL_e5e3771e0f1d46a59d02af764f1de85c",
              "IPY_MODEL_6806fe804b3948398a99fc85c76704b7",
              "IPY_MODEL_8cada7894db24335b2644e4e89752ddb"
            ]
          }
        },
        "9aa7c42f75174b0f88f937baabbdbf4a": {
          "model_module": "@jupyter-widgets/base",
          "model_name": "LayoutModel",
          "model_module_version": "1.2.0",
          "state": {
            "_view_name": "LayoutView",
            "grid_template_rows": null,
            "right": null,
            "justify_content": null,
            "_view_module": "@jupyter-widgets/base",
            "overflow": null,
            "_model_module_version": "1.2.0",
            "_view_count": null,
            "flex_flow": null,
            "width": null,
            "min_width": null,
            "border": null,
            "align_items": null,
            "bottom": null,
            "_model_module": "@jupyter-widgets/base",
            "top": null,
            "grid_column": null,
            "overflow_y": null,
            "overflow_x": null,
            "grid_auto_flow": null,
            "grid_area": null,
            "grid_template_columns": null,
            "flex": null,
            "_model_name": "LayoutModel",
            "justify_items": null,
            "grid_row": null,
            "max_height": null,
            "align_content": null,
            "visibility": null,
            "align_self": null,
            "height": null,
            "min_height": null,
            "padding": null,
            "grid_auto_rows": null,
            "grid_gap": null,
            "max_width": null,
            "order": null,
            "_view_module_version": "1.2.0",
            "grid_template_areas": null,
            "object_position": null,
            "object_fit": null,
            "grid_auto_columns": null,
            "margin": null,
            "display": null,
            "left": null
          }
        },
        "e5e3771e0f1d46a59d02af764f1de85c": {
          "model_module": "@jupyter-widgets/controls",
          "model_name": "DropdownModel",
          "model_module_version": "1.5.0",
          "state": {
            "_options_labels": [
              "2020",
              "2021"
            ],
            "_view_name": "DropdownView",
            "style": "IPY_MODEL_b7503179aa194c918734444ec0d76f0e",
            "_dom_classes": [],
            "description": "year",
            "_model_name": "DropdownModel",
            "index": 1,
            "_view_module": "@jupyter-widgets/controls",
            "_model_module_version": "1.5.0",
            "_view_count": null,
            "disabled": false,
            "_view_module_version": "1.5.0",
            "description_tooltip": null,
            "_model_module": "@jupyter-widgets/controls",
            "layout": "IPY_MODEL_a6e8793c4a2a4accb0f2dc1a4ee86a47"
          }
        },
        "6806fe804b3948398a99fc85c76704b7": {
          "model_module": "@jupyter-widgets/controls",
          "model_name": "DropdownModel",
          "model_module_version": "1.5.0",
          "state": {
            "_options_labels": [
              "5",
              "3",
              "4",
              "10",
              "7",
              "1",
              "8",
              "9",
              "6",
              "2"
            ],
            "_view_name": "DropdownView",
            "style": "IPY_MODEL_bf7f3f439e494d098b51ada6ab9562e2",
            "_dom_classes": [],
            "description": "rooms",
            "_model_name": "DropdownModel",
            "index": 2,
            "_view_module": "@jupyter-widgets/controls",
            "_model_module_version": "1.5.0",
            "_view_count": null,
            "disabled": false,
            "_view_module_version": "1.5.0",
            "description_tooltip": null,
            "_model_module": "@jupyter-widgets/controls",
            "layout": "IPY_MODEL_cbe715b99d414d5b9759e797c113fb99"
          }
        },
        "8cada7894db24335b2644e4e89752ddb": {
          "model_module": "@jupyter-widgets/output",
          "model_name": "OutputModel",
          "model_module_version": "1.0.0",
          "state": {
            "_view_name": "OutputView",
            "msg_id": "",
            "_dom_classes": [],
            "_model_name": "OutputModel",
            "outputs": [
              {
                "output_type": "display_data",
                "metadata": {
                  "tags": []
                },
                "text/html": "<html>\n<head><meta charset=\"utf-8\" /></head>\n<body>\n    <div>\n            <script src=\"https://cdnjs.cloudflare.com/ajax/libs/mathjax/2.7.5/MathJax.js?config=TeX-AMS-MML_SVG\"></script><script type=\"text/javascript\">if (window.MathJax) {MathJax.Hub.Config({SVG: {font: \"STIX-Web\"}});}</script>\n                <script type=\"text/javascript\">window.PlotlyConfig = {MathJaxConfig: 'local'};</script>\n        <script src=\"https://cdn.plot.ly/plotly-latest.min.js\"></script>    \n            <div id=\"4fe4c704-83f8-4b24-bd59-c13765f4b012\" class=\"plotly-graph-div\" style=\"height:400px; width:900px;\"></div>\n            <script type=\"text/javascript\">\n                \n                    window.PLOTLYENV=window.PLOTLYENV || {};\n                    \n                if (document.getElementById(\"4fe4c704-83f8-4b24-bd59-c13765f4b012\")) {\n                    Plotly.newPlot(\n                        '4fe4c704-83f8-4b24-bd59-c13765f4b012',\n                        [{\"alignmentgroup\": \"True\", \"hoverlabel\": {\"namelength\": 0}, \"hovertemplate\": \"month=%{x}<br>price=%{y}\", \"legendgroup\": \"\", \"marker\": {\"color\": \"#636efa\"}, \"name\": \"\", \"offsetgroup\": \"\", \"orientation\": \"v\", \"showlegend\": false, \"textposition\": \"auto\", \"type\": \"bar\", \"x\": [1, 2, 3, 4, 5, 6, 7, 10, 11, 12], \"xaxis\": \"x\", \"y\": [326666.6666666667, 720000.0, 625000.0, 216462.5, 475000.0, 329150.0, 322125.0, null, null, null], \"yaxis\": \"y\"}],\n                        {\"barmode\": \"relative\", \"height\": 400, \"legend\": {\"tracegroupgap\": 0}, \"template\": {\"data\": {\"bar\": [{\"error_x\": {\"color\": \"#2a3f5f\"}, \"error_y\": {\"color\": \"#2a3f5f\"}, \"marker\": {\"line\": {\"color\": \"#E5ECF6\", \"width\": 0.5}}, \"type\": \"bar\"}], \"barpolar\": [{\"marker\": {\"line\": {\"color\": \"#E5ECF6\", \"width\": 0.5}}, \"type\": \"barpolar\"}], \"carpet\": [{\"aaxis\": {\"endlinecolor\": \"#2a3f5f\", \"gridcolor\": \"white\", \"linecolor\": \"white\", \"minorgridcolor\": \"white\", \"startlinecolor\": \"#2a3f5f\"}, \"baxis\": {\"endlinecolor\": \"#2a3f5f\", \"gridcolor\": \"white\", \"linecolor\": \"white\", \"minorgridcolor\": \"white\", \"startlinecolor\": \"#2a3f5f\"}, \"type\": \"carpet\"}], \"choropleth\": [{\"colorbar\": {\"outlinewidth\": 0, \"ticks\": \"\"}, \"type\": \"choropleth\"}], \"contour\": [{\"colorbar\": {\"outlinewidth\": 0, \"ticks\": \"\"}, \"colorscale\": [[0.0, \"#0d0887\"], [0.1111111111111111, \"#46039f\"], [0.2222222222222222, \"#7201a8\"], [0.3333333333333333, \"#9c179e\"], [0.4444444444444444, \"#bd3786\"], [0.5555555555555556, \"#d8576b\"], [0.6666666666666666, \"#ed7953\"], [0.7777777777777778, \"#fb9f3a\"], [0.8888888888888888, \"#fdca26\"], [1.0, \"#f0f921\"]], \"type\": \"contour\"}], \"contourcarpet\": [{\"colorbar\": {\"outlinewidth\": 0, \"ticks\": \"\"}, \"type\": \"contourcarpet\"}], \"heatmap\": [{\"colorbar\": {\"outlinewidth\": 0, \"ticks\": \"\"}, \"colorscale\": [[0.0, \"#0d0887\"], [0.1111111111111111, \"#46039f\"], [0.2222222222222222, \"#7201a8\"], [0.3333333333333333, \"#9c179e\"], [0.4444444444444444, \"#bd3786\"], [0.5555555555555556, \"#d8576b\"], [0.6666666666666666, \"#ed7953\"], [0.7777777777777778, \"#fb9f3a\"], [0.8888888888888888, \"#fdca26\"], [1.0, \"#f0f921\"]], \"type\": \"heatmap\"}], \"heatmapgl\": [{\"colorbar\": {\"outlinewidth\": 0, \"ticks\": \"\"}, \"colorscale\": [[0.0, \"#0d0887\"], [0.1111111111111111, \"#46039f\"], [0.2222222222222222, \"#7201a8\"], [0.3333333333333333, \"#9c179e\"], [0.4444444444444444, \"#bd3786\"], [0.5555555555555556, \"#d8576b\"], [0.6666666666666666, \"#ed7953\"], [0.7777777777777778, \"#fb9f3a\"], [0.8888888888888888, \"#fdca26\"], [1.0, \"#f0f921\"]], \"type\": \"heatmapgl\"}], \"histogram\": [{\"marker\": {\"colorbar\": {\"outlinewidth\": 0, \"ticks\": \"\"}}, \"type\": \"histogram\"}], \"histogram2d\": [{\"colorbar\": {\"outlinewidth\": 0, \"ticks\": \"\"}, \"colorscale\": [[0.0, \"#0d0887\"], [0.1111111111111111, \"#46039f\"], [0.2222222222222222, \"#7201a8\"], [0.3333333333333333, \"#9c179e\"], [0.4444444444444444, \"#bd3786\"], [0.5555555555555556, \"#d8576b\"], [0.6666666666666666, \"#ed7953\"], [0.7777777777777778, \"#fb9f3a\"], [0.8888888888888888, \"#fdca26\"], [1.0, \"#f0f921\"]], \"type\": \"histogram2d\"}], \"histogram2dcontour\": [{\"colorbar\": {\"outlinewidth\": 0, \"ticks\": \"\"}, \"colorscale\": [[0.0, \"#0d0887\"], [0.1111111111111111, \"#46039f\"], [0.2222222222222222, \"#7201a8\"], [0.3333333333333333, \"#9c179e\"], [0.4444444444444444, \"#bd3786\"], [0.5555555555555556, \"#d8576b\"], [0.6666666666666666, \"#ed7953\"], [0.7777777777777778, \"#fb9f3a\"], [0.8888888888888888, \"#fdca26\"], [1.0, \"#f0f921\"]], \"type\": \"histogram2dcontour\"}], \"mesh3d\": [{\"colorbar\": {\"outlinewidth\": 0, \"ticks\": \"\"}, \"type\": \"mesh3d\"}], \"parcoords\": [{\"line\": {\"colorbar\": {\"outlinewidth\": 0, \"ticks\": \"\"}}, \"type\": \"parcoords\"}], \"pie\": [{\"automargin\": true, \"type\": \"pie\"}], \"scatter\": [{\"marker\": {\"colorbar\": {\"outlinewidth\": 0, \"ticks\": \"\"}}, \"type\": \"scatter\"}], \"scatter3d\": [{\"line\": {\"colorbar\": {\"outlinewidth\": 0, \"ticks\": \"\"}}, \"marker\": {\"colorbar\": {\"outlinewidth\": 0, \"ticks\": \"\"}}, \"type\": \"scatter3d\"}], \"scattercarpet\": [{\"marker\": {\"colorbar\": {\"outlinewidth\": 0, \"ticks\": \"\"}}, \"type\": \"scattercarpet\"}], \"scattergeo\": [{\"marker\": {\"colorbar\": {\"outlinewidth\": 0, \"ticks\": \"\"}}, \"type\": \"scattergeo\"}], \"scattergl\": [{\"marker\": {\"colorbar\": {\"outlinewidth\": 0, \"ticks\": \"\"}}, \"type\": \"scattergl\"}], \"scattermapbox\": [{\"marker\": {\"colorbar\": {\"outlinewidth\": 0, \"ticks\": \"\"}}, \"type\": \"scattermapbox\"}], \"scatterpolar\": [{\"marker\": {\"colorbar\": {\"outlinewidth\": 0, \"ticks\": \"\"}}, \"type\": \"scatterpolar\"}], \"scatterpolargl\": [{\"marker\": {\"colorbar\": {\"outlinewidth\": 0, \"ticks\": \"\"}}, \"type\": \"scatterpolargl\"}], \"scatterternary\": [{\"marker\": {\"colorbar\": {\"outlinewidth\": 0, \"ticks\": \"\"}}, \"type\": \"scatterternary\"}], \"surface\": [{\"colorbar\": {\"outlinewidth\": 0, \"ticks\": \"\"}, \"colorscale\": [[0.0, \"#0d0887\"], [0.1111111111111111, \"#46039f\"], [0.2222222222222222, \"#7201a8\"], [0.3333333333333333, \"#9c179e\"], [0.4444444444444444, \"#bd3786\"], [0.5555555555555556, \"#d8576b\"], [0.6666666666666666, \"#ed7953\"], [0.7777777777777778, \"#fb9f3a\"], [0.8888888888888888, \"#fdca26\"], [1.0, \"#f0f921\"]], \"type\": \"surface\"}], \"table\": [{\"cells\": {\"fill\": {\"color\": \"#EBF0F8\"}, \"line\": {\"color\": \"white\"}}, \"header\": {\"fill\": {\"color\": \"#C8D4E3\"}, \"line\": {\"color\": \"white\"}}, \"type\": \"table\"}]}, \"layout\": {\"annotationdefaults\": {\"arrowcolor\": \"#2a3f5f\", \"arrowhead\": 0, \"arrowwidth\": 1}, \"coloraxis\": {\"colorbar\": {\"outlinewidth\": 0, \"ticks\": \"\"}}, \"colorscale\": {\"diverging\": [[0, \"#8e0152\"], [0.1, \"#c51b7d\"], [0.2, \"#de77ae\"], [0.3, \"#f1b6da\"], [0.4, \"#fde0ef\"], [0.5, \"#f7f7f7\"], [0.6, \"#e6f5d0\"], [0.7, \"#b8e186\"], [0.8, \"#7fbc41\"], [0.9, \"#4d9221\"], [1, \"#276419\"]], \"sequential\": [[0.0, \"#0d0887\"], [0.1111111111111111, \"#46039f\"], [0.2222222222222222, \"#7201a8\"], [0.3333333333333333, \"#9c179e\"], [0.4444444444444444, \"#bd3786\"], [0.5555555555555556, \"#d8576b\"], [0.6666666666666666, \"#ed7953\"], [0.7777777777777778, \"#fb9f3a\"], [0.8888888888888888, \"#fdca26\"], [1.0, \"#f0f921\"]], \"sequentialminus\": [[0.0, \"#0d0887\"], [0.1111111111111111, \"#46039f\"], [0.2222222222222222, \"#7201a8\"], [0.3333333333333333, \"#9c179e\"], [0.4444444444444444, \"#bd3786\"], [0.5555555555555556, \"#d8576b\"], [0.6666666666666666, \"#ed7953\"], [0.7777777777777778, \"#fb9f3a\"], [0.8888888888888888, \"#fdca26\"], [1.0, \"#f0f921\"]]}, \"colorway\": [\"#636efa\", \"#EF553B\", \"#00cc96\", \"#ab63fa\", \"#FFA15A\", \"#19d3f3\", \"#FF6692\", \"#B6E880\", \"#FF97FF\", \"#FECB52\"], \"font\": {\"color\": \"#2a3f5f\"}, \"geo\": {\"bgcolor\": \"white\", \"lakecolor\": \"white\", \"landcolor\": \"#E5ECF6\", \"showlakes\": true, \"showland\": true, \"subunitcolor\": \"white\"}, \"hoverlabel\": {\"align\": \"left\"}, \"hovermode\": \"closest\", \"mapbox\": {\"style\": \"light\"}, \"paper_bgcolor\": \"white\", \"plot_bgcolor\": \"#E5ECF6\", \"polar\": {\"angularaxis\": {\"gridcolor\": \"white\", \"linecolor\": \"white\", \"ticks\": \"\"}, \"bgcolor\": \"#E5ECF6\", \"radialaxis\": {\"gridcolor\": \"white\", \"linecolor\": \"white\", \"ticks\": \"\"}}, \"scene\": {\"xaxis\": {\"backgroundcolor\": \"#E5ECF6\", \"gridcolor\": \"white\", \"gridwidth\": 2, \"linecolor\": \"white\", \"showbackground\": true, \"ticks\": \"\", \"zerolinecolor\": \"white\"}, \"yaxis\": {\"backgroundcolor\": \"#E5ECF6\", \"gridcolor\": \"white\", \"gridwidth\": 2, \"linecolor\": \"white\", \"showbackground\": true, \"ticks\": \"\", \"zerolinecolor\": \"white\"}, \"zaxis\": {\"backgroundcolor\": \"#E5ECF6\", \"gridcolor\": \"white\", \"gridwidth\": 2, \"linecolor\": \"white\", \"showbackground\": true, \"ticks\": \"\", \"zerolinecolor\": \"white\"}}, \"shapedefaults\": {\"line\": {\"color\": \"#2a3f5f\"}}, \"ternary\": {\"aaxis\": {\"gridcolor\": \"white\", \"linecolor\": \"white\", \"ticks\": \"\"}, \"baxis\": {\"gridcolor\": \"white\", \"linecolor\": \"white\", \"ticks\": \"\"}, \"bgcolor\": \"#E5ECF6\", \"caxis\": {\"gridcolor\": \"white\", \"linecolor\": \"white\", \"ticks\": \"\"}}, \"title\": {\"x\": 0.05}, \"xaxis\": {\"automargin\": true, \"gridcolor\": \"white\", \"linecolor\": \"white\", \"ticks\": \"\", \"title\": {\"standoff\": 15}, \"zerolinecolor\": \"white\", \"zerolinewidth\": 2}, \"yaxis\": {\"automargin\": true, \"gridcolor\": \"white\", \"linecolor\": \"white\", \"ticks\": \"\", \"title\": {\"standoff\": 15}, \"zerolinecolor\": \"white\", \"zerolinewidth\": 2}}}, \"title\": {\"text\": \"Apartments in Quito\"}, \"width\": 900, \"xaxis\": {\"anchor\": \"y\", \"domain\": [0.0, 1.0], \"title\": {\"text\": \"month\"}}, \"yaxis\": {\"anchor\": \"x\", \"domain\": [0.0, 1.0], \"title\": {\"text\": \"price\"}}},\n                        {\"responsive\": true}\n                    ).then(function(){\n                            \nvar gd = document.getElementById('4fe4c704-83f8-4b24-bd59-c13765f4b012');\nvar x = new MutationObserver(function (mutations, observer) {{\n        var display = window.getComputedStyle(gd).display;\n        if (!display || display === 'none') {{\n            console.log([gd, 'removed!']);\n            Plotly.purge(gd);\n            observer.disconnect();\n        }}\n}});\n\n// Listen for the removal of the full notebook cells\nvar notebookContainer = gd.closest('#notebook-container');\nif (notebookContainer) {{\n    x.observe(notebookContainer, {childList: true});\n}}\n\n// Listen for the clearing of the current output cell\nvar outputEl = gd.closest('.output');\nif (outputEl) {{\n    x.observe(outputEl, {childList: true});\n}}\n\n                        })\n                };\n                \n            </script>\n        </div>\n</body>\n</html>"
              }
            ],
            "_view_module": "@jupyter-widgets/output",
            "_model_module_version": "1.0.0",
            "_view_count": null,
            "_view_module_version": "1.0.0",
            "layout": "IPY_MODEL_dc4be112a93a414f82e7be6c697d79d7",
            "_model_module": "@jupyter-widgets/output"
          }
        },
        "b7503179aa194c918734444ec0d76f0e": {
          "model_module": "@jupyter-widgets/controls",
          "model_name": "DescriptionStyleModel",
          "model_module_version": "1.5.0",
          "state": {
            "_view_name": "StyleView",
            "_model_name": "DescriptionStyleModel",
            "description_width": "",
            "_view_module": "@jupyter-widgets/base",
            "_model_module_version": "1.5.0",
            "_view_count": null,
            "_view_module_version": "1.2.0",
            "_model_module": "@jupyter-widgets/controls"
          }
        },
        "a6e8793c4a2a4accb0f2dc1a4ee86a47": {
          "model_module": "@jupyter-widgets/base",
          "model_name": "LayoutModel",
          "model_module_version": "1.2.0",
          "state": {
            "_view_name": "LayoutView",
            "grid_template_rows": null,
            "right": null,
            "justify_content": null,
            "_view_module": "@jupyter-widgets/base",
            "overflow": null,
            "_model_module_version": "1.2.0",
            "_view_count": null,
            "flex_flow": null,
            "width": null,
            "min_width": null,
            "border": null,
            "align_items": null,
            "bottom": null,
            "_model_module": "@jupyter-widgets/base",
            "top": null,
            "grid_column": null,
            "overflow_y": null,
            "overflow_x": null,
            "grid_auto_flow": null,
            "grid_area": null,
            "grid_template_columns": null,
            "flex": null,
            "_model_name": "LayoutModel",
            "justify_items": null,
            "grid_row": null,
            "max_height": null,
            "align_content": null,
            "visibility": null,
            "align_self": null,
            "height": null,
            "min_height": null,
            "padding": null,
            "grid_auto_rows": null,
            "grid_gap": null,
            "max_width": null,
            "order": null,
            "_view_module_version": "1.2.0",
            "grid_template_areas": null,
            "object_position": null,
            "object_fit": null,
            "grid_auto_columns": null,
            "margin": null,
            "display": null,
            "left": null
          }
        },
        "bf7f3f439e494d098b51ada6ab9562e2": {
          "model_module": "@jupyter-widgets/controls",
          "model_name": "DescriptionStyleModel",
          "model_module_version": "1.5.0",
          "state": {
            "_view_name": "StyleView",
            "_model_name": "DescriptionStyleModel",
            "description_width": "",
            "_view_module": "@jupyter-widgets/base",
            "_model_module_version": "1.5.0",
            "_view_count": null,
            "_view_module_version": "1.2.0",
            "_model_module": "@jupyter-widgets/controls"
          }
        },
        "cbe715b99d414d5b9759e797c113fb99": {
          "model_module": "@jupyter-widgets/base",
          "model_name": "LayoutModel",
          "model_module_version": "1.2.0",
          "state": {
            "_view_name": "LayoutView",
            "grid_template_rows": null,
            "right": null,
            "justify_content": null,
            "_view_module": "@jupyter-widgets/base",
            "overflow": null,
            "_model_module_version": "1.2.0",
            "_view_count": null,
            "flex_flow": null,
            "width": null,
            "min_width": null,
            "border": null,
            "align_items": null,
            "bottom": null,
            "_model_module": "@jupyter-widgets/base",
            "top": null,
            "grid_column": null,
            "overflow_y": null,
            "overflow_x": null,
            "grid_auto_flow": null,
            "grid_area": null,
            "grid_template_columns": null,
            "flex": null,
            "_model_name": "LayoutModel",
            "justify_items": null,
            "grid_row": null,
            "max_height": null,
            "align_content": null,
            "visibility": null,
            "align_self": null,
            "height": null,
            "min_height": null,
            "padding": null,
            "grid_auto_rows": null,
            "grid_gap": null,
            "max_width": null,
            "order": null,
            "_view_module_version": "1.2.0",
            "grid_template_areas": null,
            "object_position": null,
            "object_fit": null,
            "grid_auto_columns": null,
            "margin": null,
            "display": null,
            "left": null
          }
        },
        "dc4be112a93a414f82e7be6c697d79d7": {
          "model_module": "@jupyter-widgets/base",
          "model_name": "LayoutModel",
          "model_module_version": "1.2.0",
          "state": {
            "_view_name": "LayoutView",
            "grid_template_rows": null,
            "right": null,
            "justify_content": null,
            "_view_module": "@jupyter-widgets/base",
            "overflow": null,
            "_model_module_version": "1.2.0",
            "_view_count": null,
            "flex_flow": null,
            "width": null,
            "min_width": null,
            "border": null,
            "align_items": null,
            "bottom": null,
            "_model_module": "@jupyter-widgets/base",
            "top": null,
            "grid_column": null,
            "overflow_y": null,
            "overflow_x": null,
            "grid_auto_flow": null,
            "grid_area": null,
            "grid_template_columns": null,
            "flex": null,
            "_model_name": "LayoutModel",
            "justify_items": null,
            "grid_row": null,
            "max_height": null,
            "align_content": null,
            "visibility": null,
            "align_self": null,
            "height": null,
            "min_height": null,
            "padding": null,
            "grid_auto_rows": null,
            "grid_gap": null,
            "max_width": null,
            "order": null,
            "_view_module_version": "1.2.0",
            "grid_template_areas": null,
            "object_position": null,
            "object_fit": null,
            "grid_auto_columns": null,
            "margin": null,
            "display": null,
            "left": null
          }
        }
      }
    }
  },
  "cells": [
    {
      "cell_type": "markdown",
      "metadata": {
        "id": "view-in-github",
        "colab_type": "text"
      },
      "source": [
        "<a href=\"https://colab.research.google.com/github/gabrielborja/python_data_analysis/blob/main/real_state_analytics.ipynb\" target=\"_parent\"><img src=\"https://colab.research.google.com/assets/colab-badge.svg\" alt=\"Open In Colab\"/></a>"
      ]
    },
    {
      "cell_type": "markdown",
      "metadata": {
        "id": "eTZwpRZNRhGY"
      },
      "source": [
        "#Real State Analytics"
      ]
    },
    {
      "cell_type": "markdown",
      "metadata": {
        "id": "urSYFOWesvzU"
      },
      "source": [
        "Real state data from apartments for sale in Quito - Ecuador can be obtained from the following link [here](https://www.properati.com.ec/s/la-carolina/departamento/venta/m2:60-70_habitaciones:1/?sort=published_on_desc)"
      ]
    },
    {
      "cell_type": "markdown",
      "metadata": {
        "id": "sgzkv1LwjLIL"
      },
      "source": [
        "## Uploading packages and data"
      ]
    },
    {
      "cell_type": "code",
      "metadata": {
        "id": "QTRtRZcb-IyF"
      },
      "source": [
        "#Importing HTTP libraries\n",
        "import requests\n",
        "import pprint\n",
        "from bs4 import BeautifulSoup as bs"
      ],
      "execution_count": 1,
      "outputs": []
    },
    {
      "cell_type": "code",
      "metadata": {
        "id": "RHzc7K6UJDvR"
      },
      "source": [
        "#Importing data manipulation libraries\n",
        "import numpy as np\n",
        "import pandas as pd\n",
        "from time import sleep\n",
        "from random import randint"
      ],
      "execution_count": 2,
      "outputs": []
    },
    {
      "cell_type": "markdown",
      "metadata": {
        "id": "Qd76FNGixVGx"
      },
      "source": [
        "##Retrieving data from URL"
      ]
    },
    {
      "cell_type": "code",
      "metadata": {
        "id": "iRKLMxgWhorK"
      },
      "source": [
        "#class requests.Response\n",
        "#Response.elapsed, Response.encoding, Response.headers, Response.json, Response.status_code, Response.text, Response.url"
      ],
      "execution_count": null,
      "outputs": []
    },
    {
      "cell_type": "code",
      "metadata": {
        "id": "W1pXcNFlFXFP"
      },
      "source": [
        "#Create a function to retrieve data from given URL\n",
        "def get_url(url):\n",
        "  \"\"\"Retrieve data from given URL and return a dataframe\"\"\"\n",
        "  \n",
        "  #Get data and parse with BeautifulSoup\n",
        "  try:\n",
        "    response = requests.get(url)\n",
        "    print(response)\n",
        "    #pprint.pprint(response.text[:200]) #Print first 200 char from HTML.\n",
        "    soup = bs(response.text, 'html.parser')\n",
        "\n",
        "    #Save retrieved data to lists\n",
        "    d1_names = [i.text for i in soup.find_all(class_ ='bwJAej')]\n",
        "    d1_location = [i.text for i in soup.find_all(class_ = 'fqaBNm')]\n",
        "    d1_prices = [i.text for i in soup.find_all(class_ ='bZCCaW')]\n",
        "    d1_rooms = [i.span.text for i in soup.find_all(class_ = 'fgcFIO') if 'habitaci' in i.text]\n",
        "    d1_bathrooms = [i.text for i in soup.find_all('span') if 'baño' in i.text]\n",
        "    d1_sqr_meters = [i.text for i in soup.find_all('span') if 'm²' in i.text]\n",
        "    d1_seller_names = [i.text for i in soup.find_all(class_ = 'seller-name')]\n",
        "    d1_times = [i['datetime'] for i in soup.find_all('time')]\n",
        "    \n",
        "    #Save data to dataframe\n",
        "    df = pd.DataFrame()\n",
        "    df = df.assign(date=d1_times, name=d1_names, location=d1_location,\n",
        "                   price=d1_prices, rooms=d1_rooms, bathrooms=d1_bathrooms,\n",
        "                   sqr_meters=d1_sqr_meters, seller=d1_seller_names)\n",
        "    return df\n",
        "\n",
        "  except requests.exceptions.RequestException as e:\n",
        "    print(e)"
      ],
      "execution_count": 3,
      "outputs": []
    },
    {
      "cell_type": "code",
      "metadata": {
        "colab": {
          "base_uri": "https://localhost:8080/"
        },
        "id": "yiS7mDnauCf3",
        "outputId": "487ec2f3-d8f4-4d97-a5d3-a3c5e0864096"
      },
      "source": [
        "#Scraping apartments from mulitple pages and saving the returned dataframes to a list\n",
        "data = []\n",
        "url = 'https://www.properati.com.ec/s/inaquito/departamento/venta/publicados:ultimos-7-dias_m2:23-10000_habitaciones:1,2,3_ba%C3%B1os:1,2,3,4,5-_precio:0-2000000?sort=published_on_desc&page='\n",
        "\n",
        "for i in range(1, 3):\n",
        "  page = url + str(i)\n",
        "  data.append(get_url(page))\n",
        "  sleep(randint(3,8))\n"
      ],
      "execution_count": 4,
      "outputs": [
        {
          "output_type": "stream",
          "text": [
            "<Response [200]>\n",
            "<Response [200]>\n"
          ],
          "name": "stdout"
        }
      ]
    },
    {
      "cell_type": "code",
      "metadata": {
        "colab": {
          "base_uri": "https://localhost:8080/",
          "height": 79
        },
        "id": "bcpAMU3VvIoV",
        "outputId": "e5d433a2-3029-48ae-c339-c58c60c7b76e"
      },
      "source": [
        "#Checking one of the returned dataframes inside list\n",
        "data[1].tail()"
      ],
      "execution_count": 6,
      "outputs": [
        {
          "output_type": "execute_result",
          "data": {
            "text/html": [
              "<div>\n",
              "<style scoped>\n",
              "    .dataframe tbody tr th:only-of-type {\n",
              "        vertical-align: middle;\n",
              "    }\n",
              "\n",
              "    .dataframe tbody tr th {\n",
              "        vertical-align: top;\n",
              "    }\n",
              "\n",
              "    .dataframe thead th {\n",
              "        text-align: right;\n",
              "    }\n",
              "</style>\n",
              "<table border=\"1\" class=\"dataframe\">\n",
              "  <thead>\n",
              "    <tr style=\"text-align: right;\">\n",
              "      <th></th>\n",
              "      <th>date</th>\n",
              "      <th>name</th>\n",
              "      <th>location</th>\n",
              "      <th>price</th>\n",
              "      <th>rooms</th>\n",
              "      <th>bathrooms</th>\n",
              "      <th>sqr_meters</th>\n",
              "      <th>seller</th>\n",
              "    </tr>\n",
              "  </thead>\n",
              "  <tbody>\n",
              "    <tr>\n",
              "      <th>0</th>\n",
              "      <td>2021-08-23T00:00:00.000Z</td>\n",
              "      <td>Departamento en Bellavista</td>\n",
              "      <td>Bellavista, Iñaquito, Centro Norte, Quito, Pic...</td>\n",
              "      <td>$ 185.000</td>\n",
              "      <td>3 habitaciones</td>\n",
              "      <td>3 baños</td>\n",
              "      <td>140 m²</td>\n",
              "      <td>CONEXIÓN-INMOBILIARIA</td>\n",
              "    </tr>\n",
              "  </tbody>\n",
              "</table>\n",
              "</div>"
            ],
            "text/plain": [
              "                       date  ...                 seller\n",
              "0  2021-08-23T00:00:00.000Z  ...  CONEXIÓN-INMOBILIARIA\n",
              "\n",
              "[1 rows x 8 columns]"
            ]
          },
          "metadata": {},
          "execution_count": 6
        }
      ]
    },
    {
      "cell_type": "code",
      "metadata": {
        "id": "fn30qKwZlCLq",
        "colab": {
          "base_uri": "https://localhost:8080/"
        },
        "outputId": "bb00c08b-d611-4c91-c18f-99d5e8b49e11"
      },
      "source": [
        "#Concatenating dataframes from list\n",
        "df1 = pd.concat(objs=[i for i in data], ignore_index=True)\n",
        "df1.shape #==> from page 1 to the end"
      ],
      "execution_count": 7,
      "outputs": [
        {
          "output_type": "execute_result",
          "data": {
            "text/plain": [
              "(31, 8)"
            ]
          },
          "metadata": {},
          "execution_count": 7
        }
      ]
    },
    {
      "cell_type": "code",
      "metadata": {
        "id": "1wXsgb8cJZqF",
        "colab": {
          "base_uri": "https://localhost:8080/",
          "height": 17
        },
        "outputId": "092576bd-9756-43c6-ebee-1ad7e6bae874"
      },
      "source": [
        "#Exporting to excel into local disk\n",
        "from google.colab import files\n",
        "df1.to_excel('2021_08_28_inaquito.xlsx', index=False) #==> Excluding index from file\n",
        "files.download('2021_08_28_inaquito.xlsx')"
      ],
      "execution_count": 8,
      "outputs": [
        {
          "output_type": "display_data",
          "data": {
            "application/javascript": [
              "\n",
              "    async function download(id, filename, size) {\n",
              "      if (!google.colab.kernel.accessAllowed) {\n",
              "        return;\n",
              "      }\n",
              "      const div = document.createElement('div');\n",
              "      const label = document.createElement('label');\n",
              "      label.textContent = `Downloading \"${filename}\": `;\n",
              "      div.appendChild(label);\n",
              "      const progress = document.createElement('progress');\n",
              "      progress.max = size;\n",
              "      div.appendChild(progress);\n",
              "      document.body.appendChild(div);\n",
              "\n",
              "      const buffers = [];\n",
              "      let downloaded = 0;\n",
              "\n",
              "      const channel = await google.colab.kernel.comms.open(id);\n",
              "      // Send a message to notify the kernel that we're ready.\n",
              "      channel.send({})\n",
              "\n",
              "      for await (const message of channel.messages) {\n",
              "        // Send a message to notify the kernel that we're ready.\n",
              "        channel.send({})\n",
              "        if (message.buffers) {\n",
              "          for (const buffer of message.buffers) {\n",
              "            buffers.push(buffer);\n",
              "            downloaded += buffer.byteLength;\n",
              "            progress.value = downloaded;\n",
              "          }\n",
              "        }\n",
              "      }\n",
              "      const blob = new Blob(buffers, {type: 'application/binary'});\n",
              "      const a = document.createElement('a');\n",
              "      a.href = window.URL.createObjectURL(blob);\n",
              "      a.download = filename;\n",
              "      div.appendChild(a);\n",
              "      a.click();\n",
              "      div.remove();\n",
              "    }\n",
              "  "
            ],
            "text/plain": [
              "<IPython.core.display.Javascript object>"
            ]
          },
          "metadata": {}
        },
        {
          "output_type": "display_data",
          "data": {
            "application/javascript": [
              "download(\"download_727f24e9-3adc-48fb-9e61-28f1e64b70be\", \"2021_08_28_inaquito.xlsx\", 6513)"
            ],
            "text/plain": [
              "<IPython.core.display.Javascript object>"
            ]
          },
          "metadata": {}
        }
      ]
    },
    {
      "cell_type": "markdown",
      "metadata": {
        "id": "tqw9KPTaMUqA"
      },
      "source": [
        "##Data Cleaning"
      ]
    },
    {
      "cell_type": "code",
      "metadata": {
        "id": "bEZ1_KyKMXNw"
      },
      "source": [
        "#Importing data manipulation libraries\n",
        "import numpy as np\n",
        "import pandas as pd"
      ],
      "execution_count": 9,
      "outputs": []
    },
    {
      "cell_type": "code",
      "metadata": {
        "id": "vSOggGBTT1iG"
      },
      "source": [
        "#Removing previous versions of the uploaded file\n",
        "!rm 2021_08_28_inaquito.xlsx"
      ],
      "execution_count": null,
      "outputs": []
    },
    {
      "cell_type": "code",
      "metadata": {
        "id": "oen97ED1-rh-"
      },
      "source": [
        "#Uploading file from local drive\n",
        "from google.colab import files\n",
        "uploaded1 = files.upload()"
      ],
      "execution_count": null,
      "outputs": []
    },
    {
      "cell_type": "code",
      "metadata": {
        "id": "03VoNwL0-3O6"
      },
      "source": [
        "#Storing dataset in a Pandas Dataframe\n",
        "import io\n",
        "df1 = pd.read_excel(io.BytesIO(uploaded1['2021_07_21_inaquito.xlsx']), parse_dates=True)"
      ],
      "execution_count": null,
      "outputs": []
    },
    {
      "cell_type": "code",
      "metadata": {
        "id": "6wPknHC-JSRB",
        "colab": {
          "base_uri": "https://localhost:8080/"
        },
        "outputId": "4c914594-46a3-4684-c287-b55b01e9b4d5"
      },
      "source": [
        "#Checking the dataframe information\n",
        "df1.info()"
      ],
      "execution_count": 10,
      "outputs": [
        {
          "output_type": "stream",
          "text": [
            "<class 'pandas.core.frame.DataFrame'>\n",
            "RangeIndex: 31 entries, 0 to 30\n",
            "Data columns (total 8 columns):\n",
            " #   Column      Non-Null Count  Dtype \n",
            "---  ------      --------------  ----- \n",
            " 0   date        31 non-null     object\n",
            " 1   name        31 non-null     object\n",
            " 2   location    31 non-null     object\n",
            " 3   price       31 non-null     object\n",
            " 4   rooms       31 non-null     object\n",
            " 5   bathrooms   31 non-null     object\n",
            " 6   sqr_meters  31 non-null     object\n",
            " 7   seller      31 non-null     object\n",
            "dtypes: object(8)\n",
            "memory usage: 2.1+ KB\n"
          ],
          "name": "stdout"
        }
      ]
    },
    {
      "cell_type": "code",
      "metadata": {
        "id": "6F0h6WY1NIXl"
      },
      "source": [
        "#Checking the dataframe tail\n",
        "df1.tail()"
      ],
      "execution_count": null,
      "outputs": []
    },
    {
      "cell_type": "code",
      "metadata": {
        "id": "_CHIjKkAipPU"
      },
      "source": [
        "#Converting date column to datetime with naive timezone\n",
        "df1['date'] = pd.to_datetime(df1['date'], format='%Y-%m-%d %H:%M:%S').dt.tz_localize(None)#.dt.tz_convert('America/Guayaquil')"
      ],
      "execution_count": 11,
      "outputs": []
    },
    {
      "cell_type": "code",
      "metadata": {
        "colab": {
          "base_uri": "https://localhost:8080/"
        },
        "id": "pBOpCcmmBCmr",
        "outputId": "79657e08-74a1-44b1-dedf-9491c1a10c5b"
      },
      "source": [
        "#Checking data type after datetime conversion\n",
        "df1.info()"
      ],
      "execution_count": 12,
      "outputs": [
        {
          "output_type": "stream",
          "text": [
            "<class 'pandas.core.frame.DataFrame'>\n",
            "RangeIndex: 31 entries, 0 to 30\n",
            "Data columns (total 8 columns):\n",
            " #   Column      Non-Null Count  Dtype         \n",
            "---  ------      --------------  -----         \n",
            " 0   date        31 non-null     datetime64[ns]\n",
            " 1   name        31 non-null     object        \n",
            " 2   location    31 non-null     object        \n",
            " 3   price       31 non-null     object        \n",
            " 4   rooms       31 non-null     object        \n",
            " 5   bathrooms   31 non-null     object        \n",
            " 6   sqr_meters  31 non-null     object        \n",
            " 7   seller      31 non-null     object        \n",
            "dtypes: datetime64[ns](1), object(7)\n",
            "memory usage: 2.1+ KB\n"
          ],
          "name": "stdout"
        }
      ]
    },
    {
      "cell_type": "code",
      "metadata": {
        "id": "yPFouV3xsc-t"
      },
      "source": [
        "#Extracting city and zone from location\n",
        "df1['city'] = [i[3].strip() for i in df1['location'].str.split(',')]\n",
        "df1['zone'] = [i[0].strip() for i in df1['location'].str.split(',')]"
      ],
      "execution_count": 13,
      "outputs": []
    },
    {
      "cell_type": "code",
      "metadata": {
        "id": "igH_4EZylSD0"
      },
      "source": [
        "#Eliminating $ and . from price and convert to int\n",
        "df1['price'] = df1['price'].str.replace('\\$*\\.*', '', regex=True)\n",
        "df1['price'] = df1['price'].astype(int)"
      ],
      "execution_count": 14,
      "outputs": []
    },
    {
      "cell_type": "code",
      "metadata": {
        "id": "5pvs0cNtpSGH"
      },
      "source": [
        "#Converting number of rooms to int\n",
        "df1['rooms'] = [i[0].strip() for i in df1['rooms'].str.split(' ')]\n",
        "df1['rooms'] = df1['rooms'].astype(int)"
      ],
      "execution_count": 15,
      "outputs": []
    },
    {
      "cell_type": "code",
      "metadata": {
        "id": "rKFLSn6rqB6N"
      },
      "source": [
        "#Converting bathrooms to int\n",
        "df1['bathrooms'] = [i[0].strip() for i in df1['bathrooms'].str.split(' ')]\n",
        "df1['bathrooms'] = df1['bathrooms'].astype(int)"
      ],
      "execution_count": 16,
      "outputs": []
    },
    {
      "cell_type": "code",
      "metadata": {
        "id": "3hlh58cKqozP"
      },
      "source": [
        "#Converting square meters to int\n",
        "df1['sqr_meters'] = [i[0].strip() for i in df1['sqr_meters'].str.split(' ')]\n",
        "df1['sqr_meters'] = df1['sqr_meters'].astype(int)"
      ],
      "execution_count": 17,
      "outputs": []
    },
    {
      "cell_type": "code",
      "metadata": {
        "colab": {
          "base_uri": "https://localhost:8080/"
        },
        "id": "sY0ZsPApy8ts",
        "outputId": "3a7ed2b7-f14f-49f5-b4b7-069ec9ac6995"
      },
      "source": [
        "#Checking unique values for square meters\n",
        "df1['sqr_meters'].unique()"
      ],
      "execution_count": 18,
      "outputs": [
        {
          "output_type": "execute_result",
          "data": {
            "text/plain": [
              "array([112, 185, 100,  97,  62,  58,  72,  98,  47,  90,  48, 223, 139,\n",
              "        77, 130, 156,  89, 105, 155, 124, 200, 102, 388,  55, 160, 420,\n",
              "       140])"
            ]
          },
          "metadata": {},
          "execution_count": 18
        }
      ]
    },
    {
      "cell_type": "code",
      "metadata": {
        "id": "5SMyB5n_q4DW"
      },
      "source": [
        "#Converting sellers to title case\n",
        "df1['seller'] = df1['seller'].str.title()"
      ],
      "execution_count": 19,
      "outputs": []
    },
    {
      "cell_type": "code",
      "metadata": {
        "id": "HPTfSQop0WW1"
      },
      "source": [
        "#Rearranging order of columns\n",
        "df1 = df1[['date', 'city', 'zone', 'name', 'seller', 'sqr_meters', 'rooms', 'bathrooms', 'price']]"
      ],
      "execution_count": 20,
      "outputs": []
    },
    {
      "cell_type": "code",
      "metadata": {
        "colab": {
          "base_uri": "https://localhost:8080/",
          "height": 141
        },
        "id": "bVeYEcAgnvFX",
        "outputId": "4261ee33-47c3-4982-865c-bcd2887209e2"
      },
      "source": [
        "#Checking the dataframe tail\n",
        "df1.tail(3)"
      ],
      "execution_count": 21,
      "outputs": [
        {
          "output_type": "execute_result",
          "data": {
            "text/html": [
              "<div>\n",
              "<style scoped>\n",
              "    .dataframe tbody tr th:only-of-type {\n",
              "        vertical-align: middle;\n",
              "    }\n",
              "\n",
              "    .dataframe tbody tr th {\n",
              "        vertical-align: top;\n",
              "    }\n",
              "\n",
              "    .dataframe thead th {\n",
              "        text-align: right;\n",
              "    }\n",
              "</style>\n",
              "<table border=\"1\" class=\"dataframe\">\n",
              "  <thead>\n",
              "    <tr style=\"text-align: right;\">\n",
              "      <th></th>\n",
              "      <th>date</th>\n",
              "      <th>city</th>\n",
              "      <th>zone</th>\n",
              "      <th>name</th>\n",
              "      <th>seller</th>\n",
              "      <th>sqr_meters</th>\n",
              "      <th>rooms</th>\n",
              "      <th>bathrooms</th>\n",
              "      <th>price</th>\n",
              "    </tr>\n",
              "  </thead>\n",
              "  <tbody>\n",
              "    <tr>\n",
              "      <th>28</th>\n",
              "      <td>2021-08-23</td>\n",
              "      <td>Quito</td>\n",
              "      <td>Bellavista</td>\n",
              "      <td>Departamento en Bellavista</td>\n",
              "      <td>Monica Villalba</td>\n",
              "      <td>420</td>\n",
              "      <td>3</td>\n",
              "      <td>4</td>\n",
              "      <td>650000</td>\n",
              "    </tr>\n",
              "    <tr>\n",
              "      <th>29</th>\n",
              "      <td>2021-08-23</td>\n",
              "      <td>Quito</td>\n",
              "      <td>Bellavista</td>\n",
              "      <td>Departamento en Bellavista</td>\n",
              "      <td>Conexión-Inmobiliaria</td>\n",
              "      <td>140</td>\n",
              "      <td>3</td>\n",
              "      <td>3</td>\n",
              "      <td>185000</td>\n",
              "    </tr>\n",
              "    <tr>\n",
              "      <th>30</th>\n",
              "      <td>2021-08-23</td>\n",
              "      <td>Quito</td>\n",
              "      <td>Bellavista</td>\n",
              "      <td>Departamento en Bellavista</td>\n",
              "      <td>Conexión-Inmobiliaria</td>\n",
              "      <td>140</td>\n",
              "      <td>3</td>\n",
              "      <td>3</td>\n",
              "      <td>185000</td>\n",
              "    </tr>\n",
              "  </tbody>\n",
              "</table>\n",
              "</div>"
            ],
            "text/plain": [
              "         date   city        zone  ... rooms bathrooms   price\n",
              "28 2021-08-23  Quito  Bellavista  ...     3         4  650000\n",
              "29 2021-08-23  Quito  Bellavista  ...     3         3  185000\n",
              "30 2021-08-23  Quito  Bellavista  ...     3         3  185000\n",
              "\n",
              "[3 rows x 9 columns]"
            ]
          },
          "metadata": {},
          "execution_count": 21
        }
      ]
    },
    {
      "cell_type": "code",
      "metadata": {
        "colab": {
          "base_uri": "https://localhost:8080/"
        },
        "id": "iqH8ggpZk8UJ",
        "outputId": "32c9a18f-d58f-4061-ab61-4893d59a01a5"
      },
      "source": [
        "#Checking the final version of the dataframe after cleaning\n",
        "df1.info()"
      ],
      "execution_count": 22,
      "outputs": [
        {
          "output_type": "stream",
          "text": [
            "<class 'pandas.core.frame.DataFrame'>\n",
            "RangeIndex: 31 entries, 0 to 30\n",
            "Data columns (total 9 columns):\n",
            " #   Column      Non-Null Count  Dtype         \n",
            "---  ------      --------------  -----         \n",
            " 0   date        31 non-null     datetime64[ns]\n",
            " 1   city        31 non-null     object        \n",
            " 2   zone        31 non-null     object        \n",
            " 3   name        31 non-null     object        \n",
            " 4   seller      31 non-null     object        \n",
            " 5   sqr_meters  31 non-null     int64         \n",
            " 6   rooms       31 non-null     int64         \n",
            " 7   bathrooms   31 non-null     int64         \n",
            " 8   price       31 non-null     int64         \n",
            "dtypes: datetime64[ns](1), int64(4), object(4)\n",
            "memory usage: 2.3+ KB\n"
          ],
          "name": "stdout"
        }
      ]
    },
    {
      "cell_type": "code",
      "metadata": {
        "colab": {
          "base_uri": "https://localhost:8080/",
          "height": 17
        },
        "id": "6eBeWtc8rTTo",
        "outputId": "2398cc62-291f-4cdf-9c92-8dff6137e221"
      },
      "source": [
        "#Exporting to csv into local disk\n",
        "from google.colab import files\n",
        "df1.to_csv('2021_08_28_inaquito.csv', index=False) #==> Excluding index from file\n",
        "files.download('2021_08_28_inaquito.csv')"
      ],
      "execution_count": 23,
      "outputs": [
        {
          "output_type": "display_data",
          "data": {
            "application/javascript": [
              "\n",
              "    async function download(id, filename, size) {\n",
              "      if (!google.colab.kernel.accessAllowed) {\n",
              "        return;\n",
              "      }\n",
              "      const div = document.createElement('div');\n",
              "      const label = document.createElement('label');\n",
              "      label.textContent = `Downloading \"${filename}\": `;\n",
              "      div.appendChild(label);\n",
              "      const progress = document.createElement('progress');\n",
              "      progress.max = size;\n",
              "      div.appendChild(progress);\n",
              "      document.body.appendChild(div);\n",
              "\n",
              "      const buffers = [];\n",
              "      let downloaded = 0;\n",
              "\n",
              "      const channel = await google.colab.kernel.comms.open(id);\n",
              "      // Send a message to notify the kernel that we're ready.\n",
              "      channel.send({})\n",
              "\n",
              "      for await (const message of channel.messages) {\n",
              "        // Send a message to notify the kernel that we're ready.\n",
              "        channel.send({})\n",
              "        if (message.buffers) {\n",
              "          for (const buffer of message.buffers) {\n",
              "            buffers.push(buffer);\n",
              "            downloaded += buffer.byteLength;\n",
              "            progress.value = downloaded;\n",
              "          }\n",
              "        }\n",
              "      }\n",
              "      const blob = new Blob(buffers, {type: 'application/binary'});\n",
              "      const a = document.createElement('a');\n",
              "      a.href = window.URL.createObjectURL(blob);\n",
              "      a.download = filename;\n",
              "      div.appendChild(a);\n",
              "      a.click();\n",
              "      div.remove();\n",
              "    }\n",
              "  "
            ],
            "text/plain": [
              "<IPython.core.display.Javascript object>"
            ]
          },
          "metadata": {}
        },
        {
          "output_type": "display_data",
          "data": {
            "application/javascript": [
              "download(\"download_b770002a-1d17-4644-87b9-3aaa265618ab\", \"2021_08_28_inaquito.csv\", 3087)"
            ],
            "text/plain": [
              "<IPython.core.display.Javascript object>"
            ]
          },
          "metadata": {}
        }
      ]
    },
    {
      "cell_type": "markdown",
      "metadata": {
        "id": "B6KXezvl3NYT"
      },
      "source": [
        "##Apartments EDA"
      ]
    },
    {
      "cell_type": "code",
      "metadata": {
        "id": "XvLR8_0R3PuK"
      },
      "source": [
        "#Plotly --upgrade\n",
        "!pip install plotly --upgrade"
      ],
      "execution_count": null,
      "outputs": []
    },
    {
      "cell_type": "code",
      "metadata": {
        "id": "JB-6dnHj1Ubs"
      },
      "source": [
        "#Removing previous versions of the file\n",
        "!rm 2021_07_17_la_carolina.csv"
      ],
      "execution_count": null,
      "outputs": []
    },
    {
      "cell_type": "code",
      "metadata": {
        "id": "Co-L_mgA3TgY"
      },
      "source": [
        "#Importing necessary libraries\n",
        "import numpy as np\n",
        "import pandas as pd\n",
        "import matplotlib.pyplot as plt\n",
        "from ipywidgets import interact\n",
        "import seaborn as sns\n",
        "import plotly.express as px"
      ],
      "execution_count": null,
      "outputs": []
    },
    {
      "cell_type": "code",
      "metadata": {
        "id": "3ay31rast-Hy"
      },
      "source": [
        "#Customizing data visualization style\n",
        "sns.set_theme(rc = {'figure.figsize': (8, 4)})"
      ],
      "execution_count": null,
      "outputs": []
    },
    {
      "cell_type": "code",
      "metadata": {
        "id": "a0FV8-d6sfr8"
      },
      "source": [
        "#Uploading file from local drive\n",
        "from google.colab import files\n",
        "uploaded1 = files.upload()"
      ],
      "execution_count": null,
      "outputs": []
    },
    {
      "cell_type": "code",
      "metadata": {
        "id": "5wY2N2nMsmax"
      },
      "source": [
        "#Storing dataset in a Pandas Dataframe\n",
        "import io\n",
        "df1 = pd.read_csv(io.BytesIO(uploaded1['2021_07_21_casas_quito.csv']), parse_dates=True)"
      ],
      "execution_count": null,
      "outputs": []
    },
    {
      "cell_type": "code",
      "metadata": {
        "colab": {
          "base_uri": "https://localhost:8080/"
        },
        "id": "sb_WZ8KtsxTO",
        "outputId": "955b25e7-2116-4acf-bec8-4dfb96b3243d"
      },
      "source": [
        "#Checking the dataframe info\n",
        "df1.info()"
      ],
      "execution_count": null,
      "outputs": [
        {
          "output_type": "stream",
          "text": [
            "<class 'pandas.core.frame.DataFrame'>\n",
            "RangeIndex: 253 entries, 0 to 252\n",
            "Data columns (total 9 columns):\n",
            " #   Column      Non-Null Count  Dtype \n",
            "---  ------      --------------  ----- \n",
            " 0   date        253 non-null    object\n",
            " 1   city        253 non-null    object\n",
            " 2   zone        253 non-null    object\n",
            " 3   name        253 non-null    object\n",
            " 4   seller      253 non-null    object\n",
            " 5   sqr_meters  253 non-null    int64 \n",
            " 6   rooms       253 non-null    int64 \n",
            " 7   bathrooms   253 non-null    int64 \n",
            " 8   price       253 non-null    int64 \n",
            "dtypes: int64(4), object(5)\n",
            "memory usage: 17.9+ KB\n"
          ],
          "name": "stdout"
        }
      ]
    },
    {
      "cell_type": "code",
      "metadata": {
        "id": "iKQHkEWCs6Rl"
      },
      "source": [
        "#Converting date column to datetime\n",
        "df1['date'] = pd.to_datetime(df1['date'], format='%Y-%m-%d %H:%M:%S')"
      ],
      "execution_count": null,
      "outputs": []
    },
    {
      "cell_type": "code",
      "metadata": {
        "colab": {
          "base_uri": "https://localhost:8080/",
          "height": 205
        },
        "id": "MoOvuRJXp-yd",
        "outputId": "e1e285cc-7461-475d-e7f2-912a612137e4"
      },
      "source": [
        "#Selecting essential columns and saving to new dataframe\n",
        "df1_apa = df1.drop(columns='seller').copy()\n",
        "df1_apa.tail()"
      ],
      "execution_count": null,
      "outputs": [
        {
          "output_type": "execute_result",
          "data": {
            "text/html": [
              "<div>\n",
              "<style scoped>\n",
              "    .dataframe tbody tr th:only-of-type {\n",
              "        vertical-align: middle;\n",
              "    }\n",
              "\n",
              "    .dataframe tbody tr th {\n",
              "        vertical-align: top;\n",
              "    }\n",
              "\n",
              "    .dataframe thead th {\n",
              "        text-align: right;\n",
              "    }\n",
              "</style>\n",
              "<table border=\"1\" class=\"dataframe\">\n",
              "  <thead>\n",
              "    <tr style=\"text-align: right;\">\n",
              "      <th></th>\n",
              "      <th>date</th>\n",
              "      <th>city</th>\n",
              "      <th>zone</th>\n",
              "      <th>name</th>\n",
              "      <th>sqr_meters</th>\n",
              "      <th>rooms</th>\n",
              "      <th>bathrooms</th>\n",
              "      <th>price</th>\n",
              "    </tr>\n",
              "  </thead>\n",
              "  <tbody>\n",
              "    <tr>\n",
              "      <th>248</th>\n",
              "      <td>2020-10-28 19:00:00-05:00</td>\n",
              "      <td>Quito</td>\n",
              "      <td>Gonzalez Suarez</td>\n",
              "      <td>Casa en Gonzalez Suarez</td>\n",
              "      <td>1400</td>\n",
              "      <td>5</td>\n",
              "      <td>6</td>\n",
              "      <td>380000</td>\n",
              "    </tr>\n",
              "    <tr>\n",
              "      <th>249</th>\n",
              "      <td>2020-10-28 19:00:00-05:00</td>\n",
              "      <td>Quito</td>\n",
              "      <td>El Batan</td>\n",
              "      <td>Casa en El Batan</td>\n",
              "      <td>441</td>\n",
              "      <td>7</td>\n",
              "      <td>6</td>\n",
              "      <td>340000</td>\n",
              "    </tr>\n",
              "    <tr>\n",
              "      <th>250</th>\n",
              "      <td>2020-10-28 19:00:00-05:00</td>\n",
              "      <td>Pichincha</td>\n",
              "      <td>Iñaquito</td>\n",
              "      <td>Casa en Iñaquito</td>\n",
              "      <td>110</td>\n",
              "      <td>3</td>\n",
              "      <td>2</td>\n",
              "      <td>72800</td>\n",
              "    </tr>\n",
              "    <tr>\n",
              "      <th>251</th>\n",
              "      <td>2020-10-28 19:00:00-05:00</td>\n",
              "      <td>Quito</td>\n",
              "      <td>El Batan</td>\n",
              "      <td>Casa en El Batan</td>\n",
              "      <td>80</td>\n",
              "      <td>2</td>\n",
              "      <td>2</td>\n",
              "      <td>65000</td>\n",
              "    </tr>\n",
              "    <tr>\n",
              "      <th>252</th>\n",
              "      <td>2020-10-28 19:00:00-05:00</td>\n",
              "      <td>Pichincha</td>\n",
              "      <td>Iñaquito</td>\n",
              "      <td>Casa en Iñaquito</td>\n",
              "      <td>2690</td>\n",
              "      <td>4</td>\n",
              "      <td>4</td>\n",
              "      <td>650000</td>\n",
              "    </tr>\n",
              "  </tbody>\n",
              "</table>\n",
              "</div>"
            ],
            "text/plain": [
              "                         date       city  ... bathrooms   price\n",
              "248 2020-10-28 19:00:00-05:00      Quito  ...         6  380000\n",
              "249 2020-10-28 19:00:00-05:00      Quito  ...         6  340000\n",
              "250 2020-10-28 19:00:00-05:00  Pichincha  ...         2   72800\n",
              "251 2020-10-28 19:00:00-05:00      Quito  ...         2   65000\n",
              "252 2020-10-28 19:00:00-05:00  Pichincha  ...         4  650000\n",
              "\n",
              "[5 rows x 8 columns]"
            ]
          },
          "metadata": {
            "tags": []
          },
          "execution_count": 55
        }
      ]
    },
    {
      "cell_type": "code",
      "metadata": {
        "id": "dgsCVwJi0uVK"
      },
      "source": [
        "#Assigning columns as categorical data\n",
        "df1_apa['rooms'] = df1_apa['rooms'].astype(\"category\")\n",
        "df1_apa['bathrooms'] = df1_apa['bathrooms'].astype(\"category\")"
      ],
      "execution_count": null,
      "outputs": []
    },
    {
      "cell_type": "code",
      "metadata": {
        "colab": {
          "base_uri": "https://localhost:8080/",
          "height": 299
        },
        "id": "v29-myuwqpOY",
        "outputId": "f2f019cc-8f7c-413a-e229-6c58620fa58c"
      },
      "source": [
        "#Performing descriptive statistics\n",
        "df1_apa.describe()"
      ],
      "execution_count": null,
      "outputs": [
        {
          "output_type": "execute_result",
          "data": {
            "text/html": [
              "<div>\n",
              "<style scoped>\n",
              "    .dataframe tbody tr th:only-of-type {\n",
              "        vertical-align: middle;\n",
              "    }\n",
              "\n",
              "    .dataframe tbody tr th {\n",
              "        vertical-align: top;\n",
              "    }\n",
              "\n",
              "    .dataframe thead th {\n",
              "        text-align: right;\n",
              "    }\n",
              "</style>\n",
              "<table border=\"1\" class=\"dataframe\">\n",
              "  <thead>\n",
              "    <tr style=\"text-align: right;\">\n",
              "      <th></th>\n",
              "      <th>sqr_meters</th>\n",
              "      <th>price</th>\n",
              "    </tr>\n",
              "  </thead>\n",
              "  <tbody>\n",
              "    <tr>\n",
              "      <th>count</th>\n",
              "      <td>253.000000</td>\n",
              "      <td>2.530000e+02</td>\n",
              "    </tr>\n",
              "    <tr>\n",
              "      <th>mean</th>\n",
              "      <td>499.818182</td>\n",
              "      <td>3.128092e+05</td>\n",
              "    </tr>\n",
              "    <tr>\n",
              "      <th>std</th>\n",
              "      <td>710.781678</td>\n",
              "      <td>2.482796e+05</td>\n",
              "    </tr>\n",
              "    <tr>\n",
              "      <th>min</th>\n",
              "      <td>54.000000</td>\n",
              "      <td>4.850000e+04</td>\n",
              "    </tr>\n",
              "    <tr>\n",
              "      <th>25%</th>\n",
              "      <td>180.000000</td>\n",
              "      <td>1.230000e+05</td>\n",
              "    </tr>\n",
              "    <tr>\n",
              "      <th>50%</th>\n",
              "      <td>330.000000</td>\n",
              "      <td>2.590000e+05</td>\n",
              "    </tr>\n",
              "    <tr>\n",
              "      <th>75%</th>\n",
              "      <td>562.000000</td>\n",
              "      <td>4.200000e+05</td>\n",
              "    </tr>\n",
              "    <tr>\n",
              "      <th>max</th>\n",
              "      <td>8400.000000</td>\n",
              "      <td>1.950000e+06</td>\n",
              "    </tr>\n",
              "  </tbody>\n",
              "</table>\n",
              "</div>"
            ],
            "text/plain": [
              "        sqr_meters         price\n",
              "count   253.000000  2.530000e+02\n",
              "mean    499.818182  3.128092e+05\n",
              "std     710.781678  2.482796e+05\n",
              "min      54.000000  4.850000e+04\n",
              "25%     180.000000  1.230000e+05\n",
              "50%     330.000000  2.590000e+05\n",
              "75%     562.000000  4.200000e+05\n",
              "max    8400.000000  1.950000e+06"
            ]
          },
          "metadata": {
            "tags": []
          },
          "execution_count": 28
        }
      ]
    },
    {
      "cell_type": "code",
      "metadata": {
        "colab": {
          "base_uri": "https://localhost:8080/",
          "height": 301
        },
        "id": "lL_aLP-OtX5y",
        "outputId": "354597e0-ee44-42b7-d694-91648017b8f0"
      },
      "source": [
        "#Plotting the boxplot of price\n",
        "sns.boxplot(x='price', data=df1_apa)\n",
        "plt.title('Boxplot of price vs. room size')\n",
        "plt.show()"
      ],
      "execution_count": null,
      "outputs": [
        {
          "output_type": "display_data",
          "data": {
            "image/png": "[encoded data removed]",
            "text/plain": [
              "<Figure size 576x288 with 1 Axes>"
            ]
          },
          "metadata": {
            "tags": []
          }
        }
      ]
    },
    {
      "cell_type": "code",
      "metadata": {
        "colab": {
          "base_uri": "https://localhost:8080/"
        },
        "id": "0HPkNTEBxQDg",
        "outputId": "3f7faa9a-8f02-4d2c-a877-289248c8ee39"
      },
      "source": [
        "#Calculating outlier threshold\n",
        "iqr = (df1_apa['price'].quantile(0.75) - df1_apa['price'].quantile(0.25))\n",
        "outl = (df1_apa['price'].quantile(0.75) + 1.5*iqr) #==> Third quartile + 1.5*IQR\n",
        "print(iqr, outl)"
      ],
      "execution_count": null,
      "outputs": [
        {
          "output_type": "stream",
          "text": [
            "297000.0 865500.0\n"
          ],
          "name": "stdout"
        }
      ]
    },
    {
      "cell_type": "code",
      "metadata": {
        "colab": {
          "base_uri": "https://localhost:8080/"
        },
        "id": "Hpq9BMquwk-5",
        "outputId": "8d0831e8-c2d4-43f1-c797-21d0e95e2183"
      },
      "source": [
        "#Dropping outliers from dataset\n",
        "df1_apa = df1_apa[df1_apa['price']<outl].reset_index(drop=True)\n",
        "df1_apa.shape"
      ],
      "execution_count": null,
      "outputs": [
        {
          "output_type": "execute_result",
          "data": {
            "text/plain": [
              "(249, 8)"
            ]
          },
          "metadata": {
            "tags": []
          },
          "execution_count": 58
        }
      ]
    },
    {
      "cell_type": "code",
      "metadata": {
        "colab": {
          "base_uri": "https://localhost:8080/",
          "height": 301
        },
        "id": "2MJFBUtb0QZ3",
        "outputId": "1357d80f-d6a8-4272-9ceb-5619b24cbe10"
      },
      "source": [
        "#Plotting the box plot of price for different room sizes\n",
        "sns.boxplot(x='price', y='rooms', data=df1_apa) #palette=['#ffff00', '#0000ff', '#ff0000'])\n",
        "plt.title('Boxplot of price vs. room size')\n",
        "plt.show()"
      ],
      "execution_count": null,
      "outputs": [
        {
          "output_type": "display_data",
          "data": {
            "image/png": "[encoded data removed]",
            "text/plain": [
              "<Figure size 576x288 with 1 Axes>"
            ]
          },
          "metadata": {
            "tags": []
          }
        }
      ]
    },
    {
      "cell_type": "code",
      "metadata": {
        "id": "_CkUw3WdqpRg"
      },
      "source": [
        "#Plotting pairplot of price vs square meters\n",
        "sns.pairplot(data=df1_apa, height=3, aspect=1.5)\n",
        "plt.show()"
      ],
      "execution_count": null,
      "outputs": []
    },
    {
      "cell_type": "code",
      "metadata": {
        "id": "bCC9z5MCCfiV"
      },
      "source": [
        "df1_apa['date'] = df1_apa['date'].astype(st)"
      ],
      "execution_count": null,
      "outputs": []
    },
    {
      "cell_type": "code",
      "metadata": {
        "colab": {
          "base_uri": "https://localhost:8080/",
          "height": 17
        },
        "id": "OVp_Tsw0ACpW",
        "outputId": "7394b499-936c-4a1c-8641-2fab850b3874"
      },
      "source": [
        "#Exporting to excel into local disk\n",
        "from google.colab import files\n",
        "df1_apa.to_excel('2021_07_21_casas_quito.xlsx', index=False) #==> Excluding index from file\n",
        "files.download('2021_07_21_casas_quito.xlsx')"
      ],
      "execution_count": null,
      "outputs": [
        {
          "output_type": "display_data",
          "data": {
            "application/javascript": [
              "\n",
              "    async function download(id, filename, size) {\n",
              "      if (!google.colab.kernel.accessAllowed) {\n",
              "        return;\n",
              "      }\n",
              "      const div = document.createElement('div');\n",
              "      const label = document.createElement('label');\n",
              "      label.textContent = `Downloading \"${filename}\": `;\n",
              "      div.appendChild(label);\n",
              "      const progress = document.createElement('progress');\n",
              "      progress.max = size;\n",
              "      div.appendChild(progress);\n",
              "      document.body.appendChild(div);\n",
              "\n",
              "      const buffers = [];\n",
              "      let downloaded = 0;\n",
              "\n",
              "      const channel = await google.colab.kernel.comms.open(id);\n",
              "      // Send a message to notify the kernel that we're ready.\n",
              "      channel.send({})\n",
              "\n",
              "      for await (const message of channel.messages) {\n",
              "        // Send a message to notify the kernel that we're ready.\n",
              "        channel.send({})\n",
              "        if (message.buffers) {\n",
              "          for (const buffer of message.buffers) {\n",
              "            buffers.push(buffer);\n",
              "            downloaded += buffer.byteLength;\n",
              "            progress.value = downloaded;\n",
              "          }\n",
              "        }\n",
              "      }\n",
              "      const blob = new Blob(buffers, {type: 'application/binary'});\n",
              "      const a = document.createElement('a');\n",
              "      a.href = window.URL.createObjectURL(blob);\n",
              "      a.download = filename;\n",
              "      div.appendChild(a);\n",
              "      a.click();\n",
              "      div.remove();\n",
              "    }\n",
              "  "
            ],
            "text/plain": [
              "<IPython.core.display.Javascript object>"
            ]
          },
          "metadata": {
            "tags": []
          }
        },
        {
          "output_type": "display_data",
          "data": {
            "application/javascript": [
              "download(\"download_0ed952e1-f40a-4e88-87a7-c1f76760d8f2\", \"2021_07_21_casas_quito.xlsx\", 13160)"
            ],
            "text/plain": [
              "<IPython.core.display.Javascript object>"
            ]
          },
          "metadata": {
            "tags": []
          }
        }
      ]
    },
    {
      "cell_type": "code",
      "metadata": {
        "colab": {
          "base_uri": "https://localhost:8080/",
          "height": 205
        },
        "id": "--h6H3vctozF",
        "outputId": "fd84d00e-8b8e-4f49-8b3c-e35d73cf6c7b"
      },
      "source": [
        "#Grouping by year, month and rooms\n",
        "df1_grouped = df1_apa.copy()\n",
        "df1_grouped = df1_grouped.assign(price_sqr = round((df1_grouped['price']/df1_grouped['sqr_meters']), 2),\n",
        "                                 year = df1_grouped['date'].dt.year,\n",
        "                                 month = df1_grouped['date'].dt.month)\n",
        "df1_grouped = df1_grouped.groupby(['year', 'month', 'rooms']).agg(price = ('price', 'mean'), price_sqr = ('price_sqr', 'mean')).reset_index()\n",
        "df1_grouped.tail()"
      ],
      "execution_count": null,
      "outputs": [
        {
          "output_type": "execute_result",
          "data": {
            "text/html": [
              "<div>\n",
              "<style scoped>\n",
              "    .dataframe tbody tr th:only-of-type {\n",
              "        vertical-align: middle;\n",
              "    }\n",
              "\n",
              "    .dataframe tbody tr th {\n",
              "        vertical-align: top;\n",
              "    }\n",
              "\n",
              "    .dataframe thead th {\n",
              "        text-align: right;\n",
              "    }\n",
              "</style>\n",
              "<table border=\"1\" class=\"dataframe\">\n",
              "  <thead>\n",
              "    <tr style=\"text-align: right;\">\n",
              "      <th></th>\n",
              "      <th>year</th>\n",
              "      <th>month</th>\n",
              "      <th>rooms</th>\n",
              "      <th>price</th>\n",
              "      <th>price_sqr</th>\n",
              "    </tr>\n",
              "  </thead>\n",
              "  <tbody>\n",
              "    <tr>\n",
              "      <th>195</th>\n",
              "      <td>2021</td>\n",
              "      <td>12</td>\n",
              "      <td>6</td>\n",
              "      <td>NaN</td>\n",
              "      <td>NaN</td>\n",
              "    </tr>\n",
              "    <tr>\n",
              "      <th>196</th>\n",
              "      <td>2021</td>\n",
              "      <td>12</td>\n",
              "      <td>7</td>\n",
              "      <td>NaN</td>\n",
              "      <td>NaN</td>\n",
              "    </tr>\n",
              "    <tr>\n",
              "      <th>197</th>\n",
              "      <td>2021</td>\n",
              "      <td>12</td>\n",
              "      <td>8</td>\n",
              "      <td>NaN</td>\n",
              "      <td>NaN</td>\n",
              "    </tr>\n",
              "    <tr>\n",
              "      <th>198</th>\n",
              "      <td>2021</td>\n",
              "      <td>12</td>\n",
              "      <td>9</td>\n",
              "      <td>NaN</td>\n",
              "      <td>NaN</td>\n",
              "    </tr>\n",
              "    <tr>\n",
              "      <th>199</th>\n",
              "      <td>2021</td>\n",
              "      <td>12</td>\n",
              "      <td>10</td>\n",
              "      <td>NaN</td>\n",
              "      <td>NaN</td>\n",
              "    </tr>\n",
              "  </tbody>\n",
              "</table>\n",
              "</div>"
            ],
            "text/plain": [
              "     year  month rooms  price  price_sqr\n",
              "195  2021     12     6    NaN        NaN\n",
              "196  2021     12     7    NaN        NaN\n",
              "197  2021     12     8    NaN        NaN\n",
              "198  2021     12     9    NaN        NaN\n",
              "199  2021     12    10    NaN        NaN"
            ]
          },
          "metadata": {
            "tags": []
          },
          "execution_count": 61
        }
      ]
    },
    {
      "cell_type": "code",
      "metadata": {
        "colab": {
          "base_uri": "https://localhost:8080/",
          "height": 333,
          "referenced_widgets": [
            "9b1dfb090381411787479a020f663876",
            "ae9acf02e6d04fbb9d81dc7d03dcb230",
            "7f267bb6aab44db8998988b5cc67a7f0",
            "15bf3b3ab6e34cd6a469f30737077b02",
            "3467a9b72a3a4c4588b2e40fc6aea6d7",
            "70b513ab15b14e268574a2f388f430b1",
            "eab1a218cea34df39a3db7d8b77752fa"
          ]
        },
        "id": "vuI3UM-x0Y0e",
        "outputId": "67dcd734-5642-4f6a-ade2-efb6722e073f"
      },
      "source": [
        "#Plotting square meters vs price\n",
        "@interact(rooms=[1,2,3])\n",
        "def plot_scatter(rooms):\n",
        "  sns.regplot(x='sqr_meters', y='price', data=df1_apa[df1_apa['rooms']==rooms], seed=1)\n",
        "  plt.title(f'Scatterplot of {rooms} rooms Apartments')\n",
        "  plt.show()"
      ],
      "execution_count": null,
      "outputs": [
        {
          "output_type": "display_data",
          "data": {
            "application/vnd.jupyter.widget-view+json": {
              "model_id": "9b1dfb090381411787479a020f663876",
              "version_minor": 0,
              "version_major": 2
            },
            "text/plain": [
              "interactive(children=(Dropdown(description='rooms', options=(1, 2, 3, 4, 5, 6, 7), value=1), Output()), _dom_c…"
            ]
          },
          "metadata": {
            "tags": []
          }
        }
      ]
    },
    {
      "cell_type": "code",
      "metadata": {
        "colab": {
          "base_uri": "https://localhost:8080/",
          "height": 481,
          "referenced_widgets": [
            "c9f9d1263aa84411b9706c151963a004",
            "9aa7c42f75174b0f88f937baabbdbf4a",
            "e5e3771e0f1d46a59d02af764f1de85c",
            "6806fe804b3948398a99fc85c76704b7",
            "8cada7894db24335b2644e4e89752ddb",
            "b7503179aa194c918734444ec0d76f0e",
            "a6e8793c4a2a4accb0f2dc1a4ee86a47",
            "bf7f3f439e494d098b51ada6ab9562e2",
            "cbe715b99d414d5b9759e797c113fb99",
            "dc4be112a93a414f82e7be6c697d79d7"
          ]
        },
        "id": "7jEcYoXGtH02",
        "outputId": "af957910-01eb-4dc5-875d-06124d0636c4"
      },
      "source": [
        "#Plot the price vs time for different categories\n",
        "@interact(year=[2020, 2021], rooms=df1_apa['rooms'].unique())\n",
        "def plot_scatter(year, rooms):\n",
        "  fig1_a = px.bar(data_frame=df1_grouped[(df1_grouped['year']==year) & (df1_grouped['rooms']==rooms)], x='month', y='price',\n",
        "                  title='Apartments in Quito', width=900, height=400)\n",
        "  fig1_a.show()"
      ],
      "execution_count": null,
      "outputs": [
        {
          "output_type": "display_data",
          "data": {
            "application/vnd.jupyter.widget-view+json": {
              "model_id": "c9f9d1263aa84411b9706c151963a004",
              "version_minor": 0,
              "version_major": 2
            },
            "text/plain": [
              "interactive(children=(Dropdown(description='year', options=(2020, 2021), value=2020), Dropdown(description='ro…"
            ]
          },
          "metadata": {
            "tags": []
          }
        }
      ]
    },
    {
      "cell_type": "markdown",
      "metadata": {
        "id": "AbJJDSofAgET"
      },
      "source": [
        "##Machine Learning modeling"
      ]
    },
    {
      "cell_type": "markdown",
      "metadata": {
        "id": "yRVaKdBFCxq-"
      },
      "source": [
        "###Uploading data"
      ]
    },
    {
      "cell_type": "code",
      "metadata": {
        "id": "PcSlHv1IA0Sk"
      },
      "source": [
        "#Importing necessary packages\n",
        "import numpy as np\n",
        "import pandas as pd\n",
        "import matplotlib.pyplot as plt\n",
        "import seaborn as sns"
      ],
      "execution_count": null,
      "outputs": []
    },
    {
      "cell_type": "code",
      "metadata": {
        "id": "s6o5Wg8QA0Sk"
      },
      "source": [
        "#Customizing data visualization style\n",
        "sns.set_theme(rc = {'figure.figsize': (12, 4)})"
      ],
      "execution_count": null,
      "outputs": []
    },
    {
      "cell_type": "code",
      "metadata": {
        "colab": {
          "resources": {
            "http://localhost:8080/nbextensions/google.colab/files.js": {
              "data": "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",
              "ok": true,
              "headers": [
                [
                  "content-type",
                  "application/javascript"
                ]
              ],
              "status": 200,
              "status_text": ""
            }
          },
          "base_uri": "https://localhost:8080/",
          "height": 73
        },
        "id": "14TwkZ4vA0Sl",
        "outputId": "f48f3e41-76aa-4a4f-cb98-6b049d668b88"
      },
      "source": [
        "#Uploading file from local drive\n",
        "from google.colab import files\n",
        "uploaded1 = files.upload()"
      ],
      "execution_count": null,
      "outputs": [
        {
          "output_type": "display_data",
          "data": {
            "text/html": [
              "\n",
              "     <input type=\"file\" id=\"files-5b0efc78-cb6a-4276-b4bf-437716b18f6f\" name=\"files[]\" multiple disabled\n",
              "        style=\"border:none\" />\n",
              "     <output id=\"result-5b0efc78-cb6a-4276-b4bf-437716b18f6f\">\n",
              "      Upload widget is only available when the cell has been executed in the\n",
              "      current browser session. Please rerun this cell to enable.\n",
              "      </output>\n",
              "      <script src=\"/nbextensions/google.colab/files.js\"></script> "
            ],
            "text/plain": [
              "<IPython.core.display.HTML object>"
            ]
          },
          "metadata": {
            "tags": []
          }
        },
        {
          "output_type": "stream",
          "text": [
            "Saving 2021_07_19_apartments.csv to 2021_07_19_apartments.csv\n"
          ],
          "name": "stdout"
        }
      ]
    },
    {
      "cell_type": "code",
      "metadata": {
        "id": "6tZhQF3_A0Sl"
      },
      "source": [
        "#Storing dataset in a Pandas Dataframe\n",
        "import io\n",
        "df1_ml = pd.read_csv(io.BytesIO(uploaded1['2021_07_19_apartments.csv']), parse_dates=True)"
      ],
      "execution_count": null,
      "outputs": []
    },
    {
      "cell_type": "code",
      "metadata": {
        "colab": {
          "base_uri": "https://localhost:8080/",
          "height": 205
        },
        "id": "Org4lJZaBnyA",
        "outputId": "1e84e6f8-78a2-4261-9eb9-5549f2208041"
      },
      "source": [
        "#Dropping date column, assigning categorical type\n",
        "df1_ml = df1_ml.drop(columns='date')\n",
        "df1_ml['rooms'] = df1_ml['rooms'].astype(\"category\")\n",
        "df1_ml['bathrooms'] = df1_ml['bathrooms'].astype(\"category\")\n",
        "df1_ml.tail()"
      ],
      "execution_count": null,
      "outputs": [
        {
          "output_type": "execute_result",
          "data": {
            "text/html": [
              "<div>\n",
              "<style scoped>\n",
              "    .dataframe tbody tr th:only-of-type {\n",
              "        vertical-align: middle;\n",
              "    }\n",
              "\n",
              "    .dataframe tbody tr th {\n",
              "        vertical-align: top;\n",
              "    }\n",
              "\n",
              "    .dataframe thead th {\n",
              "        text-align: right;\n",
              "    }\n",
              "</style>\n",
              "<table border=\"1\" class=\"dataframe\">\n",
              "  <thead>\n",
              "    <tr style=\"text-align: right;\">\n",
              "      <th></th>\n",
              "      <th>sqr_meters</th>\n",
              "      <th>rooms</th>\n",
              "      <th>bathrooms</th>\n",
              "      <th>price</th>\n",
              "    </tr>\n",
              "  </thead>\n",
              "  <tbody>\n",
              "    <tr>\n",
              "      <th>319</th>\n",
              "      <td>121</td>\n",
              "      <td>3</td>\n",
              "      <td>3</td>\n",
              "      <td>155000</td>\n",
              "    </tr>\n",
              "    <tr>\n",
              "      <th>320</th>\n",
              "      <td>76</td>\n",
              "      <td>3</td>\n",
              "      <td>2</td>\n",
              "      <td>99000</td>\n",
              "    </tr>\n",
              "    <tr>\n",
              "      <th>321</th>\n",
              "      <td>86</td>\n",
              "      <td>2</td>\n",
              "      <td>3</td>\n",
              "      <td>146000</td>\n",
              "    </tr>\n",
              "    <tr>\n",
              "      <th>322</th>\n",
              "      <td>113</td>\n",
              "      <td>3</td>\n",
              "      <td>3</td>\n",
              "      <td>221426</td>\n",
              "    </tr>\n",
              "    <tr>\n",
              "      <th>323</th>\n",
              "      <td>117</td>\n",
              "      <td>3</td>\n",
              "      <td>3</td>\n",
              "      <td>179530</td>\n",
              "    </tr>\n",
              "  </tbody>\n",
              "</table>\n",
              "</div>"
            ],
            "text/plain": [
              "     sqr_meters rooms bathrooms   price\n",
              "319         121     3         3  155000\n",
              "320          76     3         2   99000\n",
              "321          86     2         3  146000\n",
              "322         113     3         3  221426\n",
              "323         117     3         3  179530"
            ]
          },
          "metadata": {
            "tags": []
          },
          "execution_count": 5
        }
      ]
    },
    {
      "cell_type": "markdown",
      "metadata": {
        "id": "0cz0tnvLC1NB"
      },
      "source": [
        "###Linear Regression"
      ]
    },
    {
      "cell_type": "code",
      "metadata": {
        "id": "0l9hkAtyCvR3"
      },
      "source": [
        "#Importing machine learning libraries\n",
        "from sklearn.model_selection import train_test_split\n",
        "from sklearn.preprocessing import MinMaxScaler\n",
        "from sklearn.linear_model import LinearRegression"
      ],
      "execution_count": null,
      "outputs": []
    },
    {
      "cell_type": "code",
      "metadata": {
        "colab": {
          "base_uri": "https://localhost:8080/"
        },
        "id": "-wujoGF0DAi0",
        "outputId": "0c441541-727d-4e82-8899-7fb5410f4402"
      },
      "source": [
        "#Splitting the dataset into train and test\n",
        "X = np.c_[df1_ml['sqr_meters'].to_numpy(), df1_ml['rooms'].to_numpy(), df1_ml['bathrooms'].to_numpy()]\n",
        "X_train, X_test, y_train, y_test = train_test_split(X, np.array(df1_ml['price']), random_state=1)\n",
        "print(X_train.shape, X_test.shape)\n",
        "\n",
        "#lr = LinearRegression().fit(X_train, y_train)\n",
        "#print(f'lr.coef_: {lr.coef_}, lr.intercept_: {lr.intercept_}')"
      ],
      "execution_count": null,
      "outputs": [
        {
          "output_type": "stream",
          "text": [
            "(243, 3) (81, 3)\n"
          ],
          "name": "stdout"
        }
      ]
    },
    {
      "cell_type": "code",
      "metadata": {
        "colab": {
          "base_uri": "https://localhost:8080/"
        },
        "id": "ETcMnJKbxyI1",
        "outputId": "409def3a-61e9-42bb-b67a-7f27d0c9109b"
      },
      "source": [
        "#Preprocessing using 0-1 scaling\n",
        "scaler = MinMaxScaler()\n",
        "scaler.fit(X_train)\n",
        "X_train_scaled = scaler.transform(X_train)\n",
        "X_test_scaled = scaler.transform(X_test)\n",
        "print(X_train_scaled[:5])\n",
        "print(X_test_scaled[:5])"
      ],
      "execution_count": null,
      "outputs": [
        {
          "output_type": "stream",
          "text": [
            "[[0.22 0.   0.  ]\n",
            " [0.42 0.   0.  ]\n",
            " [0.56 0.5  1.  ]\n",
            " [0.45 0.   0.5 ]\n",
            " [0.24 0.   0.5 ]]\n",
            "[[0.13 0.   0.5 ]\n",
            " [0.48 0.5  0.5 ]\n",
            " [0.1  0.   0.5 ]\n",
            " [0.19 0.   0.  ]\n",
            " [0.13 0.   0.5 ]]\n"
          ],
          "name": "stdout"
        }
      ]
    },
    {
      "cell_type": "code",
      "metadata": {
        "colab": {
          "base_uri": "https://localhost:8080/"
        },
        "id": "f89VV0BNzIRl",
        "outputId": "c33f45e3-95e1-413f-c1d2-65bb976d6484"
      },
      "source": [
        "#Performing Liner Regression on apartment prices\n",
        "lr = LinearRegression().fit(X_train_scaled, y_train)\n",
        "print(f'lr.coef_: {lr.coef_}, lr.intercept_: {lr.intercept_}')"
      ],
      "execution_count": null,
      "outputs": [
        {
          "output_type": "stream",
          "text": [
            "lr.coef_: [56743.49336176  -358.5767255  49152.81300228], lr.intercept_: 90740.25334670303\n"
          ],
          "name": "stdout"
        }
      ]
    },
    {
      "cell_type": "code",
      "metadata": {
        "colab": {
          "base_uri": "https://localhost:8080/"
        },
        "id": "6mAoQVLyMduX",
        "outputId": "9baf943b-09b3-45cb-8886-6c00bebaaf03"
      },
      "source": [
        "#Looking at the training set and test set performance\n",
        "print(f'Training set score: {lr.score(X_train_scaled, y_train)}')\n",
        "print(f'Training test score: {lr.score(X_test_scaled, y_test)}')"
      ],
      "execution_count": null,
      "outputs": [
        {
          "output_type": "stream",
          "text": [
            "Training set score: 0.44162440822932986\n",
            "Training test score: 0.3396124340805059\n"
          ],
          "name": "stdout"
        }
      ]
    }
  ]
}