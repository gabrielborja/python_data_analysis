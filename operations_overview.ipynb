{
  "nbformat": 4,
  "nbformat_minor": 0,
  "metadata": {
    "colab": {
      "name": "operations_overview.ipynb",
      "provenance": [],
      "collapsed_sections": [
        "4B3dCrn2H9by",
        "Ct34V8zs_IEL",
        "TYOzOT1k5oNS",
        "tlnZ2je2I-ls",
        "ZWp5LJz5I_Fq",
        "MZRW7szgJRAU",
        "18rEiRiCKyiE",
        "aaxue8PKU6ud",
        "mQNKk6IlJOiF",
        "6Y9KujfPgXLa",
        "NAur2G65mjyI",
        "0Mobjv_LR7XC",
        "xxBHwKnbSAFH",
        "1TUGj6x5TFKM",
        "pDDhcMi84qxs",
        "5eY_FWg0zgA_"
      ],
      "authorship_tag": "ABX9TyM0RCaMuzGDKfvKW5EXPhO+",
      "include_colab_link": true
    },
    "kernelspec": {
      "name": "python3",
      "display_name": "Python 3"
    },
    "language_info": {
      "name": "python"
    },
    "widgets": {
      "application/vnd.jupyter.widget-state+json": {
        "fb0dbdb66dd44918b8e65026a4c4aa20": {
          "model_module": "@jupyter-widgets/controls",
          "model_name": "VBoxModel",
          "model_module_version": "1.5.0",
          "state": {
            "_view_name": "VBoxView",
            "_dom_classes": [
              "widget-interact"
            ],
            "_model_name": "VBoxModel",
            "_view_module": "@jupyter-widgets/controls",
            "_model_module_version": "1.5.0",
            "_view_count": null,
            "_view_module_version": "1.5.0",
            "box_style": "",
            "layout": "IPY_MODEL_d0c2a2a2fcb84ee29de9a7cfe0ada54c",
            "_model_module": "@jupyter-widgets/controls",
            "children": [
              "IPY_MODEL_3eff510f18f44d09be842cb7b3887106",
              "IPY_MODEL_731858aacd96415f9772698c44fca0ea"
            ]
          }
        },
        "d0c2a2a2fcb84ee29de9a7cfe0ada54c": {
          "model_module": "@jupyter-widgets/base",
          "model_name": "LayoutModel",
          "model_module_version": "1.2.0",
          "state": {
            "_view_name": "LayoutView",
            "grid_template_rows": null,
            "right": null,
            "justify_content": null,
            "_view_module": "@jupyter-widgets/base",
            "overflow": null,
            "_model_module_version": "1.2.0",
            "_view_count": null,
            "flex_flow": null,
            "width": null,
            "min_width": null,
            "border": null,
            "align_items": null,
            "bottom": null,
            "_model_module": "@jupyter-widgets/base",
            "top": null,
            "grid_column": null,
            "overflow_y": null,
            "overflow_x": null,
            "grid_auto_flow": null,
            "grid_area": null,
            "grid_template_columns": null,
            "flex": null,
            "_model_name": "LayoutModel",
            "justify_items": null,
            "grid_row": null,
            "max_height": null,
            "align_content": null,
            "visibility": null,
            "align_self": null,
            "height": null,
            "min_height": null,
            "padding": null,
            "grid_auto_rows": null,
            "grid_gap": null,
            "max_width": null,
            "order": null,
            "_view_module_version": "1.2.0",
            "grid_template_areas": null,
            "object_position": null,
            "object_fit": null,
            "grid_auto_columns": null,
            "margin": null,
            "display": null,
            "left": null
          }
        },
        "3eff510f18f44d09be842cb7b3887106": {
          "model_module": "@jupyter-widgets/controls",
          "model_name": "DropdownModel",
          "model_module_version": "1.5.0",
          "state": {
            "_options_labels": [
              "Month",
              "Weeknum",
              "Weekday",
              "Team",
              "Shift",
              "Hour"
            ],
            "_view_name": "DropdownView",
            "style": "IPY_MODEL_3ec77010772b49f480bf858e0de28607",
            "_dom_classes": [],
            "description": "Cat",
            "_model_name": "DropdownModel",
            "index": 4,
            "_view_module": "@jupyter-widgets/controls",
            "_model_module_version": "1.5.0",
            "_view_count": null,
            "disabled": false,
            "_view_module_version": "1.5.0",
            "description_tooltip": null,
            "_model_module": "@jupyter-widgets/controls",
            "layout": "IPY_MODEL_5ba2471f1e624632bdeaec115bb63e23"
          }
        },
        "731858aacd96415f9772698c44fca0ea": {
          "model_module": "@jupyter-widgets/output",
          "model_name": "OutputModel",
          "model_module_version": "1.0.0",
          "state": {
            "_view_name": "OutputView",
            "msg_id": "",
            "_dom_classes": [],
            "_model_name": "OutputModel",
            "outputs": [
              {
                "output_type": "display_data",
                "data": {
                  "text/html": "<div>\n<style scoped>\n    .dataframe tbody tr th:only-of-type {\n        vertical-align: middle;\n    }\n\n    .dataframe tbody tr th {\n        vertical-align: top;\n    }\n\n    .dataframe thead th {\n        text-align: right;\n    }\n</style>\n<table border=\"1\" class=\"dataframe\">\n  <thead>\n    <tr style=\"text-align: right;\">\n      <th></th>\n      <th>Shift</th>\n      <th>Proportion</th>\n    </tr>\n  </thead>\n  <tbody>\n    <tr>\n      <th>0</th>\n      <td>Afternoon</td>\n      <td>0.532609</td>\n    </tr>\n    <tr>\n      <th>1</th>\n      <td>Day</td>\n      <td>0.467391</td>\n    </tr>\n  </tbody>\n</table>\n</div>",
                  "text/plain": "       Shift  Proportion\n0  Afternoon    0.532609\n1        Day    0.467391"
                },
                "metadata": {}
              }
            ],
            "_view_module": "@jupyter-widgets/output",
            "_model_module_version": "1.0.0",
            "_view_count": null,
            "_view_module_version": "1.0.0",
            "layout": "IPY_MODEL_9a3b02cbdf9d43088e932194d31e40f2",
            "_model_module": "@jupyter-widgets/output"
          }
        },
        "3ec77010772b49f480bf858e0de28607": {
          "model_module": "@jupyter-widgets/controls",
          "model_name": "DescriptionStyleModel",
          "model_module_version": "1.5.0",
          "state": {
            "_view_name": "StyleView",
            "_model_name": "DescriptionStyleModel",
            "description_width": "",
            "_view_module": "@jupyter-widgets/base",
            "_model_module_version": "1.5.0",
            "_view_count": null,
            "_view_module_version": "1.2.0",
            "_model_module": "@jupyter-widgets/controls"
          }
        },
        "5ba2471f1e624632bdeaec115bb63e23": {
          "model_module": "@jupyter-widgets/base",
          "model_name": "LayoutModel",
          "model_module_version": "1.2.0",
          "state": {
            "_view_name": "LayoutView",
            "grid_template_rows": null,
            "right": null,
            "justify_content": null,
            "_view_module": "@jupyter-widgets/base",
            "overflow": null,
            "_model_module_version": "1.2.0",
            "_view_count": null,
            "flex_flow": null,
            "width": null,
            "min_width": null,
            "border": null,
            "align_items": null,
            "bottom": null,
            "_model_module": "@jupyter-widgets/base",
            "top": null,
            "grid_column": null,
            "overflow_y": null,
            "overflow_x": null,
            "grid_auto_flow": null,
            "grid_area": null,
            "grid_template_columns": null,
            "flex": null,
            "_model_name": "LayoutModel",
            "justify_items": null,
            "grid_row": null,
            "max_height": null,
            "align_content": null,
            "visibility": null,
            "align_self": null,
            "height": null,
            "min_height": null,
            "padding": null,
            "grid_auto_rows": null,
            "grid_gap": null,
            "max_width": null,
            "order": null,
            "_view_module_version": "1.2.0",
            "grid_template_areas": null,
            "object_position": null,
            "object_fit": null,
            "grid_auto_columns": null,
            "margin": null,
            "display": null,
            "left": null
          }
        },
        "9a3b02cbdf9d43088e932194d31e40f2": {
          "model_module": "@jupyter-widgets/base",
          "model_name": "LayoutModel",
          "model_module_version": "1.2.0",
          "state": {
            "_view_name": "LayoutView",
            "grid_template_rows": null,
            "right": null,
            "justify_content": null,
            "_view_module": "@jupyter-widgets/base",
            "overflow": null,
            "_model_module_version": "1.2.0",
            "_view_count": null,
            "flex_flow": null,
            "width": null,
            "min_width": null,
            "border": null,
            "align_items": null,
            "bottom": null,
            "_model_module": "@jupyter-widgets/base",
            "top": null,
            "grid_column": null,
            "overflow_y": null,
            "overflow_x": null,
            "grid_auto_flow": null,
            "grid_area": null,
            "grid_template_columns": null,
            "flex": null,
            "_model_name": "LayoutModel",
            "justify_items": null,
            "grid_row": null,
            "max_height": null,
            "align_content": null,
            "visibility": null,
            "align_self": null,
            "height": null,
            "min_height": null,
            "padding": null,
            "grid_auto_rows": null,
            "grid_gap": null,
            "max_width": null,
            "order": null,
            "_view_module_version": "1.2.0",
            "grid_template_areas": null,
            "object_position": null,
            "object_fit": null,
            "grid_auto_columns": null,
            "margin": null,
            "display": null,
            "left": null
          }
        },
        "892c795380974c0b9857512ad2e3e899": {
          "model_module": "@jupyter-widgets/controls",
          "model_name": "VBoxModel",
          "model_module_version": "1.5.0",
          "state": {
            "_view_name": "VBoxView",
            "_dom_classes": [
              "widget-interact"
            ],
            "_model_name": "VBoxModel",
            "_view_module": "@jupyter-widgets/controls",
            "_model_module_version": "1.5.0",
            "_view_count": null,
            "_view_module_version": "1.5.0",
            "box_style": "",
            "layout": "IPY_MODEL_bfd053a5034a43c7b2b308c895712363",
            "_model_module": "@jupyter-widgets/controls",
            "children": [
              "IPY_MODEL_b54a93709c8e4d0594f5fcd942561fb9",
              "IPY_MODEL_88077a425a874dcea9613fe80ceb9ba0",
              "IPY_MODEL_7445309e3d15450baf3259fc94411354"
            ]
          }
        },
        "bfd053a5034a43c7b2b308c895712363": {
          "model_module": "@jupyter-widgets/base",
          "model_name": "LayoutModel",
          "model_module_version": "1.2.0",
          "state": {
            "_view_name": "LayoutView",
            "grid_template_rows": null,
            "right": null,
            "justify_content": null,
            "_view_module": "@jupyter-widgets/base",
            "overflow": null,
            "_model_module_version": "1.2.0",
            "_view_count": null,
            "flex_flow": null,
            "width": null,
            "min_width": null,
            "border": null,
            "align_items": null,
            "bottom": null,
            "_model_module": "@jupyter-widgets/base",
            "top": null,
            "grid_column": null,
            "overflow_y": null,
            "overflow_x": null,
            "grid_auto_flow": null,
            "grid_area": null,
            "grid_template_columns": null,
            "flex": null,
            "_model_name": "LayoutModel",
            "justify_items": null,
            "grid_row": null,
            "max_height": null,
            "align_content": null,
            "visibility": null,
            "align_self": null,
            "height": null,
            "min_height": null,
            "padding": null,
            "grid_auto_rows": null,
            "grid_gap": null,
            "max_width": null,
            "order": null,
            "_view_module_version": "1.2.0",
            "grid_template_areas": null,
            "object_position": null,
            "object_fit": null,
            "grid_auto_columns": null,
            "margin": null,
            "display": null,
            "left": null
          }
        },
        "b54a93709c8e4d0594f5fcd942561fb9": {
          "model_module": "@jupyter-widgets/controls",
          "model_name": "DropdownModel",
          "model_module_version": "1.5.0",
          "state": {
            "_options_labels": [
              "Month",
              "Weeknum",
              "Weekday",
              "Team",
              "Shift",
              "Hour"
            ],
            "_view_name": "DropdownView",
            "style": "IPY_MODEL_537a190826814823b2402eb6dbadd2df",
            "_dom_classes": [],
            "description": "Cat",
            "_model_name": "DropdownModel",
            "index": 5,
            "_view_module": "@jupyter-widgets/controls",
            "_model_module_version": "1.5.0",
            "_view_count": null,
            "disabled": false,
            "_view_module_version": "1.5.0",
            "description_tooltip": null,
            "_model_module": "@jupyter-widgets/controls",
            "layout": "IPY_MODEL_9aecc8a131f3419dac72dbe28b739178"
          }
        },
        "88077a425a874dcea9613fe80ceb9ba0": {
          "model_module": "@jupyter-widgets/controls",
          "model_name": "DropdownModel",
          "model_module_version": "1.5.0",
          "state": {
            "_options_labels": [
              "Shift",
              "Team",
              "None"
            ],
            "_view_name": "DropdownView",
            "style": "IPY_MODEL_6fc89fd52bb4466d9b9662f1ce1e107c",
            "_dom_classes": [],
            "description": "Shift",
            "_model_name": "DropdownModel",
            "index": 0,
            "_view_module": "@jupyter-widgets/controls",
            "_model_module_version": "1.5.0",
            "_view_count": null,
            "disabled": false,
            "_view_module_version": "1.5.0",
            "description_tooltip": null,
            "_model_module": "@jupyter-widgets/controls",
            "layout": "IPY_MODEL_ddca2fda6d73467ab7fe5f9b7fc4b146"
          }
        },
        "7445309e3d15450baf3259fc94411354": {
          "model_module": "@jupyter-widgets/output",
          "model_name": "OutputModel",
          "model_module_version": "1.0.0",
          "state": {
            "_view_name": "OutputView",
            "msg_id": "",
            "_dom_classes": [],
            "_model_name": "OutputModel",
            "outputs": [
              {
                "output_type": "display_data",
                "data": {
                  "image/png": "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\n",
                  "text/plain": "<Figure size 576x288 with 1 Axes>"
                },
                "metadata": {}
              }
            ],
            "_view_module": "@jupyter-widgets/output",
            "_model_module_version": "1.0.0",
            "_view_count": null,
            "_view_module_version": "1.0.0",
            "layout": "IPY_MODEL_7d2276b3ee5d427a815d9e42053ded78",
            "_model_module": "@jupyter-widgets/output"
          }
        },
        "537a190826814823b2402eb6dbadd2df": {
          "model_module": "@jupyter-widgets/controls",
          "model_name": "DescriptionStyleModel",
          "model_module_version": "1.5.0",
          "state": {
            "_view_name": "StyleView",
            "_model_name": "DescriptionStyleModel",
            "description_width": "",
            "_view_module": "@jupyter-widgets/base",
            "_model_module_version": "1.5.0",
            "_view_count": null,
            "_view_module_version": "1.2.0",
            "_model_module": "@jupyter-widgets/controls"
          }
        },
        "9aecc8a131f3419dac72dbe28b739178": {
          "model_module": "@jupyter-widgets/base",
          "model_name": "LayoutModel",
          "model_module_version": "1.2.0",
          "state": {
            "_view_name": "LayoutView",
            "grid_template_rows": null,
            "right": null,
            "justify_content": null,
            "_view_module": "@jupyter-widgets/base",
            "overflow": null,
            "_model_module_version": "1.2.0",
            "_view_count": null,
            "flex_flow": null,
            "width": null,
            "min_width": null,
            "border": null,
            "align_items": null,
            "bottom": null,
            "_model_module": "@jupyter-widgets/base",
            "top": null,
            "grid_column": null,
            "overflow_y": null,
            "overflow_x": null,
            "grid_auto_flow": null,
            "grid_area": null,
            "grid_template_columns": null,
            "flex": null,
            "_model_name": "LayoutModel",
            "justify_items": null,
            "grid_row": null,
            "max_height": null,
            "align_content": null,
            "visibility": null,
            "align_self": null,
            "height": null,
            "min_height": null,
            "padding": null,
            "grid_auto_rows": null,
            "grid_gap": null,
            "max_width": null,
            "order": null,
            "_view_module_version": "1.2.0",
            "grid_template_areas": null,
            "object_position": null,
            "object_fit": null,
            "grid_auto_columns": null,
            "margin": null,
            "display": null,
            "left": null
          }
        },
        "6fc89fd52bb4466d9b9662f1ce1e107c": {
          "model_module": "@jupyter-widgets/controls",
          "model_name": "DescriptionStyleModel",
          "model_module_version": "1.5.0",
          "state": {
            "_view_name": "StyleView",
            "_model_name": "DescriptionStyleModel",
            "description_width": "",
            "_view_module": "@jupyter-widgets/base",
            "_model_module_version": "1.5.0",
            "_view_count": null,
            "_view_module_version": "1.2.0",
            "_model_module": "@jupyter-widgets/controls"
          }
        },
        "ddca2fda6d73467ab7fe5f9b7fc4b146": {
          "model_module": "@jupyter-widgets/base",
          "model_name": "LayoutModel",
          "model_module_version": "1.2.0",
          "state": {
            "_view_name": "LayoutView",
            "grid_template_rows": null,
            "right": null,
            "justify_content": null,
            "_view_module": "@jupyter-widgets/base",
            "overflow": null,
            "_model_module_version": "1.2.0",
            "_view_count": null,
            "flex_flow": null,
            "width": null,
            "min_width": null,
            "border": null,
            "align_items": null,
            "bottom": null,
            "_model_module": "@jupyter-widgets/base",
            "top": null,
            "grid_column": null,
            "overflow_y": null,
            "overflow_x": null,
            "grid_auto_flow": null,
            "grid_area": null,
            "grid_template_columns": null,
            "flex": null,
            "_model_name": "LayoutModel",
            "justify_items": null,
            "grid_row": null,
            "max_height": null,
            "align_content": null,
            "visibility": null,
            "align_self": null,
            "height": null,
            "min_height": null,
            "padding": null,
            "grid_auto_rows": null,
            "grid_gap": null,
            "max_width": null,
            "order": null,
            "_view_module_version": "1.2.0",
            "grid_template_areas": null,
            "object_position": null,
            "object_fit": null,
            "grid_auto_columns": null,
            "margin": null,
            "display": null,
            "left": null
          }
        },
        "7d2276b3ee5d427a815d9e42053ded78": {
          "model_module": "@jupyter-widgets/base",
          "model_name": "LayoutModel",
          "model_module_version": "1.2.0",
          "state": {
            "_view_name": "LayoutView",
            "grid_template_rows": null,
            "right": null,
            "justify_content": null,
            "_view_module": "@jupyter-widgets/base",
            "overflow": null,
            "_model_module_version": "1.2.0",
            "_view_count": null,
            "flex_flow": null,
            "width": null,
            "min_width": null,
            "border": null,
            "align_items": null,
            "bottom": null,
            "_model_module": "@jupyter-widgets/base",
            "top": null,
            "grid_column": null,
            "overflow_y": null,
            "overflow_x": null,
            "grid_auto_flow": null,
            "grid_area": null,
            "grid_template_columns": null,
            "flex": null,
            "_model_name": "LayoutModel",
            "justify_items": null,
            "grid_row": null,
            "max_height": null,
            "align_content": null,
            "visibility": null,
            "align_self": null,
            "height": null,
            "min_height": null,
            "padding": null,
            "grid_auto_rows": null,
            "grid_gap": null,
            "max_width": null,
            "order": null,
            "_view_module_version": "1.2.0",
            "grid_template_areas": null,
            "object_position": null,
            "object_fit": null,
            "grid_auto_columns": null,
            "margin": null,
            "display": null,
            "left": null
          }
        },
        "5b19c583c22f4cadb953975e99c57f3f": {
          "model_module": "@jupyter-widgets/controls",
          "model_name": "VBoxModel",
          "model_module_version": "1.5.0",
          "state": {
            "_view_name": "VBoxView",
            "_dom_classes": [
              "widget-interact"
            ],
            "_model_name": "VBoxModel",
            "_view_module": "@jupyter-widgets/controls",
            "_model_module_version": "1.5.0",
            "_view_count": null,
            "_view_module_version": "1.5.0",
            "box_style": "",
            "layout": "IPY_MODEL_d8762888b5ca4461859c195924777b1c",
            "_model_module": "@jupyter-widgets/controls",
            "children": [
              "IPY_MODEL_347eabf664ea45c2bf8a24a1a7dcf0fc",
              "IPY_MODEL_27cffa089fcd429eb2740c6c232c0b7b",
              "IPY_MODEL_302a8ba101c64b499ee9a8d329196fcc",
              "IPY_MODEL_2751a6cf5d7844ef80706cb1cb31fb1d"
            ]
          }
        },
        "d8762888b5ca4461859c195924777b1c": {
          "model_module": "@jupyter-widgets/base",
          "model_name": "LayoutModel",
          "model_module_version": "1.2.0",
          "state": {
            "_view_name": "LayoutView",
            "grid_template_rows": null,
            "right": null,
            "justify_content": null,
            "_view_module": "@jupyter-widgets/base",
            "overflow": null,
            "_model_module_version": "1.2.0",
            "_view_count": null,
            "flex_flow": null,
            "width": null,
            "min_width": null,
            "border": null,
            "align_items": null,
            "bottom": null,
            "_model_module": "@jupyter-widgets/base",
            "top": null,
            "grid_column": null,
            "overflow_y": null,
            "overflow_x": null,
            "grid_auto_flow": null,
            "grid_area": null,
            "grid_template_columns": null,
            "flex": null,
            "_model_name": "LayoutModel",
            "justify_items": null,
            "grid_row": null,
            "max_height": null,
            "align_content": null,
            "visibility": null,
            "align_self": null,
            "height": null,
            "min_height": null,
            "padding": null,
            "grid_auto_rows": null,
            "grid_gap": null,
            "max_width": null,
            "order": null,
            "_view_module_version": "1.2.0",
            "grid_template_areas": null,
            "object_position": null,
            "object_fit": null,
            "grid_auto_columns": null,
            "margin": null,
            "display": null,
            "left": null
          }
        },
        "347eabf664ea45c2bf8a24a1a7dcf0fc": {
          "model_module": "@jupyter-widgets/controls",
          "model_name": "DropdownModel",
          "model_module_version": "1.5.0",
          "state": {
            "_options_labels": [
              "2021"
            ],
            "_view_name": "DropdownView",
            "style": "IPY_MODEL_19c66f1f1bdd4bb7a5e3e99daeb4b041",
            "_dom_classes": [],
            "description": "Year",
            "_model_name": "DropdownModel",
            "index": 0,
            "_view_module": "@jupyter-widgets/controls",
            "_model_module_version": "1.5.0",
            "_view_count": null,
            "disabled": false,
            "_view_module_version": "1.5.0",
            "description_tooltip": null,
            "_model_module": "@jupyter-widgets/controls",
            "layout": "IPY_MODEL_78b8ebef9b53489a9d00422262bba763"
          }
        },
        "27cffa089fcd429eb2740c6c232c0b7b": {
          "model_module": "@jupyter-widgets/controls",
          "model_name": "DropdownModel",
          "model_module_version": "1.5.0",
          "state": {
            "_options_labels": [
              "J4"
            ],
            "_view_name": "DropdownView",
            "style": "IPY_MODEL_9e229cebdd014ded87ef922c80eb9b1e",
            "_dom_classes": [],
            "description": "Line",
            "_model_name": "DropdownModel",
            "index": 0,
            "_view_module": "@jupyter-widgets/controls",
            "_model_module_version": "1.5.0",
            "_view_count": null,
            "disabled": false,
            "_view_module_version": "1.5.0",
            "description_tooltip": null,
            "_model_module": "@jupyter-widgets/controls",
            "layout": "IPY_MODEL_e555608c07724580a40f02ef5bdf279d"
          }
        },
        "302a8ba101c64b499ee9a8d329196fcc": {
          "model_module": "@jupyter-widgets/controls",
          "model_name": "DropdownModel",
          "model_module_version": "1.5.0",
          "state": {
            "_options_labels": [
              "3_Fullførte",
              "2_Pågående"
            ],
            "_view_name": "DropdownView",
            "style": "IPY_MODEL_2d2bbfd4295644b58a51e6d9d5c6f494",
            "_dom_classes": [],
            "description": "Cat",
            "_model_name": "DropdownModel",
            "index": 0,
            "_view_module": "@jupyter-widgets/controls",
            "_model_module_version": "1.5.0",
            "_view_count": null,
            "disabled": false,
            "_view_module_version": "1.5.0",
            "description_tooltip": null,
            "_model_module": "@jupyter-widgets/controls",
            "layout": "IPY_MODEL_bd27be933cad4f19b59a75dcf45f49fc"
          }
        },
        "2751a6cf5d7844ef80706cb1cb31fb1d": {
          "model_module": "@jupyter-widgets/output",
          "model_name": "OutputModel",
          "model_module_version": "1.0.0",
          "state": {
            "_view_name": "OutputView",
            "msg_id": "",
            "_dom_classes": [],
            "_model_name": "OutputModel",
            "outputs": [
              {
                "output_type": "display_data",
                "data": {
                  "image/png": "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\n",
                  "text/plain": "<Figure size 864x360 with 1 Axes>"
                },
                "metadata": {}
              }
            ],
            "_view_module": "@jupyter-widgets/output",
            "_model_module_version": "1.0.0",
            "_view_count": null,
            "_view_module_version": "1.0.0",
            "layout": "IPY_MODEL_7e815c4cacbf4c31846b60abb9756a3e",
            "_model_module": "@jupyter-widgets/output"
          }
        },
        "19c66f1f1bdd4bb7a5e3e99daeb4b041": {
          "model_module": "@jupyter-widgets/controls",
          "model_name": "DescriptionStyleModel",
          "model_module_version": "1.5.0",
          "state": {
            "_view_name": "StyleView",
            "_model_name": "DescriptionStyleModel",
            "description_width": "",
            "_view_module": "@jupyter-widgets/base",
            "_model_module_version": "1.5.0",
            "_view_count": null,
            "_view_module_version": "1.2.0",
            "_model_module": "@jupyter-widgets/controls"
          }
        },
        "78b8ebef9b53489a9d00422262bba763": {
          "model_module": "@jupyter-widgets/base",
          "model_name": "LayoutModel",
          "model_module_version": "1.2.0",
          "state": {
            "_view_name": "LayoutView",
            "grid_template_rows": null,
            "right": null,
            "justify_content": null,
            "_view_module": "@jupyter-widgets/base",
            "overflow": null,
            "_model_module_version": "1.2.0",
            "_view_count": null,
            "flex_flow": null,
            "width": null,
            "min_width": null,
            "border": null,
            "align_items": null,
            "bottom": null,
            "_model_module": "@jupyter-widgets/base",
            "top": null,
            "grid_column": null,
            "overflow_y": null,
            "overflow_x": null,
            "grid_auto_flow": null,
            "grid_area": null,
            "grid_template_columns": null,
            "flex": null,
            "_model_name": "LayoutModel",
            "justify_items": null,
            "grid_row": null,
            "max_height": null,
            "align_content": null,
            "visibility": null,
            "align_self": null,
            "height": null,
            "min_height": null,
            "padding": null,
            "grid_auto_rows": null,
            "grid_gap": null,
            "max_width": null,
            "order": null,
            "_view_module_version": "1.2.0",
            "grid_template_areas": null,
            "object_position": null,
            "object_fit": null,
            "grid_auto_columns": null,
            "margin": null,
            "display": null,
            "left": null
          }
        },
        "9e229cebdd014ded87ef922c80eb9b1e": {
          "model_module": "@jupyter-widgets/controls",
          "model_name": "DescriptionStyleModel",
          "model_module_version": "1.5.0",
          "state": {
            "_view_name": "StyleView",
            "_model_name": "DescriptionStyleModel",
            "description_width": "",
            "_view_module": "@jupyter-widgets/base",
            "_model_module_version": "1.5.0",
            "_view_count": null,
            "_view_module_version": "1.2.0",
            "_model_module": "@jupyter-widgets/controls"
          }
        },
        "e555608c07724580a40f02ef5bdf279d": {
          "model_module": "@jupyter-widgets/base",
          "model_name": "LayoutModel",
          "model_module_version": "1.2.0",
          "state": {
            "_view_name": "LayoutView",
            "grid_template_rows": null,
            "right": null,
            "justify_content": null,
            "_view_module": "@jupyter-widgets/base",
            "overflow": null,
            "_model_module_version": "1.2.0",
            "_view_count": null,
            "flex_flow": null,
            "width": null,
            "min_width": null,
            "border": null,
            "align_items": null,
            "bottom": null,
            "_model_module": "@jupyter-widgets/base",
            "top": null,
            "grid_column": null,
            "overflow_y": null,
            "overflow_x": null,
            "grid_auto_flow": null,
            "grid_area": null,
            "grid_template_columns": null,
            "flex": null,
            "_model_name": "LayoutModel",
            "justify_items": null,
            "grid_row": null,
            "max_height": null,
            "align_content": null,
            "visibility": null,
            "align_self": null,
            "height": null,
            "min_height": null,
            "padding": null,
            "grid_auto_rows": null,
            "grid_gap": null,
            "max_width": null,
            "order": null,
            "_view_module_version": "1.2.0",
            "grid_template_areas": null,
            "object_position": null,
            "object_fit": null,
            "grid_auto_columns": null,
            "margin": null,
            "display": null,
            "left": null
          }
        },
        "2d2bbfd4295644b58a51e6d9d5c6f494": {
          "model_module": "@jupyter-widgets/controls",
          "model_name": "DescriptionStyleModel",
          "model_module_version": "1.5.0",
          "state": {
            "_view_name": "StyleView",
            "_model_name": "DescriptionStyleModel",
            "description_width": "",
            "_view_module": "@jupyter-widgets/base",
            "_model_module_version": "1.5.0",
            "_view_count": null,
            "_view_module_version": "1.2.0",
            "_model_module": "@jupyter-widgets/controls"
          }
        },
        "bd27be933cad4f19b59a75dcf45f49fc": {
          "model_module": "@jupyter-widgets/base",
          "model_name": "LayoutModel",
          "model_module_version": "1.2.0",
          "state": {
            "_view_name": "LayoutView",
            "grid_template_rows": null,
            "right": null,
            "justify_content": null,
            "_view_module": "@jupyter-widgets/base",
            "overflow": null,
            "_model_module_version": "1.2.0",
            "_view_count": null,
            "flex_flow": null,
            "width": null,
            "min_width": null,
            "border": null,
            "align_items": null,
            "bottom": null,
            "_model_module": "@jupyter-widgets/base",
            "top": null,
            "grid_column": null,
            "overflow_y": null,
            "overflow_x": null,
            "grid_auto_flow": null,
            "grid_area": null,
            "grid_template_columns": null,
            "flex": null,
            "_model_name": "LayoutModel",
            "justify_items": null,
            "grid_row": null,
            "max_height": null,
            "align_content": null,
            "visibility": null,
            "align_self": null,
            "height": null,
            "min_height": null,
            "padding": null,
            "grid_auto_rows": null,
            "grid_gap": null,
            "max_width": null,
            "order": null,
            "_view_module_version": "1.2.0",
            "grid_template_areas": null,
            "object_position": null,
            "object_fit": null,
            "grid_auto_columns": null,
            "margin": null,
            "display": null,
            "left": null
          }
        },
        "7e815c4cacbf4c31846b60abb9756a3e": {
          "model_module": "@jupyter-widgets/base",
          "model_name": "LayoutModel",
          "model_module_version": "1.2.0",
          "state": {
            "_view_name": "LayoutView",
            "grid_template_rows": null,
            "right": null,
            "justify_content": null,
            "_view_module": "@jupyter-widgets/base",
            "overflow": null,
            "_model_module_version": "1.2.0",
            "_view_count": null,
            "flex_flow": null,
            "width": null,
            "min_width": null,
            "border": null,
            "align_items": null,
            "bottom": null,
            "_model_module": "@jupyter-widgets/base",
            "top": null,
            "grid_column": null,
            "overflow_y": null,
            "overflow_x": null,
            "grid_auto_flow": null,
            "grid_area": null,
            "grid_template_columns": null,
            "flex": null,
            "_model_name": "LayoutModel",
            "justify_items": null,
            "grid_row": null,
            "max_height": null,
            "align_content": null,
            "visibility": null,
            "align_self": null,
            "height": null,
            "min_height": null,
            "padding": null,
            "grid_auto_rows": null,
            "grid_gap": null,
            "max_width": null,
            "order": null,
            "_view_module_version": "1.2.0",
            "grid_template_areas": null,
            "object_position": null,
            "object_fit": null,
            "grid_auto_columns": null,
            "margin": null,
            "display": null,
            "left": null
          }
        },
        "981d1d243b1f4c229c61d30c58da4371": {
          "model_module": "@jupyter-widgets/controls",
          "model_name": "VBoxModel",
          "model_module_version": "1.5.0",
          "state": {
            "_view_name": "VBoxView",
            "_dom_classes": [
              "widget-interact"
            ],
            "_model_name": "VBoxModel",
            "_view_module": "@jupyter-widgets/controls",
            "_model_module_version": "1.5.0",
            "_view_count": null,
            "_view_module_version": "1.5.0",
            "box_style": "",
            "layout": "IPY_MODEL_821566ea12e649cfb3c1fe6dfbc9dc29",
            "_model_module": "@jupyter-widgets/controls",
            "children": [
              "IPY_MODEL_039cb004a3d84ef2b7316b581ebfe04f",
              "IPY_MODEL_a6c836ce35ff407fa28ae435632b7c3c",
              "IPY_MODEL_17392f5e55df4b4da7dc8e091c6f3e61",
              "IPY_MODEL_0abdee06e909450db0ad58aecfaa842b"
            ]
          }
        },
        "821566ea12e649cfb3c1fe6dfbc9dc29": {
          "model_module": "@jupyter-widgets/base",
          "model_name": "LayoutModel",
          "model_module_version": "1.2.0",
          "state": {
            "_view_name": "LayoutView",
            "grid_template_rows": null,
            "right": null,
            "justify_content": null,
            "_view_module": "@jupyter-widgets/base",
            "overflow": null,
            "_model_module_version": "1.2.0",
            "_view_count": null,
            "flex_flow": null,
            "width": null,
            "min_width": null,
            "border": null,
            "align_items": null,
            "bottom": null,
            "_model_module": "@jupyter-widgets/base",
            "top": null,
            "grid_column": null,
            "overflow_y": null,
            "overflow_x": null,
            "grid_auto_flow": null,
            "grid_area": null,
            "grid_template_columns": null,
            "flex": null,
            "_model_name": "LayoutModel",
            "justify_items": null,
            "grid_row": null,
            "max_height": null,
            "align_content": null,
            "visibility": null,
            "align_self": null,
            "height": null,
            "min_height": null,
            "padding": null,
            "grid_auto_rows": null,
            "grid_gap": null,
            "max_width": null,
            "order": null,
            "_view_module_version": "1.2.0",
            "grid_template_areas": null,
            "object_position": null,
            "object_fit": null,
            "grid_auto_columns": null,
            "margin": null,
            "display": null,
            "left": null
          }
        },
        "039cb004a3d84ef2b7316b581ebfe04f": {
          "model_module": "@jupyter-widgets/controls",
          "model_name": "DropdownModel",
          "model_module_version": "1.5.0",
          "state": {
            "_options_labels": [
              "2021"
            ],
            "_view_name": "DropdownView",
            "style": "IPY_MODEL_3e21b01312dc46b790611bf033667fe8",
            "_dom_classes": [],
            "description": "Year",
            "_model_name": "DropdownModel",
            "index": 0,
            "_view_module": "@jupyter-widgets/controls",
            "_model_module_version": "1.5.0",
            "_view_count": null,
            "disabled": false,
            "_view_module_version": "1.5.0",
            "description_tooltip": null,
            "_model_module": "@jupyter-widgets/controls",
            "layout": "IPY_MODEL_f77aa73ec6f24146941d5b085d267526"
          }
        },
        "a6c836ce35ff407fa28ae435632b7c3c": {
          "model_module": "@jupyter-widgets/controls",
          "model_name": "DropdownModel",
          "model_module_version": "1.5.0",
          "state": {
            "_options_labels": [
              "J4"
            ],
            "_view_name": "DropdownView",
            "style": "IPY_MODEL_e02f07a7459c485ea42b93348cb37f64",
            "_dom_classes": [],
            "description": "Line",
            "_model_name": "DropdownModel",
            "index": 0,
            "_view_module": "@jupyter-widgets/controls",
            "_model_module_version": "1.5.0",
            "_view_count": null,
            "disabled": false,
            "_view_module_version": "1.5.0",
            "description_tooltip": null,
            "_model_module": "@jupyter-widgets/controls",
            "layout": "IPY_MODEL_088618a3d1a4466189f07d487392503d"
          }
        },
        "17392f5e55df4b4da7dc8e091c6f3e61": {
          "model_module": "@jupyter-widgets/controls",
          "model_name": "DropdownModel",
          "model_module_version": "1.5.0",
          "state": {
            "_options_labels": [
              "3_Fullførte",
              "2_Pågående"
            ],
            "_view_name": "DropdownView",
            "style": "IPY_MODEL_7e2d6c1cca2e49b9a4829c665a6cba8b",
            "_dom_classes": [],
            "description": "Cat",
            "_model_name": "DropdownModel",
            "index": 0,
            "_view_module": "@jupyter-widgets/controls",
            "_model_module_version": "1.5.0",
            "_view_count": null,
            "disabled": false,
            "_view_module_version": "1.5.0",
            "description_tooltip": null,
            "_model_module": "@jupyter-widgets/controls",
            "layout": "IPY_MODEL_31568689976043ea96bbd9d1a34efd86"
          }
        },
        "0abdee06e909450db0ad58aecfaa842b": {
          "model_module": "@jupyter-widgets/output",
          "model_name": "OutputModel",
          "model_module_version": "1.0.0",
          "state": {
            "_view_name": "OutputView",
            "msg_id": "",
            "_dom_classes": [],
            "_model_name": "OutputModel",
            "outputs": [
              {
                "output_type": "display_data",
                "data": {
                  "image/png": "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\n",
                  "text/plain": "<Figure size 864x360 with 1 Axes>"
                },
                "metadata": {}
              }
            ],
            "_view_module": "@jupyter-widgets/output",
            "_model_module_version": "1.0.0",
            "_view_count": null,
            "_view_module_version": "1.0.0",
            "layout": "IPY_MODEL_8af1b4575f414a988ae3c2c8c9650bb3",
            "_model_module": "@jupyter-widgets/output"
          }
        },
        "3e21b01312dc46b790611bf033667fe8": {
          "model_module": "@jupyter-widgets/controls",
          "model_name": "DescriptionStyleModel",
          "model_module_version": "1.5.0",
          "state": {
            "_view_name": "StyleView",
            "_model_name": "DescriptionStyleModel",
            "description_width": "",
            "_view_module": "@jupyter-widgets/base",
            "_model_module_version": "1.5.0",
            "_view_count": null,
            "_view_module_version": "1.2.0",
            "_model_module": "@jupyter-widgets/controls"
          }
        },
        "f77aa73ec6f24146941d5b085d267526": {
          "model_module": "@jupyter-widgets/base",
          "model_name": "LayoutModel",
          "model_module_version": "1.2.0",
          "state": {
            "_view_name": "LayoutView",
            "grid_template_rows": null,
            "right": null,
            "justify_content": null,
            "_view_module": "@jupyter-widgets/base",
            "overflow": null,
            "_model_module_version": "1.2.0",
            "_view_count": null,
            "flex_flow": null,
            "width": null,
            "min_width": null,
            "border": null,
            "align_items": null,
            "bottom": null,
            "_model_module": "@jupyter-widgets/base",
            "top": null,
            "grid_column": null,
            "overflow_y": null,
            "overflow_x": null,
            "grid_auto_flow": null,
            "grid_area": null,
            "grid_template_columns": null,
            "flex": null,
            "_model_name": "LayoutModel",
            "justify_items": null,
            "grid_row": null,
            "max_height": null,
            "align_content": null,
            "visibility": null,
            "align_self": null,
            "height": null,
            "min_height": null,
            "padding": null,
            "grid_auto_rows": null,
            "grid_gap": null,
            "max_width": null,
            "order": null,
            "_view_module_version": "1.2.0",
            "grid_template_areas": null,
            "object_position": null,
            "object_fit": null,
            "grid_auto_columns": null,
            "margin": null,
            "display": null,
            "left": null
          }
        },
        "e02f07a7459c485ea42b93348cb37f64": {
          "model_module": "@jupyter-widgets/controls",
          "model_name": "DescriptionStyleModel",
          "model_module_version": "1.5.0",
          "state": {
            "_view_name": "StyleView",
            "_model_name": "DescriptionStyleModel",
            "description_width": "",
            "_view_module": "@jupyter-widgets/base",
            "_model_module_version": "1.5.0",
            "_view_count": null,
            "_view_module_version": "1.2.0",
            "_model_module": "@jupyter-widgets/controls"
          }
        },
        "088618a3d1a4466189f07d487392503d": {
          "model_module": "@jupyter-widgets/base",
          "model_name": "LayoutModel",
          "model_module_version": "1.2.0",
          "state": {
            "_view_name": "LayoutView",
            "grid_template_rows": null,
            "right": null,
            "justify_content": null,
            "_view_module": "@jupyter-widgets/base",
            "overflow": null,
            "_model_module_version": "1.2.0",
            "_view_count": null,
            "flex_flow": null,
            "width": null,
            "min_width": null,
            "border": null,
            "align_items": null,
            "bottom": null,
            "_model_module": "@jupyter-widgets/base",
            "top": null,
            "grid_column": null,
            "overflow_y": null,
            "overflow_x": null,
            "grid_auto_flow": null,
            "grid_area": null,
            "grid_template_columns": null,
            "flex": null,
            "_model_name": "LayoutModel",
            "justify_items": null,
            "grid_row": null,
            "max_height": null,
            "align_content": null,
            "visibility": null,
            "align_self": null,
            "height": null,
            "min_height": null,
            "padding": null,
            "grid_auto_rows": null,
            "grid_gap": null,
            "max_width": null,
            "order": null,
            "_view_module_version": "1.2.0",
            "grid_template_areas": null,
            "object_position": null,
            "object_fit": null,
            "grid_auto_columns": null,
            "margin": null,
            "display": null,
            "left": null
          }
        },
        "7e2d6c1cca2e49b9a4829c665a6cba8b": {
          "model_module": "@jupyter-widgets/controls",
          "model_name": "DescriptionStyleModel",
          "model_module_version": "1.5.0",
          "state": {
            "_view_name": "StyleView",
            "_model_name": "DescriptionStyleModel",
            "description_width": "",
            "_view_module": "@jupyter-widgets/base",
            "_model_module_version": "1.5.0",
            "_view_count": null,
            "_view_module_version": "1.2.0",
            "_model_module": "@jupyter-widgets/controls"
          }
        },
        "31568689976043ea96bbd9d1a34efd86": {
          "model_module": "@jupyter-widgets/base",
          "model_name": "LayoutModel",
          "model_module_version": "1.2.0",
          "state": {
            "_view_name": "LayoutView",
            "grid_template_rows": null,
            "right": null,
            "justify_content": null,
            "_view_module": "@jupyter-widgets/base",
            "overflow": null,
            "_model_module_version": "1.2.0",
            "_view_count": null,
            "flex_flow": null,
            "width": null,
            "min_width": null,
            "border": null,
            "align_items": null,
            "bottom": null,
            "_model_module": "@jupyter-widgets/base",
            "top": null,
            "grid_column": null,
            "overflow_y": null,
            "overflow_x": null,
            "grid_auto_flow": null,
            "grid_area": null,
            "grid_template_columns": null,
            "flex": null,
            "_model_name": "LayoutModel",
            "justify_items": null,
            "grid_row": null,
            "max_height": null,
            "align_content": null,
            "visibility": null,
            "align_self": null,
            "height": null,
            "min_height": null,
            "padding": null,
            "grid_auto_rows": null,
            "grid_gap": null,
            "max_width": null,
            "order": null,
            "_view_module_version": "1.2.0",
            "grid_template_areas": null,
            "object_position": null,
            "object_fit": null,
            "grid_auto_columns": null,
            "margin": null,
            "display": null,
            "left": null
          }
        },
        "8af1b4575f414a988ae3c2c8c9650bb3": {
          "model_module": "@jupyter-widgets/base",
          "model_name": "LayoutModel",
          "model_module_version": "1.2.0",
          "state": {
            "_view_name": "LayoutView",
            "grid_template_rows": null,
            "right": null,
            "justify_content": null,
            "_view_module": "@jupyter-widgets/base",
            "overflow": null,
            "_model_module_version": "1.2.0",
            "_view_count": null,
            "flex_flow": null,
            "width": null,
            "min_width": null,
            "border": null,
            "align_items": null,
            "bottom": null,
            "_model_module": "@jupyter-widgets/base",
            "top": null,
            "grid_column": null,
            "overflow_y": null,
            "overflow_x": null,
            "grid_auto_flow": null,
            "grid_area": null,
            "grid_template_columns": null,
            "flex": null,
            "_model_name": "LayoutModel",
            "justify_items": null,
            "grid_row": null,
            "max_height": null,
            "align_content": null,
            "visibility": null,
            "align_self": null,
            "height": null,
            "min_height": null,
            "padding": null,
            "grid_auto_rows": null,
            "grid_gap": null,
            "max_width": null,
            "order": null,
            "_view_module_version": "1.2.0",
            "grid_template_areas": null,
            "object_position": null,
            "object_fit": null,
            "grid_auto_columns": null,
            "margin": null,
            "display": null,
            "left": null
          }
        },
        "ceba0d311b5343eebc708bfef0a99c29": {
          "model_module": "@jupyter-widgets/controls",
          "model_name": "VBoxModel",
          "model_module_version": "1.5.0",
          "state": {
            "_view_name": "VBoxView",
            "_dom_classes": [
              "widget-interact"
            ],
            "_model_name": "VBoxModel",
            "_view_module": "@jupyter-widgets/controls",
            "_model_module_version": "1.5.0",
            "_view_count": null,
            "_view_module_version": "1.5.0",
            "box_style": "",
            "layout": "IPY_MODEL_e2229de073664ca394b51068c3c41071",
            "_model_module": "@jupyter-widgets/controls",
            "children": [
              "IPY_MODEL_e37eb754ad3b4918903fe2589e96cd73",
              "IPY_MODEL_76c7ef7a5cee49b7833925b4316eb4c5",
              "IPY_MODEL_2f0fdac48c2248e086daf5103bd3e194",
              "IPY_MODEL_fd1a783a7b4346e6b0ac9d6c786e7350",
              "IPY_MODEL_bde3373883da4fe5af35cb119ac19575"
            ]
          }
        },
        "e2229de073664ca394b51068c3c41071": {
          "model_module": "@jupyter-widgets/base",
          "model_name": "LayoutModel",
          "model_module_version": "1.2.0",
          "state": {
            "_view_name": "LayoutView",
            "grid_template_rows": null,
            "right": null,
            "justify_content": null,
            "_view_module": "@jupyter-widgets/base",
            "overflow": null,
            "_model_module_version": "1.2.0",
            "_view_count": null,
            "flex_flow": null,
            "width": null,
            "min_width": null,
            "border": null,
            "align_items": null,
            "bottom": null,
            "_model_module": "@jupyter-widgets/base",
            "top": null,
            "grid_column": null,
            "overflow_y": null,
            "overflow_x": null,
            "grid_auto_flow": null,
            "grid_area": null,
            "grid_template_columns": null,
            "flex": null,
            "_model_name": "LayoutModel",
            "justify_items": null,
            "grid_row": null,
            "max_height": null,
            "align_content": null,
            "visibility": null,
            "align_self": null,
            "height": null,
            "min_height": null,
            "padding": null,
            "grid_auto_rows": null,
            "grid_gap": null,
            "max_width": null,
            "order": null,
            "_view_module_version": "1.2.0",
            "grid_template_areas": null,
            "object_position": null,
            "object_fit": null,
            "grid_auto_columns": null,
            "margin": null,
            "display": null,
            "left": null
          }
        },
        "e37eb754ad3b4918903fe2589e96cd73": {
          "model_module": "@jupyter-widgets/controls",
          "model_name": "DropdownModel",
          "model_module_version": "1.5.0",
          "state": {
            "_options_labels": [
              "2021"
            ],
            "_view_name": "DropdownView",
            "style": "IPY_MODEL_00141956ed264bec9f0892455dc37f60",
            "_dom_classes": [],
            "description": "Year",
            "_model_name": "DropdownModel",
            "index": 0,
            "_view_module": "@jupyter-widgets/controls",
            "_model_module_version": "1.5.0",
            "_view_count": null,
            "disabled": false,
            "_view_module_version": "1.5.0",
            "description_tooltip": null,
            "_model_module": "@jupyter-widgets/controls",
            "layout": "IPY_MODEL_9f77d2716e614b8c844f96dc4e97a941"
          }
        },
        "76c7ef7a5cee49b7833925b4316eb4c5": {
          "model_module": "@jupyter-widgets/controls",
          "model_name": "DropdownModel",
          "model_module_version": "1.5.0",
          "state": {
            "_options_labels": [
              "J4"
            ],
            "_view_name": "DropdownView",
            "style": "IPY_MODEL_25d9556838f34fe8954013addd7345dd",
            "_dom_classes": [],
            "description": "Line",
            "_model_name": "DropdownModel",
            "index": 0,
            "_view_module": "@jupyter-widgets/controls",
            "_model_module_version": "1.5.0",
            "_view_count": null,
            "disabled": false,
            "_view_module_version": "1.5.0",
            "description_tooltip": null,
            "_model_module": "@jupyter-widgets/controls",
            "layout": "IPY_MODEL_994ae7e932bc4eaea5998a399609f13d"
          }
        },
        "2f0fdac48c2248e086daf5103bd3e194": {
          "model_module": "@jupyter-widgets/controls",
          "model_name": "DropdownModel",
          "model_module_version": "1.5.0",
          "state": {
            "_options_labels": [
              "1_Molding",
              "2_Packing",
              "3_Schubert_Flow_Pack",
              "4_Cartooning_Palletizer",
              "5_Maintenance"
            ],
            "_view_name": "DropdownView",
            "style": "IPY_MODEL_e9574a72ff004105860e9da8f9d42300",
            "_dom_classes": [],
            "description": "SGA",
            "_model_name": "DropdownModel",
            "index": 0,
            "_view_module": "@jupyter-widgets/controls",
            "_model_module_version": "1.5.0",
            "_view_count": null,
            "disabled": false,
            "_view_module_version": "1.5.0",
            "description_tooltip": null,
            "_model_module": "@jupyter-widgets/controls",
            "layout": "IPY_MODEL_5c85d82630264d4582ddd1d3b45113d1"
          }
        },
        "fd1a783a7b4346e6b0ac9d6c786e7350": {
          "model_module": "@jupyter-widgets/controls",
          "model_name": "DropdownModel",
          "model_module_version": "1.5.0",
          "state": {
            "_options_labels": [
              "3_Fullførte",
              "2_Pågående"
            ],
            "_view_name": "DropdownView",
            "style": "IPY_MODEL_c075e115a0a340b49f581b106eedbaa5",
            "_dom_classes": [],
            "description": "Cat",
            "_model_name": "DropdownModel",
            "index": 0,
            "_view_module": "@jupyter-widgets/controls",
            "_model_module_version": "1.5.0",
            "_view_count": null,
            "disabled": false,
            "_view_module_version": "1.5.0",
            "description_tooltip": null,
            "_model_module": "@jupyter-widgets/controls",
            "layout": "IPY_MODEL_354a8d38b7154858ba6bac03354bc55e"
          }
        },
        "bde3373883da4fe5af35cb119ac19575": {
          "model_module": "@jupyter-widgets/output",
          "model_name": "OutputModel",
          "model_module_version": "1.0.0",
          "state": {
            "_view_name": "OutputView",
            "msg_id": "",
            "_dom_classes": [],
            "_model_name": "OutputModel",
            "outputs": [
              {
                "output_type": "display_data",
                "data": {
                  "image/png": "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\n",
                  "text/plain": "<Figure size 720x360 with 1 Axes>"
                },
                "metadata": {}
              }
            ],
            "_view_module": "@jupyter-widgets/output",
            "_model_module_version": "1.0.0",
            "_view_count": null,
            "_view_module_version": "1.0.0",
            "layout": "IPY_MODEL_7eccb115e9d344b0998e274713c20bdf",
            "_model_module": "@jupyter-widgets/output"
          }
        },
        "00141956ed264bec9f0892455dc37f60": {
          "model_module": "@jupyter-widgets/controls",
          "model_name": "DescriptionStyleModel",
          "model_module_version": "1.5.0",
          "state": {
            "_view_name": "StyleView",
            "_model_name": "DescriptionStyleModel",
            "description_width": "",
            "_view_module": "@jupyter-widgets/base",
            "_model_module_version": "1.5.0",
            "_view_count": null,
            "_view_module_version": "1.2.0",
            "_model_module": "@jupyter-widgets/controls"
          }
        },
        "9f77d2716e614b8c844f96dc4e97a941": {
          "model_module": "@jupyter-widgets/base",
          "model_name": "LayoutModel",
          "model_module_version": "1.2.0",
          "state": {
            "_view_name": "LayoutView",
            "grid_template_rows": null,
            "right": null,
            "justify_content": null,
            "_view_module": "@jupyter-widgets/base",
            "overflow": null,
            "_model_module_version": "1.2.0",
            "_view_count": null,
            "flex_flow": null,
            "width": null,
            "min_width": null,
            "border": null,
            "align_items": null,
            "bottom": null,
            "_model_module": "@jupyter-widgets/base",
            "top": null,
            "grid_column": null,
            "overflow_y": null,
            "overflow_x": null,
            "grid_auto_flow": null,
            "grid_area": null,
            "grid_template_columns": null,
            "flex": null,
            "_model_name": "LayoutModel",
            "justify_items": null,
            "grid_row": null,
            "max_height": null,
            "align_content": null,
            "visibility": null,
            "align_self": null,
            "height": null,
            "min_height": null,
            "padding": null,
            "grid_auto_rows": null,
            "grid_gap": null,
            "max_width": null,
            "order": null,
            "_view_module_version": "1.2.0",
            "grid_template_areas": null,
            "object_position": null,
            "object_fit": null,
            "grid_auto_columns": null,
            "margin": null,
            "display": null,
            "left": null
          }
        },
        "25d9556838f34fe8954013addd7345dd": {
          "model_module": "@jupyter-widgets/controls",
          "model_name": "DescriptionStyleModel",
          "model_module_version": "1.5.0",
          "state": {
            "_view_name": "StyleView",
            "_model_name": "DescriptionStyleModel",
            "description_width": "",
            "_view_module": "@jupyter-widgets/base",
            "_model_module_version": "1.5.0",
            "_view_count": null,
            "_view_module_version": "1.2.0",
            "_model_module": "@jupyter-widgets/controls"
          }
        },
        "994ae7e932bc4eaea5998a399609f13d": {
          "model_module": "@jupyter-widgets/base",
          "model_name": "LayoutModel",
          "model_module_version": "1.2.0",
          "state": {
            "_view_name": "LayoutView",
            "grid_template_rows": null,
            "right": null,
            "justify_content": null,
            "_view_module": "@jupyter-widgets/base",
            "overflow": null,
            "_model_module_version": "1.2.0",
            "_view_count": null,
            "flex_flow": null,
            "width": null,
            "min_width": null,
            "border": null,
            "align_items": null,
            "bottom": null,
            "_model_module": "@jupyter-widgets/base",
            "top": null,
            "grid_column": null,
            "overflow_y": null,
            "overflow_x": null,
            "grid_auto_flow": null,
            "grid_area": null,
            "grid_template_columns": null,
            "flex": null,
            "_model_name": "LayoutModel",
            "justify_items": null,
            "grid_row": null,
            "max_height": null,
            "align_content": null,
            "visibility": null,
            "align_self": null,
            "height": null,
            "min_height": null,
            "padding": null,
            "grid_auto_rows": null,
            "grid_gap": null,
            "max_width": null,
            "order": null,
            "_view_module_version": "1.2.0",
            "grid_template_areas": null,
            "object_position": null,
            "object_fit": null,
            "grid_auto_columns": null,
            "margin": null,
            "display": null,
            "left": null
          }
        },
        "e9574a72ff004105860e9da8f9d42300": {
          "model_module": "@jupyter-widgets/controls",
          "model_name": "DescriptionStyleModel",
          "model_module_version": "1.5.0",
          "state": {
            "_view_name": "StyleView",
            "_model_name": "DescriptionStyleModel",
            "description_width": "",
            "_view_module": "@jupyter-widgets/base",
            "_model_module_version": "1.5.0",
            "_view_count": null,
            "_view_module_version": "1.2.0",
            "_model_module": "@jupyter-widgets/controls"
          }
        },
        "5c85d82630264d4582ddd1d3b45113d1": {
          "model_module": "@jupyter-widgets/base",
          "model_name": "LayoutModel",
          "model_module_version": "1.2.0",
          "state": {
            "_view_name": "LayoutView",
            "grid_template_rows": null,
            "right": null,
            "justify_content": null,
            "_view_module": "@jupyter-widgets/base",
            "overflow": null,
            "_model_module_version": "1.2.0",
            "_view_count": null,
            "flex_flow": null,
            "width": null,
            "min_width": null,
            "border": null,
            "align_items": null,
            "bottom": null,
            "_model_module": "@jupyter-widgets/base",
            "top": null,
            "grid_column": null,
            "overflow_y": null,
            "overflow_x": null,
            "grid_auto_flow": null,
            "grid_area": null,
            "grid_template_columns": null,
            "flex": null,
            "_model_name": "LayoutModel",
            "justify_items": null,
            "grid_row": null,
            "max_height": null,
            "align_content": null,
            "visibility": null,
            "align_self": null,
            "height": null,
            "min_height": null,
            "padding": null,
            "grid_auto_rows": null,
            "grid_gap": null,
            "max_width": null,
            "order": null,
            "_view_module_version": "1.2.0",
            "grid_template_areas": null,
            "object_position": null,
            "object_fit": null,
            "grid_auto_columns": null,
            "margin": null,
            "display": null,
            "left": null
          }
        },
        "c075e115a0a340b49f581b106eedbaa5": {
          "model_module": "@jupyter-widgets/controls",
          "model_name": "DescriptionStyleModel",
          "model_module_version": "1.5.0",
          "state": {
            "_view_name": "StyleView",
            "_model_name": "DescriptionStyleModel",
            "description_width": "",
            "_view_module": "@jupyter-widgets/base",
            "_model_module_version": "1.5.0",
            "_view_count": null,
            "_view_module_version": "1.2.0",
            "_model_module": "@jupyter-widgets/controls"
          }
        },
        "354a8d38b7154858ba6bac03354bc55e": {
          "model_module": "@jupyter-widgets/base",
          "model_name": "LayoutModel",
          "model_module_version": "1.2.0",
          "state": {
            "_view_name": "LayoutView",
            "grid_template_rows": null,
            "right": null,
            "justify_content": null,
            "_view_module": "@jupyter-widgets/base",
            "overflow": null,
            "_model_module_version": "1.2.0",
            "_view_count": null,
            "flex_flow": null,
            "width": null,
            "min_width": null,
            "border": null,
            "align_items": null,
            "bottom": null,
            "_model_module": "@jupyter-widgets/base",
            "top": null,
            "grid_column": null,
            "overflow_y": null,
            "overflow_x": null,
            "grid_auto_flow": null,
            "grid_area": null,
            "grid_template_columns": null,
            "flex": null,
            "_model_name": "LayoutModel",
            "justify_items": null,
            "grid_row": null,
            "max_height": null,
            "align_content": null,
            "visibility": null,
            "align_self": null,
            "height": null,
            "min_height": null,
            "padding": null,
            "grid_auto_rows": null,
            "grid_gap": null,
            "max_width": null,
            "order": null,
            "_view_module_version": "1.2.0",
            "grid_template_areas": null,
            "object_position": null,
            "object_fit": null,
            "grid_auto_columns": null,
            "margin": null,
            "display": null,
            "left": null
          }
        },
        "7eccb115e9d344b0998e274713c20bdf": {
          "model_module": "@jupyter-widgets/base",
          "model_name": "LayoutModel",
          "model_module_version": "1.2.0",
          "state": {
            "_view_name": "LayoutView",
            "grid_template_rows": null,
            "right": null,
            "justify_content": null,
            "_view_module": "@jupyter-widgets/base",
            "overflow": null,
            "_model_module_version": "1.2.0",
            "_view_count": null,
            "flex_flow": null,
            "width": null,
            "min_width": null,
            "border": null,
            "align_items": null,
            "bottom": null,
            "_model_module": "@jupyter-widgets/base",
            "top": null,
            "grid_column": null,
            "overflow_y": null,
            "overflow_x": null,
            "grid_auto_flow": null,
            "grid_area": null,
            "grid_template_columns": null,
            "flex": null,
            "_model_name": "LayoutModel",
            "justify_items": null,
            "grid_row": null,
            "max_height": null,
            "align_content": null,
            "visibility": null,
            "align_self": null,
            "height": null,
            "min_height": null,
            "padding": null,
            "grid_auto_rows": null,
            "grid_gap": null,
            "max_width": null,
            "order": null,
            "_view_module_version": "1.2.0",
            "grid_template_areas": null,
            "object_position": null,
            "object_fit": null,
            "grid_auto_columns": null,
            "margin": null,
            "display": null,
            "left": null
          }
        }
      }
    }
  },
  "cells": [
    {
      "cell_type": "markdown",
      "metadata": {
        "id": "view-in-github",
        "colab_type": "text"
      },
      "source": [
        "<a href=\"https://colab.research.google.com/github/gabrielborja/python_data_analysis/blob/main/operations_overview.ipynb\" target=\"_parent\"><img src=\"https://colab.research.google.com/assets/colab-badge.svg\" alt=\"Open In Colab\"/></a>"
      ]
    },
    {
      "cell_type": "markdown",
      "metadata": {
        "id": "4B3dCrn2H9by"
      },
      "source": [
        "# Mass Analysis"
      ]
    },
    {
      "cell_type": "markdown",
      "metadata": {
        "id": "Ct34V8zs_IEL"
      },
      "source": [
        "## Uploading necessary packages"
      ]
    },
    {
      "cell_type": "code",
      "metadata": {
        "id": "Xx9OYPprSnpM"
      },
      "source": [
        "#Uploading packages\n",
        "import pandas as pd\n",
        "import numpy as np\n",
        "import matplotlib.pyplot as plt\n",
        "import seaborn as sns"
      ],
      "execution_count": null,
      "outputs": []
    },
    {
      "cell_type": "code",
      "metadata": {
        "id": "osHwpDe6G49w"
      },
      "source": [
        "#Creating a copy of dataframe\n",
        "df1 = df.copy()"
      ],
      "execution_count": null,
      "outputs": []
    },
    {
      "cell_type": "code",
      "metadata": {
        "colab": {
          "base_uri": "https://localhost:8080/"
        },
        "id": "sTTf9ULcIJRK",
        "outputId": "82fbf504-4e1f-482f-9146-956472922584"
      },
      "source": [
        "#Checking if all event values are unique (no duplicates)\n",
        "df1['Event'].is_unique"
      ],
      "execution_count": null,
      "outputs": [
        {
          "output_type": "execute_result",
          "data": {
            "text/plain": [
              "True"
            ]
          },
          "metadata": {
            "tags": []
          },
          "execution_count": 25
        }
      ]
    },
    {
      "cell_type": "code",
      "metadata": {
        "colab": {
          "base_uri": "https://localhost:8080/"
        },
        "id": "XXyigHkwIJRL",
        "outputId": "fbbf400f-59d8-448a-cd83-3523f02d4766"
      },
      "source": [
        "#Dropping shutdown rows and blank rows\n",
        "prod = df1[~df1['T_loss'].isin(['Shutdown', np.nan])].copy()\n",
        "prod.index"
      ],
      "execution_count": null,
      "outputs": [
        {
          "output_type": "execute_result",
          "data": {
            "text/plain": [
              "DatetimeIndex(['2021-01-04', '2021-01-04', '2021-01-04', '2021-01-04',\n",
              "               '2021-01-04', '2021-01-04', '2021-01-04', '2021-01-04',\n",
              "               '2021-01-04', '2021-01-04',\n",
              "               ...\n",
              "               '2021-03-04', '2021-03-04', '2021-03-05', '2021-03-05',\n",
              "               '2021-03-05', '2021-03-05', '2021-03-05', '2021-03-05',\n",
              "               '2021-03-05', '2021-03-05'],\n",
              "              dtype='datetime64[ns]', name='Date', length=1039, freq=None)"
            ]
          },
          "metadata": {
            "tags": []
          },
          "execution_count": 26
        }
      ]
    },
    {
      "cell_type": "code",
      "metadata": {
        "id": "30HOmUQw5S8L"
      },
      "source": [
        "#Checking the new dataframe info\n",
        "prod.info()"
      ],
      "execution_count": null,
      "outputs": []
    },
    {
      "cell_type": "markdown",
      "metadata": {
        "id": "TYOzOT1k5oNS"
      },
      "source": [
        "## Mass EDA"
      ]
    },
    {
      "cell_type": "code",
      "metadata": {
        "colab": {
          "base_uri": "https://localhost:8080/",
          "height": 106
        },
        "id": "Ff-Sdsyc6kNj",
        "outputId": "bd1292c5-be95-4575-edb6-331c9de7e3a8"
      },
      "source": [
        "#Groupying by mass \n",
        "mass = prod.groupby(['Mass'])['GE'].mean().reset_index().round(2)\n",
        "mass"
      ],
      "execution_count": null,
      "outputs": [
        {
          "output_type": "execute_result",
          "data": {
            "text/html": [
              "<div>\n",
              "<style scoped>\n",
              "    .dataframe tbody tr th:only-of-type {\n",
              "        vertical-align: middle;\n",
              "    }\n",
              "\n",
              "    .dataframe tbody tr th {\n",
              "        vertical-align: top;\n",
              "    }\n",
              "\n",
              "    .dataframe thead th {\n",
              "        text-align: right;\n",
              "    }\n",
              "</style>\n",
              "<table border=\"1\" class=\"dataframe\">\n",
              "  <thead>\n",
              "    <tr style=\"text-align: right;\">\n",
              "      <th></th>\n",
              "      <th>Mass</th>\n",
              "      <th>GE</th>\n",
              "    </tr>\n",
              "  </thead>\n",
              "  <tbody>\n",
              "    <tr>\n",
              "      <th>0</th>\n",
              "      <td>Norsk</td>\n",
              "      <td>64.63</td>\n",
              "    </tr>\n",
              "    <tr>\n",
              "      <th>1</th>\n",
              "      <td>Svensk</td>\n",
              "      <td>67.06</td>\n",
              "    </tr>\n",
              "  </tbody>\n",
              "</table>\n",
              "</div>"
            ],
            "text/plain": [
              "     Mass     GE\n",
              "0   Norsk  64.63\n",
              "1  Svensk  67.06"
            ]
          },
          "metadata": {
            "tags": []
          },
          "execution_count": 32
        }
      ]
    },
    {
      "cell_type": "code",
      "metadata": {
        "colab": {
          "base_uri": "https://localhost:8080/",
          "height": 355
        },
        "id": "GeTCW1j6ayLM",
        "outputId": "976171f2-8740-4f11-f4a7-d1c93cf489c8"
      },
      "source": [
        "#Plotting the overall mass comparison in GE\n",
        "sns.barplot(x='Mass', y='GE', data=mass, )\n",
        "plt.title('Norwegian vs Swedish Mass - Jensen 4 - 2021')\n",
        "plt.show()"
      ],
      "execution_count": null,
      "outputs": [
        {
          "output_type": "display_data",
          "data": {
            "image/png": "[encoded data removed]",
            "text/plain": [
              "<Figure size 1080x360 with 1 Axes>"
            ]
          },
          "metadata": {
            "tags": []
          }
        }
      ]
    },
    {
      "cell_type": "code",
      "metadata": {
        "colab": {
          "base_uri": "https://localhost:8080/",
          "height": 225
        },
        "id": "LOkMC_u9bgWz",
        "outputId": "205b64b9-1781-48f8-9fa7-f5af305026bd"
      },
      "source": [
        "#Groupying by mass and group type  \n",
        "group = prod.groupby(['Mass', 'Group'])['GE'].mean().reset_index().round(2)\n",
        "group"
      ],
      "execution_count": null,
      "outputs": [
        {
          "output_type": "execute_result",
          "data": {
            "text/html": [
              "<div>\n",
              "<style scoped>\n",
              "    .dataframe tbody tr th:only-of-type {\n",
              "        vertical-align: middle;\n",
              "    }\n",
              "\n",
              "    .dataframe tbody tr th {\n",
              "        vertical-align: top;\n",
              "    }\n",
              "\n",
              "    .dataframe thead th {\n",
              "        text-align: right;\n",
              "    }\n",
              "</style>\n",
              "<table border=\"1\" class=\"dataframe\">\n",
              "  <thead>\n",
              "    <tr style=\"text-align: right;\">\n",
              "      <th></th>\n",
              "      <th>Mass</th>\n",
              "      <th>Group</th>\n",
              "      <th>GE</th>\n",
              "    </tr>\n",
              "  </thead>\n",
              "  <tbody>\n",
              "    <tr>\n",
              "      <th>0</th>\n",
              "      <td>Norsk</td>\n",
              "      <td>Fylte</td>\n",
              "      <td>59.64</td>\n",
              "    </tr>\n",
              "    <tr>\n",
              "      <th>1</th>\n",
              "      <td>Norsk</td>\n",
              "      <td>Ingredienser</td>\n",
              "      <td>53.65</td>\n",
              "    </tr>\n",
              "    <tr>\n",
              "      <th>2</th>\n",
              "      <td>Norsk</td>\n",
              "      <td>Løsvekt</td>\n",
              "      <td>59.61</td>\n",
              "    </tr>\n",
              "    <tr>\n",
              "      <th>3</th>\n",
              "      <td>Norsk</td>\n",
              "      <td>Massive</td>\n",
              "      <td>76.19</td>\n",
              "    </tr>\n",
              "    <tr>\n",
              "      <th>4</th>\n",
              "      <td>Svensk</td>\n",
              "      <td>Ingredienser</td>\n",
              "      <td>62.44</td>\n",
              "    </tr>\n",
              "    <tr>\n",
              "      <th>5</th>\n",
              "      <td>Svensk</td>\n",
              "      <td>Massive</td>\n",
              "      <td>71.70</td>\n",
              "    </tr>\n",
              "  </tbody>\n",
              "</table>\n",
              "</div>"
            ],
            "text/plain": [
              "     Mass         Group     GE\n",
              "0   Norsk         Fylte  59.64\n",
              "1   Norsk  Ingredienser  53.65\n",
              "2   Norsk       Løsvekt  59.61\n",
              "3   Norsk       Massive  76.19\n",
              "4  Svensk  Ingredienser  62.44\n",
              "5  Svensk       Massive  71.70"
            ]
          },
          "metadata": {
            "tags": []
          },
          "execution_count": 29
        }
      ]
    },
    {
      "cell_type": "code",
      "metadata": {
        "id": "VtR-QD3OcJTL"
      },
      "source": [
        "#Groupying by mass, group and format  \n",
        "format = prod.groupby(['Mass', 'Group', 'Format']).agg({'Hours': 'count', 'GE': 'mean'}).reset_index().round(2)\n",
        "format"
      ],
      "execution_count": null,
      "outputs": []
    },
    {
      "cell_type": "code",
      "metadata": {
        "id": "nSsQ-eBOcvup"
      },
      "source": [
        "#Groupying by mass, group and format  \n",
        "product = prod.groupby(['Mass', 'Group', 'Format', 'Product']).agg({'Hours': 'count', 'GE': 'mean'}).reset_index().round(2)\n",
        "product"
      ],
      "execution_count": null,
      "outputs": []
    },
    {
      "cell_type": "code",
      "metadata": {
        "colab": {
          "base_uri": "https://localhost:8080/",
          "height": 17
        },
        "id": "nH2QmdyF85-q",
        "outputId": "bfa17fec-181e-4bae-c74e-ec78b3e4df52"
      },
      "source": [
        "#Exporting to excel into local disk\n",
        "from google.colab import files\n",
        "product.to_excel('product_grouped.xlsx')\n",
        "files.download('product_grouped.xlsx')"
      ],
      "execution_count": null,
      "outputs": [
        {
          "output_type": "display_data",
          "data": {
            "application/javascript": [
              "\n",
              "    async function download(id, filename, size) {\n",
              "      if (!google.colab.kernel.accessAllowed) {\n",
              "        return;\n",
              "      }\n",
              "      const div = document.createElement('div');\n",
              "      const label = document.createElement('label');\n",
              "      label.textContent = `Downloading \"${filename}\": `;\n",
              "      div.appendChild(label);\n",
              "      const progress = document.createElement('progress');\n",
              "      progress.max = size;\n",
              "      div.appendChild(progress);\n",
              "      document.body.appendChild(div);\n",
              "\n",
              "      const buffers = [];\n",
              "      let downloaded = 0;\n",
              "\n",
              "      const channel = await google.colab.kernel.comms.open(id);\n",
              "      // Send a message to notify the kernel that we're ready.\n",
              "      channel.send({})\n",
              "\n",
              "      for await (const message of channel.messages) {\n",
              "        // Send a message to notify the kernel that we're ready.\n",
              "        channel.send({})\n",
              "        if (message.buffers) {\n",
              "          for (const buffer of message.buffers) {\n",
              "            buffers.push(buffer);\n",
              "            downloaded += buffer.byteLength;\n",
              "            progress.value = downloaded;\n",
              "          }\n",
              "        }\n",
              "      }\n",
              "      const blob = new Blob(buffers, {type: 'application/binary'});\n",
              "      const a = document.createElement('a');\n",
              "      a.href = window.URL.createObjectURL(blob);\n",
              "      a.download = filename;\n",
              "      div.appendChild(a);\n",
              "      a.click();\n",
              "      div.remove();\n",
              "    }\n",
              "  "
            ],
            "text/plain": [
              "<IPython.core.display.Javascript object>"
            ]
          },
          "metadata": {
            "tags": []
          }
        },
        {
          "output_type": "display_data",
          "data": {
            "application/javascript": [
              "download(\"download_346790e5-8358-4b27-8d86-671d47a25708\", \"product_grouped.xlsx\", 5600)"
            ],
            "text/plain": [
              "<IPython.core.display.Javascript object>"
            ]
          },
          "metadata": {
            "tags": []
          }
        }
      ]
    },
    {
      "cell_type": "markdown",
      "metadata": {
        "id": "tlnZ2je2I-ls"
      },
      "source": [
        "#Sanitation Analysis"
      ]
    },
    {
      "cell_type": "markdown",
      "metadata": {
        "id": "ZWp5LJz5I_Fq"
      },
      "source": [
        "## Uploading necessary packages"
      ]
    },
    {
      "cell_type": "code",
      "metadata": {
        "id": "G4MoajqEJRAM"
      },
      "source": [
        "#Remove previous versions of the uploaded excel file\n",
        "!rm production_j4_2021.xlsx"
      ],
      "execution_count": null,
      "outputs": []
    },
    {
      "cell_type": "code",
      "metadata": {
        "colab": {
          "resources": {
            "http://localhost:8080/nbextensions/google.colab/files.js": {
              "data": "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",
              "ok": true,
              "headers": [
                [
                  "content-type",
                  "application/javascript"
                ]
              ],
              "status": 200,
              "status_text": "OK"
            }
          },
          "base_uri": "https://localhost:8080/",
          "height": 73
        },
        "id": "dwfs5BEjJRAN",
        "outputId": "e28cf179-da62-48a2-965d-4d889a5968c3"
      },
      "source": [
        "#Uploading file from local drive ==> !rm file\n",
        "from google.colab import files\n",
        "uploaded = files.upload()"
      ],
      "execution_count": null,
      "outputs": [
        {
          "output_type": "display_data",
          "data": {
            "text/html": [
              "\n",
              "     <input type=\"file\" id=\"files-9fcb8d1c-0acd-4d69-b274-168234570505\" name=\"files[]\" multiple disabled\n",
              "        style=\"border:none\" />\n",
              "     <output id=\"result-9fcb8d1c-0acd-4d69-b274-168234570505\">\n",
              "      Upload widget is only available when the cell has been executed in the\n",
              "      current browser session. Please rerun this cell to enable.\n",
              "      </output>\n",
              "      <script src=\"/nbextensions/google.colab/files.js\"></script> "
            ],
            "text/plain": [
              "<IPython.core.display.HTML object>"
            ]
          },
          "metadata": {
            "tags": []
          }
        },
        {
          "output_type": "stream",
          "text": [
            "Saving production_j4_2021.xlsx to production_j4_2021.xlsx\n"
          ],
          "name": "stdout"
        }
      ]
    },
    {
      "cell_type": "code",
      "metadata": {
        "id": "lGQc-L45JRAP"
      },
      "source": [
        "#Storing dataset in a Pandas Dataframe\n",
        "import io\n",
        "df = pd.read_excel(io.BytesIO(uploaded['production_j4_2021.xlsx']), index_col='Event') #==> setting Event (datetime) as index to perform date slicing"
      ],
      "execution_count": null,
      "outputs": []
    },
    {
      "cell_type": "code",
      "metadata": {
        "colab": {
          "base_uri": "https://localhost:8080/"
        },
        "id": "rg8iT4WUJRAQ",
        "outputId": "ae913c1e-d250-49d0-f06e-9ec8d2ca626f"
      },
      "source": [
        "#Checking the dataframe information\n",
        "df.info()"
      ],
      "execution_count": null,
      "outputs": [
        {
          "output_type": "stream",
          "text": [
            "<class 'pandas.core.frame.DataFrame'>\n",
            "DatetimeIndex: 2088 entries, 2021-01-01 00:00:00 to 2021-03-28 23:00:00\n",
            "Data columns (total 32 columns):\n",
            " #   Column     Non-Null Count  Dtype         \n",
            "---  ------     --------------  -----         \n",
            " 0   Date       2088 non-null   datetime64[ns]\n",
            " 1   Hours      2088 non-null   object        \n",
            " 2   Weeknum    2088 non-null   int64         \n",
            " 3   Weekday    2088 non-null   object        \n",
            " 4   Shift      2088 non-null   object        \n",
            " 5   S_num      1331 non-null   float64       \n",
            " 6   State      2000 non-null   object        \n",
            " 7   T_loss     2000 non-null   object        \n",
            " 8   Mass       1278 non-null   object        \n",
            " 9   Group      1278 non-null   object        \n",
            " 10  Product    1278 non-null   object        \n",
            " 11  Format     1278 non-null   object        \n",
            " 12  Team       1303 non-null   object        \n",
            " 13  XO_num     157 non-null    float64       \n",
            " 14  XO_cat     157 non-null    object        \n",
            " 15  XO_type    157 non-null    object        \n",
            " 16  FTE_loss   1303 non-null   float64       \n",
            " 17  Form_min   1278 non-null   float64       \n",
            " 18  A1764      1278 non-null   float64       \n",
            " 19  PK2219     1278 non-null   float64       \n",
            " 20  PK2845     1278 non-null   float64       \n",
            " 21  PK4553     1278 non-null   float64       \n",
            " 22  Schubert   1278 non-null   float64       \n",
            " 23  K6316      1278 non-null   float64       \n",
            " 24  TP6839     1278 non-null   float64       \n",
            " 25  Boxes      1278 non-null   float64       \n",
            " 26  GE         1303 non-null   float64       \n",
            " 27  GE_loss    1303 non-null   float64       \n",
            " 28  Min_loss   1303 non-null   float64       \n",
            " 29  Machine    201 non-null    object        \n",
            " 30  Workpoint  200 non-null    object        \n",
            " 31  Comment    244 non-null    object        \n",
            "dtypes: datetime64[ns](1), float64(15), int64(1), object(15)\n",
            "memory usage: 538.3+ KB\n"
          ],
          "name": "stdout"
        }
      ]
    },
    {
      "cell_type": "code",
      "metadata": {
        "colab": {
          "base_uri": "https://localhost:8080/"
        },
        "id": "7N0yY1BBJRAS",
        "outputId": "4fb13d68-059a-4989-a1df-2f046da5ba5b"
      },
      "source": [
        "#Checking the dataframe index\n",
        "df.index[0], df.index[-1]"
      ],
      "execution_count": null,
      "outputs": [
        {
          "output_type": "execute_result",
          "data": {
            "text/plain": [
              "(Timestamp('2021-01-01 00:00:00'), Timestamp('2021-03-28 23:00:00'))"
            ]
          },
          "metadata": {
            "tags": []
          },
          "execution_count": 6
        }
      ]
    },
    {
      "cell_type": "code",
      "metadata": {
        "colab": {
          "base_uri": "https://localhost:8080/"
        },
        "id": "JXjF6ErruIw-",
        "outputId": "ddc79bb1-6154-4490-dcb7-f1de052c1909"
      },
      "source": [
        "#Checking the dataframe columns\n",
        "df.columns"
      ],
      "execution_count": null,
      "outputs": [
        {
          "output_type": "execute_result",
          "data": {
            "text/plain": [
              "Index(['Date', 'Hours', 'Weeknum', 'Weekday', 'Shift', 'S_num', 'State',\n",
              "       'T_loss', 'Mass', 'Group', 'Product', 'Format', 'Team', 'XO_num',\n",
              "       'XO_cat', 'XO_type', 'FTE_loss', 'Form_min', 'A1764', 'PK2219',\n",
              "       'PK2845', 'PK4553', 'Schubert', 'K6316', 'TP6839', 'Boxes', 'GE',\n",
              "       'GE_loss', 'Min_loss', 'Machine', 'Workpoint', 'Comment'],\n",
              "      dtype='object')"
            ]
          },
          "metadata": {
            "tags": []
          },
          "execution_count": 7
        }
      ]
    },
    {
      "cell_type": "markdown",
      "metadata": {
        "id": "MZRW7szgJRAU"
      },
      "source": [
        "## Data slicing and preparation"
      ]
    },
    {
      "cell_type": "code",
      "metadata": {
        "id": "JzfNxCYaJRAU"
      },
      "source": [
        "#Filtering the dataframe to exclude Non operating time and no shift\n",
        "df = df[~df['State'].isin(['2_Legal_NOT', '3_No_Shift'])]\n",
        "df = df.drop(columns = ['XO_num', 'XO_cat', 'XO_type', 'FTE_loss', 'Form_min', 'A1764', 'PK2219', 'PK2845','PK4553', 'Schubert', 'K6316', 'TP6839', 'Machine', 'Workpoint'], axis = 1)\n",
        "df.head(2)"
      ],
      "execution_count": null,
      "outputs": []
    },
    {
      "cell_type": "code",
      "metadata": {
        "id": "PbZkMiHSJRAV"
      },
      "source": [
        "#Filtering the dataframe to select only Sanitation activities\n",
        "df_sn = df[df['State'].isin(['8_Sanitation'])].copy()\n",
        "df_sn.tail(2)"
      ],
      "execution_count": null,
      "outputs": []
    },
    {
      "cell_type": "code",
      "metadata": {
        "colab": {
          "base_uri": "https://localhost:8080/"
        },
        "id": "rOqX6G4BJRAW",
        "outputId": "7c686f49-0f4a-4ef4-d009-1d12a1b4ba6f"
      },
      "source": [
        "#Filtering the dataframe to match the desired time slice\n",
        "s = '2021-01-04 07:00:00'\n",
        "f = '2021-03-23 07:00:00'\n",
        "sn = df_sn[s : f].copy()\n",
        "sn.reset_index(inplace = True)\n",
        "sn['Event'].iloc[-1]"
      ],
      "execution_count": null,
      "outputs": [
        {
          "output_type": "execute_result",
          "data": {
            "text/plain": [
              "Timestamp('2021-03-23 07:00:00')"
            ]
          },
          "metadata": {
            "tags": []
          },
          "execution_count": 32
        }
      ]
    },
    {
      "cell_type": "code",
      "metadata": {
        "colab": {
          "base_uri": "https://localhost:8080/"
        },
        "id": "5c3WshQZJRAX",
        "outputId": "7223c3e9-7153-4e92-9606-6fa16ff573a8"
      },
      "source": [
        "#Checking the dataframe information\n",
        "sn.info()"
      ],
      "execution_count": null,
      "outputs": [
        {
          "output_type": "stream",
          "text": [
            "<class 'pandas.core.frame.DataFrame'>\n",
            "RangeIndex: 146 entries, 0 to 145\n",
            "Data columns (total 19 columns):\n",
            " #   Column    Non-Null Count  Dtype         \n",
            "---  ------    --------------  -----         \n",
            " 0   Event     146 non-null    datetime64[ns]\n",
            " 1   Date      146 non-null    datetime64[ns]\n",
            " 2   Hours     146 non-null    object        \n",
            " 3   Weeknum   146 non-null    int64         \n",
            " 4   Weekday   146 non-null    object        \n",
            " 5   Shift     146 non-null    object        \n",
            " 6   S_num     146 non-null    float64       \n",
            " 7   State     146 non-null    object        \n",
            " 8   T_loss    146 non-null    object        \n",
            " 9   Mass      121 non-null    object        \n",
            " 10  Group     121 non-null    object        \n",
            " 11  Product   121 non-null    object        \n",
            " 12  Format    121 non-null    object        \n",
            " 13  Team      146 non-null    object        \n",
            " 14  Boxes     121 non-null    float64       \n",
            " 15  GE        146 non-null    float64       \n",
            " 16  GE_loss   146 non-null    float64       \n",
            " 17  Min_loss  146 non-null    float64       \n",
            " 18  Comment   33 non-null     object        \n",
            "dtypes: datetime64[ns](2), float64(5), int64(1), object(11)\n",
            "memory usage: 21.8+ KB\n"
          ],
          "name": "stdout"
        }
      ]
    },
    {
      "cell_type": "code",
      "metadata": {
        "id": "oiOYjG0gHFlZ"
      },
      "source": [
        "#Dropping rows where monthly cleaning was performed\n",
        "sn = sn[~sn['Mass'].isin([np.nan])]\n",
        "sn.reset_index(drop=True, inplace=True)\n",
        "sn.tail(2)"
      ],
      "execution_count": null,
      "outputs": []
    },
    {
      "cell_type": "code",
      "metadata": {
        "colab": {
          "base_uri": "https://localhost:8080/"
        },
        "id": "PPocrsInJRAY",
        "outputId": "88fc55fc-044d-437a-a4f3-287becabb6e7"
      },
      "source": [
        "#Checking final dataframe columns\n",
        "sn.columns"
      ],
      "execution_count": null,
      "outputs": [
        {
          "output_type": "execute_result",
          "data": {
            "text/plain": [
              "Index(['Event', 'Date', 'Hours', 'Weeknum', 'Weekday', 'Shift', 'S_num',\n",
              "       'State', 'T_loss', 'Mass', 'Group', 'Product', 'Format', 'Team',\n",
              "       'Boxes', 'GE', 'GE_loss', 'Min_loss', 'Comment'],\n",
              "      dtype='object')"
            ]
          },
          "metadata": {
            "tags": []
          },
          "execution_count": 36
        }
      ]
    },
    {
      "cell_type": "code",
      "metadata": {
        "id": "w00zZAQCJE_e"
      },
      "source": [
        "#Manipulating datetime to create categories from hours column\n",
        "sn = sn.assign(Hours = lambda x: x['Hours'].astype(str).str[:2]) #==> assign type string and use pandas.Series.str on the fly to slice the first 2 char..\n",
        "sn.tail()"
      ],
      "execution_count": null,
      "outputs": []
    },
    {
      "cell_type": "markdown",
      "metadata": {
        "id": "18rEiRiCKyiE"
      },
      "source": [
        "## Sanitation EDA"
      ]
    },
    {
      "cell_type": "code",
      "metadata": {
        "colab": {
          "base_uri": "https://localhost:8080/",
          "height": 402
        },
        "id": "BWD_twOIJRAa",
        "outputId": "a87be699-ee94-488e-c427-d4559b3d75fe"
      },
      "source": [
        "#Value counts of Categorical Hours\n",
        "sn_vc = sn.value_counts(subset=['Hours'], normalize=True).reset_index(name='Proportion')\n",
        "sn_vc"
      ],
      "execution_count": null,
      "outputs": [
        {
          "output_type": "execute_result",
          "data": {
            "text/html": [
              "<div>\n",
              "<style scoped>\n",
              "    .dataframe tbody tr th:only-of-type {\n",
              "        vertical-align: middle;\n",
              "    }\n",
              "\n",
              "    .dataframe tbody tr th {\n",
              "        vertical-align: top;\n",
              "    }\n",
              "\n",
              "    .dataframe thead th {\n",
              "        text-align: right;\n",
              "    }\n",
              "</style>\n",
              "<table border=\"1\" class=\"dataframe\">\n",
              "  <thead>\n",
              "    <tr style=\"text-align: right;\">\n",
              "      <th></th>\n",
              "      <th>Hours</th>\n",
              "      <th>Proportion</th>\n",
              "    </tr>\n",
              "  </thead>\n",
              "  <tbody>\n",
              "    <tr>\n",
              "      <th>0</th>\n",
              "      <td>15</td>\n",
              "      <td>0.330579</td>\n",
              "    </tr>\n",
              "    <tr>\n",
              "      <th>1</th>\n",
              "      <td>07</td>\n",
              "      <td>0.280992</td>\n",
              "    </tr>\n",
              "    <tr>\n",
              "      <th>2</th>\n",
              "      <td>23</td>\n",
              "      <td>0.247934</td>\n",
              "    </tr>\n",
              "    <tr>\n",
              "      <th>3</th>\n",
              "      <td>22</td>\n",
              "      <td>0.066116</td>\n",
              "    </tr>\n",
              "    <tr>\n",
              "      <th>4</th>\n",
              "      <td>17</td>\n",
              "      <td>0.016529</td>\n",
              "    </tr>\n",
              "    <tr>\n",
              "      <th>5</th>\n",
              "      <td>18</td>\n",
              "      <td>0.008264</td>\n",
              "    </tr>\n",
              "    <tr>\n",
              "      <th>6</th>\n",
              "      <td>16</td>\n",
              "      <td>0.008264</td>\n",
              "    </tr>\n",
              "    <tr>\n",
              "      <th>7</th>\n",
              "      <td>14</td>\n",
              "      <td>0.008264</td>\n",
              "    </tr>\n",
              "    <tr>\n",
              "      <th>8</th>\n",
              "      <td>13</td>\n",
              "      <td>0.008264</td>\n",
              "    </tr>\n",
              "    <tr>\n",
              "      <th>9</th>\n",
              "      <td>12</td>\n",
              "      <td>0.008264</td>\n",
              "    </tr>\n",
              "    <tr>\n",
              "      <th>10</th>\n",
              "      <td>11</td>\n",
              "      <td>0.008264</td>\n",
              "    </tr>\n",
              "    <tr>\n",
              "      <th>11</th>\n",
              "      <td>06</td>\n",
              "      <td>0.008264</td>\n",
              "    </tr>\n",
              "  </tbody>\n",
              "</table>\n",
              "</div>"
            ],
            "text/plain": [
              "   Hours  Proportion\n",
              "0     15    0.330579\n",
              "1     07    0.280992\n",
              "2     23    0.247934\n",
              "3     22    0.066116\n",
              "4     17    0.016529\n",
              "5     18    0.008264\n",
              "6     16    0.008264\n",
              "7     14    0.008264\n",
              "8     13    0.008264\n",
              "9     12    0.008264\n",
              "10    11    0.008264\n",
              "11    06    0.008264"
            ]
          },
          "metadata": {
            "tags": []
          },
          "execution_count": 40
        }
      ]
    },
    {
      "cell_type": "code",
      "metadata": {
        "colab": {
          "base_uri": "https://localhost:8080/",
          "height": 402
        },
        "id": "hw13PmvfJRAa",
        "outputId": "2d406a23-ce36-414e-b7b8-1f75dcead392"
      },
      "source": [
        "#Groupying by customized aggregation\n",
        "sn_gp = sn.groupby(['Hours']).agg({'Event': 'count', 'GE': 'mean', 'GE_loss': 'mean','Min_loss': 'sum'}).reset_index().sort_values(by='Min_loss', ascending=False)\n",
        "sn_gp = sn_gp.assign(Perc = lambda x: x['Min_loss']/x['Min_loss'].sum())\n",
        "sn_gp"
      ],
      "execution_count": null,
      "outputs": [
        {
          "output_type": "execute_result",
          "data": {
            "text/html": [
              "<div>\n",
              "<style scoped>\n",
              "    .dataframe tbody tr th:only-of-type {\n",
              "        vertical-align: middle;\n",
              "    }\n",
              "\n",
              "    .dataframe tbody tr th {\n",
              "        vertical-align: top;\n",
              "    }\n",
              "\n",
              "    .dataframe thead th {\n",
              "        text-align: right;\n",
              "    }\n",
              "</style>\n",
              "<table border=\"1\" class=\"dataframe\">\n",
              "  <thead>\n",
              "    <tr style=\"text-align: right;\">\n",
              "      <th></th>\n",
              "      <th>Hours</th>\n",
              "      <th>Event</th>\n",
              "      <th>GE</th>\n",
              "      <th>GE_loss</th>\n",
              "      <th>Min_loss</th>\n",
              "      <th>Perc</th>\n",
              "    </tr>\n",
              "  </thead>\n",
              "  <tbody>\n",
              "    <tr>\n",
              "      <th>6</th>\n",
              "      <td>15</td>\n",
              "      <td>40</td>\n",
              "      <td>45.041578</td>\n",
              "      <td>54.958422</td>\n",
              "      <td>1319.002133</td>\n",
              "      <td>0.412484</td>\n",
              "    </tr>\n",
              "    <tr>\n",
              "      <th>1</th>\n",
              "      <td>07</td>\n",
              "      <td>34</td>\n",
              "      <td>60.568707</td>\n",
              "      <td>39.431293</td>\n",
              "      <td>804.398380</td>\n",
              "      <td>0.251555</td>\n",
              "    </tr>\n",
              "    <tr>\n",
              "      <th>11</th>\n",
              "      <td>23</td>\n",
              "      <td>30</td>\n",
              "      <td>79.092664</td>\n",
              "      <td>20.907336</td>\n",
              "      <td>376.332040</td>\n",
              "      <td>0.117688</td>\n",
              "    </tr>\n",
              "    <tr>\n",
              "      <th>10</th>\n",
              "      <td>22</td>\n",
              "      <td>8</td>\n",
              "      <td>67.088453</td>\n",
              "      <td>32.911547</td>\n",
              "      <td>157.975426</td>\n",
              "      <td>0.049403</td>\n",
              "    </tr>\n",
              "    <tr>\n",
              "      <th>8</th>\n",
              "      <td>17</td>\n",
              "      <td>2</td>\n",
              "      <td>0.000000</td>\n",
              "      <td>100.000000</td>\n",
              "      <td>120.000000</td>\n",
              "      <td>0.037527</td>\n",
              "    </tr>\n",
              "    <tr>\n",
              "      <th>0</th>\n",
              "      <td>06</td>\n",
              "      <td>1</td>\n",
              "      <td>0.000000</td>\n",
              "      <td>100.000000</td>\n",
              "      <td>60.000000</td>\n",
              "      <td>0.018763</td>\n",
              "    </tr>\n",
              "    <tr>\n",
              "      <th>2</th>\n",
              "      <td>11</td>\n",
              "      <td>1</td>\n",
              "      <td>0.000000</td>\n",
              "      <td>100.000000</td>\n",
              "      <td>60.000000</td>\n",
              "      <td>0.018763</td>\n",
              "    </tr>\n",
              "    <tr>\n",
              "      <th>3</th>\n",
              "      <td>12</td>\n",
              "      <td>1</td>\n",
              "      <td>0.000000</td>\n",
              "      <td>100.000000</td>\n",
              "      <td>60.000000</td>\n",
              "      <td>0.018763</td>\n",
              "    </tr>\n",
              "    <tr>\n",
              "      <th>4</th>\n",
              "      <td>13</td>\n",
              "      <td>1</td>\n",
              "      <td>0.000000</td>\n",
              "      <td>100.000000</td>\n",
              "      <td>60.000000</td>\n",
              "      <td>0.018763</td>\n",
              "    </tr>\n",
              "    <tr>\n",
              "      <th>5</th>\n",
              "      <td>14</td>\n",
              "      <td>1</td>\n",
              "      <td>0.000000</td>\n",
              "      <td>100.000000</td>\n",
              "      <td>60.000000</td>\n",
              "      <td>0.018763</td>\n",
              "    </tr>\n",
              "    <tr>\n",
              "      <th>7</th>\n",
              "      <td>16</td>\n",
              "      <td>1</td>\n",
              "      <td>0.000000</td>\n",
              "      <td>100.000000</td>\n",
              "      <td>60.000000</td>\n",
              "      <td>0.018763</td>\n",
              "    </tr>\n",
              "    <tr>\n",
              "      <th>9</th>\n",
              "      <td>18</td>\n",
              "      <td>1</td>\n",
              "      <td>0.000000</td>\n",
              "      <td>100.000000</td>\n",
              "      <td>60.000000</td>\n",
              "      <td>0.018763</td>\n",
              "    </tr>\n",
              "  </tbody>\n",
              "</table>\n",
              "</div>"
            ],
            "text/plain": [
              "   Hours  Event         GE     GE_loss     Min_loss      Perc\n",
              "6     15     40  45.041578   54.958422  1319.002133  0.412484\n",
              "1     07     34  60.568707   39.431293   804.398380  0.251555\n",
              "11    23     30  79.092664   20.907336   376.332040  0.117688\n",
              "10    22      8  67.088453   32.911547   157.975426  0.049403\n",
              "8     17      2   0.000000  100.000000   120.000000  0.037527\n",
              "0     06      1   0.000000  100.000000    60.000000  0.018763\n",
              "2     11      1   0.000000  100.000000    60.000000  0.018763\n",
              "3     12      1   0.000000  100.000000    60.000000  0.018763\n",
              "4     13      1   0.000000  100.000000    60.000000  0.018763\n",
              "5     14      1   0.000000  100.000000    60.000000  0.018763\n",
              "7     16      1   0.000000  100.000000    60.000000  0.018763\n",
              "9     18      1   0.000000  100.000000    60.000000  0.018763"
            ]
          },
          "metadata": {
            "tags": []
          },
          "execution_count": 43
        }
      ]
    },
    {
      "cell_type": "code",
      "metadata": {
        "colab": {
          "base_uri": "https://localhost:8080/",
          "height": 326
        },
        "id": "LJ4rBEMQM2QA",
        "outputId": "4a9bdbc7-5ca9-4217-8e6d-354a5e93890f"
      },
      "source": [
        "#Plotting the hours loss vs each hour of the day\n",
        "sns.catplot(x='Hours', y='GE_loss', data=sn_gp.head(4), ci=False, kind='bar', height=4, aspect=1.5)\n",
        "plt.title('%GE Loss for Sanitation activities during production hours')\n",
        "plt.xlabel('Hours'), plt.ylabel('%GE Loss')\n",
        "plt.show()"
      ],
      "execution_count": null,
      "outputs": [
        {
          "output_type": "display_data",
          "data": {
            "image/png": "[encoded data removed]",
            "text/plain": [
              "<Figure size 432x288 with 1 Axes>"
            ]
          },
          "metadata": {
            "tags": []
          }
        }
      ]
    },
    {
      "cell_type": "code",
      "metadata": {
        "colab": {
          "base_uri": "https://localhost:8080/",
          "height": 17
        },
        "id": "sZJAo4f_JRAc",
        "outputId": "3699f90c-3a5a-4ab4-efbc-2340ca4ed80a"
      },
      "source": [
        "#Exporting to excel into local disk\n",
        "from google.colab import files\n",
        "xo_gp.to_excel('c_over_group_2021.xlsx', index=False) #==> Excluding index from file\n",
        "files.download('c_over_group_2021.xlsx')"
      ],
      "execution_count": null,
      "outputs": [
        {
          "output_type": "display_data",
          "data": {
            "application/javascript": [
              "\n",
              "    async function download(id, filename, size) {\n",
              "      if (!google.colab.kernel.accessAllowed) {\n",
              "        return;\n",
              "      }\n",
              "      const div = document.createElement('div');\n",
              "      const label = document.createElement('label');\n",
              "      label.textContent = `Downloading \"${filename}\": `;\n",
              "      div.appendChild(label);\n",
              "      const progress = document.createElement('progress');\n",
              "      progress.max = size;\n",
              "      div.appendChild(progress);\n",
              "      document.body.appendChild(div);\n",
              "\n",
              "      const buffers = [];\n",
              "      let downloaded = 0;\n",
              "\n",
              "      const channel = await google.colab.kernel.comms.open(id);\n",
              "      // Send a message to notify the kernel that we're ready.\n",
              "      channel.send({})\n",
              "\n",
              "      for await (const message of channel.messages) {\n",
              "        // Send a message to notify the kernel that we're ready.\n",
              "        channel.send({})\n",
              "        if (message.buffers) {\n",
              "          for (const buffer of message.buffers) {\n",
              "            buffers.push(buffer);\n",
              "            downloaded += buffer.byteLength;\n",
              "            progress.value = downloaded;\n",
              "          }\n",
              "        }\n",
              "      }\n",
              "      const blob = new Blob(buffers, {type: 'application/binary'});\n",
              "      const a = document.createElement('a');\n",
              "      a.href = window.URL.createObjectURL(blob);\n",
              "      a.download = filename;\n",
              "      div.appendChild(a);\n",
              "      a.click();\n",
              "      div.remove();\n",
              "    }\n",
              "  "
            ],
            "text/plain": [
              "<IPython.core.display.Javascript object>"
            ]
          },
          "metadata": {
            "tags": []
          }
        },
        {
          "output_type": "display_data",
          "data": {
            "application/javascript": [
              "download(\"download_88b6b207-d43c-4a20-936e-d6e9fb9c0275\", \"c_over_group_2021.xlsx\", 5320)"
            ],
            "text/plain": [
              "<IPython.core.display.Javascript object>"
            ]
          },
          "metadata": {
            "tags": []
          }
        }
      ]
    },
    {
      "cell_type": "markdown",
      "metadata": {
        "id": "aaxue8PKU6ud"
      },
      "source": [
        "## Planned Stop EDA (Bonus)"
      ]
    },
    {
      "cell_type": "code",
      "metadata": {
        "id": "uOYFLgJ8TjgX"
      },
      "source": [
        "#Filtering the dataframe to match Planned Stops activities\n",
        "df_ps = df[df['State'].isin(['10_Planned_Stop'])].copy()"
      ],
      "execution_count": null,
      "outputs": []
    },
    {
      "cell_type": "code",
      "metadata": {
        "colab": {
          "base_uri": "https://localhost:8080/",
          "height": 225
        },
        "id": "Bhj17_HYTuFm",
        "outputId": "032a89de-b751-4c89-f205-f10cf72d79a0"
      },
      "source": [
        "#Value counts of Categorical Hours\n",
        "plan = df_ps.value_counts(subset=['Hours'], normalize=True).reset_index(name='Proportion')\n",
        "plan"
      ],
      "execution_count": null,
      "outputs": [
        {
          "output_type": "execute_result",
          "data": {
            "text/html": [
              "<div>\n",
              "<style scoped>\n",
              "    .dataframe tbody tr th:only-of-type {\n",
              "        vertical-align: middle;\n",
              "    }\n",
              "\n",
              "    .dataframe tbody tr th {\n",
              "        vertical-align: top;\n",
              "    }\n",
              "\n",
              "    .dataframe thead th {\n",
              "        text-align: right;\n",
              "    }\n",
              "</style>\n",
              "<table border=\"1\" class=\"dataframe\">\n",
              "  <thead>\n",
              "    <tr style=\"text-align: right;\">\n",
              "      <th></th>\n",
              "      <th>Hours</th>\n",
              "      <th>Proportion</th>\n",
              "    </tr>\n",
              "  </thead>\n",
              "  <tbody>\n",
              "    <tr>\n",
              "      <th>0</th>\n",
              "      <td>04:00:00</td>\n",
              "      <td>0.464286</td>\n",
              "    </tr>\n",
              "    <tr>\n",
              "      <th>1</th>\n",
              "      <td>09:00:00</td>\n",
              "      <td>0.357143</td>\n",
              "    </tr>\n",
              "    <tr>\n",
              "      <th>2</th>\n",
              "      <td>03:00:00</td>\n",
              "      <td>0.071429</td>\n",
              "    </tr>\n",
              "    <tr>\n",
              "      <th>3</th>\n",
              "      <td>16:00:00</td>\n",
              "      <td>0.035714</td>\n",
              "    </tr>\n",
              "    <tr>\n",
              "      <th>4</th>\n",
              "      <td>15:00:00</td>\n",
              "      <td>0.035714</td>\n",
              "    </tr>\n",
              "    <tr>\n",
              "      <th>5</th>\n",
              "      <td>02:00:00</td>\n",
              "      <td>0.035714</td>\n",
              "    </tr>\n",
              "  </tbody>\n",
              "</table>\n",
              "</div>"
            ],
            "text/plain": [
              "      Hours  Proportion\n",
              "0  04:00:00    0.464286\n",
              "1  09:00:00    0.357143\n",
              "2  03:00:00    0.071429\n",
              "3  16:00:00    0.035714\n",
              "4  15:00:00    0.035714\n",
              "5  02:00:00    0.035714"
            ]
          },
          "metadata": {
            "tags": []
          },
          "execution_count": 59
        }
      ]
    },
    {
      "cell_type": "markdown",
      "metadata": {
        "id": "mQNKk6IlJOiF"
      },
      "source": [
        "# Stoppages EDA"
      ]
    },
    {
      "cell_type": "code",
      "metadata": {
        "colab": {
          "resources": {
            "http://localhost:8080/nbextensions/google.colab/files.js": {
              "data": "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",
              "ok": true,
              "headers": [
                [
                  "content-type",
                  "application/javascript"
                ]
              ],
              "status": 200,
              "status_text": "OK"
            }
          },
          "base_uri": "https://localhost:8080/",
          "height": 73
        },
        "id": "VGB7CU7yepJE",
        "outputId": "6dc458a9-c267-4c1b-e962-150c8125c5dd"
      },
      "source": [
        "#Uploading file from local drive\n",
        "from google.colab import files\n",
        "uploaded = files.upload()"
      ],
      "execution_count": null,
      "outputs": [
        {
          "output_type": "display_data",
          "data": {
            "text/html": [
              "\n",
              "     <input type=\"file\" id=\"files-3dac92ca-ed37-4350-b1d4-1bc1faceb3af\" name=\"files[]\" multiple disabled\n",
              "        style=\"border:none\" />\n",
              "     <output id=\"result-3dac92ca-ed37-4350-b1d4-1bc1faceb3af\">\n",
              "      Upload widget is only available when the cell has been executed in the\n",
              "      current browser session. Please rerun this cell to enable.\n",
              "      </output>\n",
              "      <script src=\"/nbextensions/google.colab/files.js\"></script> "
            ],
            "text/plain": [
              "<IPython.core.display.HTML object>"
            ]
          },
          "metadata": {
            "tags": []
          }
        },
        {
          "output_type": "stream",
          "text": [
            "Saving mod4_Tracker_2021.xlsx to mod4_Tracker_2021.xlsx\n"
          ],
          "name": "stdout"
        }
      ]
    },
    {
      "cell_type": "code",
      "metadata": {
        "id": "7YClu0-UepJj"
      },
      "source": [
        "#Storing dataset in a Pandas Dataframe\n",
        "import io\n",
        "tracker = pd.read_excel(io.BytesIO(uploaded['mod4_Tracker_2021.xlsx']))"
      ],
      "execution_count": null,
      "outputs": []
    },
    {
      "cell_type": "code",
      "metadata": {
        "colab": {
          "base_uri": "https://localhost:8080/"
        },
        "id": "1hv-_1phfR8B",
        "outputId": "f026d1f1-19e1-4b27-8e44-67c952f18b9c"
      },
      "source": [
        "#Checking the dataframe information and data types\n",
        "tracker.info()"
      ],
      "execution_count": null,
      "outputs": [
        {
          "output_type": "stream",
          "text": [
            "<class 'pandas.core.frame.DataFrame'>\n",
            "RangeIndex: 150 entries, 0 to 149\n",
            "Data columns (total 14 columns):\n",
            " #   Column       Non-Null Count  Dtype         \n",
            "---  ------       --------------  -----         \n",
            " 0   Date         150 non-null    datetime64[ns]\n",
            " 1   Month        150 non-null    int64         \n",
            " 2   Shift        150 non-null    object        \n",
            " 3   Group        150 non-null    object        \n",
            " 4   Product      150 non-null    object        \n",
            " 5   Format       150 non-null    object        \n",
            " 6   Name         150 non-null    object        \n",
            " 7   Start        150 non-null    object        \n",
            " 8   Last seen    150 non-null    object        \n",
            " 9   Machine      150 non-null    object        \n",
            " 10  Work Point   150 non-null    object        \n",
            " 11  Min          150 non-null    float64       \n",
            " 12  Observation  133 non-null    object        \n",
            " 13  Solution     19 non-null     object        \n",
            "dtypes: datetime64[ns](1), float64(1), int64(1), object(11)\n",
            "memory usage: 16.5+ KB\n"
          ],
          "name": "stdout"
        }
      ]
    },
    {
      "cell_type": "code",
      "metadata": {
        "colab": {
          "base_uri": "https://localhost:8080/",
          "height": 432
        },
        "id": "lXsYAXFKiLRU",
        "outputId": "0ed497ea-d844-4fac-8de9-c59bbcffd27c"
      },
      "source": [
        "#Creating a reduction of the higher stoppages by Machine\n",
        "tracker[['Machine', 'Min']].groupby('Machine').sum().sort_values(by=['Min'], ascending=False)"
      ],
      "execution_count": null,
      "outputs": [
        {
          "output_type": "execute_result",
          "data": {
            "text/html": [
              "<div>\n",
              "<style scoped>\n",
              "    .dataframe tbody tr th:only-of-type {\n",
              "        vertical-align: middle;\n",
              "    }\n",
              "\n",
              "    .dataframe tbody tr th {\n",
              "        vertical-align: top;\n",
              "    }\n",
              "\n",
              "    .dataframe thead th {\n",
              "        text-align: right;\n",
              "    }\n",
              "</style>\n",
              "<table border=\"1\" class=\"dataframe\">\n",
              "  <thead>\n",
              "    <tr style=\"text-align: right;\">\n",
              "      <th></th>\n",
              "      <th>Min</th>\n",
              "    </tr>\n",
              "    <tr>\n",
              "      <th>Machine</th>\n",
              "      <th></th>\n",
              "    </tr>\n",
              "  </thead>\n",
              "  <tbody>\n",
              "    <tr>\n",
              "      <th>Moulding_line</th>\n",
              "      <td>5942.811372</td>\n",
              "    </tr>\n",
              "    <tr>\n",
              "      <th>Choco_process_area</th>\n",
              "      <td>1410.000000</td>\n",
              "    </tr>\n",
              "    <tr>\n",
              "      <th>Two_pack_Flow_pack</th>\n",
              "      <td>800.000000</td>\n",
              "    </tr>\n",
              "    <tr>\n",
              "      <th>Packaging_machine_2</th>\n",
              "      <td>456.000000</td>\n",
              "    </tr>\n",
              "    <tr>\n",
              "      <th>Two_pack_Lid_applicator</th>\n",
              "      <td>424.000000</td>\n",
              "    </tr>\n",
              "    <tr>\n",
              "      <th>Packaging_machine_1</th>\n",
              "      <td>299.880000</td>\n",
              "    </tr>\n",
              "    <tr>\n",
              "      <th>Palletizer</th>\n",
              "      <td>140.000000</td>\n",
              "    </tr>\n",
              "    <tr>\n",
              "      <th>Single_CW</th>\n",
              "      <td>90.000000</td>\n",
              "    </tr>\n",
              "    <tr>\n",
              "      <th>Single_Case_erector</th>\n",
              "      <td>80.000000</td>\n",
              "    </tr>\n",
              "    <tr>\n",
              "      <th>Schubert_robot</th>\n",
              "      <td>70.000000</td>\n",
              "    </tr>\n",
              "    <tr>\n",
              "      <th>Single_Elevator</th>\n",
              "      <td>30.000000</td>\n",
              "    </tr>\n",
              "    <tr>\n",
              "      <th>Single_Lid_applicator</th>\n",
              "      <td>30.000000</td>\n",
              "    </tr>\n",
              "  </tbody>\n",
              "</table>\n",
              "</div>"
            ],
            "text/plain": [
              "                                 Min\n",
              "Machine                             \n",
              "Moulding_line            5942.811372\n",
              "Choco_process_area       1410.000000\n",
              "Two_pack_Flow_pack        800.000000\n",
              "Packaging_machine_2       456.000000\n",
              "Two_pack_Lid_applicator   424.000000\n",
              "Packaging_machine_1       299.880000\n",
              "Palletizer                140.000000\n",
              "Single_CW                  90.000000\n",
              "Single_Case_erector        80.000000\n",
              "Schubert_robot             70.000000\n",
              "Single_Elevator            30.000000\n",
              "Single_Lid_applicator      30.000000"
            ]
          },
          "metadata": {
            "tags": []
          },
          "execution_count": 19
        }
      ]
    },
    {
      "cell_type": "code",
      "metadata": {
        "colab": {
          "base_uri": "https://localhost:8080/",
          "height": 741
        },
        "id": "S1665B-ofq2Y",
        "outputId": "13f9ccd2-d2fc-43b0-f256-57f43a4423bf"
      },
      "source": [
        "#Checking the stoppages by machine and shift\n",
        "g8 = sns.relplot(x='Date', y='Min', data=tracker[tracker['Machine'] == 'Moulding_line'], hue='Shift', row='Format', s=120, aspect=2.5)\n",
        "plt.subplots_adjust(top=0.90)\n",
        "g8.fig.suptitle('Moulding Line stoppages by Shift and Format')\n",
        "plt.show()"
      ],
      "execution_count": null,
      "outputs": [
        {
          "output_type": "display_data",
          "data": {
            "image/png": "[encoded data removed]",
            "text/plain": [
              "<Figure size 993.6x720 with 2 Axes>"
            ]
          },
          "metadata": {
            "tags": []
          }
        }
      ]
    },
    {
      "cell_type": "code",
      "metadata": {
        "colab": {
          "base_uri": "https://localhost:8080/",
          "height": 35
        },
        "id": "s9CTv76AQtpT",
        "outputId": "92d88bb4-a961-49d8-a473-b298f8153350"
      },
      "source": [
        "%pwd"
      ],
      "execution_count": null,
      "outputs": [
        {
          "output_type": "execute_result",
          "data": {
            "application/vnd.google.colaboratory.intrinsic+json": {
              "type": "string"
            },
            "text/plain": [
              "'/content'"
            ]
          },
          "metadata": {
            "tags": []
          },
          "execution_count": 37
        }
      ]
    },
    {
      "cell_type": "code",
      "metadata": {
        "colab": {
          "base_uri": "https://localhost:8080/"
        },
        "id": "avHd7kGoQ32C",
        "outputId": "c417cf24-5b66-4c8e-c393-b2c0642e5c5c"
      },
      "source": [
        "%timeit range(1000)"
      ],
      "execution_count": null,
      "outputs": [
        {
          "output_type": "stream",
          "text": [
            "The slowest run took 12.27 times longer than the fastest. This could mean that an intermediate result is being cached.\n",
            "1000000 loops, best of 3: 217 ns per loop\n"
          ],
          "name": "stdout"
        }
      ]
    },
    {
      "cell_type": "markdown",
      "metadata": {
        "id": "6Y9KujfPgXLa"
      },
      "source": [
        "#GE Analysis"
      ]
    },
    {
      "cell_type": "markdown",
      "metadata": {
        "id": "NAur2G65mjyI"
      },
      "source": [
        "##Uploading data"
      ]
    },
    {
      "cell_type": "code",
      "metadata": {
        "id": "Y-9UmE9FmgY-"
      },
      "source": [
        "#Import scipy\n",
        "from scipy.stats import linregress"
      ],
      "execution_count": null,
      "outputs": []
    },
    {
      "cell_type": "code",
      "metadata": {
        "id": "ga77YrvAlIDx"
      },
      "source": [
        "#Remove previous versions of the uploaded excel file\n",
        "!rm 2021_j4_grouped.xlsx"
      ],
      "execution_count": null,
      "outputs": []
    },
    {
      "cell_type": "code",
      "metadata": {
        "colab": {
          "resources": {
            "http://localhost:8080/nbextensions/google.colab/files.js": {
              "data": "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",
              "ok": true,
              "headers": [
                [
                  "content-type",
                  "application/javascript"
                ]
              ],
              "status": 200,
              "status_text": "OK"
            }
          },
          "base_uri": "https://localhost:8080/",
          "height": 73
        },
        "id": "PXTCLyiVgjip",
        "outputId": "d84d1151-2227-4cb1-d8b6-fdb7c7c899d1"
      },
      "source": [
        "#Uploading file from local drive\n",
        "from google.colab import files\n",
        "uploaded = files.upload()"
      ],
      "execution_count": null,
      "outputs": [
        {
          "output_type": "display_data",
          "data": {
            "text/html": [
              "\n",
              "     <input type=\"file\" id=\"files-6303ef32-6204-4c56-a377-ff042ecf231b\" name=\"files[]\" multiple disabled\n",
              "        style=\"border:none\" />\n",
              "     <output id=\"result-6303ef32-6204-4c56-a377-ff042ecf231b\">\n",
              "      Upload widget is only available when the cell has been executed in the\n",
              "      current browser session. Please rerun this cell to enable.\n",
              "      </output>\n",
              "      <script src=\"/nbextensions/google.colab/files.js\"></script> "
            ],
            "text/plain": [
              "<IPython.core.display.HTML object>"
            ]
          },
          "metadata": {
            "tags": []
          }
        },
        {
          "output_type": "stream",
          "text": [
            "Saving 2021_j4_grouped.xlsx to 2021_j4_grouped.xlsx\n"
          ],
          "name": "stdout"
        }
      ]
    },
    {
      "cell_type": "code",
      "metadata": {
        "id": "FQfaLUldgjiy"
      },
      "source": [
        "#Storing dataset in a Pandas Dataframe\n",
        "import io\n",
        "j4g = pd.read_excel(io.BytesIO(uploaded['2021_j4_grouped.xlsx']))"
      ],
      "execution_count": null,
      "outputs": []
    },
    {
      "cell_type": "code",
      "metadata": {
        "colab": {
          "base_uri": "https://localhost:8080/"
        },
        "id": "yQyn7sdVg0yy",
        "outputId": "e2612905-51be-47e8-fb85-4f43c94cad5b"
      },
      "source": [
        "#Checking the dataframe info\n",
        "j4g.info()"
      ],
      "execution_count": null,
      "outputs": [
        {
          "output_type": "stream",
          "text": [
            "<class 'pandas.core.frame.DataFrame'>\n",
            "RangeIndex: 295 entries, 0 to 294\n",
            "Data columns (total 24 columns):\n",
            " #   Column    Non-Null Count  Dtype         \n",
            "---  ------    --------------  -----         \n",
            " 0   Date      295 non-null    datetime64[ns]\n",
            " 1   Variant   295 non-null    int64         \n",
            " 2   Weeknum   295 non-null    int64         \n",
            " 3   S_num     295 non-null    int64         \n",
            " 4   Shift     295 non-null    object        \n",
            " 5   Mass      295 non-null    object        \n",
            " 6   Group     295 non-null    object        \n",
            " 7   Product   295 non-null    object        \n",
            " 8   Format    295 non-null    object        \n",
            " 9   Form_min  295 non-null    float64       \n",
            " 10  Hours     295 non-null    int64         \n",
            " 11  Boxes     295 non-null    int64         \n",
            " 12  GE        295 non-null    float64       \n",
            " 13  GE_loss   295 non-null    float64       \n",
            " 14  Min_loss  295 non-null    float64       \n",
            " 15  A1764     295 non-null    float64       \n",
            " 16  PK2219    295 non-null    float64       \n",
            " 17  PK2845    295 non-null    float64       \n",
            " 18  PK4553    295 non-null    float64       \n",
            " 19  Schubert  295 non-null    float64       \n",
            " 20  K6316     295 non-null    float64       \n",
            " 21  TP6839    295 non-null    float64       \n",
            " 22  Kr_loss   295 non-null    float64       \n",
            " 23  Comment   59 non-null     object        \n",
            "dtypes: datetime64[ns](1), float64(12), int64(5), object(6)\n",
            "memory usage: 55.4+ KB\n"
          ],
          "name": "stdout"
        }
      ]
    },
    {
      "cell_type": "markdown",
      "metadata": {
        "id": "j_dLAoCNhVYA"
      },
      "source": [
        "##GE EDA"
      ]
    },
    {
      "cell_type": "code",
      "metadata": {
        "colab": {
          "base_uri": "https://localhost:8080/",
          "height": 195
        },
        "id": "zL-wQJLIljs5",
        "outputId": "51264a3b-acbc-4f4f-a6b2-3200550feb99"
      },
      "source": [
        "#Groupby week and average GE\n",
        "ge_df = j4g.groupby(['Weeknum']).agg({'GE': 'mean'}).reset_index()\n",
        "ge_df.head()"
      ],
      "execution_count": null,
      "outputs": [
        {
          "output_type": "execute_result",
          "data": {
            "text/html": [
              "<div>\n",
              "<style scoped>\n",
              "    .dataframe tbody tr th:only-of-type {\n",
              "        vertical-align: middle;\n",
              "    }\n",
              "\n",
              "    .dataframe tbody tr th {\n",
              "        vertical-align: top;\n",
              "    }\n",
              "\n",
              "    .dataframe thead th {\n",
              "        text-align: right;\n",
              "    }\n",
              "</style>\n",
              "<table border=\"1\" class=\"dataframe\">\n",
              "  <thead>\n",
              "    <tr style=\"text-align: right;\">\n",
              "      <th></th>\n",
              "      <th>Weeknum</th>\n",
              "      <th>GE</th>\n",
              "    </tr>\n",
              "  </thead>\n",
              "  <tbody>\n",
              "    <tr>\n",
              "      <th>0</th>\n",
              "      <td>1</td>\n",
              "      <td>64.451239</td>\n",
              "    </tr>\n",
              "    <tr>\n",
              "      <th>1</th>\n",
              "      <td>2</td>\n",
              "      <td>55.148831</td>\n",
              "    </tr>\n",
              "    <tr>\n",
              "      <th>2</th>\n",
              "      <td>3</td>\n",
              "      <td>58.820926</td>\n",
              "    </tr>\n",
              "    <tr>\n",
              "      <th>3</th>\n",
              "      <td>4</td>\n",
              "      <td>57.359118</td>\n",
              "    </tr>\n",
              "    <tr>\n",
              "      <th>4</th>\n",
              "      <td>5</td>\n",
              "      <td>55.653599</td>\n",
              "    </tr>\n",
              "  </tbody>\n",
              "</table>\n",
              "</div>"
            ],
            "text/plain": [
              "   Weeknum         GE\n",
              "0        1  64.451239\n",
              "1        2  55.148831\n",
              "2        3  58.820926\n",
              "3        4  57.359118\n",
              "4        5  55.653599"
            ]
          },
          "metadata": {
            "tags": []
          },
          "execution_count": 51
        }
      ]
    },
    {
      "cell_type": "code",
      "metadata": {
        "id": "Uqmy3bfChNNp"
      },
      "source": [
        "#Create a function to predict GE to the end of the year\n",
        "def ge_plot():\n",
        "  \n",
        "  #Create arrays for plotting\n",
        "  x = np.array(ge_df['Weeknum'])\n",
        "  y = np.array(ge_df['GE'])\n",
        "  \n",
        "  #Create scatter plot\n",
        "  fig, ax = plt.subplots(nrows=1, ncols=1, figsize=(16,6))\n",
        "  ax.scatter(x, y, label='scatter')\n",
        "  \n",
        "  #Create first line of best fit\n",
        "  x_52 = np.arange(1, 52)\n",
        "  lreg_1 = linregress(x, y)\n",
        "  lreg_52 = 'fitted-line: ' + str(round((lreg_1.slope*52 + lreg_1.intercept),1))\n",
        "  ax.plot(x_52, lreg_1.slope*x_52 + lreg_1.intercept, 'r' , label=lreg_52)\n",
        "\n",
        "  #Add labels and title\n",
        "  ax.set_title('2021 J4 GE by Weeknum')\n",
        "  ax.set_xlabel('Weeknum')\n",
        "  ax.set_ylabel('Average GE%')\n",
        "  ax.xaxis.set_ticks(np.arange(1, 52, 1))\n",
        "  ax.yaxis.set_ticks(np.arange(0, 100, 5))\n",
        "  ax.legend()\n",
        "\n",
        "  return fig"
      ],
      "execution_count": null,
      "outputs": []
    },
    {
      "cell_type": "code",
      "metadata": {
        "colab": {
          "base_uri": "https://localhost:8080/",
          "height": 410
        },
        "id": "2Xc-GU7dkQPv",
        "outputId": "abe66e68-9e35-40a6-c755-19b834973771"
      },
      "source": [
        "#Call the function and draw the scatter plot to predict sea level\n",
        "ge_plot()\n",
        "plt.show()"
      ],
      "execution_count": null,
      "outputs": [
        {
          "output_type": "display_data",
          "data": {
            "image/png": "[encoded data removed]",
            "text/plain": [
              "<Figure size 1152x432 with 1 Axes>"
            ]
          },
          "metadata": {
            "tags": []
          }
        }
      ]
    },
    {
      "cell_type": "markdown",
      "metadata": {
        "id": "0Mobjv_LR7XC"
      },
      "source": [
        "#Lost volume (packing from grey boxes)\n",
        "\n"
      ]
    },
    {
      "cell_type": "markdown",
      "metadata": {
        "id": "xxBHwKnbSAFH"
      },
      "source": [
        "## Uploading necessary packages"
      ]
    },
    {
      "cell_type": "code",
      "metadata": {
        "id": "PkdLlejYSAFI"
      },
      "source": [
        "#Remove previous versions of the uploaded excel file\n",
        "!rm 2021_j4_pakker_fra_kasser.xlsx"
      ],
      "execution_count": null,
      "outputs": []
    },
    {
      "cell_type": "code",
      "metadata": {
        "colab": {
          "resources": {
            "http://localhost:8080/nbextensions/google.colab/files.js": {
              "data": "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",
              "ok": true,
              "headers": [
                [
                  "content-type",
                  "application/javascript"
                ]
              ],
              "status": 200,
              "status_text": "OK"
            }
          },
          "base_uri": "https://localhost:8080/",
          "height": 73
        },
        "id": "vVZEm4rtSAFK",
        "outputId": "b0a95f61-0c0c-4da0-c3a1-46357457f46a"
      },
      "source": [
        "#Uploading file from local drive ==> !rm file\n",
        "from google.colab import files\n",
        "uploaded5 = files.upload()"
      ],
      "execution_count": null,
      "outputs": [
        {
          "output_type": "display_data",
          "data": {
            "text/html": [
              "\n",
              "     <input type=\"file\" id=\"files-ac6d7322-3efe-47c4-bad8-d51dcc3ce541\" name=\"files[]\" multiple disabled\n",
              "        style=\"border:none\" />\n",
              "     <output id=\"result-ac6d7322-3efe-47c4-bad8-d51dcc3ce541\">\n",
              "      Upload widget is only available when the cell has been executed in the\n",
              "      current browser session. Please rerun this cell to enable.\n",
              "      </output>\n",
              "      <script src=\"/nbextensions/google.colab/files.js\"></script> "
            ],
            "text/plain": [
              "<IPython.core.display.HTML object>"
            ]
          },
          "metadata": {
            "tags": []
          }
        },
        {
          "output_type": "stream",
          "text": [
            "Saving 2021_j4_pakker_fra_kasser.xlsx to 2021_j4_pakker_fra_kasser.xlsx\n"
          ],
          "name": "stdout"
        }
      ]
    },
    {
      "cell_type": "code",
      "metadata": {
        "id": "p5zbx_wESAFM"
      },
      "source": [
        "#Storing dataset in a Pandas Dataframe\n",
        "import io\n",
        "df5 = pd.read_excel(io.BytesIO(uploaded5['2021_j4_pakker_fra_kasser.xlsx']))"
      ],
      "execution_count": null,
      "outputs": []
    },
    {
      "cell_type": "code",
      "metadata": {
        "colab": {
          "base_uri": "https://localhost:8080/"
        },
        "id": "nP8laH96SAFM",
        "outputId": "ca8dc745-b893-4b26-8ca4-e6e9e6d73136"
      },
      "source": [
        "#Checking the dataframe information\n",
        "df5.info()"
      ],
      "execution_count": null,
      "outputs": [
        {
          "output_type": "stream",
          "text": [
            "<class 'pandas.core.frame.DataFrame'>\n",
            "RangeIndex: 132 entries, 0 to 131\n",
            "Data columns (total 19 columns):\n",
            " #   Column    Non-Null Count  Dtype         \n",
            "---  ------    --------------  -----         \n",
            " 0   Event     132 non-null    datetime64[ns]\n",
            " 1   Year      132 non-null    int64         \n",
            " 2   Month     132 non-null    object        \n",
            " 3   Weeknum   132 non-null    int64         \n",
            " 4   Weekday   132 non-null    object        \n",
            " 5   Shift     132 non-null    object        \n",
            " 6   S_num     124 non-null    float64       \n",
            " 7   State     132 non-null    object        \n",
            " 8   T_loss    132 non-null    object        \n",
            " 9   Mass      132 non-null    object        \n",
            " 10  Group     132 non-null    object        \n",
            " 11  Product   132 non-null    object        \n",
            " 12  Format    132 non-null    object        \n",
            " 13  Form_min  132 non-null    int64         \n",
            " 14  Boxes     132 non-null    int64         \n",
            " 15  GE        132 non-null    float64       \n",
            " 16  GE_loss   132 non-null    float64       \n",
            " 17  Min_loss  132 non-null    float64       \n",
            " 18  Comment   132 non-null    object        \n",
            "dtypes: datetime64[ns](1), float64(4), int64(4), object(10)\n",
            "memory usage: 19.7+ KB\n"
          ],
          "name": "stdout"
        }
      ]
    },
    {
      "cell_type": "code",
      "metadata": {
        "colab": {
          "base_uri": "https://localhost:8080/"
        },
        "id": "WbzRV26USAFR",
        "outputId": "6f3d5bb1-cc0d-44d9-f5dd-30c4bcaff481"
      },
      "source": [
        "#Checking the dataframe index\n",
        "df5.Event[0], df5.Event.iloc[-1]"
      ],
      "execution_count": null,
      "outputs": [
        {
          "output_type": "execute_result",
          "data": {
            "text/plain": [
              "(Timestamp('2021-01-07 19:00:00'), Timestamp('2021-05-27 06:00:00'))"
            ]
          },
          "metadata": {
            "tags": []
          },
          "execution_count": 10
        }
      ]
    },
    {
      "cell_type": "markdown",
      "metadata": {
        "id": "1TUGj6x5TFKM"
      },
      "source": [
        "##EDA Molding line stoppages"
      ]
    },
    {
      "cell_type": "code",
      "metadata": {
        "colab": {
          "base_uri": "https://localhost:8080/",
          "height": 603
        },
        "id": "-q-o0cCITE3Z",
        "outputId": "c8beab19-ec25-4961-8e19-d3a6adf32054"
      },
      "source": [
        "grey_df = df5.groupby(['Weeknum', 'Form_min', 'Comment']).agg({'Min_loss': 'count'}).reset_index()\n",
        "grey_df = grey_df.rename(columns={'Min_loss': 'Lost_hours'})\n",
        "grey_df = grey_df.assign(Lost_kg = grey_df['Lost_hours']*3799)\n",
        "grey_df = grey_df.assign(Lost_cost = grey_df['Lost_hours']*920)\n",
        "grey_df = grey_df.assign(Cum_cost = grey_df['Lost_cost'].cumsum())\n",
        "grey_df"
      ],
      "execution_count": null,
      "outputs": [
        {
          "output_type": "execute_result",
          "data": {
            "text/html": [
              "<div>\n",
              "<style scoped>\n",
              "    .dataframe tbody tr th:only-of-type {\n",
              "        vertical-align: middle;\n",
              "    }\n",
              "\n",
              "    .dataframe tbody tr th {\n",
              "        vertical-align: top;\n",
              "    }\n",
              "\n",
              "    .dataframe thead th {\n",
              "        text-align: right;\n",
              "    }\n",
              "</style>\n",
              "<table border=\"1\" class=\"dataframe\">\n",
              "  <thead>\n",
              "    <tr style=\"text-align: right;\">\n",
              "      <th></th>\n",
              "      <th>Weeknum</th>\n",
              "      <th>Form_min</th>\n",
              "      <th>Comment</th>\n",
              "      <th>Lost_hours</th>\n",
              "      <th>Lost_kg</th>\n",
              "      <th>Lost_cost</th>\n",
              "      <th>Cum_cost</th>\n",
              "    </tr>\n",
              "  </thead>\n",
              "  <tbody>\n",
              "    <tr>\n",
              "      <th>0</th>\n",
              "      <td>1</td>\n",
              "      <td>0</td>\n",
              "      <td>Stopp anlegget, pakker fra kasser</td>\n",
              "      <td>6</td>\n",
              "      <td>22794</td>\n",
              "      <td>5520</td>\n",
              "      <td>5520</td>\n",
              "    </tr>\n",
              "    <tr>\n",
              "      <th>1</th>\n",
              "      <td>2</td>\n",
              "      <td>0</td>\n",
              "      <td>Stopp anlegget, pakker fra kasser</td>\n",
              "      <td>7</td>\n",
              "      <td>26593</td>\n",
              "      <td>6440</td>\n",
              "      <td>11960</td>\n",
              "    </tr>\n",
              "    <tr>\n",
              "      <th>2</th>\n",
              "      <td>3</td>\n",
              "      <td>0</td>\n",
              "      <td>Stopp anlegget, pakker fra kasser</td>\n",
              "      <td>5</td>\n",
              "      <td>18995</td>\n",
              "      <td>4600</td>\n",
              "      <td>16560</td>\n",
              "    </tr>\n",
              "    <tr>\n",
              "      <th>3</th>\n",
              "      <td>4</td>\n",
              "      <td>0</td>\n",
              "      <td>Stopp anlegget, pakker fra kasser</td>\n",
              "      <td>19</td>\n",
              "      <td>72181</td>\n",
              "      <td>17480</td>\n",
              "      <td>34040</td>\n",
              "    </tr>\n",
              "    <tr>\n",
              "      <th>4</th>\n",
              "      <td>5</td>\n",
              "      <td>0</td>\n",
              "      <td>Stopp anlegget, pakker fra kasser</td>\n",
              "      <td>7</td>\n",
              "      <td>26593</td>\n",
              "      <td>6440</td>\n",
              "      <td>40480</td>\n",
              "    </tr>\n",
              "    <tr>\n",
              "      <th>5</th>\n",
              "      <td>6</td>\n",
              "      <td>0</td>\n",
              "      <td>Stopp anlegget, pakker fra kasser</td>\n",
              "      <td>4</td>\n",
              "      <td>15196</td>\n",
              "      <td>3680</td>\n",
              "      <td>44160</td>\n",
              "    </tr>\n",
              "    <tr>\n",
              "      <th>6</th>\n",
              "      <td>7</td>\n",
              "      <td>0</td>\n",
              "      <td>Stopp anlegget, pakker fra kasser</td>\n",
              "      <td>23</td>\n",
              "      <td>87377</td>\n",
              "      <td>21160</td>\n",
              "      <td>65320</td>\n",
              "    </tr>\n",
              "    <tr>\n",
              "      <th>7</th>\n",
              "      <td>8</td>\n",
              "      <td>0</td>\n",
              "      <td>Stopp anlegget, pakker fra kasser</td>\n",
              "      <td>3</td>\n",
              "      <td>11397</td>\n",
              "      <td>2760</td>\n",
              "      <td>68080</td>\n",
              "    </tr>\n",
              "    <tr>\n",
              "      <th>8</th>\n",
              "      <td>9</td>\n",
              "      <td>0</td>\n",
              "      <td>Stopp anlegget, pakker fra kasser</td>\n",
              "      <td>3</td>\n",
              "      <td>11397</td>\n",
              "      <td>2760</td>\n",
              "      <td>70840</td>\n",
              "    </tr>\n",
              "    <tr>\n",
              "      <th>9</th>\n",
              "      <td>10</td>\n",
              "      <td>0</td>\n",
              "      <td>Stopp anlegget, pakker fra kasser</td>\n",
              "      <td>13</td>\n",
              "      <td>49387</td>\n",
              "      <td>11960</td>\n",
              "      <td>82800</td>\n",
              "    </tr>\n",
              "    <tr>\n",
              "      <th>10</th>\n",
              "      <td>11</td>\n",
              "      <td>0</td>\n",
              "      <td>Stopp anlegget, pakker fra kasser</td>\n",
              "      <td>1</td>\n",
              "      <td>3799</td>\n",
              "      <td>920</td>\n",
              "      <td>83720</td>\n",
              "    </tr>\n",
              "    <tr>\n",
              "      <th>11</th>\n",
              "      <td>12</td>\n",
              "      <td>0</td>\n",
              "      <td>Stopp anlegget, pakker fra kasser</td>\n",
              "      <td>1</td>\n",
              "      <td>3799</td>\n",
              "      <td>920</td>\n",
              "      <td>84640</td>\n",
              "    </tr>\n",
              "    <tr>\n",
              "      <th>12</th>\n",
              "      <td>14</td>\n",
              "      <td>0</td>\n",
              "      <td>Stopp anlegget, pakker fra kasser</td>\n",
              "      <td>7</td>\n",
              "      <td>26593</td>\n",
              "      <td>6440</td>\n",
              "      <td>91080</td>\n",
              "    </tr>\n",
              "    <tr>\n",
              "      <th>13</th>\n",
              "      <td>15</td>\n",
              "      <td>0</td>\n",
              "      <td>Stopp anlegget, pakker fra kasser</td>\n",
              "      <td>11</td>\n",
              "      <td>41789</td>\n",
              "      <td>10120</td>\n",
              "      <td>101200</td>\n",
              "    </tr>\n",
              "    <tr>\n",
              "      <th>14</th>\n",
              "      <td>16</td>\n",
              "      <td>0</td>\n",
              "      <td>Stopp anlegget, pakker fra kasser</td>\n",
              "      <td>4</td>\n",
              "      <td>15196</td>\n",
              "      <td>3680</td>\n",
              "      <td>104880</td>\n",
              "    </tr>\n",
              "    <tr>\n",
              "      <th>15</th>\n",
              "      <td>17</td>\n",
              "      <td>0</td>\n",
              "      <td>Stopp anlegget, pakker fra kasser</td>\n",
              "      <td>1</td>\n",
              "      <td>3799</td>\n",
              "      <td>920</td>\n",
              "      <td>105800</td>\n",
              "    </tr>\n",
              "    <tr>\n",
              "      <th>16</th>\n",
              "      <td>18</td>\n",
              "      <td>0</td>\n",
              "      <td>Stopp anlegget, pakker fra kasser</td>\n",
              "      <td>9</td>\n",
              "      <td>34191</td>\n",
              "      <td>8280</td>\n",
              "      <td>114080</td>\n",
              "    </tr>\n",
              "    <tr>\n",
              "      <th>17</th>\n",
              "      <td>21</td>\n",
              "      <td>0</td>\n",
              "      <td>Stopp anlegget, pakker fra kasser</td>\n",
              "      <td>8</td>\n",
              "      <td>30392</td>\n",
              "      <td>7360</td>\n",
              "      <td>121440</td>\n",
              "    </tr>\n",
              "  </tbody>\n",
              "</table>\n",
              "</div>"
            ],
            "text/plain": [
              "    Weeknum  Form_min  ... Lost_cost  Cum_cost\n",
              "0         1         0  ...      5520      5520\n",
              "1         2         0  ...      6440     11960\n",
              "2         3         0  ...      4600     16560\n",
              "3         4         0  ...     17480     34040\n",
              "4         5         0  ...      6440     40480\n",
              "5         6         0  ...      3680     44160\n",
              "6         7         0  ...     21160     65320\n",
              "7         8         0  ...      2760     68080\n",
              "8         9         0  ...      2760     70840\n",
              "9        10         0  ...     11960     82800\n",
              "10       11         0  ...       920     83720\n",
              "11       12         0  ...       920     84640\n",
              "12       14         0  ...      6440     91080\n",
              "13       15         0  ...     10120    101200\n",
              "14       16         0  ...      3680    104880\n",
              "15       17         0  ...       920    105800\n",
              "16       18         0  ...      8280    114080\n",
              "17       21         0  ...      7360    121440\n",
              "\n",
              "[18 rows x 7 columns]"
            ]
          },
          "metadata": {
            "tags": []
          },
          "execution_count": 15
        }
      ]
    },
    {
      "cell_type": "code",
      "metadata": {
        "colab": {
          "base_uri": "https://localhost:8080/",
          "height": 399
        },
        "id": "Tu0vY4i1Uh62",
        "outputId": "df3cfffc-fa01-4b00-8cd2-7055ad15ce79"
      },
      "source": [
        "#Plotting the lost hours by each week\n",
        "sns.catplot(x='Weeknum', y='Lost_hours', data=grey_df, kind='bar', height=5, aspect=3)\n",
        "plt.title('Hours Lost, Molding Line Stopped, packaging from grey boxes')\n",
        "plt.show()"
      ],
      "execution_count": null,
      "outputs": [
        {
          "output_type": "display_data",
          "data": {
            "image/png": "[encoded data removed]",
            "text/plain": [
              "<Figure size 1080x360 with 1 Axes>"
            ]
          },
          "metadata": {
            "tags": [],
            "needs_background": "light"
          }
        }
      ]
    },
    {
      "cell_type": "code",
      "metadata": {
        "colab": {
          "base_uri": "https://localhost:8080/",
          "height": 399
        },
        "id": "Y74lIXXfWSu5",
        "outputId": "3618f97a-7287-49ff-8d7b-d1db6def0fec"
      },
      "source": [
        "#Plotting the cumulative cost loss\n",
        "sns.relplot(x='Weeknum', y='Cum_cost', data=grey_df, kind='line', height=5, aspect=3)\n",
        "plt.title('Cumulative Cost Lost, Molding Line Stopped, packaging from grey boxes')\n",
        "plt.show()"
      ],
      "execution_count": null,
      "outputs": [
        {
          "output_type": "display_data",
          "data": {
            "image/png": "[encoded data removed]",
            "text/plain": [
              "<Figure size 1080x360 with 1 Axes>"
            ]
          },
          "metadata": {
            "tags": [],
            "needs_background": "light"
          }
        }
      ]
    },
    {
      "cell_type": "code",
      "metadata": {
        "colab": {
          "base_uri": "https://localhost:8080/",
          "height": 17
        },
        "id": "3iCAcWXoXh5H",
        "outputId": "0a1e8fe7-3706-4222-909e-83167bf1c2a3"
      },
      "source": [
        "#Exporting to excel into local disk\n",
        "from google.colab import files\n",
        "grey_df.to_excel('grey_boxes_j4.xlsx', index=False) #==> Excluding index from file\n",
        "files.download('grey_boxes_j4.xlsx')"
      ],
      "execution_count": null,
      "outputs": [
        {
          "output_type": "display_data",
          "data": {
            "application/javascript": [
              "\n",
              "    async function download(id, filename, size) {\n",
              "      if (!google.colab.kernel.accessAllowed) {\n",
              "        return;\n",
              "      }\n",
              "      const div = document.createElement('div');\n",
              "      const label = document.createElement('label');\n",
              "      label.textContent = `Downloading \"${filename}\": `;\n",
              "      div.appendChild(label);\n",
              "      const progress = document.createElement('progress');\n",
              "      progress.max = size;\n",
              "      div.appendChild(progress);\n",
              "      document.body.appendChild(div);\n",
              "\n",
              "      const buffers = [];\n",
              "      let downloaded = 0;\n",
              "\n",
              "      const channel = await google.colab.kernel.comms.open(id);\n",
              "      // Send a message to notify the kernel that we're ready.\n",
              "      channel.send({})\n",
              "\n",
              "      for await (const message of channel.messages) {\n",
              "        // Send a message to notify the kernel that we're ready.\n",
              "        channel.send({})\n",
              "        if (message.buffers) {\n",
              "          for (const buffer of message.buffers) {\n",
              "            buffers.push(buffer);\n",
              "            downloaded += buffer.byteLength;\n",
              "            progress.value = downloaded;\n",
              "          }\n",
              "        }\n",
              "      }\n",
              "      const blob = new Blob(buffers, {type: 'application/binary'});\n",
              "      const a = document.createElement('a');\n",
              "      a.href = window.URL.createObjectURL(blob);\n",
              "      a.download = filename;\n",
              "      div.appendChild(a);\n",
              "      a.click();\n",
              "      div.remove();\n",
              "    }\n",
              "  "
            ],
            "text/plain": [
              "<IPython.core.display.Javascript object>"
            ]
          },
          "metadata": {
            "tags": []
          }
        },
        {
          "output_type": "display_data",
          "data": {
            "application/javascript": [
              "download(\"download_64309c21-448b-411f-a00a-1218904e5b54\", \"grey_boxes_j4.xlsx\", 5672)"
            ],
            "text/plain": [
              "<IPython.core.display.Javascript object>"
            ]
          },
          "metadata": {
            "tags": []
          }
        }
      ]
    },
    {
      "cell_type": "markdown",
      "metadata": {
        "id": "pDDhcMi84qxs"
      },
      "source": [
        "#Sugar syrup analytics"
      ]
    },
    {
      "cell_type": "markdown",
      "metadata": {
        "id": "JU_AkXpy4t_p"
      },
      "source": [
        "## Uploading necessary packages"
      ]
    },
    {
      "cell_type": "code",
      "metadata": {
        "id": "FT9AnQe05hB7"
      },
      "source": [
        "#Uploading packages\n",
        "import pandas as pd\n",
        "import numpy as np\n",
        "import matplotlib.pyplot as plt\n",
        "import seaborn as sns\n",
        "from ipywidgets import interact"
      ],
      "execution_count": null,
      "outputs": []
    },
    {
      "cell_type": "code",
      "metadata": {
        "id": "PkjArWrMFMWx"
      },
      "source": [
        "#Customizing data visualization styles\n",
        "sns.set_theme(rc = {'figure.figsize': (8, 4)})"
      ],
      "execution_count": null,
      "outputs": []
    },
    {
      "cell_type": "code",
      "metadata": {
        "id": "PrATmNfN4t_x"
      },
      "source": [
        "#Remove previous versions of the uploaded excel file\n",
        "!rm 2021_sugar_syrup_data.xlsx"
      ],
      "execution_count": null,
      "outputs": []
    },
    {
      "cell_type": "code",
      "metadata": {
        "colab": {
          "resources": {
            "http://localhost:8080/nbextensions/google.colab/files.js": {
              "data": "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",
              "ok": true,
              "headers": [
                [
                  "content-type",
                  "application/javascript"
                ]
              ],
              "status": 200,
              "status_text": "OK"
            }
          },
          "base_uri": "https://localhost:8080/",
          "height": 73
        },
        "id": "h-O5sHre4t_x",
        "outputId": "ec844d64-cb9e-4a19-f71d-be2f561cfcba"
      },
      "source": [
        "#Uploading file from local drive ==> !rm file\n",
        "from google.colab import files\n",
        "uploaded6 = files.upload()"
      ],
      "execution_count": null,
      "outputs": [
        {
          "output_type": "display_data",
          "data": {
            "text/html": [
              "\n",
              "     <input type=\"file\" id=\"files-e16546a2-d06c-475f-b76d-4fc53e7c1ce3\" name=\"files[]\" multiple disabled\n",
              "        style=\"border:none\" />\n",
              "     <output id=\"result-e16546a2-d06c-475f-b76d-4fc53e7c1ce3\">\n",
              "      Upload widget is only available when the cell has been executed in the\n",
              "      current browser session. Please rerun this cell to enable.\n",
              "      </output>\n",
              "      <script src=\"/nbextensions/google.colab/files.js\"></script> "
            ],
            "text/plain": [
              "<IPython.core.display.HTML object>"
            ]
          },
          "metadata": {}
        },
        {
          "output_type": "stream",
          "name": "stdout",
          "text": [
            "Saving 2021_sugar_syrup_data.xlsx to 2021_sugar_syrup_data.xlsx\n"
          ]
        }
      ]
    },
    {
      "cell_type": "code",
      "metadata": {
        "id": "tb9f3E6k4t_z"
      },
      "source": [
        "#Storing dataset in a Pandas Dataframe\n",
        "import io\n",
        "df6 = pd.read_excel(io.BytesIO(uploaded6['2021_sugar_syrup_data.xlsx']))"
      ],
      "execution_count": null,
      "outputs": []
    },
    {
      "cell_type": "code",
      "metadata": {
        "colab": {
          "base_uri": "https://localhost:8080/"
        },
        "id": "NW_Z2P-Q5rwr",
        "outputId": "1f030782-d2fa-4050-cc80-a2524abbc205"
      },
      "source": [
        "#Checking the dataframe info\n",
        "df6.info()"
      ],
      "execution_count": null,
      "outputs": [
        {
          "output_type": "stream",
          "name": "stdout",
          "text": [
            "<class 'pandas.core.frame.DataFrame'>\n",
            "RangeIndex: 92 entries, 0 to 91\n",
            "Data columns (total 6 columns):\n",
            " #   Column           Non-Null Count  Dtype         \n",
            "---  ------           --------------  -----         \n",
            " 0   Event            92 non-null     datetime64[ns]\n",
            " 1   Year             92 non-null     int64         \n",
            " 2   Month            92 non-null     object        \n",
            " 3   Weeknum          92 non-null     int64         \n",
            " 4   Weekday          92 non-null     object        \n",
            " 5   Driamix_varming  92 non-null     int64         \n",
            "dtypes: datetime64[ns](1), int64(3), object(2)\n",
            "memory usage: 4.4+ KB\n"
          ]
        }
      ]
    },
    {
      "cell_type": "markdown",
      "metadata": {
        "id": "YEfvf6m150Vl"
      },
      "source": [
        "##Data manipulation"
      ]
    },
    {
      "cell_type": "code",
      "metadata": {
        "colab": {
          "base_uri": "https://localhost:8080/",
          "height": 142
        },
        "id": "r8596vpZ51fo",
        "outputId": "5ee50dd0-b987-4f08-b64d-948ccc2f1222"
      },
      "source": [
        "#Creating categorical values for multi-variate analysis\n",
        "df6 = df6.assign(Team = np.where((df6['Event'].dt.day)<25, 'Team_1', 'Team_2'),\n",
        "                 Shift = np.where((df6['Event'].dt.hour)<12, 'Day', 'Afternoon'),\n",
        "                 Hour = df6['Event'].dt.hour)\n",
        "df6.head(3)"
      ],
      "execution_count": null,
      "outputs": [
        {
          "output_type": "execute_result",
          "data": {
            "text/html": [
              "<div>\n",
              "<style scoped>\n",
              "    .dataframe tbody tr th:only-of-type {\n",
              "        vertical-align: middle;\n",
              "    }\n",
              "\n",
              "    .dataframe tbody tr th {\n",
              "        vertical-align: top;\n",
              "    }\n",
              "\n",
              "    .dataframe thead th {\n",
              "        text-align: right;\n",
              "    }\n",
              "</style>\n",
              "<table border=\"1\" class=\"dataframe\">\n",
              "  <thead>\n",
              "    <tr style=\"text-align: right;\">\n",
              "      <th></th>\n",
              "      <th>Event</th>\n",
              "      <th>Year</th>\n",
              "      <th>Month</th>\n",
              "      <th>Weeknum</th>\n",
              "      <th>Weekday</th>\n",
              "      <th>Driamix_varming</th>\n",
              "      <th>Team</th>\n",
              "      <th>Shift</th>\n",
              "      <th>Hour</th>\n",
              "    </tr>\n",
              "  </thead>\n",
              "  <tbody>\n",
              "    <tr>\n",
              "      <th>0</th>\n",
              "      <td>2021-10-17 08:00:00</td>\n",
              "      <td>2021</td>\n",
              "      <td>October</td>\n",
              "      <td>41</td>\n",
              "      <td>Sunday</td>\n",
              "      <td>86</td>\n",
              "      <td>Team_1</td>\n",
              "      <td>Day</td>\n",
              "      <td>8</td>\n",
              "    </tr>\n",
              "    <tr>\n",
              "      <th>1</th>\n",
              "      <td>2021-10-17 09:00:00</td>\n",
              "      <td>2021</td>\n",
              "      <td>October</td>\n",
              "      <td>41</td>\n",
              "      <td>Sunday</td>\n",
              "      <td>88</td>\n",
              "      <td>Team_1</td>\n",
              "      <td>Day</td>\n",
              "      <td>9</td>\n",
              "    </tr>\n",
              "    <tr>\n",
              "      <th>2</th>\n",
              "      <td>2021-10-17 09:30:00</td>\n",
              "      <td>2021</td>\n",
              "      <td>October</td>\n",
              "      <td>41</td>\n",
              "      <td>Sunday</td>\n",
              "      <td>86</td>\n",
              "      <td>Team_1</td>\n",
              "      <td>Day</td>\n",
              "      <td>9</td>\n",
              "    </tr>\n",
              "  </tbody>\n",
              "</table>\n",
              "</div>"
            ],
            "text/plain": [
              "                Event  Year    Month  ...    Team Shift  Hour\n",
              "0 2021-10-17 08:00:00  2021  October  ...  Team_1   Day     8\n",
              "1 2021-10-17 09:00:00  2021  October  ...  Team_1   Day     9\n",
              "2 2021-10-17 09:30:00  2021  October  ...  Team_1   Day     9\n",
              "\n",
              "[3 rows x 9 columns]"
            ]
          },
          "metadata": {},
          "execution_count": 16
        }
      ]
    },
    {
      "cell_type": "markdown",
      "metadata": {
        "id": "qr5kKWqC8P1r"
      },
      "source": [
        "##Multi-variate Analysis"
      ]
    },
    {
      "cell_type": "code",
      "metadata": {
        "colab": {
          "base_uri": "https://localhost:8080/"
        },
        "id": "VgxJlMyt8TJC",
        "outputId": "269f3536-51d1-460e-e28c-0a8c8dbf9d0c"
      },
      "source": [
        "#Creating list of categories\n",
        "var_list = ['Month', 'Weeknum', 'Weekday', 'Team', 'Shift', 'Hour']\n",
        "var_list"
      ],
      "execution_count": null,
      "outputs": [
        {
          "output_type": "execute_result",
          "data": {
            "text/plain": [
              "['Month', 'Weeknum', 'Weekday', 'Team', 'Shift', 'Hour']"
            ]
          },
          "metadata": {},
          "execution_count": 24
        }
      ]
    },
    {
      "cell_type": "code",
      "metadata": {
        "colab": {
          "base_uri": "https://localhost:8080/",
          "height": 142,
          "referenced_widgets": [
            "fb0dbdb66dd44918b8e65026a4c4aa20",
            "d0c2a2a2fcb84ee29de9a7cfe0ada54c",
            "3eff510f18f44d09be842cb7b3887106",
            "731858aacd96415f9772698c44fca0ea",
            "3ec77010772b49f480bf858e0de28607",
            "5ba2471f1e624632bdeaec115bb63e23",
            "9a3b02cbdf9d43088e932194d31e40f2"
          ]
        },
        "id": "z43wyXzkAC5H",
        "outputId": "5ba12e83-63c8-4128-b2f7-210389a6d1d7"
      },
      "source": [
        "#Inspecting the proportion of data for different categories\n",
        "@interact(Cat=var_list)\n",
        "def proportion(Cat):\n",
        "  return df6.value_counts(subset=Cat, normalize=True).reset_index(name='Proportion')"
      ],
      "execution_count": null,
      "outputs": [
        {
          "output_type": "display_data",
          "data": {
            "application/vnd.jupyter.widget-view+json": {
              "model_id": "fb0dbdb66dd44918b8e65026a4c4aa20",
              "version_minor": 0,
              "version_major": 2
            },
            "text/plain": [
              "interactive(children=(Dropdown(description='Cat', options=('Month', 'Weeknum', 'Weekday', 'Team', 'Shift', 'Ho…"
            ]
          },
          "metadata": {}
        }
      ]
    },
    {
      "cell_type": "code",
      "metadata": {
        "colab": {
          "base_uri": "https://localhost:8080/",
          "height": 365,
          "referenced_widgets": [
            "892c795380974c0b9857512ad2e3e899",
            "bfd053a5034a43c7b2b308c895712363",
            "b54a93709c8e4d0594f5fcd942561fb9",
            "88077a425a874dcea9613fe80ceb9ba0",
            "7445309e3d15450baf3259fc94411354",
            "537a190826814823b2402eb6dbadd2df",
            "9aecc8a131f3419dac72dbe28b739178",
            "6fc89fd52bb4466d9b9662f1ce1e107c",
            "ddca2fda6d73467ab7fe5f9b7fc4b146",
            "7d2276b3ee5d427a815d9e42053ded78"
          ]
        },
        "id": "66CB6-N6-BSl",
        "outputId": "06412439-845d-4c0f-cd51-92469a109815"
      },
      "source": [
        "#Creating interactive visualization\n",
        "@interact(Cat=var_list, Shift=['Shift', 'Team', None])\n",
        "def plot_multi_variate(Cat, Shift):\n",
        "  sns.boxplot(x=Cat, y='Driamix_varming', data=df6, hue=Shift)\n",
        "  plt.title('Sugar Syrup Multi-variate Analysis')\n",
        "  plt.legend(bbox_to_anchor=(1.25, 1)) #==> Set legend outside the chart\n",
        "  plt.show()"
      ],
      "execution_count": null,
      "outputs": [
        {
          "output_type": "display_data",
          "data": {
            "application/vnd.jupyter.widget-view+json": {
              "model_id": "892c795380974c0b9857512ad2e3e899",
              "version_minor": 0,
              "version_major": 2
            },
            "text/plain": [
              "interactive(children=(Dropdown(description='Cat', options=('Month', 'Weeknum', 'Weekday', 'Team', 'Shift', 'Ho…"
            ]
          },
          "metadata": {}
        }
      ]
    },
    {
      "cell_type": "code",
      "metadata": {
        "colab": {
          "base_uri": "https://localhost:8080/",
          "height": 284
        },
        "id": "avYDf3FDGHAU",
        "outputId": "67c6de98-6b90-4344-c8ea-1f17601f98f3"
      },
      "source": [
        "#Plotting a scatter plot of the warming temperature\n",
        "sns.lineplot(x=df6.index, y='Driamix_varming', data=df6)\n",
        "plt.title('Sugar Syrup Temperature Variability')\n",
        "plt.show()"
      ],
      "execution_count": null,
      "outputs": [
        {
          "output_type": "display_data",
          "data": {
            "image/png": "[encoded data removed]",
            "text/plain": [
              "<Figure size 576x288 with 1 Axes>"
            ]
          },
          "metadata": {}
        }
      ]
    },
    {
      "cell_type": "code",
      "metadata": {
        "colab": {
          "base_uri": "https://localhost:8080/",
          "height": 377
        },
        "id": "6y4GuHCiGzmZ",
        "outputId": "a8d2abac-9c26-4ca2-d52a-e903855b8097"
      },
      "source": [
        "#Plotting the Cumulative Distribution Function of the warming temperature\n",
        "sns.displot(x='Driamix_varming', data=df6, kind='ecdf')\n",
        "plt.title('Cumulative Distribution Function of Temperature')\n",
        "plt.show()"
      ],
      "execution_count": null,
      "outputs": [
        {
          "output_type": "display_data",
          "data": {
            "image/png": "[encoded data removed]",
            "text/plain": [
              "<Figure size 360x360 with 1 Axes>"
            ]
          },
          "metadata": {}
        }
      ]
    },
    {
      "cell_type": "markdown",
      "metadata": {
        "id": "5eY_FWg0zgA_"
      },
      "source": [
        "#Kaizen KPIs"
      ]
    },
    {
      "cell_type": "markdown",
      "metadata": {
        "id": "vVz9nk4Lzil-"
      },
      "source": [
        "## Uploading necessary packages"
      ]
    },
    {
      "cell_type": "code",
      "metadata": {
        "id": "jLYeUdoK8ECb"
      },
      "source": [
        "#Upgrading Plotly\n",
        "!pip install plotly --upgrade"
      ],
      "execution_count": null,
      "outputs": []
    },
    {
      "cell_type": "code",
      "metadata": {
        "id": "wcPmgRqczil_"
      },
      "source": [
        "#Uploading packages\n",
        "import pandas as pd\n",
        "import numpy as np\n",
        "import matplotlib.pyplot as plt\n",
        "import seaborn as sns\n",
        "import plotly.express as px\n",
        "from ipywidgets import interact"
      ],
      "execution_count": 1,
      "outputs": []
    },
    {
      "cell_type": "code",
      "metadata": {
        "id": "rA4hU5VDzil_"
      },
      "source": [
        "#Customizing data visualization styles\n",
        "sns.set_theme(rc = {'figure.figsize': (10, 5)})"
      ],
      "execution_count": 14,
      "outputs": []
    },
    {
      "cell_type": "code",
      "metadata": {
        "id": "RoOdPF49zimA"
      },
      "source": [
        "#Remove previous versions of the uploaded excel file\n",
        "!rm kaizen_db.xlsx"
      ],
      "execution_count": null,
      "outputs": []
    },
    {
      "cell_type": "code",
      "metadata": {
        "id": "bZIUFZN-zimA"
      },
      "source": [
        "#Uploading file from local drive ==> !rm file\n",
        "from google.colab import files\n",
        "uploaded7 = files.upload()"
      ],
      "execution_count": null,
      "outputs": []
    },
    {
      "cell_type": "code",
      "metadata": {
        "id": "X8HBzIJLzimC"
      },
      "source": [
        "#Storing dataset in a Pandas Dataframe\n",
        "import io\n",
        "df7 = pd.read_excel(io.BytesIO(uploaded7['kaizen_db.xlsx']))"
      ],
      "execution_count": 4,
      "outputs": []
    },
    {
      "cell_type": "code",
      "metadata": {
        "id": "Vcrj1h9dzimC",
        "colab": {
          "base_uri": "https://localhost:8080/"
        },
        "outputId": "67c5cdd1-20ae-40ca-bf50-0cdb7b71de09"
      },
      "source": [
        "#Checking the dataframe info\n",
        "df7.info()"
      ],
      "execution_count": 5,
      "outputs": [
        {
          "output_type": "stream",
          "name": "stdout",
          "text": [
            "<class 'pandas.core.frame.DataFrame'>\n",
            "RangeIndex: 91 entries, 0 to 90\n",
            "Data columns (total 12 columns):\n",
            " #   Column       Non-Null Count  Dtype         \n",
            "---  ------       --------------  -----         \n",
            " 0   ID           91 non-null     int64         \n",
            " 1   Dato         91 non-null     datetime64[ns]\n",
            " 2   Navn         91 non-null     object        \n",
            " 3   Linje        91 non-null     object        \n",
            " 4   Område       91 non-null     object        \n",
            " 5   SGA_team     91 non-null     object        \n",
            " 6   Beskrivelse  91 non-null     object        \n",
            " 7   Løsning      91 non-null     object        \n",
            " 8   Kriterier    91 non-null     object        \n",
            " 9   Trinn        91 non-null     object        \n",
            " 10  Kommentar    62 non-null     object        \n",
            " 11  Ferdig       32 non-null     datetime64[ns]\n",
            "dtypes: datetime64[ns](2), int64(1), object(9)\n",
            "memory usage: 8.7+ KB\n"
          ]
        }
      ]
    },
    {
      "cell_type": "markdown",
      "metadata": {
        "id": "UQxqmErp1Ewn"
      },
      "source": [
        "##Data manipulation"
      ]
    },
    {
      "cell_type": "code",
      "metadata": {
        "id": "K9miq4gZ1GOa"
      },
      "source": [
        "#Creating categories from datetime\n",
        "df7 = df7.assign(Year = df7['Dato'].dt.year,\n",
        "                 Month = df7['Dato'].dt.month_name(),\n",
        "                 Weeknum = df7['Dato'].dt.isocalendar().week)"
      ],
      "execution_count": 6,
      "outputs": []
    },
    {
      "cell_type": "code",
      "metadata": {
        "id": "rhb0uvTF6fTv"
      },
      "source": [
        "#Creating list of categories\n",
        "year_list = list(df7['Year'].unique())\n",
        "#month_list = ['January', 'February', 'March', 'April', 'May', 'June', 'Jul', 'August', 'September', 'October', 'Novemeber', 'December']\n",
        "month_list = list(df7['Month'].unique())\n",
        "line_list = list(df7['Linje'].unique())\n",
        "sga_list = list(sorted(df7['SGA_team'].unique()))\n",
        "cat_list = list(sorted(df7['Trinn'].unique(), reverse=True))"
      ],
      "execution_count": 7,
      "outputs": []
    },
    {
      "cell_type": "markdown",
      "metadata": {
        "id": "A6uuriGJ0R1L"
      },
      "source": [
        "##Kaizens by Line and Year"
      ]
    },
    {
      "cell_type": "code",
      "metadata": {
        "id": "HWBED6-80bmI",
        "colab": {
          "base_uri": "https://localhost:8080/",
          "height": 451,
          "referenced_widgets": [
            "5b19c583c22f4cadb953975e99c57f3f",
            "d8762888b5ca4461859c195924777b1c",
            "347eabf664ea45c2bf8a24a1a7dcf0fc",
            "27cffa089fcd429eb2740c6c232c0b7b",
            "302a8ba101c64b499ee9a8d329196fcc",
            "2751a6cf5d7844ef80706cb1cb31fb1d",
            "19c66f1f1bdd4bb7a5e3e99daeb4b041",
            "78b8ebef9b53489a9d00422262bba763",
            "9e229cebdd014ded87ef922c80eb9b1e",
            "e555608c07724580a40f02ef5bdf279d",
            "2d2bbfd4295644b58a51e6d9d5c6f494",
            "bd27be933cad4f19b59a75dcf45f49fc",
            "7e815c4cacbf4c31846b60abb9756a3e"
          ]
        },
        "outputId": "dcb1329e-817b-4315-eaa6-75bae9a63e2a"
      },
      "source": [
        "#Creating interactive visualization\n",
        "@interact(Year=year_list, Line=line_list, Cat=cat_list)\n",
        "def plot_kaizen_by_year(Year, Line, Cat):\n",
        "  df = df7[(df7['Year']==Year) & (df7['Linje']==Line) & (df7['Trinn']==Cat)].copy()\n",
        "  sns.countplot(x='Month', data=df, order=month_list, palette='Set3')\n",
        "  plt.title(f'{Year} - Line: {Line} - Implemented Kaizens per Month')\n",
        "  plt.yticks(np.arange(0, 16, 2))\n",
        "  plt.axhline(8, color='purple', linestyle='-')\n",
        "  plt.show()"
      ],
      "execution_count": 8,
      "outputs": [
        {
          "output_type": "display_data",
          "data": {
            "application/vnd.jupyter.widget-view+json": {
              "model_id": "5b19c583c22f4cadb953975e99c57f3f",
              "version_minor": 0,
              "version_major": 2
            },
            "text/plain": [
              "interactive(children=(Dropdown(description='Year', options=(2021,), value=2021), Dropdown(description='Line', …"
            ]
          },
          "metadata": {}
        }
      ]
    },
    {
      "cell_type": "markdown",
      "metadata": {
        "id": "dhSyQepmP12M"
      },
      "source": [
        "##Kaizen by Month and SGA"
      ]
    },
    {
      "cell_type": "code",
      "metadata": {
        "id": "fzfZW09GP3rx",
        "colab": {
          "base_uri": "https://localhost:8080/",
          "height": 481,
          "referenced_widgets": [
            "981d1d243b1f4c229c61d30c58da4371",
            "821566ea12e649cfb3c1fe6dfbc9dc29",
            "039cb004a3d84ef2b7316b581ebfe04f",
            "a6c836ce35ff407fa28ae435632b7c3c",
            "17392f5e55df4b4da7dc8e091c6f3e61",
            "0abdee06e909450db0ad58aecfaa842b",
            "3e21b01312dc46b790611bf033667fe8",
            "f77aa73ec6f24146941d5b085d267526",
            "e02f07a7459c485ea42b93348cb37f64",
            "088618a3d1a4466189f07d487392503d",
            "7e2d6c1cca2e49b9a4829c665a6cba8b",
            "31568689976043ea96bbd9d1a34efd86",
            "8af1b4575f414a988ae3c2c8c9650bb3"
          ]
        },
        "outputId": "96893c33-0625-4061-99fc-855546a4647d"
      },
      "source": [
        "#Creating interactive visualization\n",
        "@interact(Year=year_list, Line=line_list, Cat=cat_list)\n",
        "def plot_kaizen_month_sga(Year, Line, Cat):\n",
        "  df = df7[(df7['Year']==Year) & (df7['Linje']==Line) & (df7['Trinn']==Cat)].copy()\n",
        "  sns.countplot(x='Month', data=df, order=month_list, hue='Kriterier', palette='Set3')\n",
        "  plt.title(f'{Year} - Line: {Line} - Kaizens per month and Category')\n",
        "  plt.yticks(np.arange(0, 8, 1))\n",
        "  #plt.axhline(2, color='purple', linestyle='-')\n",
        "  plt.xticks(rotation=30)\n",
        "  plt.legend(bbox_to_anchor=(1.05, 1)) #==> Set legend outside the chart\n",
        "  plt.show()"
      ],
      "execution_count": 12,
      "outputs": [
        {
          "output_type": "display_data",
          "data": {
            "application/vnd.jupyter.widget-view+json": {
              "model_id": "981d1d243b1f4c229c61d30c58da4371",
              "version_minor": 0,
              "version_major": 2
            },
            "text/plain": [
              "interactive(children=(Dropdown(description='Year', options=(2021,), value=2021), Dropdown(description='Line', …"
            ]
          },
          "metadata": {}
        }
      ]
    },
    {
      "cell_type": "markdown",
      "metadata": {
        "id": "vsSJyV-s6trf"
      },
      "source": [
        "##Kaizen Engagement by SGA"
      ]
    },
    {
      "cell_type": "code",
      "metadata": {
        "id": "LkF61PR60YQw",
        "colab": {
          "base_uri": "https://localhost:8080/",
          "height": 515,
          "referenced_widgets": [
            "ceba0d311b5343eebc708bfef0a99c29",
            "e2229de073664ca394b51068c3c41071",
            "e37eb754ad3b4918903fe2589e96cd73",
            "76c7ef7a5cee49b7833925b4316eb4c5",
            "2f0fdac48c2248e086daf5103bd3e194",
            "fd1a783a7b4346e6b0ac9d6c786e7350",
            "bde3373883da4fe5af35cb119ac19575",
            "00141956ed264bec9f0892455dc37f60",
            "9f77d2716e614b8c844f96dc4e97a941",
            "25d9556838f34fe8954013addd7345dd",
            "994ae7e932bc4eaea5998a399609f13d",
            "e9574a72ff004105860e9da8f9d42300",
            "5c85d82630264d4582ddd1d3b45113d1",
            "c075e115a0a340b49f581b106eedbaa5",
            "354a8d38b7154858ba6bac03354bc55e",
            "7eccb115e9d344b0998e274713c20bdf"
          ]
        },
        "outputId": "85182bfe-908c-4824-d945-e856304ce3c5"
      },
      "source": [
        "#Creating interactive visualization\n",
        "@interact(Year=year_list, Line=line_list, SGA=sga_list, Cat=cat_list)\n",
        "def plot_kaizen_sga(Year, Line, SGA, Cat):\n",
        "  df = df7[(df7['Year']==Year) & (df7['Linje']==Line) & (df7['SGA_team']==SGA) & (df7['Trinn']==Cat)].copy()\n",
        "  sns.countplot(x='Navn', data=df, palette='Set3')\n",
        "  plt.title(f'{Year} - {Line} Implemented Kaizens & Engagement by SGA: {SGA}')\n",
        "  plt.yticks(np.arange(0, 10, 1))\n",
        "  plt.axhline(6, color='purple', linestyle='-')\n",
        "  plt.xticks(rotation=30)\n",
        "  #plt.legend(bbox_to_anchor=(1.25, 1)) #==> Set legend outside the chart\n",
        "  plt.show()"
      ],
      "execution_count": 15,
      "outputs": [
        {
          "output_type": "display_data",
          "data": {
            "application/vnd.jupyter.widget-view+json": {
              "model_id": "ceba0d311b5343eebc708bfef0a99c29",
              "version_minor": 0,
              "version_major": 2
            },
            "text/plain": [
              "interactive(children=(Dropdown(description='Year', options=(2021,), value=2021), Dropdown(description='Line', …"
            ]
          },
          "metadata": {}
        }
      ]
    }
  ]
}