{
  "nbformat": 4,
  "nbformat_minor": 0,
  "metadata": {
    "colab": {
      "name": "online_learning_analytics.ipynb",
      "provenance": [],
      "collapsed_sections": [
        "eTZwpRZNRhGY",
        "sgzkv1LwjLIL"
      ],
      "authorship_tag": "ABX9TyP50tLgdJE7vxP3Xi0VmLo9",
      "include_colab_link": true
    },
    "kernelspec": {
      "name": "python3",
      "display_name": "Python 3"
    },
    "language_info": {
      "name": "python"
    }
  },
  "cells": [
    {
      "cell_type": "markdown",
      "metadata": {
        "id": "view-in-github",
        "colab_type": "text"
      },
      "source": [
        "<a href=\"https://colab.research.google.com/github/gabrielborja/python_data_analysis/blob/main/online_learning_analytics.ipynb\" target=\"_parent\"><img src=\"https://colab.research.google.com/assets/colab-badge.svg\" alt=\"Open In Colab\"/></a>"
      ]
    },
    {
      "cell_type": "markdown",
      "metadata": {
        "id": "eTZwpRZNRhGY"
      },
      "source": [
        "#Udacity courses analytics"
      ]
    },
    {
      "cell_type": "markdown",
      "metadata": {
        "id": "urSYFOWesvzU"
      },
      "source": [
        "Data about Udacity courses and programs can be found [here](https://www.udacity.com/courses/all?type=free%20courses)"
      ]
    },
    {
      "cell_type": "markdown",
      "metadata": {
        "id": "sgzkv1LwjLIL"
      },
      "source": [
        "## Uploading packages and data"
      ]
    },
    {
      "cell_type": "code",
      "metadata": {
        "id": "QTRtRZcb-IyF"
      },
      "source": [
        "#Importing HTTP libraries\n",
        "from bs4 import BeautifulSoup as bs"
      ],
      "execution_count": null,
      "outputs": []
    },
    {
      "cell_type": "code",
      "metadata": {
        "id": "RHzc7K6UJDvR"
      },
      "source": [
        "#Importing data manipulation libraries\n",
        "import numpy as np\n",
        "import pandas as pd"
      ],
      "execution_count": null,
      "outputs": []
    },
    {
      "cell_type": "markdown",
      "metadata": {
        "id": "Qd76FNGixVGx"
      },
      "source": [
        "##Retrieving data from URL"
      ]
    },
    {
      "cell_type": "code",
      "metadata": {
        "id": "xExcpQlw5DkI"
      },
      "source": [
        "#Removing previous version of the file\n",
        "!rm udacity.txt"
      ],
      "execution_count": null,
      "outputs": []
    },
    {
      "cell_type": "code",
      "metadata": {
        "id": "oen97ED1-rh-",
        "colab": {
          "resources": {
            "http://localhost:8080/nbextensions/google.colab/files.js": {
              "data": "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",
              "ok": true,
              "headers": [
                [
                  "content-type",
                  "application/javascript"
                ]
              ],
              "status": 200,
              "status_text": ""
            }
          },
          "base_uri": "https://localhost:8080/",
          "height": 73
        },
        "outputId": "0fa87cce-4e86-4cf6-eb34-2b46757f8571"
      },
      "source": [
        "#Uploading file from local drive\n",
        "from google.colab import files\n",
        "my_text_1 = files.upload()"
      ],
      "execution_count": null,
      "outputs": [
        {
          "output_type": "display_data",
          "data": {
            "text/html": [
              "\n",
              "     <input type=\"file\" id=\"files-ff67d228-2cc5-4419-b066-eedbda3be560\" name=\"files[]\" multiple disabled\n",
              "        style=\"border:none\" />\n",
              "     <output id=\"result-ff67d228-2cc5-4419-b066-eedbda3be560\">\n",
              "      Upload widget is only available when the cell has been executed in the\n",
              "      current browser session. Please rerun this cell to enable.\n",
              "      </output>\n",
              "      <script src=\"/nbextensions/google.colab/files.js\"></script> "
            ],
            "text/plain": [
              "<IPython.core.display.HTML object>"
            ]
          },
          "metadata": {
            "tags": []
          }
        },
        {
          "output_type": "stream",
          "text": [
            "Saving udacity.txt to udacity.txt\n"
          ],
          "name": "stdout"
        }
      ]
    },
    {
      "cell_type": "code",
      "metadata": {
        "id": "NI9MspcGZSP7"
      },
      "source": [
        "#Extracting html from txt file\n",
        "html1 = my_text_1['udacity.txt']"
      ],
      "execution_count": null,
      "outputs": []
    },
    {
      "cell_type": "code",
      "metadata": {
        "id": "W1pXcNFlFXFP"
      },
      "source": [
        "#Create a function to retrieve data from given URL\n",
        "def get_courses(url):\n",
        "  \"\"\"Retrieve data from given URL and return a dataframe\"\"\"\n",
        "  \n",
        "  #Get data and parse with BeautifulSoup\n",
        "  try:\n",
        "    soup = bs(url, 'html.parser')\n",
        "    \n",
        "    #Save retrieved data to lists\n",
        "    d1_names = [i.text for i in soup.find_all('h2')]\n",
        "    d1_schools = [i.text for i in soup.find_all('h3')]\n",
        "    d1_description = [i.p.text for i in soup.find_all(class_='card_body__1fi66')]\n",
        "    d1_skills = [i.p.text if i.p != None else None for i in soup.find_all(class_='card_overview__G6gIz')]\n",
        "    d1_flag = [i.small.text if i.small != None else 'New' for i in soup.find_all(class_='card_container__aBcfz')]\n",
        "    d1_level = [i.li.text if i.li.text != '' else 'beginner' for i in soup.find_all(class_='card_stats__StvYz')]\n",
        "    d1_duration = [i.text for i in soup.find_all(attrs={'data-duration': True})]\n",
        "    d1_url = ['https://www.udacity.com' + i.a['href'] for i in soup.find_all(class_='card-list_catalogCardListItem__aUQtx')]\n",
        "    \n",
        "    #Save data to dataframe\n",
        "    df = pd.DataFrame()\n",
        "    df = df.assign(name=d1_names, school=d1_schools, description=d1_description,\n",
        "                   skills = d1_skills, flag=d1_flag, level=d1_level,\n",
        "                   duration= d1_duration, url=d1_url)\n",
        "    return df\n",
        "\n",
        "  except TypeError:\n",
        "    print('TypeError')"
      ],
      "execution_count": null,
      "outputs": []
    },
    {
      "cell_type": "code",
      "metadata": {
        "colab": {
          "base_uri": "https://localhost:8080/",
          "height": 286
        },
        "id": "oey_xPqFa_FW",
        "outputId": "50908c81-9514-4e05-930f-9b661b82c695"
      },
      "source": [
        "#Generating a dataframe from url\n",
        "df1 = get_courses(html1)\n",
        "df1.tail(5)"
      ],
      "execution_count": null,
      "outputs": [
        {
          "output_type": "execute_result",
          "data": {
            "text/html": [
              "<div>\n",
              "<style scoped>\n",
              "    .dataframe tbody tr th:only-of-type {\n",
              "        vertical-align: middle;\n",
              "    }\n",
              "\n",
              "    .dataframe tbody tr th {\n",
              "        vertical-align: top;\n",
              "    }\n",
              "\n",
              "    .dataframe thead th {\n",
              "        text-align: right;\n",
              "    }\n",
              "</style>\n",
              "<table border=\"1\" class=\"dataframe\">\n",
              "  <thead>\n",
              "    <tr style=\"text-align: right;\">\n",
              "      <th></th>\n",
              "      <th>name</th>\n",
              "      <th>school</th>\n",
              "      <th>description</th>\n",
              "      <th>skills</th>\n",
              "      <th>flag</th>\n",
              "      <th>level</th>\n",
              "      <th>duration</th>\n",
              "      <th>url</th>\n",
              "    </tr>\n",
              "  </thead>\n",
              "  <tbody>\n",
              "    <tr>\n",
              "      <th>259</th>\n",
              "      <td>Front-End Interview Prep</td>\n",
              "      <td>Career Advancement</td>\n",
              "      <td>Answer front-end technical and behavioral inte...</td>\n",
              "      <td>Interview questions, Common FE Questions, Whit...</td>\n",
              "      <td>Free</td>\n",
              "      <td>intermediate</td>\n",
              "      <td>1 Week</td>\n",
              "      <td>https://www.udacity.com/course/front-end-inter...</td>\n",
              "    </tr>\n",
              "    <tr>\n",
              "      <th>260</th>\n",
              "      <td>Full-Stack Interview Prep</td>\n",
              "      <td>Career Advancement</td>\n",
              "      <td>Answer common full stack and web security inte...</td>\n",
              "      <td>Interview practice, Common FS Questions, White...</td>\n",
              "      <td>Free</td>\n",
              "      <td>intermediate</td>\n",
              "      <td>1 Week</td>\n",
              "      <td>https://www.udacity.com/course/full-stack-inte...</td>\n",
              "    </tr>\n",
              "    <tr>\n",
              "      <th>261</th>\n",
              "      <td>Data Structures &amp; Algorithms in Swift</td>\n",
              "      <td>Career Advancement</td>\n",
              "      <td>Review and practice the skills technical inter...</td>\n",
              "      <td>Interview practice, Swift, Data structures, Ca...</td>\n",
              "      <td>Free</td>\n",
              "      <td>intermediate</td>\n",
              "      <td>4 Weeks</td>\n",
              "      <td>https://www.udacity.com/course/data-structures...</td>\n",
              "    </tr>\n",
              "    <tr>\n",
              "      <th>262</th>\n",
              "      <td>iOS Interview Prep</td>\n",
              "      <td>Career Advancement</td>\n",
              "      <td>Answer iOS and mobile development interview qu...</td>\n",
              "      <td>Interview practice, Common iOS Questions, Whit...</td>\n",
              "      <td>Free</td>\n",
              "      <td>intermediate</td>\n",
              "      <td>1 Week</td>\n",
              "      <td>https://www.udacity.com/course/ios-interview-p...</td>\n",
              "    </tr>\n",
              "    <tr>\n",
              "      <th>263</th>\n",
              "      <td>VR Interview Prep</td>\n",
              "      <td>Career Advancement</td>\n",
              "      <td>Learn how to tackle interview questions for te...</td>\n",
              "      <td>Interview practice, Common VR Questions, White...</td>\n",
              "      <td>Free</td>\n",
              "      <td>intermediate</td>\n",
              "      <td>1 Week</td>\n",
              "      <td>https://www.udacity.com/course/vr-interview-pr...</td>\n",
              "    </tr>\n",
              "  </tbody>\n",
              "</table>\n",
              "</div>"
            ],
            "text/plain": [
              "                                      name  ...                                                url\n",
              "259               Front-End Interview Prep  ...  https://www.udacity.com/course/front-end-inter...\n",
              "260              Full-Stack Interview Prep  ...  https://www.udacity.com/course/full-stack-inte...\n",
              "261  Data Structures & Algorithms in Swift  ...  https://www.udacity.com/course/data-structures...\n",
              "262                     iOS Interview Prep  ...  https://www.udacity.com/course/ios-interview-p...\n",
              "263                      VR Interview Prep  ...  https://www.udacity.com/course/vr-interview-pr...\n",
              "\n",
              "[5 rows x 8 columns]"
            ]
          },
          "metadata": {
            "tags": []
          },
          "execution_count": 206
        }
      ]
    },
    {
      "cell_type": "code",
      "metadata": {
        "colab": {
          "base_uri": "https://localhost:8080/"
        },
        "id": "IdjX2lPr7oCe",
        "outputId": "c1df8ea2-c4f1-4cfd-d4b3-45381447c7e2"
      },
      "source": [
        "#Checking if there are missing values in any column\n",
        "df1[df1.isna()].sum()"
      ],
      "execution_count": null,
      "outputs": [
        {
          "output_type": "execute_result",
          "data": {
            "text/plain": [
              "name           0.0\n",
              "school         0.0\n",
              "description    0.0\n",
              "skills         0.0\n",
              "flag           0.0\n",
              "level          0.0\n",
              "duration       0.0\n",
              "url            0.0\n",
              "dtype: float64"
            ]
          },
          "metadata": {
            "tags": []
          },
          "execution_count": 209
        }
      ]
    },
    {
      "cell_type": "code",
      "metadata": {
        "colab": {
          "base_uri": "https://localhost:8080/"
        },
        "id": "x4-LqSaZDkLI",
        "outputId": "d456bf4d-d22b-46cf-c3d1-a2d3f1e24e20"
      },
      "source": [
        "#Checking for unique values in given column\n",
        "df1['duration'].unique()"
      ],
      "execution_count": null,
      "outputs": [
        {
          "output_type": "execute_result",
          "data": {
            "text/plain": [
              "array(['5 Months', '4 Months', '3 Months', '6 Months', '2 Months',\n",
              "       '12 Weeks', '160 Hours', '1 Month', '16 Weeks', '4 Weeks', '',\n",
              "       '8 Weeks', '7 Weeks', '2 Weeks', '1 Week', '10 Weeks', '3 Weeks',\n",
              "       '1 Hour', '6 Weeks', '10 Hours', '1 Day', '5 Weeks', '3 Days',\n",
              "       '2 Days', '7 Days', '60 Hours', '6 Days'], dtype=object)"
            ]
          },
          "metadata": {
            "tags": []
          },
          "execution_count": 185
        }
      ]
    },
    {
      "cell_type": "code",
      "metadata": {
        "id": "1wXsgb8cJZqF",
        "colab": {
          "base_uri": "https://localhost:8080/",
          "height": 17
        },
        "outputId": "9340cc1e-5e9e-48b2-8eed-5d04a7006be8"
      },
      "source": [
        "#Exporting to excel into local disk\n",
        "from google.colab import files\n",
        "df1.to_excel('2021_udacity_courses.xlsx', index=False) #==> Excluding index from file\n",
        "files.download('2021_udacity_courses.xlsx')"
      ],
      "execution_count": null,
      "outputs": [
        {
          "output_type": "display_data",
          "data": {
            "application/javascript": [
              "\n",
              "    async function download(id, filename, size) {\n",
              "      if (!google.colab.kernel.accessAllowed) {\n",
              "        return;\n",
              "      }\n",
              "      const div = document.createElement('div');\n",
              "      const label = document.createElement('label');\n",
              "      label.textContent = `Downloading \"${filename}\": `;\n",
              "      div.appendChild(label);\n",
              "      const progress = document.createElement('progress');\n",
              "      progress.max = size;\n",
              "      div.appendChild(progress);\n",
              "      document.body.appendChild(div);\n",
              "\n",
              "      const buffers = [];\n",
              "      let downloaded = 0;\n",
              "\n",
              "      const channel = await google.colab.kernel.comms.open(id);\n",
              "      // Send a message to notify the kernel that we're ready.\n",
              "      channel.send({})\n",
              "\n",
              "      for await (const message of channel.messages) {\n",
              "        // Send a message to notify the kernel that we're ready.\n",
              "        channel.send({})\n",
              "        if (message.buffers) {\n",
              "          for (const buffer of message.buffers) {\n",
              "            buffers.push(buffer);\n",
              "            downloaded += buffer.byteLength;\n",
              "            progress.value = downloaded;\n",
              "          }\n",
              "        }\n",
              "      }\n",
              "      const blob = new Blob(buffers, {type: 'application/binary'});\n",
              "      const a = document.createElement('a');\n",
              "      a.href = window.URL.createObjectURL(blob);\n",
              "      a.download = filename;\n",
              "      div.appendChild(a);\n",
              "      a.click();\n",
              "      div.remove();\n",
              "    }\n",
              "  "
            ],
            "text/plain": [
              "<IPython.core.display.Javascript object>"
            ]
          },
          "metadata": {
            "tags": []
          }
        },
        {
          "output_type": "display_data",
          "data": {
            "application/javascript": [
              "download(\"download_4462ab78-791a-478d-a9c5-3aa0d0cbcd20\", \"2021_udacity_courses.xlsx\", 40128)"
            ],
            "text/plain": [
              "<IPython.core.display.Javascript object>"
            ]
          },
          "metadata": {
            "tags": []
          }
        }
      ]
    },
    {
      "cell_type": "markdown",
      "metadata": {
        "id": "ivxmi9lEVHZ5"
      },
      "source": [
        "#Udemy courses finder"
      ]
    },
    {
      "cell_type": "markdown",
      "metadata": {
        "id": "r6-48a6dVHZ6"
      },
      "source": [
        "Data about Udemy courses with discount coupons can be found [here](https://yofreesamples.com/courses/free-discounted-udemy-courses-list/)"
      ]
    },
    {
      "cell_type": "markdown",
      "metadata": {
        "id": "np52b4DuVHZ6"
      },
      "source": [
        "## Uploading packages and data"
      ]
    },
    {
      "cell_type": "code",
      "metadata": {
        "id": "HTo5HI5LVHZ7"
      },
      "source": [
        "#Importing HTTP libraries\n",
        "import requests\n",
        "from bs4 import BeautifulSoup as bs"
      ],
      "execution_count": null,
      "outputs": []
    },
    {
      "cell_type": "code",
      "metadata": {
        "id": "MUNdYpNXVHZ7"
      },
      "source": [
        "#Importing data manipulation libraries\n",
        "import numpy as np\n",
        "import pandas as pd\n",
        "from time import sleep\n",
        "from random import randint\n",
        "from collections import Counter"
      ],
      "execution_count": null,
      "outputs": []
    },
    {
      "cell_type": "markdown",
      "metadata": {
        "id": "HheRzZ-DVHZ7"
      },
      "source": [
        "##Scraping courses from URL"
      ]
    },
    {
      "cell_type": "code",
      "metadata": {
        "id": "pkIYvuwKVHZ9"
      },
      "source": [
        "#Create a function to retrieve data from given URL\n",
        "def find_udemy_courses(url):\n",
        "  \"\"\"Retrieve udemy courses from given URL and return a dataframe\"\"\"\n",
        "  \n",
        "  #Get data and parse with BeautifulSoup\n",
        "  try:\n",
        "    sleep(randint(5,9))\n",
        "    response = requests.get(url)\n",
        "    print(response)\n",
        "    if response.status_code == 200:\n",
        "      soup = bs(response.text, 'html.parser')\n",
        "      \n",
        "      #Save retrieved data to lists\n",
        "      d2_categories = [list(i)[1].replace('.', '').strip() for i in soup.find_all('p') if 'Category:' in i.text]\n",
        "      d2_names = [i.text for i in soup.find_all(class_='course_title')]\n",
        "      d2_urls = [i['href'] for i in soup.find_all(class_='course_title')]\n",
        "      d2_ratings = [i.text.split(' ')[1] for i in soup.find_all('p') if 'Rating:' in i.text]\n",
        "      d2_date = soup.find('h1').text.split('–')[1].strip()\n",
        "      \n",
        "      #Save data to dataframe\n",
        "      df = pd.DataFrame()\n",
        "      df = df.assign(category=d2_categories, name=d2_names,\n",
        "                    url=d2_urls, rating=d2_ratings, date=d2_date)\n",
        "      return df\n",
        "    \n",
        "    else:\n",
        "      return pd.DataFrame({'Response': [str(response.status_code)]})\n",
        "\n",
        "  except TypeError:\n",
        "    print('TypeError')"
      ],
      "execution_count": null,
      "outputs": []
    },
    {
      "cell_type": "code",
      "metadata": {
        "id": "n-kihuPAVHZ-",
        "colab": {
          "base_uri": "https://localhost:8080/"
        },
        "outputId": "b196f90c-3275-4906-de4b-f52e3c1cb068"
      },
      "source": [
        "#Generating a dataframe of courses from url\n",
        "url = 'https://yofreesamples.com/courses/free-discounted-udemy-courses-list/'\n",
        "\n",
        "df2 = find_udemy_courses(url)"
      ],
      "execution_count": null,
      "outputs": [
        {
          "output_type": "stream",
          "text": [
            "<Response [403]>\n"
          ],
          "name": "stdout"
        }
      ]
    },
    {
      "cell_type": "code",
      "metadata": {
        "id": "8MnIGqyiXWvw"
      },
      "source": [
        "#Converting column to datetime\n",
        "df2['date'] = pd.to_datetime(df2['date'])\n",
        "df2.tail()"
      ],
      "execution_count": null,
      "outputs": []
    },
    {
      "cell_type": "code",
      "metadata": {
        "colab": {
          "base_uri": "https://localhost:8080/",
          "height": 52
        },
        "id": "TTe1dSHnYUgw",
        "outputId": "03954cbc-1969-4212-b91b-18705ef1b5a0"
      },
      "source": [
        "#Counting values from unique categories\n",
        "categ_2 = Counter(df2['category'])\n",
        "repr(categ_2)"
      ],
      "execution_count": null,
      "outputs": [
        {
          "output_type": "execute_result",
          "data": {
            "application/vnd.google.colaboratory.intrinsic+json": {
              "type": "string"
            },
            "text/plain": [
              "\"Counter({'Business': 21, 'Marketing': 19, 'Development': 17, 'IT & Software': 15, 'Finance & Accounting': 10, 'Design': 7, 'Office Productivity': 5, 'Personal Development': 5, 'Teaching & Academics': 3, 'Health & Fitness': 3})\""
            ]
          },
          "metadata": {},
          "execution_count": 15
        }
      ]
    },
    {
      "cell_type": "code",
      "metadata": {
        "colab": {
          "base_uri": "https://localhost:8080/",
          "height": 294
        },
        "id": "V_ryS9RZn1lv",
        "outputId": "53f51637-1c58-472b-b39c-092ebdd4cc5b"
      },
      "source": [
        "#Filtering only data science courses\n",
        "dsc_list = ['Artificial', 'Machine', 'Deep', 'Data', 'SQL', 'Spark', 'Azure']\n",
        "df2_dsc = df2[(df2['name'].str.contains('Python|python', regex=True))].reset_index(drop=True)\n",
        "              #(df2['name'].str.contains('|'.join(dsc_list), regex=True))].reset_index(drop=True)\n",
        "df2_dsc"
      ],
      "execution_count": null,
      "outputs": [
        {
          "output_type": "execute_result",
          "data": {
            "text/html": [
              "<div>\n",
              "<style scoped>\n",
              "    .dataframe tbody tr th:only-of-type {\n",
              "        vertical-align: middle;\n",
              "    }\n",
              "\n",
              "    .dataframe tbody tr th {\n",
              "        vertical-align: top;\n",
              "    }\n",
              "\n",
              "    .dataframe thead th {\n",
              "        text-align: right;\n",
              "    }\n",
              "</style>\n",
              "<table border=\"1\" class=\"dataframe\">\n",
              "  <thead>\n",
              "    <tr style=\"text-align: right;\">\n",
              "      <th></th>\n",
              "      <th>category</th>\n",
              "      <th>name</th>\n",
              "      <th>url</th>\n",
              "      <th>rating</th>\n",
              "      <th>date</th>\n",
              "    </tr>\n",
              "  </thead>\n",
              "  <tbody>\n",
              "    <tr>\n",
              "      <th>0</th>\n",
              "      <td>IT &amp; Software</td>\n",
              "      <td>Python para no matemáticos: De 0 hasta reconoc...</td>\n",
              "      <td>https://www.udemy.com/course/python-de-cero-ha...</td>\n",
              "      <td>4.5.</td>\n",
              "      <td>2021-08-24</td>\n",
              "    </tr>\n",
              "    <tr>\n",
              "      <th>1</th>\n",
              "      <td>Development</td>\n",
              "      <td>Python and Data Handling Libraries Fully Diplo...</td>\n",
              "      <td>https://www.udemy.com/course/mastering-python-...</td>\n",
              "      <td>4.4.</td>\n",
              "      <td>2021-08-24</td>\n",
              "    </tr>\n",
              "    <tr>\n",
              "      <th>2</th>\n",
              "      <td>Development</td>\n",
              "      <td>Python for beginners – Learn all the basics of...</td>\n",
              "      <td>https://www.udemy.com/course/python-for-beginn...</td>\n",
              "      <td>4.3.</td>\n",
              "      <td>2021-08-24</td>\n",
              "    </tr>\n",
              "    <tr>\n",
              "      <th>3</th>\n",
              "      <td>Development</td>\n",
              "      <td>Python | Proje ve Uygulama ile Sıfırdan Zirvey...</td>\n",
              "      <td>https://www.udemy.com/course/python-proje-ve-u...</td>\n",
              "      <td>4.8.</td>\n",
              "      <td>2021-08-24</td>\n",
              "    </tr>\n",
              "    <tr>\n",
              "      <th>4</th>\n",
              "      <td>Business</td>\n",
              "      <td>Decision Trees, Random Forests, AdaBoost &amp; XGB...</td>\n",
              "      <td>https://www.udemy.com/course/machine-learning-...</td>\n",
              "      <td>4.0.</td>\n",
              "      <td>2021-08-24</td>\n",
              "    </tr>\n",
              "    <tr>\n",
              "      <th>5</th>\n",
              "      <td>Development</td>\n",
              "      <td>The Python Programming A-Z Definitive Diploma ...</td>\n",
              "      <td>https://www.udemy.com/course/the-ultimate-pyth...</td>\n",
              "      <td>4.3.</td>\n",
              "      <td>2021-08-24</td>\n",
              "    </tr>\n",
              "    <tr>\n",
              "      <th>6</th>\n",
              "      <td>IT &amp; Software</td>\n",
              "      <td>Python Bootcamp 2021 Build 15 working Applicat...</td>\n",
              "      <td>https://www.udemy.com/course/python-complete-b...</td>\n",
              "      <td>4.4.</td>\n",
              "      <td>2021-08-24</td>\n",
              "    </tr>\n",
              "    <tr>\n",
              "      <th>7</th>\n",
              "      <td>Development</td>\n",
              "      <td>The Python Developer Essentials 2021 Immersive...</td>\n",
              "      <td>https://www.udemy.com/course/new-python-progra...</td>\n",
              "      <td>4.4.</td>\n",
              "      <td>2021-08-24</td>\n",
              "    </tr>\n",
              "  </tbody>\n",
              "</table>\n",
              "</div>"
            ],
            "text/plain": [
              "        category  ...       date\n",
              "0  IT & Software  ... 2021-08-24\n",
              "1    Development  ... 2021-08-24\n",
              "2    Development  ... 2021-08-24\n",
              "3    Development  ... 2021-08-24\n",
              "4       Business  ... 2021-08-24\n",
              "5    Development  ... 2021-08-24\n",
              "6  IT & Software  ... 2021-08-24\n",
              "7    Development  ... 2021-08-24\n",
              "\n",
              "[8 rows x 5 columns]"
            ]
          },
          "metadata": {},
          "execution_count": 16
        }
      ]
    },
    {
      "cell_type": "code",
      "metadata": {
        "colab": {
          "base_uri": "https://localhost:8080/",
          "height": 35
        },
        "id": "dmFzfni3qbPa",
        "outputId": "33053720-31fa-40e4-864e-dbb29f04452b"
      },
      "source": [
        "#Extracting URL of desired course\n",
        "df2_dsc['url'][0]"
      ],
      "execution_count": null,
      "outputs": [
        {
          "output_type": "execute_result",
          "data": {
            "application/vnd.google.colaboratory.intrinsic+json": {
              "type": "string"
            },
            "text/plain": [
              "'https://www.udemy.com/course/machine-learning-advanced-decision-trees-in-python/?couponCode=DTPYAUFR1'"
            ]
          },
          "metadata": {},
          "execution_count": 8
        }
      ]
    },
    {
      "cell_type": "markdown",
      "metadata": {
        "id": "yjNM_zSjVn-Z"
      },
      "source": [
        "#Scraping of certifications and courses"
      ]
    },
    {
      "cell_type": "markdown",
      "metadata": {
        "id": "felNxsP6Vn-Z"
      },
      "source": [
        "Scraping data and prices from several online courses"
      ]
    },
    {
      "cell_type": "markdown",
      "metadata": {
        "id": "LonXECR_Vn-Z"
      },
      "source": [
        "## Uploading packages and data"
      ]
    },
    {
      "cell_type": "code",
      "metadata": {
        "id": "moOxQRDtVn-a"
      },
      "source": [
        "#Importing HTTP libraries\n",
        "import requests\n",
        "from bs4 import BeautifulSoup as bs"
      ],
      "execution_count": 1,
      "outputs": []
    },
    {
      "cell_type": "code",
      "metadata": {
        "id": "UUBOsUNPVn-a"
      },
      "source": [
        "#Importing data manipulation libraries\n",
        "import numpy as np\n",
        "import pandas as pd\n",
        "from time import sleep\n",
        "from random import randint\n",
        "from collections import Counter"
      ],
      "execution_count": 2,
      "outputs": []
    },
    {
      "cell_type": "markdown",
      "metadata": {
        "id": "IQt0oMLAWyeQ"
      },
      "source": [
        "##Scraping courses"
      ]
    },
    {
      "cell_type": "code",
      "metadata": {
        "id": "kJVoyEkLWyeo"
      },
      "source": [
        "#Create a function to retrieve data from given URL\n",
        "def scrape_data_courses():\n",
        "  \"\"\"Retrieve data science courses from given URL and return a dictionary\"\"\"\n",
        "  \n",
        "  course_list = {'TinyML': {'Url': 'https://www.edx.org/professional-certificate/harvardx-tiny-machine-learning',\n",
        "                            'Attr': 'main d-flex flex-wrap'},\n",
        "                 'Data Engineer Udacity': {'Url': 'https://www.udacity.com/course/data-engineer-nanodegree--nd027',\n",
        "                                           'Attr': '_price-card_pricingTemplate__Am1WB'},\n",
        "                 'Data Engineering': {'Url': 'https://learndataengineering.com/p/academy',\n",
        "                                      'Attr': 'block__pricing__plan__price'},\n",
        "                 '100 Days of Python': {'Url': 'https://www.appbrewery.co/', 'Attr': 'btn btn-hg btn-primary btn-enroll'},\n",
        "                 'AZ-220 IoT Developer': {'Url': 'https://docs.microsoft.com/en-us/learn/certifications/azure-iot-developer-specialty/',\n",
        "                                          'Attr': 'font-size-h5'}\n",
        "                 }\n",
        "  my_courses = {}\n",
        "  \n",
        "  #Get data and parse with BeautifulSoup\n",
        "  for i in course_list.keys():\n",
        "    sleep(randint(3,10))\n",
        "    response = requests.get(course_list[i]['Url'])\n",
        "    print(f'{i}: {response}')\n",
        "    soup = bs(response.text, 'html.parser')\n",
        "      \n",
        "    #Save retrieved data to dictionary\n",
        "    if response.status_code == 200:\n",
        "      my_courses.update({i: n.text for n in soup.find_all(class_=course_list[i]['Attr'])})\n",
        "    else:\n",
        "      my_courses.update({i: str(response.status_code)})\n",
        "  \n",
        "  return my_courses"
      ],
      "execution_count": 3,
      "outputs": []
    },
    {
      "cell_type": "code",
      "metadata": {
        "colab": {
          "base_uri": "https://localhost:8080/"
        },
        "id": "csLQdZFfcYa2",
        "outputId": "d4e80ff2-a6c7-4525-fb15-fc3108d20ace"
      },
      "source": [
        "#Generating a list of dictionaries from a list of urls\n",
        "\n",
        "course_list = scrape_data_courses()"
      ],
      "execution_count": 4,
      "outputs": [
        {
          "output_type": "stream",
          "name": "stdout",
          "text": [
            "TinyML: <Response [200]>\n",
            "Data Engineer Udacity: <Response [200]>\n",
            "Data Engineering: <Response [200]>\n",
            "100 Days of Python: <Response [200]>\n",
            "AZ-220 IoT Developer: <Response [200]>\n"
          ]
        }
      ]
    },
    {
      "cell_type": "code",
      "metadata": {
        "colab": {
          "base_uri": "https://localhost:8080/"
        },
        "id": "osHSpJcMqdGr",
        "outputId": "3446e408-c90f-4bff-c415-67d57f00c829"
      },
      "source": [
        "#Printing the dictionary of scraped courses\n",
        "course_list"
      ],
      "execution_count": 5,
      "outputs": [
        {
          "output_type": "execute_result",
          "data": {
            "text/plain": [
              "{'100 Days of Python': 'Hurry Just $12.99 Today',\n",
              " 'AZ-220 IoT Developer': '',\n",
              " 'Data Engineer Udacity': '\\n\\n \\n\\n\\n\\nfor - access\\n\\n',\n",
              " 'Data Engineering': '3 payments of $80/month',\n",
              " 'TinyML': 'Discounted price: $537.30Pre-discounted price: $597USD'}"
            ]
          },
          "metadata": {},
          "execution_count": 5
        }
      ]
    }
  ]
}